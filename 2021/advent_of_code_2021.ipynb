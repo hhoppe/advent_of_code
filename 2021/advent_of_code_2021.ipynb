{
 "cells": [
  {
   "cell_type": "markdown",
   "id": "c239566e",
   "metadata": {},
   "source": [
    "# Advent of code 2021"
   ]
  },
  {
   "cell_type": "markdown",
   "id": "f819c4f7",
   "metadata": {},
   "source": [
    "[[**Open the notebook in Colab**]](https://colab.research.google.com/github/hhoppe/advent_of_code/blob/main/2021/advent_of_code_2021.ipynb)\n",
    "\n",
    "Jupyter [notebook](https://github.com/hhoppe/advent_of_code/blob/main/2021/advent_of_code_2021.ipynb)\n",
    "by [Hugues Hoppe](http://hhoppe.com/) with Python solutions to the\n",
    "[2021 Advent of Code puzzles](https://adventofcode.com/2021),\n",
    "completed in December 2021.\n",
    "\n",
    "See [reddit](https://www.reddit.com/r/adventofcode/comments/rtx354/advent_of_code_2021_notebook_of_compact_and_fast/?utm_source=share&utm_medium=web2x&context=3).\n",
    "\n",
    "We explore both \"compact\" and \"fast\" code versions, along with data visualizations.\n",
    "\n",
    "For the fast solutions, the [cumulative time](#timings) across all 25 puzzles is less than 1 s on my PC.<br/>\n",
    "(Some solutions use the `numba` package to jit-compile functions, which can take a few seconds.)\n",
    "\n",
    "Here are some visualization results (obtained by setting `SHOW_BIG_MEDIA = True`):\n",
    "\n",
    "<p>\n",
    "<a href=\"#day5\">day5</a><img src=\"https://github.com/hhoppe/advent_of_code/raw/main/2021/results/day05.png\" width=\"200\">&emsp;\n",
    "<a href=\"#day9\">day9</a><img src=\"https://github.com/hhoppe/advent_of_code/raw/main/2021/results/day09.gif\" width=\"200\">&emsp;\n",
    "<a href=\"#day11\">day11</a><img src=\"https://github.com/hhoppe/advent_of_code/raw/main/2021/results/day11.gif\" width=\"140\">\n",
    "</p>\n",
    "<p>\n",
    "<a href=\"#day13\">day13</a><img src=\"https://github.com/hhoppe/advent_of_code/raw/main/2021/results/day13.gif\" width=\"300\">&emsp;\n",
    "<a href=\"#day15\">day15</a><img src=\"https://github.com/hhoppe/advent_of_code/raw/main/2021/results/day15.gif\" width=\"200\">\n",
    "</p>\n",
    "<p>\n",
    "<a href=\"#day17\">day17</a><img src=\"https://github.com/hhoppe/advent_of_code/raw/main/2021/results/day17.png\" width=\"200\">&emsp;\n",
    "<a href=\"#day20\">day20</a><img src=\"https://github.com/hhoppe/advent_of_code/raw/main/2021/results/day20.gif\" width=\"200\">\n",
    "</p>\n",
    "<p>\n",
    "<a href=\"#day21\">day21</a><img src=\"https://github.com/hhoppe/advent_of_code/raw/main/2021/results/day21.png\" width=\"200\">&emsp;\n",
    "<a href=\"#day23\">day23</a><img src=\"https://github.com/hhoppe/advent_of_code/raw/main/2021/results/day23.gif\" width=\"200\">&emsp;\n",
    "<a href=\"#day25\">day25</a><img src=\"https://github.com/hhoppe/advent_of_code/raw/main/2021/results/day25.gif\" width=\"200\">\n",
    "</p>"
   ]
  },
  {
   "cell_type": "markdown",
   "id": "3d759f1d",
   "metadata": {},
   "source": [
    "<a name=\"preamble\"></a>\n",
    "## Preamble"
   ]
  },
  {
   "cell_type": "code",
   "execution_count": 1,
   "id": "e8e1f153",
   "metadata": {
    "execution": {
     "iopub.execute_input": "2023-01-11T00:31:46.985693Z",
     "iopub.status.busy": "2023-01-11T00:31:46.985577Z",
     "iopub.status.idle": "2023-01-11T00:31:47.096202Z",
     "shell.execute_reply": "2023-01-11T00:31:47.095263Z",
     "shell.execute_reply.started": "2023-01-11T00:31:46.985680Z"
    }
   },
   "outputs": [],
   "source": [
    "!command -v ffmpeg >/dev/null || (apt-get -qq update && apt-get -qq -y install ffmpeg) >/dev/null"
   ]
  },
  {
   "cell_type": "code",
   "execution_count": 2,
   "id": "aeee3349",
   "metadata": {
    "execution": {
     "iopub.execute_input": "2023-01-11T00:31:47.098319Z",
     "iopub.status.busy": "2023-01-11T00:31:47.098106Z",
     "iopub.status.idle": "2023-01-11T00:31:48.320997Z",
     "shell.execute_reply": "2023-01-11T00:31:48.320481Z",
     "shell.execute_reply.started": "2023-01-11T00:31:47.098306Z"
    }
   },
   "outputs": [],
   "source": [
    "!pip install -q advent-of-code-ocr advent-of-code-hhoppe hhoppe-tools mediapy more-itertools numba parse"
   ]
  },
  {
   "cell_type": "code",
   "execution_count": 3,
   "id": "b7672379",
   "metadata": {
    "execution": {
     "iopub.execute_input": "2023-01-11T00:31:48.321749Z",
     "iopub.status.busy": "2023-01-11T00:31:48.321586Z",
     "iopub.status.idle": "2023-01-11T00:31:48.732599Z",
     "shell.execute_reply": "2023-01-11T00:31:48.731919Z",
     "shell.execute_reply.started": "2023-01-11T00:31:48.321736Z"
    },
    "tags": []
   },
   "outputs": [],
   "source": [
    "from __future__ import annotations\n",
    "\n",
    "import ast\n",
    "import collections\n",
    "from collections.abc import Callable, Iterable, Iterator\n",
    "import copy\n",
    "import dataclasses\n",
    "import functools\n",
    "import heapq\n",
    "import itertools\n",
    "import math\n",
    "import os\n",
    "import sys\n",
    "import textwrap\n",
    "import types\n",
    "import typing\n",
    "from typing import Any, Generic, Tuple, TypeVar\n",
    "\n",
    "import advent_of_code_hhoppe  # https://github.com/hhoppe/advent-of-code-hhoppe/blob/main/advent_of_code_hhoppe/__init__.py\n",
    "import advent_of_code_ocr  # https://github.com/bsoyka/advent-of-code-ocr/blob/main/advent_of_code_ocr/__init__.py\n",
    "import hhoppe_tools as hh  # https://github.com/hhoppe/hhoppe-tools/blob/main/hhoppe_tools/__init__.py\n",
    "import matplotlib.pyplot as plt\n",
    "import mediapy as media\n",
    "import more_itertools\n",
    "import numpy as np\n",
    "import parse\n",
    "\n",
    "_T = TypeVar('_T')\n",
    "_T2 = TypeVar('_T2')  # pylint: disable=invalid-name"
   ]
  },
  {
   "cell_type": "code",
   "execution_count": 4,
   "id": "00c48f0e",
   "metadata": {
    "execution": {
     "iopub.execute_input": "2023-01-11T00:31:48.734320Z",
     "iopub.status.busy": "2023-01-11T00:31:48.733590Z",
     "iopub.status.idle": "2023-01-11T00:31:48.737421Z",
     "shell.execute_reply": "2023-01-11T00:31:48.736893Z",
     "shell.execute_reply.started": "2023-01-11T00:31:48.734303Z"
    }
   },
   "outputs": [],
   "source": [
    "if not media.video_is_available():\n",
    "  media.show_videos = lambda *a, **kw: print('Creating video is unavailable.')"
   ]
  },
  {
   "cell_type": "code",
   "execution_count": 5,
   "id": "2c688fa5",
   "metadata": {
    "execution": {
     "iopub.execute_input": "2023-01-11T00:31:48.738036Z",
     "iopub.status.busy": "2023-01-11T00:31:48.737912Z",
     "iopub.status.idle": "2023-01-11T00:31:48.747453Z",
     "shell.execute_reply": "2023-01-11T00:31:48.746828Z",
     "shell.execute_reply.started": "2023-01-11T00:31:48.738025Z"
    }
   },
   "outputs": [],
   "source": [
    "hh.start_timing_notebook_cells()"
   ]
  },
  {
   "cell_type": "code",
   "execution_count": 6,
   "id": "be91ac9d",
   "metadata": {
    "execution": {
     "iopub.execute_input": "2023-01-11T00:31:48.748457Z",
     "iopub.status.busy": "2023-01-11T00:31:48.748313Z",
     "iopub.status.idle": "2023-01-11T00:31:48.756355Z",
     "shell.execute_reply": "2023-01-11T00:31:48.755821Z",
     "shell.execute_reply.started": "2023-01-11T00:31:48.748445Z"
    }
   },
   "outputs": [],
   "source": [
    "YEAR = 2021\n",
    "SHOW_BIG_MEDIA = False"
   ]
  },
  {
   "cell_type": "code",
   "execution_count": 7,
   "id": "ae4c212f",
   "metadata": {
    "execution": {
     "iopub.execute_input": "2023-01-11T00:31:48.758308Z",
     "iopub.status.busy": "2023-01-11T00:31:48.757852Z",
     "iopub.status.idle": "2023-01-11T00:31:48.768776Z",
     "shell.execute_reply": "2023-01-11T00:31:48.768092Z",
     "shell.execute_reply.started": "2023-01-11T00:31:48.758289Z"
    },
    "tags": []
   },
   "outputs": [],
   "source": [
    "# (1) To obtain puzzle inputs and answers, we first try these paths/URLs:\n",
    "PROFILE = 'google.Hugues_Hoppe.965276'\n",
    "# PROFILE = 'github.hhoppe.1452460'\n",
    "TAR_URL = f'https://github.com/hhoppe/advent_of_code_{YEAR}/raw/main/data/{PROFILE}.tar.gz'\n",
    "if 1:\n",
    "  hh.run(\n",
    "      f'if [ ! -d data/{PROFILE} ]; then (mkdir -p data && cd data &&'\n",
    "      f' wget -q {TAR_URL} && tar xzf {PROFILE}.tar.gz); fi'\n",
    "  )\n",
    "INPUT_URL = f'data/{PROFILE}/{{year}}_{{day:02d}}_input.txt'\n",
    "ANSWER_URL = f'data/{PROFILE}/{{year}}_{{day:02d}}{{part_letter}}_answer.txt'"
   ]
  },
  {
   "cell_type": "code",
   "execution_count": 8,
   "id": "25548a6e",
   "metadata": {
    "execution": {
     "iopub.execute_input": "2023-01-11T00:31:48.769803Z",
     "iopub.status.busy": "2023-01-11T00:31:48.769458Z",
     "iopub.status.idle": "2023-01-11T00:31:48.774783Z",
     "shell.execute_reply": "2023-01-11T00:31:48.774285Z",
     "shell.execute_reply.started": "2023-01-11T00:31:48.769788Z"
    }
   },
   "outputs": [],
   "source": [
    "# (2) If URL is not found, we may try adventofcode.com using a session cookie:\n",
    "if 0:\n",
    "  # !rm -f ~/.config/aocd/token*; mkdir -p ~/.config/aocd; echo 53616... >~/.config/aocd/token\n",
    "  # where \"53616...\" is the session cookie from \"adventofcode.com\" (valid 1 month).\n",
    "  hh.run('pip install -q advent-of-code-data')  # https://github.com/wimglenn/advent-of-code-data\n",
    "  import aocd  # pylint: disable=unused-import # noqa"
   ]
  },
  {
   "cell_type": "code",
   "execution_count": 9,
   "id": "996f23d3",
   "metadata": {
    "execution": {
     "iopub.execute_input": "2023-01-11T00:31:48.775545Z",
     "iopub.status.busy": "2023-01-11T00:31:48.775410Z",
     "iopub.status.idle": "2023-01-11T00:31:48.784001Z",
     "shell.execute_reply": "2023-01-11T00:31:48.783422Z",
     "shell.execute_reply.started": "2023-01-11T00:31:48.775534Z"
    }
   },
   "outputs": [],
   "source": [
    "try:\n",
    "  import numba\n",
    "except ModuleNotFoundError:\n",
    "  print('Package numba is unavailable.')\n",
    "  numba = sys.modules['numba'] = types.ModuleType('numba')\n",
    "  numba.njit = hh.noop_decorator\n",
    "using_numba = hasattr(numba, 'jit')"
   ]
  },
  {
   "cell_type": "code",
   "execution_count": 10,
   "id": "122f5cf4",
   "metadata": {
    "execution": {
     "iopub.execute_input": "2023-01-11T00:31:48.784829Z",
     "iopub.status.busy": "2023-01-11T00:31:48.784668Z",
     "iopub.status.idle": "2023-01-11T00:31:48.795567Z",
     "shell.execute_reply": "2023-01-11T00:31:48.794821Z",
     "shell.execute_reply.started": "2023-01-11T00:31:48.784816Z"
    }
   },
   "outputs": [],
   "source": [
    "SHOW_BIG_MEDIA = os.environ.get('SHOW_BIG_MEDIA', str(SHOW_BIG_MEDIA)).lower() in ['true', '1']\n",
    "advent = advent_of_code_hhoppe.Advent(year=YEAR, input_url=INPUT_URL, answer_url=ANSWER_URL)"
   ]
  },
  {
   "cell_type": "code",
   "execution_count": 11,
   "id": "9e0deecd-8bc8-4f56-8760-0e271af6bb02",
   "metadata": {
    "execution": {
     "iopub.execute_input": "2023-01-11T00:31:48.796747Z",
     "iopub.status.busy": "2023-01-11T00:31:48.796432Z",
     "iopub.status.idle": "2023-01-11T00:31:48.807556Z",
     "shell.execute_reply": "2023-01-11T00:31:48.807032Z",
     "shell.execute_reply.started": "2023-01-11T00:31:48.796732Z"
    },
    "tags": []
   },
   "outputs": [
    {
     "data": {
      "text/html": [
       "<style>.jp-Cell.jp-MarkdownCell {max-width: 1016px!important;}</style>"
      ],
      "text/plain": [
       "<IPython.core.display.HTML object>"
      ]
     },
     "metadata": {},
     "output_type": "display_data"
    }
   ],
   "source": [
    "hh.adjust_jupyterlab_markdown_width()"
   ]
  },
  {
   "cell_type": "markdown",
   "id": "c6feaf6f",
   "metadata": {},
   "source": [
    "### Helper functions"
   ]
  },
  {
   "cell_type": "code",
   "execution_count": 12,
   "id": "df9e9548",
   "metadata": {
    "execution": {
     "iopub.execute_input": "2023-01-11T00:31:48.808595Z",
     "iopub.status.busy": "2023-01-11T00:31:48.808260Z",
     "iopub.status.idle": "2023-01-11T00:31:48.813025Z",
     "shell.execute_reply": "2023-01-11T00:31:48.812405Z",
     "shell.execute_reply.started": "2023-01-11T00:31:48.808580Z"
    },
    "tags": []
   },
   "outputs": [],
   "source": [
    "check_eq = hh.check_eq\n",
    "_ORIGINAL_GLOBALS = list(globals())"
   ]
  },
  {
   "cell_type": "markdown",
   "id": "6b28c473",
   "metadata": {},
   "source": [
    "<a name=\"day1\"></a>\n",
    "## Day 1: Increasing numbers in sequence"
   ]
  },
  {
   "cell_type": "markdown",
   "id": "a03de689",
   "metadata": {},
   "source": [
    "- Part 1: How many measurements are larger than the previous measurement?\n",
    "\n",
    "- Part 2: Consider sums of a three-measurement sliding window. How many sums are larger than the previous sum?\n",
    "\n",
    "---\n",
    "\n",
    "I explored two approaches:\n",
    "\n",
    "1.  A solution involving **Python generators**.  What is particularly neat is that a new list is never created, because all new elements are generated and processed on-the-fly.\n",
    "\n",
    "2. A solution based on **1D `numpy` arrays**.  The library function `np.convolve()` makes it easy to evaluate a sliding-window sum."
   ]
  },
  {
   "cell_type": "code",
   "execution_count": 13,
   "id": "4874099e",
   "metadata": {
    "execution": {
     "iopub.execute_input": "2023-01-10T23:00:49.688240Z",
     "iopub.status.busy": "2023-01-10T23:00:49.688093Z",
     "iopub.status.idle": "2023-01-10T23:00:49.710106Z",
     "shell.execute_reply": "2023-01-10T23:00:49.709584Z",
     "shell.execute_reply.started": "2023-01-10T23:00:49.688227Z"
    }
   },
   "outputs": [
    {
     "data": {
      "text/markdown": [
       "For [day 1](https://adventofcode.com/2021/day/1), `puzzle.input` has 2_000 lines:"
      ],
      "text/plain": [
       "<IPython.core.display.Markdown object>"
      ]
     },
     "metadata": {},
     "output_type": "display_data"
    },
    {
     "name": "stdout",
     "output_type": "stream",
     "text": [
      "198\n",
      "208\n",
      "209\n",
      "212\n",
      "213\n",
      "217\n",
      "218\n",
      "223\n",
      " ...\n",
      "10902\n",
      "10903\n",
      "10931\n",
      "10930\n"
     ]
    },
    {
     "data": {
      "text/markdown": [
       "The stored answers are: `{1: '1791', 2: '1822'}`"
      ],
      "text/plain": [
       "<IPython.core.display.Markdown object>"
      ]
     },
     "metadata": {},
     "output_type": "display_data"
    }
   ],
   "source": [
    "puzzle = advent.puzzle(day=1)"
   ]
  },
  {
   "cell_type": "code",
   "execution_count": 14,
   "id": "da9c9a7c",
   "metadata": {
    "execution": {
     "iopub.execute_input": "2023-01-10T23:00:49.710993Z",
     "iopub.status.busy": "2023-01-10T23:00:49.710761Z",
     "iopub.status.idle": "2023-01-10T23:00:49.713501Z",
     "shell.execute_reply": "2023-01-10T23:00:49.713017Z",
     "shell.execute_reply.started": "2023-01-10T23:00:49.710981Z"
    }
   },
   "outputs": [],
   "source": [
    "s1 = \"\"\"\\\n",
    "199\n",
    "200\n",
    "208\n",
    "210\n",
    "200\n",
    "207\n",
    "240\n",
    "269\n",
    "260\n",
    "263\n",
    "\"\"\""
   ]
  },
  {
   "cell_type": "code",
   "execution_count": 15,
   "id": "38b23a9a",
   "metadata": {
    "execution": {
     "iopub.execute_input": "2023-01-10T23:00:49.714240Z",
     "iopub.status.busy": "2023-01-10T23:00:49.714090Z",
     "iopub.status.idle": "2023-01-10T23:00:49.725873Z",
     "shell.execute_reply": "2023-01-10T23:00:49.725286Z",
     "shell.execute_reply.started": "2023-01-10T23:00:49.714227Z"
    }
   },
   "outputs": [
    {
     "name": "stdout",
     "output_type": "stream",
     "text": [
      "(Part 1: 0.000 s)\n",
      "(Part 2: 0.001 s)\n"
     ]
    }
   ],
   "source": [
    "def day1a(s, *, part2=False):  # Solution based on generators.\n",
    "  sequence: Iterable[int] = map(int, s.splitlines())\n",
    "  if part2:\n",
    "    sequence = (sum(window) for window in more_itertools.sliding_window(sequence, 3))\n",
    "  return sum(a < b for a, b in more_itertools.sliding_window(sequence, 2))\n",
    "\n",
    "\n",
    "check_eq(day1a(s1), 7)\n",
    "puzzle.verify(1, day1a)  # ~1 ms.\n",
    "\n",
    "day1a_part2 = functools.partial(day1a, part2=True)\n",
    "check_eq(day1a_part2(s1), 5)\n",
    "puzzle.verify(2, day1a_part2)  # ~2 ms."
   ]
  },
  {
   "cell_type": "code",
   "execution_count": 16,
   "id": "5aa1e96f",
   "metadata": {
    "execution": {
     "iopub.execute_input": "2023-01-10T23:00:49.727134Z",
     "iopub.status.busy": "2023-01-10T23:00:49.726639Z",
     "iopub.status.idle": "2023-01-10T23:00:49.736506Z",
     "shell.execute_reply": "2023-01-10T23:00:49.735922Z",
     "shell.execute_reply.started": "2023-01-10T23:00:49.727119Z"
    }
   },
   "outputs": [
    {
     "name": "stdout",
     "output_type": "stream",
     "text": [
      "(Part 1: 0.000 s)\n",
      "(Part 2: 0.000 s)\n"
     ]
    }
   ],
   "source": [
    "def day1(s, *, part2=False):  # Solution using numpy; fastest.\n",
    "  sequence = np.array(list(map(int, s.splitlines())))\n",
    "  if part2:\n",
    "    sequence = np.convolve(sequence, [1, 1, 1], mode='valid')\n",
    "  return np.count_nonzero(np.diff(sequence) > 0)\n",
    "\n",
    "\n",
    "check_eq(day1(s1), 7)\n",
    "puzzle.verify(1, day1)  # ~1 ms.\n",
    "\n",
    "day1_part2 = functools.partial(day1, part2=True)\n",
    "check_eq(day1_part2(s1), 5)\n",
    "puzzle.verify(2, day1_part2)  # ~1 ms."
   ]
  },
  {
   "cell_type": "markdown",
   "id": "32bb53a4",
   "metadata": {},
   "source": [
    "<a name=\"day2\"></a>\n",
    "## Day 2: Commands to move in 2D"
   ]
  },
  {
   "cell_type": "markdown",
   "id": "a667f19b",
   "metadata": {},
   "source": [
    "- Part 1: What do you get if you multiply your final horizontal position by your final depth?\n",
    "\n",
    "- Part 2: What do you get if you multiply your final horizontal position by your final depth?"
   ]
  },
  {
   "cell_type": "code",
   "execution_count": 17,
   "id": "95813536",
   "metadata": {
    "execution": {
     "iopub.execute_input": "2023-01-10T23:00:49.737686Z",
     "iopub.status.busy": "2023-01-10T23:00:49.737309Z",
     "iopub.status.idle": "2023-01-10T23:00:49.756288Z",
     "shell.execute_reply": "2023-01-10T23:00:49.755766Z",
     "shell.execute_reply.started": "2023-01-10T23:00:49.737671Z"
    }
   },
   "outputs": [
    {
     "data": {
      "text/markdown": [
       "For [day 2](https://adventofcode.com/2021/day/2), `puzzle.input` has 1_000 lines:"
      ],
      "text/plain": [
       "<IPython.core.display.Markdown object>"
      ]
     },
     "metadata": {},
     "output_type": "display_data"
    },
    {
     "name": "stdout",
     "output_type": "stream",
     "text": [
      "forward 3\n",
      "down 4\n",
      "forward 3\n",
      "up 4\n",
      "down 4\n",
      "down 6\n",
      "down 3\n",
      "down 1\n",
      " ...\n",
      "down 7\n",
      "forward 5\n",
      "forward 3\n",
      "forward 7\n"
     ]
    },
    {
     "data": {
      "text/markdown": [
       "The stored answers are: `{1: '2150351', 2: '1842742223'}`"
      ],
      "text/plain": [
       "<IPython.core.display.Markdown object>"
      ]
     },
     "metadata": {},
     "output_type": "display_data"
    }
   ],
   "source": [
    "puzzle = advent.puzzle(day=2)"
   ]
  },
  {
   "cell_type": "code",
   "execution_count": 18,
   "id": "30922ced",
   "metadata": {
    "execution": {
     "iopub.execute_input": "2023-01-10T23:00:49.757217Z",
     "iopub.status.busy": "2023-01-10T23:00:49.756961Z",
     "iopub.status.idle": "2023-01-10T23:00:49.759712Z",
     "shell.execute_reply": "2023-01-10T23:00:49.759204Z",
     "shell.execute_reply.started": "2023-01-10T23:00:49.757202Z"
    }
   },
   "outputs": [],
   "source": [
    "s1 = \"\"\"\\\n",
    "forward 5\n",
    "down 5\n",
    "forward 8\n",
    "up 3\n",
    "down 8\n",
    "forward 2\n",
    "\"\"\""
   ]
  },
  {
   "cell_type": "code",
   "execution_count": 19,
   "id": "5b36e068",
   "metadata": {
    "execution": {
     "iopub.execute_input": "2023-01-10T23:00:49.760560Z",
     "iopub.status.busy": "2023-01-10T23:00:49.760285Z",
     "iopub.status.idle": "2023-01-10T23:00:49.774843Z",
     "shell.execute_reply": "2023-01-10T23:00:49.774281Z",
     "shell.execute_reply.started": "2023-01-10T23:00:49.760546Z"
    }
   },
   "outputs": [
    {
     "name": "stdout",
     "output_type": "stream",
     "text": [
      "(Part 1: 0.000 s)\n"
     ]
    }
   ],
   "source": [
    "def day2_part1(s):\n",
    "  y, x = 0, 0\n",
    "  for line in s.splitlines():\n",
    "    command, value = line.split(' ')\n",
    "    value = int(value)\n",
    "    if command == 'forward':\n",
    "      x += value\n",
    "    elif command == 'down':\n",
    "      y += value\n",
    "    elif command == 'up':\n",
    "      y -= value\n",
    "    else:\n",
    "      assert False\n",
    "  return x * y\n",
    "\n",
    "\n",
    "check_eq(day2_part1(s1), 150)\n",
    "puzzle.verify(1, day2_part1)  # ~1 ms."
   ]
  },
  {
   "cell_type": "code",
   "execution_count": 20,
   "id": "7abe6a46",
   "metadata": {
    "execution": {
     "iopub.execute_input": "2023-01-10T23:00:49.775708Z",
     "iopub.status.busy": "2023-01-10T23:00:49.775438Z",
     "iopub.status.idle": "2023-01-10T23:00:49.784603Z",
     "shell.execute_reply": "2023-01-10T23:00:49.784050Z",
     "shell.execute_reply.started": "2023-01-10T23:00:49.775694Z"
    }
   },
   "outputs": [
    {
     "name": "stdout",
     "output_type": "stream",
     "text": [
      "(Part 2: 0.000 s)\n"
     ]
    }
   ],
   "source": [
    "def day2_part2(s):\n",
    "  y, x, aim = 0, 0, 0\n",
    "  for line in s.splitlines():\n",
    "    command, value = line.split(' ')\n",
    "    value = int(value)\n",
    "    if command == 'forward':\n",
    "      x += value\n",
    "      y += aim * value\n",
    "    elif command == 'down':\n",
    "      aim += value\n",
    "    elif command == 'up':\n",
    "      aim -= value\n",
    "    else:\n",
    "      assert False\n",
    "  return x * y\n",
    "\n",
    "\n",
    "check_eq(day2_part2(s1), 900)\n",
    "puzzle.verify(2, day2_part2)  # ~1 ms."
   ]
  },
  {
   "cell_type": "markdown",
   "id": "dafc7d6a",
   "metadata": {},
   "source": [
    "<a name=\"day3\"></a>\n",
    "## Day 3: Most common chars in strings"
   ]
  },
  {
   "cell_type": "markdown",
   "id": "c887945e",
   "metadata": {},
   "source": [
    "- Part 1: Determine the string made up of the the most (and then least) common characters in each position, interpret these two strings as binary numbers, and return their product.\n",
    "\n",
    "- Part 2: Successively cull the list of strings matching the most common character in each successive position until a single string remain, repeat the process using the least common character, and return the product of those two binary numbers."
   ]
  },
  {
   "cell_type": "code",
   "execution_count": 21,
   "id": "83fa782b",
   "metadata": {
    "execution": {
     "iopub.execute_input": "2023-01-10T23:00:49.785414Z",
     "iopub.status.busy": "2023-01-10T23:00:49.785193Z",
     "iopub.status.idle": "2023-01-10T23:00:49.809466Z",
     "shell.execute_reply": "2023-01-10T23:00:49.808832Z",
     "shell.execute_reply.started": "2023-01-10T23:00:49.785402Z"
    },
    "tags": []
   },
   "outputs": [
    {
     "data": {
      "text/markdown": [
       "For [day 3](https://adventofcode.com/2021/day/3), `puzzle.input` has 1_000 lines:"
      ],
      "text/plain": [
       "<IPython.core.display.Markdown object>"
      ]
     },
     "metadata": {},
     "output_type": "display_data"
    },
    {
     "name": "stdout",
     "output_type": "stream",
     "text": [
      "001000010101\n",
      "010010111110\n",
      "001010110111\n",
      "001001011101\n",
      "001001010011\n",
      "001111100111\n",
      "100000000101\n",
      "010001011011\n",
      " ...\n",
      "100110010011\n",
      "100111111011\n",
      "000010010011\n",
      "100111101100\n"
     ]
    },
    {
     "data": {
      "text/markdown": [
       "The stored answers are: `{1: '3633500', 2: '4550283'}`"
      ],
      "text/plain": [
       "<IPython.core.display.Markdown object>"
      ]
     },
     "metadata": {},
     "output_type": "display_data"
    }
   ],
   "source": [
    "puzzle = advent.puzzle(day=3)"
   ]
  },
  {
   "cell_type": "code",
   "execution_count": 22,
   "id": "5d79646c",
   "metadata": {
    "execution": {
     "iopub.execute_input": "2023-01-10T23:00:49.812232Z",
     "iopub.status.busy": "2023-01-10T23:00:49.811980Z",
     "iopub.status.idle": "2023-01-10T23:00:49.814979Z",
     "shell.execute_reply": "2023-01-10T23:00:49.814213Z",
     "shell.execute_reply.started": "2023-01-10T23:00:49.812220Z"
    },
    "tags": []
   },
   "outputs": [],
   "source": [
    "s1 = \"\"\"\\\n",
    "00100\n",
    "11110\n",
    "10110\n",
    "10111\n",
    "10101\n",
    "01111\n",
    "00111\n",
    "11100\n",
    "10000\n",
    "11001\n",
    "00010\n",
    "01010\n",
    "\"\"\""
   ]
  },
  {
   "cell_type": "code",
   "execution_count": 23,
   "id": "244a5523",
   "metadata": {
    "execution": {
     "iopub.execute_input": "2023-01-10T23:00:49.816153Z",
     "iopub.status.busy": "2023-01-10T23:00:49.816008Z",
     "iopub.status.idle": "2023-01-10T23:00:49.830039Z",
     "shell.execute_reply": "2023-01-10T23:00:49.829503Z",
     "shell.execute_reply.started": "2023-01-10T23:00:49.816141Z"
    },
    "tags": []
   },
   "outputs": [
    {
     "name": "stdout",
     "output_type": "stream",
     "text": [
      "(Part 1: 0.001 s)\n",
      "(Part 2: 0.004 s)\n"
     ]
    }
   ],
   "source": [
    "def day3(s, *, part2=False):\n",
    "  lines = s.splitlines()\n",
    "\n",
    "  def most_and_least_common(lines):\n",
    "    grid = np.array([list(line) for line in lines], int)\n",
    "    t = grid.sum(axis=0)\n",
    "    s1 = ''.join(str(int(b)) for b in t >= (len(lines) + 1) // 2)\n",
    "    s2 = s1.translate(str.maketrans('01', '10'))\n",
    "    return s1, s2\n",
    "\n",
    "  if not part2:\n",
    "    s1, s2 = most_and_least_common(lines)\n",
    "    return int(s1, base=2) * int(s2, base=2)\n",
    "\n",
    "  def cull_lines(examine_least: bool):\n",
    "    lines2 = lines\n",
    "    # Iterate over successive positions in the string.\n",
    "    for i in itertools.count():\n",
    "      s0 = most_and_least_common(lines2)[examine_least]\n",
    "      lines2 = [line for line in lines2 if line[i] == s0[i]]\n",
    "      if len(lines2) == 1:\n",
    "        return int(lines2[0], base=2)\n",
    "\n",
    "  return cull_lines(False) * cull_lines(True)\n",
    "\n",
    "\n",
    "check_eq(day3(s1), 198)\n",
    "puzzle.verify(1, day3)  # ~5 ms.\n",
    "\n",
    "day3_part2 = functools.partial(day3, part2=True)\n",
    "check_eq(day3_part2(s1), 230)\n",
    "puzzle.verify(2, day3_part2)  # ~22 ms."
   ]
  },
  {
   "cell_type": "markdown",
   "id": "1cd9a1e2",
   "metadata": {},
   "source": [
    "<a name=\"day4\"></a>\n",
    "## Day 4: Bingo boards"
   ]
  },
  {
   "cell_type": "markdown",
   "id": "cc2fee48",
   "metadata": {},
   "source": [
    "- Part 1: For the first winning board, what is the product of winning number and the sum of the unmarked numbers?\n",
    "\n",
    "- Part 2: What is this same score for the last winning board?\n",
    "\n",
    "---\n",
    "\n",
    "For this puzzle, it is elegant to represent the array of bingo boards\n",
    "as a single **3D array** (using `numpy`).\n",
    "\n",
    "The resulting code\n",
    "- is compact\n",
    "- does not involve any explicit coordinates, and\n",
    "- already generalizes to 2D boards of any size."
   ]
  },
  {
   "cell_type": "code",
   "execution_count": 24,
   "id": "7451d726",
   "metadata": {
    "execution": {
     "iopub.execute_input": "2023-01-10T23:00:49.831129Z",
     "iopub.status.busy": "2023-01-10T23:00:49.830699Z",
     "iopub.status.idle": "2023-01-10T23:00:49.849939Z",
     "shell.execute_reply": "2023-01-10T23:00:49.849438Z",
     "shell.execute_reply.started": "2023-01-10T23:00:49.831111Z"
    }
   },
   "outputs": [
    {
     "data": {
      "text/markdown": [
       "For [day 4](https://adventofcode.com/2021/day/4), `puzzle.input` has 601 lines:"
      ],
      "text/plain": [
       "<IPython.core.display.Markdown object>"
      ]
     },
     "metadata": {},
     "output_type": "display_data"
    },
    {
     "name": "stdout",
     "output_type": "stream",
     "text": [
      "83,69,34,46,30,23,19,75,22,37,89,78,32,39,11,44,95,43,26,48,84,53,94,88,18,40,62 ... 16,58,85,87,12,29,25,14,96,56,60,81\n",
      "\n",
      "68 73 98 51 49\n",
      "82 56 87 64  8\n",
      "46  7 21 38 30\n",
      "66  5 86 97 74\n",
      "60 63 76 55 39\n",
      "\n",
      " ...\n",
      "53 98 28 52 19\n",
      "66 51 46 77 15\n",
      "34 36 47 80 14\n",
      " 7 89 62  9 49\n"
     ]
    },
    {
     "data": {
      "text/markdown": [
       "The stored answers are: `{1: '41668', 2: '10478'}`"
      ],
      "text/plain": [
       "<IPython.core.display.Markdown object>"
      ]
     },
     "metadata": {},
     "output_type": "display_data"
    }
   ],
   "source": [
    "puzzle = advent.puzzle(day=4)"
   ]
  },
  {
   "cell_type": "code",
   "execution_count": 25,
   "id": "ef16225c",
   "metadata": {
    "execution": {
     "iopub.execute_input": "2023-01-10T23:00:49.850873Z",
     "iopub.status.busy": "2023-01-10T23:00:49.850635Z",
     "iopub.status.idle": "2023-01-10T23:00:49.853348Z",
     "shell.execute_reply": "2023-01-10T23:00:49.852878Z",
     "shell.execute_reply.started": "2023-01-10T23:00:49.850862Z"
    }
   },
   "outputs": [],
   "source": [
    "s1 = \"\"\"\\\n",
    "7,4,9,5,11,17,23,2,0,14,21,24,10,16,13,6,15,25,12,22,18,20,8,19,3,26,1\n",
    "\n",
    "22 13 17 11  0\n",
    " 8  2 23  4 24\n",
    "21  9 14 16  7\n",
    " 6 10  3 18  5\n",
    " 1 12 20 15 19\n",
    "\n",
    " 3 15  0  2 22\n",
    " 9 18 13 17  5\n",
    "19  8  7 25 23\n",
    "20 11 10 24  4\n",
    "14 21 16 12  6\n",
    "\n",
    "14 21 17 24  4\n",
    "10 16 15  9 19\n",
    "18  8 23 26 20\n",
    "22 11 13  6  5\n",
    " 2  0 12  3  7\n",
    "\"\"\""
   ]
  },
  {
   "cell_type": "code",
   "execution_count": 26,
   "id": "2bfb3c0e",
   "metadata": {
    "execution": {
     "iopub.execute_input": "2023-01-10T23:00:49.853883Z",
     "iopub.status.busy": "2023-01-10T23:00:49.853772Z",
     "iopub.status.idle": "2023-01-10T23:00:49.879321Z",
     "shell.execute_reply": "2023-01-10T23:00:49.878816Z",
     "shell.execute_reply.started": "2023-01-10T23:00:49.853874Z"
    }
   },
   "outputs": [
    {
     "name": "stdout",
     "output_type": "stream",
     "text": [
      "(Part 1: 0.005 s)\n",
      "(Part 2: 0.005 s)\n"
     ]
    }
   ],
   "source": [
    "def day4a(s, *, part2=False):  # Compact.\n",
    "  sections = s.split('\\n\\n')\n",
    "  boards = np.array(\n",
    "      [[[int(n) for n in line.split()] for line in t.splitlines()] for t in sections[1:]]\n",
    "  )\n",
    "  matches = boards < 0\n",
    "  scores = []\n",
    "  previously_finished = False\n",
    "  for number in map(int, sections[0].split(',')):\n",
    "    matches[boards == number] = True\n",
    "    finished = (matches.sum(1).max(1) == boards.shape[1]) | (\n",
    "        matches.sum(2).max(1) == boards.shape[2]\n",
    "    )\n",
    "    for winner in np.argwhere(finished & ~previously_finished):\n",
    "      scores.append(boards[winner][~matches[winner]].sum() * number)\n",
    "    previously_finished = finished\n",
    "\n",
    "  return scores[-int(part2)]\n",
    "\n",
    "\n",
    "check_eq(day4a(s1), 4512)\n",
    "puzzle.verify(1, day4a)  # ~10 ms.\n",
    "\n",
    "day4a_part2 = functools.partial(day4a, part2=True)\n",
    "check_eq(day4a_part2(s1), 1924)\n",
    "puzzle.verify(2, day4a_part2)  # ~10 ms."
   ]
  },
  {
   "cell_type": "code",
   "execution_count": 27,
   "id": "bd33efb1",
   "metadata": {
    "execution": {
     "iopub.execute_input": "2023-01-10T23:00:49.880198Z",
     "iopub.status.busy": "2023-01-10T23:00:49.879957Z",
     "iopub.status.idle": "2023-01-10T23:00:49.900052Z",
     "shell.execute_reply": "2023-01-10T23:00:49.899482Z",
     "shell.execute_reply.started": "2023-01-10T23:00:49.880186Z"
    }
   },
   "outputs": [
    {
     "name": "stdout",
     "output_type": "stream",
     "text": [
      "(Part 1: 0.006 s)\n",
      "(Part 2: 0.005 s)\n"
     ]
    }
   ],
   "source": [
    "def day4(s, *, part2=False):  # More readable.\n",
    "  sections = s.split('\\n\\n')\n",
    "  numbers = list(map(int, sections[0].split(',')))\n",
    "  boards = np.array(\n",
    "      [[[int(n) for n in line.split()] for line in t.splitlines()] for t in sections[1:]]\n",
    "  )\n",
    "  matches = np.full(boards.shape, False)\n",
    "  scores = []\n",
    "  previously_finished = np.full(len(boards), False)\n",
    "  for number in numbers:\n",
    "    matches[boards == number] = True\n",
    "    finished = (matches.sum(axis=1).max(axis=1) == boards.shape[1]) | (\n",
    "        matches.sum(axis=2).max(axis=1) == boards.shape[2]\n",
    "    )\n",
    "    for winner in np.argwhere(finished & ~previously_finished):\n",
    "      scores.append(boards[winner][~matches[winner]].sum() * number)\n",
    "    previously_finished = finished\n",
    "\n",
    "  return scores[-1 if part2 else 0]\n",
    "\n",
    "\n",
    "check_eq(day4(s1), 4512)\n",
    "puzzle.verify(1, day4)  # ~10 ms.\n",
    "\n",
    "day4_part2 = functools.partial(day4, part2=True)\n",
    "check_eq(day4_part2(s1), 1924)\n",
    "puzzle.verify(2, day4_part2)  # ~10 ms."
   ]
  },
  {
   "cell_type": "markdown",
   "id": "754319e6",
   "metadata": {},
   "source": [
    "<a name=\"day5\"></a>\n",
    "## Day 5: Coverage of line segments"
   ]
  },
  {
   "cell_type": "markdown",
   "id": "8555305b",
   "metadata": {},
   "source": [
    "- Part 1: Ignoring diagonal segments, what is the count of gridpoints covered by at least two segments?\n",
    "\n",
    "- Part 2: Including diagonal segments, what is the count of gridpoints covered by at least two segments?\n",
    "\n",
    "---\n",
    "\n",
    "I started with the standard approach of rasterizing the lines using a **`for` loop**, into a **`dict`** data structure indexed by `(x, y)`.\n",
    "\n",
    "For improved speed, I switched to a **2D array** data structure,\n",
    "using `numpy` vectorized operations to increment all the pixels for a line segment in a single call.  For diagonal segments, this involves\n",
    " [advanced indexing](https://numpy.org/devdocs/user/basics.indexing.html#advanced-indexing).\n",
    "\n",
    "It's interesting to see the 100x speed improvement, from 900 ms down to 9 ms."
   ]
  },
  {
   "cell_type": "code",
   "execution_count": 28,
   "id": "c772cfd0",
   "metadata": {
    "execution": {
     "iopub.execute_input": "2023-01-10T23:00:49.900971Z",
     "iopub.status.busy": "2023-01-10T23:00:49.900732Z",
     "iopub.status.idle": "2023-01-10T23:00:49.916412Z",
     "shell.execute_reply": "2023-01-10T23:00:49.915873Z",
     "shell.execute_reply.started": "2023-01-10T23:00:49.900959Z"
    }
   },
   "outputs": [
    {
     "data": {
      "text/markdown": [
       "For [day 5](https://adventofcode.com/2021/day/5), `puzzle.input` has 500 lines:"
      ],
      "text/plain": [
       "<IPython.core.display.Markdown object>"
      ]
     },
     "metadata": {},
     "output_type": "display_data"
    },
    {
     "name": "stdout",
     "output_type": "stream",
     "text": [
      "959,103 -> 139,923\n",
      "899,63 -> 899,53\n",
      "591,871 -> 364,644\n",
      "739,913 -> 310,484\n",
      "460,309 -> 460,705\n",
      "351,389 -> 351,837\n",
      "420,55 -> 420,541\n",
      "916,520 -> 382,520\n",
      " ...\n",
      "139,153 -> 936,950\n",
      "436,978 -> 244,978\n",
      "921,633 -> 921,340\n",
      "872,63 -> 233,63\n"
     ]
    },
    {
     "data": {
      "text/markdown": [
       "The stored answers are: `{1: '7318', 2: '19939'}`"
      ],
      "text/plain": [
       "<IPython.core.display.Markdown object>"
      ]
     },
     "metadata": {},
     "output_type": "display_data"
    }
   ],
   "source": [
    "puzzle = advent.puzzle(day=5)"
   ]
  },
  {
   "cell_type": "code",
   "execution_count": 29,
   "id": "a95f1c3d",
   "metadata": {
    "execution": {
     "iopub.execute_input": "2023-01-10T23:00:49.917346Z",
     "iopub.status.busy": "2023-01-10T23:00:49.917078Z",
     "iopub.status.idle": "2023-01-10T23:00:49.919748Z",
     "shell.execute_reply": "2023-01-10T23:00:49.919274Z",
     "shell.execute_reply.started": "2023-01-10T23:00:49.917333Z"
    }
   },
   "outputs": [],
   "source": [
    "s1 = \"\"\"\\\n",
    "0,9 -> 5,9\n",
    "8,0 -> 0,8\n",
    "9,4 -> 3,4\n",
    "2,2 -> 2,1\n",
    "7,0 -> 7,4\n",
    "6,4 -> 2,0\n",
    "0,9 -> 2,9\n",
    "3,4 -> 1,4\n",
    "0,0 -> 8,8\n",
    "5,5 -> 8,2\n",
    "\"\"\""
   ]
  },
  {
   "cell_type": "code",
   "execution_count": 30,
   "id": "13831a0e",
   "metadata": {
    "execution": {
     "iopub.execute_input": "2023-01-10T23:00:49.920584Z",
     "iopub.status.busy": "2023-01-10T23:00:49.920344Z",
     "iopub.status.idle": "2023-01-10T23:00:50.511495Z",
     "shell.execute_reply": "2023-01-10T23:00:50.510920Z",
     "shell.execute_reply.started": "2023-01-10T23:00:49.920571Z"
    }
   },
   "outputs": [
    {
     "name": "stdout",
     "output_type": "stream",
     "text": [
      "(Part 1: 0.220 s)\n",
      "(Part 2: 0.357 s)\n"
     ]
    }
   ],
   "source": [
    "def day5a(s, *, part2=False):  # Compact but slow; supports any dimension.\n",
    "  count: collections.Counter[tuple[int, int]] = collections.Counter()\n",
    "  for line in s.splitlines():\n",
    "    p, q = (np.array(list(map(int, t.split(',')))) for t in line.split(' -> '))\n",
    "    if part2 or any(p == q):\n",
    "      d = np.sign(q - p)\n",
    "      while any(p != q + d):\n",
    "        count[tuple(p)] += 1  # type: ignore[index]\n",
    "        p += d\n",
    "  return sum(v >= 2 for v in count.values())\n",
    "\n",
    "\n",
    "check_eq(day5a(s1), 5)\n",
    "puzzle.verify(1, day5a)  # ~480 ms.\n",
    "\n",
    "day5a_part2 = functools.partial(day5a, part2=True)\n",
    "check_eq(day5a_part2(s1), 12)\n",
    "puzzle.verify(2, day5a_part2)  # ~800 ms."
   ]
  },
  {
   "cell_type": "code",
   "execution_count": 31,
   "id": "3dad6101",
   "metadata": {
    "execution": {
     "iopub.execute_input": "2023-01-10T23:00:50.512449Z",
     "iopub.status.busy": "2023-01-10T23:00:50.512137Z",
     "iopub.status.idle": "2023-01-10T23:00:50.616331Z",
     "shell.execute_reply": "2023-01-10T23:00:50.615738Z",
     "shell.execute_reply.started": "2023-01-10T23:00:50.512433Z"
    }
   },
   "outputs": [
    {
     "name": "stdout",
     "output_type": "stream",
     "text": [
      "(Part 1: 0.035 s)\n",
      "(Part 2: 0.064 s)\n"
     ]
    }
   ],
   "source": [
    "def day5b(s, *, part2=False):  # Faster, still with dict.\n",
    "  count: collections.defaultdict[tuple[int, int], int] = collections.defaultdict(int)\n",
    "  for line in s.splitlines():\n",
    "    pattern = r'^(\\d+),(\\d+) -> (\\d+),(\\d+)$'\n",
    "    x1, y1, x2, y2 = map(int, hh.re_groups(pattern, line))\n",
    "    dx, dy = x2 - x1, y2 - y1\n",
    "    xinc, yinc = np.sign((dx, dy))\n",
    "    if dx == 0:\n",
    "      for _ in range(abs(dy) + 1):\n",
    "        count[y1, x1] += 1\n",
    "        y1 += yinc\n",
    "    elif dy == 0:\n",
    "      for _ in range(abs(dx) + 1):\n",
    "        count[y1, x1] += 1\n",
    "        x1 += xinc\n",
    "    elif part2:\n",
    "      for _ in range(abs(dx) + 1):\n",
    "        count[y1, x1] += 1\n",
    "        x1, y1 = x1 + xinc, y1 + yinc\n",
    "\n",
    "  return sum(v >= 2 for v in count.values())\n",
    "\n",
    "\n",
    "puzzle.verify(1, day5b)  # ~90 ms.\n",
    "day5b_part2 = functools.partial(day5b, part2=True)\n",
    "puzzle.verify(2, day5b_part2)  # ~180 ms."
   ]
  },
  {
   "cell_type": "code",
   "execution_count": 32,
   "id": "d1d45866",
   "metadata": {
    "execution": {
     "iopub.execute_input": "2023-01-10T23:00:50.617223Z",
     "iopub.status.busy": "2023-01-10T23:00:50.616983Z",
     "iopub.status.idle": "2023-01-10T23:00:50.631380Z",
     "shell.execute_reply": "2023-01-10T23:00:50.630594Z",
     "shell.execute_reply.started": "2023-01-10T23:00:50.617211Z"
    }
   },
   "outputs": [
    {
     "name": "stdout",
     "output_type": "stream",
     "text": [
      "(Part 1: 0.004 s)\n",
      "(Part 2: 0.004 s)\n"
     ]
    }
   ],
   "source": [
    "def day5c(s, *, part2=False, size=1000):  # All numpy; clever diagonal slicing.\n",
    "  count = np.zeros((size, size), int)\n",
    "\n",
    "  def f(a, b, op=slice):\n",
    "    return op(a, b + 1) if a < b else op(a, b - 1, -1)\n",
    "\n",
    "  for line in s.splitlines():\n",
    "    pattern = r'^(\\d+),(\\d+) -> (\\d+),(\\d+)$'\n",
    "    x1, y1, x2, y2 = map(int, hh.re_groups(pattern, line))\n",
    "    if y1 == y2:\n",
    "      count[y1, f(x1, x2)] += 1\n",
    "    elif x1 == x2:\n",
    "      count[f(y1, y2), x1] += 1\n",
    "    elif part2:\n",
    "      t = count[min(y1, y2) : max(y1, y2) + 1, min(x1, x2) : max(x1, x2) + 1]\n",
    "      if (y1 < y2) ^ (x1 < x2):\n",
    "        t = t[::-1]\n",
    "      t = np.lib.stride_tricks.as_strided(\n",
    "          t, shape=t.shape[:1], strides=[t.strides[0] + t.strides[1]]\n",
    "      )\n",
    "      t += 1\n",
    "\n",
    "  return np.count_nonzero(count >= 2)\n",
    "\n",
    "\n",
    "check_eq(day5c(s1, size=10), 5)\n",
    "puzzle.verify(1, day5c)  # ~6 ms.\n",
    "\n",
    "day5c_part2 = functools.partial(day5c, part2=True)\n",
    "check_eq(day5c_part2(s1), 12)\n",
    "puzzle.verify(2, day5c_part2)  # ~9 ms."
   ]
  },
  {
   "cell_type": "code",
   "execution_count": 33,
   "id": "9691d596",
   "metadata": {
    "execution": {
     "iopub.execute_input": "2023-01-10T23:00:50.632457Z",
     "iopub.status.busy": "2023-01-10T23:00:50.632169Z",
     "iopub.status.idle": "2023-01-10T23:00:50.646932Z",
     "shell.execute_reply": "2023-01-10T23:00:50.646383Z",
     "shell.execute_reply.started": "2023-01-10T23:00:50.632443Z"
    }
   },
   "outputs": [
    {
     "name": "stdout",
     "output_type": "stream",
     "text": [
      "(Part 1: 0.003 s)\n",
      "(Part 2: 0.005 s)\n"
     ]
    }
   ],
   "source": [
    "def day5(s, *, part2=False, size=1000, visualize=False):  # Just as fast.\n",
    "  count = np.zeros((size, size), int)\n",
    "\n",
    "  def f(a, b, op=slice):\n",
    "    return op(a, b + 1) if a < b else op(a, b - 1, -1)\n",
    "\n",
    "  for line in s.splitlines():\n",
    "    pattern = r'^(\\d+),(\\d+) -> (\\d+),(\\d+)$'\n",
    "    x1, y1, x2, y2 = map(int, hh.re_groups(pattern, line))\n",
    "    if y1 == y2:\n",
    "      count[y1, f(x1, x2)] += 1\n",
    "    elif x1 == x2:\n",
    "      count[f(y1, y2), x1] += 1\n",
    "    elif part2:\n",
    "      count[f(y1, y2, op=np.arange), f(x1, x2, op=np.arange)] += 1\n",
    "\n",
    "  if visualize:\n",
    "    window: Any = Ellipsis  # Uncropped\n",
    "    window = np.s_[100:400, 100:400]  # Cropped to upper left\n",
    "    media.show_image(count.astype(float)[window], vmax=3)\n",
    "\n",
    "  return np.count_nonzero(count >= 2)\n",
    "\n",
    "\n",
    "check_eq(day5(s1, size=10), 5)\n",
    "puzzle.verify(1, day5)  # ~6 ms.\n",
    "\n",
    "day5_part2 = functools.partial(day5, part2=True)\n",
    "check_eq(day5_part2(s1), 12)\n",
    "puzzle.verify(2, day5_part2)  # ~9 ms."
   ]
  },
  {
   "cell_type": "code",
   "execution_count": 34,
   "id": "ea216526",
   "metadata": {
    "execution": {
     "iopub.execute_input": "2023-01-10T23:00:50.648113Z",
     "iopub.status.busy": "2023-01-10T23:00:50.647716Z",
     "iopub.status.idle": "2023-01-10T23:00:50.673733Z",
     "shell.execute_reply": "2023-01-10T23:00:50.673204Z",
     "shell.execute_reply.started": "2023-01-10T23:00:50.648081Z"
    }
   },
   "outputs": [
    {
     "data": {
      "text/html": [
       "<table class=\"show_images\" style=\"border-spacing:0px;\"><tr><td style=\"padding:1px;\"><img width=\"300\" height=\"300\" style=\"image-rendering:auto; object-fit:cover;\" src=\"data:image/png;base64,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\"/></td></tr></table>"
      ],
      "text/plain": [
       "<IPython.core.display.HTML object>"
      ]
     },
     "metadata": {},
     "output_type": "display_data"
    }
   ],
   "source": [
    "_ = day5_part2(puzzle.input, visualize=True)\n",
    "media.set_max_output_height(3000)"
   ]
  },
  {
   "cell_type": "markdown",
   "id": "5cc2f98a",
   "metadata": {},
   "source": [
    "<a name=\"day6\"></a>\n",
    "## Day 6: Population of lanternfish"
   ]
  },
  {
   "cell_type": "markdown",
   "id": "d9c24d2d",
   "metadata": {},
   "source": [
    "- Part 1: How many lanternfish would there be after 80 days?\n",
    "\n",
    "- Part 2: How many lanternfish would there be after 256 days?\n",
    "\n",
    "---\n",
    "\n",
    "My approach is to iteratively update a **`collections.Counter`** (hash table) data structure.\n",
    "\n",
    "My colleagues showed that it is even faster to just update an **array** of 9 elements."
   ]
  },
  {
   "cell_type": "code",
   "execution_count": 35,
   "id": "c13efe16",
   "metadata": {
    "execution": {
     "iopub.execute_input": "2023-01-10T23:00:50.674539Z",
     "iopub.status.busy": "2023-01-10T23:00:50.674395Z",
     "iopub.status.idle": "2023-01-10T23:00:50.688300Z",
     "shell.execute_reply": "2023-01-10T23:00:50.687808Z",
     "shell.execute_reply.started": "2023-01-10T23:00:50.674526Z"
    }
   },
   "outputs": [
    {
     "data": {
      "text/markdown": [
       "For [day 6](https://adventofcode.com/2021/day/6), `puzzle.input` has a single line of 599 characters:"
      ],
      "text/plain": [
       "<IPython.core.display.Markdown object>"
      ]
     },
     "metadata": {},
     "output_type": "display_data"
    },
    {
     "name": "stdout",
     "output_type": "stream",
     "text": [
      "4,1,1,1,5,1,3,1,5,3,4,3,3,1,3,3,1,5,3,2,4,4,3,4,1,4,2,2,1,3,5,1,1,3,2,5,1,1,4,2, ... 5,5,2,4,2,2,5,2,4,1,3,2,1,1,4,4,1,5\n"
     ]
    },
    {
     "data": {
      "text/markdown": [
       "The stored answers are: `{1: '352195', 2: '1600306001288'}`"
      ],
      "text/plain": [
       "<IPython.core.display.Markdown object>"
      ]
     },
     "metadata": {},
     "output_type": "display_data"
    }
   ],
   "source": [
    "puzzle = advent.puzzle(day=6)"
   ]
  },
  {
   "cell_type": "code",
   "execution_count": 36,
   "id": "17fd57cf",
   "metadata": {
    "execution": {
     "iopub.execute_input": "2023-01-10T23:00:50.689192Z",
     "iopub.status.busy": "2023-01-10T23:00:50.688918Z",
     "iopub.status.idle": "2023-01-10T23:00:50.691435Z",
     "shell.execute_reply": "2023-01-10T23:00:50.690994Z",
     "shell.execute_reply.started": "2023-01-10T23:00:50.689181Z"
    }
   },
   "outputs": [],
   "source": [
    "s1 = '3,4,3,1,2'"
   ]
  },
  {
   "cell_type": "code",
   "execution_count": 37,
   "id": "6013c966",
   "metadata": {
    "execution": {
     "iopub.execute_input": "2023-01-10T23:00:50.692005Z",
     "iopub.status.busy": "2023-01-10T23:00:50.691887Z",
     "iopub.status.idle": "2023-01-10T23:00:50.704170Z",
     "shell.execute_reply": "2023-01-10T23:00:50.703554Z",
     "shell.execute_reply.started": "2023-01-10T23:00:50.691995Z"
    }
   },
   "outputs": [
    {
     "name": "stdout",
     "output_type": "stream",
     "text": [
      "(Part 1: 0.000 s)\n",
      "(Part 2: 0.001 s)\n"
     ]
    }
   ],
   "source": [
    "def day6a(s, *, part2=False):  # Initial solution, using Counter.\n",
    "  counter = collections.Counter(map(int, s.strip().split(',')))\n",
    "  for _ in range(256 if part2 else 80):\n",
    "    counter2: collections.Counter[int] = collections.Counter()\n",
    "    for e, count in counter.items():\n",
    "      if e == 0:\n",
    "        counter2[8] += count\n",
    "        counter2[6] += count\n",
    "      else:\n",
    "        counter2[e - 1] += count\n",
    "    counter = counter2\n",
    "  return sum(counter.values())  # (counter.total() in Python 3.10)\n",
    "\n",
    "\n",
    "puzzle.verify(1, day6a)  # ~1 ms.\n",
    "day6a_part2 = functools.partial(day6a, part2=True)\n",
    "puzzle.verify(2, day6a_part2)  # ~3 ms."
   ]
  },
  {
   "cell_type": "code",
   "execution_count": 38,
   "id": "f01f8b9c",
   "metadata": {
    "execution": {
     "iopub.execute_input": "2023-01-10T23:00:50.705161Z",
     "iopub.status.busy": "2023-01-10T23:00:50.704861Z",
     "iopub.status.idle": "2023-01-10T23:00:50.714722Z",
     "shell.execute_reply": "2023-01-10T23:00:50.714109Z",
     "shell.execute_reply.started": "2023-01-10T23:00:50.705145Z"
    },
    "lines_to_next_cell": 1
   },
   "outputs": [
    {
     "name": "stdout",
     "output_type": "stream",
     "text": [
      "(Part 1: 0.000 s)\n",
      "(Part 2: 0.000 s)\n"
     ]
    }
   ],
   "source": [
    "def day6(s, *, part2=False):  # List-based approach used by colleagues.\n",
    "  counts = [0] * 9\n",
    "  for i in map(int, s.strip().split(',')):\n",
    "    counts[i] += 1\n",
    "  for _ in range(256 if part2 else 80):\n",
    "    # counts = counts[1:7] + [counts[7] + counts[0]] + counts[8:] + [counts[0]]\n",
    "    tmp = counts[0]\n",
    "    counts = counts[1:] + [tmp]\n",
    "    counts[6] += tmp\n",
    "  return sum(counts)\n",
    "\n",
    "\n",
    "puzzle.verify(1, day6)  # ~0 ms.\n",
    "day6_part2 = functools.partial(day6, part2=True)\n",
    "puzzle.verify(2, day6_part2)  # ~0 ms."
   ]
  },
  {
   "cell_type": "code",
   "execution_count": 39,
   "id": "13af8c4b",
   "metadata": {
    "execution": {
     "iopub.execute_input": "2023-01-10T23:00:50.715563Z",
     "iopub.status.busy": "2023-01-10T23:00:50.715407Z",
     "iopub.status.idle": "2023-01-10T23:00:50.727063Z",
     "shell.execute_reply": "2023-01-10T23:00:50.726483Z",
     "shell.execute_reply.started": "2023-01-10T23:00:50.715551Z"
    }
   },
   "outputs": [],
   "source": [
    "# Looking at progression for single input, to ideally derive closed-form\n",
    "# expresssion.  However it looks highly irregular.\n",
    "def day6_test(s):\n",
    "  counter = collections.Counter(map(int, s.strip().split(',')))\n",
    "  for i in range(80):\n",
    "    counter2: collections.Counter[int] = collections.Counter()\n",
    "    for e, count in counter.items():\n",
    "      if e == 0:\n",
    "        counter2[8] += count\n",
    "        counter2[6] += count\n",
    "      else:\n",
    "        counter2[e - 1] += count\n",
    "    counter = counter2\n",
    "    print(i, sum(counter.values()))\n",
    "\n",
    "\n",
    "if 0:\n",
    "  day6_test('1')"
   ]
  },
  {
   "cell_type": "markdown",
   "id": "e15becbe",
   "metadata": {},
   "source": [
    "<a name=\"day7\"></a>\n",
    "## Day 7: Minimize sum of differences"
   ]
  },
  {
   "cell_type": "markdown",
   "id": "9175b505",
   "metadata": {},
   "source": [
    "- Part 1: What is the minimal sum of absolute distances?\n",
    "\n",
    "- Part 2: What is the minimal sum of quadratic-like distances?\n",
    "\n",
    "---\n",
    "\n",
    "The most obvious solution is a **brute-force search** for the optimal element.\n",
    "\n",
    "However, there is a fast **closed-form** solution:\n",
    "\n",
    "- The value that minimizes the \"*sum of absolute distances*\" is known to\n",
    "lie at `np.median()`.\n",
    "(This median may be the average of the two nearest values if the length of the list is even; fortunately, for our inputs, `np.median()` happens to always equal an integer.)\n",
    "\n",
    "- The value that minimizes the \"*sum of squared distances*\" is known to be the `mean` of the list.\n",
    "However, the puzzle does not use \"squared distance\" $d^2$ but a quadratic distance $d(d+1)/2$ which is very close.\n",
    "It turns out that the answer can be found at either the `mean` value or one of the two adjacent integers."
   ]
  },
  {
   "cell_type": "code",
   "execution_count": 40,
   "id": "63edc8e9",
   "metadata": {
    "execution": {
     "iopub.execute_input": "2023-01-10T23:00:50.728174Z",
     "iopub.status.busy": "2023-01-10T23:00:50.727773Z",
     "iopub.status.idle": "2023-01-10T23:00:50.748367Z",
     "shell.execute_reply": "2023-01-10T23:00:50.747766Z",
     "shell.execute_reply.started": "2023-01-10T23:00:50.728158Z"
    }
   },
   "outputs": [
    {
     "data": {
      "text/markdown": [
       "For [day 7](https://adventofcode.com/2021/day/7), `puzzle.input` has a single line of 3_903 characters:"
      ],
      "text/plain": [
       "<IPython.core.display.Markdown object>"
      ]
     },
     "metadata": {},
     "output_type": "display_data"
    },
    {
     "name": "stdout",
     "output_type": "stream",
     "text": [
      "1101,1,29,67,1102,0,1,65,1008,65,35,66,1005,66,28,1,67,65,20,4,0,1001,65,1,65,11 ... 89,189,54,230,205,8,123,247,566,947\n"
     ]
    },
    {
     "data": {
      "text/markdown": [
       "The stored answers are: `{1: '354129', 2: '98905973'}`"
      ],
      "text/plain": [
       "<IPython.core.display.Markdown object>"
      ]
     },
     "metadata": {},
     "output_type": "display_data"
    }
   ],
   "source": [
    "puzzle = advent.puzzle(day=7)"
   ]
  },
  {
   "cell_type": "code",
   "execution_count": 41,
   "id": "fa43e2a4",
   "metadata": {
    "execution": {
     "iopub.execute_input": "2023-01-10T23:00:50.749242Z",
     "iopub.status.busy": "2023-01-10T23:00:50.749014Z",
     "iopub.status.idle": "2023-01-10T23:00:50.751974Z",
     "shell.execute_reply": "2023-01-10T23:00:50.751518Z",
     "shell.execute_reply.started": "2023-01-10T23:00:50.749230Z"
    }
   },
   "outputs": [],
   "source": [
    "s1 = '16,1,2,0,4,2,7,1,2,14'"
   ]
  },
  {
   "cell_type": "code",
   "execution_count": 42,
   "id": "acfd425e",
   "metadata": {
    "execution": {
     "iopub.execute_input": "2023-01-10T23:00:50.752727Z",
     "iopub.status.busy": "2023-01-10T23:00:50.752522Z",
     "iopub.status.idle": "2023-01-10T23:00:50.783254Z",
     "shell.execute_reply": "2023-01-10T23:00:50.782642Z",
     "shell.execute_reply.started": "2023-01-10T23:00:50.752716Z"
    }
   },
   "outputs": [
    {
     "name": "stdout",
     "output_type": "stream",
     "text": [
      "(Part 1: 0.008 s)\n",
      "(Part 2: 0.013 s)\n"
     ]
    }
   ],
   "source": [
    "def day7a(s, *, part2=False):  # Brute-force search.\n",
    "  values = np.array(list(map(int, s.split(','))))\n",
    "\n",
    "  def func(x):\n",
    "    diff = abs(values - x)\n",
    "    if part2:\n",
    "      diff = (diff + 1) * diff // 2\n",
    "    return diff.sum()\n",
    "\n",
    "  return min(func(x) for x in range(max(values)))\n",
    "\n",
    "\n",
    "puzzle.verify(1, day7a)  # ~14 ms.\n",
    "day7a_part2 = functools.partial(day7a, part2=True)\n",
    "puzzle.verify(2, day7a_part2)  # ~52 ms."
   ]
  },
  {
   "cell_type": "code",
   "execution_count": 43,
   "id": "56bae097",
   "metadata": {
    "execution": {
     "iopub.execute_input": "2023-01-10T23:00:50.784436Z",
     "iopub.status.busy": "2023-01-10T23:00:50.783885Z",
     "iopub.status.idle": "2023-01-10T23:00:50.790335Z",
     "shell.execute_reply": "2023-01-10T23:00:50.789762Z",
     "shell.execute_reply.started": "2023-01-10T23:00:50.784413Z"
    }
   },
   "outputs": [
    {
     "name": "stdout",
     "output_type": "stream",
     "text": [
      "(Part 1: 0.000 s)\n",
      "(Part 2: 0.000 s)\n"
     ]
    }
   ],
   "source": [
    "def day7(s, *, part2=False):  # Almost closed-form expression.\n",
    "  values = np.array(list(map(int, s.split(','))))\n",
    "\n",
    "  if not part2:\n",
    "    return abs(values - int(np.median(values))).sum()\n",
    "\n",
    "  def func(x):\n",
    "    diff = abs(values - x)\n",
    "    return ((diff + 1) * diff // 2).sum()\n",
    "\n",
    "  return min(func(x) for x in np.array([-1, 0, 1]) + int(values.mean()))\n",
    "\n",
    "\n",
    "check_eq(day7(s1), 37)\n",
    "puzzle.verify(1, day7)  # ~0 ms.\n",
    "\n",
    "day7_part2 = functools.partial(day7, part2=True)\n",
    "check_eq(day7_part2(s1), 168)\n",
    "puzzle.verify(2, day7_part2)  # ~1 ms."
   ]
  },
  {
   "cell_type": "markdown",
   "id": "1a52c697",
   "metadata": {},
   "source": [
    "<a name=\"day8\"></a>\n",
    "## Day 8: LED with unknown seg map"
   ]
  },
  {
   "cell_type": "markdown",
   "id": "0dd72a3f",
   "metadata": {},
   "source": [
    "- Part 1: In the output values, how many times do digits 1, 4, 7, or 8 appear?\n",
    "\n",
    "- Part 2: What do you get if you add up all of the output values?\n",
    "\n",
    "---\n",
    "\n",
    "I explored a total of 7 different approaches with progressively faster speeds, from 1450 ms to 5 ms.\n",
    "\n",
    "The first 6 approaches search all permutations of assigning input LED segments to output LED segments,\n",
    "using `itertools.permutations('abcdefg')`.\n",
    "\n",
    "These 6 approaches differ in whether they loop first over segment permutations and then over lines of the puzzle input, or vice versa,\n",
    "what representations they use,\n",
    "and what precomputations they perform.\n",
    "\n",
    "The last approach is specifically optimized for the 7-segment LED.\n",
    "It is faster but perhaps less interesting."
   ]
  },
  {
   "cell_type": "code",
   "execution_count": 44,
   "id": "f334b7f2",
   "metadata": {
    "execution": {
     "iopub.execute_input": "2023-01-10T23:00:50.791216Z",
     "iopub.status.busy": "2023-01-10T23:00:50.790949Z",
     "iopub.status.idle": "2023-01-10T23:00:50.814686Z",
     "shell.execute_reply": "2023-01-10T23:00:50.813964Z",
     "shell.execute_reply.started": "2023-01-10T23:00:50.791203Z"
    }
   },
   "outputs": [
    {
     "data": {
      "text/markdown": [
       "For [day 8](https://adventofcode.com/2021/day/8), `puzzle.input` has 200 lines:"
      ],
      "text/plain": [
       "<IPython.core.display.Markdown object>"
      ]
     },
     "metadata": {},
     "output_type": "display_data"
    },
    {
     "name": "stdout",
     "output_type": "stream",
     "text": [
      "cgaed gcdbfa gcfaed gfcde gadfceb cdbfeg acg eacf eabgd ca | agc efcgbd cag eacf\n",
      "ga ega edgfa cafed gabd cefagdb begfad ebdgf fcbega cbgdfe | bgdef fdgeb dgabfe gea\n",
      "ged eg acfgd fdceb cdbefa dgcfe cebfdg edcbga egbf ceadfbg | dfcge dacegbf gcdbaef fdceg\n",
      "cbefg fedbcg bfdg abgedc fgced edcagf caefb gb fedcbga beg | bdfg cbeaf cfdebg gbe\n",
      "gecdab gbafd geabdcf ecfa dbcfge cfb afgbc efgbac cf cgbae | fbc fbc cfebgad cf\n",
      "cbdef febdga fba ba fadecb cgfea adbc cbafe fbedcag egcfbd | dfgbae fdcageb adcefbg efbdc\n",
      "gecdba ecafbg ecabg bgacfd gecaf feba aedbfgc fca gdfec af | fac af cfa eafbgc\n",
      "geab adgfc gacef acgefdb gecfba eg dbfgec beacf afedbc ecg | baeg fgadc fagbce edfgbca\n",
      " ...\n",
      "df abfce degbc cfd acgfed gbdf bacfegd efdcb badceg egfcbd | cebgd bgdf bceaf df\n",
      "bfdc eabdf ebcad fgead bcdeag fba bf bcedgfa cdebfa bcegaf | defba cfbd bdcf fabceg\n",
      "dbaefcg ec aec dfgbea cafeg aedcbg gacedf egadf gfcba cfde | eac efcd ec egcfda\n",
      "ecgfdab gcefb bcfa af cgfdbe aegbf ebadg eacgfd gbecaf afg | aedbg bafc acfb dgfbace\n"
     ]
    },
    {
     "data": {
      "text/markdown": [
       "The stored answers are: `{1: '548', 2: '1074888'}`"
      ],
      "text/plain": [
       "<IPython.core.display.Markdown object>"
      ]
     },
     "metadata": {},
     "output_type": "display_data"
    }
   ],
   "source": [
    "puzzle = advent.puzzle(day=8)"
   ]
  },
  {
   "cell_type": "code",
   "execution_count": 45,
   "id": "2717b00c",
   "metadata": {
    "execution": {
     "iopub.execute_input": "2023-01-10T23:00:50.815810Z",
     "iopub.status.busy": "2023-01-10T23:00:50.815507Z",
     "iopub.status.idle": "2023-01-10T23:00:50.818585Z",
     "shell.execute_reply": "2023-01-10T23:00:50.818056Z",
     "shell.execute_reply.started": "2023-01-10T23:00:50.815797Z"
    }
   },
   "outputs": [],
   "source": [
    "s1 = \"\"\"\\\n",
    "be cfbegad cbdgef fgaecd cgeb fdcge agebfd fecdb fabcd edb | fdgacbe cefdb cefbgd gcbe\n",
    "edbfga begcd cbg gc gcadebf fbgde acbgfd abcde gfcbed gfec | fcgedb cgb dgebacf gc\n",
    "fgaebd cg bdaec gdafb agbcfd gdcbef bgcad gfac gcb cdgabef | cg cg fdcagb cbg\n",
    "fbegcd cbd adcefb dageb afcb bc aefdc ecdab fgdeca fcdbega | efabcd cedba gadfec cb\n",
    "aecbfdg fbg gf bafeg dbefa fcge gcbea fcaegb dgceab fcbdga | gecf egdcabf bgf bfgea\n",
    "fgeab ca afcebg bdacfeg cfaedg gcfdb baec bfadeg bafgc acf | gebdcfa ecba ca fadegcb\n",
    "dbcfg fgd bdegcaf fgec aegbdf ecdfab fbedc dacgb gdcebf gf | cefg dcbef fcge gbcadfe\n",
    "bdfegc cbegaf gecbf dfcage bdacg ed bedf ced adcbefg gebcd | ed bcgafe cdgba cbgef\n",
    "egadfb cdbfeg cegd fecab cgb gbdefca cg fgcdab egfdb bfceg | gbdfcae bgc cg cgb\n",
    "gcafb gcf dcaebfg ecagb gf abcdeg gaef cafbge fdbac fegbdc | fgae cfgab fg bagce\n",
    "\"\"\""
   ]
  },
  {
   "cell_type": "code",
   "execution_count": 46,
   "id": "b1f1e3c2",
   "metadata": {
    "execution": {
     "iopub.execute_input": "2023-01-10T23:00:50.819360Z",
     "iopub.status.busy": "2023-01-10T23:00:50.819225Z",
     "iopub.status.idle": "2023-01-10T23:00:50.827744Z",
     "shell.execute_reply": "2023-01-10T23:00:50.827169Z",
     "shell.execute_reply.started": "2023-01-10T23:00:50.819350Z"
    },
    "tags": []
   },
   "outputs": [],
   "source": [
    "# Brute-force iteration over all permutations is not excessive:\n",
    "if 0:\n",
    "  print(len(list(itertools.permutations('abcdefg'))))  # 5040\n",
    "  print(math.perm(len('abcdefg')))  # 5040"
   ]
  },
  {
   "cell_type": "code",
   "execution_count": 47,
   "id": "78d25750",
   "metadata": {
    "execution": {
     "iopub.execute_input": "2023-01-10T23:00:50.828658Z",
     "iopub.status.busy": "2023-01-10T23:00:50.828404Z",
     "iopub.status.idle": "2023-01-10T23:00:50.837746Z",
     "shell.execute_reply": "2023-01-10T23:00:50.837218Z",
     "shell.execute_reply.started": "2023-01-10T23:00:50.828641Z"
    }
   },
   "outputs": [
    {
     "name": "stdout",
     "output_type": "stream",
     "text": [
      "(Part 1: 0.000 s)\n"
     ]
    }
   ],
   "source": [
    "def day8a_part1(s):\n",
    "  total = 0\n",
    "  for line in s.splitlines():\n",
    "    _, outputs = map(str.split, line.split(' | '))\n",
    "    total += sum(len(output) in [2, 3, 4, 7] for output in outputs)\n",
    "  return total\n",
    "\n",
    "\n",
    "check_eq(day8a_part1(s1), 26)\n",
    "\n",
    "\n",
    "def day8_part1(s):\n",
    "  return sum(\n",
    "      len(output) in [2, 3, 4, 7]\n",
    "      for line in s.splitlines()\n",
    "      for output in line.split(' | ')[1].split()\n",
    "  )\n",
    "\n",
    "\n",
    "check_eq(day8_part1(s1), 26)\n",
    "puzzle.verify(1, day8_part1)  # ~0 ms."
   ]
  },
  {
   "cell_type": "code",
   "execution_count": 48,
   "id": "0e52ee3f",
   "metadata": {
    "execution": {
     "iopub.execute_input": "2023-01-10T23:00:50.838436Z",
     "iopub.status.busy": "2023-01-10T23:00:50.838294Z",
     "iopub.status.idle": "2023-01-10T23:00:50.849568Z",
     "shell.execute_reply": "2023-01-10T23:00:50.849095Z",
     "shell.execute_reply.started": "2023-01-10T23:00:50.838424Z"
    }
   },
   "outputs": [],
   "source": [
    "def day8_lookup():\n",
    "  return {\n",
    "      'abcefg': '0',\n",
    "      'cf': '1',\n",
    "      'acdeg': '2',\n",
    "      'acdfg': '3',\n",
    "      'bcdf': '4',\n",
    "      'abdfg': '5',\n",
    "      'abdefg': '6',\n",
    "      'acf': '7',\n",
    "      'abcdefg': '8',\n",
    "      'abcdfg': '9',\n",
    "  }"
   ]
  },
  {
   "cell_type": "code",
   "execution_count": 49,
   "id": "e3ab7dad",
   "metadata": {
    "execution": {
     "iopub.execute_input": "2023-01-10T23:00:50.850425Z",
     "iopub.status.busy": "2023-01-10T23:00:50.850158Z",
     "iopub.status.idle": "2023-01-10T23:00:51.509533Z",
     "shell.execute_reply": "2023-01-10T23:00:51.508897Z",
     "shell.execute_reply.started": "2023-01-10T23:00:50.850412Z"
    }
   },
   "outputs": [
    {
     "name": "stdout",
     "output_type": "stream",
     "text": [
      "(Part 2: 0.609 s)\n"
     ]
    }
   ],
   "source": [
    "def day8a_part2(s):  # Brute-force; most compact.\n",
    "  lookup = day8_lookup()\n",
    "  total = 0\n",
    "\n",
    "  for line in s.splitlines():\n",
    "    inputs, outputs = map(str.split, line.split(' | '))\n",
    "    for permutation in itertools.permutations('abcdefg'):\n",
    "      translation = str.maketrans('abcdefg', ''.join(permutation))\n",
    "\n",
    "      def get_digit(segs):\n",
    "        return lookup.get(''.join(sorted(segs.translate(translation))), None)\n",
    "\n",
    "      if all(get_digit(input) for input in inputs):\n",
    "        total += int(''.join(get_digit(output) for output in outputs))\n",
    "        break\n",
    "    else:\n",
    "      raise ValueError(f'Line \"{line}\" has no consistent mapping.')\n",
    "\n",
    "  return total\n",
    "\n",
    "\n",
    "check_eq(day8a_part2(s1), 61229)\n",
    "puzzle.verify(2, day8a_part2)  # ~1450 ms."
   ]
  },
  {
   "cell_type": "code",
   "execution_count": 50,
   "id": "da37771f",
   "metadata": {
    "execution": {
     "iopub.execute_input": "2023-01-10T23:00:51.510718Z",
     "iopub.status.busy": "2023-01-10T23:00:51.510246Z",
     "iopub.status.idle": "2023-01-10T23:00:51.911970Z",
     "shell.execute_reply": "2023-01-10T23:00:51.911415Z",
     "shell.execute_reply.started": "2023-01-10T23:00:51.510701Z"
    }
   },
   "outputs": [
    {
     "name": "stdout",
     "output_type": "stream",
     "text": [
      "(Part 2: 0.372 s)\n"
     ]
    }
   ],
   "source": [
    "def day8b_part2(s):  # Faster; cache a translation table for each permutation.\n",
    "  lookup = {frozenset(k): str(v) for k, v in day8_lookup().items()}\n",
    "  total = 0\n",
    "\n",
    "  @functools.lru_cache(maxsize=None)  # (@functools.cache in Python 3.9)\n",
    "  def digit_mapper(permutation):\n",
    "    translation = str.maketrans('abcdefg', ''.join(permutation))\n",
    "    return lambda segs: lookup.get(frozenset(segs.translate(translation)), None)\n",
    "\n",
    "  for line in s.splitlines():\n",
    "    inputs, outputs = map(str.split, line.split(' | '))\n",
    "    inputs.sort(key=len)  # Optional, for speedup.\n",
    "    for permutation in itertools.permutations('abcdefg'):\n",
    "      get_digit = digit_mapper(permutation)\n",
    "      if all(get_digit(input) for input in inputs):\n",
    "        total += int(''.join(get_digit(output) for output in outputs))\n",
    "        break\n",
    "    else:\n",
    "      raise ValueError(f'Line \"{line}\" has no consistent mapping.')\n",
    "\n",
    "  return total\n",
    "\n",
    "\n",
    "check_eq(day8b_part2(s1), 61229)\n",
    "puzzle.verify(2, day8b_part2)  # ~810 ms."
   ]
  },
  {
   "cell_type": "code",
   "execution_count": 51,
   "id": "481e97d8",
   "metadata": {
    "execution": {
     "iopub.execute_input": "2023-01-10T23:00:51.913185Z",
     "iopub.status.busy": "2023-01-10T23:00:51.912676Z",
     "iopub.status.idle": "2023-01-10T23:00:52.111103Z",
     "shell.execute_reply": "2023-01-10T23:00:52.110589Z",
     "shell.execute_reply.started": "2023-01-10T23:00:51.913169Z"
    }
   },
   "outputs": [
    {
     "name": "stdout",
     "output_type": "stream",
     "text": [
      "(Part 2: 0.163 s)\n"
     ]
    }
   ],
   "source": [
    "def day8c_part2(s):  # Faster; loop over permutations first, then lines.\n",
    "  lookup = day8_lookup()\n",
    "  lines = s.splitlines()\n",
    "  ins0, outs0 = zip(*(map(str.split, line.split(' | ')) for line in lines))\n",
    "  ins = [[frozenset(input) for input in inputs] for inputs in ins0]\n",
    "  outs = list(outs0)\n",
    "  total = 0\n",
    "\n",
    "  for permutation in itertools.permutations('abcdefg'):\n",
    "    translation = str.maketrans(''.join(permutation), 'abcdefg')\n",
    "    decode = {frozenset(k.translate(translation)): v for k, v in lookup.items()}\n",
    "    for i in reversed(range(len(ins))):\n",
    "      if all(input in decode for input in ins[i]):\n",
    "        total += int(''.join(str(decode[frozenset(output)]) for output in outs[i]))\n",
    "        _ = ins.pop(i), outs.pop(i)\n",
    "\n",
    "  assert not ins\n",
    "  return total\n",
    "\n",
    "\n",
    "check_eq(day8c_part2(s1), 61229)\n",
    "puzzle.verify(2, day8c_part2)  # ~360 ms."
   ]
  },
  {
   "cell_type": "code",
   "execution_count": 52,
   "id": "c0359054",
   "metadata": {
    "execution": {
     "iopub.execute_input": "2023-01-10T23:00:52.112326Z",
     "iopub.status.busy": "2023-01-10T23:00:52.111682Z",
     "iopub.status.idle": "2023-01-10T23:00:52.327124Z",
     "shell.execute_reply": "2023-01-10T23:00:52.326564Z",
     "shell.execute_reply.started": "2023-01-10T23:00:52.112260Z"
    }
   },
   "outputs": [
    {
     "name": "stdout",
     "output_type": "stream",
     "text": [
      "(Part 2: 0.155 s)\n"
     ]
    }
   ],
   "source": [
    "def day8d_part2(s):  # Faster; precompute seg sets for each permutation.\n",
    "  lookup = day8_lookup()\n",
    "  valids = {\n",
    "      ''.join(permutation): set(\n",
    "          frozenset(k.translate(str.maketrans('abcdefg', ''.join(permutation)))) for k in lookup\n",
    "      )\n",
    "      for permutation in itertools.permutations('abcdefg')\n",
    "  }\n",
    "  total = 0\n",
    "\n",
    "  for line in s.splitlines():\n",
    "    inputs0, outputs = map(str.split, line.split(' | '))\n",
    "    inputs = frozenset(frozenset(input) for input in inputs0)\n",
    "    for permutation, valid in valids.items():\n",
    "      if inputs == valid:\n",
    "        translation = str.maketrans('abcdefg', permutation)\n",
    "        decode = {frozenset(k.translate(translation)): str(v) for k, v in lookup.items()}\n",
    "        total += int(''.join(decode[frozenset(output)] for output in outputs))\n",
    "        break\n",
    "    else:\n",
    "      raise ValueError(f'Line \"{line}\" has no consistent mapping.')\n",
    "\n",
    "  return total\n",
    "\n",
    "\n",
    "check_eq(day8d_part2(s1), 61229)\n",
    "puzzle.verify(2, day8d_part2)  # ~240 ms."
   ]
  },
  {
   "cell_type": "code",
   "execution_count": 53,
   "id": "c70fd732",
   "metadata": {
    "execution": {
     "iopub.execute_input": "2023-01-10T23:00:52.328178Z",
     "iopub.status.busy": "2023-01-10T23:00:52.327823Z",
     "iopub.status.idle": "2023-01-10T23:00:52.455336Z",
     "shell.execute_reply": "2023-01-10T23:00:52.454780Z",
     "shell.execute_reply.started": "2023-01-10T23:00:52.328162Z"
    }
   },
   "outputs": [
    {
     "name": "stdout",
     "output_type": "stream",
     "text": [
      "(Part 2: 0.083 s)\n"
     ]
    }
   ],
   "source": [
    "def day8e_part2(s):  # Faster; loop over permutations first, and use sets of lines.\n",
    "  lookup = day8_lookup()\n",
    "  lines = {\n",
    "      (frozenset(frozenset(i) for i in inputs), tuple(frozenset(o) for o in outputs))\n",
    "      for line in s.splitlines()\n",
    "      for inputs, outputs in [map(str.split, line.split(' | '))]\n",
    "  }\n",
    "  total = 0\n",
    "\n",
    "  for permutation in itertools.permutations('abcdefg'):\n",
    "    translation = str.maketrans(''.join(permutation), 'abcdefg')\n",
    "    valid = frozenset(frozenset(k.translate(translation)) for k in lookup)\n",
    "    decode = {frozenset(k.translate(translation)): v for k, v in lookup.items()}\n",
    "    processed_lines = set()\n",
    "    for line in lines:\n",
    "      inputs, outputs = line\n",
    "      if inputs == valid:\n",
    "        total += int(''.join(str(decode[output]) for output in outputs))\n",
    "        processed_lines.add(line)\n",
    "    lines -= processed_lines\n",
    "\n",
    "  assert not lines\n",
    "  return total\n",
    "\n",
    "\n",
    "check_eq(day8e_part2(s1), 61229)\n",
    "puzzle.verify(2, day8e_part2)  # ~170 ms."
   ]
  },
  {
   "cell_type": "code",
   "execution_count": 54,
   "id": "5fac936e",
   "metadata": {
    "execution": {
     "iopub.execute_input": "2023-01-10T23:00:52.456371Z",
     "iopub.status.busy": "2023-01-10T23:00:52.456023Z",
     "iopub.status.idle": "2023-01-10T23:00:52.464845Z",
     "shell.execute_reply": "2023-01-10T23:00:52.464105Z",
     "shell.execute_reply.started": "2023-01-10T23:00:52.456358Z"
    }
   },
   "outputs": [
    {
     "name": "stdout",
     "output_type": "stream",
     "text": [
      "(Part 2: 0.003 s)\n"
     ]
    }
   ],
   "source": [
    "def day8_part2(s):  # Fastest; custom solution for the 7-segment LED.\n",
    "  total = 0\n",
    "  segs_from_digit: dict[int, frozenset[str]] = {}  # digit 0..9 -> frozenset of segments.\n",
    "  rules: list[tuple[int, int, Callable[[frozenset[str]], bool]]] = [\n",
    "      # (digit, len(segs), predicate(segs)).\n",
    "      (1, 2, lambda e: True),\n",
    "      (7, 3, lambda e: True),\n",
    "      (4, 4, lambda e: True),\n",
    "      (8, 7, lambda e: True),\n",
    "      (3, 5, lambda e: e > segs_from_digit[1]),\n",
    "      (6, 6, lambda e: not e > segs_from_digit[1]),\n",
    "      (9, 6, lambda e: e > segs_from_digit[3]),\n",
    "      (0, 6, lambda e: True),\n",
    "      (2, 5, lambda e: not e < segs_from_digit[9]),\n",
    "      (5, 5, lambda e: True),\n",
    "  ]\n",
    "\n",
    "  for line in s.splitlines():\n",
    "    inputs0, outputs = map(str.split, line.split(' | '))\n",
    "    inputs = set(frozenset(input) for input in inputs0)\n",
    "    segs_from_digit.clear()\n",
    "    for digit, length, predicate in rules:\n",
    "      (segs,) = (e for e in inputs if len(e) == length and predicate(e))\n",
    "      segs_from_digit[digit] = segs\n",
    "      inputs.remove(segs)\n",
    "    digit_from_segs = {segs: digit for digit, segs in segs_from_digit.items()}\n",
    "    total += int(''.join(str(digit_from_segs[frozenset(output)]) for output in outputs))\n",
    "\n",
    "  return total\n",
    "\n",
    "\n",
    "check_eq(day8_part2(s1), 61229)\n",
    "puzzle.verify(2, day8_part2)  # ~5 ms."
   ]
  },
  {
   "cell_type": "markdown",
   "id": "45826d33",
   "metadata": {},
   "source": [
    "<a name=\"day9\"></a>\n",
    "## Day 9: Heightmap basins"
   ]
  },
  {
   "cell_type": "markdown",
   "id": "f5f93131",
   "metadata": {},
   "source": [
    "- Part 1: What is the sum of the risk levels of all low points on your heightmap?\n",
    "\n",
    "- Part 2: What do you get if you multiply together the sizes of the three largest basins?\n",
    "\n",
    "---\n",
    "\n",
    "I pursued two approaches, which may both be unconventional and interesting:\n",
    "\n",
    "1.  Using the **`Union-Find` algorithm** to define the basins as the connected components of \"drainage\" relations between adjacent grid nodes.\n",
    "Unfortunately this is slow because the basic merging operation\n",
    "    ```python\n",
    "    union_find.unify(yx, tuple(yx + downward[yx]))\n",
    "    ```\n",
    "is not vectorized across nodes.\n",
    "\n",
    "2.  Computing for each node the lowest node to which it drains, as sequence of **vectorized `numpy` updates**:\n",
    "    ```python\n",
    "    for _ in range(8):\n",
    "      yx += np.moveaxis(downward[tuple(yx)], -1, 0)\n",
    "    ```\n",
    "and then using the powerful `np.unique()` function to identify the basins\n",
    "as the sets of nodes with common drainage."
   ]
  },
  {
   "cell_type": "code",
   "execution_count": 55,
   "id": "a0f9b231",
   "metadata": {
    "execution": {
     "iopub.execute_input": "2023-01-10T23:00:52.465900Z",
     "iopub.status.busy": "2023-01-10T23:00:52.465712Z",
     "iopub.status.idle": "2023-01-10T23:00:52.488512Z",
     "shell.execute_reply": "2023-01-10T23:00:52.487979Z",
     "shell.execute_reply.started": "2023-01-10T23:00:52.465888Z"
    },
    "tags": []
   },
   "outputs": [
    {
     "data": {
      "text/markdown": [
       "For [day 9](https://adventofcode.com/2021/day/9), `puzzle.input` has 100 lines:"
      ],
      "text/plain": [
       "<IPython.core.display.Markdown object>"
      ]
     },
     "metadata": {},
     "output_type": "display_data"
    },
    {
     "name": "stdout",
     "output_type": "stream",
     "text": [
      "5456789349886456890123985435578996543213456789656899996467789234989765442345789778999989652349879899\n",
      "4349891298765348789339875323456789665434568996545698874356679959879898321457893569998879931998765668\n",
      "1298910989873234595498764312345678976746899989656987563234567899767987442578954678987968899897654457\n",
      "2987939875432123489999953201234599698657979979997965432023479998959876553689965789876856789789543345\n",
      "9896899984321012668899865313546789569798965469879876553135568987643988767997896898765945697698722256\n",
      "8765789965442143456789996579658895434999876398767987864589679876542099898966789999833123598589810123\n",
      "9954629876553234667899987988767932129899989219755398878678989987943989959355678998921057987678924345\n",
      "6543212989654345788999898999998941098789998998543229989789797999899876543134989997632345698789545456\n",
      " ...\n",
      "2324579569889834578965789998976899876679876544567892346899986545992198765767893345997569987654568999\n",
      "1012459698779323569954678967997987764589997432378965467999987956893987654556789457896456999765678967\n",
      "2123468987656313467893212356789996543678986543567899578998898768954998643544579968998345899976899456\n",
      "3654567896543202348932104567899987654569999864568998679997649879869876542123567899765456789987893237\n"
     ]
    },
    {
     "data": {
      "text/markdown": [
       "The stored answers are: `{1: '506', 2: '931200'}`"
      ],
      "text/plain": [
       "<IPython.core.display.Markdown object>"
      ]
     },
     "metadata": {},
     "output_type": "display_data"
    }
   ],
   "source": [
    "puzzle = advent.puzzle(day=9)"
   ]
  },
  {
   "cell_type": "code",
   "execution_count": 56,
   "id": "f2c2671e",
   "metadata": {
    "execution": {
     "iopub.execute_input": "2023-01-10T23:00:52.489419Z",
     "iopub.status.busy": "2023-01-10T23:00:52.489145Z",
     "iopub.status.idle": "2023-01-10T23:00:52.491617Z",
     "shell.execute_reply": "2023-01-10T23:00:52.491176Z",
     "shell.execute_reply.started": "2023-01-10T23:00:52.489408Z"
    },
    "tags": []
   },
   "outputs": [],
   "source": [
    "s1 = \"\"\"\\\n",
    "2199943210\n",
    "3987894921\n",
    "9856789892\n",
    "8767896789\n",
    "9899965678\n",
    "\"\"\""
   ]
  },
  {
   "cell_type": "code",
   "execution_count": 57,
   "id": "e3e7fe11",
   "metadata": {
    "execution": {
     "iopub.execute_input": "2023-01-10T23:00:52.492335Z",
     "iopub.status.busy": "2023-01-10T23:00:52.492132Z",
     "iopub.status.idle": "2023-01-10T23:00:52.538562Z",
     "shell.execute_reply": "2023-01-10T23:00:52.537975Z",
     "shell.execute_reply.started": "2023-01-10T23:00:52.492324Z"
    },
    "tags": []
   },
   "outputs": [
    {
     "name": "stdout",
     "output_type": "stream",
     "text": [
      "(Part 1: 0.001 s)\n",
      "(Part 2: 0.031 s)\n"
     ]
    }
   ],
   "source": [
    "def day9a(s, *, part2=False):  # Solution using Union-Find.  Relatively slow.\n",
    "  grid = np.array([list(line) for line in s.splitlines()], int)\n",
    "  dyxs = np.array([(0, -1), (0, 1), (-1, 0), (1, 0)])\n",
    "  t = np.pad(grid, 1, constant_values=10)\n",
    "  neighbors = np.array([np.roll(t, -dyx, (0, 1))[1:-1, 1:-1] for dyx in dyxs])\n",
    "  low_point = (grid[None] < neighbors).all(axis=0)\n",
    "\n",
    "  if not part2:\n",
    "    return (grid[low_point] + 1).sum()\n",
    "\n",
    "  downward = dyxs[neighbors.argmin(axis=0)]\n",
    "  downward[grid == 9] = 0\n",
    "\n",
    "  union_find = hh.UnionFind[Tuple[int, int]]()\n",
    "  for y, x in np.ndindex(grid.shape):\n",
    "    dy, dx = downward[y, x]\n",
    "    union_find.union((y, x), (y + dy, x + dx))\n",
    "\n",
    "  rep = np.array(\n",
    "      [[union_find.find((y, x)) for x in range(grid.shape[1])] for y in range(grid.shape[0])]\n",
    "  )\n",
    "\n",
    "  _, count = np.unique(rep.reshape(-1, 2), axis=0, return_counts=True)\n",
    "  return np.sort(count)[-3:].prod()\n",
    "\n",
    "\n",
    "check_eq(day9a(s1), 15)\n",
    "puzzle.verify(1, day9a)  # ~5 ms.\n",
    "\n",
    "day9a_part2 = functools.partial(day9a, part2=True)\n",
    "check_eq(day9a_part2(s1), 1134)\n",
    "puzzle.verify(2, day9a_part2)  # ~110 ms."
   ]
  },
  {
   "cell_type": "code",
   "execution_count": 58,
   "id": "205355c0",
   "metadata": {
    "execution": {
     "iopub.execute_input": "2023-01-10T23:00:52.539515Z",
     "iopub.status.busy": "2023-01-10T23:00:52.539249Z",
     "iopub.status.idle": "2023-01-10T23:00:52.553502Z",
     "shell.execute_reply": "2023-01-10T23:00:52.553006Z",
     "shell.execute_reply.started": "2023-01-10T23:00:52.539499Z"
    },
    "tags": []
   },
   "outputs": [
    {
     "name": "stdout",
     "output_type": "stream",
     "text": [
      "(Part 1: 0.001 s)\n",
      "(Part 2: 0.006 s)\n"
     ]
    }
   ],
   "source": [
    "def day9b(s, *, part2=False, visualize=False):  # Faster using numpy.\n",
    "  grid = np.array([list(line) for line in s.splitlines()], int)\n",
    "  dyxs = np.concatenate([[v, -v] for v in np.eye(grid.ndim, dtype=int)])\n",
    "  t = np.pad(grid, 1, constant_values=10)\n",
    "  neighbors = np.array([np.roll(t, -dyx, (0, 1))[1:-1, 1:-1] for dyx in dyxs])\n",
    "  low_point = (grid < neighbors).all(axis=0)\n",
    "\n",
    "  if not part2:\n",
    "    return (grid[low_point] + 1).sum()\n",
    "\n",
    "  downward = dyxs[neighbors.argmin(axis=0)]\n",
    "  downward[grid == 9] = downward[low_point] = 0\n",
    "\n",
    "  yx = np.array(np.indices(grid.shape))\n",
    "  for _ in range(8):\n",
    "    yx += np.moveaxis(downward[tuple(yx)], -1, 0)\n",
    "\n",
    "  _, count = np.unique(yx.reshape(2, -1), axis=1, return_counts=True)\n",
    "\n",
    "  if visualize:\n",
    "    _, inverse = np.unique(yx.reshape(2, -1), axis=1, return_inverse=True)\n",
    "    cmap = np.random.default_rng(0).choice(range(30, 150), (len(count), 3)).astype(np.uint8)\n",
    "    cmap[count == 1] = 0\n",
    "    cmap[count >= heapq.nlargest(3, count)[-1]] += 100  # 2 are tied for third!\n",
    "    basin = cmap[inverse.reshape(grid.shape)]\n",
    "    basin[low_point] = 255\n",
    "    images = {'Heightmap': grid.astype(float), 'Basins': basin}\n",
    "    media.show_images(images, height=grid.shape[0] * 3)\n",
    "\n",
    "  return math.prod(heapq.nlargest(3, count))\n",
    "\n",
    "\n",
    "check_eq(day9b(s1), 15)\n",
    "puzzle.verify(1, day9b)  # ~4 ms.\n",
    "\n",
    "day9b_part2 = functools.partial(day9b, part2=True)\n",
    "check_eq(day9b_part2(s1), 1134)\n",
    "puzzle.verify(2, day9b_part2)  # ~15 ms."
   ]
  },
  {
   "cell_type": "code",
   "execution_count": 59,
   "id": "897ca511",
   "metadata": {
    "execution": {
     "iopub.execute_input": "2023-01-10T23:00:52.554470Z",
     "iopub.status.busy": "2023-01-10T23:00:52.554111Z",
     "iopub.status.idle": "2023-01-10T23:00:52.567602Z",
     "shell.execute_reply": "2023-01-10T23:00:52.567095Z",
     "shell.execute_reply.started": "2023-01-10T23:00:52.554457Z"
    }
   },
   "outputs": [
    {
     "name": "stdout",
     "output_type": "stream",
     "text": [
      "(Part 1: 0.001 s)\n",
      "(Part 2: 0.002 s)\n"
     ]
    }
   ],
   "source": [
    "def day9(s, *, part2=False, visualize=False):  # Faster, using flat indexing.\n",
    "  grid = np.array([list(line) for line in s.splitlines()], int)\n",
    "  dyxs = np.concatenate([[v, -v] for v in np.eye(grid.ndim, dtype=int)])\n",
    "  t = np.pad(grid, 1, constant_values=10)\n",
    "  neighbors = np.array([np.roll(t, -dyx, (0, 1))[1:-1, 1:-1] for dyx in dyxs])\n",
    "  low_point = (grid < neighbors).all(axis=0)\n",
    "\n",
    "  if not part2:\n",
    "    return (grid[low_point] + 1).sum()\n",
    "\n",
    "  downward = dyxs[neighbors.argmin(axis=0)]\n",
    "  downward[grid == 9] = downward[low_point] = 0\n",
    "  downward = downward.dot([grid.shape[1], 1]).ravel()\n",
    "\n",
    "  indices = np.arange(grid.size)\n",
    "  for _ in range(8):\n",
    "    indices += downward[indices]\n",
    "  _, count = np.unique(indices, return_counts=True)\n",
    "\n",
    "  if visualize:\n",
    "    _, inverse = np.unique(indices, return_inverse=True)\n",
    "    basins = {}\n",
    "    for highlight in range(2):\n",
    "      cmap = np.random.default_rng(0).choice(range(30, 150), (len(count), 3)).astype(np.uint8)\n",
    "      cmap[count == 1] = 0\n",
    "      if highlight:\n",
    "        cmap[count >= heapq.nlargest(3, count)[-1]] += 100\n",
    "      basin = cmap[inverse.reshape(grid.shape)]\n",
    "      basin[low_point] = 255\n",
    "      basins[highlight] = basin.repeat(3, axis=0).repeat(3, axis=1)\n",
    "    height_map = grid.astype(float).repeat(3, axis=0).repeat(3, axis=1)\n",
    "    media.show_image(height_map, title='Height map')\n",
    "    title = 'Basins (two may be tied for 3rd place!)'\n",
    "    media.show_video(basins.values(), title=title, codec='gif', fps=1)\n",
    "\n",
    "  return math.prod(heapq.nlargest(3, count))\n",
    "\n",
    "\n",
    "# To generalize to arbitrary dimensions:\n",
    "# downward = downward.dot(np.cumprod([1, *grid.shape[-1:0:-1]])[::-1]).ravel()\n",
    "\n",
    "# To omit the `for` loop:\n",
    "# indices = functools.reduce(lambda indices, _: indices + downward[indices],\n",
    "#                            range(8), np.arange(grid.size))\n",
    "\n",
    "check_eq(day9(s1), 15)\n",
    "puzzle.verify(1, day9)  # ~4 ms.\n",
    "\n",
    "day9_part2 = functools.partial(day9, part2=True)\n",
    "check_eq(day9_part2(s1), 1134)\n",
    "puzzle.verify(2, day9_part2)  # ~7 ms."
   ]
  },
  {
   "cell_type": "code",
   "execution_count": 60,
   "id": "cb953805",
   "metadata": {
    "execution": {
     "iopub.execute_input": "2023-01-10T23:00:52.568493Z",
     "iopub.status.busy": "2023-01-10T23:00:52.568204Z",
     "iopub.status.idle": "2023-01-10T23:00:52.618878Z",
     "shell.execute_reply": "2023-01-10T23:00:52.618111Z",
     "shell.execute_reply.started": "2023-01-10T23:00:52.568476Z"
    },
    "tags": []
   },
   "outputs": [
    {
     "data": {
      "text/html": [
       "<table class=\"show_images\" style=\"border-spacing:0px;\"><tr><td style=\"padding:1px;\"><div style=\"display:flex; align-items:left;\">\n",
       "      <div style=\"display:flex; flex-direction:column; align-items:center;\">\n",
       "      <div>Height map</div><div><img width=\"300\" height=\"300\" style=\"image-rendering:auto; object-fit:cover;\" src=\"data:image/png;base64,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\"/></div></div></div></td></tr></table>"
      ],
      "text/plain": [
       "<IPython.core.display.HTML object>"
      ]
     },
     "metadata": {},
     "output_type": "display_data"
    },
    {
     "data": {
      "text/html": [
       "<table class=\"show_videos\" style=\"border-spacing:0px;\"><tr><td style=\"padding:1px;\"><div style=\"display:flex; align-items:left;\">\n",
       "      <div style=\"display:flex; flex-direction:column; align-items:center;\">\n",
       "      <div>Basins (two may be tied for 3rd place!)</div><div><img width=\"300\" height=\"300\" style=\"image-rendering:auto; object-fit:cover;\" src=\"data:image/gif;base64,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\"/></div></div></div></td></tr></table>"
      ],
      "text/plain": [
       "<IPython.core.display.HTML object>"
      ]
     },
     "metadata": {},
     "output_type": "display_data"
    }
   ],
   "source": [
    "_ = day9_part2(puzzle.input, visualize=True)"
   ]
  },
  {
   "cell_type": "markdown",
   "id": "c35cacc4",
   "metadata": {},
   "source": [
    "<a name=\"day10\"></a>\n",
    "## Day 10: Parsing parentheses"
   ]
  },
  {
   "cell_type": "markdown",
   "id": "ae2e3489",
   "metadata": {},
   "source": [
    "- Part 1: What is the total syntax error score for those errors?\n",
    "\n",
    "- Part 2: For all incomplete inputs, compute an auto-complete score.  What is the middle score?\n",
    "\n",
    "---\n",
    "\n",
    "This is a straightforward solution with a **`stack`**."
   ]
  },
  {
   "cell_type": "code",
   "execution_count": 61,
   "id": "8bee5acd",
   "metadata": {
    "execution": {
     "iopub.execute_input": "2023-01-10T23:00:52.620010Z",
     "iopub.status.busy": "2023-01-10T23:00:52.619767Z",
     "iopub.status.idle": "2023-01-10T23:00:52.634793Z",
     "shell.execute_reply": "2023-01-10T23:00:52.634253Z",
     "shell.execute_reply.started": "2023-01-10T23:00:52.619987Z"
    }
   },
   "outputs": [
    {
     "data": {
      "text/markdown": [
       "For [day 10](https://adventofcode.com/2021/day/10), `puzzle.input` has 90 lines:"
      ],
      "text/plain": [
       "<IPython.core.display.Markdown object>"
      ]
     },
     "metadata": {},
     "output_type": "display_data"
    },
    {
     "name": "stdout",
     "output_type": "stream",
     "text": [
      "(((<(([{{((<[[<><>]<()[]>]{[{}()]<(){}>}>[<([]{})>])(<<(<><>>[<><>]>(<{}()><(){}>)>[(([])<[]()>)])){<((<{}()\n",
      "{(({({<[[[{[{({}{})[[]{}]}[{(){}}((){})]][{((){}){[]{}}}<(()())<<><>>>]}]]]{([<{<<()()>([][])>({[]()}[{}<\n",
      "[[{<(([<<{(<[[()()]]{[[]()]<{}>}><{{{}()}<<>[]>><(())[()[]]>>)([{[[][]][()()]}{{()()}}](<{{}()}>))}[([{<<\n",
      "{<[{<{[({[[[[{<>{}}<{}()>]<{<><>}{[][]}>](<<<>[]>[()()]>[{[]{}>[<>()]])]{{{[()()][<><>]}<[{}()][{}{}]\n",
      "(<[{[{[((<{[[<()()><{}{}>][(<>{}){{}{}}]]{<[<><>]>{{{}[]}(<>[])}}}(<[[[]{}](<>{})]{[[][]][[][]]}>)>)){<{\n",
      "<<<(<(<[[[<[{{[]<>}([]())}([[]])]([[[]<>][()()]]{<()()>([]{})])>]{[[<{[]{}}([]{})>{(<>[]){{}{}}}]]{({{<>[]\n",
      "[{<(({(<{<{<<{<><>}>({<><>}<<><>>)}{[{[]<>}[[][]]][<()<>>]}}<[[[()()]{<><>}]((<>)[{}()])]{<{()<>}\n",
      "<[([{{{({<({(<(){}><[]()>)((()())[[]()})})[<{<<>>((){})}<[<><>]{(){}}>>{{(<>[])({}[])}(<()<>>)}]>})}({{({\n",
      " ...\n",
      "([{[{<<<[{{({[{}()]}<<<>[]>{<>[]}>)((([]<>))([<>{}]))}{{[([]{})<(){}>}((()[])<[]()>)}({[(){}\n",
      "[({[<[[[(((<<[[]]<[]<>>>>{{([]<>){()[]}}})(({(<><>)({}())})<({{}[]}{[]()})[{()<>}([][])]>)\n",
      "<[[{[[{{[[[<<{()[]}<[][]>>{<<><>>[{}]}>{[<{}<>><[]<>>](((){}))}]{{<((){}){<>{}}>{(<>())[<>[]]}}<<{{}()}((\n",
      "(<[{(<<([[([[<{}{}>[<>[]]]][[{{}()}]<[<>()][()<>]>])<{[(<>{})(()[])]{[{}()][<>()]}}<((<>[]){<>()})(<()\n"
     ]
    },
    {
     "data": {
      "text/markdown": [
       "The stored answers are: `{1: '323613', 2: '3103006161'}`"
      ],
      "text/plain": [
       "<IPython.core.display.Markdown object>"
      ]
     },
     "metadata": {},
     "output_type": "display_data"
    }
   ],
   "source": [
    "puzzle = advent.puzzle(day=10)"
   ]
  },
  {
   "cell_type": "code",
   "execution_count": 62,
   "id": "4d4cbd89",
   "metadata": {
    "execution": {
     "iopub.execute_input": "2023-01-10T23:00:52.635787Z",
     "iopub.status.busy": "2023-01-10T23:00:52.635382Z",
     "iopub.status.idle": "2023-01-10T23:00:52.638479Z",
     "shell.execute_reply": "2023-01-10T23:00:52.637928Z",
     "shell.execute_reply.started": "2023-01-10T23:00:52.635771Z"
    }
   },
   "outputs": [],
   "source": [
    "s1 = \"\"\"\\\n",
    "[({(<(())[]>[[{[]{<()<>>\n",
    "[(()[<>])]({[<{<<[]>>(\n",
    "{([(<{}[<>[]}>{[]{[(<()>\n",
    "(((({<>}<{<{<>}{[]{[]{}\n",
    "[[<[([]))<([[{}[[()]]]\n",
    "[{[{({}]{}}([{[{{{}}([]\n",
    "{<[[]]>}<{[{[{[]{()[[[]\n",
    "[<(<(<(<{}))><([]([]()\n",
    "<{([([[(<>()){}]>(<<{{\n",
    "<{([{{}}[<[[[<>{}]]]>[]]\n",
    "\"\"\""
   ]
  },
  {
   "cell_type": "code",
   "execution_count": 63,
   "id": "4dae23f4",
   "metadata": {
    "execution": {
     "iopub.execute_input": "2023-01-10T23:00:52.639381Z",
     "iopub.status.busy": "2023-01-10T23:00:52.639255Z",
     "iopub.status.idle": "2023-01-10T23:00:52.649633Z",
     "shell.execute_reply": "2023-01-10T23:00:52.648979Z",
     "shell.execute_reply.started": "2023-01-10T23:00:52.639370Z"
    }
   },
   "outputs": [
    {
     "name": "stdout",
     "output_type": "stream",
     "text": [
      "(Part 1: 0.000 s)\n"
     ]
    }
   ],
   "source": [
    "def day10_part1(s):\n",
    "  open_from_close = {')': '(', ']': '[', '}': '{', '>': '<'}\n",
    "  total = 0\n",
    "  for line in s.splitlines():\n",
    "    stack = []\n",
    "    for ch in line:\n",
    "      if ch in '([{<':\n",
    "        stack.append(ch)\n",
    "      elif stack.pop() != open_from_close[ch]:\n",
    "        total += {')': 3, ']': 57, '}': 1197, '>': 25137, '': 0}[ch]\n",
    "\n",
    "  return total\n",
    "\n",
    "\n",
    "check_eq(day10_part1(s1), 26397)\n",
    "puzzle.verify(1, day10_part1)  # ~2 ms."
   ]
  },
  {
   "cell_type": "code",
   "execution_count": 64,
   "id": "592e4350",
   "metadata": {
    "execution": {
     "iopub.execute_input": "2023-01-10T23:00:52.650800Z",
     "iopub.status.busy": "2023-01-10T23:00:52.650384Z",
     "iopub.status.idle": "2023-01-10T23:00:52.662789Z",
     "shell.execute_reply": "2023-01-10T23:00:52.662132Z",
     "shell.execute_reply.started": "2023-01-10T23:00:52.650784Z"
    }
   },
   "outputs": [
    {
     "name": "stdout",
     "output_type": "stream",
     "text": [
      "(Part 2: 0.000 s)\n"
     ]
    }
   ],
   "source": [
    "def day10_part2(s):\n",
    "  open_from_close = {')': '(', ']': '[', '}': '{', '>': '<'}\n",
    "  scores = []\n",
    "  for line in s.splitlines():\n",
    "    stack = []\n",
    "    for ch in line:\n",
    "      if ch in '([{<':\n",
    "        stack.append(ch)\n",
    "      elif stack.pop() != open_from_close[ch]:\n",
    "        break\n",
    "    else:\n",
    "      score = 0\n",
    "      while stack:\n",
    "        score = score * 5 + {'(': 1, '[': 2, '{': 3, '<': 4}[stack.pop()]\n",
    "      scores.append(score)\n",
    "      continue\n",
    "\n",
    "  return int(np.median(scores))\n",
    "\n",
    "\n",
    "check_eq(day10_part2(s1), 288957)\n",
    "puzzle.verify(2, day10_part2)  # ~3 ms."
   ]
  },
  {
   "cell_type": "markdown",
   "id": "96b1c285",
   "metadata": {},
   "source": [
    "<a name=\"day11\"></a>\n",
    "## Day 11: Grid with cascading flashes"
   ]
  },
  {
   "cell_type": "markdown",
   "id": "b5457a46",
   "metadata": {},
   "source": [
    "- Part 1: How many total flashes are there after 100 steps?\n",
    "\n",
    "- Part 2: What is the first step during which all octopuses flash?\n",
    "\n",
    "---\n",
    "\n",
    "The basic approach is to traverse the grid at each iteration, adding flashing elements to a **`stack`** and performing a depth-first expansion of the flashing grid nodes.\n",
    "\n",
    "To speed up the computation, I move from a 2D grid to a flat 1D array.\n",
    "The solution is fast enough that `numba`-compilation is unnecessary.\n",
    "\n",
    "Curiously, given a 1D boolean array (e.g., `flashed`), I find that the fastest way to extract a list of the indices of its `True` elements to be:\n",
    "\n",
    "```python\n",
    "    # stack = list(np.nonzero(flashed)[0])  # (Slower.)\n",
    "    # stack = list(np.argwhere(flashed)[:, 0])  # (Slower.)\n",
    "    stack = [index for index, value in enumerate(flashed) if value]\n",
    "```"
   ]
  },
  {
   "cell_type": "code",
   "execution_count": 65,
   "id": "ff1ad9d4",
   "metadata": {
    "execution": {
     "iopub.execute_input": "2023-01-10T23:00:52.664109Z",
     "iopub.status.busy": "2023-01-10T23:00:52.663653Z",
     "iopub.status.idle": "2023-01-10T23:00:52.685550Z",
     "shell.execute_reply": "2023-01-10T23:00:52.685022Z",
     "shell.execute_reply.started": "2023-01-10T23:00:52.664092Z"
    },
    "tags": []
   },
   "outputs": [
    {
     "data": {
      "text/markdown": [
       "For [day 11](https://adventofcode.com/2021/day/11), `puzzle.input` has 10 lines:"
      ],
      "text/plain": [
       "<IPython.core.display.Markdown object>"
      ]
     },
     "metadata": {},
     "output_type": "display_data"
    },
    {
     "name": "stdout",
     "output_type": "stream",
     "text": [
      "6318185732\n",
      "1122687135\n",
      "5173237676\n",
      "8754362612\n",
      "5718474666\n",
      "8443654137\n",
      "1247634346\n",
      "1446514585\n",
      "6717288267\n",
      "1727871228\n"
     ]
    },
    {
     "data": {
      "text/markdown": [
       "The stored answers are: `{1: '1634', 2: '210'}`"
      ],
      "text/plain": [
       "<IPython.core.display.Markdown object>"
      ]
     },
     "metadata": {},
     "output_type": "display_data"
    }
   ],
   "source": [
    "puzzle = advent.puzzle(day=11)"
   ]
  },
  {
   "cell_type": "code",
   "execution_count": 66,
   "id": "6b89c2de",
   "metadata": {
    "execution": {
     "iopub.execute_input": "2023-01-10T23:00:52.686414Z",
     "iopub.status.busy": "2023-01-10T23:00:52.686227Z",
     "iopub.status.idle": "2023-01-10T23:00:52.688892Z",
     "shell.execute_reply": "2023-01-10T23:00:52.688408Z",
     "shell.execute_reply.started": "2023-01-10T23:00:52.686401Z"
    },
    "tags": []
   },
   "outputs": [],
   "source": [
    "s1 = \"\"\"\\\n",
    "5483143223\n",
    "2745854711\n",
    "5264556173\n",
    "6141336146\n",
    "6357385478\n",
    "4167524645\n",
    "2176841721\n",
    "6882881134\n",
    "4846848554\n",
    "5283751526\n",
    "\"\"\""
   ]
  },
  {
   "cell_type": "code",
   "execution_count": 67,
   "id": "8bbe3f87",
   "metadata": {
    "execution": {
     "iopub.execute_input": "2023-01-10T23:00:52.694590Z",
     "iopub.status.busy": "2023-01-10T23:00:52.694320Z",
     "iopub.status.idle": "2023-01-10T23:00:53.011925Z",
     "shell.execute_reply": "2023-01-10T23:00:53.011315Z",
     "shell.execute_reply.started": "2023-01-10T23:00:52.694576Z"
    },
    "tags": []
   },
   "outputs": [
    {
     "name": "stdout",
     "output_type": "stream",
     "text": [
      "(Part 1: 0.046 s)\n",
      "(Part 2: 0.087 s)\n"
     ]
    }
   ],
   "source": [
    "def day11a(s, *, part2=False):  # Compact.\n",
    "  grid = np.array([list(line) for line in s.splitlines()], int)\n",
    "  total = 0\n",
    "\n",
    "  for step in itertools.count(1):\n",
    "    grid += 1\n",
    "    stack = list(np.argwhere(grid == 10))\n",
    "    while stack:\n",
    "      yx = stack.pop()\n",
    "      for dyx in set(itertools.product((-1, 0, 1), repeat=2)) - {(0, 0)}:\n",
    "        yx2 = tuple(np.array(yx) + dyx)\n",
    "        if all(0 <= yx2[i] < grid.shape[i] for i in range(2)) and grid[yx2] < 10:\n",
    "          grid[yx2] += 1\n",
    "          if grid[yx2] == 10:\n",
    "            stack.append(yx2)\n",
    "\n",
    "    if not part2:\n",
    "      total += (grid == 10).sum()\n",
    "      if step == 100:\n",
    "        return total\n",
    "    elif np.all(grid == 10):\n",
    "      return step\n",
    "    grid[grid == 10] = 0\n",
    "\n",
    "\n",
    "check_eq(day11a(s1), 1656)\n",
    "puzzle.verify(1, day11a)  # ~110 ms.\n",
    "\n",
    "day11a_part2 = functools.partial(day11a, part2=True)\n",
    "check_eq(day11a_part2(s1), 195)\n",
    "puzzle.verify(2, day11a_part2)  # ~225 ms."
   ]
  },
  {
   "cell_type": "code",
   "execution_count": 68,
   "id": "e09b8b7b",
   "metadata": {
    "execution": {
     "iopub.execute_input": "2023-01-10T23:00:53.013068Z",
     "iopub.status.busy": "2023-01-10T23:00:53.012622Z",
     "iopub.status.idle": "2023-01-10T23:00:53.051455Z",
     "shell.execute_reply": "2023-01-10T23:00:53.050947Z",
     "shell.execute_reply.started": "2023-01-10T23:00:53.013055Z"
    },
    "tags": []
   },
   "outputs": [
    {
     "name": "stdout",
     "output_type": "stream",
     "text": [
      "(Part 1: 0.006 s)\n",
      "(Part 2: 0.011 s)\n"
     ]
    }
   ],
   "source": [
    "def day11b(s, *, part2=False):  # Faster, using ndenumerate and bool array.\n",
    "  grid = np.array([list(line) for line in s.splitlines()], int)\n",
    "  dyxs = set(itertools.product((-1, 0, 1), repeat=2)) - {(0, 0)}\n",
    "  height, width = grid.shape\n",
    "  total = 0\n",
    "\n",
    "  for step in itertools.count(1):\n",
    "    grid += 1\n",
    "    flashed = grid > 9\n",
    "    stack = [yx for yx, value in np.ndenumerate(flashed) if value]\n",
    "    while stack:\n",
    "      yx = stack.pop()\n",
    "      for dy, dx in dyxs:\n",
    "        yx2 = yx[0] + dy, yx[1] + dx\n",
    "        if 0 <= yx2[0] < height and 0 <= yx2[1] < width and not flashed[yx2]:\n",
    "          grid[yx2] += 1\n",
    "          if grid[yx2] > 9:\n",
    "            stack.append(yx2)\n",
    "            flashed[yx2] = True\n",
    "\n",
    "    grid[flashed] = 0\n",
    "    if not part2:\n",
    "      total += np.count_nonzero(flashed)\n",
    "      if step == 100:\n",
    "        return total\n",
    "    elif flashed.all():\n",
    "      return step\n",
    "\n",
    "\n",
    "check_eq(day11b(s1), 1656)\n",
    "puzzle.verify(1, day11b)  # ~16 ms.\n",
    "\n",
    "day11b_part2 = functools.partial(day11b, part2=True)\n",
    "check_eq(day11b_part2(s1), 195)\n",
    "puzzle.verify(2, day11b_part2)  # ~30 ms."
   ]
  },
  {
   "cell_type": "code",
   "execution_count": 69,
   "id": "0fd89c46-edf3-4bc7-8e78-fb7914601e28",
   "metadata": {
    "execution": {
     "iopub.execute_input": "2023-01-10T23:00:53.052547Z",
     "iopub.status.busy": "2023-01-10T23:00:53.052094Z",
     "iopub.status.idle": "2023-01-10T23:00:53.079200Z",
     "shell.execute_reply": "2023-01-10T23:00:53.078626Z",
     "shell.execute_reply.started": "2023-01-10T23:00:53.052530Z"
    },
    "tags": []
   },
   "outputs": [
    {
     "name": "stdout",
     "output_type": "stream",
     "text": [
      "(Part 1: 0.003 s)\n",
      "(Part 2: 0.006 s)\n"
     ]
    }
   ],
   "source": [
    "def day11(s, *, part2=False, visualize=False):  # Fastest, using flat array.\n",
    "  grid0 = np.array([list(line) for line in s.splitlines()], int)\n",
    "  height, width = grid0.shape\n",
    "  grid = grid0.ravel()\n",
    "  dyxs = set(itertools.product((-1, 0, 1), repeat=2)) - {(0, 0)}\n",
    "  total = 0\n",
    "  images = []\n",
    "\n",
    "  @functools.lru_cache(maxsize=None)\n",
    "  def neighbors(index):\n",
    "    y, x = divmod(index, width)\n",
    "    result = []\n",
    "    for dy, dx in dyxs:\n",
    "      y2, x2 = y + dy, x + dx\n",
    "      if 0 <= y2 < height and 0 <= x2 < width:\n",
    "        result.append(y2 * width + x2)\n",
    "    return result\n",
    "\n",
    "  for step in itertools.count(1):\n",
    "    grid += 1\n",
    "    flashed = grid > 9\n",
    "    # stack = list(np.nonzero(flashed)[0])  # (Slower.)\n",
    "    # stack = list(np.argwhere(flashed)[:, 0])  # (Slower.)\n",
    "    stack = [index for index, value in enumerate(flashed) if value]\n",
    "    while stack:\n",
    "      index = stack.pop()\n",
    "      for index2 in neighbors(index):\n",
    "        if not flashed[index2]:\n",
    "          grid[index2] += 1\n",
    "          if grid[index2] > 9:\n",
    "            stack.append(index2)\n",
    "            flashed[index2] = True\n",
    "\n",
    "    grid[flashed] = 0\n",
    "\n",
    "    if visualize:\n",
    "      image = (grid.reshape(grid0.shape) * 25).astype(np.uint8)\n",
    "      images.append(image.repeat(10, axis=0).repeat(10, axis=1))\n",
    "\n",
    "    if not part2:\n",
    "      total += np.count_nonzero(flashed)\n",
    "      if step == 100:\n",
    "        return total\n",
    "    elif flashed.all():\n",
    "      if visualize:\n",
    "        images = [images[0]] * 15 + images + [images[-1]] * 15\n",
    "        media.show_video(images, codec='gif', fps=15, border=True)\n",
    "      return step\n",
    "\n",
    "\n",
    "check_eq(day11(s1), 1656)\n",
    "puzzle.verify(1, day11)  # ~8 ms.\n",
    "\n",
    "day11_part2 = functools.partial(day11, part2=True)\n",
    "check_eq(day11_part2(s1), 195)\n",
    "puzzle.verify(2, day11_part2)  # ~15 ms."
   ]
  },
  {
   "cell_type": "code",
   "execution_count": 70,
   "id": "2beb502f-d019-4cf0-a0df-e052dc16871e",
   "metadata": {
    "execution": {
     "iopub.execute_input": "2023-01-10T23:00:53.080232Z",
     "iopub.status.busy": "2023-01-10T23:00:53.079866Z",
     "iopub.status.idle": "2023-01-10T23:00:53.190468Z",
     "shell.execute_reply": "2023-01-10T23:00:53.189845Z",
     "shell.execute_reply.started": "2023-01-10T23:00:53.080218Z"
    },
    "tags": []
   },
   "outputs": [
    {
     "data": {
      "text/html": [
       "<table class=\"show_videos\" style=\"border-spacing:0px;\"><tr><td style=\"padding:1px;\"><img width=\"100\" height=\"100\" style=\"border:1px solid black; image-rendering:auto; object-fit:cover;\" src=\"data:image/gif;base64,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\"/></td></tr></table>"
      ],
      "text/plain": [
       "<IPython.core.display.HTML object>"
      ]
     },
     "metadata": {},
     "output_type": "display_data"
    }
   ],
   "source": [
    "_ = day11_part2(puzzle.input, visualize=True)"
   ]
  },
  {
   "cell_type": "markdown",
   "id": "dc995a92",
   "metadata": {},
   "source": [
    "<a name=\"day12\"></a>\n",
    "## Day 12: Count distinct paths"
   ]
  },
  {
   "cell_type": "markdown",
   "id": "63ea3051",
   "metadata": {},
   "source": [
    "- Part 1: How many paths through this cave system are there that visit small caves at most once?\n",
    "\n",
    "- Part 2: If a single small cave can be visited at most twice, how many paths through this cave system are there?\n",
    "\n",
    "---\n",
    "\n",
    "The approach is a simple **exhaustive recursive search** where the current state contains\n",
    "`[current_node, nodes_already_visited, has_a_node_been_visited_twice]`.\n",
    "\n",
    "The search is accelerated 20x times by **caching** the intermediate results using `@functools.lru_cache(maxsize=None)`.  This requires representing `nodes_already_visited` by a `frozenset` (which is hashable) instead of a `set` (which is not hashable)."
   ]
  },
  {
   "cell_type": "code",
   "execution_count": 71,
   "id": "e6143815",
   "metadata": {
    "execution": {
     "iopub.execute_input": "2023-01-10T23:00:53.191666Z",
     "iopub.status.busy": "2023-01-10T23:00:53.191241Z",
     "iopub.status.idle": "2023-01-10T23:00:53.207387Z",
     "shell.execute_reply": "2023-01-10T23:00:53.206744Z",
     "shell.execute_reply.started": "2023-01-10T23:00:53.191649Z"
    }
   },
   "outputs": [
    {
     "data": {
      "text/markdown": [
       "For [day 12](https://adventofcode.com/2021/day/12), `puzzle.input` has 25 lines:"
      ],
      "text/plain": [
       "<IPython.core.display.Markdown object>"
      ]
     },
     "metadata": {},
     "output_type": "display_data"
    },
    {
     "name": "stdout",
     "output_type": "stream",
     "text": [
      "BC-gt\n",
      "gt-zf\n",
      "end-KH\n",
      "end-BC\n",
      "so-NL\n",
      "so-ly\n",
      "start-BC\n",
      "NL-zf\n",
      " ...\n",
      "bt-so\n",
      "ui-KH\n",
      "gt-start\n",
      "KH-so\n"
     ]
    },
    {
     "data": {
      "text/markdown": [
       "The stored answers are: `{1: '4775', 2: '152480'}`"
      ],
      "text/plain": [
       "<IPython.core.display.Markdown object>"
      ]
     },
     "metadata": {},
     "output_type": "display_data"
    }
   ],
   "source": [
    "puzzle = advent.puzzle(day=12)"
   ]
  },
  {
   "cell_type": "code",
   "execution_count": 72,
   "id": "6b938d9f",
   "metadata": {
    "execution": {
     "iopub.execute_input": "2023-01-10T23:00:53.208304Z",
     "iopub.status.busy": "2023-01-10T23:00:53.208026Z",
     "iopub.status.idle": "2023-01-10T23:00:53.211172Z",
     "shell.execute_reply": "2023-01-10T23:00:53.210632Z",
     "shell.execute_reply.started": "2023-01-10T23:00:53.208289Z"
    }
   },
   "outputs": [],
   "source": [
    "s1 = \"\"\"\\\n",
    "start-A\n",
    "start-b\n",
    "A-c\n",
    "A-b\n",
    "b-d\n",
    "A-end\n",
    "b-end\n",
    "\"\"\"\n",
    "\n",
    "s2 = \"\"\"\\\n",
    "fs-end\n",
    "he-DX\n",
    "fs-he\n",
    "start-DX\n",
    "pj-DX\n",
    "end-zg\n",
    "zg-sl\n",
    "zg-pj\n",
    "pj-he\n",
    "RW-he\n",
    "fs-DX\n",
    "pj-RW\n",
    "zg-RW\n",
    "start-pj\n",
    "he-WI\n",
    "zg-he\n",
    "pj-fs\n",
    "start-RW\n",
    "\"\"\""
   ]
  },
  {
   "cell_type": "code",
   "execution_count": 73,
   "id": "c0805f8b",
   "metadata": {
    "execution": {
     "iopub.execute_input": "2023-01-10T23:00:53.212061Z",
     "iopub.status.busy": "2023-01-10T23:00:53.211813Z",
     "iopub.status.idle": "2023-01-10T23:00:53.372510Z",
     "shell.execute_reply": "2023-01-10T23:00:53.371993Z",
     "shell.execute_reply.started": "2023-01-10T23:00:53.212048Z"
    }
   },
   "outputs": [
    {
     "name": "stdout",
     "output_type": "stream",
     "text": [
      "(Part 1: 0.005 s)\n",
      "(Part 2: 0.136 s)\n"
     ]
    }
   ],
   "source": [
    "def day12a(s, *, part2=False):  # Clean solution.\n",
    "  graph = collections.defaultdict(list)\n",
    "  for line in s.splitlines():\n",
    "    a, b = line.split('-')\n",
    "    graph[a].append(b)\n",
    "    graph[b].append(a)\n",
    "\n",
    "  def recurse(node, visited, seen_twice):\n",
    "    count = 0\n",
    "    for node2 in graph[node]:\n",
    "      if node2 == 'start':\n",
    "        pass\n",
    "      elif node2 == 'end':\n",
    "        count += 1\n",
    "      elif not node2.islower():\n",
    "        count += recurse(node2, visited, seen_twice)\n",
    "      elif node2 not in visited:\n",
    "        count += recurse(node2, visited | {node2}, seen_twice)\n",
    "      elif not seen_twice:\n",
    "        count += recurse(node2, visited, True)\n",
    "    return count\n",
    "\n",
    "  return recurse('start', set(), not part2)\n",
    "\n",
    "\n",
    "check_eq(day12a(s1), 10)\n",
    "check_eq(day12a(s2), 226)\n",
    "puzzle.verify(1, day12a)  # ~14 ms.\n",
    "\n",
    "day12a_part2 = functools.partial(day12a, part2=True)\n",
    "check_eq(day12a_part2(s1), 36)\n",
    "check_eq(day12a_part2(s2), 3509)\n",
    "puzzle.verify(2, day12a_part2)  # ~440 ms."
   ]
  },
  {
   "cell_type": "code",
   "execution_count": 74,
   "id": "516d7cfa",
   "metadata": {
    "execution": {
     "iopub.execute_input": "2023-01-10T23:00:53.373560Z",
     "iopub.status.busy": "2023-01-10T23:00:53.373164Z",
     "iopub.status.idle": "2023-01-10T23:00:53.379877Z",
     "shell.execute_reply": "2023-01-10T23:00:53.379385Z",
     "shell.execute_reply.started": "2023-01-10T23:00:53.373545Z"
    }
   },
   "outputs": [
    {
     "name": "stdout",
     "output_type": "stream",
     "text": [
      "(Part 1: 0.000 s)\n",
      "(Part 2: 0.001 s)\n"
     ]
    }
   ],
   "source": [
    "def day12(s, *, part2=False):  # Much faster using lru_cache and frozenset.\n",
    "  graph = collections.defaultdict(list)\n",
    "  for line in s.splitlines():\n",
    "    a, b = line.split('-')\n",
    "    graph[a].append(b)\n",
    "    graph[b].append(a)\n",
    "\n",
    "  @functools.lru_cache(maxsize=None)\n",
    "  def recurse(node, visited, seen_twice):\n",
    "    count = 0\n",
    "    for node2 in graph[node]:\n",
    "      if node2 == 'start':\n",
    "        pass\n",
    "      elif node2 == 'end':\n",
    "        count += 1\n",
    "      elif not node2.islower():\n",
    "        count += recurse(node2, visited, seen_twice)\n",
    "      elif node2 not in visited:\n",
    "        count += recurse(node2, visited.union([node2]), seen_twice)\n",
    "      elif not seen_twice:\n",
    "        count += recurse(node2, visited, True)\n",
    "    return count\n",
    "\n",
    "  return recurse('start', frozenset(), not part2)\n",
    "\n",
    "\n",
    "check_eq(day12(s1), 10)\n",
    "check_eq(day12(s2), 226)\n",
    "puzzle.verify(1, day12)  # ~1 ms.\n",
    "\n",
    "day12_part2 = functools.partial(day12, part2=True)\n",
    "check_eq(day12_part2(s1), 36)\n",
    "check_eq(day12_part2(s2), 3509)\n",
    "puzzle.verify(2, day12_part2)  # ~1 ms."
   ]
  },
  {
   "cell_type": "markdown",
   "id": "20beb548",
   "metadata": {},
   "source": [
    "<a name=\"day13\"></a>\n",
    "## Day 13: Repeated 2D foldings"
   ]
  },
  {
   "cell_type": "markdown",
   "id": "0c1e06da",
   "metadata": {},
   "source": [
    "- Part 1: How many dots are visible after completing just the first fold instruction on your transparent paper?\n",
    "\n",
    "- Part 2: After applying all folds, what 8 characters do the resulting dots form?\n",
    "\n",
    "---\n",
    "\n",
    "I explored two quite different approaches:\n",
    "\n",
    "1. Storing the dots in a **`set`** and performing folding using set comprehension.\n",
    "\n",
    "2. Storing the dots as `True` values in a **2D grid** and performing folding using `numpy` updates.\n",
    "\n",
    "Both approach are fast.  In either case, the solution string is extracted from a grid-raster representation using the `convert_6()` function in the `advent_of_code_ocr` package."
   ]
  },
  {
   "cell_type": "code",
   "execution_count": 75,
   "id": "3e478051",
   "metadata": {
    "execution": {
     "iopub.execute_input": "2023-01-10T23:00:53.380564Z",
     "iopub.status.busy": "2023-01-10T23:00:53.380436Z",
     "iopub.status.idle": "2023-01-10T23:00:53.404495Z",
     "shell.execute_reply": "2023-01-10T23:00:53.403757Z",
     "shell.execute_reply.started": "2023-01-10T23:00:53.380552Z"
    },
    "tags": []
   },
   "outputs": [
    {
     "data": {
      "text/markdown": [
       "For [day 13](https://adventofcode.com/2021/day/13), `puzzle.input` has 860 lines:"
      ],
      "text/plain": [
       "<IPython.core.display.Markdown object>"
      ]
     },
     "metadata": {},
     "output_type": "display_data"
    },
    {
     "name": "stdout",
     "output_type": "stream",
     "text": [
      "609,754\n",
      "1101,140\n",
      "1129,317\n",
      "622,327\n",
      "967,218\n",
      "661,789\n",
      "661,127\n",
      "1183,596\n",
      " ...\n",
      "fold along x=40\n",
      "fold along y=27\n",
      "fold along y=13\n",
      "fold along y=6\n"
     ]
    },
    {
     "data": {
      "text/markdown": [
       "The stored answers are: `{1: '710', 2: 'EPLGRULR'}`"
      ],
      "text/plain": [
       "<IPython.core.display.Markdown object>"
      ]
     },
     "metadata": {},
     "output_type": "display_data"
    }
   ],
   "source": [
    "puzzle = advent.puzzle(day=13)"
   ]
  },
  {
   "cell_type": "code",
   "execution_count": 76,
   "id": "b4783c00",
   "metadata": {
    "execution": {
     "iopub.execute_input": "2023-01-10T23:00:53.405456Z",
     "iopub.status.busy": "2023-01-10T23:00:53.405301Z",
     "iopub.status.idle": "2023-01-10T23:00:53.408465Z",
     "shell.execute_reply": "2023-01-10T23:00:53.407842Z",
     "shell.execute_reply.started": "2023-01-10T23:00:53.405444Z"
    },
    "tags": []
   },
   "outputs": [],
   "source": [
    "s1 = \"\"\"\\\n",
    "6,10\n",
    "0,14\n",
    "9,10\n",
    "0,3\n",
    "10,4\n",
    "4,11\n",
    "6,0\n",
    "6,12\n",
    "4,1\n",
    "0,13\n",
    "10,12\n",
    "3,4\n",
    "3,0\n",
    "8,4\n",
    "1,10\n",
    "2,14\n",
    "8,10\n",
    "9,0\n",
    "\n",
    "fold along y=7\n",
    "fold along x=5\n",
    "\"\"\""
   ]
  },
  {
   "cell_type": "code",
   "execution_count": 77,
   "id": "988a2934",
   "metadata": {
    "execution": {
     "iopub.execute_input": "2023-01-10T23:00:53.409573Z",
     "iopub.status.busy": "2023-01-10T23:00:53.409222Z",
     "iopub.status.idle": "2023-01-10T23:00:53.425790Z",
     "shell.execute_reply": "2023-01-10T23:00:53.425164Z",
     "shell.execute_reply.started": "2023-01-10T23:00:53.409557Z"
    },
    "tags": []
   },
   "outputs": [
    {
     "name": "stdout",
     "output_type": "stream",
     "text": [
      "(Part 1: 0.001 s)\n",
      "(Part 2: 0.003 s)\n"
     ]
    }
   ],
   "source": [
    "def day13a(s, *, part2=False):  # Most compact; set-based.\n",
    "  chunk1, chunk2 = s.split('\\n\\n')\n",
    "  dots = {tuple(map(int, line.split(','))) for line in chunk1.splitlines()}\n",
    "\n",
    "  for line in chunk2.splitlines():\n",
    "    axis, value = {'x': 0, 'y': 1}[line[11:12]], int(line[13:])\n",
    "\n",
    "    def fold(xy):\n",
    "      return tuple(c if i != axis or c < value else 2 * value - c for i, c in enumerate(xy))\n",
    "\n",
    "    dots = {fold(xy) for xy in dots}\n",
    "    if not part2:\n",
    "      return len(dots)\n",
    "\n",
    "  s2 = '\\n'.join(''.join('.#'[(x, y) in dots] for x in range(39)) for y in range(6))\n",
    "  return advent_of_code_ocr.convert_6(s2)\n",
    "\n",
    "\n",
    "check_eq(day13a(s1), 17)\n",
    "puzzle.verify(1, day13a)  # ~2 ms.\n",
    "\n",
    "day13a_part2 = functools.partial(day13a, part2=True)\n",
    "puzzle.verify(2, day13a_part2)  # ~6 ms.  e.g. 'EPLGRULR'."
   ]
  },
  {
   "cell_type": "code",
   "execution_count": 78,
   "id": "53f4f9b5",
   "metadata": {
    "execution": {
     "iopub.execute_input": "2023-01-10T23:00:53.426935Z",
     "iopub.status.busy": "2023-01-10T23:00:53.426566Z",
     "iopub.status.idle": "2023-01-10T23:00:53.495653Z",
     "shell.execute_reply": "2023-01-10T23:00:53.494963Z",
     "shell.execute_reply.started": "2023-01-10T23:00:53.426915Z"
    },
    "tags": []
   },
   "outputs": [
    {
     "name": "stdout",
     "output_type": "stream",
     "text": [
      "(Part 1: 0.001 s)\n",
      "(Part 2: 0.002 s)\n"
     ]
    },
    {
     "data": {
      "text/html": [
       "<table class=\"show_videos\" style=\"border-spacing:0px;\"><tr><td style=\"padding:1px;\"><img width=\"329\" height=\"225\" style=\"image-rendering:auto; object-fit:cover;\" src=\"data:image/gif;base64,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\"/></td></tr></table>"
      ],
      "text/plain": [
       "<IPython.core.display.HTML object>"
      ]
     },
     "metadata": {},
     "output_type": "display_data"
    }
   ],
   "source": [
    "def day13b(s, *, part2=False, visualize=False):  # More readable; a bit faster.\n",
    "  chunk1, chunk2 = s.split('\\n\\n')\n",
    "  dots = {tuple(map(int, line.split(',')))[::-1] for line in chunk1.splitlines()}\n",
    "  if visualize:\n",
    "    all_dots = {(0, *dot) for dot in dots}\n",
    "\n",
    "  for t, line in enumerate(chunk2.splitlines()):\n",
    "    axis, value = {'y': 0, 'x': 1}[line[11:12]], int(line[13:])\n",
    "\n",
    "    def reflect(yx):\n",
    "      yx = list(yx)\n",
    "      yx[axis] = yx[axis] if yx[axis] < value else 2 * value - yx[axis]\n",
    "      return tuple(yx)\n",
    "\n",
    "    dots = {reflect(yx) for yx in dots}\n",
    "    if not part2:\n",
    "      return len(dots)\n",
    "    if visualize:\n",
    "      all_dots |= {(t + 1, *dot) for dot in dots}\n",
    "\n",
    "  if visualize:\n",
    "    all_dots = {tyx for tyx in all_dots if tyx[0] >= 4}  # Skip initial frames.\n",
    "    video: Any = hh.grid_from_indices(all_dots, pad=(0, 1, 1), dtype=bool)\n",
    "    video = [video[0]] * 2 + list(video) + [video[-1]] * 3\n",
    "    media.show_video(video, codec='gif', fps=2)\n",
    "\n",
    "  grid = np.full((6, 39), '.')\n",
    "  # grid[tuple(np.array(list(dots)).T)] = '#'\n",
    "  grid[tuple(zip(*dots))] = '#'\n",
    "  return advent_of_code_ocr.convert_6('\\n'.join(''.join(row) for row in grid))\n",
    "\n",
    "\n",
    "check_eq(day13b(s1), 17)\n",
    "puzzle.verify(1, day13b)  # ~2 ms.\n",
    "\n",
    "day13b_part2 = functools.partial(day13b, part2=True)\n",
    "puzzle.verify(2, day13b_part2)  # ~4 ms.  e.g. 'EPLGRULR'.\n",
    "\n",
    "_ = day13b_part2(puzzle.input, visualize=True)"
   ]
  },
  {
   "cell_type": "code",
   "execution_count": 79,
   "id": "d278bf3b",
   "metadata": {
    "execution": {
     "iopub.execute_input": "2023-01-10T23:00:53.496807Z",
     "iopub.status.busy": "2023-01-10T23:00:53.496478Z",
     "iopub.status.idle": "2023-01-10T23:00:53.505287Z",
     "shell.execute_reply": "2023-01-10T23:00:53.504792Z",
     "shell.execute_reply.started": "2023-01-10T23:00:53.496794Z"
    }
   },
   "outputs": [
    {
     "name": "stdout",
     "output_type": "stream",
     "text": [
      "(Part 1: 0.002 s)\n",
      "(Part 2: 0.002 s)\n"
     ]
    }
   ],
   "source": [
    "def day13(s, *, part2=False, visualize=False):  # Numpy approach; as fast.\n",
    "  chunk1, chunk2 = s.split('\\n\\n')\n",
    "  yx = np.array([list(map(int, line.split(',')))[::-1] for line in chunk1.splitlines()])\n",
    "  grid = np.zeros(yx.max(axis=0) + 1, np.uint8)\n",
    "  grid[tuple(yx.T)] = 1\n",
    "\n",
    "  for line in chunk2.splitlines():\n",
    "    axis, value = {'y': 0, 'x': 1}[line[11:12]], int(line[13:])\n",
    "    grid = grid.T if axis else grid\n",
    "    grid, side2 = grid[:value], grid[value + 1 :]\n",
    "    grid[-len(side2) :] |= side2[::-1]\n",
    "    grid = grid.T if axis else grid\n",
    "    if not part2:\n",
    "      return np.count_nonzero(grid)\n",
    "\n",
    "  if visualize:\n",
    "    media.show_image(~np.pad(grid, 1), height=48, border=True)\n",
    "  grid = np.array(['.', '#'])[grid]\n",
    "  return advent_of_code_ocr.convert_6('\\n'.join(''.join(row) for row in grid))\n",
    "\n",
    "\n",
    "check_eq(day13(s1), 17)\n",
    "puzzle.verify(1, day13)  # ~4 ms.\n",
    "\n",
    "day13_part2 = functools.partial(day13, part2=True)\n",
    "puzzle.verify(2, day13_part2)  # ~4 ms.  e.g. 'EPLGRULR'."
   ]
  },
  {
   "cell_type": "code",
   "execution_count": 80,
   "id": "a532cdc7",
   "metadata": {
    "execution": {
     "iopub.execute_input": "2023-01-10T23:00:53.506407Z",
     "iopub.status.busy": "2023-01-10T23:00:53.505962Z",
     "iopub.status.idle": "2023-01-10T23:00:53.519660Z",
     "shell.execute_reply": "2023-01-10T23:00:53.519037Z",
     "shell.execute_reply.started": "2023-01-10T23:00:53.506394Z"
    },
    "tags": []
   },
   "outputs": [
    {
     "data": {
      "text/html": [
       "<table class=\"show_images\" style=\"border-spacing:0px;\"><tr><td style=\"padding:1px;\"><img width=\"252\" height=\"48\" style=\"border:1px solid black; image-rendering:pixelated; object-fit:cover;\" src=\"data:image/png;base64,iVBORw0KGgoAAAANSUhEUgAAACoAAAAICAIAAAAAxfoxAAAAdklEQVR4nMVSQQ7AIAijxv9/uTuwkAaY0WTLepK0loqApP2HaWYAoiYZpScDkCK6INhW7Id0N4nv9lqvG9cGa3FFEo8w1Rns4JVf61+v421R57+ZJolHKyK5tlP2aAxJPDXUk5eyuptq6t8ZbPhUZ13JrX35DheKu3rtH5CBzgAAAABJRU5ErkJggg==\"/></td></tr></table>"
      ],
      "text/plain": [
       "<IPython.core.display.HTML object>"
      ]
     },
     "metadata": {},
     "output_type": "display_data"
    }
   ],
   "source": [
    "_ = day13_part2(puzzle.input, visualize=True)"
   ]
  },
  {
   "cell_type": "markdown",
   "id": "e07d6d62",
   "metadata": {},
   "source": [
    "<a name=\"day14\"></a>\n",
    "## Day 14: Repeated middle expansions"
   ]
  },
  {
   "cell_type": "markdown",
   "id": "8a60ceed",
   "metadata": {},
   "source": [
    "- Part 1: After 10 expansions, what is the quantity of the most common element minus the quantity of the least common element?\n",
    "\n",
    "- Part 2: After 40 expansions?\n",
    "\n",
    "---\n",
    "\n",
    "I created two code versions, both using `collections.Counter`:\n",
    "\n",
    "1.  A compact function involving a clever but slow `sum(iterable_of_counters, start=Counter())`.\n",
    "\n",
    "2.  A faster function that avoids `sum()`."
   ]
  },
  {
   "cell_type": "code",
   "execution_count": 81,
   "id": "78201f64",
   "metadata": {
    "execution": {
     "iopub.execute_input": "2023-01-10T23:00:53.520615Z",
     "iopub.status.busy": "2023-01-10T23:00:53.520334Z",
     "iopub.status.idle": "2023-01-10T23:00:53.538165Z",
     "shell.execute_reply": "2023-01-10T23:00:53.537663Z",
     "shell.execute_reply.started": "2023-01-10T23:00:53.520603Z"
    }
   },
   "outputs": [
    {
     "data": {
      "text/markdown": [
       "For [day 14](https://adventofcode.com/2021/day/14), `puzzle.input` has 102 lines:"
      ],
      "text/plain": [
       "<IPython.core.display.Markdown object>"
      ]
     },
     "metadata": {},
     "output_type": "display_data"
    },
    {
     "name": "stdout",
     "output_type": "stream",
     "text": [
      "CKKOHNSBPCPCHVNKHFFK\n",
      "\n",
      "KO -> C\n",
      "SO -> S\n",
      "BF -> V\n",
      "VN -> B\n",
      "OV -> K\n",
      "VH -> O\n",
      " ...\n",
      "FP -> B\n",
      "HC -> O\n",
      "PN -> F\n",
      "OH -> H\n"
     ]
    },
    {
     "data": {
      "text/markdown": [
       "The stored answers are: `{1: '3831', 2: '5725739914282'}`"
      ],
      "text/plain": [
       "<IPython.core.display.Markdown object>"
      ]
     },
     "metadata": {},
     "output_type": "display_data"
    }
   ],
   "source": [
    "puzzle = advent.puzzle(day=14)"
   ]
  },
  {
   "cell_type": "code",
   "execution_count": 82,
   "id": "9f9236ae",
   "metadata": {
    "execution": {
     "iopub.execute_input": "2023-01-10T23:00:53.539087Z",
     "iopub.status.busy": "2023-01-10T23:00:53.538814Z",
     "iopub.status.idle": "2023-01-10T23:00:53.541335Z",
     "shell.execute_reply": "2023-01-10T23:00:53.540887Z",
     "shell.execute_reply.started": "2023-01-10T23:00:53.539075Z"
    }
   },
   "outputs": [],
   "source": [
    "s1 = \"\"\"\\\n",
    "NNCB\n",
    "\n",
    "CH -> B\n",
    "HH -> N\n",
    "CB -> H\n",
    "NH -> C\n",
    "HB -> C\n",
    "HC -> B\n",
    "HN -> C\n",
    "NN -> C\n",
    "BH -> H\n",
    "NC -> B\n",
    "NB -> B\n",
    "BN -> B\n",
    "BB -> N\n",
    "BC -> B\n",
    "CC -> N\n",
    "CN -> C\n",
    "\"\"\""
   ]
  },
  {
   "cell_type": "code",
   "execution_count": 83,
   "id": "96b67b01",
   "metadata": {
    "execution": {
     "iopub.execute_input": "2023-01-10T23:00:53.542067Z",
     "iopub.status.busy": "2023-01-10T23:00:53.541868Z",
     "iopub.status.idle": "2023-01-10T23:00:53.591237Z",
     "shell.execute_reply": "2023-01-10T23:00:53.590732Z",
     "shell.execute_reply.started": "2023-01-10T23:00:53.542057Z"
    }
   },
   "outputs": [
    {
     "name": "stdout",
     "output_type": "stream",
     "text": [
      "(Part 1: 0.007 s)\n",
      "(Part 2: 0.030 s)\n"
     ]
    }
   ],
   "source": [
    "def day14a(s, *, part2=False):  # Compact.\n",
    "  Counter = collections.Counter\n",
    "  lines = s.splitlines()\n",
    "  start = lines[0]\n",
    "  pairs = Counter(start[i : i + 2] for i in range(len(start) - 1))\n",
    "  rules = dict(rule.split(' -> ') for rule in lines[2:])\n",
    "\n",
    "  for _ in range(40 if part2 else 10):\n",
    "    pairs = sum(\n",
    "        (\n",
    "            Counter({pair[0] + rules[pair]: count, rules[pair] + pair[1]: count})\n",
    "            for pair, count in pairs.items()\n",
    "        ),\n",
    "        Counter(),\n",
    "    )\n",
    "\n",
    "  letters2 = sum(\n",
    "      (Counter({letter: count}) for pair, count in pairs.items() for letter in pair),\n",
    "      Counter([start[0], start[-1]]),\n",
    "  )\n",
    "  return np.ptp(list(letters2.values())) // 2\n",
    "\n",
    "\n",
    "check_eq(day14a(s1), 1588)\n",
    "puzzle.verify(1, day14a)  # ~18 ms.\n",
    "\n",
    "day14a_part2 = functools.partial(day14a, part2=True)\n",
    "check_eq(day14a_part2(s1), 2188189693529)\n",
    "puzzle.verify(2, day14a_part2)  # ~85 ms."
   ]
  },
  {
   "cell_type": "code",
   "execution_count": 84,
   "id": "c6c03a5f",
   "metadata": {
    "execution": {
     "iopub.execute_input": "2023-01-10T23:00:53.592106Z",
     "iopub.status.busy": "2023-01-10T23:00:53.591869Z",
     "iopub.status.idle": "2023-01-10T23:00:53.599939Z",
     "shell.execute_reply": "2023-01-10T23:00:53.599399Z",
     "shell.execute_reply.started": "2023-01-10T23:00:53.592093Z"
    }
   },
   "outputs": [
    {
     "name": "stdout",
     "output_type": "stream",
     "text": [
      "(Part 1: 0.000 s)\n",
      "(Part 2: 0.001 s)\n"
     ]
    }
   ],
   "source": [
    "def day14(s, *, part2=False):  # Faster (avoiding inefficient sum()).\n",
    "  lines = s.splitlines()\n",
    "  start = lines[0]\n",
    "  pairs = collections.Counter(start[i : i + 2] for i in range(len(start) - 1))\n",
    "  rules = dict(line.split(' -> ') for line in lines[2:])\n",
    "\n",
    "  for _ in range(40 if part2 else 10):\n",
    "    new_pairs: collections.Counter[str] = collections.Counter()\n",
    "    for pair, count in pairs.items():\n",
    "      new_pairs[pair[0] + rules[pair]] += count\n",
    "      new_pairs[rules[pair] + pair[1]] += count\n",
    "    pairs = new_pairs\n",
    "\n",
    "  letters_in_pairs: collections.Counter[str] = collections.Counter()\n",
    "  for pair, count in pairs.items():\n",
    "    for letter in pair:\n",
    "      letters_in_pairs[letter] += count\n",
    "\n",
    "  letters_in_pairs[start[0]] += 1\n",
    "  letters_in_pairs[start[-1]] += 1\n",
    "  return (max(letters_in_pairs.values()) - min(letters_in_pairs.values())) // 2\n",
    "\n",
    "\n",
    "check_eq(day14(s1), 1588)\n",
    "puzzle.verify(1, day14)  # ~1 ms.\n",
    "\n",
    "day14_part2 = functools.partial(day14, part2=True)\n",
    "check_eq(day14_part2(s1), 2188189693529)\n",
    "puzzle.verify(2, day14_part2)  # ~4 ms."
   ]
  },
  {
   "cell_type": "markdown",
   "id": "b45f9424",
   "metadata": {},
   "source": [
    "<a name=\"day15\"></a>\n",
    "## Day 15: Shortest path on 2D grid"
   ]
  },
  {
   "cell_type": "markdown",
   "id": "d44b5ee8",
   "metadata": {},
   "source": [
    "- Part 1: What is the lowest total risk of any path from the top left to the bottom right?\n",
    "\n",
    "- Part 2: Using a 5x5 larger map with modified risks, what is the lowest total risk of any path from the top left to the bottom right?\n",
    "\n",
    "---\n",
    "\n",
    "I implemented:\n",
    "\n",
    "1. A compact solution using the **Dijkstra** shortest-path algorithm.\n",
    "\n",
    "2. A solution that adds **padding** around the grid to eliminate boundary-condition testing and compiles with `numba`.  This is my reference solution.  It also provides a visualization of the solution path.\n",
    "\n",
    "3. An **A\\* search** where the heuristic \"remaining cost\" is taken to the Manhattan distance from the current node to the destination node, multiplied by a `heuristic_weight`, which defaults to 2.\n",
    "A\\* is unhelpful here because the edge weights vary quite a bit, so it's difficult to get a useful heuristic which is also a valid lower bound on the remaining distance to the destination.\n",
    "Also, there is little opportunity for improvement because the advancing front must traverse nearly the entire domain in any case.\n",
    "\n",
    "4. A succession of **diagonal sweeps** (upper-left to lower-right, and lower-right to upper-left) that greedily update the distance grid, similar to a [Manhattan distance transform](https://en.wikipedia.org/wiki/Distance_transform).\n",
    "While the distance estimates are very good after just a few sweeps, outperforming Solution 2 for my puzzle input, it could require many iterations to converge to the correct solution in the worst case.\n",
    "\n",
    "5. Constraining the solution to a **diagonal band** of the search domain.  While this is practical, again it cannot guarantee a correct solution.  (I deleted this version.)"
   ]
  },
  {
   "cell_type": "code",
   "execution_count": 85,
   "id": "41fbb560",
   "metadata": {
    "execution": {
     "iopub.execute_input": "2023-01-10T23:00:53.600699Z",
     "iopub.status.busy": "2023-01-10T23:00:53.600568Z",
     "iopub.status.idle": "2023-01-10T23:00:53.621368Z",
     "shell.execute_reply": "2023-01-10T23:00:53.620861Z",
     "shell.execute_reply.started": "2023-01-10T23:00:53.600688Z"
    },
    "tags": []
   },
   "outputs": [
    {
     "data": {
      "text/markdown": [
       "For [day 15](https://adventofcode.com/2021/day/15), `puzzle.input` has 100 lines:"
      ],
      "text/plain": [
       "<IPython.core.display.Markdown object>"
      ]
     },
     "metadata": {},
     "output_type": "display_data"
    },
    {
     "name": "stdout",
     "output_type": "stream",
     "text": [
      "1219917144152175521192937532735222272149142113771132143147736143821412611744118289583116354731774896\n",
      "2557512188918722129241527232426994127475524882192911212273111191198918793769715954435631918975113353\n",
      "5148523873321627398918131496732819295119712179711821713519886567141523157142619551992311453629315192\n",
      "9632263822975132424163835224215815892118427192363791212959143352271227157116392913928119722459511125\n",
      "3185531228179249199132957128512117111252215481499141912134153119363486721329112488129931544281746943\n",
      "6444131257861912212213566341547625318612947741947592216383971229498251819853114728336521972351727213\n",
      "6119491432245199553227565792296746663122251697311779965288819515139517181957182294511562659256672111\n",
      "4171583111313321126172811385811255321273232454216251182121721131484211131831222492993728891981971114\n",
      " ...\n",
      "7271212528143433228925278813516213957172122199181859163721121116782941621321111232342127151299298258\n",
      "1193171222181731577512311151622115325981249325524411329527149123294187131519331115293169191191188974\n",
      "7361414488876111685422912712199945339791122321313661373284819524231223276991835456242151321911173365\n",
      "6132116139116159519661211214183822195812917735711165919172937611282417713718496254611651115137154211\n"
     ]
    },
    {
     "data": {
      "text/markdown": [
       "The stored answers are: `{1: '361', 2: '2838'}`"
      ],
      "text/plain": [
       "<IPython.core.display.Markdown object>"
      ]
     },
     "metadata": {},
     "output_type": "display_data"
    }
   ],
   "source": [
    "puzzle = advent.puzzle(day=15)"
   ]
  },
  {
   "cell_type": "code",
   "execution_count": 86,
   "id": "bd16ff17",
   "metadata": {
    "execution": {
     "iopub.execute_input": "2023-01-10T23:00:53.622469Z",
     "iopub.status.busy": "2023-01-10T23:00:53.622029Z",
     "iopub.status.idle": "2023-01-10T23:00:53.624805Z",
     "shell.execute_reply": "2023-01-10T23:00:53.624330Z",
     "shell.execute_reply.started": "2023-01-10T23:00:53.622455Z"
    },
    "tags": []
   },
   "outputs": [],
   "source": [
    "s1 = \"\"\"\\\n",
    "1163751742\n",
    "1381373672\n",
    "2136511328\n",
    "3694931569\n",
    "7463417111\n",
    "1319128137\n",
    "1359912421\n",
    "3125421639\n",
    "1293138521\n",
    "2311944581\n",
    "\"\"\""
   ]
  },
  {
   "cell_type": "code",
   "execution_count": 87,
   "id": "683ac1c8",
   "metadata": {
    "execution": {
     "iopub.execute_input": "2023-01-10T23:00:53.625513Z",
     "iopub.status.busy": "2023-01-10T23:00:53.625361Z",
     "iopub.status.idle": "2023-01-10T23:00:54.198580Z",
     "shell.execute_reply": "2023-01-10T23:00:54.198035Z",
     "shell.execute_reply.started": "2023-01-10T23:00:53.625501Z"
    },
    "tags": []
   },
   "outputs": [
    {
     "name": "stdout",
     "output_type": "stream",
     "text": [
      "(Part 1: 0.021 s)\n",
      "(Part 2: 0.534 s)\n"
     ]
    }
   ],
   "source": [
    "def day15a(s, *, part2=False):  # Compact.\n",
    "  grid = np.array([list(line) for line in s.splitlines()], int)\n",
    "  if part2:\n",
    "    a = [np.concatenate([(grid + (y + x - 1)) % 9 + 1 for x in range(5)], axis=1) for y in range(5)]\n",
    "    grid = np.concatenate(a, axis=0)\n",
    "\n",
    "  distances = np.full(grid.shape, 10**6)\n",
    "  distances[0, 0] = 0\n",
    "  pq = [(0, (0, 0))]\n",
    "  while pq:\n",
    "    d, yx = heapq.heappop(pq)\n",
    "    if yx == (grid.shape[0] - 1, grid.shape[1] - 1):\n",
    "      return d\n",
    "    for dyx in [(-1, 0), (1, 0), (0, -1), (0, 1)]:\n",
    "      yx2 = yx[0] + dyx[0], yx[1] + dyx[1]\n",
    "      if 0 <= yx2[0] < grid.shape[0] and 0 <= yx2[1] < grid.shape[1]:\n",
    "        candidate_d = d + grid[yx2]\n",
    "        if candidate_d < distances[yx2]:\n",
    "          distances[yx2] = candidate_d\n",
    "          heapq.heappush(pq, (candidate_d, yx2))\n",
    "\n",
    "\n",
    "check_eq(day15a(s1), 40)\n",
    "puzzle.verify(1, day15a)  # ~60 ms.\n",
    "day15a_part2 = functools.partial(day15a, part2=True)\n",
    "check_eq(day15a_part2(s1), 315)\n",
    "puzzle.verify(2, day15a_part2)  # ~1700 ms."
   ]
  },
  {
   "cell_type": "code",
   "execution_count": 88,
   "id": "fbf5beaf",
   "metadata": {
    "execution": {
     "iopub.execute_input": "2023-01-10T23:00:54.199943Z",
     "iopub.status.busy": "2023-01-10T23:00:54.199464Z",
     "iopub.status.idle": "2023-01-10T23:00:54.210989Z",
     "shell.execute_reply": "2023-01-10T23:00:54.210501Z",
     "shell.execute_reply.started": "2023-01-10T23:00:54.199925Z"
    },
    "tags": []
   },
   "outputs": [],
   "source": [
    "def day15b(s, *, part2=False):  # Try A* search.\n",
    "  grid = np.array([list(line) for line in s.splitlines()], int)\n",
    "  if part2:\n",
    "    a = [np.concatenate([(grid + (y + x - 1)) % 9 + 1 for x in range(5)], axis=1) for y in range(5)]\n",
    "    grid = np.concatenate(a, axis=0)\n",
    "\n",
    "  grid = np.pad(grid, 1, constant_values=10**8)  # To avoid boundary checks.\n",
    "  c0 = grid.shape[0] - 2 + grid.shape[1] - 2\n",
    "\n",
    "  def hfunc(yx):\n",
    "    heuristic_weight = 2\n",
    "    return (c0 - yx[0] - yx[1]) * heuristic_weight\n",
    "\n",
    "  start = 1, 1\n",
    "  destination = grid.shape[0] - 2, grid.shape[1] - 2\n",
    "  check_eq(hfunc(destination), 0)\n",
    "  distances = np.full(grid.shape, 10**6)\n",
    "  distances[start] = 0\n",
    "  pq = [(hfunc(start), start)]\n",
    "  best_solution = 10**6\n",
    "  while pq:\n",
    "    f, yx = heapq.heappop(pq)\n",
    "    d = distances[yx]\n",
    "    if yx == destination:\n",
    "      # return d\n",
    "      best_solution = min(best_solution, d)\n",
    "      # print(f'{best_solution=}')\n",
    "    if 1 and d > best_solution + 40:\n",
    "      break\n",
    "    y, x = yx\n",
    "    for dy, dx in [(-1, 0), (1, 0), (0, -1), (0, 1)]:\n",
    "      yx2 = y + dy, x + dx\n",
    "      # https://en.wikipedia.org/wiki/A*_search_algorithm\n",
    "      g = d + grid[yx2]\n",
    "      if g < distances[yx2]:\n",
    "        distances[yx2] = g\n",
    "        f = g + hfunc(yx2)\n",
    "        heapq.heappush(pq, (f, yx2))\n",
    "  return best_solution\n",
    "\n",
    "\n",
    "check_eq(day15b(s1), 40)\n",
    "# puzzle.verify(1, day15b)  # ~140 ms.\n",
    "day15b_part2 = functools.partial(day15b, part2=True)\n",
    "check_eq(day15b_part2(s1), 315)\n",
    "# puzzle.verify(2, day15b_part2)  # ~1850 ms."
   ]
  },
  {
   "cell_type": "code",
   "execution_count": 89,
   "id": "697103a1",
   "metadata": {
    "execution": {
     "iopub.execute_input": "2023-01-10T23:00:54.211663Z",
     "iopub.status.busy": "2023-01-10T23:00:54.211543Z",
     "iopub.status.idle": "2023-01-10T23:00:54.735960Z",
     "shell.execute_reply": "2023-01-10T23:00:54.735366Z",
     "shell.execute_reply.started": "2023-01-10T23:00:54.211651Z"
    },
    "tags": []
   },
   "outputs": [],
   "source": [
    "# Fastest: several opposing sweeps, but can fail.\n",
    "@numba.njit\n",
    "def day15c_func(grid):\n",
    "  stride = grid.shape[1]\n",
    "  flat = grid.ravel()\n",
    "  start = stride + 1\n",
    "  destination = flat.size - stride - 2\n",
    "  distances = np.full(flat.size, 10**6)\n",
    "  distances[start] = 0\n",
    "  count = 0\n",
    "\n",
    "  while True:\n",
    "    last_distance = distances[destination]\n",
    "    for index in range(start, destination + 1):\n",
    "      d = flat[index] + min(distances[index - 1], distances[index - stride])\n",
    "      distances[index] = min(distances[index], d)\n",
    "\n",
    "    # Not a guarantee though.\n",
    "    if distances[destination] == last_distance:\n",
    "      count += 1\n",
    "      if count == 3:  # Hacky.\n",
    "        return distances[destination]\n",
    "\n",
    "    for index in range(destination, start - 1, -1):\n",
    "      d = flat[index] + min(distances[index + 1], distances[index + stride])\n",
    "      distances[index] = min(distances[index], d)\n",
    "\n",
    "\n",
    "def day15c(s, *, part2=False):\n",
    "  grid = np.array([list(line) for line in s.splitlines()], int)\n",
    "  if part2:\n",
    "    a = [np.concatenate([(grid + (y + x - 1)) % 9 + 1 for x in range(5)], axis=1) for y in range(5)]\n",
    "    grid = np.concatenate(a, axis=0)\n",
    "  grid = np.pad(grid, 1, constant_values=10**8)  # To avoid boundary checks.\n",
    "  return day15c_func(grid)\n",
    "\n",
    "\n",
    "check_eq(day15c(s1), 40)\n",
    "# puzzle.verify(1, day15c)  # ~11 ms.  (Commented because it could fail.)\n",
    "day15c_part2 = functools.partial(day15c, part2=True)\n",
    "check_eq(day15c_part2(s1), 315)\n",
    "# puzzle.verify(2, day15c_part2)  # ~27 ms.  (Commented because it could fail.)"
   ]
  },
  {
   "cell_type": "code",
   "execution_count": 90,
   "id": "61f667f0",
   "metadata": {
    "execution": {
     "iopub.execute_input": "2023-01-10T23:00:54.737031Z",
     "iopub.status.busy": "2023-01-10T23:00:54.736665Z",
     "iopub.status.idle": "2023-01-10T23:00:55.475362Z",
     "shell.execute_reply": "2023-01-10T23:00:55.474789Z",
     "shell.execute_reply.started": "2023-01-10T23:00:54.736994Z"
    },
    "tags": []
   },
   "outputs": [
    {
     "name": "stdout",
     "output_type": "stream",
     "text": [
      "(Part 1: 0.001 s)\n",
      "(Part 2: 0.030 s)\n"
     ]
    }
   ],
   "source": [
    "# Padded, numba, visualization.\n",
    "@numba.njit\n",
    "def day15_func(grid, visualize):\n",
    "  start = 1, 1\n",
    "  destination = grid.shape[0] - 2, grid.shape[1] - 2\n",
    "  distances = np.full(grid.shape, 10**6)\n",
    "  distances[start] = 0\n",
    "  prev = np.empty((*grid.shape, 2), np.int32)\n",
    "  pq = [(0, start)]\n",
    "  while pq:\n",
    "    d, yx = heapq.heappop(pq)\n",
    "    # if d > distances[yx]: continue  # Skip finalized.  No change in speed.\n",
    "    if yx == destination:\n",
    "      path_image = None\n",
    "      if visualize:\n",
    "        path_image = grid < 0\n",
    "        while yx != start:\n",
    "          path_image[yx] = True\n",
    "          yx = prev[yx][0], prev[yx][1]\n",
    "      return d, path_image\n",
    "    y, x = yx\n",
    "    for dy, dx in ((-1, 0), (1, 0), (0, -1), (0, 1)):\n",
    "      yx2 = y + dy, x + dx\n",
    "      candidate_d = d + grid[yx2]\n",
    "      if candidate_d < distances[yx2]:\n",
    "        distances[yx2] = candidate_d\n",
    "        heapq.heappush(pq, (candidate_d, yx2))\n",
    "        if visualize:\n",
    "          prev[yx2] = yx\n",
    "\n",
    "\n",
    "def day15(s, *, part2=False, visualize=False):\n",
    "  grid = np.array([list(line) for line in s.splitlines()], int)\n",
    "  if part2:\n",
    "    a = [np.concatenate([(grid + (y + x - 1)) % 9 + 1 for x in range(5)], axis=1) for y in range(5)]\n",
    "    grid = np.concatenate(a, axis=0)\n",
    "  grid = np.pad(grid, 1, constant_values=10**8)  # To avoid boundary checks.\n",
    "  d, path_image = day15_func(grid, visualize)\n",
    "  if visualize:\n",
    "    # media.show_image(~path_image, border=True)\n",
    "    frame0 = media.to_rgb(grid[1:-1, 1:-1] * 1.0, cmap='bwr')\n",
    "    frame1 = np.where(path_image[1:-1, 1:-1, None], 0, frame0)\n",
    "    media.show_video([frame0, frame1], codec='gif', fps=1)\n",
    "  return d\n",
    "\n",
    "\n",
    "check_eq(day15(s1), 40)\n",
    "puzzle.verify(1, day15)  # ~14 ms.\n",
    "day15_part2 = functools.partial(day15, part2=True)\n",
    "check_eq(day15_part2(s1), 315)\n",
    "puzzle.verify(2, day15_part2)  # ~90 ms."
   ]
  },
  {
   "cell_type": "code",
   "execution_count": 91,
   "id": "9f2dfc22",
   "metadata": {
    "execution": {
     "iopub.execute_input": "2023-01-10T23:00:55.476332Z",
     "iopub.status.busy": "2023-01-10T23:00:55.476070Z",
     "iopub.status.idle": "2023-01-10T23:00:55.584751Z",
     "shell.execute_reply": "2023-01-10T23:00:55.584163Z",
     "shell.execute_reply.started": "2023-01-10T23:00:55.476318Z"
    },
    "tags": []
   },
   "outputs": [
    {
     "data": {
      "text/html": [
       "<table class=\"show_videos\" style=\"border-spacing:0px;\"><tr><td style=\"padding:1px;\"><img width=\"500\" height=\"500\" style=\"image-rendering:auto; object-fit:cover;\" src=\"data:image/gif;base64,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\"/></td></tr></table>"
      ],
      "text/plain": [
       "<IPython.core.display.HTML object>"
      ]
     },
     "metadata": {},
     "output_type": "display_data"
    }
   ],
   "source": [
    "_ = day15_part2(puzzle.input, visualize=True)"
   ]
  },
  {
   "cell_type": "markdown",
   "id": "3bc1ace0",
   "metadata": {},
   "source": [
    "<a name=\"day16\"></a>\n",
    "## Day 16: Decode nested bit packets"
   ]
  },
  {
   "cell_type": "markdown",
   "id": "67a921f7",
   "metadata": {},
   "source": [
    "- Part 1: What is the sum of the version numbers in all packets?\n",
    "\n",
    "- Part 2: What do you get if you evaluate the expression represented by your hexadecimal-encoded BITS transmission?\n",
    "\n",
    "---\n",
    "\n",
    "This puzzle is straightforward.\n",
    "I thought there might be a chance that the `BITS` encoding might get reused for a different purpose in a subsequent puzzle, so I created a second implementation that parses the input into a tree structure before evaluating it."
   ]
  },
  {
   "cell_type": "code",
   "execution_count": 92,
   "id": "0fccea78",
   "metadata": {
    "execution": {
     "iopub.execute_input": "2023-01-10T23:00:55.585567Z",
     "iopub.status.busy": "2023-01-10T23:00:55.585417Z",
     "iopub.status.idle": "2023-01-10T23:00:55.600743Z",
     "shell.execute_reply": "2023-01-10T23:00:55.600042Z",
     "shell.execute_reply.started": "2023-01-10T23:00:55.585553Z"
    }
   },
   "outputs": [
    {
     "data": {
      "text/markdown": [
       "For [day 16](https://adventofcode.com/2021/day/16), `puzzle.input` has a single line of 1_366 characters:"
      ],
      "text/plain": [
       "<IPython.core.display.Markdown object>"
      ]
     },
     "metadata": {},
     "output_type": "display_data"
    },
    {
     "name": "stdout",
     "output_type": "stream",
     "text": [
      "0054FEC8C54DC02295D5AE9B243D2F4FEA154493A43E0E60084E61CE802419A95E38958DE4F100B9 ... CF15CA0E4D044F9E4B6258A5065400D9B68\n"
     ]
    },
    {
     "data": {
      "text/markdown": [
       "The stored answers are: `{1: '934', 2: '912901337844'}`"
      ],
      "text/plain": [
       "<IPython.core.display.Markdown object>"
      ]
     },
     "metadata": {},
     "output_type": "display_data"
    }
   ],
   "source": [
    "puzzle = advent.puzzle(day=16)"
   ]
  },
  {
   "cell_type": "code",
   "execution_count": 93,
   "id": "71767d44",
   "metadata": {
    "execution": {
     "iopub.execute_input": "2023-01-10T23:00:55.601788Z",
     "iopub.status.busy": "2023-01-10T23:00:55.601528Z",
     "iopub.status.idle": "2023-01-10T23:00:55.611249Z",
     "shell.execute_reply": "2023-01-10T23:00:55.610747Z",
     "shell.execute_reply.started": "2023-01-10T23:00:55.601775Z"
    }
   },
   "outputs": [
    {
     "name": "stdout",
     "output_type": "stream",
     "text": [
      "(Part 1: 0.001 s)\n",
      "(Part 2: 0.001 s)\n"
     ]
    }
   ],
   "source": [
    "def day16a(s, *, part2=False):  # Directly evaluate.\n",
    "  s = ''.join(f'{int(nibble, 16):04b}' for nibble in s.strip())\n",
    "  operation_for_id: dict[int, Callable[..., int]] = {\n",
    "      0: lambda *operands: sum(operands),\n",
    "      1: lambda *operands: math.prod(operands),\n",
    "      2: lambda *operands: min(operands),\n",
    "      3: lambda *operands: max(operands),\n",
    "      5: lambda operand1, operand2: int(operand1 > operand2),\n",
    "      6: lambda operand1, operand2: int(operand1 < operand2),\n",
    "      7: lambda operand1, operand2: int(operand1 == operand2),\n",
    "  }\n",
    "  sum_versions = 0\n",
    "\n",
    "  def read_bits(n):\n",
    "    nonlocal s\n",
    "    value = int(s[:n], 2)\n",
    "    s = s[n:]\n",
    "    return value\n",
    "\n",
    "  def parse_s():\n",
    "    nonlocal sum_versions\n",
    "    version = read_bits(3)\n",
    "    sum_versions += version\n",
    "    packet_id = read_bits(3)\n",
    "    if packet_id == 4:\n",
    "      number = 0\n",
    "      more = True\n",
    "      while more:\n",
    "        more = read_bits(1)\n",
    "        number = number * 16 + read_bits(4)\n",
    "      return number\n",
    "    operands = []\n",
    "    length_type = read_bits(1)\n",
    "    if length_type == 0:\n",
    "      num_bits = read_bits(15)\n",
    "      len0 = len(s)\n",
    "      while len0 - len(s) != num_bits:\n",
    "        operands.append(parse_s())\n",
    "    else:\n",
    "      num_packets = read_bits(11)\n",
    "      for _ in range(num_packets):\n",
    "        operands.append(parse_s())\n",
    "    return operation_for_id[packet_id](*operands)\n",
    "\n",
    "  result = parse_s()\n",
    "  return result if part2 else sum_versions\n",
    "\n",
    "\n",
    "check_eq(day16a('8A004A801A8002F478'), 16)\n",
    "check_eq(day16a('620080001611562C8802118E34'), 12)\n",
    "check_eq(day16a('C0015000016115A2E0802F182340'), 23)\n",
    "check_eq(day16a('A0016C880162017C3686B18A3D4780'), 31)\n",
    "puzzle.verify(1, day16a)  # ~2 ms.\n",
    "\n",
    "day16a_part2 = functools.partial(day16a, part2=True)\n",
    "check_eq(day16a_part2('C200B40A82'), 3)\n",
    "check_eq(day16a_part2('04005AC33890'), 54)\n",
    "check_eq(day16a_part2('880086C3E88112'), 7)\n",
    "check_eq(day16a_part2('CE00C43D881120'), 9)\n",
    "check_eq(day16a_part2('D8005AC2A8F0'), 1)\n",
    "check_eq(day16a_part2('F600BC2D8F'), 0)\n",
    "check_eq(day16a_part2('9C005AC2F8F0'), 0)\n",
    "check_eq(day16a_part2('9C0141080250320F1802104A08'), 1)\n",
    "puzzle.verify(2, day16a_part2)  # ~2 ms."
   ]
  },
  {
   "cell_type": "code",
   "execution_count": 94,
   "id": "2b0ed0b3",
   "metadata": {
    "execution": {
     "iopub.execute_input": "2023-01-10T23:00:55.612267Z",
     "iopub.status.busy": "2023-01-10T23:00:55.611869Z",
     "iopub.status.idle": "2023-01-10T23:00:55.626853Z",
     "shell.execute_reply": "2023-01-10T23:00:55.626361Z",
     "shell.execute_reply.started": "2023-01-10T23:00:55.612253Z"
    }
   },
   "outputs": [
    {
     "name": "stdout",
     "output_type": "stream",
     "text": [
      "(Part 1: 0.001 s)\n",
      "(Part 2: 0.001 s)\n"
     ]
    }
   ],
   "source": [
    "def day16(s, *, part2=False, visualize=0):  # Construct tree first.\n",
    "  s = ''.join(f'{int(nibble, 16):04b}' for nibble in s.strip())\n",
    "  operation_for_id: dict[int, Callable[..., int]] = {\n",
    "      0: lambda *operands: sum(operands),\n",
    "      1: lambda *operands: math.prod(operands),\n",
    "      2: lambda *operands: min(operands),\n",
    "      3: lambda *operands: max(operands),\n",
    "      5: lambda operand1, operand2: int(operand1 > operand2),\n",
    "      6: lambda operand1, operand2: int(operand1 < operand2),\n",
    "      7: lambda operand1, operand2: int(operand1 == operand2),\n",
    "  }\n",
    "  name_for_id = {0: 'sum', 1: 'prod', 2: 'min', 3: 'max', 5: 'gt', 6: 'lt', 7: 'eq'}\n",
    "\n",
    "  def parse_s():\n",
    "    def read_bits(n):\n",
    "      nonlocal s\n",
    "      value = int(s[:n], 2)\n",
    "      s = s[n:]\n",
    "      return value\n",
    "\n",
    "    version = read_bits(3)\n",
    "    packet_id = read_bits(3)\n",
    "    if packet_id == 4:\n",
    "      number = 0\n",
    "      more = True\n",
    "      while more:\n",
    "        more = read_bits(1)\n",
    "        number = number * 16 + read_bits(4)\n",
    "      return version, packet_id, number\n",
    "    length_type = read_bits(1)\n",
    "    operands = []\n",
    "    if length_type == 0:\n",
    "      max_length = read_bits(15)\n",
    "      len0 = len(s)\n",
    "      while len0 - len(s) != max_length:\n",
    "        operands.append(parse_s())\n",
    "    else:\n",
    "      max_packets = read_bits(11)\n",
    "      for _ in range(max_packets):\n",
    "        operands.append(parse_s())\n",
    "    return version, packet_id, operands\n",
    "\n",
    "  tree = parse_s()\n",
    "  assert all(ch == '0' for ch in s)\n",
    "\n",
    "  def sum_versions(node):\n",
    "    return node[0] + (sum(sum_versions(e) for e in node[2]) if node[1] != 4 else 0)\n",
    "\n",
    "  def evaluate(node, depth=0):\n",
    "    packet_id = node[1]\n",
    "    if packet_id == 4:\n",
    "      return node[2]\n",
    "    operands = list(map(lambda x: evaluate(x, depth + 1), node[2]))\n",
    "    result = operation_for_id[packet_id](*operands)\n",
    "    if depth < visualize:\n",
    "      print(f'>{\"  \" * depth}{result} = {name_for_id[packet_id]}{operands}')\n",
    "    return result\n",
    "\n",
    "  return evaluate(tree) if part2 else sum_versions(tree)\n",
    "\n",
    "\n",
    "check_eq(day16('8A004A801A8002F478'), 16)\n",
    "check_eq(day16('620080001611562C8802118E34'), 12)\n",
    "check_eq(day16('C0015000016115A2E0802F182340'), 23)\n",
    "check_eq(day16('A0016C880162017C3686B18A3D4780'), 31)\n",
    "puzzle.verify(1, day16)  # ~2 ms.\n",
    "\n",
    "day16_part2 = functools.partial(day16, part2=True)\n",
    "check_eq(day16_part2('C200B40A82'), 3)\n",
    "check_eq(day16_part2('04005AC33890'), 54)\n",
    "check_eq(day16_part2('880086C3E88112'), 7)\n",
    "check_eq(day16_part2('CE00C43D881120'), 9)\n",
    "check_eq(day16_part2('D8005AC2A8F0'), 1)\n",
    "check_eq(day16_part2('F600BC2D8F'), 0)\n",
    "check_eq(day16_part2('9C005AC2F8F0'), 0)\n",
    "check_eq(day16_part2('9C0141080250320F1802104A08'), 1)\n",
    "puzzle.verify(2, day16_part2)  # ~2 ms.\n",
    "if 0:\n",
    "  _ = day16_part2(puzzle.input, visualize=2)"
   ]
  },
  {
   "cell_type": "markdown",
   "id": "3f0fb01a",
   "metadata": {},
   "source": [
    "<a name=\"day17\"></a>\n",
    "## Day 17: Canon trajectories"
   ]
  },
  {
   "cell_type": "markdown",
   "id": "3c52b87b",
   "metadata": {},
   "source": [
    "- Part 1: What is the highest y position it reaches on this trajectory?\n",
    "\n",
    "- Part 2: How many distinct initial velocity values cause the probe to be within the target area after any step?\n",
    "\n",
    "---\n",
    "\n",
    "Given an initial velocity, it is straightforward to compute the projectile trajectory and determine if it intersects the target region.\n",
    "\n",
    "What is more challenging is determining a reasonable **search space for the initial velocities**, denoted here as `(dx0, dy0)`.\n",
    "To simplify the discussion, we'll assume that the puzzle input has a target region with `x1 > 0`, i.e. it is fully to the right.\n",
    "\n",
    "Here are some observations:\n",
    "\n",
    "- The `x` distance traversed with an initial velocity component `dx0 >= 0` is `dx0 + (dx0 - 1) + ... + 1` which equals `(dx0 + 1) * (dx0) // 2`.\n",
    "Therefore, the initial velocity must satisfy `dx0 >= math.isqrt(x1)`.\n",
    "For example, for `dx0 = 3`, we get `3 + 2 + 1 = 6` and `int(sqrt(6)) = 2 < 3`.  Similarly, `dx0 = 4` gives `4 + 3 + 2 + 1 = 10` and `int(sqrt(10)) = 3 < 4`.\n",
    "\n",
    "- Obviously, we must have `dx0 <= x2`, else we immediately overshoot the target horizontally.\n",
    "\n",
    "- The projectile follows a parabolic trajectory (quadratic in `y`).  When it is launched with positive `dy0`, it will come back down and hit `y=0` with a `dy` value that is *exactly* `-dy0`.\n",
    "Therefore, it can then be guaranteed that if `dy0 > max(abs(y1), abs(y2))`, no solution can exist --- because its next step down after it crosses `y=0` would be `y = -dy0 - 1` which is below `y1`.\n",
    "\n",
    "- Finally, we must have `dy0 >= y1`, else we immediately overshoot the target vertically.\n",
    "\n",
    "- To summarize, the **velocity search space is bounded by** `math.isqrt(x1) <= dx0 <= x2` and `max(abs(y1), abs(y2)) <= dy0 <= y1`."
   ]
  },
  {
   "cell_type": "code",
   "execution_count": 95,
   "id": "360fa27f",
   "metadata": {
    "execution": {
     "iopub.execute_input": "2023-01-10T23:00:55.628020Z",
     "iopub.status.busy": "2023-01-10T23:00:55.627548Z",
     "iopub.status.idle": "2023-01-10T23:00:55.651293Z",
     "shell.execute_reply": "2023-01-10T23:00:55.650791Z",
     "shell.execute_reply.started": "2023-01-10T23:00:55.628007Z"
    },
    "tags": []
   },
   "outputs": [
    {
     "data": {
      "text/markdown": [
       "For [day 17](https://adventofcode.com/2021/day/17), `puzzle.input` has a single line of 35 characters:"
      ],
      "text/plain": [
       "<IPython.core.display.Markdown object>"
      ]
     },
     "metadata": {},
     "output_type": "display_data"
    },
    {
     "name": "stdout",
     "output_type": "stream",
     "text": [
      "target area: x=209..238, y=-86..-59\n"
     ]
    },
    {
     "data": {
      "text/markdown": [
       "The stored answers are: `{1: '3655', 2: '1447'}`"
      ],
      "text/plain": [
       "<IPython.core.display.Markdown object>"
      ]
     },
     "metadata": {},
     "output_type": "display_data"
    }
   ],
   "source": [
    "puzzle = advent.puzzle(day=17)"
   ]
  },
  {
   "cell_type": "code",
   "execution_count": 96,
   "id": "863328a4",
   "metadata": {
    "execution": {
     "iopub.execute_input": "2023-01-10T23:00:55.652186Z",
     "iopub.status.busy": "2023-01-10T23:00:55.651913Z",
     "iopub.status.idle": "2023-01-10T23:00:55.654533Z",
     "shell.execute_reply": "2023-01-10T23:00:55.654070Z",
     "shell.execute_reply.started": "2023-01-10T23:00:55.652174Z"
    },
    "tags": []
   },
   "outputs": [],
   "source": [
    "s1 = 'target area: x=20..30, y=-10..-5'\n",
    "s2 = 'target area: x=-30..-20, y=-10..-5'  # Try negative x values."
   ]
  },
  {
   "cell_type": "code",
   "execution_count": 97,
   "id": "88df91ee",
   "metadata": {
    "execution": {
     "iopub.execute_input": "2023-01-10T23:00:55.655294Z",
     "iopub.status.busy": "2023-01-10T23:00:55.655079Z",
     "iopub.status.idle": "2023-01-10T23:00:55.959539Z",
     "shell.execute_reply": "2023-01-10T23:00:55.958949Z",
     "shell.execute_reply.started": "2023-01-10T23:00:55.655283Z"
    },
    "tags": []
   },
   "outputs": [
    {
     "name": "stdout",
     "output_type": "stream",
     "text": [
      "(Part 1: 0.145 s)\n",
      "(Part 2: 0.144 s)\n"
     ]
    }
   ],
   "source": [
    "def day17a(s, *, part2=False):  # Slow.\n",
    "  pattern = r'^target area: x=([\\d-]+)\\.\\.([\\d-]+), y=([\\d-]+)\\.\\.([\\d-]+)$'\n",
    "  x1, x2, y1, y2 = map(int, hh.re_groups(pattern, s.strip()))\n",
    "  assert x1 > 0\n",
    "  highest = -1000\n",
    "  count = 0\n",
    "  for dx0 in range(math.isqrt(x1), x2 + 1):\n",
    "    for dy0 in range(y1, max(abs(y1), abs(y2)) + 1):\n",
    "      dx, dy = dx0, dy0\n",
    "      x = y = 0\n",
    "      max_y = 0\n",
    "      while x <= x2 and (x >= x1 or dx > 0) and (y >= y1 or dy > 0):\n",
    "        x, y = x + dx, y + dy\n",
    "        max_y = max(max_y, y)\n",
    "        dx, dy = dx - np.sign(dx), dy - 1\n",
    "        if y1 <= y <= y2 and x1 <= x <= x2:\n",
    "          count += 1\n",
    "          highest = max(highest, max_y)\n",
    "          break\n",
    "\n",
    "  return count if part2 else highest\n",
    "\n",
    "\n",
    "check_eq(day17a(s1), 45)\n",
    "puzzle.verify(1, day17a)  # ~320 ms.\n",
    "\n",
    "day17a_part2 = functools.partial(day17a, part2=True)\n",
    "check_eq(day17a_part2(s1), 112)\n",
    "puzzle.verify(2, day17a_part2)  # ~320 ms."
   ]
  },
  {
   "cell_type": "code",
   "execution_count": 98,
   "id": "4786a42e",
   "metadata": {
    "execution": {
     "iopub.execute_input": "2023-01-10T23:00:55.960525Z",
     "iopub.status.busy": "2023-01-10T23:00:55.960265Z",
     "iopub.status.idle": "2023-01-10T23:00:56.143343Z",
     "shell.execute_reply": "2023-01-10T23:00:56.142737Z",
     "shell.execute_reply.started": "2023-01-10T23:00:55.960511Z"
    }
   },
   "outputs": [
    {
     "name": "stdout",
     "output_type": "stream",
     "text": [
      "(Part 1: 0.000 s)\n",
      "(Part 2: 0.000 s)\n"
     ]
    }
   ],
   "source": [
    "# Fast with numba.\n",
    "@numba.jit\n",
    "def day17_simulations(x1, x2, y1, y2):\n",
    "  highest = -1000\n",
    "  winners = []\n",
    "  # (math.isqrt() not yet supported by numba.)\n",
    "  for dx0 in range(int(x1**0.5) if x1 > 0 else x1, (-int((-x2) ** 0.5) if x2 < 0 else x2) + 1):\n",
    "    for dy0 in range(y1, max(abs(y1), abs(y2)) + 1):\n",
    "      dx, dy = dx0, dy0\n",
    "      x = y = 0\n",
    "      max_y = 0\n",
    "      while (x <= x2 or dx < 0) and (x >= x1 or dx > 0) and (y >= y1 or dy > 0):\n",
    "        x, y = x + dx, y + dy\n",
    "        max_y = max(max_y, y)\n",
    "        dx, dy = dx - np.sign(dx), dy - 1\n",
    "        if y1 <= y <= y2 and x1 <= x <= x2:\n",
    "          winners.append((dy0, dx0))\n",
    "          highest = max(highest, max_y)\n",
    "          break\n",
    "  return winners, highest\n",
    "\n",
    "\n",
    "def day17(s, *, part2=False, visualize=False):\n",
    "  x1, x2, y1, y2 = parse.parse('target area: x={:d}..{:d}, y={:d}..{:d}', s.strip()).fixed\n",
    "  winners, highest = day17_simulations(x1, x2, y1, y2)\n",
    "  if visualize:\n",
    "    yx_map = {\n",
    "        (0, 0): (0, 200, 0),\n",
    "        **{yx: (255, 100, 100) for yx in winners},\n",
    "        **{(y, x): (100, 100, 255) for y in range(y1, y2 + 1) for x in range(x1, x2 + 1)},\n",
    "    }\n",
    "    image = hh.grid_from_indices(yx_map, background=(250,) * 3, pad=1, dtype=np.uint8)[::-1]\n",
    "    media.show_image(image, border=True, height=min(image.shape[0] * 2, 500))\n",
    "  return len(winners) if part2 else highest\n",
    "\n",
    "\n",
    "check_eq(day17(s1), 45)\n",
    "check_eq(day17(s2), 45)\n",
    "puzzle.verify(1, day17)  # ~6 ms.\n",
    "\n",
    "day17_part2 = functools.partial(day17, part2=True)\n",
    "check_eq(day17_part2(s1), 112)\n",
    "check_eq(day17_part2(s2), 112)\n",
    "puzzle.verify(2, day17_part2)  # ~6 ms."
   ]
  },
  {
   "cell_type": "code",
   "execution_count": 99,
   "id": "06aa4abb",
   "metadata": {
    "execution": {
     "iopub.execute_input": "2023-01-10T23:00:56.144285Z",
     "iopub.status.busy": "2023-01-10T23:00:56.144041Z",
     "iopub.status.idle": "2023-01-10T23:00:56.150916Z",
     "shell.execute_reply": "2023-01-10T23:00:56.150413Z",
     "shell.execute_reply.started": "2023-01-10T23:00:56.144272Z"
    },
    "tags": []
   },
   "outputs": [
    {
     "data": {
      "text/html": [
       "<table class=\"show_images\" style=\"border-spacing:0px;\"><tr><td style=\"padding:1px;\"><img width=\"482\" height=\"348\" style=\"border:1px solid black; image-rendering:pixelated; object-fit:cover;\" src=\"data:image/png;base64,iVBORw0KGgoAAAANSUhEUgAAAPEAAACuCAIAAABocXx8AAACnElEQVR4nO3dS04bQQBF0cKKWVCW1QvqZWVB9iQDJAZGiSCu/nBzzhAJw+Dqqd22yy+3221AyOXJ378uy3VZpvwrMMWzTcPZaJoaTVOjaWo0TY2mqdE0NZqmRtPUaJoaTVOjaWo0TY2mqdE0NZqmRtPUaJoaTVOjaWo0TY2mqdE0NZqmRtPUaJoaTVPz4gxIYuw0NZqmRtPUaJoaTVOjaWo0TY2mqdE0NZqmRtPUaJoaTVOjaWo0TY3vG6fGTlOjaWo0TY2mqdE0NZqmRtPUaJoaTVOjaWo0TY2mqdE0Nc41pcZ7Talx7UGNpqnRNDWapkbT1GiaGk1To2lqNE2NpqnRNDWapkbT1GiaGk1To2lqNE2NpqnRNDWapkbT1Dzb9H1dxxg+Os552GlqpjVtqjmJCU2/XX4MWXMOlzHG66/XJx9F1pzHZYxx+znzyDxZc6yZZ0A+1Pw+3rCn+eeaKptj/dj6D7wnLm72Mf/+9H1d5cuBtj1T/U/PF0XPdryOSM1O333x9xt8ZpuJ7DQ1m9/3ePOwxB9n++NPjDf/xk5Ts9NOP7DBbMdOU3PMTn+V+9x8np2m5iw7bXGZxU5To2lqznLtMZ1X4/9bdpqa77HTZpXPs9PUaJoaTVOjaWo0TY2mqdnp84iwm+9xf/q0vnQ4oLvs+3DtQY2mqdE0NZqmRtPUaJoaTVOjaWo0TY2mqdE0NZqmRtPUeK8pNXaaGk1To2lqNE2NpqnRNDWapkbT1GiaGk1To2lqNE2NpqnRNDWapsa5phxgWa4bPfK63u00NZqmRtPUaJoaTVOjaWo0TY2mqdE0NZqmRtPUaJoaTVOjaWo0TY2mqdE0NZqmRtPUaJoaTVOjaWo0TY2mqdE0NZqmRtPU+L5xan4Dv+hdPIXGt+wAAAAASUVORK5CYII=\"/></td></tr></table>"
      ],
      "text/plain": [
       "<IPython.core.display.HTML object>"
      ]
     },
     "metadata": {},
     "output_type": "display_data"
    }
   ],
   "source": [
    "_ = day17_part2(puzzle.input, visualize=True)"
   ]
  },
  {
   "cell_type": "markdown",
   "id": "57cf970b",
   "metadata": {},
   "source": [
    "The green dot at the left edge is the source (at the origin).  The blue rectangle is the target.  The union of red and blue pixels are the valid initial velocities."
   ]
  },
  {
   "cell_type": "markdown",
   "id": "5bb8e934",
   "metadata": {},
   "source": [
    "<a name=\"day18\"></a>\n",
    "## Day 18: Nested integer pairs"
   ]
  },
  {
   "cell_type": "markdown",
   "id": "594ff73e",
   "metadata": {},
   "source": [
    "- Part 1: What is the magnitude of the final sum?\n",
    "\n",
    "- Part 2: What is the largest magnitude of any sum of two different snailfish numbers from the homework assignment?\n",
    "\n",
    "---\n",
    "\n",
    "This is a rather straightforward problem but with painstaking implementation effort.\n",
    "My first approach uses a **nested set of lists**.\n",
    "This means that the input is trivial to read (using the unsafe `eval()` function) and trivial to print for debugging.\n",
    "\n",
    "After the initial implementation, I realized that all necessary `explode` operations can be safely applied in the same nested-list traversal, and this provides some speedup (from 4100 ms to 2600 ms)\n",
    "\n",
    "An even greater speedup (down to 230 ms) is enabled by creating an algorithm compatible with `numba`-compilation.\n",
    "For this, I changed the representation from nested lists to a simple **array of tokens**, and I eliminated recursive function calling by instead using a stack.\n",
    "This is cumbersome, and my thought now is that if one is really interested in maximizing efficiency for this puzzle, it would be best to just use `C++`."
   ]
  },
  {
   "cell_type": "code",
   "execution_count": 100,
   "id": "41fae5ac",
   "metadata": {
    "execution": {
     "iopub.execute_input": "2023-01-10T23:00:56.152019Z",
     "iopub.status.busy": "2023-01-10T23:00:56.151541Z",
     "iopub.status.idle": "2023-01-10T23:00:56.170248Z",
     "shell.execute_reply": "2023-01-10T23:00:56.169709Z",
     "shell.execute_reply.started": "2023-01-10T23:00:56.151981Z"
    },
    "tags": []
   },
   "outputs": [
    {
     "data": {
      "text/markdown": [
       "For [day 18](https://adventofcode.com/2021/day/18), `puzzle.input` has 100 lines:"
      ],
      "text/plain": [
       "<IPython.core.display.Markdown object>"
      ]
     },
     "metadata": {},
     "output_type": "display_data"
    },
    {
     "name": "stdout",
     "output_type": "stream",
     "text": [
      "[[[[7,2],[0,2]],9],[[[7,8],6],[0,[2,3]]]]\n",
      "[[[0,9],3],1]\n",
      "[[[[0,5],6],[[0,6],[7,8]]],[[[2,2],[1,5]],[9,5]]]\n",
      "[[2,1],[[3,1],[[3,2],9]]]\n",
      "[[[[9,3],[7,5]],[5,9]],[[0,[0,4]],2]]\n",
      "[[[9,9],4],[8,[[4,9],7]]]\n",
      "[[[1,9],[[8,3],[6,1]]],[5,1]]\n",
      "[[[[8,6],[1,3]],[3,[1,1]]],[[[6,4],[0,4]],[[0,0],3]]]\n",
      " ...\n",
      "[[[[9,0],[5,8]],3],2]\n",
      "[7,[[[1,0],[9,7]],[[8,3],0]]]\n",
      "[[[0,1],[4,[4,5]]],[9,[[3,6],[6,8]]]]\n",
      "[8,[[7,[4,7]],[[0,5],3]]]\n"
     ]
    },
    {
     "data": {
      "text/markdown": [
       "The stored answers are: `{1: '4433', 2: '4559'}`"
      ],
      "text/plain": [
       "<IPython.core.display.Markdown object>"
      ]
     },
     "metadata": {},
     "output_type": "display_data"
    }
   ],
   "source": [
    "puzzle = advent.puzzle(day=18)"
   ]
  },
  {
   "cell_type": "code",
   "execution_count": 101,
   "id": "ca304124",
   "metadata": {
    "execution": {
     "iopub.execute_input": "2023-01-10T23:00:56.171182Z",
     "iopub.status.busy": "2023-01-10T23:00:56.170908Z",
     "iopub.status.idle": "2023-01-10T23:00:56.173843Z",
     "shell.execute_reply": "2023-01-10T23:00:56.173325Z",
     "shell.execute_reply.started": "2023-01-10T23:00:56.171170Z"
    },
    "tags": []
   },
   "outputs": [],
   "source": [
    "s1 = \"\"\"\\\n",
    "[[[[4,3],4],4],[7,[[8,4],9]]]\n",
    "[1,1]\n",
    "\"\"\"\n",
    "\n",
    "s2 = \"\"\"\\\n",
    "[1,1]\n",
    "[2,2]\n",
    "[3,3]\n",
    "[4,4]\n",
    "[5,5]\n",
    "\"\"\"\n",
    "\n",
    "s3 = \"\"\"\\\n",
    "[1,1]\n",
    "[2,2]\n",
    "[3,3]\n",
    "[4,4]\n",
    "[5,5]\n",
    "[6,6]\n",
    "\"\"\"\n",
    "\n",
    "s4 = \"\"\"\\\n",
    "[[[0,[4,5]],[0,0]],[[[4,5],[2,6]],[9,5]]]\n",
    "[7,[[[3,7],[4,3]],[[6,3],[8,8]]]]\n",
    "[[2,[[0,8],[3,4]]],[[[6,7],1],[7,[1,6]]]]\n",
    "[[[[2,4],7],[6,[0,5]]],[[[6,8],[2,8]],[[2,1],[4,5]]]]\n",
    "[7,[5,[[3,8],[1,4]]]]\n",
    "[[2,[2,2]],[8,[8,1]]]\n",
    "[2,9]\n",
    "[1,[[[9,3],9],[[9,0],[0,7]]]]\n",
    "[[[5,[7,4]],7],1]\n",
    "[[[[4,2],2],6],[8,7]]\n",
    "\"\"\"\n",
    "\n",
    "s5 = \"\"\"\\\n",
    "[[[0,[5,8]],[[1,7],[9,6]]],[[4,[1,2]],[[1,4],2]]]\n",
    "[[[5,[2,8]],4],[5,[[9,9],0]]]\n",
    "[6,[[[6,2],[5,6]],[[7,6],[4,7]]]]\n",
    "[[[6,[0,7]],[0,9]],[4,[9,[9,0]]]]\n",
    "[[[7,[6,4]],[3,[1,3]]],[[[5,5],1],9]]\n",
    "[[6,[[7,3],[3,2]]],[[[3,8],[5,7]],4]]\n",
    "[[[[5,4],[7,7]],8],[[8,3],8]]\n",
    "[[9,3],[[9,9],[6,[4,9]]]]\n",
    "[[2,[[7,7],7]],[[5,8],[[9,3],[0,2]]]]\n",
    "[[[[5,2],5],[8,[3,7]]],[[5,[7,5]],[4,4]]]\n",
    "\"\"\""
   ]
  },
  {
   "cell_type": "code",
   "execution_count": 102,
   "id": "d974dab0",
   "metadata": {
    "execution": {
     "iopub.execute_input": "2023-01-10T23:00:56.174427Z",
     "iopub.status.busy": "2023-01-10T23:00:56.174301Z",
     "iopub.status.idle": "2023-01-10T23:00:56.292147Z",
     "shell.execute_reply": "2023-01-10T23:00:56.291593Z",
     "shell.execute_reply.started": "2023-01-10T23:00:56.174417Z"
    },
    "tags": []
   },
   "outputs": [
    {
     "name": "stdout",
     "output_type": "stream",
     "text": [
      "(Part 1: 0.070 s)\n"
     ]
    }
   ],
   "source": [
    "def day18a(s, *, part2=False, return_snail=False):  # Using List-based tree.\n",
    "  def parse_snail(line):\n",
    "    # (Next solution instead uses ast.literal_eval.)\n",
    "\n",
    "    def recurse(s):\n",
    "      if s[0] == '[':\n",
    "        snail0, s = recurse(s[1:])\n",
    "        assert s[0] == ','\n",
    "        snail1, s = recurse(s[1:])\n",
    "        assert s[0] == ']'\n",
    "        return [snail0, snail1], s[1:]\n",
    "      i = next((i for i, ch in enumerate(s) if ch in ',]'), len(s))\n",
    "      return int(s[:i]), s[i:]\n",
    "\n",
    "    snail, s = recurse(line)\n",
    "    assert not s\n",
    "    return snail\n",
    "\n",
    "  def explode_one(snail) -> bool:\n",
    "    def add_to_middle(snail, side, value):\n",
    "      side1 = 1 - side\n",
    "      while not isinstance(snail[side], int):\n",
    "        snail = snail[side]\n",
    "        side = side1\n",
    "      snail[side] += value\n",
    "\n",
    "    def recurse(snail, depth=0):\n",
    "      for i, child in enumerate(snail):\n",
    "        if not isinstance(child, int):\n",
    "          if depth == 3:\n",
    "            snail[i] = 0\n",
    "            add_to_middle(snail, 1 - i, child[1 - i])\n",
    "            child[1 - i] = None\n",
    "            return True, child\n",
    "          done, left_right = recurse(child, depth + 1)\n",
    "          if done:\n",
    "            if left_right[1 - i] is not None:\n",
    "              add_to_middle(snail, 1 - i, left_right[1 - i])\n",
    "              left_right[1 - i] = None\n",
    "            return done, left_right\n",
    "      return False, [None, None]\n",
    "\n",
    "    return recurse(snail)[0]\n",
    "\n",
    "  def split_one(snail) -> bool:\n",
    "    for i, child in enumerate(snail):\n",
    "      if isinstance(child, int):\n",
    "        if child >= 10:\n",
    "          snail[i] = [child // 2, (child + 1) // 2]\n",
    "          return True\n",
    "      elif split_one(snail[i]):\n",
    "        return True\n",
    "    return False\n",
    "\n",
    "  def reduce_snail(snail):\n",
    "    while explode_one(snail) or split_one(snail):\n",
    "      pass\n",
    "    return snail\n",
    "\n",
    "  def magnitude(snail):\n",
    "    return snail if isinstance(snail, int) else 3 * magnitude(snail[0]) + 2 * magnitude(snail[1])\n",
    "\n",
    "  lines = s.splitlines()\n",
    "  snails = [parse_snail(line) for line in lines]\n",
    "\n",
    "  if not part2:\n",
    "    snail = snails[0]\n",
    "    for i in range(1, len(snails)):\n",
    "      snail = reduce_snail([snail, snails[i]])\n",
    "    return str(snail).replace(' ', '') if return_snail else magnitude(snail)\n",
    "\n",
    "  return max(\n",
    "      magnitude(reduce_snail(copy.deepcopy([snail0, snail1])))\n",
    "      for snail0, snail1 in itertools.permutations(snails, 2)\n",
    "  )\n",
    "\n",
    "\n",
    "day18_parse_reduce_a = functools.partial(day18a, return_snail=True)\n",
    "check_eq(day18_parse_reduce_a(s1), '[[[[0,7],4],[[7,8],[6,0]]],[8,1]]')\n",
    "check_eq(day18_parse_reduce_a(s2), '[[[[3,0],[5,3]],[4,4]],[5,5]]')\n",
    "check_eq(day18_parse_reduce_a(s3), '[[[[5,0],[7,4]],[5,5]],[6,6]]')\n",
    "check_eq(day18_parse_reduce_a(s4), '[[[[8,7],[7,7]],[[8,6],[7,7]]],[[[0,7],[6,6]],[8,7]]]')\n",
    "check_eq(day18_parse_reduce_a(s5), '[[[[6,6],[7,6]],[[7,7],[7,0]]],[[[7,7],[7,7]],[[7,8],[9,9]]]]')\n",
    "\n",
    "check_eq(day18a(s5), 4140)\n",
    "puzzle.verify(1, day18a)  # ~250 ms.\n",
    "\n",
    "day18a_part2 = functools.partial(day18a, part2=True)\n",
    "check_eq(day18a_part2(s5), 3993)\n",
    "# puzzle.verify(2, day18a_part2)  # ~4100 ms."
   ]
  },
  {
   "cell_type": "code",
   "execution_count": 103,
   "id": "de574787",
   "metadata": {
    "execution": {
     "iopub.execute_input": "2023-01-10T23:00:56.293046Z",
     "iopub.status.busy": "2023-01-10T23:00:56.292745Z",
     "iopub.status.idle": "2023-01-10T23:00:56.439130Z",
     "shell.execute_reply": "2023-01-10T23:00:56.438614Z",
     "shell.execute_reply.started": "2023-01-10T23:00:56.293034Z"
    },
    "tags": []
   },
   "outputs": [
    {
     "name": "stdout",
     "output_type": "stream",
     "text": [
      "(Part 1: 0.043 s)\n"
     ]
    }
   ],
   "source": [
    "def day18b(s, *, part2=False, return_snail=False):  # Explode all in the same pass.\n",
    "  def parse_snail(line):\n",
    "    return ast.literal_eval(line)\n",
    "\n",
    "  def explode_all(snail):\n",
    "    def add_to_middle(snail, side, value):\n",
    "      side1 = 1 - side\n",
    "      while not isinstance(snail[side], int):\n",
    "        snail = snail[side]\n",
    "        side = side1\n",
    "      snail[side] += value\n",
    "\n",
    "    def recurse(snail, depth=0):\n",
    "      left = right = None\n",
    "      if not isinstance(snail[0], int):\n",
    "        if depth == 3:\n",
    "          left = snail[0][0]\n",
    "          add_to_middle(snail, 1, snail[0][1])\n",
    "          snail[0] = 0\n",
    "        else:\n",
    "          left, right2 = recurse(snail[0], depth + 1)\n",
    "          if right2 is not None:\n",
    "            add_to_middle(snail, 1, right2)\n",
    "      if not isinstance(snail[1], int):\n",
    "        if depth == 3:\n",
    "          right = snail[1][1]\n",
    "          add_to_middle(snail, 0, snail[1][0])\n",
    "          snail[1] = 0\n",
    "        else:\n",
    "          left2, right = recurse(snail[1], depth + 1)\n",
    "          if left2 is not None:\n",
    "            add_to_middle(snail, 0, left2)\n",
    "      return left, right\n",
    "\n",
    "    recurse(snail)\n",
    "\n",
    "  def split_one(snail) -> bool:\n",
    "    for i, child in enumerate(snail):\n",
    "      if isinstance(child, int):\n",
    "        if child >= 10:\n",
    "          snail[i] = [child // 2, (child + 1) // 2]\n",
    "          return True\n",
    "      elif split_one(snail[i]):\n",
    "        return True\n",
    "    return False\n",
    "\n",
    "  def reduce_snail(snail):\n",
    "    while True:\n",
    "      explode_all(snail)\n",
    "      if not split_one(snail):\n",
    "        break\n",
    "    return snail\n",
    "\n",
    "  def magnitude(snail):\n",
    "    return snail if isinstance(snail, int) else 3 * magnitude(snail[0]) + 2 * magnitude(snail[1])\n",
    "\n",
    "  lines = s.splitlines()\n",
    "  snails = [parse_snail(line) for line in lines]\n",
    "\n",
    "  if not part2:\n",
    "    snail = snails[0]\n",
    "    for i in range(1, len(snails)):\n",
    "      snail = reduce_snail([snail, snails[i]])\n",
    "    return str(snail).replace(' ', '') if return_snail else magnitude(snail)\n",
    "\n",
    "  return max(\n",
    "      magnitude(reduce_snail(copy.deepcopy([snail0, snail1])))\n",
    "      for snail0, snail1 in itertools.permutations(snails, 2)\n",
    "  )\n",
    "\n",
    "\n",
    "day18_parse_reduce_b = functools.partial(day18b, return_snail=True)\n",
    "check_eq(day18_parse_reduce_b(s1), '[[[[0,7],4],[[7,8],[6,0]]],[8,1]]')\n",
    "check_eq(day18_parse_reduce_b(s2), '[[[[3,0],[5,3]],[4,4]],[5,5]]')\n",
    "check_eq(day18_parse_reduce_b(s3), '[[[[5,0],[7,4]],[5,5]],[6,6]]')\n",
    "check_eq(day18_parse_reduce_b(s4), '[[[[8,7],[7,7]],[[8,6],[7,7]]],[[[0,7],[6,6]],[8,7]]]')\n",
    "check_eq(day18_parse_reduce_b(s5), '[[[[6,6],[7,6]],[[7,7],[7,0]]],[[[7,7],[7,7]],[[7,8],[9,9]]]]')\n",
    "\n",
    "check_eq(day18b(s5), 4140)\n",
    "puzzle.verify(1, day18b)  # ~140 ms.\n",
    "\n",
    "day18b_part2 = functools.partial(day18b, part2=True)\n",
    "check_eq(day18b_part2(s5), 3993)\n",
    "if not using_numba:\n",
    "  puzzle.verify(2, day18b_part2)  # ~2600 ms."
   ]
  },
  {
   "cell_type": "code",
   "execution_count": 104,
   "id": "ea84eaf0",
   "metadata": {
    "execution": {
     "iopub.execute_input": "2023-01-10T23:00:56.439866Z",
     "iopub.status.busy": "2023-01-10T23:00:56.439733Z",
     "iopub.status.idle": "2023-01-10T23:00:57.402211Z",
     "shell.execute_reply": "2023-01-10T23:00:57.401453Z",
     "shell.execute_reply.started": "2023-01-10T23:00:56.439854Z"
    },
    "tags": []
   },
   "outputs": [
    {
     "name": "stdout",
     "output_type": "stream",
     "text": [
      "(Part 1: 0.005 s)\n",
      "(Part 2: 0.084 s)\n"
     ]
    }
   ],
   "source": [
    "# Approach based on 1D arrays, without recursion, to support fast numba.\n",
    "@numba.njit\n",
    "def day18_reduce_snail(snail: np.ndarray) -> np.ndarray:\n",
    "  def explode_all(snail):\n",
    "    depth = 0\n",
    "    i = 0\n",
    "    while i < len(snail):\n",
    "      v = snail[i]\n",
    "      if v == -1:\n",
    "        if depth < 4:\n",
    "          depth += 1\n",
    "        else:\n",
    "          left, right, close = snail[i + 1 : i + 4]\n",
    "          assert left >= 0 and right >= 0 and close == -2\n",
    "          snail = np.delete(snail, slice(i + 1, i + 4))\n",
    "          snail[i] = 0\n",
    "          for j in range(i - 1, -1, -1):\n",
    "            if snail[j] >= 0:\n",
    "              snail[j] += left\n",
    "              break\n",
    "          for j in range(i + 1, len(snail)):\n",
    "            if snail[j] >= 0:\n",
    "              snail[j] += right\n",
    "              break\n",
    "      elif v == -2:\n",
    "        depth -= 1\n",
    "      i += 1\n",
    "    assert depth == 0\n",
    "    return snail\n",
    "\n",
    "  def split_one(snail):\n",
    "    for i, value in enumerate(snail):\n",
    "      if value >= 10:\n",
    "        snail = np.concatenate(\n",
    "            (snail[:i], np.array([-1, value // 2, (value + 1) // 2, -2]), snail[i + 1 :])\n",
    "        )\n",
    "        return True, snail\n",
    "    return False, snail\n",
    "\n",
    "  while True:\n",
    "    snail = explode_all(snail)\n",
    "    done, snail = split_one(snail)\n",
    "    if not done:\n",
    "      return snail\n",
    "\n",
    "\n",
    "@numba.njit\n",
    "def day18_magnitude(snail: np.ndarray) -> int:\n",
    "  stack = []\n",
    "  for value in snail:\n",
    "    if value >= 0:\n",
    "      stack.append(value)\n",
    "    elif value == -2:\n",
    "      right, left = stack.pop(), stack.pop()\n",
    "      stack.append(3 * left + 2 * right)\n",
    "  assert len(stack) == 1\n",
    "  return stack[0]\n",
    "\n",
    "\n",
    "@numba.njit\n",
    "def day18_add_snails(snail1, snail2):\n",
    "  return np.concatenate((np.array([-1]), snail1, snail2, np.array([-2])))\n",
    "\n",
    "\n",
    "def day18(s, *, part2=False, return_snail=False):\n",
    "  def parse_snail(line):\n",
    "    return np.array(\n",
    "        [-1 if ch == '[' else -2 if ch == ']' else int(ch) for ch in line.replace(',', '')]\n",
    "    )\n",
    "\n",
    "  def format_snail(snail):\n",
    "    result = []\n",
    "    stack = [0]\n",
    "    for value in snail:\n",
    "      if value >= -1 and stack[-1] > 0:\n",
    "        result.append(',')\n",
    "      if value >= 0:\n",
    "        result.append(str(value))\n",
    "      elif value == -1:\n",
    "        result.append('[')\n",
    "        stack.append(0)\n",
    "      elif value == -2:\n",
    "        result.append(']')\n",
    "        check_eq(stack[-1], 2)\n",
    "        stack.pop()\n",
    "      else:\n",
    "        assert False\n",
    "      if value == -2 or value >= 0:\n",
    "        stack[-1] += 1\n",
    "    return ''.join(result)\n",
    "\n",
    "  lines = s.splitlines()\n",
    "  snails = [parse_snail(line) for line in lines]\n",
    "\n",
    "  if not part2:\n",
    "    snail = functools.reduce(lambda s1, s2: day18_reduce_snail(day18_add_snails(s1, s2)), snails)\n",
    "    return format_snail(snail) if return_snail else day18_magnitude(snail)\n",
    "\n",
    "  return max(\n",
    "      day18_magnitude(day18_reduce_snail(day18_add_snails(snail0, snail1)))\n",
    "      for snail0, snail1 in itertools.permutations(snails, 2)\n",
    "  )\n",
    "\n",
    "\n",
    "day18_parse_reduce = functools.partial(day18, return_snail=True)\n",
    "check_eq(day18_parse_reduce(s1), '[[[[0,7],4],[[7,8],[6,0]]],[8,1]]')\n",
    "check_eq(day18_parse_reduce(s2), '[[[[3,0],[5,3]],[4,4]],[5,5]]')\n",
    "check_eq(day18_parse_reduce(s3), '[[[[5,0],[7,4]],[5,5]],[6,6]]')\n",
    "check_eq(day18_parse_reduce(s4), '[[[[8,7],[7,7]],[[8,6],[7,7]]],[[[0,7],[6,6]],[8,7]]]')\n",
    "check_eq(day18_parse_reduce(s5), '[[[[6,6],[7,6]],[[7,7],[7,0]]],[[[7,7],[7,7]],[[7,8],[9,9]]]]')\n",
    "\n",
    "check_eq(day18(s5), 4140)\n",
    "puzzle.verify(1, day18)  # ~35 ms with numba; ~600 ms without numba.\n",
    "\n",
    "day18_part2 = functools.partial(day18, part2=True)\n",
    "check_eq(day18_part2(s5), 3993)\n",
    "if using_numba:\n",
    "  puzzle.verify(2, day18_part2)  # ~230 ms with numba; ~9.5 s without numba."
   ]
  },
  {
   "cell_type": "markdown",
   "id": "2abb6188",
   "metadata": {},
   "source": [
    "<a name=\"day19\"></a>\n",
    "## Day 19: Unoriented lapped 3D scans"
   ]
  },
  {
   "cell_type": "markdown",
   "id": "b4f224e8",
   "metadata": {},
   "source": [
    "- Part 1: Assemble the full map of beacons. How many beacons are there?\n",
    "\n",
    "- Part 2: What is the largest Manhattan distance between any two scanners?\n",
    "\n",
    "---\n",
    "\n",
    "This puzzle is challenging.\n",
    "My initial impression was that a brute-force search to align the scans would be too costly.\n",
    "\n",
    "Therefore, I pursued a **signatures-based approach**.  Within each scan, we seek a set of \"signatures\" that (1) are invariant to translations and rotations and (2) can be quickly matched across scans.\n",
    "Specifically, my chosen signatures are the vector differences between all pairs of points within each scan.  To make these vector differences rotation-invariant, we take the absolute difference values in each dimension, and then sort the resulting three numbers.\n",
    "\n",
    "Then, we compute the number of matching signatures between all pairs of scans (essentially forming a graph with weighted edges), and apply a [Union-Find](https://en.wikipedia.org/wiki/Disjoint-set_data_structure) approach to\n",
    "successively merge scans together in order of decreasing edge weights.\n",
    "\n",
    "To merge two scans (presumably with a sufficient number of matching point-pair signatures), we let each matching point-pair vote for a correspondence of its associated vertices (in either direction).\n",
    "All vertices with a sufficient number of correspondence votes are declared as matches.\n",
    "We compute the rotation that satisfies all matches.\n",
    "We transform all of the points from one scan into the coordinate system of the remaining scan (the one declared to be the \"representative\" by the Union-Find algorithm).\n",
    "\n",
    "[Sascha Häberling](https://github.com/shaeberling) demonstrated that a **brute-force** approach is feasible.  I decided to explore this in Python, adding two acceleration techniques: transforming 3D points into 1D indices, and using `np.isin()` to vectorize the point searches.  Even with these accelerations, the brute-force code takes 3500 ms in Python, compared to 120 ms for the signatures-based approach."
   ]
  },
  {
   "cell_type": "code",
   "execution_count": 105,
   "id": "1d28e518",
   "metadata": {
    "execution": {
     "iopub.execute_input": "2023-01-10T23:00:57.406775Z",
     "iopub.status.busy": "2023-01-10T23:00:57.406195Z",
     "iopub.status.idle": "2023-01-10T23:00:57.423527Z",
     "shell.execute_reply": "2023-01-10T23:00:57.422946Z",
     "shell.execute_reply.started": "2023-01-10T23:00:57.406759Z"
    }
   },
   "outputs": [
    {
     "data": {
      "text/markdown": [
       "For [day 19](https://adventofcode.com/2021/day/19), `puzzle.input` has 920 lines:"
      ],
      "text/plain": [
       "<IPython.core.display.Markdown object>"
      ]
     },
     "metadata": {},
     "output_type": "display_data"
    },
    {
     "name": "stdout",
     "output_type": "stream",
     "text": [
      "--- scanner 0 ---\n",
      "-817,-765,856\n",
      "443,-709,-511\n",
      "-658,753,-745\n",
      "378,506,-625\n",
      "557,-593,616\n",
      "-622,-827,819\n",
      "-611,-838,856\n",
      " ...\n",
      "493,604,-898\n",
      "-432,436,684\n",
      "-18,89,12\n",
      "-580,632,-900\n"
     ]
    },
    {
     "data": {
      "text/markdown": [
       "The stored answers are: `{1: '405', 2: '12306'}`"
      ],
      "text/plain": [
       "<IPython.core.display.Markdown object>"
      ]
     },
     "metadata": {},
     "output_type": "display_data"
    }
   ],
   "source": [
    "puzzle = advent.puzzle(day=19)"
   ]
  },
  {
   "cell_type": "code",
   "execution_count": 106,
   "id": "a11c3b4a",
   "metadata": {
    "execution": {
     "iopub.execute_input": "2023-01-10T23:00:57.424455Z",
     "iopub.status.busy": "2023-01-10T23:00:57.424186Z",
     "iopub.status.idle": "2023-01-10T23:00:57.427432Z",
     "shell.execute_reply": "2023-01-10T23:00:57.426974Z",
     "shell.execute_reply.started": "2023-01-10T23:00:57.424441Z"
    },
    "tags": []
   },
   "outputs": [],
   "source": [
    "s1 = \"\"\"\\\n",
    "--- scanner 0 ---\n",
    "404,-588,-901\n",
    "528,-643,409\n",
    "-838,591,734\n",
    "390,-675,-793\n",
    "-537,-823,-458\n",
    "-485,-357,347\n",
    "-345,-311,381\n",
    "-661,-816,-575\n",
    "-876,649,763\n",
    "-618,-824,-621\n",
    "553,345,-567\n",
    "474,580,667\n",
    "-447,-329,318\n",
    "-584,868,-557\n",
    "544,-627,-890\n",
    "564,392,-477\n",
    "455,729,728\n",
    "-892,524,684\n",
    "-689,845,-530\n",
    "423,-701,434\n",
    "7,-33,-71\n",
    "630,319,-379\n",
    "443,580,662\n",
    "-789,900,-551\n",
    "459,-707,401\n",
    "\n",
    "--- scanner 1 ---\n",
    "686,422,578\n",
    "605,423,415\n",
    "515,917,-361\n",
    "-336,658,858\n",
    "95,138,22\n",
    "-476,619,847\n",
    "-340,-569,-846\n",
    "567,-361,727\n",
    "-460,603,-452\n",
    "669,-402,600\n",
    "729,430,532\n",
    "-500,-761,534\n",
    "-322,571,750\n",
    "-466,-666,-811\n",
    "-429,-592,574\n",
    "-355,545,-477\n",
    "703,-491,-529\n",
    "-328,-685,520\n",
    "413,935,-424\n",
    "-391,539,-444\n",
    "586,-435,557\n",
    "-364,-763,-893\n",
    "807,-499,-711\n",
    "755,-354,-619\n",
    "553,889,-390\n",
    "\n",
    "--- scanner 2 ---\n",
    "649,640,665\n",
    "682,-795,504\n",
    "-784,533,-524\n",
    "-644,584,-595\n",
    "-588,-843,648\n",
    "-30,6,44\n",
    "-674,560,763\n",
    "500,723,-460\n",
    "609,671,-379\n",
    "-555,-800,653\n",
    "-675,-892,-343\n",
    "697,-426,-610\n",
    "578,704,681\n",
    "493,664,-388\n",
    "-671,-858,530\n",
    "-667,343,800\n",
    "571,-461,-707\n",
    "-138,-166,112\n",
    "-889,563,-600\n",
    "646,-828,498\n",
    "640,759,510\n",
    "-630,509,768\n",
    "-681,-892,-333\n",
    "673,-379,-804\n",
    "-742,-814,-386\n",
    "577,-820,562\n",
    "\n",
    "--- scanner 3 ---\n",
    "-589,542,597\n",
    "605,-692,669\n",
    "-500,565,-823\n",
    "-660,373,557\n",
    "-458,-679,-417\n",
    "-488,449,543\n",
    "-626,468,-788\n",
    "338,-750,-386\n",
    "528,-832,-391\n",
    "562,-778,733\n",
    "-938,-730,414\n",
    "543,643,-506\n",
    "-524,371,-870\n",
    "407,773,750\n",
    "-104,29,83\n",
    "378,-903,-323\n",
    "-778,-728,485\n",
    "426,699,580\n",
    "-438,-605,-362\n",
    "-469,-447,-387\n",
    "509,732,623\n",
    "647,635,-688\n",
    "-868,-804,481\n",
    "614,-800,639\n",
    "595,780,-596\n",
    "\n",
    "--- scanner 4 ---\n",
    "727,592,562\n",
    "-293,-554,779\n",
    "441,611,-461\n",
    "-714,465,-776\n",
    "-743,427,-804\n",
    "-660,-479,-426\n",
    "832,-632,460\n",
    "927,-485,-438\n",
    "408,393,-506\n",
    "466,436,-512\n",
    "110,16,151\n",
    "-258,-428,682\n",
    "-393,719,612\n",
    "-211,-452,876\n",
    "808,-476,-593\n",
    "-575,615,604\n",
    "-485,667,467\n",
    "-680,325,-822\n",
    "-627,-443,-432\n",
    "872,-547,-609\n",
    "833,512,582\n",
    "807,604,487\n",
    "839,-516,451\n",
    "891,-625,532\n",
    "-652,-548,-490\n",
    "30,-46,-14\n",
    "\"\"\""
   ]
  },
  {
   "cell_type": "code",
   "execution_count": 107,
   "id": "bfa2fbb3",
   "metadata": {
    "execution": {
     "iopub.execute_input": "2023-01-10T23:00:57.428079Z",
     "iopub.status.busy": "2023-01-10T23:00:57.427955Z",
     "iopub.status.idle": "2023-01-10T23:00:57.910573Z",
     "shell.execute_reply": "2023-01-10T23:00:57.910007Z",
     "shell.execute_reply.started": "2023-01-10T23:00:57.428068Z"
    }
   },
   "outputs": [],
   "source": [
    "def day19a(s, *, part2=False):  # Brute-force approach.\n",
    "  # https://github.com/shaeberling/euler/blob/master/kotlin/src/com/s13g/aoc/aoc2021/Day19.kt\n",
    "  scanners = [\n",
    "      {tuple(map(int, line.split(','))) for line in s2.splitlines()[1:]} for s2 in s.split('\\n\\n')\n",
    "  ]\n",
    "  ROTATIONS = tuple(\n",
    "      np.array(rows)\n",
    "      for diag in itertools.product([-1, 1], repeat=3)\n",
    "      for rows in itertools.permutations(np.diag(diag))\n",
    "      if np.linalg.det(rows) > 0\n",
    "  )\n",
    "  rotated_scans = [\n",
    "      [{tuple(rotation @ point) for point in scanner} for rotation in ROTATIONS]\n",
    "      for scanner in scanners\n",
    "  ]\n",
    "  aligned_points = scanners[0]\n",
    "  aligned_scanners = {0}\n",
    "  scanner_positions = []\n",
    "\n",
    "  while len(aligned_scanners) < len(scanners):\n",
    "    for aligned_point in tuple(aligned_points):\n",
    "      for scanner_index in range(len(scanners)):\n",
    "        if scanner_index not in aligned_scanners:\n",
    "          for rotated_scan in rotated_scans[scanner_index]:\n",
    "            for point0 in rotated_scan:\n",
    "              offset = np.array(aligned_point) - point0\n",
    "              o = tuple(offset)\n",
    "              count_matches = sum(  # (Optimized \"point + offset\".)\n",
    "                  (p[0] + o[0], p[1] + o[1], p[2] + o[2]) in aligned_points for p in rotated_scan\n",
    "              )\n",
    "              if count_matches >= 11:\n",
    "                aligned_points.update(tuple(point + offset) for point in rotated_scan)\n",
    "                aligned_scanners.add(scanner_index)\n",
    "                scanner_positions.append(offset)\n",
    "                break\n",
    "\n",
    "  if not part2:\n",
    "    return len(aligned_points)\n",
    "\n",
    "  return max(\n",
    "      abs(point1 - point2).sum() for point1, point2 in itertools.combinations(scanner_positions, 2)\n",
    "  )\n",
    "\n",
    "\n",
    "check_eq(day19a(s1), 79)\n",
    "# puzzle.verify(1, day19a)  # ~35 s.\n",
    "\n",
    "day19a_part2 = functools.partial(day19a, part2=True)\n",
    "check_eq(day19a_part2(s1), 3621)\n",
    "# puzzle.verify(2, day19a_part2)  # ~35 s."
   ]
  },
  {
   "cell_type": "code",
   "execution_count": 108,
   "id": "484325ac",
   "metadata": {
    "execution": {
     "iopub.execute_input": "2023-01-10T23:00:57.911371Z",
     "iopub.status.busy": "2023-01-10T23:00:57.911200Z",
     "iopub.status.idle": "2023-01-10T23:00:57.914611Z",
     "shell.execute_reply": "2023-01-10T23:00:57.914138Z",
     "shell.execute_reply.started": "2023-01-10T23:00:57.911360Z"
    }
   },
   "outputs": [],
   "source": [
    "def day19_encode_3d(point):\n",
    "  \"\"\"Packs three 21-bit signed integers into a 64-bit int.\"\"\"\n",
    "  point = np.asarray(point)\n",
    "  return point[..., 0] * 2**42 + point[..., 1] * 2**21 + point[..., 2]\n",
    "\n",
    "\n",
    "def day19_decode_3d(value):\n",
    "  \"\"\"Extracts three 21-bit signed integers from a 64-bit int.\"\"\"\n",
    "  value2 = np.atleast_1d(value)\n",
    "  x = (value2 + 2**41) // 2**42\n",
    "  value2 -= x * 2**42\n",
    "  y = (value2 + 2**20) // 2**21\n",
    "  z = value2 - y * 2**21\n",
    "  return np.concatenate((x, y, z), axis=-1)"
   ]
  },
  {
   "cell_type": "code",
   "execution_count": 109,
   "id": "af0fee43",
   "metadata": {
    "execution": {
     "iopub.execute_input": "2023-01-10T23:00:57.915890Z",
     "iopub.status.busy": "2023-01-10T23:00:57.915422Z",
     "iopub.status.idle": "2023-01-10T23:00:58.071319Z",
     "shell.execute_reply": "2023-01-10T23:00:58.070710Z",
     "shell.execute_reply.started": "2023-01-10T23:00:57.915873Z"
    }
   },
   "outputs": [],
   "source": [
    "def day19b(s, *, part2=False):  # Brute-force; encode 3D point/vector as integer.\n",
    "  scanners = [\n",
    "      np.array([list(map(int, line.split(','))) for line in s2.splitlines()[1:]])\n",
    "      for s2 in s.split('\\n\\n')\n",
    "  ]\n",
    "  ROTATIONS = tuple(\n",
    "      np.array(rows)\n",
    "      for diag in itertools.product([-1, 1], repeat=3)\n",
    "      for rows in itertools.permutations(np.diag(diag))\n",
    "      if np.linalg.det(rows) > 0\n",
    "  )\n",
    "  rotated_scans = [\n",
    "      [set(day19_encode_3d(np.tensordot(rotation, scanner, (1, 1)).T)) for rotation in ROTATIONS]\n",
    "      for scanner in scanners\n",
    "  ]\n",
    "  aligned_points = rotated_scans[0][0]\n",
    "  aligned_scanners = {0}\n",
    "  scanner_positions = []\n",
    "\n",
    "  while len(aligned_scanners) < len(scanners):\n",
    "    for aligned_point in tuple(aligned_points):\n",
    "      for scanner_index in range(len(scanners)):\n",
    "        if scanner_index not in aligned_scanners:\n",
    "          for rotated_scan in rotated_scans[scanner_index]:\n",
    "            for point0 in rotated_scan:\n",
    "              offset = aligned_point - point0  # (3-vector encoded in an int64)\n",
    "              count_matches = sum(point + offset in aligned_points for point in rotated_scan)\n",
    "              if count_matches >= 11:\n",
    "                aligned_points.update(point + offset for point in rotated_scan)\n",
    "                aligned_scanners.add(scanner_index)\n",
    "                scanner_positions.append(offset)\n",
    "                break\n",
    "\n",
    "  if not part2:\n",
    "    return len(aligned_points)\n",
    "\n",
    "  return max(\n",
    "      np.abs(day19_decode_3d(point1 - point2)).sum()\n",
    "      for point1, point2 in itertools.combinations(scanner_positions, 2)\n",
    "  )\n",
    "\n",
    "\n",
    "check_eq(day19b(s1), 79)\n",
    "# puzzle.verify(1, day19b)  # ~11.5 s\n",
    "\n",
    "day19b_part2 = functools.partial(day19b, part2=True)\n",
    "check_eq(day19b_part2(s1), 3621)\n",
    "# puzzle.verify(2, day19b_part2)  # ~11.6 s"
   ]
  },
  {
   "cell_type": "code",
   "execution_count": 110,
   "id": "c2a051ee",
   "metadata": {
    "execution": {
     "iopub.execute_input": "2023-01-10T23:00:58.072262Z",
     "iopub.status.busy": "2023-01-10T23:00:58.072003Z",
     "iopub.status.idle": "2023-01-10T23:00:58.121666Z",
     "shell.execute_reply": "2023-01-10T23:00:58.121095Z",
     "shell.execute_reply.started": "2023-01-10T23:00:58.072247Z"
    }
   },
   "outputs": [],
   "source": [
    "def day19c(s, *, part2=False):  # Brute-force np.isin() with encoded points.\n",
    "  scanners = [\n",
    "      np.array([list(map(int, line.split(','))) for line in s2.splitlines()[1:]])\n",
    "      for s2 in s.split('\\n\\n')\n",
    "  ]\n",
    "  ROTATIONS = tuple(\n",
    "      np.array(rows)\n",
    "      for diag in itertools.product([-1, 1], repeat=3)\n",
    "      for rows in itertools.permutations(np.diag(diag))\n",
    "      if np.linalg.det(rows) > 0\n",
    "  )\n",
    "  rotated_scans = [\n",
    "      np.sort(\n",
    "          [day19_encode_3d(np.tensordot(rotation, scanner, (1, 1)).T) for rotation in ROTATIONS],\n",
    "          axis=-1,\n",
    "      )\n",
    "      for scanner in scanners\n",
    "  ]\n",
    "  aligned_points = rotated_scans[0][0]\n",
    "  aligned_scanners = {0}\n",
    "  scanner_positions = []\n",
    "\n",
    "  while len(aligned_scanners) < len(scanners):\n",
    "    for aligned_point in tuple(aligned_points):\n",
    "      for scanner_index in range(len(scanners)):\n",
    "        if scanner_index in aligned_scanners:\n",
    "          continue\n",
    "        t = rotated_scans[scanner_index].T  # [point_index][rot_index]\n",
    "        offset_scans = t + (aligned_point - t[:, None])\n",
    "        count_matches = np.isin(offset_scans, aligned_points, assume_unique=True).sum(axis=1)\n",
    "        if count_matches.max() >= 11:\n",
    "          point_index, rotation_index = np.unravel_index(\n",
    "              count_matches.argmax(), count_matches.shape\n",
    "          )\n",
    "          offset_points = offset_scans[point_index, :, rotation_index]\n",
    "          offset = aligned_point - t[point_index][rotation_index]\n",
    "          aligned_points = np.union1d(aligned_points, offset_points)\n",
    "          aligned_scanners.add(scanner_index)\n",
    "          scanner_positions.append(offset)\n",
    "\n",
    "  if not part2:\n",
    "    return len(aligned_points)\n",
    "\n",
    "  return max(\n",
    "      np.abs(day19_decode_3d(point1 - point2)).sum()\n",
    "      for point1, point2 in itertools.combinations(scanner_positions, 2)\n",
    "  )\n",
    "\n",
    "\n",
    "check_eq(day19c(s1), 79)\n",
    "# puzzle.verify(1, day19c)  # ~3.5 s.\n",
    "\n",
    "day19c_part2 = functools.partial(day19c, part2=True)\n",
    "check_eq(day19c_part2(s1), 3621)\n",
    "# puzzle.verify(2, day19c_part2)  # ~3.5 s."
   ]
  },
  {
   "cell_type": "code",
   "execution_count": 111,
   "id": "67fb01b3",
   "metadata": {
    "execution": {
     "iopub.execute_input": "2023-01-10T23:00:58.122763Z",
     "iopub.status.busy": "2023-01-10T23:00:58.122352Z",
     "iopub.status.idle": "2023-01-10T23:00:58.207613Z",
     "shell.execute_reply": "2023-01-10T23:00:58.206891Z",
     "shell.execute_reply.started": "2023-01-10T23:00:58.122747Z"
    }
   },
   "outputs": [
    {
     "name": "stdout",
     "output_type": "stream",
     "text": [
      "(Part 1: 0.032 s)\n",
      "(Part 2: 0.032 s)\n"
     ]
    }
   ],
   "source": [
    "def day19(s, *, part2=False):  # Fast.\n",
    "  scanners = []  # 33 scanners, each seeing 25-27 points.\n",
    "  for i, s2 in enumerate(s.split('\\n\\n')):\n",
    "    lines = s2.splitlines()\n",
    "    array = np.array([list(map(int, line.split(','))) for line in lines[1:]])\n",
    "    scanners.append(array)\n",
    "\n",
    "  scanner_transforms = [{i: np.eye(4, dtype=int)} for i in range(len(scanners))]\n",
    "  scanner_rep = list(range(len(scanners)))\n",
    "  TRANSFORMS = tuple(\n",
    "      np.array(rows)\n",
    "      for diag in itertools.product([-1, 1], repeat=3)\n",
    "      for rows in itertools.permutations(np.diag(diag))\n",
    "      if np.linalg.det(rows) > 0  # 24 rotations instead of 48 rotoreflections.\n",
    "  )\n",
    "\n",
    "  def compute_signatures():\n",
    "    all_signatures = []\n",
    "    for scanner in scanners:\n",
    "      n = len(scanner)  # See https://stackoverflow.com/a/16008578.\n",
    "      comb = more_itertools.flatten(itertools.combinations(range(n), 2))\n",
    "      indices = np.fromiter(comb, int, n * (n - 1))\n",
    "      points = scanner[indices].reshape(-1, 2, 3)\n",
    "      diff = np.sort(abs(points[:, 1] - points[:, 0]), axis=-1)\n",
    "      encoded = day19_encode_3d(diff)\n",
    "      signatures = {value: tuple(i) for value, i in zip(encoded, indices.reshape(-1, 2))}\n",
    "      all_signatures.append(signatures)\n",
    "    return all_signatures\n",
    "\n",
    "  all_signatures = compute_signatures()\n",
    "  all_signature_sets = [set(signature) for signature in all_signatures]\n",
    "  intersection_counts = [\n",
    "      (len(all_signature_sets[i] & all_signature_sets[j]), i, j)\n",
    "      for i, j in itertools.combinations(range(len(scanners)), 2)\n",
    "  ]\n",
    "\n",
    "  for _, i, j in sorted(intersection_counts, reverse=True):\n",
    "    ir, jr = scanner_rep[i], scanner_rep[j]\n",
    "    if ir == jr:\n",
    "      continue  # Already joined.\n",
    "    intersection = all_signature_sets[i] & all_signature_sets[j]\n",
    "\n",
    "    match_count: collections.defaultdict[int, collections.defaultdict[int, int]] = (\n",
    "        collections.defaultdict(lambda: collections.defaultdict(int))\n",
    "    )\n",
    "    for encoding, indices_i in all_signatures[i].items():\n",
    "      if encoding in intersection:\n",
    "        indices_j = all_signatures[j][encoding]\n",
    "        for index_i in indices_i:\n",
    "          for index_j in indices_j:\n",
    "            match_count[index_i][index_j] += 1\n",
    "\n",
    "    index_mapping = {}\n",
    "    for index_i in range(len(scanners[i])):\n",
    "      max_count, index_j = max(\n",
    "          ((count, index) for index, count in match_count[index_i].items()), default=(0, 0)\n",
    "      )\n",
    "      if max_count >= 11:  # Heuristically selected.\n",
    "        index_mapping[index_i] = index_j\n",
    "\n",
    "    def get_transform4():\n",
    "      index_pairs = list(index_mapping.items())\n",
    "      index_i0, index_j0 = index_pairs[0]\n",
    "      for transform in TRANSFORMS:\n",
    "        offset = scanners[i][index_i0] - (transform @ scanners[j][index_j0])\n",
    "        for index_i, index_j in index_pairs[1:]:\n",
    "          transformed = (transform @ scanners[j][index_j]) + offset\n",
    "          if np.any(transformed != scanners[i][index_i]):\n",
    "            break\n",
    "        else:\n",
    "          return np.vstack((np.hstack((transform, offset[:, None])), [[0, 0, 0, 1]]))\n",
    "\n",
    "    transform4 = get_transform4()  # To i from j.  (We want ir from jr.)\n",
    "    transform4 = (\n",
    "        scanner_transforms[ir][i]\n",
    "        @ transform4\n",
    "        @ np.linalg.inv(scanner_transforms[jr][j].astype(np.float32)).astype(int)\n",
    "    )\n",
    "\n",
    "    points_ir = {tuple(point) for point in scanners[ir]}\n",
    "    new_points = []\n",
    "    for point in scanners[jr]:\n",
    "      transformed = (transform4 @ [*point, 1])[:3]\n",
    "      if tuple(transformed) not in points_ir:\n",
    "        new_points.append(transformed)\n",
    "    scanners[ir] = np.concatenate((scanners[ir], np.array(new_points)), axis=0)\n",
    "\n",
    "    for j2, transform2 in scanner_transforms[jr].items():\n",
    "      scanner_transforms[ir][j2] = transform4 @ transform2\n",
    "      scanner_rep[j2] = ir\n",
    "    scanner_rep[jr] = ir\n",
    "    last_merged = ir\n",
    "\n",
    "  if not part2:\n",
    "    return len(scanners[last_merged])\n",
    "\n",
    "  final_transforms = scanner_transforms[last_merged].values()\n",
    "  return max(\n",
    "      abs(t1[:3, 3] - t2[:3, 3]).sum() for t1, t2 in itertools.combinations(final_transforms, 2)\n",
    "  )\n",
    "\n",
    "\n",
    "check_eq(day19(s1), 79)\n",
    "puzzle.verify(1, day19)  # ~120 ms.\n",
    "\n",
    "day19_part2 = functools.partial(day19, part2=True)\n",
    "check_eq(day19_part2(s1), 3621)\n",
    "puzzle.verify(2, day19_part2)  # ~120 ms."
   ]
  },
  {
   "cell_type": "markdown",
   "id": "2eda117c",
   "metadata": {},
   "source": [
    "<a name=\"day20\"></a>\n",
    "## Day 20: Flipping cellular automaton"
   ]
  },
  {
   "cell_type": "markdown",
   "id": "ab56ce96",
   "metadata": {},
   "source": [
    "- Part 1: How many pixels are lit in the resulting image?\n",
    "\n",
    "- Part 2: Apply the image enhancement algorithm 50 times. How many pixels are lit in the resulting image?\n",
    "\n",
    "---\n",
    "\n",
    "This puzzle is related to a cellular automaton simulation in 2D, like [Conway's Game of Life](https://en.wikipedia.org/wiki/Conway%27s_Game_of_Life), with two peculiarities:\n",
    "\n",
    "1. The rule for updating each cell is not based on a simple count of its active neighbors, but rather a table lookup involving the state of the full $3\\times 3$ neighborhood (i.e., a table of $2^9=512$ boolean entries).\n",
    "\n",
    "2. If the first entry of this binary lookup table is `True` (and also the last entry of the table is `False`), most cells in the *infinite* plane iteratively flip between True and False.  Consequently, the number of active cells is unbounded after any odd number of \"cycles\".\n",
    "\n",
    "My approach uses a `numpy` 2D array.  I first implement a naive version using two nested `for` loops.  Later, I create a faster, vectorized version, which uses `np.roll()` to gather cell neighbors.\n",
    "\n",
    "To allow the creation of new cells beyond the current domain boundary, the domain is padded with an extra row/column of cells in all directions before each cycle update.\n",
    "And, to properly gather neighborhoods at the edges of the domain, the padding is increased to two cells.\n",
    "Also, the outermost layer of (invalidly computed) cells is removed after the update.\n",
    "So, in all, the domain grows by just one cell per cycle in each direction, which is optimal.\n",
    "\n",
    "To deal with the \"infinite flipping\" issue (i.e., when the first entry of the lookup table is `True`), the newly introduced padded cells are set to the state of the infinite plane, i.e. `cycle_index % 2`.\n",
    "\n",
    "The vectorized `numpy` inner loop is remarkably compact:\n",
    "\n",
    "```python\n",
    "for cycle in range(50 if part2 else 2):\n",
    "  outside_value = 0 if not lookup[0] else cycle % 2\n",
    "  grid = np.pad(grid, 2, constant_values=outside_value)\n",
    "  dyxs = itertools.product([-1, 0, 1], repeat=2)\n",
    "  neighb = [np.roll(grid, dyx, (0, 1))[1:-1, 1:-1] for dyx in dyxs]\n",
    "  grid = lookup[np.tensordot(neighb, 2**np.arange(9), (0, 0))]\n",
    "```"
   ]
  },
  {
   "cell_type": "code",
   "execution_count": 112,
   "id": "5830f08a",
   "metadata": {
    "execution": {
     "iopub.execute_input": "2023-01-10T23:00:58.208710Z",
     "iopub.status.busy": "2023-01-10T23:00:58.208301Z",
     "iopub.status.idle": "2023-01-10T23:00:58.224143Z",
     "shell.execute_reply": "2023-01-10T23:00:58.223690Z",
     "shell.execute_reply.started": "2023-01-10T23:00:58.208696Z"
    }
   },
   "outputs": [
    {
     "data": {
      "text/markdown": [
       "For [day 20](https://adventofcode.com/2021/day/20), `puzzle.input` has 102 lines:"
      ],
      "text/plain": [
       "<IPython.core.display.Markdown object>"
      ]
     },
     "metadata": {},
     "output_type": "display_data"
    },
    {
     "name": "stdout",
     "output_type": "stream",
     "text": [
      "##.......#.####..#..#...##.##...#.####.#.##.######...###...#..#####...###...##.# ... #......##.#...#.#.##..##.##..###...\n",
      "\n",
      "##.##.#.#####..###.######.#.######..##...#.#.##....#..#...#...##.##.#######...###...#..#.##..#.##.##\n",
      ".###..####..#..#....##..#.#.#.####.##.#.#####.####.#.....#.##.#####.#.....#...##.#.###.......#.#####\n",
      "..###.#..##.....#.###.#.##..##...##.##..##.###.##.#..#..#....###.##..#...#.#.##...###..##.......####\n",
      ".##...#.###...##..#.##..##....#.#.#####.#.#.###..##...#.##.#.....#..#.........#.#.##.#...##.#....###\n",
      "##..##..#..#.####.#...##....#.......#...#.#.#..##..#.###..#.#.####.#..##..###...####..###...#.....#.\n",
      "...#..#....##.#..#.#..#...###..#...#.##.##...#...####.#.#.#.###.##.###.####..##.##....#..#.###....##\n",
      " ...\n",
      ".###.#.#####.#....#..######.####.###..##..###...##...####..#.....##.##.#.....#..###.####.....#.##.##\n",
      ".#....##.#..##.....###....##.#.#####...#..#..###..#......#.#....#...#.#.#....###...#..####..#.#...#.\n",
      "#....#..##..##..#.###..#..#.#.....#.#.##.#####..#.#.##...##..##..#.##.##.#..#...#.##.#...#.#.#....##\n",
      "#.#...#.###..##.##.#########......#.##..###.###...##...#..##...#.#...#..###.#######.#####..#.##.#.#.\n"
     ]
    },
    {
     "data": {
      "text/markdown": [
       "The stored answers are: `{1: '5339', 2: '18395'}`"
      ],
      "text/plain": [
       "<IPython.core.display.Markdown object>"
      ]
     },
     "metadata": {},
     "output_type": "display_data"
    }
   ],
   "source": [
    "puzzle = advent.puzzle(day=20)"
   ]
  },
  {
   "cell_type": "code",
   "execution_count": 113,
   "id": "f2ab7f2f",
   "metadata": {
    "execution": {
     "iopub.execute_input": "2023-01-10T23:00:58.225180Z",
     "iopub.status.busy": "2023-01-10T23:00:58.224799Z",
     "iopub.status.idle": "2023-01-10T23:00:58.227644Z",
     "shell.execute_reply": "2023-01-10T23:00:58.227194Z",
     "shell.execute_reply.started": "2023-01-10T23:00:58.225167Z"
    }
   },
   "outputs": [],
   "source": [
    "s1 = \"\"\"\\\n",
    "..#.#..#####.#.#.#.###.##.....###.##.#..###.####..#####..#....#..#..##..###..######.###...####..#..#####..##..#.#####...##.#.#..#.##..#.#......#.###.######.###.####...#.##.##..#..#..#####.....#.#....###..#.##......#.....#..#..#..##..#...##.######.####.####.#.#...#.......#..#.#.#...####.##.#......#..#...##.#.##..#...##.#.##..###.#......#.#.......#.#.#.####.###.##...#.....####.#..#..#.##.#....##..#.####....##...##..#...#......#.#.......#.......##..####..#...#.#.#...##..#.#..###..#####........#..####......#..#\n",
    "\n",
    "#..#.\n",
    "#....\n",
    "##..#\n",
    "..#..\n",
    "..###\n",
    "\"\"\""
   ]
  },
  {
   "cell_type": "code",
   "execution_count": 114,
   "id": "c92206cd",
   "metadata": {
    "execution": {
     "iopub.execute_input": "2023-01-10T23:00:58.228339Z",
     "iopub.status.busy": "2023-01-10T23:00:58.228192Z",
     "iopub.status.idle": "2023-01-10T23:00:58.854253Z",
     "shell.execute_reply": "2023-01-10T23:00:58.853659Z",
     "shell.execute_reply.started": "2023-01-10T23:00:58.228327Z"
    }
   },
   "outputs": [
    {
     "name": "stdout",
     "output_type": "stream",
     "text": [
      "(Part 1: 0.061 s)\n"
     ]
    }
   ],
   "source": [
    "def day20a(s, *, part2=False):  # Slow.\n",
    "  lines = s.splitlines()\n",
    "  table = np.array(list(lines[0])) == '#'\n",
    "  grid = np.array([[c == '#' for c in line] for line in lines[2:]])\n",
    "  num_cycles = 50 if part2 else 2\n",
    "\n",
    "  for cycle_index in range(num_cycles):\n",
    "    cval = 0 if not table[0] else cycle_index % 2\n",
    "    grid = np.pad(grid, 2, constant_values=cval)\n",
    "    new_grid = np.full_like(grid, False)\n",
    "    for y in range(1, grid.shape[0] - 1):\n",
    "      for x in range(1, grid.shape[1] - 1):\n",
    "        neighb = [grid[y + dy, x + dx] for dy in (-1, 0, 1) for dx in (-1, 0, 1)]\n",
    "        index = int(''.join(str(int(value)) for value in neighb), 2)\n",
    "        new_grid[y, x] = table[index]\n",
    "    grid = new_grid[1:-1, 1:-1]\n",
    "\n",
    "  if 0:\n",
    "    with np.printoptions(linewidth=1000, threshold=sys.maxsize):\n",
    "      print(grid.astype(int))\n",
    "\n",
    "  return np.count_nonzero(grid)\n",
    "\n",
    "\n",
    "check_eq(day20a(s1), 35)\n",
    "puzzle.verify(1, day20a)  # ~165 ms.\n",
    "\n",
    "day20a_part2 = functools.partial(day20a, part2=True)\n",
    "check_eq(day20a_part2(s1), 3351)\n",
    "# puzzle.verify(2, day20a_part2)  # Slow; ~10 s."
   ]
  },
  {
   "cell_type": "code",
   "execution_count": 115,
   "id": "e977e4a2",
   "metadata": {
    "execution": {
     "iopub.execute_input": "2023-01-10T23:00:58.855417Z",
     "iopub.status.busy": "2023-01-10T23:00:58.855008Z",
     "iopub.status.idle": "2023-01-10T23:00:58.892715Z",
     "shell.execute_reply": "2023-01-10T23:00:58.892181Z",
     "shell.execute_reply.started": "2023-01-10T23:00:58.855405Z"
    }
   },
   "outputs": [
    {
     "name": "stdout",
     "output_type": "stream",
     "text": [
      "(Part 1: 0.002 s)\n",
      "(Part 2: 0.019 s)\n"
     ]
    }
   ],
   "source": [
    "def day20b(s, *, part2=False):  # Most compact and fast.\n",
    "  lines = s.splitlines()\n",
    "  lookup = np.array(list(lines[0])) == '#'\n",
    "  grid = np.array([list(line) for line in lines[2:]]) == '#'\n",
    "\n",
    "  for cycle in range(50 if part2 else 2):\n",
    "    outside_value = 0 if not lookup[0] else cycle % 2\n",
    "    grid = np.pad(grid, 2, constant_values=outside_value)\n",
    "    dyxs = itertools.product([-1, 0, 1], repeat=2)\n",
    "    neighbors = [np.roll(grid, dyx, (0, 1))[1:-1, 1:-1] for dyx in dyxs]\n",
    "    grid = lookup[np.tensordot(neighbors, 2 ** np.arange(9), (0, 0))]\n",
    "\n",
    "  return grid.sum()\n",
    "\n",
    "\n",
    "check_eq(day20b(s1), 35)\n",
    "puzzle.verify(1, day20b)  # ~3 ms.\n",
    "\n",
    "day20b_part2 = functools.partial(day20b, part2=True)\n",
    "check_eq(day20b_part2(s1), 3351)\n",
    "puzzle.verify(2, day20b_part2)  # ~66 ms."
   ]
  },
  {
   "cell_type": "code",
   "execution_count": 116,
   "id": "03c9cd1f",
   "metadata": {
    "execution": {
     "iopub.execute_input": "2023-01-10T23:00:58.893890Z",
     "iopub.status.busy": "2023-01-10T23:00:58.893463Z",
     "iopub.status.idle": "2023-01-10T23:00:58.929703Z",
     "shell.execute_reply": "2023-01-10T23:00:58.929168Z",
     "shell.execute_reply.started": "2023-01-10T23:00:58.893876Z"
    }
   },
   "outputs": [
    {
     "name": "stdout",
     "output_type": "stream",
     "text": [
      "(Part 1: 0.002 s)\n",
      "(Part 2: 0.019 s)\n"
     ]
    }
   ],
   "source": [
    "def day20(s, *, part2=False, visualize=False):  # Same with visualization.\n",
    "  lines = s.splitlines()\n",
    "  lookup = np.array(list(lines[0])) == '#'\n",
    "  grid = np.array([list(line) for line in lines[2:]]) == '#'\n",
    "  num_cycles = 50 if part2 else 2\n",
    "  # If all-empty neighborhoods flip to True in odd generation, check that\n",
    "  # all-full neighborhoods flip back to False in even generations.\n",
    "  assert not lookup[0] or not lookup[-1]\n",
    "  images = []\n",
    "\n",
    "  for cycle in range(num_cycles):\n",
    "    outside_value = 0 if not lookup[0] else cycle % 2\n",
    "    grid = np.pad(grid, 2, constant_values=outside_value)\n",
    "    dyxs = itertools.product([-1, 0, 1], repeat=2)\n",
    "    neighbors = [np.roll(grid, dyx, (0, 1))[1:-1, 1:-1] for dyx in dyxs]\n",
    "    grid = lookup[np.moveaxis(np.array(neighbors), 0, -1).dot(2 ** np.arange(9))]\n",
    "    if visualize and cycle % 2 == 0:\n",
    "      images.append(np.pad(grid, num_cycles - cycle, constant_values=not outside_value))\n",
    "\n",
    "  if visualize:\n",
    "    images = [images[0]] * 5 + images + [images[-1]] * 5\n",
    "    media.show_video(images, codec='gif', fps=5)\n",
    "  return np.count_nonzero(grid)\n",
    "\n",
    "\n",
    "check_eq(day20(s1), 35)\n",
    "puzzle.verify(1, day20)  # ~3 ms.\n",
    "\n",
    "day20_part2 = functools.partial(day20, part2=True)\n",
    "check_eq(day20_part2(s1), 3351)\n",
    "puzzle.verify(2, day20_part2)  # ~66 ms."
   ]
  },
  {
   "cell_type": "code",
   "execution_count": 117,
   "id": "18018208",
   "metadata": {
    "execution": {
     "iopub.execute_input": "2023-01-10T23:00:58.930761Z",
     "iopub.status.busy": "2023-01-10T23:00:58.930370Z",
     "iopub.status.idle": "2023-01-10T23:00:59.023522Z",
     "shell.execute_reply": "2023-01-10T23:00:59.022953Z",
     "shell.execute_reply.started": "2023-01-10T23:00:58.930747Z"
    }
   },
   "outputs": [
    {
     "data": {
      "text/html": [
       "<table class=\"show_videos\" style=\"border-spacing:0px;\"><tr><td style=\"padding:1px;\"><img width=\"202\" height=\"202\" style=\"image-rendering:auto; object-fit:cover;\" src=\"data:image/gif;base64,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\"/></td></tr></table>"
      ],
      "text/plain": [
       "<IPython.core.display.HTML object>"
      ]
     },
     "metadata": {},
     "output_type": "display_data"
    }
   ],
   "source": [
    "_ = day20_part2(puzzle.input, visualize=True)"
   ]
  },
  {
   "cell_type": "markdown",
   "id": "76588743",
   "metadata": {},
   "source": [
    "This visualization shows only the even-numbered frames (using `[::2]`) because the resulting video is much more pleasant to watch."
   ]
  },
  {
   "cell_type": "markdown",
   "id": "6816548c",
   "metadata": {},
   "source": [
    "<a name=\"day21\"></a>\n",
    "## Day 21: Quantum die game"
   ]
  },
  {
   "cell_type": "markdown",
   "id": "ed11d961",
   "metadata": {},
   "source": [
    "- Part 1: With the deterministic 100-sided die, when either player reaches a score of 1000, what do you get if you multiply the score of the losing player by the number of times the die was rolled during the game?\n",
    "\n",
    "- Part 2: With a quantum 3-sided dice and a win score of 21, find the player that wins in more universes; in how many universes does that player win?\n",
    "\n",
    "---\n",
    "\n",
    "Part 1 is straightforward.\n",
    "\n",
    "For Part 2, I explored two different approaches:\n",
    "\n",
    "1. Exhaustive **depth-first search**, accelerated by caching of computed values using `functools.lru_cache()`.\n",
    "\n",
    "2. **Dynamic programming** over a 4D grid, where the axes are [`pos0`, `pos1`, `score0`, `score1`].\n",
    "\n",
    "In either case, there are two players (`player0` and `player1`) and the search assumes that `player0` plays next.\n",
    "The recursive call in approach 1 (or the 4D lookups in approach 2) then reverse the roles of `player0` and `player1` for the next turn by swapping `pos0` and `pos1` and swapping `score0` and `score1`.\n",
    "\n",
    "For approach 2, one tricky part is ordering the dynamic-programming sweep through the 4D grid to ensure that all lookups are made to 4D cells that have already been computed.  This is addressed by sweeping the grid along a diagonal, in decreasing order of *total score* (`score0 + score1`).\n",
    "\n",
    "I am able to achieve some vectorization using `numpy`.  However, the irregular array accesses based on `new_score0` look like an obstacle to efficiency.\n",
    "\n",
    "In all cases, one small optimization is to precompute a `die_sum_distribution`\n",
    "containing the counts of the sums of 3 die (rather than having 3 nested for loops that sum individual dice.).\n",
    "\n",
    "In the end, the fastest solution is to apply `numba` to a non-vectorized version of approach 2 --- yielding an answer in just 20 ms."
   ]
  },
  {
   "cell_type": "code",
   "execution_count": 13,
   "id": "969b943c",
   "metadata": {
    "execution": {
     "iopub.execute_input": "2023-01-11T00:31:52.270716Z",
     "iopub.status.busy": "2023-01-11T00:31:52.270311Z",
     "iopub.status.idle": "2023-01-11T00:31:52.285569Z",
     "shell.execute_reply": "2023-01-11T00:31:52.285013Z",
     "shell.execute_reply.started": "2023-01-11T00:31:52.270700Z"
    },
    "tags": []
   },
   "outputs": [
    {
     "data": {
      "text/markdown": [
       "For [day 21](https://adventofcode.com/2021/day/21), `puzzle.input` has 2 lines:"
      ],
      "text/plain": [
       "<IPython.core.display.Markdown object>"
      ]
     },
     "metadata": {},
     "output_type": "display_data"
    },
    {
     "name": "stdout",
     "output_type": "stream",
     "text": [
      "Player 1 starting position: 1\n",
      "Player 2 starting position: 3\n"
     ]
    },
    {
     "data": {
      "text/markdown": [
       "The stored answers are: `{1: '897798', 2: '48868319769358'}`"
      ],
      "text/plain": [
       "<IPython.core.display.Markdown object>"
      ]
     },
     "metadata": {},
     "output_type": "display_data"
    }
   ],
   "source": [
    "puzzle = advent.puzzle(day=21)"
   ]
  },
  {
   "cell_type": "code",
   "execution_count": 14,
   "id": "7da5ef55",
   "metadata": {
    "execution": {
     "iopub.execute_input": "2023-01-11T00:31:52.468192Z",
     "iopub.status.busy": "2023-01-11T00:31:52.467676Z",
     "iopub.status.idle": "2023-01-11T00:31:52.470873Z",
     "shell.execute_reply": "2023-01-11T00:31:52.470325Z",
     "shell.execute_reply.started": "2023-01-11T00:31:52.468175Z"
    },
    "tags": []
   },
   "outputs": [],
   "source": [
    "s1 = \"\"\"\\\n",
    "Player 1 starting position: 4\n",
    "Player 2 starting position: 8\n",
    "\"\"\""
   ]
  },
  {
   "cell_type": "code",
   "execution_count": 15,
   "id": "8926f3c0",
   "metadata": {
    "execution": {
     "iopub.execute_input": "2023-01-11T00:31:53.015100Z",
     "iopub.status.busy": "2023-01-11T00:31:53.014809Z",
     "iopub.status.idle": "2023-01-11T00:31:53.020593Z",
     "shell.execute_reply": "2023-01-11T00:31:53.019838Z",
     "shell.execute_reply.started": "2023-01-11T00:31:53.015085Z"
    },
    "tags": []
   },
   "outputs": [
    {
     "name": "stdout",
     "output_type": "stream",
     "text": [
      "(Part 1: 0.000 s)\n"
     ]
    }
   ],
   "source": [
    "def day21_part1(s):\n",
    "  lines = s.splitlines()\n",
    "  pos = [int(lines[0][27:]), int(lines[1][27:])]\n",
    "  dice = itertools.cycle(range(1, 101))\n",
    "  score = [0, 0]\n",
    "  num_rolls = 0\n",
    "\n",
    "  while True:\n",
    "    for player in range(2):\n",
    "      total = sum([next(dice), next(dice), next(dice)])\n",
    "      num_rolls += 3\n",
    "      pos[player] = (pos[player] - 1 + total) % 10 + 1\n",
    "      score[player] += pos[player]\n",
    "      if score[player] >= 1000:\n",
    "        return num_rolls * score[1 - player]\n",
    "\n",
    "\n",
    "check_eq(day21_part1(s1), 739785)\n",
    "puzzle.verify(1, day21_part1)  # ~0 ms."
   ]
  },
  {
   "cell_type": "code",
   "execution_count": 16,
   "id": "3725ae48",
   "metadata": {
    "execution": {
     "iopub.execute_input": "2023-01-11T00:31:53.543078Z",
     "iopub.status.busy": "2023-01-11T00:31:53.542700Z",
     "iopub.status.idle": "2023-01-11T00:31:53.696032Z",
     "shell.execute_reply": "2023-01-11T00:31:53.695436Z",
     "shell.execute_reply.started": "2023-01-11T00:31:53.543062Z"
    },
    "tags": []
   },
   "outputs": [
    {
     "name": "stdout",
     "output_type": "stream",
     "text": [
      "(Part 2: 0.065 s)\n"
     ]
    }
   ],
   "source": [
    "def day21a_part2(s):  # Simple 3 \"for\" loops and caching.\n",
    "  lines = s.splitlines()\n",
    "  pos = [int(lines[0][27:]), int(lines[1][27:])]\n",
    "\n",
    "  @functools.lru_cache(maxsize=None)\n",
    "  def compute(pos0, pos1, score0, score1):\n",
    "    wins0 = wins1 = 0\n",
    "    for roll0a in range(1, 4):\n",
    "      for roll0b in range(1, 4):\n",
    "        for roll0c in range(1, 4):\n",
    "          new_pos0 = (pos0 + roll0a + roll0b + roll0c) % 10\n",
    "          new_score0 = score0 + (new_pos0 + 1)\n",
    "          if new_score0 >= 21:\n",
    "            wins0 += 1\n",
    "          else:\n",
    "            d_wins1, d_wins0 = compute(pos1, new_pos0, score1, new_score0)\n",
    "            wins0 += d_wins0\n",
    "            wins1 += d_wins1\n",
    "    return wins0, wins1\n",
    "\n",
    "  wins0, wins1 = compute(pos[0] - 1, pos[1] - 1, 0, 0)\n",
    "  return max(wins0, wins1)\n",
    "\n",
    "\n",
    "check_eq(day21a_part2(s1), 444356092776315)\n",
    "puzzle.verify(2, day21a_part2)  # ~240 ms."
   ]
  },
  {
   "cell_type": "code",
   "execution_count": 17,
   "id": "77d0f2c3",
   "metadata": {
    "execution": {
     "iopub.execute_input": "2023-01-11T00:31:53.806030Z",
     "iopub.status.busy": "2023-01-11T00:31:53.805599Z",
     "iopub.status.idle": "2023-01-11T00:31:54.614169Z",
     "shell.execute_reply": "2023-01-11T00:31:54.613601Z",
     "shell.execute_reply.started": "2023-01-11T00:31:53.806014Z"
    },
    "tags": []
   },
   "outputs": [
    {
     "name": "stdout",
     "output_type": "stream",
     "text": [
      "(Part 2: 0.403 s)\n"
     ]
    }
   ],
   "source": [
    "def day21b_part2(s):  # Avoiding functools.lru_cache().\n",
    "  lines = s.splitlines()\n",
    "  pos = [int(lines[0][27:]), int(lines[1][27:])]\n",
    "  die_sum_distribution = collections.Counter(\n",
    "      sum(die) for die in itertools.product([1, 2, 3], repeat=3)\n",
    "  )\n",
    "  wins = np.zeros((21, 21, 10, 10, 2), np.int64)\n",
    "\n",
    "  for total_score in range(40, -1, -1):\n",
    "    for score0 in range(min(20, total_score), max(total_score - 21, -1), -1):\n",
    "      score1 = total_score - score0\n",
    "      for total, count in die_sum_distribution.items():\n",
    "        for pos0 in range(10):\n",
    "          for pos1 in range(10):\n",
    "            new_pos0 = (pos0 + total) % 10\n",
    "            new_score0 = score0 + (new_pos0 + 1)\n",
    "            if new_score0 >= 21:\n",
    "              wins[score0, score1, pos0, pos1, 0] += count\n",
    "            else:\n",
    "              wins[score0, score1, pos0, pos1, :] += (\n",
    "                  count * wins[score1, new_score0, pos1, new_pos0, ::-1]\n",
    "              )\n",
    "\n",
    "  return wins[0, 0, pos[0] - 1, pos[1] - 1, :].max()\n",
    "\n",
    "\n",
    "check_eq(day21b_part2(s1), 444356092776315)\n",
    "puzzle.verify(2, day21b_part2)  # ~850 ms."
   ]
  },
  {
   "cell_type": "code",
   "execution_count": 18,
   "id": "90d1eca1",
   "metadata": {
    "execution": {
     "iopub.execute_input": "2023-01-11T00:31:54.615350Z",
     "iopub.status.busy": "2023-01-11T00:31:54.615083Z",
     "iopub.status.idle": "2023-01-11T00:31:54.756259Z",
     "shell.execute_reply": "2023-01-11T00:31:54.755637Z",
     "shell.execute_reply.started": "2023-01-11T00:31:54.615333Z"
    },
    "tags": []
   },
   "outputs": [
    {
     "name": "stdout",
     "output_type": "stream",
     "text": [
      "(Part 2: 0.066 s)\n"
     ]
    }
   ],
   "source": [
    "def day21c_part2(s):  # Numpy, vectorized on pos1.\n",
    "  lines = s.splitlines()\n",
    "  pos = [int(lines[0][27:]), int(lines[1][27:])]\n",
    "  die_sum_distribution = tuple(\n",
    "      collections.Counter(sum(die) for die in itertools.product([1, 2, 3], repeat=3)).items()\n",
    "  )\n",
    "  # Count of wins for [score0, score1, pos0, pos1, player]\n",
    "  wins = np.zeros((21, 21, 10, 10, 2), np.int64)\n",
    "\n",
    "  for total_score in range(40, -1, -1):\n",
    "    for score0 in range(min(20, total_score), max(total_score - 21, -1), -1):\n",
    "      score1 = total_score - score0\n",
    "      for total, count in die_sum_distribution:\n",
    "        for pos0 in range(10):\n",
    "          new_pos0 = (pos0 + total) % 10\n",
    "          new_score0 = score0 + (new_pos0 + 1)\n",
    "          if new_score0 >= 21:\n",
    "            wins[score0, score1, pos0, :, 0] += count\n",
    "          else:\n",
    "            wins[score0, score1, pos0, :, :] += count * wins[score1, new_score0, :, new_pos0, ::-1]\n",
    "\n",
    "  return wins[0, 0, pos[0] - 1, pos[1] - 1].max()\n",
    "\n",
    "\n",
    "check_eq(day21c_part2(s1), 444356092776315)\n",
    "puzzle.verify(2, day21c_part2)  # ~130 ms."
   ]
  },
  {
   "cell_type": "code",
   "execution_count": 20,
   "id": "a112cc63-f5d1-4a49-b4c7-9c11b8555508",
   "metadata": {
    "execution": {
     "iopub.execute_input": "2023-01-11T00:31:56.359415Z",
     "iopub.status.busy": "2023-01-11T00:31:56.359072Z",
     "iopub.status.idle": "2023-01-11T00:31:56.511639Z",
     "shell.execute_reply": "2023-01-11T00:31:56.510822Z",
     "shell.execute_reply.started": "2023-01-11T00:31:56.359400Z"
    },
    "tags": []
   },
   "outputs": [
    {
     "name": "stdout",
     "output_type": "stream",
     "text": [
      "(Part 2: 0.017 s)\n"
     ]
    },
    {
     "data": {
      "text/html": [
       "Start positions for max probability of player 1 win: [1 5] = 0.716"
      ],
      "text/plain": [
       "<IPython.core.display.HTML object>"
      ]
     },
     "metadata": {},
     "output_type": "display_data"
    },
    {
     "data": {
      "text/html": [
       "Start positions for min probability of player 1 win: [5 1] = 0.462"
      ],
      "text/plain": [
       "<IPython.core.display.HTML object>"
      ]
     },
     "metadata": {},
     "output_type": "display_data"
    },
    {
     "data": {
      "text/html": [
       "Player 1 win probability at [1 1]: 0.595"
      ],
      "text/plain": [
       "<IPython.core.display.HTML object>"
      ]
     },
     "metadata": {},
     "output_type": "display_data"
    },
    {
     "data": {
      "text/html": [
       "<table class=\"show_images\" style=\"border-spacing:0px;\"><tr><td style=\"padding:1px;\"><img width=\"376\" height=\"332\" style=\"border:1px solid black; image-rendering:auto; object-fit:cover;\" src=\"data:image/png;base64,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\"/></td></tr></table>"
      ],
      "text/plain": [
       "<IPython.core.display.HTML object>"
      ]
     },
     "metadata": {},
     "output_type": "display_data"
    }
   ],
   "source": [
    "def day21d_part2(s, *, win_score=21, visualize=False):  # Most compact.\n",
    "  lines = s.splitlines()\n",
    "  pos0, pos1 = int(lines[0][27:]) - 1, int(lines[1][27:]) - 1\n",
    "  die_sum_distribution = tuple(\n",
    "      collections.Counter(sum(die) for die in itertools.product([1, 2, 3], repeat=3)).items()\n",
    "  )\n",
    "\n",
    "  @functools.lru_cache(maxsize=None)\n",
    "  def compute(pos0, pos1, score0, score1):\n",
    "    wins0 = wins1 = 0\n",
    "    for total, count in die_sum_distribution:\n",
    "      new_pos0 = (pos0 + total) % 10\n",
    "      new_score0 = score0 + (new_pos0 + 1)\n",
    "      if new_score0 >= win_score:\n",
    "        wins0 += count\n",
    "      else:\n",
    "        d_wins1, d_wins0 = compute(pos1, new_pos0, score1, new_score0)\n",
    "        wins0 += d_wins0 * count\n",
    "        wins1 += d_wins1 * count\n",
    "    return wins0, wins1\n",
    "\n",
    "  if visualize:\n",
    "    win0 = np.array(\n",
    "        [\n",
    "            [\n",
    "                wins0 / (wins0 + wins1)\n",
    "                for pos1 in range(10)\n",
    "                for wins0, wins1 in [compute(pos0, pos1, 0, 0)]\n",
    "            ]\n",
    "            for pos0 in range(10)\n",
    "        ]\n",
    "    )\n",
    "    hh.display_html(\n",
    "        f'Start positions for max probability of player 1 win:'\n",
    "        f' {np.argwhere(win0 == win0.max())[0] + 1} = {win0.max():.3f}'\n",
    "    )\n",
    "    hh.display_html(\n",
    "        f'Start positions for min probability of player 1 win:'\n",
    "        f' {np.argwhere(win0 == win0.min())[0] + 1} = {win0.min():.3f}'\n",
    "    )\n",
    "    hh.display_html(f'Player 1 win probability at [1 1]: {win0[0, 0]:.3f}')\n",
    "    fig, ax = plt.subplots(figsize=(4, 4), dpi=100)\n",
    "    pos = ax.imshow(\n",
    "        win0, vmin=0.3, vmax=0.7, cmap='jet', origin='lower', extent=(0.5, 10.5, 0.5, 10.5)\n",
    "    )\n",
    "    ax.set(\n",
    "        title='Probability that player 1 wins',\n",
    "        xlabel='Starting position for player 1',\n",
    "        ylabel='Starting position for player 2',\n",
    "        xticks=np.arange(1, 11),\n",
    "        yticks=np.arange(1, 11),\n",
    "    )\n",
    "    fig.colorbar(pos, ax=ax)\n",
    "    # fig.tight_layout(pad=0)  # It does not properly handle the colorbar.\n",
    "    image = hh.bounding_crop(hh.image_from_plt(fig), (255, 255, 255), margin=5)\n",
    "    plt.close(fig)\n",
    "    return image\n",
    "\n",
    "  return max(*compute(pos0, pos1, 0, 0))\n",
    "\n",
    "\n",
    "check_eq(day21d_part2(s1), 444356092776315)\n",
    "puzzle.verify(2, day21d_part2)  # ~50 ms.\n",
    "\n",
    "# The conclusion is that starting first is a big advantage, but there are some\n",
    "# start locations where player 2 still has an advantage.\n",
    "media.show_image(day21d_part2(puzzle.input, visualize=True), border=True)\n",
    "\n",
    "# If the winning score is increased from 21 to 100, there is still a 5% edge\n",
    "# in starting first with the best position.\n",
    "# media.show_image(day21d_part2(puzzle.input, win_score=100, visualize=True))"
   ]
  },
  {
   "cell_type": "code",
   "execution_count": 20,
   "id": "7a90e36f",
   "metadata": {
    "execution": {
     "iopub.execute_input": "2023-01-10T23:06:11.248137Z",
     "iopub.status.busy": "2023-01-10T23:06:11.247574Z",
     "iopub.status.idle": "2023-01-10T23:06:11.989669Z",
     "shell.execute_reply": "2023-01-10T23:06:11.988928Z",
     "shell.execute_reply.started": "2023-01-10T23:06:11.248120Z"
    },
    "tags": []
   },
   "outputs": [
    {
     "name": "stdout",
     "output_type": "stream",
     "text": [
      "(Part 2: 0.001 s)\n"
     ]
    }
   ],
   "source": [
    "# Fastest, using numba.\n",
    "@numba.njit\n",
    "def day21_part2_func(pos, die_sum_distribution):\n",
    "  wins = np.zeros((21, 21, 10, 10, 2), np.int64)\n",
    "  for total_score in range(40, -1, -1):\n",
    "    for score0 in range(min(20, total_score), max(total_score - 21, -1), -1):\n",
    "      score1 = total_score - score0\n",
    "      for pos0 in range(10):\n",
    "        for pos1 in range(10):\n",
    "          for total, count in die_sum_distribution:\n",
    "            new_pos0 = (pos0 + total) % 10\n",
    "            new_score0 = score0 + (new_pos0 + 1)\n",
    "            if new_score0 >= 21:\n",
    "              wins[score0, score1, pos0, pos1, 0] += count\n",
    "            else:\n",
    "              wins[score0, score1, pos0, pos1, 0] += (\n",
    "                  count * wins[score1, new_score0, pos1, new_pos0, 1]\n",
    "              )\n",
    "              wins[score0, score1, pos0, pos1, 1] += (\n",
    "                  count * wins[score1, new_score0, pos1, new_pos0, 0]\n",
    "              )\n",
    "\n",
    "  return wins[0, 0, pos[0], pos[1], :].max()\n",
    "\n",
    "\n",
    "def day21_part2(s):\n",
    "  lines = s.splitlines()\n",
    "  pos = np.array([lines[0][27:], lines[1][27:]], int) - 1\n",
    "  die_sum_distribution = np.array(\n",
    "      list(collections.Counter(sum(die) for die in itertools.product([1, 2, 3], repeat=3)).items())\n",
    "  )\n",
    "  return day21_part2_func(pos, die_sum_distribution)\n",
    "\n",
    "\n",
    "check_eq(day21_part2(s1), 444356092776315)\n",
    "puzzle.verify(2, day21_part2)  # ~21 ms."
   ]
  },
  {
   "cell_type": "markdown",
   "id": "0ca882bc",
   "metadata": {},
   "source": [
    "<a name=\"day22\"></a>\n",
    "## Day 22: CSG on cuboids"
   ]
  },
  {
   "cell_type": "markdown",
   "id": "4354d6d2",
   "metadata": {},
   "source": [
    "- Part 1: Considering only cubes in the region `x=-50..50,y=-50..50,z=-50..50`, how many cubes are on?\n",
    "\n",
    "- Part 2: Considering all cubes, how many cubes are on?\n",
    "\n",
    "---\n",
    "\n",
    "This is a really interesting problem.\n",
    "\n",
    "My first thought was to consider a divide-and-conquer approach on the 3D domain, perhaps using an octree data structure, as worked well on the [2018 day 23 puzzle](https://adventofcode.com/2018/day/23).\n",
    "However, it is impractical here because it would result in too many refined octree cells.\n",
    "\n",
    "**Approach 1**:\n",
    "My first approach considers a \"constructive solid geometry\" (CSG) construction that adaptively partitions the input boxes into smaller boxes.  The goal is to maintain a **disjoint union of boxes** that contain all cubes that are currently \"on\".\n",
    "\n",
    "The algorithm is as follows.\n",
    "For each new box, we process all of the currently active boxes to subtract any part that overlaps the new box.\n",
    "This subtraction is achieved by subdividing the overlapping box into up to 27 sub-boxes.  Each sub-box is either entirely inside or entirely outside the new box.  We discard it if it is inside.\n",
    "Finally, we add the new box to the active list if its state is \"on\" (as oppposed to \"off\").\n",
    "\n",
    "To speed up the computation, I explore subdividing each overlapping box into fewer sub-boxes, by considering one axis at a time in a heuristic order based on the box dimensions.\n",
    "\n",
    "I also explored using a K-d tree to speed up the search for overlapping boxes; the resulting improvement is small for this input size and prevents subsequent `numba` acceleration.\n",
    "\n",
    "**Approach 2**:\n",
    "I was surprised to see the simple approach in [Neal Wu's video](https://www.youtube.com/watch?v=YKpViLcTp64).\n",
    "The idea is to **sort the `start, stop` coordinates** of the input boxes (separately on each axis), and use the outer-product of these coordinates to partition the 3D space into a grid of small boxes.\n",
    "For each input box, we identify the sub-grid of small boxes that it contains, and modify their state.\n",
    "\n",
    "I adapt this approach in `numpy` (using the ever-useful `np.unique()` function) and achieve compact code, which automatically generalizes to inputs of arbitrary dimension.  However, the computation is slower than the CSG approach, taking about 2700 ms vs. 95 ms."
   ]
  },
  {
   "cell_type": "code",
   "execution_count": 21,
   "id": "db7f479d",
   "metadata": {
    "execution": {
     "iopub.execute_input": "2023-01-10T23:06:11.991091Z",
     "iopub.status.busy": "2023-01-10T23:06:11.990772Z",
     "iopub.status.idle": "2023-01-10T23:06:12.008049Z",
     "shell.execute_reply": "2023-01-10T23:06:12.007411Z",
     "shell.execute_reply.started": "2023-01-10T23:06:11.991077Z"
    },
    "tags": []
   },
   "outputs": [
    {
     "data": {
      "text/markdown": [
       "For [day 22](https://adventofcode.com/2021/day/22), `puzzle.input` has 420 lines:"
      ],
      "text/plain": [
       "<IPython.core.display.Markdown object>"
      ]
     },
     "metadata": {},
     "output_type": "display_data"
    },
    {
     "name": "stdout",
     "output_type": "stream",
     "text": [
      "on x=-48..-2,y=-16..31,z=-3..41\n",
      "on x=-12..39,y=-38..9,z=-28..21\n",
      "on x=-16..33,y=-33..21,z=-40..8\n",
      "on x=-14..30,y=-29..18,z=-18..29\n",
      "on x=-33..14,y=-36..12,z=-21..28\n",
      "on x=-34..20,y=-30..20,z=-13..33\n",
      "on x=-43..11,y=1..48,z=-28..25\n",
      "on x=-23..22,y=-12..32,z=-29..18\n",
      " ...\n",
      "on x=33576..48724,y=-31260..-12186,z=-75566..-46019\n",
      "off x=43325..66519,y=-60708..-36823,z=-54384..-32330\n",
      "off x=72390..92217,y=-11255..19475,z=21818..35508\n",
      "on x=27341..40606,y=29154..65657,z=52597..75340\n"
     ]
    },
    {
     "data": {
      "text/markdown": [
       "The stored answers are: `{1: '524792', 2: '1213461324555691'}`"
      ],
      "text/plain": [
       "<IPython.core.display.Markdown object>"
      ]
     },
     "metadata": {},
     "output_type": "display_data"
    }
   ],
   "source": [
    "puzzle = advent.puzzle(day=22)"
   ]
  },
  {
   "cell_type": "code",
   "execution_count": 22,
   "id": "4f4eb6e4",
   "metadata": {
    "execution": {
     "iopub.execute_input": "2023-01-10T23:06:12.009465Z",
     "iopub.status.busy": "2023-01-10T23:06:12.009012Z",
     "iopub.status.idle": "2023-01-10T23:06:12.014210Z",
     "shell.execute_reply": "2023-01-10T23:06:12.013631Z",
     "shell.execute_reply.started": "2023-01-10T23:06:12.009434Z"
    },
    "tags": []
   },
   "outputs": [],
   "source": [
    "s1 = \"\"\"\\\n",
    "on x=10..12,y=10..12,z=10..12\n",
    "on x=11..13,y=11..13,z=11..13\n",
    "off x=9..11,y=9..11,z=9..11\n",
    "on x=10..10,y=10..10,z=10..10\n",
    "\"\"\"\n",
    "\n",
    "s2 = \"\"\"\\\n",
    "on x=-20..26,y=-36..17,z=-47..7\n",
    "on x=-20..33,y=-21..23,z=-26..28\n",
    "on x=-22..28,y=-29..23,z=-38..16\n",
    "on x=-46..7,y=-6..46,z=-50..-1\n",
    "on x=-49..1,y=-3..46,z=-24..28\n",
    "on x=2..47,y=-22..22,z=-23..27\n",
    "on x=-27..23,y=-28..26,z=-21..29\n",
    "on x=-39..5,y=-6..47,z=-3..44\n",
    "on x=-30..21,y=-8..43,z=-13..34\n",
    "on x=-22..26,y=-27..20,z=-29..19\n",
    "off x=-48..-32,y=26..41,z=-47..-37\n",
    "on x=-12..35,y=6..50,z=-50..-2\n",
    "off x=-48..-32,y=-32..-16,z=-15..-5\n",
    "on x=-18..26,y=-33..15,z=-7..46\n",
    "off x=-40..-22,y=-38..-28,z=23..41\n",
    "on x=-16..35,y=-41..10,z=-47..6\n",
    "off x=-32..-23,y=11..30,z=-14..3\n",
    "on x=-49..-5,y=-3..45,z=-29..18\n",
    "off x=18..30,y=-20..-8,z=-3..13\n",
    "on x=-41..9,y=-7..43,z=-33..15\n",
    "on x=-54112..-39298,y=-85059..-49293,z=-27449..7877\n",
    "on x=967..23432,y=45373..81175,z=27513..53682\n",
    "\"\"\"\n",
    "\n",
    "s3 = \"\"\"\\\n",
    "on x=-5..47,y=-31..22,z=-19..33\n",
    "on x=-44..5,y=-27..21,z=-14..35\n",
    "on x=-49..-1,y=-11..42,z=-10..38\n",
    "on x=-20..34,y=-40..6,z=-44..1\n",
    "off x=26..39,y=40..50,z=-2..11\n",
    "on x=-41..5,y=-41..6,z=-36..8\n",
    "off x=-43..-33,y=-45..-28,z=7..25\n",
    "on x=-33..15,y=-32..19,z=-34..11\n",
    "off x=35..47,y=-46..-34,z=-11..5\n",
    "on x=-14..36,y=-6..44,z=-16..29\n",
    "on x=-57795..-6158,y=29564..72030,z=20435..90618\n",
    "on x=36731..105352,y=-21140..28532,z=16094..90401\n",
    "on x=30999..107136,y=-53464..15513,z=8553..71215\n",
    "on x=13528..83982,y=-99403..-27377,z=-24141..23996\n",
    "on x=-72682..-12347,y=18159..111354,z=7391..80950\n",
    "on x=-1060..80757,y=-65301..-20884,z=-103788..-16709\n",
    "on x=-83015..-9461,y=-72160..-8347,z=-81239..-26856\n",
    "on x=-52752..22273,y=-49450..9096,z=54442..119054\n",
    "on x=-29982..40483,y=-108474..-28371,z=-24328..38471\n",
    "on x=-4958..62750,y=40422..118853,z=-7672..65583\n",
    "on x=55694..108686,y=-43367..46958,z=-26781..48729\n",
    "on x=-98497..-18186,y=-63569..3412,z=1232..88485\n",
    "on x=-726..56291,y=-62629..13224,z=18033..85226\n",
    "on x=-110886..-34664,y=-81338..-8658,z=8914..63723\n",
    "on x=-55829..24974,y=-16897..54165,z=-121762..-28058\n",
    "on x=-65152..-11147,y=22489..91432,z=-58782..1780\n",
    "on x=-120100..-32970,y=-46592..27473,z=-11695..61039\n",
    "on x=-18631..37533,y=-124565..-50804,z=-35667..28308\n",
    "on x=-57817..18248,y=49321..117703,z=5745..55881\n",
    "on x=14781..98692,y=-1341..70827,z=15753..70151\n",
    "on x=-34419..55919,y=-19626..40991,z=39015..114138\n",
    "on x=-60785..11593,y=-56135..2999,z=-95368..-26915\n",
    "on x=-32178..58085,y=17647..101866,z=-91405..-8878\n",
    "on x=-53655..12091,y=50097..105568,z=-75335..-4862\n",
    "on x=-111166..-40997,y=-71714..2688,z=5609..50954\n",
    "on x=-16602..70118,y=-98693..-44401,z=5197..76897\n",
    "on x=16383..101554,y=4615..83635,z=-44907..18747\n",
    "off x=-95822..-15171,y=-19987..48940,z=10804..104439\n",
    "on x=-89813..-14614,y=16069..88491,z=-3297..45228\n",
    "on x=41075..99376,y=-20427..49978,z=-52012..13762\n",
    "on x=-21330..50085,y=-17944..62733,z=-112280..-30197\n",
    "on x=-16478..35915,y=36008..118594,z=-7885..47086\n",
    "off x=-98156..-27851,y=-49952..43171,z=-99005..-8456\n",
    "off x=2032..69770,y=-71013..4824,z=7471..94418\n",
    "on x=43670..120875,y=-42068..12382,z=-24787..38892\n",
    "off x=37514..111226,y=-45862..25743,z=-16714..54663\n",
    "off x=25699..97951,y=-30668..59918,z=-15349..69697\n",
    "off x=-44271..17935,y=-9516..60759,z=49131..112598\n",
    "on x=-61695..-5813,y=40978..94975,z=8655..80240\n",
    "off x=-101086..-9439,y=-7088..67543,z=33935..83858\n",
    "off x=18020..114017,y=-48931..32606,z=21474..89843\n",
    "off x=-77139..10506,y=-89994..-18797,z=-80..59318\n",
    "off x=8476..79288,y=-75520..11602,z=-96624..-24783\n",
    "on x=-47488..-1262,y=24338..100707,z=16292..72967\n",
    "off x=-84341..13987,y=2429..92914,z=-90671..-1318\n",
    "off x=-37810..49457,y=-71013..-7894,z=-105357..-13188\n",
    "off x=-27365..46395,y=31009..98017,z=15428..76570\n",
    "off x=-70369..-16548,y=22648..78696,z=-1892..86821\n",
    "on x=-53470..21291,y=-120233..-33476,z=-44150..38147\n",
    "off x=-93533..-4276,y=-16170..68771,z=-104985..-24507\n",
    "\"\"\""
   ]
  },
  {
   "cell_type": "code",
   "execution_count": 23,
   "id": "40f53562",
   "metadata": {
    "execution": {
     "iopub.execute_input": "2023-01-10T23:06:12.015513Z",
     "iopub.status.busy": "2023-01-10T23:06:12.015219Z",
     "iopub.status.idle": "2023-01-10T23:06:12.051093Z",
     "shell.execute_reply": "2023-01-10T23:06:12.050543Z",
     "shell.execute_reply.started": "2023-01-10T23:06:12.015500Z"
    },
    "tags": []
   },
   "outputs": [
    {
     "name": "stdout",
     "output_type": "stream",
     "text": [
      "(Part 1: 0.016 s)\n"
     ]
    }
   ],
   "source": [
    "def day22a_part1(s):  # Initial specialized solution for part 1.\n",
    "  lines = s.splitlines()\n",
    "  shape = 101, 101, 101\n",
    "  grid = np.full(shape, 0, int)\n",
    "  for line in lines:\n",
    "    state, x1, x2, y1, y2, z1, z2 = parse.parse('{} x={:d}..{:d},y={:d}..{:d},z={:d}..{:d}', line)\n",
    "    if not all(-50 <= c <= 50 for c in [x1, x2, y1, y2, z1, z2]):\n",
    "      continue\n",
    "    x1 += 50\n",
    "    x2 += 50\n",
    "    y1 += 50\n",
    "    y2 += 50\n",
    "    z1 += 50\n",
    "    z2 += 50\n",
    "    grid[x1 : x2 + 1, y1 : y2 + 1, z1 : z2 + 1] = 1 if state == 'on' else 0\n",
    "\n",
    "  return np.count_nonzero(grid)\n",
    "\n",
    "\n",
    "check_eq(day22a_part1(s1), 39)\n",
    "check_eq(day22a_part1(s2), 590784)\n",
    "check_eq(day22a_part1(s3), 474140)\n",
    "puzzle.verify(1, day22a_part1)  # ~42 ms."
   ]
  },
  {
   "cell_type": "code",
   "execution_count": 24,
   "id": "a5130dcd",
   "metadata": {
    "execution": {
     "iopub.execute_input": "2023-01-10T23:06:12.052137Z",
     "iopub.status.busy": "2023-01-10T23:06:12.051723Z",
     "iopub.status.idle": "2023-01-10T23:06:13.953502Z",
     "shell.execute_reply": "2023-01-10T23:06:13.952853Z",
     "shell.execute_reply.started": "2023-01-10T23:06:12.052123Z"
    },
    "tags": []
   },
   "outputs": [
    {
     "name": "stdout",
     "output_type": "stream",
     "text": [
      "(Part 1: 0.001 s)\n",
      "(Part 2: 1.886 s)\n"
     ]
    }
   ],
   "source": [
    "def day22b(s, *, part2=False):  # Using 3D grid over unique range coordinates.\n",
    "  # Approach inspired from https://www.youtube.com/watch?v=YKpViLcTp64.\n",
    "  lines = s.splitlines()\n",
    "  states = [l[:3].strip() == 'on' for l in lines]\n",
    "  boxes = np.array(\n",
    "      [\n",
    "          [list(map(int, range_[2:].split('..'))) for range_ in l[3:].strip().split(',')]\n",
    "          for l in lines\n",
    "      ]\n",
    "  )\n",
    "  if not part2:\n",
    "    boxes = boxes[((boxes[..., 0] >= -50) & (boxes[..., 1] <= 50)).all(axis=1)]\n",
    "  boxes[..., 1] += 1  # Convert [min, max] to [start, stop].\n",
    "  coords, inverses = zip(\n",
    "      *(np.unique(boxes[:, c], return_inverse=True) for c in range(boxes.shape[1]))\n",
    "  )\n",
    "  is_on = np.full([len(coord) - 1 for coord in coords], False)\n",
    "  for state, *ranges in zip(states, *(a.reshape(-1, 2) for a in inverses)):\n",
    "    is_on[tuple(slice(start, stop) for start, stop in ranges)] = state\n",
    "  side_lengths = [np.diff(coord) for coord in coords]\n",
    "  # return np.sum(is_on * functools.reduce(np.multiply.outer, side_lengths))\n",
    "  return np.einsum('ijk,i,j,k', is_on, *side_lengths)  # Uses less memory.\n",
    "\n",
    "\n",
    "check_eq(day22b(s1), 39)\n",
    "check_eq(day22b(s2), 590784)\n",
    "check_eq(day22b(s3), 474140)\n",
    "puzzle.verify(1, day22b)  # ~8 ms.\n",
    "\n",
    "day22b_part2 = functools.partial(day22b, part2=True)\n",
    "check_eq(day22b_part2(s3), 2758514936282235)  # ~14 ms.\n",
    "puzzle.verify(2, day22b_part2)  # ~2700 ms."
   ]
  },
  {
   "cell_type": "code",
   "execution_count": 25,
   "id": "0936cf69",
   "metadata": {
    "execution": {
     "iopub.execute_input": "2023-01-10T23:06:13.954823Z",
     "iopub.status.busy": "2023-01-10T23:06:13.954260Z",
     "iopub.status.idle": "2023-01-10T23:06:14.396546Z",
     "shell.execute_reply": "2023-01-10T23:06:14.395898Z",
     "shell.execute_reply.started": "2023-01-10T23:06:13.954807Z"
    },
    "tags": []
   },
   "outputs": [
    {
     "name": "stdout",
     "output_type": "stream",
     "text": [
      "(Part 1: 0.010 s)\n",
      "(Part 2: 0.389 s)\n"
     ]
    }
   ],
   "source": [
    "def day22c(s, *, part2=False):  # Using CSG of boxes.\n",
    "  # Adapted simpler logic of https://github.com/shaeberling/euler/blob/master/kotlin/src/com/s13g/aoc/aoc2021/Day22.kt.\n",
    "  lines = s.splitlines()\n",
    "  state_cuboids = []\n",
    "  for line in lines:\n",
    "    state = line[:3].strip()\n",
    "    cuboid = tuple(\n",
    "        tuple(map(int, range_[2:].split('..'))) for range_ in line[3:].strip().split(',')\n",
    "    )\n",
    "    if all(-50 <= c <= 50 for range_ in cuboid for c in range_) or part2:\n",
    "      state_cuboids.append((state == 'on', cuboid))\n",
    "\n",
    "  def inside(a, b):\n",
    "    (ax, ay, az), (bx, by, bz) = a, b\n",
    "    return (ax[0] >= bx[0] and ay[0] >= by[0] and az[0] >= bz[0]) and (\n",
    "        ax[1] <= bx[1] and ay[1] <= by[1] and az[1] <= bz[1]\n",
    "    )\n",
    "\n",
    "  def outside(a, b):\n",
    "    (ax, ay, az), (bx, by, bz) = a, b\n",
    "    return (ax[0] > bx[1] or ay[0] > by[1] or az[0] > bz[1]) or (\n",
    "        ax[1] < bx[0] or ay[1] < by[0] or az[1] < bz[0]\n",
    "    )\n",
    "\n",
    "  def subdivide_a_subtracting_b(a, b):  # Slow because up to 27 subcells.\n",
    "    coords = [sorted((a[c][0], a[c][1], b[c][0], b[c][1])) for c in range(3)]\n",
    "    intervals = [\n",
    "        [(c1, c2) for c1, c2 in ((x0, x1 - 1), (x1, x2), (x2 + 1, x3)) if c1 <= c2]\n",
    "        for x0, x1, x2, x3 in coords\n",
    "    ]\n",
    "    for subcell in itertools.product(*intervals):\n",
    "      if inside(subcell, a) and not inside(subcell, b):\n",
    "        yield subcell\n",
    "\n",
    "  cells: set[tuple[int, ...]] = set()  # Disjoint union of \"on\" cubes.\n",
    "\n",
    "  # Subtract each cuboid from existing cells (potentially subdividing them).\n",
    "  for state, cuboid in state_cuboids:\n",
    "    cells_to_add, cells_to_delete = set(), set()\n",
    "    for cell in cells:\n",
    "      if outside(cell, cuboid):\n",
    "        continue\n",
    "      cells_to_delete.add(cell)\n",
    "      if not inside(cell, cuboid):\n",
    "        cells_to_add.update(subdivide_a_subtracting_b(cell, cuboid))\n",
    "    if state:\n",
    "      cells_to_add.add(cuboid)\n",
    "    cells = (cells - cells_to_delete) | cells_to_add\n",
    "\n",
    "  return sum((np.diff(cell).T[0] + 1).prod() for cell in cells)\n",
    "\n",
    "\n",
    "check_eq(day22c(s1), 39)\n",
    "check_eq(day22c(s2), 590784)\n",
    "check_eq(day22c(s3), 474140)\n",
    "puzzle.verify(1, day22c)  # ~25 ms.\n",
    "\n",
    "day22c_part2 = functools.partial(day22c, part2=True)\n",
    "check_eq(day22c_part2(s3), 2758514936282235)\n",
    "puzzle.verify(2, day22c_part2)  # ~1350 ms."
   ]
  },
  {
   "cell_type": "code",
   "execution_count": 26,
   "id": "1927a7c4",
   "metadata": {
    "execution": {
     "iopub.execute_input": "2023-01-10T23:06:14.397638Z",
     "iopub.status.busy": "2023-01-10T23:06:14.397345Z",
     "iopub.status.idle": "2023-01-10T23:06:14.548040Z",
     "shell.execute_reply": "2023-01-10T23:06:14.547412Z",
     "shell.execute_reply.started": "2023-01-10T23:06:14.397623Z"
    },
    "tags": []
   },
   "outputs": [
    {
     "name": "stdout",
     "output_type": "stream",
     "text": [
      "(Part 1: 0.003 s)\n",
      "(Part 2: 0.126 s)\n"
     ]
    }
   ],
   "source": [
    "def day22d(s, *, part2=False):  # Faster by reducing CSG fragment count.\n",
    "  lines = s.splitlines()\n",
    "  state_cuboids = []\n",
    "  for line in lines:\n",
    "    state = line[:3].strip()\n",
    "    cuboid = tuple(\n",
    "        tuple(map(int, range_[2:].split('..'))) for range_ in line[3:].strip().split(',')\n",
    "    )\n",
    "    if all(-50 <= c <= 50 for range_ in cuboid for c in range_) or part2:\n",
    "      state_cuboids.append((state == 'on', cuboid))\n",
    "\n",
    "  def inside(a, b):\n",
    "    (ax, ay, az), (bx, by, bz) = a, b\n",
    "    return (ax[0] >= bx[0] and ay[0] >= by[0] and az[0] >= bz[0]) and (\n",
    "        ax[1] <= bx[1] and ay[1] <= by[1] and az[1] <= bz[1]\n",
    "    )\n",
    "\n",
    "  def outside(a, b):\n",
    "    (ax, ay, az), (bx, by, bz) = a, b\n",
    "    return (ax[0] > bx[1] or ay[0] > by[1] or az[0] > bz[1]) or (\n",
    "        ax[1] < bx[0] or ay[1] < by[0] or az[1] < bz[0]\n",
    "    )\n",
    "\n",
    "  def replace(tuple_, index, value):\n",
    "    return tuple_[:index] + (value,) + tuple_[index + 1 :]\n",
    "\n",
    "  def subdivide_a_subtracting_b(a, b):  # Faster; smaller number of subcells.\n",
    "    boxes = [a]\n",
    "    finalized: list[tuple[int, ...]] = []\n",
    "    # dims = np.argsort([c1 - c2 for c1, c2 in a])  # Split big dims first.\n",
    "    dims = sorted(range(3), key=lambda dim: a[dim][0] - a[dim][1])\n",
    "    for dim in dims:\n",
    "      new_boxes = []\n",
    "      for box in boxes:\n",
    "        (a1, a2), (b1, b2) = box[dim], b[dim]\n",
    "        # assert not inside(box, b) and not outside(box, b)\n",
    "        if a1 >= b1 and a2 <= b2:\n",
    "          new_boxes.append(box)  # No subdivision along this dimension.\n",
    "          continue\n",
    "        if a1 < b1 and a2 > b2:\n",
    "          finalized.extend((replace(box, dim, (a1, b1 - 1)), replace(box, dim, (b2 + 1, a2))))\n",
    "          box2 = replace(box, dim, (b1, b2))\n",
    "        elif a1 >= b1 and a2 > b2:\n",
    "          box2 = replace(box, dim, (a1, b2))\n",
    "          finalized.append(replace(box, dim, (b2 + 1, a2)))\n",
    "        else:  # a1 < b1 and a2 <= b2:\n",
    "          finalized.append(replace(box, dim, (a1, b1 - 1)))\n",
    "          box2 = replace(box, dim, (b1, a2))\n",
    "        if outside(box2, b):\n",
    "          finalized.append(box2)\n",
    "        elif not inside(box2, b):\n",
    "          new_boxes.append(box2)\n",
    "      boxes = new_boxes\n",
    "    return finalized\n",
    "\n",
    "  # Disjoint union of \"on\" cubes.\n",
    "  cells: set[tuple[tuple[int, int, int], tuple[int, int, int]]] = set()\n",
    "\n",
    "  # Subtract each cuboid from existing cells (potentially subdividing them).\n",
    "  for state, cuboid in state_cuboids:\n",
    "    cells_to_add, cells_to_delete = set(), set()\n",
    "    for cell in cells:\n",
    "      if outside(cell, cuboid):\n",
    "        continue\n",
    "      cells_to_delete.add(cell)\n",
    "      if not inside(cell, cuboid):\n",
    "        cells_to_add.update(subdivide_a_subtracting_b(cell, cuboid))\n",
    "    if state:\n",
    "      cells_to_add.add(cuboid)\n",
    "    cells = (cells - cells_to_delete) | cells_to_add\n",
    "\n",
    "  return sum((np.diff(cell).T[0] + 1).prod() for cell in cells)\n",
    "\n",
    "\n",
    "check_eq(day22d(s1), 39)\n",
    "check_eq(day22d(s2), 590784)\n",
    "check_eq(day22d(s3), 474140)\n",
    "puzzle.verify(1, day22d)  # ~9 ms.\n",
    "\n",
    "day22d_part2 = functools.partial(day22d, part2=True)\n",
    "check_eq(day22d_part2(s3), 2758514936282235)\n",
    "puzzle.verify(2, day22d_part2)  # ~380 ms."
   ]
  },
  {
   "cell_type": "code",
   "execution_count": 27,
   "id": "f241f443",
   "metadata": {
    "execution": {
     "iopub.execute_input": "2023-01-10T23:06:14.548975Z",
     "iopub.status.busy": "2023-01-10T23:06:14.548843Z",
     "iopub.status.idle": "2023-01-10T23:06:14.562307Z",
     "shell.execute_reply": "2023-01-10T23:06:14.561731Z",
     "shell.execute_reply.started": "2023-01-10T23:06:14.548964Z"
    },
    "tags": []
   },
   "outputs": [],
   "source": [
    "class Kdtree(Generic[_T]):\n",
    "  \"\"\"Spatial structure that splits space using hyperplanes in successive dims.\n",
    "\n",
    "  In this K-D tree implementation, the original bounding volume is the unit\n",
    "  hypercube, and the hyperplane always splits the current dimension at the\n",
    "  midpoint of the current range.  Each element is represented using a\n",
    "  bounding box.  When an element is entered into the tree, it is pushed down\n",
    "  the tree until the box straddles the two child nodes.  Large elements may be\n",
    "  pushed down both children if the allow_duplication threshold is set.\n",
    "  Adapted from\n",
    "  https://github.com/hhoppe/Mesh-processing-library/blob/master/libHh/Kdtree.h\n",
    "  \"\"\"\n",
    "\n",
    "  @dataclasses.dataclass\n",
    "  class Entry(Generic[_T2]):\n",
    "    bb0: tuple[float, ...]\n",
    "    bb1: tuple[float, ...]\n",
    "    data: _T2 | None\n",
    "\n",
    "  @dataclasses.dataclass\n",
    "  class Node:\n",
    "    axis: int  # Hyperplane axis, satisfying 0 <= axis < ndim.\n",
    "    value: float  # Hyperplane coordinate (in [0.0, 1.0]).\n",
    "    entries: list[int] = dataclasses.field(default_factory=list)\n",
    "    l: int = -1  # Node index for subtree with low values.\n",
    "    h: int = -1  # Node index for subtree with high values.\n",
    "\n",
    "  def __init__(self, ndim: int, max_level: int = 8):\n",
    "    \"\"\"Creates K-d tree over unit hypercube with `ndim` dimensions.\"\"\"\n",
    "    assert ndim > 0 and max_level > 0\n",
    "    self.ndim = ndim\n",
    "    self.max_level = max_level\n",
    "    self.entries: list[Kdtree.Entry[_T]] = []\n",
    "    self.nodes: list[Kdtree.Node] = []\n",
    "\n",
    "  def add(self, bb0: tuple[float, ...], bb1: tuple[float, ...], data: _T) -> None:\n",
    "    \"\"\"Stores the box-bounded element.\"\"\"\n",
    "    assert all(0.0 <= b0 <= b1 <= 1.0 for b0, b1 in zip(bb0, bb1))\n",
    "    entry_index = len(self.entries)\n",
    "    self.entries.append(self.Entry[_T](bb0, bb1, data))\n",
    "    node_index = 0\n",
    "    values = [0.5] * self.ndim\n",
    "    level = 0\n",
    "    inc = 0.5\n",
    "    axis = 0\n",
    "    while True:\n",
    "      value = values[axis]\n",
    "      if node_index == len(self.nodes):\n",
    "        self.nodes.append(self.Node(axis, value))\n",
    "      if axis == 0:\n",
    "        level += 1\n",
    "        if level == self.max_level:\n",
    "          break\n",
    "        inc *= 0.5\n",
    "      want_l = bb0[axis] <= value\n",
    "      want_h = bb1[axis] >= value\n",
    "      if want_l and want_h:\n",
    "        break\n",
    "      if want_l:\n",
    "        if self.nodes[node_index].l < 0:\n",
    "          self.nodes[node_index].l = len(self.nodes)\n",
    "        node_index = self.nodes[node_index].l\n",
    "        values[axis] -= inc\n",
    "      else:\n",
    "        if self.nodes[node_index].h < 0:\n",
    "          self.nodes[node_index].h = len(self.nodes)\n",
    "        node_index = self.nodes[node_index].h\n",
    "        values[axis] += inc\n",
    "      axis = axis + 1 if axis < self.ndim - 1 else 0\n",
    "\n",
    "    self.nodes[node_index].entries.append(entry_index)\n",
    "\n",
    "  def remove(self, bb0: tuple[float, ...], bb1: tuple[float, ...], data: _T) -> None:\n",
    "    \"\"\"Removes the previously added element.\"\"\"\n",
    "    assert all(0.0 <= b0 <= b1 <= 1.0 for b0, b1 in zip(bb0, bb1))\n",
    "    # entry = self.Entry[_T](bb0, bb1, data)\n",
    "    entry_index = None\n",
    "    node_index = 0\n",
    "    level = 0\n",
    "    while True:\n",
    "      node = self.nodes[node_index]\n",
    "      axis = node.axis\n",
    "      if axis == 0:\n",
    "        level += 1\n",
    "        if level == self.max_level:\n",
    "          break\n",
    "      value = node.value\n",
    "      want_l = bb0[axis] <= value\n",
    "      want_h = bb1[axis] >= value\n",
    "      if want_l and want_h:\n",
    "        break\n",
    "      if want_l:\n",
    "        node_index = node.l\n",
    "      else:\n",
    "        node_index = node.h\n",
    "\n",
    "    node = self.nodes[node_index]\n",
    "    if entry_index is None:\n",
    "      for entry_index2 in node.entries:\n",
    "        # if self.entries[entry_index2] == entry:\n",
    "        # Problem is that default __eq__ involves slow <string>:2(__eq__).\n",
    "        entry2 = self.entries[entry_index2]\n",
    "        if entry2.bb0 == bb0 and entry2.bb1 == bb1 and entry2.data == data:\n",
    "          entry_index = entry_index2\n",
    "          self.entries[entry_index] = self.Entry[_T]((-1.0,) * self.ndim, (-1.0,) * self.ndim, None)\n",
    "          break\n",
    "    assert entry_index is not None\n",
    "    node.entries.remove(entry_index)\n",
    "\n",
    "  def search(\n",
    "      self, bb0: tuple[float, ...], bb1: tuple[float, ...]\n",
    "  ) -> Iterator[tuple[tuple[float, ...], tuple[float, ...], _T]]:\n",
    "    \"\"\"Yields elements that overlap the bounding-box search range.\"\"\"\n",
    "    assert all(0.0 <= b0 <= b1 <= 1.0 for b0, b1 in zip(bb0, bb1))\n",
    "\n",
    "    def recurse(node_index: int) -> Iterator[tuple[tuple[float, ...], tuple[float, ...], _T]]:\n",
    "      while True:\n",
    "        node = self.nodes[node_index]\n",
    "        for entry_index in node.entries:\n",
    "          entry = self.entries[entry_index]\n",
    "          for e0, e1, b0, b1 in zip(entry.bb0, entry.bb1, bb0, bb1):\n",
    "            if e0 > b1 or e1 < b0:\n",
    "              break\n",
    "          else:\n",
    "            yield entry.bb0, entry.bb1, typing.cast(_T, entry.data)\n",
    "        axis = node.axis\n",
    "        value = node.value\n",
    "        want_l = node.l >= 0 and bb0[axis] <= value\n",
    "        want_h = node.h >= 0 and bb1[axis] >= value\n",
    "        if want_l and want_h:\n",
    "          yield from recurse(node.l)  # Single recursion.\n",
    "          node_index = node.h\n",
    "        elif want_l:\n",
    "          node_index = node.l\n",
    "        elif want_h:\n",
    "          node_index = node.h\n",
    "        else:\n",
    "          break\n",
    "\n",
    "    if self.nodes:\n",
    "      yield from recurse(0)\n",
    "\n",
    "\n",
    "def test_kdtree():\n",
    "  kdtree = Kdtree[str](ndim=1)\n",
    "  kdtree.add((0.1,), (0.2,), 'elem1')\n",
    "  kdtree.add((0.7,), (0.8,), 'elem2')\n",
    "  kdtree.add((0.4,), (0.6,), 'elem3')\n",
    "  check_eq(list(kdtree.search((0.05,), (0.15,))), [((0.1,), (0.2,), 'elem1')])\n",
    "  check_eq({r[2] for r in kdtree.search((0.65,), (0.75,))}, {'elem2'})\n",
    "  check_eq({r[2] for r in kdtree.search((0.55,), (0.72,))}, {'elem2', 'elem3'})\n",
    "  check_eq({r[2] for r in kdtree.search((0.15,), (0.95,))}, {'elem1', 'elem2', 'elem3'})\n",
    "  kdtree.remove((0.7,), (0.8,), 'elem2')\n",
    "  check_eq({r[2] for r in kdtree.search((0.65,), (0.75,))}, set())\n",
    "  check_eq({r[2] for r in kdtree.search((0.55,), (0.72,))}, {'elem3'})\n",
    "  check_eq({r[2] for r in kdtree.search((0.15,), (0.95,))}, {'elem1', 'elem3'})\n",
    "\n",
    "  kdtree = Kdtree[str](ndim=2)\n",
    "  kdtree.add((0.1, 0.15), (0.2, 0.25), 'elem1')\n",
    "  kdtree.add((0.7, 0.3), (0.75, 0.35), 'elem2')\n",
    "  kdtree.add((0.2, 0.8), (0.25, 0.85), 'elem3')\n",
    "  check_eq(list(kdtree.search((0.05, 0.1), (0.15, 0.2))), [((0.1, 0.15), (0.2, 0.25), 'elem1')])\n",
    "  check_eq({r[2] for r in kdtree.search((0.65, 0.25), (0.7, 0.3))}, {'elem2'})\n",
    "  check_eq({r[2] for r in kdtree.search((0.15, 0.15), (0.2, 0.8))}, {'elem1', 'elem3'})\n",
    "  check_eq({r[2] for r in kdtree.search((0.1, 0.1), (0.9, 0.9))}, {'elem1', 'elem2', 'elem3'})\n",
    "\n",
    "\n",
    "test_kdtree()"
   ]
  },
  {
   "cell_type": "code",
   "execution_count": 28,
   "id": "e308f1c0",
   "metadata": {
    "execution": {
     "iopub.execute_input": "2023-01-10T23:06:14.563469Z",
     "iopub.status.busy": "2023-01-10T23:06:14.563031Z",
     "iopub.status.idle": "2023-01-10T23:06:14.772727Z",
     "shell.execute_reply": "2023-01-10T23:06:14.771857Z",
     "shell.execute_reply.started": "2023-01-10T23:06:14.563455Z"
    },
    "tags": []
   },
   "outputs": [
    {
     "name": "stdout",
     "output_type": "stream",
     "text": [
      "(Part 1: 0.008 s)\n",
      "(Part 2: 0.164 s)\n"
     ]
    }
   ],
   "source": [
    "def day22e(s, *, part2=False):  # Using Kdtree.\n",
    "  lines = s.splitlines()\n",
    "  state_cuboids = []\n",
    "  for line in lines:\n",
    "    state = line[:3].strip()\n",
    "    cuboid = tuple(\n",
    "        tuple(map(int, range_[2:].split('..'))) for range_ in line[3:].strip().split(',')\n",
    "    )\n",
    "    if all(-50 <= c <= 50 for range_ in cuboid for c in range_) or part2:\n",
    "      state_cuboids.append((state == 'on', cuboid))\n",
    "  diam, diam2 = 300_000.0, 300_000.5\n",
    "\n",
    "  def inside(a, b):\n",
    "    (ax, ay, az), (bx, by, bz) = a, b\n",
    "    return (ax[0] >= bx[0] and ay[0] >= by[0] and az[0] >= bz[0]) and (\n",
    "        ax[1] <= bx[1] and ay[1] <= by[1] and az[1] <= bz[1]\n",
    "    )\n",
    "\n",
    "  def outside(a, b):\n",
    "    (ax, ay, az), (bx, by, bz) = a, b\n",
    "    return (ax[0] > bx[1] or ay[0] > by[1] or az[0] > bz[1]) or (\n",
    "        ax[1] < bx[0] or ay[1] < by[0] or az[1] < bz[0]\n",
    "    )\n",
    "\n",
    "  def replace(tuple_, index, value):\n",
    "    return tuple_[:index] + (value,) + tuple_[index + 1 :]\n",
    "\n",
    "  def to_bbox(a):\n",
    "    ax, ay, az = a\n",
    "    return (\n",
    "        (ax[0] / diam + 0.5, ay[0] / diam + 0.5, az[0] / diam + 0.5),\n",
    "        (ax[1] / diam + 0.5, ay[1] / diam + 0.5, az[1] / diam + 0.5),\n",
    "    )\n",
    "\n",
    "  def from_bbox(bb0, bb1):\n",
    "    return (\n",
    "        (int((bb0[0] - 0.5) * diam2), int((bb1[0] - 0.5) * diam2)),\n",
    "        (int((bb0[1] - 0.5) * diam2), int((bb1[1] - 0.5) * diam2)),\n",
    "        (int((bb0[2] - 0.5) * diam2), int((bb1[2] - 0.5) * diam2)),\n",
    "    )\n",
    "\n",
    "  def subdivide_a_subtracting_b(a, b):  # Faster; smaller number of subcells.\n",
    "    boxes = [a]\n",
    "    finalized: list[tuple[tuple[int, int, int], tuple[int, int, int]]] = []\n",
    "    # dims = np.argsort([c1 - c2 for c1, c2 in a])  # Split big dims first.\n",
    "    dims = sorted(range(3), key=lambda dim: a[dim][0] - a[dim][1])\n",
    "    for dim in dims:\n",
    "      new_boxes = []\n",
    "      for box in boxes:\n",
    "        (a1, a2), (b1, b2) = box[dim], b[dim]\n",
    "        # assert not inside(box, b) and not outside(box, b)\n",
    "        if a1 >= b1 and a2 <= b2:\n",
    "          new_boxes.append(box)  # No subdivision along this dimension.\n",
    "          continue\n",
    "        if a1 < b1 and a2 > b2:\n",
    "          finalized.extend((replace(box, dim, (a1, b1 - 1)), replace(box, dim, (b2 + 1, a2))))\n",
    "          box2 = replace(box, dim, (b1, b2))\n",
    "        elif a1 >= b1 and a2 > b2:\n",
    "          box2 = replace(box, dim, (a1, b2))\n",
    "          finalized.append(replace(box, dim, (b2 + 1, a2)))\n",
    "        else:  # a1 < b1 and a2 <= b2:\n",
    "          finalized.append(replace(box, dim, (a1, b1 - 1)))\n",
    "          box2 = replace(box, dim, (b1, a2))\n",
    "        if outside(box2, b):\n",
    "          finalized.append(box2)\n",
    "        elif not inside(box2, b):\n",
    "          new_boxes.append(box2)\n",
    "      boxes = new_boxes\n",
    "    return finalized\n",
    "\n",
    "  # Entries are disjoint union of \"on\" cubes.\n",
    "  kdtree = Kdtree[int](ndim=3)\n",
    "\n",
    "  for state, cuboid in state_cuboids:\n",
    "    cells_to_add, cells_to_delete = set(), set()\n",
    "    for bb0, bb1, _ in kdtree.search(*to_bbox(cuboid)):\n",
    "      cell = from_bbox(bb0, bb1)\n",
    "      if outside(cell, cuboid):\n",
    "        continue\n",
    "      cells_to_delete.add(cell)\n",
    "      if not inside(cell, cuboid):\n",
    "        cells_to_add.update(subdivide_a_subtracting_b(cell, cuboid))\n",
    "    if state:\n",
    "      cells_to_add.add(cuboid)\n",
    "    for cell in cells_to_delete:\n",
    "      kdtree.remove(*to_bbox(cell), None)  # type: ignore[call-arg]\n",
    "    for cell in cells_to_add:\n",
    "      kdtree.add(*to_bbox(cell), None)  # type: ignore[call-arg]\n",
    "\n",
    "  cells = [from_bbox(entry.bb0, entry.bb1) for entry in kdtree.entries if entry.bb0[0] >= 0.0]\n",
    "  return (np.diff(list(cells)) + 1)[..., 0].prod(axis=-1).sum()\n",
    "\n",
    "\n",
    "check_eq(day22e(s1), 39)\n",
    "check_eq(day22e(s2), 590784)\n",
    "check_eq(day22e(s3), 474140)\n",
    "puzzle.verify(1, day22e)  # ~14 ms.\n",
    "\n",
    "day22e_part2 = functools.partial(day22e, part2=True)\n",
    "check_eq(day22e_part2(s3), 2758514936282235)\n",
    "puzzle.verify(2, day22e_part2)  # ~330 ms vs. previous ~380 ms.\n",
    "# It looks like the overhead of maintaining the Kdtree is too great."
   ]
  },
  {
   "cell_type": "code",
   "execution_count": 29,
   "id": "42bc3cc7",
   "metadata": {
    "execution": {
     "iopub.execute_input": "2023-01-10T23:06:14.774884Z",
     "iopub.status.busy": "2023-01-10T23:06:14.774574Z",
     "iopub.status.idle": "2023-01-10T23:06:18.225515Z",
     "shell.execute_reply": "2023-01-10T23:06:18.224957Z",
     "shell.execute_reply.started": "2023-01-10T23:06:14.774870Z"
    },
    "tags": []
   },
   "outputs": [
    {
     "name": "stdout",
     "output_type": "stream",
     "text": [
      "(Part 1: 0.002 s)\n",
      "(Part 2: 0.018 s)\n"
     ]
    }
   ],
   "source": [
    "# Mangled numba version of day22d; fastest.\n",
    "@numba.njit\n",
    "def day22_func(states, cuboids):\n",
    "  def inside(a, b):\n",
    "    (ax, ay, az), (bx, by, bz) = a, b\n",
    "    return (ax[0] >= bx[0] and ay[0] >= by[0] and az[0] >= bz[0]) and (\n",
    "        ax[1] <= bx[1] and ay[1] <= by[1] and az[1] <= bz[1]\n",
    "    )\n",
    "\n",
    "  def outside(a, b):\n",
    "    (ax, ay, az), (bx, by, bz) = a, b\n",
    "    return (ax[0] > bx[1] or ay[0] > by[1] or az[0] > bz[1]) or (\n",
    "        ax[1] < bx[0] or ay[1] < by[0] or az[1] < bz[0]\n",
    "    )\n",
    "\n",
    "  def replace(tuple_, index, value):\n",
    "    if using_numba:\n",
    "      setitem = numba.cpython.unsafe.tuple.tuple_setitem\n",
    "      return setitem(tuple_, index, value)  # pylint: disable=no-value-for-parameter\n",
    "    return tuple_[:index] + (value,) + tuple_[index + 1 :]\n",
    "\n",
    "  def to_tuple(array):\n",
    "    if using_numba:\n",
    "      to_fixed = numba.np.unsafe.ndarray.to_fixed_tuple  # pylint: disable=no-member\n",
    "      return to_fixed(array[0], 2), to_fixed(array[1], 2), to_fixed(array[2], 2)\n",
    "    return tuple(array[0]), tuple(array[1]), tuple(array[2])\n",
    "\n",
    "  def subdivide_a_subtracting_b(a, b):  # Faster; smaller number of subcells.\n",
    "    boxes = [a]\n",
    "    finalized: list[tuple[tuple[int, int, int], tuple[int, int, int]]] = []\n",
    "    dims = np.argsort(np.array([a[0][0] - a[0][1], a[1][0] - a[1][1], a[2][0] - a[2][1]]))\n",
    "    for dim in dims:\n",
    "      new_boxes = []\n",
    "      for box in boxes:\n",
    "        (a1, a2), (b1, b2) = box[dim], b[dim]\n",
    "        # assert not inside(box, b) and not outside(box, b)\n",
    "        if a1 >= b1 and a2 <= b2:\n",
    "          new_boxes.append(box)  # No subdivision along this dimension.\n",
    "          continue\n",
    "        if a1 < b1 and a2 > b2:\n",
    "          finalized.extend((replace(box, dim, (a1, b1 - 1)), replace(box, dim, (b2 + 1, a2))))\n",
    "          box2 = replace(box, dim, (b1, b2))\n",
    "        elif a1 >= b1 and a2 > b2:\n",
    "          box2 = replace(box, dim, (a1, b2))\n",
    "          finalized.append(replace(box, dim, (b2 + 1, a2)))\n",
    "        else:  # a1 < b1 and a2 <= b2:\n",
    "          finalized.append(replace(box, dim, (a1, b1 - 1)))\n",
    "          box2 = replace(box, dim, (b1, a2))\n",
    "        if outside(box2, b):\n",
    "          finalized.append(box2)\n",
    "        elif not inside(box2, b):\n",
    "          new_boxes.append(box2)\n",
    "      boxes = new_boxes\n",
    "    return finalized\n",
    "\n",
    "  # Disjoint union of \"on\" cubes.\n",
    "  # pylint: disable-next=consider-using-set-comprehension\n",
    "  cells = set([to_tuple(cuboids[0]) for _ in range(0)])  # Typed empty set.\n",
    "\n",
    "  for state, cuboid_array in zip(states, cuboids):\n",
    "    cuboid = to_tuple(cuboid_array)\n",
    "    cells_to_add, cells_to_delete = [], []\n",
    "    for cell in cells:\n",
    "      if outside(cell, cuboid):\n",
    "        continue\n",
    "      cells_to_delete.append(cell)\n",
    "      if not inside(cell, cuboid):\n",
    "        cells_to_add.extend(subdivide_a_subtracting_b(cell, cuboid))\n",
    "\n",
    "    if state:\n",
    "      cells_to_add.append(cuboid)\n",
    "    cells = cells.difference(set(cells_to_delete)).union(set(cells_to_add))\n",
    "\n",
    "  total = 0\n",
    "  for cell in cells:\n",
    "    volume = 1\n",
    "    for c in range(3):\n",
    "      volume *= cell[c][1] - cell[c][0] + 1\n",
    "    total += volume\n",
    "  return total\n",
    "\n",
    "\n",
    "def day22(s, *, part2=False):\n",
    "  lines = s.splitlines()\n",
    "  states, cuboids = [], []\n",
    "  for line in lines:\n",
    "    state = line[:3].strip()\n",
    "    cuboid = tuple(\n",
    "        tuple(map(int, range_[2:].split('..'))) for range_ in line[3:].strip().split(',')\n",
    "    )\n",
    "    if all(-50 <= c <= 50 for range_ in cuboid for c in range_) or part2:\n",
    "      states.append(state == 'on')\n",
    "      cuboids.append(cuboid)\n",
    "\n",
    "  return day22_func(np.array(states), np.array(cuboids))\n",
    "\n",
    "\n",
    "check_eq(day22(s1), 39)  # ~4 s for numba compilation.\n",
    "check_eq(day22(s2), 590784)\n",
    "check_eq(day22(s3), 474140)\n",
    "puzzle.verify(1, day22)  # ~30 ms.\n",
    "\n",
    "day22_part2 = functools.partial(day22, part2=True)\n",
    "check_eq(day22_part2(s3), 2758514936282235)\n",
    "puzzle.verify(2, day22_part2)  # ~80 ms (often slower)."
   ]
  },
  {
   "cell_type": "markdown",
   "id": "bb6d0162",
   "metadata": {},
   "source": [
    "<a name=\"day23\"></a>\n",
    "## Day 23: Shuffle between rooms"
   ]
  },
  {
   "cell_type": "markdown",
   "id": "8e57a539",
   "metadata": {},
   "source": [
    "- Part 1: What is the least energy required to organize the amphipods?\n",
    "\n",
    "- Part 2: After inserting two more lines to make rooms twice as large, what is the least energy?\n",
    "\n",
    "---\n",
    "\n",
    "My approach is to represent the *state* as a **tuple of characters**, with one character for each of the legal positions (i.e., 7 elements for the hallway and 2 or 4 elements for each of the 4 rooms).\n",
    "\n",
    "I explored two approaches:\n",
    "\n",
    "1. **Exhaustive** exploration of state moves (using **depth-first search**) to compute the minimum cost from the current state to the end state, with `functools.lru_cache` to cache the obtained cost values.  This solution takes about 5 seconds.\n",
    "\n",
    "2. **Dijkstra/A\\*** search to explore solution in a breadth-first traversal.  This is more complex to implement, but has the benefit that the search stops as soon as the advancing front reaches the end state, hopefully visiting a smaller subset of reachable states.  This solution is also more compatible with `numba`, and finds a solution in ~400 ms.\n",
    "\n",
    "It turns out that A\\* does not provide much benefit, at least for my puzzle input.  The reason is that the \"heavy\" `D` pieces (ending in the rightmost room) move last in the optimal move sequence, wheras A\\* encourages moving these pieces first."
   ]
  },
  {
   "cell_type": "code",
   "execution_count": 30,
   "id": "8bc6d15e",
   "metadata": {
    "execution": {
     "iopub.execute_input": "2023-01-10T23:06:18.226523Z",
     "iopub.status.busy": "2023-01-10T23:06:18.226212Z",
     "iopub.status.idle": "2023-01-10T23:06:18.241144Z",
     "shell.execute_reply": "2023-01-10T23:06:18.240592Z",
     "shell.execute_reply.started": "2023-01-10T23:06:18.226510Z"
    },
    "tags": []
   },
   "outputs": [
    {
     "data": {
      "text/markdown": [
       "For [day 23](https://adventofcode.com/2021/day/23), `puzzle.input` has 5 lines:"
      ],
      "text/plain": [
       "<IPython.core.display.Markdown object>"
      ]
     },
     "metadata": {},
     "output_type": "display_data"
    },
    {
     "name": "stdout",
     "output_type": "stream",
     "text": [
      "#############\n",
      "#...........#\n",
      "###B#B#D#D###\n",
      "  #C#C#A#A#\n",
      "  #########\n"
     ]
    },
    {
     "data": {
      "text/markdown": [
       "The stored answers are: `{1: '10411', 2: '46721'}`"
      ],
      "text/plain": [
       "<IPython.core.display.Markdown object>"
      ]
     },
     "metadata": {},
     "output_type": "display_data"
    }
   ],
   "source": [
    "puzzle = advent.puzzle(day=23)"
   ]
  },
  {
   "cell_type": "code",
   "execution_count": 31,
   "id": "181cc8b5",
   "metadata": {
    "execution": {
     "iopub.execute_input": "2023-01-10T23:06:18.242305Z",
     "iopub.status.busy": "2023-01-10T23:06:18.241850Z",
     "iopub.status.idle": "2023-01-10T23:06:18.244811Z",
     "shell.execute_reply": "2023-01-10T23:06:18.244056Z",
     "shell.execute_reply.started": "2023-01-10T23:06:18.242291Z"
    },
    "tags": []
   },
   "outputs": [],
   "source": [
    "s1 = \"\"\"\\\n",
    "#############\n",
    "#...........#\n",
    "###B#C#B#D###\n",
    "  #A#D#C#A#\n",
    "  #########\n",
    "\"\"\""
   ]
  },
  {
   "cell_type": "code",
   "execution_count": 32,
   "id": "3f29d591",
   "metadata": {
    "execution": {
     "iopub.execute_input": "2023-01-10T23:06:18.245539Z",
     "iopub.status.busy": "2023-01-10T23:06:18.245416Z",
     "iopub.status.idle": "2023-01-10T23:06:18.529027Z",
     "shell.execute_reply": "2023-01-10T23:06:18.528412Z",
     "shell.execute_reply.started": "2023-01-10T23:06:18.245528Z"
    },
    "tags": []
   },
   "outputs": [],
   "source": [
    "def day23a(s, *, part2=False):  # Compact.\n",
    "  lines = s.splitlines()\n",
    "  letters = [[line[3], line[5], line[7], line[9]] for line in lines[2:4]]\n",
    "  if part2:\n",
    "    letters[1:1] = [list('DCBA'), list('DBAC')]  # Insert two middle rows.\n",
    "  nrows = len(letters)\n",
    "  # State consists of the 7 eligible hallway locations and the room locations.\n",
    "  start_state = tuple(['.'] * 7 + list(more_itertools.flatten(letters)))\n",
    "  end_state = tuple(['.'] * 7 + list('ABCD') * nrows)\n",
    "  cost_for_id = {'A': 1, 'B': 10, 'C': 100, 'D': 1000}\n",
    "\n",
    "  @functools.lru_cache(maxsize=None)\n",
    "  def compute_cost(state):\n",
    "    if state == end_state:\n",
    "      return 0\n",
    "\n",
    "    def eligible_moves(state):\n",
    "      # Move from the hallway position `i0` to a room `j`.\n",
    "      for i0 in range(7):\n",
    "        id = state[i0]\n",
    "        if id == '.':\n",
    "          continue\n",
    "        j = ord(id) - ord('A')\n",
    "        row = max((i for i in range(nrows) if state[7 + i * 4 + j] == '.'), default=None)\n",
    "        if row is None or not all(state[7 + i * 4 + j] == id for i in range(row + 1, nrows)):\n",
    "          continue\n",
    "        i1 = 7 + row * 4 + j\n",
    "        move_right = i0 <= j + 1\n",
    "        if all(state[k] == '.' for k in (range(i0 + 1, 2 + j) if move_right else range(2 + j, i0))):\n",
    "          cost = (\n",
    "              (j - i0 + 2) * 2 - (i0 == 0) + row\n",
    "              if move_right\n",
    "              else (i0 - j - 1) * 2 - (i0 == 6) + row\n",
    "          ) * cost_for_id[id]\n",
    "          yield i0, i1, cost\n",
    "\n",
    "      # Move from a room `j` to the hallway position `i1`.\n",
    "      for j in range(4):\n",
    "        row = min((i for i in range(nrows) if state[7 + i * 4 + j] != '.'), default=None)\n",
    "        if row is None:\n",
    "          continue\n",
    "        i0 = 7 + row * 4 + j\n",
    "        id = state[i0]\n",
    "        if id == chr(ord('A') + j) and not any(\n",
    "            state[7 + i * 4 + j] != id for i in range(row + 1, nrows)\n",
    "        ):\n",
    "          continue\n",
    "        for i1 in range(2 + j, 7):  # Move right in hallway.\n",
    "          if all(state[k] == '.' for k in range(2 + j, i1 + 1)):\n",
    "            yield i0, i1, ((i1 - j - 1) * 2 - (i1 == 6) + row) * cost_for_id[id]\n",
    "        for i1 in range(0, 2 + j):  # Move left in hallway\n",
    "          if all(state[k] == '.' for k in range(i1, 2 + j)):\n",
    "            yield i0, i1, ((j - i1 + 2) * 2 - (i1 == 0) + row) * cost_for_id[id]\n",
    "\n",
    "    def apply_move(state, i0, i1):\n",
    "      id = state[i0]  # id in 'ABCD'\n",
    "      state2 = list(state)\n",
    "      state2[i0] = '.'\n",
    "      state2[i1] = id  # (previously '.')\n",
    "      return tuple(state2)\n",
    "\n",
    "    return min(\n",
    "        (\n",
    "            move_cost + compute_cost(apply_move(state, i0, i1))\n",
    "            for i0, i1, move_cost in eligible_moves(state)\n",
    "        ),\n",
    "        default=10**8,\n",
    "    )\n",
    "\n",
    "  return compute_cost(start_state)\n",
    "\n",
    "\n",
    "check_eq(day23a(s1), 12521)  # ~700 ms  (~330 s without lru_cache())\n",
    "# puzzle.verify(1, day23a)  # ~3.2 s  (>4600 s without lru_cache())\n",
    "\n",
    "day23a_part2 = functools.partial(day23a, part2=True)\n",
    "# check_eq(day23a_part2(s1), 44169)  # ~5.1 s.\n",
    "# puzzle.verify(2, day23a_part2)  # ~4.8 s."
   ]
  },
  {
   "cell_type": "code",
   "execution_count": 33,
   "id": "31131e17",
   "metadata": {
    "execution": {
     "iopub.execute_input": "2023-01-10T23:06:18.530096Z",
     "iopub.status.busy": "2023-01-10T23:06:18.529944Z",
     "iopub.status.idle": "2023-01-10T23:06:20.576942Z",
     "shell.execute_reply": "2023-01-10T23:06:20.576302Z",
     "shell.execute_reply.started": "2023-01-10T23:06:18.530083Z"
    },
    "lines_to_next_cell": 1,
    "tags": []
   },
   "outputs": [
    {
     "data": {
      "text/html": [
       "<table class=\"show_videos\" style=\"border-spacing:0px;\"><tr><td style=\"padding:1px;\"><img width=\"156\" height=\"84\" style=\"image-rendering:auto; object-fit:cover;\" src=\"data:image/gif;base64,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\"/></td></tr></table>"
      ],
      "text/plain": [
       "<IPython.core.display.HTML object>"
      ]
     },
     "metadata": {},
     "output_type": "display_data"
    }
   ],
   "source": [
    "def day23b(s, *, part2=False, visualize=False):  # With visualization.\n",
    "  lines = s.splitlines()\n",
    "  letters = [[line[3], line[5], line[7], line[9]] for line in lines[2:4]]\n",
    "  if part2:\n",
    "    letters[1:1] = [list('DCBA'), list('DBAC')]  # Insert two middle rows.\n",
    "  nrows = len(letters)\n",
    "  # State consists of the 7 eligible hallway locations and the room locations.\n",
    "  start_state = tuple(['.'] * 7 + list(more_itertools.flatten(letters)))\n",
    "  end_state = tuple(['.'] * 7 + list('ABCD') * nrows)\n",
    "  cost_for_id = {'A': 1, 'B': 10, 'C': 100, 'D': 1000}\n",
    "\n",
    "  def as_grid(state):\n",
    "    t = state\n",
    "    a = ['#############', f'#{t[0]}{t[1]}.{t[2]}.{t[3]}.{t[4]}.{t[5]}{t[6]}#']\n",
    "    for i in range(nrows):\n",
    "      s = '  ' if i > 0 else '##'\n",
    "      a.append(s + ''.join(f'#{t[7 + 4 * i + j]}' for j in range(4)) + f'#{s}')\n",
    "    a.append('  #########  ')\n",
    "    return np.array([list(line) for line in a])\n",
    "\n",
    "  def eligible_moves(state):  # Yields (i0, i1, move_cost)\n",
    "    # Move from the hallway position `i0` to a room `j`.\n",
    "    for i0 in range(7):\n",
    "      id = state[i0]\n",
    "      if id == '.':\n",
    "        continue\n",
    "      j = ord(id) - ord('A')\n",
    "      row = max((i for i in range(nrows) if state[7 + i * 4 + j] == '.'), default=None)\n",
    "      if row is None or not all(state[7 + i * 4 + j] == id for i in range(row + 1, nrows)):\n",
    "        continue\n",
    "      i1 = 7 + row * 4 + j\n",
    "      move_right = i0 <= j + 1\n",
    "      if all(state[k] == '.' for k in (range(i0 + 1, 2 + j) if move_right else range(2 + j, i0))):\n",
    "        move_cost = (\n",
    "            (j - i0 + 2) * 2 - (i0 == 0) + row if move_right else (i0 - j - 1) * 2 - (i0 == 6) + row\n",
    "        ) * cost_for_id[id]\n",
    "        yield i0, i1, move_cost\n",
    "\n",
    "    # Move from a room `j` to the hallway position `i1`.\n",
    "    for j in range(4):\n",
    "      row = min((i for i in range(nrows) if state[7 + i * 4 + j] != '.'), default=None)\n",
    "      if row is None:\n",
    "        continue\n",
    "      i0 = 7 + row * 4 + j\n",
    "      id = state[i0]\n",
    "      if id == chr(ord('A') + j) and not any(\n",
    "          state[7 + i * 4 + j] != id for i in range(row + 1, nrows)\n",
    "      ):\n",
    "        continue\n",
    "      for i1 in range(2 + j, 7):  # Move right in hallway.\n",
    "        if all(state[k] == '.' for k in range(2 + j, i1 + 1)):\n",
    "          yield i0, i1, ((i1 - j - 1) * 2 - (i1 == 6) + row) * cost_for_id[id]\n",
    "      for i1 in range(0, 2 + j):  # Move left in hallway\n",
    "        if all(state[k] == '.' for k in range(i1, 2 + j)):\n",
    "          yield i0, i1, ((j - i1 + 2) * 2 - (i1 == 0) + row) * cost_for_id[id]\n",
    "\n",
    "  def apply_move(state, i0, i1):\n",
    "    id = state[i0]\n",
    "    # assert id in 'ABCD' and state[i1] == '.' and 0 < distance <= 8 + nrows\n",
    "    # assert i1 < 7 or id == 'ABCD'[(i1 - 7) % 4]\n",
    "    state2 = list(state)\n",
    "    state2[i0] = '.'\n",
    "    state2[i1] = id\n",
    "    return tuple(state2)\n",
    "\n",
    "  @functools.lru_cache(maxsize=None)\n",
    "  def explore(state):  # Returns (cost, i0, i1) for best move.\n",
    "    if state == end_state:\n",
    "      return 0, 0, 0\n",
    "    best = 10**8, 0, 0  # cost, i0, i1\n",
    "    for i0, i1, move_cost in eligible_moves(state):\n",
    "      state2 = apply_move(state, i0, i1)\n",
    "      candidate_cost = move_cost + explore(state2)[0]\n",
    "      if candidate_cost < best[0]:\n",
    "        best = candidate_cost, i0, i1\n",
    "\n",
    "    return best\n",
    "\n",
    "  best = explore(start_state)\n",
    "\n",
    "  if visualize:\n",
    "\n",
    "    def make_image(grid, size=12):\n",
    "      cmap = {\n",
    "          ' ': (250,) * 3,\n",
    "          '.': (240,) * 3,\n",
    "          '#': (190,) * 3,\n",
    "          'A': (180, 0, 0),\n",
    "          'B': (0, 180, 0),\n",
    "          'C': (50, 50, 250),\n",
    "          'D': (250, 120, 0),\n",
    "      }\n",
    "      a = np.array([cmap[e] for e in grid.flat], np.uint8)\n",
    "      return a.reshape(*grid.shape, 3).repeat(size, axis=0).repeat(size, axis=1)\n",
    "\n",
    "    def get_pos(i0):\n",
    "      return (\n",
    "          (1, 1 + i0 * 2 - (i0 > 0) - (i0 == 6))\n",
    "          if i0 < 7\n",
    "          else (2 + (i0 - 7) // 4, 3 + (i0 - 7) % 4 * 2)\n",
    "      )\n",
    "\n",
    "    images = []\n",
    "    state = start_state\n",
    "    grid = as_grid(state)\n",
    "    images.append(make_image(grid))\n",
    "    while True:\n",
    "      # print('\\n'.join(''.join(line) for line in as_grid(state)))\n",
    "      cost, i0, i1 = explore(state)\n",
    "      if not cost:\n",
    "        break\n",
    "      y0, x0 = get_pos(i0)\n",
    "      y1, x1 = get_pos(i1)\n",
    "      while (y0, x0) != (y1, x1):\n",
    "        grid[y0, x0] = '.'\n",
    "        if y0 == 1 and x0 != x1:\n",
    "          x0 += np.sign(x1 - x0)\n",
    "        else:\n",
    "          y0 += np.sign(y1 - y0)\n",
    "        grid[y0, x0] = state[i0]\n",
    "        images.append(make_image(grid))\n",
    "      state = apply_move(state, i0, i1)\n",
    "\n",
    "    images = [images[0]] * 16 + images + [images[-1]] * 8\n",
    "    media.show_video(images, codec='gif', fps=10)\n",
    "\n",
    "  return best[0]\n",
    "\n",
    "\n",
    "check_eq(day23b(s1), 12521)  # ~700 ms\n",
    "# puzzle.verify(1, day23b)  # ~3.3 s  (>4600 s without lru_cache())\n",
    "\n",
    "day23b_part2 = functools.partial(day23b, part2=True)\n",
    "# check_eq(day23b_part2(s1), 44169)  # ~5.1 s.\n",
    "# puzzle.verify(2, day23b_part2)  # ~5.0 s.\n",
    "\n",
    "_ = day23b_part2(puzzle.input, visualize=True)  # ~5.0 s."
   ]
  },
  {
   "cell_type": "code",
   "execution_count": 34,
   "id": "0f14b923",
   "metadata": {
    "execution": {
     "iopub.execute_input": "2023-01-10T23:06:20.578102Z",
     "iopub.status.busy": "2023-01-10T23:06:20.577731Z",
     "iopub.status.idle": "2023-01-10T23:06:20.917201Z",
     "shell.execute_reply": "2023-01-10T23:06:20.916323Z",
     "shell.execute_reply.started": "2023-01-10T23:06:20.578087Z"
    },
    "tags": []
   },
   "outputs": [
    {
     "name": "stdout",
     "output_type": "stream",
     "text": [
      "(Part 1: 0.259 s)\n"
     ]
    }
   ],
   "source": [
    "def day23c(s, *, part2=False):  # Dijkstra or A* search.\n",
    "  lines = s.splitlines()\n",
    "  letters = [[line[3], line[5], line[7], line[9]] for line in lines[2:4]]\n",
    "  if part2:\n",
    "    letters[1:1] = [list('DCBA'), list('DBAC')]  # Insert two middle rows.\n",
    "  nrows = len(letters)\n",
    "  # State consists of the 7 eligible hallway locations and the room locations.\n",
    "  start_state = tuple(['.'] * 7 + list(more_itertools.flatten(letters)))\n",
    "  end_state = tuple(['.'] * 7 + list('ABCD') * nrows)\n",
    "  cost_for_id = {'A': 1, 'B': 10, 'C': 100, 'D': 1000}\n",
    "\n",
    "  def eligible_moves(state):  # Yields (i0, i1, move_cost)\n",
    "    # Move from the hallway position `i0` to a room `j`.\n",
    "    for i0 in range(7):\n",
    "      id = state[i0]\n",
    "      if id == '.':\n",
    "        continue\n",
    "      j = ord(id) - ord('A')\n",
    "      row = max((i for i in range(nrows) if state[7 + i * 4 + j] == '.'), default=None)\n",
    "      if row is None or not all(state[7 + i * 4 + j] == id for i in range(row + 1, nrows)):\n",
    "        continue\n",
    "      i1 = 7 + row * 4 + j\n",
    "      move_right = i0 <= j + 1\n",
    "      if all(state[k] == '.' for k in (range(i0 + 1, 2 + j) if move_right else range(2 + j, i0))):\n",
    "        move_cost = (\n",
    "            (j - i0 + 2) * 2 - (i0 == 0) + row if move_right else (i0 - j - 1) * 2 - (i0 == 6) + row\n",
    "        ) * cost_for_id[id]\n",
    "        yield i0, i1, move_cost\n",
    "\n",
    "    # Move from a room `j` to the hallway position `i1`.\n",
    "    for j in range(4):\n",
    "      row = min((i for i in range(nrows) if state[7 + i * 4 + j] != '.'), default=None)\n",
    "      if row is None:\n",
    "        continue\n",
    "      i0 = 7 + row * 4 + j\n",
    "      id = state[i0]\n",
    "      if id == chr(ord('A') + j) and not any(\n",
    "          state[7 + i * 4 + j] != id for i in range(row + 1, nrows)\n",
    "      ):\n",
    "        continue\n",
    "      for i1 in range(2 + j, 7):  # Move right in hallway.\n",
    "        if all(state[k] == '.' for k in range(2 + j, i1 + 1)):\n",
    "          yield i0, i1, ((i1 - j - 1) * 2 - (i1 == 6) + row) * cost_for_id[id]\n",
    "      for i1 in range(0, 2 + j):  # Move left in hallway\n",
    "        if all(state[k] == '.' for k in range(i1, 2 + j)):\n",
    "          yield i0, i1, ((j - i1 + 2) * 2 - (i1 == 0) + row) * cost_for_id[id]\n",
    "\n",
    "  def apply_move(state, i0, i1):\n",
    "    id = state[i0]\n",
    "    # assert id in 'ABCD' and state[i1] == '.' and 0 < distance <= 8 + nrows\n",
    "    # assert i1 < 7 or id == 'ABCD'[(i1 - 7) % 4]\n",
    "    state2 = list(state)\n",
    "    state2[i0] = '.'\n",
    "    state2[i1] = id\n",
    "    return tuple(state2)\n",
    "\n",
    "  def lower_bound_cost(state):\n",
    "    cost = 0\n",
    "    for i0 in range(7):\n",
    "      id = state[i0]\n",
    "      if id != '.':\n",
    "        j = ord(id) - ord('A')\n",
    "        move_right = i0 <= j + 1\n",
    "        cost += (\n",
    "            (j - i0 + 2) * 2 - (i0 == 0) if move_right else (i0 - j - 1) * 2 - (i0 == 6)\n",
    "        ) * cost_for_id[id]\n",
    "    for row in range(nrows):\n",
    "      for j in range(4):\n",
    "        i0 = 7 + row * 4 + j\n",
    "        id = state[i0]\n",
    "        if id != '.':\n",
    "          j2 = ord(id) - ord('A')\n",
    "          if j2 != j:\n",
    "            cost += (row + 2 + abs(j - j2) * 2) * cost_for_id[id]\n",
    "    return cost\n",
    "\n",
    "  check_eq(lower_bound_cost(end_state), 0)\n",
    "  use_a_star = True  # Else ordinary Dijkstra search.\n",
    "  distances = collections.defaultdict(lambda: 10**8)\n",
    "  distances[start_state] = 0\n",
    "  pq = [(0, start_state)]\n",
    "  while pq:\n",
    "    _, state = heapq.heappop(pq)\n",
    "    distance = distances[state]\n",
    "    if state == end_state:\n",
    "      return distance\n",
    "    for i0, i1, move_cost in eligible_moves(state):\n",
    "      candidate_d = distance + move_cost\n",
    "      state2 = apply_move(state, i0, i1)\n",
    "      if candidate_d < distances[state2]:\n",
    "        distances[state2] = candidate_d\n",
    "        # https://en.wikipedia.org/wiki/A*_search_algorithm\n",
    "        f = candidate_d + lower_bound_cost(state2) if use_a_star else candidate_d\n",
    "        heapq.heappush(pq, (f, state2))\n",
    "\n",
    "\n",
    "check_eq(day23c(s1), 12521)  # ~0.18 s with A* (~0.7 s with Dijkstra).\n",
    "puzzle.verify(1, day23c)  # ~0.8s with A*  (~2.8 s with Dijkstra).\n",
    "\n",
    "day23c_part2 = functools.partial(day23c, part2=True)\n",
    "# check_eq(day23c_part2(s1), 44169)  # ~4.9 s with A*  (~11 s with Dijkstra).\n",
    "# puzzle.verify(2, day23c_part2)  # ~6.0 s with A*  (~5.2 s with Dijkstra)."
   ]
  },
  {
   "cell_type": "code",
   "execution_count": 35,
   "id": "5065d148",
   "metadata": {
    "execution": {
     "iopub.execute_input": "2023-01-10T23:06:20.918439Z",
     "iopub.status.busy": "2023-01-10T23:06:20.918230Z",
     "iopub.status.idle": "2023-01-10T23:06:26.909602Z",
     "shell.execute_reply": "2023-01-10T23:06:26.908965Z",
     "shell.execute_reply.started": "2023-01-10T23:06:20.918424Z"
    },
    "tags": []
   },
   "outputs": [
    {
     "name": "stdout",
     "output_type": "stream",
     "text": [
      "(Part 1: 0.025 s)\n",
      "(Part 2: 0.165 s)\n"
     ]
    }
   ],
   "source": [
    "# Dijkstra/A*, but mangled to support numba.\n",
    "@numba.njit\n",
    "def day23_func(nrows, start_state, end_state, state_size):\n",
    "  # State consists of the 7 eligible hallway locations and the room locations.\n",
    "  cost_for_id = {0: 1, 1: 10, 2: 100, 3: 1000}\n",
    "\n",
    "  def apply_move(state, i0, i1):\n",
    "    id = state[i0]\n",
    "    # assert 0 <= id < 4 and state[i1] < 0\n",
    "    # assert i1 < 7 or id == (i1 - 7) % 4\n",
    "    if using_numba:\n",
    "      # https://numba.discourse.group/t/how-to-use-a-sequence-as-dict-key/431/11\n",
    "      # https://github.com/numba/numba/blob/master/numba/tests/test_unsafe_intrinsics.py\n",
    "      if 1:  # Fast.\n",
    "        setitem = numba.cpython.unsafe.tuple.tuple_setitem\n",
    "        return setitem(setitem(state, i0, -1), i1, id)  # pylint: disable=no-value-for-parameter\n",
    "      # Slower.\n",
    "      state2 = np.array(state)\n",
    "      state2[i0] = -1\n",
    "      state2[i1] = id\n",
    "      to_fixed = numba.np.unsafe.ndarray.to_fixed_tuple  # pylint: disable=no-member\n",
    "      return to_fixed(state2, state_size)\n",
    "    state2 = list(state)\n",
    "    state2[i0] = -1\n",
    "    state2[i1] = id\n",
    "    return tuple(state2)\n",
    "\n",
    "  def lower_bound_cost(state):\n",
    "    cost = 0\n",
    "    for i0 in range(7):\n",
    "      id = state[i0]\n",
    "      if id >= 0:\n",
    "        move_right = i0 <= id + 1\n",
    "        cost += (\n",
    "            (id - i0 + 2) * 2 - (i0 == 0) if move_right else (i0 - id - 1) * 2 - (i0 == 6)\n",
    "        ) * cost_for_id[id]\n",
    "    for row in range(nrows):\n",
    "      for j in range(4):\n",
    "        i0 = 7 + row * 4 + j\n",
    "        id = state[i0]\n",
    "        if id >= 0:\n",
    "          if id != j:\n",
    "            cost += (row + 2 + abs(j - id) * 2) * cost_for_id[id]\n",
    "    return cost\n",
    "\n",
    "  assert lower_bound_cost(end_state) == 0\n",
    "  use_a_star = True  # A* search rather than ordinary Dijkstra algorithm.\n",
    "  distances = {start_state: 0}\n",
    "  pq = [(0, start_state)]\n",
    "  while pq:\n",
    "    _, state = heapq.heappop(pq)\n",
    "    distance = distances[state]\n",
    "    if state == end_state:\n",
    "      return distance\n",
    "\n",
    "    def consider(i0, i1, move_cost):\n",
    "      candidate_d = distance + move_cost\n",
    "      state2 = apply_move(state, i0, i1)\n",
    "      if state2 not in distances or candidate_d < distances[state2]:\n",
    "        distances[state2] = candidate_d\n",
    "        # https://en.wikipedia.org/wiki/A*_search_algorithm\n",
    "        f = candidate_d + lower_bound_cost(state2) if use_a_star else candidate_d\n",
    "        heapq.heappush(pq, (f, state2))\n",
    "\n",
    "    # Move from the hallway position `i0` to a room `j`.\n",
    "    for i0 in range(7):\n",
    "      id = state[i0]\n",
    "      if id < 0:\n",
    "        continue\n",
    "      for row in range(nrows - 1, -1, -1):\n",
    "        if state[7 + row * 4 + id] < 0:\n",
    "          break\n",
    "      else:\n",
    "        continue\n",
    "      # (\"any(state[7 + i * 4 + id] != id for i in range(row + 1, nrows))\" disallowed in numba.)\n",
    "      bad = False\n",
    "      for i in range(row + 1, nrows):\n",
    "        if state[7 + i * 4 + id] != id:\n",
    "          bad = True\n",
    "          break\n",
    "      if bad:\n",
    "        continue\n",
    "      i1 = 7 + row * 4 + id\n",
    "      move_right = i0 <= id + 1\n",
    "      for k in range(i0 + 1, 2 + id) if move_right else range(2 + id, i0):\n",
    "        if state[k] >= 0:\n",
    "          break\n",
    "      else:\n",
    "        move_cost = (\n",
    "            (id - i0 + 2) * 2 - (i0 == 0) + row\n",
    "            if move_right\n",
    "            else (i0 - id - 1) * 2 - (i0 == 6) + row\n",
    "        ) * cost_for_id[id]\n",
    "        consider(i0, i1, move_cost)\n",
    "\n",
    "    # Move from a room `j` to the hallway position `i1`.\n",
    "    for j in range(4):\n",
    "      for row in range(nrows):\n",
    "        if state[7 + row * 4 + j] >= 0:\n",
    "          break\n",
    "      else:\n",
    "        continue\n",
    "      i0 = 7 + row * 4 + j\n",
    "      id = state[i0]\n",
    "      if id == j:\n",
    "        for i in range(row + 1, nrows):\n",
    "          if state[7 + i * 4 + j] != id:\n",
    "            break\n",
    "        else:\n",
    "          continue\n",
    "      for i1 in range(2 + j, 7):  # Move right in hallway.\n",
    "        for k in range(2 + j, i1 + 1):\n",
    "          if state[k] >= 0:\n",
    "            break\n",
    "        else:\n",
    "          move_cost = ((i1 - j - 1) * 2 - (i1 == 6) + row) * cost_for_id[id]\n",
    "          consider(i0, i1, move_cost)\n",
    "      for i1 in range(0, 2 + j):  # Move left in hallway\n",
    "        for k in range(i1, 2 + j):\n",
    "          if state[k] >= 0:\n",
    "            break\n",
    "        else:\n",
    "          move_cost = ((j - i1 + 2) * 2 - (i1 == 0) + row) * cost_for_id[id]\n",
    "          consider(i0, i1, move_cost)\n",
    "\n",
    "\n",
    "def day23(s, *, part2=False):\n",
    "  lines = s.splitlines()\n",
    "  letters = [[line[3], line[5], line[7], line[9]] for line in lines[2:4]]\n",
    "  if part2:\n",
    "    letters[1:1] = [list('DCBA'), list('DBAC')]  # Insert two middle rows.\n",
    "  nrows = len(letters)\n",
    "  start_state = tuple([-1] * 7 + [ord(ch) - ord('A') for ch in more_itertools.flatten(letters)])\n",
    "  end_state = tuple([-1] * 7 + [0, 1, 2, 3] * nrows)\n",
    "  state_size = len(start_state)\n",
    "  return day23_func(nrows, start_state, end_state, state_size)\n",
    "\n",
    "\n",
    "# ~6 s for numba compilation.\n",
    "check_eq(day23(s1), 12521)  # ~38 ms with A* (~75 ms with Dijkstra).\n",
    "puzzle.verify(1, day23)  # ~85 ms with A*  (~270 ms with Dijkstra).\n",
    "\n",
    "day23_part2 = functools.partial(day23, part2=True)\n",
    "# ~6 s for numba compilation.\n",
    "check_eq(day23_part2(s1), 44169)  # ~330 ms with A*  (~400 ms with Dijkstra).\n",
    "puzzle.verify(2, day23_part2)  # ~380 ms with A*  (~390 ms with Dijkstra)."
   ]
  },
  {
   "cell_type": "markdown",
   "id": "7d5ac19e",
   "metadata": {},
   "source": [
    "For my particular `puzzle.input`, in Part 2 the A* search algorithm does not provide much benefit because the expensive `'D'` objects cannot be moved until near the end of the move sequence."
   ]
  },
  {
   "cell_type": "code",
   "execution_count": 36,
   "id": "c723242a",
   "metadata": {
    "execution": {
     "iopub.execute_input": "2023-01-10T23:06:26.910692Z",
     "iopub.status.busy": "2023-01-10T23:06:26.910519Z",
     "iopub.status.idle": "2023-01-10T23:06:26.913594Z",
     "shell.execute_reply": "2023-01-10T23:06:26.913018Z",
     "shell.execute_reply.started": "2023-01-10T23:06:26.910678Z"
    }
   },
   "outputs": [],
   "source": [
    "# Note: defining state as str rather than tuple has no effect on timings.\n",
    "\n",
    "# Note: using slicing rather than temp list in apply_move() has no effect:\n",
    "# state2 = (state[:i0] + ('.',) + state[i0+1:i1] + (id,) + state[i1+1:] if i0 < i1 else\n",
    "#           state[:i1] + (id,) + state[i1+1:i0] + ('.',) + state[i0+1:])\n",
    "# state2 = tuple_replace(tuple_replace(state, i0, '.'), i1, id)\n",
    "# state2 = (state[:i0] + '.' + state[i0+1:i1] + id + state[i1+1:] if i0 < i1 else\n",
    "#           state[:i1] + id + state[i1+1:i0] + '.' + state[i0+1:])"
   ]
  },
  {
   "cell_type": "markdown",
   "id": "49f7b53c",
   "metadata": {},
   "source": [
    "<a name=\"day24\"></a>\n",
    "## Day 24: Simulate number validator"
   ]
  },
  {
   "cell_type": "markdown",
   "id": "9f25e3c5",
   "metadata": {},
   "source": [
    "- Part 1: What is the largest model number accepted by MONAD?\n",
    "\n",
    "- Part 2: What is the smallest model number accepted by MONAD?\n",
    "\n",
    "---\n",
    "\n",
    "After carefully writing code for a machine emulator,\n",
    "I ended up solving this problem almost completely **by hand**.\n",
    "(I did use the emulator to verify that my manually obtained answers were admissible before submitting them.)\n",
    "\n",
    "The key observations are:\n",
    "\n",
    "- The input code has **14 blocks**, each with 18 code instructions.  One of those is an input instruction to read one of the 14 digits.\n",
    "\n",
    "- The 14 code blocks are very similar, and can be **parameterized by 3 literal values** (in instructions 4, 5, and 15).\n",
    "\n",
    "- After much simplification, the 18 instructions are seen to implement a simple **state machine with a stack** (i.e., a context-free grammar).\n",
    "\n",
    "- The machine encodes a set of **linear equality constraints** between pairs of digits in the input, e.g. `digit[i1] = digit[i2] + diff`.\n",
    "\n",
    "- Any digit that is unconstrained can be trivially assigned `9` or `1`, for the puzzle Part 1 or Part 2, respectively.\n",
    "\n",
    "- For a pair of constrained digits, we similarly assign either `9` or `1` to the upper or lower digit in the equality constraint, and then determine the value of the other digit.\n",
    "\n",
    "Alternative solutions:\n",
    "\n",
    "- I can see that one could search over possible digits by running the code emulator, and bounding the intermediate values of the generated `z` register values (perhaps also based on the number of remaining digits, as in A* search)."
   ]
  },
  {
   "cell_type": "code",
   "execution_count": 37,
   "id": "26ad0871",
   "metadata": {
    "execution": {
     "iopub.execute_input": "2023-01-10T23:06:26.914502Z",
     "iopub.status.busy": "2023-01-10T23:06:26.914140Z",
     "iopub.status.idle": "2023-01-10T23:06:26.936392Z",
     "shell.execute_reply": "2023-01-10T23:06:26.935652Z",
     "shell.execute_reply.started": "2023-01-10T23:06:26.914489Z"
    }
   },
   "outputs": [
    {
     "data": {
      "text/markdown": [
       "For [day 24](https://adventofcode.com/2021/day/24), `puzzle.input` has 252 lines:"
      ],
      "text/plain": [
       "<IPython.core.display.Markdown object>"
      ]
     },
     "metadata": {},
     "output_type": "display_data"
    },
    {
     "name": "stdout",
     "output_type": "stream",
     "text": [
      "inp w\n",
      "mul x 0\n",
      "add x z\n",
      "mod x 26\n",
      "div z 1\n",
      "add x 13\n",
      "eql x w\n",
      "eql x 0\n",
      " ...\n",
      "add y w\n",
      "add y 3\n",
      "mul y x\n",
      "add z y\n"
     ]
    },
    {
     "data": {
      "text/markdown": [
       "The stored answers are: `{1: '93499629698999', 2: '11164118121471'}`"
      ],
      "text/plain": [
       "<IPython.core.display.Markdown object>"
      ]
     },
     "metadata": {},
     "output_type": "display_data"
    }
   ],
   "source": [
    "puzzle = advent.puzzle(day=24)"
   ]
  },
  {
   "cell_type": "code",
   "execution_count": 38,
   "id": "416350ba",
   "metadata": {
    "execution": {
     "iopub.execute_input": "2023-01-10T23:06:26.937490Z",
     "iopub.status.busy": "2023-01-10T23:06:26.937182Z",
     "iopub.status.idle": "2023-01-10T23:06:26.947011Z",
     "shell.execute_reply": "2023-01-10T23:06:26.946473Z",
     "shell.execute_reply.started": "2023-01-10T23:06:26.937475Z"
    }
   },
   "outputs": [
    {
     "name": "stdout",
     "output_type": "stream",
     "text": [
      "(Part 1: 0.000 s)\n",
      "(Part 2: 0.000 s)\n"
     ]
    }
   ],
   "source": [
    "def day24a(s, *, part2=False, verbose=0):  # Careful, with emulator verification.\n",
    "  lines = s.splitlines()\n",
    "\n",
    "  def simulate(input):\n",
    "    regs = [0] * 4\n",
    "    for line in lines:\n",
    "      if verbose >= 2:\n",
    "        highlight = '  ****' if 'inp' in line else ''\n",
    "        print(f'{str(regs):34} {line}{highlight}')\n",
    "      args = line.split()\n",
    "      op = args[0]\n",
    "      if op == 'inp':\n",
    "        reg = ord(args[1]) - ord('w')\n",
    "        assert 0 <= reg < 4\n",
    "        regs[reg] = int(input[0])\n",
    "        assert 1 <= regs[reg] <= 9\n",
    "        input = input[1:]\n",
    "      else:\n",
    "        reg1 = ord(args[1]) - ord('w')\n",
    "        value = regs[ord(args[2]) - ord('w')] if args[2] in 'wxyz' else int(args[2])\n",
    "        if op == 'add':\n",
    "          regs[reg1] += value\n",
    "        elif op == 'mul':\n",
    "          regs[reg1] *= value\n",
    "        elif op == 'div':\n",
    "          assert value != 0\n",
    "          regs[reg1] = int(float(regs[reg1] / value))  # Round towards zero.\n",
    "        elif op == 'mod':\n",
    "          assert regs[reg1] >= 0 and value > 0\n",
    "          regs[reg1] %= value\n",
    "        elif op == 'eql':\n",
    "          regs[reg1] = int(regs[reg1] == value)\n",
    "        else:\n",
    "          assert False, op\n",
    "\n",
    "    valid = regs[3] == 0\n",
    "    if verbose >= 1:\n",
    "      print(f'{str(regs):34} {valid=}')\n",
    "    return valid\n",
    "\n",
    "  assert len(lines) == 14 * 18 == 252\n",
    "  params = {4: 'div z ', 5: 'add x ', 15: 'add y '}\n",
    "  assert all(lines[i].startswith(s) for m, s in params.items() for i in range(m, 253, 18))\n",
    "  a, b, c = [[int(lines[i].split()[-1]) for i in range(m, 253, 18)] for m in params]\n",
    "\n",
    "  solution: list[int | None] = [None] * 14\n",
    "  stack = []\n",
    "  for i in range(14):\n",
    "    if a[i] == 1:\n",
    "      stack.append((i, c[i]))\n",
    "    elif a[i] == 26:\n",
    "      j, old_c = stack.pop()\n",
    "      diff = old_c + b[i]\n",
    "      # The constraint is that solution[i] - solution[j] == diff.\n",
    "      assert -8 <= diff <= 8 and solution[i] is None and solution[j] is None\n",
    "      if part2:\n",
    "        solution[i] = 1 + diff if diff >= 0 else 1\n",
    "        solution[j] = 1 if diff >= 0 else 1 - diff\n",
    "      else:\n",
    "        solution[i] = 9 if diff >= 0 else 9 + diff\n",
    "        solution[j] = 9 - diff if diff >= 0 else 9\n",
    "    else:\n",
    "      assert False\n",
    "  assert not stack\n",
    "  solution = [e if e is not None else 1 if part2 else 9 for e in solution]\n",
    "\n",
    "  input = ''.join(map(str, solution))\n",
    "  check_eq(simulate(input), True)\n",
    "  return input\n",
    "\n",
    "\n",
    "puzzle.verify(1, day24a)  # ~0 ms.\n",
    "day24a_part2 = functools.partial(day24a, part2=True)\n",
    "puzzle.verify(2, day24a_part2)  # ~1 ms."
   ]
  },
  {
   "cell_type": "code",
   "execution_count": 39,
   "id": "57204679",
   "metadata": {
    "execution": {
     "iopub.execute_input": "2023-01-10T23:06:26.948344Z",
     "iopub.status.busy": "2023-01-10T23:06:26.947819Z",
     "iopub.status.idle": "2023-01-10T23:06:26.959500Z",
     "shell.execute_reply": "2023-01-10T23:06:26.958891Z",
     "shell.execute_reply.started": "2023-01-10T23:06:26.948329Z"
    }
   },
   "outputs": [
    {
     "name": "stdout",
     "output_type": "stream",
     "text": [
      "(Part 1: 0.000 s)\n",
      "(Part 2: 0.000 s)\n"
     ]
    }
   ],
   "source": [
    "def day24(s, *, part2=False):  # Compact.\n",
    "  lines = s.splitlines()\n",
    "  a, b, c = [[int(lines[i].split()[-1]) for i in range(m, 253, 18)] for m in (4, 5, 15)]\n",
    "  solution = [1 if part2 else 9] * 14\n",
    "  stack = []\n",
    "  for i in range(14):\n",
    "    if a[i] == 1:\n",
    "      stack.append((i, c[i]))\n",
    "    else:\n",
    "      j, old_c = stack.pop()\n",
    "      diff = old_c + b[i]\n",
    "      if part2:\n",
    "        solution[i] = 1 + diff if diff >= 0 else 1\n",
    "        solution[j] = 1 if diff >= 0 else 1 - diff\n",
    "      else:\n",
    "        solution[i] = 9 if diff >= 0 else 9 + diff\n",
    "        solution[j] = 9 - diff if diff >= 0 else 9\n",
    "\n",
    "  return ''.join(map(str, solution))\n",
    "\n",
    "\n",
    "puzzle.verify(1, day24)  # ~0 ms.\n",
    "day24_part2 = functools.partial(day24, part2=True)\n",
    "puzzle.verify(2, day24_part2)  # ~0 ms."
   ]
  },
  {
   "cell_type": "code",
   "execution_count": 40,
   "id": "7eed3d73",
   "metadata": {
    "execution": {
     "iopub.execute_input": "2023-01-10T23:06:26.961007Z",
     "iopub.status.busy": "2023-01-10T23:06:26.960426Z",
     "iopub.status.idle": "2023-01-10T23:06:26.969567Z",
     "shell.execute_reply": "2023-01-10T23:06:26.969048Z",
     "shell.execute_reply.started": "2023-01-10T23:06:26.960987Z"
    }
   },
   "outputs": [],
   "source": [
    "def day24_test1():  # Notice the repeated 18-line blocks; find the block differences:\n",
    "  lines = puzzle.input.splitlines()\n",
    "  for m in range(18):\n",
    "    print(f'{m} mod 18:')\n",
    "    set_ = set(line for i, line in enumerate(lines) if i % 18 == m)\n",
    "    print('   ' + '\\n   '.join(sorted(set_)))\n",
    "\n",
    "\n",
    "if 0:\n",
    "  day24_test1()"
   ]
  },
  {
   "cell_type": "code",
   "execution_count": 41,
   "id": "f5f8e5ec",
   "metadata": {
    "execution": {
     "iopub.execute_input": "2023-01-10T23:06:26.970271Z",
     "iopub.status.busy": "2023-01-10T23:06:26.970134Z",
     "iopub.status.idle": "2023-01-10T23:06:26.978734Z",
     "shell.execute_reply": "2023-01-10T23:06:26.978120Z",
     "shell.execute_reply.started": "2023-01-10T23:06:26.970260Z"
    }
   },
   "outputs": [],
   "source": [
    "def day24_test2():  # Extract the parameters of the 14 code blocks.\n",
    "  lines = puzzle.input.splitlines()\n",
    "  params = {4: 'div z ', 5: 'add x ', 15: 'add y '}\n",
    "  a, b, c = [[int(lines[i].split()[-1]) for i in range(m, 253, 18)] for m in params]\n",
    "  print(f'a = {a}')\n",
    "  print(list(zip(range(14), a, b, c)))\n",
    "\n",
    "\n",
    "if 0:\n",
    "  day24_test2()"
   ]
  },
  {
   "cell_type": "code",
   "execution_count": 42,
   "id": "4628b974",
   "metadata": {
    "execution": {
     "iopub.execute_input": "2023-01-10T23:06:26.979606Z",
     "iopub.status.busy": "2023-01-10T23:06:26.979451Z",
     "iopub.status.idle": "2023-01-10T23:06:26.987824Z",
     "shell.execute_reply": "2023-01-10T23:06:26.987223Z",
     "shell.execute_reply.started": "2023-01-10T23:06:26.979593Z"
    }
   },
   "outputs": [],
   "source": [
    "# Block of 18 lines repeated 14 times:\n",
    "# inp w     w = input\n",
    "# mul x 0\n",
    "# add x z\n",
    "# mod x 26  x = z % 26\n",
    "# div z 1   z /= a   where a = 1 or 26\n",
    "# add x 13  x += b   where b = -14, -13, -9, ..., 11, 12, 13, 15\n",
    "# eql x w\n",
    "# eql x 0   x = x != w\n",
    "# mul y 0\n",
    "# add y 25\n",
    "# mul y x\n",
    "# add y 1   y = x * 25 + 1\n",
    "# mul z y   z *= y\n",
    "# mul y 0\n",
    "# add y w   y = w\n",
    "# add y 14  y += c  where c = 3, 4, 5, 6, 7, 8, 10, 13, 13, 13, 14, 16\n",
    "# mul y x   y *= x\n",
    "# add z y   z += y"
   ]
  },
  {
   "cell_type": "code",
   "execution_count": 43,
   "id": "1fca8fe0",
   "metadata": {
    "execution": {
     "iopub.execute_input": "2023-01-10T23:06:26.988869Z",
     "iopub.status.busy": "2023-01-10T23:06:26.988557Z",
     "iopub.status.idle": "2023-01-10T23:06:26.996357Z",
     "shell.execute_reply": "2023-01-10T23:06:26.995874Z",
     "shell.execute_reply.started": "2023-01-10T23:06:26.988853Z"
    }
   },
   "outputs": [],
   "source": [
    "# Progressively simplify the code:\n",
    "\n",
    "# w = input  (1..9)\n",
    "# x = w != ((z % 26) + b)\n",
    "# z = int(z / a) * (x * 25 + 1)  +  (w + c) * x\n",
    "\n",
    "# where a = 1 or 26    (%18 == 4)\n",
    "# where b = -14, -13, -9, ..., 11, 12, 13, 15  (%18==5)\n",
    "# where c = 3, 4, 5, 6, 7, 8, 10, 13, 13, 13, 14, 16  (%18==15)"
   ]
  },
  {
   "cell_type": "code",
   "execution_count": 44,
   "id": "6318b2ff",
   "metadata": {
    "execution": {
     "iopub.execute_input": "2023-01-10T23:06:26.997236Z",
     "iopub.status.busy": "2023-01-10T23:06:26.997014Z",
     "iopub.status.idle": "2023-01-10T23:06:27.008150Z",
     "shell.execute_reply": "2023-01-10T23:06:27.007570Z",
     "shell.execute_reply.started": "2023-01-10T23:06:26.997223Z"
    }
   },
   "outputs": [],
   "source": [
    "# w = input  (1..9)\n",
    "# if w != ((z % 26) + b):\n",
    "#   z = int(z / a) * 26 + w + c\n",
    "# else:\n",
    "#   z = int(z / a)"
   ]
  },
  {
   "cell_type": "code",
   "execution_count": 45,
   "id": "bdc0964e",
   "metadata": {
    "execution": {
     "iopub.execute_input": "2023-01-10T23:06:27.008941Z",
     "iopub.status.busy": "2023-01-10T23:06:27.008784Z",
     "iopub.status.idle": "2023-01-10T23:06:27.016948Z",
     "shell.execute_reply": "2023-01-10T23:06:27.016396Z",
     "shell.execute_reply.started": "2023-01-10T23:06:27.008929Z"
    }
   },
   "outputs": [],
   "source": [
    "# w = input  (1..9)\n",
    "# if w != digits[0] + b\n",
    "#   if a == 26:\n",
    "#     digits[0] = w + c\n",
    "#   else:  # a == 1\n",
    "#     digits.push(w + c)\n",
    "# else:\n",
    "#   if a == 26:\n",
    "#     digits.pop()"
   ]
  },
  {
   "cell_type": "code",
   "execution_count": 46,
   "id": "0d5c3c74",
   "metadata": {
    "execution": {
     "iopub.execute_input": "2023-01-10T23:06:27.017675Z",
     "iopub.status.busy": "2023-01-10T23:06:27.017551Z",
     "iopub.status.idle": "2023-01-10T23:06:27.025671Z",
     "shell.execute_reply": "2023-01-10T23:06:27.025072Z",
     "shell.execute_reply.started": "2023-01-10T23:06:27.017664Z"
    }
   },
   "outputs": [],
   "source": [
    "# w = input  (1..9)\n",
    "# match = w == digits[-1] + b\n",
    "# if a == 26:\n",
    "#   if match:\n",
    "#     digits.pop()\n",
    "#   else:\n",
    "#     digits[-1] = w + c\n",
    "# else:  # a == 1\n",
    "#   if not match:\n",
    "#     digits.append(w + c)\n",
    "\n",
    "# valid = all(digit == 0 for digit in digits)\n",
    "# valid = not digits  # Actually, at least for this input."
   ]
  },
  {
   "cell_type": "code",
   "execution_count": 47,
   "id": "d253d953",
   "metadata": {
    "execution": {
     "iopub.execute_input": "2023-01-10T23:06:27.028141Z",
     "iopub.status.busy": "2023-01-10T23:06:27.027852Z",
     "iopub.status.idle": "2023-01-10T23:06:27.035090Z",
     "shell.execute_reply": "2023-01-10T23:06:27.034465Z",
     "shell.execute_reply.started": "2023-01-10T23:06:27.028128Z"
    }
   },
   "outputs": [],
   "source": [
    "# Run the code on my puzzle input.\n",
    "\n",
    "# match = w0 == (0) + 13  # False\n",
    "# append(w0 + 14)\n",
    "# [w0 + 14]\n",
    "\n",
    "# match = w1 == (w0 + 14) + 12  # False\n",
    "# append(w1 + 8)\n",
    "# [w0 + 14, w1 + 8]\n",
    "\n",
    "# match = w2 == (w1 + 8) + 11  # False\n",
    "# append(w2 + 5)\n",
    "# [w0 + 14, w1 + 8, w2 + 5]\n",
    "\n",
    "# match = w3 == (w2 + 5) + 0  # True   if w3 == w2 + 5\n",
    "# pop()    # (if not match, replace w1 + 8 by w3 + 4)\n",
    "# [w0 + 14, w1 + 8]\n",
    "\n",
    "# match = w4 == (w1 + 8) + 15  # False\n",
    "# append(w4 + 10)\n",
    "# [w0 + 14, w1 + 8, w4 + 10]\n",
    "\n",
    "# match = w5 == (w4 + 10) - 13  # True if w5 == w4 - 3\n",
    "# pop()\n",
    "# [w0 + 14, w1 + 8]\n",
    "\n",
    "# match = w6 == (w1 + 8) + 10  # False\n",
    "# append(w6 + 16)\n",
    "# [w0 + 14, w1 + 8, w6 + 16]\n",
    "\n",
    "# match = w7 == (w6 + 16) - 9  # True if w7 == w6 + 7\n",
    "# pop()\n",
    "# [w0 + 14, w1 + 8]\n",
    "\n",
    "# match = w8 == (w1 + 8) + 11  # False\n",
    "# append(w8 + 6)\n",
    "# [w0 + 14, w1 + 8, w8 + 6]\n",
    "\n",
    "# match = w9 == (w8 + 6) + 13  # False\n",
    "# append(w9 + 13)\n",
    "# [w0 + 14, w1 + 8, w8 + 6, w9 + 13]\n",
    "\n",
    "# match = w10 == (w9 + 13) - 14  # True if w10 == w9 - 1\n",
    "# pop()\n",
    "# [w0 + 14, w1 + 8, w8 + 6]\n",
    "\n",
    "# match = w11 == (w8 + 6) - 3  # True if w11 == w8 + 3\n",
    "# pop()\n",
    "# [w0 + 14, w1 + 8]\n",
    "\n",
    "# match = w12 == (w1 + 8) - 2  # True if w12 == w1 + 6\n",
    "# pop()\n",
    "# [w0 + 14]\n",
    "\n",
    "# match = w13 == (w0 + 14) - 14  # True if w13 == w0\n",
    "# pop()\n",
    "# []\n",
    "\n",
    "# Answers:\n",
    "# index: 01234567890123\n",
    "# max:   93499629698999\n",
    "# min:   11164118121471"
   ]
  },
  {
   "cell_type": "markdown",
   "id": "5977243c",
   "metadata": {},
   "source": [
    "<a name=\"day25\"></a>\n",
    "## Day 25: Slide objects right and down"
   ]
  },
  {
   "cell_type": "markdown",
   "id": "fe1e65f8",
   "metadata": {},
   "source": [
    "- Part 1: What is the first step on which no sea cucumbers move?\n",
    "\n",
    "- Part 2: There is no part 2 for this last day of the Advent.\n",
    "\n",
    "---\n",
    "\n",
    "See the related work on the [Biham–Middleton–Levine traffic model](https://en.wikipedia.org/wiki/Biham%E2%80%93Middleton%E2%80%93Levine_traffic_model).\n",
    "It's amazing that there is a whole area of research on this topic.\n",
    "\n",
    "I explored two approaches:\n",
    "\n",
    "1. Using a **2D `numpy` grid**, with `np.roll` operations to gather neighbors.  This makes for highly compact code.\n",
    "\n",
    "2. Additionally maintaining two lists of **candidate active nodes**, which have a possibility (but not guarantee) of being able to advance in the next step.  These lists provide a significant speedup in the latter part of the simulation when a smaller fraction of nodes are advancing."
   ]
  },
  {
   "cell_type": "code",
   "execution_count": 48,
   "id": "b4224432",
   "metadata": {
    "execution": {
     "iopub.execute_input": "2023-01-10T23:06:27.035872Z",
     "iopub.status.busy": "2023-01-10T23:06:27.035672Z",
     "iopub.status.idle": "2023-01-10T23:06:27.059204Z",
     "shell.execute_reply": "2023-01-10T23:06:27.058662Z",
     "shell.execute_reply.started": "2023-01-10T23:06:27.035858Z"
    },
    "tags": []
   },
   "outputs": [
    {
     "data": {
      "text/markdown": [
       "For [day 25](https://adventofcode.com/2021/day/25), `puzzle.input` has 137 lines:"
      ],
      "text/plain": [
       "<IPython.core.display.Markdown object>"
      ]
     },
     "metadata": {},
     "output_type": "display_data"
    },
    {
     "name": "stdout",
     "output_type": "stream",
     "text": [
      "v>..v.v>.>..>.......>v>v>v.vvv>..v...vv.>>......v..>...v....>>v...v..v.v...>v..> ... .>vvv..>v...>.vv>vv.v>>.....v>v.v.>\n",
      ">v.>.v.v.....>v>>v..v...>.>..>.>.vvvv..>vv.>.>v>.....v>>v>v.....>.v.>...>....v>. ... .>v.v.v..v.vv>vvvv>..v.>.v...v.>>.>\n",
      "v.>...>....vv.v>.>.v.v...v.v>...>.vv..>>v>>>..>>.v..vv>.>..>.vv.>vv.v....vvv>.vv ... v.v.v...>.v..v.>..>..v.v...v.v>.>>.\n",
      ".>..>>.>.....vv..vvv...>>>v.>v..v.>.v..>.v..vv..>....>........v.v>v..v>..v>>v>v> ... >..>......>v>>>>.v...>..>.....v.v.v\n",
      ">v>>..>.v........>....>v>.v.....v.v.v...v>..vv.v.>..>....>..v>.v....>>>v>v.v...v ... .>v>....>>..>.v>...v.vv.>>v..v>>v.v\n",
      "..>>v>....>..v>v..v.v..>.....v.>vv....v>....v.v>.>v>....v>.>..>>.vv.>>>..v.v>v.. ... ..v...vv>>.>>....vvv....vv>>v..>.vv\n",
      "..>..>.v>>...>.>>v...>>.v>vv.>>.>v>.v....v>vv.v>>v.vvv......vvv>...vvv>>v..>.vv. ... .v.vv>.....>.vv>..>>..v>>....>>vvv>\n",
      "..>.>>v.>>..v.>vv.>.....>.....v..>>.>......>>..v>...v....v..v.v.v..v..>..v...>>> ... >.vv>.vv>.v.vvvvv>vv>..>..>>.v>v..v\n",
      " ...\n",
      "....>v>.vv..v.v>..v..vv>.>.>.v>>v>>..>..>.>..>v.>.>.v.>>vv....>v.>>..v..vv.>.>.> ... >v.....>v.>.>..>.>v....>.v.v.vv.v.v\n",
      ".vv.>.>v.v.v>..v..v..v...>>>>.........vv>>..>.....>v>.>.v.....v..v>...>>>>.>>... ... .>>.v..>.v>.v.>..v.v.>..v>..>>>.v.>\n",
      ".>vvvvvv.vvv..>.>.v>v..>>>.....>v..v...vv>v.....>.v>.v.v....vv>>....>.>vvv.>>>.v ... ..v.v.v.v>.v.>.>.>...>..v>>..v.>.>.\n",
      "v..v>>..v....>v>.v>...vvv.>...v>.vv>vv>v>vv.....v>.>v.>.v..>v.>>..v>>>.>..>v.... ... .v.>>>vv>.>v.>.v.v.>>.>>>>..v...>..\n"
     ]
    },
    {
     "data": {
      "text/markdown": [
       "The stored answers are: `{1: '419', 2: ''}`"
      ],
      "text/plain": [
       "<IPython.core.display.Markdown object>"
      ]
     },
     "metadata": {},
     "output_type": "display_data"
    }
   ],
   "source": [
    "puzzle = advent.puzzle(day=25)"
   ]
  },
  {
   "cell_type": "code",
   "execution_count": 49,
   "id": "1a21f896",
   "metadata": {
    "execution": {
     "iopub.execute_input": "2023-01-10T23:06:27.060174Z",
     "iopub.status.busy": "2023-01-10T23:06:27.059875Z",
     "iopub.status.idle": "2023-01-10T23:06:27.062687Z",
     "shell.execute_reply": "2023-01-10T23:06:27.062175Z",
     "shell.execute_reply.started": "2023-01-10T23:06:27.060160Z"
    },
    "tags": []
   },
   "outputs": [],
   "source": [
    "s1 = \"\"\"\\\n",
    "v...>>.vv>\n",
    ".vv>>.vv..\n",
    ">>.>v>...v\n",
    ">>v>>.>.v.\n",
    "v>v.vv.v..\n",
    ">.>>..v...\n",
    ".vv..>.>v.\n",
    "v.v..>>v.v\n",
    "....v..v.>\n",
    "\"\"\""
   ]
  },
  {
   "cell_type": "code",
   "execution_count": 50,
   "id": "d871e397",
   "metadata": {
    "execution": {
     "iopub.execute_input": "2023-01-10T23:06:27.063361Z",
     "iopub.status.busy": "2023-01-10T23:06:27.063241Z",
     "iopub.status.idle": "2023-01-10T23:06:27.283058Z",
     "shell.execute_reply": "2023-01-10T23:06:27.282391Z",
     "shell.execute_reply.started": "2023-01-10T23:06:27.063350Z"
    },
    "tags": []
   },
   "outputs": [
    {
     "name": "stdout",
     "output_type": "stream",
     "text": [
      "(Part 1: 0.206 s)\n"
     ]
    }
   ],
   "source": [
    "def day25a(s):  # Compact and reasonably fast.\n",
    "  grid = np.array([list(line) for line in s.splitlines()])\n",
    "  for step in itertools.count(1):\n",
    "    moved = False\n",
    "    for ch, dyx in zip(['>', 'v'], np.array([[0, 1], [1, 0]])):\n",
    "      next = np.roll(grid, -dyx, axis=(0, 1))\n",
    "      can_move = (grid == ch) & (next == '.')\n",
    "      moved |= bool(can_move.any())\n",
    "      grid[can_move] = '.'\n",
    "      grid[np.roll(can_move, dyx, axis=(0, 1))] = ch\n",
    "    if not moved:\n",
    "      return step\n",
    "\n",
    "\n",
    "check_eq(day25a(s1), 58)\n",
    "puzzle.verify(1, day25a)  # ~550 ms.  (419 steps)"
   ]
  },
  {
   "cell_type": "code",
   "execution_count": 51,
   "id": "c8a96c52",
   "metadata": {
    "execution": {
     "iopub.execute_input": "2023-01-10T23:06:27.284186Z",
     "iopub.status.busy": "2023-01-10T23:06:27.283854Z",
     "iopub.status.idle": "2023-01-10T23:06:27.508331Z",
     "shell.execute_reply": "2023-01-10T23:06:27.507710Z",
     "shell.execute_reply.started": "2023-01-10T23:06:27.284169Z"
    },
    "tags": []
   },
   "outputs": [
    {
     "name": "stdout",
     "output_type": "stream",
     "text": [
      "(Part 1: 0.215 s)\n"
     ]
    }
   ],
   "source": [
    "def day25b(s):  # Same speed when using indices rather than boolean mask.\n",
    "  grid = np.array([list(line) for line in s.splitlines()])\n",
    "  for step in itertools.count(1):\n",
    "    moved = False\n",
    "    for ch, dyx in zip(['>', 'v'], np.array([[0, 1], [1, 0]])):\n",
    "      next = np.roll(grid, -dyx, axis=(0, 1))\n",
    "      can_move = (grid == ch) & (next == '.')\n",
    "      can_move_indices = np.nonzero(can_move)\n",
    "      grid[can_move_indices] = '.'\n",
    "      moved |= len(can_move_indices[0]) > 0\n",
    "      y, x = can_move_indices\n",
    "      if ch == '>':\n",
    "        x = (x + 1) % grid.shape[1]\n",
    "      else:\n",
    "        y = (y + 1) % grid.shape[0]\n",
    "      grid[y, x] = ch\n",
    "    if not moved:\n",
    "      return step\n",
    "\n",
    "\n",
    "check_eq(day25b(s1), 58)\n",
    "puzzle.verify(1, day25b)  # ~560 ms."
   ]
  },
  {
   "cell_type": "code",
   "execution_count": 52,
   "id": "72c979db",
   "metadata": {
    "execution": {
     "iopub.execute_input": "2023-01-10T23:06:27.509153Z",
     "iopub.status.busy": "2023-01-10T23:06:27.508965Z",
     "iopub.status.idle": "2023-01-10T23:06:27.514948Z",
     "shell.execute_reply": "2023-01-10T23:06:27.514380Z",
     "shell.execute_reply.started": "2023-01-10T23:06:27.509141Z"
    },
    "tags": []
   },
   "outputs": [],
   "source": [
    "def day25c(s, *, verbose=False, visualize=False):  # With visualization.\n",
    "  grid = np.array([list(line) for line in s.splitlines()])\n",
    "  images = []\n",
    "\n",
    "  for step in itertools.count(1):\n",
    "    moved = False\n",
    "    for ch, dyx in zip(['>', 'v'], np.array([[0, 1], [1, 0]])):\n",
    "      next = np.roll(grid, -dyx, axis=(0, 1))\n",
    "      can_move = (grid == ch) & (next == '.')\n",
    "      moved |= bool(can_move.any())\n",
    "      grid[can_move] = '.'\n",
    "      grid[np.roll(can_move, dyx, axis=(0, 1))] = ch\n",
    "      if verbose:\n",
    "        print('\\n' + '\\n'.join(''.join(line) for line in grid))\n",
    "\n",
    "    if visualize:\n",
    "      cmap = {'.': (240,) * 3, '>': (180, 0, 0), 'v': (0, 180, 0)}\n",
    "      a = np.array([cmap[e] for e in grid.flat], np.uint8)\n",
    "      image = a.reshape(*grid.shape, 3).repeat(2, axis=0).repeat(2, axis=1)\n",
    "      images.append(image)\n",
    "\n",
    "    if not moved:\n",
    "      if visualize:\n",
    "        images = [images[0]] * 50 + images + [images[-1]] * 50\n",
    "        media.show_video(images, codec='gif', fps=50)  # ~2 MB embedded GIF.\n",
    "      return step\n",
    "\n",
    "\n",
    "if SHOW_BIG_MEDIA:\n",
    "  _ = day25c(puzzle.input, visualize=True)  # Slow; ~14 s."
   ]
  },
  {
   "cell_type": "code",
   "execution_count": 53,
   "id": "12fe6d03",
   "metadata": {
    "execution": {
     "iopub.execute_input": "2023-01-10T23:06:27.515836Z",
     "iopub.status.busy": "2023-01-10T23:06:27.515550Z",
     "iopub.status.idle": "2023-01-10T23:06:28.486885Z",
     "shell.execute_reply": "2023-01-10T23:06:28.486338Z",
     "shell.execute_reply.started": "2023-01-10T23:06:27.515819Z"
    },
    "tags": []
   },
   "outputs": [
    {
     "name": "stdout",
     "output_type": "stream",
     "text": [
      "(Part 1: 0.058 s)\n"
     ]
    }
   ],
   "source": [
    "# Fastest: active sets and numba.\n",
    "@numba.njit\n",
    "def day25_func(grid):\n",
    "  height, width = grid.shape\n",
    "  candidate_right = [\n",
    "      (y, x)\n",
    "      for y in range(height)\n",
    "      for x in range(width)\n",
    "      if grid[y, x] == '>' and grid[y, (x + 1) % width] == '.'\n",
    "  ]\n",
    "  candidate_down = [\n",
    "      (y, x)\n",
    "      for y in range(height)\n",
    "      for x in range(width)\n",
    "      if grid[y, x] == 'v' and grid[(y + 1) % height, x] == '.'\n",
    "  ]\n",
    "\n",
    "  for step in range(1, 10**8):\n",
    "    moved = False\n",
    "\n",
    "    new_candidate_right = []\n",
    "    for y, x in candidate_right:\n",
    "      x2 = (x + 1) % width\n",
    "      if grid[y, x2] == '.':\n",
    "        moved = True\n",
    "        grid[y, x] = '.'\n",
    "        grid[y, x2] = '>'\n",
    "        if grid[y, (x + 2) % width] == '.':\n",
    "          new_candidate_right.append((y, x2))\n",
    "        if grid[(y - 1) % height, x] == 'v':\n",
    "          candidate_down.append(((y - 1) % height, x))\n",
    "        elif grid[y, (x - 1) % width] == '>':\n",
    "          new_candidate_right.append((y, (x - 1) % width))\n",
    "    candidate_right = new_candidate_right\n",
    "\n",
    "    new_candidate_down = []\n",
    "    for y, x in candidate_down:\n",
    "      y2 = (y + 1) % height\n",
    "      if grid[y2, x] == '.':\n",
    "        moved = True\n",
    "        grid[y, x] = '.'\n",
    "        grid[y2, x] = 'v'\n",
    "        if grid[(y + 2) % height, x] == '.':\n",
    "          new_candidate_down.append((y2, x))\n",
    "        if grid[y, (x - 1) % width] == '>':\n",
    "          candidate_right.append((y, (x - 1) % width))\n",
    "        elif grid[(y - 1) % height, x] == 'v':\n",
    "          new_candidate_down.append(((y - 1) % height, x))\n",
    "    candidate_down = new_candidate_down\n",
    "\n",
    "    if not moved:\n",
    "      return step\n",
    "\n",
    "\n",
    "def day25(s):\n",
    "  grid = np.array([list(line) for line in s.splitlines()])\n",
    "  return day25_func(grid)\n",
    "\n",
    "\n",
    "check_eq(day25(s1), 58)\n",
    "puzzle.verify(1, day25)  # ~180 ms.  (~1100 ms without numba)"
   ]
  },
  {
   "cell_type": "code",
   "execution_count": 54,
   "id": "fb457dcf",
   "metadata": {
    "execution": {
     "iopub.execute_input": "2023-01-10T23:06:28.488068Z",
     "iopub.status.busy": "2023-01-10T23:06:28.487621Z",
     "iopub.status.idle": "2023-01-10T23:06:28.491209Z",
     "shell.execute_reply": "2023-01-10T23:06:28.490739Z",
     "shell.execute_reply.started": "2023-01-10T23:06:28.488053Z"
    }
   },
   "outputs": [
    {
     "name": "stdout",
     "output_type": "stream",
     "text": [
      "(Part 2: 0.000 s)\n"
     ]
    }
   ],
   "source": [
    "puzzle.verify(2, lambda s: '')  # (No \"Part 2\" on last day.)\n",
    "# (aocd does not allow a blank answer; the answer is not submitted)"
   ]
  },
  {
   "cell_type": "markdown",
   "id": "1f72dc26",
   "metadata": {},
   "source": [
    "<a name=\"timings\"></a>\n",
    "## Timings"
   ]
  },
  {
   "cell_type": "code",
   "execution_count": 55,
   "id": "6ba60491",
   "metadata": {
    "execution": {
     "iopub.execute_input": "2023-01-10T23:06:28.492123Z",
     "iopub.status.busy": "2023-01-10T23:06:28.491752Z",
     "iopub.status.idle": "2023-01-10T23:06:28.501006Z",
     "shell.execute_reply": "2023-01-10T23:06:28.500525Z",
     "shell.execute_reply.started": "2023-01-10T23:06:28.492111Z"
    }
   },
   "outputs": [
    {
     "name": "stdout",
     "output_type": "stream",
     "text": [
      "day_21   part_1: 0.000   part_2: 0.001\n",
      "day_22   part_1: 0.002   part_2: 0.018\n",
      "day_23   part_1: 0.025   part_2: 0.165\n",
      "day_24   part_1: 0.000   part_2: 0.000\n",
      "day_25   part_1: 0.058   part_2: 0.000\n",
      "Total time:  0.269 s\n"
     ]
    }
   ],
   "source": [
    "advent.show_times()"
   ]
  },
  {
   "cell_type": "code",
   "execution_count": 56,
   "id": "10984b69",
   "metadata": {
    "execution": {
     "iopub.execute_input": "2023-01-10T23:06:28.501876Z",
     "iopub.status.busy": "2023-01-10T23:06:28.501627Z",
     "iopub.status.idle": "2023-01-10T23:06:28.509539Z",
     "shell.execute_reply": "2023-01-10T23:06:28.509048Z",
     "shell.execute_reply.started": "2023-01-10T23:06:28.501863Z"
    }
   },
   "outputs": [],
   "source": [
    "if 0:  # Compute min execution times over several calls.\n",
    "  advent.show_times(recompute=True, repeat=3)"
   ]
  },
  {
   "cell_type": "code",
   "execution_count": 57,
   "id": "2703a2e8",
   "metadata": {
    "execution": {
     "iopub.execute_input": "2023-01-10T23:06:28.510201Z",
     "iopub.status.busy": "2023-01-10T23:06:28.510076Z",
     "iopub.status.idle": "2023-01-10T23:06:28.518550Z",
     "shell.execute_reply": "2023-01-10T23:06:28.518066Z",
     "shell.execute_reply.started": "2023-01-10T23:06:28.510190Z"
    }
   },
   "outputs": [
    {
     "name": "stdout",
     "output_type": "stream",
     "text": [
      "puzzle s1 s2 s3 Kdtree test_kdtree\n"
     ]
    }
   ],
   "source": [
    "if 1:  # Look for unwanted pollution of namespace.\n",
    "  print(\n",
    "      textwrap.fill(\n",
    "          ' '.join(\n",
    "              name\n",
    "              for name, value in globals().items()\n",
    "              if not (name.startswith(('_', 'day')) or name in _ORIGINAL_GLOBALS)\n",
    "          )\n",
    "      )\n",
    "  )"
   ]
  },
  {
   "cell_type": "code",
   "execution_count": 58,
   "id": "92ae966f",
   "metadata": {
    "execution": {
     "iopub.execute_input": "2023-01-10T23:06:28.519428Z",
     "iopub.status.busy": "2023-01-10T23:06:28.519178Z",
     "iopub.status.idle": "2023-01-10T23:06:28.529669Z",
     "shell.execute_reply": "2023-01-10T23:06:28.529135Z",
     "shell.execute_reply.started": "2023-01-10T23:06:28.519417Z"
    }
   },
   "outputs": [],
   "source": [
    "if 0:  # Save puzzle inputs and answers to a compressed archive for downloading.\n",
    "  # Create a new tar.gz file.\n",
    "  hh.run(\n",
    "      f\"\"\"cd /mnt/c/hh/tmp && cp -rp ~/.config/aocd/'{PROFILE.replace(\"_\", \" \")}' '{PROFILE}' && tar -czf '{PROFILE}.tar.gz' '{PROFILE}'\"\"\"\n",
    "  )"
   ]
  },
  {
   "cell_type": "code",
   "execution_count": 59,
   "id": "544cb443",
   "metadata": {
    "execution": {
     "iopub.execute_input": "2023-01-10T23:06:28.530374Z",
     "iopub.status.busy": "2023-01-10T23:06:28.530254Z",
     "iopub.status.idle": "2023-01-10T23:06:28.538252Z",
     "shell.execute_reply": "2023-01-10T23:06:28.537760Z",
     "shell.execute_reply.started": "2023-01-10T23:06:28.530363Z"
    }
   },
   "outputs": [],
   "source": [
    "if 0:  # Look for misspelled words.\n",
    "  hh.run(\n",
    "      rf\"\"\"cat advent_of_code_{YEAR}.py | perl -pe \"s@https?:/.*?[)> ]@@g; s/'/ /g; s/\\\\\\\\n//g;\" | spell | sort -u || true\"\"\"\n",
    "  )"
   ]
  },
  {
   "cell_type": "code",
   "execution_count": 60,
   "id": "4127bce4",
   "metadata": {
    "execution": {
     "iopub.execute_input": "2023-01-10T23:06:28.538978Z",
     "iopub.status.busy": "2023-01-10T23:06:28.538852Z",
     "iopub.status.idle": "2023-01-10T23:06:28.547361Z",
     "shell.execute_reply": "2023-01-10T23:06:28.546745Z",
     "shell.execute_reply.started": "2023-01-10T23:06:28.538967Z"
    }
   },
   "outputs": [],
   "source": [
    "if 0:  # Lint.\n",
    "  hh.run('echo flake8; flake8')\n",
    "  hh.run('echo mypy; mypy . || true')\n",
    "  hh.run('echo autopep8; autopep8 -j8 -d .')\n",
    "  hh.run('echo pylint; pylint -j8 . || true')\n",
    "  print('All ran.')"
   ]
  },
  {
   "cell_type": "code",
   "execution_count": 61,
   "id": "c9c34d45",
   "metadata": {
    "execution": {
     "iopub.execute_input": "2023-01-10T23:06:28.548540Z",
     "iopub.status.busy": "2023-01-10T23:06:28.548116Z",
     "iopub.status.idle": "2023-01-10T23:06:28.556984Z",
     "shell.execute_reply": "2023-01-10T23:06:28.556455Z",
     "shell.execute_reply.started": "2023-01-10T23:06:28.548524Z"
    }
   },
   "outputs": [
    {
     "name": "stdout",
     "output_type": "stream",
     "text": [
      "# Total time: 18.39 s\n",
      "# In[ 35] # Dijkstra/A*, but mangled to support numba.\\n@numba.        5.981 s\n",
      "# In[ 29] # Mangled numba version of day22d; fastest.\\n@numba.         3.442 s\n",
      "# In[ 33] def day23b(s, *, part2=False, visualize=False):  # With      2.038 s\n",
      "# In[ 24] def day22b(s, *, part2=False):  # Using 3D grid over         1.897 s\n",
      "# In[ 53] # Fastest: active sets and numba.\\n@numba.njit\\ndef day25_   0.967 s\n",
      "# In[ 17] def day21b_part2(s):  # Avoiding functools.lru_cache().\\n    0.791 s\n",
      "# In[ 20] # Fastest, using numba.\\n@numba.njit\\ndef day21_part2_func(  0.737 s\n",
      "# In[ 25] def day22c(s, *, part2=False):  # Using CSG of boxes.\\n  #   0.436 s\n",
      "# In[ 34] def day23c(s, *, part2=False):  # Dijkstra or A* search.\\n   0.331 s\n",
      "# In[ 32] def day23a(s, *, part2=False):  # Compact.\\n  lines = s.     0.277 s\n",
      "# In[ 51] def day25b(s):  # Same speed when using indices rather       0.220 s\n",
      "# In[ 50] def day25a(s):  # Compact and reasonably fast.\\n  grid =     0.217 s\n",
      "# In[ 28] def day22e(s, *, part2=False):  # Using Kdtree.\\n  lines =   0.201 s\n",
      "# In[ 19] def day21d_part2(s, *, win_score=21, visualize=False):  #    0.155 s\n",
      "# In[ 16] def day21a_part2(s):  # Simple 3 \"for\" loops and caching.    0.154 s\n",
      "# In[ 26] def day22d(s, *, part2=False):  # Faster by reducing CSG     0.143 s\n",
      "# In[ 18] def day21c_part2(s):  # Numpy, vectorized on pos1.\\n         0.139 s\n",
      "# In[ 23] def day22a_part1(s):  # Initial specialized solution for     0.033 s\n",
      "# In[ 48] puzzle = advent.puzzle(day=25)                               0.021 s\n",
      "# In[ 37] puzzle = advent.puzzle(day=24)                               0.020 s\n"
     ]
    }
   ],
   "source": [
    "hh.show_notebook_cell_top_times()"
   ]
  },
  {
   "cell_type": "markdown",
   "id": "28fe83d2",
   "metadata": {},
   "source": [
    "# End"
   ]
  },
  {
   "cell_type": "code",
   "execution_count": 62,
   "id": "21be682a",
   "metadata": {
    "execution": {
     "iopub.execute_input": "2023-01-10T23:06:28.557882Z",
     "iopub.status.busy": "2023-01-10T23:06:28.557627Z",
     "iopub.status.idle": "2023-01-10T23:06:28.566345Z",
     "shell.execute_reply": "2023-01-10T23:06:28.565690Z",
     "shell.execute_reply.started": "2023-01-10T23:06:28.557867Z"
    },
    "lines_to_next_cell": 2
   },
   "outputs": [],
   "source": [
    "if 0:  # Original non-numpy versions.\n",
    "\n",
    "  def day19_encode_3d_old(point):\n",
    "    \"\"\"Packs three 21-bit signed integers into a 64-bit int.\"\"\"\n",
    "    return point[0] * 2**42 + point[1] * 2**21 + point[2]\n",
    "\n",
    "  def day19_decode_3d_old(value):\n",
    "    \"\"\"Extracts three 21-bit signed integers from a 64-bit int.\"\"\"\n",
    "    x = (value + 2**41) // 2**42\n",
    "    value -= x * 2**42\n",
    "    y = (value + 2**20) // 2**21\n",
    "    z = value - y * 2**21\n",
    "    return x, y, z"
   ]
  },
  {
   "cell_type": "code",
   "execution_count": 63,
   "id": "a5ee7b0a",
   "metadata": {
    "execution": {
     "iopub.execute_input": "2023-01-10T23:06:28.567342Z",
     "iopub.status.busy": "2023-01-10T23:06:28.567023Z",
     "iopub.status.idle": "2023-01-10T23:06:28.575555Z",
     "shell.execute_reply": "2023-01-10T23:06:28.574979Z",
     "shell.execute_reply.started": "2023-01-10T23:06:28.567329Z"
    }
   },
   "outputs": [],
   "source": [
    "if 0:  # Experiments with encoding three small ints into a large int.\n",
    "  if 0:\n",
    "\n",
    "    def encode(point):\n",
    "      return point[0] * 4_294_967_291 + point[1] * 65_521 + point[2]\n",
    "\n",
    "    def decode(value):  # Fails.\n",
    "      x, mod = divmod(value, 4_294_967_291)\n",
    "      y, z = divmod(mod, 65_521)\n",
    "      return x, y, z\n",
    "\n",
    "  else:\n",
    "\n",
    "    def encode(point):  # 64-bit encoding of three 21-bit signed integers.\n",
    "      return point[0] * 2**42 + point[1] * 2**21 + point[2]\n",
    "\n",
    "    def decode(value):\n",
    "      x = (value + 2**41) // 2**42\n",
    "      value -= x * 2**42\n",
    "      y = (value + 2**20) // 2**21\n",
    "      value -= y * 2**21\n",
    "      return x, y, value\n",
    "\n",
    "  def test():\n",
    "    for point in itertools.product(\n",
    "        [-30_000, -257, -256, -255, -10, -1, 0, 1, 10, 255, 256, 257, 30_000], repeat=3\n",
    "    ):\n",
    "      e = encode(point)\n",
    "      point2 = decode(e)\n",
    "      check_eq(point, point2)\n",
    "\n",
    "  test()"
   ]
  },
  {
   "cell_type": "code",
   "execution_count": 64,
   "id": "a0e12aad",
   "metadata": {
    "execution": {
     "iopub.execute_input": "2023-01-10T23:06:28.576312Z",
     "iopub.status.busy": "2023-01-10T23:06:28.576185Z",
     "iopub.status.idle": "2023-01-10T23:06:28.586716Z",
     "shell.execute_reply": "2023-01-10T23:06:28.586059Z",
     "shell.execute_reply.started": "2023-01-10T23:06:28.576301Z"
    }
   },
   "outputs": [],
   "source": [
    "# Restrict the path search in Day 15 to a matrix band.\n",
    "# def process1(s, part2=False, max_band=80):\n",
    "#   import scipy.linalg\n",
    "#   in_matrix_band = scipy.linalg.toeplitz(\n",
    "#       np.arange(stride) <= max_band).ravel()\n",
    "#   if candidate_d < distances[index2]:\n",
    "#     if in_matrix_band[index2]:\n",
    "#       distances[index2] = candidate_d\n",
    "#       heappush(pq, (candidate_d, index2))"
   ]
  },
  {
   "cell_type": "code",
   "execution_count": 65,
   "id": "e3e322e4",
   "metadata": {
    "execution": {
     "iopub.execute_input": "2023-01-10T23:06:28.587772Z",
     "iopub.status.busy": "2023-01-10T23:06:28.587432Z",
     "iopub.status.idle": "2023-01-10T23:06:28.595566Z",
     "shell.execute_reply": "2023-01-10T23:06:28.595003Z",
     "shell.execute_reply.started": "2023-01-10T23:06:28.587758Z"
    }
   },
   "outputs": [],
   "source": [
    "if 0:\n",
    "  ZIP_URL = f'https://github.com/hhoppe/advent_of_code_{YEAR}/raw/main/data/{PROFILE}.zip'\n",
    "  hh.run(\n",
    "      f'if [ ! -d data/{PROFILE} ]; then (mkdir -p data && cd data &&'\n",
    "      f' wget -q {ZIP_URL} && unzip -q {PROFILE}); fi'\n",
    "  )\n",
    "\n",
    "  # Create a new zip file, quietly (-q) and ignoring relative paths (-j).\n",
    "  hh.run(f\"\"\"!zip -q -j - ~/.config/aocd/'{PROFILE.replace(\"_\", \" \")}'/*.txt >/content/data.zip\"\"\")"
   ]
  },
  {
   "cell_type": "markdown",
   "id": "19e4e1b2",
   "metadata": {},
   "source": [
    "[[Open the notebook in mybinder.org]](https://mybinder.org/v2/gh/hhoppe/advent_of_code/main?filepath=2021/advent_of_code_2021.ipynb)"
   ]
  },
  {
   "cell_type": "markdown",
   "id": "cbdb45a1",
   "metadata": {},
   "source": [
    "<!-- For Emacs:\n",
    "Local Variables:\n",
    "fill-column: 100\n",
    "End:\n",
    "-->"
   ]
  }
 ],
 "metadata": {
  "colab": {
   "collapsed_sections": [],
   "provenance": [],
   "toc_visible": true
  },
  "jupytext": {
   "cell_metadata_filter": "-all",
   "formats": "ipynb,py:percent",
   "main_language": "python",
   "notebook_metadata_filter": "-all"
  },
  "kernelspec": {
   "display_name": "Python 3 (ipykernel)",
   "language": "python",
   "name": "python3"
  },
  "language_info": {
   "codemirror_mode": {
    "name": "ipython",
    "version": 3
   },
   "file_extension": ".py",
   "mimetype": "text/x-python",
   "name": "python",
   "nbconvert_exporter": "python",
   "pygments_lexer": "ipython3",
   "version": "3.10.6"
  }
 },
 "nbformat": 4,
 "nbformat_minor": 5
}
