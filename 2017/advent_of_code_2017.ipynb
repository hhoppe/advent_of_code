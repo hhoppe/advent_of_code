{
 "cells": [
  {
   "cell_type": "markdown",
   "id": "c239566e",
   "metadata": {},
   "source": [
    "# Advent of code 2017"
   ]
  },
  {
   "cell_type": "markdown",
   "id": "f819c4f7",
   "metadata": {},
   "source": [
    "[[**Open the notebook in Colab**]](https://colab.research.google.com/github/hhoppe/advent_of_code/blob/main/2017/advent_of_code_2017.ipynb)\n",
    "\n",
    "Jupyter [notebook](https://github.com/hhoppe/advent_of_code/blob/main/2017/advent_of_code_2017.ipynb)\n",
    "with Python solutions to the\n",
    "[2017 Advent of Code puzzles](https://adventofcode.com/2017),\n",
    "completed in November 2022,\n",
    "by [Hugues Hoppe](http://hhoppe.com/).\n",
    "\n",
    "The notebook presents both \"compact\" and \"fast\" code versions, along with data visualizations.\n",
    "\n",
    "For the fast solutions, the [cumulative time](#timings) across all 25 puzzles is less than 2 s on my PC.<br/>\n",
    "(Some solutions use the `numba` package to jit-compile functions, which can take a few seconds.)\n",
    "\n",
    "Here are some visualization results:\n",
    "\n",
    "<p>\n",
    "<a href=\"#day11\">day11</a> <img src=\"https://github.com/hhoppe/advent_of_code/raw/main/2017/results/day11.png\" width=\"256\"> &emsp;\n",
    "<a href=\"#day14\">day14</a> <img src=\"https://github.com/hhoppe/advent_of_code/raw/main/2017/results/day14.png\" width=\"256\">\n",
    "</p>\n",
    "<p>\n",
    "<a href=\"#day19\">day19</a> <img src=\"https://github.com/hhoppe/advent_of_code/raw/main/2017/results/day19.gif\" width=\"340\"> &emsp;\n",
    "<a href=\"#day22\">day22</a> <img src=\"https://github.com/hhoppe/advent_of_code/raw/main/2017/results/day22.png\" width=\"320\">\n",
    "</p>\n",
    "<p>\n",
    "<a href=\"#day21\">day21</a> <img src=\"https://github.com/hhoppe/advent_of_code/raw/main/2017/results/day21.png\" width=\"800\">\n",
    "</p>"
   ]
  },
  {
   "cell_type": "markdown",
   "id": "3d759f1d",
   "metadata": {},
   "source": [
    "<a name=\"preamble\"></a>\n",
    "## Preamble"
   ]
  },
  {
   "cell_type": "code",
   "execution_count": 1,
   "id": "e8e1f153",
   "metadata": {
    "execution": {
     "iopub.execute_input": "2023-04-19T05:24:09.476366Z",
     "iopub.status.busy": "2023-04-19T05:24:09.476228Z",
     "iopub.status.idle": "2023-04-19T05:24:09.597756Z",
     "shell.execute_reply": "2023-04-19T05:24:09.597183Z",
     "shell.execute_reply.started": "2023-04-19T05:24:09.476351Z"
    },
    "tags": []
   },
   "outputs": [],
   "source": [
    "!command -v ffmpeg >/dev/null || (apt-get -qq update && apt-get -qq -y install ffmpeg) >/dev/null"
   ]
  },
  {
   "cell_type": "code",
   "execution_count": 2,
   "id": "aeee3349",
   "metadata": {
    "execution": {
     "iopub.execute_input": "2023-04-19T05:24:09.599235Z",
     "iopub.status.busy": "2023-04-19T05:24:09.598853Z",
     "iopub.status.idle": "2023-04-19T05:24:10.859086Z",
     "shell.execute_reply": "2023-04-19T05:24:10.858533Z",
     "shell.execute_reply.started": "2023-04-19T05:24:09.599212Z"
    },
    "tags": []
   },
   "outputs": [],
   "source": [
    "!pip install -q advent-of-code-hhoppe hhoppe-tools mediapy more-itertools numba numpy"
   ]
  },
  {
   "cell_type": "code",
   "execution_count": 3,
   "id": "b7672379",
   "metadata": {
    "execution": {
     "iopub.execute_input": "2023-04-19T05:24:10.860137Z",
     "iopub.status.busy": "2023-04-19T05:24:10.859788Z",
     "iopub.status.idle": "2023-04-19T05:24:11.271597Z",
     "shell.execute_reply": "2023-04-19T05:24:11.270744Z",
     "shell.execute_reply.started": "2023-04-19T05:24:10.860120Z"
    },
    "tags": []
   },
   "outputs": [],
   "source": [
    "from __future__ import annotations\n",
    "\n",
    "import collections\n",
    "from collections.abc import Iterator\n",
    "import dataclasses\n",
    "import functools\n",
    "import graphlib\n",
    "import itertools\n",
    "import math\n",
    "import operator\n",
    "import pathlib\n",
    "import re\n",
    "import sys\n",
    "import types\n",
    "from typing import Any, Tuple\n",
    "\n",
    "import advent_of_code_hhoppe  # https://github.com/hhoppe/advent-of-code-hhoppe/blob/main/advent_of_code_hhoppe/__init__.py\n",
    "import hhoppe_tools as hh  # https://github.com/hhoppe/hhoppe-tools/blob/main/hhoppe_tools/__init__.py\n",
    "import matplotlib\n",
    "import matplotlib.pyplot as plt\n",
    "import mediapy as media  # https://github.com/google/mediapy/blob/main/mediapy/__init__.py\n",
    "import more_itertools\n",
    "import numpy as np"
   ]
  },
  {
   "cell_type": "code",
   "execution_count": 4,
   "id": "00c48f0e",
   "metadata": {
    "execution": {
     "iopub.execute_input": "2023-04-19T05:24:11.272886Z",
     "iopub.status.busy": "2023-04-19T05:24:11.272411Z",
     "iopub.status.idle": "2023-04-19T05:24:11.288858Z",
     "shell.execute_reply": "2023-04-19T05:24:11.288002Z",
     "shell.execute_reply.started": "2023-04-19T05:24:11.272869Z"
    },
    "tags": []
   },
   "outputs": [],
   "source": [
    "if not media.video_is_available():\n",
    "  media.show_videos = lambda *a, **kw: print('Creating video is unavailable.')"
   ]
  },
  {
   "cell_type": "code",
   "execution_count": 5,
   "id": "2c688fa5",
   "metadata": {
    "execution": {
     "iopub.execute_input": "2023-04-19T05:24:11.290324Z",
     "iopub.status.busy": "2023-04-19T05:24:11.289752Z",
     "iopub.status.idle": "2023-04-19T05:24:11.293530Z",
     "shell.execute_reply": "2023-04-19T05:24:11.292821Z",
     "shell.execute_reply.started": "2023-04-19T05:24:11.290291Z"
    },
    "tags": []
   },
   "outputs": [],
   "source": [
    "hh.start_timing_notebook_cells()"
   ]
  },
  {
   "cell_type": "code",
   "execution_count": 6,
   "id": "be91ac9d",
   "metadata": {
    "execution": {
     "iopub.execute_input": "2023-04-19T05:24:11.294356Z",
     "iopub.status.busy": "2023-04-19T05:24:11.294213Z",
     "iopub.status.idle": "2023-04-19T05:24:11.305166Z",
     "shell.execute_reply": "2023-04-19T05:24:11.304490Z",
     "shell.execute_reply.started": "2023-04-19T05:24:11.294342Z"
    },
    "tags": []
   },
   "outputs": [],
   "source": [
    "YEAR = 2017\n",
    "if pathlib.Path('results').is_dir():\n",
    "  media.set_show_save_dir('results')"
   ]
  },
  {
   "cell_type": "code",
   "execution_count": 7,
   "id": "ae4c212f",
   "metadata": {
    "execution": {
     "iopub.execute_input": "2023-04-19T05:24:11.308939Z",
     "iopub.status.busy": "2023-04-19T05:24:11.308434Z",
     "iopub.status.idle": "2023-04-19T05:24:11.722158Z",
     "shell.execute_reply": "2023-04-19T05:24:11.721422Z",
     "shell.execute_reply.started": "2023-04-19T05:24:11.308920Z"
    },
    "tags": []
   },
   "outputs": [],
   "source": [
    "# (1) To obtain puzzle inputs and answers, we first try these paths/URLs:\n",
    "PROFILE = 'google.Hugues_Hoppe.965276'\n",
    "# PROFILE = 'github.hhoppe.1452460'\n",
    "TAR_URL = f'https://github.com/hhoppe/advent_of_code/raw/main/{YEAR}/data/{PROFILE}.tar.gz'\n",
    "if 1:\n",
    "  hh.run(\n",
    "      '{ [ -d data ] || mkdir data; } && cd data &&'\n",
    "      f' {{ [ -f {PROFILE}.tar.gz ] || wget -q {TAR_URL}; }} &&'\n",
    "      f' tar xzf {PROFILE}.tar.gz'\n",
    "  )\n",
    "INPUT_URL = f'data/{PROFILE}/{{year}}_{{day:02d}}_input.txt'\n",
    "ANSWER_URL = f'data/{PROFILE}/{{year}}_{{day:02d}}{{part_letter}}_answer.txt'"
   ]
  },
  {
   "cell_type": "code",
   "execution_count": 8,
   "id": "25548a6e",
   "metadata": {
    "execution": {
     "iopub.execute_input": "2023-04-19T05:24:11.723228Z",
     "iopub.status.busy": "2023-04-19T05:24:11.723038Z",
     "iopub.status.idle": "2023-04-19T05:24:11.726770Z",
     "shell.execute_reply": "2023-04-19T05:24:11.726105Z",
     "shell.execute_reply.started": "2023-04-19T05:24:11.723214Z"
    },
    "tags": []
   },
   "outputs": [],
   "source": [
    "# (2) If URL is not found, we may try adventofcode.com using a session (auth login) cookie:\n",
    "if 0:\n",
    "  # echo 53616... >~/.config/aocd/token  # session cookie from \"adventofcode.com\" (valid 1 month).\n",
    "  hh.run('pip install -q advent-of-code-data')  # https://github.com/wimglenn/advent-of-code-data\n",
    "  import aocd  # pylint: disable=unused-import # noqa"
   ]
  },
  {
   "cell_type": "code",
   "execution_count": 9,
   "id": "996f23d3",
   "metadata": {
    "execution": {
     "iopub.execute_input": "2023-04-19T05:24:11.728074Z",
     "iopub.status.busy": "2023-04-19T05:24:11.727696Z",
     "iopub.status.idle": "2023-04-19T05:24:11.737588Z",
     "shell.execute_reply": "2023-04-19T05:24:11.736848Z",
     "shell.execute_reply.started": "2023-04-19T05:24:11.728057Z"
    },
    "tags": []
   },
   "outputs": [],
   "source": [
    "try:\n",
    "  import numba\n",
    "except ModuleNotFoundError:\n",
    "  print('Package numba is unavailable.')\n",
    "  numba = sys.modules['numba'] = types.ModuleType('numba')\n",
    "  numba.njit = hh.noop_decorator\n",
    "using_numba = hasattr(numba, 'jit')"
   ]
  },
  {
   "cell_type": "code",
   "execution_count": 10,
   "id": "122f5cf4",
   "metadata": {
    "execution": {
     "iopub.execute_input": "2023-04-19T05:24:11.739041Z",
     "iopub.status.busy": "2023-04-19T05:24:11.738642Z",
     "iopub.status.idle": "2023-04-19T05:24:11.750245Z",
     "shell.execute_reply": "2023-04-19T05:24:11.749464Z",
     "shell.execute_reply.started": "2023-04-19T05:24:11.739023Z"
    },
    "tags": []
   },
   "outputs": [],
   "source": [
    "advent = advent_of_code_hhoppe.Advent(year=YEAR, input_url=INPUT_URL, answer_url=ANSWER_URL)"
   ]
  },
  {
   "cell_type": "code",
   "execution_count": 11,
   "id": "9e0deecd-8bc8-4f56-8760-0e271af6bb02",
   "metadata": {
    "execution": {
     "iopub.execute_input": "2023-04-19T05:24:11.752186Z",
     "iopub.status.busy": "2023-04-19T05:24:11.751542Z",
     "iopub.status.idle": "2023-04-19T05:24:11.764020Z",
     "shell.execute_reply": "2023-04-19T05:24:11.763248Z",
     "shell.execute_reply.started": "2023-04-19T05:24:11.752164Z"
    },
    "tags": []
   },
   "outputs": [
    {
     "data": {
      "text/html": [
       "<style>.jp-Cell.jp-MarkdownCell {max-width: 1016px!important;}</style>"
      ],
      "text/plain": [
       "<IPython.core.display.HTML object>"
      ]
     },
     "metadata": {},
     "output_type": "display_data"
    }
   ],
   "source": [
    "hh.adjust_jupyterlab_markdown_width()"
   ]
  },
  {
   "cell_type": "markdown",
   "id": "c6feaf6f",
   "metadata": {},
   "source": [
    "### Helper functions"
   ]
  },
  {
   "cell_type": "code",
   "execution_count": 12,
   "id": "30a4c9f8",
   "metadata": {
    "execution": {
     "iopub.execute_input": "2023-04-19T05:24:11.765720Z",
     "iopub.status.busy": "2023-04-19T05:24:11.765087Z",
     "iopub.status.idle": "2023-04-19T05:24:11.769904Z",
     "shell.execute_reply": "2023-04-19T05:24:11.769140Z",
     "shell.execute_reply.started": "2023-04-19T05:24:11.765697Z"
    }
   },
   "outputs": [],
   "source": [
    "check_eq = hh.check_eq"
   ]
  },
  {
   "cell_type": "code",
   "execution_count": 13,
   "id": "df9e9548",
   "metadata": {
    "execution": {
     "iopub.execute_input": "2023-04-19T05:24:11.770909Z",
     "iopub.status.busy": "2023-04-19T05:24:11.770710Z",
     "iopub.status.idle": "2023-04-19T05:24:11.779814Z",
     "shell.execute_reply": "2023-04-19T05:24:11.779032Z",
     "shell.execute_reply.started": "2023-04-19T05:24:11.770895Z"
    },
    "tags": []
   },
   "outputs": [],
   "source": [
    "_ORIGINAL_GLOBALS = list(globals())"
   ]
  },
  {
   "cell_type": "markdown",
   "id": "6b28c473",
   "metadata": {},
   "source": [
    "<a name=\"day1\"></a>\n",
    "## Day 1: Digits in a circular list"
   ]
  },
  {
   "cell_type": "markdown",
   "id": "a03de689",
   "metadata": {},
   "source": [
    "- Part 1: Find the sum of all digits that match the next digit in the list.\n",
    "\n",
    "- Part 2: Instead of considering the next digit, consider the digit halfway around the circular list."
   ]
  },
  {
   "cell_type": "code",
   "execution_count": 14,
   "id": "4874099e",
   "metadata": {
    "execution": {
     "iopub.execute_input": "2023-04-19T05:24:11.781130Z",
     "iopub.status.busy": "2023-04-19T05:24:11.780877Z",
     "iopub.status.idle": "2023-04-19T05:24:11.804813Z",
     "shell.execute_reply": "2023-04-19T05:24:11.804256Z",
     "shell.execute_reply.started": "2023-04-19T05:24:11.781109Z"
    },
    "tags": []
   },
   "outputs": [
    {
     "data": {
      "text/markdown": [
       "For [day 1](https://adventofcode.com/2017/day/1), `puzzle.input` has a single line of 2_118 characters:"
      ],
      "text/plain": [
       "<IPython.core.display.Markdown object>"
      ]
     },
     "metadata": {},
     "output_type": "display_data"
    },
    {
     "name": "stdout",
     "output_type": "stream",
     "text": [
      "11183136235455117313495775841784971687718871633822712186999265297215465163229667 ... 66515428245928111112613638341345371\n"
     ]
    },
    {
     "data": {
      "text/markdown": [
       "The stored answers are: `{1: '1044', 2: '1054'}`"
      ],
      "text/plain": [
       "<IPython.core.display.Markdown object>"
      ]
     },
     "metadata": {},
     "output_type": "display_data"
    }
   ],
   "source": [
    "puzzle = advent.puzzle(day=1)"
   ]
  },
  {
   "cell_type": "code",
   "execution_count": 15,
   "id": "da9c9a7c",
   "metadata": {
    "execution": {
     "iopub.execute_input": "2023-04-19T05:24:11.805758Z",
     "iopub.status.busy": "2023-04-19T05:24:11.805504Z",
     "iopub.status.idle": "2023-04-19T05:24:11.811313Z",
     "shell.execute_reply": "2023-04-19T05:24:11.810834Z",
     "shell.execute_reply.started": "2023-04-19T05:24:11.805745Z"
    },
    "tags": []
   },
   "outputs": [
    {
     "name": "stdout",
     "output_type": "stream",
     "text": [
      "(Part 1: 0.000 s)\n",
      "(Part 2: 0.000 s)\n"
     ]
    }
   ],
   "source": [
    "def day1(s, *, part2=False):\n",
    "  digits = [int(ch) for ch in s.strip()]\n",
    "  total = 0\n",
    "  offset = len(digits) // 2 if part2 else 1\n",
    "  for d0, d1 in zip(digits, digits[offset:] + digits[:offset]):\n",
    "    if d0 == d1:\n",
    "      total += d0\n",
    "  return total\n",
    "\n",
    "\n",
    "check_eq(day1('1122'), 3)\n",
    "check_eq(day1('1111'), 4)\n",
    "check_eq(day1('1234'), 0)\n",
    "check_eq(day1('91212129'), 9)\n",
    "puzzle.verify(1, day1)\n",
    "\n",
    "day1_part2 = functools.partial(day1, part2=True)\n",
    "check_eq(day1_part2('1212'), 6)\n",
    "check_eq(day1_part2('1221'), 0)\n",
    "check_eq(day1_part2('123425'), 4)\n",
    "check_eq(day1_part2('123123'), 12)\n",
    "check_eq(day1_part2('12131415'), 4)\n",
    "puzzle.verify(2, day1_part2)"
   ]
  },
  {
   "cell_type": "markdown",
   "id": "7efd4627-f7ec-4261-8723-63e34d20e7da",
   "metadata": {},
   "source": [
    "<a name=\"day2\"></a>\n",
    "## Day 2: Rows of numbers"
   ]
  },
  {
   "cell_type": "markdown",
   "id": "2aa3f410-a8ec-4130-a614-8cb407fb491f",
   "metadata": {},
   "source": [
    "- Part 1: Find sum of differences between largest and smallest value in each row.\n",
    "\n",
    "- Part 2: Find in each row the only 2 numbers where one evenly divides the other.  Sum the divisions."
   ]
  },
  {
   "cell_type": "code",
   "execution_count": 16,
   "id": "ec65cbc8-e0e6-4dda-b6fb-690f02b1ca32",
   "metadata": {
    "execution": {
     "iopub.execute_input": "2023-04-19T05:24:11.811872Z",
     "iopub.status.busy": "2023-04-19T05:24:11.811752Z",
     "iopub.status.idle": "2023-04-19T05:24:11.835363Z",
     "shell.execute_reply": "2023-04-19T05:24:11.834390Z",
     "shell.execute_reply.started": "2023-04-19T05:24:11.811862Z"
    },
    "tags": []
   },
   "outputs": [
    {
     "data": {
      "text/markdown": [
       "For [day 2](https://adventofcode.com/2017/day/2), `puzzle.input` has 16 lines:"
      ],
      "text/plain": [
       "<IPython.core.display.Markdown object>"
      ]
     },
     "metadata": {},
     "output_type": "display_data"
    },
    {
     "name": "stdout",
     "output_type": "stream",
     "text": [
      "798\t1976\t1866\t1862\t559\t1797\t1129\t747\t85\t1108\t104\t2000\t248\t131\t87\t95\n",
      "201\t419\t336\t65\t208\t57\t74\t433\t68\t360\t390\t412\t355\t209\t330\t135\n",
      "967\t84\t492\t1425\t1502\t1324\t1268\t1113\t1259\t81\t310\t1360\t773\t69\t68\t290\n",
      "169\t264\t107\t298\t38\t149\t56\t126\t276\t45\t305\t403\t89\t179\t394\t172\n",
      "3069\t387\t2914\t2748\t1294\t1143\t3099\t152\t2867\t3082\t113\t145\t2827\t2545\t134\t469\n",
      "3885\t1098\t2638\t5806\t4655\t4787\t186\t4024\t2286\t5585\t5590\t215\t5336\t2738\t218\t266\n",
      "661\t789\t393\t159\t172\t355\t820\t891\t196\t831\t345\t784\t65\t971\t396\t234\n",
      "4095\t191\t4333\t161\t3184\t193\t4830\t4153\t2070\t3759\t1207\t3222\t185\t176\t2914\t4152\n",
      " ...\n",
      "271\t4026\t2960\t6444\t2896\t228\t819\t676\t6612\t6987\t265\t2231\t2565\t6603\t207\t6236\n",
      "91\t683\t1736\t1998\t1960\t1727\t84\t1992\t1072\t1588\t1768\t74\t58\t1956\t1627\t893\n",
      "3591\t1843\t3448\t1775\t3564\t2632\t1002\t3065\t77\t3579\t78\t99\t1668\t98\t2963\t3553\n",
      "2155\t225\t2856\t3061\t105\t204\t1269\t171\t2505\t2852\t977\t1377\t181\t1856\t2952\t2262\n"
     ]
    },
    {
     "data": {
      "text/markdown": [
       "The stored answers are: `{1: '41919', 2: '303'}`"
      ],
      "text/plain": [
       "<IPython.core.display.Markdown object>"
      ]
     },
     "metadata": {},
     "output_type": "display_data"
    }
   ],
   "source": [
    "puzzle = advent.puzzle(day=2)"
   ]
  },
  {
   "cell_type": "code",
   "execution_count": 17,
   "id": "74595e38-f6f8-49cf-8f25-cf3be60148a5",
   "metadata": {
    "execution": {
     "iopub.execute_input": "2023-04-19T05:24:11.836766Z",
     "iopub.status.busy": "2023-04-19T05:24:11.836340Z",
     "iopub.status.idle": "2023-04-19T05:24:11.840536Z",
     "shell.execute_reply": "2023-04-19T05:24:11.839709Z",
     "shell.execute_reply.started": "2023-04-19T05:24:11.836746Z"
    }
   },
   "outputs": [],
   "source": [
    "s1 = \"\"\"\\\n",
    "5 1 9 5\n",
    "7 5 3\n",
    "2 4 6 8\n",
    "\"\"\""
   ]
  },
  {
   "cell_type": "code",
   "execution_count": 18,
   "id": "68d27df0-464e-4cda-8b0b-f114259d67cf",
   "metadata": {
    "execution": {
     "iopub.execute_input": "2023-04-19T05:24:11.841999Z",
     "iopub.status.busy": "2023-04-19T05:24:11.841800Z",
     "iopub.status.idle": "2023-04-19T05:24:11.850527Z",
     "shell.execute_reply": "2023-04-19T05:24:11.849908Z",
     "shell.execute_reply.started": "2023-04-19T05:24:11.841984Z"
    },
    "tags": []
   },
   "outputs": [],
   "source": [
    "s2 = \"\"\"\\\n",
    "5 9 2 8\n",
    "9 4 7 3\n",
    "3 8 6 5\n",
    "\"\"\""
   ]
  },
  {
   "cell_type": "code",
   "execution_count": 19,
   "id": "a75e3b46-e2f8-4ecf-a1f3-02d8da3b9235",
   "metadata": {
    "execution": {
     "iopub.execute_input": "2023-04-19T05:24:11.851734Z",
     "iopub.status.busy": "2023-04-19T05:24:11.851289Z",
     "iopub.status.idle": "2023-04-19T05:24:11.862347Z",
     "shell.execute_reply": "2023-04-19T05:24:11.861622Z",
     "shell.execute_reply.started": "2023-04-19T05:24:11.851718Z"
    },
    "tags": []
   },
   "outputs": [
    {
     "name": "stdout",
     "output_type": "stream",
     "text": [
      "(Part 1: 0.000 s)\n",
      "(Part 2: 0.000 s)\n"
     ]
    }
   ],
   "source": [
    "def day2(s, *, part2=False):\n",
    "  total = 0\n",
    "\n",
    "  for line in s.splitlines():\n",
    "    values = [int(field) for field in line.split()]\n",
    "    if not part2:\n",
    "      difference = max(values) - min(values)\n",
    "      total += difference\n",
    "    else:\n",
    "      for value1, value2 in itertools.permutations(values, 2):\n",
    "        if value1 % value2 == 0:\n",
    "          total += value1 // value2\n",
    "          break\n",
    "\n",
    "  return total\n",
    "\n",
    "\n",
    "check_eq(day2(s1), 18)\n",
    "puzzle.verify(1, day2)\n",
    "\n",
    "day2_part2 = functools.partial(day2, part2=True)\n",
    "check_eq(day2_part2(s2), 9)\n",
    "puzzle.verify(2, day2_part2)"
   ]
  },
  {
   "cell_type": "markdown",
   "id": "0baddff9",
   "metadata": {},
   "source": [
    "<a name=\"day3\"></a>\n",
    "## Day 3: Spiral memory"
   ]
  },
  {
   "cell_type": "markdown",
   "id": "1c9e39f0",
   "metadata": {},
   "source": [
    "- Part 1: Find the Manhattan distance (from the origin) of the nth spiral entry.\n",
    "\n",
    "- Part 2: Successively, each spiral value is the sum of its 3x3 neighborhood; find the first value that is larger than the puzzle input."
   ]
  },
  {
   "cell_type": "code",
   "execution_count": 20,
   "id": "3a480095",
   "metadata": {
    "execution": {
     "iopub.execute_input": "2023-04-19T05:24:11.863530Z",
     "iopub.status.busy": "2023-04-19T05:24:11.863097Z",
     "iopub.status.idle": "2023-04-19T05:24:11.883010Z",
     "shell.execute_reply": "2023-04-19T05:24:11.882354Z",
     "shell.execute_reply.started": "2023-04-19T05:24:11.863512Z"
    },
    "tags": []
   },
   "outputs": [
    {
     "data": {
      "text/markdown": [
       "For [day 3](https://adventofcode.com/2017/day/3), `puzzle.input` has a single line of 6 characters:"
      ],
      "text/plain": [
       "<IPython.core.display.Markdown object>"
      ]
     },
     "metadata": {},
     "output_type": "display_data"
    },
    {
     "name": "stdout",
     "output_type": "stream",
     "text": [
      "312051\n"
     ]
    },
    {
     "data": {
      "text/markdown": [
       "The stored answers are: `{1: '430', 2: '312453'}`"
      ],
      "text/plain": [
       "<IPython.core.display.Markdown object>"
      ]
     },
     "metadata": {},
     "output_type": "display_data"
    }
   ],
   "source": [
    "puzzle = advent.puzzle(day=3)"
   ]
  },
  {
   "cell_type": "code",
   "execution_count": 21,
   "id": "31270020-948a-4570-8371-9fbb1dd6872f",
   "metadata": {
    "execution": {
     "iopub.execute_input": "2023-04-19T05:24:11.884119Z",
     "iopub.status.busy": "2023-04-19T05:24:11.883777Z",
     "iopub.status.idle": "2023-04-19T05:24:11.887895Z",
     "shell.execute_reply": "2023-04-19T05:24:11.887359Z",
     "shell.execute_reply.started": "2023-04-19T05:24:11.884096Z"
    },
    "tags": []
   },
   "outputs": [],
   "source": [
    "def day3_spiral_yx():\n",
    "  \"\"\"Yields y, x coordinates of successive spiral entries.\"\"\"\n",
    "  yield 0, 0  # Value 1.\n",
    "  yield 0, 1  # Value 2.\n",
    "  yield -1, 1  # Value 3.\n",
    "  y, x = -1, 1\n",
    "  arm = 2\n",
    "  while True:\n",
    "    for _ in range(arm):\n",
    "      x -= 1\n",
    "      yield y, x\n",
    "    for _ in range(arm):\n",
    "      y += 1\n",
    "      yield y, x\n",
    "    arm += 1\n",
    "    for _ in range(arm):\n",
    "      x += 1\n",
    "      yield y, x\n",
    "    for _ in range(arm):\n",
    "      y -= 1\n",
    "      yield y, x\n",
    "    arm += 1"
   ]
  },
  {
   "cell_type": "code",
   "execution_count": 22,
   "id": "60043c07-fdb3-4bd2-ac88-3560f8765e30",
   "metadata": {
    "execution": {
     "iopub.execute_input": "2023-04-19T05:24:11.890808Z",
     "iopub.status.busy": "2023-04-19T05:24:11.890559Z",
     "iopub.status.idle": "2023-04-19T05:24:11.913619Z",
     "shell.execute_reply": "2023-04-19T05:24:11.913002Z",
     "shell.execute_reply.started": "2023-04-19T05:24:11.890796Z"
    },
    "tags": []
   },
   "outputs": [
    {
     "name": "stdout",
     "output_type": "stream",
     "text": [
      "(Part 1: 0.013 s)\n"
     ]
    }
   ],
   "source": [
    "def day3_part1_slow(s):\n",
    "  value = int(s)\n",
    "  y, x = next(itertools.islice(day3_spiral_yx(), value - 1, None))\n",
    "  return abs(y) + abs(x)\n",
    "\n",
    "\n",
    "check_eq(day3_part1_slow('1'), 0)\n",
    "check_eq(day3_part1_slow('12'), 3)\n",
    "check_eq(day3_part1_slow('22'), 3)\n",
    "check_eq(day3_part1_slow('23'), 2)\n",
    "check_eq(day3_part1_slow('24'), 3)\n",
    "check_eq(day3_part1_slow('1024'), 31)\n",
    "puzzle.verify(1, day3_part1_slow)"
   ]
  },
  {
   "cell_type": "code",
   "execution_count": 23,
   "id": "e97c9284-782e-4e49-b952-903540e74c87",
   "metadata": {
    "execution": {
     "iopub.execute_input": "2023-04-19T05:24:11.915058Z",
     "iopub.status.busy": "2023-04-19T05:24:11.914469Z",
     "iopub.status.idle": "2023-04-19T05:24:11.923302Z",
     "shell.execute_reply": "2023-04-19T05:24:11.922763Z",
     "shell.execute_reply.started": "2023-04-19T05:24:11.915040Z"
    },
    "tags": []
   },
   "outputs": [
    {
     "name": "stdout",
     "output_type": "stream",
     "text": [
      "(Part 1: 0.000 s)\n"
     ]
    }
   ],
   "source": [
    "def day3_part1(s):\n",
    "  value = int(s)\n",
    "  result = {1: 0, 2: 1, 3: 2}.get(value)\n",
    "  if result is not None:\n",
    "    return result\n",
    "  n = 4\n",
    "  arm = 2\n",
    "  count = 0  # 0 or 1\n",
    "  while n + arm <= value:\n",
    "    n += arm\n",
    "    count += 1\n",
    "    if count == 2:\n",
    "      count = 0\n",
    "      arm += 1\n",
    "  xd = value - n - (arm // 2 - 1)\n",
    "  r = (arm + count) // 2\n",
    "  d = abs(xd) + r\n",
    "  return d\n",
    "\n",
    "\n",
    "check_eq(day3_part1('1'), 0)\n",
    "check_eq(day3_part1('12'), 3)\n",
    "check_eq(day3_part1('22'), 3)\n",
    "check_eq(day3_part1('23'), 2)\n",
    "check_eq(day3_part1('24'), 3)\n",
    "check_eq(day3_part1('1024'), 31)\n",
    "puzzle.verify(1, day3_part1)"
   ]
  },
  {
   "cell_type": "code",
   "execution_count": 24,
   "id": "aa81c02a-b2bc-41e3-9db9-2d2513741499",
   "metadata": {
    "execution": {
     "iopub.execute_input": "2023-04-19T05:24:11.924474Z",
     "iopub.status.busy": "2023-04-19T05:24:11.924134Z",
     "iopub.status.idle": "2023-04-19T05:24:11.933805Z",
     "shell.execute_reply": "2023-04-19T05:24:11.933050Z",
     "shell.execute_reply.started": "2023-04-19T05:24:11.924461Z"
    },
    "tags": []
   },
   "outputs": [
    {
     "name": "stdout",
     "output_type": "stream",
     "text": [
      "(Part 2: 0.000 s)\n"
     ]
    }
   ],
   "source": [
    "def day3_part2(s, *, size=41):\n",
    "  value = int(s)\n",
    "  grid = np.zeros((size, size), np.int32)\n",
    "  g = size // 2  # The first value 1 is located at central grid[g, g].\n",
    "  for y0, x0 in day3_spiral_yx():\n",
    "    y, x = y0 + g, x0 + g\n",
    "    assert y >= 1 and x >= 1\n",
    "    count = max(np.sum(grid[y - 1 : y + 2, x - 1 : x + 2]), 1)\n",
    "    grid[y, x] = count\n",
    "    if count > value:\n",
    "      return count\n",
    "\n",
    "  raise ValueError('No solution found.')\n",
    "\n",
    "\n",
    "check_eq(day3_part2('1'), 2)\n",
    "check_eq(day3_part2('2'), 4)\n",
    "check_eq(day3_part2('4'), 5)\n",
    "check_eq(day3_part2('5'), 10)\n",
    "check_eq(day3_part2('59'), 122)\n",
    "puzzle.verify(2, day3_part2)"
   ]
  },
  {
   "cell_type": "markdown",
   "id": "0cefff26",
   "metadata": {},
   "source": [
    "<a name=\"day4\"></a>\n",
    "## Day 4: Valid passphrases"
   ]
  },
  {
   "cell_type": "markdown",
   "id": "d6091493",
   "metadata": {},
   "source": [
    "- Part 1: How many passphrases contain no duplicate words?\n",
    "\n",
    "- Part 2: What if in addition, no two words may be anagrams of each other?"
   ]
  },
  {
   "cell_type": "code",
   "execution_count": 25,
   "id": "41a1020b",
   "metadata": {
    "execution": {
     "iopub.execute_input": "2023-04-19T05:24:11.934871Z",
     "iopub.status.busy": "2023-04-19T05:24:11.934562Z",
     "iopub.status.idle": "2023-04-19T05:24:11.958361Z",
     "shell.execute_reply": "2023-04-19T05:24:11.957816Z",
     "shell.execute_reply.started": "2023-04-19T05:24:11.934856Z"
    }
   },
   "outputs": [
    {
     "data": {
      "text/markdown": [
       "For [day 4](https://adventofcode.com/2017/day/4), `puzzle.input` has 512 lines:"
      ],
      "text/plain": [
       "<IPython.core.display.Markdown object>"
      ]
     },
     "metadata": {},
     "output_type": "display_data"
    },
    {
     "name": "stdout",
     "output_type": "stream",
     "text": [
      "oaoe rxeq vssdqtu xrk cjv yaoqp loo\n",
      "mveua dogbam szydvri hyzk lbega abzqw xwjn wniug kwbre\n",
      "npaoy uivpxwd oynpa rcdk uixpvdw\n",
      "yserir iikzcm ieuroca iuwcfov rvb giti crdpdcv mxpps\n",
      "spyuhgo lucasl ucllsa bymnjig yflbv nxitmlf\n",
      "xlxyhwz xla mpye fvjegwg fezlfrt inetrh vhg xpvstx ydhvq\n",
      "xgue cvtmh myg ontvvyw ygm oqzrdrw\n",
      "srdfsjf dli kccb kauk kauk apa doefc cdffkhh cdffkhh\n",
      " ...\n",
      "khuvrne rnamlgt akjtu qlx odr git xmiazr icwsxsq\n",
      "jfm bneh tkdzuad bsr oruvmqq uauw zjlp gwov hot jkjbex\n",
      "jjo uvk vlpy lpxd irntb uvk ehhsqv fxhvt jjo fpa\n",
      "qrwu mgnw hvflf ytspp mco ikvbqg fflvh wts cbbf\n"
     ]
    },
    {
     "data": {
      "text/markdown": [
       "The stored answers are: `{1: '386', 2: '208'}`"
      ],
      "text/plain": [
       "<IPython.core.display.Markdown object>"
      ]
     },
     "metadata": {},
     "output_type": "display_data"
    }
   ],
   "source": [
    "puzzle = advent.puzzle(day=4)"
   ]
  },
  {
   "cell_type": "code",
   "execution_count": 26,
   "id": "d4e0e6ef-6186-4dfe-8bac-addb142e7720",
   "metadata": {
    "execution": {
     "iopub.execute_input": "2023-04-19T05:24:11.959554Z",
     "iopub.status.busy": "2023-04-19T05:24:11.959103Z",
     "iopub.status.idle": "2023-04-19T05:24:11.961860Z",
     "shell.execute_reply": "2023-04-19T05:24:11.961368Z",
     "shell.execute_reply.started": "2023-04-19T05:24:11.959539Z"
    }
   },
   "outputs": [],
   "source": [
    "s1 = \"\"\"\\\n",
    "aa bb cc dd ee\n",
    "aa bb cc dd aa\n",
    "aa bb cc dd aaa\n",
    "\"\"\""
   ]
  },
  {
   "cell_type": "code",
   "execution_count": 27,
   "id": "a2314280-674d-47e4-9045-b00c4e64c635",
   "metadata": {
    "execution": {
     "iopub.execute_input": "2023-04-19T05:24:11.962696Z",
     "iopub.status.busy": "2023-04-19T05:24:11.962468Z",
     "iopub.status.idle": "2023-04-19T05:24:11.973269Z",
     "shell.execute_reply": "2023-04-19T05:24:11.972635Z",
     "shell.execute_reply.started": "2023-04-19T05:24:11.962685Z"
    }
   },
   "outputs": [],
   "source": [
    "s2 = \"\"\"\\\n",
    "abcde fghij\n",
    "abcde xyz ecdab\n",
    "a ab abc abd abf abj\n",
    "iiii oiii ooii oooi oooo\n",
    "oiii ioii iioi iiio\n",
    "\"\"\""
   ]
  },
  {
   "cell_type": "code",
   "execution_count": 28,
   "id": "551b3330",
   "metadata": {
    "execution": {
     "iopub.execute_input": "2023-04-19T05:24:11.974317Z",
     "iopub.status.busy": "2023-04-19T05:24:11.973991Z",
     "iopub.status.idle": "2023-04-19T05:24:11.985363Z",
     "shell.execute_reply": "2023-04-19T05:24:11.984851Z",
     "shell.execute_reply.started": "2023-04-19T05:24:11.974302Z"
    },
    "tags": []
   },
   "outputs": [
    {
     "name": "stdout",
     "output_type": "stream",
     "text": [
      "(Part 1: 0.000 s)\n",
      "(Part 2: 0.001 s)\n"
     ]
    }
   ],
   "source": [
    "def day4(s, *, part2=False):\n",
    "  num_valid = 0\n",
    "\n",
    "  for line in s.splitlines():\n",
    "    words = line.split()\n",
    "    valid = len(words) == len(set(words))\n",
    "    if valid and part2:\n",
    "      words_with_sorted_letters = [''.join(sorted(word)) for word in words]\n",
    "      valid = len(words_with_sorted_letters) == len(set(words_with_sorted_letters))\n",
    "    num_valid += valid\n",
    "\n",
    "  return num_valid\n",
    "\n",
    "\n",
    "check_eq(day4(s1), 2)\n",
    "puzzle.verify(1, day4)\n",
    "\n",
    "day4_part2 = functools.partial(day4, part2=True)\n",
    "check_eq(day4_part2(s2), 3)\n",
    "puzzle.verify(2, day4_part2)"
   ]
  },
  {
   "cell_type": "markdown",
   "id": "31f297cc",
   "metadata": {},
   "source": [
    "<a name=\"day5\"></a>\n",
    "## Day 5: Update and follow jumps"
   ]
  },
  {
   "cell_type": "markdown",
   "id": "ccbe920e",
   "metadata": {},
   "source": [
    "- Part 1: After each jump, the offset of that instruction increases by 1.  How many steps does it take to reach the exit?\n",
    "\n",
    "- Part 2: Same, but after each jump, if the offset was three or more, instead decrease it by 1."
   ]
  },
  {
   "cell_type": "code",
   "execution_count": 29,
   "id": "723858e0",
   "metadata": {
    "execution": {
     "iopub.execute_input": "2023-04-19T05:24:11.986044Z",
     "iopub.status.busy": "2023-04-19T05:24:11.985908Z",
     "iopub.status.idle": "2023-04-19T05:24:12.010215Z",
     "shell.execute_reply": "2023-04-19T05:24:12.009554Z",
     "shell.execute_reply.started": "2023-04-19T05:24:11.986032Z"
    },
    "tags": []
   },
   "outputs": [
    {
     "data": {
      "text/markdown": [
       "For [day 5](https://adventofcode.com/2017/day/5), `puzzle.input` has 1_017 lines:"
      ],
      "text/plain": [
       "<IPython.core.display.Markdown object>"
      ]
     },
     "metadata": {},
     "output_type": "display_data"
    },
    {
     "name": "stdout",
     "output_type": "stream",
     "text": [
      "2\n",
      "0\n",
      "0\n",
      "-2\n",
      "0\n",
      "1\n",
      "-2\n",
      "-1\n",
      " ...\n",
      "-21\n",
      "-730\n",
      "-191\n",
      "-866\n"
     ]
    },
    {
     "data": {
      "text/markdown": [
       "The stored answers are: `{1: '325922', 2: '24490906'}`"
      ],
      "text/plain": [
       "<IPython.core.display.Markdown object>"
      ]
     },
     "metadata": {},
     "output_type": "display_data"
    }
   ],
   "source": [
    "puzzle = advent.puzzle(day=5)"
   ]
  },
  {
   "cell_type": "code",
   "execution_count": 30,
   "id": "e3b6d42e-91c8-4ee0-9965-8b26d561d2b7",
   "metadata": {
    "execution": {
     "iopub.execute_input": "2023-04-19T05:24:12.011412Z",
     "iopub.status.busy": "2023-04-19T05:24:12.011025Z",
     "iopub.status.idle": "2023-04-19T05:24:12.014169Z",
     "shell.execute_reply": "2023-04-19T05:24:12.013584Z",
     "shell.execute_reply.started": "2023-04-19T05:24:12.011393Z"
    },
    "tags": []
   },
   "outputs": [],
   "source": [
    "s1 = \"\"\"\\\n",
    "0\n",
    "3\n",
    "0\n",
    "1\n",
    "-3\n",
    "\"\"\""
   ]
  },
  {
   "cell_type": "code",
   "execution_count": 31,
   "id": "fdafc9e0",
   "metadata": {
    "execution": {
     "iopub.execute_input": "2023-04-19T05:24:12.015131Z",
     "iopub.status.busy": "2023-04-19T05:24:12.014866Z",
     "iopub.status.idle": "2023-04-19T05:24:12.057403Z",
     "shell.execute_reply": "2023-04-19T05:24:12.056548Z",
     "shell.execute_reply.started": "2023-04-19T05:24:12.015117Z"
    },
    "tags": []
   },
   "outputs": [
    {
     "name": "stdout",
     "output_type": "stream",
     "text": [
      "(Part 1: 0.032 s)\n"
     ]
    }
   ],
   "source": [
    "def day5a(s, *, part2=False):  # Slow.\n",
    "  values = [int(s2) for s2 in s.splitlines()]\n",
    "  pos = 0\n",
    "\n",
    "  for num_steps in itertools.count(1):\n",
    "    offset = values[pos]\n",
    "    values[pos] = offset - 1 if (part2 and offset >= 3) else offset + 1\n",
    "    pos += offset\n",
    "    if not 0 <= pos < len(values):\n",
    "      return num_steps\n",
    "\n",
    "  raise ValueError('No solution found.')\n",
    "\n",
    "\n",
    "check_eq(day5a(s1), 5)\n",
    "puzzle.verify(1, day5a)\n",
    "\n",
    "day5a_part2 = functools.partial(day5a, part2=True)\n",
    "check_eq(day5a_part2(s1), 10)\n",
    "if 0:\n",
    "  puzzle.verify(2, day5a_part2)  # ~2.2 s."
   ]
  },
  {
   "cell_type": "code",
   "execution_count": 32,
   "id": "aa65cbe0-af4c-4579-99a5-033e97004242",
   "metadata": {
    "execution": {
     "iopub.execute_input": "2023-04-19T05:24:12.059186Z",
     "iopub.status.busy": "2023-04-19T05:24:12.058292Z",
     "iopub.status.idle": "2023-04-19T05:24:12.350656Z",
     "shell.execute_reply": "2023-04-19T05:24:12.349939Z",
     "shell.execute_reply.started": "2023-04-19T05:24:12.059166Z"
    },
    "tags": []
   },
   "outputs": [
    {
     "name": "stdout",
     "output_type": "stream",
     "text": [
      "(Part 1: 0.000 s)\n",
      "(Part 2: 0.031 s)\n"
     ]
    }
   ],
   "source": [
    "# Fast.\n",
    "@numba.njit\n",
    "def day5_compute(values: Any, part2: bool) -> int:\n",
    "  pos = 0\n",
    "  num_steps = 0\n",
    "  while 0 <= pos < len(values):\n",
    "    num_steps += 1\n",
    "    offset = values[pos]\n",
    "    values[pos] = offset - 1 if (part2 and offset >= 3) else offset + 1\n",
    "    pos += offset\n",
    "  return num_steps\n",
    "\n",
    "\n",
    "def day5(s, *, part2=False):\n",
    "  values = np.array(s.splitlines(), int)\n",
    "  return day5_compute(values, part2)\n",
    "\n",
    "\n",
    "check_eq(day5(s1), 5)\n",
    "puzzle.verify(1, day5)\n",
    "\n",
    "day5_part2 = functools.partial(day5, part2=True)\n",
    "check_eq(day5_part2(s1), 10)\n",
    "puzzle.verify(2, day5_part2)"
   ]
  },
  {
   "cell_type": "markdown",
   "id": "3c7dab5c",
   "metadata": {},
   "source": [
    "<a name=\"day6\"></a>\n",
    "## Day 6: Successive 1D redistributions"
   ]
  },
  {
   "cell_type": "markdown",
   "id": "c8f37fe0",
   "metadata": {},
   "source": [
    "- Part 1: How many redistribution cycles must be completed before a configuration is produced that has been seen before?\n",
    "\n",
    "- Part 2: How many cycles are in the infinite loop that arises from the configuration in your puzzle input?"
   ]
  },
  {
   "cell_type": "code",
   "execution_count": 33,
   "id": "154c2722",
   "metadata": {
    "execution": {
     "iopub.execute_input": "2023-04-19T05:24:12.351911Z",
     "iopub.status.busy": "2023-04-19T05:24:12.351430Z",
     "iopub.status.idle": "2023-04-19T05:24:12.369341Z",
     "shell.execute_reply": "2023-04-19T05:24:12.368816Z",
     "shell.execute_reply.started": "2023-04-19T05:24:12.351893Z"
    },
    "tags": []
   },
   "outputs": [
    {
     "data": {
      "text/markdown": [
       "For [day 6](https://adventofcode.com/2017/day/6), `puzzle.input` has a single line of 36 characters:"
      ],
      "text/plain": [
       "<IPython.core.display.Markdown object>"
      ]
     },
     "metadata": {},
     "output_type": "display_data"
    },
    {
     "name": "stdout",
     "output_type": "stream",
     "text": [
      "4\t10\t4\t1\t8\t4\t9\t14\t5\t1\t14\t15\t0\t15\t3\t5\n"
     ]
    },
    {
     "data": {
      "text/markdown": [
       "The stored answers are: `{1: '12841', 2: '8038'}`"
      ],
      "text/plain": [
       "<IPython.core.display.Markdown object>"
      ]
     },
     "metadata": {},
     "output_type": "display_data"
    }
   ],
   "source": [
    "puzzle = advent.puzzle(day=6)"
   ]
  },
  {
   "cell_type": "code",
   "execution_count": 34,
   "id": "f8a93217-1b88-427f-9390-d33128bf8ca0",
   "metadata": {
    "execution": {
     "iopub.execute_input": "2023-04-19T05:24:12.370403Z",
     "iopub.status.busy": "2023-04-19T05:24:12.370098Z",
     "iopub.status.idle": "2023-04-19T05:24:12.372910Z",
     "shell.execute_reply": "2023-04-19T05:24:12.372390Z",
     "shell.execute_reply.started": "2023-04-19T05:24:12.370390Z"
    },
    "tags": []
   },
   "outputs": [],
   "source": [
    "s1 = '0 2 7 0'"
   ]
  },
  {
   "cell_type": "code",
   "execution_count": 35,
   "id": "9c623be9",
   "metadata": {
    "execution": {
     "iopub.execute_input": "2023-04-19T05:24:12.373729Z",
     "iopub.status.busy": "2023-04-19T05:24:12.373509Z",
     "iopub.status.idle": "2023-04-19T05:24:12.461546Z",
     "shell.execute_reply": "2023-04-19T05:24:12.460977Z",
     "shell.execute_reply.started": "2023-04-19T05:24:12.373717Z"
    },
    "tags": []
   },
   "outputs": [
    {
     "name": "stdout",
     "output_type": "stream",
     "text": [
      "(Part 1: 0.039 s)\n",
      "(Part 2: 0.038 s)\n"
     ]
    }
   ],
   "source": [
    "def day6(s, *, part2=False):\n",
    "  blocks = tuple(int(word) for word in s.split())\n",
    "  time_seen = {blocks: 0}\n",
    "\n",
    "  for num_rearrangements in itertools.count(1):\n",
    "    # index = max(range(len(blocks)), key=lambda index: (blocks[index], -index))\n",
    "    index = min((-count, index) for index, count in enumerate(blocks))[1]\n",
    "    count = blocks[index]\n",
    "    new_blocks = list(blocks)\n",
    "    new_blocks[index] = 0\n",
    "    for x in range(count):\n",
    "      new_blocks[(index + 1 + x) % len(blocks)] += 1\n",
    "    blocks = tuple(new_blocks)\n",
    "    if blocks in time_seen:\n",
    "      return num_rearrangements - (time_seen[blocks] if part2 else 0)\n",
    "    time_seen[blocks] = num_rearrangements\n",
    "\n",
    "\n",
    "check_eq(day6(s1), 5)\n",
    "puzzle.verify(1, day6)\n",
    "\n",
    "day6_part2 = functools.partial(day6, part2=True)\n",
    "check_eq(day6_part2(s1), 4)\n",
    "puzzle.verify(2, day6_part2)"
   ]
  },
  {
   "cell_type": "markdown",
   "id": "f0842845",
   "metadata": {},
   "source": [
    "<a name=\"day7\"></a>\n",
    "## Day 7: Recursive balanced tower"
   ]
  },
  {
   "cell_type": "markdown",
   "id": "2d6c7fa3",
   "metadata": {},
   "source": [
    "- Part 1: What is the name of the bottom program?\n",
    "\n",
    "- Part 2: Given that exactly one program is the wrong weight, what would its weight need to be to balance the entire tower?"
   ]
  },
  {
   "cell_type": "code",
   "execution_count": 36,
   "id": "24183a87",
   "metadata": {
    "execution": {
     "iopub.execute_input": "2023-04-19T05:24:12.462658Z",
     "iopub.status.busy": "2023-04-19T05:24:12.462188Z",
     "iopub.status.idle": "2023-04-19T05:24:12.477959Z",
     "shell.execute_reply": "2023-04-19T05:24:12.477443Z",
     "shell.execute_reply.started": "2023-04-19T05:24:12.462636Z"
    },
    "tags": []
   },
   "outputs": [
    {
     "data": {
      "text/markdown": [
       "For [day 7](https://adventofcode.com/2017/day/7), `puzzle.input` has 1_605 lines:"
      ],
      "text/plain": [
       "<IPython.core.display.Markdown object>"
      ]
     },
     "metadata": {},
     "output_type": "display_data"
    },
    {
     "name": "stdout",
     "output_type": "stream",
     "text": [
      "nzyiue (57)\n",
      "pdmkag (39)\n",
      "bogbg (13)\n",
      "nubay (45)\n",
      "dukzh (17)\n",
      "kpjxln (44) -> dzzbvkv, gzdxgvj, wsocb, jidxg\n",
      "cxjyxl (83)\n",
      "vusplt (151) -> mcfst, orrwx\n",
      " ...\n",
      "paqlttl (65)\n",
      "kklix (25) -> jzoue, yokqfgn\n",
      "usevgds (44) -> aydmhhv, kkftjia\n",
      "tqlentr (214) -> gfxnuuk, thmlk\n"
     ]
    },
    {
     "data": {
      "text/markdown": [
       "The stored answers are: `{1: 'hlhomy', 2: '1505'}`"
      ],
      "text/plain": [
       "<IPython.core.display.Markdown object>"
      ]
     },
     "metadata": {},
     "output_type": "display_data"
    }
   ],
   "source": [
    "puzzle = advent.puzzle(day=7)"
   ]
  },
  {
   "cell_type": "code",
   "execution_count": 37,
   "id": "97b01c6c-5168-4abf-a446-be8142e64cca",
   "metadata": {
    "execution": {
     "iopub.execute_input": "2023-04-19T05:24:12.478856Z",
     "iopub.status.busy": "2023-04-19T05:24:12.478663Z",
     "iopub.status.idle": "2023-04-19T05:24:12.481334Z",
     "shell.execute_reply": "2023-04-19T05:24:12.480886Z",
     "shell.execute_reply.started": "2023-04-19T05:24:12.478843Z"
    },
    "tags": []
   },
   "outputs": [],
   "source": [
    "s1 = \"\"\"\\\n",
    "pbga (66)\n",
    "xhth (57)\n",
    "ebii (61)\n",
    "havc (66)\n",
    "ktlj (57)\n",
    "fwft (72) -> ktlj, cntj, xhth\n",
    "qoyq (66)\n",
    "padx (45) -> pbga, havc, qoyq\n",
    "tknk (41) -> ugml, padx, fwft\n",
    "jptl (61)\n",
    "ugml (68) -> gyxo, ebii, jptl\n",
    "gyxo (61)\n",
    "cntj (57)\n",
    "\"\"\""
   ]
  },
  {
   "cell_type": "code",
   "execution_count": 38,
   "id": "02520d1f",
   "metadata": {
    "execution": {
     "iopub.execute_input": "2023-04-19T05:24:12.482059Z",
     "iopub.status.busy": "2023-04-19T05:24:12.481935Z",
     "iopub.status.idle": "2023-04-19T05:24:12.511922Z",
     "shell.execute_reply": "2023-04-19T05:24:12.511372Z",
     "shell.execute_reply.started": "2023-04-19T05:24:12.482049Z"
    },
    "tags": []
   },
   "outputs": [
    {
     "name": "stdout",
     "output_type": "stream",
     "text": [
      "(Part 1: 0.005 s)\n",
      "(Part 2: 0.013 s)\n"
     ]
    }
   ],
   "source": [
    "def day7(s, *, part2=False):\n",
    "  graph = {}\n",
    "  weights = {}\n",
    "  for line in s.splitlines():\n",
    "    name, weight, rest = hh.re_groups(r'^([a-z]+) \\((\\d+)\\)( -> .*)?$', line)\n",
    "    weights[name] = int(weight)\n",
    "    graph[name] = rest[len(' -> ') :].split(', ') if rest else []\n",
    "  nodes = list(graphlib.TopologicalSorter(graph).static_order())[::-1]\n",
    "\n",
    "  if not part2:\n",
    "    root = nodes[0]\n",
    "    return root\n",
    "\n",
    "  @functools.cache\n",
    "  def tower_weight(node: str) -> int:\n",
    "    return weights[node] + sum(tower_weight(child) for child in graph[node])\n",
    "\n",
    "  for node in reversed(nodes):\n",
    "    if children := graph[node]:\n",
    "      tower_weights = [tower_weight(child) for child in children]\n",
    "      unique, index, counts = np.unique(tower_weights, return_index=True, return_counts=True)\n",
    "      if len(unique) > 1:\n",
    "        # hh.show(node, children, tower_weights, unique, index, counts)\n",
    "        assert len(counts) == 2 and counts[0] > 1 and counts[1] == 1\n",
    "        unique_child = children[index[1]]\n",
    "        weight_difference = unique[0] - unique[1]\n",
    "        return weights[unique_child] + weight_difference\n",
    "\n",
    "\n",
    "check_eq(day7(s1), 'tknk')\n",
    "puzzle.verify(1, day7)\n",
    "\n",
    "day7_part2 = functools.partial(day7, part2=True)\n",
    "check_eq(day7_part2(s1), 60)\n",
    "puzzle.verify(2, day7_part2)"
   ]
  },
  {
   "cell_type": "markdown",
   "id": "4626bd25",
   "metadata": {},
   "source": [
    "<a name=\"day8\"></a>\n",
    "## Day 8: Program with registers"
   ]
  },
  {
   "cell_type": "markdown",
   "id": "72be6485",
   "metadata": {},
   "source": [
    "- Part 1: What is the largest value in any register after completing the instructions in your puzzle input?\n",
    "\n",
    "- Part 2: What is the highest value held in any register during this process?"
   ]
  },
  {
   "cell_type": "code",
   "execution_count": 39,
   "id": "62579890",
   "metadata": {
    "execution": {
     "iopub.execute_input": "2023-04-19T05:24:12.512835Z",
     "iopub.status.busy": "2023-04-19T05:24:12.512597Z",
     "iopub.status.idle": "2023-04-19T05:24:12.533544Z",
     "shell.execute_reply": "2023-04-19T05:24:12.532762Z",
     "shell.execute_reply.started": "2023-04-19T05:24:12.512822Z"
    },
    "tags": []
   },
   "outputs": [
    {
     "data": {
      "text/markdown": [
       "For [day 8](https://adventofcode.com/2017/day/8), `puzzle.input` has 1_000 lines:"
      ],
      "text/plain": [
       "<IPython.core.display.Markdown object>"
      ]
     },
     "metadata": {},
     "output_type": "display_data"
    },
    {
     "name": "stdout",
     "output_type": "stream",
     "text": [
      "y inc 497 if n <= 3\n",
      "ig inc -54 if es < 9\n",
      "j dec 278 if low < 10\n",
      "nm inc -531 if tr == 0\n",
      "tq inc 537 if tq < 9\n",
      "txm dec 835 if s != -8\n",
      "xho dec -204 if vv < 6\n",
      "ipq dec 59 if txm != -835\n",
      " ...\n",
      "j inc 924 if ipq == -1184\n",
      "ntk inc -239 if y == -846\n",
      "wby inc -397 if ntk >= -2941\n",
      "nm dec 907 if qen == 2233\n"
     ]
    },
    {
     "data": {
      "text/markdown": [
       "The stored answers are: `{1: '2971', 2: '4254'}`"
      ],
      "text/plain": [
       "<IPython.core.display.Markdown object>"
      ]
     },
     "metadata": {},
     "output_type": "display_data"
    }
   ],
   "source": [
    "puzzle = advent.puzzle(day=8)"
   ]
  },
  {
   "cell_type": "code",
   "execution_count": 40,
   "id": "064c64a3-ccd1-4f50-94ae-43ad80e43624",
   "metadata": {
    "execution": {
     "iopub.execute_input": "2023-04-19T05:24:12.534680Z",
     "iopub.status.busy": "2023-04-19T05:24:12.534463Z",
     "iopub.status.idle": "2023-04-19T05:24:12.538178Z",
     "shell.execute_reply": "2023-04-19T05:24:12.537498Z",
     "shell.execute_reply.started": "2023-04-19T05:24:12.534635Z"
    }
   },
   "outputs": [],
   "source": [
    "s1 = \"\"\"\\\n",
    "b inc 5 if a > 1\n",
    "a inc 1 if b < 5\n",
    "c dec -10 if a >= 1\n",
    "c inc -20 if c == 10\n",
    "\"\"\""
   ]
  },
  {
   "cell_type": "code",
   "execution_count": 41,
   "id": "4c669ad4",
   "metadata": {
    "execution": {
     "iopub.execute_input": "2023-04-19T05:24:12.539382Z",
     "iopub.status.busy": "2023-04-19T05:24:12.538994Z",
     "iopub.status.idle": "2023-04-19T05:24:12.555236Z",
     "shell.execute_reply": "2023-04-19T05:24:12.554686Z",
     "shell.execute_reply.started": "2023-04-19T05:24:12.539363Z"
    },
    "tags": []
   },
   "outputs": [
    {
     "name": "stdout",
     "output_type": "stream",
     "text": [
      "(Part 1: 0.001 s)\n",
      "(Part 2: 0.002 s)\n"
     ]
    }
   ],
   "source": [
    "def day8(s, *, part2=False):\n",
    "  COND_OPS = {\n",
    "      '<': operator.lt,\n",
    "      '>': operator.gt,\n",
    "      '<=': operator.le,\n",
    "      '>=': operator.ge,\n",
    "      '==': operator.eq,\n",
    "      '!=': operator.ne,\n",
    "  }\n",
    "  registers: collections.defaultdict[str, int] = collections.defaultdict(int)\n",
    "  max_value = 0\n",
    "\n",
    "  for line in s.splitlines():\n",
    "    pattern = r'^([a-z]+) (inc|dec) (-?\\d+) if ([a-z]+) (<|>|<=|>=|==|!=) (-?\\d+)$'\n",
    "    reg, op, value, cond_reg, cond_op, cond_value = hh.re_groups(pattern, line)\n",
    "    condition = COND_OPS[cond_op](registers[cond_reg], int(cond_value))\n",
    "    if condition:\n",
    "      registers[reg] += int(value) * {'inc': 1, 'dec': -1}[op]\n",
    "      max_value = max(max_value, registers[reg])\n",
    "\n",
    "  return max_value if part2 else max(registers.values())\n",
    "\n",
    "\n",
    "check_eq(day8(s1), 1)\n",
    "puzzle.verify(1, day8)\n",
    "\n",
    "day8_part2 = functools.partial(day8, part2=True)\n",
    "check_eq(day8_part2(s1), 10)\n",
    "puzzle.verify(2, day8_part2)"
   ]
  },
  {
   "cell_type": "markdown",
   "id": "de2ca6c4",
   "metadata": {},
   "source": [
    "<a name=\"day9\"></a>\n",
    "## Day 9: Nested streams with garbage"
   ]
  },
  {
   "cell_type": "markdown",
   "id": "b971ce99",
   "metadata": {},
   "source": [
    "- Part 1: What is the total score for all groups in your input?\n",
    "\n",
    "- Part 2: How many non-canceled characters are within the garbage in your puzzle input?"
   ]
  },
  {
   "cell_type": "code",
   "execution_count": 42,
   "id": "04ce90db",
   "metadata": {
    "execution": {
     "iopub.execute_input": "2023-04-19T05:24:12.556371Z",
     "iopub.status.busy": "2023-04-19T05:24:12.555984Z",
     "iopub.status.idle": "2023-04-19T05:24:12.578771Z",
     "shell.execute_reply": "2023-04-19T05:24:12.578090Z",
     "shell.execute_reply.started": "2023-04-19T05:24:12.556357Z"
    },
    "tags": []
   },
   "outputs": [
    {
     "data": {
      "text/markdown": [
       "For [day 9](https://adventofcode.com/2017/day/9), `puzzle.input` has a single line of 30_841 characters:"
      ],
      "text/plain": [
       "<IPython.core.display.Markdown object>"
      ]
     },
     "metadata": {},
     "output_type": "display_data"
    },
    {
     "name": "stdout",
     "output_type": "stream",
     "text": [
      "{{{{{<!!!>!>'!!!>!!!!!!!>u!!!!!>},<'>,<!>e{o!!!>!'>}},{{{<!!u<>},<!!!!!>!'!!a}!! ... >,<!!u!>,<!>!<<!>,<\">}},{<<'>}}}}}}\n"
     ]
    },
    {
     "data": {
      "text/markdown": [
       "The stored answers are: `{1: '23588', 2: '10045'}`"
      ],
      "text/plain": [
       "<IPython.core.display.Markdown object>"
      ]
     },
     "metadata": {},
     "output_type": "display_data"
    }
   ],
   "source": [
    "puzzle = advent.puzzle(day=9)"
   ]
  },
  {
   "cell_type": "code",
   "execution_count": 43,
   "id": "7a29c962",
   "metadata": {
    "execution": {
     "iopub.execute_input": "2023-04-19T05:24:12.579768Z",
     "iopub.status.busy": "2023-04-19T05:24:12.579478Z",
     "iopub.status.idle": "2023-04-19T05:24:12.591676Z",
     "shell.execute_reply": "2023-04-19T05:24:12.590987Z",
     "shell.execute_reply.started": "2023-04-19T05:24:12.579755Z"
    },
    "tags": []
   },
   "outputs": [
    {
     "name": "stdout",
     "output_type": "stream",
     "text": [
      "(Part 1: 0.003 s)\n",
      "(Part 2: 0.003 s)\n"
     ]
    }
   ],
   "source": [
    "def day9(s, *, part2=False):\n",
    "  s = re.sub(r'!.', '', s.strip())\n",
    "  num_garbage = 0\n",
    "\n",
    "  def read_group(s: str, i: int) -> tuple[list[Any], int]:\n",
    "    nonlocal num_garbage\n",
    "    check_eq(s[i], '{')\n",
    "    groups: list[Any] = []\n",
    "    while True:\n",
    "      i += 1\n",
    "      match s[i]:\n",
    "        case '}':\n",
    "          return groups, i\n",
    "        case '<':\n",
    "          i += 1\n",
    "          while s[i] != '>':\n",
    "            num_garbage += 1\n",
    "            i += 1\n",
    "        case ',':\n",
    "          pass\n",
    "        case _:\n",
    "          group, i = read_group(s, i)\n",
    "          groups.append(group)\n",
    "\n",
    "  group, i = read_group(s, 0)\n",
    "  check_eq(i + 1, len(s))\n",
    "\n",
    "  def get_score(group: list[Any], depth: int) -> int:\n",
    "    return depth + sum(get_score(child, depth + 1) for child in group)\n",
    "\n",
    "  return num_garbage if part2 else get_score(group, 1)\n",
    "\n",
    "\n",
    "check_eq(day9('{}'), 1)\n",
    "check_eq(day9('{{{}}}'), 6)\n",
    "check_eq(day9('{{},{}}'), 5)\n",
    "check_eq(day9('{{{},{},{{}}}}'), 16)\n",
    "check_eq(day9('{<a>,<a>,<a>,<a>}'), 1)\n",
    "check_eq(day9('{{<ab>},{<ab>},{<ab>},{<ab>}}'), 9)\n",
    "check_eq(day9('{{<!!>},{<!!>},{<!!>},{<!!>}}'), 9)\n",
    "check_eq(day9('{{<a!>},{<a!>},{<a!>},{<ab>}}'), 3)\n",
    "puzzle.verify(1, day9)\n",
    "\n",
    "day9_part2 = functools.partial(day9, part2=True)\n",
    "puzzle.verify(2, day9_part2)"
   ]
  },
  {
   "cell_type": "markdown",
   "id": "9cf4bc45",
   "metadata": {},
   "source": [
    "<a name=\"day10\"></a>\n",
    "## Day 10: Knot hash: flip sequences"
   ]
  },
  {
   "cell_type": "markdown",
   "id": "2509c2df",
   "metadata": {},
   "source": [
    "- Part 1: Once this process is complete, what is the result of multiplying the first two numbers in the list?\n",
    "\n",
    "- Part 2: What is the Knot Hash of your puzzle input?"
   ]
  },
  {
   "cell_type": "code",
   "execution_count": 44,
   "id": "35512a83",
   "metadata": {
    "execution": {
     "iopub.execute_input": "2023-04-19T05:24:12.592786Z",
     "iopub.status.busy": "2023-04-19T05:24:12.592409Z",
     "iopub.status.idle": "2023-04-19T05:24:12.615558Z",
     "shell.execute_reply": "2023-04-19T05:24:12.614844Z",
     "shell.execute_reply.started": "2023-04-19T05:24:12.592761Z"
    },
    "tags": []
   },
   "outputs": [
    {
     "data": {
      "text/markdown": [
       "For [day 10](https://adventofcode.com/2017/day/10), `puzzle.input` has a single line of 52 characters:"
      ],
      "text/plain": [
       "<IPython.core.display.Markdown object>"
      ]
     },
     "metadata": {},
     "output_type": "display_data"
    },
    {
     "name": "stdout",
     "output_type": "stream",
     "text": [
      "106,16,254,226,55,2,1,166,177,247,93,0,255,228,60,36\n"
     ]
    },
    {
     "data": {
      "text/markdown": [
       "The stored answers are: `{1: '11413', 2: '7adfd64c2a03a4968cf708d1b7fd418d'}`"
      ],
      "text/plain": [
       "<IPython.core.display.Markdown object>"
      ]
     },
     "metadata": {},
     "output_type": "display_data"
    }
   ],
   "source": [
    "puzzle = advent.puzzle(day=10)"
   ]
  },
  {
   "cell_type": "code",
   "execution_count": 45,
   "id": "039e1d45-f529-4d9b-817c-3123710c64d0",
   "metadata": {
    "execution": {
     "iopub.execute_input": "2023-04-19T05:24:12.616521Z",
     "iopub.status.busy": "2023-04-19T05:24:12.616315Z",
     "iopub.status.idle": "2023-04-19T05:24:12.619197Z",
     "shell.execute_reply": "2023-04-19T05:24:12.618690Z",
     "shell.execute_reply.started": "2023-04-19T05:24:12.616508Z"
    },
    "tags": []
   },
   "outputs": [],
   "source": [
    "s1 = '3, 4, 1, 5'"
   ]
  },
  {
   "cell_type": "code",
   "execution_count": 46,
   "id": "d6eab05e",
   "metadata": {
    "execution": {
     "iopub.execute_input": "2023-04-19T05:24:12.620111Z",
     "iopub.status.busy": "2023-04-19T05:24:12.619814Z",
     "iopub.status.idle": "2023-04-19T05:24:12.644006Z",
     "shell.execute_reply": "2023-04-19T05:24:12.643279Z",
     "shell.execute_reply.started": "2023-04-19T05:24:12.620098Z"
    },
    "tags": []
   },
   "outputs": [
    {
     "name": "stdout",
     "output_type": "stream",
     "text": [
      "(Part 1: 0.000 s)\n",
      "(Part 2: 0.007 s)\n"
     ]
    }
   ],
   "source": [
    "def day10(s, *, num=256, num_rounds=1, part2=False):\n",
    "  s = s.strip()\n",
    "  if not part2:\n",
    "    lengths = [int(s2) for s2 in s.replace(' ', '').split(',')]\n",
    "  else:\n",
    "    lengths = [ord(ch) for ch in s] + [17, 31, 73, 47, 23]\n",
    "\n",
    "  state = list(range(num))\n",
    "  position = 0\n",
    "  skip = 0\n",
    "  for _ in range(num_rounds):\n",
    "    for length in lengths:\n",
    "      assert length <= num\n",
    "      rotated = state[position:] + state[:position] if position else state\n",
    "      rotated[:length] = reversed(rotated[:length])\n",
    "      state = rotated[-position:] + rotated[:-position] if position else rotated\n",
    "      position = (position + length + skip) % num\n",
    "      skip += 1\n",
    "\n",
    "  if not part2:\n",
    "    return state[0] * state[1]\n",
    "\n",
    "  xors = [\n",
    "      functools.reduce(operator.xor, group, 0)\n",
    "      for group in more_itertools.chunked(state, 16, strict=True)\n",
    "  ]\n",
    "  return ''.join(f'{value:02x}' for value in xors)\n",
    "\n",
    "\n",
    "check_eq(day10(s1, num=5), 12)\n",
    "puzzle.verify(1, day10)\n",
    "\n",
    "day10_part2 = functools.partial(day10, num_rounds=64, part2=True)\n",
    "check_eq(day10_part2('1,2,3'), '3efbe78a8d82f29979031a4aa0b16a9d')\n",
    "check_eq(day10_part2(''), 'a2582a3a0e66e6e86e3812dcb672a272')\n",
    "check_eq(day10_part2('AoC 2017'), '33efeb34ea91902bb2f59c9920caa6cd')\n",
    "check_eq(day10_part2('1,2,4'), '63960835bcdc130f0b66d7ff4f6a5a8e')\n",
    "puzzle.verify(2, day10_part2)"
   ]
  },
  {
   "cell_type": "markdown",
   "id": "ef38ed24",
   "metadata": {},
   "source": [
    "<a name=\"day11\"></a>\n",
    "## Day 11: March on hex grid"
   ]
  },
  {
   "cell_type": "markdown",
   "id": "c588606c",
   "metadata": {},
   "source": [
    "- Part 1: What is the fewest number of steps required to reach him?\n",
    "\n",
    "- Part 2: How many steps away is the furthest he ever got from his starting position?"
   ]
  },
  {
   "cell_type": "code",
   "execution_count": 47,
   "id": "318f4ca3",
   "metadata": {
    "execution": {
     "iopub.execute_input": "2023-04-19T05:24:12.645249Z",
     "iopub.status.busy": "2023-04-19T05:24:12.644926Z",
     "iopub.status.idle": "2023-04-19T05:24:12.668052Z",
     "shell.execute_reply": "2023-04-19T05:24:12.667541Z",
     "shell.execute_reply.started": "2023-04-19T05:24:12.645227Z"
    },
    "tags": []
   },
   "outputs": [
    {
     "data": {
      "text/markdown": [
       "For [day 11](https://adventofcode.com/2017/day/11), `puzzle.input` has a single line of 21_631 characters:"
      ],
      "text/plain": [
       "<IPython.core.display.Markdown object>"
      ]
     },
     "metadata": {},
     "output_type": "display_data"
    },
    {
     "name": "stdout",
     "output_type": "stream",
     "text": [
      "ne,nw,se,nw,ne,s,s,s,sw,ne,sw,sw,sw,sw,sw,nw,nw,sw,se,ne,nw,nw,nw,nw,nw,nw,n,n,s ... e,s,se,se,se,se,nw,ne,nw,se,se,n,se\n"
     ]
    },
    {
     "data": {
      "text/markdown": [
       "The stored answers are: `{1: '670', 2: '1426'}`"
      ],
      "text/plain": [
       "<IPython.core.display.Markdown object>"
      ]
     },
     "metadata": {},
     "output_type": "display_data"
    }
   ],
   "source": [
    "puzzle = advent.puzzle(day=11)"
   ]
  },
  {
   "cell_type": "code",
   "execution_count": 48,
   "id": "2df864d8-3576-40ac-8a19-1250e2c741d5",
   "metadata": {
    "execution": {
     "iopub.execute_input": "2023-04-19T05:24:12.669116Z",
     "iopub.status.busy": "2023-04-19T05:24:12.668747Z",
     "iopub.status.idle": "2023-04-19T05:24:12.681024Z",
     "shell.execute_reply": "2023-04-19T05:24:12.680541Z",
     "shell.execute_reply.started": "2023-04-19T05:24:12.669101Z"
    },
    "tags": []
   },
   "outputs": [
    {
     "name": "stdout",
     "output_type": "stream",
     "text": [
      "(Part 1: 0.003 s)\n",
      "(Part 2: 0.002 s)\n"
     ]
    }
   ],
   "source": [
    "def day11(s, *, part2=False, visualize=False):\n",
    "  steps = s.strip().split(',')\n",
    "  MOVES = dict(s=(1, 0), se=(0, 1), n=(-1, 0), nw=(0, -1), ne=(-1, 1), sw=(1, -1))\n",
    "\n",
    "  def hex_radius(ss: int, se: int) -> int:\n",
    "    return max(abs(ss), abs(se)) if ss * se < 0 else abs(ss) + abs(se)\n",
    "\n",
    "  ss, se = 0, 0\n",
    "  radii = []\n",
    "  xys = []\n",
    "  for step in steps:\n",
    "    dss, dse = MOVES[step]\n",
    "    ss, se = ss + dss, se + dse\n",
    "    radii.append(hex_radius(ss, se))\n",
    "    if visualize:\n",
    "      xy = se * (math.sqrt(3) / 2), ss + se / 2\n",
    "      xys.append(xy)\n",
    "\n",
    "  if visualize:\n",
    "    array = np.array(xys)\n",
    "    fig, ax = plt.subplots(figsize=(5, 5), dpi=90)\n",
    "    ax.set(aspect='equal')\n",
    "    ax.plot(array[:, 0], array[:, 1])\n",
    "    xy1 = xys[-1]\n",
    "    _, xy2 = max(zip(radii, xys))\n",
    "    params = dict(fontsize=15, arrowprops=dict(arrowstyle='->', lw=1))\n",
    "    ax.annotate('start', xy=(0, 0), xytext=(-250, 150), ha='center', **params)\n",
    "    ax.annotate('end', xy=xy1, xytext=(xy1[0] + 200, xy1[1]), ha='left', **params)\n",
    "    ax.annotate('farthest', xy=xy2, xytext=(xy2[0] + 350, xy2[1]), ha='left', **params)\n",
    "    tick_spacing = 250\n",
    "    for axis in [ax.xaxis, ax.yaxis]:\n",
    "      axis.set_major_locator(matplotlib.ticker.MultipleLocator(tick_spacing))\n",
    "    fig.tight_layout(pad=0)\n",
    "    image = hh.bounding_crop(hh.image_from_plt(fig), 255)\n",
    "    media.show_image(image, title='day11')\n",
    "    plt.close(fig)\n",
    "\n",
    "  return max(radii) if part2 else radii[-1]\n",
    "\n",
    "\n",
    "check_eq(day11('ne,ne,ne'), 3)\n",
    "check_eq(day11('ne,ne,sw,sw'), 0)\n",
    "check_eq(day11('ne,ne,s,s'), 2)\n",
    "check_eq(day11('se,sw,se,sw,sw'), 3)\n",
    "puzzle.verify(1, day11)\n",
    "\n",
    "day11_part2 = functools.partial(day11, part2=True)\n",
    "puzzle.verify(2, day11_part2)"
   ]
  },
  {
   "cell_type": "code",
   "execution_count": 49,
   "id": "73edee63-dba0-4659-add9-4bd32ad876b5",
   "metadata": {
    "execution": {
     "iopub.execute_input": "2023-04-19T05:24:12.681963Z",
     "iopub.status.busy": "2023-04-19T05:24:12.681659Z",
     "iopub.status.idle": "2023-04-19T05:24:12.786684Z",
     "shell.execute_reply": "2023-04-19T05:24:12.785900Z",
     "shell.execute_reply.started": "2023-04-19T05:24:12.681950Z"
    },
    "tags": []
   },
   "outputs": [
    {
     "data": {
      "text/html": [
       "<table class=\"show_images\" style=\"border-spacing:0px;\"><tr><td style=\"padding:1px;\"><div style=\"display:flex; align-items:left;\">\n",
       "      <div style=\"display:flex; flex-direction:column; align-items:center;\">\n",
       "      <div>day11</div><div><img width=\"304\" height=\"447\" style=\"image-rendering:auto; object-fit:cover;\" src=\"data:image/png;base64,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\"/></div></div></div></td></tr></table>"
      ],
      "text/plain": [
       "<IPython.core.display.HTML object>"
      ]
     },
     "metadata": {},
     "output_type": "display_data"
    }
   ],
   "source": [
    "_ = day11(puzzle.input, visualize=True)"
   ]
  },
  {
   "cell_type": "markdown",
   "id": "dee8d31a",
   "metadata": {},
   "source": [
    "<a name=\"day12\"></a>\n",
    "## Day 12: Union-Find"
   ]
  },
  {
   "cell_type": "markdown",
   "id": "65b2f5ba",
   "metadata": {},
   "source": [
    "- Part 1: How many programs are in the group that contains program ID 0?\n",
    "\n",
    "- Part 2: How many groups are there in total?"
   ]
  },
  {
   "cell_type": "code",
   "execution_count": 50,
   "id": "916ca6e6",
   "metadata": {
    "execution": {
     "iopub.execute_input": "2023-04-19T05:24:12.788063Z",
     "iopub.status.busy": "2023-04-19T05:24:12.787659Z",
     "iopub.status.idle": "2023-04-19T05:24:12.808893Z",
     "shell.execute_reply": "2023-04-19T05:24:12.808234Z",
     "shell.execute_reply.started": "2023-04-19T05:24:12.788044Z"
    },
    "tags": []
   },
   "outputs": [
    {
     "data": {
      "text/markdown": [
       "For [day 12](https://adventofcode.com/2017/day/12), `puzzle.input` has 2_000 lines:"
      ],
      "text/plain": [
       "<IPython.core.display.Markdown object>"
      ]
     },
     "metadata": {},
     "output_type": "display_data"
    },
    {
     "name": "stdout",
     "output_type": "stream",
     "text": [
      "0 <-> 396, 1867\n",
      "1 <-> 1749\n",
      "2 <-> 466, 675, 1661\n",
      "3 <-> 3, 328, 1160\n",
      "4 <-> 4, 953\n",
      "5 <-> 1922\n",
      "6 <-> 1273\n",
      "7 <-> 7, 959\n",
      " ...\n",
      "1996 <-> 844\n",
      "1997 <-> 1682, 1894\n",
      "1998 <-> 1351, 1769\n",
      "1999 <-> 1374\n"
     ]
    },
    {
     "data": {
      "text/markdown": [
       "The stored answers are: `{1: '283', 2: '195'}`"
      ],
      "text/plain": [
       "<IPython.core.display.Markdown object>"
      ]
     },
     "metadata": {},
     "output_type": "display_data"
    }
   ],
   "source": [
    "puzzle = advent.puzzle(day=12)"
   ]
  },
  {
   "cell_type": "code",
   "execution_count": 51,
   "id": "45a6f56e-43fc-4ddc-adcc-0541ff7fe263",
   "metadata": {
    "execution": {
     "iopub.execute_input": "2023-04-19T05:24:12.810563Z",
     "iopub.status.busy": "2023-04-19T05:24:12.809982Z",
     "iopub.status.idle": "2023-04-19T05:24:12.814092Z",
     "shell.execute_reply": "2023-04-19T05:24:12.813439Z",
     "shell.execute_reply.started": "2023-04-19T05:24:12.810540Z"
    },
    "tags": []
   },
   "outputs": [],
   "source": [
    "s1 = \"\"\"\\\n",
    "0 <-> 2\n",
    "1 <-> 1\n",
    "2 <-> 0, 3, 4\n",
    "3 <-> 2, 4\n",
    "4 <-> 2, 3, 6\n",
    "5 <-> 6\n",
    "6 <-> 4, 5\n",
    "\"\"\""
   ]
  },
  {
   "cell_type": "code",
   "execution_count": 52,
   "id": "89908866",
   "metadata": {
    "execution": {
     "iopub.execute_input": "2023-04-19T05:24:12.814980Z",
     "iopub.status.busy": "2023-04-19T05:24:12.814805Z",
     "iopub.status.idle": "2023-04-19T05:24:12.832675Z",
     "shell.execute_reply": "2023-04-19T05:24:12.832118Z",
     "shell.execute_reply.started": "2023-04-19T05:24:12.814967Z"
    },
    "tags": []
   },
   "outputs": [
    {
     "name": "stdout",
     "output_type": "stream",
     "text": [
      "(Part 1: 0.004 s)\n",
      "(Part 2: 0.003 s)\n"
     ]
    }
   ],
   "source": [
    "def day12(s, *, part2=False):\n",
    "  union_find = hh.UnionFind[str]()\n",
    "  nodes = []\n",
    "  for line in s.splitlines():\n",
    "    node1, rest = line.split(' <-> ')\n",
    "    nodes.append(node1)\n",
    "    for node2 in rest.split(', '):\n",
    "      union_find.union(node1, node2)\n",
    "\n",
    "  if not part2:\n",
    "    num_in_group_of_0 = sum(union_find.same('0', node) for node in nodes)\n",
    "    return num_in_group_of_0\n",
    "\n",
    "  num_groups = len(set(union_find.find(node) for node in nodes))\n",
    "  return num_groups\n",
    "\n",
    "\n",
    "check_eq(day12(s1), 6)\n",
    "puzzle.verify(1, day12)\n",
    "\n",
    "day12_part2 = functools.partial(day12, part2=True)\n",
    "check_eq(day12_part2(s1), 2)\n",
    "puzzle.verify(2, day12_part2)"
   ]
  },
  {
   "cell_type": "markdown",
   "id": "c056e427",
   "metadata": {},
   "source": [
    "<a name=\"day13\"></a>\n",
    "## Day 13: Layers of scanners"
   ]
  },
  {
   "cell_type": "markdown",
   "id": "0353dbef",
   "metadata": {},
   "source": [
    "- Part 1: What is the severity of your whole trip?\n",
    "\n",
    "- Part 2: What is the fewest number of picoseconds that you need to delay the packet to pass through the firewall without being caught?"
   ]
  },
  {
   "cell_type": "code",
   "execution_count": 53,
   "id": "decf839d",
   "metadata": {
    "execution": {
     "iopub.execute_input": "2023-04-19T05:24:12.833553Z",
     "iopub.status.busy": "2023-04-19T05:24:12.833275Z",
     "iopub.status.idle": "2023-04-19T05:24:12.860228Z",
     "shell.execute_reply": "2023-04-19T05:24:12.859690Z",
     "shell.execute_reply.started": "2023-04-19T05:24:12.833538Z"
    },
    "tags": []
   },
   "outputs": [
    {
     "data": {
      "text/markdown": [
       "For [day 13](https://adventofcode.com/2017/day/13), `puzzle.input` has 43 lines:"
      ],
      "text/plain": [
       "<IPython.core.display.Markdown object>"
      ]
     },
     "metadata": {},
     "output_type": "display_data"
    },
    {
     "name": "stdout",
     "output_type": "stream",
     "text": [
      "0: 4\n",
      "1: 2\n",
      "2: 3\n",
      "4: 5\n",
      "6: 8\n",
      "8: 4\n",
      "10: 6\n",
      "12: 6\n",
      " ...\n",
      "80: 17\n",
      "82: 28\n",
      "84: 18\n",
      "86: 14\n"
     ]
    },
    {
     "data": {
      "text/markdown": [
       "The stored answers are: `{1: '1904', 2: '3833504'}`"
      ],
      "text/plain": [
       "<IPython.core.display.Markdown object>"
      ]
     },
     "metadata": {},
     "output_type": "display_data"
    }
   ],
   "source": [
    "puzzle = advent.puzzle(day=13)"
   ]
  },
  {
   "cell_type": "code",
   "execution_count": 54,
   "id": "13883de6-2a00-45eb-a8e4-28a4483d38ba",
   "metadata": {
    "execution": {
     "iopub.execute_input": "2023-04-19T05:24:12.861144Z",
     "iopub.status.busy": "2023-04-19T05:24:12.860906Z",
     "iopub.status.idle": "2023-04-19T05:24:12.863543Z",
     "shell.execute_reply": "2023-04-19T05:24:12.863090Z",
     "shell.execute_reply.started": "2023-04-19T05:24:12.861131Z"
    },
    "tags": []
   },
   "outputs": [],
   "source": [
    "s1 = \"\"\"\\\n",
    "0: 3\n",
    "1: 2\n",
    "4: 4\n",
    "6: 4\n",
    "\"\"\""
   ]
  },
  {
   "cell_type": "code",
   "execution_count": 55,
   "id": "83e2a93d",
   "metadata": {
    "execution": {
     "iopub.execute_input": "2023-04-19T05:24:12.864245Z",
     "iopub.status.busy": "2023-04-19T05:24:12.864027Z",
     "iopub.status.idle": "2023-04-19T05:24:12.873929Z",
     "shell.execute_reply": "2023-04-19T05:24:12.873376Z",
     "shell.execute_reply.started": "2023-04-19T05:24:12.864235Z"
    },
    "tags": []
   },
   "outputs": [
    {
     "name": "stdout",
     "output_type": "stream",
     "text": [
      "(Part 1: 0.001 s)\n"
     ]
    }
   ],
   "source": [
    "def day13(s):  # Supports Part 1 only.\n",
    "  range_of_depth = {}\n",
    "  for line in s.splitlines():\n",
    "    s1, s2 = line.split(': ')\n",
    "    depth, range_ = int(s1), int(s2)\n",
    "    assert depth >= 0 and range_ >= 2\n",
    "    range_of_depth[depth] = range_\n",
    "\n",
    "  max_depth = max(range_of_depth.keys())\n",
    "  scanner_pos = {depth: 0 for depth in range_of_depth}\n",
    "  scanner_inc = {depth: +1 for depth in range_of_depth}\n",
    "\n",
    "  total_severity = 0\n",
    "  for depth in range(max_depth + 1):\n",
    "    if scanner_pos.get(depth) == 0:\n",
    "      severity = depth * range_of_depth[depth]\n",
    "      total_severity += severity\n",
    "    for depth in scanner_pos:\n",
    "      scanner_pos[depth] += scanner_inc[depth]\n",
    "      if scanner_pos[depth] in (0, range_of_depth[depth] - 1):\n",
    "        scanner_inc[depth] = -scanner_inc[depth]\n",
    "\n",
    "  return total_severity\n",
    "\n",
    "\n",
    "check_eq(day13(s1), 24)\n",
    "puzzle.verify(1, day13)"
   ]
  },
  {
   "cell_type": "code",
   "execution_count": 56,
   "id": "2ec72ba7-8a35-4c15-bd4e-938a2154cca8",
   "metadata": {
    "execution": {
     "iopub.execute_input": "2023-04-19T05:24:12.874640Z",
     "iopub.status.busy": "2023-04-19T05:24:12.874493Z",
     "iopub.status.idle": "2023-04-19T05:24:12.883744Z",
     "shell.execute_reply": "2023-04-19T05:24:12.883103Z",
     "shell.execute_reply.started": "2023-04-19T05:24:12.874628Z"
    },
    "tags": []
   },
   "outputs": [],
   "source": [
    "def day13a_part2(s):  # Brute-force simplistic approach.\n",
    "  range_of_depth = {}\n",
    "  for line in s.splitlines():\n",
    "    s1, s2 = line.split(': ')\n",
    "    depth, range_ = int(s1), int(s2)\n",
    "    range_of_depth[depth] = range_\n",
    "  max_depth = max(range_of_depth.keys())\n",
    "  scanner_pos0 = {depth: 0 for depth in range_of_depth}\n",
    "  scanner_inc0 = {depth: +1 for depth in range_of_depth}\n",
    "\n",
    "  for delay in itertools.count():\n",
    "    scanner_pos = scanner_pos0.copy()\n",
    "    scanner_inc = scanner_inc0.copy()\n",
    "\n",
    "    ok = True\n",
    "    for depth in range(max_depth + 1):\n",
    "      if scanner_pos.get(depth) == 0:\n",
    "        ok = False\n",
    "        break\n",
    "      for depth in scanner_pos:\n",
    "        scanner_pos[depth] += scanner_inc[depth]\n",
    "        if scanner_pos[depth] in (0, range_of_depth[depth] - 1):\n",
    "          scanner_inc[depth] = -scanner_inc[depth]\n",
    "\n",
    "    if ok:\n",
    "      return delay\n",
    "\n",
    "    for depth in scanner_pos0:\n",
    "      scanner_pos0[depth] += scanner_inc0[depth]\n",
    "      if scanner_pos0[depth] in (0, range_of_depth[depth] - 1):\n",
    "        scanner_inc0[depth] = -scanner_inc0[depth]\n",
    "\n",
    "\n",
    "check_eq(day13a_part2(s1), 10)\n",
    "if 0:\n",
    "  puzzle.verify(2, day13a_part2)  # ~56 s."
   ]
  },
  {
   "cell_type": "code",
   "execution_count": 57,
   "id": "49c8a5a7-7cde-4bf8-b748-72fa0bbf3805",
   "metadata": {
    "execution": {
     "iopub.execute_input": "2023-04-19T05:24:12.884617Z",
     "iopub.status.busy": "2023-04-19T05:24:12.884377Z",
     "iopub.status.idle": "2023-04-19T05:24:12.896935Z",
     "shell.execute_reply": "2023-04-19T05:24:12.896320Z",
     "shell.execute_reply.started": "2023-04-19T05:24:12.884604Z"
    },
    "tags": []
   },
   "outputs": [],
   "source": [
    "def day13b_part2(s):  # Use numpy but one delay at a time.\n",
    "  scanners = np.array([list(map(int, line.split(': '))) for line in s.splitlines()])\n",
    "  depth, period = scanners[:, 0], (scanners[:, 1] - 1) * 2\n",
    "  for delay in itertools.count():\n",
    "    if np.all((delay + depth) % period):\n",
    "      return delay\n",
    "\n",
    "\n",
    "check_eq(day13b_part2(s1), 10)\n",
    "if 0:\n",
    "  puzzle.verify(2, day13b_part2)  # ~11 s."
   ]
  },
  {
   "cell_type": "code",
   "execution_count": 58,
   "id": "11ee4b15-ae7c-42f5-8bfc-af137701dc2e",
   "metadata": {
    "execution": {
     "iopub.execute_input": "2023-04-19T05:24:12.898138Z",
     "iopub.status.busy": "2023-04-19T05:24:12.897656Z",
     "iopub.status.idle": "2023-04-19T05:24:13.432091Z",
     "shell.execute_reply": "2023-04-19T05:24:13.431502Z",
     "shell.execute_reply.started": "2023-04-19T05:24:12.898123Z"
    },
    "tags": []
   },
   "outputs": [
    {
     "name": "stdout",
     "output_type": "stream",
     "text": [
      "(Part 2: 0.525 s)\n"
     ]
    }
   ],
   "source": [
    "def day13c_part2(s, *, chunk=3_000):  # Use numpy vectorized over chunks of delays.\n",
    "  scanners = np.array([list(map(int, line.split(': '))) for line in s.splitlines()])\n",
    "  depth, period = scanners[:, 0], (scanners[:, 1] - 1) * 2\n",
    "  for index in itertools.count():\n",
    "    delay = np.arange(index * chunk, (index + 1) * chunk)\n",
    "    matrix = (delay[:, None] + depth) % period\n",
    "    (indices,) = np.nonzero(matrix.all(axis=1))\n",
    "    if len(indices):\n",
    "      return delay[0] + indices[0]\n",
    "\n",
    "\n",
    "check_eq(day13c_part2(s1), 10)\n",
    "puzzle.verify(2, day13c_part2)"
   ]
  },
  {
   "cell_type": "code",
   "execution_count": 59,
   "id": "650fe190-4498-4df8-88c6-900e4579e895",
   "metadata": {
    "execution": {
     "iopub.execute_input": "2023-04-19T05:24:13.433085Z",
     "iopub.status.busy": "2023-04-19T05:24:13.432747Z",
     "iopub.status.idle": "2023-04-19T05:24:13.854979Z",
     "shell.execute_reply": "2023-04-19T05:24:13.854321Z",
     "shell.execute_reply.started": "2023-04-19T05:24:13.433070Z"
    },
    "tags": []
   },
   "outputs": [
    {
     "name": "stdout",
     "output_type": "stream",
     "text": [
      "(Part 2: 0.416 s)\n"
     ]
    }
   ],
   "source": [
    "def day13d_part2(s, *, chunk=80_000):  # Use numpy sieve; iterate on scanners over chunks of delays.\n",
    "  scanners = np.array([list(map(int, line.split(': '))) for line in s.splitlines()])\n",
    "  depth, period = scanners[:, 0], (scanners[:, 1] - 1) * 2\n",
    "  for index in itertools.count():\n",
    "    delay = np.arange(index * chunk, (index + 1) * chunk)\n",
    "    ok = np.full(chunk, True)\n",
    "    for d, p in zip(depth, period):\n",
    "      ok[(delay + d) % p == 0] = False\n",
    "    (indices,) = np.nonzero(ok)\n",
    "    if len(indices):\n",
    "      return delay[0] + indices[0]\n",
    "\n",
    "\n",
    "check_eq(day13d_part2(s1), 10)\n",
    "puzzle.verify(2, day13d_part2)"
   ]
  },
  {
   "cell_type": "code",
   "execution_count": 60,
   "id": "84e08a8d-ca2e-4bc7-99ca-8a29a98d0bf9",
   "metadata": {
    "execution": {
     "iopub.execute_input": "2023-04-19T05:24:13.855884Z",
     "iopub.status.busy": "2023-04-19T05:24:13.855699Z",
     "iopub.status.idle": "2023-04-19T05:24:13.865352Z",
     "shell.execute_reply": "2023-04-19T05:24:13.864836Z",
     "shell.execute_reply.started": "2023-04-19T05:24:13.855870Z"
    },
    "tags": []
   },
   "outputs": [
    {
     "name": "stdout",
     "output_type": "stream",
     "text": [
      "(Part 2: 0.005 s)\n"
     ]
    }
   ],
   "source": [
    "def day13_part2(s, *, chunk=100_000):  # Use numpy sieve (~Eratosthenes) with array slices.\n",
    "  scanners = np.array([list(map(int, line.split(': '))) for line in s.splitlines()])\n",
    "  depth, period = scanners[:, 0], (scanners[:, 1] - 1) * 2\n",
    "  for start in itertools.count(0, chunk):\n",
    "    ok = np.full(chunk, True)\n",
    "    for d, p in zip(depth, period):\n",
    "      first = (-(start + d)) % p\n",
    "      ok[first:chunk:p] = False\n",
    "    (indices,) = np.nonzero(ok)\n",
    "    if len(indices):\n",
    "      return start + indices[0]\n",
    "\n",
    "\n",
    "check_eq(day13_part2(s1, chunk=4), 10)\n",
    "puzzle.verify(2, day13_part2)"
   ]
  },
  {
   "cell_type": "markdown",
   "id": "06ff889f",
   "metadata": {},
   "source": [
    "<a name=\"day14\"></a>\n",
    "## Day 14: Grid from knot hash"
   ]
  },
  {
   "cell_type": "markdown",
   "id": "2ca89753",
   "metadata": {},
   "source": [
    "- Part 1: How many squares are used?\n",
    "\n",
    "- Part 2: How many regions are present?"
   ]
  },
  {
   "cell_type": "code",
   "execution_count": 61,
   "id": "14d3bd77",
   "metadata": {
    "execution": {
     "iopub.execute_input": "2023-04-19T05:24:13.866165Z",
     "iopub.status.busy": "2023-04-19T05:24:13.866007Z",
     "iopub.status.idle": "2023-04-19T05:24:13.882623Z",
     "shell.execute_reply": "2023-04-19T05:24:13.882091Z",
     "shell.execute_reply.started": "2023-04-19T05:24:13.866152Z"
    },
    "tags": []
   },
   "outputs": [
    {
     "data": {
      "text/markdown": [
       "For [day 14](https://adventofcode.com/2017/day/14), `puzzle.input` has a single line of 8 characters:"
      ],
      "text/plain": [
       "<IPython.core.display.Markdown object>"
      ]
     },
     "metadata": {},
     "output_type": "display_data"
    },
    {
     "name": "stdout",
     "output_type": "stream",
     "text": [
      "hwlqcszp\n"
     ]
    },
    {
     "data": {
      "text/markdown": [
       "The stored answers are: `{1: '8304', 2: '1018'}`"
      ],
      "text/plain": [
       "<IPython.core.display.Markdown object>"
      ]
     },
     "metadata": {},
     "output_type": "display_data"
    }
   ],
   "source": [
    "puzzle = advent.puzzle(day=14)"
   ]
  },
  {
   "cell_type": "code",
   "execution_count": 62,
   "id": "0d23c6f4",
   "metadata": {
    "execution": {
     "iopub.execute_input": "2023-04-19T05:24:13.883516Z",
     "iopub.status.busy": "2023-04-19T05:24:13.883328Z",
     "iopub.status.idle": "2023-04-19T05:24:15.055969Z",
     "shell.execute_reply": "2023-04-19T05:24:15.055277Z",
     "shell.execute_reply.started": "2023-04-19T05:24:13.883504Z"
    },
    "tags": []
   },
   "outputs": [
    {
     "name": "stdout",
     "output_type": "stream",
     "text": [
      "(Part 1: 0.284 s)\n",
      "(Part 2: 0.297 s)\n"
     ]
    }
   ],
   "source": [
    "def day14a(s, *, part2=False):  # Slower version.\n",
    "  s = s.strip()\n",
    "\n",
    "  def knot_hash(s: str, num: int = 256, num_rounds: int = 64) -> list[int]:\n",
    "    lengths = [ord(ch) for ch in s] + [17, 31, 73, 47, 23]\n",
    "    state = list(range(num))\n",
    "    position = 0\n",
    "    skip = 0\n",
    "    for _ in range(num_rounds):\n",
    "      for length in lengths:\n",
    "        assert length <= num\n",
    "        rotated = state[position:] + state[:position] if position else state\n",
    "        rotated[:length] = reversed(rotated[:length])\n",
    "        state = rotated[-position:] + rotated[:-position] if position else rotated\n",
    "        position = (position + length + skip) % num\n",
    "        skip += 1\n",
    "    return [\n",
    "        functools.reduce(operator.xor, group, 0)\n",
    "        for group in more_itertools.chunked(state, 16, strict=True)\n",
    "    ]\n",
    "\n",
    "  shape = 128, 128\n",
    "  grid = np.full(shape, 0)\n",
    "  for row in range(shape[0]):\n",
    "    values = knot_hash(f'{s}-{row}')\n",
    "    bits = ''.join(f'{value:08b}' for value in values)\n",
    "    grid[row] = np.array(list(bits)) == '1'\n",
    "\n",
    "  if not part2:\n",
    "    # hh.show(grid[:8, :8])\n",
    "    return np.sum(grid)\n",
    "\n",
    "  union_find = hh.UnionFind[Tuple[int, int]]()\n",
    "  for y, x in np.argwhere(grid):\n",
    "    for y2, x2 in ((y + 1, x), (y, x + 1)):\n",
    "      if y2 < shape[0] and x2 < shape[1] and grid[y2, x2]:\n",
    "        union_find.union((y, x), (y2, x2))\n",
    "\n",
    "  return len(set(union_find.find((y, x)) for y, x in np.argwhere(grid)))\n",
    "\n",
    "\n",
    "check_eq(day14a('flqrgnkx'), 8108)\n",
    "puzzle.verify(1, day14a)\n",
    "\n",
    "day14a_part2 = functools.partial(day14a, part2=True)\n",
    "check_eq(day14a_part2('flqrgnkx'), 1242)\n",
    "puzzle.verify(2, day14a_part2)"
   ]
  },
  {
   "cell_type": "code",
   "execution_count": 63,
   "id": "d21ae586",
   "metadata": {
    "execution": {
     "iopub.execute_input": "2023-04-19T05:24:15.056984Z",
     "iopub.status.busy": "2023-04-19T05:24:15.056724Z",
     "iopub.status.idle": "2023-04-19T05:24:15.361777Z",
     "shell.execute_reply": "2023-04-19T05:24:15.361224Z",
     "shell.execute_reply.started": "2023-04-19T05:24:15.056968Z"
    },
    "tags": []
   },
   "outputs": [
    {
     "name": "stdout",
     "output_type": "stream",
     "text": [
      "(Part 1: 0.066 s)\n",
      "(Part 2: 0.080 s)\n"
     ]
    }
   ],
   "source": [
    "def day14(s, *, part2=False, visualize=False):  # Faster, without rotation or reversed().\n",
    "  s = s.strip()\n",
    "\n",
    "  def knot_hash(s: str, num: int = 256, num_rounds: int = 64) -> list[int]:\n",
    "    lengths = [ord(ch) for ch in s] + [17, 31, 73, 47, 23]\n",
    "    state = list(range(num))\n",
    "    position = 0\n",
    "    skip = 0\n",
    "    for _ in range(num_rounds):\n",
    "      for length in lengths:\n",
    "        assert length <= num\n",
    "        rear = num - position\n",
    "        front = length - rear\n",
    "        if front <= 0:\n",
    "          state[position : position + length] = state[\n",
    "              position + length - 1 : (position - 1 if position else None) : -1\n",
    "          ]\n",
    "        elif front <= rear:\n",
    "          state[:front], state[position : position + front] = (\n",
    "              state[position + front - 1 : (position - 1 if position else None) : -1],\n",
    "              state[front - 1 :: -1],\n",
    "          )\n",
    "          state[position + front :] = state[-1 : position + front - 1 : -1]\n",
    "        else:\n",
    "          begin = front - rear\n",
    "          state[position:], state[begin:front] = (\n",
    "              state[front - 1 : (begin - 1 if begin else None) : -1],\n",
    "              state[-1 : position - 1 : -1],\n",
    "          )\n",
    "          state[:begin] = state[begin - 1 :: -1]\n",
    "        position = (position + length + skip) % num\n",
    "        skip += 1\n",
    "    return [\n",
    "        functools.reduce(operator.xor, group, 0)\n",
    "        for group in more_itertools.chunked(state, 16, strict=True)\n",
    "    ]\n",
    "\n",
    "  shape = 128, 128\n",
    "  grid = np.full(shape, 0)\n",
    "  for row in range(shape[0]):\n",
    "    values = knot_hash(f'{s}-{row}')\n",
    "    bits = ''.join(f'{value:08b}' for value in values)\n",
    "    grid[row] = np.array(list(bits)) == '1'\n",
    "\n",
    "  if not part2:\n",
    "    if visualize:\n",
    "      image = grid.repeat(2, axis=0).repeat(2, axis=1) == 0\n",
    "      media.show_image(image, border=True, title='day14')\n",
    "    return np.sum(grid)\n",
    "\n",
    "  union_find = hh.UnionFind[Tuple[int, int]]()\n",
    "  # for y, x in np.argwhere(grid):  # Slowest\n",
    "  # for y, x in zip(*np.nonzero(grid)):  # Slow.\n",
    "  # for y, x in np.ndindex(shape): if grid[y, x]:  # Only slightly slower.\n",
    "  for y, x in (yx for yx, value in np.ndenumerate(grid) if value):  # Fastest.\n",
    "    for y2, x2 in ((y + 1, x), (y, x + 1)):\n",
    "      if y2 < shape[0] and x2 < shape[1] and grid[y2, x2]:\n",
    "        union_find.union((y, x), (y2, x2))\n",
    "\n",
    "  return len(set(union_find.find((y, x)) for (y, x), value in np.ndenumerate(grid) if value))\n",
    "\n",
    "\n",
    "check_eq(day14('flqrgnkx'), 8108)\n",
    "puzzle.verify(1, day14)\n",
    "\n",
    "day14_part2 = functools.partial(day14, part2=True)\n",
    "check_eq(day14_part2('flqrgnkx'), 1242)\n",
    "puzzle.verify(2, day14_part2)"
   ]
  },
  {
   "cell_type": "code",
   "execution_count": 64,
   "id": "3696f7fe-1b40-496c-926e-193b48a11233",
   "metadata": {
    "execution": {
     "iopub.execute_input": "2023-04-19T05:24:15.362896Z",
     "iopub.status.busy": "2023-04-19T05:24:15.362591Z",
     "iopub.status.idle": "2023-04-19T05:24:15.450662Z",
     "shell.execute_reply": "2023-04-19T05:24:15.450087Z",
     "shell.execute_reply.started": "2023-04-19T05:24:15.362881Z"
    },
    "tags": []
   },
   "outputs": [
    {
     "data": {
      "text/html": [
       "<table class=\"show_images\" style=\"border-spacing:0px;\"><tr><td style=\"padding:1px;\"><div style=\"display:flex; align-items:left;\">\n",
       "      <div style=\"display:flex; flex-direction:column; align-items:center;\">\n",
       "      <div>day14</div><div><img width=\"256\" height=\"256\" style=\"border:1px solid black; image-rendering:auto; object-fit:cover;\" src=\"data:image/png;base64,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\"/></div></div></div></td></tr></table>"
      ],
      "text/plain": [
       "<IPython.core.display.HTML object>"
      ]
     },
     "metadata": {},
     "output_type": "display_data"
    }
   ],
   "source": [
    "_ = day14(puzzle.input, visualize=True)"
   ]
  },
  {
   "cell_type": "markdown",
   "id": "f6a8bdc6",
   "metadata": {},
   "source": [
    "<a name=\"day15\"></a>\n",
    "## Day 15: Dueling generators"
   ]
  },
  {
   "cell_type": "markdown",
   "id": "6abb1de8",
   "metadata": {},
   "source": [
    "- Part 1: After 40 million pairs, what is the judge's final count?\n",
    "\n",
    "- Part 2: After 5 million pairs, but using this new generator logic, what is the judge's final count?"
   ]
  },
  {
   "cell_type": "code",
   "execution_count": 65,
   "id": "d1697de9",
   "metadata": {
    "execution": {
     "iopub.execute_input": "2023-04-19T05:24:15.452162Z",
     "iopub.status.busy": "2023-04-19T05:24:15.451654Z",
     "iopub.status.idle": "2023-04-19T05:24:15.468665Z",
     "shell.execute_reply": "2023-04-19T05:24:15.468108Z",
     "shell.execute_reply.started": "2023-04-19T05:24:15.452139Z"
    },
    "tags": []
   },
   "outputs": [
    {
     "data": {
      "text/markdown": [
       "For [day 15](https://adventofcode.com/2017/day/15), `puzzle.input` has 2 lines:"
      ],
      "text/plain": [
       "<IPython.core.display.Markdown object>"
      ]
     },
     "metadata": {},
     "output_type": "display_data"
    },
    {
     "name": "stdout",
     "output_type": "stream",
     "text": [
      "Generator A starts with 634\n",
      "Generator B starts with 301\n"
     ]
    },
    {
     "data": {
      "text/markdown": [
       "The stored answers are: `{1: '573', 2: '294'}`"
      ],
      "text/plain": [
       "<IPython.core.display.Markdown object>"
      ]
     },
     "metadata": {},
     "output_type": "display_data"
    }
   ],
   "source": [
    "puzzle = advent.puzzle(day=15)"
   ]
  },
  {
   "cell_type": "code",
   "execution_count": 66,
   "id": "bdfb5963-0a84-4d75-9a3c-247bed86319e",
   "metadata": {
    "execution": {
     "iopub.execute_input": "2023-04-19T05:24:15.469656Z",
     "iopub.status.busy": "2023-04-19T05:24:15.469379Z",
     "iopub.status.idle": "2023-04-19T05:24:15.472158Z",
     "shell.execute_reply": "2023-04-19T05:24:15.471660Z",
     "shell.execute_reply.started": "2023-04-19T05:24:15.469640Z"
    },
    "tags": []
   },
   "outputs": [],
   "source": [
    "s1 = \"\"\"\\\n",
    "Generator A starts with 65\n",
    "Generator B starts with 8921\n",
    "\"\"\""
   ]
  },
  {
   "cell_type": "code",
   "execution_count": 67,
   "id": "dfa513d9",
   "metadata": {
    "execution": {
     "iopub.execute_input": "2023-04-19T05:24:15.476502Z",
     "iopub.status.busy": "2023-04-19T05:24:15.476240Z",
     "iopub.status.idle": "2023-04-19T05:24:16.244443Z",
     "shell.execute_reply": "2023-04-19T05:24:16.243781Z",
     "shell.execute_reply.started": "2023-04-19T05:24:15.476490Z"
    },
    "tags": []
   },
   "outputs": [
    {
     "name": "stdout",
     "output_type": "stream",
     "text": [
      "(Part 1: 0.138 s)\n",
      "(Part 2: 0.205 s)\n"
     ]
    }
   ],
   "source": [
    "@numba.njit\n",
    "def day15_compute(state0: int, state1: int, part2: bool) -> int:\n",
    "  factor0, factor1 = 16807, 48271\n",
    "  num_matches = 0\n",
    "  num_checks = 5_000_000 if part2 else 40_000_000\n",
    "  for _ in range(num_checks):\n",
    "    while True:\n",
    "      state0 = (state0 * factor0) % 2147483647\n",
    "      if not part2 or state0 & 3 == 0:\n",
    "        break\n",
    "    while True:\n",
    "      state1 = (state1 * factor1) % 2147483647\n",
    "      if not part2 or state1 & 7 == 0:\n",
    "        break\n",
    "    num_matches += (state0 & 65535) == (state1 & 65535)\n",
    "  return num_matches\n",
    "\n",
    "\n",
    "def day15(s, *, part2=False):\n",
    "  state0, state1 = (int(line.split(' starts with ')[1]) for line in s.splitlines())\n",
    "  return day15_compute(state0, state1, part2)\n",
    "\n",
    "\n",
    "check_eq(day15(s1), 588)\n",
    "puzzle.verify(1, day15)\n",
    "\n",
    "day15_part2 = functools.partial(day15, part2=True)\n",
    "check_eq(day15_part2(s1), 309)\n",
    "puzzle.verify(2, day15_part2)"
   ]
  },
  {
   "cell_type": "markdown",
   "id": "fc04d6fd",
   "metadata": {},
   "source": [
    "<a name=\"day16\"></a>\n",
    "## Day 16: Permutation dance"
   ]
  },
  {
   "cell_type": "markdown",
   "id": "ac90307e",
   "metadata": {},
   "source": [
    "- Part 1: In what order are the programs standing after their dance?\n",
    "\n",
    "- Part 2: In what order are the programs standing after their billion dances?"
   ]
  },
  {
   "cell_type": "code",
   "execution_count": 68,
   "id": "de9171cf",
   "metadata": {
    "execution": {
     "iopub.execute_input": "2023-04-19T05:24:16.245658Z",
     "iopub.status.busy": "2023-04-19T05:24:16.245234Z",
     "iopub.status.idle": "2023-04-19T05:24:16.261202Z",
     "shell.execute_reply": "2023-04-19T05:24:16.260654Z",
     "shell.execute_reply.started": "2023-04-19T05:24:16.245643Z"
    },
    "tags": []
   },
   "outputs": [
    {
     "data": {
      "text/markdown": [
       "For [day 16](https://adventofcode.com/2017/day/16), `puzzle.input` has a single line of 48_521 characters:"
      ],
      "text/plain": [
       "<IPython.core.display.Markdown object>"
      ]
     },
     "metadata": {},
     "output_type": "display_data"
    },
    {
     "name": "stdout",
     "output_type": "stream",
     "text": [
      "x6/12,s14,x14/1,s5,x12/7,pn/i,x10/11,ph/p,x7/4,s7,x3/11,s4,pf/d,x13/12,s14,x1/8, ... ,pd/c,x5/11,s8,x3/0,po/l,x15/5,pp/d\n"
     ]
    },
    {
     "data": {
      "text/markdown": [
       "The stored answers are: `{1: 'cgpfhdnambekjiol', 2: 'gjmiofcnaehpdlbk'}`"
      ],
      "text/plain": [
       "<IPython.core.display.Markdown object>"
      ]
     },
     "metadata": {},
     "output_type": "display_data"
    }
   ],
   "source": [
    "puzzle = advent.puzzle(day=16)"
   ]
  },
  {
   "cell_type": "code",
   "execution_count": 69,
   "id": "f42431c3",
   "metadata": {
    "execution": {
     "iopub.execute_input": "2023-04-19T05:24:16.262139Z",
     "iopub.status.busy": "2023-04-19T05:24:16.261878Z",
     "iopub.status.idle": "2023-04-19T05:24:16.271971Z",
     "shell.execute_reply": "2023-04-19T05:24:16.271291Z",
     "shell.execute_reply.started": "2023-04-19T05:24:16.262125Z"
    },
    "tags": []
   },
   "outputs": [
    {
     "name": "stdout",
     "output_type": "stream",
     "text": [
      "(Part 1: 0.005 s)\n"
     ]
    }
   ],
   "source": [
    "def day16a_part1(s, *, num=16):  # Simpler version supporting only Part 1.\n",
    "  state = [chr(ord('a') + i) for i in range(num)]\n",
    "\n",
    "  for move in s.strip().split(','):\n",
    "    operation, operands = move[0], move[1:]\n",
    "    match operation:\n",
    "      case 's':\n",
    "        size = int(operands)\n",
    "        assert 1 <= size < num\n",
    "        state = state[-size:] + state[:-size]\n",
    "      case 'x':\n",
    "        pos0, pos1 = (int(s2) for s2 in operands.split('/'))\n",
    "        state[pos0], state[pos1] = state[pos1], state[pos0]\n",
    "      case 'p':\n",
    "        ch0, ch1 = operands.split('/')\n",
    "        index0, index1 = state.index(ch0), state.index(ch1)\n",
    "        state[index0], state[index1] = ch1, ch0\n",
    "      case _:\n",
    "        raise ValueError(move)\n",
    "\n",
    "  return ''.join(state)\n",
    "\n",
    "\n",
    "check_eq(day16a_part1('s1,x3/4,pe/b', num=5), 'baedc')\n",
    "puzzle.verify(1, day16a_part1)  # e.g. 'olgejankfhbmpidc'"
   ]
  },
  {
   "cell_type": "code",
   "execution_count": 70,
   "id": "f080d827-fd65-4dfa-8593-d1be89e37fbe",
   "metadata": {
    "execution": {
     "iopub.execute_input": "2023-04-19T05:24:16.273372Z",
     "iopub.status.busy": "2023-04-19T05:24:16.272813Z",
     "iopub.status.idle": "2023-04-19T05:24:16.303193Z",
     "shell.execute_reply": "2023-04-19T05:24:16.302360Z",
     "shell.execute_reply.started": "2023-04-19T05:24:16.273356Z"
    },
    "tags": []
   },
   "outputs": [
    {
     "name": "stdout",
     "output_type": "stream",
     "text": [
      "(Part 1: 0.009 s)\n",
      "(Part 2: 0.009 s)\n"
     ]
    }
   ],
   "source": [
    "def day16(s, *, num=16, num_permutations=1):\n",
    "  # We track two permutations: a permutation on symbols, and a permutation on positions.\n",
    "  perm_sym = list(range(num))  # Destination sym for each source sym.\n",
    "  perm_pos = list(range(num))  # Destination pos for each source pos.\n",
    "\n",
    "  for move in s.strip().split(','):\n",
    "    operation, operands = move[0], move[1:]\n",
    "    match operation:\n",
    "      case 'p':\n",
    "        sym0, sym1 = (ord(ch) - ord('a') for ch in operands.split('/'))\n",
    "        index0, index1 = perm_sym.index(sym0), perm_sym.index(sym1)\n",
    "        perm_sym[index0], perm_sym[index1] = sym1, sym0\n",
    "      case 's':\n",
    "        size = int(operands)\n",
    "        assert 1 <= size < num\n",
    "        for i, pos in enumerate(perm_pos):\n",
    "          perm_pos[i] = pos + (size if pos < num - size else size - num)\n",
    "      case 'x':\n",
    "        pos0, pos1 = (int(s2) for s2 in operands.split('/'))\n",
    "        index0, index1 = perm_pos.index(pos0), perm_pos.index(pos1)\n",
    "        perm_pos[index0], perm_pos[index1] = pos1, pos0\n",
    "      case _:\n",
    "        raise ValueError(move)\n",
    "\n",
    "  def evaluate(perm_sym: list[int], perm_pos: list[int]) -> str:\n",
    "    # Invert permutation using https://stackoverflow.com/a/11649931.\n",
    "    return ''.join(chr(perm_sym[i] + ord('a')) for i in np.argsort(perm_pos))\n",
    "\n",
    "  @functools.cache\n",
    "  def compose(num_permutations: int) -> tuple[list[int], list[int]]:\n",
    "    if num_permutations == 1:\n",
    "      return perm_sym, perm_pos\n",
    "    num0, num1 = (num_permutations + 1) // 2, num_permutations // 2\n",
    "    (perm_sym0, perm_pos0), (perm_sym1, perm_pos1) = compose(num0), compose(num1)\n",
    "    return ([perm_sym1[sym0] for sym0 in perm_sym0], [perm_pos1[pos0] for pos0 in perm_pos0])\n",
    "\n",
    "  return evaluate(*compose(num_permutations))\n",
    "\n",
    "\n",
    "check_eq(day16('s1,x3/4,pe/b', num=5), 'baedc')\n",
    "puzzle.verify(1, day16)  # e.g. 'olgejankfhbmpidc'\n",
    "\n",
    "day16_part2 = functools.partial(day16, num_permutations=1_000_000_000)\n",
    "check_eq(day16_part2('s1,x3/4,pe/b', num=5, num_permutations=2), 'ceadb')\n",
    "puzzle.verify(2, day16_part2)"
   ]
  },
  {
   "cell_type": "markdown",
   "id": "a5417628",
   "metadata": {},
   "source": [
    "<a name=\"day17\"></a>\n",
    "## Day 17: Circular buffer"
   ]
  },
  {
   "cell_type": "markdown",
   "id": "e4abcddb",
   "metadata": {},
   "source": [
    "- Part 1: What is the value after 2017 in your completed circular buffer?\n",
    "\n",
    "- Part 2: What is the value after 0 the moment 50000000 is inserted?"
   ]
  },
  {
   "cell_type": "code",
   "execution_count": 71,
   "id": "a5aae1e0",
   "metadata": {
    "execution": {
     "iopub.execute_input": "2023-04-19T05:24:16.304339Z",
     "iopub.status.busy": "2023-04-19T05:24:16.304089Z",
     "iopub.status.idle": "2023-04-19T05:24:16.320423Z",
     "shell.execute_reply": "2023-04-19T05:24:16.319629Z",
     "shell.execute_reply.started": "2023-04-19T05:24:16.304322Z"
    },
    "tags": []
   },
   "outputs": [
    {
     "data": {
      "text/markdown": [
       "For [day 17](https://adventofcode.com/2017/day/17), `puzzle.input` has a single line of 3 characters:"
      ],
      "text/plain": [
       "<IPython.core.display.Markdown object>"
      ]
     },
     "metadata": {},
     "output_type": "display_data"
    },
    {
     "name": "stdout",
     "output_type": "stream",
     "text": [
      "366\n"
     ]
    },
    {
     "data": {
      "text/markdown": [
       "The stored answers are: `{1: '1025', 2: '37803463'}`"
      ],
      "text/plain": [
       "<IPython.core.display.Markdown object>"
      ]
     },
     "metadata": {},
     "output_type": "display_data"
    }
   ],
   "source": [
    "puzzle = advent.puzzle(day=17)"
   ]
  },
  {
   "cell_type": "code",
   "execution_count": 72,
   "id": "ccc7931a",
   "metadata": {
    "execution": {
     "iopub.execute_input": "2023-04-19T05:24:16.321906Z",
     "iopub.status.busy": "2023-04-19T05:24:16.321422Z",
     "iopub.status.idle": "2023-04-19T05:24:16.698756Z",
     "shell.execute_reply": "2023-04-19T05:24:16.697844Z",
     "shell.execute_reply.started": "2023-04-19T05:24:16.321877Z"
    },
    "tags": []
   },
   "outputs": [
    {
     "name": "stdout",
     "output_type": "stream",
     "text": [
      "(Part 1: 0.006 s)\n",
      "(Part 2: 0.153 s)\n"
     ]
    }
   ],
   "source": [
    "@numba.njit  # ~2.6 s -> ~0.16 s.\n",
    "def day17_compute_part2(step: int) -> int:\n",
    "  pos = -1\n",
    "  after_zero = -1\n",
    "  step1 = step + 1\n",
    "\n",
    "  for index in range(1, 50_000_000 + 1):\n",
    "    pos = (pos + step1) % index\n",
    "    if pos == 0:\n",
    "      after_zero = index\n",
    "\n",
    "  return after_zero\n",
    "  # Comparable to C++:\n",
    "  # https://ideone.com/HLrQCx  0.4 s.\n",
    "  # https://www.online-cpp.com/rluemsc5ha  1.2 s.\n",
    "\n",
    "\n",
    "def day17(s, *, part2=False):\n",
    "  step = int(s)\n",
    "  assert step > 0\n",
    "\n",
    "  if not part2:\n",
    "    pos = 0\n",
    "    state = [0]\n",
    "\n",
    "    for index in range(2017):\n",
    "      pos = (pos + step) % len(state)\n",
    "      state = state[: pos + 1] + [index + 1] + state[pos + 1 :]\n",
    "      pos = pos + 1\n",
    "\n",
    "    return state[pos + 1]\n",
    "\n",
    "  return day17_compute_part2(step)\n",
    "\n",
    "\n",
    "check_eq(day17('3'), 638)\n",
    "puzzle.verify(1, day17)\n",
    "\n",
    "day17_part2 = functools.partial(day17, part2=True)\n",
    "_ = day17_part2(puzzle.input)  # For numba jit.\n",
    "puzzle.verify(2, day17_part2)"
   ]
  },
  {
   "cell_type": "markdown",
   "id": "fb30a53d",
   "metadata": {},
   "source": [
    "<a name=\"day18\"></a>\n",
    "## Day 18: Two async programs"
   ]
  },
  {
   "cell_type": "markdown",
   "id": "52ca8517",
   "metadata": {},
   "source": [
    "- Part 1: What is the value of the recovered frequency (the value of the most recently played sound) the first time a rcv instruction is executed with a non-zero value?\n",
    "\n",
    "- Part 2: Once both of your programs have terminated (regardless of what caused them to do so), how many times did program 1 send a value?"
   ]
  },
  {
   "cell_type": "code",
   "execution_count": 73,
   "id": "417456ce",
   "metadata": {
    "execution": {
     "iopub.execute_input": "2023-04-19T05:24:16.700070Z",
     "iopub.status.busy": "2023-04-19T05:24:16.699665Z",
     "iopub.status.idle": "2023-04-19T05:24:16.716100Z",
     "shell.execute_reply": "2023-04-19T05:24:16.715595Z",
     "shell.execute_reply.started": "2023-04-19T05:24:16.700054Z"
    },
    "tags": []
   },
   "outputs": [
    {
     "data": {
      "text/markdown": [
       "For [day 18](https://adventofcode.com/2017/day/18), `puzzle.input` has 41 lines:"
      ],
      "text/plain": [
       "<IPython.core.display.Markdown object>"
      ]
     },
     "metadata": {},
     "output_type": "display_data"
    },
    {
     "name": "stdout",
     "output_type": "stream",
     "text": [
      "set i 31\n",
      "set a 1\n",
      "mul p 17\n",
      "jgz p p\n",
      "mul a 2\n",
      "add i -1\n",
      "jgz i -2\n",
      "add a -1\n",
      " ...\n",
      "jgz i -11\n",
      "snd a\n",
      "jgz f -16\n",
      "jgz a -19\n"
     ]
    },
    {
     "data": {
      "text/markdown": [
       "The stored answers are: `{1: '4601', 2: '6858'}`"
      ],
      "text/plain": [
       "<IPython.core.display.Markdown object>"
      ]
     },
     "metadata": {},
     "output_type": "display_data"
    }
   ],
   "source": [
    "puzzle = advent.puzzle(day=18)"
   ]
  },
  {
   "cell_type": "code",
   "execution_count": 74,
   "id": "408ec814-6b2c-47d0-94ee-8b1d85967765",
   "metadata": {
    "execution": {
     "iopub.execute_input": "2023-04-19T05:24:16.717009Z",
     "iopub.status.busy": "2023-04-19T05:24:16.716699Z",
     "iopub.status.idle": "2023-04-19T05:24:16.719462Z",
     "shell.execute_reply": "2023-04-19T05:24:16.718997Z",
     "shell.execute_reply.started": "2023-04-19T05:24:16.716992Z"
    },
    "tags": []
   },
   "outputs": [],
   "source": [
    "s1 = \"\"\"\\\n",
    "set a 1\n",
    "add a 2\n",
    "mul a a\n",
    "mod a 5\n",
    "snd a\n",
    "set a 0\n",
    "rcv a\n",
    "jgz a -1\n",
    "set a 1\n",
    "jgz a -2\n",
    "\"\"\""
   ]
  },
  {
   "cell_type": "code",
   "execution_count": 75,
   "id": "8b5b6841-737a-45a9-86ed-faa841df1d4f",
   "metadata": {
    "execution": {
     "iopub.execute_input": "2023-04-19T05:24:16.720268Z",
     "iopub.status.busy": "2023-04-19T05:24:16.720034Z",
     "iopub.status.idle": "2023-04-19T05:24:16.729443Z",
     "shell.execute_reply": "2023-04-19T05:24:16.728583Z",
     "shell.execute_reply.started": "2023-04-19T05:24:16.720257Z"
    },
    "tags": []
   },
   "outputs": [],
   "source": [
    "s2 = \"\"\"\\\n",
    "snd 1\n",
    "snd 2\n",
    "snd p\n",
    "rcv a\n",
    "rcv b\n",
    "rcv c\n",
    "rcv d\n",
    "\"\"\""
   ]
  },
  {
   "cell_type": "code",
   "execution_count": 76,
   "id": "9ec068f1",
   "metadata": {
    "execution": {
     "iopub.execute_input": "2023-04-19T05:24:16.730567Z",
     "iopub.status.busy": "2023-04-19T05:24:16.730257Z",
     "iopub.status.idle": "2023-04-19T05:24:16.741062Z",
     "shell.execute_reply": "2023-04-19T05:24:16.740201Z",
     "shell.execute_reply.started": "2023-04-19T05:24:16.730549Z"
    },
    "tags": []
   },
   "outputs": [
    {
     "name": "stdout",
     "output_type": "stream",
     "text": [
      "(Part 1: 0.001 s)\n"
     ]
    }
   ],
   "source": [
    "def day18(s):\n",
    "  instructions = [tuple(line.split(' ')) for line in s.splitlines()]\n",
    "  pc = 0\n",
    "  registers: collections.defaultdict[str, int] = collections.defaultdict(int)\n",
    "  sound: int | None = None\n",
    "\n",
    "  def get(value: str) -> int:\n",
    "    return registers[value] if value.isalpha() else int(value)\n",
    "\n",
    "  while True:\n",
    "    assert 0 <= pc < len(instructions)\n",
    "    match instructions[pc]:\n",
    "      case 'snd', operand:\n",
    "        sound = get(operand)\n",
    "      case 'rcv', operand:\n",
    "        if get(operand) != 0:\n",
    "          return sound\n",
    "      case 'set', dst, src:\n",
    "        registers[dst] = get(src)\n",
    "      case 'add', dst, src:\n",
    "        registers[dst] += get(src)\n",
    "      case 'mul', dst, src:\n",
    "        registers[dst] *= get(src)\n",
    "      case 'mod', dst, src:\n",
    "        registers[dst] %= get(src)\n",
    "      case 'jgz', predicate, offset:\n",
    "        if get(predicate) > 0:\n",
    "          pc += get(offset) - 1\n",
    "      case x:\n",
    "        raise ValueError(x)\n",
    "    pc += 1\n",
    "\n",
    "\n",
    "check_eq(day18(s1), 4)\n",
    "puzzle.verify(1, day18)"
   ]
  },
  {
   "cell_type": "code",
   "execution_count": 77,
   "id": "217be260-2798-4889-8888-dfba5494485b",
   "metadata": {
    "execution": {
     "iopub.execute_input": "2023-04-19T05:24:16.742470Z",
     "iopub.status.busy": "2023-04-19T05:24:16.741988Z",
     "iopub.status.idle": "2023-04-19T05:24:16.839924Z",
     "shell.execute_reply": "2023-04-19T05:24:16.839357Z",
     "shell.execute_reply.started": "2023-04-19T05:24:16.742451Z"
    },
    "tags": []
   },
   "outputs": [
    {
     "name": "stdout",
     "output_type": "stream",
     "text": [
      "(Part 2: 0.084 s)\n"
     ]
    }
   ],
   "source": [
    "def day18_part2(s):\n",
    "  instructions = [tuple(line.split(' ')) for line in s.splitlines()]\n",
    "  evaluate = {\n",
    "      'set': lambda _, b: b,\n",
    "      'add': lambda a, b: a + b,\n",
    "      'mul': lambda a, b: a * b,\n",
    "      'mod': lambda a, b: a % b,\n",
    "  }\n",
    "\n",
    "  @dataclasses.dataclass\n",
    "  class Program:\n",
    "    \"\"\"One of two programs running the shared `instructions`.\"\"\"\n",
    "\n",
    "    program_id: int\n",
    "    pc: int = 0\n",
    "    registers: collections.defaultdict[str, int] = dataclasses.field(\n",
    "        default_factory=lambda: collections.defaultdict(int)\n",
    "    )\n",
    "    queue: collections.deque[int] = dataclasses.field(default_factory=collections.deque)\n",
    "    total_sends: int = 0\n",
    "\n",
    "    def __post_init__(self):\n",
    "      self.registers['p'] = self.program_id\n",
    "\n",
    "    def get(self, value: str) -> int:\n",
    "      return self.registers[value] if value.isalpha() else int(value)\n",
    "\n",
    "    def execute(self) -> bool:\n",
    "      if not 0 <= self.pc < len(instructions):\n",
    "        return False\n",
    "      match instructions[self.pc]:\n",
    "        case 'snd', operand:\n",
    "          other_program = programs[1 - self.program_id]\n",
    "          other_program.queue.append(self.get(operand))\n",
    "          self.total_sends += 1\n",
    "        case 'rcv', operand:\n",
    "          if not self.queue:\n",
    "            return False\n",
    "          self.registers[operand] = self.queue.popleft()\n",
    "        case 'jgz', predicate, offset:\n",
    "          if self.get(predicate) > 0:\n",
    "            self.pc += self.get(offset) - 1\n",
    "        case operation, dst, src:\n",
    "          self.registers[dst] = evaluate[operation](self.registers[dst], self.get(src))\n",
    "        case x:\n",
    "          raise ValueError(x)\n",
    "      self.pc += 1\n",
    "      return True\n",
    "\n",
    "  programs = [Program(0), Program(1)]\n",
    "  while programs[0].execute() or programs[1].execute():\n",
    "    pass\n",
    "  return programs[1].total_sends\n",
    "\n",
    "\n",
    "check_eq(day18_part2(s2), 3)\n",
    "puzzle.verify(2, day18_part2)"
   ]
  },
  {
   "cell_type": "markdown",
   "id": "00b59474",
   "metadata": {},
   "source": [
    "<a name=\"day19\"></a>\n",
    "## Day 19: Follow 2D paths"
   ]
  },
  {
   "cell_type": "markdown",
   "id": "d7ee8dcd",
   "metadata": {},
   "source": [
    "- Part 1: What are the letters along the path?\n",
    "\n",
    "- Part 2: How many steps does the packet need to go?"
   ]
  },
  {
   "cell_type": "code",
   "execution_count": 78,
   "id": "84fabebf",
   "metadata": {
    "execution": {
     "iopub.execute_input": "2023-04-19T05:24:16.840748Z",
     "iopub.status.busy": "2023-04-19T05:24:16.840596Z",
     "iopub.status.idle": "2023-04-19T05:24:16.856354Z",
     "shell.execute_reply": "2023-04-19T05:24:16.855864Z",
     "shell.execute_reply.started": "2023-04-19T05:24:16.840735Z"
    },
    "tags": []
   },
   "outputs": [
    {
     "data": {
      "text/markdown": [
       "For [day 19](https://adventofcode.com/2017/day/19), `puzzle.input` has 201 lines:"
      ],
      "text/plain": [
       "<IPython.core.display.Markdown object>"
      ]
     },
     "metadata": {},
     "output_type": "display_data"
    },
    {
     "name": "stdout",
     "output_type": "stream",
     "text": [
      "                                                                                 ...                  |                 \n",
      "     +-------------------------------------------------------------------------- ... -----------------|-------------+   \n",
      "     |                                                                           ...                  |             |   \n",
      "     |               +-+   +-------+     +-------------------------------------- ...            +---+ |     +-+ +---|-+ \n",
      "     |               | |   |       |     |                                       ...            |   | |     | | |   | | \n",
      "   +-|-+             | |   |       |     +-------------------------------------- ...            |   +-|---------|-+ | | \n",
      "   | | |             | |   |       |                                             ...            |     |     | | | | | | \n",
      " +-+ | |     +---------------------|-------------------------------------------- ... -----------|-----|-----+ | | | | | \n",
      " ...\n",
      " +-|---------------------------------------|---------------------+   |       +-- ... -|-------------+           +-----+ \n",
      "   |                                   |   |                     |   |           ...  |   |                             \n",
      "   +-----------------------------------+   +---------------------+   +---------- ...  +---+                             \n",
      "                                                                                 ...                                    \n"
     ]
    },
    {
     "data": {
      "text/markdown": [
       "The stored answers are: `{1: 'GEPYAWTMLK', 2: '17628'}`"
      ],
      "text/plain": [
       "<IPython.core.display.Markdown object>"
      ]
     },
     "metadata": {},
     "output_type": "display_data"
    }
   ],
   "source": [
    "puzzle = advent.puzzle(day=19)"
   ]
  },
  {
   "cell_type": "code",
   "execution_count": 79,
   "id": "88a7cb45-5ff7-4833-94db-42d369a8f621",
   "metadata": {
    "execution": {
     "iopub.execute_input": "2023-04-19T05:24:16.857268Z",
     "iopub.status.busy": "2023-04-19T05:24:16.857021Z",
     "iopub.status.idle": "2023-04-19T05:24:16.859821Z",
     "shell.execute_reply": "2023-04-19T05:24:16.859334Z",
     "shell.execute_reply.started": "2023-04-19T05:24:16.857256Z"
    },
    "tags": []
   },
   "outputs": [],
   "source": [
    "s1 = \"\"\"\\\n",
    "     |          X\n",
    "     |  +--+    X\n",
    "     A  |  C    X\n",
    " F---|----E|--+ X\n",
    "     |  |  |  D X\n",
    "     +B-+  +--+ X\n",
    "\"\"\".replace(\n",
    "    'X', ''\n",
    ")"
   ]
  },
  {
   "cell_type": "code",
   "execution_count": 80,
   "id": "372f03b1",
   "metadata": {
    "execution": {
     "iopub.execute_input": "2023-04-19T05:24:16.860714Z",
     "iopub.status.busy": "2023-04-19T05:24:16.860460Z",
     "iopub.status.idle": "2023-04-19T05:24:16.892688Z",
     "shell.execute_reply": "2023-04-19T05:24:16.891857Z",
     "shell.execute_reply.started": "2023-04-19T05:24:16.860700Z"
    },
    "tags": []
   },
   "outputs": [
    {
     "name": "stdout",
     "output_type": "stream",
     "text": [
      "(Part 1: 0.009 s)\n",
      "(Part 2: 0.010 s)\n"
     ]
    }
   ],
   "source": [
    "def day19(s, *, part2=False):\n",
    "  grid = hh.grid_from_string(s)  # shape=(201, 201).\n",
    "  grid = np.pad(grid, ((0, 1), (0, 1)), constant_values=' ')\n",
    "  # (y,), (x,) = np.nonzero(grid[:1] == '|')\n",
    "  ((y, x),) = np.argwhere(grid[:1] == '|')\n",
    "  dy, dx = 1, 0\n",
    "  letters: list[str] = []\n",
    "  num_steps = 0\n",
    "\n",
    "  while True:\n",
    "    num_steps += 1\n",
    "    y, x = y + dy, x + dx\n",
    "    match grid[y, x]:\n",
    "      case '+':\n",
    "        dy, dx = dx, dy  # One of the two 90-degree rotations.\n",
    "        if grid[y + dy, x + dx] == ' ':\n",
    "          dy, dx = -dy, -dx  # The other possible 90-degree rotation.\n",
    "        if grid[y + dy, x + dx] == ' ':\n",
    "          raise ValueError\n",
    "      case ' ':\n",
    "        return num_steps if part2 else ''.join(letters)\n",
    "      case '|' | '-':\n",
    "        pass\n",
    "      case ch:\n",
    "        assert ch.isalpha()\n",
    "        letters.append(ch)\n",
    "\n",
    "\n",
    "check_eq(day19(s1), 'ABCDEF')\n",
    "puzzle.verify(1, day19)\n",
    "\n",
    "day19_part2 = functools.partial(day19, part2=True)\n",
    "check_eq(day19_part2(s1), 38)\n",
    "puzzle.verify(2, day19_part2)"
   ]
  },
  {
   "cell_type": "code",
   "execution_count": 81,
   "id": "3de85ed3-9cee-4f1e-b1f6-a04b2a0e4879",
   "metadata": {
    "execution": {
     "iopub.execute_input": "2023-04-19T05:24:16.893958Z",
     "iopub.status.busy": "2023-04-19T05:24:16.893605Z",
     "iopub.status.idle": "2023-04-19T05:24:19.746872Z",
     "shell.execute_reply": "2023-04-19T05:24:19.746238Z",
     "shell.execute_reply.started": "2023-04-19T05:24:16.893935Z"
    },
    "tags": []
   },
   "outputs": [
    {
     "data": {
      "text/html": [
       "<table class=\"show_videos\" style=\"border-spacing:0px;\"><tr><td style=\"padding:1px;\"><div style=\"display:flex; align-items:left;\">\n",
       "      <div style=\"display:flex; flex-direction:column; align-items:center;\">\n",
       "      <div>day19</div><div><img width=\"404\" height=\"404\" style=\"image-rendering:auto; object-fit:cover;\" src=\"data:image/gif;base64,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\"/></div></div></div></td></tr></table>"
      ],
      "text/plain": [
       "<IPython.core.display.HTML object>"
      ]
     },
     "metadata": {},
     "output_type": "display_data"
    }
   ],
   "source": [
    "def day19_visualize(s):\n",
    "  grid = hh.grid_from_string(s)  # shape=(201, 201).\n",
    "  grid = np.pad(grid, ((0, 1), (0, 1)), constant_values=' ')\n",
    "  ((y, x),) = np.argwhere(grid[:1] == '|')\n",
    "  dy, dx = 1, 0\n",
    "  letters = []\n",
    "  num_steps = 0\n",
    "  images = []\n",
    "  image = hh.to_image((grid == '|') | (grid == '-') | (grid == '+'), 245, 180)\n",
    "  image[np.char.isalpha(grid)] = 255, 0, 0\n",
    "\n",
    "  while (ch := grid[y, x]) != ' ':\n",
    "    ch = grid[y, x]\n",
    "    if ch.isalpha():\n",
    "      letters.append(ch)\n",
    "    elif ch == '+':\n",
    "      dy, dx = dx, dy  # One of the two 90-degree rotations.\n",
    "      if grid[y + dy, x + dx] == ' ':\n",
    "        dy, dx = -dy, -dx  # The other possible 90-degree rotation.\n",
    "    image[y, x] = (255, 0, 0) if ch.isalpha() else (20, 40, 180)\n",
    "    y, x = y + dy, x + dx\n",
    "    if num_steps % 47 == 0 or grid[y, x] == ' ':\n",
    "      image2 = image.repeat(2, axis=0).repeat(2, axis=1)\n",
    "      text = f'Steps:{num_steps + 1:5}  Letters:{\"\".join(letters):10}'\n",
    "      hh.overlay_text(image2, (50, 50), text, fontsize=18, align='tl', margin=((5, 2), (2, 2)))\n",
    "      images.append(image2)\n",
    "    num_steps += 1\n",
    "\n",
    "  images = [images[0]] * 60 + images + [images[-1]] * 80\n",
    "  media.show_video(images, codec='gif', fps=50, title='day19')\n",
    "\n",
    "\n",
    "day19_visualize(puzzle.input)"
   ]
  },
  {
   "cell_type": "markdown",
   "id": "1822e34f",
   "metadata": {},
   "source": [
    "<a name=\"day20\"></a>\n",
    "## Day 20: Accelerating 3D particles"
   ]
  },
  {
   "cell_type": "markdown",
   "id": "bfbaf6de",
   "metadata": {},
   "source": [
    "- Part 1: Which particle will stay closest to position <0,0,0> in the long term?\n",
    "\n",
    "- Part 2: How many particles are left after all collisions are resolved?"
   ]
  },
  {
   "cell_type": "code",
   "execution_count": 82,
   "id": "0f49f46b",
   "metadata": {
    "execution": {
     "iopub.execute_input": "2023-04-19T05:24:19.747976Z",
     "iopub.status.busy": "2023-04-19T05:24:19.747660Z",
     "iopub.status.idle": "2023-04-19T05:24:19.763282Z",
     "shell.execute_reply": "2023-04-19T05:24:19.762715Z",
     "shell.execute_reply.started": "2023-04-19T05:24:19.747960Z"
    },
    "tags": []
   },
   "outputs": [
    {
     "data": {
      "text/markdown": [
       "For [day 20](https://adventofcode.com/2017/day/20), `puzzle.input` has 1_000 lines:"
      ],
      "text/plain": [
       "<IPython.core.display.Markdown object>"
      ]
     },
     "metadata": {},
     "output_type": "display_data"
    },
    {
     "name": "stdout",
     "output_type": "stream",
     "text": [
      "p=<-1724,-1700,5620>, v=<44,-10,-107>, a=<2,6,-9>\n",
      "p=<551,3425,4570>, v=<-21,-7,-182>, a=<0,-10,0>\n",
      "p=<-524,-3400,2495>, v=<22,19,5>, a=<0,9,-8>\n",
      "p=<-123,-125,419>, v=<25,54,-12>, a=<-2,-5,-2>\n",
      "p=<-3811,3483,1459>, v=<162,-112,-26>, a=<9,-12,-8>\n",
      "p=<-827,475,771>, v=<52,-26,0>, a=<0,0,-6>\n",
      "p=<293,1547,-669>, v=<-18,-93,-12>, a=<0,0,6>\n",
      "p=<-251,-165,2787>, v=<16,-3,-160>, a=<0,2,-2>\n",
      " ...\n",
      "p=<-1317,-1290,-1820>, v=<-189,-180,-258>, a=<11,12,24>\n",
      "p=<2382,-652,1487>, v=<343,-96,213>, a=<-23,3,-10>\n",
      "p=<-265,-2330,-2153>, v=<-32,-334,-305>, a=<1,20,18>\n",
      "p=<995,1767,1881>, v=<141,252,264>, a=<-9,-12,-14>\n"
     ]
    },
    {
     "data": {
      "text/markdown": [
       "The stored answers are: `{1: '150', 2: '657'}`"
      ],
      "text/plain": [
       "<IPython.core.display.Markdown object>"
      ]
     },
     "metadata": {},
     "output_type": "display_data"
    }
   ],
   "source": [
    "puzzle = advent.puzzle(day=20)"
   ]
  },
  {
   "cell_type": "code",
   "execution_count": 83,
   "id": "102b8069-f845-4c22-ab1f-d7f001ba72c9",
   "metadata": {
    "execution": {
     "iopub.execute_input": "2023-04-19T05:24:19.764211Z",
     "iopub.status.busy": "2023-04-19T05:24:19.763954Z",
     "iopub.status.idle": "2023-04-19T05:24:19.766768Z",
     "shell.execute_reply": "2023-04-19T05:24:19.766254Z",
     "shell.execute_reply.started": "2023-04-19T05:24:19.764196Z"
    },
    "tags": []
   },
   "outputs": [],
   "source": [
    "s1 = \"\"\"\\\n",
    "p=< 3,0,0>, v=< 2,0,0>, a=<-1,0,0>\n",
    "p=< 4,0,0>, v=< 0,0,0>, a=<-2,0,0>\n",
    "\"\"\""
   ]
  },
  {
   "cell_type": "code",
   "execution_count": 84,
   "id": "8412bb24-b018-4704-923b-50e347887c64",
   "metadata": {
    "execution": {
     "iopub.execute_input": "2023-04-19T05:24:19.767817Z",
     "iopub.status.busy": "2023-04-19T05:24:19.767399Z",
     "iopub.status.idle": "2023-04-19T05:24:19.776452Z",
     "shell.execute_reply": "2023-04-19T05:24:19.775501Z",
     "shell.execute_reply.started": "2023-04-19T05:24:19.767804Z"
    },
    "tags": []
   },
   "outputs": [],
   "source": [
    "s2 = \"\"\"\\\n",
    "p=<-6,0,0>, v=< 3,0,0>, a=< 0,0,0>\n",
    "p=<-4,0,0>, v=< 2,0,0>, a=< 0,0,0>\n",
    "p=<-2,0,0>, v=< 1,0,0>, a=< 0,0,0>\n",
    "p=< 3,0,0>, v=<-1,0,0>, a=< 0,0,0>\n",
    "\"\"\""
   ]
  },
  {
   "cell_type": "code",
   "execution_count": 85,
   "id": "41d2ceaa-bd6f-41a9-bdfb-6e3bee1f0a08",
   "metadata": {
    "execution": {
     "iopub.execute_input": "2023-04-19T05:24:19.777552Z",
     "iopub.status.busy": "2023-04-19T05:24:19.777358Z",
     "iopub.status.idle": "2023-04-19T05:24:19.835181Z",
     "shell.execute_reply": "2023-04-19T05:24:19.834464Z",
     "shell.execute_reply.started": "2023-04-19T05:24:19.777539Z"
    },
    "tags": []
   },
   "outputs": [
    {
     "name": "stdout",
     "output_type": "stream",
     "text": [
      "(Part 1: 0.003 s)\n",
      "(Part 2: 0.034 s)\n"
     ]
    }
   ],
   "source": [
    "def day20(s, *, part2=False):\n",
    "  lines = s.splitlines()\n",
    "\n",
    "  def parse(ch: str) -> np.ndarray:\n",
    "    pattern = ch + r'=<([0-9 -]+),([0-9 -]+),([0-9 -]+)>'\n",
    "    return np.array([hh.re_groups(pattern, line) for line in lines], int)\n",
    "\n",
    "  position, velocity, acceleration = (parse(ch) for ch in 'pva')\n",
    "\n",
    "  if not part2:\n",
    "    time = 1_000_000\n",
    "    position = position + velocity * time + acceleration * (time * (time + 1) // 2)\n",
    "    return np.abs(position).sum(axis=1).argmin()\n",
    "\n",
    "  for time in range(200):\n",
    "    velocity += acceleration\n",
    "    position += velocity\n",
    "    unused_unique, index, counts = np.unique(\n",
    "        position, axis=0, return_index=True, return_counts=True\n",
    "    )\n",
    "    index = index[counts == 1]  # Indices of non-intersecting particles.\n",
    "    position, velocity, acceleration = position[index], velocity[index], acceleration[index]\n",
    "\n",
    "  return len(position)\n",
    "\n",
    "\n",
    "check_eq(day20(s1), 0)\n",
    "puzzle.verify(1, day20)\n",
    "\n",
    "day20_part2 = functools.partial(day20, part2=True)\n",
    "check_eq(day20_part2(s2), 1)\n",
    "puzzle.verify(2, day20_part2)"
   ]
  },
  {
   "cell_type": "markdown",
   "id": "de686d55",
   "metadata": {},
   "source": [
    "<a name=\"day21\"></a>\n",
    "## Day 21: Super-resolution using rules"
   ]
  },
  {
   "cell_type": "markdown",
   "id": "53ac69d3",
   "metadata": {},
   "source": [
    "- Part 1: How many pixels stay on after 5 iterations?\n",
    "\n",
    "- Part 2: How many pixels stay on after 18 iterations?"
   ]
  },
  {
   "cell_type": "code",
   "execution_count": 86,
   "id": "45bdfd6f",
   "metadata": {
    "execution": {
     "iopub.execute_input": "2023-04-19T05:24:19.836363Z",
     "iopub.status.busy": "2023-04-19T05:24:19.836002Z",
     "iopub.status.idle": "2023-04-19T05:24:19.853192Z",
     "shell.execute_reply": "2023-04-19T05:24:19.852677Z",
     "shell.execute_reply.started": "2023-04-19T05:24:19.836345Z"
    },
    "tags": []
   },
   "outputs": [
    {
     "data": {
      "text/markdown": [
       "For [day 21](https://adventofcode.com/2017/day/21), `puzzle.input` has 108 lines:"
      ],
      "text/plain": [
       "<IPython.core.display.Markdown object>"
      ]
     },
     "metadata": {},
     "output_type": "display_data"
    },
    {
     "name": "stdout",
     "output_type": "stream",
     "text": [
      "../.. => ###/###/.##\n",
      "#./.. => ..#/###/##.\n",
      "##/.. => ..#/##./##.\n",
      ".#/#. => #../.#./.##\n",
      "##/#. => #.#/###/.#.\n",
      "##/## => ##./.../.#.\n",
      ".../.../... => ...#/.#../#.#./##.#\n",
      "#../.../... => .#.#/.#../####/###.\n",
      " ...\n",
      "#.#/###/#.# => ..#./####/.#../##.#\n",
      "###/###/#.# => ..../.#.#/..../...#\n",
      "###/#.#/### => #.#./..##/##.#/....\n",
      "###/###/### => ..#./#.##/####/###.\n"
     ]
    },
    {
     "data": {
      "text/markdown": [
       "The stored answers are: `{1: '208', 2: '2480380'}`"
      ],
      "text/plain": [
       "<IPython.core.display.Markdown object>"
      ]
     },
     "metadata": {},
     "output_type": "display_data"
    }
   ],
   "source": [
    "puzzle = advent.puzzle(day=21)"
   ]
  },
  {
   "cell_type": "code",
   "execution_count": 87,
   "id": "68f67ead-3e21-46de-9b26-460d826cbf3b",
   "metadata": {
    "execution": {
     "iopub.execute_input": "2023-04-19T05:24:19.854182Z",
     "iopub.status.busy": "2023-04-19T05:24:19.853880Z",
     "iopub.status.idle": "2023-04-19T05:24:19.856899Z",
     "shell.execute_reply": "2023-04-19T05:24:19.856056Z",
     "shell.execute_reply.started": "2023-04-19T05:24:19.854169Z"
    },
    "tags": []
   },
   "outputs": [],
   "source": [
    "s1 = \"\"\"\\\n",
    "../.# => ##./#../...\n",
    ".#./..#/### => #..#/..../..../#..#\n",
    "\"\"\""
   ]
  },
  {
   "cell_type": "code",
   "execution_count": 88,
   "id": "81903851-73df-498a-bbdc-c088b114eea4",
   "metadata": {
    "execution": {
     "iopub.execute_input": "2023-04-19T05:24:19.858192Z",
     "iopub.status.busy": "2023-04-19T05:24:19.857860Z",
     "iopub.status.idle": "2023-04-19T05:24:19.964138Z",
     "shell.execute_reply": "2023-04-19T05:24:19.963501Z",
     "shell.execute_reply.started": "2023-04-19T05:24:19.858155Z"
    },
    "tags": []
   },
   "outputs": [
    {
     "name": "stdout",
     "output_type": "stream",
     "text": [
      "(Part 1: 0.010 s)\n",
      "(Part 2: 0.082 s)\n"
     ]
    }
   ],
   "source": [
    "def day21(s, *, num_iterations=5, visualize=False):\n",
    "  def get_grid(s: str) -> np.ndarray:\n",
    "    return (np.array([list(row) for row in s.split('/')]) == '#').astype(int)\n",
    "\n",
    "  rules = {2: np.full((2**4, 3, 3), 0), 3: np.full((2**9, 4, 4), 0)}\n",
    "  for line in s.splitlines():\n",
    "    grid_lhs, grid_rhs = map(get_grid, line.split(' => '))\n",
    "    size = grid_lhs.shape[0]\n",
    "    for _ in range(2):\n",
    "      grid_lhs = np.fliplr(grid_lhs)\n",
    "      for _ in range(4):\n",
    "        grid_lhs = np.rot90(grid_lhs)\n",
    "        encoded = grid_lhs.reshape(-1).dot(2 ** np.arange(size**2))\n",
    "        rules[size][encoded] = grid_rhs\n",
    "\n",
    "  grid = np.array([[0, 1, 0], [0, 0, 1], [1, 1, 1]])\n",
    "\n",
    "  grids = []\n",
    "  for index in range(num_iterations):\n",
    "    if visualize and index < 13:\n",
    "      grids.append(grid == 0)\n",
    "    n = grid.shape[0]\n",
    "    size = 2 if n % 2 == 0 else 3\n",
    "    new_size = {2: 3, 3: 4}[size]\n",
    "    m = n // size\n",
    "    new_n = m * new_size\n",
    "    grid_blocks = grid.reshape((m, size, m, size)).transpose(0, 2, 1, 3).reshape((m, m, size**2))\n",
    "    encoded = grid_blocks.dot(2 ** np.arange(size**2))\n",
    "    new_blocks = rules[size][encoded]\n",
    "    grid = new_blocks.transpose(0, 2, 1, 3).reshape(new_n, new_n)\n",
    "\n",
    "  if visualize:\n",
    "    combined = hh.assemble_arrays(grids, (1, -1), background=True, spacing=8)\n",
    "    combined = np.pad(combined, 4, constant_values=True)\n",
    "    media.show_image(combined, border=True, title='day21')\n",
    "\n",
    "  return np.sum(grid)\n",
    "\n",
    "\n",
    "check_eq(day21(s1, num_iterations=2), 12)\n",
    "puzzle.verify(1, day21)\n",
    "\n",
    "day21_part2 = functools.partial(day21, num_iterations=18)  # grid.shape = (2187, 2187)\n",
    "puzzle.verify(2, day21_part2)"
   ]
  },
  {
   "cell_type": "code",
   "execution_count": 89,
   "id": "9c4cf87e-fb53-437f-b21d-15a8e0c89380",
   "metadata": {
    "execution": {
     "iopub.execute_input": "2023-04-19T05:24:19.965245Z",
     "iopub.status.busy": "2023-04-19T05:24:19.964912Z",
     "iopub.status.idle": "2023-04-19T05:24:20.081587Z",
     "shell.execute_reply": "2023-04-19T05:24:20.081005Z",
     "shell.execute_reply.started": "2023-04-19T05:24:19.965230Z"
    },
    "tags": []
   },
   "outputs": [
    {
     "data": {
      "text/html": [
       "<table class=\"show_images\" style=\"border-spacing:0px;\"><tr><td style=\"padding:1px;\"><div style=\"display:flex; align-items:left;\">\n",
       "      <div style=\"display:flex; flex-direction:column; align-items:center;\">\n",
       "      <div>day21</div><div><img width=\"867\" height=\"251\" style=\"border:1px solid black; image-rendering:auto; object-fit:cover;\" src=\"data:image/png;base64,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\"/></div></div></div></td></tr></table>"
      ],
      "text/plain": [
       "<IPython.core.display.HTML object>"
      ]
     },
     "metadata": {},
     "output_type": "display_data"
    }
   ],
   "source": [
    "_ = day21_part2(puzzle.input, visualize=True)"
   ]
  },
  {
   "cell_type": "markdown",
   "id": "bda78396",
   "metadata": {},
   "source": [
    "<a name=\"day22\"></a>\n",
    "## Day 22: Turtle graphics automaton"
   ]
  },
  {
   "cell_type": "markdown",
   "id": "74e2f94e",
   "metadata": {},
   "source": [
    "- Part 1: Given your actual map, after 10000 bursts of activity, how many bursts cause a node to become infected? (Do not count nodes that begin infected.)\n",
    "\n",
    "- Part 2: With the addition of Weakened and Flagged, after 10000000 bursts of activity, how many bursts cause a node to become infected?"
   ]
  },
  {
   "cell_type": "code",
   "execution_count": 90,
   "id": "8bcda611",
   "metadata": {
    "execution": {
     "iopub.execute_input": "2023-04-19T05:24:20.082607Z",
     "iopub.status.busy": "2023-04-19T05:24:20.082302Z",
     "iopub.status.idle": "2023-04-19T05:24:20.098106Z",
     "shell.execute_reply": "2023-04-19T05:24:20.097590Z",
     "shell.execute_reply.started": "2023-04-19T05:24:20.082595Z"
    },
    "tags": []
   },
   "outputs": [
    {
     "data": {
      "text/markdown": [
       "For [day 22](https://adventofcode.com/2017/day/22), `puzzle.input` has 25 lines:"
      ],
      "text/plain": [
       "<IPython.core.display.Markdown object>"
      ]
     },
     "metadata": {},
     "output_type": "display_data"
    },
    {
     "name": "stdout",
     "output_type": "stream",
     "text": [
      "...#.##.#.#.#.#..##.###.#\n",
      "......##.....#####..#.#.#\n",
      "#..####.######.#.#.##...#\n",
      "...##..####........#.#.#.\n",
      ".#.#####..#.....#######..\n",
      ".#...#.#.##.#.#.....#....\n",
      ".#.#.#.#.#####.#.#..#...#\n",
      "###..##.###.#.....#...#.#\n",
      " ...\n",
      "##.##..####..##.##.##.##.\n",
      "#...####.######.#...##...\n",
      ".###..##.##..##.####....#\n",
      "#.##....#.#.#..#.###..##.\n"
     ]
    },
    {
     "data": {
      "text/markdown": [
       "The stored answers are: `{1: '5406', 2: '2511640'}`"
      ],
      "text/plain": [
       "<IPython.core.display.Markdown object>"
      ]
     },
     "metadata": {},
     "output_type": "display_data"
    }
   ],
   "source": [
    "puzzle = advent.puzzle(day=22)"
   ]
  },
  {
   "cell_type": "code",
   "execution_count": 91,
   "id": "93c86d61-2fa2-42bb-8a1f-c5e364e90671",
   "metadata": {
    "execution": {
     "iopub.execute_input": "2023-04-19T05:24:20.099324Z",
     "iopub.status.busy": "2023-04-19T05:24:20.098900Z",
     "iopub.status.idle": "2023-04-19T05:24:20.102762Z",
     "shell.execute_reply": "2023-04-19T05:24:20.101844Z",
     "shell.execute_reply.started": "2023-04-19T05:24:20.099304Z"
    },
    "tags": []
   },
   "outputs": [],
   "source": [
    "s1 = \"\"\"\\\n",
    "..#\n",
    "#..\n",
    "...\n",
    "\"\"\""
   ]
  },
  {
   "cell_type": "code",
   "execution_count": 92,
   "id": "26ce82ab-2e96-45f0-a091-43d95bddfa15",
   "metadata": {
    "execution": {
     "iopub.execute_input": "2023-04-19T05:24:20.104520Z",
     "iopub.status.busy": "2023-04-19T05:24:20.104015Z",
     "iopub.status.idle": "2023-04-19T05:24:20.121321Z",
     "shell.execute_reply": "2023-04-19T05:24:20.120784Z",
     "shell.execute_reply.started": "2023-04-19T05:24:20.104494Z"
    },
    "tags": []
   },
   "outputs": [
    {
     "name": "stdout",
     "output_type": "stream",
     "text": [
      "(Part 1: 0.004 s)\n"
     ]
    }
   ],
   "source": [
    "def day22a(s, *, num_iterations=10_000, part2=False, visualize=False):\n",
    "  initial_grid = hh.grid_from_string(s)\n",
    "  cy, cx = np.array(initial_grid.shape) // 2\n",
    "  grid = {(y - cy, x - cx): '#' for y, x in np.argwhere(initial_grid == '#')}\n",
    "  y, x = 0, 0\n",
    "  dy, dx = -1, 0  # Up direction.\n",
    "  num_newly_infected = 0\n",
    "  UPDATE = {' ': 'W', 'W': '#', '#': 'F', 'F': ' '} if part2 else {' ': '#', '#': ' '}\n",
    "  cmap = {' ': (235, 235, 235), '#': (255, 0, 0), 'W': (50, 50, 200), 'F': (0, 150, 0)}\n",
    "\n",
    "  for _ in range(num_iterations):\n",
    "    state = grid.get((y, x), ' ')\n",
    "    match state:\n",
    "      case ' ':\n",
    "        dy, dx = -dx, dy  # Turn left.\n",
    "      case '#':\n",
    "        dy, dx = dx, -dy  # Turn right.\n",
    "      case 'F':\n",
    "        dy, dx = -dy, -dx  # Make U-turn.\n",
    "    grid[y, x] = new_state = UPDATE[state]\n",
    "    num_newly_infected += new_state == '#'\n",
    "    y, x = y + dy, x + dx\n",
    "\n",
    "  if visualize:\n",
    "    # hh.show(max(abs(x) + abs(y) for y, x in grid))  # 335\n",
    "    image = hh.image_from_yx_map(grid, background=' ', cmap=cmap)\n",
    "    media.show_image(image, title='day22')\n",
    "\n",
    "  return num_newly_infected\n",
    "\n",
    "\n",
    "check_eq(day22a(s1, num_iterations=7), 5)\n",
    "check_eq(day22a(s1, num_iterations=70), 41)\n",
    "check_eq(day22a(s1), 5587)\n",
    "puzzle.verify(1, day22a)\n",
    "\n",
    "day22a_part2 = functools.partial(day22a, num_iterations=10_000_000, part2=True)\n",
    "check_eq(day22a_part2(s1, num_iterations=100), 26)\n",
    "# check_eq(day22a_part2(s1), 2_511_944)\n",
    "# puzzle.verify(2, day22a_part2)  # ~2.2 s."
   ]
  },
  {
   "cell_type": "code",
   "execution_count": 93,
   "id": "23367ab1-39a1-4ab4-966e-b797116de237",
   "metadata": {
    "execution": {
     "iopub.execute_input": "2023-04-19T05:24:20.122260Z",
     "iopub.status.busy": "2023-04-19T05:24:20.121933Z",
     "iopub.status.idle": "2023-04-19T05:24:22.363447Z",
     "shell.execute_reply": "2023-04-19T05:24:22.362824Z",
     "shell.execute_reply.started": "2023-04-19T05:24:20.122247Z"
    },
    "tags": []
   },
   "outputs": [
    {
     "data": {
      "text/html": [
       "<table class=\"show_images\" style=\"border-spacing:0px;\"><tr><td style=\"padding:1px;\"><div style=\"display:flex; align-items:left;\">\n",
       "      <div style=\"display:flex; flex-direction:column; align-items:center;\">\n",
       "      <div>day22</div><div><img width=\"363\" height=\"413\" style=\"image-rendering:auto; object-fit:cover;\" src=\"data:image/png;base64,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\"/></div></div></div></td></tr></table>"
      ],
      "text/plain": [
       "<IPython.core.display.HTML object>"
      ]
     },
     "metadata": {},
     "output_type": "display_data"
    }
   ],
   "source": [
    "_ = day22a_part2(puzzle.input, visualize=True)"
   ]
  },
  {
   "cell_type": "code",
   "execution_count": 94,
   "id": "faabf896-aa6d-4990-9741-092605a0b406",
   "metadata": {
    "execution": {
     "iopub.execute_input": "2023-04-19T05:24:22.364941Z",
     "iopub.status.busy": "2023-04-19T05:24:22.364514Z",
     "iopub.status.idle": "2023-04-19T05:24:22.660071Z",
     "shell.execute_reply": "2023-04-19T05:24:22.659449Z",
     "shell.execute_reply.started": "2023-04-19T05:24:22.364921Z"
    },
    "tags": []
   },
   "outputs": [
    {
     "name": "stdout",
     "output_type": "stream",
     "text": [
      "(Part 1: 0.000 s)\n",
      "(Part 2: 0.052 s)\n"
     ]
    }
   ],
   "source": [
    "@numba.njit  # ~3.9 s -> ~0.05 s.\n",
    "def day22_compute(grid: np.ndarray, num_iterations: int, update: tuple[int, ...]) -> int:\n",
    "  y, x = grid.shape[0] // 2, grid.shape[1] // 2\n",
    "  dy, dx = -1, 0  # Up direction.\n",
    "  num_newly_infected = 0\n",
    "  for _ in range(num_iterations):\n",
    "    state = grid[y, x]\n",
    "    match state:\n",
    "      case 0:\n",
    "        dy, dx = -dx, dy  # Turn left.\n",
    "      case 1:\n",
    "        dy, dx = dx, -dy  # Turn right.\n",
    "      case 3:\n",
    "        dy, dx = -dy, -dx  # Make U-turn.\n",
    "    grid[y, x] = new_state = update[state]\n",
    "    num_newly_infected += new_state == 1\n",
    "    y, x = y + dy, x + dx\n",
    "  return num_newly_infected\n",
    "\n",
    "\n",
    "def day22(s, *, num_iterations=10_000, part2=False):\n",
    "  grid = hh.grid_from_string(s, {'.': 0, '#': 1})  # Later also: {'W': 2, 'F': 3}.\n",
    "  pad = 500 if part2 else 200\n",
    "  grid = np.pad(grid, pad)\n",
    "  update = (2, 3, 1, 0) if part2 else (1, 0)\n",
    "  return day22_compute(grid, num_iterations, update)\n",
    "\n",
    "\n",
    "check_eq(day22(s1, num_iterations=7), 5)\n",
    "check_eq(day22(s1, num_iterations=70), 41)\n",
    "check_eq(day22(s1), 5587)\n",
    "puzzle.verify(1, day22)\n",
    "\n",
    "day22_part2 = functools.partial(day22, num_iterations=10_000_000, part2=True)\n",
    "check_eq(day22_part2(s1, num_iterations=100), 26)\n",
    "check_eq(day22_part2(s1), 2_511_944)\n",
    "puzzle.verify(2, day22_part2)"
   ]
  },
  {
   "cell_type": "markdown",
   "id": "db8b76cf",
   "metadata": {},
   "source": [
    "<a name=\"day23\"></a>\n",
    "## Day 23: Reverse-engineer program"
   ]
  },
  {
   "cell_type": "markdown",
   "id": "7191d0a6",
   "metadata": {},
   "source": [
    "- Part 1: If you run the program (your puzzle input), how many times is the mul instruction invoked?\n",
    "\n",
    "- Part 2: After setting register a to 1, if the program were to run to completion, what value would be left in register h?"
   ]
  },
  {
   "cell_type": "code",
   "execution_count": 95,
   "id": "e2c051bd",
   "metadata": {
    "execution": {
     "iopub.execute_input": "2023-04-19T05:24:22.661331Z",
     "iopub.status.busy": "2023-04-19T05:24:22.660795Z",
     "iopub.status.idle": "2023-04-19T05:24:22.676326Z",
     "shell.execute_reply": "2023-04-19T05:24:22.675792Z",
     "shell.execute_reply.started": "2023-04-19T05:24:22.661315Z"
    },
    "tags": []
   },
   "outputs": [
    {
     "data": {
      "text/markdown": [
       "For [day 23](https://adventofcode.com/2017/day/23), `puzzle.input` has 32 lines:"
      ],
      "text/plain": [
       "<IPython.core.display.Markdown object>"
      ]
     },
     "metadata": {},
     "output_type": "display_data"
    },
    {
     "name": "stdout",
     "output_type": "stream",
     "text": [
      "set b 84\n",
      "set c b\n",
      "jnz a 2\n",
      "jnz 1 5\n",
      "mul b 100\n",
      "sub b -100000\n",
      "set c b\n",
      "sub c -17000\n",
      " ...\n",
      "jnz g 2\n",
      "jnz 1 3\n",
      "sub b -17\n",
      "jnz 1 -23\n"
     ]
    },
    {
     "data": {
      "text/markdown": [
       "The stored answers are: `{1: '6724', 2: '903'}`"
      ],
      "text/plain": [
       "<IPython.core.display.Markdown object>"
      ]
     },
     "metadata": {},
     "output_type": "display_data"
    }
   ],
   "source": [
    "puzzle = advent.puzzle(day=23)"
   ]
  },
  {
   "cell_type": "code",
   "execution_count": 96,
   "id": "c5c94b34-1720-4c27-8fd2-0e4ff84af878",
   "metadata": {
    "execution": {
     "iopub.execute_input": "2023-04-19T05:24:22.677215Z",
     "iopub.status.busy": "2023-04-19T05:24:22.677027Z",
     "iopub.status.idle": "2023-04-19T05:24:22.700118Z",
     "shell.execute_reply": "2023-04-19T05:24:22.699468Z",
     "shell.execute_reply.started": "2023-04-19T05:24:22.677202Z"
    },
    "tags": []
   },
   "outputs": [
    {
     "name": "stdout",
     "output_type": "stream",
     "text": [
      "(Part 1: 0.014 s)\n",
      "(Part 2: 0.002 s)\n"
     ]
    }
   ],
   "source": [
    "def day23(s, *, part2=False):\n",
    "  instructions = [tuple(line.split(' ')) for line in s.splitlines()]\n",
    "  pc = 0\n",
    "  registers = collections.defaultdict(int)\n",
    "  num_mul = 0\n",
    "  registers['a'] = 1 if part2 else 0\n",
    "\n",
    "  def get(value: str) -> int:\n",
    "    return registers[value] if value.isalpha() else int(value)\n",
    "\n",
    "  def is_prime(n: int) -> bool:\n",
    "    return n > 1 and all(n % i != 0 for i in range(2, math.isqrt(n) + 1))\n",
    "\n",
    "  while 0 <= pc < len(instructions):\n",
    "    # hh.show(pc, instructions[pc])\n",
    "    if part2 and pc == 8:\n",
    "      # Big optimization: directly compute the number of non-primes in range(b, c + 1, 17).\n",
    "      result = sum(not is_prime(i) for i in range(get('b'), get('c') + 1, 17))\n",
    "      return result\n",
    "    match instructions[pc]:\n",
    "      case 'set', dst, src:\n",
    "        registers[dst] = get(src)\n",
    "      case 'sub', dst, src:\n",
    "        registers[dst] -= get(src)\n",
    "      case 'mul', dst, src:\n",
    "        registers[dst] *= get(src)\n",
    "        num_mul += 1\n",
    "      case 'jnz', predicate, offset:\n",
    "        if get(predicate) != 0:\n",
    "          pc += get(offset) - 1\n",
    "      case x:\n",
    "        raise ValueError(x)\n",
    "    pc += 1\n",
    "\n",
    "  return num_mul\n",
    "\n",
    "\n",
    "puzzle.verify(1, day23)\n",
    "\n",
    "day23_part2 = functools.partial(day23, part2=True)\n",
    "puzzle.verify(2, day23_part2)"
   ]
  },
  {
   "cell_type": "code",
   "execution_count": 97,
   "id": "d95efc77-3e80-4f74-8c43-0c5690bb5aff",
   "metadata": {
    "execution": {
     "iopub.execute_input": "2023-04-19T05:24:22.701447Z",
     "iopub.status.busy": "2023-04-19T05:24:22.701077Z",
     "iopub.status.idle": "2023-04-19T05:24:22.707885Z",
     "shell.execute_reply": "2023-04-19T05:24:22.707130Z",
     "shell.execute_reply.started": "2023-04-19T05:24:22.701423Z"
    },
    "tags": []
   },
   "outputs": [],
   "source": [
    "# print('\\n'.join(f'# L{i:02} {line:14} # ' for i, line in enumerate(puzzle.input.splitlines())))\n",
    "\n",
    "# L00 set b 84|93    # b = 84|93\n",
    "# L01 set c b        # c = b\n",
    "# L02 jnz a 2        # if a != 0: jmp L04\n",
    "# L03 jnz 1 5        # jmp L08\n",
    "\n",
    "# L04 mul b 100      # b *= 100\n",
    "# L05 sub b -100000  # b += 100_000\n",
    "# L06 set c b        # c = b\n",
    "# L07 sub c -17000   # c += 17_000\n",
    "\n",
    "# L08 set f 1        # f = 1\n",
    "# L09 set d 2        # d = 2\n",
    "\n",
    "# L10 set e 2        # e = 2\n",
    "\n",
    "# L11 set g d        # g = d\n",
    "# L12 mul g e        # g *= e\n",
    "# L13 sub g b        # g -= b\n",
    "# L14 jnz g 2        # if g != 0: goto L16\n",
    "# L15 set f 0        # f = 0\n",
    "\n",
    "# L16 sub e -1       # e += 1\n",
    "# L17 set g e        # g = e\n",
    "# L18 sub g b        # g -= b\n",
    "# L19 jnz g -8       # if g != 0: goto L11\n",
    "# L20 sub d -1       # d += 1\n",
    "# L21 set g d        # g = d\n",
    "# L22 sub g b        # g -= b\n",
    "# L23 jnz g -13      # if g != 0: goto L10\n",
    "# L24 jnz f 2        # if f != 0: goto L26\n",
    "# L25 sub h -1       # h += 1\n",
    "\n",
    "# L26 set g b        # g = b\n",
    "# L27 sub g c        # g -= c\n",
    "# L28 jnz g 2        # if g != 0: goto L30\n",
    "# L29 jnz 1 3        # exit\n",
    "\n",
    "# L30 sub b -17      # b += 17\n",
    "# L31 jnz 1 -23      # goto L08"
   ]
  },
  {
   "cell_type": "code",
   "execution_count": 98,
   "id": "6d834309-a041-45e5-8733-d72294bc907e",
   "metadata": {
    "execution": {
     "iopub.execute_input": "2023-04-19T05:24:22.709186Z",
     "iopub.status.busy": "2023-04-19T05:24:22.708775Z",
     "iopub.status.idle": "2023-04-19T05:24:22.720150Z",
     "shell.execute_reply": "2023-04-19T05:24:22.719493Z",
     "shell.execute_reply.started": "2023-04-19T05:24:22.709165Z"
    }
   },
   "outputs": [],
   "source": [
    "# L00 set b 93       #\n",
    "# L01 set c b        #\n",
    "# L04 mul b 100      #\n",
    "# L05 sub b -100000  # b = 109_300\n",
    "# L06 set c b        #\n",
    "# L07 sub c -17000   # c = 126_300\n",
    "\n",
    "# With a=0: b=93 c=93 num=1\n",
    "# With a=1: b=109_300 c=126_301 num=1000\n",
    "\n",
    "#                    # for b in range(b, c + 1, 17):\n",
    "# L08 set f 1        #   f = 1\n",
    "# L09 set d 2        #   d = 2\n",
    "\n",
    "# L10 set e 2        #   for e in range(2, b + 1):\n",
    "# L11 set g d        #\n",
    "# L12 mul g e        #\n",
    "# L13 sub g b        #\n",
    "# L14 jnz g 2        #     if d * e == b: f = 0   # if b % d == 0: f = 0\n",
    "# L15 set f 0        #\n",
    "# L16 sub e -1       #\n",
    "# L17 set g e        #\n",
    "# L18 sub g b        #\n",
    "# L19 jnz g -8       #\n",
    "# L20 sub d -1       #   d += 1\n",
    "# L21 set g d        #\n",
    "# L22 sub g b        #\n",
    "# L23 jnz g -13      #   if d != b: goto L10\n",
    "# L24 jnz f 2        #   if f == 0:\n",
    "# L25 sub h -1       #     h += 1\n",
    "# L26 set g b        #\n",
    "# L27 sub g c        #\n",
    "# L28 jnz g 2        #\n",
    "# L30 sub b -17      #\n",
    "# L31 jnz 1 -23      #"
   ]
  },
  {
   "cell_type": "code",
   "execution_count": 99,
   "id": "cf5efec6-a898-4920-a120-1c6d171e7292",
   "metadata": {
    "execution": {
     "iopub.execute_input": "2023-04-19T05:24:22.721418Z",
     "iopub.status.busy": "2023-04-19T05:24:22.721210Z",
     "iopub.status.idle": "2023-04-19T05:24:22.731960Z",
     "shell.execute_reply": "2023-04-19T05:24:22.731435Z",
     "shell.execute_reply.started": "2023-04-19T05:24:22.721390Z"
    }
   },
   "outputs": [],
   "source": [
    "# for b in range(b, c + 1, 17):\n",
    "#   f = 1\n",
    "#\n",
    "#   for d in range(2, b + 1):\n",
    "#     if b % d == 0: f = 0\n",
    "#\n",
    "#   if f == 0:\n",
    "#     h += 1"
   ]
  },
  {
   "cell_type": "markdown",
   "id": "3b13b642",
   "metadata": {},
   "source": [
    "<a name=\"day24\"></a>\n",
    "## Day 24: Long domino chains"
   ]
  },
  {
   "cell_type": "markdown",
   "id": "db829949",
   "metadata": {},
   "source": [
    "- Part 1: What is the strength of the strongest bridge you can make with the components you have available?\n",
    "\n",
    "- Part 2: Of all bridges of the longest possible length, what is the strength of the strongest one?"
   ]
  },
  {
   "cell_type": "code",
   "execution_count": 100,
   "id": "3644b9cf",
   "metadata": {
    "execution": {
     "iopub.execute_input": "2023-04-19T05:24:22.732832Z",
     "iopub.status.busy": "2023-04-19T05:24:22.732640Z",
     "iopub.status.idle": "2023-04-19T05:24:22.754326Z",
     "shell.execute_reply": "2023-04-19T05:24:22.753703Z",
     "shell.execute_reply.started": "2023-04-19T05:24:22.732820Z"
    },
    "tags": []
   },
   "outputs": [
    {
     "data": {
      "text/markdown": [
       "For [day 24](https://adventofcode.com/2017/day/24), `puzzle.input` has 57 lines:"
      ],
      "text/plain": [
       "<IPython.core.display.Markdown object>"
      ]
     },
     "metadata": {},
     "output_type": "display_data"
    },
    {
     "name": "stdout",
     "output_type": "stream",
     "text": [
      "24/14\n",
      "30/24\n",
      "29/44\n",
      "47/37\n",
      "6/14\n",
      "20/37\n",
      "14/45\n",
      "5/5\n",
      " ...\n",
      "2/17\n",
      "46/17\n",
      "29/29\n",
      "45/50\n"
     ]
    },
    {
     "data": {
      "text/markdown": [
       "The stored answers are: `{1: '2006', 2: '1994'}`"
      ],
      "text/plain": [
       "<IPython.core.display.Markdown object>"
      ]
     },
     "metadata": {},
     "output_type": "display_data"
    }
   ],
   "source": [
    "puzzle = advent.puzzle(day=24)"
   ]
  },
  {
   "cell_type": "code",
   "execution_count": 101,
   "id": "524d150c-c794-4313-8b17-489753ba373e",
   "metadata": {
    "execution": {
     "iopub.execute_input": "2023-04-19T05:24:22.755606Z",
     "iopub.status.busy": "2023-04-19T05:24:22.755138Z",
     "iopub.status.idle": "2023-04-19T05:24:22.758231Z",
     "shell.execute_reply": "2023-04-19T05:24:22.757750Z",
     "shell.execute_reply.started": "2023-04-19T05:24:22.755585Z"
    },
    "tags": []
   },
   "outputs": [],
   "source": [
    "s1 = \"\"\"\\\n",
    "0/2\n",
    "2/2\n",
    "2/3\n",
    "3/4\n",
    "3/5\n",
    "0/1\n",
    "10/1\n",
    "9/10\n",
    "\"\"\""
   ]
  },
  {
   "cell_type": "code",
   "execution_count": 102,
   "id": "8ea5fd80",
   "metadata": {
    "execution": {
     "iopub.execute_input": "2023-04-19T05:24:22.759025Z",
     "iopub.status.busy": "2023-04-19T05:24:22.758880Z",
     "iopub.status.idle": "2023-04-19T05:24:23.675276Z",
     "shell.execute_reply": "2023-04-19T05:24:23.674649Z",
     "shell.execute_reply.started": "2023-04-19T05:24:22.759013Z"
    },
    "tags": []
   },
   "outputs": [
    {
     "name": "stdout",
     "output_type": "stream",
     "text": [
      "(Part 1: 0.906 s)\n"
     ]
    }
   ],
   "source": [
    "def day24a(s, *, start=0, part2=False):  # Slower, creating list of updated remaining components.\n",
    "  components: list[tuple[int, int]] = [\n",
    "      tuple(map(int, line.split('/'))) for line in s.splitlines()  # type: ignore[misc]\n",
    "  ]\n",
    "  check_eq(len(components), len(set(components)))  # In fact, they are all unique.\n",
    "\n",
    "  def compatible_components(start: int, components: list[tuple[int, int]]):\n",
    "    for i, (v0, v1) in enumerate(components):\n",
    "      if v1 == start:\n",
    "        v1 = v0\n",
    "      elif v0 != start:\n",
    "        continue\n",
    "      remaining = components[:i] + components[i + 1 :]\n",
    "      yield v1, remaining\n",
    "\n",
    "  def compute_strongest(v0: int, components: list[tuple[int, int]]) -> int:\n",
    "    max_strength = 0\n",
    "    for v1, remaining in compatible_components(v0, components):\n",
    "      max_strength = max(max_strength, v0 + v1 + compute_strongest(v1, remaining))\n",
    "    return max_strength\n",
    "\n",
    "  if not part2:\n",
    "    return compute_strongest(start, components)\n",
    "\n",
    "  def compute_longest_length(v0: int, components: list[tuple[int, int]]) -> int:\n",
    "    max_length = 0\n",
    "    for v1, remaining in compatible_components(v0, components):\n",
    "      max_length = max(max_length, 1 + compute_longest_length(v1, remaining))\n",
    "    return max_length\n",
    "\n",
    "  def compute_longest(v0: int, remaining_length: int, components: list[tuple[int, int]]) -> int:\n",
    "    max_strength = 0 if remaining_length == 0 else -10_000\n",
    "    for v1, remaining in compatible_components(v0, components):\n",
    "      max_strength = max(\n",
    "          max_strength, v0 + v1 + compute_longest(v1, remaining_length - 1, remaining)\n",
    "      )\n",
    "    return max_strength\n",
    "\n",
    "  longest_length = compute_longest_length(start, components)\n",
    "  return compute_longest(start, longest_length, components)\n",
    "\n",
    "\n",
    "check_eq(day24a(s1), 31)\n",
    "puzzle.verify(1, day24a)\n",
    "\n",
    "day24a_part2 = functools.partial(day24a, part2=True)\n",
    "check_eq(day24a_part2(s1), 19)\n",
    "if 0:\n",
    "  puzzle.verify(2, day24a_part2)  # ~1.8 s."
   ]
  },
  {
   "cell_type": "code",
   "execution_count": 103,
   "id": "54d085fe-5fc6-4837-bd24-e479f1a1a841",
   "metadata": {
    "execution": {
     "iopub.execute_input": "2023-04-19T05:24:23.676463Z",
     "iopub.status.busy": "2023-04-19T05:24:23.676021Z",
     "iopub.status.idle": "2023-04-19T05:24:24.402395Z",
     "shell.execute_reply": "2023-04-19T05:24:24.401806Z",
     "shell.execute_reply.started": "2023-04-19T05:24:23.676448Z"
    },
    "tags": []
   },
   "outputs": [
    {
     "name": "stdout",
     "output_type": "stream",
     "text": [
      "(Part 1: 0.239 s)\n",
      "(Part 2: 0.480 s)\n"
     ]
    }
   ],
   "source": [
    "def day24b(s, *, start=0, part2=False):  # Faster; side effects on sets of remaining components.\n",
    "  components = [tuple(map(int, line.split('/'))) for line in s.splitlines()]\n",
    "  max_v = max(max(v0, v1) for v0, v1 in components)\n",
    "  active_from_v: list[set[int]] = [set() for v in range(max_v + 1)]\n",
    "  for v0, v1 in components:\n",
    "    active_from_v[v0].add(v1)\n",
    "    if v1 != v0:\n",
    "      active_from_v[v1].add(v0)\n",
    "\n",
    "  def compatible_components(v0: int) -> Iterator[int]:\n",
    "    set_v0 = active_from_v[v0]\n",
    "    for v1 in list(set_v0):\n",
    "      if v1 != v0:\n",
    "        set_v1 = active_from_v[v1]\n",
    "        set_v0.remove(v1)\n",
    "        set_v1.remove(v0)\n",
    "        yield v1\n",
    "        set_v1.add(v0)\n",
    "        set_v0.add(v1)\n",
    "      else:\n",
    "        set_v0.remove(v1)\n",
    "        yield v1\n",
    "        set_v0.add(v1)\n",
    "\n",
    "  def compute_strongest(v0: int) -> int:\n",
    "    max_strength = 0\n",
    "    for v1 in compatible_components(v0):\n",
    "      max_strength = max(max_strength, v0 + v1 + compute_strongest(v1))\n",
    "    return max_strength\n",
    "\n",
    "  if not part2:\n",
    "    return compute_strongest(start)\n",
    "\n",
    "  def compute_longest_length(v0: int) -> int:\n",
    "    max_length = 0\n",
    "    for v1 in compatible_components(v0):\n",
    "      max_length = max(max_length, 1 + compute_longest_length(v1))\n",
    "    return max_length\n",
    "\n",
    "  def compute_longest(v0: int, remaining_length: int) -> int:\n",
    "    max_strength = 0 if remaining_length == 0 else -10_000\n",
    "    for v1 in compatible_components(v0):\n",
    "      max_strength = max(max_strength, v0 + v1 + compute_longest(v1, remaining_length - 1))\n",
    "    return max_strength\n",
    "\n",
    "  longest_length = compute_longest_length(start)  # 36\n",
    "  return compute_longest(start, longest_length)\n",
    "\n",
    "\n",
    "check_eq(day24b(s1), 31)\n",
    "puzzle.verify(1, day24b)\n",
    "\n",
    "day24b_part2 = functools.partial(day24b, part2=True)\n",
    "check_eq(day24b_part2(s1), 19)\n",
    "puzzle.verify(2, day24b_part2)"
   ]
  },
  {
   "cell_type": "code",
   "execution_count": 104,
   "id": "359a301e",
   "metadata": {
    "execution": {
     "iopub.execute_input": "2023-04-19T05:24:24.403295Z",
     "iopub.status.busy": "2023-04-19T05:24:24.403082Z",
     "iopub.status.idle": "2023-04-19T05:24:24.709686Z",
     "shell.execute_reply": "2023-04-19T05:24:24.708781Z",
     "shell.execute_reply.started": "2023-04-19T05:24:24.403281Z"
    }
   },
   "outputs": [
    {
     "name": "stdout",
     "output_type": "stream",
     "text": [
      "(Part 1: 0.099 s)\n",
      "(Part 2: 0.199 s)\n"
     ]
    }
   ],
   "source": [
    "# Immediately treat (v0, v0) pairs, and canonicalize order of loops.\n",
    "def day24(s, *, start=0, part2=False):\n",
    "  components = [tuple(map(int, line.split('/'))) for line in s.splitlines()]\n",
    "  max_v = max(max(v0, v1) for v0, v1 in components)\n",
    "  has_pair = [False] * (max_v + 1)\n",
    "  active_from_v: list[set[int]] = [set() for v in range(max_v + 1)]\n",
    "  for v0, v1 in components:\n",
    "    if v0 == v1:\n",
    "      has_pair[v0] = True\n",
    "    else:\n",
    "      active_from_v[v0].add(v1)\n",
    "      active_from_v[v1].add(v0)\n",
    "\n",
    "  def compatible_components(v0: int) -> Iterator[int]:\n",
    "    if has_pair[v0]:\n",
    "      has_pair[v0] = False\n",
    "      yield v0\n",
    "      has_pair[v0] = True\n",
    "    else:\n",
    "      set_v0 = active_from_v[v0]\n",
    "      candidates = list(set_v0)  # Not even sorted().\n",
    "      for v1 in candidates:\n",
    "        set_v0.remove(v1)\n",
    "        active_from_v[v1] -= {v0}\n",
    "        yield v1\n",
    "        set_v0.add(v1)\n",
    "      for v1 in candidates:\n",
    "        active_from_v[v1].add(v0)\n",
    "\n",
    "  def compute_strongest(v0: int) -> int:\n",
    "    max_strength = 0\n",
    "    for v1 in compatible_components(v0):\n",
    "      max_strength = max(max_strength, v0 + v1 + compute_strongest(v1))\n",
    "    return max_strength\n",
    "\n",
    "  if not part2:\n",
    "    return compute_strongest(start)\n",
    "\n",
    "  def compute_longest_length(v0: int) -> int:\n",
    "    max_length = 0\n",
    "    for v1 in compatible_components(v0):\n",
    "      max_length = max(max_length, 1 + compute_longest_length(v1))\n",
    "    return max_length\n",
    "\n",
    "  def compute_longest(v0: int, remaining_length: int) -> int:\n",
    "    max_strength = 0 if remaining_length == 0 else -10_000\n",
    "    for v1 in compatible_components(v0):\n",
    "      max_strength = max(max_strength, v0 + v1 + compute_longest(v1, remaining_length - 1))\n",
    "    return max_strength\n",
    "\n",
    "  longest_length = compute_longest_length(start)  # 36\n",
    "  return compute_longest(start, longest_length)\n",
    "\n",
    "\n",
    "check_eq(day24(s1), 31)\n",
    "puzzle.verify(1, day24)\n",
    "\n",
    "day24_part2 = functools.partial(day24, part2=True)\n",
    "check_eq(day24_part2(s1), 19)\n",
    "puzzle.verify(2, day24_part2)"
   ]
  },
  {
   "cell_type": "markdown",
   "id": "6d07c79a",
   "metadata": {},
   "source": [
    "<a name=\"day25\"></a>\n",
    "## Day 25: Turing machine"
   ]
  },
  {
   "cell_type": "markdown",
   "id": "7e6ac471",
   "metadata": {},
   "source": [
    "- Part 1: After the specified number of steps have been executed, count the number of times 1 appears on the tape.\n",
    "\n",
    "- Part 2: None on day 25."
   ]
  },
  {
   "cell_type": "code",
   "execution_count": 105,
   "id": "fecb91cd",
   "metadata": {
    "execution": {
     "iopub.execute_input": "2023-04-19T05:24:24.711419Z",
     "iopub.status.busy": "2023-04-19T05:24:24.710802Z",
     "iopub.status.idle": "2023-04-19T05:24:24.728605Z",
     "shell.execute_reply": "2023-04-19T05:24:24.727983Z",
     "shell.execute_reply.started": "2023-04-19T05:24:24.711395Z"
    },
    "tags": []
   },
   "outputs": [
    {
     "data": {
      "text/markdown": [
       "For [day 25](https://adventofcode.com/2017/day/25), `puzzle.input` has 62 lines:"
      ],
      "text/plain": [
       "<IPython.core.display.Markdown object>"
      ]
     },
     "metadata": {},
     "output_type": "display_data"
    },
    {
     "name": "stdout",
     "output_type": "stream",
     "text": [
      "Begin in state A.\n",
      "Perform a diagnostic checksum after 12629077 steps.\n",
      "\n",
      "In state A:\n",
      "  If the current value is 0:\n",
      "    - Write the value 1.\n",
      "    - Move one slot to the right.\n",
      "    - Continue with state B.\n",
      " ...\n",
      "  If the current value is 1:\n",
      "    - Write the value 1.\n",
      "    - Move one slot to the left.\n",
      "    - Continue with state E.\n"
     ]
    },
    {
     "data": {
      "text/markdown": [
       "The stored answers are: `{1: '3745', 2: ''}`"
      ],
      "text/plain": [
       "<IPython.core.display.Markdown object>"
      ]
     },
     "metadata": {},
     "output_type": "display_data"
    }
   ],
   "source": [
    "puzzle = advent.puzzle(day=25)"
   ]
  },
  {
   "cell_type": "code",
   "execution_count": 106,
   "id": "d13f5d57-aa83-480d-9703-17a20eb4ffe8",
   "metadata": {
    "execution": {
     "iopub.execute_input": "2023-04-19T05:24:24.729443Z",
     "iopub.status.busy": "2023-04-19T05:24:24.729298Z",
     "iopub.status.idle": "2023-04-19T05:24:24.732621Z",
     "shell.execute_reply": "2023-04-19T05:24:24.732080Z",
     "shell.execute_reply.started": "2023-04-19T05:24:24.729430Z"
    },
    "tags": []
   },
   "outputs": [],
   "source": [
    "s1 = \"\"\"\\\n",
    "Begin in state A.\n",
    "Perform a diagnostic checksum after 6 steps.\n",
    "\n",
    "In state A:\n",
    "  If the current value is 0:\n",
    "    - Write the value 1.\n",
    "    - Move one slot to the right.\n",
    "    - Continue with state B.\n",
    "  If the current value is 1:\n",
    "    - Write the value 0.\n",
    "    - Move one slot to the left.\n",
    "    - Continue with state B.\n",
    "\n",
    "In state B:\n",
    "  If the current value is 0:\n",
    "    - Write the value 1.\n",
    "    - Move one slot to the left.\n",
    "    - Continue with state A.\n",
    "  If the current value is 1:\n",
    "    - Write the value 1.\n",
    "    - Move one slot to the right.\n",
    "    - Continue with state A.\n",
    "\"\"\""
   ]
  },
  {
   "cell_type": "code",
   "execution_count": 107,
   "id": "7270c555-ccb1-47d0-8b19-2b24e95939a9",
   "metadata": {
    "execution": {
     "iopub.execute_input": "2023-04-19T05:24:24.733551Z",
     "iopub.status.busy": "2023-04-19T05:24:24.733286Z",
     "iopub.status.idle": "2023-04-19T05:24:25.965305Z",
     "shell.execute_reply": "2023-04-19T05:24:25.964718Z",
     "shell.execute_reply.started": "2023-04-19T05:24:24.733536Z"
    },
    "tags": []
   },
   "outputs": [
    {
     "name": "stdout",
     "output_type": "stream",
     "text": [
      "(Part 1: 1.219 s)\n"
     ]
    }
   ],
   "source": [
    "def day25a(s):  # Slow version using dicts and Python.\n",
    "  parts = s.split('\\n\\n')\n",
    "  state, s_steps = hh.re_groups(r'^(?s)Begin in state (.+)\\..* after (.+) steps', parts[0])\n",
    "  num_steps = int(s_steps)\n",
    "  logic = {}\n",
    "  for part in parts[1:]:\n",
    "    (current,) = hh.re_groups(r'^In state (.+):', part)\n",
    "    conditions = part.split('If the current ')[1:]\n",
    "    assert len(conditions) == 2\n",
    "    for condition in conditions:\n",
    "      pattern = r'^(?s)value is (.+):.*Write the value (.+)\\..*to the (.+)\\..* state (.+)\\.'\n",
    "      condition_state, s_write_value, s_move, next_state = hh.re_groups(pattern, condition)\n",
    "      t = int(s_write_value), {'left': -1, 'right': +1}[s_move], next_state\n",
    "      logic[current, int(condition_state)] = t\n",
    "\n",
    "  tape: collections.defaultdict[int, int] = collections.defaultdict(int)\n",
    "  pos = 0\n",
    "  for _ in range(num_steps):\n",
    "    write_value, move, state = logic[state, tape[pos]]\n",
    "    tape[pos] = write_value\n",
    "    pos += move\n",
    "\n",
    "  # hh.Stats(record_pos) = ( 12_208_951)        -6960 : 28           av=-3000.24     sd=3422.89\n",
    "  return sum(tape.values())\n",
    "\n",
    "\n",
    "check_eq(day25a(s1), 3)\n",
    "puzzle.verify(1, day25a)"
   ]
  },
  {
   "cell_type": "code",
   "execution_count": 108,
   "id": "7cbff2e5-214e-432e-b99e-55d1723afb08",
   "metadata": {
    "execution": {
     "iopub.execute_input": "2023-04-19T05:24:25.966347Z",
     "iopub.status.busy": "2023-04-19T05:24:25.966004Z",
     "iopub.status.idle": "2023-04-19T05:24:26.325117Z",
     "shell.execute_reply": "2023-04-19T05:24:26.324506Z",
     "shell.execute_reply.started": "2023-04-19T05:24:25.966332Z"
    },
    "tags": []
   },
   "outputs": [
    {
     "name": "stdout",
     "output_type": "stream",
     "text": [
      "(Part 1: 0.054 s)\n"
     ]
    }
   ],
   "source": [
    "# Fast version using integer arrays and jitted numba.\n",
    "@numba.njit  # ~10.5 s -> 0.05 s.\n",
    "def day25_compute(size: int, num_steps: int, state: int, logic: np.ndarray) -> int:\n",
    "  tape = np.full(size, 0)\n",
    "  pos = size // 2\n",
    "  for _ in range(num_steps):\n",
    "    write_value, move, state = logic[state * 2 + tape[pos]]\n",
    "    tape[pos] = write_value\n",
    "    pos += move\n",
    "  return np.sum(tape)\n",
    "\n",
    "\n",
    "def day25(s, *, size=100_000):\n",
    "  parts = s.split('\\n\\n')\n",
    "  s_state, s_steps = hh.re_groups(r'^(?s)Begin in state (.+)\\..* after (.+) steps', parts[0])\n",
    "  state, num_steps = ord(s_state) - ord('A'), int(s_steps)\n",
    "\n",
    "  logic_lines: list[tuple[int, int, int]] = []  # (write_value, move, next_state)\n",
    "  for part in parts[1:]:\n",
    "    for condition in part.split('If the current ')[1:]:\n",
    "      pattern = r'(?s)Write the value (.+)\\..*to the (.+)\\..* state (.+)\\.'\n",
    "      s_write_value, s_move, s_next_state = hh.re_groups(pattern, condition)\n",
    "      logic_lines.append(\n",
    "          (int(s_write_value), {'left': -1, 'right': +1}[s_move], ord(s_next_state) - ord('A'))\n",
    "      )\n",
    "  logic = np.array(logic_lines)\n",
    "  return day25_compute(size, num_steps, state, logic)\n",
    "\n",
    "\n",
    "check_eq(day25(s1), 3)\n",
    "puzzle.verify(1, day25)"
   ]
  },
  {
   "cell_type": "code",
   "execution_count": 109,
   "id": "ec047d89",
   "metadata": {
    "execution": {
     "iopub.execute_input": "2023-04-19T05:24:26.325968Z",
     "iopub.status.busy": "2023-04-19T05:24:26.325807Z",
     "iopub.status.idle": "2023-04-19T05:24:26.329487Z",
     "shell.execute_reply": "2023-04-19T05:24:26.328907Z",
     "shell.execute_reply.started": "2023-04-19T05:24:26.325947Z"
    }
   },
   "outputs": [
    {
     "name": "stdout",
     "output_type": "stream",
     "text": [
      "(Part 2: 0.000 s)\n"
     ]
    }
   ],
   "source": [
    "puzzle.verify(2, lambda s: '')  # (No \"Part 2\" on last day.)"
   ]
  },
  {
   "cell_type": "markdown",
   "id": "c0ec51f2-be70-4684-b989-1342d9897d9a",
   "metadata": {
    "execution": {
     "iopub.execute_input": "2022-11-01T15:58:46.777709Z",
     "iopub.status.busy": "2022-11-01T15:58:46.777342Z",
     "iopub.status.idle": "2022-11-01T15:58:50.481812Z",
     "shell.execute_reply": "2022-11-01T15:58:50.481213Z",
     "shell.execute_reply.started": "2022-11-01T15:58:46.777695Z"
    },
    "tags": []
   },
   "source": [
    "You deposit all fifty stars and reboot the printer. Suddenly, everything seems a lot less pixelated than before.\"--raise your priority level enough to send the reboot command and... hey look, it's printing! I'll bring it to Santa. Thanks!\" She runs off.\n",
    "Congratulations!  You've finished every puzzle in Advent of Code 2017!  I hope you had as much fun solving them as I had making them for you.  I'd love to hear about your adventure; you can get in touch with me via contact info on my website or through Twitter.\n",
    "If you'd like to see more things like this in the future, please consider supporting Advent of Code and sharing it with others.\n",
    "To hear about future projects, you can follow me on Twitter.\n",
    "I've highlighted the easter eggs in each puzzle, just in case you missed any.  Hover your mouse over them, and the easter egg will appear."
   ]
  },
  {
   "cell_type": "markdown",
   "id": "1f72dc26",
   "metadata": {},
   "source": [
    "<a name=\"timings\"></a>\n",
    "## Timings"
   ]
  },
  {
   "cell_type": "code",
   "execution_count": 110,
   "id": "6ba60491",
   "metadata": {
    "execution": {
     "iopub.execute_input": "2023-04-19T05:24:26.330248Z",
     "iopub.status.busy": "2023-04-19T05:24:26.330106Z",
     "iopub.status.idle": "2023-04-19T05:24:26.338590Z",
     "shell.execute_reply": "2023-04-19T05:24:26.337855Z",
     "shell.execute_reply.started": "2023-04-19T05:24:26.330235Z"
    }
   },
   "outputs": [
    {
     "name": "stdout",
     "output_type": "stream",
     "text": [
      "day_1    part_1: 0.000   part_2: 0.000\n",
      "day_2    part_1: 0.000   part_2: 0.000\n",
      "day_3    part_1: 0.000   part_2: 0.000\n",
      "day_4    part_1: 0.000   part_2: 0.001\n",
      "day_5    part_1: 0.000   part_2: 0.031\n",
      "day_6    part_1: 0.039   part_2: 0.038\n",
      "day_7    part_1: 0.005   part_2: 0.013\n",
      "day_8    part_1: 0.001   part_2: 0.002\n",
      "day_9    part_1: 0.003   part_2: 0.003\n",
      "day_10   part_1: 0.000   part_2: 0.007\n",
      "day_11   part_1: 0.003   part_2: 0.002\n",
      "day_12   part_1: 0.004   part_2: 0.003\n",
      "day_13   part_1: 0.001   part_2: 0.005\n",
      "day_14   part_1: 0.066   part_2: 0.080\n",
      "day_15   part_1: 0.138   part_2: 0.205\n",
      "day_16   part_1: 0.009   part_2: 0.009\n",
      "day_17   part_1: 0.006   part_2: 0.153\n",
      "day_18   part_1: 0.001   part_2: 0.084\n",
      "day_19   part_1: 0.009   part_2: 0.010\n",
      "day_20   part_1: 0.003   part_2: 0.034\n",
      "day_21   part_1: 0.010   part_2: 0.082\n",
      "day_22   part_1: 0.000   part_2: 0.052\n",
      "day_23   part_1: 0.014   part_2: 0.002\n",
      "day_24   part_1: 0.099   part_2: 0.199\n",
      "day_25   part_1: 0.054   part_2: 0.000\n",
      "Total time:  1.484 s\n"
     ]
    }
   ],
   "source": [
    "advent.show_times()"
   ]
  },
  {
   "cell_type": "code",
   "execution_count": 111,
   "id": "10984b69",
   "metadata": {
    "execution": {
     "iopub.execute_input": "2023-04-19T05:24:26.340183Z",
     "iopub.status.busy": "2023-04-19T05:24:26.339606Z",
     "iopub.status.idle": "2023-04-19T05:24:26.348519Z",
     "shell.execute_reply": "2023-04-19T05:24:26.347813Z",
     "shell.execute_reply.started": "2023-04-19T05:24:26.340158Z"
    },
    "tags": []
   },
   "outputs": [],
   "source": [
    "if 0:  # Compute min execution times over several calls.\n",
    "  advent.show_times(recompute=True, repeat=3)"
   ]
  },
  {
   "cell_type": "code",
   "execution_count": 112,
   "id": "2703a2e8",
   "metadata": {
    "execution": {
     "iopub.execute_input": "2023-04-19T05:24:26.349545Z",
     "iopub.status.busy": "2023-04-19T05:24:26.349260Z",
     "iopub.status.idle": "2023-04-19T05:24:26.358225Z",
     "shell.execute_reply": "2023-04-19T05:24:26.357536Z",
     "shell.execute_reply.started": "2023-04-19T05:24:26.349531Z"
    },
    "tags": []
   },
   "outputs": [],
   "source": [
    "if 1:  # Look for unwanted pollution of namespace.\n",
    "  for _name in globals().copy():\n",
    "    if not (re.match(r'^_|(day|Day|s)\\d+|(puzzle$)', _name) or _name in _ORIGINAL_GLOBALS):\n",
    "      print(_name)"
   ]
  },
  {
   "cell_type": "code",
   "execution_count": 113,
   "id": "32f6a43c-6d49-440a-9a60-6dfb82a98743",
   "metadata": {
    "execution": {
     "iopub.execute_input": "2023-04-19T05:24:26.359208Z",
     "iopub.status.busy": "2023-04-19T05:24:26.358998Z",
     "iopub.status.idle": "2023-04-19T05:24:26.368186Z",
     "shell.execute_reply": "2023-04-19T05:24:26.367489Z",
     "shell.execute_reply.started": "2023-04-19T05:24:26.359193Z"
    },
    "tags": []
   },
   "outputs": [],
   "source": [
    "if 0:  # Lint.\n",
    "  hh.run('echo autopep8; autopep8 -j8 -d .')\n",
    "  hh.run('echo pyink; pyink --diff .')\n",
    "  hh.run('echo mypy; mypy . || true')\n",
    "  hh.run('echo pylint; pylint -j8 . || true')\n",
    "  hh.run(\n",
    "      'echo flake8; flake8 --indent-size=2 --exclude .ipynb_checkpoints'\n",
    "      ' --extend-ignore E129,E203,E302,E305,E501,E741'\n",
    "  )"
   ]
  },
  {
   "cell_type": "code",
   "execution_count": 114,
   "id": "c9c34d45",
   "metadata": {
    "execution": {
     "iopub.execute_input": "2023-04-19T05:24:26.369248Z",
     "iopub.status.busy": "2023-04-19T05:24:26.368922Z",
     "iopub.status.idle": "2023-04-19T05:24:26.377989Z",
     "shell.execute_reply": "2023-04-19T05:24:26.377452Z",
     "shell.execute_reply.started": "2023-04-19T05:24:26.369231Z"
    }
   },
   "outputs": [
    {
     "name": "stdout",
     "output_type": "stream",
     "text": [
      "# Total time: 14.62 s\n",
      "# In[ 81] def day19_visualize(s):\\n  grid = hh.grid_from_string(s)  #  2.844 s\n",
      "# In[ 93] _ = day22a_part2(puzzle.input, visualize=True)               2.239 s\n",
      "# In[107] def day25a(s):  # Slow version using dicts and Python.\\n     1.228 s\n",
      "# In[ 62] def day14a(s, *, part2=False):  # Slower version.\\n  s = s.  1.167 s\n",
      "# In[102] def day24a(s, *, start=0, part2=False):  # Slower,           0.912 s\n",
      "# In[ 67] @numba.njit\\ndef day15_compute(state0: int, state1: int,     0.764 s\n",
      "# In[103] def day24b(s, *, start=0, part2=False):  # Faster; side      0.722 s\n",
      "# In[ 58] def day13c_part2(s, *, chunk=3_000):  # Use numpy            0.531 s\n",
      "# In[ 59] def day13d_part2(s, *, chunk=80_000):  # Use numpy sieve;    0.419 s\n",
      "# In[  7] # (1) To obtain puzzle inputs and answers, we first try      0.411 s\n",
      "# In[ 72] @numba.njit  # ~2.6 s -> ~0.16 s.\\ndef day17_compute_part2(  0.373 s\n",
      "# In[108] # Fast version using integer arrays and jitted numba.\\n@     0.355 s\n",
      "# In[104] # Immediately treat (v0, v0) pairs, and canonicalize order   0.301 s\n",
      "# In[ 63] def day14(s, *, part2=False, visualize=False):  # Faster,    0.299 s\n",
      "# In[ 94] @numba.njit  # ~3.9 s -> ~0.05 s.\\ndef day22_compute(grid:   0.291 s\n",
      "# In[ 32] # Fast.\\n@numba.njit\\ndef day5_compute(values: Any, part2:   0.288 s\n",
      "# In[ 89] _ = day21_part2(puzzle.input, visualize=True)                0.114 s\n",
      "# In[ 49] _ = day11(puzzle.input, visualize=True)                      0.102 s\n",
      "# In[ 88] def day21(s, *, num_iterations=5, visualize=False):\\n  def   0.101 s\n",
      "# In[ 77] def day18_part2(s):\\n  instructions = [tuple(line.split(\\'   0.093 s\n"
     ]
    }
   ],
   "source": [
    "hh.show_notebook_cell_top_times()"
   ]
  },
  {
   "cell_type": "markdown",
   "id": "28fe83d2",
   "metadata": {},
   "source": [
    "# End"
   ]
  },
  {
   "cell_type": "markdown",
   "id": "cbdb45a1",
   "metadata": {},
   "source": [
    "<!-- For Emacs:\n",
    "Local Variables:\n",
    "fill-column: 100\n",
    "End:\n",
    "-->"
   ]
  }
 ],
 "metadata": {
  "colab": {
   "collapsed_sections": [],
   "provenance": [],
   "toc_visible": true
  },
  "jupytext": {
   "cell_metadata_filter": "-all",
   "formats": "ipynb,py:percent",
   "main_language": "python",
   "notebook_metadata_filter": "-all"
  },
  "kernelspec": {
   "display_name": "Python 3 (ipykernel)",
   "language": "python",
   "name": "python3"
  },
  "language_info": {
   "codemirror_mode": {
    "name": "ipython",
    "version": 3
   },
   "file_extension": ".py",
   "mimetype": "text/x-python",
   "name": "python",
   "nbconvert_exporter": "python",
   "pygments_lexer": "ipython3",
   "version": "3.10.6"
  }
 },
 "nbformat": 4,
 "nbformat_minor": 5
}
