{
 "cells": [
  {
   "cell_type": "markdown",
   "id": "c239566e",
   "metadata": {},
   "source": [
    "# Advent of code 2017"
   ]
  },
  {
   "cell_type": "markdown",
   "id": "f819c4f7",
   "metadata": {},
   "source": [
    "[[**Open the notebook in Colab**]](https://colab.research.google.com/github/hhoppe/advent_of_code/blob/main/2017/advent_of_code_2017.ipynb)\n",
    "\n",
    "Jupyter [notebook](https://github.com/hhoppe/advent_of_code/blob/main/2017/advent_of_code_2017.ipynb)\n",
    "with Python solutions to the\n",
    "[2017 Advent of Code puzzles](https://adventofcode.com/2017),\n",
    "completed in November 2022,\n",
    "by [Hugues Hoppe](http://hhoppe.com/).\n",
    "\n",
    "The notebook presents both \"compact\" and \"fast\" code versions, along with data visualizations.\n",
    "\n",
    "For the fast solutions, the [cumulative time](#timings) across all 25 puzzles is less than 2 s on my PC.<br/>\n",
    "(Some solutions use the `numba` package to jit-compile functions, which can take a few seconds.)\n",
    "\n",
    "Here are some visualization results:\n",
    "\n",
    "<p>\n",
    "<a href=\"#day14\">day14</a> <img src=\"https://github.com/hhoppe/advent_of_code/raw/main/2017/results/day14.png\" width=\"256\"> &emsp;\n",
    "<a href=\"#day22\">day22</a> <img src=\"https://github.com/hhoppe/advent_of_code/raw/main/2017/results/day22.png\" width=\"363\">\n",
    "</p>\n",
    "<p>\n",
    "<a href=\"#day21\">day21</a> <img src=\"https://github.com/hhoppe/advent_of_code/raw/main/2017/results/day21.png\" width=\"867\">\n",
    "</p>"
   ]
  },
  {
   "cell_type": "markdown",
   "id": "3d759f1d",
   "metadata": {},
   "source": [
    "<a name=\"preamble\"></a>\n",
    "## Preamble"
   ]
  },
  {
   "cell_type": "code",
   "execution_count": 1,
   "id": "e8e1f153",
   "metadata": {
    "execution": {
     "iopub.execute_input": "2023-04-10T20:31:21.248080Z",
     "iopub.status.busy": "2023-04-10T20:31:21.247944Z",
     "iopub.status.idle": "2023-04-10T20:31:21.373769Z",
     "shell.execute_reply": "2023-04-10T20:31:21.373149Z",
     "shell.execute_reply.started": "2023-04-10T20:31:21.248057Z"
    },
    "tags": []
   },
   "outputs": [],
   "source": [
    "!command -v ffmpeg >/dev/null || (apt-get -qq update && apt-get -qq -y install ffmpeg) >/dev/null"
   ]
  },
  {
   "cell_type": "code",
   "execution_count": 2,
   "id": "aeee3349",
   "metadata": {
    "execution": {
     "iopub.execute_input": "2023-04-10T20:31:21.375219Z",
     "iopub.status.busy": "2023-04-10T20:31:21.374942Z",
     "iopub.status.idle": "2023-04-10T20:31:22.689905Z",
     "shell.execute_reply": "2023-04-10T20:31:22.689248Z",
     "shell.execute_reply.started": "2023-04-10T20:31:21.375204Z"
    },
    "tags": []
   },
   "outputs": [],
   "source": [
    "!pip install -q advent-of-code-hhoppe hhoppe-tools mediapy more-itertools numba numpy"
   ]
  },
  {
   "cell_type": "code",
   "execution_count": 3,
   "id": "b7672379",
   "metadata": {
    "execution": {
     "iopub.execute_input": "2023-04-10T20:31:22.690900Z",
     "iopub.status.busy": "2023-04-10T20:31:22.690613Z",
     "iopub.status.idle": "2023-04-10T20:31:22.980680Z",
     "shell.execute_reply": "2023-04-10T20:31:22.979958Z",
     "shell.execute_reply.started": "2023-04-10T20:31:22.690886Z"
    },
    "tags": []
   },
   "outputs": [],
   "source": [
    "from __future__ import annotations\n",
    "\n",
    "import collections\n",
    "from collections.abc import Iterator\n",
    "import dataclasses\n",
    "import functools\n",
    "import graphlib\n",
    "import itertools\n",
    "import math\n",
    "import operator\n",
    "import pathlib\n",
    "import re\n",
    "import sys\n",
    "import types\n",
    "from typing import Any, Tuple\n",
    "\n",
    "import advent_of_code_hhoppe  # https://github.com/hhoppe/advent-of-code-hhoppe/blob/main/advent_of_code_hhoppe/__init__.py\n",
    "import hhoppe_tools as hh  # https://github.com/hhoppe/hhoppe-tools/blob/main/hhoppe_tools/__init__.py\n",
    "import mediapy as media  # https://github.com/google/mediapy/blob/main/mediapy/__init__.py\n",
    "import more_itertools\n",
    "import numpy as np"
   ]
  },
  {
   "cell_type": "code",
   "execution_count": 4,
   "id": "00c48f0e",
   "metadata": {
    "execution": {
     "iopub.execute_input": "2023-04-10T20:31:22.982258Z",
     "iopub.status.busy": "2023-04-10T20:31:22.981744Z",
     "iopub.status.idle": "2023-04-10T20:31:23.000198Z",
     "shell.execute_reply": "2023-04-10T20:31:22.999230Z",
     "shell.execute_reply.started": "2023-04-10T20:31:22.982242Z"
    },
    "tags": []
   },
   "outputs": [],
   "source": [
    "if not media.video_is_available():\n",
    "  media.show_videos = lambda *a, **kw: print('Creating video is unavailable.')"
   ]
  },
  {
   "cell_type": "code",
   "execution_count": 5,
   "id": "2c688fa5",
   "metadata": {
    "execution": {
     "iopub.execute_input": "2023-04-10T20:31:23.001465Z",
     "iopub.status.busy": "2023-04-10T20:31:23.001197Z",
     "iopub.status.idle": "2023-04-10T20:31:23.005039Z",
     "shell.execute_reply": "2023-04-10T20:31:23.004222Z",
     "shell.execute_reply.started": "2023-04-10T20:31:23.001449Z"
    },
    "tags": []
   },
   "outputs": [],
   "source": [
    "hh.start_timing_notebook_cells()"
   ]
  },
  {
   "cell_type": "code",
   "execution_count": 6,
   "id": "be91ac9d",
   "metadata": {
    "execution": {
     "iopub.execute_input": "2023-04-10T20:31:23.006227Z",
     "iopub.status.busy": "2023-04-10T20:31:23.005848Z",
     "iopub.status.idle": "2023-04-10T20:31:23.013920Z",
     "shell.execute_reply": "2023-04-10T20:31:23.013333Z",
     "shell.execute_reply.started": "2023-04-10T20:31:23.006213Z"
    },
    "tags": []
   },
   "outputs": [],
   "source": [
    "YEAR = 2017\n",
    "if pathlib.Path('results').is_dir():\n",
    "  media.set_show_save_dir('results')"
   ]
  },
  {
   "cell_type": "code",
   "execution_count": 7,
   "id": "ae4c212f",
   "metadata": {
    "execution": {
     "iopub.execute_input": "2023-04-10T20:31:23.015823Z",
     "iopub.status.busy": "2023-04-10T20:31:23.015317Z",
     "iopub.status.idle": "2023-04-10T20:31:23.433911Z",
     "shell.execute_reply": "2023-04-10T20:31:23.433325Z",
     "shell.execute_reply.started": "2023-04-10T20:31:23.015803Z"
    },
    "tags": []
   },
   "outputs": [],
   "source": [
    "# (1) To obtain puzzle inputs and answers, we first try these paths/URLs:\n",
    "PROFILE = 'google.Hugues_Hoppe.965276'\n",
    "# PROFILE = 'github.hhoppe.1452460'\n",
    "TAR_URL = f'https://github.com/hhoppe/advent_of_code/raw/main/{YEAR}/data/{PROFILE}.tar.gz'\n",
    "if 1:\n",
    "  hh.run(\n",
    "      '{ [ -d data ] || mkdir data; } && cd data &&'\n",
    "      f' {{ [ -f {PROFILE}.tar.gz ] || wget -q {TAR_URL}; }} &&'\n",
    "      f' tar xzf {PROFILE}.tar.gz'\n",
    "  )\n",
    "INPUT_URL = f'data/{PROFILE}/{{year}}_{{day:02d}}_input.txt'\n",
    "ANSWER_URL = f'data/{PROFILE}/{{year}}_{{day:02d}}{{part_letter}}_answer.txt'"
   ]
  },
  {
   "cell_type": "code",
   "execution_count": 8,
   "id": "25548a6e",
   "metadata": {
    "execution": {
     "iopub.execute_input": "2023-04-10T20:31:23.434746Z",
     "iopub.status.busy": "2023-04-10T20:31:23.434571Z",
     "iopub.status.idle": "2023-04-10T20:31:23.437678Z",
     "shell.execute_reply": "2023-04-10T20:31:23.436933Z",
     "shell.execute_reply.started": "2023-04-10T20:31:23.434734Z"
    },
    "tags": []
   },
   "outputs": [],
   "source": [
    "# (2) If URL is not found, we may try adventofcode.com using a session (auth login) cookie:\n",
    "if 0:\n",
    "  # echo 53616... >~/.config/aocd/token  # session cookie from \"adventofcode.com\" (valid 1 month).\n",
    "  hh.run('pip install -q advent-of-code-data')  # https://github.com/wimglenn/advent-of-code-data\n",
    "  import aocd  # pylint: disable=unused-import # noqa"
   ]
  },
  {
   "cell_type": "code",
   "execution_count": 9,
   "id": "996f23d3",
   "metadata": {
    "execution": {
     "iopub.execute_input": "2023-04-10T20:31:23.438483Z",
     "iopub.status.busy": "2023-04-10T20:31:23.438327Z",
     "iopub.status.idle": "2023-04-10T20:31:23.447769Z",
     "shell.execute_reply": "2023-04-10T20:31:23.446983Z",
     "shell.execute_reply.started": "2023-04-10T20:31:23.438470Z"
    },
    "tags": []
   },
   "outputs": [],
   "source": [
    "try:\n",
    "  import numba\n",
    "except ModuleNotFoundError:\n",
    "  print('Package numba is unavailable.')\n",
    "  numba = sys.modules['numba'] = types.ModuleType('numba')\n",
    "  numba.njit = hh.noop_decorator\n",
    "using_numba = hasattr(numba, 'jit')"
   ]
  },
  {
   "cell_type": "code",
   "execution_count": 10,
   "id": "122f5cf4",
   "metadata": {
    "execution": {
     "iopub.execute_input": "2023-04-10T20:31:23.448876Z",
     "iopub.status.busy": "2023-04-10T20:31:23.448649Z",
     "iopub.status.idle": "2023-04-10T20:31:23.460317Z",
     "shell.execute_reply": "2023-04-10T20:31:23.459624Z",
     "shell.execute_reply.started": "2023-04-10T20:31:23.448861Z"
    },
    "tags": []
   },
   "outputs": [],
   "source": [
    "advent = advent_of_code_hhoppe.Advent(year=YEAR, input_url=INPUT_URL, answer_url=ANSWER_URL)"
   ]
  },
  {
   "cell_type": "code",
   "execution_count": 11,
   "id": "9e0deecd-8bc8-4f56-8760-0e271af6bb02",
   "metadata": {
    "execution": {
     "iopub.execute_input": "2023-04-10T20:31:23.461549Z",
     "iopub.status.busy": "2023-04-10T20:31:23.461112Z",
     "iopub.status.idle": "2023-04-10T20:31:23.473900Z",
     "shell.execute_reply": "2023-04-10T20:31:23.473070Z",
     "shell.execute_reply.started": "2023-04-10T20:31:23.461525Z"
    },
    "tags": []
   },
   "outputs": [
    {
     "data": {
      "text/html": [
       "<style>.jp-Cell.jp-MarkdownCell {max-width: 1016px!important;}</style>"
      ],
      "text/plain": [
       "<IPython.core.display.HTML object>"
      ]
     },
     "metadata": {},
     "output_type": "display_data"
    }
   ],
   "source": [
    "hh.adjust_jupyterlab_markdown_width()"
   ]
  },
  {
   "cell_type": "markdown",
   "id": "c6feaf6f",
   "metadata": {},
   "source": [
    "### Helper functions"
   ]
  },
  {
   "cell_type": "code",
   "execution_count": null,
   "id": "30a4c9f8",
   "metadata": {},
   "outputs": [],
   "source": [
    "check_eq = hh.check_eq"
   ]
  },
  {
   "cell_type": "code",
   "execution_count": 12,
   "id": "df9e9548",
   "metadata": {
    "execution": {
     "iopub.execute_input": "2023-04-10T20:31:23.475637Z",
     "iopub.status.busy": "2023-04-10T20:31:23.475035Z",
     "iopub.status.idle": "2023-04-10T20:31:23.479421Z",
     "shell.execute_reply": "2023-04-10T20:31:23.478516Z",
     "shell.execute_reply.started": "2023-04-10T20:31:23.475608Z"
    },
    "tags": []
   },
   "outputs": [],
   "source": [
    "_ORIGINAL_GLOBALS = list(globals())"
   ]
  },
  {
   "cell_type": "markdown",
   "id": "6b28c473",
   "metadata": {},
   "source": [
    "<a name=\"day1\"></a>\n",
    "## Day 1: Digits in a circular list"
   ]
  },
  {
   "cell_type": "markdown",
   "id": "a03de689",
   "metadata": {},
   "source": [
    "- Part 1: Find the sum of all digits that match the next digit in the list.\n",
    "\n",
    "- Part 2: Instead of considering the next digit, consider the digit halfway around the circular list."
   ]
  },
  {
   "cell_type": "code",
   "execution_count": 13,
   "id": "4874099e",
   "metadata": {
    "execution": {
     "iopub.execute_input": "2022-12-20T18:18:27.964537Z",
     "iopub.status.busy": "2022-12-20T18:18:27.964108Z",
     "iopub.status.idle": "2022-12-20T18:18:27.979089Z",
     "shell.execute_reply": "2022-12-20T18:18:27.978648Z",
     "shell.execute_reply.started": "2022-12-20T18:18:27.964521Z"
    },
    "tags": []
   },
   "outputs": [
    {
     "data": {
      "text/markdown": [
       "For [day 1](https://adventofcode.com/2017/day/1), `puzzle.input` has a single line of 2_118 characters:"
      ],
      "text/plain": [
       "<IPython.core.display.Markdown object>"
      ]
     },
     "metadata": {},
     "output_type": "display_data"
    },
    {
     "name": "stdout",
     "output_type": "stream",
     "text": [
      "11183136235455117313495775841784971687718871633822712186999265297215465163229667 ... 66515428245928111112613638341345371\n"
     ]
    },
    {
     "data": {
      "text/markdown": [
       "The stored answers are: `{1: '1044', 2: '1054'}`"
      ],
      "text/plain": [
       "<IPython.core.display.Markdown object>"
      ]
     },
     "metadata": {},
     "output_type": "display_data"
    }
   ],
   "source": [
    "puzzle = advent.puzzle(day=1)"
   ]
  },
  {
   "cell_type": "code",
   "execution_count": 14,
   "id": "da9c9a7c",
   "metadata": {
    "execution": {
     "iopub.execute_input": "2022-12-20T18:18:27.979954Z",
     "iopub.status.busy": "2022-12-20T18:18:27.979835Z",
     "iopub.status.idle": "2022-12-20T18:18:27.985044Z",
     "shell.execute_reply": "2022-12-20T18:18:27.984514Z",
     "shell.execute_reply.started": "2022-12-20T18:18:27.979944Z"
    },
    "tags": []
   },
   "outputs": [
    {
     "name": "stdout",
     "output_type": "stream",
     "text": [
      "(Part 1: 0.000 s)\n",
      "(Part 2: 0.000 s)\n"
     ]
    }
   ],
   "source": [
    "def day1(s, *, part2=False):\n",
    "  digits = [int(ch) for ch in s.strip()]\n",
    "  total = 0\n",
    "  offset = len(digits) // 2 if part2 else 1\n",
    "  for d0, d1 in zip(digits, digits[offset:] + digits[:offset]):\n",
    "    if d0 == d1:\n",
    "      total += d0\n",
    "  return total\n",
    "\n",
    "\n",
    "check_eq(day1('1122'), 3)\n",
    "check_eq(day1('1111'), 4)\n",
    "check_eq(day1('1234'), 0)\n",
    "check_eq(day1('91212129'), 9)\n",
    "puzzle.verify(1, day1)\n",
    "\n",
    "day1_part2 = functools.partial(day1, part2=True)\n",
    "check_eq(day1_part2('1212'), 6)\n",
    "check_eq(day1_part2('1221'), 0)\n",
    "check_eq(day1_part2('123425'), 4)\n",
    "check_eq(day1_part2('123123'), 12)\n",
    "check_eq(day1_part2('12131415'), 4)\n",
    "puzzle.verify(2, day1_part2)"
   ]
  },
  {
   "cell_type": "markdown",
   "id": "7efd4627-f7ec-4261-8723-63e34d20e7da",
   "metadata": {},
   "source": [
    "<a name=\"day2\"></a>\n",
    "## Day 2: Rows of numbers"
   ]
  },
  {
   "cell_type": "markdown",
   "id": "2aa3f410-a8ec-4130-a614-8cb407fb491f",
   "metadata": {},
   "source": [
    "- Part 1: Find sum of differences between largest and smallest value in each row.\n",
    "\n",
    "- Part 2: Find in each row the only 2 numbers where one evenly divides the other.  Sum the divisions."
   ]
  },
  {
   "cell_type": "code",
   "execution_count": 15,
   "id": "ec65cbc8-e0e6-4dda-b6fb-690f02b1ca32",
   "metadata": {
    "execution": {
     "iopub.execute_input": "2022-12-20T18:18:27.985898Z",
     "iopub.status.busy": "2022-12-20T18:18:27.985637Z",
     "iopub.status.idle": "2022-12-20T18:18:27.999648Z",
     "shell.execute_reply": "2022-12-20T18:18:27.999069Z",
     "shell.execute_reply.started": "2022-12-20T18:18:27.985885Z"
    },
    "tags": []
   },
   "outputs": [
    {
     "data": {
      "text/markdown": [
       "For [day 2](https://adventofcode.com/2017/day/2), `puzzle.input` has 16 lines:"
      ],
      "text/plain": [
       "<IPython.core.display.Markdown object>"
      ]
     },
     "metadata": {},
     "output_type": "display_data"
    },
    {
     "name": "stdout",
     "output_type": "stream",
     "text": [
      "798\t1976\t1866\t1862\t559\t1797\t1129\t747\t85\t1108\t104\t2000\t248\t131\t87\t95\n",
      "201\t419\t336\t65\t208\t57\t74\t433\t68\t360\t390\t412\t355\t209\t330\t135\n",
      "967\t84\t492\t1425\t1502\t1324\t1268\t1113\t1259\t81\t310\t1360\t773\t69\t68\t290\n",
      "169\t264\t107\t298\t38\t149\t56\t126\t276\t45\t305\t403\t89\t179\t394\t172\n",
      "3069\t387\t2914\t2748\t1294\t1143\t3099\t152\t2867\t3082\t113\t145\t2827\t2545\t134\t469\n",
      "3885\t1098\t2638\t5806\t4655\t4787\t186\t4024\t2286\t5585\t5590\t215\t5336\t2738\t218\t266\n",
      "661\t789\t393\t159\t172\t355\t820\t891\t196\t831\t345\t784\t65\t971\t396\t234\n",
      "4095\t191\t4333\t161\t3184\t193\t4830\t4153\t2070\t3759\t1207\t3222\t185\t176\t2914\t4152\n",
      " ...\n",
      "271\t4026\t2960\t6444\t2896\t228\t819\t676\t6612\t6987\t265\t2231\t2565\t6603\t207\t6236\n",
      "91\t683\t1736\t1998\t1960\t1727\t84\t1992\t1072\t1588\t1768\t74\t58\t1956\t1627\t893\n",
      "3591\t1843\t3448\t1775\t3564\t2632\t1002\t3065\t77\t3579\t78\t99\t1668\t98\t2963\t3553\n",
      "2155\t225\t2856\t3061\t105\t204\t1269\t171\t2505\t2852\t977\t1377\t181\t1856\t2952\t2262\n"
     ]
    },
    {
     "data": {
      "text/markdown": [
       "The stored answers are: `{1: '41919', 2: '303'}`"
      ],
      "text/plain": [
       "<IPython.core.display.Markdown object>"
      ]
     },
     "metadata": {},
     "output_type": "display_data"
    }
   ],
   "source": [
    "puzzle = advent.puzzle(day=2)"
   ]
  },
  {
   "cell_type": "code",
   "execution_count": 16,
   "id": "74595e38-f6f8-49cf-8f25-cf3be60148a5",
   "metadata": {
    "execution": {
     "iopub.execute_input": "2022-12-20T18:18:28.001084Z",
     "iopub.status.busy": "2022-12-20T18:18:28.000663Z",
     "iopub.status.idle": "2022-12-20T18:18:28.003805Z",
     "shell.execute_reply": "2022-12-20T18:18:28.003251Z",
     "shell.execute_reply.started": "2022-12-20T18:18:28.001069Z"
    }
   },
   "outputs": [],
   "source": [
    "s1 = \"\"\"\\\n",
    "5 1 9 5\n",
    "7 5 3\n",
    "2 4 6 8\n",
    "\"\"\""
   ]
  },
  {
   "cell_type": "code",
   "execution_count": 17,
   "id": "68d27df0-464e-4cda-8b0b-f114259d67cf",
   "metadata": {
    "execution": {
     "iopub.execute_input": "2022-12-20T18:18:28.004721Z",
     "iopub.status.busy": "2022-12-20T18:18:28.004597Z",
     "iopub.status.idle": "2022-12-20T18:18:28.013411Z",
     "shell.execute_reply": "2022-12-20T18:18:28.012822Z",
     "shell.execute_reply.started": "2022-12-20T18:18:28.004711Z"
    },
    "tags": []
   },
   "outputs": [],
   "source": [
    "s2 = \"\"\"\\\n",
    "5 9 2 8\n",
    "9 4 7 3\n",
    "3 8 6 5\n",
    "\"\"\""
   ]
  },
  {
   "cell_type": "code",
   "execution_count": 18,
   "id": "a75e3b46-e2f8-4ecf-a1f3-02d8da3b9235",
   "metadata": {
    "execution": {
     "iopub.execute_input": "2022-12-20T18:18:28.014445Z",
     "iopub.status.busy": "2022-12-20T18:18:28.014123Z",
     "iopub.status.idle": "2022-12-20T18:18:28.024641Z",
     "shell.execute_reply": "2022-12-20T18:18:28.024050Z",
     "shell.execute_reply.started": "2022-12-20T18:18:28.014433Z"
    },
    "tags": []
   },
   "outputs": [
    {
     "name": "stdout",
     "output_type": "stream",
     "text": [
      "(Part 1: 0.000 s)\n",
      "(Part 2: 0.000 s)\n"
     ]
    }
   ],
   "source": [
    "def day2(s, *, part2=False):\n",
    "  total = 0\n",
    "\n",
    "  for line in s.splitlines():\n",
    "    values = [int(field) for field in line.split()]\n",
    "    if not part2:\n",
    "      difference = max(values) - min(values)\n",
    "      total += difference\n",
    "    else:\n",
    "      for value1, value2 in itertools.permutations(values, 2):\n",
    "        if value1 % value2 == 0:\n",
    "          total += value1 // value2\n",
    "          break\n",
    "\n",
    "  return total\n",
    "\n",
    "\n",
    "check_eq(day2(s1), 18)\n",
    "puzzle.verify(1, day2)\n",
    "\n",
    "day2_part2 = functools.partial(day2, part2=True)\n",
    "check_eq(day2_part2(s2), 9)\n",
    "puzzle.verify(2, day2_part2)"
   ]
  },
  {
   "cell_type": "markdown",
   "id": "0baddff9",
   "metadata": {},
   "source": [
    "<a name=\"day3\"></a>\n",
    "## Day 3: Spiral memory"
   ]
  },
  {
   "cell_type": "markdown",
   "id": "1c9e39f0",
   "metadata": {},
   "source": [
    "- Part 1: Find the Manhattan distance (from the origin) of the nth spiral entry.\n",
    "\n",
    "- Part 2: Successively, each spiral value is the sum of its 3x3 neighborhood; find the first value that is larger than the puzzle input."
   ]
  },
  {
   "cell_type": "code",
   "execution_count": 19,
   "id": "3a480095",
   "metadata": {
    "execution": {
     "iopub.execute_input": "2022-12-20T18:18:28.025624Z",
     "iopub.status.busy": "2022-12-20T18:18:28.025326Z",
     "iopub.status.idle": "2022-12-20T18:18:28.043298Z",
     "shell.execute_reply": "2022-12-20T18:18:28.042592Z",
     "shell.execute_reply.started": "2022-12-20T18:18:28.025607Z"
    },
    "tags": []
   },
   "outputs": [
    {
     "data": {
      "text/markdown": [
       "For [day 3](https://adventofcode.com/2017/day/3), `puzzle.input` has a single line of 6 characters:"
      ],
      "text/plain": [
       "<IPython.core.display.Markdown object>"
      ]
     },
     "metadata": {},
     "output_type": "display_data"
    },
    {
     "name": "stdout",
     "output_type": "stream",
     "text": [
      "312051\n"
     ]
    },
    {
     "data": {
      "text/markdown": [
       "The stored answers are: `{1: '430', 2: '312453'}`"
      ],
      "text/plain": [
       "<IPython.core.display.Markdown object>"
      ]
     },
     "metadata": {},
     "output_type": "display_data"
    }
   ],
   "source": [
    "puzzle = advent.puzzle(day=3)"
   ]
  },
  {
   "cell_type": "code",
   "execution_count": 20,
   "id": "31270020-948a-4570-8371-9fbb1dd6872f",
   "metadata": {
    "execution": {
     "iopub.execute_input": "2022-12-20T18:18:28.044461Z",
     "iopub.status.busy": "2022-12-20T18:18:28.044063Z",
     "iopub.status.idle": "2022-12-20T18:18:28.048041Z",
     "shell.execute_reply": "2022-12-20T18:18:28.047530Z",
     "shell.execute_reply.started": "2022-12-20T18:18:28.044438Z"
    },
    "tags": []
   },
   "outputs": [],
   "source": [
    "def day3_spiral_yx():\n",
    "  \"\"\"Yields y, x coordinates of successive spiral entries.\"\"\"\n",
    "  yield 0, 0  # Value 1.\n",
    "  yield 0, 1  # Value 2.\n",
    "  yield -1, 1  # Value 3.\n",
    "  y, x = -1, 1\n",
    "  arm = 2\n",
    "  while True:\n",
    "    for _ in range(arm):\n",
    "      x -= 1\n",
    "      yield y, x\n",
    "    for _ in range(arm):\n",
    "      y += 1\n",
    "      yield y, x\n",
    "    arm += 1\n",
    "    for _ in range(arm):\n",
    "      x += 1\n",
    "      yield y, x\n",
    "    for _ in range(arm):\n",
    "      y -= 1\n",
    "      yield y, x\n",
    "    arm += 1"
   ]
  },
  {
   "cell_type": "code",
   "execution_count": 21,
   "id": "60043c07-fdb3-4bd2-ac88-3560f8765e30",
   "metadata": {
    "execution": {
     "iopub.execute_input": "2022-12-20T18:18:28.048933Z",
     "iopub.status.busy": "2022-12-20T18:18:28.048691Z",
     "iopub.status.idle": "2022-12-20T18:18:28.071785Z",
     "shell.execute_reply": "2022-12-20T18:18:28.071002Z",
     "shell.execute_reply.started": "2022-12-20T18:18:28.048921Z"
    },
    "tags": []
   },
   "outputs": [
    {
     "name": "stdout",
     "output_type": "stream",
     "text": [
      "(Part 1: 0.013 s)\n"
     ]
    }
   ],
   "source": [
    "def day3_part1_slow(s):\n",
    "  value = int(s)\n",
    "  y, x = next(itertools.islice(day3_spiral_yx(), value - 1, None))\n",
    "  return abs(y) + abs(x)\n",
    "\n",
    "\n",
    "check_eq(day3_part1_slow('1'), 0)\n",
    "check_eq(day3_part1_slow('12'), 3)\n",
    "check_eq(day3_part1_slow('22'), 3)\n",
    "check_eq(day3_part1_slow('23'), 2)\n",
    "check_eq(day3_part1_slow('24'), 3)\n",
    "check_eq(day3_part1_slow('1024'), 31)\n",
    "puzzle.verify(1, day3_part1_slow)"
   ]
  },
  {
   "cell_type": "code",
   "execution_count": 22,
   "id": "e97c9284-782e-4e49-b952-903540e74c87",
   "metadata": {
    "execution": {
     "iopub.execute_input": "2022-12-20T18:18:28.074969Z",
     "iopub.status.busy": "2022-12-20T18:18:28.074632Z",
     "iopub.status.idle": "2022-12-20T18:18:28.081778Z",
     "shell.execute_reply": "2022-12-20T18:18:28.081176Z",
     "shell.execute_reply.started": "2022-12-20T18:18:28.074951Z"
    },
    "tags": []
   },
   "outputs": [
    {
     "name": "stdout",
     "output_type": "stream",
     "text": [
      "(Part 1: 0.000 s)\n"
     ]
    }
   ],
   "source": [
    "def day3_part1(s):\n",
    "  value = int(s)\n",
    "  result = {1: 0, 2: 1, 3: 2}.get(value)\n",
    "  if result is not None:\n",
    "    return result\n",
    "  n = 4\n",
    "  arm = 2\n",
    "  count = 0  # 0 or 1\n",
    "  while n + arm <= value:\n",
    "    n += arm\n",
    "    count += 1\n",
    "    if count == 2:\n",
    "      count = 0\n",
    "      arm += 1\n",
    "  xd = value - n - (arm // 2 - 1)\n",
    "  r = (arm + count) // 2\n",
    "  d = abs(xd) + r\n",
    "  return d\n",
    "\n",
    "\n",
    "check_eq(day3_part1('1'), 0)\n",
    "check_eq(day3_part1('12'), 3)\n",
    "check_eq(day3_part1('22'), 3)\n",
    "check_eq(day3_part1('23'), 2)\n",
    "check_eq(day3_part1('24'), 3)\n",
    "check_eq(day3_part1('1024'), 31)\n",
    "puzzle.verify(1, day3_part1)"
   ]
  },
  {
   "cell_type": "code",
   "execution_count": 23,
   "id": "aa81c02a-b2bc-41e3-9db9-2d2513741499",
   "metadata": {
    "execution": {
     "iopub.execute_input": "2022-12-20T18:18:28.082755Z",
     "iopub.status.busy": "2022-12-20T18:18:28.082435Z",
     "iopub.status.idle": "2022-12-20T18:18:28.093285Z",
     "shell.execute_reply": "2022-12-20T18:18:28.092720Z",
     "shell.execute_reply.started": "2022-12-20T18:18:28.082741Z"
    },
    "tags": []
   },
   "outputs": [
    {
     "name": "stdout",
     "output_type": "stream",
     "text": [
      "(Part 2: 0.000 s)\n"
     ]
    }
   ],
   "source": [
    "def day3_part2(s, *, size=41):\n",
    "  value = int(s)\n",
    "  grid = np.zeros((size, size), np.int32)\n",
    "  g = size // 2  # The first value 1 is located at central grid[g, g].\n",
    "  for y0, x0 in day3_spiral_yx():\n",
    "    y, x = y0 + g, x0 + g\n",
    "    assert y >= 1 and x >= 1\n",
    "    count = max(np.sum(grid[y - 1 : y + 2, x - 1 : x + 2]), 1)\n",
    "    grid[y, x] = count\n",
    "    if count > value:\n",
    "      return count\n",
    "  raise AssertionError\n",
    "\n",
    "\n",
    "check_eq(day3_part2('1'), 2)\n",
    "check_eq(day3_part2('2'), 4)\n",
    "check_eq(day3_part2('4'), 5)\n",
    "check_eq(day3_part2('5'), 10)\n",
    "check_eq(day3_part2('59'), 122)\n",
    "puzzle.verify(2, day3_part2)"
   ]
  },
  {
   "cell_type": "markdown",
   "id": "0cefff26",
   "metadata": {},
   "source": [
    "<a name=\"day4\"></a>\n",
    "## Day 4: Valid passphrases"
   ]
  },
  {
   "cell_type": "markdown",
   "id": "d6091493",
   "metadata": {},
   "source": [
    "- Part 1: How many passphrases contain no duplicate words?\n",
    "\n",
    "- Part 2: What if in addition, no two words may be anagrams of each other?"
   ]
  },
  {
   "cell_type": "code",
   "execution_count": 24,
   "id": "41a1020b",
   "metadata": {
    "execution": {
     "iopub.execute_input": "2022-12-20T18:18:28.094187Z",
     "iopub.status.busy": "2022-12-20T18:18:28.093934Z",
     "iopub.status.idle": "2022-12-20T18:18:28.113261Z",
     "shell.execute_reply": "2022-12-20T18:18:28.112698Z",
     "shell.execute_reply.started": "2022-12-20T18:18:28.094173Z"
    }
   },
   "outputs": [
    {
     "data": {
      "text/markdown": [
       "For [day 4](https://adventofcode.com/2017/day/4), `puzzle.input` has 512 lines:"
      ],
      "text/plain": [
       "<IPython.core.display.Markdown object>"
      ]
     },
     "metadata": {},
     "output_type": "display_data"
    },
    {
     "name": "stdout",
     "output_type": "stream",
     "text": [
      "oaoe rxeq vssdqtu xrk cjv yaoqp loo\n",
      "mveua dogbam szydvri hyzk lbega abzqw xwjn wniug kwbre\n",
      "npaoy uivpxwd oynpa rcdk uixpvdw\n",
      "yserir iikzcm ieuroca iuwcfov rvb giti crdpdcv mxpps\n",
      "spyuhgo lucasl ucllsa bymnjig yflbv nxitmlf\n",
      "xlxyhwz xla mpye fvjegwg fezlfrt inetrh vhg xpvstx ydhvq\n",
      "xgue cvtmh myg ontvvyw ygm oqzrdrw\n",
      "srdfsjf dli kccb kauk kauk apa doefc cdffkhh cdffkhh\n",
      " ...\n",
      "khuvrne rnamlgt akjtu qlx odr git xmiazr icwsxsq\n",
      "jfm bneh tkdzuad bsr oruvmqq uauw zjlp gwov hot jkjbex\n",
      "jjo uvk vlpy lpxd irntb uvk ehhsqv fxhvt jjo fpa\n",
      "qrwu mgnw hvflf ytspp mco ikvbqg fflvh wts cbbf\n"
     ]
    },
    {
     "data": {
      "text/markdown": [
       "The stored answers are: `{1: '386', 2: '208'}`"
      ],
      "text/plain": [
       "<IPython.core.display.Markdown object>"
      ]
     },
     "metadata": {},
     "output_type": "display_data"
    }
   ],
   "source": [
    "puzzle = advent.puzzle(day=4)"
   ]
  },
  {
   "cell_type": "code",
   "execution_count": 25,
   "id": "d4e0e6ef-6186-4dfe-8bac-addb142e7720",
   "metadata": {
    "execution": {
     "iopub.execute_input": "2022-12-20T18:18:28.114188Z",
     "iopub.status.busy": "2022-12-20T18:18:28.113932Z",
     "iopub.status.idle": "2022-12-20T18:18:28.116635Z",
     "shell.execute_reply": "2022-12-20T18:18:28.116163Z",
     "shell.execute_reply.started": "2022-12-20T18:18:28.114176Z"
    }
   },
   "outputs": [],
   "source": [
    "s1 = \"\"\"\\\n",
    "aa bb cc dd ee\n",
    "aa bb cc dd aa\n",
    "aa bb cc dd aaa\n",
    "\"\"\""
   ]
  },
  {
   "cell_type": "code",
   "execution_count": 26,
   "id": "a2314280-674d-47e4-9045-b00c4e64c635",
   "metadata": {
    "execution": {
     "iopub.execute_input": "2022-12-20T18:18:28.117414Z",
     "iopub.status.busy": "2022-12-20T18:18:28.117200Z",
     "iopub.status.idle": "2022-12-20T18:18:28.125761Z",
     "shell.execute_reply": "2022-12-20T18:18:28.125175Z",
     "shell.execute_reply.started": "2022-12-20T18:18:28.117404Z"
    }
   },
   "outputs": [],
   "source": [
    "s2 = \"\"\"\\\n",
    "abcde fghij\n",
    "abcde xyz ecdab\n",
    "a ab abc abd abf abj\n",
    "iiii oiii ooii oooi oooo\n",
    "oiii ioii iioi iiio\n",
    "\"\"\""
   ]
  },
  {
   "cell_type": "code",
   "execution_count": 27,
   "id": "551b3330",
   "metadata": {
    "execution": {
     "iopub.execute_input": "2022-12-20T18:18:28.126652Z",
     "iopub.status.busy": "2022-12-20T18:18:28.126391Z",
     "iopub.status.idle": "2022-12-20T18:18:28.137948Z",
     "shell.execute_reply": "2022-12-20T18:18:28.137363Z",
     "shell.execute_reply.started": "2022-12-20T18:18:28.126639Z"
    },
    "tags": []
   },
   "outputs": [
    {
     "name": "stdout",
     "output_type": "stream",
     "text": [
      "(Part 1: 0.000 s)\n",
      "(Part 2: 0.001 s)\n"
     ]
    }
   ],
   "source": [
    "def day4(s, *, part2=False):\n",
    "  num_valid = 0\n",
    "\n",
    "  for line in s.splitlines():\n",
    "    words = line.split()\n",
    "    valid = len(words) == len(set(words))\n",
    "    if valid and part2:\n",
    "      words_with_sorted_letters = [''.join(sorted(word)) for word in words]\n",
    "      valid = len(words_with_sorted_letters) == len(set(words_with_sorted_letters))\n",
    "    num_valid += valid\n",
    "\n",
    "  return num_valid\n",
    "\n",
    "\n",
    "check_eq(day4(s1), 2)\n",
    "puzzle.verify(1, day4)\n",
    "\n",
    "day4_part2 = functools.partial(day4, part2=True)\n",
    "check_eq(day4_part2(s2), 3)\n",
    "puzzle.verify(2, day4_part2)"
   ]
  },
  {
   "cell_type": "markdown",
   "id": "31f297cc",
   "metadata": {},
   "source": [
    "<a name=\"day5\"></a>\n",
    "## Day 5: Update and follow jumps"
   ]
  },
  {
   "cell_type": "markdown",
   "id": "ccbe920e",
   "metadata": {},
   "source": [
    "- Part 1: After each jump, the offset of that instruction increases by 1.  How many steps does it take to reach the exit?\n",
    "\n",
    "- Part 2: Same, but after each jump, if the offset was three or more, instead decrease it by 1."
   ]
  },
  {
   "cell_type": "code",
   "execution_count": 13,
   "id": "723858e0",
   "metadata": {
    "execution": {
     "iopub.execute_input": "2023-01-01T17:15:50.290043Z",
     "iopub.status.busy": "2023-01-01T17:15:50.289642Z",
     "iopub.status.idle": "2023-01-01T17:15:50.309478Z",
     "shell.execute_reply": "2023-01-01T17:15:50.308676Z",
     "shell.execute_reply.started": "2023-01-01T17:15:50.290025Z"
    },
    "tags": []
   },
   "outputs": [
    {
     "data": {
      "text/markdown": [
       "For [day 5](https://adventofcode.com/2017/day/5), `puzzle.input` has 1_017 lines:"
      ],
      "text/plain": [
       "<IPython.core.display.Markdown object>"
      ]
     },
     "metadata": {},
     "output_type": "display_data"
    },
    {
     "name": "stdout",
     "output_type": "stream",
     "text": [
      "2\n",
      "0\n",
      "0\n",
      "-2\n",
      "0\n",
      "1\n",
      "-2\n",
      "-1\n",
      " ...\n",
      "-21\n",
      "-730\n",
      "-191\n",
      "-866\n"
     ]
    },
    {
     "data": {
      "text/markdown": [
       "The stored answers are: `{1: '325922', 2: '24490906'}`"
      ],
      "text/plain": [
       "<IPython.core.display.Markdown object>"
      ]
     },
     "metadata": {},
     "output_type": "display_data"
    }
   ],
   "source": [
    "puzzle = advent.puzzle(day=5)"
   ]
  },
  {
   "cell_type": "code",
   "execution_count": 14,
   "id": "e3b6d42e-91c8-4ee0-9965-8b26d561d2b7",
   "metadata": {
    "execution": {
     "iopub.execute_input": "2023-01-01T17:15:51.228631Z",
     "iopub.status.busy": "2023-01-01T17:15:51.228328Z",
     "iopub.status.idle": "2023-01-01T17:15:51.231869Z",
     "shell.execute_reply": "2023-01-01T17:15:51.231277Z",
     "shell.execute_reply.started": "2023-01-01T17:15:51.228614Z"
    },
    "tags": []
   },
   "outputs": [],
   "source": [
    "s1 = \"\"\"\\\n",
    "0\n",
    "3\n",
    "0\n",
    "1\n",
    "-3\n",
    "\"\"\""
   ]
  },
  {
   "cell_type": "code",
   "execution_count": 15,
   "id": "fdafc9e0",
   "metadata": {
    "execution": {
     "iopub.execute_input": "2023-01-01T17:15:55.078554Z",
     "iopub.status.busy": "2023-01-01T17:15:55.078193Z",
     "iopub.status.idle": "2023-01-01T17:15:55.116034Z",
     "shell.execute_reply": "2023-01-01T17:15:55.115142Z",
     "shell.execute_reply.started": "2023-01-01T17:15:55.078539Z"
    },
    "tags": []
   },
   "outputs": [
    {
     "name": "stdout",
     "output_type": "stream",
     "text": [
      "(Part 1: 0.033 s)\n"
     ]
    }
   ],
   "source": [
    "def day5a(s, *, part2=False):  # Slow.\n",
    "  values = [int(s2) for s2 in s.splitlines()]\n",
    "  pos = 0\n",
    "\n",
    "  for num_steps in itertools.count(1):\n",
    "    offset = values[pos]\n",
    "    values[pos] = offset - 1 if (part2 and offset >= 3) else offset + 1\n",
    "    pos += offset\n",
    "    if not 0 <= pos < len(values):\n",
    "      return num_steps\n",
    "  raise AssertionError\n",
    "\n",
    "\n",
    "check_eq(day5a(s1), 5)\n",
    "puzzle.verify(1, day5a)\n",
    "\n",
    "day5a_part2 = functools.partial(day5a, part2=True)\n",
    "check_eq(day5a_part2(s1), 10)\n",
    "if 0:\n",
    "  puzzle.verify(2, day5a_part2)  # ~2.2 s."
   ]
  },
  {
   "cell_type": "code",
   "execution_count": 17,
   "id": "aa65cbe0-af4c-4579-99a5-033e97004242",
   "metadata": {
    "execution": {
     "iopub.execute_input": "2023-01-01T17:16:04.407076Z",
     "iopub.status.busy": "2023-01-01T17:16:04.406707Z",
     "iopub.status.idle": "2023-01-01T17:16:04.506489Z",
     "shell.execute_reply": "2023-01-01T17:16:04.505898Z",
     "shell.execute_reply.started": "2023-01-01T17:16:04.407059Z"
    },
    "tags": []
   },
   "outputs": [
    {
     "name": "stdout",
     "output_type": "stream",
     "text": [
      "(Part 1: 0.000 s)\n",
      "(Part 2: 0.031 s)\n"
     ]
    }
   ],
   "source": [
    "# Fast.\n",
    "@numba.njit\n",
    "def day5_compute(values: Any, part2: bool) -> int:\n",
    "  pos = 0\n",
    "  num_steps = 0\n",
    "  while 0 <= pos < len(values):\n",
    "    num_steps += 1\n",
    "    offset = values[pos]\n",
    "    values[pos] = offset - 1 if (part2 and offset >= 3) else offset + 1\n",
    "    pos += offset\n",
    "  return num_steps\n",
    "\n",
    "\n",
    "def day5(s, *, part2=False):\n",
    "  values = np.array(s.splitlines(), int)\n",
    "  return day5_compute(values, part2)\n",
    "\n",
    "\n",
    "check_eq(day5(s1), 5)\n",
    "puzzle.verify(1, day5)\n",
    "\n",
    "day5_part2 = functools.partial(day5, part2=True)\n",
    "check_eq(day5_part2(s1), 10)\n",
    "puzzle.verify(2, day5_part2)"
   ]
  },
  {
   "cell_type": "markdown",
   "id": "3c7dab5c",
   "metadata": {},
   "source": [
    "<a name=\"day6\"></a>\n",
    "## Day 6: Successive 1D redistributions"
   ]
  },
  {
   "cell_type": "markdown",
   "id": "c8f37fe0",
   "metadata": {},
   "source": [
    "- Part 1: How many redistribution cycles must be completed before a configuration is produced that has been seen before?\n",
    "\n",
    "- Part 2: How many cycles are in the infinite loop that arises from the configuration in your puzzle input?"
   ]
  },
  {
   "cell_type": "code",
   "execution_count": 32,
   "id": "154c2722",
   "metadata": {
    "execution": {
     "iopub.execute_input": "2022-12-20T18:18:28.479302Z",
     "iopub.status.busy": "2022-12-20T18:18:28.479025Z",
     "iopub.status.idle": "2022-12-20T18:18:28.489338Z",
     "shell.execute_reply": "2022-12-20T18:18:28.488867Z",
     "shell.execute_reply.started": "2022-12-20T18:18:28.479286Z"
    },
    "tags": []
   },
   "outputs": [
    {
     "data": {
      "text/markdown": [
       "For [day 6](https://adventofcode.com/2017/day/6), `puzzle.input` has a single line of 36 characters:"
      ],
      "text/plain": [
       "<IPython.core.display.Markdown object>"
      ]
     },
     "metadata": {},
     "output_type": "display_data"
    },
    {
     "name": "stdout",
     "output_type": "stream",
     "text": [
      "4\t10\t4\t1\t8\t4\t9\t14\t5\t1\t14\t15\t0\t15\t3\t5\n"
     ]
    },
    {
     "data": {
      "text/markdown": [
       "The stored answers are: `{1: '12841', 2: '8038'}`"
      ],
      "text/plain": [
       "<IPython.core.display.Markdown object>"
      ]
     },
     "metadata": {},
     "output_type": "display_data"
    }
   ],
   "source": [
    "puzzle = advent.puzzle(day=6)"
   ]
  },
  {
   "cell_type": "code",
   "execution_count": 33,
   "id": "f8a93217-1b88-427f-9390-d33128bf8ca0",
   "metadata": {
    "execution": {
     "iopub.execute_input": "2022-12-20T18:18:28.490252Z",
     "iopub.status.busy": "2022-12-20T18:18:28.490000Z",
     "iopub.status.idle": "2022-12-20T18:18:28.493344Z",
     "shell.execute_reply": "2022-12-20T18:18:28.492855Z",
     "shell.execute_reply.started": "2022-12-20T18:18:28.490236Z"
    },
    "tags": []
   },
   "outputs": [],
   "source": [
    "s1 = '0 2 7 0'"
   ]
  },
  {
   "cell_type": "code",
   "execution_count": 34,
   "id": "9c623be9",
   "metadata": {
    "execution": {
     "iopub.execute_input": "2022-12-20T18:18:28.494073Z",
     "iopub.status.busy": "2022-12-20T18:18:28.493885Z",
     "iopub.status.idle": "2022-12-20T18:18:28.575358Z",
     "shell.execute_reply": "2022-12-20T18:18:28.574794Z",
     "shell.execute_reply.started": "2022-12-20T18:18:28.494060Z"
    },
    "tags": []
   },
   "outputs": [
    {
     "name": "stdout",
     "output_type": "stream",
     "text": [
      "(Part 1: 0.035 s)\n",
      "(Part 2: 0.036 s)\n"
     ]
    }
   ],
   "source": [
    "def day6(s, *, part2=False):\n",
    "  blocks = tuple(int(word) for word in s.split())\n",
    "  time_seen = {blocks: 0}\n",
    "\n",
    "  for num_rearrangements in itertools.count(1):\n",
    "    # index = max(range(len(blocks)), key=lambda index: (blocks[index], -index))\n",
    "    index = min((-count, index) for index, count in enumerate(blocks))[1]\n",
    "    count = blocks[index]\n",
    "    new_blocks = list(blocks)\n",
    "    new_blocks[index] = 0\n",
    "    for x in range(count):\n",
    "      new_blocks[(index + 1 + x) % len(blocks)] += 1\n",
    "    blocks = tuple(new_blocks)\n",
    "    if blocks in time_seen:\n",
    "      return num_rearrangements - (time_seen[blocks] if part2 else 0)\n",
    "    time_seen[blocks] = num_rearrangements\n",
    "\n",
    "\n",
    "check_eq(day6(s1), 5)\n",
    "puzzle.verify(1, day6)\n",
    "\n",
    "day6_part2 = functools.partial(day6, part2=True)\n",
    "check_eq(day6_part2(s1), 4)\n",
    "puzzle.verify(2, day6_part2)"
   ]
  },
  {
   "cell_type": "markdown",
   "id": "f0842845",
   "metadata": {},
   "source": [
    "<a name=\"day7\"></a>\n",
    "## Day 7: Recursive balanced tower"
   ]
  },
  {
   "cell_type": "markdown",
   "id": "2d6c7fa3",
   "metadata": {},
   "source": [
    "- Part 1: What is the name of the bottom program?\n",
    "\n",
    "- Part 2: Given that exactly one program is the wrong weight, what would its weight need to be to balance the entire tower?"
   ]
  },
  {
   "cell_type": "code",
   "execution_count": 13,
   "id": "24183a87",
   "metadata": {
    "execution": {
     "iopub.execute_input": "2023-04-10T20:31:30.908231Z",
     "iopub.status.busy": "2023-04-10T20:31:30.907792Z",
     "iopub.status.idle": "2023-04-10T20:31:30.925136Z",
     "shell.execute_reply": "2023-04-10T20:31:30.924398Z",
     "shell.execute_reply.started": "2023-04-10T20:31:30.908209Z"
    },
    "tags": []
   },
   "outputs": [
    {
     "data": {
      "text/markdown": [
       "For [day 7](https://adventofcode.com/2017/day/7), `puzzle.input` has 1_605 lines:"
      ],
      "text/plain": [
       "<IPython.core.display.Markdown object>"
      ]
     },
     "metadata": {},
     "output_type": "display_data"
    },
    {
     "name": "stdout",
     "output_type": "stream",
     "text": [
      "nzyiue (57)\n",
      "pdmkag (39)\n",
      "bogbg (13)\n",
      "nubay (45)\n",
      "dukzh (17)\n",
      "kpjxln (44) -> dzzbvkv, gzdxgvj, wsocb, jidxg\n",
      "cxjyxl (83)\n",
      "vusplt (151) -> mcfst, orrwx\n",
      " ...\n",
      "paqlttl (65)\n",
      "kklix (25) -> jzoue, yokqfgn\n",
      "usevgds (44) -> aydmhhv, kkftjia\n",
      "tqlentr (214) -> gfxnuuk, thmlk\n"
     ]
    },
    {
     "data": {
      "text/markdown": [
       "The stored answers are: `{1: 'hlhomy', 2: '1505'}`"
      ],
      "text/plain": [
       "<IPython.core.display.Markdown object>"
      ]
     },
     "metadata": {},
     "output_type": "display_data"
    }
   ],
   "source": [
    "puzzle = advent.puzzle(day=7)"
   ]
  },
  {
   "cell_type": "code",
   "execution_count": 14,
   "id": "97b01c6c-5168-4abf-a446-be8142e64cca",
   "metadata": {
    "execution": {
     "iopub.execute_input": "2023-04-10T20:31:31.783035Z",
     "iopub.status.busy": "2023-04-10T20:31:31.782611Z",
     "iopub.status.idle": "2023-04-10T20:31:31.786314Z",
     "shell.execute_reply": "2023-04-10T20:31:31.785687Z",
     "shell.execute_reply.started": "2023-04-10T20:31:31.783015Z"
    },
    "tags": []
   },
   "outputs": [],
   "source": [
    "s1 = \"\"\"\\\n",
    "pbga (66)\n",
    "xhth (57)\n",
    "ebii (61)\n",
    "havc (66)\n",
    "ktlj (57)\n",
    "fwft (72) -> ktlj, cntj, xhth\n",
    "qoyq (66)\n",
    "padx (45) -> pbga, havc, qoyq\n",
    "tknk (41) -> ugml, padx, fwft\n",
    "jptl (61)\n",
    "ugml (68) -> gyxo, ebii, jptl\n",
    "gyxo (61)\n",
    "cntj (57)\n",
    "\"\"\""
   ]
  },
  {
   "cell_type": "code",
   "execution_count": 15,
   "id": "02520d1f",
   "metadata": {
    "execution": {
     "iopub.execute_input": "2023-04-10T20:31:32.765651Z",
     "iopub.status.busy": "2023-04-10T20:31:32.765100Z",
     "iopub.status.idle": "2023-04-10T20:31:32.791212Z",
     "shell.execute_reply": "2023-04-10T20:31:32.790702Z",
     "shell.execute_reply.started": "2023-04-10T20:31:32.765635Z"
    },
    "tags": []
   },
   "outputs": [
    {
     "name": "stdout",
     "output_type": "stream",
     "text": [
      "(Part 1: 0.005 s)\n",
      "(Part 2: 0.013 s)\n"
     ]
    }
   ],
   "source": [
    "def day7(s, *, part2=False):\n",
    "  graph = {}\n",
    "  weights = {}\n",
    "  for line in s.splitlines():\n",
    "    name, weight, rest = hh.re_groups(r'^([a-z]+) \\((\\d+)\\)( -> .*)?$', line)\n",
    "    weights[name] = int(weight)\n",
    "    graph[name] = rest[len(' -> ') :].split(', ') if rest else []\n",
    "  nodes = list(graphlib.TopologicalSorter(graph).static_order())[::-1]\n",
    "\n",
    "  if not part2:\n",
    "    root = nodes[0]\n",
    "    return root\n",
    "\n",
    "  @functools.cache\n",
    "  def tower_weight(node: str) -> int:\n",
    "    return weights[node] + sum(tower_weight(child) for child in graph[node])\n",
    "\n",
    "  for node in reversed(nodes):\n",
    "    if children := graph[node]:\n",
    "      tower_weights = [tower_weight(child) for child in children]\n",
    "      unique, index, counts = np.unique(tower_weights, return_index=True, return_counts=True)\n",
    "      if len(unique) > 1:\n",
    "        # hh.show(node, children, tower_weights, unique, index, counts)\n",
    "        assert len(counts) == 2 and counts[0] > 1 and counts[1] == 1\n",
    "        unique_child = children[index[1]]\n",
    "        weight_difference = unique[0] - unique[1]\n",
    "        return weights[unique_child] + weight_difference\n",
    "\n",
    "\n",
    "check_eq(day7(s1), 'tknk')\n",
    "puzzle.verify(1, day7)\n",
    "\n",
    "day7_part2 = functools.partial(day7, part2=True)\n",
    "check_eq(day7_part2(s1), 60)\n",
    "puzzle.verify(2, day7_part2)"
   ]
  },
  {
   "cell_type": "markdown",
   "id": "4626bd25",
   "metadata": {},
   "source": [
    "<a name=\"day8\"></a>\n",
    "## Day 8: Program with registers"
   ]
  },
  {
   "cell_type": "markdown",
   "id": "72be6485",
   "metadata": {},
   "source": [
    "- Part 1: What is the largest value in any register after completing the instructions in your puzzle input?\n",
    "\n",
    "- Part 2: What is the highest value held in any register during this process?"
   ]
  },
  {
   "cell_type": "code",
   "execution_count": 38,
   "id": "62579890",
   "metadata": {
    "execution": {
     "iopub.execute_input": "2022-12-20T18:18:28.619220Z",
     "iopub.status.busy": "2022-12-20T18:18:28.619052Z",
     "iopub.status.idle": "2022-12-20T18:18:28.629779Z",
     "shell.execute_reply": "2022-12-20T18:18:28.629152Z",
     "shell.execute_reply.started": "2022-12-20T18:18:28.619209Z"
    },
    "tags": []
   },
   "outputs": [
    {
     "data": {
      "text/markdown": [
       "For [day 8](https://adventofcode.com/2017/day/8), `puzzle.input` has 1_000 lines:"
      ],
      "text/plain": [
       "<IPython.core.display.Markdown object>"
      ]
     },
     "metadata": {},
     "output_type": "display_data"
    },
    {
     "name": "stdout",
     "output_type": "stream",
     "text": [
      "y inc 497 if n <= 3\n",
      "ig inc -54 if es < 9\n",
      "j dec 278 if low < 10\n",
      "nm inc -531 if tr == 0\n",
      "tq inc 537 if tq < 9\n",
      "txm dec 835 if s != -8\n",
      "xho dec -204 if vv < 6\n",
      "ipq dec 59 if txm != -835\n",
      " ...\n",
      "j inc 924 if ipq == -1184\n",
      "ntk inc -239 if y == -846\n",
      "wby inc -397 if ntk >= -2941\n",
      "nm dec 907 if qen == 2233\n"
     ]
    },
    {
     "data": {
      "text/markdown": [
       "The stored answers are: `{1: '2971', 2: '4254'}`"
      ],
      "text/plain": [
       "<IPython.core.display.Markdown object>"
      ]
     },
     "metadata": {},
     "output_type": "display_data"
    }
   ],
   "source": [
    "puzzle = advent.puzzle(day=8)"
   ]
  },
  {
   "cell_type": "code",
   "execution_count": 39,
   "id": "064c64a3-ccd1-4f50-94ae-43ad80e43624",
   "metadata": {
    "execution": {
     "iopub.execute_input": "2022-12-20T18:18:28.630865Z",
     "iopub.status.busy": "2022-12-20T18:18:28.630528Z",
     "iopub.status.idle": "2022-12-20T18:18:28.633491Z",
     "shell.execute_reply": "2022-12-20T18:18:28.632954Z",
     "shell.execute_reply.started": "2022-12-20T18:18:28.630850Z"
    }
   },
   "outputs": [],
   "source": [
    "s1 = \"\"\"\\\n",
    "b inc 5 if a > 1\n",
    "a inc 1 if b < 5\n",
    "c dec -10 if a >= 1\n",
    "c inc -20 if c == 10\n",
    "\"\"\""
   ]
  },
  {
   "cell_type": "code",
   "execution_count": 40,
   "id": "4c669ad4",
   "metadata": {
    "execution": {
     "iopub.execute_input": "2022-12-20T18:18:28.634462Z",
     "iopub.status.busy": "2022-12-20T18:18:28.634208Z",
     "iopub.status.idle": "2022-12-20T18:18:28.648314Z",
     "shell.execute_reply": "2022-12-20T18:18:28.647762Z",
     "shell.execute_reply.started": "2022-12-20T18:18:28.634449Z"
    },
    "tags": []
   },
   "outputs": [
    {
     "name": "stdout",
     "output_type": "stream",
     "text": [
      "(Part 1: 0.002 s)\n",
      "(Part 2: 0.001 s)\n"
     ]
    }
   ],
   "source": [
    "def day8(s, *, part2=False):\n",
    "  COND_OPS = {\n",
    "      '<': operator.lt,\n",
    "      '>': operator.gt,\n",
    "      '<=': operator.le,\n",
    "      '>=': operator.ge,\n",
    "      '==': operator.eq,\n",
    "      '!=': operator.ne,\n",
    "  }\n",
    "  registers: collections.defaultdict[str, int] = collections.defaultdict(int)\n",
    "  max_value = 0\n",
    "\n",
    "  for line in s.splitlines():\n",
    "    pattern = r'^([a-z]+) (inc|dec) (-?\\d+) if ([a-z]+) (<|>|<=|>=|==|!=) (-?\\d+)$'\n",
    "    reg, op, value, cond_reg, cond_op, cond_value = hh.re_groups(pattern, line)\n",
    "    condition = COND_OPS[cond_op](registers[cond_reg], int(cond_value))\n",
    "    if condition:\n",
    "      registers[reg] += int(value) * {'inc': 1, 'dec': -1}[op]\n",
    "      max_value = max(max_value, registers[reg])\n",
    "\n",
    "  return max_value if part2 else max(registers.values())\n",
    "\n",
    "\n",
    "check_eq(day8(s1), 1)\n",
    "puzzle.verify(1, day8)\n",
    "\n",
    "day8_part2 = functools.partial(day8, part2=True)\n",
    "check_eq(day8_part2(s1), 10)\n",
    "puzzle.verify(2, day8_part2)"
   ]
  },
  {
   "cell_type": "markdown",
   "id": "de2ca6c4",
   "metadata": {},
   "source": [
    "<a name=\"day9\"></a>\n",
    "## Day 9: Nested streams with garbage"
   ]
  },
  {
   "cell_type": "markdown",
   "id": "b971ce99",
   "metadata": {},
   "source": [
    "- Part 1: What is the total score for all groups in your input?\n",
    "\n",
    "- Part 2: How many non-canceled characters are within the garbage in your puzzle input?"
   ]
  },
  {
   "cell_type": "code",
   "execution_count": 41,
   "id": "04ce90db",
   "metadata": {
    "execution": {
     "iopub.execute_input": "2022-12-20T18:18:28.649448Z",
     "iopub.status.busy": "2022-12-20T18:18:28.649052Z",
     "iopub.status.idle": "2022-12-20T18:18:28.668000Z",
     "shell.execute_reply": "2022-12-20T18:18:28.667444Z",
     "shell.execute_reply.started": "2022-12-20T18:18:28.649432Z"
    },
    "tags": []
   },
   "outputs": [
    {
     "data": {
      "text/markdown": [
       "For [day 9](https://adventofcode.com/2017/day/9), `puzzle.input` has a single line of 30_841 characters:"
      ],
      "text/plain": [
       "<IPython.core.display.Markdown object>"
      ]
     },
     "metadata": {},
     "output_type": "display_data"
    },
    {
     "name": "stdout",
     "output_type": "stream",
     "text": [
      "{{{{{<!!!>!>'!!!>!!!!!!!>u!!!!!>},<'>,<!>e{o!!!>!'>}},{{{<!!u<>},<!!!!!>!'!!a}!! ... >,<!!u!>,<!>!<<!>,<\">}},{<<'>}}}}}}\n"
     ]
    },
    {
     "data": {
      "text/markdown": [
       "The stored answers are: `{1: '23588', 2: '10045'}`"
      ],
      "text/plain": [
       "<IPython.core.display.Markdown object>"
      ]
     },
     "metadata": {},
     "output_type": "display_data"
    }
   ],
   "source": [
    "puzzle = advent.puzzle(day=9)"
   ]
  },
  {
   "cell_type": "code",
   "execution_count": 42,
   "id": "7a29c962",
   "metadata": {
    "execution": {
     "iopub.execute_input": "2022-12-20T18:18:28.668920Z",
     "iopub.status.busy": "2022-12-20T18:18:28.668747Z",
     "iopub.status.idle": "2022-12-20T18:18:28.680418Z",
     "shell.execute_reply": "2022-12-20T18:18:28.679841Z",
     "shell.execute_reply.started": "2022-12-20T18:18:28.668906Z"
    },
    "tags": []
   },
   "outputs": [
    {
     "name": "stdout",
     "output_type": "stream",
     "text": [
      "(Part 1: 0.003 s)\n",
      "(Part 2: 0.002 s)\n"
     ]
    }
   ],
   "source": [
    "def day9(s, *, part2=False):\n",
    "  s = re.sub(r'!.', '', s.strip())\n",
    "  num_garbage = 0\n",
    "\n",
    "  def read_group(s: str, i: int) -> tuple[list[Any], int]:\n",
    "    nonlocal num_garbage\n",
    "    check_eq(s[i], '{')\n",
    "    groups: list[Any] = []\n",
    "    while True:\n",
    "      i += 1\n",
    "      if s[i] == '}':\n",
    "        return groups, i\n",
    "      if s[i] == '<':\n",
    "        i += 1\n",
    "        while s[i] != '>':\n",
    "          num_garbage += 1\n",
    "          i += 1\n",
    "      elif s[i] != ',':\n",
    "        group, i = read_group(s, i)\n",
    "        groups.append(group)\n",
    "\n",
    "  group, i = read_group(s, 0)\n",
    "  check_eq(i + 1, len(s))\n",
    "\n",
    "  def get_score(group: list[Any], depth: int) -> int:\n",
    "    return depth + sum(get_score(child, depth + 1) for child in group)\n",
    "\n",
    "  return num_garbage if part2 else get_score(group, 1)\n",
    "\n",
    "\n",
    "check_eq(day9('{}'), 1)\n",
    "check_eq(day9('{{{}}}'), 6)\n",
    "check_eq(day9('{{},{}}'), 5)\n",
    "check_eq(day9('{{{},{},{{}}}}'), 16)\n",
    "check_eq(day9('{<a>,<a>,<a>,<a>}'), 1)\n",
    "check_eq(day9('{{<ab>},{<ab>},{<ab>},{<ab>}}'), 9)\n",
    "check_eq(day9('{{<!!>},{<!!>},{<!!>},{<!!>}}'), 9)\n",
    "check_eq(day9('{{<a!>},{<a!>},{<a!>},{<ab>}}'), 3)\n",
    "puzzle.verify(1, day9)\n",
    "\n",
    "day9_part2 = functools.partial(day9, part2=True)\n",
    "puzzle.verify(2, day9_part2)"
   ]
  },
  {
   "cell_type": "markdown",
   "id": "9cf4bc45",
   "metadata": {},
   "source": [
    "<a name=\"day10\"></a>\n",
    "## Day 10: Knot hash: flip sequences"
   ]
  },
  {
   "cell_type": "markdown",
   "id": "2509c2df",
   "metadata": {},
   "source": [
    "- Part 1: Once this process is complete, what is the result of multiplying the first two numbers in the list?\n",
    "\n",
    "- Part 2: What is the Knot Hash of your puzzle input?"
   ]
  },
  {
   "cell_type": "code",
   "execution_count": 43,
   "id": "35512a83",
   "metadata": {
    "execution": {
     "iopub.execute_input": "2022-12-20T18:18:28.681476Z",
     "iopub.status.busy": "2022-12-20T18:18:28.681170Z",
     "iopub.status.idle": "2022-12-20T18:18:28.699735Z",
     "shell.execute_reply": "2022-12-20T18:18:28.699027Z",
     "shell.execute_reply.started": "2022-12-20T18:18:28.681463Z"
    },
    "tags": []
   },
   "outputs": [
    {
     "data": {
      "text/markdown": [
       "For [day 10](https://adventofcode.com/2017/day/10), `puzzle.input` has a single line of 52 characters:"
      ],
      "text/plain": [
       "<IPython.core.display.Markdown object>"
      ]
     },
     "metadata": {},
     "output_type": "display_data"
    },
    {
     "name": "stdout",
     "output_type": "stream",
     "text": [
      "106,16,254,226,55,2,1,166,177,247,93,0,255,228,60,36\n"
     ]
    },
    {
     "data": {
      "text/markdown": [
       "The stored answers are: `{1: '11413', 2: '7adfd64c2a03a4968cf708d1b7fd418d'}`"
      ],
      "text/plain": [
       "<IPython.core.display.Markdown object>"
      ]
     },
     "metadata": {},
     "output_type": "display_data"
    }
   ],
   "source": [
    "puzzle = advent.puzzle(day=10)"
   ]
  },
  {
   "cell_type": "code",
   "execution_count": 44,
   "id": "039e1d45-f529-4d9b-817c-3123710c64d0",
   "metadata": {
    "execution": {
     "iopub.execute_input": "2022-12-20T18:18:28.700624Z",
     "iopub.status.busy": "2022-12-20T18:18:28.700354Z",
     "iopub.status.idle": "2022-12-20T18:18:28.702982Z",
     "shell.execute_reply": "2022-12-20T18:18:28.702498Z",
     "shell.execute_reply.started": "2022-12-20T18:18:28.700612Z"
    },
    "tags": []
   },
   "outputs": [],
   "source": [
    "s1 = '3, 4, 1, 5'"
   ]
  },
  {
   "cell_type": "code",
   "execution_count": 45,
   "id": "d6eab05e",
   "metadata": {
    "execution": {
     "iopub.execute_input": "2022-12-20T18:18:28.703810Z",
     "iopub.status.busy": "2022-12-20T18:18:28.703559Z",
     "iopub.status.idle": "2022-12-20T18:18:28.727170Z",
     "shell.execute_reply": "2022-12-20T18:18:28.726580Z",
     "shell.execute_reply.started": "2022-12-20T18:18:28.703795Z"
    },
    "tags": []
   },
   "outputs": [
    {
     "name": "stdout",
     "output_type": "stream",
     "text": [
      "(Part 1: 0.000 s)\n",
      "(Part 2: 0.007 s)\n"
     ]
    }
   ],
   "source": [
    "def day10(s, *, num=256, num_rounds=1, part2=False):\n",
    "  s = s.strip()\n",
    "  if not part2:\n",
    "    lengths = [int(s2) for s2 in s.replace(' ', '').split(',')]\n",
    "  else:\n",
    "    lengths = [ord(ch) for ch in s] + [17, 31, 73, 47, 23]\n",
    "\n",
    "  state = list(range(num))\n",
    "  position = 0\n",
    "  skip = 0\n",
    "  for _ in range(num_rounds):\n",
    "    for length in lengths:\n",
    "      assert length <= num\n",
    "      rotated = state[position:] + state[:position] if position else state\n",
    "      rotated[:length] = reversed(rotated[:length])\n",
    "      state = rotated[-position:] + rotated[:-position] if position else rotated\n",
    "      position = (position + length + skip) % num\n",
    "      skip += 1\n",
    "\n",
    "  if not part2:\n",
    "    return state[0] * state[1]\n",
    "\n",
    "  xors = [\n",
    "      functools.reduce(operator.xor, group, 0)\n",
    "      for group in more_itertools.chunked(state, 16, strict=True)\n",
    "  ]\n",
    "  return ''.join(f'{value:02x}' for value in xors)\n",
    "\n",
    "\n",
    "check_eq(day10(s1, num=5), 12)\n",
    "puzzle.verify(1, day10)\n",
    "\n",
    "day10_part2 = functools.partial(day10, num_rounds=64, part2=True)\n",
    "check_eq(day10_part2('1,2,3'), '3efbe78a8d82f29979031a4aa0b16a9d')\n",
    "check_eq(day10_part2(''), 'a2582a3a0e66e6e86e3812dcb672a272')\n",
    "check_eq(day10_part2('AoC 2017'), '33efeb34ea91902bb2f59c9920caa6cd')\n",
    "check_eq(day10_part2('1,2,4'), '63960835bcdc130f0b66d7ff4f6a5a8e')\n",
    "puzzle.verify(2, day10_part2)"
   ]
  },
  {
   "cell_type": "markdown",
   "id": "ef38ed24",
   "metadata": {},
   "source": [
    "<a name=\"day11\"></a>\n",
    "## Day 11: March on hex grid"
   ]
  },
  {
   "cell_type": "markdown",
   "id": "c588606c",
   "metadata": {},
   "source": [
    "- Part 1: What is the fewest number of steps required to reach him?\n",
    "\n",
    "- Part 2: How many steps away is the furthest he ever got from his starting position?"
   ]
  },
  {
   "cell_type": "code",
   "execution_count": 46,
   "id": "318f4ca3",
   "metadata": {
    "execution": {
     "iopub.execute_input": "2022-12-20T18:18:28.728228Z",
     "iopub.status.busy": "2022-12-20T18:18:28.727937Z",
     "iopub.status.idle": "2022-12-20T18:18:28.746603Z",
     "shell.execute_reply": "2022-12-20T18:18:28.746084Z",
     "shell.execute_reply.started": "2022-12-20T18:18:28.728214Z"
    },
    "tags": []
   },
   "outputs": [
    {
     "data": {
      "text/markdown": [
       "For [day 11](https://adventofcode.com/2017/day/11), `puzzle.input` has a single line of 21_631 characters:"
      ],
      "text/plain": [
       "<IPython.core.display.Markdown object>"
      ]
     },
     "metadata": {},
     "output_type": "display_data"
    },
    {
     "name": "stdout",
     "output_type": "stream",
     "text": [
      "ne,nw,se,nw,ne,s,s,s,sw,ne,sw,sw,sw,sw,sw,nw,nw,sw,se,ne,nw,nw,nw,nw,nw,nw,n,n,s ... e,s,se,se,se,se,nw,ne,nw,se,se,n,se\n"
     ]
    },
    {
     "data": {
      "text/markdown": [
       "The stored answers are: `{1: '670', 2: '1426'}`"
      ],
      "text/plain": [
       "<IPython.core.display.Markdown object>"
      ]
     },
     "metadata": {},
     "output_type": "display_data"
    }
   ],
   "source": [
    "puzzle = advent.puzzle(day=11)"
   ]
  },
  {
   "cell_type": "code",
   "execution_count": 47,
   "id": "2edc3d26",
   "metadata": {
    "execution": {
     "iopub.execute_input": "2022-12-20T18:18:28.747557Z",
     "iopub.status.busy": "2022-12-20T18:18:28.747279Z",
     "iopub.status.idle": "2022-12-20T18:18:28.756279Z",
     "shell.execute_reply": "2022-12-20T18:18:28.755744Z",
     "shell.execute_reply.started": "2022-12-20T18:18:28.747545Z"
    },
    "tags": []
   },
   "outputs": [
    {
     "name": "stdout",
     "output_type": "stream",
     "text": [
      "(Part 1: 0.002 s)\n",
      "(Part 2: 0.002 s)\n"
     ]
    }
   ],
   "source": [
    "def day11(s, *, part2=False):\n",
    "  steps = s.strip().split(',')\n",
    "  MOVES = dict(s=(1, 0), se=(0, 1), n=(-1, 0), nw=(0, -1), ne=(-1, 1), sw=(1, -1))\n",
    "\n",
    "  def hex_radius(y: int, x: int) -> int:\n",
    "    return max(abs(y), abs(x)) if y * x < 0 else abs(y) + abs(x)\n",
    "\n",
    "  y, x = 0, 0\n",
    "  radii = []\n",
    "  for step in steps:\n",
    "    dy, dx = MOVES[step]\n",
    "    y, x = y + dy, x + dx\n",
    "    radii.append(hex_radius(y, x))\n",
    "\n",
    "  return max(radii) if part2 else radii[-1]\n",
    "\n",
    "\n",
    "check_eq(day11('ne,ne,ne'), 3)\n",
    "check_eq(day11('ne,ne,sw,sw'), 0)\n",
    "check_eq(day11('ne,ne,s,s'), 2)\n",
    "check_eq(day11('se,sw,se,sw,sw'), 3)\n",
    "puzzle.verify(1, day11)\n",
    "\n",
    "day11_part2 = functools.partial(day11, part2=True)\n",
    "puzzle.verify(2, day11_part2)"
   ]
  },
  {
   "cell_type": "markdown",
   "id": "dee8d31a",
   "metadata": {},
   "source": [
    "<a name=\"day12\"></a>\n",
    "## Day 12: Union-Find"
   ]
  },
  {
   "cell_type": "markdown",
   "id": "65b2f5ba",
   "metadata": {},
   "source": [
    "- Part 1: How many programs are in the group that contains program ID 0?\n",
    "\n",
    "- Part 2: How many groups are there in total?"
   ]
  },
  {
   "cell_type": "code",
   "execution_count": 48,
   "id": "916ca6e6",
   "metadata": {
    "execution": {
     "iopub.execute_input": "2022-12-20T18:18:28.756990Z",
     "iopub.status.busy": "2022-12-20T18:18:28.756848Z",
     "iopub.status.idle": "2022-12-20T18:18:28.772174Z",
     "shell.execute_reply": "2022-12-20T18:18:28.771516Z",
     "shell.execute_reply.started": "2022-12-20T18:18:28.756978Z"
    },
    "tags": []
   },
   "outputs": [
    {
     "data": {
      "text/markdown": [
       "For [day 12](https://adventofcode.com/2017/day/12), `puzzle.input` has 2_000 lines:"
      ],
      "text/plain": [
       "<IPython.core.display.Markdown object>"
      ]
     },
     "metadata": {},
     "output_type": "display_data"
    },
    {
     "name": "stdout",
     "output_type": "stream",
     "text": [
      "0 <-> 396, 1867\n",
      "1 <-> 1749\n",
      "2 <-> 466, 675, 1661\n",
      "3 <-> 3, 328, 1160\n",
      "4 <-> 4, 953\n",
      "5 <-> 1922\n",
      "6 <-> 1273\n",
      "7 <-> 7, 959\n",
      " ...\n",
      "1996 <-> 844\n",
      "1997 <-> 1682, 1894\n",
      "1998 <-> 1351, 1769\n",
      "1999 <-> 1374\n"
     ]
    },
    {
     "data": {
      "text/markdown": [
       "The stored answers are: `{1: '283', 2: '195'}`"
      ],
      "text/plain": [
       "<IPython.core.display.Markdown object>"
      ]
     },
     "metadata": {},
     "output_type": "display_data"
    }
   ],
   "source": [
    "puzzle = advent.puzzle(day=12)"
   ]
  },
  {
   "cell_type": "code",
   "execution_count": 49,
   "id": "45a6f56e-43fc-4ddc-adcc-0541ff7fe263",
   "metadata": {
    "execution": {
     "iopub.execute_input": "2022-12-20T18:18:28.772983Z",
     "iopub.status.busy": "2022-12-20T18:18:28.772843Z",
     "iopub.status.idle": "2022-12-20T18:18:28.775994Z",
     "shell.execute_reply": "2022-12-20T18:18:28.775485Z",
     "shell.execute_reply.started": "2022-12-20T18:18:28.772971Z"
    },
    "tags": []
   },
   "outputs": [],
   "source": [
    "s1 = \"\"\"\\\n",
    "0 <-> 2\n",
    "1 <-> 1\n",
    "2 <-> 0, 3, 4\n",
    "3 <-> 2, 4\n",
    "4 <-> 2, 3, 6\n",
    "5 <-> 6\n",
    "6 <-> 4, 5\n",
    "\"\"\""
   ]
  },
  {
   "cell_type": "code",
   "execution_count": 50,
   "id": "89908866",
   "metadata": {
    "execution": {
     "iopub.execute_input": "2022-12-20T18:18:28.776928Z",
     "iopub.status.busy": "2022-12-20T18:18:28.776623Z",
     "iopub.status.idle": "2022-12-20T18:18:28.795809Z",
     "shell.execute_reply": "2022-12-20T18:18:28.795190Z",
     "shell.execute_reply.started": "2022-12-20T18:18:28.776916Z"
    },
    "tags": []
   },
   "outputs": [
    {
     "name": "stdout",
     "output_type": "stream",
     "text": [
      "(Part 1: 0.004 s)\n",
      "(Part 2: 0.004 s)\n"
     ]
    }
   ],
   "source": [
    "def day12(s, *, part2=False):\n",
    "  union_find = hh.UnionFind[str]()\n",
    "  nodes = []\n",
    "  for line in s.splitlines():\n",
    "    node1, rest = line.split(' <-> ')\n",
    "    nodes.append(node1)\n",
    "    for node2 in rest.split(', '):\n",
    "      union_find.union(node1, node2)\n",
    "\n",
    "  if not part2:\n",
    "    num_in_group_of_0 = sum(union_find.same('0', node) for node in nodes)\n",
    "    return num_in_group_of_0\n",
    "\n",
    "  num_groups = len(set(union_find.find(node) for node in nodes))\n",
    "  return num_groups\n",
    "\n",
    "\n",
    "check_eq(day12(s1), 6)\n",
    "puzzle.verify(1, day12)\n",
    "\n",
    "day12_part2 = functools.partial(day12, part2=True)\n",
    "check_eq(day12_part2(s1), 2)\n",
    "puzzle.verify(2, day12_part2)"
   ]
  },
  {
   "cell_type": "markdown",
   "id": "c056e427",
   "metadata": {},
   "source": [
    "<a name=\"day13\"></a>\n",
    "## Day 13: Layers of scanners"
   ]
  },
  {
   "cell_type": "markdown",
   "id": "0353dbef",
   "metadata": {},
   "source": [
    "- Part 1: What is the severity of your whole trip?\n",
    "\n",
    "- Part 2: What is the fewest number of picoseconds that you need to delay the packet to pass through the firewall without being caught?"
   ]
  },
  {
   "cell_type": "code",
   "execution_count": 51,
   "id": "decf839d",
   "metadata": {
    "execution": {
     "iopub.execute_input": "2022-12-20T18:18:28.796851Z",
     "iopub.status.busy": "2022-12-20T18:18:28.796542Z",
     "iopub.status.idle": "2022-12-20T18:18:28.811266Z",
     "shell.execute_reply": "2022-12-20T18:18:28.810674Z",
     "shell.execute_reply.started": "2022-12-20T18:18:28.796834Z"
    },
    "tags": []
   },
   "outputs": [
    {
     "data": {
      "text/markdown": [
       "For [day 13](https://adventofcode.com/2017/day/13), `puzzle.input` has 43 lines:"
      ],
      "text/plain": [
       "<IPython.core.display.Markdown object>"
      ]
     },
     "metadata": {},
     "output_type": "display_data"
    },
    {
     "name": "stdout",
     "output_type": "stream",
     "text": [
      "0: 4\n",
      "1: 2\n",
      "2: 3\n",
      "4: 5\n",
      "6: 8\n",
      "8: 4\n",
      "10: 6\n",
      "12: 6\n",
      " ...\n",
      "80: 17\n",
      "82: 28\n",
      "84: 18\n",
      "86: 14\n"
     ]
    },
    {
     "data": {
      "text/markdown": [
       "The stored answers are: `{1: '1904', 2: '3833504'}`"
      ],
      "text/plain": [
       "<IPython.core.display.Markdown object>"
      ]
     },
     "metadata": {},
     "output_type": "display_data"
    }
   ],
   "source": [
    "puzzle = advent.puzzle(day=13)"
   ]
  },
  {
   "cell_type": "code",
   "execution_count": 52,
   "id": "13883de6-2a00-45eb-a8e4-28a4483d38ba",
   "metadata": {
    "execution": {
     "iopub.execute_input": "2022-12-20T18:18:28.812195Z",
     "iopub.status.busy": "2022-12-20T18:18:28.812043Z",
     "iopub.status.idle": "2022-12-20T18:18:28.814859Z",
     "shell.execute_reply": "2022-12-20T18:18:28.814330Z",
     "shell.execute_reply.started": "2022-12-20T18:18:28.812183Z"
    },
    "tags": []
   },
   "outputs": [],
   "source": [
    "s1 = \"\"\"\\\n",
    "0: 3\n",
    "1: 2\n",
    "4: 4\n",
    "6: 4\n",
    "\"\"\""
   ]
  },
  {
   "cell_type": "code",
   "execution_count": 53,
   "id": "83e2a93d",
   "metadata": {
    "execution": {
     "iopub.execute_input": "2022-12-20T18:18:28.815975Z",
     "iopub.status.busy": "2022-12-20T18:18:28.815670Z",
     "iopub.status.idle": "2022-12-20T18:18:28.826128Z",
     "shell.execute_reply": "2022-12-20T18:18:28.825514Z",
     "shell.execute_reply.started": "2022-12-20T18:18:28.815956Z"
    },
    "tags": []
   },
   "outputs": [
    {
     "name": "stdout",
     "output_type": "stream",
     "text": [
      "(Part 1: 0.000 s)\n"
     ]
    }
   ],
   "source": [
    "def day13(s):  # Supports Part 1 only.\n",
    "  range_of_depth = {}\n",
    "  for line in s.splitlines():\n",
    "    s1, s2 = line.split(': ')\n",
    "    depth, range_ = int(s1), int(s2)\n",
    "    assert depth >= 0 and range_ >= 2\n",
    "    range_of_depth[depth] = range_\n",
    "\n",
    "  max_depth = max(range_of_depth.keys())\n",
    "  scanner_pos = {depth: 0 for depth in range_of_depth}\n",
    "  scanner_inc = {depth: +1 for depth in range_of_depth}\n",
    "\n",
    "  total_severity = 0\n",
    "  for depth in range(max_depth + 1):\n",
    "    if scanner_pos.get(depth) == 0:\n",
    "      severity = depth * range_of_depth[depth]\n",
    "      total_severity += severity\n",
    "    for depth in scanner_pos:\n",
    "      scanner_pos[depth] += scanner_inc[depth]\n",
    "      if scanner_pos[depth] in (0, range_of_depth[depth] - 1):\n",
    "        scanner_inc[depth] = -scanner_inc[depth]\n",
    "\n",
    "  return total_severity\n",
    "\n",
    "\n",
    "check_eq(day13(s1), 24)\n",
    "puzzle.verify(1, day13)"
   ]
  },
  {
   "cell_type": "code",
   "execution_count": 54,
   "id": "2ec72ba7-8a35-4c15-bd4e-938a2154cca8",
   "metadata": {
    "execution": {
     "iopub.execute_input": "2022-12-20T18:18:28.827088Z",
     "iopub.status.busy": "2022-12-20T18:18:28.826910Z",
     "iopub.status.idle": "2022-12-20T18:18:28.836135Z",
     "shell.execute_reply": "2022-12-20T18:18:28.835482Z",
     "shell.execute_reply.started": "2022-12-20T18:18:28.827074Z"
    },
    "tags": []
   },
   "outputs": [],
   "source": [
    "def day13a_part2(s):  # Brute-force simplistic approach.\n",
    "  range_of_depth = {}\n",
    "  for line in s.splitlines():\n",
    "    s1, s2 = line.split(': ')\n",
    "    depth, range_ = int(s1), int(s2)\n",
    "    range_of_depth[depth] = range_\n",
    "  max_depth = max(range_of_depth.keys())\n",
    "  scanner_pos0 = {depth: 0 for depth in range_of_depth}\n",
    "  scanner_inc0 = {depth: +1 for depth in range_of_depth}\n",
    "\n",
    "  for delay in itertools.count():\n",
    "    scanner_pos = scanner_pos0.copy()\n",
    "    scanner_inc = scanner_inc0.copy()\n",
    "\n",
    "    ok = True\n",
    "    for depth in range(max_depth + 1):\n",
    "      if scanner_pos.get(depth) == 0:\n",
    "        ok = False\n",
    "        break\n",
    "      for depth in scanner_pos:\n",
    "        scanner_pos[depth] += scanner_inc[depth]\n",
    "        if scanner_pos[depth] in (0, range_of_depth[depth] - 1):\n",
    "          scanner_inc[depth] = -scanner_inc[depth]\n",
    "\n",
    "    if ok:\n",
    "      return delay\n",
    "\n",
    "    for depth in scanner_pos0:\n",
    "      scanner_pos0[depth] += scanner_inc0[depth]\n",
    "      if scanner_pos0[depth] in (0, range_of_depth[depth] - 1):\n",
    "        scanner_inc0[depth] = -scanner_inc0[depth]\n",
    "\n",
    "\n",
    "check_eq(day13a_part2(s1), 10)\n",
    "if 0:\n",
    "  puzzle.verify(2, day13a_part2)  # ~56 s (e.g. result 3966414)"
   ]
  },
  {
   "cell_type": "code",
   "execution_count": 55,
   "id": "49c8a5a7-7cde-4bf8-b748-72fa0bbf3805",
   "metadata": {
    "execution": {
     "iopub.execute_input": "2022-12-20T18:18:28.836996Z",
     "iopub.status.busy": "2022-12-20T18:18:28.836811Z",
     "iopub.status.idle": "2022-12-20T18:18:28.849124Z",
     "shell.execute_reply": "2022-12-20T18:18:28.848486Z",
     "shell.execute_reply.started": "2022-12-20T18:18:28.836984Z"
    },
    "tags": []
   },
   "outputs": [],
   "source": [
    "def day13b_part2(s):  # Use numpy but one delay at a time.\n",
    "  scanners = np.array([list(map(int, line.split(': '))) for line in s.splitlines()])\n",
    "  depth, period = scanners[:, 0], (scanners[:, 1] - 1) * 2\n",
    "  for delay in itertools.count():\n",
    "    if np.all((delay + depth) % period):\n",
    "      return delay\n",
    "\n",
    "\n",
    "check_eq(day13b_part2(s1), 10)\n",
    "if 0:\n",
    "  puzzle.verify(2, day13b_part2)  # ~11 s."
   ]
  },
  {
   "cell_type": "code",
   "execution_count": 56,
   "id": "11ee4b15-ae7c-42f5-8bfc-af137701dc2e",
   "metadata": {
    "execution": {
     "iopub.execute_input": "2022-12-20T18:18:28.850111Z",
     "iopub.status.busy": "2022-12-20T18:18:28.849827Z",
     "iopub.status.idle": "2022-12-20T18:18:29.380773Z",
     "shell.execute_reply": "2022-12-20T18:18:29.380182Z",
     "shell.execute_reply.started": "2022-12-20T18:18:28.850097Z"
    },
    "tags": []
   },
   "outputs": [
    {
     "name": "stdout",
     "output_type": "stream",
     "text": [
      "(Part 2: 0.521 s)\n"
     ]
    }
   ],
   "source": [
    "def day13c_part2(s, *, chunk=3_000):  # Use numpy vectorized over chunks of delays.\n",
    "  scanners = np.array([list(map(int, line.split(': '))) for line in s.splitlines()])\n",
    "  depth, period = scanners[:, 0], (scanners[:, 1] - 1) * 2\n",
    "  for index in itertools.count():\n",
    "    delay = np.arange(index * chunk, (index + 1) * chunk)\n",
    "    matrix = (delay[:, None] + depth) % period\n",
    "    (indices,) = np.nonzero(matrix.all(axis=1))\n",
    "    if len(indices):\n",
    "      return delay[0] + indices[0]\n",
    "\n",
    "\n",
    "check_eq(day13c_part2(s1), 10)\n",
    "puzzle.verify(2, day13c_part2)  # ~0.5 s."
   ]
  },
  {
   "cell_type": "code",
   "execution_count": 57,
   "id": "650fe190-4498-4df8-88c6-900e4579e895",
   "metadata": {
    "execution": {
     "iopub.execute_input": "2022-12-20T18:18:29.381889Z",
     "iopub.status.busy": "2022-12-20T18:18:29.381585Z",
     "iopub.status.idle": "2022-12-20T18:18:29.779138Z",
     "shell.execute_reply": "2022-12-20T18:18:29.778557Z",
     "shell.execute_reply.started": "2022-12-20T18:18:29.381873Z"
    },
    "tags": []
   },
   "outputs": [
    {
     "name": "stdout",
     "output_type": "stream",
     "text": [
      "(Part 2: 0.390 s)\n"
     ]
    }
   ],
   "source": [
    "def day13d_part2(s, *, chunk=80_000):  # Use numpy sieve; iterate on scanners over chunks of delays.\n",
    "  scanners = np.array([list(map(int, line.split(': '))) for line in s.splitlines()])\n",
    "  depth, period = scanners[:, 0], (scanners[:, 1] - 1) * 2\n",
    "  for index in itertools.count():\n",
    "    delay = np.arange(index * chunk, (index + 1) * chunk)\n",
    "    ok = np.full(chunk, True)\n",
    "    for d, p in zip(depth, period):\n",
    "      ok[(delay + d) % p == 0] = False\n",
    "    (indices,) = np.nonzero(ok)\n",
    "    if len(indices):\n",
    "      return delay[0] + indices[0]\n",
    "\n",
    "\n",
    "check_eq(day13d_part2(s1), 10)\n",
    "puzzle.verify(2, day13d_part2)  # ~0.4 s."
   ]
  },
  {
   "cell_type": "code",
   "execution_count": 58,
   "id": "84e08a8d-ca2e-4bc7-99ca-8a29a98d0bf9",
   "metadata": {
    "execution": {
     "iopub.execute_input": "2022-12-20T18:18:29.780163Z",
     "iopub.status.busy": "2022-12-20T18:18:29.779796Z",
     "iopub.status.idle": "2022-12-20T18:18:29.789519Z",
     "shell.execute_reply": "2022-12-20T18:18:29.789023Z",
     "shell.execute_reply.started": "2022-12-20T18:18:29.780148Z"
    },
    "tags": []
   },
   "outputs": [
    {
     "name": "stdout",
     "output_type": "stream",
     "text": [
      "(Part 2: 0.005 s)\n"
     ]
    }
   ],
   "source": [
    "def day13_part2(s, *, chunk=100_000):  # Use numpy sieve (~Eratosthenes) with array slices.\n",
    "  scanners = np.array([list(map(int, line.split(': '))) for line in s.splitlines()])\n",
    "  depth, period = scanners[:, 0], (scanners[:, 1] - 1) * 2\n",
    "  for start in itertools.count(0, chunk):\n",
    "    ok = np.full(chunk, True)\n",
    "    for d, p in zip(depth, period):\n",
    "      first = (-(start + d)) % p\n",
    "      ok[first:chunk:p] = False\n",
    "    (indices,) = np.nonzero(ok)\n",
    "    if len(indices):\n",
    "      return start + indices[0]\n",
    "\n",
    "\n",
    "check_eq(day13_part2(s1, chunk=4), 10)\n",
    "puzzle.verify(2, day13_part2)  # ~0.005 s."
   ]
  },
  {
   "cell_type": "markdown",
   "id": "06ff889f",
   "metadata": {},
   "source": [
    "<a name=\"day14\"></a>\n",
    "## Day 14: Grid from knot hash"
   ]
  },
  {
   "cell_type": "markdown",
   "id": "2ca89753",
   "metadata": {},
   "source": [
    "- Part 1: How many squares are used?\n",
    "\n",
    "- Part 2: How many regions are present?"
   ]
  },
  {
   "cell_type": "code",
   "execution_count": 59,
   "id": "14d3bd77",
   "metadata": {
    "execution": {
     "iopub.execute_input": "2022-12-20T18:18:29.790409Z",
     "iopub.status.busy": "2022-12-20T18:18:29.790261Z",
     "iopub.status.idle": "2022-12-20T18:18:29.804138Z",
     "shell.execute_reply": "2022-12-20T18:18:29.803444Z",
     "shell.execute_reply.started": "2022-12-20T18:18:29.790397Z"
    },
    "tags": []
   },
   "outputs": [
    {
     "data": {
      "text/markdown": [
       "For [day 14](https://adventofcode.com/2017/day/14), `puzzle.input` has a single line of 8 characters:"
      ],
      "text/plain": [
       "<IPython.core.display.Markdown object>"
      ]
     },
     "metadata": {},
     "output_type": "display_data"
    },
    {
     "name": "stdout",
     "output_type": "stream",
     "text": [
      "hwlqcszp\n"
     ]
    },
    {
     "data": {
      "text/markdown": [
       "The stored answers are: `{1: '8304', 2: '1018'}`"
      ],
      "text/plain": [
       "<IPython.core.display.Markdown object>"
      ]
     },
     "metadata": {},
     "output_type": "display_data"
    }
   ],
   "source": [
    "puzzle = advent.puzzle(day=14)"
   ]
  },
  {
   "cell_type": "code",
   "execution_count": 60,
   "id": "0d23c6f4",
   "metadata": {
    "execution": {
     "iopub.execute_input": "2022-12-20T18:18:29.805615Z",
     "iopub.status.busy": "2022-12-20T18:18:29.804956Z",
     "iopub.status.idle": "2022-12-20T18:18:30.907378Z",
     "shell.execute_reply": "2022-12-20T18:18:30.906773Z",
     "shell.execute_reply.started": "2022-12-20T18:18:29.805599Z"
    },
    "tags": []
   },
   "outputs": [
    {
     "name": "stdout",
     "output_type": "stream",
     "text": [
      "(Part 1: 0.258 s)\n",
      "(Part 2: 0.284 s)\n"
     ]
    }
   ],
   "source": [
    "def day14a(s, *, part2=False):  # Slower version.\n",
    "  s = s.strip()\n",
    "\n",
    "  def knot_hash(s: str, num: int = 256, num_rounds: int = 64) -> list[int]:\n",
    "    lengths = [ord(ch) for ch in s] + [17, 31, 73, 47, 23]\n",
    "    state = list(range(num))\n",
    "    position = 0\n",
    "    skip = 0\n",
    "    for _ in range(num_rounds):\n",
    "      for length in lengths:\n",
    "        assert length <= num\n",
    "        rotated = state[position:] + state[:position] if position else state\n",
    "        rotated[:length] = reversed(rotated[:length])\n",
    "        state = rotated[-position:] + rotated[:-position] if position else rotated\n",
    "        position = (position + length + skip) % num\n",
    "        skip += 1\n",
    "    return [\n",
    "        functools.reduce(operator.xor, group, 0)\n",
    "        for group in more_itertools.chunked(state, 16, strict=True)\n",
    "    ]\n",
    "\n",
    "  shape = 128, 128\n",
    "  grid = np.full(shape, 0)\n",
    "  for row in range(shape[0]):\n",
    "    values = knot_hash(f'{s}-{row}')\n",
    "    bits = ''.join(f'{value:08b}' for value in values)\n",
    "    grid[row] = np.array(list(bits)) == '1'\n",
    "\n",
    "  if not part2:\n",
    "    # hh.show(grid[:8, :8])\n",
    "    return np.sum(grid)\n",
    "\n",
    "  union_find = hh.UnionFind[Tuple[int, int]]()\n",
    "  for y, x in np.argwhere(grid):\n",
    "    for y2, x2 in ((y + 1, x), (y, x + 1)):\n",
    "      if y2 < shape[0] and x2 < shape[1] and grid[y2, x2]:\n",
    "        union_find.union((y, x), (y2, x2))\n",
    "\n",
    "  return len(set(union_find.find((y, x)) for y, x in np.argwhere(grid)))\n",
    "\n",
    "\n",
    "check_eq(day14a('flqrgnkx'), 8108)\n",
    "puzzle.verify(1, day14a)\n",
    "\n",
    "day14a_part2 = functools.partial(day14a, part2=True)\n",
    "check_eq(day14a_part2('flqrgnkx'), 1242)\n",
    "puzzle.verify(2, day14a_part2)"
   ]
  },
  {
   "cell_type": "code",
   "execution_count": 61,
   "id": "d21ae586",
   "metadata": {
    "execution": {
     "iopub.execute_input": "2022-12-20T18:18:30.908229Z",
     "iopub.status.busy": "2022-12-20T18:18:30.908090Z",
     "iopub.status.idle": "2022-12-20T18:18:31.203196Z",
     "shell.execute_reply": "2022-12-20T18:18:31.202454Z",
     "shell.execute_reply.started": "2022-12-20T18:18:30.908218Z"
    },
    "tags": []
   },
   "outputs": [
    {
     "name": "stdout",
     "output_type": "stream",
     "text": [
      "(Part 1: 0.064 s)\n",
      "(Part 2: 0.080 s)\n"
     ]
    }
   ],
   "source": [
    "def day14(s, *, part2=False, visualize=False):  # Faster, without rotation or reversed().\n",
    "  s = s.strip()\n",
    "\n",
    "  def knot_hash(s: str, num: int = 256, num_rounds: int = 64) -> list[int]:\n",
    "    lengths = [ord(ch) for ch in s] + [17, 31, 73, 47, 23]\n",
    "    state = list(range(num))\n",
    "    position = 0\n",
    "    skip = 0\n",
    "    for _ in range(num_rounds):\n",
    "      for length in lengths:\n",
    "        assert length <= num\n",
    "        rear = num - position\n",
    "        front = length - rear\n",
    "        if front <= 0:\n",
    "          state[position : position + length] = state[\n",
    "              position + length - 1 : (position - 1 if position else None) : -1\n",
    "          ]\n",
    "        elif front <= rear:\n",
    "          state[:front], state[position : position + front] = (\n",
    "              state[position + front - 1 : (position - 1 if position else None) : -1],\n",
    "              state[front - 1 :: -1],\n",
    "          )\n",
    "          state[position + front :] = state[-1 : position + front - 1 : -1]\n",
    "        else:\n",
    "          begin = front - rear\n",
    "          state[position:], state[begin:front] = (\n",
    "              state[front - 1 : (begin - 1 if begin else None) : -1],\n",
    "              state[-1 : position - 1 : -1],\n",
    "          )\n",
    "          state[:begin] = state[begin - 1 :: -1]\n",
    "        position = (position + length + skip) % num\n",
    "        skip += 1\n",
    "    return [\n",
    "        functools.reduce(operator.xor, group, 0)\n",
    "        for group in more_itertools.chunked(state, 16, strict=True)\n",
    "    ]\n",
    "\n",
    "  shape = 128, 128\n",
    "  grid = np.full(shape, 0)\n",
    "  for row in range(shape[0]):\n",
    "    values = knot_hash(f'{s}-{row}')\n",
    "    bits = ''.join(f'{value:08b}' for value in values)\n",
    "    grid[row] = np.array(list(bits)) == '1'\n",
    "\n",
    "  if not part2:\n",
    "    if visualize:\n",
    "      image = grid.repeat(2, axis=0).repeat(2, axis=1) == 0\n",
    "      media.show_image(image, border=True, title='day14')\n",
    "    return np.sum(grid)\n",
    "\n",
    "  union_find = hh.UnionFind[Tuple[int, int]]()\n",
    "  # for y, x in np.argwhere(grid):  # Slowest\n",
    "  # for y, x in zip(*np.nonzero(grid)):  # Slow.\n",
    "  # for y, x in np.ndindex(shape): if grid[y, x]:  # Only slightly slower.\n",
    "  for y, x in (yx for yx, value in np.ndenumerate(grid) if value):  # Fastest.\n",
    "    for y2, x2 in ((y + 1, x), (y, x + 1)):\n",
    "      if y2 < shape[0] and x2 < shape[1] and grid[y2, x2]:\n",
    "        union_find.union((y, x), (y2, x2))\n",
    "\n",
    "  return len(set(union_find.find((y, x)) for (y, x), value in np.ndenumerate(grid) if value))\n",
    "\n",
    "\n",
    "check_eq(day14('flqrgnkx'), 8108)\n",
    "puzzle.verify(1, day14)\n",
    "\n",
    "day14_part2 = functools.partial(day14, part2=True)\n",
    "check_eq(day14_part2('flqrgnkx'), 1242)\n",
    "puzzle.verify(2, day14_part2)"
   ]
  },
  {
   "cell_type": "code",
   "execution_count": 62,
   "id": "3696f7fe-1b40-496c-926e-193b48a11233",
   "metadata": {
    "execution": {
     "iopub.execute_input": "2022-12-20T18:18:31.204204Z",
     "iopub.status.busy": "2022-12-20T18:18:31.203947Z",
     "iopub.status.idle": "2022-12-20T18:18:31.282777Z",
     "shell.execute_reply": "2022-12-20T18:18:31.281895Z",
     "shell.execute_reply.started": "2022-12-20T18:18:31.204191Z"
    },
    "tags": []
   },
   "outputs": [
    {
     "data": {
      "text/html": [
       "<table class=\"show_images\" style=\"border-spacing:0px;\"><tr><td style=\"padding:1px;\"><img width=\"256\" height=\"256\" style=\"border:1px solid black; image-rendering:pixelated; object-fit:cover;\" src=\"data:image/png;base64,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\"/></td></tr></table>"
      ],
      "text/plain": [
       "<IPython.core.display.HTML object>"
      ]
     },
     "metadata": {},
     "output_type": "display_data"
    }
   ],
   "source": [
    "_ = day14(puzzle.input, visualize=True)"
   ]
  },
  {
   "cell_type": "markdown",
   "id": "f6a8bdc6",
   "metadata": {},
   "source": [
    "<a name=\"day15\"></a>\n",
    "## Day 15: Dueling generators"
   ]
  },
  {
   "cell_type": "markdown",
   "id": "6abb1de8",
   "metadata": {},
   "source": [
    "- Part 1: After 40 million pairs, what is the judge's final count?\n",
    "\n",
    "- Part 2: After 5 million pairs, but using this new generator logic, what is the judge's final count?"
   ]
  },
  {
   "cell_type": "code",
   "execution_count": 63,
   "id": "d1697de9",
   "metadata": {
    "execution": {
     "iopub.execute_input": "2022-12-20T18:18:31.283715Z",
     "iopub.status.busy": "2022-12-20T18:18:31.283484Z",
     "iopub.status.idle": "2022-12-20T18:18:31.294454Z",
     "shell.execute_reply": "2022-12-20T18:18:31.293811Z",
     "shell.execute_reply.started": "2022-12-20T18:18:31.283702Z"
    },
    "tags": []
   },
   "outputs": [
    {
     "data": {
      "text/markdown": [
       "For [day 15](https://adventofcode.com/2017/day/15), `puzzle.input` has 2 lines:"
      ],
      "text/plain": [
       "<IPython.core.display.Markdown object>"
      ]
     },
     "metadata": {},
     "output_type": "display_data"
    },
    {
     "name": "stdout",
     "output_type": "stream",
     "text": [
      "Generator A starts with 634\n",
      "Generator B starts with 301\n"
     ]
    },
    {
     "data": {
      "text/markdown": [
       "The stored answers are: `{1: '573', 2: '294'}`"
      ],
      "text/plain": [
       "<IPython.core.display.Markdown object>"
      ]
     },
     "metadata": {},
     "output_type": "display_data"
    }
   ],
   "source": [
    "puzzle = advent.puzzle(day=15)"
   ]
  },
  {
   "cell_type": "code",
   "execution_count": 64,
   "id": "bdfb5963-0a84-4d75-9a3c-247bed86319e",
   "metadata": {
    "execution": {
     "iopub.execute_input": "2022-12-20T18:18:31.295406Z",
     "iopub.status.busy": "2022-12-20T18:18:31.295131Z",
     "iopub.status.idle": "2022-12-20T18:18:31.297756Z",
     "shell.execute_reply": "2022-12-20T18:18:31.297236Z",
     "shell.execute_reply.started": "2022-12-20T18:18:31.295393Z"
    },
    "tags": []
   },
   "outputs": [],
   "source": [
    "s1 = \"\"\"\\\n",
    "Generator A starts with 65\n",
    "Generator B starts with 8921\n",
    "\"\"\""
   ]
  },
  {
   "cell_type": "code",
   "execution_count": 65,
   "id": "dfa513d9",
   "metadata": {
    "execution": {
     "iopub.execute_input": "2022-12-20T18:18:31.298583Z",
     "iopub.status.busy": "2022-12-20T18:18:31.298292Z",
     "iopub.status.idle": "2022-12-20T18:18:32.068595Z",
     "shell.execute_reply": "2022-12-20T18:18:32.068004Z",
     "shell.execute_reply.started": "2022-12-20T18:18:31.298571Z"
    },
    "tags": []
   },
   "outputs": [
    {
     "name": "stdout",
     "output_type": "stream",
     "text": [
      "(Part 1: 0.138 s)\n",
      "(Part 2: 0.206 s)\n"
     ]
    }
   ],
   "source": [
    "@numba.njit\n",
    "def day15_compute(state0: int, state1: int, part2: bool) -> int:\n",
    "  factor0, factor1 = 16807, 48271\n",
    "  num_matches = 0\n",
    "  num_checks = 5_000_000 if part2 else 40_000_000\n",
    "  for _ in range(num_checks):\n",
    "    while True:\n",
    "      state0 = (state0 * factor0) % 2147483647\n",
    "      if not part2 or state0 & 3 == 0:\n",
    "        break\n",
    "    while True:\n",
    "      state1 = (state1 * factor1) % 2147483647\n",
    "      if not part2 or state1 & 7 == 0:\n",
    "        break\n",
    "    num_matches += (state0 & 65535) == (state1 & 65535)\n",
    "  return num_matches\n",
    "\n",
    "\n",
    "def day15(s, *, part2=False):\n",
    "  state0, state1 = (int(line.split(' starts with ')[1]) for line in s.splitlines())\n",
    "  return day15_compute(state0, state1, part2)\n",
    "\n",
    "\n",
    "check_eq(day15(s1), 588)\n",
    "puzzle.verify(1, day15)\n",
    "\n",
    "day15_part2 = functools.partial(day15, part2=True)\n",
    "check_eq(day15_part2(s1), 309)\n",
    "puzzle.verify(2, day15_part2)"
   ]
  },
  {
   "cell_type": "markdown",
   "id": "fc04d6fd",
   "metadata": {},
   "source": [
    "<a name=\"day16\"></a>\n",
    "## Day 16: Permutation dance"
   ]
  },
  {
   "cell_type": "markdown",
   "id": "ac90307e",
   "metadata": {},
   "source": [
    "- Part 1: In what order are the programs standing after their dance?\n",
    "\n",
    "- Part 2: In what order are the programs standing after their billion dances?"
   ]
  },
  {
   "cell_type": "code",
   "execution_count": 66,
   "id": "de9171cf",
   "metadata": {
    "execution": {
     "iopub.execute_input": "2022-12-20T18:18:32.069480Z",
     "iopub.status.busy": "2022-12-20T18:18:32.069302Z",
     "iopub.status.idle": "2022-12-20T18:18:32.078757Z",
     "shell.execute_reply": "2022-12-20T18:18:32.078284Z",
     "shell.execute_reply.started": "2022-12-20T18:18:32.069468Z"
    },
    "tags": []
   },
   "outputs": [
    {
     "data": {
      "text/markdown": [
       "For [day 16](https://adventofcode.com/2017/day/16), `puzzle.input` has a single line of 48_521 characters:"
      ],
      "text/plain": [
       "<IPython.core.display.Markdown object>"
      ]
     },
     "metadata": {},
     "output_type": "display_data"
    },
    {
     "name": "stdout",
     "output_type": "stream",
     "text": [
      "x6/12,s14,x14/1,s5,x12/7,pn/i,x10/11,ph/p,x7/4,s7,x3/11,s4,pf/d,x13/12,s14,x1/8, ... ,pd/c,x5/11,s8,x3/0,po/l,x15/5,pp/d\n"
     ]
    },
    {
     "data": {
      "text/markdown": [
       "The stored answers are: `{1: 'cgpfhdnambekjiol', 2: 'gjmiofcnaehpdlbk'}`"
      ],
      "text/plain": [
       "<IPython.core.display.Markdown object>"
      ]
     },
     "metadata": {},
     "output_type": "display_data"
    }
   ],
   "source": [
    "puzzle = advent.puzzle(day=16)"
   ]
  },
  {
   "cell_type": "code",
   "execution_count": 67,
   "id": "f42431c3",
   "metadata": {
    "execution": {
     "iopub.execute_input": "2022-12-20T18:18:32.083628Z",
     "iopub.status.busy": "2022-12-20T18:18:32.083364Z",
     "iopub.status.idle": "2022-12-20T18:18:32.094584Z",
     "shell.execute_reply": "2022-12-20T18:18:32.093826Z",
     "shell.execute_reply.started": "2022-12-20T18:18:32.083615Z"
    },
    "tags": []
   },
   "outputs": [
    {
     "name": "stdout",
     "output_type": "stream",
     "text": [
      "(Part 1: 0.006 s)\n"
     ]
    }
   ],
   "source": [
    "def day16a_part1(s, *, num=16):  # Simpler version supporting only Part 1.\n",
    "  state = [chr(ord('a') + i) for i in range(num)]\n",
    "\n",
    "  for move in s.strip().split(','):\n",
    "    operation, operands = move[0], move[1:]\n",
    "    if operation == 's':\n",
    "      size = int(operands)\n",
    "      assert 1 <= size < num\n",
    "      state = state[-size:] + state[:-size]\n",
    "    elif operation == 'x':\n",
    "      pos0, pos1 = (int(s2) for s2 in operands.split('/'))\n",
    "      state[pos0], state[pos1] = state[pos1], state[pos0]\n",
    "    elif operation == 'p':\n",
    "      ch0, ch1 = operands.split('/')\n",
    "      index0, index1 = state.index(ch0), state.index(ch1)\n",
    "      state[index0], state[index1] = ch1, ch0\n",
    "    else:\n",
    "      raise AssertionError\n",
    "\n",
    "  return ''.join(state)\n",
    "\n",
    "\n",
    "check_eq(day16a_part1('s1,x3/4,pe/b', num=5), 'baedc')\n",
    "puzzle.verify(1, day16a_part1)  # e.g. 'olgejankfhbmpidc'"
   ]
  },
  {
   "cell_type": "code",
   "execution_count": 68,
   "id": "f080d827-fd65-4dfa-8593-d1be89e37fbe",
   "metadata": {
    "execution": {
     "iopub.execute_input": "2022-12-20T18:18:32.095705Z",
     "iopub.status.busy": "2022-12-20T18:18:32.095361Z",
     "iopub.status.idle": "2022-12-20T18:18:32.122943Z",
     "shell.execute_reply": "2022-12-20T18:18:32.122304Z",
     "shell.execute_reply.started": "2022-12-20T18:18:32.095690Z"
    },
    "tags": []
   },
   "outputs": [
    {
     "name": "stdout",
     "output_type": "stream",
     "text": [
      "(Part 1: 0.008 s)\n",
      "(Part 2: 0.008 s)\n"
     ]
    }
   ],
   "source": [
    "def day16(s, *, num=16, num_permutations=1):\n",
    "  # We track two permutations: a permutation on symbols, and a permutation on positions.\n",
    "  perm_sym = list(range(num))  # Destination sym for each source sym.\n",
    "  perm_pos = list(range(num))  # Destination pos for each source pos.\n",
    "\n",
    "  for move in s.strip().split(','):\n",
    "    operation, operands = move[0], move[1:]\n",
    "    if operation == 'p':\n",
    "      sym0, sym1 = (ord(ch) - ord('a') for ch in operands.split('/'))\n",
    "      index0, index1 = perm_sym.index(sym0), perm_sym.index(sym1)\n",
    "      perm_sym[index0], perm_sym[index1] = sym1, sym0\n",
    "    elif operation == 's':\n",
    "      size = int(operands)\n",
    "      assert 1 <= size < num\n",
    "      for i, pos in enumerate(perm_pos):\n",
    "        perm_pos[i] = pos + (size if pos < num - size else size - num)\n",
    "    elif operation == 'x':\n",
    "      pos0, pos1 = (int(s2) for s2 in operands.split('/'))\n",
    "      index0, index1 = perm_pos.index(pos0), perm_pos.index(pos1)\n",
    "      perm_pos[index0], perm_pos[index1] = pos1, pos0\n",
    "    else:\n",
    "      raise AssertionError\n",
    "\n",
    "  def evaluate(perm_sym: list[int], perm_pos: list[int]) -> str:\n",
    "    # Invert permutation using https://stackoverflow.com/a/11649931.\n",
    "    return ''.join(chr(perm_sym[i] + ord('a')) for i in np.argsort(perm_pos))\n",
    "\n",
    "  @functools.cache\n",
    "  def compose(num_permutations: int) -> tuple[list[int], list[int]]:\n",
    "    if num_permutations == 1:\n",
    "      return perm_sym, perm_pos\n",
    "    num0, num1 = (num_permutations + 1) // 2, num_permutations // 2\n",
    "    (perm_sym0, perm_pos0), (perm_sym1, perm_pos1) = compose(num0), compose(num1)\n",
    "    return ([perm_sym1[sym0] for sym0 in perm_sym0], [perm_pos1[pos0] for pos0 in perm_pos0])\n",
    "\n",
    "  return evaluate(*compose(num_permutations))\n",
    "\n",
    "\n",
    "check_eq(day16('s1,x3/4,pe/b', num=5), 'baedc')\n",
    "puzzle.verify(1, day16)  # e.g. 'olgejankfhbmpidc'\n",
    "\n",
    "day16_part2 = functools.partial(day16, num_permutations=1_000_000_000)\n",
    "check_eq(day16_part2('s1,x3/4,pe/b', num=5, num_permutations=2), 'ceadb')\n",
    "puzzle.verify(2, day16_part2)"
   ]
  },
  {
   "cell_type": "markdown",
   "id": "a5417628",
   "metadata": {},
   "source": [
    "<a name=\"day17\"></a>\n",
    "## Day 17: Circular buffer"
   ]
  },
  {
   "cell_type": "markdown",
   "id": "e4abcddb",
   "metadata": {},
   "source": [
    "- Part 1: What is the value after 2017 in your completed circular buffer?\n",
    "\n",
    "- Part 2: What is the value after 0 the moment 50000000 is inserted?"
   ]
  },
  {
   "cell_type": "code",
   "execution_count": 69,
   "id": "a5aae1e0",
   "metadata": {
    "execution": {
     "iopub.execute_input": "2022-12-20T18:18:32.124045Z",
     "iopub.status.busy": "2022-12-20T18:18:32.123825Z",
     "iopub.status.idle": "2022-12-20T18:18:32.139602Z",
     "shell.execute_reply": "2022-12-20T18:18:32.138989Z",
     "shell.execute_reply.started": "2022-12-20T18:18:32.124030Z"
    },
    "tags": []
   },
   "outputs": [
    {
     "data": {
      "text/markdown": [
       "For [day 17](https://adventofcode.com/2017/day/17), `puzzle.input` has a single line of 3 characters:"
      ],
      "text/plain": [
       "<IPython.core.display.Markdown object>"
      ]
     },
     "metadata": {},
     "output_type": "display_data"
    },
    {
     "name": "stdout",
     "output_type": "stream",
     "text": [
      "366\n"
     ]
    },
    {
     "data": {
      "text/markdown": [
       "The stored answers are: `{1: '1025', 2: '37803463'}`"
      ],
      "text/plain": [
       "<IPython.core.display.Markdown object>"
      ]
     },
     "metadata": {},
     "output_type": "display_data"
    }
   ],
   "source": [
    "puzzle = advent.puzzle(day=17)"
   ]
  },
  {
   "cell_type": "code",
   "execution_count": 70,
   "id": "ccc7931a",
   "metadata": {
    "execution": {
     "iopub.execute_input": "2022-12-20T18:18:32.140492Z",
     "iopub.status.busy": "2022-12-20T18:18:32.140294Z",
     "iopub.status.idle": "2022-12-20T18:18:32.510469Z",
     "shell.execute_reply": "2022-12-20T18:18:32.509814Z",
     "shell.execute_reply.started": "2022-12-20T18:18:32.140476Z"
    },
    "tags": []
   },
   "outputs": [
    {
     "name": "stdout",
     "output_type": "stream",
     "text": [
      "(Part 1: 0.007 s)\n",
      "(Part 2: 0.153 s)\n"
     ]
    }
   ],
   "source": [
    "@numba.njit  # ~2.6 s -> ~0.16 s.\n",
    "def day17_compute_part2(step: int) -> int:\n",
    "  pos = -1\n",
    "  after_zero = -1\n",
    "  step1 = step + 1\n",
    "\n",
    "  for index in range(1, 50_000_000 + 1):\n",
    "    pos = (pos + step1) % index\n",
    "    if pos == 0:\n",
    "      after_zero = index\n",
    "\n",
    "  return after_zero\n",
    "  # Comparable to C++:\n",
    "  # https://ideone.com/HLrQCx  0.4 s\n",
    "  # https://www.online-cpp.com/rluemsc5ha  1.2 s\n",
    "\n",
    "\n",
    "def day17(s, *, part2=False):\n",
    "  step = int(s)\n",
    "  assert step > 0\n",
    "\n",
    "  if not part2:\n",
    "    pos = 0\n",
    "    state = [0]\n",
    "\n",
    "    for index in range(2017):\n",
    "      pos = (pos + step) % len(state)\n",
    "      state = state[: pos + 1] + [index + 1] + state[pos + 1 :]\n",
    "      pos = pos + 1\n",
    "\n",
    "    return state[pos + 1]\n",
    "\n",
    "  return day17_compute_part2(step)\n",
    "\n",
    "\n",
    "check_eq(day17('3'), 638)\n",
    "puzzle.verify(1, day17)\n",
    "\n",
    "day17_part2 = functools.partial(day17, part2=True)\n",
    "_ = day17_part2(puzzle.input)  # For numba jit.\n",
    "puzzle.verify(2, day17_part2)"
   ]
  },
  {
   "cell_type": "markdown",
   "id": "fb30a53d",
   "metadata": {},
   "source": [
    "<a name=\"day18\"></a>\n",
    "## Day 18: Two async programs"
   ]
  },
  {
   "cell_type": "markdown",
   "id": "52ca8517",
   "metadata": {},
   "source": [
    "- Part 1: What is the value of the recovered frequency (the value of the most recently played sound) the first time a rcv instruction is executed with a non-zero value?\n",
    "\n",
    "- Part 2: Once both of your programs have terminated (regardless of what caused them to do so), how many times did program 1 send a value?"
   ]
  },
  {
   "cell_type": "code",
   "execution_count": 71,
   "id": "417456ce",
   "metadata": {
    "execution": {
     "iopub.execute_input": "2022-12-20T18:18:32.511449Z",
     "iopub.status.busy": "2022-12-20T18:18:32.511231Z",
     "iopub.status.idle": "2022-12-20T18:18:32.521241Z",
     "shell.execute_reply": "2022-12-20T18:18:32.520697Z",
     "shell.execute_reply.started": "2022-12-20T18:18:32.511435Z"
    },
    "tags": []
   },
   "outputs": [
    {
     "data": {
      "text/markdown": [
       "For [day 18](https://adventofcode.com/2017/day/18), `puzzle.input` has 41 lines:"
      ],
      "text/plain": [
       "<IPython.core.display.Markdown object>"
      ]
     },
     "metadata": {},
     "output_type": "display_data"
    },
    {
     "name": "stdout",
     "output_type": "stream",
     "text": [
      "set i 31\n",
      "set a 1\n",
      "mul p 17\n",
      "jgz p p\n",
      "mul a 2\n",
      "add i -1\n",
      "jgz i -2\n",
      "add a -1\n",
      " ...\n",
      "jgz i -11\n",
      "snd a\n",
      "jgz f -16\n",
      "jgz a -19\n"
     ]
    },
    {
     "data": {
      "text/markdown": [
       "The stored answers are: `{1: '4601', 2: '6858'}`"
      ],
      "text/plain": [
       "<IPython.core.display.Markdown object>"
      ]
     },
     "metadata": {},
     "output_type": "display_data"
    }
   ],
   "source": [
    "puzzle = advent.puzzle(day=18)"
   ]
  },
  {
   "cell_type": "code",
   "execution_count": 72,
   "id": "408ec814-6b2c-47d0-94ee-8b1d85967765",
   "metadata": {
    "execution": {
     "iopub.execute_input": "2022-12-20T18:18:32.522194Z",
     "iopub.status.busy": "2022-12-20T18:18:32.521898Z",
     "iopub.status.idle": "2022-12-20T18:18:32.524668Z",
     "shell.execute_reply": "2022-12-20T18:18:32.524113Z",
     "shell.execute_reply.started": "2022-12-20T18:18:32.522179Z"
    },
    "tags": []
   },
   "outputs": [],
   "source": [
    "s1 = \"\"\"\\\n",
    "set a 1\n",
    "add a 2\n",
    "mul a a\n",
    "mod a 5\n",
    "snd a\n",
    "set a 0\n",
    "rcv a\n",
    "jgz a -1\n",
    "set a 1\n",
    "jgz a -2\n",
    "\"\"\""
   ]
  },
  {
   "cell_type": "code",
   "execution_count": 73,
   "id": "8b5b6841-737a-45a9-86ed-faa841df1d4f",
   "metadata": {
    "execution": {
     "iopub.execute_input": "2022-12-20T18:18:32.525438Z",
     "iopub.status.busy": "2022-12-20T18:18:32.525302Z",
     "iopub.status.idle": "2022-12-20T18:18:32.535104Z",
     "shell.execute_reply": "2022-12-20T18:18:32.534399Z",
     "shell.execute_reply.started": "2022-12-20T18:18:32.525428Z"
    },
    "tags": []
   },
   "outputs": [],
   "source": [
    "s2 = \"\"\"\\\n",
    "snd 1\n",
    "snd 2\n",
    "snd p\n",
    "rcv a\n",
    "rcv b\n",
    "rcv c\n",
    "rcv d\n",
    "\"\"\""
   ]
  },
  {
   "cell_type": "code",
   "execution_count": 74,
   "id": "9ec068f1",
   "metadata": {
    "execution": {
     "iopub.execute_input": "2022-12-20T18:18:32.536779Z",
     "iopub.status.busy": "2022-12-20T18:18:32.536291Z",
     "iopub.status.idle": "2022-12-20T18:18:32.547227Z",
     "shell.execute_reply": "2022-12-20T18:18:32.546602Z",
     "shell.execute_reply.started": "2022-12-20T18:18:32.536756Z"
    },
    "tags": []
   },
   "outputs": [
    {
     "name": "stdout",
     "output_type": "stream",
     "text": [
      "(Part 1: 0.001 s)\n"
     ]
    }
   ],
   "source": [
    "def day18(s):\n",
    "  instructions = [tuple(line.split(' ')) for line in s.splitlines()]\n",
    "  pc = 0\n",
    "  registers: collections.defaultdict[str, int] = collections.defaultdict(int)\n",
    "  sound: int | None = None\n",
    "\n",
    "  def get(value: str) -> int:\n",
    "    return registers[value] if value.isalpha() else int(value)\n",
    "\n",
    "  while True:\n",
    "    assert 0 <= pc < len(instructions)\n",
    "    operation, operand, *rest = instructions[pc]\n",
    "    if operation == 'snd':\n",
    "      assert not rest\n",
    "      sound = get(operand)\n",
    "    elif operation == 'rcv':\n",
    "      assert not rest\n",
    "      if get(operand) != 0:\n",
    "        return sound\n",
    "    elif operation == 'set':\n",
    "      registers[operand] = get(*rest)\n",
    "    elif operation == 'add':\n",
    "      registers[operand] += get(*rest)\n",
    "    elif operation == 'mul':\n",
    "      registers[operand] *= get(*rest)\n",
    "    elif operation == 'mod':\n",
    "      registers[operand] %= get(*rest)\n",
    "    elif operation == 'jgz':\n",
    "      if get(operand) > 0:\n",
    "        pc += get(*rest) - 1\n",
    "    else:\n",
    "      raise AssertionError\n",
    "    pc += 1\n",
    "\n",
    "\n",
    "check_eq(day18(s1), 4)\n",
    "puzzle.verify(1, day18)"
   ]
  },
  {
   "cell_type": "code",
   "execution_count": 75,
   "id": "217be260-2798-4889-8888-dfba5494485b",
   "metadata": {
    "execution": {
     "iopub.execute_input": "2022-12-20T18:18:32.548244Z",
     "iopub.status.busy": "2022-12-20T18:18:32.547891Z",
     "iopub.status.idle": "2022-12-20T18:18:32.644992Z",
     "shell.execute_reply": "2022-12-20T18:18:32.644410Z",
     "shell.execute_reply.started": "2022-12-20T18:18:32.548229Z"
    },
    "tags": []
   },
   "outputs": [
    {
     "name": "stdout",
     "output_type": "stream",
     "text": [
      "(Part 2: 0.084 s)\n"
     ]
    }
   ],
   "source": [
    "def day18_part2(s):\n",
    "  instructions = [tuple(line.split(' ')) for line in s.splitlines()]\n",
    "  evaluate = {\n",
    "      'set': lambda _, b: b,\n",
    "      'add': lambda a, b: a + b,\n",
    "      'mul': lambda a, b: a * b,\n",
    "      'mod': lambda a, b: a % b,\n",
    "  }\n",
    "\n",
    "  @dataclasses.dataclass\n",
    "  class Program:\n",
    "    \"\"\"One of two programs running the shared `instructions`.\"\"\"\n",
    "\n",
    "    program_id: int\n",
    "    pc: int = 0\n",
    "    registers: collections.defaultdict[str, int] = dataclasses.field(\n",
    "        default_factory=lambda: collections.defaultdict(int)\n",
    "    )\n",
    "    queue: collections.deque[int] = dataclasses.field(default_factory=collections.deque)\n",
    "    total_sends: int = 0\n",
    "\n",
    "    def __post_init__(self):\n",
    "      self.registers['p'] = self.program_id\n",
    "\n",
    "    def get(self, value: str) -> int:\n",
    "      return self.registers[value] if value.isalpha() else int(value)\n",
    "\n",
    "    def execute(self) -> bool:\n",
    "      if not 0 <= self.pc < len(instructions):\n",
    "        return False\n",
    "      operation, operand, *rest = instructions[self.pc]\n",
    "      if operation == 'snd':\n",
    "        assert not rest\n",
    "        other_program = programs[1 - self.program_id]\n",
    "        other_program.queue.append(self.get(operand))\n",
    "        self.total_sends += 1\n",
    "      elif operation == 'rcv':\n",
    "        assert not rest\n",
    "        if not self.queue:\n",
    "          return False\n",
    "        self.registers[operand] = self.queue.popleft()\n",
    "      elif operation == 'jgz':\n",
    "        if self.get(operand) > 0:\n",
    "          self.pc += self.get(*rest) - 1\n",
    "      else:\n",
    "        self.registers[operand] = evaluate[operation](self.registers[operand], self.get(*rest))\n",
    "      self.pc += 1\n",
    "      return True\n",
    "\n",
    "  programs = [Program(0), Program(1)]\n",
    "  while programs[0].execute() or programs[1].execute():\n",
    "    pass\n",
    "  return programs[1].total_sends\n",
    "\n",
    "\n",
    "check_eq(day18_part2(s2), 3)\n",
    "puzzle.verify(2, day18_part2)"
   ]
  },
  {
   "cell_type": "markdown",
   "id": "00b59474",
   "metadata": {},
   "source": [
    "<a name=\"day19\"></a>\n",
    "## Day 19: Follow 2D paths"
   ]
  },
  {
   "cell_type": "markdown",
   "id": "d7ee8dcd",
   "metadata": {},
   "source": [
    "- Part 1: What are the letters along the path?\n",
    "\n",
    "- Part 2: How many steps does the packet need to go?"
   ]
  },
  {
   "cell_type": "code",
   "execution_count": 76,
   "id": "84fabebf",
   "metadata": {
    "execution": {
     "iopub.execute_input": "2022-12-20T18:18:32.645990Z",
     "iopub.status.busy": "2022-12-20T18:18:32.645727Z",
     "iopub.status.idle": "2022-12-20T18:18:32.657150Z",
     "shell.execute_reply": "2022-12-20T18:18:32.656579Z",
     "shell.execute_reply.started": "2022-12-20T18:18:32.645975Z"
    },
    "tags": []
   },
   "outputs": [
    {
     "data": {
      "text/markdown": [
       "For [day 19](https://adventofcode.com/2017/day/19), `puzzle.input` has 201 lines:"
      ],
      "text/plain": [
       "<IPython.core.display.Markdown object>"
      ]
     },
     "metadata": {},
     "output_type": "display_data"
    },
    {
     "name": "stdout",
     "output_type": "stream",
     "text": [
      "                                                                                 ...                  |                 \n",
      "     +-------------------------------------------------------------------------- ... -----------------|-------------+   \n",
      "     |                                                                           ...                  |             |   \n",
      "     |               +-+   +-------+     +-------------------------------------- ...            +---+ |     +-+ +---|-+ \n",
      "     |               | |   |       |     |                                       ...            |   | |     | | |   | | \n",
      "   +-|-+             | |   |       |     +-------------------------------------- ...            |   +-|---------|-+ | | \n",
      "   | | |             | |   |       |                                             ...            |     |     | | | | | | \n",
      " +-+ | |     +---------------------|-------------------------------------------- ... -----------|-----|-----+ | | | | | \n",
      " ...\n",
      " +-|---------------------------------------|---------------------+   |       +-- ... -|-------------+           +-----+ \n",
      "   |                                   |   |                     |   |           ...  |   |                             \n",
      "   +-----------------------------------+   +---------------------+   +---------- ...  +---+                             \n",
      "                                                                                 ...                                    \n"
     ]
    },
    {
     "data": {
      "text/markdown": [
       "The stored answers are: `{1: 'GEPYAWTMLK', 2: '17628'}`"
      ],
      "text/plain": [
       "<IPython.core.display.Markdown object>"
      ]
     },
     "metadata": {},
     "output_type": "display_data"
    }
   ],
   "source": [
    "puzzle = advent.puzzle(day=19)"
   ]
  },
  {
   "cell_type": "code",
   "execution_count": 77,
   "id": "88a7cb45-5ff7-4833-94db-42d369a8f621",
   "metadata": {
    "execution": {
     "iopub.execute_input": "2022-12-20T18:18:32.658165Z",
     "iopub.status.busy": "2022-12-20T18:18:32.657991Z",
     "iopub.status.idle": "2022-12-20T18:18:32.660972Z",
     "shell.execute_reply": "2022-12-20T18:18:32.660408Z",
     "shell.execute_reply.started": "2022-12-20T18:18:32.658151Z"
    },
    "tags": []
   },
   "outputs": [],
   "source": [
    "s1 = \"\"\"\\\n",
    "     |          X\n",
    "     |  +--+    X\n",
    "     A  |  C    X\n",
    " F---|----E|--+ X\n",
    "     |  |  |  D X\n",
    "     +B-+  +--+ X\n",
    "\"\"\".replace(\n",
    "    'X', ''\n",
    ")"
   ]
  },
  {
   "cell_type": "code",
   "execution_count": 78,
   "id": "372f03b1",
   "metadata": {
    "execution": {
     "iopub.execute_input": "2022-12-20T18:18:32.661997Z",
     "iopub.status.busy": "2022-12-20T18:18:32.661594Z",
     "iopub.status.idle": "2022-12-20T18:18:32.691547Z",
     "shell.execute_reply": "2022-12-20T18:18:32.690874Z",
     "shell.execute_reply.started": "2022-12-20T18:18:32.661985Z"
    },
    "tags": []
   },
   "outputs": [
    {
     "name": "stdout",
     "output_type": "stream",
     "text": [
      "(Part 1: 0.009 s)\n",
      "(Part 2: 0.009 s)\n"
     ]
    }
   ],
   "source": [
    "def day19(s, *, part2=False):\n",
    "  grid = hh.grid_from_string(s)  # shape=(201, 201).\n",
    "  grid = np.pad(grid, ((0, 1), (0, 1)), constant_values=' ')\n",
    "  # (y,), (x,) = np.nonzero(grid[:1] == '|')\n",
    "  ((y, x),) = np.argwhere(grid[:1] == '|')\n",
    "  dy, dx = 1, 0\n",
    "  letters = []\n",
    "  num_steps = 0\n",
    "\n",
    "  while True:\n",
    "    num_steps += 1\n",
    "    y, x = y + dy, x + dx\n",
    "    ch = grid[y, x]\n",
    "    if ch.isalpha():\n",
    "      letters.append(ch)\n",
    "    elif ch == '+':\n",
    "      dy, dx = dx, dy  # One of the two 90-degree rotations.\n",
    "      if grid[y + dy, x + dx] == ' ':\n",
    "        dy, dx = -dy, -dx  # The other possible 90-degree rotation.\n",
    "      if grid[y + dy, x + dx] == ' ':\n",
    "        raise AssertionError\n",
    "    elif ch == ' ':\n",
    "      return num_steps if part2 else ''.join(letters)\n",
    "    else:\n",
    "      assert ch in '|-', ch\n",
    "\n",
    "\n",
    "check_eq(day19(s1), 'ABCDEF')\n",
    "puzzle.verify(1, day19)\n",
    "\n",
    "day19_part2 = functools.partial(day19, part2=True)\n",
    "check_eq(day19_part2(s1), 38)\n",
    "puzzle.verify(2, day19_part2)"
   ]
  },
  {
   "cell_type": "markdown",
   "id": "1822e34f",
   "metadata": {},
   "source": [
    "<a name=\"day20\"></a>\n",
    "## Day 20: Accelerating 3D particles"
   ]
  },
  {
   "cell_type": "markdown",
   "id": "bfbaf6de",
   "metadata": {},
   "source": [
    "- Part 1: Which particle will stay closest to position <0,0,0> in the long term?\n",
    "\n",
    "- Part 2: How many particles are left after all collisions are resolved?"
   ]
  },
  {
   "cell_type": "code",
   "execution_count": 30,
   "id": "0f49f46b",
   "metadata": {
    "execution": {
     "iopub.execute_input": "2023-01-01T17:25:04.106334Z",
     "iopub.status.busy": "2023-01-01T17:25:04.105864Z",
     "iopub.status.idle": "2023-01-01T17:25:04.122509Z",
     "shell.execute_reply": "2023-01-01T17:25:04.121957Z",
     "shell.execute_reply.started": "2023-01-01T17:25:04.106318Z"
    },
    "tags": []
   },
   "outputs": [
    {
     "data": {
      "text/markdown": [
       "For [day 20](https://adventofcode.com/2017/day/20), `puzzle.input` has 1_000 lines:"
      ],
      "text/plain": [
       "<IPython.core.display.Markdown object>"
      ]
     },
     "metadata": {},
     "output_type": "display_data"
    },
    {
     "name": "stdout",
     "output_type": "stream",
     "text": [
      "p=<-1724,-1700,5620>, v=<44,-10,-107>, a=<2,6,-9>\n",
      "p=<551,3425,4570>, v=<-21,-7,-182>, a=<0,-10,0>\n",
      "p=<-524,-3400,2495>, v=<22,19,5>, a=<0,9,-8>\n",
      "p=<-123,-125,419>, v=<25,54,-12>, a=<-2,-5,-2>\n",
      "p=<-3811,3483,1459>, v=<162,-112,-26>, a=<9,-12,-8>\n",
      "p=<-827,475,771>, v=<52,-26,0>, a=<0,0,-6>\n",
      "p=<293,1547,-669>, v=<-18,-93,-12>, a=<0,0,6>\n",
      "p=<-251,-165,2787>, v=<16,-3,-160>, a=<0,2,-2>\n",
      " ...\n",
      "p=<-1317,-1290,-1820>, v=<-189,-180,-258>, a=<11,12,24>\n",
      "p=<2382,-652,1487>, v=<343,-96,213>, a=<-23,3,-10>\n",
      "p=<-265,-2330,-2153>, v=<-32,-334,-305>, a=<1,20,18>\n",
      "p=<995,1767,1881>, v=<141,252,264>, a=<-9,-12,-14>\n"
     ]
    },
    {
     "data": {
      "text/markdown": [
       "The stored answers are: `{1: '150', 2: '657'}`"
      ],
      "text/plain": [
       "<IPython.core.display.Markdown object>"
      ]
     },
     "metadata": {},
     "output_type": "display_data"
    }
   ],
   "source": [
    "puzzle = advent.puzzle(day=20)"
   ]
  },
  {
   "cell_type": "code",
   "execution_count": 31,
   "id": "102b8069-f845-4c22-ab1f-d7f001ba72c9",
   "metadata": {
    "execution": {
     "iopub.execute_input": "2023-01-01T17:25:04.844389Z",
     "iopub.status.busy": "2023-01-01T17:25:04.843925Z",
     "iopub.status.idle": "2023-01-01T17:25:04.846976Z",
     "shell.execute_reply": "2023-01-01T17:25:04.846487Z",
     "shell.execute_reply.started": "2023-01-01T17:25:04.844373Z"
    },
    "tags": []
   },
   "outputs": [],
   "source": [
    "s1 = \"\"\"\\\n",
    "p=< 3,0,0>, v=< 2,0,0>, a=<-1,0,0>\n",
    "p=< 4,0,0>, v=< 0,0,0>, a=<-2,0,0>\n",
    "\"\"\""
   ]
  },
  {
   "cell_type": "code",
   "execution_count": 32,
   "id": "8412bb24-b018-4704-923b-50e347887c64",
   "metadata": {
    "execution": {
     "iopub.execute_input": "2023-01-01T17:25:05.412463Z",
     "iopub.status.busy": "2023-01-01T17:25:05.412028Z",
     "iopub.status.idle": "2023-01-01T17:25:05.415319Z",
     "shell.execute_reply": "2023-01-01T17:25:05.414737Z",
     "shell.execute_reply.started": "2023-01-01T17:25:05.412446Z"
    },
    "tags": []
   },
   "outputs": [],
   "source": [
    "s2 = \"\"\"\\\n",
    "p=<-6,0,0>, v=< 3,0,0>, a=< 0,0,0>\n",
    "p=<-4,0,0>, v=< 2,0,0>, a=< 0,0,0>\n",
    "p=<-2,0,0>, v=< 1,0,0>, a=< 0,0,0>\n",
    "p=< 3,0,0>, v=<-1,0,0>, a=< 0,0,0>\n",
    "\"\"\""
   ]
  },
  {
   "cell_type": "code",
   "execution_count": 33,
   "id": "41d2ceaa-bd6f-41a9-bdfb-6e3bee1f0a08",
   "metadata": {
    "execution": {
     "iopub.execute_input": "2023-01-01T17:25:06.493323Z",
     "iopub.status.busy": "2023-01-01T17:25:06.492934Z",
     "iopub.status.idle": "2023-01-01T17:25:06.549390Z",
     "shell.execute_reply": "2023-01-01T17:25:06.548791Z",
     "shell.execute_reply.started": "2023-01-01T17:25:06.493303Z"
    },
    "tags": []
   },
   "outputs": [
    {
     "name": "stdout",
     "output_type": "stream",
     "text": [
      "(Part 1: 0.005 s)\n",
      "(Part 2: 0.033 s)\n"
     ]
    }
   ],
   "source": [
    "def day20(s, *, part2=False):\n",
    "  lines = s.splitlines()\n",
    "\n",
    "  def parse(ch: str) -> np.ndarray:\n",
    "    pattern = ch + r'=<([0-9 -]+),([0-9 -]+),([0-9 -]+)>'\n",
    "    return np.array([hh.re_groups(pattern, line) for line in lines], int)\n",
    "\n",
    "  position, velocity, acceleration = (parse(ch) for ch in 'pva')\n",
    "\n",
    "  if not part2:\n",
    "    time = 1_000_000\n",
    "    position = position + velocity * time + acceleration * (time * (time + 1) // 2)\n",
    "    return np.abs(position).sum(axis=1).argmin()\n",
    "\n",
    "  for time in range(200):\n",
    "    velocity += acceleration\n",
    "    position += velocity\n",
    "    unused_unique, index, counts = np.unique(\n",
    "        position, axis=0, return_index=True, return_counts=True\n",
    "    )\n",
    "    index = index[counts == 1]  # Indices of non-intersecting particles.\n",
    "    position, velocity, acceleration = position[index], velocity[index], acceleration[index]\n",
    "\n",
    "  return len(position)\n",
    "\n",
    "\n",
    "check_eq(day20(s1), 0)\n",
    "puzzle.verify(1, day20)\n",
    "\n",
    "day20_part2 = functools.partial(day20, part2=True)\n",
    "check_eq(day20_part2(s2), 1)\n",
    "puzzle.verify(2, day20_part2)"
   ]
  },
  {
   "cell_type": "markdown",
   "id": "de686d55",
   "metadata": {},
   "source": [
    "<a name=\"day21\"></a>\n",
    "## Day 21: Super-resolution using rules"
   ]
  },
  {
   "cell_type": "markdown",
   "id": "53ac69d3",
   "metadata": {},
   "source": [
    "- Part 1: How many pixels stay on after 5 iterations?\n",
    "\n",
    "- Part 2: How many pixels stay on after 18 iterations?"
   ]
  },
  {
   "cell_type": "code",
   "execution_count": 13,
   "id": "45bdfd6f",
   "metadata": {
    "execution": {
     "iopub.execute_input": "2022-12-28T07:07:45.815431Z",
     "iopub.status.busy": "2022-12-28T07:07:45.814882Z",
     "iopub.status.idle": "2022-12-28T07:07:45.826214Z",
     "shell.execute_reply": "2022-12-28T07:07:45.825563Z",
     "shell.execute_reply.started": "2022-12-28T07:07:45.815413Z"
    },
    "tags": []
   },
   "outputs": [
    {
     "data": {
      "text/markdown": [
       "For [day 21](https://adventofcode.com/2017/day/21), `puzzle.input` has 108 lines:"
      ],
      "text/plain": [
       "<IPython.core.display.Markdown object>"
      ]
     },
     "metadata": {},
     "output_type": "display_data"
    },
    {
     "name": "stdout",
     "output_type": "stream",
     "text": [
      "../.. => ###/###/.##\n",
      "#./.. => ..#/###/##.\n",
      "##/.. => ..#/##./##.\n",
      ".#/#. => #../.#./.##\n",
      "##/#. => #.#/###/.#.\n",
      "##/## => ##./.../.#.\n",
      ".../.../... => ...#/.#../#.#./##.#\n",
      "#../.../... => .#.#/.#../####/###.\n",
      " ...\n",
      "#.#/###/#.# => ..#./####/.#../##.#\n",
      "###/###/#.# => ..../.#.#/..../...#\n",
      "###/#.#/### => #.#./..##/##.#/....\n",
      "###/###/### => ..#./#.##/####/###.\n"
     ]
    },
    {
     "data": {
      "text/markdown": [
       "The stored answers are: `{1: '208', 2: '2480380'}`"
      ],
      "text/plain": [
       "<IPython.core.display.Markdown object>"
      ]
     },
     "metadata": {},
     "output_type": "display_data"
    }
   ],
   "source": [
    "puzzle = advent.puzzle(day=21)"
   ]
  },
  {
   "cell_type": "code",
   "execution_count": 14,
   "id": "68f67ead-3e21-46de-9b26-460d826cbf3b",
   "metadata": {
    "execution": {
     "iopub.execute_input": "2022-12-28T07:07:46.104834Z",
     "iopub.status.busy": "2022-12-28T07:07:46.104493Z",
     "iopub.status.idle": "2022-12-28T07:07:46.107930Z",
     "shell.execute_reply": "2022-12-28T07:07:46.107400Z",
     "shell.execute_reply.started": "2022-12-28T07:07:46.104817Z"
    },
    "tags": []
   },
   "outputs": [],
   "source": [
    "s1 = \"\"\"\\\n",
    "../.# => ##./#../...\n",
    ".#./..#/### => #..#/..../..../#..#\n",
    "\"\"\""
   ]
  },
  {
   "cell_type": "code",
   "execution_count": 15,
   "id": "81903851-73df-498a-bbdc-c088b114eea4",
   "metadata": {
    "execution": {
     "iopub.execute_input": "2022-12-28T07:07:47.011135Z",
     "iopub.status.busy": "2022-12-28T07:07:47.010729Z",
     "iopub.status.idle": "2022-12-28T07:07:47.114766Z",
     "shell.execute_reply": "2022-12-28T07:07:47.114124Z",
     "shell.execute_reply.started": "2022-12-28T07:07:47.011118Z"
    },
    "tags": []
   },
   "outputs": [
    {
     "name": "stdout",
     "output_type": "stream",
     "text": [
      "(Part 1: 0.009 s)\n",
      "(Part 2: 0.085 s)\n"
     ]
    }
   ],
   "source": [
    "def day21(s, *, num_iterations=5, visualize=False):\n",
    "  def get_grid(s: str) -> np.ndarray:\n",
    "    return (np.array([list(row) for row in s.split('/')]) == '#').astype(int)\n",
    "\n",
    "  rules = {2: np.full((2**4, 3, 3), 0), 3: np.full((2**9, 4, 4), 0)}\n",
    "  for line in s.splitlines():\n",
    "    grid_lhs, grid_rhs = map(get_grid, line.split(' => '))\n",
    "    size = grid_lhs.shape[0]\n",
    "    for _ in range(2):\n",
    "      grid_lhs = np.fliplr(grid_lhs)\n",
    "      for _ in range(4):\n",
    "        grid_lhs = np.rot90(grid_lhs)\n",
    "        encoded = grid_lhs.reshape(-1).dot(2 ** np.arange(size**2))\n",
    "        rules[size][encoded] = grid_rhs\n",
    "\n",
    "  grid = np.array([[0, 1, 0], [0, 0, 1], [1, 1, 1]])\n",
    "\n",
    "  grids = []\n",
    "  for index in range(num_iterations):\n",
    "    if visualize and index < 13:\n",
    "      grids.append(grid == 0)\n",
    "    n = grid.shape[0]\n",
    "    size = 2 if n % 2 == 0 else 3\n",
    "    new_size = {2: 3, 3: 4}[size]\n",
    "    m = n // size\n",
    "    new_n = m * new_size\n",
    "    grid_blocks = grid.reshape((m, size, m, size)).transpose(0, 2, 1, 3).reshape((m, m, size**2))\n",
    "    encoded = grid_blocks.dot(2 ** np.arange(size**2))\n",
    "    new_blocks = rules[size][encoded]\n",
    "    grid = new_blocks.transpose(0, 2, 1, 3).reshape(new_n, new_n)\n",
    "\n",
    "  if visualize:\n",
    "    combined = hh.assemble_arrays(grids, (1, -1), background=True, spacing=8)\n",
    "    combined = np.pad(combined, 4, constant_values=True)\n",
    "    media.show_image(combined, border=True, title='day21')\n",
    "\n",
    "  return np.sum(grid)\n",
    "\n",
    "\n",
    "check_eq(day21(s1, num_iterations=2), 12)\n",
    "puzzle.verify(1, day21)\n",
    "\n",
    "day21_part2 = functools.partial(day21, num_iterations=18)  # grid.shape = (2187, 2187)\n",
    "puzzle.verify(2, day21_part2)"
   ]
  },
  {
   "cell_type": "code",
   "execution_count": 86,
   "id": "9c4cf87e-fb53-437f-b21d-15a8e0c89380",
   "metadata": {
    "execution": {
     "iopub.execute_input": "2022-12-20T18:18:32.901608Z",
     "iopub.status.busy": "2022-12-20T18:18:32.901191Z",
     "iopub.status.idle": "2022-12-20T18:18:32.995210Z",
     "shell.execute_reply": "2022-12-20T18:18:32.994660Z",
     "shell.execute_reply.started": "2022-12-20T18:18:32.901591Z"
    },
    "tags": []
   },
   "outputs": [
    {
     "data": {
      "text/html": [
       "<table class=\"show_images\" style=\"border-spacing:0px;\"><tr><td style=\"padding:1px;\"><img width=\"867\" height=\"251\" style=\"border:1px solid black; image-rendering:pixelated; object-fit:cover;\" src=\"data:image/png;base64,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\"/></td></tr></table>"
      ],
      "text/plain": [
       "<IPython.core.display.HTML object>"
      ]
     },
     "metadata": {},
     "output_type": "display_data"
    }
   ],
   "source": [
    "_ = day21_part2(puzzle.input, visualize=True)"
   ]
  },
  {
   "cell_type": "markdown",
   "id": "bda78396",
   "metadata": {},
   "source": [
    "<a name=\"day22\"></a>\n",
    "## Day 22: Turtle graphics automaton"
   ]
  },
  {
   "cell_type": "markdown",
   "id": "74e2f94e",
   "metadata": {},
   "source": [
    "- Part 1: Given your actual map, after 10000 bursts of activity, how many bursts cause a node to become infected? (Do not count nodes that begin infected.)\n",
    "\n",
    "- Part 2: With the addition of Weakened and Flagged, after 10000000 bursts of activity, how many bursts cause a node to become infected?"
   ]
  },
  {
   "cell_type": "code",
   "execution_count": 87,
   "id": "8bcda611",
   "metadata": {
    "execution": {
     "iopub.execute_input": "2022-12-20T18:18:32.996116Z",
     "iopub.status.busy": "2022-12-20T18:18:32.995822Z",
     "iopub.status.idle": "2022-12-20T18:18:33.005377Z",
     "shell.execute_reply": "2022-12-20T18:18:33.004887Z",
     "shell.execute_reply.started": "2022-12-20T18:18:32.996104Z"
    },
    "tags": []
   },
   "outputs": [
    {
     "data": {
      "text/markdown": [
       "For [day 22](https://adventofcode.com/2017/day/22), `puzzle.input` has 25 lines:"
      ],
      "text/plain": [
       "<IPython.core.display.Markdown object>"
      ]
     },
     "metadata": {},
     "output_type": "display_data"
    },
    {
     "name": "stdout",
     "output_type": "stream",
     "text": [
      "...#.##.#.#.#.#..##.###.#\n",
      "......##.....#####..#.#.#\n",
      "#..####.######.#.#.##...#\n",
      "...##..####........#.#.#.\n",
      ".#.#####..#.....#######..\n",
      ".#...#.#.##.#.#.....#....\n",
      ".#.#.#.#.#####.#.#..#...#\n",
      "###..##.###.#.....#...#.#\n",
      " ...\n",
      "##.##..####..##.##.##.##.\n",
      "#...####.######.#...##...\n",
      ".###..##.##..##.####....#\n",
      "#.##....#.#.#..#.###..##.\n"
     ]
    },
    {
     "data": {
      "text/markdown": [
       "The stored answers are: `{1: '5406', 2: '2511640'}`"
      ],
      "text/plain": [
       "<IPython.core.display.Markdown object>"
      ]
     },
     "metadata": {},
     "output_type": "display_data"
    }
   ],
   "source": [
    "puzzle = advent.puzzle(day=22)"
   ]
  },
  {
   "cell_type": "code",
   "execution_count": 88,
   "id": "93c86d61-2fa2-42bb-8a1f-c5e364e90671",
   "metadata": {
    "execution": {
     "iopub.execute_input": "2022-12-20T18:18:33.006181Z",
     "iopub.status.busy": "2022-12-20T18:18:33.005947Z",
     "iopub.status.idle": "2022-12-20T18:18:33.009119Z",
     "shell.execute_reply": "2022-12-20T18:18:33.008513Z",
     "shell.execute_reply.started": "2022-12-20T18:18:33.006169Z"
    },
    "tags": []
   },
   "outputs": [],
   "source": [
    "s1 = \"\"\"\\\n",
    "..#\n",
    "#..\n",
    "...\n",
    "\"\"\""
   ]
  },
  {
   "cell_type": "code",
   "execution_count": 89,
   "id": "61728d7f-de11-4d07-9b77-bf50179c4748",
   "metadata": {
    "execution": {
     "iopub.execute_input": "2022-12-20T18:18:33.009990Z",
     "iopub.status.busy": "2022-12-20T18:18:33.009716Z",
     "iopub.status.idle": "2022-12-20T18:18:35.285524Z",
     "shell.execute_reply": "2022-12-20T18:18:35.284929Z",
     "shell.execute_reply.started": "2022-12-20T18:18:33.009978Z"
    },
    "tags": []
   },
   "outputs": [
    {
     "name": "stdout",
     "output_type": "stream",
     "text": [
      "(Part 1: 0.003 s)\n"
     ]
    },
    {
     "data": {
      "text/html": [
       "<table class=\"show_images\" style=\"border-spacing:0px;\"><tr><td style=\"padding:1px;\"><img width=\"363\" height=\"413\" style=\"image-rendering:pixelated; object-fit:cover;\" src=\"data:image/png;base64,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\"/></td></tr></table>"
      ],
      "text/plain": [
       "<IPython.core.display.HTML object>"
      ]
     },
     "metadata": {},
     "output_type": "display_data"
    }
   ],
   "source": [
    "def day22a(s, *, num_iterations=10_000, part2=False, visualize=False):\n",
    "  initial_grid = hh.grid_from_string(s)\n",
    "  cy, cx = np.array(initial_grid.shape) // 2\n",
    "  grid = {(y - cy, x - cx): '#' for y, x in np.argwhere(initial_grid == '#')}\n",
    "  y, x = 0, 0\n",
    "  dy, dx = -1, 0  # Up direction.\n",
    "  num_newly_infected = 0\n",
    "  UPDATE = {' ': 'W', 'W': '#', '#': 'F', 'F': ' '} if part2 else {' ': '#', '#': ' '}\n",
    "  cmap = {' ': (235, 235, 235), '#': (255, 0, 0), 'W': (50, 50, 200), 'F': (0, 150, 0)}\n",
    "\n",
    "  for _ in range(num_iterations):\n",
    "    state = grid.get((y, x), ' ')\n",
    "    if state == ' ':\n",
    "      dy, dx = -dx, dy  # Turn left.\n",
    "    elif state == '#':\n",
    "      dy, dx = dx, -dy  # Turn right.\n",
    "    elif state == 'F':\n",
    "      dy, dx = -dy, -dx  # Make U-turn.\n",
    "    grid[y, x] = new_state = UPDATE[state]\n",
    "    num_newly_infected += new_state == '#'\n",
    "    y, x = y + dy, x + dx\n",
    "\n",
    "  if visualize:\n",
    "    # hh.show(max(abs(x) + abs(y) for y, x in grid))  # 335\n",
    "    image = hh.image_from_yx_map(grid, background=' ', cmap=cmap)\n",
    "    media.show_image(image, title='day22')\n",
    "\n",
    "  return num_newly_infected\n",
    "\n",
    "\n",
    "check_eq(day22a(s1, num_iterations=7), 5)\n",
    "check_eq(day22a(s1, num_iterations=70), 41)\n",
    "check_eq(day22a(s1), 5587)\n",
    "puzzle.verify(1, day22a)\n",
    "\n",
    "day22a_part2 = functools.partial(day22a, num_iterations=10_000_000, part2=True)\n",
    "check_eq(day22a_part2(s1, num_iterations=100), 26)\n",
    "# check_eq(day22a_part2(s1), 2_511_944)\n",
    "# puzzle.verify(2, day22a_part2)  # ~2.2 s.\n",
    "\n",
    "_ = day22a_part2(puzzle.input, visualize=True)"
   ]
  },
  {
   "cell_type": "code",
   "execution_count": 90,
   "id": "faabf896-aa6d-4990-9741-092605a0b406",
   "metadata": {
    "execution": {
     "iopub.execute_input": "2022-12-20T18:18:35.286561Z",
     "iopub.status.busy": "2022-12-20T18:18:35.286262Z",
     "iopub.status.idle": "2022-12-20T18:18:35.564507Z",
     "shell.execute_reply": "2022-12-20T18:18:35.563819Z",
     "shell.execute_reply.started": "2022-12-20T18:18:35.286544Z"
    },
    "tags": []
   },
   "outputs": [
    {
     "name": "stdout",
     "output_type": "stream",
     "text": [
      "(Part 1: 0.000 s)\n",
      "(Part 2: 0.052 s)\n"
     ]
    }
   ],
   "source": [
    "@numba.njit  # ~3.9 s -> ~0.05 s.\n",
    "def day22_compute(grid: np.ndarray, num_iterations: int, update: tuple[int, ...]) -> int:\n",
    "  y, x = grid.shape[0] // 2, grid.shape[1] // 2\n",
    "  dy, dx = -1, 0  # Up direction.\n",
    "  num_newly_infected = 0\n",
    "  for _ in range(num_iterations):\n",
    "    state = grid[y, x]\n",
    "    if state == 0:\n",
    "      dy, dx = -dx, dy  # Turn left.\n",
    "    elif state == 1:\n",
    "      dy, dx = dx, -dy  # Turn right.\n",
    "    elif state == 3:\n",
    "      dy, dx = -dy, -dx  # Make U-turn.\n",
    "    grid[y, x] = new_state = update[state]\n",
    "    num_newly_infected += new_state == 1\n",
    "    y, x = y + dy, x + dx\n",
    "  return num_newly_infected\n",
    "\n",
    "\n",
    "def day22(s, *, num_iterations=10_000, part2=False):\n",
    "  grid = hh.grid_from_string(s, {'.': 0, '#': 1})  # Later also: {'W': 2, 'F': 3}.\n",
    "  pad = 500 if part2 else 200\n",
    "  grid = np.pad(grid, pad)\n",
    "  update = (2, 3, 1, 0) if part2 else (1, 0)\n",
    "  return day22_compute(grid, num_iterations, update)\n",
    "\n",
    "\n",
    "check_eq(day22(s1, num_iterations=7), 5)\n",
    "check_eq(day22(s1, num_iterations=70), 41)\n",
    "check_eq(day22(s1), 5587)\n",
    "puzzle.verify(1, day22)\n",
    "\n",
    "day22_part2 = functools.partial(day22, num_iterations=10_000_000, part2=True)\n",
    "check_eq(day22_part2(s1, num_iterations=100), 26)\n",
    "check_eq(day22_part2(s1), 2_511_944)\n",
    "puzzle.verify(2, day22_part2)"
   ]
  },
  {
   "cell_type": "markdown",
   "id": "db8b76cf",
   "metadata": {},
   "source": [
    "<a name=\"day23\"></a>\n",
    "## Day 23: Reverse-engineer program"
   ]
  },
  {
   "cell_type": "markdown",
   "id": "7191d0a6",
   "metadata": {},
   "source": [
    "- Part 1: If you run the program (your puzzle input), how many times is the mul instruction invoked?\n",
    "\n",
    "- Part 2: After setting register a to 1, if the program were to run to completion, what value would be left in register h?"
   ]
  },
  {
   "cell_type": "code",
   "execution_count": 91,
   "id": "e2c051bd",
   "metadata": {
    "execution": {
     "iopub.execute_input": "2022-12-20T18:18:35.565504Z",
     "iopub.status.busy": "2022-12-20T18:18:35.565293Z",
     "iopub.status.idle": "2022-12-20T18:18:35.575604Z",
     "shell.execute_reply": "2022-12-20T18:18:35.575086Z",
     "shell.execute_reply.started": "2022-12-20T18:18:35.565490Z"
    },
    "tags": []
   },
   "outputs": [
    {
     "data": {
      "text/markdown": [
       "For [day 23](https://adventofcode.com/2017/day/23), `puzzle.input` has 32 lines:"
      ],
      "text/plain": [
       "<IPython.core.display.Markdown object>"
      ]
     },
     "metadata": {},
     "output_type": "display_data"
    },
    {
     "name": "stdout",
     "output_type": "stream",
     "text": [
      "set b 84\n",
      "set c b\n",
      "jnz a 2\n",
      "jnz 1 5\n",
      "mul b 100\n",
      "sub b -100000\n",
      "set c b\n",
      "sub c -17000\n",
      " ...\n",
      "jnz g 2\n",
      "jnz 1 3\n",
      "sub b -17\n",
      "jnz 1 -23\n"
     ]
    },
    {
     "data": {
      "text/markdown": [
       "The stored answers are: `{1: '6724', 2: '903'}`"
      ],
      "text/plain": [
       "<IPython.core.display.Markdown object>"
      ]
     },
     "metadata": {},
     "output_type": "display_data"
    }
   ],
   "source": [
    "puzzle = advent.puzzle(day=23)"
   ]
  },
  {
   "cell_type": "code",
   "execution_count": 92,
   "id": "c5c94b34-1720-4c27-8fd2-0e4ff84af878",
   "metadata": {
    "execution": {
     "iopub.execute_input": "2022-12-20T18:18:35.576598Z",
     "iopub.status.busy": "2022-12-20T18:18:35.576299Z",
     "iopub.status.idle": "2022-12-20T18:18:35.597562Z",
     "shell.execute_reply": "2022-12-20T18:18:35.597042Z",
     "shell.execute_reply.started": "2022-12-20T18:18:35.576584Z"
    },
    "tags": []
   },
   "outputs": [
    {
     "name": "stdout",
     "output_type": "stream",
     "text": [
      "(Part 1: 0.011 s)\n",
      "(Part 2: 0.002 s)\n"
     ]
    }
   ],
   "source": [
    "def day23(s, *, part2=False):\n",
    "  instructions = [tuple(line.split(' ')) for line in s.splitlines()]\n",
    "  pc = 0\n",
    "  registers = collections.defaultdict(int)\n",
    "  num_mul = 0\n",
    "  registers['a'] = 1 if part2 else 0\n",
    "\n",
    "  def get(value: str) -> int:\n",
    "    return registers[value] if value.isalpha() else int(value)\n",
    "\n",
    "  def is_prime(n: int) -> bool:\n",
    "    return n > 1 and all(n % i != 0 for i in range(2, math.isqrt(n) + 1))\n",
    "\n",
    "  while 0 <= pc < len(instructions):\n",
    "    # hh.show(pc, instructions[pc])\n",
    "    if part2 and pc == 8:\n",
    "      # Big optimization: directly compute the number of non-primes in range(b, c + 1, 17).\n",
    "      result = sum(not is_prime(i) for i in range(get('b'), get('c') + 1, 17))\n",
    "      return result\n",
    "    operation, operand, operand2 = instructions[pc]\n",
    "    if operation == 'set':\n",
    "      registers[operand] = get(operand2)\n",
    "    elif operation == 'sub':\n",
    "      registers[operand] -= get(operand2)\n",
    "    elif operation == 'mul':\n",
    "      registers[operand] *= get(operand2)\n",
    "      num_mul += 1\n",
    "    elif operation == 'jnz':\n",
    "      if get(operand) != 0:\n",
    "        pc += get(operand2) - 1\n",
    "    else:\n",
    "      raise AssertionError\n",
    "    pc += 1\n",
    "\n",
    "  return num_mul\n",
    "\n",
    "\n",
    "puzzle.verify(1, day23)\n",
    "\n",
    "day23_part2 = functools.partial(day23, part2=True)\n",
    "puzzle.verify(2, day23_part2)"
   ]
  },
  {
   "cell_type": "code",
   "execution_count": 93,
   "id": "d95efc77-3e80-4f74-8c43-0c5690bb5aff",
   "metadata": {
    "execution": {
     "iopub.execute_input": "2022-12-20T18:18:35.598445Z",
     "iopub.status.busy": "2022-12-20T18:18:35.598221Z",
     "iopub.status.idle": "2022-12-20T18:18:35.605695Z",
     "shell.execute_reply": "2022-12-20T18:18:35.605253Z",
     "shell.execute_reply.started": "2022-12-20T18:18:35.598433Z"
    },
    "tags": []
   },
   "outputs": [],
   "source": [
    "# print('\\n'.join(f'# L{i:02} {line:14} # ' for i, line in enumerate(puzzle.input.splitlines())))\n",
    "\n",
    "# L00 set b 84|93    # b = 84|93\n",
    "# L01 set c b        # c = b\n",
    "# L02 jnz a 2        # if a != 0: jmp L04\n",
    "# L03 jnz 1 5        # jmp L08\n",
    "\n",
    "# L04 mul b 100      # b *= 100\n",
    "# L05 sub b -100000  # b += 100_000\n",
    "# L06 set c b        # c = b\n",
    "# L07 sub c -17000   # c += 17_000\n",
    "\n",
    "# L08 set f 1        # f = 1\n",
    "# L09 set d 2        # d = 2\n",
    "\n",
    "# L10 set e 2        # e = 2\n",
    "\n",
    "# L11 set g d        # g = d\n",
    "# L12 mul g e        # g *= e\n",
    "# L13 sub g b        # g -= b\n",
    "# L14 jnz g 2        # if g != 0: goto L16\n",
    "# L15 set f 0        # f = 0\n",
    "\n",
    "# L16 sub e -1       # e += 1\n",
    "# L17 set g e        # g = e\n",
    "# L18 sub g b        # g -= b\n",
    "# L19 jnz g -8       # if g != 0: goto L11\n",
    "# L20 sub d -1       # d += 1\n",
    "# L21 set g d        # g = d\n",
    "# L22 sub g b        # g -= b\n",
    "# L23 jnz g -13      # if g != 0: goto L10\n",
    "# L24 jnz f 2        # if f != 0: goto L26\n",
    "# L25 sub h -1       # h += 1\n",
    "\n",
    "# L26 set g b        # g = b\n",
    "# L27 sub g c        # g -= c\n",
    "# L28 jnz g 2        # if g != 0: goto L30\n",
    "# L29 jnz 1 3        # exit\n",
    "\n",
    "# L30 sub b -17      # b += 17\n",
    "# L31 jnz 1 -23      # goto L08"
   ]
  },
  {
   "cell_type": "code",
   "execution_count": 94,
   "id": "6d834309-a041-45e5-8733-d72294bc907e",
   "metadata": {
    "execution": {
     "iopub.execute_input": "2022-12-20T18:18:35.606302Z",
     "iopub.status.busy": "2022-12-20T18:18:35.606181Z",
     "iopub.status.idle": "2022-12-20T18:18:35.617432Z",
     "shell.execute_reply": "2022-12-20T18:18:35.616698Z",
     "shell.execute_reply.started": "2022-12-20T18:18:35.606291Z"
    }
   },
   "outputs": [],
   "source": [
    "# L00 set b 93       #\n",
    "# L01 set c b        #\n",
    "# L04 mul b 100      #\n",
    "# L05 sub b -100000  # b = 109_300\n",
    "# L06 set c b        #\n",
    "# L07 sub c -17000   # c = 126_300\n",
    "\n",
    "# With a=0: b=93 c=93 num=1\n",
    "# With a=1: b=109_300 c=126_301 num=1000\n",
    "\n",
    "#                    # for b in range(b, c + 1, 17):\n",
    "# L08 set f 1        #   f = 1\n",
    "# L09 set d 2        #   d = 2\n",
    "\n",
    "# L10 set e 2        #   for e in range(2, b + 1):\n",
    "# L11 set g d        #\n",
    "# L12 mul g e        #\n",
    "# L13 sub g b        #\n",
    "# L14 jnz g 2        #     if d * e == b: f = 0   # if b % d == 0: f = 0\n",
    "# L15 set f 0        #\n",
    "# L16 sub e -1       #\n",
    "# L17 set g e        #\n",
    "# L18 sub g b        #\n",
    "# L19 jnz g -8       #\n",
    "# L20 sub d -1       #   d += 1\n",
    "# L21 set g d        #\n",
    "# L22 sub g b        #\n",
    "# L23 jnz g -13      #   if d != b: goto L10\n",
    "# L24 jnz f 2        #   if f == 0:\n",
    "# L25 sub h -1       #     h += 1\n",
    "# L26 set g b        #\n",
    "# L27 sub g c        #\n",
    "# L28 jnz g 2        #\n",
    "# L30 sub b -17      #\n",
    "# L31 jnz 1 -23      #"
   ]
  },
  {
   "cell_type": "code",
   "execution_count": 95,
   "id": "cf5efec6-a898-4920-a120-1c6d171e7292",
   "metadata": {
    "execution": {
     "iopub.execute_input": "2022-12-20T18:18:35.619023Z",
     "iopub.status.busy": "2022-12-20T18:18:35.618524Z",
     "iopub.status.idle": "2022-12-20T18:18:35.629406Z",
     "shell.execute_reply": "2022-12-20T18:18:35.628786Z",
     "shell.execute_reply.started": "2022-12-20T18:18:35.618999Z"
    }
   },
   "outputs": [],
   "source": [
    "# for b in range(b, c + 1, 17):\n",
    "#   f = 1\n",
    "#\n",
    "#   for d in range(2, b + 1):\n",
    "#     if b % d == 0: f = 0\n",
    "#\n",
    "#   if f == 0:\n",
    "#     h += 1"
   ]
  },
  {
   "cell_type": "markdown",
   "id": "3b13b642",
   "metadata": {},
   "source": [
    "<a name=\"day24\"></a>\n",
    "## Day 24: Long domino chains"
   ]
  },
  {
   "cell_type": "markdown",
   "id": "db829949",
   "metadata": {},
   "source": [
    "- Part 1: What is the strength of the strongest bridge you can make with the components you have available?\n",
    "\n",
    "- Part 2: Of all bridges of the longest possible length, what is the strength of the strongest one?"
   ]
  },
  {
   "cell_type": "code",
   "execution_count": 96,
   "id": "3644b9cf",
   "metadata": {
    "execution": {
     "iopub.execute_input": "2022-12-20T18:18:35.630305Z",
     "iopub.status.busy": "2022-12-20T18:18:35.630141Z",
     "iopub.status.idle": "2022-12-20T18:18:35.645535Z",
     "shell.execute_reply": "2022-12-20T18:18:35.644936Z",
     "shell.execute_reply.started": "2022-12-20T18:18:35.630293Z"
    },
    "tags": []
   },
   "outputs": [
    {
     "data": {
      "text/markdown": [
       "For [day 24](https://adventofcode.com/2017/day/24), `puzzle.input` has 57 lines:"
      ],
      "text/plain": [
       "<IPython.core.display.Markdown object>"
      ]
     },
     "metadata": {},
     "output_type": "display_data"
    },
    {
     "name": "stdout",
     "output_type": "stream",
     "text": [
      "24/14\n",
      "30/24\n",
      "29/44\n",
      "47/37\n",
      "6/14\n",
      "20/37\n",
      "14/45\n",
      "5/5\n",
      " ...\n",
      "2/17\n",
      "46/17\n",
      "29/29\n",
      "45/50\n"
     ]
    },
    {
     "data": {
      "text/markdown": [
       "The stored answers are: `{1: '2006', 2: '1994'}`"
      ],
      "text/plain": [
       "<IPython.core.display.Markdown object>"
      ]
     },
     "metadata": {},
     "output_type": "display_data"
    }
   ],
   "source": [
    "puzzle = advent.puzzle(day=24)"
   ]
  },
  {
   "cell_type": "code",
   "execution_count": 97,
   "id": "524d150c-c794-4313-8b17-489753ba373e",
   "metadata": {
    "execution": {
     "iopub.execute_input": "2022-12-20T18:18:35.646615Z",
     "iopub.status.busy": "2022-12-20T18:18:35.646248Z",
     "iopub.status.idle": "2022-12-20T18:18:35.649535Z",
     "shell.execute_reply": "2022-12-20T18:18:35.648993Z",
     "shell.execute_reply.started": "2022-12-20T18:18:35.646597Z"
    },
    "tags": []
   },
   "outputs": [],
   "source": [
    "s1 = \"\"\"\\\n",
    "0/2\n",
    "2/2\n",
    "2/3\n",
    "3/4\n",
    "3/5\n",
    "0/1\n",
    "10/1\n",
    "9/10\n",
    "\"\"\""
   ]
  },
  {
   "cell_type": "code",
   "execution_count": 98,
   "id": "8ea5fd80",
   "metadata": {
    "execution": {
     "iopub.execute_input": "2022-12-20T18:18:35.650388Z",
     "iopub.status.busy": "2022-12-20T18:18:35.650249Z",
     "iopub.status.idle": "2022-12-20T18:18:38.372572Z",
     "shell.execute_reply": "2022-12-20T18:18:38.372026Z",
     "shell.execute_reply.started": "2022-12-20T18:18:35.650376Z"
    },
    "tags": []
   },
   "outputs": [
    {
     "name": "stdout",
     "output_type": "stream",
     "text": [
      "(Part 1: 0.900 s)\n",
      "(Part 2: 1.811 s)\n"
     ]
    }
   ],
   "source": [
    "def day24a(s, *, start=0, part2=False):  # Slower, creating list of updated remaining components.\n",
    "  components: list[tuple[int, int]] = [\n",
    "      tuple(map(int, line.split('/'))) for line in s.splitlines()  # type: ignore[misc]\n",
    "  ]\n",
    "  check_eq(len(components), len(set(components)))  # In fact, they are all unique.\n",
    "\n",
    "  def compatible_components(start: int, components: list[tuple[int, int]]):\n",
    "    for i, (v0, v1) in enumerate(components):\n",
    "      if v1 == start:\n",
    "        v1 = v0\n",
    "      elif v0 != start:\n",
    "        continue\n",
    "      remaining = components[:i] + components[i + 1 :]\n",
    "      yield v1, remaining\n",
    "\n",
    "  def compute_strongest(v0: int, components: list[tuple[int, int]]) -> int:\n",
    "    max_strength = 0\n",
    "    for v1, remaining in compatible_components(v0, components):\n",
    "      max_strength = max(max_strength, v0 + v1 + compute_strongest(v1, remaining))\n",
    "    return max_strength\n",
    "\n",
    "  if not part2:\n",
    "    return compute_strongest(start, components)\n",
    "\n",
    "  def compute_longest_length(v0: int, components: list[tuple[int, int]]) -> int:\n",
    "    max_length = 0\n",
    "    for v1, remaining in compatible_components(v0, components):\n",
    "      max_length = max(max_length, 1 + compute_longest_length(v1, remaining))\n",
    "    return max_length\n",
    "\n",
    "  def compute_longest(v0: int, remaining_length: int, components: list[tuple[int, int]]) -> int:\n",
    "    max_strength = 0 if remaining_length == 0 else -10_000\n",
    "    for v1, remaining in compatible_components(v0, components):\n",
    "      max_strength = max(\n",
    "          max_strength, v0 + v1 + compute_longest(v1, remaining_length - 1, remaining)\n",
    "      )\n",
    "    return max_strength\n",
    "\n",
    "  longest_length = compute_longest_length(start, components)\n",
    "  return compute_longest(start, longest_length, components)\n",
    "\n",
    "\n",
    "check_eq(day24a(s1), 31)\n",
    "puzzle.verify(1, day24a)\n",
    "\n",
    "day24a_part2 = functools.partial(day24a, part2=True)\n",
    "check_eq(day24a_part2(s1), 19)\n",
    "puzzle.verify(2, day24a_part2)"
   ]
  },
  {
   "cell_type": "code",
   "execution_count": 99,
   "id": "54d085fe-5fc6-4837-bd24-e479f1a1a841",
   "metadata": {
    "execution": {
     "iopub.execute_input": "2022-12-20T18:18:38.373619Z",
     "iopub.status.busy": "2022-12-20T18:18:38.373281Z",
     "iopub.status.idle": "2022-12-20T18:18:39.105192Z",
     "shell.execute_reply": "2022-12-20T18:18:39.104621Z",
     "shell.execute_reply.started": "2022-12-20T18:18:38.373605Z"
    },
    "tags": []
   },
   "outputs": [
    {
     "name": "stdout",
     "output_type": "stream",
     "text": [
      "(Part 1: 0.238 s)\n",
      "(Part 2: 0.487 s)\n"
     ]
    }
   ],
   "source": [
    "def day24b(s, *, start=0, part2=False):  # Faster; side effects on sets of remaining components.\n",
    "  components = [tuple(map(int, line.split('/'))) for line in s.splitlines()]\n",
    "  max_v = max(max(v0, v1) for v0, v1 in components)\n",
    "  active_from_v: list[set[int]] = [set() for v in range(max_v + 1)]\n",
    "  for v0, v1 in components:\n",
    "    active_from_v[v0].add(v1)\n",
    "    if v1 != v0:\n",
    "      active_from_v[v1].add(v0)\n",
    "\n",
    "  def compatible_components(v0: int) -> Iterator[int]:\n",
    "    set_v0 = active_from_v[v0]\n",
    "    for v1 in list(set_v0):\n",
    "      if v1 != v0:\n",
    "        set_v1 = active_from_v[v1]\n",
    "        set_v0.remove(v1)\n",
    "        set_v1.remove(v0)\n",
    "        yield v1\n",
    "        set_v1.add(v0)\n",
    "        set_v0.add(v1)\n",
    "      else:\n",
    "        set_v0.remove(v1)\n",
    "        yield v1\n",
    "        set_v0.add(v1)\n",
    "\n",
    "  def compute_strongest(v0: int) -> int:\n",
    "    max_strength = 0\n",
    "    for v1 in compatible_components(v0):\n",
    "      max_strength = max(max_strength, v0 + v1 + compute_strongest(v1))\n",
    "    return max_strength\n",
    "\n",
    "  if not part2:\n",
    "    return compute_strongest(start)\n",
    "\n",
    "  def compute_longest_length(v0: int) -> int:\n",
    "    max_length = 0\n",
    "    for v1 in compatible_components(v0):\n",
    "      max_length = max(max_length, 1 + compute_longest_length(v1))\n",
    "    return max_length\n",
    "\n",
    "  def compute_longest(v0: int, remaining_length: int) -> int:\n",
    "    max_strength = 0 if remaining_length == 0 else -10_000\n",
    "    for v1 in compatible_components(v0):\n",
    "      max_strength = max(max_strength, v0 + v1 + compute_longest(v1, remaining_length - 1))\n",
    "    return max_strength\n",
    "\n",
    "  longest_length = compute_longest_length(start)  # 36\n",
    "  return compute_longest(start, longest_length)\n",
    "\n",
    "\n",
    "check_eq(day24b(s1), 31)\n",
    "puzzle.verify(1, day24b)\n",
    "\n",
    "day24b_part2 = functools.partial(day24b, part2=True)\n",
    "check_eq(day24b_part2(s1), 19)\n",
    "puzzle.verify(2, day24b_part2)"
   ]
  },
  {
   "cell_type": "code",
   "execution_count": 100,
   "id": "359a301e",
   "metadata": {
    "execution": {
     "iopub.execute_input": "2022-12-20T18:18:39.106040Z",
     "iopub.status.busy": "2022-12-20T18:18:39.105846Z",
     "iopub.status.idle": "2022-12-20T18:18:39.404687Z",
     "shell.execute_reply": "2022-12-20T18:18:39.404106Z",
     "shell.execute_reply.started": "2022-12-20T18:18:39.106028Z"
    }
   },
   "outputs": [
    {
     "name": "stdout",
     "output_type": "stream",
     "text": [
      "(Part 1: 0.098 s)\n",
      "(Part 2: 0.193 s)\n"
     ]
    }
   ],
   "source": [
    "# Immediately treat (v0, v0) pairs, and canonicalize order of loops.\n",
    "def day24(s, *, start=0, part2=False):\n",
    "  components = [tuple(map(int, line.split('/'))) for line in s.splitlines()]\n",
    "  max_v = max(max(v0, v1) for v0, v1 in components)\n",
    "  has_pair = [False] * (max_v + 1)\n",
    "  active_from_v: list[set[int]] = [set() for v in range(max_v + 1)]\n",
    "  for v0, v1 in components:\n",
    "    if v0 == v1:\n",
    "      has_pair[v0] = True\n",
    "    else:\n",
    "      active_from_v[v0].add(v1)\n",
    "      active_from_v[v1].add(v0)\n",
    "\n",
    "  def compatible_components(v0: int) -> Iterator[int]:\n",
    "    if has_pair[v0]:\n",
    "      has_pair[v0] = False\n",
    "      yield v0\n",
    "      has_pair[v0] = True\n",
    "    else:\n",
    "      set_v0 = active_from_v[v0]\n",
    "      candidates = list(set_v0)  # Not even sorted().\n",
    "      for v1 in candidates:\n",
    "        set_v0.remove(v1)\n",
    "        active_from_v[v1] -= {v0}\n",
    "        yield v1\n",
    "        set_v0.add(v1)\n",
    "      for v1 in candidates:\n",
    "        active_from_v[v1].add(v0)\n",
    "\n",
    "  def compute_strongest(v0: int) -> int:\n",
    "    max_strength = 0\n",
    "    for v1 in compatible_components(v0):\n",
    "      max_strength = max(max_strength, v0 + v1 + compute_strongest(v1))\n",
    "    return max_strength\n",
    "\n",
    "  if not part2:\n",
    "    return compute_strongest(start)\n",
    "\n",
    "  def compute_longest_length(v0: int) -> int:\n",
    "    max_length = 0\n",
    "    for v1 in compatible_components(v0):\n",
    "      max_length = max(max_length, 1 + compute_longest_length(v1))\n",
    "    return max_length\n",
    "\n",
    "  def compute_longest(v0: int, remaining_length: int) -> int:\n",
    "    max_strength = 0 if remaining_length == 0 else -10_000\n",
    "    for v1 in compatible_components(v0):\n",
    "      max_strength = max(max_strength, v0 + v1 + compute_longest(v1, remaining_length - 1))\n",
    "    return max_strength\n",
    "\n",
    "  longest_length = compute_longest_length(start)  # 36\n",
    "  return compute_longest(start, longest_length)\n",
    "\n",
    "\n",
    "check_eq(day24(s1), 31)\n",
    "puzzle.verify(1, day24)\n",
    "\n",
    "day24_part2 = functools.partial(day24, part2=True)\n",
    "check_eq(day24_part2(s1), 19)\n",
    "puzzle.verify(2, day24_part2)"
   ]
  },
  {
   "cell_type": "markdown",
   "id": "6d07c79a",
   "metadata": {},
   "source": [
    "<a name=\"day25\"></a>\n",
    "## Day 25: Turing machine"
   ]
  },
  {
   "cell_type": "markdown",
   "id": "7e6ac471",
   "metadata": {},
   "source": [
    "- Part 1: After the specified number of steps have been executed, count the number of times 1 appears on the tape.\n",
    "\n",
    "- Part 2: None on day 25."
   ]
  },
  {
   "cell_type": "code",
   "execution_count": 101,
   "id": "fecb91cd",
   "metadata": {
    "execution": {
     "iopub.execute_input": "2022-12-20T18:18:39.405499Z",
     "iopub.status.busy": "2022-12-20T18:18:39.405308Z",
     "iopub.status.idle": "2022-12-20T18:18:39.415649Z",
     "shell.execute_reply": "2022-12-20T18:18:39.415006Z",
     "shell.execute_reply.started": "2022-12-20T18:18:39.405487Z"
    },
    "tags": []
   },
   "outputs": [
    {
     "data": {
      "text/markdown": [
       "For [day 25](https://adventofcode.com/2017/day/25), `puzzle.input` has 62 lines:"
      ],
      "text/plain": [
       "<IPython.core.display.Markdown object>"
      ]
     },
     "metadata": {},
     "output_type": "display_data"
    },
    {
     "name": "stdout",
     "output_type": "stream",
     "text": [
      "Begin in state A.\n",
      "Perform a diagnostic checksum after 12629077 steps.\n",
      "\n",
      "In state A:\n",
      "  If the current value is 0:\n",
      "    - Write the value 1.\n",
      "    - Move one slot to the right.\n",
      "    - Continue with state B.\n",
      " ...\n",
      "  If the current value is 1:\n",
      "    - Write the value 1.\n",
      "    - Move one slot to the left.\n",
      "    - Continue with state E.\n"
     ]
    },
    {
     "data": {
      "text/markdown": [
       "The stored answers are: `{1: '3745', 2: ''}`"
      ],
      "text/plain": [
       "<IPython.core.display.Markdown object>"
      ]
     },
     "metadata": {},
     "output_type": "display_data"
    }
   ],
   "source": [
    "puzzle = advent.puzzle(day=25)"
   ]
  },
  {
   "cell_type": "code",
   "execution_count": 102,
   "id": "d13f5d57-aa83-480d-9703-17a20eb4ffe8",
   "metadata": {
    "execution": {
     "iopub.execute_input": "2022-12-20T18:18:39.416710Z",
     "iopub.status.busy": "2022-12-20T18:18:39.416512Z",
     "iopub.status.idle": "2022-12-20T18:18:39.420114Z",
     "shell.execute_reply": "2022-12-20T18:18:39.419384Z",
     "shell.execute_reply.started": "2022-12-20T18:18:39.416696Z"
    },
    "tags": []
   },
   "outputs": [],
   "source": [
    "s1 = \"\"\"\\\n",
    "Begin in state A.\n",
    "Perform a diagnostic checksum after 6 steps.\n",
    "\n",
    "In state A:\n",
    "  If the current value is 0:\n",
    "    - Write the value 1.\n",
    "    - Move one slot to the right.\n",
    "    - Continue with state B.\n",
    "  If the current value is 1:\n",
    "    - Write the value 0.\n",
    "    - Move one slot to the left.\n",
    "    - Continue with state B.\n",
    "\n",
    "In state B:\n",
    "  If the current value is 0:\n",
    "    - Write the value 1.\n",
    "    - Move one slot to the left.\n",
    "    - Continue with state A.\n",
    "  If the current value is 1:\n",
    "    - Write the value 1.\n",
    "    - Move one slot to the right.\n",
    "    - Continue with state A.\n",
    "\"\"\""
   ]
  },
  {
   "cell_type": "code",
   "execution_count": 103,
   "id": "7270c555-ccb1-47d0-8b19-2b24e95939a9",
   "metadata": {
    "execution": {
     "iopub.execute_input": "2022-12-20T18:18:39.421113Z",
     "iopub.status.busy": "2022-12-20T18:18:39.420922Z",
     "iopub.status.idle": "2022-12-20T18:18:40.622590Z",
     "shell.execute_reply": "2022-12-20T18:18:40.622027Z",
     "shell.execute_reply.started": "2022-12-20T18:18:39.421100Z"
    },
    "tags": []
   },
   "outputs": [
    {
     "name": "stdout",
     "output_type": "stream",
     "text": [
      "(Part 1: 1.189 s)\n"
     ]
    }
   ],
   "source": [
    "def day25a(s):  # Slow version using dicts and Python.\n",
    "  parts = s.split('\\n\\n')\n",
    "  state, s_steps = hh.re_groups(r'^(?s)Begin in state (.+)\\..* after (.+) steps', parts[0])\n",
    "  num_steps = int(s_steps)\n",
    "  logic = {}\n",
    "  for part in parts[1:]:\n",
    "    (current,) = hh.re_groups(r'^In state (.+):', part)\n",
    "    conditions = part.split('If the current ')[1:]\n",
    "    assert len(conditions) == 2\n",
    "    for condition in conditions:\n",
    "      pattern = r'^(?s)value is (.+):.*Write the value (.+)\\..*to the (.+)\\..* state (.+)\\.'\n",
    "      condition_state, s_write_value, s_move, next_state = hh.re_groups(pattern, condition)\n",
    "      t = int(s_write_value), {'left': -1, 'right': +1}[s_move], next_state\n",
    "      logic[current, int(condition_state)] = t\n",
    "\n",
    "  tape: collections.defaultdict[int, int] = collections.defaultdict(int)\n",
    "  pos = 0\n",
    "  for _ in range(num_steps):\n",
    "    write_value, move, state = logic[state, tape[pos]]\n",
    "    tape[pos] = write_value\n",
    "    pos += move\n",
    "\n",
    "  # hh.Stats(record_pos) = ( 12_208_951)        -6960 : 28           av=-3000.24     sd=3422.89\n",
    "  return sum(tape.values())\n",
    "\n",
    "\n",
    "check_eq(day25a(s1), 3)\n",
    "puzzle.verify(1, day25a)  # ~1.1 s."
   ]
  },
  {
   "cell_type": "code",
   "execution_count": 104,
   "id": "7cbff2e5-214e-432e-b99e-55d1723afb08",
   "metadata": {
    "execution": {
     "iopub.execute_input": "2022-12-20T18:18:40.623624Z",
     "iopub.status.busy": "2022-12-20T18:18:40.623197Z",
     "iopub.status.idle": "2022-12-20T18:18:40.981642Z",
     "shell.execute_reply": "2022-12-20T18:18:40.981009Z",
     "shell.execute_reply.started": "2022-12-20T18:18:40.623602Z"
    },
    "tags": []
   },
   "outputs": [
    {
     "name": "stdout",
     "output_type": "stream",
     "text": [
      "(Part 1: 0.054 s)\n"
     ]
    }
   ],
   "source": [
    "# Fast version using integer arrays and jitted numba.\n",
    "@numba.njit  # ~10.5 s -> 0.05 s.\n",
    "def day25_compute(size: int, num_steps: int, state: int, logic: np.ndarray) -> int:\n",
    "  tape = np.full(size, 0)\n",
    "  pos = size // 2\n",
    "  for _ in range(num_steps):\n",
    "    write_value, move, state = logic[state * 2 + tape[pos]]\n",
    "    tape[pos] = write_value\n",
    "    pos += move\n",
    "  return np.sum(tape)\n",
    "\n",
    "\n",
    "def day25(s, *, size=100_000):\n",
    "  parts = s.split('\\n\\n')\n",
    "  s_state, s_steps = hh.re_groups(r'^(?s)Begin in state (.+)\\..* after (.+) steps', parts[0])\n",
    "  state, num_steps = ord(s_state) - ord('A'), int(s_steps)\n",
    "\n",
    "  logic_lines: list[tuple[int, int, int]] = []  # (write_value, move, next_state)\n",
    "  for part in parts[1:]:\n",
    "    for condition in part.split('If the current ')[1:]:\n",
    "      pattern = r'(?s)Write the value (.+)\\..*to the (.+)\\..* state (.+)\\.'\n",
    "      s_write_value, s_move, s_next_state = hh.re_groups(pattern, condition)\n",
    "      logic_lines.append(\n",
    "          (int(s_write_value), {'left': -1, 'right': +1}[s_move], ord(s_next_state) - ord('A'))\n",
    "      )\n",
    "  logic = np.array(logic_lines)\n",
    "  return day25_compute(size, num_steps, state, logic)\n",
    "\n",
    "\n",
    "check_eq(day25(s1), 3)\n",
    "puzzle.verify(1, day25)"
   ]
  },
  {
   "cell_type": "code",
   "execution_count": null,
   "id": "ec047d89",
   "metadata": {},
   "outputs": [],
   "source": [
    "puzzle.verify(2, lambda s: '')  # (No \"Part 2\" on last day.)"
   ]
  },
  {
   "cell_type": "markdown",
   "id": "c0ec51f2-be70-4684-b989-1342d9897d9a",
   "metadata": {
    "execution": {
     "iopub.execute_input": "2022-11-01T15:58:46.777709Z",
     "iopub.status.busy": "2022-11-01T15:58:46.777342Z",
     "iopub.status.idle": "2022-11-01T15:58:50.481812Z",
     "shell.execute_reply": "2022-11-01T15:58:50.481213Z",
     "shell.execute_reply.started": "2022-11-01T15:58:46.777695Z"
    },
    "tags": []
   },
   "source": [
    "You deposit all fifty stars and reboot the printer. Suddenly, everything seems a lot less pixelated than before.\"--raise your priority level enough to send the reboot command and... hey look, it's printing! I'll bring it to Santa. Thanks!\" She runs off.\n",
    "Congratulations!  You've finished every puzzle in Advent of Code 2017!  I hope you had as much fun solving them as I had making them for you.  I'd love to hear about your adventure; you can get in touch with me via contact info on my website or through Twitter.\n",
    "If you'd like to see more things like this in the future, please consider supporting Advent of Code and sharing it with others.\n",
    "To hear about future projects, you can follow me on Twitter.\n",
    "I've highlighted the easter eggs in each puzzle, just in case you missed any.  Hover your mouse over them, and the easter egg will appear."
   ]
  },
  {
   "cell_type": "markdown",
   "id": "1f72dc26",
   "metadata": {},
   "source": [
    "<a name=\"timings\"></a>\n",
    "## Timings"
   ]
  },
  {
   "cell_type": "code",
   "execution_count": 106,
   "id": "6ba60491",
   "metadata": {
    "execution": {
     "iopub.execute_input": "2022-12-20T18:18:40.987077Z",
     "iopub.status.busy": "2022-12-20T18:18:40.986814Z",
     "iopub.status.idle": "2022-12-20T18:18:40.996165Z",
     "shell.execute_reply": "2022-12-20T18:18:40.995600Z",
     "shell.execute_reply.started": "2022-12-20T18:18:40.987062Z"
    }
   },
   "outputs": [
    {
     "name": "stdout",
     "output_type": "stream",
     "text": [
      "day_1    part_1: 0.000   part_2: 0.000\n",
      "day_2    part_1: 0.000   part_2: 0.000\n",
      "day_3    part_1: 0.000   part_2: 0.000\n",
      "day_4    part_1: 0.000   part_2: 0.001\n",
      "day_5    part_1: 0.001   part_2: 0.031\n",
      "day_6    part_1: 0.035   part_2: 0.036\n",
      "day_7    part_1: 0.005   part_2: 0.011\n",
      "day_8    part_1: 0.002   part_2: 0.001\n",
      "day_9    part_1: 0.003   part_2: 0.002\n",
      "day_10   part_1: 0.000   part_2: 0.007\n",
      "day_11   part_1: 0.002   part_2: 0.002\n",
      "day_12   part_1: 0.004   part_2: 0.004\n",
      "day_13   part_1: 0.000   part_2: 0.005\n",
      "day_14   part_1: 0.064   part_2: 0.080\n",
      "day_15   part_1: 0.138   part_2: 0.206\n",
      "day_16   part_1: 0.008   part_2: 0.008\n",
      "day_17   part_1: 0.007   part_2: 0.153\n",
      "day_18   part_1: 0.001   part_2: 0.084\n",
      "day_19   part_1: 0.009   part_2: 0.009\n",
      "day_20   part_1: 0.005   part_2: 0.034\n",
      "day_21   part_1: 0.009   part_2: 0.086\n",
      "day_22   part_1: 0.000   part_2: 0.052\n",
      "day_23   part_1: 0.011   part_2: 0.002\n",
      "day_24   part_1: 0.098   part_2: 0.193\n",
      "day_25   part_1: 0.054   part_2: 0.000\n",
      "Total time:  1.462 s\n"
     ]
    }
   ],
   "source": [
    "advent.show_times()"
   ]
  },
  {
   "cell_type": "code",
   "execution_count": 107,
   "id": "10984b69",
   "metadata": {
    "execution": {
     "iopub.execute_input": "2022-12-20T18:18:40.997100Z",
     "iopub.status.busy": "2022-12-20T18:18:40.996815Z",
     "iopub.status.idle": "2022-12-20T18:18:41.006741Z",
     "shell.execute_reply": "2022-12-20T18:18:41.006040Z",
     "shell.execute_reply.started": "2022-12-20T18:18:40.997085Z"
    },
    "tags": []
   },
   "outputs": [],
   "source": [
    "if 0:  # Compute min execution times over several calls.\n",
    "  advent.show_times(recompute=True, repeat=3)"
   ]
  },
  {
   "cell_type": "code",
   "execution_count": 108,
   "id": "2703a2e8",
   "metadata": {
    "execution": {
     "iopub.execute_input": "2022-12-20T18:18:41.007733Z",
     "iopub.status.busy": "2022-12-20T18:18:41.007429Z",
     "iopub.status.idle": "2022-12-20T18:18:41.016869Z",
     "shell.execute_reply": "2022-12-20T18:18:41.016293Z",
     "shell.execute_reply.started": "2022-12-20T18:18:41.007717Z"
    },
    "tags": []
   },
   "outputs": [
    {
     "name": "stdout",
     "output_type": "stream",
     "text": [
      "puzzle s1 s2\n"
     ]
    }
   ],
   "source": [
    "if 1:  # Look for unwanted pollution of namespace.\n",
    "  for _name in globals().copy():\n",
    "    if not (re.match(r'^_|(day|Day|s)\\d+|(puzzle$)', _name) or _name in _ORIGINAL_GLOBALS):\n",
    "      print(_name)"
   ]
  },
  {
   "cell_type": "code",
   "execution_count": 111,
   "id": "32f6a43c-6d49-440a-9a60-6dfb82a98743",
   "metadata": {
    "execution": {
     "iopub.execute_input": "2022-12-20T18:18:41.037339Z",
     "iopub.status.busy": "2022-12-20T18:18:41.036986Z",
     "iopub.status.idle": "2022-12-20T18:18:41.048637Z",
     "shell.execute_reply": "2022-12-20T18:18:41.047942Z",
     "shell.execute_reply.started": "2022-12-20T18:18:41.037323Z"
    },
    "tags": []
   },
   "outputs": [],
   "source": [
    "if 0:  # Lint.\n",
    "  hh.run('echo autopep8; autopep8 -j8 -d .')\n",
    "  hh.run('echo pyink; pyink --diff .')\n",
    "  hh.run('echo mypy; mypy . || true')\n",
    "  hh.run('echo pylint; pylint -j8 . || true')\n",
    "  hh.run(\n",
    "      'echo flake8; flake8 --indent-size=2 --exclude .ipynb_checkpoints'\n",
    "      ' --extend-ignore E129,E203,E302,E305,E501,E741'\n",
    "  )"
   ]
  },
  {
   "cell_type": "code",
   "execution_count": 112,
   "id": "c9c34d45",
   "metadata": {
    "execution": {
     "iopub.execute_input": "2022-12-20T18:18:41.049594Z",
     "iopub.status.busy": "2022-12-20T18:18:41.049402Z",
     "iopub.status.idle": "2022-12-20T18:18:41.058738Z",
     "shell.execute_reply": "2022-12-20T18:18:41.058210Z",
     "shell.execute_reply.started": "2022-12-20T18:18:41.049579Z"
    }
   },
   "outputs": [
    {
     "name": "stdout",
     "output_type": "stream",
     "text": [
      "# Total time: 12.84 s\n",
      "# In[ 98] def day24a(s, *, start=0, part2=False):  # Slower,           2.718 s\n",
      "# In[ 89] def day22a(s, *, num_iterations=10_000, part2=False,         2.271 s\n",
      "# In[103] def day25a(s):  # Slow version using dicts and Python.\\n     1.198 s\n",
      "# In[ 60] def day14a(s, *, part2=False):  # Slower version.\\n  s = s.  1.097 s\n",
      "# In[ 65] @numba.njit\\ndef day15_compute(state0: int, state1: int,     0.766 s\n",
      "# In[ 99] def day24b(s, *, start=0, part2=False):  # Faster; side      0.727 s\n",
      "# In[ 56] def day13c_part2(s, *, chunk=3_000):  # Use numpy            0.528 s\n",
      "# In[ 57] def day13d_part2(s, *, chunk=80_000):  # Use numpy sieve;    0.394 s\n",
      "# In[ 70] @numba.njit  # ~2.6 s -> ~0.16 s.\\ndef day17_compute_part2(  0.367 s\n",
      "# In[104] # Fast version using integer arrays and jitted numba.\\n\\n@   0.354 s\n",
      "# In[100] # Immediately treat (v0, v0) pairs, and canonicalize order   0.294 s\n",
      "# In[ 61] def day14(s, *, part2=False, visualize=False):  # Faster,    0.290 s\n",
      "# In[ 31] # Fast.\\n\\n@numba.njit\\ndef day5_compute(values: Any, part2  0.274 s\n",
      "# In[ 90] @numba.njit  # ~3.9 s -> ~0.05 s.\\ndef day22_compute(grid:   0.272 s\n",
      "# In[  9] try:\\n  import numba\\nexcept ModuleNotFoundError:\\n  print(  0.111 s\n",
      "# In[ 85] def day21(s, *, num_iterations=5, visualize=False):\\n\\n      0.102 s\n",
      "# In[ 75] def day18_part2(s):\\n  instructions = [tuple(line.split(\\'   0.093 s\n",
      "# In[ 86] _ = day21_part2(puzzle.input, visualize=True)                0.091 s\n",
      "# In[ 34] def day6(s, *, part2=False):\\n  blocks = tuple(int(word)     0.078 s\n",
      "# In[ 62] _ = day14(puzzle.input, visualize=True)                      0.076 s\n"
     ]
    }
   ],
   "source": [
    "hh.show_notebook_cell_top_times()"
   ]
  },
  {
   "cell_type": "markdown",
   "id": "28fe83d2",
   "metadata": {},
   "source": [
    "# End"
   ]
  },
  {
   "cell_type": "markdown",
   "id": "cbdb45a1",
   "metadata": {},
   "source": [
    "<!-- For Emacs:\n",
    "Local Variables:\n",
    "fill-column: 100\n",
    "End:\n",
    "-->"
   ]
  }
 ],
 "metadata": {
  "colab": {
   "collapsed_sections": [],
   "provenance": [],
   "toc_visible": true
  },
  "jupytext": {
   "cell_metadata_filter": "-all",
   "formats": "ipynb,py:percent",
   "main_language": "python",
   "notebook_metadata_filter": "-all"
  },
  "kernelspec": {
   "display_name": "Python 3 (ipykernel)",
   "language": "python",
   "name": "python3"
  },
  "language_info": {
   "codemirror_mode": {
    "name": "ipython",
    "version": 3
   },
   "file_extension": ".py",
   "mimetype": "text/x-python",
   "name": "python",
   "nbconvert_exporter": "python",
   "pygments_lexer": "ipython3",
   "version": "3.10.6"
  }
 },
 "nbformat": 4,
 "nbformat_minor": 5
}
