{
 "cells": [
  {
   "cell_type": "markdown",
   "id": "3f4e0d72",
   "metadata": {},
   "source": [
    "# Advent of code 2020"
   ]
  },
  {
   "cell_type": "markdown",
   "id": "6748e67b",
   "metadata": {},
   "source": [
    "[[**Open the notebook in Colab**]](https://colab.research.google.com/github/hhoppe/advent_of_code/blob/main/2020/advent_of_code_2020.ipynb)\n",
    "\n",
    "Jupyter [notebook](https://github.com/hhoppe/advent_of_code/blob/main/2020/advent_of_code_2020.ipynb)\n",
    "by [Hugues Hoppe](http://hhoppe.com/) with Python solutions to the\n",
    "[2020 Advent of Code puzzles](https://adventofcode.com/2020),\n",
    "completed in December 2020.\n",
    "\n",
    "I participated in the 25-day [Advent of Code](https://adventofcode.com/) for the first time this year, thanks to encouragement from colleagues, especially [Sascha Häberling](https://github.com/shaeberling).  It was great fun and provided a nice opportunity to learn more advanced Python.\n",
    "\n",
    "In the event, many people compete to solve the puzzles as quickly as possible --- see the impressive times on the [leaderboard](https://adventofcode.com/2020/leaderboard).\n",
    "My approach was much more casual, although I did aim to finish the puzzle each evening.\n",
    "\n",
    "Later, I went back to explore more **polished and efficient solutions**.\n",
    "Can the code be expressed more succinctly?\n",
    "What is the fastest algorithm given the constraints of interpreted Python?\n",
    "Along the way, I discovered the [`numba`](https://numba.pydata.org/) package which can JIT-compile bottleneck functions to native code;\n",
    "is it practical for these problems?  Yes, it can help greatly!\n",
    "\n",
    "This notebook is organized such that each day is self-contained and can be run on its own after the preamble.\n",
    "\n",
    "Some **conclusions**:\n",
    "\n",
    "- A Jupyter/IPython notebook is a great environment for exploration.\n",
    "- The notebook conveniently bundles descriptions, notes, code, small test inputs, and results.\n",
    "- Initially I stored puzzle inputs within the notebook itself, but this introduces clutter and runs inefficiently.\n",
    "- The cloud-based CPU kernel/runtime provided by Colab works nicely.\n",
    "- With the [`numba`](https://numba.pydata.org/) library (for days [11](#day11), [15](#day15), and [23](#day23)), all of this year's puzzles can be solved in 1 second or less.\n",
    "- The total execution time across all 25 puzzles is about 4 s.\n",
    "\n",
    "Here are some visualization results:\n",
    "\n",
    "<p>\n",
    "<a href=\"#day11\">day11</a><img src=\"https://github.com/hhoppe/advent_of_code/raw/main/2020/results/day11a.gif\" width=\"200\">\n",
    "<img src=\"https://github.com/hhoppe/advent_of_code/raw/main/2020/results/day11b.gif\" width=\"200\">&emsp;\n",
    "<a href=\"#day20\">day20</a><img src=\"https://github.com/hhoppe/advent_of_code/raw/main/2020/results/day20a.png\" width=\"200\">\n",
    "<img src=\"https://github.com/hhoppe/advent_of_code/raw/main/2020/results/day20b.png\" width=\"200\">\n",
    "</p>\n",
    "<p>\n",
    "<a href=\"#day24\">day24</a><img src=\"https://github.com/hhoppe/advent_of_code/raw/main/2020/results/day24.gif\" width=\"200\">\n",
    "</p>"
   ]
  },
  {
   "cell_type": "markdown",
   "id": "b6c4d08d",
   "metadata": {},
   "source": [
    "<a name=\"preamble\"></a>\n",
    "## Preamble"
   ]
  },
  {
   "cell_type": "code",
   "execution_count": 59,
   "id": "c3d784f1",
   "metadata": {
    "execution": {
     "iopub.execute_input": "2022-12-20T18:41:13.740858Z",
     "iopub.status.busy": "2022-12-20T18:41:13.740604Z",
     "iopub.status.idle": "2022-12-20T18:41:13.854214Z",
     "shell.execute_reply": "2022-12-20T18:41:13.853226Z",
     "shell.execute_reply.started": "2022-12-20T18:41:13.740844Z"
    }
   },
   "outputs": [],
   "source": [
    "!command -v ffmpeg >/dev/null || (apt-get -qq update && apt-get -qq -y install ffmpeg) >/dev/null"
   ]
  },
  {
   "cell_type": "code",
   "execution_count": 60,
   "id": "bbb491ed",
   "metadata": {
    "execution": {
     "iopub.execute_input": "2022-12-20T18:41:13.856038Z",
     "iopub.status.busy": "2022-12-20T18:41:13.855794Z",
     "iopub.status.idle": "2022-12-20T18:41:14.886260Z",
     "shell.execute_reply": "2022-12-20T18:41:14.885439Z",
     "shell.execute_reply.started": "2022-12-20T18:41:13.856020Z"
    }
   },
   "outputs": [],
   "source": [
    "!pip install -q advent-of-code-hhoppe hhoppe-tools mediapy more-itertools numba"
   ]
  },
  {
   "cell_type": "code",
   "execution_count": 61,
   "id": "b385dd25",
   "metadata": {
    "execution": {
     "iopub.execute_input": "2022-12-20T18:41:14.887354Z",
     "iopub.status.busy": "2022-12-20T18:41:14.887178Z",
     "iopub.status.idle": "2022-12-20T18:41:14.891545Z",
     "shell.execute_reply": "2022-12-20T18:41:14.891023Z",
     "shell.execute_reply.started": "2022-12-20T18:41:14.887338Z"
    }
   },
   "outputs": [],
   "source": [
    "from __future__ import annotations\n",
    "\n",
    "import bisect\n",
    "import collections\n",
    "from collections.abc import Iterable\n",
    "import functools\n",
    "import itertools\n",
    "import math\n",
    "import operator\n",
    "import re\n",
    "import sys\n",
    "import textwrap\n",
    "import types\n",
    "from typing import Any\n",
    "\n",
    "import advent_of_code_hhoppe  # https://github.com/hhoppe/advent-of-code-hhoppe/blob/main/advent_of_code_hhoppe/__init__.py\n",
    "import hhoppe_tools as hh  # https://github.com/hhoppe/hhoppe-tools/blob/main/hhoppe_tools/__init__.py\n",
    "import mediapy as media\n",
    "import more_itertools\n",
    "import numpy as np"
   ]
  },
  {
   "cell_type": "code",
   "execution_count": 62,
   "id": "3875ebaa",
   "metadata": {
    "execution": {
     "iopub.execute_input": "2022-12-20T18:41:14.892874Z",
     "iopub.status.busy": "2022-12-20T18:41:14.892636Z",
     "iopub.status.idle": "2022-12-20T18:41:14.904707Z",
     "shell.execute_reply": "2022-12-20T18:41:14.904123Z",
     "shell.execute_reply.started": "2022-12-20T18:41:14.892861Z"
    }
   },
   "outputs": [],
   "source": [
    "if not media.video_is_available():\n",
    "  media.show_videos = lambda *a, **kw: print('Creating video is unavailable.')"
   ]
  },
  {
   "cell_type": "code",
   "execution_count": 63,
   "id": "4f31e24a",
   "metadata": {
    "execution": {
     "iopub.execute_input": "2022-12-20T18:41:14.906111Z",
     "iopub.status.busy": "2022-12-20T18:41:14.905560Z",
     "iopub.status.idle": "2022-12-20T18:41:14.915156Z",
     "shell.execute_reply": "2022-12-20T18:41:14.914518Z",
     "shell.execute_reply.started": "2022-12-20T18:41:14.906077Z"
    }
   },
   "outputs": [],
   "source": [
    "hh.start_timing_notebook_cells()"
   ]
  },
  {
   "cell_type": "code",
   "execution_count": 64,
   "id": "3760ff24",
   "metadata": {
    "execution": {
     "iopub.execute_input": "2022-12-20T18:41:14.916240Z",
     "iopub.status.busy": "2022-12-20T18:41:14.915891Z",
     "iopub.status.idle": "2022-12-20T18:41:14.925069Z",
     "shell.execute_reply": "2022-12-20T18:41:14.924251Z",
     "shell.execute_reply.started": "2022-12-20T18:41:14.916227Z"
    }
   },
   "outputs": [],
   "source": [
    "YEAR = 2020"
   ]
  },
  {
   "cell_type": "code",
   "execution_count": 65,
   "id": "d71eb37c",
   "metadata": {
    "execution": {
     "iopub.execute_input": "2022-12-20T18:41:14.926220Z",
     "iopub.status.busy": "2022-12-20T18:41:14.925907Z",
     "iopub.status.idle": "2022-12-20T18:41:14.937623Z",
     "shell.execute_reply": "2022-12-20T18:41:14.936957Z",
     "shell.execute_reply.started": "2022-12-20T18:41:14.926205Z"
    }
   },
   "outputs": [],
   "source": [
    "# (1) To obtain puzzle inputs and answers, we first try these paths/URLs:\n",
    "PROFILE = 'google.Hugues_Hoppe.965276'\n",
    "# PROFILE = 'github.hhoppe.1452460'\n",
    "TAR_URL = f'https://github.com/hhoppe/advent_of_code_{YEAR}/raw/main/data/{PROFILE}.tar.gz'\n",
    "if 1:\n",
    "  hh.run(\n",
    "      f'if [ ! -d data/{PROFILE} ]; then (mkdir -p data && cd data &&'\n",
    "      f' wget -q {TAR_URL} && tar xzf {PROFILE}.tar.gz); fi'\n",
    "  )\n",
    "INPUT_URL = f'data/{PROFILE}/{{year}}_{{day:02d}}_input.txt'\n",
    "ANSWER_URL = f'data/{PROFILE}/{{year}}_{{day:02d}}{{part_letter}}_answer.txt'"
   ]
  },
  {
   "cell_type": "code",
   "execution_count": 66,
   "id": "d1f5a61c",
   "metadata": {
    "execution": {
     "iopub.execute_input": "2022-12-20T18:41:14.938650Z",
     "iopub.status.busy": "2022-12-20T18:41:14.938381Z",
     "iopub.status.idle": "2022-12-20T18:41:14.944848Z",
     "shell.execute_reply": "2022-12-20T18:41:14.944220Z",
     "shell.execute_reply.started": "2022-12-20T18:41:14.938635Z"
    }
   },
   "outputs": [],
   "source": [
    "# (2) If URL is not found, we may try adventofcode.com using a session cookie:\n",
    "if 0:\n",
    "  # !rm -f ~/.config/aocd/token*; mkdir -p ~/.config/aocd; echo 53616... >~/.config/aocd/token\n",
    "  # where \"53616...\" is the session cookie from \"adventofcode.com\" (valid 1 month).\n",
    "  hh.run('pip install -q advent-of-code-data')  # https://github.com/wimglenn/advent-of-code-data\n",
    "  import aocd  # pylint: disable=unused-import # noqa"
   ]
  },
  {
   "cell_type": "code",
   "execution_count": 67,
   "id": "21c616d2",
   "metadata": {
    "execution": {
     "iopub.execute_input": "2022-12-20T18:41:14.945854Z",
     "iopub.status.busy": "2022-12-20T18:41:14.945571Z",
     "iopub.status.idle": "2022-12-20T18:41:14.954496Z",
     "shell.execute_reply": "2022-12-20T18:41:14.953969Z",
     "shell.execute_reply.started": "2022-12-20T18:41:14.945839Z"
    },
    "tags": []
   },
   "outputs": [],
   "source": [
    "try:\n",
    "  import numba\n",
    "except ModuleNotFoundError:\n",
    "  print('Package numba is unavailable.')\n",
    "  numba = sys.modules['numba'] = types.ModuleType('numba')\n",
    "  numba.njit = hh.noop_decorator\n",
    "using_numba = hasattr(numba, 'jit')"
   ]
  },
  {
   "cell_type": "code",
   "execution_count": 68,
   "id": "62ac3037",
   "metadata": {
    "execution": {
     "iopub.execute_input": "2022-12-20T18:41:14.955962Z",
     "iopub.status.busy": "2022-12-20T18:41:14.955703Z",
     "iopub.status.idle": "2022-12-20T18:41:14.964673Z",
     "shell.execute_reply": "2022-12-20T18:41:14.964010Z",
     "shell.execute_reply.started": "2022-12-20T18:41:14.955949Z"
    }
   },
   "outputs": [],
   "source": [
    "advent = advent_of_code_hhoppe.Advent(year=YEAR, input_url=INPUT_URL, answer_url=ANSWER_URL)"
   ]
  },
  {
   "cell_type": "code",
   "execution_count": 69,
   "id": "cbad9830",
   "metadata": {
    "execution": {
     "iopub.execute_input": "2022-12-20T18:41:14.965796Z",
     "iopub.status.busy": "2022-12-20T18:41:14.965405Z",
     "iopub.status.idle": "2022-12-20T18:41:14.975784Z",
     "shell.execute_reply": "2022-12-20T18:41:14.975073Z",
     "shell.execute_reply.started": "2022-12-20T18:41:14.965781Z"
    }
   },
   "outputs": [
    {
     "data": {
      "text/html": [
       "<style>.jp-Cell.jp-MarkdownCell {max-width: 1016px!important;}</style>"
      ],
      "text/plain": [
       "<IPython.core.display.HTML object>"
      ]
     },
     "metadata": {},
     "output_type": "display_data"
    }
   ],
   "source": [
    "hh.adjust_jupyterlab_markdown_width()"
   ]
  },
  {
   "cell_type": "markdown",
   "id": "cb62f9a0",
   "metadata": {},
   "source": [
    "### Helper functions"
   ]
  },
  {
   "cell_type": "code",
   "execution_count": 70,
   "id": "520bdb08",
   "metadata": {
    "execution": {
     "iopub.execute_input": "2022-12-20T18:41:14.977026Z",
     "iopub.status.busy": "2022-12-20T18:41:14.976670Z",
     "iopub.status.idle": "2022-12-20T18:41:14.987051Z",
     "shell.execute_reply": "2022-12-20T18:41:14.986357Z",
     "shell.execute_reply.started": "2022-12-20T18:41:14.977009Z"
    }
   },
   "outputs": [],
   "source": [
    "check_eq = hh.check_eq\n",
    "_ORIGINAL_GLOBALS = list(globals())"
   ]
  },
  {
   "cell_type": "code",
   "execution_count": 71,
   "id": "11c4aadf",
   "metadata": {
    "execution": {
     "iopub.execute_input": "2022-12-20T18:41:14.988182Z",
     "iopub.status.busy": "2022-12-20T18:41:14.988015Z",
     "iopub.status.idle": "2022-12-20T18:41:14.996874Z",
     "shell.execute_reply": "2022-12-20T18:41:14.996319Z",
     "shell.execute_reply.started": "2022-12-20T18:41:14.988170Z"
    }
   },
   "outputs": [],
   "source": [
    "def grid_from_string(s, int_from_ch=None, dtype=int) -> np.ndarray:\n",
    "  grid = np.array([list(line) for line in s.splitlines()])\n",
    "  if int_from_ch:\n",
    "    lookup = np.zeros(256, dtype)\n",
    "    for ch, value in int_from_ch.items():\n",
    "      lookup[ord(ch)] = value\n",
    "    grid = lookup[grid.view(np.int32)]\n",
    "  return grid"
   ]
  },
  {
   "cell_type": "code",
   "execution_count": 72,
   "id": "a6206840",
   "metadata": {
    "execution": {
     "iopub.execute_input": "2022-12-20T18:41:14.997571Z",
     "iopub.status.busy": "2022-12-20T18:41:14.997438Z",
     "iopub.status.idle": "2022-12-20T18:41:15.007395Z",
     "shell.execute_reply": "2022-12-20T18:41:15.006777Z",
     "shell.execute_reply.started": "2022-12-20T18:41:14.997559Z"
    },
    "tags": []
   },
   "outputs": [],
   "source": [
    "def grid_from_indices(\n",
    "    indices, *, background=0, foreground=1, indices_min=None, indices_max=None, pad=0, dtype=None\n",
    ") -> np.ndarray:\n",
    "  indices = np.asarray(indices)\n",
    "  assert indices.ndim == 2 and np.issubdtype(indices.dtype, np.integer)\n",
    "\n",
    "  def get_min_or_max_bound(f, x) -> np.ndarray:\n",
    "    return f(indices, axis=0) if x is None else np.full(indices.shape[1], x)\n",
    "\n",
    "  i_min = get_min_or_max_bound(np.min, indices_min)\n",
    "  i_max = get_min_or_max_bound(np.max, indices_max)\n",
    "  a_pad = np.asarray(pad)\n",
    "  shape = i_max - i_min + 2 * a_pad + 1\n",
    "  offset = -i_min + a_pad\n",
    "  grid = np.full(shape, background, dtype)\n",
    "  indices += offset\n",
    "  grid[tuple(np.moveaxis(indices, -1, 0))] = foreground\n",
    "  return grid"
   ]
  },
  {
   "cell_type": "markdown",
   "id": "0900a714",
   "metadata": {},
   "source": [
    "<a name=\"day1\"></a>\n",
    "## Day 1: Find summing numbers"
   ]
  },
  {
   "cell_type": "markdown",
   "id": "68cc5820",
   "metadata": {},
   "source": [
    "- Part 1: Given a list of numbers, find two entries that sum to 2020 and multiply those entries together.\n",
    "\n",
    "- Part 2: Find three entries that sum to 2020 and multiply those entries together."
   ]
  },
  {
   "cell_type": "code",
   "execution_count": 15,
   "id": "3718e7f9",
   "metadata": {
    "execution": {
     "iopub.execute_input": "2022-12-19T00:40:41.717733Z",
     "iopub.status.busy": "2022-12-19T00:40:41.717480Z",
     "iopub.status.idle": "2022-12-19T00:40:41.734646Z",
     "shell.execute_reply": "2022-12-19T00:40:41.734054Z",
     "shell.execute_reply.started": "2022-12-19T00:40:41.717718Z"
    }
   },
   "outputs": [
    {
     "data": {
      "text/markdown": [
       "For [day 1](https://adventofcode.com/2020/day/1), `puzzle.input` has 200 lines:"
      ],
      "text/plain": [
       "<IPython.core.display.Markdown object>"
      ]
     },
     "metadata": {},
     "output_type": "display_data"
    },
    {
     "name": "stdout",
     "output_type": "stream",
     "text": [
      "1686\n",
      "1983\n",
      "1801\n",
      "1890\n",
      "1910\n",
      "1722\n",
      "1571\n",
      "1952\n",
      " ...\n",
      "1261\n",
      "1154\n",
      "1769\n",
      "1529\n"
     ]
    },
    {
     "data": {
      "text/markdown": [
       "The stored answers are: `{1: '651651', 2: '214486272'}`"
      ],
      "text/plain": [
       "<IPython.core.display.Markdown object>"
      ]
     },
     "metadata": {},
     "output_type": "display_data"
    }
   ],
   "source": [
    "puzzle = advent.puzzle(day=1)"
   ]
  },
  {
   "cell_type": "code",
   "execution_count": 16,
   "id": "844a8583",
   "metadata": {
    "execution": {
     "iopub.execute_input": "2022-12-19T00:40:41.735627Z",
     "iopub.status.busy": "2022-12-19T00:40:41.735318Z",
     "iopub.status.idle": "2022-12-19T00:40:41.738409Z",
     "shell.execute_reply": "2022-12-19T00:40:41.737814Z",
     "shell.execute_reply.started": "2022-12-19T00:40:41.735615Z"
    }
   },
   "outputs": [],
   "source": [
    "# A test input provided in the puzzle description:\n",
    "s1 = \"\"\"\\\n",
    "1721\n",
    "979\n",
    "366\n",
    "299\n",
    "675\n",
    "1456\n",
    "\"\"\""
   ]
  },
  {
   "cell_type": "code",
   "execution_count": 17,
   "id": "65536cb4",
   "metadata": {
    "execution": {
     "iopub.execute_input": "2022-12-19T00:40:41.739144Z",
     "iopub.status.busy": "2022-12-19T00:40:41.739001Z",
     "iopub.status.idle": "2022-12-19T00:40:41.749131Z",
     "shell.execute_reply": "2022-12-19T00:40:41.748561Z",
     "shell.execute_reply.started": "2022-12-19T00:40:41.739132Z"
    }
   },
   "outputs": [
    {
     "name": "stdout",
     "output_type": "stream",
     "text": [
      "(Part 1: 0.000 s)\n"
     ]
    }
   ],
   "source": [
    "def day1(s, *, total=2020):\n",
    "  entries = set(map(int, s.split()))\n",
    "  for a in entries:\n",
    "    b = total - a\n",
    "    if b in entries:\n",
    "      return a * b\n",
    "  return None\n",
    "\n",
    "\n",
    "check_eq(day1(s1), 514579)  # Reference answer provided in the description.\n",
    "puzzle.verify(1, day1)  # ~0 ms."
   ]
  },
  {
   "cell_type": "code",
   "execution_count": 18,
   "id": "d91e1cf9",
   "metadata": {
    "execution": {
     "iopub.execute_input": "2022-12-19T00:40:41.750043Z",
     "iopub.status.busy": "2022-12-19T00:40:41.749855Z",
     "iopub.status.idle": "2022-12-19T00:40:41.759750Z",
     "shell.execute_reply": "2022-12-19T00:40:41.759188Z",
     "shell.execute_reply.started": "2022-12-19T00:40:41.750029Z"
    }
   },
   "outputs": [
    {
     "name": "stdout",
     "output_type": "stream",
     "text": [
      "(Part 2: 0.001 s)\n"
     ]
    }
   ],
   "source": [
    "def day1_part2(s, *, total=2020):\n",
    "  entries = set(map(int, s.split()))\n",
    "  for a in entries:\n",
    "    for b in entries:\n",
    "      c = total - a - b\n",
    "      if c in entries:\n",
    "        return a * b * c\n",
    "  return None\n",
    "\n",
    "\n",
    "check_eq(day1_part2(s1), 241861950)\n",
    "puzzle.verify(2, day1_part2)  # ~1 ms."
   ]
  },
  {
   "cell_type": "markdown",
   "id": "c9e851a5",
   "metadata": {},
   "source": [
    "<a name=\"day2\"></a>\n",
    "## Day 2: Valid passwords"
   ]
  },
  {
   "cell_type": "markdown",
   "id": "593612e1",
   "metadata": {},
   "source": [
    "Given input lines each containing a password rule (`i-j c`) and a password, count the number of \"valid\" passwords such that:\n",
    "\n",
    "- Part 1: The number of instances of character `c` in the password is in the range `[i, j]`.\n",
    "\n",
    "- Part 2: The password characters at positions `i` and `j` contain exactly one instance of character `c`."
   ]
  },
  {
   "cell_type": "code",
   "execution_count": 19,
   "id": "c5dfc31f",
   "metadata": {
    "execution": {
     "iopub.execute_input": "2022-12-19T00:40:41.760792Z",
     "iopub.status.busy": "2022-12-19T00:40:41.760526Z",
     "iopub.status.idle": "2022-12-19T00:40:41.775614Z",
     "shell.execute_reply": "2022-12-19T00:40:41.775058Z",
     "shell.execute_reply.started": "2022-12-19T00:40:41.760779Z"
    }
   },
   "outputs": [
    {
     "data": {
      "text/markdown": [
       "For [day 2](https://adventofcode.com/2020/day/2), `puzzle.input` has 1_000 lines:"
      ],
      "text/plain": [
       "<IPython.core.display.Markdown object>"
      ]
     },
     "metadata": {},
     "output_type": "display_data"
    },
    {
     "name": "stdout",
     "output_type": "stream",
     "text": [
      "4-7 z: zzzfzlzzz\n",
      "3-4 l: blllk\n",
      "8-11 j: jjjjjjjgjjjj\n",
      "6-7 l: lllhlbl\n",
      "10-13 x: xmhfsbjxptxxv\n",
      "2-3 s: ssvxszrvj\n",
      "4-6 r: rtrrrqv\n",
      "5-6 c: cbccxc\n",
      " ...\n",
      "9-10 w: wwwwwwbwwhww\n",
      "5-6 g: kgggjg\n",
      "4-8 s: ssssssscs\n",
      "12-20 t: ttttttltttvttttttttt\n"
     ]
    },
    {
     "data": {
      "text/markdown": [
       "The stored answers are: `{1: '396', 2: '428'}`"
      ],
      "text/plain": [
       "<IPython.core.display.Markdown object>"
      ]
     },
     "metadata": {},
     "output_type": "display_data"
    }
   ],
   "source": [
    "puzzle = advent.puzzle(day=2)"
   ]
  },
  {
   "cell_type": "code",
   "execution_count": 20,
   "id": "edea671d",
   "metadata": {
    "execution": {
     "iopub.execute_input": "2022-12-19T00:40:41.776264Z",
     "iopub.status.busy": "2022-12-19T00:40:41.776141Z",
     "iopub.status.idle": "2022-12-19T00:40:41.778773Z",
     "shell.execute_reply": "2022-12-19T00:40:41.778284Z",
     "shell.execute_reply.started": "2022-12-19T00:40:41.776253Z"
    }
   },
   "outputs": [],
   "source": [
    "s1 = \"\"\"\\\n",
    "1-3 a: abcde\n",
    "1-3 b: cdefg\n",
    "2-9 c: ccccccccc\n",
    "\"\"\""
   ]
  },
  {
   "cell_type": "code",
   "execution_count": 21,
   "id": "e9be2ecb",
   "metadata": {
    "execution": {
     "iopub.execute_input": "2022-12-19T00:40:41.779758Z",
     "iopub.status.busy": "2022-12-19T00:40:41.779388Z",
     "iopub.status.idle": "2022-12-19T00:40:41.793387Z",
     "shell.execute_reply": "2022-12-19T00:40:41.792780Z",
     "shell.execute_reply.started": "2022-12-19T00:40:41.779745Z"
    }
   },
   "outputs": [
    {
     "name": "stdout",
     "output_type": "stream",
     "text": [
      "(Part 1: 0.002 s)\n",
      "(Part 2: 0.001 s)\n"
     ]
    }
   ],
   "source": [
    "def day2(s, *, part2=False):\n",
    "  lines = s.splitlines()\n",
    "  num_valid = 0\n",
    "  for line in lines:\n",
    "    vmin0, vmax0, ch, password = hh.re_groups(r'^(\\d+)-(\\d+) (\\w): (\\w+)$', line)\n",
    "    vmin, vmax = int(vmin0), int(vmax0)\n",
    "    if part2:\n",
    "      num_valid += (password[vmin - 1] == ch) ^ (password[vmax - 1] == ch)\n",
    "    else:\n",
    "      num_valid += vmin <= sum(c == ch for c in password) <= vmax\n",
    "  return num_valid\n",
    "\n",
    "\n",
    "check_eq(day2(s1), 2)\n",
    "puzzle.verify(1, day2)  # ~3 ms.\n",
    "\n",
    "day2_part2 = functools.partial(day2, part2=True)\n",
    "check_eq(day2_part2(s1), 1)\n",
    "puzzle.verify(2, day2_part2)  # ~1 ms."
   ]
  },
  {
   "cell_type": "markdown",
   "id": "1569a2cd",
   "metadata": {},
   "source": [
    "<a name=\"day3\"></a>\n",
    "## Day 3: Count intersections in grid"
   ]
  },
  {
   "cell_type": "markdown",
   "id": "9c4b3efb",
   "metadata": {},
   "source": [
    "Given a 2D grid containing sparse \"trees\", determine the number of trees encountered when moving from the top-left to the bottom row with a slope `(dy, dx)` and using wraparound addressing on the horizontal axis.\n",
    "\n",
    "- Part 1: Count the trees for the slope `(dy, dx) = (1, 3)`\n",
    "\n",
    "- Part 2: Compute the product of the tree counts for slopes `(1, 1)`, `(1, 3)`, `(1, 5)`, `(1, 7)`, and `(2, 1)`."
   ]
  },
  {
   "cell_type": "code",
   "execution_count": 22,
   "id": "366ce2e8",
   "metadata": {
    "execution": {
     "iopub.execute_input": "2022-12-19T00:40:41.796515Z",
     "iopub.status.busy": "2022-12-19T00:40:41.796228Z",
     "iopub.status.idle": "2022-12-19T00:40:41.811627Z",
     "shell.execute_reply": "2022-12-19T00:40:41.811014Z",
     "shell.execute_reply.started": "2022-12-19T00:40:41.796503Z"
    }
   },
   "outputs": [
    {
     "data": {
      "text/markdown": [
       "For [day 3](https://adventofcode.com/2020/day/3), `puzzle.input` has 323 lines:"
      ],
      "text/plain": [
       "<IPython.core.display.Markdown object>"
      ]
     },
     "metadata": {},
     "output_type": "display_data"
    },
    {
     "name": "stdout",
     "output_type": "stream",
     "text": [
      "........#.............#........\n",
      "...#....#...#....#.............\n",
      ".#..#...#............#.....#..#\n",
      "..#......#..##............###..\n",
      "..........#......#..#..#.......\n",
      ".#..#.......#.........#.#......\n",
      ".........#..#....##..#.##....#.\n",
      "..#....##...#..................\n",
      " ...\n",
      "..................#...#....#.##\n",
      "......#.#....#.................\n",
      "......#.#.....#.....#..##......\n",
      "#..##...........#..#.....#.##..\n"
     ]
    },
    {
     "data": {
      "text/markdown": [
       "The stored answers are: `{1: '148', 2: '727923200'}`"
      ],
      "text/plain": [
       "<IPython.core.display.Markdown object>"
      ]
     },
     "metadata": {},
     "output_type": "display_data"
    }
   ],
   "source": [
    "puzzle = advent.puzzle(day=3)"
   ]
  },
  {
   "cell_type": "code",
   "execution_count": 23,
   "id": "0fcf0bd1",
   "metadata": {
    "execution": {
     "iopub.execute_input": "2022-12-19T00:40:41.812353Z",
     "iopub.status.busy": "2022-12-19T00:40:41.812220Z",
     "iopub.status.idle": "2022-12-19T00:40:41.814935Z",
     "shell.execute_reply": "2022-12-19T00:40:41.814444Z",
     "shell.execute_reply.started": "2022-12-19T00:40:41.812342Z"
    }
   },
   "outputs": [],
   "source": [
    "s1 = \"\"\"\\\n",
    "..##.......\n",
    "#...#...#..\n",
    ".#....#..#.\n",
    "..#.#...#.#\n",
    ".#...##..#.\n",
    "..#.##.....\n",
    ".#.#.#....#\n",
    ".#........#\n",
    "#.##...#...\n",
    "#...##....#\n",
    ".#..#...#.#\n",
    "\"\"\""
   ]
  },
  {
   "cell_type": "code",
   "execution_count": 24,
   "id": "ad64a069",
   "metadata": {
    "execution": {
     "iopub.execute_input": "2022-12-19T00:40:41.815913Z",
     "iopub.status.busy": "2022-12-19T00:40:41.815625Z",
     "iopub.status.idle": "2022-12-19T00:40:41.828557Z",
     "shell.execute_reply": "2022-12-19T00:40:41.828015Z",
     "shell.execute_reply.started": "2022-12-19T00:40:41.815898Z"
    }
   },
   "outputs": [
    {
     "name": "stdout",
     "output_type": "stream",
     "text": [
      "(Part 1: 0.001 s)\n",
      "(Part 2: 0.001 s)\n"
     ]
    }
   ],
   "source": [
    "def day3a(s, *, part2=False):  # Slower.\n",
    "  dyxs = ((1, 1), (1, 3), (1, 5), (1, 7), (2, 1)) if part2 else ((1, 3),)\n",
    "  grid = np.array(list(map(list, s.splitlines())))\n",
    "\n",
    "  def get_count(dy, dx):\n",
    "    y, x = 0, 0\n",
    "    count = 0\n",
    "    while y < grid.shape[0]:\n",
    "      count += grid[y, x] == '#'\n",
    "      y, x = y + dy, (x + dx) % grid.shape[1]\n",
    "    return count\n",
    "\n",
    "  return math.prod(get_count(dy, dx) for dy, dx in dyxs)\n",
    "\n",
    "\n",
    "check_eq(day3a(s1), 7)\n",
    "puzzle.verify(1, day3a)  # ~1 ms.\n",
    "\n",
    "day3a_part2 = functools.partial(day3a, part2=True)\n",
    "check_eq(day3a_part2(s1), 336)\n",
    "puzzle.verify(2, day3a_part2)  # ~3 ms."
   ]
  },
  {
   "cell_type": "code",
   "execution_count": 25,
   "id": "d2ad3de1",
   "metadata": {
    "execution": {
     "iopub.execute_input": "2022-12-19T00:40:41.829522Z",
     "iopub.status.busy": "2022-12-19T00:40:41.829338Z",
     "iopub.status.idle": "2022-12-19T00:40:41.841206Z",
     "shell.execute_reply": "2022-12-19T00:40:41.840672Z",
     "shell.execute_reply.started": "2022-12-19T00:40:41.829510Z"
    }
   },
   "outputs": [
    {
     "name": "stdout",
     "output_type": "stream",
     "text": [
      "(Part 1: 0.001 s)\n",
      "(Part 2: 0.001 s)\n"
     ]
    }
   ],
   "source": [
    "def day3(s, *, part2=False):  # Faster.\n",
    "  dyxs = ((1, 1), (1, 3), (1, 5), (1, 7), (2, 1)) if part2 else ((1, 3),)\n",
    "  grid = grid_from_string(s)\n",
    "\n",
    "  def get_count(dy, dx):\n",
    "    y = np.arange(0, grid.shape[0], dy)\n",
    "    x = (np.arange(len(y)) * dx) % grid.shape[1]\n",
    "    return np.count_nonzero(grid[y, x] == '#')\n",
    "\n",
    "  return math.prod(get_count(dy, dx) for dy, dx in dyxs)\n",
    "\n",
    "\n",
    "check_eq(day3(s1), 7)\n",
    "puzzle.verify(1, day3)  # ~1 ms.\n",
    "\n",
    "day3_part2 = functools.partial(day3, part2=True)\n",
    "check_eq(day3_part2(s1), 336)\n",
    "puzzle.verify(2, day3_part2)  # ~2 ms."
   ]
  },
  {
   "cell_type": "markdown",
   "id": "4ff160c9",
   "metadata": {},
   "source": [
    "<a name=\"day4\"></a>\n",
    "## Day 4: Valid text fields"
   ]
  },
  {
   "cell_type": "markdown",
   "id": "945b32a0",
   "metadata": {},
   "source": [
    "Given records containing various fields, count the number of valid records.\n",
    "\n",
    "- Part 1: Each record is valid if it contains at least some required fields.\n",
    "\n",
    "- Part 2: The fields also satisfy a set of requirements."
   ]
  },
  {
   "cell_type": "code",
   "execution_count": 26,
   "id": "9373bf3b",
   "metadata": {
    "execution": {
     "iopub.execute_input": "2022-12-19T00:40:41.842191Z",
     "iopub.status.busy": "2022-12-19T00:40:41.841893Z",
     "iopub.status.idle": "2022-12-19T00:40:41.855383Z",
     "shell.execute_reply": "2022-12-19T00:40:41.854847Z",
     "shell.execute_reply.started": "2022-12-19T00:40:41.842159Z"
    }
   },
   "outputs": [
    {
     "data": {
      "text/markdown": [
       "For [day 4](https://adventofcode.com/2020/day/4), `puzzle.input` has 1_102 lines:"
      ],
      "text/plain": [
       "<IPython.core.display.Markdown object>"
      ]
     },
     "metadata": {},
     "output_type": "display_data"
    },
    {
     "name": "stdout",
     "output_type": "stream",
     "text": [
      "hcl:5d90f0 cid:270 ecl:#66dc9c hgt:62cm byr:1945 pid:63201172 eyr:2026\n",
      "\n",
      "ecl:amb byr:1943 iyr:2014 eyr:2028\n",
      "pid:333051831\n",
      "\n",
      "byr:1971\n",
      "eyr:2021 iyr:2015 pid:158388040 hcl:#18171d ecl:brn hgt:179cm\n",
      "\n",
      " ...\n",
      "hcl:#7d3b0c pid:431742871\n",
      "ecl:hzl hgt:169cm cid:340\n",
      "eyr:2023\n",
      "iyr:2017 byr:1994\n"
     ]
    },
    {
     "data": {
      "text/markdown": [
       "The stored answers are: `{1: '216', 2: '150'}`"
      ],
      "text/plain": [
       "<IPython.core.display.Markdown object>"
      ]
     },
     "metadata": {},
     "output_type": "display_data"
    }
   ],
   "source": [
    "puzzle = advent.puzzle(day=4)"
   ]
  },
  {
   "cell_type": "code",
   "execution_count": 27,
   "id": "f587dbfb",
   "metadata": {
    "execution": {
     "iopub.execute_input": "2022-12-19T00:40:41.856283Z",
     "iopub.status.busy": "2022-12-19T00:40:41.856021Z",
     "iopub.status.idle": "2022-12-19T00:40:41.859016Z",
     "shell.execute_reply": "2022-12-19T00:40:41.858491Z",
     "shell.execute_reply.started": "2022-12-19T00:40:41.856269Z"
    }
   },
   "outputs": [],
   "source": [
    "s1 = \"\"\"\\\n",
    "ecl:gry pid:860033327 eyr:2020 hcl:#fffffd\n",
    "byr:1937 iyr:2017 cid:147 hgt:183cm\n",
    "\n",
    "iyr:2013 ecl:amb cid:350 eyr:2023 pid:028048884\n",
    "hcl:#cfa07d byr:1929\n",
    "\n",
    "hcl:#ae17e1 iyr:2013\n",
    "eyr:2024\n",
    "ecl:brn pid:760753108 byr:1931\n",
    "hgt:179cm\n",
    "\n",
    "hcl:#cfa07d eyr:2025 pid:166559648\n",
    "iyr:2011 ecl:brn hgt:59in\n",
    "\"\"\"\n",
    "\n",
    "# all invalid\n",
    "s2 = \"\"\"\\\n",
    "eyr:1972 cid:100\n",
    "hcl:#18171d ecl:amb hgt:170 pid:186cm iyr:2018 byr:1926\n",
    "\n",
    "iyr:2019\n",
    "hcl:#602927 eyr:1967 hgt:170cm\n",
    "ecl:grn pid:012533040 byr:1946\n",
    "\n",
    "hcl:dab227 iyr:2012\n",
    "ecl:brn hgt:182cm pid:021572410 eyr:2020 byr:1992 cid:277\n",
    "\n",
    "hgt:59cm ecl:zzz\n",
    "eyr:2038 hcl:74454a iyr:2023\n",
    "pid:3556412378 byr:2007\n",
    "\"\"\"\n",
    "\n",
    "# all valid\n",
    "s3 = \"\"\"\\\n",
    "pid:087499704 hgt:74in ecl:grn iyr:2012 eyr:2030 byr:1980\n",
    "hcl:#623a2f\n",
    "\n",
    "eyr:2029 ecl:blu cid:129 byr:1989\n",
    "iyr:2014 pid:896056539 hcl:#a97842 hgt:165cm\n",
    "\n",
    "hcl:#888785\n",
    "hgt:164cm byr:2001 iyr:2015 cid:88\n",
    "pid:545766238 ecl:hzl\n",
    "eyr:2022\n",
    "\n",
    "iyr:2010 hgt:158cm hcl:#b6652a ecl:blu byr:1944 eyr:2021 pid:093154719\n",
    "\"\"\""
   ]
  },
  {
   "cell_type": "code",
   "execution_count": 28,
   "id": "a17e9120",
   "metadata": {
    "execution": {
     "iopub.execute_input": "2022-12-19T00:40:41.859851Z",
     "iopub.status.busy": "2022-12-19T00:40:41.859597Z",
     "iopub.status.idle": "2022-12-19T00:40:41.872834Z",
     "shell.execute_reply": "2022-12-19T00:40:41.872192Z",
     "shell.execute_reply.started": "2022-12-19T00:40:41.859837Z"
    }
   },
   "outputs": [],
   "source": [
    "# Field requirements:\n",
    "# byr (Birth Year) - four digits; at least 1920 and at most 2002.\n",
    "# iyr (Issue Year) - four digits; at least 2010 and at most 2020.\n",
    "# eyr (Expiration Year) - four digits; at least 2020 and at most 2030.\n",
    "# hgt (Height) - a number followed by either cm or in:\n",
    "# If cm, the number must be at least 150 and at most 193.\n",
    "# If in, the number must be at least 59 and at most 76.\n",
    "# hcl (Hair Color) - a # followed by exactly six characters 0-9 or a-f.\n",
    "# ecl (Eye Color) - exactly one of: amb blu brn gry grn hzl oth.\n",
    "# pid (Passport ID) - a nine-digit number, including leading zeroes.\n",
    "# cid (Country ID) - ignored, missing or not."
   ]
  },
  {
   "cell_type": "code",
   "execution_count": 29,
   "id": "c226bd9f",
   "metadata": {
    "execution": {
     "iopub.execute_input": "2022-12-19T00:40:41.874191Z",
     "iopub.status.busy": "2022-12-19T00:40:41.873787Z",
     "iopub.status.idle": "2022-12-19T00:40:41.889289Z",
     "shell.execute_reply": "2022-12-19T00:40:41.888769Z",
     "shell.execute_reply.started": "2022-12-19T00:40:41.874171Z"
    }
   },
   "outputs": [
    {
     "name": "stdout",
     "output_type": "stream",
     "text": [
      "(Part 1: 0.002 s)\n",
      "(Part 2: 0.002 s)\n"
     ]
    }
   ],
   "source": [
    "def day4(s, *, part2=False):\n",
    "  passports = s.split('\\n\\n')\n",
    "\n",
    "  def part1_valid(fields):\n",
    "    required_fields = set('byr iyr eyr hgt hcl ecl pid'.split())\n",
    "    return all(field in fields for field in required_fields)\n",
    "\n",
    "  def year(field):\n",
    "    return int(hh.re_groups(r'^(\\d{4})$', fields[field])[0])\n",
    "\n",
    "  def part2_valid(fields):\n",
    "    try:\n",
    "      value, unit = hh.re_groups(r'^(\\d+)(cm|in)$', fields['hgt'])\n",
    "      return bool(\n",
    "          1920 <= year('byr') <= 2002\n",
    "          and 2010 <= year('iyr') <= 2020  # pylint: disable=chained-comparison\n",
    "          and 2020 <= year('eyr') <= 2030\n",
    "          and (unit != 'cm' or 150 <= int(value) <= 193)\n",
    "          and (unit != 'in' or 59 <= int(value) <= 76)\n",
    "          and re.fullmatch(r'#[0-9a-f]{6}', fields['hcl'])\n",
    "          and fields['ecl'] in 'amb blu brn gry grn hzl oth'.split()\n",
    "          and re.fullmatch(r'[0-9]{9}', fields['pid'])\n",
    "      )\n",
    "    except (KeyError, ValueError):\n",
    "      return False\n",
    "\n",
    "  num_valid = 0\n",
    "  for passport in passports:\n",
    "    fields: dict[str, str] = dict(\n",
    "        hh.re_groups(r'^(\\w\\w\\w):(\\S+)$', s_field)  # type: ignore[misc]\n",
    "        for s_field in passport.split()\n",
    "    )\n",
    "    num_valid += part2_valid(fields) if part2 else part1_valid(fields)\n",
    "\n",
    "  return num_valid\n",
    "\n",
    "\n",
    "check_eq(day4(s1), 2)\n",
    "puzzle.verify(1, day4)  # ~3 ms.\n",
    "\n",
    "day4_part2 = functools.partial(day4, part2=True)\n",
    "check_eq(day4_part2(s2), 0)  # all records are invalid\n",
    "check_eq(day4_part2(s3), 4)  # all records are valid\n",
    "puzzle.verify(2, day4_part2)  # ~6 ms."
   ]
  },
  {
   "cell_type": "markdown",
   "id": "8f9a1524",
   "metadata": {},
   "source": [
    "<a name=\"day5\"></a>\n",
    "## Day 5: Free seat in grid"
   ]
  },
  {
   "cell_type": "markdown",
   "id": "905d5b4d",
   "metadata": {},
   "source": [
    "Given input lines, each specifiying a seat identified using a binary encoding with symbols **B**ack, **F**ront, **L**eft, **R**ight.\n",
    "\n",
    "- Part 1: Determine the maximum seat id.\n",
    "\n",
    "- Part 2: Determine the missing seat id in the middle of the bunch."
   ]
  },
  {
   "cell_type": "code",
   "execution_count": 30,
   "id": "c06a8364",
   "metadata": {
    "execution": {
     "iopub.execute_input": "2022-12-19T00:40:41.890338Z",
     "iopub.status.busy": "2022-12-19T00:40:41.890014Z",
     "iopub.status.idle": "2022-12-19T00:40:41.907632Z",
     "shell.execute_reply": "2022-12-19T00:40:41.907068Z",
     "shell.execute_reply.started": "2022-12-19T00:40:41.890321Z"
    }
   },
   "outputs": [
    {
     "data": {
      "text/markdown": [
       "For [day 5](https://adventofcode.com/2020/day/5), `puzzle.input` has 897 lines:"
      ],
      "text/plain": [
       "<IPython.core.display.Markdown object>"
      ]
     },
     "metadata": {},
     "output_type": "display_data"
    },
    {
     "name": "stdout",
     "output_type": "stream",
     "text": [
      "BFBBFFBRRL\n",
      "BFBFFFFRLL\n",
      "FBFBFFBRRR\n",
      "FFBBBFBRLL\n",
      "BBBFBFBRLR\n",
      "BFBBFBFLRR\n",
      "FBBBFFFRRL\n",
      "BBFFBFFLLL\n",
      " ...\n",
      "BBFBFBFRRL\n",
      "BFFBBBBLLL\n",
      "FBFFBFBRRR\n",
      "FBFFFFBRLR\n"
     ]
    },
    {
     "data": {
      "text/markdown": [
       "The stored answers are: `{1: '965', 2: '524'}`"
      ],
      "text/plain": [
       "<IPython.core.display.Markdown object>"
      ]
     },
     "metadata": {},
     "output_type": "display_data"
    }
   ],
   "source": [
    "puzzle = advent.puzzle(day=5)"
   ]
  },
  {
   "cell_type": "code",
   "execution_count": 31,
   "id": "a1195a60",
   "metadata": {
    "execution": {
     "iopub.execute_input": "2022-12-19T00:40:41.908699Z",
     "iopub.status.busy": "2022-12-19T00:40:41.908354Z",
     "iopub.status.idle": "2022-12-19T00:40:41.912919Z",
     "shell.execute_reply": "2022-12-19T00:40:41.912421Z",
     "shell.execute_reply.started": "2022-12-19T00:40:41.908683Z"
    }
   },
   "outputs": [
    {
     "name": "stdout",
     "output_type": "stream",
     "text": [
      "(Part 1: 0.000 s)\n"
     ]
    }
   ],
   "source": [
    "def day5_seat_id(line):\n",
    "  return int(line.translate(str.maketrans('FBLR', '0101')), base=2)\n",
    "\n",
    "\n",
    "check_eq(day5_seat_id('FBFBBFFRLR'), 357)\n",
    "check_eq(day5_seat_id('BFFFBBFRRR'), 567)\n",
    "check_eq(day5_seat_id('FFFBBBFRRR'), 119)\n",
    "check_eq(day5_seat_id('BBFFBBFRLL'), 820)\n",
    "\n",
    "\n",
    "def day5(s):\n",
    "  return max(day5_seat_id(line) for line in s.split())\n",
    "\n",
    "\n",
    "puzzle.verify(1, day5)  # ~1 ms."
   ]
  },
  {
   "cell_type": "markdown",
   "id": "543f062f",
   "metadata": {},
   "source": [
    "Part 2"
   ]
  },
  {
   "cell_type": "code",
   "execution_count": 32,
   "id": "2c44f72d",
   "metadata": {
    "execution": {
     "iopub.execute_input": "2022-12-19T00:40:41.913538Z",
     "iopub.status.busy": "2022-12-19T00:40:41.913374Z",
     "iopub.status.idle": "2022-12-19T00:40:41.927393Z",
     "shell.execute_reply": "2022-12-19T00:40:41.926896Z",
     "shell.execute_reply.started": "2022-12-19T00:40:41.913484Z"
    }
   },
   "outputs": [
    {
     "data": {
      "text/html": [
       "<table class=\"show_images\" style=\"border-spacing:0px;\"><tr><td style=\"padding:1px;\"><img width=\"600\" height=\"38\" style=\"border:1px solid black; image-rendering:pixelated; object-fit:cover;\" src=\"data:image/png;base64,iVBORw0KGgoAAAANSUhEUgAAAIAAAAAICAIAAAC+v2ApAAAASUlEQVR4nO3VMQoAIAxDUeP97xxXoVZwsaTkjboI3ypGjuRl114BiIvz/zls5wDFHKBYGkDoAzi+rSo6TIDQXYk6BJCQjakDFFsctAkQyvXN5QAAAABJRU5ErkJggg==\"/></td></tr></table>"
      ],
      "text/plain": [
       "<IPython.core.display.HTML object>"
      ]
     },
     "metadata": {},
     "output_type": "display_data"
    }
   ],
   "source": [
    "def day5_visualize_transposed_seat_grid(s):\n",
    "  grid = np.full((128, 8), 0)\n",
    "  yx = np.array([divmod(day5_seat_id(line), 8) for line in s.split()])\n",
    "  grid[tuple(yx.T)] = 1\n",
    "  if 0:\n",
    "    print('\\n'.join(''.join('.#'[e] for e in row) for row in grid.T))\n",
    "  media.show_image(grid.T == 1, border=True, width=600)\n",
    "\n",
    "\n",
    "day5_visualize_transposed_seat_grid(puzzle.input)"
   ]
  },
  {
   "cell_type": "code",
   "execution_count": 33,
   "id": "193193d0",
   "metadata": {
    "execution": {
     "iopub.execute_input": "2022-12-19T00:40:41.928248Z",
     "iopub.status.busy": "2022-12-19T00:40:41.927998Z",
     "iopub.status.idle": "2022-12-19T00:40:41.938091Z",
     "shell.execute_reply": "2022-12-19T00:40:41.937536Z",
     "shell.execute_reply.started": "2022-12-19T00:40:41.928234Z"
    }
   },
   "outputs": [
    {
     "name": "stdout",
     "output_type": "stream",
     "text": [
      "(Part 2: 0.002 s)\n"
     ]
    }
   ],
   "source": [
    "def day5a_part2(s):  # Using regular expression search.\n",
    "  seat_ids = [day5_seat_id(line) for line in s.split()]\n",
    "  occupied = ''.join('01'[seat_id in seat_ids] for seat_id in range(128 * 8))\n",
    "  (seat_id,) = [match.start() for match in re.finditer('(?<=1)0(?=1)', occupied)]\n",
    "  return seat_id\n",
    "\n",
    "\n",
    "puzzle.verify(2, day5a_part2)  # ~11 ms."
   ]
  },
  {
   "cell_type": "code",
   "execution_count": 34,
   "id": "e7b811cf",
   "metadata": {
    "execution": {
     "iopub.execute_input": "2022-12-19T00:40:41.939177Z",
     "iopub.status.busy": "2022-12-19T00:40:41.938782Z",
     "iopub.status.idle": "2022-12-19T00:40:41.950547Z",
     "shell.execute_reply": "2022-12-19T00:40:41.950008Z",
     "shell.execute_reply.started": "2022-12-19T00:40:41.939161Z"
    }
   },
   "outputs": [
    {
     "name": "stdout",
     "output_type": "stream",
     "text": [
      "(Part 2: 0.002 s)\n"
     ]
    }
   ],
   "source": [
    "def day5b_part2(s):  # Using string indexing.\n",
    "  def find_all(string, substring, overlapping=False):\n",
    "    i = string.find(substring)\n",
    "    while i != -1:\n",
    "      yield i\n",
    "      i = string.find(substring, i + (1 if overlapping else len(substring)))\n",
    "\n",
    "  seat_ids = [day5_seat_id(line) for line in s.split()]\n",
    "  occupied = ''.join('01'[seat_id in seat_ids] for seat_id in range(128 * 8))\n",
    "  (i,) = list(find_all(occupied, '101'))\n",
    "  seat_id = i + 1\n",
    "  return seat_id\n",
    "\n",
    "\n",
    "puzzle.verify(2, day5b_part2)  # ~9 ms."
   ]
  },
  {
   "cell_type": "code",
   "execution_count": 35,
   "id": "b3fd88a0",
   "metadata": {
    "execution": {
     "iopub.execute_input": "2022-12-19T00:40:41.951487Z",
     "iopub.status.busy": "2022-12-19T00:40:41.951209Z",
     "iopub.status.idle": "2022-12-19T00:40:41.961454Z",
     "shell.execute_reply": "2022-12-19T00:40:41.960725Z",
     "shell.execute_reply.started": "2022-12-19T00:40:41.951474Z"
    }
   },
   "outputs": [
    {
     "name": "stdout",
     "output_type": "stream",
     "text": [
      "(Part 2: 0.001 s)\n"
     ]
    }
   ],
   "source": [
    "def day5c_part2(s):  # Fast, using numpy successive differences of sorted indices.\n",
    "  seat_ids = np.sort([day5_seat_id(line) for line in s.split()])\n",
    "  diff = np.diff(seat_ids)\n",
    "  ((i,),) = np.nonzero(diff == 2)\n",
    "  seat_id = seat_ids[i] + 1\n",
    "  return seat_id\n",
    "\n",
    "\n",
    "puzzle.verify(2, day5c_part2)  # ~2 ms."
   ]
  },
  {
   "cell_type": "code",
   "execution_count": 36,
   "id": "ecba4209",
   "metadata": {
    "execution": {
     "iopub.execute_input": "2022-12-19T00:40:41.962415Z",
     "iopub.status.busy": "2022-12-19T00:40:41.962241Z",
     "iopub.status.idle": "2022-12-19T00:40:41.971928Z",
     "shell.execute_reply": "2022-12-19T00:40:41.971339Z",
     "shell.execute_reply.started": "2022-12-19T00:40:41.962403Z"
    }
   },
   "outputs": [
    {
     "name": "stdout",
     "output_type": "stream",
     "text": [
      "(Part 2: 0.001 s)\n"
     ]
    }
   ],
   "source": [
    "def day5_part2(s):  # Also fast, using numpy subsequence search.\n",
    "  def matching_subsequences(array, sequence):\n",
    "    array, sequence = np.asarray(array), np.asarray(sequence)\n",
    "    return (\n",
    "        array[np.arange(len(array) - len(sequence) + 1)[:, None] + np.arange(len(sequence))]\n",
    "        == sequence\n",
    "    ).all(axis=1)\n",
    "\n",
    "  seat_ids = [day5_seat_id(line) for line in s.split()]\n",
    "  occupied = np.full(128 * 8, False)\n",
    "  occupied[seat_ids] = True\n",
    "  ((i,),) = matching_subsequences(occupied, (1, 0, 1)).nonzero()\n",
    "  seat_id = i + 1\n",
    "  return seat_id\n",
    "\n",
    "\n",
    "puzzle.verify(2, day5_part2)  # ~2 ms."
   ]
  },
  {
   "cell_type": "markdown",
   "id": "fc0d6aa2",
   "metadata": {},
   "source": [
    "<a name=\"day6\"></a>\n",
    "## Day 6: Counts across groups"
   ]
  },
  {
   "cell_type": "markdown",
   "id": "75fd09e1",
   "metadata": {},
   "source": [
    "Given a set of records of words:\n",
    "\n",
    "- Part 1: Compute the number of unique letters in each record, and sum these.\n",
    "\n",
    "- Part 2: Compute the number of letters appearing in all words of each record, and sum these."
   ]
  },
  {
   "cell_type": "code",
   "execution_count": 37,
   "id": "e7ed6755",
   "metadata": {
    "execution": {
     "iopub.execute_input": "2022-12-19T00:40:41.972835Z",
     "iopub.status.busy": "2022-12-19T00:40:41.972676Z",
     "iopub.status.idle": "2022-12-19T00:40:41.991066Z",
     "shell.execute_reply": "2022-12-19T00:40:41.990394Z",
     "shell.execute_reply.started": "2022-12-19T00:40:41.972821Z"
    }
   },
   "outputs": [
    {
     "data": {
      "text/markdown": [
       "For [day 6](https://adventofcode.com/2020/day/6), `puzzle.input` has 2_172 lines:"
      ],
      "text/plain": [
       "<IPython.core.display.Markdown object>"
      ]
     },
     "metadata": {},
     "output_type": "display_data"
    },
    {
     "name": "stdout",
     "output_type": "stream",
     "text": [
      "su\n",
      "egu\n",
      "\n",
      "h\n",
      "h\n",
      "h\n",
      "h\n",
      "\n",
      " ...\n",
      "\n",
      "lfhtzrxcj\n",
      "fbtzlhrcj\n",
      "lzdaftrjphco\n"
     ]
    },
    {
     "data": {
      "text/markdown": [
       "The stored answers are: `{1: '6590', 2: '3288'}`"
      ],
      "text/plain": [
       "<IPython.core.display.Markdown object>"
      ]
     },
     "metadata": {},
     "output_type": "display_data"
    }
   ],
   "source": [
    "puzzle = advent.puzzle(day=6)"
   ]
  },
  {
   "cell_type": "code",
   "execution_count": 38,
   "id": "db6c300e",
   "metadata": {
    "execution": {
     "iopub.execute_input": "2022-12-19T00:40:41.992221Z",
     "iopub.status.busy": "2022-12-19T00:40:41.991892Z",
     "iopub.status.idle": "2022-12-19T00:40:41.994569Z",
     "shell.execute_reply": "2022-12-19T00:40:41.994085Z",
     "shell.execute_reply.started": "2022-12-19T00:40:41.992209Z"
    }
   },
   "outputs": [],
   "source": [
    "s1 = \"\"\"\\\n",
    "abc\n",
    "\n",
    "a\n",
    "b\n",
    "c\n",
    "\n",
    "ab\n",
    "ac\n",
    "\n",
    "a\n",
    "a\n",
    "a\n",
    "a\n",
    "\n",
    "b\n",
    "\"\"\""
   ]
  },
  {
   "cell_type": "markdown",
   "id": "6b1234f7",
   "metadata": {},
   "source": [
    "Part 1"
   ]
  },
  {
   "cell_type": "code",
   "execution_count": 39,
   "id": "31e2701e",
   "metadata": {
    "execution": {
     "iopub.execute_input": "2022-12-19T00:40:41.995378Z",
     "iopub.status.busy": "2022-12-19T00:40:41.995165Z",
     "iopub.status.idle": "2022-12-19T00:40:42.005255Z",
     "shell.execute_reply": "2022-12-19T00:40:42.004751Z",
     "shell.execute_reply.started": "2022-12-19T00:40:41.995363Z"
    }
   },
   "outputs": [
    {
     "name": "stdout",
     "output_type": "stream",
     "text": [
      "(Part 1: 0.001 s)\n"
     ]
    }
   ],
   "source": [
    "def day6a_part1(s):  # Long code.\n",
    "  total = 0\n",
    "  for group in s.split('\\n\\n'):\n",
    "    union = set()\n",
    "    for line in group.splitlines():\n",
    "      union |= set(line)\n",
    "    total += len(union)\n",
    "  return total\n",
    "\n",
    "\n",
    "check_eq(day6a_part1(s1), 11)\n",
    "puzzle.verify(1, day6a_part1)  # ~3 ms."
   ]
  },
  {
   "cell_type": "code",
   "execution_count": 40,
   "id": "5f7860e0",
   "metadata": {
    "execution": {
     "iopub.execute_input": "2022-12-19T00:40:42.006082Z",
     "iopub.status.busy": "2022-12-19T00:40:42.005847Z",
     "iopub.status.idle": "2022-12-19T00:40:42.016228Z",
     "shell.execute_reply": "2022-12-19T00:40:42.015754Z",
     "shell.execute_reply.started": "2022-12-19T00:40:42.006070Z"
    }
   },
   "outputs": [
    {
     "name": "stdout",
     "output_type": "stream",
     "text": [
      "(Part 1: 0.001 s)\n"
     ]
    }
   ],
   "source": [
    "def day6b_part1(s):  # Using reduction.\n",
    "  return sum(\n",
    "      len(functools.reduce(operator.or_, map(set, group.splitlines()))) for group in s.split('\\n\\n')\n",
    "  )\n",
    "\n",
    "\n",
    "check_eq(day6b_part1(s1), 11)\n",
    "puzzle.verify(1, day6b_part1)  # ~3 ms."
   ]
  },
  {
   "cell_type": "code",
   "execution_count": 41,
   "id": "04284f36",
   "metadata": {
    "execution": {
     "iopub.execute_input": "2022-12-19T00:40:42.017050Z",
     "iopub.status.busy": "2022-12-19T00:40:42.016808Z",
     "iopub.status.idle": "2022-12-19T00:40:42.026128Z",
     "shell.execute_reply": "2022-12-19T00:40:42.025586Z",
     "shell.execute_reply.started": "2022-12-19T00:40:42.017038Z"
    }
   },
   "outputs": [
    {
     "name": "stdout",
     "output_type": "stream",
     "text": [
      "(Part 1: 0.000 s)\n"
     ]
    }
   ],
   "source": [
    "def day6_part1(s):  # Compact, and also fastest.\n",
    "  return sum(len(set(group.replace('\\n', ''))) for group in s.split('\\n\\n'))\n",
    "\n",
    "\n",
    "check_eq(day6_part1(s1), 11)\n",
    "puzzle.verify(1, day6_part1)  # ~1 ms."
   ]
  },
  {
   "cell_type": "markdown",
   "id": "14e8e7d3",
   "metadata": {},
   "source": [
    "Part 2"
   ]
  },
  {
   "cell_type": "code",
   "execution_count": 42,
   "id": "8f986aaf",
   "metadata": {
    "execution": {
     "iopub.execute_input": "2022-12-19T00:40:42.027283Z",
     "iopub.status.busy": "2022-12-19T00:40:42.026903Z",
     "iopub.status.idle": "2022-12-19T00:40:42.036532Z",
     "shell.execute_reply": "2022-12-19T00:40:42.036068Z",
     "shell.execute_reply.started": "2022-12-19T00:40:42.027267Z"
    }
   },
   "outputs": [
    {
     "name": "stdout",
     "output_type": "stream",
     "text": [
      "(Part 2: 0.001 s)\n"
     ]
    }
   ],
   "source": [
    "def day6a_part2(s):  # Using reduction.\n",
    "  return sum(\n",
    "      len(functools.reduce(operator.and_, map(set, group.splitlines())))\n",
    "      for group in s.split('\\n\\n')\n",
    "  )\n",
    "\n",
    "\n",
    "check_eq(day6a_part2(s1), 6)\n",
    "puzzle.verify(2, day6a_part2)  # ~3 ms."
   ]
  },
  {
   "cell_type": "code",
   "execution_count": 43,
   "id": "3c016a5a",
   "metadata": {
    "execution": {
     "iopub.execute_input": "2022-12-19T00:40:42.037391Z",
     "iopub.status.busy": "2022-12-19T00:40:42.037088Z",
     "iopub.status.idle": "2022-12-19T00:40:42.046955Z",
     "shell.execute_reply": "2022-12-19T00:40:42.046402Z",
     "shell.execute_reply.started": "2022-12-19T00:40:42.037379Z"
    }
   },
   "outputs": [
    {
     "name": "stdout",
     "output_type": "stream",
     "text": [
      "(Part 2: 0.001 s)\n"
     ]
    }
   ],
   "source": [
    "def day6_part2(s):  # Compact and same speed.\n",
    "  return sum(len(set.intersection(*map(set, group.splitlines()))) for group in s.split('\\n\\n'))\n",
    "\n",
    "\n",
    "check_eq(day6_part2(s1), 6)\n",
    "puzzle.verify(2, day6_part2)  # ~3 ms."
   ]
  },
  {
   "cell_type": "markdown",
   "id": "d3d97269",
   "metadata": {},
   "source": [
    "<a name=\"day7\"></a>\n",
    "## Day 7: Nested bags"
   ]
  },
  {
   "cell_type": "markdown",
   "id": "e52eec40",
   "metadata": {},
   "source": [
    "Given a description of bag colors, where each colored bag contains a collection of other colored bags:\n",
    "\n",
    "- Part 1: Determine the number of bag colors that can eventually contain a specified bag color.\n",
    "\n",
    "- Part 2: Determine the total number of bags required inside a specified bag color."
   ]
  },
  {
   "cell_type": "code",
   "execution_count": 44,
   "id": "7447bc2e",
   "metadata": {
    "execution": {
     "iopub.execute_input": "2022-12-19T00:40:42.047805Z",
     "iopub.status.busy": "2022-12-19T00:40:42.047530Z",
     "iopub.status.idle": "2022-12-19T00:40:42.062987Z",
     "shell.execute_reply": "2022-12-19T00:40:42.062473Z",
     "shell.execute_reply.started": "2022-12-19T00:40:42.047791Z"
    }
   },
   "outputs": [
    {
     "data": {
      "text/markdown": [
       "For [day 7](https://adventofcode.com/2020/day/7), `puzzle.input` has 594 lines:"
      ],
      "text/plain": [
       "<IPython.core.display.Markdown object>"
      ]
     },
     "metadata": {},
     "output_type": "display_data"
    },
    {
     "name": "stdout",
     "output_type": "stream",
     "text": [
      "dim red bags contain 2 bright gold bags, 5 striped fuchsia bags.\n",
      "dotted purple bags contain 5 bright olive bags, 3 faded maroon bags.\n",
      "plaid chartreuse bags contain 1 vibrant olive bag, 5 bright black bags, 1 clear tomato bag.\n",
      "wavy orange bags contain 4 dark lavender bags, 4 posh white bags.\n",
      "light lavender bags contain 4 drab olive bags, 5 dark magenta bags.\n",
      "pale black bags contain 5 dotted beige bags, 5 clear chartreuse bags, 4 pale lime bags.\n",
      "wavy crimson bags contain 5 dull tomato bags.\n",
      "muted aqua bags contain 1 dotted aqua bag, 5 posh plum bags, 1 bright blue bag.\n",
      " ...\n",
      "vibrant lime bags contain 5 light green bags.\n",
      "dark maroon bags contain 5 drab bronze bags, 4 bright red bags, 1 posh cyan bag.\n",
      "wavy red bags contain 2 mirrored beige bags, 5 muted crimson bags, 5 vibrant orange bags, 3 posh turquoise bags.\n",
      "drab brown bags contain 1 faded tan bag, 3 vibrant maroon bags.\n"
     ]
    },
    {
     "data": {
      "text/markdown": [
       "The stored answers are: `{1: '115', 2: '1250'}`"
      ],
      "text/plain": [
       "<IPython.core.display.Markdown object>"
      ]
     },
     "metadata": {},
     "output_type": "display_data"
    }
   ],
   "source": [
    "puzzle = advent.puzzle(day=7)"
   ]
  },
  {
   "cell_type": "code",
   "execution_count": 45,
   "id": "45acb8d9",
   "metadata": {
    "execution": {
     "iopub.execute_input": "2022-12-19T00:40:42.063913Z",
     "iopub.status.busy": "2022-12-19T00:40:42.063629Z",
     "iopub.status.idle": "2022-12-19T00:40:42.066739Z",
     "shell.execute_reply": "2022-12-19T00:40:42.066234Z",
     "shell.execute_reply.started": "2022-12-19T00:40:42.063899Z"
    }
   },
   "outputs": [],
   "source": [
    "s1 = \"\"\"\\\n",
    "light red bags contain 1 bright white bag, 2 muted yellow bags.\n",
    "dark orange bags contain 3 bright white bags, 4 muted yellow bags.\n",
    "bright white bags contain 1 shiny gold bag.\n",
    "muted yellow bags contain 2 shiny gold bags, 9 faded blue bags.\n",
    "shiny gold bags contain 1 dark olive bag, 2 vibrant plum bags.\n",
    "dark olive bags contain 3 faded blue bags, 4 dotted black bags.\n",
    "vibrant plum bags contain 5 faded blue bags, 6 dotted black bags.\n",
    "faded blue bags contain no other bags.\n",
    "dotted black bags contain no other bags.\n",
    "\"\"\"\n",
    "\n",
    "s2 = \"\"\"\\\n",
    "shiny gold bags contain 2 dark red bags.\n",
    "dark red bags contain 2 dark orange bags.\n",
    "dark orange bags contain 2 dark yellow bags.\n",
    "dark yellow bags contain 2 dark green bags.\n",
    "dark green bags contain 2 dark blue bags.\n",
    "dark blue bags contain 2 dark violet bags.\n",
    "dark violet bags contain no other bags.\n",
    "\"\"\""
   ]
  },
  {
   "cell_type": "code",
   "execution_count": 46,
   "id": "b3e79ad7",
   "metadata": {
    "execution": {
     "iopub.execute_input": "2022-12-19T00:40:42.067509Z",
     "iopub.status.busy": "2022-12-19T00:40:42.067266Z",
     "iopub.status.idle": "2022-12-19T00:40:42.083120Z",
     "shell.execute_reply": "2022-12-19T00:40:42.082418Z",
     "shell.execute_reply.started": "2022-12-19T00:40:42.067497Z"
    }
   },
   "outputs": [],
   "source": [
    "def day7_bag_contents(s):\n",
    "  contents: dict[str, dict[str, int]] = {}\n",
    "  regex = re.compile(r'(\\d+) (.*?) bags?[,.]')\n",
    "  for line in s.splitlines():\n",
    "    outer, inners = line.split(' bags contain ')\n",
    "    contents[outer] = {}\n",
    "    for match in regex.finditer(inners):\n",
    "      n, inner = match.groups()\n",
    "      contents[outer][inner] = int(n)\n",
    "  return contents"
   ]
  },
  {
   "cell_type": "code",
   "execution_count": 47,
   "id": "af139359",
   "metadata": {
    "execution": {
     "iopub.execute_input": "2022-12-19T00:40:42.084140Z",
     "iopub.status.busy": "2022-12-19T00:40:42.083824Z",
     "iopub.status.idle": "2022-12-19T00:40:42.095314Z",
     "shell.execute_reply": "2022-12-19T00:40:42.094706Z",
     "shell.execute_reply.started": "2022-12-19T00:40:42.084124Z"
    }
   },
   "outputs": [
    {
     "name": "stdout",
     "output_type": "stream",
     "text": [
      "(Part 1: 0.002 s)\n"
     ]
    }
   ],
   "source": [
    "def day7a_part1(s, *, query='shiny gold'):  # Compact and fast with caching.\n",
    "  \"\"\"Returns number of bag colors that can eventually contain >=1 query bag.\"\"\"\n",
    "  contents = day7_bag_contents(s)\n",
    "\n",
    "  @functools.lru_cache(maxsize=None)\n",
    "  def valid(bag):\n",
    "    return any(inner == query or valid(inner) for inner in contents[bag])\n",
    "\n",
    "  return sum(valid(bag) for bag in contents)\n",
    "\n",
    "\n",
    "check_eq(day7a_part1(s1), 4)\n",
    "puzzle.verify(1, day7a_part1)  # ~3 ms.  (~240 ms without lru_cache)"
   ]
  },
  {
   "cell_type": "code",
   "execution_count": 48,
   "id": "eb513376",
   "metadata": {
    "execution": {
     "iopub.execute_input": "2022-12-19T00:40:42.096509Z",
     "iopub.status.busy": "2022-12-19T00:40:42.096097Z",
     "iopub.status.idle": "2022-12-19T00:40:42.107643Z",
     "shell.execute_reply": "2022-12-19T00:40:42.107026Z",
     "shell.execute_reply.started": "2022-12-19T00:40:42.096495Z"
    }
   },
   "outputs": [
    {
     "name": "stdout",
     "output_type": "stream",
     "text": [
      "(Part 1: 0.002 s)\n"
     ]
    }
   ],
   "source": [
    "def day7_part1(s, *, query='shiny gold'):  # Fast too.\n",
    "  contents = day7_bag_contents(s)  # computational bottleneck\n",
    "  parents = collections.defaultdict(list)\n",
    "  for bag, children in contents.items():\n",
    "    for child in children:\n",
    "      parents[child].append(bag)\n",
    "\n",
    "  valid = set()\n",
    "  to_visit = collections.deque([query])\n",
    "  while to_visit:\n",
    "    bag = to_visit.popleft()\n",
    "    for parent in parents[bag]:\n",
    "      if parent not in valid:\n",
    "        valid.add(parent)\n",
    "        to_visit.append(parent)\n",
    "\n",
    "  return len(valid)\n",
    "\n",
    "\n",
    "check_eq(day7_part1(s1), 4)\n",
    "puzzle.verify(1, day7_part1)  # ~3 ms."
   ]
  },
  {
   "cell_type": "markdown",
   "id": "e8a01934",
   "metadata": {},
   "source": [
    "Part 2"
   ]
  },
  {
   "cell_type": "code",
   "execution_count": 49,
   "id": "fd4d0367",
   "metadata": {
    "execution": {
     "iopub.execute_input": "2022-12-19T00:40:42.108687Z",
     "iopub.status.busy": "2022-12-19T00:40:42.108384Z",
     "iopub.status.idle": "2022-12-19T00:40:42.122271Z",
     "shell.execute_reply": "2022-12-19T00:40:42.121717Z",
     "shell.execute_reply.started": "2022-12-19T00:40:42.108673Z"
    }
   },
   "outputs": [
    {
     "name": "stdout",
     "output_type": "stream",
     "text": [
      "(Part 2: 0.002 s)\n"
     ]
    }
   ],
   "source": [
    "def day7_part2(s, *, query='shiny gold'):\n",
    "  \"\"\"Returns total number of individual bags required inside a query bag.\"\"\"\n",
    "  contents = day7_bag_contents(s)  # computational bottleneck\n",
    "\n",
    "  # @functools.lru_cache(maxsize=None)  # Unnecessary.\n",
    "  def count_inside(bag):\n",
    "    return sum(n * (count_inside(b) + 1) for b, n in contents[bag].items())\n",
    "\n",
    "  return count_inside(query)\n",
    "\n",
    "\n",
    "check_eq(day7_part2(s1), 32)\n",
    "check_eq(day7_part2(s2), 126)\n",
    "puzzle.verify(2, day7_part2)  # ~3 ms."
   ]
  },
  {
   "cell_type": "markdown",
   "id": "e220a177",
   "metadata": {},
   "source": [
    "<a name=\"day8\"></a>\n",
    "## Day 8: Program with acc, nop, jmp"
   ]
  },
  {
   "cell_type": "markdown",
   "id": "d0adadeb",
   "metadata": {},
   "source": [
    "Given a program with instructions `nop`, `acc`, and `jmp`:\n",
    "\n",
    "- Part 1: Determine the sum of the `acc` operands when running the program until the program counter becomes invalid.\n",
    "\n",
    "- Part 2: Modify the program by swapping one of its opcodes between `nop` and `jmp` such that it terminates (with the program counter at the end), and report the sum of the `acc` operands."
   ]
  },
  {
   "cell_type": "code",
   "execution_count": 50,
   "id": "9a3bf6fa",
   "metadata": {
    "execution": {
     "iopub.execute_input": "2022-12-19T00:40:42.123014Z",
     "iopub.status.busy": "2022-12-19T00:40:42.122870Z",
     "iopub.status.idle": "2022-12-19T00:40:42.139708Z",
     "shell.execute_reply": "2022-12-19T00:40:42.139161Z",
     "shell.execute_reply.started": "2022-12-19T00:40:42.123002Z"
    }
   },
   "outputs": [
    {
     "data": {
      "text/markdown": [
       "For [day 8](https://adventofcode.com/2020/day/8), `puzzle.input` has 638 lines:"
      ],
      "text/plain": [
       "<IPython.core.display.Markdown object>"
      ]
     },
     "metadata": {},
     "output_type": "display_data"
    },
    {
     "name": "stdout",
     "output_type": "stream",
     "text": [
      "acc +8\n",
      "acc +37\n",
      "jmp +328\n",
      "jmp +574\n",
      "nop +321\n",
      "acc +17\n",
      "jmp +450\n",
      "acc +46\n",
      " ...\n",
      "acc +6\n",
      "acc +21\n",
      "acc +16\n",
      "jmp +1\n"
     ]
    },
    {
     "data": {
      "text/markdown": [
       "The stored answers are: `{1: '1521', 2: '1016'}`"
      ],
      "text/plain": [
       "<IPython.core.display.Markdown object>"
      ]
     },
     "metadata": {},
     "output_type": "display_data"
    }
   ],
   "source": [
    "puzzle = advent.puzzle(day=8)"
   ]
  },
  {
   "cell_type": "code",
   "execution_count": 51,
   "id": "c79ff33f",
   "metadata": {
    "execution": {
     "iopub.execute_input": "2022-12-19T00:40:42.140719Z",
     "iopub.status.busy": "2022-12-19T00:40:42.140434Z",
     "iopub.status.idle": "2022-12-19T00:40:42.143273Z",
     "shell.execute_reply": "2022-12-19T00:40:42.142707Z",
     "shell.execute_reply.started": "2022-12-19T00:40:42.140705Z"
    }
   },
   "outputs": [],
   "source": [
    "s1 = \"\"\"\\\n",
    "nop +0\n",
    "acc +1\n",
    "jmp +4\n",
    "acc +3\n",
    "jmp -3\n",
    "acc -99\n",
    "acc +1\n",
    "jmp -4\n",
    "acc +6\n",
    "\"\"\""
   ]
  },
  {
   "cell_type": "code",
   "execution_count": 52,
   "id": "3d7fcedc",
   "metadata": {
    "execution": {
     "iopub.execute_input": "2022-12-19T00:40:42.144233Z",
     "iopub.status.busy": "2022-12-19T00:40:42.143961Z",
     "iopub.status.idle": "2022-12-19T00:40:42.159146Z",
     "shell.execute_reply": "2022-12-19T00:40:42.158551Z",
     "shell.execute_reply.started": "2022-12-19T00:40:42.144220Z"
    }
   },
   "outputs": [
    {
     "name": "stdout",
     "output_type": "stream",
     "text": [
      "(Part 1: 0.000 s)\n",
      "(Part 2: 0.004 s)\n"
     ]
    }
   ],
   "source": [
    "def day8(s, *, part2=False):\n",
    "  def run_program(ops):\n",
    "    pc = 0\n",
    "    acc = 0\n",
    "    visited = set()\n",
    "    while 0 <= pc < len(ops) and pc not in visited:\n",
    "      visited.add(pc)\n",
    "      operation, operand = ops[pc]\n",
    "      if operation == 'nop':\n",
    "        pc += 1\n",
    "      elif operation == 'acc':\n",
    "        acc += operand\n",
    "        pc += 1\n",
    "      elif operation == 'jmp':\n",
    "        pc += operand\n",
    "      else:\n",
    "        raise AssertionError\n",
    "    return pc, acc\n",
    "\n",
    "  ops = [(line[:3], int(line[4:])) for line in s.splitlines()]\n",
    "  if not part2:\n",
    "    pc, acc = run_program(ops)\n",
    "    assert 0 <= pc < len(ops)\n",
    "    return acc\n",
    "\n",
    "  for i, op in enumerate(ops):\n",
    "    if op[0] in ('nop', 'jmp'):\n",
    "      ops[i] = (('jmp' if op[0] == 'nop' else 'nop'), op[1])\n",
    "      pc, acc = run_program(ops)\n",
    "      ops[i] = op\n",
    "      if pc == len(ops):\n",
    "        return acc\n",
    "  return None\n",
    "\n",
    "\n",
    "check_eq(day8(s1), 5)\n",
    "puzzle.verify(1, day8)  # ~0 ms.\n",
    "\n",
    "day8_part2 = functools.partial(day8, part2=True)\n",
    "check_eq(day8_part2(s1), 8)\n",
    "puzzle.verify(2, day8_part2)  # ~14 ms."
   ]
  },
  {
   "cell_type": "markdown",
   "id": "bd2d69e0",
   "metadata": {},
   "source": [
    "<a name=\"day9\"></a>\n",
    "## Day 9: Sums in subsequences"
   ]
  },
  {
   "cell_type": "markdown",
   "id": "12367077",
   "metadata": {},
   "source": [
    "Given a list of numbers:\n",
    "\n",
    "- Part 1: Find the first number that is not a sum of a pair of numbers in the prior `n` numbers.\n",
    "\n",
    "- Part 2: Find a subsequence of at least 2 numbers that sums to the value obtained in part 1, compute the min and max of the subsequence, and report their product."
   ]
  },
  {
   "cell_type": "code",
   "execution_count": 53,
   "id": "80dd943c",
   "metadata": {
    "execution": {
     "iopub.execute_input": "2022-12-19T00:40:42.160072Z",
     "iopub.status.busy": "2022-12-19T00:40:42.159873Z",
     "iopub.status.idle": "2022-12-19T00:40:42.184498Z",
     "shell.execute_reply": "2022-12-19T00:40:42.183784Z",
     "shell.execute_reply.started": "2022-12-19T00:40:42.160061Z"
    }
   },
   "outputs": [
    {
     "data": {
      "text/markdown": [
       "For [day 9](https://adventofcode.com/2020/day/9), `puzzle.input` has 1_000 lines:"
      ],
      "text/plain": [
       "<IPython.core.display.Markdown object>"
      ]
     },
     "metadata": {},
     "output_type": "display_data"
    },
    {
     "name": "stdout",
     "output_type": "stream",
     "text": [
      "19\n",
      "30\n",
      "13\n",
      "31\n",
      "42\n",
      "41\n",
      "44\n",
      "34\n",
      " ...\n",
      "30187342902183\n",
      "39869127705106\n",
      "31005328029673\n",
      "49124948203304\n"
     ]
    },
    {
     "data": {
      "text/markdown": [
       "The stored answers are: `{1: '393911906', 2: '59341885'}`"
      ],
      "text/plain": [
       "<IPython.core.display.Markdown object>"
      ]
     },
     "metadata": {},
     "output_type": "display_data"
    }
   ],
   "source": [
    "puzzle = advent.puzzle(day=9)"
   ]
  },
  {
   "cell_type": "code",
   "execution_count": 54,
   "id": "7348bd54",
   "metadata": {
    "execution": {
     "iopub.execute_input": "2022-12-19T00:40:42.185440Z",
     "iopub.status.busy": "2022-12-19T00:40:42.185265Z",
     "iopub.status.idle": "2022-12-19T00:40:42.188339Z",
     "shell.execute_reply": "2022-12-19T00:40:42.187784Z",
     "shell.execute_reply.started": "2022-12-19T00:40:42.185427Z"
    }
   },
   "outputs": [],
   "source": [
    "s1 = \"\"\"\\\n",
    "35\n",
    "20\n",
    "15\n",
    "25\n",
    "47\n",
    "40\n",
    "62\n",
    "55\n",
    "65\n",
    "95\n",
    "102\n",
    "117\n",
    "150\n",
    "182\n",
    "127\n",
    "219\n",
    "299\n",
    "277\n",
    "309\n",
    "576\n",
    "\"\"\""
   ]
  },
  {
   "cell_type": "code",
   "execution_count": 55,
   "id": "5b14c2e5",
   "metadata": {
    "execution": {
     "iopub.execute_input": "2022-12-19T00:40:42.189188Z",
     "iopub.status.busy": "2022-12-19T00:40:42.189036Z",
     "iopub.status.idle": "2022-12-19T00:40:42.201205Z",
     "shell.execute_reply": "2022-12-19T00:40:42.200678Z",
     "shell.execute_reply.started": "2022-12-19T00:40:42.189176Z"
    }
   },
   "outputs": [
    {
     "name": "stdout",
     "output_type": "stream",
     "text": [
      "(Part 1: 0.001 s)\n",
      "(Part 2: 0.001 s)\n"
     ]
    }
   ],
   "source": [
    "def day9(s, *, last_n=25, part2=False):\n",
    "  l = list(map(int, s.split()))\n",
    "\n",
    "  def has_pair(l, total):\n",
    "    # return any(a + b == total for a, b in itertools.combinations(l, 2))\n",
    "    return any(total - l[i] in l[i + 1 :] for i in range(len(l)))\n",
    "\n",
    "  def first_number_not_sum_of_pair_in_last_n(n):\n",
    "    return next(l[i] for i in range(n, len(l)) if not has_pair(l[i - n : i], l[i]))\n",
    "\n",
    "  invalid_number = first_number_not_sum_of_pair_in_last_n(last_n)\n",
    "  if not part2:\n",
    "    return invalid_number\n",
    "\n",
    "  # Find a contiguous set of at least two numbers in your list which sum to the\n",
    "  # invalid number.  Approach: compute cumulative sum accum[i], then for each i\n",
    "  # do (binary) bisection search to try to locate l[i] + invalid_number.\n",
    "\n",
    "  def find_subsequence_summing_to(total):\n",
    "    accum = list(itertools.accumulate(l, operator.add))  # accum[i] = sum(l[:i])\n",
    "    for i, value in enumerate(accum):\n",
    "      end_value = value + total\n",
    "      j = bisect.bisect_left(accum, end_value)\n",
    "      if j != len(accum) and accum[j] == end_value:\n",
    "        return l[i + 1 : j + 1]\n",
    "    return None\n",
    "\n",
    "  sequence = find_subsequence_summing_to(invalid_number)\n",
    "  assert sum(sequence) == invalid_number\n",
    "  return min(sequence) + max(sequence)\n",
    "\n",
    "\n",
    "check_eq(day9(s1, last_n=5), 127)\n",
    "puzzle.verify(1, day9)  # ~2 ms.\n",
    "\n",
    "day9_part2 = functools.partial(day9, part2=True)\n",
    "check_eq(day9_part2(s1, last_n=5), 62)\n",
    "puzzle.verify(2, day9_part2)  # ~4 ms."
   ]
  },
  {
   "cell_type": "markdown",
   "id": "3ab21769",
   "metadata": {},
   "source": [
    "<a name=\"day10\"></a>\n",
    "## Day 10: Combinations of sequences"
   ]
  },
  {
   "cell_type": "markdown",
   "id": "7fb68c81",
   "metadata": {},
   "source": [
    "Given a set of numbers,\n",
    "\n",
    "- Part 1: Augment the numbers with the values `0` and `max + 3`, tally the successive differences of the sorted numbers, and report the product of the 1-differences and the 3-differences.\n",
    "\n",
    "- Part 2: Count the number of ways to monotonically traverse the numbers such that successive differences are at most 3."
   ]
  },
  {
   "cell_type": "code",
   "execution_count": 56,
   "id": "46b3f704",
   "metadata": {
    "execution": {
     "iopub.execute_input": "2022-12-19T00:40:42.202126Z",
     "iopub.status.busy": "2022-12-19T00:40:42.201871Z",
     "iopub.status.idle": "2022-12-19T00:40:42.219634Z",
     "shell.execute_reply": "2022-12-19T00:40:42.219134Z",
     "shell.execute_reply.started": "2022-12-19T00:40:42.202114Z"
    }
   },
   "outputs": [
    {
     "data": {
      "text/markdown": [
       "For [day 10](https://adventofcode.com/2020/day/10), `puzzle.input` has 97 lines:"
      ],
      "text/plain": [
       "<IPython.core.display.Markdown object>"
      ]
     },
     "metadata": {},
     "output_type": "display_data"
    },
    {
     "name": "stdout",
     "output_type": "stream",
     "text": [
      "8\n",
      "131\n",
      "91\n",
      "35\n",
      "47\n",
      "116\n",
      "105\n",
      "121\n",
      " ...\n",
      "95\n",
      "3\n",
      "52\n",
      "49\n"
     ]
    },
    {
     "data": {
      "text/markdown": [
       "The stored answers are: `{1: '2112', 2: '3022415986688'}`"
      ],
      "text/plain": [
       "<IPython.core.display.Markdown object>"
      ]
     },
     "metadata": {},
     "output_type": "display_data"
    }
   ],
   "source": [
    "puzzle = advent.puzzle(day=10)"
   ]
  },
  {
   "cell_type": "code",
   "execution_count": 57,
   "id": "8cd16306",
   "metadata": {
    "execution": {
     "iopub.execute_input": "2022-12-19T00:40:42.220538Z",
     "iopub.status.busy": "2022-12-19T00:40:42.220278Z",
     "iopub.status.idle": "2022-12-19T00:40:42.223186Z",
     "shell.execute_reply": "2022-12-19T00:40:42.222661Z",
     "shell.execute_reply.started": "2022-12-19T00:40:42.220523Z"
    }
   },
   "outputs": [],
   "source": [
    "s1 = \"\"\"\\\n",
    "16\n",
    "10\n",
    "15\n",
    "5\n",
    "1\n",
    "11\n",
    "7\n",
    "19\n",
    "6\n",
    "12\n",
    "4\n",
    "\"\"\"\n",
    "\n",
    "s2 = \"\"\"\\\n",
    "28\n",
    "33\n",
    "18\n",
    "42\n",
    "31\n",
    "14\n",
    "46\n",
    "20\n",
    "48\n",
    "47\n",
    "24\n",
    "23\n",
    "49\n",
    "45\n",
    "19\n",
    "38\n",
    "39\n",
    "11\n",
    "1\n",
    "32\n",
    "25\n",
    "35\n",
    "8\n",
    "17\n",
    "7\n",
    "9\n",
    "4\n",
    "2\n",
    "34\n",
    "10\n",
    "3\n",
    "\"\"\""
   ]
  },
  {
   "cell_type": "code",
   "execution_count": 58,
   "id": "184d86ac",
   "metadata": {
    "execution": {
     "iopub.execute_input": "2022-12-19T00:40:42.224127Z",
     "iopub.status.busy": "2022-12-19T00:40:42.223847Z",
     "iopub.status.idle": "2022-12-19T00:40:42.233569Z",
     "shell.execute_reply": "2022-12-19T00:40:42.232990Z",
     "shell.execute_reply.started": "2022-12-19T00:40:42.224113Z"
    }
   },
   "outputs": [
    {
     "name": "stdout",
     "output_type": "stream",
     "text": [
      "(Part 1: 0.000 s)\n"
     ]
    }
   ],
   "source": [
    "def day10_part1(s):\n",
    "  l = sorted(map(int, s.split()))\n",
    "  counter = collections.Counter(np.diff([0] + l + [l[-1] + 3]))\n",
    "  return counter[1] * counter[3]\n",
    "\n",
    "\n",
    "check_eq(day10_part1(s1), 7 * 5)\n",
    "check_eq(day10_part1(s2), 22 * 10)\n",
    "puzzle.verify(1, day10_part1)  # ~0 ms.  66 * 32."
   ]
  },
  {
   "cell_type": "markdown",
   "id": "0ad2c479",
   "metadata": {},
   "source": [
    "Part 2"
   ]
  },
  {
   "cell_type": "code",
   "execution_count": 59,
   "id": "04fcea44",
   "metadata": {
    "execution": {
     "iopub.execute_input": "2022-12-19T00:40:42.234614Z",
     "iopub.status.busy": "2022-12-19T00:40:42.234282Z",
     "iopub.status.idle": "2022-12-19T00:40:42.243841Z",
     "shell.execute_reply": "2022-12-19T00:40:42.243271Z",
     "shell.execute_reply.started": "2022-12-19T00:40:42.234599Z"
    }
   },
   "outputs": [
    {
     "name": "stdout",
     "output_type": "stream",
     "text": [
      "(Part 2: 0.000 s)\n"
     ]
    }
   ],
   "source": [
    "# Observation: when there is a separation of 3 units, the problem decouples\n",
    "# into a product of the solutions of subproblems.\n",
    "\n",
    "# Because the voltages differences are just 1 or 3, we can simply count the\n",
    "# length of the sequences of value 1, and derive a closed-form number for each\n",
    "# sequence.\n",
    "def day10a_part2(s):\n",
    "  diff = np.diff([0] + sorted(map(int, s.split())))\n",
    "  lengths_of_ones = map(len, re.findall('1+', ''.join(map(str, diff))))\n",
    "\n",
    "  def f(n):\n",
    "    \"\"\"Number of combinations from a sequence of n consecutive one-diffs.\"\"\"\n",
    "    return 0 if n < 0 else 1 if n < 2 else f(n - 1) + f(n - 2) + f(n - 3)\n",
    "\n",
    "  return math.prod(map(f, lengths_of_ones))\n",
    "\n",
    "\n",
    "check_eq(day10a_part2(s1), 8)\n",
    "check_eq(day10a_part2(s2), 19208)\n",
    "puzzle.verify(2, day10a_part2)  # ~0 ms."
   ]
  },
  {
   "cell_type": "code",
   "execution_count": 60,
   "id": "6ff106e3",
   "metadata": {
    "execution": {
     "iopub.execute_input": "2022-12-19T00:40:42.244827Z",
     "iopub.status.busy": "2022-12-19T00:40:42.244546Z",
     "iopub.status.idle": "2022-12-19T00:40:42.259750Z",
     "shell.execute_reply": "2022-12-19T00:40:42.259237Z",
     "shell.execute_reply.started": "2022-12-19T00:40:42.244813Z"
    }
   },
   "outputs": [
    {
     "name": "stdout",
     "output_type": "stream",
     "text": [
      "(Part 2: 0.000 s)\n"
     ]
    }
   ],
   "source": [
    "# More general solution based on dynamic programming with scatter.\n",
    "def day10b_part2(s):\n",
    "  l = [0] + sorted(map(int, s.split()))\n",
    "  npaths = [1] + [0] * (len(l) - 1)\n",
    "  for i in range(len(l)):  # pylint: disable=consider-using-enumerate\n",
    "    for j in range(i + 1, min(i + 4, len(l))):\n",
    "      if l[j] - l[i] <= 3:\n",
    "        npaths[j] += npaths[i]\n",
    "  return npaths[-1]\n",
    "\n",
    "\n",
    "check_eq(day10b_part2(s1), 8)\n",
    "check_eq(day10b_part2(s2), 19208)\n",
    "puzzle.verify(2, day10b_part2)  # ~0 ms."
   ]
  },
  {
   "cell_type": "code",
   "execution_count": 61,
   "id": "397a1f37",
   "metadata": {
    "execution": {
     "iopub.execute_input": "2022-12-19T00:40:42.260980Z",
     "iopub.status.busy": "2022-12-19T00:40:42.260531Z",
     "iopub.status.idle": "2022-12-19T00:40:42.269876Z",
     "shell.execute_reply": "2022-12-19T00:40:42.269332Z",
     "shell.execute_reply.started": "2022-12-19T00:40:42.260965Z"
    }
   },
   "outputs": [
    {
     "name": "stdout",
     "output_type": "stream",
     "text": [
      "(Part 2: 0.000 s)\n"
     ]
    }
   ],
   "source": [
    "# Simplest solution based on dynamic programming with gather.\n",
    "def day10_part2(s):\n",
    "  l = [0] + sorted(map(int, s.split()))\n",
    "  npaths = [1]\n",
    "  for i in range(1, len(l)):\n",
    "    npaths.append(sum(npaths[j] for j in range(-4, 0) if i + j >= 0 and l[i] - l[i + j] < 4))\n",
    "  return npaths[-1]\n",
    "\n",
    "\n",
    "check_eq(day10_part2(s1), 8)\n",
    "check_eq(day10_part2(s2), 19208)\n",
    "puzzle.verify(2, day10_part2)  # ~0 ms."
   ]
  },
  {
   "cell_type": "markdown",
   "id": "013e3480",
   "metadata": {},
   "source": [
    "<a name=\"day11\"></a>\n",
    "## Day 11: Seats cellular automaton"
   ]
  },
  {
   "cell_type": "markdown",
   "id": "abbdeb46",
   "metadata": {},
   "source": [
    "Given a *sparse* 2D grid of nodes, run successive generations of a cellular automaton until convergence.\n",
    "\n",
    "- Part 1: Each node's neighbors are the immediately adjacent nodes (up to 8, with Manhattan distance 1).\n",
    "\n",
    "  For each generation:\n",
    "  - a free node becomes occupied if it has zero occupied neighbors, and\n",
    "  - an occupied node becomes free if it has 4 or more occupied neighbors.\n",
    "\n",
    "- Part 2: The evolution rule is modified in two ways:\n",
    "  - For each of the 8 neighbor directions, the neighbor is defined as the first node along that direction.\n",
    "  - An occupied node becomes free if it has 5 or more occupied neighbors."
   ]
  },
  {
   "cell_type": "code",
   "execution_count": 62,
   "id": "e65dfbc0",
   "metadata": {
    "execution": {
     "iopub.execute_input": "2022-12-19T00:40:42.270844Z",
     "iopub.status.busy": "2022-12-19T00:40:42.270570Z",
     "iopub.status.idle": "2022-12-19T00:40:42.287896Z",
     "shell.execute_reply": "2022-12-19T00:40:42.287257Z",
     "shell.execute_reply.started": "2022-12-19T00:40:42.270830Z"
    },
    "tags": []
   },
   "outputs": [
    {
     "data": {
      "text/markdown": [
       "For [day 11](https://adventofcode.com/2020/day/11), `puzzle.input` has 99 lines:"
      ],
      "text/plain": [
       "<IPython.core.display.Markdown object>"
      ]
     },
     "metadata": {},
     "output_type": "display_data"
    },
    {
     "name": "stdout",
     "output_type": "stream",
     "text": [
      "LLLLLLLLLL.LLLLLL.LLLLLLLLLLLL.LL.LLLL.LLLLL.LLLLLLL.LLLLLL.LLLLLL.LLLLLL.LLLLLLLLLLLLLLLLLL\n",
      "LLLLLLLLLLLLLLLLLLLLLLLLLLLLLL.LLLLLLL.LLLLL.LLLLLLL.LLLLLLLLLLLLL.LLLL.L.LLLLLLLLLL.LLLLLLL\n",
      "LLLLLLLLLL.LLLLLL.LLLLLL.LLLLL.LLLLLLLLLLLLLLLLLLLLL.LLLLLL..LLLLL.LLLLLL.LLLLLL.LLLLLLLLLLL\n",
      "LLLLLLLLLL.LLLLLLLLLLLLL.LL.LL.LLLLL.L.LLLLL.LLLLLLL.LLLLLL.LLLLLLLLLLLLL.LLLLLLLLLLLLLLLLLL\n",
      "LLLLLLLLLLLLLLLLL.LLLLLL.LLLLLLLLLLLLLLLLLLL.LLLLLLL.LLL.LL.LLLLLL.LLLLLL.LLLLLLLLLLLLLLLLLL\n",
      "LLLLLLLLLLLLLLLLL.LLLLLL.LLLLL.LLLLLLL.LLL.L.LLLLLLLLLLLLLLLLLLLLLLLLLLLL.LLLLLL.LLLLLLLL.LL\n",
      "LLLLLLLLLLLLLLLLL.LLLLLLLLLL.LLLLLLLLL.LLLLL.LLLLLLL.LLLL.L.LLLLLLLLLLLLL.LLLLLLLLLLLLLLLLLL\n",
      ".L.LL...LLLL.......L....L.LLLLLL.......LL....LL...L..L.LLL...LLL..L.L.L.L..L...............L\n",
      " ...\n",
      "LLLLLLLLLL.LLLLLL.LLLLLL.LLLLL.LLLLL.L.LLLLLLLLLLLLL.LL.LLLLL.LLLL.LLLLLL.LLLLLLLLLL.LLLLLLL\n",
      "LLLLLLLLLLLLLLLLL.LLLLLL.LLLLL.LLLLLLL.LLLLL..LLLLLL.LLLLLL.LLLLLL.LLLLLL.LLLLLL.LLLLLLLLLLL\n",
      "LLLLLLLLLL.LLL.LLLLLLLLL.LLLLL.LLLLLLLLLLLL..LLLLLLL.LLLLL..LLLLLL.LLLLLL.LLLLLLLLLLLLLLLLLL\n",
      "LLLLLLLLLLLLLLLLL.LLLLLL.LLLLL.LLLLLLL.LLLLLLLLLLLLL.LLLLLL.LLLLLL.LL.LLLLLLLLLL.LLLLLLLLLLL\n"
     ]
    },
    {
     "data": {
      "text/markdown": [
       "The stored answers are: `{1: '2359', 2: '2131'}`"
      ],
      "text/plain": [
       "<IPython.core.display.Markdown object>"
      ]
     },
     "metadata": {},
     "output_type": "display_data"
    }
   ],
   "source": [
    "puzzle = advent.puzzle(day=11)"
   ]
  },
  {
   "cell_type": "code",
   "execution_count": 63,
   "id": "755a179d",
   "metadata": {
    "execution": {
     "iopub.execute_input": "2022-12-19T00:40:42.289083Z",
     "iopub.status.busy": "2022-12-19T00:40:42.288706Z",
     "iopub.status.idle": "2022-12-19T00:40:42.297160Z",
     "shell.execute_reply": "2022-12-19T00:40:42.296576Z",
     "shell.execute_reply.started": "2022-12-19T00:40:42.289068Z"
    },
    "tags": []
   },
   "outputs": [
    {
     "data": {
      "text/html": [
       "<table class=\"show_images\" style=\"border-spacing:0px;\"><tr><td style=\"padding:1px;\"><img width=\"250\" height=\"269\" style=\"border:1px solid black; image-rendering:pixelated; object-fit:cover;\" src=\"data:image/png;base64,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\"/></td></tr></table>"
      ],
      "text/plain": [
       "<IPython.core.display.HTML object>"
      ]
     },
     "metadata": {},
     "output_type": "display_data"
    }
   ],
   "source": [
    "media.show_image(grid_from_string(puzzle.input) == 'L', border=True, width=250)"
   ]
  },
  {
   "cell_type": "code",
   "execution_count": 64,
   "id": "afb36da0",
   "metadata": {
    "execution": {
     "iopub.execute_input": "2022-12-19T00:40:42.298050Z",
     "iopub.status.busy": "2022-12-19T00:40:42.297844Z",
     "iopub.status.idle": "2022-12-19T00:40:42.304314Z",
     "shell.execute_reply": "2022-12-19T00:40:42.303634Z",
     "shell.execute_reply.started": "2022-12-19T00:40:42.298036Z"
    },
    "tags": []
   },
   "outputs": [],
   "source": [
    "s1 = \"\"\"\\\n",
    "L.LL.LL.LL\n",
    "LLLLLLL.LL\n",
    "L.L.L..L..\n",
    "LLLL.LL.LL\n",
    "L.LL.LL.LL\n",
    "L.LLLLL.LL\n",
    "..L.L.....\n",
    "LLLLLLLLLL\n",
    "L.LLLLLL.L\n",
    "L.LLLLL.LL\n",
    "\"\"\""
   ]
  },
  {
   "cell_type": "code",
   "execution_count": 65,
   "id": "88d18cd7",
   "metadata": {
    "execution": {
     "iopub.execute_input": "2022-12-19T00:40:42.305389Z",
     "iopub.status.busy": "2022-12-19T00:40:42.305035Z",
     "iopub.status.idle": "2022-12-19T00:40:42.317270Z",
     "shell.execute_reply": "2022-12-19T00:40:42.316716Z",
     "shell.execute_reply.started": "2022-12-19T00:40:42.305363Z"
    },
    "tags": []
   },
   "outputs": [],
   "source": [
    "# Relatively fast non-numba solution, which maintains neighbor counts.\n",
    "# It becomes faster with numba enabled, but not as fast as the next solution.\n",
    "def day11a(s, *, part2=False):\n",
    "  # -1 is EMPTY, 0..8 is FREE+neighbor_count, 10..18 is OCCUPIED+neighbor_count\n",
    "  int_from_ch = {'.': -1, 'L': 0, '#': 10}\n",
    "  grid = grid_from_string(s, int_from_ch)\n",
    "  # Surprisingly, the default array dtype (here, np.int64) is the fastest.\n",
    "  shape = grid.shape\n",
    "  NEIGHBORS = tuple(set(itertools.product((-1, 0, 1), repeat=2)) - {(0, 0)})\n",
    "\n",
    "  def evolve(grid):\n",
    "    def impact_neighbor_counts(y0, x0, delta):\n",
    "      for dy, dx in NEIGHBORS:\n",
    "        y, x = y0 + dy, x0 + dx\n",
    "        while 0 <= y < shape[0] and 0 <= x < shape[1]:\n",
    "          if not part2 or grid[y, x] >= 0:\n",
    "            if grid[y, x] >= 0:\n",
    "              grid[y, x] += delta\n",
    "            break\n",
    "          y, x = y + dy, x + dx\n",
    "\n",
    "    # print('num_occupied', np.count_nonzero(grid >= 10))\n",
    "    prev = grid.copy()\n",
    "    for y in range(shape[0]):\n",
    "      for x in range(shape[1]):\n",
    "        if prev[y, x] == 0:  # FREE with zero occupied neighbors\n",
    "          grid[y, x] += 10\n",
    "          impact_neighbor_counts(y, x, +1)\n",
    "        elif prev[y, x] >= (15 if part2 else 14):  # OCCUPIED, >= 5 or 4 neighb\n",
    "          grid[y, x] -= 10\n",
    "          impact_neighbor_counts(y, x, -1)\n",
    "    return np.any(grid != prev)\n",
    "\n",
    "  while evolve(grid):\n",
    "    pass\n",
    "\n",
    "  return np.count_nonzero(grid >= 10)\n",
    "\n",
    "\n",
    "check_eq(day11a(s1), 37)\n",
    "day11a_part2 = functools.partial(day11a, part2=True)\n",
    "check_eq(day11a_part2(s1), 26)\n",
    "\n",
    "if not using_numba:  # Best non-numba solutions.\n",
    "  puzzle.verify(1, day11a)  # ~2500 ms.\n",
    "  puzzle.verify(2, day11a_part2)  # ~5800 ms."
   ]
  },
  {
   "cell_type": "code",
   "execution_count": 66,
   "id": "dc5e19f4",
   "metadata": {
    "execution": {
     "iopub.execute_input": "2022-12-19T00:40:42.318203Z",
     "iopub.status.busy": "2022-12-19T00:40:42.317925Z",
     "iopub.status.idle": "2022-12-19T00:40:43.109769Z",
     "shell.execute_reply": "2022-12-19T00:40:43.109292Z",
     "shell.execute_reply.started": "2022-12-19T00:40:42.318191Z"
    },
    "tags": []
   },
   "outputs": [
    {
     "name": "stdout",
     "output_type": "stream",
     "text": [
      "(Part 1: 0.016 s)\n",
      "(Part 2: 0.039 s)\n"
     ]
    }
   ],
   "source": [
    "# More naive solution, but faster when using numba.\n",
    "@numba.njit(parallel=True)\n",
    "def day11_evolve(grid, neighbors, part2):\n",
    "  shape = grid.shape\n",
    "  EMPTY, FREE, OCCUPIED = 0, 1, 2\n",
    "\n",
    "  def count_occupied_neighbors(grid, y0, x0, only_adjacent):\n",
    "    count = 0\n",
    "    for dy, dx in neighbors:\n",
    "      y, x = y0 + dy, x0 + dx\n",
    "      while 0 <= y < shape[0] and 0 <= x < shape[1]:\n",
    "        if grid[y, x] != EMPTY or only_adjacent:\n",
    "          count += grid[y, x] == OCCUPIED\n",
    "          break\n",
    "        y, x = y + dy, x + dx\n",
    "    return count\n",
    "\n",
    "  prev = grid.copy()\n",
    "  for y in range(shape[0]):\n",
    "    for x in range(shape[1]):\n",
    "      num_occupied = count_occupied_neighbors(prev, y, x, not part2)\n",
    "      if prev[y, x] == FREE and num_occupied == 0:\n",
    "        grid[y, x] = OCCUPIED\n",
    "      elif prev[y, x] == OCCUPIED and num_occupied >= (5 if part2 else 4):\n",
    "        grid[y, x] = FREE\n",
    "  return not np.all(grid == prev)\n",
    "\n",
    "\n",
    "def day11(s, *, part2=False, return_video=False):\n",
    "  int_from_ch = {'.': 0, 'L': 1, '#': 2}\n",
    "  grid = grid_from_string(s, int_from_ch)\n",
    "  neighbors = tuple(set(itertools.product((-1, 0, 1), repeat=2)) - {(0, 0)})\n",
    "  OCCUPIED = 2\n",
    "\n",
    "  images = []\n",
    "  while day11_evolve(grid, neighbors, part2):\n",
    "    if return_video:\n",
    "      image = (grid == OCCUPIED).repeat(2, axis=0).repeat(2, axis=1)\n",
    "      images.append(image)\n",
    "\n",
    "  if return_video:\n",
    "    # We view only the even-numbered frames to avoid flashing on/off.\n",
    "    images = [images[0]] * 10 + images[::2] + [images[-1]] * 10\n",
    "    return images\n",
    "  return np.count_nonzero(grid == OCCUPIED)\n",
    "\n",
    "\n",
    "check_eq(day11(s1), 37)  # ~2000 ms for numba compilation.\n",
    "day11_part2 = functools.partial(day11, part2=True)\n",
    "check_eq(day11_part2(s1), 26)\n",
    "\n",
    "if using_numba:\n",
    "  puzzle.verify(1, day11)  # ~32 ms with numba; ~24 s without numba.\n",
    "  puzzle.verify(2, day11_part2)  # ~49 ms with numba; ~27 s without numba."
   ]
  },
  {
   "cell_type": "code",
   "execution_count": 67,
   "id": "1b7dd170",
   "metadata": {
    "execution": {
     "iopub.execute_input": "2022-12-19T00:40:43.118477Z",
     "iopub.status.busy": "2022-12-19T00:40:43.118198Z",
     "iopub.status.idle": "2022-12-19T00:40:43.379994Z",
     "shell.execute_reply": "2022-12-19T00:40:43.379392Z",
     "shell.execute_reply.started": "2022-12-19T00:40:43.118464Z"
    },
    "tags": []
   },
   "outputs": [
    {
     "data": {
      "text/html": [
       "<table class=\"show_videos\" style=\"border-spacing:0px;\"><tr><td style=\"padding:1px;\"><div style=\"display:flex; align-items:left;\">\n",
       "      <div style=\"display:flex; flex-direction:column; align-items:center;\">\n",
       "      <div>Part 1</div><div><img width=\"184\" height=\"198\" style=\"border:1px solid black; image-rendering:pixelated; object-fit:cover;\" src=\"data:image/gif;base64,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\"/></div></div></div></td><td style=\"padding:1px;\"><div style=\"display:flex; align-items:left;\">\n",
       "      <div style=\"display:flex; flex-direction:column; align-items:center;\">\n",
       "      <div>Part 2</div><div><img width=\"184\" height=\"198\" style=\"border:1px solid black; image-rendering:pixelated; object-fit:cover;\" src=\"data:image/gif;base64,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\"/></div></div></div></td></tr></table>"
      ],
      "text/plain": [
       "<IPython.core.display.HTML object>"
      ]
     },
     "metadata": {},
     "output_type": "display_data"
    }
   ],
   "source": [
    "if using_numba:\n",
    "  videos = {\n",
    "      'Part 1': day11(puzzle.input, return_video=True),\n",
    "      'Part 2': day11_part2(puzzle.input, return_video=True),\n",
    "  }\n",
    "  media.show_videos(videos, codec='gif', fps=10, border=True)\n",
    "  del videos"
   ]
  },
  {
   "cell_type": "markdown",
   "id": "780076a4",
   "metadata": {},
   "source": [
    "<a name=\"day12\"></a>\n",
    "## Day 12: Ship and waypoint navigation"
   ]
  },
  {
   "cell_type": "markdown",
   "id": "2362184a",
   "metadata": {},
   "source": [
    "Given a list of instructions (a translation direction `N|S|E|W` and magnitude, a rotation `L|R` and angle (positive multiple of 90 degrees), or a forward directive `F` and value), update a ship's position and orientation in a 2D domain.\n",
    "\n",
    "- Part 1: The translation, rotation, and forward instructions directly modify the ship's state.  After applying all instructions, report the Manhattan distance of the ship's position from its start.\n",
    "\n",
    "- Part 2: The translation and rotation instructions modify a vector waypoint (initially 10 units east and 1 unit north of ship) relative to the ship position.  The forward instruction translates the ship position by the vector waypoint times the forward value.  Again report the final Manhattan distance of the ship from its start."
   ]
  },
  {
   "cell_type": "code",
   "execution_count": 68,
   "id": "0eda4e26",
   "metadata": {
    "execution": {
     "iopub.execute_input": "2022-12-19T00:40:43.381137Z",
     "iopub.status.busy": "2022-12-19T00:40:43.380787Z",
     "iopub.status.idle": "2022-12-19T00:40:43.391729Z",
     "shell.execute_reply": "2022-12-19T00:40:43.391156Z",
     "shell.execute_reply.started": "2022-12-19T00:40:43.381123Z"
    }
   },
   "outputs": [
    {
     "data": {
      "text/markdown": [
       "For [day 12](https://adventofcode.com/2020/day/12), `puzzle.input` has 773 lines:"
      ],
      "text/plain": [
       "<IPython.core.display.Markdown object>"
      ]
     },
     "metadata": {},
     "output_type": "display_data"
    },
    {
     "name": "stdout",
     "output_type": "stream",
     "text": [
      "W5\n",
      "F63\n",
      "S1\n",
      "L90\n",
      "F89\n",
      "W4\n",
      "F45\n",
      "W4\n",
      " ...\n",
      "L90\n",
      "F94\n",
      "L90\n",
      "F13\n"
     ]
    },
    {
     "data": {
      "text/markdown": [
       "The stored answers are: `{1: '1221', 2: '59435'}`"
      ],
      "text/plain": [
       "<IPython.core.display.Markdown object>"
      ]
     },
     "metadata": {},
     "output_type": "display_data"
    }
   ],
   "source": [
    "puzzle = advent.puzzle(day=12)"
   ]
  },
  {
   "cell_type": "code",
   "execution_count": 69,
   "id": "ddd33102",
   "metadata": {
    "execution": {
     "iopub.execute_input": "2022-12-19T00:40:43.392612Z",
     "iopub.status.busy": "2022-12-19T00:40:43.392356Z",
     "iopub.status.idle": "2022-12-19T00:40:43.395290Z",
     "shell.execute_reply": "2022-12-19T00:40:43.394781Z",
     "shell.execute_reply.started": "2022-12-19T00:40:43.392596Z"
    }
   },
   "outputs": [],
   "source": [
    "s1 = \"\"\"\\\n",
    "F10\n",
    "N3\n",
    "F7\n",
    "R90\n",
    "F11\n",
    "\"\"\""
   ]
  },
  {
   "cell_type": "code",
   "execution_count": 70,
   "id": "45c64b5c",
   "metadata": {
    "execution": {
     "iopub.execute_input": "2022-12-19T00:40:43.395952Z",
     "iopub.status.busy": "2022-12-19T00:40:43.395831Z",
     "iopub.status.idle": "2022-12-19T00:40:43.405646Z",
     "shell.execute_reply": "2022-12-19T00:40:43.405073Z",
     "shell.execute_reply.started": "2022-12-19T00:40:43.395941Z"
    }
   },
   "outputs": [
    {
     "name": "stdout",
     "output_type": "stream",
     "text": [
      "(Part 1: 0.000 s)\n"
     ]
    }
   ],
   "source": [
    "def day12_part1(s):\n",
    "  y, x = 0, 0\n",
    "  dy, dx = 0, 1  # east\n",
    "\n",
    "  for instruction in s.split():\n",
    "    action, value = instruction[:1], int(instruction[1:])\n",
    "    if action == 'N':\n",
    "      y -= value\n",
    "    elif action == 'S':\n",
    "      y += value\n",
    "    elif action == 'E':\n",
    "      x += value\n",
    "    elif action == 'W':\n",
    "      x -= value\n",
    "    elif action == 'L':\n",
    "      while value:\n",
    "        dy, dx = -dx, +dy\n",
    "        value -= 90\n",
    "    elif action == 'R':\n",
    "      while value:\n",
    "        dy, dx = +dx, -dy\n",
    "        value -= 90\n",
    "    elif action == 'F':\n",
    "      y, x = y + dy * value, x + dx * value\n",
    "  return abs(y) + abs(x)\n",
    "\n",
    "\n",
    "check_eq(day12_part1(s1), 25)\n",
    "puzzle.verify(1, day12_part1)  # ~1 ms."
   ]
  },
  {
   "cell_type": "code",
   "execution_count": 71,
   "id": "069869bf",
   "metadata": {
    "execution": {
     "iopub.execute_input": "2022-12-19T00:40:43.406553Z",
     "iopub.status.busy": "2022-12-19T00:40:43.406386Z",
     "iopub.status.idle": "2022-12-19T00:40:43.416143Z",
     "shell.execute_reply": "2022-12-19T00:40:43.415554Z",
     "shell.execute_reply.started": "2022-12-19T00:40:43.406540Z"
    }
   },
   "outputs": [
    {
     "name": "stdout",
     "output_type": "stream",
     "text": [
      "(Part 2: 0.000 s)\n"
     ]
    }
   ],
   "source": [
    "def day12_part2(s):\n",
    "  ship_y, ship_x = 0, 0\n",
    "  # waypoint is relative to the ship\n",
    "  waypoint_y, waypoint_x = -1, 10  # 10 units east and 1 unit north of ship\n",
    "\n",
    "  for instruction in s.split():\n",
    "    action, value = instruction[:1], int(instruction[1:])\n",
    "    if action == 'N':\n",
    "      waypoint_y -= value\n",
    "    elif action == 'S':\n",
    "      waypoint_y += value\n",
    "    elif action == 'E':\n",
    "      waypoint_x += value\n",
    "    elif action == 'W':\n",
    "      waypoint_x -= value\n",
    "    elif action == 'L':\n",
    "      while value:\n",
    "        waypoint_y, waypoint_x = -waypoint_x, +waypoint_y\n",
    "        value -= 90\n",
    "    elif action == 'R':\n",
    "      while value:\n",
    "        waypoint_y, waypoint_x = +waypoint_x, -waypoint_y\n",
    "        value -= 90\n",
    "    elif action == 'F':\n",
    "      ship_y += waypoint_y * value\n",
    "      ship_x += waypoint_x * value\n",
    "  return abs(ship_y) + abs(ship_x)\n",
    "\n",
    "\n",
    "check_eq(day12_part2(s1), 286)\n",
    "puzzle.verify(2, day12_part2)  # ~1 ms."
   ]
  },
  {
   "cell_type": "markdown",
   "id": "56ff4fb6",
   "metadata": {},
   "source": [
    "<a name=\"day13\"></a>\n",
    "## Day 13: Buses modulo schedule"
   ]
  },
  {
   "cell_type": "markdown",
   "id": "ee6d9927",
   "metadata": {},
   "source": [
    "Given a sequence of buses with different departure periods, all starting at time 0, with some buses out-of-service, find some earliest time satisfying a condition.\n",
    "\n",
    "- Part 1: Given also an earliest time, find the first bus that departs on or after that time.  Report the wait time multiplied by the bus period.\n",
    "\n",
    "- Part 2: Find the earliest time such that the first bus in the sequence departs at that time and each subsequent listed bus departs at the subsequent time if the bus is in service."
   ]
  },
  {
   "cell_type": "code",
   "execution_count": 72,
   "id": "125f737c",
   "metadata": {
    "execution": {
     "iopub.execute_input": "2022-12-19T00:40:43.417469Z",
     "iopub.status.busy": "2022-12-19T00:40:43.417059Z",
     "iopub.status.idle": "2022-12-19T00:40:43.433778Z",
     "shell.execute_reply": "2022-12-19T00:40:43.433032Z",
     "shell.execute_reply.started": "2022-12-19T00:40:43.417450Z"
    },
    "tags": []
   },
   "outputs": [
    {
     "data": {
      "text/markdown": [
       "For [day 13](https://adventofcode.com/2020/day/13), `puzzle.input` has 2 lines:"
      ],
      "text/plain": [
       "<IPython.core.display.Markdown object>"
      ]
     },
     "metadata": {},
     "output_type": "display_data"
    },
    {
     "name": "stdout",
     "output_type": "stream",
     "text": [
      "1000299\n",
      "41,x,x,x,x,x,x,x,x,x,x,x,x,x,x,x,x,x,x,x,x,x,x,x,x,x,x,x,x,x,x,x,x,x,x,37,x,x,x, ... ,x,x,x,x,x,x,x,x,x,x,x,x,x,x,x,x,19\n"
     ]
    },
    {
     "data": {
      "text/markdown": [
       "The stored answers are: `{1: '156', 2: '404517869995362'}`"
      ],
      "text/plain": [
       "<IPython.core.display.Markdown object>"
      ]
     },
     "metadata": {},
     "output_type": "display_data"
    }
   ],
   "source": [
    "puzzle = advent.puzzle(day=13)"
   ]
  },
  {
   "cell_type": "code",
   "execution_count": 73,
   "id": "e2c0331b",
   "metadata": {
    "execution": {
     "iopub.execute_input": "2022-12-19T00:40:43.435021Z",
     "iopub.status.busy": "2022-12-19T00:40:43.434549Z",
     "iopub.status.idle": "2022-12-19T00:40:43.437800Z",
     "shell.execute_reply": "2022-12-19T00:40:43.437252Z",
     "shell.execute_reply.started": "2022-12-19T00:40:43.435007Z"
    },
    "tags": []
   },
   "outputs": [],
   "source": [
    "s1 = \"\"\"\\\n",
    "939\n",
    "7,13,x,x,59,x,31,19\n",
    "\"\"\""
   ]
  },
  {
   "cell_type": "code",
   "execution_count": 74,
   "id": "48e7e1d8",
   "metadata": {
    "execution": {
     "iopub.execute_input": "2022-12-19T00:40:43.438633Z",
     "iopub.status.busy": "2022-12-19T00:40:43.438457Z",
     "iopub.status.idle": "2022-12-19T00:40:43.448352Z",
     "shell.execute_reply": "2022-12-19T00:40:43.447728Z",
     "shell.execute_reply.started": "2022-12-19T00:40:43.438621Z"
    },
    "tags": []
   },
   "outputs": [
    {
     "name": "stdout",
     "output_type": "stream",
     "text": [
      "(Part 1: 0.000 s)\n"
     ]
    }
   ],
   "source": [
    "def day13_part1(s):\n",
    "  lines = s.splitlines()\n",
    "  earliest_time = int(lines[0])\n",
    "  buses = [int(e) for e in lines[1].split(',') if e != 'x']\n",
    "  next_times = [math.ceil(earliest_time / bus) * bus for bus in buses]\n",
    "  min_time, min_bus = min(zip(next_times, buses))\n",
    "  return (min_time - earliest_time) * min_bus\n",
    "\n",
    "\n",
    "check_eq(day13_part1(s1), 295)\n",
    "puzzle.verify(1, day13_part1)  # ~0 ms."
   ]
  },
  {
   "cell_type": "markdown",
   "id": "ba4b3cf8",
   "metadata": {},
   "source": [
    "Part 2"
   ]
  },
  {
   "cell_type": "code",
   "execution_count": 75,
   "id": "63c55b82",
   "metadata": {
    "execution": {
     "iopub.execute_input": "2022-12-19T00:40:43.449569Z",
     "iopub.status.busy": "2022-12-19T00:40:43.449278Z",
     "iopub.status.idle": "2022-12-19T00:40:43.459946Z",
     "shell.execute_reply": "2022-12-19T00:40:43.459276Z",
     "shell.execute_reply.started": "2022-12-19T00:40:43.449551Z"
    },
    "tags": []
   },
   "outputs": [],
   "source": [
    "# Let each bus be represented by its period b_i and desired remainder r_i.\n",
    "\n",
    "# Given [(b_i, r_i)], where b_i are coprime, we seek x such that\n",
    "#  x % b_i = r_i  for all i,  where r_i = -i % b_i\n",
    "# We can work by reduction, merging pairs of buses.\n",
    "\n",
    "# Given a pair of buses (b1, r1) and (b2, r2),\n",
    "# we want to find a new equivalent bus (b1 * b2, r) such that\n",
    "#  0 <= r < b1 * b2\n",
    "#  r % b1 = r1\n",
    "#  r % b2 = r2\n",
    "# We can apply the Chinese remainder theorem using the extended GCD algorithm."
   ]
  },
  {
   "cell_type": "code",
   "execution_count": 76,
   "id": "b1d9a92e",
   "metadata": {
    "execution": {
     "iopub.execute_input": "2022-12-19T00:40:43.461038Z",
     "iopub.status.busy": "2022-12-19T00:40:43.460715Z",
     "iopub.status.idle": "2022-12-19T00:40:43.469306Z",
     "shell.execute_reply": "2022-12-19T00:40:43.468687Z",
     "shell.execute_reply.started": "2022-12-19T00:40:43.461023Z"
    },
    "tags": []
   },
   "outputs": [],
   "source": [
    "def extended_gcd(a: int, b: int) -> tuple[int, int, int]:\n",
    "  \"\"\"Finds the greatest common divisor using the extended Euclidean algorithm.\n",
    "\n",
    "  Returns:\n",
    "    (gcd(a, b), x, y) with the property that a * x + b * y = gcd(a, b).\n",
    "\n",
    "  >>> extended_gcd(29, 71)\n",
    "  (1, -22, 9)\n",
    "  >>> (29 * -22) % 71\n",
    "  1\n",
    "  \"\"\"\n",
    "  prev_x, x = 1, 0\n",
    "  prev_y, y = 0, 1\n",
    "  while b:\n",
    "    q = a // b\n",
    "    x, prev_x = prev_x - q * x, x\n",
    "    y, prev_y = prev_y - q * y, y\n",
    "    a, b = b, a % b\n",
    "  x, y = prev_x, prev_y\n",
    "  return a, x, y\n",
    "\n",
    "\n",
    "check_eq(extended_gcd(29, 71), ((1, -22, 9)))"
   ]
  },
  {
   "cell_type": "code",
   "execution_count": 77,
   "id": "135cf5ce",
   "metadata": {
    "execution": {
     "iopub.execute_input": "2022-12-19T00:40:43.470507Z",
     "iopub.status.busy": "2022-12-19T00:40:43.470208Z",
     "iopub.status.idle": "2022-12-19T00:40:43.479947Z",
     "shell.execute_reply": "2022-12-19T00:40:43.479406Z",
     "shell.execute_reply.started": "2022-12-19T00:40:43.470493Z"
    },
    "tags": []
   },
   "outputs": [
    {
     "name": "stdout",
     "output_type": "stream",
     "text": [
      "(Part 2: 0.000 s)\n"
     ]
    }
   ],
   "source": [
    "def day13a_part2(s):  # Using pairwise reduction with extended_gcd.\n",
    "  s = s.splitlines()[-1]\n",
    "  buses = [int(e) for e in s.replace('x', '1').split(',')]\n",
    "  check_eq(np.lcm.reduce(buses), math.prod(buses))  # verify all coprime\n",
    "  bus_remainders = [(bus, -i % bus) for i, bus in enumerate(buses)]  # Optionally \"if bus > 1\".\n",
    "\n",
    "  def merge_buses(bus1, bus2):\n",
    "    (b1, r1), (b2, r2) = bus1, bus2\n",
    "    # https://en.wikipedia.org/wiki/Chinese_remainder_theorem\n",
    "    _, x, y = extended_gcd(b1, b2)\n",
    "    return b1 * b2, (r1 * y * b2 + r2 * x * b1) % (b1 * b2)\n",
    "\n",
    "  _, r = functools.reduce(merge_buses, bus_remainders)\n",
    "  return r\n",
    "\n",
    "\n",
    "check_eq(day13a_part2(s1.splitlines()[1]), 1068781)\n",
    "check_eq(day13a_part2('17,x,13,19'), 3417)\n",
    "check_eq(day13a_part2('67,7,59,61'), 754018)\n",
    "check_eq(day13a_part2('67,x,7,59,61'), 779210)\n",
    "check_eq(day13a_part2('67,7,x,59,61'), 1261476)\n",
    "check_eq(day13a_part2('1789,37,47,1889'), 1202161486)\n",
    "puzzle.verify(2, day13a_part2)  # ~0 ms."
   ]
  },
  {
   "cell_type": "code",
   "execution_count": 78,
   "id": "ec5b97f7-a236-4b4e-aecc-2545284decba",
   "metadata": {
    "execution": {
     "iopub.execute_input": "2022-12-19T00:40:43.480962Z",
     "iopub.status.busy": "2022-12-19T00:40:43.480652Z",
     "iopub.status.idle": "2022-12-19T00:40:43.493584Z",
     "shell.execute_reply": "2022-12-19T00:40:43.492979Z",
     "shell.execute_reply.started": "2022-12-19T00:40:43.480946Z"
    },
    "tags": []
   },
   "outputs": [
    {
     "name": "stdout",
     "output_type": "stream",
     "text": [
      "(Part 2: 0.000 s)\n"
     ]
    }
   ],
   "source": [
    "def day13_part2(s):  # Using built-in modular inverses and general Chinese Remainder method.\n",
    "  s = s.splitlines()[-1]\n",
    "  buses = [int(e) for e in s.replace('x', '1').split(',')]\n",
    "  check_eq(np.lcm.reduce(buses), math.prod(buses))  # verify all coprime\n",
    "  remainders, moduli = zip(*[(-i % bus, bus) for i, bus in enumerate(buses)])  # Or \"if bus > 1\".\n",
    "\n",
    "  def solve_mod_congruences(values: Iterable[int], moduli: Iterable[int]) -> int:\n",
    "    \"\"\"Returns `x` satisfying `values[i] == x % moduli[i]`.\n",
    "\n",
    "    The Chinese Remainder Theorem shows the system has a unique solution if `moduli` are coprime.\n",
    "    See https://en.wikipedia.org/wiki/Modular_multiplicative_inverse#Applications .\n",
    "\n",
    "    Args:\n",
    "      values: Desired remainders with respect to a corresponding sequence of moduli.\n",
    "      moduli: Positive integers, which must be coprime.\n",
    "\n",
    "    >>> solve_mod_congruences([3, 6, 6], [5, 7, 11])\n",
    "    39\n",
    "    \"\"\"\n",
    "    values, moduli = tuple(values), tuple(moduli)\n",
    "    assert len(values) == len(moduli) > 0\n",
    "    mod_prod = math.prod(moduli)\n",
    "    other_mods = [mod_prod // mod for mod in moduli]\n",
    "    inverses = [pow(other_mod, -1, mod=mod) for other_mod, mod in zip(other_mods, moduli)]\n",
    "    return (\n",
    "        sum(\n",
    "            inverse * other_mod * value\n",
    "            for inverse, other_mod, value in zip(inverses, other_mods, values)\n",
    "        )\n",
    "        % mod_prod\n",
    "    )\n",
    "\n",
    "  return solve_mod_congruences(remainders, moduli)\n",
    "\n",
    "\n",
    "check_eq(day13_part2(s1.splitlines()[1]), 1068781)\n",
    "check_eq(day13_part2('17,x,13,19'), 3417)\n",
    "check_eq(day13_part2('67,7,59,61'), 754018)\n",
    "check_eq(day13_part2('67,x,7,59,61'), 779210)\n",
    "check_eq(day13_part2('67,7,x,59,61'), 1261476)\n",
    "check_eq(day13_part2('1789,37,47,1889'), 1202161486)\n",
    "puzzle.verify(2, day13_part2)  # ~0 ms."
   ]
  },
  {
   "cell_type": "markdown",
   "id": "892b2b03",
   "metadata": {},
   "source": [
    "<a name=\"day14\"></a>\n",
    "## Day 14: Write masked values to mem"
   ]
  },
  {
   "cell_type": "markdown",
   "id": "ab3e22a7",
   "metadata": {},
   "source": [
    "Process a sequence of instructions, each specifying either a bitmask (where each location contains `0`, `1`, or `X`) or the writing of a value to a memory address, and report the sum of the resulting memory contents.\n",
    "\n",
    "- Part 1: The bitmask is applied to the value written to memory, such that `0` and `1` replace the corresponding bit in the value and `X` leaves it unchanged.\n",
    "\n",
    "- Part 2: The bitmask is applied to the address used to write the value to memory, such that `1` replaces the corresponding bit in the address and `X` indicates a wildcard.  The value is written to all memory addresses satisfying the wildcard."
   ]
  },
  {
   "cell_type": "code",
   "execution_count": 79,
   "id": "87042e5b",
   "metadata": {
    "execution": {
     "iopub.execute_input": "2022-12-19T00:40:43.494343Z",
     "iopub.status.busy": "2022-12-19T00:40:43.494204Z",
     "iopub.status.idle": "2022-12-19T00:40:43.512131Z",
     "shell.execute_reply": "2022-12-19T00:40:43.511570Z",
     "shell.execute_reply.started": "2022-12-19T00:40:43.494331Z"
    }
   },
   "outputs": [
    {
     "data": {
      "text/markdown": [
       "For [day 14](https://adventofcode.com/2020/day/14), `puzzle.input` has 570 lines:"
      ],
      "text/plain": [
       "<IPython.core.display.Markdown object>"
      ]
     },
     "metadata": {},
     "output_type": "display_data"
    },
    {
     "name": "stdout",
     "output_type": "stream",
     "text": [
      "mask = 0111X10100100X1111X10010X000X1000001\n",
      "mem[50907] = 468673978\n",
      "mem[22295] = 3337449\n",
      "mem[58474] = 56418393\n",
      "mem[15362] = 243184\n",
      "mem[65089] = 110688658\n",
      "mask = 010X010XX110X01X01X10X001001011X110X\n",
      "mem[21952] = 950257\n",
      " ...\n",
      "mem[13666] = 52961\n",
      "mem[7377] = 134144120\n",
      "mem[58224] = 211536\n",
      "mem[36878] = 173058887\n"
     ]
    },
    {
     "data": {
      "text/markdown": [
       "The stored answers are: `{1: '9628746976360', 2: '4574598714592'}`"
      ],
      "text/plain": [
       "<IPython.core.display.Markdown object>"
      ]
     },
     "metadata": {},
     "output_type": "display_data"
    }
   ],
   "source": [
    "puzzle = advent.puzzle(day=14)"
   ]
  },
  {
   "cell_type": "code",
   "execution_count": 80,
   "id": "b4c2f4f8",
   "metadata": {
    "execution": {
     "iopub.execute_input": "2022-12-19T00:40:43.512997Z",
     "iopub.status.busy": "2022-12-19T00:40:43.512818Z",
     "iopub.status.idle": "2022-12-19T00:40:43.515522Z",
     "shell.execute_reply": "2022-12-19T00:40:43.514980Z",
     "shell.execute_reply.started": "2022-12-19T00:40:43.512985Z"
    }
   },
   "outputs": [],
   "source": [
    "s1 = \"\"\"\\\n",
    "mask = XXXXXXXXXXXXXXXXXXXXXXXXXXXXX1XXXX0X\n",
    "mem[8] = 11\n",
    "mem[7] = 101\n",
    "mem[8] = 0\n",
    "\"\"\""
   ]
  },
  {
   "cell_type": "code",
   "execution_count": 81,
   "id": "19c010a9",
   "metadata": {
    "execution": {
     "iopub.execute_input": "2022-12-19T00:40:43.516656Z",
     "iopub.status.busy": "2022-12-19T00:40:43.516312Z",
     "iopub.status.idle": "2022-12-19T00:40:43.524783Z",
     "shell.execute_reply": "2022-12-19T00:40:43.524199Z",
     "shell.execute_reply.started": "2022-12-19T00:40:43.516638Z"
    }
   },
   "outputs": [],
   "source": [
    "s2 = \"\"\"\\\n",
    "mask = 000000000000000000000000000000X1001X\n",
    "mem[42] = 100\n",
    "mask = 00000000000000000000000000000000X0XX\n",
    "mem[26] = 1\n",
    "\"\"\""
   ]
  },
  {
   "cell_type": "code",
   "execution_count": 82,
   "id": "0140032e",
   "metadata": {
    "execution": {
     "iopub.execute_input": "2022-12-19T00:40:43.525872Z",
     "iopub.status.busy": "2022-12-19T00:40:43.525413Z",
     "iopub.status.idle": "2022-12-19T00:40:43.546499Z",
     "shell.execute_reply": "2022-12-19T00:40:43.545848Z",
     "shell.execute_reply.started": "2022-12-19T00:40:43.525859Z"
    }
   },
   "outputs": [
    {
     "name": "stdout",
     "output_type": "stream",
     "text": [
      "(Part 1: 0.001 s)\n",
      "(Part 2: 0.010 s)\n"
     ]
    }
   ],
   "source": [
    "def day14(s, *, part2=False):\n",
    "  mem = {}\n",
    "  extract_0 = str.maketrans('01X', '100')\n",
    "  extract_1 = str.maketrans('01X', '010')\n",
    "  extract_x = str.maketrans('01X', '001')\n",
    "  for line in s.splitlines():\n",
    "    if line.startswith('mask'):\n",
    "      mask = line.split(' = ')[1]\n",
    "      if not part2:\n",
    "        mask_force_0 = int(mask.translate(extract_0), base=2)\n",
    "        mask_force_1 = int(mask.translate(extract_1), base=2)\n",
    "      else:\n",
    "        mask_force_1 = int(mask.translate(extract_1), base=2)\n",
    "        mask_not_x = ~int(mask.translate(extract_x), base=2)\n",
    "        offsets = [0]\n",
    "        for wildcard in (1 << i for i in range(36) if mask[35 - i] == 'X'):\n",
    "          offsets += [offset + wildcard for offset in offsets]\n",
    "    else:\n",
    "      address, value = map(int, hh.re_groups(r'^mem\\[(\\d+)\\] = (\\d+)$', line))\n",
    "      if not part2:\n",
    "        mem[address] = (value | mask_force_1) & ~mask_force_0\n",
    "      else:\n",
    "        address = (address & mask_not_x) | mask_force_1\n",
    "        for offset in offsets:\n",
    "          mem[address + offset] = value\n",
    "  return sum(mem.values())\n",
    "\n",
    "\n",
    "check_eq(day14(s1), 165)\n",
    "puzzle.verify(1, day14)  # ~1 ms.\n",
    "\n",
    "day14_part2 = functools.partial(day14, part2=True)\n",
    "check_eq(day14_part2(s2), 208)\n",
    "puzzle.verify(2, day14_part2)  # ~22 ms."
   ]
  },
  {
   "cell_type": "markdown",
   "id": "8064b6a2",
   "metadata": {},
   "source": [
    "<a name=\"day15\"></a>\n",
    "## Day 15: Rounds of spoken numbers"
   ]
  },
  {
   "cell_type": "markdown",
   "id": "3bcb3e45",
   "metadata": {},
   "source": [
    "Given an initial sequence of numbers indexed starting at `1`, continue the sequence as follows.\n",
    "\n",
    "The number at index `i` is either\n",
    "  * `0` if the numer at index `i - 1` was not previously seen, or\n",
    "  * `i - 1 - j` if the number at index `i - 1` was previously seen at index `j`.\n",
    "\n",
    "- Part 1: Report the number at index `2020`.\n",
    "\n",
    "- Part 2: Report the number at index `30_000_000`."
   ]
  },
  {
   "cell_type": "code",
   "execution_count": 83,
   "id": "c1dd6ea8",
   "metadata": {
    "execution": {
     "iopub.execute_input": "2022-12-19T00:40:43.547737Z",
     "iopub.status.busy": "2022-12-19T00:40:43.547396Z",
     "iopub.status.idle": "2022-12-19T00:40:43.564452Z",
     "shell.execute_reply": "2022-12-19T00:40:43.563904Z",
     "shell.execute_reply.started": "2022-12-19T00:40:43.547722Z"
    },
    "tags": []
   },
   "outputs": [
    {
     "data": {
      "text/markdown": [
       "For [day 15](https://adventofcode.com/2020/day/15), `puzzle.input` has a single line of 16 characters:"
      ],
      "text/plain": [
       "<IPython.core.display.Markdown object>"
      ]
     },
     "metadata": {},
     "output_type": "display_data"
    },
    {
     "name": "stdout",
     "output_type": "stream",
     "text": [
      "9,12,1,4,17,0,18\n"
     ]
    },
    {
     "data": {
      "text/markdown": [
       "The stored answers are: `{1: '610', 2: '1407'}`"
      ],
      "text/plain": [
       "<IPython.core.display.Markdown object>"
      ]
     },
     "metadata": {},
     "output_type": "display_data"
    }
   ],
   "source": [
    "puzzle = advent.puzzle(day=15)"
   ]
  },
  {
   "cell_type": "code",
   "execution_count": 84,
   "id": "f6aeec38",
   "metadata": {
    "execution": {
     "iopub.execute_input": "2022-12-19T00:40:43.565640Z",
     "iopub.status.busy": "2022-12-19T00:40:43.565309Z",
     "iopub.status.idle": "2022-12-19T00:40:43.568218Z",
     "shell.execute_reply": "2022-12-19T00:40:43.567699Z",
     "shell.execute_reply.started": "2022-12-19T00:40:43.565625Z"
    },
    "tags": []
   },
   "outputs": [],
   "source": [
    "s1 = '0,3,6'"
   ]
  },
  {
   "cell_type": "code",
   "execution_count": 85,
   "id": "f8d10f40",
   "metadata": {
    "execution": {
     "iopub.execute_input": "2022-12-19T00:40:43.569112Z",
     "iopub.status.busy": "2022-12-19T00:40:43.568981Z",
     "iopub.status.idle": "2022-12-19T00:40:43.580242Z",
     "shell.execute_reply": "2022-12-19T00:40:43.579711Z",
     "shell.execute_reply.started": "2022-12-19T00:40:43.569101Z"
    },
    "tags": []
   },
   "outputs": [
    {
     "name": "stdout",
     "output_type": "stream",
     "text": [
      "(Part 1: 0.000 s)\n"
     ]
    }
   ],
   "source": [
    "def day15a(s, *, num_turns=2020):  # Slow, using dict().\n",
    "  initial_sequence = tuple(map(int, s.split(',')))\n",
    "\n",
    "  def generate_sequence(initial_sequence):\n",
    "    last_turn: dict[int, int] = {}\n",
    "    for turn, number in enumerate(initial_sequence):\n",
    "      prev_turn = last_turn.get(number, -1)\n",
    "      last_turn[number] = turn\n",
    "      yield number\n",
    "\n",
    "    for turn in itertools.count(len(initial_sequence)):\n",
    "      number = 0 if prev_turn < 0 else turn - 1 - prev_turn\n",
    "      prev_turn = last_turn.get(number, -1)\n",
    "      last_turn[number] = turn\n",
    "      yield number\n",
    "\n",
    "  return next(itertools.islice(generate_sequence(initial_sequence), num_turns - 1, None))\n",
    "\n",
    "\n",
    "check_eq(day15a(s1, num_turns=10), 0)\n",
    "check_eq(day15a(s1), 436)\n",
    "check_eq(day15a('1,3,2'), 1)\n",
    "check_eq(day15a('2,1,3'), 10)\n",
    "check_eq(day15a('1,2,3'), 27)\n",
    "check_eq(day15a('2,3,1'), 78)\n",
    "check_eq(day15a('3,2,1'), 438)\n",
    "check_eq(day15a('3,1,2'), 1836)\n",
    "puzzle.verify(1, day15a)  # ~1 ms.\n",
    "\n",
    "day15a_part2 = functools.partial(day15a, num_turns=30_000_000)\n",
    "# puzzle.verify(2, day15a_part2)  # Slow; ~15 s."
   ]
  },
  {
   "cell_type": "code",
   "execution_count": 86,
   "id": "b9b9453a",
   "metadata": {
    "execution": {
     "iopub.execute_input": "2022-12-19T00:40:43.581040Z",
     "iopub.status.busy": "2022-12-19T00:40:43.580906Z",
     "iopub.status.idle": "2022-12-19T00:40:43.593713Z",
     "shell.execute_reply": "2022-12-19T00:40:43.593118Z",
     "shell.execute_reply.started": "2022-12-19T00:40:43.581028Z"
    },
    "tags": []
   },
   "outputs": [
    {
     "name": "stdout",
     "output_type": "stream",
     "text": [
      "(Part 1: 0.000 s)\n"
     ]
    }
   ],
   "source": [
    "def day15b(s, *, num_turns=2020):  # Faster, using List.\n",
    "  def func(initial_sequence, num_turns):\n",
    "    last_turn = [-1] * num_turns\n",
    "    for turn in range(min(num_turns, len(initial_sequence))):\n",
    "      number = initial_sequence[turn]\n",
    "      prev_turn = last_turn[number]\n",
    "      last_turn[number] = turn\n",
    "\n",
    "    for turn in range(len(initial_sequence), num_turns):\n",
    "      number = 0 if prev_turn < 0 else turn - 1 - prev_turn\n",
    "      prev_turn = last_turn[number]\n",
    "      last_turn[number] = turn\n",
    "\n",
    "    return number\n",
    "\n",
    "  initial_sequence = np.array(tuple(map(int, s.split(','))), np.int32)\n",
    "  return func(initial_sequence, num_turns)\n",
    "\n",
    "\n",
    "check_eq(day15b(s1), 436)\n",
    "puzzle.verify(1, day15b)  # ~1 ms.\n",
    "\n",
    "if not using_numba:\n",
    "  day15b_part2 = functools.partial(day15b, num_turns=30_000_000)\n",
    "  # check_eq(day15b_part2(s1), 175594)  # Slow; ~9 s.\n",
    "  puzzle.verify(2, day15b_part2)  # Slow; ~10 s."
   ]
  },
  {
   "cell_type": "code",
   "execution_count": 87,
   "id": "6c302dea",
   "metadata": {
    "execution": {
     "iopub.execute_input": "2022-12-19T00:40:43.594783Z",
     "iopub.status.busy": "2022-12-19T00:40:43.594422Z",
     "iopub.status.idle": "2022-12-19T00:40:44.635519Z",
     "shell.execute_reply": "2022-12-19T00:40:44.634788Z",
     "shell.execute_reply.started": "2022-12-19T00:40:43.594767Z"
    },
    "tags": []
   },
   "outputs": [
    {
     "name": "stdout",
     "output_type": "stream",
     "text": [
      "(Part 1: 0.000 s)\n",
      "(Part 2: 0.375 s)\n"
     ]
    }
   ],
   "source": [
    "# Faster, using np.array and numba.\n",
    "@numba.njit\n",
    "def day15_func(initial_sequence, num_turns):\n",
    "  last_turn = np.full(num_turns, -1, np.int32)\n",
    "  for turn in range(min(num_turns, len(initial_sequence))):\n",
    "    number = initial_sequence[turn]\n",
    "    prev_turn = last_turn[number]\n",
    "    last_turn[number] = turn\n",
    "\n",
    "  for turn in range(len(initial_sequence), num_turns):\n",
    "    number = 0 if prev_turn < 0 else turn - 1 - prev_turn\n",
    "    prev_turn = last_turn[number]\n",
    "    last_turn[number] = turn\n",
    "\n",
    "  return number\n",
    "\n",
    "\n",
    "def day15(s, *, num_turns=2020):\n",
    "  initial_sequence = np.array(tuple(map(int, s.split(','))), np.int32)\n",
    "  return day15_func(initial_sequence, num_turns)\n",
    "\n",
    "\n",
    "check_eq(day15(s1), 436)  # ~1 s for numba compilation.\n",
    "puzzle.verify(1, day15)  # ~4 ms.\n",
    "\n",
    "if using_numba:\n",
    "  day15_part2 = functools.partial(day15, num_turns=30_000_000)\n",
    "  check_eq(day15_part2(s1), 175594)  # ~1 s for numba compilation.\n",
    "  if 0:\n",
    "    check_eq(day15_part2('1,3,2'), 2578)\n",
    "    check_eq(day15_part2('2,1,3'), 3544142)\n",
    "    check_eq(day15_part2('1,2,3'), 261214)\n",
    "    check_eq(day15_part2('2,3,1'), 6895259)\n",
    "    check_eq(day15_part2('3,2,1'), 18)\n",
    "    check_eq(day15_part2('3,1,2'), 362)\n",
    "  puzzle.verify(2, day15_part2)  # ~650 ms with numba, ~110 s without numba.\n",
    "  # (Without numba, accessing individual elements is much faster within\n",
    "  # a Python list than within an np.array.)"
   ]
  },
  {
   "cell_type": "markdown",
   "id": "a2701515",
   "metadata": {},
   "source": [
    "<a name=\"day16\"></a>\n",
    "## Day 16: Match ticket fields and rules"
   ]
  },
  {
   "cell_type": "markdown",
   "id": "97a30142",
   "metadata": {},
   "source": [
    "Given (1) a set of fields with names and rules on possible value ranges, (2) my ticket with unlabled fields, and (3) a set of other tickets with unlabeled fields:\n",
    "\n",
    "- Part 1: Report the number of invalid other tickets, which are those containing a field value that does not satisfy any field rule.\n",
    "\n",
    "- Part 2: Considering the valid other tickets, determine a labeling of the ticket fields that is compatible with the rules.  Report the product of the 6 field values on my ticket whose names start with `departure`."
   ]
  },
  {
   "cell_type": "code",
   "execution_count": 73,
   "id": "84064fb0",
   "metadata": {
    "execution": {
     "iopub.execute_input": "2022-12-20T18:41:18.923396Z",
     "iopub.status.busy": "2022-12-20T18:41:18.923033Z",
     "iopub.status.idle": "2022-12-20T18:41:18.934021Z",
     "shell.execute_reply": "2022-12-20T18:41:18.933421Z",
     "shell.execute_reply.started": "2022-12-20T18:41:18.923380Z"
    },
    "tags": []
   },
   "outputs": [
    {
     "data": {
      "text/markdown": [
       "For [day 16](https://adventofcode.com/2020/day/16), `puzzle.input` has 268 lines:"
      ],
      "text/plain": [
       "<IPython.core.display.Markdown object>"
      ]
     },
     "metadata": {},
     "output_type": "display_data"
    },
    {
     "name": "stdout",
     "output_type": "stream",
     "text": [
      "departure location: 33-679 or 691-971\n",
      "departure station: 48-646 or 671-966\n",
      "departure platform: 37-601 or 619-950\n",
      "departure track: 41-863 or 875-973\n",
      "departure date: 37-145 or 168-965\n",
      "departure time: 26-246 or 257-972\n",
      "arrival location: 30-542 or 556-960\n",
      "arrival station: 30-75 or 89-954\n",
      " ...\n",
      "845,453,939,349,884,940,0,621,933,188,73,204,440,918,207,671,629,735,487,627\n",
      "879,694,125,501,580,274,451,885,834,397,146,104,185,173,528,717,590,412,350,936\n",
      "944,91,450,631,262,501,196,401,199,946,105,236,634,765,66,385,582,437,262,581\n",
      "924,594,156,702,128,858,133,695,140,486,399,534,115,627,748,560,518,700,883,206\n"
     ]
    },
    {
     "data": {
      "text/markdown": [
       "The stored answers are: `{1: '29878', 2: '855438643439'}`"
      ],
      "text/plain": [
       "<IPython.core.display.Markdown object>"
      ]
     },
     "metadata": {},
     "output_type": "display_data"
    }
   ],
   "source": [
    "puzzle = advent.puzzle(day=16)"
   ]
  },
  {
   "cell_type": "code",
   "execution_count": 74,
   "id": "96114cdf",
   "metadata": {
    "execution": {
     "iopub.execute_input": "2022-12-20T18:41:21.009250Z",
     "iopub.status.busy": "2022-12-20T18:41:21.008701Z",
     "iopub.status.idle": "2022-12-20T18:41:21.012224Z",
     "shell.execute_reply": "2022-12-20T18:41:21.011480Z",
     "shell.execute_reply.started": "2022-12-20T18:41:21.009232Z"
    },
    "tags": []
   },
   "outputs": [],
   "source": [
    "s1 = \"\"\"\\\n",
    "class: 1-3 or 5-7\n",
    "row: 6-11 or 33-44\n",
    "seat: 13-40 or 45-50\n",
    "\n",
    "your ticket:\n",
    "7,1,14\n",
    "\n",
    "nearby tickets:\n",
    "7,3,47\n",
    "40,4,50\n",
    "55,2,20\n",
    "38,6,12\n",
    "\"\"\"\n",
    "\n",
    "s2 = \"\"\"\\\n",
    "class: 0-1 or 4-19\n",
    "row: 0-5 or 8-19\n",
    "seat: 0-13 or 16-19\n",
    "\n",
    "your ticket:\n",
    "11,12,13\n",
    "\n",
    "nearby tickets:\n",
    "3,9,18\n",
    "15,1,5\n",
    "5,14,9\n",
    "\"\"\""
   ]
  },
  {
   "cell_type": "code",
   "execution_count": 76,
   "id": "b75a6436",
   "metadata": {
    "execution": {
     "iopub.execute_input": "2022-12-20T18:41:27.276842Z",
     "iopub.status.busy": "2022-12-20T18:41:27.276435Z",
     "iopub.status.idle": "2022-12-20T18:41:27.309274Z",
     "shell.execute_reply": "2022-12-20T18:41:27.308311Z",
     "shell.execute_reply.started": "2022-12-20T18:41:27.276823Z"
    },
    "tags": []
   },
   "outputs": [
    {
     "name": "stdout",
     "output_type": "stream",
     "text": [
      "(Part 1: 0.002 s)\n",
      "(Part 2: 0.021 s)\n"
     ]
    }
   ],
   "source": [
    "def day16(s, *, part2=False):\n",
    "  def read_rules_and_tickets(s):\n",
    "    s_rules, s_my_ticket, s_nearby = s.split('\\n\\n')\n",
    "\n",
    "    def read_rules():\n",
    "      for line in s_rules.splitlines():\n",
    "        name, ranges = line.split(': ')\n",
    "        ranges = ranges.split(' or ')\n",
    "        yield name, [tuple(map(int, range.split('-'))) for range in ranges]\n",
    "\n",
    "    (line,) = s_my_ticket.splitlines()[1:]\n",
    "    my_ticket = list(map(int, line.split(',')))\n",
    "\n",
    "    def read_tickets():\n",
    "      for line in s_nearby.splitlines()[1:]:\n",
    "        fields = list(map(int, line.split(',')))\n",
    "        yield fields\n",
    "\n",
    "    return read_rules, my_ticket, read_tickets\n",
    "\n",
    "  def value_ok_for_some_rule(value, rules):\n",
    "    return any(range[0] <= value <= range[1] for ranges in rules.values() for range in ranges)\n",
    "\n",
    "  read_rules, my_ticket, read_tickets = read_rules_and_tickets(s)\n",
    "  rules = dict(read_rules())\n",
    "\n",
    "  if not part2:\n",
    "    return sum(\n",
    "        value\n",
    "        for fields in read_tickets()\n",
    "        for value in fields\n",
    "        if not value_ok_for_some_rule(value, rules)\n",
    "    )\n",
    "\n",
    "  valid_tickets = [\n",
    "      fields\n",
    "      for fields in read_tickets()\n",
    "      if all(value_ok_for_some_rule(value, rules) for value in fields)\n",
    "  ]\n",
    "  num_rules, num_fields = len(rules), len(valid_tickets[0])\n",
    "  check_eq(num_rules, num_fields)\n",
    "\n",
    "  def is_compatible(rule, field_index):\n",
    "    ranges = rules[rule]\n",
    "    return all(\n",
    "        any(range[0] <= ticket[field_index] <= range[1] for range in ranges)\n",
    "        for ticket in valid_tickets\n",
    "    )\n",
    "\n",
    "  grid = np.empty((num_rules, num_fields), bool)\n",
    "  # Computational bottleneck; could let rules.values() be array and use numba.\n",
    "  for rule_index, rule in enumerate(rules):\n",
    "    for field_index in range(num_fields):\n",
    "      grid[rule_index, field_index] = is_compatible(rule, field_index)\n",
    "\n",
    "  list_rules = list(rules)\n",
    "  column_of_rule = {}\n",
    "  row_sums = grid.sum(axis=1)\n",
    "  while row_sums.any():\n",
    "    row = np.nonzero(row_sums == 1)[0][0]\n",
    "    ((col,),) = np.nonzero(grid[row] == 1)\n",
    "    rule = list_rules[row]\n",
    "    column_of_rule[rule] = col\n",
    "    row_sums -= grid[:, col]\n",
    "    grid[:, col] = 0\n",
    "  values = [my_ticket[column_of_rule[rule]] for rule in rules if rule.startswith('departure')]\n",
    "  check_eq(len(values), 6)\n",
    "  return math.prod(values)\n",
    "\n",
    "\n",
    "check_eq(day16(s1), 71)\n",
    "puzzle.verify(1, day16)  # ~6 ms.\n",
    "\n",
    "day16_part2 = functools.partial(day16, part2=True)\n",
    "puzzle.verify(2, day16_part2)  # ~52 ms."
   ]
  },
  {
   "cell_type": "markdown",
   "id": "43c600ab",
   "metadata": {},
   "source": [
    "<a name=\"day17\"></a>\n",
    "## Day 17: Game of life in 3D and 4D"
   ]
  },
  {
   "cell_type": "markdown",
   "id": "b32214f2",
   "metadata": {},
   "source": [
    "Given an initial 2D grid of cell states, simulate a cellular automaton on a higher-dimensional grid.  An inactive grid cell becomes active if exactly 3 of its neighbors is active, and an active grid cell becomes inactive unless 2 or 3 of its neighbors is active.  (Each cell has 26 neighbors in 3D and 80 neighbors in 4D.)\n",
    "\n",
    "- Part 1: Run the cellular automaton in 3D for 6 generations and report the number of active cells.\n",
    "\n",
    "- Part 2: Do the same in 4D."
   ]
  },
  {
   "cell_type": "code",
   "execution_count": 91,
   "id": "cb410087",
   "metadata": {
    "execution": {
     "iopub.execute_input": "2022-12-19T00:40:44.686482Z",
     "iopub.status.busy": "2022-12-19T00:40:44.686178Z",
     "iopub.status.idle": "2022-12-19T00:40:44.707832Z",
     "shell.execute_reply": "2022-12-19T00:40:44.707251Z",
     "shell.execute_reply.started": "2022-12-19T00:40:44.686470Z"
    }
   },
   "outputs": [
    {
     "data": {
      "text/markdown": [
       "For [day 17](https://adventofcode.com/2020/day/17), `puzzle.input` has 8 lines:"
      ],
      "text/plain": [
       "<IPython.core.display.Markdown object>"
      ]
     },
     "metadata": {},
     "output_type": "display_data"
    },
    {
     "name": "stdout",
     "output_type": "stream",
     "text": [
      ".......#\n",
      "....#...\n",
      "...###.#\n",
      "#...###.\n",
      "....##..\n",
      "##.#..#.\n",
      "###.#.#.\n",
      "....#...\n"
     ]
    },
    {
     "data": {
      "text/markdown": [
       "The stored answers are: `{1: '232', 2: '1620'}`"
      ],
      "text/plain": [
       "<IPython.core.display.Markdown object>"
      ]
     },
     "metadata": {},
     "output_type": "display_data"
    }
   ],
   "source": [
    "puzzle = advent.puzzle(day=17)"
   ]
  },
  {
   "cell_type": "code",
   "execution_count": 92,
   "id": "88de6f15",
   "metadata": {
    "execution": {
     "iopub.execute_input": "2022-12-19T00:40:44.708787Z",
     "iopub.status.busy": "2022-12-19T00:40:44.708518Z",
     "iopub.status.idle": "2022-12-19T00:40:44.711659Z",
     "shell.execute_reply": "2022-12-19T00:40:44.711073Z",
     "shell.execute_reply.started": "2022-12-19T00:40:44.708770Z"
    }
   },
   "outputs": [],
   "source": [
    "s1 = \"\"\"\\\n",
    ".#.\n",
    "..#\n",
    "###\n",
    "\"\"\""
   ]
  },
  {
   "cell_type": "code",
   "execution_count": 93,
   "id": "3225771d",
   "metadata": {
    "execution": {
     "iopub.execute_input": "2022-12-19T00:40:44.712632Z",
     "iopub.status.busy": "2022-12-19T00:40:44.712337Z",
     "iopub.status.idle": "2022-12-19T00:40:44.721093Z",
     "shell.execute_reply": "2022-12-19T00:40:44.720491Z",
     "shell.execute_reply.started": "2022-12-19T00:40:44.712619Z"
    }
   },
   "outputs": [],
   "source": [
    "# Both of the solutions below work in arbitrary dimension!"
   ]
  },
  {
   "cell_type": "code",
   "execution_count": 94,
   "id": "b99d8849",
   "metadata": {
    "execution": {
     "iopub.execute_input": "2022-12-19T00:40:44.722304Z",
     "iopub.status.busy": "2022-12-19T00:40:44.721930Z",
     "iopub.status.idle": "2022-12-19T00:40:44.814282Z",
     "shell.execute_reply": "2022-12-19T00:40:44.813652Z",
     "shell.execute_reply.started": "2022-12-19T00:40:44.722283Z"
    }
   },
   "outputs": [
    {
     "name": "stdout",
     "output_type": "stream",
     "text": [
      "(Part 1: 0.052 s)\n"
     ]
    }
   ],
   "source": [
    "def day17a(s, *, num_cycles=6, dim=3):  # Slower.\n",
    "  lines = s.splitlines()\n",
    "  indices = {\n",
    "      (0,) * (dim - 2) + (y, x)\n",
    "      for y, line in enumerate(lines)\n",
    "      for x, ch in enumerate(line)\n",
    "      if ch == '#'\n",
    "  }\n",
    "  offsets = set(itertools.product((-1, 0, 1), repeat=dim)) - {(0,) * dim}\n",
    "\n",
    "  def neighbors(index):\n",
    "    for offset in offsets:\n",
    "      yield tuple(map(sum, zip(index, offset)))\n",
    "\n",
    "  def count_neighbors(index):\n",
    "    return sum(neighbor in indices for neighbor in neighbors(index))\n",
    "\n",
    "  for _ in range(num_cycles):\n",
    "    survivors = {index for index in indices if 2 <= count_neighbors(index) <= 3}\n",
    "    adjacents = {neighbor for index in indices for neighbor in neighbors(index)}\n",
    "    births = {index for index in adjacents if count_neighbors(index) == 3}\n",
    "    indices = survivors | births\n",
    "\n",
    "  return len(indices)\n",
    "\n",
    "\n",
    "check_eq(day17a(s1), 112)\n",
    "puzzle.verify(1, day17a)  # ~150 ms."
   ]
  },
  {
   "cell_type": "code",
   "execution_count": 95,
   "id": "2856e455",
   "metadata": {
    "execution": {
     "iopub.execute_input": "2022-12-19T00:40:44.815212Z",
     "iopub.status.busy": "2022-12-19T00:40:44.814937Z",
     "iopub.status.idle": "2022-12-19T00:40:44.915807Z",
     "shell.execute_reply": "2022-12-19T00:40:44.914969Z",
     "shell.execute_reply.started": "2022-12-19T00:40:44.815200Z"
    }
   },
   "outputs": [
    {
     "name": "stdout",
     "output_type": "stream",
     "text": [
      "(Part 1: 0.003 s)\n",
      "(Part 2: 0.057 s)\n"
     ]
    }
   ],
   "source": [
    "def day17(s, *, num_cycles=6, dim=3):  # Faster.\n",
    "  lines = s.splitlines()\n",
    "  indices = {\n",
    "      (0,) * (dim - 2) + (y, x)\n",
    "      for y, line in enumerate(lines)\n",
    "      for x, ch in enumerate(line)\n",
    "      if ch == '#'\n",
    "  }\n",
    "  offsets = set(itertools.product((-1, 0, 1), repeat=dim)) - {(0,) * dim}\n",
    "\n",
    "  def neighbors(index):\n",
    "    i = index\n",
    "    if dim == 3:  # faster\n",
    "      for o in offsets:\n",
    "        yield i[0] + o[0], i[1] + o[1], i[2] + o[2]\n",
    "    elif dim == 4:  # faster\n",
    "      for o in offsets:\n",
    "        yield i[0] + o[0], i[1] + o[1], i[2] + o[2], i[3] + o[3]\n",
    "    else:\n",
    "      for o in offsets:\n",
    "        yield tuple(map(sum, zip(i, o)))\n",
    "\n",
    "  for _ in range(num_cycles):\n",
    "    # Adapted from collections.Counter() algorithm in\n",
    "    # https://github.com/norvig/pytudes/blob/master/ipynb/Advent-2020.ipynb\n",
    "    neighbor_counts = collections.Counter(\n",
    "        more_itertools.flatten(neighbors(index) for index in indices)\n",
    "    )\n",
    "    indices = {\n",
    "        index\n",
    "        for index, count in neighbor_counts.items()\n",
    "        if count == 3 or (count == 2 and index in indices)\n",
    "    }\n",
    "\n",
    "  return len(indices)\n",
    "\n",
    "\n",
    "check_eq(day17(s1), 112)\n",
    "puzzle.verify(1, day17)  # ~8 ms.\n",
    "\n",
    "day17_part2 = functools.partial(day17, dim=4)\n",
    "check_eq(day17_part2(s1), 848)\n",
    "puzzle.verify(2, day17_part2)  # ~200 ms."
   ]
  },
  {
   "cell_type": "code",
   "execution_count": 96,
   "id": "e41a2716",
   "metadata": {
    "execution": {
     "iopub.execute_input": "2022-12-19T00:40:44.916856Z",
     "iopub.status.busy": "2022-12-19T00:40:44.916565Z",
     "iopub.status.idle": "2022-12-19T00:40:44.920255Z",
     "shell.execute_reply": "2022-12-19T00:40:44.919637Z",
     "shell.execute_reply.started": "2022-12-19T00:40:44.916843Z"
    }
   },
   "outputs": [],
   "source": [
    "def day17_show_num_active_in_each_generation_for_2d_3d_4d():\n",
    "  for dim in range(2, 5):\n",
    "    print(dim, [day17(puzzle.input, num_cycles=num_cycles, dim=dim) for num_cycles in range(6)])\n",
    "\n",
    "\n",
    "if 0:\n",
    "  day17_show_num_active_in_each_generation_for_2d_3d_4d()"
   ]
  },
  {
   "cell_type": "markdown",
   "id": "7a3cae42",
   "metadata": {},
   "source": [
    "<a name=\"day18\"></a>\n",
    "## Day 18: Parsing math expression"
   ]
  },
  {
   "cell_type": "markdown",
   "id": "445d47c6",
   "metadata": {},
   "source": [
    "Given a list of mathematical expressions with additions, multiplications, and parantheses, evaluate each expression and report the sum of resulting values.\n",
    "\n",
    "- Part 1: Operators `+` and `*` have equal precedence and are applied left-to-right.\n",
    "\n",
    "- Part 2: Operator `+` has higher precedence than `*` (which is unusual)."
   ]
  },
  {
   "cell_type": "code",
   "execution_count": 97,
   "id": "3cd7a029",
   "metadata": {
    "execution": {
     "iopub.execute_input": "2022-12-19T00:40:44.921203Z",
     "iopub.status.busy": "2022-12-19T00:40:44.920911Z",
     "iopub.status.idle": "2022-12-19T00:40:44.937884Z",
     "shell.execute_reply": "2022-12-19T00:40:44.937311Z",
     "shell.execute_reply.started": "2022-12-19T00:40:44.921189Z"
    }
   },
   "outputs": [
    {
     "data": {
      "text/markdown": [
       "For [day 18](https://adventofcode.com/2020/day/18), `puzzle.input` has 380 lines:"
      ],
      "text/plain": [
       "<IPython.core.display.Markdown object>"
      ]
     },
     "metadata": {},
     "output_type": "display_data"
    },
    {
     "name": "stdout",
     "output_type": "stream",
     "text": [
      "7 + (9 * 8 + 5 + 5 * (3 * 4 * 7 + 6 * 4)) * ((3 * 6 + 3 * 4 * 7 * 4) + 4 * 3 * 5 + 5 * (5 * 6 + 7)) * 2 + 6 * 4\n",
      "9 * 4 * ((9 * 8 + 9 + 2 + 9) + 2 * 9 + 2 + 2) * 5 * 6\n",
      "3 * ((9 * 3 * 8 * 6 * 6 * 7) + 8) * 2 * 9 + 4 * 8\n",
      "(3 + 4 + 4 * 4 + 9) + (7 + 6 + 2 * 8) * 9 + 7 * 8\n",
      "9 + 6 + 6 + 9 * 9 * 5\n",
      "(3 * 5 + (4 + 3 * 7 * 8) + 7 + 8 + 2) * 8 * (3 * 4 * 8) * ((4 + 5 * 2) * 7)\n",
      "6 + (5 + 8 * (6 * 8 * 9 + 9 + 8 * 9) * 4 + (5 * 9)) * 2 + 2\n",
      "(6 + 8 + (6 * 6 + 2) * 6 * (7 + 7 + 8 + 9)) * 3 + 8 + (6 * (8 + 8 + 9)) + 2\n",
      " ...\n",
      "5 * 8 + (7 + 2 + 6) * (8 + 2 + 8 + 4 + 9) + (5 * 6 * 6 * 3) + 8\n",
      "6 + (7 * 4 + 4 * 7 + 3 * 7) + 9 + 5 * 7 * 5\n",
      "3 + 2 + 8 + (4 + 9 * 4 * 2 + (9 * 9 + 9 + 5) * 5) + 6\n",
      "3 * 9 * 4 * (5 * 4 * (8 + 3))\n"
     ]
    },
    {
     "data": {
      "text/markdown": [
       "The stored answers are: `{1: '4940631886147', 2: '283582817678281'}`"
      ],
      "text/plain": [
       "<IPython.core.display.Markdown object>"
      ]
     },
     "metadata": {},
     "output_type": "display_data"
    }
   ],
   "source": [
    "puzzle = advent.puzzle(day=18)"
   ]
  },
  {
   "cell_type": "code",
   "execution_count": 98,
   "id": "eb7a2253",
   "metadata": {
    "execution": {
     "iopub.execute_input": "2022-12-19T00:40:44.938761Z",
     "iopub.status.busy": "2022-12-19T00:40:44.938617Z",
     "iopub.status.idle": "2022-12-19T00:40:44.951249Z",
     "shell.execute_reply": "2022-12-19T00:40:44.950601Z",
     "shell.execute_reply.started": "2022-12-19T00:40:44.938750Z"
    }
   },
   "outputs": [
    {
     "name": "stdout",
     "output_type": "stream",
     "text": [
      "(Part 1: 0.003 s)\n",
      "(Part 2: 0.003 s)\n"
     ]
    }
   ],
   "source": [
    "def day18a(strings, *, part2=False):  # Slower, more readable.\n",
    "  def evaluate_line(s):\n",
    "    def parse_term(i):\n",
    "      if s[i] == '(':\n",
    "        value, i = parse_sequence(i + 1)\n",
    "        check_eq(s[i], ')')\n",
    "        return value, i + 1\n",
    "      if s[i].isdigit():\n",
    "        value = int(s[i])\n",
    "        return value, i + 1\n",
    "      raise AssertionError\n",
    "\n",
    "    def parse_sequence(i):\n",
    "      value, i = parse_term(i)\n",
    "      while i < len(s) and s[i] != ')':\n",
    "        check_eq(s[i], ' ')\n",
    "        check_eq(s[i + 2], ' ')\n",
    "        if s[i + 1] == '+':\n",
    "          value2, i = parse_term(i + 3)\n",
    "          value += value2\n",
    "        elif s[i + 1] == '*':\n",
    "          value2, i = (parse_sequence if part2 else parse_term)(i + 3)\n",
    "          value *= value2\n",
    "        else:\n",
    "          raise AssertionError\n",
    "      return value, i\n",
    "\n",
    "    value, i = parse_sequence(0)\n",
    "    check_eq(i, len(s))\n",
    "    return value\n",
    "\n",
    "  return sum(evaluate_line(s) for s in strings.splitlines())\n",
    "\n",
    "\n",
    "puzzle.verify(1, day18a)  # ~50 ms.\n",
    "\n",
    "day18a_part2 = functools.partial(day18a, part2=True)\n",
    "puzzle.verify(2, day18a_part2)  # ~55 ms."
   ]
  },
  {
   "cell_type": "code",
   "execution_count": 99,
   "id": "b20492b9",
   "metadata": {
    "execution": {
     "iopub.execute_input": "2022-12-19T00:40:44.952670Z",
     "iopub.status.busy": "2022-12-19T00:40:44.952215Z",
     "iopub.status.idle": "2022-12-19T00:40:44.964058Z",
     "shell.execute_reply": "2022-12-19T00:40:44.963490Z",
     "shell.execute_reply.started": "2022-12-19T00:40:44.952656Z"
    }
   },
   "outputs": [
    {
     "name": "stdout",
     "output_type": "stream",
     "text": [
      "(Part 1: 0.002 s)\n",
      "(Part 2: 0.002 s)\n"
     ]
    }
   ],
   "source": [
    "def day18(strings, *, part2=False):  # Compact and faster.\n",
    "  def evaluate_line(s: str) -> int:\n",
    "    def eval_term(i: int) -> tuple[int, int]:\n",
    "      return eval_seq(i + 1, eat=1) if s[i] == '(' else (int(s[i]), i + 1)\n",
    "\n",
    "    def eval_seq(i: int, eat: int = 0) -> tuple[int, int]:\n",
    "      value, i = eval_term(i)\n",
    "      while i < len(s) and s[i] != ')':\n",
    "        is_mul = s[i + 1] == '*'\n",
    "        func = eval_seq if part2 and is_mul else eval_term\n",
    "        value2, i = func(i + 3)  # type: ignore[operator]\n",
    "        value = value * value2 if is_mul else value + value2\n",
    "      return value, i + eat\n",
    "\n",
    "    return eval_seq(0)[0]\n",
    "\n",
    "  return sum(evaluate_line(s) for s in strings.splitlines())\n",
    "\n",
    "\n",
    "check_eq(day18('1 + 2 * 3 + 4 * 5 + 6'), 71)\n",
    "check_eq(day18('1 + (2 * 3) + (4 * (5 + 6))'), 51)\n",
    "check_eq(day18('2 * 3 + (4 * 5)'), 26)\n",
    "check_eq(day18('5 + (8 * 3 + 9 + 3 * 4 * 3)'), 437)\n",
    "check_eq(day18('5 * 9 * (7 * 3 * 3 + 9 * 3 + (8 + 6 * 4))'), 12240)\n",
    "check_eq(day18('((2 + 4 * 9) * (6 + 9 * 8 + 6) + 6) + 2 + 4 * 2'), 13632)\n",
    "puzzle.verify(1, day18)  # ~4 ms.\n",
    "\n",
    "day18_part2 = functools.partial(day18, part2=True)\n",
    "check_eq(day18_part2('1 + 2 * 3 + 4 * 5 + 6'), 231)\n",
    "check_eq(day18_part2('1 + (2 * 3) + (4 * (5 + 6))'), 51)\n",
    "check_eq(day18_part2('2 * 3 + (4 * 5)'), 46)\n",
    "check_eq(day18_part2('5 + (8 * 3 + 9 + 3 * 4 * 3)'), 1445)\n",
    "check_eq(day18_part2('5 * 9 * (7 * 3 * 3 + 9 * 3 + (8 + 6 * 4))'), 669060)\n",
    "check_eq(day18_part2('((2 + 4 * 9) * (6 + 9 * 8 + 6) + 6) + 2 + 4 * 2'), 23340)\n",
    "puzzle.verify(2, day18_part2)  # ~6 ms."
   ]
  },
  {
   "cell_type": "markdown",
   "id": "68c1c223",
   "metadata": {},
   "source": [
    "<a name=\"day19\"></a>\n",
    "## Day 19: Message grammar"
   ]
  },
  {
   "cell_type": "markdown",
   "id": "b73d54a2",
   "metadata": {},
   "source": [
    "Given a set of context-free grammar rules and a set of words, report the number of words that are expressible in the grammar.\n",
    "\n",
    "- Part 1: Use the initial grammar rules, which do not have cycles.\n",
    "\n",
    "- Part 2: Replace two of the grammar rules, thereby introducing cycles."
   ]
  },
  {
   "cell_type": "code",
   "execution_count": 100,
   "id": "df941ce7",
   "metadata": {
    "execution": {
     "iopub.execute_input": "2022-12-19T00:40:44.964819Z",
     "iopub.status.busy": "2022-12-19T00:40:44.964635Z",
     "iopub.status.idle": "2022-12-19T00:40:44.983100Z",
     "shell.execute_reply": "2022-12-19T00:40:44.982349Z",
     "shell.execute_reply.started": "2022-12-19T00:40:44.964806Z"
    }
   },
   "outputs": [
    {
     "data": {
      "text/markdown": [
       "For [day 19](https://adventofcode.com/2020/day/19), `puzzle.input` has 583 lines:"
      ],
      "text/plain": [
       "<IPython.core.display.Markdown object>"
      ]
     },
     "metadata": {},
     "output_type": "display_data"
    },
    {
     "name": "stdout",
     "output_type": "stream",
     "text": [
      "26: 97 126 | 123 57\n",
      "122: 84 97 | 92 123\n",
      "82: 97 138 | 123 130\n",
      "80: 131 97\n",
      "3: 123 107 | 97 66\n",
      "101: 1 123 | 95 97\n",
      "10: 97 138 | 123 107\n",
      "83: 123 27 | 97 12\n",
      " ...\n",
      "abaabababbbbbabababbabbaaaabbbba\n",
      "baaaababbbabbbbaaababbab\n",
      "bbbabbabaabbaabbabbaaabb\n",
      "abaaaababaabbbbabbbbbbbbaaaaaaaababaaaabbbaaaaaabbbbaaabbbbababb\n"
     ]
    },
    {
     "data": {
      "text/markdown": [
       "The stored answers are: `{1: '198', 2: '372'}`"
      ],
      "text/plain": [
       "<IPython.core.display.Markdown object>"
      ]
     },
     "metadata": {},
     "output_type": "display_data"
    }
   ],
   "source": [
    "puzzle = advent.puzzle(day=19)"
   ]
  },
  {
   "cell_type": "code",
   "execution_count": 101,
   "id": "eea0920d",
   "metadata": {
    "execution": {
     "iopub.execute_input": "2022-12-19T00:40:44.984188Z",
     "iopub.status.busy": "2022-12-19T00:40:44.983904Z",
     "iopub.status.idle": "2022-12-19T00:40:44.987269Z",
     "shell.execute_reply": "2022-12-19T00:40:44.986575Z",
     "shell.execute_reply.started": "2022-12-19T00:40:44.984172Z"
    }
   },
   "outputs": [],
   "source": [
    "s1 = \"\"\"\\\n",
    "0: 4 1 5\n",
    "1: 2 3 | 3 2\n",
    "2: 4 4 | 5 5\n",
    "3: 4 5 | 5 4\n",
    "4: \"a\"\n",
    "5: \"b\"\n",
    "\n",
    "ababbb\n",
    "bababa\n",
    "abbbab\n",
    "aaabbb\n",
    "aaaabbb\n",
    "\"\"\"\n",
    "\n",
    "s2 = \"\"\"\\\n",
    "42: 9 14 | 10 1\n",
    "9: 14 27 | 1 26\n",
    "10: 23 14 | 28 1\n",
    "1: \"a\"\n",
    "11: 42 31\n",
    "5: 1 14 | 15 1\n",
    "19: 14 1 | 14 14\n",
    "12: 24 14 | 19 1\n",
    "16: 15 1 | 14 14\n",
    "31: 14 17 | 1 13\n",
    "6: 14 14 | 1 14\n",
    "2: 1 24 | 14 4\n",
    "0: 8 11\n",
    "13: 14 3 | 1 12\n",
    "15: 1 | 14\n",
    "17: 14 2 | 1 7\n",
    "23: 25 1 | 22 14\n",
    "28: 16 1\n",
    "4: 1 1\n",
    "20: 14 14 | 1 15\n",
    "3: 5 14 | 16 1\n",
    "27: 1 6 | 14 18\n",
    "14: \"b\"\n",
    "21: 14 1 | 1 14\n",
    "25: 1 1 | 1 14\n",
    "22: 14 14\n",
    "8: 42\n",
    "26: 14 22 | 1 20\n",
    "18: 15 15\n",
    "7: 14 5 | 1 21\n",
    "24: 14 1\n",
    "\n",
    "abbbbbabbbaaaababbaabbbbabababbbabbbbbbabaaaa\n",
    "bbabbbbaabaabba\n",
    "babbbbaabbbbbabbbbbbaabaaabaaa\n",
    "aaabbbbbbaaaabaababaabababbabaaabbababababaaa\n",
    "bbbbbbbaaaabbbbaaabbabaaa\n",
    "bbbababbbbaaaaaaaabbababaaababaabab\n",
    "ababaaaaaabaaab\n",
    "ababaaaaabbbaba\n",
    "baabbaaaabbaaaababbaababb\n",
    "abbbbabbbbaaaababbbbbbaaaababb\n",
    "aaaaabbaabaaaaababaa\n",
    "aaaabbaaaabbaaa\n",
    "aaaabbaabbaaaaaaabbbabbbaaabbaabaaa\n",
    "babaaabbbaaabaababbaabababaaab\n",
    "aabbbbbaabbbaaaaaabbbbbababaaaaabbaaabba\n",
    "\"\"\""
   ]
  },
  {
   "cell_type": "code",
   "execution_count": 102,
   "id": "70e052f9",
   "metadata": {
    "execution": {
     "iopub.execute_input": "2022-12-19T00:40:44.988181Z",
     "iopub.status.busy": "2022-12-19T00:40:44.987926Z",
     "iopub.status.idle": "2022-12-19T00:40:45.215840Z",
     "shell.execute_reply": "2022-12-19T00:40:45.215283Z",
     "shell.execute_reply.started": "2022-12-19T00:40:44.988168Z"
    }
   },
   "outputs": [
    {
     "name": "stdout",
     "output_type": "stream",
     "text": [
      "(Part 1: 0.039 s)\n",
      "(Part 2: 0.173 s)\n"
     ]
    }
   ],
   "source": [
    "def day19a(s, *, part2=False):  # Compact.\n",
    "  section1, section2 = s.split('\\n\\n')\n",
    "  rules = dict(line.split(': ') for line in section1.splitlines())\n",
    "  if part2:\n",
    "    rules.update({'8': '42 | 42 8', '11': '42 31 | 42 11 31'})\n",
    "\n",
    "  def valid_expansion(symbols, text):\n",
    "    if not symbols or not text:\n",
    "      return not symbols and not text\n",
    "    expansions = rules[symbols[0]]\n",
    "    if expansions[0] == '\"':\n",
    "      return expansions[1] == text[0] and valid_expansion(symbols[1:], text[1:])\n",
    "    return any(\n",
    "        valid_expansion(expansion.split() + symbols[1:], text)\n",
    "        for expansion in expansions.split(' | ')\n",
    "    )\n",
    "\n",
    "  return sum(valid_expansion(['0'], text) for text in section2.splitlines())\n",
    "\n",
    "\n",
    "check_eq(day19a(s1), 2)\n",
    "puzzle.verify(1, day19a)  # ~100 ms.\n",
    "\n",
    "day19a_part2 = functools.partial(day19a, part2=True)\n",
    "check_eq(day19a_part2(s2), 12)\n",
    "puzzle.verify(2, day19a_part2)  # ~500 ms."
   ]
  },
  {
   "cell_type": "code",
   "execution_count": 103,
   "id": "25697c9c",
   "metadata": {
    "execution": {
     "iopub.execute_input": "2022-12-19T00:40:45.216906Z",
     "iopub.status.busy": "2022-12-19T00:40:45.216528Z",
     "iopub.status.idle": "2022-12-19T00:40:45.368550Z",
     "shell.execute_reply": "2022-12-19T00:40:45.367942Z",
     "shell.execute_reply.started": "2022-12-19T00:40:45.216890Z"
    }
   },
   "outputs": [
    {
     "name": "stdout",
     "output_type": "stream",
     "text": [
      "(Part 1: 0.026 s)\n",
      "(Part 2: 0.118 s)\n"
     ]
    }
   ],
   "source": [
    "def day19(s, *, part2=False):  # Faster.\n",
    "  section1, section2 = s.split('\\n\\n')\n",
    "  rules = {\n",
    "      int(symbol): (\n",
    "          rhs[1] if rhs[0] == '\"' else tuple(tuple(map(int, s.split())) for s in rhs.split(' | '))\n",
    "      )\n",
    "      for line in section1.splitlines()\n",
    "      for symbol, rhs in (line.split(': '),)\n",
    "  }\n",
    "  if part2:\n",
    "    # We are fortunate that in both modified rules, there is a symbol to the\n",
    "    # left of the recursion, which forces the consumption of a character.\n",
    "    rules.update({8: ((42,), (42, 8)), 11: ((42, 31), (42, 11, 31))})\n",
    "\n",
    "  def valid_expansion(symbols, text):\n",
    "    while True:\n",
    "      if not symbols:\n",
    "        return not text\n",
    "      if not text:\n",
    "        return False\n",
    "      expansions = rules[symbols[0]]\n",
    "      if isinstance(expansions, str):\n",
    "        if expansions != text[0]:\n",
    "          return False\n",
    "        symbols, text = symbols[1:], text[1:]\n",
    "        continue\n",
    "      return any(valid_expansion(expansion + symbols[1:], text) for expansion in expansions)\n",
    "\n",
    "  return sum(valid_expansion((0,), text) for text in section2.splitlines())\n",
    "\n",
    "\n",
    "check_eq(day19(s1), 2)\n",
    "puzzle.verify(1, day19)  # ~75 ms.\n",
    "\n",
    "day19_part2 = functools.partial(day19, part2=True)\n",
    "check_eq(day19_part2(s2), 12)\n",
    "puzzle.verify(2, day19_part2)  # ~350 ms."
   ]
  },
  {
   "cell_type": "markdown",
   "id": "0991179e",
   "metadata": {},
   "source": [
    "<a name=\"day20\"></a>\n",
    "## Day 20: Dragons in grid of tiles"
   ]
  },
  {
   "cell_type": "markdown",
   "id": "461304fd",
   "metadata": {},
   "source": [
    "Given a set of numbered 2D image tiles with binary values, assemble these tiles using rotations and flips into a 2D grid such that adjacent tiles have matching boundary values.\n",
    "\n",
    "- Part 1: Return the product of the tile numbers for the 4 tiles that lie at the corners of the assembled 2D grid.\n",
    "\n",
    "- Part 2: Given a 2D mask (\"dragon\"), find all possible locations for this mask (including rotations and flips) such that all active values in the mask are also active in the assembled grid.  Report the number of active grid nodes which are not covered by any found mask instance."
   ]
  },
  {
   "cell_type": "code",
   "execution_count": 22,
   "id": "5f7d554f",
   "metadata": {
    "execution": {
     "iopub.execute_input": "2022-12-20T16:52:46.956560Z",
     "iopub.status.busy": "2022-12-20T16:52:46.956010Z",
     "iopub.status.idle": "2022-12-20T16:52:46.974025Z",
     "shell.execute_reply": "2022-12-20T16:52:46.973451Z",
     "shell.execute_reply.started": "2022-12-20T16:52:46.956543Z"
    },
    "tags": []
   },
   "outputs": [
    {
     "data": {
      "text/markdown": [
       "For [day 20](https://adventofcode.com/2020/day/20), `puzzle.input` has 1_728 lines:"
      ],
      "text/plain": [
       "<IPython.core.display.Markdown object>"
      ]
     },
     "metadata": {},
     "output_type": "display_data"
    },
    {
     "name": "stdout",
     "output_type": "stream",
     "text": [
      "Tile 2789:\n",
      ".#..#...##\n",
      "##...#....\n",
      "#.#.##..#.\n",
      ".#.##.##.#\n",
      "....#....#\n",
      "#.#......#\n",
      ".....#....\n",
      " ...\n",
      "#......#.#\n",
      "..#.....#.\n",
      ".#.#.##.##\n",
      "\n"
     ]
    },
    {
     "data": {
      "text/markdown": [
       "The stored answers are: `{1: '18449208814679', 2: '1559'}`"
      ],
      "text/plain": [
       "<IPython.core.display.Markdown object>"
      ]
     },
     "metadata": {},
     "output_type": "display_data"
    }
   ],
   "source": [
    "puzzle = advent.puzzle(day=20)"
   ]
  },
  {
   "cell_type": "code",
   "execution_count": 23,
   "id": "bc41e663",
   "metadata": {
    "execution": {
     "iopub.execute_input": "2022-12-20T16:52:47.148351Z",
     "iopub.status.busy": "2022-12-20T16:52:47.147855Z",
     "iopub.status.idle": "2022-12-20T16:52:47.151404Z",
     "shell.execute_reply": "2022-12-20T16:52:47.150757Z",
     "shell.execute_reply.started": "2022-12-20T16:52:47.148336Z"
    },
    "tags": []
   },
   "outputs": [],
   "source": [
    "s1 = \"\"\"\\\n",
    "Tile 2311:\n",
    "..##.#..#.\n",
    "##..#.....\n",
    "#...##..#.\n",
    "####.#...#\n",
    "##.##.###.\n",
    "##...#.###\n",
    ".#.#.#..##\n",
    "..#....#..\n",
    "###...#.#.\n",
    "..###..###\n",
    "\n",
    "Tile 1951:\n",
    "#.##...##.\n",
    "#.####...#\n",
    ".....#..##\n",
    "#...######\n",
    ".##.#....#\n",
    ".###.#####\n",
    "###.##.##.\n",
    ".###....#.\n",
    "..#.#..#.#\n",
    "#...##.#..\n",
    "\n",
    "Tile 1171:\n",
    "####...##.\n",
    "#..##.#..#\n",
    "##.#..#.#.\n",
    ".###.####.\n",
    "..###.####\n",
    ".##....##.\n",
    ".#...####.\n",
    "#.##.####.\n",
    "####..#...\n",
    ".....##...\n",
    "\n",
    "Tile 1427:\n",
    "###.##.#..\n",
    ".#..#.##..\n",
    ".#.##.#..#\n",
    "#.#.#.##.#\n",
    "....#...##\n",
    "...##..##.\n",
    "...#.#####\n",
    ".#.####.#.\n",
    "..#..###.#\n",
    "..##.#..#.\n",
    "\n",
    "Tile 1489:\n",
    "##.#.#....\n",
    "..##...#..\n",
    ".##..##...\n",
    "..#...#...\n",
    "#####...#.\n",
    "#..#.#.#.#\n",
    "...#.#.#..\n",
    "##.#...##.\n",
    "..##.##.##\n",
    "###.##.#..\n",
    "\n",
    "Tile 2473:\n",
    "#....####.\n",
    "#..#.##...\n",
    "#.##..#...\n",
    "######.#.#\n",
    ".#...#.#.#\n",
    ".#########\n",
    ".###.#..#.\n",
    "########.#\n",
    "##...##.#.\n",
    "..###.#.#.\n",
    "\n",
    "Tile 2971:\n",
    "..#.#....#\n",
    "#...###...\n",
    "#.#.###...\n",
    "##.##..#..\n",
    ".#####..##\n",
    ".#..####.#\n",
    "#..#.#..#.\n",
    "..####.###\n",
    "..#.#.###.\n",
    "...#.#.#.#\n",
    "\n",
    "Tile 2729:\n",
    "...#.#.#.#\n",
    "####.#....\n",
    "..#.#.....\n",
    "....#..#.#\n",
    ".##..##.#.\n",
    ".#.####...\n",
    "####.#.#..\n",
    "##.####...\n",
    "##..#.##..\n",
    "#.##...##.\n",
    "\n",
    "Tile 3079:\n",
    "#.#.#####.\n",
    ".#..######\n",
    "..#.......\n",
    "######....\n",
    "####.#..#.\n",
    ".#...#.##.\n",
    "#.#####.##\n",
    "..#.###...\n",
    "..#.......\n",
    "..#.###...\n",
    "\"\"\""
   ]
  },
  {
   "cell_type": "code",
   "execution_count": 58,
   "id": "78203807-a171-4dff-ad62-8ae3e1bbac7f",
   "metadata": {
    "execution": {
     "iopub.execute_input": "2022-12-20T16:56:50.662890Z",
     "iopub.status.busy": "2022-12-20T16:56:50.662491Z",
     "iopub.status.idle": "2022-12-20T16:56:50.696932Z",
     "shell.execute_reply": "2022-12-20T16:56:50.696308Z",
     "shell.execute_reply.started": "2022-12-20T16:56:50.662876Z"
    },
    "tags": []
   },
   "outputs": [
    {
     "name": "stdout",
     "output_type": "stream",
     "text": [
      "(Part 1: 0.006 s)\n",
      "(Part 2: 0.013 s)\n"
     ]
    }
   ],
   "source": [
    "def day20(s, *, part2=False, visualize=False):\n",
    "  tiles = {int(t[5:9]): grid_from_string(t[11:]) for t in s.rstrip('\\n').split('\\n\\n')}\n",
    "  n = math.isqrt(len(tiles))\n",
    "\n",
    "  if visualize:\n",
    "    tiles_bool = [tile != '#' for tile in tiles.values()]\n",
    "    media.show_images(tiles_bool, columns=n, border=True, height=30)\n",
    "\n",
    "  rotations = tuple(range(8))  # 4 proper rotations * 2 flips\n",
    "\n",
    "  def rotate(tile, rotation):\n",
    "    return np.rot90(tile if rotation < 4 else tile[::-1], rotation % 4)\n",
    "\n",
    "  def top_row(tile, rotation):\n",
    "    # return rotate(tile, rotation)[0]  # equivalent but slower\n",
    "    tile = tile if rotation < 4 else tile[::-1]\n",
    "    rotation = rotation % 4\n",
    "    return (\n",
    "        tile[0]\n",
    "        if rotation == 0\n",
    "        else tile[:, -1]\n",
    "        if rotation == 1\n",
    "        else tile[-1, ::-1]\n",
    "        if rotation == 2\n",
    "        else tile[::-1, 0]\n",
    "    )\n",
    "\n",
    "  # List of (index, rotation) for up to 2 tiles whose top row matches the key.\n",
    "  edge_list = collections.defaultdict(list)\n",
    "  for index, tile in tiles.items():\n",
    "    for rotation in rotations:\n",
    "      edge_list[tuple(top_row(tile, rotation))].append((index, rotation))\n",
    "\n",
    "  def is_corner(tile):  # A corner tile has 2 unique edges.\n",
    "    return (\n",
    "        sum(len(edge_list[tuple(top_row(tile, rotation))]) == 1 for rotation in rotations[:4]) == 2\n",
    "    )\n",
    "\n",
    "  corners = [index for index, tile in tiles.items() if is_corner(tile)]\n",
    "  assert len(corners) == 4  # Exactly four tiles must be at the corners.\n",
    "  if not part2:\n",
    "    return math.prod(corners)\n",
    "\n",
    "  # Place a first corner in the grid upper-left and determine its rotation.\n",
    "  index = corners[0]\n",
    "  tile = tiles[index]\n",
    "  rotation, _ = (\n",
    "      rotation\n",
    "      for rotation in rotations  # 2 solutions due to flip\n",
    "      if (\n",
    "          len(edge_list[tuple(rotate(tile, rotation)[0])]) == 1\n",
    "          and len(edge_list[tuple(rotate(tile, rotation)[:, 0])]) == 1\n",
    "      )\n",
    "  )\n",
    "  layout = np.empty((n, n), object)\n",
    "  layout[0, 0] = index, rotation\n",
    "\n",
    "  def find(not_index, rot, desired):\n",
    "    'Returns (index, rotation) of tile with top row matching desired after rot.'\n",
    "    l = edge_list[tuple(desired)]\n",
    "    index, rotation = next(((index, rotation) for index, rotation in l if index != not_index))\n",
    "    return index, (rotation + rot) % 4 + rotation // 4 * 4\n",
    "\n",
    "  for y, x in np.ndindex(n, n):\n",
    "    if x > 0:\n",
    "      left_index, left_rotation = layout[y, x - 1]\n",
    "      desired_left = rotate(tiles[left_index], left_rotation)[::-1, -1]\n",
    "      layout[y, x] = find(left_index, 1, desired_left)\n",
    "    elif y > 0:\n",
    "      top_index, top_rotation = layout[y - 1, x]\n",
    "      desired_top = rotate(tiles[top_index], top_rotation)[-1, :]\n",
    "      layout[y, x] = find(top_index, 0, desired_top)\n",
    "\n",
    "  def block(y, x):\n",
    "    index, rotation = layout[y, x]\n",
    "    return rotate(tiles[index], rotation)[1:-1, 1:-1]\n",
    "\n",
    "  grid = np.block([[block(y, x) for x in range(n)] for y in range(n)])\n",
    "\n",
    "  pattern0 = '                  # #    ##    ##    ### #  #  #  #  #  #   '\n",
    "  pattern = np.array(list(pattern0)).reshape(3, 20) == '#'\n",
    "\n",
    "  if 0:  # slower\n",
    "    pattern_indices = pattern.nonzero()\n",
    "    for rotation in rotations:\n",
    "      grid_view = rotate(grid, rotation)\n",
    "      for y, x in np.ndindex(*(np.array(grid_view.shape) - pattern.shape)):\n",
    "        subgrid_view = grid_view[y:, x:]\n",
    "        if np.all(subgrid_view[pattern_indices] != '.'):\n",
    "          subgrid_view[pattern_indices] = 'O'\n",
    "\n",
    "  elif 0:  # faster, using 1-d matching\n",
    "    grid_view_1d = grid.ravel()\n",
    "    for rotation in rotations:\n",
    "      pattern_view = rotate(pattern, rotation)\n",
    "      pattern_indices = pattern_view.nonzero()\n",
    "      pattern_indices_1d = np.ravel_multi_index(pattern_indices, grid.shape)\n",
    "      for y, x in np.ndindex(*(np.array(grid.shape) - pattern_view.shape)):\n",
    "        subgrid_view_1d = grid_view_1d[y * grid.shape[1] + x :]\n",
    "        if np.all(subgrid_view_1d[pattern_indices_1d] != '.'):\n",
    "          subgrid_view_1d[pattern_indices_1d] = 'O'\n",
    "\n",
    "  else:  # fastest, using 2d correlation\n",
    "    import scipy.signal\n",
    "\n",
    "    pattern_uint8 = pattern.astype(np.uint8)\n",
    "    grid_uint8 = (grid == '#').astype(np.uint8)\n",
    "    for rotation in rotations:\n",
    "      pattern_view = rotate(pattern_uint8, rotation)\n",
    "      pattern_indices = pattern_view.nonzero()\n",
    "      corr = scipy.signal.correlate2d(grid_uint8, pattern_view, mode='valid')\n",
    "      locations = zip(*np.nonzero(corr == pattern_view.sum()))\n",
    "      for y, x in locations:\n",
    "        grid[y:, x:][pattern_indices] = 'O'\n",
    "\n",
    "  if visualize:\n",
    "    value_from_ch = {'.': 0.0, '#': -1.0, 'O': 1.0}\n",
    "    lookup = np.zeros(256, np.float32)\n",
    "    for ch, value in value_from_ch.items():\n",
    "      lookup[ord(ch)] = value\n",
    "    grid2 = lookup[grid.view(np.uint32).astype(np.uint8)]\n",
    "    grid2 = grid2.repeat(3, axis=0).repeat(3, axis=1)\n",
    "    media.show_image(grid2, border=True)\n",
    "\n",
    "  return np.count_nonzero(grid == '#')\n",
    "\n",
    "\n",
    "check_eq(day20(s1), 20899048083289)\n",
    "puzzle.verify(1, day20)  # ~12 ms.\n",
    "\n",
    "day20_part2 = functools.partial(day20, part2=True)\n",
    "check_eq(day20_part2(s1), 273)\n",
    "puzzle.verify(2, day20_part2)  # ~31 ms."
   ]
  },
  {
   "cell_type": "code",
   "execution_count": 26,
   "id": "c58ccde5-2bdd-435a-b39d-9b9ac7ed22d6",
   "metadata": {
    "execution": {
     "iopub.execute_input": "2022-12-20T16:53:01.319124Z",
     "iopub.status.busy": "2022-12-20T16:53:01.318871Z",
     "iopub.status.idle": "2022-12-20T16:53:01.401493Z",
     "shell.execute_reply": "2022-12-20T16:53:01.400790Z",
     "shell.execute_reply.started": "2022-12-20T16:53:01.319110Z"
    },
    "tags": []
   },
   "outputs": [
    {
     "data": {
      "text/html": [
       "<table class=\"show_images\" style=\"border-spacing:0px;\"><tr><td style=\"padding:1px;\"><img width=\"30\" height=\"30\" style=\"border:1px solid black; image-rendering:pixelated; object-fit:cover;\" src=\"data:image/png;base64,iVBORw0KGgoAAAANSUhEUgAAAAoAAAAKCAIAAAACUFjqAAAASUlEQVR4nG2PQRIAIAgCwf//mQ40xjCdWqVWgyQAkhLMAOjj1eQygHFG0tkGl9dZGsN8byxPanPqHVGtWu3/6G2eX2pzdsrh8gC2gkffDLCotwAAAABJRU5ErkJggg==\"/></td><td style=\"padding:1px;\"><img width=\"30\" height=\"30\" style=\"border:1px solid black; image-rendering:pixelated; object-fit:cover;\" src=\"data:image/png;base64,iVBORw0KGgoAAAANSUhEUgAAAAoAAAAKCAIAAAACUFjqAAAARklEQVR4nHVOMRLAMAgC/v9nMqShRlsGT4QTiAPbJG2jgFvAD/SpkdxTjSfome8G+OBKnI5Q1cKzh3JNcPVpnlKzP2sRthfsr1DXN67m/AAAAABJRU5ErkJggg==\"/></td><td style=\"padding:1px;\"><img width=\"30\" height=\"30\" style=\"border:1px solid black; image-rendering:pixelated; object-fit:cover;\" src=\"data:image/png;base64,iVBORw0KGgoAAAANSUhEUgAAAAoAAAAKCAIAAAACUFjqAAAARElEQVR4nH1PQQoAMAjS/v9nd3CERJuXLCmNACQBIJn8EpcXyktG8itnky5T9rRdzWtkGVFqPdtf/JIzf90xNEkdQtIB96g1/d0FRoUAAAAASUVORK5CYII=\"/></td><td style=\"padding:1px;\"><img width=\"30\" height=\"30\" style=\"border:1px solid black; image-rendering:pixelated; object-fit:cover;\" src=\"data:image/png;base64,iVBORw0KGgoAAAANSUhEUgAAAAoAAAAKCAIAAAACUFjqAAAAQklEQVR4nHWOQQoAMAjDmrH/f7k7yEScy62tAZFkWxcgIiAJ21m90Ow+hx2h3QHrZ4ezRy/LNUpJn6s6zPXTL/nKAeFhJwIkNEZsAAAAAElFTkSuQmCC\"/></td><td style=\"padding:1px;\"><img width=\"30\" height=\"30\" style=\"border:1px solid black; image-rendering:pixelated; object-fit:cover;\" src=\"data:image/png;base64,iVBORw0KGgoAAAANSUhEUgAAAAoAAAAKCAIAAAACUFjqAAAASUlEQVR4nG2PSxYAIAgCw/vfeVrQI/u0CnFQBYzfkwQo+ttXNgBJhkIvO1Gds6wrOTFm6p3XY8oiRP4et8PTcdCdu4+O9a7tygREcjYFDi3w+wAAAABJRU5ErkJggg==\"/></td><td style=\"padding:1px;\"><img width=\"30\" height=\"30\" style=\"border:1px solid black; image-rendering:pixelated; object-fit:cover;\" src=\"data:image/png;base64,iVBORw0KGgoAAAANSUhEUgAAAAoAAAAKCAIAAAACUFjqAAAAR0lEQVR4nGWPORIAQQgCgf//mQ2opRwlEm0v2MaQf8UqqRYmB0Aka67UKNxapPbZJhmoKOemK97CvEYduG4O93Qv+7D3adsfeU1B6v1BtnUAAAAASUVORK5CYII=\"/></td><td style=\"padding:1px;\"><img width=\"30\" height=\"30\" style=\"border:1px solid black; image-rendering:pixelated; object-fit:cover;\" src=\"data:image/png;base64,iVBORw0KGgoAAAANSUhEUgAAAAoAAAAKCAIAAAACUFjqAAAASklEQVR4nG2PQQoAMQgDJ+L/v2wPLlmpzUFC0FGpIQBo01V2W5LimRoTO7V/T39bJSDdXlUT2ybnXdeNP9yjswIx4RuT3bhf7/wA9CkzEoVIYEwAAAAASUVORK5CYII=\"/></td><td style=\"padding:1px;\"><img width=\"30\" height=\"30\" style=\"border:1px solid black; image-rendering:pixelated; object-fit:cover;\" src=\"data:image/png;base64,iVBORw0KGgoAAAANSUhEUgAAAAoAAAAKCAIAAAACUFjqAAAAR0lEQVR4nGWQQQ4AMAjCyv7/Z3cgY855MBiKJgJUFWBhffucD2St5ABJU2SzS1KnF1/1wGNnZ7jHjucTM/1za+BDX7w/J30DSqBK2lPK1yEAAAAASUVORK5CYII=\"/></td><td style=\"padding:1px;\"><img width=\"30\" height=\"30\" style=\"border:1px solid black; image-rendering:pixelated; object-fit:cover;\" src=\"data:image/png;base64,iVBORw0KGgoAAAANSUhEUgAAAAoAAAAKCAIAAAACUFjqAAAASElEQVR4nG1OQQ4AIAgC1/+/TAc2MouDExQRACQBcGNEZAYASGbV9OJRJbkWyaj9klHDN+jqg/gSWv3t1/15rWNm+8BpvpGhG0vYNhGu3VT2AAAAAElFTkSuQmCC\"/></td><td style=\"padding:1px;\"><img width=\"30\" height=\"30\" style=\"border:1px solid black; image-rendering:pixelated; object-fit:cover;\" src=\"data:image/png;base64,iVBORw0KGgoAAAANSUhEUgAAAAoAAAAKCAIAAAACUFjqAAAASElEQVR4nG2PyREAQQgCbfPPuffhjuUc/IASBDUigFgopUQmb1Uti6fXNGfsjZxNRxFH1OP6f2GvaJo95t4G5C1tYS7M8KLqBzKGMwnwpZPqAAAAAElFTkSuQmCC\"/></td><td style=\"padding:1px;\"><img width=\"30\" height=\"30\" style=\"border:1px solid black; image-rendering:pixelated; object-fit:cover;\" src=\"data:image/png;base64,iVBORw0KGgoAAAANSUhEUgAAAAoAAAAKCAIAAAACUFjqAAAASElEQVR4nG2QQQ4AIQwCnY3//zJ7qKKiHGyB0Ma2NqGJ6uvtJk98tycJGHaV4ladwQRYaqStxgD23TFA0pEOj3vf45Mh7cf5AQNCRO/Sip3gAAAAAElFTkSuQmCC\"/></td><td style=\"padding:1px;\"><img width=\"30\" height=\"30\" style=\"border:1px solid black; image-rendering:pixelated; object-fit:cover;\" src=\"data:image/png;base64,iVBORw0KGgoAAAANSUhEUgAAAAoAAAAKCAIAAAACUFjqAAAASElEQVR4nG2PQQ4AUQRDX93/zmYhv+mILqSUgu4G+sEcAGpyHhYvSZOYZF+d2lG0bd5RqeXiGdVUJTmmf2X70n7mo5037o+NDyGbROQQDpZFAAAAAElFTkSuQmCC\"/></td></tr></table><table class=\"show_images\" style=\"border-spacing:0px;\"><tr><td style=\"padding:1px;\"><img width=\"30\" height=\"30\" style=\"border:1px solid black; image-rendering:pixelated; object-fit:cover;\" src=\"data:image/png;base64,iVBORw0KGgoAAAANSUhEUgAAAAoAAAAKCAIAAAACUFjqAAAAS0lEQVR4nHWOQRKAIAwDd/n/n+OhWlAhh8520gRMoiYBGkrqUIuAOmXRPve1N4YCo+mvJL6W5wezo71t/zi9emeSdLSg56zsZQXgAjYRROu57mcnAAAAAElFTkSuQmCC\"/></td><td style=\"padding:1px;\"><img width=\"30\" height=\"30\" style=\"border:1px solid black; image-rendering:pixelated; object-fit:cover;\" src=\"data:image/png;base64,iVBORw0KGgoAAAANSUhEUgAAAAoAAAAKCAIAAAACUFjqAAAASklEQVR4nH2PQQ7AMAjDMP//s3dgowxNywG5hIBKPFILgMPT2B5kvFUe3LHswQlnqKjrBHXfngJS7c29vE/wE42IXO/5he9kd9UL1shB8rEBQoUAAAAASUVORK5CYII=\"/></td><td style=\"padding:1px;\"><img width=\"30\" height=\"30\" style=\"border:1px solid black; image-rendering:pixelated; object-fit:cover;\" src=\"data:image/png;base64,iVBORw0KGgoAAAANSUhEUgAAAAoAAAAKCAIAAAACUFjqAAAASUlEQVR4nH2PSQoAQQgDK9L//3LmYCMSmvHkkoqKbdvATqYsQFK3JAGjeEQ4na1teqMV6Phf4G9T0HvFHQcaX9RzNndU3DJcSz+tbD739rKt7QAAAABJRU5ErkJggg==\"/></td><td style=\"padding:1px;\"><img width=\"30\" height=\"30\" style=\"border:1px solid black; image-rendering:pixelated; object-fit:cover;\" src=\"data:image/png;base64,iVBORw0KGgoAAAANSUhEUgAAAAoAAAAKCAIAAAACUFjqAAAASElEQVR4nHWOQQ4AIQwCof//Mx66YiUuhyZSO0BJAEhiq51W2Wp37s46AH5SEsk4ur6aPOFfp7gLVUQGv56uZ3U1M2bWb67LLvwTMv9Pc8ghAAAAAElFTkSuQmCC\"/></td><td style=\"padding:1px;\"><img width=\"30\" height=\"30\" style=\"border:1px solid black; image-rendering:pixelated; object-fit:cover;\" src=\"data:image/png;base64,iVBORw0KGgoAAAANSUhEUgAAAAoAAAAKCAIAAAACUFjqAAAASElEQVR4nH2PSQ4AQQgCC///Z/pggr1kxouigCrbgCTAdgoAUKeQMmh4cN+oOO+iqWfN6dydCne/Mexb8al+F9uuS5HXB//4L0SFLQ5IDBuVAAAAAElFTkSuQmCC\"/></td><td style=\"padding:1px;\"><img width=\"30\" height=\"30\" style=\"border:1px solid black; image-rendering:pixelated; object-fit:cover;\" src=\"data:image/png;base64,iVBORw0KGgoAAAANSUhEUgAAAAoAAAAKCAIAAAACUFjqAAAASElEQVR4nG2OMQLAMAgCOf//ZzqkodbECRQQSbJtOyBYUukYIIpaCBi3hUlOF2Wj8PH1TZ3Clg9cqnVDfS32496jrqYfTalzHgZCR+P7lp8OAAAAAElFTkSuQmCC\"/></td><td style=\"padding:1px;\"><img width=\"30\" height=\"30\" style=\"border:1px solid black; image-rendering:pixelated; object-fit:cover;\" src=\"data:image/png;base64,iVBORw0KGgoAAAANSUhEUgAAAAoAAAAKCAIAAAACUFjqAAAASElEQVR4nH2QwQ4AIAhCe63//2U6UFa28uBQBKdFUplhHB1J7PUdNTggusZATc4JLzp5AGP3Zz0mLEpDhNVL3V4n7Yccr3A26GQAMvR9dvqwAAAAAElFTkSuQmCC\"/></td><td style=\"padding:1px;\"><img width=\"30\" height=\"30\" style=\"border:1px solid black; image-rendering:pixelated; object-fit:cover;\" src=\"data:image/png;base64,iVBORw0KGgoAAAANSUhEUgAAAAoAAAAKCAIAAAACUFjqAAAARUlEQVR4nIWOyREAIAgDs/bfMz5QUHQ0r0AOwMw0AayjJCSV1Yr20IBf+h6CQSJ6NmV58QUf5e4oGpC3o8N9vtleKw6gA6aaMxBqwuNsAAAAAElFTkSuQmCC\"/></td><td style=\"padding:1px;\"><img width=\"30\" height=\"30\" style=\"border:1px solid black; image-rendering:pixelated; object-fit:cover;\" src=\"data:image/png;base64,iVBORw0KGgoAAAANSUhEUgAAAAoAAAAKCAIAAAACUFjqAAAAS0lEQVR4nH2OSw4AMQhCeb3/nemCxqiTDCsiP5FkWxIQEgCSxulrOpqwndyWX1vTgJGO1gtOt9dqiG3Ku358fUv4+zxazT3SJ4MKXKslNgaIXQ2YAAAAAElFTkSuQmCC\"/></td><td style=\"padding:1px;\"><img width=\"30\" height=\"30\" style=\"border:1px solid black; image-rendering:pixelated; object-fit:cover;\" src=\"data:image/png;base64,iVBORw0KGgoAAAANSUhEUgAAAAoAAAAKCAIAAAACUFjqAAAARUlEQVR4nG2OUQ4AUQQDTe9/5+6HpE8sHwTTUlVlO3kFXbIDJqeF9w7orNM2E03bP6T43K8t9YJuUQRaV4G0tt/n0zzQBwnvMAoOQjS8AAAAAElFTkSuQmCC\"/></td><td style=\"padding:1px;\"><img width=\"30\" height=\"30\" style=\"border:1px solid black; image-rendering:pixelated; object-fit:cover;\" src=\"data:image/png;base64,iVBORw0KGgoAAAANSUhEUgAAAAoAAAAKCAIAAAACUFjqAAAARElEQVR4nIWOQQoAMQwCx/z/z+5BSEs3tB7CoJgEwHbmAYCa/pKkbo+qMUsNqKZdtuM/2uftDmLePgdq3LliSfvCcDsfZjQqBvtA9qoAAAAASUVORK5CYII=\"/></td><td style=\"padding:1px;\"><img width=\"30\" height=\"30\" style=\"border:1px solid black; image-rendering:pixelated; object-fit:cover;\" src=\"data:image/png;base64,iVBORw0KGgoAAAANSUhEUgAAAAoAAAAKCAIAAAACUFjqAAAAR0lEQVR4nG2OQQ4AMQgCB9P/f5k9bGtIKyfFMCLbACAJyNV2Eepbzyujqd+pN9fOhr/RQT5K2BrJbdZ4kLQ/XsALrrF5l/0AaCo+7LNG9fgAAAAASUVORK5CYII=\"/></td></tr></table><table class=\"show_images\" style=\"border-spacing:0px;\"><tr><td style=\"padding:1px;\"><img width=\"30\" height=\"30\" style=\"border:1px solid black; image-rendering:pixelated; object-fit:cover;\" src=\"data:image/png;base64,iVBORw0KGgoAAAANSUhEUgAAAAoAAAAKCAIAAAACUFjqAAAASklEQVR4nH2QQRLAIAwC2fz/z/RAJ1q1ciJAMkzQF7YB2xkHW5BQAT0vHpGOB+a0bHcoJMrvdlCXapLqUvu1EwS6TjygtL1irv0A1WMzCaPB/ogAAAAASUVORK5CYII=\"/></td><td style=\"padding:1px;\"><img width=\"30\" height=\"30\" style=\"border:1px solid black; image-rendering:pixelated; object-fit:cover;\" src=\"data:image/png;base64,iVBORw0KGgoAAAANSUhEUgAAAAoAAAAKCAIAAAACUFjqAAAAR0lEQVR4nHWNQQ4AIQgDp8b/f5k9kGBtXA9mAp1CVQH9NwwDO3aApDMcezwv0CE9WH4pEoD8aqpOnrjsvwSwYtfSFKxoi/cBO2xN6vRpPgAAAAAASUVORK5CYII=\"/></td><td style=\"padding:1px;\"><img width=\"30\" height=\"30\" style=\"border:1px solid black; image-rendering:pixelated; object-fit:cover;\" src=\"data:image/png;base64,iVBORw0KGgoAAAANSUhEUgAAAAoAAAAKCAIAAAACUFjqAAAARUlEQVR4nHWPMQ4AMQjDcHX//7JvSMXQ0gyAFGFC1Vvql3Z7QFWtcQ9Qgdlu3mmHmaryuj1vH6SVCKHNUpvfc+p+4M4c/VRoKgIydwGjAAAAAElFTkSuQmCC\"/></td><td style=\"padding:1px;\"><img width=\"30\" height=\"30\" style=\"border:1px solid black; image-rendering:pixelated; object-fit:cover;\" src=\"data:image/png;base64,iVBORw0KGgoAAAANSUhEUgAAAAoAAAAKCAIAAAACUFjqAAAATElEQVR4nGWPQRIAIAgCwfH/X6YDDTnmyVraFJIkAQAwe1cBIGmWUJpeV/NIv/txfD1B0qme7HfUiltA3n9rMQuy4cPL/Paeo2Y6mw5nBjkGWZlwqwAAAABJRU5ErkJggg==\"/></td><td style=\"padding:1px;\"><img width=\"30\" height=\"30\" style=\"border:1px solid black; image-rendering:pixelated; object-fit:cover;\" src=\"data:image/png;base64,iVBORw0KGgoAAAANSUhEUgAAAAoAAAAKCAIAAAACUFjqAAAASklEQVR4nGWPSQLAIAgDHf//5+mBlkbJQTAsIawPaiXAuqB2uVvVyOLtbt4Ac796sykB7CmZ1x3Tidq0UzstFb//K4bdg0lX/X0AOuhQ3iASISQAAAAASUVORK5CYII=\"/></td><td style=\"padding:1px;\"><img width=\"30\" height=\"30\" style=\"border:1px solid black; image-rendering:pixelated; object-fit:cover;\" src=\"data:image/png;base64,iVBORw0KGgoAAAANSUhEUgAAAAoAAAAKCAIAAAACUFjqAAAARklEQVR4nH2OQQrAQAwCHf//Z3tYCJJt6yHEGEVJSjLzYC60APQT4OYLSbx4U8CL95KEn3BJbtONT/fx+FWbmu5koNsleQD3CyoHqMDz5gAAAABJRU5ErkJggg==\"/></td><td style=\"padding:1px;\"><img width=\"30\" height=\"30\" style=\"border:1px solid black; image-rendering:pixelated; object-fit:cover;\" src=\"data:image/png;base64,iVBORw0KGgoAAAANSUhEUgAAAAoAAAAKCAIAAAACUFjqAAAAR0lEQVR4nG2PSRIAMQgC6fz/z8zBlOMSTkhRrSLJtiQgfQigzlundSH9TQY8dcOxr8JaN0thIqFGG/CAt4PGo+0u+DdtjO0PQ1o78vb8rYoAAAAASUVORK5CYII=\"/></td><td style=\"padding:1px;\"><img width=\"30\" height=\"30\" style=\"border:1px solid black; image-rendering:pixelated; object-fit:cover;\" src=\"data:image/png;base64,iVBORw0KGgoAAAANSUhEUgAAAAoAAAAKCAIAAAACUFjqAAAARElEQVR4nG2QSQoAMAgDHen/v5weCsEScxAhi8GqH5LmPG9LSAKYpkQnZw/Q5takXjOt6+cD1hOsvaw+2cgGoCT5CblcFy0+8g8MZYkAAAAASUVORK5CYII=\"/></td><td style=\"padding:1px;\"><img width=\"30\" height=\"30\" style=\"border:1px solid black; image-rendering:pixelated; object-fit:cover;\" src=\"data:image/png;base64,iVBORw0KGgoAAAANSUhEUgAAAAoAAAAKCAIAAAACUFjqAAAATElEQVR4nG2PQQ4AIQwCwf//efZAllRTDkQFWhEgKRzwQ5Ir2J6m4ESYT73aPmsoDkBdU64b2KNABrjG9XdntpotwtZd+l30aA3k8AFRzEfrsh6e2wAAAABJRU5ErkJggg==\"/></td><td style=\"padding:1px;\"><img width=\"30\" height=\"30\" style=\"border:1px solid black; image-rendering:pixelated; object-fit:cover;\" src=\"data:image/png;base64,iVBORw0KGgoAAAANSUhEUgAAAAoAAAAKCAIAAAACUFjqAAAAS0lEQVR4nG2QQQ4AMQgCgf//mT2QUNKuJ4Q4GgHANqZsx7HNjUlGk4yjDjVbjC5rMwbywsvXNkuKVo/8XaFtenD1YV6LD6/8PqT1AYsmROp69Y5aAAAAAElFTkSuQmCC\"/></td><td style=\"padding:1px;\"><img width=\"30\" height=\"30\" style=\"border:1px solid black; image-rendering:pixelated; object-fit:cover;\" src=\"data:image/png;base64,iVBORw0KGgoAAAANSUhEUgAAAAoAAAAKCAIAAAACUFjqAAAASUlEQVR4nH2PQQ7AMAjDHP7/Z+9QibJuKgdEFBwEgKoCa+4OZAogyUtO8a1K0tzh5Yi60b8BNek1z3N1QdVqT10b++mm2zseeQAGCyoTeCOqswAAAABJRU5ErkJggg==\"/></td><td style=\"padding:1px;\"><img width=\"30\" height=\"30\" style=\"border:1px solid black; image-rendering:pixelated; object-fit:cover;\" src=\"data:image/png;base64,iVBORw0KGgoAAAANSUhEUgAAAAoAAAAKCAIAAAACUFjqAAAAQElEQVR4nIWOQQ4AQAQDp/7/Z3uQbGxJ1gkdLWUmAEiavYC7NQiILkz0YXuV5BdGxKrdINW8fvfPjvLZne16mh3EujYFEajoAAAAAABJRU5ErkJggg==\"/></td></tr></table><table class=\"show_images\" style=\"border-spacing:0px;\"><tr><td style=\"padding:1px;\"><img width=\"30\" height=\"30\" style=\"border:1px solid black; image-rendering:pixelated; object-fit:cover;\" src=\"data:image/png;base64,iVBORw0KGgoAAAANSUhEUgAAAAoAAAAKCAIAAAACUFjqAAAAQklEQVR4nH2QQQ7AMAjDbLT/fzm7tWxq4YBAJkoESZIAq/fBBY5VAwNqYGqpN5ak+v5jgLP3c1QvzSdaf4B6i7XvXvVcMvbgSYX4AAAAAElFTkSuQmCC\"/></td><td style=\"padding:1px;\"><img width=\"30\" height=\"30\" style=\"border:1px solid black; image-rendering:pixelated; object-fit:cover;\" src=\"data:image/png;base64,iVBORw0KGgoAAAANSUhEUgAAAAoAAAAKCAIAAAACUFjqAAAASElEQVR4nHWPQQ7AQAgCGf//Z3qwa1zSelCMgogk25KAwdMy/WfUoHcd9vgSjABqU0PJdgV1GwQqDKe1GNjeh36pcH7uErnBAzJrMwCc6mQjAAAAAElFTkSuQmCC\"/></td><td style=\"padding:1px;\"><img width=\"30\" height=\"30\" style=\"border:1px solid black; image-rendering:pixelated; object-fit:cover;\" src=\"data:image/png;base64,iVBORw0KGgoAAAANSUhEUgAAAAoAAAAKCAIAAAACUFjqAAAARUlEQVR4nI2QSQoAMAgDk9L/f9kepCFahOakEzcEAAAR4UFcbRlJSTpZ7qlCkD751ZqMPzsnl31kpmx3JiqXe9+o9g3BA2fTOPDds7/3AAAAAElFTkSuQmCC\"/></td><td style=\"padding:1px;\"><img width=\"30\" height=\"30\" style=\"border:1px solid black; image-rendering:pixelated; object-fit:cover;\" src=\"data:image/png;base64,iVBORw0KGgoAAAANSUhEUgAAAAoAAAAKCAIAAAACUFjqAAAAQUlEQVR4nHWQQQ4AMAQETf//5/YgZG10DsLGqopbRJF5RlRKgC6Pqkur1QqwuEfHz+pv94COrOsMt33aV9EjKKk8lIsv+FfRsmgAAAAASUVORK5CYII=\"/></td><td style=\"padding:1px;\"><img width=\"30\" height=\"30\" style=\"border:1px solid black; image-rendering:pixelated; object-fit:cover;\" src=\"data:image/png;base64,iVBORw0KGgoAAAANSUhEUgAAAAoAAAAKCAIAAAACUFjqAAAASElEQVR4nGWOwREAIQwCs/bfM/fQ4RB9ZEgiZEeSpLmfJ2QzM8C/g1XWahfgvyUkHbczK7xvN0GSb5ETXmtmHLSsl0gQ0zngAxp1Pv5QCECdAAAAAElFTkSuQmCC\"/></td><td style=\"padding:1px;\"><img width=\"30\" height=\"30\" style=\"border:1px solid black; image-rendering:pixelated; object-fit:cover;\" src=\"data:image/png;base64,iVBORw0KGgoAAAANSUhEUgAAAAoAAAAKCAIAAAACUFjqAAAAR0lEQVR4nH2PwQ4AIAhCpf//59dBRzZbHhyCOAwAiIjsBtllVjrYzPLQNUkFUpjWkp/s4/gs4Cc7wYnW/yx3vXinS6u6e25s41k+7PsrUUYAAAAASUVORK5CYII=\"/></td><td style=\"padding:1px;\"><img width=\"30\" height=\"30\" style=\"border:1px solid black; image-rendering:pixelated; object-fit:cover;\" src=\"data:image/png;base64,iVBORw0KGgoAAAANSUhEUgAAAAoAAAAKCAIAAAACUFjqAAAARklEQVR4nH2OSwqAQAxD84r3v3JczBBrZcyikC9FkiTbgG01ALW8XKAnKkF9YPvqU9l4xMETXXqNdma3OPicORmvz4/4b9+jzSQCnqt7LwAAAABJRU5ErkJggg==\"/></td><td style=\"padding:1px;\"><img width=\"30\" height=\"30\" style=\"border:1px solid black; image-rendering:pixelated; object-fit:cover;\" src=\"data:image/png;base64,iVBORw0KGgoAAAANSUhEUgAAAAoAAAAKCAIAAAACUFjqAAAARUlEQVR4nHWPwQ4AIAhCw///59ehTYkWJ8UBomUA1o1qFpDUhzPrp0u1Y2yANnfmrDUxUtgA5QYRpFeRr3mZ98GKupG9AbUkOPL89x73AAAAAElFTkSuQmCC\"/></td><td style=\"padding:1px;\"><img width=\"30\" height=\"30\" style=\"border:1px solid black; image-rendering:pixelated; object-fit:cover;\" src=\"data:image/png;base64,iVBORw0KGgoAAAANSUhEUgAAAAoAAAAKCAIAAAACUFjqAAAASElEQVR4nG2OSRLAQAgCaf7/Z3MgZXQmnFAWRZKkqgoBwkPcQvuAJp/3t8N3bvnmMHOBD00bzuqufQPnPMoBa+N43rMZ6FvxPXAXPAv+EZybAAAAAElFTkSuQmCC\"/></td><td style=\"padding:1px;\"><img width=\"30\" height=\"30\" style=\"border:1px solid black; image-rendering:pixelated; object-fit:cover;\" src=\"data:image/png;base64,iVBORw0KGgoAAAANSUhEUgAAAAoAAAAKCAIAAAACUFjqAAAASElEQVR4nG1PQQ4AIAiC1v+/TAeWkcWhASFTYkMSAJImBiU1yyGTkX/lnrI2V6HLl2RdrsnMZu9xjWb87UDq9/2slhjtHpIpF0UrTeADBxBbAAAAAElFTkSuQmCC\"/></td><td style=\"padding:1px;\"><img width=\"30\" height=\"30\" style=\"border:1px solid black; image-rendering:pixelated; object-fit:cover;\" src=\"data:image/png;base64,iVBORw0KGgoAAAANSUhEUgAAAAoAAAAKCAIAAAACUFjqAAAAS0lEQVR4nHWPQQ4AMQgCh6b//zI92JiW7nowoAFUtgFAElC0MDD4qS2z3QaNu4/2edWS1NKKDHrE3GDfGIuQfrhVak3mG3yCfDR+WxIdSuaXvkRZAAAAAElFTkSuQmCC\"/></td><td style=\"padding:1px;\"><img width=\"30\" height=\"30\" style=\"border:1px solid black; image-rendering:pixelated; object-fit:cover;\" src=\"data:image/png;base64,iVBORw0KGgoAAAANSUhEUgAAAAoAAAAKCAIAAAACUFjqAAAASElEQVR4nGWOQRIAMAQDN/7/5/RgqkoOJiKIuLANSCoOqNiGpEj7UOte2M6+q58v+6r9nXJ7JCjl5dwmIPpsx6T/25Vx0BfJD9zjUN5dH34oAAAAAElFTkSuQmCC\"/></td></tr></table><table class=\"show_images\" style=\"border-spacing:0px;\"><tr><td style=\"padding:1px;\"><img width=\"30\" height=\"30\" style=\"border:1px solid black; image-rendering:pixelated; object-fit:cover;\" src=\"data:image/png;base64,iVBORw0KGgoAAAANSUhEUgAAAAoAAAAKCAIAAAACUFjqAAAAR0lEQVR4nHWPQQrAQAwCnf3/n+0hkLWW5hAYUGMkybZiFm2TDKSUZbi6FFHJOYyprqb7/FW7zuHdr3ZVtR45GzInu2nyN/8BgQVK4AvBzsgAAAAASUVORK5CYII=\"/></td><td style=\"padding:1px;\"><img width=\"30\" height=\"30\" style=\"border:1px solid black; image-rendering:pixelated; object-fit:cover;\" src=\"data:image/png;base64,iVBORw0KGgoAAAANSUhEUgAAAAoAAAAKCAIAAAACUFjqAAAARklEQVR4nH1PSRIAIAjCpv9/mQ6U2mIc3FBUYIGkBwIA8+oNM2sVIZk3TVIdTU721th2HymAXnFTNb/kF0XT57EQz3P5zAEt4yoNx5LExQAAAABJRU5ErkJggg==\"/></td><td style=\"padding:1px;\"><img width=\"30\" height=\"30\" style=\"border:1px solid black; image-rendering:pixelated; object-fit:cover;\" src=\"data:image/png;base64,iVBORw0KGgoAAAANSUhEUgAAAAoAAAAKCAIAAAACUFjqAAAARklEQVR4nHWOQQ7AQAgCGf//Z3ugpTZ1uUg0jEiPujvGkkS28Pqo/un9DADzxgqcv8qJ5MJwrDxm7Q/j1MuMOnW+lys2/gIDOTjzXZ5qMQAAAABJRU5ErkJggg==\"/></td><td style=\"padding:1px;\"><img width=\"30\" height=\"30\" style=\"border:1px solid black; image-rendering:pixelated; object-fit:cover;\" src=\"data:image/png;base64,iVBORw0KGgoAAAANSUhEUgAAAAoAAAAKCAIAAAACUFjqAAAASUlEQVR4nH2OQQoAMQgDx9L/fzl7SElFynoQY5xgAZKAqurzGbIa5YsVz3T6oSVFDBpYz3B7f7Rr0uGuPb7tcj8zb4bPOyQpyw+8GDkC5MaMcAAAAABJRU5ErkJggg==\"/></td><td style=\"padding:1px;\"><img width=\"30\" height=\"30\" style=\"border:1px solid black; image-rendering:pixelated; object-fit:cover;\" src=\"data:image/png;base64,iVBORw0KGgoAAAANSUhEUgAAAAoAAAAKCAIAAAACUFjqAAAAQ0lEQVR4nIWQSw4AIQhDX7n/netiDNE6UVbQXxoAbNtmnw9Rb4C0nUnHSKpftPN1sQJ1mtZqFVyIbuG2H80n158J6QDijC/3sNVJqwAAAABJRU5ErkJggg==\"/></td><td style=\"padding:1px;\"><img width=\"30\" height=\"30\" style=\"border:1px solid black; image-rendering:pixelated; object-fit:cover;\" src=\"data:image/png;base64,iVBORw0KGgoAAAANSUhEUgAAAAoAAAAKCAIAAAACUFjqAAAASklEQVR4nHWPwQ0AMQjDYnT7r5w+UBGHKE8ntAZJkmzrDpAEiB5UtWD0IPd67wPGA1WyHZ3mfz+P4TVmUesGsRolAUKPo/ftChIeuJgwD47wPEsAAAAASUVORK5CYII=\"/></td><td style=\"padding:1px;\"><img width=\"30\" height=\"30\" style=\"border:1px solid black; image-rendering:pixelated; object-fit:cover;\" src=\"data:image/png;base64,iVBORw0KGgoAAAANSUhEUgAAAAoAAAAKCAIAAAACUFjqAAAAS0lEQVR4nF2PQRLAMAgCs0z//2V6MHUoHDJZIxqwfULAXKaurc6D7TQo28tK8Q5fVEL67jnsT/lN28/5KzsAAWXKeCqehLtRNa1SvDo3PwdLtaenAAAAAElFTkSuQmCC\"/></td><td style=\"padding:1px;\"><img width=\"30\" height=\"30\" style=\"border:1px solid black; image-rendering:pixelated; object-fit:cover;\" src=\"data:image/png;base64,iVBORw0KGgoAAAANSUhEUgAAAAoAAAAKCAIAAAACUFjqAAAASUlEQVR4nHWPwREAMQgCgf57Ng9PYszFFyM7iAQAICJQQ/JYRo2JrbuRotOceOXnRi/va+DA3xIaaaOdbqOf0zD8dEIySNJJhhboalPX7jSVJQAAAABJRU5ErkJggg==\"/></td><td style=\"padding:1px;\"><img width=\"30\" height=\"30\" style=\"border:1px solid black; image-rendering:pixelated; object-fit:cover;\" src=\"data:image/png;base64,iVBORw0KGgoAAAANSUhEUgAAAAoAAAAKCAIAAAACUFjqAAAARUlEQVR4nHWNSxIAIAhCwfvfmRZOSjptGnryAQBJ+ZaobzhyAYAkB/Jbpwu56HR6d0H4ZIduTbh9DEl6zsPHPTkIf81JDoPqQfciRSFhAAAAAElFTkSuQmCC\"/></td><td style=\"padding:1px;\"><img width=\"30\" height=\"30\" style=\"border:1px solid black; image-rendering:pixelated; object-fit:cover;\" src=\"data:image/png;base64,iVBORw0KGgoAAAANSUhEUgAAAAoAAAAKCAIAAAACUFjqAAAARklEQVR4nHWNQRLAMAgCwf//eXuwoU6SckKR1ZIASbbjewScLEHkrTGD18zsZNzbUU3U+aL+ek0tAGjAhvnafZG7LHUflh6QszAFyoYM4QAAAABJRU5ErkJggg==\"/></td><td style=\"padding:1px;\"><img width=\"30\" height=\"30\" style=\"border:1px solid black; image-rendering:pixelated; object-fit:cover;\" src=\"data:image/png;base64,iVBORw0KGgoAAAANSUhEUgAAAAoAAAAKCAIAAAACUFjqAAAARElEQVR4nHWPwQ4AIAhCxf//59fB5orMg1MRGAIkRUQNQBzl+4VJWdRfpb1333BZtv3A7qs9ATPJvVvfvJ+gR3QP9gosblwkIN/u5bcAAAAASUVORK5CYII=\"/></td><td style=\"padding:1px;\"><img width=\"30\" height=\"30\" style=\"border:1px solid black; image-rendering:pixelated; object-fit:cover;\" src=\"data:image/png;base64,iVBORw0KGgoAAAANSUhEUgAAAAoAAAAKCAIAAAACUFjqAAAAR0lEQVR4nIWOSQ7AAAgCB///5+nBxG6m5UQIjkRNAgAqd2VPkw6LlwYGVLcmajO8/WvDkzyvp91JrdPO3x/wn+UqahfHXGEHGkY4+Fr/KXAAAAAASUVORK5CYII=\"/></td></tr></table><table class=\"show_images\" style=\"border-spacing:0px;\"><tr><td style=\"padding:1px;\"><img width=\"30\" height=\"30\" style=\"border:1px solid black; image-rendering:pixelated; object-fit:cover;\" src=\"data:image/png;base64,iVBORw0KGgoAAAANSUhEUgAAAAoAAAAKCAIAAAACUFjqAAAASUlEQVR4nI2QUQrAMAxCfbn/nbsPg0gHY36k1kQbqlOQ5BqCGZCGYWViAqzGDUzGr/DNeEuN+ehJmr7k4V/hwIa3r5ff4/qN8AcK2kTkEZ9GTgAAAABJRU5ErkJggg==\"/></td><td style=\"padding:1px;\"><img width=\"30\" height=\"30\" style=\"border:1px solid black; image-rendering:pixelated; object-fit:cover;\" src=\"data:image/png;base64,iVBORw0KGgoAAAANSUhEUgAAAAoAAAAKCAIAAAACUFjqAAAATElEQVR4nGWQQQ6AQAgDO8T/f7ke0Iosp0KGpiDbkmy36Iqu2QQNx2zOKknAww7Rmu32EraB6zSfk5pLwMpfK3O4n1vuXm/43GaobN6kh0fpMh3vrQAAAABJRU5ErkJggg==\"/></td><td style=\"padding:1px;\"><img width=\"30\" height=\"30\" style=\"border:1px solid black; image-rendering:pixelated; object-fit:cover;\" src=\"data:image/png;base64,iVBORw0KGgoAAAANSUhEUgAAAAoAAAAKCAIAAAACUFjqAAAASUlEQVR4nG2OQQ7AMAjDMOr/v5wdVkWBjQNCSWu5JFXV2j6O03ckAQ5ZdQ7Qfu4oDwz8ZXRK5e9bD9RkAJ2e1zYA5ys1AMt81Q8Tjz7/ovHZVAAAAABJRU5ErkJggg==\"/></td><td style=\"padding:1px;\"><img width=\"30\" height=\"30\" style=\"border:1px solid black; image-rendering:pixelated; object-fit:cover;\" src=\"data:image/png;base64,iVBORw0KGgoAAAANSUhEUgAAAAoAAAAKCAIAAAACUFjqAAAARElEQVR4nG2OQQ4AIAzC1v3/z3gwQXRyWhglIKlCQFVtE+i65TQgqSfqA1dlZ6Z5rEftwv970gl8aE+56Mw50dOCM3kBzP4nHu58oBYAAAAASUVORK5CYII=\"/></td><td style=\"padding:1px;\"><img width=\"30\" height=\"30\" style=\"border:1px solid black; image-rendering:pixelated; object-fit:cover;\" src=\"data:image/png;base64,iVBORw0KGgoAAAANSUhEUgAAAAoAAAAKCAIAAAACUFjqAAAASklEQVR4nG2PQQ4AMQgCh/7/z+zBDbW1HgxBQZFtQFIAUBhYjMpM0rqoa2/FcJ74edvFdlBdT9tIH68dV+bDXb1TJnGkW92zdo8PAMk7+QD65pcAAAAASUVORK5CYII=\"/></td><td style=\"padding:1px;\"><img width=\"30\" height=\"30\" style=\"border:1px solid black; image-rendering:pixelated; object-fit:cover;\" src=\"data:image/png;base64,iVBORw0KGgoAAAANSUhEUgAAAAoAAAAKCAIAAAACUFjqAAAARElEQVR4nF2PQQ4AMQgCF///Z3ogSwBPdJxUxddFUgFAIZIOtpF6NkSwektXY37V5OZtSeTmN3uCl9umKm9X25pzrSo86NBE7NCIh0IAAAAASUVORK5CYII=\"/></td><td style=\"padding:1px;\"><img width=\"30\" height=\"30\" style=\"border:1px solid black; image-rendering:pixelated; object-fit:cover;\" src=\"data:image/png;base64,iVBORw0KGgoAAAANSUhEUgAAAAoAAAAKCAIAAAACUFjqAAAAS0lEQVR4nHWPSw4AMQhCeWbuf2W6sDGOpi4MiB+UJNuSOihMlYDRISk6GRoQOQTYTqw9UbkiKT8j0Pcz+I7ovUMDvtdL12xd3b8BB/18PvcCiBrEAAAAAElFTkSuQmCC\"/></td><td style=\"padding:1px;\"><img width=\"30\" height=\"30\" style=\"border:1px solid black; image-rendering:pixelated; object-fit:cover;\" src=\"data:image/png;base64,iVBORw0KGgoAAAANSUhEUgAAAAoAAAAKCAIAAAACUFjqAAAARklEQVR4nG2PyQ0AMAjDHNT9V6YPEEVReTkcAQRkJiDJAHjUejUBMdnS010QO1v8CRsaPqbN6e02/9494nuEP2YR+2OrSbp0PTkG1g1JvQAAAABJRU5ErkJggg==\"/></td><td style=\"padding:1px;\"><img width=\"30\" height=\"30\" style=\"border:1px solid black; image-rendering:pixelated; object-fit:cover;\" src=\"data:image/png;base64,iVBORw0KGgoAAAANSUhEUgAAAAoAAAAKCAIAAAACUFjqAAAARklEQVR4nG2QSQ4AIAgDLf//83gw1opyarpBGMDYYwwsrJTbSCqjVwNO2o5kyoL3XR2225T9nWq761O4M5Iqb07hSuRDkp8fmDj+cjrLmAAAAABJRU5ErkJggg==\"/></td><td style=\"padding:1px;\"><img width=\"30\" height=\"30\" style=\"border:1px solid black; image-rendering:pixelated; object-fit:cover;\" src=\"data:image/png;base64,iVBORw0KGgoAAAANSUhEUgAAAAoAAAAKCAIAAAACUFjqAAAASElEQVR4nGWOQRIAMAQDN/7/5/TQVhUHI5YAYNs2N2qtrSU1cPA3K7WJqKIxSVFFY918nghG5KdAHJOS84l3e2+k59vO1mTAAvENMAq3RI2TAAAAAElFTkSuQmCC\"/></td><td style=\"padding:1px;\"><img width=\"30\" height=\"30\" style=\"border:1px solid black; image-rendering:pixelated; object-fit:cover;\" src=\"data:image/png;base64,iVBORw0KGgoAAAANSUhEUgAAAAoAAAAKCAIAAAACUFjqAAAASUlEQVR4nG2PQQ4AMQgCGf//Z/bQFI1bD0YRFLEtCbB9sm4ASJrQilqzI0hdC9rsCeV2BDW54aXocRTQlt/L29rs/x+285nD/gCmYTARiKnSGQAAAABJRU5ErkJggg==\"/></td><td style=\"padding:1px;\"><img width=\"30\" height=\"30\" style=\"border:1px solid black; image-rendering:pixelated; object-fit:cover;\" src=\"data:image/png;base64,iVBORw0KGgoAAAANSUhEUgAAAAoAAAAKCAIAAAACUFjqAAAASUlEQVR4nHWOwRHAQAgCWfvvmXs48RiT8ELUVUmyLalNS4/I9lu1amAMXfQ2MOaGf+SeLriYxddA8uFMPu4lphYmybbJ8dke2AH08EH0TbcctQAAAABJRU5ErkJggg==\"/></td></tr></table><table class=\"show_images\" style=\"border-spacing:0px;\"><tr><td style=\"padding:1px;\"><img width=\"30\" height=\"30\" style=\"border:1px solid black; image-rendering:pixelated; object-fit:cover;\" src=\"data:image/png;base64,iVBORw0KGgoAAAANSUhEUgAAAAoAAAAKCAIAAAACUFjqAAAAPUlEQVR4nIVOQQoAMAjS/v9nd4i5WEEegtQ04EKSpLoCYKU6YmRJznIKjgwbXVmZ2Lt7wPza53v2vOhzcR/VNS/wjC7doAAAAABJRU5ErkJggg==\"/></td><td style=\"padding:1px;\"><img width=\"30\" height=\"30\" style=\"border:1px solid black; image-rendering:pixelated; object-fit:cover;\" src=\"data:image/png;base64,iVBORw0KGgoAAAANSUhEUgAAAAoAAAAKCAIAAAACUFjqAAAAQ0lEQVR4nH2OQRIAIAgCl/7/ZzvQlKMVJwYREBARgCRzSVaAwzJsXedsr74dfs14/hmj953XLb0Gjq7WcI//+ypcNwEP0iEKqd+R0wAAAABJRU5ErkJggg==\"/></td><td style=\"padding:1px;\"><img width=\"30\" height=\"30\" style=\"border:1px solid black; image-rendering:pixelated; object-fit:cover;\" src=\"data:image/png;base64,iVBORw0KGgoAAAANSUhEUgAAAAoAAAAKCAIAAAACUFjqAAAASUlEQVR4nGWPwQ3AMAwCj6j7r0wfVmhDeJ2wETaAbSDgLWD9BwOSwk9Fo1la2b1le92hOJK+9EB1qdKlo3tYUsyjO3/3hTWI8wJ5kUfrs7ct5QAAAABJRU5ErkJggg==\"/></td><td style=\"padding:1px;\"><img width=\"30\" height=\"30\" style=\"border:1px solid black; image-rendering:pixelated; object-fit:cover;\" src=\"data:image/png;base64,iVBORw0KGgoAAAANSUhEUgAAAAoAAAAKCAIAAAACUFjqAAAATUlEQVR4nG2QQQ4AMQgCGbP//zJ7sLGs2Z5QzEAq25JsL9GPXp0B0pNUOdsG0ia9Bnx4v/ARdTkRPEd03mp0qy34Es86z+ZAzWoi8mdeb4tB+XBhe2gAAAAASUVORK5CYII=\"/></td><td style=\"padding:1px;\"><img width=\"30\" height=\"30\" style=\"border:1px solid black; image-rendering:pixelated; object-fit:cover;\" src=\"data:image/png;base64,iVBORw0KGgoAAAANSUhEUgAAAAoAAAAKCAIAAAACUFjqAAAASUlEQVR4nG2OSw7AQAhCeab3v7JdTAaJLQviD1DdLcl8CqPOFMjF3PVF7swlCbA6WdLjZvlPdgLIFDLva1BLZ/XYLEV+x++FU14+Uk3fCzJvBwAAAABJRU5ErkJggg==\"/></td><td style=\"padding:1px;\"><img width=\"30\" height=\"30\" style=\"border:1px solid black; image-rendering:pixelated; object-fit:cover;\" src=\"data:image/png;base64,iVBORw0KGgoAAAANSUhEUgAAAAoAAAAKCAIAAAACUFjqAAAAR0lEQVR4nH2NwQKAMAhCH/3/P7ODi9yqeUBEBWwDwSruUh8A6VEkXWH9oj8Qw04KNZv2lGn+3sXc9sn5Nzu6lsPP7E0qLDIAUDJc0QMcIScAAAAASUVORK5CYII=\"/></td><td style=\"padding:1px;\"><img width=\"30\" height=\"30\" style=\"border:1px solid black; image-rendering:pixelated; object-fit:cover;\" src=\"data:image/png;base64,iVBORw0KGgoAAAANSUhEUgAAAAoAAAAKCAIAAAACUFjqAAAATElEQVR4nHWPwQ4AIAhCea3//2U6mOZacVGUISLJtiRJQFAghlkgFF1qeyjx0x1iu5rtcQsT+3zfVV8251Kl7ZhP8wr4fSyGA3jaBhby0Ufq8B7AIAAAAABJRU5ErkJggg==\"/></td><td style=\"padding:1px;\"><img width=\"30\" height=\"30\" style=\"border:1px solid black; image-rendering:pixelated; object-fit:cover;\" src=\"data:image/png;base64,iVBORw0KGgoAAAANSUhEUgAAAAoAAAAKCAIAAAACUFjqAAAAR0lEQVR4nJWOQRKAMAgDd/n/n/GARcbqoTlBEkLIBQCooZlgoXa1rbesTseEH9Rwx5+Qme6x87cau/YOP6s2q0SddoA+hYAL6iU8AZdYiJIAAAAASUVORK5CYII=\"/></td><td style=\"padding:1px;\"><img width=\"30\" height=\"30\" style=\"border:1px solid black; image-rendering:pixelated; object-fit:cover;\" src=\"data:image/png;base64,iVBORw0KGgoAAAANSUhEUgAAAAoAAAAKCAIAAAACUFjqAAAATUlEQVR4nGWPQQ6AQAgDO8T/f7ke0IpsDyRAWgbZti2pa9QtaxoBkjh9UzV3wGN665UmEPN8neHwAfHjZJNWMteuL9Z6dOYDFdppiuEGgEg8A2AEPdIAAAAASUVORK5CYII=\"/></td><td style=\"padding:1px;\"><img width=\"30\" height=\"30\" style=\"border:1px solid black; image-rendering:pixelated; object-fit:cover;\" src=\"data:image/png;base64,iVBORw0KGgoAAAANSUhEUgAAAAoAAAAKCAIAAAACUFjqAAAATElEQVR4nG2OwQ0AMQjD7O6/c+7RE43U8gElBAwAJEmyh1EA/6bt7fKpdq3x9urJKbDam43zsVluuvfvYTKJ+qRTV6eb7hxvnI4m+QB5U0Hxe2s0QQAAAABJRU5ErkJggg==\"/></td><td style=\"padding:1px;\"><img width=\"30\" height=\"30\" style=\"border:1px solid black; image-rendering:pixelated; object-fit:cover;\" src=\"data:image/png;base64,iVBORw0KGgoAAAANSUhEUgAAAAoAAAAKCAIAAAACUFjqAAAASUlEQVR4nG2OQQ7AIAzDmvz/z96hWpQxOFQktQUDzAyQS0enykkELElSrzv6wA/OhyFpoW189dIYWHBnq4D+Xj/3UqV+oOuH4zxppUH49aI/IwAAAABJRU5ErkJggg==\"/></td><td style=\"padding:1px;\"><img width=\"30\" height=\"30\" style=\"border:1px solid black; image-rendering:pixelated; object-fit:cover;\" src=\"data:image/png;base64,iVBORw0KGgoAAAANSUhEUgAAAAoAAAAKCAIAAAACUFjqAAAARUlEQVR4nI2PSQ4AIAwCwf//GQ9VgnGJnLoNbYEpSZIyAMDKcRLJVj2SLqUfb+igazyhX3o5zQYJNK/Jfzz9emy0d0+rA+20L/iRf4pWAAAAAElFTkSuQmCC\"/></td></tr></table><table class=\"show_images\" style=\"border-spacing:0px;\"><tr><td style=\"padding:1px;\"><img width=\"30\" height=\"30\" style=\"border:1px solid black; image-rendering:pixelated; object-fit:cover;\" src=\"data:image/png;base64,iVBORw0KGgoAAAANSUhEUgAAAAoAAAAKCAIAAAACUFjqAAAAQElEQVR4nH2QQRIAMAQDrf//WQ/aToYhJ7UaGdhTRGQB/CYKkulcxUWuD7W9WK36+s0c8AnkN5bYNVrPgQ0HSR3sVycMKDUr3QAAAABJRU5ErkJggg==\"/></td><td style=\"padding:1px;\"><img width=\"30\" height=\"30\" style=\"border:1px solid black; image-rendering:pixelated; object-fit:cover;\" src=\"data:image/png;base64,iVBORw0KGgoAAAANSUhEUgAAAAoAAAAKCAIAAAACUFjqAAAATElEQVR4nHWPQQ4AIQwCaf//5/FAUlF3OWhFUqAkAZKqaoZN+hqkCGj9wKLj22t9Gp0UcHm138Pa8l1zuG51FvM84T+KXfU6AxsZZQGo3jwJX97VkgAAAABJRU5ErkJggg==\"/></td><td style=\"padding:1px;\"><img width=\"30\" height=\"30\" style=\"border:1px solid black; image-rendering:pixelated; object-fit:cover;\" src=\"data:image/png;base64,iVBORw0KGgoAAAANSUhEUgAAAAoAAAAKCAIAAAACUFjqAAAAP0lEQVR4nI2OQQoAMAjD2v3/z9lBkOI8rKdIDSpFgDEasD0KSbYl+ZVye/FmagNo2LssipfbmbM+3PxnD6n5Aqs8Nemo2pLqAAAAAElFTkSuQmCC\"/></td><td style=\"padding:1px;\"><img width=\"30\" height=\"30\" style=\"border:1px solid black; image-rendering:pixelated; object-fit:cover;\" src=\"data:image/png;base64,iVBORw0KGgoAAAANSUhEUgAAAAoAAAAKCAIAAAACUFjqAAAASUlEQVR4nGWPwREAMQgCWfvv2Xsw46HxFVQWQ3dLAvxwWQJMyzqXJJUHs6Fd5dZE5Ayo1Oav+Be43AlM63/aa5qUCz9/q0M7130SGjAXUdnuIAAAAABJRU5ErkJggg==\"/></td><td style=\"padding:1px;\"><img width=\"30\" height=\"30\" style=\"border:1px solid black; image-rendering:pixelated; object-fit:cover;\" src=\"data:image/png;base64,iVBORw0KGgoAAAANSUhEUgAAAAoAAAAKCAIAAAACUFjqAAAASElEQVR4nG2QWw4AMAQEZ93/zvoh3arwIV5rBACQmd2XAeFqN0lV19r2UIy8dCbGkI70MrRTtIKNmCLpEzx2319xPxO/wgFwAPxHQemPRv43AAAAAElFTkSuQmCC\"/></td><td style=\"padding:1px;\"><img width=\"30\" height=\"30\" style=\"border:1px solid black; image-rendering:pixelated; object-fit:cover;\" src=\"data:image/png;base64,iVBORw0KGgoAAAANSUhEUgAAAAoAAAAKCAIAAAACUFjqAAAARklEQVR4nG2PQRIAMAQDrf//OT3oqMIhI5gkTJKZBc6G5LMAX6dACPQ1PL179Zmx2UmqGZMut59+fWaWS4oEiTXQC9VcAw9PMkTn2q0jkQAAAABJRU5ErkJggg==\"/></td><td style=\"padding:1px;\"><img width=\"30\" height=\"30\" style=\"border:1px solid black; image-rendering:pixelated; object-fit:cover;\" src=\"data:image/png;base64,iVBORw0KGgoAAAANSUhEUgAAAAoAAAAKCAIAAAACUFjqAAAAR0lEQVR4nG2OsQ0AMAjDYv7/OR2QKC1kQzhgbGsEsA3E3EmqTgCJrwcu27/YzpFv8fQkVrXKVQMWg0+105IiLaZ/FqK7FFc5AbYzA+BP9tcAAAAASUVORK5CYII=\"/></td><td style=\"padding:1px;\"><img width=\"30\" height=\"30\" style=\"border:1px solid black; image-rendering:pixelated; object-fit:cover;\" src=\"data:image/png;base64,iVBORw0KGgoAAAANSUhEUgAAAAoAAAAKCAIAAAACUFjqAAAASUlEQVR4nH2QQQ7AQAgCwfT/X54eTFw3pPUkCGgUoCig+WdwiiT5ZyapjtC23c1hvty2gcrBvqbGOpnX7mQ3U7n4ymswf9gK4AVlPy/8ZZHb5gAAAABJRU5ErkJggg==\"/></td><td style=\"padding:1px;\"><img width=\"30\" height=\"30\" style=\"border:1px solid black; image-rendering:pixelated; object-fit:cover;\" src=\"data:image/png;base64,iVBORw0KGgoAAAANSUhEUgAAAAoAAAAKCAIAAAACUFjqAAAAQklEQVR4nGVOQQ4AQQxR//+zPXRjRB2aVhEAIAmBPOe+/8eMJBZVIqZ19xYt62m0+4IVsMnO562Tarpz6d5Z1ZL8AJ7wPur5bC4AAAAAAElFTkSuQmCC\"/></td><td style=\"padding:1px;\"><img width=\"30\" height=\"30\" style=\"border:1px solid black; image-rendering:pixelated; object-fit:cover;\" src=\"data:image/png;base64,iVBORw0KGgoAAAANSUhEUgAAAAoAAAAKCAIAAAACUFjqAAAARUlEQVR4nH2OQQoAQQjDEtn/f9k9OIgMOJ5abKoAmQlM0fqbXp0JwAu6JgD1td5oNTausKiPtv5XORDFzUQ3ndvlZ38zPyYZJBGhqyDXAAAAAElFTkSuQmCC\"/></td><td style=\"padding:1px;\"><img width=\"30\" height=\"30\" style=\"border:1px solid black; image-rendering:pixelated; object-fit:cover;\" src=\"data:image/png;base64,iVBORw0KGgoAAAANSUhEUgAAAAoAAAAKCAIAAAACUFjqAAAAR0lEQVR4nGWPQQ7AAAjCCv//MzuYEec4EYsRAZIANUk6cUGZJF65QWDAnpilvTqhD/4nLt4JSe7J3aA1fboc+axe/H9szPgHY+U2AeixOzMAAAAASUVORK5CYII=\"/></td><td style=\"padding:1px;\"><img width=\"30\" height=\"30\" style=\"border:1px solid black; image-rendering:pixelated; object-fit:cover;\" src=\"data:image/png;base64,iVBORw0KGgoAAAANSUhEUgAAAAoAAAAKCAIAAAACUFjqAAAAQ0lEQVR4nH1OQQ4AIAhC//9nOtAcRYuDY6gAAJD0KSLULBJV1SlpijTJkTKiXdKF4zb3lN1prLy2yK/529ybHq8ZsQBZn0HpaUOB/AAAAABJRU5ErkJggg==\"/></td></tr></table><table class=\"show_images\" style=\"border-spacing:0px;\"><tr><td style=\"padding:1px;\"><img width=\"30\" height=\"30\" style=\"border:1px solid black; image-rendering:pixelated; object-fit:cover;\" src=\"data:image/png;base64,iVBORw0KGgoAAAANSUhEUgAAAAoAAAAKCAIAAAACUFjqAAAARUlEQVR4nGWOQRLAMAgC3fz/z9tDG0sMB0ZERqpOqGpLUnwrUF9edaEDwLSBZpU8v7FGbswr64z3ZGJ8+S038uIolF7yA/GjO+5QQASCAAAAAElFTkSuQmCC\"/></td><td style=\"padding:1px;\"><img width=\"30\" height=\"30\" style=\"border:1px solid black; image-rendering:pixelated; object-fit:cover;\" src=\"data:image/png;base64,iVBORw0KGgoAAAANSUhEUgAAAAoAAAAKCAIAAAACUFjqAAAARElEQVR4nI2O0QoAIAgDp/T/v7weFsMsIp92oOcAAADJGoyxQXQMwzna7kJl4SApRzNr8nptRzZe/36qLfmjedpWg/MEUds1/j00ofUAAAAASUVORK5CYII=\"/></td><td style=\"padding:1px;\"><img width=\"30\" height=\"30\" style=\"border:1px solid black; image-rendering:pixelated; object-fit:cover;\" src=\"data:image/png;base64,iVBORw0KGgoAAAANSUhEUgAAAAoAAAAKCAIAAAACUFjqAAAARUlEQVR4nIWOSwoAMQhDX7z/nTMLSyhamCxE80MA20CWnEA9tUzd3oakOB7y7audC2xXKOk0NXPmeHWgdueUf9JdsDskfVa7LQRXLr9IAAAAAElFTkSuQmCC\"/></td><td style=\"padding:1px;\"><img width=\"30\" height=\"30\" style=\"border:1px solid black; image-rendering:pixelated; object-fit:cover;\" src=\"data:image/png;base64,iVBORw0KGgoAAAANSUhEUgAAAAoAAAAKCAIAAAACUFjqAAAARklEQVR4nG2OQQ4AMQgCwez/v0wPJpS1ejBkCAoAAJBk0brFZyPnBzMxdq0J60pKcryoRKMH7b0FSUqq4eWxJd3kVltLmRy7s0Hqp7VeBwAAAABJRU5ErkJggg==\"/></td><td style=\"padding:1px;\"><img width=\"30\" height=\"30\" style=\"border:1px solid black; image-rendering:pixelated; object-fit:cover;\" src=\"data:image/png;base64,iVBORw0KGgoAAAANSUhEUgAAAAoAAAAKCAIAAAACUFjqAAAARklEQVR4nG2OQRIAIAgC2f7/ZzuYZJN7cmAAJUlSFCryxlcHSHH9Rg8QESndwooee87Bs91DZlnyCuC54XN7x3Z0KNeE+zdPwTj+/6VA5gAAAABJRU5ErkJggg==\"/></td><td style=\"padding:1px;\"><img width=\"30\" height=\"30\" style=\"border:1px solid black; image-rendering:pixelated; object-fit:cover;\" src=\"data:image/png;base64,iVBORw0KGgoAAAANSUhEUgAAAAoAAAAKCAIAAAACUFjqAAAASElEQVR4nH2PSQoAQQgDKzL//3L60EMQhfbkkoqKbcAtgNsBShIrwlSKPgtTG5UUhbrb1k26n2Jbm7vm/+7Ik3Rg0uPP74ECB3XJNf0LcqwWAAAAAElFTkSuQmCC\"/></td><td style=\"padding:1px;\"><img width=\"30\" height=\"30\" style=\"border:1px solid black; image-rendering:pixelated; object-fit:cover;\" src=\"data:image/png;base64,iVBORw0KGgoAAAANSUhEUgAAAAoAAAAKCAIAAAACUFjqAAAAQ0lEQVR4nHWQSQ4AMAgCgf//2R5ojVHLwbhkIBEAIgJPtQdAzyTbwdIK9fNPImnzL70GG9AanGaaqwp02xp0gfmWrAfwlioA9YvTIQAAAABJRU5ErkJggg==\"/></td><td style=\"padding:1px;\"><img width=\"30\" height=\"30\" style=\"border:1px solid black; image-rendering:pixelated; object-fit:cover;\" src=\"data:image/png;base64,iVBORw0KGgoAAAANSUhEUgAAAAoAAAAKCAIAAAACUFjqAAAASElEQVR4nIWPwQ3AMAgDuey/s/ugukREVflgZLBNVVWSJCewVjdgEG+dd25MGZeG14em3oCDeIO+NloTSi69gTv/Fr+f/k/+APR7Vs+/zmrwAAAAAElFTkSuQmCC\"/></td><td style=\"padding:1px;\"><img width=\"30\" height=\"30\" style=\"border:1px solid black; image-rendering:pixelated; object-fit:cover;\" src=\"data:image/png;base64,iVBORw0KGgoAAAANSUhEUgAAAAoAAAAKCAIAAAACUFjqAAAASUlEQVR4nH2OQQ4AIQwCmcb/f5k9UI3RrHPsQAOSJNnWBLANSKrDLXKsxG8Run0kVq7uxk79ifzj0QbGLdLr5f0E9nVxtsd72geoPi0Iv2PREQAAAABJRU5ErkJggg==\"/></td><td style=\"padding:1px;\"><img width=\"30\" height=\"30\" style=\"border:1px solid black; image-rendering:pixelated; object-fit:cover;\" src=\"data:image/png;base64,iVBORw0KGgoAAAANSUhEUgAAAAoAAAAKCAIAAAACUFjqAAAARklEQVR4nHWPQRIAIAgCgf//2Q6WGRUHZ9RhUcQSgKxdjAiSz92UuTtPZUqMMbw3CUBmZz2spPoFNT3cxu+tivyL2I/djAESEUHpa8U/7wAAAABJRU5ErkJggg==\"/></td><td style=\"padding:1px;\"><img width=\"30\" height=\"30\" style=\"border:1px solid black; image-rendering:pixelated; object-fit:cover;\" src=\"data:image/png;base64,iVBORw0KGgoAAAANSUhEUgAAAAoAAAAKCAIAAAACUFjqAAAARklEQVR4nG2QQQ4AIAjDOv7/Zz0Q5zTsRDobA6wTAOjBpABJLr7hKTqSTMrIdb4e7BRqpHY0qk7lr203uTw3yRvcbrwMsAEEO0ffoD42pAAAAABJRU5ErkJggg==\"/></td><td style=\"padding:1px;\"><img width=\"30\" height=\"30\" style=\"border:1px solid black; image-rendering:pixelated; object-fit:cover;\" src=\"data:image/png;base64,iVBORw0KGgoAAAANSUhEUgAAAAoAAAAKCAIAAAACUFjqAAAARElEQVR4nH2PwQoAMAhCtf//57fDwI0W6xCaYWZAkiTbDfsejVUfzXYFNeGQ139PgAp6+2C+tdAheb4CPN7uAYEs3WABAlw+8rrtjoEAAAAASUVORK5CYII=\"/></td></tr></table><table class=\"show_images\" style=\"border-spacing:0px;\"><tr><td style=\"padding:1px;\"><img width=\"30\" height=\"30\" style=\"border:1px solid black; image-rendering:pixelated; object-fit:cover;\" src=\"data:image/png;base64,iVBORw0KGgoAAAANSUhEUgAAAAoAAAAKCAIAAAACUFjqAAAAR0lEQVR4nH2QwQ4AIAhCof//ZzrQzNR1YRT2aEISAGsYSTbMGfkcAawe2B+NwZGxPnCSzE2+Grp7RY1NPszw47v7iUKLhVg3QUQ+8niZ20wAAAAASUVORK5CYII=\"/></td><td style=\"padding:1px;\"><img width=\"30\" height=\"30\" style=\"border:1px solid black; image-rendering:pixelated; object-fit:cover;\" src=\"data:image/png;base64,iVBORw0KGgoAAAANSUhEUgAAAAoAAAAKCAIAAAACUFjqAAAAS0lEQVR4nHWQSw4AIQxCoZn7XxkXjMT6YVWBvDZSEqZI5umZa2wXgE3+Fe6lqK5uSBXUmUkqL7tmDe4eyXZKJk01zOtmwz4cv7FSB9VpNgjk4L0JAAAAAElFTkSuQmCC\"/></td><td style=\"padding:1px;\"><img width=\"30\" height=\"30\" style=\"border:1px solid black; image-rendering:pixelated; object-fit:cover;\" src=\"data:image/png;base64,iVBORw0KGgoAAAANSUhEUgAAAAoAAAAKCAIAAAACUFjqAAAAS0lEQVR4nGWOQQ7AQAgCmf3/n+nBlLWUgzEqjEiyrVdAettHS4DtuZ7Ktsad4dlpBZL0Cc8FcG1xhJoPml3/d3gWY+v1gBOJftq4BxmyOPFOKUCaAAAAAElFTkSuQmCC\"/></td><td style=\"padding:1px;\"><img width=\"30\" height=\"30\" style=\"border:1px solid black; image-rendering:pixelated; object-fit:cover;\" src=\"data:image/png;base64,iVBORw0KGgoAAAANSUhEUgAAAAoAAAAKCAIAAAACUFjqAAAASElEQVR4nG1QSRIAIAhC//9nOlBojh4cJhZTAADAV8LuKToi1PVqT1g4OBly5exOI2yVnjpibyrJNVm6Eg6i3IPou3z/7AcRON/7R+xGCIyNAAAAAElFTkSuQmCC\"/></td><td style=\"padding:1px;\"><img width=\"30\" height=\"30\" style=\"border:1px solid black; image-rendering:pixelated; object-fit:cover;\" src=\"data:image/png;base64,iVBORw0KGgoAAAANSUhEUgAAAAoAAAAKCAIAAAACUFjqAAAASklEQVR4nG2QSQ4AIAwCgf//GQ81BBdOWEdKJADbAEiOGZEEoIwC9VEoTUATDNhEvPqutw6nRH3b8Xp9TdRtX2k3rH1HWNz7J7YXNvs2DvbDyVYAAAAASUVORK5CYII=\"/></td><td style=\"padding:1px;\"><img width=\"30\" height=\"30\" style=\"border:1px solid black; image-rendering:pixelated; object-fit:cover;\" src=\"data:image/png;base64,iVBORw0KGgoAAAANSUhEUgAAAAoAAAAKCAIAAAACUFjqAAAASklEQVR4nG2OUQ7AMAhCec3uf2X2YUqdKx8GFIiSJMm2bTWUZGwHFgCUCAlIzxXPtO+Ckyk2ZpEVR+Xg8+wpz7Y71v+dnia11/MLZpw19EGwvKUAAAAASUVORK5CYII=\"/></td><td style=\"padding:1px;\"><img width=\"30\" height=\"30\" style=\"border:1px solid black; image-rendering:pixelated; object-fit:cover;\" src=\"data:image/png;base64,iVBORw0KGgoAAAANSUhEUgAAAAoAAAAKCAIAAAACUFjqAAAASklEQVR4nGWOQQ4AMQgCB9P/f3n3YIqkekIcaAG+O60Bi9OLJFsmgDLbbnNzNpsF1mcnEqps9jhdOy1pXmwqrST01D41Uy5p//EHrNE/A6hun4wAAAAASUVORK5CYII=\"/></td><td style=\"padding:1px;\"><img width=\"30\" height=\"30\" style=\"border:1px solid black; image-rendering:pixelated; object-fit:cover;\" src=\"data:image/png;base64,iVBORw0KGgoAAAANSUhEUgAAAAoAAAAKCAIAAAACUFjqAAAARklEQVR4nHWOwRHAMAjDMPvvrD5MSK9QXiHCAsUpwA9J3eoNZuXKLIiIXEGZe+rPn8Bkjkn6yv3rALDIe2OdNuWdvmweATxxqjXx5MevIgAAAABJRU5ErkJggg==\"/></td><td style=\"padding:1px;\"><img width=\"30\" height=\"30\" style=\"border:1px solid black; image-rendering:pixelated; object-fit:cover;\" src=\"data:image/png;base64,iVBORw0KGgoAAAANSUhEUgAAAAoAAAAKCAIAAAACUFjqAAAASUlEQVR4nHWPQQ7AQAgCmU3//2V6IDGuth6IoqLItqRgohjbVAPoQ4nTC6DwktpJ8NlUT87461KWSDvs72uxsTUYx4YRPpfq3AtlJUHoprZFSwAAAABJRU5ErkJggg==\"/></td><td style=\"padding:1px;\"><img width=\"30\" height=\"30\" style=\"border:1px solid black; image-rendering:pixelated; object-fit:cover;\" src=\"data:image/png;base64,iVBORw0KGgoAAAANSUhEUgAAAAoAAAAKCAIAAAACUFjqAAAASklEQVR4nHWPSQ4AIQgEq8z8/8t4IEF0lAOhU80GAERE5iwq7BhQu+PrbOtTwCsrh13/reM46mjwtTutY9uU57jeWbhm9CfvrOQE+UQ19AJVUowAAAAASUVORK5CYII=\"/></td><td style=\"padding:1px;\"><img width=\"30\" height=\"30\" style=\"border:1px solid black; image-rendering:pixelated; object-fit:cover;\" src=\"data:image/png;base64,iVBORw0KGgoAAAANSUhEUgAAAAoAAAAKCAIAAAACUFjqAAAARklEQVR4nG2QSxIAIAhCxfvf+bWwGjJZ4QdkDCAigCKNZ9WS7syX0ru+V5ArGiSlKwbyS5v/Y87BTt6iuhRQtcZ0z5XxMwsqqFPWsW1p+gAAAABJRU5ErkJggg==\"/></td><td style=\"padding:1px;\"><img width=\"30\" height=\"30\" style=\"border:1px solid black; image-rendering:pixelated; object-fit:cover;\" src=\"data:image/png;base64,iVBORw0KGgoAAAANSUhEUgAAAAoAAAAKCAIAAAACUFjqAAAASElEQVR4nGVOSRIAIAgCp/9/mQ62EHlwFAQBAEmSsMtn9k7S0cWRFQqSblOP1ebOUH5+bLozrP7fK7aLvEacR5RL/9InS9CNTDUHQe2M7CX4AAAAAElFTkSuQmCC\"/></td></tr></table><table class=\"show_images\" style=\"border-spacing:0px;\"><tr><td style=\"padding:1px;\"><img width=\"30\" height=\"30\" style=\"border:1px solid black; image-rendering:pixelated; object-fit:cover;\" src=\"data:image/png;base64,iVBORw0KGgoAAAANSUhEUgAAAAoAAAAKCAIAAAACUFjqAAAAR0lEQVR4nHWOQRKAQAjDUv7/53hQGQZXbjS0NACg8k6SXktVkzRjTLX7BjMGSLOV/+hfxyH8F+9no1qSWuq8Vmupy33u1eIFP5AwAVEEj7AAAAAASUVORK5CYII=\"/></td><td style=\"padding:1px;\"><img width=\"30\" height=\"30\" style=\"border:1px solid black; image-rendering:pixelated; object-fit:cover;\" src=\"data:image/png;base64,iVBORw0KGgoAAAANSUhEUgAAAAoAAAAKCAIAAAACUFjqAAAASklEQVR4nHWQSQ7AMAwCwcr/v0wPRNS1VU4js0QKJAGQZLDCB00jQZKh7kW1ex87hpc6k6y/h287pd5O6B03jFD5lGtCewzjiyQ9pPM7+pa0Bj8AAAAASUVORK5CYII=\"/></td><td style=\"padding:1px;\"><img width=\"30\" height=\"30\" style=\"border:1px solid black; image-rendering:pixelated; object-fit:cover;\" src=\"data:image/png;base64,iVBORw0KGgoAAAANSUhEUgAAAAoAAAAKCAIAAAACUFjqAAAAQklEQVR4nH2PQQoAMAjDmrH/f7k7CMKczoMoNgElybaGoj0DMayJC2a3UPrWS0QHbGM7plZzyRPKNMVc07+noUJlPYxZLPkMgxn8AAAAAElFTkSuQmCC\"/></td><td style=\"padding:1px;\"><img width=\"30\" height=\"30\" style=\"border:1px solid black; image-rendering:pixelated; object-fit:cover;\" src=\"data:image/png;base64,iVBORw0KGgoAAAANSUhEUgAAAAoAAAAKCAIAAAACUFjqAAAASElEQVR4nG2PSw7AQAhCH97/znRha6gzLIwhDz/YBvyJpbFOzrYWJMl2V6BeSptrtM59OUCXczI93dRUpduTLuj655fOy5MGHro2UON8J7NNAAAAAElFTkSuQmCC\"/></td><td style=\"padding:1px;\"><img width=\"30\" height=\"30\" style=\"border:1px solid black; image-rendering:pixelated; object-fit:cover;\" src=\"data:image/png;base64,iVBORw0KGgoAAAANSUhEUgAAAAoAAAAKCAIAAAACUFjqAAAAR0lEQVR4nI2OQQ6AQAwCof//8+yhSupqzHIi0ALSEwDQRFKFxYgiqcI+UW/JdjI8o46+d7vTkjlbruW2u2IeAf5frjmNGxEXEss46BH2HgcAAAAASUVORK5CYII=\"/></td><td style=\"padding:1px;\"><img width=\"30\" height=\"30\" style=\"border:1px solid black; image-rendering:pixelated; object-fit:cover;\" src=\"data:image/png;base64,iVBORw0KGgoAAAANSUhEUgAAAAoAAAAKCAIAAAACUFjqAAAASklEQVR4nH1Pyw4AIAgC//+f7aAhq5YHpzgeMjMBACCpWSsBOHpUOLuq5gaLXfstPuyH8dbom/o4fqKRDA/ih07ubKFCQhHmGRNb/UQ5Ce7UleQAAAAASUVORK5CYII=\"/></td><td style=\"padding:1px;\"><img width=\"30\" height=\"30\" style=\"border:1px solid black; image-rendering:pixelated; object-fit:cover;\" src=\"data:image/png;base64,iVBORw0KGgoAAAANSUhEUgAAAAoAAAAKCAIAAAACUFjqAAAAS0lEQVR4nH1OuRHAMAwC9t+ZFNgKdu5CowckADZs28YJZTXEjGnUXIMkAKX0qv/pe9dpNJ9Jdr+itTZEdFG8Zleu5f3DcaJ25rZ/AA5QPvnUZm1SAAAAAElFTkSuQmCC\"/></td><td style=\"padding:1px;\"><img width=\"30\" height=\"30\" style=\"border:1px solid black; image-rendering:pixelated; object-fit:cover;\" src=\"data:image/png;base64,iVBORw0KGgoAAAANSUhEUgAAAAoAAAAKCAIAAAACUFjqAAAARklEQVR4nIWPQQoAIQwDp/7/z/GQRaNF1kMdKBlSAEmAwbxm5fp6VTX8rZkgaaT5gi/dBQf3Rlvw6rWj6UgN8HeYd72aYxN7t0flMxuuBAAAAABJRU5ErkJggg==\"/></td><td style=\"padding:1px;\"><img width=\"30\" height=\"30\" style=\"border:1px solid black; image-rendering:pixelated; object-fit:cover;\" src=\"data:image/png;base64,iVBORw0KGgoAAAANSUhEUgAAAAoAAAAKCAIAAAACUFjqAAAARklEQVR4nIWOQRLAMAgCWf//Z3Jg6rSJk3pSQABJtvUMYBsIzpvbBqgIN7T3Op/il5SBbhFQl+zBPMGf5n0M5U8ipf7NJS3/ticRWHztEgAAAABJRU5ErkJggg==\"/></td><td style=\"padding:1px;\"><img width=\"30\" height=\"30\" style=\"border:1px solid black; image-rendering:pixelated; object-fit:cover;\" src=\"data:image/png;base64,iVBORw0KGgoAAAANSUhEUgAAAAoAAAAKCAIAAAACUFjqAAAASElEQVR4nG1PQQ7AMAgC0/9/mR5sqGXzYAwgIgBI6t5lBEB5ItnDVNC0FRNZk/tKH8MokhWcE5xosRE29Wt76XDL85Lmx5F/A08zNfcoW+gCAAAAAElFTkSuQmCC\"/></td><td style=\"padding:1px;\"><img width=\"30\" height=\"30\" style=\"border:1px solid black; image-rendering:pixelated; object-fit:cover;\" src=\"data:image/png;base64,iVBORw0KGgoAAAANSUhEUgAAAAoAAAAKCAIAAAACUFjqAAAAS0lEQVR4nH2OSRKAMAgEu/P/P48HLKKYkhPMxggkUZMAaiEAsBoaxKaTPNHe1dXH8N3uyuzwMR5Nm+7kb7XX71Gq1OuYWbok66+XXgmjMAkPTX4AAAAAAElFTkSuQmCC\"/></td><td style=\"padding:1px;\"><img width=\"30\" height=\"30\" style=\"border:1px solid black; image-rendering:pixelated; object-fit:cover;\" src=\"data:image/png;base64,iVBORw0KGgoAAAANSUhEUgAAAAoAAAAKCAIAAAACUFjqAAAARElEQVR4nI2OQQrAQAwCNf//8/QglCC7pZ6M0UQBkoCQgo+qJNuSZg8FwHvYUcAJvYuov37HPdXl8Puj/KTC7caUvcgD2aAnC6CO6LcAAAAASUVORK5CYII=\"/></td></tr></table><table class=\"show_images\" style=\"border-spacing:0px;\"><tr><td style=\"padding:1px;\"><img width=\"30\" height=\"30\" style=\"border:1px solid black; image-rendering:pixelated; object-fit:cover;\" src=\"data:image/png;base64,iVBORw0KGgoAAAANSUhEUgAAAAoAAAAKCAIAAAACUFjqAAAAR0lEQVR4nG2OSRKAQAgDbf7/53jAaZEyp1Q2IMl1ADRRLCWhB9TqrRwzvgDw6zlWnyw0SdK13W7P1VrefP79XG+OPVzJk5IbrB85APZrfDAAAAAASUVORK5CYII=\"/></td><td style=\"padding:1px;\"><img width=\"30\" height=\"30\" style=\"border:1px solid black; image-rendering:pixelated; object-fit:cover;\" src=\"data:image/png;base64,iVBORw0KGgoAAAANSUhEUgAAAAoAAAAKCAIAAAACUFjqAAAATUlEQVR4nG2PQRIAIQjDAv//M3uIg6zagxZRGqOqACAi2lsC6WZPr7z6e3Ere45G7fYsnDlTYqJ15AZ8HA3MXIQXs2vKcvzqrU4REPgAwAI2D23rQ/wAAAAASUVORK5CYII=\"/></td><td style=\"padding:1px;\"><img width=\"30\" height=\"30\" style=\"border:1px solid black; image-rendering:pixelated; object-fit:cover;\" src=\"data:image/png;base64,iVBORw0KGgoAAAANSUhEUgAAAAoAAAAKCAIAAAACUFjqAAAARUlEQVR4nJWQwQoAMAhCX7H//2V3CFzUaR4KFSUCkNRnAQBOLfNCRJSS5pasADFyIx27uadzG4ak/Ct/xj6te08f/f1LFxdeQe6d/apQAAAAAElFTkSuQmCC\"/></td><td style=\"padding:1px;\"><img width=\"30\" height=\"30\" style=\"border:1px solid black; image-rendering:pixelated; object-fit:cover;\" src=\"data:image/png;base64,iVBORw0KGgoAAAANSUhEUgAAAAoAAAAKCAIAAAACUFjqAAAARklEQVR4nG2OQRLAMAgCl/z/z/SQ1CoNJxlZBtnmlaSykoDhe3Rr7RQQNef4E4PupqD7OyRpvGP2R0dt5c7y62xg2e4+ah7Toh4bM0H3MgAAAABJRU5ErkJggg==\"/></td><td style=\"padding:1px;\"><img width=\"30\" height=\"30\" style=\"border:1px solid black; image-rendering:pixelated; object-fit:cover;\" src=\"data:image/png;base64,iVBORw0KGgoAAAANSUhEUgAAAAoAAAAKCAIAAAACUFjqAAAARklEQVR4nGWOwQ0AQQgCB/vvmXtsgp76UuIA2LYNAGsHlDsjtVhTvX+1iInaVmKuf9Nrftk3tW2m82zwPEpS6FuilhrunR/GBDj+OzNtgQAAAABJRU5ErkJggg==\"/></td><td style=\"padding:1px;\"><img width=\"30\" height=\"30\" style=\"border:1px solid black; image-rendering:pixelated; object-fit:cover;\" src=\"data:image/png;base64,iVBORw0KGgoAAAANSUhEUgAAAAoAAAAKCAIAAAACUFjqAAAAR0lEQVR4nHWPSRKAQAgDu/3/n+MBZ1SK4RTIUkEASKImYY0K/E5t1OvEVeRAV2wBS3UKeN1Pl2Xt9FB7a8d8269z+y/ea4Ebx5wkCPRqSMAAAAAASUVORK5CYII=\"/></td><td style=\"padding:1px;\"><img width=\"30\" height=\"30\" style=\"border:1px solid black; image-rendering:pixelated; object-fit:cover;\" src=\"data:image/png;base64,iVBORw0KGgoAAAANSUhEUgAAAAoAAAAKCAIAAAACUFjqAAAARklEQVR4nHWOQQ4AMQgCB///Z/bQBEnT9YQ6gtgGgBbR6kVK0hkOrzo7SRO8xbbNXuI3O0578eT2NduJzPX0q+20aHs2B3zrIzj7ooNlAQAAAABJRU5ErkJggg==\"/></td><td style=\"padding:1px;\"><img width=\"30\" height=\"30\" style=\"border:1px solid black; image-rendering:pixelated; object-fit:cover;\" src=\"data:image/png;base64,iVBORw0KGgoAAAANSUhEUgAAAAoAAAAKCAIAAAACUFjqAAAASElEQVR4nH2PQRIAIAgCwf//2Q40aNbEyYl1KwLITJwhuYe76wmz3rCAOpKAfJjCU+/so1cHpCrsV8YjSu5C0Eb/HyvP4HT3Aj/fMAnjQgvmAAAAAElFTkSuQmCC\"/></td><td style=\"padding:1px;\"><img width=\"30\" height=\"30\" style=\"border:1px solid black; image-rendering:pixelated; object-fit:cover;\" src=\"data:image/png;base64,iVBORw0KGgoAAAANSUhEUgAAAAoAAAAKCAIAAAACUFjqAAAASElEQVR4nH2OSQ4AQQgCKf//Z/rgaOwlw4mKQJQkSbZtq9Q+JsxQmkgAgKMqiQm3oku3gJhwnG3/jQPbePs0X/v9MzXsUicaF1wxPvA4ChSXAAAAAElFTkSuQmCC\"/></td><td style=\"padding:1px;\"><img width=\"30\" height=\"30\" style=\"border:1px solid black; image-rendering:pixelated; object-fit:cover;\" src=\"data:image/png;base64,iVBORw0KGgoAAAANSUhEUgAAAAoAAAAKCAIAAAACUFjqAAAASElEQVR4nH2PQQ4AMQgCB///Z3rYhpqaLgcPgIIAtvsMAEUIJIWp7ZIYUNjrQOTq2ueWztrJ7pFBhZoFgXr1sr0z/o7PX1MQWKVEOQNCjcHfAAAAAElFTkSuQmCC\"/></td><td style=\"padding:1px;\"><img width=\"30\" height=\"30\" style=\"border:1px solid black; image-rendering:pixelated; object-fit:cover;\" src=\"data:image/png;base64,iVBORw0KGgoAAAANSUhEUgAAAAoAAAAKCAIAAAACUFjqAAAAQ0lEQVR4nHWOQQ4AIAjDqPH/X8bDooGpO5AtA9LIrYjQrAbLpmEdUGt+d9K0rOvMlEHu94PGiceWH+R3V+GxTtuHZgELYDL00NS8iAAAAABJRU5ErkJggg==\"/></td><td style=\"padding:1px;\"><img width=\"30\" height=\"30\" style=\"border:1px solid black; image-rendering:pixelated; object-fit:cover;\" src=\"data:image/png;base64,iVBORw0KGgoAAAANSUhEUgAAAAoAAAAKCAIAAAACUFjqAAAASElEQVR4nG2OQRIAIAgCWf//ZztY1JgeHBEUlJmSqrsMeTHQdNE42Ac1hMHowr+6HMS4vd42/mNLiiK65VEP16XeYd/A/uFhAVAlO/cth4OwAAAAAElFTkSuQmCC\"/></td></tr></table>"
      ],
      "text/plain": [
       "<IPython.core.display.HTML object>"
      ]
     },
     "metadata": {},
     "output_type": "display_data"
    },
    {
     "data": {
      "text/html": [
       "<table class=\"show_images\" style=\"border-spacing:0px;\"><tr><td style=\"padding:1px;\"><img width=\"288\" height=\"288\" style=\"border:1px solid black; image-rendering:pixelated; object-fit:cover;\" src=\"data:image/png;base64,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\"/></td></tr></table>"
      ],
      "text/plain": [
       "<IPython.core.display.HTML object>"
      ]
     },
     "metadata": {},
     "output_type": "display_data"
    }
   ],
   "source": [
    "_ = day20_part2(puzzle.input, visualize=True)"
   ]
  },
  {
   "cell_type": "code",
   "execution_count": 28,
   "id": "79494f37",
   "metadata": {
    "execution": {
     "iopub.execute_input": "2022-12-20T16:53:55.209196Z",
     "iopub.status.busy": "2022-12-20T16:53:55.208827Z",
     "iopub.status.idle": "2022-12-20T16:53:55.211964Z",
     "shell.execute_reply": "2022-12-20T16:53:55.211349Z",
     "shell.execute_reply.started": "2022-12-20T16:53:55.209178Z"
    },
    "tags": []
   },
   "outputs": [],
   "source": [
    "# hh.prun(lambda: [day20_part2(puzzle.input) for _ in range(10)])"
   ]
  },
  {
   "cell_type": "markdown",
   "id": "4fbe4777",
   "metadata": {},
   "source": [
    "<a name=\"day21\"></a>\n",
    "## Day 21: Allergens in ingredients"
   ]
  },
  {
   "cell_type": "markdown",
   "id": "780f77c7",
   "metadata": {},
   "source": [
    "Given a set of foods, each containing a list of ingredients and a set of allergens contained in the ingredients, determine the ingredient corresponding to each allergen.  Each allergen is contained in at most one ingredient.  Some foods may fail to list all allergens.\n",
    "\n",
    "- Part 1: For each food, count the number of ingredients which cannot possibly contain allergens, and report the sum.\n",
    "\n",
    "- Part 2: Report the comma-separated list of ingredients which contain allergens, sorted in ascending order by the allergen name."
   ]
  },
  {
   "cell_type": "code",
   "execution_count": 77,
   "id": "3469813c",
   "metadata": {
    "execution": {
     "iopub.execute_input": "2022-12-20T18:42:03.979656Z",
     "iopub.status.busy": "2022-12-20T18:42:03.979286Z",
     "iopub.status.idle": "2022-12-20T18:42:03.998154Z",
     "shell.execute_reply": "2022-12-20T18:42:03.997636Z",
     "shell.execute_reply.started": "2022-12-20T18:42:03.979638Z"
    },
    "tags": []
   },
   "outputs": [
    {
     "data": {
      "text/markdown": [
       "For [day 21](https://adventofcode.com/2020/day/21), `puzzle.input` has 42 lines:"
      ],
      "text/plain": [
       "<IPython.core.display.Markdown object>"
      ]
     },
     "metadata": {},
     "output_type": "display_data"
    },
    {
     "name": "stdout",
     "output_type": "stream",
     "text": [
      "xfvxzl nfcrh kscdhn khnqq jkvcbf jhlvrg chc fk zbh hgrptqb zrvtg tdhv jhqpdf jvj ... mxbbst (contains shellfish, sesame)\n",
      "vxzpfp shlg zrvtg ghq vzn ppqs mqlnbjq cltpv pvxpgp psbnqz nqcmm sqjcsxjq xftxgf ... cbhfpzp khnqq dhqbf (contains fish)\n",
      "fzhmtds zbclt pbln qtgv bnl xqcb vxzpfp jkvcbf nnst tplrt xknj hzmvzrr xfvxzl gk ...  (contains sesame, fish, shellfish)\n",
      "ghq vfqh vtdbl bkmgx bxlc sbhdb xfvxzl lvdcdg nsktq hrjrm dbr prrfm dbqbv jbcjk  ... gpgql dpkkzdgs cjds (contains nuts)\n",
      "xknj bbbzcmh tzrp xkqgc ktfvb tplrt dqz ntq jbcjk pcnmbt nqcmm tlgchbh bxfvt nfs ... hlvrg fhznhmx (contains dairy, soy)\n",
      "strd dpdgc cjdnjf flmssjn xfpc mmdfrfcp gpp tqjg znkr mxbbst bbbzcmh jbvrzn cdsl ... mx xknh schkf (contains soy, wheat)\n",
      "gkgzn bndz dpkkzdgs nv nhjbd mqlnbjq khnqq ljpzx cfbgb xknj ddmg mkpmkx tgcvz nn ... trd tdhv fk tdsvx (contains sesame)\n",
      "gnfjcpc ddmg tpbtpd cltpv xfvxzl txr rmxzzf tgcvz jsdgn pgnk jrpx vbvfr vzn gbpl ... c dvzqx hcms zrvtg (contains dairy)\n",
      " ...\n",
      "nsktq ftkfc mdqlbx bxfvt vtdbl djldkx cljvdxp cpp ghzx sbhdb ppqs dvzqx zhpv kgr ... vrtf nnst dqrvvk (contains peanuts)\n",
      "fhznhmx khnm skrrb ckpjgb glxxp rzlkxt jrj mxsklfx mdqlbx mkpmkx xhb bkhjxl ttkn ... txr zgpv (contains fish, shellfish)\n",
      "cbhfpzp tmp rjnx dpdgc frv xflfx dbr fzhmtds kcgtlb msrnhf khnm hgrptqb tfgf xss ...  qhhsj (contains sesame, nuts, soy)\n",
      "flnhl gkddl jhqpdf jkvcbf xqcb gcbbnqb ddmg ppqs bnl jrpx cdslv bxlc tfgf msrnhf ... dqrvvk cltpv (contains wheat, nuts)\n"
     ]
    },
    {
     "data": {
      "text/markdown": [
       "The stored answers are: `{1: '2410', 2: 'tmp,pdpgm,cdslv,zrvtg,ttkn,mkpmkx,vxzpfp,flnhl'}`"
      ],
      "text/plain": [
       "<IPython.core.display.Markdown object>"
      ]
     },
     "metadata": {},
     "output_type": "display_data"
    }
   ],
   "source": [
    "puzzle = advent.puzzle(day=21)"
   ]
  },
  {
   "cell_type": "code",
   "execution_count": 78,
   "id": "8ef0d1ce",
   "metadata": {
    "execution": {
     "iopub.execute_input": "2022-12-20T18:42:04.203357Z",
     "iopub.status.busy": "2022-12-20T18:42:04.202905Z",
     "iopub.status.idle": "2022-12-20T18:42:04.206215Z",
     "shell.execute_reply": "2022-12-20T18:42:04.205531Z",
     "shell.execute_reply.started": "2022-12-20T18:42:04.203340Z"
    },
    "tags": []
   },
   "outputs": [],
   "source": [
    "s1 = \"\"\"\\\n",
    "mxmxvkd kfcds sqjhc nhms (contains dairy, fish)\n",
    "trh fvjkl sbzzf mxmxvkd (contains dairy)\n",
    "sqjhc fvjkl (contains soy)\n",
    "sqjhc mxmxvkd sbzzf (contains fish)\n",
    "\"\"\""
   ]
  },
  {
   "cell_type": "code",
   "execution_count": 80,
   "id": "5d813eb6",
   "metadata": {
    "execution": {
     "iopub.execute_input": "2022-12-20T18:42:14.935197Z",
     "iopub.status.busy": "2022-12-20T18:42:14.934646Z",
     "iopub.status.idle": "2022-12-20T18:42:14.942792Z",
     "shell.execute_reply": "2022-12-20T18:42:14.942255Z",
     "shell.execute_reply.started": "2022-12-20T18:42:14.935179Z"
    },
    "tags": []
   },
   "outputs": [
    {
     "name": "stdout",
     "output_type": "stream",
     "text": [
      "(Part 1: 0.001 s)\n",
      "(Part 2: 0.000 s)\n"
     ]
    }
   ],
   "source": [
    "def day21(s, *, part2=False):\n",
    "  def foods():\n",
    "    for line in s.splitlines():\n",
    "      ingredients, allergens = line[:-1].split(' (contains ')\n",
    "      yield set(ingredients.split()), allergens.split(', ')\n",
    "\n",
    "  possibles_for_allergen = {}\n",
    "  for ingredients, allergens in foods():\n",
    "    for allergen in allergens:\n",
    "      if allergen not in possibles_for_allergen:\n",
    "        possibles_for_allergen[allergen] = ingredients.copy()\n",
    "      else:\n",
    "        possibles_for_allergen[allergen] &= ingredients\n",
    "\n",
    "  def has_single_ingredient(item):\n",
    "    return len(item[1]) == 1\n",
    "\n",
    "  allergen_ingredient = {}\n",
    "  while possibles_for_allergen:\n",
    "    allergen, ingredients = next(filter(has_single_ingredient, possibles_for_allergen.items()))\n",
    "    ingredient = ingredients.pop()\n",
    "    allergen_ingredient[allergen] = ingredient\n",
    "    for ingredients2 in possibles_for_allergen.values():\n",
    "      ingredients2.discard(ingredient)\n",
    "    del possibles_for_allergen[allergen]\n",
    "\n",
    "  if not part2:\n",
    "    allergen_ingredients = set(allergen_ingredient.values())\n",
    "    return sum(len(ingredients - allergen_ingredients) for ingredients, _ in foods())\n",
    "\n",
    "  return ','.join(ingredient for _, ingredient in sorted(allergen_ingredient.items()))\n",
    "\n",
    "\n",
    "check_eq(day21(s1), 5)\n",
    "puzzle.verify(1, day21)  # ~1 ms.\n",
    "\n",
    "day21_part2 = functools.partial(day21, part2=True)\n",
    "check_eq(day21_part2(s1), 'mxmxvkd,sqjhc,fvjkl')\n",
    "puzzle.verify(2, day21_part2)  # ~1 ms."
   ]
  },
  {
   "cell_type": "markdown",
   "id": "ddd21240",
   "metadata": {},
   "source": [
    "<a name=\"day22\"></a>\n",
    "## Day 22: Recursive card game"
   ]
  },
  {
   "cell_type": "markdown",
   "id": "8e66f7cd",
   "metadata": {},
   "source": [
    "Given two hands of integer cards, simulate a card game of combat.  At each turn, the player with the largest front card places the two cards (higher card first) at the back of their hand.  A player that owns all cards wins.\n",
    "\n",
    "- Part 1: In the winner's hand, multiply each card value by its position (1 being rearmost), and report the sum of the result.\n",
    "\n",
    "- Part 2: Add extra rules.  If both players have at least as many cards remaining in their deck as their top card, the winner of the round is determined by playing a new game of Recursive Combat.  See the [website](https://adventofcode.com/2020/day/22) for details."
   ]
  },
  {
   "cell_type": "code",
   "execution_count": 111,
   "id": "8e209dc3",
   "metadata": {
    "execution": {
     "iopub.execute_input": "2022-12-19T00:40:45.666322Z",
     "iopub.status.busy": "2022-12-19T00:40:45.665843Z",
     "iopub.status.idle": "2022-12-19T00:40:45.681963Z",
     "shell.execute_reply": "2022-12-19T00:40:45.681414Z",
     "shell.execute_reply.started": "2022-12-19T00:40:45.666302Z"
    }
   },
   "outputs": [
    {
     "data": {
      "text/markdown": [
       "For [day 22](https://adventofcode.com/2020/day/22), `puzzle.input` has 53 lines:"
      ],
      "text/plain": [
       "<IPython.core.display.Markdown object>"
      ]
     },
     "metadata": {},
     "output_type": "display_data"
    },
    {
     "name": "stdout",
     "output_type": "stream",
     "text": [
      "Player 1:\n",
      "15\n",
      "31\n",
      "26\n",
      "4\n",
      "36\n",
      "30\n",
      "43\n",
      " ...\n",
      "37\n",
      "5\n",
      "1\n",
      "27\n"
     ]
    },
    {
     "data": {
      "text/markdown": [
       "The stored answers are: `{1: '32199', 2: '33780'}`"
      ],
      "text/plain": [
       "<IPython.core.display.Markdown object>"
      ]
     },
     "metadata": {},
     "output_type": "display_data"
    }
   ],
   "source": [
    "puzzle = advent.puzzle(day=22)"
   ]
  },
  {
   "cell_type": "code",
   "execution_count": 112,
   "id": "f9379d20",
   "metadata": {
    "execution": {
     "iopub.execute_input": "2022-12-19T00:40:45.682953Z",
     "iopub.status.busy": "2022-12-19T00:40:45.682779Z",
     "iopub.status.idle": "2022-12-19T00:40:45.685786Z",
     "shell.execute_reply": "2022-12-19T00:40:45.685199Z",
     "shell.execute_reply.started": "2022-12-19T00:40:45.682941Z"
    }
   },
   "outputs": [],
   "source": [
    "s1 = \"\"\"\\\n",
    "Player 1:\n",
    "9\n",
    "2\n",
    "6\n",
    "3\n",
    "1\n",
    "\n",
    "Player 2:\n",
    "5\n",
    "8\n",
    "4\n",
    "7\n",
    "10\n",
    "\"\"\""
   ]
  },
  {
   "cell_type": "code",
   "execution_count": 113,
   "id": "59e92321",
   "metadata": {
    "execution": {
     "iopub.execute_input": "2022-12-19T00:40:45.686725Z",
     "iopub.status.busy": "2022-12-19T00:40:45.686448Z",
     "iopub.status.idle": "2022-12-19T00:40:45.696256Z",
     "shell.execute_reply": "2022-12-19T00:40:45.695518Z",
     "shell.execute_reply.started": "2022-12-19T00:40:45.686713Z"
    }
   },
   "outputs": [
    {
     "name": "stdout",
     "output_type": "stream",
     "text": [
      "(Part 1: 0.000 s)\n"
     ]
    }
   ],
   "source": [
    "def day22_part1(s):\n",
    "  hands = [collections.deque(map(int, s2.splitlines()[1:])) for s2 in s.split('\\n\\n')]\n",
    "\n",
    "  while hands[0] and hands[1]:\n",
    "    cards = hands[0].popleft(), hands[1].popleft()\n",
    "    winner = 0 if cards[0] > cards[1] else 1\n",
    "    hands[winner].extend([cards[winner], cards[1 - winner]])\n",
    "\n",
    "  return sum((i + 1) * card for i, card in enumerate(reversed(hands[winner])))\n",
    "\n",
    "\n",
    "check_eq(day22_part1(s1), 306)\n",
    "puzzle.verify(1, day22_part1)  # ~0 ms."
   ]
  },
  {
   "cell_type": "markdown",
   "id": "b5f22c02",
   "metadata": {},
   "source": [
    "Part 2"
   ]
  },
  {
   "cell_type": "code",
   "execution_count": 114,
   "id": "cdd8a904",
   "metadata": {
    "execution": {
     "iopub.execute_input": "2022-12-19T00:40:45.697353Z",
     "iopub.status.busy": "2022-12-19T00:40:45.697006Z",
     "iopub.status.idle": "2022-12-19T00:40:45.711726Z",
     "shell.execute_reply": "2022-12-19T00:40:45.710850Z",
     "shell.execute_reply.started": "2022-12-19T00:40:45.697338Z"
    }
   },
   "outputs": [],
   "source": [
    "def day22a_part2(s):  # Slower code using deque.\n",
    "  def combat(hands):  # Returns (hands, winner)\n",
    "    visited = set()\n",
    "    while hands[0] and hands[1]:\n",
    "      state = (*hands[0], -1, *hands[1])\n",
    "      if state in visited:\n",
    "        return hands, 0  # player 1 is winner\n",
    "      visited.add(state)\n",
    "      cards = hands[0].popleft(), hands[1].popleft()\n",
    "      if len(hands[0]) >= cards[0] and len(hands[1]) >= cards[1]:\n",
    "        _, winner = combat([\n",
    "            collections.deque(list(hands[0])[: cards[0]]),\n",
    "            collections.deque(list(hands[1])[: cards[1]]),\n",
    "        ])\n",
    "      else:\n",
    "        winner = 0 if cards[0] > cards[1] else 1\n",
    "      hands[winner].extend([cards[winner], cards[1 - winner]])\n",
    "\n",
    "    return hands, 0 if hands[0] else 1\n",
    "\n",
    "  hands = [collections.deque(map(int, s2.splitlines()[1:])) for s2 in s.split('\\n\\n')]\n",
    "  hands, winner = combat(hands)\n",
    "  return sum((i + 1) * card for i, card in enumerate(reversed(hands[winner])))\n",
    "\n",
    "\n",
    "check_eq(day22a_part2(s1), 291)\n",
    "# puzzle.verify(2, day22a_part2)  # ~1750 ms."
   ]
  },
  {
   "cell_type": "code",
   "execution_count": 115,
   "id": "1aaab5da",
   "metadata": {
    "execution": {
     "iopub.execute_input": "2022-12-19T00:40:45.713130Z",
     "iopub.status.busy": "2022-12-19T00:40:45.712539Z",
     "iopub.status.idle": "2022-12-19T00:40:46.130424Z",
     "shell.execute_reply": "2022-12-19T00:40:46.129792Z",
     "shell.execute_reply.started": "2022-12-19T00:40:45.713109Z"
    }
   },
   "outputs": [
    {
     "name": "stdout",
     "output_type": "stream",
     "text": [
      "(Part 2: 0.407 s)\n"
     ]
    }
   ],
   "source": [
    "def day22_part2(s):  # Faster code using tuples.\n",
    "\n",
    "  # @functools.lru_cache(maxsize=None)  # It makes no difference.\n",
    "  def combat(hand0, hand1):\n",
    "    visited = set()\n",
    "    while True:\n",
    "      state = hand0, hand1\n",
    "      if state in visited:\n",
    "        return (0,), ()  # player 1 is winner\n",
    "      visited.add(state)\n",
    "      card0 = hand0[0]\n",
    "      card1 = hand1[0]\n",
    "      recurse = len(hand0) > card0 and len(hand1) > card1\n",
    "      if combat(hand0[1 : card0 + 1], hand1[1 : card1 + 1])[0] if recurse else card0 > card1:\n",
    "        hand0, hand1 = hand0[1:] + (card0, card1), hand1[1:]\n",
    "        if not hand1:\n",
    "          break\n",
    "      else:\n",
    "        hand0, hand1 = hand0[1:], hand1[1:] + (card1, card0)\n",
    "        if not hand0:\n",
    "          break\n",
    "    return hand0, hand1\n",
    "\n",
    "  hand0, hand1 = (tuple(map(int, s2.splitlines()[1:])) for s2 in s.split('\\n\\n'))\n",
    "  hand0, hand1 = combat(hand0, hand1)\n",
    "  return sum((i + 1) * card for i, card in enumerate(reversed(hand0 + hand1)))\n",
    "\n",
    "\n",
    "check_eq(day22_part2(s1), 291)\n",
    "puzzle.verify(2, day22_part2)  # ~1200 ms."
   ]
  },
  {
   "cell_type": "code",
   "execution_count": 116,
   "id": "d2feec14",
   "metadata": {
    "execution": {
     "iopub.execute_input": "2022-12-19T00:40:46.131493Z",
     "iopub.status.busy": "2022-12-19T00:40:46.131206Z",
     "iopub.status.idle": "2022-12-19T00:40:46.134471Z",
     "shell.execute_reply": "2022-12-19T00:40:46.133917Z",
     "shell.execute_reply.started": "2022-12-19T00:40:46.131476Z"
    }
   },
   "outputs": [],
   "source": [
    "# # %timeit -r8 day22_part2(puzzle.input)"
   ]
  },
  {
   "cell_type": "code",
   "execution_count": 117,
   "id": "0e4e205d",
   "metadata": {
    "execution": {
     "iopub.execute_input": "2022-12-19T00:40:46.135614Z",
     "iopub.status.busy": "2022-12-19T00:40:46.135200Z",
     "iopub.status.idle": "2022-12-19T00:40:46.145418Z",
     "shell.execute_reply": "2022-12-19T00:40:46.144801Z",
     "shell.execute_reply.started": "2022-12-19T00:40:46.135583Z"
    }
   },
   "outputs": [],
   "source": [
    "# # %prun day22_part2(puzzle.input)  # No obvious opportunity for optimization."
   ]
  },
  {
   "cell_type": "markdown",
   "id": "0ded52a1",
   "metadata": {},
   "source": [
    "<a name=\"day23\"></a>\n",
    "## Day 23: Cups in a circle"
   ]
  },
  {
   "cell_type": "markdown",
   "id": "9dfc145b",
   "metadata": {},
   "source": [
    "Given a circular list of cups (labeled 1-9), apply a sequence of moves.\n",
    "For each move, extract the 3 cups to the right of the current cup (initially first in the input), and reinsert the 3 cups to the right of the cup whose label has value 1 less than the current cup.  Advance the current cup to the right.\n",
    "\n",
    "When finding the cup whose label has value 1 less than the current cup, skip over any that are in the 3 extracted cups, and when reaching value 0, wraparound back to the highest value.\n",
    "\n",
    "- Part 1: Report the cup labels (as a string of 8 digits) to the right of cup 1 after 100 moves.\n",
    "\n",
    "- Part 2: Extend the input circular list to contain a total of 1_000_000 cups, labeled 10 .. 1_000_000.  After 10_000_000 moves, determine the two cups to the right of cup 1, and report the product of their labels."
   ]
  },
  {
   "cell_type": "code",
   "execution_count": 118,
   "id": "4245c66e",
   "metadata": {
    "execution": {
     "iopub.execute_input": "2022-12-19T00:40:46.146338Z",
     "iopub.status.busy": "2022-12-19T00:40:46.146110Z",
     "iopub.status.idle": "2022-12-19T00:40:46.162988Z",
     "shell.execute_reply": "2022-12-19T00:40:46.162221Z",
     "shell.execute_reply.started": "2022-12-19T00:40:46.146322Z"
    },
    "tags": []
   },
   "outputs": [
    {
     "data": {
      "text/markdown": [
       "For [day 23](https://adventofcode.com/2020/day/23), `puzzle.input` has a single line of 9 characters:"
      ],
      "text/plain": [
       "<IPython.core.display.Markdown object>"
      ]
     },
     "metadata": {},
     "output_type": "display_data"
    },
    {
     "name": "stdout",
     "output_type": "stream",
     "text": [
      "872495136\n"
     ]
    },
    {
     "data": {
      "text/markdown": [
       "The stored answers are: `{1: '27865934', 2: '170836011000'}`"
      ],
      "text/plain": [
       "<IPython.core.display.Markdown object>"
      ]
     },
     "metadata": {},
     "output_type": "display_data"
    }
   ],
   "source": [
    "puzzle = advent.puzzle(day=23)"
   ]
  },
  {
   "cell_type": "code",
   "execution_count": 119,
   "id": "f69d71aa",
   "metadata": {
    "execution": {
     "iopub.execute_input": "2022-12-19T00:40:46.164106Z",
     "iopub.status.busy": "2022-12-19T00:40:46.163761Z",
     "iopub.status.idle": "2022-12-19T00:40:46.166687Z",
     "shell.execute_reply": "2022-12-19T00:40:46.165975Z",
     "shell.execute_reply.started": "2022-12-19T00:40:46.164092Z"
    },
    "tags": []
   },
   "outputs": [],
   "source": [
    "s1 = '389125467'"
   ]
  },
  {
   "cell_type": "code",
   "execution_count": 120,
   "id": "af596e6b",
   "metadata": {
    "execution": {
     "iopub.execute_input": "2022-12-19T00:40:46.167654Z",
     "iopub.status.busy": "2022-12-19T00:40:46.167466Z",
     "iopub.status.idle": "2022-12-19T00:40:46.177109Z",
     "shell.execute_reply": "2022-12-19T00:40:46.176454Z",
     "shell.execute_reply.started": "2022-12-19T00:40:46.167642Z"
    },
    "tags": []
   },
   "outputs": [],
   "source": [
    "def day23a(s, *, num_moves=100):  # Using list.\n",
    "  l = list(map(int, s.strip()))\n",
    "\n",
    "  for _ in range(num_moves):\n",
    "    (current, *extracted3) = l[:4]\n",
    "    destination = current - 1 if current > 1 else len(l)\n",
    "    while destination in extracted3:\n",
    "      destination = destination - 1 if destination > 1 else len(l)\n",
    "    dest = l.index(destination)  # bottleneck in part 2!\n",
    "    l = l[4 : dest + 1] + extracted3 + l[dest + 1 :] + [current]\n",
    "\n",
    "  i = l.index(1)\n",
    "  l = l[i + 1 :] + l[:i]\n",
    "  return ''.join(map(str, l))\n",
    "\n",
    "\n",
    "check_eq(day23a(s1, num_moves=10), '92658374')\n",
    "check_eq(day23a(s1), '67384529')"
   ]
  },
  {
   "cell_type": "code",
   "execution_count": 121,
   "id": "8cd3b8f6",
   "metadata": {
    "execution": {
     "iopub.execute_input": "2022-12-19T00:40:46.178140Z",
     "iopub.status.busy": "2022-12-19T00:40:46.177846Z",
     "iopub.status.idle": "2022-12-19T00:40:46.187483Z",
     "shell.execute_reply": "2022-12-19T00:40:46.186860Z",
     "shell.execute_reply.started": "2022-12-19T00:40:46.178126Z"
    },
    "tags": []
   },
   "outputs": [],
   "source": [
    "def day23b(s, *, num_moves=100):  # Using deque.\n",
    "  d = collections.deque(map(int, s.strip()))\n",
    "  n = len(d)\n",
    "\n",
    "  for _ in range(num_moves):\n",
    "    current = next(iter(d))\n",
    "    d.rotate(-1)  # move current to the end\n",
    "    extracted3 = d.popleft(), d.popleft(), d.popleft()\n",
    "    destination = current - 1 if current > 1 else n\n",
    "    while destination in extracted3:\n",
    "      destination = destination - 1 if destination > 1 else n\n",
    "    dest = d.index(destination)  # bottleneck in part 2!\n",
    "    d.rotate(-dest - 1)  # move destination to end\n",
    "    d.extendleft(reversed(extracted3))\n",
    "    d.rotate(dest + 1)  # move new current back to front\n",
    "\n",
    "  d.rotate(-d.index(1))  # move '1' to front\n",
    "  d.popleft()  # remove '1'\n",
    "  return ''.join(map(str, d))\n",
    "\n",
    "\n",
    "check_eq(day23b(s1, num_moves=10), '92658374')\n",
    "check_eq(day23b(s1), '67384529')"
   ]
  },
  {
   "cell_type": "code",
   "execution_count": 122,
   "id": "2c30e37c",
   "metadata": {
    "execution": {
     "iopub.execute_input": "2022-12-19T00:40:46.188646Z",
     "iopub.status.busy": "2022-12-19T00:40:46.188206Z",
     "iopub.status.idle": "2022-12-19T00:40:46.759530Z",
     "shell.execute_reply": "2022-12-19T00:40:46.758855Z",
     "shell.execute_reply.started": "2022-12-19T00:40:46.188626Z"
    },
    "tags": []
   },
   "outputs": [
    {
     "name": "stdout",
     "output_type": "stream",
     "text": [
      "(Part 1: 0.000 s)\n",
      "(Part 2: 0.177 s)\n"
     ]
    }
   ],
   "source": [
    "# Code keeping track of next cup label for each cup label:\n",
    "@numba.njit  # 0.25 s to jit on first invocation\n",
    "def day23_func(l, max_num, num_moves, next_cup):\n",
    "  n = len(next_cup) - 1\n",
    "  current = l[0]\n",
    "  for i in range(len(l) - 1):\n",
    "    next_cup[l[i]] = l[i + 1]\n",
    "  if max_num:\n",
    "    next_cup[l[-1]] = len(l) + 1\n",
    "    for i in range(len(l) + 1, max_num):\n",
    "      next_cup[i] = i + 1\n",
    "    next_cup[max_num] = l[0]\n",
    "  else:\n",
    "    next_cup[l[-1]] = l[0]\n",
    "\n",
    "  for _ in range(num_moves):\n",
    "    extracted1 = next_cup[current]\n",
    "    extracted2 = next_cup[extracted1]\n",
    "    extracted3 = next_cup[extracted2]\n",
    "    destination = current - 1 if current > 1 else n\n",
    "    while destination in (extracted1, extracted2, extracted3):\n",
    "      destination = destination - 1 if destination > 1 else n\n",
    "    next_cup[current] = next_cup[extracted3]\n",
    "    next_cup[extracted3] = next_cup[destination]\n",
    "    next_cup[destination] = extracted1\n",
    "    current = next_cup[current]\n",
    "\n",
    "\n",
    "def day23(s, *, max_num=0, num_moves=100):\n",
    "  dtype = np.int32 if using_numba else np.int64\n",
    "  l = np.array(list(map(int, s.strip())), dtype)\n",
    "  next_cup = np.empty(1 + max(len(l), max_num), l.dtype)\n",
    "  day23_func(l, max_num, num_moves, next_cup)\n",
    "  if max_num:\n",
    "    cup1 = next_cup[1]\n",
    "    cup2 = next_cup[cup1]\n",
    "    return int(cup1) * int(cup2)\n",
    "  ll = [next_cup[1]]\n",
    "  while next_cup[ll[-1]] != 1:\n",
    "    ll.append(next_cup[ll[-1]])\n",
    "  return ''.join(map(str, ll))\n",
    "\n",
    "\n",
    "check_eq(day23(s1, num_moves=10), '92658374')\n",
    "check_eq(day23(s1), '67384529')\n",
    "puzzle.verify(1, day23)  # ~6 ms with numba; ~1 ms without numba.\n",
    "\n",
    "day23_part2 = functools.partial(day23, num_moves=10_000_000, max_num=1_000_000)\n",
    "if using_numba:\n",
    "  check_eq(day23_part2(s1), 149245887792)\n",
    "puzzle.verify(2, day23_part2)  # ~400 ms with numba; ~25 s without numba."
   ]
  },
  {
   "cell_type": "code",
   "execution_count": 123,
   "id": "8c6f1d65",
   "metadata": {
    "execution": {
     "iopub.execute_input": "2022-12-19T00:40:46.760495Z",
     "iopub.status.busy": "2022-12-19T00:40:46.760267Z",
     "iopub.status.idle": "2022-12-19T00:40:46.763442Z",
     "shell.execute_reply": "2022-12-19T00:40:46.762841Z",
     "shell.execute_reply.started": "2022-12-19T00:40:46.760480Z"
    }
   },
   "outputs": [],
   "source": [
    "# # %timeit -r8 day23_part2(puzzle.input)"
   ]
  },
  {
   "cell_type": "markdown",
   "id": "8e518064",
   "metadata": {},
   "source": [
    "<a name=\"day24\"></a>\n",
    "## Day 24: Hexagonal tiles"
   ]
  },
  {
   "cell_type": "markdown",
   "id": "7d87d8b6",
   "metadata": {},
   "source": [
    "For each input line, travel over a hexagonal grid using the substrings `e`, `w`, `ne`, `nw`, `se`, and `sw`, and flip the state of the reached grid cell.  (Initially all grid cells are inactive.)\n",
    "\n",
    "- Part 1: Report the number of active cells in the resulting hexagonal grid.\n",
    "\n",
    "- Part 2: Simulate a cellular automaton over the grid from part 1, where an inactive cell becomes active if it has exactly 2 active neighbors,\n",
    "and an active cell becomes inactive if it has 0 or more than 2 active neighbors.  Report the number of active cells after 100 steps."
   ]
  },
  {
   "cell_type": "code",
   "execution_count": 124,
   "id": "d7da7566",
   "metadata": {
    "execution": {
     "iopub.execute_input": "2022-12-19T00:40:46.764221Z",
     "iopub.status.busy": "2022-12-19T00:40:46.764069Z",
     "iopub.status.idle": "2022-12-19T00:40:46.783325Z",
     "shell.execute_reply": "2022-12-19T00:40:46.782702Z",
     "shell.execute_reply.started": "2022-12-19T00:40:46.764208Z"
    }
   },
   "outputs": [
    {
     "data": {
      "text/markdown": [
       "For [day 24](https://adventofcode.com/2020/day/24), `puzzle.input` has 347 lines:"
      ],
      "text/plain": [
       "<IPython.core.display.Markdown object>"
      ]
     },
     "metadata": {},
     "output_type": "display_data"
    },
    {
     "name": "stdout",
     "output_type": "stream",
     "text": [
      "enwwsenweswweseseswnenewwswseswenw\n",
      "nwnwneswwnenwnwnwenenwwnesenenwsenenee\n",
      "eneswwenwneeswneenenw\n",
      "swwswswwwswswsweeswww\n",
      "swewnwneeewnewwwswwnwwswswnwww\n",
      "seswnwenesenwsenenwwenwsenwswnwseswnw\n",
      "nwswwenwwwswwnwnewswnwnwwwswnee\n",
      "seswseswseseseseeseseseswnwsesw\n",
      " ...\n",
      "nwnwnwnwnewnwwwnwnwnenenwsenwsesenwnww\n",
      "nwwswneseseswsenweswswswneswwswwswswsw\n",
      "neenwsenenenenenenwswswnenenwsenenene\n",
      "newnwnwnwnwwnweswwewsewenwwnwnwnwnw\n"
     ]
    },
    {
     "data": {
      "text/markdown": [
       "The stored answers are: `{1: '287', 2: '3636'}`"
      ],
      "text/plain": [
       "<IPython.core.display.Markdown object>"
      ]
     },
     "metadata": {},
     "output_type": "display_data"
    }
   ],
   "source": [
    "puzzle = advent.puzzle(day=24)"
   ]
  },
  {
   "cell_type": "code",
   "execution_count": 125,
   "id": "45df4d23",
   "metadata": {
    "execution": {
     "iopub.execute_input": "2022-12-19T00:40:46.784425Z",
     "iopub.status.busy": "2022-12-19T00:40:46.783988Z",
     "iopub.status.idle": "2022-12-19T00:40:46.786856Z",
     "shell.execute_reply": "2022-12-19T00:40:46.786359Z",
     "shell.execute_reply.started": "2022-12-19T00:40:46.784411Z"
    }
   },
   "outputs": [],
   "source": [
    "s1 = \"\"\"\\\n",
    "sesenwnenenewseeswwswswwnenewsewsw\n",
    "neeenesenwnwwswnenewnwwsewnenwseswesw\n",
    "seswneswswsenwwnwse\n",
    "nwnwneseeswswnenewneswwnewseswneseene\n",
    "swweswneswnenwsewnwneneseenw\n",
    "eesenwseswswnenwswnwnwsewwnwsene\n",
    "sewnenenenesenwsewnenwwwse\n",
    "wenwwweseeeweswwwnwwe\n",
    "wsweesenenewnwwnwsenewsenwwsesesenwne\n",
    "neeswseenwwswnwswswnw\n",
    "nenwswwsewswnenenewsenwsenwnesesenew\n",
    "enewnwewneswsewnwswenweswnenwsenwsw\n",
    "sweneswneswneneenwnewenewwneswswnese\n",
    "swwesenesewenwneswnwwneseswwne\n",
    "enesenwswwswneneswsenwnewswseenwsese\n",
    "wnwnesenesenenwwnenwsewesewsesesew\n",
    "nenewswnwewswnenesenwnesewesw\n",
    "eneswnwswnwsenenwnwnwwseeswneewsenese\n",
    "neswnwewnwnwseenwseesewsenwsweewe\n",
    "wseweeenwnesenwwwswnew\n",
    "\"\"\""
   ]
  },
  {
   "cell_type": "code",
   "execution_count": 126,
   "id": "bfa066c4",
   "metadata": {
    "execution": {
     "iopub.execute_input": "2022-12-19T00:40:46.787710Z",
     "iopub.status.busy": "2022-12-19T00:40:46.787453Z",
     "iopub.status.idle": "2022-12-19T00:40:47.025687Z",
     "shell.execute_reply": "2022-12-19T00:40:47.024991Z",
     "shell.execute_reply.started": "2022-12-19T00:40:46.787697Z"
    }
   },
   "outputs": [
    {
     "name": "stdout",
     "output_type": "stream",
     "text": [
      "(Part 1: 0.001 s)\n",
      "(Part 2: 0.149 s)\n"
     ]
    }
   ],
   "source": [
    "def day24(s, *, part2=False, num_days=100, visualize=False):\n",
    "  if not part2:\n",
    "    num_days = 0\n",
    "  offsets = dict(e=(0, 1), w=(0, -1), sw=(1, 0), se=(1, 1), nw=(-1, -1), ne=(-1, 0))\n",
    "  tuple_offsets = tuple(offsets.values())  # slightly faster\n",
    "  regex = re.compile('|'.join(offsets))\n",
    "  indices: set[tuple[int, int]] = set()\n",
    "  for line in s.splitlines():\n",
    "    y, x = 0, 0\n",
    "    for s2 in regex.findall(line):\n",
    "      offset = offsets[s2]\n",
    "      y, x = y + offset[0], x + offset[1]\n",
    "    indices ^= {(y, x)}\n",
    "  indices_3d: list[tuple[int, int, int]] = []\n",
    "\n",
    "  for day in range(num_days):\n",
    "    if visualize:\n",
    "      indices_3d.extend((day, y, x) for y, x in indices)\n",
    "    neighbor_counts = collections.Counter(\n",
    "        (y + dy, x + dx) for y, x in indices for dy, dx in tuple_offsets\n",
    "    )\n",
    "    indices = {\n",
    "        index\n",
    "        for index, count in neighbor_counts.items()\n",
    "        if count == 2 or (count == 1 and index in indices)\n",
    "    }\n",
    "\n",
    "  if visualize:\n",
    "    video: Any = grid_from_indices(indices_3d, dtype=bool, pad=(0, 2, 2))\n",
    "    video = video.repeat(2, axis=1).repeat(2, axis=2)\n",
    "    video = [video[0]] * 10 + list(video) + [video[-1]] * 10\n",
    "    media.show_video(video, codec='gif', fps=10)\n",
    "  return len(indices)\n",
    "\n",
    "\n",
    "check_eq(day24(s1), 10)\n",
    "puzzle.verify(1, day24)  # ~3 ms.\n",
    "\n",
    "day24_part2 = functools.partial(day24, part2=True)\n",
    "check_eq(day24_part2(s1, num_days=10), 37)\n",
    "check_eq(day24_part2(s1), 2208)\n",
    "puzzle.verify(2, day24_part2)  # ~460 ms."
   ]
  },
  {
   "cell_type": "code",
   "execution_count": 127,
   "id": "4c8d4666",
   "metadata": {
    "execution": {
     "iopub.execute_input": "2022-12-19T00:40:47.026778Z",
     "iopub.status.busy": "2022-12-19T00:40:47.026434Z",
     "iopub.status.idle": "2022-12-19T00:40:47.481040Z",
     "shell.execute_reply": "2022-12-19T00:40:47.480467Z",
     "shell.execute_reply.started": "2022-12-19T00:40:47.026765Z"
    }
   },
   "outputs": [
    {
     "data": {
      "text/html": [
       "<table class=\"show_videos\" style=\"border-spacing:0px;\"><tr><td style=\"padding:1px;\"><img width=\"254\" height=\"264\" style=\"image-rendering:pixelated; object-fit:cover;\" src=\"data:image/gif;base64,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\"/></td></tr></table>"
      ],
      "text/plain": [
       "<IPython.core.display.HTML object>"
      ]
     },
     "metadata": {},
     "output_type": "display_data"
    }
   ],
   "source": [
    "_ = day24_part2(puzzle.input, visualize=True)  # ~1700 ms."
   ]
  },
  {
   "cell_type": "markdown",
   "id": "4e3659da",
   "metadata": {},
   "source": [
    "<a name=\"day25\"></a>\n",
    "## Day 25: Public-key encryption"
   ]
  },
  {
   "cell_type": "markdown",
   "id": "f3bb00ca",
   "metadata": {},
   "source": [
    "Given a card public key and a door public key, find the (private) card loop size and door loop size that were used to generate these public keys.  Then, find the common encryption key that the card and door use to communicate.\n",
    "\n",
    "- Part 1: Report the encryption key.\n",
    "\n",
    "- Part 2: There is no part 2 for this last day of the Advent."
   ]
  },
  {
   "cell_type": "code",
   "execution_count": 128,
   "id": "b28f177c",
   "metadata": {
    "execution": {
     "iopub.execute_input": "2022-12-19T00:40:47.482073Z",
     "iopub.status.busy": "2022-12-19T00:40:47.481860Z",
     "iopub.status.idle": "2022-12-19T00:40:47.491820Z",
     "shell.execute_reply": "2022-12-19T00:40:47.491222Z",
     "shell.execute_reply.started": "2022-12-19T00:40:47.482060Z"
    }
   },
   "outputs": [
    {
     "data": {
      "text/markdown": [
       "For [day 25](https://adventofcode.com/2020/day/25), `puzzle.input` has 2 lines:"
      ],
      "text/plain": [
       "<IPython.core.display.Markdown object>"
      ]
     },
     "metadata": {},
     "output_type": "display_data"
    },
    {
     "name": "stdout",
     "output_type": "stream",
     "text": [
      "10212254\n",
      "12577395\n"
     ]
    },
    {
     "data": {
      "text/markdown": [
       "The stored answers are: `{1: '290487', 2: ''}`"
      ],
      "text/plain": [
       "<IPython.core.display.Markdown object>"
      ]
     },
     "metadata": {},
     "output_type": "display_data"
    }
   ],
   "source": [
    "puzzle = advent.puzzle(day=25)"
   ]
  },
  {
   "cell_type": "code",
   "execution_count": 129,
   "id": "b1f84c4e",
   "metadata": {
    "execution": {
     "iopub.execute_input": "2022-12-19T00:40:47.492802Z",
     "iopub.status.busy": "2022-12-19T00:40:47.492527Z",
     "iopub.status.idle": "2022-12-19T00:40:47.495454Z",
     "shell.execute_reply": "2022-12-19T00:40:47.494976Z",
     "shell.execute_reply.started": "2022-12-19T00:40:47.492788Z"
    }
   },
   "outputs": [],
   "source": [
    "s1 = \"\"\"\\\n",
    "5764801\n",
    "17807724\n",
    "\"\"\""
   ]
  },
  {
   "cell_type": "code",
   "execution_count": 130,
   "id": "44cbc960",
   "metadata": {
    "execution": {
     "iopub.execute_input": "2022-12-19T00:40:47.496315Z",
     "iopub.status.busy": "2022-12-19T00:40:47.496070Z",
     "iopub.status.idle": "2022-12-19T00:40:47.821706Z",
     "shell.execute_reply": "2022-12-19T00:40:47.821128Z",
     "shell.execute_reply.started": "2022-12-19T00:40:47.496302Z"
    }
   },
   "outputs": [
    {
     "name": "stdout",
     "output_type": "stream",
     "text": [
      "(Part 1: 0.316 s)\n"
     ]
    }
   ],
   "source": [
    "def day25a(s, *, base=7, mod=20201227):  # Slow.\n",
    "  card_public_key, door_public_key = map(int, s.splitlines())\n",
    "\n",
    "  # Slow trial-multiplication; https://en.wikipedia.org/wiki/Discrete_logarithm\n",
    "  def untransform(base, value):\n",
    "    x = 1\n",
    "    loop_size = 0\n",
    "    while x != value:\n",
    "      loop_size += 1\n",
    "      x = (x * base) % mod\n",
    "    return loop_size\n",
    "\n",
    "  # Slow O(n) version.\n",
    "  def transform(value, loop_size):\n",
    "    x = 1\n",
    "    for _ in range(loop_size):\n",
    "      x = (x * value) % mod\n",
    "    return x\n",
    "\n",
    "  card_loop_size = untransform(base, card_public_key)\n",
    "  door_loop_size = untransform(base, door_public_key)\n",
    "  assert transform(base, card_loop_size) == card_public_key\n",
    "  assert transform(base, door_loop_size) == door_public_key\n",
    "\n",
    "  encryption_key1 = transform(door_public_key, card_loop_size)\n",
    "  encryption_key2 = transform(card_public_key, door_loop_size)\n",
    "  assert encryption_key1 == encryption_key2\n",
    "  return encryption_key1\n",
    "\n",
    "\n",
    "check_eq(day25a(s1), 14897079)\n",
    "puzzle.verify(1, day25a)  # ~1000 ms."
   ]
  },
  {
   "cell_type": "code",
   "execution_count": 131,
   "id": "a1155049",
   "metadata": {
    "execution": {
     "iopub.execute_input": "2022-12-19T00:40:47.822788Z",
     "iopub.status.busy": "2022-12-19T00:40:47.822334Z",
     "iopub.status.idle": "2022-12-19T00:40:47.828950Z",
     "shell.execute_reply": "2022-12-19T00:40:47.828423Z",
     "shell.execute_reply.started": "2022-12-19T00:40:47.822773Z"
    }
   },
   "outputs": [
    {
     "name": "stdout",
     "output_type": "stream",
     "text": [
      "(Part 1: 0.000 s)\n"
     ]
    }
   ],
   "source": [
    "def day25(s, *, base=7, mod=20201227):  # Fast.\n",
    "  def pow_mod(base: int, exponent: int, mod: int) -> int:\n",
    "    \"\"\"Returns 'base**exponent % mod' using square-multiply algorithm.\"\"\"\n",
    "    x = 1\n",
    "    while exponent > 0:\n",
    "      if exponent % 2 == 1:\n",
    "        x = (x * base) % mod\n",
    "      base = (base * base) % mod\n",
    "      exponent //= 2\n",
    "    return x\n",
    "\n",
    "  def log_mod(base: int, value: int, mod: int) -> int | None:\n",
    "    \"\"\"Returns exponent for 'base**exponent % mod == value'.\"\"\"\n",
    "    # Using https://en.wikipedia.org/wiki/Baby-step_giant-step\n",
    "    # m = int(math.ceil(mod**0.5))\n",
    "    m = math.isqrt(mod - 1) + 1\n",
    "    table = {}\n",
    "    e = 1\n",
    "    for i in range(m):\n",
    "      table[e] = i\n",
    "      e = (e * base) % mod\n",
    "    factor = pow_mod(base, mod - m - 1, mod)\n",
    "    e = value\n",
    "    for i in range(m):\n",
    "      if e in table:\n",
    "        return i * m + table[e]\n",
    "      e = (e * factor) % mod\n",
    "    return None\n",
    "\n",
    "  card_public_key, door_public_key = map(int, s.splitlines())\n",
    "  card_loop_size = log_mod(base, card_public_key, mod)\n",
    "  assert card_loop_size is not None\n",
    "  return pow_mod(door_public_key, card_loop_size, mod)\n",
    "\n",
    "\n",
    "check_eq(day25(s1), 14897079)\n",
    "puzzle.verify(1, day25)  # ~1 ms."
   ]
  },
  {
   "cell_type": "markdown",
   "id": "6d600fa2",
   "metadata": {},
   "source": [
    "Part 2"
   ]
  },
  {
   "cell_type": "code",
   "execution_count": 132,
   "id": "a85ae975",
   "metadata": {
    "execution": {
     "iopub.execute_input": "2022-12-19T00:40:47.830079Z",
     "iopub.status.busy": "2022-12-19T00:40:47.829929Z",
     "iopub.status.idle": "2022-12-19T00:40:47.842986Z",
     "shell.execute_reply": "2022-12-19T00:40:47.842376Z",
     "shell.execute_reply.started": "2022-12-19T00:40:47.830067Z"
    }
   },
   "outputs": [
    {
     "name": "stdout",
     "output_type": "stream",
     "text": [
      "(Part 2: 0.000 s)\n"
     ]
    }
   ],
   "source": [
    "puzzle.verify(2, lambda s: '')  # (No \"Part 2\" on last day.)\n",
    "# (aocd does not allow a blank answer; the answer is not submitted)"
   ]
  },
  {
   "cell_type": "markdown",
   "id": "ffc0d796",
   "metadata": {},
   "source": [
    "<a name=\"timings\"></a>\n",
    "## Timings"
   ]
  },
  {
   "cell_type": "code",
   "execution_count": 133,
   "id": "703b930b",
   "metadata": {
    "execution": {
     "iopub.execute_input": "2022-12-19T00:40:47.843945Z",
     "iopub.status.busy": "2022-12-19T00:40:47.843647Z",
     "iopub.status.idle": "2022-12-19T00:40:47.852882Z",
     "shell.execute_reply": "2022-12-19T00:40:47.852265Z",
     "shell.execute_reply.started": "2022-12-19T00:40:47.843933Z"
    }
   },
   "outputs": [
    {
     "name": "stdout",
     "output_type": "stream",
     "text": [
      "day_1    part_1: 0.000   part_2: 0.001\n",
      "day_2    part_1: 0.002   part_2: 0.001\n",
      "day_3    part_1: 0.001   part_2: 0.001\n",
      "day_4    part_1: 0.002   part_2: 0.002\n",
      "day_5    part_1: 0.000   part_2: 0.001\n",
      "day_6    part_1: 0.000   part_2: 0.001\n",
      "day_7    part_1: 0.002   part_2: 0.002\n",
      "day_8    part_1: 0.000   part_2: 0.004\n",
      "day_9    part_1: 0.001   part_2: 0.001\n",
      "day_10   part_1: 0.000   part_2: 0.000\n",
      "day_11   part_1: 0.016   part_2: 0.039\n",
      "day_12   part_1: 0.000   part_2: 0.000\n",
      "day_13   part_1: 0.000   part_2: 0.000\n",
      "day_14   part_1: 0.001   part_2: 0.010\n",
      "day_15   part_1: 0.000   part_2: 0.375\n",
      "day_16   part_1: 0.002   part_2: 0.021\n",
      "day_17   part_1: 0.003   part_2: 0.057\n",
      "day_18   part_1: 0.002   part_2: 0.002\n",
      "day_19   part_1: 0.026   part_2: 0.118\n",
      "day_20   part_1: 0.005   part_2: 0.013\n",
      "day_21   part_1: 0.001   part_2: 0.000\n",
      "day_22   part_1: 0.000   part_2: 0.407\n",
      "day_23   part_1: 0.000   part_2: 0.177\n",
      "day_24   part_1: 0.001   part_2: 0.149\n",
      "day_25   part_1: 0.000   part_2: 0.000\n",
      "Total time:  1.446 s\n"
     ]
    }
   ],
   "source": [
    "advent.show_times()"
   ]
  },
  {
   "cell_type": "code",
   "execution_count": 134,
   "id": "be7b0632",
   "metadata": {
    "execution": {
     "iopub.execute_input": "2022-12-19T00:40:47.854127Z",
     "iopub.status.busy": "2022-12-19T00:40:47.853677Z",
     "iopub.status.idle": "2022-12-19T00:40:47.862515Z",
     "shell.execute_reply": "2022-12-19T00:40:47.861680Z",
     "shell.execute_reply.started": "2022-12-19T00:40:47.854113Z"
    }
   },
   "outputs": [],
   "source": [
    "if 0:  # Compute min execution times over several calls.\n",
    "  advent.show_times(recompute=True, repeat=3)"
   ]
  },
  {
   "cell_type": "code",
   "execution_count": 135,
   "id": "f1395dd8",
   "metadata": {
    "execution": {
     "iopub.execute_input": "2022-12-19T00:40:47.863957Z",
     "iopub.status.busy": "2022-12-19T00:40:47.863507Z",
     "iopub.status.idle": "2022-12-19T00:40:47.872798Z",
     "shell.execute_reply": "2022-12-19T00:40:47.872157Z",
     "shell.execute_reply.started": "2022-12-19T00:40:47.863934Z"
    }
   },
   "outputs": [
    {
     "name": "stdout",
     "output_type": "stream",
     "text": [
      "grid_from_string grid_from_indices puzzle s1 s2 s3 extended_gcd\n"
     ]
    }
   ],
   "source": [
    "if 1:  # Look for unwanted pollution of namespace.\n",
    "  print(\n",
    "      textwrap.fill(\n",
    "          ' '.join(\n",
    "              name\n",
    "              for name, value in globals().items()\n",
    "              if not (name.startswith(('_', 'day')) or name in _ORIGINAL_GLOBALS)\n",
    "          )\n",
    "      )\n",
    "  )"
   ]
  },
  {
   "cell_type": "code",
   "execution_count": 136,
   "id": "cfc6af62",
   "metadata": {
    "execution": {
     "iopub.execute_input": "2022-12-19T00:40:47.874035Z",
     "iopub.status.busy": "2022-12-19T00:40:47.873537Z",
     "iopub.status.idle": "2022-12-19T00:40:47.882647Z",
     "shell.execute_reply": "2022-12-19T00:40:47.881855Z",
     "shell.execute_reply.started": "2022-12-19T00:40:47.874018Z"
    }
   },
   "outputs": [],
   "source": [
    "if 0:  # Save puzzle inputs and answers to a compressed archive for downloading.\n",
    "  # Create a new tar.gz file.\n",
    "  hh.run(\n",
    "      f\"\"\"cd /mnt/c/hh/tmp && cp -rp ~/.config/aocd/'{PROFILE.replace(\"_\", \" \")}' '{PROFILE}' && tar -czf '{PROFILE}.tar.gz' '{PROFILE}'\"\"\"\n",
    "  )"
   ]
  },
  {
   "cell_type": "code",
   "execution_count": 137,
   "id": "10d1402f",
   "metadata": {
    "execution": {
     "iopub.execute_input": "2022-12-19T00:40:47.883954Z",
     "iopub.status.busy": "2022-12-19T00:40:47.883487Z",
     "iopub.status.idle": "2022-12-19T00:40:47.892323Z",
     "shell.execute_reply": "2022-12-19T00:40:47.891665Z",
     "shell.execute_reply.started": "2022-12-19T00:40:47.883940Z"
    }
   },
   "outputs": [],
   "source": [
    "if 0:  # Look for misspelled words.\n",
    "  hh.run(\n",
    "      rf\"\"\"cat advent_of_code_{YEAR}.py | perl -pe \"s@https?:/.*?[)> ]@@g; s/'/ /g; s/\\\\\\\\n//g;\" | spell | sort -u || true\"\"\"\n",
    "  )"
   ]
  },
  {
   "cell_type": "code",
   "execution_count": 138,
   "id": "553b629e",
   "metadata": {
    "execution": {
     "iopub.execute_input": "2022-12-19T00:40:47.893450Z",
     "iopub.status.busy": "2022-12-19T00:40:47.893104Z",
     "iopub.status.idle": "2022-12-19T00:40:47.904650Z",
     "shell.execute_reply": "2022-12-19T00:40:47.903815Z",
     "shell.execute_reply.started": "2022-12-19T00:40:47.893434Z"
    }
   },
   "outputs": [],
   "source": [
    "if 0:  # Lint.\n",
    "  hh.run('echo flake8; flake8')\n",
    "  hh.run('echo mypy; mypy . || true')\n",
    "  hh.run('echo autopep8; autopep8 -j8 -d .')\n",
    "  hh.run('echo pylint; pylint -j8 . || true')\n",
    "  print('All ran.')"
   ]
  },
  {
   "cell_type": "code",
   "execution_count": 139,
   "id": "dd0a566e",
   "metadata": {
    "execution": {
     "iopub.execute_input": "2022-12-19T00:40:47.905783Z",
     "iopub.status.busy": "2022-12-19T00:40:47.905354Z",
     "iopub.status.idle": "2022-12-19T00:40:47.914696Z",
     "shell.execute_reply": "2022-12-19T00:40:47.914136Z",
     "shell.execute_reply.started": "2022-12-19T00:40:47.905766Z"
    }
   },
   "outputs": [
    {
     "name": "stdout",
     "output_type": "stream",
     "text": [
      "# Total time: 5.86 s\n",
      "# In[ 87] # Faster, using np.array and numba.\\n\\n@numba.njit\\ndef      1.037 s\n",
      "# In[ 66] # More naive solution, but faster when using numba.\\n\\n@     0.788 s\n",
      "# In[122] # Code keeping track of next cup label for each cup label:   0.566 s\n",
      "# In[127] _ = day24_part2(puzzle.input, visualize=True)  # ~1700 ms.   0.452 s\n",
      "# In[115] def day22_part2(s):  # Faster code using tuples.\\n\\n  # @    0.414 s\n",
      "# In[130] def day25a(s, *, base=7, mod=20201227):  # Slow.\\n  card_    0.322 s\n",
      "# In[ 67] if hasattr(numba, 'jit'):\\n  videos = {\\n      'Part 1':     0.258 s\n",
      "# In[126] def day24(s, *, part2=False, num_days=100, visualize=False)  0.233 s\n",
      "# In[106] def day20(s, *, part2=False, visualize=False):\\n  tiles = {  0.233 s\n",
      "# In[102] def day19a(s, *, part2=False):  # Compact.\\n  section1,      0.224 s\n",
      "# In[103] def day19(s, *, part2=False):  # Faster.\\n  section1,        0.148 s\n",
      "# In[  9] try:\\n  import numba\\nexcept ModuleNotFoundError:\\n  print(  0.115 s\n",
      "# In[ 95] def day17(s, *, num_cycles=6, dim=3):  # Faster.\\n  lines =  0.096 s\n",
      "# In[ 94] def day17a(s, *, num_cycles=6, dim=3):  # Slower.\\n  lines   0.088 s\n",
      "# In[ 90] def day16(s, *, part2=False):\\n\\n  def read_rules_and_       0.029 s\n",
      "# In[ 53] puzzle = advent.puzzle(day=9)                                0.022 s\n",
      "# In[ 91] puzzle = advent.puzzle(day=17)                               0.019 s\n",
      "# In[124] puzzle = advent.puzzle(day=24)                               0.017 s\n",
      "# In[ 82] def day14(s, *, part2=False):\\n  mem = {}\\n  extract_0 =     0.017 s\n",
      "# In[108] puzzle = advent.puzzle(day=21)                               0.016 s\n"
     ]
    }
   ],
   "source": [
    "hh.show_notebook_cell_top_times()"
   ]
  },
  {
   "cell_type": "markdown",
   "id": "071be244",
   "metadata": {},
   "source": [
    "# End"
   ]
  },
  {
   "cell_type": "code",
   "execution_count": 140,
   "id": "fa30d668",
   "metadata": {
    "execution": {
     "iopub.execute_input": "2022-12-19T00:40:47.915724Z",
     "iopub.status.busy": "2022-12-19T00:40:47.915377Z",
     "iopub.status.idle": "2022-12-19T00:40:47.924391Z",
     "shell.execute_reply": "2022-12-19T00:40:47.923769Z",
     "shell.execute_reply.started": "2022-12-19T00:40:47.915710Z"
    }
   },
   "outputs": [],
   "source": [
    "# Goals:\n",
    "# (1) Find puzzle answers.\n",
    "# (2) Clean up code.\n",
    "# (3) Speed up computation.\n",
    "# (4) Visualize intermediate results.\n",
    "# (5) Generalize to all puzzle inputs."
   ]
  },
  {
   "cell_type": "markdown",
   "id": "dc226ae0",
   "metadata": {},
   "source": [
    "<!-- For Emacs:\n",
    "Local Variables:\n",
    "fill-column: 100\n",
    "End:\n",
    "-->"
   ]
  }
 ],
 "metadata": {
  "colab": {
   "collapsed_sections": [],
   "provenance": [],
   "toc_visible": true
  },
  "jupytext": {
   "cell_metadata_filter": "-all",
   "formats": "py:percent,ipynb",
   "main_language": "python",
   "notebook_metadata_filter": "-all"
  },
  "kernelspec": {
   "display_name": "Python 3 (ipykernel)",
   "language": "python",
   "name": "python3"
  },
  "language_info": {
   "codemirror_mode": {
    "name": "ipython",
    "version": 3
   },
   "file_extension": ".py",
   "mimetype": "text/x-python",
   "name": "python",
   "nbconvert_exporter": "python",
   "pygments_lexer": "ipython3",
   "version": "3.10.4"
  }
 },
 "nbformat": 4,
 "nbformat_minor": 5
}
