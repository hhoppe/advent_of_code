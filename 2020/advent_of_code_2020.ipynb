{
 "cells": [
  {
   "cell_type": "markdown",
   "id": "3f4e0d72",
   "metadata": {},
   "source": [
    "# Advent of code 2020"
   ]
  },
  {
   "cell_type": "markdown",
   "id": "6748e67b",
   "metadata": {},
   "source": [
    "[[**Open the notebook in Colab**]](https://colab.research.google.com/github/hhoppe/advent_of_code/blob/main/2020/advent_of_code_2020.ipynb)\n",
    "\n",
    "Jupyter [notebook](https://github.com/hhoppe/advent_of_code/blob/main/2020/advent_of_code_2020.ipynb)\n",
    "with Python solutions to the\n",
    "[2020 Advent of Code puzzles](https://adventofcode.com/2020),\n",
    "completed in December 2020,\n",
    "by [Hugues Hoppe](http://hhoppe.com/).\n",
    "\n",
    "I participated in the 25-day [Advent of Code](https://adventofcode.com/) for the first time this year, thanks to encouragement from colleagues, especially [Sascha Häberling](https://github.com/shaeberling).  It was great fun and provided a nice opportunity to learn more advanced Python.\n",
    "\n",
    "In the event, many people compete to solve the puzzles as quickly as possible --- see the impressive times on the [leaderboard](https://adventofcode.com/2020/leaderboard).\n",
    "My approach was much more casual, although I did aim to finish the puzzle each evening.\n",
    "\n",
    "Later, I went back to explore more **polished and efficient solutions**.\n",
    "Can the code be expressed more succinctly?\n",
    "What is the fastest algorithm given the constraints of interpreted Python?\n",
    "Along the way, I discovered the [`numba`](https://numba.pydata.org/) package which can JIT-compile bottleneck functions to native code;\n",
    "is it practical for these problems?  Yes, it can help greatly!\n",
    "\n",
    "This notebook is organized such that each day is self-contained and can be run on its own after the preamble.\n",
    "\n",
    "Some **conclusions**:\n",
    "\n",
    "- A Jupyter/IPython notebook is a great environment for exploration.\n",
    "- The notebook conveniently bundles descriptions, notes, code, small test inputs, and results.\n",
    "- Initially I stored puzzle inputs within the notebook itself, but this introduces clutter and runs inefficiently.\n",
    "- The cloud-based CPU kernel/runtime provided by Colab works nicely.\n",
    "- With the [`numba`](https://numba.pydata.org/) library (for days [11](#day11), [15](#day15), and [23](#day23)), all of this year's puzzles can be solved in 1 second or less.\n",
    "- The total execution time across all 25 puzzles is about 4 s.\n",
    "\n",
    "Here are some visualization results:\n",
    "\n",
    "<p>\n",
    "<a href=\"#day5\">day5</a> <img src=\"https://github.com/hhoppe/advent_of_code/raw/main/2020/results/day5.png\" width=\"200\">&emsp;\n",
    "<a href=\"#day11\">day11</a> <img src=\"https://github.com/hhoppe/advent_of_code/raw/main/2020/results/day11a.gif\" width=\"200\">&emsp;\n",
    "<img src=\"https://github.com/hhoppe/advent_of_code/raw/main/2020/results/day11b.gif\" width=\"200\">\n",
    "</p>\n",
    "<p>\n",
    "<a href=\"#day17\">day17</a> <img src=\"https://github.com/hhoppe/advent_of_code/raw/main/2020/results/day17a.gif\" width=\"40\">&emsp;\n",
    "<img src=\"https://github.com/hhoppe/advent_of_code/raw/main/2020/results/day17b.gif\" width=\"340\">&emsp;\n",
    "<img src=\"https://github.com/hhoppe/advent_of_code/raw/main/2020/results/day17c.gif\" width=\"340\">\n",
    "</p>\n",
    "<p>\n",
    "<a href=\"#day20\">day20</a> <img src=\"https://github.com/hhoppe/advent_of_code/raw/main/2020/results/day20a.png\" width=\"250\">&emsp;\n",
    "<img src=\"https://github.com/hhoppe/advent_of_code/raw/main/2020/results/day20b.png\" width=\"200\">&emsp;\n",
    "<a href=\"#day24\">day24</a> <img src=\"https://github.com/hhoppe/advent_of_code/raw/main/2020/results/day24c.gif\" width=\"250\">\n",
    "</p>"
   ]
  },
  {
   "cell_type": "markdown",
   "id": "b6c4d08d",
   "metadata": {},
   "source": [
    "<a name=\"preamble\"></a>\n",
    "## Preamble"
   ]
  },
  {
   "cell_type": "code",
   "execution_count": 1,
   "id": "c3d784f1",
   "metadata": {
    "execution": {
     "iopub.execute_input": "2023-04-16T23:50:37.719622Z",
     "iopub.status.busy": "2023-04-16T23:50:37.719474Z",
     "iopub.status.idle": "2023-04-16T23:50:37.848274Z",
     "shell.execute_reply": "2023-04-16T23:50:37.847722Z",
     "shell.execute_reply.started": "2023-04-16T23:50:37.719608Z"
    },
    "tags": []
   },
   "outputs": [],
   "source": [
    "!command -v ffmpeg >/dev/null || (apt-get -qq update && apt-get -qq -y install ffmpeg) >/dev/null"
   ]
  },
  {
   "cell_type": "code",
   "execution_count": 2,
   "id": "bbb491ed",
   "metadata": {
    "execution": {
     "iopub.execute_input": "2023-04-16T23:50:37.849678Z",
     "iopub.status.busy": "2023-04-16T23:50:37.849385Z",
     "iopub.status.idle": "2023-04-16T23:50:39.288284Z",
     "shell.execute_reply": "2023-04-16T23:50:39.287739Z",
     "shell.execute_reply.started": "2023-04-16T23:50:37.849665Z"
    },
    "tags": []
   },
   "outputs": [],
   "source": [
    "!pip install -q advent-of-code-hhoppe hhoppe-tools mediapy more-itertools numba"
   ]
  },
  {
   "cell_type": "code",
   "execution_count": 3,
   "id": "b385dd25",
   "metadata": {
    "execution": {
     "iopub.execute_input": "2023-04-16T23:50:39.289192Z",
     "iopub.status.busy": "2023-04-16T23:50:39.288995Z",
     "iopub.status.idle": "2023-04-16T23:50:39.726265Z",
     "shell.execute_reply": "2023-04-16T23:50:39.725654Z",
     "shell.execute_reply.started": "2023-04-16T23:50:39.289178Z"
    },
    "tags": []
   },
   "outputs": [],
   "source": [
    "from __future__ import annotations\n",
    "\n",
    "import bisect\n",
    "import collections\n",
    "from collections.abc import Iterable\n",
    "import functools\n",
    "import itertools\n",
    "import math\n",
    "import operator\n",
    "import pathlib\n",
    "import re\n",
    "import sys\n",
    "import types\n",
    "from typing import Any\n",
    "\n",
    "import advent_of_code_hhoppe  # https://github.com/hhoppe/advent-of-code-hhoppe/blob/main/advent_of_code_hhoppe/__init__.py\n",
    "import hhoppe_tools as hh  # https://github.com/hhoppe/hhoppe-tools/blob/main/hhoppe_tools/__init__.py\n",
    "import matplotlib\n",
    "import matplotlib.pyplot as plt\n",
    "import mediapy as media\n",
    "import more_itertools\n",
    "import numpy as np"
   ]
  },
  {
   "cell_type": "code",
   "execution_count": 4,
   "id": "3875ebaa",
   "metadata": {
    "execution": {
     "iopub.execute_input": "2023-04-16T23:50:39.727557Z",
     "iopub.status.busy": "2023-04-16T23:50:39.727021Z",
     "iopub.status.idle": "2023-04-16T23:50:39.743772Z",
     "shell.execute_reply": "2023-04-16T23:50:39.743199Z",
     "shell.execute_reply.started": "2023-04-16T23:50:39.727541Z"
    },
    "tags": []
   },
   "outputs": [],
   "source": [
    "if not media.video_is_available():\n",
    "  media.show_videos = lambda *a, **kw: print('Creating video is unavailable.')"
   ]
  },
  {
   "cell_type": "code",
   "execution_count": 5,
   "id": "4f31e24a",
   "metadata": {
    "execution": {
     "iopub.execute_input": "2023-04-16T23:50:39.744681Z",
     "iopub.status.busy": "2023-04-16T23:50:39.744424Z",
     "iopub.status.idle": "2023-04-16T23:50:39.747709Z",
     "shell.execute_reply": "2023-04-16T23:50:39.747044Z",
     "shell.execute_reply.started": "2023-04-16T23:50:39.744670Z"
    },
    "tags": []
   },
   "outputs": [],
   "source": [
    "hh.start_timing_notebook_cells()"
   ]
  },
  {
   "cell_type": "code",
   "execution_count": 6,
   "id": "3760ff24",
   "metadata": {
    "execution": {
     "iopub.execute_input": "2023-04-16T23:50:39.748613Z",
     "iopub.status.busy": "2023-04-16T23:50:39.748462Z",
     "iopub.status.idle": "2023-04-16T23:50:39.758189Z",
     "shell.execute_reply": "2023-04-16T23:50:39.757619Z",
     "shell.execute_reply.started": "2023-04-16T23:50:39.748601Z"
    },
    "tags": []
   },
   "outputs": [],
   "source": [
    "YEAR = 2020\n",
    "SHOW_BIG_MEDIA = False\n",
    "if pathlib.Path('results').is_dir():\n",
    "  media.set_show_save_dir('results')"
   ]
  },
  {
   "cell_type": "code",
   "execution_count": 7,
   "id": "d71eb37c",
   "metadata": {
    "execution": {
     "iopub.execute_input": "2023-04-16T23:50:39.760911Z",
     "iopub.status.busy": "2023-04-16T23:50:39.760648Z",
     "iopub.status.idle": "2023-04-16T23:50:40.173036Z",
     "shell.execute_reply": "2023-04-16T23:50:40.172475Z",
     "shell.execute_reply.started": "2023-04-16T23:50:39.760896Z"
    },
    "tags": []
   },
   "outputs": [],
   "source": [
    "# (1) To obtain puzzle inputs and answers, we first try these paths/URLs:\n",
    "PROFILE = 'google.Hugues_Hoppe.965276'\n",
    "# PROFILE = 'github.hhoppe.1452460'\n",
    "TAR_URL = f'https://github.com/hhoppe/advent_of_code/raw/main/{YEAR}/data/{PROFILE}.tar.gz'\n",
    "if 1:\n",
    "  hh.run(\n",
    "      '{ [ -d data ] || mkdir data; } && cd data &&'\n",
    "      f' {{ [ -f {PROFILE}.tar.gz ] || wget -q {TAR_URL}; }} &&'\n",
    "      f' tar xzf {PROFILE}.tar.gz'\n",
    "  )\n",
    "INPUT_URL = f'data/{PROFILE}/{{year}}_{{day:02d}}_input.txt'\n",
    "ANSWER_URL = f'data/{PROFILE}/{{year}}_{{day:02d}}{{part_letter}}_answer.txt'"
   ]
  },
  {
   "cell_type": "code",
   "execution_count": 8,
   "id": "d1f5a61c",
   "metadata": {
    "execution": {
     "iopub.execute_input": "2023-04-16T23:50:40.173911Z",
     "iopub.status.busy": "2023-04-16T23:50:40.173682Z",
     "iopub.status.idle": "2023-04-16T23:50:40.176590Z",
     "shell.execute_reply": "2023-04-16T23:50:40.176115Z",
     "shell.execute_reply.started": "2023-04-16T23:50:40.173899Z"
    },
    "tags": []
   },
   "outputs": [],
   "source": [
    "# (2) If URL is not found, we may try adventofcode.com using a session cookie:\n",
    "if 0:\n",
    "  # !rm -f ~/.config/aocd/token*; mkdir -p ~/.config/aocd; echo 53616... >~/.config/aocd/token\n",
    "  # where \"53616...\" is the session cookie from \"adventofcode.com\" (valid 1 month).\n",
    "  hh.run('pip install -q advent-of-code-data')  # https://github.com/wimglenn/advent-of-code-data\n",
    "  import aocd  # pylint: disable=unused-import # noqa"
   ]
  },
  {
   "cell_type": "code",
   "execution_count": 9,
   "id": "21c616d2",
   "metadata": {
    "execution": {
     "iopub.execute_input": "2023-04-16T23:50:40.177398Z",
     "iopub.status.busy": "2023-04-16T23:50:40.177171Z",
     "iopub.status.idle": "2023-04-16T23:50:40.188406Z",
     "shell.execute_reply": "2023-04-16T23:50:40.187669Z",
     "shell.execute_reply.started": "2023-04-16T23:50:40.177388Z"
    },
    "tags": []
   },
   "outputs": [],
   "source": [
    "try:\n",
    "  import numba\n",
    "except ModuleNotFoundError:\n",
    "  print('Package numba is unavailable.')\n",
    "  numba = sys.modules['numba'] = types.ModuleType('numba')\n",
    "  numba.njit = hh.noop_decorator\n",
    "using_numba = hasattr(numba, 'jit')"
   ]
  },
  {
   "cell_type": "code",
   "execution_count": 10,
   "id": "62ac3037",
   "metadata": {
    "execution": {
     "iopub.execute_input": "2023-04-16T23:50:40.189433Z",
     "iopub.status.busy": "2023-04-16T23:50:40.189150Z",
     "iopub.status.idle": "2023-04-16T23:50:40.197647Z",
     "shell.execute_reply": "2023-04-16T23:50:40.197093Z",
     "shell.execute_reply.started": "2023-04-16T23:50:40.189419Z"
    },
    "tags": []
   },
   "outputs": [],
   "source": [
    "advent = advent_of_code_hhoppe.Advent(year=YEAR, input_url=INPUT_URL, answer_url=ANSWER_URL)"
   ]
  },
  {
   "cell_type": "code",
   "execution_count": 11,
   "id": "cbad9830",
   "metadata": {
    "execution": {
     "iopub.execute_input": "2023-04-16T23:50:40.198612Z",
     "iopub.status.busy": "2023-04-16T23:50:40.198292Z",
     "iopub.status.idle": "2023-04-16T23:50:40.209584Z",
     "shell.execute_reply": "2023-04-16T23:50:40.208845Z",
     "shell.execute_reply.started": "2023-04-16T23:50:40.198595Z"
    },
    "tags": []
   },
   "outputs": [
    {
     "data": {
      "text/html": [
       "<style>.jp-Cell.jp-MarkdownCell {max-width: 1016px!important;}</style>"
      ],
      "text/plain": [
       "<IPython.core.display.HTML object>"
      ]
     },
     "metadata": {},
     "output_type": "display_data"
    }
   ],
   "source": [
    "hh.adjust_jupyterlab_markdown_width()"
   ]
  },
  {
   "cell_type": "markdown",
   "id": "cb62f9a0",
   "metadata": {},
   "source": [
    "### Helper functions"
   ]
  },
  {
   "cell_type": "code",
   "execution_count": 12,
   "id": "520bdb08",
   "metadata": {
    "execution": {
     "iopub.execute_input": "2023-04-16T23:50:40.210911Z",
     "iopub.status.busy": "2023-04-16T23:50:40.210502Z",
     "iopub.status.idle": "2023-04-16T23:50:40.215504Z",
     "shell.execute_reply": "2023-04-16T23:50:40.214976Z",
     "shell.execute_reply.started": "2023-04-16T23:50:40.210894Z"
    },
    "lines_to_next_cell": 2,
    "tags": []
   },
   "outputs": [],
   "source": [
    "check_eq = hh.check_eq\n",
    "_ORIGINAL_GLOBALS = list(globals())"
   ]
  },
  {
   "cell_type": "markdown",
   "id": "0900a714",
   "metadata": {},
   "source": [
    "<a name=\"day1\"></a>\n",
    "## Day 1: Find summing numbers"
   ]
  },
  {
   "cell_type": "markdown",
   "id": "68cc5820",
   "metadata": {},
   "source": [
    "- Part 1: Given a list of numbers, find two entries that sum to 2020 and multiply those entries together.\n",
    "\n",
    "- Part 2: Find three entries that sum to 2020 and multiply those entries together."
   ]
  },
  {
   "cell_type": "code",
   "execution_count": 13,
   "id": "3718e7f9",
   "metadata": {
    "execution": {
     "iopub.execute_input": "2023-04-16T23:50:40.216396Z",
     "iopub.status.busy": "2023-04-16T23:50:40.216120Z",
     "iopub.status.idle": "2023-04-16T23:50:40.236000Z",
     "shell.execute_reply": "2023-04-16T23:50:40.235481Z",
     "shell.execute_reply.started": "2023-04-16T23:50:40.216385Z"
    }
   },
   "outputs": [
    {
     "data": {
      "text/markdown": [
       "For [day 1](https://adventofcode.com/2020/day/1), `puzzle.input` has 200 lines:"
      ],
      "text/plain": [
       "<IPython.core.display.Markdown object>"
      ]
     },
     "metadata": {},
     "output_type": "display_data"
    },
    {
     "name": "stdout",
     "output_type": "stream",
     "text": [
      "1686\n",
      "1983\n",
      "1801\n",
      "1890\n",
      "1910\n",
      "1722\n",
      "1571\n",
      "1952\n",
      " ...\n",
      "1261\n",
      "1154\n",
      "1769\n",
      "1529\n"
     ]
    },
    {
     "data": {
      "text/markdown": [
       "The stored answers are: `{1: '651651', 2: '214486272'}`"
      ],
      "text/plain": [
       "<IPython.core.display.Markdown object>"
      ]
     },
     "metadata": {},
     "output_type": "display_data"
    }
   ],
   "source": [
    "puzzle = advent.puzzle(day=1)"
   ]
  },
  {
   "cell_type": "code",
   "execution_count": 14,
   "id": "844a8583",
   "metadata": {
    "execution": {
     "iopub.execute_input": "2023-04-16T23:50:40.237139Z",
     "iopub.status.busy": "2023-04-16T23:50:40.236718Z",
     "iopub.status.idle": "2023-04-16T23:50:40.239669Z",
     "shell.execute_reply": "2023-04-16T23:50:40.239214Z",
     "shell.execute_reply.started": "2023-04-16T23:50:40.237126Z"
    }
   },
   "outputs": [],
   "source": [
    "# A test input provided in the puzzle description:\n",
    "s1 = \"\"\"\\\n",
    "1721\n",
    "979\n",
    "366\n",
    "299\n",
    "675\n",
    "1456\n",
    "\"\"\""
   ]
  },
  {
   "cell_type": "code",
   "execution_count": 15,
   "id": "65536cb4",
   "metadata": {
    "execution": {
     "iopub.execute_input": "2023-04-16T23:50:40.240407Z",
     "iopub.status.busy": "2023-04-16T23:50:40.240188Z",
     "iopub.status.idle": "2023-04-16T23:50:40.249474Z",
     "shell.execute_reply": "2023-04-16T23:50:40.248946Z",
     "shell.execute_reply.started": "2023-04-16T23:50:40.240397Z"
    }
   },
   "outputs": [
    {
     "name": "stdout",
     "output_type": "stream",
     "text": [
      "(Part 1: 0.000 s)\n"
     ]
    }
   ],
   "source": [
    "def day1(s, *, total=2020):\n",
    "  entries = set(map(int, s.split()))\n",
    "  for a in entries:\n",
    "    b = total - a\n",
    "    if b in entries:\n",
    "      return a * b\n",
    "  return None\n",
    "\n",
    "\n",
    "check_eq(day1(s1), 514579)  # Reference answer provided in the description.\n",
    "puzzle.verify(1, day1)"
   ]
  },
  {
   "cell_type": "code",
   "execution_count": 16,
   "id": "d91e1cf9",
   "metadata": {
    "execution": {
     "iopub.execute_input": "2023-04-16T23:50:40.250345Z",
     "iopub.status.busy": "2023-04-16T23:50:40.250092Z",
     "iopub.status.idle": "2023-04-16T23:50:40.259450Z",
     "shell.execute_reply": "2023-04-16T23:50:40.258714Z",
     "shell.execute_reply.started": "2023-04-16T23:50:40.250333Z"
    }
   },
   "outputs": [
    {
     "name": "stdout",
     "output_type": "stream",
     "text": [
      "(Part 2: 0.001 s)\n"
     ]
    }
   ],
   "source": [
    "def day1_part2(s, *, total=2020):\n",
    "  entries = set(map(int, s.split()))\n",
    "  for a in entries:\n",
    "    for b in entries:\n",
    "      c = total - a - b\n",
    "      if c in entries:\n",
    "        return a * b * c\n",
    "  return None\n",
    "\n",
    "\n",
    "check_eq(day1_part2(s1), 241861950)\n",
    "puzzle.verify(2, day1_part2)"
   ]
  },
  {
   "cell_type": "markdown",
   "id": "c9e851a5",
   "metadata": {},
   "source": [
    "<a name=\"day2\"></a>\n",
    "## Day 2: Valid passwords"
   ]
  },
  {
   "cell_type": "markdown",
   "id": "593612e1",
   "metadata": {},
   "source": [
    "Given input lines each containing a password rule (`i-j c`) and a password, count the number of \"valid\" passwords such that:\n",
    "\n",
    "- Part 1: The number of instances of character `c` in the password is in the range `[i, j]`.\n",
    "\n",
    "- Part 2: The password characters at positions `i` and `j` contain exactly one instance of character `c`."
   ]
  },
  {
   "cell_type": "code",
   "execution_count": 17,
   "id": "c5dfc31f",
   "metadata": {
    "execution": {
     "iopub.execute_input": "2023-04-16T23:50:40.260488Z",
     "iopub.status.busy": "2023-04-16T23:50:40.260178Z",
     "iopub.status.idle": "2023-04-16T23:50:40.279947Z",
     "shell.execute_reply": "2023-04-16T23:50:40.279440Z",
     "shell.execute_reply.started": "2023-04-16T23:50:40.260474Z"
    }
   },
   "outputs": [
    {
     "data": {
      "text/markdown": [
       "For [day 2](https://adventofcode.com/2020/day/2), `puzzle.input` has 1_000 lines:"
      ],
      "text/plain": [
       "<IPython.core.display.Markdown object>"
      ]
     },
     "metadata": {},
     "output_type": "display_data"
    },
    {
     "name": "stdout",
     "output_type": "stream",
     "text": [
      "4-7 z: zzzfzlzzz\n",
      "3-4 l: blllk\n",
      "8-11 j: jjjjjjjgjjjj\n",
      "6-7 l: lllhlbl\n",
      "10-13 x: xmhfsbjxptxxv\n",
      "2-3 s: ssvxszrvj\n",
      "4-6 r: rtrrrqv\n",
      "5-6 c: cbccxc\n",
      " ...\n",
      "9-10 w: wwwwwwbwwhww\n",
      "5-6 g: kgggjg\n",
      "4-8 s: ssssssscs\n",
      "12-20 t: ttttttltttvttttttttt\n"
     ]
    },
    {
     "data": {
      "text/markdown": [
       "The stored answers are: `{1: '396', 2: '428'}`"
      ],
      "text/plain": [
       "<IPython.core.display.Markdown object>"
      ]
     },
     "metadata": {},
     "output_type": "display_data"
    }
   ],
   "source": [
    "puzzle = advent.puzzle(day=2)"
   ]
  },
  {
   "cell_type": "code",
   "execution_count": 18,
   "id": "edea671d",
   "metadata": {
    "execution": {
     "iopub.execute_input": "2023-04-16T23:50:40.280858Z",
     "iopub.status.busy": "2023-04-16T23:50:40.280612Z",
     "iopub.status.idle": "2023-04-16T23:50:40.283459Z",
     "shell.execute_reply": "2023-04-16T23:50:40.282935Z",
     "shell.execute_reply.started": "2023-04-16T23:50:40.280846Z"
    }
   },
   "outputs": [],
   "source": [
    "s1 = \"\"\"\\\n",
    "1-3 a: abcde\n",
    "1-3 b: cdefg\n",
    "2-9 c: ccccccccc\n",
    "\"\"\""
   ]
  },
  {
   "cell_type": "code",
   "execution_count": 19,
   "id": "e9be2ecb",
   "metadata": {
    "execution": {
     "iopub.execute_input": "2023-04-16T23:50:40.284075Z",
     "iopub.status.busy": "2023-04-16T23:50:40.283945Z",
     "iopub.status.idle": "2023-04-16T23:50:40.297030Z",
     "shell.execute_reply": "2023-04-16T23:50:40.296452Z",
     "shell.execute_reply.started": "2023-04-16T23:50:40.284063Z"
    }
   },
   "outputs": [
    {
     "name": "stdout",
     "output_type": "stream",
     "text": [
      "(Part 1: 0.002 s)\n",
      "(Part 2: 0.001 s)\n"
     ]
    }
   ],
   "source": [
    "def day2(s, *, part2=False):\n",
    "  lines = s.splitlines()\n",
    "  num_valid = 0\n",
    "  for line in lines:\n",
    "    vmin0, vmax0, ch, password = hh.re_groups(r'^(\\d+)-(\\d+) (\\w): (\\w+)$', line)\n",
    "    vmin, vmax = int(vmin0), int(vmax0)\n",
    "    if part2:\n",
    "      num_valid += (password[vmin - 1] == ch) ^ (password[vmax - 1] == ch)\n",
    "    else:\n",
    "      num_valid += vmin <= sum(c == ch for c in password) <= vmax\n",
    "  return num_valid\n",
    "\n",
    "\n",
    "check_eq(day2(s1), 2)\n",
    "puzzle.verify(1, day2)\n",
    "\n",
    "day2_part2 = functools.partial(day2, part2=True)\n",
    "check_eq(day2_part2(s1), 1)\n",
    "puzzle.verify(2, day2_part2)"
   ]
  },
  {
   "cell_type": "markdown",
   "id": "1569a2cd",
   "metadata": {},
   "source": [
    "<a name=\"day3\"></a>\n",
    "## Day 3: Count intersections in grid"
   ]
  },
  {
   "cell_type": "markdown",
   "id": "9c4b3efb",
   "metadata": {},
   "source": [
    "Given a 2D grid containing sparse \"trees\", determine the number of trees encountered when moving from the top-left to the bottom row with a slope `(dy, dx)` and using wraparound addressing on the horizontal axis.\n",
    "\n",
    "- Part 1: Count the trees for the slope `(dy, dx) = (1, 3)`\n",
    "\n",
    "- Part 2: Compute the product of the tree counts for slopes `(1, 1)`, `(1, 3)`, `(1, 5)`, `(1, 7)`, and `(2, 1)`."
   ]
  },
  {
   "cell_type": "code",
   "execution_count": 20,
   "id": "366ce2e8",
   "metadata": {
    "execution": {
     "iopub.execute_input": "2023-04-16T23:50:40.297977Z",
     "iopub.status.busy": "2023-04-16T23:50:40.297777Z",
     "iopub.status.idle": "2023-04-16T23:50:40.321720Z",
     "shell.execute_reply": "2023-04-16T23:50:40.320986Z",
     "shell.execute_reply.started": "2023-04-16T23:50:40.297962Z"
    },
    "tags": []
   },
   "outputs": [
    {
     "data": {
      "text/markdown": [
       "For [day 3](https://adventofcode.com/2020/day/3), `puzzle.input` has 323 lines:"
      ],
      "text/plain": [
       "<IPython.core.display.Markdown object>"
      ]
     },
     "metadata": {},
     "output_type": "display_data"
    },
    {
     "name": "stdout",
     "output_type": "stream",
     "text": [
      "........#.............#........\n",
      "...#....#...#....#.............\n",
      ".#..#...#............#.....#..#\n",
      "..#......#..##............###..\n",
      "..........#......#..#..#.......\n",
      ".#..#.......#.........#.#......\n",
      ".........#..#....##..#.##....#.\n",
      "..#....##...#..................\n",
      " ...\n",
      "..................#...#....#.##\n",
      "......#.#....#.................\n",
      "......#.#.....#.....#..##......\n",
      "#..##...........#..#.....#.##..\n"
     ]
    },
    {
     "data": {
      "text/markdown": [
       "The stored answers are: `{1: '148', 2: '727923200'}`"
      ],
      "text/plain": [
       "<IPython.core.display.Markdown object>"
      ]
     },
     "metadata": {},
     "output_type": "display_data"
    }
   ],
   "source": [
    "puzzle = advent.puzzle(day=3)"
   ]
  },
  {
   "cell_type": "code",
   "execution_count": 21,
   "id": "0fcf0bd1",
   "metadata": {
    "execution": {
     "iopub.execute_input": "2023-04-16T23:50:40.323338Z",
     "iopub.status.busy": "2023-04-16T23:50:40.322731Z",
     "iopub.status.idle": "2023-04-16T23:50:40.326293Z",
     "shell.execute_reply": "2023-04-16T23:50:40.325620Z",
     "shell.execute_reply.started": "2023-04-16T23:50:40.323321Z"
    },
    "tags": []
   },
   "outputs": [],
   "source": [
    "s1 = \"\"\"\\\n",
    "..##.......\n",
    "#...#...#..\n",
    ".#....#..#.\n",
    "..#.#...#.#\n",
    ".#...##..#.\n",
    "..#.##.....\n",
    ".#.#.#....#\n",
    ".#........#\n",
    "#.##...#...\n",
    "#...##....#\n",
    ".#..#...#.#\n",
    "\"\"\""
   ]
  },
  {
   "cell_type": "code",
   "execution_count": 22,
   "id": "ad64a069",
   "metadata": {
    "execution": {
     "iopub.execute_input": "2023-04-16T23:50:40.329532Z",
     "iopub.status.busy": "2023-04-16T23:50:40.329142Z",
     "iopub.status.idle": "2023-04-16T23:50:40.339498Z",
     "shell.execute_reply": "2023-04-16T23:50:40.338998Z",
     "shell.execute_reply.started": "2023-04-16T23:50:40.329517Z"
    },
    "tags": []
   },
   "outputs": [
    {
     "name": "stdout",
     "output_type": "stream",
     "text": [
      "(Part 1: 0.001 s)\n",
      "(Part 2: 0.001 s)\n"
     ]
    }
   ],
   "source": [
    "def day3a(s, *, part2=False):  # Slower.\n",
    "  dyxs = ((1, 1), (1, 3), (1, 5), (1, 7), (2, 1)) if part2 else ((1, 3),)\n",
    "  grid = np.array(list(map(list, s.splitlines())))\n",
    "\n",
    "  def get_count(dy, dx):\n",
    "    y, x = 0, 0\n",
    "    count = 0\n",
    "    while y < grid.shape[0]:\n",
    "      count += grid[y, x] == '#'\n",
    "      y, x = y + dy, (x + dx) % grid.shape[1]\n",
    "    return count\n",
    "\n",
    "  return math.prod(get_count(dy, dx) for dy, dx in dyxs)\n",
    "\n",
    "\n",
    "check_eq(day3a(s1), 7)\n",
    "puzzle.verify(1, day3a)\n",
    "\n",
    "day3a_part2 = functools.partial(day3a, part2=True)\n",
    "check_eq(day3a_part2(s1), 336)\n",
    "puzzle.verify(2, day3a_part2)"
   ]
  },
  {
   "cell_type": "code",
   "execution_count": 23,
   "id": "b9ba60e2-119e-4c97-83ad-21aff65e63ec",
   "metadata": {
    "execution": {
     "iopub.execute_input": "2023-04-16T23:50:40.340311Z",
     "iopub.status.busy": "2023-04-16T23:50:40.340027Z",
     "iopub.status.idle": "2023-04-16T23:50:40.351404Z",
     "shell.execute_reply": "2023-04-16T23:50:40.350922Z",
     "shell.execute_reply.started": "2023-04-16T23:50:40.340299Z"
    },
    "tags": []
   },
   "outputs": [
    {
     "name": "stdout",
     "output_type": "stream",
     "text": [
      "(Part 1: 0.000 s)\n",
      "(Part 2: 0.001 s)\n"
     ]
    }
   ],
   "source": [
    "def day3(s, *, part2=False, visualize=False):  # Faster.\n",
    "  dyxs = ((1, 1), (1, 3), (1, 5), (1, 7), (2, 1)) if part2 else ((1, 3),)\n",
    "  grid = hh.grid_from_string(s)\n",
    "\n",
    "  def get_count(dy, dx):\n",
    "    y = np.arange(0, grid.shape[0], dy)\n",
    "    x = (np.arange(len(y)) * dx) % grid.shape[1]\n",
    "    return np.count_nonzero(grid[y, x] == '#')\n",
    "\n",
    "  if visualize:\n",
    "    image = hh.to_image(grid == '#', 245, 0)\n",
    "    for index, (dy, dx) in enumerate(dyxs):\n",
    "      y = np.arange(0, grid.shape[0], dy)\n",
    "      x = (np.arange(len(y)) * dx) % grid.shape[1]\n",
    "      color = [(0, 0, 255), (0, 255, 0), (255, 0, 0), (200, 200, 0), (0, 200, 200)][index]\n",
    "      image[y, x] = color\n",
    "    image = image.repeat(2, axis=0).repeat(2, axis=1)\n",
    "    image = np.rot90(image)\n",
    "    hh.display_html('(Image rotated by 90 degrees.  This visualization is not so helpful.)')\n",
    "    media.show_image(image, title='day3')\n",
    "\n",
    "  return math.prod(get_count(dy, dx) for dy, dx in dyxs)\n",
    "\n",
    "\n",
    "check_eq(day3(s1), 7)\n",
    "puzzle.verify(1, day3)\n",
    "\n",
    "day3_part2 = functools.partial(day3, part2=True)\n",
    "check_eq(day3_part2(s1), 336)\n",
    "puzzle.verify(2, day3_part2)"
   ]
  },
  {
   "cell_type": "code",
   "execution_count": 24,
   "id": "58f8a255-f136-4b52-a186-90979bb3df40",
   "metadata": {
    "execution": {
     "iopub.execute_input": "2023-04-16T23:50:40.352667Z",
     "iopub.status.busy": "2023-04-16T23:50:40.352245Z",
     "iopub.status.idle": "2023-04-16T23:50:40.373282Z",
     "shell.execute_reply": "2023-04-16T23:50:40.372468Z",
     "shell.execute_reply.started": "2023-04-16T23:50:40.352650Z"
    },
    "tags": []
   },
   "outputs": [
    {
     "data": {
      "text/html": [
       "(Image rotated by 90 degrees.  This visualization is not so helpful.)"
      ],
      "text/plain": [
       "<IPython.core.display.HTML object>"
      ]
     },
     "metadata": {},
     "output_type": "display_data"
    },
    {
     "data": {
      "text/html": [
       "<table class=\"show_images\" style=\"border-spacing:0px;\"><tr><td style=\"padding:1px;\"><div style=\"display:flex; align-items:left;\">\n",
       "      <div style=\"display:flex; flex-direction:column; align-items:center;\">\n",
       "      <div>day3</div><div><img width=\"646\" height=\"62\" style=\"image-rendering:auto; object-fit:cover;\" src=\"data:image/png;base64,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\"/></div></div></div></td></tr></table>"
      ],
      "text/plain": [
       "<IPython.core.display.HTML object>"
      ]
     },
     "metadata": {},
     "output_type": "display_data"
    }
   ],
   "source": [
    "_ = day3(puzzle.input, visualize=True, part2=True)"
   ]
  },
  {
   "cell_type": "markdown",
   "id": "4ff160c9",
   "metadata": {},
   "source": [
    "<a name=\"day4\"></a>\n",
    "## Day 4: Valid text fields"
   ]
  },
  {
   "cell_type": "markdown",
   "id": "945b32a0",
   "metadata": {},
   "source": [
    "Given records containing various fields, count the number of valid records.\n",
    "\n",
    "- Part 1: Each record is valid if it contains at least some required fields.\n",
    "\n",
    "- Part 2: The fields also satisfy a set of requirements."
   ]
  },
  {
   "cell_type": "code",
   "execution_count": 25,
   "id": "9373bf3b",
   "metadata": {
    "execution": {
     "iopub.execute_input": "2023-04-16T23:50:40.374533Z",
     "iopub.status.busy": "2023-04-16T23:50:40.374317Z",
     "iopub.status.idle": "2023-04-16T23:50:40.392767Z",
     "shell.execute_reply": "2023-04-16T23:50:40.392279Z",
     "shell.execute_reply.started": "2023-04-16T23:50:40.374520Z"
    }
   },
   "outputs": [
    {
     "data": {
      "text/markdown": [
       "For [day 4](https://adventofcode.com/2020/day/4), `puzzle.input` has 1_102 lines:"
      ],
      "text/plain": [
       "<IPython.core.display.Markdown object>"
      ]
     },
     "metadata": {},
     "output_type": "display_data"
    },
    {
     "name": "stdout",
     "output_type": "stream",
     "text": [
      "hcl:5d90f0 cid:270 ecl:#66dc9c hgt:62cm byr:1945 pid:63201172 eyr:2026\n",
      "\n",
      "ecl:amb byr:1943 iyr:2014 eyr:2028\n",
      "pid:333051831\n",
      "\n",
      "byr:1971\n",
      "eyr:2021 iyr:2015 pid:158388040 hcl:#18171d ecl:brn hgt:179cm\n",
      "\n",
      " ...\n",
      "hcl:#7d3b0c pid:431742871\n",
      "ecl:hzl hgt:169cm cid:340\n",
      "eyr:2023\n",
      "iyr:2017 byr:1994\n"
     ]
    },
    {
     "data": {
      "text/markdown": [
       "The stored answers are: `{1: '216', 2: '150'}`"
      ],
      "text/plain": [
       "<IPython.core.display.Markdown object>"
      ]
     },
     "metadata": {},
     "output_type": "display_data"
    }
   ],
   "source": [
    "puzzle = advent.puzzle(day=4)"
   ]
  },
  {
   "cell_type": "code",
   "execution_count": 26,
   "id": "f587dbfb",
   "metadata": {
    "execution": {
     "iopub.execute_input": "2023-04-16T23:50:40.393660Z",
     "iopub.status.busy": "2023-04-16T23:50:40.393383Z",
     "iopub.status.idle": "2023-04-16T23:50:40.396653Z",
     "shell.execute_reply": "2023-04-16T23:50:40.396165Z",
     "shell.execute_reply.started": "2023-04-16T23:50:40.393648Z"
    },
    "lines_to_next_cell": 2
   },
   "outputs": [],
   "source": [
    "# spellcheck=off\n",
    "s1 = \"\"\"\\\n",
    "ecl:gry pid:860033327 eyr:2020 hcl:#fffffd\n",
    "byr:1937 iyr:2017 cid:147 hgt:183cm\n",
    "\n",
    "iyr:2013 ecl:amb cid:350 eyr:2023 pid:028048884\n",
    "hcl:#cfa07d byr:1929\n",
    "\n",
    "hcl:#ae17e1 iyr:2013\n",
    "eyr:2024\n",
    "ecl:brn pid:760753108 byr:1931\n",
    "hgt:179cm\n",
    "\n",
    "hcl:#cfa07d eyr:2025 pid:166559648\n",
    "iyr:2011 ecl:brn hgt:59in\n",
    "\"\"\"\n",
    "\n",
    "# all invalid\n",
    "s2 = \"\"\"\\\n",
    "eyr:1972 cid:100\n",
    "hcl:#18171d ecl:amb hgt:170 pid:186cm iyr:2018 byr:1926\n",
    "\n",
    "iyr:2019\n",
    "hcl:#602927 eyr:1967 hgt:170cm\n",
    "ecl:grn pid:012533040 byr:1946\n",
    "\n",
    "hcl:dab227 iyr:2012\n",
    "ecl:brn hgt:182cm pid:021572410 eyr:2020 byr:1992 cid:277\n",
    "\n",
    "hgt:59cm ecl:zzz\n",
    "eyr:2038 hcl:74454a iyr:2023\n",
    "pid:3556412378 byr:2007\n",
    "\"\"\"\n",
    "\n",
    "# all valid\n",
    "s3 = \"\"\"\\\n",
    "pid:087499704 hgt:74in ecl:grn iyr:2012 eyr:2030 byr:1980\n",
    "hcl:#623a2f\n",
    "\n",
    "eyr:2029 ecl:blu cid:129 byr:1989\n",
    "iyr:2014 pid:896056539 hcl:#a97842 hgt:165cm\n",
    "\n",
    "hcl:#888785\n",
    "hgt:164cm byr:2001 iyr:2015 cid:88\n",
    "pid:545766238 ecl:hzl\n",
    "eyr:2022\n",
    "\n",
    "iyr:2010 hgt:158cm hcl:#b6652a ecl:blu byr:1944 eyr:2021 pid:093154719\n",
    "\"\"\"\n",
    "# spellcheck=on"
   ]
  },
  {
   "cell_type": "code",
   "execution_count": 27,
   "id": "a17e9120",
   "metadata": {
    "execution": {
     "iopub.execute_input": "2023-04-16T23:50:40.397250Z",
     "iopub.status.busy": "2023-04-16T23:50:40.397125Z",
     "iopub.status.idle": "2023-04-16T23:50:40.407755Z",
     "shell.execute_reply": "2023-04-16T23:50:40.407272Z",
     "shell.execute_reply.started": "2023-04-16T23:50:40.397240Z"
    },
    "lines_to_next_cell": 2
   },
   "outputs": [],
   "source": [
    "# Field requirements:\n",
    "# byr (Birth Year) - four digits; at least 1920 and at most 2002.\n",
    "# iyr (Issue Year) - four digits; at least 2010 and at most 2020.\n",
    "# eyr (Expiration Year) - four digits; at least 2020 and at most 2030.\n",
    "# hgt (Height) - a number followed by either cm or in:\n",
    "# If cm, the number must be at least 150 and at most 193.\n",
    "# If in, the number must be at least 59 and at most 76.\n",
    "# hcl (Hair Color) - a # followed by exactly six characters 0-9 or a-f.\n",
    "# ecl (Eye Color) - exactly one of: amb blu brn gry grn hzl oth.\n",
    "# pid (Passport ID) - a nine-digit number, including leading zeroes.\n",
    "# cid (Country ID) - ignored, missing or not."
   ]
  },
  {
   "cell_type": "code",
   "execution_count": 28,
   "id": "c226bd9f",
   "metadata": {
    "execution": {
     "iopub.execute_input": "2023-04-16T23:50:40.408431Z",
     "iopub.status.busy": "2023-04-16T23:50:40.408271Z",
     "iopub.status.idle": "2023-04-16T23:50:40.425875Z",
     "shell.execute_reply": "2023-04-16T23:50:40.424960Z",
     "shell.execute_reply.started": "2023-04-16T23:50:40.408420Z"
    }
   },
   "outputs": [
    {
     "name": "stdout",
     "output_type": "stream",
     "text": [
      "(Part 1: 0.002 s)\n",
      "(Part 2: 0.004 s)\n"
     ]
    }
   ],
   "source": [
    "def day4(s, *, part2=False):\n",
    "  passports = s.split('\\n\\n')\n",
    "\n",
    "  def part1_valid(fields):\n",
    "    required_fields = set('byr iyr eyr hgt hcl ecl pid'.split())\n",
    "    return all(field in fields for field in required_fields)\n",
    "\n",
    "  def year(field):\n",
    "    return int(hh.re_groups(r'^(\\d{4})$', fields[field])[0])\n",
    "\n",
    "  def part2_valid(fields):\n",
    "    try:\n",
    "      value, unit = hh.re_groups(r'^(\\d+)(cm|in)$', fields['hgt'])\n",
    "      return bool(\n",
    "          1920 <= year('byr') <= 2002  # pylint: disable=chained-comparison\n",
    "          and 2010 <= year('iyr') <= 2020\n",
    "          and 2020 <= year('eyr') <= 2030\n",
    "          and (unit != 'cm' or 150 <= int(value) <= 193)\n",
    "          and (unit != 'in' or 59 <= int(value) <= 76)\n",
    "          and re.fullmatch(r'#[0-9a-f]{6}', fields['hcl'])\n",
    "          and fields['ecl'] in 'amb blu brn gry grn hzl oth'.split()\n",
    "          and re.fullmatch(r'[0-9]{9}', fields['pid'])\n",
    "      )\n",
    "    except (KeyError, ValueError):\n",
    "      return False\n",
    "\n",
    "  num_valid = 0\n",
    "  for passport in passports:\n",
    "    fields: dict[str, str] = dict(\n",
    "        hh.re_groups(r'^(\\w\\w\\w):(\\S+)$', s_field)  # type: ignore[misc]\n",
    "        for s_field in passport.split()\n",
    "    )\n",
    "    num_valid += part2_valid(fields) if part2 else part1_valid(fields)\n",
    "\n",
    "  return num_valid\n",
    "\n",
    "\n",
    "check_eq(day4(s1), 2)\n",
    "puzzle.verify(1, day4)\n",
    "\n",
    "day4_part2 = functools.partial(day4, part2=True)\n",
    "check_eq(day4_part2(s2), 0)  # All records are invalid.\n",
    "check_eq(day4_part2(s3), 4)  # All records are valid.\n",
    "puzzle.verify(2, day4_part2)"
   ]
  },
  {
   "cell_type": "markdown",
   "id": "8f9a1524",
   "metadata": {},
   "source": [
    "<a name=\"day5\"></a>\n",
    "## Day 5: Free seat in grid"
   ]
  },
  {
   "cell_type": "markdown",
   "id": "905d5b4d",
   "metadata": {},
   "source": [
    "Given input lines, each specifying a seat identified using a binary encoding with symbols **B**ack, **F**ront, **L**eft, **R**ight.\n",
    "\n",
    "- Part 1: Determine the maximum seat id.\n",
    "\n",
    "- Part 2: Determine the missing seat id in the middle of the bunch."
   ]
  },
  {
   "cell_type": "code",
   "execution_count": 29,
   "id": "c06a8364",
   "metadata": {
    "execution": {
     "iopub.execute_input": "2023-04-16T23:50:40.426938Z",
     "iopub.status.busy": "2023-04-16T23:50:40.426763Z",
     "iopub.status.idle": "2023-04-16T23:50:40.451209Z",
     "shell.execute_reply": "2023-04-16T23:50:40.450560Z",
     "shell.execute_reply.started": "2023-04-16T23:50:40.426926Z"
    },
    "tags": []
   },
   "outputs": [
    {
     "data": {
      "text/markdown": [
       "For [day 5](https://adventofcode.com/2020/day/5), `puzzle.input` has 897 lines:"
      ],
      "text/plain": [
       "<IPython.core.display.Markdown object>"
      ]
     },
     "metadata": {},
     "output_type": "display_data"
    },
    {
     "name": "stdout",
     "output_type": "stream",
     "text": [
      "BFBBFFBRRL\n",
      "BFBFFFFRLL\n",
      "FBFBFFBRRR\n",
      "FFBBBFBRLL\n",
      "BBBFBFBRLR\n",
      "BFBBFBFLRR\n",
      "FBBBFFFRRL\n",
      "BBFFBFFLLL\n",
      " ...\n",
      "BBFBFBFRRL\n",
      "BFFBBBBLLL\n",
      "FBFFBFBRRR\n",
      "FBFFFFBRLR\n"
     ]
    },
    {
     "data": {
      "text/markdown": [
       "The stored answers are: `{1: '965', 2: '524'}`"
      ],
      "text/plain": [
       "<IPython.core.display.Markdown object>"
      ]
     },
     "metadata": {},
     "output_type": "display_data"
    }
   ],
   "source": [
    "puzzle = advent.puzzle(day=5)"
   ]
  },
  {
   "cell_type": "code",
   "execution_count": 30,
   "id": "a1195a60",
   "metadata": {
    "execution": {
     "iopub.execute_input": "2023-04-16T23:50:40.452333Z",
     "iopub.status.busy": "2023-04-16T23:50:40.452016Z",
     "iopub.status.idle": "2023-04-16T23:50:40.456981Z",
     "shell.execute_reply": "2023-04-16T23:50:40.456290Z",
     "shell.execute_reply.started": "2023-04-16T23:50:40.452318Z"
    },
    "lines_to_next_cell": 2,
    "tags": []
   },
   "outputs": [
    {
     "name": "stdout",
     "output_type": "stream",
     "text": [
      "(Part 1: 0.000 s)\n"
     ]
    }
   ],
   "source": [
    "# spellcheck=off\n",
    "def day5_seat_id(line):\n",
    "  return int(line.translate(str.maketrans('FBLR', '0101')), base=2)\n",
    "\n",
    "\n",
    "check_eq(day5_seat_id('FBFBBFFRLR'), 357)\n",
    "check_eq(day5_seat_id('BFFFBBFRRR'), 567)\n",
    "check_eq(day5_seat_id('FFFBBBFRRR'), 119)\n",
    "check_eq(day5_seat_id('BBFFBBFRLL'), 820)\n",
    "# spellcheck=on\n",
    "\n",
    "\n",
    "def day5(s):\n",
    "  return max(day5_seat_id(line) for line in s.split())\n",
    "\n",
    "\n",
    "puzzle.verify(1, day5)"
   ]
  },
  {
   "cell_type": "markdown",
   "id": "543f062f",
   "metadata": {
    "lines_to_next_cell": 2
   },
   "source": [
    "Part 2"
   ]
  },
  {
   "cell_type": "code",
   "execution_count": 31,
   "id": "84b5c0f5-03f7-43a0-83d0-1d3c714f2113",
   "metadata": {
    "execution": {
     "iopub.execute_input": "2023-04-16T23:50:40.458019Z",
     "iopub.status.busy": "2023-04-16T23:50:40.457740Z",
     "iopub.status.idle": "2023-04-16T23:50:40.473194Z",
     "shell.execute_reply": "2023-04-16T23:50:40.472416Z",
     "shell.execute_reply.started": "2023-04-16T23:50:40.458006Z"
    },
    "tags": []
   },
   "outputs": [
    {
     "data": {
      "text/html": [
       "<table class=\"show_images\" style=\"border-spacing:0px;\"><tr><td style=\"padding:1px;\"><div style=\"display:flex; align-items:left;\">\n",
       "      <div style=\"display:flex; flex-direction:column; align-items:center;\">\n",
       "      <div>day5</div><div><img width=\"512\" height=\"32\" style=\"image-rendering:auto; object-fit:cover;\" src=\"data:image/png;base64,iVBORw0KGgoAAAANSUhEUgAAAgAAAAAgCAIAAADrKVeyAAAAuElEQVR4nO3bwQ3CMBAAQYKowv3X5jr45h04EbEzBdj+rWzrjsewvff0FgB/aa01uv5zdHUAbksAAKIEACBKAACiBAAgSgAAogQAIOqY3sAcAMDnJmYC3AAAogQAIEoAAKJevz4A3MX5jdXfFQVuAABRAgAQJQAAUeNzAGfeVQGuMQcAwNcIAECUAABECQBAlAAARAkAQJQAAEQJAECUAABECQBAlAAARAkAQJQAAEQJAECUAABEvQGJIAxAZXlPeQAAAABJRU5ErkJggg==\"/></div></div></div></td></tr></table>"
      ],
      "text/plain": [
       "<IPython.core.display.HTML object>"
      ]
     },
     "metadata": {},
     "output_type": "display_data"
    }
   ],
   "source": [
    "def day5_visualize_transposed_seat_grid(s, repeat=4):\n",
    "  image = np.full((128, 8, 3), 0, np.uint8)\n",
    "  yx = np.array([divmod(day5_seat_id(line), 8) for line in s.split()])\n",
    "  image[tuple(yx.T)] = 230\n",
    "  image = np.rot90(image.repeat(repeat, axis=0).repeat(repeat, axis=1))\n",
    "  media.show_image(image, title='day5')\n",
    "\n",
    "\n",
    "day5_visualize_transposed_seat_grid(puzzle.input)"
   ]
  },
  {
   "cell_type": "code",
   "execution_count": 32,
   "id": "193193d0",
   "metadata": {
    "execution": {
     "iopub.execute_input": "2023-04-16T23:50:40.474443Z",
     "iopub.status.busy": "2023-04-16T23:50:40.474009Z",
     "iopub.status.idle": "2023-04-16T23:50:40.481832Z",
     "shell.execute_reply": "2023-04-16T23:50:40.481294Z",
     "shell.execute_reply.started": "2023-04-16T23:50:40.474425Z"
    }
   },
   "outputs": [
    {
     "name": "stdout",
     "output_type": "stream",
     "text": [
      "(Part 2: 0.002 s)\n"
     ]
    }
   ],
   "source": [
    "def day5a_part2(s):  # Using regular expression search.\n",
    "  seat_ids = [day5_seat_id(line) for line in s.split()]\n",
    "  occupied = ''.join('01'[seat_id in seat_ids] for seat_id in range(128 * 8))\n",
    "  (seat_id,) = [match.start() for match in re.finditer('(?<=1)0(?=1)', occupied)]\n",
    "  return seat_id\n",
    "\n",
    "\n",
    "puzzle.verify(2, day5a_part2)"
   ]
  },
  {
   "cell_type": "code",
   "execution_count": 33,
   "id": "e7b811cf",
   "metadata": {
    "execution": {
     "iopub.execute_input": "2023-04-16T23:50:40.482701Z",
     "iopub.status.busy": "2023-04-16T23:50:40.482515Z",
     "iopub.status.idle": "2023-04-16T23:50:40.494342Z",
     "shell.execute_reply": "2023-04-16T23:50:40.493798Z",
     "shell.execute_reply.started": "2023-04-16T23:50:40.482690Z"
    }
   },
   "outputs": [
    {
     "name": "stdout",
     "output_type": "stream",
     "text": [
      "(Part 2: 0.002 s)\n"
     ]
    }
   ],
   "source": [
    "def day5b_part2(s):  # Using string indexing.\n",
    "  def find_all(string, substring, overlapping=False):\n",
    "    i = string.find(substring)\n",
    "    while i != -1:\n",
    "      yield i\n",
    "      i = string.find(substring, i + (1 if overlapping else len(substring)))\n",
    "\n",
    "  seat_ids = [day5_seat_id(line) for line in s.split()]\n",
    "  occupied = ''.join('01'[seat_id in seat_ids] for seat_id in range(128 * 8))\n",
    "  (i,) = list(find_all(occupied, '101'))\n",
    "  seat_id = i + 1\n",
    "  return seat_id\n",
    "\n",
    "\n",
    "puzzle.verify(2, day5b_part2)"
   ]
  },
  {
   "cell_type": "code",
   "execution_count": 34,
   "id": "b3fd88a0",
   "metadata": {
    "execution": {
     "iopub.execute_input": "2023-04-16T23:50:40.495271Z",
     "iopub.status.busy": "2023-04-16T23:50:40.495002Z",
     "iopub.status.idle": "2023-04-16T23:50:40.504108Z",
     "shell.execute_reply": "2023-04-16T23:50:40.503581Z",
     "shell.execute_reply.started": "2023-04-16T23:50:40.495257Z"
    }
   },
   "outputs": [
    {
     "name": "stdout",
     "output_type": "stream",
     "text": [
      "(Part 2: 0.001 s)\n"
     ]
    }
   ],
   "source": [
    "def day5c_part2(s):  # Fast, using numpy successive differences of sorted indices.\n",
    "  seat_ids = np.sort([day5_seat_id(line) for line in s.split()])\n",
    "  diff = np.diff(seat_ids)\n",
    "  ((i,),) = np.nonzero(diff == 2)\n",
    "  seat_id = seat_ids[i] + 1\n",
    "  return seat_id\n",
    "\n",
    "\n",
    "puzzle.verify(2, day5c_part2)"
   ]
  },
  {
   "cell_type": "code",
   "execution_count": 35,
   "id": "ecba4209",
   "metadata": {
    "execution": {
     "iopub.execute_input": "2023-04-16T23:50:40.505202Z",
     "iopub.status.busy": "2023-04-16T23:50:40.504750Z",
     "iopub.status.idle": "2023-04-16T23:50:40.514078Z",
     "shell.execute_reply": "2023-04-16T23:50:40.513553Z",
     "shell.execute_reply.started": "2023-04-16T23:50:40.505186Z"
    }
   },
   "outputs": [
    {
     "name": "stdout",
     "output_type": "stream",
     "text": [
      "(Part 2: 0.001 s)\n"
     ]
    }
   ],
   "source": [
    "def day5_part2(s):  # Also fast, using numpy subsequence search.\n",
    "  def matching_subsequences(array, sequence):\n",
    "    array, sequence = np.asarray(array), np.asarray(sequence)\n",
    "    return (\n",
    "        array[np.arange(len(array) - len(sequence) + 1)[:, None] + np.arange(len(sequence))]\n",
    "        == sequence\n",
    "    ).all(axis=1)\n",
    "\n",
    "  seat_ids = [day5_seat_id(line) for line in s.split()]\n",
    "  occupied = np.full(128 * 8, False)\n",
    "  occupied[seat_ids] = True\n",
    "  ((i,),) = matching_subsequences(occupied, (1, 0, 1)).nonzero()\n",
    "  seat_id = i + 1\n",
    "  return seat_id\n",
    "\n",
    "\n",
    "puzzle.verify(2, day5_part2)"
   ]
  },
  {
   "cell_type": "markdown",
   "id": "fc0d6aa2",
   "metadata": {},
   "source": [
    "<a name=\"day6\"></a>\n",
    "## Day 6: Counts across groups"
   ]
  },
  {
   "cell_type": "markdown",
   "id": "75fd09e1",
   "metadata": {},
   "source": [
    "Given a set of records of words:\n",
    "\n",
    "- Part 1: Compute the number of unique letters in each record, and sum these.\n",
    "\n",
    "- Part 2: Compute the number of letters appearing in all words of each record, and sum these."
   ]
  },
  {
   "cell_type": "code",
   "execution_count": 36,
   "id": "e7ed6755",
   "metadata": {
    "execution": {
     "iopub.execute_input": "2023-04-16T23:50:40.515469Z",
     "iopub.status.busy": "2023-04-16T23:50:40.515077Z",
     "iopub.status.idle": "2023-04-16T23:50:40.536971Z",
     "shell.execute_reply": "2023-04-16T23:50:40.536470Z",
     "shell.execute_reply.started": "2023-04-16T23:50:40.515448Z"
    }
   },
   "outputs": [
    {
     "data": {
      "text/markdown": [
       "For [day 6](https://adventofcode.com/2020/day/6), `puzzle.input` has 2_172 lines:"
      ],
      "text/plain": [
       "<IPython.core.display.Markdown object>"
      ]
     },
     "metadata": {},
     "output_type": "display_data"
    },
    {
     "name": "stdout",
     "output_type": "stream",
     "text": [
      "su\n",
      "egu\n",
      "\n",
      "h\n",
      "h\n",
      "h\n",
      "h\n",
      "\n",
      " ...\n",
      "\n",
      "lfhtzrxcj\n",
      "fbtzlhrcj\n",
      "lzdaftrjphco\n"
     ]
    },
    {
     "data": {
      "text/markdown": [
       "The stored answers are: `{1: '6590', 2: '3288'}`"
      ],
      "text/plain": [
       "<IPython.core.display.Markdown object>"
      ]
     },
     "metadata": {},
     "output_type": "display_data"
    }
   ],
   "source": [
    "puzzle = advent.puzzle(day=6)"
   ]
  },
  {
   "cell_type": "code",
   "execution_count": 37,
   "id": "db6c300e",
   "metadata": {
    "execution": {
     "iopub.execute_input": "2023-04-16T23:50:40.537878Z",
     "iopub.status.busy": "2023-04-16T23:50:40.537732Z",
     "iopub.status.idle": "2023-04-16T23:50:40.540131Z",
     "shell.execute_reply": "2023-04-16T23:50:40.539691Z",
     "shell.execute_reply.started": "2023-04-16T23:50:40.537867Z"
    },
    "lines_to_next_cell": 2
   },
   "outputs": [],
   "source": [
    "s1 = \"\"\"\\\n",
    "abc\n",
    "\n",
    "a\n",
    "b\n",
    "c\n",
    "\n",
    "ab\n",
    "ac\n",
    "\n",
    "a\n",
    "a\n",
    "a\n",
    "a\n",
    "\n",
    "b\n",
    "\"\"\""
   ]
  },
  {
   "cell_type": "markdown",
   "id": "6b1234f7",
   "metadata": {
    "lines_to_next_cell": 2
   },
   "source": [
    "Part 1"
   ]
  },
  {
   "cell_type": "code",
   "execution_count": 38,
   "id": "31e2701e",
   "metadata": {
    "execution": {
     "iopub.execute_input": "2023-04-16T23:50:40.540869Z",
     "iopub.status.busy": "2023-04-16T23:50:40.540649Z",
     "iopub.status.idle": "2023-04-16T23:50:40.551058Z",
     "shell.execute_reply": "2023-04-16T23:50:40.550546Z",
     "shell.execute_reply.started": "2023-04-16T23:50:40.540858Z"
    }
   },
   "outputs": [
    {
     "name": "stdout",
     "output_type": "stream",
     "text": [
      "(Part 1: 0.001 s)\n"
     ]
    }
   ],
   "source": [
    "def day6a_part1(s):  # Long code.\n",
    "  total = 0\n",
    "  for group in s.split('\\n\\n'):\n",
    "    union = set()\n",
    "    for line in group.splitlines():\n",
    "      union |= set(line)\n",
    "    total += len(union)\n",
    "  return total\n",
    "\n",
    "\n",
    "check_eq(day6a_part1(s1), 11)\n",
    "puzzle.verify(1, day6a_part1)"
   ]
  },
  {
   "cell_type": "code",
   "execution_count": 39,
   "id": "5f7860e0",
   "metadata": {
    "execution": {
     "iopub.execute_input": "2023-04-16T23:50:40.551948Z",
     "iopub.status.busy": "2023-04-16T23:50:40.551689Z",
     "iopub.status.idle": "2023-04-16T23:50:40.562102Z",
     "shell.execute_reply": "2023-04-16T23:50:40.561562Z",
     "shell.execute_reply.started": "2023-04-16T23:50:40.551935Z"
    }
   },
   "outputs": [
    {
     "name": "stdout",
     "output_type": "stream",
     "text": [
      "(Part 1: 0.001 s)\n"
     ]
    }
   ],
   "source": [
    "def day6b_part1(s):  # Using reduction.\n",
    "  return sum(\n",
    "      len(functools.reduce(operator.or_, map(set, group.splitlines()))) for group in s.split('\\n\\n')\n",
    "  )\n",
    "\n",
    "\n",
    "check_eq(day6b_part1(s1), 11)\n",
    "puzzle.verify(1, day6b_part1)"
   ]
  },
  {
   "cell_type": "code",
   "execution_count": 40,
   "id": "04284f36",
   "metadata": {
    "execution": {
     "iopub.execute_input": "2023-04-16T23:50:40.562869Z",
     "iopub.status.busy": "2023-04-16T23:50:40.562727Z",
     "iopub.status.idle": "2023-04-16T23:50:40.572468Z",
     "shell.execute_reply": "2023-04-16T23:50:40.571812Z",
     "shell.execute_reply.started": "2023-04-16T23:50:40.562857Z"
    },
    "lines_to_next_cell": 2
   },
   "outputs": [
    {
     "name": "stdout",
     "output_type": "stream",
     "text": [
      "(Part 1: 0.000 s)\n"
     ]
    }
   ],
   "source": [
    "def day6_part1(s):  # Compact, and also fastest.\n",
    "  return sum(len(set(group.replace('\\n', ''))) for group in s.split('\\n\\n'))\n",
    "\n",
    "\n",
    "check_eq(day6_part1(s1), 11)\n",
    "puzzle.verify(1, day6_part1)"
   ]
  },
  {
   "cell_type": "markdown",
   "id": "14e8e7d3",
   "metadata": {
    "lines_to_next_cell": 2
   },
   "source": [
    "Part 2"
   ]
  },
  {
   "cell_type": "code",
   "execution_count": 41,
   "id": "8f986aaf",
   "metadata": {
    "execution": {
     "iopub.execute_input": "2023-04-16T23:50:40.573532Z",
     "iopub.status.busy": "2023-04-16T23:50:40.573336Z",
     "iopub.status.idle": "2023-04-16T23:50:40.583989Z",
     "shell.execute_reply": "2023-04-16T23:50:40.583329Z",
     "shell.execute_reply.started": "2023-04-16T23:50:40.573516Z"
    }
   },
   "outputs": [
    {
     "name": "stdout",
     "output_type": "stream",
     "text": [
      "(Part 2: 0.001 s)\n"
     ]
    }
   ],
   "source": [
    "def day6a_part2(s):  # Using reduction.\n",
    "  return sum(\n",
    "      len(functools.reduce(operator.and_, map(set, group.splitlines())))\n",
    "      for group in s.split('\\n\\n')\n",
    "  )\n",
    "\n",
    "\n",
    "check_eq(day6a_part2(s1), 6)\n",
    "puzzle.verify(2, day6a_part2)"
   ]
  },
  {
   "cell_type": "code",
   "execution_count": 42,
   "id": "3c016a5a",
   "metadata": {
    "execution": {
     "iopub.execute_input": "2023-04-16T23:50:40.584994Z",
     "iopub.status.busy": "2023-04-16T23:50:40.584698Z",
     "iopub.status.idle": "2023-04-16T23:50:40.594447Z",
     "shell.execute_reply": "2023-04-16T23:50:40.593916Z",
     "shell.execute_reply.started": "2023-04-16T23:50:40.584979Z"
    }
   },
   "outputs": [
    {
     "name": "stdout",
     "output_type": "stream",
     "text": [
      "(Part 2: 0.001 s)\n"
     ]
    }
   ],
   "source": [
    "def day6_part2(s):  # Compact and same speed.\n",
    "  return sum(len(set.intersection(*map(set, group.splitlines()))) for group in s.split('\\n\\n'))\n",
    "\n",
    "\n",
    "check_eq(day6_part2(s1), 6)\n",
    "puzzle.verify(2, day6_part2)"
   ]
  },
  {
   "cell_type": "markdown",
   "id": "d3d97269",
   "metadata": {},
   "source": [
    "<a name=\"day7\"></a>\n",
    "## Day 7: Nested bags"
   ]
  },
  {
   "cell_type": "markdown",
   "id": "e52eec40",
   "metadata": {},
   "source": [
    "Given a description of bag colors, where each colored bag contains a collection of other colored bags:\n",
    "\n",
    "- Part 1: Determine the number of bag colors that can eventually contain a specified bag color.\n",
    "\n",
    "- Part 2: Determine the total number of bags required inside a specified bag color."
   ]
  },
  {
   "cell_type": "code",
   "execution_count": 43,
   "id": "7447bc2e",
   "metadata": {
    "execution": {
     "iopub.execute_input": "2023-04-16T23:50:40.595117Z",
     "iopub.status.busy": "2023-04-16T23:50:40.594996Z",
     "iopub.status.idle": "2023-04-16T23:50:40.618929Z",
     "shell.execute_reply": "2023-04-16T23:50:40.618354Z",
     "shell.execute_reply.started": "2023-04-16T23:50:40.595107Z"
    }
   },
   "outputs": [
    {
     "data": {
      "text/markdown": [
       "For [day 7](https://adventofcode.com/2020/day/7), `puzzle.input` has 594 lines:"
      ],
      "text/plain": [
       "<IPython.core.display.Markdown object>"
      ]
     },
     "metadata": {},
     "output_type": "display_data"
    },
    {
     "name": "stdout",
     "output_type": "stream",
     "text": [
      "dim red bags contain 2 bright gold bags, 5 striped fuchsia bags.\n",
      "dotted purple bags contain 5 bright olive bags, 3 faded maroon bags.\n",
      "plaid chartreuse bags contain 1 vibrant olive bag, 5 bright black bags, 1 clear tomato bag.\n",
      "wavy orange bags contain 4 dark lavender bags, 4 posh white bags.\n",
      "light lavender bags contain 4 drab olive bags, 5 dark magenta bags.\n",
      "pale black bags contain 5 dotted beige bags, 5 clear chartreuse bags, 4 pale lime bags.\n",
      "wavy crimson bags contain 5 dull tomato bags.\n",
      "muted aqua bags contain 1 dotted aqua bag, 5 posh plum bags, 1 bright blue bag.\n",
      " ...\n",
      "vibrant lime bags contain 5 light green bags.\n",
      "dark maroon bags contain 5 drab bronze bags, 4 bright red bags, 1 posh cyan bag.\n",
      "wavy red bags contain 2 mirrored beige bags, 5 muted crimson bags, 5 vibrant orange bags, 3 posh turquoise bags.\n",
      "drab brown bags contain 1 faded tan bag, 3 vibrant maroon bags.\n"
     ]
    },
    {
     "data": {
      "text/markdown": [
       "The stored answers are: `{1: '115', 2: '1250'}`"
      ],
      "text/plain": [
       "<IPython.core.display.Markdown object>"
      ]
     },
     "metadata": {},
     "output_type": "display_data"
    }
   ],
   "source": [
    "puzzle = advent.puzzle(day=7)"
   ]
  },
  {
   "cell_type": "code",
   "execution_count": 44,
   "id": "45acb8d9",
   "metadata": {
    "execution": {
     "iopub.execute_input": "2023-04-16T23:50:40.620387Z",
     "iopub.status.busy": "2023-04-16T23:50:40.619918Z",
     "iopub.status.idle": "2023-04-16T23:50:40.622984Z",
     "shell.execute_reply": "2023-04-16T23:50:40.622445Z",
     "shell.execute_reply.started": "2023-04-16T23:50:40.620373Z"
    }
   },
   "outputs": [],
   "source": [
    "s1 = \"\"\"\\\n",
    "light red bags contain 1 bright white bag, 2 muted yellow bags.\n",
    "dark orange bags contain 3 bright white bags, 4 muted yellow bags.\n",
    "bright white bags contain 1 shiny gold bag.\n",
    "muted yellow bags contain 2 shiny gold bags, 9 faded blue bags.\n",
    "shiny gold bags contain 1 dark olive bag, 2 vibrant plum bags.\n",
    "dark olive bags contain 3 faded blue bags, 4 dotted black bags.\n",
    "vibrant plum bags contain 5 faded blue bags, 6 dotted black bags.\n",
    "faded blue bags contain no other bags.\n",
    "dotted black bags contain no other bags.\n",
    "\"\"\"\n",
    "\n",
    "s2 = \"\"\"\\\n",
    "shiny gold bags contain 2 dark red bags.\n",
    "dark red bags contain 2 dark orange bags.\n",
    "dark orange bags contain 2 dark yellow bags.\n",
    "dark yellow bags contain 2 dark green bags.\n",
    "dark green bags contain 2 dark blue bags.\n",
    "dark blue bags contain 2 dark violet bags.\n",
    "dark violet bags contain no other bags.\n",
    "\"\"\""
   ]
  },
  {
   "cell_type": "code",
   "execution_count": 45,
   "id": "b3e79ad7",
   "metadata": {
    "execution": {
     "iopub.execute_input": "2023-04-16T23:50:40.623886Z",
     "iopub.status.busy": "2023-04-16T23:50:40.623655Z",
     "iopub.status.idle": "2023-04-16T23:50:40.634634Z",
     "shell.execute_reply": "2023-04-16T23:50:40.633881Z",
     "shell.execute_reply.started": "2023-04-16T23:50:40.623875Z"
    }
   },
   "outputs": [],
   "source": [
    "def day7_bag_contents(s):\n",
    "  contents: dict[str, dict[str, int]] = {}\n",
    "  regex = re.compile(r'(\\d+) (.*?) bags?[,.]')\n",
    "  for line in s.splitlines():\n",
    "    outer, inners = line.split(' bags contain ')\n",
    "    contents[outer] = {}\n",
    "    for match in regex.finditer(inners):\n",
    "      n, inner = match.groups()\n",
    "      contents[outer][inner] = int(n)\n",
    "  return contents"
   ]
  },
  {
   "cell_type": "code",
   "execution_count": 46,
   "id": "af139359",
   "metadata": {
    "execution": {
     "iopub.execute_input": "2023-04-16T23:50:40.635772Z",
     "iopub.status.busy": "2023-04-16T23:50:40.635634Z",
     "iopub.status.idle": "2023-04-16T23:50:40.646552Z",
     "shell.execute_reply": "2023-04-16T23:50:40.645934Z",
     "shell.execute_reply.started": "2023-04-16T23:50:40.635761Z"
    }
   },
   "outputs": [
    {
     "name": "stdout",
     "output_type": "stream",
     "text": [
      "(Part 1: 0.002 s)\n"
     ]
    }
   ],
   "source": [
    "def day7a_part1(s, *, query='shiny gold'):  # Compact and fast with caching.\n",
    "  \"\"\"Returns number of bag colors that can eventually contain >=1 query bag.\"\"\"\n",
    "  contents = day7_bag_contents(s)\n",
    "\n",
    "  @functools.cache\n",
    "  def valid(bag):\n",
    "    return any(inner == query or valid(inner) for inner in contents[bag])\n",
    "\n",
    "  return sum(valid(bag) for bag in contents)\n",
    "\n",
    "\n",
    "check_eq(day7a_part1(s1), 4)\n",
    "puzzle.verify(1, day7a_part1)"
   ]
  },
  {
   "cell_type": "code",
   "execution_count": 47,
   "id": "eb513376",
   "metadata": {
    "execution": {
     "iopub.execute_input": "2023-04-16T23:50:40.647665Z",
     "iopub.status.busy": "2023-04-16T23:50:40.647259Z",
     "iopub.status.idle": "2023-04-16T23:50:40.659334Z",
     "shell.execute_reply": "2023-04-16T23:50:40.658722Z",
     "shell.execute_reply.started": "2023-04-16T23:50:40.647651Z"
    },
    "lines_to_next_cell": 2
   },
   "outputs": [
    {
     "name": "stdout",
     "output_type": "stream",
     "text": [
      "(Part 1: 0.002 s)\n"
     ]
    }
   ],
   "source": [
    "def day7_part1(s, *, query='shiny gold'):  # Fast too.\n",
    "  contents = day7_bag_contents(s)  # computational bottleneck\n",
    "  parents = collections.defaultdict(list)\n",
    "  for bag, children in contents.items():\n",
    "    for child in children:\n",
    "      parents[child].append(bag)\n",
    "\n",
    "  valid = set()\n",
    "  to_visit = collections.deque([query])\n",
    "  while to_visit:\n",
    "    bag = to_visit.popleft()\n",
    "    for parent in parents[bag]:\n",
    "      if parent not in valid:\n",
    "        valid.add(parent)\n",
    "        to_visit.append(parent)\n",
    "\n",
    "  return len(valid)\n",
    "\n",
    "\n",
    "check_eq(day7_part1(s1), 4)\n",
    "puzzle.verify(1, day7_part1)"
   ]
  },
  {
   "cell_type": "markdown",
   "id": "e8a01934",
   "metadata": {
    "lines_to_next_cell": 2
   },
   "source": [
    "Part 2"
   ]
  },
  {
   "cell_type": "code",
   "execution_count": 48,
   "id": "fd4d0367",
   "metadata": {
    "execution": {
     "iopub.execute_input": "2023-04-16T23:50:40.660467Z",
     "iopub.status.busy": "2023-04-16T23:50:40.660120Z",
     "iopub.status.idle": "2023-04-16T23:50:40.673008Z",
     "shell.execute_reply": "2023-04-16T23:50:40.672474Z",
     "shell.execute_reply.started": "2023-04-16T23:50:40.660436Z"
    }
   },
   "outputs": [
    {
     "name": "stdout",
     "output_type": "stream",
     "text": [
      "(Part 2: 0.002 s)\n"
     ]
    }
   ],
   "source": [
    "def day7_part2(s, *, query='shiny gold'):\n",
    "  \"\"\"Returns total number of individual bags required inside a query bag.\"\"\"\n",
    "  contents = day7_bag_contents(s)  # computational bottleneck\n",
    "\n",
    "  # @functools.cache  # Unnecessary.\n",
    "  def count_inside(bag):\n",
    "    return sum(n * (count_inside(b) + 1) for b, n in contents[bag].items())\n",
    "\n",
    "  return count_inside(query)\n",
    "\n",
    "\n",
    "check_eq(day7_part2(s1), 32)\n",
    "check_eq(day7_part2(s2), 126)\n",
    "puzzle.verify(2, day7_part2)"
   ]
  },
  {
   "cell_type": "markdown",
   "id": "e220a177",
   "metadata": {},
   "source": [
    "<a name=\"day8\"></a>\n",
    "## Day 8: Program with acc, nop, jmp"
   ]
  },
  {
   "cell_type": "markdown",
   "id": "d0adadeb",
   "metadata": {},
   "source": [
    "Given a program with instructions `nop`, `acc`, and `jmp`:\n",
    "\n",
    "- Part 1: Determine the sum of the `acc` operands when running the program until the program counter becomes invalid.\n",
    "\n",
    "- Part 2: Modify the program by swapping one of its opcodes between `nop` and `jmp` such that it terminates (with the program counter at the end), and report the sum of the `acc` operands."
   ]
  },
  {
   "cell_type": "code",
   "execution_count": 49,
   "id": "9a3bf6fa",
   "metadata": {
    "execution": {
     "iopub.execute_input": "2023-04-16T23:50:40.673968Z",
     "iopub.status.busy": "2023-04-16T23:50:40.673668Z",
     "iopub.status.idle": "2023-04-16T23:50:40.697751Z",
     "shell.execute_reply": "2023-04-16T23:50:40.693358Z",
     "shell.execute_reply.started": "2023-04-16T23:50:40.673953Z"
    }
   },
   "outputs": [
    {
     "data": {
      "text/markdown": [
       "For [day 8](https://adventofcode.com/2020/day/8), `puzzle.input` has 638 lines:"
      ],
      "text/plain": [
       "<IPython.core.display.Markdown object>"
      ]
     },
     "metadata": {},
     "output_type": "display_data"
    },
    {
     "name": "stdout",
     "output_type": "stream",
     "text": [
      "acc +8\n",
      "acc +37\n",
      "jmp +328\n",
      "jmp +574\n",
      "nop +321\n",
      "acc +17\n",
      "jmp +450\n",
      "acc +46\n",
      " ...\n",
      "acc +6\n",
      "acc +21\n",
      "acc +16\n",
      "jmp +1\n"
     ]
    },
    {
     "data": {
      "text/markdown": [
       "The stored answers are: `{1: '1521', 2: '1016'}`"
      ],
      "text/plain": [
       "<IPython.core.display.Markdown object>"
      ]
     },
     "metadata": {},
     "output_type": "display_data"
    }
   ],
   "source": [
    "puzzle = advent.puzzle(day=8)"
   ]
  },
  {
   "cell_type": "code",
   "execution_count": 50,
   "id": "c79ff33f",
   "metadata": {
    "execution": {
     "iopub.execute_input": "2023-04-16T23:50:40.699593Z",
     "iopub.status.busy": "2023-04-16T23:50:40.698859Z",
     "iopub.status.idle": "2023-04-16T23:50:40.703076Z",
     "shell.execute_reply": "2023-04-16T23:50:40.702210Z",
     "shell.execute_reply.started": "2023-04-16T23:50:40.699564Z"
    }
   },
   "outputs": [],
   "source": [
    "s1 = \"\"\"\\\n",
    "nop +0\n",
    "acc +1\n",
    "jmp +4\n",
    "acc +3\n",
    "jmp -3\n",
    "acc -99\n",
    "acc +1\n",
    "jmp -4\n",
    "acc +6\n",
    "\"\"\""
   ]
  },
  {
   "cell_type": "code",
   "execution_count": 51,
   "id": "3d7fcedc",
   "metadata": {
    "execution": {
     "iopub.execute_input": "2023-04-16T23:50:40.704690Z",
     "iopub.status.busy": "2023-04-16T23:50:40.704185Z",
     "iopub.status.idle": "2023-04-16T23:50:40.719528Z",
     "shell.execute_reply": "2023-04-16T23:50:40.719004Z",
     "shell.execute_reply.started": "2023-04-16T23:50:40.704670Z"
    }
   },
   "outputs": [
    {
     "name": "stdout",
     "output_type": "stream",
     "text": [
      "(Part 1: 0.000 s)\n",
      "(Part 2: 0.005 s)\n"
     ]
    }
   ],
   "source": [
    "def day8(s, *, part2=False):\n",
    "  def run_program(ops):\n",
    "    pc = 0\n",
    "    acc = 0\n",
    "    visited = set()\n",
    "    while 0 <= pc < len(ops) and pc not in visited:\n",
    "      visited.add(pc)\n",
    "      operation, operand = ops[pc]\n",
    "      if operation == 'nop':\n",
    "        pc += 1\n",
    "      elif operation == 'acc':\n",
    "        acc += operand\n",
    "        pc += 1\n",
    "      elif operation == 'jmp':\n",
    "        pc += operand\n",
    "      else:\n",
    "        raise AssertionError\n",
    "    return pc, acc\n",
    "\n",
    "  ops = [(line[:3], int(line[4:])) for line in s.splitlines()]\n",
    "  if not part2:\n",
    "    pc, acc = run_program(ops)\n",
    "    assert 0 <= pc < len(ops)\n",
    "    return acc\n",
    "\n",
    "  for i, op in enumerate(ops):\n",
    "    if op[0] in ('nop', 'jmp'):\n",
    "      ops[i] = (('jmp' if op[0] == 'nop' else 'nop'), op[1])\n",
    "      pc, acc = run_program(ops)\n",
    "      ops[i] = op\n",
    "      if pc == len(ops):\n",
    "        return acc\n",
    "  return None\n",
    "\n",
    "\n",
    "check_eq(day8(s1), 5)\n",
    "puzzle.verify(1, day8)\n",
    "\n",
    "day8_part2 = functools.partial(day8, part2=True)\n",
    "check_eq(day8_part2(s1), 8)\n",
    "puzzle.verify(2, day8_part2)"
   ]
  },
  {
   "cell_type": "markdown",
   "id": "bd2d69e0",
   "metadata": {},
   "source": [
    "<a name=\"day9\"></a>\n",
    "## Day 9: Sums in subsequences"
   ]
  },
  {
   "cell_type": "markdown",
   "id": "12367077",
   "metadata": {},
   "source": [
    "Given a list of numbers:\n",
    "\n",
    "- Part 1: Find the first number that is not a sum of a pair of numbers in the prior `n` numbers.\n",
    "\n",
    "- Part 2: Find a subsequence of at least 2 numbers that sums to the value obtained in part 1, compute the min and max of the subsequence, and report their product."
   ]
  },
  {
   "cell_type": "code",
   "execution_count": 52,
   "id": "80dd943c",
   "metadata": {
    "execution": {
     "iopub.execute_input": "2023-04-16T23:50:40.720426Z",
     "iopub.status.busy": "2023-04-16T23:50:40.720235Z",
     "iopub.status.idle": "2023-04-16T23:50:40.743280Z",
     "shell.execute_reply": "2023-04-16T23:50:40.742601Z",
     "shell.execute_reply.started": "2023-04-16T23:50:40.720412Z"
    }
   },
   "outputs": [
    {
     "data": {
      "text/markdown": [
       "For [day 9](https://adventofcode.com/2020/day/9), `puzzle.input` has 1_000 lines:"
      ],
      "text/plain": [
       "<IPython.core.display.Markdown object>"
      ]
     },
     "metadata": {},
     "output_type": "display_data"
    },
    {
     "name": "stdout",
     "output_type": "stream",
     "text": [
      "19\n",
      "30\n",
      "13\n",
      "31\n",
      "42\n",
      "41\n",
      "44\n",
      "34\n",
      " ...\n",
      "30187342902183\n",
      "39869127705106\n",
      "31005328029673\n",
      "49124948203304\n"
     ]
    },
    {
     "data": {
      "text/markdown": [
       "The stored answers are: `{1: '393911906', 2: '59341885'}`"
      ],
      "text/plain": [
       "<IPython.core.display.Markdown object>"
      ]
     },
     "metadata": {},
     "output_type": "display_data"
    }
   ],
   "source": [
    "puzzle = advent.puzzle(day=9)"
   ]
  },
  {
   "cell_type": "code",
   "execution_count": 53,
   "id": "7348bd54",
   "metadata": {
    "execution": {
     "iopub.execute_input": "2023-04-16T23:50:40.744407Z",
     "iopub.status.busy": "2023-04-16T23:50:40.744208Z",
     "iopub.status.idle": "2023-04-16T23:50:40.747880Z",
     "shell.execute_reply": "2023-04-16T23:50:40.747087Z",
     "shell.execute_reply.started": "2023-04-16T23:50:40.744394Z"
    }
   },
   "outputs": [],
   "source": [
    "s1 = \"\"\"\\\n",
    "35\n",
    "20\n",
    "15\n",
    "25\n",
    "47\n",
    "40\n",
    "62\n",
    "55\n",
    "65\n",
    "95\n",
    "102\n",
    "117\n",
    "150\n",
    "182\n",
    "127\n",
    "219\n",
    "299\n",
    "277\n",
    "309\n",
    "576\n",
    "\"\"\""
   ]
  },
  {
   "cell_type": "code",
   "execution_count": 54,
   "id": "5b14c2e5",
   "metadata": {
    "execution": {
     "iopub.execute_input": "2023-04-16T23:50:40.749072Z",
     "iopub.status.busy": "2023-04-16T23:50:40.748855Z",
     "iopub.status.idle": "2023-04-16T23:50:40.761290Z",
     "shell.execute_reply": "2023-04-16T23:50:40.760759Z",
     "shell.execute_reply.started": "2023-04-16T23:50:40.749059Z"
    }
   },
   "outputs": [
    {
     "name": "stdout",
     "output_type": "stream",
     "text": [
      "(Part 1: 0.001 s)\n",
      "(Part 2: 0.001 s)\n"
     ]
    }
   ],
   "source": [
    "def day9(s, *, last_n=25, part2=False):\n",
    "  l = list(map(int, s.split()))\n",
    "\n",
    "  def has_pair(l, total):\n",
    "    # return any(a + b == total for a, b in itertools.combinations(l, 2))\n",
    "    return any(total - l[i] in l[i + 1 :] for i in range(len(l)))\n",
    "\n",
    "  def first_number_not_sum_of_pair_in_last_n(n):\n",
    "    return next(l[i] for i in range(n, len(l)) if not has_pair(l[i - n : i], l[i]))\n",
    "\n",
    "  invalid_number = first_number_not_sum_of_pair_in_last_n(last_n)\n",
    "  if not part2:\n",
    "    return invalid_number\n",
    "\n",
    "  # Find a contiguous set of at least two numbers in your list which sum to the\n",
    "  # invalid number.  Approach: compute cumulative sum accum[i], then for each i\n",
    "  # do (binary) bisection search to try to locate l[i] + invalid_number.\n",
    "\n",
    "  def find_subsequence_summing_to(total):\n",
    "    accum = list(itertools.accumulate(l, operator.add))  # accum[i] = sum(l[:i])\n",
    "    for i, value in enumerate(accum):\n",
    "      end_value = value + total\n",
    "      j = bisect.bisect_left(accum, end_value)\n",
    "      if j != len(accum) and accum[j] == end_value:\n",
    "        return l[i + 1 : j + 1]\n",
    "    return None\n",
    "\n",
    "  sequence = find_subsequence_summing_to(invalid_number)\n",
    "  assert sum(sequence) == invalid_number\n",
    "  return min(sequence) + max(sequence)\n",
    "\n",
    "\n",
    "check_eq(day9(s1, last_n=5), 127)\n",
    "puzzle.verify(1, day9)\n",
    "\n",
    "day9_part2 = functools.partial(day9, part2=True)\n",
    "check_eq(day9_part2(s1, last_n=5), 62)\n",
    "puzzle.verify(2, day9_part2)"
   ]
  },
  {
   "cell_type": "markdown",
   "id": "3ab21769",
   "metadata": {},
   "source": [
    "<a name=\"day10\"></a>\n",
    "## Day 10: Combinations of sequences"
   ]
  },
  {
   "cell_type": "markdown",
   "id": "7fb68c81",
   "metadata": {},
   "source": [
    "Given a set of numbers,\n",
    "\n",
    "- Part 1: Augment the numbers with the values `0` and `max + 3`, tally the successive differences of the sorted numbers, and report the product of the 1-differences and the 3-differences.\n",
    "\n",
    "- Part 2: Count the number of ways to monotonically traverse the numbers such that successive differences are at most 3."
   ]
  },
  {
   "cell_type": "code",
   "execution_count": 55,
   "id": "46b3f704",
   "metadata": {
    "execution": {
     "iopub.execute_input": "2023-04-16T23:50:40.762343Z",
     "iopub.status.busy": "2023-04-16T23:50:40.761995Z",
     "iopub.status.idle": "2023-04-16T23:50:40.785072Z",
     "shell.execute_reply": "2023-04-16T23:50:40.784520Z",
     "shell.execute_reply.started": "2023-04-16T23:50:40.762327Z"
    }
   },
   "outputs": [
    {
     "data": {
      "text/markdown": [
       "For [day 10](https://adventofcode.com/2020/day/10), `puzzle.input` has 97 lines:"
      ],
      "text/plain": [
       "<IPython.core.display.Markdown object>"
      ]
     },
     "metadata": {},
     "output_type": "display_data"
    },
    {
     "name": "stdout",
     "output_type": "stream",
     "text": [
      "8\n",
      "131\n",
      "91\n",
      "35\n",
      "47\n",
      "116\n",
      "105\n",
      "121\n",
      " ...\n",
      "95\n",
      "3\n",
      "52\n",
      "49\n"
     ]
    },
    {
     "data": {
      "text/markdown": [
       "The stored answers are: `{1: '2112', 2: '3022415986688'}`"
      ],
      "text/plain": [
       "<IPython.core.display.Markdown object>"
      ]
     },
     "metadata": {},
     "output_type": "display_data"
    }
   ],
   "source": [
    "puzzle = advent.puzzle(day=10)"
   ]
  },
  {
   "cell_type": "code",
   "execution_count": 56,
   "id": "8cd16306",
   "metadata": {
    "execution": {
     "iopub.execute_input": "2023-04-16T23:50:40.785831Z",
     "iopub.status.busy": "2023-04-16T23:50:40.785693Z",
     "iopub.status.idle": "2023-04-16T23:50:40.788891Z",
     "shell.execute_reply": "2023-04-16T23:50:40.788184Z",
     "shell.execute_reply.started": "2023-04-16T23:50:40.785818Z"
    }
   },
   "outputs": [],
   "source": [
    "s1 = \"\"\"\\\n",
    "16\n",
    "10\n",
    "15\n",
    "5\n",
    "1\n",
    "11\n",
    "7\n",
    "19\n",
    "6\n",
    "12\n",
    "4\n",
    "\"\"\"\n",
    "\n",
    "s2 = \"\"\"\\\n",
    "28\n",
    "33\n",
    "18\n",
    "42\n",
    "31\n",
    "14\n",
    "46\n",
    "20\n",
    "48\n",
    "47\n",
    "24\n",
    "23\n",
    "49\n",
    "45\n",
    "19\n",
    "38\n",
    "39\n",
    "11\n",
    "1\n",
    "32\n",
    "25\n",
    "35\n",
    "8\n",
    "17\n",
    "7\n",
    "9\n",
    "4\n",
    "2\n",
    "34\n",
    "10\n",
    "3\n",
    "\"\"\""
   ]
  },
  {
   "cell_type": "code",
   "execution_count": 57,
   "id": "184d86ac",
   "metadata": {
    "execution": {
     "iopub.execute_input": "2023-04-16T23:50:40.789965Z",
     "iopub.status.busy": "2023-04-16T23:50:40.789624Z",
     "iopub.status.idle": "2023-04-16T23:50:40.800278Z",
     "shell.execute_reply": "2023-04-16T23:50:40.799617Z",
     "shell.execute_reply.started": "2023-04-16T23:50:40.789946Z"
    },
    "lines_to_next_cell": 2
   },
   "outputs": [
    {
     "name": "stdout",
     "output_type": "stream",
     "text": [
      "(Part 1: 0.000 s)\n"
     ]
    }
   ],
   "source": [
    "def day10_part1(s):\n",
    "  l = sorted(map(int, s.split()))\n",
    "  counter = collections.Counter(np.diff([0] + l + [l[-1] + 3]))\n",
    "  return counter[1] * counter[3]\n",
    "\n",
    "\n",
    "check_eq(day10_part1(s1), 7 * 5)\n",
    "check_eq(day10_part1(s2), 22 * 10)\n",
    "puzzle.verify(1, day10_part1)"
   ]
  },
  {
   "cell_type": "markdown",
   "id": "0ad2c479",
   "metadata": {},
   "source": [
    "Part 2"
   ]
  },
  {
   "cell_type": "code",
   "execution_count": 58,
   "id": "04fcea44",
   "metadata": {
    "execution": {
     "iopub.execute_input": "2023-04-16T23:50:40.801146Z",
     "iopub.status.busy": "2023-04-16T23:50:40.801001Z",
     "iopub.status.idle": "2023-04-16T23:50:40.810592Z",
     "shell.execute_reply": "2023-04-16T23:50:40.809901Z",
     "shell.execute_reply.started": "2023-04-16T23:50:40.801135Z"
    }
   },
   "outputs": [
    {
     "name": "stdout",
     "output_type": "stream",
     "text": [
      "(Part 2: 0.000 s)\n"
     ]
    }
   ],
   "source": [
    "# Observation: when there is a separation of 3 units, the problem decouples\n",
    "# into a product of the solutions of subproblems.\n",
    "\n",
    "\n",
    "# Because the voltages differences are just 1 or 3, we can simply count the\n",
    "# length of the sequences of value 1, and derive a closed-form number for each\n",
    "# sequence.\n",
    "def day10a_part2(s):\n",
    "  diff = np.diff([0] + sorted(map(int, s.split())))\n",
    "  lengths_of_ones = map(len, re.findall('1+', ''.join(map(str, diff))))\n",
    "\n",
    "  def f(n):\n",
    "    \"\"\"Number of combinations from a sequence of n consecutive one-diffs.\"\"\"\n",
    "    return 0 if n < 0 else 1 if n < 2 else f(n - 1) + f(n - 2) + f(n - 3)\n",
    "\n",
    "  return math.prod(map(f, lengths_of_ones))\n",
    "\n",
    "\n",
    "check_eq(day10a_part2(s1), 8)\n",
    "check_eq(day10a_part2(s2), 19208)\n",
    "puzzle.verify(2, day10a_part2)"
   ]
  },
  {
   "cell_type": "code",
   "execution_count": 59,
   "id": "6ff106e3",
   "metadata": {
    "execution": {
     "iopub.execute_input": "2023-04-16T23:50:40.811625Z",
     "iopub.status.busy": "2023-04-16T23:50:40.811263Z",
     "iopub.status.idle": "2023-04-16T23:50:40.822363Z",
     "shell.execute_reply": "2023-04-16T23:50:40.821804Z",
     "shell.execute_reply.started": "2023-04-16T23:50:40.811613Z"
    }
   },
   "outputs": [
    {
     "name": "stdout",
     "output_type": "stream",
     "text": [
      "(Part 2: 0.000 s)\n"
     ]
    }
   ],
   "source": [
    "# More general solution based on dynamic programming with scatter.\n",
    "def day10b_part2(s):\n",
    "  l = [0] + sorted(map(int, s.split()))\n",
    "  npaths = [1] + [0] * (len(l) - 1)\n",
    "  for i in range(len(l)):  # pylint: disable=consider-using-enumerate\n",
    "    for j in range(i + 1, min(i + 4, len(l))):\n",
    "      if l[j] - l[i] <= 3:\n",
    "        npaths[j] += npaths[i]\n",
    "  return npaths[-1]\n",
    "\n",
    "\n",
    "check_eq(day10b_part2(s1), 8)\n",
    "check_eq(day10b_part2(s2), 19208)\n",
    "puzzle.verify(2, day10b_part2)"
   ]
  },
  {
   "cell_type": "code",
   "execution_count": 60,
   "id": "397a1f37",
   "metadata": {
    "execution": {
     "iopub.execute_input": "2023-04-16T23:50:40.823361Z",
     "iopub.status.busy": "2023-04-16T23:50:40.823031Z",
     "iopub.status.idle": "2023-04-16T23:50:40.832254Z",
     "shell.execute_reply": "2023-04-16T23:50:40.831622Z",
     "shell.execute_reply.started": "2023-04-16T23:50:40.823348Z"
    }
   },
   "outputs": [
    {
     "name": "stdout",
     "output_type": "stream",
     "text": [
      "(Part 2: 0.000 s)\n"
     ]
    }
   ],
   "source": [
    "# Simplest solution based on dynamic programming with gather.\n",
    "def day10_part2(s):\n",
    "  l = [0] + sorted(map(int, s.split()))\n",
    "  npaths = [1]\n",
    "  for i in range(1, len(l)):\n",
    "    npaths.append(sum(npaths[j] for j in range(-4, 0) if i + j >= 0 and l[i] - l[i + j] < 4))\n",
    "  return npaths[-1]\n",
    "\n",
    "\n",
    "check_eq(day10_part2(s1), 8)\n",
    "check_eq(day10_part2(s2), 19208)\n",
    "puzzle.verify(2, day10_part2)"
   ]
  },
  {
   "cell_type": "markdown",
   "id": "013e3480",
   "metadata": {},
   "source": [
    "<a name=\"day11\"></a>\n",
    "## Day 11: Seats cellular automaton"
   ]
  },
  {
   "cell_type": "markdown",
   "id": "abbdeb46",
   "metadata": {},
   "source": [
    "Given a *sparse* 2D grid of nodes, run successive generations of a cellular automaton until convergence.\n",
    "\n",
    "- Part 1: Each node's neighbors are the immediately adjacent nodes (up to 8, with Manhattan distance 1).\n",
    "\n",
    "  For each generation:\n",
    "  - a free node becomes occupied if it has zero occupied neighbors, and\n",
    "  - an occupied node becomes free if it has 4 or more occupied neighbors.\n",
    "\n",
    "- Part 2: The evolution rule is modified in two ways:\n",
    "  - For each of the 8 neighbor directions, the neighbor is defined as the first node along that direction.\n",
    "  - An occupied node becomes free if it has 5 or more occupied neighbors."
   ]
  },
  {
   "cell_type": "code",
   "execution_count": 61,
   "id": "e65dfbc0",
   "metadata": {
    "execution": {
     "iopub.execute_input": "2023-04-16T23:50:40.833407Z",
     "iopub.status.busy": "2023-04-16T23:50:40.833005Z",
     "iopub.status.idle": "2023-04-16T23:50:40.855600Z",
     "shell.execute_reply": "2023-04-16T23:50:40.855096Z",
     "shell.execute_reply.started": "2023-04-16T23:50:40.833395Z"
    },
    "tags": []
   },
   "outputs": [
    {
     "data": {
      "text/markdown": [
       "For [day 11](https://adventofcode.com/2020/day/11), `puzzle.input` has 99 lines:"
      ],
      "text/plain": [
       "<IPython.core.display.Markdown object>"
      ]
     },
     "metadata": {},
     "output_type": "display_data"
    },
    {
     "name": "stdout",
     "output_type": "stream",
     "text": [
      "LLLLLLLLLL.LLLLLL.LLLLLLLLLLLL.LL.LLLL.LLLLL.LLLLLLL.LLLLLL.LLLLLL.LLLLLL.LLLLLLLLLLLLLLLLLL\n",
      "LLLLLLLLLLLLLLLLLLLLLLLLLLLLLL.LLLLLLL.LLLLL.LLLLLLL.LLLLLLLLLLLLL.LLLL.L.LLLLLLLLLL.LLLLLLL\n",
      "LLLLLLLLLL.LLLLLL.LLLLLL.LLLLL.LLLLLLLLLLLLLLLLLLLLL.LLLLLL..LLLLL.LLLLLL.LLLLLL.LLLLLLLLLLL\n",
      "LLLLLLLLLL.LLLLLLLLLLLLL.LL.LL.LLLLL.L.LLLLL.LLLLLLL.LLLLLL.LLLLLLLLLLLLL.LLLLLLLLLLLLLLLLLL\n",
      "LLLLLLLLLLLLLLLLL.LLLLLL.LLLLLLLLLLLLLLLLLLL.LLLLLLL.LLL.LL.LLLLLL.LLLLLL.LLLLLLLLLLLLLLLLLL\n",
      "LLLLLLLLLLLLLLLLL.LLLLLL.LLLLL.LLLLLLL.LLL.L.LLLLLLLLLLLLLLLLLLLLLLLLLLLL.LLLLLL.LLLLLLLL.LL\n",
      "LLLLLLLLLLLLLLLLL.LLLLLLLLLL.LLLLLLLLL.LLLLL.LLLLLLL.LLLL.L.LLLLLLLLLLLLL.LLLLLLLLLLLLLLLLLL\n",
      ".L.LL...LLLL.......L....L.LLLLLL.......LL....LL...L..L.LLL...LLL..L.L.L.L..L...............L\n",
      " ...\n",
      "LLLLLLLLLL.LLLLLL.LLLLLL.LLLLL.LLLLL.L.LLLLLLLLLLLLL.LL.LLLLL.LLLL.LLLLLL.LLLLLLLLLL.LLLLLLL\n",
      "LLLLLLLLLLLLLLLLL.LLLLLL.LLLLL.LLLLLLL.LLLLL..LLLLLL.LLLLLL.LLLLLL.LLLLLL.LLLLLL.LLLLLLLLLLL\n",
      "LLLLLLLLLL.LLL.LLLLLLLLL.LLLLL.LLLLLLLLLLLL..LLLLLLL.LLLLL..LLLLLL.LLLLLL.LLLLLLLLLLLLLLLLLL\n",
      "LLLLLLLLLLLLLLLLL.LLLLLL.LLLLL.LLLLLLL.LLLLLLLLLLLLL.LLLLLL.LLLLLL.LL.LLLLLLLLLL.LLLLLLLLLLL\n"
     ]
    },
    {
     "data": {
      "text/markdown": [
       "The stored answers are: `{1: '2359', 2: '2131'}`"
      ],
      "text/plain": [
       "<IPython.core.display.Markdown object>"
      ]
     },
     "metadata": {},
     "output_type": "display_data"
    }
   ],
   "source": [
    "puzzle = advent.puzzle(day=11)"
   ]
  },
  {
   "cell_type": "code",
   "execution_count": 62,
   "id": "755a179d",
   "metadata": {
    "execution": {
     "iopub.execute_input": "2023-04-16T23:50:40.856539Z",
     "iopub.status.busy": "2023-04-16T23:50:40.856277Z",
     "iopub.status.idle": "2023-04-16T23:50:40.869042Z",
     "shell.execute_reply": "2023-04-16T23:50:40.868537Z",
     "shell.execute_reply.started": "2023-04-16T23:50:40.856523Z"
    },
    "tags": []
   },
   "outputs": [
    {
     "data": {
      "text/html": [
       "<table class=\"show_images\" style=\"border-spacing:0px;\"><tr><td style=\"padding:1px;\"><img width=\"276\" height=\"297\" style=\"border:1px solid black; image-rendering:auto; object-fit:cover;\" src=\"data:image/png;base64,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\"/></td></tr></table>"
      ],
      "text/plain": [
       "<IPython.core.display.HTML object>"
      ]
     },
     "metadata": {},
     "output_type": "display_data"
    }
   ],
   "source": [
    "media.show_image(\n",
    "    hh.grid_from_string(puzzle.input).repeat(3, axis=0).repeat(3, axis=1) == 'L', border=True\n",
    ")"
   ]
  },
  {
   "cell_type": "code",
   "execution_count": 63,
   "id": "afb36da0",
   "metadata": {
    "execution": {
     "iopub.execute_input": "2023-04-16T23:50:40.870068Z",
     "iopub.status.busy": "2023-04-16T23:50:40.869776Z",
     "iopub.status.idle": "2023-04-16T23:50:40.872632Z",
     "shell.execute_reply": "2023-04-16T23:50:40.872111Z",
     "shell.execute_reply.started": "2023-04-16T23:50:40.870052Z"
    },
    "tags": []
   },
   "outputs": [],
   "source": [
    "s1 = \"\"\"\\\n",
    "L.LL.LL.LL\n",
    "LLLLLLL.LL\n",
    "L.L.L..L..\n",
    "LLLL.LL.LL\n",
    "L.LL.LL.LL\n",
    "L.LLLLL.LL\n",
    "..L.L.....\n",
    "LLLLLLLLLL\n",
    "L.LLLLLL.L\n",
    "L.LLLLL.LL\n",
    "\"\"\""
   ]
  },
  {
   "cell_type": "code",
   "execution_count": 64,
   "id": "88d18cd7",
   "metadata": {
    "execution": {
     "iopub.execute_input": "2023-04-16T23:50:40.873633Z",
     "iopub.status.busy": "2023-04-16T23:50:40.873281Z",
     "iopub.status.idle": "2023-04-16T23:50:40.885796Z",
     "shell.execute_reply": "2023-04-16T23:50:40.885066Z",
     "shell.execute_reply.started": "2023-04-16T23:50:40.873618Z"
    },
    "tags": []
   },
   "outputs": [],
   "source": [
    "# Relatively fast non-numba solution, which maintains neighbor counts.\n",
    "# It becomes faster with numba enabled, but not as fast as the next solution.\n",
    "def day11a(s, *, part2=False):\n",
    "  # -1 is EMPTY, 0..8 is FREE+neighbor_count, 10..18 is OCCUPIED+neighbor_count\n",
    "  int_from_ch = {'.': -1, 'L': 0, '#': 10}\n",
    "  grid = hh.grid_from_string(s, int_from_ch)\n",
    "  # Surprisingly, the default array dtype (here, np.int64) is the fastest.\n",
    "  shape = grid.shape\n",
    "  NEIGHBORS = tuple(set(itertools.product((-1, 0, 1), repeat=2)) - {(0, 0)})\n",
    "\n",
    "  def evolve(grid):\n",
    "    def impact_neighbor_counts(y0, x0, delta):\n",
    "      for dy, dx in NEIGHBORS:\n",
    "        y, x = y0 + dy, x0 + dx\n",
    "        while 0 <= y < shape[0] and 0 <= x < shape[1]:\n",
    "          if not part2 or grid[y, x] >= 0:\n",
    "            if grid[y, x] >= 0:\n",
    "              grid[y, x] += delta\n",
    "            break\n",
    "          y, x = y + dy, x + dx\n",
    "\n",
    "    # print('num_occupied', np.count_nonzero(grid >= 10))\n",
    "    prev = grid.copy()\n",
    "    for y in range(shape[0]):\n",
    "      for x in range(shape[1]):\n",
    "        if prev[y, x] == 0:  # FREE with zero occupied neighbors\n",
    "          grid[y, x] += 10\n",
    "          impact_neighbor_counts(y, x, +1)\n",
    "        elif prev[y, x] >= (15 if part2 else 14):  # OCCUPIED, >= 5 or 4 neighb\n",
    "          grid[y, x] -= 10\n",
    "          impact_neighbor_counts(y, x, -1)\n",
    "    return np.any(grid != prev)\n",
    "\n",
    "  while evolve(grid):\n",
    "    pass\n",
    "\n",
    "  return np.count_nonzero(grid >= 10)\n",
    "\n",
    "\n",
    "check_eq(day11a(s1), 37)\n",
    "day11a_part2 = functools.partial(day11a, part2=True)\n",
    "check_eq(day11a_part2(s1), 26)\n",
    "\n",
    "if not using_numba:  # Best non-numba solutions.\n",
    "  puzzle.verify(1, day11a)  # ~0.8 s.\n",
    "  puzzle.verify(2, day11a_part2)  # ~2.0 s."
   ]
  },
  {
   "cell_type": "code",
   "execution_count": 65,
   "id": "dc5e19f4",
   "metadata": {
    "execution": {
     "iopub.execute_input": "2023-04-16T23:50:40.886836Z",
     "iopub.status.busy": "2023-04-16T23:50:40.886633Z",
     "iopub.status.idle": "2023-04-16T23:50:41.701114Z",
     "shell.execute_reply": "2023-04-16T23:50:41.700427Z",
     "shell.execute_reply.started": "2023-04-16T23:50:40.886821Z"
    },
    "tags": []
   },
   "outputs": [
    {
     "name": "stdout",
     "output_type": "stream",
     "text": [
      "(Part 1: 0.016 s)\n",
      "(Part 2: 0.041 s)\n"
     ]
    }
   ],
   "source": [
    "# More naive solution, but faster when using numba.\n",
    "@numba.njit(parallel=True)\n",
    "def day11_evolve(grid, neighbors, part2):\n",
    "  shape = grid.shape\n",
    "  EMPTY, FREE, OCCUPIED = 0, 1, 2\n",
    "\n",
    "  def count_occupied_neighbors(grid, y0, x0, only_adjacent):\n",
    "    count = 0\n",
    "    for dy, dx in neighbors:\n",
    "      y, x = y0 + dy, x0 + dx\n",
    "      while 0 <= y < shape[0] and 0 <= x < shape[1]:\n",
    "        if grid[y, x] != EMPTY or only_adjacent:\n",
    "          count += grid[y, x] == OCCUPIED\n",
    "          break\n",
    "        y, x = y + dy, x + dx\n",
    "    return count\n",
    "\n",
    "  prev = grid.copy()\n",
    "  for y in range(shape[0]):\n",
    "    for x in range(shape[1]):\n",
    "      num_occupied = count_occupied_neighbors(prev, y, x, not part2)\n",
    "      if prev[y, x] == FREE and num_occupied == 0:\n",
    "        grid[y, x] = OCCUPIED\n",
    "      elif prev[y, x] == OCCUPIED and num_occupied >= (5 if part2 else 4):\n",
    "        grid[y, x] = FREE\n",
    "  return not np.all(grid == prev)\n",
    "\n",
    "\n",
    "def day11(s, *, part2=False, visualize=False):\n",
    "  int_from_ch = {'.': 0, 'L': 1, '#': 2}\n",
    "  grid = hh.grid_from_string(s, int_from_ch)\n",
    "  neighbors = tuple(set(itertools.product((-1, 0, 1), repeat=2)) - {(0, 0)})\n",
    "  OCCUPIED = 2\n",
    "\n",
    "  images = []\n",
    "  while day11_evolve(grid, neighbors, part2):\n",
    "    if visualize:\n",
    "      image = (grid == OCCUPIED).repeat(2, axis=0).repeat(2, axis=1)\n",
    "      images.append(image)\n",
    "\n",
    "  if visualize:\n",
    "    # We view only the even-numbered frames to avoid flashing on/off.\n",
    "    images = [images[0]] * 10 + images[::2] + [images[-1]] * 10\n",
    "    title = f'day11{\"b\" if part2 else \"a\"}'\n",
    "    media.show_video(images, codec='gif', fps=10, border=True, title=title)\n",
    "\n",
    "  return np.count_nonzero(grid == OCCUPIED)\n",
    "\n",
    "\n",
    "check_eq(day11(s1), 37)  # ~0.5 s for numba compilation.\n",
    "day11_part2 = functools.partial(day11, part2=True)\n",
    "check_eq(day11_part2(s1), 26)\n",
    "\n",
    "if using_numba:\n",
    "  puzzle.verify(1, day11)\n",
    "  puzzle.verify(2, day11_part2)"
   ]
  },
  {
   "cell_type": "code",
   "execution_count": 66,
   "id": "1f9a253e-4cc6-4b5b-8501-4a4f6328ba24",
   "metadata": {
    "execution": {
     "iopub.execute_input": "2023-04-16T23:50:41.705083Z",
     "iopub.status.busy": "2023-04-16T23:50:41.703673Z",
     "iopub.status.idle": "2023-04-16T23:50:42.006598Z",
     "shell.execute_reply": "2023-04-16T23:50:42.006002Z",
     "shell.execute_reply.started": "2023-04-16T23:50:41.705049Z"
    },
    "tags": []
   },
   "outputs": [
    {
     "data": {
      "text/html": [
       "<table class=\"show_videos\" style=\"border-spacing:0px;\"><tr><td style=\"padding:1px;\"><div style=\"display:flex; align-items:left;\">\n",
       "      <div style=\"display:flex; flex-direction:column; align-items:center;\">\n",
       "      <div>day11a</div><div><img width=\"184\" height=\"198\" style=\"border:1px solid black; image-rendering:auto; object-fit:cover;\" src=\"data:image/gif;base64,R0lGODlhuADGAPcBAAAAAAD/AP///////////////////////////////////////////////////////////////////////////////////////////////////////////////////////////////////////////////////////////////////////////////////////////////////////////////////////////////////////////////////////////////////////////////////////////////////////////////////////////////////////////////////////////////////////////////////////////////////////////////////////////////////////////////////////////////////////////////////////////////////////////////////////////////////////////////////////////////////////////////////////////////////////////////////////////////////////////////////////////////////////////////////////////////////////////////////////////////////////////////////////////////////////////////////////////////////////////////////////////////////////////////////////////////////////////////////////////////////////////////////////////////////////////////////////////////////////////////////////////////////////////////////////////////////////////////////////yH/C05FVFNDQVBFMi4wAwEAAAAh+QQFCgABACwAAAAAuADGAIEAAAAA/wD///////8I/wAFCBxIsGBBAAAMGkSosKFDhgMhLkz4kKLDiBYrXhQoUePGjyBDHszYsKPIkQRNYryosiRJhS1Rbox5sqbNmzZpynQZUufJmBB9esRJtOjQmS9TJoW5NOfSoE2RGpVKlWVUoVMnfkSoU6jXqFmZbgUroCvZsErHmh3LFm3PsyA7yr1KcW1csljvunWbty3HjHbt+j1atO/esF8P89S7syzex4oji60q+e9brSspL65cOTHhz1A5E/V8WbTjwZhRn15tuiZpxqINp3VNtzRm2Z9bI4abWqRgzZlxb5YcGiPXp8eTH/+r3DJS5c2NJ1e63HFx6lwnFt+e3Tr07+C7X//3DjS8eOjOrZoHjF461PHMu2N3zv39+vvCM6fXn5u/1f+6/QRZgKwVuN9wvQGIIIEK9tfZgKo51eBsAkbY2IKxQQichP3h9hqGF5qWH4MPTlUdiRuiqOKI0qnYmEoszpbXbxMy9WGICSo2V444weeggT/GZ+GBk/V4H5H47UjeedjZF92JSz4JXnzVlVdle1dSaZ6W3yGZpIxYsndll941GSaZaCI35nRlrpYkb0UaReNocN1opIs13hmkb3VqWBicGRLJI3G1wbZnjP4RKiiOiu65KIWOGtqanY2COCikl+JZYYqRzWlpophqWimdoT4K5J9DgsqopogqmSmipa7/qmqsrL5kGKynxvmpqaJmBSOcuM7op64rnrcmfrFKCWV9dbHppJjQPiste1pqd+RI4VUb5ZaqKiufm80+Sx+bQroXrrPtjQsll1NiSy5jlNKaa62pLohrW/HOOi+e+doLqK/DvvqviQHLummA/e57L5/17nuwbgl7epOrExcM6cKocqpvsNSSqvF+GHuc56iZXmyrxb1+7PBeEvf2a8MIG/umzFnaeO2yYbIrpbrpbnvsuyA3G/R8Pt+cs83rlcsuz9mCq3O0Z/Y8tNP67gazpAZjTfDVDCZsG7Ec8oWyi/kKO3LJK3OcctYty2q2ymqvXbXCA4Ntt7zr3q01xCjH/92wWV5H2unYaL29tuEiEm713mT3GfPWjK/Ma9qEh7x4xqkivivlXBf+78uHfov2w5t/PennJ5/douCRT246bdOC/vPTczWN7OrcLY00zbybeZvUSz79u7hF197u7eXmvq1L3s5u7vBAS6436Vm77vnfikvfueqacxZx9pazXjrLhU7tt9yt1o15nEqef7rcdL8+OvvZiw1/2/Ja73L9BKbfNf8Ayk/eAiUn9YlMfB4RoOhaV725Bc5+cAMgwyYoP7YZUE+qm1z43hepDXqsPNtDX/lU9r9FPbB/F9QeCVWYQc7Bj4XTo+AKsRfCDHlQYBXMnwu9dL8FlqiDldMQ6P+MRCamQY14sTuX8pZ4LeEVyHiyOx66bMctI5oJiUqcIpOoxqymOZFi0QFTmn62s4rREIgt1KAExwfBFuJvY46L4OVEmLk4DidvN5ThC3cYQ1MZb34E3CP1dDguQcYwjz8cn48MecI5bu6NfrQjbQjJQDZasI45lJ4CKVlDGA7SbSnU394WeckXli2UnuyQ0OSIQnwhJ42pRFsjEcgiz4AQjQA7I+Q2Na0rZrGLvAtj0ZL3yyNGLU3ETNrygITMZequmWNs1xe3WMTiBRNdyeRWM30ZyB91L5EItOTjNPZNkvWxkuTrJAYL6MhDovKTnMylPHcZuhLO85zuc6c6vYf/SkjGspRufKcpfTi3SGZSjbo0pM1g6c/vJZRDyoTmNX1ZRqWBK5pGnFnPotnLZbZPm0cjozEr2qaMysykGsVZ84r5TAMOEKCE8pBL+ylQtQTRhqhbn04T1854MvSmMwxnULlH04PyUZznhOckccnBgO5znTulJCIdCNRxOrUip4TcV/zXSlYyr28pJCXRojrBNRWSi8UEpu7OilG03q6ayPMoNkvaJrOila1S1BZcV9lWYFJRmHHlKF+/NVWi/u+NgFtjyvwpNsTSZZaAPKreCltQQ1E2sg4VKlnD9k97wvKn47zlVa2q2cpSlpSZJS1S59fQog6Vb0/V5Ag/61WF/37qpaI0rGQja9vbEjS33lzlaHvbuJ4mtbZfJS5nN9vAhy60q4+s6T3/xNjmHlCW0qUndWerx4FerbUZQ61i6bVC8H5QuDBtKj89W88UXda6zB2ccweVx23S1YrmEumbaJdSYgYwrVoU4xa/WjOL4neaKb1mgu1j0IuC9KMFXipR8ynVqpYWnL6lsGktvFrlGrXBqqFYctv73m7qNsQdUw93f6deDAf3w+iM7XLN6VsYy7izZpwuja/LY9rGt7vyvZ6Ofdzj9J73xOx8bYeje2Oxxm/I8FWlYPmrLZS+i3gW/WsVn7hlLDI4eMw0mn57F5wmOviP+VXwlUdK2CxmU/+vJ9skcncMVX0+J7vtJXKdf/y98A0xz1zOZDmLa87UBjpygy4We5l84Q13UqaLtvOSGwhZGC7sz7jdraOhzFsS/TlojgUtp6Mc6e+CVdCSZLSeSc3UFyM61ZJudMgqHeQbg5iOSqYzq2vsXarIeX+iXjV9B9viyfz6RSuONVmVZ+IiW6/Ec+60dp0t2x7Od73Rrqyprz3jZmNX2JTmMLUHE0WetdTLUqQifr/s5AhHEWe+c2uKy2xuuaJbsGXEon/pNp53tznezFb0qH2q7IJDu9s5jq2h/UXeHwNX1YCetIsRLu2CfzvXfD71q42aWG7rGqGtZi1YF85TjG9a4h/3Fzi4n53shkP3uEh2uKYf/vKK43DgVF25qAztZzwPF+UUz7m2JQzbbL9FvFU+80lxl+65AtZoWW7zgt2c5iSakOomjbrV5Zr0t55rrNaM6JqnnPCIwzzJPx+3jsRt87JDXOZtNPue3a72ZPlc7rvOO8EtKVqVU7XvcGdgpTOdz62+EudKBblTqqtDwrfcXYpku5G9DXlX2zTyHld80dNe4f/qHG93zzgmN/5k49Kc8o1/vJMfJrHB353koD89skfmepfzuo6wn7zeU27eEXNe93tH+9BvTURYg/3ti00d0dtu4ODmnrhZjbHR+XPsw2m8yRaufk0CAgAh+QQFCgABACy3AMUAAQABAAAIBAADBAQAIfkEBQoAAQAstwDFAAEAAQAACAQAAwQEACH5BAUKAAEALLcAxQABAAEAAAgEAAMEBAAh+QQFCgABACy3AMUAAQABAAAIBAADBAQAIfkEBQoAAQAstwDFAAEAAQAACAQAAwQEACH5BAUKAAEALLcAxQABAAEAAAgEAAMEBAAh+QQFCgABACy3AMUAAQABAAAIBAADBAQAIfkEBQoAAQAstwDFAAEAAQAACAQAAwQEACH5BAUKAAEALLcAxQABAAEAAAgEAAMEBAAh+QQFCgABACy3AMUAAQABAAAIBAADBAQAIfkEBQoAAQAsAAAAALgAxgAACP8AAwQAAECgwYMIEypcyHAhwYQPEUY8GHGiQYsCMQ4s2FChRosfOXYceVHkRpIoUzYMCdFkRo4sJbo8qZImRZMxazKsSHCmzp87e74MybMoTKEyjerseTQmU6AOmSKFStUj0qdJm2odOhMrVpVep5bkWjVr2bNo06pdy7at27dw48qdS7eu3bt48+rdy7ev37+AAwt2+zVu4ZaDE/88/JbxTcWQU2qEO3ls5MsjKxP2aRmz58+gQ4se7VlzW9OmS3flbDf1WtSsP+fc6/i02JuuIYfNbfh2Y99kSW9UWrO28NAggZ81flw2TuVoeTdXPJut9OmDq2PfrvY69++LY1v/Fw9+M2jv5ZeT98s8/Wvogdu7Tyt/vv37+PN3rK8/fHL040m1Xn9LicUfZVcNSGCBj/2V3IK2NcieghBWaKGFANp04UsSVqVdVB2CRaF9D6qHGEnErZRght8VdmBQKe4nIHm7jZiei/ChVKOOOZo1XGwvisZckLStCGSPxw2JpIOrZWajkDQ+mdeHMuHnGosbZqnllpFhySWUX+ZHZJhQeknmmWimqeaabLY515i/xRiVmd0tuRmd9BnpJJ7R2fmbYFSeCKiUdQ4qqIyJ8ekmXoouylejJsbXpHOH6gUpVYFmN6mlfsq1I3JbFXkpVJ+eF6qjqKaq6qqsturqq7DG/yrrrKR2uiqcuNmIq6O7BscgrUH1CdSoZ+JJLLDILmosoXWVqN+yqoU4X68lHVuWs/dR6yt1zyXr7bfgemttuL/qZiuj56KY7riYptuauzJmyG6tYEaYLbPomkfuvvz26yGz2u6LZcDkEuyvf/h2Ce+dp/6o4rzmQiyZntUeKXGiCevb4ZUZY3fxxIdyfPDIJF/b8bsIuvexySmDZ7CnC8d7cl8v93ZszSPjXLLMO/fss4g/oxw0XSsXN/OGRQP9atITM72d0+pCPfTUVFdt9dVYZ6311lw3e/TWUn9Zqs1fpzk2gmFbuWmtIgu89rA9pt313Khmqp3EchtaZbB7S//bstkUt0RUw2iXzd3ZFQtOeJyG0+24puhRq3OuBM6oa8yTJ95fWHAL+2eF2CrN8ucQ5v346fJG6STRjWvqt7qrI/pm63oTqSRs42Y+qIAF4m4x7Q5vHvPpxBdv/PHIJ6/88sw3Lylxuvf7afT+8lQp8tb37fz23Ht9/fKZHo84+IF3b/756EtvK/VsAx+xVL273z7SCXausJahg3x/lqan33PqsbvMzS7XrtcFkG8CbF3kALa4Pf1ONZCy3bpmFL+Hya9dEVzfBPvnvw568IMgDKEIR0jCkrEvONPT4OvG9p/nyGl2vPMa9MrHoxWWr4WUC967sse6E4XPKjYM2doUfjgeA9qrQUTUXmVmw8S3zU4gAQEAIfkEBQoAAQAsAAAAALgAxgAACP8AAwgcCADAwIMIEypcyFBgwYYHH0Kc6NAgRYkLMVKcqHFjRY4WPYqE2JFhyZEEQ5JUmfAkypQvA7isODOmx4I1abJEWBMnzoY+gf40OTRj0ZFBFSa1aXMp0Z47I/qMmhKqVao6Yzr9yLRry50lJeZc+dWr0bJmuapN2zUsWItjhaJlC5Mn1pdij9LVOnRr3a9jk/pNK1hv26lx9wrN67KxYcBwH5stnHjjYMWYpa7dnLmz58+Y884FTbr04rt0L5tezfp0adWtY8uuPBm17NuraXvVjbu379/AgwsfTvym5OIybSOXyvi4XcvOifOW3ncqdJHTqyqvnR24W9iwR6P/DM+W/PLkkK+Oj36+fdbb5t0vj++5u3zf9lNvv0+dv///AAYoYG0DFhhbfgYmCB2CCjaYnEb0OSghZJxN+BmDoamEoYXXFbchhwlGCOKI2pFoonEnpnjRfirOx2KLHH6o2HcvTijiiuLtRSOMFOr4VmaXyRhgYuAZdiNIjvGo1HZF7vjckuopuaRRQp71l11RSvlkj6A1ZyVIWnK55YWIUUVkjSAGiSZe7IXp5ptwxinnnHTWaeedC67ZIZ6vtdmUnnzyBaSfgRIGqGuFJorckYoKx2ij3h0KKX6STmrppZgKWGWmZHL636OesgZql5WG2qep7o2KKqmbrmpoq3Gq/3qjqoHKSuiYrnaWHay5Vmgcr73yBWywghLbn7HI5pgsbsPy1+yipaYa7ZDTQvvsgWbeKi2E2n6a7bWsRuZotxYyyu244HpILnoPVnuYnBjSWp67mtLbm7yt4ftnunnWyy+W9u4WsGn/auZiiAPvuezCDN+pb8PrFQyxxAYbS/GVkV4s5sb3rjuoxgAjmnHCSJFc7KogKwvxyiy3TJbL+ZoMc8gz95kyzeudGN/N7+Vs4s4y+4ydx86y+DCBJfOc4dBK1+x0i00TG3WuRz/NsdXzSmvq1BhbWvW8XG8bNJthY91x2VsTTXV18d71NZ2UlZolsm7lNraWdRN8N9TOvf+NM6pNyuy3kmfavbbCpJqt+OInv/yl46Sh3SmORCE++at7MxU4lX2PbSti/m0OZed2I1gYjJILXHGKqb/7d7+HATu4urx9TvLs0DauueCZ/7ar3LwzLvzwU7Jp6KlS/n585L0z2628sqtNbe3S+6pf66obD/njKGu4ZmC2YS+fl9pzLrKr5As9+vndE+/++/DHL//89dK/u/345x968yyLr///AAzgymZVvT+hBXe0s07S+Jc3BFJHNOXDFvn8l7WuWa50kYEg3vgnwA568IMgDCHD0kXBApGQg8krIJJQSDgVruRfsCphBZ1XHxZ2zHkxtOFsXBixgclQYD8UYQdgHdiu98Sthul7XRGXiEEiHnGJfnsix6SoNw0y74A/0lUW5dK1E64ucU/K26BUtjox6u1q3HGbGufGHAWa7ykoVNOmisQ+JepEdG/EoRrHiDTurc9G4bNX27hYR4QlJCAAACH5BAUKAAEALAAAAAC4AMYAAAj/AAMIHEgQAACCCBMqXJjQIMOHECNKhOgwQMWJGBFeZLgxY8eMGD+CHEmy4UGLJ0tOFKkxZUiDLlVShCmzJkiYJ3HaXKhzJkueNHc+7Cm0qMKeRI2i/Dkw6dCYSp9GdNry40amBaGOxNpUq0SuXKMKBBsUqFWXYVHaTJvW5NO2StmW7Ur16lyTcM16HXv3JUuqYo/urQoV59msTAHf7It48NvCjgOrzCtZ5uGiditHpayZ5GWhFRV39sh49Oagoj0b5myabuTWNZGWLpka9srXti2jNpy7N0fcvrfurh28uPHjyJMrX+6aeVfnwllL/TrbuHTlxIWThr4UOPTrerd//6/OPetpytnLq7/dOf36979Ng4fP3X1s7/Tp28/Pvz9f/wAilxh+ARbI3kwGJojZYPsp6CBfZM33oH+pSThhgGRdqOFLj23o4X0WfijiiLY1SKKHJp6IIoEqrqheii2SFuKCM8YoWI074WgjUM7puKNbApL3Y35y+ThkibgZeSSSGS6pIIxORiklhUJOCeBqSlrpm2xakphll2A+iRaLYY5nXplinommgZmtSeWXbspXZZzvwUnnaHbeKVaeekrGZ597kglocn8OalShhoImaKKMNuroo5BeCGWkeM5JaXGIXiqeppz6tWingU0KaqifjhqoqagimCqhpVYmqpisZf96m6zYWdrSi61qSCupYc6Y6atRVphrdMMuqRiwMhbr5ICFIhusV7u6yFy0G1LbHKehKauatZLmpC2Vq7IaLrZ98cntip9Viqq1znbJrq1y9ghvnOdC+O24HCZYr5n63qudqe2qti6WjO4bXqIGx4fwvFv66yXDwQWM4ZwJ4+Uwf+lVLJiVcGkMpJQdX4zvyCS75nFvXF7JG5gpl+zyy8+Re+7Jb4o8q83jZWvhuzQHqnOu0Z7cLM7xrjf0gxLTqK2wdjqbtKI4Mo3z00PKBVvP+iVJtFqPNki1pl5DXPJ1WD+rW80jln2ot2ovdmSbuIrbWqxj1rn1dEX/21h9Yuf/2Heyayf8tU9T/73xhML+2HaHCr88+OKIGz7V3WVCbqjlMGeuOb+bt0f52J+7jLndtAEduo10Kzpw6fMNviyZorpetcOjFwj3qaKzfa/svRLs8+nP1t758MQXb/zxyCevvNGSI48l8ANnW23zE6sZufCTQb/89tx3bzzvMIPv/fjkl2++49qPi72b4ue+fuXph/s+47L97OpwsEPWNPWL2d+dvffzn96u5Tnp+alut+Ka9U7zMbclMG8KxN1/EpguBj7QgQvUzFl85Tse/WZnQlqNxfB2wL/w73kkHKHfIlSu6nwpcRK8j+qoI7TI+AiEM5xcDW+2Fv4B8H+zC1nrFXwIxPaxCj2lUtL8sle6Ht6PY4MJCAAh+QQFCgABACwAAAAAuADGAAAI/wADCBxIkCAAAAUTKlwo8CDDhxAjSpxIsWJFhwMxWmSocaPCjh5DihxJ8iPCjCdLHgRJcmXKkjBjyjTJkuVGlzNxztzJU+XKhDYpBu1JtOhQkyOPNnx5kWnRp0SVFpT6UCrVqT+hal2os+nVpV9RWs06sevWs2CdRjS7lqxQt1zhclQLlW0AjFfDor1LF2hfiGP3pvW7tOxfwVgNhzxqFzFhiS71bm0s9vDcqnIdJ4YcWTNmxpk5x5XsuXTL0DGDUjbNeudqmKRby57tMTbt27hRjracu7fgvKh9C98b1vbw40mDP0bOfLJymrybSy9c+/nr6dj5Ln6evfvc2Ma9Z/+/fvmt+PO/o6Nfz7790/Du4y+XTz95/fsiJcPH734/f/Tk/fdfgALW51+B4h2IIHYKLsigeg7iR2CE/XFHYYUXRthghhx26OGHIIYo4ogkSghhic1tiCJrE654XIsuMqdijJrNyCGMdVlI42Cz4eiijTsSd2KQPepIJG4+HtkakErm2OSTUEY54JBSlsZklVhm6ViSC+JFpWlcIuhld1dq6ZOZaKap5ppstolmmC8aKR+cw9EJ4JdnJVkmcntuBx6ebgYqaFwggoaZcH3W+Zehudm5nl2vJeoVoBXWFJykg2aq6aacRkUpZ5iKeKWjTZJaXqc8vvcpqqy26qqQr6L/FSqqs3Zaa6xLroprW7LdOqWv2rVp6q7ENipndR0BqxifTg0LnUG6aqWsaEilNy2vzFqKmLOeynhsseCGe9q1wn4r7rnoUkium+uaN6K23rXLYrPRWlsve9xuaa6J8mYY6b64/tvvdl1GN3B1BS9758GpHZtvngB7q1/EnjHsGqAWEyomxvc6lzFsHSMa2cdnbjwmfxsenGzIt6XMcsN+kUuykyDL/PJ0CtosMqyAWaazb4kGlu1JM6valsU6FW2UzxRLe/Ohms6qdKEGN01r1VN/SF7WVAudbslfgxz22GSXbfbZaKettpbAPqz106DCfaHbu9L9Ktcxrrx2z6nKoTQyqyO7bDeKg+9tuIFyB5x43Yvf3fjhkEcu+eSUV2755d5ivpnm0HKum+fjPd4q3rvt7HG9bVvd7ek5iT7fvK/3NGPqtMFrtOx05fvvZ7oKzPRYgueuOlaMll7zotYlHzzUpoPN9/NWMh0nzNQyXzHWrrvrJWikEw9h4QQH63ulQyJNr/X4fml+7J3HZxyO3ccJH/zZF+xf/PTlXH/e0QUEACH5BAUKAAEALAAAAAC4AMYAAAj/AAMIHEiw4EAAAAwqVIhwocOHECNKnEixosWLFhti1Iixo8ePIEOKFIiQY8aSI1OqXPmwZEKWAVx2lAmzpk2QNFWaDLnzps+fEXt+FOqRKNCjSI2eVHoxJ9KnR53ORJlSKtSrNa1WZGqT69CXUcFuFLvQK0OySdHqVNuV7USuZglqBTr3a1yRdR3mJUn1bV+oe8fe5fnXL9zCehFjjek28WKWZu8GDtu08eOxfitflqv47ODNlz9n7WxwMujTpS2jXs1asmrWsDe7jk0btmm+tXOfvq279+igpH0L/3lY9PDjX4EjX55WOfPn0KNLl/16emuXqo2nto4ce/bqLYNz/5/OO7X28b3Lo1/Pvr379/Djy1+rfv567/bz69/Pv7///wAGKFF9AjJHYIEIJqjgggw26OCDEEYo4YQUVmjhhcSBh2Fs5z14IEwfNhjiSiMu2KFPJyaYYlsbQldii0+92N+KMMaoYY273YgjddLJuONNPv4IpI5CYkVjkUgmqeSSTDbppHBBPlmUeFIaRiRjVY5E4JHWRTmVel6SR2VYYI7pH5ePoXnflRyyyWKWoKkJZ43nyblknW7OyZhxYSa5pZlk5gmfUnaSCCh/hApKGYRW9WlohI0eGt6Rjm7oY6UtUqook5rq6emnCuJHYaGjYToeqaCWtWmqW63K6qt+Yv8HK4qyzmrrrT+iqmqb7+l6Fq/shUmUqSe1JyxbxLZq6V++7tesZ2I9m5+0ECWrn7WTuqqipLh2621VtWb2bWK8UVtkYNgiiS6347brrpbc5mWug2Umeiue2c6KL7naYjjvYunG2a9ukfbqasAUDTtwjvQtDK95DidMVb0LF1puZwhzphHFv7Xlmr08FvTZv48O+J3A2xXLXWQRf0qyni/j1DJ6MSc36syl4ryyzpCxeybPJe9qcnwg11Z0tUBfdXR3Zv7ZZnFJ49W0zzWLTGXG72YtYtSpVl3lulrni3TYMnvtJNZkp6322my37fbbcBvNNahmN4l2lnc/afHcBZq1tHfX0fItpd+C6104YD6rnTfeh8NZd9yQRy755EJTXrnlEGOe+biPc2Zg41YTDLqyDEMZ9b4om660m4nKuTjUrfLJemPHVg27xLLbHN601c2GGV2j0yru8CoHKrpTreuIfOJ7Xnlx5weFiyW/lRGOp+wjB385br/K7HnxUk/lW08KE/Y96Q9PCb3Ytksvftnam7wx6KLq7v1z64cProvxr9Vz8oZzXXAWZ7C/OWZwM1sap3QUEAAh+QQFCgABACwCAAAAtgDGAAAI/wADCBxIsKDBgwYBAEDIsKHDhxAjSpxIsaLFigovatzIsaPHjxYVZgRJsqTJkyhFLkTJsqVLjyMxrnxJE2LMkjdN5pS4s6bPgj1hzsQp8qLKn0iBDiV5lGjQh02TJn3KMapQpkulCqS6kevVrx+91hQbMqtOsxStdrSqlmVbrRFvvuVZFCTbui/nwnUoF2/ZvSnRBg47lGxDw4AnIl4rOG3hxokP+yW8GGzkxHo1Zh58uXNXyJ5Di5Y8unTkzQNVVjbNWihZ1aBby55Nm3Tq2LVzt+yruzfSu76D0wRuWbjx4biPK6+afPll2FubK5buHDD0AKttUq8eGrVM7sa9a/8HTx779tvlwWePnp67+ITn249+L7++/fv48+vfz7+///8ABijggAQWaCB+9B04W4IKNujggxBGKOGEFFZo4YXVrYchXBpuKFWHHv4WX4hTjZjXZBeCuBuKDJJ4IkEturiijLKpSOOMDNl4I2c7dodij5j9COSQ/sVI5ElGHkmUkp3pyGRZTj4JpYlSMleldVTKFyVd2SWJYJZTGiXklVCNuOWQGp7ZnppkjueilwOyyZycX5ZGZ35wnnUjg3nedmdwaTbXZ3R/+hbod3aBmV6M9DlZKKBj8hVpm2XaRumSOSp6qZ9ZDbopoZ1O+umopLLmaakHnerTo8KxqmeErmL/iiqOs9Zq66245uoWlZXFWiSv1Pm6H5ziCQujpnaKWuZryP61ZrNxQdugsMbiqayzCFX7pZpUabujt1KCS6aqt5Kra242iqtgutLuuRKz5vY4ErzXWshtpPEqpS5ygXVb75zt3rcvfDIOrJSpwN5LsGuC/qsViObuxC5i+RJ2LKI/9UlxwFhd7FiJ7E6XrL8kc/yhw03iq7LBjLHsZqWZamkyj5JaWp7L5+bc6syl4kxjxT2jrPPCIvPLIc+00jUW0qky/RyLmgItmc9nSRy10IlSnSjMFp/2bmNaZwuao07HbJ7NtEndmldqU1a2aGxjXefQjNHtcbR2H6x03pzyyx2m34AHLvjghBdu+OGIJ+5g2Fx+zTjNyjXVto+Km1355ZhPOPmlm2fu+eegpyg3egd2fizEb689et3FxZn63VaWjtad3vaKG+qvJv1wsLcDC3lt14mNcc0i4m2oami/THzGDT/+sWNBadx8784XPV30q5Me7cbkMTr769or75z3wmMpU/XmyVltkqYDrLuIuB/POPetp5390tYzPDX4kMa9ZWbtC4+oIgY2/i0Ia+oroITIZzT07S54kmLVvAxoPwjuj3nsydwE6RYQACH5BAUKAAEALAQAAAC0AMYAAAj/AAMIHEiw4EAAAAwqXMiwocOHECNKnEixosWDCS9q3Mixo8ePExGCHEmypMmTAUSiXMmypUuBKhvGfElz4cyaJW8q1IkTJ8+eNBH+BMpSaMaRRonaFKrUJ1OSSVEOdTi1KcyjVmU+zYk1ZNesBauCjYp0K0WyYK+K9XoSbUe3EuFmlatxrUW6F+1qJWhUL9Svb82mXRqYb1+ifiPiHXyVq1rAjCOXdZxSsOTLmPdKhdyWc+aVic96pvy55uK8lkGnLt059MPTf10HXc26tlXYtnM71c177OjewIMLH068uPHjyJMrX87cq+zmyXHf/Q398vOd1KtHvm6Yu/ae0rV6//9umrZo8sC9j0e/m737x+/Zh49Pv779+/jz69/Pv7///wAGKOCABKI2X4Fp9ZUdggw26OCDEEaY34ESAkVhhRYuiKFS623ooXYdfkiaiNuZR2KGdoV44mu/qbiiZku5+CJhDF04Y0U/yXhjWObpuCNGOZr4I0dT2TgkRD5WaKORQy4p5JEwngflRrIlOaVBTF45nZVKatidl1pWZiCYYZZJXpY8cqkbms6RWeOT8sE5GUhqNhhinWbOyGaeVMnJJ5V+/oljoGZeh2eEhrq5n4IjDnpodIf9BeijglZaKaV7DogpoRBSqqWnloYq6qikzvkdqE2h2l6pH6l6pKsoKv/K6pezAlpYbbCWdytrubqEZq/9/SprrcQWO+mwb4qHbKPpcYqkZ5nSuSyIzqZarVOHRvuStpsBi+u0LXlrm7jJQsftZ+eWSK5q60paFJxJtsssVymCix1mdC2WbozQXitvn0EWea2j/SYanFgCV/dvlDQ2zNzCHqEFMYMS23tpRr3uG2djvk1s7McghyzyyCS3anG54Z58sMr3+srympG29nKaBc9srcYa0/qmx2ytOhvDxm0KXr/L8UykzdYhnaDSvik2rdEcw+y0yb0ZLR2TOZuUtcn1Jgp1ZV+rVnJcTOe5daEDj6322my37fbbcMct99x0143ymWU3vTHeYW+fmffNf3OYdql9O1340QoPztvZiAW+9OEsYqm45JA/G/W7AbPMuOCXs0u01o5nOHTkoKMn9LOVj17a5sd5DHHXyOp0+qC8Zies5KqPia+Q6ykIqpPtwta7740b3KyOyDPdd7rJlydw6oJnXtbzobe+GutiNhk69OgirRL27p39/eQAio9x9cplfL6I3nJ/m1ngZ+9hxe7XJzv6J97/UUAAACH5BAUKAAEALAYAAACwAMYAAAj/AAMIHEiwYEEAAAgiNMiwocOHECNKnEixosWLERcO1Iixo8ePIEOKfIiQYwCTI1OqXMnyY8mEG2G2nEmzpk2GKG/qJClzp0+FPX8KjTm0qNGjL48qXVozKVOdOZ/SjCo1JdWqK69iBel0K86SHbt6FSl2bEytPNGatahWatu1P98ylQsXatCxdOva1ZtXr8SyVu/e7DuRsFDAIw27FEyWsV+uMBG3lBxS8WOHGilnBTvZ8WWVmT0/tvyZp0DST1HvVI1ZdGnWTV0vLg0R9lTZtHODxq27N2TfwG8HH068uPHjyJN/tq2cNvOTnJuv1XyRuvSl1qvzvq7U9nPuLL+D/+e7fXxw8eanl0/fGz17rNnft48uv779+/jz69/Pv7///wAG2N16AlblXoGxIZjbgQo26OCDeNEHoVGSxTfhbVoxeKFptRG4YWIefijiiCSWaOKJm6FooGsa4mfhbyp+xeCLMXbWYo04emQdjTl2qNaOEvbYUIZBDlmkkAd5xiOSTJL40o1IPhlik1RWaeWVWGZJlJbCcTkTlFSC2aSYTJIZpYdLnhnWkV5almaObrLp5Zx0zlbnbnfmqeeefPbp55+ABirooIQWet2bh005HqJxKfqanAaZuWZ6L0qKkaVwOgqfpsBhmmKXznE6lHueTrpgT94dKeWmpf4VZKpUrf+6YqsZ0ceojpAmOtpdt65JK3S7egWYZr3a9GtsORGb61yi1kUkh3AVSx60X5F3LHacSZulU9pqGRqFywIr4LdFxXetsM36qmS493mq7LmGxivvvPTWa2+w90aarn3P9QVvqOGt9+9l3UI3sHIFF3ynv/uqyDByB28YcYHJsstWwx0WZvGm+oon5lsKG7sxZB+PvJzJuJY88aX7Pvsovni2BrCzKKfFa81I4TyYzjLevDJQP4Oa75ZDn4WxtzwXrfTSTDft9NNQRx1q0AqGjHTTJlENY8yNVkxpy0e35jV4CUcWNlBGLpp0kqedTbTMJLtdUb+vrg00bqhZzXLAFdNtDbKjv5ZNLYhzAy43RYLDzTXidhen95eNE/e40CcHqHXbFMs5+diYH3fru25zLq5xxbq8s74Qo9qs6SKj7rnqO19OM7mxH/417a3HmLXto6O4+2q8qy0r8DVKKbvlwY+ZfKbHAzi5lc0jr1JAAAAh+QQFCgABACwIAAIArAC6AAAI/wADCBxIsGBBAAgBGFzIsKHDhxAjSpxIsaJFiAkVXtzIsaPHjyBDihxJsqTJkyhTqly5ESHLlzBjUnQps6ZNmzRvjsy5MKNOlTx/fgx6MKHQo0gd+ny4NKlTpE0bRn3KcCrVn0SvCrSqFafGrgazgo0ptmvZsSzPoo3IU63XtUfbfnXqFi7KqFx11rVrEq9RunP5aj27N2lhwWwDFxV8GDHTvwTzmoXsmKNVyYMpV97MubPnz6BDix5NurTp06hTp2ysujPrmZpb61UcErNsmK8n5r5dmzbJ3byH+g5OvLjx48iTK19+EjhzwM9DO48edzh1uLavT56uvbv37+DDi/8fT35s9vJpKZ9HDzQ2d/Ydxb6H39L6evoes9/Hbzl2Vev8gXTYfAH2BGCBCCaooIAHLtieg1j5B+FK+00YloT/WZgfhgZqKNx/FXqolG8ZDdigiCIRiKJUHK7Ym4ouRnZijPHNSKNFId4oUY469ujjj0AGKeSQRBZp5JFIBsnjkUsaCeOPTyaZ2FY2JklTlK5VKSWVW+LYYpcyYgnmmGSWaeaZaIappZVfkinmjW+mKeecdNbJpp0yqrlfnL1Jp1iJbQ7EJ4N+ltSkmob+dahoi1IJ41KNygbojmteNOhnk06ZHqaV1reXX5tFeWkA64Fa2aOBRsglZ6iOWt+qoXb/yqisqkbnaoq0Ehmpkqni6euQn+YqYrBgXvmnRu/d2pqxF8K64a+CCqurtMkBN52ypFmbK7ajafsitcR5yyC3nolbI7mc1igcuqeCy6uvuy7mYrx5GsduopTe+2y2J9IrU6Z+mhirvxEKjBhRAHdYkb4guvtgUZixxrCBE4+obbAVl9vrhRg77CBhHj8cHMiOZUyhextDlXKWCK8sFMHQxizzzDTXbPPN/I4K83E7Uxwyzz+zOOGtLZsM1mUuW0xi0vai3Kp9QZdG8m8HGj3ZiPgmZvW+nvbLdNenXew1tlur25+XN5V99tqwVYdR0Gqvtm3VcEeNVpx4222e3XlXHhtyz45CHffCdecN8uBtU10T4nwRrXe4X0/LeHEBAQAh+QQFCgABACwIAAQArAC2AAAI/wADCBxIsGBBAAAMKlzIsKHDhxAjSpxIsWJEhBYzatzIsaPHiQgxfhxJsqTJkSETnlzJsqVLgSJfypxJs2LMmjhz6txJMyXBmzyDCs3ocyDQoUiTLjz6M6TSp1CZGnUKtWpQqQaLWt3aU+VDrVzDrsTqkKzYsxbNMlSLtizVrWBBvm1LMW7UuXLZ0r3oVaLevYAV/p0auHDdvnwNK4Y4GCbixZAjS55M+WxKkXYraw5wWWXmzTo/gw792KTo0Tgba1SN+uTpj6xbl3w9G6/sl7RJ5r6N0jbu0rzHAv8dfGbs4siTK1/OvLnz59CjS799fHrS6taH7s5+Fzv37+A3ev8P79r2ePK1j55H33vpcPakG26Hr/t90/X0/do/uD9/bbn+1YRfgAQWaOCBCCao4IILDshgWv092NJ8EtbnYIWCUUUhhhBi5huH4l0GonEijkiiiQJGiOKKzV3IYlYqvthhjDIe5mKNN9bIGY06AthjeT8GKeSQo21IZIY5vpikjEse6eSTUEYp5ZRUysdjlU2iaKSUWwaX5YpfAtaZZR86N6ZYXVap5ppstunmm3C6FSaIaTo25HlzZpcnUVdSuedyOf6pXKB9QrfbknXu6GWZ/P3mnaBdnemjaYx+VShdnanmYpqQtvVZp91dKpxUoD6V6E6nSlbqjNLhF+aqm73/Kup3qd5ZaZxs1iqkrgZyOquCvir5HqzokUVsq55pOJert7Ln4bN9MXusmM0S1l6C8zGL67a4Ttvrrw/G5m2LfY7LnLjgMojukQ6ai1q76cLH646DuRvWvNnGe5W+1NrLGL97zZsiWGcKjJS/7hFcosHaAczTaZo6XN9kEPPoL8K96cXwgYdWyy1XGDsrsY4bCxsyyB5nnDJ4JSO5MpQnk6fey2aaRzNHLVdmV84Z+mcsv2rFLNTPlPIlNIka3xzi0TJ1/CfTxB2G6siLRbwvqKl23NGGW/JsJZ7VPvqy1yzBm5hH9Sp9V9H/whajwWTTqfbHdNddHtTTxc0h3tbxBM1TQAAAIfkEBQoAAQAsCAAEAKwAtAAACP8AAwgcSLBgAAAADCpcyLChw4cQI0qcSLFiRIQWM2rcyLGjx4kIMX4cSbKkyZEhE55cybKly5cwY8qcSbOmzZs4T6bMybMnypA+gwoFqXKo0aMMRSJdijSlUqZQezotGrVqzacLsVrdSlKrQa9cw2bc6ZCs2LMWzSYFinYj2IpvbcZt23CuRLsz8dL9ynZsX59q9z4MTJFwTsOCEytezDgv1caQIeqNHBkxZZeTS1q+zDKzyamcYW5uCTo05r+mOY9OrXg1a8GeX6ONvdK17La2b+vezbu379/AgwsH/Hj47OLGxeZObnQ58+fQHUeXinrtdJ62aV//SXQ7Tu3ew4v/H0++vPnz6NOrX8++vfv3RMHD5+h8vt+n9e3Hp5pf/0Xk/p0W4IAEFmjggQgmqOCCDDbo4IMQRkhadRIWRmGFdwGIYYYbdujhhyCGKOKIJJZo4omNybehihL2t+KFKMYo44w01mijVS5imKNAO6bHIo8wEvjjQRrGOOSNSCbpVpHdOTjkkT4yWZaUB8oHZYM9fpSlblt21OVpV6ZFJU1h1hZkTGXSN6ZfXk61Jm9fsujmm7tt+SV5T54ZYJqf0WncnRrxaRqgSyopaHCHDpTob4sS6R+h+pUGZKPsSarkpVX6CSKl6yEGKXye6vmgSKGKSOqFnOIpqqMfZqcpprDGpyprkqnu+aqHnyKY62u1Pnqrjqu+1GtrwQrI2q7fFYubslwhm+Cw9kErF7NVOUuctGZiO+t81qbWraLUQvctQdqm+Guh70k7brOrrrvuVq4OWy5j8p7LnLrhdpVvQa62GVt/7/K7L7nt2ltfwPr2+Z+Wfs7bpsKS2QskXBIrlOvFACIs2sBTCgqWxmhWnJXIU/LFK8kmb5zytiyLi7KTL2PJcYQgCxYQACH5BAUKAAEALAgACACoALIAAAj/AAMIHEhQIICDCAsqXMiwocOHECNKnEixosUACBNe3Mixo8ePIB8eDEmypMmTIUeiXMmypcuXMGPKnEmzps2bOHPq3Mmzp8+fEFUaBAC0KFChGIkaXZozo0KkTKPCdFoQqtSOVktmnar0KtauKLe+FOtVItWyZjWirXh2rUi1buPKnUu3LtmhdxtmzFuWr8u8bSnuBWuXsE2/dVcGpok48cnFjiNLnky5suXLmDNr3sy5s+fPoEOLHi0aMmm3pk+rXk2wMeuirl//TC2bKe3auHPvjK07peGgv3uPDc7wtnCexo8rX868ufPn0KNLn856MPWme68zhqu9ZvLuj4mD/+c6vrz58+jTq1/Pvr379/Djy5/v/Dv9iPbvv9VPkjf//wAGKOCABBZo4IEIJqjgggL6R6CDAeZnoIQMVmjhhRgeJp6FEELY4IYVenidiCJSRyKI7XWIInslosZdhhQ+uKKCLc5XI0gxjnbjRzkW5teO/c042XdA+kYaYC/OlmRmSBYZpJOF9SWkZ1CaBGSVwvU4EJa9aamldipymeWUW5I5oZkDfumedWWKOWJ2baIJXHlWqVmcnLlt5aSbqu2J54cZLsTnZ3bqV2igiCb65qHysUnjkoNKZ1qkzyH56JwH/vinepqeqWiZnw4ValKjDspon5sKtiSGpza66nIqUaQKXqyp5gmnb7IKWquSjLa6UZ2vSpnrcEj5ut2wf72IrFZgLRtWs7vqVGy0PQHrLHPWUsuptqMiaKyqLX6ra2z5iZtWuMFame5T61bFLVvaXosfms5e+W54zFYprp7trrVvvxfxKy++LLkJbEtkGavvve6yi7B4/95IqaMFQ8wwXtFOfGvFDhlcK7IeV/vxxfuR1+3JKKec2MDTsSwpySnCnFlAAAAh+QQFCgABACwIAAwAqACuAAAI/wADCBxIkCAAAAUTKlzIsKHDhxAjSpxIsWLBgxYzatzIsaPHhxg/ihxJsqTHkCZTqlzJsqXLlzBjypxJs6bNjQdR3tzJM2NOhD1b6nw5NKjRiUWFAj3KVOLPmEmbSk34FGbUqVgvLs3K9ebVrmBL6qwqduvMn1/Djs2ZMi1LtGbDvkUrkKzcux/h1mWLt69fmW7/CqYYeLBhkHwPKyaceLHjx5AjS55MubLly5gza97MubPnkYU/dw19srHo0qRxmj7N0S7r17AXp47denXF2bQ1umaMO7fN3b6l9g5eczhxqLaPm9TrNLlyksyf87RrXDr0xtWti8yuXSX37uDDi//fHne81/Lmi6NPf3Y9+/fw48ufT7++/b7A7y93rr9j9P775QfggAQWaOCBc32H4EACLujggxBGKOGEFFZo4YUYZqjhhhx2yFqDHgYAYogklmjiiShuOOJRChq2olEtDhajSy9WNqNSN3JVo47uRbZjVjmu9KOIPeI15HmzBUnTkWApWaCTBEJZVmxSXrcZdfxNxSR+2GUpnJePrSVjkWFuVWVbZJq4JYVrVlhUmwa+yd+Z4rlFZ3hfwRmhnikqdKd9f9YXKH2D9mkogoXKl2hmi8LXaHp8PhjpoVSCyeGkklqqoqaUdnrho+yBOh6miHLq6amopopjmpk2ROp8drKX2tOftM4p63S3ltZerKI69N9CSQLVK1Wm/kaXr7mGNKyfueLqarEsFrksYs9O21xEr+6HWLZCpsmtlch+i2Zu1u5V7k7nrimuVlBGtW63dK7rLrRMVfkusrI1a9G9z9pIb7T8ovsvjMcyKqy+QZ07LpFjqkoUXwG/V1XEjh5sqLIIG+upwspx/JzHxFEM68ATgnycyVwFBAAh+QQFCgABACwIABIAqACiAAAI/wADCBxIkCCAgwAKKlzIsKHDhxAjSpxIsaLFgQgTXtzIsaPHjyAvHgz5cSRJkyRTntSoUiRLkChbytwYcybEjClx2twpsSZPhjpDBv1JtKhRlT6PKl1KNCnTjk5nRjU69GnJlz+nFq1qlSbCrV+Zau3qcqzQsEvNkl2bUW1WtGvjAm0rl6vcuwXt4t2LVy/fv4ADO3QruPBOwoYTI4WruDFPv44jS55MubLly5gza97MubPnzx4hg9YsejRnxKYno7bYlnHqw65ztsb62mZpr6trS6WNm7dusb4p5v5tO/jE4cRlIr+dXDHz5oKRQy9r3Ov0o88jZr8eujp17mDBi/8fT7689tjmA29P31U6e6Xu38ufT5/v+vpU0eN/2nr/3v7+/eddgMARaOCBCCao4IIMNujggxBOB2CEb91HIVT6XbhYfBp26OGHIIYo4ogklmjiiSimqOKKj9HFImsuNsdhewN+NqNVN76o434WvtgjizmaGOSHP/ZVI2kZOjakekcmVmRjS/KXJJRNKlmlalc6lyWWAkXpoUleEjmllsQ9WdeWO940ZpoGreljWGFSqFOcF5qJop09uclmAHgKiaaOdL6XW58HDqpnhBYGKl+if+7p6KNtQpqnpA/1qSh4ljYK5KFpEprepXVqmqKnI5JK6amoIvrShJLGxKqjpoaMGOt5oF5W61y3VpbrXP7NStiukfl65awY6pYdsRwBix2nyjaErGXN4ipqas8WOFq1aU27oKHYVvRqZtxyCtaPtX7rZbcKuVdujBhpuxC6ebkrobx+YuYpsLPRy5a4lep73GygBdksvMu2NDC/qbYYLYIEO7hwgg//G3G2lDV8ZsX+lpqxhhMb2LFlAQEAIfkEBQoAAQAsCAAUAKgAngAACP8AAwgcSLBgAAAABCI0yLChw4cQGS6MKDEhxYsYM2okOHHixo8fPWoUCbKkSYokT6pcWZGlS5cpX8osGXOmzZs4IdbMydEiz59AG+4EOjSo0ZUIi45MmjGpz6NQXzqVyhTj1KhYs2rdyrWrV6NKI4Y9+HTr2K9Cy4ZUm/brWbQ937Ylm1YuTLYO7R69arIjXr5Q3+qFe9Kv2aoXBxOmaVExUsQo8S7+6XiyZZyVL2veHFgy58+UPYMebRMw6dOlIaNefTcz69cDTcOevdE17de2b+vezbu379aif+uWHVq48YK5jxP2m1y51eAgmUN3LrM5WevUvRLPjns699PYv3P/DS8+tmrM3suvJU9XfXGe7N0rTF/7vPzHQbff70t//+L4/sHXX4BaSUcgaAYeyBmACs7EYIMQRijhhBRWaOGFGGao4YYcdujhhyCGKOKIJPJXIlYPnmiQfio6aF+L6KWoIosw1mjjjTjmqOOOPPbo449A+ihji0OiVeSJRwap5JJUMVnYgEAClqRKV9HYnUhTPpmgcFhC2VVKWb43H2tgeunkmWgeFteLabY3n5VLyhbmhXKa2eOWbebVGJt59onanCAC2iGcfhJ6o12C+oeonTMyGqejSiY6KKR+VmppYnw+JGl5hiJHaZSZWtopiZtuWCqGo+r0KYWparqqkKFWoNrqpbTeGWuht8r66nezUrkrd70+dupltjkWLKeQDstlrqoq29ux5mVmWIG/mkjsnmouV+2zzOYEravDdRvjts5GR+5T5YJ3bk9IiisWZF0G6m6z6NYL27eMuehUmenWte27+u674rxo9juhwa4a+6+6AAaLMFEEL8Xfw94uzC5jFKP3Z8T3ckxtxizhGxXId3V838Miw0oygSsH2DJcAQEAIfkEBQoAAQAsDgAUAJwAmgAACP8AAwgcSLCgwYMIEypcyBAAgIYPGUqcSLGixYsYKTqEmLGjx48gQw50uHFhSZEoU6oUSTKiwpMrY8qcSbOmzZs4c+rcybOnz59Ag16EybFjS5YuLRINcFQo06RFMzYFuXTi0qk/sUKsapJkSq1dr0LN6lVj2YpgPaZNCJar05pue8Z9q3PuTrs+8XYVaFcvXbJUI/Yd+/ev371PCys2i5Qv4cWQI89ci/Cw5MtPD1vGzBnt2c6gA28OTbrg6NKoHaderfQx69emXcOeTbu27du4c+ve7Zk37NO+6VIOfnm41c/E4cr2DDx568COmztPTH1lSePTEUs/iD0748nIvRv/XS6+vPnI28t3H39ebXjo7eFbJx8/Ksr19Ue+v78/f+X+/uVFX4B3DUjggQgmqOCCDDbo4IMQRijhhBRWaOGFGGbYIH4aMmdgh9+BqFJ6IpZo4okopkgQiSiyqOKLMMYoo4UumlhjiRzOmNmHOvbo449AspbjjEMaBiBkRYKWJFBLvnijiE8GKeWUHzWpopUpYtnikVR26eWXN60XZYJi8qihXmMqiKaZYLbp5ptwxinnnHTW+WaaGeJJI5f/Xcknd2xC2JyWCA7654R6XpionYw+6CKh8T16KIOLVljpnpf+ZuZmkBLHaaARDtnpgaJO2meYoBbYGHuodkbiaaOyVGVqga/OGut/mbZW66e55mqfULciZqRivaY6n6/C5oQsrsY6OetLzxLYKaHL5iYplM2e+mt7waomUbXERntstrOBG5u5b6ErrbjOqmtQtxjCq1tAAAAh+QQFCgABACwQABQAlgCaAAAI/wADCBxIsKDBgwgTKlzIUCAAAAQfNpxIsaLFixgzKpQ4kKPGjyBDihTpMUDJkShTqkxZ8uTKlzBjypxJs6bNmzhzFnzo0iFEkz97auT5U6fRhEQRclxalCTPo0qbRpQK1afQikSvGhWqVWdSkFmpHv1qkGzVszbNTu2Ktm1ItiyfOnU7Ei5KtUPF0sWqdy9DvH4b2g28ti/huIMP7zSsGGjixj4hS55MubLly5gza96MmDHny4A/ix5NurRpvqc/P07NurXr1zlXwz4rezbU0Lb94s5NOytvxWFh1v6Nczhx4U2NH1/Z0vPym8ptR584HXb1snKf792tPbbz7t7B6//+/vy6YPLLzUcVTz37S/WuueeFzx6j/Pr48+vfz7+///8ABijggN3dR+BHBh6YEX0KTtXggxBGKOGEFFZo4YUYZqjhhhx26OGHpTEIoYgglmjiifwlWBmJyLG4FXpuuVgcjOOZJiN+KnqYY4c3DtgjikAGKeSQRBZp5GY/BpgkgEv+1+SDO3IY5ZFUVmnllVhmqeWJT/bXZYo06hgmj2NKWeaWaA755X5r6jelhm+66V6RcW7ZpldnynRneITVueKci40FaGu77VmfnxYiClSieS5aoXGKFobZjlNG2tGgkFGKaYyNptVppp/StKelk34K6abSmXqmoeyxmuar4Lka2ieqdYUaH61g4WoiqR/KWqCtEvqqnbCSBQQAIfkEBQoAAQAsEAAcAJAAkgAACP8AAwgcSLCgwYMIEypcqBAAAIYOHTKcSLGixYsYMwqUuDDiQ40gQ4ocOdGjRY4kA6BMybIlQpMVV46U6ZIizY0fa2qEGdLjTZ0vcxb8CRRixJk+i3Y8epCo0qcEnULlOVQo1KtVsRqU6pIjV61gs2r1ajWs2a1MG5b9erYtRqpB0bqdexYmXLp4ldpNm7ev37+AAwseTLiw4cOIE99NzDjh4saQU7KNrLgs5csq+WKm/HhzYbKeOX+cnJF0aJuWdZo+bRTratZRk45NDbuk7NqVcUN+DZK37ra+fwsfThx28OJXjyMv2nl5bLDNneN0TVs6WuWtrdvG7liz9rnRvyf/ry4+LPfyPb2jN69+vfvB4d8DjS+/5vn6F+/j38+/v///AAYo4IAEFmjggQgmqOCCDDbo4IMQRkicfghSeCB9Eg6EYYYcOrfhZ+0F9iFhIwJH3m4n/mWhWyvW1yKBLw4Yo4AzdmjjjTjmqOOOPPbo449ABinkkKWliGONAJYIoZIyGnkjkv9B6Z+U/VHJn5X7Memglg9iiZ+XTYLpHpcMivmemUSmqSZiaK5nJZmhvRmidG2KV2d5aN45W196UsfnnLU1hyScbM6pnJZ9jhccok4aB2h3hzYK4luSZhYpa6uRRuiZj+KU6GWb0ujTp8ONSuqaGZ66nKrIsVqcq5gKEBVqgCvNmqSslTZYa67uBQQAIfkEBQoAAQAsEAAaAIwAkgAACP8AAwgcSLCgwYMIEypcyFAgAAANI0qcSLGixYsGH2LcyLGjR4wPNX4cSbKkx5AQTapcyRJkypYwY6oUKbPmQJQ2A9BMiDOnzJ41dyIE6jOmUJhHh74sinSpUac8oTKdSjWj1KpYg17NypDoxKRcwyoF23Wr2LNkG3o9y9ah2bJp21ZdK7euRbp28+rdy7ev37+AAwsezDQu4byGD9dNrLgt48ZTUeKFLFZySMp7J2NGe9mm5s1hP4MO/XY018emU6teLRg1a8+lX+cULRu269q4Z8fO/XM3ydubaY8Ejll4R+OyiUdE/lr5Quermav1zVu6QuvJqS/vzHv6b+3dZ4LbDz98PPny59OrX8++vfv38OPLn0+/vv37+PPr38+/v///VgHokoAXYfefgYVJNhh0Plm2oHkERijhUwzuh2B/FfKX4XsXasjdhM9BCOCGIJZo4okopqjiiiy26OKLMMYo44w01mjjXSIemOOIO2LYo3wk5hckfkd1OF+RH7Y45H1L3ujkk1BGKeWUus3Y5JFJsmgklSuuteVhJHqZZXdXUlQmaWdKlGZWX3LUJpNjqrhmgnN+9aNjcXZ5p351HvQmYH+OtWdggdLXZ3t9Hsqeolw2qlihWDJKWEAAACH5BAUKAAEALBYAGgCCAJAAAAj/AAMIHEiwoMGDCBMqXMgQAACGECNKnEixokWCDi9q3AjRYUaOGz0+BEmypMiSF0+iXBlyJMuOLl/KrPhxpsKaNnPq1KgSY8ydQIMO7Dn0p9CjSJMqXcq0qVKiTqOihCr1KM6dV6vKzJqTq1aTHq2G/cqSatexZAOYTcv2Jtq2cBF6jUu3aN27Befihat3r9+/YAHj7Su4KuHCUQ8jXsy4sePHkIGujZx0MuXLmDNr3sz5r+LOLz+DDjwaqejSHE+jTm109da3rmdajk2bpEjVtWHOtoib8u6JvSP/1t06t23YxkEGT75wOfPn0KNLn069uvXr2LNr3869u/fv4MOLtvdcfLxA59aHd1fv9HZ5reiDuq8b//Xi+qHf09f/lH94/NIBWBlyifnHF4HmCQidgqOxt52D2jHInITmVWjhhRhmqOGGHHbo4YcghijiiCSWaOKJyhn4HYUottjYRyy6BqOKEdK4no3cxVibji726OOPQAbZHILjQSgkZEZil2R1S6ZHJEU8xhYlakQ16ZeCVT4pHI4pcYnYjBJOKRWYXl4nJpVlUmelmloe6eGa08HJZodnChYQACH5BAUKAAEALBgAHAB6AIgAAAj/AAMIHEiwoMGDABICOMiwocOHECNKnEhxoMKFFTNq3Mixo8ePAS6CHEmyJESRJlOqBHkx4cqXMCu2xBizpk2CLkPSvMmzZs6cPYO+BCq06EqiRpMi3FkSqdKYTkdGfZoSZVWFVGFaNbk1q1eNU7+KbRi2aNmxFrFmPYtWJ1ufatvKLdh1Ltq3djniPck0b9O+Gev6lQpYZtzBf//uRRxUMGOqix/3jCy5suXLmDNr3sy5s+e8lD8TFt34MGm4oU8HLqz6KOvWiWHbTC27tu3buHPrJk17N9nXfH3TNT2xd2fHDpELN2x8ufPn0KNLn069uvXr2LNr3869u3fozcEDkjdLXG54ruXbnu+4dary3e0Lv9dNeT3n+uO/6/9uf3L+2f/dFSBUAwpVV396FViaUwhu1CB9Cu4n4YQUVmjhhRhmqOGGHHbo4YcghijiiCSWaOKJKKao4oostggghg/mFiNuM95Wo203uqjjjjz26OOPQBo0n3ZDLiUeexGKltpMwvXGpG9LtkThkxIWiZ2VuAUEACH5BAUKAAEALBoAIAB2AGoAAAj/AAMIHEiwoMGCABICOMiwocOHECNKnDhR4UKKGDNq3Mixo8ePIEOKHEmypEmNCU+qXIkxJcuXIV12lAmzJkSaG3Ha3EnQ4kefPIMKBDpTodCjJnUiXYryItOnHJVCnepQKtWrWLNqjWhVq8uuPZ2KBIv1q9iqZz2S3fp0Ldu3cOPKnUu3rt27ePPq3cu3r9+/gMemDbzSLWG1Rg+zJKq4pOHGUQdDjpl4suPKljNr3szZ4OPONyVTZJyZdEvMpVE3BS2YtevXgD/D9ix6NlfVtm/Lzs27t+/fwIMLH05c827ex18zTg6TOWWazhfXrinVdFvcNqtjX2pdbvfi34sHPIiufLp46uaHk3dt9nzYoemFr2c93739+/jz69/Pv7///wAGKOCABBZo4IEIJqjgggw26KCB9XUWIWQBAQAh+QQFCgABACwWACQAdgBiAAAI/wADCBxIsKDBgwIBAEDIsKHDhxAjSpyIUCHFixgzatzIseJCiRY7ihy5MWREkyRTqmSoEOVDlytjrmz58WRNmThzXoSps6fPhDd/CtVJc6hRnEWPKl3KtKnTpz2TGoTJE+pQqQWpBrXqFKVWrly9bq0K9ijZsmjPol3Ltq3bt3Djyp1Lt67du3jvqs0bdSvfn1j/Cg0smKjfwn0RX22peDDjxiT3Qo58ePJMmpUtd8ScWbPnz6BD7+wsOqPk0hgJo9ao+uDp1TZhU34tm+Xj2rhz697Nu7fv38CDw6UNnLjo08ZlJleJnDRg54aXE2ydkrpP6zalg7wt3DX37t616y8Wn5v8eOjCzYNfz769+/fw48ufT7++/fv48+vfz7+///8ABijggAQKiF13B+oWEAAh+QQFCgABACwgACYAYABeAAAI/wADCBxIsGBBAAAMKlzIkCDChQ8bSpxIMUDEihgHXjyYMKPHiQhDdvzYUCTEkCRTcjSp8uRGhyhbypxJ0+LImjhzlryps6fPlz6D1gQqtKjRo0iTKu3JsiLRpTibUnwK9SdPhVSr6swqkKvWoTG/irXpdazZs2jTql3Ltq3bt3Djyp1Lt67du3jjls2LcS9fiVL/pgwseGfhmX4Pn1TcMjHjx5Ajr3UsmbLky5iLRtx8NTPnrp0zYw0r2mXo0qhTq17NurXr12kJr5YNmbBlvLZPV9ad+nZb34yBK6bdmzTs48iTK1/OvLnz59CjS59Ovbr169iza9/OvXtr4qjBlwcWfph84YAAACH5BAUKAAEALBwAJgBiAF4AAAj2AAMIHEiwoMGDCBMqTAigIYCFECNKnEgxosOHFTNq3Fjx4kWOIEOK9OhQpMmTDDEqbIiyJUqWC2G6nMnxY0qaODXaRCgzp8+fQIMKHTq0J9GjMVUiXcqzJNOnBHdCnRrVKVWmUq9ONar1KNeuRa2CDft1rNmzaNOqXcu2rdu3cOPKnUu3rt27FpXi3Vh2b96+cbMmBQxXsF+JhA+v1Ku4sePHkCNLnrxVLGWDhi9jZqy5auebnw8mDk26LcnSAU6jXs2a4ujJryXHjjy7te3buHPr3s27t+/fwIMLH068uPHjyJMrX868ufPnRDNrln659mPrjgMCACH5BAUKAAEALBgAKgBiAFgAAAj/AAMIHEiwoMGDCBMqDAAAgMKGCyNKnEix4kCICTFa3MixI0KNBRuKdOixpEmKIAmOTHmypcuXMGPKnEmz5ciPJGvqRCkS586fNnsCHbrxJtGjRXMiXfpQKdOnIYUKZAkVqNGpTqsyXZlVK1GuXsMy7Cr2K9myZtE+paq2rdu3cOPKnUu3rt27eH+yzVtyL9+kfv9WvCo4aWGsgTOetUt4YmO+iXFGljv5sOXLmDNr3sy588XFng1WhvrY5ei1UmOe3qq0dGiQrkMfXM2ZtuzbuHPr3s27t+/fwIMLH068uPHjyJMrX868ufPn0KNLn069+szYubHjtq2Zu2Dtt8HLAg4IACH5BAUKAAEALBgAKgBgAFYAAAj6AAMIHEiwoMGDCBMeBABAocOHECNKnDiQIcWLGDNq3Mixo8ePIENOtCiypMmKDU+qXImQIUmWMDG6TBmzZsKXKHHa3BlAZ0+XPIP+9CmQqNCTM1vSPMq0KNCmTJNCnUq1qtWmRq+uzKoV6dKuMLmCjSl2LMiyZj1KTesVLdu3cOPKnUu3rt2Nbu8+zKtXId+ja89+BRu478W/hg0iTszYauHGEB9DnixxMWTLjSVTVop5s+e+mp12Hht66ODEbkcTPr2Q9efXsGPLnk27tu3buHPr3s27t+/fwIMLH068uPHjyJPjLg2b+WvVoF17ngmdLnXpzbHHrl43IAAh+QQFCgABACwaACoAXABQAAAI9gADCBxIsKDBgwgTBgAAQKHDhxAjSpTIcKLFixgzMqyYsaPHjws3ghxJsqTJkyhTqjTJcaXLji1fyoy4UeTMmwprxsTJk6LNnkAH1gyKc2dIo0RRGh2a1CXTnA2blnyaEKlUmVSvYv2ptavXr2A9Wg3LMirZlVnPTuWqtq3bt3Djyp1Lt67du1DHJtUrlq1Wvh8B461qdrDhw4h7MhVseHFhqInTGmT8VnJBy079bqW8lvNgzxZBb83cFTNhxqJTmka4WuhjvKk/v05Mu7bt27hz697Nu7fv38CDCx9OvLjx48iTK19+ODbs2byd35Uut3Vt67QDAgAh+QQFCgABACwaACoAWgBMAAAI9gADCBxIsKDBgwgNAgCQsKHDhxAjSiS4cKLFixgvLqyYsaNHjxsZfhxJsqTJkyhTqiwZcqXLji1fypxJs6bNmxE54tw5UCfPnTF/3gwqdKhIihsF+iw6cmmAmE6ZfozaM6lUklSVWr06dStXl0S/fs0q1iTZsmaPolV5dq3bt3Djyp1Lt67du3gths2b0yvfiW3/HgwsuLDhw4gTN7W6ty9hoIz9SmxcFe3jwWqRWs6sl7PWz4f3crwMl7JW0pMlZxTtuaDprqgRspYa+29txbhz697Nu7fv38CDCx9OvLjx48iTK1++uvXu23eh45Ve97Vi64kDAgAh+QQFCgABACwaACoAVgBGAAAI6wADCBxIsKDBgwgFAgCQsKHDhxAjSlwosaLFixcXUsTIsWNHjQw9ihxJsqTJkyhTqlzJsqXLlzBjypzJcSNNmjZvysypEybPnkCDCh3qUyNRliCPrvyp1CTTpipBPoWKUWpIqlizao05davFrl4hJg370SjZs2jTqg07dm3Etm7fXo0rdi5dlBvz2r0bQK/CvXwHWg2McDDhw03BRjUrt6HhvzfhPuz6uC/johkBHxwr2aVig58thz7ZmbTUyJdTVuaqWXVrz69NOw45Wq1fxLhz697Nu7fv38CDCx9OvLjQ0oiRB1ZOmHnggAAAIfkEBQoAAQAsGAAsAFoAQAAACO0AAwgcSLCgwYMIAQBAyLChw4cQIzpUKLGixYsYM2rcyLGjx48gAygcuTCkyY8kKZ5cGVIly5caXcKcWZEkzZsQbeLcybOnz59AgwodSrSo0aNIkyoNqnOpyaZOX8qMCnIqVY9QCVq9OnFkwpJcO2YNm3EsSq9kOZpNWxMs25hu32KNK3Gt06050ZLF+5BvVL8NAcsdTBgmXruDD+stHFEwY4OOq9KlibhxScGRWy4ue3lywcpPPV9UiXnzzMxdBaJWLfrxV9dtYddtLbu2bal0V6e1qnsvWtCEdQK/Tby48ePIkytfrnS4a+eFAwIAIfkEBQoAAQAsFAAqAGIAPgAACOQAAwgcSLCgwYMIAQBAyLChw4cQI0okqHCixYsYMxqsqLGjx48FOYIcSbKkyZMoU6pcybKly5cwL4qMSfPhzJo4Dyq8mbPnzoU9g24EKlQoz6I1fyL1uXOp06dQo0qdSrWq1atYYx7NSnIrV5BKv5oMK5ap17IYyY5tinak2rYdz8K1KHduV7YN39oVqHdo3bZ1/8INTHSv4cNV+yK2iRen4JSPVUY+ORll5cV8C2Omq3kzxMueM4eeCHpxacSnR6te/VFwaqquOx9WnPn1VNoBcJsubFvszN5fgQ+WvVo4YOKqAwIAIfkEBQoAAQAsEAAqAGQAPAAACM0AAwgcSLCgwYMIAQBAyLChw4cQI0o0qHCixYsYMyZcqLGjx48HK4IcSbKkyZMoU6pcybKly5cwY8qcSbOmzZs4c7oUqRMnz542Ff4EKlMoR6I1hyKNqXSp06dQo0qdSrWq1atYs2rdyrXrRKMNwfo8alLsxqZFySZVSxMtU7Yz3QI167Uj3boPjd7FG1GvUL6AA0uU+5LwTrhpc+4VDHEx48eQI0uenBcxZYqWLxN0rFkg586gQ48VvZF0wc+aUXM1bLgu68x8X1OW7TUgACH5BAUKAAEALAwALABkADoAAAjEAAMIHEiwoMGDCAEoBICwocOHECNKnEhwIUOKGDNq3Mixo8ePIEOKHEmypMmTKFOqXMmypcuXMGPKnEmzps2bOBNezFlTIc+fQIMKVelzKMyiRpMqXcq0qdOhFp+ejCp16s6qJJFi3bpRK1eQXoVStbp0rMmwQdF+5ah2rdu3cOPKnUs3pdmYFtsSXdgz7029dRsCDnzwLmGHhg8jvqr44eDGAh9Dlgy5suWSiTFSFsvX4+bDnwmHTtv5ssHMl0fXVV01IAAh+QQFCgABACwMADAAYAA2AAAIyAADCBxIsKDBgwgFAlgIIKHDhxAjSpyIkGFDihgzatzIsaPHjyBDihz50CLJkygVMkzJUuTCljBBvoxJs6bNmzhz6tzJs6fPn0CDOpwpkajQjkYhJj2qcWnFlUyRXlQKNapUp1ZPmsxKEytXkl6/it0YduzHsjy3pkS7Uy1Ktjrhmm06da7du3jz6t3Lt6/fv4DT1g1MUa7LqnEtDobpNqfixYQjS55MubLlvoYzZsa5uTBkoZ0nhq45OmLpm6f9pt67mm/rsQEBACH5BAUKAAEALAwAMABeADYAAAjLAAMIHEiwoMGDCBMeBABAocOHECNKnBiAIcWLGDMatJiQo8aPIB96XNgwpMmTAhmOJLgSpcuMKktulPmypsuWNnOCxKmzp8+fQIMKHUq0qNGjSJMqJRpzIs+lTlVGhWryacGmVHfSVIg1q1arXm9KDRsULFmUZs/q7PqSLVW3aMeqzZl27se6dvPq3cu3r9+/gAMLHky4sOHDiBMrXrvVKN64Sx+HjCk5Lly6lI9Sbry4s2fMn0VyDs1yNOmUppnKPV26smHXh2ELDggAIfkEBQoAAQAsDAAwAFoANgAACL8AAwgcSLCgwYMIEQIAIHBhwocQI0qcSNFhAIsUM2rcOHEhRo4gQ4q86HGkyZMZPTJEybIlQZUuY460+FGmTY00V97cKREmz58dSwIdGtEn0aMFjSJdWnMp0qZOo0qdSrUqRKVWb2LNyhEq15hev7YMy5LsUbMn0YoNuXUtyrZuTaqN21Un3bt48+rdy7ev37+AAwseTLiw4cOIEytezLhxWbuOB84tDHdxZcWTDWcWefnnZrZCo34GOVpw6cABAQAh+QQFCgABACwIAD4AWgAqAAAIngADCBxIsKDBgwgTKlxoEAAAhhAjSpxIMYDDihgzakTo8OLGjyAndnwYsuRGjyZTqhSIcqVLkC1hknwpM2VMmjgjjszJU+LOnkAV3gxKdODQokiTKl3KtKnTp1CjSp1KtarVq1izat3KtavXr2DDih1LtuzXn2YZok0rdObStS+PEoUbki5TuR/tvnVrk+9TvCf9OgXM1qjgwg0PgwwIACH5BAUKAAEALAQAPgBaAC4AAAiYAAMIHEiwoMGDCBMqXMhQIAAADSNKnEix4cOKGDNqRPjw4saPICd2hBiy5EaPJlOqdEhypcuPI1/K1Bhzps2bLFHi3MmxI8+fB3UCHRpAKNGjSJMqXcq0qdOnUKNKnUq1qtWrWLNq3cq1q9evYMOKHUu2YM2yCs+i7bmWodG1atua9Sm3rt27C9/e1Qu3Jd6BfNvG3Uu3ZEAAIfkEBQoAAQAsBgA+AFoAMgAACKUAAwgcSLCgwYMIEypcyJAgAAANI0qcSLHhw4oYM2pE+PDixo8gJ3aEGLLkRo8RR5pcaZFkyo4sYx5UKRGlzJsCab7EybMmzJ5AX9oMSnSmy6JIDQ5NyrSp06dQo0qdSrWq1atYs2rdyrWr169gw4odS7as2bNo05ZdqlYh27Ycj8J1K3eu3bt48+rdy3fryLd2/9YN/LNvAJ17AedVjJfxXccVAwIAIfkEBQoAAQAsRAA+ABoAMgAACGIAAwgcSLCgwYEAABxcyDAhw4cIEyqE+FDiRIoLHWKseHFjQY0eD4L0aDGkwZImCY5MKXAly5cwY8qcSbOmzZs4c+rcybOnz59AgwodSrSo0aMvXaZUStJix5BOnzadyTRkQAAh+QQFCgABACxOAEIACAAIAAAIHQADCBwIAMBAggYPBiiocGHBhwcfJhTIUGHFgwEBACH5BAUKAAEALE4AQgAEAAQAAAgKAAEIHEiwIICAAAAh+QQFCgABACy3AMUAAQABAAAIBAADBAQAIfkEBQoAAQAstwDFAAEAAQAACAQAAwQEACH5BAUKAAEALLcAxQABAAEAAAgEAAMEBAAh+QQFCgABACy3AMUAAQABAAAIBAADBAQAIfkEBQoAAQAstwDFAAEAAQAACAQAAwQEACH5BAUKAAEALLcAxQABAAEAAAgEAAMEBAAh+QQFCgABACy3AMUAAQABAAAIBAADBAQAIfkEBQoAAQAstwDFAAEAAQAACAQAAwQEACH5BAUKAAEALLcAxQABAAEAAAgEAAMEBAA7\"/></div></div></div></td></tr></table>"
      ],
      "text/plain": [
       "<IPython.core.display.HTML object>"
      ]
     },
     "metadata": {},
     "output_type": "display_data"
    },
    {
     "data": {
      "text/html": [
       "<table class=\"show_videos\" style=\"border-spacing:0px;\"><tr><td style=\"padding:1px;\"><div style=\"display:flex; align-items:left;\">\n",
       "      <div style=\"display:flex; flex-direction:column; align-items:center;\">\n",
       "      <div>day11b</div><div><img width=\"184\" height=\"198\" style=\"border:1px solid black; image-rendering:auto; object-fit:cover;\" src=\"data:image/gif;base64,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\"/></div></div></div></td></tr></table>"
      ],
      "text/plain": [
       "<IPython.core.display.HTML object>"
      ]
     },
     "metadata": {},
     "output_type": "display_data"
    }
   ],
   "source": [
    "if using_numba:\n",
    "  _ = day11(puzzle.input, visualize=True, part2=False)\n",
    "  _ = day11(puzzle.input, visualize=True, part2=True)"
   ]
  },
  {
   "cell_type": "markdown",
   "id": "780076a4",
   "metadata": {},
   "source": [
    "<a name=\"day12\"></a>\n",
    "## Day 12: Waypoint navigation"
   ]
  },
  {
   "cell_type": "markdown",
   "id": "2362184a",
   "metadata": {},
   "source": [
    "Given a list of instructions (a translation direction `N|S|E|W` and magnitude, a rotation `L|R` and angle (positive multiple of 90 degrees), or a forward directive `F` and value), update a ship's position and orientation in a 2D domain.\n",
    "\n",
    "- Part 1: The translation, rotation, and forward instructions directly modify the ship's state.  After applying all instructions, report the Manhattan distance of the ship's position from its start.\n",
    "\n",
    "- Part 2: The translation and rotation instructions modify a vector waypoint (initially 10 units east and 1 unit north of ship) relative to the ship position.  The forward instruction translates the ship position by the vector waypoint times the forward value.  Again report the final Manhattan distance of the ship from its start."
   ]
  },
  {
   "cell_type": "code",
   "execution_count": 67,
   "id": "0eda4e26",
   "metadata": {
    "execution": {
     "iopub.execute_input": "2023-04-16T23:50:42.011890Z",
     "iopub.status.busy": "2023-04-16T23:50:42.011663Z",
     "iopub.status.idle": "2023-04-16T23:50:42.027531Z",
     "shell.execute_reply": "2023-04-16T23:50:42.026990Z",
     "shell.execute_reply.started": "2023-04-16T23:50:42.011876Z"
    }
   },
   "outputs": [
    {
     "data": {
      "text/markdown": [
       "For [day 12](https://adventofcode.com/2020/day/12), `puzzle.input` has 773 lines:"
      ],
      "text/plain": [
       "<IPython.core.display.Markdown object>"
      ]
     },
     "metadata": {},
     "output_type": "display_data"
    },
    {
     "name": "stdout",
     "output_type": "stream",
     "text": [
      "W5\n",
      "F63\n",
      "S1\n",
      "L90\n",
      "F89\n",
      "W4\n",
      "F45\n",
      "W4\n",
      " ...\n",
      "L90\n",
      "F94\n",
      "L90\n",
      "F13\n"
     ]
    },
    {
     "data": {
      "text/markdown": [
       "The stored answers are: `{1: '1221', 2: '59435'}`"
      ],
      "text/plain": [
       "<IPython.core.display.Markdown object>"
      ]
     },
     "metadata": {},
     "output_type": "display_data"
    }
   ],
   "source": [
    "puzzle = advent.puzzle(day=12)"
   ]
  },
  {
   "cell_type": "code",
   "execution_count": 68,
   "id": "ddd33102",
   "metadata": {
    "execution": {
     "iopub.execute_input": "2023-04-16T23:50:42.028379Z",
     "iopub.status.busy": "2023-04-16T23:50:42.028188Z",
     "iopub.status.idle": "2023-04-16T23:50:42.030929Z",
     "shell.execute_reply": "2023-04-16T23:50:42.030439Z",
     "shell.execute_reply.started": "2023-04-16T23:50:42.028366Z"
    }
   },
   "outputs": [],
   "source": [
    "s1 = \"\"\"\\\n",
    "F10\n",
    "N3\n",
    "F7\n",
    "R90\n",
    "F11\n",
    "\"\"\""
   ]
  },
  {
   "cell_type": "code",
   "execution_count": 69,
   "id": "45c64b5c",
   "metadata": {
    "execution": {
     "iopub.execute_input": "2023-04-16T23:50:42.031913Z",
     "iopub.status.busy": "2023-04-16T23:50:42.031553Z",
     "iopub.status.idle": "2023-04-16T23:50:42.040909Z",
     "shell.execute_reply": "2023-04-16T23:50:42.040336Z",
     "shell.execute_reply.started": "2023-04-16T23:50:42.031899Z"
    }
   },
   "outputs": [
    {
     "name": "stdout",
     "output_type": "stream",
     "text": [
      "(Part 1: 0.000 s)\n"
     ]
    }
   ],
   "source": [
    "def day12_part1(s):\n",
    "  y, x = 0, 0\n",
    "  dy, dx = 0, 1  # east\n",
    "\n",
    "  for instruction in s.split():\n",
    "    action, value = instruction[:1], int(instruction[1:])\n",
    "    if action == 'N':\n",
    "      y -= value\n",
    "    elif action == 'S':\n",
    "      y += value\n",
    "    elif action == 'E':\n",
    "      x += value\n",
    "    elif action == 'W':\n",
    "      x -= value\n",
    "    elif action == 'L':\n",
    "      while value:\n",
    "        dy, dx = -dx, +dy\n",
    "        value -= 90\n",
    "    elif action == 'R':\n",
    "      while value:\n",
    "        dy, dx = +dx, -dy\n",
    "        value -= 90\n",
    "    elif action == 'F':\n",
    "      y, x = y + dy * value, x + dx * value\n",
    "  return abs(y) + abs(x)\n",
    "\n",
    "\n",
    "check_eq(day12_part1(s1), 25)\n",
    "puzzle.verify(1, day12_part1)"
   ]
  },
  {
   "cell_type": "code",
   "execution_count": 70,
   "id": "069869bf",
   "metadata": {
    "execution": {
     "iopub.execute_input": "2023-04-16T23:50:42.041654Z",
     "iopub.status.busy": "2023-04-16T23:50:42.041517Z",
     "iopub.status.idle": "2023-04-16T23:50:42.053695Z",
     "shell.execute_reply": "2023-04-16T23:50:42.053012Z",
     "shell.execute_reply.started": "2023-04-16T23:50:42.041643Z"
    }
   },
   "outputs": [
    {
     "name": "stdout",
     "output_type": "stream",
     "text": [
      "(Part 2: 0.000 s)\n"
     ]
    }
   ],
   "source": [
    "def day12_part2(s):\n",
    "  ship_y, ship_x = 0, 0\n",
    "  # waypoint is relative to the ship\n",
    "  waypoint_y, waypoint_x = -1, 10  # 10 units east and 1 unit north of ship\n",
    "\n",
    "  for instruction in s.split():\n",
    "    action, value = instruction[:1], int(instruction[1:])\n",
    "    if action == 'N':\n",
    "      waypoint_y -= value\n",
    "    elif action == 'S':\n",
    "      waypoint_y += value\n",
    "    elif action == 'E':\n",
    "      waypoint_x += value\n",
    "    elif action == 'W':\n",
    "      waypoint_x -= value\n",
    "    elif action == 'L':\n",
    "      while value:\n",
    "        waypoint_y, waypoint_x = -waypoint_x, +waypoint_y\n",
    "        value -= 90\n",
    "    elif action == 'R':\n",
    "      while value:\n",
    "        waypoint_y, waypoint_x = +waypoint_x, -waypoint_y\n",
    "        value -= 90\n",
    "    elif action == 'F':\n",
    "      ship_y += waypoint_y * value\n",
    "      ship_x += waypoint_x * value\n",
    "  return abs(ship_y) + abs(ship_x)\n",
    "\n",
    "\n",
    "check_eq(day12_part2(s1), 286)\n",
    "puzzle.verify(2, day12_part2)"
   ]
  },
  {
   "cell_type": "markdown",
   "id": "56ff4fb6",
   "metadata": {},
   "source": [
    "<a name=\"day13\"></a>\n",
    "## Day 13: Buses modulo schedule"
   ]
  },
  {
   "cell_type": "markdown",
   "id": "ee6d9927",
   "metadata": {},
   "source": [
    "Given a sequence of buses with different departure periods, all starting at time 0, with some buses out-of-service, find some earliest time satisfying a condition.\n",
    "\n",
    "- Part 1: Given also an earliest time, find the first bus that departs on or after that time.  Report the wait time multiplied by the bus period.\n",
    "\n",
    "- Part 2: Find the earliest time such that the first bus in the sequence departs at that time and each subsequent listed bus departs at the subsequent time if the bus is in service."
   ]
  },
  {
   "cell_type": "code",
   "execution_count": 71,
   "id": "125f737c",
   "metadata": {
    "execution": {
     "iopub.execute_input": "2023-04-16T23:50:42.054734Z",
     "iopub.status.busy": "2023-04-16T23:50:42.054412Z",
     "iopub.status.idle": "2023-04-16T23:50:42.078099Z",
     "shell.execute_reply": "2023-04-16T23:50:42.077548Z",
     "shell.execute_reply.started": "2023-04-16T23:50:42.054719Z"
    },
    "tags": []
   },
   "outputs": [
    {
     "data": {
      "text/markdown": [
       "For [day 13](https://adventofcode.com/2020/day/13), `puzzle.input` has 2 lines:"
      ],
      "text/plain": [
       "<IPython.core.display.Markdown object>"
      ]
     },
     "metadata": {},
     "output_type": "display_data"
    },
    {
     "name": "stdout",
     "output_type": "stream",
     "text": [
      "1000299\n",
      "41,x,x,x,x,x,x,x,x,x,x,x,x,x,x,x,x,x,x,x,x,x,x,x,x,x,x,x,x,x,x,x,x,x,x,37,x,x,x, ... ,x,x,x,x,x,x,x,x,x,x,x,x,x,x,x,x,19\n"
     ]
    },
    {
     "data": {
      "text/markdown": [
       "The stored answers are: `{1: '156', 2: '404517869995362'}`"
      ],
      "text/plain": [
       "<IPython.core.display.Markdown object>"
      ]
     },
     "metadata": {},
     "output_type": "display_data"
    }
   ],
   "source": [
    "puzzle = advent.puzzle(day=13)"
   ]
  },
  {
   "cell_type": "code",
   "execution_count": 72,
   "id": "e2c0331b",
   "metadata": {
    "execution": {
     "iopub.execute_input": "2023-04-16T23:50:42.079318Z",
     "iopub.status.busy": "2023-04-16T23:50:42.078877Z",
     "iopub.status.idle": "2023-04-16T23:50:42.081649Z",
     "shell.execute_reply": "2023-04-16T23:50:42.081145Z",
     "shell.execute_reply.started": "2023-04-16T23:50:42.079304Z"
    },
    "tags": []
   },
   "outputs": [],
   "source": [
    "s1 = \"\"\"\\\n",
    "939\n",
    "7,13,x,x,59,x,31,19\n",
    "\"\"\""
   ]
  },
  {
   "cell_type": "code",
   "execution_count": 73,
   "id": "48e7e1d8",
   "metadata": {
    "execution": {
     "iopub.execute_input": "2023-04-16T23:50:42.082560Z",
     "iopub.status.busy": "2023-04-16T23:50:42.082293Z",
     "iopub.status.idle": "2023-04-16T23:50:42.092409Z",
     "shell.execute_reply": "2023-04-16T23:50:42.091717Z",
     "shell.execute_reply.started": "2023-04-16T23:50:42.082549Z"
    },
    "lines_to_next_cell": 2,
    "tags": []
   },
   "outputs": [
    {
     "name": "stdout",
     "output_type": "stream",
     "text": [
      "(Part 1: 0.000 s)\n"
     ]
    }
   ],
   "source": [
    "def day13_part1(s):\n",
    "  lines = s.splitlines()\n",
    "  earliest_time = int(lines[0])\n",
    "  buses = [int(e) for e in lines[1].split(',') if e != 'x']\n",
    "  next_times = [math.ceil(earliest_time / bus) * bus for bus in buses]\n",
    "  min_time, min_bus = min(zip(next_times, buses))\n",
    "  return (min_time - earliest_time) * min_bus\n",
    "\n",
    "\n",
    "check_eq(day13_part1(s1), 295)\n",
    "puzzle.verify(1, day13_part1)"
   ]
  },
  {
   "cell_type": "markdown",
   "id": "ba4b3cf8",
   "metadata": {},
   "source": [
    "Part 2"
   ]
  },
  {
   "cell_type": "code",
   "execution_count": 74,
   "id": "63c55b82",
   "metadata": {
    "execution": {
     "iopub.execute_input": "2023-04-16T23:50:42.094051Z",
     "iopub.status.busy": "2023-04-16T23:50:42.093624Z",
     "iopub.status.idle": "2023-04-16T23:50:42.101889Z",
     "shell.execute_reply": "2023-04-16T23:50:42.101189Z",
     "shell.execute_reply.started": "2023-04-16T23:50:42.094036Z"
    },
    "lines_to_next_cell": 2,
    "tags": []
   },
   "outputs": [],
   "source": [
    "# Let each bus be represented by its period b_i and desired remainder r_i.\n",
    "\n",
    "# Given [(b_i, r_i)], where b_i are coprime, we seek x such that\n",
    "#  x % b_i = r_i  for all i,  where r_i = -i % b_i\n",
    "# We can work by reduction, merging pairs of buses.\n",
    "\n",
    "# Given a pair of buses (b1, r1) and (b2, r2),\n",
    "# we want to find a new equivalent bus (b1 * b2, r) such that\n",
    "#  0 <= r < b1 * b2\n",
    "#  r % b1 = r1\n",
    "#  r % b2 = r2\n",
    "# We can apply the Chinese remainder theorem using the extended GCD algorithm."
   ]
  },
  {
   "cell_type": "code",
   "execution_count": 75,
   "id": "b1d9a92e",
   "metadata": {
    "execution": {
     "iopub.execute_input": "2023-04-16T23:50:42.103136Z",
     "iopub.status.busy": "2023-04-16T23:50:42.102686Z",
     "iopub.status.idle": "2023-04-16T23:50:42.114348Z",
     "shell.execute_reply": "2023-04-16T23:50:42.113660Z",
     "shell.execute_reply.started": "2023-04-16T23:50:42.103121Z"
    },
    "tags": []
   },
   "outputs": [],
   "source": [
    "def _extended_gcd(a: int, b: int) -> tuple[int, int, int]:\n",
    "  \"\"\"Finds the greatest common divisor using the extended Euclidean algorithm.\n",
    "\n",
    "  Returns:\n",
    "    (gcd(a, b), x, y) with the property that a * x + b * y = gcd(a, b).\n",
    "\n",
    "  >>> _extended_gcd(29, 71)\n",
    "  (1, -22, 9)\n",
    "  >>> (29 * -22) % 71\n",
    "  1\n",
    "  \"\"\"\n",
    "  prev_x, x = 1, 0\n",
    "  prev_y, y = 0, 1\n",
    "  while b:\n",
    "    q = a // b\n",
    "    x, prev_x = prev_x - q * x, x\n",
    "    y, prev_y = prev_y - q * y, y\n",
    "    a, b = b, a % b\n",
    "  x, y = prev_x, prev_y\n",
    "  return a, x, y\n",
    "\n",
    "\n",
    "check_eq(_extended_gcd(29, 71), ((1, -22, 9)))"
   ]
  },
  {
   "cell_type": "code",
   "execution_count": 76,
   "id": "135cf5ce",
   "metadata": {
    "execution": {
     "iopub.execute_input": "2023-04-16T23:50:42.115654Z",
     "iopub.status.busy": "2023-04-16T23:50:42.115144Z",
     "iopub.status.idle": "2023-04-16T23:50:42.125172Z",
     "shell.execute_reply": "2023-04-16T23:50:42.124543Z",
     "shell.execute_reply.started": "2023-04-16T23:50:42.115635Z"
    },
    "tags": []
   },
   "outputs": [
    {
     "name": "stdout",
     "output_type": "stream",
     "text": [
      "(Part 2: 0.000 s)\n"
     ]
    }
   ],
   "source": [
    "def day13a_part2(s):  # Using pairwise reduction with _extended_gcd.\n",
    "  s = s.splitlines()[-1]\n",
    "  buses = [int(e) for e in s.replace('x', '1').split(',')]\n",
    "  check_eq(math.lcm(*buses), math.prod(buses))  # verify all coprime\n",
    "  bus_remainders = [(bus, -i % bus) for i, bus in enumerate(buses)]  # Optionally \"if bus > 1\".\n",
    "\n",
    "  def merge_buses(bus1, bus2):\n",
    "    (b1, r1), (b2, r2) = bus1, bus2\n",
    "    # https://en.wikipedia.org/wiki/Chinese_remainder_theorem\n",
    "    _, x, y = _extended_gcd(b1, b2)\n",
    "    return b1 * b2, (r1 * y * b2 + r2 * x * b1) % (b1 * b2)\n",
    "\n",
    "  _, r = functools.reduce(merge_buses, bus_remainders)\n",
    "  return r\n",
    "\n",
    "\n",
    "check_eq(day13a_part2(s1.splitlines()[1]), 1068781)\n",
    "check_eq(day13a_part2('17,x,13,19'), 3417)\n",
    "check_eq(day13a_part2('67,7,59,61'), 754018)\n",
    "check_eq(day13a_part2('67,x,7,59,61'), 779210)\n",
    "check_eq(day13a_part2('67,7,x,59,61'), 1261476)\n",
    "check_eq(day13a_part2('1789,37,47,1889'), 1202161486)\n",
    "puzzle.verify(2, day13a_part2)"
   ]
  },
  {
   "cell_type": "code",
   "execution_count": 77,
   "id": "ec5b97f7-a236-4b4e-aecc-2545284decba",
   "metadata": {
    "execution": {
     "iopub.execute_input": "2023-04-16T23:50:42.126357Z",
     "iopub.status.busy": "2023-04-16T23:50:42.125859Z",
     "iopub.status.idle": "2023-04-16T23:50:42.136226Z",
     "shell.execute_reply": "2023-04-16T23:50:42.135610Z",
     "shell.execute_reply.started": "2023-04-16T23:50:42.126344Z"
    },
    "tags": []
   },
   "outputs": [
    {
     "name": "stdout",
     "output_type": "stream",
     "text": [
      "(Part 2: 0.000 s)\n"
     ]
    }
   ],
   "source": [
    "def day13_part2(s):  # Using built-in modular inverses and general Chinese Remainder method.\n",
    "  s = s.splitlines()[-1]\n",
    "  buses = [int(e) for e in s.replace('x', '1').split(',')]\n",
    "  check_eq(math.lcm(*buses), math.prod(buses))  # verify all coprime\n",
    "  remainders, moduli = zip(*[(-i % bus, bus) for i, bus in enumerate(buses)])  # Or \"if bus > 1\".\n",
    "\n",
    "  def solve_mod_congruences(values: Iterable[int], moduli: Iterable[int]) -> int:\n",
    "    \"\"\"Returns `x` satisfying `values[i] == x % moduli[i]`.\n",
    "\n",
    "    The Chinese Remainder Theorem shows the system has a unique solution if `moduli` are coprime.\n",
    "    See https://en.wikipedia.org/wiki/Modular_multiplicative_inverse#Applications .\n",
    "\n",
    "    Args:\n",
    "      values: Desired remainders with respect to a corresponding sequence of moduli.\n",
    "      moduli: Positive integers, which must be coprime.\n",
    "\n",
    "    >>> solve_mod_congruences([3, 6, 6], [5, 7, 11])\n",
    "    39\n",
    "    \"\"\"\n",
    "    values, moduli = tuple(values), tuple(moduli)\n",
    "    assert len(values) == len(moduli) > 0\n",
    "    mod_prod = math.prod(moduli)\n",
    "    other_mods = [mod_prod // mod for mod in moduli]\n",
    "    inverses = [pow(other_mod, -1, mod=mod) for other_mod, mod in zip(other_mods, moduli)]\n",
    "    return sum(i * o * v for i, o, v in zip(inverses, other_mods, values)) % mod_prod\n",
    "\n",
    "  return solve_mod_congruences(remainders, moduli)\n",
    "\n",
    "\n",
    "check_eq(day13_part2(s1.splitlines()[1]), 1068781)\n",
    "check_eq(day13_part2('17,x,13,19'), 3417)\n",
    "check_eq(day13_part2('67,7,59,61'), 754018)\n",
    "check_eq(day13_part2('67,x,7,59,61'), 779210)\n",
    "check_eq(day13_part2('67,7,x,59,61'), 1261476)\n",
    "check_eq(day13_part2('1789,37,47,1889'), 1202161486)\n",
    "puzzle.verify(2, day13_part2)"
   ]
  },
  {
   "cell_type": "markdown",
   "id": "892b2b03",
   "metadata": {},
   "source": [
    "<a name=\"day14\"></a>\n",
    "## Day 14: Masked values to memory"
   ]
  },
  {
   "cell_type": "markdown",
   "id": "ab3e22a7",
   "metadata": {},
   "source": [
    "Process a sequence of instructions, each specifying either a bitmask (where each location contains `0`, `1`, or `X`) or the writing of a value to a memory address, and report the sum of the resulting memory contents.\n",
    "\n",
    "- Part 1: The bitmask is applied to the value written to memory, such that `0` and `1` replace the corresponding bit in the value and `X` leaves it unchanged.\n",
    "\n",
    "- Part 2: The bitmask is applied to the address used to write the value to memory, such that `1` replaces the corresponding bit in the address and `X` indicates a wildcard.  The value is written to all memory addresses satisfying the wildcard."
   ]
  },
  {
   "cell_type": "code",
   "execution_count": 78,
   "id": "87042e5b",
   "metadata": {
    "execution": {
     "iopub.execute_input": "2023-04-16T23:50:42.137159Z",
     "iopub.status.busy": "2023-04-16T23:50:42.137011Z",
     "iopub.status.idle": "2023-04-16T23:50:42.162604Z",
     "shell.execute_reply": "2023-04-16T23:50:42.161998Z",
     "shell.execute_reply.started": "2023-04-16T23:50:42.137147Z"
    }
   },
   "outputs": [
    {
     "data": {
      "text/markdown": [
       "For [day 14](https://adventofcode.com/2020/day/14), `puzzle.input` has 570 lines:"
      ],
      "text/plain": [
       "<IPython.core.display.Markdown object>"
      ]
     },
     "metadata": {},
     "output_type": "display_data"
    },
    {
     "name": "stdout",
     "output_type": "stream",
     "text": [
      "mask = 0111X10100100X1111X10010X000X1000001\n",
      "mem[50907] = 468673978\n",
      "mem[22295] = 3337449\n",
      "mem[58474] = 56418393\n",
      "mem[15362] = 243184\n",
      "mem[65089] = 110688658\n",
      "mask = 010X010XX110X01X01X10X001001011X110X\n",
      "mem[21952] = 950257\n",
      " ...\n",
      "mem[13666] = 52961\n",
      "mem[7377] = 134144120\n",
      "mem[58224] = 211536\n",
      "mem[36878] = 173058887\n"
     ]
    },
    {
     "data": {
      "text/markdown": [
       "The stored answers are: `{1: '9628746976360', 2: '4574598714592'}`"
      ],
      "text/plain": [
       "<IPython.core.display.Markdown object>"
      ]
     },
     "metadata": {},
     "output_type": "display_data"
    }
   ],
   "source": [
    "puzzle = advent.puzzle(day=14)"
   ]
  },
  {
   "cell_type": "code",
   "execution_count": 79,
   "id": "b4c2f4f8",
   "metadata": {
    "execution": {
     "iopub.execute_input": "2023-04-16T23:50:42.163476Z",
     "iopub.status.busy": "2023-04-16T23:50:42.163307Z",
     "iopub.status.idle": "2023-04-16T23:50:42.166344Z",
     "shell.execute_reply": "2023-04-16T23:50:42.165787Z",
     "shell.execute_reply.started": "2023-04-16T23:50:42.163463Z"
    }
   },
   "outputs": [],
   "source": [
    "s1 = \"\"\"\\\n",
    "mask = XXXXXXXXXXXXXXXXXXXXXXXXXXXXX1XXXX0X\n",
    "mem[8] = 11\n",
    "mem[7] = 101\n",
    "mem[8] = 0\n",
    "\"\"\""
   ]
  },
  {
   "cell_type": "code",
   "execution_count": 80,
   "id": "19c010a9",
   "metadata": {
    "execution": {
     "iopub.execute_input": "2023-04-16T23:50:42.167201Z",
     "iopub.status.busy": "2023-04-16T23:50:42.166974Z",
     "iopub.status.idle": "2023-04-16T23:50:42.175574Z",
     "shell.execute_reply": "2023-04-16T23:50:42.175017Z",
     "shell.execute_reply.started": "2023-04-16T23:50:42.167189Z"
    }
   },
   "outputs": [],
   "source": [
    "s2 = \"\"\"\\\n",
    "mask = 000000000000000000000000000000X1001X\n",
    "mem[42] = 100\n",
    "mask = 00000000000000000000000000000000X0XX\n",
    "mem[26] = 1\n",
    "\"\"\""
   ]
  },
  {
   "cell_type": "code",
   "execution_count": 81,
   "id": "0140032e",
   "metadata": {
    "execution": {
     "iopub.execute_input": "2023-04-16T23:50:42.176552Z",
     "iopub.status.busy": "2023-04-16T23:50:42.176208Z",
     "iopub.status.idle": "2023-04-16T23:50:42.197857Z",
     "shell.execute_reply": "2023-04-16T23:50:42.197255Z",
     "shell.execute_reply.started": "2023-04-16T23:50:42.176537Z"
    }
   },
   "outputs": [
    {
     "name": "stdout",
     "output_type": "stream",
     "text": [
      "(Part 1: 0.001 s)\n",
      "(Part 2: 0.010 s)\n"
     ]
    }
   ],
   "source": [
    "def day14(s, *, part2=False):\n",
    "  mem = {}\n",
    "  extract_0 = str.maketrans('01X', '100')\n",
    "  extract_1 = str.maketrans('01X', '010')\n",
    "  extract_x = str.maketrans('01X', '001')\n",
    "  for line in s.splitlines():\n",
    "    if line.startswith('mask'):\n",
    "      mask = line.split(' = ')[1]\n",
    "      if not part2:\n",
    "        mask_force_0 = int(mask.translate(extract_0), base=2)\n",
    "        mask_force_1 = int(mask.translate(extract_1), base=2)\n",
    "      else:\n",
    "        mask_force_1 = int(mask.translate(extract_1), base=2)\n",
    "        mask_not_x = ~int(mask.translate(extract_x), base=2)\n",
    "        offsets = [0]\n",
    "        for wildcard in (1 << i for i in range(36) if mask[35 - i] == 'X'):\n",
    "          offsets += [offset + wildcard for offset in offsets]\n",
    "    else:\n",
    "      address, value = map(int, hh.re_groups(r'^mem\\[(\\d+)\\] = (\\d+)$', line))\n",
    "      if not part2:\n",
    "        mem[address] = (value | mask_force_1) & ~mask_force_0\n",
    "      else:\n",
    "        address = (address & mask_not_x) | mask_force_1\n",
    "        for offset in offsets:\n",
    "          mem[address + offset] = value\n",
    "  return sum(mem.values())\n",
    "\n",
    "\n",
    "check_eq(day14(s1), 165)\n",
    "puzzle.verify(1, day14)\n",
    "\n",
    "day14_part2 = functools.partial(day14, part2=True)\n",
    "check_eq(day14_part2(s2), 208)\n",
    "puzzle.verify(2, day14_part2)"
   ]
  },
  {
   "cell_type": "markdown",
   "id": "8064b6a2",
   "metadata": {},
   "source": [
    "<a name=\"day15\"></a>\n",
    "## Day 15: Rounds of spoken numbers"
   ]
  },
  {
   "cell_type": "markdown",
   "id": "3bcb3e45",
   "metadata": {},
   "source": [
    "Given an initial sequence of numbers indexed starting at `1`, continue the sequence as follows.\n",
    "\n",
    "The number at index `i` is either\n",
    "  * `0` if the number at index `i - 1` was not previously seen, or\n",
    "  * `i - 1 - j` if the number at index `i - 1` was previously seen at index `j`.\n",
    "\n",
    "- Part 1: Report the number at index `2020`.\n",
    "\n",
    "- Part 2: Report the number at index `30_000_000`."
   ]
  },
  {
   "cell_type": "code",
   "execution_count": 82,
   "id": "c1dd6ea8",
   "metadata": {
    "execution": {
     "iopub.execute_input": "2023-04-16T23:50:42.198788Z",
     "iopub.status.busy": "2023-04-16T23:50:42.198603Z",
     "iopub.status.idle": "2023-04-16T23:50:42.223326Z",
     "shell.execute_reply": "2023-04-16T23:50:42.222784Z",
     "shell.execute_reply.started": "2023-04-16T23:50:42.198763Z"
    },
    "tags": []
   },
   "outputs": [
    {
     "data": {
      "text/markdown": [
       "For [day 15](https://adventofcode.com/2020/day/15), `puzzle.input` has a single line of 16 characters:"
      ],
      "text/plain": [
       "<IPython.core.display.Markdown object>"
      ]
     },
     "metadata": {},
     "output_type": "display_data"
    },
    {
     "name": "stdout",
     "output_type": "stream",
     "text": [
      "9,12,1,4,17,0,18\n"
     ]
    },
    {
     "data": {
      "text/markdown": [
       "The stored answers are: `{1: '610', 2: '1407'}`"
      ],
      "text/plain": [
       "<IPython.core.display.Markdown object>"
      ]
     },
     "metadata": {},
     "output_type": "display_data"
    }
   ],
   "source": [
    "puzzle = advent.puzzle(day=15)"
   ]
  },
  {
   "cell_type": "code",
   "execution_count": 83,
   "id": "f6aeec38",
   "metadata": {
    "execution": {
     "iopub.execute_input": "2023-04-16T23:50:42.224491Z",
     "iopub.status.busy": "2023-04-16T23:50:42.224135Z",
     "iopub.status.idle": "2023-04-16T23:50:42.227427Z",
     "shell.execute_reply": "2023-04-16T23:50:42.226716Z",
     "shell.execute_reply.started": "2023-04-16T23:50:42.224477Z"
    },
    "tags": []
   },
   "outputs": [],
   "source": [
    "s1 = '0,3,6'"
   ]
  },
  {
   "cell_type": "code",
   "execution_count": 84,
   "id": "f8d10f40",
   "metadata": {
    "execution": {
     "iopub.execute_input": "2023-04-16T23:50:42.228544Z",
     "iopub.status.busy": "2023-04-16T23:50:42.228169Z",
     "iopub.status.idle": "2023-04-16T23:50:42.240530Z",
     "shell.execute_reply": "2023-04-16T23:50:42.239967Z",
     "shell.execute_reply.started": "2023-04-16T23:50:42.228531Z"
    },
    "lines_to_next_cell": 2,
    "tags": []
   },
   "outputs": [
    {
     "name": "stdout",
     "output_type": "stream",
     "text": [
      "(Part 1: 0.000 s)\n"
     ]
    }
   ],
   "source": [
    "def day15a(s, *, num_turns=2020):  # Slow, using dict().\n",
    "  initial_sequence = tuple(map(int, s.split(',')))\n",
    "\n",
    "  def generate_sequence(initial_sequence):\n",
    "    last_turn: dict[int, int] = {}\n",
    "    for turn, number in enumerate(initial_sequence):\n",
    "      prev_turn = last_turn.get(number, -1)\n",
    "      last_turn[number] = turn\n",
    "      yield number\n",
    "\n",
    "    for turn in itertools.count(len(initial_sequence)):\n",
    "      number = 0 if prev_turn < 0 else turn - 1 - prev_turn\n",
    "      prev_turn = last_turn.get(number, -1)\n",
    "      last_turn[number] = turn\n",
    "      yield number\n",
    "\n",
    "  return next(itertools.islice(generate_sequence(initial_sequence), num_turns - 1, None))\n",
    "\n",
    "\n",
    "check_eq(day15a(s1, num_turns=10), 0)\n",
    "check_eq(day15a(s1), 436)\n",
    "check_eq(day15a('1,3,2'), 1)\n",
    "check_eq(day15a('2,1,3'), 10)\n",
    "check_eq(day15a('1,2,3'), 27)\n",
    "check_eq(day15a('2,3,1'), 78)\n",
    "check_eq(day15a('3,2,1'), 438)\n",
    "check_eq(day15a('3,1,2'), 1836)\n",
    "puzzle.verify(1, day15a)\n",
    "\n",
    "day15a_part2 = functools.partial(day15a, num_turns=30_000_000)\n",
    "# puzzle.verify(2, day15a_part2)  # Slow; ~6 s."
   ]
  },
  {
   "cell_type": "code",
   "execution_count": 85,
   "id": "b9b9453a",
   "metadata": {
    "execution": {
     "iopub.execute_input": "2023-04-16T23:50:42.241581Z",
     "iopub.status.busy": "2023-04-16T23:50:42.241187Z",
     "iopub.status.idle": "2023-04-16T23:50:42.253182Z",
     "shell.execute_reply": "2023-04-16T23:50:42.252569Z",
     "shell.execute_reply.started": "2023-04-16T23:50:42.241567Z"
    },
    "tags": []
   },
   "outputs": [
    {
     "name": "stdout",
     "output_type": "stream",
     "text": [
      "(Part 1: 0.000 s)\n"
     ]
    }
   ],
   "source": [
    "def day15b(s, *, num_turns=2020):  # Faster, using List.\n",
    "  def func(initial_sequence, num_turns):\n",
    "    last_turn = [-1] * num_turns\n",
    "    for turn in range(min(num_turns, len(initial_sequence))):\n",
    "      number = initial_sequence[turn]\n",
    "      prev_turn = last_turn[number]\n",
    "      last_turn[number] = turn\n",
    "\n",
    "    for turn in range(len(initial_sequence), num_turns):\n",
    "      number = 0 if prev_turn < 0 else turn - 1 - prev_turn\n",
    "      prev_turn = last_turn[number]\n",
    "      last_turn[number] = turn\n",
    "\n",
    "    return number\n",
    "\n",
    "  initial_sequence = np.array(tuple(map(int, s.split(','))), np.int32)\n",
    "  return func(initial_sequence, num_turns)\n",
    "\n",
    "\n",
    "check_eq(day15b(s1), 436)\n",
    "puzzle.verify(1, day15b)\n",
    "\n",
    "if not using_numba:\n",
    "  day15b_part2 = functools.partial(day15b, num_turns=30_000_000)\n",
    "  # check_eq(day15b_part2(s1), 175594)  # Slow; ~3 s.\n",
    "  puzzle.verify(2, day15b_part2)  # Slow; ~3 s."
   ]
  },
  {
   "cell_type": "code",
   "execution_count": 86,
   "id": "6c302dea",
   "metadata": {
    "execution": {
     "iopub.execute_input": "2023-04-16T23:50:42.254337Z",
     "iopub.status.busy": "2023-04-16T23:50:42.253847Z",
     "iopub.status.idle": "2023-04-16T23:50:43.295617Z",
     "shell.execute_reply": "2023-04-16T23:50:43.294984Z",
     "shell.execute_reply.started": "2023-04-16T23:50:42.254321Z"
    },
    "tags": []
   },
   "outputs": [
    {
     "name": "stdout",
     "output_type": "stream",
     "text": [
      "(Part 1: 0.000 s)\n",
      "(Part 2: 0.399 s)\n"
     ]
    }
   ],
   "source": [
    "# Faster, using np.array and numba.\n",
    "@numba.njit\n",
    "def day15_func(initial_sequence, num_turns):\n",
    "  last_turn = np.full(num_turns, -1, np.int32)\n",
    "  for turn in range(min(num_turns, len(initial_sequence))):\n",
    "    number = initial_sequence[turn]\n",
    "    prev_turn = last_turn[number]\n",
    "    last_turn[number] = turn\n",
    "\n",
    "  for turn in range(len(initial_sequence), num_turns):\n",
    "    number = 0 if prev_turn < 0 else turn - 1 - prev_turn\n",
    "    prev_turn = last_turn[number]\n",
    "    last_turn[number] = turn\n",
    "\n",
    "  return number\n",
    "\n",
    "\n",
    "def day15(s, *, num_turns=2020):\n",
    "  initial_sequence = np.array(tuple(map(int, s.split(','))), np.int32)\n",
    "  return day15_func(initial_sequence, num_turns)\n",
    "\n",
    "\n",
    "check_eq(day15(s1), 436)  # ~0.1 s for numba compilation.\n",
    "puzzle.verify(1, day15)\n",
    "\n",
    "if using_numba:\n",
    "  day15_part2 = functools.partial(day15, num_turns=30_000_000)\n",
    "  check_eq(day15_part2(s1), 175594)  # ~0.1 s for numba compilation.\n",
    "  if 0:\n",
    "    check_eq(day15_part2('1,3,2'), 2578)\n",
    "    check_eq(day15_part2('2,1,3'), 3544142)\n",
    "    check_eq(day15_part2('1,2,3'), 261214)\n",
    "    check_eq(day15_part2('2,3,1'), 6895259)\n",
    "    check_eq(day15_part2('3,2,1'), 18)\n",
    "    check_eq(day15_part2('3,1,2'), 362)\n",
    "  puzzle.verify(2, day15_part2)  # ~0.4 s with numba, ~64 s without numba.\n",
    "  # (Without numba, accessing individual elements is much faster within a Python list than\n",
    "  # within an np.array.)"
   ]
  },
  {
   "cell_type": "markdown",
   "id": "a2701515",
   "metadata": {},
   "source": [
    "<a name=\"day16\"></a>\n",
    "## Day 16: Match ticket fields and rules"
   ]
  },
  {
   "cell_type": "markdown",
   "id": "97a30142",
   "metadata": {},
   "source": [
    "Given (1) a set of fields with names and rules on possible value ranges, (2) my ticket with unlabeled fields, and (3) a set of other tickets with unlabeled fields:\n",
    "\n",
    "- Part 1: Report the number of invalid other tickets, which are those containing a field value that does not satisfy any field rule.\n",
    "\n",
    "- Part 2: Considering the valid other tickets, determine a labeling of the ticket fields that is compatible with the rules.  Report the product of the 6 field values on my ticket whose names start with `departure`."
   ]
  },
  {
   "cell_type": "code",
   "execution_count": 87,
   "id": "84064fb0",
   "metadata": {
    "execution": {
     "iopub.execute_input": "2023-04-16T23:50:43.296765Z",
     "iopub.status.busy": "2023-04-16T23:50:43.296384Z",
     "iopub.status.idle": "2023-04-16T23:50:43.311864Z",
     "shell.execute_reply": "2023-04-16T23:50:43.311340Z",
     "shell.execute_reply.started": "2023-04-16T23:50:43.296750Z"
    },
    "tags": []
   },
   "outputs": [
    {
     "data": {
      "text/markdown": [
       "For [day 16](https://adventofcode.com/2020/day/16), `puzzle.input` has 268 lines:"
      ],
      "text/plain": [
       "<IPython.core.display.Markdown object>"
      ]
     },
     "metadata": {},
     "output_type": "display_data"
    },
    {
     "name": "stdout",
     "output_type": "stream",
     "text": [
      "departure location: 33-679 or 691-971\n",
      "departure station: 48-646 or 671-966\n",
      "departure platform: 37-601 or 619-950\n",
      "departure track: 41-863 or 875-973\n",
      "departure date: 37-145 or 168-965\n",
      "departure time: 26-246 or 257-972\n",
      "arrival location: 30-542 or 556-960\n",
      "arrival station: 30-75 or 89-954\n",
      " ...\n",
      "845,453,939,349,884,940,0,621,933,188,73,204,440,918,207,671,629,735,487,627\n",
      "879,694,125,501,580,274,451,885,834,397,146,104,185,173,528,717,590,412,350,936\n",
      "944,91,450,631,262,501,196,401,199,946,105,236,634,765,66,385,582,437,262,581\n",
      "924,594,156,702,128,858,133,695,140,486,399,534,115,627,748,560,518,700,883,206\n"
     ]
    },
    {
     "data": {
      "text/markdown": [
       "The stored answers are: `{1: '29878', 2: '855438643439'}`"
      ],
      "text/plain": [
       "<IPython.core.display.Markdown object>"
      ]
     },
     "metadata": {},
     "output_type": "display_data"
    }
   ],
   "source": [
    "puzzle = advent.puzzle(day=16)"
   ]
  },
  {
   "cell_type": "code",
   "execution_count": 88,
   "id": "96114cdf",
   "metadata": {
    "execution": {
     "iopub.execute_input": "2023-04-16T23:50:43.312847Z",
     "iopub.status.busy": "2023-04-16T23:50:43.312562Z",
     "iopub.status.idle": "2023-04-16T23:50:43.315413Z",
     "shell.execute_reply": "2023-04-16T23:50:43.314925Z",
     "shell.execute_reply.started": "2023-04-16T23:50:43.312833Z"
    },
    "tags": []
   },
   "outputs": [],
   "source": [
    "s1 = \"\"\"\\\n",
    "class: 1-3 or 5-7\n",
    "row: 6-11 or 33-44\n",
    "seat: 13-40 or 45-50\n",
    "\n",
    "your ticket:\n",
    "7,1,14\n",
    "\n",
    "nearby tickets:\n",
    "7,3,47\n",
    "40,4,50\n",
    "55,2,20\n",
    "38,6,12\n",
    "\"\"\"\n",
    "\n",
    "s2 = \"\"\"\\\n",
    "class: 0-1 or 4-19\n",
    "row: 0-5 or 8-19\n",
    "seat: 0-13 or 16-19\n",
    "\n",
    "your ticket:\n",
    "11,12,13\n",
    "\n",
    "nearby tickets:\n",
    "3,9,18\n",
    "15,1,5\n",
    "5,14,9\n",
    "\"\"\""
   ]
  },
  {
   "cell_type": "code",
   "execution_count": 89,
   "id": "b75a6436",
   "metadata": {
    "execution": {
     "iopub.execute_input": "2023-04-16T23:50:43.316156Z",
     "iopub.status.busy": "2023-04-16T23:50:43.315976Z",
     "iopub.status.idle": "2023-04-16T23:50:43.350756Z",
     "shell.execute_reply": "2023-04-16T23:50:43.350185Z",
     "shell.execute_reply.started": "2023-04-16T23:50:43.316144Z"
    },
    "tags": []
   },
   "outputs": [
    {
     "name": "stdout",
     "output_type": "stream",
     "text": [
      "(Part 1: 0.002 s)\n",
      "(Part 2: 0.020 s)\n"
     ]
    }
   ],
   "source": [
    "def day16(s, *, part2=False):\n",
    "  def read_rules_and_tickets(s):\n",
    "    s_rules, s_my_ticket, s_nearby = s.split('\\n\\n')\n",
    "\n",
    "    def read_rules():\n",
    "      for line in s_rules.splitlines():\n",
    "        name, ranges = line.split(': ')\n",
    "        ranges = ranges.split(' or ')\n",
    "        yield name, [tuple(map(int, range.split('-'))) for range in ranges]\n",
    "\n",
    "    (line,) = s_my_ticket.splitlines()[1:]\n",
    "    my_ticket = list(map(int, line.split(',')))\n",
    "\n",
    "    def read_tickets():\n",
    "      for line in s_nearby.splitlines()[1:]:\n",
    "        fields = list(map(int, line.split(',')))\n",
    "        yield fields\n",
    "\n",
    "    return read_rules, my_ticket, read_tickets\n",
    "\n",
    "  def value_ok_for_some_rule(value, rules):\n",
    "    return any(range[0] <= value <= range[1] for ranges in rules.values() for range in ranges)\n",
    "\n",
    "  read_rules, my_ticket, read_tickets = read_rules_and_tickets(s)\n",
    "  rules = dict(read_rules())\n",
    "\n",
    "  if not part2:\n",
    "    return sum(\n",
    "        value\n",
    "        for fields in read_tickets()\n",
    "        for value in fields\n",
    "        if not value_ok_for_some_rule(value, rules)\n",
    "    )\n",
    "\n",
    "  valid_tickets = [\n",
    "      fields\n",
    "      for fields in read_tickets()\n",
    "      if all(value_ok_for_some_rule(value, rules) for value in fields)\n",
    "  ]\n",
    "  num_rules, num_fields = len(rules), len(valid_tickets[0])\n",
    "  check_eq(num_rules, num_fields)\n",
    "\n",
    "  def is_compatible(rule, field_index):\n",
    "    ranges = rules[rule]\n",
    "    return all(\n",
    "        any(range[0] <= ticket[field_index] <= range[1] for range in ranges)\n",
    "        for ticket in valid_tickets\n",
    "    )\n",
    "\n",
    "  grid = np.empty((num_rules, num_fields), bool)\n",
    "  # Computational bottleneck; could let rules.values() be array and use numba.\n",
    "  for rule_index, rule in enumerate(rules):\n",
    "    for field_index in range(num_fields):\n",
    "      grid[rule_index, field_index] = is_compatible(rule, field_index)\n",
    "\n",
    "  list_rules = list(rules)\n",
    "  column_of_rule = {}\n",
    "  row_sums = grid.sum(axis=1)\n",
    "  while row_sums.any():\n",
    "    row = np.nonzero(row_sums == 1)[0][0]\n",
    "    ((col,),) = np.nonzero(grid[row] == 1)\n",
    "    rule = list_rules[row]\n",
    "    column_of_rule[rule] = col\n",
    "    row_sums -= grid[:, col]\n",
    "    grid[:, col] = 0\n",
    "  values = [my_ticket[column_of_rule[rule]] for rule in rules if rule.startswith('departure')]\n",
    "  check_eq(len(values), 6)\n",
    "  return math.prod(values)\n",
    "\n",
    "\n",
    "check_eq(day16(s1), 71)\n",
    "puzzle.verify(1, day16)\n",
    "\n",
    "day16_part2 = functools.partial(day16, part2=True)\n",
    "puzzle.verify(2, day16_part2)"
   ]
  },
  {
   "cell_type": "markdown",
   "id": "43c600ab",
   "metadata": {},
   "source": [
    "<a name=\"day17\"></a>\n",
    "## Day 17: Game of life in 3D and 4D"
   ]
  },
  {
   "cell_type": "markdown",
   "id": "b32214f2",
   "metadata": {},
   "source": [
    "Given an initial 2D grid of cell states, simulate a cellular automaton on a higher-dimensional grid.  An inactive grid cell becomes active if exactly 3 of its neighbors is active, and an active grid cell becomes inactive unless 2 or 3 of its neighbors is active.  (Each cell has 26 neighbors in 3D and 80 neighbors in 4D.)\n",
    "\n",
    "- Part 1: Run the cellular automaton in 3D for 6 generations and report the number of active cells.\n",
    "\n",
    "- Part 2: Do the same in 4D."
   ]
  },
  {
   "cell_type": "code",
   "execution_count": 90,
   "id": "cb410087",
   "metadata": {
    "execution": {
     "iopub.execute_input": "2023-04-16T23:50:43.351880Z",
     "iopub.status.busy": "2023-04-16T23:50:43.351428Z",
     "iopub.status.idle": "2023-04-16T23:50:43.371435Z",
     "shell.execute_reply": "2023-04-16T23:50:43.370919Z",
     "shell.execute_reply.started": "2023-04-16T23:50:43.351867Z"
    },
    "tags": []
   },
   "outputs": [
    {
     "data": {
      "text/markdown": [
       "For [day 17](https://adventofcode.com/2020/day/17), `puzzle.input` has 8 lines:"
      ],
      "text/plain": [
       "<IPython.core.display.Markdown object>"
      ]
     },
     "metadata": {},
     "output_type": "display_data"
    },
    {
     "name": "stdout",
     "output_type": "stream",
     "text": [
      ".......#\n",
      "....#...\n",
      "...###.#\n",
      "#...###.\n",
      "....##..\n",
      "##.#..#.\n",
      "###.#.#.\n",
      "....#...\n"
     ]
    },
    {
     "data": {
      "text/markdown": [
       "The stored answers are: `{1: '232', 2: '1620'}`"
      ],
      "text/plain": [
       "<IPython.core.display.Markdown object>"
      ]
     },
     "metadata": {},
     "output_type": "display_data"
    }
   ],
   "source": [
    "puzzle = advent.puzzle(day=17)"
   ]
  },
  {
   "cell_type": "code",
   "execution_count": 91,
   "id": "88de6f15",
   "metadata": {
    "execution": {
     "iopub.execute_input": "2023-04-16T23:50:43.372408Z",
     "iopub.status.busy": "2023-04-16T23:50:43.372178Z",
     "iopub.status.idle": "2023-04-16T23:50:43.374859Z",
     "shell.execute_reply": "2023-04-16T23:50:43.374416Z",
     "shell.execute_reply.started": "2023-04-16T23:50:43.372392Z"
    },
    "lines_to_next_cell": 2,
    "tags": []
   },
   "outputs": [],
   "source": [
    "s1 = \"\"\"\\\n",
    ".#.\n",
    "..#\n",
    "###\n",
    "\"\"\""
   ]
  },
  {
   "cell_type": "code",
   "execution_count": 92,
   "id": "3225771d",
   "metadata": {
    "execution": {
     "iopub.execute_input": "2023-04-16T23:50:43.375584Z",
     "iopub.status.busy": "2023-04-16T23:50:43.375374Z",
     "iopub.status.idle": "2023-04-16T23:50:43.383991Z",
     "shell.execute_reply": "2023-04-16T23:50:43.383406Z",
     "shell.execute_reply.started": "2023-04-16T23:50:43.375572Z"
    },
    "lines_to_next_cell": 2,
    "tags": []
   },
   "outputs": [],
   "source": [
    "# Both of the solutions below work in arbitrary dimension!"
   ]
  },
  {
   "cell_type": "code",
   "execution_count": 93,
   "id": "b99d8849",
   "metadata": {
    "execution": {
     "iopub.execute_input": "2023-04-16T23:50:43.384958Z",
     "iopub.status.busy": "2023-04-16T23:50:43.384674Z",
     "iopub.status.idle": "2023-04-16T23:50:44.303731Z",
     "shell.execute_reply": "2023-04-16T23:50:44.303126Z",
     "shell.execute_reply.started": "2023-04-16T23:50:43.384943Z"
    },
    "lines_to_next_cell": 2,
    "tags": []
   },
   "outputs": [
    {
     "name": "stdout",
     "output_type": "stream",
     "text": [
      "(Part 1: 0.047 s)\n"
     ]
    }
   ],
   "source": [
    "def day17a(s, *, num_cycles=6, dim=3):  # Slower.\n",
    "  lines = s.splitlines()\n",
    "  indices = {\n",
    "      (0,) * (dim - 2) + (y, x)\n",
    "      for y, line in enumerate(lines)\n",
    "      for x, ch in enumerate(line)\n",
    "      if ch == '#'\n",
    "  }\n",
    "  offsets = set(itertools.product((-1, 0, 1), repeat=dim)) - {(0,) * dim}\n",
    "\n",
    "  def neighbors(index):\n",
    "    for offset in offsets:\n",
    "      yield tuple(map(sum, zip(index, offset)))\n",
    "\n",
    "  def count_neighbors(index):\n",
    "    return sum(neighbor in indices for neighbor in neighbors(index))\n",
    "\n",
    "  for _ in range(num_cycles):\n",
    "    survivors = {index for index in indices if 2 <= count_neighbors(index) <= 3}\n",
    "    adjacents = {neighbor for index in indices for neighbor in neighbors(index)}\n",
    "    births = {index for index in adjacents if count_neighbors(index) == 3}\n",
    "    indices = survivors | births\n",
    "\n",
    "  return len(indices)\n",
    "\n",
    "\n",
    "check_eq(day17a(s1), 112)\n",
    "puzzle.verify(1, day17a)\n",
    "\n",
    "day17a_part2 = functools.partial(day17a, dim=4)\n",
    "check_eq(day17a_part2(s1), 848)\n",
    "# puzzle.verify(2, day17a_part2)  # Slow; ~1.5 s."
   ]
  },
  {
   "cell_type": "code",
   "execution_count": 94,
   "id": "2856e455",
   "metadata": {
    "execution": {
     "iopub.execute_input": "2023-04-16T23:50:44.304787Z",
     "iopub.status.busy": "2023-04-16T23:50:44.304429Z",
     "iopub.status.idle": "2023-04-16T23:50:44.410889Z",
     "shell.execute_reply": "2023-04-16T23:50:44.410377Z",
     "shell.execute_reply.started": "2023-04-16T23:50:44.304772Z"
    },
    "tags": []
   },
   "outputs": [
    {
     "name": "stdout",
     "output_type": "stream",
     "text": [
      "(Part 1: 0.003 s)\n",
      "(Part 2: 0.059 s)\n"
     ]
    }
   ],
   "source": [
    "# Faster using specialization and collections.Counter, and add visualization.\n",
    "def day17(s, *, num_cycles=6, dim=3, visualize=False, magnify=2):\n",
    "  lines = s.splitlines()\n",
    "  indices = {\n",
    "      (0,) * (dim - 2) + (y, x)\n",
    "      for y, line in enumerate(lines)\n",
    "      for x, ch in enumerate(line)\n",
    "      if ch == '#'\n",
    "  }\n",
    "  offsets = set(itertools.product((-1, 0, 1), repeat=dim)) - {(0,) * dim}\n",
    "\n",
    "  def add_image():\n",
    "    pad = num_cycles\n",
    "    shape = (1 + 2 * pad,) * (dim - 2) + (len(lines) + 2 * pad, len(lines[0]) + 2 * pad, 3)\n",
    "    grid = np.full(shape, 240, np.uint8)\n",
    "    for index in indices:\n",
    "      grid[tuple(c + pad for c in index)] = 0\n",
    "    tiles = grid.reshape(-1, *shape[-3:])\n",
    "    shape0 = (1,) * (4 - dim) + shape[:-3]\n",
    "    image = hh.assemble_arrays(tiles, shape0, background=255, spacing=1)\n",
    "    # image = hh.to_image(tmp, 255, 0)\n",
    "    images.append(image.repeat(magnify, axis=0).repeat(magnify, axis=1))\n",
    "\n",
    "  images: list[np.ndarray] = []\n",
    "  if visualize:\n",
    "    add_image()\n",
    "\n",
    "  def neighbors(index):\n",
    "    i = index\n",
    "    if dim == 3:  # Optional specialization for speed.\n",
    "      for o in offsets:\n",
    "        yield i[0] + o[0], i[1] + o[1], i[2] + o[2]\n",
    "    elif dim == 4:  # Optional specialization for speed.\n",
    "      for o in offsets:\n",
    "        yield i[0] + o[0], i[1] + o[1], i[2] + o[2], i[3] + o[3]\n",
    "    else:\n",
    "      for o in offsets:\n",
    "        yield tuple(map(sum, zip(i, o)))\n",
    "\n",
    "  for _ in range(num_cycles):\n",
    "    # Adapted from collections.Counter() algorithm in\n",
    "    # https://github.com/norvig/pytudes/blob/master/ipynb/Advent-2020.ipynb\n",
    "    neighbor_counts = collections.Counter(\n",
    "        more_itertools.flatten(neighbors(index) for index in indices)\n",
    "    )\n",
    "    indices = {\n",
    "        index\n",
    "        for index, count in neighbor_counts.items()\n",
    "        if count == 3 or (count == 2 and index in indices)\n",
    "    }\n",
    "    if visualize:\n",
    "      add_image()\n",
    "\n",
    "  if visualize:\n",
    "    images = [images[0]] * 3 + images + [images[-1]] * 3\n",
    "    title = f'day17{\"abc\"[dim - 2]}'\n",
    "    media.show_video(images, codec='gif', fps=2, title=title)\n",
    "\n",
    "  return len(indices)\n",
    "\n",
    "\n",
    "check_eq(day17(s1), 112)\n",
    "puzzle.verify(1, day17)\n",
    "\n",
    "day17_part2 = functools.partial(day17, dim=4)\n",
    "check_eq(day17_part2(s1), 848)\n",
    "puzzle.verify(2, day17_part2)"
   ]
  },
  {
   "cell_type": "code",
   "execution_count": 95,
   "id": "9d522eac-7e59-4db4-a42d-5f82829a36e0",
   "metadata": {
    "execution": {
     "iopub.execute_input": "2023-04-16T23:50:44.411771Z",
     "iopub.status.busy": "2023-04-16T23:50:44.411474Z",
     "iopub.status.idle": "2023-04-16T23:50:44.728626Z",
     "shell.execute_reply": "2023-04-16T23:50:44.728039Z",
     "shell.execute_reply.started": "2023-04-16T23:50:44.411759Z"
    },
    "tags": []
   },
   "outputs": [
    {
     "data": {
      "text/html": [
       "<table class=\"show_videos\" style=\"border-spacing:0px;\"><tr><td style=\"padding:1px;\"><div style=\"display:flex; align-items:left;\">\n",
       "      <div style=\"display:flex; flex-direction:column; align-items:center;\">\n",
       "      <div>day17a</div><div><img width=\"40\" height=\"40\" style=\"image-rendering:auto; object-fit:cover;\" src=\"data:image/gif;base64,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\"/></div></div></div></td></tr></table>"
      ],
      "text/plain": [
       "<IPython.core.display.HTML object>"
      ]
     },
     "metadata": {},
     "output_type": "display_data"
    },
    {
     "data": {
      "text/html": [
       "<table class=\"show_videos\" style=\"border-spacing:0px;\"><tr><td style=\"padding:1px;\"><div style=\"display:flex; align-items:left;\">\n",
       "      <div style=\"display:flex; flex-direction:column; align-items:center;\">\n",
       "      <div>day17b</div><div><img width=\"544\" height=\"40\" style=\"image-rendering:auto; object-fit:cover;\" src=\"data:image/gif;base64,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\"/></div></div></div></td></tr></table>"
      ],
      "text/plain": [
       "<IPython.core.display.HTML object>"
      ]
     },
     "metadata": {},
     "output_type": "display_data"
    },
    {
     "data": {
      "text/html": [
       "<table class=\"show_videos\" style=\"border-spacing:0px;\"><tr><td style=\"padding:1px;\"><div style=\"display:flex; align-items:left;\">\n",
       "      <div style=\"display:flex; flex-direction:column; align-items:center;\">\n",
       "      <div>day17c</div><div><img width=\"544\" height=\"544\" style=\"image-rendering:auto; object-fit:cover;\" src=\"data:image/gif;base64,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\"/></div></div></div></td></tr></table>"
      ],
      "text/plain": [
       "<IPython.core.display.HTML object>"
      ]
     },
     "metadata": {},
     "output_type": "display_data"
    }
   ],
   "source": [
    "for _dim in range(2, 5):\n",
    "  _ = day17(puzzle.input, dim=_dim, num_cycles=6, visualize=True)"
   ]
  },
  {
   "cell_type": "code",
   "execution_count": 96,
   "id": "e41a2716",
   "metadata": {
    "execution": {
     "iopub.execute_input": "2023-04-16T23:50:44.729700Z",
     "iopub.status.busy": "2023-04-16T23:50:44.729431Z",
     "iopub.status.idle": "2023-04-16T23:50:44.851920Z",
     "shell.execute_reply": "2023-04-16T23:50:44.851383Z",
     "shell.execute_reply.started": "2023-04-16T23:50:44.729686Z"
    },
    "tags": []
   },
   "outputs": [
    {
     "data": {
      "text/html": [
       "dim=2 num_active=[22, 17, 23, 24, 28, 27, 30]"
      ],
      "text/plain": [
       "<IPython.core.display.HTML object>"
      ]
     },
     "metadata": {},
     "output_type": "display_data"
    },
    {
     "data": {
      "text/html": [
       "dim=3 num_active=[22, 39, 50, 84, 140, 173, 232]"
      ],
      "text/plain": [
       "<IPython.core.display.HTML object>"
      ]
     },
     "metadata": {},
     "output_type": "display_data"
    },
    {
     "data": {
      "text/html": [
       "dim=4 num_active=[22, 105, 144, 652, 372, 1796, 1620]"
      ],
      "text/plain": [
       "<IPython.core.display.HTML object>"
      ]
     },
     "metadata": {},
     "output_type": "display_data"
    }
   ],
   "source": [
    "def day17_show_num_active_in_each_generation_for_2d_3d_4d():\n",
    "  for dim in range(2, 5):\n",
    "    num_active = [day17(puzzle.input, num_cycles=num_cycles, dim=dim) for num_cycles in range(7)]\n",
    "    hh.display_html(f'{dim=} {num_active=}')\n",
    "\n",
    "\n",
    "if 1:\n",
    "  day17_show_num_active_in_each_generation_for_2d_3d_4d()"
   ]
  },
  {
   "cell_type": "markdown",
   "id": "7a3cae42",
   "metadata": {},
   "source": [
    "<a name=\"day18\"></a>\n",
    "## Day 18: Parsing math expression"
   ]
  },
  {
   "cell_type": "markdown",
   "id": "445d47c6",
   "metadata": {},
   "source": [
    "Given a list of mathematical expressions with additions, multiplications, and parentheses, evaluate each expression and report the sum of resulting values.\n",
    "\n",
    "- Part 1: Operators `+` and `*` have equal precedence and are applied left-to-right.\n",
    "\n",
    "- Part 2: Operator `+` has higher precedence than `*` (which is unusual)."
   ]
  },
  {
   "cell_type": "code",
   "execution_count": 97,
   "id": "3cd7a029",
   "metadata": {
    "execution": {
     "iopub.execute_input": "2023-04-16T23:50:44.853115Z",
     "iopub.status.busy": "2023-04-16T23:50:44.852639Z",
     "iopub.status.idle": "2023-04-16T23:50:44.868827Z",
     "shell.execute_reply": "2023-04-16T23:50:44.868282Z",
     "shell.execute_reply.started": "2023-04-16T23:50:44.853101Z"
    }
   },
   "outputs": [
    {
     "data": {
      "text/markdown": [
       "For [day 18](https://adventofcode.com/2020/day/18), `puzzle.input` has 380 lines:"
      ],
      "text/plain": [
       "<IPython.core.display.Markdown object>"
      ]
     },
     "metadata": {},
     "output_type": "display_data"
    },
    {
     "name": "stdout",
     "output_type": "stream",
     "text": [
      "7 + (9 * 8 + 5 + 5 * (3 * 4 * 7 + 6 * 4)) * ((3 * 6 + 3 * 4 * 7 * 4) + 4 * 3 * 5 + 5 * (5 * 6 + 7)) * 2 + 6 * 4\n",
      "9 * 4 * ((9 * 8 + 9 + 2 + 9) + 2 * 9 + 2 + 2) * 5 * 6\n",
      "3 * ((9 * 3 * 8 * 6 * 6 * 7) + 8) * 2 * 9 + 4 * 8\n",
      "(3 + 4 + 4 * 4 + 9) + (7 + 6 + 2 * 8) * 9 + 7 * 8\n",
      "9 + 6 + 6 + 9 * 9 * 5\n",
      "(3 * 5 + (4 + 3 * 7 * 8) + 7 + 8 + 2) * 8 * (3 * 4 * 8) * ((4 + 5 * 2) * 7)\n",
      "6 + (5 + 8 * (6 * 8 * 9 + 9 + 8 * 9) * 4 + (5 * 9)) * 2 + 2\n",
      "(6 + 8 + (6 * 6 + 2) * 6 * (7 + 7 + 8 + 9)) * 3 + 8 + (6 * (8 + 8 + 9)) + 2\n",
      " ...\n",
      "5 * 8 + (7 + 2 + 6) * (8 + 2 + 8 + 4 + 9) + (5 * 6 * 6 * 3) + 8\n",
      "6 + (7 * 4 + 4 * 7 + 3 * 7) + 9 + 5 * 7 * 5\n",
      "3 + 2 + 8 + (4 + 9 * 4 * 2 + (9 * 9 + 9 + 5) * 5) + 6\n",
      "3 * 9 * 4 * (5 * 4 * (8 + 3))\n"
     ]
    },
    {
     "data": {
      "text/markdown": [
       "The stored answers are: `{1: '4940631886147', 2: '283582817678281'}`"
      ],
      "text/plain": [
       "<IPython.core.display.Markdown object>"
      ]
     },
     "metadata": {},
     "output_type": "display_data"
    }
   ],
   "source": [
    "puzzle = advent.puzzle(day=18)"
   ]
  },
  {
   "cell_type": "code",
   "execution_count": 98,
   "id": "eb7a2253",
   "metadata": {
    "execution": {
     "iopub.execute_input": "2023-04-16T23:50:44.869881Z",
     "iopub.status.busy": "2023-04-16T23:50:44.869545Z",
     "iopub.status.idle": "2023-04-16T23:50:44.882001Z",
     "shell.execute_reply": "2023-04-16T23:50:44.881434Z",
     "shell.execute_reply.started": "2023-04-16T23:50:44.869865Z"
    }
   },
   "outputs": [
    {
     "name": "stdout",
     "output_type": "stream",
     "text": [
      "(Part 1: 0.003 s)\n",
      "(Part 2: 0.003 s)\n"
     ]
    }
   ],
   "source": [
    "def day18a(strings, *, part2=False):  # Slower, more readable.\n",
    "  def evaluate_line(s):\n",
    "    def parse_term(i):\n",
    "      if s[i] == '(':\n",
    "        value, i = parse_sequence(i + 1)\n",
    "        check_eq(s[i], ')')\n",
    "        return value, i + 1\n",
    "      if s[i].isdigit():\n",
    "        value = int(s[i])\n",
    "        return value, i + 1\n",
    "      raise AssertionError\n",
    "\n",
    "    def parse_sequence(i):\n",
    "      value, i = parse_term(i)\n",
    "      while i < len(s) and s[i] != ')':\n",
    "        check_eq(s[i], ' ')\n",
    "        check_eq(s[i + 2], ' ')\n",
    "        if s[i + 1] == '+':\n",
    "          value2, i = parse_term(i + 3)\n",
    "          value += value2\n",
    "        elif s[i + 1] == '*':\n",
    "          value2, i = (parse_sequence if part2 else parse_term)(i + 3)\n",
    "          value *= value2\n",
    "        else:\n",
    "          raise AssertionError\n",
    "      return value, i\n",
    "\n",
    "    value, i = parse_sequence(0)\n",
    "    check_eq(i, len(s))\n",
    "    return value\n",
    "\n",
    "  return sum(evaluate_line(s) for s in strings.splitlines())\n",
    "\n",
    "\n",
    "puzzle.verify(1, day18a)\n",
    "\n",
    "day18a_part2 = functools.partial(day18a, part2=True)\n",
    "puzzle.verify(2, day18a_part2)"
   ]
  },
  {
   "cell_type": "code",
   "execution_count": 99,
   "id": "b20492b9",
   "metadata": {
    "execution": {
     "iopub.execute_input": "2023-04-16T23:50:44.883108Z",
     "iopub.status.busy": "2023-04-16T23:50:44.882749Z",
     "iopub.status.idle": "2023-04-16T23:50:44.898762Z",
     "shell.execute_reply": "2023-04-16T23:50:44.898158Z",
     "shell.execute_reply.started": "2023-04-16T23:50:44.883094Z"
    }
   },
   "outputs": [
    {
     "name": "stdout",
     "output_type": "stream",
     "text": [
      "(Part 1: 0.002 s)\n",
      "(Part 2: 0.002 s)\n"
     ]
    }
   ],
   "source": [
    "def day18(strings, *, part2=False):  # Compact and faster.\n",
    "  def evaluate_line(s: str) -> int:\n",
    "    def eval_term(i: int) -> tuple[int, int]:\n",
    "      return eval_seq(i + 1, eat=1) if s[i] == '(' else (int(s[i]), i + 1)\n",
    "\n",
    "    def eval_seq(i: int, eat: int = 0) -> tuple[int, int]:\n",
    "      value, i = eval_term(i)\n",
    "      while i < len(s) and s[i] != ')':\n",
    "        is_mul = s[i + 1] == '*'\n",
    "        func = eval_seq if part2 and is_mul else eval_term\n",
    "        value2, i = func(i + 3)  # type: ignore[operator]\n",
    "        value = value * value2 if is_mul else value + value2\n",
    "      return value, i + eat\n",
    "\n",
    "    return eval_seq(0)[0]\n",
    "\n",
    "  return sum(evaluate_line(s) for s in strings.splitlines())\n",
    "\n",
    "\n",
    "check_eq(day18('1 + 2 * 3 + 4 * 5 + 6'), 71)\n",
    "check_eq(day18('1 + (2 * 3) + (4 * (5 + 6))'), 51)\n",
    "check_eq(day18('2 * 3 + (4 * 5)'), 26)\n",
    "check_eq(day18('5 + (8 * 3 + 9 + 3 * 4 * 3)'), 437)\n",
    "check_eq(day18('5 * 9 * (7 * 3 * 3 + 9 * 3 + (8 + 6 * 4))'), 12240)\n",
    "check_eq(day18('((2 + 4 * 9) * (6 + 9 * 8 + 6) + 6) + 2 + 4 * 2'), 13632)\n",
    "puzzle.verify(1, day18)\n",
    "\n",
    "day18_part2 = functools.partial(day18, part2=True)\n",
    "check_eq(day18_part2('1 + 2 * 3 + 4 * 5 + 6'), 231)\n",
    "check_eq(day18_part2('1 + (2 * 3) + (4 * (5 + 6))'), 51)\n",
    "check_eq(day18_part2('2 * 3 + (4 * 5)'), 46)\n",
    "check_eq(day18_part2('5 + (8 * 3 + 9 + 3 * 4 * 3)'), 1445)\n",
    "check_eq(day18_part2('5 * 9 * (7 * 3 * 3 + 9 * 3 + (8 + 6 * 4))'), 669060)\n",
    "check_eq(day18_part2('((2 + 4 * 9) * (6 + 9 * 8 + 6) + 6) + 2 + 4 * 2'), 23340)\n",
    "puzzle.verify(2, day18_part2)"
   ]
  },
  {
   "cell_type": "markdown",
   "id": "68c1c223",
   "metadata": {},
   "source": [
    "<a name=\"day19\"></a>\n",
    "## Day 19: Message grammar"
   ]
  },
  {
   "cell_type": "markdown",
   "id": "b73d54a2",
   "metadata": {},
   "source": [
    "Given a set of context-free grammar rules and a set of words, report the number of words that are expressible in the grammar.\n",
    "\n",
    "- Part 1: Use the initial grammar rules, which do not have cycles.\n",
    "\n",
    "- Part 2: Replace two of the grammar rules, thereby introducing cycles."
   ]
  },
  {
   "cell_type": "code",
   "execution_count": 100,
   "id": "df941ce7",
   "metadata": {
    "execution": {
     "iopub.execute_input": "2023-04-16T23:50:44.899710Z",
     "iopub.status.busy": "2023-04-16T23:50:44.899459Z",
     "iopub.status.idle": "2023-04-16T23:50:44.924476Z",
     "shell.execute_reply": "2023-04-16T23:50:44.923948Z",
     "shell.execute_reply.started": "2023-04-16T23:50:44.899697Z"
    }
   },
   "outputs": [
    {
     "data": {
      "text/markdown": [
       "For [day 19](https://adventofcode.com/2020/day/19), `puzzle.input` has 583 lines:"
      ],
      "text/plain": [
       "<IPython.core.display.Markdown object>"
      ]
     },
     "metadata": {},
     "output_type": "display_data"
    },
    {
     "name": "stdout",
     "output_type": "stream",
     "text": [
      "26: 97 126 | 123 57\n",
      "122: 84 97 | 92 123\n",
      "82: 97 138 | 123 130\n",
      "80: 131 97\n",
      "3: 123 107 | 97 66\n",
      "101: 1 123 | 95 97\n",
      "10: 97 138 | 123 107\n",
      "83: 123 27 | 97 12\n",
      " ...\n",
      "abaabababbbbbabababbabbaaaabbbba\n",
      "baaaababbbabbbbaaababbab\n",
      "bbbabbabaabbaabbabbaaabb\n",
      "abaaaababaabbbbabbbbbbbbaaaaaaaababaaaabbbaaaaaabbbbaaabbbbababb\n"
     ]
    },
    {
     "data": {
      "text/markdown": [
       "The stored answers are: `{1: '198', 2: '372'}`"
      ],
      "text/plain": [
       "<IPython.core.display.Markdown object>"
      ]
     },
     "metadata": {},
     "output_type": "display_data"
    }
   ],
   "source": [
    "puzzle = advent.puzzle(day=19)"
   ]
  },
  {
   "cell_type": "code",
   "execution_count": 101,
   "id": "eea0920d",
   "metadata": {
    "execution": {
     "iopub.execute_input": "2023-04-16T23:50:44.925387Z",
     "iopub.status.busy": "2023-04-16T23:50:44.925143Z",
     "iopub.status.idle": "2023-04-16T23:50:44.928401Z",
     "shell.execute_reply": "2023-04-16T23:50:44.927743Z",
     "shell.execute_reply.started": "2023-04-16T23:50:44.925375Z"
    },
    "lines_to_next_cell": 2
   },
   "outputs": [],
   "source": [
    "# spellcheck=off\n",
    "s1 = \"\"\"\\\n",
    "0: 4 1 5\n",
    "1: 2 3 | 3 2\n",
    "2: 4 4 | 5 5\n",
    "3: 4 5 | 5 4\n",
    "4: \"a\"\n",
    "5: \"b\"\n",
    "\n",
    "ababbb\n",
    "bababa\n",
    "abbbab\n",
    "aaabbb\n",
    "aaaabbb\n",
    "\"\"\"\n",
    "\n",
    "s2 = \"\"\"\\\n",
    "42: 9 14 | 10 1\n",
    "9: 14 27 | 1 26\n",
    "10: 23 14 | 28 1\n",
    "1: \"a\"\n",
    "11: 42 31\n",
    "5: 1 14 | 15 1\n",
    "19: 14 1 | 14 14\n",
    "12: 24 14 | 19 1\n",
    "16: 15 1 | 14 14\n",
    "31: 14 17 | 1 13\n",
    "6: 14 14 | 1 14\n",
    "2: 1 24 | 14 4\n",
    "0: 8 11\n",
    "13: 14 3 | 1 12\n",
    "15: 1 | 14\n",
    "17: 14 2 | 1 7\n",
    "23: 25 1 | 22 14\n",
    "28: 16 1\n",
    "4: 1 1\n",
    "20: 14 14 | 1 15\n",
    "3: 5 14 | 16 1\n",
    "27: 1 6 | 14 18\n",
    "14: \"b\"\n",
    "21: 14 1 | 1 14\n",
    "25: 1 1 | 1 14\n",
    "22: 14 14\n",
    "8: 42\n",
    "26: 14 22 | 1 20\n",
    "18: 15 15\n",
    "7: 14 5 | 1 21\n",
    "24: 14 1\n",
    "\n",
    "abbbbbabbbaaaababbaabbbbabababbbabbbbbbabaaaa\n",
    "bbabbbbaabaabba\n",
    "babbbbaabbbbbabbbbbbaabaaabaaa\n",
    "aaabbbbbbaaaabaababaabababbabaaabbababababaaa\n",
    "bbbbbbbaaaabbbbaaabbabaaa\n",
    "bbbababbbbaaaaaaaabbababaaababaabab\n",
    "ababaaaaaabaaab\n",
    "ababaaaaabbbaba\n",
    "baabbaaaabbaaaababbaababb\n",
    "abbbbabbbbaaaababbbbbbaaaababb\n",
    "aaaaabbaabaaaaababaa\n",
    "aaaabbaaaabbaaa\n",
    "aaaabbaabbaaaaaaabbbabbbaaabbaabaaa\n",
    "babaaabbbaaabaababbaabababaaab\n",
    "aabbbbbaabbbaaaaaabbbbbababaaaaabbaaabba\n",
    "\"\"\"\n",
    "# spellcheck=on"
   ]
  },
  {
   "cell_type": "code",
   "execution_count": 102,
   "id": "70e052f9",
   "metadata": {
    "execution": {
     "iopub.execute_input": "2023-04-16T23:50:44.929258Z",
     "iopub.status.busy": "2023-04-16T23:50:44.929003Z",
     "iopub.status.idle": "2023-04-16T23:50:45.161173Z",
     "shell.execute_reply": "2023-04-16T23:50:45.160499Z",
     "shell.execute_reply.started": "2023-04-16T23:50:44.929245Z"
    }
   },
   "outputs": [
    {
     "name": "stdout",
     "output_type": "stream",
     "text": [
      "(Part 1: 0.040 s)\n",
      "(Part 2: 0.177 s)\n"
     ]
    }
   ],
   "source": [
    "def day19a(s, *, part2=False):  # Compact.\n",
    "  section1, section2 = s.split('\\n\\n')\n",
    "  rules = dict(line.split(': ') for line in section1.splitlines())\n",
    "  if part2:\n",
    "    rules.update({'8': '42 | 42 8', '11': '42 31 | 42 11 31'})\n",
    "\n",
    "  def valid_expansion(symbols, text):\n",
    "    if not symbols or not text:\n",
    "      return not symbols and not text\n",
    "    expansions = rules[symbols[0]]\n",
    "    if expansions[0] == '\"':\n",
    "      return expansions[1] == text[0] and valid_expansion(symbols[1:], text[1:])\n",
    "    return any(\n",
    "        valid_expansion(expansion.split() + symbols[1:], text)\n",
    "        for expansion in expansions.split(' | ')\n",
    "    )\n",
    "\n",
    "  return sum(valid_expansion(['0'], text) for text in section2.splitlines())\n",
    "\n",
    "\n",
    "check_eq(day19a(s1), 2)\n",
    "puzzle.verify(1, day19a)\n",
    "\n",
    "day19a_part2 = functools.partial(day19a, part2=True)\n",
    "check_eq(day19a_part2(s2), 12)\n",
    "puzzle.verify(2, day19a_part2)"
   ]
  },
  {
   "cell_type": "code",
   "execution_count": 103,
   "id": "25697c9c",
   "metadata": {
    "execution": {
     "iopub.execute_input": "2023-04-16T23:50:45.162126Z",
     "iopub.status.busy": "2023-04-16T23:50:45.161801Z",
     "iopub.status.idle": "2023-04-16T23:50:45.318531Z",
     "shell.execute_reply": "2023-04-16T23:50:45.317668Z",
     "shell.execute_reply.started": "2023-04-16T23:50:45.162112Z"
    }
   },
   "outputs": [
    {
     "name": "stdout",
     "output_type": "stream",
     "text": [
      "(Part 1: 0.027 s)\n",
      "(Part 2: 0.121 s)\n"
     ]
    }
   ],
   "source": [
    "def day19(s, *, part2=False):  # Faster.\n",
    "  section1, section2 = s.split('\\n\\n')\n",
    "  rules = {\n",
    "      int(symbol): (\n",
    "          rhs[1] if rhs[0] == '\"' else tuple(tuple(map(int, s.split())) for s in rhs.split(' | '))\n",
    "      )\n",
    "      for line in section1.splitlines()\n",
    "      for symbol, rhs in (line.split(': '),)\n",
    "  }\n",
    "  if part2:\n",
    "    # We are fortunate that in both modified rules, there is a symbol to the\n",
    "    # left of the recursion, which forces the consumption of a character.\n",
    "    rules.update({8: ((42,), (42, 8)), 11: ((42, 31), (42, 11, 31))})\n",
    "\n",
    "  def valid_expansion(symbols, text):\n",
    "    while True:\n",
    "      if not symbols:\n",
    "        return not text\n",
    "      if not text:\n",
    "        return False\n",
    "      expansions = rules[symbols[0]]\n",
    "      if isinstance(expansions, str):\n",
    "        if expansions != text[0]:\n",
    "          return False\n",
    "        symbols, text = symbols[1:], text[1:]\n",
    "        continue\n",
    "      return any(valid_expansion(expansion + symbols[1:], text) for expansion in expansions)\n",
    "\n",
    "  return sum(valid_expansion((0,), text) for text in section2.splitlines())\n",
    "\n",
    "\n",
    "check_eq(day19(s1), 2)\n",
    "puzzle.verify(1, day19)\n",
    "\n",
    "day19_part2 = functools.partial(day19, part2=True)\n",
    "check_eq(day19_part2(s2), 12)\n",
    "puzzle.verify(2, day19_part2)"
   ]
  },
  {
   "cell_type": "markdown",
   "id": "0991179e",
   "metadata": {},
   "source": [
    "<a name=\"day20\"></a>\n",
    "## Day 20: Dragons in grid of tiles"
   ]
  },
  {
   "cell_type": "markdown",
   "id": "461304fd",
   "metadata": {},
   "source": [
    "Given a set of numbered 2D image tiles with binary values, assemble these tiles using rotations and flips into a 2D grid such that adjacent tiles have matching boundary values.\n",
    "\n",
    "- Part 1: Return the product of the tile numbers for the 4 tiles that lie at the corners of the assembled 2D grid.\n",
    "\n",
    "- Part 2: Given a 2D mask (\"dragon\"), find all possible locations for this mask (including rotations and flips) such that all active values in the mask are also active in the assembled grid.  Report the number of active grid nodes which are not covered by any found mask instance."
   ]
  },
  {
   "cell_type": "code",
   "execution_count": 104,
   "id": "5f7d554f",
   "metadata": {
    "execution": {
     "iopub.execute_input": "2023-04-16T23:50:45.319601Z",
     "iopub.status.busy": "2023-04-16T23:50:45.319279Z",
     "iopub.status.idle": "2023-04-16T23:50:45.334286Z",
     "shell.execute_reply": "2023-04-16T23:50:45.333654Z",
     "shell.execute_reply.started": "2023-04-16T23:50:45.319587Z"
    },
    "tags": []
   },
   "outputs": [
    {
     "data": {
      "text/markdown": [
       "For [day 20](https://adventofcode.com/2020/day/20), `puzzle.input` has 1_728 lines:"
      ],
      "text/plain": [
       "<IPython.core.display.Markdown object>"
      ]
     },
     "metadata": {},
     "output_type": "display_data"
    },
    {
     "name": "stdout",
     "output_type": "stream",
     "text": [
      "Tile 2789:\n",
      ".#..#...##\n",
      "##...#....\n",
      "#.#.##..#.\n",
      ".#.##.##.#\n",
      "....#....#\n",
      "#.#......#\n",
      ".....#....\n",
      " ...\n",
      "#......#.#\n",
      "..#.....#.\n",
      ".#.#.##.##\n",
      "\n"
     ]
    },
    {
     "data": {
      "text/markdown": [
       "The stored answers are: `{1: '18449208814679', 2: '1559'}`"
      ],
      "text/plain": [
       "<IPython.core.display.Markdown object>"
      ]
     },
     "metadata": {},
     "output_type": "display_data"
    }
   ],
   "source": [
    "puzzle = advent.puzzle(day=20)"
   ]
  },
  {
   "cell_type": "code",
   "execution_count": 105,
   "id": "bc41e663",
   "metadata": {
    "execution": {
     "iopub.execute_input": "2023-04-16T23:50:45.335501Z",
     "iopub.status.busy": "2023-04-16T23:50:45.335053Z",
     "iopub.status.idle": "2023-04-16T23:50:45.338263Z",
     "shell.execute_reply": "2023-04-16T23:50:45.337766Z",
     "shell.execute_reply.started": "2023-04-16T23:50:45.335488Z"
    },
    "tags": []
   },
   "outputs": [],
   "source": [
    "s1 = \"\"\"\\\n",
    "Tile 2311:\n",
    "..##.#..#.\n",
    "##..#.....\n",
    "#...##..#.\n",
    "####.#...#\n",
    "##.##.###.\n",
    "##...#.###\n",
    ".#.#.#..##\n",
    "..#....#..\n",
    "###...#.#.\n",
    "..###..###\n",
    "\n",
    "Tile 1951:\n",
    "#.##...##.\n",
    "#.####...#\n",
    ".....#..##\n",
    "#...######\n",
    ".##.#....#\n",
    ".###.#####\n",
    "###.##.##.\n",
    ".###....#.\n",
    "..#.#..#.#\n",
    "#...##.#..\n",
    "\n",
    "Tile 1171:\n",
    "####...##.\n",
    "#..##.#..#\n",
    "##.#..#.#.\n",
    ".###.####.\n",
    "..###.####\n",
    ".##....##.\n",
    ".#...####.\n",
    "#.##.####.\n",
    "####..#...\n",
    ".....##...\n",
    "\n",
    "Tile 1427:\n",
    "###.##.#..\n",
    ".#..#.##..\n",
    ".#.##.#..#\n",
    "#.#.#.##.#\n",
    "....#...##\n",
    "...##..##.\n",
    "...#.#####\n",
    ".#.####.#.\n",
    "..#..###.#\n",
    "..##.#..#.\n",
    "\n",
    "Tile 1489:\n",
    "##.#.#....\n",
    "..##...#..\n",
    ".##..##...\n",
    "..#...#...\n",
    "#####...#.\n",
    "#..#.#.#.#\n",
    "...#.#.#..\n",
    "##.#...##.\n",
    "..##.##.##\n",
    "###.##.#..\n",
    "\n",
    "Tile 2473:\n",
    "#....####.\n",
    "#..#.##...\n",
    "#.##..#...\n",
    "######.#.#\n",
    ".#...#.#.#\n",
    ".#########\n",
    ".###.#..#.\n",
    "########.#\n",
    "##...##.#.\n",
    "..###.#.#.\n",
    "\n",
    "Tile 2971:\n",
    "..#.#....#\n",
    "#...###...\n",
    "#.#.###...\n",
    "##.##..#..\n",
    ".#####..##\n",
    ".#..####.#\n",
    "#..#.#..#.\n",
    "..####.###\n",
    "..#.#.###.\n",
    "...#.#.#.#\n",
    "\n",
    "Tile 2729:\n",
    "...#.#.#.#\n",
    "####.#....\n",
    "..#.#.....\n",
    "....#..#.#\n",
    ".##..##.#.\n",
    ".#.####...\n",
    "####.#.#..\n",
    "##.####...\n",
    "##..#.##..\n",
    "#.##...##.\n",
    "\n",
    "Tile 3079:\n",
    "#.#.#####.\n",
    ".#..######\n",
    "..#.......\n",
    "######....\n",
    "####.#..#.\n",
    ".#...#.##.\n",
    "#.#####.##\n",
    "..#.###...\n",
    "..#.......\n",
    "..#.###...\n",
    "\"\"\""
   ]
  },
  {
   "cell_type": "code",
   "execution_count": 106,
   "id": "e0bc5158-ba5e-4a26-a82a-b8b4b8ba19b5",
   "metadata": {
    "execution": {
     "iopub.execute_input": "2023-04-16T23:50:45.338956Z",
     "iopub.status.busy": "2023-04-16T23:50:45.338811Z",
     "iopub.status.idle": "2023-04-16T23:50:45.516544Z",
     "shell.execute_reply": "2023-04-16T23:50:45.515961Z",
     "shell.execute_reply.started": "2023-04-16T23:50:45.338945Z"
    },
    "tags": []
   },
   "outputs": [
    {
     "name": "stdout",
     "output_type": "stream",
     "text": [
      "(Part 1: 0.004 s)\n",
      "(Part 2: 0.012 s)\n"
     ]
    }
   ],
   "source": [
    "def day20(s, *, part2=False, visualize=False):\n",
    "  tiles = {int(t[5:9]): hh.grid_from_string(t[11:]) for t in s.rstrip('\\n').split('\\n\\n')}\n",
    "  n = math.isqrt(len(tiles))\n",
    "\n",
    "  if visualize:\n",
    "    images = [hh.to_image(tile == '#', 240, 0) for tile in tiles.values()]\n",
    "    image = hh.assemble_arrays(images, (n, n), background=(255,) * 3, spacing=3)\n",
    "    image = image.repeat(2, axis=0).repeat(2, axis=1)\n",
    "    media.show_image(image, title='day20a')\n",
    "\n",
    "  rotations = tuple(range(8))  # 4 proper rotations * 2 flips\n",
    "\n",
    "  def rotate(tile, rotation):\n",
    "    return np.rot90(tile if rotation < 4 else tile[::-1], rotation % 4)\n",
    "\n",
    "  def top_row(tile, rotation):\n",
    "    # return rotate(tile, rotation)[0]  # equivalent but slower\n",
    "    tile = tile if rotation < 4 else tile[::-1]\n",
    "    rotation = rotation % 4\n",
    "    return (\n",
    "        tile[0]\n",
    "        if rotation == 0\n",
    "        else tile[:, -1]\n",
    "        if rotation == 1\n",
    "        else tile[-1, ::-1]\n",
    "        if rotation == 2\n",
    "        else tile[::-1, 0]\n",
    "    )\n",
    "\n",
    "  # List of (index, rotation) for up to 2 tiles whose top row matches the key.\n",
    "  edge_list = collections.defaultdict(list)\n",
    "  for index, tile in tiles.items():\n",
    "    for rotation in rotations:\n",
    "      edge_list[tuple(top_row(tile, rotation))].append((index, rotation))\n",
    "\n",
    "  def is_corner(tile):  # A corner tile has 2 unique edges.\n",
    "    return (\n",
    "        sum(len(edge_list[tuple(top_row(tile, rotation))]) == 1 for rotation in rotations[:4]) == 2\n",
    "    )\n",
    "\n",
    "  corners = [index for index, tile in tiles.items() if is_corner(tile)]\n",
    "  assert len(corners) == 4  # Exactly four tiles must be at the corners.\n",
    "  if not part2:\n",
    "    return math.prod(corners)\n",
    "\n",
    "  # Place a first corner in the grid upper-left and determine its rotation.\n",
    "  index = corners[0]\n",
    "  tile = tiles[index]\n",
    "  rotation, _ = (\n",
    "      rotation\n",
    "      for rotation in rotations  # 2 solutions due to flip\n",
    "      if (\n",
    "          len(edge_list[tuple(rotate(tile, rotation)[0])]) == 1\n",
    "          and len(edge_list[tuple(rotate(tile, rotation)[:, 0])]) == 1\n",
    "      )\n",
    "  )\n",
    "  layout = np.empty((n, n), object)\n",
    "  layout[0, 0] = index, rotation\n",
    "\n",
    "  def find(not_index, rot, desired):\n",
    "    'Returns (index, rotation) of tile with top row matching desired after rot.'\n",
    "    l = edge_list[tuple(desired)]\n",
    "    index, rotation = next(((index, rotation) for index, rotation in l if index != not_index))\n",
    "    return index, (rotation + rot) % 4 + rotation // 4 * 4\n",
    "\n",
    "  for y, x in np.ndindex(n, n):\n",
    "    if x > 0:\n",
    "      left_index, left_rotation = layout[y, x - 1]\n",
    "      desired_left = rotate(tiles[left_index], left_rotation)[::-1, -1]\n",
    "      layout[y, x] = find(left_index, 1, desired_left)\n",
    "    elif y > 0:\n",
    "      top_index, top_rotation = layout[y - 1, x]\n",
    "      desired_top = rotate(tiles[top_index], top_rotation)[-1, :]\n",
    "      layout[y, x] = find(top_index, 0, desired_top)\n",
    "\n",
    "  def block(y, x):\n",
    "    index, rotation = layout[y, x]\n",
    "    return rotate(tiles[index], rotation)[1:-1, 1:-1]\n",
    "\n",
    "  grid = np.block([[block(y, x) for x in range(n)] for y in range(n)])\n",
    "\n",
    "  pattern0 = '                  # #    ##    ##    ### #  #  #  #  #  #   '\n",
    "  pattern = np.array(list(pattern0)).reshape(3, 20) == '#'\n",
    "\n",
    "  if 0:  # slower\n",
    "    pattern_indices = pattern.nonzero()\n",
    "    for rotation in rotations:\n",
    "      grid_view = rotate(grid, rotation)\n",
    "      for y, x in np.ndindex(*(np.array(grid_view.shape) - pattern.shape)):\n",
    "        subgrid_view = grid_view[y:, x:]\n",
    "        if np.all(subgrid_view[pattern_indices] != '.'):\n",
    "          subgrid_view[pattern_indices] = 'O'\n",
    "\n",
    "  elif 0:  # faster, using 1-d matching\n",
    "    grid_view_1d = grid.ravel()\n",
    "    for rotation in rotations:\n",
    "      pattern_view = rotate(pattern, rotation)\n",
    "      pattern_indices = pattern_view.nonzero()\n",
    "      pattern_indices_1d = np.ravel_multi_index(pattern_indices, grid.shape)\n",
    "      for y, x in np.ndindex(*(np.array(grid.shape) - pattern_view.shape)):\n",
    "        subgrid_view_1d = grid_view_1d[y * grid.shape[1] + x :]\n",
    "        if np.all(subgrid_view_1d[pattern_indices_1d] != '.'):\n",
    "          subgrid_view_1d[pattern_indices_1d] = 'O'\n",
    "\n",
    "  else:  # fastest, using 2d correlation\n",
    "    import scipy.signal\n",
    "\n",
    "    pattern_uint8 = pattern.astype(np.uint8)\n",
    "    grid_uint8 = (grid == '#').astype(np.uint8)\n",
    "    for rotation in rotations:\n",
    "      pattern_view = rotate(pattern_uint8, rotation)\n",
    "      pattern_indices = pattern_view.nonzero()\n",
    "      corr = scipy.signal.correlate2d(grid_uint8, pattern_view, mode='valid')\n",
    "      locations = zip(*np.nonzero(corr == pattern_view.sum()))\n",
    "      for y, x in locations:\n",
    "        grid[y:, x:][pattern_indices] = 'O'\n",
    "\n",
    "  if visualize:\n",
    "    image = hh.to_image(grid == '#', 140, 0)\n",
    "    image[grid == 'O'] = 255\n",
    "    image = image.repeat(3, axis=0).repeat(3, axis=1)\n",
    "    media.show_image(image, border=True, title='day20b')\n",
    "\n",
    "  return np.count_nonzero(grid == '#')\n",
    "\n",
    "\n",
    "check_eq(day20(s1), 20899048083289)\n",
    "puzzle.verify(1, day20)\n",
    "\n",
    "day20_part2 = functools.partial(day20, part2=True)\n",
    "check_eq(day20_part2(s1), 273)\n",
    "puzzle.verify(2, day20_part2)"
   ]
  },
  {
   "cell_type": "code",
   "execution_count": 107,
   "id": "c58ccde5-2bdd-435a-b39d-9b9ac7ed22d6",
   "metadata": {
    "execution": {
     "iopub.execute_input": "2023-04-16T23:50:45.517913Z",
     "iopub.status.busy": "2023-04-16T23:50:45.517456Z",
     "iopub.status.idle": "2023-04-16T23:50:45.551322Z",
     "shell.execute_reply": "2023-04-16T23:50:45.550691Z",
     "shell.execute_reply.started": "2023-04-16T23:50:45.517896Z"
    },
    "tags": []
   },
   "outputs": [
    {
     "data": {
      "text/html": [
       "<table class=\"show_images\" style=\"border-spacing:0px;\"><tr><td style=\"padding:1px;\"><div style=\"display:flex; align-items:left;\">\n",
       "      <div style=\"display:flex; flex-direction:column; align-items:center;\">\n",
       "      <div>day20a</div><div><img width=\"306\" height=\"306\" style=\"image-rendering:auto; object-fit:cover;\" src=\"data:image/png;base64,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\"/></div></div></div></td></tr></table>"
      ],
      "text/plain": [
       "<IPython.core.display.HTML object>"
      ]
     },
     "metadata": {},
     "output_type": "display_data"
    },
    {
     "data": {
      "text/html": [
       "<table class=\"show_images\" style=\"border-spacing:0px;\"><tr><td style=\"padding:1px;\"><div style=\"display:flex; align-items:left;\">\n",
       "      <div style=\"display:flex; flex-direction:column; align-items:center;\">\n",
       "      <div>day20b</div><div><img width=\"288\" height=\"288\" style=\"border:1px solid black; image-rendering:auto; object-fit:cover;\" src=\"data:image/png;base64,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\"/></div></div></div></td></tr></table>"
      ],
      "text/plain": [
       "<IPython.core.display.HTML object>"
      ]
     },
     "metadata": {},
     "output_type": "display_data"
    }
   ],
   "source": [
    "_ = day20_part2(puzzle.input, visualize=True)"
   ]
  },
  {
   "cell_type": "code",
   "execution_count": 108,
   "id": "79494f37",
   "metadata": {
    "execution": {
     "iopub.execute_input": "2023-04-16T23:50:45.552211Z",
     "iopub.status.busy": "2023-04-16T23:50:45.551972Z",
     "iopub.status.idle": "2023-04-16T23:50:45.554824Z",
     "shell.execute_reply": "2023-04-16T23:50:45.554358Z",
     "shell.execute_reply.started": "2023-04-16T23:50:45.552198Z"
    },
    "tags": []
   },
   "outputs": [],
   "source": [
    "# hh.prun(lambda: [day20_part2(puzzle.input) for _ in range(10)])"
   ]
  },
  {
   "cell_type": "markdown",
   "id": "4fbe4777",
   "metadata": {},
   "source": [
    "<a name=\"day21\"></a>\n",
    "## Day 21: Allergens in ingredients"
   ]
  },
  {
   "cell_type": "markdown",
   "id": "780f77c7",
   "metadata": {},
   "source": [
    "Given a set of foods, each containing a list of ingredients and a set of allergens contained in the ingredients, determine the ingredient corresponding to each allergen.  Each allergen is contained in at most one ingredient.  Some foods may fail to list all allergens.\n",
    "\n",
    "- Part 1: For each food, count the number of ingredients which cannot possibly contain allergens, and report the sum.\n",
    "\n",
    "- Part 2: Report the comma-separated list of ingredients which contain allergens, sorted in ascending order by the allergen name."
   ]
  },
  {
   "cell_type": "code",
   "execution_count": 109,
   "id": "3469813c",
   "metadata": {
    "execution": {
     "iopub.execute_input": "2023-04-16T23:50:45.556160Z",
     "iopub.status.busy": "2023-04-16T23:50:45.555777Z",
     "iopub.status.idle": "2023-04-16T23:50:45.577035Z",
     "shell.execute_reply": "2023-04-16T23:50:45.576497Z",
     "shell.execute_reply.started": "2023-04-16T23:50:45.556141Z"
    },
    "tags": []
   },
   "outputs": [
    {
     "data": {
      "text/markdown": [
       "For [day 21](https://adventofcode.com/2020/day/21), `puzzle.input` has 42 lines:"
      ],
      "text/plain": [
       "<IPython.core.display.Markdown object>"
      ]
     },
     "metadata": {},
     "output_type": "display_data"
    },
    {
     "name": "stdout",
     "output_type": "stream",
     "text": [
      "xfvxzl nfcrh kscdhn khnqq jkvcbf jhlvrg chc fk zbh hgrptqb zrvtg tdhv jhqpdf jvj ... mxbbst (contains shellfish, sesame)\n",
      "vxzpfp shlg zrvtg ghq vzn ppqs mqlnbjq cltpv pvxpgp psbnqz nqcmm sqjcsxjq xftxgf ... cbhfpzp khnqq dhqbf (contains fish)\n",
      "fzhmtds zbclt pbln qtgv bnl xqcb vxzpfp jkvcbf nnst tplrt xknj hzmvzrr xfvxzl gk ...  (contains sesame, fish, shellfish)\n",
      "ghq vfqh vtdbl bkmgx bxlc sbhdb xfvxzl lvdcdg nsktq hrjrm dbr prrfm dbqbv jbcjk  ... gpgql dpkkzdgs cjds (contains nuts)\n",
      "xknj bbbzcmh tzrp xkqgc ktfvb tplrt dqz ntq jbcjk pcnmbt nqcmm tlgchbh bxfvt nfs ... hlvrg fhznhmx (contains dairy, soy)\n",
      "strd dpdgc cjdnjf flmssjn xfpc mmdfrfcp gpp tqjg znkr mxbbst bbbzcmh jbvrzn cdsl ... mx xknh schkf (contains soy, wheat)\n",
      "gkgzn bndz dpkkzdgs nv nhjbd mqlnbjq khnqq ljpzx cfbgb xknj ddmg mkpmkx tgcvz nn ... trd tdhv fk tdsvx (contains sesame)\n",
      "gnfjcpc ddmg tpbtpd cltpv xfvxzl txr rmxzzf tgcvz jsdgn pgnk jrpx vbvfr vzn gbpl ... c dvzqx hcms zrvtg (contains dairy)\n",
      " ...\n",
      "nsktq ftkfc mdqlbx bxfvt vtdbl djldkx cljvdxp cpp ghzx sbhdb ppqs dvzqx zhpv kgr ... vrtf nnst dqrvvk (contains peanuts)\n",
      "fhznhmx khnm skrrb ckpjgb glxxp rzlkxt jrj mxsklfx mdqlbx mkpmkx xhb bkhjxl ttkn ... txr zgpv (contains fish, shellfish)\n",
      "cbhfpzp tmp rjnx dpdgc frv xflfx dbr fzhmtds kcgtlb msrnhf khnm hgrptqb tfgf xss ...  qhhsj (contains sesame, nuts, soy)\n",
      "flnhl gkddl jhqpdf jkvcbf xqcb gcbbnqb ddmg ppqs bnl jrpx cdslv bxlc tfgf msrnhf ... dqrvvk cltpv (contains wheat, nuts)\n"
     ]
    },
    {
     "data": {
      "text/markdown": [
       "The stored answers are: `{1: '2410', 2: 'tmp,pdpgm,cdslv,zrvtg,ttkn,mkpmkx,vxzpfp,flnhl'}`"
      ],
      "text/plain": [
       "<IPython.core.display.Markdown object>"
      ]
     },
     "metadata": {},
     "output_type": "display_data"
    }
   ],
   "source": [
    "puzzle = advent.puzzle(day=21)"
   ]
  },
  {
   "cell_type": "code",
   "execution_count": 110,
   "id": "8ef0d1ce",
   "metadata": {
    "execution": {
     "iopub.execute_input": "2023-04-16T23:50:45.578032Z",
     "iopub.status.busy": "2023-04-16T23:50:45.577723Z",
     "iopub.status.idle": "2023-04-16T23:50:45.580378Z",
     "shell.execute_reply": "2023-04-16T23:50:45.579890Z",
     "shell.execute_reply.started": "2023-04-16T23:50:45.578020Z"
    },
    "tags": []
   },
   "outputs": [],
   "source": [
    "s1 = \"\"\"\\\n",
    "mxmxvkd kfcds sqjhc nhms (contains dairy, fish)\n",
    "trh fvjkl sbzzf mxmxvkd (contains dairy)\n",
    "sqjhc fvjkl (contains soy)\n",
    "sqjhc mxmxvkd sbzzf (contains fish)\n",
    "\"\"\""
   ]
  },
  {
   "cell_type": "code",
   "execution_count": 111,
   "id": "5d813eb6",
   "metadata": {
    "execution": {
     "iopub.execute_input": "2023-04-16T23:50:45.580979Z",
     "iopub.status.busy": "2023-04-16T23:50:45.580858Z",
     "iopub.status.idle": "2023-04-16T23:50:45.592785Z",
     "shell.execute_reply": "2023-04-16T23:50:45.592219Z",
     "shell.execute_reply.started": "2023-04-16T23:50:45.580970Z"
    },
    "tags": []
   },
   "outputs": [
    {
     "name": "stdout",
     "output_type": "stream",
     "text": [
      "(Part 1: 0.001 s)\n",
      "(Part 2: 0.000 s)\n"
     ]
    }
   ],
   "source": [
    "def day21(s, *, part2=False):\n",
    "  def foods():\n",
    "    for line in s.splitlines():\n",
    "      ingredients, allergens = line[:-1].split(' (contains ')\n",
    "      yield set(ingredients.split()), allergens.split(', ')\n",
    "\n",
    "  possibles_for_allergen = {}\n",
    "  for ingredients, allergens in foods():\n",
    "    for allergen in allergens:\n",
    "      if allergen not in possibles_for_allergen:\n",
    "        possibles_for_allergen[allergen] = ingredients.copy()\n",
    "      else:\n",
    "        possibles_for_allergen[allergen] &= ingredients\n",
    "\n",
    "  def has_single_ingredient(item):\n",
    "    return len(item[1]) == 1\n",
    "\n",
    "  allergen_ingredient = {}\n",
    "  while possibles_for_allergen:\n",
    "    allergen, ingredients = next(filter(has_single_ingredient, possibles_for_allergen.items()))\n",
    "    ingredient = ingredients.pop()\n",
    "    allergen_ingredient[allergen] = ingredient\n",
    "    for ingredients2 in possibles_for_allergen.values():\n",
    "      ingredients2.discard(ingredient)\n",
    "    del possibles_for_allergen[allergen]\n",
    "\n",
    "  if not part2:\n",
    "    allergen_ingredients = set(allergen_ingredient.values())\n",
    "    return sum(len(ingredients - allergen_ingredients) for ingredients, _ in foods())\n",
    "\n",
    "  return ','.join(ingredient for _, ingredient in sorted(allergen_ingredient.items()))\n",
    "\n",
    "\n",
    "check_eq(day21(s1), 5)\n",
    "puzzle.verify(1, day21)\n",
    "\n",
    "day21_part2 = functools.partial(day21, part2=True)\n",
    "check_eq(day21_part2(s1), 'mxmxvkd,sqjhc,fvjkl')\n",
    "puzzle.verify(2, day21_part2)"
   ]
  },
  {
   "cell_type": "markdown",
   "id": "ddd21240",
   "metadata": {},
   "source": [
    "<a name=\"day22\"></a>\n",
    "## Day 22: Recursive card game"
   ]
  },
  {
   "cell_type": "markdown",
   "id": "8e66f7cd",
   "metadata": {},
   "source": [
    "Given two hands of integer cards, simulate a card game of combat.  At each turn, the player with the largest front card places the two cards (higher card first) at the back of their hand.  A player that owns all cards wins.\n",
    "\n",
    "- Part 1: In the winner's hand, multiply each card value by its position (1 being rearmost), and report the sum of the result.\n",
    "\n",
    "- Part 2: Add extra rules.  If both players have at least as many cards remaining in their deck as their top card, the winner of the round is determined by playing a new game of Recursive Combat.  See the [website](https://adventofcode.com/2020/day/22) for details."
   ]
  },
  {
   "cell_type": "code",
   "execution_count": 112,
   "id": "8e209dc3",
   "metadata": {
    "execution": {
     "iopub.execute_input": "2023-04-16T23:50:45.594143Z",
     "iopub.status.busy": "2023-04-16T23:50:45.593649Z",
     "iopub.status.idle": "2023-04-16T23:50:45.612932Z",
     "shell.execute_reply": "2023-04-16T23:50:45.612426Z",
     "shell.execute_reply.started": "2023-04-16T23:50:45.594124Z"
    },
    "tags": []
   },
   "outputs": [
    {
     "data": {
      "text/markdown": [
       "For [day 22](https://adventofcode.com/2020/day/22), `puzzle.input` has 53 lines:"
      ],
      "text/plain": [
       "<IPython.core.display.Markdown object>"
      ]
     },
     "metadata": {},
     "output_type": "display_data"
    },
    {
     "name": "stdout",
     "output_type": "stream",
     "text": [
      "Player 1:\n",
      "15\n",
      "31\n",
      "26\n",
      "4\n",
      "36\n",
      "30\n",
      "43\n",
      " ...\n",
      "37\n",
      "5\n",
      "1\n",
      "27\n"
     ]
    },
    {
     "data": {
      "text/markdown": [
       "The stored answers are: `{1: '32199', 2: '33780'}`"
      ],
      "text/plain": [
       "<IPython.core.display.Markdown object>"
      ]
     },
     "metadata": {},
     "output_type": "display_data"
    }
   ],
   "source": [
    "puzzle = advent.puzzle(day=22)"
   ]
  },
  {
   "cell_type": "code",
   "execution_count": 113,
   "id": "f9379d20",
   "metadata": {
    "execution": {
     "iopub.execute_input": "2023-04-16T23:50:45.613893Z",
     "iopub.status.busy": "2023-04-16T23:50:45.613583Z",
     "iopub.status.idle": "2023-04-16T23:50:45.616299Z",
     "shell.execute_reply": "2023-04-16T23:50:45.615782Z",
     "shell.execute_reply.started": "2023-04-16T23:50:45.613881Z"
    },
    "tags": []
   },
   "outputs": [],
   "source": [
    "s1 = \"\"\"\\\n",
    "Player 1:\n",
    "9\n",
    "2\n",
    "6\n",
    "3\n",
    "1\n",
    "\n",
    "Player 2:\n",
    "5\n",
    "8\n",
    "4\n",
    "7\n",
    "10\n",
    "\"\"\""
   ]
  },
  {
   "cell_type": "code",
   "execution_count": 114,
   "id": "59e92321",
   "metadata": {
    "execution": {
     "iopub.execute_input": "2023-04-16T23:50:45.617171Z",
     "iopub.status.busy": "2023-04-16T23:50:45.616916Z",
     "iopub.status.idle": "2023-04-16T23:50:45.626384Z",
     "shell.execute_reply": "2023-04-16T23:50:45.625849Z",
     "shell.execute_reply.started": "2023-04-16T23:50:45.617158Z"
    },
    "lines_to_next_cell": 2,
    "tags": []
   },
   "outputs": [
    {
     "name": "stdout",
     "output_type": "stream",
     "text": [
      "(Part 1: 0.000 s)\n"
     ]
    }
   ],
   "source": [
    "def day22_part1(s):\n",
    "  hands = [collections.deque(map(int, s2.splitlines()[1:])) for s2 in s.split('\\n\\n')]\n",
    "\n",
    "  while hands[0] and hands[1]:\n",
    "    cards = hands[0].popleft(), hands[1].popleft()\n",
    "    winner = 0 if cards[0] > cards[1] else 1\n",
    "    hands[winner].extend([cards[winner], cards[1 - winner]])\n",
    "\n",
    "  return sum((i + 1) * card for i, card in enumerate(reversed(hands[winner])))\n",
    "\n",
    "\n",
    "check_eq(day22_part1(s1), 306)\n",
    "puzzle.verify(1, day22_part1)"
   ]
  },
  {
   "cell_type": "markdown",
   "id": "b5f22c02",
   "metadata": {
    "lines_to_next_cell": 2
   },
   "source": [
    "Part 2"
   ]
  },
  {
   "cell_type": "code",
   "execution_count": 115,
   "id": "cdd8a904",
   "metadata": {
    "execution": {
     "iopub.execute_input": "2023-04-16T23:50:45.627299Z",
     "iopub.status.busy": "2023-04-16T23:50:45.627030Z",
     "iopub.status.idle": "2023-04-16T23:50:46.261601Z",
     "shell.execute_reply": "2023-04-16T23:50:46.261028Z",
     "shell.execute_reply.started": "2023-04-16T23:50:45.627286Z"
    },
    "tags": []
   },
   "outputs": [
    {
     "name": "stdout",
     "output_type": "stream",
     "text": [
      "(Part 2: 0.623 s)\n"
     ]
    }
   ],
   "source": [
    "def day22a_part2(s):  # Slower code using deque.\n",
    "  def combat(hands):  # Returns (hands, winner)\n",
    "    visited = set()\n",
    "    while hands[0] and hands[1]:\n",
    "      state = (*hands[0], -1, *hands[1])\n",
    "      if state in visited:\n",
    "        return hands, 0  # player 1 is winner\n",
    "      visited.add(state)\n",
    "      cards = hands[0].popleft(), hands[1].popleft()\n",
    "      if len(hands[0]) >= cards[0] and len(hands[1]) >= cards[1]:\n",
    "        _, winner = combat([\n",
    "            collections.deque(list(hands[0])[: cards[0]]),\n",
    "            collections.deque(list(hands[1])[: cards[1]]),\n",
    "        ])\n",
    "      else:\n",
    "        winner = 0 if cards[0] > cards[1] else 1\n",
    "      hands[winner].extend([cards[winner], cards[1 - winner]])\n",
    "\n",
    "    return hands, 0 if hands[0] else 1\n",
    "\n",
    "  hands = [collections.deque(map(int, s2.splitlines()[1:])) for s2 in s.split('\\n\\n')]\n",
    "  hands, winner = combat(hands)\n",
    "  return sum((i + 1) * card for i, card in enumerate(reversed(hands[winner])))\n",
    "\n",
    "\n",
    "check_eq(day22a_part2(s1), 291)\n",
    "puzzle.verify(2, day22a_part2)"
   ]
  },
  {
   "cell_type": "code",
   "execution_count": 116,
   "id": "1aaab5da",
   "metadata": {
    "execution": {
     "iopub.execute_input": "2023-04-16T23:50:46.262352Z",
     "iopub.status.busy": "2023-04-16T23:50:46.262193Z",
     "iopub.status.idle": "2023-04-16T23:50:46.679241Z",
     "shell.execute_reply": "2023-04-16T23:50:46.678682Z",
     "shell.execute_reply.started": "2023-04-16T23:50:46.262341Z"
    },
    "tags": []
   },
   "outputs": [
    {
     "name": "stdout",
     "output_type": "stream",
     "text": [
      "(Part 2: 0.412 s)\n"
     ]
    }
   ],
   "source": [
    "def day22_part2(s):  # Faster code using tuples.\n",
    "  # @functools.cache  # It makes no difference.\n",
    "  def combat(hand0, hand1):\n",
    "    visited = set()\n",
    "    while True:\n",
    "      state = hand0, hand1\n",
    "      if state in visited:\n",
    "        return (0,), ()  # player 1 is winner\n",
    "      visited.add(state)\n",
    "      card0 = hand0[0]\n",
    "      card1 = hand1[0]\n",
    "      recurse = len(hand0) > card0 and len(hand1) > card1\n",
    "      if combat(hand0[1 : card0 + 1], hand1[1 : card1 + 1])[0] if recurse else card0 > card1:\n",
    "        hand0, hand1 = hand0[1:] + (card0, card1), hand1[1:]\n",
    "        if not hand1:\n",
    "          break\n",
    "      else:\n",
    "        hand0, hand1 = hand0[1:], hand1[1:] + (card1, card0)\n",
    "        if not hand0:\n",
    "          break\n",
    "    return hand0, hand1\n",
    "\n",
    "  hand0, hand1 = (tuple(map(int, s2.splitlines()[1:])) for s2 in s.split('\\n\\n'))\n",
    "  hand0, hand1 = combat(hand0, hand1)\n",
    "  return sum((i + 1) * card for i, card in enumerate(reversed(hand0 + hand1)))\n",
    "\n",
    "\n",
    "check_eq(day22_part2(s1), 291)\n",
    "puzzle.verify(2, day22_part2)"
   ]
  },
  {
   "cell_type": "code",
   "execution_count": 117,
   "id": "ad541401-2269-488c-9ba7-1ab64040d19d",
   "metadata": {
    "execution": {
     "iopub.execute_input": "2023-04-16T23:50:46.680296Z",
     "iopub.status.busy": "2023-04-16T23:50:46.679882Z",
     "iopub.status.idle": "2023-04-16T23:50:46.682805Z",
     "shell.execute_reply": "2023-04-16T23:50:46.682301Z",
     "shell.execute_reply.started": "2023-04-16T23:50:46.680283Z"
    },
    "tags": []
   },
   "outputs": [],
   "source": [
    "# # %timeit -r8 day22_part2(puzzle.input)\n",
    "if 0:\n",
    "  hh.print_time(lambda: day22_part2(puzzle.input))"
   ]
  },
  {
   "cell_type": "code",
   "execution_count": 118,
   "id": "30e40e24-394d-4c4b-8964-7aff858fde4e",
   "metadata": {
    "execution": {
     "iopub.execute_input": "2023-04-16T23:50:46.683890Z",
     "iopub.status.busy": "2023-04-16T23:50:46.683394Z",
     "iopub.status.idle": "2023-04-16T23:50:46.692155Z",
     "shell.execute_reply": "2023-04-16T23:50:46.691551Z",
     "shell.execute_reply.started": "2023-04-16T23:50:46.683877Z"
    },
    "tags": []
   },
   "outputs": [],
   "source": [
    "# # %prun day22_part2(puzzle.input)\n",
    "if 0:\n",
    "  hh.prun(lambda: day22_part2(puzzle.input))  # No obvious opportunity for optimization."
   ]
  },
  {
   "cell_type": "markdown",
   "id": "0ded52a1",
   "metadata": {},
   "source": [
    "<a name=\"day23\"></a>\n",
    "## Day 23: Cups in a circle"
   ]
  },
  {
   "cell_type": "markdown",
   "id": "9dfc145b",
   "metadata": {},
   "source": [
    "Given a circular list of cups (labeled 1-9), apply a sequence of moves.\n",
    "For each move, extract the 3 cups to the right of the current cup (initially first in the input), and reinsert the 3 cups to the right of the cup whose label has value 1 less than the current cup.  Advance the current cup to the right.\n",
    "\n",
    "When finding the cup whose label has value 1 less than the current cup, skip over any that are in the 3 extracted cups, and when reaching value 0, wraparound back to the highest value.\n",
    "\n",
    "- Part 1: Report the cup labels (as a string of 8 digits) to the right of cup 1 after 100 moves.\n",
    "\n",
    "- Part 2: Extend the input circular list to contain a total of 1_000_000 cups, labeled 10 .. 1_000_000.  After 10_000_000 moves, determine the two cups to the right of cup 1, and report the product of their labels."
   ]
  },
  {
   "cell_type": "code",
   "execution_count": 119,
   "id": "4245c66e",
   "metadata": {
    "execution": {
     "iopub.execute_input": "2023-04-16T23:50:46.693004Z",
     "iopub.status.busy": "2023-04-16T23:50:46.692839Z",
     "iopub.status.idle": "2023-04-16T23:50:46.715665Z",
     "shell.execute_reply": "2023-04-16T23:50:46.715006Z",
     "shell.execute_reply.started": "2023-04-16T23:50:46.692991Z"
    },
    "tags": []
   },
   "outputs": [
    {
     "data": {
      "text/markdown": [
       "For [day 23](https://adventofcode.com/2020/day/23), `puzzle.input` has a single line of 9 characters:"
      ],
      "text/plain": [
       "<IPython.core.display.Markdown object>"
      ]
     },
     "metadata": {},
     "output_type": "display_data"
    },
    {
     "name": "stdout",
     "output_type": "stream",
     "text": [
      "872495136\n"
     ]
    },
    {
     "data": {
      "text/markdown": [
       "The stored answers are: `{1: '27865934', 2: '170836011000'}`"
      ],
      "text/plain": [
       "<IPython.core.display.Markdown object>"
      ]
     },
     "metadata": {},
     "output_type": "display_data"
    }
   ],
   "source": [
    "puzzle = advent.puzzle(day=23)"
   ]
  },
  {
   "cell_type": "code",
   "execution_count": 120,
   "id": "f69d71aa",
   "metadata": {
    "execution": {
     "iopub.execute_input": "2023-04-16T23:50:46.716605Z",
     "iopub.status.busy": "2023-04-16T23:50:46.716373Z",
     "iopub.status.idle": "2023-04-16T23:50:46.719239Z",
     "shell.execute_reply": "2023-04-16T23:50:46.718739Z",
     "shell.execute_reply.started": "2023-04-16T23:50:46.716591Z"
    },
    "tags": []
   },
   "outputs": [],
   "source": [
    "s1 = '389125467'"
   ]
  },
  {
   "cell_type": "code",
   "execution_count": 121,
   "id": "af596e6b",
   "metadata": {
    "execution": {
     "iopub.execute_input": "2023-04-16T23:50:46.720106Z",
     "iopub.status.busy": "2023-04-16T23:50:46.719852Z",
     "iopub.status.idle": "2023-04-16T23:50:46.729082Z",
     "shell.execute_reply": "2023-04-16T23:50:46.728509Z",
     "shell.execute_reply.started": "2023-04-16T23:50:46.720093Z"
    },
    "tags": []
   },
   "outputs": [],
   "source": [
    "def day23a(s, *, num_moves=100):  # Using list.\n",
    "  l = list(map(int, s.strip()))\n",
    "\n",
    "  for _ in range(num_moves):\n",
    "    (current, *extracted3) = l[:4]\n",
    "    destination = current - 1 if current > 1 else len(l)\n",
    "    while destination in extracted3:\n",
    "      destination = destination - 1 if destination > 1 else len(l)\n",
    "    dest = l.index(destination)  # bottleneck in part 2!\n",
    "    l = l[4 : dest + 1] + extracted3 + l[dest + 1 :] + [current]\n",
    "\n",
    "  i = l.index(1)\n",
    "  l = l[i + 1 :] + l[:i]\n",
    "  return ''.join(map(str, l))\n",
    "\n",
    "\n",
    "check_eq(day23a(s1, num_moves=10), '92658374')\n",
    "check_eq(day23a(s1), '67384529')"
   ]
  },
  {
   "cell_type": "code",
   "execution_count": 122,
   "id": "8cd3b8f6",
   "metadata": {
    "execution": {
     "iopub.execute_input": "2023-04-16T23:50:46.730004Z",
     "iopub.status.busy": "2023-04-16T23:50:46.729833Z",
     "iopub.status.idle": "2023-04-16T23:50:46.738879Z",
     "shell.execute_reply": "2023-04-16T23:50:46.738244Z",
     "shell.execute_reply.started": "2023-04-16T23:50:46.729992Z"
    },
    "tags": []
   },
   "outputs": [],
   "source": [
    "def day23b(s, *, num_moves=100):  # Using deque.\n",
    "  d = collections.deque(map(int, s.strip()))\n",
    "  n = len(d)\n",
    "\n",
    "  for _ in range(num_moves):\n",
    "    current = next(iter(d))\n",
    "    d.rotate(-1)  # move current to the end\n",
    "    extracted3 = d.popleft(), d.popleft(), d.popleft()\n",
    "    destination = current - 1 if current > 1 else n\n",
    "    while destination in extracted3:\n",
    "      destination = destination - 1 if destination > 1 else n\n",
    "    dest = d.index(destination)  # bottleneck in part 2!\n",
    "    d.rotate(-dest - 1)  # move destination to end\n",
    "    d.extendleft(reversed(extracted3))\n",
    "    d.rotate(dest + 1)  # move new current back to front\n",
    "\n",
    "  d.rotate(-d.index(1))  # move '1' to front\n",
    "  d.popleft()  # remove '1'\n",
    "  return ''.join(map(str, d))\n",
    "\n",
    "\n",
    "check_eq(day23b(s1, num_moves=10), '92658374')\n",
    "check_eq(day23b(s1), '67384529')"
   ]
  },
  {
   "cell_type": "code",
   "execution_count": 123,
   "id": "2c30e37c",
   "metadata": {
    "execution": {
     "iopub.execute_input": "2023-04-16T23:50:46.739882Z",
     "iopub.status.busy": "2023-04-16T23:50:46.739575Z",
     "iopub.status.idle": "2023-04-16T23:50:47.349237Z",
     "shell.execute_reply": "2023-04-16T23:50:47.348648Z",
     "shell.execute_reply.started": "2023-04-16T23:50:46.739867Z"
    },
    "tags": []
   },
   "outputs": [
    {
     "name": "stdout",
     "output_type": "stream",
     "text": [
      "(Part 1: 0.000 s)\n",
      "(Part 2: 0.175 s)\n"
     ]
    }
   ],
   "source": [
    "# Code keeping track of next cup label for each cup label:\n",
    "@numba.njit\n",
    "def day23_func(l, max_num, num_moves, next_cup):\n",
    "  n = len(next_cup) - 1\n",
    "  current = l[0]\n",
    "  for i in range(len(l) - 1):\n",
    "    next_cup[l[i]] = l[i + 1]\n",
    "  if max_num:\n",
    "    next_cup[l[-1]] = len(l) + 1\n",
    "    for i in range(len(l) + 1, max_num):\n",
    "      next_cup[i] = i + 1\n",
    "    next_cup[max_num] = l[0]\n",
    "  else:\n",
    "    next_cup[l[-1]] = l[0]\n",
    "\n",
    "  for _ in range(num_moves):\n",
    "    extracted1 = next_cup[current]\n",
    "    extracted2 = next_cup[extracted1]\n",
    "    extracted3 = next_cup[extracted2]\n",
    "    destination = current - 1 if current > 1 else n\n",
    "    while destination in (extracted1, extracted2, extracted3):\n",
    "      destination = destination - 1 if destination > 1 else n\n",
    "    next_cup[current] = next_cup[extracted3]\n",
    "    next_cup[extracted3] = next_cup[destination]\n",
    "    next_cup[destination] = extracted1\n",
    "    current = next_cup[current]\n",
    "\n",
    "\n",
    "def day23(s, *, max_num=0, num_moves=100):\n",
    "  dtype = np.int32 if using_numba else np.int64\n",
    "  l = np.array(list(map(int, s.strip())), dtype)\n",
    "  next_cup = np.empty(1 + max(len(l), max_num), l.dtype)\n",
    "  day23_func(l, max_num, num_moves, next_cup)\n",
    "  if max_num:\n",
    "    cup1 = next_cup[1]\n",
    "    cup2 = next_cup[cup1]\n",
    "    return int(cup1) * int(cup2)\n",
    "  ll = [next_cup[1]]\n",
    "  while next_cup[ll[-1]] != 1:\n",
    "    ll.append(next_cup[ll[-1]])\n",
    "  return ''.join(map(str, ll))\n",
    "\n",
    "\n",
    "check_eq(day23(s1, num_moves=10), '92658374')\n",
    "check_eq(day23(s1), '67384529')\n",
    "puzzle.verify(1, day23)\n",
    "\n",
    "day23_part2 = functools.partial(day23, num_moves=10_000_000, max_num=1_000_000)\n",
    "if using_numba:\n",
    "  check_eq(day23_part2(s1), 149245887792)  # Numba compilation.\n",
    "puzzle.verify(2, day23_part2)  # ~0.2 s with numba; ~58 s without numba."
   ]
  },
  {
   "cell_type": "code",
   "execution_count": 124,
   "id": "c03f7dba-f546-460a-8638-894e5a1caedc",
   "metadata": {
    "execution": {
     "iopub.execute_input": "2023-04-16T23:50:47.350462Z",
     "iopub.status.busy": "2023-04-16T23:50:47.349948Z",
     "iopub.status.idle": "2023-04-16T23:50:47.353167Z",
     "shell.execute_reply": "2023-04-16T23:50:47.352622Z",
     "shell.execute_reply.started": "2023-04-16T23:50:47.350445Z"
    },
    "tags": []
   },
   "outputs": [],
   "source": [
    "# # %timeit -r8 day23_part2(puzzle.input)\n",
    "if 0:\n",
    "  hh.print_time(lambda: day23_part2(puzzle.input))"
   ]
  },
  {
   "cell_type": "markdown",
   "id": "8e518064",
   "metadata": {},
   "source": [
    "<a name=\"day24\"></a>\n",
    "## Day 24: Hexagonal tiles"
   ]
  },
  {
   "cell_type": "markdown",
   "id": "7d87d8b6",
   "metadata": {},
   "source": [
    "For each input line, travel over a hexagonal grid using the substrings `e`, `w`, `ne`, `nw`, `se`, and `sw`, and flip the state of the reached grid cell.  (Initially all grid cells are inactive.)\n",
    "\n",
    "- Part 1: Report the number of active cells in the resulting hexagonal grid.\n",
    "\n",
    "- Part 2: Simulate a cellular automaton over the grid from part 1, where an inactive cell becomes active if it has exactly 2 active neighbors,\n",
    "and an active cell becomes inactive if it has 0 or more than 2 active neighbors.  Report the number of active cells after 100 steps."
   ]
  },
  {
   "cell_type": "code",
   "execution_count": 125,
   "id": "d7da7566",
   "metadata": {
    "execution": {
     "iopub.execute_input": "2023-04-16T23:50:47.354024Z",
     "iopub.status.busy": "2023-04-16T23:50:47.353759Z",
     "iopub.status.idle": "2023-04-16T23:50:47.376746Z",
     "shell.execute_reply": "2023-04-16T23:50:47.376115Z",
     "shell.execute_reply.started": "2023-04-16T23:50:47.354010Z"
    },
    "tags": []
   },
   "outputs": [
    {
     "data": {
      "text/markdown": [
       "For [day 24](https://adventofcode.com/2020/day/24), `puzzle.input` has 347 lines:"
      ],
      "text/plain": [
       "<IPython.core.display.Markdown object>"
      ]
     },
     "metadata": {},
     "output_type": "display_data"
    },
    {
     "name": "stdout",
     "output_type": "stream",
     "text": [
      "enwwsenweswweseseswnenewwswseswenw\n",
      "nwnwneswwnenwnwnwenenwwnesenenwsenenee\n",
      "eneswwenwneeswneenenw\n",
      "swwswswwwswswsweeswww\n",
      "swewnwneeewnewwwswwnwwswswnwww\n",
      "seswnwenesenwsenenwwenwsenwswnwseswnw\n",
      "nwswwenwwwswwnwnewswnwnwwwswnee\n",
      "seswseswseseseseeseseseswnwsesw\n",
      " ...\n",
      "nwnwnwnwnewnwwwnwnwnenenwsenwsesenwnww\n",
      "nwwswneseseswsenweswswswneswwswwswswsw\n",
      "neenwsenenenenenenwswswnenenwsenenene\n",
      "newnwnwnwnwwnweswwewsewenwwnwnwnwnw\n"
     ]
    },
    {
     "data": {
      "text/markdown": [
       "The stored answers are: `{1: '287', 2: '3636'}`"
      ],
      "text/plain": [
       "<IPython.core.display.Markdown object>"
      ]
     },
     "metadata": {},
     "output_type": "display_data"
    }
   ],
   "source": [
    "puzzle = advent.puzzle(day=24)"
   ]
  },
  {
   "cell_type": "code",
   "execution_count": 126,
   "id": "45df4d23",
   "metadata": {
    "execution": {
     "iopub.execute_input": "2023-04-16T23:50:47.377834Z",
     "iopub.status.busy": "2023-04-16T23:50:47.377484Z",
     "iopub.status.idle": "2023-04-16T23:50:47.380895Z",
     "shell.execute_reply": "2023-04-16T23:50:47.380373Z",
     "shell.execute_reply.started": "2023-04-16T23:50:47.377817Z"
    },
    "lines_to_next_cell": 2,
    "tags": []
   },
   "outputs": [],
   "source": [
    "# spellcheck=off\n",
    "s1 = \"\"\"\\\n",
    "sesenwnenenewseeswwswswwnenewsewsw\n",
    "neeenesenwnwwswnenewnwwsewnenwseswesw\n",
    "seswneswswsenwwnwse\n",
    "nwnwneseeswswnenewneswwnewseswneseene\n",
    "swweswneswnenwsewnwneneseenw\n",
    "eesenwseswswnenwswnwnwsewwnwsene\n",
    "sewnenenenesenwsewnenwwwse\n",
    "wenwwweseeeweswwwnwwe\n",
    "wsweesenenewnwwnwsenewsenwwsesesenwne\n",
    "neeswseenwwswnwswswnw\n",
    "nenwswwsewswnenenewsenwsenwnesesenew\n",
    "enewnwewneswsewnwswenweswnenwsenwsw\n",
    "sweneswneswneneenwnewenewwneswswnese\n",
    "swwesenesewenwneswnwwneseswwne\n",
    "enesenwswwswneneswsenwnewswseenwsese\n",
    "wnwnesenesenenwwnenwsewesewsesesew\n",
    "nenewswnwewswnenesenwnesewesw\n",
    "eneswnwswnwsenenwnwnwwseeswneewsenese\n",
    "neswnwewnwnwseenwseesewsenwsweewe\n",
    "wseweeenwnesenwwwswnew\n",
    "\"\"\"\n",
    "# spellcheck=on"
   ]
  },
  {
   "cell_type": "code",
   "execution_count": 127,
   "id": "23cbd90a-1489-4411-8534-48f8798a8e85",
   "metadata": {
    "execution": {
     "iopub.execute_input": "2023-04-16T23:50:47.381864Z",
     "iopub.status.busy": "2023-04-16T23:50:47.381593Z",
     "iopub.status.idle": "2023-04-16T23:50:47.625535Z",
     "shell.execute_reply": "2023-04-16T23:50:47.624560Z",
     "shell.execute_reply.started": "2023-04-16T23:50:47.381852Z"
    },
    "tags": []
   },
   "outputs": [
    {
     "name": "stdout",
     "output_type": "stream",
     "text": [
      "(Part 1: 0.001 s)\n",
      "(Part 2: 0.152 s)\n"
     ]
    }
   ],
   "source": [
    "def day24(s, *, part2=False, num_days=100, visualize=False, radius=57):\n",
    "  if not part2:\n",
    "    num_days = 0\n",
    "  offsets = dict(e=(0, 1), w=(0, -1), sw=(1, 0), se=(1, 1), nw=(-1, -1), ne=(-1, 0))\n",
    "  tuple_offsets = tuple(offsets.values())  # slightly faster\n",
    "  regex = re.compile('|'.join(offsets))\n",
    "  indices: set[tuple[int, int]] = set()\n",
    "  for line in s.splitlines():\n",
    "    y, x = 0, 0\n",
    "    for s2 in regex.findall(line):\n",
    "      offset = offsets[s2]\n",
    "      y, x = y + offset[0], x + offset[1]\n",
    "    indices ^= {(y, x)}\n",
    "  all_indices: list[set[tuple[int, int]]] = []\n",
    "\n",
    "  for day in range(num_days):\n",
    "    if visualize:\n",
    "      all_indices.append(indices)\n",
    "    neighbor_counts = collections.Counter(\n",
    "        (y + dy, x + dx) for y, x in indices for dy, dx in tuple_offsets\n",
    "    )\n",
    "    indices = {\n",
    "        index\n",
    "        for index, count in neighbor_counts.items()\n",
    "        if count == 2 or (count == 1 and index in indices)\n",
    "    }\n",
    "\n",
    "  if visualize:\n",
    "    all_indices.append(indices)\n",
    "\n",
    "    if 1:\n",
    "      indices_3d = more_itertools.flatten(\n",
    "          ((day, y, x) for y, x in indices) for day, indices in enumerate(all_indices)\n",
    "      )\n",
    "      video: Any = hh.grid_from_indices(indices_3d, dtype=bool, pad=(0, 2, 2))\n",
    "      video = video.repeat(2, axis=1).repeat(2, axis=2)\n",
    "      video = [video[0]] * 10 + list(video) + [video[-1]] * 10\n",
    "      media.show_video(video, codec='gif', fps=10, title='day24a')\n",
    "\n",
    "    # For hexagon rendering in matplotlib, see https://stackoverflow.com/a/59042263.\n",
    "    def create_hexagons(indices):\n",
    "      params = dict(numVertices=6, radius=math.sqrt(1 / 3), edgecolor=None)\n",
    "      for sw, e in indices:\n",
    "        xy = e - sw / 2, sw * (math.sqrt(3) / 2)\n",
    "        yield matplotlib.patches.RegularPolygon(xy, **params)\n",
    "\n",
    "    if 1:\n",
    "      fig, ax = plt.subplots(figsize=(6, 6), dpi=90)\n",
    "      ax.set(aspect='equal')\n",
    "      ax.autoscale(True, tight=True)  # ax.set(autoscale_on=True) does not work.\n",
    "      # ax.set(xlim=(-radius, radius), ylim=(-radius, radius))\n",
    "      ax.set_axis_off()\n",
    "      for hexagon in create_hexagons(indices):\n",
    "        ax.add_patch(hexagon)\n",
    "      fig.tight_layout(pad=0)\n",
    "      image = hh.image_from_plt(fig)\n",
    "      media.show_image(image, title='day24b', border=True)\n",
    "      plt.close(fig)\n",
    "\n",
    "    if SHOW_BIG_MEDIA:  # ~75 s and 1.3 MB.\n",
    "      images = []\n",
    "      for indices in all_indices:  # [all_indices[0], all_indices[-1]]:\n",
    "        fig, ax = plt.subplots(figsize=(3, 3), dpi=90)\n",
    "        ax.set(xlim=(-radius, radius), ylim=(-radius, radius))\n",
    "        ax.set_axis_off()\n",
    "        for hexagon in create_hexagons(indices):\n",
    "          ax.add_patch(hexagon)\n",
    "        fig.tight_layout(pad=0)\n",
    "        images.append(hh.image_from_plt(fig))\n",
    "        # Moving plt.subplots and plt.close outside and adding \"ax.patches.clear()\" is slower!\n",
    "        plt.close(fig)\n",
    "      images = [images[0]] * 15 + images + [images[-1]] * 15\n",
    "      media.show_video(images, codec='gif', fps=10, title='day24c', border=True)\n",
    "\n",
    "  return len(indices)\n",
    "\n",
    "\n",
    "check_eq(day24(s1), 10)\n",
    "puzzle.verify(1, day24)\n",
    "\n",
    "day24_part2 = functools.partial(day24, part2=True)\n",
    "check_eq(day24_part2(s1, num_days=10), 37)\n",
    "check_eq(day24_part2(s1), 2208)\n",
    "puzzle.verify(2, day24_part2)"
   ]
  },
  {
   "cell_type": "code",
   "execution_count": 128,
   "id": "9ab3466f-d34c-402e-9789-374b23832b2d",
   "metadata": {
    "execution": {
     "iopub.execute_input": "2023-04-16T23:50:47.627098Z",
     "iopub.status.busy": "2023-04-16T23:50:47.626540Z",
     "iopub.status.idle": "2023-04-16T23:50:49.812800Z",
     "shell.execute_reply": "2023-04-16T23:50:49.812193Z",
     "shell.execute_reply.started": "2023-04-16T23:50:47.627073Z"
    },
    "tags": []
   },
   "outputs": [
    {
     "data": {
      "text/html": [
       "<table class=\"show_videos\" style=\"border-spacing:0px;\"><tr><td style=\"padding:1px;\"><div style=\"display:flex; align-items:left;\">\n",
       "      <div style=\"display:flex; flex-direction:column; align-items:center;\">\n",
       "      <div>day24a</div><div><img width=\"258\" height=\"268\" style=\"image-rendering:auto; object-fit:cover;\" src=\"data:image/gif;base64,R0lGODlhAgEMAfcBAAAAAAD/AP///////////////////////////////////////////////////////////////////////////////////////////////////////////////////////////////////////////////////////////////////////////////////////////////////////////////////////////////////////////////////////////////////////////////////////////////////////////////////////////////////////////////////////////////////////////////////////////////////////////////////////////////////////////////////////////////////////////////////////////////////////////////////////////////////////////////////////////////////////////////////////////////////////////////////////////////////////////////////////////////////////////////////////////////////////////////////////////////////////////////////////////////////////////////////////////////////////////////////////////////////////////////////////////////////////////////////////////////////////////////////////////////////////////////////////////////////////////////////////////////////////////////////////////////////////////////////////yH/C05FVFNDQVBFMi4wAwEAAAAh+QQFCgABACwAAAAAAgEMAYEAAAAA/wD///////8I/wABCBxIsKDBgwgTKlzIsKHDhxAjSpxIsaLFixgzatzIsaPHjyBDihxJsqTJkyhTqlzJsqXLlzBjypxJs6bNmzhz6tzJs6fPn0CDCh1KtKjRo0iTKl3KtKnTp1CjSp1KtarVq1izat3KtavXr2DDih1LtqzZs2jTql3Ltq3bt3Djyp1Lt67du3jz6t3Lt6/fv4ADCx5MuLDhw4gTK17MuLHjx5AjS55MubLly5gza97MubPnz6BDix5NurTp06hTq17NurXr17Bjy55Nu7bt27hz697Nu7fv38CDCx9OvLjx48iTK1/OvLnz59CjS59Ovbr169iza9/Ovbv37+DDi/8fT768+fPo06tfz769+5UC4gsgGF9g/YHy5avPT38+gPv25ecfefcJqN9/B/YH4HgFGugffwVBSGCCCDo4IH4HLuidhBU6aBCEGnbXYH8BLgjigxdyNyKGJV54YoDirbhiiyGGqCKKMCKoIIU5bpghjh2+2GGP2wnZoIE5CnkjhzW66OSM2SHJYoRO7kikdlDSKCCJVF5ZXZZBbjkllzZGiaKJTwLp5Y0tctmmjmNeZyGRHL5pJZzUzYnnkFQ2CSZ0J1p45I919plic4EKquWiCRWaJ6E8hpmkoGUCCqmfP2oppaVoauphmExG6lyonkpJ6Z3SDapnp3Hq6eZyqn7/yiqdn746qqxnHroqkI4iiqudGJrKq6hf5krrrmua+SaayO756Ie/wjnosodaCq2wk1L7Z3SbSjvsqd91K2Ourp5XLrbBGitirZLumSh20/IJrUOVcqtur/XaKie51Tqbbr7FMjrvQd3uJ2a2hqInrprpgicspgs7LGah4CYLL6R3JtrrxfFqyy/AEhvZL3voghzuwV02LG94BbeKcXrvgsqweTE3+97NOOes88489+zzz0AHLfTQRBdt9NFIJ6300kw37fTTUEct9dRUV2311VhnrfXWXHft9ddghy322GSXbfbZaKet9tpst+3223DHLffcdNdt991456333nz3H+3334AHLvjghBdu+OGIJ6744ow37vjjkEcu+eRhBQQAIfkEBQoAAQAsAQELAQEAAQAACAQAAwQEACH5BAUKAAEALAEBCwEBAAEAAAgEAAMEBAAh+QQFCgABACwBAQsBAQABAAAIBAADBAQAIfkEBQoAAQAsAQELAQEAAQAACAQAAwQEACH5BAUKAAEALAEBCwEBAAEAAAgEAAMEBAAh+QQFCgABACwBAQsBAQABAAAIBAADBAQAIfkEBQoAAQAsAQELAQEAAQAACAQAAwQEACH5BAUKAAEALAEBCwEBAAEAAAgEAAMEBAAh+QQFCgABACwBAQsBAQABAAAIBAADBAQAIfkEBQoAAQAsAQELAQEAAQAACAQAAwQEACH5BAUKAAEALGIAbAA6ADoAAAj/AAMIHChAwMCDCA8WLJiwocOHCRlCRLjQ4MSLEAsC2AhAoESIGzGKbKiRo0eLIDuOFPlxIEeTAV62fLnyYkuBL0PG5DgTZs2HJXXizCkT5U6hAW7WDKpyKNGNPZEq/RnRok6aLn1SXSnxqlasW8NmTQhWbFikTpuaVSigrMOySKUaZdlW69uvauVuJXrybsqqP/kmnTv2IdrBP5VWJGuXpNHDGQkvRujW8UHIQAkzTulVsWbLEzGnHerZZl3BcdWexDo58emcQy+rHsx64VqvTxvL1tk6K9TPsY/mnr1bZe+0UxEPZpr2MOrZgh1KrIg1um+YzmFn9iu8OvbhxftS8fyMW7v33OGVcwa/8+/1siXXo29vOO9Ttpi7mldZtLj34GxJZ9V+yD12H32HJXfSZOWxxdRzgE1UkX6jEbTQcPzNpqBj+lUmW4VrLTigh4WRyJVkAwL4nnYOAjdehF4xNl+LYnWYE4ONbehaczzZJlyEIVKW4W/iidebjiOVN51RS7aEpIDpiUijehYWiVFUah3pY2lU7mghc8sZGGCITl4IU296kflalLSxR5qLkcGl1YMs7vRkaMQVViF8cGIkGn17ztnnVjZuFuRIhQp56FIumrjoi/X9GSSXMmo4KKIo3pXgpYQy6elxjwJJ5YSEBQQAIfkEBQoAAQAsYABqAD4APgAACP8AAwgcSLCgwYICBBxcyLChw4cDE0KcCDEhAAAEJR7UKJAjxY8dBVzMqHBjyZAgKSb0uFAjy5QgV55k6HImTJU2aeZsufKmwZc8J8r06bDmw5dAiSIsmZTkz51Kk0rtWXBkgItNcQY1+dIqVqgpPVpFGRHqUKVPCY4N4HFq1pRrk65d+FXgxbow40KdexDvXQBvddK965Rtya9n7WL0KZdwWbKIqSom2vawY5IWAa9c+5fsx8qK+cqMzNlx4LRLUU82XJhv2JxIZ1oFfXUx2ttL/4oGi7uoSN2qcQaObbAz68fCeXtGrtb0zOG/Xy8vTDl6TKZmlVM0/hHvUe2DXTvq9O77ZubpgmsTFR9yNvjj7CHGb3+5PPOKlr9zt4++ocb5VQGn037+SZaXgDwRqNNpJnlV33dbBVeggwBSl5pJcOlGXnPodfXgdhpqNliHOSkolGy25eZcYuq1WOGFqz1lnExiLeagedqd52KK+5mIn342BtlcaS+eWByPCNamYW/3xahkfSGmWN2IyM1IY2gffrZXiv+tSNWSTGIYYIFh8jdQfAxqaSFuaYrZX1TvfVdja1K6eRuLejkZYZil7dllm90h6adlgP54ZpR1HlnmcogmOuaiEpZF3HGQvskiWYVWalimmi6VVEAAACH5BAUKAAEALGAAbAA+AD4AAAj/AAMEECBAoEGDBA8SXFgwAICHAA5KnEixosKGExMiZNgQYkSLIEMa9PhwokeBJSmmFMlSIsmPB086hOmSZsuWMgVq1BjT5kiIPG9WzDmwYVCUPpE+PCq0pkkATAkS7bkUY9OeT6MKmPqz6tWnK2eG1bkVqNWvLIlylWoWrVC2Y2eChXpWblGmb8vG3dvW6d26biUGDeq1KNKLgUEOtlpYY1i8LBdXhDw06VfJFCmrtHwV7kePTLlmBGw4st7Pfaly3jiZ9Gi1HyFrRvxzdlHYZFu3JEw3cencm6/G7WwV8vCQx0GCdi2WJG2th28uV/6S5s66jlcjzS6S92jgjctS/+ce0rtgox17317NkDht3b/jj7b9nbXF6+/LL9xdnDn89vftZ1p+/JElm3+ZideUcZbRd15yAVammIBoQagURASe56CEyDlnX3ekYeYZdXE5eOBzp5Hok234fXgeVvLpByJwNL74U40zDphghhc+piCMOdaHY1cYbsRXXkS1KKSLS4KYJHrw8cikaU9aGCOHSBZJlpUOWhnlRhs2VyOAec2HoGpjUuhWSlqR+ZebUuIUG3YcXcRRiGd2eGGTO4rpm11rIZidl9JpuR6LAhIqp4+FTUjenzfaJeWJkAK6Ip5fVlookFNqKlJYJeaZl23VzTmkb3Bu9hJwYaLVZnqKegz66p6e1tpqrTpOFBAAIfkEBQoAAQAsXgBqAEIAQAAACP8AAwgcSJCgAAEGDyo8CADAwYIQI0qcSHHgQ4sLFTa8WLGjx40CGnZsKBJjSY8oI4I8OZEkgIQsU8osyDFAzZk4c9a8mbOnRJY8IQadOBQnUIQVi0ZU6pOoQpQxm+p8+vGlVJQ8s1JNeDHqVYFahW7F2NXq1wBebVLdiRRsSIdIXTKtKnGh24Qw4QqU23Zqxr51kQ61i5Zk079zLw6m6rLn4p5pGZqd+Thn5LeO+yoei5cyYLVYNQvmjBFn2K+SXZZMTPpsXtVWWc8Nfbd0S71qFx49Ohu079o/cf/dPZlwZuC2a65UTbCx2rQdN4tFvtz5XsPPJ8uUnjSjW9glo/b/7ix77VvY16fTnQndtvWBfEdqX0+xbNT4FdF3d95ePlTm+2HXX37zBbfaZ64VVpZMzo1nGW4DvoZbZ83FhmB36XmU2oS2VYgcbYUZRdJm92HXFH7ygfTdfO9BNuKFEOl3nYrwWehhjdHBWJCMhdGYoXKTDdjbhkCu6GNuOqoXGoohZnekcRomuRRmO5rY5Ic0XRhhliWydFR9WhYYpYFiulWZkikN1WKWZ2Z5nHtWzggXT0weCWJta/JF54sVOigWYV6CByVsusXpGaBBCjoWoRoZ6iJXn72H6IFYighpjFZOauNvCSZ3Xpk9WujnVEaC2mBrqF0o2Yr2WbXlm2IdOUgjf6CeRamnKXKY4K21zcXkWRumZWeVw14VrJjF1pgssKKtCCaUnXbo26pOQRttmn29em2ON0oUEAAh+QQFCgABACxcAGgARgBCAAAI/wADCBxIsKDBAAISKjzIsKHDhxAPKlwYsaLFiAkFTiQIAMDFjyALZkRIUWDHkCgxCtAo4GRDlyxTyiTJEuZBmyNnhnSZ86bHgT1j6ozIc+XLn0IJBh1qMGFHmzaTMk3p9ClHpECNTqXaEutTqwGKNjU6cinTqle/mvy5tCxZrVslGo0aFuzGum7jNhxJVy1JvgDyTp249KvftX3Brj1L2KBhxXUTQ8Uq87Hfy2APD9S81XLmzy45R6Y8sypmulcr4mz80TRo0qmJYiUM96Lmx0rnwva5ePNuiLcN5+4N/Ofkymwp0gUcmjTugqhlswQ8FrFx58Kh/5ZOc3T1urHvDv/3vjO59e/H/9buLtr29a+Cift2j9x6x/jgtdMP2fNxT+aQSVWRWXKl9dR/uolGoEMLaided2MB6FZiD7r3IIF3wfcWhSXptddbAhb4oYdZCdVgiONdhN94/W3nWGAg8hfjdy1aOCN3DK0o0no5dvVdcQze+ONDaO2I0oSz8UikjyVCyFVNSYJUpIlKStmhjizCdaKTKl4ppJFObrkleqQJ1lx0JAq1XIxnuhgXgj2OJ1p76lmZIphqBkhehFUu6VeF6rUZHZxcqvRnh9Mx+dyQWBpq2Vj3bZhdozK5pmBXSB6KYlz+eZmbZ2ZGOVOnhELZaZ53VoronmCiyapOgNJWSd1RrjJ2XneCFaanXgBS6at2tZamZZ+bQplmmMQW+qmbqkr14GqAHovfs0lGe+xRY86Ha7KdwbgfpUNVVWqTppp3rbjDMtqVWNfG2SSGq7Z7Z6MPBgQAIfkEBQoAAQAsXABmAEYARgAACP8AAwgcSLCgwQACEgo4yLChw4cQGypcGLGiRYsTEwoEwBGAQI0XQ4r8mHFjR5IjU0qkCLKjy5MHQaocCbLlS5cMZc7cydFgz4E2dwod+JNgUYQUjw7FqNDkzJoUlxqc6FQlVKkFdU4VoBQpSagutQ4VSzBhV6hgO5LFilQs1axRib5kG7MpXLdxTeKU+rbiT5tdy+a1atevR68B9uYcvHStYboVHUcMDPlrXMopMzKmWTjx4cYlR2IGGvpq281GYUr2+XnlW9N9G+5d/dC0SbMwIeqkLdK2Z9yjBQtnC7w16614UZIWWtzh2c7Kd6OeDMAmXsVygyINHpKj9cHNC3r/T3oYN1a0cdM+j71YemSWndUbP007Nm/x89GHnX7x/nG4lu0HWm9c5fbbYAKutNVt5L2H3XisQagggAdWlRJl4UXHn1wkcefcfB0a6NuHIc70l2bkzbYhiSqdqJleqq0oG4gWdaWidiYaeJGNMeLYoo41xgjjWkTCx5CHB6k45GZFKvdffylWF6WEI3q2GIwELgkjlUbid6VnSJa40k3JTSjmfeaN+VKZX54pI5YHyueQdNep9SaYh40np5mnbZWgg625J9doYulZIHa6FTick3jOiaCUxYW5HGGM6oSolSH5V1ellwEpaaKpHfXadCdWZqmIdklWamWTcmkfdIgtZsgXeejRCR6Tdzqq6aeQsfcQr6YeSuNRN/GoKZSXWojnpRJWxuxcSaK6qFTPJtvopIyCtqqy0xpqLXOKxoqprAxm2GuXxeYJZKg0DohYunAeuS6rEP0pLr0X2jktvpxJdiy/ffIZEAAh+QQFCgABACxeAGQARgBKAAAI/wADCBxIsGBBAQIMKlzIsKHDhwcTQpxIsWIAhAgtatz4EKNEjiBDQgQAQKBHkSgpkjSJMaXFjBtXutwIU6PMmS8FkCRZMwDPjxBP4oy4E0DPnxWFDi1YlCXBnjCbMuyJUypUoFF3NqQ686bCrF6lLm3o1SDYkgPFjn0qUWZRmFzLRmTrMqvAtxLjol14FSVCqUWRRrx61ChQvzq1+gzMVenFlmkNLw289/FEx3QHcrUZOHNHyGaxHqaZWKbH06JRO9U8GrFV1KAfq7bMeq3nxV7P5s47Wm7Iwrvvdq5Nm6Bvipun8nZb+effyrcvt1bOkrlxw8/5Tt+a+DZm2mEVC/+Pjrw7cZaN2zYXv5i8dMDYtxMPv1qtxufMv4ceH7k++5CmqWefQq9dNWByCwUo3IAGFSjagfLtB95woWWHm2QMUXYfbwv+x5qFeJFFYXn8pbfadfyRF1xQ6p1InF4pntefjNLpR9tZ6MlnIHQs2giXgGjZ6KKFFQkG33HHaScYR0YqxmB75S0pkl0T5shddZUhmFOJLcqm43JZRhgThg8JltyTKEkp4o8JepgUh8XNxdSIKM7o4merJafXk/TR6FCScvZ1YYM8ZqZljFfGieOciR7qJVtPpndkkKK5N9iDbsaJJXMKyuhomYxV6uWi/q1FmaCzqUUlR472SZlzpYWQiRiodb4an6pivmmpbnTKaaWmDgkqoa2AEgYngMOBOKKGthH6GqfsMdsspE5Sih+lrOYabKxcXnsniSn9iCpGxwk7lLiielSuqGsJeemnUOLkLlvz2jktkmRuy6Zt+MIrFLzS1WnsrtpmK3Bq7Po6LWzmhdYpoEsxvO7DhU6Lp5+WWizhtxlrrJ3HERc8UEAAACH5BAUKAAEALF4AZABGAEoAAAj/AAMIHEhQoAABBA8aRFiwocOHECNKDKBwYMWKEzNq3HgQgEcAGC0eHLmxpMmFH0EyTDgy5MmXIhumbNhSYEqXMDmuHDizYM0AN3fmzIjzIc6KQYsO9SkU4lGGSZsulRjy50UBHhcS7Dl1YlWSFBl2BKCV58euTptmNVs2Ysq1aFnKJMs27MS3dOOGheuwp9WdOPlOHev2bNircgsKzjlW6da3ek82lqoYcuSSHpUiNovXL1S6i09mprzZZmfPplMv/VkyJFeRoRmDbb3zNcq8cRefjn26pe2lunc/7D3y9+XhndsCNWzc7nHTeJX3bO7YYWDchee6prtdslrsEIN3/3eumnZilkFvsywdU/Z52B+v8v1Lk7LGzdW/8h3tFbD99uzVhx5u/FHln3friTUbeUypRlhcX131lVGfqddVbE+NtdZ11Vl4F3jKLaQhd991uBeI4aE4F3TgTVhXgBnFtuJyi7nooILeIWUYa3VFJJ+KDPoIlmfX9eehdf9RmB5T+bWUZFcjZvifk0+i9WB9Om5YJYMmConhkDtuaaNO4xU445XL3beliLWBphJyR8rYoElaKmkYhQm6uOSHIcInZ4QLZvnmS1TONd+BSG7XXH88svieZgtGRyaOJ95W43+8xScmWD9a2iKmKO6Z4nvKXScndVseKmB7j51655waqa7KJGlTVjgrZrhJiWda5YnUJZL1yUnqciOeBtNTwrJqVrHJrdbUmGVJGOhnZpr01LD4OZmYqEMVmuZhkQ4qbbRrGviTljwWOK5zv9r52qLsKgjoYFhZ5iiv8c4LZb1ftqqpdJ/Si6q/6ra5KlroUkrwoP72ijCJMOJlqpvPTRcqkI+xeZnFcMYIcbm4SmwwrD0+x9lb4w2brF7eGvppuxBq29erGpts87A3x0xQQAAAIfkEBQoAAQAsXABiAEoATAAACP8AAwgcSLBgQQEIBRhcyLChw4cQFyZUGLGixYsDEQIAMFHgxo0CEWIcSTKkgI0dA3wEYLKkS4soKRJcubLly5sGY+akCTKASJw3f9okqJHmUKAlhfqUmfGk0aVIS9ZsGFPp0agwPzqsyvQq1og9d3rU2lRpyq9UWS7sOdWk2YRoGf60uvZpxbBf53at2xasWqx0IRadehbq0sAuETscTLawXsVxx9ItPJZoQryRd06GWxDvRMxRU/4EvZhiz6JecYo2/TfiaLWoDQNm/fbi5syGdTa1vRfyy7eUdwuXuzc1RuCcDdZuiNj3w4mfOTp1Try0auhFsxd3vd14RcaeOYf/t9xcfGvvEp32TTm+7Hb252Vzn0ra7+utjZPPJ1sfou7+KuVHXWdPscXfR7cNhFd9q91VoFr0IdgbUwvG5xZFAyrFU4SnTZiUU7zNtKGBHSrX3XMgHndih4TpF5xNeln23YqwqVcjctUZttyH96FI13p7Achbj6X9SJZXQjLHmowB8kRkk3YROFaJ3FUm3IhPjsgQiTVK1ZqBU0p3YZhUWlkmSRWaKeGYUJ4JpnwhPsSTdVnpNpJzcyp50UoDMmmiYBjS6OdBJ/6ZHqDotWeol3kOSt6SCh4pXGwjaUkocVlKCmOKlUK4YY5i5fYpoX1GSqamw0kpaqPudZongJvh0RigiUnu9KqFqbLJJmiUomirdIwtquel8mUYpITBEksnkzv6FeprVJYq4pMOPstatIWmRa1FRi6rqoatBVdqt8NaK+Kjwg65XV829cWqronpJyKv134ZJbyzhQkfq7dyiV6cfJrH74P+whlVfS3OO+K9cSGcn8ILo/rbuvE5RuHDkdZaZV0mNptwxrhOjJ+02mYb55ZiAmXnweHKO2uuh8KMU3jk/lusyUG5/CKUR5HM44SIfWxzZOAu9y5uvkZqNMNIk/redB7KjPTO2gmrVEAAACH5BAUKAAEALFoAYABOAFAAAAj/AAMIHEiwoMEAAgQcXMiwocOHEA0mjEixosWGEy9q3HgxI8ePIBsCABCypMkAI0+qZOjxYEqECgcmHDmy5UqKNgu+bDmTZs6bGGMK/FkwJ02SQCPyFMqSqcCjSSPWdFo0YcyXBF9ijbpwatCMW58iDcu1aVekBo+q9Um1rMy2KNHqXKuWqNuhTKfaNQvzbtWsAKzCDYo3KVikLXdeDSx4MWCyNw8XHqhYbGPHlGn6BZxR8EKjcsVu3RvSK0yioNNqfpsUamaJVDsLqBzXr2uxsHPDpA0Z6O24o60SXNrb7e/fnlm/LV6W7G/VvZ/XVl46NHDrj7FfVz18MMTDW3tf/8ZN/W9m0x0Xh9c+fvpk3aIZp8cLOnj3+OTX3t9uUXZ9uUvhN51+yklXUU6kmafYXj0ZiFNs3um2oHcNrjafRkRNCN95Fj64UYaICWdedswpFaFLqzm4n2TuYXgidGN1+FlMLJZ4UE/knQUjXSFqpd1HOLbI3Vw8KuYjV+sxl1iH/2koJEVJ/tgXh/uRGCKLQEL4FY1wIchUkFluCJtsM24IJkftmZjjiOUlaGJyaj75XpsvWoTejVS5Jph4XNpY0Z1i8rcne31KKdWVsxlKpFxOnuUnQxM+KiB5cKIoKZsP8RajjZWueWCdlGKm4lupgeRmgWo9FOBcYXp4Hadf5uGpaKBmypqef4leSFh5nn4n4qAhnVqhgywGeamqdQ4rI6p4HVnSqr3mF2J3ZE5J1qlVThntgNOSyuVk14Jqabc6auvqsRDp6R1tn25bXbjgxlgmq/y5C+Wy1TobqI/rmYQlinNmO2OnpmJWLmonpnlSkAmChi2vaOZq7ryciRtwSXcmh1yiGSf68Ecdgwcgx/ItV/JmADu0VE8fRwUrtR5b7DKTv4rKmMartbzRxvnG2J66blUoMJ4oI7sxskWnm+rErzEN6GYEgnjx034JrRHVRVt9EdZJX/yhzJGBTXRBAQEAIfkEBQoAAQAsXABgAEwAUAAACP8AAwgcSLDgQAECBCI0yLChw4cQIzJcGICixIsYMxq0GAAAAI0gQ17k6FGkyZMaOaJciVIly5cPKXrkKPMjzJsKE3YEQFNnSZwZPf58+BOhS5dAGwq1SdSmUZ0EkSaNKmDoToNWBWYtKBUoQqtbwzKdCHXqQZ9CqVL9yrNsw64wa1rtyRZuzqlPtS4dS9ft2Zh+T+bduVTtWalw7ZqsudHvXqeBBy5VDJIxV8d77zqcHLmyzsFKx+otalSz2YqfS28WTRgyRcosj6oeDVkvYNOoX8ommTb3VYevy8KOOHe278K+NcMevnqtcLSkDS/vLBE06q1Ya//dHpF5zp7YC0b/554covfWg3nL7S2YOnGh6cvOhM5+sXuIyBGrftxYut/zBOUX2WD8XeZffyYhhxtbAdqkoGT1GbbSg+CN9dODtL11n24bbseWWHCF51lGwWG4U4isNdWehgLehhpsIlY3YFW9JZbaeerN2B5vOcWoYYP67SgfZD5e9pR1Nkr4onG0kTbdkcYlSR6U2Ql4XoGAFThfidplZ5tGWAJHI3Jbpjael7+BVCCKTkKJVoM9dglmZuVV6ZqbX37JYJ0ykvgmn6FlGFuHmp2Jn4MRhiTllzEG1yCZKWK06G+NpvZob0Ve1CaCnIUmVZgnbWogepHNF5qJp2UnW1CRZoqSqaNq7dpqpKeyFtyHbb1np4nM8XrjmLkeumui07mqXIcPGqoki7SShVtTYMm5rJg/ehglZmHCamys3N763LDRWiaStxq6VKZlVHL7LLVLlotZum2uqm5KOjorXqLf1TuuvvOi2q69K9UU37SugtoSWgOTl+eh/vpZaLBKWrduvj3t+7C8+SLYGJKEAnzYf9/eu27FB28MMsHSlgcgu9MtHC2CK8Pcobhp1nzsaZ9iim9r0+JVqs7hUdhxqKw9JtbEJzKJk1gGKwuhxDhBXSSsGqcqdbN6BZkqkCGrqnSnWz/d9b1XUx12nDfFbN+23ZUVEAAh+QQFCgABACxaAF4AUABUAAAI/wADCBxIsGBBAQgFGFzIsKHDhxAjJlQYsaLFixITCgQAAKPHjx4nbuwIsqRJgwghpjzJ8uJKhy9byqzIcaRBjjFn6ixYM0BPgjgp7iyJMChMoQN/DiUqwGjDnD5JLv24cqJSlBSvTsVYNaFWgiu/bq3YVSDUkE05Aji7tGwAti7TOh0bM2ZPpWrXpnWYd6xZpHZJ4lVbVOrCvlsL52WLeLHGg0ix6lRMOHJStSODQoX71rJJylpFRoWY16nooaAN/w2r+nDprpxZli5ts7Pbm5ijnh69c3ZjkqIZ59aMVOxny75bFwa7NypioJVlQk2OVely57mhzz0ZXG5rhr8H8//9TvUxZZrDs/MGT15maM+XoV983ls5/Nr4I9KXTfsp/N2kqRebfv0xxBaAD9E3IG64WZdVewPdxpNg0ZWklYIPqkSRcJnpddx0/SH414idjWccV49pl5uIJbbI2X4nESedZQPWdV9DMra02Y0k9mgRZwjaKGGDEIIEZIoRAmbejTAO1ROL8n2EmGhP8ogjcEiyB9KUj1UZ12wMupZfh022yFJqYYZ5oW8GWhkXc1ZVyNxqD95F3nbHwemVnEnS2eGYly34o5U7+kidmba5OaiGkiF6qJCK+pUkiFy26aekCyEIJqJzJmqSnWX6yGFG7lEYKqKjMsodcup1KiGUYq7/SqSlLiopKKBG7jnRrjRu6GuuMxbGa5C/crqorJOyCiOIdL76n6KQEvlemLyK+iywfWJHpofGYuVWYCce1Wl4Fda4pKGtPnSethN2CG6R6mY4KLlq8nmqquFm6t1v2243G6UFTpgvc4eC+lpxB0ub7p/lsTZYpbwd2KWAD96aLMPbkuilvg4bxprF1VGoYnIb+0jtnmc29zDJJXcbX6IDE0jfmhmjuuTM8KKHc70QX7ouruWRSy92OYYsno7e9Wvq0kVDtvNW/GKE58ubOpmeR1PXVvVO1baYNWR6jsztZLtqPLZ/YV/mGKa17pijnUSCzNSlBOvFGqBrs20ziUdGLKu3tXzfuBuskkrsbVofR5rYtZAJW7HiqCleaLZ/d0pWr5ZXPpXcmqNlUEAAACH5BAUKAAEALFgAXABUAFYAAAj/AAMIHEiwoMEAAgQcXMiwocOHEB8mjEixosWKEwtmvMixI8WNA0F6HEmSIICTAAyKLMnyIsqUGhW2nBkx40uBK1fS3IlQ5s2eKmXyHApRJ9GjDY0iXfpRKNOnQaFKFPDyp9GTJgFkVCo1YVWUOJ1mzbpVrFSCXquiNRuVoU2YUNP+DDs1qU+4S9MKfGk0YU6nfv3SBXpUbwC+bHv+XRt4MNeRZR3LbDwQa8GTjyvjpRmZcFmQlskmNhi68GjNmAVznEuYZ2bEmReyjm0xs9zNBxcfRtmZ8+mwrBfqRjzYt+W+gBOXlo17OUnDyNcyf+jcOWSqYHe3lR5TNOW9eGlP//3pXDd38IFBh/+9Wuvk07ppg+xNMnXx3Gbp2+UuvqjT1G81FJxbyRGlHmXWoYabcAWypB5zpV2lFn6kudffdtodNJtyE2KInmotDbdga7uRN2JYFzbVVoLqmWhXigyCZx+J3132FUwB9lSeaim+NeN8INr41WDHYReUfu0RmZ2A2UV4mmWlzdhRkTKeqCB452kIU5TuXefjkiG9R9lKVCqYoJd3DfgZj2aVWeWZDmJXJpKB7RhUkUCWdJtk96FoZHcx4dkgRn/mSNuAFVYII35luukQojYqyh6hgsaoWZXUNdeklTUVGmSWUII5nZBbcroTmTf2qVlnN3aZV5upkv8ompJfLZpnmCuWCmB+72G46H23chfqrm2ZJ2t7PwaJKmuQWtoScYoNaiZezVK404CQDnnplbgeq2pF2Io67Vjc8mntlLqaCpy4WbX6JU3Dqqsju9NCW61L1MpLrp/ppZmvk4tyiS9j/frb7nq/AoqkqsHGlDCh5npIY2I1+ubnnfqq2G2IYvIKZ0cNW7xxtBJfx2zGWQJprJ5y5ovUx4Dup+XFR8GcpbORkhznw/O2CrNhLPN8W6vjofyovHDuyS3PEdmcIYMnO3oWwWO+5+S+U7+YnmRXb5u1xI4i6fS3M6EKbK85dxrXfy4fnfTW3pbNNtYQWtkv2USZOKOLT2czaNWk126696ZYbvv3133vqjeYAiPu9W51Cs542447zOvZ78addcWeJZc5088BXvl1UAUEACH5BAUKAAEALFgAXABUAFYAAAj/AAMIHEiwYEEBAgwqXMiwocOHEA0ijEixosWLAAAIzMgRwMSLIENGzLixo8eEIlOqDPBRYMsAHVfKBPnyZcyZOFMivEmSJcqcQB3u5FjS5c+gQIcS/NiTYMaXSGUqHchUY8GnR6NiPIk1YtWmWrcOhcrwq9WwD8kaLQl2JEe1aOGa3doVrUSUNVHytNqzrlm4UT/mZcu3cEnBet9mtUsV4eKlR/86Nnn24OOkjhsOhql46M27UTsCbuw1ccO6OUVfhly6KEPUOFUbHZ32KNi5QGX7pC3UdmXcM3k/bEva4e3VFoUbr8x6efOVyl0TBk0TecXonJ0StRwS+3W8iz9n//f5fKD48jkRGxTfc7N24mtxkh2bWaHj+u3xbz9+vvpdrHLdZ9puifX1mwD96QRefPHBR+BoulHmnX0LklecgwIiF6FJE6pn4UL3QTahiAWedJGHo4XY2IgrltghglZ5mJ6A/22nYH4MykejZQnGxhxF80WmIWUxWgeRg7VRl+N6RC7ZG5OzCekacVO1JlV4RW5mYI3fBbUlhfcR+aN7ZWEZ0pd3hdkkd8VpZmZyWJIFFpIflpnfXifG+aZ0FNZ2534/nmnjeDiWSR2ZSorEnmF1Jhofomx2edWPN2UIop58XponlJPmp6KjnFWVpEx0aneaiUAamVKp5gXaKnYsuv9lKkieDiijT7CtWhmrC9Xq2q30KWjToNP1SSCvoVbYXX3FvucqYlUudyt0tqrKJqSaNurfeC/mqNy0R7qqXV4OIkuis1sNh6pR5Ypb5rDmtnhum/R6tmZzsElobZTzOkmumGMmBq9iklKHrKic+Zrwdtg+aezBA1aqn8ToWURZg+4eB+mc7gpK8Xi9Hrjxrh0ralLFo57anIqxLnzcps4Vx/K+hoJMb8WLkqlivNlSeZmcg8KWF8KMpRov0UXDefSAgf28I78WthxUgJ8S+CjNSdcp5qwZYgWglJFi5uyiUdL3dcVSh7uXgRrXR7WLWFN08cLNPqisZZIVHeSl8c5MrfdiAfZ9MmPRdl2km16j2uPUMJI4VYowBkt31lYr5LO34FlKedWzrgx2hmnrWqvkGENN+WsMCyh0taFfiXLYhnO+OdhuOh45swEEBAAh+QQFCgABACxWAFoAWABaAAAI/wADCBxIsKDBAAIEHFzIsKHDhxAjCkwosaLFixgzatzIsaPHjx0BAABJsqRAkSZTMqSIUKHDhCxVqmQZcyVMmTIToiwosqZPlzg/6hzJE8BPgjWDcvw5dGFSpR6ZCthp8ClUiFYP7qR6NSpQh1uJdl06VaTRr1wnfs36NCvOoT3Rih149GDbr1fhmoVZtipeun+RuqQZuKTeuE0Lsi2stnFLpTXNzo0Y2WxFt2QJSr5YOe1LxhzjnpRsuajgxJtNA1YqOgDp0prn8g3rmStmkk9TG9yZuzRfvo6DG/6rW3Vv3r8JC8bd97Fz4M4FI5d8O2hi5S2xSyeqtzpr2Ktt+v9NfPqm1skeiwv3O755+ayeP8bPvpZ46dTkXZ9Vi5zkfOjr6Ucbd+7pR1h/JQ042nwL3keaU4VpFxpRqalXVIUP2hXhYKA91Bl4r0X0WmuVzSRXcSFCNOJ+0elnEksYLjcQintxWOJ5DXmnmEsxhtdgbCSaN9pCDLaYUYrwoWdhg/iBpuNDSBZWG3hAZojZkwwh9+GP4jmXoox1baTliRRSuaNjX4YXple7gSibjULOiJ6M/L250XFz2QZnbznWpydncjm2JVi+/cUnYABKdKOES15IIHuqqZXonTyetRh21JFZ3nYvVjopohw2OKikfs6JUVhosgijmUNmaSqdRkr/hKqXqlY6X5FFCodln61iSlpva0Ia265dIrhqpm0Ge2ZRxAr3p5ybLotgq1CyCGhssOp5V6+BqmitRtPG+p+m3nrWrHH1tQlhlSKaeW6d4wrrapGfUquRXusu21CjpBL5KkbVPQurvOpGmhmhA8eaMLYGZ6QjYqFqiGWTEl7WoZzQXXoxu/QF6GFzx6JXsY8kRwtmgZSBbKvIEROscMfL5ldRpofZSbKFIXvM7MbnQZzmmjivrPOwPEN6KK+O+rsvyw63DO1nbd76r7lFT5jymO2FLLBMuQKG9Y7Q/Vz10iPXNfLMGfpXq7zYvSsgq2zalGhyC6OrLKV9zv1b3QzrkN0p3yW/rat5VLud79CBNxlt4WNbpPHSFtKYbOMpQ4hZmlzaO5rhUCtK5pQKjvXy4W+DXmbXb3XbHbntbpuT6mW1lrm3rqfuF+aBKz3667enrS/Cu0Nmn714tor7WIduzeWAqEPFVZRMOrii6K5WieD0pftOPen19nz6t9v/3n3U33MuFOVgpxu+hh35XVBAAAAh+QQFCgABACxWAFoAWABcAAAI/wADCBxIsGBBAQIEIjTIsKHDhxAjSjS4MEDFiRgzatzIsaPHjyBDisyI8CJEkyNTniw5EaXKlwQrAgCgMOHAighnzoTJ86bNnRZt1qypk2ZPnjmNAnWZtOjRl0kFLhXqsyjQpyObGo1ZUqZOrlhBaqXY9edXn2EjJjV5NajLhybfpl1LtW1XklTlPsXJ0ufdoA3bki2qF6rNvzX/yhV8UABhqnsdbwVccCpjuHXPho2KtrJRzi0zXz7qVKLX0or7EgRaumfrlVKtJj6seiBrzaQnqxUNoPDf0qNHBmfIVqfvvsB1pwRN2evs2EMZWlWKuydzvtDdmo1ucHrs4SFnOv8PwBi8w9tTEVMO33s7eeXmA1NPX7sw+9dMaYNd/547/6fedbZfXPrZ9llekKWFn3tkddeeevKFtWB2DXpWVoIOZiVZWvwV9lpHzEW2n3zxmYbhfwI29hBjF2Yo1olyxXgihX7VRuNG4iUIoUTmjXfdhh7lSJZ90ilXoWWThYgRdtqF5l9qR57F11R4RbdjQ0w+h+JpBxLVpUZEjnhedcQBiRpyxs1YZpUQfVgmegdyGWaKWKpZ3ILqdeXmd0Y6RORxq8lWI4FjFVkiZoCq2J92c66Y5kdX0kkZfY2OKeSSCJaH25yX3klmoBsRqKldagaa5Xt7GggibV6NN1xq+YH/ammfmGl56W2IsqpjZo4emiJdx8Ua1KViclVcpaI+aKeNzUkm7JCZVVpnccYiSOButUoaam2kEoogtn5++yJXj1XroEuviuvfquQ+WuO5CaYrprRrNoarpCwyiGqfp7JrL3XFLrpfW6n2i+mN+LobKKnZ5Vvntgivuy+6m7rncL1sVntqgA6eSS1/qTrZGJQGphqgelSWTCuP88HXMp9PotnumRFrBKeLyaVsa5KS0SywR55e+56eUtYHpIu/rSwyn0LnWGieR3u2M4cD0qazZ/KOuVmBnC32qbaqAm20rP6ZnCaXoxW6rdA0ekqisnym3bPSB488d3TJTTShhaWaugitz3mzzDDfwgnq5Wsnw9g304sLXjHH+14d8Nv01onn3DlCzrbdSauktnbTaTW4xLN1ntuZjyk5bV9/Np5R4qlHnavBFXp+t92kax22mMSK9LmWlRKs3LGuc1Ruh7rOm3yzVE9coJVjd0Zy5WK7uTnv7Q1O+3K3K/+wgT9C33ztnfk6+fgBjwcx+rAVef737GMsNdjwx7/7liWVqDr7o9eov+zs21zr5EM923mvffCy31EKqECOECkgAAAh+QQFCgABACxUAFgAXABeAAAI/wADCBxIsKDBAAISCjjIsKHDhxAjSiSocOHEixgzaiQIAMDGjyBDcvQosqRJgwkpCujYMeXJlyBdCkzIEoBMmDhjWpxpkSbJnEAj3nTpM6hRhDsL1uyIMulRmDdH1mz6FGhUpAKZBtDKsyvWqjqpbiXJ9StRp2BD3lzK0mvRr2nVJmWr9WxdtHEdXs3admBZrwZb4s2rkuFUvz8H7h272KhLuokD94X4F6lgsI/pOjxMObJlm4OfZj6c2a3FspwL+mycc3Tf0mZPJ06t8jJhxUldG+6b+upbwkNlV+artTfa32mD6z5YdrFvhXGVC/fMt/DB56zDwr0OfexdncFxnv/V2510aKHdAVetWH1se8nZ3XufnLw82fu74xdfKjo97ovmDSffe0exp9p5kt0lIGrUHVXZfmJ1dtiDDeJEIYHqbcbfgIiJ19NgBiLHkH4bqifgReNxZ1eF/z3ElnUYauTTgp7FR16CJEmnE20dHqidVDnm5h+KcwVJHH0jmdbeVYLpGFtGaxk5H41KysckaE6mmFFqkMXYmYasfbedRFxqxiGZLNq2W5VbzkZfiEWqiZiYMM6ZmI0NMdhcd1HKeWSGY85XZ5sQqjhYZW916aKUBgLIW4ONKlXjSve9uKhpeEqWJHcQVeQajxFyeOKlPYY6oqdHgupjqWdOpGh4ebr/qSmnVb0qpIab5roqWPv5iVGZs0bJV6ak1kQsjrouWeSwCLpqZnu2WdorknbiaGyzEpYoX7QbTksjhWwdy52ed9oH2bSw/slcpaBBSSmQKn1q5rV1qoouthHZ266gDcHpaLj4ZpvfdORpmS9d4gIq4JXxCrnnoD2O2ilaC1NcbnAPtzirxA+JyC+dse5WKJocnwoufoHOimyrGpY80YwNIurflVTilq5c+jZ1s7oqI7Xzy0Pa/OFzlgJqmqoiRdowT0Rr69yHSJ9k8MSpsqgezGyWNHXH03GM8WsfJk1pxiZOap10T2/trnH1mt0i2iDyGTDXURMp2IWrqv0R1lpTzeqxzFm/pHS/QUOc7HY/bzT4qayF6fbVc0vk+HMiS2ld0bvKBeZxh4ItFuaGf/TtvgbL6+25gYc0eoqwKnruhnp7eDnYGSt6o8ZBtU57uVV7fWtOgEdMrdGxwbw4TMFDO3zKxY+NZeTIs9v78ww2hbmvRk07fUXVH3j9vtlbPt9yfAMKM9lBgUwvv+UHej7vt/H8mVcuGw89UMaJWb/zCTsovkn9Cx/xfhS/7UyIWrEr4O3UxaMEKlBsxEveA90VwcdNMHMQvOAC+waRgAAAIfkEBQoAAQAsVABWAF4AYgAACP8AAwgcSLCgwQACBBxcyLChw4cQIy5MKLGixYsYC1IcuDGjx48eOyJUCLKkSYgiBaY8yfLkypUtY0rcmJAmSZU3Zep8aNMmQZg7g+IUCKAogJ81DQIV2nKj0aMck2rMyTRmwqdKqQ58WlNq1ZJXjWZdyLWr1q8esaIUoJao0aVoIbZ1GLYowbJxLfrEaLdgX7h5kQ7lC/UuVMBMuxYV+ZIkY5JzJ55NXHNxzsaDB0c+iLhqT8hvHWttDLezzs9uLWeOmrX0ZJki+woOoFougMez88YuzJr27dd+f+ceGZihYqibh+NcWdv0zuOpeY+dylw48bhdV0eX3Ts7Z9CWnYb/fi61+mbU36N7xxv0L1uxvtlnra3dYXKW7tU+pT+Vv/P40rFU12Hv3SeeZJJhdl1TBRK4X4CaQbggdaOJRh53ZP0GlHcGWcbdf2C991B4k3EYXFjKBWWWVxS61dplMBb3oolIHdhib/XpBhyCxu2I40EYTpgRiEJOFRFcQRLJE4uD0RiVghtWBp96Ph7J5HVOLldhjiMNaBh/JwXJ5XAKuhhcXw8qyZCYRU5X324dwpdmld+h2ONsaBKYYplA7jeklA3h5puZgu4J3IMhAoXokyyaGJad/ml1X0VZAvihWTXC6CFy1tU3qUVsLipelDxeOhybF4Xq53Vg/ognb4UO/9oep58uWiqsMRqpU561rnormVvuSquEgTZqoW+kfsUrsT0KOmqJdJK34nHVVdrqXjpOK2W1V7oFZbQYqcmjldNha5K46c0UrLkVtbpkRmqZi25D7tIF7pd6Tjjvna6u2Wm/D6Kq17360nmtpAG7RHB1KeJUr42OEvxnnA2P9DBoWlbsGaa9JQmjd4ixi6XEdRprJrAg+yiyyKnmWynDP0Y8m3gCt9xkt0WayiiwEdas7lzc5ZkpvQ5y2m6+F3m5FW9C7+yvw0ZL5N7EfdYGNLPP0hyg0j6/W7V1VxfrrVTnNXiygDlNLeufWtsYMLNUE4pxSGSPJ+vbCnvKrM5upty7aLwk30zx0/2OyeqqgOcN4IhTjpwgx17XS+7i9jXOcpeQ2zu2jhkitumjH9fdNdqd+/j5e4+t1/jGZ7t3ed+Dj6540AS+rmuGZwu1m+vbgotkwpThqyXolB4KPFro+qxq7sGnBffawTG/sWlKZ/ipjJhb2ev12Fe++79ej9v95ktLnq74rK8lfczHZhwY9XOLLy/O6cfatPuwt4ld+xPen/35hZNRcyZjoFwZrjgDtJ6EYrUvhZWFROEL4PiQ8kANqSxYE9Sc/kIGrQyWq4MazJ8HTxO4EdItIgEBACH5BAUKAAEALFIAWABgAGAAAAj/AAMIHEiwYEEBAgAoXKgQocGHECNKnEixIkSEDBk6tMixo0ePCDcyFKhRwMeTKFOGNBlgZMuFG1PKnHmRJcGMAEgupMmzZ4CYA3HqVOiz6EmMOR/iJPoQqNGnA5FCXJrUoFOoTxuGZDq1atCdP21i9alVakSuX5leHTsT6NqoYm96FfiWbUe3cQ/m1Wl1r92+Mq/W/fqX4mDDeQ+/LBzRrFyXSJmWTTiXcFi+jPWiHQo2ctLJmy2LrMzYs0Ghll2WHO1SLl2/RU0XRI1ZNcyQnEOrhQ118muCeIGidbw4LenCvi/DBY7b8mu00MFmVr4ytETWALADFs2758bqx2ty/9au17VytldLIn6cfat05a2dG01/e71x8MNZxsf8lD7F5NY1lddu33V31IDhfbUSfxP5F1aBfyn20W7McfbbdOeRlRReFmb4V37iGZdbRgUmd+GCY4EoIHsjqheWidQ1l1VGF7KYIVXMDQahXajRR6Fx8aEYooQz0QYXjvC9lyNlWi1JXJM8GfncUhfuB5dnwbknF5H/fZYgkuxZaRuDNcYok2RfUjmbmjaiud2JBkqkYoXFvYYdmrZFp5tXXJ7FZ2L6/Xmnl3l6JeafgTGZYG0byijiS9Ex6mScFckmp5d2IoinoZjW+aCjGB7JqZ6VKRZan/1RZmOHdF765nxiEf+3XX5W6uQgg6g2GKuqjQXKXK0v3epprh1Bed2u5p3WWaBSLmeUsb226qmNgwZIrK6CMatkhoOWuapdQjrbLIeQLttVgKluqS1kLL3Frpuispuuguua6+GjZtFK470fLnstikEqCixb7P7bXMBgquSXYtmG2CWcoyXqcLTlrVjRjwAvSjGZLyLqbLLcasvxvBwTRy7I5I6J3L7KQjvrvuF+K23MHDU7Hm/dfnrucVmiJBzL034MJKcQC7yttHeJZaS1mr6HsXs2C/1RxkjOqRRYVkZc3EqWHlgt1h7vzKq4nXKtqM/tNpfxjub9PPZbNCNdadoFjsY2d+YFXJOOlLb/HPbGQfvYnrdB29r31VZPfGrTd48c7OFdOb54nzid3Ou1eR83+eGVI4st5H4u3tePeyp786tyT7httqRXVnq5DVtME4G8Ku605jCnLbnGD3+K7o237/z07t655+7f0fWJ39E8gXe8tMkfvvzv6J0deu69T1ya9cLb6yrgof6eNWWsN7pkqCD7Pfrgmpl/Jegzomn2zLULGD36j05muaztq4v/lC67WurMVLEBpspF3yMcnFDHLx7xDniIQWC58Ec9oVUQS0pjXr9+lL73pWxfUdug+zqYqQ8WqoJYMRnUeCYyCJYLhWNRYdfoJK/UAO1/1yvTz/QFQxxSy3Nv454PL4uVOwB16nRDvFgR26M1UmEOKrGz3M5Q9ESSOUuKiGOi7pLYlyoWkIuXgx/4HhIQACH5BAUKAAEALFAAVgBkAGQAAAj/AAMIHEiwoMGCAAAcXMiwocOHECNGTCixosWLGAsK2CiAIsONGUOKxMixo8KPAkaqXNkwoceFIFnKnCnQ5UmYKWnqzBjT5sOYO4NC7OnyZ06hSCUCVXo0qVOCSyNGfeq0JE6oOadSDWr14NKYWreKDGtwKtkAL8WSbNrQLFuEN9VeDQDW5MWwHr++lVtX4Ma0UveiPalXLta2gs/qDfsXQFeqihML9tv0sUaTlvlOpluys2fKPi/XdMzRsGiUnlNnNQmY8+jMpgenLTyw9d2mtreGpny4dlyeuH8nbTw6N+3cvAcSja3crmzhyZMjd918NHPQNuOeJWhzad7SzxFX/2VdtDrE7sEpE52+XeZu6hPLJzw7/T3S9+25yyfdErrv6TPld5mAy/0nXHYuCXjbbQTmlJZ9z6EnloSDFShgaw/uN99mOlG4oXXwOYRhXKFROKF/+hlVnHbgIQgbVQAOpmJ4za2XIHhBtfZZiCky5FFoxBmoI4cYDdkVXijKSGOQKw6pE22BfTfXjNjpF2NgvUVJmGRYNpfhlQ5FVtZbEKoEW2MfriXeaVYmCZxbJoZUV3s2RocakU3yx6Ocq9HpYHl+XphdX7FlSFSDdnp3o4I7GfonoiEquiGjXUJ5UG7GdTbbW1OlaeZqWV7qX6YlbTqmQZ6q5RZO7YHJpGGrev+Fo49uelnrWOTFaieEunKWaqhP5sppZcE5yaavep6aVJl7tjnlsYQq22F50oqa6bPRHosrVnFSKuuKkWX7Kbc3Aqvmc+GCulNdMZoqqrmT/qmst2u+upC7qLKYb1fG0ouSlM0uqS6I1Qb5XYEBOieugckpiq1zB8s70sL95Wtnj8xezBmayVpEMa0WB/wjtd8OKKxKYN6bXUbX0vganiLeSmvGMc/13q9FAjqryinPnCSvMPcX8UM0x1cfyRpfhOCYjSG8Z2T4Deuv0EhvjJnEGkNNsltT37lilVYDubN5KvfWdWB1IqseeWs/G3LDQcu0cJpiVyRpx2WvO7BvaTP/enerMsfnNsgoJa12wASv1DLRSX4cJH2Be8z2xMQeSiaCeAvF8bg1Pnq5i3Gz1O/Y9a624chxwijcnHET2jTEg4a+kpinwVmuybZDtlmstuO8I7nXIe6bUz0HyzjxkSMVq7svhoipnmef2xvzpDs/KvSyi04iaTsemX2k32uvn2ptC7+m4aYhORe/+lYI3se65z1vi+3HC3fwid+P7JeZ43/e6uranIGip7q0YYVdVSvedehWNe9BSIH+6xFiiqatCL7tX1U7nwUP97ILis0ylgreq3DGv7VZioCNWhmyLGfCq+XPfIVS4es6aLUZKslcFqSZn5gWPt1kkGyFM9kGCoPIEhRqJmERCQgAIfkEBQoAAQAsUABWAGQAZAAACP8AAwgcSLDgQAECDBpEqLChw4cQI0qcyBBixYkYM2rcSFEAAAAcQ4oc2fEjyZMoG148mFDhx48rU8rkGDNATYEvAdycyfPhSoQITSoMCtIm0J5IHf4EKnShx6JAWyadipJozqZUs260elVr0pVXXwqM+jDnWKleR4INC/WoQ7NG03Zc2lAoVpxi41pEK7cgWZZ1i94NAHcnQcN9CRcNaVdw24h/Ew8cnLEx3rOQ3Uq2rPhwS7gE2S52ORovTL5ZOWOtCHoy27KlFZ9OS3SiaNE+UZvOS/up7dthcwduLRkxcJW6NSL+mnx38KHNMS6v2rJm7b2YXV/269Z69JMVvVP/5p59++C/3nt7nh5Zcc3C1dHSzbqUvWb3qOGX17u/53zPToUn33cFYbVafP4N6FSACAKGkYGjCahVejK1155kAJJX4X0XYihgh8JJJOFeIyZ4FohKEZidfSVOZd+CJE2nHnYaqqWiXHCNB2OGI0ZloY8ZJpVjbMjB2KOP9XF4I2OPdVYgkfQ1KKNGQrEWm44uSrkkaQZhiWRGX0KU05EpDeYlkNKhCdtsek2ZG4TjoRgkd8Tx52SIW/nmWpz3FQldnWtlBt5nvNkJ42nXddmVXue5VWdIVh4YIqJ6KqrfnSxFCuVJVd6YJI9PjclUWx1iOVKnHa2noFFhRdVpqZvG/xhfoqwW2ih8SP6XKWpu0uhqhKGOdmteuSrJ4I4yocroS7+uyWyDj9ZoKErKatrsW1eNGO2cvc7V4G6BikksWsrWaapI6JH7bGix7rZfuYVuNyiogfWHrbspsjvkuYI6uJOyETV2pr55bUtlvE+ap5Oj6xoVrr3ZGcwklqotbO2s6s6ZocRpyuuwp/HBB7C0ql4KKaGqplprpyNrvKvJGzJIq5mxXYvnsmzO5J3NmHp8YqX5OijqvB/LWetO71n8FM+03qxysW8u7Ce7vzINtNMdPznyj7oeu2vXJGdN8H5cr4pckmC7zOmiPu/ZroOe4UbjTM+1jW+/cb82t3IDIv8d7FpwNtm0bMAyl/KfDd9N+IpXLw53lvaN11pjFF7XXsvo9on4cMI6VrmelzepM8MhauvYpZZrqWiCVpYO7enjnlXtt9oh9S/bD8b+Md7TpnQ7x5YKrjmy3YqI8bu21kyowYgVD+bxdk6uvHOxNr/lyc7+3HbkCD9se3S4ohy2U4BmjCG7xIf8tt1tDo/j9P42Xi902p8vEc1yrx4/1ufjr7f+jOMfhurmOFFZj2Ctuh5SCLgvpd0MOM77XpgghL5l5U1g65ML1DBFQQuypIH2O9iBivepEN6vUEab2u5MqD+uqG1XL2Th/Fz4OK9BTIZnox3ZkvOXnOEQOi3aYQ4/8RLBvgQRWwQc2w/9NKX8aS2DMxKgpjwmmiLy5EX0K2DnErhEKfaNdG7rovFUOMEtQtGE/OLbDcWYxufdMCAAACH5BAUKAAEALE4AVgBoAGYAAAj/AAMIHEiw4EABAgQiNKgwYYCFDCNKnEixokWLECEazOjwosePIEMaBABA40CSBE2KXMmyJUmVAVAe7Niypk2bCHPSvMmz50edMH0KFUmyKICGE3UOXUrU6NGHOwsqZUr1osyUDoHS1Iq1qteYT7tCndqQLNSvLYOCvIr2q9qPbNsyNTnVKFKKdcMytCs36dacAvm+nQkxbkG+fSPChCkT4UsBjydG3lv0buKzUqM2hlyS8+DJIytj7suR60ybRqfSjdq2NFCxLouq/nu5omO9gzdmdbi5LODatjnDxrg78FPXuYGPjbr4N+POeYeDrm3WMuHih6H/Zmty+lfBrKFu/zY8m6NT0QRThx8KXrFw8Xp9y4d/PrR3qojB5r+7P/PjwvGNpl+ATOVXX2bGGYbVf7wF2B16iR042W0HpkfgddY11N93Thln3nkBKoihgBpCOBdnEspGE1/kaSZachZWRWGHAz4oU4v2HbceZW6tCOKDFoqYY4z+0Sijj+cBeZKJEhnoIIpMHmmcWBwRORyACapYopBUYXkaZkpe2WCWE0IJnFm3SRYlggMmmROIRnb5W4lqcskfnNrhueZKaS5Z3YgWrgaeab1llyVPfXo4Z2bPCfqiVmOSCNahNa22oHZkXujehiN+yGJnfNI2E4OZ/mSmRLNtKdp9Q3ka55QMqf8l647DnahqfyLO6t5FMOIVnqXLKUqpbs+xBeeulf4qal4A5rrosG2u2SuvLtoJVrN5gvqlk8d+Oa2vQ1I0mXq3AcstiFTSCpKNuL1n7oUzuglrkKvuKRK7l1rnpW567rvkp9aGSq9uWAErnZYWGautT/iyOV+GAqpnlV6s3rvbp9QG/G+IOhKLHU4X15uxppQZVmjBHwtVobenztqrxn/ytPJdM0L8sLgkowxydJNm1zDEm2GbacWIvtazyQsPWGvPed34o7pFD01juczt6DS09P58E7bdUk1wk085LaLEG8scNpODGo3cdh33fCuED34bGtZKL5eq3WzfeenKcUP/DXa3NLtoms2GBus2oHWvpGe6oQ0u6dyGt6i14jlvi3COanEK1+VNUZtl5pwPXBPZIfVZZaxvwlu1q80lR/q67qaMsrMeq9q6uq9TfmCihs93d3Af+mbw6OjCp3Onzvk9W9CLyo3zzGyW916dbYu+tNnQp+uate1lh6NXnMa85MSwssu885s7+1nlsJ4crfB+l37q1365/jShry5VM+rA436/0dlbyuJQxzw6JaxdBrxeTwbILx0F74Dp+t6J0ga0tnkJTbtxlMaKRkFJFeqCzcvgXzTnFdA9h3C8Y5z3EPi4rYXnPu7LF/88CDfZyYV3w6tf6ngmwRZOkIWE8xjVorzUQ/TpD4BJMxUJleMrZsWvSBtk4gHv4y+QSfFvScRMFINzRZTNanfPshyyuoi3TU0tjHqbIRmPtzcW7o9+Puzin94Ipvk5LI5MpGPWGtSnlW1ROXrcGID6GKc/9igiAeQiqtAIyBfmz3OLNOJl4sWx2vWucGtcJPQkJ0JEso86VVMgJDPpFzhKEo+kFBijjJbAVCZLiCE0pCutOMtGXiQgAAAh+QQFCgABACxOAFQAagBoAAAI/wADCBxIsOBAAQgFGCSYUOHChxAjSpxIseLBhBEbWtzIsaPHggAACET4MGRIkh9TqlQZcqRDgyYBoFxJs2bGlxRj2tzJ8+JGnT2DfkTYMsBMozgFxiwqtKlFoiKRMkwaYGlUp1glnnQItajGqlavZh1LcKtLoF/DiiVL9mtZsUDVfj3K1qbbgUzBFpWLUWpdlQ2hohzcV6nJv2wDCzDr9y5QxDu7hnX5li7Iw0gtP9RcV7JVynhlUn3rtbBEzn/jLnV5VDDX16gXth5NVjVa065B3504G7JhtW9Z055q2fZa36QnhxbO2/TvqI+R+7xc2vBmxQ6r61UbNTbW4phR5v8lHti6X+7hh7ft+zl0XvGrwcJM/1wx6LFp4z+f+nzv8dv1lefXWOM9tdh/+smn4HwGeddTgRVBNV90/pV0nIM87VYQZ7EV2B6GAzqlIX+yqedhfCCCCJh6192XUnSK5QVhZCyW6OJHMAYm43HI9XYabUcBOB1z0rnoIIc4CWmkcz0dCeSBLW74JGEWflcjkjNahiSVC83YVEwddldjexupKBSYJoo5EZkGFilZg0yuCR2KVEXX44EFjqjVnEq6x+N6E9In5VRe+kkimzfZVSedcBL6Z3KHJpjoSoXul5OaIZrZp5lyylnpco3hpKmgN6Yk4XTgLemoo++9RqJwjKH/ORSUqC6q6kWt5ngrrKIFuKJ5LtqZmasXBWnSXMQ2B6yp2YllbJ59zfasaFym2GxQOUprK0RvgjXbp8E9iBmR5IJ6nWrfPtqlurMKey6fCJ6F6a7cRltjhHiyiyu8DCKlHb3XcaloR+ghWVGrr4p4L3VhGXxpwpxypKV68IVLHnai2uvpsQtPmnCjC4YsHMbklRooYzTJum6UJYcYEbQ+qpwyx1XaKKXAe8IZM83MWhXxxyLbbPJ0CPe81M9Dmlsv0JEy7ZHMOYds3NBOk4gzSzx3KjVmfbK8dKiKOtkf1+jNO2jS/VrMrNjbGQecy0mHmXaTB4LY3m0+Whqpynqu/4jynlMPm7Cw8PEdJ7Nw4k2rkEXvPe5lunXcppSK+6dd40RLCurViIdM2IfXbjd20wpS+Diyv3r+Gujmue1s6JbDdbrGHpnpmewV+gmt3gyjKznI+LKpWnK7i77u3b121mzs7ma66L8hQp3Y8vA2n7ehzieHdEfTIg+8RT7TJr3CxMdX/E9Hi5+1uHMX+jb64Qe6fdRqu68c/OnL/7uB19ufO8Y7mxHmMoSbJKlreMOyT+YE+Dqs/C1gxGJd0MZWtOthK3k34ZIEGcgmnM0veA38mqXAVTpSYc9KAzzbCPXVOhPyrkilyl2pbvfCBWruL6lSXeLM9zjHNa9IEuSM6a8ip7PQwVB3mBLi47QzsYod8XgYpFwUh4i2Ez7RVyX6GxWH9kPpdJB2kPLW4bS3PwcmCHUMM0zf/PRBpwQxYymUF9WuiEQi7stpp2ojAR2lJyfGZmJ0jFvdDudHilFFj2d6Xf+Sp0Q1jpGOrVok51q4xiN2y2svI1uWypiVSwoNcPz6ZCCrlbFwFY6HDwzk2TxoQNC8bXyqnJzVVle2WKZulvJCjy0Ro8BdQqaXHAkIACH5BAUKAAEALEwAUgBsAGwAAAj/AAMIHEiwYEEBAgwaRKiwocOHECNKnNiQIUSLFDNq3MhxIEaHHz92HEmSo0iFIROWXMlSIkIAAATCjPgyZsubOAXWlGnz4c6cQFvCnBmAKMGTQZOWHGrTqEeVSqOOtOiU6E+pWDVS7VnU5tWsYCci7aoTKkiEZsMqHWs1LUq0aluihUu25FancafOVYnXJN+heTvCvNsUsMK+C80yHRv4MADCPBHX9al4KOPGkx333fzY7WK3mCFKjsyVp8HBni2DDn2WMmmmZU0PhH1wNenQlwnT3kqQ9lHbXUdLtTj2I9O2DX2//U0UtVriq40fj625dG3mhS8nVU5z70btsw2D/8fJ/aJ3rcB7i0+fsyby5U9l71V5mfNx61Hde41ulneA+dQlZ919wmE1l3MFFQjfSWwVpmBSB3Z2Gn7mBRifY7dl9VViAioI3UTlgbXhddV1Z+FDIYb1WUV/3ccgex0e92FWK8JHoIQkbnTjjGAJp598qylXY1kp5uWjALS9N2FVqmH3oIoUZshhbZJt5Z9sv/UYZXAUvljlX1dmduJa9IH513fszSUgbmXyFKZYadI1YWPSZcnlk2UVF6eJN9V54X0ZqQmfaxWylNKYWIrZ1Yw8hsennXL11yaGjiaII6OpPXrhSjOi1qidTlmJZJObVordmHguaOanf3Il6pD/Zf9K5X5z9imrgm19ueR0JDIpaKS14rqfrpYC2itXnsJYaJ5olaefsYIqGZ5yv8ZKpKvKsvhbhH09y2u0tBZrGLN2fjWeS3LGWp6zdP1o7bsrhZrtWSmtO+5T0O02abzYAgUdgIPWBh64bqarnoFlAjxlYgPT1VxnDeaVG3/UPWxvxRRKmx9wemL82oDhSqZxUF+2dai4O7oFmaXn8suiyZLumvKU9rbsF5zCqickjhbqO6bNhHaX87T3Itjzej/Pq+27EyMq8Ki1UneSvqJyOmnT8NILtaXlpgZzwSSd3LFj4HW7F6yJLnzzhWNPWLZ186GtKKR6bSvpyYGOKq+fdOP/bdfdgNON873Vmt230uj6vXRGxnbtdNSGptuwjrw6njWKW+YNubxgUwo5q5RZnDm6m/e7aJAZm27zT0Wim+rqBqu7H9YxpprY6/NWey25rTnU+FI8r32q76ZLva9URgv/lHCcs338xouXijnGKU2eNejKC3458dQHXqjYiANLEavW5xsu0LZqvn35Zb6HPpx26y579PO9X6r9mtav8tZq6x92zMPhD/puxKTbbSl5EBIg4giILLjxj2zh08vOfrcmLmlPP/+KoNUmWDnuWVB6skOQ/BBmvEQd6XARQeDyguevq53JVAFTHARfxkLW4G979EtYs0YnIg3iMIY6HNFzvbynM8LFbmm2i0v1vGbEc72JNeqDnHrORSwoRu9gM5RIFa0IvzuRimGVKeG7kiixFslIgVjEVNoCAz6Myc1vX+Nijpg2KRftj25xlOMPQcRDz+HLhzi5IRkVNUI2Hm9nvIvfA72lQjYdrYCxelGEnHRGPaqNSe8ZGRi1p0e+fdA/DZMhFF/0MUyG64qWVJsbO+iz3qWyOxNbWbLa+EoWxdKMBasW9mrZEV3ur5G8/J8Ma3LDYKKpmMYUZgQDAgAh+QQFCgABACxMAFIAagBuAAAI/wADCBxIsKDBAAIEHFzIsKHDhxAjSiyYcKLFixgzLqwYAAAAgRwNevSosaTJixxJIlR4cOTHkzBjRkyYUCVBmytl6twJkiZOgThD8hw6kSZLgkI5CiXKVKJRg0lZLm1K9eHPji+nNtRadehVlVw3Hu0a02jKkT17hs15cC3ZmWaBomX7lCFXt28z3hXgsa7IrGPx5i06FilfAH4Lgg1ceDBKmjdfGp56Fmpjx4+FXk2cFqtlzBg5U2Q8tS/LxZMPC34r2nDqv5XZqlV9mXVjpbXldl7r0vVK3I4pS83tmS7x3gNxA397NXJQyMW3mo3qe3nV5gORz9btcDr15MM7N/9VDr0naqw4XX6VbNH6UPJRz2tHPzey3vBUFy8Wzt35XJWmPUaWfoDxF1126nEXYHvE6TRdfweKZVpd6iHWoF3lvRfXgdgZNiF0Fa5mmYgYLbjbYdjtVVOCo8F1nYXVociebyPKuNmF4nXF24zgRXSeezHmtaNYPgJ2IpGy2baXZTcG2WKS5HW4U2tJmsfjdwZi6ROPVX2X43zSLbTfYUdWyZSXSYKJoZgFkmlcjmQBqRiM4Ln0HXIrkhgnfmzGN9Kdc+WJI1UPYkilf6XVZ5Ke3W0o1qEImhgpl6ENyqaasy23oocvVWgVnXD2GGGJLNaoqZtWyoXpnGj6JmWR6ZX/iiCNxiWKJ2MlMaoqe57OSSt5f91Kq4Ck7jrmr4yNGRussv5VEoAsJobmpr+BSOmlzfpqUoV2kkYbk9n+iCt9n6V5LUTc/umtpFaqKa6ripYJYUarQmggtIjWputK9aIbr7ahxhYru6I+1u9EA2dLa4jQURioo2bCZilDCfermXp1OazsuA0RTG+nDztrXK9ESfqqRdCeZ9/ICstk8rkXNUmxutQ++2+YWO278rBzfnjypz+L6jFEy64J8KhIsgk0YAcbfXKiOzfaMczk8ntzoxVT/VDRSk96r6JDS8hry4TN29LYBJ8VK6PIMRxqwONyRXJbGeIbsUNtY8znk8i+/02flInZzeiK6frXNM6GG+lvuYSlm3XQSU+qMt5XTgzvenZPHnmq9EFdcLWQP+nufyD7zTO13Yqco1Gh88yTgYl7vnWGLhJ6W2NuHy2dzqKu5TDjZ6tdOXdy1qyRnK+NuqPw5b47Wut3hwq96ZMGqzfcxG6ONNEXjp477Az6nfLwfJs7/sXGMn19peKDLHPf1Xc+1vgEps7U+RPbTzzt8XOqv1fuA5W/Xrads90odyfx09x8JyPrLal381NXWZLFLdfV6V//g9/FwqaRWO1KXkaD1IkK9RyeeLBqyHuSCGu1oRICcHaqg6DsnFbB6G2LajMcIe5weJoa8u51/NtRivNqc0LQPOp2Uxti18wGxNQACn3gER5esCOsKXnriRFMXgbPhi3qESVKEqwWuIIms+nJBIwLEg3htKa8HhoRQ4czGs4c9sMzNvB4FwJWzix3JjfqTmp/4xH92NglP0YNhoEU2dzeWKSYRSuCCGTkpxxZxfRxcDx3zIy1jjWzLe4pjqbqISexdcn8PJJn81nk4iSZSCjtMGuOZOWsijNF9Wlulq0youC6Z0vFiSyXb1wgx57nS6u9T5atXJ2+3KRA8iEzfqwTYBIfBkpW3kpQzKofIZGJl1pW85kWDKfktgnORRHxauVsogHJmc4v8rGd6pxIQAAAIfkEBQoAAQAsSgBQAG4AcAAACP8AAwgcSLCgwQACBBxcyLChw4cQI0pkmHCixYsYM0ZMWDEAAAAdCSb8GFKjyZMYOSr0CHKlSAEkXaKcSXPix48GY76sybNnzps/S5b0SVQjzoFHFw4tyjRjUpYNlzad6lCoTIFSEXKkypWizKVZVXYdq1XsQLMdbwLA+nVlVrIoVVrtmBao1p134fIcqXZt3oV9/TYM/FZvVZh92Q5O7JDwVcM2AwvWerTyTbpbD6qF7FTyS8sC1WLOupnzRctPf5Y+Pdl0RNStCwbu7NrrZ7uv+2LOndq11dUQHSsOjtv3Y7bAhw9PfrBuaMmijzMNi7i31ee9DTpnCV0n15LW3Wb/fik3s9nSS0sLnwo+9ujH5dFmRv9YvW7pTZkvt6uyt/fn2rWFHGNk6ZcXfXwFJVN4ePFloE/tEQQcfeTJRZODsRUVIVLFUXhWfBdWl+FUs3EoH1grRafUeMRlx1SJz50IX4qXSWcWbyNCKGKDNP4EWHEBGljXf9Pt+OF+PmoGZEEYrohdS101yaSFH4bnIYAcDofhg0RJWeFv7hm5IZaYQQeZin+VxWJUNILG4VFDFlcYT2jOtaZt3Pn1lIcwpkkVmnDO+FCcRDK3Z44v1kimoIc9WeiSh5452YSTJTglm3g5qWamiUrYYaWIBYjpkXje6OdMsME2YJ02ikfdnB/C/0pbnqpSdp9yl27a3J0ryqoRafyJSCSnA6KIq6iyIZoRsIGuh+xtxp5KLFQnuXgsqdERuiSu1C1GJ6Ld5nmeZ7tOe62ne/EqbbIxpUcgqRONmZevAYa7WLv1vXtuo1mSSq+SmiKZ61PX2RqopQ8RjJ9FLhbMILXciodgqMSZ29Nu6z7Z63yQBhsflVGKt6/Gu47rn8cfq1vUsOteeerEjuo5ors+scysXwV7enCbdjWcL1X9hYnloCnj+jCb/14UNLLWTvmx0UIflvSuCuPl5tC55jYytpMqCxHCaW4XabkSBUo01k2fraSpWMNasKnvWVzhstLhm+TWEbP1Notuq//cGLiMLvqj3Lbum3a1gD9LLbCEW8p4kYXFJHnU0xIZrd7CQpkmy0RH3tLkil9reeBqrtfe1I3P6POPZlMdbNutmlQYiqsr2XqQr0O8LuomCthp1gbLXHnuneVM1NHBw64azguz6bKWPQI/LcaaYtz64c4T72/0Fkc7u8gHMo+10hQf6iJw7o5Ot87MY+/V1XmyDuryxse7YLDu3yvz0rGCyJBl9iIb1OJkEvvwD3Pl8RZLAqi40/FMdmIC3/e2Br/bYK6B9+OdlDA2wYxRy2c7w6CneNe9urWEbdLbnPjmBbLt4e1rsVtbC0OnQughkFHUg0ucApitVtXqdvDSIc//eFgj6vxwhYQj30YyNyp0ebA7iOLcr5pXJX2lEIjL65OCNNSq7WRPi4VLFslw15RXce995LKgGOPnOr2AkYa1SmIKY0RFmrzxijJDntq22CVXZc5MQWTf3bZHwpq8B4roM+HJkIXC2liNXDmEG/ia2K8XcjFmrbMTj/ZYSQ+SpZGBJCSNNMkuzeUPcgsL17hIyT4vOhJsFTocmjgJSr3Asn+yVBQM5+ZIJ9bLhBsj4xwd6bPH/VKYcuzKyWDjsBV2kJJujI191Le4SQoQT70ckA1xGbUE9q+W2XScNQ8oSjuBM5v9AtM2cwi1U9YGiOJcJ+m4ZJplItGFJZtRIZUpPU3tbfOYTqsjOqtovpmR7pYDPQylascphCYUYKH0ZSf5+NC/EW6R/9NcRdNlyY2W0Zoerag7Q7oyry0kIAAAIfkEBQoAAQAsTABQAGwAcAAACP8AAwgcSLBgAAECCCI0yLChw4cQI0qc+HDhQIsUM2rcyBEiQgAgARAE2bGkyZMVBYQUOZAkypcwUbrEWJCmy5g4c85MyNAmy5xAS9IUCBIhTYsri/IMylTi0ABKj/JMCuBp06sHp1L9WVMrVYVLsTJFurUh2a8Xw4rF6dPlyo03144N+xZqSLhc5QKNatRgXLN97f5tmVdvRr5PBxs06rUwUceGnar1OPnx48FWI2fMDLih27tdNXfkHNpuZ8FVJysWnXIi2dMrE0NmvbiyQ9IWX2f9mNrzbL2ka7fOanm3yt4MV8uNmzsw45FJBWbWvTF4TOY8nxuHXne61tG2ce7/bA5demO0l7nyrhvROszx2emyPFuWMHb0lJcjB0u9IPvkITUn1WPk6aVUbf1x91ts8Q1oV4G0EZcWf42lJ5yE5nkXIVgcpkWfhaVJpeGG74EWUXe2uUciRP89hOJpK9o332SMQYihhDuZZ95gyq31YlfaOaijaRI2x+NvKD3Vlon+FabkcU+6Ft5LUcq4GmY0QpmllGJp59tWTA4JnYNHwtiUlwCCiaVf++FY2GoqwmQjfZ/JVhxgNYaV55hTJhlfh2gd2OSdPeWpZ418znVhh4wx6CJkPk20JpVbhmiUow7BKZ+kTvbJUZyDevgnajnKiOd5SArlqW8UDonWkqem/9cjW6ohx1ttPR5Z15VMglpdrUZ2muub0RHJJnbgXchrsKWeWCyIhLa3ammAQiboejNy+t+2qXYo53E/gkVVgQKmGJi0H+aEbbNpjTtqubFKlm6yXe0a5o1ihspXcbztiRqb+W6Wpb2Teqtvarr1i+i/ofoqEbcFT2iltdm6qaZ60+IVV4v43ohfeUWiip/DXOpUn6ydgjxvxyaRzOLJpKZMmKu9ZkxRulXa+NnOGGd4brs9B4VzpTqzRHDQ/oob9FUoivjzjqnCR2ClrbJ8UtOHogm1sz5PvaioAVPE66S3vkxzoEbf27XEJo0tc9mPnl0sz/GGPVekDB+mtqlAjv8K8t2b5i323tCC3fGsmXZ7o3Z0E+ayu3a/hHi+jKe9cZt6Y+pySphSHl+pWrPtJqOBr5yeitgKGTLoT4veX9FyH4t5fqJHa7igFO4ruJmcgqq67WvjLqruHH/d+7Sbjy54lXX6LfF/cyJvs7KWL/182jbGLvHvkvG+u+NaOf1xw+AqTq/x33v9YNblDwv15J+2ruvcz25326FK79S51VLa2STa0GudwaSCov0lb2qywQ6sukcZbNEMRMnTnYKqVrjhpMSByguXqpBlrNIUj2HCe9QHITY7aXFQUxXkWwgTN0Im7a8jEYMXCysGwYX5zH+nmx6AvibDL9GQYUkzDg7/UXPAmZmtUADrYAqdFbrI4YVrSDyY7PDSRP5JDjlksxn3nsRFAV4Hi2/TIv6oZTgKFXGKIcsMg7JHRie6ToeZq1gV1+g89FmHe3sBjYo+GD0RhtFgJWKXH0+DR76RDpCUyhMH5YafAOavfme8maEWaTGYORJoI4NjZIinx8C8qkHlQ1+M+DQ0OsnxUveKJGsMWClBAi1Bo5TdFr9jNYUBTzSyKWUdYwbLCW4olxWyXwIDREsfxlJ1YApb47C2tVEisz7+O9ra4DbKMv2PYhcrHBsjZE1fyi6Zy9tlLG9Zw/GNb5xHNGZWzFk/dHJqkOssVrpW6M5QqXNdFbOXKpsiL8H7wROR9SSlp0jDsX0ahprUjFwPA2pCjEWMdAZ1Zy8ZupaJUhQ4XrxolzJakoAAACH5BAUKAAEALEoATgBwAHQAAAj/AAMIHEiwoMEAAgQcXMiwocOHECNKdJhwosWLGDNGTAgAgMaPIENe5OhRpMmTKAtWZLhSYMeWKWOihGkQ5kuFMnPOxFlTQEeBCVfS1El04lCgPksGxXm0qFOCNwmS/EmRKc+nWF0CgDm1ZEOhV7MWbQq1o1eJZMWKTKuVqtGwak2a3QoXqdSgd+OKnduUK96BbPWinNsz8Ma6gjESVvk3pOHED5cu/Qp3MmDEkD9KbnxwqGW7mTNajsrQ7VrMoS+vJL3QtGPUoYdS3bz67N25s3Hmds0StkzZSmlrXdg193CESQ+LJXkcd0nnvJEuNmj6c+fkWZkHoOq8LW7iSaNv/z9rvaf4nLy5my3L13dr8lbvjqbrNP3z9QOdP6YOHzTS+ftpVFtt+rl32UOmiZdbgJrpRt94Bb6F4FkKBsegTuqxZxtE6nW4YVcXEpVhfvhN5KF35pkV4m9W1YYiY/4ddFNXlKWG3H8OvpjXjaXRRWNvcWkXI3j8FXaVZ+F9aGBMQvJYY0G8WYfkdAcm1l5PDc3415XjlXVbidftpWJlqGlJ4IMJwkclltkl6WKVJt4nH3aBnTnkSSDmCKdEI+JoXFUvrhjnTVT6xeaO73UHJXRGojdmoUeSeaiMjC6q6JwiBrcgaiuuSal4gvKpqYWcLmnphvyBaupIkUqI3KV7Hv9HJIlRYrcTohCBBeud5zkJoZK9hlSrrA5xuVR18V33GGsnDdslh2P62Z+vmEK7IljSoUotjCSCVl6si9oUnIaiJdskrpP++e2dZYkbo6eDajupl4tOaB+O7TpoX6dgPllkvcX2+6x1pHnKrKtIzhqoraptid+PixnK7bXJortnxAzjaOer+GFsMbYp6apkvt6t2zC98HJr8WvZpovmmGkRfF+w24aqXMD/sprmpt5KqlNg92LUJMYgJxxyxrTOrDS73Z7qXdBnHgzSuUm/6HGPqSoNtb7RCshwU1RCN/LJjKVMbtWnIZsohZXi+u2PWYJptkV/4gtwgI9tFvdiivL/G+O3dedqoN498v3dtodR7aGzTbrbI9AdC0yx4lqP3fhVvUqdtY7gRhapxLDyzFhfdLZ6MdtagXyz3aCFTmqj1wUuMbHqqS50i3BVSK/JgRPb+rRMl8t60zkPzNnuuY+tdudeNzc2vWwanvm4FhnNqvPzPht95NMHD6TKom4OPuEyeygu6GDO9/eq2qPttmTDS/9g6qZD+ubsovZa9PEkvrnrno7bnu3i9SSwgO1lT9MW/lRFP+9N6E7kC0qt3nQcql2kYPJSDPXmZECkqa9pFqQbAlNCM6k5LoBkW1jLBOdAnAXMesaDXgp/1TOa9cwkfrHMmQYIvh1dTYVhOhoH/5NlrFLN6oc0RJwSWQYtZ73Hdn3jGpukxD6FBcyJlILi4Ta2IyrKRYHwqxKXEvc52nwwazYj3ug4s0NTUdGMZzxVGr/EQ8/ZUY1T1FNxuobDpNQRUID03cT0mKQx4ukvVNsfF9doyN0ozX8ZbJDI8mi3lB2Lj8Yzn55s2CyYsZFM92NY0HzIPYFlykymq5YjZSjIjf3vVknbH8ko9S65RTKJKzuNhmTZP8QELmy39NQcq8I7HyEtW78sJcjsV8XbFfOS4EGi/JaZPv6FhjSEixOvMkjB1GAzjNrclv70ZKMGKhGS75NWtUwmmG8eUU4AxB2yOlhOFhZug4DkZD2zd3K2vJFzn3ckCQzxVkjgAZRHAvVZC78EqYOukZ/ggtwwsfI2I/Ywi82MDf/+CNGFHrSiHo1ZRtUi0iem8ln6/KhF+bNAeDpUeL4y5Hs8+tIgiktzdxtpTbdJumzutEEsRYwZf0qUiRIVqEdNjFGTerucBAQAIfkEBQoAAQAsSgBOAHAAdAAACP8AAwgcSLBgQQECBCI0yLChw4cQI0qcSDHAQosJK2rcyLGjw4sXAQBoeNGjyZMoQWYUSTIjypcwT7I86DKmzZsUZxIsibOnT4MidUIMGpTnz6M5g04kKtIo0qdOEapsGZLp06sDo0pVWHPn1gBMR2JFylOrV6JcvQoUOvZm2a4YzyqNm3Wl2LY4m9aU+rXhTLYFAeOVCeAt34d/7zIUPDim0LBeq+pN2/jpY6t1JRfO6LTyRr5V1859qJLo4cCKPUsEbVc0Y7UYTfcd+Fr14tFgU9NU2bmubcKXSX893fL3Z7tCEaK9Dbu5b5rCKUNFrlg5boLJ4ZqF/pEzXJ+Tuzv/722QfO7w0rkfRc/wrfPoDmW/f350anentSdqpgx5rH2qcOW3GnX8YdaWeeV9RxF+m0VW03IIxhThfBUxaNiDc0140n+ZzQafaOkluJRu9XmXIHEQ8TSTeRoKOJ2LEiXG217a1aiadTDJ6J176tF3lV589YcidmJdBmNo7Xn4E5BSCakkiLkReWRrSWqY0pMpBlidgsEl6eCXPQ05IFBb+qUYYxeCCZ5YWskXI5uzrTiciXUxiWRecCboZkRyqginfW/ZSaVPgGLIJFc4YtQbh2IKF5aVY9Ll56GKCtCngoxi2dKjCnaUqWu4JcaenESSGaGcy9n06XmhFlkUhukB/8aemVylihRgGtpnK6KgyZXdqmuKGOl+u/VaJ26n8eipkpM2yFylsb5K5qat9gbjiTbSJu2zyRrqbKlJ2jqrtjCZByGmluapLa7pXhoitHTxeiViGaJL6rq6WeduvB2m12iW85WG7I5zinpdj+/6q2mk7wqcHa8Cg1rbdsLKG2a735IbLpxh7XnfbP+CCqmj24KrJ8cdj4ttmvGVrNG/47oZ85+d8vshqyZzBHPGItvFoMXFMYyzxnjKWuZLQZJ4rNEFjjzUwQ8j3aTStUKtrsoXq1rjolTe6ZnTNwPN3b3XahSevs7+im7PieqXLofUmnQ2xl7/q1nSFb5NJ8k5ov+8LJmXBVrvtG+WTWtsVAOMWuA0nks4nwf/bXOPjO3qI7gsj1ju3l4SvbjS1qorNuQdGVzxscRKPFfUObfN3WmWkz50wHqDKiVmrHvuOmywR96dwYmJhje8Rh5NcZSI3xt02Yn2p2Oivd/Oe7ZQop3wc4Z/fr3myAtnbr6Deh574aJzFHyW3wvLNL4VCRp6yuvLHq3yya8Of4ubsWYm/LrBmLvjS7NfynIFsnSpznSSCl/Q6MU9sBVLLgd01b28tsCWNbBm7Svf7RC4P55NzkHZmRj1knI95/muZ6fDVggTd7y8Wa9lttIV+DbYv1cJCjb9WdYLOxg1CvIrh/iyjv7/sGcgj5wPiALiEAIrp8GNna90rlJdzoLmJ9t1DzXbCyCU5qW9zhGJa1P83L6KZ0WTMAhNWgKj5wBXL68tZ3zH4WH5qnKqgUVQNrtDjQMpxCr60RGDs6ML/5hUG6z1DY7sy80Zm2hFNFawaCdM5MzoJ70r8nGPNBkfp/j3xa/00ICW5FcLN4QxOaINifkLX8RCqazLOUZdpzwTC5kFyNGJZ0mwxFiXAJTCj7nNMoNLJIAsVEtSrol+iBxiJ6eznmA2a4tjcxmYePRCTI5ogt6CJg6l2S9RegeA01Ej8FJJLzGxi4P+wRKSOPU9c4IPncZZYx/JSTmaQfNn8cSiGOnplpwxHi2M+UzgPVlDJ48RlEaPM44MHdQtFHYIRfgMKBsdKcjETS+LEp0nFRV4S7hlNJOt6qcdX7aw3+zwis90ZURCplDqvFFpc9PmLT9KRBOaaaFCoyk0n+hLkur0WVBKYkm9+FNvWvF4QCyq0IiF1CIqFSXjExwin5oUilZtqlRdEIE+WClrZpWp6GJpVn061q8VsyMBAQAh+QQFCgABACxIAEwAdAB4AAAI/wADCBxIsKDBAAISCjjIsKHDhxAjSpwYUeFCihgzatw40WJCgQAAcBxJsiRFjxdDmlzJsiVIkQc/FpTpsqZNgipjXiRI86bPlQlzQgyZMyjMn0gxGpVIFObSpFAzCkW4k2rOolWnRt1acGrPp1hxHuVKVmbTsFRfhuwpkC3ZpGbPtr0Yd23VuW+Tnh370mDPqXaf5rW516DWtAMBA7B4eHDJv3Ib2sVLNS5lxyYhN3U4GbHFvogxZ0Q5F3LplGdNH2wsGiLpylmdKlRLVLVhvq0nbraKm+Fuynu93s09lOhc1reF0/4dmrhOhzJRut093fjzhp/zuuVJV3py2d8Zbv8fmN15c7dfBVBXHxn68LqLhw9O77eqUayFH6JH3Zkr6/tjWUYee9wpN2B09sWGnE//sWegcBAGmCCC3Im1YEu2zeRgbxgtqFl8wIGIVIYFWjeShwqKGNd4GG5YX3bMSVTearg1NR6LLAH44mwBxFgRj77VWJt8zellYmLtFelZd+6BFuJpM0blY36XDUgZjgI+CVuUWz2YpFj0SWadjUTShuNPXvr4UphBXjUkZ2/mRSVic77GXXUWCukmWlImCZ9wXHKp2GG7rTeYmxVquCZ7NwJJJ3g9whTckf5JKmF9i/anYZho7RncoZQqeaWjZg7nqZNdBXemSz42etp3eEb/iiiNe636WIpowZfohWLmx+mlNn2YK3/A8tpmZL8melN+hor66J3vMalUtGhG1qyrkUKLqbNNKuoSgg0qyxttqFKIJFbYRgUuh2yOK6uliX746nVwuYikWK6lSK6VqW4rLqpVbqTjvQR3uy9zsf6r5GG26rdhq6QW/G6eq8I45liT8skRgBCPNyjGcbqna7bnfsotSQvyquaPIc45K3PG6sYhwLTO7HDLSb58ZMziPWxzzyUGfCCjZb5bKLKocXmSz6MlqDG0mn53dLOBFS3jhkp3lKDIqPWcsMMN10dm2PSebLHXpv489K3a8gs0dhN212y8CvGcWdwK5+02bMdZ/7ffaXbXlJ6A5uqdHYmwkSm2iHoLjDfJhe/dNuKMhTxg1CdTpGmjivOtNZh1c1i1ppifyLizACJINmSVB1k561ZrnXV6c8N9damRq+vR230/XXa3Y0ure9DeCn04kVXviC/qj7N9OW7tzutxfPuplq7nI6m+9aaOMlw05bELvfLS8xq/u8RCi+v97akGrtHf/E5p88i8Lwxy6Xf7+yih8xNrsP0UC9+0rCe84ilpXeu7TvK2JMCmETB956EWbxK4rQXaySS+amBEUHQ2uEUua+5bDqRWwkEelbBKIFQbU053K7L57nqjagn+HOfCEUruhrnLEYE+Z8D6QUxhISSJYP9Y1sOy/fCGQXTcDB8yrKtlDXc7rN+tlginGP7oie9qne2EeD7ELQ9h0lpd2iAouC7GpooT41cO/wcassnQhl8MVdPK5y3FkJFVcCTY+Hg4u64RzI3vi+IGj4RFQAZpPoIsDqC+p0E0tsaQzlpgeDLXPhVtr0WOc13E9lXDzkQvf0U0yvWClyf97YqFI5JgiUY5JHkVMUSQzOQW6ZinOY1qenTr4E2w1LxK2nJJuFTj+ZIoM1h5xC6dqdMmhwbDfiGFf1UTJdFE2Da0NXN5b9mj/kqYJWc+JZYs0aYBuenH2/TtjuZRpA2/dpvXrDGdx0LhGMXkzgIOb5b2Y9bpXPamJexph5FANBnpctZPLJonZRnzJPISyq5GdslmDLXksSYlRedcEE6dA14/iVkvg5aMivsLFUe3wstZ9Uxjr6mVQ7lSUnjBDaXDTM1KSRq7Tro0nvD8nU4xetOa5VQnIz2iKX+qoaCG6ppEzZ7/8JnUn9Bvp01lnzwBFydJRjWQ4tJe56x6VTye8pPg7Co2HwXWmYq1bIVc5lllSUvurTVYZn2rDn8SEAAh+QQFCgABACxGAEoAdAB6AAAI/wADCBxIsKDBgQIEHFzIsKHDhxAjSpSYcKLFixgzXkxYsWBHjSBDinzIUaFHkyNTqgTZEYBLAARdfgwwc6XNmwhNvoQ5UCZKmj9xClU506XAmSUJ1hzKdONPo0CVcpTatGrIpECxHp2a06pXilxLIuW69atZhkvHLtx5tu1Jg2oPsnVrNqHPhUuhlo1K16pdAEv3xuS5N3DflYa1yuWp2PBhkYnJLt4a9/FIsQJ2On4L9q9lpyU1B0U7umFowp9Jlg6gd3HrwZR/dlScGu/q1wXnGoTa2CTt2hF1Tz74F/fW1ps3Hxa+G7VU5jmRrxZ8drbvpzx3akdd9GVa7HcdKv+3aZ061O3Cu4en2tP79K6fi6OGXh6ocYaiB/PO7NytfP391eeZRPm1t999N2E2Fm77sVffQ9vtlZ5kQikoG3/NUSfgewA2yNpLUo3H0mjWJcchfLFhBZ1ACDb1XWymnaihgiyCOBxwMVIXomQTstdijR6m9uBJivUI348fBonTi5zFGKGBjIUl44dA9lchiViq9mSVMPIFYXY24khah2FylhdgHK0nJlhk3jdkjaeJ6BeWkTXXGnoBSoZZjl4O9V2duZWJJ1x6isWnnFXt19J8VgbqYWSAIjqUojox+uWjq/1W2JQZvQnlpdzx2Cih45XIKZt9AgjqjrBBpKmZFJ7/dZ57qqbq6olxLbocmGrOJamOxF0o4ahXvfcflbdWeZ+a7LVaK2LG8jdrRIuu+CGgzn56GX8DbrZlsknmSeZaxKb0V7fvfasal02Gu2y5xc441qtIPufer+3qqtGQvdELr70+4dssX/VqVHBG0g3r5pTH3nQwRgkTXObATk5MFHYTlVpotqRmOebFHIuH68btxcikbV7F9a501uLWHZ9VCmyRyo1O2LK4JX8c86mbVosmnMIia+fP7mpX2a2/WXsoVwWqqe/QPm93tGpJW5wxt5XOGrFor7LL7JFgEprtw4SGN5eRXMda69fD1ih2zm5ffDatfTJo42nqcvbul9DO/x3ey45GKZ/SEpPL97Zel1mf1opLy2t/d/6LInlZP+5gpcqG6jfklqLqsHZDH8do3hlem2bjRpr6OXS+Yggl4XEH7DjAofbMs0OD3hhum0SHHp3VRb9NMcToGa5t5mzv/vvKFp9sMOj44dl7sMaLvnP1yPYGEumvGx0t9gMWWHrc2mPEZNPFTw4suz5GGbvkkHmM/rfOPwt220J/dW7l1j3pMuaTo9T5oMc4JXUKa9ezDwFxFjHyGUpvC8zc+mYmJfHlRE7j+R+58makA/aPbqwCV0M06Bro2U9mHYtb/FpUsKfZam7mYhr8RMZCybnwTNNy0e18VzpIATB5+LuSSP9uNkEVgclEKgwJ2T42uM556jTtM6BNlogyBQoHUx3b2t12eCv/zbBqSMqg++BmKxRa0UYPAyO8xGie2rVriIzCYKauY0GpjYwukZNjFeWjHhDqbE0VI9zfwDO9FLmuihOsi+NqOCQLGrJFU1Ni42xzrK5lRW1vFBn7VNJBIs3ukibD5PD4BDvihXFKDQxX/SQWOUSOpJRySqUjy1i5kCXSfNcJziRJk0N9GeaKu4TWLU8YrV4C8JeCCqZb6Be0KNbMhIULlC2/wszh+WyDu7TbNIW4vDViLHDAZNkWS8lN0Z0yZLnbZCU/CUh+HfKF0FTdGXPYzlz+bnjVBOU8w+a4H3uO0pMpFGEJucfNVQY0hOuKXjprA7jBYIt6thrfmhranoe+jY2ABJvT/BksrPjQU8DxWa6i5dE5ljSjJbxo0D4YSVcCkj4c3dBGqcXFlLEzk2Ub44yAhlLauTRYSqKZGeuZRTShq6d+ohPWjopUCrYypRe0Z8NwmtEBJZGYMgXeUPvZpT7Kzqf5a6om9elVo14IhmIF2fHqBs20xmutZXXr6raITblOEXrIpKJdPffHvVIuoQ8JCAAh+QQFCgABACxIAEoAdAB6AAAI/wADCBxIsGAAAQIEIjTIsKHDhxAjSpxIseDCgwkratzIsaNHggBCAlCY8aPJkygjihyJMaXLlxoRriRpMCTMmzgbyhRJs6DNnECDzmwZYKVRo0GTmhx68ahTlkqjchz6VOBRqVg1UnVqFWnWrw931uRZFOrAiz3BZhXrk+xPgmiJqsXaVCTCnUxLzt3bc+VdAVfl8o0aF25Gv3cN1n1bduhgj4XPHrab2OJkxoEfd8wMMXLXroEda67IOaxekCyrNjY7euLRuJ6J/r2IN7Vbyq0hvtYbm/Zsklt/Is5tuK5rs74/S44b8u9wy3z/KleJPKPx5Xqb331u+DFm1g6lD//ULp4xW52nx4OX+n2i+K6zJxtmrDj99K956Zd9WFow6PX7OaSfUvmBN6B6oqWFIIAH3kcgV9BFSFJtwrG0GICoodcgTKp1JyFGFNrWF1n8AXheUsF51VNsY40VGGyVXecgTimKlpxE+qkG443toWigbQkyFFmOKn4IX2VZEfnfhgrO2F+TZb1HXH1HHimli2T5dqB2HuZW15e/CeiVlgwCAKNUZP50JnakAVldkFKyCFOaFvJmp5wtrjYfiWxKptSNtU14mYhGisnlageGiCdk1jWa14UzLvrfhYkCZpSkHNW2Y2Uv2idkep0+BeOTKGl6J6djekplWwXutmeQU0L/+Z+V2b3pFI+pxurfgrRmKJmojS5Z501qqlpoeXw6Z2Kw6kHJJErFupcesuZtt6yC0bYV1KardonRoXAaW6Vlcl7JaHHTprsnpIWOFZm56Ao1bIAnxVbpjQ0V++xH2e4rkb3L4suQvhhSVCy7nbK16E7sMmemuCBa6u1GBw8qrKDZmgZulrUubO3EFJ0oa4DlQuzro3aGu6KdFYm8q3IltzlrxK+CByjLNFYHHKE7K4yzaPq53FuMJmul87c8I+2zh0DbLHG7NL8c3tPwRojYmoJKm7VsKRc5ssZ1ejwpkoJVvap4AofY7VSpMuwpkYcKLPOuavu5VNuWAozlzZvN/1tztcQWHF+Q1fp7HcFM/xi4acoq+WvBicP89Ih5poRphUGTPeNxIDP+8bk4ulnfkJCL2fnUyp50KHWGyze1tzIOzOfqHtFeYuub261g7FiihmlHMb+uO9Q7g4y530AFj97pJQOurZ5S3/S78FpjJ2eND/9ZtGktn3r9bdyFzGzluhVsO9v3OZziRnI3G3qJ0+ebtPrglw4/0ezjvDLl7l+ofFvxUw/atje8NeHKV/4zFsACeDKO+U5zvBre7fiUu9jxDn3Qc1jVbFS0/lQqfa4DnqUqZEBPOQx2b4MQ9wqoP/FtpYTLc9/uUkgqFNqwdl6jGwFzF8MKrW1/LunPu/92SK9/uS5zZyPicfwlP2l954kcM5sOVUdBoznRLE1D2f++1pnxEY9VgjMW9qB0Qglmyoun6x31ZHe8jA3PeZbzHsQCFTUuMi+EYPQQA1koxZ1VLI1Qu+DMgPgSJvavY2gsoh7xqMEWFtJ+z2uks65FFDhGyZF3y1+JFokaf7mqi4/UpOnsRr8l4gaUX6GTITuZLKqZsIXf2WP3/FhFUxYOeTe8z/lESK153atrTayk6NYYw3qFKS8VJJvLJKccWJnxhy4ZWvs2KTs7FsqS0nvlNEeZp+mRDpC8bBTW2HjKiMRnVZnzjSyNqE5MsnKXnzLXBQe4TlFaEIIcPI4qsyfzw2fi5IB9YiU4BeioS9UKmjkx1Z5GN7k8rtGZCE3eCPlZPHI1VKAPreWn5rIljY7zk6WMCQTlJb8PvtGg2NKo59YCQTqaq6PHE9amBggWeU50a75SI/Zmij/iuAyKcRvUVmjlQUii6aJFBKlQb0PUHK4yla/cDbveSRnO1JMwUTXoVBeEGKsqUS1DIxwkyTPHrx5VQ1X05MPEpivsBBVuSTPnZK7KUrdVFKOGBFNbRfo9S55om3tFT1+PdleuBdZuQw3ds+g6GISNVaX+PKxg4zNSYVJHsuKjbGUF+TzMGpOQnmUpaENb07x10KikveLlUBsQACH5BAUKAAEALEYASAB4AH4AAAj/AAMIHEiwoMEAAgQcXMiwocOHECNKnDgwIcWLGDNqpGjxYMKOG0OKHNkQZMGPCkmqXLkSAACCJlnKnHnRJcyUNHPqLGiT58uTOAO4jLmzaM2fBHveTAqAqNGnGJ0ylAq1KkSqHoNa3cpRq0SsXLmCneo1bNWOYwWmNXs25dq1bIu6VDpwqFe6BjvijStzLtK6Te/+zZtyL9+Mdg0mBmw4K9zDExczNek3IkrIOikPZuz352PMIzUv7DxXbVnQIVHulcywZ2WEp5cCJQxZ9WbWo3++Hku0d2yon2HLJn3T5FjcFX9nVp51eOfiQY8HXhh8ecLGijcL7InStmnLQbFb//UOsTH37tc9M/8OuLYA8ezPP5RKF61X9HzTzy+sfn9u2b5dhplU6RHX3Fdu3RdeYPABd1qBzx0IHnuybcegdjM1yBRTjWkmYEn8+SfcThq2xxl1C35IloUiVtfVUbSdCNta4hm3HkvB7aXZeTRiSOGIbAmon0/mRViiiBbqNZ2D9q1W2kEGHumQh/y5OJGSDYnHY4LZ8fabX1ZGFWJrPgqlnn1dMocVmDeSpGR9/Mk3JZczfuTkj/8lJ+VFb/7VJ54H2kfehkCSedOeKgloIIAPRvcbmhI61mZoH1n4GqMoVhhooyCGCSKh0KkIoWlCPkonoK6VSZNoQOGn55OuYv8FKaq6qWoUm5qOaualhs5GFoRygpoTrskd+uSivWpKGLD9+SQTUbs1yquyEtHF67VLIoqkjAS+92SMMMpo6V+LabuiiQGiV6mY0BE2rZkTprYgoOp2l5GNvr1bYpjQfusrlj51O5mj0b477qqCdUinkwIDZmPB/nJoq5vrMryuc8hlChScwZp48K5L3lvxbYH5Nu5bCnLcrLCvEXtllReP2K2ix2brL76OgignaQbPmWTMs7Y6cqp/FpucjTo3y3PE7AY8dMjVRjgomXCuWWvGCKbZZ45S22krrypmd/Kk7KnYscK0uuws1SWPKWzYWddJKKsx9qu2sNnZBfDbMYv/TOqpI5pLbWRKN+vpuaU6J1KYOxtO9osINvzjkHXn7GuaGm/0GNyTE4xh0CZDCfXgGkEqa6OSS4pi6od/KrOpq3P6K+qyA/oUa4tZ7braHaPm9MC2e3wg7yuL1ffGTBOu95d+elsj7PKe3nNEbOr+6vOui1S1YCizKirgoYOrukbbY35VzFtiajTpp7vopfrU+ys4vGtjbe77Rj+G7UZ3mknfxLP7m9hgQyxBzYuAcwnOw87ktbI9ToByWxuETIc+9dztfMb625CC5rf6JTBOnxsZ/OiXpeaBzW2JEszYPrYsFAatQSqDE4tSuLvRve5lSBOeAz/WspppDnrI4eCc/3I4Q/X1MFWpWhz4UOi6zSnof8iS2EpAx0TETSpduYmiuFhytuSt73cI7F2h8nYzy2kRMcWb3hgdlqBoiY+MMjTaGbtSPRDG62O6MhbOZri3rKgRPHVkoc+45bzNpGeP9Ouju7zYQdK1cGsgbFC/yKjHMR0ufEN8Wp8kqUIimdBmwaNYrrx1yOMNSYxH4RzIQimvUdpleYvk4wOdBsXiibIrTSIZtYgYQUqO53Gl6h+9LAdBXz6FWT8K5PVsSLllqrJoz5zlIt3Ime9dsJmmUWaMopU67S2NXLAiZqFc5UsYlvF235TiOMVJTk8WkW2OxFEhBam4QqEycOFU3wYtKf/NOR0xhLKcm+youUMExseWM9nkkmgWz07JDpN/pCHIcifCL+LwoQpSJ2icVL64Ba+WvuNo85zIvtNE9FkZjWAeIzUwWM7ObIxMaEqDGdP/lbJ99triMcWZTAaq8oca9V8/+cRTe/r0eEoMKtaKEjpe3tGfDBRk65o2QgXeaJ9FYyVksJZLHZHSpIY8oO/MV7l3lTJPmppfVdRIN+Etr4/dRA1bxerWtsG1dmPF4wGxN8iT5nWVRn3nG4cX078aVHRmBavGdDVVpnori0z732LnuUbDClaHFl3nR5Fq2ct6do05nNlQMfPNT2YTgJ3lXzpfddrU5qRegiSoa+XpKmwU3XO2XFErbjOE2t3u1LegaWxBAgIAIfkEBQoAAQAsRgBIAHgAfgAACP8AAwgcSLBgAAECBCIkuNCgw4cQI0qcSLGiRYUJD2bEeLGjx48gQ2oUCKCkyYYiU6pcObGhyZMbWcqcCbIhQpcvAdDcybOizZskc/YcStThz5IoRypNWrRpyKMAkv7k6LSqypIXsSq1ytWi1opamXYdSzUoyK9k0yZFm1VnWrJSY4plW5Du26JxGcY0C9HuXZp5NUKdmNPt36GBb2ZE6Jdg4cNNw2aULPYhY5OQi0rmq9ingJeZVYodDXRg4wB0KxdUHXrrQNJrDTtMvddo7dZ8LU+WXXa2UNdTVy++/fY0ToOsUf9OXDt4ZtCudTv3/fj1Z9mkod+FnhzjdIOF0V7/1ov8+ummsc8Lbr47aPioxI/X5d01Pf3ypPm+Rxq//fzW+QnHX1t+DSacY/fVx155A3qFmW0Y0YYggOxd1h118IHlll/qVQXbdReCB5OGuf2Hm2LjRbdeRA2KyKFbneHm3U2bCZdci/O9OONdKJamm3jX9bYjRTVqZ6KHPRIXIXZBqhgjYTDupqNTaBlZ4oXfEclkh1TKZqVy5EmUJZR6cUlUivIFJiREY1p3GV1AcoWmf2qqqNuaer1JX5xdffmSak/m+GBhNyZIVVwhfuTniLapVh2hSoLJ5nB5RnrVnsvJ5aN17u03JE44lslkUIm25eKDiC6o3H5RBvdnf3yG/2oVdDUOSWuCt3aaJKUCGtqlVrWuuOqGuA5KLH89rpnimTE1WKWvV0ZaXU2q7hSbfCU+xKe2v1FbHrNUTascVKWalqCBYTLXk6vdjjucrGRCqJGEwPF6aW+gsgpfjVA9y52meLobWZRh6gsTv+8+2GmwbcIrE7AZcmpup9EGfBrDzdKXasAkCiyxfsamS9zFBH8saZifWioRxMiO/NurHAsLJ7GVouygRyzD5+jLjCYX48zR1tmxSF+yGF7NJwu65JTG9VfuqQS2+3OxkhUtadPSqSziwl7mFCjFB/bFaLauVff1esvePKy/MM2lsMmnxvatuf9+mHbUMxsZo88AC/+L89sXPU034Gsz2Sa+wwkOtkeKD261qUkf2jd+tcFsUeNcmyk22dMBuqmuWsPdkZ6cqex2rqIj+OLjw5LNuHk02xm26iGnPji3rKO+E73hjt06RfaxjfWkM/GulOWLi5mxkeLOfedHH27tW0tSRlxwsdJjDnyFlWOvPOhzTzmh7KL1bTf3u9qXfbVi7+xwROra+Dna6dO+vvPtu/z+pHm3OrnYq7Ne5JK2syEtiVr9MyD5bochuR1JdpTRlOagVjigeUw+xpPc1PAXqAgeDoDHahfI2MU5VSVrgBubGP1i9iNj0atqAhSX9sbnPmiNDnbJ692SgjeqlQTLfjx5FXP/EJa5KOVsf5QLjp48d5a2ma9J7DJbkyAVOBRJDnmz68iXshQX1DWIdMTL39yYqCjCcVGCtfsiDsPIrQCR8XXimxS2smgfxdCLb2uaoHXimDXX1Yt2dtSYveTltuKJUEuVIhkMPWi60qTwUqzjViJ99a+6zY9yiJuhoJDIQJvh8WqoolEPY6ZJriVqi/8LXwhntK0Fas9Cl3QS7Cz3wwECEZYcdFnjYPnGPYYnTd0zGgwDZDEBGhJIDhSif5ZGyZLNqFyRDIneNpWzDfqSZJmMJe5sWEULnm6UfpPYN7n2TPbpEX5NomH3Wnm2LN3KksS0pTQFWKdHCXJ8nlwmAdeJ/ylD1omHJcSnyebYyhzKk1qea5k91UhO2WGpbzlj4eViyctZhjCKoXweOq8HtlKaq5el8yMVVdgbL57LkaFrC0glNUfa4aiVJu3jAkWCS9FhUXJ+lOTv/mUz9IAolcNyoz7j9U5nztQpgVTWIKOZL9pMMzNJlWVJCadKVD71L0Vt6SYzOr3fbfOcQXRhxBSZKZ3m7pBqsaizQtlUrgasnocEK03VOla2Vo+ntoPromQExFx+UEPG8yhLrJZCTaKyp3/ZVR4Nxyv+tAyx45MrYpK0WKThpKKQVaFkx3JCjIksXwgCJl+VZ81/Jq56oaVTSkMTPXlV9Z4fHeRolbrS3lwZj6GzlWgbZQtKiGk1t7r1jTtX6bHNKmiq64sglP462+l4E4rajG1wc/tbN4VOaLYD7vF8dTaNOnS1MgJjLrWLJMIClbx4seL3joreuXY3bIJt71zlG17wdiQgAAAh+QQFCgABACxEAEYAfACCAAAI/wADCBxIsKDBAAIEHFzIsKHDhxAjSpx4MCHFixgzatRocSAAAAITfuy4saTJkw9JBvgYUsBIhShjykQp8qPNly1ZztzJU2LNmzgRugTZs6jRhUBtLuyYUOXRpyeT6jTItCnUqydrGgzaUqBOp1jDphy6FYDKjl9hil0L8azagVWXvmVLF+5bsHErzq3Ll+pepET7CmYIFvBgtj+ljiVYtfDhmYmTLrbb0vHjkipvepXq1i3BqZdjZla6kvNdq5Q9Bg5Nk6zqrqW5Fmw61DJrzK43w77pmLbs27jLfl5t2zZj1L3/PgYLGnRx5X7z+gUunSFo2BfRrtas93J1w7OhO//UPvx6ar55q/uWar6h8dLucyOGmf50ZKAT37e3u58u7eOAcddfd9YRZx9qgv13XkGSweeTeM4d+N5TCsaHF0xBTSiUXOa9NCCFCBIW4m5m0ScegHp1WOKHdbE3nVAsaljZiHbJiJWL4eW0mlz50aZchfP5iCF+emkX41sZQkiabkH6uBl30Q155HDfMbikg1fpBOWGQgH5Intp8WgleCg+peWVjdGIIphEJSfcQebZuNF6cSq3H3lYclmWm1w2t2NRdP7p2J1DMomdlXziaehRYXJZZYMRJamjmKOxuFOj9ZW15UOSwvgnbJV+Oh+KoU6Z46l8qtjoVZ7pGduVYpb/mVqqf3InJ0ajvVgemBqu6hCknlqaFZKC7sXmbwUe2hCwia31HIlnEuolgU8SKauz4uUlIKw1qnlqtZu6ulaSwk67kaq1EqndrRORK2qUMqGrKWnrnkiRkdy2u12bTr72bZ7KquansBHhSzCc+86Y6791BrjvwfEFFe27/y66Jr/zhsscUdu2JjHH+VLr75cYWwlswBNbrBGy1fa4q3pNsRjuoRNDXOCgIcf6Ksxa/RrywidzFCKeNqb8b9E/o5aWkOx2eRqTSLd8tL27ykU0002rzCHFF7NM4MYz0sxt1mO2JV981Wr4KL/VaUy12cm1ypuJobY66YID4ntc0D3G//30znQTK5tbEQ6H9qt7W7uyqF6nreRL93HKtYgZT74s4yVe3jjgkfuc0cYz3/ujieBhrTm9hfZpU9OjkZ2onWz363CjtK/+tq6lka01gduuh/tmC7+ps19nolSulCD7XnHuxJIpMvEgtya5rHYX+ffnSl9pc8H2Fr7gc9Vnl72fYZEv8tJ7ZYr486fWuT1F5uOO/ovaJn24+5aPhzzKpkFLWuhCMpy4vhczUelOdb4Cl+38Z7QoLYxPMyKUUQj3v5K9R31vApKtjJU/mVCweI6yFwbLpkHUCY8n5tIf2AZ4t2YJLHb8O937jnOraSWQP/za0gbXJsMOem55oXOcmP8gJx+s7QeA+wMY/Io1r9PRSnkKK6DDhljBCabuTTYboc42SCrB+dBlSmRSFknHQoaZcFZe9CAZw4Wja5WxVVWRWfQoNyz/Va5hyztUfeS4u4DpC4p5XN8Jx4JHLpoMKBc6V4l69rsXOo+QTFwf6BCZvtuZDV6iQ+IK7ThANrXOkoejISiDZUAaec+Qu0rKJ3dSHwgSUIeZc9AkQSUf/G1OfLR0pR6H4qerNTGE8cPhLfW3y1DCjYydkWLZLqbAnsDMmGMZoZBURLJmiiVNCvTa3C4Ex9Flc2yjxF7YXjU3h00LSFVioOL8CCjYlbNADUQYHu84R3ay0p0LhCfIBuT/ttlVcUGs4qA9D8nPf47ThbQUYEAz+Da+OTJPCkJoCBVaFD6yD4kq62URh5atcP7wcsMTZPvSRaWNhi+Q0iub9wK2yW6B0aEHnIwAVzrAlo6Te9ZsZJZKaT5GPiiFg3RaTBe3NQH6lHtAXWa3horTZL2wXl3UF0V1ek0lvWxI3ZTqyNjnn3759Kj6FF9SmYqbiG5UWEEU0Vg9eqnJhYqd89yqGynFVoyYSmo4a6QEL1nGnboRhET85uBkJ5Fh+hWgDjqTgjwpoVEati6l0t7D1BUiX+nyNpENJo5KWEyuAkeoyLNoZBPp0jCGJoDknJyvVFlJUfYRswV0aElzisZGf5LVmbFdJ8IMFknSznU5vCzWOVMX18VasK5hkWgUq6nEZEKNjJ+V5xcJGkngpe62N8oZRIK2Slkity9b+qBkrQZdlEb3obsElrTK+9vzIlZeiUXTd93713QBVr70RSHy2obf/LZTiK4K73z9G01vMo/AyfUWVBHMGuwyOKU9CQgAIfkEBQoAAQAsRABGAHwAggAACP8AAwgcSLBgAAECDCpcyLChw4cQI0qceDAhxYsYM2rcKBChQYQAAHAcSbJkRI8FQYo0ybKlS4UoG8Z8SbMmw5kLcdrcWRKhzo4WeQrd6TNoSqNDkxK1ODOkU6dKo5JE2fQpVKlYR4b8GSAkUIFes4p9uBXpwLAow44dW7bo049mCapdK7Wtz7dHG86lS9PtypwC9p61+pUvT78yA/8taHUlV8M9zT6GqRjv3MmQMerEfLQx2MWcMz/kqrLwZoue8w6cGVo0acWmJaMmrLqwbdGAnxaNnZgga9mjmcblq9Iu75tGf8MNfttwWtq7uwJQTrH0YN8+DeKl+xxv9LLYL1r//4xd53a+lq0iRt46ffiKCwVnTa/77mK47a9eFh7/PtbitNX32nLwdbYYWtkplFpWANI3XYIEvnfaXAhytaBYDV71nnwVUTVcUd/5xyF5GFZG24b+AeUhYCDOpl2K163VWlVhgbdacrNNdmFVY81oVHrUFWZjf+fxiN6JHQ534XskMsneh8MNtSOEjCHppGCcRRehUOZZqdqSBmKJI2ASwsalWWCieB5caxbY3I1ljrhUd/7p+OCb+5GlYYFa/pdgm3auWKWTRIImXGs0ITglgQgW+qajfJr5aE2KInkaiRZelV+jFeV5ZnkmylmmoADKBaOdbyKqGY4ZnnQof53u/8khqm7C+VKQVYpqK6iZnifnb6pmhKupuqYKYqEUwnhbnzxxil2bxgI1ZZ/MVhlsS87eCG2tsU1LZbWmXjtSi662COyx0nkXZayv4TreVOgGZy6r6KY2mUrtjqmtstWt6yOoyW476aXSbcnSves6ud5nAnO7q61i9pjwYEMqqKl9rjLsGJXcTayxnRVK6hCdKnrckrsTG/lijRuzWeePexpsEsrMxbjyStlK+zKx/IoLEcGT4kdvhjaCuy/PxzVWsXjAPZzYuUTfmWRiAbdcoNJSTySokBdr3TSZ6WYNMc4xF2yxsLBynfPIX1P2cdMsC8ZhsRqpS2jYReNYMcnS4f+b4Lslg+2S3U7jLfVve8/Gst8eijkgR5mWqXPDayv86pZb36qkod16aWrQtXoIdKQ2yalrq6QXbvnAJquMken8Tt516P7q+3jNTa46ekQNy0yurV2yHrhG1V7be203Upt2jI8bnfGgyZu8LdaYiky1l79H9iKovJetsXuxugpm9pB/27baIlrtYH0lQ6147FMTb77v729/tX5Ki25+iKdzLL/Gd6MR/NTkPcPpxSk+YxoACydAr30PRmmimNgSlb7j8I1F6yoSzADlIuCZbCJys5qgGua8sF0Jex08zlBIVbvnBM+EhYug4NymORVSxoVoIpuneEY30CXwYQgDW+b/3kU4pNFOT33R1wwlR7uq4Wl2oMudTTKUqR/eDINCO6DOSui1xlTxgxDZVvH89zl2kZEkIbubzFiGPiM+bX6po+DwougwNt7PiWxTng1L4qnK0bBXDwJkf/5lM4700Wo1A6TRpjdB5JRRKyI0UW8kYkf9PRJ6P/whp0rlSEqSLTauK2MmwfgsCObPdsvLHa2qpcHnbQRwEmSfB5+oRub5r5U/I6VD4hagjS3tYTKUIBJVF0didu+BlVTM7Qy4ywJesnnn61eIFug1v1Stf0tkyC9fWS8dDvAo1jyQ55BXyxdZMYz4E2IOaxmxfe2wmVJK5x/XScx2yq6c0JtPJIXH/zZj8fIz5JvkOYfJwmwSaELeBGi8+umwjewniJTpYaQyNzxsmo0lD61dbr4JylTGz6IS5eao/lQ2WCILgVBKo+FCWr6RXvBo6PRiSjdGp+NhlKbKzGm5FspDZ84yVz4dHE7Lss0b8jSWQS3mA1cYKkPNa5LVnFcGUTrHpXgroOTMpVSnmreBSgR1/cmm8jgjS3NeLilgPRsNuRc9PRW1q7qMDEUbGr0s0euBBOOkVKKzO3Ce0XI1bWTjkqoUvRoVhPBbHJTe1jES/lWtWuzbYsPm1XE1FXfa9JKDcCO+ceJzqUClJmcRW9bXlRRmyLRUXIUiU4eetoxYwyVunvNET3shLJy+IixxOtgl27bQPheyKWf9Qqchwk2cIVNXZeekU8ouj2B4DGdVZ6vR+NnvpAdkqcQEekbYUU631H0c3aIWMhyO9o1gG29TlUvS5XZsuvPk1WTPuyr4HnRo86VvSzup391Ctb8l0hMXAZxEAT+WwC4hJIKjouCWBAQAIfkEBQoAAQAsQgBGAIAAhAAACP8AAwgcSLBgQQEIBQhEaLChw4cQI0qcSLFixYQKAzC0yLGjx48gDQIAsDBjyJMoU6ocWVKly5cwJbIcuHGmwY0bY+rc2dCmxow+CeI0ybPozpEjMTpEmBQoSaNQYyIFoLQhU6pOo2p1eVVi1ZpPc24dS7FrxK9Zf5Jdy3HqzYQtrQoIyrauSKRvhy6d+9QuWbF3m76FqNfvVsAFpyJGLDQjY8NHwxKNS7kiXchFZy4m+hjiZcyRZzat6vBzZ9A83QYYDfeh6cmoX14F61my2cFqV/el2Rp37LeCddcuefug47SNH5+GPLv11M8C6YpFrDr60+rGf/9kbR37Xd+5CWL/F41XbuzCgcsTdyqdM9/p7NUbh/73eOnnyeODb964u/zG9I2F3nzyFeadXAOqpuBuy0U1IIAF2qdbgD8lWN6C/WkXkWoPTsighHsdWBmFsXEI4kDYdQjha+LtVpeKiV2IlX/PPQdWjZVlWFmDRcHYInk31mhjfCbupWN4dlkYl08wiijcQwZGmONhJ2qGXG6POUlflEyeuNZpV5HoWnlDhenik0WiBiZfYt5n5XoHkvemYWXCll6bvO2oX3bbyaiYnTzVKRN+HA0YJG5m0jgjWz4Fd9+Um9XWJWko+rnoWo1e2pNk4E3544eU+ucfj1H9eV+HQmr6qZEVXrkeZKZu/4qqkFn+l2er1uUF6FhO+lgpjhOdxlqoHtbVq5ebAuvVrrphRKyTkeWK5JHAyZcioIJOBKyjqV3HqXlQsrnbtawS66aMpIYkp6bBQVuscUHOOeejlWLqLbft2roqvER+O++mLfJq7ZlLpmowt57iWmm2KxKs03gOx3vwkJ3yJlZwxCYa6J4lHSvqu9Zt1qDG5fKVcEiH8ubxuxCLzGzH+t5qVrogzUkyuCWfelx7f1IaqVE2i0sYs00uWhzMw7pX8UsL5tvRUK/1/PKTOlcrlaW0FbpzxOKaG2Ntm+E59Mcmxirpou6yqLK3Y/NJM25NS2b2mPnSpzbM0rKa4dsbYv8VtpQE1v3hvsVpDN+z3/J9V8ZC39pwyiOSafLa/zoLW9AfZT10qmW5GmOXkUcOOc5a5x0u58F6vm9cF38bMseka0Xe5q576LXpcZ65oOIwzX567VIP96vuxAM5NcpKA6xw2wEjefDHd7Jte29cJf/d8uFe3zrqWhK67u1aU7gl9awfP3ymlV9+r/QoHa38Xj/TrOy78F2PoUvdH/ua11W1x/yt20IK71b3uZi5bz3Kcc6Z1gQ37wnQfNXaXULSRCG+Uad4McvQ/DInLuMZTnV8ssgFo7csRTFNcq2jVt/ysyxhSU5PzTuhlVLoOG2BamrgS1P96lU9CElMbwAEHHz/xMYvYNEQeT7sFxALBjokHfAiEyTUEWFyQdQpyncsDJzDIBVF0/mqfeqzooful8WG/Q9O7MMSBFP3KosRRV6WmhK3ePev/BRmgGo83Bv9FcdpNct6bamdHSWEx86dsYZyHFwIWTaxQSGMikTDFmxGiEjnWUqM5yrkWRonrQQG7487lB+tqJcpqNysjpTzm1N8hqyzfRJ3W6yZIkW4Rys98kA7lNb43IWSJtKScO8J4wIBiUW58PIk4Gsj0tBmm0mmxZe/e6TpYpJM7Jkpa4zT5SyjqSoe9oh68YuiLWWkwk4682zgKWVKWIkoccqNnJU059KGl85xxdKQINFcn1D5/7oyWjM+pNLkydhItX0KcmHu0aMGH4hPleizbWCB2gvd6E9WuYuByARhO/tpUD0pdJPQi90iwTiyrV10cq/LlvgOOjSBUhSkBt2lPdHyUOXRrJq9jKWZ5ojDPWYziEQkYkdkOreStuinTLzn+zZGNnuOs5xA7WYi12W1kfaQkcCEZgOl6ce4VRWqYAzpp2YYyQQOVJ/6k+pV84fCskryrFdKq0s7lzWq0m2UR8ImIDeaJAVq024Gy2Vu0gfRNTqUkLWUojBNSDojJo+SAkLsWCe6rw3W0LF7U9+LjtO/NNLrUxg5ZvkoItSMIvCZSqWL1ESrRtIq9ZtmtCFmv5ZKvt1OcaA7GWIGC5imGHbUbVUapl8kqsKd7hYtK1soWKmEt0oad3wSvVsQl7vZX5KFpzhlLhTtpce5OghZ3SVfKm+KUg3lbJGW8yRDoVjazV4TnIkF7PgyaVi2hPaBgrUsAec5N/OqM6+cbK1VHanWEtlzPwHuEN/6a96CNjeLPyNw+bILGp4NU8Hm06GzGnzX7bF0wJaEGIcJ7GHc+jFyIh4x7eDI2nmyU8XcTGppEyhYGHtEv8NjpXdtTMIOw3fHPCaXj3m8FSHTl8hasaB4kcxUrQGZyYeF8oifPJCAAAAh+QQFCgABACxAAEQAhACGAAAI/wADCBxIsGBBAQgTIjTIsKHDhxAjSpxIseJAhQotatzIsaPHgwIEAhhJUuDCjyhTqtx4kmTJACdXypxJUyQAmy4jZqzJs6fDkThfPtzps6jRiyEDAHWIMOfRpz5b3mQqwCnUqz2XGlzqlCjWrx61FuT60ivYsxCXNhWq1OVUtUnRyk07da1Yt2/rxp3Lt2FMhnjFEhTcl+/frYEbEi5c2KvUkYcZSzboOKnLyJPB/q1sc/NezDD3Zqbp2XPnz6j9ih6Ncq3JpI+nUl4t9TVBjKtZV3Qd2nbbxb1B2vT92qzuobnHAqgtMTZw1cSPI40I2bJsiM6v64SdXPpA4H+ff/9PPJ0hbsTe0ZvfKz6o1eCzjbdHa5ckbtB4SdPmfrx+9fOAuaXfbNGxhldkhDklHoJsFYjUSQrNd9WBqyX40oIVNggfSBAmJCFWcEFXXlAaYcgbgRvyFeJ6t7GnIXXacVhVjL6BdhaFKLZI4kfMqZdjXzgKJ+R7HPWonIiNzUhkcEa2CN5+xkUH4JJf+Rdjh8Ot92R8CSEZ2k5UYhWbjVRNxCBwK5L5IU9jdldmcxmiqZeDg9EIooAsWkQmncrBRdied4YJ6I9eKlbWjITSlxyWI463om+PbpidmYhqtih/je5oWltSpvbbi1raeRaZ+LEFWnjXnfjpjohFWqWbpYr/daqLTl6nIKhduckmpoxqiuluGNVZXZbuabjToCkx2uuqTOq6nleXWScsni0u69Ow5SFb46Wyzmjkn/upuJyn2jarWrfY3nVluH0BCii2Ogb3XmxBdRhZubtuB+O9mM5rHVnYGodvshlaO165yy6ZX4BbQsWgwacBG53C1PZp58ADZponcvHWx+fEbHUbscOecowduUrO+SarnJYH70wJi7pxs/x+nG1yt1oY1a8tU9pxl0K6y/O0LBNbU5Tj+UwRvx7fXBrQRkdrM7Bqyhyv0tWm/PPTqE4L8UpTjnvarKWi2PTVVC1s6MsqhS0V0kiD+9qSQqvNsNgfYfgz2upy/ymxxpPebDdHet/Mt63rIlyyyxV3ODiP96Et+YPSHtnz0rQiZaHj9jlLKYB8kl15nUZjfbmqI9eHsYydFufpfODmOjasvF6addtAb8rZ5YbOJntbSG8bOmqre7QWtJ3PTV7XLLE76+RGHQ/1p5wvzLxGNafYaPEBKjt0gL7nRVbTz8OJvecSBVw7jOHvWN3viRZqflG7l+iWZ0G2nrS5Gk8N9vSry19oBLipLC2rfLjrHeYeYj2cgepcqZreU8q2wJ/gKVZWA0m3uJdA6mVocqD71MvopT0fbS9z+fKgCZk2PQL+S2UMXNfhUlg6OLHNYiKTFJSAFia6oe9vNdzODf+nlcMCUo6ErZLhSm4VxJmZzF+u6h+zqic+GObtQnkx3RNNVSkEWmxbObMiSgITGCPKDzlSM1yemPM4/02EjC7UF+bSKLw1Vq6NJWzet/TCm/mQEFWRUlXhyAI9yO3RdYQ8ma+IpsO+vSmRboQc6fI4QtTAjy5nvBsi8cbBmUVxZJ26ZAwzmcRNfs14LvqP1r7koXEBMi9P81runAW3YB0tla5cJW5UychKvvJYtJTgEX84R/LUSm6C4+MOmSenSUYSd2QMHzLBqEwuMdNOjnwmwR5HRYplr4bZoaMOvVhIYHGTO9FUzjd5Jy84GrGWpLSID6V5QZRtEmTvCZMz92f/wjEaaz/p1B13ePNKdcEuRs38nz7BB7zRfZGSeAJYBMtpwU6eLX2wdCgjMZhIf1HUUJ00WfucNtDFFQuPBjOj5XYGwa2VdHJwBFVKTbrSW4K0cusUTz41xEv+oa5RQ5Rk93DKriayzJuzpKaXgtrBgTlyUytaWLQWykKj/k+bUbMicwI31QdqD0wZVEm0dikzOZUvkaSy5e0aOqHOkXWUQxURWmknMB7ira2MzKQvu1ip1DmwYXIxqMxK9TQ/Ie5rgiImT6Tq1XgaUU4HLQxj1yRF/TVxoVa9ipUSC6C0rlWBdtOZomKqms7S7rMMDS1CwwoVMgoNjXedn5VUZ0vK9i62jMGEreKU11VVNkk3p9RcbN8VwbHyVZb9+V74VLrClEXIiuI0TG4PtkznCdOyjkoeY15LXWta14tn0m5mmEs5qlpSjFS53mjIu8nCKS+SyEsPQ48awbfV7oA8C+lcBLtPsHoPv9iVr812Cpfw1hExu9MvSy3IX1aWkn8IBqByR7PBv3IRiQ5WZMsUfJQKr+3CL0StXNHrHfUiB3+HKq2EgycdE6f3vJ9kJdcUO5kYF/KVxRLwFf3nxTDaVsd6ounICMxJIQPZdIQNcXYBfOTmvS+Dnm2yfp4sx3hKGZUxzOGVSZbliW75KNzF6pexrGExTyQgAAAh+QQFCgABACxAAEIAhACKAAAI/wADCBxIsGBBAQgTGlzIsKHDhxAjSpxI8WBChBUzatzIsaPHjyBDihxJsqTJkwIxBgAAIKUAgypRypzpUCVLlzBf0tzJM2bDiwR98hwqUuhCoAONEl3q0WbLhSyVMp3a0SnDqDqpai2qE6tDll63ipXoVKpAsADMjtWqUu1VsGvjWsRZEa3cu0ezBjAq1S1epj756g06+K/JwApXon3KEOHNh34Na0Ts1O5PAY9rFpYccjHcgZ7PMlb8VvTjyJwles6s2DJr1gQfW0admi7i2GCR4sZ6Mexby4Rrz92r1yda3aBzX8ScdnNy4Emd/6VNOqLs0Y27roZNPDV17qWra/82vTqncNyi/aqX3r36dtHnC15fD1Gt1daL4XPmHjqvQfAN+fZcc5V9BuBW/OXnn3zYPSQgeUj1d6BclCUWHEfIodeeYwYqJ1mFglVlIYO2MXfdg+e1xd54JDo4mnGf0SWcihsZNaF+MuJ34V2CHTfijgE+BeN/QuoFXY5j9ahcXytWN2SLMHJHXUmCRdlgRhwmeN1u273IHFVVGhkjhiY26NpoXY7JIZg6PakhYactl9ON7REZnktTgkRjcnZaFGeGxNEpFYCsAUrTmpeV1WROBTL643A5IkqUpHkpimViRxJnaHRAUspmn5bW2V6m+qlI33C8PdpTYXGm12Zx2hH/WiSeTYao2HKLogSdoK9md9+eQOIIZUKk7rTrlcMx+WuvkPIJVZFZIkvTmcUCCaCVtJoHGazkMUXtmNm92exsj55KV7W6FtlfbwS+mumgajKrrX4T5rlRnOsS265L7zoHHbDjPlVvrie12iySgSpI2Kn3QUjwUAYHKyq/CkfHsHZc2jsZszZ6Oe9l+bKY7cQMSvkwWRyz6vHBeYV82cLyPmsylWXeV2y0pj76L7N/fqkpt9GhGxLOGOvYsoc/d1woz9D6jBxiQutZZrgkU/xamh1OeKK0ib6qcXY3xwznmFhnzfXWl+Y8UrS04mprtFt23Z/VAn/mZrLuNiciuW6X/5v3mZrB7eW3OV6bMor3tju3xVP/rOFto55d99IfeapRqovTyreYkTL91eQr7811fSpLiDS5naOs2pKFoab2xkSaHhbqorqeq4+2kj5yR2ly2Wd4lretMnkJrj7n6NZ16XuLwPvsaMfEm4m8sBSLnvmA4t4tPJ3CAhp37HUjTJHgsl5tbYO4ci+e4y2WH37VHuGr4OIA656wtgCzfSus75kk/7eUgx/VLLcnqHXIgNfrDJoqNjP24S9l4uOUBF12oahl5GrHeiCTSsTBl01QQbay4LZgpr+GOQlWymqd12I1qyBFDXETAVHjTBgxB1rkbZiyG3sSyKCveZBS8NqgBP83dTdFNWp9H1tb3iTmKqqVSIjd006EOiSy+HEtd0Zbnn122LQOCi6JIhnYxzJFOyc+a2QFLFMD72K+yKlPi0DjoRnrt5Q2HpEiZXQjuEY4xJNVSmweHJ9z4AWz/nXOZEQTER3NqLoF/e5nhqyd8xjno1VJDHKG62Ake8ZICXZrJ5DrVNEeeK7yOIuIgxTTGwNpw0/i8HtBC517WuirxISSeWSCGfgQpiJYVs+Ts4yg8FJ3Rq5ApJI91JfW9ghG9YXFZszMpYtQhLlofrKK1AvSntBGEibt7JObKyWXauiwS0VPmBXxZrzAqcNtLjCP5UwnC8kJO/gFUFxnuiN++rX/SEdGDoyCjOA9ncVOfUYSjbnCJPr8OMdRAhNhBhvoC2nJSkt+EIzQ+ycwJ4rOjnZTVf4c4+kqViOHYhGgG7NdFZEpxxiaVIXYtOIjdZk8j5rTaGkMHEOLKS6aHpOiQ2OhF9mzKQUOUJkLLBUKQXo8eqkLaSjz4Z3wpj+ndq6ofnrf//TmUqmyTIjVFNFb2EW7iL5zXx9FqREneVMikVWHShUW7nbaSBZBDoqiQhEqtbU1g3kVpRe6ayrPF6ZOQpN2f/Vg1PJXOsXtkZB/vCbLaCbZo0psrv2aKk3DNimgXWp2rPNrKv3imX7K5JaCBG1YNzTaJpUWkJLpH2RdCcGs/3YyPtGjp1zhytqmhnQqqyRf3ZQkW6besFZ05Uhw1XhAFfaulV2zH4/4Rzao2hN5z6wtZ9eCwLOilqDarK0+mVjH9y2LvLs8pS1XuFsYIsi8Rfvub5LKvtdhkKvTiS9RkVog9wmPQ9giWWLFekKdspSk2EuavgJ8UgrprIUC4uF9X1dZAXL3waW0kqwyxt4Eo9fBa3xoFjdqyp4i0cJJYquAGyvS6xVvspz5rtIW405kahh0uAVmg7dTY6TduMLegW1vE3a9IyJHdtNzcATTeFA97m6fOM5xgSu6PveWbH7WPI9uRXw11PRPhFIOWOHWOWTCoTjMYs4rmXtMWzT/dj1kJuPV0kyL5hRmM3i2ZZxN3ewsK2cTNwPm83xcK7lAu3nLpfQzn41q4QIZetEwhrSSJU3pPVcaMMmVSEAAACH5BAUKAAEALEAAQACGAIwAAAj/AAMIHEiwYEEBCAUYXMiwocOHECNKnEixYUKFFTNq3Mixo0OEAEKKROixpMmTJ0GKDEkSpcuXMB+uDCnwYsybOE/OBFAzYc6fQCvSjNgyqNGjQyEWPcoUaNKFQ3c2nfryqcGoM6lqNblyqUSvW8NC7IqRIlixaBs+XXp2YNu0cAOsLRvgbV26cdO2XGkQrM28gHsK5HsQ7127gYGy9amWZ+G+hhP/XGzX6l3IkrXa9YuRpWHLiDN33Gx4LwCwoCOLrtiyteqPjP9Cvmh59UTXglnHZjw7YW3buhlyVvqaaHHgjxcOfxgaNvKrjnvLHjg3N2bqp49jt57598Xpg6Nf/x5/PXxzuY7Pa9a+UeVYkeWT21av+zdBwgTb0kfbdq595uwpV9x+TfUnnnsaEchdfPN1Bl9BnhE3FGn3ifccgOFZFiGAEw5I138XhgfdU/hF1OGCd2loIYQjBciUiiQ+KNGJ5LklgIoOkcXfhy0yJJWNKF733Y3ZBdkYiEEtpSNUWQFZo3AYDbkhfSVOpZJnCG60pJHmRckjheiFdWV2WWq05ZMs4oYdmEjmNKZ0uxl4JpJngtfYelUe9l1Pcva4nUx+8hlgm0e5Zlpui+UoI5M7oRZomIkZ6iCidFW26IgzObqhiHqV9tmlf5aZYXo87nRmfl7mlqdinmLqI6kwkv9aoamPokrpqIFR9ilWWOGqZ4WcmvXdqmLp6ip6vSJLqpKOEYoqbaBO5SyLP/51KHp/lejdl5M6qaCZK85oqqCqNkumgzFCWeG1tybJ2G8xJqsStOJuSCOhdrLKLouzmtsTlkTWWySk+8L2rbBqTmdastwlOp6m4SpLmKMH65Ywb+MRVp2T7UL8arWfVvyVdukqu66nap7saLnEOjytsO8Ba/KaKKeaJsacLhxtjQWjpJ/N+d5mc0bx7jzvpzD9TGnFKQsl3o+QbfqnS02zHLGtPO9p45A/u3x1xuZKPdrQThKLta5oa90b1v9de2pMRXco6taq9TykwFjLbHZVTzf/Sa+ASkP6LM5HHoj0zDctd6zMbA8s899BM87xny8HJx+1K6bWJXSCyk3yiisLPtmgme+8Ma3Qze0rRSVTTfri/JY97s3w7qyo5OuhSqOxmE/JdbnkGoc7VYvtXinhjXp5N9jBEzf82FBOu3G2y3Yrbt4Pe5h03QFPNP271QdrouFna++u2EyO+vbe2PfrHNiKx3R0zBLXijiGjH6tJvoic7QcrehTX9hsV79tUSqABWpVAe0nwAYWrmVAI1L/yjcm9NkrO9p6FK2gBbLVia59k6scBYm0voF5JoNS26BvZqez56GJOyIcX/RadLF/abBJVjvWmwCHsaqhZFtkqWGK/25YohZizobbUhjZ2mOztvFIQn4yIgLx9USC7aYk+9NfFWGzJCk6LnbOo1z4Xmi54aWNS2TkjIEYZBHrXS4jocPe8sDExqBpTngfnJyWFrUcOsqOc3lkFhvFBzud8FGBfgRe7O5ISDL+h30cqVwGlagoqL0xfww7Ity+9rG+UfKBRvucxiIGyY6ocHB5SuISp0a3EQowiCTkJFdMpatURsxaqkmNw6inwh06xV9tHFnHioNAhzUPc4ErSSYHKaBhKiqZWesTNJUJKirerpl3ohnrBvhMFwEKR3h8lbqyuTnvcbMxE1SWpKjnzPSREUoIMmb+ymlEavpuecYzEo1GFv/P41XSXFmMIabsxCtZ6k6WofEhilDHpP7BEpCltBGSErrKhc4udd7sJjxjKc4aFTGjl3PNvUiJw1l2jaPuZNbGmFi+kXZSoNgUlMeCGTudwfSgRXvpF1lKt5mO83HoIqCwUEjSt0FPm9hJ3i5RKkD6ELRv27zp5VJIyx56iagI3CggG/nPm+gylhlkokKtCMgdzm+IESUa6FZoyRjisqOhM6sEr1pSrx5SfG4zKDnRCsy5QTKtkbyr6PJqSsON0oaFnCfxHASxwybno0gUbEENeD+mmKaxD7ojZPl6ugFSFrBY5F582Omt7nXSg63L3o5+OjnSHvBro0zt9/LiUAb/Zs2SIHxVOlMC0oGKVqJ11SM6e5tANJ6MmR5s2sS6F7lOGRepuU0q+Tz6oH7uNigrLQxhhRu82K61c3oNS3YHx6nxtnJmeZKUVH85RS0arFsAlBWgRGPUPEa3u5712+foW91d7fSdVoxveaf7N8ks17fIDTAABzzC9b6El0UlKRyR19/eONh19dTkVoU2UzWadjUTdWNX27jd04IYoSIu3HsZrOLVqBSgbP0v9ugk33Fed3vuw1aM/UhjNI6VtqWq8P08rDr7huh9DswwkT/swiOP7JHfBaORw+jkwkCZjamFWZX3+lEqRZlrV9yy5LrszTuC+cdOjpt8eyZTb944PS1qbpcqnUpc0UgqjPJEEZjF/L7mtkvPNfMzn6fJQz6PjrVaNXShCNdkReuLmOF1tM+0g2ZJP5jSFX1JQAAAIfkEBQoAAQAsPgA+AIgAkAAACP8AAwgcSLCgwQACBBxcyLChw4cQI0qcSFFgwooYM2rcyJHhxYEfO4ocSbJjSIQKS6pcyZIhAAAJT7acSZPky5gpa+rcmfHkx5c3c/IcStRnSqAwhRJdWvMlwaACnRZMCJWp1Y5SoybVapDq1qtgR+J8aDSsWYxjHZY9y7anUpRVs7adG1Em3K9y6dI1Klfux58A9OrlG3ig35SABdPNq/Yo0KeFFZtl3BBw38iSa9pFGnQzZq1IF9rNLNIz0rSQDXL+DPItaZMCVof2GBtoYpePX5f0Kps1Qd54fRvOrXvjSamXfwsFDjq3ZdtvRxdXnjpA8tbKZ6+26Ph0dNfFj/f/Lny74XjWUqUrVz9Y6HnuXB2+L5ge/Hr7c9k3n21auF39rVGWGYC9wUcfcVN9V1dt00FWlYHVQXbbWn8hZqFo7gm3GHTUHahacBCiZGCFIXYYH2lecQcgeziVR1t1/12oWIoorYhfi46RlWGJIvYoGYAhCmgeZw5+1ZWCrwHpo3Ua4jZbc9LF2OCS4lUWU4e3IYcZasMd6eJey+1IG4U5MnlijW8xlpaQQ3mVVoX1SZngiN3JZiJ2c7bXmYw0cskjiT3O9yeSbQH64X103hklgxKxCSaPZ74pY4iLOurhlPIROZylVupooHeD0ijYdps26Wljn3K4pIqMXnUdqfth/3bYoHfSqaRWfg71qqaxRtijnLSiOdGeYWlJqmcxPngppC8e+GSXVhmrKbLfKevrrasy+eyZReEYZqcHEcgrWjGtViGOPHn7bbNHPgQrucBVpS5TNi4IbnPuGolnfOJxqlK9ELGYoaXWLllfkTrBieCdAmbp3LrM4nQwlQNzhu1ECjcsZrtmaksexNmyOvFasRY8knbj3mtwbqB2nHBt/mLFcsrsriztlzMxlzPMmh6GboBN9tYfpfhxx9+VQK8U78z3cSnqQUKn+XCt4fLManamkvssyhc7a2egTKNaWtEU6Ywvk10XeWyd3FYtFtkVHX3tuk+jvK3HpKpZpspknv88NbREGy3rzHfPp3fbHAcestbCtbzoh9chjvffQ+IKcktPF2longgD7rLXcmdqOdU0ablQUPKGKe3pW4LXMrhb65s2RKZDnVTqWJ996L5eAxw7yTsBXDluGAKq98SjA21U5iQJT/zzXsp4/McSqi57uVlHZHLAe5daIO/GLyzs5MHGCTft+mLcfcnj9u1x9L1mOyHSNG0ed2Hvmp9qpBtPDnzMHLEfRaR1HUnFZ1aeMxfIALggARqHbq5Ln9vwlDHonOtyGjFg8yDIOucBammSAp5bgPdBQuUJZw7knApBaELYkJBPLaTg+n5FtscB7XW88xvyVKgyW9FvghganuD/zHc3me2QdECUYa6QyCz+Hc1sNhGfCLl3NR6ucFI0TJb4iqiRu03xVLkSGJYgqEXGcLEiT3NY50KFRdh9zE21AZYVUQYbBNZOd/JDmpLmB8eC2bBzDCSX4NZYqt1VMUg0M6REnnPGsQ2ykF5TpNMqRrDs5el7sGni5+74ubNdEFFJ7FMcsUe1L5atjcvqWOQg+cnW/PEugpNY6xK3OBdW7JCRfJ8gPydLNi1xKVx6YgRXt0ufWW1M5yvJ4W44y00O7maoZB80FXckBMqMllB00WWmuTjDqcqUaUxmAMUJo2Najj2xg9J3pLO92dkLI/X53Q8hNzh1ws92r9yNuqzH/0keBXJ3eoPjPX+pz3kxs22euWYn0eRHPc5TJDvkYr+oNz5Fne9dJWRd8chpO0RqrHOttKj22gdDjVbNna7E3rtUFpdmBjGlVdIlLTX5zwT1MpFJbCkTKRZM/IkvWCZtST+b1UhTYqiRPbQpR0cqOY4VFYNWQmrN7vlAeh5RdEncKeuIRbFH+tOSSV3bsPwDnq55Z3MKo1pNX/pR6PHyRlBV5Te9VagZ0rSeObyiSR1H1/xUi3JdDSUlyQoYDXJMjkr76w7BuUCcrikpKRQgStVXMNzldXaSheEesbjWxlT2K1PELCpLuFlEvoyeTXtoFYWZT1h6TpOTPSVqYara8f+xtqx/9RVslzpOPEYMgnScKjMnOdurPGem4LNQcF9aTQtiUKr0IuMPX4jN/h2QrL5lC5mIm9zq6laubP2pXzeyWBO6SIz+42391Nux0K7LmhNUoG5+liiZ5nV4vusZWK1CXxpmF1tXdap+MaVLZflSagHubntbNCWuWXeOgPXuggkKFgEhEL1ItNFEvToXCzcTw/etZUpB2irtmpOKVrRSa+NpMfZi7sSn0qpSmQstFqKoryLzqYxj6a1nhTGuZzFojvm3oD3dFJQibRCbWsZVRcI3tqRZsqqanMonu3hAjGKnS9Gm3AiD7cdIxnKC4Zu60HWIykSDcptIKcOtsuaDZ4v6GQ6nJMsxujl6ke3rnAncZieJd6/PHA+fm4VOnAJabV8btFscTMu1naezg9ZZQxE9REErmsaVNOMbu7c0SGP5u8WtMdIOg8lL08ZuFLWqqkrJYFNHlXCpBt2qL9tqV796pSJWs62rVurd7nq9O03wr/8F5AUPWzAUPjZYki2SgAAAIfkEBQoAAQAsPABAAIwAkAAACP8AAwgcSLCgwYEAEgIQKEDAwYcQI0qcSLGixYsYFS4M0BCjx48gQ4q0qHGkyZMoU0osqbKly5ckAXQMoLHhTJsOYercCTLhzJo2GQblSbTox4RCjSpdmnHjTKZQoxpEGlOq1ZdUK2a9ytXk1ogsn3Yde/ErxLA5yaqFKNbjz41r4w5si/GtXKl0k66Ee/Dm0LtK83JMe5avQb+CAbtMPDcnWr0PfQqQDFmxSsZ6Hw8GK3Ny58qWTeL0qJlyX8J+Q58c3ZTqW8FiU6v+yBp0Y4KYKeaOTXh2Y94PgY/cjbq3b7bGIxu+bRGnaaEagR5HrnW57YjOPzeOrjC3ZcbCbQv/Zkna+vTN1JmLT05TYU/zgGVPBG+TfGGBZmufx53TO/rg9bm3F37L6bcfZ671xx6CBbJnFoFC2XWgZv4RZN917SkXoWPwxfUWd3TBZtyD6iG0XH6ekbjWh9GFyB5dKv5n4lQNXjhbjBiixV11NsIooG84ymihgA3tSJGR/NEYJFlBSlcQd1RF2eGQNiqpnWVNdjcilBBmeGR0Ezm51lYJ6mejWfZJKZaU8ymY4Jh8lflXe2ie+KOXz+E5JXpFOrUgU+HphpNxrNV5mJtgDiZhhYAWd9GghA5laEF+GVmon98NxWibXQJoX59V6mkgV6xtKpGEnt4J6p1DEjiqaqPy/+afcOOZ9yalxZlKVKy5/pkkc7VqKKSMr/LEom09blmZiNgpiGqJABp17LDJ0rjsi38ixuGhnAaW7Zwbcutln52eVtGq/H3qaFH0uehil+R6Ga2g6qr7606S5XlvXeDSyReja2p5rq8p5XslriCNam9zhIl5KsFSaZZZh+getJWp795I5LoxVmwttIKKuyvET0JZar8oXYqhlWqS7JbLJoKoKcqrSYrplyzp+5K2yqEV6JJHUezgvzCLxLPFieoXMEwdD70vTMX2vOesMFfMbMwtcniraDRL3e3X9G48L4Eyk30zSlvz6VmXae4JXWeBfjyw3DNidbbabPrbathK//8JNLJ27pQdjVEPS7hnJ5t9tbhH87d0S4OXXHhuBifu7+IIq+1uw24HPTauoZYFt9ZE6xV35gzqep+5p4Ue06UXK3hts2EKnJKskEYaY5C1nrnRwqYP2vbfIf+W+6G7Tz2072bvq63Hetst7OeHipg3kszlLDTd5apEYtPNWv/7+NVGD37J3BcsoPbhoo50uqN/7OOtt1YKJfHvSZk3r5zBr/DdzUNP/RB1P6htyXdpuxb25CMvpOmsffbbX9f4xTI7JZBYKVKV7OomNRHJpmJyMmD3sDa97N1POyySjZMsx0A5qW5uDaSSrRpktrIJ0HYpdNYGW+inwiUMW1Yq1gn/E7WwC9ZpYZTrHAxFhjUhDnF9GoSXskqGRILhj2GOI1jGCqin9TxLarHrCu7ANjEjSbB629oL8BpFJqI9MIanyQ4XHTZAwMHvgi8EXZzceLC9hS9Ac7SdFINHN6tF6jIHVOLDhNW2H16LMW80WiJT5rTojRCGYyxMHsujs0UFyI+LNN7KNDeoANKuKA6b2IbauERFbXBeuSMdGXUCwhlm0XmcwyWAGGglWBYtJLUsYd/2FUaQQdBvrALWL70Sxb246IiBCxoX5+U67zWTM8+0YDQ5yaX0VFN903RfwEJYt0yeMoCRNJ8i89dNJo6zh7nEIHFk6Cpk5g2R1Ezmhnyk/0oOOlCR9yzRNyWZTxJBSn5pvCQJqwLHdxIlVB5c1zH1N747ik2g7TScMq1pUGwF6mQULdeq0vbONTJumauTJPHa6LBiPU6kadzkl7i20j22lGYvbaAnjXJBhTKxfZMCWAbZlzmSorR/GgXa5kbYU+QEUlxGZRoOtejRNKZSbWh8Ww3v9L0+2s0084yjVQW5UVzZb6usRJpM2wSUdq1NnaYs0ekqaEO2kW+dtMng5D4JV0vKVaKFGeLjQmqVltG1dAstDxiTyUs4LsWwVExUZQb6vn+Wj59RgV4Zu8mi5E2qlb+a1lI0e0MudrZDzMMi60TLRniyVnvaC1ZiywpVff8a01hvPahfYQtF2caVkKxz3VqBSTOKdrR2b0unbg/308wW967HHdBgrprFWmVsRTYLYCx1a9qY6pBHtvRQdqO33VL6qzQ38+FsQSmXkUr2tocjbSspi90hNlc5csTrZG0Lq+OBrJhMpSHOKrod/o4llk/TaTzZq9FeKpi+jfojZgsJWJjCj0Hx+db/hFlhBV84sPo9cDwl1NZvhfOcBT6QjOh3172eOD0fztRvG9ovSEK3mSgyTTqvwtoR8m914fzidLWzYxH7+JDpadwNN5tJCOMloSCjT/CEw+I8wS7EXUGR6DCrsvW2J4f70fLrptjlGeuYrP2Faewau1nw/nGDP8+K1zEL2jnhTrC/75yranGHORWbiax5ZOBy3afi9DX3jW8cbpiVx1y1ArHQIilxWlmcXMRW96jnkfQeBzmuDCZ40JBmK17jRbVRhtqpo84tydh86uK9GdVCVXRoiEOfIt+y1a2Uc4oJjWtaFifHAu61t2YpbKiEtdjHkTWyRViUgAAAIfkEBQoAAQAsPAA+AIwAkgAACP8AAwgcSLCgwQACBAAAkDDhwYcQI0qcSLGixYsYEy5sKACjx48gQ4q0uLHhyJMoU6qEWNLhypcwY1rkKFAjgJocO8rcyVMkTYQKbwL92bOo0YoLCdpcyJSpy6NQowZIOnBpU6c6pWo1+nRgU4FfpzLMurVsyq5gmaalWtKsW5VU0R78KfetXYpxyT6kq/euX4Muc/YFbPKv4YiBc04kergxzrxUccqt69iwzcdCJfelXLms3LA4K3IG2plrX9CkKY4eXVokaqVBH7LNjPcq69YXX1eNfXB2btuDcavWeZX275Y6Pwu1Gjm1cIkui4Nsytcg5KuwnyMOWrzt7tAFOTb/jxg2+tiuNm9b5t4dffLNDcezVJsaOWzv2sU2xw+0PPHzwWWn33Lv5YcUfWm551+ChW23FoHgGTjXf2lVGB5v1mGl3nCLBXiXeRbKd1lvGnp40W0blpbXg5o92NV+xg31H4x5pdjZigO2OOCLtIlYGGr+2egWjgTBuJeJ34mFWYQkXocbkV71GCOTDirZH4TzOSlhkuJhlaGOVCZJGGMCbsllfF4WVCNZlLWp2ITPTcbme/LJFmOdEvFnppwCjjiRfHiSN9aeZHknHURdCpkRkmW+xaN5usGWHqMh2agoTLcdCl6gzkVZlHmXqpQpdklyqtyn/4W6UlhrCpYhkGlK/9rgmfch2KStZbFKoGDKwaqnjHx2apWgkUo1rFjujVokfVCO6WGznlpJZk/H8jftl1H61qmzgoYZ4q6UwuQji9sOyOmSak65G4i0ZqkuT+PmWK6miGIY7ZHsgjdasfDimi243cUIKpLn/svtrdSFG1KxQbKn28B/vpuuj5QFrCpGzf2kK7lhxrupxBbqO2vF/sqU8Y/MCoXaqRcKWPDJYJbLsbFzrinravDhe5q6wSbGoFYKgnuzh8EevOyRhIn8s6gKnwypygLP6u18HbLr5sVIk0SbxikbLWZtVVMos4wmDzr2kQEnXOWo0E6dNdbz+TyTw+0RXWCe9Ll54t3ipv/8K2GHqv0SjvytjOS1C/tt9naBxwoXloXbiqLUKM0m+IHL4hxyvWEGDaXccNv54N9UR6m5lWvnvNuC7Yb+kXuyesSjrnK62vK/eqfmeoeNIl7l6FDX/majl98uN6ZoirZzt7cmOjzZV9IIILnHv9Sl8tiK3jyatut4rIso47i77jNKPrLCxC5+NsJmb4z3WXfTy5jrxdtY3NOba1/2odXzDieHwHpP0cyFJd8NrjtKm1vW/Ge7ac0ubwJEnwIDqDMDbodkjONZYR5oJwsuSjNXe97eMFgvPFXHYCTy4N6m1r2vdTA49PrdvBCIutsVbIVja6HbTAdDUvmvYzQ0odj/ViUxElptg3N6IOza9SoaJo2A9CtiDz/mvSQWynFLJFnAsnY/CepvXXPCVs+Cw8H1HQeCZSSi11g2xgXKK4oNW9YNJ2gnTvHrg9Jijxuf2MWhrWRfJUPhSY5YrNP1EYzjA+Qc3ajCiWEpe+kC39KQlz6fWNEjrIPk0XaUKi8+LoEXlGD/XOhIIO7wlJUr4OEox0AyPguCYlzlIJd3O1DWMDE6PBOejERA3dgnkihhWe/4dssIIi4xu5QS8Hw5PWD+MYz3+t/DoDkpl8Gyl1Dj3/N4RMmvmap8TxSZtcBZnyDSsIXcNMocG8kXwbRtdYqLmCbNOJJ1snJCuMzJOzFj/zmQ1TB/9PTMFSE5Ij+t71F2i+X1DpPOTaLLoKeb5P826U5/WhKTyrTh1ihlUIyi8qOvkyAvrdmoDLrmkdDx5BODls60BdJ9gsrnPNGG0iVeVFhBaalL1QXTuEVwphP6HDThN0Bkpi1sNr2QnOwpuPHpLJzkcylSh6pU+DA1TU6t6jBlR0wq1iuEVzUUgIoHkvlRFXvlyhc+XdnREqYJOWRNXAJPiNanlvNgjRTrx+haT1VWEYd2VWsVN6TXcvJ1lkwSKlTftrNDfu+gzyNdN9OZVFSO0mJ0Ml8oERoV6Yn1jkl9bD+5NsdvdlZKgothLXEKK/DhD2yc+9AUU3oSbf8tdqK4FegX9/gR266WtyWFCugGStuvqi6fitVqSrOausT6E2dtlFFyY7dclVbqiqoFbA7P18SZzdW6iP3XHX+43crKa5q2dMvT9uku36K1n78UrGyBB1I5dg2P8G2mfNfj3faes4cP1FWrwEuz/tbxqGOLXOMGbCaKUk6qvy3mJhfZYJs5UrXC7JR7GyzPWzkLoeZlZFejSeHTHvjDVzRrXcn3xRJDJZnTNK0zcbpXthK4KDD2V1uDC7N2ka6RAtXSeKHHoNy90Ln1NUtBeTNkxvzytpkjJnv5G2FraqvHwa1xhwFqlwHy8b5YJqWW3xfN0hy2nNKz71aj6bmNMtfFekj8cpoFSWM218x8b35mrUjo4M09TcXQg6i9KsPS2fZZwpzMIhJP5mLd5habliUnRqf8FyOL95pVGvKJAyqcXH6zopvzbYY57McZo3hEvAwzl7d05g6J75Wq5jRuWp3SV1eSlHnuzHBBeFYrYZbUwbxbPs2bX8kCe627JbLx7LXFYyuPz2BkrGcD6Wx+1pRuTRxlr9RXbXgKVbVNVZ19c+0X5kgMUI7TbrcB50MSZduT5G7wa+O97glmst6OoTe+b8qTgAAAIfkEBQoAAQAsOgA8AI4AlgAACP8AAwgcSLCgwYMCBBxcyLChw4cQI0qcSHFhwooYM2rcyJEigI8ALnYcSbKkyYIgQyo8ybKlS4cpPwpMSHPly5s4O8YEMLOmzZxAg1aUGUAkQaNCkypFybPoz55LoyqtadCnAKJSs76kWtAqVq1gTRJFWvVp2LMbx5o9uhat24lI1ZINsPOtXYdxm3IlWPeuX6gHUzYUPHDuX62G6YIcvLhw28M45341uPNrX8hSJTddWHmzYsKY3VoFzJZzY7YfE4d2OdppWdOTnaZ+vHqjyLwJvyIVObvn7pW5PdfuePvnbN0/eav0nRz4VeHDHwa32Jy59cDQS7veHj3idITVnRb/Txxbe/HuEnt3Dc9Yrk/STCnHBKzar3rt8GHrterctHzC5622F0MDtnfaevQ9R9SC+/G1HGYFglefg6AhuF1wDAqkloMT2uVVgxca5xmGBybYU3kEKpjdYR+ayJ1iqM1nYXEoUlfhX4l1SCF0NYr33mcPwkeijlnlSNt/PK7IHFcp/RbjfSyaFeBrL9bUo4OAERbbkEeeNdeUMzb33UMbAqkhdFyG9huTMuKHl3NsktcYbl2GtSZNZ974YkPj4amYnGWeSWRmfmbZVIVEJtolik56WOh2DCLnXZ17Ykedmzj2l6Jy+b3E6KODTqUpdZxW6tKnjd5VaoSKljVga2x1/xgqoWdeh2mKroL6Y6xdzhqZlCt1pmeMRl4G5KfSifloUF8GK2yPwRXb5rEryqqsryShaFmJld55YmU7QpkRtidp65mezfL6rbE7kXsrWgzmlSFEs9XXaJrYQUtpTvGKOC+ZKtkbHr5I8rnvr3mO+Fynl8bnGJgcjkotomZd2ZJyyAX6pnzqmvqnxM/eajFLJOqrXV+prpcyxNQmTOrBxKlosmMJa2zkyhLXfCi3tuKknlqRrtgXqs5ua+POLpvJ1L8+Pwj0zuZqWa2fFX46r9SxSW0SmCmvqySMAzVZdMC0GRnuudyKvbXEXcvGc9ho/wxShO++yG7ac8PskUriMv/Ud66ajewwfMgu/XW2fAcJk+IvB364pTTD3fCOrC0bom0547ox2FRS7nbQf2PEauZwkQ5esrWebrjXOrsLuX+L0/igtQYnDaDlY8INOuMa9WixetGaXrehQff8bcHUut555FvSRHFEGi/fmfGRAzysRuly/rCKwzss8NnuTb749eOO3TPWc+q9vM7Tfxxg9s+PhPF+8kKdfsxIhuy+pvAfqLzfU9NZ6iryvuYMzX6datsAm9awA5bPRV672v0sxDDtnQppFire5jTzrd+0L2lYsiAAb8I0Q4FQcxx0mwfBpbskLZAxlWtf/T4IQCvF5HuSq54IzdYt9YFHhv4SFsD/bKg2zS0wL+uLXPbwl8MZygg5o7td7Vr4P2KxB3siIpwQtQcrx0jRiECqohcVJ8bGcc9H8wMf2dolIjmFsIIE9GHpiEg/qh2oM3SEUuiMpkPMkcxybxxhC4u4IyLJjUqAmlbl6vO7uN2wYnmDntPQZDoari16PjoZ2aY4KSE5C44eI9EJSfKdZjWqXmU7GNc+6bEKilJpLCEfChdmODq6kYIiTKDeupiWt00xdwmzZVuaF8hb+YqXHCGm4cIHqSc+Mn87K1USJfW5SLayd5SE5nXmtzvH9euFfeSic9gIyl72zZvZnJgic4hJcm2Lj+VMjzVFtk5uspBjYFvi3jx3/0Q5ak5fxrrOOxuDPjG+Up9lZN7XSkZJabZMaYTkyEGB1b2lfNGE6qyawmworYzIUioXbSb7pgVF5/HueBj5aFSaRzeRgnGFVjRNhAIKFpYC0qXig+kY5TTTdZLypssbHQTh1r8lZfGanMQl5lq1PURm7pys7CImO6k6xNHUWxTRpyaDCSdaii919hTLPXXY0qS6kpVFtKFZ8zk2wUmSYnB9nJ6UqR+K4ZCOIXQrvab1SpQaCJ/do2FZQ9RXsOlVklwVIHZSGEgwtc+BKfKdL0cStLAuFpKAvdwgCepMg0n2sNgUW/xgN1Bwugl9grtdacOpk0eOFnKrnZntfJqv/f+sNp4TqaxJ4VnbufqPNll73Ch3CFRscrWwn13nazNr2toyN5NA4eG9vNpUJVI0lxBxaHOTIt2BUbdnLNOuRMQL2rXBUJ4a0xcPkxrc8soPuMJtoRYNtl4wtje+F5RaqNB1Rv1UdHUQrUxCrcfZ/XKrsMjDrXwDTE6hTPSrrDVsOvnbMeJN1r2YC2ndbqlMClfXwpJ9yzFNutbmho6hUFXVLkkMxmIStS0o5t2Ao4vZDV6RZXXF73AYO0s34bi3Oq5NRF8G1iv6GGSTRU9i37QqI5MVyRjGjHrRCiK9zotOSRTyQu1Y5O3CFkSCui5kpovYDNLWPb6VoJq8W2ZNXg//zXhTs5KpJ968KldoQf4YeoSK3dTR1FxDOalojhpipfawn4xM548RQ+iv0TWcDh2sMhftpbY6WtDik2X9YLdmxcpUlUFk79uiTChZmovPSzbxhfNc6lV/Wp8Rjdqlo8NQflYVuvqFcY0VnKm7yRbXBdZ1ZmdMq4weeFfN1LSmPExshBnbpqekrYuY7U87nfG1ibYrfP9L62v/NrB8LS4154w6WKpOf8uNMLk3p+yRavCs6y4dRqU3VpVWON4Nq7Pd6p1klVU73grUYVozB0x8Z9XJp7VmeL9r8Cwz2aSvOljoGs7r7QUv4J+m+N5o92KNJ2XiAse0xwmF8ZEXSVcmC4fQv1Oek2YTJCAAACH5BAUKAAEALDoAPACQAJYAAAj/AAMIHEiwoMGDAAAIEHCwocOHECNKnEixosWGCRde3Mixo8ePEhM+1AiypMmTJ0U6JImypcuXEVkGSEiTJsybOF/KrFkzp8+fJknytAm0qNGJQocCOMq0qUGVSXs6nWoUKsOZPKlqzSlTYNeBSb9uHUvxq9gAYa+SXQtxoUy3V6XGVMu2rle3BOEKlNuWrt2/A1UCHpxyKeHDDUme5ZsX70q/iH8qhryXqEG9jyMfXVhzp2WsdwlaDR3YsGacnGl6FgwaLd3RrkWbPo1TKmbYGePOJl25N+2bth3jVqj78mvDrH93XLy7dHLXqZ9jbJ4W7lnNzKc/h8vY4Xbd1h3T/75eujJf6c5nd3aMuSJ5tu9bD5X98Lxq9uLLUq4bvbns+ZmFlBVChk2mXGPd/TdgYvs9tWBBsMVHWH9DfRVcbtw1xxqArJ1lVn52UciThUSlFt5zGw7Y4X4fSqiVVBUex+BbdJGolHrU4efiVjCOKONB7cUGFmQ3pmjcZDuOleKKjfmWlHEKKogkZDTyNtiSs1XZ2pMFrYZjbnd92KSQhBVZ4lVeGrilbgCO6duB3plZIJrHgSnkcG0OSR+cXQrA4Zw0dqfllEF6eFyQE/qpIqA1KvrdmITmZ6hsiB7Wo1U2+tdni/hZ6SmBeZJ1KaMOotcYp2qKCdGNZGUaZqPmzf9Zao7u0ZkgVj1+CpSr0MGKq6wQfqZrgP1pRxRsrSrKIGlMEkhaeKf6eiulbN63VWrL3pnlfhFaF+2Y05YWlbVrxYdedq1dlOFIdIpoalPmaoruu+xiS6xbrF5JK5l6ggpsseX1O91Edtr1KL/DBneXfW46K2CSMMULcbDG5YowxReDu69REjcoYMXHAjtwxv0ezLGyFGHocax7xnqrkRJNjBrKBBMXL8wuCxvwm30xVWlalU0qsIDhjvrqXFbKHDOI2gINpK81Fx0ypisLqSVMVM/VLEcZWkWvuFUPyzNKWfe19UZdz/l10GGTPHZhCyMn8qY0+0t1wW6DzXKcgW7/DLdrKiFL97sAZng139XWRxyCfs/8toNJO3qmuijj7dvBarLreLpxRl5424yzDTnnz9KJdEuH03iiputpTPjcCoYbn9KnRx7tuv5qKXXCSmneM+o/hmsstBiLnjeDn+8d+tNBBa9zROtVmmLm+iX/K8jZmhR9cXQzl6TXD1aUb6hFbf828Q5+r3b4Kff+69o6mT4kl/VSyfSefLlIotgX0848v7fR1LfopjjlHW9oTvKYqlAitK+9DnmfwQyJ9CetbVUKJA0U4M4cBrIVUc94tdPW7UC3NNuhLTxEYt3iOIjAEyrOci4EIAlHuD8CoathXPNY60qyQ3vNiGnBARhS/yTnEaUJr3128uHTpHcmIS7tiL67CBSfqCGd+e988hvdAtc0MkiBZ4ZPQ5EVwTg6L45si4JrWb+cpj05mTB7FsFbj1RXrXO17Yp2c9/hoLQROYaMjjmDYxQ/YicxTu9+XLQaCR8YJxhukWwrNCSOLpjID65Kg69zpP2qMrkW4qyEBPxdrFK1SB9hrZOf+mQIjybKX5FSfKaUTKd6pbHUgTGNevvfK9MDQ5dIsF0VtKUUYZdLPu4yZ3gE4QFHGDEi9ol/UzqScJ7XxxXyT5rJDOMYoQlMbCbuJHvklxjHlc29TYw8SuxlDD/lmfRVq5zXW+YzH3NIX95xk+87kzrjNv+ur1lyWI8sCQX5mC8TKVBR/dRg6QTZQnjiEJRykhfUMKZK0l2Sj6xkIBgTSr43UhRHZfzYPDMq0EbhLVPDiVIiZzUroRnLZya15sWsh6UEvjRY6iTPFHdVtVupSWHF4xwT3+VENV6zpNCj5k9RuUEPppCozgzpUWuFTm/px3eBo2a2oGo9nlaVkgzVmAFPx9UBOVSkQ+SfU5Oaw4HO76BtrJVaLdhThT7GrSTFaE6SyKKJKlOLWfyITldY1L0Stq8P3Wclyfi/6Uxmp4JFWaHqJNGtKlWHlW0s4CJp1+aVzUo+RWw89SrVFnqOs1Q5W0hFBFpggQ+Fon1oWMu3rQL/DqmriXwtChmK16OoLJy2FWscMztItvzWrxedJ/yMatqRaoVTqnUu7pjVxG9m1YyhlC1X7KfEqkarWUG0rtywO0Dt+mS5D6saWJvqI0salLw/QW9SZ4dINcbIvQj11VmHKUYI1gxVEw0oX83rW53ZEX6anOxDJxjY/UbWsfgc4PbQw9f1rrJc3JIpO6epMgof1sKtRAyIB/vJGP2QT0uj7wtByksNvxXF2dpiYbmktMHOFj6BPe3BcJnWzmlWxD9i3GctAuLSufQw7exTeNt6z7w217hVHPBtURugxzk3NzllLFAkSb33WrRh/jxUfm+8liHX759UtCPlAGPmu86S3nKhXTOMy/vjL2+2v1ed8xLhGlQhV1Gup0GzRwEG1KnqUsvPzbF0Y5pVwdVY0eOBtGbdxVQws8+j2JG0XinNY3FeWoYo9rLiEspcCWu1z/JMlmKNlyeojqtmpA103SxbaKLliIkOPlmYA5nq0b6VwXp+8pTNWUp1SjnYR7VXrZNq7MMi218kzV+Ti7nBZ980SNLu8V/tbO2AKdiiP8MXi7s9TJLS78WDGze527jUHc6xUQFd93zlZ+J4npRpuR7MkXkda3k/uM4d7bW/7VlQRA+8pAU/eLIUrm+DbyQgAAAh+QQFCgABACw4ADwAkgCWAAAI/wADCBxIsKDBgwYFCEDIsKHDhxAjSpxIsWIAhRYzatzIsSNEjBcFAADgsaTJkygHglQ4MqXLlzAbgoxJs6bNmTZz6vTYEmLPnUCDDvzpkKjQo0J74sSJtKlOpQtVRnVKFSXTAEalVt1q8mpWgVe5ipXIciTJoWYJXsX5dazYskTNngU7VStat1sVhsV6dmldmSLN7sV7Uy9CqGr/MoQLYDBhmGuj6q07GWTWlZQVP6YZma7fyQIvS868mWpbzKHnFjwduDRS1nRTH1aduK3rjY4JynUsWi5R0A4ra76dOOLu4bILMv5tOHhl4ghzU+x5PLbdhm1904YufSJ1waOLF//dnloudKnMdZMPORK49eiKs2/XbhtvWfHJEwZ2HxKwQfn/0Uccaos1l1h3yhl4EIHqZVVfXuEVGBmCByLX34UNzrceYQjy5pt/ErVXl3mrpXVbhxZqB6JxjY1oYobnwaefVx8mqN9DNNJXY4w2Jpjji9cFKWOJOpLI42ysqXhQdR+RhtZ3D8ZoZIJKBihiRH7ByFeU501p3X1L1ijckO/xlZ+QR3p5IZhWmjjmgk4mJxphUZLIYIkZQgmkmpix1ZdeV45Vp5sRBpjnWVVuuV2fLnq2n4VB3UmXkvwZyh6h5QF5JphsYohei1RJeqmdClrKmHWJbtrapfh9SiFNiNn/paN+U1aqqJKzwjlRWa+mFCuqAlIJpK1FIhrsjWQ9epRfzO3FrIkiApdrptR6imVmXFqFrWq2lnkqX29Oq2i1vXraaaiF+qjgt2eSKeyvaDLpKIRlVvhsXBuiOSmmPWb4GaQ6dYsmZrUCrF6brVaIXb47CVzvmoGlF6KGEs+YIsOFVURqwv3q2ySOqwInakzlbuzxw+U+TOufBKb8sbAqM6Sds6NFa2GW1uZ8MMyQKcapwU+CNySvpXYsqocrv9SZmbp23O7LZdp8LtM0m0yyz1HB5jTTu8YJbmUO/gmf1U9purXAflpmLMdqx+z2uE3HpCbbRUcNKtMVyyp2gQtr/52SYyJ7/balyf0r9XBTty0U4M3hzPHCOxveItqripdtTo5vbbO3WGfO3ObOHbrX5RplzjHopofkObePSuenvHhqi2zgy7G8KlSgi+c60F8CajbhHi1Ne8SEgon75FgPrjPfqhP/EOkZjXzrolnzi6x6/842W7kuVyR9qheSffrd84a5Pe8nc1Syb9KvCHHvIE/oZH2BdrQ+k9w72TLAtvKn+Pm+ohjyyjc0wcFJbfWD2taQlcCShA11dbNL6iyWqVfRDGSp6Z7M1nM89/UvXXbT2gcz6Dt8zc0kAGIV8wgoweQFrYBLs9mUwHeS4yBwbyx8WgelQrTsaSRQUytc5f94Ap4bco5GphriZHLXvI0AcYiRg2Lp0NcmJu6sfDijmZ8UNrDqwUeDyutbEYfTrHRJjz9lpNvTcvjDvaXNRSd0lHDCxrmHxRGFGGMR/NDyut/xUDhShJeo7ujAPCpQY4Z807WWpiXdReiC6euaExP5nGQx8oU92p+7wJgsMYKIdGlsovk8VjAKZmyD9fmfT1jHKO2Rclido2KTCLanHRmNeKrcF74wGKRYCdKFJQncDG3ZKsbkclSqidLqgFXHBaoPjsEqVgGxF8vAXTGT1aOU85xpP2jiqkjT5GM1G9eopt2QVHySJS+rVcEIJepo6CNQKcOkTXb+MZjQ9Jc7bQn/T0mGD5ZIElM2qcfJKt6tfR1r4DPXKMpvmdCQhcQfCFf4tZMcE4vbfGhQoNc8hV4vdBt8HkG9lkCO6pEiSyQfRd0HPFdy0W5bhEm2xAfS2vhxdmRcD87QKTSUzNR6h0TmtWLmt38ez6McSeerrPhHh6qUmgXl2rsgOjHRLHWAByyhsUaH1Y4k6aZtLJ+ehipVXkYGXi9dnljdqM6QinKsLyMdPNF6z/RJi607kebypJO3ayKUl3mLqnfAuVeA9fUuLcSNF4MkWG6O8qNIFKUrLXiz2xGTM+gramQdRrV4VlZPJnXJj+gK2UfGh6q769pfg3dampZ2j9dc50qds9oA/5LIqgY8Zh8ZVbWePq6ir6kRbtVYVk9JlHKwI+pTA9Za4VKynXbc2x3VFFrMNfe2z1XUIKULVupStSaSCxvjPEkk6gHmhOmMVGbYJU6WlhdhjmVvIyMJlIKJ0LC2s2czM/VE+/o2uJ/T6USTaMRbiq5msEyuU1BkSvhCUoxIxW51e0bWtGrpwaj8r5YIWTZ3yTZcAtxlhldHw6QI2J9yXOyhYlteEl+2Kal931R/S7YSH4m+mpzxK+Fl4xur65pPlBO/MsdVHe2usX9TEL7kaaxYETmnRuZfBN+ST3MqmXWDFeP3lkvl+ToypmFEbEC3jGSZXjal8OVikbFc3FYp2P8t4EPze3+8vHmmEppltuhp0Wi2O6ryXxfN8GZoxOcH5uvP620OKMG6FRFzlb/Fq2yY7eZSvDg6p5CGynjVGrc2e7rLzswVmCX7Ke+FTNEa5solD8VjVmKNoz+7YZ67QrwINxmvGyzw4Qw9aVXXmst4G/LFdI28qbn2RL/2nxkH3F6hdlqXyUy1W2qn7GZ6iJZFhbY+faytO8k3diLldpK9vc1KQ87HV+0NDrG5Mk3H8sbpph5pZWxTdzcY3S5SZM7e7DEGi9vNxTYgv2Pm7387EtLhNlclCW5Agyd2egkHdMMV7nAQnROo5PJsrx3O5HrOmbIbr3haB6XMiYtcteUsJK8H2yryMzLb1B4+OU7D2c2YyxzFzQ75zUW7Z5PvvCpEY+rPF/wooZskIAAAIfkEBQoAAQAsOAA6AJQAmgAACP8AAwgcSLCgwYMEBQhAyLChw4cQI0qcSLHiQIUWM2rcyLGjRIUAQgLA6LGkyZMoEwoQOXJhypcwYzpUSDKkzJs4b9J0aTOnz58cSaoUCrSo0YZEBe48yrQpwZ5DXTqdWhTqRZpUs/4kurRgUq1gO3LF6lVq2LMZQQJQ+XTtQJYha7ZES7esVaJW4c4NENdsXadf2ZY12LPnTpKB//pMrNRvgK+F3R52yVjxTZaEW6q1OrGy5ZyYC/bd7Lai58+X4bZtLFBvxNCsUft0/VYyT9UQYT92LDtl4rGtcY+ebDZ05a69Kf42Kzf08MltDfO+ejp5bIR9DS7vmli39unWGVb/zj74IPTd2EUiBR8ePV+Rx5mTjdrYeWnRtjlfbb//PXmEY33F3UrqvZdeffcJxl9m3x1YW4PusbRTXvAd9pB+yenX3X0aUnbbcBQ+x15wGRbYWFfkkQagY6QBt2BGup2XIoEYuqeShPK9aBqNe13nn23BCSifiuLNZ+BBNSrWYo61SRcki0PyuB5eCT64YHU/3gWljyTqeBKWtHHpHmRVeikTmcYxiZiRYurlnXkeeolmgS6uKWRmbpZZHpbhJVnbcsE5+eNq/a1nJn4X9lhemoFyeN9pfFpG5IlGRhobclm6RSGEL066G6aWjmkkbZuWR9WdouJZpVpyMQinn42K/4mpmEChuqaq35GnX41qJSoofaYe1eugu+Ho6nq0xbdiRKHWSmCsxVZ4bJHJsgcoRM2elWZkHd6I24qwvoeplpz+ta2mJhYa7ZveJjruo1tmNWeNeSpo46dk3Yrovl1CWy5T8+pZr7oB5hsnv1b2S+y/YLHbJLpaXkvod/pWO2y55zHlMLQxsqmuwsA2RydNvEaZ7UYiG3rvtL8uHKyDl3q8q55nfkhzqgyVSmXJiQo265ET63QwhHVOB+bI3ob75rvLxqQv0WoaPeLDPnqaXodUNp1Sy1126/LTK8908MY/kkkV10d63XHVU/tsc0PGIqwxkDkXyG269ka1M95yw/8JLKUxw4R2dOg2yjOc75IdbsEhD+20Y3mK7LXE+PkZJs7MRl2zqnFfHrjfSPJNOLlhq/z51o4OTGvC1N02Olx2ul621IyWHuHNMKbuZt59o6i7XrF3Le2rSNveKmh5Fu/qz/aBjC+0P3O+aqVMypS88vsyb3fhZaX8vEOef8826oSWyvB2080cPu9dEves2CeVav7LxnvsvOqgL0/c4m1rRPZkuoJXz6jWN5gRsC7/O0wA2YewN4XrfqJrCtjWtLTiCMdNxyNc5rz3upZd7GMamaCHKvg6ww1Pfbhrnb8eVjsEMQxlBzMbRUh1wvzg5oOS2x6u+gM238QQcimUXqP/jkca6ZBuYCh02+rEwqQHLspRsRFUiOg2v2k9hFWOK4mLnCgYnckug8QCo+WCeJUZ1WxYZrxX1vpmRB26zGIWnFz/YDIhdOnLRRDUX/PeeMNR8a2HW/HjEuHHwm/da49W46HsKJUx1n1JkLa7Yhx3py5ESgl0YHSfDHHiPv1NBH9dNCT0LIigwdmOixbpZPbmmKnDha+FRyIS5YKmRR5RkIwUuyTpPmefCq5Rb3682yPj9sHOkMyN47vd3bBGyu5ZiIBkS4suFSXJUFYzdFYMHfCOmbkVMtE+kdpiCjeUTemBiIwcRIkpNxLN/tBQOntjoMJ8h8pP0i1+EYTQO20T/08QBo2euJzhzcaiNigqsmm9FCDi2POfWF4Sn6aLlj4NeronCtOf4gvdGhMJQx81FJirY1yRRIqqzKgyly9MpeM+2jpAsi0+JI2XSYmzopIGso5ghJsoVepSFRJrZn+76TFzWrd2SrKngPtplSLGylqqEm2Ji6Cy/qS53nlokznR5BehtLfDaU1cVaWlqLBaknWWUTNQKmjt7jhJLTETjyA8GTYjedafFVOZxWNrCc+aS7jKqqmEzCT1NuTK6fkqXUua0iLXFdBu3i6o0XOZNeknxLOyFFhuzadJTvoRm/mVqkLqp/OG9VkX0hWGjXRs3FY3HJQeEGh8VSPt7ukREf/+1V0yQya+pqo4urFVZHJV4kEpix/tRQakRfLmKj8H0OBiq3/Hw9EH56dXZ76mQsGrnGYfqVqIoXV+pANkZFU1oIABRmoz5VheuUlcnSaTtbR11lefpF5B1TGl7pUtA81aS+W6VoZ37YvDjOrM1rY0i4/zr3XD1saZDni7CzUwIxFsvZ02VK38jFdDgSuf8NovWuONySsVheGkhlKcG35fzJYj4ayajKYE49Fxc7PUvbT4fEB0rjSB2UiCXvC66QXrVHl3WXMJbHuwLCU1k4vJ20AKsEChF5Kxp2QsXUsuT0ZLaMlyUQ2eVqMEmuWVuMpl7+4wVAJe8iBlI92pnUv/jArtaHuNfGNt2hDO8uwsfi1DTIb6Nn3cWzMhJ/qZPue3pzMWdEQnq6SHutPMNN6j23SM0VM5OoqQPmyiFUlpRU+lyPNEb6ac51HNpgmp2lIz665Fw6/2Fp4U/ouPYem1Heo0yUz29HmThr1aa1fT8c31ly3Na1SO58iYPqpMhy2sDu900QV0KKkXbK9Oi/i7jY10oIua4ekiFspHOSfqNn21bqv4a+B21i6b7OU8E1ZRTJuzpdcNtXZX+pTDMzFsdS1BQBs4YKWNa/X2LW+wvHtA0gv4bSs50HSnGn3VfltGQxVZaxulyKBq4sgUPlJRJ4eoSSWnZBmr2BXSGzUgjf+eyCuYwHSevE9U/vJdBfukXxaczTF/ckFPDMk9f/zSzG5T8gg18w93CujhBCL+GkztQ8V2teCj7eXuJkuHywaN+Y56qXVD9UtanM999J2ct8lRp5cb1invbpsJbPZRjnbZOw6602vna3437eufybiyFdz2l+hdbOnsu2K6LniwD9HqhS8K3hO/uZsEBAAh+QQFCgABACw2ADoAmACaAAAI/wADCBxIsKDBgwQFCAAAQCHChxAjSpxIsaLFixgHKmToMKPHjyBDihxJsqTJkyhTqlzJMiTDlwASCmhJs6ZKmAxl2tzJ0+VLgTA79hxKVCJMoC+FFl3KVCnOmBpnMp3K0ylOnVSzstwI9WnOAEq1ij3JFelTgWHHqgWZ9mhBhXClpl1L92Hbn2/jypVat+/ArwjdzgXL969Xv1oBHxRcGCtBr1ARIw66V2JHt4olr6WMtvHBy3gza6bZcTBX0Qa/Mo6L1LLn0RhLvybsFqJqvHqlos4LO+Pg1JEDcF4MGepd20ln9zb4u6Di4cAhdwaOnKPy5ayjTo8q+mv24sG3d//efXY5wuzblZZ1bhyu2cO8uYc3XNu89vsY679fnXvhfMVpNSeZetdV9x98/cHVXXABFohYg6LJJtOC5YlHGHP+7WbfZ56thxWBFF6F34V56bchh51ZVR+As5kIEWi7CYjdXiri1dqIj9k4EYzzWXiiXf6Np6OPIz6XHJHvYfija95lOJ9phRlpHZLCDUnikhxOKV+MujHoZHlcyRiXhlHJOFaYhZ3WI4ksgiekmAquKZOZsEmYpY7lgZmmg+jdB92JdmK4ooh6OgZkg+/RORqihlFH3HYuVlSjog92GOWBgbWX5EeTOjgUgXN6ZuR+ml6ZF6XnuddolWQWBWqZogb/dxtjVPbpUZ+zyknUqy86iFmprqV6o6GO3ogqWXsGG9GvVCqJYpXOZppjs7uqehedYz7p6Y7b9pbdtdtmG21Ix9a1noe+OfntXq1e1G50utp0bpCcqmstu/G6my+8WgUKJJNWZjuosCQmGGqmLH5aWURwmigwnmvaaTCsCHvZlKoU2UpfVxxvCuW7q1pEa08a9zoYs9CyCmyJ+4Zc0cik4Tuuo6BRFKlskUq7saO3lXsRztoiB2nLN+ML8rAq88yxzxl3mWi3pzqNY8rAiTs1wcZiXO2Nf1r0ncXsZWo1tYY2yfRIuTZ5cMoSd2ldzVQv2zKl6B7tE6kWfp3ewpTB/w0yyHTTi/RWqgKuF4Y83gXzv88iLjhtoeF0tslSu6bx11rmuDjW8TneZuRdn3RbilBPG7apm7PZsdxlt9e3kzSNTpjPC1qYut/5Jryqmg/H7FGEerlpKudmHw7r2CzXPnxJtGv7cKEMX0p6nwlyaaLaK9mdI/Vur/5mrIMfyufjIRKLdstVa80j0mgq3XTDsh6ou0m8StoipsTVn6q/Rok4Icfa45b5lFUsl20vWdHjn9wcRq+c1YtzQ2Og46yCPGzdy2a4uaABRwIlZ1Voark5ILosqMCKkc526NOXA2u0twHG53Jx6tUB+5e6m/ivcUkrGAJlODtLoWtcmXsI9P9sIjvH9cpw8+tc9JzVnCKyrXQv817Ujji3x3VQgC+8jhOxhxInnrBIXvoh6oJGrh0KcU0OFIkXe9i6UAHPdC70mhl1xq/siUh/bFzi8rJGsJPdkW+gS2EX/2i+kmVRZ1f048jWl8OioOx1M9zjA5EVweIUcJCyg6RhSjhJ+gFSeHC0I6m05LMrhjKOHHqVdJ74tseZJG1HkiQBlRg+sk3RT/BpUisDGBvpsUdjkGHU/8ijq6LBUneT+5kvRRirpwhzS2gsppWENEqwJXOWpbzUG0/Hx4ms0XSGrGVK8Ng0zZExlFxkXdxoprVLtgSGENQjcrhHRQZGSne8TNczUTn/s/yp7zpqAt49wZbPXq6tnJCbYPeIRMoELVR1xbMKCsPZyTwiVIwhzCG4pme8kfFHomOkqBql+StdZlCVEYMdcdolpZQKTZRnLKnrTopA602zkWc0ZzxPiawmEgpiPPQpfzbVug8akT1BJAlF8wRUxgmVpkQFo1Fvac5rYjGgN/xQ5c6IOxZ6U1dq0qlF32k0+DBxq2KTWhDTuMFhxq94MWspU5UHTl9lUJy1UilPa4gsuf6UrruzK/bI9DErlU+Wooucx/R6tWfxCLBn9SreuLmTR2ZQglftHmSzKFmVbZYl4CHTImUWWC190J4N+Se82MpJkISWpKUCWl1Ne0PU/9ITqVl1LBQx2FKGrkxIXLLTKv2FvDpmMpaxg1g6u+nW/X2SkKYqLm65BsDUyktrv1JcGFUqxtXeMKxVuuJrkdI2lOAqctp142VzZ0loknc2j82ldXW4FvBa7n5wfWJUXyq8/FrVk2z9Yh31BlGiVZepX/yvUxeWKi7NMqmbhK8WA2lOvpp3Yc3pLmInej9TrrS6Fb5rTTScN9WuM7AvbfBNsbrcnZHMlUq8LTGpRVjGupWvASZrNUU7Xx46t8STBW5161dQ5mk2t5H0cSoZXODP5YrIgqQkLmscOBb5cWgVMxxVUEplqI2wnSg+cZDlSZenQlirO6WlVOOX4d3qOP+myNVtml3Y2TM3likmlWkQGQVSAd85oSOS7mZmquceL89fVrYUFQ0l6DIzGa+ATvAcP/InBVfl0WKWz9rImZFKuzkx7YES0IpXY7GaVGkELjJP8ntU8DYahbITY88KJ8UBSRhOYiWejmRz26iqeieiHl+ucVgfXpvY11Gmit186mdqUSpXP1r2hJuN2GeD2D51I2Nht+na2saPp/Uln7YljNluD8xlv3bkrid9UQkbCHid6k2x2Z3ZOXvWedo0tK2BuO4fbxDCjUbT1yz95qKC7ajhA3gM75RRO59J0bhdJedw11AhHxSXi4J4iKfKaLXGctTb9WCyp1JeJTKmlQa4TyJz/31Tc2FY4xr1T6/vbb4WHxZLBlp5x99rbKz+D14EHwvKPAyadT3PSyEKOrBNDMp00VDE6XY0l83q9AVCfeTmuXK1bayvSjoc51pvc44ReWSlb5ncoQYo1zn680B/WjOFpXZzlwyig28Y577NceDYafa+aFfL9uP72/FucRDSOzdRJzyQ5j2uYJNY8VVv+3Goqs/BA8pSNsc3W8AMeSzys4ev7vxK9kn3hYvePl8/vV9SP5KAAAAh+QQFCgABACw4ADoAlgCaAAAI/wADCBxIsKDBgwIECEy4UOHBhxAjSpxIsaLFixgROmQYgGPGjyBDihz5kSMAAB5JqlzJsiVEkygdupxJs6bIkydt6tzJ8yFOAD2DCgWZ0mDRoUiTPjxKkKnSp0k5OjUqE6pVnVKrRpx6tetKrgJ/nkwI1qvZi2XFxix7ti3EsVo7kg0rNiJct3gP3i1I1qFauzHzCpbbsKlfoAN/EtzbMOfgtlkN012Mk3LKhI4fD+27dG5ixIo1Gu7LVnNLzhpTOg5NdTRp00kzf+4cmSJri4xhg5Q9OfXGuD4rY8ytu3PwvaglfwxNWgBvvs4RFxetF2fWo6UNMif93HD36QHUPv/PHl76S8+3c9cuDJ7yX+gXv7umK1v9b+XTMYufX1D2esJviXddVZcBV5x+7zV0lH/3DcSVeIHJVSB+7X02XoPsWUYWcdBBSBuBIFZY3oUZAqihflwhWJdvFJLX1nvJwVeecRLB1BuFt4nonnAxKvddWTbOKCN95uko12pFmlidfOdtZSCDTpqm340OGkhkRik+aV6Wujk1YXWuMalahMERZaVXXoYIZpVTNvnZg0lW5KJbQc4U5H/N0ZXVdiV2eVhNd2IoIXoRqsjenFalSSN/VPFJkaEWFnqmYIpSx2iHPE5aZXrWCfpYXzm66Z1wgCHZW5vswRhXj2eBSmqNq0b/x+SVQjqGKoCqUoWoSxAi6ehEqNnqmXavclkraDHBtetMvSL7K6yBOnWbsaaWh+KwV/kap0W1MWjsoiNBqZS2InW7JbatiRruuV399J+emqoYarpRziYklpry5K6n1sYr64r1BnysmU/BJGaDXx6HGHkL9rojvf1udtjBh6qpcJ+wEuthpBBzyJPBZKo7kbjAomuvgmcCaTFNIKscH7uPmkwlqxSCuyy3sb7b36stGkizkkxeWOeQPWHnGZw/rnwpjttSibLTVUrc2bRxqdUw1D42LbKSRLqaMMs+/1vziJ0Si3XU9+IMcdcbhnxzuW3PS/ZzVqvpMoBfknis0QXH/81zpHSL9eXdeP4pI5J8C7WvxklCWiamTNdb36vexhpb2TtfKDfUt44puXmcLs01SwOyjVbK+aJdsudpCxxU6WQzjPrpcmJbbclP2Vcp4xgPvduKG+sMO8Yr6R72xaP7vhzw++Ft+aBjf0VoWs42b3N0Xys7cfM/l5i0ndNrqm2Clh7pdlXaE6nqt62rTnrYBaLmOJuowzm1cIuXr9zuI6UZ/9Fig06W7KeR0ORvbWjj32nOFCqQTY5qQ5ufwmY1nIXJTCVIa9z2HlgsQo2KguQjibDeVr5qbS5tMepe+86mPpj9jngYRB+yaPW4p9EPMDVcUgdvYsHXaUlvtZPW3/9OCLVngatigPqhBk8nxMCBMElG1J/ziqe1ZlGwYiO03bYOiBv8JQt0IUPgCwPUrNo1xoIx+g4XK2LAL2rIdS4ZUxtDiMLDwER5bFzL9ky3NakBrnqhEtdeBqk1wATLix5zn1nI98Se4dFeiXvYCqH1GqQwspB15E/Qekg0Wl1RgJVMYh7Th6mDDS8k7/lkolK3L6OdUH4XfFkb8XK3VOmxRDqjoMr897xV4g5tpBxc1TC5S/j1Mlte/OURgeZCXIVRkTEb2RJpMsuMbY11uLTj8TBCPTGyZI6cRCIzh4Y4w/HxkB8i2eiEFb11kUtJtRkTOZE1T+R40DfqvBo8Uyf/y+qhzD662mCmyLOxdvJuTcv83Tu9pjTozW2g/HwoECUiN4rFcJPCZFrwBMWg9YXSNn87FbZIeCtiZdR9ZZziycy3nTx1UY1obCjB3KfCgOYwobETHyaRdy3wOTKiP9OlEru5PGElUnpp3KkUvVkgdqqtfD97JNySOlM4ZtOpZoTqBaXav+gY1Dc1Xd4ooajUq4a0q+pc3UepOFazPfWMquwiQYl5TxpGDJROSmktEfrNZ+KQklTilNGypFd//XWBe20qwNaZzGgyNq5whCxgrWlWqh30k7k8K77c6sv2WZaMZQWpTR17U6Qo77PIYyteSctXkuy1Z3Z1ZTPzFloS/9Kxqn3cZ2xjlU81xdW2i0VqLJPHrz2FU7cBGi1O71c3xA43cdD1KnJhyLnnAvVfa4yhMu0l1B0ZV4WRvKhmtUtZ7tLVu78h5TJJ+MHQJpGQWCUuH/mjQGjCVr5X6SnZspmu7MISp+wTXkTNRET8nu125sUYBBv6n/h+LIBwxObOijjDx57ra+IUaVS2+dXPGVVAwxQX+0r74PUOGJiZglDDRDw7irp3J53DHocdWlGIUgZeY5sTe9F6rkT+z66SpOpde3fiHbs2Z4bNXPUOySnjCbLCUkLydj3ZKQeC0ckwQ7Bp3klKB0sUc73xMlFbaGSbcPmWQloxiG+c5mPmsP+5sGmZQDW3oiZWMab/hSR3XuzH/BV0U3VW4l+b02A8Szc/fhNYeCXIsUaDy8ufSrS6Fg1hJUvy0ceNtAqz295RnfGOkv4xisucxE2DuYAd/DCoISVqW5LaJvqF63jliDmYYth8vKQummTcXouS2Zw7u3WsV/tqUTrze0TLbjltKM0CR9qWyNboM5ft0GaPl5aH1uGIH/pPNMv6sA+9dVdKquRte1S9LL3zjgA6mGq206VUZjYzlU25a+fF3fYdFK1Fmj3BhfjKfHbLduAS1z+rucOjM9LA3fjSxR483whH9GeLuWqOWg+aKQR2lCfur0PmuYUTlTdXKRVAwtmNwduN+1qx81vyJJ+UyPOdrpFcPOWSrDXhk1x57s7bVVYJcbk66ijAaRRB7E6TbUedudAvLaOi05HWw565m2ApWcY5Ss5Sp51DyZ2RjULbr1l/XKGtLXQuYj3solUpC//Y6/PFHO00Z21KlVtKsMOds+Wd+2obdeq7O5aAf8at37MK+IsLfvBYGS7iSa7zgwQEACH5BAUKAAEALDYAOACYAJ4AAAj/AAMIHEiwoMGDAgUoXKgQocOHECNKnEixosWLARgyxMixo8ePIC0CGAmAYMOQKFOqXGmQZMmBJ1nKnEkzokKXNXPq3GlSAE6eQIOCjAlTI1GhSJMaPJrRqAClUKHeJMm0Z9WoWFlOHXk14cKsYGlufbn0adOwaGWORXiya9q3F9cWZDiyJVWzcPNClGvVJ9mBLt3qhUuUK16JY9seHvy2MADBc/0a9so461WXkx0SdVu3stLLmN1uXlyws+ego3sGJm00M0LMf0/nTF10dVm6j0kThC07qmKBhqd6NR2Z6U+bunt7/B0guN/hsYsaJzkRsnLguZ1z/vtTNGvJL0dv/7we0bD25Nh3Uz+r+Xv3w0bJ8zxJnKl3tuCJyxdrtv73h1eNpd9+zUWn3nGlGQiYgtvRxx1soaE32IAHrmfXQxSy91pu6S0I4V3k2QcedrxJNyJFIlZYnYR6ifjTh30hiFxZKiLGYmMSvqcedA5SFpmMGiZII4E+btiZYzz2F557Fha14ZBETrQacz11iOF6zvmoGGTW9TalWSkWWB6WuTG35Y1dhjWaeU16l6FqIHa03ZtgrZldmxIKtxd4aR40p4KEwaekegGCqdGVDiKY6JJs+ghkoFWKuWChXo234aL+kcjonY42yVhrZX7l0IC0AZhcfJLiV+OnGp13JZRBqv/q56Gpzrpqnc+111epse5p6phcKulaUnrKWqmoRfb6q64QDSurbVA5GxlIRwrLoZOj/oWbtMzB1qdK0kbqUbWa8nqhidBGium1SFmK7ZPZvrcorAM+uqC4Tc1LLLLvHkRnieMBiWSC/2orqL7tGrqjibBaqWyt0JE6aK99mjubwvcyPK2Q/S4Mp8Qdhrkivjwpyu+tIv8I6Ee4Hbtwt0vqZDJomW5cFp3LLVTtwDAnW1PNxwbs6cNSPmgyvi0XaK+AK4Nr8K6iCnzjqx7iibTOL5V4M2Ylr8d0Xw7LyuvXGTv1H3ta53tYZziH9F7aQs8YpJ0I7kyrutb6N3Db1A7/Le/U7FE599orT5duR2mzBOTfIwcuKL50Gh7nuFxfbFfByLlLbq12U314ysmGm5LkVJuqecycL7lduY/b3K/oHIEOsUVmYnwu3vCKZ7vST08KeOMkz15R7T5njLu/qLsc5NG+/2y148oXzXbv55ot95AvRsf3R8zX3mf2wYfs1PUbg8+xVtaKX3q/ii1N+O0aX1T3tfbmrKn62cLa/tChax+duxWZH8JGdyL8aeluHeMY89ZnLOTdhknbW9H8knUm2S1sgfnzVQbBprIIUmR+h9scaKCjqfrNqliuW5YKC/SteBltcpIS3MtyBSMUYa2BK2wg7GhXQOOdcHczvNxd/8bTwoZRbGIDHEoPw1YcIJaNNN6iVRFTeET8mTB2rWvh6TplFwdNx4gUPJkGo4gS2miRX5urF/3Y5cPihbFieWOj88i3LLgZilK2+mH4mjK9EjYtJW3r0rrwhkcwqm2PepreFd32x74lTnhVPN8Ga/O8HfZNZhCCX/C+2Kz/9dCLvwMKZOyVGU5KbJGWRF4qEzamDJUSilnzJCrlKJHDoW+KQ6KNHfeIxRV+CJc2AubxOoVBYVIRchAy5vGI10HVte5YaVMjEfkkxVbR8koeHB7GmPkxZ16NbEzMEh+HKCpQfY9/KwlT0tYVN7X1UYNGWmOwgpdNOZ1tnXFsZ9ICmf+jOKXSYvWMSxZzFUTeuZGF79MgADcmNDIitKDow5saiZm8BA1sWQslZBwzM6zNIeVLj8ShJFcow9mhUDYgrRwdR8qsA2pynCHqYQ1DSknGMUtyIDumKmE4E77wLnsmJFtGsYVTTxpSiKu0ZxiRik4hbvJUG20kS2u0SPsNjqnbw+BB11XPgilSqnID2DNdpyOV5fKO20wfDz3mwAQK1I9LzeP9jpjTM7nUoGttoySVSbCm1jKTzXPhA7fKrxFCMjGhDKBKMVJD7PxpsA9zl2EzhNieEhQjTNPbWB0mu6HqL2q94+vWctbYQyYQaAn0rOvaeVfUhNIxWtVr8aaZQx7/qtay2qwQatn61JLyMphiVNw1B1fXia1IRD0SyR996tjLokR0djorE033neQqFjmL49RKInci2vbqnWLr56UEZUudirat+LFpScGbx9Uhj27DJSwmczrdlvJOlxVNWaHKG975GlW29v0cEjd71Vnxt72JRdxi4Uq0Sb60rDEa2km5B9YPLvinFS0aA/GK3CXCFJAVluCFxeddQmFton0tHnG+dDUO+jad+VGQ3dYbquw69bsvlOxYvXveMSl2ntD761zxa+JuzjBpmPwxmtKqYQ63bsVs9OmMnbsTNzXJo02ErG7/K5dT+vWgOrEylAnbYaae1XxGhmeVnyzjEJuX/7zUq6nXYOnl5s6HzfDqpVw/PNsYq1jCNIwvf+DExdehzn0ixa/JYtvjvJIQbXFOIzoLyb44prnPkGqw4GgKUT32dTrcdOu+wBxkBlPNO5IDNZN16pvgtgfCrHawQmHZ6Fu+trtQlV+FaVzrQe+ZrZwsaZiqCmlSp4XSwIZla1Or1rBmOC+w5amk3nbo/9bxj1h+sWUIV96vPtq6oo5U27LtRLh8iLvStdEB8ehtWZv73LXVNkPR+qxYYs5LsXx0i/N6204iM6BJeeeELSa3fq8v2qwSKJa5a9M8m6hLAA9zgvV0UQPP2b1Qa7Jn7rO8yj22avtubnGVw/FoY/nGc/+Nq8i5nGBWmtaQTEMVymO45GXbHC12/bWcXbXTTvc3kr1WyVSAPHPskTO8Zypr0NXiF6KnmFksRnDS52zswTAT3RiO5257nvUo3RXcRiflYkdJJmLLxkURiuetTB3Zy0qz5bja2oFB6L/Y6nt2ST17Qsl3crzaed6FXrrL60uvZwvwnhjrO5H4SWrK3kjAVV/8cssNYLIPS95e/7PAz9bnYccJ85knHc0/q2VsQQv0me8486olLTaZU62oDz23K7kpVZ+Ho1RvcOovmG8Yh7zUu/dc74W+44EGH3hKVferBX38WCO/tnAS/GkIvqeIN59lBMaum68fd+4TSPoECQgAIfkEBQoAAQAsNAA2AJwAoAAACP8AAwgcSLCgwYMEBShciLChw4cQI0qcSLGixYMLGV7cyLGjx48WFRIEQBIAyJMoU6p8KHJgSZMrY8qcebHlyJI0c+rcKdCmS5w8gwqV6ZOkz6FIk1IsCuCo0qdIFRrNKEDgS5JQsz6V2pSq1atawwZt6fTm1a5i06okW7Xh2alq44Jkm7CtwZdy83qkO7BsALx6A3fkyxVuAL492/oVrJewgJeO6yZmTLmvxpaAJWO0W5lyxsl/gWo2uLhzWJ9OsYYGrdppadNJUXP+Svtw29azbcNWevazZdxfM4dW/fH1bom9NSYGPlx085PGj0NUDZh4QcwwU5dEbJn0bZjSOVL/B2pdM3OzaHVfz409PEXD1WGeP2j4Lvj13pmWd48QPnn52eV2k1/7gVaXfvfxB1F06hn43G/OOWgfVV41qKB3EsmGXl3CSVjQVBRyd+GCiim3Wmga/lTgZiKOOFiJTH2VYnAJNuQbgy7WNppbXc0IoUMtkpjjiTv21yNnrj1Wo2Y4diddfZvhph1CMVqGHXN+NUkZlN5JmduKVSZ2ZYAelunefPbtlxFkFR6I5Hdonrgif3FuuF5hRyaZImBTEjnkgw7x+eWS9JFp43dADqplWB0WGuecHxpKJaKHTihgZZAKKSdYLLJnoqD2LVdjpmmRmmhtZ02qJ2egRipqqKal/6riVb7p2JyabwYaoZPoLSqWrDSyGeatNfqYJqHacRlYstvB2exGfBlW60+nusrrtVAx6x+b0JYoI4yDVntTkRaqxdSwDiLI5Hcp+lbnrNyWG9e5rBab66zrfrtue/KiF6+vaym5oqClQQrmQgere6K793k5rVB4GumlrhR3mnC944lJaW0hXiqUwZxmeemN3m6W75332ioYyK1i2CloIp/s5o6mnnaZkkbCyu90yOJsrcY0JspvvGauRPLAoxpa88H7WccwpAzTaOxQwiUHs4kd2+pYtLsCKy9XLgOcUtW0ljxt1n5uXXKjXieJa9FbCVx2uhj/h2W9T3M6bkQR9/+bFp7/pkxs0OrROybbhHYJlNgeQUmg3g+9lXilju4qMtc1y+T4pV7r2jnfnENuJsmER+WpkRQi99bMm+YtHHfWNd2wc4xrSu63D/PYtkbjuU57ybbKbifcJ71tW8dTKww2teplDCi2xDa6fO/Aq2Q88lifjq9tsSsNYOnQS46r89J63Ph9ym/s990SdyW7+AFOO97mUDldN2voh351+8v7u/rxnwIQ/WJTPVExx34GXJzPKoadgj2reZMrTe1A56G+7axwcsMNqQ6YHv6tLYLmm+BSRuYzBJXPeJ7rIOWuJj3t1UyE+ImSpIjFFhTqToWTWlcLXfZC84XkZuKKXnr/uGOc7gWpch7i4PD89qIjOkhykYEerPTFxEg9yntLhGEQ9wdBWbFlaCoE3K7g1j8pRs5eWozhyQ6nQKC17k2Sy+GhbKi6/PiwIg6MGbzyxzGE4ZB5W3RSHKvIs5TkkYT+M0/8lPQ428VwkIzLHB7Ndse9IU2OmMQg4bQ1RgxerpKT5GId/bQ3l2USczMMVie/SMI0ZpJEkiRRk8qoKiBO5F1GA+WrUJK7RJEqdYS0livnODlTUpBH5Ioi8bhHKOfJLCa0ZIkuq4jAGBLxjtFElb2W+RGCmUiRKoNgxSxpqCRpjEG/nOZGvKlHZwpycsJbWAE9+U1kStOQdZtfG6/1/7lwVrBC7pRVo+RiQgHu84miA6QarcS77+0RfCsTnyq7977ZhfNxINLesYQlOPblBH4TnV1FyWnMXtUTo2XzkUdpsih0FrMi8WnV9A5qsoUOk5sLHSdIYrrPmeLya4KD2Enh+FJWKpKi/zvlNKdmOnP+6J4APKpIk1pTnNItWzdjqjXDBSGOIk1ZpMtpVX82E5Jp9Zlay+CRvvrHsN5OrP7kyBH1GdcBeapPCcyb27bJT76WVK7z1KY7UXdXrua1oWBd4LXQ5bebPvIt2nGqMs+oT2X9VW1hU+denEW0n0iWkqqr7B8vS8nPsrSef82QYS0kP/HVkFPj65lSegnXY/+WkrUBhGKJBGqvg2nlhC9VbSIjwlMO7bOa75nbTIALnXwG90Gvkxv+3ppCy/LyTZOlbqH+qTHempRmR9oRG3Uim+yaMWdA7S5sp6rS8C6Ws8/tJghDC6A1FVVuCrOU0EB5wVjCdL7E/Y99YflAiHo2hKitafdOKzIlWjGMgtMrItMWWOg1MphNJKGDv/te1nUWnE6SoEaFqVmLMI2vC8bwDZuLUwnr5MQ8tKiK28diFbt4J06lG9kcacy8TTGqYwWvVTfbY6KmOJDiRWzSWJdaC/10JZIUYyEPdbYST2R5zEJKlNU65VqedS4lHJR/a1y8ZnbyxwiNbpFzZ7WxWBn/vccaJXjVbNM27dGxmdxhMI/2OzqTWZxIHEp+Q4zNm0XXz2AGcZyf4rXy7bLIiPMtiuqV4SHTpNFD3K1su5o0SUNpzAy1tJt15izhyutdO36ZJuU5JjxfmatjMnWfUHpb1nHNjR+OmyrhTEoLt/J+va7r9nKclfFuV6HJ/LWdLknZVM6Yap3MtSjtSWoqMvmMrh5btAu81S6T2NqhDnC2recc6qXwy9Me6BkTCJtUW1dqQa3poEfZt3ZDeHTOcisz6XbB20Zte50ZYDubdc35/PvHB39eZ/RYLX32CX7ezOx+Fz7hhhv04RCfWLep/OZRp/eWZz71/4w4VP+geV7z/2ySupM48tnljiv9DvZuoObCTW9ymj91IqYArOiFtizAZKywWuga6H92tl2UphzLQj50g9LY10e/F2N7vtH4MiqhN48roqc93RUC/Nm8wfqDYg4+0z42kFvfede1qzm7LVK/Z8JibS/tdjfaNTz1ljmxs/nq61UP1GLJu6STDPh9b3zqu8FTA4WOEoP/uvAExS+7GF/mq1rM6rAxzq0B6yMw8lg6mv9gpTu8qc9fSDZstbvM/d4+jf8Jt6kHstb5ilLXv555DmT501/u3Nuvm5rOjj3vh+v7Jj99nQn13bgDj3OmNxtXbFw+ymlrR9VL1fo07Dje7Txx2T/W9qqUvh9eNuz14meF/K80v810bmD1E5D9Cne/acQv/1wqJSAAACH5BAUKAAEALDQANACcAKQAAAj/AAMIHEiwoMGDBAUoFICwocOHECNKnEixosWGCxle3Mixo8ePHQGIBACypMmTKCuOJJmypcuXHBWuFAmzps2bBmXOxMmz58uVAhXm1OizqFGIQAMILbj0qNOnBWkebAq16lOpQ61qdZqUalCiW8PC7Ar2q9izHnUmlZoxK9q3FtWOFMh2oVu4eCfOZLmS6lKvSsvmHbyX7ki/GgEDHkx4bgCsA/8KXgp5MWOta1kmTDxZY2XBl59S3ut4M1LSobeOJq05MuioqFP71GkQclKJVCGblY2TNmyCtyPmbr2bt02RgOvWJh4Y92uIlo0/RC5Y+W+mz7FvjC59ql3vDj87/+SOeDP37t4tcxePMXt51+fRH6RevPlj5opfD/+aOXh9+fMBIJlp993lGkL7BdZfaQcC6J11CAWXn2HAMWdba4UNpJuD/LG0HoMTFqihhRiWGNyGHJpXHYMUtWXfbqwhCBaKKbpYIY3QffdejOCNKN2A7UXIl4ArbshehRQG6aNxQMoopGHJsSjifyLi+OKUsh15nWFSsbeXZBn1xRmXUuaYmpZIjthla6sdxlmYbsK4U0XxhZVRk9PNuZyVbQ5nJJv6ZWfnnVQK6Z+azBEo5o0kEmhgY4XSOaZeZWJZ55VneiiocJNKdGiSkT4qH2JWbidAhmTS19CfX136FqmJpv91qp73Lbpqo4G56pSuUZLlZK6zrpnZci6q2uKmvSHbIKMQagfsgmsS+52xE+naU4inPXndoajad2ewsSLm21nY5qltmtzSCuZCn14Jp1Z4xgVWiG1uWG+saX5IZlXxSupog/e61a22+taKL0/fUilXfS6S5xmtex7c5lD3UnstoZgq6Ji4nfY4MGx8PmzvtKRZCxK933WopY1Yhhqgdb4aLCejBJosr1ssL7wssGn+exrMG4usKagyA6zsR1HqdOnHvxYrJdBWXlgXy0TDlPSsS0OspNOs2tcu0WRR3fJNDR+N6NcPal11xuPNGOuFNl9UtkU8Osf02Ly6fe59cbv/VDDRObst5sQP9dtqoGha9belKV/5JcmlehuoerP6bBTHYhvub7XfbhqzwmanhHnju/W9c44J59lsuScBGTbkB4vq9OGjufzr4aJuZmtJrgfNdezOqphk6s06J3zwaVuMkrBEpjqnhPN2nPq6thsceeDhAf8R8xU7Bn3N0c/NM9sgV3q8y5EjTXLEUgN6++Y/z4lyfGK3vn757Vte/fvZZzj/pvUDSch6tqVb0a15zorS3nTWNv15ZIBLWk62VIJA8EkwQLoz385MZ6ihSW5fyPuX8lDnOUC9h2bAyk/6KGid3o3sfSMsHOkwCJ/oRYx2nVkhRYbVoLv5KTbHUlSc/7DDughqDHdFKwkP5dSuH96tgT0c4vlOZ0Tf/C4lzLthCB2nQfHljnz1GRnl6qJDSoEQhZb7Yds0Rzkori2AVqxcS5bIKYEFzTmpi1TmlJWg93CwfGtzYxSL1548km+PxluSH0PHQg/ejIidO6O5kBe4ADoPVse5o9w60zmheQo/4Qvlh3Z3xJsQUpCo5GL/3qY9JYEObUp0ZB1nKcKDtauMBlKhBrFIpD1+j4ZRA14W4VfDVeKSI9TxJYheEy0DThKWPZoi+1qZSP45M0G/TOMMCShEtMVQLn90WdbCOKTE5Wdx3dTgN8EVTmIGMW079B3G+tXMEx6SkbzD5z3L+P868SlQRPZso0k098XsVUhscBNav0apNiNarWOpnCCUZphQMi00O3Wj4VXc16Ph0E9vfOuMFpH4qwsxi5omSVzp3PZRdFWQitBzGNhMtMuT2TCJBrMkokC30o96qUQZXKUD1ZdORukUhCgjaXt+SsBxvYyjotMRuE6EUsBBdI40VRkoA9mSsmX0mOxpp0F3qrEXjm0smnrd/goITqmOJqkfLKZGuagqsV5HZ140o2sG96aHwRVPAdSSreyqVXHKEYaaVGtOb1o9ejKofbUDI+c+B09XFo1wvwsoAK9KVaM+bK05mlooYygjxX6GlPaj0aHehZI4coy0ydNUZLVK2L3/slKMh+WJWYcyslsi0J65vCrhJMkwfYZkq5XNoGp/y9hoxrWoZP1XbS/IGpVa1oKqvK7kLMPXCxaFed3KW9M6BkHwcddN/yyKQMMrVSHGx6Sc4liSCNnModq0pOpqbxTfC9T4hnK+sgRwQbvaXJc6tal9/aVOhzlToUr2oQ5c04GrmOBlKpW6j+1vB0Hb2uitkGWUHWbv1srgs0Z3RNOlZG7XKDhZinhSpwRmhh18UOPqFY15guP9uKpYioErYv8EUoq5idPs6Xi2Ju4xJNOlvBZe1W8FpuJRQ6pcrVHOqb496ZBpeU8fnwZWH7tybrN8tpeqV3rMHNJ5hYjgvPYU/6QLIi4VIeyuNE90gZ+lsJu3C2fv+ZlGW94wbALmUJwKdMDU+Sl88xVltP6J0GvL5hbRRyRFa1iRjX6JTLfVyxUV1768ZS4mNyg0agV6zjBVM0VlCVwZ1rVxTt3RTFptE6X5FcYBXqqFd7ZakI7UWZQ9s6pePTw+/pjUOCanoO0Y46NM2EyTxG/M5MtrYbLaxuo7Jn+h6D802zNyq8P2QN3T3D9RC9Ai9dptOarjQQkyQZ4lMk/VvWw+W/MyrQ5suDyJagzrUdz8irK+pQ3VZ+aawxtdZb5bjPBJW8+DQgb4T2wpxYyp8cEy7KCTV4oXJMu7yBl/rmQ7i7dtosXjhf+WMxQBi9EZl/zUvCR2tI2mbBPjKV14bozMx4pdbO6bnF3zLsZFk8OCoxBlfDUkqGv4rWOeOdQR1iT4ko6xAauo6VXd1QwP3dE8RxqltB6b0xG29UCt3OtiB3umgw4X5Tl2vBf3Tch6JfWhW8XtnP35+JAqx7kXqe4wHzfHb2XqeXKGqRFpX8ySKXE6E3SxV59UrNHO84cDbcrwevIgJWbjcjXzM4G3n2FV3m8u17y+e5cNy6v8abuP1beMXzq50Mz6Ojccw8uNfekHY+tHLvKLXzXziX+ENUau3uJp7lYMoZmiBLYY9JPL8/X43fxEOtGE0RdwyJnfHW33Pa3YnyZz6ZVefe/XM7cIfV6lyF99xomK+6+veOi3Ys6/b6+cL51/WGJ60ziruHsR1X4nhj1F02vHk1FWV33XJyOzU0jFZ0jPJoCI1UQY43eMFzhj136QZlkZKIH39XDQxlUeOBuRxDkjGHDsp10nGBr6t4IdVhQBAQAh+QQFCgABACwyADIAoACmAAAI/wADCBxIsKDBgwYFCEDIsKHDhxAjSpxIsaJEhRYzatzIsaNHhBg/ihxJsiTFkCZTqlzJsqXLlzBjypxZEgCAhAsHoqTJsydDmzgJ7vRJtGjBnQqBGl26FKkApUyj9kx6syBUqVhfUjV4NatXjza3BqDaNUDYnF/TWjyrlGxVgmfVyoVYVuhTm2/H3q07t69AvgLd2sWb169hiDsJ/8XbcOjhvokZm5UMEu1jpo4bElY82e7lr5l/blZ6NfRnyDnFLuYb0vTpqK3vwqV8NLXl1y2derZauDNDhcBvIxaO+6Rl3by59rYbvKLr4pU3Nv+ds+xzvYuhG5cOvHH13tdDAv/WXjso9ovfEXKOGHk8+fO7r+/mu374bPfkI8/P6zh4/cC2hRYbgNG9p5NlpaV3IE6ClaeXgLYReJB80I0Wl0NltXVchA8Kh5yBElkIwHUZVoVcbP1tCCKAENZHoYQPvbhgbdN9VmNtLhJHHXs6esdgd7gRluJ/okk44EEXTsTZhTJiJaSHey2HpIkchpZkiJIx2aNfT3JHX1WcyRicePx916RUXWqkWnKTaTjRmApKeOVjo50p54hQroYnj0bm2aaUfdW5pY+TpagnhUca+qeN3yVY2ZXhcWieY27OOBujeu6GE6SDngchjANVCmp2K2paKJCOHminb5d6uiGR70X/Nl2qLHaqXm+VOgVrVonqaB2QH7I56o4H1vdlrUcW1eutP4JqZZl8FkvbsR0mS1SDmlFZ4GKUaqtmlLQKC1qUD4nqILfCmescuNBOGehmpLaq5ZK0tZptgf7VO6Oiw/I0WryhgrmnXvRSe++EAZKL8LDBzuRWwQNHRO+trNkKX8DxWWytVuyShpeME09ZcbT2uhrtqh2FfCiQyt0Hr8hl4oduy8blq+VLKv95Y8kiUhwzoLx1u67NA6Ns3L/Emrrfwbnq6BaKYwIos0NG84j0tpY6OJ7HfT76ccLTrZlR1WvRRuazXhNJ9qTptuvU2hzlOLO7CF+d9Ucbs2qyqhav/0TmVWF2GpvaVSqY7374/Yq1w43mFXiMthHetW+Hz7hryf1enNuYGhprIdZQm4d51g9//ifgkgULd2WVY3u6vs4mLDrGC0sroseem9uwSeou2uHsyrU3relp0vwjkb+ujuWwgfM7pfCoI128uMwpPPrOLDkPcPXK4S5wzwFLH/G5d58X8u7KM9w26217r6fd4M9ZvqLnq0j+SJ/S9fOXGobdPpWRyhb4TDW1sTnNYgnaVfOA9b9aQU6ApiMg0FI2Ppe5Bk7Vkx+heDbB2s3OfR4UiQZ1tiUM8m2Ei9NbAcsHKhACzyTCU9LP8laul12PXTTrFuq2lz0Ewa5I0qIhhv9sSLvBEJFUOnScwBg3OgcSLHUlBBsDXYY1z8mwZCb0mw/ZJzUoEgpO1tpVDIuoPyxGTSZ5m970nmW3TNGuUi7UnO9a5yeOMe9rFrRf947oO1LB8XvtomKHepe+U2UkTa57X5YA2UaYea9/9ivRCim4KkRaL3wveyQf96hJJ95pj4z7UqTIdKfbeUtQxntd7vgoP+wVUmwBG6XhGge+v+FRXKZ0GfIq+Lv79ZCQW5Kkt7oIocHhaXcKXKT2YCKWZY7ucUE8oDFvlESfzU1pLoneLbmnt4yxD2pUyeLFwOinRPJtJtpsJaqkJEQTwuks1NyQOPskRpbBUFKOdFs57Qn/MJB5EZPe2V3wgDNJquGTk/pkm9BYKBpzXa6XmZtN5fAWJQpVTFayIWPszAM/8AjOnrq7i/KehkB2ghRPOyQf/YioOIPqZ5wi7RtJ5unL0JEQXe701SJ798JN8ZInNMWmTdMEzzOyEZARZagRC+lTFMrxoUd1piFhSribyTF/JSHpBgGaNN6o81bWMmc4C9dTOdZkmKSj5U8tx1IqrdGHxuzcMaO4FGAibpu162gXOSXRyEGxqFsF6iUvqMcQ8lCYKXqbNAs7OyF2xHWExSY2S7THxMpzsZJNa1K5k8rAKpV2tgwpwKApSFM51rDf6mxXM9uq0KKVlFytpkoPatCU/8CWqTfFJGAh+kRI6lKJ3oSZHSknUxleSVA23SsAfWjFfem0oG/iUHOjK8GDXfGcbCrqWCHoSY8cabroqS4Qr9tdP851uw1dbkyMtiwara+mGTVvSzGV2r1x84Y+lZe+cDvcyTnRoeflJ/XqNrwB0o2YZKXJiS6LRLiC0brUWWUjzWhV/oZ3eTiSUrg2OkQQNvOylt2sSvyZ3wNflbHCnWNGFRtis860cbclKNCWObWp2TS5FxvZVG0L41nCUqjvreHJpsjbl3J0rVpsrOxCqGMjc9W0KI4sZuroKqx207nP3G9hpSpijrXTT7uEZt5mtdMOMgu1PL3nl48szKapz/+WbqyIjltb3Pp2Ocdma5srt6jRPp54w3uDLkcEyuQ8D9R5KS3tnwOJ5SvHpHdz1toS3TvGZPo3a4n7YUsgbdICcY3SzEUq3cbMZ+6iUaZc9upaybxC/0GZbTzcHHV96bNiNi66YY2ydM3cw/KiNoOG1hvZ2ttE3zxU1rxNIbBTBeh1XTrWxtY0MzVWZyc2yM1sOi0oVQ3t9VLbgHGddBq95U9hdvvUCjWTjK3NwBtNb9ty7vTrmrLPs627l/5zN17hTREdT/hatNWVln2tulDvVmKiRo36jNjSPb9at3O97rHJs0v8ZvukBfdZSi2MTn0luny+jeWWnzu8O0clebT/Va0bIWnJ+9ItjoZBuYj5J24ZW9XX+o2zX9q7Z/RC+IWwdGoud57gnsdUyKt94kAh+G+vHPzXbI1jPB+IMDgn3UkRv3rUE17kj3LRz2U9ubRhbT5pQ6+trJ03rbMy8eBavYq3MyPTPYqaBep8qWpNao0jiF1kpXzKdgd7NBWpd14buLs5jTmu6N53VSK58fxWlJPfpVrF/tapOH/yiVvIa7FDzNdyFRF6M66RVXJchJmE4kJL96Sbw3Qjpq+2gnFIXFgSbWUB7RTmIW5yo5Suwba3OSAJS6LH/7b39BYfnTn/6S6WVeB9ku1jfq9Ccoe6n/FlKPSr3MBSXbmTHR5fq9OTTazT+2vxhA//2XM/ZBBJ+UnBomxuK39J77u4lFnnPM3e3Wdz2l/f7bVC/KdsglcqAJhgArhvWtd2FGdSVjZZaPVzxGV/xYY9mbN6JZVDsscoFih4QQVxpOVcglYcH0g4HahIIUhPnUeBl7ZQNSR1dMWC9vF6A2ZNfiZlMnhhnhaBszV1OThoMZhmseODPygSLTJ2RTgVB8SASdhDJ/hZTehtT4h8JBEQAAAh+QQFCgABACwyADIAoACoAAAI/wADCBxIsKDBgwQFCEDIsKHDhxAjSpxIsaJEhRYzatzIsaNHhAAAfBxJsqTJiiFPqlzJ0mRIjC1jypzJ8OVCmjhz0oQJU6fPnxx53gRKtKjBnkaTKkWIdKnTpU0DCI36tOrJqFOHWt36MaXUm0gVwvTKtaxGr0ITihVI1qzbjArbEpT7tm7FuCIP0rXLV2LIvQ7FgtXa9+3fvBMFC6Ra2Gfamoghtj3MuPHOwQ0Bg4xMmbDllmEFoPVsUPPX0pE/X1Y7+qHpqKZVm8RK+nTBrEdvHj68uHZu2RRpM/WM+7bu3a0hVgbucPTkv73Z5sX7eyDy4WqXM28+XTRn6Ladp/+2LZ33wdDat381j3rzXPDoBR/PjDyyYvWswbfX+z15b/nzQXbdQPfh915bY33HWGf0mcdeAA52lx5wDyb43oJ/LTfggxH+51tjtNFloW0TkhhgfQAg9dxzwIU43oiPPfSYVyiq2N93qoWmVnQXefYgajR25x5/DPalI4GY9QjkeAfm5V9BgCFXYlmP0SYceQxNaZx5sO2mZVVVEreWcTw29CWSXPro5YdUJomhjGPuiGVsUO7GI3XMhTmkmXEiWSaETAoI32B0WpbekYX6qSiCWnVYZ6J8HarViBEhal+j4NH1o5FJvodSfTM6mSKbijbpqKGdWhdog2vyGGSJXW7/uKpZAGoY6IC5dcmnh7yqml1ttZKKU7D0bbZpr55mOVhx0v06HIBKLRefpqJOdKxGzJqIYrQfTjtekNbq51G2Qm1rVYF13hmgnH+2qyqG12IXXqaz/oRusqFW5y6G8IoLp6v0unXfwGK6u1GU/hJZ77xtFnflmcUq7FrC1UF6ksXsknmesKUq26zHgIIraMYsYdwxyScHRiqlG5dX7cgpq3QvoDYymuyecy6M8szhblqkzH1KV/OlN/OXscVWcmxswj+vZLHNWApdMM3ArqwmroomeG28Iz1NdNRUVzyqvLs+aqfGWlMcss6rISntpEpbpOvaZAPqcoVxsxRf2QaP/zT3tTbeLS7EPQpm087e/coYulw3qedXV368n8t9fwTg4Snj6eHifTauKuZhRm630Z8LedVx4uWa6tIion6p4aImemSv92FdObau99Z6jIK2TrnbYgUpO9zOQu667yXhWSThffMcc52PAxZ47wrmrbLwY4OdWNVvTxx9oNOzXr1L4qYO/JHTzyx6pbUxarLnHXHYHaPo8j7a+tqrjLPmfqlNEv9pOtPe5NY+0+UmgHHrnt8SVzpkKQl4cClg87xzvwR2y3r/Gp26ImI75YxJeV8jX3yyNZt1mYiDZ9teuV52u4Nlb3PLwuBZMjS1P63oWzSEYdHUNTfdLQyAEsJUTP+a9qfw0c1sWTEiD9WUHzixyHg7PF0FN9iy9XyNTpJSXd2qQ7ClMe96QaQiFxkIsAzyDYJVlFcXFfZF9rFMXxpb4gD39UFCzSpt2/sY/IIyptdUTU7QQiMdw+TH37FPj/7DnbzoJL06dqSHfJSjBJP3Rw1C5lmrI+DkImki55ksj5krIN4iuB/6BW1jvMMXpj6pyVCKD2WHTJclA8mnVPoqZ6z8nyNlOUVL+vCNuPxhJWEpKOfpbZfJ6mXrMIc8Q4IMji1E4ikfOU0sAZFrzSwdip5YtAGlzZabLCHnmqjNWWVTcOaS3C0FBzDQkSqX+ovju+A2tKVlDC8iQ+A4j+j/wyfaZG5tdCX06LnKWw0Obo7SZyXxJj+pAVSGG8GflE5pK1lB04Pia2RAqXnRieLPVAGTZyyXBLhqlnA4HWSZEo2Dz/oUkXiohOmp4gk0lKZwUSH0JUsp6FJrwlSLOBWZGU/XL6ixSp1LdKYNR2XLWOFInvB0oygPOjGhZq2PCbPRGlHWUKiyLYIr/GdBwwVKQHIMc0tCagPRlMiI1rEz9exfWa+Kwn6p1ZktrWnOuDo/pnLvp5K5EUjdlU5ZDhKiaBNiysTjvPrF7YaDBVthi5Y0koxysTmka/74V8qzue9skmppoqJqtnte7YUn3CwZSWdRtqYJTqJlG2k725XM/8LupfmZrMIK6dqsnnajo5vt2rLypNBsc2EdNG1Kf4vYtOavZ7ELo2YpG8N+hrRXjawqauM3KO5iz4G2hBrBWotd8L0zs5arFV9haFWfUdWwz6MjMZ0L3FrKZ73GA2GTnEvYF10QjiV6rWNW21nxUOu4r5JhQN37sfqCMWJpci+CRUW4BTPtZQ4eY165U8ZLKutt+6QlTn8HO282F2QlRq7pTONHEFdSxB1GoLkyDDJqRdN7AbqSWLXbTRrOLLmgMWGDT8xMA+LUmGtVJ1xPCWS9SvhGAj7jd59rxWT2dcdg23AUT8rPJK8tys8MbneV5c8r+5WODJbJhpOT0K+aDf97K30TWy+65u0G2VF4FHNGZIVWncrZh3TmqdR0EiGEPWdoxr1pL2MpXsXu16czKbRBD13QRHcVyWIzaxTBTOOI3XWnnUkwHHUL2+PZGcaj67Rc1/lhnoJQdKRWWdr6rENZqtqtZA1zRs2r3SWH2s7C5TIKz7jrLe7Wx672DiTtlbsv+1fLtsbqoj045YnK+HUnxvURlwttVeYZ01uKruA2fFtBJsVc2LPqo497wPL5V2yMw/ZW0B1dda+V3eHmpkCxrE5wG0XS7Ex1syWNMOi6+Iyc9QnAnT3k3xHcoAa/oAIB/ZSmUbrWhd2abwXc5+HdOCcWH19+TQ1ZieV7xaj/9TiVmb3PaZct4Xnu23IzeGvctVy6NCfwvIz65nfHs+bpbbeJ1YqnpA2dl2pTeZuEDlohVznLwWt6gSGOUeYw1OflnphUi0ds2VxdwzrHmX25rmu7yG/J4RR4bHEb5omOMdg0OTuy017Bo99uaLTWlpud4rmF43eM9Inr1AvTd3qdU6di5I/gkQ53lXzWlAHP++xSO1dWNd5pl8LbrClcQ0ivPI3c2WPDUmUy3i1+vp/fzlYR/3PAlrTrBgp9W6se2cqbG+gKvykpe36Xv6J+6TDLrZ3LRl4o7hTVg7ZLRf1LxHgWX33BKiDug152OfU5VPGWr8awRizl/7fGqMV+0ueMrH3uq9frwM5p7xP/0Vv6uy955/n6KQ/1iL0fVZ6DfvH2+fJUIf8z3RZTAIZMIlVFpndfBlJ0jgZ6FTZJtJNttMJAK2Vau7dJqxd7KMQ1tXNHmQR4xjd9VtFkxsdbWdRJHYiBkYdelqRxCAdYH4cffJZygkU6dTN5L5gnghZtj+Zd0fU4KMh0+3F6MwRnbgKBqmFvLwVOOrUpIEh4LCRPF8hqSpV6P9hrahNQ91eFFBFrWGhSWuhWImiDXwgUaxdmTTiGW0d7aAgVXvh7KxEQAAAh+QQFCgABACwwADAApACsAAAI/wADCBxIsKDBgwYFCEDIsKHDhxAjSpxIsaJFhRYzatzIsaPHhxg/ihxJsqTGkCZTqlz5EeVAlyxjypxJEGYAmzRz6kxpE+fOn0Ar9lwYtKhRiDYBKAVwtKnTgkmXPp1qVOFSpgOVCtRKtWtOq1KzYuXqtSxLsFzRhjXL1qRagWrJtp3bUsDVmnbX0t278e3LvHL5CuY4FKHCw4cHKz5YmDHixIu7Ih4ZMvBNopGPThZZGSvezFWJXvUZ0Sdp0Do7Kz0NEjNU16h/IuZ6l2HIzQQtw81bGnbsk4dp601IFLdYw7yR+v6tfKvnALr/shYbvbdz5kJFP69+ebpz7q2vY/9PuRryZ+jbr2Jt3Nll7fEjyzeWq36979va3Q+HbzDt8svyPXZebXE911Bj3wHgXWb+IRegcarZV591r+W21IKRQQiYfbuJJ55LGF420Xv8SeeaX/h5iF6Hf00UIoklOrZbgwWRmOJxItqWV4jGxcgiWCxaKNeNH/43o4JGOhYiWxNSZ+CK3UFmmXEwvhZgQ+UhB1qTCfZn32ZTmoced2D1WCOSWi4G5JhhjeZalmdW2SWOxFnoZZDYrdmkmxZGJSebdspIJ45LMqiehnWyOeSbT1J4J5SJxlYfohUq+px+GfkkXJqCobhhayCKGVWgj57H6W+e/olXqKGWCumZkQr/Ol6T+rWaI5ZPPnaib8LBeZ6ZuwFLFa2M2jpdmJQGymelwurKZH0cHrQochGC16KTCeLn14//FRoTtNG6apqU6jkKKJvafnrtuF3tGa5j01K05oHFQbbZtq8Gm+RR7uJJXLwuJkevvgQDqBey+walH5dx5qpdoETeOmjBZt5IrLcyLVyutPt1BnG9pk4cZcG/akegmHNFqOx+me5aMa+NrpvwXirjqKq8LqMssYqJYlzUaX7G7C/Osc7L7Mwm4urzRUkGPTBwRQt8dMCn+fqUrhpXROORD5EI8Miy6mi0ZlgLKTRDWxvc9cGX5nwqtVLHVHXbZr8dtsf5GrypRdxZ/z00T0l+/ed0tu6NV23WItQ3mpXKrfOcZi+a9WsY1xzyqg+bJWyVDFPZ8ePNnXt50nl3+h990Hp5c90Sl8d5tH6L7lDiGZ+eHsMJ0n5yn+p+7JzTENHecqyKs+wknDUHHR2Y76KOq7XLUnZfwjdPCvK5ysfMPJ7Oo2282UuX1K/s+BHLon9Duf4563/vTNf4NtZrfo7oT69+mOy73/5MwqpYoNcxi1/xcKU6xg2QaNcSHs7mdjhwpad4XyMVxwrIQASe72zS84/19GUr7l2IUYj7npKml7/nidBxGjxUvZLVug9GbiwnpBwJsRW8jX1lVx6Mnf/INboqhSqE7AmOw/805cDRdcRYIDQgrEgXQdnhyS+xSxfCIJi6awGufLdTYv909MIeVpFSPBJT/MLnkHtJLXpgC1gXrXi8sIARaSQjH+jEB8PuQY6NEuzVxqITwsFlTo8SFI8dVQLIQfnQdisbXwFzp70/1vGBSxxkSZwlR6DZDlwlzBG+elM/FSlSf24RUCWbdskq3pFbq4PXlzLHyB3mxGppixWcMJlGilwJjxNcosZSuMWPwPJdsmQcLXvpPRYe0HdtPBIx+xK3c6ExmLEkXfss5kKJbVJHf1JgdizTRyVCE5jSBCU1kberVB6JjxhUyf/YRkWrsesvy2PU2siEQ1zqUJ0bYhg60fj/Tq6FDXoi7KD77tmRQz6tcE/SY8Setk03Ig1vCxWJQbloTVbarJoLqpy6Mpq5iPrShrickyU9iLeIpDJdITMT/liCO1DujqK1sug804lSNqrUYSsxGjmp6KA2tY2SC3ppyCSHNFoaETio86gT4elTzJnRpA4NJuag2lIytrORHuwpxeSnQgJCqaTJBKVXiUeSlnIrkEzd6jmreUAacXNjhYon4IxK0ZKNLnvfvCA6zyqWiD41lHS1W8QQFNahRnWpRSLp9aYqVsL0DmzR9BJCTRjZkIZOq+77awb1sr3G/q6eixNq2NSITXBq1iQr5Zkq3arCodxoc+AEots4ds39/2kktaWz0mGt59rrwXZosmWsZB97VGbCdqWzYadu7SqR5BYvoro7m1VNRETkClGSapMZ1Zr5WeCmU7XF9cioRmtZvcKQr3cV5VGx+1o4kmS8ZLVtzWhEWA7O0FXWte23YmhfuDEPdfQE32K99zqBvmwl5ozSuCgJwAA7Salr5F1KdTbdHAa0WzALbyc1eV0kYYpjE2VueJkZYfJ6V8Or5JZaPHdVsvrVvR/1Lkc5SqG39jdvzr1bfmDMkWgSVIbmepqNFSzTKMk1gd4kJEgZ+2H9MlGE+uQveUP7XY+YFWxN9uyTqQzgKpOVyijsKv20yOMJe5JtAAyPeAc8yXwyrv899RwekvMXZTUfkc2ADSA448s0tBIHiXEUbZoqXNoDEq7M/6SpqHwrxsMeFNHZCbKg6lvDJtq5rjIDq+Mk3bP7SkSAFsS0ios8lZ1WND5NFdReHTvin5haoAVNdaJWTeLyyuTHgp1hoW6qQEH3FdKoTfKlhwZhscGs144+E6EjzeEAHfnQj4Z1c5OjaVGnhtHOxqqWR1pLjbKW05rj8YGV42Do0q1xtpaMuCn8UO5qd6DnTq9TNGrmcDJ3sOqtKFgZ7OVry/mJs+00eok84X2LUpuoIeraCi61H56X3MletlEUPrt4G9nieqqyp1pNtq9lnM+nFXhmhcjnEpfFaA7/V+2C8Xzv6Y1Ny1cmW8nH/C8yJzKhjwz5Env6zKZQekAOc6c8l6pQewVOum6WuPTkncv/4lRvSZ7ouE2odM7E2bIblvqGgFeynzes6uR5OMAFKUxt9zPUZwd7sF05Z/RUe+Ac1/Gp1J5TPMN55nCnIVq5nWXTEXvHeOcwT3du64ghfN458/oxXSp2uYsz4HxhFbtHZPGVMVTwOqa7koPW20Vls99YNJfmERx1tprI88ZTYOgvq+WU2Q7aTD2Zm25ac9ZWNkOvT5jDZf9B2uvW9ntW09U/3N7Bd9ee0UK5yTwMbMTXO7GYX+SvvYjKc8+++aFx8N8vn62rt5Lmeh85/83cPXZ0f9n0eAX/HRVvFlw3bNQmvDHrulctuGIfKO5nXU0HT8n5Q7L+vjZ+i3dB8fcqndNR5LJSDiRsdEFEs3Y2IVRiEJWAT7eAo0cTyndVDVZERMZPx4ZzPQcaGQhipmQpF9Nh0vY6IYgaLzaAF1V+4LVlj+RkuLd9ufQoadN3QOZMyeYj0fdpvUc9P3V1C+iDg8Zj17dw4bRLS2aENGhiyhFUeyRl40FvTCOF3eSEjzZkcfSE8mdIpqeFMsOFteSFBEd4KyiGx2c3MTdtXXd/v/Fj6Vdr8KeGw8Z4SaV7pGSH/4Z1bAN7dsOHQLhFBWKGFxgjt8RzPVhGcCiIcQ/niOEGicxxiJLYZnsREAAAIfkEBQoAAQAsMAAwAKQArAAACP8AAwgcSLCgwYMEBQhAyLChw4cQI0qcSLGiRYUWM2rcyLGjR4QKAYgE8LGkyZMoK4YcmbKly5ctRQqUGQAjzJs4cx6kSdOmzp9AUfpkODSo0aMSix5UirSp04QCaAq0yfSp1aYroU5deLUrVq4Kq4bl6rUsTqphQaY1y/YlWoNDpbada/Jtwbgk6eptqbTq1rF7A1PsS3bp2MKC6YoFy3irXIMjWSZWjHigXbSPC0bOPLmtX4s8N3fW+7li6Mijny7mXLNwac15t6Y2ujr2XdeVG8p9Pfsj4AC7G7f+TTAyYa2WcxvurfF3cNnD1xYfeTw58oe8mYPOu3JzXrmsoU//F387u/btjr1/tx2+NWTuyomfR+/+9kzJ3i8r1w0Ab/v5EPVUmU2oAbeZfqb1V1iBAE7k3HoIeacWedApJSFE5vX24H0RirZcfchZ6CF2+zU40Wm2yUciXAsqyOJfUdlmYoL3BZdhdfdVN9Z/iWVlnUPdSTYebA3h+GORXPG4l48UGnbhkFB+eN2RRCUpY2d2TZhckMZVduFQRk4pIHlKspWllNGp5yJsBYI5YHwtVhjnjC+WxCNeckLl5nt0TtnRnXOeKZ+Is+24ploZdoiZgoudKdKZ5xn6mYrbLUopjGSumahez4FIpZqdbiSplZseJt1cnRoJaoolRjRqjq0a/2Yqc5mBpx6ip9bInpAYesnrdAx2VuuuT5aXq4G2ltlksMD+GliQfsoaY5m/QRvdg/mFxSyyIz47LaskWhsuY22aamW24g6kpleQEvkhpcEuhquuqwpobouhItVulCEeGy+c83JbL3z3NhstZbM6pCy3MFZVYLlDVnvulZMVrDDFDJV7KcMc4xkddNteJd+juGXm8bKH7nQgudQx5vCV/mH8FV5umjwnyp9lmx7JmKpcp67sCrdRaE3+zGa3SDbbns5W7UsR0Z5q+V6xSauL9NE8dxWy1VR/fO2b0xmq5chrXvillfwdtTW9zkpMKc3aYowW3GzXXd/SMuPUHoHOwv+a4cPw7Q22kxDWt2lOggOt8sYdQs0kmkW35rjQXQVJWHYn37aq0XlSidzZGR2e1LeXx5qpWpvbp/qeH4J+kemv200e61JHbXXknJd042F8TZwv7Wi+jLvqQsHesPH0Ifny4ye2vLFdrDFue+5jugTo8jFm1OXzwkV/7MHE3z69nTDfDOT34XPYa++Rs+700OXzW+VrhK6fktPuU/5Rl3ridnzt0qvTpPznufE9pHrgg1/WeiYn7vXPQfoLH/CGlzbbie6ArHpf6zy0QAlGsHHwURyLEpbA9HnERh+skt06OCUNGuxufftamFSYErPFTyJb41GnWFO9dcEQYucT4Un/bJg7/vAwb+oDGcZ6eKsfSoZ+E3vJtiYYvLhhDnmzixvgLpgc/tWwbQSsGoxYSEMI9s+GXNxZyuoyOJLxbWoxHKFyQgNFIzKKd1Ri3pawOJg23jGJXIujsToEqxVlzHl4zKL30hhEjlXwje4SFQFn2K/8UVAnfNNhCA3EJ45Y0oSVnGQKg5I5V7mMj/2zWP3a5UBQllF35jMlA193r3ZVr3S1u2QJ2YjB0MVIRGoC3tpg2MIwWtCY7LuYL8m4KmEKEpJZLKbRGOkb9PEHXhyUWxR9tsdOPvCVQduUG30FOC3lMIO+kqMYaZO9NCkoX6kcpeGQ16hTAg6IcoKnS3w0/yp9/s+A8zSjtMaIHw/lz5+xo6HgpohM8QXwa4/8lq4MlbUOcgmJfazaQsEIPnvFioTctNb2SEeqkl2tmv0aZiFN6EP8tTNKfCObRRtaSlimVJArjVZLU6jHHf4xkMBTFUZVYk3JEWuTlyxnAdNTv34pMXHhUyktS/Q4fAJUcQhdSVN/BL1nDk6IKJUWNgH1uZ+qc3UTExG2bpguH/JSrP7Cqadiir63da9l71mrACUaSKmG1aqXrOM8M/lEY7qtnR49LAgBmUzAXvWx+iEsAue6FrFxUoanXOxl3wrC2nhxr1JF0dzqmlkDPVSrawkmKl05UTgxDbRyFe0p5eW1cf+SyLYCw6tHJAuuQ2oMNw8VYsKshb1dcjWuC9Not3Jm0FOB1I7xVGPkZipLr70wrCzKWk17erWuZneTTBMUcEv0L/lJEnWaiqVR4WgzJX73qboV7zc1ezqb5pG8Tezqay/rzGH5Fa28RZEuM3pfOwIxwCmbbMzYO1QA+66gk0UJ3gy8ya1+M1hd86KpbEbH1B4VofCrIAhvmc6BOjK3cBytHn2E22TxippoLeEw+ZnIiw0rO45l6GcxSTnmbvSfGLwx7HIMxh3/hLadnFy6RoxUynqzrw1ep8SSWcTLKpmvFI5mAf0rV0P2DMbN0+/KalrWkQ54vuL7reKqk1zyidn/zOIz55jlGbAhqbljfrzJFdtr1K1Z1kjORO9Oq6bW1Xr5fHy+KK4i7ORPaTN1A8SZoe2HpMTiEWomOWIoGYrmFUa5OR9tZy3RtlnyEfK4S6YsMAt6ZIBt+ahKtCxR21fU4emVnQAs8ZpLqsfq1vPQZ/1v7xxlVo7BWUAzFk6q02Nc5brwJFO2mkzX0+LAeTWfMXwcF+l6ZlOP7zW2Ul+HM1XRky51g+ReI1AYndRdiXs9xC53sqs7WSPz2N4bKzfbXCdS3aII05A7cbPA3Ed8o0/fueU3X73478LlUuBAnXRHno0gboLVt+6Gslsdja7xHoXiyp4jrAPEKxenTkzq/xlUreeCZDzvFZCaHh1jrftYytTOsd6NcyTtZzMqBq3KbiIsyrTMVFJf174i+6oHhW47BZsUmoEsXlv+1Wuaj9vlAd1g1zp9TLpQ/aWDTHPZCtu5Om38rNEi+E2CY1WmW/i4Q7cy2Qv4Sa+zqu3bfHvn6ifgRkuz5vrCL7Kb3FGHa8SH5eUvnZ3iY2vT+tRtZnDf3Zv1JZnUxQr8dERsFTMQl6VmJe8yxiW8q873VjCr7uRonXpi4als633OeMXIeSUSfzLxT1ZatrFc6vMAit0Fjn3ue69z9VlO4lb5PeE9KN2dz3zmgyej5S+ObRSacuO/Jj4RU8N02Fq/V9iHE//UPT2alud7ucfC5sNpjWF1e8bVs9Q919UfcPaHXu08hkrPF04wPuId+imjdz1iUnKkVMF1NFomZDqleYxHVaF2dnT3LVtkLmWlXLO3ToJmboSBeHekcs/3I5HXgHtHgcYyagMEexd2eouDfK02gs+FWRaTgddjdAAlfdrBd+63XojWXAI1Niz4eSVmg1WnfzwoczSEfx+HL82FWuNCY451dOiFhIGnex5lg/EUfcsHhYQjhapBg4dmV0SYYlqUgznVJ+PXSPFHWVxGUWRoWj+4F09ocQHHOsJ2bn2Cdb0ETo1Wh90WKaLWY7S3UrR1UZYWhndIOGXXdAXlUmr0W6BPd4hoGHA7pkFV52dviCUOKIash170xVqQeD5Bt3h5WF2fOFXfxEgLw4XaQWR/R4ql+EWM9jv0dImv+HoNhlu16BX/hYu5aBaq2IstqBcBAQAh+QQFCgABACwuAC4AqACwAAAI/wADCBxIsKDBgwYFCEDIsKHDhxAjSpxIsaJFggovatzIsaPHjwMzhlwIsqTJkygjihS4MqXLlzBNKgQAQGHLmDhz6kwogKZNkjuDCoX5c6jRoymLIl3KtOLNgzSbSp3KEijDqFSzMsUqkGsAml61itXptSzYsWiJ9gSLFevPsGnjfpzJFkBXuwHe4pXLF2TdvV/BinyqtK9hh38Jsh1sterTw5ALtj0bGG7VyJgR42V713LexpnjPpZcl6fpkaHRjlZcuiBhq6tTN+V8sOXP2JdRf5Y9m/JpxzYf2iaJmzfI0ZMxBtftE/Tk22s9KzfOEflmwIV3B376/DbthsWpI/+k+50hd7zZDbp1Dnh6YPEWyfs2zx54w/Xq2zPXD38i3OyMpaeZdNsRZ9VioPWnGU/DARfeQOXlxxhrzSkoHGwJSvTgXRJi6BV0GxrXoEYhwlXhSB+CaGFt0aG3XIisdVaTTRHqptSIK47Xon3aVTRZc/LpyCOOOfJU44T0cQgVYOXRldtpiRWJ4ny5xSaSZ2aliB+LMhLI23knxYYghdedmFuN8IEpU4YytkTbmPt5GZpnV1J2ZIajCVhnlzPyWKOcctFJ0ptU9ugansu596NgBtZpIn+Qbalccu8ViORdSCL5KKUIweleZpJOqWR3lxZYpYFKkpnqkmbqJmVllDH/lqKbkDqq31+tsqYmjJG2Jit2iVYKZaG49rnkrmyKtpyceR7Ymo9Mzkfrk5+haZhSzCJKJqBLqupqpcNZG1mAGF6I7bMO8drqazxmRu6n9J0r7qHQEnkqr0IJCK9yw+F7lbHggRakhqhOpe+3/GLob6cAJ3novKct7JKg+WVZaKmKAttsccVCLBbFpFn8X8HDJqwjxx1zS5WnU/61Z7rLAiujyTDT5SSsnHKZFctVFftywD9r12SwJ691c5QESpwSz0K7yPBFNztodMEnyhnlYUy/bB3UayVsM9XGWo1uX0yfGvGgsSY7rc65wtqRWUp7VLZ27DYd6m/C0mtqyJD6/xdt3B0dfF/fOBsbt3y0tv20ofseJfi/g8N5eIuJNzw4tY2nNTLDOeMNYLmwrp05hIXqKnCyQm3O6nUB00ytraIjzPfgdb8UtaVob2ldinh7nXu06/0Jqcc9j43S7UD+bvbqjW8cs8XFP8o54ZMaX9KIlSOIMcxCOnxnfjEyvjfms7uEvbMuv4i63r3r/T1p4Z9nb/k5Ke62zu3bn763vJNurXxYahjs1vc2y/mvVtoize4YxT+ZHVBQV1Mg6OZ2Pe+U7jM36hoG0baqjG1JexpM3oWiNzwH8ikm0PnfbYrnJ9axLW1totF1Hncqa/XvhENhmc84OD5wJYtQrwOdkv9o+K1NRcsoOsTVy1p1t/KFikjreVDsZka6nGTviPcjErLaFbrTVU9lDjMS9cyHvvksKoiN012wsuahC06kWWD8yA3zpsLlhehc5uJh96THvmo5TXxyNCEdL5gpkkEEjzXT4wvB18ebba+CI/ShGD/XoUrKrmJurGIRCanB24VpfVo7nQhl17Z1rS+Ci6OWCoM3xo1sD5HN6uDDGNjH0SXtd+UhniTJSD5YJvCWbOweI/eIK289pIkVfN8QlQc5/G3QVlGS1x+3VcxKxVEtytzlvEAmNT7RRprkSxmlrhmTbxJtQC60H8oI1R0qgtOa4tze/lBizhLZaYYJjNw925n/xeelM56G5BPgnDm6IA4UOpiSof4IJyDoNVOXTsmnM4mokhXibm63VBMVFwdRj/TLou3zIAxtVDBPbpCR9TxnsYaZNxQqDKS1dJ+vQFfIkakppedB5SCTQkBNeo49QPTjMsOZyUXVsZkhPU5PZYlGvlHqaH/MKeGMysnLEZSehtsR/KakqY4R85Ybben9lgccAs3xJCcaWPiK19WVvhCsYxXr0AyqwVQC0i/EomX3tiYRnWrRWcakj00VyVS55dV+ZN1qRPwqREM5NGCDlSU5YSY5wPZQowdkkD+bJ8MWspR8wtQJ4gzJT6JiUrO24qwjY/bZuya1nHqlX0zZqZ9Q/4ZyrSOJ3VydisXUxTawadxnbXnoS9xy8bHii+BkAwnauPqtsEZMa4uQJk4xihOBO0Gmc/vqwtbOE4Ctua51q3vVl2STW1I1a5mmul7cqjeaKi1qK7mrusLmz3qa3GZ7fSpWakYRqOxNJqMONr+g5jJsIz1t3rqKyY6a03aUgym8pDoqMyJYu0FdXnQzqeCBHnOaEBmZWYYU33vVR2+3Zd4GpYvapVJEu3ZloSYzuMWTKpakQ1WxXl4pYbzOCpQZOmNMU/y5IgfrNSkLrXF9rDEgc/RiXtylkT86P/AetbVzqWu3tqzg/wb3bHbl5luz2twyx0fLWO7v/bxMyuE2d//E5Y0TmV1LZ67pM6kmdWdjY3nIlzZVyUMRE5R1FMAnNragjVQfoj1cnQjLuHP78azs7pjA8wE6YzsZ7aO7K1NJ99LFfLZ0nM80X7S6ebsKvrNMO6rWEKfNtlrN7qk9RutBF+6NsXY1m//b0UCK+Z2IzawfBwhZBMdwetO7HUUN++vN9hDZw/6dlaZW4YUWekY/tmKuq+dfDvO3bYKmmU5JTVVDL9uV2xbVA/HLUnD/sMk4HFa5QYzQoAQQuAua8Tlp9iCcMhPaiIZtmL3tXhdN+5E6tqh+63sU5EawoQ4837QratUqn5PRiwWexrN941K9K4zca6bFa4eTKwY2g4n/xbUUL77vQ028zrxc98kVTTcXuy6Rms1j62Au6y/iVy/ods/KVXnqYmtFS9XU7HINhXAw89fMMkYKyYk62WWTK6NlfK/GMU6w9lH4zENfMUPXyO64UlC0LFf6rYyHcDbnXN2LS+96g+3SqYu9wafmK4GPjOatyl2gNg90kLE4LxDh0tamY6moYayawYev8CoqHMMTqniaEjfwRhkRfL1Z9Ie6kJIESyIrlw5hkX4w6Zfc6lP5jmvRu6jXgm/9fhlZ71TjNeOwzzSoQ3jB/y7Q1Lgn+FJeruG1u5vo9n12zUkMTQNShfjLl+tvo19h2kX549Kk+87KTqtzPW6KbS7a/xzrxHXzct9Z3m858q8qKGVP0PmNfzCLgsZHomfrQpOXzcCct6r6O9bbxWFS5acswRc/mNdnk3RiA8gU/WZhUEciomRAjOcuZKd9KVV9rkZuA4YoH/clFQh/3oJI3HJ6IFQ0XCQXQQNwIOd6+Sc8nDWBYpGCKrZzxyZzs5VXLwhifQFVpIZ3hKZEYGN3ukRyC7gmqydZPzddtER+UYZvgDY/mnNP1LRkwFZqs8RYTWdjWCOFNihLVcg1bsVvaqN+8XdY1aQXIjN2ZpZkcBdT45JubIiGG6eGdMaGUeeGoZEdkIZIPehyJdVGYGRKOfaGaxNZC0ZYNuZx6WZ9mMZzvcMiXQH4fiVYcyyjiK+iTx0Ics2Hcn4kiEx3gArCf08neTOVZn0YSa8iikgYhydGTBR3iZj1aValgeq0Z9R2iaY1ZO9mevD3V9qnIMiVZ1rYRRHlhLjIZXEljHo4faiIascIaA41SiQkZmmWe/2BWYTyOeNWhyVEesfoVvJEh0J3i0UIjGcYUGomi9H2gM9YNHZnjK/VjlmmJ++GXqAoj9xVe4IlfAGHjxeRPJEIe+XYjv4ykP6Ia3Z2kFphkAqpFn0REAAAIfkEBQoAAQAsLgAwAKgArgAACP8AAwgcSLCgwYMGASgEIFCAQwEII0qcSLGixYsYM2q8uJBhgIcQN4ocSbKkyZMfBSgUuHKgQocoY8qcSZOiw5YtWQKAWbOnz58nO+L0yBOo0aNIEwrV2TBk0qdQozbNKbWq1Zk3PV7dyjUiSJAGwXYdO/brw7BnyaqNSpVpyrYHi66dKxNuy6w2ndLdi1RuU4Id/fIdLFOw3MB6CSseKFij3KxCtS6e3DjjY5WRJU/enBIhz8oEIWtOCZoz2cqfE8fFDFes6bVm4f4NEBnt69ukH8ruTHtpwdK4r2bFyzjk4YWAR/N8qbc277zBSw7HHNp4c+QulYdknrzjbOjRY5b/zozde0bzeVOHPzmevEf0HLGnt76epGD4Q/GPlug6on7g9Xmmmn46EXhRfwj9p1qAaFFlXmv0ZWfScXZlBuB6xBX4nnbf9TbhdRVGdmFwqS1Xnny/LVhch8mllp9kFTLolXUmviggfxEq5eKGDo62G4YqzvbgTkFOpF6K0yk11UJHyshiihrqNKJtzxWXZEF3sUbkk0BSaeKNK4ZpkWF6kelWcjKaydtul1WHkZpPfonlfsEN5WaVFCGWZ2ZoxgehjHaGOWVv3E1EXp8WwccliaodqWaNKDbp4aRUVkopnm9tadqjOQq6nW+zHXcmlKshiumVuFHlaKeV/TinnrzB/0lqU5IOOpaqEdaqoqvdMZlroypepitnouFqqVKKijljXlnqCGyygxUrmazIongnjswSNaCm1UEL2648EkmcWZDyGl911CqrZG5ztRouSFmapaG5iU6b1rWzHhRvkVG1+aq9blFoLbvn/ttsrNuimxa9Sfnb650Hz6vdoCFit+q6tC5Mp1oCO4xpn7tFTOjA3gLYn2i2Ngwit1W2N2qfAlcMJo6XwTpZoUt22GOy8Elr7IwM//kxXzhnqjOMoGaH66Hqphg0h0ML1+m+RfsbqLPVjpryzJtJSjXLVm+YIMtRXrp1qZtOHSm/+pI88NFest0g2fly5fXaGvH8dpVCp/+MKtpS44vWyWUWjrHS2oplnqRabyvWfWI33ZPHg9/bsuFzZp0bpKEm3DRzjE/681OUK5vu2KBr6RyYZI5YWul9YW7p6W2n7t7GCFc+ZpGwA9V7r0UXLeV1GUu8NN0mB8v7r7ELXruvLTpOPMFML0m784t2nn1MrlatOvSGgk84165HGLK22yPVPdjfC/98ibLnW76QdB58NkqQj+6fr3LuPqyV1DEb24RGvukVZlv6Q524PvWmtHgMXpFL36W25zGGiQRS/ztc2VDDqsKpaXGf8tadEGQVDHZwbJrjYIeEBawNhnBvI7TcrdCXnekoDnfOE80KMTekgw3pccpbVer/1EfD4aWuf0Z6lsXix7mR0W8oQBSQEBf4FAs+L0bhExHzMgVFD1puUCw8Vk2sWC0sSoQ8F+Pihlj4O8ARDHviWZ7uJCS6pKURhHtyH7785jmjvA5Yoqpjz7aIxyzSbY9yq9sEaxJGxAWybMaDGuTEOEWuxe2Sizygwnr1SCciLlmhI6CncuZGTMbwZVjRUhlpuK/Kkctz41sNCeG4ycwhSYaMVKXBWJk4QL4Sll8MIi5pCUANbi6RB2yiMUXyIhHyrX405OPd5OU7jZ0PJc2E4TNRmDvLOPA61KRJzdw2v0Xq8JPsw9a/XDlAOk0yld0iZyKRuKSdgY+CCJzYMG0p/0YybkRai+ok/NwHwZJ96pcMvCIO17RQP34voAZE2N8ytjpSHfErqJQYePyJv28Czz30nFPpiFPRuYnyo6aSYvySqbbbFWp9Iw1gSZ02MHcZiGYrZU8HAWRPkZ0RYCMbIk19qsiAHdRyNoLn5XiKtELuCWJCIeE5/8hNE/UnqT8pFPwyFkiiGhGoXMWlu1S4SziGEyhapZFau1pEkQZwh2ddlB4xVVEOzjKOxWvbk67WtNDVa3hTxcxxOnm0LHHUm3ld1ztP2s28rVE3Swwey0QJwsNixH7zhOwgTelJBXLyhfFMrOTWGTXuRTOzAO1rS3Gnn5eurZVFJe39TItTg/9edm/O1JDLYhsnZPrEVQV1p2+9lduR7ZaY1/NJah1jHYZRtSJ+BWDyoku6h/6zuQ0tbTn/eNdazpYmXSSmJSXaKZWOLa68HRr8vruR8I5WnTGkbjHbhl7kKi+sRukpboG6I/sw0ZeQvBw34aoxCTr2o9ccpdFG8kAAd1bAejUdRifF3mzx1aiENSS+btc668qJoDlFaWn9OyTFIjW7AY5ZVH3pnA8jL8ToNHBJZhraA62sc+VaYuMq+rMO33Bdc8Vm0ubWwIeRN5L0i+dNGyvdAtsyyNLxInyhm8+UojOK+6trRPN3yGrWcrxTDvD5ECPf6m3zc/esJmON2buQ4kr/madKqJkFVGLVHnDN/JQwmMxIPbxZNFzFPWcCR3zdvPKxsGA981739sEh0zGFb1WuWmV8SsQh0lRcHm+OByzbSFfFX3fdqi0HKr7MVhqh9UyzyCwb5fje9410JHVad3fqX6ZasnCji7mAm9MdMRXPs3s1jbeya9zF1HrtBLb8hO1o8CLNrK/mdAXtZdOFtmdEWszqs0dLVmnH783gMte1E5ltqJDJffp7pUazvO3GrRKiNV53v5T4TgLf0JlLHnSLo71geassQ/NVoFRBe6nbGTXAmlOyn53D6gtCdo4CFyvB9VtnOCe8OFped8Nbnd45e+rHQT0RnVHkcY37aIkV/y50x/mENmpm88IYJznL371IEKb8tqIdb7lHjsXl3jK1oiZqcrWd81KG/I96u7Vwg4tZOaXr5u2141G//F5HMtvm4dZmsIf+W6kPj+oStNmfsa5AKzZSvGj18+Hka2QMg0u3vjx2nNWy2QhrryIGuuuLfNzr8hJ63govblXb52gIIlnSOwxczIf9VDV63PAh37g623iVQB36mf4EpW/lfrPIXV5gjlV2sMWomMqmU1mw9XcDkycyrtM9sqfP9VWbTWXWt9X1p9ElWRnrc7j3NsnPQ/Bpo6V7ZlPSup/9PUM9i07MUsbvUM0rn42J7raaGOEEg7o4oR8m2E4/z18fdf+RfFhTjy6G16pP4uRNvWyU+XYw6A95kZf197kDUOxOsjv9Df296cQ/8TbmfoBibVLmeETCHP8HYf6jJdpXTVw2a5m0Gk7lRkJ1PM5HWs/3gJoSUjxnfflSgfZSSJm2GNPmTwBHStsjeBjIbs+3YVongdoxaG3nJwulgmlifqsXaedEegXnNvk3H5R2fyHIaG9naeBHGLH0XMDHWZdGaIOUY5L3b5ijhMvXcvzGdg92b7QHf+zDJi8UXINFLjunXREVbxHIheO0Z/zDgOAkhitmX1aGgmeIhF5UgokGdle2T+YFg1GoePiFemp3S2VHRQGoPDZIgm24SoYVQQKUY0fH4lpMKIiMEj2KqC18BW4S84ia0jfL04B2c1SgR2U/5YUWNzReVR9WdWLONX5EWIruEoSvkUbHVXUXWC2N5Il8IYusyIMHZ4pphmU/qH70lVPEtUDJRXnBGFvec3HRM3BThovRsV5ZJ4OLR20Tlox4dUyDaF9PeI3YyHEFlHFJVHGCxW/fuH9u5HO2Z3nlCGbnKIx1V3QZ9T5y9I7MlWIFuEz0GGb2GHX4l0v9mHb/uH0BmV9pNnIFSTQHCYMJqRjQ2JCARxgBAQAh+QQFCgABACwsAC4ArACyAAAI/wADCBxIsKDBgwYFCAAAQKFDAQgjSpxIsaLFixgzatyokOFDhRtDihxJsqTJhBADPBTIUCDIkzBjypx58eXKAC1VpqTJs6fPmC8lBv1JtKjRg0MRJj3KtKnMpS5TMszptKpVklB1spx6tavXkFQPhv1KtqxYABLHml37tePUt2HVsp3b1C1crgPl0t3L9Kbavw138h0M1OFWg4CzEl5s8mXcwATdMp4M0zHavJAHSqbMWbFmwTZBC0Z5k/Ngz1Ejpxzq+eNo03PtXkaolrXDsJvfooZdVXba2Z9Vb46aU/dr3l5l116IN3RqnFPd+sUr9DhymsqBE2++uvtWj8yn6/9Vfb2yd52+Ob4OXbrgUsvgy490jp75+Invu7cn715qdOvy9bTbYdAN+JltBN1lYIAlGVhcZha1N5SCADJYnVLnPXdhRVlJF55rolmIUYcZaoVfhfyhBB54rqUoolGhAbZhTrYt+GJRMWoH3YyX1YjijRTdNeJteD32nY6I9RhicPVpCGRBQtZE5IMJXvZWkEq6yF6JQFqGUnU5AkZlkztitmGVNiLnZX9gdncllEUquSaBGCaZpmk02kcdZggW+OOZTEbV55ZPmqlTlGguGZ9I+Qm3JKFP7gedcY5iuOhy/O3W56KFCvoahZUi9SGdgZqoqaIQdurkg5SeheGa903/mGpuqZLapWCs/kcbkmSOWSefoj241H0vphflXa0m2mipR6r25q7I8lqesXAdCSqckvZZJW56/hZtsdaJKe2JBLKoZ36y6uXrgYaZlpW4IcEamGzo4rpnlbbWd2dXuz076b2iSrrhu1ZW25+sv572o7+IRtSilE7i++9yCIu617Vf/mstwEkSa+Kr7W4r56fRArfvTxizqfHEHMPpcWsfdTyyzA2fzFO6OtKXq6eYljkdlhmDBZzH/Nrbs7x5Dsdk0v4BrbLQEi82p8MkJ2xo0B8vXevTVGMdMVlTW53v13ppqzXMFC3rYlnZKe3vkaeSmufXzRpqIH1rs9U2cyLL/xx3mQTi7fLQWXLIZdZsG/2fa9cKW+Fmnt3n78lEcw2j4uY+1HjBMM8dkeR7Uj6u2E1FaVl2zzXs7LwLcydy2Uum3jLapRt8up6eq/6ZuVh6vrHVm87++J9HDcvr1D5ux6m+7cLX8psELy+x7kUn+Su3odIr2sPOq+v6WdIbSj12FbYq+HP0CYwZ7HRf7b6W27tpcPuFeZvZ+aaep37dGUeuI/ulugnqmPUU69wtdgS0H4XMtivrGQ55TSueAYnHQMRNpGSsy5sDo3YiCI6tKJ6TldoOpausQepNKCQc0xLlKU+lL4JGqkoI7TVC7TnphHFaF/RC5qcWMg99MCTcWv9IxL/dFS5fzntdyfKVLKpRK4UrvAoRV7a6VeXMP4/B4Lrg9iPN5fCLPnSKAOX3uwtmBnvsiuEO7efDt5VJdzHsS/PIyDIseTCNQlyZ/6LoxlzJ6H0/qWH5/rc1+FWxjoBjkvH8+Lwv7gxH60HgBoEFKNswEomHg+L8BldGNxolMYdLnqsAKbOv0e5bZnzkDYl3ElCaMn4NJCUnLXhKZPWuYGikH1ZIVjkurhJpoYuZ3RTXpox50og7tJnhSnkR88HyjZt8WOCI6cRIFlFFtuPhJ48IJ9npsojSNGPf8mfD/kwuXCVTpkZ8100TsRNaJhOm0+q2pSYqL57wTJlP0pP/tg9lC0QROpzc4lmxcDpIhaMr4DGxGU4XarNrFhxoqKYpIeJlMaE8Cd/A+NbD/H3TZ9akosrUWU2SrrOQEKXVCz/6TncK76PxkifKNslB43lRo4lsKQc3ZhzawWZ8uQRWOSepU0BicH8RZYwmJ9rM47FSZcuLoyLRSbr+PfWkqiQTRgCokdtx8GhUtRi5ktrKPS00gesbF1KtGMapYvOVbcToTC/aTzZWs67DXFZ+WorDr8ALfPgcpVW9Jku8jjOoXb1qRv7KzPYBcIQ7hdgsEZsRk1YkhfVsWbk0y65fDhKnuxrjYzm6VplgVj/d+hwuEzpGpvrtqbwj4a8g99Cb/+FOraklzbmoSViGRjB7gwQiEzlr2/HdE2RNPOapLnVF/ElMZ4TsJU2Y5j00Doq3svWoOQnKUYvYk5LgdQp1eXXOVVqRWzN8Kx63WkI70VCx9eusSzUYwCDS15BivSdlUflBOQKXVD6dbyL/1j5LRpOXm5QuU2Lr3rpVN5ttbWISt3tWB4ORLQzGFhYLls/vtUfCG8ZmhVe2VLos67sEqyRHzwlUDtPSXjxtL9hCiuKwAm/FwWzxNLHGyO9uM6C+HCvZ4hS91XqvrR3Oqnl7UjnnEdiCp4VnGR1YWlS6sYLxZe+QimrctPZXq14GbDJDSpQ7SZe2Hb7llyV1TFT+c/+fFHyqj0Zc1QGjtp9tBpj/LAtTsua3PnT+c03vfKI89yy08G0qPcmMzIQyjbYtXhRtp1hgHio30d5dLVwp7OiRQZqmac0RkusLsnH2dpcxHjObDfZoauIsvVlLoUOvGWtCtpZ8qeZOQxHZ6nG+unCCk/UPRcpWDTu3gA8bX5iuGOHvRRbLxA5zm8ImwWSDGohXJvSiJ7nkxs5y2r/VW7i34qN/MrdysAterCbIbbNQe3kgiuS55ZpuVK2bdAq+ilQzRcc+rw7W3bbzfeUb2a7s263Z9XejhUtq90HbtYlEzkV97OeBMzzgkDLsdSYuY4ujld/4BeIBxZjbwR30krX/BrLhDi1wWfJZPYZGKTNNB+NlrpzZDq/5qcULMGc6No+YHJKH1hxB0Sk8Jn0s4bGlyvJ+Dj3iUOWmliuOa7GCtoPs1q7GP4gzNbfTKlO8ejHFemzCcjXa3v7yj1Vr11NXzNSVLVFFn1vyQGd0XKA7u4sYG3fP7l1JDCOuV9At15PDpdyjguhwL0rttRBe5bcEsRcDzPdW5dsnlychTo0uZHYZ2MLdk7m+5SpilHIeULM2Iug3LPYZO33c7aR42bXW+s2Ka/bVw/qXczXFv1HcgUmXNKYleEhvQ7f1lKV1pg+ZfHEX/9va/X3OpbwR9Lr46KO/6dbK23mQp1LqJkTg/xNF71fWfZf7qEe4XQUJP02+vLiBnSQEM9559V2X67fNPMmbj0Zu0V/FlBZ9TsVfInIyXddRLKRaUYVQXqUqH9d5UaZh9vN2/9KA4HJdSKV9AMZozUZXAVN0RKImPLQlMEMteVMvcHdpa+JFEgdhD/hvGZRyDwR73icy7ydDLthn2hNshdcu9wZlHccbXXZxYPZC/GQ5BJeE6fdT1zZSz8RwGihoSghmS4gn4Nc5PRd/YRaAlkJIz6d/o7dpXfhHQ1ZUy+WFqldYhGEu+bZAD3VWURhLx0d+Qmh+pJdWmYNgbXJWsCZ95fFIJZhaRQZwLhdJIycfgDg86TGIwFY1Uv9YWth3MbZEhVxTQdmmO7RSMzaGiJOYgeKnh5y2HD2mhQXHII2nex94ic7GNWOmRDeYe/lmf1NyRWv0Z62Ih3TYgonYhbNVW2x3MOFmPA5IYqv4fPxmIxQTjI6oKgPkOInVdiDFg5r4iuJ2LJyjWHuUR7cWYxA3jGMyYSEHhMK2SEYGfsM4PYWTbeHYSeCnSUV1jpoXXTgHg8bEXVMGjzCXhU0Xj/UYKkOIj1sHTQGXgG5XclQ2fBYijCBFX5s3QXxojgA5gyuYdZnWgLgXkQH1M0mFjGd0PwKFkVKikN0oWZEIkmP3bL4IeVRnkkIDbSRFjSyJgBuJkCsZk4wiSTYP2Rk4mZOwAZM86V+MERAAACH5BAUKAAEALCwALACsALIAAAj/AAMIHEiwoMGDCAUKWCggocOHECNKnEixosWLEhk2xMixo8ePIEMaBEASgMiTKFOq9FjS5MqXMGOibNlSIEmZOHPqdEizpE2XO4MKjVkzwMKhSJOuLHpUqdOnKZsSlAq1qtWEVBVuvMq1a4CbXsOK/Qp0rNmnGqduJXu2bcy0A6mCdUtXJFWNC0niXZu1rl+Id/Hqxav279++MhEbvqoYZuPFTgMblDwQbFGtDh9DDkq5cNy1ln1+zrx2s9LAc41ubNqzp1a4kwWkNj0UddmmrFszJXwwb1najvfyXc0wNsLQPG8TT64ZOOm9nmGPPog8YWrcpQsOdt4x9GXVmKkD/4D7/efun6TDN+eu3aXr6YoH555N9jxbrMvBs5+Ymj7B7Q/1Bd19WtlXHlnr7dffb+01JyBv18km2nwMArgffuhF1JJ0x42XnXllHfieb/5dOF2JI5XEoXjxiQZiirsdaKJqFhaE3X8M+qbeh+0VqOJGMlbG4Iy+KXajkLGBdWRyPgIYZIZEMgTgkuLZFx5gxbEIpIv3PQmcRlPm16GV+mHZIoU4vmhibhRRGKFFXiq5ZXVQ7sfmRG4qByeXKYZX1IIXyjVkmTS2lh6G9fHZnm4dJuiWoAjZ9l6kPPpJU3KMaskeiYMal6hnaRKqFqQ2giaanJ46x2lGc+rZo6ifkf8K6qf3PXihl1fqRxmaBOraqo+5BjvdT46KhSuhVB75p6u86girkaYWO9abvWWZapWDPjYgfQny+he1sUGLabaVqkZejuV6dmxXzsqKJEvo1jlmp9Xu5Z2iYbVrap/weoqikP+GK5h7l4pVZLnFlihoaHeOK9GBffUk7VsSapvuq9cu27B1+GJ7LYg1npbdYwGX+vG7oQ4IsqLNiukxVLZy3ObIPNInp3SZqjuhyzDSi1TIL7NKKY4lUylvrNbC+tqWXQHd88xDA+yzr/wK3FmpG9clrsn4XQ0iyR4S7RK0JU7q19azCpx2omAvPDaPzvZc8k5wJZu0RUZXe3TMeEv/ODfVtWVp98TRXZz1sxdTui7gIqtlNpa5rhi1ynojPau+hCclaceTD9ctcZIPa+5wjr+dOd1wS3gyqqV+J/HFxx6Zm4OpN14tt9mxXvqCG8LOOXz5Oc31yajjeG7dWUZo76lc3pmn7gFKuTPlQiuNkqDHC568csvfq7OlIyY++m7UR5S3UJSx7nqIBe+pZodLV/3q34yRXuuvKCdK//y/35z7oHSyCu92tjv2Oalj+3sfxiwns0VNjXgzMSABP7O+A5btgQ6EH9bKZbPfRW0lYDvU0uT0r8fVizeWSpDZIMYznIQQUSN8Wwnb1zUU6kd4cpOgp04HkjvFzn7Qclbv/3jIN46RaVTESaBHfOhBZLUwhl+7W0WKOC/oIRFYnGkVCz+SJwjKL36I6w6zxMdFLbKMjIgyoQrRlTceUouHGLkX8sBoJunViYQY/N4Npxa3KWpPJnL84+hYBSaCpUx1fszQ4ZKUxw0KKySzA+L/drQqJwrralSqTiFFCBIlQg1BkuQXdiq5K5pdzmWatCMMO9nIOL7tkQvM0LLCRCqzYRKNOGygBmHCuuZ0UE29o2OXaHhLiuRyl+IJjhWtp7NZ0iSSK1tcAX9pPprBkSP68uKJCqYbaOqPhqwy4d8edM2P4G5PHbSlICECrkKls2B9DKINy6lL0T1MUTkbJDMXuP+5HOJxbUuTDj2N2cp34YxgeKScxRh5NBOWUSievF8tdyafpC20dYZ0YEQ5aTtSxWxZrvykly56GFS+kmsgvcj+vFW5D9IlMDGjotRCdcq1uetk57onWjxnyjAGrVeRs9+s/kVOpmmooARNKlDhRc2okYl8hvOboY460PyxM6MhERG9WiY2YSpONxg85kUO+rRtwtJfzHPmO4f6ox0GD6vYWmYZb0orS50VpWnN61pFF0yuKQuuObzrQ5EWyB0BlK9gLWTRhsMw0PmuUfhLDE8Ly7h9uu11leSkEMOmTyZpqq4vkalnDwm5BllTfFy9XVuBpzaKafOL9yut8U5bvSP/UnC1hnWkTrZFrtyuT4GlE+Vj/eqyUs6WpruFUG8B91vQBvdVvoxXZY0rJLqir2amQ+MmVWvB5RLVd6HDYnhdiF2vRq+PBWSpHl0KWYv5Dykt+k5Rg+pUhIaVs3a7VuaqWr3A2lOfXjOrczkmO6GKbr9ozAllFVm7z66svycULZ4a/DP7epTCphXbOBFmQ8FGj73JhW3nkEvf/4LwiS11ZxNPLOLK0bWY5PVwUB3aQylCeE8vtvEJcSqcDRNrX0uda4JNzB/O7k3HrbVpjzHoTVkiFZutYuJzScnT3KI3yFY975DlmsUoOnnKUg1qgbFI4lhq2X37TEk755WiiDVy/44bzGk1b7k1OXM5pETuaobN/JwWCseodTxlnbfHYDVnF63ytaip1PlafkqRxnYd3kyJcmi8Jvpq+ZQwMlcE6T2ubsUhnvSPnwdOR+dqgLkFbqHAB88/D5nFogYlqeM0RuTax20M3WP4/pwTylVUng+O9Xp7NWs2ulrOwHxyVGz469R1UdgCrlOxrXZsQNNqo8k92ICw855mH3epmQRskVFdzfppmzfc5qaHDnq4cB/tnuSWLVQilMsAlxjNp27eopWjRnS/OoKlI6n17H1UtrYz0f2GM3y1O09EunSUHGZ0bKGrvZEC+bozE6jDUwxx0kh8me9VMSexfRKNC7e0jf+dWF/H207sIdkqJqc4ygk23nl1vJ6YXve/JVtm+bn5gpHuObjz4zzUWvuwPM+yz/8HdE/zeei+PenMQbxT825X1TeOq9RfBtOBIZ0rN0divBP5kPA5zInL+7q5Nz7bmDfJyJKeMQ3vlWjkCnztF1QoY3Ebdyeu0L51z9/dYf7v6NIu1U6P5tZbxGavIPiqh5+utTNF8AuSHCfCszgsc17KlttPeG3bOaXju1UUc16SntcZ2hxssM/z3e5RVXuKDytT/rp2m5l3lWaHvHolN1pVYTZihU5KTZYzb8Qzwg+ti390iXLw+C4Wff36/HZ/Lr75P7ywjPMMdg6n+51kOlz/9oF8vlWe5a+d/vKBRd/1rtNe+pp7a/qHWVMoI9H9RLa9UtQKwGdqb7zfp2+FlkHRxh38V0U6F1Ac9nbUAnICiGUlFUmV1HTPpl9SFSSKxT7DthnZM4H9x2oKs3c0loGw9250cU4YVWZ9FWy/V3avZ34nKF3P1VB8N4Lwt4IfZhjlg4JXRGyqhHhuJUwhd2862GFQp1vKs3HlZ2VJM4SWZBo1skhZllmVVVY19y5vBH9VEYXNV2ZUuIS0coXqB4SmsYNb91QTBDaLZXAyyH1jYYb5Bj239nxriFg86IZmwYUsCCvzJ3bSVX4VyFqGoYfftDZ9SFh/aHpmFISQcTAV3tVagUhafXdPP3d9tOGICahbkWhQPYVjTGeJa2J0LldW79dmkWVm+kd4hBQtnwhBbqZeU6iFeXhfUniId8QlQMMpl+cWf3NACKhUCpSLF6hsduI7FVWHpDg6n5N8E3ZVx8hH2JWEy8iM0ROCUjhmnSU1g0aNY8V2DBSCTFiJ28iN5cZAeiZN3BcmJkiOOWheztQ3zPFW7NgRlVhBpbZ6V0Z988hR3zRAW8Rx3qiP+xhOHXMu6GiFnTiQM4OB23OQBKhpClmOQreOEVkVbjZaFdkWr0N1Gdk0/seROxEQAAAh+QQFCgABACwqACoAsAC2AAAI/wADCBxIsKDBgwgJChCQsKHDhxAjSpxIsaLFiwsvatzIsaPHjxQzghxJsqTJkSJPqlzJEqUAAAAQpmxJs6bNhAthymR4s6fPmjBnChT6s6hRkEF5KlR6tKlTjAuZItT5tKrVg1GlHqR6tavXACJFUg2r9avZnmQFjuVJ9Kxbm1lntn1Lt2ZcpnPr6mUJk+vAuwbz7h08sW/MgoARlyXMuKFYw5AJrg28uLFlsDwhRx44WfHlz4qJGs4qGUBWv6BBky44Omrp04dTm825ealhynIz9zV4W3ZV2r1t7w6NVzfqAMF9o737cvhxzWkTap4aW7ld5r2fQ45OPXlp69fVDv8XXzopcNOucS5+/JA7+IqP/crvC9t8Zcw7yTt0/95lefpsaXWceMfRNlRxueknWH8QzQRdgLxV9x9lnR2YIHKHLcjgX3GNZB+BEobU4YZQrfbRhxgOKFFiJEaUW1L6+XUehRkieN9SLXr0InoxVjejYhVipuGBOZbIlIzpOdbcWuwJaSORHEJJWZFYJYnhUhr+uBqTT+IXpZdTUilRcqvNFaSJGDaJZkNJzSfmVuM5KSVrNWJ5JI9XyglRm9WpyKBowxlYpYLrjTgXfxwmNqRygK6lopqFllnonHZK+h5RgrKJZ5gT0tkadfrlJyamzT0E46CehvggqHmK+qardIb/eahW8dVm0ZaHdbaoZWaGiCilXmrmZ4PpUaXrjZch6l2qLuoWaqx7hshpf8rGGeGwOOapIracSetZi4+W6iSuvwZrLbNekrUssAyGyyW5EKK6brfHHjjvrnsJNquSuN0JKavffQvldLLpO6l6/b7mLJjQBpztwLZ+pqW/yCo5b5gXf2mnvcKa6u1vS9bZLb40cgsxt6Sq27FDJv/kZpWZEtupwSBy62icgp7K7lcv99vynL3RnOK5EXKMpLGbMjwbrVaShWitDgJoYbxRBwnledpdXfFTKRc3NbBQ33mqpQwHzbTR59bbGJJoN/nwyFG19rSAPlL8L8P7atwV25h9/9qq3uLVh97cReuNoto7X+gU1t6eF7XKnfoNebc739t0gNHRlrdPjO/kd+ABzof02KH3KfK1jV/+dbrNbb4cwZoqWet/OrP+MpqML4v7wqxmvFLnLH+sZ3Krfhkzl8IJ66vqfxfuu0oTPwvi1G6jWliNiku38uimX79zSdE3PzT1vFs/JvZeB08w9w5H+z1Jgladq3M4h1z8tCQDnmrtsO83Iufikt/0xsch5dXubfl73/2G1jIWLedZP1qf1JQmIlmdTX8DbNaiHLe1jVQvgpuRXAfNpzX8LeZ5GyPW50xyoUbN730ITJ/HpvU2FJZNVUkr10daSDekwVBv2YudwP+GaMOoRYiHQKnRz+iFQ4jJjmlkshLAhgi6ktUvgRq5WUWW1ZlhralvV0RWuI4IRVt9sSVWu2HPmIi6Xu3kjFUqYtyWZ7mbpFGAlEPXf9wIMymqR44xQxusWhJIOEmPOPI7IBtvdcLUWVBUs6Mg+MQlRC/+j4FJ6xR8GjlI1kHSOKeDS/r6V6keBiou85mVhh4Ex7fxC5MAzBYpE+VHgt0llZES43Yu2UlRzXKSnbSh9/Q0J8GR7mShfOUwXQkS12UQKeiLIeMyB8ofWrNhGNQR3dqXQvLBSncyxKQi8SXHJ/5um3lMGC1dB84aCotU12vgfVoJP91Urz1bi04aX2n/H75Vrm5mI9TuCGnP8uGzWU6UJMLSNMcYTjF87wrnScjWkQ2GrJMqU1u5SEU8Az5zounBIg3/SDQKZlRk1MToRZkowSVuRJGecyQmBcM9FKXwmHHMoR89ZsBMmgSmOfXlLiu5y65VUaGa61I8DShSvpQ0OxPMTdh+CCgTmpORZpkXVHG6OhEeFJvFnOdOZdaUWnGxbiNVGEXzCE8q0sk9DvzkUcyaNrS6Va0hRWdbmamwsNKzhNAbIRzl+UNFHq1+goRWEE3Ky8BOZLDCy9YqfXpYvv0oYIvtWlO3qFN+vlChHHusRNE12cIp038rqZ3QfAhaMIqWr4ssLVhJuNCT/5htjKgl6R3ziU6gze+XN4TVZqOlRdqmtYCnPO5I/amtlU0Lt9fsiOh8Wkpmqna0U6sjW+cIXE0ab4Qlma7BBvrWcKpypc9Fn/J4urzoqmS9FLSkMxl7VHdFVnyoGwx8q6qe+bb1VPadofruexXgaaq7+AWS6Ybr3R2hjGIARHDNSnpIGvUVmsy9bG0ZWhShefej6UzVX7P5rBX2k8JwAuo5TwtirXpLbrwVIogex10CM5HBzYyX1hLZvfjaFV9OA6V4DbpQpOmQJXDFnNjilEbLClbJE94jkYV6VBy/McZfsqlidUzMBJ82ZyGcoAe5DFKLynJwnPQkLblJ1tDCcv9owz1yRdHbZdhKdawpnKpuo/k3+CZOrN3McRTn61c8r9lcKgYj8vrsXKQC+tC2/a3wNordRdJOp4l58KW9ic3b2jW8kn6l62ha1xUyZ8pE3ExcGV1c9yJ0y4sd84SVd1KzGXHA+61miK28YYFWGiqzfmfpbGklm/VUZB2FLaj1zEGMoRS8zU3eZ/OLyEsWj4+B9hCeRLjChMrZkH8DYXeWd+pLl6tAhp5zlPWoPapy+W7ZZumngyfUKBJ03R8Gd5bevTCjphix7pOXGaENlQX6WZzU7TJs6p1w1G112q3FbLrrafBG0zqXdsJtt7XXUogvatEAJHVPK/xvN39Ru/r/PFesh1dUgmtT5B71MmkDWMuSppSADu3jhEd8b0jjnN5Zpp8JgXwnk19w3C5FslJ/LmNEQ7zQr93ubg+MYpClXLuwZV9uCzdeOvP3mbye89VtfnRoPY+PXbd3pwFelDMVnd0sfvNF+gfZAJPYKG5nczn3Z2Ok161Xdnf1A+EGQV0/MujMjYiEo21p/X275/W1K8pHyfbzPY+1IG5r2CuI3DVqOKxX/nxrCznuHmHdKg7ucWJz3i/RG6xlUMX3Xc8C4yDDF90WAyj9kIhrPh9+89q2j+23116SSvuogKU6yL/1eLyjGE3LB/2WJ09PzBOnuhF3vnzf/sXF3gy3qw5Y/7ju3PxYzp7TSQa86rW3I4l/lTF77ePNV0dtkl/YzYR6f7JQDTYl592121V48GZcPxd/XnFPbjV80nc8yPZ3/fZo9Udfe3F2fgRmk/V/BoY38fJwVlUXFMhR83OBoVRr8zZ2mfdrtBcxnHd820VqlxZQCUY6wGcTixd3GhZ9a5drJCeDLgcyGWYj+/RzGVNufDddXLd0ehEz2bNwCtVR23dyFldXUNcYrtdbMYhDRsgR0CU+M3gd7bR2U/RMwtRu5oN7qrFSPER6N9ZY8dODLBdJgrc0MLhjlPRvq9aGY/YYcJh9dAF9yfQt21J8NHZnICZ99rd/t7ZaLyaIdtMlp/93a+9Bd62TV/l2SF2EhUyGYgD2dLIhiSiCR6YVgOLTPxmziYf4GcSmTmEobwnlcGh2ZdKGg5aRitdHhq7YinwHR7tDbF3oMqcEiQqXZvwjU8gkXCEjOL2YRMuHJCtnZG/XgY94jDWWjDTYgNWXOoOGai7EempWgx5ojYZmX8yojabEjWOXdHTBWmCmddJkhSxIRifGXtRoR5+1jqE2RFAYU4GYVGooZZciVgd3ii0oVm1IXhI3jz/xeo0mkL72RBFlXb73Ku8TfvKHZR5DYxKpXOPCWzzHhxxGeBnJjR2YcVXndMPCVSGpgV/GNKLnbKWIJwhZYC63cshkih7JkEVwgkU0aZLb9odNl5J8p38/+WYdyY5AyYpbB3SbVmdkOIZHCSfdx39A9IyKNlRPaRFahovG2D6503BXqW4eGWSShYJfCZZmFoyGWJYxtUljlpVqKSJJ11T86IZv6XjIEpN1mZTulpdd0Y98+RZ+6RUBAQAh+QQFCgABACwqACoAsAC2AAAI/wADCBxIsKDBgwgFChCQsKHDhxAjSpxIsaLFiwsvatzIsaPHjxQBiASQEaTJkyhTdhxJkqHKlzBjnixJkCVNmThz6kx4U6BNlzuDCh3aM0DRoUiTmix6VKnTpw9FKgTKkyrUq1h9Apj6sGnWr0EXstQqtWBZsGiTih1JdqtZt2njJmU5duBZo1bl6oVJl61duHj3Cn65dmrJtXUJeh3MOGJhvIcF9DW4uLHlqokLlrxb02/ly4wRA1bskvPfsp9BYxXJtLTbhbBht/2cWrVT1nk3v44tO8DPrnltE+1NWTJg3Dfr6m6I3LhwpbERPtYa/fRurcxbTn+u9LfDyGVNS/+nGpl2cO4evTcE71b8wZvlz5NGD9L99uK63XP13f66ZuJ/GSYffQ7Z51xV+Y32H3b87UdaUagBSCBE9wU2EIT9LVbdfp/1NdmEFlUIX17htbQegJFF5WFmIEqUoGmPpfhfbMqdp1tyK+4mY4vjtQXjgTteyFuNPfKH44oCOsijkm01aaGG5Ll2110jOlmdfksKaVBdRFpY5H6ZURmllb1huaRoEb6oIJPWlWjalCMlWGWWJ354JV1fvsWlX511httsY9JZIJ+DFjefdX0eBCec2QmaEIuPKjinkwxueRyhWJpJII6HGoqZjrkN+KZ/xX1IJ6davjdgjBJ6qaiCEY7/Z6qgmlLnkow0EgrcgwOyCWmtoAH755O3wgbpibzuqiesaz4357CkDeveqJWGpF2gxzaYqmrPmviftM1Sq21FzR2arZhLZqumuXGS2OycrdVGKY/qSkmonO7mGWSSEmV7WVPi+ohpfwj5S9Gkb7UIMLN+4hnguMt+hHCiZ9oYqIAjtqbkcq4eWt2RpPLYFMK8RamxqxyPXGyQXXJ3Mr8YuUYyVT/62izF6L0MWa/fyXyxqzV3DHHBN1tmXoLATfzwned6i/HKrXrK5lVH25v0z4kyretfGfdWsrJTo4XquqmyWmeOOFva6LapLuqtvGHR7N+s7IU9VY6Xrk10p21f/zos3DJ9LPfeMxqH7rdoq/q1qnbKXWLahUPn9eCv4mc4YK3hPd7ipToMcrVYbhg34S2zzeB2LBM8NH+H8000koItTKbUSx/IIeWPR2y60JbCvleQous8r+CvYw7grMA2TCaUnMcEPIqh9m78vogKCTKj1roJ6onNw4RrsRM17hjlMFcO9LtQW55drDp9b/erpSP7cPlqn1+k6PTrDjhHZod4oKbEY53xPIUmpxVKVSpCXtEkBiSeyUp13AOfAF1HrL7UxkAJdFi1+LK191Fwg4xb4AEN5qkIkTBhQanX+Ah3to1obyIpu1z4RIgSDPYsTZMD4dgsRrbT2Q6BVbEcuP/YpxIbtnBnMgqaDzdnL+xV6IO7yxXSeOeRJEpKbv3zWAP5JqzE0U4mJ+yIFWmHGyKWbYts66LvFqSTMIIEf0EUkgk948AzlpCOtUHV3bb2vdztryJw1FcD49czNk0xkECslmgIWCw/1nElAzyY4yKZJ9rtjz2/uleUytiuABaRki6aJBTfpzRlFVB6fFuLaBb3xyquyl01glabtmc93nCxgwLUlMGeaKRHvvGV0psjhmrUteCJEn64VN6niNbKI4JtfrnU5C1fWL3uQRNyqjRWMs/IMZTw8osQWyPC9uS2p7EQhdG61gnjA0KT7Ol+VpvliAh5x41NUkxhMiCDZLn/Phpq5J1AnKLA5klHZZnxesbLJ4ZsFRE3xsxgmdLgp8yYrJ51s3qyRGQl0ZmSRUaqnwCUIRU1WksQ7qlrMBSVPzdySq5hrXbPPFk+bSXQaHZulChrVTNvKNGMnoeiiRRaTUuktYb9qHVBheNOvWkc5kVvd8HsT9PYN6123Q6QvsxJNiNoSZ59aFbKvGjD3CdJqmlTj2zEmTEXytHy8VNbmYRdye70FCmSL63QXGu+2rqzzrA1rh56Gl31cqOoyTN9yOSXelZHLi/OEqxfKexiLIhYVPZVgGi9iOaWtcalSBCc6ZyrYUNaU2Pu0ad+vSuYBgZQpoYNSs2xZjsjN8GS/55xsTjKrIXy2dqYlCuniiyTPqm40ZOxFbboW20/c/LbblX0rXATHrHqh1x4znZeTK3b7nKnzHR6sLaGbBU9+wY5rjpvckjdJ7OOGrLiURCO41XuNS2a1X8md7qzDKu9DukaQEGpuxTS5gyFYsPU8XZuVq0tx37y3+qN75vmE8pk32ZLzkZSlunVllM3is2mUq6UhFFpfIYpzV6qda8bDmr9Qvvhlz4FXKANpVuvxdbvZie6HrZxG72lRP/N2JoZniGO/1ZfllqMoUh8ajY9ab6lflSO26yo4EgqxiObOMmMjO1nm1xkiOAzyradsmF30iVIsZOv+ArvUNE3x+8qLf95LykzHys73zQLVbjYuylegNrVFXc0UAseWHkT+9hrvVbEPBMrXpf7Zy2qN8+MJbTAmmtlZia6v3HM4E4UvaKFuTHItlVsQYk737XN8a2uXV2nfypRvZFar7Mj9XXNd+rhqsSjw2uk34qmszeDubG8Em1hsRviA2uxnJlmm6/h3NDpCXvY4N0xpKEI5zxWmImWlemoIbxYMApaxaVOdgRTrN87so/bCb71K3sdz5Q6V9k5RCYhW0lZ7637qatl9mXla0/qTbq9so5Ut+ujyZ3Wq6ailq9uB307ELeUg2IyOC6LSluqhiyi8jNtCB2qka79NqX2dBvGoWpHNl7SYhz/NzKvPi7jnIq8aKC+qsnrq7KUu7KePl7WhIHK5FkPGZc2rzLOsSq9nQO855HW8WnD9WvfqnPUHIay+vJaaf1BD3TpjvQquwzJXPGZ5HucenCjTkxs7Xrhe846Ukq7SVtzVESharBBE7ptQHO90dEmaIfoDk6SWju4XYLX3Rlo1Kan8nIsj3GNkclkfwt8pTO5p+HhTVm5LzrpmI23zJut7xq2Oo1u15pSx1xI0K8Q7LuF/CdV6FJsZz5eXR6nP0HM7+FoVu1s/PrhO39zB6Pe3rdHNXkDTtC1HxOnWUH2e0WKVaPrW2X/Fj5YlB9F5kvS+aofaRPp4mR1h/zz86Ib/zCv/PJzeryTiAc/VJ4H2fBLtMEwzm+Ec7r1AgbdKRc9MDm5/9LFiw+/VeVnvCc5WPdy2oNb+AZN/zdG84d1/xIq+vdtwvRDuGZT9AdLu6Fl+ed2YJE5rNVTqpNNX1Z+F5htHrY4cNJ9IXZ+jzZ5YgZgDHdlJzZhxJYVepU77YcgdNY0N7ZX+ZMo90dgBkRiYmc/VMeD+GV+EoRQ0rcaQ4iBRYhWI8h0mzd/ZPVvKhg4W7Zao2dPMRZVX/h70TRwaUE9kqVk/VdHkGUeGVRvobGFVPc+tRZD1KVTcJg1UAgajnc4NJh28XdcdiiHABeEepGDKvM5HJUZucJocOcoAv8TdaKTSQC2iI8XdpfHLXanXmMXToOIRyK1P73lhXqYiXAFQamHhyboUaDoFz2WhVhRgTkoROt1dL4UaM9EH7CofrJogmGIcyHlMnkIg/vWeg0YVEilUCg2ePgXjL6XP8L3i3Hoe2+le4wxKlr2iDqIfPBmanPmgcJhjTS2fealY7RXij/ijc6yV1+ncZGIex3GiJfmihKmjgBXPmcGKK4miNT4g5YBVNfYL7smLt2iXYoYdwL2HP4YjgMmf6jYNwRZYsH2QwoTiIUDeyRGaf6VfnskWkuUJV1YkQZ5kYaWes3ROBqIafL4iio1Y/8XVdCndW03WKeyksMoV6xGhqevmFQniGmOeFuegzufF4uIQ2Tyo40TgklQZ45bI5TpRJTiFnAVkycDR32p5XW0ZIkV1ZOKN0n+B3ThWHbeRVtaWYIHdHiOF4NjGTNZ+WRmeYd8lZa/BCxbh5XZQ4UhBJcPND7eAWGM5mdhiZcEp4Sut1mdk5JwGYAkpzWGmGOAGWDhVVUD2IxQ2ZiMpGeW5UJzRpkqh3l/yT/KqJm5N3sS2XGfCZotF3WmGReWhxQBAQAh+QQFCgABACwoACgAsgC4AAAI/wADCBxIsKDBgwgJChCQsKHDhxAjSpxIsaLFiwIXYtzIsaPHjyBDihxJsqTJkyhTqkSpMUDLlhkZrpxJs+bAlzJhupRps6dPlToFAgAQ9KfRoxyLDi2KtKlTjkOfSp16MSrVq0hxMi1oFavXmlp5Juz6tSxNnTiFAlBrti1QsWkDWCXrti7IhWhz6m241a5fh3jh7t3JV+zfw4ANF+x7UzBjxHYZPybceDLktgvJKiUqli7lpYovu828trFB0AQ9t0QtOmtoyqeHctYpW/bE2q1dI9xaO3Dq2qUj4s7tk3TM46a52j7Ye3DY4cRtGqecN7ZntazjBoYe/axM1a/Zyv8Nvtj567nkJ1vufnA1eeQI0e82H7+05vDJ2UuMO78+cM4NWeXbQP+JF5OA38m2Xnf8tXfefwCOVdqA2C13H4IVLhhdXGRdZ5F7BoFIYHqvuceafv19Rp6HFYmoUIK/vZhicygmNF2Ay7moYnOk3SeeZIJVWGNhLI6I4XgyjsejANyJCGSS3A25E2tF3jhikhkOFhOFV5YXomP4EUeajl965qOREebFpYH5tbkmitkpxttyalXX5pEvzlmUhsTF+aV/K0YIH2xIErrlg3uGieJWgeWFXockfkmboPuBKWWKkuL14qOBYllZZ5RGpKairSVq528I2hklc+95qVxsSVr/KaacmrYp5E6q0ilhYbC+mpysuQHr4aSQnljoqBMxWiumhh4mbKuDckdjl8hWOt+Tti7KJLQOkmnjtn82q2ORbF7aGLmflvsteIMiB+lD6CJ26re8OpisXnNCOOGyzbbr17zMhiswRGEBWiCuQdoLmZ0NZvrmQ9Xe16N9wA38G59XMaxlt422aGmhhw53sKcXk+qViRBa7NCqqw6Mp68/mixvgvqqjKOZujL7cozUyhwdp/XiGG2r8dLLKmjKkuwX0EYLTSjOG+U7W4kJm1Vky27SXPGnb2LMc4XoNYqf1zNdnbOr7qbMNb/+3haoyFNji1XNO7bqLdxKhxx3xyvv/4sylwCjfRTdKIeLs3zZ6i32w74OuKSncg9+dq9DpzrYu4kBajOa84qNKnBkf4T110/nWOu43OatpN34TTuo52i6PtPEseq1M8dQUjwsv4xDDmO/Fo1uEu2/2r4vxLz/jjXgbCucdtvBT87SttMOl2i4k5Ju7OfIXw9z38Y6DrrPF01MpekqN4h5nQ+i27ViRcsuvuwlmf926s6XNx3eEiKeNEjyg5/0RmI/7lmLY0wzm/+oFpIAWgd/KeFfSfi3Hc6MrEvQu9bpBJgnRYUOIxIkCQXxApoLsklDsNtMB5GXEhWCLDHCcx+tENc9k5Htfx9koa+KRrz66HBTFBNV8/8CdkDska+IU4Jgec53MC4J74FCVF2TaHWrhk0PiPdi4tacOMCjKfF17YuUq6y3MZpMUXwH6tQL1ZUlb9Xwh4LTDrgSV5Mz1gpBmIOaF9FIkd7RUWNpVJ1NpphGy7ELTUN7HsI250Nx3ZFEfFzh6lZCyCQaknUGzJ6KDsVIVvkrkgjz1vy+eBdaBU6QdNweBo9VtZ4l8o8ma+IR75UpVKoHUQ/iWeCOpEnorUeWLfxdlhrpMkrt0kL62hsnM0edMtIxgyRBnSrZWLrOCZBT/0nhEF0lRyKiUnQWpBSnFudBEiqolcJJJjVP0kvBgXNMoGoj3wozsVOCT21FC0k7v/n/oeblsHFzLJnTpMmtEuLPcm8ckRU/8r4G7gtnjDlSsQoazoFuU5LsgyZDEwa7mKVIjj1Uzu3AhklPWnJqlTvnMJ/pEY1x0Zf0QRjWyGiwkvaqnhv8nBbt2RHvOYmBJ3Wa7KYltdiYqnXnnFQFpxlNKm4SeDiJoe7EqVLgsSxUi+wfShVqTqZS0pjODOTqvDpJR5KOcsVL44D0lLyB/TOdgHQQNrGaSaeuc43NVGtOWcU8t86ylOBx4ZlQRjcjio2mwDvhPLVay6MA6000zOtY1WbYRiE2opC8KCL199d7KcuOabugHpOJVcQqMLNKVRRCZ7fNkK5Va9Ii2lSzec3j/+HVgIdKLbz81lkQ8rZw96QtGJED3Aeur3SNjVpvO2K54mpVuITqZlmNq8ZXYhQjb/Wt5qILqkpiLGzKQ+Z8Hrcu2daOnPmM3nbndcGF9i2jhQohEJE2toCuMiyHJWVPa+see3a0S/S1Ityga1S7ZjVo910uElcaPqpBlmLahOJkmarKaiFYsSspalkLZlKx8tFRumIaFvsYVpNmN4perCK+cnku3nq0xXk8G7B0+Evbeiedu5NwxKQ30y1q1ndxwuyJF8zY/KlYkj32kCzXA2IO12fI6exkVXRFLDGaUKQ2fepdDQhMlRzSoWe6VWi7uKpcnbXIXf4qgntM3euOeP/Myq0dkZBJOAXvds08li1o5WrlLsLRvYWcrY9vbLSXDZh1uj1pnMhoYVem9bl+Zm29DE1nRIMqquML9DI37WjiIvXKwcTtgbNWY09vBtS3JTU6m5ZqTxOwu5n1a6mbeeqtoVXWq9YZ/gAtEuimd7iCI+tEb/rIKi2uzYld5QQz3WpWew++xJxuz5zrsOaleVdgWXGoFTZXsnqTr7DtopPfwun6AbXbdGXmbgkrbm0Pj6O5fiEKzWndyerU1kS+VXNjyk54S1GMQpxOO0WrThJvd9+ufrfKTltv9obYxvHFt0a5rcZfJ7t8Br4rYjF8p4e/8soYQ92WjdxUMY96VP//deOEbRvb3JqSxQymsp1bqrXronyxKq+zyRHO2WhXT+ZSkS9FRsstbJU549Jm00jd2ROhu61XOS60jJF+VV2WEymH5nWBXe4pSot6d/tkuljL3fRKa105+G2l1zdLzZey+s2jLg6smVzz7/00pQkEelnJKNFYFw/KSKSf1PWoSPVt7dC5Y5rAhXlyd8t9paSbk5ubPWbBS1jFdPfpzGm5OhdCT2IcZKa+JhPb1SZUzo5F6keBavLV+86KBYRxdQHqxwyrXmH/az3uW/naMuE7pEr+7eajJ/m1+YvgpZc4wV4+eTzqnSoURq0zkf9wVF+48S507fAjSMpEtZd695u8/18FWt5bx3H7UOn+DH8PflHXnrvkH695nY1+zqP++nrzbN0r+P5Je3z5RqF5cNRB6TVKivNjovd/A9gU36VfYlc38od/Y8RyDigVDYhxMyI9M8ZShcd4iDFX6XNE9MVPGXh9KmcXIMh0DdhX/XRX3mNxc1NpkYU8FxJp48YzpIVjpnNc0CeDQVQpNShDZCceOQgRssSDU/EsS8dPxsZrIVd3LoiAcnc4EPdtZyZJkYNiLfctgPdqKFZT5GU4WwVs0JYusaN+o2FDnwYhjNNfbdVxR3VvX1gXBFdTJOWGRkSDlNViTgNNXShC+BZ8h3Y+AghDezh2HZZsf/hqBDaBMf8DJIVYZVfIXbm3MODHVCJierjDTRuzhbhmhZCxdBM1b3EFZ8i1RMokb/VXdp93P6Tob8mxcXgFT6C0iGUzdUrzRLFIIkOlfCE4UbpoNbiYLcGoZSdVZUKIivcGg0+xeIY3fonYh8omWQkVdpExR703jfYUP/N3f4nxjKIxZETFeqFkPMZSYfEUbJH2FeJYVZWoTb34bLMIa7OyW+BxhBpYYmAXb4VFeXVBelOHj1FXfMllVXvIjDEIbAczTuHmXduSeR64WYQnGi/DbkRYVUXoad5mhoL4g5MoJdZnkNDodCxFfeaCbN/2ZRDYbJiVfDUSez8FXAaYRGCYVIxXQSTihYSz0mWrxWj7Z1/LaJOKtT8HWYH/4lSwE5KaqEH8xEWg95JIyTdK6WLfGG/XtWfmIo+yqE+qVXThdpIqSI8Xh11dmYHFyCCXiD4RF39vF41naI9GWSpp2XdKl25MSFG6eJZwMlW+kztnFjjwxHGgaC4iBn+7+JerFpiqKIFgKX4AdWfY9ooT15hmaFGQ2UiSOZaU6XtMmS1AspUAto6bOWed+Un1BZoXiZCjiWVlCIn1hZNtuZq+BV62pFn5xZiyqV6fEnwOlZsmAXq8CUBx6ZuVsnimOZnEKXfGaVaaaRIBAQAh+QQFCgABACwmACgAtgC6AAAI/wADCBxIsKDBgwgJChAgcGHChxAjSpxIsaLFixgzNmQYwKHGjyBDihxJ8uBCACgBePRYsqXLlzAvnky5kmPMmzhzjmQZICWAjQpt6hxKtGhBnj6BDuRptKnTm0l7/uy4UOjTq1hbRkW5kWnWr2AteuQ6kKxAlFWthl3LVqlZqQTRVm1Lt67Pu1OVns1bty9WvFH1wvVL+GngwW+7qi3MOOZhsompem1MmeRMuTP3vq1pcHLlzxEvq6wKOWVQwahBq34oOi3gqZ7xpl5Nm6pP14BnS43quXbh3lT3Bs0c/OBWvr4ZAx/LF7fu48nX8kzLHPhhxUiRR687nfpe66aPev8vq3279MW7p0aumN3gevNXY4d/P7F9QfrwDdMUyhv9cP58QZcQftkBl19EtwFIloGSARjXfOWRxxqADB4oHl5eJfhgZxx5xVx/HGqmXYKcWQiRaHK5t9+G4qX2YXgecnRdemnpZuJSAmDY4Y7/1VjcaYOpGJlzLUp4o1g53lVid9TxWOR7MxIJpHBHspekbstdGeR94T24mVAlKqYhjlVyuCB6WZaG0IyHdScYbimSWaaQo/nIIocvhinna1/SKWKIc3KJ2VxcIuTjmDGKKJucXqrXJaOBsqiji0kS19+ZG6mZ3kOlIepfoJ2u+COOcoWaKWw7ajqjpEo6eaOejV7/WieaDpKH6agT4pkkfhbCautdp9pZJJV/Flchrg2uamKGjyprqIwRshrSkrui+qpajz0aGrQIOjqtk6LZGGmDbtqGarnM3ZleZLfmapKrgTYJJHHClvjWvcAWiiyggB5LGb7E6hvnmdTqmu6WAU/ZoMJjRgcwwkYOfC64asmL2IgRMgmmgqNFR1yx8q3p7YmExppvRYuKbN7Hm+4LMZW8LixobhalbFy0oJW7raL5+phosievi7Nbj/qb88b1QfuaYpSKGbTNzxYrLm1Gg3ixs+/SqSnMEUo8odF0VQ0jt0JbqfXIXIt88LNgt7U2RdWVnPXLCZVrdb+0/qfa20l//yc3oDEr/CKW8Ar+d2ODCusu0xTxqS25hysVt8hLt9x2UYlHPjfjEzk+ZJN5Fxfn2ce1W5nOJNML78FvV85yTSwTvaiApXbsF+pfa6kn62TzfGafQANOM+2jje52xUgbCefjMyl+s+vYMl/48z0TGjtYPwtGcLWfD9ot9H4WySD0NQX+kmfHYp3tsfKpGmDQkn+a8PFRS6R+s7bvTH3av34+Nd1h8RWQbiUgqUFKXWZqTqpEZTD5uQxqLoOJAPdkrZbhy383mxDwWkMr5/FrZhj8Cvo0172iOVBhnXscpyb2PRbS710hu5AJzVYzFQ7IhSvc3soc2CQM3qptMUPR+/+Exy7bGU85PKSODysIxKGZK1tExNjksiKluRVoPB60XOhy6MQxQclR2xscFUmDMz1ljnMzI1wLW8i3iI3tUDZ0iabCNarmre6E+qrf/HpYvREWq03cU2DDHDMyOnYnTrizXxlr1aNAonGAEPqSzTh4k4KVDVIxsmOeOOazw5Uvjr9SlxD9Jq1hxcSSk0zef7xHI05az5MLjBkUSZUv423tgEQR46Cw9kipHFJUBCLU58Q4xRexqVUfzIkuZ8VLmT3ol16rmzC1A0cC2s6Yj5uUKZuiIz9uzkirzNgr7WjARrEtesdc3FW6ucVtQqyKegOaGMOnq7OpSJ2YE6fKIHL/v+VBslu54+K2+kMk843kPTEU6A39SUGAShM8QawWdrRkUJxkZ3bUrJawSBS9CaIxi9oDpTmRVdFKcqyAtGSliJyHyE/VS3MhNd/dwImTIio0SzT0WxuTFsyRPlNpOCupRmx6Q9Mlk2Q/3alErsewbBoRlELNiKwgOFAnSnVsUcUR7Bxpypk2MyRThd9StSRHrFr1oTsaZVfH5tOaPjWdoTTXS1EoTf2tkK4IjCslM6gTicEVZJWSWyL1WFd+KvCu+3ti/vJoUVUmFnh4LSy1Omk4Oq6RgggFalZl4tjwQRaX7prsKysrUUUCT1nYLIo37RnB1oJVrG3l4jBB57uz/+6knSYT1+UaB9u4tnC2FqucMpFHWdH1tp7uNJzsMPYmzYpVPsTE47caGD+eJS1737SXU5tb2xByKbp/YStfs8q7zIIUboEE5BV1K92XzLSUnKUSUyH3LcfFk5St3W1GmNXSe4L2avrUanupC7SH6TR63UVmY+nkq8+yKrP3xYjFGBowlbrRc4vNCSAJ+9NTLWqjEIrsPnvpX45SDmObHeoMv9lhxRKUYwETW4T3aeLExpYoRD2vpyJrs2jiF7l0xaapCju/oeQYpq3kLvXw1boMC/ioQgbjIvOKFUue2KO+hWHyjti/w9bQavrViZWph+VyisduTrbuf2XLxAGfcv96LdYfRFf8rF1es3fG3eDGjBbm/cKZPOz7s5rZa2ftQlLPM0aqU1rKsoj+j53qxLJ3hZo+24qE0WQFoJzG1yqcbvpTk7b0/4p8vrQ6ybylTbRlkZXQLHuKoVgboX1MyjilUvjJMnTwA1H8PkzTMdYdZKRbhZdCosY0o6Nu7SA9HGL0fmWJxWYupKIk6OT+KkYYzalT5kvq/821ZdNd8lNPHEbBoseoLeG2phn07a+OldzjFvdEBzuYPiOpxBV0aFMNmGK7GvbRtWz2cPGd7FDzW9T3ViTAS4e2XJJtw9MWaZeR27bV5jrf77IvuMX8cDqPyt0QLK62I2tIl6Y3kgj/p2EzwUxGdBtY4TherMU72W9Fr1y8DGUWlW+YT3pr7FQDPzO8uJxayU5vnsrjKpFehzy1QcviLsnk0J1c9Pr5CunyVToZgY5L6D4dt+cR8bpBh25KHYzaHE46PU/XWcY2UHVph6OZoa72NIb93VquLnotlWZAo9PLK2TWJ8tulECfU+/XpWjff5xlTgs+lhhvCt3ZO1ErvdeUL2W6ii6Kv9fYO74sXrOxxsNT8RI285l+fG67vGyH63D05NwSmp139SQSjr+i4jzD3R113Y1WnniePSybpmhZ/72/rJcy70t91JDucesJD9aWpSf2Ed5Sm5Jv+jdv6TTQS//QyBa9//Ubjv1tt3252qS3csX39z8ykL6sPnfDn+Jz5+5Y9EqeV/st+P4Ja5/ga8FlNEZ9H3dW6vVKs6R/iBd/xxYWAjheBDhrhvUlNIc/eLOAP8N5IkQx/uVvoPdiFZZ756dYfsZ42beA3WZtfaNFTYZ8hLN8kPR57mVCUscik3dtp5ZyRbVYPhZ6bHGAQFZvYNcohkYSg9SDzXd3lXZb7odPc+NXFTRbe1NtO/eBAueDT/JWUZhRMkh/ePRt/sY77kd0FCNyINGFb5Z4Yrd+1hQqGWhqZeZsiAN4+FdHtIIfoeKCvkRGFUd65vIvdOhtI6hueXhnSRVYnPVSNadawpZXmv8kf/s2cTLkNPZhPrhHGRLoiIHVahIYcr4Xe/zjgRuHiUhWa8FGVwmSgMX3hdP0S1PIbr8XhLi3apZIhbhmPOpGGD3lThoTZcwGgor2YOIFYaCxi0G2Z9P0YSdHYu5UiESTdkg0i6aWggMIgGXVejskjYwjVNx3MTBRfvmBOqoIOqwIi81leEK3ho0hjhYoYOeVaBeIa6IIhvCBTYGmh/qGSftXQuOCWe+nQYbIWx90ie+UaVUidXy2QP5FkGLHcEmIhhtIYCt4PS5HgCc2d0N4JHH4We1TPSN2SYK4iGwHcOtHOpFHU6lUVf2ojqK4XBehjFaSicviZg8JVC/pkXv/14gHYmGyyIpJ+E/pGIx16Bs8GZTJhl31I4VCmWw71Ibhpyy7OHhdY3orqZJ59pQ2FJWQd5GuNS5oVlu9eDhQ6WRoN4p41yvTB5bIyFJZSZYECINd6TGgRoezVRpxyHgQqZFzGYnhhF+Vpn5VeYbaZ4ZJKXO2t5SBOY/T2JVTJIgtmZiw54cLaZACE4gqKIQy2Y9bpWOogocN52n7BGKQeZnokmpopXcGB5KjiYVKtmqHN3rPJ4wieZBJ9DBSGW1OyJKBCYu2uZWmNWVEtpq5SYK/+TPYyJrCGZxBAXL/eJXomJwaoXOaVovPCZ3RiWDTeVbvOJTWqW2e2Z2kWIWaEAae2ENcp0ie3GGer4kVAQEAIfkEBQoAAQAsJAAmALgAvgAACP8AAwgcSLCgwYMIDQpYKCChw4cQI0qcSLGixYsYFTLMyLGjx48gQzpcqFGkyZMoU3okWZClypcwY6Zk2LAgAAAyc+rcaZGmwZs8gwodWnLgzaNHiSpdOrOmQKRImUqdetHnwagBgFLdyvWg1Z9Js+LsSnary7Jo0yI8q7atW4FsB56N+7YuTLoB5jq1y7cpQbxwGSIF3LewRL0jBR8lbLix170LtUKEOvYmY8eF9Up+SPkpgMuYMUdeDHmv5781QYfOLGBwabCoA69Gqxdx3tSm5eY+/VD17Jy1X9+W/Rjh5rW7fxtmSdNyzc42PydX7pi5YpbQCTqnjnbz1+EXtTb/H8ubom/u4cnftm1RvGLt6g9PR48xrm28o7dHVK2/KH2O9gmHX2ukySdRfy3N919xCSbmXlzZgXdebLoFhl1YCyLn32MP5hahdfUJuJFYx2VIIYjREQcdhGGhOFmLe5V4VokmosiiilARB597OnIGI3wb0pihdexVaFSOun1n1YCeuQZbQliZSJySuc2IpIUjYtkjhZTdCCWGUjrE43rJRXmkmPH5uCRNHkI1IXpjfrdjmkKWF5FzRGZ5pJNDzicng3ZSCKRYB6rn4plhNpjQn0GmuSWhkL54YpuJmmTmZV5quOhzY9moYKV3gokppZsmxpunJspYJZtcUpamlYcy/5kiooKS+WZbqmpEZZNXGulZrMllGqmvtn5ql7AcQadVncTqWiaYmwl5K1fIZqRsZY4qihxeZkab7bRdjRcglbZhFeGKn47GJqcQHTqbuKuSK5y5vaLbLoHrBsoguGSNOmWwuLWKJ4HMaoTgtiPmCt5y6Qa8sKLlkpZftsgd/JhVCvM7lZmBecfuRxMXHFKA3HF8m8f6hhjhSySvNjFqwfGqJYOq2gvoRGMa/CNfLydZ2oUdalozkrJSlHOCWGlM1KXP9izzfgATpnDQvRH49My4ito0weqZrKmzaBZFtYPYeqw0cFwzrTOvSRtLZqHesv2qcM7uSlvaWq9NItFuM/96FbRlg9njgPk265arFO8pOM3S2Ykg0NKxODSoe3sdneWtXghfxAODNTl1AXbbKW7e6mfloCDdp+fVwwptqNt+IQ34v6U3/nDcI4soedeJ41jrThNbh7mRo/0aI+/uzko43eAtu/ijxWv7cEzBk/48xFaLdfqRyQ+6fK2a7/21bgo/GhPTYzo/uJ/H89f7ybwPivikMxctFPqj83Y0YbC6LXL0jguc2iQ0IvsFBYAdgZe6AAa+jzXQfF/yXYK6Zzi0iUw+C1zg+CK2IQoaJ3+te9v0pPcWzSwOcnGaV6+k9j76lWqEA7ogUUw4Nb6tT26/m5WBRujCHHashSBz2A3/ObRCTqmvaqx7IAwLyMT1WcxzMDobEh9WJNR8yIjYulcSiZW8NaGKfLZDU9ukuEHr2W1OQhJde2y3plMJ8YXyQRkRWSaizhluZYpDHc7Y2ERIebCCm5Kj3s4HxB3SS4Z6HJ4ewWY4boEQZu/hoaUKCbWnKfJvcypUYqooyaNhKXpk3FT4Prg/LLbtXgh0HuKOdsmUVaRIoWQks05ppPlJEpK4W+XOtvjBlTAvlhPZHSL9iC9W7W13mbxZAyEHoOyNUijCpKR7BgY5ZOZRmVxM2PXiCMJhpu5nDpQkLFf1tOh1iJNbFN7oFihIMFINmGV8pv04yUz4ufGMl5vbD7Hk/5x2/vCdsMuIBhHlSREibItj/Ji0wOkaa5qnTSXyZlWKKb9H+myTWITizI7YQcXYMZkP1agOVWK6PpoKjihl5TpXd8cw1hKI8AxJSf8IwZoSS6WfZGB0WibDmH5TnUXhH0sr2kuDGlU10WRWy3Dk04tZL6jsY6Erx3bUvkG0Vxsa4hN1otTjPQmk+8oeWB/KuSxOdKn3S9z2Fim+FyKQl1ArqytRSU6ejNOHirMSR0dYOzwOkqD6TOm3SEVHJdqUT5Z83Vcrh9U5zqp8N1voYgn5nQGCxZGQrWz8iEfYsGpKrzZcykfbCsGtmixmtBpW8roKwUPZsqlw491pdUpKSv9WtKDQMynjcgjZnYhutuMT6RrLSduL3rJ5ih2pTV8ix1YadZ8+kmVj3UgvvKIReWKlSnO3OcFViUxVKMzWNMPiz7+J7q398uo1EfhFm9oNsT6yZWxHa90Zqpe4cgQWRgXmUjG6ymhuGupx0XZZh0n0RQcO5vEkS0Tn+S24KGERihLs38JeM6vuxNaDsUlHL3rUorUa71wbWZqt0vWkqy3QUgq3Llo2Crr/q+sPp7Xh9uY1oLF7VJdkDKl22q+8PUJQjLu44P5Ck3lyQ+te0Xm75DZqraJ8Y5BVvBXcrdGvSxQuJgUa1S4blidWroh8SchX7lL4uDXWE5Nj99rsXgb/uF864jO12GQTd9dyJiQwY0UMyLEet7rIDWmdjYwwPJfYthO9rtkySsDwsfiqxG2tgK8bOvEaOaFNBS3T6pmne+o2sSk8aHypDMYPWrNwOd4yektZ27DtlH24VVyMcWQx54pEqvZUHpIvvOXNwRrE+Zw1cmvNXeBJWYRv2rEmQ9VbMtcWvl82dm5pal5SuxrBgYXws62dTaag99qNLq6OV4phsRU7w82uGKJ9Ocz8Chitni63opwbsmxX7cz36ul8Yj1l6SZYWO6TdA433Ex9u1qobMXYuSEMZFUXd1w4FjOpwXtVixHZxgTnMnXNamo1Z5e5E59bNFsG8X9Bks2j/9trgfMsE1Aymq02YyG9J93tkc4ZUQbkbFPSt7iIhlbmC3/uzQAeTu+JW+cqkZWXEN5SLAPYzg29b9XgrROlk4rp43b6HqEuManv19lpjS0NZTu7tlqWw2QeT24f93HtRVwkMoSv0xh728DV1193BvZAoetrpdDykF2vJx77+joG+5nfKM33uj/yd/IGWOGq7DnZPWZ4XruxJwH9dsuze64TMrrz9eXTMy0n94aR9e0J5Hy9PA/qsh9WxaO/XunpjEHUs9vxaQS23DJr4MZiWsCkd/wQwW1swBcVs41VHQ7zmVPkt5qY9R0x9bIHbdJGF+zylnO8WKpLbylc3kMxJ/+3nZtutGu/bhX/L/e0CX7RmvVNgqfkn2zp7tgOv9dcOf8rPy9/7qu//sxmUbhWFpXXQ4BVfttmbvJGdeeBbzI1WJ9FKnA2X4FVfgwYUA74U8fGVnjlSJfncANXdELnSli3Yp+mXGDngdAHgiSmL35TgNinXStlN1RHfMXCd1SERY6mXvPnUhnHFOfkcbkFYOiHg2W1g0YnYeB0LMfGXg7DZBbHUhRUO/qTcnSSNwNGFUQGgFBoZH8yhWRXhTjIOtQ2FUI1W/UkcCgIboDGTXySgXb1axRHhkfXbmEYQmTzhou3MboXgFjjVH8Id314Rah2OH2IbYHYXYkIErFGiMb/VDKrVDjXooYhWIg+N1CztId1oUuSiCSxdoGWeIWYmDhwGH4bWG1JFXT+hXz6909qdYplUYbHlH62FmeERncr6IooZntHFoQm53YStIPyYoM7dHy8GC7OZEwTxkcf6IvGVVSYd3DHSBZtaFwjB4svRWvdBCOfMx52BFsyUY31k37UhoRtxWlt53LVI4tZQ1yaV2/LtGtQxiuj4nN2ZhiRx0+DdUUn14KpRY8NY4+3GBpq9IDJwm0ntVz/UZCMqInVl5BZSB8chIeCRXn9R0/sc3/vokLSJz34c3ohuIvRByfT1VIu+IReR5FGJymUg4sMx3FIN48qiXOfUop1EV5+/5OG4qR6JeVC5Nd1NWJKkaNTZ2dFZKdfwwZEUReUkxVll1SD8/aKGjmToVEthXZuUNkqImmSUhJzcgiThsR61seBa0iStHSGwrd/6fRyZUmWqQJCMtmUWUkm/RRF7DdFlRJq/4h/Q+iU0vF7HQmOXeFzc+J8uTY+mchTA9mShHljz6d5/fYliimYfNF9GvZuPKZlUIRaNqkclmk8OQd0q7iEVNmSiiZymYlNLpaDrkOZdjFmiYh3yXRXjOOamKGXCwgwiEd7ppkev5ib6qaQENmbCgZJlZaTqfmOXPObxImXNyg7yIlhynmW01gp38dZoVSCzZl68oQb2ZmR22kScyKXauFZdct5F9VZnokmPbSpnunVUdHmnjcJnvLJGsMpFAEBACH5BAUKAAEALCQAJAC6AMAAAAj/AAMIHEiwoMGDCA0KEJCwocOHECNKnEixosWLDRdi3Mixo8ePICcCGAkgpMmTKFOmJFlSpcuXMGMSZMlSoEaZOHPqlEiTpE2GO4MKzbmw58+FRQHcHMq06cekNQMgRTpyqdOrWCdCJWmVYNKsYMMi3FoVqEIBI8WqXRsgasSubOMKdQsRrty7ONMetIu379yWZ/0KbqqXr9HBiF0WNlvwcOLHMa3e1DsTsFTGkDNTlAyU8kDPfDWLbmvZK2O+NyeXHi3as+nXe4GqZi2Yc2WBi38+hEuXNlvbn1vmvrwbM2nXvpumpuozoePGLYEfPW08uc7lWxs+v018IGfp1od6/+6pd/h277Krkw4fdjx53NE70xybHiFy9kzvHxfevHjSqaYBuJl6+HGkX1S9JTRVWd8hVVFoBUq0nH6qJQjfgvGdBV5g6B1WVoQOTbiabvsdqBRzJAZIXUbUeXgiiPSxVOGI6ylYH3rwWegcjZXJiCKMpvmYI436kQjcedrxGJyPXwHZ4Xz7GaRjj0RCWRFdAhbpJFn8ITflklV+mSRoDtboZGzkNefecLBFNSNsKRaUnY1nxpgmf1TGSaKb8pEJp5xo9RdbnYPiWCOCXJWJGoESlkkln39q6duRXVYq4KIdCfhoc+BJOhqEvFlm1YcOLbYchxeWWV6Ghp4JqnF+Bv8HIXzT6dldqrPVuCF+oYqkpIbpDQehl3gGZx+r1vXK06+Aimgko8TSauxBbNIG17BWtgoofbNSmy19myIJ2bXQfnvrtrF1K6W5qJb4XnKQGnqnmsg2mqe3iFb7kLiPxbvnvMWqi+6Qx+Zb777sarYYsXTNq9WKpGF7709frurbwqs957C98r6448SXVVwsiG82C+tqAms6MHpTZWluyST3ibKj0/7JIqYmtywzcjB/qqqg0u46Z5se22ySp7Yi5nK055KboGrkKsZs0niZaN7UK7cbJ87TMVguhRD3ZTWrSGdt9q5bM6fyumAbHdfaHNeqbdRm1my2itIOGWu4WDv/Bfdb1IFHN9Nam5y3u0anKRjPNMOW8o1yR273dKee+7R6Gwv8F7Dgnsti2g2uC2zlowLtOZiHaT7UqzpjmCTgi5Ie6N50nk45o1QzxXrrTR4Lu3qXBitot5WPjrvtOP0Hee2mQqw612jemeuzdLut6/EpKZ97x5IXXxfwjHIpZN3YGVc9dNtLDT3FlTqeHu/ur9vt5U2GKmLZjOdEauFNYnkj78Cx3/HoFyhbkWpopZoZURp3N/SFiIEqehXR9NXAgt2Jbe1LHgS15bsH7k6CHaOg9SyoOOisqmwh8RroaDa/kYFpIyVE4WWwlab70WsnKmxay0Y4LYb1DV9QkuHf/1BHExta7DrOS6Lc4KalNRURc5xqXed6VzcM7i8sAVTiDN93stcR8Yr3gl+hqNjEJ96FSTKL4PLY558uJhCM2jIYwbbYucro7HAyQeMcb2crKnLLjWMq2srkGCU6FsqOO6ziS454r7YtS3J1jNjslOTEI4opZILEYwVBwsgXKjJ9DhxipE4ksk1J65Lac2AkT+LHdAFyQH2EYuFA6SIZBjJ/KGkl51QJy9MZRoGH3BEhO3Ie1T0ofNjj5eeuN0c47nKXpSMWzmx4StOFBIS+AlzQ0ijJNv4xTglyZneoeShr5tKN5FoaMJ0Yy2V2EI7P0eWTEnfDyKDTfIm83OH8xf/BTa4qVP7TEhUB6kKYRBOYQRKVLKHzODsd8aCekqc4NSmTg/KvgP3U5EQbOKdq8Wue3pIYYUwHt60QVI/CPJihxKdQPp1PmytN5kpIykCTnqwnoizkNCcZ0Ci+9HvxG6kBM+bTnxXHPRM0J94+9r2eyc4pFPQhHz8JKKSGUKksK9fv9jjONeaFWfpUpre2WTIMpU6myKMoU8XiqbByx4vNm6NZofQ8rT5SLcKiWUQxehYnVg6XMBXhFn+Z1Iei9SN5Ld1RaUTGRP1rlsxT6VRFd1XDQnV48nlYJCmITWZyNLPoGp8FweI/ta4yjirtLGfBp8kZ0fCHrLxRXofUWQ7/oXR7CGyQy4rz1kIJ1iV/ZZVrkbnM26YVk7QT4157a1vJxuS35SSTaGunRoFd0Xt6y2RXH5dTmED3hC117AONZ11BYtdddOtuVo1pEpVdN5EYPG1EdKTepHZWsehi71P0al74mpCxh/XkM4G6n/syBpf69Uj51CjYhim0c/PC70V+Srz/sfYlC14vRn9pVarNCKcHhu3Z8MnbrspXJWProIRrF7xqBvWYj2WxzJ4qVCCqOMQlbnE5X9zL6Y1xxhbGSi2r5E0NIyySP73iWX3MpfMlGIZBNOdedTtAABtNgKY0pHTNuLInY0Rc56Wd5KZrU2UNmImWAViaEbrJmdLX/6tiNiRtW5QoMxsuq5TNrsbYzEOppa2dBvJYegO8VKqB96MfFjFi63VeL6cK0F5WGWHd9aVE6+7CeQZT6AoJWdP20LkVJqt/M73AE/tw02/2IlxBfbxcibGDBp2kO01mMA7z2cZy5nSup2jh8yY11pUGX0fFG98265S/ZAq1iQ0JwksuOla72ydNf6ljr5WurFzk8Yp3+k9CLwvayPQxAY9V7RO512PxkvTytn3h/mn3mq3OJ1gzSOMck/i49fNqp8faHVtapMK7TaBcg0zgQbNotuO9q4+Bi+N+EnCYk/PkQXfaWr4mvF2+tmdvCQosiKuVn9MNKuPKBr2M5xHdjP/GKLjLiEuQ0xTWu2YoC++9WO+iPG2ddFZKm+vRl/MbkjIXWjLlCe/BZZC5kmxsIH99cbtNHNOhfdfC21tT0IaTqK6LOMh6dlrahTyj/ZY6aPUXH1f/6J1YXeGmKAxaOyf0tXGlqp+1XHaLUxaVgQvx140+VDvBve6e3m+SoBbuhg/U24AdcRiFzdMo/qm+GMEW4W9meIsnOPFX1jurWfpnPNsz6wmuLYEP7kJ1c5XUmvY2w0HvbdGXmPSHM72uUT/nzKi7hDB9/MwzH0t5ThqUd7n9u3I/t933s9Fnb2Cc19KpmYH49WB/FmQNflwqKdtvYVNkk+O9b+Sftt5vfLf/sWPtYagDLtl2H30hS0tduoN73wwv/4lhn1V/W1TXBnaqVx3Nkeurf9bDVmjFl13dU2X+dmnQl4DtF4Cep3sEmGstdIBXMWkYAnm8919TB3SpxlT8FHwLVYEbNGtDRSpgw3HBdHeONxp452mqg34XGHiK5DUupW9ysYJyV328JHujdGRBJ2vMpnoaBxGIYmn4FmJOdlOCFHenZznmBmeKphLl1W0PqFratSvTpYSzx4Q6hnRY4T0ldG5TyEUZ94VAtoRZ94LTgkBduDxkiF9nNVW2Fi/j83C3pixq+Bs+uHwCdjoNljBktm40d3zI9oQLhCg8xH7cEYdh0l+dh4Zj/5Z2WdFYscNNWXd1iChW1DN2g4R1DeeB7jGJA+duPqSHjhRw7SJNnYgXIGR206d5n5h9WbZUspNOmtcXq9h2gThKDoY2iHNns4hP99cvAFZXzZVQAtV4cmhl0QNziFGCaMV3T3KMmaOJ1iNRhLg6qchrJ5F4gpNtvphMEoiAWpdfQMiMOuSAMbeFAqeCURZsmfiA4/ZZNwZOXGaBbDFkx/iOvRiP1fiBbFiPIegXtoaOCIN7mLRM59NhRMQeAzmAQnhBIKWNm4h0H8UaK9Z17bhmT2do/YVmlMV/b5ONJ7iPgqJk4kVteed2njUpxPWQolZSdFZsOaVOhOJ6/NY8MP+ZUDIZkDS5JfsnkgI4YRDjbAVWjprhfeMIdDB2VfNFbITSfmeWdxzCdV2miXfUVLCYHNFWfNTnjtxjZFjZZz5TRsHYfn9oawCXizBCdN20h5vllEP0dQMGfOGhI1eYgpL3jzeGaj8EkvcoZU6ZbuXihUQGgUYVN+GxKFJ4XDl0TOsTSlkZM3byaIzZhEL5mIkYmT4pVed4Z43pQdQIRJg3fkeZfvxEi7gydId5S7cmlixZXRvmg0HJVEq3bNllj0BCZfnGj+tYm4RpXE+5VsHkYDCIkSu0ZEZ5MUpSlp2kWZCpIsgZnMT0Lna5ZoMXkLQnnVA2ZDBHltiJidrZS+B1ZUWFqZKZV0PJuZZWZzriElXLiU/oGZ4Jp2YWlGE7GH1fSZfBmWjteZJVt3HcRz7pCSR7BjJzGXb52IDyaREF6pZ3xnRI9p0L6pJMGHtq6Zr4OaFXUi85d6EZSpoaqn49WWwhynxSmYVLWKJq4ZcqaqKiERAAACH5BAUKAAEALCQAJAC6AMAAAAj/AAMIHEiwoMGDCA0CAJCwocOHECNKnEixosWLDRdi3Mixo8ePIDcKEBCypMmTKFMGGKmypcuXMAlqXEkyps2bOCnOZJmzp8+UPA3yXDjzp9GjHoMWHEoUqdOnImsKXDiyalWoWLM6VErV6lWtYMEqJWiVrNSwaI+OHViW7dm0cHN2XfuQbty7Jue+hWgXr9+ke80Wpfm3MNDAbgf3Ncz44sjBRAG0FfiYYePLUSETnUxzMObPEvXOjMxUKOLFoP+Ktky6pmfCB1Gn9um16s6atc1ObZqwcmTKX2XPflm7MnDgnJm+FhzZclvhw1/+hm36OMTpu19Djx5zul2e0LEH/xBvnbvavWvBnz47mjXvhrK3m5+YHj3u9TLdZ7cMH7Hu+SApJR9Cxg3UXnMISuYfbAMCWNdZDZqm2X4Jbrageg52VKB17fUnIX8OVbgcdRl+tCFsHfZm34gKiUjggiXSdx+GgP3XH1PhgfhijG4hd5+JEMJIE45C7vYgj9ZBV19+XfnoYWI6qmjkkF4h2SOJT9o4noVOSgllRKVRyRmPJ16k2I9YMrhga1qmqCWZArAYGog0Lpkmkwq2qd9SRZo3nV6yebeXnPnReFt/bG4ZIWZ/KjjmQYK2GFGTKDp3YZxcKtrnZW2daSeYxf1H3pW5XSkpiYve1SmdX725VahXjv+aZJWmFnRorSXKWRul1dnK220ITqllcZiuBSimPOrqFa98tpiib79GKWBxzO62a5TciUcoqkE6myCop/bqarLvbXlkrca6yNeg2KaZqmGrPvogjeUZ6N5tn7pV37XymgtavK1K9Fy3vu7XpauPEqsXQtuqGvC0piVs35ON/reYm+4G+a5TyRFslsTixuZatBavuWe99fZbmHZ9AusomqJGmeiOWx5oaX7gMipty5YunLGw9lbbbM333mxvzoxBmyWkrOrJstLrIt3ZnhDDi6myGTVd66hWySqy1AXeinJc38HMrcFzih10nlMzhzFwZ4YMNFxlp0yw1wzzli6lJ0L/zXLcQ+MMGr5ftQbto42+xnXhIIp48qsHB66apauu5jOeaGPOZ5gUNje3l/1uHJN6FeIJuOBAO96wv4IDrly7Y3+86U2kf7v26Ufn3nmw18n8uKHlyr357DDRW6njEZtsutEVi8x5mggqiZjQPRn/eunDZ708hyQ7P7Kr0fdpF/U+zXx80ZZ7zrqvf7M6cMzcaw73y5/PvzpM5r/eede2j7i4p8G5G/MaV67KrOpFeCtf8EjFnmipDn2Z0px8Epg30UHFa8ZLnOp2xzYJzo6CTLOgXHzXuUn5zmvh+9DbdCcmjdEqZ6EjnkcUB0ETest/zalP88LVQtmp7GtUolnx/0ZmswdqxnUeA6LdXmQ8H35PiUNrYk70RzQjEhCJ40JXEmUXux6uL4t1kqFLdugvK5ZqacKjWQK7wjKgVe19vhLhRMhYRBGd0UtChBzRslamSg1rRmazlhg5QsV6IS8h7UvgBKk2yEjhcY+SU0khSXTIvKlwgVm0pL8W5cg8Lg4l6uEK5YTUxoyJR4oPUaT4CGYnobVHjgwUZeQ0WbJL1lInmMTVI6VIpFORD5Rb7B0avzg167FLasis1B0z2ZKqzRF20NsZ34K5uga18mV1ayYRoTmr/fCScdwjXB9rh8P73SlWOxsmkDIHum1+M0xUvFavoOYtGVEsnY9UCQCdVv9AQP4RbVgc2jQ9aM/emVOf7ksi72blzPO5MZDKNFsno2ZQbt5EbVNa6JfO+TljXs+i1rxau8ZnNObgr6S50+j8uthRs1Uul8xEYC5JOrY+2kSUjlxM1XAXP13KFIwQ9RFnyAhLxzQwp5eCny6fJz2eMpCJL4SkU4cYH4jyjn8/rCcQe7m+hspUbWHL4SA1FDCa7U1vtqFf2kaKJkrhrqoTDav5xthBKK4Oo4iM4NoKijpuXQya6cLJLylp0SnlyJUwheJDuZjXYR60RtFkaRDbedZj7WtiIULp06Jqt6IKzKooTd6TECfWZU42pptsYPJApq+xEtI+0Hps/kaG08f/IWybNtOT7JSVzZvCVqSy1StXAcrWXvHulKptLW/xYxS8GrJdc52ay7A3rydSV0WT/Co+BRvarUFXr/brmbqqm1Hb3WibD/rk6JI7z6jeSoq3wh4OBVlCouWrvuAbL3HYG0X3Gg2+Azzud+lbxaLdt8DCq+R+yahJnZa1YBD2quT6Njt6TlikaPOsLYl5Kgf/tcPB/ONUVYTBIGlQsiG57nw1tcg68vW1YaThcx35WDOZl8NlVKsJXfxZIMWYhISlcWEhK1TMvvOJvkys/LSYSK31C3cptK9rz1Xk9tYUnExjZ9ZKuVI+IXeWLKytW8FLO1pNi6RWXKx3tzUqpK72/4OZGqxLSnXm6VnxdwpVMiQJmrGsso9tcj7Mc43KwYZ+NJXqUymVLnfhJWuYIhkcsnETZGjcWlTAizPgg5e4V5+uN5TAHXLHmLniBikatXlz8xQDGFtRPyzELBScqdWXx2eq+idn5eNvZyvrACp1y2h9nidt19sya7WCuxZucuHYU2ATrn6Sw16xUXLXE3YXeGNeWmAzG2UqnhqSB1QsSKqtVTu9TtiNhrCzM+VtWv+5SyN6dKDcrWUvfVm6wUbynAxraf6JE8ON9fQ6ub1AEIbTyaGGt6RTGmALQe1achoxMG/Yz3vTkpiyzCeOga09LxPwyo9O8I0t/OFYE9axC/+vd1+7zG/RClqgif1oVUmd0OkucNtdRKrFz3aSa2KtwDMXeFfTGl4uh9nO7wU4p1H82ksyFVl67GKkt1XpQxcTyw8VFIAn7vFsb1TbzK0tlf1q6fmFO+v5HluNcVneWnvPpGtWa3TTiM6kP0vpbcvrs1OSongLqWNQdrg7/55UcN/n7siNeNr5PmCPuxyqj1d3JN+dWgZntuXRNPgMGw93xkI+e1kWt+ZsDm1NJp3iNrmqvkPWKKyuMsOsRjqQW4xPr9P9I6ovfZDd4/qcad2fTJMxR4Nfe0AXtyU7V3OvNZ1xRCNKsxsMOKgCHXLKq11ryy9WwMhNYugrmIfprav/26kKdUJ/ts4C9vd3eVzQ3jseKfyLiozQn+iXodCBem6vpj+Ea7zf9uIipy31l1v7FnAl53yrVmJ093PbcztFo3LSF3oHeHkKZDhoImFglmpoNWkr11/3diaJ4mC3x3gW2E2e5mf1dU0dWDIfyCohWHioVhIW9nmoJDIlVlXq93yal3O2ZRQz+HZqMn0ztWnD84Nuk3+etkJZoYJ+NHx9FVbfdGxDB4HQZoRhwYTwxDNwN1CTJ4Axo3ja5RdOlT6EM00gqGxZiG4dJ09OuGeT9xNjaH/q434UNltpuHoUyIbz5ndZcW87hVL7x2IAx4RKyC1I1XyUNy1rR239xGlg/6V9gvRwmNV3xxdeDMVffMZyYTFYcXVMbsiHWmSCL9VXR3R81Zdi4peI1PSAJrd0QagmkzQhnWZlf+FzIBVq8eVq8Td8fphwT/Uvk6hnrZaLoLKLf4VEGlWDfqGIQPZ56iV1F8hcS9Zlb/VEpxggJtaMQPiM5xRGbvc/eKZU1xgSh4V9ktdsbxh15+hQGIdetcgzI1ZKoPhiHdhuk7aIWpFrpzWLbZhF1RZ4uedF46hN5fZgyaeOK0h8/HSIvtYY+LhcRnV/6PZSLxiDaPGQgEWE4YdDE8k43QZrDkOLuvWJ9JZX6nd2nfZK1pWK03aFRoZZ5VWK1XaSWJeSvLeSB//GdGIBk7pUgqKnXIzkTcl1kOYWVHhxYGcVQ+d1d0LZOo04ed7YGKbljCwJg62ljMNzXZI1kHPGWdhFWzwpPHS2SsO4XT+5jP7XikUIK6pkTCCGeq9okWSTlrpXZKXSli7liZX1X2E5G1qZjrC3bbVTj2C5htp3kJ/xlzS3d72mifKYir3GRk85HChZNmFSkSZnYUk3ikDYanKJFpW5HpfJbpiIb43pRTd4eO7Glcb2MxpXdHzZgIgmiyPZlNERha+Jb6fngDv2cdF2RZAJjKPlQg2lGTjHcHiSgzCHj4UhgmRXnAR0nG23Nsr5hSl3mzwJkakVeSmYVkKDlQnJHfnuop14RVq/F13gqZbzAWDMcpfayHF5x5gSqJExwp515Z7gp3fixW8lh4IAUiBiB3PsxH2Dpp5uOIKUCXUBqlReKEzeFZ4HCphIMmqvIp1CR1yKx5wZQqHnlZ9Md2L6aSV9WJWzaY6aKKJI8Z2kNJlfh6IURWBg14G3JnSs+RmiFHQFymc5eaEuSo9sh2D8aENShqA9KqEIqFE7yHAqWqQv6j1Lej7FhmY3N2X1eSmBeEtzx3Nw+ZlMupzd5XQ8KR81+p/uCFdkhoG52aUYIW1E141WqaY9waYAKo1nCafVsyxVGWh2uoR4qkPBaRMBAQAh+QQFCgABACwiACgAvgC+AAAI/wADCBxIsKDBgwgFCEi4MIBCgg8RSpxIsaLFixgzatzIsWBEgxE/OmzYsaTJkyhTqjwIAIBIgS1XypxJs6bNAC1f4gRws6fPn0AHxmTZkufOoUGTKl06EWnBokahMp1KtapIqUKNCtRZtatXlFeLEnTK9avZsxWhhjWIFa3bt02Lrn0qFq5duHO3ChiqUGTZu4CX5h3Jty9EkoETf+2LuO3AkIgPK57sk/HYupJHMqTMWSJjnZ8bFoY80a/oun87Aw4N8jNMo5Y1e0YcEWtq1W/D5mwMFXVk2WR/1+6Nm7Jul7x7wxZ+OnNm5cUn67S9Vzlmj9Vv01WuPTrV6b6tX/8/vDuj+O7e3ZaX/Xo96N8btaNP/9N9cuR6W4OFj53+UqcXvccWfhgBSJGB/tWnFUYC0jXfTuYtmCBQajU0nH7sQUiUQsEdVpZjFT04YVz2vYbhYJdxuKBpH45HkYgJqohVhfkdFFuNM0r4mGE7mtgfdqwdpeOIL1aXY4k28ohjXQiOZJqPzu0YJIhEFgmdk/yV9ttQjslnIW2uZShelQwa6RuM4LW3YpY9ZhjkcVSSGSCYDep1o0RxClnnbAPmKWeRHjIXqHZ50vijln26+OegYKrZZKBQthlpXJdxqeOjO8EYXZBL+illc4dqmNaCOQ4Yl6aqyThkVlfemWiHou7/6JR4530J2ZiL6uUprq5ud92F2M1KK3e2folrrmpiWKmiWJaaYZQIOXbsj8QiK6SyrDLLmLNlEXrdtM/1hmpnmEY6JXHZrrcZnsxe5uiq46pWbqznSisum6l56uOV2OZKZZ71+vbanvmuGu6VALMZ3b/ahtnqaQSzOe9wCDdMpKqWatnlacJCCmi6BktKVJPqeodxVCGrejCpa3q57MQSM1vypjEzTDKTAhe45sMqrtsrxQTSTKKLheJcWITkobstvMViaKjQboLasWyxWTqvgXeGxSLHOt6ZMX2ktfm1j5ABq2+sdjaa1dbJAsnbpKkqDPKS/YaK6LNrfzngk3i//5seeg/DnRp6Ye+tt4Nqt3g2ZbuVzXW0y8Htrt1in3m4x1mD2naU8QbVeNPXEkU3u3V3ulzhn6Yd7rLYdl6Z5kl2qySfWF40ddUhhwj6wMYqLTdTwDIku8u1W3Q7j/Pe7TWBJ9foFtA1Ei4o1X3B7DzaoZsaaslnj20W9NTPeWKx1ot5qcxd83bcqJJ/z1/ybjM0M+XvHo091nRueX70sz//fu6x44+KBve/wN0vfR6b3OQctzAAQiuAD+xV2vimPczxiFN5mxD8ric8tSXQbRSkS2sYiCXwuE4mJCRgbBpEQEwtDYMcNJ/V0PXAfcklcb9bSQrxFSYW8tCF1UPOz/+m1zZw9U1DTwufnCo0PxhqaGkdAdqRAHiyJMZQgzdsYpgWGMQocm2KuhvWnoLyIBhZEXEeg5/9rie9tlURXRusSRlzuKyCsQ17kGOjBz9GnWF5D3iw0x3SksS/K34MdSqpmCCj1pPgWeRBTQobIh95uBP66o+EZKRPDLg5NJKuhDFjncjkx7L5RUiNDrwJJ7PnyTyCklLZqmGwShk0jiwOj0m5Gg1ThzcU4Q2TbgylnuRWray8LGRnlIkuqbRCImIvTbikDiyTeclaCmtXN+yKvTIjO7/pbDSBFOEvaxklAyURfpbsyDbb1E0hxZE6jtSeCQX4Nl/5cl2NBBO/Rln/OT8iUInOImXpaFcw1b2Slz8xzT4NKUVajc907dPVP8V3RLJdcIvFA2RENcKz/K3OnZHTCJoux0r2WSWc6vTdHUe3SopmBHW33Ohd4lk8+5mTnOzyoU2tyTTceWppprQLTXE3uhTlUIsSXdI9D7pQt1FTQcPSHjjXZ8xMOo159NwpEAu2Rk2mk6N+lOrpZrfOgQ5nkkkFTrsyOrKQ6tGQ+VRgVVuDTSDqjoTSFGcnH3g8UUoQKL6MpJmGdjct4TVnck1YBZ94H4MqharcZE5ej8nQx6nVWfjrWUkZ28l9NpWMjf3ReyY7tyOCr6E2HGF19spZVnp2l0yx102HR88i/+K0sCB9Kz8TZTvYtlYpsj0fbdeVozlSVpNwjaXxfNtV4Ib0a6Q1K0mTi62Y8pOZ9eQcHVX5XJQFE7eRHSg+N7tIUZZzohUF7HS3dy/IBaeZcZQleOf6zbF28LHrPS81NwbfVIqXdovtLTjvOxUCRmrA1YzvM9f7Qh5qtrJcROd293O344Hnswf653sG6ODV7tZ8aS3v6wbZIuqmd7w+QykSrfNB8LUuvzOBpFvFSbyXyi1sN6tfy9SmWHZOOCWope8UmytSj/LzrGQV4n3AWNNsruaLLBNlS4vc4ul9zqhwMpp9hznTAjJ3lwqOIeCcLFex6nhjJkWrHL1ss2/5l/9yY54fpqAb1g9z0cQ94RXyvCtOLYY5vSF8FcoQ7NioYTi2LG4y3Cw12jfLF7ltnWGhM5c069LkjSVrEIbVzEWgIkdYDxbdghkl46DmU4x7NJ1gTTxVM4V6N3Pms3adOLSvbiS6xZvkoRFK3t+CtUK3uu2J7fwfxPJS175VrXlp/ON39bedIj4Lqi5s7DfBDn9xDLUk9RfrEOMSv14UtB6beeD0ZdvDhRxntwkTZcH0L5Nb49t7L3pV7OKWphprrz2TbOoYv/uhn5L3jicZ5EcL3MbFrCO/ha1MN7dIzXyDZkFxCUUAW7zC7fYmVFn2cBhHXH/JBWazUnbjHDrymmv/bbikSxKv8hH6ui6KtzOvp8hvz4TJ4S6Jy7fM15jnb4wyxJlMdYjuTxKX4VEzLqQFnWNKVjfZ6tUlxg3M60UGOsGrkvDTLe1v3ZKbXkv+1b+zRfAf48+wtQ3g1W2Cuh2aK+zzrjWDzY5eZVsVhKl+nR3fjW+9KnfZvIU01YMdwcGyNcBr3rumAXjTxiOz2nkPL7sLD09hKqi3K7tyn5mW7mMG9O5fXbXf85xKWBELmqJHNq7sSuxbc370VUGwi2Fvb52VediPFjH3ZvwV2VsW8bXHPH3x3PqP8e7OXgHWX89+96MTGMIXLz6Kpa9ei5aYfsPuO6Wbj/1pp12b+6vq/+xZvaa0Eq/Gyh2/EiHe7JTcFPnBNzr1iAzw+ea19tuePmhRD2Zjy5n39EVCSTNUP0Ry4/VX+MV/wUVzOEV/YFdoEkWA+TZf49Z+NAFEr7UyR+dTy4FyDth5grdHGLR2uURyGdhPr6d5fURLH6hEuvWCBwWD/qM4N+RLf0WDjhQx/NNjJEh8XbF892KDY4eDsKOD82cxS4d9iwFjy6Yy0UdtO5VIvoN2ZiZUTPh37MZ6PXd/jsYuuPZBqQUYKohecwFt6YVm8TNM2lZ0ADeGRgUXbhgqZfh9Zyh2dgdsRRdqbahk5WZrRLd7EfJxyRVnHQhHdpiGx+eFZJYb2ZFdy/8liIB2VOFhiLDyQf2WcJzxVFQ2S8T3MDhHfdR2e4yziCbRaJ3oO59IfKE4fJm4VgfXaxLYVvVmgKz4hjZHLq7IY4OWgnWHhRBlcbHWd7jhhK6kagAYf29Hbd7yTsbWGcQoasYYQ8gIdspITCnnKz74ZCn2i4t2jZolcwanYkzXi4rRTjjmZoE3gUk3O1SHSk3lh6ClPPUEiBwxZtO3aWaCcrnHiPI4OfQYH5J4j1DXPFgIj8UmV07Yg9THgDYmjCjIWg2EkIankNm4VAS2cysHNVMUbGioYDnINUNkhLvHdV1mW/axTw7pfCgYks6EZMc1IQWnbhlXiyCWW6HTb3v/uDIGqVE2KY3oCHsMaZPFtV3nqJMW+GTXV2hDVogN9VpfV4mfpHxHGRhAaIlaVhjr4U9YdjhQ6UpSeTE/ppAGBE1biDJXJ1gkmRgj9WhjCXKUM5Q9R0p/Vo5GFhzTAlOM93o6FlkZCWdTiRZ3ZJeJBoJSd3d32TsQ2Ut/iRd75l58RlrMpyZkSWxZBjk76T59h1n+h15nFJmGCXU4OSJ6CJQgdZhExX0GtVKbtX1kMpqiWJqDyVR6mYaqiV0UCTYgGUSaZ5INc1psuImvCYKtmZuqsjwzJFi+OZfj1I/WQnaGNzRoyFLlR5pddY7KiUWwdo2H+VFdGU0zZp1dOJxp04OJncZ3Jqc+PLRY1paNf0M++iZPGKWK6Gl/A1dJi5kg1Tl2bFdy+9icYFWB4GZ8uOefJxFUtGYlQld1OXWfBNpKeAeQn4eADtqgKSWctvdhoudtk8agi2I/qNKd7aNQ6XObFDpLRKY1xTJEPmkfNyiOJTobuIaiE2SeK4pVLTp0L4qaThd9JmU4/HOZ4lmP6fmfG2KfQNqci+eYXvd7MIpVOXppVpZ1kMeNTcppT2oTkDmbV9pAXZWhW0qXWemNHPql+BWm5UOmMaKfaConEnoXAQEAIfkEBQoAAQAsIgAmAL4AwgAACP8AAwgcSLCgwYMIEw4UIIAgQ4UQI0qcSLGixYsYM1p8uLChxo8gQ4ocOZIjR4EmPQJYCYCky5cwY4JM6dAjR5YtZercybMnRIYnO/ocSrRoSKAeaxpdyrRoUIUraz5tSrXq0aQQo3acarWr14paUWIV+7WsWY1hA0zlerat261j1cYlO3Al27d4iSI1yDao3bl5AzuNmxZnWoR3BSsuSTinQMOOEyZeTFluX6AGcdL1y/Jxzr1CK4sWe3mqZrl0PWvVCjr1aMqnaRZECpkv5rqQPyO1Cfj12di8bTOsPfu2asOkb0/2TXU4crmHUXc87VlpAOrXI2/uzbypc+DRg37/j5z2Zmfctl13/wpcvWTuwrEuVzh/vcv20iPWT2494377OtGmXX7ZHSfTWvABOJSA6aGXXXSMNajgUH8hJl9coLGmXIKu7SZAhcVJOOFHIIqIoHn8EUjfhQIiKOKIYAEAGmdQPefhXy0aF5qJKg0Io0g4BucgQsTdKONuQb64o3QQ/rgRhhcShFNKuZ3Ho3nEbXdalQ3+152LS07JW5VNincbl6GNdxx22zn5JHZqQvdcf9PpRqSVln1IppsH6lmen7pluaRYGt7553iC8vmkdQyGmGeiEv05EYqOeumkmcmFxxuiPmYVWX2UMsohn1ge6Zls7hWpY5MrXimke9Up/8okS+ahquKD57VW4KKOpojpQaxOWOKjnUp53mrF4rqdmf8Fy+yovg3baI3IxmqonXlKBe2uFmqr6GWtDtnre7VuGGy3BWl67nrgvmcsuiuWS2Wy8IpLKL3rlflquoYtZ+u9moYLa0LD/qjvwJD5uy/AAyb260QFw4hgksDOyWumFk8a5bgzLszcxEeyBanG2o7808Z0djxwZbYOW5ip3B4kcsa3RqSvrstC6VvLMFubXagyAwappTfrmLOSi433cNCZ4Wkznu2mqltibA76MaBLK1k1tZ8ClvWuOPN7sLC5busacM86DFShcMUKNF2CgjkafhVxpmHa3DX6rNs9Nv8Yt86vNbmu1BYK3unWuIFIqYaIC6yY4STzW/jhlAcrJtw5Me60RJZW9bLJYetntHQpyQuopJIrK2e17lrd1uc0p1j36LJlGPLpXTdt4OqZJ/u1Wc7pThGn187eJu+y1/zzqlB7PfpXwaeuscmNM036mGX/vrzduQfduU9K5/28g1WbfO/A0QOtK36oG+9V+PFyh2x05suJvp6Ye5s4tu0Pb7ZRztFe0xA3tt3Vrm/X49u79reutwUmgCjzFAE7xb3jUUo2bPNZ/fJXlsXhq14OFB6YtsS/sikQN6YhU/+sczm9IHBw1uNgjdxTqhOyD1unaowK6cRCWv0vJGhCV/3/Wkij0LxsTT2L2e5EF6sMWq+CRgmi9Ybow7N174i4ctmAqtfDE6ILikW52/i0FTZdzUyKcNpYA0fFNrXdaSliVJiH4sNDBlosjV08GcSw5caKDcaJSPNUIHdXNbntL5B/gWFpGrMykaRPfBcJGMGOtTlDLtF1y1Ok81LYyKvURIsXTNABL1lI/FkNi4OMIblMea8aBuhCoESgwo6HnVKuMGYF5Jwo19Y1EHGRJLb63h7pVqfkdWhjllSl2oKJFRh+hJk7UZVtxMgjUaXymPHDpr1eMrMZZtGExeEkv0KXp1lWCpLKO2AKhem/N04SiYDMlvRQOL456vGc4WpX6RrD/85nekycJPzXrOqoTZ/Va0VElN/tDqo8mAgUoJR8KALvR6c1Tq+KDd2e866pkX0WtG0OWmaP6PdBizjRTH+bJkZbaNCYeJRAJ2omDr030i2WNEYfJZ7V4IerIv6xYREkZzftiDbAOQ6PBJrf5ozFvWm5UJLHjNo8dyhPgo4LqUWkYlN5aRaKDZNyMgRbBAmZLM2dMTeRXKpXvBoptbINi18joTcheK0NVsyZPKEaBc+k1k/2znIzhZwuB3hTXMKMmAtSqIVcidC/ljWwYB2s2Ar7Mlf2kyk+1WW77BrCtlKznYe82gI1ttnYOQqvxvps5C7pHZmCCYMzzeYUbbRR1f/RcKwwHVX0qsKZ1wopnoutrTRne8uvCbA4qAXmGJdkXFnqaJG+VOtxGao/JV3Wn+b8KAfNuEk9MZZj/xMpQ6/bUdoF1bvnJWxY99ilHz7xn6yc7FLKeF5p4faGaW1vhBKI3MoV9j5Tq+e2YIu4Ptpwr46rEUoxmtr/AinAUmXirAqMzgNTF5NNW3DEfgkTlqaOZ9VNKh/Fpzmlss59n8Wr7SLWYQZ/eF+HimAbSRwoSsqVVyku7IqTmFi64nNcfgUVLFdKHnxxN3JQJa6Dr+JjawK5TkL2a3RHu0qr+g2o4eLwTABlZdDeFoQ1zSxwMbK+5rW3sy6JUycl+2Vlhln/pgskb5mLu6mJ5hW3Kdul+zTo4h42N8rbTHJL+9Tl6WZURLAr7Z91C+d5Eg6Aeu5pnZ0FJTVfDC7JrSNVOdoTcyZ0t6rEWKZv5dSLpFCKXZ4vlKKbS1oWWYi09RV63RkjNOnTvfsNck3H+9tXK3nG8xpqrdGaTo8lVqXzIilO7cg130qYsLA7zq+QRV5Trxpmlh70O5k9yYgJFJF3tHESPVht5Uq5xqVU7zf7B1v3CTujvbXz8Vp7boYJWnVS/BWa30treLtW3vyVyZSV6Eduk7GmqMYI6gQUpGSPW0h6NTQQD9u7pzVYUztOeH7TxMuGY8++866YxM0N2rdmT2g2/43j6Ex8O5M7md1YCy+uLy1hk6vW0arzEETF9EiftZu5Mbf2YL5d8AzD2MwKN+0XdYjROHlYf6Du9IbYK/Kj3/KrKvZYwj7u2EWeD7MQZxFugabUZaubo7Bz+f4gOPKdjBKkbcailrVNYYtzm+w+ZGu5Rbd1vfZ7aX1Hefia7Oaz3zXAPN91Ve8ceG8K76ONr3riWQx0w6ub4QvN+XIdGnTllVK8bn7pf2zX7zw62YD72nudFIdyjItPqh0jenDpjmCC82zGqXZkhUObR9G/0Mi1tWoRDak9pGo7zbtn7UCv93OLhrrYcTZqbosXpiVvuYfUVuxsqSx8nWdkzEIPJ/+e74z93vl9+9u8nz03LudKj78pGp+sOmWKH4EKlujfJemJA0fsZoede7h3K/dnbBPmaw12fB2kc4bWWYTnKqXnKbHnXGX2eORjfYyhgLnHgLPWOsaUfpMUgXwzgTi3f+yReVb1J1f3ZNHHfYf3btDmWCr0dFTBVgjTS92TYC/GgoTlgpPFcjHIYy70bARXPY+kPoLHddwVeZNDHGiSbmAnhPrnO6ZEepjEeol3bjTYX0xIbE7IWwhnfuNDYeVTNpRndEvYdHXmQcrHaUH4TTl0Vmd4eRv4NJexdTmjhrbFgW4xdyrIe3n4aKslfstRSxAWX6o3EnzYZYR4b1kXXIP/iCcql4JdQYgOGFo/6EkE131N9FijNomQiGVwh28xiImUBmsImIgPpHUUR4Ew9Fl603m3tYg2dWGH6FKq6ECoJEjy9IoeBjLRhnMUlYoXxoI8BVHE936rB4o6GDO1yHnDuE3FyEjLU00YloxaE1lrNjcp93ALxzwoaIIn840hFogGs40LJipgJCfkpFJ+NY5sxn9h40StZkRFto5uyHFUZ4anZYEzCI5elInQZ1j2mFKH5oHeBnBJg3LUx4a5h0T6dU/uqCA8uIYFyYZDQ4B1ZI/2ESenVknJV3n0+JDg9ozL+BYcyXT3pokgKUkR5oH10YnNwWX0lEwaeU+uFIDx/7Q3wPh8JimTbyh9HehuioeTsZVb4iSEghF1fRiR9jONi1eTspgioHNtzfhKpXgydQiGyQOVn5hjdddfVdkTuaSTybE0RQiUI4iGrKM2ZQgbtRdVYmeWU2hejrd22POPyDZzXaGUSik6fEl/OrYtrHdl0RWW4BNfXzc7f3mAXtZWEiVtPWKYFOKRL0Va2gdY8aNUZOmBCvJ5daaYl/lYmdl1YkeBP8IpJ+U8jQiQSClPXwmI7II7qTk5KGZ9MUWRccWPebGFoLdm2cZxKnNVRXmN5RhQr4eMDLN0wVlRw/lkMCkYs1lMZIY76IiYfmhrwuVYbhKdifkmFrNPhpN24P90ZRS5kf/TlirFWWoEjn/TKMZ5mucJhI2lnn7mjc3jnhGll6lIhVfWLCc3QrWHWBKkm4phT2ODnvJVToBzoOPpWQQaLcqoSmNYg3rXaK5nd7JSdNWYjnhpl4BXceKHoRkKF0NVPcanodHjitbpcZuZoeuXOiaKdH9nSipKUhgYiiOadOkpowEJgDaYjTlKEuryneN3e80DfkEafsnpeb7mdeP0hRSzhUmqpMjDpCtIU/pYJRkHolNaXj73mck4eTO1nN+0pQ3ZpftYnVjoQz0HUj5qptWIpiC5g6Vpl3z2kyEHT80pp9RIpyHWQnKXefZHbJIJIH20SE7XZ/T0VUBLyqdLGXCCKJMymEOMWpGOGo4RqmsXh228NHqbd6mzk5LqCJis14BYqZ+geno/1pKpehb4F3Yk2aqG+qmyOiE1WatJiaq4mpCjERAAACH5BAUKAAEALCAAJADCAMQAAAj/AAMIHEiwoMGDCBMWFCBAocOHECNKnEixosWLGA0yzMixo8ePIEMOZLhxYcMAAAAILFlSpMuXMGNCJHmSYMmUK0+2lMmzp0+QOAPsTEkUwE2jNX8qXco0YdChRZEKTLmzqdWrPoPaFBBVKkqiVbGKHetR60iuUY9STUq2rVuRLHWiXfu2rt2McXMWDXu3r12ae+Xm1AuWrd/DZAEXHixUbmDEkLEyfPxV4VPDkTMrnby4slOVjTWLBsn3LOfLW1MXXEtztGuJpXOeBr2ztmHWJF/r5lh0KmjVvs1a7vp7t3GEvT0D/yr8c9fjx1EzJ16auNet1ilDzyw9+/XV1A3P/7YeezvW5r4Joj+b/mByhWqJmre73ux6xvXlO4x/f75kwSZpBOBD5SF0FIGY+QdTXgE2WCB7FB24X4IKugRVcrMx9lBzYbUGHl0fflfhSxfql2FoEHEoXm4hhqXdiHCxaJBZHZ703nSXPajYjeoVx9iDMCbk4YzF1Rhccc81piNJSRIpoIZBCpkUZz2C+COF01Wp32UgUsbjQXG9GGWDhGlpG5RE2hdVe5zFFx+ChFk5Zor6tddjRTuC1mSD/QnYXJ9zpomkj8rBxuSWa4JpI6HwoeVkoJ/hR9uAij4JoYtFrrjnVuUNCemdKErX6YqqYbpcnHWaNCqQUSb3pZ0Qav8JqmyLIoeUdad+xeqnR/bqHqGYqslprb+Olyqmu84p7EA0ykinqDQlpSaIowp6Jq+wLkvrRBjK5em0XlXb4pRYfnpjXAziFm20tLqaqJiKSghrsmOe6y2A6q7LYp5HBgWvgPIWSq95cvpaKrniSuovoniWi22xt6V65bCNqubuwg0/HKGmiVoK63Ldfswso7F6tG6QNW5a8nolSmprxaSxG2V1nW1rGpZGesbggwuHfPPFJM9Hs5yeeuoxhNCi+Wu/kw4LtIJurpgyoc1CaRuX4VKqNNPdZSfya1EDzPGjE5dMZWPUao2ioD579zXBwJI64clo1yxltpN2SbXEa0//F/B8Kh5toL6oLok3YX9nSabfxB5naskvO9e0zof6KmG3b+q66LW+5Qx2xLmS/WvX7eppIrGYL7rwUZxrLrhozeqbYM+T8zfp0LeTu2HQro9s9N3cZSp75D7bbrOgx/cdua1Q/T64ZlBFZOzWofKN95+ZHsn67LxTjKP1f0nb/VlJlpa56F9WzXjn3EvPIq6Hea5k45VCbujyi3sJ/tvDMU39VfLzUH9aNxGaPW9keusPoB5VPoct5VrfSovc+me/WX2PgmHqWP12NxoIOqsr8sNfecClwNrNZX/Ki1RmzmY10M0vdBNK3gizpzjcDM55KnzUwCzkKLO5sGgOdJCz/2ZoMUThkG4Ryc//fMIgWhlOJMuaGrSk8zqYJXFyC4xRC3EIw4xEkWNTnFwVgXdFl/1niRZkX4+4KKUdLu6JtpFfkrLYkyY6BHvNc5b73LgcOCJsghcsFAD16MOEjS5RfizTHZESwr4F6zsncssR/2jFQ/oMZhnc3e8CGDGinVCSLvSTGF+Yv9OxMVcCHCXyluZIx+SucGrj40xCaRIqkhJkpiTkAb1ny1XqUHd1s9ls7IjGsjBskXWUGjARxC/KDS4w17oRvGTJrWNSUCY1ImAbD4WxFMIymqmaZhA/okQhSspDLZMIbkg4viIWDIGmE6V3NqlLKJIscCjanh1f9f8ZxWiJjtV7p69U5B0bqmqcJouY+YYIzD15UJqma2D0+sbPs/3LM5RZ6E+QlSAguvNYwIwkRomTPFtWtIcXpR0xK2jPbhaTZ6dTo/1KhE9ZUZSGUAIUCNUGUC9a05uLs1XXtEnTuK1yoi1MoyWzJrqezJObXsun3BLnPboBSo5206alLopEnjzVWA1UWrp4h06ZXRWQL9Iqn+w2LGreT2CquycKDSlUnPoQVEgV5EHFtsszwtVgIarkGG0q1mU6c2RK9Z5igzqWhfZypKhE6PSA+kTCTgh71FMrNjvaw8epr4uKCusGyQhP92GWsoatywyzqCLFxJGQbaLkzRS5xEb/slA0q22nXtflSXr2Vra3pWsKb1sXlhGubq3lrOXiakCpDtBhGfzsbmGLUJcYl24iTd5HFSYixDqXrNB1pXSTO1ivjg9+y2XTcXfKtJw9LpVl6+Yc41bWYjr1vCQtbfWc+D4JtneqP+xvfOMZyOTurLovES2oIKqtRTbLXXxFrlH1+jryAGifuoWJgr3L4EFd8cE/FeYn1wqnEGX0wuIbJNDWmWH98nLC2jRojmQmut/Z62huxcuId0rcZ9GXfmVTmoxzh8PYddKuSX2L2/T72oHyzqWjvWE9S2jf0ea4pflN72xr+GQC91XKzY2cGzXLFN7il5+AnXHAWmfcRqFZ/3IibmH6WqxjfzoYhRDl77wM22YpvbmucW7lnDd6ZAZK0LPhJDJ1zQjD6ILXdgFLm8oI7UsOH9qFeZ4fPRnNUkc3CtL0k7QGxXIiNv/4v2P8Uh5FKD5xnhR3f2biiE0dYfYyFrA57e6e/9nd7G6ZbSjcbAF7eLBPy5acHvYzW5HW3bQptccLkiyxL4Uzhl75cMoWaPU4mmtRJgaMjEzxcGdNP/gyFlwlPuBZrbUvBPNQnuHGK7g5be5coTuGwFv3uFa6lJpSWHHD0en4isq/y+qatJGmc4In/LZYO3zgrQ6xobTd14S7xaDplip/TzlLYFN8pmqzFBDNfW2KYBzfZf+TnVsfedHIvvRebSVWyRvWZNL+UsfteW5JEVXOx2U2rqS2drUx6G5mFxxdEce1d32OWqX/BMouv3PLmZ007+a6w/7GnicJumyZQB3ku7M1zIon7qsnWtVlh+fV4jb1kPgax6n9Xp89ztT60S6BNDxflK1+axKNuJIxznLfLfzznPsX4BpHfKpJNnODf73KBTd2vVH+xnKLO18phypoow3hvV9zY1bVrUaNvjLTYRfFIm18xU94Y76zW1zPpWo/KdW6mueV15DHyNodmvbXD/3fNgOos+9aSErl55JW2dPJPy8y2b8XLSxHMrVjfr3coReoXtfg8nPo+v3uHWvRbzT/7c06qBlfX/XUTueXEa93m6442PBU09TkXWniKRznt1T8uUHqdC7fHf7+4ztjs3SFhkzAxxOxpX7mRDnGk35x1WB6N2PY4RWZVkTaFVjYFyMnd1JmlEqt54GJtl0EuHYROGESCGcZ+HRexkr2FlGqVHqXI3jFVnqFlVhrNWnJt4JNlUK0U3gCaHg4aEcThVUldn1i0Xqbh4IHAz9G+FaW1UcotoO5p2H813dhB2Osx3Oj5oQuVnlB1n1TGDMFZXrj11fLshbvJ2X4w2uiNl6Z4klh+BFg9S5154PYhoZaeF3ts1RtaFcg5kFHGFOKw0YDQzrg0YG9V0vJNoRFdxdt/5NLgkUnnKZelAiG5LOI4oZ+TUFmQshQLfhY5eVrjgaBjZh/mkh54lJzSWZTlRVafDOKyRaHv5aCsnZAM7RpUsVxElJfhyg5/3cRjAhKtogl23dguihz7SaF8eeCPUWDtPhAxpc3r0SAw5cxz2iJAUh/l1hjf/cWGKZIEYQ4Iddx11hwKmNLPQZizQiNHGRi4cZvXIht4LSDZhZbyriOm+EwWlcYvAiMtISOQDZdrgV9tGSDxUWBL6hJyZh4W5UddoZ0wyZimeSKkaE3YWhQB6ZuDlk5uShtEulKz3R/fjWB4BhEj7RY1SRdYyUy2gaPiDF/wXSNJzmLKWlXK6lXLf85jp8jU/A4clmojfUHdh25Pe5TXpFBlAy5Vz+jfQmpfzU4lJtjkoDUQd24fiR5idKVZqMEgqxiSLF2lFXpeduIldKXaTXXdixldoAjiJEHMWrIZQaJgaVzjwxnhYeBfM2Yk5nTYAEnPNPWcHWZhHcRXPgSmId1i5rXOxPIT6kjgoBXitCoPonzfEvEYqsDbsc3jdyVcaf4bhn4WHOokYb2TtB2Uyklen+5Qjp5WIu5hZM4UqSZmmanbVlUmmD5YWTIhgSWW2h3JQkYcfjYmfmImzLFNbtJjDKYeANJcBYhnNCYTUA3P/OlPvt4goFmgybVlIIZP9SVOXnSg6SHe6b/uJDYOUqgaJeacZ59+YQSFmGgNZkFqJKrORrqqYT6J4qLlm+G2XlJ5pyyBk5Lhj9y8nE22EwZGUjDk3+O44ly55p8N6AHp4wGGoUIelwcR59dlo0CeHs/uE1AiEWvGGAhqSBUFkhr9EFytSqoI4i92YuOJZJjUmqQ2Z4NaohFyXf++TnI54/v94gRiaMzSpVQSI/KdVMNuEVRGVke9TC1V5BNZ6QPaJP9RVQ0Vo4VsqNWKn6s1pD4JFpMFyRYOmZFyo1caoKIxFMw6hq8t4oUaT/nuJVx96FwZy4a1IluVpZbCJAwBJ5D+jBvBmLi6JtR2m2t9JQfio8j8qdvKI3G7TioN9WfaMWMaQo15EaoSNdco0d2uASC0BSnM1OpjwqVYlakmgqD/cVjnhooCVpWuLiDX1lKQGlzTGqh7daqvcieGfdFGacxNwp3meqCF4Gl28mrsoqkoumUPlZbQaoswIqCLXpv7BatLEis6tSsgHafoQY+8HKa1GoRXgqcgueSGNhjZNatV1h1xvmBQdQt/pajs9p/bxY1wmWuw4ms8cpc9SSL9Gpd4TZfbAp+4bWvOfidx4lLgUp5Aut2e1iCADusYpmwzbmw0blccKh7ywqx1MeAhISWGOuN5Kdn49KxC/pyIgsd4qqvLxEQAAAh+QQFCgABACwiACQAwADGAAAI/wADCBxIsKDBgwYFCECIUKFChhAjSpxIsaLFixgzWnxY0eFCjSBDihxJsmTCjycJKgTAEoBKlCZjypxJcyPMly9buhzIsabPn0B/skw5cGjBnkGTKl1a0SjOojufMp1KdalHgU6P3gzAEWnVr2BLXg2QVSrPj17Dql07cizBrGPTsp1LV6JbqC+7bq3Ll+7Klnd1Eu1LmPBfloFbDi7MuK9RpH/Nlm1M+etjmJHPvo1aubNGvXZhThYol+vHy6M9q35aWjJns09Rv15Nu6FHzLgNpoaIeG/t33kdmk27m2Fv4Mi1ttZK2rfu2c15Q0/O9y5E0BNTLy9OnS326GcPc/+Oi3ar3uMdnXdP+t10cMHhy4NnLQA9xeXrZZbmODkr+vbb7dTeYvjlJ9J+p83mHwDYQabeZfMd5KCBQMEXm4D1KRZRaf9lWJx97kkoHIUkWagZWRiaaBtCHapYEIgIFkgiQ/xpGCFWnLl444vTbQbiYjvKOOOJJhKXo43MGdcjVD8mCVuIQyZZ40kTQqUXeUGap95nW0Z54pTK5WZleVhCeeKTbXXppYgI7qidaEgSldZ5s901oJlrBrcinijuiWNxd9JJpZhzqrnebfJtOKKLRnF3Jp8U6WimkN0huuOgfyq4k6MRUsrjm2iSmNmlfSrZZJWZxqhejfA1aGh+o0L/WiqLgGnpWpPNLceqhq7mSaOWHunUapdg+sjgq6byauujvhYarLAQKorjc7heBG2WoUYZK63DZgrtt8oKCaCHdfrGqagZSnRtiOC2G66h47rI4ZIUXjnie8KCB+5m3tI7kZGTkQcXsqvZ6yy50e6LF4qS2kRtuYIye+iy6tYK5MLFhuhprrhZJzGptRUaqcVO8qjveIna5KDHpG5s2KLHDipbteLxy2TMJme3Kc42y3uvrJ6NdapDM/OslYkLNnluo0ZPyzDEYlZq7rsYrVt1nCWzzK6/z0rNLYYuW20t1sP9fGFo29LW4a60Bggfepf9lbG9NqcNXpV31rZ2gqlV/9svjmA+OzeZcDYH6qSJulxYYjq1iSJScSeYqXTRPtvw4yNqfR3B3v0MreMgRu705d2aJt6Hx9J9keJgAZzvl1GDhPq5Lacrop4i0t76VgrfHbtGs/sbqt2II6j7XFqXKbSGjkLedIlGW8omubVXlnzmhE8+66+bsS7dymbHV/rFX9WsJMeh3bes8vD6FuvAXxdM/fmmE9u+nNiDXHJOR4Z6eV9gclfojBawlJlmYOyjlfo45rwFHpCAwgNKAAXovAZKCTcIzJ+szmWwwv2rPAN0jAAj1Di+RVB7BfSd4Uj2MNelMHdHMt9cBIghY7GtKcwrlwofWK0SPuyFJ1mQDP+r4sOnRetkJQTf5p6jPd9lrG3hk9SCONYh/QmFZOuq0ud+pjk+MQ1+9XPa96JItu1FropAqxDWjnc7GNJHjKVCVKw8NixEle6OOPOeTxh1Qu65EXZwjFzX4vMwBhJNWdqrUd7UgjSqmfF1HsOOzzLWvERdbl5nrGEas2WSRorukXVcnwkx9cj0bQ1QU8vkDk3JFCXezFhLJFIZb8g0BcqKeLb8Yh8H2cqOwSlpS9LiLEdZqr5pMoh9rOXTVGa7n8jxkHcKpQV705sn3kx3YsNfLI+Yxi3+70DPzFA03zXNY1VTcgfJZkTU+UY/ctNttfpmmvYkMEjO752eQ1kT+TT/wReqyjaLPN2R/AZOemIvi/c8ZhgXhkR9JkmX2pweQA3IP08+rySHC84Q/9ZGJj6qi/vs2XSu107XFJImGY3PRo040qmVrUBS3NlE/aQxim0vpCaJJDqdlhmS3pKYND0Z5RRqTfTxCFXLLOZFwSmyUj7QqBElyiWXFbxO7TRMz0Hq23amR1bm7KXtK2JFkfRJ6YzVrGYSa1JzaU9nujRr4bONWlfYSKjSj65L4qZaSbez8emHcE2NZQuvSlOQJpWPq1wnkswnyTLWpIPk29/NigpXmOawP5oUUpHm11g2igVYzZSlRhM0L6O2Z7NwDCQiEWfLJwWolzLT4fak10Ow/yXulw7FLCxr6j/ZctKzBVUsKXlKUYaudaHsPOxlc5gZglbQfnP1iWWHG8fiqjaDHD3pVrfa3KWS0Ltnie5jbecg1LJWojd92j9fiUO78g93nX1dYt2KT/MiFXeYpVk+sWlbuaKsVywFY1dxKDj3abC36nRc/Lzo2F/plIqvk+ceUydOAwcqlfL9WDdXu1tmNtVyyw1LodBIyqYitGxlMy9H4ela3EJ0d8gM6IFl6VeklnexLlboSbF1zb72cbyFRZYFcSrS+bLUWOL9VA6R+WLgxkTBmywZMNFaOd5lGFyW3SqTfZxaIgbTwEh+Hi6/ujU3ZViRZLShAfv5YzUKVv/KwhpxBMHIzexujY4DzaOYXryWlRq5yDiUFIhX2GHeSjZwVm5oZIPiZ0Oz1SLJHfRT2WtkE+u4ujgdcEj8ykk7L8ZdP7z0FFd3SCD+9LtM4bSGw/xmUCu5zk5lps+GZ0Any+6/vtRf6W78JiM5TL3IMrWnJRsU7BJyw1U+K3pt5sAkt1ZiybXihP35Vjl3ua78JG+uP0raGQMursZ1YLGxtkhYd3fHmD4aUbm4ZwqbuYts1PQHmZkqdmdJwsr2aGiGVkRM+rYqnlreOUsa3gb715jq4zfJ/L3oqbz22BcackejbOuoJpXF6WzzTB7u3jt7MMgVe3KtOZxxhLNFl8r/fHZ+SX4xKItbuJj72rpCKW2M+jjlGWd2j/UXWGJLS2fflnmEHSlvtJmwdxiT45sja9guyw3ciHYiboUKSAnCzNV1U7ofgwpxmPPPp8leaCKvusjPEgio6e00qY3k663DGdY1H5NSen7DLqud3kdNtNtvdem4B/3kKNtubr+cWEfBiLO/K7iA0Sken94dpYEPsWj9eFp/Hb7GBrYv48nl+FUHl+eEbaMrCb3zUytepkpuqPTsPOpnA9nzlCW4nUJ74ombb+Wqvw2rjYu6urQd0qgnfezFLrHEoNV5CLVjgyueU70DH449DT3uWixxjyLfnsrvvZvHNmtFRczvPncN/681Fe1w53zCV+v+5r4fZa5/OnrzC7PhLa9x7sfZpsPGqTJ1tSpwv9u6p9R3KvUg4LVp39Jz+XdcoyOAoMd/WQWAN8R/8FaAncRC3EZKgsZ5nKNzVoV1cMWB7MVLVTduQ0N9aDdWemRqApWBJlVytkVtvrdtBuV6XvdzgAY8joRzswd+jCaDovdWI/NyC2iAn6SD9tZ+7NF/kaU7ARds//Zwv5dGRfd5E0cqTChkTnh2x+d8UriBt5ZwGfZ3tHZfWMVDMaSE3ocw4BV99ZZqESRQD8h0RzhTZtg9aLh+ash/CWOBPfhbYQhsYnhBi0dJq9V006NHxudwibd7ahaI9P8xiFe1a/6XhoiYTzM0eNqHL8YEXHQWfPMWfhdUaGHRiZkoPmWEb2Q2Qb/2eJXHfCOxReh2PXC4dxdHTILkSwVSdp5XF7CYel2niQ3mOopWXbNnWLrIg7uTYFY2QCinZxiHEaOHXp9UfbuoiMo4WLvVixMIXNGIgf2VVi0VNGCWbrNYQKX1g/p2XP7GgsdmiH02jlU2c1BDg0Y2ZRqGdGDVcQAUieFoaEgnG7tFhqGGYr5od13nijRBiDMYgNj2PiSXZTj2JNhGhwaJPNrmdN3mUVqWLCCXHsllciKFkPSlSS+kNFyWdpT2gR75hwapWwpIGauXLC7kYw6Yd3sSPKj/WFvyY1jRJY/OZWWgk1ffAnznqDfu9ijq94kdpyqqRodkqDpGuYMpCX7d+FOM1T7jgj9T2Et0sngT5UoqlnT0WIvT90BgV3/lc1ARaZXsVncMZoXTgXk3dpbJEYFQd4S7Ane0KFUCaIgRI5JWQUyySChHx4BV2EZ66Zcg5ImNcZXKF4v4R4wAqI/nt00U6HLVgXiPWZDZZn3eVoYh93MEVT0wGX9j41V6VS5N1lYxt2ym13AxiIog+H6opm4oxJr6JZCv2RnEE1NBSJb1M5MbCWDsZ5f754VpuYlxOWcnCVmvNnQ75CqkmCKot5VJOJDoOGlGtTfpx5J16HmCB5hU/zGTCzlHMAOVgeadQ4Rx5RcykWmHGeSVjuZzfJVkCuNstIGAeRefDgVgS7h89yd0umSd46kllSRwslVJz1d1JTl04qkW1kaJJ1hmNgh0DJqgDoqW+dmWAIh5GKl2myVxvcmHQ1KMHfqQoaebhZaIpIeNXtJYquVVK9WE+2SPeemdMwKjseZ2M4qFNZpnDdWeJbqMJ1lpm9dyGIZGI4pzvmJmfDafVKef66hnLeqLDwocUTgowviF5sd1y+OO6JKOWkqkBjibh/mlk9gstPeN++SWWdpjTJoeQ9ikyJR113chYGSm91l/qkinrSl41yc2mNmJ/ZKn94ijQwI3yxWoZ+g2jjrHZmEJl7I5MRxlUaKYXqhkqKRpSASqGjf6o/YIgpnqULQ2Wp3qnjE6lS85fLHUhKdKHQqpqt3HjZPpmn5KamNKXEuJeBx0ouj5qlgKWlFHfHhVpa06Nb+KnHlyeGZaMVeomxYErNTBrF2qM8+6iOCIjLcqfGrYcIR6eqOVjtKao9p2jXdFocU6gOKqrNv6K6Y2NOMnaVnCqu0KTu8qZuyWRKZ5MBVZrzGhToilndW4iv4qEwC7RtQJm7hasDUhNkKqrQzLSFeGqI8XsZmJoHA5rhabkLoHnHG4sbCSpiA7pBobEwEBACH5BAUKAAEALCAAIgDCAMoAAAj/AAMIHEiwoMGDCBMmFCBAocOHECNKnEixosWLGA0yzMixo8ePIEMG2DiQpMmGAQAAEMmypcuXFkkKPDkTpUqYOHPqZHlzJEObK0v+VEkUgMydSJMqLdjzJ1CCTouqPLq0qtWXTQX07KmwKNWrYMNizLo1aFeiX8WqXevQK8qHJKUafcu2rt2BbiPGlZr2rl+xXFMSFTiVLmG5Zv8qBpy46OGviBMvnqz0JEO5NQ8fDtyXsueWlrVKzSx4c+LOn1MrdDrxqOOCrEv7jK26tkPaEF0Phv1T8+zetoOfzWowMOmLqIULfw1Zss+MyZWrvhx5bnOENA/GLixdOPXIuH1r/0TZd/vc7t2rW6fLnG70vejRq8fdHqph7U/jTycvWrxQgpwNtZt+BPJWU1njAXiagMYV6CBpch2FG3XfqReUhMA1aB9mBj4o0l55CYVhYRbuhiF8C4n2mn0ecuRUdv5hB5yCGnaYXY2m+bdiixS9yJ+CcM2I14ApkoYiQq8FtiOP+JXHXmPn3fbkavcdGCWSozGFGJMyOgnkkO9NWSR+3CXEIY1ZcnlQfVou+d9zginpXHM4SgQikXW2yCaaNd6I55z3uVnRnXKqWRxiuiEoUZ5vKhojfg8lSaSa4D3pKESMQhhUoVJGupugHhI6aZtoVfkmlXz+GWZflaopap0Rmv963Jim7VgmlawiKmt8uWaFYY5g/shRZAli+qlzTPZ6oZB3KgjjWFt26OmlhhrL6K0+YTurkaZe+iydmyJb7ZqjHjrilae+mat/3wZ67LhDNljhWSFF9yWLQoEKL5rj6SvbR/YOWayVmY57Zr7i+hYwqnAO/K+0cZa778FW0tswRs/i++isFBv8J3E27rrXVwsbq3B+w+mqn60m3pdxh9pe3JGiR5pZXcl3VXjtstvmJtqJQBWGc7CzRhWlpAX/pXPCAsM5NIXuZVjq0I8JWxPUwPqrmqT9juolpILlSnXEqAGN5th1cc2bm18XG3PVF4Uoo32Jomsbin0K6SndAp7/BDK4O47cbbhutof2VXiLG15bCxrtN88yRxw4UOtK7pzhuyodtMRCo+z0iy6VlTSc6vnWoNyTiYqlefj6GDrhTLtdnemXl/rZdYz7C7WPJGce+aDuHhrrvZ7hnnKdu/Pu8NwuBk8q6qPXZTSWxFp+ted1M19RmaEBa97bIWtOHfXRcsh6uqCOzT1/zf5mWpg9L/Xy8QsCy7Dws9uZ34SgPzxebIfLyfxsNjn70ep50dLL/pjVP+T1L4A4GR9FfCUsAHqOfrVqnPJ+Fy9A9aw5yYNgRyQ4EQpyy08R4dDBeAcc1LDNaumqWudE2DyNpUheUeMb/yqWOyL9Cn3HKhmK/xZHQ+TkUEo4tCELW9efHgZIiZYKlxAX2DuwdC5+sgEVy0bnOvdZDmSwSmAMyfSntK0Hi6IT1xZjxxsLvgpyYexYmFh2N73dMFwZxGKQ8ohA+oGsZ2TBYxt9B5bFyUhR5iMk2DrWsVT9MXKBfJQhdeKkpV2vRtVzFgzfp8j2/U1FbOwa/vJmQZhUEpQUxKQY4QZJ2/ksa5CbV4+amKoutVCRGUkjwSRmw2nZTUtAO+XYdFMsIlLugjrRZbbSdEBfuhBdXfyfHRVIvBO67Jgbe8nS1KY1/11MmScr2pPKdk0D8hBfBYQYE12yzXdFbG8QA6ds2qXJ+zXKa7S85xPVqf8uXMYElLSbT9QY1T5uqVKPYMNf3b63ys/xrZogkWUaW4WwPb6znwfloPZItVCpZbKfD21aUgrHl02OqZFNqxk8dbhBA0q0pLs8VEh3QtIQBUx1NtNUCQHFwuwhbKJRkiXxJvmRAO2TfCY02aJ8eEQs/lCmWuplB4sIrQ3Vj4AtC9jo0inOjVZuqIMD30hbtlFNJfGiQ/yZsIB6MjmRcG2QW16TkGnPkOyJnwXVJxyXtb6AuvOtJFJcE9uWIpV2CisWQie61AZWqXpvc2eFJ+paIyapEhUkJVKsT093VTSS1Xr8xBInjQjR3lEVg/OU2vV8ai61IjWuCfXmSsdYStL/ZRWGp8UqzVT7G9YC07XkuqvDoudN01Zwc9frKlJw+MyY5S2FWfIRKStbWGySCqGOVQpzdzVZ2Wq0j73N50y9G1LnftaiOYtaOx/ZzdU6z2GPyy4YmfpR0iJOvaiMbhQVuLjnYrSzUbWtURsKPLFUrj0vrOJJYWtVi9HOrK7k4zOjGZYDtyzB5VywU8Ub4AcLOMKgnXD/BIhf0XrRLWyaowdTu2EHK9WqBcstNUU0uOSSDaAOReKKP1nWDr/4p6H8biHz+8hLMpVhoWGoPc8VoLe+TKzL1Fz1jMtVsCXZo0x76jKbnM8n/7LB951kWRTMLYja8oftXeR5c2y82A5Z/8xSzHCZRSqlHV60wGg9opfrepXIWs5s+vNUWs95QM5yas7yhLAVV5xBQM/4LIOO8mEfRUeQZhGf5lTLfIvs3a+qGbvNtPTw9JrN0bJl0wzudI01LORQIxqmpCbvje9SIh5z0LCys/UHqSs7W1ZNwZOU8VIzy2ZT4Rpmn9Uyx7JM1xOfMWSE3cn5+BW2/dIZvu+9WJvfauNuenvHvNQmb6mNrUp7NdvKfhi3nb2zneU6yAATGZbdYsni3tLF59aypyUo1EnbTNjZ7bau6r1dhBK0xOna92BxjN5/+3OEGb5iao9tYr45MN25BNRW10PMVsdbdueb9o+NjKumegSHG/+nMKdNaXIqlYlaQO5v7SjLZU5WaNsmfRZFWR5wuCbukFPLdqnJWN6gd3efwI5id6Xtzze+PM7kqyXjmhtU7n6MjV1EKYkpm8EQjTmsUPo21QdowG5mnZkwCSM5+VzzzxFcsMzzs584K87kmbklapc32zVoTRXC/dMQm/vMtd03IRE3bvD2sc3v7c3DD7KYDLTzWacI1Zw43tAcX+vgoWPH7tEYzSumvOI/xGtySfNsD5d1aQVk2RG3Esq7Rbrr61X6ytMY9dsL8naP+vmWzzqnqZX9Zdm5asqe0vYQrmntiPvtyZG5Kp7mr7HteNb63rmDuW83U5/Pc59xOt3cv3b/SpUOblbKteQNZ2Vub7pwbMs1+uOXumLNH9rqpr/aoEb819Yd38j1tPY5hj9AN2fhdH2AdDRo53En92WfM3ntN0gq93fKMoAByGIG2Eo41XMssW4VR2eYs2zIN0uR1mM/Z3/XBVdL5xEcaHo+9oHftHn/NIJuZltDJ3MoB2vywx8I9lkwt04zWHJmZ3XDtWaP1Wip93Fbxlc8KEjME211xnCuJn4+BS7Jx4BWMWD314G6Y1LT9SX0oUZZAj6dk4JXuCAHB13U1oRCd3vj13GjBHXkYjRQtnU0xnsZ9YZeOHuxBVhMqFsAJl9XBXCvVIcAdofgdTLDR3icon28B4g+/5iDvlZdbeYt7qJ1Hph4XZd4vpV/4haJZ5ZtlPiG7iZ+vpRmy+ZnTMdS+2dyK3RNbjhsbCSGsDOHJzg9lYFfwYZb5Nd6rwhdO2NhZBhcy7KCSdGLXnR3R0eE3yV4SJOAlQNnsWeFSGGMMkc+VOh/evdhzfhCJgaNgoQ1YcFlucguXAg72VUyayR38+ZKieN4aadB46hu5ehS07dTcsKNbEhR7YiJbOEkVZYyUnUph4ZVUARV0AM7gkh8QNeIBDlGAgklvlSQAXaQpiZlmCaMPag/0WGKNPiC5wdkwWhgUOhZjBWDvsORMoiKKIiDijGFWAZxPZdXH8lnVlVbNrYYLv8pk/8Uk8gVhTSJMDZ5jMUDWRBZf4R1jZqkk5mmU5YWJO54i3wkSfW4h5VYO0omjHEXiJ3EYVuDT7UlevKXjyxpj7eVacKVGhiWHWDZQQX3Z0cYYi9Zi2/JGOrXk6+1WzzERZEHQ0+nSmOoK7RoRnW5lGz5VzrYh0ECaLqhlDfWTuD4GdWnX5tFYJcmTilmUvQ3ZQyUhxqoaeDmgrCEUngJZHMmNuSXVCBIePshgL+VVndSN9rHdX5oUXRXG0gZLK65ObAZi+E2k6DFMLVJGZ53jghnQ4EUY9OUhBvVjIR2j/xoFcM5RnUnZ8HXm2zYNf4VmkpIPBwpkndXg1MJOCX/RXajF5ySBkWCczsACJ5qKIpBx4nmSY7qmJ6pwX6OGGrM2ZRRKId/+IR19Ggc5ECsmU7wM1f/6J/B0W/fSWcTiH36SYwVFT5CiW+2OZKk6GMNSo+WiXUcppbJGYL/GXjsc5ji2JM/1FEKtIX7Qlt6dkvOF5cnGkXsp6Irai28uaFdqJwsapAgtqA+SiDfhqOC9TgMiTspWDBP2ZUX16L01qEMAmLPF5Q/uqJbGKNNunssGaWMB6I1GlNux0ADSY67xpQ0B03FOaEOIktXBmaUppWQN3RAp297WS1ahnll93cdeJMJN5WcuS91unzmeKHPdHoi2mMr16XSeX3xWE9C/7kqhxmQboqoGYqmBxidjkpoOMeJ+rF+EWeVm4mNioZs/UencxlqhiVxBChqF7k+Saoc4ENxRkmdJAdtVZlIgekhr9psHxl+tshE4rmDCTmU/NaimjpLHuaLCYiog/RIHqqQlQmL3Tkuw0qYytWsE5SlVQmnkvqANFqamOlEZjqgz6msUzWiFNaeDpk/B0iumMWOPWVR6VY66cqunEdOA3SuNqqZnkiviSlv96qHpRgtx8evpIeMnwmGoeqbBFtDFxqZGcWYweoq2diZevmJC4uEJHiSmjh9iXixGDOxwNexgeaxEQWy3fihO0mykKiy0lqqLNuPKPuymxqzMtsiEQlbsxXmslUREAAAIfkEBQoAAQAsHgAiAMYAygAACP8AAwgcSLCgwYMIBQoQkDDAwoUNI0qcSLGixYsYM2q8CDHhQ4YbQ4ocSbKkyYgdAQAwmFKly44nY8qcSTNkS5YgXb4EWbOnz589VQrUiVCnSpgDkQJdyrRp0ZUBiB40CkCpQ55Os2rVKrRgV4JIO1rdSrZszK8D0SrEKhar2bdwTx51m5Qt3bh482acizDsXb2AAX9sONbj38CIyQ42bLFw4sckHdcd6nItWLuWr+qUDLkzx8OTo1a+erk0ac07PaveyDk05b6gW24Gvbp2wdaZXx+ULDu17d+E//LdKHUx1eHAk7v2WpV2xOIPKVPFrVy11d6t0fqVWr37brrYnWv/t8vdu/nFT9Uyh41zNnrztd8bLD8fKs72O+XDT3xduNG14X0011w3fUcRcvv91F96oxmX30MDNlfgfRMhmOBPx9mXkFTq8ZYTVBnqdtl4aKl3IUkhPjdah7F9KN1/ouE3ooYmnjjRdjCy9x19hvXGIVTvWXiajSLhyKNp+NWIk48rAhldWs1RSKRG/U0H0kJCdlVgYViOltuGGr7XZUNKTlmlUW1l6aRuXApQXnZhPrlWmWVOWdGCU8VJUIR7eskaZsvZKROe9SEp2phQ1nkjoF8K+plp+lH40aRuOtkWZW1S96OjNgEa6W1XUgqhpaFi+ten9XWlKKcZ+fVljdSJ/4hSqPpRdaCGrAYHKVawOtcnRW3VmqOKucY4ZJ76LYZUeTWqiiuoAvoWa7HrHVtfsk8u62ezID57WbTDTUvtsb1+qS2Zaxr7YqPkNmfrsdiOe66B8PLqLZSZldggePZ2Cd23/I5rLr/CXkqvof/eWami4wlc75JyQmmwlMslDOzC9/4aaK7qIWgwpRgV1nBohIrG4pmsdhwlybRGfPFThk5csZ8A8rvqfq7WNeHMu24Z8ZHMddmbrJpmfB6jV+38qp5Ju9h0nwy7u/KmG8OMM1186vzhzVY5mzDQFMsK9crBicsf1lIDvO6ihZq879oSdX3vbHG7fKGySNP9Har4Mv/Wd5uZBVgpu47ijbBvEMOp69+nlnqae4NbezW3M6pcc7AYO/uy5ItjLqa9bZv9FqJtz0mzsSA3/S7Xjm/uecTzaiy6Wf4aPWPNqW47rF+pY77rwIqWXF3tF2tp97svjnx5ti3/Xm/wAe8Htt+H64v8af3Nrm25D4MauN15Ta9j9TQe57zardrLfc7O872Vg/o25p/xGqNrtrAZppku6cTqBX/58mPQ0iQipLrJLX+hoh9qbpUXn7FPXU8zjPLcphGvdUtvq3sb6tTnp+2RTTFO+1z9IgibCYoPTGuzUvIumC4FrpB8szsJoliXO80lam6249wNMxi/uijwh8fZ2Qn/lzLDHLIrg2Oz2uIYxEMA+rCFUFQhBIfIlB9JZmQ8GpoORfZB09kQYhTzXbVMp7ECOsWKoMHi6bQIOGTZrEmwKZkYR8g/Z8XQJLV7k118ZqiBJfGGL0JZ0x44vgp18YlU7EkeO7jHECLNj4CMpN5uN8hHHsyQbbre6BwZs8YtcYzVqt20ZEZARoYMY8t7HyeX08ZCjlB2GBtl6ww5weLty314TCOplKYwM5ISlJmC3SxfqcNCMulmI7niLp12Sl8OE5iNE6EOWRTA0KRIQc/sIwm716ecyXFUlmMOMhcIQS6eDG1im8kvtSnNI37wl7xDJSjhtqgvTnONx+tWcual/73opRN9VDQcBSXnQu8NdJ+gK+asKFam/13MYBZjnI4SGRlfLeqBvDxfJbNn0XfFs3SzyuihwBeTO6IPkg2dpagI1lEYfXSePWJm0Eg6qCd5LJvtSt0/sce8sgkTXRniHuF4GkaLytCm78SptnQKwZ7hNJVV26H5LtnGb26lV3ZUKdooqs2QqMmCxivZTYkJUppgtVsyO+DpNleSr7IwrP4c6eFKiU08Ec9YdFrrBru6TfnVEqahS6gtx0klu+nPhnmlHDehZVRQ/ZWsoRRsPfUqk5sx614CBSk10we9oX4Pc3r8oxeNiCLSXjaOOO0hX+vWWYWKEVxMo+ddN+lRmf/KarOBtZqHTrmztGYuXS9EjRmbssh8PUu1US0oLD/5UJn6trZjM94kzRLavl5So0ONKGRLKVSeoUaLO72qKa0bNpaVd21crKBexeqk4ZwWLj9Srt/CY1zoOHRmCCLR1PCZXdMOqyzxBe5CHyetrd0SqSZEXDkrBV7z5ulWXK1oCilLVQ6a8b1kbKpBdQvOpHqWbQdlihYp+kAp5o6OkUspumo23XUqjJ5NASvTRCnZBkP2er2VZ90gK7eTOlZCNPWJjHc1XTUqtoZM0y8N+1be8WQSyCYljgb7az1SrVaqmtwmP3sq3P31a1LhjWpWImrO8sH1yivMcjs3+DF5yoz/QEjdMV5O6MElS+q3MDZkWZkszn2dmZWNxRCFlxZQT3bZghgJ556Di6g1R/mo5/3xWO8JVBaairuYdZxa8zqwR+cy0pXzMKXBhGi5qmh9z8zycrWGGP0VlV2ElBz/2NRI0yBWwORLXAL9fMiyuHrDRAW28Mi5atxZU597vWQWwdxl03k6mYa+sqKvq2EMX9S2s4rwU1ysyGiLudpG63Gft7s3bAdH2278cE1VrdBOKnPL0bU0TI+5X7m9TtdgbHcu2U2dl247oXWWNzHp3RJ7t4yjHFX3TFT2Z9FK7GcudW7kBMjmQBN4xSpqMLcXftwDn3imATcuJSne8BdrmNyX/w7xxs3apILC9qYTZJKxP75s1CbctSSFbrCXEuBO/xZHnWR0zlv+rGDe3ENlVuDKSzpxDUfrWtHzWURZpK+b80i71KY48EgLbeSyuON2deTUi950Id33j60pWsybPuZBI5LrJvepRaZnT5D2zsDoDorbR1tTAzaW7shWYiXr+1+uAJmdb9Q6sOUseJFXPN7hahHJp1zFw29MkB8Hddb57PiSI/DDZUavxTvVb29n/ok294/MVRfU1tOarRWnGhGDzFdlUj3Tn3JvxBfZeqqVHpZ3JWxpM8vY3EZyp76d6O7K3ns4OxXWjUvRs8FEfB+//vgn3/kW8R6nKrdemtXfvv/0R38R+X7ve1cvfJaX/Lnq+h36A3Tb9NU71Dbzvc8MPx37hen+kD7zzSw0f0VycLTHZ0Dkeo/HOFkzV6yWbFl1ZIyFW9lHE69TNKvWfLS2ZQvoXcYGRKYCgQAjgcI3ezM3YN8nKhyWaDikexJINN4GUXBHguRFLyfIVMVWEdzCgmRndy/oOCP4J4HlTcyjVp+lVTb4YJEVO5zHU+KGLUtHgeikZc1jXQlDfCtFV0koWek0R4xzdOSHTQqnTcPVgCqYUkKUZOEWOdESL9qnSmG4MWNYgnNHYQ6CYmHWaKPChk/oE2yIZvSyhivFZQ5nNjWnfVwkUgLIW3H1hk4FZ1f/SFDjNYeblXzpln2JmD40dn4Xh3rUc3nmFlVL9VPFR2q4FkmXqIh6Y38LpmKLt4muNDNrJofjdk/mVxMhh322VnhNVop802Zw5nIFiHlnE28Ol4t0FoU3pyP683T1knaJtxoIeFlV5lX4ZHYWJTSjcmVR9oMslyLSaGYxOIszMmwlBGSP9W0MhBeK4zZ/9WvudE6Mx1lp2D6LCBfriGNR13REOIrM9RmsqInkGBj05nV9E4cExo1IeG5BlW+w12rcZ21l1GsGlXcJKUELyY8g9hjpBVituDjT9WpkeGpkh0ua10D+sWgd6TcfKWy1RksjWYAlOYwHOY84uIKxNWAA/4lgpRiCpHWK6uSDdPh3NumHkCRGWMeTDSmQ4rFeWoVxgSSUCueIltR4BOaTJQEnqCZt4DgttdhNzPaGm2WQCJU7zGgkAteKhdZ+OLRTCPkbalWW5EF0r5iW/LeW2deW/lOAhfiAHTdO/CZx9Ydn6DiYJomVO4hXaSOOLsk9I/Nk/dePqsE6rUSDNwlV+QWOI6dvjncikml6E1mZg2dqt8VI50gheOmQQZJpefYp/eRwJ7RkURMfX2mJBsaQKRmP34iFchabq3GLtpeGzKiMU6h8cuePMyaIMil0leZTs2ZQXGiawGlx/PNaX3hGU4VypmhYn5iUChdM2vhUgXFNS/9IcWyIkJP5iiW4W5qpjjrWhtXSYvo4m0y0kzO4kgATehOolNWlTE+ZmUeIZIFZZkg3dHXnGXe1kZ/ERgzWUvaJQgOlhGJInxrpZieJkzPpbAyqYFg4dnMpoZCBh/iGkcpZbr+ZoPLZZ7+nHCDKWMkoVQEaZNMTT7+ZosPTkhnWf+IZf2wpkSDpQVaZlz5WRAmmZpLFLTSqfQ1aOEjjQaZSRyuTmqUJitdYnQmCURzUpMzHhY+5eUfqMOiZJ7XYRuymeILXnPDHKWpHn2Kqi6Som8TWij86oQg4ndG3X4AHdRHpTAJKpcDBe7xWewsaXFR5mf1ZbgwSp/aohu3ZOYr/SpVUdkjr53YmZiaKWmgZhqApuZKRGjVJ6qX2I1MQSYtGAzSQI26eql5nSJD4SaY3dISniaaS1y6f1HP4FXGUhKhVGqsQCmy0Smi2yom4aqDOYaYz2IdYNl7jJ5an6oy94p1oeZGEBx3KeqpvJ4uEB0v2ZUlhup0iuqwUuqY9dKCieIO52FzUGmmuepGp+qRaOFN3mI3niq4nOqegWmDkpns+9apKqnQWxqZoB5OfqUaM6K38CnmS6nGPonKrFK8QRnYnaIy686V7NqkMK5JJEkSAcj3d5ZRSFazwIVI656ihWa4cObAVC7K/KrJHyEv/WLEStmBFGWdvapid6rJASwiz3VOHM7uUFGuz6XOmhQpQGqowseazCcte1khfmDiVRitly5ZX/9m04VN4xIqlHiu1xlmgV4u1Pyl7hMm1valpfAq2SqmJtREQAAAh+QQFCgABACwcACAAyADOAAAI/wADCBxIsKDBgwgTHhQgQKHDhxAjSpxIsaLFixgfMszIsaPHjyBDWtxYkCRJkShTqlwp8uRAkw1ZypxJk6bLijdr6tzJ02HOiT97Ch06M6hAlzAZAlgKwCjRp1AxOkUak6FSpk6jat060ipBkksJMmXKtazZi1ZjHo0ZduDYtmfjyg2Qdu3DsWvxzt1bti5dtQn1XoXLt3DZpS71CiRM1bBjqIgBKw7AGHDWx5g1Av4qQPDmv5MXAxBt92/m0xSDDh5tumRnsgXbtoWJuvbC14QNrkaYdvJb1pxL27a9O2Fx3VZ9v0UufLjt0K15f2budrnz6wihT53uWqx17OBjw/+WTtunZbbAxYd/Pv52eYWNKaf3vh5z7/bBX1ZN3hS97PmB4VefXPflpl9+94EFm4HZCThgYQxGZ55oEY71XlcPEhXhZaVBR2F/zeHEXYYqXdiciRKWpmBkGXFIIkooxpfTjPt96KJ0L7LkF3UXXsWjV93JF2KQOQq1Y5A9vvYjjaSlSGSROs02IkR+SZmfdzmxeOCWxz0JpURWSgVkmENqieV5COIG4JBfwqekevJpuSKAv51Yo3voUfdhmx75CKeFd0JXp4QorqWgnnGuyadIg6Z1pHeNqpmfmaBZV5mKQN64aIOeOcrdb1JOpiBVg17aml+aFnnoQf95+FdisGX/qahCoLLmKaKb4igkq6wNihysZFZXUa2GAnllrrg61KqDTtqZpJuRRjhkqthpuuyG3FH1rHFqhjqrk9SC1+lnvuqX1GePbulmcwYWV+G3L45rULnF1uuaalNiSp9rer2LbHmRzSnthOoqm95q5cXHZqKbAtyfwPByeyytB6uZMJoFQxpxhqiS+12iruJ7WZUbc0tvrh3P+zGxt5GX76t5inmyqh7f96GUqw3c5LHtnpeyRTpn7JysNoNsK3+u7sszgNpm+nKDEYWbWVAsKy3ef/pWOrDCME989dH/fgqqypz2Cvapkkpc8JFOecbnZctGNLOXAcpKmHJhbo3xdXCb/x30zRG7SOme1d0da8y6LlxYoWjnTefjfxc+9q5kG92vdXMmq3hcjMPkeOUaT1Qr1rwCfrnbDNO9+V4u2q1ouneNbvrDYmsGutaPM35W6x5jS+3ofr8FO+VqW92laLprNbztBGet8smlfjs3dYAeT7zXUS3ffPFoly2opdJ/vG6iBT6e+Fzau8zZdmmmK6qjt+NbNvUVa85V+niuP6WM8H+tv6zYa1bqJlU/1fFEaohqmoFItzPuUatth2sS1+yFwJY8jUp7g9kCzWa18z1wSqgLFo2SxzrJnC1qJrSXnaZ1wQn6L3WCq1gFewKr1T0JZxmMUQsz+Lzg2bCB+CuKsf+EtT37zekqREOXEhemHY+FToASTCFU3Be4/WXLP/0ZnHyYhCSx9ex2qIOahCI3Ey1yUU45rF33uNS/i2lsekB7ndP+d0GUmHGJW7zTCku3Rkz97ELAC4nv9AizGXYlQfth2ftw2MMv5jEvJ2Rj5YJ1Pua5kXs6chQaFdkeP1GxichLZCSdR0RKtkwil2SfTBAmytn9x2Gi4yARuRa5QHZxkt8CoAFLZLFWWm5BIGoNGXdluD02kGJVk+SfcunEXa4kZDEb4ZvU1zXirSqMATLl0n6Yzcn9qo4YgWYUv6m3cwExZticHxTHOEqK2PKbNQlaDHFYvSG6rlw1lJwCaQf/MVJSLT3DLGMV5XY4VrKtd95kp8b2eSuj+VONx4QMVqz4T1d5CzmcLFcyb7evk81Tjhx95kTdVFFmXZRfk0vmRuGES1BCRJwsXeU0T7m0elKzkSmdaM5kaT+CnokztTooNz/ip0qy06b545Ut6xk9o8byp/oJqj0JWRNAMlNlF0OizxBHzAi+EI1O/RoDt/RKK/a0T4TUG1bvhEj9NTBuTrpc517W1CCVdXwBjCdP78XWvro1QD2EYFh1BdemRTRZAWXUXv+ayq1SLLAgBCkq0elVe8mzmUL8pjQ3p9W/sutonnzZdkhX1K4uC1hZvOo6QyLNza6zs+bKID3beVY//520SacLpo1m+qPs8ZaIvSUUVzvENELKT23ySt1Ko3jcxMLot4ddY3wc6UgXchaLlgXm3Bh5Sucq9p8k7V/A0mZKLu7rZ4jS4hNR6MihihS83GroeC/HQsSClqoFU6/kgPJb68r0skhF7Tavd9SSDWuxSu2kp4boNe+2CLooHe9nTYXb4q5XsdF9owwXbFQHY2i14unbMM2LyWo213y4o1Rp6fcUEoaYrswy6siUONeIegtQQFWth1kLTuI2dLckVqsDtyrf+5KMwtWhZYx18sFQHgmpAx6scOlIsmIduYBQnbCBU/Jk3SoTkj0UEcVcm92IWquydtUpg5k8xDvaaf+DiYUgmas5Vvemk6xqNmRH5nysLt82v1tOlwvDdFBdKhnH96PxFT0Lw/5KEYUkNvR+DAunQ49UeZjlowor1ecrzjivKM0wgekYux1bMKTGmyqSRSZaHpoMwR3kq4i3XFVwwtR66fVyqWnnR/EW1NWQFCFlf3xAWzPLc0v+7JkljLYic3dhxZmu2Yi9k9IKulsRCxoadUjcgSGaf2COsJqfCDE9T7YyNIKjqENJQTxmrpvbQjZGhddmr/7G3GhxWnJ3vdYKZzm2PiWfp2faVoF3W5ZSHUrH9m2wDV4ToLquZux26zJ0v+aIgQLm7PBdRGtie9Nalg6he1ksbGkY1Eb/3KGW9cvj+H1c4oDG1si/zZ/z4ROcx7WkCRFda2hNjsT5vjOrz/nuCyPTy1QEXLWtyDKgd0XoAyc6dl+4a0p3VHw0YbY6zZlmsIJY3qGWHJI/C3KxY3nIO9F6gntNP69/mtNhV7rQ8jm8mzPPvYK8b5pIiVdZm1WY7TQ53Kkc2aTFNogi3XRjUegyVa5Klz/qGbXFWsXJC3FV8+67BwuP9SQZHuW7IvbNVVlrzMedpmjvpktJlWyhVU70H9MexzXP1wuf8ezEnd3eBWj4oSsX4p+fsutBsh0Bz52rt9e9MktK++yOVd3CxztHPIpF9MJcykYXeBIvklv6Anr2IKE+/5CNu+azZh/KSe7xfn95zn/7VvmuDOb2J2tMhT7JvwSU/HCbPen+S5+/8PdLXud+BMM1+dRpoFd0AEdgXNcxLtYRpPNOHnd38YV8/bN7ZpY2sZZAeFRxFWNqE2daCTV2qEdNFsdFBxhVAnJZXlN8BAdhKgFnwbNcLyZyssNHThdmxFdvpnRvFygTMhh/2hZxwZZQ59WB3cRjxndP/KR+Lbd+QmiEcLdUWNdvCxh8NbVkPMd+zpRJFwY8K2VbNwh9KjYmrZeF3nZpAfh/H4ZTxbRM8/ZwAbgtDXY42gR4/GZ2b3WGaOU97bFBGaglEZhQdCg0nnGHpqdOcmc4IOgRPv/oLgIya9eSU1ljepGiP0HYhcilhhpCb5DYXqo3g5QoXVx1ibGViaBHWJyYWQnGfF8WTmDYdiv4gcAHObH3g4hEMuDXfAa3dq/IfbHYdbOYY+dHiLjIH0W2ix92YsrmbnM0QNC4aXgTeKs4gelXaMhYfkRRY6FnQij4jNMIT1DYaJDlcmeCjVqljD73WPTXRy+EP96XVdqIbFqEhZpIQzA4amrDOAynTiNnZYuGO64jZpwjSpZ3f874UAcHiPq4eQ0CMW9ofFuBbAeJgLfkjg7zPeuGkA+JRcoRcoZxh6mIQXYGcebHkQlWZzXIFyI5fAR5ZrGmKf5VVx0JIQoGK9b/hoRjJkU5B3jbxmHKZI+oFhfvg5MveJLsNksBeXDnQmwZSWvAFZIlc1CNKI209UsPVxkySIIKuBeRQ5VQGV5H6IeC6EMqiFMtOHWO0Y9BiXsldmOSVValFY7Dxztr+Wu6Ynp2WWkamGZONlN0CW0qZxgYF4LZV3DimDxCNY4WJ44DUpgGo4OYSIQmhl+MJpEex2cPsmLuFIkXN4/kN5IHN5ZsNIikxxecGUs9o3YYGH0kCY3CFm53VWL2AZqEE2mOdRvYBFtilIgxhX7Yhz62SY4oWXZF+GaUOU4NSTzAWYKo2ZfWN0gWxWsqyIhNqJjA9o6/BYoEAp3PGF3l05Gs/2edC2aZawNjf5aBmNGSjOaGbnmEwXeQWxhuJiiFNslN2pNMgoU7mlF31ZiaV2ifwsl4moZn4ud3ZVNkRzeeAso3gxlSEGlhCNqKvrag5yGBHHOhS6ZKcHmH9Vhc7xNWEmh9tZljQqaKReihEbeaCiaiN9hup3ExRfmgBaZZ+IUvM7pHBpidjiGjN0mjmAmQ9aWbP6qjaSSaA/pVVUiczANXYnlDI1iNXzKQDuWLe+mkFZhrGiWlbRKhpnic5tGVYfqZrmiP6mgWXoo5GnpZYhperLl+ZuqED+Ivvnh0oLiXiamNbDggdCqZociBBJqnp4kshBNA9simEMV/Dsk9LP9XHy7lp+z4pOZ4fefZd426HgCal0ijd+34fJIlRhpWXXLao/m4JGmDeLnHnJ9aoGvojhmalryonlFpOMmniVU5NK42qDFFdrMacb7ZN4T6mqdpicE0Xv0kQPJJndZzSW9jnntEq+jhbGhGaryycJ7Jd1CSqSDGnVS3rQO1fr4ZNicKWM4UopG5PSEUljkil9GUcULaaI9ap86piMFaStT5j914ZWAKar13QUJZrzSIonxZW86aVJdar606PgyZg784pkmJsEx0g8BaKZ9kZEokeKQJscNnSxObjgj1rsTonOxZr0nXizfFe2q6p9Wprs2qS/NZexubsiCmGf+KsA2U2GoQSJ1993YaOz4kOq+diT/455I9u3tzpZVXqZFgQotn+qqkaIMh64obSK6Q1LQ54kKSdqy49kjbY7VTmqvNdGVwWZNdO6pFS7QneaABtKNnyxEyiZ7XakBs27Y7uI4xO7I7a7Z0C7T0ibJ4m3p7m3fc9lp6GriHIX8JmaWGS5ifuZGLi6tl+bgNU7iSWx+oyhUBAQAh+QQFCgABACwcACAAygDQAAAI/wADCBxIsKDBgwgTFhQggCBDhgojSpxIsaLFixgzatxoEOLAhw05ihxJsqTJkwg9ehQIoCUAli9RypxJs+ZJlSFhtoRps6fPn0B5BvDo0qXBnUMFtFwZtKnTpweREi0ak6BUpQCYQt3K1SbTqR1DFhUIEmnXs2hJfhVb9SPbqwzNpp1Ld+NUuQ4fks1Zt69fi3fb5sX5t7DhvGMTaj1I+LBjtHGNKuabMuTix5jVUo6IN+nitVZdXs5MGvBmhZ1Bhs0beunp0rA5jg5dWWHkorNj66aYW+jqyVSzvt4d++revZ83Jz6etHJw4tAHGm/uefPi5dRH35YcvTvnmEixd/+WPdx79/DguQcYb7e8+cK5twdnr3q94Pf4WQOfj30w2/wAusXeUW2h91tv1TGHoH4B/hQZRXIZuJBl7iWYXYUMNvhTYg8W1Nlz9mVoG18ILqghTRxiRSCBicllImgRmXgiefVp9xCI11HFnG8XKoihgPfN2F6Nr5WlI3WtScaUixT6aNqAQlYUGELiSTadULhRmKWNtPWIpFtRZjRlVOq1GNOS6bm215ZF8jVdYyKGGaObVI3GHnaBQWmRhEzKKRKaWVIZpH19EqoeR3y2JaOfExGZYYo8rlgReq4lhxNYITKKkaNgSqfkfwnp6WGawllKIaaiaipppNRBOul9/TH/Zp1ehiaZqqpdsjrmoh8eKmtYY+rkK64SLapfrEkSCOdFIOZKLG8//oasp70uu+eRzj4L7bajumomk8vG1+Z2tWkbZ7m2nvkWqf7t+OVvwGJFX7TvwXjld5RayR+pXHrqX30jnhulvepCqO+38wnbL48gATyZwH72emvAtWZaaI7SKvojXPTiJ/GgpgmLpcbu6gpqyaGqa6x35Dba5ITwdvspi9iSeeDL9U1cr7wgw/zuz3YemWOzNvvcWM49m3f0uisjd6NwNDN5L39dchxnpSS+3N3SCnfslpFDq9choDVL6HCOZ2vtXaCjQltiw6t6GazM3Ja7XdN/sZ3tZG87/8wwzusKequ4a4rmtV+YFq4zTLm5hrXennbo7qUVSr7f4oYlntS0qEGdcmRGqjmq5TD6LauoLZsXa7/J7V23y9ZOuBbkDb92b2art4kymhotymllsxv+r+0FwwZ5zNdyvrnnIWdqeWig02uk6sI/nBHRYYne/FV3Cqc97CoSl/rPnTMXXJ6et+7yyJPrPlH3ZH8PGc8QF43+/WqjXK7ZWaP7naDxY95ZxqQ8wR0sfScTE/EiVCqvFUp/1GJXWgg4LHwdsDGYE1iVTCeRB5IvgiKjy8dYpbh9xUp+X6NV+4RSu/JZL2jTo1vF5jLCTGXPhDVj3LhU+CVMtTBlFIPh0/9oFkIa3odTwbudDXtYOfqlEHOuAh6dMkSk550lNbQKlxMx1ikIIkZsQ2TWzPg2xS5aKIZ1QeHweAekfEEJR05k2wmPqLY3ha95uzscStSYQodJ7YBvFFocqzfHm3UJJ5iDUf2esjQ+8gh7H2RfBM/HsyjKrn/Wi5kJyTaXRgowbpBsXHrSlSWqfTBtFNPkvjjplLnFjnKP/BQH/UVLItJSZwSLmeny9cUCosSV+buQ5lI0y1gasGpJ85n56Niuts1web48iejm5T/kre9XJhGipBR5yTXWMZklmeagFoZNPCpTMwBUTvEgmLYfsnErWtSh68hkShI+UV+pvCQxZ2X/GvX1Epwziad93mlBokEpdKPMpD5lyU8p8TCP0fzlQ8t5ThauK4NtpCMDUflMlMFxnm9rSjHNeLXiQfJJvrIc1o6VUnVakppzEmmFClm0ElqzWE2U4vA6CFCeYvQmM/VV9/5505gaNV47/R9JIvoUBhINgwmr2A9fR7iN4DKYVcrdVpxaM6iCaJ++w2Q1xdi8sKWrqCUh5zJPajFA1imYvXvZxRrqv7u5b55euWun6ulMhFHSixeBqn78SVG7jvWnf+LZygyaw0lWUJujO9Udl1e4kfood0ETHd5Q6siUZbWCfNXgJwcq2T9WdqI3w+wCEQgUT2JRkmelpwQJyja0/8E1krgFrE+919PEXralsHXsMaVaxq55lLUURStJxei43tLEip0z08heqrLVRnecky1ibs2ouWRt1yfQ9Sw+20pdpw33vBOqoW65m0Dvblai/vNrVGnXXvF+DKZaDK+zIqrfVupVvl+t3jINNsdpce2ePPUuThE7kqra1JnkJBjHkLZf7HLTvKfbVz7nl8/xWbSumAQrrRgIUh6ayjkaVmhXmIpN+g4YnTKD44WrE94Yok6PMmFxxr4nWBiTkqFxqt28OnRjI/K4uKQNDGQJ+6gCHQnAZeuqWMl4GBfXMslMI94r/+tkhAmLr0+dsk4NMy2ajtWe3OtZAHHYM67ac/98a1FrUMosVDUTT1CFyyeb2RpLCd3Qg7N870ggxybtMniJVbWkgs342cxi98xOIbTh5nZoD+54nTJsMlcdDWlBL7WC+4sqns854xdjmKVO6miGuzdk1M4Z1C0WdU3ZKzDNmc6HcoX1g20ZL08PGlbJJOioxzwvcAUuxtX9Mqynozwmvzpu8U3mQUeMXWNrV9kYDi2Ejz1WXwc21750dlF3RafactuZL34tZZGdTnfi+Ntr1TXQchrrqb013sNuVUIHm11Dwa92t5WJFf383XnnkZ3lHq1o4/09Zo/WaqcMeDb7TfAXNVR95DxeRWmJv0OyhYu/M9q7MaJZwPE6cuX/sWxfx7hr2Roz02TE9YY3hNzYzVFcvJpt1pQn3StfW1YUxq2341pqaHZZgLlcLrZJS7OwKfHkflSXxsXdE47++ejctPVq0RM2p2MavVEvobOH7lCk2vetWT93tntLWCvLB9jXNesAZyVK/lhd31js7lEZLeALQTKQKNRxQF3aQAO2Wofo41+VPmy/fhv+6xn+LZ+rTvhZshVpSAtwy/k36v7G9m121DZQvNX3tYsqzflKDolFPiLB/3y46GvqGKdO7dNL/YKzWj2/Wy9v9F6X4c799B/vRUFWS3CReCfZNXUpZqPiCck+eb4liz8oL2/80shHOBWld25h9+TGxuel/5fw2k2f7RPS66VYmhn/+pmAv/pPHiMXcaq+8yf3+mV3XvjsfWhzcrb3FKVuXAduFjZlgKZOBDZfAAhUcTV5esZMbeVVBdhk2wdtZ2d9+EF1cbZ/skZ+N7RCV6Z3ksJYTwcbGpg1RNaBPjcnxIdkIrhyn5V+E9dgWAE2QRVoP+JhFtJPISZlzpJEpVcTnhY90cNTOAgtqrUpJnZRyvc3/9RZrTVyL+Q1J9h+uzeF6Gc9/edj8FVwQeY+4SZxsSODqBYUB5aFyrUyY5hC7OclV2U3wWSDZNgeqYaG+DeHdQh0oFI69TVzqWYqJSdTzJd9/qYxiMVKThNe4reGukdG9v8niKTWfI/3ReSxaEIGfyHEiE5Gf1vkanmVRxinJfK2hiTXWJYXfHnIZspmaUIYhxPlWsEmccnTUkETV+6iioXIis/Vb2coTJ1YPw4Ig0EIe7JYUEfHeWbIiybXKQgFgpP4KspmIq7yXiQ4XmTHgNC4bceFRXmXQOSmXUUHQUqki3SRc9uEVS3VjU5IXOAoiUqnf3FzjfnHUp21Z4Lke164XFpkbqTIdHpYF/U3jI6Fi5x2hyo2fkYHS7jFRyoHTxOlaBxXHiWXeZhGddADhpDHiacojzRCeOKYkSiXiMc2YwjCkHtIhQCXTsVxb+sGWHjDUUUGc7ZkkS1JHH9Vkw7/9m1JN3M8x3LvmGfv0WhhhCgKF4kl1Y0byE3T54mkIZSe9z5FWYHLpVpJaYA+2ZB9gUjVY1hAcmLYZCMk+TTj2EB3V2CoWI6iWHL0hUJHGHFh2TK2NVVfYpa7sSyBB4G3OIpOZFHSaGcBtDccCRV2+XB4OZd6uXg7qFRjtnQmAyBFyIbzeGWkJ0dO5mgliEzaN5UCCZA1iILcB0qzx5IbtXUgiZkRd5RR+Rc/lCh2pH5lgnalZVL7FmsH94585HpcsZoJNY0pd26URDkOZ08vRliQdXKlgVA9B4JaJTMWh4v5BlFwR2MIaIJiGX9SuZxJ0pw45EJf2CsiaYHHeWfL/wdErBeR29hYc5WHnadXmVGL4/mcCNmayOadzLiMLiRn4el/exdqf0SRlxmS4wlT0BFW+ol9XVl7PqmSAfpoxjNpvWkwIqmWpemLQWdqRkeU5FhlDuqHjSeH61ZVAOeNIoqb7biS5rZ9EkZHZBeI7/kdKYqHaXGTafei5RdOyIVT10KjgZlXgqeUyocmWAlMQYSRgxgdOoijfHeFiJeD3fegp7lEzmik4YM35Dg2dCVemQg3fYSRW/gYVqoRVTqlVzpcIpZUBuonaLSf91drTNg1b7dbxXaWAzqUapqGXIp7b2qMKGYuCUZle6UxdQdQJgSe+LejDToiO5mYxnmBdf+GpMoVJk/pcSGkbl8KlUoog11KnTrjcAT3W5gafP3ogTvzT3zIg6YCiEe3XnK5gcI5qhlVqg51a1rqH262Xavqma3qmEiWSGrTjON5pBmVq+g2MLsKqr1anVS1l6s2m33Kp/VWeLL1OMvGoIDFm80Eo5CaZZbZQD0JYr+HkHeHps03UokXi1xpdlHXqT+pKm/ppKK3UCapkJNKrc7aorhWodJZii4pph9pqErTUBMmolgpqfuhngBar+zoouLJLW/Honl5agb5LBCpLAt7TQ17o4YJsYSIKzKWRbfVajbHkkBZmxqLsMKVrwhZYiEXjTvXhOzlr/kxqEapQE/IoDmWabJQqW3huHd5akgHibO8l5zvOExIx6TNFHQw2yB5qm4Zc5GEyKoW8p9Ay6jriG9uyZTAuJlTS7WI1oMlKJccalxb+3/CKnNrWp+Pd5Nji4Tj5ZqZCYdpK7Jry4PX6nJzqxvtJJELeLelYXxJy7fPJlt/C7iB+511SrhkBqhYm4+Im5VS2Ljt+biQexiDO7m5KblPERAAACH5BAUKAAEALBoAHgDMANIAAAj/AAMIHEiwoMGDCBMeFCCAIEOFECNKnEixosWLGDNqVPhwYMeNIEOKHEmyZMKPARiiNLjSpMuXMGNuRKmy4UmbMnPq3KmzIwAALGvi9DiUp9GjSCv6BFpQaNGUT5NKnYoU5c+fAmsGpcq1a1KrV7Oq3Oq1rNmjWAumDXqVacuzcONOXDuQrkMBbcXK3cu36dgAdtUyNZj2bd/DXrUCHnwwsMDCURFL5goWYV6oj68y/Gl4suedlRuHxbyYM14AnT+rntixZWubLS9HpPt6tW2Ktf3qJU1QNkTasCPfHk60bejdd+9uHo0wN/HnC0+b7s3Y9dCavsmmhg49sHGbwMVi/2euOzr383UZZ56+ODnU8Y55l0fPXbH7+/KbC6fPX/lT6/jp19+ApKVm4FBtZeeXU84RyFeDZAmYXoLqLcggcg7uFZ5G7KUFmWUUVrffbttlONKGGXXI1IeiURigefmZKJJiDdpn4VyanUZYiAqSqFJ8MoJEY3D+6VfieqjpKBiP8b22XJBfjbhkkgr5ttRlHrr113JAQtmTlNSxB+KGLrZn5pA9epkTg9dFlqZ1V2qZGX5xqmkUmy8iKWGRpclpJoZ12ilSlz6KRahEisWXZZN/ZZmnoCBGlNuTQjZa4Zx9GgneiiJCKmlkuX23W5cHsrdUmIxddmqBf3l6k4Rxhv96KVEcnSYrqriSxqKNrtZaqparUsoakawaxmWnCR3a63v7UZqolsrSyqp4oEqHbKTLWnTgjkGVKGZ67hlmKrG1ZvvqudR1K+W3mBYq2qRSHkmguH4OG1Kcogq2I4uQ0aQkpPRi+Om9m1IYW4WqbkrtXdG6CqG0TvGJo57gJhtiuhY3LOjDPtrI62+c0tUljxiPOaud/vraZoQWkdoqyCKLuOqyKd9U86OzncwsjjHzqXF9QrHM7p9TYuwtlYvJi9+i9doM5moRz5f0U4qSx2KVSA89cMUJf6r0efCyRd6xuQJqraHkuUfmaMeCZRqAMobtl5VnT3gtVAm/qbC0eef/iOrHXx/2sbr69bt3oONiyancZrdb8b46B77X4DdGZzimiCNNtpnjNs43wrOmKTDUT3f8crm4NUsu534TJWyMmWtq29dOno4uoqpjyLS/r8OtuOzEMf440aPbC2POjkpL3Xhm87gt6e6WTHyMxrOMdfKjv62kv87nDh3vBVf4evG3Gx+zvLsSq+CqP8cFPsUMi1869RDNPPXE0+qatv6OyzV+/iwbj7FWxr/03Ew+UdsT/XBWvulR5l8Qq5Z/tIZA9aUKaZ6j1vPIx0AF9o8qB4weSbRHLaYt7Ex7E5veAkOvq00mhAAcYZJqZ8KdofCDaFuh/EzGwckMrWaSq13h/xKkO7ZJsGJApNoMEbS/ziHmhwQMYnAGWCa3NW1pTXsYCe22I46VhU01W99/nrY58llRih6zYLjcNBrIUPAoYCSgGK13E7opMF9KCVoEHefF3+ENg10BzsFIpi1i/Y+Oh6xfCh0otR4abZFTEaQSCZlHHx3KOu2z3yXHiD/7RelZ8OtTloLFRpcMsFZd49D+tjaVqNUQSaM8XClNcso6GnEjomugWbqHse9QkYjK+yPc+OTFHGataWUipCt11j6Y8JJrOfqlHYsDyNENqYdtkyWqmJYwUFoMjm06GLaiBacj+rEihvtYvs7JujKF0pEveZ++RIPD47nOnG3UGbbwNP+l2EHTnZlqpFSqtsVm2pN8epNYO1v3Tkaq7ZZ9kmdSCLrEel5kmEWzp424CUgFbZJisQrn/EaSzewt8ZqfyxntOFlBWAKTLHMMJppaJ7mSlDRG2kPpqPR5v9RpR45MklBMzfaafNWUJDftILOOmktuyXQ/uTygVJWYGoMSDI/B1BRTV/nNp14vcgTMIE6rOU9wSk+EXRxpRnnGVZCKVKnyEqIiLYpUJv4Ua0dt6FdHBtETwjOuU4wXJGPS1OHhdX61hKEKx2apN86trVml31LyKpHC0nV5iD2iYh9Lt5AOq7AYfShlP+WyNKLOg+VhYRShyti/ha95wJSVY+loUwj/qmuz2PSeatf4VSyqyIXHSh+SVvol/NFWl5HFXgwrKRh1knW0Ai1uZWdF3AYqt5hzba7toFjbB9ZIiZfFHUz3F8Ys2o6uUZ3lB6FLsO861aqRDRSdtHlPbPEQuT2LLghXd1qf5s87nMLc/IBjsEmC1Zq2qtZs18Rf5KLuVvNM3tcInKBBHhh2CR4iezFSS+kVVUSltW1qX/pH81kNdFi7CFZbeUQPB4fCKnOZS+Nn4vyetawUWfFANadWWJ1Xf5JUroBTdMWAfhi4etTrjrHLXMrJl1lCviFGXOhWYxL1ZZbdsSUvmCvhwfOhBNNgkqfrxgsCVKk8SZ+NjWxIlpo4/8xLHTPyoGVmEqMZNC+jHGrFquIi44h78nuehWMGX1Pm+cd7bqkqv/yuNqlW0AYmNE9ZvFGGUnOIE6SuersqVK5S2YYplk+hY5LAiI6RUUHWtH05DaM0fVrPSLRrX3r31shmxpvb1DS/KqzHFqp6j5Xz9ahhQmuF0gvXdkO1nwqs07VK7WHNznViet3gNB6IfReLc6fXqWs7AzvaOHZplg2N0nIqlHAL7eaP8XXMISa0WA2+MZMmTcsWS1neOwyotLU7zrsBmlEPjneLmLTh/mLRpE59KIA9SlZMoaiC7/Yxo+e9YOmCOWMNZ13CSwwjuHW40Ts97tbOLBXfMdPSvf9E8aU7ztKPpzXk+h25t4mtW2BVm7Uk320hL3po4LlQ0mqGbHfPdTkM77WJ+WZuHjfrzeOI0k9lvJO1JO30+9ZQnOLV9kFtvcDsbnzIJZ96nas+cIf31bDnKvWjXO7fr9+bKgBN39GSKXSQwTC0WUe33oEtcsKSWO7ryva4QR5fN7e9cntHK9ejpGTU+UbHcv3ws8jZ8+XmGJAb/OJrd65vU/8UXgWtu1/zt1Xcdl26FH4l7rxsdBtiW8ZeTynH55v4/fKxboMvt+FNB/P0slL2/7s7oncC+0xXD97nzvsfNXZkmTFRnu0b9nQNDmV6J1Gih4/61qJeaejT+8Y093H/xWOPXcBCjsjpBCOjzTh8kmo2w5XirYMFOvgux3FLmQWeZ44m8XDfM5ZHl0ugJWLH13dwwX8s53YltDg4l233hUrfF3OnV1cbpklcxW7sB3ZVdTeP5FkT2F9MNiPt51+Stm1nd3HY9XAdGD4hCIICZ2h8lnaDVXSb8zxlBhaTtWmOk0ohJUAiVnCcZ3ryB2AnVIM1hzY4uCkBg2M8yIJCYRo6FyW+RID+5WshGHEoFHybtzmFhWQqA05TCF99RFOBB3CxpoVupTiH4oVOE0mtM2py1XiWk22UQnIb500qyITOBxfcBmeVxnxiV2YzBjI+E2CLRzSSJBefJm5+Fh3M/8NhW/hiJOZFgHVt1TJ5EXgijahMZPSEmfg5QTdNbKd/jniJjfWJM1E3ucZRgHhsVJh8q8Zz6JNxgDNYMqF9T8eKEUg5UMhTsAZ+qTOLA2Ry07Zv7OZEmFVlh2hsqrOEt3ZqKId4Esh4ybZsIaJFx8SGXhNWpbhqUKRjsPiBOZGHZohgq1YiTFc3Z6RGbCZ/YjZcPTaOHMhIwneOgrV26shETnR1q+UfHqiI3taCijRvizV6hXhwIzaIcwZzfEFyAgmBlERNRYduD6dzHMVWDNkXqRQ/lahHF0lmdfdhIuRJDlWN6AaEIbGR1NSReDhzA/dRHOde07OGAYl//tOJvf+ogOURR5CjeogEfwIoet2IGICVk/73eRcyJT4pUMvxZOcHiSgpdfBSajA5iwsXMvNoMmoYkqwVlbdok3FGdncFkk85TXO2lTAJIl4ZT6oYQWWWSuUYe48HTDo3aJBlg6i4XzHlLGKXkXdmRftWl5F2l0d4G2YZQTl4ey+nX0GZOKHza8k4k3m5S621k5ZiPweDd3JoVFQYl8/4QdJHmde1PaSpkoqHNm6ndtLojnMIj7HoQ/lEYzGZj2MpNqkpZ6vJd63pefT0GcF1ghFWmae5fJ5mfbu3jKKWdOI4bZwYaodJiX3Zm7+XgXKpnGtJc3aIcY+UVs02kSVJexlFkpj/KJiS8ZvodGImFTWhUWnHZ2F+aUMO+YIakm/fgosBZzJRuUxrNmdi+UT0iXltuX1sNH5Ld4rAiJ+yNjuXeZwBNILAiJYA6kfOyJQGNhzPopnP5qBoRzEFFj8SpoOF95TcAY7zxE/ZeWNceI34F2IlQaKq4aJn6JEuiaK4p6Ii2YYyRKCT05bH6IBKiXThlTPv+HSvGUoXGo9mwX3hQ5AvCaTfOX1al50UVYjXyWA/qWTdCVFZhkm8lnIlqHy/SJTH6ZT1lZy7RnmL9S2qt6W1pqAHKp3ZtZ4GCmoZymwBykWc9xz9WaQJGKNu9XG/CR+PmUlIuqOfyWpKF2uouXWo/3WYqFWlD3SofDqdUpZI5uds6Mig/ZGp3zWXJ1R884eXGQGptqdInYqe8Hlh1MdAJFmAGWKJC0iEycWV60d/XZqQTwo0X1h9smpSVRmPdkmMuUofpnl5WmmIYgSjbLVFgxim6FGsxvWjZqdaygqSzEqkdIoyA1ZnxwpPoLpGQ/I6oQk221o20jqB34qY+Ceukzkv+NSrs8qMuudUR9OjeRgktcRwdJSI98R6i8hvuSic5gJkm3iBh8aX2PhMtReFA7tT/6o34EODg0mizmWAUBKxAquQnJVP0UJ3H5orwpUtGEuOLmmenXd0HIpMsWl55vJdFdt6NeSoC+Vuf9eILeK7Oqr5anuzlS+ylMbkqcs5sBs4Lo/IiFM4jEpCUT7bsLEHObXDrvOmmgtYTx7brg3rnjiGgOD5s4bopRnHtE17skSjtV4lkSvrtaTKH6CaX9yFp4m2lYIKtn3WX2z7XPqoqhkVhkIpt3mKiAI7ntH0fE7YIOPKt0Vkrt5np5E5hYdruETGT16Lfh0FdfZWq477jDmLlZIrp9R5Z5fLmHi7gbtqmxv6uX37pqbHorsZpKY7LKM4e3Daujf5uonEurIbF78FnMN5uw2ZjbrLsrwrOJEYvA4SKGlLvCyGvNr6HAEBACH5BAUKAAEALBoAHgDOANQAAAj/AAMIHEiwoMGDCBMOFCCAIEOGCiNKnEixosWLGDNq3KgQ4sKHHEOKHEmypMmMDAGoXKlSIEuVHk/KnEmz5smUL1sGyBnTps+fQIMG8Jgzp8uVPYUqXcrUItGiLI/CbNi0qlWrOg1GvZj0qtevJLMW3OqUKtizaDWS3QngodmBYt2uTUu3bsK1U7vGfTjXrt+6OMUa1Iv0reC/iM8GBtDxrdS2hhknnvzTbeOtUylr/ms54eKjXTeLtto1NNu+PZ/KhUyw7+jXEUs7hvty8FvVfFnTPgy7N1eqph8L/0i49UrfyH8LDH5a8trOxo3zTo6ceWqQtB8fJgyduvflsx3e/8Z+VLtk8VohM/+uuXNxtoSng8conz1i97N1Zh573HP4iPXZhxhLHnUnm20SdYfQfo2tJ+BPBAJH3lCzHRjbhAvq1uB/D8p03XAffoSgfwm6ldt2EwbYIUkhbhXifAVZxyFxJqKW4nkrzvQZf+a9SKFtDlKEE3o8ipijSTtG1xyDPxopXpATDelkdlMeGVZtS/YXIUJSEmkalMPpBKaVHBmVpX6FcSkAijCOSBFmko1JZlkSQbWXmgodtiWV6UE1IpNzVuSgnTh+OaOeafLJn58xUgVooBfiyZZ5tqlIpGtRSjhcm81BKuh/T1HaqKVGYloijM9FRqqnSqaXIWgYGv8ZH47lUWjgfzbCympF0/XqnHqgaroorZPaOqFpucI3466o9gfeaqJeB6WvII7X7HRyQvrUXtBmyamCdxFbq4vWNolptmQimyiRtT6L3aOu0tgqgL+6KeuyOar7aE/cvqthuE9G9ma9jY6ILnu+qogmk6YedLC90um2qpUJi1vknptmyiKuiU68YpcH2bgtlo/J2BiQ5dpLrru7gtwnsZ0xWvKMJjfqI7udNgnukTET3OzOOZcJ7H5j8luoox0fzbO/7ZoLbIYehzy0bkULXGrSONu3GF79FRjrtxJWLd6dBdN2c9BNZvzd1s7m7LWhXn5N4kdk48zkrHa3vfaaWIr/tbLDFeIbsL23opiqmCnvVtTDaLHd9N8Qp52phSzTDTPfeyGe9ZnrJtfXfn973eOxwtZXM9Q4snlRw6J9LnHXwo6cV7mhzi0p6vNyOnDUflHrdOhWo+y3lv+ebKx5s78qed6sJ+a77HEK23TAw6MJ5dtI8yS35oBHzDtYIFdv8eAo5ac3jaKXTV/bIRr9/VXhp34+yhrhDTh+ke+u9L0RV5e9/IirXZ7+ZSLBjaSAQEOUbBgHmP/173jFGqC05OYhBKorPQs04H3Mt6cWjY9K0HOXg5KENkP5DmMQ9N/LiFYuhUUvWiYqEdfqNiqLLYyAFKQMtjA3P53JbVZmWmH0/0jYNKMZrU4+i5TzLOa47qVQfYoL4rACyMN4cYphHxxXFqtkF/Hlzmlnwx2vzue6yrlMcVqEXA0ZCBQvKupniRvgxFyHKDPyTYw35F6livcXQtUKP1GD0xfjlT7KTbEoSCxRAreoFD8WC5CMHNbjtsi99G0OeSQD2IUW2btMCklCqlOTB0WYOBP2UG1SA9tUdlgXKX4SPKG8XwuHSLpLUqhhzdPjLSHDStJUEYq6Uw4Eb2VLWCaKiLtMpCyDOUE0fQWZhsQI9ioHtssc85djoyQTsWPIbr2vJMjMXw3F6b4PmrKOxsLNBZcXwXCxUDHYtJ1/Ysk8cwarjOlEGifZ6f/Cd9JleJJiDqlC2E5x3nBzqSqLJSV5yKsA1IkCjSRBTcexjNkvmBvCKNpEBb/c/NFfpLIeN+NJPoQSj1wFLCm9rHi1esLLJ96kJSqVl7xd7jCaOTOTBVU6QJY2y6V8tInYOKdGja4GaPTz1qd6ij4e4jKobwTKUAmlS6PmBqk2+9/EIhowttXnpdNbygTD2rMOevQmtSyof0ZWTWVN8oqda6tSxqrWsl7zjCIhplpF6UDJ4eatkkOhXIWCPQHO8yVDLaYPYYRT7lXVpnyc4a9qxsZX5jOsexSsEhVbSOlx0bEvrOGjJKuruVVWnkw9bfsMCDdgRpGPOIGkSZX01Uj/bmxgGpUm7VgbLIMiNnA1Bdl7tMjUqgBxf6ey3O3KhqhKxk6rxFIj/gIbWhleLijHVSzO8MrOnzK0s9ciI+zIt9DHqomeaBWVC5eLQQ1e7aBTKmdqf3hHEEYmgx+tDHQxWyRxlpZOOWVf4p5KzXHa1zj4faR7rwRfwi2YugOt7ycpaz7crrWiYIFTL3Mrz+YZU6E08yx/fZpV5T0TaaP7MBfZ6zbeWujFInbtfBEsYcguFLsozpLXaGi8B14vVjdebHdXrEkj1ngxQW7k+WTjYTSW0GoRtm5y/TtkvZ5WJMnK5hxPitxiRflCKmotiwucZLEGzsH9cqSShpvK8pF2/5dMtucetUvYM0NRuCdCZJHYTOJPvjm2wJWzgTlsXA4Ca6Gr0fCvpBvDO+cQddozXs8Ge2UdGTqlfs0zfHU6HnDR1SKEonDtfFRpm+RxsnFU60OZmWpCuzOS+ORImaty6v/yM7ry21wYh4zEkIo3rzEutMw2u7rLjdCzs8O0bsOUyeaVGpxOPaWMJ4KiY8PVggdjq1JnOu2Oars7UqwtekdsNnx9L7teFjCdC/3tG3FNjtdtswTNbVvXmqnBme4ko0CrZtEejau3BnW9jelGV47Gkfy203kFDHA+r/Q3bzZ46/p2OUz1a2Y0Lq6QI0fDMwoywHxdn5I/rmUb/vt/Rv/WeJnZfJ3mEozkJS62kl9WcpZauZSpdji3cRovN8Z510Fxec37+0RE45zjJt8wkWkLwOpaDuhCcWaLkwXe33CXpR9fZE3XF0sxL0Xq5KL6c3V7daJnfXuFOViWq/zgCsZNSit/dFYj3G84em/R28yvE0Pe7ZqsFu7BfqIia2zNYdv9tTvPsdeTuu70EhvAQnPu3YUn03TfsOWdM6xFSVrnKQsz8qEtZ7XrO+kA342Ho2QowQfu994u9cILxyTN9/47TypVryZd+4nHjNqYz5lzs3ew7BtadDtPvu84njf17GlYFO5p3x+srcCBx/W4NiWizWR+jjGuOOhJ3cTypjb/lmb9arBev698ZzF8mwjXSO+17zU1fO0t3HiaaDv9tE9j9KQoeqw9nj92lSxNNm5Y4XRQp3/hFn1tY1bZNC/nRFUPVEScZ2u0ZoCtdjEKF1UR2BxGt2psR1ULGIJD1176hUJY1VV8s1PElz7iY2Qp13uXwmWDBDjOZ31Ignqd5mJXhUBCxFjbx4H3dSOn40SKNoOZ9S+aVUFN9ich+IKbJymgQzyktF0pSHjtFD/E9XpLuBHhpDFog0XyRWR/BXKXFV9ViE4qloVbhX5tpG68pnq+R3TC11I0uH9Uc3QBd4UTaDnD82xi5IP6g39GmG90+HuARmkx9n2QVXjy44fi/xc14EJRg+iDZbdmY5dMYOaG0ARStjdyrBeJgkZulGiFylN1lbiI9yIy0PVNy8aHTieKkCVxY7ROWBVTm7iBpeVyMJd8rhhMYRZtW0iCbVaLZ7VKS6YquKZ5wPd++nVEzCiHtxaMyrVnVthxyOiA8eSMmKQ9JwhtzuhrSCeNaWhfaEiIGZM5bjhJIKhsdQZ4PBeHMJRN0xJ6cjd9SLhFduVdp1hB7mh8sLeC42F+llhgWNY5v9huH8WKwlQ736SM6GhHbRUhUGch5xZ4YeiIAZVjDfmDEkhFgPheT7N07KSMluV1RSVV9KVRpwd4VMhqendvobVepgVkyKg6GPkprf+lLtmHiC6pYOoVk9okaTR5fHFzFg/pNFYVd7zHbdViWGHIYuw4M3hmlEcDWklpka73h1LjkXqIi64VlUA4lZwReCqJd4w2b4WTRPQ3d/UWUeJoZhy2TowCdckWkGopfny1hvCmkKZ2clXjfT0kiz3mZCAmkB2Wjv/kl+4VgJ24ba/nlYNnmMuVUJShjY4pcGHFYzIXc5I5JY/Fl15hmYL5cOXIOKNHgcT2may3QT2IlxCGaxonlJWjl1w4Uq+Bbsr0lBq4mwYTNhz5fyDmavAUkfh4Vqund2pxh7xndHjWj5K3GUYHi91ynD65Ef5ETp41ncZCRc95m9nJNJm2Tur/aIE81WKrR5kbqJ3jeJP2952jloPg53M4Zz87pme+yHBWKJbe2ZNUBpijw12SaGCjuUMm6I+TEWSLx1x6xo2k+IxxxlHhV3Jnw56WlpHql2uviW9NmUM7InUZVJ8vZZmsCVFZqSi6BJNCV4YLB3avWIZIVqKgOVcpOWiCp6IBFnfGqHGj6XH7M4QblKDNGTjgRjw4yksKSJR1aHNk+YYDEm++cn+alFGfJ2SjJ578I5KToTpPyobgJ4he+JFVimFFiaVjqUxQ2Ji0eImxeZjGtFqet58Pd6bngmFVt6aTaYduCpzQOVI6V4g1+pFSqmKzY3AZ1IfuhpjtwacVNjcX/0eig9eAysJ+XKSdW+eYFHqDVER+PSdtq3dRy0SjXvp78Tga/aipGPiLmtUwntag5Smqt9d2aGFebkZx7RdZ4wef1KWkwYl8OtSi9RNtyAmErUlXItqVOGmg2nKBmQmUtuZBRzlbkWpnBzgndAmbSOlWZrh56CVSMFZ/vsGO0DMmjOYjUWhI6BRTXBmjiQGu0CWu4yUvnvk65mqt6Fp56tobUlKEmMhywQOHg0lIi0pjl7qu9aWvLEl0xcqU8NeiClSPAoJ5LMqtrMp2ELJN6MmkD2uXEYtqZZegMkGgiDmwDaSIGRdzP8ZfBMiCt3qSJGsl+WpyCXay75eypbOy7//KdMyCil9Eat/pY33lgdiIaQF6r3saa9l6pbUaXoClpEIraEQrGh1qe6pqaOdoJ2A5jv9KmMwStXQUik4mWQxqSpYVfDmboftzluGHVWtIfojjfjnbfzGoS1aqtm1pm0UWbSJLsCh7q1Q4VcfIHbD6tMlBkq/at4vJpTXamX1Wtr4FcxpabJo5rYzHuDCoVA/1lk/oaGQHq5RLbD+mdXY4tkMmuJ0ruTbqs19Wlp2LqeT5iBbbdFJajqsLbXJrQHPqRnwnu7MbEqWXo/QyoLbHjijlsLs7ORpppL3WmBA6hU52tcULcfYJr3BFSi+Vuhj7vNBLqGn1UUclpp7LudhY+7ucarJCmp/g663hW351i6DGSaaim76gF4OtGJfnC78MdrafqKzXa78oiT2+Y6f86xf4AaBBGcCeY4ObVL8GXICKK70LTKoT+8D5EsES7LIKXMFw2hsBAQAh+QQFCgABACwYABwA0ADWAAAI/wADCBxIsKDBgwgTJhTAsKHChxAjSpxIsaLFixgzUmzoUKPHjyBDihyJkSEAAAxJqlzJsqXLiCZRCnhJs6bNmxVPphzIcSdBnziDCh2aU+bPngaBEl3K9ObOkwKVTuTYtKpVlU8BRJ15kerVr2Ax6kTKk+vRsQKhhl3LduJYr1uTCkAbQG3bu3gLSkWY1atauHkDX917sG/Hvx0FK25JOK5bow8bL578UbJkg3QVXqbM2eJJu3q5WuZKFyjHsZk7q5b4WWth0WZfp4VsuiFqyKtzP2zdGrDU2kdnb0U83LXu4wV5f/Yd27HzAFmLO46JvPpA0K1ngxZeViFowoCtr//G/lm78evnJX9vXnaz+Lany+/mDRFodvQIt79XHF8/ZvqRxXYfd//tN5lUyrGGG3oIujaae9CxZ6BT7CUYUWqzNficXBBCOCFWsdmnXHoCnjcdaSOmSJ5cz3n4YWUhlmjhc/rtlJWKIxJUI2zBvbgSdRG2KOFCMpqIX5DJjUjYgAwO6WNGQNoY40ZF5udghUoOyWSGTj55EYZIsthdXfL9t16PHHZpnn9ejgQmeFOSySaTwL222YxtkiQlmvMBtuN9cGqW2JiC5gklj4T2Oeif8gVK5G9qhmmoR/HVN1eZiRYoaYeI8sUekJMeCiqRW0qqaZ2WbhiaXGyGamWhCan/1aqcC3qa5lmuvfkpWa7OB+urZHq3XKSQ1iZrraZGGF6vB6VGZ5eAknXmqsp2GdOsOhqJLbPOYqpeo9KSKOayuG5L4JHMyqZutEvmSO1HKyKJamg9Rfqko+xq6S6fGsW7Z6bt8eqqiJbe6e62N4pLbW31ZkujkYYSHKDBFiKM4rQ9MiwwcegObG+io2U8KL8A/zrxpX5B7KWL84p5oqMuw/RxfCmnu5WL5tkqqbljXpsrgLcGTLLN1XqGqcgOTwXbfXgepfHQk9YJZrYWSu1tpHMC2LS8g0LIs2pWf1t1nM9ClDXTQPfc9cdfUybl00mmyKeIO/p5NJKzQvrfsjh3//Z2jA3KDXKV9C56d3RExsyl3nmGnGTSHCet6bk+c4d4zYnT+req5x7nuOTBhq5hs+eth7ZjiCGuc2+w/Tu5bvN6nTbVALZcVryCq1ovzFxPGDvbs6M3NtSjHotnsQLP3al1rqtr5bEnmqmyoBXLt/WDWF9ZXfOKx/1z9N5b5LPxP5eKvdnar3ypgnhyPDrj4/+MuabTMp6ixNuvf+G+oi9v+a7FQdv8Hhc68PXofiU6EFngljDUGcl25LsZAAnIHRwx6S0oA9ylxtY3pjRsUx1pIN4eGCfIgYtxoCMfjrJFMw0KjlxsqVODgLQ1pDmPVtBLFvvKp63Spc9Yd+NcWP9kiCUaBs+GMaueENEXQQr2T0ilWuJXplZAHVaxbTqD4f+SCK5xZXBUJyoVFa9CRYw5EYvq0uIT30Ur3S1NJmDkmhiRBRYY2s18KJoXGiUCw9PdjkSbUxvtcnYXOxoOj1zi0x5l1q4cSkdoRROk8HgYmFnRJYp/FJRXNqm/wPmQSgripBSv9zGcWBIymHykpzgppchNEnSp2p8orbgmEsJnZIMzGd1Uxro41rJzbNwbLl93Lj92MCiGhJqQBkk6DJ7NetOjJZnUCEzy5PCYLhkNYvJWQu+1b1jATBrvSqK/cGYyQq6UYjat1cly3rCR/GOdObd4Q3LGy1PbTJ8yhxL/SEKir5iflOY9k9W8rSESkhJUns7q2DrC/fOKAf0W6OBXJP0cNKEIBeFCl9K8mGCubsOcZConqbqiKCdlbHJcPyXpweV59DDfK5zYjui9klIEgSLsng355j+ODmmX3XopPg/3xpMmUJoOnKPF4GZAjZbsJbwzKgszONQdBZA3EttMwiwaxMI5LU6/2ydNtiXPSEqPmwfUp0i7ajI0pvOcfCxlS8gKTrN6M5pWU1XulAbL/QnRl5ljCtqiZbJTyXWU7qqUQMF1QWgWFmCjMyU0CRtY0qmznndNXTuFlU9rxnSjJIssVC/GQ/e5UGWGLJsVVWjLjlXOifQcyS5pIsLh/4EQsKm9mhBZy8Vy9dCwIGImXqhZxaY2NmsOpJ1Nd7YgPwrXih013HBD2teCYgqTHPPsckU02+K28anRxd9LHInUp1qsr9XF0i8h29CtxvOzkIxqNN0EX04Bq63RtCoBjzfBD1owoCD961FxotUB9w6zxJtgWnm7sBCSVpPstOFbCUwsA3PvqQLuXm2DF8ic2inCkpxwTYiLUcPEErSv0S9rKVtWjRjswi3l1L/GiOHyxhFxKxwhjeOKPhh/pW+2eygz7ffbYJJUupi9jenm2zGiALmbCpKeG6vZWunZDcVKJhHPFknflQJTogFrVyKTXNcTW5Z0eY3kks0olNLgUv+/962WmKf5UyztuMZZS/MAX3vZsaL2waEZaV/PS60We2RavXyzinDV55qkFNC+jTJsMZswbDqx0snDYdqidFirYJetGR1sYitKxxo3dblSbrB5LN3mrgrarqK2bS0/l7k0c7a1mOYPtHQbqx46d0yk/KBecd1TVQJsoIGZ6T65+uukElXYydKvj2+s3ib/mJ1A3O2VlhVsA9POldpkMo+PBO3BYDtGItasJwNs7fUGGa6UOmq5rQJPCKMwdKqVoItqKDMRi6/TLX0eXjMtsXzLWa78tpS/K8JqCvU4exUEJIqsZF/o9qRtgIVVwyn88IeSd4BTHTecFBtXNPoYLDz/O3kzB65xSLOUzi81+Muy52GdBiXlxe41WmvtcuPCMYMy59qLe25koZD45VfFpCe1zUk3C4nPhbvNlVfO5RFTN4272ivJKCvMVtLGpbbpagsxiF5NV/LnYkKujrEqsO7ee9/bXqCCCQrlNRrz6iohe6F5mT6crm3Ic4e7vh0cs7dXe8MY5fiZPz1jUH/7h4hS+XoLVudHjzvhVgcW4xH1andH/vNMdHxGGY3gddGUwnQlX71lqsFRxVz01XMrKmffn4DGudEhyfgrNacvkGrM9UCHvdZEL8wxO/O6+a3yzf8M0IeCfITJLK9Y0YksxMMbsbhfieUh6nyYph3tWAdl/4B0Rcgl2zy2S+H6ypV9257e2cV/D5Byc77RjR+6izovNSEZWESAK+3dilRXLFN3DFVLhgZ4WQRij7VD4nVr/zJLQWN/skVaUrVyGSZNBSYWZeZdAveAhPdh2Qd/QbNDwyZyeEdpdWdik0YlBTZOerIrcPdWOJd4fMVGRCZa/9aCddZqU/ZHqqV+vSUzzhZy4RN+8jdpRESDktWDSacwQMhGM7h2RPhcSFRZXwZWDWUTFGVmg0c5FfZqNGZbFdiA3Fd0B7ZK/jduVYhi/qUw1CN8M5VdbPcwrwNnqvYoachwJYJqNpiFZYhiBshrZUdeGLUev8d5bniGHPgjezhxR/84c81nhWsVdGrHbobYeoioUMylhe3lbaUngSO0ao6odzjmauBXUpbmgizxN2Roc6BYipckPx/YRF2Xiab2iGbIEr82gNl3TMwxT2ZnhF/Fi4oIiNrnWLe4hrjIgmSTfErXU/PWcpcFim/4Vse0cEeHffPxLFnliVVHTKP1hNeoViMohL0WepcoTt4obo9BFBWYgLc2ZuCIhlBESclYY0eHR1zljnPIc/FIZ7eHh/XoT9KHjydIkMYGjC7BQaCXOd0Gi/xjbO5FaPDCjmlCjSZ1Qg25OhwWLoHIKAt2evcoZHqYjYzYeUamda7lcvliaLtEjE2YY011hRipcMSXkhH/uZIE2ZIb+JJyBUT/VT/V9lUBZ4GPcYmo6Ij/JnDT6IdQJ2um940vyJRHKXFJqZCSuH8VVmIb5ENPGJLThZDkpoAgWJYR+IE3NXumJSz0mCQ1CRI1N5YLOHp0yZWSh2aApnKPNkN5KFmEVnHvtjvd9FLdpVkoWYpTWIx38Wp3eWp1Bm1AdEcxVXuXB1+p0ZhNET/Kw25diJNhpHzcBmqWJpVroZmDw5kH1z2mZYehuXMauB9GxIVOlWcbM5lkGYhMxVyf5mykSSGEiIJpRXG1iX6qmSVEmSj8JocouRYjJZnqp4PNeYJjyJJ85y9DSRnRCVT415RQV44C53TfZU6N/1WC4xE8nxZ0knacRvOPrgSV2nWQU2SepoiefuVVX+KMtvl4dHhkb7mKXclscUecWWmf53eHbAmQOrl3dnhLBqWRAmqM6pmLBnqOCOqF37eghdSVpAeessmEN8RvTxaXy2SODHo1x4KZLkhrINppKMV899ifx+hZH3d4FEiO1FdSjImFXGSHnjWPeXFcyEie7uVGsUiF7wSNDoWcXllkCqRU4BeQYulzKElXVlNW8LRwyaahNXV1zwSPa5WevValAth726kbaqdt3NQ3pDR9g8ZkvqeUnXGmqyWa8KmffZiWPppez6dr/7U4/YVuY9qWdhqExbFuNop5vWl0/3kwT//6cj4zbYr2jBNFVXc1bCOVqOm3aNVicu30i4oZe3RKlcQIo632QmH3b+qmo9E2fNEpqj9Jf4uxdHS3dRbZYERmpx80Z8zhYaSaeUVoeHl6hDwFUPniY5p1nPQJNqPIZEl4p2sEK5jqOLRYkLoWcWZ2YXq2lYtITtBqjyEYp2xnO0JVlQD6dO7Eh6/jdfz1JEYlrpS6Q+XafojGjkK5V71aFSK6jPH1mCAGbl0pXlganuoTpfrKlYJqevXYLeoYeunCZpIYfSOqggZbodT6rNySiI8FsU4lsZHEsYJXsW0CQX2HfOJJQibpr/NHed+aP7Q6hEcip50paXq0gW15r0P/hKQ76mvsKDte9DALh2wDO6tQeDeHCTw9q5s2mkK1Kh6j2ojpVZFShIMkGjWv+jBk2HDYeJ1q6DEqi7RXJZheepHxF6wBmC466LNXkmjRN3Jtpy9bi6lMOzPLA7QrK7AmFEp9GbSxBLAuajSVSK/6RzRTO7Hb1bYceZ5JK7gTeJbJxXoJNnm/mreK+4ZsWLUjeWAYJ7nMgltzd62Wi66lN7mD66wHS7YK+nMBK7riV3/ndqCVeXx1q7pHGl37OZOLlWP5KrtLua9VKJQF2qdSqLuL2yT/Q214u3oOqLmyy12OSHL3qHeplrzCy62h+6VKqmKhKkk2G7I7uI2CaLfBT8u6tju9h6KVwCK1c0m+imq+Z4a+A6q+mZqOGHiuygu/jnY1Kgd89isYuapovLO9+ysqDsaX4hvAnOGwHWrAgoHABavA1QqyDgw7sIoXAQEAIfkEBQoAAQAsGAAaANIA2gAACP8AAwgcSLCgwYMIEyYUwFCAwocQI0qcSLGixYsYM2Js6FCjx48gQ4ocSTIAgJMoGZZcybKly5cHUabsCLOmzZs4FcqUSVBlzp9Ag4LcibInTaFIk+bkiNAnUZ8CTyqdSrUl04NOd0I1CaCq168hpXI12rQjw6dHwapdG7Pr2IFbyQY4qzUt27treV68qhevX7V9K/It+rewV45x3w4WG3Wm4cdJEdsVu9ht45OJIWvOyLgg3c4GE181SNnu5tMVQcMVEDi03dEFS6OeLTJr4K2dVTemzZukbcICcVt+S3p47+MPdSdUTvSyceLIoyNUPv25c7GtoUvfPrdhWdclM3P/nw1brvnapsejZg5gq3i5dIO/Npv+vXqw7N2nh8/arWj6393H1mfATeQTXfplt5uA5PWn4EMH9pdggQRRx+BfBEoU30LexWZdd/bp1F5HeoV4oUYZRrRhWYkpV95EmJFImIknWvRbjAFC1JlwV63YnXwa7lfjSDeOmGNyw/HYoY8RBjnkTzKZWCKAP7ZVoX9CuniUcE+2FKWQzgFZpXi5YSnikVx2uddRskFIZZtpXnmlls41WaWa6Ml5J4diwsnmc2XSyRWOY4KJp2Ay3pZlkoixSB9R2Jm52pTVzfnhoVglWqB9OzaaaYSQutWmfJRaOdCDmBbnkn7/qephjKxS/xnmqRSm6ipLsYLnYXGwbrnkn4FeaquH/6G6XK067jQrf43Fqd2ew9JaLLJIWlidXtnZSeiC3K4WraNiXmckrRDZyelzWYU76HCqhaputD0C6xi5bop5rq6jrqunpaV2mWK3LVILm2Q0QruafrxC2qeowp74L3QBaxnri0cahfCrClcZabTGvuuZoR5f2zBXsBHanL60dopnxwafp1DBLPd6ZZHLohyygL+Va6izF7ucqUSRBl2rtRfmXO/RAPuq68sgv4Wtsrum6u5QIxIonmREaio0RQUfN/VHvX7paNcqas0w0T7fd3K6Hycr9Ln5emwfmUNDLfaFa8u49LFvL/8at8Fzp5fdyXcz+GBg27Ztc0SKqnu13nv+JlyoaPd2eIGJy8Wypcx6+7NiSq87OeUn5vswqSOnvebeFH0d9axkP2a6g+j2x3XTOrMOY8a3ohy7YV9ueHrLit+su+o3jy5u3gRLiPtfwdveXbY7h547n9jv/TTlWDafOW2RDhz69/jWLvPrnrfOaMkMi1vW+aeF36HjMprItlHw04v8sRbP7/TZAnPe76jCPeMpLmCcg5isjtarAaavLbOr0/OUUkDi6QqBKWuf5wqWFaxlBG6SWhj52HIye/kqcIlDy3+aFzBzNc1OBlQZxkaIH6iZsH9MS2FdVsjC4rjQSZFblM//0FKYTrWweuz7GwcnE0LifS9w+/rUBKdiRCbaz1Owmw8Q9dQzYmkxe8/C4WauOMQmctF6q1scuAq1MAkSiGgwHFD1ynizCH5QUzr7ocYAyJESYs+BXvlb787Ev9SkjnggDFa3ymfAuwgSfYSslCG3WDwIYo4wFmIbIH3DRN3J0I9ks9oLF3g8L35kWhVbSicrmTT3PVBnhTsaFJG0SblJr5RIIaIpTSVJps2sPvTBoBhdI8PbnQdxh4RSXXwoOGHB8U+Pk48wDwbMYhoIjcgkYBP7hSRpojGV0+riMwP0xrop0pKVg0m+uElI8V3PZwjC5siiOT3eZTCBCUvnS5C5/7GyEa5qQqLYBr9JTV+G0ZD8lFQ/98eShC6SQ/8UqDcN2sVhfk6fIjsn21RTyzURjVARYp8tKRnHh1LypBnc3oxox86b+Kg6LhQp4EbZuSgaE1EZxSTUyvlIm4TUf277EBnXVZp4BgmDwgtdUvMIOW+2q3Y4+SnZHjRU5jnvqKtc6kB7WlAFvvRZHb3dLPvnx3eCCIseKeoJ51jP80RsXGdsKUwkOtNy3tSbdFXfRLtK0VsGMWFIpV0jhUKzDFb0Y3HUJDBtdNXPMbZM5etj3ahSWAnuL16aM+Mr/QlXVl4TsooL22RfUlLEmu16ypskGOH5KIUmkzPmXN8Ubxq4yv/+UV4WyeRiDyi9+3kpthbFFZUultpjYqlveQXJvYg6T4Jyr1ODe+1GhqtU3FayNMgF6kqWW1bHGuy5jIouTjjqK4zu6WnOwqp5i3S5hO11QU/DpwVXQl78Sfe8Ok1v2b56vQoO0nf+2xp0GleT4eVztKjcqmtjeMhWLc7BbSSZoaKHFAPPEMHzkaFWuVo5BxPYrZCjoWG1S9lgNjWl8yJmrWbp2ws2VoxT0vBuXTOY5Ablpw8N1eOo11eTKpiHWZRxKvFaPxITlom65Fk1R9u5oUoJoDE1so8XNtSfvPVuSn4fkwc62NIyE7NnXW6ARDxYlzzVoGRtcDNveFtb6jb/s061517pqc3/spa/3j2jAfVoXzTvMc7dBTMujzzkz4W1WprtX42FeM+zGsvLciy0i9W5UqZ5UMQabcijSQm8zqJ0pJsVEVdPeVrVjnq+yvwdnR841UpbpdR6BZ1ZKUituAKQ0qf27Zs9q7rLnXq8tabXhjaXVlcbFLTgDGgz2fPrm8QycRcr1amDRVXnQvXV1PNgIFMsYRBncUFP5lcA6chr9GQbrUoZ636NrFgas/RD8bUk/YzLWHf7Rd1MpacSNW1DjPmYm+K8L5Ajvbtmw/l/9D6rq2KsU2/z8o6Tjszz5MpADVpTrQtfabzn/fDpRvzeeKzktLL5se7WDNwh/6aWgC3V0YnNtsAhd7h9ST5zlWMYvjY/ueheDmIb/3aE2t7jCCk+K/bYu6u+XmmK3srmKlo2J7FU9Pi4nUAQ/rt2uVIjigGt2VL5tjKHVt+uPfbMoGuLXZc0c87xS2y6kZkkmya3pdF6dvmaV+zw3ma//cxynqdxb4etstZRPmtprfWrifWryVac4bxbecZ/LbdxjY5qJ3ZWMvUNYpmMxlrK3xjJ3fPri57az2pDWsuB/+IvBR1q07ZYle51tGz/G2/TczqHl1f9ZhvI6SsOhtYCBbqyE4pldvtP8Njd1JJF9u2o3R3uAIUp5FVM7XkJ1J1IA92HS553AWPw+aTm+/9MBwvSUv8eoqHv9bjOfBHXHRj8EF/t+CtffleeX8vvtfzrn+/+C8O/JCrFZmjiVzWXH2vFY1wWeaFkYuJVT6V3XwCoU37iZ3hmV20RKwjIZsT1PD/VgCmyUDXxSYzndmtHfYnWTWzketXlQJCmUkLzf7uTWeRFgp7HfQYnbL1HdybmcZb3ggAEg+qzUenXelZFeNnnYxPCUI0mcylIdreGMkC4O0KYfzQ4hLm2SoAnek2TgQpobUXXcFAHKMflTBK4d2XjKgMnaaElZ5niXw74hPlnE+yHZ19ockcoa6YlfmPGhiYISoL1YFK2T0J1e2/ofX+ChNRFZLyHESCIbEL/l1+HyFwbCGzktGQBiF+IqIGIsYjtp0HdIoLoFYm6JICktYPzF2svQodtqHQ5CDNUp3Wz1GF/OFemCGExqHDcdztTUlo+F3WwqGxTZoMQCFtrdHQfZ3l7Not/J2/fxSgRxnGj54whOIiPQ0+HZYRaBn9W14ydY004hj5hR4w4WG1O13rxdE5KaIyQhEhF5m5Rdo1AAVoWxiTHt2Q+woVY1Uvm2I4qaELYp02kp3wMVjPh5ll0Q3vS6HO5ZYa0FpBCVkjbp4+ghpC9840RSGwN5WkHVXg6x4jGJnkXyG83aFNSpGN+55HTdFf+RjWP1GqSNZL6wyE8pZE+1VtaOHei/1aCA5UmABeJ7jZ28td8FgkUSWVN6nhgElkoPPmR+hVnelhuXmeKICci34hxzAVdZQheKCVKXzhoWRSOj0eVpmiVrvOB4BVsnTcvG9d6VReIa9GUO+dK77dD8kJ8aPdMBMZnYcaAmgWW2+WTGGNb4qZCdXlJDuUmeZmI1NSBfXmSpaheaKdz0tZ192WH+VhPgTWAU7luoBVdbfI35mWZ64Y6meldfllhgMl8YPVuN2hhz8hXrGaTJHmaUwGXCUReU7OAcbeatqhVD0WbqzJ9jXaQG8lckbQ4UaiSHElwpURxIIiUhVQzyXlNymkYvhdz+9hznqKVo9mECRiMNRWTm/+Jk7+omYvZIdzJVKRIirLohKeRhsP5K5OIaI74Swcnlq/3ejmpGfD5lVLpnTlFks0ydclyf56jTxhZm2xVb3iYbNdZc0Mpl/RigDk2jFG1oDjVoHmGi+SJOuV3ZWJ4dftnoVWxak/Vbm3FlrL3XxtmhdR4Yk1Wj+8JeScKOaAijY7Cfn32Z7goMTCagP8IPbPHjHNXmhN4h59ImS72JesEiZpRjrFXpFllo4Sofnq2jjcaI00qP/wZYGQ4g9UlncNYlYMYJEdqVIDYpbb5i/NJcxlqoOmYoi60eEaJITQVl51YoaJZSnSVhCJHiNNZk0Dki0DjiSimT9UIjJNybev/KZ52CpTa2aYZE1EYSpwgxn8fWRiquGpm9yaTajc0+adJ6acLCZPbdpkMKpl8iIkHSjqxWW3QyRuyyILWNZhlGpPsJZCLKijiNh48lKsPWYw46EZVuqEeuqqu2Ru/ajaJ2aHDunOnZ6yFyJBv6Ku/MpdR9D28Cjr6WShq5WD4tkvRwXrLE5mGZ2esCqcKRmTHOGhv1yDuWVfKuKdah6CMep5Ht2rbUVr79jD02oCFqjtBN2fCaa2iVaf+Sq0veZfm6odX16ixB5wlKkDKOHIM66OHiXMERnnR2nwOk5rdto7uqKi7CLLleqQjC57qoV/a2lx9GnIyNZco24/FySAW/4h4tBNtzSVutsh+7eUmCokcN0uAb6izZjWKD+SzOjk2jjmj+GicUWO0pkJXDTiznkSiDfK03WVHHBuIVSsp4RqokPEwWbpMpyiJkahvOqmloRqnNluxrZVkuoe0LYmd2ToibyexM3qlFpJ5fBuiotpVWeeVqZIm3fqbU1qhWShGgwuS3+JdzCYsSeRqefufEHuujwtGkeuseTOgqKVd0fqumYs66uKC3bdTu1V3SduYZTa6cmpddpibqeupCQeuTSs1FgeqfQuG+wNtiVt5rss4uXuJqum3IUluHRu8iGlP9ZmCFxd9jqtArau8wuimmfd10AS6E5aQtwsvRLuffIiTdlE7ShRGvXdkr7vrpti4vPljvh6BeY7XjGCKrsJKuO7LtF0bpbCpssEVvffLW+VTp5XYv4MWtP/bqJwHvN6ZXLXVvebLTbAavk95wM72kRGsmmpIwbTomdwrg6+owQrKweFZJHoLwu97rYNnwscBZgmqwl7zwS48HoQaw9xhwDTcICXsEgEBACH5BAUKAAEALBYAGADUAN4AAAj/AAMIHEiwoMGDCBMqDCBAwMKHECNKnEixosWLGDM+bKixo8ePIEOKHCmQI8mTKFOqXInQJMuXMGPKXNiwIQAAM3Pq3HmypoCbPIMKHepzok+XQ5MqRVlU4lGHS6NK7Yi0JNSbN5FWZQh1qtevCreaxApAa9eBW8GqXXsQaICsZ5G6JTiXrV2wbuESlIuzYN27gKOKPUsXq8mmgRMTJcwVIdnDNRVLDop4IFm9B9NO3vyyssDLZRlb5UwapM2+Vs0aBG3VrefSsCue3hsZLWPWXF3Xjs3baVzRBX3C1Ty7t/GIqmnWHA68+PHjxH9iTf27ZXXbz7M3zixdd3KD37dr/x8fXPpF4agTkrVOnrRziugfrufeni1kx+lpb7y+enp9xfe1lR92yukn4F//eTXYRAh+5t9oBBoYnXWnvZbgRwtK1OBbD4rnIYQTclfhbhdiWFuADA7o4GNQoZiQZvhBWGJITbkY0YagBQhjhBDpNiNT/BXoV18ZblXXjhJ2F5qBP1IVZFi3EcmYjRwyKeRpmMnYJHItPunhfHyxeGRzwLFYo5KFOajllvtpmeGKUhYmZnoh9sccZPOpWeWHbFq3oZU3+sccoBC9Z2SHtP3Zp22KrtmjoKGFx+WYdqqYm6WLCkhlRaA1yid1mDGXJ1dUIpkph5tS1CmmPNI2ooPojf9ZKnCn2vYUeLSqlx5uLMZ4YF+4DcaXqVs+9aaGu14Gp2Y4QgrmlCRmWet2WA5I7Itn5WVYkC7O56mehGaKJ6Kf+pYmh9ImFyawrJ4b7rRjKethnb/iau+XA44K5WDfzhjvs+/uqC+f3eZLLoXQ9qsdggF6G2muonaK63uVrupjoQm3Ox7DXcIJK4n9xSqvq+bparF/1/KrsXbqnojmpX4mi5uV1w7saarFXnfmsxu+t+q9juKH4M0dT6uwZZYKe1WH3uWqZ8tBLzToniUeDW55Ey9dV9PyxUkgzro2ZfWi9NKs9crwlSzbcku2Om3AZBo4sJNjg9p21MYRzR7W9Ln/DSHASF99KIjQ7ngtbHr3Dffi6HqtJ6VDEp41lDkfbpHhUc6MtLQhg4x0yp6zHLppuR6q+bIQP4wf6JZvVu27lBPIuarb3nsr1eVSbOvSeJf2ut9C/n23Rb3yfTvkuPZc28W8bU2uWan+TG22dEZbu/Fx737RqBYG5jzHJEctfcHhbz685IqT6rTJ1bdun5LIRy61lLoHm/n5jceeddm5r29XtfFzl67sVjHHmc90rIpO944FO87w6nqo25tCtHW6xolsdoSKF9A+R6IzNU9exYtg+nwlPTk9LEelg9bVHDU16vRuKQH8FWb+Za0gUfBkBzPf0UbVrNagzH9qiWEB/xv2PBuyC4c5hNMOmWYp3QAONnxxYd9oOMOiDS5/2+Ge9dK1vCMm8WtWBOJaoqi+vVGxbTqKksey2KHKhLCMe6qg7cLIm+4xrngtLNd+wCY8E57LjUlTIe4AY0fg0TBelXGfFE2lQfP90XoSlB3axphCyOmufhD0TSGVeEL6jc5sblLbIO+COUuK0oeVct/tJniZ+KiPkTr7jfOWQsQNprFrkQQftjg1MuWgJ5GeWyW+hFJLvqHPVMoTYO/cJ0cRsQ2YSgtP3VRCPlTxjkf8M+Emh2Q/ExYPlsxCW5HESM2iPa5t8cvmAT8pwx9683rgLJM4BalIkVgOc6yE0hv78/9OojUyj0kCpYD+R058DhBb+5QfJ/15TYCCUaD8nEw8oabQ8jxLbK3soDkR6k5j8mhoNTxaPUcy0VhGNHk/xKiZTKqcJ7qNjMqEmbmCokW5JSt2QgzcpRJKMmg29GHjSiYcGyg8DMKkppKMqU0b6MSM7uso5dPW7X43Rwb2jacqOdnemnYomGLRj2nb4ArhyDyMeJWFkxSJVq/qya5SD6xwnSmhONbIkX60hieFye+Oxy7QgfR7TTRgoHjYRupJdaNPI+fHiPkyvi4WY3+VWWBf2M64ruuxV2Qm/mZCVYsWMa8l5OZNMZbL0V7US1pSlE+FatdJ5bCzaO1nYGdJ2vT/0fa0jBtr+Qg4RcViBIXr6tdrDlvX30izo33U5Ck9mtrQJE6KLwGuYb+4W51OrazABGtyRMo2/d1Vd7ZkJ0mXy0nd8o1r83rZU3uy0W2GkrK0JG/jtNWmPXmQUdQdqj3bK15sIlaigkyRrFK3veqdJ4Uxa24dA4ysAeeTeAa+HIK5U9ZpxhcyxsoYICPJS0U5eKeQMsqEq9tcXcbkTBlG6YZHSDsPt69LDxSxd6F7VxPLpLiRNIsuodcllbJrP4C7YZC9NrfynPFiDmutWa9JLx3jNb0Y7iJ9W9pRIVeZyPn18ZAPK5UM3/CyzAVeeePYV7ZhNa5Wfu5XDwoWL3sR/8y5rSyZPwbAzYr2XKEtracsDKTCKM1hRT6w/YrbTY/ScI2Ilh9szyvYnAyrcC9rpqDlhVEfuvS9WCRsD0GM00YTNK6OUiVUKxrcLMs30TSusy6NSklQE8y3whTcdAONX1bSVZYSY7SSafTMUUet0nKlna176d1dszGitOZsr7PrTPNyGFnDTrZ/TTTWGyrIc7R9MLI11iyHqphbJZPU9HD5K2Pz+orO1um2yZ3K/r7Kv9il5/q6becTFy2n4gvpk0ks4XuVdaygKzGxlVLMZcoTpWLV74H93Wgbx67UfE7JPcMNa9TKtL7mPrbCOVrUQCZl4v+u7a9PjT1eJ9avWP8WKk/E7aREoZG/3/zpsZS2Rh5PszhnhC9JWK4RJ98Sv1U858whXXPjklyfKUfuVDJUwYln5Jf3y/ezDa5gHVLatyth+sCdvuR3a/fgLKb6MK1+ab3+d40OG/lSH5q+n+9RjQO9sx4fBbiMY1ye1rZv9pKLvvD23Zdwz2vRM1Jou2Ps54ClqKUHHlD9uojHOTb638ntU8MfGPGSVTyIaZ1GzUO+7ZIfN7Qd7+ulw7iIOCewmDWu1N6Oub46xzSPrarsxWct5AI0KEi51HHhWjzyoXyN5YPtalSXfO7vfGfNGC9aQDbLrcDuMt5nm0A60p2JZxbtnrcF5yFBv4vXTrf/0Oot+isW2qX3ZbjgWd8/hBH1xtcUMPndbt2rD1577R/lqiOc8FRjnXRVh2eeJEJRxX9yx0drRnnuBnZcEk7DN0cxNWU+RnO4E04Xg0z59Uiw5CsNKE8PWFtRNmbMJm4FE3LVomW5Rmu4Vy/9A1615mhhlHOkh2mNd38ud104ZHyPNFiepj6qdXQACEcWyHyTx3aghT9IRn1lh1TjN14fSDjRk2tmlD3h5Gdw10gFFHJMyILn9n+85HUVpYOMRoNjx25GtkX4k2L4515p40orARdGFVn1FW9W0i/K43xpaCzlw4Yi5oYskWHApnkIN21yd3JnI4ZqtlUGuHaKuIJO/wiIiVWDFGaACKSBh5iA6rZLQpJTWMhWjrhfaLaIozR+Bcc+YKU5koYt7xZw+Nc5YsheoThXaBNz4rdmgIZ9GXiGQSdyG/dY0vaGPzZfL5Z7l2iFC3Qda1V8qzdcs1h9sCcTU6Y5K9ZxnXOMNpVnmNhAzBgoMxZ2fyhl+4Z8whhliDRhbpVwhTQ1Z6V9BvOJOuFjfjc/MYdRBnWOYZaOqlOGcvZ1bZY6AtOO+oY6PyiCqbOFvLUqfjhmofWEYRU2qudqxTEnnVZ2yfdS3SWMEVNACyWKQjGQ+jUwwkSPvpV4RmRwC2lxt5VWOuGReLg/ocdqbGZBJTl3qkaJDDhngv8ResAnk50WHtYoSbsXk8pIeL3EkM9YSNuVSQznk6OTlEHJgYUIEtLohTtHJirYVvLFc+gIdvjobf3Ghd5obzHjYtThglp5j1zJTitFbWDZfzvxeQsXlpmoZBi4gfNDY2jXgyunk1/plsTYcvNjlw/GjBJIlRI3Yq3IiyjljscHhYhJb2mWdL9IGYiJl8EziYwpiSGoieb1QOcnhWzBRWL4j66YXsKTWQxGhnm5g44UlYAhmtk4dyD1ePeGhI02dJVyNRVGLpMpFRxTmKsDhC6YYJCVVtJDhw1Gfr4ZkHoXnETDXb63RDFmmslplGplm6ZUhPQ3dY9SgKw5ZeqnikD/6BWzg1TbWX7rU08fRlv/5HGjuDsRZ3qjCY7VSHGvyIucd5OAuWDzeWjed5H+GZf3WYVBuBn01og52JrRR4h2k3cZlJphBnC9ZhcH6okJWnSdSIYiY3xWZVDrB3WviZ3chmW5CZ/cF39uk5E0qZ8NqU4wJKIKWG2FdYLgF2Yq6qFh2KJ79xVD+KAJZzPBWJEPF3jCOEe0qHHlqZJvOX0+aqO8GaRWd3dHCJKnt4vtiW6BMS5+KY8GSJacKXrX6ElNRaWRKI6fdnGrN2x1yCoeqZ2X6Ep1Fp4ISEkOt6KapjGb2TWFNpTAA6SlaZ0mUqelhIt3t3x72prdaHyzeXY8/6okXLd42ZZerJUxFVSpShcqBmSlhgmD2RdeqGiTk7qYA2epu4ljHFSEeVOUZpZJRfaT71enZeqAGvUjU1ln3cdvoTZv4ciasnqWiUGOuGaDuxOIv+eNEziriFou+Gam8vlKwYpF0VSjvhqhZHWia5pTywqofbZmcXqZRZd3qJloGXqX79mkxhGgm4enUSdTS5h0jNid5WqRooOQ/RV7BzWmw4ONr0d2wYic89opbKhkhflG+lqk7BiNBqStSYFCzWWPbHiBJKd5kEmoKaqkicGw+OKw9dqcaBqP67iRlkWkCcJQUJmF81SW4PZosYiJvRkbJBt34zeZwGo2KpusDv+arORBo3CzmUSUiBV4kbyHswZrhfWhs4bkMpjnswPGXa5mqQpLmb6nmzU0s6N3jFErl/bqHuPJfreGsilimaikmGnKrPxJnW93TEjLqAQ7PDhabKWXILTZgWjLs9NXs2J3lG97IXnKYkv7WtSDrsJKgY9le6eytz/6Yq36t8WooF4CSE4Wn8+BSW1KZjZWj/bpmkK7fn0iuc5Yf5VrjperjNIGue1RXCPCbJrrWWrKr5GFpW8jp8uGrKnrcqu7ka0rsq9bWnyojyWraOqld4CrU08rGY/2qPGabvhqiYiol7mbmNtkqkkSt5lIu+lquM3rfompiLm6SDM5iLbaY5vEmjOs5IeExpGvFr15m4rXy510JkrlG2eyp4fsuL77xXOx5q1OmoS1SL99aHH3m6gVq7/Hy7+i6qeaAm4E2GK4SLq1UpOpC5sdp569pL4EbFsnSm/jJGut93mLVsGXuVIYLG8aPL3+FVQW68HwlkkRecERxpQCisJrc4NsWzIg3MII3JcwDGGsmFAfm8MdqZxAmYet58OMtTZ/dsJEbHZGDGkMnMTlFEpN7MQEB3NILMWkVKxW7DtYnMWxMbxc/I7huxMBAQAh+QQFCgABACwWABgA1gDcAAAI/wADCBxIsKDBgwgTJhQgQKHDhxAjSpxIsaLFixgzEmSosaPHjyBDihwpEIBJACRTqlzJsmXCkyhdypxJsyZHhwxhCmR4s6bPn0An9lwoQGcAng2DKl3KNIDRnABuDoUJc2jTq1hHPi0aNelUqiatZh1L9iLYnUkNQjVZMmbZt3Annj2atuDamGzj6t2rtu5Gr3Xv9kXLt/BYsYTp/jX6N7Hhx2UZ2/U78Cvky2MlNz5oGbNnoGDnJkY8sCrlz6hJhqa6mXTbsKdTy74olWve1zFdKy59crZvj7Ulb1X49fbv4w91I8VtHKHxm82RSx9MFDprh8+TRp+euvbmxKYJbv/H7pYod8/eKwfWfrKz3PIIdZ+He1c+b9iOnfamO/67/vmX1RebQeHthhta/aknHnwAvlUcg+nFF5tRmk1GIIP+2ddgSA9Sp9yE+1XoX1vErbfhTAXmJRZSSGW3WIj79ZXXjBgaeF9XJ66UYm6UsciTi+pRGONkNJLIGWUF5gjSXcaJaCFd9hX5H0UrIkmVhkpCxGR5TrbG00NSJighdQsmmWVGWyI4JHjtcTUmb8wNKVaBUEV445kdpcnfmruZNl5nq42oH3572nkgnhXNiReXPKJlXZXRqTiggn3y6ShgQ2GJaH5GNtkolOxByqCkyQF2aF+1ZTrpphRt9ZV1YPL/aOaC+cH6pHOfstqRq3URKuaUAuJaK3tkHkSqrqXSOuiiLXVJabLG7lfnqroCCmOzlt6KE4iSEopsrIEuK5SJ2h47WmykZZegpniuRuOvGfbYa667kZZueVCV+G25PLbYJqfRZgSbvZPaaees1c57abA2CovRwOgWbCqlD7KrJFiqXughtb7Kei2o0CpEaL5T7htnxgVFZ2i0tgoG7JfbxhocsybbCnCZ+EYMLo4lP2seRHSSi6zNDacsp87kdVzsmzsbTO18kV4HpLIWG+0p05MtB3S/Cm8atZCCmmuRcDUSrHWslyq7b4cg20j2r3qyC++RDpvsM6/5vV3ji8NJ/zT30nDajZGiyjrpso8LriyhqAn+LTjhgRtuG9evTlwq43v3jOjZd/9rtLVmQQjiZk72zSarnOfteeJdO662z69bN57plW7+9OdWks411tR5eyeoGFtZ9YlV+27k6W0Drruikm6p6PAb+h708UR1nPrgxC4rttgAu8z7b9J7TrSE1sOcZ/ZzdValjNnePNv1eq+7npnp9b0y3uLmv7PuzqJn/u9x0leQVlcv9hzrftKCmZDmJhnZtS81KnNT4GTGorZAT1DnwpW7Eti9H8Gof5CJ4NW2hjj9XBB2FOPWBj9VJZeJ5n0Si4jxfoYlyGnsSMdyFsoW+MDHfEiGPINWDf9zFzAcfkqH5OKh6zCDMupdyFNTI2H2VEVFiZlNhRc6YVyaqDmrMSqKFDRSFf/yoStqcFRB1IsDoZi5U7ltUWS71xkjqLq0FRFtv9PiT9b4xTbq740B5I0co1Whg+3ujuTBmfsK88LCDUlygcSVj5j3QHXR64ld0U0Oj5jGuDQyco/MFh9FlskKerFxOeOeF69HtSmG6nY0meQkqQc2o4nxf6iCZds+KUA2NZCIkeyiBXW5ElmWkI1OnFLzrKhLrfHyZ7482g2DObtOLgVhOPua6LTmNDW9jnonvNdceNgpd4UsKNi8kTZzmR6UkSyZYKSSCsmZv3eF5pw+0VMYB6j/NGE+yYU0E5QZBZm9bF5Hd4pUjzP92BJ9kkdVO0rmxmpJR22RcV7j095BKYVMhSqQoS5hm0D/N8JiaVJ81BoiJh0pUXmyE5czESkKOVdSbZ10ZCm9HSVZ6s9xvVSPaIJpCVe6rIHurJovCibr9he4odqIixfFIEuu59SEppOVhMyWJZVKUKbeknNcNGrRsPWejkIMN48SHtI2Fqeo2ZFsyJumLXsGVmKKxHF6G6YD05rFtf7TgBv9KmBb2VKk0vV/QMWe8iaYR8vFrIC76mGlnvnNG7lnrH+NpbxISVTF0Q2yGgEhH39VzfBJ1UsyiZLoBHvZd2I2gz6DKAs5ljND/0bxsvFa7EhU2zvKdc2bKERtbOc3WzzaUaZc/JPQgjtVuwKuqgPUbdbW88OnAlZKfLtkdGv3EmmG1LkWBRXBKno56sbQuoEUIQeNGNesnnZJMGuZXUlWRaLtlLHDeu680icv5brvQ5QVCTddmSgJ1regRYOrTTfLL/6y700EK1GAtVLKyvqLlB2jnWrHybMInvSMg4SklgCzxMjSdJsSBPF16bVhqXUYxZzNaohFqVMSgxRbbsWssySHVeNmdpcsnlxUvUjYmQITnXxSpRuJ+tLQQRhTBOZnba00Qqgm+Maq+WBoxOlHBSd0fS+zo0mFyuAbdjS/gDQheAWm5eCd0f+rXaQd8lLlV6qWea5nRm+aZygTJa6XfDVys0YF3ddp8Q+kVYQYmB0sESv3uc1/Zm9WM+yue/lrh5Id1rTsHEh2Ofq72vRwjXe0zB53F6fLRHNEwongvgLFtVw1dXYduDCYNs3Gx10uPl3aUzUrJdEB9egQF2ppW6dZuAh97XQvOsgl+zoowE4mdBf30WJHGL+gTfawzdvsPw6TKQyrEI2wakPMJva97uyvx5Btbl3vcXK0xnOFPxs7v36kurBN6p7Yfe1F2kTIGq2swJlb3hJNu2gzW+pfC5ni8Mo6pgB/ISp7Kc8ymlK/wP32wvkEayOfWyMfP1e0/Wkfvkq60ET/RFipjX1WbL96zTRErAdbWvJXAlqSMLUn5GSJc9y+G39gNriBm5nThN4SYKap35XkJdMxX+Vw8b0ztZUMzaorGIEt52ML95u5T4Nm6QVWH4tWOG9wzvxIANYqJ/l8aiyH/GFgr3jXfET2E19UuWk37F51CcL30uS2d7b26J7N7l2fC39s9Ky03f12Jw/X6Sxj+aLA7GmkQZ1o0+su5P0OasnKrU30PbKPvazsePlczIx9uPcgLlq+g37och19KDmv6d8ue66oB3SJgSPBHYUVfX3cNIKBRFE4vp7sPlZ9Eqc8s90HVec2f7wyg8+Vhdb7UGFa+pYmfNiaJ7vWanK+/0fCtcRfivyjzo6fNZ1t+ogHOo2U3ODpXUJ+LLuxnaa0J5M1ymWK+wu7uBM2ZJdG4hdZRvckm7QxViZnQNZbS2QrSScxpWV8bOcTeaZtrVZACxhpb7Va3jZi5dRyN+de/AdzFEZetydVVeZuhpd63LZc3Mc222d8tKcSDEdti7WCNfhegFdXBnVOW1F/8dRQ6Ndu4BdeevN5dZNI9JY8n+V96uRdLydfT8ZpRGZZrreEMTZm1QWFbZUzTOFfPxNRwJNkmYaFQnd+uYQ/FJd7g2ZNjbc133No8rV67Nd2FqeG08WGVeeGqxF0NUFPNAdwo/SBfeeCdjg2UsiEpXKIFv+oZQMHdellhng1ZY7YdjU4N4lIFn9obEAEQho2MfCjXbzVM/w1YAPnbxn1aMFzQtwXinpYZJwHgKcYdamobKtIf8FWQummYl/oPgdkbIVYOVwlhMHmb6tmgq2yi6bUizK2YlQXjNfGaBr3Sca4eOeTWpMTLgoHNxNTSx00f8k4cQi4UcE4ZDEWhxK2Qq7Wa7AFjghHUvZHJJlTURJXXB6FR+qYNPOYbymIi2PHM8R2XtsWfmhkdqooisr4EZdYePlIcOJVfVCmcU+WjM13kIeVkP74a+f1jgT0ewuVam/kjRqJQp+kfFzoQfs4h9K3d7klbIPVNk33hB15ZQznhcP/dWkLCXIZaGgB12hcZ34cBYZy2Dk41WlH5oMaOJHhRYSLR2mO8yBC2V5YEkWZR42ISC505oYrCZRHN30VoX9yh0Qs+WY6FmTomEItxZFfCYBAdIdCR5ZNyFSDBJIMlouahYzT55aTRoM/pm8j55Bt2IceJT9rCXF6KZak5WIVJSq115hEl4xT13UZ+HXfI5b/NXzX8X9TdocD1m+gBYjFNphhWDYpt4jf95OcOWQ8xpSQtzKfVoGl9281lYB7GHey+JAxKJHxdlRoWZQnJYk/xyhFJmqE1lRMt2KNOG+HiJVVqV2sw4D55EHc6DdqN0OGJJmn5Jd254SV83DSxZEz/1h+1wmHjqWJVAaJTiiSqnNwpHkYvcdJIbiZNYlm5AmVHIg7QwiC9NiVtBGfyGNP0mlkqfmJL4aVfbWfu+aTDhIx7Dmb73l/tAWag+l1zKV4WDFeh6SXEfpHqkWhhGmhmcmhTcFzD3V2sHlxatlFlPdK7gmRZlZKOLlFs3SioReOZNZeHcQmJtqhMfqiJHoVkIkzvdmUMNlxYeeJkZdLGYeJMBoZHlgxMSldslSAEfkeW9ekZhmk8IlxI7l+uNdYJWlJHxaPqpYjgOiP6VRZ9nNeZDopqtRNeCKiUuaKKLVo93SWa3iGPhVmhkGnBmmnOIWnCIptqylgUTYfV6RoZP9WOtDplXMlVltKgkgKQ5PZo1LmMKx2Q5JKgmZZqWSxlfxYe1RKRPgngH2qpV2FnF/Gghnqmk46RkaKdPi4gam6b0vKqmL6pE8nj+zTg/PFdQZonVSZf0R5HN2ZXe1XYAfoeG/JXUeooJ9xbcSYbUWJYcdKoBnpcYQIIoBopdNZkauKobHnqWZaji95d/lJkZ0jG11oe1XjjAyHnliTiBdZLOC6FO96fbzmkeqlnWN2g3uCgvlqmTGHSVaqXHIZnJInlA7Fmf6ZZQIUf/0Ypsp6sN2FVS90kdnBMJ7BfXKldRg1dzBIidaEgoFqe4PIpZwYWNc6WQRkWnqWfgSEjfT/KLOR6Fgfq3b1qpza2qLzio8kKpqJihyO2rPB1KITxXGwN7OP9ZJU5646mz+liIPxqJRp+pdwF6AVS6O0GrUu95Bb54zoNrVhKZ/uaDKG2YRZCqF+ultKKjhhO6LcSqJgG1QRuxc39TH451lK+YNXaLemmbd8sbdS0rdm653puU68SnJxuyGiGqOQxyvdJpVo65jW5bc76UOwylNQm0Aam62MFqdNm2tlCSDfSjOoCLMCmqeGS5RlOov0STx3dri2yLoU6LpwulEYirJ9ybLdsY1dK2/Ix7bm5TujuJiAeyYOxWZf+Ex2ibw5J1lsVLBMJLyHia2pOaBwFk2kKn22/8NhoUN8fQS8zhZvsnqmcquuk+qbG4ltR3muq+uG61uY71eJbaqFz5aipvuQ9fu9BpW1OdiZ1sqDzJe4a2NeCGueLdixCnm6Dkyu/ztaUTp0EtwtfmR9T5u2/4u7kCmSpQiqupnBKtvBRrSC3TaCXBWtqttw2WvCv0qcTniLTQq9xnpLOQbDZSWQJGtVJrt/tDi7AKnD/JidX0qzjFtOgIuhhAs1L9asX4qzYdqJkUvEINFP5xuUBPh+BpV1j2vFvMdWRvnE7UqTdPvCYFyhjiWlCBm2p9qE1pvAXuLA+Fq+mmekz7O565tudMwvUGxh9kZ4aZyk/YRvHxieC6Zvg0M8Lj4JtjOJyOmKq4usEvy7qy04yeA2tTJYY5h8TR8jRPCmx52sI5/8WB47yo8xlUaIypihyiDKyoWLvbCMurKMGgEBACH5BAUKAAEALBQAFgDYAOAAAAj/AAMIHEiwoMGDCBMqDCBAwMKHECNKnEixosWLGDNObKixo8ePIEOKHGmQI8mTKFOqXPnQJMuXMGPKhGiyIQAADV3O3MmzJ8iaAm7mdOizqNGjAW4i1ElQJ1OkUKOOVHrwqUCnRKVq3Rry6U2qJbNyHUv2otevS8WWXcv2KlGdXwEQBNu2rt2mb8XGnSv3rt+/VdUm7Us3rVvAiIueFVg48OHEkFNaHQg3bt/HQnM+jsz5p2C8fPdSJpoZaOfTGE1LFM348mDQqGNXVB2R9euBdCfL3j06I1bdBYfyHt47tVjhNDUTh4zcrWXXrTfjJgw9ufTld5szDGrZINXFtzfm/8Xu96lJ225tugYKPPfn4uTLmieNNnhO9+nfR4fvOD7nxpW1xB1w+/m3G4B6VRdWZg81ZiBZpek33XPn1UfgQvNpF1ZrFz6oUYQNPocTfd9JKGBYGtrHoYke7iSia3GlGKJ0Dm6H3nbXtcjTi6GN2GFBJfKV1o206WjRjyiSqOB0Q/3oHoOBiYaVkRohaV+FNa4o40FPjjikhcexSGVak032nHRbqgcbbLaVyV2bYY4pUZrvnYnjaG7ip+Jgei7YHX9W6vhje/WteaVyWGVG1aLr1VlfkHLOKeadCBH5XpPjjaYodQVSCuSjfQU6ppr8RURqikWeOCGnNrLaKWZLRv+qaaOzcZffhp6q2hqjzrkaXnFZytqfQnSmCqyXgCpZYonAYRqssMMmVGymuEKJprKh2rpds00+Cy2GytUKm2pT3snrYMgFWOqeOX57qFlx3lmkaueC6Gmf0Yoq6KUDUrstotqOG/CnjHoLJ676jsovlL8BjGCvlYJqcKG5yjsplQwPnCReN5oab481qgdpu+9+m3Gw2okcK7iG7koxx2C2HFjC7n55LsncCrlQjPxWuB+pNVf5pq9uEptgiNaWfC7QwiaNqcuJvlyxx5UhSCG/sI5sMrL5Ycl1qw8fGS6f1amctMAukwytmZbRvK7KbEptdrYIK+ft2o7y3NF8B5P/7aeUgrFHX9Bqc/mVqOVGDDiuHjP+K8QKT6Q3RYkbvji71mFu9crx2cZsghUyLbPjKTvaq9YXbokxxZ/zFbrG65I+Ntun0x17ydBejrO/Nq/sJK0EI2vstar7p/vUFgvY8e3eAd8juVjjObaONYY8/a90vVivj0f/GnXYhk0XN+TEVb9kitnDqP1+9rLvPNhlS6gurOQvB72h5ruuZK123v+42MUzkP9otKT0eY1/f/Lf3cAVQPuZTnqjg5/WEESqZVEMKBFqoOSkRhzaQfB2cyNgkpY2NIFl8HoZWR5vEiY66d3ITkbrGsAe4yamnUU0KoxWeS5mH+vBLXjeEly6/zJVw4HdUGKcw5xfwHcsKxFKPCgbGnIWqLgLBg6Ff2EirJwoISq2ymg88xlGYFgxDUrFWMNjUheTeKt/mbFaUrsaDR/YK/C8sSdo5N2nnpgcIWJRVS9sGxHp2Co7/vEoB0ReRybXPBmmTZEfKqD68FW/Tp0NkfuDZAoP98Cn+U2TY5Rkj2TWQgPycCVVs2IDbZjJ5uEQWWSEFNswKCJxUS5MbhtJKt2zSiO2EojU8Vr65hgxWpKxcbfESy5Fkrr7xM9p/jrmJ/PTPvEJTYvS0iPS1GeUZrZQPeXaZXXgBM7refFLjoshKF3JzbGwso06U2f+sikgMbLTUFxEZw9raf9NrbzzX41k2f9epcSZDc5y78tnlJ7JT4LO5IfEnOZtKgelQG7pkhc5XuUUojVlltBcDZUJRJMnUdSB7pdactQyH1m53+3uh8LkIExgiq0F0pSl9Nko8mQ5KQvCs2LSVFVMz+mZy/EoOUaNGbo+djue1iZbrVtXUAU6VDaiBFNTlCnbGHmsjnrKngXdqu3Cd5aiudGZRyXqR7BqN63mjZNw9Gq5rJfOVRXOWBi1mLPWN9CdcIutLFwjAQWnzk3WzaGFhN0rXaZWZsoPsIHl6FiX+tO6ViRsYIVZKUHFWKuGJIh6zCGq3tqYHErWq7456MZ2JkqZgDZHor2eWEsr023/Fs6WPmTRPGMSxkO20XzV1Oc2j2pJtybJk6l8qtFoyVtO9jKzq+rlArXHukme74psJeB0fecwz4KEhGg7VAWVSsaRDnBV6fPc+8jK1HtCUk9pnAqrwoldZ+K0szCDb2j/hN9+gnJea0Stf8+7Ejny55IZw191CZqhnvL1ro8N1uS0s7yVUsTAgxVMgg+84P81+KnEhSS3JAxXgNpVhzCZ50iVF7+Y5qiFlb1Nwa7rx/tGy3pcjWBKVPxRj1EQWy+GXYy3l1tHftKsiFUZkkXKom+esjgX2vBPY1lbkFaReBpGov782WTYRRaUUjZxfx8ZPuBOFn1aViOXN0hQm/rL/5OXJNTn5Do09WKYeQJtnoXFw+b/uRnLr7PsiYdC5xC/aD7wKuaTdcnDqW7Zw4/FJ1ZPK0idlQ5qXSbTDNWsmEbzNyEVjV9hvzppUItIXZcmWzM1XaS8onJgE3M0QkuXVdrWMS/JPTIusRhVaSJazOskCdNi/elt0rqttk7slNPcMA/WWm5X/OmexeZUPMfWfSuq4o8xnbX5qnZPMA5eRkvMk1O9OcDcxTZlEbptVWdqsVbuT7hHaZEcY5LF0C2ugLtN0UoHe7vQDGgEA33GLoc6YvTOmbsVPGEHg/hr4Bl4Thft2IDe0eLf1nGwEQ6R8mYZzabV9bRTi3G3QYqu9P8M5cMpudQjEjvGO+Iemfs685DPSGmTFfi66Y3Z/cIcvV/zib3US2l6GxbnhTOle3sO22zJmdydxjhipXnU2bZWrJLl+KP/Osg5PnvkYpN6X6nOT6tzHOum1jqnuR7RGi8cj49VeFTH/F5Jstzm4g77B1e8z8auNe6RnujYPJ51hMoM70ZP5t57vFC/qwTOnF2ozpe7aRl2KZGHTzcwXS3R33o3JpC/2T4nn80hepSVocZmFNlp78R7vptrXHWyiv5FcO/ao/HMJlHTK3Ogx/dToI99pmdvap/aHvcfRCzMLmtdCvvbpX4dvqCz/cn+mbPErQ66qecK9XwDP6xNCl//8HVV0Ee/EnBHPC/nH83veE2srp6cvkpQjtdGMZds1icZCU2fr7feXHYa93svQX8+t3gzln875W38B4CGx1riR2rqBHaJhlTUYVK3JXi3JmnhNVrU1VjYRDXaxBKDoi0aFYKWlhcBR3yE1XcPdmGiBkAmKGxMhS/W12xhsm95lnb+1Vm8lzQ92HsBGC8SmHIixGHot2tRc4EPqHa0RWVc9YOjNWoC6CIrc22K91kdpnZz82Es+FTxtxUktnpX+F1ZaDj5BXUxxneKdnGO9WXzg2d65n62c4TI93Nq53XXVxlD+Hdu2D0aF4fjA1JzB2x31HNopocU11y9Y1I61XQa/7h5YCJG6xdJlZQsKCd/WLiIZzY70ZN7OkVdr7dzJGF8snOJ5SeDefJpb8iAcTVZMyaJTpdxY7ha3YZMjpdaqdg3ygeB/XE8r3hQvfZ5pyhtKJVyt0iJxkFwtSNpM7aM3zeB7PWHZoh/10V+OyaMyAdNulh7gBNIJJdyjeiA1LiEKHYSCsUoT0c/LvQnNRhh/tY70MNLbdVfZBdcM8VDsJiO8UZN7JhAh7SF7rhhrJRV9Fhs7raHxuE4LEd3lxNCurY7d+ZBo1Zm7dSBcaR946c56wV0CYeC/Vhtf9N9hESOcKQzFklbCEmLO7iS8OeHxYeRG8eCFohipWNnSERlD/91fXdIky5ZRUsGRf4ocSo5UnYCiix5j7nHaND3UlkWkpRnZKvVjNGVIEeYkkRIcx5hRgsJbAzGeKv1hdlYgc1HlZHoW1d1bt+IifDzMwc1bGW5PFupj+pWeFYpVO01i3C4lhgoeLzHj7uFPHIpY0mEgy+hcMhkS7VjZsrFkbrnKwIzb+DygSIYeIc5hg7pXv83jo2ZZLgmZBSoljlJSrBmRT83XttIaHYHk+xFXRJ5inXpGaLZl1CGRaZJmuvok/jokYc2kiCUiJNJfQoWhSQVauKEmMM4aLoplkd0gi35mvKkfYj4a/QCS18jayQJZkr1Q/ZGdGVUX21BX0YGYAz/55jgp4R6+ZzJhpnPGJOwt4HhR1LXwnOaF14s9lqdN3YytZWwh3g6eIHnN4fUqVMXdXW8OZ3j6ZzUVmWL6Z/MNnHA2Z2tyZzTGF40iIZbMTeit1cnl5rceXqe2WYtSHozp12x+Dy+WZh1FnmWR14cWoYrWnggY5BJeWLjuWyTyBVSGYiAyJghRp+s1aN9lWvmV5aykaPHomgxyoPV+G8hGqRkuaN0GBu8p3AEloOtJ1XXlZ7BU4hEY5ZaMaWBV6WjdqWOKHnraaJWkqFeChVuSY53tIJCeqYQ2pQPOWC8WZLsGX3DxJMKtYD32ZUq6T4TtJG7qI4IukjkuUEH6FYr//hITORFSRWfs3lY3nOiLCF6zLeoRQZs8KZgigqgkhpRFEqoYPiOmFNVIVZEZbpMzqZYUFdtxxhzV8p9J0mqfsqWe9NJruqDtuN9bXFnnvht2yiadTihx4mbZ6gnf1YXwGqn+mar0ZZ8xiqN7PQ9trmsv6qiWLmTJedLGQifxPeE1qWesDiXWaStuzeYsahfAhmt7Zd7gaSsrIKp2dEzT3ooRJWKxCiq3Fidm3iGFNlbh5qV9up6/5KvC1Oik0pq6Ng9LeWVXeVca8pljUqjJhY1eaRp5kmsKymcw4WNFwowy7l4mqVHqpqnv9aVKfujCnoXySZ7uAqugPSCGUar4//EPcE4hQP7ES8rfXs5hTpKfCkVNyhpXyYWZtf5naUWjbMSsOiaZnaIn/ZWTnRZsMyxtPJ2g0talOMqUcVjZnHWL1Wrsf5hVivLtT9opH3WWCO7swXHtONppGnVshzHtllGmJzhsaI4T/UIVTfpbRMpinz2p8Oht7xatwbZjX8bs+R4o71Itw5ksFGWqHuJtpTbO49ZX4nktu1psQw6dQD6n4XahbPZYJtrqYnBmrKopH0jjyKaOW7mkEmYl52huqBrlOo4ZCDrq/galE1Lu3kLsW2USPQKlW+DtVfmgthatsJ7sZlUvGfVnO9Je59amQLkZUYrhRSHTf12PPI5uPH/4WSQGaou2JJxm3Mn5kWcC3d+YpwrAnASq1/PJq5K6qgg2xl8I4xl9aHAhJqZW1XqMrfQuzoja73KNitMNIUdKphq2zTax5/5a60MOLl7KqhiSTjsJqOcBsHRSmeG2nVAx5+rA6RDqr4djL4GSlLiJMJGEnGR1Kxm5Yvou5Prq7Svm6mmujs2xrjiSK3fkrF8Kodsl3f7qoM1jBhALL1xM8SJl2pnh7qRcn9we5xpir72ecT465ER2InlaMR0usUYPLjCacJDiW7JG8awyZX7mDnFGpgGi8bQeKSCSJ3t+ogDaoVwrHeB6DV8DMKSesdVhsXkwZ2/2MSC9ZKouZt5cIyFe1rIFstHuImhFrrIL/yCMryxiByC4UjJD9eKRbhMDfeAghy+VwRe1WfFwhOto0w4+Ruz8La/QYbJnPyb0lqQmzzL8nF7wPSgq4zLFAiz+9TLvvzLPluyw4zEninMx8xoprjMxqOazrwcjssVAQEAIfkEBQoAAQAsEgAWANwA3gAACP8AAwgcSLCgwYMIEyoMIEDAwocQI0qcSLGixYsYM15sqLGjx48gQ4ocabAhgJMABDbkSLKly5cwY5YUgDIlw5Uyc+rcyRMiS4M1ewodSrTlz4JBiypdyjQhy6MqcQZICrWp1asxnzosuHIr1a1Yw4rN2BWh1qhj06oFWfbg2Ztr48q9eJKg1rYC63IFe7Pq3L9W9aLtKzWvTbt88QJe3LSmX59Sazrmy7gyz8kbI0s++diyZ5ImDy+s+niz4M+ojdIUrZA05YGmWaeeTZZv0o9tb9PenZmg7o65UfIe7vZ1aJanB0dMnhAz8eGuOXuV3fkgc4TOn+/+Kn3wdYtH9Yb//q0dNXcAb79XDG9zvPDytDcrR/oeuezWW0vbVA//r3y41tU33URvAbXfff0Bdlp3zVG3Gn6DVecbgvMleNWC6L024Uz8vSUhbBQCaCFWDBo4k0LkLffehPwhNuJSJdJ3YoMt0ihbisW9KJN+rlUIIHvZOaVZVPYpFhqLIepYG3YZztijiFNJ9mFwRE5n5IMg1qikRcwdidFXhtX44UMFZpnklhR1iSVdAoZ55pij5fcajmimKZmBaqJ4J33iafijn2QmtpqWdUr0H5IzMkkemDlCSaCgdBYakX3feemkbSvyiRKlDiYqpKKiwSkpp2atudd8OG5G6qmsQhjgaaJK/xrgfO71qdehmhoWVZ+6fhploBsOFKusMkJZa3tY4ororzfxymypvboaraPE+jrTUe5hO91kQCLoLLRmPqRqYdRWK6yfVwbJqXTdMumji+EuNK625k6qGYP0nutmsG5iCKtxg+6Z3nu27llvnJyWma9u/maqW3SmRbjtgbsafLCQ694o4KrXJtvksxIpjOmtopF8McYTM/cVx3t5ySCh8Oa7L8gmn6zvzeJarB+HDp+pZ8wrRRrpqIKq+LCfajLsc4NAu6cnzGj26TRhMv/Jb6vUQg00nshWHOPBUgdcZdVlVlp0sevJybXEQR6s7dRsSmt1lG3jDJmyIA774ttif/8ZYr4ZPxbrsUzqPWLCmnmoNrXamr0svDlzfbTNrHJr5eKKe2op1uTBqXLEdlPOn3MiTzR55UtLniHcaNs8+qaYn210qABPa7qUQWd6NeVVjVvqt+UyazmommPq5l0D0t1mvb3j/nvXoYN4PLmP283e9FX2+p/hw5m9OevZR++usYLah1jZFs/c78aAlue9qeATBrm80NM65LnoL9rz9tQrWXWM7JJTABVzvrMBz0Rz00qQ6mY7Wf3vY4Zpy3G60r/wead+s0qgAGGHpJ0VqjrtCt6V9FSk3AGPcMqbHwjvVbLVtY83K1yW4MhVnZe5kFFeI1imqtYx9UWJgOXxkn7/ziO3BiLmX8EKTlJi8y7y4WdKL/yLEJEmMFN5yojnQqL05Kc8kvEPXE20oLW2gywKzgmDSTxbDDXVMCzuToRRdA334hI2IB5wi4BrX/OUVrOfYW1+YMRfFNUCxPXlDIodMmMFW5Y8Z90xh1d0YtZSZ5VCdvFMXytOIhUZx/s5Eo1Z1B3j1HhGwDwJgYCcpCWRhLdUIjA4MwzUKpkWvKucsnU+at4s1xepD4Utgujq5C4zOEehWJKBGKkh6AonO8gEsoAdK90Yx3JMDrKlfUxsEA/j9ExBRnNxYaylMfvWLd816pZrbOA2uwmsAJkvmckrZkimVk7nnbN24rNbnvIZ/8l2GuidvWGWPEXCqK70Ekt7hCAcA/W5RKoQn350pTc1ScmXFNSEf0PoGWMUyzg1NKMP7ScuxWnJzcHoY8iD1z7dOMZfQmRotFyiQo/YwsxoTSf4ktPCOrXFR6XRc6JU0cwyWbE32uumJwVmOHNpxVB2cJDggaoP1/ivlUlVLCQrUzdN6lQzDZSdNpLoBWnqUkJu1Jr+vFm2ADbDd9qRdmQDmOUst82pwZSlL0koURsFtLqV9H5vhab15Aq7tY5wLzIlFFIJeqDOsRBcT/qc6vY6vGliDYUX3CYO0+JFUSoRQVoFkGTZiFZNzTKdzdLZ5VK52bAkFFSthNJoOYrRGf/ZEIjsMWPOOqtSnj6ykmeFbfr0qTGlCtKxxg2gpwYYxcTSTp3xvGpPmIvF2BaQf1Yd36VEGtJi6W+3oMStdBmrW5Cx8k0YLVhZRyox7g4Wgd+l3x3FWxTFKO2CZmsjRa7HxbQ+jXaxuatsQ8RbvsLEvj3DL2hNJeD5rbeIYQ1lgJfG3/Hh6KuG0liB7aXAoErSqD/Uo4h9uLYURq95kO1bg0HyURIjbIOOi9539hpOlpX4dKxdMCRNvBSgdleWq9FrGQPGN3tBd6rJ+ycVfwtQpfj4vZCZoOqqpK5F2ta3O0wyfYYIyrE6ecSWFamzPNjkFU/ZTAAUZYxTXL2eoNb/vU0cMxW97OLb8bG08XVv/io6zuJVpLVbxJAhPfLJ5+2YZ8MEsS0hKk7iBa+Pwhtu3ES7YPVW2oW3qy/8ginlqGLvkuCtWYXzdtXDPvWbg1a0Tr7H6SCPV8EZCzXFBqzkR2m2tGNLWXHXguJGO5O0+W0hrn6rxfuyl3z1dDGG51lKX/v3ksE+r6Af/Vwem/fa9ku2tZf6ZW5D+L+/dbF1W8e/14YZzT1bNmjA6ekMA7rNoH6psNlXYrDysoXqTpt2jy1WZy80tUeDNM8UXDA6E7NvMyuhpvet6hpDtaOYTS1LpzhoimMbjwg3scK7zc17TiuuDZe4yLm9WNoeNLQs/8t3u789Ny3aL+RTdDkt/6zQ+Ak2slm+0JDxetlgKlfeDj6Q3tC5uNiiXCprDYtLobbO1CYaZPylsWXzmGpWyRHGM2UKjjvO7I/fz1UBlPmlWFfujF9qsTHZOsuXBPWv+yrs1U4x2atoc7U2tSlQtDf9inxis2cw1yusKr3j7cOLUrOTeidh+Zp56JlTzcojB/jOCW9tw5NIobHh6o8Ra82mX/nlQKdlbhns2drKJc3jcmg+k/7hjp8Qqq9DVYb0e10PKx3AoJul2EdZ+Jr+0cBbI257ORf3QNteKYIve0R5j7ppH5nrVm+mnJdbfO0d/6RNF7JPKZ3jpzbZ69mmYP+/qxfacReFtt00f/TBT+7Capn9fDO1fKut/cq4dWRYtjN6xb08nq2ZfD8XOcDWZVhxf/D2ffPXTvrDZH4HehXzdB/1bkSBc6r3H1AzLzqFf85VKvHHaJ0WZ42FZdm0cM0HUvF2gbiTUui2YYxUQESHfhmEXNB2fQdGSm/UazI1fCUWWvcGX9DDPeVlbsYFbjSoGsH3fMGSg3Ozg+wmbbs2fVElQcFFarKGdoSGOzY0OxM2TH8lUnnHJRl1Ydi0J1JnUVj4MYo1Ye4HZFsVTM8mVEIihkQ4hJdBfzSUgVSCbnBydZnUUQb3gHdHaRgIhc+Tea92hU1DSuXVMGXYdx//uHoG5CDSEWOGaHGBF2Aqp292N0E21ncQxjeop2bzNnRnBYU8+GtDkUecODFt+ImLF4qj9Wnbd17Dd4pvWIPeFmFHGGLu1YibZYWZEy/cBjF414R2sk+j14tZx4Qh5yp7Nn6jZIU7UX46hB+dFVeeF2LlhYTrpzw79Xr6h0pMQY0Cx3myiGyMt2WKdINuKIg1x4qtB17imBNUhXmSRmp+2HF810Oo6F1FOFG32IwiUY/axkz56IyLx4EPN2fb9mJGRj+L1muf5WfH1X828n/bRW3BpnZ7J37Xlon71T9LV3oPRU/NdY9rdIpiiCuxQl0feYg2VY2cZ3J2GD6jBoeL//WIssdlWyeNE6hiklharCYx6ENzPPc8t0RZy0RrnnEszNU41QeJJOd75nSK5Lg8d2aG0MhsleiRRSWVHgeRxkc6xqiD6KZg8BYSu7cTWnRLCFln0Ed7hAGDRDiC8TJMNSKBOdGWjPaWDZlWcmlQ71iFS5lwkMdzelmDeRaSsrdXb4aP+NSISVh6jAJ3LclnqrGY29ctB/l7wIRzl6ls5HQ5OimWjbE/S0l1EyVztqiNgUhTYsY+yMOS72dg5TgUd0abu5iHoKdMgslQPMWEUhhxCEh9R7kjTeV8YJhdAlVqDAmCOwWNAzOPkndqPxmLF6eFkxduwNdT1Bad/GR3Df+UNKgJkrNIfIw4a1VXa78mhL/nQWLUa4DYfZdkniHTjr2nhOupjg/pnqkEn/01STR1a+tjn5rINqJYdYv5hWeXYADIZ6qZYypoZqtGSvE1bAkank3UYdMGlQe6hDKGUo/VPar1JNv4a44VmK5GX+boN5NIgPFRovh0ogpImfM2oF7Zd1Y4GdzpWgtZoDm6lb93Om1FRSYKe8XHnLlIgjVKV/h5n/UGooLFnru4fCEkf9rRo545pDlXHCu0j/nEnTJooFoHo90ZSRwpRvyoptQWTmMKkz+JkMZGoa4Yfmw6PponjNBHGymZcSwIHDOakAHqR3kKl3CGGsU5SXijTAX/ZkYvOpuzJoYcmnXj5p/2V5s+YpduqkN15Go55TIhqJA5VH/p949m1RFMp4G5h4fkkipwxW592Je5cm0+OY1wepyNGWBEmaOuenOY4pbipJ/eORf/B5WEgoOhem5st5NliTq9IpiSWaaBZKwU1mx/uqXLOmCt6WVhg0xzoYIMt5w3qqdTCV00yn17+p63ynG6h5mzmp/BGVMOcq6J2m/AGhekWKevMq7Vk5u45nQ2OKgA2YIamhb5OnVLxq966q+xCoPgSrBr6m9joaLCRYdSiKHp2XsTUqTUmZEgGK0Tq7A8KXSCGnH+qrFU6KXN5pcfu4xysTky2Hj/1bEzKI7C/2p9gpV87oqrYgGzJClhS6OZK7hrQ/WEr+p1dDqs0IGku6ektDp5rOdo5TqXDjpjpnqps5Nj6zVaF/uv5HeSVFa13nK1xFp6AJprPLeKSlZZ0yJzKPiZWlZ3n+FYZ/t4abuiZ2RYxuOdNymWP6ezMBQwSpmTPwp9g5OOAihNS/qyguuySbuHiFewmweHiiuxUkRkznl0rQil8AR4YOtAmGtrxtiZh8t2nCSA5gK59XpuFveQt6h8GLd2u6G6mJquX1m6/UiLAcqdZOqjbCal4ppiK5aUdBdd4ZogEBc7qOphk3qeuTqSIEg0uLGO+ypGnSWBndmfLNS7BbiunutoCP/Wg/92qHI3MdxbjMuXtSr7hQWmqfwZnoUqubM7hjT3PuybrO67sYjbVbKrHVBUTPErj/44X566s9Xyv3AawAk4wOFVwJTzoUT3mMHYsjdWfBH6wBRZkmAWfE23gOrZetuKwWfKb5AJYcqJoUF3U+eLqJ+reI95whbjtmRrucQiMlfnvOgatg9GWplqwKnLbuKFu71Vezusu/Ipwjh8p7GLOrqEdYB4xExlqEgMR8oUxbz4viYZgEpLgT7MPLomtdFHnmnGckAFsg8ca9V7T2Jsj2TMtC47xfuqhIVmI1cauqwrYis8ItkkarV7juchddk7sHCMus15ryGGXTH8j095N8hg+FOyCkyInJVR5r2M3I2J+JDe+r48W6tTrLkCCy6ZrL8CybOVPMlwuLzkW8rI+WSojK2qzJYi27jYCGZHmsGv7Ddfa0526iu13HO3jItLTKAkdZi/3GfBnI68S8zFDMwzu8xBdJKc7My8ZoxFLM0s3MNKrBYBAQAh+QQFCgABACwSABQA3gDiAAAI/wADCBxIsKDBgwgTKgwgQMDChxAjSpxIsaLFixgzZmyosaPHjyBDihxpkOPAhigdklzJsqXLlwhNCkwpE6bNmzhzPmwIAIDOn0CDAuXpU6jRo0hF9uwpkOnBmkmjSjW6tKjTkiqnat36sWbNqk2rFk3JtaxZjF6zBgC7VuxMlGfjylWYlqjYpVi/jlU7t+/UugLusiVIdqBTqH4Tz72LmODVgo0VS5bKmG/Bx4QtT94M0yRip5gv44WMMjTn0yQ9WwZdFOHgk6Vbo57dNXbE0Cbv0t7tMqXpg7hV6uZNPCTRt5Fjqoz8u7hziccZwoW+XHPb59gTPtbbM7fs5B6bZ/+XvF1tVe+ZW4ofv5n5d+F7b4+OCJ69Yvfpr0uXv560/c2hnVedfA+xFZxB/f2nVYBLqUbgQgbK9haCEioYV2FY5UUTURgCN5qAG06YkIP7WRhUh/lltiGH07n2YYMriqiciPWZqN57KY5onYzSdZggbKodplaNNoZUXo4z6qhii/rRN110aRXJEmAiikdkiQWO5p2QYR3YY2AVStkRlSVauaN/ELG1ZXxteelbmGJe9BmcFNI15JmZqbkanBEqd2WcdtaZJp1YFmqnnoJSyJqfeAKaIWmq4WcYoeCx9uZr/AFQWGR/AorYpkw6JpuZClkaG6aDdvekdZ06+miUoqn/utOAsWq6p6zSoSoqrKL+6OpTtPLYpa2zCtsmsbUGOZ+HvE7qq6tC2mUriZxaBmqgFOFabZa/PnjptLRuC2mwwFakLauNPvvrcFzC9qiTFM7ppbGiIrfnu90q+iKPnzaKZFvyVtisoCg26W6+aA5r77yTuljsQuI6DCGOCOOrZ3T//tZfjRF7yO3BFecnGMU0widgqWyC1+9bquKqq6EhJzlyjiRWhnLJ2ObHosvL/htzlifn2nOZy64YaqEstkr0y/j+XOu5qK65ZIgJC13ww8M97LS9CsOWtX5MG+zibx33SjLE/opZ2GvSPsaaeP29XLazZ+cccsCVjsqmhnk3/w2RpBrijDDeZ7q997h9Vw2vx8BSm3ac6GknlrSzaqzlnaBi/Dfm6G5NNMoChs0yn5dPXZ3mWn+ZZMUDFzqctDVTCma7kQeN66xvGn17t61zd3nQkSuH6OfHenflhqoij2zMw/sd/LH4ti1wukXfySjDSmfXvOLEd03z7EPXyLb1jYMZ/eMKhr223jMrCT3dq78ftL0rl1s8+toPvWRYZn/96GtyM8+Ldkc1ny1tefa5mtgMtqa3Te5WyAIgoaqkt7DkznwwA90EiaNABonMLceaH92k1jC08a+EyQMTlNAnut34rl4mPKDZhDdAOPWOJi4iUdcuOKzsJeaFJcQWCf+9R5oIkY18psshuS6mQpMh0EJHzBOhQIRBfp0pdrv7SPtSeMLzPSeKXpsijDTXOp050YcajND64odGozSrgaSDW+kQZ61VjS6LJeJY4cS4O//9EIkHtJwc25XEcZVMhIKzW6I81EcQTiZqEDyh8e4FsgzCz32DjCDpeLS9HjoRNZDUlyThM6fvaRBbmXweDIFIOCL6BY4UNKDfRhk41b2vIkMEmAAJSbct7uVIfYFl9yw5S/30K1KftEguG8nLYflydLKUi/rqmLouck9itbxZ1V5mxJHVLVn4+8k0i5kxG6btiOKb3gwZaRVvAnNsT6TKL6uXOiZ+MDi8PB74YLj/SkpipZlAimStKDPPd7pvh0zKJTSRljbKBbGEpQQWQLk20IqaZWTIrN/4/jlHZ5pThzCjosxg9Kqj9Wt8IF2QYDJKzVvCzKG+Qye5CCcuRObRpHVEKbmSEh0/tjBJKsOhS6OJTUsqsKjZ6akjL4nLndLRlZV8EL1sKVXsVAtwouFnQKNJxmQai0F6PKQmjVUwvZjlqtaxnFYpOtWFUtCg1rRgoxzHM7LidK1ncU+HuurQfMIHnoB9KLv0d1BbUtGDLkwruKS4pD4xNK5MtajBBvssMh22QurailmfqqPNtitairWimboJWW7GE7FQ3VU4bbLZQjIKhp/di6TSMtoa/5aWsHhE7VBF00ab+DUjfqQhXkUZUJ9idozh6pxEEFvGoPwWI8GVaAUnVh7pLdKTjovfx/pJ1JygimEf9CRQwXetSkowtZNF7kZaas2NHqy30B0aeA/mQHHBzo7mXZYDiypStLA3vQZN6YlOl9ztvjS0B4ZsK91Xv6JGtKnk/AkyEym5f822pfO1qRkjDNcFLq67LQEMiw7lzcYejpYTA1o8UWfIzgIyOEodHdUEHGLOjVhH7jTxV0/MOA2eVHZBbRaMMSikFGZ3wPvjngPdq0997fWvaNPtj03pYlXmlXN+WzI9ialk9dJ3gyzucFe5KtTMDgWQDiWYUKP5LDc5tf+Yab5pk7O1wTN/z7T0++91U4wmGl9TaMA86p+1qRUWSzG2pLKfe0Gc3wtTGIwTFhpCm3vm2iJadiMVM/r04uibDtfTtlQqaBl95k51+Hxh/dKc/dy6U0c1hIQdM5dZezRCz5qhqS5gDFkNSGsGVV8BDPRqWRLKQduvu642DpqvSOATts9JP71JsUmdYD63FSRvZDZFtVzZfQ5YrdUeL3erBiuAAvTXOP5mksctXF1WepPhtt9mG/xYY1KS3hGW9WuzymWlwhe4hLWTroHd0UnxVc8Gb7axnYxfCFd44S6Jtuny9ro9HbyY58I3dRd7a+3ym9ojibGHH74+w8Xyvcr/Zau8lyhb8tGO2Xju97Brs6iRS6zk030er9e9ck62PLygpiG40S0ULNb5oVplkLDjB0yePTiMg7XiW1se53+nhlYSH7nJJbvzh05SrnuWXs1hRULlJTsqT4fnk3Hn1R67eOqfVnutv6zyOF+76P6UHBdfXcuwbQy/512ul0dad2+DvDdY7ri9wd5nAneyxSWFI6SnUx4wbhjQR7fzVhUf2/oh8/E8N6Pkzbnt91ge5XfMvDiPrrRiP6/bCt7lvqQL9LV7RNA6+VHrw4f16S6OYVGnPd2pqni2S2Xgelc30uV3ObuHFNNPo9jwTn9o5XMF+YG9ttLbCdppL7+c7p0+/+mle3auVLeKMpRctbZuQMserrztFUz/oF9zxjJr5kp5j6z9Hk+3LrBja4RrLDd/hjNOYDM9lmN1tWFrkJVnKRRgdyVZKqd97GNbu4Vi2RRltmJm2LZHe+aA4AKBGgdJGpd0IERajINW0LaBqocTzgd65VMwlVdit1ZuS3VZOwZVb8KAwWR4l6RPyDeD7ZNqU1eAIchj+zUucnRWe3QuGahiTCd/i3dsKLRSa7Z5ozcm+FdjPuZUuCeB+RV8c8Nt4HJMvRddE6GAU3I0ExVfGnZ7ApQlSqNR0ldwRDdgEaWGNnN1cZdwDgd0cFdvHueCTShfASeIliR+HHh6ynJzc/+3dX8XYS9BcYaYaFLHToFoLuMnVo6IVfVXWHeHeAj1NRUnch5naLBWUnalihroajnmh5Xkb1tIEWUHPkbYfe2kSJLGTm62io1XOVtGcBKUbaYiFI2EVPn1MH2lX2CWTJNUVh74fYJ1hErEgTfSWh+3Tc2YekQUie/zjBHIX2KkWqjYMi0YcYdjTzUYjoF0gnbIJKUIZaEIf8n3XBR2jzDBS+qoR/Q2eklIJh5Vet1Fj/Bkj0GHelNRZN9EiQ3YYtgDj5U4T+wmgAQ3EdvjZ0ChkBZWiA2ZZA8JROukOQYpg0sFhfWmhh2hjn7lHkOobQiZdrs1TQ+oTjZHfoZofs3/B2UAGX0weIkCtn3ERUM7iCbdZlyFRmTM6H8k5FgUZXVLyHxTtULZRx3KY2Xv1o0S+WVJeH6hWFWC4ljrx2PoJXA0UVc5EZakiCyfR4MvYY6jxnwQyFH/c47jlXVaKHQ3qJaOx5boCFOUZ4GXaH+AqBHKYo2EqViBh0pnMzejZFDfNXjS+IQQNXcGxniEWJC+h0mLmXL8pm8xCZkdCXmdSZnWBou5B32/B0KctipvaJJVN3dm6JUISWYoSWe6qJjbs3f3dRF6olOnSJqfJmBBNovrhZGF9Yri+CMXGYfFB3XcF4y6pEBzVmpvFkMexX/r5JovJpat+JyOWYaceZtI//GF7ceG7qicJel2hclHdehrDecc5Ml3xBeQF8iLGyRs/Nd0uYiFxDmeyXRupIlHeCWgzzdVhjNvsSFMkROfFHSHOrGUPCZoBHpbY8idB8qcPJSKxMOgROOgUcFk1UmWIRmNUbmdVsSQzZlOj7RlxrlvCGVrAIihiRdYnaKi5EExqJh6sZWdGweToGJat4ijJNplE5qQQmppc2SEmeKjrIlbzAiiPLhjRXofhShBRRlrPgijCPaJA4l+XWOXV5ZGT6p6zseNg2JANUd9wrdOYIp3EhpH6bifJIafEXlEbzl/c2M0otZOtbkS2CeNuSmn6Uan22enPxd9eaqnW9l/0v/EqOUHTnIpeATIe4yXaoaJjH5BoI9qNlMmqb2Unl+3jqHJm3TpnwG0Xj6XTo71j++ZiVSIpi/iodeXpfK5OKupYmn6nE2JYYfImMwnq2UhnHMVTlOKedf5jnt3rJVJHV7UnJpXghAXL8PaTRUnRT4ihVG6Oc3apzdRpv7FfnQWfNJaO94UgAZKqVOIGt4qJ+i3iFKYgH95rHvniujahpzxbDIXlA/HijyHRzGVpMqnRrIniY36NR7aQpOXgf4qe+IHq8UYWV2Jdib6ajfGiWgDkwQUnlCZXriaMt7Wpv6ZI5qWsf7nostHsq+6seCKmWKVhFRqf6vJYkf2cqpFqh//9qlzCURu1qKadSf6SI2/uKEs50O6B0FewkyCWjI8Gxco25PZeHLWinA7pjwemZPuya+IeK8IVIuyaWUVK59zQrWbp5ILOVO91h749ZoBA6Q0OY/kVR26NXHySEcEWZOvlLY+SJLR5X16BDxeOnJG05B66lSXKrFzyqdN9K95dq2xR1sPtKut+X8uV6qcEVQCm6waOriwNT2O67frmThUVrjPIWICNZZul2XWB7hXOJFDJrp/5FqRlXWW6HVDCrusy7l/q64KZ7LitmsYdCVoOI0BJKyhx0G7Wz7KOKwLBbzpuUjRVbc7mVRNdLi2m3wleqJny6MYCLF266x/VKRq/wucP6hcO4miEwlV3iglipuy5mq9RYSaIwS3Ttqb2HqQFrK+zhOvGxepHue3bKuQBhui2AF8melzx+iclyd6f+m4CtxBBWcjBIxXvoONr+mLVJOxwvanTsse3oeqwzSB2qpMrXqQusatODlf7Aq1m5eGwwa9Zmt7/1HBOAuLSXO2T/an/IhTf1pNCZS3DKs3ygLDK6xqsDms0LjD1ukpzImDZ3pJWzeUgomQL2eVnqON2JW7bseU9iazfxs7Sju3VSx4vfhniclAI5xprEe+/cnB6AqtZcyViqdQoDibWyN2+4lzyKiku+i/N7mvYUwdz2RYTuq8v/Oc6/mBkfnHWPZTv/Spt4cYinqMtL2ryEVYp4c6fzxMyA+LXktLyXwjVKv2X37Gf8RIuVWsuXHsheTDkmJUyp7MuwGFw8drr4lsulT2yqIpt/YFkZB8n48ci2usxGj8xDacvWN7Wr98eE5TU3kZmMAsou4GhuKJy59WX+K7SLE5n8xKzZooMf1lkWUbaX/IzVSpv9sqozb7tLVMzmxHxWSHzhYRt+vMzg5XXtmMr5k0xnVLz9tsz3WUhYnsR47Tyfw8iBohU/pa0N0azIJrnq6r0OkMRosWncoL0RmZtFp5Nphr0BaNExJNUh1NGx9drCE9FySJxCX9R2G7un0REAAAIfkEBQoAAQAsFAAUANwA5AAACP8AAwgcSLCgwYMIEyocKKChgIUQI0qcSLGixYsYM2q06PDhxo8gQ4ocSRJkQ4EAUqpcebKky5cwY8pE2HKlTQAtZ+rcybMnR48rfQodSlRoTZVFkypdSjFnRqdMo0rdCfVi1alYsw5teDOlwKtaw4p1ybXrV49j06ot2BWAwrJHva6dS3dg27cCUsZ1W7evWrlyzxrUizZAR7h5kfpdnBQwX8FscRY+nLhsYMaYZ3aE6LRzYYOWJWceTdYh58mo8bL8TLo1xqOQPRM+W1YiWNe4J8I27FG2aN61I97OTRy0Q8eXIROsGpS38uLQbR/n23w5a+aKWw6Pzn2hZ4KzhbP/7k6+4ne7v0+XX2+eMuvkCbczLAyfvWv37x97H3/QaX37Y8mnUHXiDWgTbfwhCGBUAiZEoHoOHghcghMuqNVmAYSHklnOoQeeYgbeZBxkD1qoFIYaZsihf/qVOBiH1pEIookxDUfgfyIWdFRHLnbYFH0w0iiSjTPiKGGMKvI4I5I/fpijkCYlFqJ+H7644XMEapeaVUBu+B+UP36popFWqojljFoy2V6VY1IJJkY9UnYZhgg+2WGDI/qoJ5tOpvfmRHEeNqdp84U26HNN6gkWfKv9GV9vQF6WYpq8kZkkfztuyWd/kboppqOUetmin5QGV2aKSE6aH159lumodKIi/yeZlg3eJF+K4dHJ6YuZ4vnnXrJiqOuUqB6E62/D6phfrxSCCilCd7XX1nl5qgmRrLkSiuiroUZmp3TTaqpstRFhi6y2e3J7HaTNtevmto5RWyihLK4WHIoqZerYq+P2G5qoV+4a2YbyItitrdMp2Ka+1L37q5QLSdqwXJRZO99ZYjLaMK+oVUVpsVCaGiGbzVV8scAiu+qhmZF55vGzl/ILsMDwLhmxw42iZ2nA2+Jlssxt0iTuzBIZeezOLPf86M9AJz3wyQpjF23A7u6WZ7dCY+xmso4i7TLMfdopK8FAOVxqs3dCbJ2v7IVW8NNZr2zg2l2iDOTbVE/sZ8iJqf8696ObQqufrv8dTCp/+y6MNoAlvgxhvTazGnSFTp+mZY7fgtn4uo93+mm/JRP6Od1au9sjlDmyne6ZxmHXqs584W2sYu4Cnfri/ZILX7IS9x770BGOXXnTeVJM4eUOn3Y7x2T7Fq3YexPfofGSp6xb39ktW7auhkoIverRyRcc9cNbVzjY3v5O7nmmSygn7dG3jfb46pc/3/lKh77+lu2HrmS8uLsP5/yFvdHlziUGBFbylGU864VvgEjq3k9iksCynY6Bv3MgdMgXG8TZpFZbw53JKogvnnEKa5TrDgfTJricXSuE0imheGQoJmGtC3x9ceHJ2LfA5wyHe6L7XY//soSuCBbxgPhrjQ47mKoeKup46JLhv2Y3KLDQCoqBg9poGog7wsiuiVmcmcZ+eEMIanF3dwvgWrhYtFkBr3ijauHGWoZFZTkOiTBEDw6jorEfEamNy2tT1d6IQTUljlywWp1Y+ni9P5ZrRRb03uGUN7i6JTFRe+RJg5j2kzv2r5L4qiKkuHbAgGFHZNbLpFFEeBiNJGsvsQJlEEVpsPmtKl2EGRQai2NFNW7qaHpTnfjM+Do41Y+XmPKl3GIGO1EJ05aIbGZGVliXYlkTZ0684xSZJrXIadGZyTzbayhkwJ5c03Wzg5AR/RfF/Fywm70UJ5f+lpVhmpCJgswe3XyT/79RsfGbK1PdP0m3H6UlxZ7D+xgk94kaai6TnRYzpTIHOq/OTSWT+ktf3k51uLYcClBF+uARIVfMUtqPQcp8XTc3+jRVebSSFLmRSO9ItMlFs5xSIaU60+fFWYr0hUTcltU0WqB0srCiSA3QERP5Inv5dIlURBP6ZCRHpj6tW0BUJUlqWLa4SS50jAyJQw8pzc9N8Z6K1OpLuIpWg54MrJ5yYkyPuTKNkVVoMo2mWxtjs1AuMKMyEt7VYIZQyZFMb3Y66wFfmVKZbA6WwaMrZAOFz8ICrqWIPVKlvPk1vea0ndEiqSJlOkZ6bQmj9YOsRH241M1uSq2lcZ77OtVP3/9xDKtTrQj5VMsy3PZSYhEtiuzuitnWtZJm04SpHiG2G8UGV6eXWpRcNUlI4h7WuKTU6kfJRj7jUfaE5HSj4MKipBfK622pnM52dwi8ziIVonZD6/u6mdjGjlODHzpve9U2r6AS0GLuVRh8BytfQUXvpcGtEfam1MGX2VW5Nc2bDaPp4N+8M5KD9Q2LwpYv+3Lpghll7IMNaTMAopCm97OwNwObRyAei8MgI4lCa7fMvSquwDW9oldNarHvxvKf2zwi5lYsY5gNOYu36jCObZq2Xu74ppz1XPaQR9FYRlgnCkRYDI3c4bzuB3KZ2994hxRJIEdSx9T98U9nyOVchtT/clK+IGvHHBIFRu3Mo/TwBO0nSvTiGb83brKQicxaxqrUtHuBLVGG+trjCvXP/G3quWop6Z1yUk/w9auixbJJ5qJPiiOtm1vX+7cBP9SfDeNhoDZdZ1butmNdTeEZIWxUG+etyk6zLTNZfD5WF9WEE0auajw66iAZp7txFSNdw0NjwNqxnbaGyYaR6mTxIFiRah42VTGbOBZNVm9K42ZuV4lXFbMJusom9fRmW26VmW+hSeUprROcLl8bFoNDxXWlmexJdnMqrBgMpMIkrW63ongnPe3p65w9zMdCrETFuuLmJExY2rp2dt72ILod60aFl1WfAD12XxPGZLJleMGg/0t1xQ9tpIwLbuMK1nB4IZ5BDwJSkmYuaVUJODX2sk7WLLb30hoaP9gxkpQGfN6U0Sfnkqet55Wtm6EDvWhiEnVmvxXiHE3YPmK9ed3erSTC7hXpyVUbqj05+NXNnsywcx3VV4ZxHMGu9Xc71e1EPbuSfdJcURfUaZkS2krpfibr4tvq+bV46dbcVmzLpO9hFNhHY8w7kDubxsNWe+JL2r0XC7soBX9kG8E58FpTDuqHt8gQ9z7xi0cb4fMG6egDDV1a5pOrMWZwVHnbwdALBfVzjbq5sgXUOXb9epyPde/r13S0DwX4sj8q/bTseGWne7qFV+5HyR739AndmCYH7/9qP69uEAoYflums9FjL9jd63mrKhd8rKvdaM+Wya+NN676rQzQ9kv6+xdhePjUYJ9GSATFUj+XM/qlMtLFbJO2a/MCgKq3dfHFXrhFb6VHVtOmgOKCTrWlYgr1MjDnE023ef03dxh4M/eHZ/c1QC73dIR2VEtRgsvVYygYctF3bizIJdqURstnVuP2fDV3gO8VZZEnf8/UdCgmcw5ITzkIekMYb+d3SScFXkkYg0tIdIiRf1W4f0yhQVSmWVO4d1P3crmlhMCDUyx1aX4BhuxibKe3ZmWIcWeIhWmIfXVVcxKIQBQ4V0D4ZDIYcEVnRCLHRbvhfHEjT/RHgn0IUn//+HkotHgIVWGGGGuIWIHyZH8c912+93f05kgr2FP4oYnAVhmtVXz8JIScGHtWZXDhNWaIgR+aBzebNYL/R3SrBHBzRotESIha5Eitt28Xxlvp5YuKxWiPV3a7dILyl4gd+IpO14DgNnQ5VnbnEYZgxIgOZYJ2N4jSVDPgN2sEB3L9VBIyRxTOxjyCmGTqpobLNG1yt4vuFiXvtoeA6Iqw5V9w5oXj52XTJnS+5XcKdo9SmFyd2Is1FlAYppA6+BIBeYSl4VnLmEUrlI6yRl/etI2SFyTuSIDlCIEOiXgJdUsNKU0ieIdh1luslG0JmUjBxlH2yGOudzMd+Wxw9FKP/ziLFClel0VgNImHrdZuj1STCJllcOiTKVhaZOSMxXdQIjliIJlyFglmdWeTNfiLJClt8wdtW/GUcQVAX+VvJAZX+neV8tiSRSZRX0RmRHlql+hXj1h6awlH5WV6HyFarxclbfl2b/lU2QRrauIrzII0d6l41QcTxDcyuCSGBemL9dh2XzlJ71hGn3iK4vd5M5GYsOhOUbaU9WaKQtkn8lJ+XNmMjZRMKOUzK4d8POcnNTmaUrVxr8ZipRd8XZiMqjmAv8Zenrdn2cdQLxR1WGeZpQaUG6FfwOVzo/WA3LhY4TQdM2aHvnl7C0SJ3miOz5icwkmHNbOI8QSdbSada/+yfmy1ju/nSiL5djtFYaiJg8sXeYEnk+NIYlMSk4AIirfpmc9lgDAIn9uTnvJGn5Fln1c1UdXJP3/JlEMXdutFmnGTOPqIg3u5ERrphGKWn+1JRmQXoQ66kbcWe9KFUrIpVZpBmdQWhLf4kTKkMrp4IY4WWSlYmGV5Z9HGgZuJjOrJi1hRl/vWfbq5n6Y5e8UGhDQXmJbkjQRqXEYDd5e1iPvpK52IhkWKlYeln184aOrIha1Yge9WjfOYeywTjGmVlfWEpXQEkVuKlCnmpToKpv73RIA4obBXS3PpeFZ6n+e5m85lki+KkFlRiXV6p/IJUDEpWzvHhkC3oyjnpGP/em+2+EQ9yJfkGIhel3TGmXaL2p5A2pOJ6qihtm38d41ddJR2mRYCGIA8KZfguWPn03PLmGjQdJlbmEONqBEep6qzqjtmU0Bf54uXGG6mBaZz8UwECZacmkiG9zY6NFQmg2Y+ymnKxKgUd2/IWqtw6n0ICpyCpnMuWj0292XuUWxJWXTUFybWqirSqFTeyo/P1qzQaGMxVq7XY3jo6kFyimXEGSHmR4+nOZzDpkt7V2jQeK8x11jCipbTuY9s969iF7CQOrCXKlyxSoqdiplrimmsF7GN5zcpZ6FpYVkpOIJkVJEZa6vY5GdcSLDJ+Kpmymu7ml0eJjuCqXyfqYNA/6QWxZiok8eYlGaxViWtl9WhalmapiqeBdZ+ODqoBMmFPASsoQg/Kgt7cTmSSEuzS3usOmqk4wdli/es5NWeS3o27zO0LklIfZe09ZVvaxa1Xfmg2JSY+NFt+aqbend+cmR7vtOExEFaHdVhkbhurKp1VHi18ThrrnqdtOo7svWSHYtcDLqr6xlZHEpsZqlEfstfCoWm31izE1Jf14WJarSnp8oYd6dcantzAJZnnpuHCjqzU8q2fERX4yi3KLub/MdRvmpuFqhekQm7TFGh1Em2hLqSAWpU2/efpVhLNEeDpMuRlLuGz9iC4Re53fioh1Ych3u4W3utnYS8tmueOP9kkeVhqUQ0X1I3sYdZbSdmtjvIHuQbmwb2j+gLssqZhW57sKTBqHipkNCFf0NJos5Zu03EvJihv4Y5tBq6kMUntBdpdXZmH+u7iBemNR4ouSBnQw/8rJi3HhGsqU63TgfmRKGVZ2Ooazvnuzh7pHUJj5ODd7rXjT1bM5lzeaRaHhvYccvGpC4Mo4IYw4s5w5MKfdFBshwbls3ZjzwLgQ88fKkVakkqFUQsmUZcuUi8eqqGfsG7rVZJPCGKta54uz7rdEr3ndIjoQd6tRkcxssrSWQsM3WKVkCIPJCFUL1msBrLHW88PHH8hnMcq3UcjmU8vVIpmQBLUEn7o3oqLr//qjlFB6vZqDWGbLX/NZ5nuchvAmj+urmIzK6E+ygozMFlt2/7u8mlSq3zesdcXHHXBmJExrKRKzIbHMhN+oZKlzGt3GLoC8kfJ8uUtLPXJqkjJFn5mpO8ysv74V84eYNOBXmNmbWtScBlHKGg+m8Z6zb22sSJYswT2KG4V83Yk66U6onabK6mTFyK+M1xlkfjHJLl+bnGSMuuCYdPXMZp/KUAjFPAW3mf7CxgbM87a5sJ3KPrLL1ElVG3w8JMW4AfOtDoOXgGPVsIXYUXGKYxyNCnzFVAq2adxlDWa9HUjNEePLuIK7CI6tGUHIiohKIqyckmja+OOZN/u72a29IuJf2TuvxoND2saEOWw5vTdIGck+rT+ZudQS3UApSbRg0dAb0YAQEAIfkEBQoAAQAsEgASAOAA6AAACP8AAwgcSLCgwYMIEyosKEDAwocQI0qcSLGixYsYM2oM0HCjx48gQ4oc6bFhQwAAOg5USbKly5cwYx40KQAlS44OZercybPnRZU3fQodSpQn0JxFkypd+hNpAJQIjzKdSnXpTagzcwatyrWrSKkYbTr1SrYsRbAXxZpdy9bgSQAV0eJEqbat3bJv42p1+rbu3b9V/eIUuNUgVrmFASv2KVguwsN7CSZeTBkmWJoCBUe86biy55GXTWZOORYi58ifUw+lS/oh5sGwVcsWynryStGwbc/evfC1QsiG6brlS7Nma97IXeP+DTf2QNbDJRfXnLw6YePXpUctThCybuvgtwP/v73d99Pm5sOrhwj9uXDyWR+2175e/fzzWLPHX3hff/36rAWIHmqJ1bYcTqd9991/XgnYXmiP0WXehAdux2BVnQU3nn/ORccQcQte2FWGBT1IHH0WfihdiCKapVJ+t323YW6l2SbWVe91d1yLQ73Y3IqlBcdhZzaShiOMo7HI40QkDhmkRFu9dhRk1Dn444dILqlRk84p6SGQ+uU1147uCSjelVpqlGV5B3qJIHFr4neleTDGmeZIdn5IoV6nxXkfnVfmeSdG6e0Ho4+HPmmbjM2NlyiK+w2qnII5PSonpJiqyF+jA44G6aJPSnqQgRFuhdWpZIJaqHydnqchmr2F/yqqnAWS6amr552mUHGyRqhflv3FOmtCZgorp5WbESjrkTluSp+boha7a6VWNjttmMs6Ja2z8EF7p5gmTlRnqie+eZ+JukKJmo7YDnsdqjOyqmO62PYV6Ht7qsvhrVwuKWZilCKbUJ/4GrftlyXCCtaM3lr3r6K9jnmwpu8WLHCKQmrqo5PunsVrjQZbm/Ctz0Jc6GtxosypoB0P/PFwE7OLa8lsRolbyjevDGvLEgX7MciZ4tgvfB4ehaiDPFfk88sUd+hcXSECrOzRMSftYbDKlbqu0xjPrDF2ThfbsJZH66U1x6ZpuzON8R7b6rBZrtol03lOaavXSR5IKrEFJ/843dpLxl0h0W+qfO2YpsJ6o9rU6egdiH9bzSzJWZXNdax5Oqr4cfaKaXXWZXI6reVuej5qq8ByHrLpnxuLNXtr1wr14D7anDfNret7qUU4Rzi77bkCHTzuue+HI79tPin41QpHnK6JLKcYfX1yoXodvSM3/WvzoG9PJeCugx84mdYTXrKUg1NeZNdVSy9h+ncKVv6+3XL3pq/mZ49w+4a+P3Z4i5texbrmuLfFKGLtCt3/9Bc/I4EtWb07XdvkVjTG3S0jAtyNvUYzP6cpCXuNsSDCbmUlv5FQZGna4O4slanDcSiEBRwhrkoIuRNmEID3KmCwGlc/Eu0Nf6C7GGz/4IU0r1FKNePSoch4WK+tFXB9aeNggOhDxGKx0GWqUdnskKc+WXWwhQdMoAtDl8T7xapITLSLFlXHRSN6UXSRqpyyukfGHJpxdG9M413q8sPsQYhvQTTgC5v1Oik+DngyjKFs+Pg+/P0RiFjEFSJ3J0XmoIt2ELOk+DDkRAkWLGOBnJ7UfKezL1KSRgQ83cbyx5Whia00oqRWLFNZSbdRrpZi1J4qqQXGBt2tkJJ0XrnqJrwBJoyIaCMmn3IGzLJUCYXuoR/CVplKgr2qls8DX+nsxz+vjBJL5IudSa5oKdLVEJDuodDydKfJRHKymsY5nhzJOSfUhCuM6MybNXU5/0ZSupMq2DucKWVor3UyLI8DumQTedXFhxmynoAJaCQHqsuCci+YvdydCtF3PbrV06G2ZKWLMnnMAdFEocYCk8cgOS9qZdORaqsV/QS0wJB8U5G8Qmk/78hOBrb0dvDxkwF52DaaInAnoelmSUOUwSM+TWQL2yT90jW5U/ZRKUmdYs8aCTsmCXOQ66RmSglXvfeci6tMWZwSo+bScV5UpS+d2yEfWD9p3kaPwVOhwNqmFLXWka36pOtUcRPXfeb0olx6C6NOatYi8jUpDDUXWuWIU8GaEYRa9WvQYHlB3km1pBXDq08iy9g0Aup7w0GMBVF1smKm86jyogj0JssUZv8xlo65fBzOLErEuOKRUpGt5Z/gZ8xWWvC2Y82tSS3b0b1OVqw1E2ZwV9gsCo5pLR1UbWrtp0QgDddSRW1eCKEbOrBqFaaZWidj4JhLm033od6tLl1XmTiYkYu82FwtNNs407ciVZabrB2Ar4g/o8rslqdM5nlPqUJI7bCIzf2sXUED4EBSDaLcMnA0N6zITw34XolaWofrmCjWJdclFv3gh5N1zculrmrjQmb+2HphYNb0KyETbVAXvNN7gpLEa4uxzjabrBrv93JppS0q2da3ryL5gEqVTuqkCFiM7jhzWq2yTq66ZLs9DnTAzbGEr5s9LrtPwVj28YljksFLWi7/ddjLZvmcKtzlVrDHn5SYfH8q0pe0uclv3lych9nYCROuPV/+Gp7HY1EHk2u9Afzoh9do1AbzVM4BMnE5xfy6EquNz+wTp6G37L/5MrPUDzWQpfPlvUxbdtPVCrKkDzy8SCI4l0Ux5YzK+GMuv26NUqMv0xxt5jj6TadDVDKpEbxrO/Zayb8+dbB5WThMrvWog95o8qgMW5E8uJkaPeeZCKynoyK6eTabrUr/Ge5XFdvPS+SxJ50EquHiMSLn3q59UYtPdqs51Z19CRTXrcBOfjPRwJOoXRnV27ai16eSvSFJBt7vgg/2zJcVnsIvx3CdCfjhtI6wxFsiVnCHHOIv/84zqyitTebO0EEEk6ejmTNqy1Abl13NJ4frWPPAwtdlQgV4zD/dNCz3XCZCZXS5mPU716alscqstV2nR+6H2o0rSW8VVfVrNKd7Vsbu2zjVMexu1Y0cJoIDFb79u7/Pavumio6joX/W4tI68Oh4Qne21s5umWOuybRcMkGz9d5wd46w3TaKk/fdcoArbcxYVhW23WrfjLE28T2hMzijLkS+b5U5ki+yZTUNRx2TfPJgJvo0wfbvea/UIglH/LQMFGnToxj1xvK7h2XccbPBXuOyB/r7ah/wnqi3zHb25MZHLLMbtzrCKqb5AYWG+ZYcX2aJftXyy3s6vEfR8PHsNv/Fp2v7mCSO6VBf8PHlV+iiK3ur91RZWQeveaxyFv1VJKR/2W9K21af5zTycU9Ff4tHFjIFWgkmeOj0YNvTUXSkYczDURVHZAnoTcqzOWBXVxkWbw3IU6FWbAKmWnD3fCMyRxa3YfWHckNWbbe2ZCEmSDs3RimIc7VlgtzWfAX4Yza0XPjlgvX0WLPUZyJlcsbnQLP1gjLUR0eDf8dRRiOYMGE2KZw1d//HZkZoMfJ1fbRCaPznapTzWEUShWc0hU/mfDgGLmxEKGJWVt9zUJNEIqYzMdlGeW6TdlUoE8i1RWqoYVWlbQSHNlIjZMfnN2goh8S1FORWX1/XhPp3cnP/KH3CJkRDYzjt1jRDY31klz9ntzdn5Yjl4oDoFIkQpoBssoMXp4GjZW6NeFd6xzxn9W5MRkr55kfwo3avlV+Bl4prx2tk9ofJ9orvhy1ZN4s4+ISOZk65WIQednSFwj/NtluH2F0eyDebliI05laatRNXdInT6IxDBU2FJ4vJxyrVaDyTZ3fWdXq+R2+dpHSHhzsmxmJCaFp0iEHsRYtn1xTrODed4Y6rs3R7cXbbR4/xKFv3iIP5WBIAJjswKI+hJWp6JjddB1Iix4Om5iYyln8+JxRLeIGPRUeWVjKqRlKHxY5udpGYl5GlxCnpiGNC9kc29n+aozlKkoH+NDfL/6hzsSZQY5YRcchVURV1j0eCAuh54KZmgyZ9AMd5Pbkld+hVBIdGUCWTRyZiO3ZyCXRhHYhrt6cTJjSP8uYtwGSVW4k3GqiVyUY8mWdt89R4LtaU8CRlQGlPdhRpiuhVl8d8RNFabBJ1B7gRb/iPCVRGdkmGeMmSImQVqjd9P3OBmKaHzBOXMRg2K8huGdVqffiUauiJjQk/MOQ2cHhzFbWY/UWDQniZvxhOHzlxIHOUe0ZWnBZgi6ldT9ZFprk0BZlR/JaQPtmaR4Zzg9Z5cVSOXPljlqOXyLVTCHmQkEVtDClxxBhJ1Bd4Y5eN2ldhayZHLWl+zumRv+l6LFNWxv9olqRkXZz4nde4ndr4msxIaHoJVHopnGOng+XWgnwGRWa4EfZ2mrD5hdD0TCnHgDmHlfjEMpDZfbVpc+/JTxM1l5Gpc6aYNuOplp5HoJbJmguKmlTkoJpidMgXSxOKip8HcckocPrllwjFQ660iji3jeG3U6I4SV6Vn6/neNKZop21orzYibBJjw+qWF4neknGP/nid3SHoJaXWfIWnQyJO+CWnCzIFsIZlVvjaXITdCE1MUzqnU6KnvUYpXgRMjmZm0hKombZaFY1juT5ljJaoFmWPBFEo4fposU1oGYqOFa0ioBCnXczbT+nThApp7/XpvZonOIGgAu3kPcXpAz/mmYGJKgfwZcgMWWwmTj76Yq/1Kc5OJmVpaFTQXznhldaWJbGNJLqFkw/OVj8Jo9EiF1XmKeiynZXCU7cpm1z9qUTBDZkiqmzIU+UmJWjh50/119t2Fk0yU2oM2Z3yY+aqXjFKJpZxauISpnFeoAhmDOkemIuCqk2p54H9ZB1pmbjEpyy1oyAJ6KatC3caqLe+qgBmX5/upifWactZalqyo07yZ/GVaG2VlJYOqYRo4SL+o5QqIr5x5vNya982mn+paOPVrAEC2qbcrBw2RWV1p3KGVIXqmV/d2fMKpWGaKGB4WrClrFVM4NyJ3weS4g4SpZr6ktxunf1ObPi8lwf/9N6BPmug0SCwdF1bRFtVKhvNAt/9/U34RV6ZOarwlqwoLgW2eR3t7qrl/ZGDzdXRVluB3qDKHiBEUVoUAtHUFqKYFm1Fnm18dWPkwWEFdtXmyONRGmYJ6i1aFOiFRdVoBiepKmviNi204qMKtiFSdmv96aBiYa3BLquIOGzrgeJ2Kp8x3WoGOmlJxdB6VV8+zqNppkxv7pUj0ulj2e4k0m5mmi5bBF7U6ek43aFYLS5mOaxGyqQboW4Xgl8pxudchlpq9u4aIZYwtOqWEu6YUqBgBq1wdeD+VWIpPGvQ8t4QduLqSFRiguuqFq8oll3dEh7sia2qdu8UotECcWh2/8kbGsUdvaDhi26f+Bjh+tRrTaoLuJ7auSLPuXDozMHoZirQbNpMtE4Y+45moEVaA8pTydLUslhpPrLsQo2eP+LneyLffKWqMmxOEeqlJ4kZKWpt+U5OILYftzbrCPbmYySriAGg1VHtOaqRNkls7LLkS8ad7lrowb6jcCJrDybgLyIYCvcIy1MoRz3YRSFgw5spRibppTKbLLqMNXbobyLwul7rnCFUOfbgQLIjbxhvGnpwnXYxNmHT1IZxVc8xZ00Pll3JmA0v+JUwkv5pkyVhtHyn+BoagXGnHUKstXStJtCxQxCT4zUURRyeLqXe0srmUpLxjyix4zIx8njx3n/ezjHKbgKCIYut75K5lS6hZjLKoNLS5Gv9z05bLGT7GSVvJEim5Pf1ZDfx8kevBgEm7UYLFlAvLwDmLIeZrezsspszKB9aUfu5Vqiu3q0PCzRa2yf2EN0hcb9c4oRuKn+she2OLfEzIvRZ2UvLHWOXDynK5FcOGujO4ggs3XhaM3XXIvZ7LkImJPkPMHWHLj0OqJac8myTKusCM7mLFcVG3kaLJvKgYTyrMAJOlisy1ku64l2rJ48Y7rfByRiZa+jeqbMfKj73HaRmsn6JbSoqc8PPZxrq8SGrL64vHPd+znD62ytnFGY1nHTedF1K6aT6S3NnJomHVOpXMuRHMuvpXuPHIts24fSWSGUDF1nnpqZ6qzTjnzC/HlQYcV6I7xpndwiu2yosbVPInmP6trQQq2QTrI0REh9qzSlVZ24WxOSeuaQeUVtXN3Vg8qo4vqdBNhOIy3Ukmq9GTrUh3ipZt1TdJu5yTY26FzXdv3OLZbMvfnNfF2zKXx15jjYUsrBGReziO20YtazSdzYioGmfIawkn0XS33ZNajZy8zZDJLZIREQAAAh+QQFCgABACwSABIA3gDoAAAI/wADCBxIsKDBgwgTHhQgQKHDhxAjSpxIsaLFixgzPmSosaPHjyBDihxpkCEAAAZPnhTIkaTLlzBjymQpYGVBlSgDtJzJs6fPnwtrqlR4cifQo0iTejQ5NGHRhkqjSp0alGHLpyWhZqXKtWtPq1YFYi1olGBZr2jTgrQJNivYszTVyp1rkW1Ysm/h6tRKt6/fvQRxIryas+1NAHr/Kp5qVHBQsYXvBkbMd7FlroTNVoZo0/Hlz4yh2oxLsXNT0Khn6vU8MPFAnI5Zp54tcvXp1ptTwjY9mrbvjIZ3TyaaUzfvpmN/K5cYHPZwp8UPHzfterl1wAFk457c2zDk3sK3X/8fvzX7bc3co3s3D965ePLwzX+PDNm4+/SaHVePr/w46d7zaccaU3bxZ6B4tsWWk358FSgfXgfC11KCyC3YVGP0PYhehKitt2FWCmrX3H+7wabXhLlxiJSH7+EV4nl7ZYZdiSamiKKKXTE4WIr1vQZjj88FeCGPOOY45I7E4XcQgBqy595+RfK0HoH3acSaaflFBiWELUZZm2R70fjRlRZmSdOWH2LnpUtM2rfjfmSG5xqTaKq55pjRIaTdmUTOl56O0JUXUZ13punWZuFpdmKDt7U3Z4UsukbompKCKeShSPrY3mSPUmepnYIWqpBRkw6IaJ4+CungqEKtilFyonL/SdpEpuqmp4Vy9hnmkVZSFitETO3I4Fk3IihaiUCaJ+NzU27GYpu/BgUtlXyWRypUhIXn6LG2xsgXsZ9CGy2o3oKY4ZvfYtvqj+J1p+5DT2WLqrjRgguuq5gam+hjTRZLXHNM0isqiv4mBBasnDq7Lk4sKtkjneHeJi/ClKpbMLoUQ3ZviQ1rGh2WeJ1Vq5MZj2vnsOnOuqSvqTYJb5kzQsotySy7aXKoKG/4KIbJvtyjvBrPvBuF4xKc4os8S6uejUL9zCjDTy+tKqo66xqh0bcel7S5huIGMoZQOxzzvtZaXW/KTl5KLk3txavrsitDSza/N2dK4nTnuvixSh1v/0jvnjRvZPadfY9dpaLvHia4zbZljSrcdeNW6dToqtwz3R5b3rLNflNtMrWK6z304Jj7TNF6f/NNuoqgB+k1x6vLypnnrG4dd811Axqqn8DOPOl8IkvN3FuRK7ko5w7J+LuTwXdd+6e/jhio6BnKe7zHF7ssOdrOd3k25KFn6aD1TKeX/bRggstq8do7HjDtmZNLfkSA2sv08ioK7PH7L+Nr+Jb1U9ii8Heg66lMTLdDYKb0J7bdYQ5uwYqSAU+GrARWcIHwQ54DQwXBpnHoWs1iYIuAJrtqPQhOwuMg8YoHwvR5cFBoE5EAfacrd9nNWwRk3cxUpr4RrlCEB6TMtf+YVb7kKewiOUxLB7s2xO2Bb30+ahYRb0jFtfXuN81antz2Zhf05Yo0hdvgFcMnuyQqJYuxu1yyGOTFJyUujCUcXrdUiMWj4Y44NjSYugAHuAh2C4C86pyA7ugb2wAyj5lqnXQ858fQHTJvd4NRydQCx/MR8o8rDJq56EUlMy7SXYOcpGIqmbiEmS4vpqQeq8Imkn0pEnhpTIv/ejgRGQGRjCPz5HNMtUW2ZZAuszzi6YT2y1uJLXsd8c/rjLmr1ECMT8i8XZLiGETXaU58MONa2vTYwJX15Zk4LKVDAHe5CW6Kmq8DmTbJSUH93RIoEexl75L2ROi4bWr8k52CTDj/tzTth5aY8aA8BUfPHc7unjQbJM4qxM/DlfFtwuwKlYI5RW+Wa5vMBNSLxBjJP1XwYI0KpBWrJpWJQpKC1zzhXdipTBLKEIpxopGW1mU87nFzpF+hKRlRidFFNlE3JMzXKw9TOJc+zqBqNCIldeo6nvJRdd0bSx/vMtSETW6b4MxnLWPJk9GNRXlIvWlKU2qX5vUUdUdFnJmwBz3M5VGXr6rRV2mYVDqK1ZER450Jy5mua7VNiGazXTSBkktxHpOYStIWjK461W6SVHso0h2/BnuUwpJVYoiNn2LBiUH0OdZYfPWl/x4LVyQuDHZdyxVA1yjTTvFqfImTLJ62Slkp/512dKl142qbJNNL7i9DsO0oTi9yS8OUNq4OsmxPede47elVj3PDmuGegkiaPdKEu0WKRjEr3Joys6H6M2nZiuXVFFrXbDmTH1dJIkoHgs28dTXiOy/6MIdqTrbeKyqRjvuyOgF0ZNYc3nzRqjYH4ldz+oWibXkoTldF862GdaJQMPTTu7ZwcXpkimtvOd+KFKxgDo5wsoo1QKvAClb/tCkpnyfKfk4PnjWMzFQbSeP77fdTy6uU2yrcYXQGWCYoFC0jTby06qo1wxEd5ioBy+NiKnWcTgZOEZtb1iS77pxDnWt8pVzPz354XT1kZ0euR+WZivGcThskeaM8zC7Hr/9s2Awzu2Aywci68VDBO6eYxyg4VmrQohg+rPnW6+EigvG0CM7kmx+050DLF6rShDIMkfde/vbKcQqWMCvx1sQeTvC5IG10i1wp0DnLZYucnGEnieln7Hja0IsOtakXyktcsdknIRzShfVGolTyLtX+XOms1VtcIg9ayE7jaExyXeUjrxVuJ2aohft6rPAqrNiNZCXoKJrTtQr3WcA96TQHukwuORXSI46w/9yV52HjOl15TG9FRzs9cvtyvMKO9mMr2tSIiRrG9IM0va/6Xoht99DCQreSfZjwztn13QGXqrhxCmKHgg6sKV21aYPd8Hal1XsuieCXCRo7Ekfthlv/8uvEHQ1URmVc3bfWiMjFmeJJmdzLNs30zDcOnYIm8lQAzy+YWt3sUa/cInmBI8RUztOI10iMFCa0HIVeaZfTF6XDbXPSTefsXTX9oE9HZ9Qh3s68bReFwC5NzFkraGVZPZKtxuRn6dxgkZ49xmmn1dp5y0Xh6dvjuJ3ee4PerdT9WNIgTzyDlf5xVO9Nk9vMXqelLuWMwg/NEjGyj+309e96HNMtk3hwHzrWqTy1vuoEvIwJ+eo5tnL1FNuozEUcldMzWtqCXP1uLckm2BNS9pXPOt3xOGRl93urifYvVU+lTLEFPoiStfSk7Vn8zR9/6vajLcybv+jnlz3EaLG5/409artgc5bPVuT+4ctGpiqWtOTj/235fXh+R5fZ3jdVpGdrD79cPzxwzqV4gBZrpNNIz6VAAIhs6Kdd/edC51dwS1NhXEeAW/U+fxVToORuwldZl1c96GV24TZufjckM2YxpAMypMZXedFjMmF4rvaB1RQzIph7CihUbWV5BSaDIfMWLMheThY8KdZreKV9+9QyRrNmACNJF5R1UsQVIgSEECWE/DZPOoVlJoiE+aaEKWhEEugV8QRYMHRzl7ZIz1VTGvaBpiJeVpSElRNQnpJyy1d6AWczT1Vl7fVbiPNFVVFtQyZ9XIhjaNOFl5Voi8dqtqaCOYd4I3Ngv+UqPf/IZYC4b2toR4TIecL2a7gXgHIYOosoUvYhWY8YV8+DXVGoSk+WZn1XaPnidHQoPNDmOaFYEakmXUFoipnWRam4cF3XP/OSiWt2eLGoi3dFfPR2bEYYh58EX1OHUHvVPheFf7nyb0tRirxYjGxFRJYEYAvHjFeHPvVkgSSogSORRAgYg3Gng7k3eMzjQklXam4jbztYYa8WjKrYK9FldecIPvOjWarTQitoa7LWjIgjj8JkgDNhbYI4gFoDa5jUamZFGCAFehPjW88Wf67Xgr/UhBO4kO53jA4JdDETkZE2kSk2cG1FjxjRXJIIPueIcGRUaK6ljrbEXYlXkjDjh5n/FmAjpz0t+YIXqXXEJ5OGyHGlozTJtmwgKYUvaVHeR5SfJoAxyEwYl3kfh0luFhJmpZTrF3phZ1dPuYnzN29H95PNJT0LloDTtYSbJFLSBXmraImW54hMFlZd93VapHDjyIfx1lsNqIeHNnZ7SJSFZ3dzGV9olJC86IeCxXwyJYtVGZiW2H7r6JLThy47N4m3clUh93bkwpcxV387yGCSqW2015HQ5EHRZEg3RlgZSW3pJpBUuWN4d4jNNHvt5m2YCZlSYW1HBmF3KZu8yFwvlJL+VmTK+HI4+WSkmZN8h3yRFmxwWCoeyIaz85dbd42qwYeUlZXO2JEvpYl/6JjW/xlUiHeEitaTm7lu5lWWyNiWUFmUHcecwfkS+whkqJmUcGlRxvVGkSiMS8ZyYDd8k9kTe2ZneeeTXBJAuRVw1DmHWOWJ7/korMmbu3KgkseHlNmZToZQ0qhMjFiLnmdbB5pYXfmC7AZrBgmg5GdjWyiJIWqLOTWi/PiR9wae5hdzG+ZbsqZ5tdWdFbp39pmH/chUF6WGtMifMJGB+5l6u8aSbEmkEkVtUKNIS3pnRYqkL6Gky8ekromO8aNyKAmJpoVWXwiaGQpTwwZ+MGqM3uWjW5ZTOXaelKF+uQmHZaifiVhVA9qm7gSkIMGdlRmPgciZ4klBD2ls+Ylv1ghF7v9JeJszdXg2qFt5SoxyqJf5cnyyqPlnglShjpXIU0cKoA/Wi2DKMotpmjZKf+L4E56qXqdpnWBZkJRIVPAGaacKn6H5QFDqFyaJc5qJdVomdPsHartaep2nUugpSxPXqrtIely5k7iZJrU2rHt4qMmKFmk4YYxJXB04i9p6hk12lNKYEdfqFdkae6u6lewEUuzqQrsUbmFKfckZEt54iWT4nqepknXKqRRHl7cnnwP4F/XqpJpnmSd5nAi6n2iKg8P4Yn4hhlrlU13qUU7nWmS5pbbmmVhZmlEBsb3oOLtGsWBnsUtZpfiklrO3ie8HiVXWZGoKq6r3jotFc4jGd5r/emTzOo0sO1MumzeT10SjM1RfplhtGoYci624M3mVWHRC2DEmV6bwWiWO9y80O5Vhaa5JK6muqlJAa2aTZYItpZchBXqZWbV0hXVzIT1xKkO7l6cGBY7JJXAOlY/4iYp9obaxJLT9KZif96hqs49zQ7c/iYuXcY9t+HMoV6kY6reniJ0FOpxEc3WLYbi6+bWJm0qSGaiwdKfadFlM+7BVmKZgaJtJNpEtu7jEh7gbaIV32Kmh26dwRHJ2hUDn1qf716Ns53WU123eArf2laAVxKEzS6yHOpg3G5tjSRdG47uPSzluR57dJbkqZbzJq3fHW7gnFVNvSSMT2XKpG0Uo/3qdlRiUu4u09xVSSxc1mza3FNlTJeOP7mp9e6ocelo1CAi1EqeTVoaHuTqK1Uok5boY9asvS4i/LIN545uMb3m4gkq+y2FSqjWoUwmbtuu10TuFsYu88XpGt6VbEny2FPxL8Ai9x9is5Pq7vwF824Oummt0CJxQCPum3ZOpeNkfFZK+LLyALvx4yViwjAuwNNy6n5GijDtzTzix9yqEnwvEW6u/8UHEfEW46Ncxneg0dtqwgLqBtNGuNRiA0bea+HpWgVWs+pRNEkRkBnpUJISYiQplPryWjpZ67HNmS5iBb3hjRYimCElkJ6qyFeM+Y5tOFqJfeXxTjxuQAZizzv8EM5v1WjS5tAApq27Jj1M4x5yYsZgcvV04kxSDha1YySZje5xrs4EMedtmcTEEi5k8vzcjysv1qPuyLQpIuVrJlUhTvoV0cjs8ye+6ZxeYrj8qsvm0wUOsy9A3yLPqYleGsn2GvplYXzfTjtLKvuL6yPwbWkv5y9pcooQjvt/3sdMrxp/IwwuKS3XMl4qcy7kLSLfoe4mJugEaxkXzttXrowXly3LLYdZsyUnolxq8z86IeVDML8RsIP1spdZbJVmcuzU6fQWNI/WaTOyyrmebzpET0faoymk3epacpCGlsFQJ0tCMV2zUvkzc0d03unWCUEmTTxenrTyH0hP4nwy697UUDZGJeMsyrXYwVF1kRsYN1YU6vdNq98ImB04/u7/szMpEPZ/YbGdwZixt66AB3NSql1TZ17C1fLkBa9UYVshMdIO5ecRR5adNrYZ3SmBxZKmzSrZePUyxPLPzt1tL/MOL9tbIZdbmhqjOSWt6jdfj+mQi2ddl/NAovZMzialut7EZjNcYprT/OtYmrXUWPccZ6HoPiMuOfZDGidmPWdmbTa++db2hDRolQ9ql/cSandqgAdoaERAAACH5BAUKAAEALBAAEgDiAOoAAAj/AAMIHEiwoMGDCBMeFCBAIEOHAgAAYPhQocWLGDNq3Mixo8ePIEMGqEgy4kSKIlOqXMmypcuVFTfGfEmzps2bOA3OzLgzp8+fQIMubBhAIkSeKIUqXcqUZUWjI4lepCi1qdWrWIcKlMgVwNaTT7t6zUq2bNawXb9S/ZrWrNu3OXuyHbt2oNixCOXC3cs3od62dedCzVu1r+HDBSXO7BlWMN3CiCNLLnqSIGOiUO8encx578zBA8PqlQm5s2mgn/GGxlxZ5OjTsFsGjmqZ9dzNBBWX1hq7t+ykuGlTvi08d+upu30rd5o8KtTUr5dLR92c4fOquqdrp14bOeHuvINv/x9vcXFz8avB66wanbz0ksGpWletsH179+7hF49KFXT98/vhR157/gWIUYFfKZSdX8AJ2BeB9Bl4EYLDJbQgYfc52NRlxHGoUVvGIXdhYhFqWJaHgEGWIXEhlmfSXyWauJR5H82GXkfyqcgeUfMtuKKMMO1YY4M3cpTjeuD12NqPQIZEY3oF9dTVj0xWCB6IwkEHYJMgPYmelFxRuSWJSFIGmn5qjcllShRmNKWQBrZZoWisNcbbfEWuyZKcE4YJJ5gKPpbmoFZGyaNJeerpGmspBnpXlephVNKb3kGpqEpocZXoXSPiqGaWJnUanoSXWoTllYIO1daZdVanY6QtUv8656elmqopb9cRtqpqdP5XZpGZ+ZkgqbV2VGCGx4Z6K5avAWqoQZpJeiiaxSKUrJsRKhksq76S+SyJpzIIEbXVQpuqrKnluhqW3FoqLqiRgiZruSKpiy52t5rHLq9wdkttasaJSq+xYrEIZbh9YtvueiWly6+5gQ5sV8FmZstojBEfeGuRdc3GLGRy8qnothTD6u2vXRL5ra7CuqgbucWSHO5rFEJqaLOuzsvgy4dK7Ni4SekLVo7yEWwjvKO2SNqwPld8Xcc78ky0yn0eDTOwGL8r8qVTz2ZzwFkrCbGBePLnqtG0ath1g19PLKfY3l729NkcCTwwmB6iHO1HrGb/WFew3xHbdJzHuRtvyR71PebfY9Xc8+DWtnYv4N/SHOHb+AYe3Jv9qYYw5JRlOmnjFm96ediZj+pwjvJuDDrQSe52tMllgx24fv9eLDLcbTvo9eMM011bgZ/j/viTe++cb9omeulioihHLqqdyHPqmMhbK+q8v59COL1t+2W6a/KRQ1575QBebavSN8sOMumtUxht7+OdH3ulVbaOoftj7ys/xfSbTucoZ7fo1ct16lsP5o7kNNfRa4CkI1SlVvIx6K0LdQzkVNZqJTMAus9y9tHd6fQHqv8Nz3qCsyB5OtiooYAwfSI0FwlHV74Lzg+Gesoe9caks+0VCm4dApD//8TiMJMBSYfgQ1bL4vO+E8YvVY7yHKeKaDi1KetLQXMVDWc1u4lFkWSac44Dw5c6AxosNrzTUQLNBhHKMbCG0lvWGJk4s34VyogV64zlFtS6LkbRj6Ry3tw8lTDhqCuMBXTLHiUnRUDGEZB6EeRjqgShzRxyVIkkixJ1wzmqTUw/OjMgnWwWLBhlTH15Q8wmT9LJF1pyiUkz5ND4RjpTWihVkXwVbAaZRy9WkYmpVGLnwBbCCd4JeBri5b7waJ5g8nBoTyzm8961xuXATINnrNAl52a8sRFyNbmTGqJc5LxcZk+TyLwe/E43LICZrZsnM9KOwjk0+7nQjubc4Il0yf80cl7Rho85pxgF6shYplKgsDvIJbFyUH0C7WMpIug/kUJJfroLoWxUKBTPks5b8jKfoUyh2xxKKiSCdJYry6jByHeVao40oSf9nsJIakvknNRq88TXEzH6kyeJD4FqpIjjQnKdPiLzY71SqSy9iTQgXpSkQfGpCBcGTqHGqG1FbeRRgZrU3/Wzn8arI/v2Qjx2oq9bt2vVz6raTPBlVYK9DFwLN2O8TB2mrEylq/COSajkvTGjbhzniD73ykvCk3E8nZFOH7a+lP61TGBM3DrxuNbH/hKTiHvQYinry0hZFlXZxJbBFslN/kkLbImtCeZsp1QVarSLI7rmuSiW2oz/5m5/bdRg4ayy2pe2VqSRg23hZFtYOTopi0zE7UCnyDyfzIdalKvN1L46K5S5UmNIzO21yDatGPoypAFclI9Sl6zp3rG6jm1OJn2Lv4lCyUOIdR3JUhlVO0ZxbLf91kLfK8R1pqighA0dDntps/AihbOsbVF+QRvIjvYPhZ8FV9bWa1fgxjInEqUuBQvHUrkaN66drdgwPYrSMkHNgu78SYbPu2GHZbeXkWVfJ0Pmp1zC1MEprS3BXqlgthVNwglNrixDClYcN5Spfh0wKi0aFHtJMcjvfB8vhfzTmiJNlGUMcZLbyzEmX8XJwYujTR+3Xu1CVSMNU5Ytf6QuaWIF/8ztE7M/X+k39wbpobDs8UbaPGCl2NhlqENt6SzMYDlXipNj/DOCfztWFtNE0cpDawNNnDY7GXqaiN4ulsecsUb3VM1BdaaZSYji3QR4V9L1sZLC29ZCRjguoA6eqJdLapHCiMbRjXKqieyRVjf21c61M4ljFUFfmvfAI41v8t604jhGdLiLa25NnHrf7xa7nURbWrKTolspIlrbzl5ebKPN0Pcd9p+WhjFQOQtP9OQ6wGa8pQF5BswG6bjX5j7eoVr4xNHa96xkfHCCT/uhQRvnxGzN8qex+Vpkpruso+P1UB0dREr/p8Ia1mjs0lxuhpsrv7UmlLZ2G+JCa3S/a/+Mr6c1zl+Ow+W/sa5qP2X1P16bLMn29KwnMR7nKFdQ3ldeCsx7yG1vMzLcbh6p4noLZVQ5Ls1OtZxe61tralubmKatbcSZW+8Yn3x5OA1uEx1tYDSPs8ife3eeD3ZmSnc7d2U7tQfD3nCBXxgoXh/5xfGpsolT1LtMTbezchv3q6p3sjIn9J4QP2oM8n3wKeX0pFnO4yqy6ttkP7y/XfoSeJu98ic0Zhgf+UFPdpmBUv/h2Kna5DniG/QXFP3dsb4/nNUeuUBnvTYZ6+ezXzZRUh094aIF3mdiW2gH9z3dsf1gm+PEnrZ/19QNKmXarl2Jx4+aVhWnt40O61HSxpT/vqdfQ0h7qtZvrVtmKf7b87kcrjIkeX2nv8b9upZlMg5o2ye/8qaLceP4skhlZxZU5EOItFGrpkvOYoD/Fzdjh0XFNYD7xFoM2H10dH0dZVjug1eEQztktnZKYX8iplZkZHUDJ2kul0hwM3HuJDcxInGG92bet20il1Ny92J6lVQsk2v3Y2w6UnPyl3noRGMg53pd5FW2Ql+5p1uN9lyf8myCdm8vkXOf5HAXo1xh9ntVGG/Nh0LU5YR7Jm5G53kEaHo55nqeB2lIiEUstDwZh2w6J2j+V4Z1doLsJX3pVU4/6F8e9IYEF4dKN0nhFyRiFYhuhzhkeF4pxl3jRXyu/ydaZJQsmoaHVJdoi7VdeneHnfZUHtiI1ldbGiiJBkeJQvdh3RZY+OVj0xcuIph/PAd/WshM9haEfYFqDeSI7iaIPfiK6LWJfDRGdlOH95R8k3E0jsiDhtJCDKh7YjdTFbcowriJVmGMn3htquKGAUd5FlZm6taKZheNQDeN3RV/44M6MLd3oTVn07RWO/iCj6iI3TOIKeN/DBdgaYQzvCh5ktZhAHVpeaV4EqhivBeL6whi7CNVrCNfXvh1q7NVuRaQZaF7bUNFgfcnRDNEN8hhLUNFzKhIqZOP1PdnoMRYa8hdcqhu1QaIdAY+8ddln6ZnBkmKRzh+qgdlPuRiiP+Ha6NYPelGgaYFa5JWSBfIhQ0ENaVkUWIilJHHcgkoi+RnE9EHiUO5lIJmlLWElPGolIuWVeOWVvd3QKXFfCUYal7WbY2WiNEnXO1SeP9IdE2IYy0BcztUb7JWlkxYcjEpfAB4aVvEgbTHiQCHYRP2jtiSS4VXVjs1QrhkhTdHRJ7kZHPDivwCkVL5dWwShCMmmYnZkk3Fd+RYYg4YRFbHfU3hfPj4Is21gvq3bIYHXdBWSBhVRz8XRpRJg6S4a7QIaIHlcZnnmhV4deonih0pZDdhgkr1PWDoW1bmRApJlHx2aAv5lYtYj/uXEsbpMSTXOQVoaobHms65mNDJUkn/qWUoJIX45neAZYlYM5ITB4SEJ1iEWVUkxI/t9nVvh3uwhp4qF5gkwp4x6GjPdpg0ZVXEVjw0GW4ahHAv2XLcKVC8eUNK+Zt+OIUqc2vY+JUUupeWWXCsOVfhmI3S+HwV2qAXqnjTporxhEVgonadlI7aVpIDh54weVxKWJwo+pZZyFqJuZ/HZZMkunJrJo/Lh3egmVubth8Z2W+L8pU7+m/qhBTDWYo4NYlPmaRGZ51wqY3gh0e8+R9RWm5b56ERulkoyX/qGJQbijVRqIvKYZUQWnCHE1kd9Heyx5lqGohTphxpN5jbNJjZtKUs91HaJ5YP+YGVt2QSmhV7Wm2L/9iFn2lLghp66FWoh5pERnajHimaMCSb69cnVIqkgTZkijmffdibqSmPPUpgZmhmCtSptvKpjQpwmtmck9eTifdNhyF4yvJsxziDR1pgBHpZkMmnrso9xciStCaGvVpqFodv7sedxfVF8dmsbxFTT4ZZ/KhzERZyJTStt5qit5ibBYVO7citmxOdqpNtWjpoxomF4JqgWoSqiiVnEqlww9iL9nmty3SG/1iZ4KZKP1qT/KqO3uidIDaJfql+QxIZkOpBMoWX4ZYmPON5ZjlseEiFCwuwNXRDDzuhhihgExufFeuP6WWeGKqoMxilK6p/FZmCFrOAP7YrFaWXaWqipf+Yi+xWfUYaT1Bjq9QINBXGjU6JXQPpG5uZrF0KrjiJPe/Ib2dWYeZ1itVpGEc7ckmLo3iqTxkJe+EpiMqGrpq1se5op+GKZ/D6fWALsX+otGTqtGhardAKoIq5pmbLdbuXrez3tvCoo9jIdIjhjT8rrMAoR7/YrzZ7pFxaqvQ4tUwBuH1XtJrYjUcHrieLuILroYEbGdy4snAUk7YIk0mXaj0onf9EVc73Fpurs+uKmNYolqH7rQsmLZ8LqkLrkRDCo2z7UyT7mc24tgmbagxYmzZ6u0VnQj3HjxTrqql7lq2JqYtWhiiIlczpqYz7sVpyiL8rYJ0rvNxxsdLbj6//Wr2VFYAKKGwQF7eVaxgI52uSNBepZ7iMI6nPG66syzW4x752NF+ap42iq3qfiqCDa7K9YZh9Vnewm1NjGn3tkrSZqLe+QcB1uoUH3L+bCEnI+lPCGZ/cq7kavKogyl/RanYIC7nsqFTj6h5p6ME3SZOJuLOHk7hIhcDa4VIM/L3nA4VaqIaqtsP9x0W+Z01Z+qRLKVVK+qx662tAK8N+GJniq77K95ih2pWSO78wAjO/ybEWU7t69MTLqV+vOcUEuZ4ddcUOm8W5KUD5+8WcilUoZVkYa1sBW173K6+5msbVI4ps3LMjukA4NrtJ/JTNo0sLPKDYiZ0a6JXgy1lW/6onKMJYJjWLhoyApiU0/xu5J0kv9MYc5yqSYyzILeO3ODm/DpLJdwaqnAyBXly43nvJh9um/4aM8XYZeqiCGQh2dFwsPgTLVMldsyyutZynrxOGxhsoUZmElfa9WhfETbKoxuzA/XnM1oWs37TBnDGrxbxewKw1L7tX8hvMdmia5OtqHsy1jHZZb/w6UwOorYpnSOwuBXXKDBpCWiwj6eyY+Gc24+ZMr/uUULepZ3w3wsac40nBYby2YzbPtdKuyzXQ35q+RBk8CF0u2Mmq6mdeLlVJn+fN3/iRAW3MqKfMGA2HGj0kGPzFWslXajtzk6nMI42O4ZqoHuuavrjSDtPd0rCoM8O8txbbv4lFzTlEcjg9tni5SFnY07f8QPuWm2KayEBmybqWw0ftM6ND1A22p0palzlr0y/6hAq5dDXG0awcoj6tPSx9hzHcoj4Y1h9a0zYNfT9Gt4D5O/vJzLGq1SK8zSs7mz4MvFeYl/gqwHZ9rsQRqWXLdh+NNYAd2BZYpgjHm6M0x7ur2IuX1e68q95KMIkt2QJLm9qHt0R12Zr9aDxszlF9wqHtEnLtpK3s0qdto2Lb2vQct5kN26ahg7TNJbZ924wc1bpd27ztEwEBACH5BAUKAAEALA4AEADmAOwAAAj/AAMIHEiwoMGDCBMmFMBQAEKGCiNKnEixosWLGDNq3MjxYUOPHUOKHEmypMmTBgEAMAgxgEqUMGPKnEmz4suCLW/W3Mmzp8+JLQnqLKiy6MqfSJMqRRl04FChRo8unUq1qsWGH50eVZkzalOrYMMqxdr0JleHLr2iFcu2Lc2zCI0qlBvgq9u7eDXCPUg3blGBdvMKHgwYbWCifxcKGPqUsGO8LQ9DbUyQIWOpjzM/bopVIF3Oa+uipay5NFvQXW+Crjwas+nXPCVHtLy1duHCq2Hr3ilbIW3PtkXjDt17t3GOtKMm9h1aNdnbB38fnx4yuXLX0ZsfJWs4NGvS1MPb/1yulfVczNIPdxXP/mLf8gNlD03vPX7r9vgVAwduNipL7Z8RVx9U+RWI031p9fcedPwllptfBkYY0XXk/ZcSAMWBl52E7VGooV17nXfVgBxC1h1r3O0n3IQYnrhiZN3BaKF9JQomo30ppsVgQnvd6GNWdj1Yo1XW7ZjjZNgx11laqJE4o3lDVlXkisOBWOFszzEpYHE7dhllUlMW5tyFRi0ppHTQBUjggRJx+aVJYYo2JmJlAingd+i1NqeKUDL3Zk3vNaYegmIW5eaO8+nZ4o0L0vgnSoFiNyifchrq5IbwpWkpo1d6+WhHaGaU26GYtkkomzrSmeSnG4WK0aiXmv9K0XqYNtYoqxXRdqOXIWIJYav1kYqidp7iml2PdyLm5mEayorqq1mpKOyjvS4JHX3XBhvrsZ1qNee0tPZqLF8tDgslti9qC+2t3m7n4ogqijuuflpZmy6Mu6JaZ7bv5fjttms22Oy8fWoJK77v6mspv+T5626xvwq8KsF+HshuwUYutvCzCT7cMYVBJuvRtOOGfLGjBVsXMpKaelgux7LZS3GmvqaKMczRompvoso1mPG5JJIc5cCaPlmqaJMiTax9PXf8s6NJz2wuplgF6OqKzn2Ys9VZNV31xIhdKPWBSX/t3NW0Xj21z0qn5mBDRNtM89j/ua1gnhI3XSyneWP/19+My55KN46K3g2ly4mChHVtesMnaMIVx/1pWYj3G2PhYAMtX7eNQ4zz4JRXnrjSEs96+XmkdU5lzZ4TbDdmcYcKa93bjo7kvhwrPnjL5MWuccqQk87izSCry/rurbvn3+oyz0311rBvHDDUOSMvtF9qEh4xvTtHL+/jwyHP8urDFV8opWKTT65E2bPv96rXc9g+4eZXin7Y6qePusfu65+7sa+LGYBeRiawkeZ105McyrgHsCgF8FKhI6CqRFSr5VFKgcnLl/guEifw0atKGmvUv0ylwQ9uMFchjJ7RjMYd1Y0QSyXUHauElD4Pak0vEqyhx6w0voqtsEY0xJ8N/8EmNHmt6YUJ7NbNkleiQVmObYnKl9toN6xe2UpSDdTV72gWv+M4sWGKopSZktUoe32Ncv5jYqVCZTsHJiuCBYxUEpt2Fi0mz4OAayCirmRH/MyuXXHsnQrbRZc6aiyG+FtiuuAFSIvlcDpodNTfUmU4g2GujEHLZPMOtygByQuRUgwebCJZNEoGp5Cd7Bse/wfCyKWSaY8EZcIQaSORZSeCB3xjfVCpSCoqpiswMiSekqhIDN4liGv7GPx0WUAxZrF6ZGtNMF95Ppq1cXqmOVuWiqW6XxUHmCSaZJM0IkBsys9dR8qfMimyJ3oZ0ZQZE1o5nSehK1rkicqkoyCB1v9LdXInZC3MXD5XVS09tsWe4xld5djmzKfJcFjN++cW98euglLnmv/jofoi9a9VIslsb8PeMgt1tyW1M3yvwejNNGqly3QUiyIF6UkbmUdUCjNVADUomFJYzeZd0aKLXBxJJUgqlS0NWT1cICnh6TRH/nApU6KPRj/KzKBmTXrq9Aju4vUyOH7Omqfk40QXaJXGXUakdVrZRvl3tL3xNJpT81p3ZjpUCqE0W24x6yADeVN+4m+eiozTXYUn155mcqHCw2tbjPpQcl3VcmdtF2hy6bBcijA4hiVeWPfoSyKlMGo8elvj2Og9oo4Vol3rlmCZmlmyMrWdj+tiTM4EwUv/aQif2gRq2sLY1o1A1kP7W2pYaOvD9YVWoeg8ZFXnxC7ZMrRSdj2uBI1JFYSmTqAIbBvc2Iqw+TnrnsCF7l4T2VvBWJeg2MUcCNGVragadFouG6o579fPvIp1q+ssb1M5OT15hvORvEPud/Vr3vtitZvqxOQF8Saq/yZttIIjcFbBwizunm6gLBxgX7VnVQDD8p2kze7t3mZGaNISKRV+mkmvk+ERR9ROmhIgfodZL/Wqimvj1JlOmbK0NP6Pl3CVm7R2id7AYXKMIzNeJUtpqpPJRLj0dC2Q4/o+XhX5mUeG8S2VzDgG+87JB/UYmBd8Q/WFcpPMM3Ftf3qlSdJ3/63UnQpzlUjek5XwzNCMp/G0+r7LLrixY57tjm26vNzo87mK/ZHpStjOUPJuRi7dp3F3ihFCzy+7S6Zeop/JaAurmLf8JeR45zsWIuuQsnkW9XXBK1GobI7U/rNsmy2YrkDTZKqOU+02HUtrWJOr1TWm4JtjvczL4nO1PUHYmnDZ1R1z9alBBaw7NxbFVOMOyg3SKF1nomz4MPvEFPSopif8TUXRqpW8ztd1vxcc58KJyAje3q/AvGEQxk2vfnXfuW/s4aR6lq8C9TVXB1Zv7d6b1qNz017WjVWRUiWnavv1M/vmvjZuGzmn7e3mMMnRfnNbW19jp8c5GW+aru7iwP8amFrRisWOu5uRe9w3J4sK6gkjuqnzXDFF2Qpp9Oo1ey9HYcEWPlItMRKf+2smuS9820LX9s3RLV1Qhzvo8eI636EdMporTmc7p/bmqmQxK0tdaaub+nn9w+muwXsyr4eLc6ITd7L/W8w84XnYNsc53RV2RKx2esTNzbi8yT7pBNt9ll83ocMN3/O+6/bsYeezyMPCMzBC26dE3DOwoI2nai9+2Z7coS3B7pPKY3RQV8+os1XfZDBWGKGTFb1m43wSZCZWvNferiG7p7VI5nil8G73W3NZXLWWfO6BzZl1cm/UdLp9ab93bUuFP+WxO1SSvZZzs4v77Nsj1bhn3Jb/FiPOtrcz3Mf2Fn7SwfJ9QAufcojM7cjXuN31m9/nVd6ydFBu69icSuYnN2ur1jFIxmHdBmJbgiAPln9Konu1UWFBVx3/F2Fe5W+5dlM5doAelmPbBoAqRxaoBIGrNxK7FXhzhH+mc3mj90u1BVqgVTzENXUopoBvZTSR9nnH41b1xWFJJkMveB0l5lcR2BFX5YNn52hCp3YDt4ETd3vFR4NK12KutRRFeDQshXhHJ2ZdBloVs3VfNVMmqFQj+HEk1GNKOHZyx2s2SGd7tErwt2ZFF4SLJX7QA3rQloZRuEBgVoFi6GpwqDhyWFaPtG2FhX1PcxkZkhhplUkDxllT/8iDOiZt1TWIPCdqh+hpcvNO47OIjfVDSyVAZZNqasQb/6VNMbWCEJdq6AKDCQhz9sOCwNdQcBZw/rd4aIZfK0c4aLaKQKh8omiFggeJxsdg03caCVNm3fdpzOeLnTU8QgYUWnYe/oVu/Xdrx5h5fQc8Q4UwQeSF2chB0Rha06hdpJcUROeNi1Nw2TNj1geNXohErLdfE+RPdDiJ4FRu2QZN69hw7ViGryaDsSiP48OFErYTSDcRnsdvTGZ0j4iPaZZ2suh4AjhqOagUBwmRTphf+wZUnDdud2R2pzaRAtePPBFdNEdjLjZX2TeAeXhViehLw0iItMgWJvleoRdI0//kZ4WXVC5ZO1h0Z7yVYqUxSW5Gf1+Eais2RIpDlE5HftDYjA2YPqFojpslN+N3WLpWWTD1jKV0N/KHcVAJi3/FiHlXe8Fois64hP9BaGspdsRWiF6Cjv8YioFIP/wIExGHlsJmSo/Dlo6EYJF2aSBXj1lHj+gWlw44hGXnXc8YmC1neX/5gINZjCx4cDpXkI/IcoqZUCFFXmRmYKc3fLG0dgIZTZaZeB25gyk5dyImlm14YGwoYQuIUn7pSihXTde3idn3ZKm1h8woanyYgopniISliLE5RXknOysIRbtZE3dnZsEDK8eXZghli8EnR2oojEfoIs7HgD7xnGqVizn/eZw36ZnzOH3YmYd1OWTtVYfm2RMf2JbV1iRe2I3LqSqv0x/gNpZYdyFatHtm+BPxGZmohVrSJp4+SXT6tJ926JESdxYAOpJ4aVskplxSp3VVNWDdhVnRRpaD1Vghp5CvsXHJpaCSJoeBozlblHCilGYOWUV9FptuQaJw6YxFtJUk6pSvJ3tb1nmlhXcYSYo7x5jetHoelKPByE2diXqhd4NcOR471XHVh3kKFHsDWIDth5mF8p/FVqFf1mUS+m5SapzJVI7AWFHJFWMtqkZcGnHu5ZQ0lp7fKZoJaWi0Fp57Z2VGiG/PgyzYBku4WWN9xI4/MSWWg4QQlkfbk3oZ/8OnNdVsf2pYVxR++UiTFbqXakmSrUcqhTipZImc6OiG5naf8HmphSmRqQmNmshrc+afnxqUv3g/dsqR2sd/focgtGeYnOmKp8ie0PlcuwWktVqJVBVquUqQ6yecwQWFvyqPwfqkD7dFl/mGL5qZ72mtFCdU4AiP58WcvhOtaAlb1DScCoeNLNKpMwmoMtitTRVom4lx2eVuEPo+P7Jvb/iW2+c8J7ZKtdmuMjqD8TqGfuip7RmRDHmC6oajFLqGmdavnvWP1weAUshyhBZQ6LlMdmqEExtlM/qLbZSxx0Ojy7OIfTRiPUicG5ub0JoXORWxYyiUkUecBTh00bN/kP+prNKVq8gXZDFITnk6UAImPLmIiCt6s095rv9aS9DSoMyxj+hnlE8XZI3njk1YjXO4tN5Gh057rVfJfRm5kFF5tFYriKPIMUUJiAladJN3rSrqOSmKrWJxmyZ0tmiHtJ14qhxLPSf2tmULVYTZoM/6tPPGj4wlXYqFta2qXWgjsHPaiGcYuGxrXOxYuNbZtzJLgwGVqtmEifHzYhepLC1ImhwxgET6isfRaGtKtfLJYH4BiqLrW+hVfli5G33JobmIqRXpVoFje8FZnKhruZbalgarRlXqoVILQ/fZu0nJuYxbqFUXWamKgGEbkP5TuDvquCEYq2IBX5IWvUw4vdL/97PWW4rppXQFp7RoSKYuqlzIMqB4mkGjOpA1yCLAJqyboXm6qWfzOk3O8r7JGb+NhGwS153UEUHdU0olNk0Se7AOChz/iIfktZ4fpraDYcDuuVsZaKFP+knBs6p0W67JdJQU/BjRBWQL7Ezdpo36p71/5In6+JMDpLl3UcLqe8JWaScImmRymaGql3q8t5WwYWxiV32IWaAPmZ0+a8NhirunO5H69MGalyO2N7YcdnAhobODgV+AuSlae6LS5J6P1o5eZ04pTIDNG2ZW1JyciCXYeY9miJz9NMb6emGVih9Iib/55ZgnmIe+psfAeKMGcsc/dGiWCFZsNngnSHyQ/whe9QTDnIqxY2UyYMSS2Bd1edyc3UnFmhFb2ktqIYqYvzV4+SlIlgbJzPYn01k+RZe41+eVrIuQxonF9lsgqaw0iszKR7yEKmW4pYlDXzLKWzqBSgp0FzbK7tubg5ROYXy34gHM9CeLO/pCWBpeXYjMoPdiZvqujvHJkUuxzLuRGxMnMQhOKPWO6Zof3LzEqvbNp5J7B/lHfkrHO+lGDEq1oJq2N9dB9Bqd/KzNoxSO8GrNeeew4mVOWXq4iyw1JVuWpnut4srIWSuBGgtAGsymZxm7AQjRvgqWwDg53Ll64/vOOwZSF9rAYnvOEaJoDebORgsuDljSCC2csnxOiv+8gwftrA1kSKoTfa7kz8YRhjadr0lVrjIFxF9bQT5Nu2qBvTA8phB2u3q3fGJXv3D7KcpRrbL60ut8qHjMNYhF1cALRL/5aSCcs805WNcrjzt9xgZSlweT0wZEzT36iP261if0VTPbrKpMyEa8aLYUWTONK2+tsk1Cw7RDc0IC2ChtPVErw8/3Zp+oZTQc2BTttcRLZ5e5hlPjzJq8O7vIuPtZnfl1svB41+CrmjXzknV21sUZ06a9urxaxbCpl0cjpyj52ijUf0xax7IrbbatrridEew4oPJ1nlq9lJgY3CMx3OU7wUpH0tOmssotElZKkY7oo4Bn1FQ23SVR3Z5vHKAFvc4qqMTcvdzJxY2YE5M/OtCvXN4noU3oLTHqLb8YmdTuPbVwTL+tmND3/W9nGGgFxdP9TWlqhztrbNnUzdYDfrkGzsWOS4IKvuD2TIF4DOES7ryZHb4TeuFkyOEzFOEe3tYgHuKaYd8nERAAACH5BAUKAAEALA4ADgDmAPAAAAj/AAMIHEiwoMGDCBMmFCBAocOHECNKnEixosWLGDNeZKixo8ePIEOKHBmR40CTJkmqXMmypUuJKQOgbPiyps2bODfSLLkzp8+fQFfGfDg0qNGjSCEyBMC0qUCGRYsmnUoV6dKmTJ9CNSi1qtevNq9izZqQrEGmXcGqXUtR7FiFZgui7cm2rl2uUNNijKn3rt+pefta5Ev3r2GvcSvOPMyYceK2NAU3nmy1Z9yxAAhrFYgZL+XPPmNeHqtZJs3OBSWDXq1YwFyyUU83Lc0ZM4DNJwuz3j3YdWbfuAmaxEo7gO3bpoXr5s084lyEZJ8PlE7w+OPa2Jtrd/4bOnLqxrvL/7XuPfv28wfzEi18FS5y87lhb0VPX6vg2Nenvw+PV77q+qzdt1x+WNUWF2H5AaidgOUdVGB4B/bUnoK7FfVYbOvhFp1TyS20HIWGWbhfcLll2OGG8in0H4hsPXacih+ahpp3KCI303ErsoiTi7bBCOOMDnL44I225agjSQhaByRCGEI4m2zVcfjQg8TNdyROSSr5oI+pyVYlfFs6ROWTRl6pU4Qa7hdmgyQCOaFWX46HWplmdvRmh8OpKWVZ+4n2Vnx9+gaegX/SWadO9kUGZYfZRZgnkxIWFqZbIhJ6KJaKLsYfo5s6uqhnJcoZaJxRWnppWJHipp5pj4aaIKegbv+YpnSBfSqjjbXGeKpDpc3kq62tQsqlrCc+mWiwtx5r5a4Y4bhsoinemp+h+pk60ZpdMmuRs7FNSOS0ukJUY0XYKqctl4SOK2q64rmVKInFRRslqeKKdy5Mlv2J7ZhxusuqouaGmp2I9E5p7734hlmufkoG/GqpQT68aUjUguivtRGT5+qIfNLI8Vkfa1Qxi3cSuirIGINM8J8gDzqenylvPLLFwIl68ngxR7nywgW/nG/Oxc5MX7dQYdvVzqQp+mK2E6cnqJ5LdinxrkRfLDDT8xapdI9Mv2r10pBOfe7NxLaM62sHS7xw1gajDOvbCPO6bNnr3noVzGLu6XHbOL//LfSVYmfJYVdqc63X4XOH7HbcbMqt3JwDKs5woTEijjffjPMp9uJXt8kx2H4HRuLjlPcneeZr5w1qwPCxi2aXqx79tLyAZo65Uql6OCvLToKLt8uth+pW1HFvziniuyvMu3K/HwwxqMMvz7imo+dGtMpeBlq9e1Ui3/Te4f29IMCdW8/es+FnH/CKmN0c6+lO1iY+b4RDrXeQK+L33W/eT0R9xsajWeOI5zP/nW9D7sMavrY3uQAeKn/k01nlMrW1C0XqfxC8ne3gpru3AU9487EavEKYO55o8FTIsiDzwoWuetHKN3r5oJHahz4dpZBjhKEW+4xltxjJkIWimsv8/yYTtQxyUIVMyxMSzYYoBTqwPkUEoqoitzoQxqx+Twzd81BYsyyqZl/OC5KpSpasI0pOU0MEzYS8CEQwCkZdZPQWFTv4P6qFq2cmNF8ea/Q61iVxUS9c4Rq1R6E38rA1K9zj/iZ1PmEVS34R/Ncg/Ui/SNHOWZCSXfBaKJ/XAalGqyKgexw5msYkyXM0zORykGWigdUseXoy2XxE2TGngQl+XrmhEPPltaLhkJe4SuTk/Kgl/j2tikOS4tUSSEm16NKYbPNQHIE5Qj/1sXdaEyGnkolIPXawLnxMWhXXU0enfTB4o4GjMltIOgyuUy3h7BkEy2m6GH7OfmN8pyPrGf/JNIZGdH1rpmpi10gxetM/yvzknuiUqwvmy58jqRXnqjdQEo6zWgfF1Q6Vd00DStSbkPyLJ+83Qld+lJ3SOuQfOafE/e3zm7hrHAOTMlJwOUyjAEVp9DTpQUKO6aVAdZxBm3mU1+UFj7V8JkUBqdKgktKloWspQqcoOLyQsaiEPGpTVffIYWqxU1u96FNdadXsTRVPy9KmVnOZ1pxycGXR5OZK9eNOVm4smuSSHncsmLqc3Oykb5XUnvgVzLmG9HizDJlSt6VXF/6yrz7ZJY9aiVEG3s2hAp2dxkaJ0eIYkDvvql1VJHtPysJHduD56wGLCb9SIraJfFNtFl1yWRH/fTFQDIqfbk1nKkZ21GeB/BdRuepOsNRWsLcV5rCERNIyEpZ0w4VkcFWb1ylG9yu/ysidkLq0/6USoy7rny2lFlauztSZFNTuK52ExdJtU5zgDaN4L0qpd/7WuCWsFyd52KTDftS3zT1ufynisnDeDqK9ue5EncjfgvoXoAAG1y4HfK0wGti8HLwJM9EaWlq6tjg7bassTaQ/eoE4kmZLpzFt+k+eZhebnCXrMjVLXfaGq5wh9mOvfMi77q1XwUap8We9Gi/pXZKQ0C1j9IJ62XN2dlENTTJbPRtTIuc3akfObCfP1lj9XTa2UM6VlHfUWiS/trLCnbF01EVYTBbL/7VZkxgaYUg+I1KlcDq+Mm7z+2WwsllLmlJeiuE35+kqE8Ef8dRpebzF0L4PrzBu4D1p19KbAnnOYdsfojWi6KbZs9FpfrRX2RXnSRd2d5YuH/RQLFon/0ShVL4p6DYZUCtuypqNHW6goQpkXa+Wpj0+mPcaVmuZcvjWwISsi5kqVphqGZc2oaV74PrVBRNzoavMdhVr1V06DzK4q87tTaTNJ2pTGM3IxLZTqy1JzW55rTa2bHqFquGfoXu8PF21vvMWLchy6dvNXaFc5U1ife7F3rRen7bxXVBD9jvgVQa4nH1J6YX/2+Aq+S5VRczvM56vuJOTHZU3vN9F387VRv/ROFqFrDmPl7WkIc/2yGtIb7ACeTSb3itOZXzxbWe7Zw5E+RLZ/XJbw/Z70R5cYs9rXQWidqtBD+OCZw6jHasX1LT9cQc/LGYl54pHKE8TxCqlQFU2tFUJFJq/QXLV8XL9o3LktqkresvqDd3sZzepgzkNcZb0Em0EEo+6FI7qctt7w2D0TqUx3M4bW1LYGG+WxwEfsjUv8pdNTx14zsrEYtNVfYwHlLh72GuhyJzi0CQvATWvWD4LFuuiLTyyfjXNrGnVgjl3tvnqW+LGsv6lVIazOX2qdJO3e+g+NhrNxy14qPKe1ZCLHoA9lvYw15h2ymq6o9+saWBpPeFJb9X/lndpd8pJH9uBJ3/XcFoa7Ldb+6Hm/mEjFHjEsB/0P4I461XsOdjPX+k7JGAVVHxOt3fAln275SH7JzkcdWpN8yqWx3n1IoBw4l551mxZBy33hz2gBVNkE2zxRGhPc0MVWIJpZnWSxnQZhioaiIAS1IHAlzgN6DoiGCdct2WhhYKktoIq6FeyQXbwl1kzBG3s8mL1BTE8wztDmH72k3vLBYTHRl/LV0s690LfkjaX5zH31XHgM2JAAXKQtlS9BINI511SF2+S5n50o1zSZFb6Ul41AYajVj5t14MPiHnv1V64NnDxpUrk5IaE5YRChUCJJVe4Zm09ZYcVeHeql1WC//VC0ZInBNVm8HUU4pd6kINKpTVeY3dox1R2jUh4NrM1mZd6/qIkgqhTA8hzGQNpP8WJEkFuXaiA97N43COCSdEkp+iAnYcxr4iBLZdFyvaJslZmE2eJCVWLH/eJYISK6MNdATZBs1Y3oeR7XLNu9VZhjHh7WRhE2fSIZ7gwiDON0VSNSUhLqRh6G8eNedZLErdig8VliChejMQ3W0iDRhV5idZ6ymI1p9SG4cSOTzZZsJhu99iHqpaG6saDmAJ+8Ncv4Fh4ixhLjnWQTIhpoLhUO7iGleGQUYiG5oZ/KeV/3nhdF1lnBkiHbtgoRIgpxmOOxoiHxpZpO5hZBvOSrP+2feloJ9/XhkAThisYOF0kPefWixF3eqX3ai1ZdGIHimOoksqifooIUilIR3tHUAk0WyChldcnk/d2gX+kVSzHE0jTcwVIe68XZBPUlfv2PokXOj90i0O2OwLpJwJ5S/yXPtnYhu2HhzyFZbxIegVZN3lEl6jnOXd5h3kZdkiidUtGixp5b7qoZ9WFWJL4c4UFdvgUaei0cwxJMY6pWfkXmcEzmddWmTn0g5jZlK7IXILWNwSVdXwIlDEmVHZVVhGYaxm5mxdRcb3VdwkZUZ/YXhWWR7cJO3RGg4Wpexnhm7q1doLoL59Wkl8FWOEFRKOXTCQnN3S3MYMXnKgym57/l4lhmThFOZgGuYG90Z2Fp3xrkZs+VpoR6TRNMnSApYVnWHCwZGK2UpNUiVVSRSb92VO+U1D26Vb4yVAoiY+Q15nKt5NUSW0mCEvKCVNI1UwEeT1V1nmMhJHGVoeNGXzoR3yU+JReiFIZuozLGVfY5qFDFXst0XYFBnFI4yY8Rloq949jUpaI1YBUt6H/aXqBJ6GDWUwmKaBuNkJ/xqNVFXM2CaTb5xL8SZP0mZxPNnXgeInw11D1KH9qxkMop0M9mXEq9XSqtHmByYg26Hz99HULaYs9Cqb5CZ7roZWtQZAXRZ4T6p14yJE/KXop2U3dOWcgR0+NiadOaYFlVIyi/8aEdSpf+viRZmmEuWOoKjF6g9acDYaAVuhWsfmZjsWUgmmC8OZIEIqp1Nmbm/p+etluqRmEkod7j/ePpcpw+BV9noo+ZLdsPBluU1iMRNqWz9l6luqS5per5+Z+sNpNCredwDqfpkpNSJeDkfoROTZ8nUY6TpZv+rV1LYk3cGpaQUNBzmqsSOWPujqCE4SNLypqy/lwOPk+aAmhcumTyGZnVXpdr2qVnVivMAerJ8aYSumO1ueJVZdfPuc94HqjZqaDM9Z4VHF+wAhuD0t0+QqLL8aBibpvxVp+UUanMepuXqmxA4ZjjsetGVtAGztXHdtTHzuVlyqaQZpP3fSamv8KafsqquU6i+nWZ8hoo8QJqoz6lQS2mdWElDMbqhb6GwJLZiF4XgXKrHzXpcM1Yb60RWclgTCLFCUamLC3s7xZtFSbkFa7XRRZjVEqtFWhh3cEgAZnJEELt2nJkjzLcPSaYBnjcJ4ptStqZXx7h7Q2jGlbF1Coty4qhXJXmX7oaQtHbOXYdQSHXizVtoamiolbtAdrfG55jVYGWNx6F+IIjsrKnJJKEheKnGjXRlAHnGARupmqtrzaEqcrSGGmc8HKFuzZiqULlqIYl8d2iH7Ll5jVcru2tT7Yt497Xj96mdH6kPE4ui4Yf2ZTvGobFJNUsRumoD1LPjWlnkCZspb/i7DTil50s2Ofu0AMRr2yh6AJuHF9O5bj+56siz8yGJj3maqSxo0P+qsic3jzdoR2sXbYA7xVw7CaiaNEyb6g2a8nqK4ixWvtKr3tW6X1U4zjpyfnG5mT2W2leBh+KpnPCJz3a3yQozwZXJ0NJ7JNd5zyS7GRu3apA6cxbHFQCVYfiJ/gZ6eRtaq+9qe0yac/HLlPSoiXQ50QuJQdeWamSbSJObpZhmzs6rqWSXOne7dXp8Qp/LWHeaUG1TxCrLvCOsJoyK5qhLS0+yvNSIB2KJariE2fWnqxVkhmvHskpE16CqpsPJFFaFFhy7skQ8MUWKRzSn2ul6f8aK8JKr7N/4Gy3kZztmVfZSq+UKivU5ij1WoXkwhfj7ynW6rItsqvVMhY4GfFIXuFLtyqtXdma5yTRhfBxRm/1esXR8xishq47QJ9ZXaeZjlF5BjLD+yv61d0Q7qgnqexSdnKphyN9cHIwoREY+s24umu6AkZ7rm7FQLIw+vMC9kg0RzMpGtA1dyyZVy1DQqbjheCAvx5nTdgcnVNTTvOZFvODDya2CSLKpu8DPZw10bKP7GdXsa+hro0M6yCjsp9RtrH5+HPq3W/Ac01A82QBR2gjguyy0yMXex4ObyJF6ehBpPMgXjJAWLRbpNbR4yIzaqiEziAqDG7ZoKO68rF5Nx418nAMP+5uKzZwHXi0iVnsYuGNuxcWDV9sTf9xi19P6n1awzZdnLEWxiLcBI8i/w8FW4kyTUjIBJmvz1ZZGwIzFGdi5Cb1OqqvTAarkubaR+rw+jxsmAdn3i7p2T9Uld91kisLeo7klzoy5wJy7RWTlG0QR0MKIUDvR0nfDNZun2NME26pr18zFvEjRVs2Knn10390QwqrmTo2HPE15Et2VYp0JwLjPTotmztn03b1Zis0q6pm/OVzzg12nld2iB9Lr/odXSryviLd4s3w6a9HbO91DZn26X2h0Gt27FtR2CW0aqqkwZrWJw9l0k1oCTJWfCrisbb3Ahty6GbzDIKbfUjxta7/c3FnNfCFGL1B6WfB7bNXVf8m7u217baesi7PT5Hi6rrxtL0p8x4/d3/ytMgmVhgm7qkyr/6DRl+zEAQeZndGYlVLeAD3tbHplDytDUbdciM3eAttGsNONOjqrRSaOEZ6GepPclPTbxtG9/GDeKgNLdJS8gdXdweDoywl4T7bYdo/eI1V5s/7JylV+M2DqQwmbLi7OA9/uEd1mAOu8BDvpe3m+QVXX48zuRp7eJQDs9TzkVVTtdS/hIBAQAh+QQFCgABACwOABAA5gDuAAAI/wADCBxIsKDBgwgTFhQgQCCAhwAUMlRIsaLFixgzatzIsaPHjwInBoAYMaFIkChTqlzJsiVKhg8NxhxJEqLLmzhz6txpEWZJgjNr2uRJtKjRoxhFnhxIEuFSpFCjSnWptGHBpgefTt3KtatJhlYvanUa1qvZs0bBlq04NutatHDjqhQp1OHPAFqXtp0pt6/fjHRr2iWYt+zeu38TK14ogC9jg1WxVnS8uLJfn2QhW/VJOWFny6DhSk7aeKhahQ/bhl4ddbTY0jNPewagmrVtnbHLBr1bVe/bkLoR3x7OMzfQko57G/6NNzjx5zd9a848UDrFqtCzr7ROmDn35mw3M//XTr4nbOEIO6utTb28e46c0R9Uv34j+/f4UUOsnfztfZlDdZffgFftNx5NAj6mkWvgEZhdYdYtRZJ1u0nk3XIAOggahBg2aFdqHVb4VXseMiWfhmdh1+BnJQI3YYfAddefWiDGhxmKi6kYGIkuGphgjNWV1h2NtIH1Ios4yoXkdf5Z1R+QPAY5mJRufVhkklstaeF0CFJZW1s7Usnli1hONdp6TQJHZJhTcpkgmGBdxGCZRZ1Zn4Jogthml256eeF/NGlJ50fxCcUifRayGWSNcTKp5oH6CTooYOcZKh+iXynaI5rhPdrRnJN2FF+GfAZ6aYAlvvidikBKaJp4PgX/VleoHo1a4J6g2nkcoz82GGFwxjUXq5OG0qoRoLLe9aSJCYrY6273AQplgZIa2+KIph73LG/E7jkttJBeu+V8qFpLEZnY5ibbtN8aum6J0oqLbXonmmuinumWxKmY/Fr67nedkqafvUwKamu1ciJXpG/3zfgWvmTZSrBmBp/nLUjgMhyuwwB+aWS5E/c6mb53UhcviXBqyxGmIYt8Lsnvcnlylfxu+6lwM6PIH86Nshskq1HlXKqnLe+sGcA/i7eV0PQJneSssv06bmE+ywzrhS7veVjL5GIVdYce+wy0yVejzNyypHLdbsA+s0xTvBDfS3Kz9f6KMK2usn2t23GP/6yV1yHWDbaQaqctb6LEsljYkqomjmrKjjJ296Bok5ZslDfSy6uplWetoIz1Eoymx1B3S+2Vn2NUep8xdxltzxOPfmChcw9tKtULCnatxqS+7jSBgOILeGCt+xasXWEeL3dGytPLdfCoD09s8cspL7zCbYM88OHMxg4jzby71XqPblvpfPee91146mHDC/uQ7y8K8t/al1q+ib+HOvPl4jeqqdyQ2w1WHKO+ZB2KZ+ban+Mi5j/TAUh9QBLgUAiIOrrlCoF4Kxu5NIc9mlXtVrMh1NmUJbiOhQs/yjnfAzvIuo3Va3KpU9nFXAZBDY0tU+FSlOz+BzmX5U9YjnMVDP8fpDTzvE5rO7xYD2vGvdckS4ihyw/SWvUwmImnWjcc15IgR6QVzqqAJ4TOFH1VRaJlLnLx+p/nlNMZS4GrTwOC090YV7sPMhCOIDzgyCSIqdx07jZyjKIMN+g+SuHufHp8GR8x6EduZUeCdtxbHdFHRvgdMlUVdJ9sZsU8bkGxeU1MDCS5R7/svWk51NvWqu7ESdV5ElivwqNiDgMqitVvSv9aIBMHqZ/k6Y5unRzlD81Cy1tKzpjqCtwfeTkbXzJIjbMRZhhn6cJg0c+NHdyZiLJoEXwd0Twqs5R7GhZLSWITlwcaYO2Yhrpv6m2RQxTjCCMonFqWio0gE2dzNhf/N0bxj27GKxbnjEmera2onsh0JBAZpM9hES84+3rm9KonUH0+x570BJyVhPJQK/0vmVP6o+IC96jrEe2L8xucYjB6UI0OFF3XMykIN8lCSZoNncPCqeNG2StuSuWaBjIaEMn3Qh/dDnZSexkStag7oFJwcwbti1MXlk4rEjVS0Qvq93zavWVSaXWneypVPxjPLP2SX2ecWhmXl7QlphJj2VyrN2dHOOn9pZXTSiu2SsnWR7k1fj/cplzbSVdpDrMlbRRktgTWVRLGE1nxO5rpnLW7aQ7UcGZJbMLuljf7EXReTPLdZGt6yT3mU7FmnWMmd1U/OL2rrEyMJ0cj+zKg/66Gpccp5kgZ2FkRYtaVjduI+nDrFZq6FHOEQxw57QlGRKKqj6gFJyAbBVbkVmx8YS1qaRtLwTFFV28bIin7cnjF78oLr4WM4WUPGpnPRlKWSSOmeHtK3h7ZZ4QS9WEVXTpX4qaRrocVoT7VCVbXluylYz2mRSmJTvMxNr/bsdjpflqpCVq4wH86sL8AW2GGIjSj0f3nLmslYdZ25YDnVC/iCJxg+uoXfuNqYXdxmEvvojfAuePggt/LmINptYUvji9o6Ttj3iI1TQiGr07ay1S70kysb1WyB6VLNhVGU2EgnXAoecLkfDnZu6yNsoqHHLkqExKrDm7dcbnSHwlylf9SyNtqcivJWKIF06rrBR2LT9lRr7QZy4Sdy0SJrND/wjh3Wb5xhR1MxT53JZdEqtgWsdY/yFKqhhyM0vZm2CV74jg8GpPYVyataSBamjSY7pp84EZC55I6aBDlsC2bVkRD7zOhN+MfcRndr9Oil6ifLvPbZK1gnunIsu2lY651uevFbiuxv751qllybCVWdbdnVrXhjKvQ7fnSxdpW0BulXUJn76TattPmqud55W1T93EupOdSRwzhcYvaxub1bbqLCOI9kxmYiF6t+y64YdNaMohIhm+wqYMpClXUmO2DIboIjWJ3VfOVT0z4mBcOvneDOJxupKFRD71KyeZ2rQ3/1vJGnytQG1n25FBJoet0GdKQx3bkQi55j2NtOFCOZsENPQ87Of4aO4Mwe7MV68THHDAKaqxiXjwrWK8rZ6LvlbYitbjSce65ppPw6VGc6s+b6kAc0tfqd8QkzM/LdbmNW+FIxrbVgDzzfdly7t3LKYOJ8rVBzpWDulXYEoMsdzxpPEyyI0vDnXPr3iKFY6eDIh71evY517zItrPQcGtXwwWT7lUqmjZiX7lCyauX8mj9GKnGzkzNCzxYnRdoJG3V92Ev7XuzLqe3kaz3U7L+q6cVG36LFFOLBxm8UxkjUUHZO96XBneiXpaHhQ/45++0Jkg7NYXVLHtMOj6vDfQr/8pvbfTEp36Q2NWx4F9e2dtzv5Wu+r4ma31gJGZZ/DpHIqvVqUAp10nqLRdGHPJ+5VZ0U2ZtvRQ/owRb/kcUrRR0BnhwtvVvFMhXXTdsfKVO1MZ+GzhgcWWB9OZefuJPqDR8h6ZWJKKBmddMlEZhHqhTv1VMcNZ4B4ZddvJNS6SCqjV4sNZ6tgd8a2Z6yGdIsAR+I+N1rBV7M4h2U3ZADheERUhl8AE7UHiEkbN1USVdTGhwKteFZLNd8naAZAaCV0WDPmiFosKBowdtpwJ1Q7VxZXeBx7d3tGd9Z6hUJHZi9aNsRwcSrxViLiQ0XcZjNMVja5dap7Jpe5eG8hdjLP+YhvY1YofGfI/IZvk2arrHdOGGd/PGaxdYY2oHh4rIgCtBino2SXLohX6CflEoZaAofzzod5e4gTfjVba0f6QHV6UGfn/ViK50e7XYbQUjcGgmZB9ReC3Ui4x3M/KVcjKXZvzGRJd0RsoxM0t3I4wSN4g3ft8mhVuYL1RkdC61XdM4Z9XIftdYV1SljaYDgt2oN994X5u1bum3ZW9octJIc31YeebXiXlWIGuihkUBPSNVj5BlYIS3h+smgRomjNGWjcTIFffGdlmGNLbYbpQ0LG+XXal4eQq5Yz8YFxMpg29okcI4j6wIIhuZhCcZQv/Ikh4Wjx2Xe2tDSWy4i4v/RZJrlGEeFX7kFmlhh3vyIpPhWGw1iSsIhYxappMjhpBHdWyNw1LZ14JpwXPyI4+rSIHQaGTC5VhfR1E6RF71iI+eGB1WGYkzWJQ4uWYH15Umhj9gWXai9V9CmHzRmIB255Im+Zbg1i6fhEE2I4kr6Ign1XYDeZcsmJfns5d9dX699peTt4zcA0Mc0pNLRlHit5jReEPB5Rawh2fWs24FN5SwdH9sBVvKF2Ggk5mEBDSc+WOeyXmgOUkjNZo5SHYTiJpCeZlDOJjyo5jsJZkcEm0G1Y8YqVpseXOmOIW9KWlUhTv91JJAqZQ6NZaLhZyZKHLLiZWiFx7JuZq2w1mL/3YsUehQ7+ZVBtRadphd3+hoJPadVxmegBhtjgg4JMhrAdR9oDNV30hZqQlwTsRup3h3NomKqvhQqDd7cqlxd+gS/rmbTwaIWViG4ImUkVRv61iAETqHDdoSwMmOm8JKUYRtqHcjGXhhKeWPlilsimdUwLmV51Z/IUlG9+mbnDaIx2RK13lWYYh0EZmKLseaK2SIHkpelWOitPV5FXltHaSCE+qSZZmefGlu2DiLKfE6R0o42KWkeKZuHplyv2VlGDp2YgWe21lnmCilhoeW/VN8BNeGuoNSWMltffJ7DGdzXGakWQVhOCpZbvqRcMpilGWAdJo6dhqhIJmneKemnf8VPiYJn6CYe/5leTP6VjP2NX95phGYlYzKeI4qlNW1czuZqLFpQicIfCqDqaUpgkfhixBZOvjUojeJpmFZc306ZaFHMvC5cpp6pZJ5crSzpCVaYo0Jjwtqq+VlrGFYh1jVbFShhh7maUI3fF10T4EDVL0Hl8I3faG0OQ5Gn3wHrb4GcdNafVUKbpunkq8XaEY5U4FIhSjaqyzxp3/GaUNqowjmeEt3Mb9HkDw6gg4Zp1ZaHHt6VufaTRZmWksHZePHa5QYdSRqjqtqr1WJk5MYlNAEasimQVv3rW5kncX4n3ZpsUJGdRSLOEvocW4HaLwKm8FohKGRoJ2WSRGFfVf/k67RVaP3OqjZdT3ValpAaRsyu5E1iy4Bea8J86I7SrGjCZHzGLTQUa8Bt6/xyVMz6Zgf564ga48W5KIC2RrcInHGV6oz+2r511IfZmoCyH7p+WYSSaymao/Vgk2z1YCyuq6bOo+zSpRTyFzsioaKRLfN1bdth0Xo+K+7ChdB2odz+69hOlD74k7kN5k/GrhZ+3l/sbiyqLcjGqjPiZgyZqCHGHCXW1gDG648O6V/h68tC7Vm1pPqarS09WxJ+VkXKZLqWIxx1qOBG5Xk2i7qSjvPCFrRarstSU0wu7loCnJu6Df79bueBa7cOpqV4ZrjJ56uFpRJ+7yvtnV0pFn5//q1Qotw5VdexElXwHZxF+SxdRq2eCqYBUW+90ij+imYyVa5LZu9CJiRHZaiUatYitas/ttJF4qij3ujlgV/4utnAPyv6gZhBEy5Vsu0Cwlc8BZep2gn1NuHkhu3H/Q7/JWwGLi2IIfB8qPAG8yKvbm7Tfm1ISwi3ipsqWsZ1cqGXsWtLFyTPztzK4d3gpViMtc+RCpVqiefurKJBfodyXSp1+fDcQXEGiTEXJsiCli444pNHlOc38Otr6nBgGmPIkvE2Pq8EDu2add8tIvG5gRvbqN9U1wZXuyxHihY7ftHwfq346Wdhtmt+HsbcbyjcxxXdSyd/ctNZ7tysQiQC/9MxFQ7ge7mpTPHjnWLquTpkW4sr1TcyGScbfXopOu5fDQbh9LlZiS8iO8BVVuci+Moyicrqms8xNn2TqcLxwmmxKpcTtAknl0sur+IppgcF8rzhLQJevBKlvCLh90phsvFqn48ScIMvFYEi8TGjDOalscMrs9xx2QFgFE6u1Iocn6qqwIXf2E0yePUv9v8exL1OzxIa410SclszgQiz6OoULfbP5KanfPnupVMK/QMpdaqokbUJBA4XnnCzB2JJVnYOGTYfpNrvVjszZFIziJLtTojoE9ZxZE50ZvZvzHcon55ZEC7yKzhryRryMWcEuAaqcXmrOVh0mLIia7cypz/i7ItTKqDEj4yTdNT2GfQecE5SZXMai06vab7GGE+HXdADakU9bA2BEvVCn36yKYMtLpF3WV/OKtWpj9QXcRS3c1UZ9Ul6Ht4VpZ+GzKKIj21dxiFeMwf3NHJG24NbSxpTcxrPUJtTaRcpFKCmZy/rB2hmsOunKuCbcwTudNZOW5ObSyBXc05V0QrOdPkFjB7jaxguj4vAdlwekq6u7IgSocN5LaYnbKcdsSQDJOhzEyqCstorUF3xsIfrV5/dr61F2YkTdeubcGw3WJiONuOq7Y+yrdcjaBXs12gIrMHl0hqOtq+StxCqpyiqVgHrZk9zNy9PMMc3WgTm5VWc2yL0IuFt20tMCw41pTbCvzWZnSzRgXe1q3bSRbTO5e4YAjQ1RneBCOo6qmx8s2geJiqMtreCmvA7up6n0nZ5WzX9r0+gazGd8u7r2u5wA3gz1qWKrxQwwy4OCncRTPVHKzeR0nf8M3aEu4RmvyFo3PEPG23Iz6vbbfXsoPirBviK26W+73aB/XgNTTfM+6rNR7amo3jEanjO76G9UvHqRdsGi7hKVbC6WV0gjbkVRmqPAShmQ3lrTqeDkd3E27lMSfRMc7l8UtOYL7hY/48CX4UAQEAIfkEBQoAAQAsDAAOAOoA8gAACP8AAwgcSLCgwYMIEx4UwFAAAAAMEUZUSLGixYsYM2rcyLGjx48LGz6caJAkyJMoU6pcyZKlSYEMRzqEKKClzZs4c+r0+DJATJoydwodSrTo0IY1fSbtabSp06dQlU6cmjSq1atYKyIV+LDk0qoWmWYdS3bn1gBdC1LNKLas27dF1yaUCxMs3Lt4bdINWZdg27yAAfc863dmX7QADg82HLhx48WL006U/NVrWseYHf9U+PCy1KSdE8+1m7m0280JQxee3FnhX9OwjS4uTDAtZa6dkXp+Hbu3WdImTdoWzVom6sO+k+Pkvbd26NZqwaqOrry6SuaVDz6HTnvg9O7Ww3P/PE6RMGLcw5FrFy2+PUjyrhs6Ry/6dmr27vOfFLt3+27SG/Gmn378ZUffd0rtB+CAyvVkHFgFznceRsGBVh9NDIrnIE0VSiTdhWxBaCFuAmYY2E9BUYeYZxUhGN92rDlXool3oYihii5SlKOHMI7o3Y00YkZVjhumWNeGHh7mH34hshjkVUNyN1CRQH5mkJOKWbhdR/A9OZZu+P1l32ryTViYZ1hOqWWVYqXppWwihbkgbuodWaaT5LmZ4IpsLqjnmzelWRxxXy0pYZfC5fahhPT9NSOgLQm6ZpaG/lgXnh8aaeamoTk6J6QuAbegp9OVqqhzaD6H0HCVPgqqXqIm/zmaqaxWieCW6x2o6p6vNmWejGXS+RmYqz6HZEG37kofeJb2+lubHC46bJzFdkqak8lmK+eVTDoL1aM2yiXpRmP++GCqwta5qbcogTtTijHypVG5jVLb7H/csnuRXNAeSyyvGOE6HXbWMovgr/pqlV2/1xKKmqt81qquZaeqiaqcECdM5kpn4XtfqpTp+bCBFAarscIZjxbvxObiNzBjPBLKcnwpv+kpt2AWbCWfCjMb7qcbj5bvhH/qezOy0fZo57LliXhmxSh/emx6JzeN8KC6gqws0j0326LMKhWdMFKz8RyxlJUOHR+jOoKdktjeasrZhTueDe+7bltU9MFS4/9d9bxVzq1rtcYWCt2je0tJqpR/77twmXkebvLKXPMEecPAfs1s4/JSFeXFS1u8rtfjXa42Yrx5zLmHlMvKtONeXSQpkXiLqWjkNZvYcbextxxi75qHRLvOhP9LItC92ki86FHCLfe0mwNMcMW7w8258lAzb7jzgUMvus/I/xx63auvhyvF2KK9q7XYgY8z2ZcyXvnaq6cdXY7a1oow8NI3TPb2vCOd6zRmo+AFLX/yix697nO1ycGsfGHxW9u8grWWkQ9gwirRgygoIutBUFf7EyDSllS3NMGNXzMpEcSa06se2W5uJEzg6NLVNEp1b4CwwyCgsPc80KmIW7Wi3dH/+Ee/9/0PhzMMEg9v6LsfjpBuWwsdEmfmRGAdUV5ssxnextXERL0sa/4RXK4mKLQJtU9NZ8kdbLA3wC9aEGwxvKAJA5hFHOVtgFdUo2kKmESm/aSCLNOauu5WtyFuynPI42L0ksNHPb0sRXwrlg831LwAGtJjIayjuvSIF3TdZ4rm25XtIonFMf4PhV3jYA/d40lJlhKGovzU+XRIRcrkkWSgBBMn39KhV1bxlxJKn8BApCJoNelCqOwjLZX5GKf5cpHfG6Mw10fM7hizZMNJpsj8RMfAXJBMp7RXzAaltDHSMJWHHJXJAiTLbq2ykzLkYDi79DRyFs6V56wh6QqU/7sXIm2XTZnjFeUZvkxZEn4i5N9ARWieTP4IoKYRKEIJis5CTpSZ/UMYpiqUOia+CVOs85HCMIk8P5bUjCTD1TwxZzmKRrRb/BRp00gqO8nVNEsXs+UpT8dOl67xol9LXBrVCUsO0g9az9uoTMEpTnPuEahtE6rpntnEoMkKqd1Taj7tZDynkkVc2+ITC6+Kyz1Vkm1Uy2cve7c8Ph7NXZq0Cli7ozMVPq53ZyVdWke3Vjtqyq19oyL/PPgUh6YPr9wsGxDDaDf/UAmav1vmH+f515NmxbDuhGlZj0fEN9Iqjo+NJpc2q5QH/a+yP4Vsybx4o4UKy6KdnSQ3F5goUP/itIyCceZHzFNXqErMl6O8YxdjldBl3ta2DFLsEwnX0/vlbWTN/eYn9anF2Jptsc19mnqgqxFAAg6dcKEdDRtK1FAu77iSbadquarb+aGubwu07lXEm86+QnNJZbOvaN2LHfLi870vEq58nYKaEy7VudJVUljbWM3KERaYXp0V2Gq7X18xxsBbVdMs6ae6Uu41mN0E73RHOmFpCVauBTUV+mIJyzMe62Ku3ZkbXxwd/6aTihBNyfQ+XFrGBtfFLIUxVKtXYp6i0YHjJe2Jf5O5gEXxXvIjsgI9el2xNmyaVv1YlCeF0Ry/50OIe/Jrt+xdSrZTa6H1oRS1DFKzFc3/yycxLWP2Ys/ghfC8KN2kBD0GW31eU6NiNquSjSJn+/Ryw6ZcZ8v8VdZGhrXPR+XmmgfXuUEzeWfQnGxOysnH9Ta2lcXkMiLRW9RQX/Yryq2nZTnCaQl6OoZxBauhp6rBLS+Z0NGqV+sEPUdFvrGBFPM0xciz0K4OmL0KTeGqV7JBK+/6c6FEoguJq90KzxQoGHMgPa3N1GS/Uyfs81GZ79pjN3Jx1uPrXl+JXdAiMpDaEax2UcKdQS7ftpL2OXeRZazu9rJbxK/ud2TjF1Cb1ljcU+VslcdsTW3fKZ4QbjJia+1dVdvZ0ixx4wEdltIb4a/Boz5yxXH7brJS3N7O/+0oqYXy4GMb13sj82fD163O/IoIUShHoSNDTJSWR5zbMJ+zousY8u3WnLgcfaCCadpjMc6XhLoeerytbU+SUk7jmC4dy4LbWUBnBdbOljo6I9TYmcsU6w7tGtmZ+0uvY8XR27TuWLU3Zg+q9MK5PnLDcxjI1u5Uh6y9tY73DPFU072M8UrwGwn+3qTvfep9R+RQB2vwuGxRhlPrZtHtONp6N/vb6lFxNPE8aYy+DugtWaK0Gzzx8vo8XpNlzRmZ1mHSZz3D2P15TupcMnejd4lcjCko+ewyKtOMy/+poM9TvyYPGvL3l++z8KlKfIl39+F7lbLpiTJuch3UyDxuMv9mD1vVaPeP2XmDJM+PkvNlJ5HGDC/57ZfrXjlW/uXeD73H16+T5wMe3kMzS/jlTHPlWTy3c8tHXQtnfoUVWG0HgA62NQP4eFfHWE7HgKGiZloWFfq1YtXWQGD3Xx0IdBYVeOZnVyHCew3oaZ3WdPMHfN3UYf6ngVlWQvfne1bTfPzHgR3kWIZzesK2gHGkPisGaVHFf8B2fhEIZ+3Sg632Wy4HhJ8mgZplP0GoeEmoX9nkfoPXhaLzWaX3Xz4URDdINEh4UQVyN8GGf4tHYFxYSsonObXGdmS4QOEXEjY2bI0mdDWleLuHdG/ogYATMt/XLIAWXwe3TbjTgx9he+z/h1iD54fD5Ws6lXv9pXSJWHwVkoCO+C3ux0IrZVTltmCVJoYKSIOoN1wKd4FMuFufuIfhJIot+FaS1nsYeIUGB3o35okrt4lMBBk/mIMgFldGtoZsl3t0JT+6GIu8KGje9ouiAm3HN4zFVYzOVWrI+IXKaHzT0orfBTBgOH8KVm+nV2v644BpSD1xAnYIKGCnyIY7US7hGEKJB0eKc1KfRYsxczcweIcmlV2pGBXJwnhiZHsvE3s6iHWd9WBkaFJUgyl2t4NQMZAuWJDZI1sICUaIOEgSWXfQ8UjEBJESmYA3AWS1ZIFOVHtPdkEoBIrS0o+aRY4KSJL9127OyGaY/2di4LiShfc4Lnko0fdksGeTuOeGlxhpICaDJAN/+4V2TWV09ZJPz7NrIuaNUXOViCctpAR91hhaSddmS7d/78NWHfl/DThjZeVrMplLzkRffLdfsnaPFRiAhCITEWmVGmZwLKSWeUZy7rOAcPWAYZl8Z5dZnodtGaGL6LeR3qNwopd0FQQxw1R6FJaYB/hcOkh2MTR54FaG3fZQyIeZ2ieZ1ESZOnlTZHRo9yQvm5lwnZl7c/Q0dxdUEklhoLZ1s5V+MbiN8aOLZIiXpih6p6N6bCiJtll8cpeb+oeNhlg7iQRFiokT0+SWT6QtYVksQwlC7ZRMphiVobR5I6hvwP8pQla4TPZjbjKkfoNJZWr4cr3GRL1Fc925J9GJfoRDfnTZkO7FXhW4lRFEZG32bSOoZ2snjq9pXoYpTR/JkwTVn/eYgthnawBGcv5HjzcXiAeanC4VU3YZk3CIiW+ZUzy3ebQ5hqToFnxJoK5JJh2qoXnZeQiqdmKHgcIJj0LBWxzHWkznSpW4WvDlobHmI4zpSdqUoILHfSajUzoaVv7Uo46zOAtZiFQjc31ZgGwzniWqewZIlV+GgzIqiqFToFJ4W/64ffEoobSpMzQ5YCsEixeKm9n4eGW6piixhUzlpHpVhj36ejMqK4Q4cCmJmfeFTOU1FHYqckJHYwqJUlz/ipWR9ae2SHlQaW2HGoUZd5H0l2XWSGnslJ02yp36RHxO+WNHV3DfJkTqhZOj5akoeJNdI6r3N37QiKW+5J/TaIBTOmT+YyGcOYJzp1oft5cLmjg8mI12taSPqatj2XjkBqdsyHX/lJbDepk8WElzqIStuZz/CYGcCYl+uZ+LNlXlCRdD1YlAmYwTuJNPyq0renjI9Z6cOa6ZcU2rR0OgNqCXGpwnenj0xUY2ehq1WK+cgpzRNJ6xyV/lNXL45o4oWognNnt693K/6lcQp6mRqkOQeqWiQqdx5rDPSpQRq49Th2ghBaMcSZD7tLFlaXkVVTGkNGu2I5/0Z658FbBA/xdjIqlpNQKyavqgVTqjqNWU06pyEAaWeKhoOatsX0WA5HZngcZgYrqTwSp1vWShAWdkzLi0FOiTuel8YFaoo8eTVqs9BUq0RPd3eDGx+tWtB7dyfVh8KaqE3hpjUdp1GHpphgSMuAmqlilIVOWrXAuxagWBpXFLBqSlj5pZrep4VEdagruAP8W28wlRuxaddIZkpUhVU8axNTmOoLlma9unH9qa3BWmKstgHRai76i19KmJqOZv0fiKsumDpbszkeGxtgp5ukuugCinmtdejTit53p4rKW3Afmh1WFzvutuuxSOa3mTxRu7QZhs4WG2PXatAJlhwbeHUUqrxFgW1v+rs4cLqNpbiD/5S/WZr/OKuXbLePJaU2P7uKpLve56hELCvoLpgu+rN3nnrV66u8hbv8wZuW8Kl0lqpPwbvJOqwJ97NgyjvLFBXqFbmdUYYZa5wB6RKvb0wL2rGQZlZhhmoIfZW/R7kMoWtXHnwEsZu97bhEL2PiGMWb2pjiUshycMtkW5wSvsU5khr/JLoWTjn0bYd9xjeLZngrDhwyA7dkHss2Nqlrcof5sLjah4v4tquc8JSxqMcqvkdi3pgDOMsi38G1fMjSfWjlt8el2MtPvmUL6Ysf/6VP/bT6FZLpULpHmKbgIsPIqLwxEMxohbRvPYlgh8sqqohNOzrJb/msR1qace+sY5ua7IhrCKCLwFa1CPlx+EaIeP7ISRvK2TrLGVnGntRUpjjKRVR7DHaICm679CG7fGaMDYebdPlcrf+3F3d75G/Mkk1r7rccrFGrbnuFhUQpgYvIr81negy1KNerzVW8pDe2VZtTVsa2Ybp8xZx2hFeaTtQa9+Bs01SsRV2L/mF86sJlycm7Y2i5TCvKDWNTzkDJvuDBKc7CxYCIgKq06mrLJQWHbdaMnyFseaXLGyzG9GO7uZnJf93CpoK7EPBMxjsXOTi3fn4qG5O7sHzZoSernsItEWrL+3g4ndJ2HU6acbvcPJ89BLbDZExqV849E2VzbDJKAY/5cf//aOJuyd7xnQQxPTxDXTVDaxNPIfszmw5DekhOqv3mV/Iki4zqwfRM1iRp2gSH08Ss3FEHeweva/HxXSCKSdaRejUmuP8jpLFAymVRNuX63CYb1Y8piLUCfW2lqyHxRqQ8g9kGrH7Vej+5vQ21Y+C9vXk0hMqhnVeyXY0JfOBKK0l9xRD5mjpAWS6PXYPlfSRsPYRufYIQnZ4sx4/bHZlY2mjTNZxnyEjAmts3w0Jny7i/o3pJ1tacqw7pnV8UyxoazQnlnXOjzJSrnKktw/hn2G0zvamfm6lBOeBC2LjIjbbwnRzzy81ll+0vXWdUSyPlrXuptv6uO3Tzy89veaWZKI1th9q9irwosKyW49rXgKjIrtLJI7YuZdhuhdnerNcdFjbON9gfkXdpaN3+U73Nxc15wIRTmDx3ai1QibvfndUpnr21aWupDLv6W94C7c4FFsLRAe3uXX1hQuxW0bsSLKqU4UuhvX3gu+xowb4meDR5bMuBre4deXKHP3WWYNoh/LlDDOMQc84/X90h5L19+b42EjJ6d619dZwddk4kIuyuxp5K17m0XLekt+aus5hCR6bUo+5V365HfNj6vWglrOcrVdtaK7S86d4832l2Ft5rQc5iZLRlnu5uCLj1Iu5xnSqnauRCd15nkOsH1eNXzuEQEBACH5BAUKAAEALAwADADqAPQAAAj/AAMIHEiwoMGDCBMeFCBAocOHECNKnEixosWLGDNqDMBwo8ePIEOKHEnyIQAABjsubFiypcuXMGMaPJmSZU2ZOHPq3KlQ5UmaDn8CUMmzqNGjIX3+NPmTKNKnUKOuZOgUoVCBQKVq3RqVKlWmQLNyHUtWJsOrCcM2/RpAbNm3cDeeXZoWZdu1SuPq3UtRqViVc4WeBMxSLFq+iPX6tSuQsOC1jQszvus2sWWyh+8yjZx3YOXLoLdm/lwQqFesk0mHXo2UtGmbAxdHRui0KuvbMF3btS2bI2yCtX/jHi5XuMK/xj3jhe018NDkxKNLtH18MnXlg9lypir0uvTvCa/3/66sWvPd0wfLg19fULxktTMnx0eNfj77+7RZdo7/2Ltv4Mn5h9+A/xWoW3/QFTjbSgQ2KNFr/NFVXEQCOjgchKUJ9lGFC1oI2lyEodadfiSiZmKGD4EoWYexJehhWSouiOCCnZEn30rZncibiy9KFRyAIi5H44oMttdcjuEJoF6PXP3YYpDZhWjgjSxuF2OSSzLJVWY9MSfcY0NetCOHWkbFZZJAZoiWlBWNyWOZTzn3mpM3pSehgnimGRlym8F5lJy7aZfnk3bySWide1rHY5Z+euRfZ/uh6ZtzVUKUHZIUKkkXmY32lSCkRHa53ZpvZnhlpqR2OpKN6F1nKFOcDv9aX11sqloSq2y5qmhEmELkJqwl2ioSoFZBpqZgsc4aaa+PajqnpnQKOxGxhT4X4YjTCrqstYfiuCl33FYqbYrO2tVrkLWmauREGAZXK0FnOsnouL6hdS5l3Dqlrp6WBspiq8nF6+WJ9FYEJkaGaVhgtInad6+M5n57rb8FV3cmu6kpXOuONtIXIJH7YidxxUHdCS+V3QYJoJSz8qvjoo+hDPGrJJ+sm6jHrhxsyymbV2HMMk9Js7T60kWaf0u2G/Bzc9nn8LfvLlyqrUXDV2SxfUbtcdMo2qnypMGmGau0QFvN8KA1yRtukRVGSm6iXI/dY9kR/ytc29pK1qy465r/lyncmvLdqdv4upykbUjuiLV5zyLac9Ryl0l4ZmTynPjdS5/YeN+GQz61sDYevTThjl9UGd6l+12z1zlfbWqokmZ0Oo+Kd7066zxD7KS7H7+cNua+T/Vl0JffvnmdzIYNdn7B64w8xb87bafWt0sNccM9R7k0glwHH7qiVd+Y+3mf+8kykd0Pqn2x3Aeu3PWtb2ez+IKeHHn1LDJ68GgmTzmz0YFqjgDdV6f74a9ovFIY/2bnPQUGcIBeEZ3gtDS0BwWtWAjEU6QyuC2B2e9TyvNTBRNosLVhCH75o1jCPKicvaFNVZTqmwA91qaPac89HeuaAZenOqKVq4DNoaGn//JzQxveKIc7RM+82HM/BnYrWe/J2OJYSCopAc0xUnzhgJpIP35B8WsE6xoVoRasK5IoYRO8D/WYF7t6Qc8hveGZEpk2MDiCC2jSW+J31ug6x8WtVHGsHw/X17Pf0S2PFxRWuupWlzDKbm1h6teZ1JK8GeJLaWlkovKsNsVEJrB2ZDrYydDlJUse7Hy3QaXqeAewE4INdWBzYp8qJcrCcc5I4bPPDuO0M9ixMlfu++XbYtnFfhmuliyMnsh0WT4fAc9I6hrj5RiFt16hkXy/yyAKffW5XeqkdgCKZv8Wg8W/2dGaWbyXJcNIujYOcy+EZCPdLrZMbmarkrAJWSRP2f/MszmSL/Es0jz7Nz9zompts9Kn9S75RoO+UI+JAdRAIbrIGdlzkHdS5SFxiTlvRkeiE61hCi06zDkayoplU6bz4GTKOyVziNWK1SRjJrZybbRSbhqfQvfS0hUWU6Qx/dxMa4nFgXauo0GsViZ3AsGiosyVOAUmlIK2TteVRy0AG+X76pnAkHFyLE09I0F99syVLqY8VXXcVSOW1a2GkZ7sG5nmPNmasb60OjibKvWW9Mc0wfWW2sTo/Lya0Wbmxq7jLBVa84msELoVS2/szTvxhJwOaoyxIzQKSDno2JFSFbOQdOdFIxRJHBa2oAylHLjeslnGRlKtY/Vs5fq5PYr/US+Gnp2qatMHz9jCtJZ+NVZJocXYtsZHWXlDLeKMNceafvAtf83WVOUpXDsC7oN7peNKc6s+5rLlpMU1bExoJrpoSZCyGWsrbx8r3ZLpTJbWlSRdi0JelCFXq0DEL/nOdzOL/Ax8BCxkH+sC0aKMb5ZbJeSBtfg6NhJmfOGj5K5AElDELBivYtQuD9kILAeTCMKglbDhHnlhqLhQfrY0bnxPFVTpjYquy/2e3QIK4rnm8E8gXGkVO8s24lostLNbL4e5Ws/g0FiQ8Jspa3l8zIbKEMnorUl0BToybGW4Oib9qS0xrBU+0tLJNXWPfhNF0Sj+b7n/xK6ZbznlAovk/3gc3e4ToYxafiGHpKwbbitpKilq2e3LeM4JnOUsx1LCDL53biyXV5xUkOLMzxp0rBmZOjxDZTbN1Qp0G28caee6N8NO3GmkiSrejMR4wpfuIYFjNtsxr7KOr20kqIspaiMrbKnjlauqmzdgVx81fed9XokXyMiPvKZ9HvUIYRd34jwPOIJZTJ3u6Exke83XmG4cUYlLEuGM1ReqGDm1iNnrRj9iDp0+DTKsW0TOO17bJd2uM3rBLaZKA/Ca4dQyx0zo0luze90o1vYPy0LsAwFwxP9u8v6q2+0jYxq3trPqERPZXKkU/KkORDiKAe3A5A1WSIQSHT0X62q+fvfduf9GkmonPaVo7RmZrP5wUr+6T4wbtddKHe2ueWLllcd82l4EJh5FZmUIzjW/O5+ofRXrWzujnNvrtvaUdZbLFm/ZjeI+eKbzZVOtcxG+vMb1SMx776ZztOoRkizW7W3tuE6Tz/SWb+rAnewNhRjl/FQ7dZ1Y8aGfuu+hHTJphYZQX5aaJPGmSN7XjDMWAp6faT+5ECc7+HYHV+MtQdrES0hzkf1qw/GdGBh3jvlMwvyvSqm7zl1M+lVj2spmpTbCF45v0Ur7WOn+7ORfcttu1paU/1tccNfK+msit+L//WvnBw+T3rd38EVnfMSDL+uSZ/H4kmfwdGWdNLOPncnYvGj/zxMbVc0P/4H/5CxsPU1mMmZ50aofLpYBGUW9L1TO0gsk4dTP5gnbesfvV33a1xL9VWMDRjPNpltLh3Bo9mn3BGatI2R1xWxQJmYR50/Zw2fmJnith2ldEnfKFWA4Bnk95hzQBnbegnQfx4FHtkE5pngaljWHlxRdxzcPVi4nqGVEVExZx4IxKFgCJnYtJHtbFX8aoVqe5lT6x2MgaEcbE0x5U3UJ+EIQ9zxTpxNISCj8ZSw7xjdN2CVPCGcJpWupY1okx1CYEVngl35HonvOdj9tVV5EyH6QVTz4AiqcJmhqaHr0A215dYHiFYdLt21aSDs4WEZcGCh5iIX0I3Bg//gxaGd7wrODRVR6aMhDtsY1pKJyXEcuRkhC0ARy+eEekciBo2hElRiERId+o/Yc43YldviIvIQ9nuhaGShjjAZEeOh/CUJPoNJS7DSDJiZWmRJYp8Z8ffZMyBdgfOSL6DNAR6eKlgFxcpODwHV1Hxh4cfZKelNHNxh0vKZiQAV7SEGNtAVSuEguD7ONLbU7MgeOZBV7plZ/wvhIIZhv23dx4ZhUE4SCZaiMRpRW0ihgjjaBReYlEjZu+aiG9yWAmQROhbiDAolrZuhvlBZ5f4aNKXZyz7KOJeY5QOWBkmiKrqeRZmFvTzh6XxOA0EaKhhhVIdmBOEeScaWSPAEqgP+Dk9OxbgHYXrpSX+HzRapogZT3Tc+Yk0e5k0Fnf/KXcykUlL6HeUQZekYJkwLYkObmStaWiXnDiWNkeQMohKsBkleZXK7TV/WUPEfmleQXftHnUOtROz5Vk9PXIhiSe5YoZ1LHipz4iMYogo8DmG5Gg88jb4a5c2iJlwOpl2UXcNyyWGOIj88mmE/3Zo/Zb/K2f1B2hQ85PFYIQO3WZjp4lgGGSUbBlvqVhepGl3B5gLTmQKFpdv4IWKVpW/UIEmh5jzCYkKyYkc9ll5eZaAwIO035SYfHmbgJhZXXTHsphgAXftd1deljgUvkZQ2GMN6HeL2TcDv5hUOoY59lgM7/OI/GOYUdhhNTSYjYE0qF105Wsp3jGW5Mt2Bys44hMZvH9ZxCqDZAV5d790CrGZHfqUOr9WQbR5W3MpoYpJ9hOWcN1IDDtGMBGmv30pE8+I6rl3lmWZQTNEc1UjZYiTtR52+LdHsYGXIqBIHAFxMh+odSeXIfakYYuI8rKKBs2FWF10D9WF07IYcfKX28Y5M7ajcNuYmhhYHE9p7BmE0cqY0y4aNEqHZBapIM5kpVFUjqxKBJyo1LenZN+omHE0V3eVlgAYG86XJiWniJlmqmGVw6ZZEZ+EeDKZ9nlaKipptPQ45qo6fMOHBDen8o+qbx+UHHVpn2WJLbx6HA+Wi9/0iGJdN9ygeBPQio+AedL7FWiqmotNhjPyaEohmpNsh2tnmK+XmSFUl9LtpyFeiZTgl6dKlkZfl6dIR6CKkoyDmPp0p4RZl6q8p6ozdsjemfj9VO2kOrktl+eoiBRqeR3nmiWvVVfmdoiNSp3Dl/Qjo9o3Ob5xmqPbV5DTo/DQitfDalqUk8hfVfTImtC5oTOjmR5baKnXmt/5R7tMd1e0mXoNSo1PSC7JqU7gpsZBpfoBpxNxd995pz+Uqtmvqtw+KnwAmsEBVsj+qtCrimdBV3FUmOealZDouUZVpCNBk/j3VT2XaxkoqKijaTzmShGCOS2HegOimrk/WNFIZx0f94rGAFhRLYSbLInUX6Rv31hzRrbDbLOI1oqOjZS625jm1nS/wDiv/4fLdUrthDq2/JsFAXa6nKtFp3sCLpa7ISlThnfO5jtd4llknrtVTKn7gHpyxpeK35f6Mpmhh2q+U4cFu6gapGso45phsLkVXYXd1Xt9lpYDJ3jYnqpYxJgnB4aHMbMVqpgVM7hA2HtN/3YiMHp0parak1qv7luHMHuUArubP3g0MHXSkrb25Wrx1qaDsLr61zcx83m3squqirsVe3uh2nopHmhxOLi7K7irRbR2qbhl6YUooLnBOajKkmfLnbb3PZerE4uXP6pGaKvFRXq8vrYc3rbHn7vMv/N6BT+bVQEZ8ki33ImZICG1KvdnkoapNTirvVixPmi72gl4M+yaDnt1EICLdGC19ZBqFwEbjh6mTfw57OSV0KqFWWE7DqKYnWabh3ZbRf5qwTC7PwKbpP66qXOLTy6WFLxnI5FL6+mYy7d6A1irEda6mVWqrE0VrzykhnGK+qqlJtG3bKO3Euua3gIXDNeZkh+7qF6ZAoOr1CnIJr52o7DFDL8cPt1CzVSZzCCpa2VkOFGljcqq0sukmK6Kjr5YLtRXy3+IO/mXydWIcaZrc4lkLIGrahNmHmJMYc96bWebWUmMaFyxpcy10lXLoUmLhV24eNGrWXKK/SscfzBsdU/5g5IgrI77q9dSmX/qbGd6uCMPieC6Y04AV9jMSrDEx/6hK4M6wYAGk6D+SuwTOdkta1Kcp/6jgyouyGiJGlIfuizsepr2Z/iRepmYW/k9tbEPm3IHTLSFdZ0udZCtmqLjnBFgaYVtm6yrqdWwO63FSw9irLFHyHWkxpEtvH2xiqQ1ZhrZqN/HvNf2g1uDsc6iXFMYmMx9i5lwNidUqOEtutYMpLGmW5VXpasQuiMrfEdIPFcxbA2zyM84tiCAx3voW4tNnAr7qHkwgeR1yMayi8wep2FOe6rMrJ3ozChyybJxvM/dw+0Ym7N7hDfEePFkK3iyzSqCWjYgWWYTaHRP+MUvYp0TqLVKrEmuzIr87mvpOVhYh0zzk7aFxKqSIrjyOJmOwscZmVMES9ZDEJcQyNwb6bb0YNzkXMz+cX1TBCW1jtbb6FfV88cAaot6T2mV7NUy/50/5DxIRLd8QonaCFaz6cxx/V1qznnjL5rF4810K9kTjqy5ID2ADmx6G4r1JGR0XzeCkKsjesJeWUy1p6tIodilVFSK/Y1IvmyBZSihwFwBtNm5mbLSg1vp4nVjetRnUdpqLtq60YtNx02tJ8LEpY0LMMxEiNYEMCxalLbs6bvZ5Gtht7H3252w5YiL4tvyZ7iu74VhBtPoystTmM2KgsoBEMU1o9ONON3Ob/SIE/WloFHc0+1LLvOpzzzIvMBLYlnMxDXN4WtKlZvMA2WoS2OGQZZKx9zVL3TaDXzbNh23htyXEmd0D9/cn/zTpyLeCvHdmpij/wA0ufrNSL3cAWKkABZXAQLine2YBTaloWDqCMTVwCbcgbboLuVssEWdGY7GO/PKxJueFhTdgvfnvZDUG0HKvxKOOLTaR9yqjUvZJ6Pc5EzuOSyTuppko/ybs7Cqn6XDHmidwmut+h69FVbeQvCsIZyt4ISlaTiuUTUrKePJTg8rIcvN7dQslg/mTjN6PEZObA2t54vea23d8bPNW1Td8PTueDbeeY+bnDOTEFzufYWaYe/MqQdv2ruE3oTn7o54R3Yl3chN7Ob8ji4YfafunMk/7ByZ3d0yvpGP7km86oeLPEZT3lLDbql3vm39zTKOjba03oKG7F6eXi+6m/qm536fzohJqjSrmYua5s/EyuSRvs9Dvs0lqVxq7swb3sWzTIzt4osR7tpHwbAQEAIfkEBQoAAQAsCgAMAOwA9gAACP8AAwgcSLCgwYMIEyoMIECAwIYIIS6cSLGixYsYM2rcyLEjR4kSDYb0SLKkyZMoU6YE6fAgS4IjVcqcSbOmzYUvXbYcGfOmz59Ag+JsCQAAzJYiBRTtKbSp06c1JRY9GlEpAKZQs2rdalFq0a8ElyJlODYn17Noz3r9anSgWKoDzaadS/dnw7cBpsZtOPYh0bY8rWKtS7jwxbtX/x7t6dXvUbyGI0se6pji4Lxt/UKezLnz3soTL+vVnNiz6dNkSV8GjVmvWMZ9UcveynJz1bBgMfONvXq275u7BeodOVpn44Jsk/5eDjQ4ZtbFkx7HHT018+sqc9bO/FwnQrbgv/b/xk5eo/adVnHfPhg+/Pjy8BUmJ9u7/m6+wnPnVx6//8T5zilk331/FVfde/6VB2BZ+CUkGncVBZbghMjlFthlD2YkIYUcVrefdQhax9p07IkXG4fYedidXKExCJeK+dmGomlYHWjVfKxFSOCJFVIH4Yye1fgjYjiK2NWO/3FXJJCSsdiaiZWFp2NSSxqpnlulMdkkega5x+WTMBYEW5VC4hailk+d92GXWVYJV4xKgldZT/PZGCaaQqnZHZtr/fjmkz4O96WPa+51J55cEekniDe2tVl7i34YIFluMjopomgpup6muo0FqXyANUiaiixdiqlNG0ZpIW/oSXmkXBjy/3jmqdm5+BmgVjLqqo6w8pjjrbQ2NWtVZCIpZoPvsTUricGu5CtGnC52n3SDLqTss+sd2uyU3t26YWA2frfqr+KqWF2R2m7b4npz2grukDwuSG6J5v6IbqTqnmQgvH/yJ6hzxe0mI5zUlrvosPmCeuWfsUo67Z70CRavfnsJSSq2CXe7rKiGJradl9GuiGyD6YrrXKoZb4pxwce+1mp7AlP8L3rMYuTyiCvni7DKWClaJ5S5tovz0JTmJiibKfNnUqmyNvozXj1/+a27jTqMdNLsVkhgoX6ZavCuPXpbbb+3ukYxwPgmLOTWEHfNMaiflgiXk/MeVyTaWJv5bM1lJv+0b5L5bdxbpXmX2HDbQSO+sOJhDzzU4BQXruHER9N7sNOXq0xoxz5+HHnFY0tucagGEytnt/wRd3Z6WEKNeVV0b5tTyYxeuaOn4xp5YWwg824iibBJXjvjmmPp9qTy6s4gneCZei3wrAoPXe6FPgo0nH9r/XCY0Mft+q/BZ6x65dVnCef4MtvrMcn4dt9e4FJHfyzWN+N6/vK2bu72RpW+C7bSRqIdpup3r81MinkBe5tF+seguGVNddKL2LwEaJxqRU1cfGoa9t4HrNZ9Tm0jw6BHTpa/+clNe9mC1OrYRDjZlVCEO+uUv37HOiqlLYDUsxZ3YpgglMEwZyaT3/P/atiyG6JvXldD4ozsA7cPHil5qjKdgIj4Ie7ZKlyIYqLfTrcRTm3oYlY8l6Pad0V+oUlRKJsaAzOCRYZVq41gciL8HghE7KCxhGp04qzgSDQImnCDYXKcD2fUwlGZEYCHoWK3zJZEkZWugslan7TgU8ii8bGDiTyU3dRnO8pdzmuG4xgol0M+0BFseIhMnKpc50euhW2C5qvgBoVmOR7OpZT7w1XswpdCVuJucY1c297Yl7zR2TItxfoa6VBoPx26cnpTrFkuB1Sgz42OPMm0HC5l2EyFMa6VsvxmCB9XzUue0jdPk2TEEHNAUfKFkQ6qJvgm5sYCLrOR3tSkYmaT/04Sxqydu4NnL++JSeN1MGRQfKUziVe2GxLmjscLHbeU2E43NhFn+zJb357ZzAuicjIQXadELfPCY6WxpJt71+Yclz0W7lCDH91S1iY3RW+SpE/6hFQkM7qqw+VSpqgzzzBtOsJyGhFzjnNpoELlUwkWpk+5XOMfTYiYR1qUmchzKMS0KMYmthSk8nSqVMnWrnrBkXlMA+YWyWrCrm7xXpxBn0abtruAGu2GVkzkRXo3SP3F85zKoyBwcPezqNUVfz8D3F+PtNfmPUyJlYTqQRVJG/zN85R4i5jZ/tfQiIKynZXELB7L6FargnWSuZJsZmMGyMyJ7Hawa6AcK1TKk/8ClqO37QzzZhjIQ3oQgB5NZecUWMUxsjVk0rpmZ+uy27bO9pLZrBtMDQZKeCbQdBer7goZ+tC/HLamYsttu0iY0KvBUYV6/FK9ohZdGnkXf02dXXojakjIGneq6L1YFEOJXd9u6bo6Ca0lOZjcsPLSlN1poX4pYzOCpo64mSIie2f7GBVSS7XyQ+1m8bVg8DaWojSr42CVGrYjvtZ34k1c5apaYqOaM7VDNalsWwTgypK4kytlKoq7WVCrFe1qOLXmdHtcUNAetcaFGWJC89pQuBoUZ+e51k+JXGG98pjEsOVvXZScQyavMn2L211ZgWYq+9BOshcVqTCz8sXTtZn/lhx1lf+yxLYHT9SRU5XuLC3n2dEqcSZtTuhx5GLWHIa0zlTNmR8PrOc4PjLLfRQxUBYsZSz1qVcFnqtAVbnWE56yw4iTUaVxaxpKX4+blT4pazu16T0uiqccBeccaRtLwUZ4pw7u2CWbK2uNVKnSoxYnPhMXomCzGcJYblp7f1VKW/v1ftB+cp4RF1yKGHvS95Xugg4Hm/cgDGU8FaOYT9i72Gb2xk5ptbJ7GuNuK1rSRCvfr2Op3Q1+1liFVsuQ4UxsZIeazpYtMsbSKVxpz61qi7XhlNNSbX4b9lnitqA7C57jF8f6ZV4u4sITBW+nHhyAGyYNTX8LY1cNscrW/34pqVEbVa3apeNlDp0fF0RBE4/pdCfnXMpfpFWA7tMwozS4pWGavWPGUZA7ju2dST21LnZ8af6Ocyx5juOS6HTfDA062TIeu3U5Rb5/jicCudjvxnJWWBh/tcqHzlYB12q/31agA8u+QAJDxXMinF5fr4yqnGU3xktlWX2pzPdoyhbJlyU8LdkZ8JXLJJJKT7gHbTRntqbY8BVGPIwtH96ijdvxKAlpgVPZXDaqHbyL9je4gbZkQysyREbviOhBx+hc2bpeqP+lx4OKPgyndMbT9jBX3A4tf2Ox6UJHNN9k3qiYzbtQmBZ6i7ouE+InMkOJ/njyH2ud47OKy8/fqv/E1Tr9kdZk2Yyr7TunDrHe6iny295n6Qc8PdrNnfNZQT/ulcf4Rro/fpinS+zDbC/VevZnd/h3d7cjd2Q3RUnVUGPnJE2Vd1qGfSeVWLu3S0/3EQs4dunSfwwmamSWYUFFgRlkX/FGfyemfRRHEwlUKXFzaLqXgH6FfQCWX7XmRPfibjW4fpLxgjrIQTKoVsW2XSJ0g/llYugmI1mVQCwWJAhXXMUiRnK2gfsyOvXjUsGWb9KnPNwSezSBUGM0hepThR1xhZ6UhbS2hWr3VVfldWAIaJ4EfeoVJ/uXgBbHd/K1TQSUbXSXQvvVgi/3SABGIjDoX55GeFLle9qzScf/FWOVA2pNAU9jp0w/RHVDwYX+tzrlNTz3t1ipdxqU6DuFtn9vlolteHokN3jhE2Qf+Ea5Fld0NUwKdmphp4SONnljuEzxF3Mht4aO1XJO52wl8XAO+Fy2yGn1Z4fpQ3Ddx26+uItaGIxi5XIapxW1pyNu2GAm2DhkV258Jn5SyIzRFkRSpHg+kY0ktY0flojm9Y2OpVxICFj9BHHsJ3LoGBW444G5pnWd5jPSyGmjOI6YiIFe1YzqZHpxWFR6M43zhDCCYnI59I77dTf7ZJBvBY9q2FgLaRIrNoPcpBrDhDa/eGn2KGCrVz+Hs4OENZHT1pHc+FFoWGGxQpIBaZIH/3lnvTdOA9WQughigth39/OECkVNlchjszeNaRV8JBUr1zZsUZaQCjiUlCWO5HSUZPiAXrJxceeUyQiV8bORw8d6OjYze0aAiyOJnhiQ9pWH9NV5Z/Z6EzeWeDEzZpmLaCltagl2HXWSiHhhVAN6OsdyymgTapl4dKhYewdLPZhmEtiS40WC7UgXh7l50gY5KVhwsKaIuXNgxaRAEGmNg4hgFQGEoOI884VnxbVxKFiYOUZCPSljZAOCI0aaOzeYoXSUMwRNK1iCLWZ2YwSbiyRkg0SbzVFHXjRkkLNhaFZ83AZhZmYi6MeCXohgMBmUmReL1ZlmwEZhYtdu0Ikxd/80nZ2XgsI5msAlf+8lfP+UdAJINPNmRW2GVgxIg7qmnddJUnTkYw9oV/P3mTxHhWQ0n76DmvbJilgXFDg5WUCGUr5pQy+miQJHfn2pWN04ViEplE9iW7+Zj4WJXCqWiqQHko25UBeamrP2EwMpm1YZm4KnK3f1gK2FUUc1XFdFlA5Jcuu1gabnYxq2di7KomPGnAMnhMAnfMGWRzmpo2qXny5FICwVhMv4i6l0dnoJj6UJLyxWUR1EedUUZIjpE0NknM9mUHLFltNmpfIGZrcpLXeZgl4abWbIlOfnWoT5nOZWpIeihvcWgFSKZ4ImRKq4pVFXfXZqm3gKSXqKV1L/2affSZBmamAlJU0i86Z5Yn7hFIAHZog1apthJ3ymRRIW6YQ/d6mf6qnhtKmlqk+EeaozFY4eyYkvRam1OVeD5oN194iEOmVxF5TuJoahJ57cN5q2qp44aqL9tqsZCHOS6ZtQyqZQV35OmoiluHaMBz1vqDGlunpeVz5t52a6Z0DNCnKiaXVxYoli04fZmqhI1mvkGmZpSFBzNZvCSqF1Wpc4GCpiIYIyypnGSYw3uqiAVXtaRJ0qSpY4KJL8eo8POnTWE63lmZED26wFG7EvV1oeBHsA6JwPw4Mcm61jFqoFdVY8+niKJKAay2+80rGsIjh+lmgSunW+Na1Ol2wH/9qwI2eehSqz+TRbkKafk0WzDPZ7N4udQKuzKatQ7yifwzq0/FeyEJuYuOkyhfiyb0mRQopnRMk21qVOJHtTq1qucgivKAc/Wzt+QQthmzZlH0mqjtgpy1e0w2mvUGGRfVa2zbRN4KWm1bhgUamZYoubXDmu6bZdP0uUTpa0fGuTxbMdgCt7ckmwUKsvrrev8LJhYJNT4BpoQJp9j4qs5Kp+KdoZgWq5Cnd00BpPVci5jwhimCl5gTq6ssilSxm6nZskvfVlFqqoANtpbEtDszuXtYtfRphyufuMezqguKoSpDpcQquPKhtUfHt962epbpMurFp8w4aRy/F+sNuAHP/ofDpGLdjbqVamVtxrRySakfUIqhnJuh/KMZU0M6uGrq/6vMW4vspEpO5LXaSlnYQ5vzpWv9pERkZ7bN3IP9YKeB2Kbrlnb7DIdWE1mZGxUR5Rtf2rmrT2hUZFaD77vz1awfYIloz5jCMXbn+5UOyIYJVJfUB1onZ2QrS6WCh8wAa1wsLYsC48GzI4YQGoqy1pcxITw2YLX3Ukwf05uQrafCF2jpEHxDZKcmQqk43atESVnkl8HQRMqBVrnx/JrQGWmklJvM3mtYEbvKa5e696ql9cQmAkxkyMpF1mxtdhvdr6o/HZj9V7xiGquVmcsVYrUqI4vgw2bpzVieILuSL/C6EMu4wcerWogYvfOqMtdodXyp4FGsjbq4rD1r2Q2bCY+zkRycmXLHn0CbJKm36kDB/JGW2nGKBtUpYIKZiN1q3WGYWMxV3ulTypVka8FcvXO8u63LpHe8vWZ8LMIY/euaCLWJWBCsZeEXTuCsiD1K8vvMGF12Sx7LfO7HrQ/F5N1Vt8msmsPMHU9n3xKJdPHMY9e8jWCE68bEb4S6ypO0+982LSXJXjGH53tplx65ql5lqfp4JQ7LSsWY2t1ULLucoeOsjFw6u4LF1drMYsvIufiIdSirO/wbWuBX7U2LuilbyhbLdDd60DyJTzfKnn5lxUCzOleoarItIWTXaq/9OeK13L/sFT/Gi5NVeyqFmsEF2OOHS3MTUhOk2KjnXMtvTTwTkynPvNbLPD5Uxju3ieXZqKJemenwbA7ohDH4mPtLzRwkqkj0mhEsmHZXhfRWi7i0dEIP0bf0yuyueX61x0Dpp7KY1NjfyHcDuXi7x7di23wxtB48l+AEmvkZZ7pruKMOaVGmiwZ8TETPg6E1qdz7nYE/uiNvTYFptFL3vYAL2YTrWUxWnF5NTLere8TMKhoO1tdz3aTbydtCdp4uu9La0u6hjObDp/pS2txISlLDqTLlRwuh3YRTmpwsrRmaulYZvXWwa8DUxOggmOfSPVupy8rtoh0F115Tfd6f9cwtaN3Qvl3N1Vi3IMy1csTjlny5LrSuTNXBGdyn+ChMdLoXfk2ojtXDaMKbUXg74821v9PT8mNs0J03qbNP1tpJj4lu0LowdX4BzRiSnzukuFr6blVtHMgDUcqRQsPBSuixYOq/+mKkwdeByeqxHEzgTdfiP4sNjsptvdl9S0dClOqE7mykMsdMVy35980K0qeSl+1ZG4Pha5k/TYuUzjqJQ60EE+37nT0s0LyEcesIimfaDmj0FezVL5y4Pno5FKXnrMt28NQjKbzyG92zsW1axzc+bd5GDr3R6lrCMN3Dnr5icxwz75YEOe0PWcy3ZOuQ83vIkKqRg6a9P85xyXOYuCDp5X4oxVCnB0i+jaa5njaEsrCkvWLOkcGKb8e8Fq7aBPqelv19hGld1/DcuZLuo1S+p7ZunL3MFKrOpy7FZifrnU+LfDLOt33uM3DL5EiDl6wmJjrut1jpFK3XESTuxh+Mmbeb4NduDKvuuRmWbR3h/n8SDDXu1PVaTariUf3u2rXa/gvkTiPu7B8t7mThfo7hEBAQAh+QQFCgABACwIAAoA8AD4AAAI/wADCBxIsKDBgwgTKgwgQMDChxAjSpxIsaLFixgzaqTYcKPHjyBDihxJcmJDAABKqlzJsqVLkSdTvpxJs6ZNlyhRCsyZkyDPm0CDCrX5MwBPnQOLDl3KtOnFjguLIkXqtKrVqwKhKpQqkyrWr2BZQkUJVWvBsTJ39mToMKzbtxvRlm1rEK3PtWbh6t1bMa/RtXfJtvValy7fw4izGlZL+K9gtQr9Jp5stWhDv0qTpmUreWBnyqCDWr5sMDNkz6QTfg7NmibXwnPNPkbdujbW12dTXzY8W7Ht30Hnji4NYHdgvIvZEm8MvDlG4ciJG9c8PPfyzc6zY5x6NOb004qZU/8Ur7181K7dBQiWvTnmRvLm4xOMeRTwQfj1e0PUL78/2/z2EbdVfqtJl5x/znlFH3qNuXeQgzzFduCDEyJYm4LqrWXaf9ihxt1s3y1UoIV6jeibh+nNV+Ff4HF0GXwkvmWicihGaNhq3D31YocxuoVWjhSeeFxkyQEo3no3ptajjINpyCONmAVoXUFGPomkijMuGVyGAJoF3ZHFJemlkvdJ2RmMWg61YH1jhielWmPGueKGZz6ZplP1tSikZjqGGCVjVoYZ4p53ApUni1Pe1SeZfzoW6G5+ZVnoR41WhGFEjULK5VETVSnppDoKaNGlEGUKKYCdGvkpqCZl2KqoCE3/R+pxYDboapleoclqRg5iWqSdnDWp4nW1dtgrlfbpuuuryF6np2pzOgloZsfOFReZy4baLLJAPoSjtI5Se+uJq8K2YrYsAXllsN+eeCihQdIW77DyovuSuoK2pemA7nJaL7T0Fibwv/ZKpCyx/v6YInVh9jskoopy6OvD8BYM63hG9ssmbzlZC7GjzyJ1LJEU02gxhRtGdGhm3W478LQJ67bpReKVu+SCNPvLMnoI1cwxqsG6ebDLiZ4s8V+daRrluwQXzd+2KYNssryybtZywRA2TOG+3Pob8LxIRwtoz9FNWXXEQ09qY2FR7wY0ludCqe/cns59msIPbTyoxWvn/9b2jkwrNqLHXxJoN6J4n2fj3ui2mZDIwjb9MtgSCt1ekmNPDS97kzeO+eMy2SV50ZNXzuGsNFb39Z62nuz45hwLju2/daoOtbHjjv56uG9mu3uksbM74e60hj7h1UevTvvPXhs9msdwNolm1PzyyTDkKtquMHTOGp35dOwlPmDaH+cac/Zla6z1yFJ7H/7huyNvbqx050dy0NZb6iT1vnNM+OenQRPj5Pa2eIWIfJkLnPcY5qfjNQ92mSMbhiQEPOiBjWn/897iANi11k2Jf+KiYHLAtyL2iItccbsTzgAGOgtWr3PxWteeBpdC0tlrhfQbkAtBl0MRNamByoOht/9qqDb7lYlsHzmU6Og1o9Ww72tyIWKMChixi2VEiZFjYg2dmLvS/VCK2fHOryJoQ7hNDFfGu1/SxPSrDCpOaz0So6j+RqQmOhB7LFyjGZHlxvHBcYp/fKEPn8Ust3UIPlwjmx3JKKq92UwvT0NiqbJoEQk1BpGQ0uEWpQcsyAGPVfgJlAcHtrTzsdBybkqV7a4DxDSFUoK462EpV1m0FT4RdLQ8Tit7RKfgOUxzBjwcI4V3sQWRkEhU9NsDk2ehXlYxdWkcpNxKJrtKnS5fFavRMtHXSwRi5ZbFk104JfLJaU5tNPrB4OeqMxsFSvJ+oAHn9Yxnwt71UIsofJgc5wn/RU72S2HKEiAYrWK64mmPk7iBZ9PqGT1UtrB+tmLfKPOHOA6WaG6zNKX6EnrKhTKvodfUpEPhdslYEg2P2QyLx8yHRXwCk5AdjGY6TXqXCjrwfSnF5SGt1rGBCmWlPG0p1YRJNFjicaYwfNoAZ7rDvEmJpYE8TJ1ySspTPWmASwRm31x6xiD68HmR255PmTLVl+bRqvTT48dKWU5JlbNVYL0bJx9ZEwv2spxY1A8XYam8EG6Sf2u0FWB9CRe7mml2ADWeXkt4x8t1T5yTHCz9BGvPcwJrKWtyLLQSCzMvos6gPbViRQXZ2UoilqhddUpmvQrZlS1zTJ+d51YpKlfS//JuUVXty1hb0s2dcjNZhx1iSZM5TNFOtkqa5RxqBtjXy4rmsCX9LVSFqEyERY1/MGUbcrm61kxK85lVcRAJC9dA9hEPjU5tbTThNTTlQm6igJpRbDF7q/FCFJvL7eLURoTdioruvO0N3ntpysAazle1I8QoJcmHvOl+rLZSO++qsqrL4c1sv4c74TcTrF7w7odnJwVXxBIn4YFSuMDHRak5NfyWSB7xPDpKZn+ze00V85VhafXuiMn0oahexcXGLSo5N7WhGT9YmbnsGjXzuzdPCji0CM5mWSe3wZyKz7IT/ChImrotsUavnn2z8Zak7MB7OuqYLGRx+/BX3Oeg9v/FXg4bmKEsZqAYU2w4Ht2BU9tj3B4ZsvqL7ofdSdBNtSvP2dzzJNFW2TpSco+B9u2gtwkWbyraXDsMM4MWxhU5PfPQQaaude2j3KVYWrO+QnOFA2i4BP7xgKh+cajLiEZ1etgmpTTq5Q4MZESftaabPCNzaY1H0fnsnTfJda13HWtgO1WgrPMx2NQ4OzPv+JfHljVZEfqo+5b4v/7En5NjW2Jqe3GffZTXzhRK39IayHLfDmu4zxYsclvUrPms5Y7ciFfgsjvZ0TrolfU5b0Zx28mejrCJZTbERFqvago0ZEHrGvD0ibt37ESO44DmcIivd8hchluT6Xlw3KG72jX/gXZIoTlujVuYvz0V7xjxjWTn1smwun4sbYeiclsW3OdrhDmSxFxnlDXarCAi7DiX7M2RyMnh8CZqj7kjc2v/q2/DVplzHR1y6xX56HTVVjV1rE2c3zZsRVdrfBX8nq1vluEwXnObWTuT1bJZd+HuLx2NbvVUbm3mzGKWMwtLZJJTN3F6711gr2phn1kztWccPJPcvehlq3J9HDzvEGXJ4RgG96uHdS9+7cztwMf08hb83cI5f/hw032k+WV01lVSrdQUvb92xCSyberHYhM1a5DXZqI1CvAsQ1jnfed7Rz+d4G9VJ/W3Utbib0/8n+p38BFHuRZ3KHTD/3nlpLpz/8n2qmSd9nl0LZHo57NPQ8i+VacdNnrLyKtlK/8qlFy5NEw672H5Hn0lTIN1j9Zdt/Zr36dbsEcT7/cs/td0HhGAUHZiqBNgv3QtCQhwU0ZrS4d+yydk+ed9f6N5GMZeH+c4pYZGYWdaGfh6Z8eConZkH6hejndvM/RmKmaCStc1Kdh2LQNfXud2AgVrWhdgK+hR6qM8OCR3Q2VqInZkZRVQNkd2UEiEZTZtK0ZqCbYz2baDbgZTameEsVddltVIpxVtVEVzQSd1GLdprLRbYjGAZAZDCYc+ZthlZTiGNGd/ORZtYDJMs3UVtbd5b3dub+aCQvY9eLaAmlE7zmVkX/8RiN/1d4SohxhzY4emiCCFfOhlG3TFPZHYf8HWgciEhbfUSiskaGvHeoXGK/UjiKK1SKIILX41g1rEUS3yh0tYaR83UUT3RxSogaZVgOLngYrFhtDUeg54L7tIYL14gq7IgQi4c1EnWgOGiAzYeG7nGkHlclWFZv9zg/xnTjSGhK6nbbnlNBY3YW4YElDlZN0Id99YguFods94hDxkgF9zUNHIhEyXL1GiapSTiKtnhTlmXmPliMH0Y9toICMHkF5UPeqYfJimXzaDkOdYFTK0PPkYgWykNDviUl33b0tWg4aUXivHNb1miMroSJnHPNDnkSWZiyEZi232dPpFhmD/FUXBJxS9pnpmViX1qBHgJkmMKFK5SHcAKYLaSH41+JMZ84lCKW9E2VhGmW9ICXdNWWiSVWBzRmjA9pJkx2hIZVYeh3Dap5Fh80xT938Ut5Vr15WU9pW/pzSSNFtpZ3sxA3UBmYnls2kW+YartmYb81tZmW/0SIA1d449pmw5p28NiIVNUU9XNpjCN4IyqYbMp10eZGxQNpL85JgG1jxcuI/3uFTrF1XytJHZBkvkZ2ujtYmClnSkqYBx446bSC9KdZMXpHgV15qiKZWwKWmy6SL8qIQT+WwyJW0e9094eWKpGIastofqZkoTlVjn1xTX+Xbdx5zSmXFV45xnxkaM/yadG5WcD8k72Ymda0hlzMhTw3eGXZd4Mdg0PaebylYsf5lE64mO7HltcBY38Xl0rhVb9bmaeYafbFkSvag3FPlkoIhCoJYb5Jc1RkZvZ/hvprNuN7Gg6WGQ47lz/xOhkBZMa5lqlNSJnbec0giYwNhcM3VUkoaJaYk/XGZIe+efZCSCvpdvtlh34fhvdlk2giajSZduJEVppjJ+NPiabtSjuOaSeCl9P4qCcBhZo6dvgrij5Wd8BGmFSkl7UDpwHdh94ClcV9pPWRpN93k5X4ihS1oSsDZcMXdvtnmLO+ViQPWOJimWzGY+97OYU6qZ0ganPPZUHUqn3menbaiKm/95liFjjLCne4iCizSEi7yFmgu2kNMZUVrWfpMWZ5c3okPpQ0lomtyZcpiqqL4mpnH6cRKpg3M1UH6Fm676d7P6n3wZmYjqYl45qRYnkuHZjz0kqbOJmHMEmatIn515eveYZNQVpKj4QcBiM9b0hMj6FX2oVYYKWhlHaIBKhygyoqyGkKZ4fY2YoDwXKCQYrciVnN66abDFbOLqq+RqcH5XgJ5Jm20aruehXEWYpBL6ZmxlYV4oRUXZpfm5f/t6rw+Fo0IGsHukiJZ6jF2afDdafoAoni6ilxu3rLB4RXMqiFyEIQI4fEmXsCsxhyAXlpY5Wx+7HSErTSPbp5hnspj/h7IkgVXwI6vNRlFA2V1x9UbFol1yqZbLKqgCqJekp1YzWUxVCDMcBXS1SWm9VbQ+e7Q1l7QsS5s96oPdx6s685SWw373tzDkCDvEBX/QmYcucYqSdrZCK20DakRj+1qz0yVTyn2FNzS3eqFtW1/3lX1p+mUKxnGnVaKWiTCZubKUCXOAtojr6BFVV2N2O7hyVrhGxJKIq6PNo39HWrJx15CR63T3RXnnKTtVJq2qZ7hck1kVSpfi+HCBeoCE51C9qnp31m+rm7mw67ps6ZFWKbvPmo1woaGUNXvyQ2zuSZwo1oIPVZHEW5i66KdOmCHIC2LASr2mp2mJN3vIllqj/7llFZe8OgmVL7iobOui0Ru69Vdz4Zuy44u9qgug9It6hdiBOEuGnjmMfNGq5gM8mNS0lZmv0NhRevu4cthYX0pfc+ZsYiidbnVhBOy359lWZ0mkHju6PmqNbDuh3hWP4kKLVjp/hpaFdFuxgyhVBQefjDV2hll44Do/Iyy//KtNbrmy/Qu4EqebsDO5+Xs03mt5ppVMqdmXLfK++2eWgkGs+QWjyQjEjmp+61u3lLWnvqqS6YqD0Ndw5QjAxJebCpVlHfeRxnmItHu+ePJqbJe4KaxmdRttMlqHY1de0Seg6jpkF7V9LbyiEzzA2rnHUceI4UfGqnnHs5axehzG5/8qpbi3tcuTuoo7VB7qawX4xDwJYr0atWSchrvLxIT7wnZ3wDNayWuIxJc6rpWlyZN7nI9cWf8Ij5j7fJ33NENbJqbMoq65gf2ksn3slIvVn2PaoEfcWCm5YZSXUWZGxzdGmi4bjp7MTBWIdGZ7GCQMrkVnlDL3de9zc5scxTu5ovGDtZBEw0kCJKtyssVYUtt8U93MhSKKls8JGhNYszb0ysPKkbwHq0k4sfqLd6/6G/Msys2lVlorwxW2z+KMq/6MwmFEdh0LxqRajq9awxCNxTG8cvPaHGNMqxXdxmDHWEGqiNSaO0mIwMDxha3quFdLKh7kgyFRpqUZOc6qwsn/XKjFrL1rdmI6rcH3rD/Y9qv+AbFoWM6hV6gFa4gO6V+ObJu92h9CzZQYzWQOupeTlGkkZ6oX98N8IaXfSbD3mL3ru8Ast7yRbNL9wdXN6dXfi7Bh/aabStbMatYxgoNkWMQ7tsTyCKzXKHLWW6VAo9Un/TmmYteyi9fS+4LVaVXg+dfoGh8i5EdczLQo16SdhKyNajtNnSaPrbZc59U6y6OVzdIm5XO6DCpGOp0u/JreCcsmzWV/aaOdix6jGkc729PEpNpCil8hmqJUubF7u7ztVKuuM7WjNnfMui4ouV0f9qiWbNrEHVPpKcWffNvtqnXMPcVzDXhmPD3mCd1h/4s8cEm23Qqv9noz2k3KJimByt2j4W23pC01kJy+8kFvWFS+4xTBDFXGD52XhDVnt1wb9M3fuXp2+K1lF2udiWqsvPPfge2wD5pnIhST9th72A1BzrvKzu3gINqpCqYpos3dONtvISzcrpScMH1yTpXUEGrCOcnDsTuEg7okMHrifX2GyO3Zh8vf8iTAgXkyd2l/AIbP90t9cp3AC7TcZHm/jzuw7leFZRXEcXzk8i2Mazww6gw4+1M2k9zPBenNGV6JwUTQOwXbm9uKygvkjizlZgySOF6D2Wm44/iZJNvYUl6fcRi7FLqNGQfjJAzYk5LPtNqqcV7k9HrCvYyHavZudSw53a5motXzs5rolIkejJxNNB48zCqqUDPJ4KzifIY81NGc3CoXvP886S36Rp4VVbTkjV+04oNu6kEZqvpGy0DN6iCVoRUO61bamBHrzLINyODM07puprwehu9HdcB+1MPuoxAoqVBt0XfH6cv+xpRsNslewAY95dMelfOZwM1tj9K+7bKY5Yru4tE40+L+ErA9EnyrNdeM7em+KH7Ox7YMnHod7yLh7OZKtL7t6vCO7xqh79HKsI4uN2IN8PrZ52dK6XC18AivEpqckWI3ZBL/8OliSuFu8WEhVBmv8Xms0B5vIU8u7CEfTyRf8gB+8kAREAAAIfkEBQoAAQAsCAAKAPIA+gAACP8AAwgcSLCgwYMIEyYUIEAgQ4UQI0qcSLGixYsYM2rcyLHgwwAfO4ocSbKkyZMoIzIEAIDgypYeBbAMmbKmzZs4cyJ86VImzJ4zG+ocSrSoUYo0GSpVajAoz6NQo0q9mXQp04JOfU7dyrXrxKUEWQZl2VMhTa9o024FO1AsgKcOhe6Uq7auXZ1nsf4ESddg3riA7woerPFv272GA/sVmpiw48dlD5OF2DhiUMiYM9N0q7KvxcuZQxMG/dLtZKtXFQfgrBe06NdpSfs0DRN11bBim4qtDLs30bwfJ9Oeq5v1Yt/IowIXKtw08da5D/JOTp3jR7h8ccc1ntD1wOtWJ1f/H08SvPjsh7dHV+g9MOrz5OMXZuwZoWztC+sfRi2/P0bwE92XXn7svWWVfwgOtVxj/B103nQJRnjRgvrFxZZukUmo4Xf0dfZVhaut152IG0oIIGUgZuggiSvCV6JvLtpXm1Z6sXUbgSFGRluML77GI4Z8uZiVagwyh5iRw/UoGnZmITnjYieOtBR3Si5Jo4chnuaZjSlaNCWLVWLW3oClHTmXljs6h56LTOIY5l1jCoSmiIY9VWaagbF5JYpv9mYemOjJ+aRkOwqq4nP4vaRol31O9SePmw0qKJ45cohloj4t2uhvHUp3VZ0HVvplnjOyRWVMBW7qVZQxsdqTqaXS/xhcrLP+GOiKqo5mIKIQ0VZkgd5BeFyQe+VaVJy3ArsbiI25deOE9NlqLLQW0gUel/gBOetzoOpooLOpUXTqtP/Rd2ODkcpIKrf63TjWssISSq5N2L37HKXP3srbkPp2Ouy485ZU77fFWpqlmvnmKyO2Bnd7cMBShvohtejZuaVSkGYqMZ/5uQpxkxdKFK970UrKYZvqNXippx5/POzLrTLK4YPhkswrzL8aDLChLsN86Mkyq/fqxar9rGLOpNoqbc8iO6klqJE6XKbRxDapZXEFM12e07HOFXW7JdN8ZtYzmzwp2Vqv3KyISu91qsoHLw2kelmJ3euyaferbLa4yv8bc6Q7jwgUvHvui7fLA9vc71N6fqln0Q8bjNu2ZQu5a9Ujyt1n4hX7yxfjBb/Hosfc5QUazafK1rbm5DYnIMm+Gplu05RDzmqtZNcNaMsuu375ubMd7p3msP58u5MLY7y75wGbXmjZi4Fb7dmQ217z3U1W1ObIYTqfpNAxSf858slKDnRFtsa7fdDTUh47yuMDWbpnrMf9/NHXV1WV+D27b9qoLKMfTOY3N4mk6W3Wyl8C93e4/oVtgITLnqjokj4FUo9QvjvbchD4rqml7VEQ5Ne9TFbB5VzwbBk82AZHp7F31a9RqHMb2vQSoN8pz3m4OQ9ruBM4y8Htar07kg7/Z8i3Al1LYwXkYXSU2Dbd/NBseXMTqsynrhCFjGdYO6GnAoepIwKRe80DG9XwI8IBZTFyY9Pc08wlK+ZtSmGVupkK2WeZ3C1xeWUCHmtq1zdjwbGCWAOj4FoUQrI57nKwiw4fC1glQUowaVDEWuOuh8I7Js9qRDzfBB1ppZO4S5Fd+h7QDEMpHiELfJ2h3BU35DCQ0chuALuTmTJXsMDBT3tdghUXq9PKjr1ylrEMnt1kZLkKvtBTqeRaFM23Sj0liX8DEiUqx7fDWfJudmOMov4EGD01QZNn0sRctaoZmWtSMHR09M/ahrkiuIHQdxnLISLHB7gIMjOXCZSjhtY5/8vkheydhYwnobZZzzLCEWdi5KUw0TnCJDGwl9hEI1LyWb5yhmpOAGQkFaf4GFn6TGfPe2hCVTPEYwJPgg3CqPKq+NFs2kWUnASk3uJILJmOCYcTzCY7pbZAilYPTmr6aQ1RStEY2nSekGsOkUC004RuE38dNZKg4IguN4azkpbrJr8YWNIGIhODSP3MoE45GP9RNVSkCyp0UodOcB2PiV6FWew2AkSyigmUulyWGgvpLXZ1c6pFPdwTjRc8qhH0ojbszR4RC669anGRDbtYcz4pm5Cxk2795Cg9Ecs7tDSRWLgTEGXn6THDKW56EnWlPy/Gz1SZEaiu1ZT9TjTak/9qtorHw92HSGkgCu1tkFi8i2XV2kwbmlZcmVyZipaGLM4tVYvJXOVawgXT61U2lMl9bUZ6ydywTrOp0EUR3DwrwxSSNJLlM6lPaXg3gT7yq1BaL2ATyTdOpqSrjz3nT3GKS6p1171SbGn8NiraPV12VYF1qAATJt+JWpStk/NcB/XzuIr2jY9KnaJdjzLaxTpxvQdt2oNZNERWTZilkR3qmmQYXFLZFyVp5dmiGFYt9bnxvX7d6B+79lX8rji8l0RwUiGYMrT21MZChS+OzvqzNY5QnutK7YheHDEB19GEKzYmQ7EXOXeGK69FbKfMyOo8WFHZOkTDyE07Zcs9JRn/nHj9spx1q10x1xBp+7nKhqXC4H/RibosxLGShyZPDxOyws8dpecyettGd6XPGv5zPa1sYcMCWsHEDPQ9h5ZbN2/UpXVpk3mn6FEydeqI+Pun8ubaNyD2N8/jNSAJs/toT496xEpUHKrvqWpZIivD3PtarOt4XrvgGcst9luyXUvsAe+WfJNc9mY9yNv93thRzGpwRKFcZ2ZzWbq+vGC0acrpVaPX1aRO50kOzKsSgw3Ct3ImoEbY2WiCcpx3/Gbkxo3lPdeE3Up2dxprOWut0nrF9YbzF81dSe8ROWbWm6+QuVxJQh+6vGxjYTgNDU1+zsmUCBMggP8qZT5jt9BH/+ItXH08OLbW1asenxHAMA0dfUKv5MdCZ7VryuOBS/Lhv8WXuuM9qOM1XM/e5VixpzJubRXW2VsksTczWU2aU0zGp06wPf0N1W4zHeOohdCZUSvx4YoPQmtG345ka23APtXROec2jZUukuHu+uhvzjOlf37iTyN8zmk2iiq59qdheynrEe/c0i1qcC839OG82badcY6TweMdtBvbLuLLR1sJb3mFWQkxndHdbqpfbpf0OrKTdm69Wyo+y4RbmuPNl0K3Dr0jhsbs2A9fbg1SOLP4JiokdRddEOt33/Y0Su55vvuJwd3myvU7+MgZ7kZ3GOgBzPAum18UZIu4XNDHHP/1vRb4TdtP2sGv1PZvzxXQGT7ML74q5a2I2GG5PtmlNfcQecUlPHNqspnXR9KHXDM3b/RXPOnWXfbHWgsVZkt1d4N2FIhGS5YGacHFaK9WQIY3P/knbbIHaIsSQ1AxgZlWgcZXXysFfgK4gZLmRpCFfpoEWPZycyP4ZxFGZxoVfWeUYe9VaqBDKT5Xc68XX8m0dzlBQLBGPjlIdyWofpnEVaAET2plcGdkTpFnQdhmexuGeuzFUz4oZwtIVG3WVVJIcr1EadzXGVqYdNymdm1HTSHHZJXWOWOIcWUYPujlf89HFZ7mhg6GfKCWUsuDbsTzeyeSJrwVbGCThhN1TA7/iCPjN4c1poR4uHhMqHewp28Sl4EQh20W91ORCHJAmG4uRnjZ5ntE2Im/lTOsV33T9YkWFop2NIqM93eX93i+pYoUOIe884GMqHmCNn0mg1MylUfaxj6wRHAk2IXX1oOBhRZ6KIyJRkYzBEJyqGJR1oYDuHBXN1OOyIepOGQldIqyllV/yDkq11snN4AWE37fmBK5KI7VSEkDqI0wuID7F4vJB1y82EbueHA40XePuHIZF1tS1V5PKHIsNmBcCH/rCIuStxUC6XUEmY+4dZC/JWi5xpAGiGJ513REpxbg5nCEeD8Xd1QAh48aF1Ayh0flZ49Ns3xQMZIKWZLyh1Xz/5hfzudBg1NxPEd+AtaQlYNeRJGPGLZ29ZdTayVYT0dtY5aQcqWMbEiKYIWNSikVRomR9hN6B0l6W2lDiyWT/ChHkqeJX1VQ2ZWVr8heqOiE52VQWAiTNHOFPLlZQ8OBttFkwgNFnwWN3DRQXTlrcOl94TWX+FSXXoaYtrFjp8OXM/SOHJZQotiRvHZOLjeFmrRzUDhwSEiNXrmT7Jd6T3Zxzkd257eUGdOLw/h0BteZ9vaZ3/eL33dgsPkhZDWZ8vM/x2eawVRHbeZB8OaQtXaBf8lJbCeAcsmSEWV2hoRdv/l0wVlnsjkSwwN2VLk2f3KPPVZ0cRmBH9mceYd1y/+FfeQVUQh0WpMHOhSzcIQJd8cVhrI2jW6pHIvWYPInagsJan1lYa5nY+3ZaRkpZnYXmrw3U/KYMeaIf+xjeVEXjK6oY/XZWlO2MVwXmRr4l0DZOTjFnNRomvrpnXuYbPcpM/dHnxe6hGHHRk43afbmofUYYCAaZiNqmwC5NUfpcKiFboIklAe0ZTD4gn4DmXKnTA+KF0gXYVV4pAYqVvXTo1EpQatDnhrBcZgJi0VZoxeEgGVkPRtZlvkmmJqGKdnYaNWljbSYYnGnZnEGZ6sEegvppSmElh/FjeRGYMRlmXa4POFpErZnZsh4b1eJph+2nywqiBsxO+15niA1piD/pHyE46dq93KJl4jPSHRrBKSlGajyiFDiSVONKoFSuowOaWi9tnkahYNL1ozISYApl0CuGVwVSp2h6qOr6pSmyTCtCElYknBsyaSt2nLAR1OxWhN8RCFFIkqFyKjhcXpC1Jxoh5nPikmpOVKe6KkMeKxqlaw/pmiN2ZMBVEOK2mxBGI4hCmNaKW1zd4YQqp06Wp/kh6qP+CWG+lqf9KHTuZ1LmK7USljsupry2Xs4N61cCauZVawkSqAZUYAQyYDgwz09pI5dd5dSmaHa6Wt6dXBXWIMgt7Cp2I6+akRgCKH4Oa2PCKyxUz8Z232sCXsOmqF7BYAkw4rppGrpt4D+/4Oegnav0gpMBuif57qLBSaz0AI88LNrwKaq/FqtWRo88VJKkLegN6Si5mdpuzSOSLqkyFGoTPunz/S0uCRbNLuuUaeAD/o6kqgZbAaWY8WU8+qnRiden+JURkZYqHqIRBlZGPiagCp4aZudsHdECOi27gq35jSJ/8qRdsOgRJW3Cre31YplxmiETbgyKQlWxbibmsVq5OqbBySSLvhA7Qmu2bWczlmlglqnbxlXMViOndt+SCtF0ISgIfWSWIualHl9+RiuasqDEydI9RSRPCeW3hdz6+ctyMpX5Rp0WAqqOtWSmrdYxwlZMfejhcM1LDdg/BVAqDqsARmsmPKNTv8ZvT87vahLg5mYcYY5ZK60vVPJt5WLnpWbM2abZK96c1BjGwprreCmWmf7f95LlcTZsrbIeUxlgw3Kn4u5sh2qaEP7uho7ullXtf+7iaubZPlCfJV5ogRMqKqqs1NKmbqmwCtYwPHIjuuFwQ+IoUNofnQafl3RZgKMWaTalCpcRWIJilAkeTOGT7xJq2oBwzDamoBqq71qw47rXzmMuUWWssMluaEWgMObl6fpdBmaV1wopLr4qSukpapLGLEWxYKYv/eboybpbR0RtkQ8OFzMvVEBxMAqpppqwn6GxYZbp3OHs/1ikSwLGW48lHAMm3oIr/OBgBYHueXnXHssGGv/o6B1SbCcOlGYuocW62QAnB9eGSzn5MHAOEiTFJ0T6LPaacELBb1pdoWXTFqZjLDgiLjQurXqm16AarZoKYsVuZIaebcgixlGW8bMZ1WO+XJvi5O8e7xn2p/FOXRs7JcJXMqYC1cop7tmasBO26+UXMXMrMk5scyGzDfObLlhKoQ6+ZVwxrkuWsjXrMovDMH8S6XcVr8W17XfZZ2x1sfGS3C1eFeZmorsHKQG7LJTF89DWlwyNcf2fLp+QsMx22BmXKR0uKa97MjEKrXt6sRejNAaqtBjydBaHLfio8eeJNH+mrxlRYkfenZah8fFtJo3PLVAm5MSVZuwIch7atL1/4zSE5vHR6xZhsO7BA3H8SF0KKpsgdqkBX1WW+p1DgqBA50cQF3EhOTT5euRgbrF9Khe7AK8e1rRZ4STg2qt8dVvD3epy0qWNaxkvLrS1IGj3tzVB/bFgYl1izlysKw2r4vWrESkowcoCUpL8lbTrKqGSBmEoatOeA1tel3QytLXIEXUH4iI75bT2DxdI5utE2x+v/uUHMteSKieKCKUCJK3o/i+M3XZVhm2nmlNvwTYdEweVefQAby6zZWCustd6GvAIRaxfdLa1ezVsJ10ADTb1EqQ93y2ty0hut3PP3m+49mWG6eOUQyDAgUq86skx91UVOqavhNaBOfW+ynVeP9cZFktH7Nc1EiX0qK71+GFnQGoudtast2Dp/AGZuCMkOgtZeot0DD3s6sdIRMIgCKVaMBr2l+JsoAWfYiKzjBCq/7tqol1uiRLe637bO6deJ2qKjOcojvs3m0qtf5slo9HcokNwhty4dgbtVgNdQm9zrr5ahxkejcZJssn3+uTRIXkuwuWggEa1EEGQ44r456Wvdk9dGWG47vo3XcT2TGdtvLJoj0auPQ4YqAW38xMwR9jt0uOp8IMsZvEw+J0tlIOn8mcIAykl1apjZDVm5b6mF/6tQ6sJGNup2Uu1Geup2muvATOqzwO1XPKyxR8s5WcaRIsUPv9ImoJo2fa52///ecn6eLgGdUfdJDvF7y1DZsETq71zblh/iaDt7+STobnhrEMW2fHxN5a47eAu94hxyl7iuSqYupsNM+priBtzuoQ4+niqmiHpLVk/YarjuDGYusUh+vmpusRWLgvGt55o91LvYQf92czyroKiuzaZL0ubeTNblR0Ts523ObL9Mhvl2hlWr4eq+Nr3e0CQ1Hf7o13iq7+uKqALuLm/tEvy+eKjm/gJVG0nux9uOgfaG2K6dfSHu8FmrI/R66Ka2pB3sgCH9F5l44gefBYl/AivPAMj+LufuzzAWT0R/GiafFBLZsyvfEcX3l/eqhP7ndI6Nkjr4JxzuY6iO8kvfKpWOcw31iSkdqj7SvzdUePkWyQE267pK7zNpG+9i3k1yahQn+l7/zNr6auMJn0Fnrkvl6gUG9yVzb1nFj1SuvoWq/pStz1jVIk+Q72rsu/ZN8+WH/2CkUdAQEAIfkEBQoAAQAsCAAIAPQA/AAACP8AAwgcSLCgwYMIEyYUwFCAwocQI0qcSLGixYsYM2rcuLAhx48gQ4ocSbKkRYYCAagEgNKky5cwY8oE2XIlS4czc+rcyTOnzZY9gwodSvThT5xFkypdyrGhx4M2VQINUBMA06tYrzqdSjDqTYJVs4odG9Qm2KddVxrkShUp2bdwQZod6NTg3LNr3cbdyxciQ68I6wY4KrClYJV5+ypW/Ddq4KeE2xaGbLUg28WYx85lK9UtYroCIqesnDizaayb9Q7+OvDzZNGrH5+e/ZZt1aONZYMefZm276G2cXp16tqy26q9fysPuTX0zeRQ1bZNDfHu8usim3eGbld648/cVxf/x04+4/fKnElLXj/ZsGro1svLr3h+cne87Nu6L40w/vz/Eg13nGeVfVZccP51Nx6ADPYX1VRTGVigeghKp1CCDWaYln0djbYgb6pZ555gGpZYEHiq4YdhZwpSiFNzJsZ4InopzghiWh+aV6OM5aFY3YQRWvhReDz6BuNu0aWG3IAqCslfkeQdyWGLKC6JH4cYTgnlXuE15t6C6b323FZ5Bclih1vWtiNoZ+Zm3H3TjUkiaGaypluaWXX5YkNnamnSfqtBKJydeC6lZ3vOCRoToH2u12ihPc35pFzqlflejWHNKGiba0JKE1oHEVlRjohOiuSCjXq5p6cuZeogYEl6/3epoKJeWKl+e0rJaquD2gorlTRaelatCYH5VHPE7jrRYRMCO5qvwbZGqJKg3iltkIDeqOyQlD0741ykihetth7SKGmoIU7LGradbkuRVwcOmiO7weUloV9MfnsrnIq6mxG8LpZr7XaX2tvsQ/3iuK+N+SXrr8KmDrvml44ZB3BprsYmLapCBlnqwxH5B925+J1n7MVvOqpecf6JSODHIBtVsajBZbuxuc5J6KPMGMLHmsjtugsrzbOuqi+i4Mr6Y89rngl0zA5uSF+1Dct766/L5gyvxBh5DLXU3lJ0br8tVyy21liTHJHXX7sJdn74Xgl3rCXn6ye6Cp98q9ruuv8trdxxI3l3i3XLfejNegv7dchj7txbwnOLiXV3egpGnKyQh63x4pryGe3jdkce5+Sd42u551WGrnm4D6dnnctasi4u6fWlfDegYzunuMN4ui4k7PnJDrDexgK+3oiXGmuz0AELLq7m9Yrbr99lcypRbzrjHDXU8cqdtPG3EUoxxPoujyac1G7P+bsumn99t7gqFL37z58f3eDrw/kx7/FrzPfcuKtRlkTnLf5pKHxLW1jG8Ec+yKnqfa9SYK/697/eWS2Buikez8ZVtUfZj3ylSR3M8ic6pg3wY9l7n/A4+KQwOY+EJXQSm2SouBSuTXcyY2DV9EdAqFFsTpmjE4H/VJW0eQUNby8M3spm9rLF/RBUQRxhZ6YoHaZ1TXVKzBsHZVckoinOeLq5HME4RL+0ADFf00ObDE/IIy8aJ3qBE+OYyGg0W52xcEgy2RppGKOR1ZFxYTyiw/wIwhwqkYu4MqBpCNlDHuIxcGeTH4EQuTOB3bCC/5EQAm23uU5iDIt03CS5GNbC0CErXa+TlQd7BKQLcpJlC6MjGI9HGVhiT4KGG5CuygVLFK0yk83z2UkKhibkbUp8VIsjFgdInRh1r4eIBN/EjKarBwpxmFryHbR0CKBf7qyS+jIi/hhpLUuS7Xd8DFAsS+TNaIFTi4EsJydN1UwsoTOa98tQqnD4/8XSFWt4b9NI9FDmuyI2T4dsmydm9mnEW/oMZZoTKDEJisqKAQ+hTYxYXOL1S4uMEZA3O1w2JyjKU02ombbcU+rC18uVKJInHCWURj76I4WJdIf+c2WTeOnOJY4vkVZraUfzRMyIqkyWCpUk/oaasXtdM1CeKyCovpdPbdaPjUyBoyePSkuNxjM6jIQl9ChzOanWyahSJdxV06mVP571aDc0lVZPh8Gn5lJy60yomOxpydXJlKgjLWRfEVbUJNLqjxHkGicpFi69xomv9fPrS5MCUVJuVYdPiytIAypE8wVwsCHc2tzwSZbKvk2c/9QgJA3JWUR5lpo6RSJFHQlYw//iULWRjaELH5O7CMJGsXLFIbPq6bzDskssQXQTbi/qz9Z2trBa/KXaKoRCJpZSYsdVkySJ20AouhW2Xn2qFUf1V1v5tZ9WCukRg+JH7t5shDb7bFLfGNtZ2nG9GhMrfZtUp8nOBHQu06P6/oXLx3bkXEM13jMFZFZ+Gth3/oUJgDuGOj6SNp+fbCyZmktYHrL0ZziL6d1+m5RMebB2+uUpboEL18OidYbvTJk1qaU8kh4Lfko11ARPrLXzIk6GoLslOJm1XaUVM1GuLOt+c4q8F9tXKE61pnl/DKsYL/DAKu1pjlJpsOFi7ojp62oSubmTKCO5plS2KAu5aros23P/y+jsci2/rE4Rinmc+I0JwCLsLdw4+HYV5i2yTBtO7c2wdoBOayf3udNr5dkle370lP28Ylwx7ZSEhmf/xIRoANpYsqac4CjZ6+Cy3RdYGpbaJq0Xq2a+VZL/41hl8ZliolBvj6cudKr/pjJNIjbNSAUtumJ9NYDyWp3OZYrsXOw8qs6ypEiroppRK+wnwdm36xywolGT7apBztlj7vXeAj27kxa42q9cGJyxatltXyWzI6WioLPL4t0Ou8d3zi8fGUVnXXdbYn4eq7KBHGp535vedh1tXsltMxt+0pxUyzSWA95JPl+kv/i9pcEiaeAcJ1bhBPNb7B706/GeRb+Y/+QJxjlOW5F3uOMfbHFFtTNuLZrP5DNUdTIpC2I8zxJoN92fAP9K3DTe8bLQdOnObRpbi3PEaWsOLN2W7PGnOrSiUg+ld1/80DlusKRO30jDoy5jNXLsfUcn816R+KMIp2aFcnR32CGYxUbSktCIrCYo0UVtmbldld0mGFWjGKkK16l6Na9q00g+8hgLdr4NJpqvk+vKoUmaV+c5/B4r7W5gjd3x7425zlNuYJp62pKWL4qbruxyHxOefE5t/L5LbTaqZ43lbN7sVudO2G+O+9q8fn3oY3/I2QtVgoPMeL5ovcTw6tncGj4lUjM/UegrHbNavmftm1w+qyF8ymoX8/+FRZK96CNr+lobqPVZvb0PRzeYEb++9IYI5oO+/MqLGnpk4qtLrLPdst8GYlVWe4oVHpTGVlKmXsJGeTohZPLHfyyGbhpXXPSnYtYnaGR2gBrmQZEBb6fHcySWS8B3RiOIRZpHW9j1Z4UGWZbiclCXUgYzfpDGePbTekw2ICUoTZqWbEAVLqmHdDRHObHFY+xGEhUCfDG4Lul3Y+XCWMV2JPwWchtWhOUmVSGYby3lUWT3J8ljYRK0f0sYhUpYNlBoNH52JFQ4gHgFOiP3eGjGe6vVhOlCTpp1dhR4Rl4jX8+EZg8Xbh+WNvi2duGXHTM3h9PEcXY4UnjYRHpof+D/V3bPFlSihVcn54g74VjD5ELEBjQ/WEi+Von1dnnBdmz/N1iko3IZpSOauHRVaDHWBVd9hkzxInzKhIJJlEpUaITLxFbsE0iDN2fM1FPWUjvtdW4pg0/phW7/tYsyaItO2GAWOGX410FG9hh912h01yi5WBIopmZBB3kMY2qkuDuBqHsZw31r942KmIrAgW8DqI7hhj64No5L1ml8mHvo+GDtwoYJ14zcaHbmpm3/NIj0eF236IWudWPK9W+h12i6Io5ZBZDoRklbOJAvl3UNyTDSZ2kHU2eJt1KTVGzIRXseWDfQpnu5RIsFeW9NwmNvxpDOkkcbpnokSXCBdJL3/5iSe2eL6OV9xISTjAM8u6RjXIhNE2F6pURXo7NwI1RkzDdeZSQUvJd87PM/xgVbA5SPTgmTrdiHcHgRjtN/SWiUfShw5MWDuAeBwYcp0LVV2/gSYRmBS0mWkEiKDlNrEvVIdcePClZs/kiI0jRhbFR0SEaRPkdf0yhPz8Rvb6NVffmVdAdogsmL9XNMNsgvbNmCoqZZjQlei2aJfOlofcGPV1hIwheVlUhcwzN7PEWQEZaYY0Ga8rdNFJhjkveKFjhenciZYreZZIGGNPJRV5loOeUgfmOAATl1VHhzs4lhFeddf3mJUxicXjecHwh6BpeByalWy1lyzclDs4iDXP/5EsJEj/MjlqLDSL0lk8gDbk8WXGoVmUlHkIBpkUZ1ngWYmUc2V7nSn+4Zj6UIclwpfKCXf2lYXgpHZsm3nkYUYPp5aX9kZpi0JJA5NQcamp0XoG2mftZIYbLZUBF6MEMZWqQHU4YGcYoUVh5ajpCVh03kgfZon+V2jd7mm3YHlydamawYh8e4opkFTkC6nRTIbsdHo8zGeTlBeLVGjEwYjkuEcmokUbcGaz7Zlx62k/9XofI5gWMVZi6UhWt5ilkzpVgmh1YKgFhqkErhR/JlmmYYZ2s1iv0kkKSXKVNZWKJSmv9IpXKaW2IoNb+IUcg5p2hSoL2ppl8niiPxo37/SXTShpf0CGdqw1z2do7fxVycdZr1RRSM2iJWxWXO+WJImZFBtGDwl5qWeJ9YCpT5d4JI5FjUd2s2RGS0xJ+AiI0m5ZIwt25sJYV02KohiVqwGoY1iaKftmlDun3L95HfeXfN12rr5KuHWGZyop/uJ0TElx5xF3qEZ1Xbs2tBZqMt2W0nqaX/NKLip6wL+ZjkBnGRGJ/5BK5sCZusmquJR2qjZkhiiprttnvAeK+pRYAxB6ZvaKNe5qmKapQJ5qRQiV+JKF4Ci5xiSk9PypC+V0Obh6BFiazf+qjmNqiExX2a53DPxVNsemafGWaAZmecsnJJ2p9oZlBmylplSkHB/+qxmmmy0zRjFWtnK2toLRuS5op+SzVtFUunbZmCppicEuqw/TZ2aLd4jDZ/DeiZDkiyKwKwgjpngCpt0HiUTxuiUQst57SwqPhzlKlzq1VQq1l7t2qvrRmpomVvCYShRBluB6qgzNi2WPO2Lxm3RjVb/Uq2+lkWOQpfOxeX9OVeVyuwiraHzcaQrxawu9mGogllh4usk/o5RcO4+jeJGrmZWpV3IZlAlVt3+aoTE5uRMemRXumfw+Nl08i28qhMq5a2b7G6ytiVQZl4AaRHFNeBxgi4vLZsMLtW0akUxNeUHKujGJmzNTuzn6SUOyhbA2p4x5uJCfsRy9u8CGZkmv9qlVPVrFrHnFkprhP3gDsavZwascr3ZBNGR1mrq5TyVaC4q0zph79muCV5kT0Uv87Kq465EcLahYKIdM8rk2vaf+frfAPbqBFEtwmXjj6ZdlCFq32JpAsMcAiYtLwZuF7IgchnwOKmd2a0rIppk3zxfZF7vxjIkpaVPb+LwjR7fC+8ufrls87bVic8MC5ifi98Wh8LW+d0jzYMwzj8rDrsXu0oT9UrdQ7UfyrpwvZjqJT6ufAqIB+VvHuqoT9mkFGstAC6cf5rxRSGtrLWszexxeNZYstqZjmGpJgIsdR1oz36dgJ4tIPrp286tIcKt8VZqFrbwjVLhBWZQUz0gnr/7FxCOSh+LFGKTLLYxlAh/MPGlmtjG6q8a2Z66sRqEslCOsmyWMmoqrsXPKZD17r6toaP9sh//Leh6z1DTJ9w1cBTg7HRKG6GSj9aycOArLaEDIYzhbOi57/VlcvXqp7Wur5FwUaap5YJjMaOu5IgPJQoI4NXBqJcjKPGa3PfdVfFLHFO5pbVimodecvkLGjbzCurybznK139qSoJuLsYjMqmq27yp0GGOpLt3LzvjKDGhGTznFtx3MbMq8pMp6oZOppce3FbZ8w0K5dVh3ucIqaB+nJm68b1yqdjbMdcx8wd7cNOyKsL3aOuTIgOmJM1SpFpTJyejFeQGzh4Z39v/6ljKR3RK22xGevSXgzTqSrIpAO5NY0VLmi03VuMSBW8XzjIiCypUaVQ7CZHJz0SRW1QRz1NiqvUHerAsCyELuetIbuEp/FauRyLPRxznUY//9m9L/2BZZ2gzbsYZD2jSuxT04qqegl7IonA4Di6oLuKU02IRsqKNWOw48tf/xpa1avWa+aqiLwcNljYE90/NdaZIHKtuPq2E+jXtrzOcHGZfMeVUR06tFM076nJJrl44RPYL4uMKkiba3uzwTXFe6x1udbJjMHA5PucXGp7N6XDFKydEjxMi7m9EcnB7STRQPjQVQfc+ijc6dIUDsavy8HFMXrWIi3Fb4y7a1fApf801Mph3SzKYdaGTEdnyvfr3Ys13n2zeHJ32LVtSLSqLV/tjmcso7QsI+U5ZPCNlhY536dc3zILoBosH1T5f7vG1TEEucnnS9V4uaddHgde3pMdfjcdzb1HnTFGv9vSdfwpxBHuz0o4rjAqXB4cMx6Op6kY0+xL39td4lZm3AbeLvPbc1CVg8UnnCY4r5taooi5vwwisfgMdSCC48/cpDytWEB3eWWIJw+rhmspdBDX0lkqnpj0sBqVRlvy5GoGzEqJx/AKzpy2vlg+X1ruKZ3GYDCMkQGYkD7Oo+VbuB7dRuWo5j0p5nt5SjJ+mOhK28ryg76H23gtbgesqqAthFP/u9h7DkwolX0ZTYmEDnOG/trnirIjpqys8quoXczuansSqKgDfLpbouk82dM7LJc4R5eXzsQgA7zj9uawqDK9Pc7kCdLK4urQixHAk9zxXeusvRi46L5u1F2Xo6Sh3NETuugmEuxLLp/GmoATmOprzun+wqF0zdLk6sjnh+Beq3jE4tklYu39XFcFvZHlzdY32IswpFBiWGN/aGibPd3sCNGod8hO9JOSCL0UxdgHPMeefNHrDo5F29bYnXud7lzMZpzKnibwSKMKX8/u1XfE9uv/YZmSeMXSuOPd9SkhDkMWn5v2V54MyK0y7ucBH0MKPTUALqoGTe8n7+zFy9RhtZ3N+KyLL08Sq9ut4ilxTU7IHX/zWmjLh+nTEArN/gr0XBhpRXY2NM/Lcg7uQO/qSG3P5Oz0Poz0MGHnfV1/K4Qv4Yn1JqH18Mv1gZftXw/2OBrBcq7SSb3bpY72TzfkAO20XyXofA333FLKGmvHK6/A1Iz3Erbzbs/3OFaXtA74JlqJr2nrm474MxFTi69IUO/4rousdk/51d1v0ov5DdJ1j875RiK1gw/6GWLypD8fpp8VAQEAIfkEBQoAAQAsBgAGAPYAAAEACP8AAwgcSLCgwYMIEyoMIEDAwocQI0qcSLGixYsYM2rU2HCjx48gQ4ocSTJkx5IoU6pcyXLlyZYwY8qcmfLlwJM2aercybPnTYcFcQL1SbSo0Y8Nkw79KVBo06UAABydSrWq0pwMgTrNSjBq1a9gfUYdOxYhVrJPw6pdy5Is2oNny3JlS7euSK8B3EoNmrTrXoNb7QoenBCvXsB9B+JFnJawY7qL4QJ969cv5ceYB0dmnFduZcVuM4smHPjg5rkG8WLlPLo1zdKp/zI1vXc1X9e4VSptLPCywoZkbZtdmrs4yd2oO58eHpz4QuHGo188eTky7IK+OyOXzv34ZM+dCV7/tyy7N4Dt3dN/jEp9bPuKy2+rn7+R/Xf75uGXl0y//93zztmEXn7JXbUUcgP6p2BsWAmY2GcOoofggwtW+NRpE0ZknXORVbefheoBt1+GEG0YG3mfgZieTdnxNpt4V7mo0Ibxqegai+DByNpPJD5E44c2qgUdjIeFJx+ORbqYpHwpBrnWkD8ViaFWUOklG5I5vgiak08KUGNhexm2n2pUktecmUAK9RaUXMokon4EnkamklZiGZ+acrHZpm4cAshZi/zN5iCEMSoH5Ix+ZqXnnh7F1eB9hzI516BbKpoYoIgKtSijIJVmn5g6znXngZeCB92UaHYYKafe0fmmkY29/xfoU+2ZCOaOVsr2JavTUVhRXLHhZyhCuRJ5ZYAUiunhprwmlOBEwGLnHqTEWmlsqDDiaN6yzjULLalb2ZaggU3+5qW1Wm5b23eI7urtr+CWmVy2yKLn7oXoyjisqJFi+i5MeA7HrLOFLrkmqdhWKmG3/yJF5agDC1yqh3NqGe3CDWf06KvNiQjqQrYiVmua54Yr78eN+ZsxwSKfq65Sb7kbMl8jM5eoyXEeq+7K8Gpo6rlLVqvvxr7y9WmeLlva7qo8J7y0sUHTNnS9RRvr8bpknprlylCOZ2jFMY9YqI/r6kvvzkoX2KfZ3nYtb7BIoz3ls1JPyjCt1KZNKaFN7/+YYNaQ2nf1wffWjXeoWMbKcMQZR7h22nrBjO6rcPKIcHIHs814s5tL6qFf0e54Ua4Vq1t4050n/DlooUs6Oul0qtx3k9lRam9o6dqtJ+An7gvo6rMLDRqqgiaL+9SHl7hutGHHB3zwf4YJIHSJD7/8ySSPm5isYRN4NuRiz8799HdjDt7BW0FcNInKSu+95ckTj/rle4OZXenWC/v+l5RLG3b9Rfpbolhlu8stTU5l89+0aBep/qHJPADEnQBT5x8DuQ1udMMX4gwIkUeVa177glvUOGfBh8RFcOXrX2k25cFKOS2EChwhpyT3MiqtkINnyoq/ruM11Q3QUI6amM7/2paU9mnqbWojD574h0TFmbBKWApizXL3Llmh7X3fyyGOHBe/H5prd8eiG/64xi7rfbCLwtpivLqopwxKi162GSOXcKa28TVPV0xDG5RyOJzeEehqfbzVrBZERy4aSUrny+O+9rhAlr1RYUAjGaICaSMrOtJnKDIcyMaUQD8+8o9J694leWVJSiovk56c5CPjCCRVadB3DSwfiOonOu2UqoWXcWD+jjfK1jEyag4qHAXDQkvX2bI9uPyZ82D3HA6+75e8dJEuTcmdV4FxImTqWCSDGU1YUaSUIMwkK89IyKRdUyLZnNbVuHk/RUavluJkmCvnWCg3pjJ35PIm1G5W/8bqxa6TR6KQPS01zMfkc6DkJBo48ZXGflZpZpkL1MLchtAb2RBZr4RjCmVZPIntE2wA5Vs4k8iveW4QgiXjaJeSt8G5VY2KEl2cQCMJUrZVTFz0yxsW7YZS/UmHUoDjWJYwBr+Y4q19UzNQREciQ59O06KhCmoohzrT73HmiEgFoQUjybb6dBOl1yJNlRJ2HQTKLiLImSfvispA+bFVd0IclUcFoy2LNVGfX3NnMy35sYk+7or4rCpBAydJyRS0JYCiXhmrNbNAmhSGOzVlVsP6QkyOVJWQ2dpl+fU0mEYVj6h0YTM/U7ukVfaUmxVel7TIUZzeDqc+zJXkhCmvwf+hC3+irCUfFQjKw6JknXeF52BBJ9PY1qmImr3qw0jX14e6b5A1ZOxzKzoT2BpzU0uSlePa19AAYlRtFEtuXvWDsvGS9CjWfSF2eandeHGXn95V7j4faD/xSnd/EnTmVGZGR+J+tLC9q+tW9YjE3bqxoSkDsC0jy9uOVoW/te0TOzU7TvPhLa1xM59TXwpWnuLVVYut70mnkl4Pt5CsYx2kLqcoPGDedWSPMrBD8Xu6BRulxP0NrA9NuWKd1s3FyAMismQMShrr1adUIWqOWcjV0eowUYiUZopL3DuzIq28to0veBuZZMEuWaVRsq/dhBXl8xqJyo+0cjqfSdPJIRH/uOgVbBYBhOAO5jS3RS1Wo4QYWhHGEm6AtSakfKsxOeeZzvxE653l4lLTiVnRLIZsDP/c4Fyac9Bgrklr9WszRQNa0mrOcEaW+mFJH1WR2kwnoTmy6dMihrafbqef5UhegC5TfYVLNda8OBrXtjrMCNTto538RC3f84sRDuSqfeLrJ873k7k7K7GbaWxoPzHHI8YNCkltyNBGDnsb6hF0NdlnO3vasMt1tWC2Leo69klVrA10PTdKtvt+E8zNfrK6q5vpSjP6h5F24i47zFJ0gjagfj6hXp/Kypr2hHF3JHhJw6fhf3fb4B8sq1sU/i250sbhK+VsXq1L6ldTFdtp/6PvP1VrNOlZV9xYbrNwi5I+6e32s7QGtthQLkBLl5vBQn359lL8o9LyBMflcxfEE6mqAqryd0gDZPFu3uADJ1q0y5YI0jE7SmwyHY9OFyTUAefzJyO56hy2cV27ShNdh7tUO0X5ys3IOv2ikEHgDindM0owt5JTc/0uidvDCHe8yr3i3ga4hItW55LvXd/UpvixYZp1n1VbysJmu3qJrkhk6leoB9Q7cf050hJTHbFu9tt3Repszz239Rs2OYMdzfa7Px7N/6w8RRrqeU9G+uwSN7njrcbRozG3ZzouNVbJZxfef8eXPga+jW02/DAzMstfnXYylY1c6j78xXHlJf8icVpjeZ+6jc6N7mafir/6MTzE3h8JD8MfXjGRX6/mt5T0cfXvOne6bu5HKh73djqRcwk2WYs0dD/Cd/51Zml3brKVdmE3eShWLbPFfDthgBMHWOiTbmHGgHXXW4EXKBGoWNlmbSomT+SjTTxBWxXGemYHUPnUgGWGeU72bRQ4fWOWfYWmeW3ReS8VbFvWfmMTguYFYbC3cX9FGwUkQz2YWjBBZoSXVMWlf/lCbh93hbOmhH+XcrMxKlFTfpCkRjMhhd9DNNyHfVwnXU6YVzgoWi3zTpIRhvg3hlA0gvK3PiG2YyMlQ4qFSKVVZiboSCTXf2J2YqIlbZq2fYOUc37/uFGASFWCSG+EWIV3pHSrl4jDJngKNlBviGFG10vLRXUQdT0XhG6e9CVnh34+yIk89oAjd1G0Z0wVGINnV4oX9mtxCG2qyGusCIWc2Fi0iIVWdV1NZi5r+IW8ln9rFWQbdHEzl4E/g4yoNVe1JHXUyHKf1XBD1Ixa9V1+lY03ZlrTRk0WYXVSlk+KKB/wtmv41UI0JHIzmGbL+BrkKI7mCC9ak44Fs4nsiEdr5k2reFEON4+kVY860UOWozUd2IrDOEVA1ojMFXUCyGV2tYUFF3d4KBIKmYuhlzwDU4jvJVx2wkwLQ3XFpGcCFI0xcUTMg2rt9i0FhI0EM4FZCIPI/4cvAddyEchsF/WSlid6djaTx1iTOdVZRYYR3LST/3V69kgoUQSOhmYuoRiVluWD3XVwr1RezviNBymGmgaVzgWPU9l3VJV7YCaMeMd3C3hIkneRrgdYPpmKx+WQntJKUwhCTimGMiOJWhh5yNeRLNE6PQmMHsZgBKiXFtmF2niTPMmDc1iHh9eS72aIsqcRTJSPlTgyRHiLPzM+JFmUmMiYg1mZCAiClaOZTIZG7SYiHHdoGkl9WjlKYNl2Nkc+wDVh+vI8XrdemNiWNReK54aTXhgWRnQVLKhzu5lIr+ObTKNCl3aAZ6l1j4OG30c2NQhLDPWZoqlOVdhh4fhW5v9okLf3fGWJJoOYkMV3WwA5XTJnOeFFN2ToheGJj8PlmAlGVGyIkIaZh7XokUJGXxPJSV6XYNsZm6hoV/6HghqlnwlYTPz2n/e5W5GoZ6QpUunElaVnaK4ZXKWWiw7akJ61E+2llso5aftpdRYKajBJOEOUKkI5i/+VcRtZEiX6opEZaimadsf3eLOHopC3nJcHpDMKh/35W5V5Wl4jhCCniX5WZQeHiCBVVzFnU3XZh9Opnp8GeFYKpQbKi5wkawKpdwJmngfJZlb6iSrod0/JoONWkm+3oLU4fzinYNJZY/snSHzYaEfqMDm4eTBKL3IKl3SqjB5Xp3jKn41JpTv/56Eu8Z6vaaKO54l5mYO3I0eRRpMKJYtGin0O6pAmAalJ6k3cSIX1Jp5GWoyT6mOaSjVHRKMl+Hk16hGSmmGCxqVGKowRlKg2s3YxmHnaV5QAShW1elPRuaEfpKs45I9g+ENF95Y/KmWlFX8ygYt4JX1PlZHIukvvtVBoB4oJ1I67qKRJ93WgihLWikD3h2yhGaixGK0PymciJ5fFua32RmBHN5YlBEnCQ54NaIEeGFHJeYK+Cq4l6XnpmaNCqXviqE2306X3CbCZErAZNrAORidz5lNvaHuaeaD26iZLuG83SGnqGK5/GY2FKoc39KXj6mE7NKsb0ToiS42ZOaEm/9uGbJey/yhwAqc+I/ay+TqgLBmZi2qa7VmbCXeHV2lMTmlkqjSZHNlmEdlxeCls9VeHO/qvm2SOTTumvShwDAuk9ueo5Vivl/maTFaSz0iOO0k8d/k8FzN0MVFmgzqcqHq2o5q2zmUr8Sid95RjBoOjIniuMXs5gQt40meGcVm2rceHCCoxAyWljXqNMHuOhit+C5tSEmt4KWafjaslj5Wz+2qfvqqtiCgWR9ueWnuqPcdMnhukiql+aLp+8vqKNni7RNGO4mqEltW6K6qabPs4FDpEisWUhMpBENqm98SmUGqsI6lAMVaxWRK6Dzlj+Mm439i1lNmYzEuPznubVv8WvSAlhD9aiGkKhOO5TZW7EgKbX5PXix1oWwH4kYMls5iZSAkrXWHrVeMbk6UGvxQpv8hbrvHLeFgrYrw7bhi0vnvGlhQHwPfqmBoomCgbL5ZEwcWTvNK5v+YGu8QDwdcbazF6mNQpjiV7gq33qf+Ypy1Rczz7gQ32dILLuSg8jC+8j9azRMeVb32rp9cpj+BnZacqjG6lkIOowV4LX6Qjn0OXramau/7Lrv8IrrjFXpUbRC07Nc8quwupuZPGsQ8WxUYZPVRsa1ZcuGtJM5nId1KHksjJa7G6Fhpbj/Y7dtMLmUI6wyZawd5qt1vap9XqrHQcsqZmXirXdTAEfX7/rMbw+rr59xX2G5SQW3geqzgrO6LqasC1h5tvlmwj2shEEcnKoz4Y9myW3MnqlslxO7Hi9mWnihsJa6LtJcVIaIySrIP5m6Bep6GDEcsz/KXFC3+yOrRyo3iOfLebxMvGYXxMc5q0ir6jfKXHDMr2hrTrhmh9Sa9etcj7qb1QaM14RkycZocOGYkc+MveEbi/CMZJOY/ODMnjPLiGac4wtMdRq874Zp6rHLFuac1lyMmm/L+vl8yYi7vkysej6J4FZ5NdibP7BdAnipgDHXrzlLxoFswea6zz65Wut440R8Bi5mK6RISCiminGJIyVbBKu7WC5MRxRr8wDZ8EamaS/9OhKTyC+Ta7wUeMkOTPysuvRhl2d5TTcOm21kuWplpfCQtO1JqvAbZRSpY3Tqk9nyVfDhhk88eQ/AlUk2tQZvrJ9Wq/BludlyuhgnZrnASu5Wu0qFkXvQfWVI2CY/3UVQ2Xr8R+d6zWH6qYLooZTP2dOljXSBnDlOeqmlye9OqNlcPBNrqHH4utjv3H5XbRo6uJtiKmTQ3U0SF1pncsZUdgFwhj38VtIJ1M70yCixkiTdbZAV09StVIboyvmJzaEDlsor3Z91iJqudDpRxtUJaluXpyRQhGsGbDXl3ciBhBvb2cO1nHwq3CEUy6DNxlp8bOZsl9Ehe5MuXQ7ZqgF/9svYDaawTpnYrmcW+traHJ3dU7V9+dlOHNHcZKs4Lsn3z9dTorWWG6cGukHvHtSHNM3wrXjvctkZIdrIxNoistmzNryPfbThqI3V5IZHsynwoO1jLa4Hf84EYV4RZ54JoBhImFyokst/7dqMb73i7b4YRcIbQV4jZoaUbs2CU7mpISnMbspv1BkzW8nMUolqCXhaUI2RXOsgg8S8J6sUxbqav0xhL92QGqwL+qjNh5wMUR4+LW46gq1oQ1tmLJusfagJwpzfRh5SSexVlOyGHO5eTM0rcqLTZemIxSukV9m6Onvju9hRPkoUSjoXyFxxYi5y9O53UHZ4EN5OTt5nr/TjV8HmLqXSEYnFWhKIVCXMh+axHP22K/TULlLOiR/tuTDrSUztJtqOY+Dd/ovEyia9U0KeELrG5wioG6ySm12q+UOGKrruL6G88Vl5yxzio15tIkBY3XyqxUXt8ax8IW8uu5vdvutrzE/oRKdFfe7OicGt5wjuhNgtf/U+Zm5liUNj+mO9pirrVt+aTHJOI+2MeA3CavOs9cWOPVzuDdDZ4WXLvG6OFeDZJp+e5zajygzn83NON2arYZo9gt/VIjneHEO1WCHcIwTMz/YvC0vq6EnX8/TuQF3tb4DsvINSXIPrVuON/3Buze5a/QI9Mer6jyvusWKYY9vJ8gOt2k/3TkSByIGFjnGr2v5LvC0LruMy+cm2Xzed7mWwVOAwjchNs31cdyGrg6NfstuY7BJ5+ABarZ16vMSc+NVz71lvs6FK14p+ukJY7sXH9vXl9fMhb2+CXfZF/2ndKPVJk9y3q4547ibl+ay020uszyanXzHH33IVGzAvzHERTBXbvxSk+ybfaauIvW0T7NgL+9ez2Qbc6kAy31kQ8wkZ3Ap4bxbjm7iJ/5cFXDyv6oom/69Cnt+o36p1+avE1Yqal2a9z6PwxiF760gxr6tE+1qF7C9y7zu69pUAf1vx/8QmLvfmr8Xn3iSgn8yq+eb435z8/x0U+2028cf6jy11/lkA2o/ds/H7r//eKMGwEBACH5BAUKAAEALAYABgD2AAABAAj/AAMIHEiwoMGDCBMmFCBAocOHECNKnEixosWLGDNqhMhwo8ePIEOKHEkyY8cAAFKqLMmypcuXMEWeVLkyps2bOHPKZMhTIE2fNAGcPKmzqNGjN3n2RFkzqNCGAYginUq1KkapD51itcq1q9eCWxVqhfq1rNmyUofy/DlQrUClZ+PKdZkWqlK2b+3qDTu3r9+rZNvqTZm3It+/iBMLNqiWcNTAEQ8rnnwWbkLHkvmylUy5M1XLCDFDBjsaqGjPqI26PQj68Wq+kvGmnh1zNeOleV+Xfiy2Ju3fNhnShL079+CnQAk6JsgZuHOTAobvzrxUOHKmygHcfs7d4/KBKZtv/yc903f38yW/AxVP+nZ59ejjb9TNPLB1+KcLOoWvlL189PQtJphsyfGm337u4fbfggrFZp50xhm0n3bgUZhdYQxmWF9v30Ho2mgTXngghhoyeJeFAwZFokPlPdRagSXKd+JtTq3YIFTwJSghijFyV1dW5o3HlmxShdefkT0CaF9xFeYo4JDmFfnUif4laZVtrDFZoJSWbUWkloK1VqWVOmE5Xm8rGmkmU9+x19+SZP611YsCvukYgQbuOJGHc+oV51d9EmecdabxmOeIEvE52pp/vlRlXcQheaBs+Kl4UIcUPgpmox5pWl+k12VHqaE1XopifpFtyqlFluEp5YaHYv/4Y5OZ7jbWp2upROeNq+70nqGv1rmonwIWaiOtkg4ana4KuqhqrxGFiF2s1CJEXWihVrgljoYWmCy0N0mLarEsMqlZtt7WCiOi34Ibk7TOGstmULOuCymcCy0raZ+w9uvuRfCWK++E9U67opjm6nsdv+Qe+2+q/hYq2p2kIshUwau5yuS493U7L8UPS1SwxLWCPKml387665mmHqwwtlCGDN2oKXOLq7Mdw/pldoSezDOxIo4pc300Z9timGCe2Ca3S/9cKaZrjju0tbbWtGu+LKfJ7I4Ulxrxk6cG+WHWMp8rmqftpV2ol01Z/DWGmPLXbLVTs+0kr+W26nHQNs//q/W3E0LNrdDg2r031nkvdbe2BnatLq1SBixpu1OLaFzMPqvNUX9oXsy0pTuyvXZg++Jb+dI5G0wr2Tdene6veK4HIoUeyu5y5XjLG7nH9+YuLLbHXh073biLTLrVxzvZO+Kwnhv83PKyXnyWAcpNMJgaUw3kxOhm2TR5Sy5eeHXEWr9fc9lnuX3J3dOIYqDhHz6+rMlv/Zj4pn7Z88qHek18/mIrD/+GFiCSNUZ+AETdsuCGPFFF6VkfA9bgPlc8KKXPcppLXbRoV7F1EW1Kqhpe9FL0LwsGcHbaSxH+RFQpD6bIdZmDmQRX2KOOlepNB+RQ2BzWMr/1sICHulpd/2qnOU7Z0FI4PI4O+bbBETLRQBiDXhAVJih3aVB9PdSTQ77HwBGKkF28k6IATfewK0rPSfjjYuM4GDcEpotqVawZAbH3uAgBcIkVgh0Syci1w5mtgQKDFvrqOLY7XuZB1wkcIR20uD9KDYtk2h0Gt9UaNamKYU40FSPZhzDgBTKFJqrfJKf1pp+5aVgOBNIm82LJt6kOlJBc0BFbiKgUwhBXlIuiC28HRVRSD4W9zCTh/DLLDtYSi7dEWi7JeDSWAZGHdMrPABvWHRp+rZEQ7OQWE0nI+UCQle/75nOsSU1sTkSbvTnaMGGZKjVyynH042WCJgdIZ+Jrk3KT3gE5xv/HPIoTNfAM5hThuCz+VZGX+JSgPo/DT1dSbjZ6U+Sx0qjQCNoSmL5z1s58OE1w6tGVqIlo4CaKwHxaFJkYZd7mNroZCpKGnhvljrjaZjsfklRIHIQlDfOjRjOukYFnKyhDT0jOvszUZDANpxZ1ltNY7vRxPX1Z2niKPOvsk6hujAuWTOZASfaPjczaXUv7mKBmRhCNtQoWOHeZtoyBsDNbbWpXRflVAypIWoYra99IhlY72muBr0QpA5OJFl/+dXRLPeTAxKZFOq0ScWr5o0gv+DtqygWTqvuV6La5WIr61bKrg+xeqtbKs1a0ef2sDLEIO69gURRTGl2kUEuJrG7/HhOnLDMpZuNpFt2wh4hcPSRsy8VPS1Zyj51LoUlduCaGrZMuYkxYwYZHueECSZ4vbSoNm4OlU7pyjF4RonTJSN3uWZezA/WedrPKXaD9z19xbJ9Zkjojp4ZxXSZcnGcLOVbjjfKv0hwtNOv33HBx05LKO55yw+Y4/ZY0rS5FG1uXFmA7HrS1/3QJLUmWScPs1ZCAAx1otZngzkVWiZVdrnDlW5QNn/SLEAtsKj3nQBXfDGzsRNSJ15ri0664wBoWcalM2N0Pj4yU01nSkfGIN+G9VZmMbWvSMvwS/w25baVjKnyBeWF0QgTGvTwXwnw6nvZyZaYzxu99f3nGpmIW/364FHFNL3ItlWKQUTpBc2jVnOPP8tBkbx7Wvfw3Z1YlLKOM4+1UisZhahHRfZBGGm2fiuer5gTIRcUJo09qOOqYD1eTzmqWUQrmkWA6qy2eIYPrCbmNPfC66ZUeoiOt19zKlmznBalNPl1bkj50z+9F8nfF2d4EO1bBsS7nDmN56SkLrb+NBWzr7spi0B5WtPEiV59uKO3byhgn7X02q/mGP9oWus+J/h+et/y1I/I4sWxtNp3peKt0n7hSHfujrj8S12SqdY0O5mFtMjzIel+7vk6zH1mtDZJ+S9Ff3/viI1N9URt/dZm+01uN11ti8L07ljvOYN/Qalz37jvIFf/38d+6V2c7thGpUYbz/fx4z7nNKrhz7VKSj8JrSqYUnOU+UsU+6kODM1tYMGx5Ak9obmGVmiU9R/JmPxh0hPuz0fmtdhWbLuv/BUxZzpVqVZTmsadv69yf/LKcC8nU6t5a5GV2KbrvjWqYkF2Ge4JqtbveR7kx7NHCpuaR3WpOlPasKFGrGLfXx+7KnrLCgX9jdoMr8yaLHWk6+jaQz2nywOKV3krV9movCVi3ao25UnUn20WrMZl3PCkKmuZwVa963aVWvTjr/Eaiivp4Y37mEw9O7OWuOsqnVN/JvlHVda8R3gfWrAQFum1zUto0V9b39pz2gKFPY2wfXcvblM7/v11o7G4bOJonPL1/Ga7z6Hte68yv82vDiuxRlj/T/I5wrszOZsEG25EqV0S/pECW10VTBVZAxWr8l3+2526AsXXM51Brp3QERYDex31H01+LB2zvwk0y9GsIo1vd1ldYtFHiRVkOwlbtt2LiNzsvt3ciQU8fKF8hWFGH920dZ4LRhYKupoLko0MtuHB2BXsneD4PF0Nel36CxzmJ8hT8VyVBl32IQ2jgxoTuMxa/9WorJoWgBkFG8oReiECBhjdUSH3h5FVMVlsdtz87F0jrNnOFloWedFMWQWH2c4NVdoZ0lYZ8tWZsiG6oJXBw2H2C+F+Z9XNNSHULY35214bD/8N9ajZIMeY7r7c5N2hl4yaAFbhmitaIC5aDZRc2krg52eaDnHeJQpaJJ3c5nChQ8pZuufZ7eOeKGDZgX7iINyaEptV2YqODFiZgNnV9XfFvsehnmRNXo+Y+VuVeTvaCEbd2vlhIIZc+mwdduRiMgahY5AJ4K0gdbzhKN6d3LuZiC1eJrNUSy9NhtJhYuyNzb7iCsNZ4VDWOxjSL5niEA9eMdad+V2iDoEeBdvZDimNMRxV6AcN1V2KFSDiJmnd5nShDAAmIjKNxYHRlz+g/CHkUDrhtquhoyHVM3FeGJWg0jLhBFmd9tEcvCrlkjbiBijhgfWdbzxiTMVYz+IeNSf94XoZTco2HeAoTU8k2aDRFEVk3anZIcqLoiHq4W9/3IeeIFMXUk0G5f3LVhA12h0bmkMAGgll5bKUIPk9ZFSQ4bSG5dqjVM5+XdzQJZcv4a7r2h+lGhyxJcVmULxS5cZaHlhYDhYr3QG3phDDoaYRkcQ31GVLFlASlcwqUji8WevOmWaMlfwrncd03XdMXl6pxmIaVOIq5lEpWP8YHHZCpLGQ4mTeWjHWVhGcWZR7mlcUXeo9ljCwkhh9WmqC4gOt4iIvGmhSBkGb1PbG5eloUhd+GU7fJmxfFjlQWgwHYR0CGmN5mgdu1mfaIVfCGXrNpdHR5coDnYXz3fqfJXtT/CWLW6W3JxTjXc1kKiXrwSC0hB14gCXoIxWWfA5TGuWwSOIuqhX61lnxhVj7m5ZhbmF6bpUe1Bzax6DyGlGqjYoDPxHAVASVmZkjt2VHT8khNZ5FVOYcRVI0RmooOOnoS+aEUM6ELV6HEJ3nwI1YIWJywqJJ0WX5/ZZnz9pXR9kEY2G2QSJQ+xp9NeZMhgXO/Z4H82JtTZmLxk6Mz2Xw9OjeVaIgGNp1DeKG0OYaG1m50JI/ZUn0cuIT2N5hGGKXiOaVCmnlSyXlYGo/pFWLo96Sp+UR96KErZZocNXz5ho8LqnbXaaOYmaarV6BHyCX9JFHCB3gtJZRcapJ1R46k/1iXZBNychmox3NkhAp7dEiJT1aTNEd2lMV5wNWKn4hlZkmLv6l3luqRX5mogYRNnKqEHvapIwpwovqIzPhhVOWTyhl3nlRk33gyJUp62cihpmielsiIVxmer3hnvqSgvBqBS4d2sPSGjHqpRoqHVKo/temJ/AVh3jWRA2mmCEqbaMqCmfigOSZSkIphO+oowBhU3epz7OlLYCZhS4ehItqo4Vk67fitZQJYSSWSrjWqTxOK2JenaKh2GGc8qKhAzieSJaGXBhpzyCaSA+tJmQaU/MeN2ZQr1md14YibMyNbJiSbFyeg6TKW/aeL0HFtwnqAVFiYXgSD3lRcokqyB/+7WeWlfXm6srqpjaGKJzAbjG6ZmQW7irIKn8/Jrw8JbDfojZ23hhx7IBk4qhqZrbM2kvTUq7l3cKQVTgf6i3v6n/g2clS7ExvEmCS6XrwFnLeniMeml0urTuQlnnklq9pJElmItjwKc2sLm22rQpkKZWfnnn1Do8V6ovUJo1VYiE2JetOaXcuIaHcqZsPnYJ0qaZ+pi1MLpJ3irBIZdQX7lwA5uVVTg0DYnE6ZuUi4ufvYcJPqahlJN0nUaO73WffCke5aqzvpZpoph732U7W4uFd3SLFLHKH2RWPGTOsJfNyquy44lKnDWi9ogN1JTM6WrZkWdoX3rvZmtcyrqdf/uGBymqx2ib2tq700x7jUuqNkNpLhO5LjW63ENjuVtqyuhk1Ay0kASoXpyoA4+TzmKnxCwzb1q6sDSjX561H7O4HAGBIWCsD32myY04WoxT0ZF8E45q2HmmSjqJw+ZXUrR7vst5whK6RNl0ODGK0YbIDbssG167Px+cFRC3Gzirrqi3LbmmNB9XEWS6fgqJngOmGTybZ554xug54QJpZJ3JDRhsKdU72OW65OGoohFqwIu2qVisQk+4rjN3kf6XKgmi9PV7c9XDotWMV7C702l6JQ6V74u5eq66YIjJzKFnDBS7poXMRq/Hd0vJsqfJby6qqq2aX9KIgeEpoLGWxf/xqOcnGPgHyfXFiX8wrEP0a21yTIahqH3jsVvjV85/q8ivJImAhmKgafg1V/u0iedxu2Yzd6XuanG2fGMpmKpNykmlxoRlydq0ysiXGTfBxpFZt25xnE/aegvDjGgkbCRuHLgQzMfcmnLfu+mWfM4YrMxMwVgGpKh0a4cXdh4wql6ua5LgprB8q57Hqj/lRnTNm/EBqQhZec2FmHVUnNRiWx0KzIGRykJnt0xlu4SttDV/YbtHrPaGPOdWmiI8avdwnQKNO6ZVFvRCxQRQjPM+bNJ/U8ibmHBxyutgdQihvRnTzHFB1aFo2R40mahJzI/ANtnqEoVux7Lixl+gm8OP9bVZ78vzitsR90nfHbgaiZeHjkmsgXosNp0x9LxUgdaIza01U4eEMVy16Ln8B7ybY2sLJsuWD6jiG0odbr1NIH1Tvdvb3nbQc7pe3b0cMbkQwNV6UHoPFljMiYvsCbv0Zspb+siYCbyYgBl6Z8gHDtxrxpejhZNDotjCw8wrXs0fra1pY5dWCks479RNfDztD5obzF1Ga42Du8jQHaw5CNiIM72Q3spd7xOFrrF8FHdIhFQgBExrkZtoBGV6hIP0N0OFCMz2eR2ok7V2HtnM/70o6qxSX7cQFW2zqk1hB1fE+dXWAMxiytc2G3PjmrUmwog2CE2YaZq9/L3Dm8rc//TT7RHX4CK9c8FrngSYiUYVBUuV/fiZdGii3W2sT/3GU96KsODSj654DD3M7u/c1SW5I6xoQHOpfvB7JatcbI24ZbttDRLLtCp2Y2ybtbDMPWl9y4S94CeLub3KcOXl9tZNyBF5Y42MfAoc5Ra1JPFTrjqTIbflWOE0Uoe8O/YeJw69d6+t+PWnO+5+JgBeMEi9cxsqMsTX5YvM+nG9nBeEUaG714+idCnon0aJ/i7Xaae3lL3rvKPOP3i0iGSFkO66ITfEwRnoAnBpe9klAYhJRVzZtYLcQ/E9ajmbrBF+RbPdAXLZDqOBJEts0imNiyVOf2fOfobOBpu9oLFnd+/64hx0ac4KyyNB2Gk5xyEGzQ57Ho4srLO/voeszoUmav8T09b3l76FpzSP5vy6NLwSbHZbTN2/c5LF7qqHzqysu4qu7kBDbrkcfZzS3R1Ma1Mi7PX9so+6qlGO2tckvbE+u3v17o/O0uxOnaG9yCBTyk1bZfxzXWlC4fz/7bJE2VtEXffc3Kxp7suLUqLDq4gxSwK0hO5y62EsSUAZXtlQ6aEp7qW8pB61537U53xFzTZSpIP6nG7V2yE8qlFp06DXp06WlFAR/bAz/sqxq4B596XK7wYbrqGkjiT2R1y8SlIkjDOkx/tpvlMkLJuFncI8hys4XKndjFvvZkr4zxQ/9Mx1zZ4DTcRqfMp5Ijswz/qRRl0aGr0RmP0H345qB+uFTqqVyN6lBdjJiOdfddORTJ7v5qy3V8xOxNrkV79LKjR/1s8A/uzhWvzby9el/O9Sru9Ry88l34zls5dNS22P2N9u0k8cPSXxM/04s5wyBnpyQfMsvo1Hiv4KCV8GAH4C6jt3TvwAGvU7YdZaL840WN3YvvxZXY5nhOrCQ4tJWv50N5w0TXmZb9fH/f+YrKshEf05/+xDZs+lD37sw3sN1IenK7+q7fEn4X+305+6lS+4h/+6//5UTK2araeNpE+cBf9DDsmqOjdOl62sk/b2Hu+LGlqPIe/TP7+SoVdE+DRejYzxImPvyOPy7e//14u81Ni6deVdbmP4wBT9kbe8/tb5j1xvz4GpDzv5pDzuH5jx4AAUDgwAABBAgomDChQIUNHT6EGFHiRIoVLV7EmFHjRo4dDSJMePBgQYYeTZ5EmVLlSpYqR4YUSRJAS5o1bd7EmXPiS509ff4EGrQhT6E1AwIAIfkEBQoAAQAsBAAEAPoABAEACP8AAwgcSLCgwYMIEyoMIEDAwocQI0qcSLGixYsYM2rcOLAhx48gQ4ocSbJkRY8mU6pcybJlSpQuY8qcSVNlQ5gMb9bcybOnT4Q3HXbU+bOo0aMqAShdqvSkUKRQo0oVyJSp06lYs/qsCiAiSqZBg2odS5YkV69CwYbFWbat24k4m+akulQg24NcUd59y9dt3K5zA1gNrDCv0L19E5P9iziiXLUEGyuefJTxU4uPl+KUTLkzTb0CuMqNnBYwwsGkxRL2zHomaNGmh9ItXLfgWruXW+smKRk2QbkNfRccPVCp5d3IRfYW/RtwcObDY9M9nrz6xq/SIUIWDDv78+acrYv/Rzub4vbu3kPHNp57vHvyCcNPBH5Z/vv7CiXbd+y8fnv8AJrXH1D+gXZadgZlhlqADCY44EGbEYUYcQfStWCDDWKnGmm4cbhaefm1RyGGAWpIlIcRdhjdQ3eNSGKAFwaGmIHcqThfVR6+6F6MNBpEI30VnSWbjnxtCKF6Mab2n0U95vRckkS2ZaSPSNZG4H4LNRmUkFG+hR17B9KX4kKZ2QhRhMJh2eVnpYGJV21Ghlfmh1n6l+aSa/I0oZXF4Thkc0C+CRee0Z2HYJ6uLRkjl3QOtueg/BmKaE1xigjAX8IJCSWV8OHWomaKVqXmpGiNCd5l6FlY26a2EZqjk5a6/+ngdqSWtNacTc6paoUmBQoimXzWqlxYuB6GKmDEQekiSL7WqF2wwnJ014zHKvnoswSqqN+JRzoY7bCcdtuntaHyl62MhE7ZqrffYtTkqUqSGy5uxKmW7KHhsjetq+O2m9G7fUYoMLdmfjcUds3Bp2979i3r70U0qmZqTvUaiym0u67rLMDn7mvmw0wa66nIf1IcG2gXL8tjadry23K4o4IsMb8cl/xqeSir5+Ce4Zk4osE3g3wwySF+rPG8/eY8oqzR9Vwa0EP97HKt9hmsJcuwItxnoM0aHfS5SGccc55V64yuh2ISdS/XD35tc3xLftq10OwaDTVtDnPHKNhnMv/sH4tT5+1vxVQKvjW+evtZtEQevx12QoYLm/Klf/e9sqp707ntr24nLC6r304+cYiXJ5554+cuK+ehXyIe+rGZc3700Py9Bu3qc1NpZN5jkzi5yojv2zDl9N7Or6M0h+U53/4+iezztD0OOOZtg3RtvnDexF7kZFdZXt5SX2V69R9drzHyz90tNPcQVz4rxnT++pfbA4ut3ugPsx+y27HH76yZhBPXyOzHtN5hCGAXG+D/3DU15h0uY6+qGbW81j27wa4/WvtXAwVYqOeFb0gTFJcBS0Qo4ShQXmeb3fQWCKj18Ml5K8sZ3RzYwgWp6zYp7NznDrUgG1YphhbbIN3/7AUd4KEoiCsMUc7wJ7f0yO+CM6Td+HS1IhAisU6AW6L73la6AEKwgoxTmwcfxDa+jdBxR1LfyK42PyvqCEtEtB/OsIa0M1JQd2bDIxur5cYDxu1+3HKTkLaUvcYtTHpYtGITDTNHXt0rStQ6ZMDaVEjvwQp7NxTiamTYQUZurFwL1J/vnrZFLyYuUmMslhIlFDgXzo1pqsqgxuyYGBO9ypSge+D4Ggm3mZlLl59qoiyPOB6lUY5popziyQDZwuUBq2BEg1XmAoU/HcKrOsZMHx9vxChtNrNfD2nWHqf5oGqicWeaVAwsOyi7cLrOZAtTy3I8NzP6GPFtqNtkOpGz/85vJtNwziOkJHk1R9sVj6Ca81sE90kZc9IvkMskzcrWBj9iOmt75CuZPC3pwH6yUDcORePuIho141EUoCTLjNX+2EKBBs9S5tuNGhMZvXN+9GULrNSYPjg8ib4wj1W0Jmtmuria3vGmKaxY/YbE01b6tGL3FGprSofIoyL0cQFUUPbcudOKfhRgc1qaV99CVRWa1Z1FBWdgtJq7plWOVU1lFxW/SFY/pU11CrXpEQmpPmVBZ2L4MyE8M/rU/iBPjmXRFAaBGrSQ7lV7x8yOXwe5xcBCp3htxaxht3pK/0FFsT5c6r6kJtYVDvNwg+FdNE/bvhq6knhqpWVKQPtT0f/6jbSSfeePeFjEl0KznftD7WvbaNWdwPC1H3zkm9BEWL0Cs4Tv/KU3n7lD7n2wMj9ErhNDyVvmHnV4mUVqkDa7utSNVa3F5YlyL5LLYDK0j7/yZFVNtsa1XNFz60Vq2tJLk/yOF6XovE40Twrb+a7Uvqz8VHxdyCtfIsV2TovXJ1FoyrTiNI66pCdQd2vhj6LPWIcNKndkKy0QFxhuEhan8nI6tcZxkqLsghqHUSxi+9nulS4k8UeS2eCUnlezAGTwiCl5o46+Fmm01WFoiQWqo/BYUEn98WCDjF/Y5tKZQYPx7JJs0yW7VMcsQSkn3QnVy5bsxnzKlOKSVqAV403/yKicoyCl7GTdJriVZT5d5Y7rWrbmFpo4fDOWgVWsOT9ZT7fdLCINzdvUNrfI6IVvQkfL28Wp78XRfXCiD3rWIdNVuLzMiH8lLbxNQ7ljjEUXa9lkNOvCNmKazCcvJ1bhzq66ZeQcNdoop+Ac/gSsmXYTrMWX5XKWkqTfvDW6cg3nHaqLmu8tCa2YWr3SljSEJ3yTilt94queb5l3Ai6nNWvQS5obzP/t9lqr/edrs1SKYaoesMtL4zz7SdkyrlK5Z1azmBjsupBLD615banffrLMBtxvq8otVj3DZ3NG+fd2jQrv1QyUzbset8kSvlg8crrha+Zvvz1r3Pta3Lci/zQ59WR36DPTcZdZi9UYM2ZKbIO6s9jNNnE5aNFn27XdGsz4zQOtS0dT0ZyLnHlUiA6pNG5YjEDW53wP5HMty07iIC8sxAVLWZ8wPYxXerrWnGdwqbq1id+8utkW9dNpY49RXe/J5BYa0rLpkK/RRGQIV032zrq90yoy+qoWi+6+uZbuW5y6y1cp7HS9G2YvLyzNm0xj8/q5oASTSf/4e0syUr7zf3/sm7e9cFOvfMvILmkPRVXwnWye5Hxj2zpF5/hsv4/0Evbp4VHf2Oy6tteUsmTZxjZXD5s5idq+d+JV/e4Qc1trgsdl6lvS9+Hvs/ggv3KX/7r8MX8b95P83v/gfejMwiN/0K3VKOWTK5qdZzL3kaa40FcaeMoz8YrhXUlMGQh6K28XNu6XeUuFfgFnXpy2W43XewqUf6yGVJwUQvnFKq1zgKGCV1iVPVwHbpWkbAQoJZGnSHlHbc4kgURGX/4DJbJma9mVX9W3Yq7WF3FVeThnfKo1T1VUdScGXoTXevEGeZUSS9xSKS23ETEYe2mWWzUIXTGWedOmg/VVN8nng0FISTplJ5kmbZwFXB+GU/VHSAv1PqPXbIMCfl0IWeIGNx5lQUXhfPpVSVy4bl64eOwUcKvXPmQIh2YoXmiobgqIFHFXZR6nh7nCOtv0fZ9HUxV3htAGXPnEbyb/Foec1yvKJ1cC94EWxYiFuGuhx3Pm1oETtm4OZFsQloeRiIWI9YRStDrDJhF/N3aP52mt8oex2G5fh0JhNx2W2F9KNzC2xVUkgyWtiDU2N3u+5z99tYOrtC22pIc1YYEslna+BoXYc3pBplXUok1t5IzzBXduaHjjY36sSIhPBI0jp1riR35Fd4hKcnHFR0HLsXoKt0Ly1YCCBThsGG/OqFhkdnwb52bMV2YEolR5dY8nt1GbSH2UpH1Rhzvw0zrt2Ekh148/KE0aGJDLZEhZqH4GqY4ugYCPpk9sOHJvuIXYMksfmIIkaXudiBndkXPrFl7MRXoRVpAdV5IWBXDc/xaPK6mS3MSPUDEm2EhKZVcn9/eFnTYwF2dzWCeO7saL/giPdCYTQAlIy+hYFdeI3feKeId0Vvhp0JSUCAZFN+d1sbZ2R/iQv/Rw71WUckg92mg5g1c70aYRo7KU/nSFp+aNBsSWQ1mPziV5zBh+cpd5AQaRgid/MLcti9iWhAZ0jel9nliHvPdrhOlWt/dz4IOEGVk4xmaU+yiNdPhqlZmZo7ZzW0GIOuiXE/iSeNle/khxmxhAyng8i+VoWoFXqcmPq7macUaUlQmFsUlSs4lWFImWU2Fz2SaLkEeNNeZ3tRlZtihFaeiNj0V/JXWGWoGcK6mcJsmcg2abFJlvmf+0jOlXnWbjXYGJFdfIR3MHeKx5iSeofEtFkOVGQ9QFfCCoeMF3ixg3ljbFm762JylpbvRpYh1GnPjZMikYfBh1mSjkUn4FhBMlb3wEnprlmkSYkVY5kTzZkYCUfRd5Z355jpGFW32pdPaGoRoRkssXiIA2l6KWg0A1WSF6fqBYelQ2h8XmZ0koj90Ia1dzVEO4ojJqdTq6k5x4Wg7GcsYDhsq0Sj6qcEC6WiHoiXXWLAqJo9LpVfS2d6OJjCl3oDRmd+65hhmZpfBHROZ4n++mLpjnpWKKap3ylyzxjqDSOmWDjvoZmiIHWXz2LAKJi2FXOgkaf1IJXRsFhGihp2X/2ph9qk2vR45itJ6EyoPNiWg4JXsEF5wDqnt5OY5qpWIjlUBPmp4np4buCY5NN2N4ClkeRVmRVGkitnOiClGkqmZzOjcLSqch0apMCoWtimGY14PGeJ4ViHI41GukamlmGYq1Z6rlQ4UfaG31tzCypJPJ9kdtRYKoqKxiyawPuav1p16dGWkRmpfal0xwqoeBenYcRXJo16h/6qZhVq5MGlUilq546Y4+RnE+51J3J3OKN6+/aRJ9h6+X9ouu2mjktZaZOGVDs3Xjd6dKeKROc1wcyBuWhLCpNqU0Wjx7+bB9h4qWl0oEh5iMOqish50aOyjx6n1wFER5WltWmDYJ/4tk0AOo3Rh1FPSW+rdBOKigLTqmr7mH7bqQTPY42Rhs8lmz02eoqhpGRJVhy1WWUmiRHiVxclmy6Rarhblo+6qxU+uVgtl0onckm6i1zwKBUamoaJtb2smytlKwZhdQVFpcLpaLdkqADEmJuDmjTVtAfxS1LoqIpGN/e5Y8y+mAiCqGzsV2ZAuJiemnQ0uvP/t+R2pgVcpiAtq2EAulYMenFluCXUWciYK50Ki5PVujyaeu78qfc+qkknqKN4qYL/G6k5aQfGg9tImttauC7amTENdnE2uhnxtxuFtq1AOOfYuk17qzMCe8z0q8PJqzPKtpceqfYZilLZioyiQprP9pnCJJoNDLrJiIqTKIj0w7oka7WZKEHnNWrXFJtFlEunTbRz5bcmZLtbvnmdR1vfJLojE7rvJasHHoaGS6n6GbutordTZ5vAF8URxpvl+VPLOpVYJKnQ1olOy7v1Z6bnmliBOHpLuXtS2WaO9bvLuLkHWku0O6f4GYT5nZwnaqUq/YYXa7mvNYFEknoSVargS5mNfUf8T6UEurk9QausuaOIRLET3MxB/KWbvZevMWwjPIwOtZZUjsmGoJjQdZp5bqin+non0qVKPmurdKoQPYN4CVi4kCrMKobwKLiAkMe9wFmvV7ly8Kf3ksh0Paq+xZtAkLvx+5po+FwZ80wOb/OsLruMKG252UqWGZhFupQnKGDIKI7LtplcT8Ol3EFqZRIX2bvGaGg8B51cRCa3ZmZMF39oaflXqXzI2fCYvw+bM657BClaysVIq6eKE5W09nmXqmeZSVa8CVSW/MOnKYNpVYYU8/p0AjO4MDJ6ZcOZyciMcmqcz4J6O87G+WmsH8qo/M57LfPDtLyr/h67mxi86LUc6Ci7XzC5m+ic173ChNWqoj0bmesZhoZrspJExWDLYPNcZNu5X+aNDvjE8w6hL8bGIzDMoArbp5GavrBKtMhmCNjHf+280bzIncyL7K+4yTpJT3q3FLPMv0as19Mbz+WclKC3Xql9Jttqiw/xyVnfqfJT0WzFxFpBm20czH5Nu8F+OQjizDUiauWbHTgCi6Y9iQAjipvctujDadRs09SH2b/qeJxoPRIsjU+KuZ9gg/+FrLGhyUqNoW8UttQER0ylap92pn54rN49vCknTVx1mCk1drOLuNJyvSnJmMfnPShuq2FNh7Y7t0eO2cej2ZStbXiz21XzdSY91B6Hl/h11XkhmAyBdP6iaLY7O0QvqjqebK+mS5iSHLp+pcluHJQze0m/3LjQvNox2NpZ3TaN1bDGhBQRqF0Cog3VSIAKc/kMtPuP2Rhn23vP3HrftTIzjCwg0tyi0VyuW9U7nGuRqRJGtWUorc1hjY7/81nTAoZNSduNatwf1Ti/Ys2wbX3YU7XqhssI0r089dRo76ved1cT2GTGMk06S9p+oZ38c828SasdHnk+6KoMzUL967uDO5z2BNvwLyewEdqmL9nBipcFxGYu+9ElkH4ZC2vBO+YPek0Ya4gJhp3E680M2cHsADls+7Hazd4kUqxa18qRDZoRydHCaafFUo4oir3/EWk8Ymz6XctNn7HhzqwGsdxwFrhIOYjyhXX/QdidF9122s1XrE5Djt5APm1GfolFNuxx+cHGwts5vrtop81gp9K2qssDfJelMMSQdt5qGdgAucUC/N5vW820StpihuHfm2ylebivc7kQ0+0sb/+uZhGNKj9NhZecvyXLjj617WmamIs8MkjCEO15x/y8mktkFSA7NdXtHYXSub/p2omWrOaJWD5ojwSdBoSiRffEQs2mPvM8xpdcSeR0WcDWBdMutWVOtQFtGDzUG6HsH3ArCP/EagNM1D9oC4+9Z2DrvcRWCjmrh/DUZL2Hm4CO1xLVzaTKvBzI7cnFBVjh89fjiYK+PVq3bqC4R5W7jJ7sZUM4VD/dRaeOLGu7qCh7mMzl0ZuyZH16xXzJhefOJ7O+xzjoMbviPWa4KI3MJFHL0TzM6JbO9MWPFRRNiz6GeUFrSoN4giLJtYc3li3i5pu7ErO4sg33kiz67MfaMm/9/wZD7bq1hsknrq6ehqcxbn78mr3bPqIYifPqTzeb2+/ufzAErzQ+Xmxo5nG3jDKgib9vqpCo6BjrwmN2/OUG+zUk+Qzd3fhorIrP06iAepRQ3TZr1sD4/MXCSc93vuDNLGeEfVak+VCjvwpvv2Z+vPGz+ZW8/V1ciwxjnoOC6DTF9MgfyGgk+T797bol6Xrv33y33op/d6YA/0g8+vlO/bGv/2BS5o8Gq1z2WfnY/gPZfxD0XNiV2Ylczqp7/tfeRzq5++an3p/hdumh/7Bq/QLHuzwU5wunz4ZM37d66dGQv8uCb8KxbpoGz83szA6eYUi53j0B+t0u/51P+0qv98/UlxXmV++XBd4XLr/S3hmhMpzod7T3Jv/vZJ1O4tc8Dz01bv/i1bXZ5L6n5F//Rs/wARQOBAggUNHkQ4EACAhAEWChQgAKLEhhUfDow4UWOAjAUjdqwYUuRIkiVNnkSZEuVFhBc7glzJECPFlzQpEvx4U+VOnj19/uwZkSXHjw1hLoSJU6dSpkCdPoUaVepIoTInJvWoE+nSmQhhYp0aVuxYsjENXnRJceFQr0VnYmVbVu5culHjopXZca3VhDmVwuVbV/BgwiW/CtgrMO5GqlwLP4Yc2ajOqnjbGnYsWfPmzXrXXuYcWvRokZ4XEyWdWvVowIxXv4YtuTXq2LUNbXMGe1v37rm5eQcICAAh+QQFCgABACwBAQsBAQABAAAIBAADBAQAIfkEBQoAAQAsAQELAQEAAQAACAQAAwQEACH5BAUKAAEALAEBCwEBAAEAAAgEAAMEBAAh+QQFCgABACwBAQsBAQABAAAIBAADBAQAIfkEBQoAAQAsAQELAQEAAQAACAQAAwQEACH5BAUKAAEALAEBCwEBAAEAAAgEAAMEBAAh+QQFCgABACwBAQsBAQABAAAIBAADBAQAIfkEBQoAAQAsAQELAQEAAQAACAQAAwQEACH5BAUKAAEALAEBCwEBAAEAAAgEAAMEBAAh+QQFCgABACwBAQsBAQABAAAIBAADBAQAOw==\"/></div></div></div></td></tr></table>"
      ],
      "text/plain": [
       "<IPython.core.display.HTML object>"
      ]
     },
     "metadata": {},
     "output_type": "display_data"
    },
    {
     "data": {
      "text/html": [
       "<table class=\"show_images\" style=\"border-spacing:0px;\"><tr><td style=\"padding:1px;\"><div style=\"display:flex; align-items:left;\">\n",
       "      <div style=\"display:flex; flex-direction:column; align-items:center;\">\n",
       "      <div>day24b</div><div><img width=\"540\" height=\"540\" style=\"border:1px solid black; image-rendering:auto; object-fit:cover;\" src=\"data:image/png;base64,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\"/></div></div></div></td></tr></table>"
      ],
      "text/plain": [
       "<IPython.core.display.HTML object>"
      ]
     },
     "metadata": {},
     "output_type": "display_data"
    }
   ],
   "source": [
    "_ = day24_part2(puzzle.input, visualize=True)"
   ]
  },
  {
   "cell_type": "markdown",
   "id": "d80eb9b5-3550-4340-866a-72be764c6138",
   "metadata": {
    "execution": {
     "iopub.execute_input": "2023-04-16T22:44:52.204362Z",
     "iopub.status.busy": "2023-04-16T22:44:52.203791Z",
     "iopub.status.idle": "2023-04-16T22:44:52.208437Z",
     "shell.execute_reply": "2023-04-16T22:44:52.207756Z",
     "shell.execute_reply.started": "2023-04-16T22:44:52.204345Z"
    },
    "tags": []
   },
   "source": [
    "Cached result:<br/>\n",
    "<img src=\"https://github.com/hhoppe/advent_of_code/raw/main/2020/results/day24c.gif\"/>"
   ]
  },
  {
   "cell_type": "markdown",
   "id": "4e3659da",
   "metadata": {},
   "source": [
    "<a name=\"day25\"></a>\n",
    "## Day 25: Public-key encryption"
   ]
  },
  {
   "cell_type": "markdown",
   "id": "f3bb00ca",
   "metadata": {},
   "source": [
    "Given a card public key and a door public key, find the (private) card loop size and door loop size that were used to generate these public keys.  Then, find the common encryption key that the card and door use to communicate.\n",
    "\n",
    "- Part 1: Report the encryption key.\n",
    "\n",
    "- Part 2: There is no part 2 for this last day of the Advent."
   ]
  },
  {
   "cell_type": "code",
   "execution_count": 129,
   "id": "b28f177c",
   "metadata": {
    "execution": {
     "iopub.execute_input": "2023-04-16T23:50:49.814037Z",
     "iopub.status.busy": "2023-04-16T23:50:49.813664Z",
     "iopub.status.idle": "2023-04-16T23:50:49.829096Z",
     "shell.execute_reply": "2023-04-16T23:50:49.828564Z",
     "shell.execute_reply.started": "2023-04-16T23:50:49.814022Z"
    }
   },
   "outputs": [
    {
     "data": {
      "text/markdown": [
       "For [day 25](https://adventofcode.com/2020/day/25), `puzzle.input` has 2 lines:"
      ],
      "text/plain": [
       "<IPython.core.display.Markdown object>"
      ]
     },
     "metadata": {},
     "output_type": "display_data"
    },
    {
     "name": "stdout",
     "output_type": "stream",
     "text": [
      "10212254\n",
      "12577395\n"
     ]
    },
    {
     "data": {
      "text/markdown": [
       "The stored answers are: `{1: '290487', 2: ''}`"
      ],
      "text/plain": [
       "<IPython.core.display.Markdown object>"
      ]
     },
     "metadata": {},
     "output_type": "display_data"
    }
   ],
   "source": [
    "puzzle = advent.puzzle(day=25)"
   ]
  },
  {
   "cell_type": "code",
   "execution_count": 130,
   "id": "b1f84c4e",
   "metadata": {
    "execution": {
     "iopub.execute_input": "2023-04-16T23:50:49.830203Z",
     "iopub.status.busy": "2023-04-16T23:50:49.829748Z",
     "iopub.status.idle": "2023-04-16T23:50:49.885423Z",
     "shell.execute_reply": "2023-04-16T23:50:49.884778Z",
     "shell.execute_reply.started": "2023-04-16T23:50:49.830190Z"
    }
   },
   "outputs": [],
   "source": [
    "s1 = \"\"\"\\\n",
    "5764801\n",
    "17807724\n",
    "\"\"\""
   ]
  },
  {
   "cell_type": "code",
   "execution_count": 131,
   "id": "44cbc960",
   "metadata": {
    "execution": {
     "iopub.execute_input": "2023-04-16T23:50:49.886369Z",
     "iopub.status.busy": "2023-04-16T23:50:49.886191Z",
     "iopub.status.idle": "2023-04-16T23:50:50.211917Z",
     "shell.execute_reply": "2023-04-16T23:50:50.211311Z",
     "shell.execute_reply.started": "2023-04-16T23:50:49.886355Z"
    }
   },
   "outputs": [
    {
     "name": "stdout",
     "output_type": "stream",
     "text": [
      "(Part 1: 0.316 s)\n"
     ]
    }
   ],
   "source": [
    "def day25a(s, *, base=7, mod=20201227):  # Slow.\n",
    "  card_public_key, door_public_key = map(int, s.splitlines())\n",
    "\n",
    "  # Slow trial-multiplication; https://en.wikipedia.org/wiki/Discrete_logarithm\n",
    "  def untransform(base, value):\n",
    "    x = 1\n",
    "    loop_size = 0\n",
    "    while x != value:\n",
    "      loop_size += 1\n",
    "      x = (x * base) % mod\n",
    "    return loop_size\n",
    "\n",
    "  # Slow O(n) version.\n",
    "  def transform(value, loop_size):\n",
    "    x = 1\n",
    "    for _ in range(loop_size):\n",
    "      x = (x * value) % mod\n",
    "    return x\n",
    "\n",
    "  card_loop_size = untransform(base, card_public_key)\n",
    "  door_loop_size = untransform(base, door_public_key)\n",
    "  assert transform(base, card_loop_size) == card_public_key\n",
    "  assert transform(base, door_loop_size) == door_public_key\n",
    "\n",
    "  encryption_key1 = transform(door_public_key, card_loop_size)\n",
    "  encryption_key2 = transform(card_public_key, door_loop_size)\n",
    "  assert encryption_key1 == encryption_key2\n",
    "  return encryption_key1\n",
    "\n",
    "\n",
    "check_eq(day25a(s1), 14897079)\n",
    "puzzle.verify(1, day25a)"
   ]
  },
  {
   "cell_type": "code",
   "execution_count": 132,
   "id": "a1155049",
   "metadata": {
    "execution": {
     "iopub.execute_input": "2023-04-16T23:50:50.212688Z",
     "iopub.status.busy": "2023-04-16T23:50:50.212546Z",
     "iopub.status.idle": "2023-04-16T23:50:50.218714Z",
     "shell.execute_reply": "2023-04-16T23:50:50.218236Z",
     "shell.execute_reply.started": "2023-04-16T23:50:50.212677Z"
    }
   },
   "outputs": [
    {
     "name": "stdout",
     "output_type": "stream",
     "text": [
      "(Part 1: 0.000 s)\n"
     ]
    }
   ],
   "source": [
    "def day25(s, *, base=7, mod=20201227):  # Fast.\n",
    "  def pow_mod(base: int, exponent: int, mod: int) -> int:\n",
    "    \"\"\"Returns 'base**exponent % mod' using square-multiply algorithm.\"\"\"\n",
    "    x = 1\n",
    "    while exponent > 0:\n",
    "      if exponent % 2 == 1:\n",
    "        x = (x * base) % mod\n",
    "      base = (base * base) % mod\n",
    "      exponent //= 2\n",
    "    return x\n",
    "\n",
    "  def log_mod(base: int, value: int, mod: int) -> int | None:\n",
    "    \"\"\"Returns exponent for 'base**exponent % mod == value'.\"\"\"\n",
    "    # Using https://en.wikipedia.org/wiki/Baby-step_giant-step\n",
    "    # m = int(math.ceil(mod**0.5))\n",
    "    m = math.isqrt(mod - 1) + 1\n",
    "    table = {}\n",
    "    e = 1\n",
    "    for i in range(m):\n",
    "      table[e] = i\n",
    "      e = (e * base) % mod\n",
    "    factor = pow_mod(base, mod - m - 1, mod)\n",
    "    e = value\n",
    "    for i in range(m):\n",
    "      if e in table:\n",
    "        return i * m + table[e]\n",
    "      e = (e * factor) % mod\n",
    "    return None\n",
    "\n",
    "  card_public_key, door_public_key = map(int, s.splitlines())\n",
    "  card_loop_size = log_mod(base, card_public_key, mod)\n",
    "  assert card_loop_size is not None\n",
    "  return pow_mod(door_public_key, card_loop_size, mod)\n",
    "\n",
    "\n",
    "check_eq(day25(s1), 14897079)\n",
    "puzzle.verify(1, day25)"
   ]
  },
  {
   "cell_type": "markdown",
   "id": "6d600fa2",
   "metadata": {},
   "source": [
    "Part 2"
   ]
  },
  {
   "cell_type": "code",
   "execution_count": 133,
   "id": "a85ae975",
   "metadata": {
    "execution": {
     "iopub.execute_input": "2023-04-16T23:50:50.219383Z",
     "iopub.status.busy": "2023-04-16T23:50:50.219254Z",
     "iopub.status.idle": "2023-04-16T23:50:50.233636Z",
     "shell.execute_reply": "2023-04-16T23:50:50.232960Z",
     "shell.execute_reply.started": "2023-04-16T23:50:50.219371Z"
    }
   },
   "outputs": [
    {
     "name": "stdout",
     "output_type": "stream",
     "text": [
      "(Part 2: 0.000 s)\n"
     ]
    }
   ],
   "source": [
    "puzzle.verify(2, lambda s: '')  # (No \"Part 2\" on last day.)\n",
    "# (aocd does not allow a blank answer; the answer is not submitted)"
   ]
  },
  {
   "cell_type": "markdown",
   "id": "ffc0d796",
   "metadata": {},
   "source": [
    "<a name=\"timings\"></a>\n",
    "## Timings"
   ]
  },
  {
   "cell_type": "code",
   "execution_count": 134,
   "id": "703b930b",
   "metadata": {
    "execution": {
     "iopub.execute_input": "2023-04-16T23:50:50.234502Z",
     "iopub.status.busy": "2023-04-16T23:50:50.234322Z",
     "iopub.status.idle": "2023-04-16T23:50:50.243569Z",
     "shell.execute_reply": "2023-04-16T23:50:50.242946Z",
     "shell.execute_reply.started": "2023-04-16T23:50:50.234489Z"
    }
   },
   "outputs": [
    {
     "name": "stdout",
     "output_type": "stream",
     "text": [
      "day_1    part_1: 0.000   part_2: 0.001\n",
      "day_2    part_1: 0.002   part_2: 0.001\n",
      "day_3    part_1: 0.000   part_2: 0.001\n",
      "day_4    part_1: 0.002   part_2: 0.004\n",
      "day_5    part_1: 0.000   part_2: 0.001\n",
      "day_6    part_1: 0.000   part_2: 0.001\n",
      "day_7    part_1: 0.002   part_2: 0.002\n",
      "day_8    part_1: 0.000   part_2: 0.005\n",
      "day_9    part_1: 0.001   part_2: 0.001\n",
      "day_10   part_1: 0.000   part_2: 0.000\n",
      "day_11   part_1: 0.016   part_2: 0.041\n",
      "day_12   part_1: 0.000   part_2: 0.000\n",
      "day_13   part_1: 0.000   part_2: 0.000\n",
      "day_14   part_1: 0.001   part_2: 0.010\n",
      "day_15   part_1: 0.000   part_2: 0.399\n",
      "day_16   part_1: 0.002   part_2: 0.020\n",
      "day_17   part_1: 0.003   part_2: 0.059\n",
      "day_18   part_1: 0.002   part_2: 0.002\n",
      "day_19   part_1: 0.027   part_2: 0.121\n",
      "day_20   part_1: 0.004   part_2: 0.012\n",
      "day_21   part_1: 0.001   part_2: 0.000\n",
      "day_22   part_1: 0.000   part_2: 0.412\n",
      "day_23   part_1: 0.000   part_2: 0.175\n",
      "day_24   part_1: 0.001   part_2: 0.152\n",
      "day_25   part_1: 0.000   part_2: 0.000\n",
      "Total time:  1.482 s\n"
     ]
    }
   ],
   "source": [
    "advent.show_times()"
   ]
  },
  {
   "cell_type": "code",
   "execution_count": 135,
   "id": "be7b0632",
   "metadata": {
    "execution": {
     "iopub.execute_input": "2023-04-16T23:50:50.244488Z",
     "iopub.status.busy": "2023-04-16T23:50:50.244195Z",
     "iopub.status.idle": "2023-04-16T23:50:50.252690Z",
     "shell.execute_reply": "2023-04-16T23:50:50.252084Z",
     "shell.execute_reply.started": "2023-04-16T23:50:50.244461Z"
    }
   },
   "outputs": [],
   "source": [
    "if 0:  # Compute min execution times over several calls.\n",
    "  advent.show_times(recompute=True, repeat=3)"
   ]
  },
  {
   "cell_type": "code",
   "execution_count": 136,
   "id": "f1395dd8",
   "metadata": {
    "execution": {
     "iopub.execute_input": "2023-04-16T23:50:50.253548Z",
     "iopub.status.busy": "2023-04-16T23:50:50.253385Z",
     "iopub.status.idle": "2023-04-16T23:50:50.262747Z",
     "shell.execute_reply": "2023-04-16T23:50:50.262182Z",
     "shell.execute_reply.started": "2023-04-16T23:50:50.253536Z"
    }
   },
   "outputs": [],
   "source": [
    "if 1:  # Look for unwanted pollution of namespace.\n",
    "  for _name in globals().copy():\n",
    "    if not (re.match(r'^_|(day|Day|s)\\d+|(puzzle$)', _name) or _name in _ORIGINAL_GLOBALS):\n",
    "      print(_name)"
   ]
  },
  {
   "cell_type": "code",
   "execution_count": 137,
   "id": "553b629e",
   "metadata": {
    "execution": {
     "iopub.execute_input": "2023-04-16T23:50:50.263780Z",
     "iopub.status.busy": "2023-04-16T23:50:50.263457Z",
     "iopub.status.idle": "2023-04-16T23:50:50.272002Z",
     "shell.execute_reply": "2023-04-16T23:50:50.271403Z",
     "shell.execute_reply.started": "2023-04-16T23:50:50.263767Z"
    }
   },
   "outputs": [],
   "source": [
    "if 0:  # Lint.\n",
    "  hh.run('echo flake8; flake8')\n",
    "  hh.run('echo mypy; mypy . || true')\n",
    "  hh.run('echo autopep8; autopep8 -j8 -d .')\n",
    "  hh.run('echo pylint; pylint -j8 . || true')\n",
    "  print('All ran.')"
   ]
  },
  {
   "cell_type": "code",
   "execution_count": 138,
   "id": "dd0a566e",
   "metadata": {
    "execution": {
     "iopub.execute_input": "2023-04-16T23:50:50.272829Z",
     "iopub.status.busy": "2023-04-16T23:50:50.272671Z",
     "iopub.status.idle": "2023-04-16T23:50:50.282713Z",
     "shell.execute_reply": "2023-04-16T23:50:50.282010Z",
     "shell.execute_reply.started": "2023-04-16T23:50:50.272816Z"
    }
   },
   "outputs": [
    {
     "name": "stdout",
     "output_type": "stream",
     "text": [
      "# Total time: 10.00 s\n",
      "# In[128] _ = day24_part2(puzzle.input, visualize=True)                2.183 s\n",
      "# In[ 86] # Faster, using np.array and numba.\\n@numba.njit\\ndef day15  1.038 s\n",
      "# In[ 93] def day17a(s, *, num_cycles=6, dim=3):  # Slower.\\n  lines   0.915 s\n",
      "# In[ 65] # More naive solution, but faster when using numba.\\n@       0.810 s\n",
      "# In[115] def day22a_part2(s):  # Slower code using deque.\\n  def      0.631 s\n",
      "# In[123] # Code keeping track of next cup label for each cup label:   0.605 s\n",
      "# In[116] def day22_part2(s):  # Faster code using tuples.\\n  # @      0.413 s\n",
      "# In[  7] # (1) To obtain puzzle inputs and answers, we first try      0.410 s\n",
      "# In[131] def day25a(s, *, base=7, mod=20201227):  # Slow.\\n  card_    0.322 s\n",
      "# In[ 95] for _dim in range(2, 5):\\n  _ = day17(puzzle.input, dim=_    0.315 s\n",
      "# In[ 66] if using_numba:\\n  _ = day11(puzzle.input, visualize=True,   0.299 s\n",
      "# In[127] def day24(s, *, part2=False, num_days=100, visualize=False,  0.234 s\n",
      "# In[102] def day19a(s, *, part2=False):  # Compact.\\n  section1,      0.229 s\n",
      "# In[106] def day20(s, *, part2=False, visualize=False):\\n  tiles = {  0.169 s\n",
      "# In[103] def day19(s, *, part2=False):  # Faster.\\n  section1,        0.152 s\n",
      "# In[ 96] def day17_show_num_active_in_each_generation_for_2d_3d_4d()  0.120 s\n",
      "# In[ 94] # Faster using specialization and collections.Counter, and   0.101 s\n",
      "# In[130] s1 = \"\"\"\\\\\\n5764801\\n17807724\\n\"\"\"                           0.053 s\n",
      "# In[107] _ = day20_part2(puzzle.input, visualize=True)                0.031 s\n",
      "# In[ 89] def day16(s, *, part2=False):\\n  def read_rules_and_         0.029 s\n"
     ]
    }
   ],
   "source": [
    "hh.show_notebook_cell_top_times()"
   ]
  },
  {
   "cell_type": "markdown",
   "id": "071be244",
   "metadata": {},
   "source": [
    "# End"
   ]
  },
  {
   "cell_type": "code",
   "execution_count": 139,
   "id": "fa30d668",
   "metadata": {
    "execution": {
     "iopub.execute_input": "2023-04-16T23:50:50.283775Z",
     "iopub.status.busy": "2023-04-16T23:50:50.283404Z",
     "iopub.status.idle": "2023-04-16T23:50:50.292291Z",
     "shell.execute_reply": "2023-04-16T23:50:50.291565Z",
     "shell.execute_reply.started": "2023-04-16T23:50:50.283761Z"
    }
   },
   "outputs": [],
   "source": [
    "# Goals:\n",
    "# (1) Find puzzle answers.\n",
    "# (2) Clean up code.\n",
    "# (3) Speed up computation.\n",
    "# (4) Visualize intermediate results.\n",
    "# (5) Generalize to all puzzle inputs."
   ]
  },
  {
   "cell_type": "markdown",
   "id": "dc226ae0",
   "metadata": {},
   "source": [
    "<!-- For Emacs:\n",
    "Local Variables:\n",
    "fill-column: 100\n",
    "End:\n",
    "-->"
   ]
  }
 ],
 "metadata": {
  "colab": {
   "collapsed_sections": [],
   "provenance": [],
   "toc_visible": true
  },
  "jupytext": {
   "cell_metadata_filter": "-all",
   "formats": "py:percent,ipynb",
   "main_language": "python",
   "notebook_metadata_filter": "-all"
  },
  "kernelspec": {
   "display_name": "Python 3 (ipykernel)",
   "language": "python",
   "name": "python3"
  },
  "language_info": {
   "codemirror_mode": {
    "name": "ipython",
    "version": 3
   },
   "file_extension": ".py",
   "mimetype": "text/x-python",
   "name": "python",
   "nbconvert_exporter": "python",
   "pygments_lexer": "ipython3",
   "version": "3.10.6"
  }
 },
 "nbformat": 4,
 "nbformat_minor": 5
}
