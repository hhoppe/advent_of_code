{
 "cells": [
  {
   "cell_type": "markdown",
   "id": "3f4e0d72",
   "metadata": {},
   "source": [
    "# Advent of code 2020"
   ]
  },
  {
   "cell_type": "markdown",
   "id": "6748e67b",
   "metadata": {},
   "source": [
    "[[**Open the notebook in Colab**]](https://colab.research.google.com/github/hhoppe/advent_of_code/blob/main/2020/advent_of_code_2020.ipynb)\n",
    "\n",
    "Jupyter [notebook](https://github.com/hhoppe/advent_of_code/blob/main/2020/advent_of_code_2020.ipynb)\n",
    "by [Hugues Hoppe](http://hhoppe.com/) with Python solutions to the\n",
    "[2020 Advent of Code puzzles](https://adventofcode.com/2020),\n",
    "completed in December 2020.\n",
    "\n",
    "I participated in the 25-day [Advent of Code](https://adventofcode.com/) for the first time this year, thanks to encouragement from colleagues, especially [Sascha Häberling](https://github.com/shaeberling).  It was great fun and provided a nice opportunity to learn more advanced Python.\n",
    "\n",
    "In the event, many people compete to solve the puzzles as quickly as possible --- see the impressive times on the [leaderboard](https://adventofcode.com/2020/leaderboard).\n",
    "My approach was much more casual, although I did aim to finish the puzzle each evening.\n",
    "\n",
    "Later, I went back to explore more **polished and efficient solutions**.\n",
    "Can the code be expressed more succinctly?\n",
    "What is the fastest algorithm given the constraints of interpreted Python?\n",
    "Along the way, I discovered the [`numba`](https://numba.pydata.org/) package which can JIT-compile bottleneck functions to native code;\n",
    "is it practical for these problems?  Yes, it can help greatly!\n",
    "\n",
    "This notebook is organized such that each day is self-contained and can be run on its own after the preamble.\n",
    "\n",
    "Some **conclusions**:\n",
    "\n",
    "- A Jupyter/IPython notebook is a great environment for exploration.\n",
    "- The notebook conveniently bundles descriptions, notes, code, small test inputs, and results.\n",
    "- Initially I stored puzzle inputs within the notebook itself, but this introduces clutter and runs inefficiently.\n",
    "- The cloud-based CPU kernel/runtime provided by Colab works nicely.\n",
    "- With the [`numba`](https://numba.pydata.org/) library (for days [11](#day11), [15](#day15), and [23](#day23)), all of this year's puzzles can be solved in 1 second or less.\n",
    "- The total execution time across all 25 puzzles is about 4 s.\n",
    "\n",
    "Here are some visualization results:\n",
    "\n",
    "<p>\n",
    "<a href=\"#day11\">day11</a><img src=\"https://github.com/hhoppe/advent_of_code/raw/main/2020/results/day11a.gif\" width=\"200\">\n",
    "<img src=\"https://github.com/hhoppe/advent_of_code/raw/main/2020/results/day11b.gif\" width=\"200\">&emsp;\n",
    "<a href=\"#day20\">day20</a><img src=\"https://github.com/hhoppe/advent_of_code/raw/main/2020/results/day20a.png\" width=\"200\">\n",
    "<img src=\"https://github.com/hhoppe/advent_of_code/raw/main/2020/results/day20b.png\" width=\"200\">\n",
    "</p>\n",
    "<p>\n",
    "<a href=\"#day24\">day24</a><img src=\"https://github.com/hhoppe/advent_of_code/raw/main/2020/results/day24.gif\" width=\"200\">\n",
    "</p>"
   ]
  },
  {
   "cell_type": "markdown",
   "id": "b6c4d08d",
   "metadata": {},
   "source": [
    "<a name=\"preamble\"></a>\n",
    "## Preamble"
   ]
  },
  {
   "cell_type": "code",
   "execution_count": 1,
   "id": "c3d784f1",
   "metadata": {
    "execution": {
     "iopub.execute_input": "2023-01-14T01:50:31.651657Z",
     "iopub.status.busy": "2023-01-14T01:50:31.651514Z",
     "iopub.status.idle": "2023-01-14T01:50:31.761480Z",
     "shell.execute_reply": "2023-01-14T01:50:31.760777Z",
     "shell.execute_reply.started": "2023-01-14T01:50:31.651642Z"
    }
   },
   "outputs": [],
   "source": [
    "!command -v ffmpeg >/dev/null || (apt-get -qq update && apt-get -qq -y install ffmpeg) >/dev/null"
   ]
  },
  {
   "cell_type": "code",
   "execution_count": 2,
   "id": "bbb491ed",
   "metadata": {
    "execution": {
     "iopub.execute_input": "2023-01-14T01:50:31.762876Z",
     "iopub.status.busy": "2023-01-14T01:50:31.762712Z",
     "iopub.status.idle": "2023-01-14T01:50:33.014849Z",
     "shell.execute_reply": "2023-01-14T01:50:33.014244Z",
     "shell.execute_reply.started": "2023-01-14T01:50:31.762862Z"
    }
   },
   "outputs": [],
   "source": [
    "!pip install -q advent-of-code-hhoppe hhoppe-tools mediapy more-itertools numba"
   ]
  },
  {
   "cell_type": "code",
   "execution_count": 40,
   "id": "b385dd25",
   "metadata": {
    "execution": {
     "iopub.execute_input": "2023-01-14T02:29:36.660610Z",
     "iopub.status.busy": "2023-01-14T02:29:36.660178Z",
     "iopub.status.idle": "2023-01-14T02:29:36.664235Z",
     "shell.execute_reply": "2023-01-14T02:29:36.663557Z",
     "shell.execute_reply.started": "2023-01-14T02:29:36.660593Z"
    },
    "tags": []
   },
   "outputs": [],
   "source": [
    "from __future__ import annotations\n",
    "\n",
    "import bisect\n",
    "import collections\n",
    "from collections.abc import Iterable\n",
    "import functools\n",
    "import itertools\n",
    "import math\n",
    "import operator\n",
    "import re\n",
    "import sys\n",
    "import textwrap\n",
    "import types\n",
    "from typing import Any\n",
    "\n",
    "import advent_of_code_hhoppe  # https://github.com/hhoppe/advent-of-code-hhoppe/blob/main/advent_of_code_hhoppe/__init__.py\n",
    "import hhoppe_tools as hh  # https://github.com/hhoppe/hhoppe-tools/blob/main/hhoppe_tools/__init__.py\n",
    "import matplotlib\n",
    "import matplotlib.pyplot as plt\n",
    "import mediapy as media\n",
    "import more_itertools\n",
    "import numpy as np"
   ]
  },
  {
   "cell_type": "code",
   "execution_count": 4,
   "id": "3875ebaa",
   "metadata": {
    "execution": {
     "iopub.execute_input": "2023-01-14T01:50:33.281129Z",
     "iopub.status.busy": "2023-01-14T01:50:33.280952Z",
     "iopub.status.idle": "2023-01-14T01:50:33.284675Z",
     "shell.execute_reply": "2023-01-14T01:50:33.284118Z",
     "shell.execute_reply.started": "2023-01-14T01:50:33.281116Z"
    }
   },
   "outputs": [],
   "source": [
    "if not media.video_is_available():\n",
    "  media.show_videos = lambda *a, **kw: print('Creating video is unavailable.')"
   ]
  },
  {
   "cell_type": "code",
   "execution_count": 5,
   "id": "4f31e24a",
   "metadata": {
    "execution": {
     "iopub.execute_input": "2023-01-14T01:50:33.285478Z",
     "iopub.status.busy": "2023-01-14T01:50:33.285226Z",
     "iopub.status.idle": "2023-01-14T01:50:33.296032Z",
     "shell.execute_reply": "2023-01-14T01:50:33.295384Z",
     "shell.execute_reply.started": "2023-01-14T01:50:33.285466Z"
    }
   },
   "outputs": [],
   "source": [
    "hh.start_timing_notebook_cells()"
   ]
  },
  {
   "cell_type": "code",
   "execution_count": 6,
   "id": "3760ff24",
   "metadata": {
    "execution": {
     "iopub.execute_input": "2023-01-14T01:50:33.297124Z",
     "iopub.status.busy": "2023-01-14T01:50:33.296960Z",
     "iopub.status.idle": "2023-01-14T01:50:33.308106Z",
     "shell.execute_reply": "2023-01-14T01:50:33.307366Z",
     "shell.execute_reply.started": "2023-01-14T01:50:33.297111Z"
    }
   },
   "outputs": [],
   "source": [
    "YEAR = 2020"
   ]
  },
  {
   "cell_type": "code",
   "execution_count": 7,
   "id": "d71eb37c",
   "metadata": {
    "execution": {
     "iopub.execute_input": "2023-01-14T01:50:33.310240Z",
     "iopub.status.busy": "2023-01-14T01:50:33.309766Z",
     "iopub.status.idle": "2023-01-14T01:50:33.322334Z",
     "shell.execute_reply": "2023-01-14T01:50:33.321506Z",
     "shell.execute_reply.started": "2023-01-14T01:50:33.310223Z"
    }
   },
   "outputs": [],
   "source": [
    "# (1) To obtain puzzle inputs and answers, we first try these paths/URLs:\n",
    "PROFILE = 'google.Hugues_Hoppe.965276'\n",
    "# PROFILE = 'github.hhoppe.1452460'\n",
    "TAR_URL = f'https://github.com/hhoppe/advent_of_code/raw/main/{YEAR}/data/{PROFILE}.tar.gz'\n",
    "if 1:\n",
    "  hh.run(\n",
    "      f'if [ ! -d data/{PROFILE} ]; then (mkdir -p data && cd data &&'\n",
    "      f' wget -q {TAR_URL} && tar xzf {PROFILE}.tar.gz); fi'\n",
    "  )\n",
    "INPUT_URL = f'data/{PROFILE}/{{year}}_{{day:02d}}_input.txt'\n",
    "ANSWER_URL = f'data/{PROFILE}/{{year}}_{{day:02d}}{{part_letter}}_answer.txt'"
   ]
  },
  {
   "cell_type": "code",
   "execution_count": 8,
   "id": "d1f5a61c",
   "metadata": {
    "execution": {
     "iopub.execute_input": "2023-01-14T01:50:33.323432Z",
     "iopub.status.busy": "2023-01-14T01:50:33.323216Z",
     "iopub.status.idle": "2023-01-14T01:50:33.327400Z",
     "shell.execute_reply": "2023-01-14T01:50:33.326713Z",
     "shell.execute_reply.started": "2023-01-14T01:50:33.323401Z"
    }
   },
   "outputs": [],
   "source": [
    "# (2) If URL is not found, we may try adventofcode.com using a session cookie:\n",
    "if 0:\n",
    "  # !rm -f ~/.config/aocd/token*; mkdir -p ~/.config/aocd; echo 53616... >~/.config/aocd/token\n",
    "  # where \"53616...\" is the session cookie from \"adventofcode.com\" (valid 1 month).\n",
    "  hh.run('pip install -q advent-of-code-data')  # https://github.com/wimglenn/advent-of-code-data\n",
    "  import aocd  # pylint: disable=unused-import # noqa"
   ]
  },
  {
   "cell_type": "code",
   "execution_count": 9,
   "id": "21c616d2",
   "metadata": {
    "execution": {
     "iopub.execute_input": "2023-01-14T01:50:33.328500Z",
     "iopub.status.busy": "2023-01-14T01:50:33.328113Z",
     "iopub.status.idle": "2023-01-14T01:50:33.336502Z",
     "shell.execute_reply": "2023-01-14T01:50:33.335952Z",
     "shell.execute_reply.started": "2023-01-14T01:50:33.328485Z"
    },
    "tags": []
   },
   "outputs": [],
   "source": [
    "try:\n",
    "  import numba\n",
    "except ModuleNotFoundError:\n",
    "  print('Package numba is unavailable.')\n",
    "  numba = sys.modules['numba'] = types.ModuleType('numba')\n",
    "  numba.njit = hh.noop_decorator\n",
    "using_numba = hasattr(numba, 'jit')"
   ]
  },
  {
   "cell_type": "code",
   "execution_count": 10,
   "id": "62ac3037",
   "metadata": {
    "execution": {
     "iopub.execute_input": "2023-01-14T01:50:33.337684Z",
     "iopub.status.busy": "2023-01-14T01:50:33.337304Z",
     "iopub.status.idle": "2023-01-14T01:50:33.345706Z",
     "shell.execute_reply": "2023-01-14T01:50:33.345035Z",
     "shell.execute_reply.started": "2023-01-14T01:50:33.337661Z"
    }
   },
   "outputs": [],
   "source": [
    "advent = advent_of_code_hhoppe.Advent(year=YEAR, input_url=INPUT_URL, answer_url=ANSWER_URL)"
   ]
  },
  {
   "cell_type": "code",
   "execution_count": 11,
   "id": "cbad9830",
   "metadata": {
    "execution": {
     "iopub.execute_input": "2023-01-14T01:50:33.346730Z",
     "iopub.status.busy": "2023-01-14T01:50:33.346400Z",
     "iopub.status.idle": "2023-01-14T01:50:33.357956Z",
     "shell.execute_reply": "2023-01-14T01:50:33.357242Z",
     "shell.execute_reply.started": "2023-01-14T01:50:33.346716Z"
    }
   },
   "outputs": [
    {
     "data": {
      "text/html": [
       "<style>.jp-Cell.jp-MarkdownCell {max-width: 1016px!important;}</style>"
      ],
      "text/plain": [
       "<IPython.core.display.HTML object>"
      ]
     },
     "metadata": {},
     "output_type": "display_data"
    }
   ],
   "source": [
    "hh.adjust_jupyterlab_markdown_width()"
   ]
  },
  {
   "cell_type": "markdown",
   "id": "cb62f9a0",
   "metadata": {},
   "source": [
    "### Helper functions"
   ]
  },
  {
   "cell_type": "code",
   "execution_count": 12,
   "id": "520bdb08",
   "metadata": {
    "execution": {
     "iopub.execute_input": "2023-01-14T01:50:33.359092Z",
     "iopub.status.busy": "2023-01-14T01:50:33.358645Z",
     "iopub.status.idle": "2023-01-14T01:50:33.363677Z",
     "shell.execute_reply": "2023-01-14T01:50:33.363159Z",
     "shell.execute_reply.started": "2023-01-14T01:50:33.359076Z"
    },
    "lines_to_next_cell": 2
   },
   "outputs": [],
   "source": [
    "check_eq = hh.check_eq\n",
    "_ORIGINAL_GLOBALS = list(globals())"
   ]
  },
  {
   "cell_type": "markdown",
   "id": "0900a714",
   "metadata": {},
   "source": [
    "<a name=\"day1\"></a>\n",
    "## Day 1: Find summing numbers"
   ]
  },
  {
   "cell_type": "markdown",
   "id": "68cc5820",
   "metadata": {},
   "source": [
    "- Part 1: Given a list of numbers, find two entries that sum to 2020 and multiply those entries together.\n",
    "\n",
    "- Part 2: Find three entries that sum to 2020 and multiply those entries together."
   ]
  },
  {
   "cell_type": "code",
   "execution_count": 15,
   "id": "3718e7f9",
   "metadata": {
    "execution": {
     "iopub.execute_input": "2022-12-19T00:40:41.717733Z",
     "iopub.status.busy": "2022-12-19T00:40:41.717480Z",
     "iopub.status.idle": "2022-12-19T00:40:41.734646Z",
     "shell.execute_reply": "2022-12-19T00:40:41.734054Z",
     "shell.execute_reply.started": "2022-12-19T00:40:41.717718Z"
    }
   },
   "outputs": [
    {
     "data": {
      "text/markdown": [
       "For [day 1](https://adventofcode.com/2020/day/1), `puzzle.input` has 200 lines:"
      ],
      "text/plain": [
       "<IPython.core.display.Markdown object>"
      ]
     },
     "metadata": {},
     "output_type": "display_data"
    },
    {
     "name": "stdout",
     "output_type": "stream",
     "text": [
      "1686\n",
      "1983\n",
      "1801\n",
      "1890\n",
      "1910\n",
      "1722\n",
      "1571\n",
      "1952\n",
      " ...\n",
      "1261\n",
      "1154\n",
      "1769\n",
      "1529\n"
     ]
    },
    {
     "data": {
      "text/markdown": [
       "The stored answers are: `{1: '651651', 2: '214486272'}`"
      ],
      "text/plain": [
       "<IPython.core.display.Markdown object>"
      ]
     },
     "metadata": {},
     "output_type": "display_data"
    }
   ],
   "source": [
    "puzzle = advent.puzzle(day=1)"
   ]
  },
  {
   "cell_type": "code",
   "execution_count": 16,
   "id": "844a8583",
   "metadata": {
    "execution": {
     "iopub.execute_input": "2022-12-19T00:40:41.735627Z",
     "iopub.status.busy": "2022-12-19T00:40:41.735318Z",
     "iopub.status.idle": "2022-12-19T00:40:41.738409Z",
     "shell.execute_reply": "2022-12-19T00:40:41.737814Z",
     "shell.execute_reply.started": "2022-12-19T00:40:41.735615Z"
    }
   },
   "outputs": [],
   "source": [
    "# A test input provided in the puzzle description:\n",
    "s1 = \"\"\"\\\n",
    "1721\n",
    "979\n",
    "366\n",
    "299\n",
    "675\n",
    "1456\n",
    "\"\"\""
   ]
  },
  {
   "cell_type": "code",
   "execution_count": 17,
   "id": "65536cb4",
   "metadata": {
    "execution": {
     "iopub.execute_input": "2022-12-19T00:40:41.739144Z",
     "iopub.status.busy": "2022-12-19T00:40:41.739001Z",
     "iopub.status.idle": "2022-12-19T00:40:41.749131Z",
     "shell.execute_reply": "2022-12-19T00:40:41.748561Z",
     "shell.execute_reply.started": "2022-12-19T00:40:41.739132Z"
    }
   },
   "outputs": [
    {
     "name": "stdout",
     "output_type": "stream",
     "text": [
      "(Part 1: 0.000 s)\n"
     ]
    }
   ],
   "source": [
    "def day1(s, *, total=2020):\n",
    "  entries = set(map(int, s.split()))\n",
    "  for a in entries:\n",
    "    b = total - a\n",
    "    if b in entries:\n",
    "      return a * b\n",
    "  return None\n",
    "\n",
    "\n",
    "check_eq(day1(s1), 514579)  # Reference answer provided in the description.\n",
    "puzzle.verify(1, day1)  # ~0 ms."
   ]
  },
  {
   "cell_type": "code",
   "execution_count": 18,
   "id": "d91e1cf9",
   "metadata": {
    "execution": {
     "iopub.execute_input": "2022-12-19T00:40:41.750043Z",
     "iopub.status.busy": "2022-12-19T00:40:41.749855Z",
     "iopub.status.idle": "2022-12-19T00:40:41.759750Z",
     "shell.execute_reply": "2022-12-19T00:40:41.759188Z",
     "shell.execute_reply.started": "2022-12-19T00:40:41.750029Z"
    }
   },
   "outputs": [
    {
     "name": "stdout",
     "output_type": "stream",
     "text": [
      "(Part 2: 0.001 s)\n"
     ]
    }
   ],
   "source": [
    "def day1_part2(s, *, total=2020):\n",
    "  entries = set(map(int, s.split()))\n",
    "  for a in entries:\n",
    "    for b in entries:\n",
    "      c = total - a - b\n",
    "      if c in entries:\n",
    "        return a * b * c\n",
    "  return None\n",
    "\n",
    "\n",
    "check_eq(day1_part2(s1), 241861950)\n",
    "puzzle.verify(2, day1_part2)  # ~1 ms."
   ]
  },
  {
   "cell_type": "markdown",
   "id": "c9e851a5",
   "metadata": {},
   "source": [
    "<a name=\"day2\"></a>\n",
    "## Day 2: Valid passwords"
   ]
  },
  {
   "cell_type": "markdown",
   "id": "593612e1",
   "metadata": {},
   "source": [
    "Given input lines each containing a password rule (`i-j c`) and a password, count the number of \"valid\" passwords such that:\n",
    "\n",
    "- Part 1: The number of instances of character `c` in the password is in the range `[i, j]`.\n",
    "\n",
    "- Part 2: The password characters at positions `i` and `j` contain exactly one instance of character `c`."
   ]
  },
  {
   "cell_type": "code",
   "execution_count": 19,
   "id": "c5dfc31f",
   "metadata": {
    "execution": {
     "iopub.execute_input": "2022-12-19T00:40:41.760792Z",
     "iopub.status.busy": "2022-12-19T00:40:41.760526Z",
     "iopub.status.idle": "2022-12-19T00:40:41.775614Z",
     "shell.execute_reply": "2022-12-19T00:40:41.775058Z",
     "shell.execute_reply.started": "2022-12-19T00:40:41.760779Z"
    }
   },
   "outputs": [
    {
     "data": {
      "text/markdown": [
       "For [day 2](https://adventofcode.com/2020/day/2), `puzzle.input` has 1_000 lines:"
      ],
      "text/plain": [
       "<IPython.core.display.Markdown object>"
      ]
     },
     "metadata": {},
     "output_type": "display_data"
    },
    {
     "name": "stdout",
     "output_type": "stream",
     "text": [
      "4-7 z: zzzfzlzzz\n",
      "3-4 l: blllk\n",
      "8-11 j: jjjjjjjgjjjj\n",
      "6-7 l: lllhlbl\n",
      "10-13 x: xmhfsbjxptxxv\n",
      "2-3 s: ssvxszrvj\n",
      "4-6 r: rtrrrqv\n",
      "5-6 c: cbccxc\n",
      " ...\n",
      "9-10 w: wwwwwwbwwhww\n",
      "5-6 g: kgggjg\n",
      "4-8 s: ssssssscs\n",
      "12-20 t: ttttttltttvttttttttt\n"
     ]
    },
    {
     "data": {
      "text/markdown": [
       "The stored answers are: `{1: '396', 2: '428'}`"
      ],
      "text/plain": [
       "<IPython.core.display.Markdown object>"
      ]
     },
     "metadata": {},
     "output_type": "display_data"
    }
   ],
   "source": [
    "puzzle = advent.puzzle(day=2)"
   ]
  },
  {
   "cell_type": "code",
   "execution_count": 20,
   "id": "edea671d",
   "metadata": {
    "execution": {
     "iopub.execute_input": "2022-12-19T00:40:41.776264Z",
     "iopub.status.busy": "2022-12-19T00:40:41.776141Z",
     "iopub.status.idle": "2022-12-19T00:40:41.778773Z",
     "shell.execute_reply": "2022-12-19T00:40:41.778284Z",
     "shell.execute_reply.started": "2022-12-19T00:40:41.776253Z"
    }
   },
   "outputs": [],
   "source": [
    "s1 = \"\"\"\\\n",
    "1-3 a: abcde\n",
    "1-3 b: cdefg\n",
    "2-9 c: ccccccccc\n",
    "\"\"\""
   ]
  },
  {
   "cell_type": "code",
   "execution_count": 21,
   "id": "e9be2ecb",
   "metadata": {
    "execution": {
     "iopub.execute_input": "2022-12-19T00:40:41.779758Z",
     "iopub.status.busy": "2022-12-19T00:40:41.779388Z",
     "iopub.status.idle": "2022-12-19T00:40:41.793387Z",
     "shell.execute_reply": "2022-12-19T00:40:41.792780Z",
     "shell.execute_reply.started": "2022-12-19T00:40:41.779745Z"
    }
   },
   "outputs": [
    {
     "name": "stdout",
     "output_type": "stream",
     "text": [
      "(Part 1: 0.002 s)\n",
      "(Part 2: 0.001 s)\n"
     ]
    }
   ],
   "source": [
    "def day2(s, *, part2=False):\n",
    "  lines = s.splitlines()\n",
    "  num_valid = 0\n",
    "  for line in lines:\n",
    "    vmin0, vmax0, ch, password = hh.re_groups(r'^(\\d+)-(\\d+) (\\w): (\\w+)$', line)\n",
    "    vmin, vmax = int(vmin0), int(vmax0)\n",
    "    if part2:\n",
    "      num_valid += (password[vmin - 1] == ch) ^ (password[vmax - 1] == ch)\n",
    "    else:\n",
    "      num_valid += vmin <= sum(c == ch for c in password) <= vmax\n",
    "  return num_valid\n",
    "\n",
    "\n",
    "check_eq(day2(s1), 2)\n",
    "puzzle.verify(1, day2)  # ~3 ms.\n",
    "\n",
    "day2_part2 = functools.partial(day2, part2=True)\n",
    "check_eq(day2_part2(s1), 1)\n",
    "puzzle.verify(2, day2_part2)  # ~1 ms."
   ]
  },
  {
   "cell_type": "markdown",
   "id": "1569a2cd",
   "metadata": {},
   "source": [
    "<a name=\"day3\"></a>\n",
    "## Day 3: Count intersections in grid"
   ]
  },
  {
   "cell_type": "markdown",
   "id": "9c4b3efb",
   "metadata": {},
   "source": [
    "Given a 2D grid containing sparse \"trees\", determine the number of trees encountered when moving from the top-left to the bottom row with a slope `(dy, dx)` and using wraparound addressing on the horizontal axis.\n",
    "\n",
    "- Part 1: Count the trees for the slope `(dy, dx) = (1, 3)`\n",
    "\n",
    "- Part 2: Compute the product of the tree counts for slopes `(1, 1)`, `(1, 3)`, `(1, 5)`, `(1, 7)`, and `(2, 1)`."
   ]
  },
  {
   "cell_type": "code",
   "execution_count": 22,
   "id": "366ce2e8",
   "metadata": {
    "execution": {
     "iopub.execute_input": "2022-12-19T00:40:41.796515Z",
     "iopub.status.busy": "2022-12-19T00:40:41.796228Z",
     "iopub.status.idle": "2022-12-19T00:40:41.811627Z",
     "shell.execute_reply": "2022-12-19T00:40:41.811014Z",
     "shell.execute_reply.started": "2022-12-19T00:40:41.796503Z"
    }
   },
   "outputs": [
    {
     "data": {
      "text/markdown": [
       "For [day 3](https://adventofcode.com/2020/day/3), `puzzle.input` has 323 lines:"
      ],
      "text/plain": [
       "<IPython.core.display.Markdown object>"
      ]
     },
     "metadata": {},
     "output_type": "display_data"
    },
    {
     "name": "stdout",
     "output_type": "stream",
     "text": [
      "........#.............#........\n",
      "...#....#...#....#.............\n",
      ".#..#...#............#.....#..#\n",
      "..#......#..##............###..\n",
      "..........#......#..#..#.......\n",
      ".#..#.......#.........#.#......\n",
      ".........#..#....##..#.##....#.\n",
      "..#....##...#..................\n",
      " ...\n",
      "..................#...#....#.##\n",
      "......#.#....#.................\n",
      "......#.#.....#.....#..##......\n",
      "#..##...........#..#.....#.##..\n"
     ]
    },
    {
     "data": {
      "text/markdown": [
       "The stored answers are: `{1: '148', 2: '727923200'}`"
      ],
      "text/plain": [
       "<IPython.core.display.Markdown object>"
      ]
     },
     "metadata": {},
     "output_type": "display_data"
    }
   ],
   "source": [
    "puzzle = advent.puzzle(day=3)"
   ]
  },
  {
   "cell_type": "code",
   "execution_count": 23,
   "id": "0fcf0bd1",
   "metadata": {
    "execution": {
     "iopub.execute_input": "2022-12-19T00:40:41.812353Z",
     "iopub.status.busy": "2022-12-19T00:40:41.812220Z",
     "iopub.status.idle": "2022-12-19T00:40:41.814935Z",
     "shell.execute_reply": "2022-12-19T00:40:41.814444Z",
     "shell.execute_reply.started": "2022-12-19T00:40:41.812342Z"
    }
   },
   "outputs": [],
   "source": [
    "s1 = \"\"\"\\\n",
    "..##.......\n",
    "#...#...#..\n",
    ".#....#..#.\n",
    "..#.#...#.#\n",
    ".#...##..#.\n",
    "..#.##.....\n",
    ".#.#.#....#\n",
    ".#........#\n",
    "#.##...#...\n",
    "#...##....#\n",
    ".#..#...#.#\n",
    "\"\"\""
   ]
  },
  {
   "cell_type": "code",
   "execution_count": 24,
   "id": "ad64a069",
   "metadata": {
    "execution": {
     "iopub.execute_input": "2022-12-19T00:40:41.815913Z",
     "iopub.status.busy": "2022-12-19T00:40:41.815625Z",
     "iopub.status.idle": "2022-12-19T00:40:41.828557Z",
     "shell.execute_reply": "2022-12-19T00:40:41.828015Z",
     "shell.execute_reply.started": "2022-12-19T00:40:41.815898Z"
    }
   },
   "outputs": [
    {
     "name": "stdout",
     "output_type": "stream",
     "text": [
      "(Part 1: 0.001 s)\n",
      "(Part 2: 0.001 s)\n"
     ]
    }
   ],
   "source": [
    "def day3a(s, *, part2=False):  # Slower.\n",
    "  dyxs = ((1, 1), (1, 3), (1, 5), (1, 7), (2, 1)) if part2 else ((1, 3),)\n",
    "  grid = np.array(list(map(list, s.splitlines())))\n",
    "\n",
    "  def get_count(dy, dx):\n",
    "    y, x = 0, 0\n",
    "    count = 0\n",
    "    while y < grid.shape[0]:\n",
    "      count += grid[y, x] == '#'\n",
    "      y, x = y + dy, (x + dx) % grid.shape[1]\n",
    "    return count\n",
    "\n",
    "  return math.prod(get_count(dy, dx) for dy, dx in dyxs)\n",
    "\n",
    "\n",
    "check_eq(day3a(s1), 7)\n",
    "puzzle.verify(1, day3a)  # ~1 ms.\n",
    "\n",
    "day3a_part2 = functools.partial(day3a, part2=True)\n",
    "check_eq(day3a_part2(s1), 336)\n",
    "puzzle.verify(2, day3a_part2)  # ~3 ms."
   ]
  },
  {
   "cell_type": "code",
   "execution_count": 25,
   "id": "d2ad3de1",
   "metadata": {
    "execution": {
     "iopub.execute_input": "2022-12-19T00:40:41.829522Z",
     "iopub.status.busy": "2022-12-19T00:40:41.829338Z",
     "iopub.status.idle": "2022-12-19T00:40:41.841206Z",
     "shell.execute_reply": "2022-12-19T00:40:41.840672Z",
     "shell.execute_reply.started": "2022-12-19T00:40:41.829510Z"
    }
   },
   "outputs": [
    {
     "name": "stdout",
     "output_type": "stream",
     "text": [
      "(Part 1: 0.001 s)\n",
      "(Part 2: 0.001 s)\n"
     ]
    }
   ],
   "source": [
    "def day3(s, *, part2=False):  # Faster.\n",
    "  dyxs = ((1, 1), (1, 3), (1, 5), (1, 7), (2, 1)) if part2 else ((1, 3),)\n",
    "  grid = hh.grid_from_string(s)\n",
    "\n",
    "  def get_count(dy, dx):\n",
    "    y = np.arange(0, grid.shape[0], dy)\n",
    "    x = (np.arange(len(y)) * dx) % grid.shape[1]\n",
    "    return np.count_nonzero(grid[y, x] == '#')\n",
    "\n",
    "  return math.prod(get_count(dy, dx) for dy, dx in dyxs)\n",
    "\n",
    "\n",
    "check_eq(day3(s1), 7)\n",
    "puzzle.verify(1, day3)  # ~1 ms.\n",
    "\n",
    "day3_part2 = functools.partial(day3, part2=True)\n",
    "check_eq(day3_part2(s1), 336)\n",
    "puzzle.verify(2, day3_part2)  # ~2 ms."
   ]
  },
  {
   "cell_type": "markdown",
   "id": "4ff160c9",
   "metadata": {},
   "source": [
    "<a name=\"day4\"></a>\n",
    "## Day 4: Valid text fields"
   ]
  },
  {
   "cell_type": "markdown",
   "id": "945b32a0",
   "metadata": {},
   "source": [
    "Given records containing various fields, count the number of valid records.\n",
    "\n",
    "- Part 1: Each record is valid if it contains at least some required fields.\n",
    "\n",
    "- Part 2: The fields also satisfy a set of requirements."
   ]
  },
  {
   "cell_type": "code",
   "execution_count": 26,
   "id": "9373bf3b",
   "metadata": {
    "execution": {
     "iopub.execute_input": "2022-12-19T00:40:41.842191Z",
     "iopub.status.busy": "2022-12-19T00:40:41.841893Z",
     "iopub.status.idle": "2022-12-19T00:40:41.855383Z",
     "shell.execute_reply": "2022-12-19T00:40:41.854847Z",
     "shell.execute_reply.started": "2022-12-19T00:40:41.842159Z"
    }
   },
   "outputs": [
    {
     "data": {
      "text/markdown": [
       "For [day 4](https://adventofcode.com/2020/day/4), `puzzle.input` has 1_102 lines:"
      ],
      "text/plain": [
       "<IPython.core.display.Markdown object>"
      ]
     },
     "metadata": {},
     "output_type": "display_data"
    },
    {
     "name": "stdout",
     "output_type": "stream",
     "text": [
      "hcl:5d90f0 cid:270 ecl:#66dc9c hgt:62cm byr:1945 pid:63201172 eyr:2026\n",
      "\n",
      "ecl:amb byr:1943 iyr:2014 eyr:2028\n",
      "pid:333051831\n",
      "\n",
      "byr:1971\n",
      "eyr:2021 iyr:2015 pid:158388040 hcl:#18171d ecl:brn hgt:179cm\n",
      "\n",
      " ...\n",
      "hcl:#7d3b0c pid:431742871\n",
      "ecl:hzl hgt:169cm cid:340\n",
      "eyr:2023\n",
      "iyr:2017 byr:1994\n"
     ]
    },
    {
     "data": {
      "text/markdown": [
       "The stored answers are: `{1: '216', 2: '150'}`"
      ],
      "text/plain": [
       "<IPython.core.display.Markdown object>"
      ]
     },
     "metadata": {},
     "output_type": "display_data"
    }
   ],
   "source": [
    "puzzle = advent.puzzle(day=4)"
   ]
  },
  {
   "cell_type": "code",
   "execution_count": 27,
   "id": "f587dbfb",
   "metadata": {
    "execution": {
     "iopub.execute_input": "2022-12-19T00:40:41.856283Z",
     "iopub.status.busy": "2022-12-19T00:40:41.856021Z",
     "iopub.status.idle": "2022-12-19T00:40:41.859016Z",
     "shell.execute_reply": "2022-12-19T00:40:41.858491Z",
     "shell.execute_reply.started": "2022-12-19T00:40:41.856269Z"
    },
    "lines_to_next_cell": 2
   },
   "outputs": [],
   "source": [
    "# spellcheck=off\n",
    "s1 = \"\"\"\\\n",
    "ecl:gry pid:860033327 eyr:2020 hcl:#fffffd\n",
    "byr:1937 iyr:2017 cid:147 hgt:183cm\n",
    "\n",
    "iyr:2013 ecl:amb cid:350 eyr:2023 pid:028048884\n",
    "hcl:#cfa07d byr:1929\n",
    "\n",
    "hcl:#ae17e1 iyr:2013\n",
    "eyr:2024\n",
    "ecl:brn pid:760753108 byr:1931\n",
    "hgt:179cm\n",
    "\n",
    "hcl:#cfa07d eyr:2025 pid:166559648\n",
    "iyr:2011 ecl:brn hgt:59in\n",
    "\"\"\"\n",
    "\n",
    "# all invalid\n",
    "s2 = \"\"\"\\\n",
    "eyr:1972 cid:100\n",
    "hcl:#18171d ecl:amb hgt:170 pid:186cm iyr:2018 byr:1926\n",
    "\n",
    "iyr:2019\n",
    "hcl:#602927 eyr:1967 hgt:170cm\n",
    "ecl:grn pid:012533040 byr:1946\n",
    "\n",
    "hcl:dab227 iyr:2012\n",
    "ecl:brn hgt:182cm pid:021572410 eyr:2020 byr:1992 cid:277\n",
    "\n",
    "hgt:59cm ecl:zzz\n",
    "eyr:2038 hcl:74454a iyr:2023\n",
    "pid:3556412378 byr:2007\n",
    "\"\"\"\n",
    "\n",
    "# all valid\n",
    "s3 = \"\"\"\\\n",
    "pid:087499704 hgt:74in ecl:grn iyr:2012 eyr:2030 byr:1980\n",
    "hcl:#623a2f\n",
    "\n",
    "eyr:2029 ecl:blu cid:129 byr:1989\n",
    "iyr:2014 pid:896056539 hcl:#a97842 hgt:165cm\n",
    "\n",
    "hcl:#888785\n",
    "hgt:164cm byr:2001 iyr:2015 cid:88\n",
    "pid:545766238 ecl:hzl\n",
    "eyr:2022\n",
    "\n",
    "iyr:2010 hgt:158cm hcl:#b6652a ecl:blu byr:1944 eyr:2021 pid:093154719\n",
    "\"\"\"\n",
    "# spellcheck=on"
   ]
  },
  {
   "cell_type": "code",
   "execution_count": 28,
   "id": "a17e9120",
   "metadata": {
    "execution": {
     "iopub.execute_input": "2022-12-19T00:40:41.859851Z",
     "iopub.status.busy": "2022-12-19T00:40:41.859597Z",
     "iopub.status.idle": "2022-12-19T00:40:41.872834Z",
     "shell.execute_reply": "2022-12-19T00:40:41.872192Z",
     "shell.execute_reply.started": "2022-12-19T00:40:41.859837Z"
    }
   },
   "outputs": [],
   "source": [
    "# Field requirements:\n",
    "# byr (Birth Year) - four digits; at least 1920 and at most 2002.\n",
    "# iyr (Issue Year) - four digits; at least 2010 and at most 2020.\n",
    "# eyr (Expiration Year) - four digits; at least 2020 and at most 2030.\n",
    "# hgt (Height) - a number followed by either cm or in:\n",
    "# If cm, the number must be at least 150 and at most 193.\n",
    "# If in, the number must be at least 59 and at most 76.\n",
    "# hcl (Hair Color) - a # followed by exactly six characters 0-9 or a-f.\n",
    "# ecl (Eye Color) - exactly one of: amb blu brn gry grn hzl oth.\n",
    "# pid (Passport ID) - a nine-digit number, including leading zeroes.\n",
    "# cid (Country ID) - ignored, missing or not."
   ]
  },
  {
   "cell_type": "code",
   "execution_count": 29,
   "id": "c226bd9f",
   "metadata": {
    "execution": {
     "iopub.execute_input": "2022-12-19T00:40:41.874191Z",
     "iopub.status.busy": "2022-12-19T00:40:41.873787Z",
     "iopub.status.idle": "2022-12-19T00:40:41.889289Z",
     "shell.execute_reply": "2022-12-19T00:40:41.888769Z",
     "shell.execute_reply.started": "2022-12-19T00:40:41.874171Z"
    }
   },
   "outputs": [
    {
     "name": "stdout",
     "output_type": "stream",
     "text": [
      "(Part 1: 0.002 s)\n",
      "(Part 2: 0.002 s)\n"
     ]
    }
   ],
   "source": [
    "def day4(s, *, part2=False):\n",
    "  passports = s.split('\\n\\n')\n",
    "\n",
    "  def part1_valid(fields):\n",
    "    required_fields = set('byr iyr eyr hgt hcl ecl pid'.split())\n",
    "    return all(field in fields for field in required_fields)\n",
    "\n",
    "  def year(field):\n",
    "    return int(hh.re_groups(r'^(\\d{4})$', fields[field])[0])\n",
    "\n",
    "  def part2_valid(fields):\n",
    "    try:\n",
    "      value, unit = hh.re_groups(r'^(\\d+)(cm|in)$', fields['hgt'])\n",
    "      return bool(\n",
    "          1920 <= year('byr') <= 2002  # pylint: disable=chained-comparison\n",
    "          and 2010 <= year('iyr') <= 2020\n",
    "          and 2020 <= year('eyr') <= 2030\n",
    "          and (unit != 'cm' or 150 <= int(value) <= 193)\n",
    "          and (unit != 'in' or 59 <= int(value) <= 76)\n",
    "          and re.fullmatch(r'#[0-9a-f]{6}', fields['hcl'])\n",
    "          and fields['ecl'] in 'amb blu brn gry grn hzl oth'.split()\n",
    "          and re.fullmatch(r'[0-9]{9}', fields['pid'])\n",
    "      )\n",
    "    except (KeyError, ValueError):\n",
    "      return False\n",
    "\n",
    "  num_valid = 0\n",
    "  for passport in passports:\n",
    "    fields: dict[str, str] = dict(\n",
    "        hh.re_groups(r'^(\\w\\w\\w):(\\S+)$', s_field)  # type: ignore[misc]\n",
    "        for s_field in passport.split()\n",
    "    )\n",
    "    num_valid += part2_valid(fields) if part2 else part1_valid(fields)\n",
    "\n",
    "  return num_valid\n",
    "\n",
    "\n",
    "check_eq(day4(s1), 2)\n",
    "puzzle.verify(1, day4)  # ~3 ms.\n",
    "\n",
    "day4_part2 = functools.partial(day4, part2=True)\n",
    "check_eq(day4_part2(s2), 0)  # all records are invalid\n",
    "check_eq(day4_part2(s3), 4)  # all records are valid\n",
    "puzzle.verify(2, day4_part2)  # ~6 ms."
   ]
  },
  {
   "cell_type": "markdown",
   "id": "8f9a1524",
   "metadata": {},
   "source": [
    "<a name=\"day5\"></a>\n",
    "## Day 5: Free seat in grid"
   ]
  },
  {
   "cell_type": "markdown",
   "id": "905d5b4d",
   "metadata": {},
   "source": [
    "Given input lines, each specifying a seat identified using a binary encoding with symbols **B**ack, **F**ront, **L**eft, **R**ight.\n",
    "\n",
    "- Part 1: Determine the maximum seat id.\n",
    "\n",
    "- Part 2: Determine the missing seat id in the middle of the bunch."
   ]
  },
  {
   "cell_type": "code",
   "execution_count": 30,
   "id": "c06a8364",
   "metadata": {
    "execution": {
     "iopub.execute_input": "2022-12-19T00:40:41.890338Z",
     "iopub.status.busy": "2022-12-19T00:40:41.890014Z",
     "iopub.status.idle": "2022-12-19T00:40:41.907632Z",
     "shell.execute_reply": "2022-12-19T00:40:41.907068Z",
     "shell.execute_reply.started": "2022-12-19T00:40:41.890321Z"
    }
   },
   "outputs": [
    {
     "data": {
      "text/markdown": [
       "For [day 5](https://adventofcode.com/2020/day/5), `puzzle.input` has 897 lines:"
      ],
      "text/plain": [
       "<IPython.core.display.Markdown object>"
      ]
     },
     "metadata": {},
     "output_type": "display_data"
    },
    {
     "name": "stdout",
     "output_type": "stream",
     "text": [
      "BFBBFFBRRL\n",
      "BFBFFFFRLL\n",
      "FBFBFFBRRR\n",
      "FFBBBFBRLL\n",
      "BBBFBFBRLR\n",
      "BFBBFBFLRR\n",
      "FBBBFFFRRL\n",
      "BBFFBFFLLL\n",
      " ...\n",
      "BBFBFBFRRL\n",
      "BFFBBBBLLL\n",
      "FBFFBFBRRR\n",
      "FBFFFFBRLR\n"
     ]
    },
    {
     "data": {
      "text/markdown": [
       "The stored answers are: `{1: '965', 2: '524'}`"
      ],
      "text/plain": [
       "<IPython.core.display.Markdown object>"
      ]
     },
     "metadata": {},
     "output_type": "display_data"
    }
   ],
   "source": [
    "puzzle = advent.puzzle(day=5)"
   ]
  },
  {
   "cell_type": "code",
   "execution_count": 31,
   "id": "a1195a60",
   "metadata": {
    "execution": {
     "iopub.execute_input": "2022-12-19T00:40:41.908699Z",
     "iopub.status.busy": "2022-12-19T00:40:41.908354Z",
     "iopub.status.idle": "2022-12-19T00:40:41.912919Z",
     "shell.execute_reply": "2022-12-19T00:40:41.912421Z",
     "shell.execute_reply.started": "2022-12-19T00:40:41.908683Z"
    }
   },
   "outputs": [
    {
     "name": "stdout",
     "output_type": "stream",
     "text": [
      "(Part 1: 0.000 s)\n"
     ]
    }
   ],
   "source": [
    "# spellcheck=off\n",
    "def day5_seat_id(line):\n",
    "  return int(line.translate(str.maketrans('FBLR', '0101')), base=2)\n",
    "\n",
    "\n",
    "check_eq(day5_seat_id('FBFBBFFRLR'), 357)\n",
    "check_eq(day5_seat_id('BFFFBBFRRR'), 567)\n",
    "check_eq(day5_seat_id('FFFBBBFRRR'), 119)\n",
    "check_eq(day5_seat_id('BBFFBBFRLL'), 820)\n",
    "# spellcheck=on\n",
    "\n",
    "\n",
    "def day5(s):\n",
    "  return max(day5_seat_id(line) for line in s.split())\n",
    "\n",
    "\n",
    "puzzle.verify(1, day5)  # ~1 ms."
   ]
  },
  {
   "cell_type": "markdown",
   "id": "543f062f",
   "metadata": {},
   "source": [
    "Part 2"
   ]
  },
  {
   "cell_type": "code",
   "execution_count": 32,
   "id": "2c44f72d",
   "metadata": {
    "execution": {
     "iopub.execute_input": "2022-12-19T00:40:41.913538Z",
     "iopub.status.busy": "2022-12-19T00:40:41.913374Z",
     "iopub.status.idle": "2022-12-19T00:40:41.927393Z",
     "shell.execute_reply": "2022-12-19T00:40:41.926896Z",
     "shell.execute_reply.started": "2022-12-19T00:40:41.913484Z"
    }
   },
   "outputs": [
    {
     "data": {
      "text/html": [
       "<table class=\"show_images\" style=\"border-spacing:0px;\"><tr><td style=\"padding:1px;\"><img width=\"600\" height=\"38\" style=\"border:1px solid black; image-rendering:pixelated; object-fit:cover;\" src=\"data:image/png;base64,iVBORw0KGgoAAAANSUhEUgAAAIAAAAAICAIAAAC+v2ApAAAASUlEQVR4nO3VMQoAIAxDUeP97xxXoVZwsaTkjboI3ypGjuRl114BiIvz/zls5wDFHKBYGkDoAzi+rSo6TIDQXYk6BJCQjakDFFsctAkQyvXN5QAAAABJRU5ErkJggg==\"/></td></tr></table>"
      ],
      "text/plain": [
       "<IPython.core.display.HTML object>"
      ]
     },
     "metadata": {},
     "output_type": "display_data"
    }
   ],
   "source": [
    "def day5_visualize_transposed_seat_grid(s):\n",
    "  grid = np.full((128, 8), 0)\n",
    "  yx = np.array([divmod(day5_seat_id(line), 8) for line in s.split()])\n",
    "  grid[tuple(yx.T)] = 1\n",
    "  if 0:\n",
    "    print('\\n'.join(''.join('.#'[e] for e in row) for row in grid.T))\n",
    "  media.show_image(grid.T == 1, border=True, width=600)\n",
    "\n",
    "\n",
    "day5_visualize_transposed_seat_grid(puzzle.input)"
   ]
  },
  {
   "cell_type": "code",
   "execution_count": 33,
   "id": "193193d0",
   "metadata": {
    "execution": {
     "iopub.execute_input": "2022-12-19T00:40:41.928248Z",
     "iopub.status.busy": "2022-12-19T00:40:41.927998Z",
     "iopub.status.idle": "2022-12-19T00:40:41.938091Z",
     "shell.execute_reply": "2022-12-19T00:40:41.937536Z",
     "shell.execute_reply.started": "2022-12-19T00:40:41.928234Z"
    }
   },
   "outputs": [
    {
     "name": "stdout",
     "output_type": "stream",
     "text": [
      "(Part 2: 0.002 s)\n"
     ]
    }
   ],
   "source": [
    "def day5a_part2(s):  # Using regular expression search.\n",
    "  seat_ids = [day5_seat_id(line) for line in s.split()]\n",
    "  occupied = ''.join('01'[seat_id in seat_ids] for seat_id in range(128 * 8))\n",
    "  (seat_id,) = [match.start() for match in re.finditer('(?<=1)0(?=1)', occupied)]\n",
    "  return seat_id\n",
    "\n",
    "\n",
    "puzzle.verify(2, day5a_part2)  # ~11 ms."
   ]
  },
  {
   "cell_type": "code",
   "execution_count": 34,
   "id": "e7b811cf",
   "metadata": {
    "execution": {
     "iopub.execute_input": "2022-12-19T00:40:41.939177Z",
     "iopub.status.busy": "2022-12-19T00:40:41.938782Z",
     "iopub.status.idle": "2022-12-19T00:40:41.950547Z",
     "shell.execute_reply": "2022-12-19T00:40:41.950008Z",
     "shell.execute_reply.started": "2022-12-19T00:40:41.939161Z"
    }
   },
   "outputs": [
    {
     "name": "stdout",
     "output_type": "stream",
     "text": [
      "(Part 2: 0.002 s)\n"
     ]
    }
   ],
   "source": [
    "def day5b_part2(s):  # Using string indexing.\n",
    "  def find_all(string, substring, overlapping=False):\n",
    "    i = string.find(substring)\n",
    "    while i != -1:\n",
    "      yield i\n",
    "      i = string.find(substring, i + (1 if overlapping else len(substring)))\n",
    "\n",
    "  seat_ids = [day5_seat_id(line) for line in s.split()]\n",
    "  occupied = ''.join('01'[seat_id in seat_ids] for seat_id in range(128 * 8))\n",
    "  (i,) = list(find_all(occupied, '101'))\n",
    "  seat_id = i + 1\n",
    "  return seat_id\n",
    "\n",
    "\n",
    "puzzle.verify(2, day5b_part2)  # ~9 ms."
   ]
  },
  {
   "cell_type": "code",
   "execution_count": 35,
   "id": "b3fd88a0",
   "metadata": {
    "execution": {
     "iopub.execute_input": "2022-12-19T00:40:41.951487Z",
     "iopub.status.busy": "2022-12-19T00:40:41.951209Z",
     "iopub.status.idle": "2022-12-19T00:40:41.961454Z",
     "shell.execute_reply": "2022-12-19T00:40:41.960725Z",
     "shell.execute_reply.started": "2022-12-19T00:40:41.951474Z"
    }
   },
   "outputs": [
    {
     "name": "stdout",
     "output_type": "stream",
     "text": [
      "(Part 2: 0.001 s)\n"
     ]
    }
   ],
   "source": [
    "def day5c_part2(s):  # Fast, using numpy successive differences of sorted indices.\n",
    "  seat_ids = np.sort([day5_seat_id(line) for line in s.split()])\n",
    "  diff = np.diff(seat_ids)\n",
    "  ((i,),) = np.nonzero(diff == 2)\n",
    "  seat_id = seat_ids[i] + 1\n",
    "  return seat_id\n",
    "\n",
    "\n",
    "puzzle.verify(2, day5c_part2)  # ~2 ms."
   ]
  },
  {
   "cell_type": "code",
   "execution_count": 36,
   "id": "ecba4209",
   "metadata": {
    "execution": {
     "iopub.execute_input": "2022-12-19T00:40:41.962415Z",
     "iopub.status.busy": "2022-12-19T00:40:41.962241Z",
     "iopub.status.idle": "2022-12-19T00:40:41.971928Z",
     "shell.execute_reply": "2022-12-19T00:40:41.971339Z",
     "shell.execute_reply.started": "2022-12-19T00:40:41.962403Z"
    }
   },
   "outputs": [
    {
     "name": "stdout",
     "output_type": "stream",
     "text": [
      "(Part 2: 0.001 s)\n"
     ]
    }
   ],
   "source": [
    "def day5_part2(s):  # Also fast, using numpy subsequence search.\n",
    "  def matching_subsequences(array, sequence):\n",
    "    array, sequence = np.asarray(array), np.asarray(sequence)\n",
    "    return (\n",
    "        array[np.arange(len(array) - len(sequence) + 1)[:, None] + np.arange(len(sequence))]\n",
    "        == sequence\n",
    "    ).all(axis=1)\n",
    "\n",
    "  seat_ids = [day5_seat_id(line) for line in s.split()]\n",
    "  occupied = np.full(128 * 8, False)\n",
    "  occupied[seat_ids] = True\n",
    "  ((i,),) = matching_subsequences(occupied, (1, 0, 1)).nonzero()\n",
    "  seat_id = i + 1\n",
    "  return seat_id\n",
    "\n",
    "\n",
    "puzzle.verify(2, day5_part2)  # ~2 ms."
   ]
  },
  {
   "cell_type": "markdown",
   "id": "fc0d6aa2",
   "metadata": {},
   "source": [
    "<a name=\"day6\"></a>\n",
    "## Day 6: Counts across groups"
   ]
  },
  {
   "cell_type": "markdown",
   "id": "75fd09e1",
   "metadata": {},
   "source": [
    "Given a set of records of words:\n",
    "\n",
    "- Part 1: Compute the number of unique letters in each record, and sum these.\n",
    "\n",
    "- Part 2: Compute the number of letters appearing in all words of each record, and sum these."
   ]
  },
  {
   "cell_type": "code",
   "execution_count": 37,
   "id": "e7ed6755",
   "metadata": {
    "execution": {
     "iopub.execute_input": "2022-12-19T00:40:41.972835Z",
     "iopub.status.busy": "2022-12-19T00:40:41.972676Z",
     "iopub.status.idle": "2022-12-19T00:40:41.991066Z",
     "shell.execute_reply": "2022-12-19T00:40:41.990394Z",
     "shell.execute_reply.started": "2022-12-19T00:40:41.972821Z"
    }
   },
   "outputs": [
    {
     "data": {
      "text/markdown": [
       "For [day 6](https://adventofcode.com/2020/day/6), `puzzle.input` has 2_172 lines:"
      ],
      "text/plain": [
       "<IPython.core.display.Markdown object>"
      ]
     },
     "metadata": {},
     "output_type": "display_data"
    },
    {
     "name": "stdout",
     "output_type": "stream",
     "text": [
      "su\n",
      "egu\n",
      "\n",
      "h\n",
      "h\n",
      "h\n",
      "h\n",
      "\n",
      " ...\n",
      "\n",
      "lfhtzrxcj\n",
      "fbtzlhrcj\n",
      "lzdaftrjphco\n"
     ]
    },
    {
     "data": {
      "text/markdown": [
       "The stored answers are: `{1: '6590', 2: '3288'}`"
      ],
      "text/plain": [
       "<IPython.core.display.Markdown object>"
      ]
     },
     "metadata": {},
     "output_type": "display_data"
    }
   ],
   "source": [
    "puzzle = advent.puzzle(day=6)"
   ]
  },
  {
   "cell_type": "code",
   "execution_count": 38,
   "id": "db6c300e",
   "metadata": {
    "execution": {
     "iopub.execute_input": "2022-12-19T00:40:41.992221Z",
     "iopub.status.busy": "2022-12-19T00:40:41.991892Z",
     "iopub.status.idle": "2022-12-19T00:40:41.994569Z",
     "shell.execute_reply": "2022-12-19T00:40:41.994085Z",
     "shell.execute_reply.started": "2022-12-19T00:40:41.992209Z"
    }
   },
   "outputs": [],
   "source": [
    "s1 = \"\"\"\\\n",
    "abc\n",
    "\n",
    "a\n",
    "b\n",
    "c\n",
    "\n",
    "ab\n",
    "ac\n",
    "\n",
    "a\n",
    "a\n",
    "a\n",
    "a\n",
    "\n",
    "b\n",
    "\"\"\""
   ]
  },
  {
   "cell_type": "markdown",
   "id": "6b1234f7",
   "metadata": {},
   "source": [
    "Part 1"
   ]
  },
  {
   "cell_type": "code",
   "execution_count": 39,
   "id": "31e2701e",
   "metadata": {
    "execution": {
     "iopub.execute_input": "2022-12-19T00:40:41.995378Z",
     "iopub.status.busy": "2022-12-19T00:40:41.995165Z",
     "iopub.status.idle": "2022-12-19T00:40:42.005255Z",
     "shell.execute_reply": "2022-12-19T00:40:42.004751Z",
     "shell.execute_reply.started": "2022-12-19T00:40:41.995363Z"
    }
   },
   "outputs": [
    {
     "name": "stdout",
     "output_type": "stream",
     "text": [
      "(Part 1: 0.001 s)\n"
     ]
    }
   ],
   "source": [
    "def day6a_part1(s):  # Long code.\n",
    "  total = 0\n",
    "  for group in s.split('\\n\\n'):\n",
    "    union = set()\n",
    "    for line in group.splitlines():\n",
    "      union |= set(line)\n",
    "    total += len(union)\n",
    "  return total\n",
    "\n",
    "\n",
    "check_eq(day6a_part1(s1), 11)\n",
    "puzzle.verify(1, day6a_part1)  # ~3 ms."
   ]
  },
  {
   "cell_type": "code",
   "execution_count": 40,
   "id": "5f7860e0",
   "metadata": {
    "execution": {
     "iopub.execute_input": "2022-12-19T00:40:42.006082Z",
     "iopub.status.busy": "2022-12-19T00:40:42.005847Z",
     "iopub.status.idle": "2022-12-19T00:40:42.016228Z",
     "shell.execute_reply": "2022-12-19T00:40:42.015754Z",
     "shell.execute_reply.started": "2022-12-19T00:40:42.006070Z"
    }
   },
   "outputs": [
    {
     "name": "stdout",
     "output_type": "stream",
     "text": [
      "(Part 1: 0.001 s)\n"
     ]
    }
   ],
   "source": [
    "def day6b_part1(s):  # Using reduction.\n",
    "  return sum(\n",
    "      len(functools.reduce(operator.or_, map(set, group.splitlines()))) for group in s.split('\\n\\n')\n",
    "  )\n",
    "\n",
    "\n",
    "check_eq(day6b_part1(s1), 11)\n",
    "puzzle.verify(1, day6b_part1)  # ~3 ms."
   ]
  },
  {
   "cell_type": "code",
   "execution_count": 41,
   "id": "04284f36",
   "metadata": {
    "execution": {
     "iopub.execute_input": "2022-12-19T00:40:42.017050Z",
     "iopub.status.busy": "2022-12-19T00:40:42.016808Z",
     "iopub.status.idle": "2022-12-19T00:40:42.026128Z",
     "shell.execute_reply": "2022-12-19T00:40:42.025586Z",
     "shell.execute_reply.started": "2022-12-19T00:40:42.017038Z"
    }
   },
   "outputs": [
    {
     "name": "stdout",
     "output_type": "stream",
     "text": [
      "(Part 1: 0.000 s)\n"
     ]
    }
   ],
   "source": [
    "def day6_part1(s):  # Compact, and also fastest.\n",
    "  return sum(len(set(group.replace('\\n', ''))) for group in s.split('\\n\\n'))\n",
    "\n",
    "\n",
    "check_eq(day6_part1(s1), 11)\n",
    "puzzle.verify(1, day6_part1)  # ~1 ms."
   ]
  },
  {
   "cell_type": "markdown",
   "id": "14e8e7d3",
   "metadata": {},
   "source": [
    "Part 2"
   ]
  },
  {
   "cell_type": "code",
   "execution_count": 42,
   "id": "8f986aaf",
   "metadata": {
    "execution": {
     "iopub.execute_input": "2022-12-19T00:40:42.027283Z",
     "iopub.status.busy": "2022-12-19T00:40:42.026903Z",
     "iopub.status.idle": "2022-12-19T00:40:42.036532Z",
     "shell.execute_reply": "2022-12-19T00:40:42.036068Z",
     "shell.execute_reply.started": "2022-12-19T00:40:42.027267Z"
    }
   },
   "outputs": [
    {
     "name": "stdout",
     "output_type": "stream",
     "text": [
      "(Part 2: 0.001 s)\n"
     ]
    }
   ],
   "source": [
    "def day6a_part2(s):  # Using reduction.\n",
    "  return sum(\n",
    "      len(functools.reduce(operator.and_, map(set, group.splitlines())))\n",
    "      for group in s.split('\\n\\n')\n",
    "  )\n",
    "\n",
    "\n",
    "check_eq(day6a_part2(s1), 6)\n",
    "puzzle.verify(2, day6a_part2)  # ~3 ms."
   ]
  },
  {
   "cell_type": "code",
   "execution_count": 43,
   "id": "3c016a5a",
   "metadata": {
    "execution": {
     "iopub.execute_input": "2022-12-19T00:40:42.037391Z",
     "iopub.status.busy": "2022-12-19T00:40:42.037088Z",
     "iopub.status.idle": "2022-12-19T00:40:42.046955Z",
     "shell.execute_reply": "2022-12-19T00:40:42.046402Z",
     "shell.execute_reply.started": "2022-12-19T00:40:42.037379Z"
    }
   },
   "outputs": [
    {
     "name": "stdout",
     "output_type": "stream",
     "text": [
      "(Part 2: 0.001 s)\n"
     ]
    }
   ],
   "source": [
    "def day6_part2(s):  # Compact and same speed.\n",
    "  return sum(len(set.intersection(*map(set, group.splitlines()))) for group in s.split('\\n\\n'))\n",
    "\n",
    "\n",
    "check_eq(day6_part2(s1), 6)\n",
    "puzzle.verify(2, day6_part2)  # ~3 ms."
   ]
  },
  {
   "cell_type": "markdown",
   "id": "d3d97269",
   "metadata": {},
   "source": [
    "<a name=\"day7\"></a>\n",
    "## Day 7: Nested bags"
   ]
  },
  {
   "cell_type": "markdown",
   "id": "e52eec40",
   "metadata": {},
   "source": [
    "Given a description of bag colors, where each colored bag contains a collection of other colored bags:\n",
    "\n",
    "- Part 1: Determine the number of bag colors that can eventually contain a specified bag color.\n",
    "\n",
    "- Part 2: Determine the total number of bags required inside a specified bag color."
   ]
  },
  {
   "cell_type": "code",
   "execution_count": 44,
   "id": "7447bc2e",
   "metadata": {
    "execution": {
     "iopub.execute_input": "2022-12-19T00:40:42.047805Z",
     "iopub.status.busy": "2022-12-19T00:40:42.047530Z",
     "iopub.status.idle": "2022-12-19T00:40:42.062987Z",
     "shell.execute_reply": "2022-12-19T00:40:42.062473Z",
     "shell.execute_reply.started": "2022-12-19T00:40:42.047791Z"
    }
   },
   "outputs": [
    {
     "data": {
      "text/markdown": [
       "For [day 7](https://adventofcode.com/2020/day/7), `puzzle.input` has 594 lines:"
      ],
      "text/plain": [
       "<IPython.core.display.Markdown object>"
      ]
     },
     "metadata": {},
     "output_type": "display_data"
    },
    {
     "name": "stdout",
     "output_type": "stream",
     "text": [
      "dim red bags contain 2 bright gold bags, 5 striped fuchsia bags.\n",
      "dotted purple bags contain 5 bright olive bags, 3 faded maroon bags.\n",
      "plaid chartreuse bags contain 1 vibrant olive bag, 5 bright black bags, 1 clear tomato bag.\n",
      "wavy orange bags contain 4 dark lavender bags, 4 posh white bags.\n",
      "light lavender bags contain 4 drab olive bags, 5 dark magenta bags.\n",
      "pale black bags contain 5 dotted beige bags, 5 clear chartreuse bags, 4 pale lime bags.\n",
      "wavy crimson bags contain 5 dull tomato bags.\n",
      "muted aqua bags contain 1 dotted aqua bag, 5 posh plum bags, 1 bright blue bag.\n",
      " ...\n",
      "vibrant lime bags contain 5 light green bags.\n",
      "dark maroon bags contain 5 drab bronze bags, 4 bright red bags, 1 posh cyan bag.\n",
      "wavy red bags contain 2 mirrored beige bags, 5 muted crimson bags, 5 vibrant orange bags, 3 posh turquoise bags.\n",
      "drab brown bags contain 1 faded tan bag, 3 vibrant maroon bags.\n"
     ]
    },
    {
     "data": {
      "text/markdown": [
       "The stored answers are: `{1: '115', 2: '1250'}`"
      ],
      "text/plain": [
       "<IPython.core.display.Markdown object>"
      ]
     },
     "metadata": {},
     "output_type": "display_data"
    }
   ],
   "source": [
    "puzzle = advent.puzzle(day=7)"
   ]
  },
  {
   "cell_type": "code",
   "execution_count": 45,
   "id": "45acb8d9",
   "metadata": {
    "execution": {
     "iopub.execute_input": "2022-12-19T00:40:42.063913Z",
     "iopub.status.busy": "2022-12-19T00:40:42.063629Z",
     "iopub.status.idle": "2022-12-19T00:40:42.066739Z",
     "shell.execute_reply": "2022-12-19T00:40:42.066234Z",
     "shell.execute_reply.started": "2022-12-19T00:40:42.063899Z"
    }
   },
   "outputs": [],
   "source": [
    "s1 = \"\"\"\\\n",
    "light red bags contain 1 bright white bag, 2 muted yellow bags.\n",
    "dark orange bags contain 3 bright white bags, 4 muted yellow bags.\n",
    "bright white bags contain 1 shiny gold bag.\n",
    "muted yellow bags contain 2 shiny gold bags, 9 faded blue bags.\n",
    "shiny gold bags contain 1 dark olive bag, 2 vibrant plum bags.\n",
    "dark olive bags contain 3 faded blue bags, 4 dotted black bags.\n",
    "vibrant plum bags contain 5 faded blue bags, 6 dotted black bags.\n",
    "faded blue bags contain no other bags.\n",
    "dotted black bags contain no other bags.\n",
    "\"\"\"\n",
    "\n",
    "s2 = \"\"\"\\\n",
    "shiny gold bags contain 2 dark red bags.\n",
    "dark red bags contain 2 dark orange bags.\n",
    "dark orange bags contain 2 dark yellow bags.\n",
    "dark yellow bags contain 2 dark green bags.\n",
    "dark green bags contain 2 dark blue bags.\n",
    "dark blue bags contain 2 dark violet bags.\n",
    "dark violet bags contain no other bags.\n",
    "\"\"\""
   ]
  },
  {
   "cell_type": "code",
   "execution_count": 46,
   "id": "b3e79ad7",
   "metadata": {
    "execution": {
     "iopub.execute_input": "2022-12-19T00:40:42.067509Z",
     "iopub.status.busy": "2022-12-19T00:40:42.067266Z",
     "iopub.status.idle": "2022-12-19T00:40:42.083120Z",
     "shell.execute_reply": "2022-12-19T00:40:42.082418Z",
     "shell.execute_reply.started": "2022-12-19T00:40:42.067497Z"
    }
   },
   "outputs": [],
   "source": [
    "def day7_bag_contents(s):\n",
    "  contents: dict[str, dict[str, int]] = {}\n",
    "  regex = re.compile(r'(\\d+) (.*?) bags?[,.]')\n",
    "  for line in s.splitlines():\n",
    "    outer, inners = line.split(' bags contain ')\n",
    "    contents[outer] = {}\n",
    "    for match in regex.finditer(inners):\n",
    "      n, inner = match.groups()\n",
    "      contents[outer][inner] = int(n)\n",
    "  return contents"
   ]
  },
  {
   "cell_type": "code",
   "execution_count": 47,
   "id": "af139359",
   "metadata": {
    "execution": {
     "iopub.execute_input": "2022-12-19T00:40:42.084140Z",
     "iopub.status.busy": "2022-12-19T00:40:42.083824Z",
     "iopub.status.idle": "2022-12-19T00:40:42.095314Z",
     "shell.execute_reply": "2022-12-19T00:40:42.094706Z",
     "shell.execute_reply.started": "2022-12-19T00:40:42.084124Z"
    }
   },
   "outputs": [
    {
     "name": "stdout",
     "output_type": "stream",
     "text": [
      "(Part 1: 0.002 s)\n"
     ]
    }
   ],
   "source": [
    "def day7a_part1(s, *, query='shiny gold'):  # Compact and fast with caching.\n",
    "  \"\"\"Returns number of bag colors that can eventually contain >=1 query bag.\"\"\"\n",
    "  contents = day7_bag_contents(s)\n",
    "\n",
    "  @functools.lru_cache(maxsize=None)\n",
    "  def valid(bag):\n",
    "    return any(inner == query or valid(inner) for inner in contents[bag])\n",
    "\n",
    "  return sum(valid(bag) for bag in contents)\n",
    "\n",
    "\n",
    "check_eq(day7a_part1(s1), 4)\n",
    "puzzle.verify(1, day7a_part1)  # ~3 ms.  (~240 ms without lru_cache)"
   ]
  },
  {
   "cell_type": "code",
   "execution_count": 48,
   "id": "eb513376",
   "metadata": {
    "execution": {
     "iopub.execute_input": "2022-12-19T00:40:42.096509Z",
     "iopub.status.busy": "2022-12-19T00:40:42.096097Z",
     "iopub.status.idle": "2022-12-19T00:40:42.107643Z",
     "shell.execute_reply": "2022-12-19T00:40:42.107026Z",
     "shell.execute_reply.started": "2022-12-19T00:40:42.096495Z"
    }
   },
   "outputs": [
    {
     "name": "stdout",
     "output_type": "stream",
     "text": [
      "(Part 1: 0.002 s)\n"
     ]
    }
   ],
   "source": [
    "def day7_part1(s, *, query='shiny gold'):  # Fast too.\n",
    "  contents = day7_bag_contents(s)  # computational bottleneck\n",
    "  parents = collections.defaultdict(list)\n",
    "  for bag, children in contents.items():\n",
    "    for child in children:\n",
    "      parents[child].append(bag)\n",
    "\n",
    "  valid = set()\n",
    "  to_visit = collections.deque([query])\n",
    "  while to_visit:\n",
    "    bag = to_visit.popleft()\n",
    "    for parent in parents[bag]:\n",
    "      if parent not in valid:\n",
    "        valid.add(parent)\n",
    "        to_visit.append(parent)\n",
    "\n",
    "  return len(valid)\n",
    "\n",
    "\n",
    "check_eq(day7_part1(s1), 4)\n",
    "puzzle.verify(1, day7_part1)  # ~3 ms."
   ]
  },
  {
   "cell_type": "markdown",
   "id": "e8a01934",
   "metadata": {},
   "source": [
    "Part 2"
   ]
  },
  {
   "cell_type": "code",
   "execution_count": 49,
   "id": "fd4d0367",
   "metadata": {
    "execution": {
     "iopub.execute_input": "2022-12-19T00:40:42.108687Z",
     "iopub.status.busy": "2022-12-19T00:40:42.108384Z",
     "iopub.status.idle": "2022-12-19T00:40:42.122271Z",
     "shell.execute_reply": "2022-12-19T00:40:42.121717Z",
     "shell.execute_reply.started": "2022-12-19T00:40:42.108673Z"
    }
   },
   "outputs": [
    {
     "name": "stdout",
     "output_type": "stream",
     "text": [
      "(Part 2: 0.002 s)\n"
     ]
    }
   ],
   "source": [
    "def day7_part2(s, *, query='shiny gold'):\n",
    "  \"\"\"Returns total number of individual bags required inside a query bag.\"\"\"\n",
    "  contents = day7_bag_contents(s)  # computational bottleneck\n",
    "\n",
    "  # @functools.lru_cache(maxsize=None)  # Unnecessary.\n",
    "  def count_inside(bag):\n",
    "    return sum(n * (count_inside(b) + 1) for b, n in contents[bag].items())\n",
    "\n",
    "  return count_inside(query)\n",
    "\n",
    "\n",
    "check_eq(day7_part2(s1), 32)\n",
    "check_eq(day7_part2(s2), 126)\n",
    "puzzle.verify(2, day7_part2)  # ~3 ms."
   ]
  },
  {
   "cell_type": "markdown",
   "id": "e220a177",
   "metadata": {},
   "source": [
    "<a name=\"day8\"></a>\n",
    "## Day 8: Program with acc, nop, jmp"
   ]
  },
  {
   "cell_type": "markdown",
   "id": "d0adadeb",
   "metadata": {},
   "source": [
    "Given a program with instructions `nop`, `acc`, and `jmp`:\n",
    "\n",
    "- Part 1: Determine the sum of the `acc` operands when running the program until the program counter becomes invalid.\n",
    "\n",
    "- Part 2: Modify the program by swapping one of its opcodes between `nop` and `jmp` such that it terminates (with the program counter at the end), and report the sum of the `acc` operands."
   ]
  },
  {
   "cell_type": "code",
   "execution_count": 50,
   "id": "9a3bf6fa",
   "metadata": {
    "execution": {
     "iopub.execute_input": "2022-12-19T00:40:42.123014Z",
     "iopub.status.busy": "2022-12-19T00:40:42.122870Z",
     "iopub.status.idle": "2022-12-19T00:40:42.139708Z",
     "shell.execute_reply": "2022-12-19T00:40:42.139161Z",
     "shell.execute_reply.started": "2022-12-19T00:40:42.123002Z"
    }
   },
   "outputs": [
    {
     "data": {
      "text/markdown": [
       "For [day 8](https://adventofcode.com/2020/day/8), `puzzle.input` has 638 lines:"
      ],
      "text/plain": [
       "<IPython.core.display.Markdown object>"
      ]
     },
     "metadata": {},
     "output_type": "display_data"
    },
    {
     "name": "stdout",
     "output_type": "stream",
     "text": [
      "acc +8\n",
      "acc +37\n",
      "jmp +328\n",
      "jmp +574\n",
      "nop +321\n",
      "acc +17\n",
      "jmp +450\n",
      "acc +46\n",
      " ...\n",
      "acc +6\n",
      "acc +21\n",
      "acc +16\n",
      "jmp +1\n"
     ]
    },
    {
     "data": {
      "text/markdown": [
       "The stored answers are: `{1: '1521', 2: '1016'}`"
      ],
      "text/plain": [
       "<IPython.core.display.Markdown object>"
      ]
     },
     "metadata": {},
     "output_type": "display_data"
    }
   ],
   "source": [
    "puzzle = advent.puzzle(day=8)"
   ]
  },
  {
   "cell_type": "code",
   "execution_count": 51,
   "id": "c79ff33f",
   "metadata": {
    "execution": {
     "iopub.execute_input": "2022-12-19T00:40:42.140719Z",
     "iopub.status.busy": "2022-12-19T00:40:42.140434Z",
     "iopub.status.idle": "2022-12-19T00:40:42.143273Z",
     "shell.execute_reply": "2022-12-19T00:40:42.142707Z",
     "shell.execute_reply.started": "2022-12-19T00:40:42.140705Z"
    }
   },
   "outputs": [],
   "source": [
    "s1 = \"\"\"\\\n",
    "nop +0\n",
    "acc +1\n",
    "jmp +4\n",
    "acc +3\n",
    "jmp -3\n",
    "acc -99\n",
    "acc +1\n",
    "jmp -4\n",
    "acc +6\n",
    "\"\"\""
   ]
  },
  {
   "cell_type": "code",
   "execution_count": 52,
   "id": "3d7fcedc",
   "metadata": {
    "execution": {
     "iopub.execute_input": "2022-12-19T00:40:42.144233Z",
     "iopub.status.busy": "2022-12-19T00:40:42.143961Z",
     "iopub.status.idle": "2022-12-19T00:40:42.159146Z",
     "shell.execute_reply": "2022-12-19T00:40:42.158551Z",
     "shell.execute_reply.started": "2022-12-19T00:40:42.144220Z"
    }
   },
   "outputs": [
    {
     "name": "stdout",
     "output_type": "stream",
     "text": [
      "(Part 1: 0.000 s)\n",
      "(Part 2: 0.004 s)\n"
     ]
    }
   ],
   "source": [
    "def day8(s, *, part2=False):\n",
    "  def run_program(ops):\n",
    "    pc = 0\n",
    "    acc = 0\n",
    "    visited = set()\n",
    "    while 0 <= pc < len(ops) and pc not in visited:\n",
    "      visited.add(pc)\n",
    "      operation, operand = ops[pc]\n",
    "      if operation == 'nop':\n",
    "        pc += 1\n",
    "      elif operation == 'acc':\n",
    "        acc += operand\n",
    "        pc += 1\n",
    "      elif operation == 'jmp':\n",
    "        pc += operand\n",
    "      else:\n",
    "        raise AssertionError\n",
    "    return pc, acc\n",
    "\n",
    "  ops = [(line[:3], int(line[4:])) for line in s.splitlines()]\n",
    "  if not part2:\n",
    "    pc, acc = run_program(ops)\n",
    "    assert 0 <= pc < len(ops)\n",
    "    return acc\n",
    "\n",
    "  for i, op in enumerate(ops):\n",
    "    if op[0] in ('nop', 'jmp'):\n",
    "      ops[i] = (('jmp' if op[0] == 'nop' else 'nop'), op[1])\n",
    "      pc, acc = run_program(ops)\n",
    "      ops[i] = op\n",
    "      if pc == len(ops):\n",
    "        return acc\n",
    "  return None\n",
    "\n",
    "\n",
    "check_eq(day8(s1), 5)\n",
    "puzzle.verify(1, day8)  # ~0 ms.\n",
    "\n",
    "day8_part2 = functools.partial(day8, part2=True)\n",
    "check_eq(day8_part2(s1), 8)\n",
    "puzzle.verify(2, day8_part2)  # ~14 ms."
   ]
  },
  {
   "cell_type": "markdown",
   "id": "bd2d69e0",
   "metadata": {},
   "source": [
    "<a name=\"day9\"></a>\n",
    "## Day 9: Sums in subsequences"
   ]
  },
  {
   "cell_type": "markdown",
   "id": "12367077",
   "metadata": {},
   "source": [
    "Given a list of numbers:\n",
    "\n",
    "- Part 1: Find the first number that is not a sum of a pair of numbers in the prior `n` numbers.\n",
    "\n",
    "- Part 2: Find a subsequence of at least 2 numbers that sums to the value obtained in part 1, compute the min and max of the subsequence, and report their product."
   ]
  },
  {
   "cell_type": "code",
   "execution_count": 53,
   "id": "80dd943c",
   "metadata": {
    "execution": {
     "iopub.execute_input": "2022-12-19T00:40:42.160072Z",
     "iopub.status.busy": "2022-12-19T00:40:42.159873Z",
     "iopub.status.idle": "2022-12-19T00:40:42.184498Z",
     "shell.execute_reply": "2022-12-19T00:40:42.183784Z",
     "shell.execute_reply.started": "2022-12-19T00:40:42.160061Z"
    }
   },
   "outputs": [
    {
     "data": {
      "text/markdown": [
       "For [day 9](https://adventofcode.com/2020/day/9), `puzzle.input` has 1_000 lines:"
      ],
      "text/plain": [
       "<IPython.core.display.Markdown object>"
      ]
     },
     "metadata": {},
     "output_type": "display_data"
    },
    {
     "name": "stdout",
     "output_type": "stream",
     "text": [
      "19\n",
      "30\n",
      "13\n",
      "31\n",
      "42\n",
      "41\n",
      "44\n",
      "34\n",
      " ...\n",
      "30187342902183\n",
      "39869127705106\n",
      "31005328029673\n",
      "49124948203304\n"
     ]
    },
    {
     "data": {
      "text/markdown": [
       "The stored answers are: `{1: '393911906', 2: '59341885'}`"
      ],
      "text/plain": [
       "<IPython.core.display.Markdown object>"
      ]
     },
     "metadata": {},
     "output_type": "display_data"
    }
   ],
   "source": [
    "puzzle = advent.puzzle(day=9)"
   ]
  },
  {
   "cell_type": "code",
   "execution_count": 54,
   "id": "7348bd54",
   "metadata": {
    "execution": {
     "iopub.execute_input": "2022-12-19T00:40:42.185440Z",
     "iopub.status.busy": "2022-12-19T00:40:42.185265Z",
     "iopub.status.idle": "2022-12-19T00:40:42.188339Z",
     "shell.execute_reply": "2022-12-19T00:40:42.187784Z",
     "shell.execute_reply.started": "2022-12-19T00:40:42.185427Z"
    }
   },
   "outputs": [],
   "source": [
    "s1 = \"\"\"\\\n",
    "35\n",
    "20\n",
    "15\n",
    "25\n",
    "47\n",
    "40\n",
    "62\n",
    "55\n",
    "65\n",
    "95\n",
    "102\n",
    "117\n",
    "150\n",
    "182\n",
    "127\n",
    "219\n",
    "299\n",
    "277\n",
    "309\n",
    "576\n",
    "\"\"\""
   ]
  },
  {
   "cell_type": "code",
   "execution_count": 55,
   "id": "5b14c2e5",
   "metadata": {
    "execution": {
     "iopub.execute_input": "2022-12-19T00:40:42.189188Z",
     "iopub.status.busy": "2022-12-19T00:40:42.189036Z",
     "iopub.status.idle": "2022-12-19T00:40:42.201205Z",
     "shell.execute_reply": "2022-12-19T00:40:42.200678Z",
     "shell.execute_reply.started": "2022-12-19T00:40:42.189176Z"
    }
   },
   "outputs": [
    {
     "name": "stdout",
     "output_type": "stream",
     "text": [
      "(Part 1: 0.001 s)\n",
      "(Part 2: 0.001 s)\n"
     ]
    }
   ],
   "source": [
    "def day9(s, *, last_n=25, part2=False):\n",
    "  l = list(map(int, s.split()))\n",
    "\n",
    "  def has_pair(l, total):\n",
    "    # return any(a + b == total for a, b in itertools.combinations(l, 2))\n",
    "    return any(total - l[i] in l[i + 1 :] for i in range(len(l)))\n",
    "\n",
    "  def first_number_not_sum_of_pair_in_last_n(n):\n",
    "    return next(l[i] for i in range(n, len(l)) if not has_pair(l[i - n : i], l[i]))\n",
    "\n",
    "  invalid_number = first_number_not_sum_of_pair_in_last_n(last_n)\n",
    "  if not part2:\n",
    "    return invalid_number\n",
    "\n",
    "  # Find a contiguous set of at least two numbers in your list which sum to the\n",
    "  # invalid number.  Approach: compute cumulative sum accum[i], then for each i\n",
    "  # do (binary) bisection search to try to locate l[i] + invalid_number.\n",
    "\n",
    "  def find_subsequence_summing_to(total):\n",
    "    accum = list(itertools.accumulate(l, operator.add))  # accum[i] = sum(l[:i])\n",
    "    for i, value in enumerate(accum):\n",
    "      end_value = value + total\n",
    "      j = bisect.bisect_left(accum, end_value)\n",
    "      if j != len(accum) and accum[j] == end_value:\n",
    "        return l[i + 1 : j + 1]\n",
    "    return None\n",
    "\n",
    "  sequence = find_subsequence_summing_to(invalid_number)\n",
    "  assert sum(sequence) == invalid_number\n",
    "  return min(sequence) + max(sequence)\n",
    "\n",
    "\n",
    "check_eq(day9(s1, last_n=5), 127)\n",
    "puzzle.verify(1, day9)  # ~2 ms.\n",
    "\n",
    "day9_part2 = functools.partial(day9, part2=True)\n",
    "check_eq(day9_part2(s1, last_n=5), 62)\n",
    "puzzle.verify(2, day9_part2)  # ~4 ms."
   ]
  },
  {
   "cell_type": "markdown",
   "id": "3ab21769",
   "metadata": {},
   "source": [
    "<a name=\"day10\"></a>\n",
    "## Day 10: Combinations of sequences"
   ]
  },
  {
   "cell_type": "markdown",
   "id": "7fb68c81",
   "metadata": {},
   "source": [
    "Given a set of numbers,\n",
    "\n",
    "- Part 1: Augment the numbers with the values `0` and `max + 3`, tally the successive differences of the sorted numbers, and report the product of the 1-differences and the 3-differences.\n",
    "\n",
    "- Part 2: Count the number of ways to monotonically traverse the numbers such that successive differences are at most 3."
   ]
  },
  {
   "cell_type": "code",
   "execution_count": 56,
   "id": "46b3f704",
   "metadata": {
    "execution": {
     "iopub.execute_input": "2022-12-19T00:40:42.202126Z",
     "iopub.status.busy": "2022-12-19T00:40:42.201871Z",
     "iopub.status.idle": "2022-12-19T00:40:42.219634Z",
     "shell.execute_reply": "2022-12-19T00:40:42.219134Z",
     "shell.execute_reply.started": "2022-12-19T00:40:42.202114Z"
    }
   },
   "outputs": [
    {
     "data": {
      "text/markdown": [
       "For [day 10](https://adventofcode.com/2020/day/10), `puzzle.input` has 97 lines:"
      ],
      "text/plain": [
       "<IPython.core.display.Markdown object>"
      ]
     },
     "metadata": {},
     "output_type": "display_data"
    },
    {
     "name": "stdout",
     "output_type": "stream",
     "text": [
      "8\n",
      "131\n",
      "91\n",
      "35\n",
      "47\n",
      "116\n",
      "105\n",
      "121\n",
      " ...\n",
      "95\n",
      "3\n",
      "52\n",
      "49\n"
     ]
    },
    {
     "data": {
      "text/markdown": [
       "The stored answers are: `{1: '2112', 2: '3022415986688'}`"
      ],
      "text/plain": [
       "<IPython.core.display.Markdown object>"
      ]
     },
     "metadata": {},
     "output_type": "display_data"
    }
   ],
   "source": [
    "puzzle = advent.puzzle(day=10)"
   ]
  },
  {
   "cell_type": "code",
   "execution_count": 57,
   "id": "8cd16306",
   "metadata": {
    "execution": {
     "iopub.execute_input": "2022-12-19T00:40:42.220538Z",
     "iopub.status.busy": "2022-12-19T00:40:42.220278Z",
     "iopub.status.idle": "2022-12-19T00:40:42.223186Z",
     "shell.execute_reply": "2022-12-19T00:40:42.222661Z",
     "shell.execute_reply.started": "2022-12-19T00:40:42.220523Z"
    }
   },
   "outputs": [],
   "source": [
    "s1 = \"\"\"\\\n",
    "16\n",
    "10\n",
    "15\n",
    "5\n",
    "1\n",
    "11\n",
    "7\n",
    "19\n",
    "6\n",
    "12\n",
    "4\n",
    "\"\"\"\n",
    "\n",
    "s2 = \"\"\"\\\n",
    "28\n",
    "33\n",
    "18\n",
    "42\n",
    "31\n",
    "14\n",
    "46\n",
    "20\n",
    "48\n",
    "47\n",
    "24\n",
    "23\n",
    "49\n",
    "45\n",
    "19\n",
    "38\n",
    "39\n",
    "11\n",
    "1\n",
    "32\n",
    "25\n",
    "35\n",
    "8\n",
    "17\n",
    "7\n",
    "9\n",
    "4\n",
    "2\n",
    "34\n",
    "10\n",
    "3\n",
    "\"\"\""
   ]
  },
  {
   "cell_type": "code",
   "execution_count": 58,
   "id": "184d86ac",
   "metadata": {
    "execution": {
     "iopub.execute_input": "2022-12-19T00:40:42.224127Z",
     "iopub.status.busy": "2022-12-19T00:40:42.223847Z",
     "iopub.status.idle": "2022-12-19T00:40:42.233569Z",
     "shell.execute_reply": "2022-12-19T00:40:42.232990Z",
     "shell.execute_reply.started": "2022-12-19T00:40:42.224113Z"
    }
   },
   "outputs": [
    {
     "name": "stdout",
     "output_type": "stream",
     "text": [
      "(Part 1: 0.000 s)\n"
     ]
    }
   ],
   "source": [
    "def day10_part1(s):\n",
    "  l = sorted(map(int, s.split()))\n",
    "  counter = collections.Counter(np.diff([0] + l + [l[-1] + 3]))\n",
    "  return counter[1] * counter[3]\n",
    "\n",
    "\n",
    "check_eq(day10_part1(s1), 7 * 5)\n",
    "check_eq(day10_part1(s2), 22 * 10)\n",
    "puzzle.verify(1, day10_part1)  # ~0 ms.  66 * 32."
   ]
  },
  {
   "cell_type": "markdown",
   "id": "0ad2c479",
   "metadata": {},
   "source": [
    "Part 2"
   ]
  },
  {
   "cell_type": "code",
   "execution_count": 59,
   "id": "04fcea44",
   "metadata": {
    "execution": {
     "iopub.execute_input": "2022-12-19T00:40:42.234614Z",
     "iopub.status.busy": "2022-12-19T00:40:42.234282Z",
     "iopub.status.idle": "2022-12-19T00:40:42.243841Z",
     "shell.execute_reply": "2022-12-19T00:40:42.243271Z",
     "shell.execute_reply.started": "2022-12-19T00:40:42.234599Z"
    }
   },
   "outputs": [
    {
     "name": "stdout",
     "output_type": "stream",
     "text": [
      "(Part 2: 0.000 s)\n"
     ]
    }
   ],
   "source": [
    "# Observation: when there is a separation of 3 units, the problem decouples\n",
    "# into a product of the solutions of subproblems.\n",
    "\n",
    "# Because the voltages differences are just 1 or 3, we can simply count the\n",
    "# length of the sequences of value 1, and derive a closed-form number for each\n",
    "# sequence.\n",
    "def day10a_part2(s):\n",
    "  diff = np.diff([0] + sorted(map(int, s.split())))\n",
    "  lengths_of_ones = map(len, re.findall('1+', ''.join(map(str, diff))))\n",
    "\n",
    "  def f(n):\n",
    "    \"\"\"Number of combinations from a sequence of n consecutive one-diffs.\"\"\"\n",
    "    return 0 if n < 0 else 1 if n < 2 else f(n - 1) + f(n - 2) + f(n - 3)\n",
    "\n",
    "  return math.prod(map(f, lengths_of_ones))\n",
    "\n",
    "\n",
    "check_eq(day10a_part2(s1), 8)\n",
    "check_eq(day10a_part2(s2), 19208)\n",
    "puzzle.verify(2, day10a_part2)  # ~0 ms."
   ]
  },
  {
   "cell_type": "code",
   "execution_count": 60,
   "id": "6ff106e3",
   "metadata": {
    "execution": {
     "iopub.execute_input": "2022-12-19T00:40:42.244827Z",
     "iopub.status.busy": "2022-12-19T00:40:42.244546Z",
     "iopub.status.idle": "2022-12-19T00:40:42.259750Z",
     "shell.execute_reply": "2022-12-19T00:40:42.259237Z",
     "shell.execute_reply.started": "2022-12-19T00:40:42.244813Z"
    }
   },
   "outputs": [
    {
     "name": "stdout",
     "output_type": "stream",
     "text": [
      "(Part 2: 0.000 s)\n"
     ]
    }
   ],
   "source": [
    "# More general solution based on dynamic programming with scatter.\n",
    "def day10b_part2(s):\n",
    "  l = [0] + sorted(map(int, s.split()))\n",
    "  npaths = [1] + [0] * (len(l) - 1)\n",
    "  for i in range(len(l)):  # pylint: disable=consider-using-enumerate\n",
    "    for j in range(i + 1, min(i + 4, len(l))):\n",
    "      if l[j] - l[i] <= 3:\n",
    "        npaths[j] += npaths[i]\n",
    "  return npaths[-1]\n",
    "\n",
    "\n",
    "check_eq(day10b_part2(s1), 8)\n",
    "check_eq(day10b_part2(s2), 19208)\n",
    "puzzle.verify(2, day10b_part2)  # ~0 ms."
   ]
  },
  {
   "cell_type": "code",
   "execution_count": 61,
   "id": "397a1f37",
   "metadata": {
    "execution": {
     "iopub.execute_input": "2022-12-19T00:40:42.260980Z",
     "iopub.status.busy": "2022-12-19T00:40:42.260531Z",
     "iopub.status.idle": "2022-12-19T00:40:42.269876Z",
     "shell.execute_reply": "2022-12-19T00:40:42.269332Z",
     "shell.execute_reply.started": "2022-12-19T00:40:42.260965Z"
    }
   },
   "outputs": [
    {
     "name": "stdout",
     "output_type": "stream",
     "text": [
      "(Part 2: 0.000 s)\n"
     ]
    }
   ],
   "source": [
    "# Simplest solution based on dynamic programming with gather.\n",
    "def day10_part2(s):\n",
    "  l = [0] + sorted(map(int, s.split()))\n",
    "  npaths = [1]\n",
    "  for i in range(1, len(l)):\n",
    "    npaths.append(sum(npaths[j] for j in range(-4, 0) if i + j >= 0 and l[i] - l[i + j] < 4))\n",
    "  return npaths[-1]\n",
    "\n",
    "\n",
    "check_eq(day10_part2(s1), 8)\n",
    "check_eq(day10_part2(s2), 19208)\n",
    "puzzle.verify(2, day10_part2)  # ~0 ms."
   ]
  },
  {
   "cell_type": "markdown",
   "id": "013e3480",
   "metadata": {},
   "source": [
    "<a name=\"day11\"></a>\n",
    "## Day 11: Seats cellular automaton"
   ]
  },
  {
   "cell_type": "markdown",
   "id": "abbdeb46",
   "metadata": {},
   "source": [
    "Given a *sparse* 2D grid of nodes, run successive generations of a cellular automaton until convergence.\n",
    "\n",
    "- Part 1: Each node's neighbors are the immediately adjacent nodes (up to 8, with Manhattan distance 1).\n",
    "\n",
    "  For each generation:\n",
    "  - a free node becomes occupied if it has zero occupied neighbors, and\n",
    "  - an occupied node becomes free if it has 4 or more occupied neighbors.\n",
    "\n",
    "- Part 2: The evolution rule is modified in two ways:\n",
    "  - For each of the 8 neighbor directions, the neighbor is defined as the first node along that direction.\n",
    "  - An occupied node becomes free if it has 5 or more occupied neighbors."
   ]
  },
  {
   "cell_type": "code",
   "execution_count": 62,
   "id": "e65dfbc0",
   "metadata": {
    "execution": {
     "iopub.execute_input": "2022-12-19T00:40:42.270844Z",
     "iopub.status.busy": "2022-12-19T00:40:42.270570Z",
     "iopub.status.idle": "2022-12-19T00:40:42.287896Z",
     "shell.execute_reply": "2022-12-19T00:40:42.287257Z",
     "shell.execute_reply.started": "2022-12-19T00:40:42.270830Z"
    },
    "tags": []
   },
   "outputs": [
    {
     "data": {
      "text/markdown": [
       "For [day 11](https://adventofcode.com/2020/day/11), `puzzle.input` has 99 lines:"
      ],
      "text/plain": [
       "<IPython.core.display.Markdown object>"
      ]
     },
     "metadata": {},
     "output_type": "display_data"
    },
    {
     "name": "stdout",
     "output_type": "stream",
     "text": [
      "LLLLLLLLLL.LLLLLL.LLLLLLLLLLLL.LL.LLLL.LLLLL.LLLLLLL.LLLLLL.LLLLLL.LLLLLL.LLLLLLLLLLLLLLLLLL\n",
      "LLLLLLLLLLLLLLLLLLLLLLLLLLLLLL.LLLLLLL.LLLLL.LLLLLLL.LLLLLLLLLLLLL.LLLL.L.LLLLLLLLLL.LLLLLLL\n",
      "LLLLLLLLLL.LLLLLL.LLLLLL.LLLLL.LLLLLLLLLLLLLLLLLLLLL.LLLLLL..LLLLL.LLLLLL.LLLLLL.LLLLLLLLLLL\n",
      "LLLLLLLLLL.LLLLLLLLLLLLL.LL.LL.LLLLL.L.LLLLL.LLLLLLL.LLLLLL.LLLLLLLLLLLLL.LLLLLLLLLLLLLLLLLL\n",
      "LLLLLLLLLLLLLLLLL.LLLLLL.LLLLLLLLLLLLLLLLLLL.LLLLLLL.LLL.LL.LLLLLL.LLLLLL.LLLLLLLLLLLLLLLLLL\n",
      "LLLLLLLLLLLLLLLLL.LLLLLL.LLLLL.LLLLLLL.LLL.L.LLLLLLLLLLLLLLLLLLLLLLLLLLLL.LLLLLL.LLLLLLLL.LL\n",
      "LLLLLLLLLLLLLLLLL.LLLLLLLLLL.LLLLLLLLL.LLLLL.LLLLLLL.LLLL.L.LLLLLLLLLLLLL.LLLLLLLLLLLLLLLLLL\n",
      ".L.LL...LLLL.......L....L.LLLLLL.......LL....LL...L..L.LLL...LLL..L.L.L.L..L...............L\n",
      " ...\n",
      "LLLLLLLLLL.LLLLLL.LLLLLL.LLLLL.LLLLL.L.LLLLLLLLLLLLL.LL.LLLLL.LLLL.LLLLLL.LLLLLLLLLL.LLLLLLL\n",
      "LLLLLLLLLLLLLLLLL.LLLLLL.LLLLL.LLLLLLL.LLLLL..LLLLLL.LLLLLL.LLLLLL.LLLLLL.LLLLLL.LLLLLLLLLLL\n",
      "LLLLLLLLLL.LLL.LLLLLLLLL.LLLLL.LLLLLLLLLLLL..LLLLLLL.LLLLL..LLLLLL.LLLLLL.LLLLLLLLLLLLLLLLLL\n",
      "LLLLLLLLLLLLLLLLL.LLLLLL.LLLLL.LLLLLLL.LLLLLLLLLLLLL.LLLLLL.LLLLLL.LL.LLLLLLLLLL.LLLLLLLLLLL\n"
     ]
    },
    {
     "data": {
      "text/markdown": [
       "The stored answers are: `{1: '2359', 2: '2131'}`"
      ],
      "text/plain": [
       "<IPython.core.display.Markdown object>"
      ]
     },
     "metadata": {},
     "output_type": "display_data"
    }
   ],
   "source": [
    "puzzle = advent.puzzle(day=11)"
   ]
  },
  {
   "cell_type": "code",
   "execution_count": 63,
   "id": "755a179d",
   "metadata": {
    "execution": {
     "iopub.execute_input": "2022-12-19T00:40:42.289083Z",
     "iopub.status.busy": "2022-12-19T00:40:42.288706Z",
     "iopub.status.idle": "2022-12-19T00:40:42.297160Z",
     "shell.execute_reply": "2022-12-19T00:40:42.296576Z",
     "shell.execute_reply.started": "2022-12-19T00:40:42.289068Z"
    },
    "tags": []
   },
   "outputs": [
    {
     "data": {
      "text/html": [
       "<table class=\"show_images\" style=\"border-spacing:0px;\"><tr><td style=\"padding:1px;\"><img width=\"250\" height=\"269\" style=\"border:1px solid black; image-rendering:pixelated; object-fit:cover;\" src=\"data:image/png;base64,iVBORw0KGgoAAAANSUhEUgAAAFwAAABjCAIAAACZofB3AAAGG0lEQVR4nM1c27LbMAi0zvT/f9l96NRH4bIsFyXhoZPKCDBCsEJu133fl09rLc1gDoK5gl9P9wTy2jt2avrBj02hWU01yzrS1lqMKI8tcIo5jR80Sb9VymtrrVAXELjP9dgCp2RVXtA7/x5pBt6hngG8WxnOyvbB7/BM8Uyv7SasNOtWTJVIIckzdB8n/XtBX3uDKav2R2NOEfXl4gxN7URv96UIaHx59ES1WJmHGOm7EGaung7iQksTI/vGFJu0UCuDSm5iDRIU8OijDCgwlcELu31CQfd9i8Auv2chp84mWjZSvod4PH1VF8aOlOZq4IzI45TUOBmn9Zjy0ptmM6GHl7lNLZqTmWLaCdSZKdl7qbHt00mf/QNhSmxIbqJlQM5O4aoykstEmkRqd53ybfkVUCoiGM7K2YekZ03KoUFq12gA6G1FCkmMDi/njQjn9Wa120cvj5PM+aI2mbhb1wIB3pmCYqrbB8MCKksESIf/wpLM/98M3sMziqCvTrRTdSr7Lgf7KTx5Kbm5MKbYgerD0whO0RswnMKYlHZuaiaPsoEWTwiY6PF4Sj3O3WAt/PlRyYXj6Dt7kXTazg/0aMsS7v/tLlJXOSV9INGO17VUh8FLWzsddMqhot7JLJdf4Pbxg9Un2zoi6cSl5fVqf+Xa1PRu8/rWpGasdUM1rGGazYtYPpIFv1kmTZPMom7+VTCbL6UffaDz1jwTHfo+Yx8fu0vm35PnNFvcojDz+Ji3qpVTeDVYZuozDnF3ofdCv7k1/9VByGbmL0YgSRiJmBtK8EinMP1qvvoCIQx1NponRHPqzC2dAuzAj8i35TkLZkz1XyrgbTzRTsG8qW2YdkoqKTYlTE3vRpCJbTBeMrEQ4AlBGtC7TxE/9im8SSZDBbw1G9dNmPeGu9SDl2EF0tVRE1jhUDjJOf/JKElmM1nvhSkVj7SBG8L+kdwjE4NmFWHwWvPpWusD26d5ShIhlv06glFaiZSOSnNip3jX0KZHvxrNzgKQbhY8L/+BuujJARXaGxQyw7l7OdePDl5xfLyfwk8XVN8+gjBSqlEzfZ5qHZgU5j9vZITOnScfmqk+7z/OHNfFYEScz8LsuDMwZxN8JgIvAtI/WT2CROvh4maqI7WkJL8v0aZKo6meYcuuSrPLZy6nGPnAXTIP3k7gaUb7WOetwznCxvuaIp0+9zzn/akl4KwGJAC92GAh3OQMU6+uAGMfMPKINiXzsnIKiaf1XNKqnwuG5bnWAUlZoLzfwzBQw6Qfki+kE+gbQGfmpq28ot/1ySgzXsN1YjqmMZjfv/oQAguPCopMmjkQgvxfI770APK2T+jW2Cnk8bcDE0YcygPoR503JXYKk/+9MmkKnG0y7OWGkWPeIgiaaTKlljpbZbFJADGaEyld9ytpffv4ziasKb9qdu9o+Cvsx+VJ41ft1plr08QivPHatAypZ/77ITNSZoEvfzHGsGHmscb1aRK7BjCAEebRNYhoT3RJAMxvcrYixaSRNrUujWSp5t8fkJkTKe4woZgJXDDjUpUqW7s0zzavoJg/nt+i+B78aIen1Nx+SboKOWXqEqf8gQXmJAuiNwjGHzKcUl5wcnpT/lRtBvTrlF2W93uEmh3mOzrjYGmhrrV/tGOg3bW8lDZLKb/zh8/aJcGNP9oJ10QwhyN4vKzoSpoaCqyDt+zeDhNwUy+zL8SfHtU7bzn8UwLdfE1hHB1CsIc+gGj5o2PzgqW1TwVS3ANBBIVQAzAiY5+pwlMqLBSwGL+F+ZrAjIM3hFlOUsJgk8XTePCftjQPaQUJWfLWYKyfMtJ8/sh0TX+mBJ3AeGR6ygLikOclUjq9+xNFgaw+ZeTi0YtT+EzJPO3HDh8pfPFO7DVd8C6/npkm6hoJ3gTIB7aZikjXh7r2kbNNpk7n6ZAihvPspxjN7MPLBFRQx977ZK9pwRQejzR9anYeX7bJWmbaZnGKEM03Ck2ZtU7HCIlbBDO5FLdPs7J0QsArSYPfArz18y68TYC5ITapZXTPnrf+G0JPWrihRCLoGKYv4TQlzj5TqMxMTyO4saDdpESkpCoRIN0o5r0ccoaBwBj/FwTRL7nttzC+AAAAAElFTkSuQmCC\"/></td></tr></table>"
      ],
      "text/plain": [
       "<IPython.core.display.HTML object>"
      ]
     },
     "metadata": {},
     "output_type": "display_data"
    }
   ],
   "source": [
    "media.show_image(hh.grid_from_string(puzzle.input) == 'L', border=True, width=250)"
   ]
  },
  {
   "cell_type": "code",
   "execution_count": 64,
   "id": "afb36da0",
   "metadata": {
    "execution": {
     "iopub.execute_input": "2022-12-19T00:40:42.298050Z",
     "iopub.status.busy": "2022-12-19T00:40:42.297844Z",
     "iopub.status.idle": "2022-12-19T00:40:42.304314Z",
     "shell.execute_reply": "2022-12-19T00:40:42.303634Z",
     "shell.execute_reply.started": "2022-12-19T00:40:42.298036Z"
    },
    "tags": []
   },
   "outputs": [],
   "source": [
    "s1 = \"\"\"\\\n",
    "L.LL.LL.LL\n",
    "LLLLLLL.LL\n",
    "L.L.L..L..\n",
    "LLLL.LL.LL\n",
    "L.LL.LL.LL\n",
    "L.LLLLL.LL\n",
    "..L.L.....\n",
    "LLLLLLLLLL\n",
    "L.LLLLLL.L\n",
    "L.LLLLL.LL\n",
    "\"\"\""
   ]
  },
  {
   "cell_type": "code",
   "execution_count": 65,
   "id": "88d18cd7",
   "metadata": {
    "execution": {
     "iopub.execute_input": "2022-12-19T00:40:42.305389Z",
     "iopub.status.busy": "2022-12-19T00:40:42.305035Z",
     "iopub.status.idle": "2022-12-19T00:40:42.317270Z",
     "shell.execute_reply": "2022-12-19T00:40:42.316716Z",
     "shell.execute_reply.started": "2022-12-19T00:40:42.305363Z"
    },
    "tags": []
   },
   "outputs": [],
   "source": [
    "# Relatively fast non-numba solution, which maintains neighbor counts.\n",
    "# It becomes faster with numba enabled, but not as fast as the next solution.\n",
    "def day11a(s, *, part2=False):\n",
    "  # -1 is EMPTY, 0..8 is FREE+neighbor_count, 10..18 is OCCUPIED+neighbor_count\n",
    "  int_from_ch = {'.': -1, 'L': 0, '#': 10}\n",
    "  grid = hh.grid_from_string(s, int_from_ch)\n",
    "  # Surprisingly, the default array dtype (here, np.int64) is the fastest.\n",
    "  shape = grid.shape\n",
    "  NEIGHBORS = tuple(set(itertools.product((-1, 0, 1), repeat=2)) - {(0, 0)})\n",
    "\n",
    "  def evolve(grid):\n",
    "    def impact_neighbor_counts(y0, x0, delta):\n",
    "      for dy, dx in NEIGHBORS:\n",
    "        y, x = y0 + dy, x0 + dx\n",
    "        while 0 <= y < shape[0] and 0 <= x < shape[1]:\n",
    "          if not part2 or grid[y, x] >= 0:\n",
    "            if grid[y, x] >= 0:\n",
    "              grid[y, x] += delta\n",
    "            break\n",
    "          y, x = y + dy, x + dx\n",
    "\n",
    "    # print('num_occupied', np.count_nonzero(grid >= 10))\n",
    "    prev = grid.copy()\n",
    "    for y in range(shape[0]):\n",
    "      for x in range(shape[1]):\n",
    "        if prev[y, x] == 0:  # FREE with zero occupied neighbors\n",
    "          grid[y, x] += 10\n",
    "          impact_neighbor_counts(y, x, +1)\n",
    "        elif prev[y, x] >= (15 if part2 else 14):  # OCCUPIED, >= 5 or 4 neighb\n",
    "          grid[y, x] -= 10\n",
    "          impact_neighbor_counts(y, x, -1)\n",
    "    return np.any(grid != prev)\n",
    "\n",
    "  while evolve(grid):\n",
    "    pass\n",
    "\n",
    "  return np.count_nonzero(grid >= 10)\n",
    "\n",
    "\n",
    "check_eq(day11a(s1), 37)\n",
    "day11a_part2 = functools.partial(day11a, part2=True)\n",
    "check_eq(day11a_part2(s1), 26)\n",
    "\n",
    "if not using_numba:  # Best non-numba solutions.\n",
    "  puzzle.verify(1, day11a)  # ~2500 ms.\n",
    "  puzzle.verify(2, day11a_part2)  # ~5800 ms."
   ]
  },
  {
   "cell_type": "code",
   "execution_count": 66,
   "id": "dc5e19f4",
   "metadata": {
    "execution": {
     "iopub.execute_input": "2022-12-19T00:40:42.318203Z",
     "iopub.status.busy": "2022-12-19T00:40:42.317925Z",
     "iopub.status.idle": "2022-12-19T00:40:43.109769Z",
     "shell.execute_reply": "2022-12-19T00:40:43.109292Z",
     "shell.execute_reply.started": "2022-12-19T00:40:42.318191Z"
    },
    "tags": []
   },
   "outputs": [
    {
     "name": "stdout",
     "output_type": "stream",
     "text": [
      "(Part 1: 0.016 s)\n",
      "(Part 2: 0.039 s)\n"
     ]
    }
   ],
   "source": [
    "# More naive solution, but faster when using numba.\n",
    "@numba.njit(parallel=True)\n",
    "def day11_evolve(grid, neighbors, part2):\n",
    "  shape = grid.shape\n",
    "  EMPTY, FREE, OCCUPIED = 0, 1, 2\n",
    "\n",
    "  def count_occupied_neighbors(grid, y0, x0, only_adjacent):\n",
    "    count = 0\n",
    "    for dy, dx in neighbors:\n",
    "      y, x = y0 + dy, x0 + dx\n",
    "      while 0 <= y < shape[0] and 0 <= x < shape[1]:\n",
    "        if grid[y, x] != EMPTY or only_adjacent:\n",
    "          count += grid[y, x] == OCCUPIED\n",
    "          break\n",
    "        y, x = y + dy, x + dx\n",
    "    return count\n",
    "\n",
    "  prev = grid.copy()\n",
    "  for y in range(shape[0]):\n",
    "    for x in range(shape[1]):\n",
    "      num_occupied = count_occupied_neighbors(prev, y, x, not part2)\n",
    "      if prev[y, x] == FREE and num_occupied == 0:\n",
    "        grid[y, x] = OCCUPIED\n",
    "      elif prev[y, x] == OCCUPIED and num_occupied >= (5 if part2 else 4):\n",
    "        grid[y, x] = FREE\n",
    "  return not np.all(grid == prev)\n",
    "\n",
    "\n",
    "def day11(s, *, part2=False, return_video=False):\n",
    "  int_from_ch = {'.': 0, 'L': 1, '#': 2}\n",
    "  grid = hh.grid_from_string(s, int_from_ch)\n",
    "  neighbors = tuple(set(itertools.product((-1, 0, 1), repeat=2)) - {(0, 0)})\n",
    "  OCCUPIED = 2\n",
    "\n",
    "  images = []\n",
    "  while day11_evolve(grid, neighbors, part2):\n",
    "    if return_video:\n",
    "      image = (grid == OCCUPIED).repeat(2, axis=0).repeat(2, axis=1)\n",
    "      images.append(image)\n",
    "\n",
    "  if return_video:\n",
    "    # We view only the even-numbered frames to avoid flashing on/off.\n",
    "    images = [images[0]] * 10 + images[::2] + [images[-1]] * 10\n",
    "    return images\n",
    "  return np.count_nonzero(grid == OCCUPIED)\n",
    "\n",
    "\n",
    "check_eq(day11(s1), 37)  # ~2000 ms for numba compilation.\n",
    "day11_part2 = functools.partial(day11, part2=True)\n",
    "check_eq(day11_part2(s1), 26)\n",
    "\n",
    "if using_numba:\n",
    "  puzzle.verify(1, day11)  # ~32 ms with numba; ~24 s without numba.\n",
    "  puzzle.verify(2, day11_part2)  # ~49 ms with numba; ~27 s without numba."
   ]
  },
  {
   "cell_type": "code",
   "execution_count": 67,
   "id": "1b7dd170",
   "metadata": {
    "execution": {
     "iopub.execute_input": "2022-12-19T00:40:43.118477Z",
     "iopub.status.busy": "2022-12-19T00:40:43.118198Z",
     "iopub.status.idle": "2022-12-19T00:40:43.379994Z",
     "shell.execute_reply": "2022-12-19T00:40:43.379392Z",
     "shell.execute_reply.started": "2022-12-19T00:40:43.118464Z"
    },
    "tags": []
   },
   "outputs": [
    {
     "data": {
      "text/html": [
       "<table class=\"show_videos\" style=\"border-spacing:0px;\"><tr><td style=\"padding:1px;\"><div style=\"display:flex; align-items:left;\">\n",
       "      <div style=\"display:flex; flex-direction:column; align-items:center;\">\n",
       "      <div>Part 1</div><div><img width=\"184\" height=\"198\" style=\"border:1px solid black; image-rendering:pixelated; object-fit:cover;\" src=\"data:image/gif;base64,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\"/></div></div></div></td><td style=\"padding:1px;\"><div style=\"display:flex; align-items:left;\">\n",
       "      <div style=\"display:flex; flex-direction:column; align-items:center;\">\n",
       "      <div>Part 2</div><div><img width=\"184\" height=\"198\" style=\"border:1px solid black; image-rendering:pixelated; object-fit:cover;\" src=\"data:image/gif;base64,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\"/></div></div></div></td></tr></table>"
      ],
      "text/plain": [
       "<IPython.core.display.HTML object>"
      ]
     },
     "metadata": {},
     "output_type": "display_data"
    }
   ],
   "source": [
    "if using_numba:\n",
    "  videos = {\n",
    "      'Part 1': day11(puzzle.input, return_video=True),\n",
    "      'Part 2': day11_part2(puzzle.input, return_video=True),\n",
    "  }\n",
    "  media.show_videos(videos, codec='gif', fps=10, border=True)\n",
    "  del videos"
   ]
  },
  {
   "cell_type": "markdown",
   "id": "780076a4",
   "metadata": {},
   "source": [
    "<a name=\"day12\"></a>\n",
    "## Day 12: Ship and waypoint navigation"
   ]
  },
  {
   "cell_type": "markdown",
   "id": "2362184a",
   "metadata": {},
   "source": [
    "Given a list of instructions (a translation direction `N|S|E|W` and magnitude, a rotation `L|R` and angle (positive multiple of 90 degrees), or a forward directive `F` and value), update a ship's position and orientation in a 2D domain.\n",
    "\n",
    "- Part 1: The translation, rotation, and forward instructions directly modify the ship's state.  After applying all instructions, report the Manhattan distance of the ship's position from its start.\n",
    "\n",
    "- Part 2: The translation and rotation instructions modify a vector waypoint (initially 10 units east and 1 unit north of ship) relative to the ship position.  The forward instruction translates the ship position by the vector waypoint times the forward value.  Again report the final Manhattan distance of the ship from its start."
   ]
  },
  {
   "cell_type": "code",
   "execution_count": 68,
   "id": "0eda4e26",
   "metadata": {
    "execution": {
     "iopub.execute_input": "2022-12-19T00:40:43.381137Z",
     "iopub.status.busy": "2022-12-19T00:40:43.380787Z",
     "iopub.status.idle": "2022-12-19T00:40:43.391729Z",
     "shell.execute_reply": "2022-12-19T00:40:43.391156Z",
     "shell.execute_reply.started": "2022-12-19T00:40:43.381123Z"
    }
   },
   "outputs": [
    {
     "data": {
      "text/markdown": [
       "For [day 12](https://adventofcode.com/2020/day/12), `puzzle.input` has 773 lines:"
      ],
      "text/plain": [
       "<IPython.core.display.Markdown object>"
      ]
     },
     "metadata": {},
     "output_type": "display_data"
    },
    {
     "name": "stdout",
     "output_type": "stream",
     "text": [
      "W5\n",
      "F63\n",
      "S1\n",
      "L90\n",
      "F89\n",
      "W4\n",
      "F45\n",
      "W4\n",
      " ...\n",
      "L90\n",
      "F94\n",
      "L90\n",
      "F13\n"
     ]
    },
    {
     "data": {
      "text/markdown": [
       "The stored answers are: `{1: '1221', 2: '59435'}`"
      ],
      "text/plain": [
       "<IPython.core.display.Markdown object>"
      ]
     },
     "metadata": {},
     "output_type": "display_data"
    }
   ],
   "source": [
    "puzzle = advent.puzzle(day=12)"
   ]
  },
  {
   "cell_type": "code",
   "execution_count": 69,
   "id": "ddd33102",
   "metadata": {
    "execution": {
     "iopub.execute_input": "2022-12-19T00:40:43.392612Z",
     "iopub.status.busy": "2022-12-19T00:40:43.392356Z",
     "iopub.status.idle": "2022-12-19T00:40:43.395290Z",
     "shell.execute_reply": "2022-12-19T00:40:43.394781Z",
     "shell.execute_reply.started": "2022-12-19T00:40:43.392596Z"
    }
   },
   "outputs": [],
   "source": [
    "s1 = \"\"\"\\\n",
    "F10\n",
    "N3\n",
    "F7\n",
    "R90\n",
    "F11\n",
    "\"\"\""
   ]
  },
  {
   "cell_type": "code",
   "execution_count": 70,
   "id": "45c64b5c",
   "metadata": {
    "execution": {
     "iopub.execute_input": "2022-12-19T00:40:43.395952Z",
     "iopub.status.busy": "2022-12-19T00:40:43.395831Z",
     "iopub.status.idle": "2022-12-19T00:40:43.405646Z",
     "shell.execute_reply": "2022-12-19T00:40:43.405073Z",
     "shell.execute_reply.started": "2022-12-19T00:40:43.395941Z"
    }
   },
   "outputs": [
    {
     "name": "stdout",
     "output_type": "stream",
     "text": [
      "(Part 1: 0.000 s)\n"
     ]
    }
   ],
   "source": [
    "def day12_part1(s):\n",
    "  y, x = 0, 0\n",
    "  dy, dx = 0, 1  # east\n",
    "\n",
    "  for instruction in s.split():\n",
    "    action, value = instruction[:1], int(instruction[1:])\n",
    "    if action == 'N':\n",
    "      y -= value\n",
    "    elif action == 'S':\n",
    "      y += value\n",
    "    elif action == 'E':\n",
    "      x += value\n",
    "    elif action == 'W':\n",
    "      x -= value\n",
    "    elif action == 'L':\n",
    "      while value:\n",
    "        dy, dx = -dx, +dy\n",
    "        value -= 90\n",
    "    elif action == 'R':\n",
    "      while value:\n",
    "        dy, dx = +dx, -dy\n",
    "        value -= 90\n",
    "    elif action == 'F':\n",
    "      y, x = y + dy * value, x + dx * value\n",
    "  return abs(y) + abs(x)\n",
    "\n",
    "\n",
    "check_eq(day12_part1(s1), 25)\n",
    "puzzle.verify(1, day12_part1)  # ~1 ms."
   ]
  },
  {
   "cell_type": "code",
   "execution_count": 71,
   "id": "069869bf",
   "metadata": {
    "execution": {
     "iopub.execute_input": "2022-12-19T00:40:43.406553Z",
     "iopub.status.busy": "2022-12-19T00:40:43.406386Z",
     "iopub.status.idle": "2022-12-19T00:40:43.416143Z",
     "shell.execute_reply": "2022-12-19T00:40:43.415554Z",
     "shell.execute_reply.started": "2022-12-19T00:40:43.406540Z"
    }
   },
   "outputs": [
    {
     "name": "stdout",
     "output_type": "stream",
     "text": [
      "(Part 2: 0.000 s)\n"
     ]
    }
   ],
   "source": [
    "def day12_part2(s):\n",
    "  ship_y, ship_x = 0, 0\n",
    "  # waypoint is relative to the ship\n",
    "  waypoint_y, waypoint_x = -1, 10  # 10 units east and 1 unit north of ship\n",
    "\n",
    "  for instruction in s.split():\n",
    "    action, value = instruction[:1], int(instruction[1:])\n",
    "    if action == 'N':\n",
    "      waypoint_y -= value\n",
    "    elif action == 'S':\n",
    "      waypoint_y += value\n",
    "    elif action == 'E':\n",
    "      waypoint_x += value\n",
    "    elif action == 'W':\n",
    "      waypoint_x -= value\n",
    "    elif action == 'L':\n",
    "      while value:\n",
    "        waypoint_y, waypoint_x = -waypoint_x, +waypoint_y\n",
    "        value -= 90\n",
    "    elif action == 'R':\n",
    "      while value:\n",
    "        waypoint_y, waypoint_x = +waypoint_x, -waypoint_y\n",
    "        value -= 90\n",
    "    elif action == 'F':\n",
    "      ship_y += waypoint_y * value\n",
    "      ship_x += waypoint_x * value\n",
    "  return abs(ship_y) + abs(ship_x)\n",
    "\n",
    "\n",
    "check_eq(day12_part2(s1), 286)\n",
    "puzzle.verify(2, day12_part2)  # ~1 ms."
   ]
  },
  {
   "cell_type": "markdown",
   "id": "56ff4fb6",
   "metadata": {},
   "source": [
    "<a name=\"day13\"></a>\n",
    "## Day 13: Buses modulo schedule"
   ]
  },
  {
   "cell_type": "markdown",
   "id": "ee6d9927",
   "metadata": {},
   "source": [
    "Given a sequence of buses with different departure periods, all starting at time 0, with some buses out-of-service, find some earliest time satisfying a condition.\n",
    "\n",
    "- Part 1: Given also an earliest time, find the first bus that departs on or after that time.  Report the wait time multiplied by the bus period.\n",
    "\n",
    "- Part 2: Find the earliest time such that the first bus in the sequence departs at that time and each subsequent listed bus departs at the subsequent time if the bus is in service."
   ]
  },
  {
   "cell_type": "code",
   "execution_count": 72,
   "id": "125f737c",
   "metadata": {
    "execution": {
     "iopub.execute_input": "2022-12-19T00:40:43.417469Z",
     "iopub.status.busy": "2022-12-19T00:40:43.417059Z",
     "iopub.status.idle": "2022-12-19T00:40:43.433778Z",
     "shell.execute_reply": "2022-12-19T00:40:43.433032Z",
     "shell.execute_reply.started": "2022-12-19T00:40:43.417450Z"
    },
    "tags": []
   },
   "outputs": [
    {
     "data": {
      "text/markdown": [
       "For [day 13](https://adventofcode.com/2020/day/13), `puzzle.input` has 2 lines:"
      ],
      "text/plain": [
       "<IPython.core.display.Markdown object>"
      ]
     },
     "metadata": {},
     "output_type": "display_data"
    },
    {
     "name": "stdout",
     "output_type": "stream",
     "text": [
      "1000299\n",
      "41,x,x,x,x,x,x,x,x,x,x,x,x,x,x,x,x,x,x,x,x,x,x,x,x,x,x,x,x,x,x,x,x,x,x,37,x,x,x, ... ,x,x,x,x,x,x,x,x,x,x,x,x,x,x,x,x,19\n"
     ]
    },
    {
     "data": {
      "text/markdown": [
       "The stored answers are: `{1: '156', 2: '404517869995362'}`"
      ],
      "text/plain": [
       "<IPython.core.display.Markdown object>"
      ]
     },
     "metadata": {},
     "output_type": "display_data"
    }
   ],
   "source": [
    "puzzle = advent.puzzle(day=13)"
   ]
  },
  {
   "cell_type": "code",
   "execution_count": 73,
   "id": "e2c0331b",
   "metadata": {
    "execution": {
     "iopub.execute_input": "2022-12-19T00:40:43.435021Z",
     "iopub.status.busy": "2022-12-19T00:40:43.434549Z",
     "iopub.status.idle": "2022-12-19T00:40:43.437800Z",
     "shell.execute_reply": "2022-12-19T00:40:43.437252Z",
     "shell.execute_reply.started": "2022-12-19T00:40:43.435007Z"
    },
    "tags": []
   },
   "outputs": [],
   "source": [
    "s1 = \"\"\"\\\n",
    "939\n",
    "7,13,x,x,59,x,31,19\n",
    "\"\"\""
   ]
  },
  {
   "cell_type": "code",
   "execution_count": 74,
   "id": "48e7e1d8",
   "metadata": {
    "execution": {
     "iopub.execute_input": "2022-12-19T00:40:43.438633Z",
     "iopub.status.busy": "2022-12-19T00:40:43.438457Z",
     "iopub.status.idle": "2022-12-19T00:40:43.448352Z",
     "shell.execute_reply": "2022-12-19T00:40:43.447728Z",
     "shell.execute_reply.started": "2022-12-19T00:40:43.438621Z"
    },
    "tags": []
   },
   "outputs": [
    {
     "name": "stdout",
     "output_type": "stream",
     "text": [
      "(Part 1: 0.000 s)\n"
     ]
    }
   ],
   "source": [
    "def day13_part1(s):\n",
    "  lines = s.splitlines()\n",
    "  earliest_time = int(lines[0])\n",
    "  buses = [int(e) for e in lines[1].split(',') if e != 'x']\n",
    "  next_times = [math.ceil(earliest_time / bus) * bus for bus in buses]\n",
    "  min_time, min_bus = min(zip(next_times, buses))\n",
    "  return (min_time - earliest_time) * min_bus\n",
    "\n",
    "\n",
    "check_eq(day13_part1(s1), 295)\n",
    "puzzle.verify(1, day13_part1)  # ~0 ms."
   ]
  },
  {
   "cell_type": "markdown",
   "id": "ba4b3cf8",
   "metadata": {},
   "source": [
    "Part 2"
   ]
  },
  {
   "cell_type": "code",
   "execution_count": 75,
   "id": "63c55b82",
   "metadata": {
    "execution": {
     "iopub.execute_input": "2022-12-19T00:40:43.449569Z",
     "iopub.status.busy": "2022-12-19T00:40:43.449278Z",
     "iopub.status.idle": "2022-12-19T00:40:43.459946Z",
     "shell.execute_reply": "2022-12-19T00:40:43.459276Z",
     "shell.execute_reply.started": "2022-12-19T00:40:43.449551Z"
    },
    "tags": []
   },
   "outputs": [],
   "source": [
    "# Let each bus be represented by its period b_i and desired remainder r_i.\n",
    "\n",
    "# Given [(b_i, r_i)], where b_i are coprime, we seek x such that\n",
    "#  x % b_i = r_i  for all i,  where r_i = -i % b_i\n",
    "# We can work by reduction, merging pairs of buses.\n",
    "\n",
    "# Given a pair of buses (b1, r1) and (b2, r2),\n",
    "# we want to find a new equivalent bus (b1 * b2, r) such that\n",
    "#  0 <= r < b1 * b2\n",
    "#  r % b1 = r1\n",
    "#  r % b2 = r2\n",
    "# We can apply the Chinese remainder theorem using the extended GCD algorithm."
   ]
  },
  {
   "cell_type": "code",
   "execution_count": 76,
   "id": "b1d9a92e",
   "metadata": {
    "execution": {
     "iopub.execute_input": "2022-12-19T00:40:43.461038Z",
     "iopub.status.busy": "2022-12-19T00:40:43.460715Z",
     "iopub.status.idle": "2022-12-19T00:40:43.469306Z",
     "shell.execute_reply": "2022-12-19T00:40:43.468687Z",
     "shell.execute_reply.started": "2022-12-19T00:40:43.461023Z"
    },
    "tags": []
   },
   "outputs": [],
   "source": [
    "def extended_gcd(a: int, b: int) -> tuple[int, int, int]:\n",
    "  \"\"\"Finds the greatest common divisor using the extended Euclidean algorithm.\n",
    "\n",
    "  Returns:\n",
    "    (gcd(a, b), x, y) with the property that a * x + b * y = gcd(a, b).\n",
    "\n",
    "  >>> extended_gcd(29, 71)\n",
    "  (1, -22, 9)\n",
    "  >>> (29 * -22) % 71\n",
    "  1\n",
    "  \"\"\"\n",
    "  prev_x, x = 1, 0\n",
    "  prev_y, y = 0, 1\n",
    "  while b:\n",
    "    q = a // b\n",
    "    x, prev_x = prev_x - q * x, x\n",
    "    y, prev_y = prev_y - q * y, y\n",
    "    a, b = b, a % b\n",
    "  x, y = prev_x, prev_y\n",
    "  return a, x, y\n",
    "\n",
    "\n",
    "check_eq(extended_gcd(29, 71), ((1, -22, 9)))"
   ]
  },
  {
   "cell_type": "code",
   "execution_count": 77,
   "id": "135cf5ce",
   "metadata": {
    "execution": {
     "iopub.execute_input": "2022-12-19T00:40:43.470507Z",
     "iopub.status.busy": "2022-12-19T00:40:43.470208Z",
     "iopub.status.idle": "2022-12-19T00:40:43.479947Z",
     "shell.execute_reply": "2022-12-19T00:40:43.479406Z",
     "shell.execute_reply.started": "2022-12-19T00:40:43.470493Z"
    },
    "tags": []
   },
   "outputs": [
    {
     "name": "stdout",
     "output_type": "stream",
     "text": [
      "(Part 2: 0.000 s)\n"
     ]
    }
   ],
   "source": [
    "def day13a_part2(s):  # Using pairwise reduction with extended_gcd.\n",
    "  s = s.splitlines()[-1]\n",
    "  buses = [int(e) for e in s.replace('x', '1').split(',')]\n",
    "  check_eq(np.lcm.reduce(buses), math.prod(buses))  # verify all coprime\n",
    "  bus_remainders = [(bus, -i % bus) for i, bus in enumerate(buses)]  # Optionally \"if bus > 1\".\n",
    "\n",
    "  def merge_buses(bus1, bus2):\n",
    "    (b1, r1), (b2, r2) = bus1, bus2\n",
    "    # https://en.wikipedia.org/wiki/Chinese_remainder_theorem\n",
    "    _, x, y = extended_gcd(b1, b2)\n",
    "    return b1 * b2, (r1 * y * b2 + r2 * x * b1) % (b1 * b2)\n",
    "\n",
    "  _, r = functools.reduce(merge_buses, bus_remainders)\n",
    "  return r\n",
    "\n",
    "\n",
    "check_eq(day13a_part2(s1.splitlines()[1]), 1068781)\n",
    "check_eq(day13a_part2('17,x,13,19'), 3417)\n",
    "check_eq(day13a_part2('67,7,59,61'), 754018)\n",
    "check_eq(day13a_part2('67,x,7,59,61'), 779210)\n",
    "check_eq(day13a_part2('67,7,x,59,61'), 1261476)\n",
    "check_eq(day13a_part2('1789,37,47,1889'), 1202161486)\n",
    "puzzle.verify(2, day13a_part2)  # ~0 ms."
   ]
  },
  {
   "cell_type": "code",
   "execution_count": 78,
   "id": "ec5b97f7-a236-4b4e-aecc-2545284decba",
   "metadata": {
    "execution": {
     "iopub.execute_input": "2022-12-19T00:40:43.480962Z",
     "iopub.status.busy": "2022-12-19T00:40:43.480652Z",
     "iopub.status.idle": "2022-12-19T00:40:43.493584Z",
     "shell.execute_reply": "2022-12-19T00:40:43.492979Z",
     "shell.execute_reply.started": "2022-12-19T00:40:43.480946Z"
    },
    "tags": []
   },
   "outputs": [
    {
     "name": "stdout",
     "output_type": "stream",
     "text": [
      "(Part 2: 0.000 s)\n"
     ]
    }
   ],
   "source": [
    "def day13_part2(s):  # Using built-in modular inverses and general Chinese Remainder method.\n",
    "  s = s.splitlines()[-1]\n",
    "  buses = [int(e) for e in s.replace('x', '1').split(',')]\n",
    "  check_eq(np.lcm.reduce(buses), math.prod(buses))  # verify all coprime\n",
    "  remainders, moduli = zip(*[(-i % bus, bus) for i, bus in enumerate(buses)])  # Or \"if bus > 1\".\n",
    "\n",
    "  def solve_mod_congruences(values: Iterable[int], moduli: Iterable[int]) -> int:\n",
    "    \"\"\"Returns `x` satisfying `values[i] == x % moduli[i]`.\n",
    "\n",
    "    The Chinese Remainder Theorem shows the system has a unique solution if `moduli` are coprime.\n",
    "    See https://en.wikipedia.org/wiki/Modular_multiplicative_inverse#Applications .\n",
    "\n",
    "    Args:\n",
    "      values: Desired remainders with respect to a corresponding sequence of moduli.\n",
    "      moduli: Positive integers, which must be coprime.\n",
    "\n",
    "    >>> solve_mod_congruences([3, 6, 6], [5, 7, 11])\n",
    "    39\n",
    "    \"\"\"\n",
    "    values, moduli = tuple(values), tuple(moduli)\n",
    "    assert len(values) == len(moduli) > 0\n",
    "    mod_prod = math.prod(moduli)\n",
    "    other_mods = [mod_prod // mod for mod in moduli]\n",
    "    inverses = [pow(other_mod, -1, mod=mod) for other_mod, mod in zip(other_mods, moduli)]\n",
    "    return (\n",
    "        sum(\n",
    "            inverse * other_mod * value\n",
    "            for inverse, other_mod, value in zip(inverses, other_mods, values)\n",
    "        )\n",
    "        % mod_prod\n",
    "    )\n",
    "\n",
    "  return solve_mod_congruences(remainders, moduli)\n",
    "\n",
    "\n",
    "check_eq(day13_part2(s1.splitlines()[1]), 1068781)\n",
    "check_eq(day13_part2('17,x,13,19'), 3417)\n",
    "check_eq(day13_part2('67,7,59,61'), 754018)\n",
    "check_eq(day13_part2('67,x,7,59,61'), 779210)\n",
    "check_eq(day13_part2('67,7,x,59,61'), 1261476)\n",
    "check_eq(day13_part2('1789,37,47,1889'), 1202161486)\n",
    "puzzle.verify(2, day13_part2)  # ~0 ms."
   ]
  },
  {
   "cell_type": "markdown",
   "id": "892b2b03",
   "metadata": {},
   "source": [
    "<a name=\"day14\"></a>\n",
    "## Day 14: Write masked values to mem"
   ]
  },
  {
   "cell_type": "markdown",
   "id": "ab3e22a7",
   "metadata": {},
   "source": [
    "Process a sequence of instructions, each specifying either a bitmask (where each location contains `0`, `1`, or `X`) or the writing of a value to a memory address, and report the sum of the resulting memory contents.\n",
    "\n",
    "- Part 1: The bitmask is applied to the value written to memory, such that `0` and `1` replace the corresponding bit in the value and `X` leaves it unchanged.\n",
    "\n",
    "- Part 2: The bitmask is applied to the address used to write the value to memory, such that `1` replaces the corresponding bit in the address and `X` indicates a wildcard.  The value is written to all memory addresses satisfying the wildcard."
   ]
  },
  {
   "cell_type": "code",
   "execution_count": 79,
   "id": "87042e5b",
   "metadata": {
    "execution": {
     "iopub.execute_input": "2022-12-19T00:40:43.494343Z",
     "iopub.status.busy": "2022-12-19T00:40:43.494204Z",
     "iopub.status.idle": "2022-12-19T00:40:43.512131Z",
     "shell.execute_reply": "2022-12-19T00:40:43.511570Z",
     "shell.execute_reply.started": "2022-12-19T00:40:43.494331Z"
    }
   },
   "outputs": [
    {
     "data": {
      "text/markdown": [
       "For [day 14](https://adventofcode.com/2020/day/14), `puzzle.input` has 570 lines:"
      ],
      "text/plain": [
       "<IPython.core.display.Markdown object>"
      ]
     },
     "metadata": {},
     "output_type": "display_data"
    },
    {
     "name": "stdout",
     "output_type": "stream",
     "text": [
      "mask = 0111X10100100X1111X10010X000X1000001\n",
      "mem[50907] = 468673978\n",
      "mem[22295] = 3337449\n",
      "mem[58474] = 56418393\n",
      "mem[15362] = 243184\n",
      "mem[65089] = 110688658\n",
      "mask = 010X010XX110X01X01X10X001001011X110X\n",
      "mem[21952] = 950257\n",
      " ...\n",
      "mem[13666] = 52961\n",
      "mem[7377] = 134144120\n",
      "mem[58224] = 211536\n",
      "mem[36878] = 173058887\n"
     ]
    },
    {
     "data": {
      "text/markdown": [
       "The stored answers are: `{1: '9628746976360', 2: '4574598714592'}`"
      ],
      "text/plain": [
       "<IPython.core.display.Markdown object>"
      ]
     },
     "metadata": {},
     "output_type": "display_data"
    }
   ],
   "source": [
    "puzzle = advent.puzzle(day=14)"
   ]
  },
  {
   "cell_type": "code",
   "execution_count": 80,
   "id": "b4c2f4f8",
   "metadata": {
    "execution": {
     "iopub.execute_input": "2022-12-19T00:40:43.512997Z",
     "iopub.status.busy": "2022-12-19T00:40:43.512818Z",
     "iopub.status.idle": "2022-12-19T00:40:43.515522Z",
     "shell.execute_reply": "2022-12-19T00:40:43.514980Z",
     "shell.execute_reply.started": "2022-12-19T00:40:43.512985Z"
    }
   },
   "outputs": [],
   "source": [
    "s1 = \"\"\"\\\n",
    "mask = XXXXXXXXXXXXXXXXXXXXXXXXXXXXX1XXXX0X\n",
    "mem[8] = 11\n",
    "mem[7] = 101\n",
    "mem[8] = 0\n",
    "\"\"\""
   ]
  },
  {
   "cell_type": "code",
   "execution_count": 81,
   "id": "19c010a9",
   "metadata": {
    "execution": {
     "iopub.execute_input": "2022-12-19T00:40:43.516656Z",
     "iopub.status.busy": "2022-12-19T00:40:43.516312Z",
     "iopub.status.idle": "2022-12-19T00:40:43.524783Z",
     "shell.execute_reply": "2022-12-19T00:40:43.524199Z",
     "shell.execute_reply.started": "2022-12-19T00:40:43.516638Z"
    }
   },
   "outputs": [],
   "source": [
    "s2 = \"\"\"\\\n",
    "mask = 000000000000000000000000000000X1001X\n",
    "mem[42] = 100\n",
    "mask = 00000000000000000000000000000000X0XX\n",
    "mem[26] = 1\n",
    "\"\"\""
   ]
  },
  {
   "cell_type": "code",
   "execution_count": 82,
   "id": "0140032e",
   "metadata": {
    "execution": {
     "iopub.execute_input": "2022-12-19T00:40:43.525872Z",
     "iopub.status.busy": "2022-12-19T00:40:43.525413Z",
     "iopub.status.idle": "2022-12-19T00:40:43.546499Z",
     "shell.execute_reply": "2022-12-19T00:40:43.545848Z",
     "shell.execute_reply.started": "2022-12-19T00:40:43.525859Z"
    }
   },
   "outputs": [
    {
     "name": "stdout",
     "output_type": "stream",
     "text": [
      "(Part 1: 0.001 s)\n",
      "(Part 2: 0.010 s)\n"
     ]
    }
   ],
   "source": [
    "def day14(s, *, part2=False):\n",
    "  mem = {}\n",
    "  extract_0 = str.maketrans('01X', '100')\n",
    "  extract_1 = str.maketrans('01X', '010')\n",
    "  extract_x = str.maketrans('01X', '001')\n",
    "  for line in s.splitlines():\n",
    "    if line.startswith('mask'):\n",
    "      mask = line.split(' = ')[1]\n",
    "      if not part2:\n",
    "        mask_force_0 = int(mask.translate(extract_0), base=2)\n",
    "        mask_force_1 = int(mask.translate(extract_1), base=2)\n",
    "      else:\n",
    "        mask_force_1 = int(mask.translate(extract_1), base=2)\n",
    "        mask_not_x = ~int(mask.translate(extract_x), base=2)\n",
    "        offsets = [0]\n",
    "        for wildcard in (1 << i for i in range(36) if mask[35 - i] == 'X'):\n",
    "          offsets += [offset + wildcard for offset in offsets]\n",
    "    else:\n",
    "      address, value = map(int, hh.re_groups(r'^mem\\[(\\d+)\\] = (\\d+)$', line))\n",
    "      if not part2:\n",
    "        mem[address] = (value | mask_force_1) & ~mask_force_0\n",
    "      else:\n",
    "        address = (address & mask_not_x) | mask_force_1\n",
    "        for offset in offsets:\n",
    "          mem[address + offset] = value\n",
    "  return sum(mem.values())\n",
    "\n",
    "\n",
    "check_eq(day14(s1), 165)\n",
    "puzzle.verify(1, day14)  # ~1 ms.\n",
    "\n",
    "day14_part2 = functools.partial(day14, part2=True)\n",
    "check_eq(day14_part2(s2), 208)\n",
    "puzzle.verify(2, day14_part2)  # ~22 ms."
   ]
  },
  {
   "cell_type": "markdown",
   "id": "8064b6a2",
   "metadata": {},
   "source": [
    "<a name=\"day15\"></a>\n",
    "## Day 15: Rounds of spoken numbers"
   ]
  },
  {
   "cell_type": "markdown",
   "id": "3bcb3e45",
   "metadata": {},
   "source": [
    "Given an initial sequence of numbers indexed starting at `1`, continue the sequence as follows.\n",
    "\n",
    "The number at index `i` is either\n",
    "  * `0` if the number at index `i - 1` was not previously seen, or\n",
    "  * `i - 1 - j` if the number at index `i - 1` was previously seen at index `j`.\n",
    "\n",
    "- Part 1: Report the number at index `2020`.\n",
    "\n",
    "- Part 2: Report the number at index `30_000_000`."
   ]
  },
  {
   "cell_type": "code",
   "execution_count": 83,
   "id": "c1dd6ea8",
   "metadata": {
    "execution": {
     "iopub.execute_input": "2022-12-19T00:40:43.547737Z",
     "iopub.status.busy": "2022-12-19T00:40:43.547396Z",
     "iopub.status.idle": "2022-12-19T00:40:43.564452Z",
     "shell.execute_reply": "2022-12-19T00:40:43.563904Z",
     "shell.execute_reply.started": "2022-12-19T00:40:43.547722Z"
    },
    "tags": []
   },
   "outputs": [
    {
     "data": {
      "text/markdown": [
       "For [day 15](https://adventofcode.com/2020/day/15), `puzzle.input` has a single line of 16 characters:"
      ],
      "text/plain": [
       "<IPython.core.display.Markdown object>"
      ]
     },
     "metadata": {},
     "output_type": "display_data"
    },
    {
     "name": "stdout",
     "output_type": "stream",
     "text": [
      "9,12,1,4,17,0,18\n"
     ]
    },
    {
     "data": {
      "text/markdown": [
       "The stored answers are: `{1: '610', 2: '1407'}`"
      ],
      "text/plain": [
       "<IPython.core.display.Markdown object>"
      ]
     },
     "metadata": {},
     "output_type": "display_data"
    }
   ],
   "source": [
    "puzzle = advent.puzzle(day=15)"
   ]
  },
  {
   "cell_type": "code",
   "execution_count": 84,
   "id": "f6aeec38",
   "metadata": {
    "execution": {
     "iopub.execute_input": "2022-12-19T00:40:43.565640Z",
     "iopub.status.busy": "2022-12-19T00:40:43.565309Z",
     "iopub.status.idle": "2022-12-19T00:40:43.568218Z",
     "shell.execute_reply": "2022-12-19T00:40:43.567699Z",
     "shell.execute_reply.started": "2022-12-19T00:40:43.565625Z"
    },
    "tags": []
   },
   "outputs": [],
   "source": [
    "s1 = '0,3,6'"
   ]
  },
  {
   "cell_type": "code",
   "execution_count": 85,
   "id": "f8d10f40",
   "metadata": {
    "execution": {
     "iopub.execute_input": "2022-12-19T00:40:43.569112Z",
     "iopub.status.busy": "2022-12-19T00:40:43.568981Z",
     "iopub.status.idle": "2022-12-19T00:40:43.580242Z",
     "shell.execute_reply": "2022-12-19T00:40:43.579711Z",
     "shell.execute_reply.started": "2022-12-19T00:40:43.569101Z"
    },
    "tags": []
   },
   "outputs": [
    {
     "name": "stdout",
     "output_type": "stream",
     "text": [
      "(Part 1: 0.000 s)\n"
     ]
    }
   ],
   "source": [
    "def day15a(s, *, num_turns=2020):  # Slow, using dict().\n",
    "  initial_sequence = tuple(map(int, s.split(',')))\n",
    "\n",
    "  def generate_sequence(initial_sequence):\n",
    "    last_turn: dict[int, int] = {}\n",
    "    for turn, number in enumerate(initial_sequence):\n",
    "      prev_turn = last_turn.get(number, -1)\n",
    "      last_turn[number] = turn\n",
    "      yield number\n",
    "\n",
    "    for turn in itertools.count(len(initial_sequence)):\n",
    "      number = 0 if prev_turn < 0 else turn - 1 - prev_turn\n",
    "      prev_turn = last_turn.get(number, -1)\n",
    "      last_turn[number] = turn\n",
    "      yield number\n",
    "\n",
    "  return next(itertools.islice(generate_sequence(initial_sequence), num_turns - 1, None))\n",
    "\n",
    "\n",
    "check_eq(day15a(s1, num_turns=10), 0)\n",
    "check_eq(day15a(s1), 436)\n",
    "check_eq(day15a('1,3,2'), 1)\n",
    "check_eq(day15a('2,1,3'), 10)\n",
    "check_eq(day15a('1,2,3'), 27)\n",
    "check_eq(day15a('2,3,1'), 78)\n",
    "check_eq(day15a('3,2,1'), 438)\n",
    "check_eq(day15a('3,1,2'), 1836)\n",
    "puzzle.verify(1, day15a)  # ~1 ms.\n",
    "\n",
    "day15a_part2 = functools.partial(day15a, num_turns=30_000_000)\n",
    "# puzzle.verify(2, day15a_part2)  # Slow; ~15 s."
   ]
  },
  {
   "cell_type": "code",
   "execution_count": 86,
   "id": "b9b9453a",
   "metadata": {
    "execution": {
     "iopub.execute_input": "2022-12-19T00:40:43.581040Z",
     "iopub.status.busy": "2022-12-19T00:40:43.580906Z",
     "iopub.status.idle": "2022-12-19T00:40:43.593713Z",
     "shell.execute_reply": "2022-12-19T00:40:43.593118Z",
     "shell.execute_reply.started": "2022-12-19T00:40:43.581028Z"
    },
    "tags": []
   },
   "outputs": [
    {
     "name": "stdout",
     "output_type": "stream",
     "text": [
      "(Part 1: 0.000 s)\n"
     ]
    }
   ],
   "source": [
    "def day15b(s, *, num_turns=2020):  # Faster, using List.\n",
    "  def func(initial_sequence, num_turns):\n",
    "    last_turn = [-1] * num_turns\n",
    "    for turn in range(min(num_turns, len(initial_sequence))):\n",
    "      number = initial_sequence[turn]\n",
    "      prev_turn = last_turn[number]\n",
    "      last_turn[number] = turn\n",
    "\n",
    "    for turn in range(len(initial_sequence), num_turns):\n",
    "      number = 0 if prev_turn < 0 else turn - 1 - prev_turn\n",
    "      prev_turn = last_turn[number]\n",
    "      last_turn[number] = turn\n",
    "\n",
    "    return number\n",
    "\n",
    "  initial_sequence = np.array(tuple(map(int, s.split(','))), np.int32)\n",
    "  return func(initial_sequence, num_turns)\n",
    "\n",
    "\n",
    "check_eq(day15b(s1), 436)\n",
    "puzzle.verify(1, day15b)  # ~1 ms.\n",
    "\n",
    "if not using_numba:\n",
    "  day15b_part2 = functools.partial(day15b, num_turns=30_000_000)\n",
    "  # check_eq(day15b_part2(s1), 175594)  # Slow; ~9 s.\n",
    "  puzzle.verify(2, day15b_part2)  # Slow; ~10 s."
   ]
  },
  {
   "cell_type": "code",
   "execution_count": 87,
   "id": "6c302dea",
   "metadata": {
    "execution": {
     "iopub.execute_input": "2022-12-19T00:40:43.594783Z",
     "iopub.status.busy": "2022-12-19T00:40:43.594422Z",
     "iopub.status.idle": "2022-12-19T00:40:44.635519Z",
     "shell.execute_reply": "2022-12-19T00:40:44.634788Z",
     "shell.execute_reply.started": "2022-12-19T00:40:43.594767Z"
    },
    "tags": []
   },
   "outputs": [
    {
     "name": "stdout",
     "output_type": "stream",
     "text": [
      "(Part 1: 0.000 s)\n",
      "(Part 2: 0.375 s)\n"
     ]
    }
   ],
   "source": [
    "# Faster, using np.array and numba.\n",
    "@numba.njit\n",
    "def day15_func(initial_sequence, num_turns):\n",
    "  last_turn = np.full(num_turns, -1, np.int32)\n",
    "  for turn in range(min(num_turns, len(initial_sequence))):\n",
    "    number = initial_sequence[turn]\n",
    "    prev_turn = last_turn[number]\n",
    "    last_turn[number] = turn\n",
    "\n",
    "  for turn in range(len(initial_sequence), num_turns):\n",
    "    number = 0 if prev_turn < 0 else turn - 1 - prev_turn\n",
    "    prev_turn = last_turn[number]\n",
    "    last_turn[number] = turn\n",
    "\n",
    "  return number\n",
    "\n",
    "\n",
    "def day15(s, *, num_turns=2020):\n",
    "  initial_sequence = np.array(tuple(map(int, s.split(','))), np.int32)\n",
    "  return day15_func(initial_sequence, num_turns)\n",
    "\n",
    "\n",
    "check_eq(day15(s1), 436)  # ~1 s for numba compilation.\n",
    "puzzle.verify(1, day15)  # ~4 ms.\n",
    "\n",
    "if using_numba:\n",
    "  day15_part2 = functools.partial(day15, num_turns=30_000_000)\n",
    "  check_eq(day15_part2(s1), 175594)  # ~1 s for numba compilation.\n",
    "  if 0:\n",
    "    check_eq(day15_part2('1,3,2'), 2578)\n",
    "    check_eq(day15_part2('2,1,3'), 3544142)\n",
    "    check_eq(day15_part2('1,2,3'), 261214)\n",
    "    check_eq(day15_part2('2,3,1'), 6895259)\n",
    "    check_eq(day15_part2('3,2,1'), 18)\n",
    "    check_eq(day15_part2('3,1,2'), 362)\n",
    "  puzzle.verify(2, day15_part2)  # ~650 ms with numba, ~110 s without numba.\n",
    "  # (Without numba, accessing individual elements is much faster within\n",
    "  # a Python list than within an np.array.)"
   ]
  },
  {
   "cell_type": "markdown",
   "id": "a2701515",
   "metadata": {},
   "source": [
    "<a name=\"day16\"></a>\n",
    "## Day 16: Match ticket fields and rules"
   ]
  },
  {
   "cell_type": "markdown",
   "id": "97a30142",
   "metadata": {},
   "source": [
    "Given (1) a set of fields with names and rules on possible value ranges, (2) my ticket with unlabeled fields, and (3) a set of other tickets with unlabeled fields:\n",
    "\n",
    "- Part 1: Report the number of invalid other tickets, which are those containing a field value that does not satisfy any field rule.\n",
    "\n",
    "- Part 2: Considering the valid other tickets, determine a labeling of the ticket fields that is compatible with the rules.  Report the product of the 6 field values on my ticket whose names start with `departure`."
   ]
  },
  {
   "cell_type": "code",
   "execution_count": 73,
   "id": "84064fb0",
   "metadata": {
    "execution": {
     "iopub.execute_input": "2022-12-20T18:41:18.923396Z",
     "iopub.status.busy": "2022-12-20T18:41:18.923033Z",
     "iopub.status.idle": "2022-12-20T18:41:18.934021Z",
     "shell.execute_reply": "2022-12-20T18:41:18.933421Z",
     "shell.execute_reply.started": "2022-12-20T18:41:18.923380Z"
    },
    "tags": []
   },
   "outputs": [
    {
     "data": {
      "text/markdown": [
       "For [day 16](https://adventofcode.com/2020/day/16), `puzzle.input` has 268 lines:"
      ],
      "text/plain": [
       "<IPython.core.display.Markdown object>"
      ]
     },
     "metadata": {},
     "output_type": "display_data"
    },
    {
     "name": "stdout",
     "output_type": "stream",
     "text": [
      "departure location: 33-679 or 691-971\n",
      "departure station: 48-646 or 671-966\n",
      "departure platform: 37-601 or 619-950\n",
      "departure track: 41-863 or 875-973\n",
      "departure date: 37-145 or 168-965\n",
      "departure time: 26-246 or 257-972\n",
      "arrival location: 30-542 or 556-960\n",
      "arrival station: 30-75 or 89-954\n",
      " ...\n",
      "845,453,939,349,884,940,0,621,933,188,73,204,440,918,207,671,629,735,487,627\n",
      "879,694,125,501,580,274,451,885,834,397,146,104,185,173,528,717,590,412,350,936\n",
      "944,91,450,631,262,501,196,401,199,946,105,236,634,765,66,385,582,437,262,581\n",
      "924,594,156,702,128,858,133,695,140,486,399,534,115,627,748,560,518,700,883,206\n"
     ]
    },
    {
     "data": {
      "text/markdown": [
       "The stored answers are: `{1: '29878', 2: '855438643439'}`"
      ],
      "text/plain": [
       "<IPython.core.display.Markdown object>"
      ]
     },
     "metadata": {},
     "output_type": "display_data"
    }
   ],
   "source": [
    "puzzle = advent.puzzle(day=16)"
   ]
  },
  {
   "cell_type": "code",
   "execution_count": 74,
   "id": "96114cdf",
   "metadata": {
    "execution": {
     "iopub.execute_input": "2022-12-20T18:41:21.009250Z",
     "iopub.status.busy": "2022-12-20T18:41:21.008701Z",
     "iopub.status.idle": "2022-12-20T18:41:21.012224Z",
     "shell.execute_reply": "2022-12-20T18:41:21.011480Z",
     "shell.execute_reply.started": "2022-12-20T18:41:21.009232Z"
    },
    "tags": []
   },
   "outputs": [],
   "source": [
    "s1 = \"\"\"\\\n",
    "class: 1-3 or 5-7\n",
    "row: 6-11 or 33-44\n",
    "seat: 13-40 or 45-50\n",
    "\n",
    "your ticket:\n",
    "7,1,14\n",
    "\n",
    "nearby tickets:\n",
    "7,3,47\n",
    "40,4,50\n",
    "55,2,20\n",
    "38,6,12\n",
    "\"\"\"\n",
    "\n",
    "s2 = \"\"\"\\\n",
    "class: 0-1 or 4-19\n",
    "row: 0-5 or 8-19\n",
    "seat: 0-13 or 16-19\n",
    "\n",
    "your ticket:\n",
    "11,12,13\n",
    "\n",
    "nearby tickets:\n",
    "3,9,18\n",
    "15,1,5\n",
    "5,14,9\n",
    "\"\"\""
   ]
  },
  {
   "cell_type": "code",
   "execution_count": 76,
   "id": "b75a6436",
   "metadata": {
    "execution": {
     "iopub.execute_input": "2022-12-20T18:41:27.276842Z",
     "iopub.status.busy": "2022-12-20T18:41:27.276435Z",
     "iopub.status.idle": "2022-12-20T18:41:27.309274Z",
     "shell.execute_reply": "2022-12-20T18:41:27.308311Z",
     "shell.execute_reply.started": "2022-12-20T18:41:27.276823Z"
    },
    "tags": []
   },
   "outputs": [
    {
     "name": "stdout",
     "output_type": "stream",
     "text": [
      "(Part 1: 0.002 s)\n",
      "(Part 2: 0.021 s)\n"
     ]
    }
   ],
   "source": [
    "def day16(s, *, part2=False):\n",
    "  def read_rules_and_tickets(s):\n",
    "    s_rules, s_my_ticket, s_nearby = s.split('\\n\\n')\n",
    "\n",
    "    def read_rules():\n",
    "      for line in s_rules.splitlines():\n",
    "        name, ranges = line.split(': ')\n",
    "        ranges = ranges.split(' or ')\n",
    "        yield name, [tuple(map(int, range.split('-'))) for range in ranges]\n",
    "\n",
    "    (line,) = s_my_ticket.splitlines()[1:]\n",
    "    my_ticket = list(map(int, line.split(',')))\n",
    "\n",
    "    def read_tickets():\n",
    "      for line in s_nearby.splitlines()[1:]:\n",
    "        fields = list(map(int, line.split(',')))\n",
    "        yield fields\n",
    "\n",
    "    return read_rules, my_ticket, read_tickets\n",
    "\n",
    "  def value_ok_for_some_rule(value, rules):\n",
    "    return any(range[0] <= value <= range[1] for ranges in rules.values() for range in ranges)\n",
    "\n",
    "  read_rules, my_ticket, read_tickets = read_rules_and_tickets(s)\n",
    "  rules = dict(read_rules())\n",
    "\n",
    "  if not part2:\n",
    "    return sum(\n",
    "        value\n",
    "        for fields in read_tickets()\n",
    "        for value in fields\n",
    "        if not value_ok_for_some_rule(value, rules)\n",
    "    )\n",
    "\n",
    "  valid_tickets = [\n",
    "      fields\n",
    "      for fields in read_tickets()\n",
    "      if all(value_ok_for_some_rule(value, rules) for value in fields)\n",
    "  ]\n",
    "  num_rules, num_fields = len(rules), len(valid_tickets[0])\n",
    "  check_eq(num_rules, num_fields)\n",
    "\n",
    "  def is_compatible(rule, field_index):\n",
    "    ranges = rules[rule]\n",
    "    return all(\n",
    "        any(range[0] <= ticket[field_index] <= range[1] for range in ranges)\n",
    "        for ticket in valid_tickets\n",
    "    )\n",
    "\n",
    "  grid = np.empty((num_rules, num_fields), bool)\n",
    "  # Computational bottleneck; could let rules.values() be array and use numba.\n",
    "  for rule_index, rule in enumerate(rules):\n",
    "    for field_index in range(num_fields):\n",
    "      grid[rule_index, field_index] = is_compatible(rule, field_index)\n",
    "\n",
    "  list_rules = list(rules)\n",
    "  column_of_rule = {}\n",
    "  row_sums = grid.sum(axis=1)\n",
    "  while row_sums.any():\n",
    "    row = np.nonzero(row_sums == 1)[0][0]\n",
    "    ((col,),) = np.nonzero(grid[row] == 1)\n",
    "    rule = list_rules[row]\n",
    "    column_of_rule[rule] = col\n",
    "    row_sums -= grid[:, col]\n",
    "    grid[:, col] = 0\n",
    "  values = [my_ticket[column_of_rule[rule]] for rule in rules if rule.startswith('departure')]\n",
    "  check_eq(len(values), 6)\n",
    "  return math.prod(values)\n",
    "\n",
    "\n",
    "check_eq(day16(s1), 71)\n",
    "puzzle.verify(1, day16)  # ~6 ms.\n",
    "\n",
    "day16_part2 = functools.partial(day16, part2=True)\n",
    "puzzle.verify(2, day16_part2)  # ~52 ms."
   ]
  },
  {
   "cell_type": "markdown",
   "id": "43c600ab",
   "metadata": {},
   "source": [
    "<a name=\"day17\"></a>\n",
    "## Day 17: Game of life in 3D and 4D"
   ]
  },
  {
   "cell_type": "markdown",
   "id": "b32214f2",
   "metadata": {},
   "source": [
    "Given an initial 2D grid of cell states, simulate a cellular automaton on a higher-dimensional grid.  An inactive grid cell becomes active if exactly 3 of its neighbors is active, and an active grid cell becomes inactive unless 2 or 3 of its neighbors is active.  (Each cell has 26 neighbors in 3D and 80 neighbors in 4D.)\n",
    "\n",
    "- Part 1: Run the cellular automaton in 3D for 6 generations and report the number of active cells.\n",
    "\n",
    "- Part 2: Do the same in 4D."
   ]
  },
  {
   "cell_type": "code",
   "execution_count": 91,
   "id": "cb410087",
   "metadata": {
    "execution": {
     "iopub.execute_input": "2022-12-19T00:40:44.686482Z",
     "iopub.status.busy": "2022-12-19T00:40:44.686178Z",
     "iopub.status.idle": "2022-12-19T00:40:44.707832Z",
     "shell.execute_reply": "2022-12-19T00:40:44.707251Z",
     "shell.execute_reply.started": "2022-12-19T00:40:44.686470Z"
    }
   },
   "outputs": [
    {
     "data": {
      "text/markdown": [
       "For [day 17](https://adventofcode.com/2020/day/17), `puzzle.input` has 8 lines:"
      ],
      "text/plain": [
       "<IPython.core.display.Markdown object>"
      ]
     },
     "metadata": {},
     "output_type": "display_data"
    },
    {
     "name": "stdout",
     "output_type": "stream",
     "text": [
      ".......#\n",
      "....#...\n",
      "...###.#\n",
      "#...###.\n",
      "....##..\n",
      "##.#..#.\n",
      "###.#.#.\n",
      "....#...\n"
     ]
    },
    {
     "data": {
      "text/markdown": [
       "The stored answers are: `{1: '232', 2: '1620'}`"
      ],
      "text/plain": [
       "<IPython.core.display.Markdown object>"
      ]
     },
     "metadata": {},
     "output_type": "display_data"
    }
   ],
   "source": [
    "puzzle = advent.puzzle(day=17)"
   ]
  },
  {
   "cell_type": "code",
   "execution_count": 92,
   "id": "88de6f15",
   "metadata": {
    "execution": {
     "iopub.execute_input": "2022-12-19T00:40:44.708787Z",
     "iopub.status.busy": "2022-12-19T00:40:44.708518Z",
     "iopub.status.idle": "2022-12-19T00:40:44.711659Z",
     "shell.execute_reply": "2022-12-19T00:40:44.711073Z",
     "shell.execute_reply.started": "2022-12-19T00:40:44.708770Z"
    }
   },
   "outputs": [],
   "source": [
    "s1 = \"\"\"\\\n",
    ".#.\n",
    "..#\n",
    "###\n",
    "\"\"\""
   ]
  },
  {
   "cell_type": "code",
   "execution_count": 93,
   "id": "3225771d",
   "metadata": {
    "execution": {
     "iopub.execute_input": "2022-12-19T00:40:44.712632Z",
     "iopub.status.busy": "2022-12-19T00:40:44.712337Z",
     "iopub.status.idle": "2022-12-19T00:40:44.721093Z",
     "shell.execute_reply": "2022-12-19T00:40:44.720491Z",
     "shell.execute_reply.started": "2022-12-19T00:40:44.712619Z"
    }
   },
   "outputs": [],
   "source": [
    "# Both of the solutions below work in arbitrary dimension!"
   ]
  },
  {
   "cell_type": "code",
   "execution_count": 94,
   "id": "b99d8849",
   "metadata": {
    "execution": {
     "iopub.execute_input": "2022-12-19T00:40:44.722304Z",
     "iopub.status.busy": "2022-12-19T00:40:44.721930Z",
     "iopub.status.idle": "2022-12-19T00:40:44.814282Z",
     "shell.execute_reply": "2022-12-19T00:40:44.813652Z",
     "shell.execute_reply.started": "2022-12-19T00:40:44.722283Z"
    }
   },
   "outputs": [
    {
     "name": "stdout",
     "output_type": "stream",
     "text": [
      "(Part 1: 0.052 s)\n"
     ]
    }
   ],
   "source": [
    "def day17a(s, *, num_cycles=6, dim=3):  # Slower.\n",
    "  lines = s.splitlines()\n",
    "  indices = {\n",
    "      (0,) * (dim - 2) + (y, x)\n",
    "      for y, line in enumerate(lines)\n",
    "      for x, ch in enumerate(line)\n",
    "      if ch == '#'\n",
    "  }\n",
    "  offsets = set(itertools.product((-1, 0, 1), repeat=dim)) - {(0,) * dim}\n",
    "\n",
    "  def neighbors(index):\n",
    "    for offset in offsets:\n",
    "      yield tuple(map(sum, zip(index, offset)))\n",
    "\n",
    "  def count_neighbors(index):\n",
    "    return sum(neighbor in indices for neighbor in neighbors(index))\n",
    "\n",
    "  for _ in range(num_cycles):\n",
    "    survivors = {index for index in indices if 2 <= count_neighbors(index) <= 3}\n",
    "    adjacents = {neighbor for index in indices for neighbor in neighbors(index)}\n",
    "    births = {index for index in adjacents if count_neighbors(index) == 3}\n",
    "    indices = survivors | births\n",
    "\n",
    "  return len(indices)\n",
    "\n",
    "\n",
    "check_eq(day17a(s1), 112)\n",
    "puzzle.verify(1, day17a)  # ~150 ms."
   ]
  },
  {
   "cell_type": "code",
   "execution_count": 95,
   "id": "2856e455",
   "metadata": {
    "execution": {
     "iopub.execute_input": "2022-12-19T00:40:44.815212Z",
     "iopub.status.busy": "2022-12-19T00:40:44.814937Z",
     "iopub.status.idle": "2022-12-19T00:40:44.915807Z",
     "shell.execute_reply": "2022-12-19T00:40:44.914969Z",
     "shell.execute_reply.started": "2022-12-19T00:40:44.815200Z"
    }
   },
   "outputs": [
    {
     "name": "stdout",
     "output_type": "stream",
     "text": [
      "(Part 1: 0.003 s)\n",
      "(Part 2: 0.057 s)\n"
     ]
    }
   ],
   "source": [
    "def day17(s, *, num_cycles=6, dim=3):  # Faster.\n",
    "  lines = s.splitlines()\n",
    "  indices = {\n",
    "      (0,) * (dim - 2) + (y, x)\n",
    "      for y, line in enumerate(lines)\n",
    "      for x, ch in enumerate(line)\n",
    "      if ch == '#'\n",
    "  }\n",
    "  offsets = set(itertools.product((-1, 0, 1), repeat=dim)) - {(0,) * dim}\n",
    "\n",
    "  def neighbors(index):\n",
    "    i = index\n",
    "    if dim == 3:  # faster\n",
    "      for o in offsets:\n",
    "        yield i[0] + o[0], i[1] + o[1], i[2] + o[2]\n",
    "    elif dim == 4:  # faster\n",
    "      for o in offsets:\n",
    "        yield i[0] + o[0], i[1] + o[1], i[2] + o[2], i[3] + o[3]\n",
    "    else:\n",
    "      for o in offsets:\n",
    "        yield tuple(map(sum, zip(i, o)))\n",
    "\n",
    "  for _ in range(num_cycles):\n",
    "    # Adapted from collections.Counter() algorithm in\n",
    "    # https://github.com/norvig/pytudes/blob/master/ipynb/Advent-2020.ipynb\n",
    "    neighbor_counts = collections.Counter(\n",
    "        more_itertools.flatten(neighbors(index) for index in indices)\n",
    "    )\n",
    "    indices = {\n",
    "        index\n",
    "        for index, count in neighbor_counts.items()\n",
    "        if count == 3 or (count == 2 and index in indices)\n",
    "    }\n",
    "\n",
    "  return len(indices)\n",
    "\n",
    "\n",
    "check_eq(day17(s1), 112)\n",
    "puzzle.verify(1, day17)  # ~8 ms.\n",
    "\n",
    "day17_part2 = functools.partial(day17, dim=4)\n",
    "check_eq(day17_part2(s1), 848)\n",
    "puzzle.verify(2, day17_part2)  # ~200 ms."
   ]
  },
  {
   "cell_type": "code",
   "execution_count": 96,
   "id": "e41a2716",
   "metadata": {
    "execution": {
     "iopub.execute_input": "2022-12-19T00:40:44.916856Z",
     "iopub.status.busy": "2022-12-19T00:40:44.916565Z",
     "iopub.status.idle": "2022-12-19T00:40:44.920255Z",
     "shell.execute_reply": "2022-12-19T00:40:44.919637Z",
     "shell.execute_reply.started": "2022-12-19T00:40:44.916843Z"
    }
   },
   "outputs": [],
   "source": [
    "def day17_show_num_active_in_each_generation_for_2d_3d_4d():\n",
    "  for dim in range(2, 5):\n",
    "    print(dim, [day17(puzzle.input, num_cycles=num_cycles, dim=dim) for num_cycles in range(6)])\n",
    "\n",
    "\n",
    "if 0:\n",
    "  day17_show_num_active_in_each_generation_for_2d_3d_4d()"
   ]
  },
  {
   "cell_type": "markdown",
   "id": "7a3cae42",
   "metadata": {},
   "source": [
    "<a name=\"day18\"></a>\n",
    "## Day 18: Parsing math expression"
   ]
  },
  {
   "cell_type": "markdown",
   "id": "445d47c6",
   "metadata": {},
   "source": [
    "Given a list of mathematical expressions with additions, multiplications, and parentheses, evaluate each expression and report the sum of resulting values.\n",
    "\n",
    "- Part 1: Operators `+` and `*` have equal precedence and are applied left-to-right.\n",
    "\n",
    "- Part 2: Operator `+` has higher precedence than `*` (which is unusual)."
   ]
  },
  {
   "cell_type": "code",
   "execution_count": 97,
   "id": "3cd7a029",
   "metadata": {
    "execution": {
     "iopub.execute_input": "2022-12-19T00:40:44.921203Z",
     "iopub.status.busy": "2022-12-19T00:40:44.920911Z",
     "iopub.status.idle": "2022-12-19T00:40:44.937884Z",
     "shell.execute_reply": "2022-12-19T00:40:44.937311Z",
     "shell.execute_reply.started": "2022-12-19T00:40:44.921189Z"
    }
   },
   "outputs": [
    {
     "data": {
      "text/markdown": [
       "For [day 18](https://adventofcode.com/2020/day/18), `puzzle.input` has 380 lines:"
      ],
      "text/plain": [
       "<IPython.core.display.Markdown object>"
      ]
     },
     "metadata": {},
     "output_type": "display_data"
    },
    {
     "name": "stdout",
     "output_type": "stream",
     "text": [
      "7 + (9 * 8 + 5 + 5 * (3 * 4 * 7 + 6 * 4)) * ((3 * 6 + 3 * 4 * 7 * 4) + 4 * 3 * 5 + 5 * (5 * 6 + 7)) * 2 + 6 * 4\n",
      "9 * 4 * ((9 * 8 + 9 + 2 + 9) + 2 * 9 + 2 + 2) * 5 * 6\n",
      "3 * ((9 * 3 * 8 * 6 * 6 * 7) + 8) * 2 * 9 + 4 * 8\n",
      "(3 + 4 + 4 * 4 + 9) + (7 + 6 + 2 * 8) * 9 + 7 * 8\n",
      "9 + 6 + 6 + 9 * 9 * 5\n",
      "(3 * 5 + (4 + 3 * 7 * 8) + 7 + 8 + 2) * 8 * (3 * 4 * 8) * ((4 + 5 * 2) * 7)\n",
      "6 + (5 + 8 * (6 * 8 * 9 + 9 + 8 * 9) * 4 + (5 * 9)) * 2 + 2\n",
      "(6 + 8 + (6 * 6 + 2) * 6 * (7 + 7 + 8 + 9)) * 3 + 8 + (6 * (8 + 8 + 9)) + 2\n",
      " ...\n",
      "5 * 8 + (7 + 2 + 6) * (8 + 2 + 8 + 4 + 9) + (5 * 6 * 6 * 3) + 8\n",
      "6 + (7 * 4 + 4 * 7 + 3 * 7) + 9 + 5 * 7 * 5\n",
      "3 + 2 + 8 + (4 + 9 * 4 * 2 + (9 * 9 + 9 + 5) * 5) + 6\n",
      "3 * 9 * 4 * (5 * 4 * (8 + 3))\n"
     ]
    },
    {
     "data": {
      "text/markdown": [
       "The stored answers are: `{1: '4940631886147', 2: '283582817678281'}`"
      ],
      "text/plain": [
       "<IPython.core.display.Markdown object>"
      ]
     },
     "metadata": {},
     "output_type": "display_data"
    }
   ],
   "source": [
    "puzzle = advent.puzzle(day=18)"
   ]
  },
  {
   "cell_type": "code",
   "execution_count": 98,
   "id": "eb7a2253",
   "metadata": {
    "execution": {
     "iopub.execute_input": "2022-12-19T00:40:44.938761Z",
     "iopub.status.busy": "2022-12-19T00:40:44.938617Z",
     "iopub.status.idle": "2022-12-19T00:40:44.951249Z",
     "shell.execute_reply": "2022-12-19T00:40:44.950601Z",
     "shell.execute_reply.started": "2022-12-19T00:40:44.938750Z"
    }
   },
   "outputs": [
    {
     "name": "stdout",
     "output_type": "stream",
     "text": [
      "(Part 1: 0.003 s)\n",
      "(Part 2: 0.003 s)\n"
     ]
    }
   ],
   "source": [
    "def day18a(strings, *, part2=False):  # Slower, more readable.\n",
    "  def evaluate_line(s):\n",
    "    def parse_term(i):\n",
    "      if s[i] == '(':\n",
    "        value, i = parse_sequence(i + 1)\n",
    "        check_eq(s[i], ')')\n",
    "        return value, i + 1\n",
    "      if s[i].isdigit():\n",
    "        value = int(s[i])\n",
    "        return value, i + 1\n",
    "      raise AssertionError\n",
    "\n",
    "    def parse_sequence(i):\n",
    "      value, i = parse_term(i)\n",
    "      while i < len(s) and s[i] != ')':\n",
    "        check_eq(s[i], ' ')\n",
    "        check_eq(s[i + 2], ' ')\n",
    "        if s[i + 1] == '+':\n",
    "          value2, i = parse_term(i + 3)\n",
    "          value += value2\n",
    "        elif s[i + 1] == '*':\n",
    "          value2, i = (parse_sequence if part2 else parse_term)(i + 3)\n",
    "          value *= value2\n",
    "        else:\n",
    "          raise AssertionError\n",
    "      return value, i\n",
    "\n",
    "    value, i = parse_sequence(0)\n",
    "    check_eq(i, len(s))\n",
    "    return value\n",
    "\n",
    "  return sum(evaluate_line(s) for s in strings.splitlines())\n",
    "\n",
    "\n",
    "puzzle.verify(1, day18a)  # ~50 ms.\n",
    "\n",
    "day18a_part2 = functools.partial(day18a, part2=True)\n",
    "puzzle.verify(2, day18a_part2)  # ~55 ms."
   ]
  },
  {
   "cell_type": "code",
   "execution_count": 99,
   "id": "b20492b9",
   "metadata": {
    "execution": {
     "iopub.execute_input": "2022-12-19T00:40:44.952670Z",
     "iopub.status.busy": "2022-12-19T00:40:44.952215Z",
     "iopub.status.idle": "2022-12-19T00:40:44.964058Z",
     "shell.execute_reply": "2022-12-19T00:40:44.963490Z",
     "shell.execute_reply.started": "2022-12-19T00:40:44.952656Z"
    }
   },
   "outputs": [
    {
     "name": "stdout",
     "output_type": "stream",
     "text": [
      "(Part 1: 0.002 s)\n",
      "(Part 2: 0.002 s)\n"
     ]
    }
   ],
   "source": [
    "def day18(strings, *, part2=False):  # Compact and faster.\n",
    "  def evaluate_line(s: str) -> int:\n",
    "    def eval_term(i: int) -> tuple[int, int]:\n",
    "      return eval_seq(i + 1, eat=1) if s[i] == '(' else (int(s[i]), i + 1)\n",
    "\n",
    "    def eval_seq(i: int, eat: int = 0) -> tuple[int, int]:\n",
    "      value, i = eval_term(i)\n",
    "      while i < len(s) and s[i] != ')':\n",
    "        is_mul = s[i + 1] == '*'\n",
    "        func = eval_seq if part2 and is_mul else eval_term\n",
    "        value2, i = func(i + 3)  # type: ignore[operator]\n",
    "        value = value * value2 if is_mul else value + value2\n",
    "      return value, i + eat\n",
    "\n",
    "    return eval_seq(0)[0]\n",
    "\n",
    "  return sum(evaluate_line(s) for s in strings.splitlines())\n",
    "\n",
    "\n",
    "check_eq(day18('1 + 2 * 3 + 4 * 5 + 6'), 71)\n",
    "check_eq(day18('1 + (2 * 3) + (4 * (5 + 6))'), 51)\n",
    "check_eq(day18('2 * 3 + (4 * 5)'), 26)\n",
    "check_eq(day18('5 + (8 * 3 + 9 + 3 * 4 * 3)'), 437)\n",
    "check_eq(day18('5 * 9 * (7 * 3 * 3 + 9 * 3 + (8 + 6 * 4))'), 12240)\n",
    "check_eq(day18('((2 + 4 * 9) * (6 + 9 * 8 + 6) + 6) + 2 + 4 * 2'), 13632)\n",
    "puzzle.verify(1, day18)  # ~4 ms.\n",
    "\n",
    "day18_part2 = functools.partial(day18, part2=True)\n",
    "check_eq(day18_part2('1 + 2 * 3 + 4 * 5 + 6'), 231)\n",
    "check_eq(day18_part2('1 + (2 * 3) + (4 * (5 + 6))'), 51)\n",
    "check_eq(day18_part2('2 * 3 + (4 * 5)'), 46)\n",
    "check_eq(day18_part2('5 + (8 * 3 + 9 + 3 * 4 * 3)'), 1445)\n",
    "check_eq(day18_part2('5 * 9 * (7 * 3 * 3 + 9 * 3 + (8 + 6 * 4))'), 669060)\n",
    "check_eq(day18_part2('((2 + 4 * 9) * (6 + 9 * 8 + 6) + 6) + 2 + 4 * 2'), 23340)\n",
    "puzzle.verify(2, day18_part2)  # ~6 ms."
   ]
  },
  {
   "cell_type": "markdown",
   "id": "68c1c223",
   "metadata": {},
   "source": [
    "<a name=\"day19\"></a>\n",
    "## Day 19: Message grammar"
   ]
  },
  {
   "cell_type": "markdown",
   "id": "b73d54a2",
   "metadata": {},
   "source": [
    "Given a set of context-free grammar rules and a set of words, report the number of words that are expressible in the grammar.\n",
    "\n",
    "- Part 1: Use the initial grammar rules, which do not have cycles.\n",
    "\n",
    "- Part 2: Replace two of the grammar rules, thereby introducing cycles."
   ]
  },
  {
   "cell_type": "code",
   "execution_count": 100,
   "id": "df941ce7",
   "metadata": {
    "execution": {
     "iopub.execute_input": "2022-12-19T00:40:44.964819Z",
     "iopub.status.busy": "2022-12-19T00:40:44.964635Z",
     "iopub.status.idle": "2022-12-19T00:40:44.983100Z",
     "shell.execute_reply": "2022-12-19T00:40:44.982349Z",
     "shell.execute_reply.started": "2022-12-19T00:40:44.964806Z"
    }
   },
   "outputs": [
    {
     "data": {
      "text/markdown": [
       "For [day 19](https://adventofcode.com/2020/day/19), `puzzle.input` has 583 lines:"
      ],
      "text/plain": [
       "<IPython.core.display.Markdown object>"
      ]
     },
     "metadata": {},
     "output_type": "display_data"
    },
    {
     "name": "stdout",
     "output_type": "stream",
     "text": [
      "26: 97 126 | 123 57\n",
      "122: 84 97 | 92 123\n",
      "82: 97 138 | 123 130\n",
      "80: 131 97\n",
      "3: 123 107 | 97 66\n",
      "101: 1 123 | 95 97\n",
      "10: 97 138 | 123 107\n",
      "83: 123 27 | 97 12\n",
      " ...\n",
      "abaabababbbbbabababbabbaaaabbbba\n",
      "baaaababbbabbbbaaababbab\n",
      "bbbabbabaabbaabbabbaaabb\n",
      "abaaaababaabbbbabbbbbbbbaaaaaaaababaaaabbbaaaaaabbbbaaabbbbababb\n"
     ]
    },
    {
     "data": {
      "text/markdown": [
       "The stored answers are: `{1: '198', 2: '372'}`"
      ],
      "text/plain": [
       "<IPython.core.display.Markdown object>"
      ]
     },
     "metadata": {},
     "output_type": "display_data"
    }
   ],
   "source": [
    "puzzle = advent.puzzle(day=19)"
   ]
  },
  {
   "cell_type": "code",
   "execution_count": 101,
   "id": "eea0920d",
   "metadata": {
    "execution": {
     "iopub.execute_input": "2022-12-19T00:40:44.984188Z",
     "iopub.status.busy": "2022-12-19T00:40:44.983904Z",
     "iopub.status.idle": "2022-12-19T00:40:44.987269Z",
     "shell.execute_reply": "2022-12-19T00:40:44.986575Z",
     "shell.execute_reply.started": "2022-12-19T00:40:44.984172Z"
    },
    "lines_to_next_cell": 2
   },
   "outputs": [],
   "source": [
    "# spellcheck=off\n",
    "s1 = \"\"\"\\\n",
    "0: 4 1 5\n",
    "1: 2 3 | 3 2\n",
    "2: 4 4 | 5 5\n",
    "3: 4 5 | 5 4\n",
    "4: \"a\"\n",
    "5: \"b\"\n",
    "\n",
    "ababbb\n",
    "bababa\n",
    "abbbab\n",
    "aaabbb\n",
    "aaaabbb\n",
    "\"\"\"\n",
    "\n",
    "s2 = \"\"\"\\\n",
    "42: 9 14 | 10 1\n",
    "9: 14 27 | 1 26\n",
    "10: 23 14 | 28 1\n",
    "1: \"a\"\n",
    "11: 42 31\n",
    "5: 1 14 | 15 1\n",
    "19: 14 1 | 14 14\n",
    "12: 24 14 | 19 1\n",
    "16: 15 1 | 14 14\n",
    "31: 14 17 | 1 13\n",
    "6: 14 14 | 1 14\n",
    "2: 1 24 | 14 4\n",
    "0: 8 11\n",
    "13: 14 3 | 1 12\n",
    "15: 1 | 14\n",
    "17: 14 2 | 1 7\n",
    "23: 25 1 | 22 14\n",
    "28: 16 1\n",
    "4: 1 1\n",
    "20: 14 14 | 1 15\n",
    "3: 5 14 | 16 1\n",
    "27: 1 6 | 14 18\n",
    "14: \"b\"\n",
    "21: 14 1 | 1 14\n",
    "25: 1 1 | 1 14\n",
    "22: 14 14\n",
    "8: 42\n",
    "26: 14 22 | 1 20\n",
    "18: 15 15\n",
    "7: 14 5 | 1 21\n",
    "24: 14 1\n",
    "\n",
    "abbbbbabbbaaaababbaabbbbabababbbabbbbbbabaaaa\n",
    "bbabbbbaabaabba\n",
    "babbbbaabbbbbabbbbbbaabaaabaaa\n",
    "aaabbbbbbaaaabaababaabababbabaaabbababababaaa\n",
    "bbbbbbbaaaabbbbaaabbabaaa\n",
    "bbbababbbbaaaaaaaabbababaaababaabab\n",
    "ababaaaaaabaaab\n",
    "ababaaaaabbbaba\n",
    "baabbaaaabbaaaababbaababb\n",
    "abbbbabbbbaaaababbbbbbaaaababb\n",
    "aaaaabbaabaaaaababaa\n",
    "aaaabbaaaabbaaa\n",
    "aaaabbaabbaaaaaaabbbabbbaaabbaabaaa\n",
    "babaaabbbaaabaababbaabababaaab\n",
    "aabbbbbaabbbaaaaaabbbbbababaaaaabbaaabba\n",
    "\"\"\"\n",
    "# spellcheck=on"
   ]
  },
  {
   "cell_type": "code",
   "execution_count": 102,
   "id": "70e052f9",
   "metadata": {
    "execution": {
     "iopub.execute_input": "2022-12-19T00:40:44.988181Z",
     "iopub.status.busy": "2022-12-19T00:40:44.987926Z",
     "iopub.status.idle": "2022-12-19T00:40:45.215840Z",
     "shell.execute_reply": "2022-12-19T00:40:45.215283Z",
     "shell.execute_reply.started": "2022-12-19T00:40:44.988168Z"
    }
   },
   "outputs": [
    {
     "name": "stdout",
     "output_type": "stream",
     "text": [
      "(Part 1: 0.039 s)\n",
      "(Part 2: 0.173 s)\n"
     ]
    }
   ],
   "source": [
    "def day19a(s, *, part2=False):  # Compact.\n",
    "  section1, section2 = s.split('\\n\\n')\n",
    "  rules = dict(line.split(': ') for line in section1.splitlines())\n",
    "  if part2:\n",
    "    rules.update({'8': '42 | 42 8', '11': '42 31 | 42 11 31'})\n",
    "\n",
    "  def valid_expansion(symbols, text):\n",
    "    if not symbols or not text:\n",
    "      return not symbols and not text\n",
    "    expansions = rules[symbols[0]]\n",
    "    if expansions[0] == '\"':\n",
    "      return expansions[1] == text[0] and valid_expansion(symbols[1:], text[1:])\n",
    "    return any(\n",
    "        valid_expansion(expansion.split() + symbols[1:], text)\n",
    "        for expansion in expansions.split(' | ')\n",
    "    )\n",
    "\n",
    "  return sum(valid_expansion(['0'], text) for text in section2.splitlines())\n",
    "\n",
    "\n",
    "check_eq(day19a(s1), 2)\n",
    "puzzle.verify(1, day19a)  # ~100 ms.\n",
    "\n",
    "day19a_part2 = functools.partial(day19a, part2=True)\n",
    "check_eq(day19a_part2(s2), 12)\n",
    "puzzle.verify(2, day19a_part2)  # ~500 ms."
   ]
  },
  {
   "cell_type": "code",
   "execution_count": 103,
   "id": "25697c9c",
   "metadata": {
    "execution": {
     "iopub.execute_input": "2022-12-19T00:40:45.216906Z",
     "iopub.status.busy": "2022-12-19T00:40:45.216528Z",
     "iopub.status.idle": "2022-12-19T00:40:45.368550Z",
     "shell.execute_reply": "2022-12-19T00:40:45.367942Z",
     "shell.execute_reply.started": "2022-12-19T00:40:45.216890Z"
    }
   },
   "outputs": [
    {
     "name": "stdout",
     "output_type": "stream",
     "text": [
      "(Part 1: 0.026 s)\n",
      "(Part 2: 0.118 s)\n"
     ]
    }
   ],
   "source": [
    "def day19(s, *, part2=False):  # Faster.\n",
    "  section1, section2 = s.split('\\n\\n')\n",
    "  rules = {\n",
    "      int(symbol): (\n",
    "          rhs[1] if rhs[0] == '\"' else tuple(tuple(map(int, s.split())) for s in rhs.split(' | '))\n",
    "      )\n",
    "      for line in section1.splitlines()\n",
    "      for symbol, rhs in (line.split(': '),)\n",
    "  }\n",
    "  if part2:\n",
    "    # We are fortunate that in both modified rules, there is a symbol to the\n",
    "    # left of the recursion, which forces the consumption of a character.\n",
    "    rules.update({8: ((42,), (42, 8)), 11: ((42, 31), (42, 11, 31))})\n",
    "\n",
    "  def valid_expansion(symbols, text):\n",
    "    while True:\n",
    "      if not symbols:\n",
    "        return not text\n",
    "      if not text:\n",
    "        return False\n",
    "      expansions = rules[symbols[0]]\n",
    "      if isinstance(expansions, str):\n",
    "        if expansions != text[0]:\n",
    "          return False\n",
    "        symbols, text = symbols[1:], text[1:]\n",
    "        continue\n",
    "      return any(valid_expansion(expansion + symbols[1:], text) for expansion in expansions)\n",
    "\n",
    "  return sum(valid_expansion((0,), text) for text in section2.splitlines())\n",
    "\n",
    "\n",
    "check_eq(day19(s1), 2)\n",
    "puzzle.verify(1, day19)  # ~75 ms.\n",
    "\n",
    "day19_part2 = functools.partial(day19, part2=True)\n",
    "check_eq(day19_part2(s2), 12)\n",
    "puzzle.verify(2, day19_part2)  # ~350 ms."
   ]
  },
  {
   "cell_type": "markdown",
   "id": "0991179e",
   "metadata": {},
   "source": [
    "<a name=\"day20\"></a>\n",
    "## Day 20: Dragons in grid of tiles"
   ]
  },
  {
   "cell_type": "markdown",
   "id": "461304fd",
   "metadata": {},
   "source": [
    "Given a set of numbered 2D image tiles with binary values, assemble these tiles using rotations and flips into a 2D grid such that adjacent tiles have matching boundary values.\n",
    "\n",
    "- Part 1: Return the product of the tile numbers for the 4 tiles that lie at the corners of the assembled 2D grid.\n",
    "\n",
    "- Part 2: Given a 2D mask (\"dragon\"), find all possible locations for this mask (including rotations and flips) such that all active values in the mask are also active in the assembled grid.  Report the number of active grid nodes which are not covered by any found mask instance."
   ]
  },
  {
   "cell_type": "code",
   "execution_count": 22,
   "id": "5f7d554f",
   "metadata": {
    "execution": {
     "iopub.execute_input": "2022-12-20T16:52:46.956560Z",
     "iopub.status.busy": "2022-12-20T16:52:46.956010Z",
     "iopub.status.idle": "2022-12-20T16:52:46.974025Z",
     "shell.execute_reply": "2022-12-20T16:52:46.973451Z",
     "shell.execute_reply.started": "2022-12-20T16:52:46.956543Z"
    },
    "tags": []
   },
   "outputs": [
    {
     "data": {
      "text/markdown": [
       "For [day 20](https://adventofcode.com/2020/day/20), `puzzle.input` has 1_728 lines:"
      ],
      "text/plain": [
       "<IPython.core.display.Markdown object>"
      ]
     },
     "metadata": {},
     "output_type": "display_data"
    },
    {
     "name": "stdout",
     "output_type": "stream",
     "text": [
      "Tile 2789:\n",
      ".#..#...##\n",
      "##...#....\n",
      "#.#.##..#.\n",
      ".#.##.##.#\n",
      "....#....#\n",
      "#.#......#\n",
      ".....#....\n",
      " ...\n",
      "#......#.#\n",
      "..#.....#.\n",
      ".#.#.##.##\n",
      "\n"
     ]
    },
    {
     "data": {
      "text/markdown": [
       "The stored answers are: `{1: '18449208814679', 2: '1559'}`"
      ],
      "text/plain": [
       "<IPython.core.display.Markdown object>"
      ]
     },
     "metadata": {},
     "output_type": "display_data"
    }
   ],
   "source": [
    "puzzle = advent.puzzle(day=20)"
   ]
  },
  {
   "cell_type": "code",
   "execution_count": 23,
   "id": "bc41e663",
   "metadata": {
    "execution": {
     "iopub.execute_input": "2022-12-20T16:52:47.148351Z",
     "iopub.status.busy": "2022-12-20T16:52:47.147855Z",
     "iopub.status.idle": "2022-12-20T16:52:47.151404Z",
     "shell.execute_reply": "2022-12-20T16:52:47.150757Z",
     "shell.execute_reply.started": "2022-12-20T16:52:47.148336Z"
    },
    "tags": []
   },
   "outputs": [],
   "source": [
    "s1 = \"\"\"\\\n",
    "Tile 2311:\n",
    "..##.#..#.\n",
    "##..#.....\n",
    "#...##..#.\n",
    "####.#...#\n",
    "##.##.###.\n",
    "##...#.###\n",
    ".#.#.#..##\n",
    "..#....#..\n",
    "###...#.#.\n",
    "..###..###\n",
    "\n",
    "Tile 1951:\n",
    "#.##...##.\n",
    "#.####...#\n",
    ".....#..##\n",
    "#...######\n",
    ".##.#....#\n",
    ".###.#####\n",
    "###.##.##.\n",
    ".###....#.\n",
    "..#.#..#.#\n",
    "#...##.#..\n",
    "\n",
    "Tile 1171:\n",
    "####...##.\n",
    "#..##.#..#\n",
    "##.#..#.#.\n",
    ".###.####.\n",
    "..###.####\n",
    ".##....##.\n",
    ".#...####.\n",
    "#.##.####.\n",
    "####..#...\n",
    ".....##...\n",
    "\n",
    "Tile 1427:\n",
    "###.##.#..\n",
    ".#..#.##..\n",
    ".#.##.#..#\n",
    "#.#.#.##.#\n",
    "....#...##\n",
    "...##..##.\n",
    "...#.#####\n",
    ".#.####.#.\n",
    "..#..###.#\n",
    "..##.#..#.\n",
    "\n",
    "Tile 1489:\n",
    "##.#.#....\n",
    "..##...#..\n",
    ".##..##...\n",
    "..#...#...\n",
    "#####...#.\n",
    "#..#.#.#.#\n",
    "...#.#.#..\n",
    "##.#...##.\n",
    "..##.##.##\n",
    "###.##.#..\n",
    "\n",
    "Tile 2473:\n",
    "#....####.\n",
    "#..#.##...\n",
    "#.##..#...\n",
    "######.#.#\n",
    ".#...#.#.#\n",
    ".#########\n",
    ".###.#..#.\n",
    "########.#\n",
    "##...##.#.\n",
    "..###.#.#.\n",
    "\n",
    "Tile 2971:\n",
    "..#.#....#\n",
    "#...###...\n",
    "#.#.###...\n",
    "##.##..#..\n",
    ".#####..##\n",
    ".#..####.#\n",
    "#..#.#..#.\n",
    "..####.###\n",
    "..#.#.###.\n",
    "...#.#.#.#\n",
    "\n",
    "Tile 2729:\n",
    "...#.#.#.#\n",
    "####.#....\n",
    "..#.#.....\n",
    "....#..#.#\n",
    ".##..##.#.\n",
    ".#.####...\n",
    "####.#.#..\n",
    "##.####...\n",
    "##..#.##..\n",
    "#.##...##.\n",
    "\n",
    "Tile 3079:\n",
    "#.#.#####.\n",
    ".#..######\n",
    "..#.......\n",
    "######....\n",
    "####.#..#.\n",
    ".#...#.##.\n",
    "#.#####.##\n",
    "..#.###...\n",
    "..#.......\n",
    "..#.###...\n",
    "\"\"\""
   ]
  },
  {
   "cell_type": "code",
   "execution_count": 58,
   "id": "78203807-a171-4dff-ad62-8ae3e1bbac7f",
   "metadata": {
    "execution": {
     "iopub.execute_input": "2022-12-20T16:56:50.662890Z",
     "iopub.status.busy": "2022-12-20T16:56:50.662491Z",
     "iopub.status.idle": "2022-12-20T16:56:50.696932Z",
     "shell.execute_reply": "2022-12-20T16:56:50.696308Z",
     "shell.execute_reply.started": "2022-12-20T16:56:50.662876Z"
    },
    "tags": []
   },
   "outputs": [
    {
     "name": "stdout",
     "output_type": "stream",
     "text": [
      "(Part 1: 0.006 s)\n",
      "(Part 2: 0.013 s)\n"
     ]
    }
   ],
   "source": [
    "def day20(s, *, part2=False, visualize=False):\n",
    "  tiles = {int(t[5:9]): hh.grid_from_string(t[11:]) for t in s.rstrip('\\n').split('\\n\\n')}\n",
    "  n = math.isqrt(len(tiles))\n",
    "\n",
    "  if visualize:\n",
    "    tiles_bool = [tile != '#' for tile in tiles.values()]\n",
    "    media.show_images(tiles_bool, columns=n, border=True, height=30)\n",
    "\n",
    "  rotations = tuple(range(8))  # 4 proper rotations * 2 flips\n",
    "\n",
    "  def rotate(tile, rotation):\n",
    "    return np.rot90(tile if rotation < 4 else tile[::-1], rotation % 4)\n",
    "\n",
    "  def top_row(tile, rotation):\n",
    "    # return rotate(tile, rotation)[0]  # equivalent but slower\n",
    "    tile = tile if rotation < 4 else tile[::-1]\n",
    "    rotation = rotation % 4\n",
    "    return (\n",
    "        tile[0]\n",
    "        if rotation == 0\n",
    "        else tile[:, -1]\n",
    "        if rotation == 1\n",
    "        else tile[-1, ::-1]\n",
    "        if rotation == 2\n",
    "        else tile[::-1, 0]\n",
    "    )\n",
    "\n",
    "  # List of (index, rotation) for up to 2 tiles whose top row matches the key.\n",
    "  edge_list = collections.defaultdict(list)\n",
    "  for index, tile in tiles.items():\n",
    "    for rotation in rotations:\n",
    "      edge_list[tuple(top_row(tile, rotation))].append((index, rotation))\n",
    "\n",
    "  def is_corner(tile):  # A corner tile has 2 unique edges.\n",
    "    return (\n",
    "        sum(len(edge_list[tuple(top_row(tile, rotation))]) == 1 for rotation in rotations[:4]) == 2\n",
    "    )\n",
    "\n",
    "  corners = [index for index, tile in tiles.items() if is_corner(tile)]\n",
    "  assert len(corners) == 4  # Exactly four tiles must be at the corners.\n",
    "  if not part2:\n",
    "    return math.prod(corners)\n",
    "\n",
    "  # Place a first corner in the grid upper-left and determine its rotation.\n",
    "  index = corners[0]\n",
    "  tile = tiles[index]\n",
    "  rotation, _ = (\n",
    "      rotation\n",
    "      for rotation in rotations  # 2 solutions due to flip\n",
    "      if (\n",
    "          len(edge_list[tuple(rotate(tile, rotation)[0])]) == 1\n",
    "          and len(edge_list[tuple(rotate(tile, rotation)[:, 0])]) == 1\n",
    "      )\n",
    "  )\n",
    "  layout = np.empty((n, n), object)\n",
    "  layout[0, 0] = index, rotation\n",
    "\n",
    "  def find(not_index, rot, desired):\n",
    "    'Returns (index, rotation) of tile with top row matching desired after rot.'\n",
    "    l = edge_list[tuple(desired)]\n",
    "    index, rotation = next(((index, rotation) for index, rotation in l if index != not_index))\n",
    "    return index, (rotation + rot) % 4 + rotation // 4 * 4\n",
    "\n",
    "  for y, x in np.ndindex(n, n):\n",
    "    if x > 0:\n",
    "      left_index, left_rotation = layout[y, x - 1]\n",
    "      desired_left = rotate(tiles[left_index], left_rotation)[::-1, -1]\n",
    "      layout[y, x] = find(left_index, 1, desired_left)\n",
    "    elif y > 0:\n",
    "      top_index, top_rotation = layout[y - 1, x]\n",
    "      desired_top = rotate(tiles[top_index], top_rotation)[-1, :]\n",
    "      layout[y, x] = find(top_index, 0, desired_top)\n",
    "\n",
    "  def block(y, x):\n",
    "    index, rotation = layout[y, x]\n",
    "    return rotate(tiles[index], rotation)[1:-1, 1:-1]\n",
    "\n",
    "  grid = np.block([[block(y, x) for x in range(n)] for y in range(n)])\n",
    "\n",
    "  pattern0 = '                  # #    ##    ##    ### #  #  #  #  #  #   '\n",
    "  pattern = np.array(list(pattern0)).reshape(3, 20) == '#'\n",
    "\n",
    "  if 0:  # slower\n",
    "    pattern_indices = pattern.nonzero()\n",
    "    for rotation in rotations:\n",
    "      grid_view = rotate(grid, rotation)\n",
    "      for y, x in np.ndindex(*(np.array(grid_view.shape) - pattern.shape)):\n",
    "        subgrid_view = grid_view[y:, x:]\n",
    "        if np.all(subgrid_view[pattern_indices] != '.'):\n",
    "          subgrid_view[pattern_indices] = 'O'\n",
    "\n",
    "  elif 0:  # faster, using 1-d matching\n",
    "    grid_view_1d = grid.ravel()\n",
    "    for rotation in rotations:\n",
    "      pattern_view = rotate(pattern, rotation)\n",
    "      pattern_indices = pattern_view.nonzero()\n",
    "      pattern_indices_1d = np.ravel_multi_index(pattern_indices, grid.shape)\n",
    "      for y, x in np.ndindex(*(np.array(grid.shape) - pattern_view.shape)):\n",
    "        subgrid_view_1d = grid_view_1d[y * grid.shape[1] + x :]\n",
    "        if np.all(subgrid_view_1d[pattern_indices_1d] != '.'):\n",
    "          subgrid_view_1d[pattern_indices_1d] = 'O'\n",
    "\n",
    "  else:  # fastest, using 2d correlation\n",
    "    import scipy.signal\n",
    "\n",
    "    pattern_uint8 = pattern.astype(np.uint8)\n",
    "    grid_uint8 = (grid == '#').astype(np.uint8)\n",
    "    for rotation in rotations:\n",
    "      pattern_view = rotate(pattern_uint8, rotation)\n",
    "      pattern_indices = pattern_view.nonzero()\n",
    "      corr = scipy.signal.correlate2d(grid_uint8, pattern_view, mode='valid')\n",
    "      locations = zip(*np.nonzero(corr == pattern_view.sum()))\n",
    "      for y, x in locations:\n",
    "        grid[y:, x:][pattern_indices] = 'O'\n",
    "\n",
    "  if visualize:\n",
    "    value_from_ch = {'.': 0.0, '#': -1.0, 'O': 1.0}\n",
    "    lookup = np.zeros(256, np.float32)\n",
    "    for ch, value in value_from_ch.items():\n",
    "      lookup[ord(ch)] = value\n",
    "    grid2 = lookup[grid.view(np.uint32).astype(np.uint8)]\n",
    "    grid2 = grid2.repeat(3, axis=0).repeat(3, axis=1)\n",
    "    media.show_image(grid2, border=True)\n",
    "\n",
    "  return np.count_nonzero(grid == '#')\n",
    "\n",
    "\n",
    "check_eq(day20(s1), 20899048083289)\n",
    "puzzle.verify(1, day20)  # ~12 ms.\n",
    "\n",
    "day20_part2 = functools.partial(day20, part2=True)\n",
    "check_eq(day20_part2(s1), 273)\n",
    "puzzle.verify(2, day20_part2)  # ~31 ms."
   ]
  },
  {
   "cell_type": "code",
   "execution_count": 26,
   "id": "c58ccde5-2bdd-435a-b39d-9b9ac7ed22d6",
   "metadata": {
    "execution": {
     "iopub.execute_input": "2022-12-20T16:53:01.319124Z",
     "iopub.status.busy": "2022-12-20T16:53:01.318871Z",
     "iopub.status.idle": "2022-12-20T16:53:01.401493Z",
     "shell.execute_reply": "2022-12-20T16:53:01.400790Z",
     "shell.execute_reply.started": "2022-12-20T16:53:01.319110Z"
    },
    "tags": []
   },
   "outputs": [
    {
     "data": {
      "text/html": [
       "<table class=\"show_images\" style=\"border-spacing:0px;\"><tr><td style=\"padding:1px;\"><img width=\"30\" height=\"30\" style=\"border:1px solid black; image-rendering:pixelated; object-fit:cover;\" src=\"data:image/png;base64,iVBORw0KGgoAAAANSUhEUgAAAAoAAAAKCAIAAAACUFjqAAAASUlEQVR4nG2PQRIAIAgCwf//mQ40xjCdWqVWgyQAkhLMAOjj1eQygHFG0tkGl9dZGsN8byxPanPqHVGtWu3/6G2eX2pzdsrh8gC2gkffDLCotwAAAABJRU5ErkJggg==\"/></td><td style=\"padding:1px;\"><img width=\"30\" height=\"30\" style=\"border:1px solid black; image-rendering:pixelated; object-fit:cover;\" src=\"data:image/png;base64,iVBORw0KGgoAAAANSUhEUgAAAAoAAAAKCAIAAAACUFjqAAAARklEQVR4nHVOMRLAMAgC/v9nMqShRlsGT4QTiAPbJG2jgFvAD/SpkdxTjSfome8G+OBKnI5Q1cKzh3JNcPVpnlKzP2sRthfsr1DXN67m/AAAAABJRU5ErkJggg==\"/></td><td style=\"padding:1px;\"><img width=\"30\" height=\"30\" style=\"border:1px solid black; image-rendering:pixelated; object-fit:cover;\" src=\"data:image/png;base64,iVBORw0KGgoAAAANSUhEUgAAAAoAAAAKCAIAAAACUFjqAAAARElEQVR4nH1PQQoAMAjS/v9nd3CERJuXLCmNACQBIJn8EpcXyktG8itnky5T9rRdzWtkGVFqPdtf/JIzf90xNEkdQtIB96g1/d0FRoUAAAAASUVORK5CYII=\"/></td><td style=\"padding:1px;\"><img width=\"30\" height=\"30\" style=\"border:1px solid black; image-rendering:pixelated; object-fit:cover;\" src=\"data:image/png;base64,iVBORw0KGgoAAAANSUhEUgAAAAoAAAAKCAIAAAACUFjqAAAAQklEQVR4nHWOQQoAMAjDmrH/f7k7yEScy62tAZFkWxcgIiAJ21m90Ow+hx2h3QHrZ4ezRy/LNUpJn6s6zPXTL/nKAeFhJwIkNEZsAAAAAElFTkSuQmCC\"/></td><td style=\"padding:1px;\"><img width=\"30\" height=\"30\" style=\"border:1px solid black; image-rendering:pixelated; object-fit:cover;\" src=\"data:image/png;base64,iVBORw0KGgoAAAANSUhEUgAAAAoAAAAKCAIAAAACUFjqAAAASUlEQVR4nG2PSxYAIAgCw/vfeVrQI/u0CnFQBYzfkwQo+ttXNgBJhkIvO1Gds6wrOTFm6p3XY8oiRP4et8PTcdCdu4+O9a7tygREcjYFDi3w+wAAAABJRU5ErkJggg==\"/></td><td style=\"padding:1px;\"><img width=\"30\" height=\"30\" style=\"border:1px solid black; image-rendering:pixelated; object-fit:cover;\" src=\"data:image/png;base64,iVBORw0KGgoAAAANSUhEUgAAAAoAAAAKCAIAAAACUFjqAAAAR0lEQVR4nGWPORIAQQgCgf//mQ2opRwlEm0v2MaQf8UqqRYmB0Aka67UKNxapPbZJhmoKOemK97CvEYduG4O93Qv+7D3adsfeU1B6v1BtnUAAAAASUVORK5CYII=\"/></td><td style=\"padding:1px;\"><img width=\"30\" height=\"30\" style=\"border:1px solid black; image-rendering:pixelated; object-fit:cover;\" src=\"data:image/png;base64,iVBORw0KGgoAAAANSUhEUgAAAAoAAAAKCAIAAAACUFjqAAAASklEQVR4nG2PQQoAMQgDJ+L/v2wPLlmpzUFC0FGpIQBo01V2W5LimRoTO7V/T39bJSDdXlUT2ybnXdeNP9yjswIx4RuT3bhf7/wA9CkzEoVIYEwAAAAASUVORK5CYII=\"/></td><td style=\"padding:1px;\"><img width=\"30\" height=\"30\" style=\"border:1px solid black; image-rendering:pixelated; object-fit:cover;\" src=\"data:image/png;base64,iVBORw0KGgoAAAANSUhEUgAAAAoAAAAKCAIAAAACUFjqAAAAR0lEQVR4nGWQQQ4AMAjCyv7/Z3cgY855MBiKJgJUFWBhffucD2St5ABJU2SzS1KnF1/1wGNnZ7jHjucTM/1za+BDX7w/J30DSqBK2lPK1yEAAAAASUVORK5CYII=\"/></td><td style=\"padding:1px;\"><img width=\"30\" height=\"30\" style=\"border:1px solid black; image-rendering:pixelated; object-fit:cover;\" src=\"data:image/png;base64,iVBORw0KGgoAAAANSUhEUgAAAAoAAAAKCAIAAAACUFjqAAAASElEQVR4nG1OQQ4AIAgC1/+/TAc2MouDExQRACQBcGNEZAYASGbV9OJRJbkWyaj9klHDN+jqg/gSWv3t1/15rWNm+8BpvpGhG0vYNhGu3VT2AAAAAElFTkSuQmCC\"/></td><td style=\"padding:1px;\"><img width=\"30\" height=\"30\" style=\"border:1px solid black; image-rendering:pixelated; object-fit:cover;\" src=\"data:image/png;base64,iVBORw0KGgoAAAANSUhEUgAAAAoAAAAKCAIAAAACUFjqAAAASElEQVR4nG2PyREAQQgCbfPPuffhjuUc/IASBDUigFgopUQmb1Uti6fXNGfsjZxNRxFH1OP6f2GvaJo95t4G5C1tYS7M8KLqBzKGMwnwpZPqAAAAAElFTkSuQmCC\"/></td><td style=\"padding:1px;\"><img width=\"30\" height=\"30\" style=\"border:1px solid black; image-rendering:pixelated; object-fit:cover;\" src=\"data:image/png;base64,iVBORw0KGgoAAAANSUhEUgAAAAoAAAAKCAIAAAACUFjqAAAASElEQVR4nG2QQQ4AIQwCnY3//zJ7qKKiHGyB0Ma2NqGJ6uvtJk98tycJGHaV4ladwQRYaqStxgD23TFA0pEOj3vf45Mh7cf5AQNCRO/Sip3gAAAAAElFTkSuQmCC\"/></td><td style=\"padding:1px;\"><img width=\"30\" height=\"30\" style=\"border:1px solid black; image-rendering:pixelated; object-fit:cover;\" src=\"data:image/png;base64,iVBORw0KGgoAAAANSUhEUgAAAAoAAAAKCAIAAAACUFjqAAAASElEQVR4nG2PQQ4AUQRDX93/zmYhv+mILqSUgu4G+sEcAGpyHhYvSZOYZF+d2lG0bd5RqeXiGdVUJTmmf2X70n7mo5037o+NDyGbROQQDpZFAAAAAElFTkSuQmCC\"/></td></tr></table><table class=\"show_images\" style=\"border-spacing:0px;\"><tr><td style=\"padding:1px;\"><img width=\"30\" height=\"30\" style=\"border:1px solid black; image-rendering:pixelated; object-fit:cover;\" src=\"data:image/png;base64,iVBORw0KGgoAAAANSUhEUgAAAAoAAAAKCAIAAAACUFjqAAAAS0lEQVR4nHWOQRKAIAwDd/n/n+OhWlAhh8520gRMoiYBGkrqUIuAOmXRPve1N4YCo+mvJL6W5wezo71t/zi9emeSdLSg56zsZQXgAjYRROu57mcnAAAAAElFTkSuQmCC\"/></td><td style=\"padding:1px;\"><img width=\"30\" height=\"30\" style=\"border:1px solid black; image-rendering:pixelated; object-fit:cover;\" src=\"data:image/png;base64,iVBORw0KGgoAAAANSUhEUgAAAAoAAAAKCAIAAAACUFjqAAAASklEQVR4nH2PQQ7AMAjDMP//s3dgowxNywG5hIBKPFILgMPT2B5kvFUe3LHswQlnqKjrBHXfngJS7c29vE/wE42IXO/5he9kd9UL1shB8rEBQoUAAAAASUVORK5CYII=\"/></td><td style=\"padding:1px;\"><img width=\"30\" height=\"30\" style=\"border:1px solid black; image-rendering:pixelated; object-fit:cover;\" src=\"data:image/png;base64,iVBORw0KGgoAAAANSUhEUgAAAAoAAAAKCAIAAAACUFjqAAAASUlEQVR4nH2PSQoAQQgDK9L//3LmYCMSmvHkkoqKbdvATqYsQFK3JAGjeEQ4na1teqMV6Phf4G9T0HvFHQcaX9RzNndU3DJcSz+tbD739rKt7QAAAABJRU5ErkJggg==\"/></td><td style=\"padding:1px;\"><img width=\"30\" height=\"30\" style=\"border:1px solid black; image-rendering:pixelated; object-fit:cover;\" src=\"data:image/png;base64,iVBORw0KGgoAAAANSUhEUgAAAAoAAAAKCAIAAAACUFjqAAAASElEQVR4nHWOQQ4AIQwCof//Mx66YiUuhyZSO0BJAEhiq51W2Wp37s46AH5SEsk4ur6aPOFfp7gLVUQGv56uZ3U1M2bWb67LLvwTMv9Pc8ghAAAAAElFTkSuQmCC\"/></td><td style=\"padding:1px;\"><img width=\"30\" height=\"30\" style=\"border:1px solid black; image-rendering:pixelated; object-fit:cover;\" src=\"data:image/png;base64,iVBORw0KGgoAAAANSUhEUgAAAAoAAAAKCAIAAAACUFjqAAAASElEQVR4nH2PSQ4AQQgCC///Z/pggr1kxouigCrbgCTAdgoAUKeQMmh4cN+oOO+iqWfN6dydCne/Mexb8al+F9uuS5HXB//4L0SFLQ5IDBuVAAAAAElFTkSuQmCC\"/></td><td style=\"padding:1px;\"><img width=\"30\" height=\"30\" style=\"border:1px solid black; image-rendering:pixelated; object-fit:cover;\" src=\"data:image/png;base64,iVBORw0KGgoAAAANSUhEUgAAAAoAAAAKCAIAAAACUFjqAAAASElEQVR4nG2OMQLAMAgCOf//ZzqkodbECRQQSbJtOyBYUukYIIpaCBi3hUlOF2Wj8PH1TZ3Clg9cqnVDfS32496jrqYfTalzHgZCR+P7lp8OAAAAAElFTkSuQmCC\"/></td><td style=\"padding:1px;\"><img width=\"30\" height=\"30\" style=\"border:1px solid black; image-rendering:pixelated; object-fit:cover;\" src=\"data:image/png;base64,iVBORw0KGgoAAAANSUhEUgAAAAoAAAAKCAIAAAACUFjqAAAASElEQVR4nH2QwQ4AIAhCe63//2U6UFa28uBQBKdFUplhHB1J7PUdNTggusZATc4JLzp5AGP3Zz0mLEpDhNVL3V4n7Yccr3A26GQAMvR9dvqwAAAAAElFTkSuQmCC\"/></td><td style=\"padding:1px;\"><img width=\"30\" height=\"30\" style=\"border:1px solid black; image-rendering:pixelated; object-fit:cover;\" src=\"data:image/png;base64,iVBORw0KGgoAAAANSUhEUgAAAAoAAAAKCAIAAAACUFjqAAAARUlEQVR4nIWOyREAIAgDs/bfMz5QUHQ0r0AOwMw0AayjJCSV1Yr20IBf+h6CQSJ6NmV58QUf5e4oGpC3o8N9vtleKw6gA6aaMxBqwuNsAAAAAElFTkSuQmCC\"/></td><td style=\"padding:1px;\"><img width=\"30\" height=\"30\" style=\"border:1px solid black; image-rendering:pixelated; object-fit:cover;\" src=\"data:image/png;base64,iVBORw0KGgoAAAANSUhEUgAAAAoAAAAKCAIAAAACUFjqAAAAS0lEQVR4nH2OSw4AMQhCeb3/nemCxqiTDCsiP5FkWxIQEgCSxulrOpqwndyWX1vTgJGO1gtOt9dqiG3Ku358fUv4+zxazT3SJ4MKXKslNgaIXQ2YAAAAAElFTkSuQmCC\"/></td><td style=\"padding:1px;\"><img width=\"30\" height=\"30\" style=\"border:1px solid black; image-rendering:pixelated; object-fit:cover;\" src=\"data:image/png;base64,iVBORw0KGgoAAAANSUhEUgAAAAoAAAAKCAIAAAACUFjqAAAARUlEQVR4nG2OUQ4AUQQDTe9/5+6HpE8sHwTTUlVlO3kFXbIDJqeF9w7orNM2E03bP6T43K8t9YJuUQRaV4G0tt/n0zzQBwnvMAoOQjS8AAAAAElFTkSuQmCC\"/></td><td style=\"padding:1px;\"><img width=\"30\" height=\"30\" style=\"border:1px solid black; image-rendering:pixelated; object-fit:cover;\" src=\"data:image/png;base64,iVBORw0KGgoAAAANSUhEUgAAAAoAAAAKCAIAAAACUFjqAAAARElEQVR4nIWOQQoAMQwCx/z/z+5BSEs3tB7CoJgEwHbmAYCa/pKkbo+qMUsNqKZdtuM/2uftDmLePgdq3LliSfvCcDsfZjQqBvtA9qoAAAAASUVORK5CYII=\"/></td><td style=\"padding:1px;\"><img width=\"30\" height=\"30\" style=\"border:1px solid black; image-rendering:pixelated; object-fit:cover;\" src=\"data:image/png;base64,iVBORw0KGgoAAAANSUhEUgAAAAoAAAAKCAIAAAACUFjqAAAAR0lEQVR4nG2OQQ4AMQgCB9P/f5k9bGtIKyfFMCLbACAJyNV2Eepbzyujqd+pN9fOhr/RQT5K2BrJbdZ4kLQ/XsALrrF5l/0AaCo+7LNG9fgAAAAASUVORK5CYII=\"/></td></tr></table><table class=\"show_images\" style=\"border-spacing:0px;\"><tr><td style=\"padding:1px;\"><img width=\"30\" height=\"30\" style=\"border:1px solid black; image-rendering:pixelated; object-fit:cover;\" src=\"data:image/png;base64,iVBORw0KGgoAAAANSUhEUgAAAAoAAAAKCAIAAAACUFjqAAAASklEQVR4nH2QQRLAIAwC2fz/z/RAJ1q1ciJAMkzQF7YB2xkHW5BQAT0vHpGOB+a0bHcoJMrvdlCXapLqUvu1EwS6TjygtL1irv0A1WMzCaPB/ogAAAAASUVORK5CYII=\"/></td><td style=\"padding:1px;\"><img width=\"30\" height=\"30\" style=\"border:1px solid black; image-rendering:pixelated; object-fit:cover;\" src=\"data:image/png;base64,iVBORw0KGgoAAAANSUhEUgAAAAoAAAAKCAIAAAACUFjqAAAAR0lEQVR4nHWNQQ4AIQgDp8b/f5k9kGBtXA9mAp1CVQH9NwwDO3aApDMcezwv0CE9WH4pEoD8aqpOnrjsvwSwYtfSFKxoi/cBO2xN6vRpPgAAAAAASUVORK5CYII=\"/></td><td style=\"padding:1px;\"><img width=\"30\" height=\"30\" style=\"border:1px solid black; image-rendering:pixelated; object-fit:cover;\" src=\"data:image/png;base64,iVBORw0KGgoAAAANSUhEUgAAAAoAAAAKCAIAAAACUFjqAAAARUlEQVR4nHWPMQ4AMQjDcHX//7JvSMXQ0gyAFGFC1Vvql3Z7QFWtcQ9Qgdlu3mmHmaryuj1vH6SVCKHNUpvfc+p+4M4c/VRoKgIydwGjAAAAAElFTkSuQmCC\"/></td><td style=\"padding:1px;\"><img width=\"30\" height=\"30\" style=\"border:1px solid black; image-rendering:pixelated; object-fit:cover;\" src=\"data:image/png;base64,iVBORw0KGgoAAAANSUhEUgAAAAoAAAAKCAIAAAACUFjqAAAATElEQVR4nGWPQRIAIAgCwfH/X6YDDTnmyVraFJIkAQAwe1cBIGmWUJpeV/NIv/txfD1B0qme7HfUiltA3n9rMQuy4cPL/Paeo2Y6mw5nBjkGWZlwqwAAAABJRU5ErkJggg==\"/></td><td style=\"padding:1px;\"><img width=\"30\" height=\"30\" style=\"border:1px solid black; image-rendering:pixelated; object-fit:cover;\" src=\"data:image/png;base64,iVBORw0KGgoAAAANSUhEUgAAAAoAAAAKCAIAAAACUFjqAAAASklEQVR4nGWPSQLAIAgDHf//5+mBlkbJQTAsIawPaiXAuqB2uVvVyOLtbt4Ac796sykB7CmZ1x3Tidq0UzstFb//K4bdg0lX/X0AOuhQ3iASISQAAAAASUVORK5CYII=\"/></td><td style=\"padding:1px;\"><img width=\"30\" height=\"30\" style=\"border:1px solid black; image-rendering:pixelated; object-fit:cover;\" src=\"data:image/png;base64,iVBORw0KGgoAAAANSUhEUgAAAAoAAAAKCAIAAAACUFjqAAAARklEQVR4nH2OQQrAQAwCHf//Z3tYCJJt6yHEGEVJSjLzYC60APQT4OYLSbx4U8CL95KEn3BJbtONT/fx+FWbmu5koNsleQD3CyoHqMDz5gAAAABJRU5ErkJggg==\"/></td><td style=\"padding:1px;\"><img width=\"30\" height=\"30\" style=\"border:1px solid black; image-rendering:pixelated; object-fit:cover;\" src=\"data:image/png;base64,iVBORw0KGgoAAAANSUhEUgAAAAoAAAAKCAIAAAACUFjqAAAAR0lEQVR4nG2PSRIAMQgC6fz/z8zBlOMSTkhRrSLJtiQgfQigzlundSH9TQY8dcOxr8JaN0thIqFGG/CAt4PGo+0u+DdtjO0PQ1o78vb8rYoAAAAASUVORK5CYII=\"/></td><td style=\"padding:1px;\"><img width=\"30\" height=\"30\" style=\"border:1px solid black; image-rendering:pixelated; object-fit:cover;\" src=\"data:image/png;base64,iVBORw0KGgoAAAANSUhEUgAAAAoAAAAKCAIAAAACUFjqAAAARElEQVR4nG2QSQoAMAgDHen/v5weCsEScxAhi8GqH5LmPG9LSAKYpkQnZw/Q5takXjOt6+cD1hOsvaw+2cgGoCT5CblcFy0+8g8MZYkAAAAASUVORK5CYII=\"/></td><td style=\"padding:1px;\"><img width=\"30\" height=\"30\" style=\"border:1px solid black; image-rendering:pixelated; object-fit:cover;\" src=\"data:image/png;base64,iVBORw0KGgoAAAANSUhEUgAAAAoAAAAKCAIAAAACUFjqAAAATElEQVR4nG2PQQ4AIQwCwf//efZAllRTDkQFWhEgKRzwQ5Ir2J6m4ESYT73aPmsoDkBdU64b2KNABrjG9XdntpotwtZd+l30aA3k8AFRzEfrsh6e2wAAAABJRU5ErkJggg==\"/></td><td style=\"padding:1px;\"><img width=\"30\" height=\"30\" style=\"border:1px solid black; image-rendering:pixelated; object-fit:cover;\" src=\"data:image/png;base64,iVBORw0KGgoAAAANSUhEUgAAAAoAAAAKCAIAAAACUFjqAAAAS0lEQVR4nG2QQQ4AMQgCgf//mT2QUNKuJ4Q4GgHANqZsx7HNjUlGk4yjDjVbjC5rMwbywsvXNkuKVo/8XaFtenD1YV6LD6/8PqT1AYsmROp69Y5aAAAAAElFTkSuQmCC\"/></td><td style=\"padding:1px;\"><img width=\"30\" height=\"30\" style=\"border:1px solid black; image-rendering:pixelated; object-fit:cover;\" src=\"data:image/png;base64,iVBORw0KGgoAAAANSUhEUgAAAAoAAAAKCAIAAAACUFjqAAAASUlEQVR4nH2PQQ7AMAjDHP7/Z+9QibJuKgdEFBwEgKoCa+4OZAogyUtO8a1K0tzh5Yi60b8BNek1z3N1QdVqT10b++mm2zseeQAGCyoTeCOqswAAAABJRU5ErkJggg==\"/></td><td style=\"padding:1px;\"><img width=\"30\" height=\"30\" style=\"border:1px solid black; image-rendering:pixelated; object-fit:cover;\" src=\"data:image/png;base64,iVBORw0KGgoAAAANSUhEUgAAAAoAAAAKCAIAAAACUFjqAAAAQElEQVR4nIWOQQ4AQAQDp/7/Z3uQbGxJ1gkdLWUmAEiavYC7NQiILkz0YXuV5BdGxKrdINW8fvfPjvLZne16mh3EujYFEajoAAAAAABJRU5ErkJggg==\"/></td></tr></table><table class=\"show_images\" style=\"border-spacing:0px;\"><tr><td style=\"padding:1px;\"><img width=\"30\" height=\"30\" style=\"border:1px solid black; image-rendering:pixelated; object-fit:cover;\" src=\"data:image/png;base64,iVBORw0KGgoAAAANSUhEUgAAAAoAAAAKCAIAAAACUFjqAAAAQklEQVR4nH2QQQ7AMAjDbLT/fzm7tWxq4YBAJkoESZIAq/fBBY5VAwNqYGqpN5ak+v5jgLP3c1QvzSdaf4B6i7XvXvVcMvbgSYX4AAAAAElFTkSuQmCC\"/></td><td style=\"padding:1px;\"><img width=\"30\" height=\"30\" style=\"border:1px solid black; image-rendering:pixelated; object-fit:cover;\" src=\"data:image/png;base64,iVBORw0KGgoAAAANSUhEUgAAAAoAAAAKCAIAAAACUFjqAAAASElEQVR4nHWPQQ7AQAgCGf//Z3qwa1zSelCMgogk25KAwdMy/WfUoHcd9vgSjABqU0PJdgV1GwQqDKe1GNjeh36pcH7uErnBAzJrMwCc6mQjAAAAAElFTkSuQmCC\"/></td><td style=\"padding:1px;\"><img width=\"30\" height=\"30\" style=\"border:1px solid black; image-rendering:pixelated; object-fit:cover;\" src=\"data:image/png;base64,iVBORw0KGgoAAAANSUhEUgAAAAoAAAAKCAIAAAACUFjqAAAARUlEQVR4nI2QSQoAMAgDk9L/f9kepCFahOakEzcEAAAR4UFcbRlJSTpZ7qlCkD751ZqMPzsnl31kpmx3JiqXe9+o9g3BA2fTOPDds7/3AAAAAElFTkSuQmCC\"/></td><td style=\"padding:1px;\"><img width=\"30\" height=\"30\" style=\"border:1px solid black; image-rendering:pixelated; object-fit:cover;\" src=\"data:image/png;base64,iVBORw0KGgoAAAANSUhEUgAAAAoAAAAKCAIAAAACUFjqAAAAQUlEQVR4nHWQQQ4AMAQETf//5/YgZG10DsLGqopbRJF5RlRKgC6Pqkur1QqwuEfHz+pv94COrOsMt33aV9EjKKk8lIsv+FfRsmgAAAAASUVORK5CYII=\"/></td><td style=\"padding:1px;\"><img width=\"30\" height=\"30\" style=\"border:1px solid black; image-rendering:pixelated; object-fit:cover;\" src=\"data:image/png;base64,iVBORw0KGgoAAAANSUhEUgAAAAoAAAAKCAIAAAACUFjqAAAASElEQVR4nGWOwREAIQwCs/bfM/fQ4RB9ZEgiZEeSpLmfJ2QzM8C/g1XWahfgvyUkHbczK7xvN0GSb5ETXmtmHLSsl0gQ0zngAxp1Pv5QCECdAAAAAElFTkSuQmCC\"/></td><td style=\"padding:1px;\"><img width=\"30\" height=\"30\" style=\"border:1px solid black; image-rendering:pixelated; object-fit:cover;\" src=\"data:image/png;base64,iVBORw0KGgoAAAANSUhEUgAAAAoAAAAKCAIAAAACUFjqAAAAR0lEQVR4nH2PwQ4AIAhCpf//59dBRzZbHhyCOAwAiIjsBtllVjrYzPLQNUkFUpjWkp/s4/gs4Cc7wYnW/yx3vXinS6u6e25s41k+7PsrUUYAAAAASUVORK5CYII=\"/></td><td style=\"padding:1px;\"><img width=\"30\" height=\"30\" style=\"border:1px solid black; image-rendering:pixelated; object-fit:cover;\" src=\"data:image/png;base64,iVBORw0KGgoAAAANSUhEUgAAAAoAAAAKCAIAAAACUFjqAAAARklEQVR4nH2OSwqAQAxD84r3v3JczBBrZcyikC9FkiTbgG01ALW8XKAnKkF9YPvqU9l4xMETXXqNdma3OPicORmvz4/4b9+jzSQCnqt7LwAAAABJRU5ErkJggg==\"/></td><td style=\"padding:1px;\"><img width=\"30\" height=\"30\" style=\"border:1px solid black; image-rendering:pixelated; object-fit:cover;\" src=\"data:image/png;base64,iVBORw0KGgoAAAANSUhEUgAAAAoAAAAKCAIAAAACUFjqAAAARUlEQVR4nHWPwQ4AIAhCw///59ehTYkWJ8UBomUA1o1qFpDUhzPrp0u1Y2yANnfmrDUxUtgA5QYRpFeRr3mZ98GKupG9AbUkOPL89x73AAAAAElFTkSuQmCC\"/></td><td style=\"padding:1px;\"><img width=\"30\" height=\"30\" style=\"border:1px solid black; image-rendering:pixelated; object-fit:cover;\" src=\"data:image/png;base64,iVBORw0KGgoAAAANSUhEUgAAAAoAAAAKCAIAAAACUFjqAAAASElEQVR4nG2OSRLAQAgCaf7/Z3MgZXQmnFAWRZKkqgoBwkPcQvuAJp/3t8N3bvnmMHOBD00bzuqufQPnPMoBa+N43rMZ6FvxPXAXPAv+EZybAAAAAElFTkSuQmCC\"/></td><td style=\"padding:1px;\"><img width=\"30\" height=\"30\" style=\"border:1px solid black; image-rendering:pixelated; object-fit:cover;\" src=\"data:image/png;base64,iVBORw0KGgoAAAANSUhEUgAAAAoAAAAKCAIAAAACUFjqAAAASElEQVR4nG1PQQ4AIAiC1v+/TAeWkcWhASFTYkMSAJImBiU1yyGTkX/lnrI2V6HLl2RdrsnMZu9xjWb87UDq9/2slhjtHpIpF0UrTeADBxBbAAAAAElFTkSuQmCC\"/></td><td style=\"padding:1px;\"><img width=\"30\" height=\"30\" style=\"border:1px solid black; image-rendering:pixelated; object-fit:cover;\" src=\"data:image/png;base64,iVBORw0KGgoAAAANSUhEUgAAAAoAAAAKCAIAAAACUFjqAAAAS0lEQVR4nHWPQQ4AMQgCh6b//zI92JiW7nowoAFUtgFAElC0MDD4qS2z3QaNu4/2edWS1NKKDHrE3GDfGIuQfrhVak3mG3yCfDR+WxIdSuaXvkRZAAAAAElFTkSuQmCC\"/></td><td style=\"padding:1px;\"><img width=\"30\" height=\"30\" style=\"border:1px solid black; image-rendering:pixelated; object-fit:cover;\" src=\"data:image/png;base64,iVBORw0KGgoAAAANSUhEUgAAAAoAAAAKCAIAAAACUFjqAAAASElEQVR4nGWOQRIAMAQDN/7/5/RgqkoOJiKIuLANSCoOqNiGpEj7UOte2M6+q58v+6r9nXJ7JCjl5dwmIPpsx6T/25Vx0BfJD9zjUN5dH34oAAAAAElFTkSuQmCC\"/></td></tr></table><table class=\"show_images\" style=\"border-spacing:0px;\"><tr><td style=\"padding:1px;\"><img width=\"30\" height=\"30\" style=\"border:1px solid black; image-rendering:pixelated; object-fit:cover;\" src=\"data:image/png;base64,iVBORw0KGgoAAAANSUhEUgAAAAoAAAAKCAIAAAACUFjqAAAAR0lEQVR4nHWPQQrAQAwCnf3/n+0hkLWW5hAYUGMkybZiFm2TDKSUZbi6FFHJOYyprqb7/FW7zuHdr3ZVtR45GzInu2nyN/8BgQVK4AvBzsgAAAAASUVORK5CYII=\"/></td><td style=\"padding:1px;\"><img width=\"30\" height=\"30\" style=\"border:1px solid black; image-rendering:pixelated; object-fit:cover;\" src=\"data:image/png;base64,iVBORw0KGgoAAAANSUhEUgAAAAoAAAAKCAIAAAACUFjqAAAARklEQVR4nH1PSRIAIAjCpv9/mQ6U2mIc3FBUYIGkBwIA8+oNM2sVIZk3TVIdTU721th2HymAXnFTNb/kF0XT57EQz3P5zAEt4yoNx5LExQAAAABJRU5ErkJggg==\"/></td><td style=\"padding:1px;\"><img width=\"30\" height=\"30\" style=\"border:1px solid black; image-rendering:pixelated; object-fit:cover;\" src=\"data:image/png;base64,iVBORw0KGgoAAAANSUhEUgAAAAoAAAAKCAIAAAACUFjqAAAARklEQVR4nHWOQQ7AQAgCGf//Z3ugpTZ1uUg0jEiPujvGkkS28Pqo/un9DADzxgqcv8qJ5MJwrDxm7Q/j1MuMOnW+lys2/gIDOTjzXZ5qMQAAAABJRU5ErkJggg==\"/></td><td style=\"padding:1px;\"><img width=\"30\" height=\"30\" style=\"border:1px solid black; image-rendering:pixelated; object-fit:cover;\" src=\"data:image/png;base64,iVBORw0KGgoAAAANSUhEUgAAAAoAAAAKCAIAAAACUFjqAAAASUlEQVR4nH2OQQoAMQgDx9L/fzl7SElFynoQY5xgAZKAqurzGbIa5YsVz3T6oSVFDBpYz3B7f7Rr0uGuPb7tcj8zb4bPOyQpyw+8GDkC5MaMcAAAAABJRU5ErkJggg==\"/></td><td style=\"padding:1px;\"><img width=\"30\" height=\"30\" style=\"border:1px solid black; image-rendering:pixelated; object-fit:cover;\" src=\"data:image/png;base64,iVBORw0KGgoAAAANSUhEUgAAAAoAAAAKCAIAAAACUFjqAAAAQ0lEQVR4nIWQSw4AIQhDX7n/netiDNE6UVbQXxoAbNtmnw9Rb4C0nUnHSKpftPN1sQJ1mtZqFVyIbuG2H80n158J6QDijC/3sNVJqwAAAABJRU5ErkJggg==\"/></td><td style=\"padding:1px;\"><img width=\"30\" height=\"30\" style=\"border:1px solid black; image-rendering:pixelated; object-fit:cover;\" src=\"data:image/png;base64,iVBORw0KGgoAAAANSUhEUgAAAAoAAAAKCAIAAAACUFjqAAAASklEQVR4nHWPwQ0AMQjDYnT7r5w+UBGHKE8ntAZJkmzrDpAEiB5UtWD0IPd67wPGA1WyHZ3mfz+P4TVmUesGsRolAUKPo/ftChIeuJgwD47wPEsAAAAASUVORK5CYII=\"/></td><td style=\"padding:1px;\"><img width=\"30\" height=\"30\" style=\"border:1px solid black; image-rendering:pixelated; object-fit:cover;\" src=\"data:image/png;base64,iVBORw0KGgoAAAANSUhEUgAAAAoAAAAKCAIAAAACUFjqAAAAS0lEQVR4nF2PQRLAMAgCs0z//2V6MHUoHDJZIxqwfULAXKaurc6D7TQo28tK8Q5fVEL67jnsT/lN28/5KzsAAWXKeCqehLtRNa1SvDo3PwdLtaenAAAAAElFTkSuQmCC\"/></td><td style=\"padding:1px;\"><img width=\"30\" height=\"30\" style=\"border:1px solid black; image-rendering:pixelated; object-fit:cover;\" src=\"data:image/png;base64,iVBORw0KGgoAAAANSUhEUgAAAAoAAAAKCAIAAAACUFjqAAAASUlEQVR4nHWPwREAMQgCgf57Ng9PYszFFyM7iAQAICJQQ/JYRo2JrbuRotOceOXnRi/va+DA3xIaaaOdbqOf0zD8dEIySNJJhhboalPX7jSVJQAAAABJRU5ErkJggg==\"/></td><td style=\"padding:1px;\"><img width=\"30\" height=\"30\" style=\"border:1px solid black; image-rendering:pixelated; object-fit:cover;\" src=\"data:image/png;base64,iVBORw0KGgoAAAANSUhEUgAAAAoAAAAKCAIAAAACUFjqAAAARUlEQVR4nHWNSxIAIAhCwfvfmRZOSjptGnryAQBJ+ZaobzhyAYAkB/Jbpwu56HR6d0H4ZIduTbh9DEl6zsPHPTkIf81JDoPqQfciRSFhAAAAAElFTkSuQmCC\"/></td><td style=\"padding:1px;\"><img width=\"30\" height=\"30\" style=\"border:1px solid black; image-rendering:pixelated; object-fit:cover;\" src=\"data:image/png;base64,iVBORw0KGgoAAAANSUhEUgAAAAoAAAAKCAIAAAACUFjqAAAARklEQVR4nHWNQRLAMAgCwf//eXuwoU6SckKR1ZIASbbjewScLEHkrTGD18zsZNzbUU3U+aL+ek0tAGjAhvnafZG7LHUflh6QszAFyoYM4QAAAABJRU5ErkJggg==\"/></td><td style=\"padding:1px;\"><img width=\"30\" height=\"30\" style=\"border:1px solid black; image-rendering:pixelated; object-fit:cover;\" src=\"data:image/png;base64,iVBORw0KGgoAAAANSUhEUgAAAAoAAAAKCAIAAAACUFjqAAAARElEQVR4nHWPwQ4AIAhCxf//59fB5orMg1MRGAIkRUQNQBzl+4VJWdRfpb1333BZtv3A7qs9ATPJvVvfvJ+gR3QP9gosblwkIN/u5bcAAAAASUVORK5CYII=\"/></td><td style=\"padding:1px;\"><img width=\"30\" height=\"30\" style=\"border:1px solid black; image-rendering:pixelated; object-fit:cover;\" src=\"data:image/png;base64,iVBORw0KGgoAAAANSUhEUgAAAAoAAAAKCAIAAAACUFjqAAAAR0lEQVR4nIWOSQ7AAAgCB///5+nBxG6m5UQIjkRNAgAqd2VPkw6LlwYGVLcmajO8/WvDkzyvp91JrdPO3x/wn+UqahfHXGEHGkY4+Fr/KXAAAAAASUVORK5CYII=\"/></td></tr></table><table class=\"show_images\" style=\"border-spacing:0px;\"><tr><td style=\"padding:1px;\"><img width=\"30\" height=\"30\" style=\"border:1px solid black; image-rendering:pixelated; object-fit:cover;\" src=\"data:image/png;base64,iVBORw0KGgoAAAANSUhEUgAAAAoAAAAKCAIAAAACUFjqAAAASUlEQVR4nI2QUQrAMAxCfbn/nbsPg0gHY36k1kQbqlOQ5BqCGZCGYWViAqzGDUzGr/DNeEuN+ehJmr7k4V/hwIa3r5ff4/qN8AcK2kTkEZ9GTgAAAABJRU5ErkJggg==\"/></td><td style=\"padding:1px;\"><img width=\"30\" height=\"30\" style=\"border:1px solid black; image-rendering:pixelated; object-fit:cover;\" src=\"data:image/png;base64,iVBORw0KGgoAAAANSUhEUgAAAAoAAAAKCAIAAAACUFjqAAAATElEQVR4nGWQQQ6AQAgDO8T/f7ke0Iosp0KGpiDbkmy36Iqu2QQNx2zOKknAww7Rmu32EraB6zSfk5pLwMpfK3O4n1vuXm/43GaobN6kh0fpMh3vrQAAAABJRU5ErkJggg==\"/></td><td style=\"padding:1px;\"><img width=\"30\" height=\"30\" style=\"border:1px solid black; image-rendering:pixelated; object-fit:cover;\" src=\"data:image/png;base64,iVBORw0KGgoAAAANSUhEUgAAAAoAAAAKCAIAAAACUFjqAAAASUlEQVR4nG2OQQ7AMAjDMOr/v5wdVkWBjQNCSWu5JFXV2j6O03ckAQ5ZdQ7Qfu4oDwz8ZXRK5e9bD9RkAJ2e1zYA5ys1AMt81Q8Tjz7/ovHZVAAAAABJRU5ErkJggg==\"/></td><td style=\"padding:1px;\"><img width=\"30\" height=\"30\" style=\"border:1px solid black; image-rendering:pixelated; object-fit:cover;\" src=\"data:image/png;base64,iVBORw0KGgoAAAANSUhEUgAAAAoAAAAKCAIAAAACUFjqAAAARElEQVR4nG2OQQ4AIAzC1v3/z3gwQXRyWhglIKlCQFVtE+i65TQgqSfqA1dlZ6Z5rEftwv970gl8aE+56Mw50dOCM3kBzP4nHu58oBYAAAAASUVORK5CYII=\"/></td><td style=\"padding:1px;\"><img width=\"30\" height=\"30\" style=\"border:1px solid black; image-rendering:pixelated; object-fit:cover;\" src=\"data:image/png;base64,iVBORw0KGgoAAAANSUhEUgAAAAoAAAAKCAIAAAACUFjqAAAASklEQVR4nG2PQQ4AMQgCh/7/z+zBDbW1HgxBQZFtQFIAUBhYjMpM0rqoa2/FcJ74edvFdlBdT9tIH68dV+bDXb1TJnGkW92zdo8PAMk7+QD65pcAAAAASUVORK5CYII=\"/></td><td style=\"padding:1px;\"><img width=\"30\" height=\"30\" style=\"border:1px solid black; image-rendering:pixelated; object-fit:cover;\" src=\"data:image/png;base64,iVBORw0KGgoAAAANSUhEUgAAAAoAAAAKCAIAAAACUFjqAAAARElEQVR4nF2PQQ4AMQgCF///Z3ogSwBPdJxUxddFUgFAIZIOtpF6NkSwektXY37V5OZtSeTmN3uCl9umKm9X25pzrSo86NBE7NCIh0IAAAAASUVORK5CYII=\"/></td><td style=\"padding:1px;\"><img width=\"30\" height=\"30\" style=\"border:1px solid black; image-rendering:pixelated; object-fit:cover;\" src=\"data:image/png;base64,iVBORw0KGgoAAAANSUhEUgAAAAoAAAAKCAIAAAACUFjqAAAAS0lEQVR4nHWPSw4AMQhCeWbuf2W6sDGOpi4MiB+UJNuSOihMlYDRISk6GRoQOQTYTqw9UbkiKT8j0Pcz+I7ovUMDvtdL12xd3b8BB/18PvcCiBrEAAAAAElFTkSuQmCC\"/></td><td style=\"padding:1px;\"><img width=\"30\" height=\"30\" style=\"border:1px solid black; image-rendering:pixelated; object-fit:cover;\" src=\"data:image/png;base64,iVBORw0KGgoAAAANSUhEUgAAAAoAAAAKCAIAAAACUFjqAAAARklEQVR4nG2PyQ0AMAjDHNT9V6YPEEVReTkcAQRkJiDJAHjUejUBMdnS010QO1v8CRsaPqbN6e02/9494nuEP2YR+2OrSbp0PTkG1g1JvQAAAABJRU5ErkJggg==\"/></td><td style=\"padding:1px;\"><img width=\"30\" height=\"30\" style=\"border:1px solid black; image-rendering:pixelated; object-fit:cover;\" src=\"data:image/png;base64,iVBORw0KGgoAAAANSUhEUgAAAAoAAAAKCAIAAAACUFjqAAAARklEQVR4nG2QSQ4AIAgDLf//83gw1opyarpBGMDYYwwsrJTbSCqjVwNO2o5kyoL3XR2225T9nWq761O4M5Iqb07hSuRDkp8fmDj+cjrLmAAAAABJRU5ErkJggg==\"/></td><td style=\"padding:1px;\"><img width=\"30\" height=\"30\" style=\"border:1px solid black; image-rendering:pixelated; object-fit:cover;\" src=\"data:image/png;base64,iVBORw0KGgoAAAANSUhEUgAAAAoAAAAKCAIAAAACUFjqAAAASElEQVR4nGWOQRIAMAQDN/7/5/TQVhUHI5YAYNs2N2qtrSU1cPA3K7WJqKIxSVFFY918nghG5KdAHJOS84l3e2+k59vO1mTAAvENMAq3RI2TAAAAAElFTkSuQmCC\"/></td><td style=\"padding:1px;\"><img width=\"30\" height=\"30\" style=\"border:1px solid black; image-rendering:pixelated; object-fit:cover;\" src=\"data:image/png;base64,iVBORw0KGgoAAAANSUhEUgAAAAoAAAAKCAIAAAACUFjqAAAASUlEQVR4nG2PQQ4AMQgCGf//Z/bQFI1bD0YRFLEtCbB9sm4ASJrQilqzI0hdC9rsCeV2BDW54aXocRTQlt/L29rs/x+285nD/gCmYTARiKnSGQAAAABJRU5ErkJggg==\"/></td><td style=\"padding:1px;\"><img width=\"30\" height=\"30\" style=\"border:1px solid black; image-rendering:pixelated; object-fit:cover;\" src=\"data:image/png;base64,iVBORw0KGgoAAAANSUhEUgAAAAoAAAAKCAIAAAACUFjqAAAASUlEQVR4nHWOwRHAQAgCWfvvmXs48RiT8ELUVUmyLalNS4/I9lu1amAMXfQ2MOaGf+SeLriYxddA8uFMPu4lphYmybbJ8dke2AH08EH0TbcctQAAAABJRU5ErkJggg==\"/></td></tr></table><table class=\"show_images\" style=\"border-spacing:0px;\"><tr><td style=\"padding:1px;\"><img width=\"30\" height=\"30\" style=\"border:1px solid black; image-rendering:pixelated; object-fit:cover;\" src=\"data:image/png;base64,iVBORw0KGgoAAAANSUhEUgAAAAoAAAAKCAIAAAACUFjqAAAAPUlEQVR4nIVOQQoAMAjS/v9nd4i5WEEegtQ04EKSpLoCYKU6YmRJznIKjgwbXVmZ2Lt7wPza53v2vOhzcR/VNS/wjC7doAAAAABJRU5ErkJggg==\"/></td><td style=\"padding:1px;\"><img width=\"30\" height=\"30\" style=\"border:1px solid black; image-rendering:pixelated; object-fit:cover;\" src=\"data:image/png;base64,iVBORw0KGgoAAAANSUhEUgAAAAoAAAAKCAIAAAACUFjqAAAAQ0lEQVR4nH2OQRIAIAgCl/7/ZzvQlKMVJwYREBARgCRzSVaAwzJsXedsr74dfs14/hmj953XLb0Gjq7WcI//+ypcNwEP0iEKqd+R0wAAAABJRU5ErkJggg==\"/></td><td style=\"padding:1px;\"><img width=\"30\" height=\"30\" style=\"border:1px solid black; image-rendering:pixelated; object-fit:cover;\" src=\"data:image/png;base64,iVBORw0KGgoAAAANSUhEUgAAAAoAAAAKCAIAAAACUFjqAAAASUlEQVR4nGWPwQ3AMAwCj6j7r0wfVmhDeJ2wETaAbSDgLWD9BwOSwk9Fo1la2b1le92hOJK+9EB1qdKlo3tYUsyjO3/3hTWI8wJ5kUfrs7ct5QAAAABJRU5ErkJggg==\"/></td><td style=\"padding:1px;\"><img width=\"30\" height=\"30\" style=\"border:1px solid black; image-rendering:pixelated; object-fit:cover;\" src=\"data:image/png;base64,iVBORw0KGgoAAAANSUhEUgAAAAoAAAAKCAIAAAACUFjqAAAATUlEQVR4nG2QQQ4AMQgCGbP//zJ7sLGs2Z5QzEAq25JsL9GPXp0B0pNUOdsG0ia9Bnx4v/ARdTkRPEd03mp0qy34Es86z+ZAzWoi8mdeb4tB+XBhe2gAAAAASUVORK5CYII=\"/></td><td style=\"padding:1px;\"><img width=\"30\" height=\"30\" style=\"border:1px solid black; image-rendering:pixelated; object-fit:cover;\" src=\"data:image/png;base64,iVBORw0KGgoAAAANSUhEUgAAAAoAAAAKCAIAAAACUFjqAAAASUlEQVR4nG2OSw7AQAhCeab3v7JdTAaJLQviD1DdLcl8CqPOFMjF3PVF7swlCbA6WdLjZvlPdgLIFDLva1BLZ/XYLEV+x++FU14+Uk3fCzJvBwAAAABJRU5ErkJggg==\"/></td><td style=\"padding:1px;\"><img width=\"30\" height=\"30\" style=\"border:1px solid black; image-rendering:pixelated; object-fit:cover;\" src=\"data:image/png;base64,iVBORw0KGgoAAAANSUhEUgAAAAoAAAAKCAIAAAACUFjqAAAAR0lEQVR4nH2NwQKAMAhCH/3/P7ODi9yqeUBEBWwDwSruUh8A6VEkXWH9oj8Qw04KNZv2lGn+3sXc9sn5Nzu6lsPP7E0qLDIAUDJc0QMcIScAAAAASUVORK5CYII=\"/></td><td style=\"padding:1px;\"><img width=\"30\" height=\"30\" style=\"border:1px solid black; image-rendering:pixelated; object-fit:cover;\" src=\"data:image/png;base64,iVBORw0KGgoAAAANSUhEUgAAAAoAAAAKCAIAAAACUFjqAAAATElEQVR4nHWPwQ4AIAhCea3//2U6mOZacVGUISLJtiRJQFAghlkgFF1qeyjx0x1iu5rtcQsT+3zfVV8251Kl7ZhP8wr4fSyGA3jaBhby0Ufq8B7AIAAAAABJRU5ErkJggg==\"/></td><td style=\"padding:1px;\"><img width=\"30\" height=\"30\" style=\"border:1px solid black; image-rendering:pixelated; object-fit:cover;\" src=\"data:image/png;base64,iVBORw0KGgoAAAANSUhEUgAAAAoAAAAKCAIAAAACUFjqAAAAR0lEQVR4nJWOQRKAMAgDd/n/n/GARcbqoTlBEkLIBQCooZlgoXa1rbesTseEH9Rwx5+Qme6x87cau/YOP6s2q0SddoA+hYAL6iU8AZdYiJIAAAAASUVORK5CYII=\"/></td><td style=\"padding:1px;\"><img width=\"30\" height=\"30\" style=\"border:1px solid black; image-rendering:pixelated; object-fit:cover;\" src=\"data:image/png;base64,iVBORw0KGgoAAAANSUhEUgAAAAoAAAAKCAIAAAACUFjqAAAATUlEQVR4nGWPQQ6AQAgDO8T/f7ke0IpsDyRAWgbZti2pa9QtaxoBkjh9UzV3wGN665UmEPN8neHwAfHjZJNWMteuL9Z6dOYDFdppiuEGgEg8A2AEPdIAAAAASUVORK5CYII=\"/></td><td style=\"padding:1px;\"><img width=\"30\" height=\"30\" style=\"border:1px solid black; image-rendering:pixelated; object-fit:cover;\" src=\"data:image/png;base64,iVBORw0KGgoAAAANSUhEUgAAAAoAAAAKCAIAAAACUFjqAAAATElEQVR4nG2OwQ0AMQjD7O6/c+7RE43U8gElBAwAJEmyh1EA/6bt7fKpdq3x9urJKbDam43zsVluuvfvYTKJ+qRTV6eb7hxvnI4m+QB5U0Hxe2s0QQAAAABJRU5ErkJggg==\"/></td><td style=\"padding:1px;\"><img width=\"30\" height=\"30\" style=\"border:1px solid black; image-rendering:pixelated; object-fit:cover;\" src=\"data:image/png;base64,iVBORw0KGgoAAAANSUhEUgAAAAoAAAAKCAIAAAACUFjqAAAASUlEQVR4nG2OQQ7AIAzDmvz/z96hWpQxOFQktQUDzAyQS0enykkELElSrzv6wA/OhyFpoW189dIYWHBnq4D+Xj/3UqV+oOuH4zxppUH49aI/IwAAAABJRU5ErkJggg==\"/></td><td style=\"padding:1px;\"><img width=\"30\" height=\"30\" style=\"border:1px solid black; image-rendering:pixelated; object-fit:cover;\" src=\"data:image/png;base64,iVBORw0KGgoAAAANSUhEUgAAAAoAAAAKCAIAAAACUFjqAAAARUlEQVR4nI2PSQ4AIAwCwf//GQ9VgnGJnLoNbYEpSZIyAMDKcRLJVj2SLqUfb+igazyhX3o5zQYJNK/Jfzz9emy0d0+rA+20L/iRf4pWAAAAAElFTkSuQmCC\"/></td></tr></table><table class=\"show_images\" style=\"border-spacing:0px;\"><tr><td style=\"padding:1px;\"><img width=\"30\" height=\"30\" style=\"border:1px solid black; image-rendering:pixelated; object-fit:cover;\" src=\"data:image/png;base64,iVBORw0KGgoAAAANSUhEUgAAAAoAAAAKCAIAAAACUFjqAAAAQElEQVR4nH2QQRIAMAQDrf//WQ/aToYhJ7UaGdhTRGQB/CYKkulcxUWuD7W9WK36+s0c8AnkN5bYNVrPgQ0HSR3sVycMKDUr3QAAAABJRU5ErkJggg==\"/></td><td style=\"padding:1px;\"><img width=\"30\" height=\"30\" style=\"border:1px solid black; image-rendering:pixelated; object-fit:cover;\" src=\"data:image/png;base64,iVBORw0KGgoAAAANSUhEUgAAAAoAAAAKCAIAAAACUFjqAAAATElEQVR4nHWPQQ4AIQwCaf//5/FAUlF3OWhFUqAkAZKqaoZN+hqkCGj9wKLj22t9Gp0UcHm138Pa8l1zuG51FvM84T+KXfU6AxsZZQGo3jwJX97VkgAAAABJRU5ErkJggg==\"/></td><td style=\"padding:1px;\"><img width=\"30\" height=\"30\" style=\"border:1px solid black; image-rendering:pixelated; object-fit:cover;\" src=\"data:image/png;base64,iVBORw0KGgoAAAANSUhEUgAAAAoAAAAKCAIAAAACUFjqAAAAP0lEQVR4nI2OQQoAMAjD2v3/z9lBkOI8rKdIDSpFgDEasD0KSbYl+ZVye/FmagNo2LssipfbmbM+3PxnD6n5Aqs8Nemo2pLqAAAAAElFTkSuQmCC\"/></td><td style=\"padding:1px;\"><img width=\"30\" height=\"30\" style=\"border:1px solid black; image-rendering:pixelated; object-fit:cover;\" src=\"data:image/png;base64,iVBORw0KGgoAAAANSUhEUgAAAAoAAAAKCAIAAAACUFjqAAAASUlEQVR4nGWPwREAMQgCWfvv2Xsw46HxFVQWQ3dLAvxwWQJMyzqXJJUHs6Fd5dZE5Ayo1Oav+Be43AlM63/aa5qUCz9/q0M7130SGjAXUdnuIAAAAABJRU5ErkJggg==\"/></td><td style=\"padding:1px;\"><img width=\"30\" height=\"30\" style=\"border:1px solid black; image-rendering:pixelated; object-fit:cover;\" src=\"data:image/png;base64,iVBORw0KGgoAAAANSUhEUgAAAAoAAAAKCAIAAAACUFjqAAAASElEQVR4nG2QWw4AMAQEZ93/zvoh3arwIV5rBACQmd2XAeFqN0lV19r2UIy8dCbGkI70MrRTtIKNmCLpEzx2319xPxO/wgFwAPxHQemPRv43AAAAAElFTkSuQmCC\"/></td><td style=\"padding:1px;\"><img width=\"30\" height=\"30\" style=\"border:1px solid black; image-rendering:pixelated; object-fit:cover;\" src=\"data:image/png;base64,iVBORw0KGgoAAAANSUhEUgAAAAoAAAAKCAIAAAACUFjqAAAARklEQVR4nG2PQRIAMAQDrf//OT3oqMIhI5gkTJKZBc6G5LMAX6dACPQ1PL179Zmx2UmqGZMut59+fWaWS4oEiTXQC9VcAw9PMkTn2q0jkQAAAABJRU5ErkJggg==\"/></td><td style=\"padding:1px;\"><img width=\"30\" height=\"30\" style=\"border:1px solid black; image-rendering:pixelated; object-fit:cover;\" src=\"data:image/png;base64,iVBORw0KGgoAAAANSUhEUgAAAAoAAAAKCAIAAAACUFjqAAAAR0lEQVR4nG2OsQ0AMAjDYv7/OR2QKC1kQzhgbGsEsA3E3EmqTgCJrwcu27/YzpFv8fQkVrXKVQMWg0+105IiLaZ/FqK7FFc5AbYzA+BP9tcAAAAASUVORK5CYII=\"/></td><td style=\"padding:1px;\"><img width=\"30\" height=\"30\" style=\"border:1px solid black; image-rendering:pixelated; object-fit:cover;\" src=\"data:image/png;base64,iVBORw0KGgoAAAANSUhEUgAAAAoAAAAKCAIAAAACUFjqAAAASUlEQVR4nH2QQQ7AQAgCwfT/X54eTFw3pPUkCGgUoCig+WdwiiT5ZyapjtC23c1hvty2gcrBvqbGOpnX7mQ3U7n4ymswf9gK4AVlPy/8ZZHb5gAAAABJRU5ErkJggg==\"/></td><td style=\"padding:1px;\"><img width=\"30\" height=\"30\" style=\"border:1px solid black; image-rendering:pixelated; object-fit:cover;\" src=\"data:image/png;base64,iVBORw0KGgoAAAANSUhEUgAAAAoAAAAKCAIAAAACUFjqAAAAQklEQVR4nGVOQQ4AQQxR//+zPXRjRB2aVhEAIAmBPOe+/8eMJBZVIqZ19xYt62m0+4IVsMnO562Tarpz6d5Z1ZL8AJ7wPur5bC4AAAAAAElFTkSuQmCC\"/></td><td style=\"padding:1px;\"><img width=\"30\" height=\"30\" style=\"border:1px solid black; image-rendering:pixelated; object-fit:cover;\" src=\"data:image/png;base64,iVBORw0KGgoAAAANSUhEUgAAAAoAAAAKCAIAAAACUFjqAAAARUlEQVR4nH2OQQoAQQjDEtn/f9k9OIgMOJ5abKoAmQlM0fqbXp0JwAu6JgD1td5oNTausKiPtv5XORDFzUQ3ndvlZ38zPyYZJBGhqyDXAAAAAElFTkSuQmCC\"/></td><td style=\"padding:1px;\"><img width=\"30\" height=\"30\" style=\"border:1px solid black; image-rendering:pixelated; object-fit:cover;\" src=\"data:image/png;base64,iVBORw0KGgoAAAANSUhEUgAAAAoAAAAKCAIAAAACUFjqAAAAR0lEQVR4nGWPQQ7AAAjCCv//MzuYEec4EYsRAZIANUk6cUGZJF65QWDAnpilvTqhD/4nLt4JSe7J3aA1fboc+axe/H9szPgHY+U2AeixOzMAAAAASUVORK5CYII=\"/></td><td style=\"padding:1px;\"><img width=\"30\" height=\"30\" style=\"border:1px solid black; image-rendering:pixelated; object-fit:cover;\" src=\"data:image/png;base64,iVBORw0KGgoAAAANSUhEUgAAAAoAAAAKCAIAAAACUFjqAAAAQ0lEQVR4nH1OQQ4AIAhC//9nOtAcRYuDY6gAAJD0KSLULBJV1SlpijTJkTKiXdKF4zb3lN1prLy2yK/529ybHq8ZsQBZn0HpaUOB/AAAAABJRU5ErkJggg==\"/></td></tr></table><table class=\"show_images\" style=\"border-spacing:0px;\"><tr><td style=\"padding:1px;\"><img width=\"30\" height=\"30\" style=\"border:1px solid black; image-rendering:pixelated; object-fit:cover;\" src=\"data:image/png;base64,iVBORw0KGgoAAAANSUhEUgAAAAoAAAAKCAIAAAACUFjqAAAARUlEQVR4nGWOQRLAMAgC3fz/z9tDG0sMB0ZERqpOqGpLUnwrUF9edaEDwLSBZpU8v7FGbswr64z3ZGJ8+S038uIolF7yA/GjO+5QQASCAAAAAElFTkSuQmCC\"/></td><td style=\"padding:1px;\"><img width=\"30\" height=\"30\" style=\"border:1px solid black; image-rendering:pixelated; object-fit:cover;\" src=\"data:image/png;base64,iVBORw0KGgoAAAANSUhEUgAAAAoAAAAKCAIAAAACUFjqAAAARElEQVR4nI2O0QoAIAgDp/T/v7weFsMsIp92oOcAAADJGoyxQXQMwzna7kJl4SApRzNr8nptRzZe/36qLfmjedpWg/MEUds1/j00ofUAAAAASUVORK5CYII=\"/></td><td style=\"padding:1px;\"><img width=\"30\" height=\"30\" style=\"border:1px solid black; image-rendering:pixelated; object-fit:cover;\" src=\"data:image/png;base64,iVBORw0KGgoAAAANSUhEUgAAAAoAAAAKCAIAAAACUFjqAAAARUlEQVR4nIWOSwoAMQhDX7z/nTMLSyhamCxE80MA20CWnEA9tUzd3oakOB7y7audC2xXKOk0NXPmeHWgdueUf9JdsDskfVa7LQRXLr9IAAAAAElFTkSuQmCC\"/></td><td style=\"padding:1px;\"><img width=\"30\" height=\"30\" style=\"border:1px solid black; image-rendering:pixelated; object-fit:cover;\" src=\"data:image/png;base64,iVBORw0KGgoAAAANSUhEUgAAAAoAAAAKCAIAAAACUFjqAAAARklEQVR4nG2OQQ4AMQgCwez/v0wPJpS1ejBkCAoAAJBk0brFZyPnBzMxdq0J60pKcryoRKMH7b0FSUqq4eWxJd3kVltLmRy7s0Hqp7VeBwAAAABJRU5ErkJggg==\"/></td><td style=\"padding:1px;\"><img width=\"30\" height=\"30\" style=\"border:1px solid black; image-rendering:pixelated; object-fit:cover;\" src=\"data:image/png;base64,iVBORw0KGgoAAAANSUhEUgAAAAoAAAAKCAIAAAACUFjqAAAARklEQVR4nG2OQRIAIAgC2f7/ZzuYZJN7cmAAJUlSFCryxlcHSHH9Rg8QESndwooee87Bs91DZlnyCuC54XN7x3Z0KNeE+zdPwTj+/6VA5gAAAABJRU5ErkJggg==\"/></td><td style=\"padding:1px;\"><img width=\"30\" height=\"30\" style=\"border:1px solid black; image-rendering:pixelated; object-fit:cover;\" src=\"data:image/png;base64,iVBORw0KGgoAAAANSUhEUgAAAAoAAAAKCAIAAAACUFjqAAAASElEQVR4nH2PSQoAQQgDKzL//3L60EMQhfbkkoqKbcAtgNsBShIrwlSKPgtTG5UUhbrb1k26n2Jbm7vm/+7Ik3Rg0uPP74ECB3XJNf0LcqwWAAAAAElFTkSuQmCC\"/></td><td style=\"padding:1px;\"><img width=\"30\" height=\"30\" style=\"border:1px solid black; image-rendering:pixelated; object-fit:cover;\" src=\"data:image/png;base64,iVBORw0KGgoAAAANSUhEUgAAAAoAAAAKCAIAAAACUFjqAAAAQ0lEQVR4nHWQSQ4AMAgCgf//2R5ojVHLwbhkIBEAIgJPtQdAzyTbwdIK9fNPImnzL70GG9AanGaaqwp02xp0gfmWrAfwlioA9YvTIQAAAABJRU5ErkJggg==\"/></td><td style=\"padding:1px;\"><img width=\"30\" height=\"30\" style=\"border:1px solid black; image-rendering:pixelated; object-fit:cover;\" src=\"data:image/png;base64,iVBORw0KGgoAAAANSUhEUgAAAAoAAAAKCAIAAAACUFjqAAAASElEQVR4nIWPwQ3AMAgDuey/s/ugukREVflgZLBNVVWSJCewVjdgEG+dd25MGZeG14em3oCDeIO+NloTSi69gTv/Fr+f/k/+APR7Vs+/zmrwAAAAAElFTkSuQmCC\"/></td><td style=\"padding:1px;\"><img width=\"30\" height=\"30\" style=\"border:1px solid black; image-rendering:pixelated; object-fit:cover;\" src=\"data:image/png;base64,iVBORw0KGgoAAAANSUhEUgAAAAoAAAAKCAIAAAACUFjqAAAASUlEQVR4nH2OQQ4AIQwCmcb/f5k9UI3RrHPsQAOSJNnWBLANSKrDLXKsxG8Run0kVq7uxk79ifzj0QbGLdLr5f0E9nVxtsd72geoPi0Iv2PREQAAAABJRU5ErkJggg==\"/></td><td style=\"padding:1px;\"><img width=\"30\" height=\"30\" style=\"border:1px solid black; image-rendering:pixelated; object-fit:cover;\" src=\"data:image/png;base64,iVBORw0KGgoAAAANSUhEUgAAAAoAAAAKCAIAAAACUFjqAAAARklEQVR4nHWPQRIAIAgCgf//2Q6WGRUHZ9RhUcQSgKxdjAiSz92UuTtPZUqMMbw3CUBmZz2spPoFNT3cxu+tivyL2I/djAESEUHpa8U/7wAAAABJRU5ErkJggg==\"/></td><td style=\"padding:1px;\"><img width=\"30\" height=\"30\" style=\"border:1px solid black; image-rendering:pixelated; object-fit:cover;\" src=\"data:image/png;base64,iVBORw0KGgoAAAANSUhEUgAAAAoAAAAKCAIAAAACUFjqAAAARklEQVR4nG2QQQ4AIAjDOv7/Zz0Q5zTsRDobA6wTAOjBpABJLr7hKTqSTMrIdb4e7BRqpHY0qk7lr203uTw3yRvcbrwMsAEEO0ffoD42pAAAAABJRU5ErkJggg==\"/></td><td style=\"padding:1px;\"><img width=\"30\" height=\"30\" style=\"border:1px solid black; image-rendering:pixelated; object-fit:cover;\" src=\"data:image/png;base64,iVBORw0KGgoAAAANSUhEUgAAAAoAAAAKCAIAAAACUFjqAAAARElEQVR4nH2PwQoAMAhCtf//57fDwI0W6xCaYWZAkiTbDfsejVUfzXYFNeGQ139PgAp6+2C+tdAheb4CPN7uAYEs3WABAlw+8rrtjoEAAAAASUVORK5CYII=\"/></td></tr></table><table class=\"show_images\" style=\"border-spacing:0px;\"><tr><td style=\"padding:1px;\"><img width=\"30\" height=\"30\" style=\"border:1px solid black; image-rendering:pixelated; object-fit:cover;\" src=\"data:image/png;base64,iVBORw0KGgoAAAANSUhEUgAAAAoAAAAKCAIAAAACUFjqAAAAR0lEQVR4nH2QwQ4AIAhCof//ZzrQzNR1YRT2aEISAGsYSTbMGfkcAawe2B+NwZGxPnCSzE2+Grp7RY1NPszw47v7iUKLhVg3QUQ+8niZ20wAAAAASUVORK5CYII=\"/></td><td style=\"padding:1px;\"><img width=\"30\" height=\"30\" style=\"border:1px solid black; image-rendering:pixelated; object-fit:cover;\" src=\"data:image/png;base64,iVBORw0KGgoAAAANSUhEUgAAAAoAAAAKCAIAAAACUFjqAAAAS0lEQVR4nHWQSw4AIQxCoZn7XxkXjMT6YVWBvDZSEqZI5umZa2wXgE3+Fe6lqK5uSBXUmUkqL7tmDe4eyXZKJk01zOtmwz4cv7FSB9VpNgjk4L0JAAAAAElFTkSuQmCC\"/></td><td style=\"padding:1px;\"><img width=\"30\" height=\"30\" style=\"border:1px solid black; image-rendering:pixelated; object-fit:cover;\" src=\"data:image/png;base64,iVBORw0KGgoAAAANSUhEUgAAAAoAAAAKCAIAAAACUFjqAAAAS0lEQVR4nGWOQQ7AQAgCmf3/n+nBlLWUgzEqjEiyrVdAettHS4DtuZ7Ktsad4dlpBZL0Cc8FcG1xhJoPml3/d3gWY+v1gBOJftq4BxmyOPFOKUCaAAAAAElFTkSuQmCC\"/></td><td style=\"padding:1px;\"><img width=\"30\" height=\"30\" style=\"border:1px solid black; image-rendering:pixelated; object-fit:cover;\" src=\"data:image/png;base64,iVBORw0KGgoAAAANSUhEUgAAAAoAAAAKCAIAAAACUFjqAAAASElEQVR4nG1QSRIAIAhC//9nOlBojh4cJhZTAADAV8LuKToi1PVqT1g4OBly5exOI2yVnjpibyrJNVm6Eg6i3IPou3z/7AcRON/7R+xGCIyNAAAAAElFTkSuQmCC\"/></td><td style=\"padding:1px;\"><img width=\"30\" height=\"30\" style=\"border:1px solid black; image-rendering:pixelated; object-fit:cover;\" src=\"data:image/png;base64,iVBORw0KGgoAAAANSUhEUgAAAAoAAAAKCAIAAAACUFjqAAAASklEQVR4nG2QSQ4AIAwCgf//GQ81BBdOWEdKJADbAEiOGZEEoIwC9VEoTUATDNhEvPqutw6nRH3b8Xp9TdRtX2k3rH1HWNz7J7YXNvs2DvbDyVYAAAAASUVORK5CYII=\"/></td><td style=\"padding:1px;\"><img width=\"30\" height=\"30\" style=\"border:1px solid black; image-rendering:pixelated; object-fit:cover;\" src=\"data:image/png;base64,iVBORw0KGgoAAAANSUhEUgAAAAoAAAAKCAIAAAACUFjqAAAASklEQVR4nG2OUQ7AMAhCec3uf2X2YUqdKx8GFIiSJMm2bTWUZGwHFgCUCAlIzxXPtO+Ckyk2ZpEVR+Xg8+wpz7Y71v+dnia11/MLZpw19EGwvKUAAAAASUVORK5CYII=\"/></td><td style=\"padding:1px;\"><img width=\"30\" height=\"30\" style=\"border:1px solid black; image-rendering:pixelated; object-fit:cover;\" src=\"data:image/png;base64,iVBORw0KGgoAAAANSUhEUgAAAAoAAAAKCAIAAAACUFjqAAAASklEQVR4nGWOQQ4AMQgCB9P/f3n3YIqkekIcaAG+O60Bi9OLJFsmgDLbbnNzNpsF1mcnEqps9jhdOy1pXmwqrST01D41Uy5p//EHrNE/A6hun4wAAAAASUVORK5CYII=\"/></td><td style=\"padding:1px;\"><img width=\"30\" height=\"30\" style=\"border:1px solid black; image-rendering:pixelated; object-fit:cover;\" src=\"data:image/png;base64,iVBORw0KGgoAAAANSUhEUgAAAAoAAAAKCAIAAAACUFjqAAAARklEQVR4nHWOwRHAMAjDMPvvrD5MSK9QXiHCAsUpwA9J3eoNZuXKLIiIXEGZe+rPn8Bkjkn6yv3rALDIe2OdNuWdvmweATxxqjXx5MevIgAAAABJRU5ErkJggg==\"/></td><td style=\"padding:1px;\"><img width=\"30\" height=\"30\" style=\"border:1px solid black; image-rendering:pixelated; object-fit:cover;\" src=\"data:image/png;base64,iVBORw0KGgoAAAANSUhEUgAAAAoAAAAKCAIAAAACUFjqAAAASUlEQVR4nHWPQQ7AQAgCmU3//2V6IDGuth6IoqLItqRgohjbVAPoQ4nTC6DwktpJ8NlUT87461KWSDvs72uxsTUYx4YRPpfq3AtlJUHoprZFSwAAAABJRU5ErkJggg==\"/></td><td style=\"padding:1px;\"><img width=\"30\" height=\"30\" style=\"border:1px solid black; image-rendering:pixelated; object-fit:cover;\" src=\"data:image/png;base64,iVBORw0KGgoAAAANSUhEUgAAAAoAAAAKCAIAAAACUFjqAAAASklEQVR4nHWPSQ4AIQgEq8z8/8t4IEF0lAOhU80GAERE5iwq7BhQu+PrbOtTwCsrh13/reM46mjwtTutY9uU57jeWbhm9CfvrOQE+UQ19AJVUowAAAAASUVORK5CYII=\"/></td><td style=\"padding:1px;\"><img width=\"30\" height=\"30\" style=\"border:1px solid black; image-rendering:pixelated; object-fit:cover;\" src=\"data:image/png;base64,iVBORw0KGgoAAAANSUhEUgAAAAoAAAAKCAIAAAACUFjqAAAARklEQVR4nG2QSxIAIAhCxfvf+bWwGjJZ4QdkDCAigCKNZ9WS7syX0ru+V5ArGiSlKwbyS5v/Y87BTt6iuhRQtcZ0z5XxMwsqqFPWsW1p+gAAAABJRU5ErkJggg==\"/></td><td style=\"padding:1px;\"><img width=\"30\" height=\"30\" style=\"border:1px solid black; image-rendering:pixelated; object-fit:cover;\" src=\"data:image/png;base64,iVBORw0KGgoAAAANSUhEUgAAAAoAAAAKCAIAAAACUFjqAAAASElEQVR4nGVOSRIAIAgCp/9/mQ62EHlwFAQBAEmSsMtn9k7S0cWRFQqSblOP1ebOUH5+bLozrP7fK7aLvEacR5RL/9InS9CNTDUHQe2M7CX4AAAAAElFTkSuQmCC\"/></td></tr></table><table class=\"show_images\" style=\"border-spacing:0px;\"><tr><td style=\"padding:1px;\"><img width=\"30\" height=\"30\" style=\"border:1px solid black; image-rendering:pixelated; object-fit:cover;\" src=\"data:image/png;base64,iVBORw0KGgoAAAANSUhEUgAAAAoAAAAKCAIAAAACUFjqAAAAR0lEQVR4nHWOQRKAQAjDUv7/53hQGQZXbjS0NACg8k6SXktVkzRjTLX7BjMGSLOV/+hfxyH8F+9no1qSWuq8Vmupy33u1eIFP5AwAVEEj7AAAAAASUVORK5CYII=\"/></td><td style=\"padding:1px;\"><img width=\"30\" height=\"30\" style=\"border:1px solid black; image-rendering:pixelated; object-fit:cover;\" src=\"data:image/png;base64,iVBORw0KGgoAAAANSUhEUgAAAAoAAAAKCAIAAAACUFjqAAAASklEQVR4nHWQSQ7AMAwCwcr/v0wPRNS1VU4js0QKJAGQZLDCB00jQZKh7kW1ex87hpc6k6y/h287pd5O6B03jFD5lGtCewzjiyQ9pPM7+pa0Bj8AAAAASUVORK5CYII=\"/></td><td style=\"padding:1px;\"><img width=\"30\" height=\"30\" style=\"border:1px solid black; image-rendering:pixelated; object-fit:cover;\" src=\"data:image/png;base64,iVBORw0KGgoAAAANSUhEUgAAAAoAAAAKCAIAAAACUFjqAAAAQklEQVR4nH2PQQoAMAjDmrH/f7k7CMKczoMoNgElybaGoj0DMayJC2a3UPrWS0QHbGM7plZzyRPKNMVc07+noUJlPYxZLPkMgxn8AAAAAElFTkSuQmCC\"/></td><td style=\"padding:1px;\"><img width=\"30\" height=\"30\" style=\"border:1px solid black; image-rendering:pixelated; object-fit:cover;\" src=\"data:image/png;base64,iVBORw0KGgoAAAANSUhEUgAAAAoAAAAKCAIAAAACUFjqAAAASElEQVR4nG2PSw7AQAhCH97/znRha6gzLIwhDz/YBvyJpbFOzrYWJMl2V6BeSptrtM59OUCXczI93dRUpduTLuj655fOy5MGHro2UON8J7NNAAAAAElFTkSuQmCC\"/></td><td style=\"padding:1px;\"><img width=\"30\" height=\"30\" style=\"border:1px solid black; image-rendering:pixelated; object-fit:cover;\" src=\"data:image/png;base64,iVBORw0KGgoAAAANSUhEUgAAAAoAAAAKCAIAAAACUFjqAAAAR0lEQVR4nI2OQQ6AQAwCof//8+yhSupqzHIi0ALSEwDQRFKFxYgiqcI+UW/JdjI8o46+d7vTkjlbruW2u2IeAf5frjmNGxEXEss46BH2HgcAAAAASUVORK5CYII=\"/></td><td style=\"padding:1px;\"><img width=\"30\" height=\"30\" style=\"border:1px solid black; image-rendering:pixelated; object-fit:cover;\" src=\"data:image/png;base64,iVBORw0KGgoAAAANSUhEUgAAAAoAAAAKCAIAAAACUFjqAAAASklEQVR4nH1Pyw4AIAgC//+f7aAhq5YHpzgeMjMBACCpWSsBOHpUOLuq5gaLXfstPuyH8dbom/o4fqKRDA/ih07ubKFCQhHmGRNb/UQ5Ce7UleQAAAAASUVORK5CYII=\"/></td><td style=\"padding:1px;\"><img width=\"30\" height=\"30\" style=\"border:1px solid black; image-rendering:pixelated; object-fit:cover;\" src=\"data:image/png;base64,iVBORw0KGgoAAAANSUhEUgAAAAoAAAAKCAIAAAACUFjqAAAAS0lEQVR4nH1OuRHAMAwC9t+ZFNgKdu5CowckADZs28YJZTXEjGnUXIMkAKX0qv/pe9dpNJ9Jdr+itTZEdFG8Zleu5f3DcaJ25rZ/AA5QPvnUZm1SAAAAAElFTkSuQmCC\"/></td><td style=\"padding:1px;\"><img width=\"30\" height=\"30\" style=\"border:1px solid black; image-rendering:pixelated; object-fit:cover;\" src=\"data:image/png;base64,iVBORw0KGgoAAAANSUhEUgAAAAoAAAAKCAIAAAACUFjqAAAARklEQVR4nIWPQQoAIQwDp/7/z/GQRaNF1kMdKBlSAEmAwbxm5fp6VTX8rZkgaaT5gi/dBQf3Rlvw6rWj6UgN8HeYd72aYxN7t0flMxuuBAAAAABJRU5ErkJggg==\"/></td><td style=\"padding:1px;\"><img width=\"30\" height=\"30\" style=\"border:1px solid black; image-rendering:pixelated; object-fit:cover;\" src=\"data:image/png;base64,iVBORw0KGgoAAAANSUhEUgAAAAoAAAAKCAIAAAACUFjqAAAARklEQVR4nIWOQRLAMAgCWf//Z3Jg6rSJk3pSQABJtvUMYBsIzpvbBqgIN7T3Op/il5SBbhFQl+zBPMGf5n0M5U8ipf7NJS3/ticRWHztEgAAAABJRU5ErkJggg==\"/></td><td style=\"padding:1px;\"><img width=\"30\" height=\"30\" style=\"border:1px solid black; image-rendering:pixelated; object-fit:cover;\" src=\"data:image/png;base64,iVBORw0KGgoAAAANSUhEUgAAAAoAAAAKCAIAAAACUFjqAAAASElEQVR4nG1PQQ7AMAgC0/9/mR5sqGXzYAwgIgBI6t5lBEB5ItnDVNC0FRNZk/tKH8MokhWcE5xosRE29Wt76XDL85Lmx5F/A08zNfcoW+gCAAAAAElFTkSuQmCC\"/></td><td style=\"padding:1px;\"><img width=\"30\" height=\"30\" style=\"border:1px solid black; image-rendering:pixelated; object-fit:cover;\" src=\"data:image/png;base64,iVBORw0KGgoAAAANSUhEUgAAAAoAAAAKCAIAAAACUFjqAAAAS0lEQVR4nH2OSRKAMAgEu/P/P48HLKKYkhPMxggkUZMAaiEAsBoaxKaTPNHe1dXH8N3uyuzwMR5Nm+7kb7XX71Gq1OuYWbok66+XXgmjMAkPTX4AAAAAAElFTkSuQmCC\"/></td><td style=\"padding:1px;\"><img width=\"30\" height=\"30\" style=\"border:1px solid black; image-rendering:pixelated; object-fit:cover;\" src=\"data:image/png;base64,iVBORw0KGgoAAAANSUhEUgAAAAoAAAAKCAIAAAACUFjqAAAARElEQVR4nI2OQQrAQAwCNf//8/QglCC7pZ6M0UQBkoCQgo+qJNuSZg8FwHvYUcAJvYuov37HPdXl8Puj/KTC7caUvcgD2aAnC6CO6LcAAAAASUVORK5CYII=\"/></td></tr></table><table class=\"show_images\" style=\"border-spacing:0px;\"><tr><td style=\"padding:1px;\"><img width=\"30\" height=\"30\" style=\"border:1px solid black; image-rendering:pixelated; object-fit:cover;\" src=\"data:image/png;base64,iVBORw0KGgoAAAANSUhEUgAAAAoAAAAKCAIAAAACUFjqAAAAR0lEQVR4nG2OSRKAQAgDbf7/53jAaZEyp1Q2IMl1ADRRLCWhB9TqrRwzvgDw6zlWnyw0SdK13W7P1VrefP79XG+OPVzJk5IbrB85APZrfDAAAAAASUVORK5CYII=\"/></td><td style=\"padding:1px;\"><img width=\"30\" height=\"30\" style=\"border:1px solid black; image-rendering:pixelated; object-fit:cover;\" src=\"data:image/png;base64,iVBORw0KGgoAAAANSUhEUgAAAAoAAAAKCAIAAAACUFjqAAAATUlEQVR4nG2PQRIAIQjDAv//M3uIg6zagxZRGqOqACAi2lsC6WZPr7z6e3Ere45G7fYsnDlTYqJ15AZ8HA3MXIQXs2vKcvzqrU4REPgAwAI2D23rQ/wAAAAASUVORK5CYII=\"/></td><td style=\"padding:1px;\"><img width=\"30\" height=\"30\" style=\"border:1px solid black; image-rendering:pixelated; object-fit:cover;\" src=\"data:image/png;base64,iVBORw0KGgoAAAANSUhEUgAAAAoAAAAKCAIAAAACUFjqAAAARUlEQVR4nJWQwQoAMAhCX7H//2V3CFzUaR4KFSUCkNRnAQBOLfNCRJSS5pasADFyIx27uadzG4ak/Ct/xj6te08f/f1LFxdeQe6d/apQAAAAAElFTkSuQmCC\"/></td><td style=\"padding:1px;\"><img width=\"30\" height=\"30\" style=\"border:1px solid black; image-rendering:pixelated; object-fit:cover;\" src=\"data:image/png;base64,iVBORw0KGgoAAAANSUhEUgAAAAoAAAAKCAIAAAACUFjqAAAARklEQVR4nG2OQRLAMAgCl/z/z/SQ1CoNJxlZBtnmlaSykoDhe3Rr7RQQNef4E4PupqD7OyRpvGP2R0dt5c7y62xg2e4+ah7Toh4bM0H3MgAAAABJRU5ErkJggg==\"/></td><td style=\"padding:1px;\"><img width=\"30\" height=\"30\" style=\"border:1px solid black; image-rendering:pixelated; object-fit:cover;\" src=\"data:image/png;base64,iVBORw0KGgoAAAANSUhEUgAAAAoAAAAKCAIAAAACUFjqAAAARklEQVR4nGWOwQ0AQQgCB/vvmXtsgp76UuIA2LYNAGsHlDsjtVhTvX+1iInaVmKuf9Nrftk3tW2m82zwPEpS6FuilhrunR/GBDj+OzNtgQAAAABJRU5ErkJggg==\"/></td><td style=\"padding:1px;\"><img width=\"30\" height=\"30\" style=\"border:1px solid black; image-rendering:pixelated; object-fit:cover;\" src=\"data:image/png;base64,iVBORw0KGgoAAAANSUhEUgAAAAoAAAAKCAIAAAACUFjqAAAAR0lEQVR4nHWPSRKAQAgDu/3/n+MBZ1SK4RTIUkEASKImYY0K/E5t1OvEVeRAV2wBS3UKeN1Pl2Xt9FB7a8d8269z+y/ea4Ebx5wkCPRqSMAAAAAASUVORK5CYII=\"/></td><td style=\"padding:1px;\"><img width=\"30\" height=\"30\" style=\"border:1px solid black; image-rendering:pixelated; object-fit:cover;\" src=\"data:image/png;base64,iVBORw0KGgoAAAANSUhEUgAAAAoAAAAKCAIAAAACUFjqAAAARklEQVR4nHWOQQ4AMQgCB///Z/bQBEnT9YQ6gtgGgBbR6kVK0hkOrzo7SRO8xbbNXuI3O0578eT2NduJzPX0q+20aHs2B3zrIzj7ooNlAQAAAABJRU5ErkJggg==\"/></td><td style=\"padding:1px;\"><img width=\"30\" height=\"30\" style=\"border:1px solid black; image-rendering:pixelated; object-fit:cover;\" src=\"data:image/png;base64,iVBORw0KGgoAAAANSUhEUgAAAAoAAAAKCAIAAAACUFjqAAAASElEQVR4nH2PQRIAIAgCwf//2Q40aNbEyYl1KwLITJwhuYe76wmz3rCAOpKAfJjCU+/so1cHpCrsV8YjSu5C0Eb/HyvP4HT3Aj/fMAnjQgvmAAAAAElFTkSuQmCC\"/></td><td style=\"padding:1px;\"><img width=\"30\" height=\"30\" style=\"border:1px solid black; image-rendering:pixelated; object-fit:cover;\" src=\"data:image/png;base64,iVBORw0KGgoAAAANSUhEUgAAAAoAAAAKCAIAAAACUFjqAAAASElEQVR4nH2OSQ4AQQgCKf//Z/rgaOwlw4mKQJQkSbZtq9Q+JsxQmkgAgKMqiQm3oku3gJhwnG3/jQPbePs0X/v9MzXsUicaF1wxPvA4ChSXAAAAAElFTkSuQmCC\"/></td><td style=\"padding:1px;\"><img width=\"30\" height=\"30\" style=\"border:1px solid black; image-rendering:pixelated; object-fit:cover;\" src=\"data:image/png;base64,iVBORw0KGgoAAAANSUhEUgAAAAoAAAAKCAIAAAACUFjqAAAASElEQVR4nH2PQQ4AMQgCB///Z3rYhpqaLgcPgIIAtvsMAEUIJIWp7ZIYUNjrQOTq2ueWztrJ7pFBhZoFgXr1sr0z/o7PX1MQWKVEOQNCjcHfAAAAAElFTkSuQmCC\"/></td><td style=\"padding:1px;\"><img width=\"30\" height=\"30\" style=\"border:1px solid black; image-rendering:pixelated; object-fit:cover;\" src=\"data:image/png;base64,iVBORw0KGgoAAAANSUhEUgAAAAoAAAAKCAIAAAACUFjqAAAAQ0lEQVR4nHWOQQ4AIAjDqPH/X8bDooGpO5AtA9LIrYjQrAbLpmEdUGt+d9K0rOvMlEHu94PGiceWH+R3V+GxTtuHZgELYDL00NS8iAAAAABJRU5ErkJggg==\"/></td><td style=\"padding:1px;\"><img width=\"30\" height=\"30\" style=\"border:1px solid black; image-rendering:pixelated; object-fit:cover;\" src=\"data:image/png;base64,iVBORw0KGgoAAAANSUhEUgAAAAoAAAAKCAIAAAACUFjqAAAASElEQVR4nG2OQRIAIAgCWf//ZztY1JgeHBEUlJmSqrsMeTHQdNE42Ac1hMHowr+6HMS4vd42/mNLiiK65VEP16XeYd/A/uFhAVAlO/cth4OwAAAAAElFTkSuQmCC\"/></td></tr></table>"
      ],
      "text/plain": [
       "<IPython.core.display.HTML object>"
      ]
     },
     "metadata": {},
     "output_type": "display_data"
    },
    {
     "data": {
      "text/html": [
       "<table class=\"show_images\" style=\"border-spacing:0px;\"><tr><td style=\"padding:1px;\"><img width=\"288\" height=\"288\" style=\"border:1px solid black; image-rendering:pixelated; object-fit:cover;\" src=\"data:image/png;base64,iVBORw0KGgoAAAANSUhEUgAAASAAAAEgCAIAAACb4TnXAAAQO0lEQVR4nO2d247kOA5Epxb9393z5b0PA7iBVYLgJYJyzZ7zlLAlUb4QjKQs6evXr19/fROergZ9VpUZdkNFYGuzGyV6HctcaXBk2LL89j61/tOoDABJcDAAI1+q4KhSLN9IFJ392bx1d4WuTwdmGpS3ExzpgUQE2AAHAzDydYZUnzZTaSqV9eGpodGfP3/+8+Pvv//Wtlwq0yusql56JUplNgm6QQQDMIKDARj5kEVUsSAIM+ooOLUgCDMS8eHUilckdObI22TkS7TiaZ0IBmAEBwMw8vX8KiWaSrVU9PJmPl3aS3w9nFnEK4LwrpR6Lar/EUQwACM4GICRaRZRlReSUwrxvTI964EyPKtnWvbdzLel5haQ30wiGIARHAzAyIcs4tvyS3dHFV+b2VOlua7w/h4+9HLXD0QwACM4GICRO1nEIT4pNdQD/1bkl/z/c+eJYABGcDAAI8YZzT5dERwZtryQkQsmMg9l0l0FpbJeUvKZWgsEPSSCARjBwQCMGGc0l/DJG5V4kCe+Hq349fU16VjAaX1zjsxC7vFtDZ4QwQCM4GAARn7cNV9SWQ+/f//+50dG56jSbj2pqSoTkElLBrXklHJ9mVM9WwvtZGoRwQCM4GAARt6SRSwRrCi4OQ7bU5invh2SWV/xLNxLXQ5TqcGRoYkMvb8PQ1tEMAAjOBiAkZpE3BRgAZl9SeRBv0dJQZUUS0lz9nZyuSKqhxJx+IpmrJf6QwQDMIKDARj5Cs5taqpM2B3uWHeFUm6tROmrQp/uOstkjA6RX47v/hDBAIzgYABGohnNvYTMS9J3AXLFUjJxd1OVDKUn6NPAZzul7F+p5eDIECIYgBEcDMDIhyziQmR/v4wcciUpGtzVhdnTGYbJulLLvTIqWw9EMAAjOBiAkW8wXeXpoXyix2lCNUyZaXmYTuwpzFMrnl0N6CUY5e/YMGeoEqiZ6kQwACM4GIAR2XSVXuFegz6tmKEnpR6G3xAGDQYZQvmt28zayelpxd5fAyIYgBEcDMDIhz2aA4bCQKUZ3v853wIl1RfcsbPBkvXM485UL9nyIX97iWAARnAwACPNgeZSdiuTsMqE5t6K2YEJ37X3lEap5UAZltrJ8FrhLVePvRcpOEUEAzCCgwEYkX2LeAbHzALXQTs968N25AS3pbdEYeaI/NpfkqR9yapHpbtBBAMwgoMBGPkgEXs5qPPIS2bRvo1eUnRIaaA588NH0LHerjqBCVXh4EYRwQCM4GAARqJ1EQOCwiplGOTf5C1fYZj57M1N7o3+Z1o+y5QuJzN6mxHVqnyy6iUhggEYwcEAjNSmqwSFh+KhlKvxzWi+O5TZS9+V+qz6QDSDKhtZ2m/xiiAM3mciGIARHAzAyHSguRT9VfmloZDLpEAfMrLEN3Mkc6My87t7u1pnyqiybaV2rhjtQQQDMIKDARhpbsAX0BsOzlj3bUfSk1JnrYfewtRB4UDNDj9lXJBJPfkXHMm0fDev+EAEAzCCgwEYecuiN0PrQ307/MpxYSQ0YFMZlvRbj4W/BhmjKohgAEZwMAAjP0qlfZmZTMuZ6j18yjBD5m6oNHBm3aGgh8PnHjQYmHj67PvAoJTeLF0OEQzACA4GYKT5LWJQWL5i9sPdfffukrnPmZvZu4dDbT9k2PmznWFXS+0QwQCM4GAARmRLZwf0NGdwJFChPRmwOc/3bKdUeKjJSyaGqJJ1L1kxuwcRDMAIDgZgJJKIPi20oEt7lFJzqnHPzJHhCK/8hi8kDzeNqu7zeYQIBmAEBwMw8mFG80MvXPaWdD7LqPRS6bp6qu9bp7keNoeMNzXeFZmNRATYAAcDMNLcXSXDlXm+PaE73Df5+UZuqIp7p4JLVi3YKE8jBybk2dorIBEBNsDBAIz8mdG8IBUyLV9J9fQaVG2y3Cuc+fEw1MBDMro9sPUI7+Fcm/NIKfdYerhIRIANcDAAI6lvEc8jQzUyjL89SkJls2MZSmLmQbWr9Sa+dGLpVc+0k2mQCAZgBAcDMLIxXaVHKRCXslJnrVJ66iVqNuDuyKzceiB0S8/Ct6xiABEMwAgOBmDkf7+d+2tFEF4Rnxk9WdKK8rV3epTyigv9Cfa5vvuno7QBd4/zAolgAEZwMAAjqaWzMwH9KbMpnFQNBhIxo7J647mqzaxL9J7pN8phBqjezMBBzupEMAAjOBiAkWgDvp5C6G2X1htWVsmkzMzfUsslVDuebF7OeWo4ezpgqDl9yjBThggGYAQHAzAi211FNabZa2dofSFddppY2BVFte5Q72vA0kMpdcO3R7PKHR6IYABGcDAAI9M9mr8jPalQ0kJBrYWdpku2Strs4RtNkb4LEQzACA4GYGRjj+ZNfPnAKzmononMNoKlYdOM1CyN58pHeINaPk2eeROIYABGcDAAIzWJqNJCJX0S1BoOXJ6UhjJ9oijA1875o/cV33CZ7p4CH15OqYeZI0hEgA1wMAAjzXURh1mgoTLs4ctc+YSlqoeb+GY0Z0RaQObOl1rOPAIiGIARHAzAiHGP5odhPlBlKyjcsz5UdL6tT65M6yhdzkLO8OxYZnlG+X8fIhiAERwMwIh+oHkzu6Xqj/y6MoV7E6JLpzKyTaX6Xovqj0DQIFlEgDvgYABGIolYSr8M8aUTVXkqFaqFaDK1egm088jCatilxGCmupzSHXt+EMEAjOBgAEZSEvFP6VYyKijTkwHBkV6tYedL/RmS6YZ8FeuMRJTLSJXqKy3qKP/7QAQDMIKDARipZRFL9BJWmSOqOD7UeAuZqxLytNtwY8GFlGNw5EQ1bp55sckiAmyAgwEY+TBdpZeDGmYIr2zsOxSxvZbl+xIO6ZlQXWDJVnAkU923RWBQnQgGYAQHAzCiXzo7+P7tIdClD0MF5Qv6mVpBO88P1eo3J5srgWcEWAZ5CjTo2KbwJoIBGMHBAIx8Bed64uH8gjGzDN0Tx0u7AA8pKY0FLV2yXnoWvVWsMw/lrJVpWf5wN1VfcOSECAZgBAcDMFIbaD4ZJseuLKvSi/WldoIfge56LVc+A3jwycihAs+UIYIBGMHBAIxES2eXdqPw7YR7GlVpql6Dm4mvoYZR9efKjOYevjcz85hOiGAARnAwACOpGc2lfJdcd6lGJzOLBC6MVwaoMleqq+gNhfsWfhwi3zw6U4sIBmAEBwMw8kEibqaDSnNbVLYeFqRC0A3f0is97spjOZtaOoAIBmAEBwMwMt2A7/mRGc7LVJd/oVfq4SbDGc0qJa8a7w6O9Iz2qpcuJzhSMhqUIYIBGMHBAIysLnpTEjyqLNDbvpELfpQYJkVLJjaXi8nwkm5kIIIBGMHBAIz8OA+VZqmU0i8ZW6XoX8oUZVDloDY1jOrWnUeelk85Kh/G9d2x3ktbajlokAgGYAQHAzAy3YAvGMZVjWAORzlLekAuJ+R68m3b0JxlgiNySu/PFYhgAEZwMAAjxj2aX4J8Hqt8yLhk3deOTx6rMo29Wne1IhEMwAgOBmDkz+4qTwD1KcMzWG9+7ZaZSnxFm222vCCufBsLviQxWIIIBmAEBwMwkpqukkmXDQeafRvpBiaGlBKMw1oPvc1rNvPApR0YVUp1mAId9ieoTgQDMIKDARiRzWgeir2SmCmprM2kqK/WSWnHk4cng3r2R8XCpoo9KR5U75XJ1CKCARjBwQCM1GY0nwzTL8MPBTPd6C3KPcxclWplrA+FZXATVPQ2VRle11DIDdvJVCeCARjBwQCM1KarBJH9XPv6oZT0G2qYTFppqBBU7fTwbZesugklW8EROZsX+EAEAzCCgwEYaQ40L2ihktGgG71tX3rWh2nJXmEVPt0emDhPBUdK7Tw/fFOiMneMCAZgBAcDMDL9FnEYbX2zX892Njfgu6LxAuQC9Tyl2oExUz1z6mz5QT5fKbhjRDAAIzgYgJEPi970GM4K6X3JVpoZ8drt5E6Cjm0ONPeyoz3rwTzoYe5x+GYOXxIiGIARHAzASCQRe8Fxc6GVYMbuULE8LAy2+u5zaS/FzClVx4Jaw3nQvaRx7xFkahHBAIzgYABGvoZCRSV4epQSg72cWEDGlm8xxkzLvnkrw4zusIeZ/vQe5cM5/aqXwySCARjBwQCM1JbOLp3ysZmoHCrn80O4koLqKTFV4jQ4kqkufzeGLZeqZxLUZ8vnESIYgBEcDMBIbbqKL/qXFtgpWd+c0Hqe2pwjc1oPjpTa6aVk73Jq6YeSROwt4vRABAMwgoMBGNHPaB4KuYfhGjWBCd/s6YwtFfI+DxvsiXzfOu1Bx4KWA0nfs04EAzCCgwEYkc1oPtspJVtKUkEuwO6my0rWfTOaM6hU33mlqk26hypUDhEMwAgOBmDk8kDzMInUG0QuXcXwklVZ1pPg2h/kObFSx86P94b/EUrPNJhvEkjxALKIAK8DBwMw8mFG84Nc1agIhgU3uxrcscykkp56LMmbhZ34TltDZXj3ZZOnHIlgAEZwMAAjsm8RgyNyNpXPEHlXM1dxRXdtvgm9/zWlwsG/j7N6ABEMwAgOBmDkx3molMsayoDeQHOvGyrFIpdbvWxtUDizUHZJQZXoPabhXT2rnxOgMhc4fJHOU0QwACM4GICRD1nE92fbVD0cSrJSDkpFKUuWaSc4kik8vOSFmTWZRbDP/pSGywPrRDAAIzgYgJFooFmlRjLcndH8fkp3fmHPwaDMcLvtUq1MV1XfhZYk9AMRDMAIDgZgJJVFHGbbAoY78w6/9AuOLFCSJZnHdJ5aWLh7mMPMSMSeiSsr/5xliGAARnAwACO1PZp9WcSAoIcZCXSlz/IJI0Ot2FP7GRPDWm9LCKseHBIRYAMcDMBIlEUMjmxyWr+71k0J33bJr73kXs45qN5TxSWj5ynVO0YEAzCCgwEYaS6dHRwp4fsCLah+ngqO9DiVRm8kPWh5eO0qW3f/UAQ9VH3DkKkevJlEMAAjOBiAkem6iA9DNXJG5LPlBYajig+9jwDl0neYkQuMBkdKLS8s4VgSe8P+nGWIYABGcDAAIzKJeFLKQZU01cKM3U18ub6equnZKvUnSPqVNuBT3THVK0EWEWAVHAzAyIels1Vkom1JGfZ0Ra9jQy2kIiOKMj0snSr1JyhTSm/KlaEqcVpq+YQIBmAEBwMw0vwWcaGWD594ePiOec5Mbq3UMV9hVa0T+UwoIhiAERwMwIhsj2b5mF3JaOZUr8Fh4d5yfws5TNU9lBeWvz+9BlVbQxLBAIzgYABG/swNuZLq6c1oPk8FR0qUFK9PDMvln0/Jyx9Bz7pcJ6tsEcEAjOBgAEaaWcRhOug8pVpCWZWn6mkqn2js2VIpQ59Olrd85QUIThHBAIzgYABGmtNVSlmXzKnz069SO5monSmcaTkgY/SKevRZX/iLIaf39vb6QwQDMIKDARjZ+Baxpwd6Qm5BgKn609OuQfUMpVp3Za2vVlC9d3+CI0QwACM4GICRaAO+zWAdNBgc8VX/d+B7KL5sZEl4v/+6iGAARnAwACOpLOKViFzSDD0TC6i68bYM6hD535DePwL5i3QWJoIBGMHBAIz8F/su7SKkxUF7AAAAAElFTkSuQmCC\"/></td></tr></table>"
      ],
      "text/plain": [
       "<IPython.core.display.HTML object>"
      ]
     },
     "metadata": {},
     "output_type": "display_data"
    }
   ],
   "source": [
    "_ = day20_part2(puzzle.input, visualize=True)"
   ]
  },
  {
   "cell_type": "code",
   "execution_count": 28,
   "id": "79494f37",
   "metadata": {
    "execution": {
     "iopub.execute_input": "2022-12-20T16:53:55.209196Z",
     "iopub.status.busy": "2022-12-20T16:53:55.208827Z",
     "iopub.status.idle": "2022-12-20T16:53:55.211964Z",
     "shell.execute_reply": "2022-12-20T16:53:55.211349Z",
     "shell.execute_reply.started": "2022-12-20T16:53:55.209178Z"
    },
    "tags": []
   },
   "outputs": [],
   "source": [
    "# hh.prun(lambda: [day20_part2(puzzle.input) for _ in range(10)])"
   ]
  },
  {
   "cell_type": "markdown",
   "id": "4fbe4777",
   "metadata": {},
   "source": [
    "<a name=\"day21\"></a>\n",
    "## Day 21: Allergens in ingredients"
   ]
  },
  {
   "cell_type": "markdown",
   "id": "780f77c7",
   "metadata": {},
   "source": [
    "Given a set of foods, each containing a list of ingredients and a set of allergens contained in the ingredients, determine the ingredient corresponding to each allergen.  Each allergen is contained in at most one ingredient.  Some foods may fail to list all allergens.\n",
    "\n",
    "- Part 1: For each food, count the number of ingredients which cannot possibly contain allergens, and report the sum.\n",
    "\n",
    "- Part 2: Report the comma-separated list of ingredients which contain allergens, sorted in ascending order by the allergen name."
   ]
  },
  {
   "cell_type": "code",
   "execution_count": 77,
   "id": "3469813c",
   "metadata": {
    "execution": {
     "iopub.execute_input": "2022-12-20T18:42:03.979656Z",
     "iopub.status.busy": "2022-12-20T18:42:03.979286Z",
     "iopub.status.idle": "2022-12-20T18:42:03.998154Z",
     "shell.execute_reply": "2022-12-20T18:42:03.997636Z",
     "shell.execute_reply.started": "2022-12-20T18:42:03.979638Z"
    },
    "tags": []
   },
   "outputs": [
    {
     "data": {
      "text/markdown": [
       "For [day 21](https://adventofcode.com/2020/day/21), `puzzle.input` has 42 lines:"
      ],
      "text/plain": [
       "<IPython.core.display.Markdown object>"
      ]
     },
     "metadata": {},
     "output_type": "display_data"
    },
    {
     "name": "stdout",
     "output_type": "stream",
     "text": [
      "xfvxzl nfcrh kscdhn khnqq jkvcbf jhlvrg chc fk zbh hgrptqb zrvtg tdhv jhqpdf jvj ... mxbbst (contains shellfish, sesame)\n",
      "vxzpfp shlg zrvtg ghq vzn ppqs mqlnbjq cltpv pvxpgp psbnqz nqcmm sqjcsxjq xftxgf ... cbhfpzp khnqq dhqbf (contains fish)\n",
      "fzhmtds zbclt pbln qtgv bnl xqcb vxzpfp jkvcbf nnst tplrt xknj hzmvzrr xfvxzl gk ...  (contains sesame, fish, shellfish)\n",
      "ghq vfqh vtdbl bkmgx bxlc sbhdb xfvxzl lvdcdg nsktq hrjrm dbr prrfm dbqbv jbcjk  ... gpgql dpkkzdgs cjds (contains nuts)\n",
      "xknj bbbzcmh tzrp xkqgc ktfvb tplrt dqz ntq jbcjk pcnmbt nqcmm tlgchbh bxfvt nfs ... hlvrg fhznhmx (contains dairy, soy)\n",
      "strd dpdgc cjdnjf flmssjn xfpc mmdfrfcp gpp tqjg znkr mxbbst bbbzcmh jbvrzn cdsl ... mx xknh schkf (contains soy, wheat)\n",
      "gkgzn bndz dpkkzdgs nv nhjbd mqlnbjq khnqq ljpzx cfbgb xknj ddmg mkpmkx tgcvz nn ... trd tdhv fk tdsvx (contains sesame)\n",
      "gnfjcpc ddmg tpbtpd cltpv xfvxzl txr rmxzzf tgcvz jsdgn pgnk jrpx vbvfr vzn gbpl ... c dvzqx hcms zrvtg (contains dairy)\n",
      " ...\n",
      "nsktq ftkfc mdqlbx bxfvt vtdbl djldkx cljvdxp cpp ghzx sbhdb ppqs dvzqx zhpv kgr ... vrtf nnst dqrvvk (contains peanuts)\n",
      "fhznhmx khnm skrrb ckpjgb glxxp rzlkxt jrj mxsklfx mdqlbx mkpmkx xhb bkhjxl ttkn ... txr zgpv (contains fish, shellfish)\n",
      "cbhfpzp tmp rjnx dpdgc frv xflfx dbr fzhmtds kcgtlb msrnhf khnm hgrptqb tfgf xss ...  qhhsj (contains sesame, nuts, soy)\n",
      "flnhl gkddl jhqpdf jkvcbf xqcb gcbbnqb ddmg ppqs bnl jrpx cdslv bxlc tfgf msrnhf ... dqrvvk cltpv (contains wheat, nuts)\n"
     ]
    },
    {
     "data": {
      "text/markdown": [
       "The stored answers are: `{1: '2410', 2: 'tmp,pdpgm,cdslv,zrvtg,ttkn,mkpmkx,vxzpfp,flnhl'}`"
      ],
      "text/plain": [
       "<IPython.core.display.Markdown object>"
      ]
     },
     "metadata": {},
     "output_type": "display_data"
    }
   ],
   "source": [
    "puzzle = advent.puzzle(day=21)"
   ]
  },
  {
   "cell_type": "code",
   "execution_count": 78,
   "id": "8ef0d1ce",
   "metadata": {
    "execution": {
     "iopub.execute_input": "2022-12-20T18:42:04.203357Z",
     "iopub.status.busy": "2022-12-20T18:42:04.202905Z",
     "iopub.status.idle": "2022-12-20T18:42:04.206215Z",
     "shell.execute_reply": "2022-12-20T18:42:04.205531Z",
     "shell.execute_reply.started": "2022-12-20T18:42:04.203340Z"
    },
    "tags": []
   },
   "outputs": [],
   "source": [
    "s1 = \"\"\"\\\n",
    "mxmxvkd kfcds sqjhc nhms (contains dairy, fish)\n",
    "trh fvjkl sbzzf mxmxvkd (contains dairy)\n",
    "sqjhc fvjkl (contains soy)\n",
    "sqjhc mxmxvkd sbzzf (contains fish)\n",
    "\"\"\""
   ]
  },
  {
   "cell_type": "code",
   "execution_count": 80,
   "id": "5d813eb6",
   "metadata": {
    "execution": {
     "iopub.execute_input": "2022-12-20T18:42:14.935197Z",
     "iopub.status.busy": "2022-12-20T18:42:14.934646Z",
     "iopub.status.idle": "2022-12-20T18:42:14.942792Z",
     "shell.execute_reply": "2022-12-20T18:42:14.942255Z",
     "shell.execute_reply.started": "2022-12-20T18:42:14.935179Z"
    },
    "tags": []
   },
   "outputs": [
    {
     "name": "stdout",
     "output_type": "stream",
     "text": [
      "(Part 1: 0.001 s)\n",
      "(Part 2: 0.000 s)\n"
     ]
    }
   ],
   "source": [
    "def day21(s, *, part2=False):\n",
    "  def foods():\n",
    "    for line in s.splitlines():\n",
    "      ingredients, allergens = line[:-1].split(' (contains ')\n",
    "      yield set(ingredients.split()), allergens.split(', ')\n",
    "\n",
    "  possibles_for_allergen = {}\n",
    "  for ingredients, allergens in foods():\n",
    "    for allergen in allergens:\n",
    "      if allergen not in possibles_for_allergen:\n",
    "        possibles_for_allergen[allergen] = ingredients.copy()\n",
    "      else:\n",
    "        possibles_for_allergen[allergen] &= ingredients\n",
    "\n",
    "  def has_single_ingredient(item):\n",
    "    return len(item[1]) == 1\n",
    "\n",
    "  allergen_ingredient = {}\n",
    "  while possibles_for_allergen:\n",
    "    allergen, ingredients = next(filter(has_single_ingredient, possibles_for_allergen.items()))\n",
    "    ingredient = ingredients.pop()\n",
    "    allergen_ingredient[allergen] = ingredient\n",
    "    for ingredients2 in possibles_for_allergen.values():\n",
    "      ingredients2.discard(ingredient)\n",
    "    del possibles_for_allergen[allergen]\n",
    "\n",
    "  if not part2:\n",
    "    allergen_ingredients = set(allergen_ingredient.values())\n",
    "    return sum(len(ingredients - allergen_ingredients) for ingredients, _ in foods())\n",
    "\n",
    "  return ','.join(ingredient for _, ingredient in sorted(allergen_ingredient.items()))\n",
    "\n",
    "\n",
    "check_eq(day21(s1), 5)\n",
    "puzzle.verify(1, day21)  # ~1 ms.\n",
    "\n",
    "day21_part2 = functools.partial(day21, part2=True)\n",
    "check_eq(day21_part2(s1), 'mxmxvkd,sqjhc,fvjkl')\n",
    "puzzle.verify(2, day21_part2)  # ~1 ms."
   ]
  },
  {
   "cell_type": "markdown",
   "id": "ddd21240",
   "metadata": {},
   "source": [
    "<a name=\"day22\"></a>\n",
    "## Day 22: Recursive card game"
   ]
  },
  {
   "cell_type": "markdown",
   "id": "8e66f7cd",
   "metadata": {},
   "source": [
    "Given two hands of integer cards, simulate a card game of combat.  At each turn, the player with the largest front card places the two cards (higher card first) at the back of their hand.  A player that owns all cards wins.\n",
    "\n",
    "- Part 1: In the winner's hand, multiply each card value by its position (1 being rearmost), and report the sum of the result.\n",
    "\n",
    "- Part 2: Add extra rules.  If both players have at least as many cards remaining in their deck as their top card, the winner of the round is determined by playing a new game of Recursive Combat.  See the [website](https://adventofcode.com/2020/day/22) for details."
   ]
  },
  {
   "cell_type": "code",
   "execution_count": 111,
   "id": "8e209dc3",
   "metadata": {
    "execution": {
     "iopub.execute_input": "2022-12-19T00:40:45.666322Z",
     "iopub.status.busy": "2022-12-19T00:40:45.665843Z",
     "iopub.status.idle": "2022-12-19T00:40:45.681963Z",
     "shell.execute_reply": "2022-12-19T00:40:45.681414Z",
     "shell.execute_reply.started": "2022-12-19T00:40:45.666302Z"
    }
   },
   "outputs": [
    {
     "data": {
      "text/markdown": [
       "For [day 22](https://adventofcode.com/2020/day/22), `puzzle.input` has 53 lines:"
      ],
      "text/plain": [
       "<IPython.core.display.Markdown object>"
      ]
     },
     "metadata": {},
     "output_type": "display_data"
    },
    {
     "name": "stdout",
     "output_type": "stream",
     "text": [
      "Player 1:\n",
      "15\n",
      "31\n",
      "26\n",
      "4\n",
      "36\n",
      "30\n",
      "43\n",
      " ...\n",
      "37\n",
      "5\n",
      "1\n",
      "27\n"
     ]
    },
    {
     "data": {
      "text/markdown": [
       "The stored answers are: `{1: '32199', 2: '33780'}`"
      ],
      "text/plain": [
       "<IPython.core.display.Markdown object>"
      ]
     },
     "metadata": {},
     "output_type": "display_data"
    }
   ],
   "source": [
    "puzzle = advent.puzzle(day=22)"
   ]
  },
  {
   "cell_type": "code",
   "execution_count": 112,
   "id": "f9379d20",
   "metadata": {
    "execution": {
     "iopub.execute_input": "2022-12-19T00:40:45.682953Z",
     "iopub.status.busy": "2022-12-19T00:40:45.682779Z",
     "iopub.status.idle": "2022-12-19T00:40:45.685786Z",
     "shell.execute_reply": "2022-12-19T00:40:45.685199Z",
     "shell.execute_reply.started": "2022-12-19T00:40:45.682941Z"
    }
   },
   "outputs": [],
   "source": [
    "s1 = \"\"\"\\\n",
    "Player 1:\n",
    "9\n",
    "2\n",
    "6\n",
    "3\n",
    "1\n",
    "\n",
    "Player 2:\n",
    "5\n",
    "8\n",
    "4\n",
    "7\n",
    "10\n",
    "\"\"\""
   ]
  },
  {
   "cell_type": "code",
   "execution_count": 113,
   "id": "59e92321",
   "metadata": {
    "execution": {
     "iopub.execute_input": "2022-12-19T00:40:45.686725Z",
     "iopub.status.busy": "2022-12-19T00:40:45.686448Z",
     "iopub.status.idle": "2022-12-19T00:40:45.696256Z",
     "shell.execute_reply": "2022-12-19T00:40:45.695518Z",
     "shell.execute_reply.started": "2022-12-19T00:40:45.686713Z"
    }
   },
   "outputs": [
    {
     "name": "stdout",
     "output_type": "stream",
     "text": [
      "(Part 1: 0.000 s)\n"
     ]
    }
   ],
   "source": [
    "def day22_part1(s):\n",
    "  hands = [collections.deque(map(int, s2.splitlines()[1:])) for s2 in s.split('\\n\\n')]\n",
    "\n",
    "  while hands[0] and hands[1]:\n",
    "    cards = hands[0].popleft(), hands[1].popleft()\n",
    "    winner = 0 if cards[0] > cards[1] else 1\n",
    "    hands[winner].extend([cards[winner], cards[1 - winner]])\n",
    "\n",
    "  return sum((i + 1) * card for i, card in enumerate(reversed(hands[winner])))\n",
    "\n",
    "\n",
    "check_eq(day22_part1(s1), 306)\n",
    "puzzle.verify(1, day22_part1)  # ~0 ms."
   ]
  },
  {
   "cell_type": "markdown",
   "id": "b5f22c02",
   "metadata": {},
   "source": [
    "Part 2"
   ]
  },
  {
   "cell_type": "code",
   "execution_count": 114,
   "id": "cdd8a904",
   "metadata": {
    "execution": {
     "iopub.execute_input": "2022-12-19T00:40:45.697353Z",
     "iopub.status.busy": "2022-12-19T00:40:45.697006Z",
     "iopub.status.idle": "2022-12-19T00:40:45.711726Z",
     "shell.execute_reply": "2022-12-19T00:40:45.710850Z",
     "shell.execute_reply.started": "2022-12-19T00:40:45.697338Z"
    }
   },
   "outputs": [],
   "source": [
    "def day22a_part2(s):  # Slower code using deque.\n",
    "  def combat(hands):  # Returns (hands, winner)\n",
    "    visited = set()\n",
    "    while hands[0] and hands[1]:\n",
    "      state = (*hands[0], -1, *hands[1])\n",
    "      if state in visited:\n",
    "        return hands, 0  # player 1 is winner\n",
    "      visited.add(state)\n",
    "      cards = hands[0].popleft(), hands[1].popleft()\n",
    "      if len(hands[0]) >= cards[0] and len(hands[1]) >= cards[1]:\n",
    "        _, winner = combat([\n",
    "            collections.deque(list(hands[0])[: cards[0]]),\n",
    "            collections.deque(list(hands[1])[: cards[1]]),\n",
    "        ])\n",
    "      else:\n",
    "        winner = 0 if cards[0] > cards[1] else 1\n",
    "      hands[winner].extend([cards[winner], cards[1 - winner]])\n",
    "\n",
    "    return hands, 0 if hands[0] else 1\n",
    "\n",
    "  hands = [collections.deque(map(int, s2.splitlines()[1:])) for s2 in s.split('\\n\\n')]\n",
    "  hands, winner = combat(hands)\n",
    "  return sum((i + 1) * card for i, card in enumerate(reversed(hands[winner])))\n",
    "\n",
    "\n",
    "check_eq(day22a_part2(s1), 291)\n",
    "# puzzle.verify(2, day22a_part2)  # ~1750 ms."
   ]
  },
  {
   "cell_type": "code",
   "execution_count": 115,
   "id": "1aaab5da",
   "metadata": {
    "execution": {
     "iopub.execute_input": "2022-12-19T00:40:45.713130Z",
     "iopub.status.busy": "2022-12-19T00:40:45.712539Z",
     "iopub.status.idle": "2022-12-19T00:40:46.130424Z",
     "shell.execute_reply": "2022-12-19T00:40:46.129792Z",
     "shell.execute_reply.started": "2022-12-19T00:40:45.713109Z"
    }
   },
   "outputs": [
    {
     "name": "stdout",
     "output_type": "stream",
     "text": [
      "(Part 2: 0.407 s)\n"
     ]
    }
   ],
   "source": [
    "def day22_part2(s):  # Faster code using tuples.\n",
    "\n",
    "  # @functools.lru_cache(maxsize=None)  # It makes no difference.\n",
    "  def combat(hand0, hand1):\n",
    "    visited = set()\n",
    "    while True:\n",
    "      state = hand0, hand1\n",
    "      if state in visited:\n",
    "        return (0,), ()  # player 1 is winner\n",
    "      visited.add(state)\n",
    "      card0 = hand0[0]\n",
    "      card1 = hand1[0]\n",
    "      recurse = len(hand0) > card0 and len(hand1) > card1\n",
    "      if combat(hand0[1 : card0 + 1], hand1[1 : card1 + 1])[0] if recurse else card0 > card1:\n",
    "        hand0, hand1 = hand0[1:] + (card0, card1), hand1[1:]\n",
    "        if not hand1:\n",
    "          break\n",
    "      else:\n",
    "        hand0, hand1 = hand0[1:], hand1[1:] + (card1, card0)\n",
    "        if not hand0:\n",
    "          break\n",
    "    return hand0, hand1\n",
    "\n",
    "  hand0, hand1 = (tuple(map(int, s2.splitlines()[1:])) for s2 in s.split('\\n\\n'))\n",
    "  hand0, hand1 = combat(hand0, hand1)\n",
    "  return sum((i + 1) * card for i, card in enumerate(reversed(hand0 + hand1)))\n",
    "\n",
    "\n",
    "check_eq(day22_part2(s1), 291)\n",
    "puzzle.verify(2, day22_part2)  # ~1200 ms."
   ]
  },
  {
   "cell_type": "code",
   "execution_count": 116,
   "id": "d2feec14",
   "metadata": {
    "execution": {
     "iopub.execute_input": "2022-12-19T00:40:46.131493Z",
     "iopub.status.busy": "2022-12-19T00:40:46.131206Z",
     "iopub.status.idle": "2022-12-19T00:40:46.134471Z",
     "shell.execute_reply": "2022-12-19T00:40:46.133917Z",
     "shell.execute_reply.started": "2022-12-19T00:40:46.131476Z"
    }
   },
   "outputs": [],
   "source": [
    "# # %timeit -r8 day22_part2(puzzle.input)"
   ]
  },
  {
   "cell_type": "code",
   "execution_count": 117,
   "id": "0e4e205d",
   "metadata": {
    "execution": {
     "iopub.execute_input": "2022-12-19T00:40:46.135614Z",
     "iopub.status.busy": "2022-12-19T00:40:46.135200Z",
     "iopub.status.idle": "2022-12-19T00:40:46.145418Z",
     "shell.execute_reply": "2022-12-19T00:40:46.144801Z",
     "shell.execute_reply.started": "2022-12-19T00:40:46.135583Z"
    }
   },
   "outputs": [],
   "source": [
    "# # %prun day22_part2(puzzle.input)  # No obvious opportunity for optimization."
   ]
  },
  {
   "cell_type": "markdown",
   "id": "0ded52a1",
   "metadata": {},
   "source": [
    "<a name=\"day23\"></a>\n",
    "## Day 23: Cups in a circle"
   ]
  },
  {
   "cell_type": "markdown",
   "id": "9dfc145b",
   "metadata": {},
   "source": [
    "Given a circular list of cups (labeled 1-9), apply a sequence of moves.\n",
    "For each move, extract the 3 cups to the right of the current cup (initially first in the input), and reinsert the 3 cups to the right of the cup whose label has value 1 less than the current cup.  Advance the current cup to the right.\n",
    "\n",
    "When finding the cup whose label has value 1 less than the current cup, skip over any that are in the 3 extracted cups, and when reaching value 0, wraparound back to the highest value.\n",
    "\n",
    "- Part 1: Report the cup labels (as a string of 8 digits) to the right of cup 1 after 100 moves.\n",
    "\n",
    "- Part 2: Extend the input circular list to contain a total of 1_000_000 cups, labeled 10 .. 1_000_000.  After 10_000_000 moves, determine the two cups to the right of cup 1, and report the product of their labels."
   ]
  },
  {
   "cell_type": "code",
   "execution_count": 118,
   "id": "4245c66e",
   "metadata": {
    "execution": {
     "iopub.execute_input": "2022-12-19T00:40:46.146338Z",
     "iopub.status.busy": "2022-12-19T00:40:46.146110Z",
     "iopub.status.idle": "2022-12-19T00:40:46.162988Z",
     "shell.execute_reply": "2022-12-19T00:40:46.162221Z",
     "shell.execute_reply.started": "2022-12-19T00:40:46.146322Z"
    },
    "tags": []
   },
   "outputs": [
    {
     "data": {
      "text/markdown": [
       "For [day 23](https://adventofcode.com/2020/day/23), `puzzle.input` has a single line of 9 characters:"
      ],
      "text/plain": [
       "<IPython.core.display.Markdown object>"
      ]
     },
     "metadata": {},
     "output_type": "display_data"
    },
    {
     "name": "stdout",
     "output_type": "stream",
     "text": [
      "872495136\n"
     ]
    },
    {
     "data": {
      "text/markdown": [
       "The stored answers are: `{1: '27865934', 2: '170836011000'}`"
      ],
      "text/plain": [
       "<IPython.core.display.Markdown object>"
      ]
     },
     "metadata": {},
     "output_type": "display_data"
    }
   ],
   "source": [
    "puzzle = advent.puzzle(day=23)"
   ]
  },
  {
   "cell_type": "code",
   "execution_count": 119,
   "id": "f69d71aa",
   "metadata": {
    "execution": {
     "iopub.execute_input": "2022-12-19T00:40:46.164106Z",
     "iopub.status.busy": "2022-12-19T00:40:46.163761Z",
     "iopub.status.idle": "2022-12-19T00:40:46.166687Z",
     "shell.execute_reply": "2022-12-19T00:40:46.165975Z",
     "shell.execute_reply.started": "2022-12-19T00:40:46.164092Z"
    },
    "tags": []
   },
   "outputs": [],
   "source": [
    "s1 = '389125467'"
   ]
  },
  {
   "cell_type": "code",
   "execution_count": 120,
   "id": "af596e6b",
   "metadata": {
    "execution": {
     "iopub.execute_input": "2022-12-19T00:40:46.167654Z",
     "iopub.status.busy": "2022-12-19T00:40:46.167466Z",
     "iopub.status.idle": "2022-12-19T00:40:46.177109Z",
     "shell.execute_reply": "2022-12-19T00:40:46.176454Z",
     "shell.execute_reply.started": "2022-12-19T00:40:46.167642Z"
    },
    "tags": []
   },
   "outputs": [],
   "source": [
    "def day23a(s, *, num_moves=100):  # Using list.\n",
    "  l = list(map(int, s.strip()))\n",
    "\n",
    "  for _ in range(num_moves):\n",
    "    (current, *extracted3) = l[:4]\n",
    "    destination = current - 1 if current > 1 else len(l)\n",
    "    while destination in extracted3:\n",
    "      destination = destination - 1 if destination > 1 else len(l)\n",
    "    dest = l.index(destination)  # bottleneck in part 2!\n",
    "    l = l[4 : dest + 1] + extracted3 + l[dest + 1 :] + [current]\n",
    "\n",
    "  i = l.index(1)\n",
    "  l = l[i + 1 :] + l[:i]\n",
    "  return ''.join(map(str, l))\n",
    "\n",
    "\n",
    "check_eq(day23a(s1, num_moves=10), '92658374')\n",
    "check_eq(day23a(s1), '67384529')"
   ]
  },
  {
   "cell_type": "code",
   "execution_count": 121,
   "id": "8cd3b8f6",
   "metadata": {
    "execution": {
     "iopub.execute_input": "2022-12-19T00:40:46.178140Z",
     "iopub.status.busy": "2022-12-19T00:40:46.177846Z",
     "iopub.status.idle": "2022-12-19T00:40:46.187483Z",
     "shell.execute_reply": "2022-12-19T00:40:46.186860Z",
     "shell.execute_reply.started": "2022-12-19T00:40:46.178126Z"
    },
    "tags": []
   },
   "outputs": [],
   "source": [
    "def day23b(s, *, num_moves=100):  # Using deque.\n",
    "  d = collections.deque(map(int, s.strip()))\n",
    "  n = len(d)\n",
    "\n",
    "  for _ in range(num_moves):\n",
    "    current = next(iter(d))\n",
    "    d.rotate(-1)  # move current to the end\n",
    "    extracted3 = d.popleft(), d.popleft(), d.popleft()\n",
    "    destination = current - 1 if current > 1 else n\n",
    "    while destination in extracted3:\n",
    "      destination = destination - 1 if destination > 1 else n\n",
    "    dest = d.index(destination)  # bottleneck in part 2!\n",
    "    d.rotate(-dest - 1)  # move destination to end\n",
    "    d.extendleft(reversed(extracted3))\n",
    "    d.rotate(dest + 1)  # move new current back to front\n",
    "\n",
    "  d.rotate(-d.index(1))  # move '1' to front\n",
    "  d.popleft()  # remove '1'\n",
    "  return ''.join(map(str, d))\n",
    "\n",
    "\n",
    "check_eq(day23b(s1, num_moves=10), '92658374')\n",
    "check_eq(day23b(s1), '67384529')"
   ]
  },
  {
   "cell_type": "code",
   "execution_count": 122,
   "id": "2c30e37c",
   "metadata": {
    "execution": {
     "iopub.execute_input": "2022-12-19T00:40:46.188646Z",
     "iopub.status.busy": "2022-12-19T00:40:46.188206Z",
     "iopub.status.idle": "2022-12-19T00:40:46.759530Z",
     "shell.execute_reply": "2022-12-19T00:40:46.758855Z",
     "shell.execute_reply.started": "2022-12-19T00:40:46.188626Z"
    },
    "tags": []
   },
   "outputs": [
    {
     "name": "stdout",
     "output_type": "stream",
     "text": [
      "(Part 1: 0.000 s)\n",
      "(Part 2: 0.177 s)\n"
     ]
    }
   ],
   "source": [
    "# Code keeping track of next cup label for each cup label:\n",
    "@numba.njit  # 0.25 s to jit on first invocation\n",
    "def day23_func(l, max_num, num_moves, next_cup):\n",
    "  n = len(next_cup) - 1\n",
    "  current = l[0]\n",
    "  for i in range(len(l) - 1):\n",
    "    next_cup[l[i]] = l[i + 1]\n",
    "  if max_num:\n",
    "    next_cup[l[-1]] = len(l) + 1\n",
    "    for i in range(len(l) + 1, max_num):\n",
    "      next_cup[i] = i + 1\n",
    "    next_cup[max_num] = l[0]\n",
    "  else:\n",
    "    next_cup[l[-1]] = l[0]\n",
    "\n",
    "  for _ in range(num_moves):\n",
    "    extracted1 = next_cup[current]\n",
    "    extracted2 = next_cup[extracted1]\n",
    "    extracted3 = next_cup[extracted2]\n",
    "    destination = current - 1 if current > 1 else n\n",
    "    while destination in (extracted1, extracted2, extracted3):\n",
    "      destination = destination - 1 if destination > 1 else n\n",
    "    next_cup[current] = next_cup[extracted3]\n",
    "    next_cup[extracted3] = next_cup[destination]\n",
    "    next_cup[destination] = extracted1\n",
    "    current = next_cup[current]\n",
    "\n",
    "\n",
    "def day23(s, *, max_num=0, num_moves=100):\n",
    "  dtype = np.int32 if using_numba else np.int64\n",
    "  l = np.array(list(map(int, s.strip())), dtype)\n",
    "  next_cup = np.empty(1 + max(len(l), max_num), l.dtype)\n",
    "  day23_func(l, max_num, num_moves, next_cup)\n",
    "  if max_num:\n",
    "    cup1 = next_cup[1]\n",
    "    cup2 = next_cup[cup1]\n",
    "    return int(cup1) * int(cup2)\n",
    "  ll = [next_cup[1]]\n",
    "  while next_cup[ll[-1]] != 1:\n",
    "    ll.append(next_cup[ll[-1]])\n",
    "  return ''.join(map(str, ll))\n",
    "\n",
    "\n",
    "check_eq(day23(s1, num_moves=10), '92658374')\n",
    "check_eq(day23(s1), '67384529')\n",
    "puzzle.verify(1, day23)  # ~6 ms with numba; ~1 ms without numba.\n",
    "\n",
    "day23_part2 = functools.partial(day23, num_moves=10_000_000, max_num=1_000_000)\n",
    "if using_numba:\n",
    "  check_eq(day23_part2(s1), 149245887792)\n",
    "puzzle.verify(2, day23_part2)  # ~400 ms with numba; ~25 s without numba."
   ]
  },
  {
   "cell_type": "code",
   "execution_count": 123,
   "id": "8c6f1d65",
   "metadata": {
    "execution": {
     "iopub.execute_input": "2022-12-19T00:40:46.760495Z",
     "iopub.status.busy": "2022-12-19T00:40:46.760267Z",
     "iopub.status.idle": "2022-12-19T00:40:46.763442Z",
     "shell.execute_reply": "2022-12-19T00:40:46.762841Z",
     "shell.execute_reply.started": "2022-12-19T00:40:46.760480Z"
    }
   },
   "outputs": [],
   "source": [
    "# # %timeit -r8 day23_part2(puzzle.input)"
   ]
  },
  {
   "cell_type": "markdown",
   "id": "8e518064",
   "metadata": {},
   "source": [
    "<a name=\"day24\"></a>\n",
    "## Day 24: Hexagonal tiles"
   ]
  },
  {
   "cell_type": "markdown",
   "id": "7d87d8b6",
   "metadata": {},
   "source": [
    "For each input line, travel over a hexagonal grid using the substrings `e`, `w`, `ne`, `nw`, `se`, and `sw`, and flip the state of the reached grid cell.  (Initially all grid cells are inactive.)\n",
    "\n",
    "- Part 1: Report the number of active cells in the resulting hexagonal grid.\n",
    "\n",
    "- Part 2: Simulate a cellular automaton over the grid from part 1, where an inactive cell becomes active if it has exactly 2 active neighbors,\n",
    "and an active cell becomes inactive if it has 0 or more than 2 active neighbors.  Report the number of active cells after 100 steps."
   ]
  },
  {
   "cell_type": "code",
   "execution_count": 41,
   "id": "d7da7566",
   "metadata": {
    "execution": {
     "iopub.execute_input": "2023-01-14T02:29:39.848476Z",
     "iopub.status.busy": "2023-01-14T02:29:39.848093Z",
     "iopub.status.idle": "2023-01-14T02:29:39.864968Z",
     "shell.execute_reply": "2023-01-14T02:29:39.864373Z",
     "shell.execute_reply.started": "2023-01-14T02:29:39.848461Z"
    },
    "tags": []
   },
   "outputs": [
    {
     "data": {
      "text/markdown": [
       "For [day 24](https://adventofcode.com/2020/day/24), `puzzle.input` has 347 lines:"
      ],
      "text/plain": [
       "<IPython.core.display.Markdown object>"
      ]
     },
     "metadata": {},
     "output_type": "display_data"
    },
    {
     "name": "stdout",
     "output_type": "stream",
     "text": [
      "enwwsenweswweseseswnenewwswseswenw\n",
      "nwnwneswwnenwnwnwenenwwnesenenwsenenee\n",
      "eneswwenwneeswneenenw\n",
      "swwswswwwswswsweeswww\n",
      "swewnwneeewnewwwswwnwwswswnwww\n",
      "seswnwenesenwsenenwwenwsenwswnwseswnw\n",
      "nwswwenwwwswwnwnewswnwnwwwswnee\n",
      "seswseswseseseseeseseseswnwsesw\n",
      " ...\n",
      "nwnwnwnwnewnwwwnwnwnenenwsenwsesenwnww\n",
      "nwwswneseseswsenweswswswneswwswwswswsw\n",
      "neenwsenenenenenenwswswnenenwsenenene\n",
      "newnwnwnwnwwnweswwewsewenwwnwnwnwnw\n"
     ]
    },
    {
     "data": {
      "text/markdown": [
       "The stored answers are: `{1: '287', 2: '3636'}`"
      ],
      "text/plain": [
       "<IPython.core.display.Markdown object>"
      ]
     },
     "metadata": {},
     "output_type": "display_data"
    }
   ],
   "source": [
    "puzzle = advent.puzzle(day=24)"
   ]
  },
  {
   "cell_type": "code",
   "execution_count": 42,
   "id": "45df4d23",
   "metadata": {
    "execution": {
     "iopub.execute_input": "2023-01-14T02:29:40.070595Z",
     "iopub.status.busy": "2023-01-14T02:29:40.070047Z",
     "iopub.status.idle": "2023-01-14T02:29:40.073498Z",
     "shell.execute_reply": "2023-01-14T02:29:40.072876Z",
     "shell.execute_reply.started": "2023-01-14T02:29:40.070577Z"
    },
    "lines_to_next_cell": 2,
    "tags": []
   },
   "outputs": [],
   "source": [
    "# spellcheck=off\n",
    "s1 = \"\"\"\\\n",
    "sesenwnenenewseeswwswswwnenewsewsw\n",
    "neeenesenwnwwswnenewnwwsewnenwseswesw\n",
    "seswneswswsenwwnwse\n",
    "nwnwneseeswswnenewneswwnewseswneseene\n",
    "swweswneswnenwsewnwneneseenw\n",
    "eesenwseswswnenwswnwnwsewwnwsene\n",
    "sewnenenenesenwsewnenwwwse\n",
    "wenwwweseeeweswwwnwwe\n",
    "wsweesenenewnwwnwsenewsenwwsesesenwne\n",
    "neeswseenwwswnwswswnw\n",
    "nenwswwsewswnenenewsenwsenwnesesenew\n",
    "enewnwewneswsewnwswenweswnenwsenwsw\n",
    "sweneswneswneneenwnewenewwneswswnese\n",
    "swwesenesewenwneswnwwneseswwne\n",
    "enesenwswwswneneswsenwnewswseenwsese\n",
    "wnwnesenesenenwwnenwsewesewsesesew\n",
    "nenewswnwewswnenesenwnesewesw\n",
    "eneswnwswnwsenenwnwnwwseeswneewsenese\n",
    "neswnwewnwnwseenwseesewsenwsweewe\n",
    "wseweeenwnesenwwwswnew\n",
    "\"\"\"\n",
    "# spellcheck=on"
   ]
  },
  {
   "cell_type": "code",
   "execution_count": 53,
   "id": "bfa066c4",
   "metadata": {
    "execution": {
     "iopub.execute_input": "2023-01-14T02:30:46.060532Z",
     "iopub.status.busy": "2023-01-14T02:30:46.060151Z",
     "iopub.status.idle": "2023-01-14T02:30:46.309242Z",
     "shell.execute_reply": "2023-01-14T02:30:46.308635Z",
     "shell.execute_reply.started": "2023-01-14T02:30:46.060514Z"
    },
    "tags": []
   },
   "outputs": [
    {
     "name": "stdout",
     "output_type": "stream",
     "text": [
      "(Part 1: 0.001 s)\n",
      "(Part 2: 0.151 s)\n"
     ]
    }
   ],
   "source": [
    "def day24(s, *, part2=False, num_days=100, visualize=False):\n",
    "  if not part2:\n",
    "    num_days = 0\n",
    "  offsets = dict(e=(0, 1), w=(0, -1), sw=(1, 0), se=(1, 1), nw=(-1, -1), ne=(-1, 0))\n",
    "  tuple_offsets = tuple(offsets.values())  # slightly faster\n",
    "  regex = re.compile('|'.join(offsets))\n",
    "  indices: set[tuple[int, int]] = set()\n",
    "  for line in s.splitlines():\n",
    "    y, x = 0, 0\n",
    "    for s2 in regex.findall(line):\n",
    "      offset = offsets[s2]\n",
    "      y, x = y + offset[0], x + offset[1]\n",
    "    indices ^= {(y, x)}\n",
    "  indices_3d: list[tuple[int, int, int]] = []\n",
    "\n",
    "  for day in range(num_days):\n",
    "    if visualize:\n",
    "      indices_3d.extend((day, y, x) for y, x in indices)\n",
    "    neighbor_counts = collections.Counter(\n",
    "        (y + dy, x + dx) for y, x in indices for dy, dx in tuple_offsets\n",
    "    )\n",
    "    indices = {\n",
    "        index\n",
    "        for index, count in neighbor_counts.items()\n",
    "        if count == 2 or (count == 1 and index in indices)\n",
    "    }\n",
    "\n",
    "  if visualize:\n",
    "    video: Any = hh.grid_from_indices(indices_3d, dtype=bool, pad=(0, 2, 2))\n",
    "    video = video.repeat(2, axis=1).repeat(2, axis=2)\n",
    "    video = [video[0]] * 10 + list(video) + [video[-1]] * 10\n",
    "    media.show_video(video, codec='gif', fps=10)\n",
    "\n",
    "  if visualize:\n",
    "    # See https://stackoverflow.com/a/59042263\n",
    "    fig, ax = plt.subplots(figsize=(6, 6), dpi=90)\n",
    "    ax.set_aspect('equal')\n",
    "    ax.autoscale(True)\n",
    "    params = dict(numVertices=6, radius=math.sqrt(1 / 3), edgecolor=None)\n",
    "    for sw, e in indices:\n",
    "      xy = e - sw / 2, sw * (math.sqrt(3) / 2)\n",
    "      hexagon = matplotlib.patches.RegularPolygon(xy, **params)\n",
    "      ax.add_patch(hexagon)\n",
    "    fig.tight_layout(pad=0)\n",
    "    image = hh.bounding_crop(hh.image_from_plt(fig), (255, 255, 255), margin=5)\n",
    "    media.show_image(image, title='day24', border=False)\n",
    "    plt.close(fig)\n",
    "\n",
    "  return len(indices)\n",
    "\n",
    "\n",
    "check_eq(day24(s1), 10)\n",
    "puzzle.verify(1, day24)  # ~3 ms.\n",
    "\n",
    "day24_part2 = functools.partial(day24, part2=True)\n",
    "check_eq(day24_part2(s1, num_days=10), 37)\n",
    "check_eq(day24_part2(s1), 2208)\n",
    "puzzle.verify(2, day24_part2)  # ~460 ms."
   ]
  },
  {
   "cell_type": "code",
   "execution_count": 54,
   "id": "4c8d4666",
   "metadata": {
    "execution": {
     "iopub.execute_input": "2023-01-14T02:30:46.310482Z",
     "iopub.status.busy": "2023-01-14T02:30:46.310115Z",
     "iopub.status.idle": "2023-01-14T02:30:48.765499Z",
     "shell.execute_reply": "2023-01-14T02:30:48.764696Z",
     "shell.execute_reply.started": "2023-01-14T02:30:46.310467Z"
    },
    "tags": []
   },
   "outputs": [
    {
     "data": {
      "text/html": [
       "<table class=\"show_videos\" style=\"border-spacing:0px;\"><tr><td style=\"padding:1px;\"><img width=\"254\" height=\"264\" style=\"image-rendering:auto; object-fit:cover;\" src=\"data:image/gif;base64,R0lGODlh/gAIAfcBAAAAAAD/AP///////////////////////////////////////////////////////////////////////////////////////////////////////////////////////////////////////////////////////////////////////////////////////////////////////////////////////////////////////////////////////////////////////////////////////////////////////////////////////////////////////////////////////////////////////////////////////////////////////////////////////////////////////////////////////////////////////////////////////////////////////////////////////////////////////////////////////////////////////////////////////////////////////////////////////////////////////////////////////////////////////////////////////////////////////////////////////////////////////////////////////////////////////////////////////////////////////////////////////////////////////////////////////////////////////////////////////////////////////////////////////////////////////////////////////////////////////////////////////////////////////////////////////////////////////////////////////yH/C05FVFNDQVBFMi4wAwEAAAAh+QQFCgABACwAAAAA/gAIAYEAAAAA/wD///////8I/wABCBxIsKDBgwgTKlzIsKHDhxAjSpxIsaLFixgzatzIsaPHjyBDihxJsqTJkyhTqlzJsqXLlzBjypxJs6bNmzhz6tzJs6fPn0CDCh1KtKjRo0iTKl3KtKnTp1CjSp1KtarVq1izat3KtavXr2DDih1LtqzZs2jTql3Ltq3bt3Djyp1Lt67du3jz6t3Lt6/fv4ADCx5MuLDhw4gTK17MuLHjx5AjS55MubLly5gza97MubPnz6BDix5NurTp06hTq17NurXr17Bjy55Nu7bt27hz697Nu7fv38CDCx9OvLjx48iTK1/OvLnz59CjS59Ovbr169iza9/Ovbv37+DDi/8fT768+fPo06s/KaC9AILtBcYf6N69+frw3wOYL7++fvDz+WfffgPmx993AQqoH34FMQhggQQq+B99Ax6onYMRKmgQgxZml2B+/R3I4YITYvchhSFOOGJ/3p14YooddmgiiSwSaCCENV5YIY0Zrphhjtf5mKCANfo4I4Yxqqjki9URiWKDSt4IpHVMwugfiFBOGV2VPV75JJYyNkmiiEvyqOWMKWKZpo1fTichkBiuKSWb0L1J549QJsklcyNKOOSOceZZYnJ9+mnloQkFWiegOHZZpJ9h8smonjta6aSkZFqqYZdINqpcp5o6Cemczv1pZ6Zt2qnmcaZuiiqcm67/+qmrYw56Ko+KEkqrnBSKiqunW9YK661nirkmmcTeueiGu7L557GDSsqsr49Cu2dzlzr766jbZetiraqOFy61vQrrYayO3lkodc/iyaxDkWJrbq7xyuomuNEqW269wSL67kHZ3udltYKS562Z5XLnK6UHK+xloNwWyy6jcxaa68TtWosvvw4LmS965HLc7cBZJuxudwGnSnF563KKsHgtJ7vezDTXbPPNOOes88489+zzz0AHLfTQRBdt9NFIJ6300kw37fTTUEct9dRUV2311VhnrfXWXHft9ddghy322GSXbfbZaKet9tpst+3223DHLffcdNdt991456333nz3GO3334AHLvjghBdu+OGIJ6744ow3rlxAAAAh+QQFCgABACz9AAcBAQABAAAIBAADBAQAIfkEBQoAAQAs/QAHAQEAAQAACAQAAwQEACH5BAUKAAEALP0ABwEBAAEAAAgEAAMEBAAh+QQFCgABACz9AAcBAQABAAAIBAADBAQAIfkEBQoAAQAs/QAHAQEAAQAACAQAAwQEACH5BAUKAAEALP0ABwEBAAEAAAgEAAMEBAAh+QQFCgABACz9AAcBAQABAAAIBAADBAQAIfkEBQoAAQAs/QAHAQEAAQAACAQAAwQEACH5BAUKAAEALP0ABwEBAAEAAAgEAAMEBAAh+QQFCgABACz9AAcBAQABAAAIBAADBAQAIfkEBQoAAQAsYABqADoAOgAACP8AAwgcKEDAwIMIDxYsmLChw4cJGUJEuNDgxIsQCwLYCECgRIgbMYpsqJGjR4sgO44U+XEgR5MBXrZ8ufJiS4EvQ8bkOBNmzYcldeLMKRPlTqEBbtYMqnIo0Y09kSr9GdGiTpoufVJdKfGqVqxbw2ZNCFZsWKROm5pVKKCsw7JIpRpl2Vbr269q5W4levJuyqo/+SadO/Yh2sE/lVYka5ek0cMZCS9G6NbxQchACTNO6VWxZssTMacd6tlmXcFx1Z7EOjnx6ZxDL6sezHrhWq9PG8vW2Tor1M+xj+aevVtl77RTEQ9mmvYw6tmCHUqsiDW6b5jOYWf2K7w69uHF+1Lx/Ixbu/fc4ZVzBr/z7/WyJdejb28471O2mLuaV1m0uPfgbEln1X7IPXYffYcld9Jk5bHF1HOATVSRfqMRtNBw/M2moGP6VSZbhWstOKCHhZHIlWQDAviedg4CN16EXjE2X4tidZgTg41t6FpzPNkmXIQhUpbhb+KJ15uOI5U3nVFLtoSkgOmJSKN6FhaJUVRqHeljaVTuaCFzyxkYYIhOXghTb3qR+VqUtLFHmouRwaXVgyzu9GRoxBVWIXxwYiQafXvO2edWNm4W5EiFCnnoUi6auOiL9f0ZJJcyajgooijeleClhDLp6XGPAknlhIQFBAAh+QQFCgABACxeAGgAPgA+AAAI/wADCBxIsKDBggIEHFzIsKHDhwMTQpwIMSEAAAQlHtQokCPFjx0FXMyocGPJkCApJvS4UCPLlCBXnmTociZMlTZp5my58qbBlzwnyvTpsObDl0CJIiyZlOTPnUqTSu1ZcGSAi01xBjX50ipWqCk9WkUZEepQpU8Jjg3gcWrWlGuTrl34VeDFujDjQp17EO9dAG910r3rlG3Jr2ftYvQpl3BZsoipKiba9rBjkhYBr1z7l+zHyor5yozM2XHgtEtRTzZcmG/YnEhnWgV9dTHa20v/igaLu6hI3apxBo5tsDPrx8J5e0au1vTM4b9fLy9MOXpMpmaVUzT+Ee9R7YNdO+r07vtm5umCaxMVH3I2+OPsIcZvf7k884qWv3O3j76hxvlVAafTfv5JlpeAPBGo02kmeVXfd1sFV6CDAFKXmklw6UZec+h19eB2Gmo2WIc5KSiUbLbl5lxi6rVY4YWrPWWcTGIt5qB52p3nYor7mYiffjYG2VxpL55YHI8I1qZhb/fFqGR9IaZY3YjIzUhjaB9+tleK/61I1ZJMYhhggWHyN1B8DGppIW5pitlfVO99V2NrUrp5G4t6ORlhmKXt2WWb3SHpp2WA/nhmlHUeWeZyiCY65qISlkXccZC+ySJZhVZqWKaaLpVUQAAAIfkEBQoAAQAsXgBqAD4APgAACP8AAwQQIECgQYMEDxJcWDAAgIcADkqcSLGiwoYTEyJk2BBiRIsgQxr0+HCiR4ElKaYUyVIiyY8HTzqE6ZJmy5YyBWrUGNPmSIg8b1bMObBhUJQ+kT48KrSmSQBMCRLtuRRj055PowqY+rPq1acrZ4bVuRWo1a8siXKVahatULZjZ4KFelZuUaZvy8bd29bp3bpuJQYN6rUo0ouBQQ62WlhjWLwsF1eEPDTpV8kUKau0fBXuR49MuWYEbDiy3s99qXLeOJn0aLUfIWtG/HN2UdhkW7ckTDdx6dybr8btbBXy8JDHQYJ2LZYkba2Hby5X/pLmzrqOVyPNLpL3aOCNy1L/5x7Su2CjHXvfXs2QOG3dv+OPtv2dtcXr78sv3F2cOfz29+1nWn78kSWbf5mJ15RxltF3XnIBVqaYgGhBqBREBJ7noITIOWdfd6Rh5hl1cTl44HOnkeiTbfh9eB5W8ukHInA0vvhTjTMOmGCGFz6mIIw51odjVxhuxFdeRLUopItLgpgkevDxyKRpT1oYI4dIFkmWlQ5aGeVGGzZXI4B5zYegamNS6FZKWpH5l5tS4hQbdhxdxFGIZ3Z4YZM7iumbXWshmJ2X0mm5HosCEiqnj4VNSN6fN9ol5YmQAroinl9WWiiQU2oqUlgl5pmXbdXNOaRvcG72EnBhotVmeop6DPrqnp7W2mqtOk4UEAAh+QQFCgABACxcAGgAQgBAAAAI/wADCBxIkKAAAQYPKjwIAMDBghAjSpxIceBDiwsVNrxYsaPHjQIadmwoEmNJjygjgjw5kSSAhCxTyizIMUDNmThz1ryZs6dEljwhBp04FCdQhBWLRlTqk6hClDGb6nz68aVUlDyzUk14MepVgVqFbsXY1erXAF5tUt2JFGxIh0hdMq0qcaHbhDDhCpTbdmrGvnWRDrWLlmTTv3MvDqbqsufinmkZmp35OGfkt477Kh6LlzJgtVg1C+aMEWfYr5JdlkxM+mxe1VZZzw19t3RLvWoXHj06G7Tv2j9x/909mXBm4LZrrlRNsLHatB03i0W+3Plew88ny5SeNKNb2CWj9v/uLHvtW9jXp9OdCd229YF8R2pfT7Fs1PgV0Xd33l4+VOb7YddffvMFt9pnrhVWlkzOjWcZbgO+hltnzcWGYHfpeZTahLZViBxthRlF0mb3YdcUfvKB9N1870E24oUQ6XedivBZ6GGN0cFYkIyF0ZihcpMN2NuGQK7oY246qhcaiiFmd6RxGia5FGY7mtjkhzRdGGGWJbJ0VH1aFhilgWK6VZmSKQ3VYpZnZnmce1bOCBdPTB4JYm1r8kXnixU6KBZhXoIHJWy6xekZoEEKOhahGhnqIlefvYfogViKCGmMVk5q428JJndemT1a6OdURoLaYGuoXSjZivZZteWbYh05SCN/oJ5FqacpcpjgrbXNxeRZG6ZlZ5XDXhWsmMXWmCywoq0IJpSddujbqk5BG22afb16bY43ShQQACH5BAUKAAEALFoAZgBGAEIAAAj/AAMIHEiwoMEAAhIqPMiwocOHEA8qXBixosWICQVOJAgAwMWPIAtmREhRYMeQKDEK0CjgZEOXLFPKJMkS5kGbI2eGdJnzpseBPWPqjMhz5cufQgkGHWowYUebNpMyTen0KUekQI1OpdoS61OrAYo2NTpyKdOqV7+a/Lm0LFmtWyUajRoW7Ma6buM2HElXLUm+APJOnbj0q9+1fcGuPUvYoGHFdRNDxSrzsd/LYA8P1LzVcubPLjlHpjyzKma6VyvibPzRNGjSqYliJQz3oubHSufC9rl4826Itw3n7g385+TKbCnSBRyaNO6CqGWzBDwWsXHnwqH/lk5zdPW6se8O//e+M7n178f/1u4u2vb1r4KJ+3aP3HrH+OC10w/Z83FP5pBJVZFZcqX11H+6iUagQwtqJ153YwHoVmIPuvcggXfB9xaFJem111sCFvihh1kJ1WCI412E33j9bedYYCDyF+N3LVo4I3cMrSjSejl29V1xDN7440No7YjShLPxSKSPJULIVU1JglSkiUpK2aGOLMJ1opMqXimkkU5uuSV6pAnWXHQkCrVcjGe6GBeCPY4nWnvqWZkimGoGSF6EVS7pV4XqtRkdnFyq9GeH0zH53JBYGmrZWPdtmF2jMrmmYFdIHopiXP55mZtnZkY5U6eEQtlpnndWiuieYKLJqk6A0lZJ3VGuMnZed4IVpqdeAFLpq3a1lqZln5tCmWaYxBb6qZuqSvXgaoAei9+zSUZ77FFjzodrsp3BuB+lQ1VVapOmmnetuMMy2pVY18bZJIartntnow8GBAAh+QQFCgABACxaAGQARgBGAAAI/wADCBxIsKDBAAISCjjIsKHDhxAbKlwYsaJFixMTCgTAEYBAjRdDivyYcWNHkiNTSqQIsqPLkwdBqhwJsuVLlwxlztzJ0WDPgTZ3Ch34k2BRhBSPDsWo0OTMmhSXGpzoVCVUqQV1ThWgFClJqC61DhVLMGFXqGA7ksWKVCzVrFGJvmQbsylct3FN4pT6tuJPm13L5rVq169HrwH25hy8dK1huhUdRwwM+WtcyikzMqZZOPHhxiVHYgYa+mrbzUZhSvb5eeVb030b7l390LRJszAh6qQt0rZn3KMFC2cLvDXrrXhRkhZa3OHZzsp3o54MwCZexXKDIg0ekqP1wc0Lev9Pehg3VrRx0z6PvVh6ZJad1Rs/TTs2b/Hz0YedfvH+cbiW7Qdab1zl9ttgAq601W3kvYfdeKxBqCCAB1aVEmXhRcefXCRx59x8HRro24chzvSXZuTNtiGJKp2omV6qrSgbiBZ1paJ2Jhp4kY0x4tiijjXGCONaRMLHkIcHqTjkZkUq919/KVYXpYQjerYYjAQuCSOVRuJ3pWdIlrjSTclNKOZ95o35UplfnikjlgfK55B016n1JpiHjSenmadtlaCDrbkn12hi6VkgdroVOJyTeM6JoJTFhbkcYYzqhKiVIflXV6WXASlpoqkd9dp0J1ZmqYh2SVZqZZNyaR90iC1myBd56NEJHpN3Oqrpp5Cx9xCvph5K41E38agplJdaiOelElbG7FxJorqoVM8m2+ikjIK2qrLTGmotc4rGiqmsDGbYa5fF5glkqDQOiFi6cB65LqsQ/SkuvRfaOS2+nEl2LL998hkQACH5BAUKAAEALFwAYgBGAEoAAAj/AAMIHEiwYEEBAgwqXMiwocOHBxNCnEixYgCECC1q3PgQo0SOIENCBABAoEeRKCmSNIkxpcWMG1e63AhTo8yZLwWQJFkzAM+PEE/ijLgTQM+fFYUOLViUJcGeMJsy7IlTKlSgUXc2pDrzpsKsXqUubejVINiSA8WOfSpRZlGYXMtGZOsyq8C3EuOiXXgVJUKpRZFGvHrUKFC/OrX6DMxV6cWWaQ0vDbz38UTHdAdytRk4c0fIZrEepplYpsfTolE71TwasVXUoB+rtsx6refFXs/mzjtabsjCu+92rk2boG+Km6fydlv559/Kty+3Vs6SuXHDz/lO35r4NmbaYRUL/4+OvDtxlo3bNhe/mLx0wNi3Ew+/Wq3G58y/hx4fuT77kKapZ59Cr101YHILBSjcgAYVKNqB8u0H3nChZYebZAxRdh9vC/7HmoV4kUVhefylt9p1/JEXXFDqnUicXime15+M0ulH21noyWcgdCzaCJeAaNnoooUVCQbfccdpJxhHRirGYHvlLSmSXRPmyF11lSGYU4ktyqbjcllGGBOGDwmW3JMoSSnijwl6mBSHxc3F1IgozujiZ6slp9eT9NHoUJJy9nVhgzxmpmWMV8aJ45yJHuolW0+md2SQork32INuxoklcwrK6GiZjFXq5aL+rUWZoLOpRSVHjvZJmXOlhZCJGKh1vhqfqmK+aaludMpppaYOCSqhrYASBieAw4E4ooa2Efoap+wx2yykTlKKH6Ws5hpsrFxeeyeJKf2IKkbHCTuUuKJ6VK6oawl56adQ4uQuW/PaOS2SZG7Lpm34wisUvNLVaeyu2mYrcGrs+jotbOaF1imgSzG87sOFTounn5ZaLOG3GWusnccRFzxQQAAAIfkEBQoAAQAsXABiAEYASgAACP8AAwgcSFCgAAEEDxpEWLChw4cQI0oMoHBgxYoTM2rceBCARwAYLR4cubGkyYUfQTJMODLkyZciG6Zs2FJgSpcwOa4cOLNgzQA3d+bMiPMhzopBiw71KRTiUYZJmy6VGPLnRQEeFxLsOXViVZIUGXYEoJXnx65Om2Y1WzZiyrVoWcokyzbsxLd044aF67Cn1Z04+U4d6/Zs2KtyCwrOOVbp1rd6TzaWqhhy5JIelSI2i9cvVLqLT2amvNlmZ8+mUy/9WTIkV5GhGYNtvfM1yrxxF5+Ofbql7aW6dz/sPfL35eGd2wI1bNzucdN4lfds7thhYNyF57qmu12yWuwQg3f/d66admKWQW+zLB1T9nnYH6/y/UuTssbN1b/yHe0VsP327NWHHm78UeWfd+uJNRt5TKlGWFxfXfWVUZ+p11VsT4211nXVWXgXeMotpCF333W4F4jhoTgXdOBNWFeAGcW24nKLueiggt4hZRhrdUUkn4oM+giWZ9f156F1/1GYHlP5tZRkVyNm+J+TT6L1YH06blglgyYKieGQO25po07jFTjjlcvdt6WItYGmEnJHytigSVoqaRiFCbq45IchwidnhAtm+eZLVM4134FIbtdcfzyy+J5mC0ZHJo4n3lbjf7zFJyZYP1raIqYo7pnie8pdJyd1Wx4qYHuPnXrnnBqprsokaVNWOCtmuEmJZ1rlidQlkvXJSepyI54G01PCsmpWscmt1tSYZUkY6GdmmvTUsPg5mZioQxWa5mGRDipttGsa+JOWPBY4rnO/2vnaouwqCOhgWFnmKK/xzgtlvV+2qql0n9KLqr/qtrkqWuhSSvCg/vaKMIkw4mWqm89NFyqQj7F5mcVwxghxubhKbDCsPT7H2VvjDZusXt4a+mm7EGrb16sam2zzsDfHTFBAAAAh+QQFCgABACxaAGAASgBMAAAI/wADCBxIsGBBAQgFGFzIsKHDhxAXJlQYsaLFiwMRAgAwUeDGjQIRYhxJMqSAjR0DfARgsqRLiygpEly5suXLmwZj5qQJMoBInDd/2iSokeZQoCWF+pSZ8aTRpUhL1mwYU+nRqDA/OqzK9CrWiD13etTaVGnKr1RZLuw51aTZhGgZ/rS69mnFsF/ndq3bFqxarHQhFp16FurSwC4ROxxMtrBexXHH0i08lmhCvJF3ToZbEO9EzFFT/gS9mGLPol5xijb9N+JotagNA2b99uLmzIZ1NrW9F/LLt5R3C5e7NzVG4JwN1m6I2PfDiZ85OnVOvLRq6EWzF3e93XhFxp45h/+33Fx8a+8SnfZNOb7sdvbnZXOfStrv662Nk88nWx+i7v4q5UddZ0+xxd9Htw2EV32r3VWgWvQh2BtTC8bnFkUDKsVThKdNmJRTvM20oYEdKtfdcyAed2KHhOkXnE16WfbdirCpVyNy1Rm23If3oUjXensByFuPpf1IlldCMseajAHyRGSTdhE4VoncVSbciE+OyBCJNUrVmoFTSndhmFRaWSZJFZop4ZhQngmmfCE+xJN1Wek2knNzKnnRSgMyaaJgGNLo50En/pkeoOi1Z6iXeQ5K3pIKHilcbCNpSShxWUoKY4qVQrhhjmLl9imhfUZKpqbDSSlqo+51mieAm+HRGKCJSe70qoWpsskmaJSiaKt0jC2q56XyZRikhMESSyeTO/oV6mtUlirikw4+y1q0haZFrUVGLquqhq0FV2q3w1or4qPCDrldXzb1xaquieknIq/XfhklvLOFCR+rt3KJXpx8msfvg/7CGVV9Lc474r1xIZyfwguj+tu68TlG4cOR1lplXSY2m3DGuE6Mn7TaZhvnlmICZefB4co7a66HwoxTeOT+W6zJQbn8IpRHkczjhIh9bHNk4C73Lm6+Rmo0w0iT+t50HsqM9M7aCatUQAAAIfkEBQoAAQAsWABeAE4AUAAACP8AAwgcSLCgwQACBBxcyLChw4cQDSaMSLGixYYTL2rceDEjx48gGwIAELKkyQAjT6pk6PFgSoQKByYcObLlSoo2C75sOZNmzpsYYwr8WTAnTZJAI/IUypKpwKNJI9Z0WjRhzJcEX2KNunBq0IxbnyINy7VpV6QGj6r1SbWszLYo0epcq5ao26FMp9o1C/Nu1awArMINijcpWKQtd14NLHgxYLI3DxceqFhsY8eUafoFnFHwQqNyxW7dG9IrTKKg02p+mxRqZolUOwuoHNeva7Gwc8OkDRno7bijrRJc2tvt79+eWb8tXpbsb9W9n9dWXjo0cOuPsV9XPXwwxMNbe1//xk39b2bTHReH1z5++mTdohmnxws6ePf45Nfe325Rdn25S+E3nX7KSVdRTqSZp9hePRmIU2ze6bagdw2uNp9GRE0I33kWPrhRhogJZ152zCkVoUurObifZO5heCJ0Y3X4WUwslnhQT+SdBSNdIWql3Uc4tsjdXDwq5iNX6zGXWIf/aSgkRUn+2BeH+5EYIotAQvgVjXAhyFSQWW4Im2wzbggmR+2ZmOOI5SVoYnJqPvlemy9ahN6NVLkmmHhc2ljRnWLytyd7fUop1ZWzGUqkXE6e5SdDEz4qIHlwoigpmw/xFqONla55YJ2UYqbiW6mB5GaBaj0U4Fxhengdp1/m4alooGbKmp5/iV5IWHmefifioCGdWqGDLAZ5qap1DisjqngdWdKqveYXYndkTknWqVVOGe2A05LK5WTXgmpptzpq6+qxEOnpHW2fbltduODGWCar/LkL5bLVOhuoj+uZhCWKc2Y7Y6emYlYuaiemeVKQCYKGLa9o5mruvJyJG3BJdyaHXKIZJ/rwRx2DByDH8i1X8mYAO7RUTx9HBSu1HlvsMpO/isqYxqu1vNHG+cbYnrpuVSgwnigjuzGyRaeb6sSvMQ3oZgSCePHTfgmtEdVFW30R1klf/KHMkYFNdEEBAQAh+QQFCgABACxaAF4ATABQAAAI/wADCBxIsOBAAQIEIjTIsKHDhxAjMlwYgKLEixgzGrQYAAAAjSBDXuToUaTJkxo5olyJUiXLlw8peuQo8yPMmwoTdgRAU2dJnBk9/nz4E6FLl0AbCrVJ1KZRnQSRJo0qYOhOg1YFZi0oFShCq1vDMp0IdepBn0KpUv3Ks2zDrjBrWu3JFm7OqU+1Lh1L1+3ZmH5P5t25VO1ZqXDtmqy50e9ep4EHLlUMkjFXx3vvOpwcubLOwUrH6i1qVLPZip9LbxZNGDJFyiyPqh4NWS9g06hfyiaZNvdVh6/Lwo44d7bvwr41wx6+eq1wtKQNL+8sETTqrVhr/90ekXnOntgLRv/nnhyi99aDecvtLZg6caHpy86Ezn6xe4jIEat+3Fi63/ME5RfZYPxd5l9/JiGHG1sB2qSgZPUZttKD4I3104O0vXWfbhtux5ZYcIXnWUbBYbhTiKw11Z6GAt6GGmwiVjdgVb0lltp56s3YHm85xahhg/rtKB9kPl72lHU2SviicbSRNt2RxiVJHpTZCXhegYAVOF+J2mVnm0ZYAkcjclumNp6Xv4FUIIpOQolWgz12CWZm5VXpmptffslgnTKS+CafoWUYW4eanYmfgxGGJOWXMQbXIJkpYrTob42m9mhvRV7UJoKchSZVmCdtaiB6kc0XmomnZSdbUJFmipKpo2rt2mqkp7IW3IdtvWeniczxeuOYuR66a6LTuapchw8aqiSLtJKFW1NgybmsmD96GCVmYcJqbKzc3vrcsNFaJpK3GrpUpmVUcvsstUuWi1m6ba6qbko6Oiteot/VO66+86Larr0r1RTftK6C2hJaA5OX56H++llosEpat26+Pe37sLz5ItgYkoQCfNh/3967bsUHbwwywdKWByC70y0cLYIrw9yhuGnWfOxpn2KKb2vT4lWqzuFR2HGorD0m1sQnMomTWAYrC6HEOEFdJKwapyp1s3oFmSqQIauqdKdbP931vVdTHXacN8Vs37bdlRUQACH5BAUKAAEALFgAXABQAFQAAAj/AAMIHEiwYEEBCAUYXMiwocOHECMmVBixosWLEhMKBAAAo8ePHidu7AiypEmDCCGmPMny4kqHL1vKrMhxpEGOMWfqLFgzQE+COCnuLIkwKEyhA38OJSrAaMOcPkku/bhyolKUFK9OxVg1oVaCK79urdhVINSQTTkCOLu0bAC2LtM6HRszZk+latemdZh3rFmkdkniVVtU6sK+WwvnZYt4scaDSLHqVEw4clK1I4NChfvWsknKWkVGhZjXqeihoA3/Dav6cOmunFmWLm2zs9ubmKOeHr1zdmOSohnn1oxU7GfLvlsXBrs3KmKglWVCTY5V6XLnuaHPPRlcbmuGvwfz//1O9TFlmsOz8wZPXmZoz5ehX3zeWzn82vgj0pdN+yn83aSpF5t+/THEFoAP0TcgbrhZl1V7A93Gk2DRlaSVgg+qRJFwmel13HT9IfjXiJ2NZxxXj2mXm4gltsjZficRJ51lA9Z1X0MytrTZjST2aBFnCNooYYMQggRkihECZt6NMA7VE4vyfYSYaE/yiCNwSLIH0pSPVRnXbAy6ll+HTbbIUmphhnmhbwZaGRdzVlXI3GoP3kXedsfB6ZWcSdLZ4ZiXLfijlTv6SJ2Ztrk5qIaSIXqokIr6lSSIXLbpp6QLIQgmonMmapKdZfrIYUbuURgqoqMyyh1y6nUqIZRirv9KpKUuKikooEbuOdGuNG7oa64zFsZrkL9yuqisk7IKI4h0vvqfopAS+V6YvIr6LLB9Ykemh8Zi5VZgJx7VaXgV1rikoa0+dJ62E3YIbpHqZjgouWryeaqq4Wbq3W/bbjcbpQVOmC9zh4L6WnEHS5vun+WxNlilvB3YpYAP3posw9uS6KW+DhvGmsXVUahichv7SO2eZzb3MMkldxtfogMTSN+aGaO65MzwoodzvRBfui6u5ZFLL3Y5hiyejt71a+rSRUO281b8YoTny5s6mZ5HU9dW9U7Vtpg1ZHqOzO1ku2o8tn9hX+YYprXumKOdRILM1KUE68UaoGuzbTOJR0Ysq7e1fN+4G6ySSuxtWh9Hmti1kAlbseKoKV5otn93Slavllc+ldyao2VQQAAAIfkEBQoAAQAsVgBaAFQAVgAACP8AAwgcSLCgwQACBBxcyLChw4cQHyaMSLGixYoTC2a8yLEjxY0DQXocSZIggJMADIosyfIiypQaFbacGTHjS4ErV9LciVDmzZ4qZfIcClEn0aMNjSJd+lEo06dBoUoU8PKn0ZMmAWRUKjVhVZQ4nWbNulWsVIJeq6I1G5WhTZhQ0/4MOzWpT7hL0wp8aTRhTqd+/dIFelRvAL5se/5dG3gw15FlHctsPBBrwZOPK+OlGZlwWZCWySY2GLrwaM2YBXOcS5hnZsSZF7KObTGz3M0HFx9G2Znz6bCsF+pGPNi35b6AE5eWjXs5ScPI1zJ/6Nw5ZKpgd7eVHlM05b14aU///elcN3fwgUGH/71a6+TTummD7E0ydfHcZunb5S6+qNPUbzUUnFvJEaUeZdahhptwBbKkHnOlXaUWfqS519922h00m3ITYoieai0Nt2Bru5E3YlgXNtVWguqZaFeKDIJnH4nfXfYVTAH2VJ5qKb4143wg2vjVYMdhF5R+7RGZnYDZRXiaZaXN2FGRMp6oIHjnaQhTlO5d5+OSIb1H2UpUKpigl3cN+BmPZpVZ5ZkOYlcmkoHtGFSRQJZ0m2T3oWhkdzHh2SBGf+ZI24AVVggjfmW66RCiNirKHqGCxqhZldQ116SVNRUaZJZQgjmdkFtyuhOZN/apWWc3dplXm6mS/yiakl8tmmeYK5YKYH7vYbjofbdyF+qubZkna3s/Bokqa5Ba2hJxig1qJl7NUrjTgJAOeemVuB6rakXYijrtWNzyae2UupoKnLhZtfolTcOqqyO700JbrUvUykuun+mlma+Ti3KJL2P9+tvuer8CiqSqwcaUMKHmekhjYjX65ued+qrYbYhi8gpnRw1bvHG0El/HbMZZAmmsnnLmi9THgO6n5cVHwZyls5GSHOfD87YKs2Es83xbq+Oh/Ki8cO7JLc8R2Zwhgyc7ehbBY77n5L5Tv5ieZFdvm7XEjiLp9LczoQpsrzl3Gtd/Lh+d9Nbels021hBa2S/ZRJk4o4tPZzNo1aTXbrr3plhu+/fXfe+qN5gCI+71bnUKznjbjjvM69nvxp11xZ4llznTzwFe+XVQBQQAIfkEBQoAAQAsVgBaAFQAVgAACP8AAwgcSLBgQQECDCpcyLChw4cQDSKMSLGixYsAAAjMyBHAxIsgQ0bMuLGjx4QiU6oM8FFgywAdV8oE+fJlzJk4UyK8SZIlypxAHe7kWNLlz6BAhxL82JNgxpdIZSodyFRjwadHo2I8iTVi1aZatw6FyvCr1bAPyRotCXYkR7Vo4Zrd2hWtRJQ1UfK02rOuWbhRP+Zly7dwScF632a1SxXh4qVH/zo2efbg46SOGw6GqXjozbtROwJu7DVxw7o5RV+GXLooQ9Q4VRsdnfYo2LlAZfukLdR2ZdwzeT9sS9rh7dUWhRuvzHp585XKXRMGTRN5xeicnRK1HBL7dbyLP2f/9/l8oPjyOREbFN9zs3bia3GSHZtZoeP67fFvP36++l2sct1n2m6J9fWbAP3pBF588cFH4Gi6UeadfQuSV5yDAiIXoUkTqmfhQvdBNqGIBZ50kYejhdjYiCuW2CGCVnmYnoD/badgfgzKR6NlCcbGHEXzRaYhZTFaB5GDtVGX43pELtkbk7MJ6RpxU7UmVXhFbmZgjd8FtSWF9xH5o3tlYRnSl3eF2SR3xWlmZnJYkgUWkh+Wmd9eJ8b5pnQU1nbnfj+eaeN4OJZJHZlKisSeYXUmGh+ibHZ51Y83ZQiinnxemieUk+anoqOcVZWkTHRqd5qJQBqZUqnmBdoqdiy6/2UqSJ4OKKNPsK1aGasL1erarfQpaNOg0/VJIK+hVthdfcW+5ypiVS53K3S2qsompJo26t94L+ao3LRHuqpdXg4iS6KzWw2HqlHlilvmsOa2eG6b9Hq2ZnOwSWhtlPM6Sa6YYyYGr2KSUoesqJz5mvB22D5p7MEDVqqfxOhZRFmD7h4H6ZzuCkrxeL0euPGuHStqUsWjntqcirEufNymzhXH8r6GgkxvxYuSqWK82VJ5mZyDwpYXwoylGi/RRcN59ICB/bwjvxa2HFSAnxL4KM1J1ynmrBliBaCUkWLm7KJR0vd1xVKHu5eBGtdHtYtYU3Txws0+qKxlkhUd5KXxzkyt92IB9n0yY9F2XaSbXqPa49QwkjhVijAGS3fWVivks7fgWUp51bOuDHaGaetaq+QYQ035awwLKHS1oV+JctiGc7452G46HjmzAQQEACH5BAUKAAEALFQAWABYAFoAAAj/AAMIHEiwoMEAAgQcXMiwocOHECMKTCixosWLGDNq3Mixo8ePHQEAAEmypECRJlMypIhQocOELFWqZBlzJUyZMhOiLCiypk+XOD/qHMkTwE+CNYNy/Dl0YVKlHpkK2GnwKVSIVg/upHo1KlCHW4l2XTpVpNGvXCd+zfo0K86hPdGKHXj0YNuvV+GahVm2Kl66f5G6pBm4pN64TQuyLay2cUulNc3OjRjZbEW3ZAlKvlg57UvGHOOelGy5qODEm00DVio6AOnSmufyDeuZK2aST1Mb3Jm7NF++joMb/qtbdW/evwkLxt33sXPgzgUjl3w7aGLlLbFLJ6q3OmvYq236/018+qbWyR6LC/c7vnn5rJ4/xs++lnjp1ORdn1WLnOR86OvpRxt37ulHWH8lDTjafAveR5pThWkXGlGpqVdUhQ/aFeFgoD3UGXivRfRaa5XNJFdxIUI04n7R6WcSSxguNxCKe3FY4nkNeaeYSzGG12BsJJo32kIMtphRivChZ2GD+IGm40NIFlYbeEBmiNmTDCH34Y/iOZeijHVtpOWJFFK5o2NfhhemV7uBKJuNQs6Inoz8vbnRcXPZBmdvOdanJ2dyObYlWL79xSdgAEp0o4RLXkgge6qpleidPJ61GHbUkVnedi9WOimiHDY4qKR+zolRWGiyCKOZQ2ZpKp1GSv+EqpeqVjpfkUUKh2WfrWJKWm9rQhrbrl0iuGqmbQZ7ZlHECvennJsui2CrULIIaGyw6nlXr4GqaK1G08b6n6beetascfW1CWGVIpp5bp3jCutqkZ9Sq5Fe6y7bUKOkEvkqRtU9C6u86kaaGaEDx5owtgZnpCNioWqIZZMSXtahnNBdejG79AXoYXPHolexjyRHC2aBlIFsq8gRE6xwx8vmV1Gmh9lJsoUhe8zsxudBnOaaOK+s87A8Q3oor476uy/LDrcM7Wdt3vqvuUVPmPKY7YUssEy5Aob1jtD9XPXSI9c18swZ+lervNi9KyCrbNqUaHILo6sspX3O/VvdDOuQ3SnfJb+tq3lUu53v0IE3GW3hY1uk8dIW0phs4ylDiFmaXNo7muFQK0rmlAqO9fLhb4NeZtdvddsdue1um5PqZbWWubeup+4X5oErPfrrt6etL8K7Q2afvXi2ivtYh27N5YCoQ8VVlEw6uKLorlaJ4PSl+0496fX2fPq32//efdTfcy4U5WCnG76GHfldUEAAACH5BAUKAAEALFQAWABYAFwAAAj/AAMIHEiwYEEBAgQiNMiwocOHECNKNLgwQMWJGDNq3Mixo8ePIEOKzIjwIkSTI1OeLDkRpcqXBCsCAKAw4cCKCGfOhMnzps2dFm3WrKmTZk+eOY0CdZm06NGXSQUuFeqzKNCnI5sajVlSpk6uWEFqpdj151efYSMmNXk1qMuHJt+mXUu1bVeSVOU+xcnS592gDduSLaoXqs2/Nf/KFXxQAGGqex1vBVxwKmO4dc+GjYq2slHOLTNfPupUotfSivsSBFq6Z+uVUq0mPqx6IGvNpCerFQ2g8N/So0cGZ8hWp+++wHWnBE3Z6+zYQxlaVYq7J3O+0N2ajW5weuzhIWc6/w/AGLzD21MRUw7fezt55eYDU09fuzD710xpg13/njv/p951tl9c+tn2WV6QpYWfe2R115568oW1YHYNelZWgg5mJVla/BX2WkfMRbaffPGZhuF/Ajb2EGMXZijWiXLFeCKFftVG40biJQihROaNd92GHuVIln3SKVehZZOFiBF22oXmX2pHnsXXVHhFt2NDTD6H4mkHEtWlRkSOeF51xAGJGnLGzVhmlRB9WCZ6B3IZZopYqlncgup15eZ3RjpE5HGryVYjgWMVWSJmgKrYn3ZzrpjmR1fSSRl9jY4p5JIIlofbnJfeSWagGxGoqV1qBprle3saCCJtXo03XGr5gf9qaZ+YaXnpbYiyqmNmjh6aIl3HxRrUpWJyVVyloj5op43NSSbskJlVWmdxxiJI4G61ShpqbaQSiiC2fn77IlePVeugS6+K69+q5D5a47kJpiumtGs2hqukLDKIap+nsmsvdcUuul9bqfaL6Y34uhsoqdnlW+e2CK+7L7qbuudwvWxWe2qADp5JLX+pOtkYlAamGqB6VJZMK4/zwdcyn0+i2e6ZEWsEp4vJpWxrkpLRLLBHnl77np5S1geki7+tLDKfQudYaJ5He7YzhwPSprNn8o65WYGcLfaptqoCbbSs/pmcJpejFbqt0DR6SqKyfKbds9IHjzx3dMlNNKGFpZq6CK3PebPMMN/CCerlayfD2DfTiwteMcf7Xh3w2/TWiefcOULOtt1Jq6S2dtNpNbjEs3We25mPKTltX382nlHiqUedq8EVen633aRrHbaYxIr0uZaVEqzcsa5zVG6Hus6bfLNUT1yglWN3RnLlYru5Oe/tDU77crcr/7CBP0LffO2d+Tr5+AGPBzH6sBV5/vfsYyw12PDHv/uWJZWoOvuj16i/7OzbXOvkQz3bea998LLfUQqoQI4QKSAAACH5BAUKAAEALFIAVgBcAF4AAAj/AAMIHEiwoMEAAhIKOMiwocOHECNKJKhw4cSLGDNqJAgAwMaPIENy9CiypEmDCSkK6Ngx5cmXIF0KTMgSgEyYOGNanGmRJsmcQCPedOkzqFGEOwvW7Igy6VGYN0fWbPoUaFSkApkG0MqzK9aqOqluJcn1K1GnYEPeXMrSa9GvadUmZav1bF20cR1ezdp2YFmvBlvizauS4VS/PwfuHbvYqEu6iQP3hfgXqWCwj+k6PEw5smWbg59mPpzZrcWynAv6bJxzdN/SZk8nTq3yMmHFSV0b7pv66lvCQ2VX5qu1N9rfaYPrPlh2sW+FcZUL98y38MHnrMPCvQ597F2dwXGe/9XbnXRood0BV61YfWx7ydnde5+cvDzZ+7vjF18qOj3ui+YNJ997R7Gn2nmS3SUgatQdVdl+YnV22IMN4kQhgeptxt+AiInX02AGIseQfhuqJ+BF43FnV4X/PcSWdRhq5NOCnsVHXoIkSacTbR0eqJ1UOebmH4pzBUkcfSOZ1t5VgukYW0ZrGTkfjUrKxyRoTqaYUWqQxdiZhqx9t51EXGrGIZks2rZblVvORl+IRaqJmJgwzpmYjQ0x2Fx3Ucp5ZIZjzldnmxCqOFhlb3XpopQGAshbg40qVeNK9724qGl4SpYkdxBV5BqPEXJ44qU9hjqip0eC6mOpZ06kaHh5uv+pKadVvSqkhpvmuipY+/mJUZmzRslXpqTWRCyOui5Z5LAIumpme7ZZ2iuSduJobLMSlihftBtOSyOFbB3LnZ532gfZtLD+yVyloEFJKZAqfWrmtXWqii62EdnbrqANwelouPhmm9905GmZL13iAirglfEKueegPY7aKVoLU1xucA+3OKvED4nIL52x7lYomhyfCi5+gc6KbKsaljzRjA0i6t+VVOKWrlz6NnWzuiojtfPLQ9r84XOWAmqaqiJF2jBPRGvr3IdIn2TwxKmyqB7MbJY0dcfTcYzxax8mTWnGJk5qnXRPb+2ucfWa3SLaIPIZMNdREynYhauq/RHWWlPN6rHMWb+kdL9BQ5zsdj9vNPiprIXp9tVzS+T4cyJLaV3Ru8oF5nGHgi0W5oZ/9O2+Bsvr7bmBhzR6irAqeu6Gent4OdgZK3qjxkG1Tnu5VXt9a06AR0yt0bHBvDhMwUM7fMrFj41l5Miz2/vzDDaFua9GTTt9RdUfeP2+2Vs+33J8Awoz2UGBTC+/5Qd6Pu+38fyZVy4bDz1QxolZv/MJOyi+Sf0LH/F+FL/tTIhasSvg7dTFowQqUGzES94D3RXBx00wcxC84AL7BpGAAAAh+QQFCgABACxSAFQAXgBiAAAI/wADCBxIsKDBAAIEHFzIsKHDhxAjLkwosaLFixgLUhy4MaPHjx47IlQIsqRJiCIFpjzJ8uTKlS1jStyYkCZJlTdl6nxo0yZBmDuD4hQIoCiAnzUNAhXacqPRoxyTaszJNGbCp0qpDnxaU2rVkleNZl3ItavWrx6xohSglqjRpWghtnUYtijBsnEt+sRot2BfuHmRDuUL9S5UwEy7FhX5kiRjknMnnk1cc3HOxoMHRz6IuGpPyG8da20Mt7POz24tZ46atfRkmSL7Cg6gWi6Ax7Pzxi7Mmvbt135/5x4ZmKFiqJuH41xZ2/TO46l5j53KXDjxuF1XR5fdOztn0Jadhv9+LrX6ZtTfo3vHG/QvW7G+2Wetrd1hcpbu1T6lP5W/8/jSsVTXYe/dJ55kkmF2XVMFErhfgJpBuCB1o4lGHndk/QaUdwZZxt1/YL33UHiTcRhcWMoFZZZXFLrV2mUwFveiiUgd2GJv9ekGHILG7YjjQRhOmBGIQk4VEVxBEskTi4PRGJWCG1YGn3o+HsnkdU4uV2GOIw1oGH8nBcnlcAq6GFxfDyrJkJhFTlffbh3Cl2aV36HY42xoEphimUDuN6SUDeHmm5mC7gncgyECheiTLJoYlp3+aXVfRVkC+KFZNcLoIXLW1TepRWwuKl6UPF46HJsXherndWD+iCdvhQ7/2h6nny5aKqwxGqlTnrWueiuZW+5Kq4SBNmqhb6R+xSuxPQo6aol0krficdVV2upeOk4rZbVXugVltBipyaOV02FrkrjpzRSsuRW1umRGapmLbkPu0gXul3pOOO+drq7Zab8PoqrXvfrSea2kAbtEcHUp4lSvjY4S/GecDY/0MGhaVuwZpr0lCaN3iLGLpcR1GmsmsCD7KLLIqeZbKcM/RjybeAK33GS3RZrKKLAR1qzuXNzlmSm9DnLabr4XebkVb0Lv7K/DRkvk3sR91gY0s8/SHKDSPr9btXVXF+utVOc1eLKAOU0t659a2xgws1QTinFIZI8n69sKe8qszm6m3LtovCTfTPHT/Y7J6qqA5w3giFOOnCDHXtdL7uL2Nc5yl5DbO7aOGSK26aMf19012p37+Pl7j63X+MZnu3d534OPrnjQBL6ua4ZnC7Wb69uCi2TClOGrJeiUHgo8Wuj6rGruwacF99rBMb+xaUpn+KmMmFvZ6/XYV777v16P2/3mS0uervisryV9zMdmHBj1c4svL87px9q0+7C3iV37E96f/fmFk1FzJmOgXBmuOAO0noRitS+FlYVE4Qvg+JDyQA2pLFgT1Jz+QgatDJargxrMnwdPE7gR0i0iAQEAIfkEBQoAAQAsUABWAGAAYAAACP8AAwgcSLBgQQECAChcqBChwYcQI0qcSLEiRIQMGTq0yLGjR48INzIUqFHAx5MoU4Y0GWBky4UbU8qceZElwYwASC6kybNngJgDcepU6LPoSYw5H+Ik+hCo0acDkUJcmtSgU6hPG4ZkOrVq0J0/bWL1qVVqRK5fmV4dOxPo2qhib3oV+JZtR7dxD+bVaXWv3b4yr9b9+pfiYMN5D78sHNGsXJdImZZNOJdwWL6M9aIdCjZy0smbLYuszNizQaGWXZYc7VIuXb9FTRdEjVk1zJCcQ6uFDXXya4J4gaJ1vDgt6cK+L8MFjtvya7TQwWZWvjK0RNYAsAMWzbvnxurHa3L/1q7XtXK2V0sifpx9q3TlrZ0bTX97vXHww1nGx/yUPsXk1jWV127fdXfUgOF9tRJ/E/kXVoF/KfbRbsxx9tt055GVFF4WZvhXfuIZl1tGBSZ34YJjgSggeyOqF5aJ1DWXVUYXspghVcwNBqFdqNFHoXHxoRiihDPRBheO8L2XI2VaLUlckzwZ+dxSF+4Hl2fBuScXkf99liCS7FlpG4M1xiiTZF9SOZuaNqK53YkGSqRihcW9hh2atkWnm1dcnsVnYvr9eaeXeXol5p+BMZlgbRvKKOJL0THqZJwVySanl3YiiKehmNb5oKMYHsmpnpUpFlqf/VFmY4d0XvrmfGIR/7ddflbq5CCDqDYYq6qNBcpcrS/d6mmuHUF53a7mndZZoFIuZ5SxvbbqqY2DBkisroIxq2SGg5a5ql1COtssh5Au21WAqW6pLWQsvcWum6Kym66C65rr4aNm0UrjvR8uey2KQSoKLFvs/ttcwGCq5Jdi2YbYJZyjJepwtOWtWNGPAC9KMZkvIupsstxqy/G8HBNHLsjkjoncvspCO+u+4X4rbcwcNTseb91+eu5xWaIkHMvTfgwkpxALvK20d4llpLWavoexezYL/VHGSM6pFFhWRlzcSpYeWC3WHu/Mqridcq2oz+02l/GO5v089ls0I11p2gWOxjZ35gVck46Utv8c9sZB+9iet0Hb2vfVVk98atN3jxzs4V05vnifOJ3c67V5Hzf54ZUjiy3kfi7e1497Knvzq3JPuG22pFdWerkNW0wTgbwq7rTmMKctucYPf4rujbfv/PTu3rnn7t/R9Ynf0TyBd7y0yR++/O/onR167r1PXJr1wtvrKuCh/p41Zaw3umSoIPs9+uCamX8l6DOiafbMtQsYPfqPTma5rO2ri/+ULrta6sxUsQGmykXfIxycUMcvHvEOeIhBYLnwRz2hVRBLSmNev36UvvelbF9R26D7OpipDxaqglgxGdR4JjIIlguFY1Fh1+gkr9QA7X/XK9PP9AVDHFLLc2/jng8vi5U7AHXqdEO8WBHbozVSYQ4qsbPczlD0RJI5S4qIY6LuktiXKhaQi5eDH/geEhAAIfkEBQoAAQAsTgBUAGQAZAAACP8AAwgcSLCgwYIAABxcyLChw4cQI0ZMKLGixYsYCwrYKIAiw40ZQ4rEyLGjwo8CRqpc2TChx4UgWcqcKdDlSZgpaerMGNPmw5g7g0Ls6fJnTqFIJQJVejSpU4JLI0Z96rQkTqg5p1INavXg0phat4oMa3Aq2QAvxZJs2tAsW4Q31V4NANbkxbAev76VW1fgxrRS96I9qVcu1raCz+oN+xdAV6qKEwv22/SxRpOW+U6mW7KzZ8o+L9d0zNGwaJSeU2c1CZjz6MymB6ctPLD13aa2t4amfLh2XJ64fydtPDo37dy8BxKNrdyubOHJkyN33Xw0c9A2454laHNp3tLPEVf/ZV20OsTuwSkTnb5d5m7qE8snPDv9PdL37bnLJ90Suu/pM+V3mYDL/Sdcdi4JeNttBOaUln3PoSeWhIMVKGBrD+4332Y6UbihdfA5hGFcoVE4oX/6GVWcduAhCBtVAA6mYnjNrZcgeEG19lmIKTLkUWjEGagjhxgN2RVeKMpIY5ArDqkTbYF9N9eM2OkXY2C9RUmYZFg2l+GVDkVW1lsQqgRbYx+uJd5pViYJnFsmhlRXezZGhxqRTfLHo5yr0elgeX5emF1fsWVIVIN2enejgjsZ+ieiISq6IaNdQnlQbsZ1NttbU6Vp5mpZXupfpiVtOqZBnqrlFk7tgcmkYat6/4Wjj256WetY5MVqJ4S6cpZqqE/mymllwTnJpq96nppUmXu2OeWxhCrbYXnSiprps9EeiytWcVIq64qRZfsptzcCq+Zz4YK6U10xmiqquZP+qay3a766kLuosphvV8bSi5KUzS6pLojVBvldgQE6J66BySmKrXMHyzvSwv3la2ePzF7MGZrJWkQxrRYH/CO13w4orEpg3ptdRtfS+BqeIt5Ka8Yxz/Xer0UCOqvKKc+cJK8w9xfxQzTHVx/JGl+E4JiNIbxnZPgN66/QSG+MmcQaQ02yW1PfuWKVVgO5s3kq99Z1YHUiqx55az8bcsNBy7RwmmJXJGnHZa87sG9pM/96d6syx+c2yCglrXbABK/UMtFJfhwkfYF7zPbExB5KJoJ4C8XxuDU+ermLcbPU79j1rrbhyHHCKNyccRPaNMSDhr6SmKfBWa7JtkO2Way247wjudch7ptTPQfLOPGRIxWruy+GiKmeZ5/bG/OkOz8q9LKLTiJpOx6ZfaTfa6+fam0Lv6bhpiE5F7/6Vgjex7rnPW+L7ccLd/CJ34/sl5njf97q6tqcgaKnurRhhV1VK9516FY170FIgf7rEWKKpq0Ivu1fVTufBQ/3sguKzTKWCt6rcMa/tVmKgI1aGbIsZ8Kr5c98hVLh6zpotRkqyVwWpJmfmBY+3WSQbIUz2QYKg8gSFGomYREJCAAh+QQFCgABACxOAFQAZABkAAAI/wADCBxIsOBAAQIMGkSosKHDhxAjSpzIEGLFiRgzatxIUQAAABxDihzZ8SPJkygbXjyYUOHHjytTyuQYM0BNgS8B3JzJ8+FKhAhNKgwK0ibQnkgd/gQqdKHHokBbJp2KkmjOplSzbrR6VWvSlVdfCoz6MOdYqV5Hgg0L9ahDs0bTdlzaUChWnGLjWkQrtyBZlnWL3g0AdydBw30JFw1pV3DbiH8TDxycsTHes5DdSras+HBLuATZLnY5Gi9Mvlk5Y60IejLbsqUVn05LdKJo0T5Rm85L+6nt22FzB24tGTFwlbo1Iv6afHfwoc0xLq/asmbtvZhdX/br1nr0kxW9U//mnn374L/ee3ueHllxzcLV0dLNupS9Zveo4ZfXu7/nfM9OhSffdwVhtVp8/g3oVIAIAoaRgaMJqFV6MrXXnmQAklfhfRdiKGCHwkkk4V4jJngWiEoRmJ19JU5l34IkTacedhqqpaJccI0HY4YjRmWhjxkmlWNsyMHYo4/1cXgjY491ViCR9DUoo0ZCsRabji5KuSRpBmGJZEZfQpTTkSkN5iWQ0qEJ22x6TZkbhOOhGCR3xPHnZIhb+eZanPcVCV2da2UG3me82Qnjadd12ZVe57lVZ0hWHhgionoqqt+dLEUK5UlV3pgkj0+NyVRbHWI5UqcdraegUWFF1Wmpm8b/GF+irBbaKHxI/pcpam7S6GqEoY52a165KsngjjKhyuhLv67JbIOP1mgoSspq2uxbV40Y7Zy9ztXgboGKSSxaytZpqkjokftsaLHutl+5hW43KKiB9YetuymyO+S5gjq4k7IRNXamvnltS2W8T5qnk6PrGhWuvdkZzCSWqi1s7azqzpmhxGnK67Cn8cEHsLSqXgopoaqmWmunI2u8q8kbMkirmbFdi+eybM7knc2Yenxipfk6KOq8H8tZ607vWfwUz7TerHKxby7sJ7u/Mg200x0/OfKPuh67a9ckZ03wflyvilySYLvM6aI+79mug57hRuNMz7WNb79xvza3cgMi/x3sWnA22bRswDKX8p8N3034ilcvDneW9o3XWmMUXtdey+j2ifhwwjpWuZ6XN6kzwyFq69illmupaIJWlg7t6eOeVe232iH1L9sPxv4x3tOmdDvHlgquObLdiojxu7bWTKjBiBUP5vF2Tq68c7E2v+XJzv7cduQIP2x7dLiiHLZTgGaMIbvEh/y23W0Oj+P0/jZeL3Tany8RzXKvHj/W5+Ovt/6M4x+G6uY4UVmPYK26HlIIuC+l3Qw4zvtemCCEvmXlTWDrkwvUMEVBC7KkgfY72IGK96kQ3q9QRpva7kyoP66obVcvZOH8XPg4r0FMhmejHdmS85ec4RA6LdphDj/xEsG+BBFbBBzbD/00pfxpLYMzEqCmPCaaIvLkRfQrYOcSuEQp9o10buui8VQ4wS1C0YT84tsNxZjG590wIAAAIfkEBQoAAQAsTABUAGgAZgAACP8AAwgcSLDgQAECBCI0qDBhgIUMI0qcSLGiRYsQIRrM6PCix48gQxoEAEDjQJIETYpcybIlSZUBUB7s2LKmTZsIc9K8ybPnR50wfQoVSbIogIYTdQ5dStTo0Yc7CyplSvWizJQOgdLUirWq15hPu0Kd2pAs1K8tg4K8ivar2o9s2zI1OdUoUop1wzK0Kzfp1pwC+b6dCTFuQb59I8KEKRPhSwGPJ0beW/Ru4rNSozaGXJLz4MkjK2Puy5HrTJtGp9KN2rY0ULEui6r+e7miY72DN2Z1uLks4Nq2OcPGuDvwU9e5gY+Nuvg34855h4OubdYy4eKHof9ma3L6V8GsoW7/Njybo1PRBFOHHwpesXDxen3Lh38+tHeqiMHmv7s/8+PC8Y2mX4BM5VdfZsYZhtV/vAXYHXqJHTjZbQemR+B11jXU33dOGWfeeQEqiKGAGkI4F2cSykYTX+RpJlpyFlZFYYcDPihTi/Ydtx5lbq0I4oMWiphjjP7RKKOP5wF5kokSGeggikweaZxYHBE5HIAJqliikFRheRpmSl7ZYJYTQgmcWbdJFiWCAyaZE4hGdvlbiWpyyR+c2uG55kppLlndiBauBp5pvWWXJU99ejhnZs8J+qJWY5II1qE1rbagdmRe6N6GI37IYmd80jYTg5n+ZKZEs20p2n1DeRrnlAyp/yXrjsOdqGp/Is7q3kUw4hWepcspSqluz7EF566V/ipqXgDmuuiwba7ZK68u2glWs3mC+qWTx345ra9DUjSZercByy2IVNIKko24vWfuhTO6CWuQq+4pEruXWuelbnruu+Sn1oZKr25YASudlhYZq61P+LI5X4YCqmeVXqzeu9un1Ab8b4g6EosdThfXm7GmlBlWaMEfC1Wht6fO2qvGf/K08l0zQvywuCSjDHJ0k2bXMMSbYZtpxYi+1rPJCw9Ya8953fijukUPTWO5zO3oNLT0/nwTtt1STXCTTzktosQbyxw2k4Majdx2Hfd8K4QPfhsa1kovl6rdbN956cpxQ/8Ndrc0u2iazYYG6zagda+kZ7qhDS7p3Ia3qLXiOW+LcI5qcQrX5U1Rm2XmnA9cE9kh9VllrG/CW7WrzSVH+rrupoyysx6r2rq6r1N+YKKGz3d3cB/6ZvDo6MKnc6fO+T1b0IvKjfPMbJb3Xp1ti7602dCn65q17WWHo1ecxrzkxLCyy7zzmzv7WeWwnhyt8H6XfurXfrn+NKGvLlUz6sDjfr/R2VvK4lDHPDolrF0GvF5PBsgvHQXvgOn63onSBrS2eQlNu3GUxopGQUkV6oLNy+BfNOcV0D2HcLxjnPcQ+Lithec+7ssX/zwIN9nJhXfDq1/qeCbBFk6QhYTzGNWivNRD9OkPgEkzFQmV4ytmxa9IG2TiAe/jL5BJ8W9JxEwUg3NFlM1qd8+yHLK6iLdNTS2MepshGY+3Nxbuj34+7OKf3gim+TksjkykY9Ya1KeVbVE5etwYgPoYpz/2KCIB5CKq0AjIF+bPc4s04mXixbHa9a5wa1wk9CQnQkSyjzpVUyAkM+kXOEoSj6QUGKOMlsBUJkuIITSkK604y0ZeJCAAACH5BAUKAAEALEwAUgBqAGgAAAj/AAMIHEiw4EABCAUYJJhQ4cKHECNKnEix4sGEERta3Mixo8eCAAAIRPgwZEiSH1OqVBlypEODJgGgXEmzZsaXFGPa3Mnz4kadPYN+RNgywEyjOAXGLCq0qUWiIpEyTBpgaVSnWCWedAi1qMaqVq9mHUtwq0ugX8OKJUv2a1mxQNV+PcrWptuBTMEWlYtRal2VDaGiHNxXqcm/bAMLMOv3LlDEO7uGdfmWLsjDSC0/1FxXslXKeGVSfeu1sETOf+MudXlUMNfXqBe2Hk1WNVrTrkHfnTgbsmG1b1nTnmrZ9lrfpCeHFs7b9O+oj5H7vFza8GbFDqvrVRs1NtbimFHm/yUe2Lpf7uGHt+37OXRe8avBwkz/XDHosWnjP5/6fO/x2/WV59dY4z212H/6yafgfAZ511OBFUE1X3T+lXScgzztVhBnsRXYHoYDOqUhf7Kp52F8IIIImHrX3ZdSdIrlBWFkLJbo4kcwBibjccj1dhptRwE4HXPSuegghzgJaaRzPR0J5IEtbvgkYRZ+VyOSM1qGJJULzdhUTB12V2N7G6koFJgmijkRmQYWKVmDTK4JHYpURdfjgQWOqNWcSrrH43oT0iflVF76SSKbN9lVJ51wEvpncocmmOhKhe6Xk5ohmtmnmXLKWelyjeGkqaA3piThdOAt6aij771GonCMof85FJSoLqrqRa3meCusogW4onku2pmZqxcFadJcxDYHrKnZiWVsnn3N9qxoXKbYbFA5SmsrRG+CNdunwT2IGZHkgnqdat8+2qW6swp7Lp8InoXprtxGW2OEeLKLK7wMIqUdvddxqWhH6CFZUauvingvdWEZfGnCnHKkpXrwhUsedqLa6+mxC0+acKMLhiwcxuSVGihjNMm6bpQlhxgRtD6qnDLHVdoopcB7whkzzcxaFfHHItts8nQI97zUz0OaWy/QkTLtkcw5h2zc0E6TiDNLPHcqNWZ9srx0qIo62R/X6M07aNL9Wsys2NsZB5zLSYeZdpMHgtjebT5aGqnKeq7/iPKeUw+bsLDw8R0ns3DiTauQRe897mW6ddymlIr7p13jREsK6tWIh0zYh9duN3bTClL4OLK/ev4a6Oa57WzolsN1usYememZ7BX6Ca3eDKMrOcj4sqlacruLvu7dvXbWbOzuZrrovyFCndjy8Daft6HOJ4d0R9MiD7xFPtMmvcLEx1f8T0eLn7W4cxf6NvrhB7p91Gq7rxz86cv/u4HX2587xjubEeYyhJskqWt4w7JP5gT4Oqz8LWDEYl3Qxla062EreTfhkgQZyCaczS94DfyapcBVOlJhz0oDPNsI9dU6E/KuSKXKXalu98IFau4vqVJd4sz3OMc1r0gS5IzpryKns9DBUHeYEuLjtDOxih3xeBikXBSHiLYTPtFXJfobFYf2Q+l0kHaQ8tbhtLc/ByYIdQwzTN/89EGnBDFjKZQX1a6IRCLuy2mnaiMBHaUnJ8ZmYnSMW90O50eKUUWPZ3pd/5KnRDWOkY6tWiTnWrjGI3bLay8jW5bKmJVLCg1w/PpkIKuVsXAVjocPDOTZPGhA0LxtfKqcnNVWV7ZYpm6W8kKPLRGjwF1CppccCQgAIfkEBQoAAQAsSgBQAGwAbAAACP8AAwgcSLBgQQECDBpEqLChw4cQI0qc2JAhRIsUM2rcyHEgRocfP3YcSZKjSIUhE5ZcyVIiQgAABMKM+DJmy5s4BdaUafPhzpxAW8KcGYAowZNBk5YcatOoR5VKo4606JToT6lYNVLtWdTm1axgJyLtqhMqSIRmwyodazUtSrRqW6KFS7bkVqdxp85Vidck36F5O8K82xSwwr4LzTIdG/gwAMI8Edf1qXgo48aTHffd/NjtYreYIUqOzJWnwcGeLYMOfZYyaaZlTQ+EfXA16dCXCdPeSpD2UdtdR0u1OPYj07YNfb/9TRS1WuKrjR+Prbl0beaFLydVTnPvRu2zDYP/x8n9onetwHuLT5+zJvLlT2XvVXmZ83HrUd17jW6Wd4D51CVn3X3CYTWXcwUVCN9JbBWmYFIHdnYafuYFGJ9jt2X1VWICKgjdROWBteF11XVn4UMhhvVZRX/dxyB7HR73YVYrwkeghCRudOOMYAmnn3yrKVdjWSnm5aMAtL03YVWqYfegihRmyGFtkm3ln2y/9RhlcBS+WOVfV2Z24lr0gfnXd+zNJSBuZfIUplhp0jVhY9JlyeWTZRUXp4k31XnhfRmpCZ9rFbKU0phYitnVjDyGx6edcvXXJoaOJogjo6k9euFKM6LWqJ1OWYlkk5tWit2YeC5o5qd/ciXqkP9l/0rlfnP2KauCbX255HQkMilopLXiup+ulgLaK1eewlhonmiVp5+xgioZnnK/xkqkq8qy+FuEfT3La7S0FmsYs3Z+NZ5LcsZanrN0/WjtuyuFmu1ZKa077lPQ7TZpvNgCBR2Ag9YGHrhupquegWUCPGViA9PVXGcN5pUbf9Q9bG/FFEqbH3B6YvzagOFKpnFQX7Z1qLg7ugWZpefyy6LJku6a8pT2tuwXnMKqJySOFuo7ps2EdpfztPci2PN6P8+r7bsTIyrwqLVSd5K+onI6adPw0gu1peWmBnPBJJ3csWPgdbsXrIkufPOFY09YtnXzoa0opHptK+nJgY4qr5904/9t192A043zvdWa3bfS6Pq9dEbGdu101Iam27COvDqeNYpb5g25vGBTCjmrlFmcObqb97tokBmbbvNPRaKb6uoGq7sf1jGmmtjr81Z7LbmtOdT4Ujyvfarvpku9r1RGC/+UcJyzffzGi5eKOcYpTZ416MoLfjnx1AdeqNiIA0sRq9bnGy7Qtmq+ffllvoc+nHbrLnv0871fqv2a1q/y1mrrH3bMw+EP+m7EpNttKXkQEiDiCIgsuPGPbOHTy85+tyYuaU8//4qg1SZYOe5ZUHqyQ5D8EGa8RB3pcBFB4PKC56+rnclUAVMcBF/GQtbgb3v0S1izRiciDeIwhjoc0XO9vKczwsVuabaLS/W8ZsRzvYk16oOces5FLChG72AzlEgVrQi/O5GKYZUp4buSKLEWyUiBWMRU2gIDPozJzW9f42KOmDYpF+2PbnGU4w9BxEPP4cuHOLkhGRU1QjYeb2e8i98DvaVCNh2tgLF6UYScdEY9qo1J7xkZGLWnR7590D8NkyEUX/QxTIbripZUmxs76LPepbI7E1tZstr4ShbF0owFqxb2atkRXe6vkbz8nwxrcsNgoqmYxhRmBAMCACH5BAUKAAEALEoAUABqAG4AAAj/AAMIHEiwoMEAAgQcXMiwocOHECNKLJhwosWLGDMurBgAAACBHA169KixpMmLHEkiVHhw5MeTMGNGTJhQJUGbK2Xq3AmSJk6BOEPyHDqRJkuCQjkKJcpUolGDSVkubUr14c+OL6c21Fp16FWVXDce7RrTaMqRPXuGzXlwLdmZZoGiZfuUIVe3bzPeFeCxrsisY/HmLToWKV8AfguCDVx4MEqaN18annoWamPHj4VeTZwWq2XMGDlTZDy1L8vFkw8LfivacOq/ldmqVX2ZdWOlteV2XuvS9UrcjilLze2ZLvHeA3EDf3s1clDIxbeajep7edXmA5HP1u1wOvXkwzs3/1UOvSdqrDhdfpVs0fpQ8lHPa0c/N7Le8FQXLxbO3flclaY9RpZ+gPEXXXbqcRdge8TpNF1/B4plWl3qIdagXeW9F9eB2Bk2IXQVrmaZiBgtuNth2O1VU4KjwXWdhdWhyJ5vI8q42YXidcXbjOBFdJ57Mea1o1g+AnYikbLZtpdlNwbZYpLkdbhTa0max+N3BmLpE49VfZfjfNIttN9hR1bJlJdJgomhmAWSaVyOZAGpGIzgufQdciuSGCd+bMY30p1z5YkjVQ9iSKV/pdVnkp7dbSjWoQiaGCmXoQ3KppqzLbeihy9VaBWdcPYYYYks1qipm1bKhemcaPomZZHplf+KII3GJYonYyUxqip7ns5JK3l/3UqrgKTuOuavjI0ZG6yy/lUSgCwmhuamv4FI6aXN+mpShXaSRhuT2f6IK32fpXktRNz+6a2kVqoprquKlglhRqtCaCC0iNam60r1ohuvtqHGFiu7oj7W70QDZ0triNBRGKijZsJmKUMJ96uZenU5rOy4DRFMb6cPO2tcr0RJ+qpF0J5n38gKy2TyuRc1SbG61D77b5hY7bvysHN+ePKnP4vqMUTLrgnwqEiyCTRgBxt9cqI7N9oxzOTye3OjFVP9UNFKT3qvokNLyGvLhM3b0tgEnxUro8gxHGrA43JFclsZ4huxQ21jzOeTyL7/TZ+UidnN6Irp+tc0zoYb6W+5hKWbddBJT6oy3ldODO96dk8eear0QV1wtZA/6e5/IPvNM7XdipyjUaHzzJOBiXu+dYYuEnpbY24fLZ3Ooq7lMONnq105d3LWrJGcr426o/Dlvjta63eHCr3pkwarN9zEbo400ReOnjvsDPqd8vB8mzv+xcYyfX2l4oMsc9/Vdz7W+ASmztT5E9tPPO3xc6q/V+4Dlb9etp2z3Sh3J/HT3HwnI+stqXfzU1dZksUt19XpX/+D38XCppFY7UpeRoPUiQr1HJ54sGrIe5IIa7WhEgJwdqqDoOycVsHobYtqMxwh7nB4mhry7nX821GK82pzQtA86nZTG2LXzAbE1AAKfeARHl6wI6wpeeuJEUxeBs+GLeoRJUoSrBa4giaz6ckEjAsSDeG0prweGhFDhzMazhz2wzM28HgXAlbOLHcmN+pOan/jEf3Y2CU/Rg2GgRTZ3N5YpJhFK4IIZOSnHFnF9HFwPHfMjLWONbMt7imOpuohJ7F1yfw8kmfzWeTiJJlIKO0wa45k5ayKM0X1aW6WrTKi4LpnS8WJLJdvXCDHnudLq71Plq1cnb7cpEDyITN+rBNgEh8GSlbeSlDMqh8hkYmXWlbzmRYMp+S2Cc5FEfFq5WyiAcmZzi/ysZ3qnEhAAAAh+QQFCgABACxIAE4AbgBwAAAI/wADCBxIsKDBAAIEHFzIsKHDhxAjSmSYcKLFixgzRkxYMQAAAB0JJvwYUqPJkxg5KvQIcqVIASRdopxJc+LHjwZjvqzJs2fOmz9LlvRJVCPOgUcXDi3KNGNSlg2XNp3qUKhMgVIRcqTKlaLMpVlVdh2rVexAsx1vAsD6dWVWsihVWu2YFqjWnXfh8hypdm3ehX39Ngz8Vm9VmH3ZDk7skPBVwzYDC9Z6tPJNulsPqoXsVPJLywLVYs66mfNFy09/lj492XRE1K0LBu7s2utnu6/7Ys6d2rXV1RAdKw6O2/djtsCHD09+sG5oyaKPMw2LuLfV570NOmcJXSfXktbdZv9+KTez2dJLSwufCj726Mfl0WZG/1i9bulNmS+3q7K39+fatYUcY2Tplxd9fAUlU3h48WWgT+0RBBx95MlFk4OxFRUhUsVReFZ8F1aX4VSzcSgfWCtFp9R4xGXHVInPnQhfipdJZxZvI0IoYoM0/gRYcQEaWNd/0+344X4+agZkQRiuiF1LXTXJpIUfhuchgBwOh+GDRElZ4W/uGbkhlphBB5mKf5XFYlQ0gsbhUUMWVxhPaM61pm3c+fWUhzCmSRWacM74UJxEMrdnji/WSKaghz1Z6JKHnjnZhJMlOCWbeDmpZqaJSthhpYgFiOmReN7o50ywwTZgnTaKR92cH8L/SlueqlJ2n3KXbtrcnSvKqhFp/IlIJKcDooirqLIhmhGwga6H7G3GnkosVCe5eCyp0RG6JK7ULUYnot3meZ5nu057rad78SptsjGlRyCpE42Zl68BhrtYu/W9e26jWZJKr5KaIpnrU9fZGqilDxGMn0UuFswgtdyKh2CoxJnb027rPtnrfJAGGx+VUYq3r8a7juufxx+rW9Sw61556sSO6jmiuz6xzKxfBXt6cJt2NZwvVf2FieWgKeP6MJv/XhQ0stZO+bHRQh+W9K4K4+Xm0LnmNjK2kyoLEcJpbhdpuRIFSjTWTZ+tpKlYw1qwqe9ZXOGy0uGb5NYRs/U2i26r/9wYuIwu+qPctu6bdrWAP0stsIRbyniRhcUkedTTEhmt3sJCmSbLREfe0uSKX2t54Gqu197Ujc/o849mUx1s262aVBiKqyvZepCvQ7wu6iYK2GnWBstcee6d5UzU0cHDrhrOC7PpspY9Aj8txppi3PrhzhPvb/QWRzu7yAcyj7XSFB/qInDujk63zsxj79XVebIO6vLGx7tgsO7fK/PSsYLIkGX2IhvU4mQS+/APc+XxFksCqLjT8Ux2YgLf97YGv9tgroH3452UMDbBjFHLZzvDoKd41726tYRt0tuc+OYFsu3h7WuxW1sLQ6dC6CGQUdSDS5wCmK1W1ep28NIhz/94WCPq/HCFhCPfRjI3KnR5sDuI4tyvmlclfaUQiMvrk4I01KrtZE+LhUsWyXDXlFdx733ksqAY4+c6vYCRhrVKYgpjREWavPGKMkOe2rbYJVdlzkxBZN/dtkfCmrwHiugz4cmQhcLaWI1cOYQb+JrYrxdyMWatsxOP9lhJD5KlkYEkJI00yS7N5Q9yCwvXuEjJPi86EmwVOhyaOAlKvcCyf7JUFAzn5kgn1suEGyPjHB3ps8f9Uphy7MrJYOOwFXaQkm6MjX3Ut7hJChBPvRyQDXEZtQT2r5bZdJw1DyhKO4Ezm/0C0zZzCLVT1gaI4lwn6bhkmmUi0YUlm1EhlSk9Te1t85hOqyM6q2i+mZHulgM9DKVqxymEJhRgofRlJ/n40L8RbpH/01xF02XJjZbRmh6tqDtDujKvLSQgAAAh+QQFCgABACxKAE4AbABwAAAI/wADCBxIsGAAAQIIIjTIsKHDhxAjSpz4cOFAixQzatzIESJCACABEATZsaTJkxUFhBQ5kCTKlzBRusRYkKbLmDhzzkzI0CbLnEBL0hQIEiFNiyuL8gzKVOLQAEqP8kwK4GnTqwenUv1ZUytVhUuxMkW6tSHZrxfDisXp0+XKjTfXjg37FmpIuFzlAo1q1GBcs33t/m2ZV29Gvk8HGzTqtTBRx4adqvU4+fHjwVYjZ8wMuKHbu101d+Qc2m5nwVUnKxadciLZ0ysTQ2a9uLJD0hZfZ/2Y2vNsvaRrt85qebfK3gxXy42bOzDjkUkFZta9MXhM5jyfG4ded7rW0bZx7v9sDl16Y7SXufKuG9E6zPHZ6bI8W5YwdvSUlyMHS70g++QhNSfVY+TppVRt/XH3W2zxDWhXgbQRlxZ/jaUnnITmeRchWBymRZ+FpUml4YbvgRZRd7a5RyJE/z2E4mkr2jffZIxBiKGEO5ln3mDKrfViV9o5qKNpEjbH428oPdWWif4VpuRxT7oW3ktRyrgaZjRCmaWUYmnn21ZMDgmdg0fC2JSXAIKJpV/74VjYairCZCN9n8lWHGA1hpXnmFMmGV+HaB3Y5J095alnjXzOdWGHjDHoImQ+TbQmlVuGaJSjDsEpn6RO9slRnIN6+CdqOcqI53lICuWpbxQOidaSp6b/1yNbqiHHW209HlnXlUyCWl2tRnaa65vREckmduBdyGuwpZ5YLIiEtrdqaYBCJuh6M3L637apdijncT+CRVWBAqYYmLQf5oRts2mNO2q5sUqWbrJd7RrmjWKGyldxvO2JGpv5bpalvZN6q29quvWL6L+h+ioRtwVPaKW12bqppnrT4hVXi/jeiF95RaKKn8Nc6lSfrJ2CPG/HJpHM4smkpkyYq71mTFG6Vdr42c4YZ3huuz0HhXOlOrNEcND+ihv0VSiK+POOqcJHYKWtsnxS04eiCbWzPk+9qKgBU8TrpLe+THOgRt/btcQmjS1z2Y+eXSzP8YY9V6QMH6a2qUCO/wry3ZvmLfbe0ILd8ayZdnujdnQT5rK7dr+EeL6Mp71xm3pj6nJKmFIeX6las+0mo4GvnJ6K2AoZMuhPi95f0XIfi3l+okdruKAU7iu4mZyCqrrta+Muqu4cf937tJuPLniVdfot8X9zIm+zspYv/XzaNsYu8e+S8b6741o5/XHD4CpOr/Hfe/1g1uUPC/Xkn7au69zPbnfboUrv1LnVUtrZJNrQa53BpIKi/SVvarLBDqy6Rxls0QxEydOdgqpWuOGkxIHKC5eqkGWs0hSPYcJ71AchNjtpcVBTFeRbCBM3QibtryMRgxcLKwbBhfnMf6ebHoC+JsMv0ZBhSTMODv9Rc8CZma1QAOtgCp0VusjhhWtIPJjs8NJE/kkOOWSzGfeexEUBXgeLb9Mi/qhlOAoVcYohywyDskdGJ7pOh5mrWBXX6Dz0WYd7ewGNij4YPRGG0WAlYpcfT4NHvpEOkJTKEwflhp8A5q9+Z7yZoRZpMZg5Emgjg2NkiKfHwLyqQeVDX4z4NDQ6yfFS94okawxYKUECLUGjlN0Wv2M1hQFPNLIpZR1jBssJbiiXFbJfAgNESx/GUnVgClvjsLa1USKzPv472trgNsoy/Y9iFyscGyNkTV/KLpnL22Usb1nD8Y1vnEc0ZlbMWT90cmqQ6yxWulbozlCpc10Vs5cqmyIvwfvBE5H1JKWnSMOxfRqGmtSMXA8DakKMRYx0BnVnLxm6lolSFDhevGiXMlqSgAAAIfkEBQoAAQAsSABMAHAAdAAACP8AAwgcSLCgwQACBBxcyLChw4cQI0p0mHCixYsYM0ZMCACAxo8gQ17k6FGkyZMoC1ZkuFJgx5YpY6KEaRDmS4Uyc87EWVNAR4EJV9LUSXTiUKA+SwbFebSoU4I3CZL8SZEpz6dYXQKAObVkQ6FXsxZtCrWjV4lkxYpMq5Wq0bBqTZrdChep1KB344qd25Qr3oFs9aKc2zPwxrqCMRJW+Tek4cQPly79CncyYMSQP0pufHCoZbuZM1qOytDtWsyhL68kvdC0Y9Shh1LdvPrs3bmzceZ2zRK2TNlKaWtd2DX3cIRJD4sleRx3See8kS42aPpz5+RZmQeg6rwtbuJJo2//P2u9p/icvLmbLcvXd2vyVu+Opus0/fP1A50/pg4fNNL5+2lUW236uXfZQ6aJl1uAmulG33gFvoXgWQoGx6BO6rFnG0TqdbhhVxcSlWF++E3koXfmmRXib1bVhiJj/h10U1eUpYbcfw6+mNeNpdFFY29xaRcjePwVdpVn4X1oYExC8lhjQbxZh+R0BybWXk8NzfjXleOVdVuJ1+2lYmWoaUnggwnCRyWW2SXpYpUm3icfdoGdOeRJIOYIp0Qj4mhcVS+uGOdNVPrF5o7vdQcldEaiN2ahR5J5qIyMLqronCIGtyBqK65JqXiC8qmphZwuaemG/IFq6kiRSojcpXse/0ckiVFitxOiEIEF653nOQmhkr2GVKusDnG5VHXxXfcYaycN2yWHY/rZn6+YQrsiWNKhSi2MJIJWXqyL2hSchqIl2ySuk/757Z1liRujp4NqO6mXi05oH47tOmhfp2A+WWS9xfb7rHWkecqsq0jOGqitqm2J34+LGcrttcmiu2fEDONo56v4YWwxtinpqmS+3q3bML3wcmvxa9mmi+aYaRF8X7DbhqpcwP+ymuam3kqqU2D3YtQkxiAnHHLGtM6sNLvdnupd0GceDNK5Sb/ocY+pKg21vtEKyHBTVEI38smMpUxu1achmyiFleL67Y9Zgmm2RX/iC3CAj20W92KK8v8b47d152qg3j3y/d22h1HtobNNutsj0B0LTLHiWo/d+FW9Sp21juBGFqnEsPLMWF90tnox21qBfLPdoIVOaqPXBS4xseqpLnSLcFVIr8mBE9v6tEyXy3rTOQ/M2e65j6125143Nza9bBqe+bgWGc2q8/M+G33k0wcPpMqibg4+4TJ7KC7oYM7396rao+22ZMNL/2DqpkP65uyi9lr08SS+ueuejtue7eL1JLCA7WVP0xb+VEU/703oTuQLSq3edByqXaRg8lIM9eZkQKSpr2kWpBsCU0IzqTkugGRbWMsE50CcBcx6xoNeCn/VM5r1zCR+scyZBgi+HV1NhWE6Ggf/k2WsUs3qhzREnBJZBi1nvcd2feMam6TEPoUFzImUguLhNrYjKspFgfCrEpcS9znafDBrNiPe6DizQ1NR0YxnPFUav8RDz9lRjVPUU3G6hsOk1BFQgPTdxPSYpDHi6S9U2x8X12jI3SjNfxlskMjyaLeUHYuPxjOfnmzYLJixkUz3Y1jQfMg9gWXKTKarliNlKMiN/e9WSdsfySj1LrlFMokrO42GZNk/xAQubLf01ByrwjsfIS1bvywlyOxXxdsV85LgQaL8lpk+/oWGNISLE68ySMHUYDOM2tyW/vRkowYqEZLvk1a1TCaYbx5RTgDEHbI6WE4WFm6DgORkPbN3cra8kXOfdyQJDPFWSOABlEcC9VkLvwSpg66Rn+CC3DCx8jYj9jCLzYwN//4I0YUetKIejVlG1SLSJ6byWfr8qEX5s0B4OlR4vjLkezz60iCKS3N3G2lNt0m6bO60QSxFjBl/SpSJEhWoR02MUZN6u5wEBAAh+QQFCgABACxIAEwAcAB0AAAI/wADCBxIsGBBAQIEIjTIsKHDhxAjSpxIMcBCiwkratzIsaPDixcBAGh40aPJkyhBZhRJMiPKlzBPsjzoMqbNmxRnEiyJs6dPgyJ1QgwalOfPozmDTiQq0ijSp04RqmwZkunTqwOjSlVYc+fWAExHYkXKU6tXoly9ChQ69mbZrhjPKo2bdaXYtjib1pT6teFMtgUB45UJ4C3fh3/vMhQ8OKbQsF6r6k3b+Oljq3UlF87otPJGvlXXzn2okujhwIo9SwRtVzRjtRhN9x34WvXi0WBT01TZua5twpdJfz3d8vdnu0IRor0Nu7lvmsIpQ0WuWDlugsnhmoX+kTNcn5O7O//vbZB87vDSuR9Fz/Ct8+gOZb9/fnRqd6e1J2qmDHmsfapw5bcadfxh1pZ55X1HEX6bRVbTcgjGFOF8FTFo2INzTXjSf5nNBp9o6SW4lG71eZcgcRDxNJN5Ggo4nYsSJcbbXtrVqJp1MMnonXvq0XeVXnz1hyJ2Yl0GY2jtefgTkFIJqSSIuRF5ZGtJapjSkykGWJ2CwSXp4Jc9DTkgUFv6pRhjF4IJnlhayRcjm7OtOJyJdTGJZF5wJuhmRHKqCKd9b9lJpU+AYsgkVzhi1BuHYgoXlpVj0uXnoYoK0KeCjGLZ0qMKdpSpa7glxp6cRJIZoZzL2fTpeaEWWRSG6QH/xp6ZXKWKFGAa2mcroqDJld2qa4oY6X679Vonbqfx6KmSkzbIXKWxvkrmpq32BuOJNtIm7bPJGupsqUnaOqu2MJkHIaaW5qktruleGiK0dPF6JWIZokvqurpZ5268HabXaJbzlYbsjnOKel2P7/qraaTvCpwdrwKDWtt2wsobZrvfkhsunGHted9s/4IKqaPbgqsnxx2Pi22a8ZWs0b/juhnzn53y+yGrJnMEc8Yi28WgxcUxjLPGeMpa5ktBknis0QWOPNTBDyPdpNK1Qq2uyherWuOiVN7pmdM3A83dvddqFJ6+zv6Kbs+J6pcuh9SadDbGXv+rWdIVvk0nyTmi/7wsmZcFWu+0b5ZNa2xUA4xa4DSeSzifB/9tc4+M7eojuCyPWO7eXhK9uNLWqis25B0ZXPGxxEo8V9Q5t83daZaTPnTAeoMqJWase+46bLBH3p3BiYmGN7xGHk1xlIjfG3TZifanY6K93857tlCinfBzhn9+vebIC2duvoN6HnvhonMUfJbfC8s0vhUJGnrK68serfLJrw5/i5uxZib8usGYu+NLs1/KcgWydKnOdJIKX9DoxT2wFUsuB3TVvby2wJY1sGbtK9/tELg/nk3OQdmZGPWScj3n+a5np8NWCBN3vLxZr2W20hX4Nti/VwkKNv1Z1gs7GDUK8iuH+LKO/v+wZyCPnA+IAuIQAiunwY2dr3SuUl3OguYn23UPNdsLIJTmpb3OEYlrU/zcvopnRZMwCE1aAqPnAFcvry1nfMfhYfmqcqqBRVA2u0ONAynEKvrREYOzowv/mFQbrPUNjuzLzRmbaEU0VrBoJ0zkzOgnvSvycY80GR+n+PfFr/TQgJbkVws3hDE5og2J+QtfxEKprMs5Rl2nPBMLmQXI0YlnSbDEWJcAlMKPuc0yg0skgCxUS1KuiX6IHGInp7OeYDZri2NzGZh49EJMjmiC3oImDqXZL1F6B4DTUSPwUkkvMbGLg/7BEpI49T1zgg+dxlljH8lJOZpB82fxxKIY6emWnDEeLYz5TOA9WUMnjxGURo8zjgwd1C0UdghF+AwoGx0pyMRNL4sSnScVFXhLuGU0k63qpx1ftrDf7PCKz3RlREKmUOq8UWlz0+YtP0pEE5ppoUKjKTSf6EuS6vRZUEpiSb34U29a8XhALKrQiIXUIioVJeMTHCKfmhSKVm2qVF0QgT5YKWtmlanoYmlWfTrWrxWzIwEBACH5BAUKAAEALEYASgB0AHgAAAj/AAMIHEiwoMEAAhIKOMiwocOHECNKnBhR4UKKGDNq3DjRYkKBAABwHEmyJEWPF0OaXMmyJUiRBz8WlOmypk2CKmNeJEjzps+VCXNCDJkzKMyfSDEalUgU5tKkUDMKRbiTas6iVadG3Vpwas+nWHEe5UpWZtOwVF+G7CmQLdmkZs+2vRh3bdW5b5OeHfvSYM+pdp/mtbnXoNa0AwEDsHh4cMm/chvaxUs1LmXHJiE3dTgZscW+iDFnRDkXcumUZ00fbCwaIunKWZ0qVEtUtWG+rSdutoqb4W7Ke73ezT2U6FzWt4XT/h2auE6HMlG63T3d+POGn/O65UlXenLZ3xlu/x+Y3Xlzt18FUFcfGfrwuouHD07vt6pRrIUfokfdmSvr+2NZRh573Ck3YHT2xYacT/+xZ6BwEAaYIILcibVgS7bN5GBvGC2oWXzAgYhUhgVaN5KHCooY13gYblhfdsxJVN5quDU1HossAfjibAHEWBGPvtVYm3zN6WViYu0V6Vl37oEW4mkzRuVjfpcNSBmOAj4JW5RbPZikWPRJZp2NRNKG409e+vhSmEFeNSRnb+ZFJWJzvsZddRYK6SZaUiYJn3BccqnYYbutN5ibFWq4Jns3AkkneD3CFNyR/kkqYX2L9qdhmGjtGdyhlCp5paNmDuepk10Fd6ZLPjZ62nd4Rv+KKI17rfpYimjBl+iFYubH6aU2fZgrf8Dy2mZkvyZ6U36Givrone8xqVS0aEbWrKuRQoups00q6hKCDSrLG22oUogkVthGBS6HbI4rq6WJfvjqdXC5iKRYrqVIrpWpbisuqlVupOO9BHe7L3Ox/qvkYbbqt2GrpBb8bp6rwjjmWJPyyRGAEI83KMZxuqdrtud+yi1JC/Kq5o8hzjkrc8bqxiHAtM7scMtJvnxkzOI9bHPPJQZ8IKNlvlsosqhxeZLPoyWoMbSafnd0s4EVLeOGSneUoMio9Zywww3XR2bY9J5ssdem/jz0rdryCzR2E3bXbLwK8ZxZ3Arn7TZsx1n/t99pdteUnoDm6p0dibCRKbaIeguMN8mF79024oyFPGDUJ1OkaaOK8601mHVzWLWmmJ/IuLMAIkg2ZJUHWTnrVmuddXpzw311qZGr69HbfT9ddrdjS6t70N4KfTiRVe+IL+qPs305bu3O63F8+6mWrucjqb71po4yXDTlsQu98tLzGr+7xEKL6/3tqQau0d/8TmnzyLwvDHLpd/v7KKHzE2uw/RQL37SsJ7ziKWld67tO8rYkwKYRMH3noRZvEritBdrJJL5qYERQdDa4RS5r7lsOpFbCQR6VsEogVBtTTncrsvnueqNqCf4c58IRSu6GucsRgT5nwPpBTGEhJIlg/1jWw7L98IZBdNwMHzKsq2UNdzus362WCKcY/uiJ72qd7YR4PsQtD2HSWl3aICi4LsamihPjVw7/BxqyydCGXwxV08rnLcWQkVVwJNj4eDi7rhHMje+L4gaPhEVABmk+giwOoL6nQTS2xpDOWmB4Mtc+FW2vRY5zXcT2VcPORC9/RTTK9YKXJ/3tioUjkmCJRjkkeRUxRJDM5BbpmKc5jWp6dOvgTbDUvErackm4VOP5kigzWHnELp2p0yaHBsN+IYV/VRMl0UTYNrQ1c3lv2aP+SpglZz4llizRpgG56cfb9O2O5lGkDb92m9esMZ3HQuEYxeTOAg5vlvZj1ulc9qYl7GmHkUA0Gely1k8smidlGfMk8hLKrkZ2yWYMteSxJiVF51wQTp0DXj+JWS+DloyK+wsVR7fCy1n1TGOvqZVDuVJSeMENpcNMzUpJGrtOujSe8PydTjF605rlVCcjPaIpf6qhoIbqmkTNnv/wmdSf0G+nTWWfPAEXJ0lGNZDi0l7nrHpVPJ7yk+DsKjYfBdaZirVshVzmWWVJS+6tNVhmfasOfxIQACH5BAUKAAEALEQASAB0AHoAAAj/AAMIHEiwoMGBAgQcXMiwocOHECNKlJhwosWLGDNeTFixYEeNIEOKfMhRoUeTI1OqBNkRgEsABF1+DDBzpc2bCE2+hDlQJkqaP3EKVTnTpcCZJQnWHMp040+jQJVylNq0asikQLEenZrTqleKXEsi5br1q1mGS8cu3Hm27UmDag+ydWs2oc+FS6GWjUrXql0AS/fG5Lk3cN+VhrXK5anY8GGRicku3hr38UixAnY6fgv2r2WnJTUHRTu6YWjCn0mWDqB3cevBlH92VJwa7+rXBecahNrYJO3aEXVPPvgX99bWmzcfFr4btVTmOZGvFnx2tu+nPHdqR130ZVrsdx0q/7dpnTrU7cK7h6fa0/v0rp+Lo4ZeHqhxhqIH887s3K18/f3V55lE+bW33303YTYWbvuxV99D2+2VnmRCKSgbf81RJ+B7ADbI2ktSjcfSaNYlxyF8sWEFnUAINvVdbKadqKGCLII4HHAxUheiZBOy12KNHqb24EmK9Qjfjx8GidOLnMUYoYGMhSXjh0D2VyGJWKr2ZJUw8gVhdjbiSFqHYXKWF2AcrScmWGTeN2SNp4noF5aRNdcaegFKhlmOXg71XZ25lYknXHqKxaecVe3X0nxWBuphZIAiOpSiOjH65aOr/VbYlBm9CeWl3PHYKKHjlcgpm30CCOqOsEGkqZkUnv91nnuqpurqiXEtuhyYas4lqY7EXSjhqFe99x+Vt1Z5n5rstVorYsbyN2tEi674IaDOfnoZfwNutmWySeZJ5lrEpvRXt+99qxqXTYa7bLnFzjjWq0g+596v7eqq0ZC90QuvvT7h2yxf9WpUcEbSDevmlMfedDBGCRNc5sBOTkwUdhOVWmi2pGY55sUci4frxu3FyKRtXsX1rnTW4tYdn1UKbJHKjU7YsrglfxzzqZtWiyacwiJr58/ualfZrb9ZeyhXBaqp79A+b3e0aklbnDG3lc4asWivssvskWASmu3DhIY3l5Fcx1rr18PWKHbObl98Nq19Mmjjaepy9u6X0M7/Hd7LjkYpn9ISk8v3tl6XWZ/WikvLa393/osieVk/7mClyobqN+SWouqwdkMfx2jeGV6bZuNGmvo5dL5iCCXhcQfsOMCh9syzQ4PeGG6bRIcendVFv00xxOgZrm3mbO/++8oWn2ww6Pjh2Xuwxou+c/XI9gYS6a8bHS32AxZYetzaY8Rk08VPDiy7PkYZu+SQeYz+t84/C3bbQn91buXWPeky5pOj1PmgxzgldQpr17MPAXEWMfIZSm8LzNz6ZiYl8eVETuP5H7nyZqQD9o9urAJXQzToGujZT2Ydi1v8WlSwp9lqbuZiGvxExkLJufBM03LR7XxXOkgBMHn4u5JI/242QRWByUQqDAnZPja4znnqNO0zoE2WiDIFCgdTHdva3XZ4K//NsGpIyqD74GYrFFrRRg8DI7zEaJ7atWuIjMJgpq5jQamNjC6Rk2MV5aMeEOpsTRUj3N/AM70Uua6KE6yL42o4JAsaskVTU2LjbHOsrmVFbW8UGftU0kEize6SJsPk8PgEO+KFcUoNDFf9JBY5RI6klHJKpSPLWLmQJdJ81wnOJEmTQ30Z5oq7hNYtTxitXgLwl4IKplvoF7Qo1syEhQuULb/CzOH5bIO7tNs0hbi8NWIscMBk2RZLyU3RnTJkudtkJT8JSH4d8oXQVN0Zc9jOXP5ueNUE5TzD5rgfe47SkykUYQm5x81VBjSE64peOmsDuMFgi3q2Gt+aGtqeh76NjYAEm9P8GSys+NBTwPFZrqLl0TmWNKMlvGjQPhhJVwKSPhzd0EapxcWUsTOTZRvjjICGUtq5NFhKopkZ65lFNKGrp36iE9aOilQKtjKlF7Rnw3Ca0QElkZgyBd5Q+9mlPsrOp/lrqib16VWjXgiGYgXZ8eoGzbTGa61ldevqtohNuU4Resikol0998e9Ui6hDwkIACH5BAUKAAEALEYASAB0AHoAAAj/AAMIHEiwYAABAgQiNMiwocOHECNKnEix4MKDCStq3Mixo0eCAEICUJjxo8mTKCOKHIkxpcuXGhGuJGkwJMybOBvKFEmzoM2cQIPObBlgpVGjQZOaHHrxqFOWSqNyHPpU4FGpWDVSdWoVadavD3fW5FkU6sCLPcFmFeuT7E+CaImqxdpUJMKdTEvO3dtz5V0BV+XyjRoXbka/dw3WfVt26GCPhc8etpvY4mTGgR93zAwxcteugR1rrsg5rF6QLKs2Njt64tG4non+vYg3tVvKrSG+1hub9mySW38izm24rmuzvj9Ljhvy73DLfP8qV4k8o/HlepvffW74MWbWDqUP/9QunjFbnafHg5f6faL4rrMnG2asOP30r3npl31YWjDo9fs5pJ9S+YE3oHqipYUggAfeRyBX0EVIUm3CsbQYgKih1yBMqnUnIUYU2tYXWfwBeF5SwXnVU2xjjRUYbJVd5yBOKYqWnET6qQbjje2haKBtCTIUWY4qfghfZVkR+d+GCs7YX5NlvUdcfUceKaWLZPl2oHYe5lbXl78J6JWWDAIAo1Rk/nQmdqQBWV2QUrIIU5oW8mannC2uNh+JbEqm1I21TXiZiEaKyeVqB4aIJ2TWNZrXhTMu+t+FiQJmlKQc1bZjZS/aJ2R6nT4F45MoaXonp2N6SmVbBe62Z5BTQv/5n5XZvekUj6nG6t+CtGYomaiNLlnnTWqqWmh5fDpnYrDqQckkSsW6lx6y5m23rILRthXUpqt2idGhcBpbpWVyXslocdOmuyekhY4VmbnoCjVsgCfFVumNDRX77EfZ7iuRvcviy5C+GFJULLudsrXoTuwyZ6a4IFrq7UYHDyqsoNmaBm6WtS5s7cQUnShrgOVC7Oujdoa7op0VibyrciW3OWvEr4IHKMs0VgccoTsrjLNo+rncW4wma6Xztzwj7bOHQNsscbs0vxze0/BGiNiagkqbtWwpFzmyxnV6PCmSglW9qngCh9jtVKky7CmRhwos865q+7lU25YCjOXNm83/W3O1xBYcX5DV+nsdwUz/GLhpyir5a8GJw/z0iHmmhGmFQZM943EgM/7xuTi6Wd+QkIvZ+dTKnnQodYbLN7W3Mg7M5+oe0V5i65vbrWDsWKKGaUcxv6471DuDjLnfQAWP3uklA66tnlLf9LvwWmMnZ40P/1m0aS2fev1t3IXMbOW6FWw72/c5nOJGcjcbeonT55u0+uCXDj/R7OO8MuXuX6h8W/FTD9q2N7w14cpX/jMWwAJ4Mo75TnO8Gt7t+JS72PEOfdBzWNVsVLT+VCp9rgOepSpkQE85DHZvgxD3Cqg/8W2lhMtz3+5SSCoU2rB2XqMbAXMXwwqtbX8u6c+7/3ZIr3+5LnNnI+Jx/CU/aX3niRwzmw5VR0GjOdEsTUPZ/77WmfERj1WCMxb2oHRCCWbKi6frHfVkd7yMDc95lvMexAIVNS4yL4Rg9BADWSjFnVUsjVC74MyA+BIm9q9jaCyiHvGowRYW0n7Pa6SzrkUUOEbJkXfLX4kWiRp/uaqLj9Sk6exGvyXiBpRfoZMhO5ksqpmwhd/ZY/f8WEVTFg55N7zP+URIrXndq2tNrKTo1hjDeoUpLxUkm8skpxxYmfGHLhla+zYpOzsWypLSe+U0R5mn6ZEOkLxsFNbYeMqIxGdVmfONLI2oTkyycpefMtcFB7hOUVoQghw8jiqzJ/PDZ+LkgH1iJTgF6KhL1QqaOTHVnkY3uTyu0ZkITd4I+Vk8cjVUoA+t5afmsiWNjvOTpYwJBOUlvw++0aDY0qjn1gJBOpqro8cT1qYGCBZ5TnRrvlIj9maKP+K4DIpxG9RWaOVBSKLpokUEqVBvQ9QcrjKVr9wNu95JGc7UkzBRNehUF4QYqypRLUMjHCTJM8evHlVDVfTkw8SmK+wEFW5JM+dkrspSt1UUo4YEU1tF+j1Lnmibe0VPX492V64F1m5DDd2z6DoYhI1Vpf48rGDjM1JhUkey4qNsZQX5PMwak5CeZSloQ1vTvHXQqKS94uVQGxAAIfkEBQoAAQAsRABGAHgAfgAACP8AAwgcSLCgwQACBBxcyLChw4cQI0qcODAhxYsYM2qkaPFgwo4bQ4oc2RBkwY8KSapcuRIAAIImWcqcedElzJQ0c+osaJPny5M4A7iMubNozZ8Ee95MCoCo0acYnTKUCrUqRKoeg1rdylGrRKxcuYKd6jVs1Y5jBaY1ezbl2rVsi7pUOnCoV7oGO+KNK3Mu0rpN7/7Nm3Iv34x2DSYGbDgr3MMTFzM16TciSsg6KQ9m7PfnY8wjNS/sPFdtWdAhUe6VzLBnZYSnlwIlDFn1Ztajf74eS7R3bKifYcsmfdPkWNwVf2dWnnV45+JBjwdeGHx5wsaKNwvsidK2actBsVv/9Q6xMffu1z0z/w64tgDx7M8/lEoXrVf0fNPPL6x+f27Zvl2GmVTpEdfcV27dF15g8AF3WoHPHQgee7Jtx6B2MzXIFFONaSZgSfz5J9xOGrbHGXULfkiWhSJW19VRtJ0I21riGbceS8Htpdl5NGJI4YhsCaifT+ZFWKKIFuo1nYP2rVbaQQYe6ZCH/Lk4kZINicdjgtnx9ptfVkYVYms+CqWefV0yhxWYN5KkZH38yTcllzN+5OSP/yUn5UVv/tUnngfaR96GQJJ5054qCWgggA9G9xuaEjrWZmgfWfgaoyhWGGijIIYJIqHQqQihaUI+SiegrpVJk2hA4afnk65i/wUpqrqpahSbmo5q5qWGzkYWhHKCmhOuyR365KK9akoYsP35JBNRuzXKq7IS0cXrtUsiiqSMBL73ZIwwymjpX4tpu6KJAaJXqZjQETatmROmtiCg6naXkY2+vVtimNB+6yuWPnU7maPRvjvuqoJ1SKeTAgNmY8H+cmirm+syvK5zyGUKFJzBmnjwrkveW/Ftgfk27lsKctyssK8Re2WVF4/YraLHZusvvo6CKCdpBs+ZZMyztjpyqn8Wm5yNOjfLc8TsBjx0yNVGOCiZcK5Za8YIptlnjlLbaSuvKmZ38qTsqdixwrS67CzVJY8pbNhZ10koqzH2q7aw2dkF8Nsxi/9M6qkjmkttZEo36+m5pTonUpg7G072iwg2/OOQdefsa5oab/QY3JMTjGHQJkMJ9eAaQSpro5JLimLqh38qs6mrc/or6rID+hRri1ntutodo+b0wLZ7fCDvK4vV98ZME673l356WyPs8p7ec0Rs6v7q866LVLVgKLMqKuChg6u6RttjflXMW2JqNOmnu+il+tT7Kzi8a2Nt7vtGP4btRneaSd/Es/ub2GBDLEHNi4BzCc7DzuS1sj1OgHJbG4RMhz713O18xvrbkILmt/olME6fGxn86Jel5oHNbYkSzNg+tiwUBq1BKoMTi1K4u9G97mVIE54DP9aymmkOesjh4Jz/cjhD9fUwValaHPhQ6LrNKeh/yJLYSkDHRMRNKl25iaK4WHK25K3vdwjsXaHydjPLaRExxZveGB2WoGiJj4wyNNoZu1I9EMbrY7oyFs5muLesqBE8dWShz7jlvM2kZ4/066O7vNhB0rVwayBsUL/IqMcxHS58Q3xanySpQiKZ0GbBo1iuvHXI4w1JjEfhHMhCKa9R2mV5i+TjA50GxeKJsitNIhm1iBhBSo7ncaXqH70sB0FfPoVZPwrk9WxIuWWqsmjPnOUi3ciZ712wmaZRZoyilTrtLY1csCJmoVzlSxiW8XbflOI4xUlOTxaRbY7EUSEFqbhCoTJw4VTfBi0p/805HTGEspyb7Ki5QwTGx5Yz2eSSaBbPTskOk3+kIchyJ8Iv4vChClInaJxUvrgFr5a+42jznMi+00T0WRmNYB4jNTBYzs5sjExoSoMZ0/+Vsn322uIxxZlMBqryhxr1Xz/5xFN7+vR4Sgwq1ooSOl7e0Z8MFGTrmjZCBd5on0VjJWSwlksdkdKkhjyg78xXuXeVMk+aml9V1Eg34S2vj91EDVvF6ta2wbV2Y8XjAbE3yJPmdZVGfecbhxfTvxpUdGYFq8Z0NVWmeiuLTPvfYue5RsMKVocWXedHkWrZy3p2jTmc2VAx881PZhOAneVfOl912tTmpF6CJKhr5ekqbBTdc7ZcUStuM4Ta3e7Ut6BpbEECAgAh+QQFCgABACxEAEYAeAB+AAAI/wADCBxIsGAAAQIEIiS40KDDhxAjSpxIsaJFhQkPZsR4saPHjyBDahQIoKTJhiJTqlw5saHJkxtZypwJsiFCly8B0NzJs6LNmyRz9hxK1OHPkihHKk1atGnIowCS/uTotKrKkhexKrXK1aLWilqZdh1LNSjIr2TTJkWbVWdaslJjimVbkO7bonEZxjQL0e5dmnk1Qp2Y0+3foYFvZkTol2Dhw03DZpQs9iFjk5CLSuar2KeAl5lVih0NdGDjAHQrF1QdeutA0msNO0y912jt1nwtT5ZddrZQ11NXL7799jROg6xR/05cO3hm0K51O/f9+PVn2aSh34WeHON0g4XRXv/Wi/z66aaxzwtuvjto+KjEj9fl3TU9/fKk+b5HGr/9/Nb5CcdfW34NJpxj99XHXnkDeoWZbRjRhiCA7F3WHXXwgeWWX+pVBdt1F4IHk4a5/YebYuNFt15EDYrIoVud4ebdTZsJl1yL8704410olqabeNf1tiNFNWpnooc9EhchdkGqGCNhMO6mo1NoGVnihd8RyWSHVMpmpXLkSZQllHpxSVSK8gUmJERjWncZXUByhaZ/aqqo25p6vUlfnF19+ZJqT+b4YGE3JkhVXCF+5OeItqlWHaFKgsnmcHlGetWey8nlo3Xu7TckTjiWyWRQibbl4oOILqjcflEG92d/fIb/ahV0NQ5Ja4K3dpokpQIa2qVWta646oa4Dkosfz2umeKZMTVYpa9XRlpdTaruFJt8JT7Ep7a/UVses1RNqxxUpZqWoIFhMteTq92OO5ysZEKokYTA8Xppb6CyCl+NUD3LnaZ4uhtZlGHqCxO/7z7YabBtwisTsBlyam6n0QZ8GsPN0pdqwCQKLLF+xqZL3MUEfyxpmJ9aKhHEyI7826scCwsnsZWi7KBHLMPn6MuMJhfjzNHW2bFIX7IYXs0nC7rklMb1V+6pBLb7c7GSFS1p09KpLOLCXuYUKMUH9sVotq5V9/V6y948rL8wzaWwyafG9q25/36YdtQzGxmjzwAL/4vz2xc9TTfgazPZJr7DCQ62R4oPbrWpSR/aN361wWxR41ybKTbZ0wG6qa5aw92Rnpyp7HauoiP44uPDks24eTTbGbbqIac+OLeso74TveGO3TpF9rGN9aQz8a6U5YuLmbGR4s5950cfbu1bS1JGXHCx0mMOfIWVY6886HNPOaHsovVtN/e72pd9tWLv7HBE6tr4Odrp076+8+27/P6kebc6udirs17kkrazIS2JWv0zIPluhyG5HUl2lNGU5qBWOKB5TD7Gk9zU8BeoCB4OgMdqF8jYxTlVJWuAG5sY/WL2I2PRq2oCFJf2xuc+aI0Odsnr3ZKCN6qVBMt+PHkVc/8Qlrko5Wx/lAuOnjx3lraZr0nsMluTIBU4FEkOebPryJeyFBfUNYh0xMvf3JioKMJxUYK1+yIOw8itAJHxdeKbFLayaB/F0Itva5qgdeKYNdfVi3Z21Ji95OW24olQS5UiGQw9aLrSpPBSrONWIn31r7rNj3KIm6GgkMhAm+HxaqiiUQ9jpkmuJWqL/wtfCGe0rQVqz0KXdBLsLPfDAQIRlhx0WeNg+cY9hidN3TMaDANkMQEaEkgOFKJ/lkbJks2oXJEMid42lbMN+pJkmYwl7mxYRQuebpR+k9g3ufZM9ukRfk2iYfdaebYs3cqSxLSlNAVYp0cJcnyeXCYB14n/KUPWiYclxKfJ5tjKHMqTWp5rmT3VSE7ZYalvOWPh5WLJy1mGMIqhfB46rwe2Upqrl6XzIxVV2BsvnsuRoWsLSCU1R9rhqJUm7eMCRYJL0WFRcn6U5O/+ZTP0gCiVw3KjPuP1TmfO1CmBVNYgo5kv2kwzM0mVZUkJp0pUPvUvRW3pJjM6vd9t85xBdGHEFJkpnebukGqxqLNC2VSuBqyehwQrTdU6VrZWj6e2g+uiZATEXH5QQ8bzKEuslkJNorKnf9lVHg3HK/60DLHjkytikrRYpOGkopBVoWTHckKMiSxfCAImX5VnzX8mrnqhpVNKQxM9eVX1nh8d5GiVutLeXBmPobOVaBtlC0qIaTW3uvWNO1fpsc0qaKrriyCU/jrb6XgTitqMbXBz+1s3hU5otgPu8Xx1No06dLUyAmMutYskwgKVvHix4veOit65djdsgm3vXOUbXvB2JCAAACH5BAUKAAEALEIARAB8AIIAAAj/AAMIHEiwoMEAAgQcXMiwocOHECNKnHgwIcWLGDNq1GhxIAAAAhN+7LixpMmTD0kG+BhSwEiFKGPKRCnyo82XLVnO3MlTYs2bOBG6BNmzqNGFQG0u7JhQ5dGnJ5PqNMi0KdSrJ2saDNpSoE6nWMOmHLoVgMqOX2GKXQvxrNqBVZe+ZUsX7luwcSvOrcuX6l6kRPsKZggW8GC2P6WOJVi18OGZiZMuttvS8eOSKm96lerWLcGpl2NmVrqS812rlD0GDk2TrOqupbkWbDrUMmvMrjfDvumYtuzbuMt+Xm3bNmPUvf8+BgsadHHlfvP6BS6dIWjYF9Gu1qz3cnXDs6E7/9Q+/Hpqvnmr+5ZqvqHx0u5zI4aZ/nRkoBPft7e7ny7t44Bx11931hFnH2qC/XdeQZLB55N4zh343lMKxocXTEFNKJRc5r00IIUIEhbibmbRJx6AenVY4od1sTedUCxqWNmIdsmIlYvh5bSaXPnRplyF8/mIIX56aRfjWxlCSJpuQfq4GXfRDXnkcN8xuKSDV+kE5YZCAfkie2nxaCV4KD6l5ZWN0YgimEQlJ9xB5tm40XpxKrcfeVhyWZabXDa3Y1F0/unYnUMyiZ2VfOJp6FFhclllgxElqaOYo7G4U6P1lbXlQ5LC+CdslX46H4qhTpnjqXyq2OhVnukZ25Vilv+ZWqp/cicnRqO9WB6YGq7qEKSeWpoVkoLuxeZvBR7aELCJrfUciWcS6iWBTxIpq7Pi5SUgrDWqeWq1m7q6VpLCTruRqrUSqd2tE5ErapQyoaspaeueSJGR3La7XZtOvvZtnsqq5qewEeFLMJz7zpjrv3UGuO/B8QUV7bv/Lromv/OGyxxR27YmMcf5UuvvlxhbCWzAE1usEbLV9rirek2xGO6hE0Nc4KAhx/oqzFr9GvLCJ3MUIp42pvxv0T+jlpaQ7HZ5GpNIt3y0vbvKRTTTTavMIcUXs0zgxjPSzG3WY7YlX3zVavgov9VpTLXZybXKm4mhtjrpggPie1zQPcb//fTOdBMrm1sRDof2q3tbu7KoXqet5Ev3ccq1iBlPvizjJV7eOOCR+5zRxjPf+6OJ4GGtOb2F9mlT06ORnaidbPfrcKO0r/62rqWRrTWB266H+2YLv6mzX2eiVK6UIPtece7Ekiky8SC3Jrmsdhf59+dKX2lzwfYWvuBz1WeXvZ9hkS/y0ntlivjzp9a5PUXm447+i9omfbj7lo+HPMqmQUta6EIynLi+FzNR6U51vgKX7fxntCgtjE8zIpRRCPe/kr1HfW8Ckq2MlT+ZULB4jrIXBsumQdQJjyfm0h/YBni3Zgksdvw73fuOc6tpJZA//NrSBtcmww56bnmhc5yY/yAnH6ztB4D7Axj8ijWv09FKeQoroMOGWMEJpu5NNhuhzjZIKsH50GVKZFIWScdChplwVl70IBnDhaNrlbFVVZFZ9Cg3LP9VrmHLO1R95Li7gOkLinlc3wnHgkcumgwoFzpXiXr2uxc6j5BMXB/oEJm+25kNXqJD4grtOEA2tc6Sh6MhKINlQBp5z5C7Ssond1IfCBJQh5lz0CRBJR/8bU58tHSlHofip6s1MYTxw+Et9bfLUMKNjJ2RYtkupsCewMyYYxmhkFREsmaKJU0K9NrcLgTH0WVzbKPEXtheNTeHTQtIVWKg4vwIKNiVs0ANRBge7zhHdrLSnQuEJ8gG5P+22VVxQazioD0Pyc9/jtOFtBRgQDP4Nr45Mk8KQmgIFVoUPrIPiSrrZRGHlq1w/vBywxNk+9JFpY2GL5DSK5v3ArbJboHRoQecjABXOsCWjpN71mxklkppPkY+KIWDdFpMF7c1AfqUe0BdZreGitNkvbBeXdQXRXV6TSW9bEjdlOrI2Oeffvn0qPoUX1KZipuIblRYQRTRWD16qcmFip3z3KobKcVWjJhKajhrpAQvWcaduhGERPzm4GQnkWH6FaAOOpOCPCmhURq2LqXS3sPUFSJf6fI2kQ0mjkpYTK4CR6jIs2hkE+nSMIYmgOScnK9UWUlR9hGzBXRoSXOKxkZ/ktWZsV0nwgwWSdLOdTm8LNY5UxfXxVqwrmGRaBSrqcRkQo2Mn5XnFwkaSeCl7rY3yhlEgrZKWSK3L1v6oGStBl2URvehuwSWtMr72/MiVl6JRdN33fvXdAFWvvRFIfLaht/8tlOIrgrvfP0bTW8yj8DJ9RZUEcwa7DI4pT0JCAAh+QQFCgABACxCAEQAfACCAAAI/wADCBxIsGAAAQIMKlzIsKHDhxAjSpx4MCHFixgzatwoEKFBhAAAcBxJsmREjwVBijTJsqVLhSgbxnxJsybDmQtx2txZEqHOjhZ5Ct3pM2hKo0OTErU4M6RTp0qjkkTZ9ClUqVhHhvwZICRQgV6zin24FenAsCjDjh1btujTj2YJql0rta3Pt0cbzqVL0+3KnAL2nrX6lS9PvzID/y1odSVXwz3NPoapGO/cyZAx6sR8tDHYxZwzP+SqsvBmi57zDpwZWjRpxaYloyasurBt0YCfFo2dmCBr2aOZxuWr0i7vm0Z/ww1+23Ba2ru7AlBOsfRg3z4N4qX7HG/0stgvWv//jF3ndr6WrSJG3jp9+IoLBWdNr/vuYrjtr14WHv8+1uK01ffacvB1thha2SmUWlYA0jddggS+d9pcCHK1oFgNXvWefBVRNVxR3/nHIXkYVkbbhv4B5SFgIM6mXYrXrdVaVWGBt1pys012YVVjzWhUetQVZmN/5/GI3okdDnfheyQyyd6Hww21I4SMIemkYJxFF6FQ5lmp2pIGYokjYBLCxqVZYKJ4HlxrFtjcjWWOuFR3/un44Jv7kaVhgVr+l2Cbdq5YpZNEgiZcazQhOCWBCBb6pqN8mvloTYoieRqJFl6VX6MV5XlmeSbKWaagAMoFo51vIqoZjhmedCh/ne7/ySGqbsL5UpBVimorqJmeJ+dvqmaEq6m6pgpioRTCeFufPHGKXZvGAjVln8xWGWxLzt4Iba2xTUtltaZeO1KLrrYI7LHSeRdlrK/hOt5U6AZnLqvopjaZSu2Oqa2y1a3rI6jJbjvppdJtydK96zq53mcCc7urrWL2mPBgQyqoqX2uMuwYldxNrLGdFUrqEJ0qetySuxMb+WKNG7NZ5497GmwSyszFuPJK2Ur7MrH8igsRwZPiR2+GNoK7L8/HNVaxeMA9nNi5RN+ZZGIBt1yg0lJPJKiQF2vdNJnpZg0xzjEXbLGwsHKd88hfU/Zx0ywLxmGxGqlLaNhF41gxydLh/5vguyWD7ZLdTuMt9W97z8ay3x6KOSBHmZapc8NrK/zqllvfqqSh3XppatC1egh0pDbJqWurpBdu+cAmq4yR6fxO3nXo/ur7eM1Nrjp6RA3LTK6tXbIeuEbVXtt7bTdSm3aMjxud8aDJm7wt1piKTLWXv0f2Iqi8l62xe7G6Cmb2kH/bttoiWu1gfSVDrXjsUxNvvu/vb3+1fkqLbn6Ip3Msv8Z3oxH81OQ9w+nFKT5jGgALJ0CvfQ9GaaKY2BKVvuPwjUXrKhLMAOUi4JlsInKzmqAa5rywXQl7HTzOUEhVu+cEz4SFi6Dg3KY5FVLGhWgim6d4RjfQJfBhCANb5v/eRTik0U5PfdHXDCVHu6rhaXagy51NMpSpH94Mg0I7oM5K6LXGVPGDENlW8fz3OXaRkSQhu5vMWIY+Iz5tfqmj4PCi6DA23s+JbFOeDUviqcrRsFcPAmR//mUzjvTRajUDpNGmN0HklFErIjRRbyRiR/09Eno//CGnSuVISpItNq4rYybB+CwI5s92y8sdraqlwedtBHASZJ8Hn6hG5vmvlT8jpUPiFqCNLe1hMpQgElUXR2J274GVVMztDLjLAl6yeefrV4gW6DW/VK1/S2TIL19ZLx0O8CjWPJDnkFfLF1kxjPgTYg5rGbF97bCZUkrnH9dJzHbKrpzQm08khcf/NmPx8jPkm+Q5h8nCbBJoQt4EaLz66bCN7CeIlOlhpDI3PGyajSUPrV1uvgnKVMbPohLl5qj+VDZYIguBUEqj4UJavpFe8Gjo9GJKN0an42GUpsrMabkWykNnzjJXPh0cTsuyzRvyNJZBLeYDVxgqQ81rktWcVwZROseleCug5MylVKeat4FKBHX9yabyOCNLc14uKWA9Gw25Fz09FbWruowMRRsavSzR64EE46RUorM7cJ7RcjVtZOOSqhS9GhWE8FsclN7WMRL+Va1a7Ntiw+bVcTUVd9r0koNwI75x4nOpQKUmZxFb1teVFGbItFRchSJTh562jFjDJW6e80RPeyEsnL4iLHE62CXbttA+F7IpZ/1CpyHCTZwhU1dl56RTyi6PYHgMZ1Vnq9H42e+kB2SpxAR6RthRTrfUfRzdohYyHI72jWAbb1OVS9Lldmy68+TVZM+7KvgedGjzpW9LO6nf3UK1vyXSExcBnEQBP5bALiEkgqOi4JYEBAAh+QQFCgABACxAAEQAgACEAAAI/wADCBxIsGBBAQgFCERosKHDhxAjSpxIsWLFhAoDMLTIsaPHjyANAgCwMGPIkyhTqhxZUqXLlzAlshy4cabBjRtj6tzZ0KbGjD4J4jTJs+jOkSMxOkSYFChJo1BjIgWgtCFTqk6janV5VWLVmk9zbh1LsWvEr1l/kl3LcerNhC2tCgjKtq5IpG+HLp371C5ZsXebvoWo1+9WwAWnIkYsNCNjw0fDEo1LuSJdyEVnLib6GOJlzJFnNq3q8HNn0DzdBhgN96HpyahfXgXrWbLZwWpX96XZGnfst4J11y55+6DjtI0fn4Y8u/XUzwLpikWsOvrT6sZ//2RtHftd37kJYv8XjVdu7MKByxN3Kp0z3+ns1RuH/vd46efJ44Nv3ri7/Mb0jYXefPIV5p1cA6qm4G7LRTUggAXap1uAPyVY3oL9aReRag9OyKCEex1YGYWxcQjiQNh1COFr4u1Wl4qJXYiVf889B1aNlWVYWYNFwdgieTfWaGN8Ju6lY3h2WRiXTzCKKNxDBkaY42EnaoZcbo85SV+UTJ641mlXkehaeUOF6eKTRaIGJl9i3mflegeS96ZhZcKWXpu87ahfdtvJqJidPNUpE34cDRgkbmbSOCNbPgV335Sb1dYlaSj6uehajV7ak2TgTfnjh5T65x+PUf15X4dCavqpkRVeuR5kpm7/iqqQWf6XZ6vW5QXoWE76WCmOE53GWqge1tWrl5sC69WuumFErJOR5YrkkcDJlyKggk4ErKOpXcepeVCyudu1rBLrpoykhiSnpsFBW6xxQc4556OVYuott+3auiq8RH4776Yt8mrtmUumajC3nuJaabYrEqzTeA7He/CQnfImVnDEJhroniUdK+q71m3WoMbl8pVwSIfy5vG7EIvMbMf63mpWuiDNSTK4JZ96XHt/UhqpUTaLSxizTS5aHMzDulfxSwvm29FQr/X88pM6VyuVpbQVunPE4pobY22b4Tn0xybGKumi7rKosrdj80kzbk1LZvaY+dKnNszSsprh2xti/xW2lATW/eG+xWkM37Pf8n1XxkLf2nDKI5Jp8tr/Ogtb0B9lPXSqZbkaY5eRRw45zlrnHS7nwXq+b1wXfxsyx6RrRd7mrnvotelxnrmg4jDNfnrtUg/3q+7EAzk1ykoDrHDbASN58Md3sm17b1wl/93y4V7fOupaErru7VpTuCX1rB8/fKaVX36v9CgdrfxeP9Os7LvwXY+hS90f+5rXVbXH/K3bQgrvVve5mLlvPcpxzpnWBDfvCdB81dpdQtJEIb5Rp3gxy9D8Micu4xlOdXyyyAWjtyxFMU1yraNW3/KzLGFJTk/NO6GVUug4bYFqauBLU/3qVT0ISUxvAAQcfP/Exi9g0RB5PuwXEAsGOiQd8CITJNQRYXJB1CnKdywMnMMgFUXT+ap96rOih+6XxYb9D07swxIEU/cqixFFXpaaErd496/8FGaAajzcG/0Vx2k1y3ptqZ0dJYTHzp2xhnIcXAhZNrFBIYyKRMMWbEaISOdZSoznKuRZGietBAbvjzuUH62olymo3KyOlPObU3yGrLN9EndbrJkiRbhHKz3yQDuU1vjchZIm0pJw7wnjAgGJRbnw8iTgayPS0GabSabFl797pOlikkzsmSlrjNPlLKOpKh72iHrxi6ItZaTCTjrzbOApZUpYiShxyo2clTTn0oaXznHF0pAg0VyfUPn/ujJaMz6k0uTJ2Ei1fQpyYe7RowYfiE+V6LNtYIHaC93oT1a5i4HIBGE7+2lQPSl0k9CL3SLBOLKtXXRyr8uW+A46NIFSFKQG3aU90fJQ5dGsmr2MpZnmiMM9ZjOIRCRiR2Q6t5K26KdMvOf7NkY2e46znEDtZiLXZbWR9pCRwIRmA6Xpx7hVFapgDOmnZhjJBA5Un/qT6lXzh8KySvKsV0qrSzuXNarSbZRHwiYgN5okBWrTbgbLZW7SB9E1OpSQtZSiME1IOiMmj5ICQuxYJ7qvDdbQsXtT34uO07800utTGDlm+Sgi1Iwi8JlKpYvURKtG0ir1m2a0IWa/lkq+3U5xoDsZYgYLmKYYdtRtVRqmXySqwp3uFi0rWyhYqYS3Shp3fBK9WxCXu9lfkoWnOGUuFO2lx7k6CFndJV8qb4pSDeVskZbzJEOhWNrNXhOciQXs+DJpWLaE9oGCtSwB5zk386ozr5xsrVUdqdYS2XM/Ae4Q3/pr3oI2N4s/I3D5sgsang1TwebTobMafNftsXTAloQYhwnsYdz6MXIiHjHt4MjaebJTxdxMamkTKFgYe0S/w2Old21Mwg7Dd8c8JpePebwVIdOXyFqxoHiRzFStAZnJh4XyiJ88kIAAACH5BAUKAAEALD4AQgCEAIYAAAj/AAMIHEiwYEEBCBMiNMiwocOHECNKnEix4kCFCi1q3Mixo8eDAgQCGElS4MKPKFOq3HiSZMkAJ1fKnElTJACbLiNmrMmzp8OROF8+3OmzqNGLIQMAdYgw59GnPlveZCrAKdSrPZcaXOqUKNavHrUW5PrSK9izEJc2FarU5VS1SdHKTTt1rVi3b+vGncu3YUyGeMUSFNyX79+tgRsSLlzYq9SRhxlLNug4qcvIk8H+rWxz817MMPdmpunZc+fPqP2KHo1yrcmkj6dSXi31NUGMq1lXdB3adtvFvUHa9P3arO6huccCqC0xNnDVxI8jjQjZsmyIzq/rhJ1c+kDgf59//088nSFuxN7Rm98rPqjV4LONt0drlyRu0HhJ0+Z+vH7184C5pd9s0bGGV2SEOSUegmwViNRJCs131YGrJfjSghU2CB9IECYkIVZwQVdeUBphyBuBG/IV4nq3sachddpxWFWMvoF2FoUotkjiR8ypl2NfOAon5Hsc9aiciI3NSGRwRrYI3n7GRQfgkl/5F2OHw633ZHwJIRnaTlRiFZuNVE3EIHArkvkhT2N2V2ZzGaKpl4OD0QiigCxaRCadysFF2J53hgnoj14qVtaMhNKXHJYjjreib49umJ2ZiGq2KH+N7mhaW1Km9tuLWtp5Fpn4sQVaeNed+OmOiEVapZuliv91qotOXqcgqF25ySamjGqK6W4Y1Vldlu5puNOgKTHa66pM6rqeV5dZJyyeLS7r07DlIVvjpbLOaOSf+6m4nKfaNqtat9jedWW4fQEKKLY6BvdebEF1GFm5u24H472YzmsdWdgah2+yGVo7XrnLLplfgFtCxaDBpwEbncLU9mnnwANmmidy8dbH58RsdRuxw55yjB25Ss75JquclgfvTAmLunGz/H6cbXK3WhjVry1T2nGXQrrL87QsE1tTlOP5TBG/Ht9cGtBGR2szsGrKHK/S1ab889OoTgvxSlOOe9qspaLY9NVULWzoyyqFLRXSSIP72pJCq82w2B9h+DPa6nL/KbHGk95sN0d638y3resiXLLLFXc4OI/3oS35g9Ie2fPStCJloeP2OUspgHySXXmdRmN9uaoj14exjJ0W5+l84OY6Nqy8Xpp120Bvytnlhs4me1tIbxs6aqt7tBa0nc9NXtcssTvr5EYdD/WnnC/MvEY1p9ho8QEqO3SAvudFVtPPw4m95xIFXDuM4e9Y3e+JFmp+UbuX6JZnQbaetLkaTw329KvLX2gEuKksLat8uOsd5h5iPZyB6lypmt5TyrbAn+ApVlYDSbe4l0DqZWhyoPvUy+ilPR9tL3P58qAJmTY9Av5LZQxc1+FSWDo4sc1iIpMUlIAWJrqh72813M4N/6eVwwJSjoStkuFKbhXEmZnMX67qH7OqJz4Y5u1CeTHdE01VKQRabFs5syJKAhMYI8oPOVIzXJ6Y8zj/TYSMLtQX5tIovDVWro0lbN639MKb+ZAQVZFSVeHIAj3I7dF1hDyZr4imw769KZFuhBzp8jhC1MCPLme8GyLxxsGZRXFknbpkDDOZxE1+zXgu+o/WvuShcQEyL0/zWu6cBbdgHS2VrlwlblTJyEq+8li0lOARfzhH8tRKboLj4w6ZJ6dJRhJ3ZAwfMsGoTC4x006OfCbBHkdFimWvhtmhow69WEhgcZM70VTON3knLzgasZaktIgPpXlBlG0SZO8JkzP3Z//CMRprP+nUHXd480p1wS5GzfyfPsEHvNF9kZJ4AlgEy2nBTp4tfbB0KCMxmEh/UdRQnTRZ+5w20MUVC48GM6PldgbBrZV0cnAEVUpNutJbgrRy6xRPPjXES/6hrlFDlGT3cMquJrLMm7OkppeC2sGBOXJTK1pYtBbKQqP+T5tRsyJzAjfVB2oPTBlUSbR2KTM5lS+RpLLl7Ro6oc6RdZRDFRFaaScwHuKtrYzMpC+7WKnUObBhcjGozEr1ND8h7muCIiZPpOrVeBpRTgctDGPXJEX9NXGhVr2KlRILoLSuVYF205miYqqaztLuswwNLULDChUyCg2Nd52flVRnS8r2LraMwYSt4pTXVVU2STen1Fxs3xXBsfJVlv35XvhUusKURciK4jRMbg+2TOcJ07KOSh5jXktda1rXi2fSbmaYSzmqWlKMVLneaMi7ycIpL5LISw9DjxrBt9XugDwL6VwEu0+weg+/2JWvzXYKl/DWETG70y9LLchfVpaSfwgGoHJHs8G/chGJDlZkyxR8lAqv7cIvRK1c0esd9SIHf4cqrYSDJx0Tp/e8n2Ql1xQ7mRgX8pXFEvAV/efFMNpWx3qi6cgIzEkhA9l0hA1xdgF85Oa9L4OebbJ+nizHeEoZlTHM4ZVJluWJbvko3MXql7GsYTFPJCAAACH5BAUKAAEALD4AQACEAIoAAAj/AAMIHEiwYEEBCBMaXMiwocOHECNKnEjxYEKEFTNq3Mixo8ePIEOKHEmypMmTAjEGAAAgpQCDKlHKnOlQJUuXMF/S3MkzZsOLBH3yHCpS6EKgA40SXerRZsuFLJUyndrRKcOoOqlqLaoTq0OWXreKlehUqkCwAMyO1apS7VWwa+NaxFkRrdy7R7MGMCrVLV6mPvnqDTr4r8nACleifcoQ4c2Hfg1rROzU7k8Bj2sWlhxyMdyBns8yVvxW9OPInCV6zqzYMmvWBB9bRp2aLuLYYJHixnox7FvLhGvP3avXJ1rdoHNfxJx2c3LgSZ3/pU06ouzRjbuuhk08NXXupatr/za9Oqdw3KL9qpfevfp20ecLXl8PUa3V1ovhc+YeOq9B8A359lxzlX0G4Fb85eeffNg9JCB5SPV3oFyUJRYcR8ih155jBionWYWCVWUhg7Yxd92D57XF3ngkOjiacZ/RJZyKGxk1oX4y4nfhXYIdN+KOAT4F439C6gVdjmP1qFxfK1Y3ZIswckddSYJF2WBGHCZ43W7bvcgcVVUaGSOGJjbo2mhdjskhmDo9qSFhpy2X043tERmeS1OCRGNydloUZ4bE0SkVgKwBStOal5XVZE4FMvrjcDkiSpSkeSmKZWJHEmdodEBSymafltbZXqb6qUjfcLw92lNhcabXZnHaEf9aJJ5NhqjYcouiBJ2gr2Z3355A4ghlQqTutOuVwzH5a6+Q8glVkVkiS9OZxQIJoJW0mgcZrOQxRe2Y2b3Z7GyPnkpXtboW2V9vBL6a6aBqMqutfhPmuVGc6xLbrkvvOgcdsOM+VW+uJ7XaLJKBKkjYqfdBSPBQBgcrKr8KR8ewdlzaOxmzNno572X5spjtxAxK+TBZHLPq8cF5hXzZwvI+azKVZd5XbLSmPvovs39+qSm30aEbEs4Y69iyhz93XCjP0PqMHGJC61lmuCRT/FqaHU54orSJvqpxdjfHDOeYWGfN9daX5jxStLTiamu0W3bdn9UCf+Zmsu42JyK5bpf/m/eZmsHt5bc5Xpsyive2O7fFU/+s4W2jnl330h95qlGqi9PKt5iRMv3V5CvvzXV9KkuINLmdo6zakoWhpvbGRJoeFuqiup6rj7aSPnJHaXLZZ3iWt60yeQmuPufo1nXpe4vA++xox8SbibywFIue+YDi3i08ncICGnfsdSNMkeCyXm1tg7hyL57jLZYfftUe4avg4gDrnrC2ALN9K6zvmST/t5SDH9UstyeodciA1+sMmio2M/bhL2Xi45QEXXahqGXkasd6IJNKxMGXTVBBtrLgtmCmv4Y5CVbKap3XYjWrIEUNcRMBUeNMGDEHWuRtmLIbexLIoK95kFLw2qAE/zd1N0U1an0fW1veJOYqqpVIiN3TToQ6JLL4cS13RluefXbYtA4KLokiGdjHMkU7Jz5rZAUsUwPvYr7IqU+LQOOhGeu3lDYekSJldCO4RjjEk1VKbB4cn3PgBbP+dc5kRBMRHc2ougX97meGrJ3zGOejVUkMcobrYCR7xkgJdmsnkOtU0R54rvI4i4iDFNMbA2nDT+Lwe0ELnXta6KvEhJJ5ZIIZ+BCmIlhWz5OzjKDwUndGrkCkkj3Ul9b2CEb1hcVmzMyli1CEuWh+sorUC9Ke0EYSJu3sk5srJZdq6LBLRU+YFfFmvMCpw20uMI/lTCcLyQk7+AVQXGe6I376tf9IR0YOjIKM4D2dxU59RhKNucIk+vw4x1ECE2EGG+gLaclKS34QjND7JzAnis6OdlNV/hzj6SpWI4diEaAbs10VkSnHGJpUhdi04iN1mTyPmtNoaQwcQ4spLpoek6JDY6EX2bMpBQ5QmQssFQpBejx6qQtpKPPhnfCmP6d2rqh+et//9OZSqbJMiNUU0VvYRbuIvnNfH0WpESd5UyKRVYdKFRbudtpIFkEOiqJCESq1tTWDeRWlF7prKs8Xpk5Ck3Z/9WDU8lc6xe2RkH+8JstoJtmjSmyu/ZoqTcM2KaBdanas82sq/eKZfsrkloIEbVg3NNomlRaQkukfZF0Jwaz/djI+0aOnXOHK2qaGdCqrJF/dlCRbpt6wVnTlSHDVeEAV9q6VXbMfj/hHNqjaE3nPrC1n14LAs6KWoNqsrT6ZWMf3LYu8uzylLVe4WxgiyLxF++5vksq+12GQq9OJL1GRWiD3CY9D2CJZYsV6Qp2ylKTYS5q+AnxSCumshQLi4X1fV1kBcvfBpbSSrDLG3gSj18FrfGgWN2rKniLRwkliq4AbK9LrFW+ynPmu0hbjTmRqGHS4BWaDt1NjpN24wt6BbW8Tdr0jIkd203NwBNN4UD3ubp84znGBK7o+95ZsftY8j25FfDXU9E+EUg5Y4dY5ZMKhOMxiziuZe0xbNP92PWQm49XSTIvmFGYzeLZlnE3d7CwrZxM3A+bzfFwruUC7ecul9DOfjWrhAhl60TCGtJIlTek9VxowyZVIQAAAIfkEBQoAAQAsPgA+AIYAjAAACP8AAwgcSLBgQQEIBRhcyLChw4cQI0qcSLFhQoUVM2rcyLGjQ4QAQopE6LGkyZMnQYoMSRKly5cwH64MKfBizJs4T84EUDNhzp9AK9KM2DKo0aNDIRY9yhRo0oVDdzad+vKpwagzqWo1uXKpRK9bw0LsipEiWLFoGz5denZg27RwA6wtG+BtXbpx07ZcaRCszbyAewrkexDvXbuBgbL1qZZn4b6GE/9cbNfqXciStdr1i5GlYcuIM3fcbHgvALCgI4uu2LK16o+M/0K+aHn1RNeCWcdmPDthbdu6GXJW+ppoceCPFw5/GBo28quOe8seODc3Zuqnj2O3nvn3xemDo1//Hn89fHO5js9r1r5R5ViR5ZPbVq/7N0HCBNvSR9t2rn3m7ClX3H5N9SeeexoRyF1883UGX0GeETcUafeJ9xyA4VkWIYATDkjXfxeGB91T+EXU4YJ3aWghhCMFyJSKJD4o0YnkuSWAig6Rxd+HLTIklY0oXvfdjdkF2RiIQS2lI1RZAVmjcBgNuSF9JU6lkmcIbrSkkeZFySOF6IV1ZXZZarTlkyzihh2YSOY0pnS7GXgmkmeC19h6VR72XU9y9ridTH7yGWCbR7lmWm6L5SgjkzuhFmiYiRnqIKJ0VbboiDM5uqGIepX22aV/lplhejzudGZ+XuaWp2KeYuojqTCS/1qhqY+iSumogVH2KVZY4apnhZya9d2qYunqKnq9Ikuqko4RiiptoE7lLIs//nUoen+V6N2XkzqpoJkrzmiqoKo2S6aDMUJZ4bW3JsnYbzEmqxK04m5II6F2ssoui7Oa2xOWRNZbJKT7wvatsGpOZ1qy3CU6nqbhKkuYowfrljBv4xFWnZPtQvxqtZ9W/JV26Sq7rqdqnuxoucQ6PK2w7wFr8poop5omxpwuHG2NBaOkn8353mZzRvHuPO+nMP1MacUpCyXej5Bt+qdLTbMcsa0872njkD+7fHXG5ko92tBOEou1rmhr3RvW/117akxFdyjq1qr1PKTAWMtsdlVPN/9Jr4BKQ/oszkceiPTMNy13rMxsDyzz30EzzvGfLwcnH7UrptYldILKTfKKKws+2aCZ77wxrdDN7StFJVNN+uL8lj3uzfDurKjk66FKo7GYT8l1ueQahztVi+1eKeGNenk32METN/zYUE67cbbLditu3g97mHTdAU80/bvVB2ui4Wdr767YTI769t7Y9+sc2IrHdHTMEteKOIaMfq0m+iJztByt6FNf2GxXv21RKoAFalUB7SfABhauZUAjUv/KNyb02Ss72noUraAFstWJrn2TqxwFibS+gXkmg1LboG9mp7PnoYk7Ihxf9Fp0sX9psElWO9abAIexqqFkW2SpYYr/bliiFmLOhttSGNnaY7O28UhCfjIiAvH1RILtpiT7018VYbMkKTouds6jXPheaLnhpY1LZOSMgRhkEetdLiOhw97ywMTGoGlOeB+cnJYWtRw6yo5zeWQWG8UHO53wUYF+BF7s7khIMv6HfRypXAaVqCiovTF/DDsi3L72sb5R8oFG+5zGIgbJjqhwcHlK4hKnRrcRCjCIJOQkV0ylq1RGzFqqSY3DqKfCHTrFX20cWceKg0CHNQ9zgStJJgcpoGEqKplZ6xM0lQkqKt6umXeiGesG+EwXAQpHeHyVurK5Oe9xszETVJakqOfM9JERSggyZv7KaURq+m55xjMSjUYW/8/jVdJcWYwhpuzEK1nqTpah8SGKUMek/sESkKW0EZISusqFzi513uwmPGMpzhoVMaOXc829SInDWXaNo+5k1saYWL6RdlKg2BSUx4IZO53B9KBFe+kXWUq3mY7zcegioLBQSNK3QU+b2EneLlEqQPoQtG/bvOnlUkjLHnqJqAjcKCAb+c+b6DKWGWSiQq0IyB3Ob4gRJRroVmjJGOKyo6EzqwSvWlKvHlJ8bjMoOdEKzLlBMq2RvKvo8mpKw43ShoWcJ/EcBLHDJuejSBRsQQ14P6aYprEPuiNk+Xq6AVIWsFjkXnzY6a3uddKDrcvejn46OdIe8GujTO338uJQBv9mzZIgfFU6UwLSgYpWonXVIzp7m0A0noyZHmzaxLoXuU4ZF6m5TSr5PPqgfu42KCstDGGFG7zYrrVzeg1LdgfHqfG2cmZ5kpRUfzlFLRqsWwCUFaBEY9Q8Rre7nvXb5+hb3V3t9J1WjG95p/s3ySzXt8gNMAAHPML1voSXRSUpHJHX39442HX11ORWhTZTNZp2NRN1Y1fbuN3TghihIi7cexms4tWoFKBs/S/26CTfcV53e+7DVoz9SGM0jpW2parw/TysOvuG6H0OzDCRP+zCI4/skd8Fo5HD6OTCQJmNqYVZlff6USpFmWtX3LLkuuzNO4L5x06Om3x7JlNv3jg9LWpulyqdSlzRSCqM8kQRmMX8vua2S8818zOfp8lDPo+OtVo1dKEI12RF64uY4XW0z7SDZkk/mNIVfUlAAAAh+QQFCgABACw8ADwAiACQAAAI/wADCBxIsKDBAAIEHFzIsKHDhxAjSpxIUWDCihgzatzIkeHFgR87ihxJsmNIhApLqlzJkiEAAAlPtpxJk+TLmClr6tyZ8eTHlzdz8hxK1GdKoDCFEl1a8yXBoAKdFkwIlanVjlKjJtVqkOrWq2BH4nxoNKxZjGMdlj3LtqdSlFWztp0bUSbcr3Lp0jUqV+7HnwD06uUbeKDflIAF082r9ijQp4UVm2XcEHDfyJJr2kUadDNmrUgX2s0s0jPStJANcv4M8i1pkwJWh/YYG2hil49fl/QqmzVB3nh9G86te+NJqZd/CwUOOrdl229HF1eeOkDy1spnr7bo+HR018WP9/8ufLvheNZSpStXP1joee5cHb4vmB78evtz2TefbVq4Xf2tUZYZgL3BRx9xU31XV23TQVaVgdVBdttafyFmoWjuCbcYdNQdqFpwEKJkYIUhdhgfaV5xByB7OJVHW3X/XahYiiitiF+LjpGVYYki9igZgCEKaB5nDn7VlYKvAemjdRriNltz0sXY4JLiVRZTh7chhxlqwx3p4l7L7UgbhTkyeWKNbzGWlpBDeZVWhfVJmeCI3clmInZztteZjDRyySOJPc73J5JtAfrhfXTeGSWDErEJJo9nviljiIs66uGU8hE5nKVW6migd4PSKNh2mzbpaWOfcrikioxedR2p+2H/dtigd9KppFZ+DvWqprFG2KOctKI50Z5haUmqZzE+eCmkLx74ZJdWGaspst8p6+utqzL57JlF4RhmpwcRyCtaMa1WIY48eftts0c+BCu5wFWlLlM2Lghuc+4aiWd84nGqUr0QsZihpdYuWV+ROsGJ4J0CZuncuszidDCVA3OG7UQKNyxmu2ZqSx7E2bI68VqxFjySduPea3BuoHaccG3+YsVyyuyuLO2XMzGXM8yaHoZugE321h+l+HHH35VArxTvzPdxKepBQqf5cK3h8sxqdqaS+yzKFztrZ6BMo1pa0RTpjC+TXRd5bJ3cVi0W2RUdfe26T6O8rcekqlmmymSe/zw1tEQbLevMd8+nd9scBx6y1sK1vOiH1yGO999D4gpyS08XaWieCAPustdyZ2o51TRpuVBQ8oYp7elbgtcyuFvrmzZEpkOdVOpYn33ovl4DHDvJOwFcOW4YAqr3xKMDbVTmJAlP/PNeynj8xxKqLnu5WUdkcsB7l1og78YvLOzkwcYJN+36Ytx9yeP27XH0vWY7IdI0bR53Ye+an2qkG08OfMwcsR9FpHUdScVnVp4zF8gAuCABGodurkuf2/CUMeic63IaMWDzIMg65wFqaZICnluA90FC5QlnDuScCkFoQtiQkE8tpOD6fkW2xwHtdbzzG/JUqDJb0W+CGBqe4P/MdzeZ7ZB0QJRhrpDILP4dzWw2EZ8IuXc1Hq5wUjRMlviKqJG7TfFUuRIYliCoRcZwsSJPc1jnQoVF2H3MTbUBlhVRBhsE1k538kOakuYHx4LZsHMMJJfg1liq3VUxSDQzpESec8axDbKQXlOk0ypGsOzl6XuwaeLn7vi5s10QUUnsUxyxR7Uvlq2Ny+pY5CD5ydb88S6Ck1jrErc4F1bskJF8nyA/J0s2LXEpXHpiBFe3S59ZbUznK8nhbjjLTQ7uZqhkHzQVdyQEyoyWUHTRZaa5OMOpypRpTGYAxQmjY1qOPbGD0neks73Z2Qsj9fndDyE3OHXCz3av3I26rMf/SR4Fcnd6g+M9f6nPeTGzbZ65ZifR5Ec9zlMkO+Riv6g3PkWd710lZF3xyGk7RGqsc620qPbaB0ONVs2drsTeu1QWl2YGMaVV0iUtNfnPBPUykUlsKRMpFkz8iS9YJm1JP5vVSFNiqJE9tClHRyo5jhUVg1ZCas3u+UB6HlF0Sdwp64hFsUf605JJXduw/AOernlncwqjWk1f+lHo8fJGUFXlN71VqBnStJ45vKJJHUfX/FSLcl0NJSXJChgNckyOSvvrDsG5QJyuKSkpFCBK1Vcw3OV1dpKF4R6xuNbGVPYrU8QsKku4WUS+jJ5Ne2gVhZlPWHpOk5M9JWphqtrx/7G2rH/1FWyXOk48RgyCdJwqMyc526s8Z6bgs1BwX1pNC2JQqvQi4w9fiM3+HZCsvmULmYib3OrqVq5s/alfN7JYE7pIjP7jbf3U27HQrsuaE1Sgbn6WKJnmdXi+6xlYrUJfGmYXW1d1qn4xpUtl+VJqAe5ue1s0Ja5Zd46A9e6CCQoWASEQvUi00US9OhcLNxPD961lSkHaKu2ak4pWtFJr42kx9mLuxKfSqlKZCy0WoqivIvOpjGPprWeFMa5nMWiO+begPd0UlCJtEJtaxlVFwje2pFmyqpqcyie7eECMYqdL0abcCIPtx0jGcoLhm7rQdYjKRINym0gpw62y5oNni/oZDqckyzG6OXqR7eucCdxmJ4l3r88cD5+bhU6cAlptXxu0WxxMy7Wdp7OD1llDET1EQSuaxpU04xu7tzRIY/m7xa0x0g6DyUvTxm4UtaqqSslgU0eVcKkG3aov22pXv3qlIlazratW6t3uer07TfCv/wXkBQ9bMBQ+NliSLZKAAAAh+QQFCgABACw6AD4AjACQAAAI/wADCBxIsKDBgQASAhAoQMDBhxAjSpxIsaLFixgVLgzQEKPHjyBDirSocaTJkyhTSiypsqXLlyQBdAygseFMmw5h6twJMuHMmjYZBuVJtOjHhEKNKl2aceNMplCjGkQaU6rVl1QrZr3K1eTWiCyfdh178SvEsDnJqoUo1uPPjWvjDmyL8a1cqXSTroR78ObQu0rzckx7lq9Bv4IBu0w8NydavQ99CpAMWbFKxnofDwYrc3LnypZN4vSomXJfwn5DnxzdlOpbwWJTq/7IGnRjgpgp5o5NeHZj3g+Bj9yNurdvtsYjG75tEadpoRqBHkeudbntiM4/N46uMLdlxsJtC/9mSdr69M3UmYtPTlNhT/OAZU8Eb5N8YYFma5/HndM7+uD1ubcXfsvptx9nrvXHHoIFsmcWgULZdaBm/hFk33XtKRehY/DF9RZ3dMFm3IPqIbRcfp6RuNaH0YXIHl0q/mfiVA1eOFuMGKLFXXU2wiigbzjKaKGADe1IkZH80RgkWUFKVxB3VEXZ4ZA2KqmdZU12NyKUEGZ4ZHQTObnWVgnqZ6NZ9kkplpTzKZjgmHyV+Vd7aJ74o5fP4TklekU6tSBT4emGk3Gs1XmYm2AOJmGFgBZ30aCEDmVoQX4ZWaif3w3FaJtdAmhfn1XqaSBXrG0qkYSe3gnqnUMSOKpqo/L/5p9w45n3JqXFmUpUrLn+mSRztWoopIyv8sSibT1uWZmI2CmIaokAGnXssMnSuOyLfyLG4aGcBpbtnBty62WfnZ5W0ar8fepoUfS56GKX5HoZraDqqvvrTpLleW9d4NLJF6NranmurynleyWuII1qb3OEiXkqwVJpllmH6B60lanv3kjkujFWbC20goq7K8RPQllqvyhdiqGVapLslssmgqgpyqtJiumXLOn7krbKoRXokkdR7OC/MIvEs8WJ6hcwTB0PvS9Mxfa856wwV8xszC1yeKtoNEvd7df0bjwvgTKTfTNKW/PpWZdp7gldZ4F+PLDcM2J1ttps+ttq2Er//wk0snbulB2NUQ9LuGcnm321uEfzt3RLg5dceG4GJ+7v4gir7W7Dbgc9Nq6hlgW31kTrFXfmDOp6n7mnhR7TpRcreG2zYQqckqyQRhpjkLWeudHCpg/a9t8h/5b7obtPPbTvZu+rrcd62y3s54eKmDeSzOUsNN3lqkRi081a//v41UYPfsncFyyg9uGijnS6o3/s4623Vgol8e9JmTevnMGv8N3NQ0/9EHU/qG3Jd2m7FvbkIy+k6ax99ttf1/jFMjslkFgpUpXs6iY1EcmmYnIyYPewNr3s3U87LJKNkyzHQDmpbm4NpJKtGmS2sgnQdil01gZb6KfCJQxbVirWCf8TtbAL1mlhlOscDEWGNSEOcX0ahJeySoZEguGPYY4jWMYKqKf1PEtqsesK7sA2MSNJsHrb2gvwGkUmoj0whqfJDhcdNkDAwe+CLwRdnNx4sL2FL0BztJ0Ug0c3q0XqMgdU4sOE1bYfXosxbzRaIlPmtOiNEIZjLEwey6OzRQXIj4s03so0N6gA0q4oDpvYhtq4REVtcF65Ix0ZdQLCGWbReZzDJYAYaCVYFi0ktSxh3/YVRpBB0G+sAtYvvRLFvbjoiIELGhfn5TrvNZMzz7RgNDnJpfRUU33TdF/AQli3TJ4ygJE0nyLz100mjrOHucQgcWToKmTmDZHUTOaGfKT/Sg46UJH3LNE3JZlPEkFKfmm8JAmrAsd3EiVUHlzXMfU3vjuKTaDtNJwyrWlQbAXqZBQt16rS9s41Mm6Zq5Mk8drosGI9TqRp3OSXuLbSPbaUZi9toCeNckGFMrF9kwJYBtmXOZKitH8aBdrmRthT5ARSXEZlGg616NE0plJtaHxbDe/0vT7azTTzjKNVBblRXNlvq6xEmkzbBJR2rU2dpizR6SpoQ7aRb520yeDkPglXS8pVooUZ4uNCapWW0bV0Cy0PGJPJSzguxbBUTFRlBvq+f5aPn1GBXhm7yaLkTaqVv5rWUjR7Qy52tkPMwyLrRMtGeLJWe9oLVmLLClV9/xrTWG89qF9hC0XZxpWQrHPdWoFJM4p2tHZvS6duD/fTzBb3rscd0GCumsVaZWxFNgtgLHVr2pjqkEe29FB2o7fdUvqrNDfz4WxBKZeRSva2hyNtKymL3SE2VzlyxOtkbQur44GsmEylIc4quh3+jiWWT9NpPNmr0V4qmL6N+iNmCwlYmMKPQfH51v+EWWEFXziw+j1wPCXU1m+F85wFPpCM6HfXvZ44PR/O1G8b2i9IQreZKDJNOq/C2hHyb3Xh/OJ0tbNjEfv4kOlp3A03m0kI4yWhIKNP8ITD4jzBLsRdQZHoMKuy9bYnh/vR8uum2OUZ65is/YVp7Bq7WfD+cYM/z4rXMQvaOeFOsL/vnKtqcYc5FZuJrHlk4HLdp+L0NfeNbxxumJXHXLUCsdAiKXFaWZxcxFb3qOeR9B4HOa4MJnjQkGYrXuNFtVGG2qmjzi3J2Hzq4r0Z1UJVdGiIQ58i37LVrZRzigmNa1oWJ8cC7rW3ZilsqIS12MeRNbJFWJSAAAAh+QQFCgABACw6ADwAjACSAAAI/wADCBxIsKDBAAIEAACQMOHBhxAjSpxIsaLFixgTLmwoAKPHjyBDirS4seHIkyhTqoRY0uHKlzBjWuQoUCOAmhw7ytzJUyRNhApvAv3Zs6jRigsJ2lzIlKnLo1CjBkg6cGlTpzqlajX6dGBTgV+nMsy6tWzKrmCZpqVa0qxblVTRHvwp961dinHJPqSr965fgy5z9gVs8q/hiIFzTiR6uDHOvFRxyq3r2LDNx0Il96VcuazcsDgrcgbamWtf0KQpjh5dWiRqpUEfss2M9yrr1hdfV419cHZu24Nxq9Z5lfbvljo/C7UaObVwiS6Lg2zK1yDkq7CfIw5avO3u0AU5Nv+PGDb62K42b1vm3h198s0Nx7NUmxo5bO/axTbHD7Q88fPBZaffcu/lhxR9abnnX4KFbbcWgeAZONd/aVUYHm/WYaXecIsFeJd5Fsp3WW8aenjRbRuWlteDmj3Y1X7GDfUfjHml2NmKA7Y44Iu0iVgYav7Z6BaOBMG4l4nfiYVZhCRehxuRXvUYI5MOKtkfhPM5KWGS4mGVoY5UJkkYYwJuyWV8XhZUI1mUtanYhM9NxuZ78skWY50S8WemnAKOOJF8eJI31p5keScdRF0KmRGSZb7Fo3m6wZYeoyHZqChMtx0KXqDORVmUeZeqlCl2SXKq3Kf/hbpSWGsKliGQaUr/2uCZ9yHYpK1lsUqgYMrBqqeMfHZqlaCRSjWsWO6NWiR9UI7pYbOeWklmT8fyN+2XUfrWqbOChhnirpTC5COL2w7I6ZJqTrkbiLRmqS5P4+ZYrqaIYhjtkeyCN1qx8OKaLbjdxQgqkuf+y+2t1IUbUrFBsqfbwH++m66PlAWsKkbN/aQruWHGu6nEFuo7a8X+ypTxj8wKhdqpFwpY8MlglsuxsXOuKetq8OF7mrrBJsagVgqCe7OHwR687JGEifyzqAqfDKnKAs/q7XwdsuvmxUiTRJvGKRstZm1VUyizjCYPOvaRASdc5ajQTp011vP5PJPD7RFdYJ70uXni3eKm//wrYYeq/RKO/K2M5LUL+232doHHCheWhduKotQozSb4gcviHHK9YQYNpdxw2/ng31RHqbmVa+e824Lthv6Re7J6xKOucrra8r96p+Z6h40iXuXoUNf+ZqOX3y43pmiKtnO3tyY6PNlX0ggguce/1KXy2IrePJq263isiyjjuLvuM0o+ssLELn42wmZvjPdZd9PLmOvF21jc05trX/ah1fMOJ4fAek/RzIUl3w2uO0qbW9b8Z7tpzS5vAkSfAgOoMwNuh2SM41lhHmgnCy5KM1d73t4wWC88VcdgJPLg3qbWva91MDj0+t28EIi62xVshWNrodtMB0NS+a9jNDSh2P9WJTESWm2Dc3og7Nr1KhomjYD0K2IPP+a9JBbKcUskWcCydj8J6m9dc8JWz4LDwfUdB4JlJKLXWDbGBcorig1b1g0naCdO8euD0mKPG5/YxaGtZF8lQ+FJjlis0/URjOMD5BzdqMKJYSl76QLf0pCXPp9Y0SOsg+TRdpQqLz4ugReUYP9c6Egg7vCUlSvg4SjHQDI+C4JiXOUgl3c7UNYwMTo8E56MREDd2CeSKGFZ7/h2ywgiLjG7lBLwfDk9YP4xjPf638OgOSmXwbKXUOPf83hEya+ZqnxPFJm1wFmfINKwhdw0yhwbyRfBtG11iouYJs04knWyckK4zMk7MWP/OZDVMH/09MwVITkiP63vUXaL5fUOk85Nosugp5vk/zbpTn9aEpPKtOHWKGVQjKLyo6+TIC+t2agMuuaR0PHkE4OWzrQF0n2Cyuc80YbSJV5UWEFpqUvVBdO4RXCmE/ocNOE3QGSmLWw2vZCc7Cm48eksnORzKVKHqlT4MDVNTq3qMGVHTCrWK4RXNRSAigeS+VEVe+XKFz5d2dESpgk5ZE1cAk+I1qeW82CNFOvH6FpPVVYRh3ZVaxU3pNdy8nWWTBIqVN+2s0N+76DPI10305lUVI7SYnQyXygRGhXpifWOSX1sP7k2x292VkqCi2EtcQor8OEPbJz70BRTehJt/y12orgV6Bf3+BHbrpa3JYUK6AZK26+qLp+K1WpKs5q6xPoTZ22UUXJjt1yVVuqKqgVsDs/XxJnN1bqI/dcdf7jdysprmrZ0y9P26S7forWfvxSsbIEHUjl2DY/wbaZ81+Pd9p6zhw/UVavAS7P+1vGoY4tc4wZsJopSTqq/LeYmF9lgmzlStcLslHsbLM9bOQuh5mVkV6NJ4dMe+MNXNGtdyffFEkMlmdM0rTNxule2ErgoMPZXW4MLs3aRrpEC1dJ4oceg3L3QufU1S0F5M2TG/PK2mSMme/kbYWtqq8fBrXGHAWqXAfLxvlgmpZbfF83SHLac0rPvVqPpuY0y18V6SPxymgVJYzbXzHxvfmatSOjgzT1NxdCDqL0qw9LZ9lnCnMwiEk/mYt3mFpuWJSdGp/wXI4v3mlUa8okDKpxcfrOim/NthjnsxxmjeES8DDOXt3TmDonvlarmNG5andJXV5KUee7McEF4VithltTBvFs+zZtfyQJ7rbslsvHstcVjK4/PYGSsZwPpbH7WlG5NHGWv1FdteApVtU1VnX1z7RfmSAxQjtNutwHnQxJl25PkbvBr473uCWay3o6hN75vypOAAAAh+QQFCgABACw4ADoAjgCWAAAI/wADCBxIsKDBgwIEHFzIsKHDhxAjSpxIcWHCihgzatzIkSKAjwAudhxJsqTJgiBDKjzJsqVLhyk/CkxIc+XLmzg7xgQws6bNnECDVpQZQCRBo0KTKkXJs+jPnkujKq1p0KcAolKzvqRa0CpWrWBNEkVa9WnYsxvHmj26Fq3biUjVkg2w861dh3GbciVY965fqAdTNhQ8cO5frYbpghy8uHDbwzjnfjW482tfyFIlN11YebNiwpjdWgXMlnNjth8Th3Y52mlZ05Odpn68eqPIvAm/IhU5u+fulbk91+54++ds3T95q/SdHPhV4cMfBrfYnLn1wNBLu94ePeJ0hNWdFv9PHFt78e4Se3cNz1iuT9JMKccErNqveu3wYeu16ty0fMLnrbYXQwO2d9p69D1H1IL78bUcZgWCV5+DoCG4XXAMCqSWgxPa5VWDFxrnGYYHJthTeQQqmN1hH5rInWKozWdhcShSV+FfiXVIIXQ1ivfeZw/CR6KOWeVI2388rsgcVyn9FuN9LJoV4Gsv1tSjg4ARFtuQR54115QzNvfdQxsCqSF0XIb2G5My4oeXc2yS1xhuXYa1Jk1n3vhiQ+PhqZicZZ5JZGZ+ZtlUhUQm2iWKTnpY6HYMIuddnXtiR52bOPaXonL5vcToo4NOpSl1nFbq0qeN3lVqhIqWNWBrbHX/GCqhZ16HaYqugvpjrF3OGpmUK3WmZ4xGXgbkp9KJ+WhQXwYrbI/BFdvmsSvKqqyvJKFoWYmV3nliZTtCmRG2J2nrmZ7N8vqtsTuReytaDOaVIUSz1ddomthBS2lO8Yo4L5kq2Rsevkjyue+veY74XKeXxucYmByOSi2iZl3ZknLIBfqmfOqa+qfEz95qMUsk6qtdX6mulzLE1CZM6sHEqWiyYwlrbOTKEtd8KLe24qSeWpGu2Beqzm5r484um8nUvz4/CPTO5mpZrZ8Vfjqv1LFJbRKYKa+rJIwDNVl0wLQZGe653Iq9tcRdy8Zz2Gj/DFKE777Ibtpzw+yRSuIy/9R3rpqN7DB8yC79dbZ8BwmT4i8HfrilNMPd8I6sLRuibTnjujHYVFLudtB/Y8Rq5nCRDl6ytZ5uuNc6uwu5f4vT+KC1BicNoOVjwg064xr1aLF60Zpet6FB9/xtwdS63nnkW9JEcUQaL9+Z8ZEDPKxG6XL+sIrDOyzw2e5Nvvj1447dM9Zz6r28ztN/HGD2z4+E8X7yQp1+zEiG7L6m8B+ovN9T01nqKvK+5gzNfp1q2wCb1rADls9FXrva/SzEMO2dCmkWKt7mNPOt37QvaViyIABvwjRDgVBzHHSbB8GluyQtkDGVa1/9PghAK8Xke5KrngjN1i31gUeG/hIWwP9sqDbNLTAv64tc9vCXwxnKCDmju13tWvg/YrEHeyIinBC1ByvHSNGIQKqiFxUnxsZxz0fzAx/Z2iUiOYWwggT0YemISD+qHagzdIRS6IymQ8yRzHJvHGELi7gjIsmNSoCaVuXq87u43bBieYOe09BkOhquLXo+OhnZpjgpITkLjh4j0QlJ8p1mNapeZTsY1z7psQqKUmksIR8KF2Y4OrqRgiJMoN66mJa3TTF3CbNlW5oXyFv5ipccIabhwgepJz4yfzsrVRIl9blItrJ3lITmdea3O8f164V95KJz2AjKXvbNm9mcmCJziElybYuP5UyPNUW2Tm6ykGNgW+LePHf/RDlqTl/Gus47G4M+Mb5Sn2Vk3tdKRklptkxphOTIQYHVvaV80YTqrJrCbCitjMhSKhdtJvumBUXn8e54GPloVJpHN5GCcYVWNE2EAgoWlgLSpeKD6RjlNNN1kvKmyxsdBOHWvyVl8ZqcxCXmWrU9RGbunKzsIiY7qTrE0dRbFNGnJoMJJ1qKL3X2FMs9ddjSpLqSlUW0oVnzOTbBSZJicH2cnpSpH4rhkI4hdCu9pvVKlBoIn92jYVlD1Few6VWSXBUgdlIYSDC1z4Ep8p0vRxK0sC4WkoC93CAJ6kyDSfaw2BRb/GA3UHC6CX2Cu11pw6mTR44Wcqudme18mq/9/6w2nhOprEnhWdu5+o82WXvcKHcIVGxytbCfXedrM2va2jI3k0Dh4b282lQlUjSXEHFoc5Mi3YFRt2cs065ExAvatcFQnhrTFw+TGtzyyg+4wm2hFg22XjC2N74XlFqo0HVG/VR0dRCtTEKtx9n9cquwyMOtfANMTqFM9KusNWw6+dsx4k3WvZgLad1uqUwKV9fCkn3LMU261uaGjqFQVdUuSQzGYhK1LSjm3YCji9kNXpFldcXvcBg7SzfhuLc6rk1EXwbWK/oYZJNFT2LftCojkxXJGMaMetEKIr3Oi05JFPJC7Vjk7cIWRIK6LmSmi9gM0tY9vpWgmrxbZk1eD//NeFOzkqkn3rwqV2hB/hh6hIrd1NHUXEM5qWiOGmKl9rCfjEznjxFD6K/RNZwOHawyF+2ltjpa0OKTZf1gt2bFylSVQWTv26JMKFmai89LNvGF81zqVX9anxGN2qWjw1B+VhW6+oVxjRWcqbvJFtcF1nVmZ0yrjB54V83UtKY8TGyEGdump6Sti5jtTzud8bWJtit8/0vra/82sHwtLjXnjDpYqk5/y40wuTen7JFq8KzrLh1GpTdWlVY43g2rs93qnWSVVTveCtRhWjMHTHxn1cmntWZ4v2vwLDPZpK86WOgazuvtBS/gn6b43mj3Yo0nZeICx7THCYXxkRdJVyYLh9C/U56TZhMkIAAAIfkEBQoAAQAsOAA6AJAAlgAACP8AAwgcSLCgwYMAAAgQcLChw4cQI0qcSLGixYYJF17cyLGjx48SEz7UCLKkyZMnRTokibKly5cRWQZISJMmzJs4X8qsWTOnz58mSfK0CbSo0YlChwI4yrSpQZVJezqdahQqw5k8qWrNKVNg14FJv24dS/Gr2ABhr5JdC3GhTLdXpcZUy7auV7cE4QqU25au3b8DVQIenHIp4cMNSZ7lmxfvSr+IfyqGvJeoQb2PIx9dWHOnZax3CVoNHdiwZpycaXoWDBot3dGuRZs+jVMqZtgZ484mXbk37Zu2HeNWqPvya8Osf3dcvLt0ctepn2NsnhbuWc3Mpz+Hy9jhdt3WHdP/vl66Ml/pzmd3doy5Inm271sPlf3wvGr24stSrhu9uez5mYWUFUKGTaZcY939N2Bi+z21YEGwxUdYf0N9FVxu3DXHGoCsnWVWfnZRyJOFRKUW3nMbDtjhfh9KqJVUFR7H4Ft0kaiUetTh5+JWMI4o40HtxQYWZDemaNxkO46V4oqN+ZaUcQoqiCRkNPI22JKzVdnakwWthmNud33YpJCEFVniVV4auKVuAI7p24HemVkgmseBKeRwbQ5JH5xdCsDhnDR2p+WUQXp4XJAT+qkioDUq+t2YhOZnqGyIHtajVTb612eL+FnpKYF5knUpow6i1xinaooJ0Y1kZRpmo+bN/1lqju7RmSBWPX4KlKvQwYqrrBB+pmuA/WlHFGytKsogaUwSSFp4p/p6K6Vs3rdVasvemeV+EVoX7ZjTlhaVtWvFh152rV2U4Uh0imhqU+Zqiu677GJLrFusXkkrmXqCCmyx5fU73UR22vUov8MGd5d9bjorYJIwxQtxsMblijDFF4O7r1ESNyhgxccCO3DG/R7MsbIUYehxrHvGequREk2MGsoEExcvzC4LG/CbfTFVaVqVTSqwgOGO+upcVsocM4jaAg2krzUXHTKmKwupJUxUz9UsRxlaRa+4VQ/LM0pZ97X1Rl3P+XXQYZM8dmELIyfypjT7S3XBboPNcpyBbv8Mt2sqIUv3uwBmeDXf1dZHHIJ+z/y2g0k7eqa6KOPt28Fqsut4unFGXnjbjLMNOefP0ol0S4fTeKKm62lM+NwKhhuf0qdHHu26/mopdcJKad4z6j+Gayy0GIueN4Of7x3600EFr3NE61WaYub6Jf8ryNmaFH1xdDOXpNcPVpRvqEVt/zbxDn6vdvgp9/7r2jqZPiSX9VLJ9J58uUii2BfTzjy/t9HUt+imOOUdb2hO8piqUCK0r70OeZ/BDIn0J61tVQokDRTgzhwGshVRz3i109btQLc026EtPERi3eI4iMATKs5yLgQgCUe4PwKhq2Fc81jrSrJDe82IacEBGFL/JOcRpQmvfXby4dOkdyYhLu2IvrsIFJ+oIZ3573zyG90C1zQySIFnhk9DkRXBODovjmyLgmtZv5ymPTmZMHsWwVuPVFetc7XtinZz3+GgtBE5hoyOOYNjFD9iJzFO735ctBoJHxgnGG6RbCs0JI4umMgPrkqDr3Ok/aoyuRbirIQE/F2sUrVIH2Gtk5/6ZAiPJspfkVJ8ppRMp3qlsdSBMY16+98r0wNDl0iwXRW0pRRhl0s+7jJneAThAUcYMSL2iX9TOpJwntfHFfJPmskM4xihCUxsJu4ke+SXGMeVzb1NjDxK7GUMP+WZ9FWrnNdb5jMfc0hf3nGT7zuTOuM2/66vWXJYjywJBfmYLxMpUFH91GDpBNlCeOIQlHKSF9QwpkrSXZKPrGQgGBNKvjdSFEdl/Ng8MyrQRuEtU8OJUiJnNSuhGctnJrXmxayHpQS+NFjqJM8Ud1W1W6lJYcXjHBPf5UQ1XrOk0KPmT1G5QQ+mkKjODOlRa4VOb+nHd4GjZragaj2eVpWSDNWYAU/H1QE5VKRD5J9Tk5rDgc7voG2slVot2FOFPsatJMVoTpLIookqU4tZ/IhOV1jUvRK2rw/dZyXJ+L/pTGangkVZoeok0a0qVYeVbSzgImnX5pXNSj5FbDz1KtUWeo6zVDlbSEUEWmCBD4WifWhYy7etAv8OqauJfC0KGYrXo6gsnLYVaxwzO0i2/NavF50n/Ixq2pFqhVOqdS7umNXEb2bVjKGULVfsp8SqRqtZQbSu3LA7QO36ZLkPqxpYm+ojSxqUvD9Bb1Jnh0g1xsi9CPXVWYcpRgjWDFUTDShfzetbndkRfpqc7EMnGNj9Rtax+Bzg9tDD1/Wuslzckik7p6kyCh/Wwq1EDIgH+8kY/ZBPS6PvC0HKSw2/FcXZ2mJhuaS0wc4WPoE97cFwmdbOaVbEP2LcZy0C4tK59DDt7FN423rPvDbXuFUc8G1RG6DHOTc3OWUsUCRJvfdatGH+PFR+b7yWIdfvn1S0I+UAY+a7zpLecqFdM4zL++Mvb7a/V53zEuEaVCFXUa6nQbNHAQbUqepSy8/NsXRjmlXB1VjR44G0Zt3FVDCzz6PYkbReKc1jcV5ahij2suISylwJa7XP8kyWYo2XJ6iOq2akDXTdLFtoouWIiQ4+WZgDmerRvpXBen7ylM1ZSnVKOdhHtVetk2rswyLbXyTNX5OLucFn3zRI0u7xX+1s7YAp2KI/wxeLuz1MktLvxYMbN7nbuNQdzrFRAV33fOVn4nielGm5HsyReR1reT+4zh3ttb/tWVBED7ykBT94shSub4NvJCAAACH5BAUKAAEALDYAOgCSAJYAAAj/AAMIHEiwoMGDBgUIQMiwocOHECNKnEixYgCFFjNq3MixI0SMFwUAAOCxpMmTKAeCVDgypcuXMBuCjEmzps2ZNnPq9NgSYs+dQIMO/OmQqNCjQnvixIm0qU6lC1VGdUoVJdMARqVW3WryalaBV7mKlchyJMmhZglexfl1rNiyRM2eBTtVK1q3WxWGxXp2aV2ZIs3uxXtTL0Koav8yhAtgMGGYa6PqrTsZZNaVlBU/phmZrt/JAi9LzryZalvMoecWPB24NFLWdFMfVp24reuNjgnKdSxaLlHQDitrvp044u7hsgsy/m04eGXiCHNT7Hk8tt2GbX3Thi59InXBo4sX/92eWi50qcx1kw85Erj16Iqzb9duG29Z8ckTBnYfErBB+f/RRxxqizWXWHfKGXgQgeplVV9e4RUYGYIHItffhQ3Otx5hCPLmm38StVeXeauldVuHFmoHonGNjWhihufBp59XHyao30M00ldjjDYmmOOL1wUpY4k6ksjjbKypeFB1H5GG1ncPxmhkgkoGKGJEfsHIV5TnTWndfUvWKNyQ7/GVn5BHenkhmFaaOOaCTiYnGmFRkshgiRlCCaSamLHVl15XjlWnmxEGmOdZVW65XZ8uerafhUHdSZeS/BnKHqHlAXkmmGxiiF6LVEl6qZ0KWsqYdYlu2tql+H1KIU2I2f+lo35TVqqokrPCOVFZr6YUK6oCUgmkrUUiGuyNZD16lF/M7cWsiSICl2um1HqKZWZcWoWtaraWeSpfb06raLW9etppqIX6qOC3Z5Ip7K9oMukohGVW+GxcG6I5KaY9ZvgZpDp1iyZmtQKsXputVohdvjsJXO+agaUXooYSz5giw4VVRGrC/erbJI6rAidqTOVu7PHD5T5M658EpvyxsCozpJ2zo0VrYZbW5nwwzJApxqnBT4I3JK+ldiyqhyu/1JmZunbc7stl2nwu0zSbTLLPUcHmNNO7xgluZQ7+CZ/VT2m6tcB+WmYsx2rH7Pa4TcekJttFRw0q0xXLKnaBC2v/nZJjInv9tqXJ/Sv1cFO3LRTgzeHM8cI7G94i2quKl21Ojm9ts7dYZ87c5s4dutflGmXOMeimh+Q5t49K56e8eGqLbODLsbwqVKCL5zrQXwJqNuEeLU17xISCifvkWA+uM9+qE/8Q6RmNfOuiWfOLrHr/zjZbuS5XJH2qF5J9+t3zhrk97ydzVLJv0q8Ice8gT+hkfYF2tD6T3DvZMsC28qf4+b6iGPLKNzTBwUlt9YPa1pCVwJKEDXV1s0vqLJapV9EMZKnpnszWczz39S9ddtPaBzPoO3zNzSQAYhXzCCjB5AWtgEuz2ZTAd5LjIHBvLHxaB6VCtOxpJFBTK1zl/3gCnhtyjkamGuJkcte8jQBxiJGDYunQ1yYm7qx8OKOZnxQ2sOrBR4PK61sRh9OsdEmPP2Wk29Ny+MO9pc1FJ3SUcMLGuYfFEYUYYxH80PK63/FQOFKEl6ju6MA8KlBjhnzTtZamJd1F6ILp65oTE/mcZDHyhT3an7vAmCwxgoh0aWyi+TxWMApmbIP1+Z9PWMco7ZFyWJ2jYpMItqcdGY14qtwXvjAYpFgJ0oUlCdwMbdkqxuRyVKqJ0uqAVccFqg+OwSpWAbEXy8BdMZPVo5TznGk/aOKqSNPkYzUb16im3ZBUfJIlL6tVwQgl6mjoI1Apw6RNdv4xmND0lzttCf9PSYYPlkgSUzapx8kq3q19HWvgM9coym+Z0JCFxB8IV/i1kxwTi9t8aFCg1zyFXi90G3weQb2WQI7qkSJLJB9F3Qc8V3LRbluESbbEB9La+HF2ZFwPztApNJTM1HqHROa1Yua3fx7PoxxJ56us+EeHqpSaBeXauyA6MdEsdYAHLKGxRofVjiTppm0sn56GKlVeRgZeL12eWN2ozpCKcqwvIx080XrP9EmLrTuR5vKkk7drIpSXeYuqd8C5V4D19S4txI0XgyRYbo7yo0gUpSsteLPbEZMz6CtqZB1GtXhWVk8mdcmP6ArZR8aHqrvr2l+Dd1qalnaP11znSp2z2gD/ksiqBjxmHxlVtZ4+rqKvqRFu1VhWT0mUcrAj6lMD1lrhUrKddtzbHdUUWsw197bPVdQgpQtW6lK1JpILG+M8SSTqAeaE6YxUZtglTpaWF2GOZW8jIwmUgonQsLazZzMz9UT7+ja4n9PpRJNoxFuKrmawTK5TUGRK+EJSjEjFbnV7Rta0aunBqPyvlghZNnfJNlwC3GWGV0fDpAjYn3Jc7KFiW14SX7YpqX3fVH9LthIfib6anPEr4WXjG6vrmk+UE78yx1Ud7a6xf1MQvuRprFgROadG5l8E35JPcyqZdYMV4/eWS+X5OjKmYURsQLeMZJleNqXw5WKRsVzcVinY/y3gQ/N7f7y8eaYSmmW26GnRaLY7qvJfF83wZmjE5wfm68/rbQ4owboVEXOVv8WrbJjt5lK8ODqnkIbKeNUatzZ7usvOzBWYJfsp74VM0RrmyiUPxWNWYo2jP7thnrtCvAg3Ga8bLPDhDD1pVdeay3gb8sV0jbypufZEv/afGQfcXqF2WpfJTLVbaqfsZnqIlkWFtj59rK07yTd2IuV2kr29zUpDzsdX7Q0OsbkyTcfyxummHmllbFN3NxjdLlJkzt7sMQaL283FNiC/Y+bvfzsS0uE2VyUJbkCDJ3Z6CQd0wxXucBCdE6jk8myvHc7kes6ZshuveFoHpcyJi1y15SwkrwfbKvIzMtvUHj45TsPZzZjLHMXNDvnNRbtnk++8KkRj6s8X/CihmyQgAAAh+QQFCgABACw2ADgAlACaAAAI/wADCBxIsKDBgwQFCEDIsKHDhxAjSpxIseJAhRYzatzIsaNEhQBCAsDosaTJkygTChA5cmHKlzBjOlRIMqTMmzhv0nRpM6fPnxxJqhQKtKjRhkQF7jzKtCnBnkNdOp1aFOpFmlSz/iS6tGBSrWA7csXqVWrYsxlBAlD5dO1AliFrtkRLt6xVolbhzg0Q12xdp1/ZljXYs+dOkoH/+kys1G+Ar4XdHnbJWPFNloRbqrU6sbLlnJgL9t3stqLnz5fhtm0sUG/E0KxR+3T9VjJP1RBhP3YsO2Xisa1xj55sNnTlrr0p/jYrN/TwyW0N8756OnlshH0NLu+aWLf26dYZVv/OPvgg9N3YRSIFHx49X5HHmZON2th5adG2OV9tv/89eYRjfcXdSuq9l1599wnGX2bfHVhbg+6xtFNe8B32kH7J6dfdfRpSdttwFD7HXnAZFthYV+SRBqBjpAG3YEa6nZcigRi6p5KE8r1oGo17XeefbcEJKJ+K4s1n4EE1KtZijrVJFySLQ/K4Hl4JPrhgdT/eBaWPJOp4Epa0cekeZFV6KROZxjGJmJFi6uWdeR56iWaBLq4pZGZullkeluElWdtywTn542r9rWcmfhf2WF6agXJ432l8WkbkiUZGGhtyWbpFIYQvTrobppaOaSRtm5ZH1Z2i4lmlWnIxCKefjYr/iamYQKG6pqrfkadfjWolKih9ph7V66C74ejqerTFt2JEodZKYKzFVnhskcmyByhEzZ6VZmQd3ojbirC+h6mWnP61raYmFhrtm94mOu6jW2Y1Z415Kmjjp2Tdiui+XUJbLlPz6lmvugHmGye/VvZL7L9gsdskulpeS+h3+lY7bLnnMeUwtDGyqa7CwDZHJ028RpntRiIbeu+0vy4crIOXeryrnmd+SHOqDJVKZcmJCjbrkRPrdDCEdU4H5sjehvvmu8vGpC/Raho94sM+eppeh1Q2nVLLXXbr8tMrz3Twxj+SSRXXR3rdcdVT+2xzQ8YirDGQORfIbbr2RrUz3nLD/wkspTHDhHZ06DbKM5zvkh1uwSEP7bRjeYrstcT4+RkmzsxGXbOqcV8euN9I8k04uWGr/PnWjg5Ma8LU3TY6XHa6XrbUjJYe4c0wpu5m3n2jqLtesXct7atI294qaHkW7+rP9oGML7Q/c75qpUzKlLzy+zJvd+Flpfy8Q55/zzbqhJbK8HbTzRw+710S96zYJ5Vq/svGe+y86qAvT9zibWtE9mS6glfPqNY3mBGwLv87TADZh7A3het+omsK2Na0tOIIx03HI1zmvPe6ll3sYxqZoIcq+DrDDU99uGudvx5WOwQxDGUHMxtFSHXC/ODmg5LbHq76AzbfxBByKZReo/+ORxrpkG5gKHTb6sTCpAcuylGxEVSI6Da/aT2EVY4riYucKBidyS6DxAKj5YJ4lRnVbFhmvFfW+mZEHbrMYhacXP9gMiF06ctFENRf8954w1HxrYdb8eMS4cfCb91rj1bjoewolTHWfUmQtrtiHHenLkRKCXRgdJ8MceI+/U0Ef100JPQsiKDB2Y6LFulk9uaYqcOFr4VHIhLlgqZFHlGQjBS7JOk+Z58KrlFvfrzbI+P2wc6QzI3ju93dsEbK7lmIgGRLiy4VJclQVjN0Vgwd8I6ZuRUy0T6R2mIKN5RN6YGIjBxEiSk3Es3+0FA6e2OgwnyHyk/SLX4RhNA7bRP/TxAGjZ64nOHNxqI2KCqyab0UIOLY859YXhKfpouWPg16uicK05/iC90aEwlDHzUUmKtjXJFEiqrMqDKXL0yl4z7aOkCyLT4kjZdJibOikgayjmCEmyhV6lIVEmtmf7vpMXNat3ZKsqeA+2mVIsbKWqoSbYmLoLL+pLneeWiTOdHkF6G0t8NpTVxVpaWosFqSdZZRM1AqaO3uOEktMROPIDwZNiN51p8VU5nFY2sJz5pLuMqqqYTMJPU25Mrp+SpdS5rSItcV0G7eLqjRc5k16SfEs7IUWG7Np0lO+hGb+ZWqQuqn84b1WRfSFYaNdGzcVjcclB4QaHxVI+3u6RER//7VXTJDJr6mqji6sVVkclXiQSmLH+1FBqRF8uYqPwfQ4GKrf8fD0Qfnp1dnvqZCwaucZh+pWoihdX6kA2RkVTWggAFGajPlWF65SVydJpO1tHXWV5+kXkHVMaXulS0DzVpL5bpWhnfti8OM6szWtjSLj/OvdcPWxpkOeLsLNTAjEWy9nTZUrfyMV0OBK5/w2i9a443JKxWF4aSGUpwbfl/MliPhrJqMpgTj0XFzs9S9tPh8QHSuNIHZSIJe8LrpBetUeXdZcwlse7AsJTWTi8nbQAqwQKEXkrGnZCxdSy5PRktoyXJRDZ5WowSa5ZW4ymXv7jBUAl7yIGUj3amdS/+MCu1oe418Y23aEM7y7Cx+LUNMhvo2fdxbMyEn+pk+57enMxZ0RCerpIe608w03qPbdIzRUzk6ipA+bKIVSWlFT6XI80RvppznUc2mCanaUjPrrkXDr/YWnhT+i49h6bUd6jTJTPb0eZOGvVprV9PxzfWXLc1rVI7nyJg+qkyHLawO73TRBXQoqRdsr06L+LuNjXSgi5rh6SIWykc5J+o2fbVuq/hr4HbWLpvs5TwTVlFMm7Ol1w21dlf6lMMzMWx1LUFAGzhgpY1r9fYtb7C8e0DSC/htKznQdKcafdV+W0ZDFVlrG6XIoGriyBQ+UlEnh6hJJadkGavYFdIbNSCN/57IK5jAdJ68T1T+8l0F+6RfFpzNMX9yQU8MyT1//NLMblPyCDXzD3cK6OEEIv4aTO1DxXa14KPt5e4mS4fLBo35jnqpdUP1S1qcz330nZy3yVGnlxvWKe9umwls9lGOdtk7DrrTa+drfjft65/JuLIV3PaX6F1s6ey7YroueLAP0eqFLwreE7+5mwQEACH5BAUKAAEALDQAOACYAJoAAAj/AAMIHEiwoMGDBAUIAABAIcKHECNKnEixosWLGAcqZOgwo8ePIEOKHEmypMmTKFOqXMkyJMOXABIKaEmzpkqYDGXa3MnT5UuBMDv2HEpUIkygL4UWXcpUKc6YGmcyncrTKU6dVLOy3Aj1ac4ASrWKPckV6VOBYceqBZn2aEGFcKWmXUv3Ydufb+PKlVq378CvCN3OBcv3r1e/WgEfFFwYK0GvUBEjDrpXYke3iiWvpYy28cHLeDNrptlxMFfRBr8yjovUsufRGEu/JuwWomq8eqWizgs74+DUkQNwXgwZ6l3bSWf3Nvi7oOLhwCF3Bo6co/LlrKNOjyr6a/biwbd3/959djnC7NuVlnVuHK7Zw7y5hzdc27z2+xjrv1+de+F8xWk1J5l611X3H3z9wdVdcAEWiFiDoskm04LliUcYc/7tZt9nnq2HFYEUXoXfhXnptyGHnVlVH4CzmQgRaLsJiN1eKuLV2oiP2TgRjPNZeKJd/o2no48jPpccke9h+KNr3mU4n2mFGWkdksINSeKSHE4pX4y6MehkeVzJGJeGUck4VpiFndYjiSyCJ6SYCq4pk5mwSZiljuWBmaaD6N0H3Yl2YriiiHo6BmSD79E5GqKGUUfcdi5WVKOiD3YY5YGBtZfkR5M6OBSBc3pm5H6aXpkXpee512iVZBYFapmiBv93G2NU9ulRn7PKSdSrLzqIWamupXqjoY7eiCpZewYb0a9UKolilc5mmmOzu6p6F51jPunpjtv2lt2122YbbUjH1rWeh745+e1erV7UbnS62nRukJyqay278bqbL7xaBQokk1ZmO6iwJCYYaqYsflpZRHCaKDCea9ppMKwIe9mUqhTZSl9XHG8K5burWkRrTxr3Ohiz0LIKbIn7hlzRyKThO66joFEUqWyRSruxo7eVexHO2iIHacs34wvysCrzzLHPGXeZaLenOo1jysCJOzXBxmJc7Y1/WvSdxexlajW1hjbJ9Ei5NnlwyhJ3aV3NVC/bMqXoHu0TqRZ+nd7ClMH/DTLIdNOL9FaqAq4XhjzeBfO/zyIuOG2h4XS2yVK7pvHXWua4ONbxOd5m5F2fdFuKUE8btqmbs9mx3GW317eTNI1OmM8LWpi63/kmvKqaD8fsUYR6uWkq52YfDuvYLNc+fEm0a/twoQxfSnqfCXJpotor2Z0j9W6v/masgx/K5+MhEot2y1VrzSPSaCrddMOyHqi7SbxK2iKmxNWfqr9GiTghx9rjlvmUVSyXbS9Z0eOf3BxGr5zVi3NDY6DjrII8bN3LZri5oAFHAiVnVWhquTkguiyowIqRznbo05cDa7S3AcbncnHq1QH7l7qb+K9xSSsYAmU4O0uha1yZewj0/2wiO8f1ynDz61z0nNWcIrKtdC/zXtSOOLfHdVCAL7yOE7GHEieesEhe+iHqgkauHQpxTQ4UiRd72LpQAc90LvSaGXXGr+yJSH9sXOLyskawk92Rb6BLYRf/aL6SZVFnV/TjyNaXw6Kg7HUz3OMDkRXB4hRwkLKDpGFKOEn6AVJ4cLQjqbTksyuGMo4cepV0nvi2x5kkbUeSJAGVGD6yTdFP8GlSKwMYG+mxR2OQYdT/yKOrosFSd5P7mS9FGKunCHNLaCymlYQ0SrAlc5alvNQbT8fHiazRdIasZUrw2DTNkTGUXGRd3GimtUu2BIYQ1CNyuEdFBkZKd7xM1zNROf+z/KnvOmoC3j3Bls9erq2ckJtg94hEygQtVHXFswoKw9nJPCJUjCHMIbimZ7yR8UeiY6SoGqX5K11mUJURgx1x2iWllApNlGcsqetOikDrTbORZzRnPE+JrCYSCmI89Cl/NtW6DxqRPUEkCUXzBFTGCZWmRAWjUW9pzmtiMaA3/FDlzog7FnpTV2rSqUXfaTT4MHGrYpNaENO4wWHGr3gxaylTlQdOX2VQnLVSKU9riCy5/pSuu7Mr9sj0MSuVT5aii5zH9Hq1Z/EIsGf1Kt64uZNHZlCCV+0eZLMoWZVtliXgIdMiZRZYLX3Qng35J7zYykmQhJakpQJaXU17Q9T/0hOpWXUsFDHYUoauTEhcstMq/YW8OmYylrGDWDq76db9fZKQpioubrkGwNTKS2u/UlwYVSrG1d4wrFW64muR0jaU4Cpy2nXjZXNnSWiSdzaPzaV1dbgW8FrufnB9YlRfKrz8WtWTbP1iHfUGUaJVl6lf/K9TF5YqLs0yqZuErxYDaU6+mndhzekuYid6P1OutLoVvmtNNJw31a4zsC9t8E2xutydkcyVSrwtMalFWMa6la8BJms1RTtfHjq3xJMFbnXrV1DmaTa3kfRxKhlc4M/lisiCpCQuaxw4FvlxaBUzHFVQSmWojbCdKD5xkOVJl6dCWKs7paVU45fh3eo4/6bI1W2aXdjZMzeWKSaVaRAZBVIB3zmhI5LuZmaq5x4vz19WthQVDSXoMjMZr4BO8Bw/8icFV+XRYpbP2siZkUq7OTHtgRLQildjsZpUaQQuMk/ye1TwNhqFshNjzwonxQFJGE5iJZ6OZHPbqKp6J6IeX65xWB9em9jXUaaK3XzqZ2pRKlc/WvaEm43YZ4PYPnUjY2G36draxo+n9SWftiWM2W4PzGW/duSuJ31RCRsIeJ3qTbHZndk5e9Z52jS0rYG47h9vEMKNRtPXLP3mooLtqOEDeAzvlFE7n0nRuF0l53DXUCEfFJeLgniIp8potcZy1Nv1YLKnUl4lMqaVBrhPInP/fVNzYVjjGvVPr+9tvhYfFksGWnnH32tsrP4PXgQfC8o8DJp1Pc9LIQo6sE0MynTRUMTpdjSXzer0BUJ95Oa5crVtrK9KOhznWm9zjhF5ZKVvmdyhBijXOfrzQH9aM4WldnOXDKKDbxjnvs1x4Nhp9r5oV8v24/vb8W5xENI7N1EnPJDmPa5gk1jxVW/7caiqz8EDylI2xzdbwAx5LPKzh6/u/Er2SfeFi94+Xz+9X1I/koAAACH5BAUKAAEALDYAOACWAJoAAAj/AAMIHEiwoMGDAgQITLhQ4cGHECNKnEixosWLGBE6ZBiAY8aPIEOKHPmRIwAAHkmqXMmyJUSTKB26nEmzpsiTJ23q3MnzIU4APYMKBZnSYNGhSJM+PEqQqdKnSTk6NSoTqlWdUqtGnHq160quAn+eTAjWq9mLZcXGLHu2LcSxWjuSDSs2Ily3eA/eLUjWoVq7MfMKltuwqV+gA38S3Nsw5+C2WQ3TXYyTcsqEjh8P7bt0bmLEijUa7stWc0vOGlM6Dk11NGnTSTN/7hyZImuLjGGDlD059ca4PitjzK27c/C9qCV/DE1aAG++zhEXF60XZ9ajpQ0yJ/3ccPfpAdQ+/88eXvpLz7dz1y4MnvJf6Be/u6YrW/1v5dMxi59fUPZ6wm+Jd11VlwFXnH7vNXSUf/cNxJV4gclVIH7tfTZeg+xZRhZx0EFIG4EgVljehRkCqKF+XCFYl28UktfWe8nBV55xEsHUG4W3ieiecDEq911ZNs4oI33m6SjXakWaWJ18521lIINOmqbfjQ4aSGRGKT5pXpa6OTVhda4xqVqEwRFlpVdehghmlVM2+dmDSVbkoltBzhTkf83RldV2JXZ5WE13YighehGqyN6cVqVJI39U8UmRoRYWeqZgilLHaIc8TlpletYJ+lhfObrpnXCAIdlbm+zBGFePZ4FKao2rRv/H5JVCOoYqgKpShahLECLp6ESo2eqZdq9yWStoMcG160y9IvsrrIE6dZuxppaH4rBX+RqnRbUxaOyiI0GplLYidbsltq2JGu65Xf30n56aqhhqulHOJiSWmvLkrqfWxivrivUGfKyZT8EkZoNfHocYeQv2uiO9/W522MGHqqlwn7AS62GkEHPIk8FkqjuRuMCia6+CZwJpMU0gqxwfu4+aTCWrFIK7LLexvtvfqy0aSLOSTF5Y55A9YecZnD+ufCmO21KJstNVStzZtHGp1TDUPjYtspJEupowyz7/W/OInRKLddT34gxx1xuGfHO5bc9L9nNWq+kygF+SeKzRBcf/zXOkdIv15d14/ikjknwLta/GSUJaJqZM11vfq97GGlvZO18oN9S3jim5eZwuzTVLA7KNVsr5ol2y52kLHFTpZDOM+ulyYlttyU/ZVynjGA+924ob6ww7xivpHvbFo/u+HPD74W35oGN/RWhazjZvc3RfKztx8z+XmLSd02uqbYKWHul2VdoTqeq3ratOetgFouY4m6jDObVwi5ev3O4jpRn/0WKDTpbsp5HQ5G9taOPfac4UKpBNjmpDm5/CZjWchclMJUhr3PYeWCxCjYqC5COJsN5WvmptLm0x6l77zqY+mP2OeBhEH7Jo9bin0Q8wNVxSB29iwddpSW+1k9bf/04ItWeBq2KA+qEGTyfEwIEwSUbUn/OKp7VmUbBiI7Tdtg6IG/wlC3QhQ+ALA9Ss2jXGgjH6DhcrYsAvash1LhlTG0OIwsPARHlsXMv2TLc1qQGueqES114GqTXABMuLHnOfWcj3xJ7h0V6Je9gKofUapDCykHXkT9B6SDRaXVGAlUxiHtOHqYMNLyTv+WSiUrcvo51Qfhd8WRvxcrdU6bFEOqOgyvz3vFXiDm2kHFzVMLlL+PUyW1785RGB5kJchVGRMRvZEmkyy4xtjXW4tOPxMEI9MbJkjpxEIjOHhjjD8fGQHyLZ6IQVvXWRS0m1GRM5kTVP5HjQN+q8GjxTJ//L6qHMPrraYKbIs7F28m5Ny/zdO72mNOjNbaD8fCgQJSI3isVwk8JkWvAExaD1hdI2fzsVtkh4K2Jl1H1lnOLJzLedPHVRjWhsKMHcp8KA5jChsRMfJpF3LfA5MqI/06USu7k8YSVSemncqRS9WSB2qq18P3sk3JI6Uzhm06lmhOoFpdq/6BjUNzVd3iihqNSrhrSr6lzdR6k4VrM99Yyq7CJBiXlPGkYMlE5KaS0R+s1n4pCSVOKU0bKkV3/9dYF7bSrA1pnMaDI2rnCELGCtaVaqHfSTuTwrvtzqy/ZZloxlBalNHXtTpCjvs8hjK15Jy1eS7LVndnVlM/MWWhL/0rGqfdxnbGOVTzXF1baLRWosk8evPYVTtwEaLU7vVzfEDjdx0PUqcmHIuecC9V9rjKEy7SXUHRlXhZG8qGa1S1nu0tW7vyHlMkn4wdAmkZBYJS4f+aNAaMJWvlfpKdmyma7swhKn7BNeRM1ERPye7XbmxRgEG/qf+H4sgHDE5s6KOMPHnutr4hRpVLb51c8ZVUDDFBf7Svvg9Q4YmJmCUMNEPDuKuncnncMehx1aUYhSBl5jmxN70XquRP7PrpKk6l17d+IduzZnhs1c9Q7JKeMJssJSQvJ2PdkpB4LRyTBDsGneSUoHSxRzvfEyUVtoZJtw+ZZCWjGIb5zmY+aw/7mwaZlANbeiJlYxpv+FJHde7Mf8FXRTdVbiX5vTYDxLNz9+E1h4JcixRoPLy59KtLoWDWElS/LRx420CrPb3lGd8Y6S/jGKy5zETYO5gB38MKghJWpbktom+oXreOWIOZhi2Hy8pC6aZNxei5LZnDu7daxX+2pROvN7RMtuOW0ozQJH2pbI1ugzl+3QZo+XlofW4Ygf+k80y/qwD711V0qq5G17VL0svfOOADqYarbTpVRmNjOVTblr58Xd9h0UrUWaPcGF+Mp8dst24BLXP6u5w6Mz0sDd+NLFHjzfCEf0Z4u5ao5aD5opBHaUJ+6vQ+a5hROVN1cpFUDC2Y3B2437WrHzW/Ikn5TI852ukVw85ZKsNeGTXHnuzttVVglxuTrqKMBpFEHsTpNtR5250C8to6LTkdbDnrmbYClZxjlKzlKnnUPJnZGNQtuvWX9coa0tdC5iPeyiVSkL/9jr88Uc7TRnbUqVW0qww52z5Z37aht16rs7loB/xq3fswr4iwt+8FgZLuJJrvODBAQAIfkEBQoAAQAsNAA2AJgAngAACP8AAwgcSLCgwYMCBShcqBChw4cQI0qcSLGixYsBGDLEyLGjx48gLQIYCYBgw5AoU6pcaZBkyYEnWcqcSTOiQpc1c+rcaVIATp5Ag4KMCVMjUaFIkxo8mtGoAKVQod4kybRn1ahYWU4deTXhwqxgaW59ufRp07BoZY5FeLJr2rcX1xZkOLIlVbNw80KUa9Un2YEu3eqFS5QrXolj2x4e/LYwAMFz/Rr2yjjrVZeTHRJ1W7ey0suY3W5eXLCz56CjewYmbTQzQsx/T+dMXXR1WbqPSROELTuqYoGGp3o1HZnpT5u6e3v8HSC43+GxixonORGycuC5nXP++1M0a8kvR2//vB7RsPbk2HdTP6v5e/fDRsnzPEmcqXe24InLF2u2/veHV42l337NRafecaUZCJiC29HHHWyhoTfYgAeuZ9dDFLL3Wm7pLQjhXeTZBx52vEk3IkUiVlidhHqJ+NOHfSGIXFkqIsZiYxK+px50DlIWmYwaJkgjgT5u2JljPPYXnnsWFrXhkEROtBpzPXWI4XrO+agYZNb1NqVZKRZYHpa5MbfljV2GNZp5TXqXoWogdrTdm2CtmV2bEgq3F3hpHjSngoTBp6R6AYKp0ZUOIpjokmz6CGSgVYq5YKFejbfhov6RyOidjjbJWGtlfuXQgLQBmFx8kuJX46canXcllEGq/+rnoanOumqdz7XXV6mx7mnqmFwq6VpSespaqahF9vqrrhANK6ttUDkbGUhHCsuhk6P+hZu0zMHWp0rSRupRtZryeqGJ0EaK6bVIWYrtk9m+tyisAz66oLhNzUsssu8eRGeJ4wGJZIL/aiuovu0auqOJsFqpbK3QkTpor32aO5vC9zI8rZD9LgynxB2GuSK+PCnK760i/wjoR7gdu3C3S+pkMmiZblwWncstVO3AMCdbU83HBuzpw1I+aDK+LRdor4Arg2vwrqIKfOOrHuKJtM4vlXgzZiWvx3RfDsvK69cZO/Ufe1rne1hnOIf0XtpCzxiknQjuTKu61vo3cNvUDv8t79TsUTn32itPl25HabME5N8jBy4ovnQaHue4XF9sV8HIuUturXZTfXjKyYabkuRUm6p5zJwvuV25j9vcr+gcgQ6xRWZifC7e8Ipnu9JPTwp44yTPXlHtPmeMu7+ouxzk0b7/bLXjyhfNdu/nmi33kC9Gx/dHzNfeZ/bBh+zU9RuDz7FW1opfer+KLU347RpfVPe19uasqfrZwtr+0KFrH527FZkfwkZ3Ivxp6W4d4xjz1mcs5N2GSdtb0fySdSbZLWyB+fNVBsGmsghSZH6H2xxooKOp+s2qWK5blgoL9K14GW1ykhLcy3IFIxRhrYErbCDsaFdA451wdzO83F3/xtPChlFsYgMcSg/DVhwglo003qJVEVN4RPyZMHata+HpOmUXB03HiBQ8mQajiBLaaJFfm6sX/djlw+KFsWJ5Y6PzyLcsuBmKUrb6YfiaMr0SNi0lbevSuvCGRzCqbY96mt4V3fbHviVOeFU83wZr87wd9k1mEIJf8L7YrP/10Iu/Awpk7JUZTkpskZZEXioTNqYMlRKKWfMkKuUokcOhb4pDoo0d94jFFX4IlzYC5vE6hUFhUhFyEDLm8YjXQdW17lhpUyMR+STFVtHySh4cHsaY+TFnXo1sTMwSH4coKlB9j38rCVPS1hU3tfVRg0ZaY7CCl005nW2dcWxn0gKZ/6M4pdJi9YxLFnMVRN65kYXv0yAANyY0MiK0oOjDmxqJmbwEDWxZCyVkHDMzrM0h5UuPxKEkVyjD2aFQNiCtHB1HyqwDanKcIephDUNKScYxS3IgO6YqYTgTvvAueyYkW0axhVNPGlKIq7RnGJGKTiFu8lQbbSRLa7RI+w2OqdvD4EHXVc+CKVKqcgPYM12nI5Xl8o7bTB8PPebABArUj0vN4/2OmNMzudSga22jJJVJsKbWMpPNc+EDt8qvEUIyMaEMoEoxUkPs/GmwD3OXYTOE2J4SFCNM09tYHSa7oeovar3j69Zy1thDJhBoCfSs69p5V9SE0jFa1WvxpplDHv+q1rLarBBq2frUkvIymGJU3DUHV9eJrUhEPRLJH33q2MuiRHR2OisTTfed5CoWOYvj1EoidyLa9uqdYuvnpQRlS52Ktq34sWlJwZvH1SGPbsMlLCZzOt2W8k6XFU1Zocob3vkaVbb2/RwSN3vVWfG3vYlF3GLhSrRJvrSsMRraSbkH1g8u+KcVLRoD8YrcJcIUkBWW4IXF511CYW2ifS0ecb50NQ76Np35UZDd1huq7Dr1uy+U7Fi9e94xKXae0PvrXPFr4m7OMGmY/DGa0qphDrduxWz06YyduxM3NcmjTYSsbv8rl1P69aA6sTKUCdthpp7VfEaGZ5WfLOMQm5f/vNSrqddg6eXmzofN8OqlXD882xirWMI0jC9/4MTF16HOfSLFr8li2+O8khBtcU4jOgvJvjimuc+QarDgaApRPfZ1Otx0677AHGQGU807kgM1k3Xqm+C2B8KsdrBCYdnoW762u1CVX4VpXOtB75mtnCxpmKoKaVKnhdLAhmVrU6vWsGY4L7DlqaTeduj/1vGPWH6xZQhX3q8+2rqijlTbsu1EuHyIu9K10QHx6G1Zm/vctdU2Q9H6rFhizkuxfHSL83rbTiIzoEl554QtJrd+ry/arBIolrlr0zybqEsAD3OC9XRRA8/ZvVBrsmfus7zKPbZq+25ucZXD8Whj+cZz/42ryLmcYFaa1pBMQxXKY7jkZdscLXb9tZxdtdNO9zeSvVbJVIA8c+yRM7xnKmvQ1eIXoqeYWSxGcNLnbOzBMBPdGI7nbnue9SjdFdxGJ+ViR0kmYsvGRRGK561MHdnLSrPluNragUHov9jqe3ZJPXtCyXdyvNp53oVeusvrS69nC/CeGOs7kfhJasreSMBVX/xyyw1gsg9L3l7/s8DP1udhxwnzmScdzT+rZWxBC/SZ7zjzqiUtNplTragPPbcruSlVn4ejVG9w6i+YbxiHvNS791zvhb7jgQYfeEpV96sFffxYI7+2cBL8aQi+p4g3n2UExq6brx937hNI+gQJCAAh+QQFCgABACwyADQAnACgAAAI/wADCBxIsKDBgwQFKFyIsKHDhxAjSpxIsaLFgwsZXtzIsaPHjxYVEgRAEgDIkyhTqnwocmBJkytjypx5seXIkjRz6twp0KZLnDyDCpXpk6TPoUiTUiwK4KjSp0gVGs0oQOBLklCzPpXalKrVq1rDBm3p9ObVrmLTqiRbteHZqWrjgmSbsK3Bl3LzeqQ7sGwAvHoDd+TLFW4Avj3b+hWsl7CAl47rJmZMua/GloAlY7RbmXLGyX+Baja4uHNYn06xhgat2mlp00lRc/5K+3Db1rNtw1Z69rNl3F8zh1b98fVuib01JgY+XHTzk8aPQ1QNmHhBzDBTl0RsmfRtmNI5Uv8Hal0zc7NodV/PjT08RcPVYZ4/aPgu+PXemZZ3jxA+efnZ5XaTX/uBVpd+9/EHUXTqGfjcb845aB9VXjWooHcSyYZeXcJJWNBUFHJ34YKKKbdaaBr+VOBmIo44WIlMfZVicAk25BuDLtY2mltdzQihQy2SmOOJO/bXI2euPVajZjh2J119m+GmHUIxWoYdc341SRmU3kmZ24pVJnZlgB6W6d589u2XEWQVHojkd2ieuCJ/cW64XmFHJpkiYFMSOeSDDvH55ZL0kWnjd0AOqmVYHRYa55wfGkoloodOKGBlkAopJ1gssmeioPYtV2OmaZGaaG1nTaonZ6BGKmqopqX/quJVvunYnJpvBhqhk+gtKpasNLIZ5q01+pgmodpxGViy28HZ7EZ8GVbrT6e6yuu1UDHrH5vQligjjINWe1ORFqrF1LAOIsjkdyn6Vues3JYb17msFpvrrOt+u2578qIXr69rKbmioKVBCuZCB6t7orv3eTmtUHga6aWuFHeacL3jiUlpbSFeKpTBnGZ56Y3ebpbvnffaKhjIrWLYKWgin+zmjqaedpmSRsLK73TI4mytxjQmym+8Zq5E8sCjGlrzwftZxzCkDNNo7FDCJQeziR3b6li0uwIrL1cuA5xS1bSWPG3Wfm5dcqNeJ4lr0VsJXHa6GP+HZb1PczpuRBH3/5sWnv+mTGzQ6tE7JtuEdgmU2B5BSaDeD72VeKWO7ioy1zXL5PilXuvaOd+cQ24myYRH5amRFCL31syb5i0cd9Y13bBzjGtK7rcP89i2RuO5TnvJtspuJ9wnvW1bx1MrDDa16mUMKLbENrp878CrZDzyWJ+Or22xKw1g6dBLjqvz0nrc+H3Kb+z33RJ3Jbv4AU473uZQOV03a+iHfnX7y/u7+vGfAhD9YlM9UTHHfgZcnM8qhp2CPat5kytN7UDnob7trHByww2pDpge/q0tguab4FJG5jMElc94nusg5a4mPe3VTIT4iZKkiMUWFOpOhZNaVwtd9kLzheRm4opeev+4Y5zuBalyHuLg8Pz2oiM6SHKRgR6s9MXESD3Ke0uEYRD3B0FZsWVoKgTcruDWPylGzl5ajOHJDqdAoLXuTZLL4aFsqLr8+LAiDowZvPLHMYThkHlbdFIcq8izlOSRhP4zT/yU9DjbxXCQjMscHs12x70hTY6YxCDhtDVGDF6ukpPkYh39tDeXZRJzMwxWJ79IwjRmkkSSJFGTyqgqIE7kXUYD5atQkrtEkSp1hLSWK+c4OVNSkEfkiiLxuEco58ksJrRkiS6riMAYEvGO0USVvZb5EYKZSJEqg2DFLGmoJGmMQb+c5ka8qUdnCnJywltYAT35TWRK05B1m18br/X/uXBWsELulFWj5GJCAe7ziaIDpBqtxLvv7RF8KxOfKrv3vtmF83Eg0t6xhCU49uUEfhOdXUXJacxe1ROjZfORR2myKHQWsyLxadX0DmqyhQ6TmwsdJ0hius+Z4vJrgoPYSeH4UlYqkqL/O+U0p2Y6c/7ongA8qkiTWlOc0i1bN2OqNcMFIY4iTVmky2lVfzYTkmn1mVrL4JG++sew3k6s/uTIEfUZ1wF5qk8JzJvbtslPvpZUrvPUpjtRd1eu5rWhYF3gtdDlt5s+8i3acaoyz6hPZf1VbWFT516cRbSfSJaSqqvsHy9Lyc+ytJ5/zZBhLSQ/8dWQU+PrmVJ6Cddj/5aStQGEYokEaq+DaeWEL1VtIiPCUw7ts5rvmdtMgAudfAb3Qa+TG/7emkLL8vJNk6Vuof6pMd6alGZH2hEbdSKb7JoxZ0DtLmynqtLwLpazz+0mCEMLoDUVVW4Ks5TQQHnBWMJ0vsT9j31h+UCIejaEqK1p904rMiVaMYyC0ysi0xZY6DUymE0koYO/+17WdRacTpKgRoWpWYswja8LxvANm4tTCevkxDy0qIrbx2IVu3gnTqUb2RxpzLxNMapjBa9VN9tjoqY4kOJFbNJYl1oL/XQlkhRjIQ91thJPZHnMQkqU1TrlWp51LiUclH9rXLxmdvLHCI1ukXNntbFYGf+9xxoleNVs0zbt0bGZ3GEwj/Y7OpNZnEgcSn5DjM2bRdfPYAZxnJ/itfLtssiI8y2K6pXhIdOk0UPcrWy7mjRJQ2nMDLW0m3XmLOHK6107fpkm5TkmPF+Zq2MydZ9QelvWcc2NH46bKuFMSgu38n69ruv2cpyV8W5Xocn8tZ0uSdlUzphqncy1KO1Jaioy+YyuHlu0C7zVLpPY2qEOcLat5xzqpfDL0x7oGRMIm1RbV2pBremgR9m3dkN4dM5yKzPpdsHbRm17nRlgO5t1zfn8+8cHf15n9FgtffYJft7M7H4XPuGGG/ThEJ9Yt6n85lGn95ZnPvX/jDhU/6B5XvP/bJK6kzjy2eWOK/0O9m6g5sJNb3KaP3UipgCs6IW2LMBkrLBa6Brof3a2XZSmHMtCPnSD0tjXR78XY3u+0fgyKqE3jyuipz3dFQL82bzB+oNiDj7TPjaQW99517WrObstUr9nwmJtL+12N9o1PPWWObGz+errVQ/UYsm7pJMM+H1vfOq7wVMDhY4Sg/+68ATFL7sYX+arWszqsDHOrQHrIzDyWDqa/2ClO7ypz19INmy1u8z93j6N/wm3qQey1vmKUte/nnkOZPnTX+7c26+bms6OPe+H6/smP32dCfXduAOPc6Y3G1dsXD7KaWtH1UvV+jTsON7tPHHZP9b2qpS+H1427PXiZ4X8rzS/zXRuYPUTkP0Kd79pxC//XColIAAAIfkEBQoAAQAsMgAyAJwApAAACP8AAwgcSLCgwYMEBSgUgLChw4cQI0qcSLGixYYLGV7cyLGjx48dAYgEALKkyZMoK44kmbKly5ccFa4UCbOmzZsGZc7EybPny5UCFebU6LOoUYhAAwgtuPSo06cFaR5sCrXqU6lDrWp1mpRqUKJbw8LsCvar2LMedSaVmjEr2rcW1Y4UyHahW7h4J85kuZLqUq9Ky+YdvJfuSL8aAQMeTHhuAKwD/wpeCnkxY61rWSZMPFljZcGXn1Le63gzUtKht44mrTky6KioU/vUaRByUolUIZuVjZM2bIK3I+ZuvZu3TZGA69YmHhj3a4iWjT9ELlj5b6bPsW+MLn2qXe8OPzv/5I54M/fu3i1zF48xe3nX59EfpF68+WPmil8P/5o5eH358wEgmWn33eUaQvsF1l9pBwLonXUIBZefYcAxZ1trhQ2km4P8sbQegxMWqKGFGJYY3IYcmlcdgxS1Zd9urCEIFoopulghjdB9916M4I0o3YDtRciXgCtuyF6FFAbpo3FAyiikYcmxKOJ/IuL44pSyHXmdYVKxt5dkGfXFGZdS5pialkiO2GVrqx3GWZhuwrhTRfGFlVGT0825nJVtDmckm/plZ+edVArpn5rMESjmjSQSaGBjhdI5pl5lYlnnlWd6KKhwk0p0aJKRPiofYlZuJ0CGZNLX0J9fXfoWqYmm/3WqnvctumqjgbnqlK5RkuVkrrOumdlyLqra4qa9IdsgoxBqB+yCaxL7nbET6dpTiKc9ed2hqNp3Z7CxIubbWdjmqW2a3NIK5kKfXgmnVnjGBVaIbW5Yb6xpfkhmVfFK6miD97rVrbb61oovT99SKVd9LpLnGa17HtzmUPdSey2hmCromLid9jgwbHw+bO+0pFkLEr3fdailjViGGqB1vhosJ6MEmiyvWywvvCywaf57Gswbi6wpqDIDrOxHUep06ce/Fisl0FZeWBfLRMOU9KxLQ6yk06za1y7RZFHd8k0NH43o1w9qXXXG480Y64U2X1S2RTw6x/TYvLp97n1xu/9UMNE5uy3mxA/122qgaFr1t6UpX/klyaV6G6h6s/psFMdiG+5vtd9uGrPCZqeEeeO79b1zjgnn2Wy5JwEZNuQHi+r04aO5/Ovhom5ma0muB8117M6qmGTqzTonfPBpW4ySsESmOqeE83ac+rq2Gxx54OEB/xHzFTsGfc3Rz80z2yBXerzLkSNNcsRSA3r75j/PiXJ8Yre+fvntW179+9lnOP+m9QNJyHq2pVvRrXnOitLedNY2/XlkgEtaTrZUgkDwSTBAujPfzkxnqKFJbl/I+5fyUOc5QL2HZsDKT/ooaJ3ejex9Iywc6TAIn+hFjHadWSFFhtWgu/kpNsdSVJz/sMO6CGoMd0UrCQ/l1K4f3q2BPRzi+U5nRN/8LiXMu2EIHadB8eWOfPUZGeXqokNKgRCFlvth2zRHOSiuLYBWrFxLlsgpgQXNOamLVOaUlaD3cLB8a3NjFIvXnjySb4/GW5IfQ8dCD96MiJ07o7mQF7gAOg9Wx7mj3DrTOaF5Cj/hC+WHdnfEmxBSkKjkYv/epj0lgQ5tSnRkHWcpwoO1q4wGUqEGsUikPX6PhlEDXhbhV8NV4pIj1PEliF4TLQNOEpY9miL7WplI/jkzQb9M4wwJKES0xVAuf3RZ1sI4pMTlZ3Hd1OA3wRVOYgYxbTv0Hcb61cwTHpKRvMPnPcv4/zrxKVBE9myjSTT3xexVSGxwE1q/Rqk2I1qtY6mcIJRmmFAyLTQ7daPhVdzXo+HQT29864wWkfirCzGLmiZJXOnc9lF0VZCK0HMY2Ey0y5PZMIkGsySiQLfSj3qpRBlcpQPVl05G6RSEKCNpe35KwHG9jKOi0xG4ToRSwEF0jjRVGSgD2ZKyZfSY7GmnQXeqsReObSyaet3+CghOqY4mqR8spka5qCqxXkdnXjSjawb3pofBFU8B1JKt7KpVccoRhppUa05vWj16Mqh9tQMj5z4HT1cWjXC/CygAr0pVoz5srTmaWihjKCPFfoaU9qPRod6FkjhyjLTJ01RktUrYvf+yUoyH5YlZhzKyWyLQnrm8KuEkyTB9hmSrlc2gan/L2GjGtahk/VdtL8galVrWgqq8ruQsw9cLFoV53cpb0zoGQfBx103/LIpAwytVIcbHpJziWJII2cyh2rSk6mpvFN8L1PiGcr6yBHBBu9pclzq1qX39pU6HOVOhSvahDlzTgauY4GUqlbqP7W8HQdva6K2QZZQdZu/WyuCzRndE06VkbtcoOFmKeFKnBGaGHXxQ4+oVjXmC4/24qliKgSti/wRSirmJ0+zpeLYm7jEk06W8Fl7VbwWm4lFDqlytUc6pvj3pkGl5Tx+fBlYfu3Jus3y2l6pXeswc0nmFiOC89hT/pAsiLhUh7K40T3SBn6Wwm7cLZ+/5mUZb3jBsAuZQnAp0wNT5KXzzFWW0/onQa8vmFtFHJEVrWJGNfolMt9XLFRXXvrxlLiY3KDRqBXrOMFUzRWUJXBnWtXFO3dFMWm0TpfkVxgFeqoV3tlqQjtRZlD2zql49PD7+mNQ4Jqeg7Rjjo0zYTJPEb8zky2thstrG6jsmf6HoPzTbM3Krw/ZA3dPcP1EL0CL12m05quNBCTJBniUyT9W9bD5b8zKtDmy4PIlqDOtR3PyKsr6lDdVn5prDG11lvluM8Elbz4NCBvhPbCnFjKnxwTLsoJNXihcky7vIGX+uZDuLt22ixeOF/5YzFAGL0RmX/NS8JHa0jaZsE+MpXXhujMzHil1s7pucXfMuxkWTw4KjEGV8NSSoa/itY5451BHWJPiSjrEBq6jpVd3VDA/d0TxHGqW0HpvTEbb1QK3c62IHe6aDDhflOXa8F/dNyHol9aFbxe2c/fn4kCrHuRep7jAfN8dvZep5coapEWlfzJIpcToTdLFXn1Ss0c7zhwNtyvB68iAlZuNyNfMzgbefYVXeby7XvL57lw3Lq/xpu4/Vt4xfOrnQzPo6NxzDy4196Qdj60cu8otfNfOJf4Q1Rq7e4mnuVgyhmaIEthj0k8vz9fjd/EQ60YTRF3DImd8dbfc9rdifJnPplV5979cztwh9XqXIX33GiYr7r6946Ldizr9vr5wvnX9YYnrTOKu4exHVfieGPUXTa8eTUVZXfdcnI7NTSMVnSM8mgIjVRBjjd4wXOGPXfpBmWRkogff1cNDGVR44G5HEOSMYcOynXScYGvq3gh1WFAEBACH5BAUKAAEALDAAMACgAKYAAAj/AAMIHEiwoMGDBgUIQMiwocOHECNKnEixokSFFjNq3Mixo0eEGD+KHEmyJMWQJlOqXMmypcuXMGPKnFkSAICECweipMmzJ0ObOAnu9Em0aMGdCoEaXboUqQClTKP2THqzIFSpWF9SNXg1q1ePNrcGoNo1QNicX9NaPKuUbFWCZ9XKhVhW6FObb8ferTu3r0C+At3axZvXr2GIOwn/xdtw6OG+iRmblQwS7WOmjhsSVjzZ7uWvmX9uVno19GfIOcUu5hvS9Omore/CpXw0teXXLZ16tlq4M0OFwG8jFo77pGXdvLn2thu8ouvilTc2/52z7HO9i6Eblw68cfXe10MC/9ZeOyj2i98Rco4YeTz587uv7+a7fvhs9+Qjz8/rOHj9wLaFFhuA0b2nk2WlpXcgToKVp5eAthF4kHzQjRaXQ2W1dVyEDwqHnIESWQjAdRlWhVxs/W0IIoAQ1kehhA+9uGBt031WY20uEkcdezp6x2B3uBGW4n+iSTjgQRdOxNmFMmIlpId7LYekiRyGlmSIkjHZo19PckdfVZzJGJx4/H3XpFRdaqRacpNpONGYCkp45WOjnSnniFCuhiePRubZppR91bmlj5OlqCeFRxr6p43fJVjZleFxaJ5jbs44G6N67oYTpIOeByGMA1UKanYralookI4eaKdvl3q6IZHvRf82Xaosdqpeb5U6BWtWiepoHZAfsjnqjgfW92WtRxbV660/gmplmXwWS9uxHSZLVIOaUVngYpRqq2aUtAoLWpQPieogt8KZ6xy40E4Z6GaktqrlkrS1mm2B/tU7o6LD8jRavKGCuade9FJ774QBkovwsMHO5FbBA0dE762s2QpfwPFZbK1W7JKGl4wTT1lxtPa6Gu2qHYV8KJDK3QevyGXih27LxuWr5Usq/3ljySJSHDOgvHW7rs0Do2zcv8Saut/BueroFopjAiizQ0bziPS2ljo4nsd9PvpxwtOtmVHVa9FG5rNeE0n2pOm269TaHOU4s7sIX531RxuzarKqFq//ROZVYXYam9pVKpjvfvj9irXDjeYVeIy2Ed61b4fPuGvJ/V6c25gaGmsh1lCbh3nWD3/+J+CSBQt3ZZVje7q+ziYsOsYLSyuix56b27BJ6i7a4ezKtTet6WnS/CORv66O5bCB8zul8KgjXby4zCk8+s4sOQ9w9crhLnDPAUsf8bl3nxfy7soz3DbrbXuvp93gz1m+ouerSP5In9L185caht0+lZHKFvhMNbWxOc1iCdpV84D1v1pBToCmIyDQUjY+l7kGTtWTH6F4NsHazc59HhSJBnW2JQzybYSL01sBywcqEALPJMJT0s/yVq6XXY9dNOsW6raXPQTBrkjSoiGG/2xIu8EQkVQ6dJzAGDc6BxIsdSUEGwNdhjXPybBkJvSbD9knNSgSCk7W2lUMi6g/LEZNJnmb3vSeZbdM0a5SLtSc71rnJ44x72sWtF/3jug7UsHxe+2iYod6l75TZSRNrntflgDZRph5r3/2K9EKKbgqRFovfC97JB/3qEkn3mmPjPtSpMh0p9t5S1DGe13u+Cg/7BVSbAEbpeEaB76/4VFcpnQZ8ir4u/v1kJBbkqS3ugihweFpdwpcpPZgIpZlju5xQTygMW+URJ/NTWkuid4tuae3jLEPalTJ4sXA6KdE8m0m2mwlqqQkRBPC6SzU3JA4+yRGlsFQUo50WzntCf8wkHkRk97ZXfCAM0mq4ZOT+mSb0FgoGnNdrpeZm03l8BYlClVMVrIhY+zMAz/wCM6euruL8p6GQHaCFE87JB/9iKg4g+pnnCLtG0nm6cvQkRBd7vTVInv3wk3xkic0xaZN0wTPM7IRkBFlqBEL6VMUyvGhR3WmIWFKuJvJMX8lIekGAZo03qjzVtYyZzgL11M51mSYpKPlTy3HUiqt0YfG7Nwxo7gUYCJum7XraBc5JdHIQbGoWwXqJS+oxxDyUJgpeps0Czs7IXbEdYTFJjZLtMfEynOxkk1rUrmTysAqlXa2DCnAoClIUznWsN/qbFcz26rQopWUXK2mSg9q0JT/wJapN8UkYCH6REjqUonehJkdKSdTGV5JUDbdKwB9aMV96bSgb+JQc6MrwYNd8ZxsKupYIehJjxxpuuipLhCv210/znW7DV1uTIy2LBqtr6YZNW9LMZXavXHzhj6Vl75wO9zJOdGh5+Un9eo2vAHSjZhkpcmJLotEuILRutRZZSPNaFX+hnd5OJJSuDY6RBA287KW3axK/JnfA1+VscKdY0YVG2KzzrRxtyUo0JY5tanZNLkXG9lUbQvjWcJSqO+t4cmmyNuXcnStWmys7EKoYyNz1bQojixm6ugqrHbTuc/cb2GlKmKOtdNPu4Rm3ma10w4yC7U8veeXjyzMpqnP/5ZurIiOW1vc+nY5x2Zrmyu3qNE+nnjDe4MuRwTK5DwP1HkpLe2fA4nlK8ekd3PW2hLdO8Zk+jdrifthSyBt0gJxjdLMRSrdxsxn7qJRplz26lrJvEL/QZltPNwcdX3ps2I2LrphjbJ0zdzD8qI2g4bWG9na20TfPFTWvE0hsFMF6HVdOtbG1jQzNVZnJzbIzWw6LShVDe31UtuAcZ10Gr3lT2F2+9QKNZOMrc3AG01v23Lu9Ouass+zrbuX/nM3XuFNER1P+Fq01ZWWfa26UO9WYqJGjfqM2NI9v1q3c73uscmzS/xm+6QF91lKLYxOfSW6fL6N5ZafO7w7RyV5tP9VrRshacn70i2OhkG5iPknbhlb1df6jbNf2rtn9EL4hbB0ai53nuCex1TIq33iQCH4b68c/NdsjWM8H4gwOCfdSRG/etQTXuSPctHPZT25tGFtPmlDr62snTetszLx4Fq9irczI9M9ipoF6nypak1qjSOIXWSlfMp2B3s0Fal3Xhu4uzmNOa7o3ndVIrnx/FaUk9+lWsX+1qk4f/KJW8hrsUPM13IVEXozrpFVclyEmYTiQkv3pJvDdCOmr7aCcUhcWBJtZQHtFOYhbnKjlK7Btrc5IAlLosf/tvf0Fh+dOf/pLpZV4H2S7WN+r0Jyh7qf8WUo9KvcwFJduZMdHl+r05NNrNP7a/GED//Zcz9kEEn5ScGibG4rf0nvu7iUWec8zd7dZ3PaX9/ttUL8p2yCVyoAmGACuG9a13YUZ1JWNllo9XPEZX/Fhj2Zs3ollUOyxygWKHhBBXGk5VyCVhwfSDgdqEghSE+dR4GXtlA1JHV0xYL28XoDZk1+JmUyeGGeFoGzNXU5OGgxmGax44M/KBItMnZFOBUHxIBJ2EMn+FlN6G1PiHwkERAAACH5BAUKAAEALDAAMACgAKgAAAj/AAMIHEiwoMGDBAUIQMiwocOHECNKnEixokSFFjNq3Mixo0eEAAB8HEmypMmKIU+qXMnSZEiMLWPKnMnw5UKaOHPShAlTp8+fHHneBEq0qMGeRpMqRYh0qdOlTQMIjfq06smoU4da3foxpdSbSBXC9Mq1rEavQhOKFUjWrNuMCtsSlPu2bsW4Ig/StctXYsi9DsWC1dr37d+8EwULpFrYZ9qaiCG2Pcy48c7BDQGDjEyZsOWWYQWg9WxQ89fSkT9fVjv6oemoplWbxEr6dMGsR28ePry4dm7ZFGkz9Yz7tu7drSFWBu5w9OS/vdnmxft7IPLhapczbz5dNGfotp2n/7YtnffB0Nq3fzWPevNc8OgFH8+MPLJi9azBt9f7PXlv+fNBdt1A9+H3XltjfcdYZ/SZx14ADnaXHnAPJvjegn8tN+CDEf7nW2O00WWhbROSGGB9ACD13HPAhTjeiI899JhXKKrY33eqhaZWdBd59iBqNHbnHn8M9qUjgZj1COR4B+blX0GAIVdiWY/RJhx5DE1pnHmw7aZlVVUSt5ZxPDb0JZJc+ujlh1QmiaGMY+6IZWxQ7sYjdcyFOaSZcSJZJoRMCgjfYHRalt6RhfqpKIJadVhnonwdqtWIESFqX6Pg0fWjkUm+h1J9MzqZIpuKNumooZ1aF2iDa/IYZIldbv+4qlkAahjogLl1yaeHvKqaXW21kopTsPRttmmvnmY5WHHS/TocgEotF5+mok50rEbMmohitB9OO16Q1urnUbZCbWtVgXXeGaCcf7arKobXYhdeprP+hG6yoVbnLobwigunq/S6dd/AYrq7UZT+ElnvvG0Wd+WZxSrsWsLVQXqSxeySeZ6wpSrbrMeAgitoxixh3DHJJwdGKqUbl1ftyCmrdC+gNjKa7J5zLozyzOFuWqTMfUpX86U385exxVZybGzCP69ksc1YCl0wzcCurCauiiZ4bbwjPU101FRXPKq8uz5qp8ZaUxyyzqshKe2kSluk69pkA+pyhXGzFF/ZBo//NPe1Nt4tLsQ9CmbTzt79yhi6XDep51dXfryfy31/BODhKePp4eJ9Nq4q5mFGbrfRnwt51XHi5Zrq0iKifqnhoiZ6ZK/3YV05tq731nqMgrZOudtiBSk73M5C7rrvJeFZJOF98xxznY8DFnjvCuatsvBjg51Y1W9PHH2g07NevUvipg78kdPPLHqltTFqsucdcdgdo+jyPtr62quMs+Z+qU0S/2k6097k1j7T5SaAceue3xJXOmQpCXhwKWDzvHO/BHbLev8anboiYjvljEl5XyNffLI1m3WZiINn2165Xna7g2Vvc8vC4FkyNLU/rehbNIRh0dQ1N90tDIASwlRM/5r2p/DRzWxZMSIP1ZQfOLHIeDs8XQU32LL1fI1OklJd3apDsKUx73pBpCIXGQiwDPINglWUVxcV9kX2sUxfGlviAPf1QULNKm3b+xj8gjKm11RNTtBCIx3D5MffsU+P/sOdvOgkvTp2pId8lKMEk/dHDULmWasj4OQiaSLnmSyPmSsg3iK4H/oFbWO8wxemPqnJUIoPZYdMlyUDyadU+ipnrPyfI2U5RUv68I24/GElYSko5+ltl8nqZeswhzxDggyOLUTiKR85TSwBkWvNLB2Knli0AaXNlpssIeeaqM1ZZVNw5pLcLQUHMNCRKpf6i+O74Da0pWUMLyJD4DiP6P/DJ9pkbm10JfToucpbDQ5ujtJnJfEmP6kBVIYbwZ+UTmkrWUHTg+JrZECpedGJ4s9UAZNnLJcEuGqWcDgdZJkSjYPP+hSReKiE6aniCTSUpnBRIfQlSynoUmvCVIs4FZkZT9cvqLFKnUt0pg1HZctY4Uie8HSjKA86MaFmrY8Js9EaUdZQqLItgiv8Z0HDBUpAcgxzS0JqA9GUyIjWsTP17F9Zr4rCfqnVmS2tac64Oj+mcu+nkrkRSN2VTlkOEqJoE2LKxOO8+sXthoMFW2GLljSSjHKxOaRr/vhXyrO572ySammiomq2e17thSfcLBlJZ1G2pglOomUbaTvblcz/wu6l+Zmswgrp2qyedqOjm+3asvKk0GxzYR00bUp/i9i05q9nsQujZikbw36GtFeNrCpq4zco7mLPgbaEGsFai13wvTOzlqsVX2FoVZ9R1bDPoyMxnQvcWspnvcYDYZOcS9gXXRCOJXqtY1bbWfFQ67ivkmFA3fux+oIxYmlyL4JFRbgFM+1lDh5jXrlTxksq6237pCVOfwc7bzYXZCVGrulM40cQV1LEHUaguTIMMmpF03sBupJYtdtNGs4suaAxYYNPzEwD4tSYa1UnXE8JZL1K+EYCPuN3n2vFZPZ1x2DbcBRPys8kry3Kzwxud5Xlzyv7lY4MlsmGk5PQr5oN/3srfRNbL7rm7QbZUXgUc0ZkhVadytmHdOap1HQSIYQ9Z2jGvWkvYylexe7XpzMptEEPXdBEdxXJYjNrFMFM44jddaedSTAcdQvb49kZxqPrtFzX+WGeglB0pFZZ2vqsQ1mq2q1kDXNGzavdJYfazsLlMgrPuOst7tbHrvYOJO2Vuy/7V8u2xuqiPTjlicr4dSfG9RGXC21V5hnTW4qu4DZ8W0EmxVzYs+qjj3vA8vlXbIzD9lbQHV11r5Xd4eamQLGsTnAbRdLsTHWzJY0w6Lr4jJz1CcCdPeTfEdygBr+gAgH9lKZRutaF3ZpvBdzn4d04JxYfX35NDVmJ5XvFqP/1OJWZvc9ply3hee7bcjN4a9y1XLo0J/C8jPrmd8ez5ultt4nViqekDZ2XalN5m4QOWiFXOcvBa3qBIY5R5jDU5+WemFSLR2zZXF3DOseZfbmua7vIb8nhFHhscRvmiY4x2DQ5O7LTXsGj325otNaWm53iuYXjd4z0ievUC9N3ep1Tp2Lkj+CRDneVfNaUAc/77FI7V1Y13mmXwtusKVxDSK88jdzZY8NSZTLeLX6+n9/OVhH/c8CWtOsGCn1bqx7Zypsb6Aq/KSl7fpe/on7pMMutnctGXijuFNWDtktF/UvEeBZffcEqIO6DXnY59TlU8ZavxrBGLOX/t8aoxX7S54ysfe6r1+vAzmnvE//RW/q7L3nn+fopD/WIvR9VnoN+8fb58lQh/zPdFlMAhkwiVUWmd18GUnSOBnoVNkm0k220wkArZVq7t0mrF3soxDW1c0eZBHjGN31W0WTGx1tZ1EkdiIGRh16WpHEIB1gfhx98lnKCRTp1M3kvmCeCFm2P5l3R9TgoyHT7cXozBGduAoGqYW8vBU46tSkgSHgsJE8XyGpKlXo/2GtqE1D3V4UUEWtYaFJa6FYiaINfCBRrF2ZNOIZbR3toCBVe+HsrERAAACH5BAUKAAEALC4ALgCkAKwAAAj/AAMIHEiwoMGDBgUIQMiwocOHECNKnEixokWFFjNq3Mixo8eHGD+KHEmypMaQJlOqXPkR5UCXLGPKnEkQZgCbNHPqTGkT586fQCv2XBi0qFGINgEoBXC0qdOCSZc+nWpU4VKmA5UK1Eq1a06rUrNi5eq1LEuwXNGGNcvWpFqBasm2ndtSwNWadtfS3bvx7cu8cvkK5jgUocLDhwcrPliYMeLEi7siHhky8E2ikY9OFlkZK97MVYle9RnRJ2nQOjsrPQ0SM1TXqH8i5nqXYcjNBC3DzVsaduyTh2nrTUgUt1jDvJH6/q18q+cAuv+yFhu9t3PmQkU/r355unPura9j/0+5GvJn6NuvYm3c2WXt8SPLN5arfr3v29rdD4dvMO3yy/I9dl5tcT3XUGPfAeBdZv4hF6BxqtlXn3Wv5bbUgpFBCJh9u4knnksYXjbRe/xJ55pf+HmIXod/TRQiiSU6tluDBZGY4nEi2pZXiMbFyCJYLFoo140f/jejgkY6FiJbE1Jn4IrdQWaZcTC+FmBD5SEHWpMJ9mffZlOahx53YPVYI5JaLgbkmGGN5lqWZ1bZJY7EWehlkNit2aSbFkYlJ5t2ykgnjksyqJ6GdbI55JtPUngnlInGVh+iFSr6nH4Z+SRcmoKhuGFrIIoZVaCPnsfpb57+iVeooZYK6ZmRCv86XpP6tZojlk8+dqJvwsF5npm7AUsVrYzaOl2YlAbKZ6XC6spkfRwetChyEYLXopMJ4ufXj/8VGhO00bpqmpTqOQoom9p+eu24Xe0ZrmPTUrTmgcVBttm2rwab5FHu4klcvC4mR6++BAOoF7L7BqUfl3Hmql2gRN46aMFm3kistzItXK60+3UGcb2mThxlwb9qR6CYc0Wo7H6Z7loxr42um/BeKuOoqrwuoyyxioliXNRpfsbsL86xzsvszCbi6vNFSQY9MHBFC3x0wKf5+pSuGldE45EPkQjwyLLqaLRmWAspNENbG9z1wZfmfCq1UsdUddtmvx22x/kavKlF3Fn/PTRPSX7953S27o1XbdYi1Dealcqt85xmL5r1axjXHPKqD5slbJUMU9nx482de3nSeXf6H33Qenlz3RKXx3m0fovuUOIZn54ewwnSfnKf6n7snNMQ0d5yrIqz7CScNQcdHZjvoo6rtctSdl/CN08K8rnKx8w8ns6jbbzZS5fUr+z4Ecuif0O5/jnrf+9M1/g21mt+juhPr36Y7Lvf/kzCqlig1zGLX/FwpTrGDZBo1xIezuZ2OHClp3hfIxXHCshABJ7vbNLzj/X0ZSvuXYhRiPuekqaXv+eJ0HEaPFS9ktW6D0ZuLCekHAmxFbyNfWVXHoyd/8g1uiqFKoTsCY7D/zTlwNF1xFggNCCsSBdB2eHJL7FLF8IgmLprAa58t1Ni/3T0wh5WkVI8ElP8wueQe0ktemALWBeteLywgBFpJCMf6MQHw+5Bjo0S7NXGohPCwWVOjxIUjx1VAshB+dB2KxtfAXOnvT/W8YFLHGRJnCVHoNkOXCXMEb56Uz8VKVJ/bhFQJZt2ySrekVurg9eXMsfIHebEammLFZwwmUaKXAmPE1yixlK4xY/A8l2yZBwte+k9Fh7Qd208EjH7ErdzoTGYsSRd+yzmQoltUkd/UmB2LNNHJUITmNIEJTWRt6tUHomPGFTJ/9hGRaux6y/LY9TayIRDXOpQnRtiGDrR+P9OroUNeiLsoPvu2ZFDPq1wT9JjxJ62TTciDW8LFYlBuWhNVtqsmguqnLoymrmI+tKGuJyTJT2It4ikMl0hMxP+WII7UO6OorWy6DzTiVI2qtRhKzEaOanooDa1jZILemnIJIc0WhoROKjzqBPh6VPMmdGkDg0m5qDaUjK2s5Ee7CnF5KdCAkKppMkEpVeJR5KWciuQTN3qOat5QBpxc2OFiifgjErRko0ue9+8IDrPKpaIPjWUdLVbxBAU1qFGdalFIun1pipWwvQObNH0EkJNGNmQhk6r7vtrBvWyvcb+rp6LE2rY1IhNcGrWJCvlmSrdqsKh3Ghz4ASi2zh2zf3/aSS1pbPSYa3n2uvBdmiyZaxkH3tUZsJ2pbNhp27tKpHkFi+iujubVU1EROQKUZJqkxnVmvlZ4KZTtcX1yKhGa1m9wpCvdxXlUbH7WjiSZLxktW3NaERYDs7QVda17bdiaF+4MQ919ATfYr33OoG+bCXmjNK4KAnAADtJqWvkXUp1Nt0cBrRbMAtvJzV5XSRhimMTZW54mRlh8npXw6vkllo8d1Wy+tW9H/UuRzlKobf2N2/OvVt+YMyRaBJUhuZ6mo0VLNMoyTWB3iQkSBn7Yf0yUYT65C95Q/tdj5gVbE327JOpDOAqk5XKKOwq/bTI4wl7km0ADI94BzzJfDKu/z31HB6S8xdlNR+RzYANIDjjyzS0EgeJcRRtmipc2gMSrsz/pKmofCvGwx4U0dkJsqDqW8Mm2rmuMgOr4yTds/tKRIAWxLSKizyVnVY0Pk0V1F4dO+KfmFqgBU11olZN4vLK5MeCnWGhbqpAQfcV0qhN8qWHBmGxwazXjj4ToSPN4QAd+dCPhnVzk6NpUaeG0c7GqpZHWkuNspbTmuPxgZXjYOjSrXG2loy4KfxQ7mp3oOdOr1M0auZwMnew6q0oWBns5WvL+Ymz7TR6iTzhfYtSm6gh6toKLrUfnpfcyV62URQ+u3gb2eJ6qrKnWk22r2Wcz6cVeGaFyOcSl8VoDv9X7YLxfO/pjU3LVyZbycf8LzInMqGPDPkSe/rMplB6QA5zpzyXqlB7BU66bpa49OSdy//iVG9Jnui4Tah0zsTZshuW+oaAV7KfN6zq5Hk4wAUpTG33M9RnB3uwXTln9FR74BzX8anUnlM8w3nmcKchWrmdZdMRe8d45zBPd27riCF83jnz+jFdKna5izPgfGEVu0dk8ZUxVPA6pruSg9bbRWWz31g0l+YRHHW2msjzxlNg6C+r5ZTZDtpMPZmbblpz1lY2Q69PmMNl/0Ha69b2e1bT1T/c3sF3157RQrnJPAxsxNc7sZhf5K+9iMpzz775oXHw3y+frau3kuZ6Hzn/zdw9dnR/2fR4Bf8dFW8WXDds1Ca8Meu6Vy24Yh8o7mddTQdPyflDsv6+Nn6Ld0Hx9yqd01HkslIOJGx0QUSzdjYhVGIQlYBPt4CjRxPKd1UNVkRExk/HhnM9BxoZCGKmZCkX02HS9johiBovNoAXVX7gtWWP5GS4t3259Chp03dA5kzJ5iPR92m9Rz0/dXUL6IODxmPXt3DhtEtLZoQ0aGLKEVR7JGXjQW9MI4Xd5ISPNmRx9ITyZ0imp4Uyw4W15IUER3grKIbHZzcxN21dd3+/8WPpV2vwp4bDxnhJpXukZIf/hnVsA3t2w4dAuEUFYoYXGCO3xHM9WEZwKIhxD+eI4QaJzHGIkthmexEQAAAh+QQFCgABACwuAC4ApACsAAAI/wADCBxIsKDBgwQFCEDIsKHDhxAjSpxIsaJFhRYzatzIsaNHhAoBiATwsaTJkygrhhyZsqXLly1FCpQZACPMmzhzHqRJ06bOn0BR+mQ4NKjRoxKLHlSKtKnThAJoCrTJ9KnVpiuhTl14tStWrgqrhuXqtSxOqmFBpjXL9iVag0Oltp1r8m3BuCTp6m2ptOrWsXsDU+xLdunYwoLpigXLeKtcgyNZJlaMeKBdtI8LRs48ua1fizw3d9b7uWLoyKOfLuZcs3BpzXm3pja6OvZd15Ubyn09+yPgALsbt/5NMDJhrZZzG+6t8Xdw2cPXFh95PDnyh7yZg867cnNeuayhT/8Xfzu79u2OvX+3Hb41ZO7KiZ9H7/72TMneLyvXDQBv+/kQ9VSZTagBt5l+pvVXWIEATuTcegh5pxZ50CklIUTm9fbgfRGKtlx9yFnoIXb7NTjRabbJRyJcCyrI4l9R2WZigvcFl2F191U31n+JZWWdQ91JNh5sDeH4Y5Fc8biXjxQaduGQUH543ZFEJSljZ3ZNmFyQxlV24VBGTikgeUqylaWU0annImwFgjlgfC1WGOeML5bEI15yQuXme3RO2dGdc54pn4iz7bimWhl2iJmCi50p0pnnGfqZitstSimMZK6ZqF7PgUilmp1uJKmVmx4m3VydGglqiiVGNGqOrRr/ZipzmYGnHqKn1siekBh6yet0DHZW665PlpergbaW2WSwwP4aWJB+yhpjmb9BG92D+YXFLLIjPjstqyRaGy5jbZpqZbbiDqSmV5AS+SGlwS6Gq66rCmhui6Ei1W6UIR4bL5zzclsvfPc2Gy1lszqkLLcwVlVguUNWe+6VkxWsMMUMlXspwxzjGR10214l36O4ZebxsofudCC51DHm8JX+YfwVXm6aPCfKn2WbHsmYqlynruwKt1FoTf7MZrdINtuezlbtSxHRnmr5XrFJq4v00Tx3FbLVVH987ZvTGarlyGte+KWV/B21Nb3OSkwpzdpijBbcbNdd39Iy49Qegc7C/5rhw/DtDbaTENa3aU6CA63yxh1CzSSaRbfmuNBdBUlYdifftqrReVKJ3NkZHZ7Ut5fHmqlam9un+p4fgn6R6a/bTR7rUkdtdeScl3TjYXxNnC/taL6Mu+pCwd6w8fQh+fLjJ7a8sV2sMW577mO6BOjyMWbU5fPCRX/swcTfPr2dMN8M5Pfhc9hr75Gz7vTQ5fNb5WuErp+S0+5T/lGXeuJ2fO3Sq9Ok/Oe58T2keuCDX9Z6Jifu9c9B+gsf8IaXNtuJ7oCsel/rPLRACUawcfBRHIsSlsD0ecRGH6yS3To4JQ0a7G59+1qYVJgSs8VPIlvjUadYU711wRBi5xPhSf9smDv+8DBv6gMZxnp4qx9Khn4Te8m2Jhi8uGEOebOLG+AumBz+1bBtBKwajFhIQwj2z4Zc3FnK6jI4kvFtajEcoXJCA0UjMop3VGLelrA4mDbeMYlci6OxOgSrFWXMeXjMovfSGESOVfCN7hIVAWfYr/xRUCd802EIDcQnjljShJWcZAqDkjlXuYyP/bNY/drlQFCWUXfmMyUDX3evdlWvdLW7ZAnZiMHQxUhEagLe2mDYwjBa0Jjsu5gvybgqYQoSklksptEY6Rv08QdeHJRbFH22x04+8JVB25QbfQU4LeUwg76Soxhpk700KShfqRyl4ZDXqFMCDohygqdLfDT/Kn3+z4DzNKO0xogfD+XPn7GjoeCmiEzxBfBrj/yWrgyVtQ5yCYl9rNpCwQg+e8WKhNy01vZIR6qSXa2a/RpmIU3oQ/y1M0p8I5tFG1pKWKZUkCuNVktTqMcd/jGQwFMVRlViTckRa5OXLGcB01O/fikxceFTKS1L9Dh8AlRxCF1JU38EvWcOTogolRY2AfW5n6pzdRMTEbZumC4f8lKs/sKpp2KKvrd1r2XvWasAJRpIqYbVqpes4zwz+URjuq2dHj0sCAGZTMBe9bH6ISwC57oWsXFShqdc7GXfCsLaeHGvUkXR3OqaWQM9VKtrCSYqXTlRODENtHIV7Snl5bVx/5LItgLDq0ckC65Dagw3DxViwqyFvV1yNa4L02i3cmbQU4HUjvFUY+RmKkuvvTCsLMpaTXt6ta5md5NMExRwS/Qv+UkSdZqKpVHhaDMlfvepuhXvNzV7OpvmkbxN7OprL+vMYfkVrbxFkS4zel87AjHAKZtszNg7VAD7rqCTRQneDLzJrX4zWF3zoqlsRsfUHhWh8KsgCG+ZzoE6MrdwHK0efYTbZPGKmmgt4TD5mciLDSs7jmXoZzFJOeZu9J8YvDHscgzGHf+Etp2cXLpGjFTKerOvDV6nxJJZxMsqma8UjmYB/StXQ/YMxs3T78pqWtaRDni+4vut4qqTXPKJ2f/M4jPnmOUZsCGpuWN+vMkV22vUrVnWSM5E706rptbVevl8fL4oriLs5E9pM3UDxJmh7YekxOIRaiY5YigZiuYVRrk5H21nLdG2WfIR8rhLpiwwC3pkgG35qEq0LFHbV9Th6ZWdACzxmkuqx+rW89Bn/W/vHGVWjsFZQDMWTqrTY1zluvAkU7aaTNfT4sB5NZ8xfBwX6XpmU4/vNbZSX4czVdGTLnWD5F4jUBid1F2Jez3ELneyqztZI/PY3hsrN9tcJ1LdogjTkDtxs8DcR3yjT9+55TdfvfjvwuVS4ECddEeejSBugtW37oayWx2NrvEeheLKniOsA8QrF6dOTOr/GVSt54JkPO8VkJoeHWOt+1jK1M6x3o1zJO1nMyoGrcpuIizKtMxUUl/XviL7qgeFbjsFmxSagSxeW/7Va5qP2+UB3WDXOn1MulD9pYNMc9kK27k6bfys0SL4TYJjVaZb+LhDtzLZC/hJr7Oq7dt8e+fqJ+BGS7Pm+sIvspvcUYdrxIfl5S+dneJja9P61G1mcN/dm/UlmdTFCvx0RGwVMxCXpWYl7zLGJbyrzvdWMKvu5GidemLhqWzrfc54xch5JRJ/MvFPVlq2sVzq8wCK3QWOfe57r3P1WU7iVvk94T0o3Z3PfOaDJ6PlL45tFJpy478mPhFTw3TYWr9X2IcT/9Q9PZqW53u5x8Lmw2mNYXV7xtWz1D3X1R9w9ode7TyGSs8XTjA+4h36KaN3PWJScqRUwXU0WiZkOqV5jEdVoXZ2dPctW2QuZaVcs7dOgmZuhIF4d6Ryz/cjkdeAe0eBxjJqAwR7F3Z6i4N8rTaCz4VZFpOB12N0ACV92sF37rdeiNZcAjU2LPh5JWaDVad/PChzNIR/H4cvzYVa40JjjnV06IWEgad7HmWD8RR9yweFhCOFqkGDh2ZXRJhiWpSDOdUn49dI8UdZXEZRZGhaP7gXT2hxAcc6wnZufYJ1vQROjVaH3RYpotZjtLdStHVRlhaGd0g4Zdd0BeVSavRboE93iGgYcDumQVXnZ2+IJQ4ohqyHXvTFWpB4PkG3eHlYXZ84Vd/ESAvDhdpBZH9HiqX4RYz2O/R0ia/4eg2GW7XoFf+Fi7loFqrYiy2oFwEBACH5BAUKAAEALCwALACoALAAAAj/AAMIHEiwoMGDBgUIQMiwocOHECNKnEixokWCCi9q3Mixo8ePAzOGXAiypMmTKCOKFLgypcuXME0qBABAYcuYOHPqTCiApk2SO4MKhflzqNGjKYsiXcq04s2DNJtKncoSKMOoVLMyxSqQawCaXrWK1em1LNixaIn2BIsV68+waeN+nMkWQFe7Ad7ilcsXZN29X8GKfKq0r2GHfwmyHWy16tPDkAu2PRsYbtXImBHjZXvXct7GmeM+llyXp+mRodGOVly6IGGrq1M35Xyw5c/Yl1F/lj2b8mnHNh/aJombN8jRkzEG1+0T9OTbaz0rN84R+WbAhXcHfvr8Nu2Gxakj/6T7nSF3vNkNunUOeHpg8RbJ+zbPHnjD9erbM9cPfyLc7Iylp5l02xFn1WKg9acZT8MBF95A5eXHGGvNKSgcbAlK9OBdEmLoFXQbGtegRiHCVeFIH4JoYW3RobdciKx1VpNNEeqm1IgrjteifdpVNFlz8unII4458lTjhPRxCBVg5dGV22mJFYnifLnFJpJnZqWIH4syEsjbeSfFhiCF152YW43wgSlThjK2RNuY+3kZmmdXUnZkhqMJWGeXM/JYo5xy0UnSm1T26Bqey7n3o2AG1mkif5BtqVxy7xWI5F1IIvkopQjB6V5mkk6pZHeXFlilgUqSmeqSZuomZWWUMf+WopuQOqrfX62ypiaMkbYmK3aJVgplobj2ueSubIq2nJx5Htiaj0zOR+uTn6FpmFLMIkomoEuq6mqlw1kbWYAYXojtsw7x2uprPGZG7qf0nSvuodASeSqvQgkIr3LD4XuVseCBFqSGqE6l77f8YuhvpwAneei8py3skqD5ZVloqYoC22xxxUIsFsWkWfxfwcMmrCPHHXNLladT/rVnussCK6PJMNPlJKyccpkVy1UV+3LAP2vXZLAnr3VzlARKnBLPQrvI8EU3O2h0wSfKGeVhTL9sHdRrJWwz1cZajW5fTJ8a8aCxJjutzrnC2pFZSntUtnbsNh3qb8LSa2rIkPr/F23cHR18X984Gxu3fLS2/bSh+x4l+L+Dw3l4i4k3PDi1jac1MsM54w1gubCunTmEheoqcLJCbc7qdQHTTK2toiPM9+B1vxS1pWhvaV2KeHude7Tr/Qmpxz2PjdLtQP5u9uqNbxyzxcU/yjnhkxpf0oiVI4gxzEI6fGd+MTK+N+azu4S9sy6/iLrevev9PWnhn2dv+Tkp7rbO7dufvre8k26tfFhqGOzW9zbL+a9W2iLN7hjFP5kdUFBXUyDo5nY975TuMzfqGgbRtqqMbUl7GkzehaI3PAfyKSbQ+d9tiucn1rEtbW2i0XUedypr9e+EQ2GZzzg4PnAli1CvA52S/2j4rU1Fyyg6xNXLWnW38oWKSOt5UOxmRrqcZO+I9yMSstoVutNVT2UOMxL1zIe++SwqiI3TXbCy5qELTqRZYPzIDfOmwuWF6Fzm4mH3pMe+ajlNfHI0IR0vmCmSQQSPNdPjC8HXx5ttr4Ij9KEYP9ehSsquYm6sYhEJqcHbhWl9WjudCGXXtnWtL4KLo5YKgzfGjWwPkc3q4MMY2MfRJe135SGeJMlIPlgm8JZs7B4j94grbz2kiRV83xCVBzn8bdBWUZLXH7dVzErFUS3K3OW8QCY1PtFGmuRLGaWuGZNvEm1ALrQfygjVHSqC05ri3N7+UGLOEtlphgmM3D3bmf/F56UznobkE+CcObogDhQ6mJKh/ggnIOg1U5dOyacziaiSFeJubrdUExUXB1GP9Mui7fMgDG1UME9ukJH1PGexhpk3FCoMpLV0n69AV8iRqSml50HlIJNCQE16jj1A9OMyw5nJRdWxmSE9Tk9liUa+Uepof8wp4YzKycsRlJ6G2xH8pqSpjhHzlhtt6f2WBxwCzfEkJxpY+IrX1ZW+EKxjFevQDKrBVALSL8SiZfe2JhGdatFZxqSPTRXJVLnl1X5k3WpE/CpEQzk0YIOVJTlhJjnA9lCjB2SQP5snwxaylHzC1AniDMlPomJSs7birCNj9tm7JrWceqVfTNmpn1D/hnKtI4ndXJ2KxdTFNrBp3GdteehL3HLxseKL4GQDCdq4+q2wRkxri5AmTjGKE4E7QaZz++rC1s4TgK25rnWre9WXZJNbUjVrmaa6XtyqN5oqLWoruau6wubPeprcZnt9KlZqRhGo7E0mow42v6DmMmwjPW3euorJjprTdpSDKbykOiozIli7QV1edDOp4IEec5oQGZlZhhTfe9VHb7dl3gali9qlUkS7dmWhJjO4xZMqlqRDVbFeXilhvM4KlBk6Y0xT/LkiB+s1KQutcX2sMSBz9GJe3KWRPzo/8B61tXOpa7e2rOD/BvdsduXmW7Pa3DLHR8tY7u/9vEzK4TZ3/8TljROZXUtnrukzqSZ1Z2NjeciXNlXJQxETlHUUwCc2tqCNVB+iPVydCMu4c/vxrOzumMDzATpjOxnto7srU0n30sV8tnSczzRftLp5uwq+s0w7qtYQp822Ws3uqT1G60EX7o2xdjWb/9vRQIr5nYjNrB8HCFkEx3B607sdRQ376832ENnD/p2VplbhhRZ6Rj+2Yq6r518O87dtgqaZTklNVUMv25XbFtUD8ctScP+wyTgcVrlBjNCgBBC4C5rxOWn2IJwyE9qIhm2Yve1eF037kTq2qH7rexTkRrChDjzftCtq1Sqfk9GLBZ7Gs33jUr0rjNxrpsVrh5MrBjaDif/FtRQvvu9DTbzOvFz3yRVNNxe7LpGazWPrYC7rL+JXL+h2z8pVeepia0VL1dTscg2FcDDz18wyRgrJiTrZZZMro2V8r8YxTrD2UfjMQ18xQ9fI7rhSULQsV/qtjIdwNudc3YtL73qD7dKpi73Bp+YrgY+M5q3KXaA2D3SQsTgvEOHS1qZjqahhrJrBh6/wKiocwxOqeJoSN/BGGRF8vVn0h7qQkgRLIiuXDmGRfjDpl9zqU/mOa9G7qNeCb/1+GVnvVOM147DPNKhDeMH/LtDUuCf4Ul6u4bW7m+j2fXbNSQxNA1KF+MuX62+jX2HaRfnj0qT7zspOq3M9boptLtr/HOvEdfNy31nebznyryooZU/Q+Y1/MIuCxkeiZ+tCk5fNwJy3qvo71tvFYVLlpyzBFz+Y12eTdGIDyBT9ZmFQRyKiZECM5y5kp30pVX2uRm4Dhigf9yUVCH/egkjccnogVDRcJBdBA3Ag53r5JzycNYFikYIqtnPHJnOzlVcvCGJ9AVWkhneEpkRgY3e6RHILuCarJ1k/N120RH5Rhm+ANj+ac0/UtGTAVmqzxFhNZ2NYI4U2KEtVyDVuxW9qo37xd1jVpBciM3ZmlmRwF1Pjkm5siIYbp4Z0xoZR54ahkR2Qhkg96HIl1UZgZEo59oZrE1kLRlg25nHpZn2YxnO9wyJdAfh+JVhzLKOIr6JPHQhyzYdyfiSITHeACsJ/Tyd5M5VmfRhJryKKSBiHJ0ZMFHeJmPVpVqWB6rRn1HaJpjVk72Z68PdX2qcgyJVnWthFEeWEuMhlcSWMejh9qIhqxwhoDjVKJCRmaZZ7/YFZhPI541aHJUR6x+hW8kSHQneLRQiMZxhQaiaL0faAz1g0dmeMr9WOWaYn74ZeoCiP3FV7giV8AYePF5E8kQh75diO/jKQ/ohrdnaQWmGQCqkWfREQAAAh+QQFCgABACwsAC4AqACuAAAI/wADCBxIsKDBgwYBKAQgUIBDAQgjSpxIsaLFixgzary4kGGAhxA3ihxJsqTJkx8FKBS4cqBChyhjypxJk6LDli1ZAoBZs6fPnyc74vTIE6jRo0gTCtXZMGTSp1CjNs0ptarVmTc9Xt3KNSJIkAbBdh079uvDsGfJqo1KlWnKtgeLrp0rE27LrDad0t2LVG5Tgh398h0sU7DcwHoJKx4oWKPcrEK1Lp7cOONjlZElT96cEiHPygQha04JmjPZyp8Tx8UMV6zptWbh/g0QGe3r26Qfyu5Me2nB0rivZsXLOOThhYBH83yptzbvvMFLDscc2nhz5C6Vh2SevONs6NFjlv/OjN17RvN5U4c/OZ68R/Qcsae3vp6kYPhD8Y+W6DqifuD1eaaafjoReFF/CP2nWoBoUWVea/RlZ9JxdmUG4HrEFfiedt/1NuF1FUZ2YXCpLVeefL8tWFyHyaWWn2QVMuiVdSa+KCB/ESrl4oYOjrYbhirO9uBOQU6kXorTKTXVQkfKyGKKGuo0om3PFZdkQXexRuSTQFJp4o0rhmmRYXqR6VZyMprJ226XVYeRmk9+ieV+wQ3lZpUUIZZnZmjGB6GMdoY5ZW/cTURenxbBxyWJqh2pZo0oNunhpFRWSimeb21p2qM5Crqdb7MddyaUqyGK6ZW4UeVop5X9OKeevMH/SWpTkg46lqoR1qqiq90xmWujKl6mK2ei4WqpUoqKOWNeWeoIbLKDFSuZrMiieCeOzBI1oKbVQQvbrjwSSZxZkPIaX3XUKqtkbnO1Gi5IWZqlobmJTpvWtbMeFG+RUbX5qr1uUWgtu+f+22ys26KbFr1J+dvrnQfPq92gIWK36rq0LkynWgI7jGmfu0VM6MDeAtifaLY2DCK3VbY3ap8CVwwmjpfBOlmhS3bYY7LwSWvsjAz/+TFfOGeqM4ygZofroeqmGDSHQwvX6b5F+xuos9WOmvLMm0lKNctWb5ggy1FeunWpm04dKb/6kjzw0V6y3SDZ+XLl9doa8fx2lUKn/4wq2lLji9bJZRaOsdLaimWepFpvK9Z9Yjfdk8eD39uy4XNmnRukoSbcNHOMT/rzU5Qrm+7YoGvpHJhkjlha6X1hbunpbafu3sYIVz5mkbAD1XuvRRct5XUZS7w03SYHy/uvsQteu68tOk48wUwvSbvzi3aefUyuVq069IaCTzjXrkcYsrbbI9U92N8L/3yJsudbvpB0Hnw2SpCP7p+vcu4+rJXUMRvbhEa+6RVmW/pDnbg+9aa0eAxekUvfpbbnMYaJBFL/O1zZUMOqwqlpcZ/y1p0QZBUMdnBsmuNgh4QFrA2GcG8jtNyt0Jed6SgOd84TzQoxN6SDDelxyltV6v/UR8Phpa5/RnqWxeLHuZHRbyhAFJAQF/gUCz4vRuETEfMyBUUPWm5QLDxWTaxYLSxKhDwX4+KGWPg7wBEMe+JZnu4kJLqkpRGEe3IfvvzmOaO8DliiqmPPtojHLNJtj3Kr2wRrEkbEBbJsxoMa5MQ4Ra7F7ZKLPKDCevVIJyIuWaEjoKdy5kZMxvBlWNFSGWm4r8qRy3PjWw0J4bjJzCFJhoxUpcFYmThAvhKWXwwiLmkJQA1uLpEHbKIxRfIiEfKtfjTk493k5TuNnQ8lzYThM1GYO8s48DrUpEnN3Da/Rerwk+zD1r9cOUA6TTKV3SJnIpG4pJ2Bj4IInNgwbSn/RjJuRFqL6iT83AfBkn3qlwy8Ig7XtFA/fi+gBkTY3zK2OlId8SuolBh4/Im/bwLPPfScU+mIU9G5ifKjppJi/JKpttsVan0jDWBJnTYwdxmIZitlTwcBZE+RnRFgIxsiTX2qyIAd1HI2gufleIq0Qu4JYkIh4Tn/yE0T9SepPykU/DIWSKIaEahcxaW7VLhLOIYTKFqlkVq7WkSRBnCHZ12UHjFVUQ7OMo7Fa9uTrta00NVreFPFzHE6ebQscdSbeV3XO0/azbytUTdLDB7LRAnCw2LEfvOE7CBN6UkFcvKF8Uys5NYZNe5FM7MA7WtLcaefl66tlUUl7f1Mi1OD/152b87UkMtiGydk+sRVBXWnb72V25HtlpjX80lqHWMdhlG1In4FYPKiS7qH/rO5DS1tOf9411rOliZdJKYlJdoplY4trrwdGvy+u5HwjladMaRuMduGXuQqL6xG6Slugboj+zDRl5C8HDfhqjEJOvaj1xyl0UbyQAB3VsB6NR1GJ8XebPHVqIQ1JL5u1zrryomgOUVpaf07JMUiNbsBjllUfemcDyMvxOg0cElmGtoDraxz5Vpi4yr6sw7fcF1zxWbS5tbAh5E3kvSL500bK90C2zLI0vEifKGbz5SiM4r7q2tE83fIatZyvFMO8PkQI9/qbfNz96wmY43Zu5DiSv+Zp0qomQVUYtUecM38lDCYzEg9vFk0XMU9ZwJHfN288rGwYD3zXvf2wSHTMYVvVa5aZXxKxCHSVFweb44HLNtIV8Vfd92qLQcqvsxWGqH1TLPILBvl+N73jXQkdVp3d+pfplqycKOLuYCb0x0xFc+zezWNt7Jr3MXUeu0EtvyE7WjwIs2sr+Z0Be1l04W2Z0RazOqzR0tWacfvzeAy17UTmW2okMl9+nulRrO87catEqI1Xne/lPhOAt/QmUsedIujvWB5qyxD81WgVEF7qdsZNcCaU7KfncPqC0J2jgIXK8H1W2c4J7w4Wl53w1ud3jl76sdBPRGdUeRxjftoiRX/LnTH+YQ2ambzwhgnOcvfvUgQpvy2oh1vuUeOxeXeMrWiJmpytZ3zUob8j3q7tXCDi1k5pevm7bXjUb/8Xkcy2+bh1mawh/5bqQ+P6hK02Z+xrkArNlK8aPXz4eRrZAyDS7e+PHac1bLZCGuvIga664t83OvyEnreCi9uVdvnaAgiWdI7DFzMh/1UNXrc8CHfuDrbeJVAHfqZ/gSlb+V+s8hdXmCOVXawxaiYyqZTWbD1dwOTJzKu0z2yp8/1VZtNZda31fWn0SVZGetzuPc2yc9D8GmjpXtmU9K6n/09Qz2LTsxSxu9QzSufjYnutpoY4QSDujihHybYTj/PXx91/5F8WFOPLobXqk/i5E29bJT5djDoD3mRl/X3uQNQ7E6yO/0N/b3pxD/xNuZ+gGJtUuZ4RMIc/wdh/qMl2ldNXDZrmbQaTuVGQnU8zkdaz/eAmhJSPGd9+VKB9lJImbYY0+ZPAEdK2yN4GMhuz7dhWieB2jFobecnC6WCaWJ+qxdp50R6Bec2+TcflHZ/Ichob2dp4EcYsfRcwMdZl0Zog5RjkvdvmKOEy9dy/MZ2D3ZvtAd/7MMmLxRcg0UuO6ddERVvEciF47Rn/MOA4CSGK2ZfVoaCZ4iEXlSCiQZ2V7ZP5gWDUah4+IV6andLZUdFAag8NkiCbbhKhhVBApRjR8fiWkwoiIwSPYqoLXwFbhLziJrSN8vTgHZzVKBHZT/lhRY3NF5VH1Z1Ys41fkRYiu4ShK+RRsdVdRdYLY3kiXwhi6zIgwdnimmGZT+ofvSVU8S1QMlFecEYW95zcdEzcFOGi9GxXlkng4tHbROWjHh1TINoX094jdjIcQWUcUlUcYLFb9+4f27kc7ZneeUIZucojHVXdBn1PnL0jsyVYgW4TPQYZvYYdfiXS/2Ydv+4fQGZX2k2cgVJNAcJgwmpGNDYkIBHGAEBACH5BAUKAAEALCoALACsALIAAAj/AAMIHEiwoMGDBgUIAABAoUMBCCNKnEixosWLGDNq3KiQ4UOFG0OKHEmypMmEEAM8FMhQIMiTMGPKnHnx5coALVWmpMmzp8+YLyUG/Um0qNGDQxEmPcq0qcylLlMyzOm0qlWSUHWynHq1q9eQVA+G/Uq2rFgAEseaXfu149S3YdWyndvULVyuA+XS3cv0ptq/DXfyHQzU4VaDgLMSXmzyZdzABN0yngzTMdq8kAdKpsxZsWbBNkELRnmT82DPUSOnHOr542jTc+1eRqiWtcOwm9+ihl1VdtrZn1VvjppT92veXmXXXog3dGqcU936xSv0OHKayoETb766+1aPzKfr/1V9vbJ3nb45vg5duuBSy+DLj3SOnvn4ie+7tyfvXmp06/L1tNth0A34mW0E3WVggCUZWFxmFrU3lIIAMlidUuc9d2FFWUkXnmuiWYhRhxlqhV+F/KEEHniupSiiUaEBtmFOti34YlExagfdjJfViOKNFN014m14Pfadjoj1GGJw9WkIZEFC1kTkgwle9laQSrrIXolAWoZSdTkCRmWTO2K2YZU2Iudlf2B2dyWURSq5JoEYJpmmaTTaRx1mCBb445lMRtXnlk+aqVOUaC4Zn0j5CbckoU/uB51xjmK46HL87dbnooUK+hqFlSL1IZ2BmqipohB26uSDlJ6F4Zr3Tf+Yam6pktqlYKz+RxuSZI5ZJ5+iPbjUfS+mF+VdrSbaaKlHqvbmrsjyWp6xcB0JKpyS9lklbnr+Fm2x1okp7YkEsqhnfrLq5euBhpmWlbghwRqYbOjiumeVttZ3Z1e7PTvpvaJKuuG7Vlbbn6y/nvajv4hG1KKUTuL773IIi7rXtV/+ay3ASRJr4qvtbivnp9ECt+9PGLOp8cQcw+lxax91PLLMDZ/MU7o60perp5iWOR2WGYMFnMf82tuzvHkOx2TS/gGtstASLzanwyQnbGjQHy9d69NUYx0xWVNbne/XemmrNcwULetiWdkp7e+Rp5Ka59fNGmogfWuz1TZzIsv/HHeZBOLt8tBZcshl1mwb/Z9r1wpb4Wae3efvyURzDaPi5j7UeMEwzx2R5HtSPq7YTUVpWXbPNezsvAtzJ3LZS6beMtqlG3y6np6r/pm5WHq+sdWbzv74n0cNy+vUPm7Hqb7twtfymwQvL7HuRSf5K7eh0ivaw86r6/pZ0htKPXYVtir4c/QJjBnsdF/tvpbbu2lw+4V5m9n5pp6nft0ZR64j+6W6CeqY9RTr3C12BLQfhcy2K+sZDnlNK54BicdAxE2kZKzLmwOjdiIIjq0onpOV2g6lq6xB6k0oJBzTEuUpT6UvgkaqSgjtNULtOemEcVoX9ELmpxYyD30wJNxa/0jEv90VLl/Oe13J8pUsqlErhSu8ChFXtrpV5cw/j8HguuD2I83l8Is+dIoA5fe7C2YGe+yK4Q7t58O3lUl3MexL88jIMix5MI1CXJn/oujGXMnofT+pYfn+tzX4VbGOgGOS8fz4vC/uDEfrQeAGgQUo2zASiYeD4vwGV0Y3GiUxh0ueqwAps6/R7ltmfOQNiXcSUJoyfg0kJScteEpk9a5gaKQfVkhWOS6uEmmhi5ndFNemjHnSiDu0meFKeRHzwfKNm3xY4IjpxEgWUUW24+Enjwgn2emyiNI0Y9/yZ8P+TC5cJVOmRnzXTROxE1omE6bT6ralJiovnvBMmU/Sk/+2D2ULRBE6nNziWbFwOkiFoyvgMbEZThdqs2sWHGiopikh4mUxoTwJ38D41sP8fdNn1qSiytRZTZKus5AQpdULP/pOdwrvo/GSJ8o2yUHjeVGjiWwpBzdmHNrBZny5BFY5J6lTQGJwfxFljCYn2szjsVJly4ujItFJuv499aSqJBNGAKiR23HwaFS1GLmS2so9LTSB6xsXUq0Yxqli85VtxOhML9pPNlazrsNcVn5aisOvwAt8+BylVb0mS7yOM6hdvWpG/srM9gFwhDuF2CwRmxGTViSF9WxZuTTLrl8OEqe7GuNjObpWmWBWP936HC4TOkam+u2pvCPhryD30Jv/4U6tqSXNuahJWIZGMHuDBCITOWvb8d0TZE085qkudUX8SUxnhOwlTZjmPTQOirey9ag5CcpRi9iTkuB1CnV5dc5VWpFbM3wrHrdaQjvRULH166xLNRjAINLXkGK9J2VR+UE5ApdUPp1vIv/WPktGk5eblC5TYuveulU3m21tYhK3e1YHg5EtDMYWFguWz++1R8IbxmaFV7ZUuizruwSrJEfPCVQO09JePG0v2EKK4rACb8XBbPE0scbI724zoL4cK9niFL3Veq+tHc6qeXtSOecR2IKnhWcZHVhaVLqxgvFl75CKaty09lerXgZsMkNKlDtJl7YdvuWXJXVMVP5z/58UfKqPRlzVAaO2n20GmP8sC1Oy5rc+dP5zTe98ojz3LLTwbSo9yYzMhDKNti1eFG2nWGAeKjfR3l0tXCns6JFBmqZpzRGS6wuycfZ2lzEeM5sN9mhq4iy9WUuhQ68Za0K2lnyp5k5DEdnqcb66cIKT9Q9FylYNO7eADxtfmK4Y4e9FFsvEDnObwibBZIMaiFcm9KInueTGznLav9VbuLfio38yt3KwC16sJshts1B7eSCK5Lnlmm5UrZt0Cr6KVDNFxz6vDtbdtvN95RvZruzbrdn1d6OFS2r3Qdu1iUTORX3s54EzPOCQMux1Ji5ji6OV3/gF4gHFmNvBHfSStf8GsuEOLXBZ8lk9hkYpM00H42WunNkOr/mpxQswZzo2j5gckofWHEHRKTwmfSzhsaXK8n4OPeJQ5aaWK45rsYK2g+zWrsY/iDM1t9MqU7x6McV6bMJyNdre/vKPVWvXU1fM1JUtUUWfW/JAZ3RcoDu7ixgbd8/uXUkMI65X0C3Xk8Ol3KOC6HAvSu21EF7ltwSxFwPM91bl2yeXJyFOjS5kdhnYwt2Tub7lKmKUch5QszYi6Dcs9hk7fdztpHjZtdb6zYpr9tXD+pdzNcW/UdyBSZc0piV4SG9Dt/WUpXWmD5l8cRf/29r9fc6lvBH0uvjoo7/p1srbeZCnUuomROD/E0XvV9Z9l/uoR7hdBQk/Tb68uIGdJAQz3nn1XZfrt808yZuPRm7RX8WUFn1OxV8icjJd11EspFpRhVBepSof13lRpmH283b/0oDgcl1IpX0AxmjNRlcBU3REoiY8tCUwQy15Uy9wd2lr4kUSB2EP+G8ZlHIPBHveJzLvJ0Mu2GfaE2yF1y73BmUdxxtddnFg9kL8ZDkEl4Tp91PXNlLPxHAaKGhKCGZLiCfg1zk9F39hFoCWQkjPp3+jt2ld+EdDVlTL5YWqV1iEYS75tkAPdVZRGEvHR35CaH6kl1aZg2BtclawJn3l8UglmFpFBnAuF0kjJx+AODzpMYjAVjVS/1ha2HcxtkSFXFNB2aY7tFIzNoaIk5iB4qeHnLYcPaaFBccgjad7H3iJzsY1Y6ZEN5h7+WZ/U3JFa/RnrYiHdNiCidiFs1VbbHcw4WY8Dkhiq/h8/GYjFBOMjqgqA+Q4idV2IMWDmviK4nYsnKNYe5RHtxZjEDeMYzJhIQeEwrZIRgZ+wzg9hZNt4dhJ4KdJRXWOmhddOAeDxsRdUwaPMJeFTReP9RgqQ4iPWwdNAZeAbldyVDZ8FiKMIEVfmzdBfGiOADmDK5h1mdaAuBeRAfUzSYWMZ3Q/AoWRUqKQ3ShZkQiSY/dsvgh5VGeSQgNtJEWNLImAG4mQKxmTjCJJNg/ZGTiZk7ABkzzpX4wREAAAIfkEBQoAAQAsKgAqAKwAsgAACP8AAwgcSLCgwYMIBQpYKCChw4cQI0qcSLGixYsSGTbEyLGjx48gQxoEQBKAyJMoU6r0WNLkypcwY6Js2VIgSZk4c+p0SLOkTZc7gwqNWTPAwqFIk64selSp06cpmxKUCrWq1YRUFW68yrVrgJtew4r9CnSs2acap24le7ZtzLQDqYJ1S1ckVY0LSeJdm7WuX4h38erFq/bv374yERu+qhhm48VOAxuUPBBsUa0OH0MOSrlw3LWWfX7OvHaz0sBzjW5s2rOnVriTBaQ2PRR12aasWzMlfDBvWdqO9/JdzTA2wtA8bxNPrhk46b2eYY8+iDxhatylCw523jH0ZdWYqQP/gPv95+6fpMM3567dpevpigfnnk32PFusy8Gzn5iaPsHtD/UF3X1a2VceWevt199v7TUnIG/XySbafAwCuB9+6EXUknTHjZedeWUd+J5v/l04XYkjlcShePGJBmKKux1oomoWFoTdfwz6pt6H7RWo4kYyVsbgjL4pdqOQsYF1ZHI+AhhkhkQyBOCS4tkXHmDFsQiki/c9CZxGU+bXoZX6YdkihTi+aGJuFFEYoUVeKrlldVDux+ZEbioHJ5cphlfUghfKNWSZNLaWHob18dmebh0m6JagCNn2XqQ8+klTcoxqyR6JgxqXqGdpEqoWpDaCJpqcnjrHaUZz6tmjqJ+R/wrqp/c9eKGXV+pHGZoE6tqqj7kGO91PjoqFK6FUHvmnq7zqCKuRphY71pu9ZZlqlYM+NiB9CfL6F7WxQYtptpWqRl6O5Xp2bFfOyookS+jWOWan1e7lnaJhtWtqn/B6iqKQ/4YrmHuXilVkucWWKGhod44r0YF99STtWxJqm+6r1y7bsHX4YnstiDWelt1jAZf68buhDgiyos2K6TFUtnLc5sg80iendJmqO6HLMNKLVMgvs0opjiVTKW+s1sL62pZdAd3zzEMD7LOv/ArcWakb1yWuyfhdDSLJHhLtErQlTurX1rMKnHaiYC88No/O9lzyTnAlm7RFRld7dMx4S/84N9W1ZWn3xNFdnPWzF1O6LuAiq2U2lrmuGLXKeiM9q76EJyVpx5MP1y1xkg9r7nCOv5053XBLeDKqpX4n8cXHHpmbg6k3Xi232bFe+oIbws45fPk5zfXJqON4bt1ZRmjvqVzemafuAUq5M+VCK42SoMcLnrxyy9+rs6UjJj76btRHlLdQlLHueogF76lmh0tX/erfjJFe668oJ0r//L/fnPugdLIK73a2O/Y5qWP7ex/GLCezRU2NeDMxIAE/s74Dlu2BDoQf1spls99FbSVgO9TS5PSvx9WLN5ZKkNkgxjOchBBRI3xbCdvXNRTqR3hyk6CnTgeSO8XOftByVu//eMg3jpFpVMRJoEd86EFktTCGX7tbRYo4L+ghEVicaRULP5InCMovfojrDrPEx0UtsoyMiDKhCtGVNx5Si4cYuRfywGgm6dWJhBj83g2nFrcpak8mcvzj6FgFJoKlTHV+zNDhkpTHDQorJLMD4v92tConCutqVKpOIUUIEiVCDUGS5Bd2Krkrml3OZZq0Iww72cg4vu2RC8zQssJEKrNhEo04bKAGYcK65nRQTb2jY5doeEuK5HKX4gmOFa2ns1nSJJIrW1wBf2k+msGRI/ry4okKphto6o+GrDLh3x50zY/gbk8dtKUgIQKuQqWzYH0Mog3LqUvRPUxRORskMxe4/7kc4nFtS5MOPY3ZynfhjGB4pJzFGHk0E5ZRKJ68Xy13Jp+kLbR1hnRgRDlpO1LFbFmu/KSXLnoYVL6SayC9yP68VbkP0iUwMaOi1EJ1yrW562TnuidaPGfKMAatV5Gz36z+RU6maaigBE0qUOFFzaiRiXyG85uhjjrQ/LEzoyEREb1aJjZhKk43GDzmRQ76tG3C0l/Mc+Y7h/qjHQYPq9haZhlvSitLnRWlac3rWkUXTK4pC645vOtDkRbIHQGUr2AtZNGGwzDQ+a5R+EsMTwvLuH267XWV5KQQw6ZPJmmqri+RqWcPCbkGWVN8XL1dW4GnNopp84v3K63xTlu9I/9ScLWGdaROtkWu3K5PgaUT5WP96rJSzpamu4VQbwH3W9AG91W+jFdljSskuqKvZqZD4yZVa8HlEtV3ocNieF2IXa9Gr48FZKkeXQpZi/kPKS36TlGD6lSEhpWzdrtW5qpavcDaU59eM6tzOSY7oYpuv2jMCWUVWbvPrqy/JxQtnhr8M/t6lMKmFds4EWZDwUaPvcmFbeeQS9//gvCJLXVnE08s4srRtZjk9XBQHdpDKUJ4Ty+28QlxKpwNE2tfS51rgk3MH87uTcettWmPMehNWSIVm61i4nNJydPcojfIVj3vkOWaxSg6ecpSDWqBsUjiWGrZfftMSTvnlaKINXL/jhvMaTVvuTU5czmkRO5qhs38nBYKx6h1PGWdt8dgNWcXrfK1qKnU+Vp+SpHGdh3eTIlyaLwm+mr5lDAyVwTpPa5uxSGe9I+fB05H52qAuQVuocAHzz8PmcWiBiWp4zRG5NrHbQzdY/j+nBPKVVSeD471ens1aza6Ws7AfHJUbPjr1HVR2AKuU7GtdmxA02qjyT3YgLDznmYfd6mZBGyRUV3N+mmbN9zmpocOerhwH+2e5JYtVCKUywCXGM2nbt6ilaNGdL86gqUjqfXsfVS2tjPR/YYzfLU7T0S6dJQcZnRsoau9kQL5ujMTqMNTDHHSSHyZ71UxJ7F9Eo0Lt7SN/51YX8fbTuwh2SompzjKCTbeeXW8nphe978lW2b5ufmCke45uPPjPNRa+7A8z7LP/wd0T/N56L496cxBvFPzblfVN46r1F8G04EhnSs3R2K8E/mQ8DnMicv7urk3PtuYN8nIkp4xDe+VaOQKfO0XVChjcRt3J67QvnXP391h/u/o0i7VTo/m1lvEZq8g+KqHn661M0XwC5IcJ8KzOCxzXsqW2094bds5peO7VRRzXpKe1xnaHGywz/Pd7lFVe4oPK1P+unabmXeVZoe8eiU3WlVhNmKFTkpNljNvxDPCD62Lf3SJcvD4LhZ9/fr8dn8uvvk/vLCM8wx2Dqf7nWQ6XP/2gXy+VZ7lr53+8oFF3/Wu0176mntr+odZUygj0f1Etr1S1ArAZ2pvvN+nb4WWQdHGHfxXRToXUBz2dtQCcgKIZSUVSZXUdM+mX1IVJIrFPsO2Gdkzgf3HagqzdzSWgbD3bnRxThhVZn0VbL9Xdq9nficoXc/VUHw3gvC3gh9mGOWDgldEbKqEeG4lTCF3bzrYYVCnW8qzceVnZUkzhJZkGjWySFmWWZVVVjX3Lm8Ef1URhc1XZlS4hLRyheoHhKaxg1v3VBMENotlcDLIfWNhhvkGPbf2fGuIWDzohmbBhSwIK/MndtJVfhXIWoahh9+0Nn1IWH9oemYUhJBxMBXe1VqBSFp9d08/d3204YgJqFuRaFA9hWNMZ4lrYnQuV1bv12aRZWb6R3iEFC2fCEFupl5TqIV5eF9SeIh3xCVAwymX5xZ/c0AIqFQKlIsXqGx24jsVVYekODqfk3wTdlXHyEfYlYTLyIzRE4JSOGadJTWDRo1jxXYMFIJMWInbyI3lxkB6Jk3cFyYmSI45aF7O1DfM8Vbs2BGVWEGltnpXRn3zyFHfNEBbxHHeqI/7GE4dcy7oaIWdOJAzg4Hbc5AEqGkKWY5Ct44RWRVuNloV2RavQ3UZ2TT+x5E7ERAAACH5BAUKAAEALCgAKACwALYAAAj/AAMIHEiwoMGDCAkKEJCwocOHECNKnEixosWLCy9q3Mixo8ePFDOCHEmypMmRIk+qXMkSpQAAABCmbEmzps2EC2HKZHizp8+aMGcKFPqzqFGQQXkqVHq0qVOMC5ki1Pm0qtWDUaUepHq1q9cAIkVSDav1q9meZAWO5Un0rFubWWe2fUu3Zlymc+vqZQmT68C7BvPuHTyxb8yCgBGXJcy4oVjDkAmuDby4sWWwPCFHHjhZ8eXPiokazioZQFa/oEGTLjg6aunTh1Obzbl5qWHKcjP3NXhbdlXavW3vDo1XN+oAwX2jvfty+HHNaRNqnhpbuV3mvZ9Djk49eWnr19UO/xdfOilw065xLn78kDv4io/9yu8L23xlzDvJO3T/3mV5+mxpdZx4x9E2VHG56SdYfxDNBF2AvFX3H2WdHZggcoctyOBfcY1kH4EShtThhlCt9tGHGA4oUWIkRpRbUvr5dR6FGSJ431ItevQiejFWN6NiFWKm4YE5lsiUjOk51txa7AlpI5EcQklZkVglieFSGv64GpNP4hell1NSKVFyq80VpIkYNolmQ0nNJ+ZW4zkpJWs1Ynkkj1fKCVGb1anIoGjDGVilguuNOBd/HCY2pHKArqWimoWWWeicdkr6HlGCsolnmBPS2Rp1+uUnJqbNPQTjoJ6G+CCoeYr6pqt0hv95qFbx1WbRlod1tqhlZoaIKKVeauZng+lRpeuNlyHqXaou6hZqrHuGyGl/ysYZ4bA45qkitpxJ61mLj5bqJK6/Bmsts16StSywDIbLJbkQorput8ceOO+uewk2q5K43Qkpq999C+V0suk7qXr9vuYsmNAGnO3Atn6mpb/IKjlvmBd/aae9wprq7W9L1tktvjRyCzG3pKrbsUMm/+RmlZkS26nBIHLraJyCnsruVy/32/KcvdGc4rkRcoyksZsyPButVpKFaK0OAmhhvFEHCeV52l1d8VMpFzc1sFDfeaqlDAfNtNHn1tsYkmg3+fDIUbX2tIA+Uvwvw/tq3BXbmH3/2qre4tWH3txF642i2jtf6BTW3p4Xtcqd+g15tzvf23SA0dGWt0+M7+R34AHOh/TYofcp8rWNX/51us1tvhzBmipZ6386s/4ymowvi/vCrGa8Uucsf6xncqt+GTOXwgnrq+p/F+67ShM/C+LUbqNaWI2KS7fy6KZfv3NJ0Tc/NPW8Wz8m9l4HTzD3Dkf7PUmCVp2rcziHXPy0JAOeau2w7zci5+KS3/TGxyHl1e5t+Xvf/YbWMhYt51k/Wp/UlCYiWZ1NfwNs1qIct7WNVC+Cm5FcB82nNfwt5nkbI9bnTHKhRs3vfQhMn8em9TYUlk1VSSvXR1pIN6TBUG/Zi53A/4Zow6hFiIdAqdHP6IVDiMmOaWSyEsCGCLqS1S+BGrlZRZbVmWGtqW9XRFa4jghFW32xJVa7Yc+YiLpe7eSMVSpi3JZnuZukUYCUQ9d/3AgzKapHjjFDG6xaEkg4SY848jsgG291wtRZUFSzoyD4xCVEL/6PgUnrFHwaOUjWQdI4p4NL+vpXqR4GKi7zmZWGHgTHt/ELkwDMFikT5UeC3SWVkRLjdi7ZSVHNcpKdtKH39DQnwZHuZKF85TBdCRLXZRAp6Ish4zIHyh9as2EY1BHd2pdC8sFKdzLEpCLxJccn/m6beUwYLV0HzhoKi1TXa+B9Wgk/3VSvPVuLThpfaf8fvlWubmYj1O4Iac/y4bNZTpQkwtI0xxhOMXzvCudJyNaRDYaskypTW7lIRTwDPnOi6cEiDf9INApmVGTUxOhFmSjBJW5EkZ5zJCYFwz0UpfCYccyhHz1mwEyaBKY59eUuK7nLrlVRoZrrUjwNKFK+lDQ7E8xN2H4IKBOak5FmmRdUcbo6ER4Um8Wc505l1pRacbFuI1UYRfMITyrSyT0O/ORRzJo2tLpVrSFFZ1uZqbCw0rOE0BshHOX5Q0UerX6ChFYQTcrLwE5ksMLL1ip9eli+/Shgi+1aU7eoU36+UKEce6xE0TXZwinTfyupndB8CFowipaviywtWEm40JP/mG2MqCXpHfOJTqDN75c3hNVmo6VF2qa1gKc87kj9qa2VTQu31+yI6HxaSmaqdrRTqyNb5whcTRpvhCWZrsEG+tZwqnKlz0Wf8ni6vOiqZL0UtKQzGXtUd0VWfKgbDHyrqp75tvVU9p2h+u57FeBpqrv4BZLphuvdHaGMYgBEcM1Kekga9RWazL1sbRlaFKF596PpTNVfs/msFfaTwnAC6jlPC2KtektuvBUiiB7HXQIzkcHNjJfWEtm9+NoVX04DpXgNulCk6ZAlcMWc2OKURssKVskT3iORhXpUHL8xxl+yqWJ1TMwEnzZnIZygB7kMUovKcnCc9CQtuUnW0MJy/2jDPXJF0dtl2Ep1rCmcqm6j+Tf4Jk6s3cxxFOfrVzyv2VwqBiPy+uxcpAL60Lb9rfA2it1F0k6niXnwpb2JzdvaNbySfqXraFrXFTJnykTcTFwZXVz3InTLix3zhJV3UrMZccD7rWaIrbxhgVYaKrN+Z+lsaSWb9VRkHYUtqPXMQYyhFLzNTd5n84vISxaPj4H2EJ5EuMKEytmQfwNhd5Z36kuXq0CGnnOU9ag9qnL5btlm6aeDJ9QoEnTdHwZ3lt69MKOmGLHuk5cZoQ2VBfpZnNTtMmzqnXDUbXXarcVsuutp8EbTOpd2wm23tddSiC9q0QAkdU8r/G83f1G7+v88V6yHV1SCa1PkHvUyaQNYy5KmlIAO7eOER3xvSOOc3lmmnwmBfCeTX3DcLkWyUn8uY0RDvNCv3e5uD4xikKVcu7BlX24LN1468/eZvJ7z1W1+dGg9j49dt3enAV6UMxWd3Sx+80X6B9kAk9gobmdzOfdnY6TXrVd2d/UD4QZBXT8y6MyNiISjbWn9fbvn9bUrykfJ9vM9j7UgbmvYK4jcNWo4rFf+fGsLOe4eYd0qDu5xYnPeL9EbrGVQxfddzwLjIMMX3RYDKP2QiGs+H37z2raP7bfXXpJK+6iApTrIv/V4vKMYTcsH/ZYnT0/ME6e6EXe+fN/+xcXeDLerDlj/uO7c/FjOntNJBrzqtbcjiX+VMXvt481XR22SX9jNhHp/slANNiXn3bXbVXjwZlw/F39ecU9uNXzSdzzI9nf99mj1R197cXZ+BGaT9X8Ghjfx8nBWVRcUyFHzc4GhVGvzNnaZ92u0FzGcd3zbRWqXFlAJRjrAZxOLF3caFn1rl2skJ4MuBzIZZiP79HMZU258N11ct3R6ETPZs3AK1VHbd3IWV1dQ1xiu11sxiENGyBHQJT4zeB3ttHZT9EzC1G7mg3uqsVI8RHo31ljx04MsF0mCtzQwuGOU9G+r1oZj9hhwmH10AX3J9C3bUnw0dmcgJn32t3+3tlovJoh20yWn/3dr70F3rZNX+XZIXYSFTIZiAPZ0siGJKIJHphWA4tM/GbOJh/gZxKZOYShvCeVwaHZl0oaDlpGK10eGrtiKfAdHu0NsXegypwSJCpdm/CNTyCRcISM4vZhEy4ckK2dkb9eBj3iMNZaMNNiA1Zc6g4ZqLsR6alaDHmiNhmZfzKiNpsSNY5d0dMFaYKZ10mSFLEhGJ8Ze1GhHn7WOoTZEUBhTgZhUaihllyJWB3eKLShWbUheEjePP/F6jSaQvvZEEWVdvvcq7xN+8odlHkNjEqlc48JbPMeHHEZ4GcmNHZhxVed0w8JVIamBX8Y0oudspYgnCFlgLrdyyGSKHsmQRXCCRTRpktv2h02Xknynfz/5Zh3JjkDJilsHdJtWZ2Q4hkcJJ93Hf0D0jIo2VE9pEVqGi8bYPrnTcFepbh4ZZJKFgl8JlmYWjIZYljG1SWOWlWopIknXVPzohm/peMgSk3WZlO6Wl13Rj3z5Fn7pFQEBACH5BAUKAAEALCgAKACwALYAAAj/AAMIHEiwoMGDCAUKEJCwocOHECNKnEixosWLCy9q3Mixo8ePFAGIBJARpMmTKFN2HEmSocqXMGOeLEmQJU2ZOHPqTHhToE2XO4MKHdozQNGhSJOaLHpUqdOnD0UqBMqTKtSrWH0CmPqwadavQRey1Cq1YFmwaJOKHUl2q1m3aeMmZTl24FmjVuXqhUmXrV24ePcKfrl2asm1dQl6Hcw4YmG8hwX0Nbi4seWqiQuWvFvTb+XLjBEDVuyS89+yn0FjFcm0tNuFsGG3/ZxatVPWeTe/ji07wM+ueW0T7U1ZMmDcN+vqbojcuHClsRE+1hr99G6tzFtOf670t8PIZU1L/6camXZw7h69NwTvVvzBm+XPk0YP0v324rrdc/Xd/rpm4n8ZJh99DtnnXFX5jfYfdvztR1pRqAFIIET3BTYQhP0tVt1+n/U12YQWVQhfXuG1tB6AkUXlYWYgSpSgaY+l+F9syp2nW3Ir7iZji+O1BeOBO17IW4098ofjigI6yKOSbTVpoYbkuXbXXSM6WZ1+SwppUF1EWljkfplRGaWVvWG5pGgRvqggk9aVaNqUIyVYZZYnfnglXV++xaVfnXWG22xj0lkgn4MWN591fR4EJ5zZCZoQi48qOKeTDG55HKFYmkkgjocaipmOuQ34pn/FfUgnp1q+N2CMEnqpqIIRjv9nqqCaUueSjDQSCtyDA7IJaa2gAfvnk7fCBumJvO6qJ6xrPjfnsKQN696olYakXaDHNpiqas+a+J+0zVKrbUXNHZqtmEtmq6a5cZLY7Jyt1UYpj+pKSaic7uYZZJISZXtZU+L6iGl/CPlL0aRvtQgws37iGeC4y36EcKJn2hiogCO2puRyrh5a3ZGk8tgUwrxFqbGrHI9cbJBdcncyvxi5RjJVP/raLMXovQxZr9/JfLGrNXcMccE3W2ZegsBN/PCd53qL8cqtesrmVUfbm/TPiTKt618Z91ayslOjheq6qbJaZ444W9rotqku6q28YdHs36zshT1VjpeuTXSnbV//OizcMn0s994zGofut2ir+rWqdspdYtqFQ+f14K/iZzhgreE93uKlOgxytVhuGDfhLbPN4HYsEzw0f4fzTTSSgi1MptRLH8gh5Y9HbLrQlsK+V5Ci6zyv4K9jDuCswDZMJpScxwQ8iqH2bvy+iAoJMqPWugnqic3DhGuxEzXuGOUwVw70u1Bbnl2sOn1v96ulI/tw+WqfX6To9OsOOEdmh3igpsRjnfE8hSanFUpVKkJe0SQGJJ7JSnXcA58AXUesvtTGQAl0WLX4srX3UXCDjFvgAQ3mqQiRMGFBqdf4CHe2jWhvIim7XPhEiBIM9ixNkwPh2CxGttPZDoFVsRy4/9inEhu2cGcyCpoPN2cv7FXog7vLFdJ455EkSkpu/fNYA/kmrMTRTiYn7IgVaYcbIpZti2zrou8WpJMwggR/QRSSCT3jwDOWkI61QdXdtva93O2vInDUVwPj1zM2TTGQQKyWaAhYLD/WcSUDPJjjIpkn2u2PPb+6V5TK2K4AFpGSLpokFN+nNGUVUHp8W4toFvfHKq7KXTWCVpu2Zz3ecLGDAtSUwZ5opEe+8ZXSmyOGatS14IkSfrhU3qeI1sojgm1+udTkLV9Yve5BE3KqNFYyz8gxlPDyixBbI8L25LansRCF0brWCeMDQpPs6X5Wm+WICHnHjU1STGEyIINkuf8+GmrknUCcosDmSUdlmfF6xssnhmwVETfGzGCZ0uCnzJisnnWzerJEZCXRmZJFRqqfAJQhFTVaSxDuqWswFJU/N3JKrmGtds88WT5tJdBodm6UKGtVM28o0Yyeh6KJFFpNS6S1hv2odUGF4069aRzmRW93wexP09g3rXbdDpC+zEk2I2hJnn1oVsq8aMPcJ0mqaVOPbMSZMRfK0fLxU1uZhF3J7vQUKZIvrdBca77aurPOsDWuHnoaXfVyo6jJM33I5Jd6VkcuL84SrF8p7GIsiFhU9lWAaL2I5pa1xqVIEJzpnKthQ1pTY+7Rp369K5gGBlCmhg1KzbFmOyM3wZL/nnGxOMqshfLZ2piUK6eKLJM+qbjRk7EVtuhbbT9z8ttuVfStcBMeseqHXHjOdl5MrdvucqfMdHqwtoZsFT37BjmuOm9ySN0ns44asuJREI7jVe41LZrVfyZ3urMMq70O6RpAQam7FNLmDIViw9Txdm5WrS3HfvLf6o3vm+YTymTfZkvORlKW6dWWUzeKzaZSrpSEUWl8hinNXqp1rxsOav1C++GXPgVcoA2lW6/F1u9mJ7oetnEbvaVE/83YmhmeIY7/Vl+WWoyhSHxqNj1pvqV+VI7brKjgSCrGI5s4yYyM7WebXGSI4DPKtp2yYXfSJUixk6/4Cu9Q0TfH7yot/3kvKTMfKzvfNAtVuNi7KV6A2tUVdzRQCx5YeRP72Gu9VsQ8Eytel/tnLao3z4wltMCaa2VmJrq/cczgThS9ooW5Mci2VWxBiTvftc3xra5dXad/KlG9kVqvsyP1dc136uGqxKPDa6TfiqazN4O5sbwSbWGxG+IDa7GcmWabr+Hc0OkJe9jg3TGkoQjnPFaYiZaV6aghvFgwClrFpU52BFOs3zuyj9sJvvUrex3PlDpX2TlEJiFbSVnvrfupq2X2ZeVrT+pNur2yjlS366PJndarpqKWr24HfTsQt5SDYjI4LotKW6qGLKLyM20IHaqRrv02pfZ0G8ahakc2XtJiHP83Mq8+LuOcirxooL6qyeurspS7sp4+XtaEgcrkWQ8ZlzavMs6xKr2dA7znkdbxacP1a9+qc9QchrL68lpp/UEPdOmO9Cq7DMlc8Znke5x6cKNOTGzteuF7zjpSSrtJW3NURKFqsEETum1Ac73R0SZoh+gOTpJaO7hdgtfdGWjUpqfyciyPcY2RyWR/C3ylM7mn4eFNWbkvOumYjbfMm63vGrY6jW7XmlLHXEjQrxDsu4X8J1XoUmxnPl5dHqc/Qczv4WhW7Wz8+uE7f3MHo97et0c1eQNO0LUfE6dZQfZ7RYpVo+tbZf8WPliUH0XmS9L5qh9pE+niZHWH/PPzohv/MK/88nN6vJOIBz9UngfZ8Eu0wTDOb4RzuvUCBt0pFz0wObn/0sWLD79V5We8JzlY93Lag1v4Bk3/N0bzh3X/Eir6923C9EO4ZlP0B0u7oWX553ZgkTms1VOqk01fVn4XmG0etjhw0n0hdn6PNnliBmAMd2UnNmHElhV6lTvthyB01jQ3tlf5kyj3R2AGRGJiZz9Ux4P4ZX4ShFDStxpDiIFFiFYjyHSbN39k9W8qGDhbtlqjZ08xFlVf+HvRNHBpQT2SpWT9V0eQZR4ZVG+hsYVU9z61FkPUpVNwmDVQCBqOdzg0mHbxd1x2KIcAF4R6kYMq8zkclRm5wmhw5ygC/xN1opNJALaIjxd2l8ctdqdeYxdOg4hHIrU/veWFepiJcAVBqYeHJuhRoOgXPZaFWFGBOShE63V0vhRoz0QfsKh+smiCYYhzIeUyeQiD+9Z6DRhUSKVQKDZ4+BeMvpc/wveLceh7b6V7jDEqWvaIOoh88GZqc+aBwmGNNLZ95qVjtFeKP+KNzrJXX6dxkYh7HcaIl+aKEqaOAFc+ZwYoriaI1PiDlgFU19gvuyYu3aJdihh3AvYc/hiOAyZ/qNg3BFliwfZDChOIhQN7JEZp/pV+eyRaS5QlXViRBnmRhpZ6zdE4Gohp8viKKjVj/xdV0Kd1bTdYp7KSwyhXrEaGp6+YVCeIaY54W56DO58Xi4hDZPKjjROCSVBnjlsjlOlElOIWcBWTJwNHfanldbRkiRXVk4o3Sf4HdOFYdt5FW1pZggd0eI4Xg2MZM1n5ZGZ5h3yVlr8ELFuHldlDhSEElw80Pt4BYYzmZ2GJlwSnhK63WZ2TknAZgCSnNYaYY4AZYOFVVQPYjFDZmIykZ5blQnNGmSqHeX/JP8qombk3exLZcZ8Jmi0XdaYZF5aHFAEBACH5BAUKAAEALCYAJgCyALgAAAj/AAMIHEiwoMGDCAkKEJCwocOHECNKnEixosWLAhdi3Mixo8ePIEOKHEmypMmTKFOqRKkxQMuWGRmunEmz5sCXMmG6lGmzp0+VOgUCABD0p9GjHIsOLYq0qVOOQ59KnXoxKtWrSHEyLWgVq9eaWnkm7Pq1LE2dOIUCUGu2LVCxaQNYJeu2LsiFaHPqbbjVrl+HeOHu3clX7N/DgA0X7HtTMGPEdhk/Jtx4MuS2C8kqJSqWLuWlii+7zby2sUHQBD23RC06a2jKp4dy1ilb9sTarV0j3Fo7cOrapSPizu2TdMzjprnaPth7cNjhxG0ap5w3tme1rOMGhh79rEzVr9nK/w2+2PnrueQnW+5+cDV55AjR7zYfv7Tm8MnZS4w7vz5wzg1Z5dtA/4kXk4DfybZed/y1d95/AI5V2oDYLXcfghUuGF1cZF1nkXsGgUhgeq+5x5p+/X1GnocViahQgr+9mGJzKCY0XYDLuahic6TdJ55kglVYY2EsjojheDKOx6MA3IkIZJLcDbkTa0XeOGKSGQ4WE4VXlheiY/gRR5qOX3rmo5ER5sWlgfm1uSaK2SnG23JqVdfmkS/OWZSGxMX5pX8rRggfbEgSuuWDe4aJ4laB5YVehyR+SZug+4EpZYqS4vXio4FiWVlnlEakpqKtJWrnbwjaGSVz73mpXGxJWv8pppyatinkTqrSKWFhsL6anKy5AevhpJCeWOioEzFaK6aGHiZsq4NyR2OXyFY635O2LsoktA6SaeO2fzarY5FsXtoYuZ+W+y14gyIH6UPoInbqt7w6mKxec0I44bLNtuvXvMyGKzBEYQFaIK5B2guZnQ1m+uZD1d7Xo33ADfwbn1cxrGW3jbZoaaGHDnewpxeT6pWJEFrs0KqrDoynrz+aLG+C+qqMo5m6MvtyjNTKHB2n9eIYbavx0ssqaMqS7BfQRgtNKM4b5TtbiQmbVWTLbtJc8advYsxzheg1ip/XM12ds6vupsw1v/7eFqjIU2OLVc07tuot3EqHHHfHK+//izKXAKN9FN0oh4uzfNnqLfbDvg64pKdyD352r0OnOti7iQFqM5rzio0qcGR/hPXXT+dY67jc5q2k3fhNO6jnaLo+08Sx6rUzx1BSPCy/jEMOY78WjW4S7b/avi/EvP+ONeBsK5x228FPztK20w6XaLiTkm7s58hfD3PfxjoOus8XTUyl6So3iHmdD6LbtWJFyy6+7CWZ/3bqzpc3Hd4SIp40SPKDn/RGYj/uWYtjTDOb/6gWkgBaB38p4V9J+LcdzoysS9C71ukEmCdFhQ4jEiQJBfECmguySUOw20wHkZcSFYIsMcJzH60Q1z2Tke1/H2Shr4pGvProcFMUE1Xz/wJ2QOyRr4hTgmB5zncwLgnvgUJUXZNodauGTQ+I92Li1pw4wKMp8XXti5SrrLcxmkxRfAfq1AvVlSVv1fCHgtMOuBJXkzPWCkGYg5oX0UiR3tFRY2lUnU2mmEbLsQtNQ3sewjbnQ3HdkUR8XOHqVkLIJBqSdQbMnooOxUhW+SuSCPPW/L54F1oFTpB03B4Gj1W1niXyjyZr4hHvlSlUqgdRD+JZ4I6kSeitR5Yt/F2WGukySu3SQvraGyczR50y0jGDJEGdKtlYus4JkFP/SeEQXSVHIqJSdBakFKcW50ESKqiVwkkmNU/SS8GBc0ygaiPfCjOxU4JPbUULSTu/+f+h5uWwcXMsmdOkya0S4s9ybxyRFT/yvgbuC2eMOVKxChrOgW5TkuyDJkMTBruYpUiOPVTO7cCGSU9acmqVO+cwn+kRjXHRl/RBGNbIaLCS9qqeG/ycFu3ZEe85iYEndZrspiW12JiqdeecVAWnGU0qbhJ4OImh7sSpUuCxLFSL7B9KFWpOplLSmM4M5Oq8OklHko5yxUvjgPSUvIH9M52AdBA2sZpJp65zjc1Ua05ZxTy3zrKU4HHhmVBGNyOKjabAO+E8tVrLowDrTTTM61jVZthGITaikLwoIvX313spy45pu6Aek4lVxCows0pVFEJnt82QrlVr0iLaVLN5zeP/4dWAh0otvPzWWRDytnD3pC0YkQPcB66vdI2NWm87YrnialW4hOpmWY2rxldiFCNv9a3moguqSmIsbMpD5nwety7Z1o6c+Yzedud1wYX2LaOFCiEQkTa2gK4yLIclZU9r6x57drRL9LUi3KBrVLtmNWj3XS4SVxo+qkGWYtqE4mSZqspqIVixKylqWQtmUrHy0VG6YhoW+xhWk2Y3il6sIr5yeS7eerTFeTwbsHT4S9t6J527k3DEpDfTLWrWd3HC7IkXzNj8qViSPfaQLNcDYg7XZ8jp7GRVdEUsMZpQpDZ96l0NCEyVHNKhZ7pVaLu4qlydtchd/iqCe0zd6454/8zKrR2RkEk4Be92zTyWLWjlauUuwtG9hZytj29stJcNmHW6PWmcyGhhV6b1uX5mbb0MTWdEgyqq4wv0MjftaOIi9crBxO2Bs1ZjT28G1LclNTqblmpPE7C7mfVrqZt56q2hVdar1hn+AC0S6KZ3uIIj60Rv+sgqLa7NiV3lBDPdalZ7D77EnG7PnOuw5qV5V2BZcagVNleyepOvsO2ik9/C6foBtdt0ZeZuCStubQ+Po7l+IQrNad3J6tTWRL5Vc2PKTnhLUYxCnE47RatOEm93365+t8pOW2/2htjG8cW3Rrmtxl8nu3wGvitiMXynh7/yyhhD3ZaN3FQxj3pU//9144RtG9vcmpLFDKaynVuqteuifLEqr7PJEc7ZaFdP5lKRL0VGyy1slTnj0mbTSN3ZE6G7rVc5LrSMkX5VXZYTKYfmdYFd7ilKi3p3+2S6WMvd9EprXTn4baXXN0vNl7L6zaMuDqyZXPPv/TSlCQR6Wcko0VgXD8pIpJ/U9ahI9W3t0LljmsCFeXJ3y32lpJuTm5s9ZsFLWMV09+nMabk6F0JPYhxkpr4mE9vVJlTOjkXqR4Fq8tX7zooFhHF1AerHDKteYf9rPe5b+doy4TukSv7t5qMn+bX5i+CllzjBXj55POqdKhRGrTOR/3BUX7jxLnTt8CNIykS1l3r3m7z/XwVa3lvHcftQ6f4Mfw9+Udeeu+Qfr3mdjX7Oo/76evNs3Sv4/kl7fPlGoXlw1EHpNUqK82Oi938D2BTfpV9iVzfyh39jxHIOKBUNiHEzIj0zxlKFx3iIMVfpc0T0xU8ZeH0qZxcgyHQN2Ff9dFfeY3FzU2mRhTwXEmnjxjOkhWOmc1zQJ4NBVCk1KENkJx45CBGyxINT8SxLx0/GxmshV3cuiIBydzgQ921nJkmRg2It9y2A92ooVlPkZThbBWzQli6xo36jYUOfBiGM019t1XFHdW9fWBcEV1Mk5YZGRIOU1WJOA01dKEL4FnyHdj4CCEN7OHYdlmx/+GoENoEx/wMkhVhlV8hdubcw4MdUImJ6uMNNG7OFuGaFkLF0EzVvcQVnyLVEyiRv9Vd2n3c/pOhvybFxeAVPoLSIZTN1SvNEsUgiQ6V8IThRumg1uJgtwahlJ1VlQoiK9waDT7F4hjd+idiHyiZZCRV2kTFHvTeN9hQ/83d/ifGMojFkRMV6oWQ8xlJh8RRskfYV4lhVlahNvfhsswhrs7Jb4HGEGlhiYBdvhUV5dUF6U4ePUVd8yWVVe8iMMQhsBzNO4eZd25J5HrhZhCcaL8NuRFhVRehp3maGgviDkygl1meQ0Oh0LEV95oJs3/ZlENhsmJV8NRJ7PwVcBphEYJhUjFdBJOKFhLPSZavFaPtnX8tok4q1PwdZgf/iVLATkpqoQfzERaD3kkjJN0rpYt8Yb9e1Z+Yij7KoT6pVdOF2kipIjxeHXV2ZgcXIIJeIPhEXf28XjWdoj0ZZKmnZd0qXbkxIUbp4lnAyVb6TO2cWOPDEcaBoLiIGf7v4l6sWmKoogWApfgB1Z9j2ihPXmGZoUZDZSJI5lpTpe0yZLUCylQC2jps5Z535SfUFmheJkKOJZWUIifWFk225mr4FXrakWfnFmLKpXp8SfA6VmyYBerwJQHHpm5WyeKY5mcQpd8ZpVpppEgEBACH5BAUKAAEALCQAJgC2ALoAAAj/AAMIHEiwoMGDCAkKECBwYcKHECNKnEixosWLGDM2ZBjAocaPIEOKHEny4EIAKAF49FiypcuXMC+eTLmSY8ybOHOOZBkgJYCNCm3qHEq0aEGePoEO5Gm0qdObSXv+7LhQ6NOrWFtGRbmRadavYC165DqQrECUVa2GXctWqVmpBNFWbUu3rs+7U5WezVu3L1a8UfXC9Uv4aeDBb7uqLcw45mGyial6bUyZ5Ey5M/e+rWlwcuXPES+rrAo5ZVDBqEGrfig6LeCpnvGmXk2bqk/XgGdLjeq5duHeVPcGzRz84Fa+vhkDH8sXt+7jydfyTMsc+GHFSJFHrzud+l7rpo96/y+rfbv0xbunRq6Y3eB681djh38/sX1B+vAN0xTKG/1w/nxBlxB+2QGXX0S3AUiWgZIBGNd85ZHHGoAMHigeXl4l+GBnHHnFXH8caqZdgpxZCJFocrm334bipfZheB5ydF16aelm4lICYNjhjv/VWNxpg6kYmXMtSnijWDneVWJ31PFY5HszEgmkcEeyl6Ruy10Z5H3hPbiZUCUqpiGOVXK4IHpZlobQjId1JxhuKZJZppCj+cgihy+GKedrX9IpYohzconZXFwi5OOYMYoom5xeqtclo4GyqKOLSRLX35kbqZneQ6Uh6l+gna74I45yhZopbDtqOqOkSjp5o56NXv9aJ5oOkofpqBPimSR+FsJq612n2lkklX8WVyGuDa5qYoaPKmuojBGyGtKSu6L6qlqPPRoatAg6Oq2TotkYaYNu2oZquczdmV5kt+ZqkquBNgkkccKW+Na9wBaKLKCAHksZvsTqG+eZ1Oqa7pYBT9mgwmNGBzDCRg58LrhqyYvYiBEyCaaCo0VHXLHyrentiYTGmm9Fi4ps3seb7gsxlbwuLGhuFqVsXLSglbutovn6mGiyJ6+Ls1uP+pvzxvVB+5pilIoZtM3PFisubUaDeLGz79KpKcwRSjyh0XRVDSO3Qlup9chci3zws2C3tTZF1ZWc9csJlWt1v7T+p9rbSX//JzegMSv8IpbwCv53Y4MK6y7TFPGpLbmHKxW3yEu33HZRiUc+N+MTOT5kk3kXF+fZx7Vbmc4k0wvvwW9XznJNLBO9qIClduwX6l9rqSfrZPN8Zp9AA04z7aON7nbFSBsJ5+MzKX6z69gyX/jzPRMaO1g/C0ZwtZ8P2i30fhbJIPQ1Bf6SZ8dine2x8qkaYNCSf5rw8VFLpH6ztu9Mfdq/fj413WHxFZBuJSCpQUpdZmpOqkRlMPm5DGoug4kA92StluHLfzebEPBaQyvn8WtmGPwK+jTXvaI5UGGdexynJvY9FtLvXSG7kAnNVjMVDsiFK9zeyhzYJAzeqm0xQ9H7/4THLtsZTzk8pI4PKwjEoZkrW0TE2OSyIqW5FWg8HrRc6HLoxDFByVHbGxwVSYMzPWWOczMjXAtbyLeIje1QNnSJpsI1quat7oT6qt/8eli9ERarTdxTYMMcMzI6didOuLNfGWvVo0CicYAQ+pLNOHiTgpUNUjGyY5445rPDlS+Ov1KXEP0mrWHFxJKTTN5/vEcjTlrPkwuMGRRJlS/jbe2ARBHjoLD2SKkcUlQEItTnxDjFF7GpVR/MiS5nxUuZPeiXXqubMLUDRwLazpiPm5Qpm6IjP27OSKvM2CvtaMBGsS16x1zcVbq5xW1CrIp6A5oYw6ers6lInZgTp8ogcv+/5UGyW7nj4rb6QyTzjeQ9MRToDf1JQYBKEzxBrBZ2tGRQnGRndtSslrBIFL0JojGL2gOlOZFV0UpyrIC0ZKWInIfIT9VLcyE1393AiZMiKjRLNPRbG5MWzJE+U2k4K6lGbHpD0yWTZD/dqUSux7BsGhGUQs2IrCA4UCdKdWxRxRHsHGnKmTYzJFOF31K1JEesWvWhOxplV8fm05o+NZ2hNNdLUShN/a2QrgiMKyUzqBOJwRVklZJbIvVYV34q8K77e2L+8mhRVSYWeHgtLLU6aTg6rpGCCAVqVmXi2PBBFpfumuwrKytRRQJPWdgsijftGcHWglWsbeXiMEHnu7P/7qSdJhPX5RoH27i2cLYWq5wykUdZ0fW2nu40nOww9ibNilU+xMTjtxoYP54lLXvftJdTm1vbEHIpun9hK1+zyrvMghRugQTkFXUr3ZfMtJScpRJTIfctx8WTlK3dbUaY1dJ7gvZq+tRqe6kLtIfpNHrdRWZj6eSrz7Iqs/fFiMUYGjCVutFzi80JIAn701MtaqMQiuw+e+lfjlIOY5sd6gy/2WHFEpRjARNbhPdp4sTGlihEPa+nImuzaOIXuXTFpqkKO7+h5BimreQu9fDVugwL+KhCBuMi84oVS57Yo76FYfKO2L/D1tBq+tWJlamH5XKKx25Otu5/ZcvEAZ9y/3ot1h9EV/ysXV6zd8bd4MaMFub9wpk87PuzmtlrZ+1CUs8zRqpTWsqyiP6PnerEsneFmj7bioTRZAWgnMbXKpxu+lOTtvT/iny+tDrJvKVNtGWRldAse4qhWBuhfUzKOKVS+MkydPADUfw+TNMx1h1kpFuFl0KixjSjo27tID0cYvR+ZYnFZi6koiTo5P4qRhjNqVPmS+r/zbVl013yU08cRsGix6gt4bamGfTtr46V3OMW90QHO5g+I6nEFXRoUw2YYrsa9tG1bPZw8Z3sUPNb1PdWJMBLh7Zckm3D0xZpl5HbttXmOt/vsi+4xfxwOo/K3RAsrrYja0iXpjeSCP+nYTPBTEZ0G1jhOF6sxTvZb0WvXLwMZRaVb5hPemvsVAM/M7y4nFrJTm+eyuMqkV6HPLVBy+IuyeTQnVz0+vkK6fJVOhmBjkvoPh235xHxukGHbkodjNocTjo9T9dZxjZQdWmHo5mhrvY0hv3dWq4uei2VZkCj08srZNYny26UQJ9T79elaN9/nGVOCz6WGG8K3dk7USu915QvZbqKLoq/19g7vixes7HGw1PxEjbzmX58bru8bIfrcPTk3BKanXf1JBKOv6LiPMPdHXXdjVaeeJ49LJumaFn/vb+slzLvS33UkO5x6wkP1palJ/YR3lKbkm/6N2/pNNBL/9DIFr3/9RuO/W23fbnapLdyxff3PzKQvqw+d8Of4nPn7lj0Sp5X+y34/glrn+BrwWU0Rn0fd1bq9UqzpH+IF3/HFhYCOF4EOGuG9SU0hz94s4A/w3kiRDH+5W+g92IVlnvnp1h+xnjZt4DdZm19o0VNhnyEs3yQ9HnuZUJSxyKTd22nlnJFtVg+FnpscYBAVm9g1yiGRhKD1IPNd3eVdlvuh09z41cVNFt7U20794EC54NP8lZRmFEySH949G3+xjvuR3QUI3Ig0YVvlnhit37WFCoZaGpl5myIA3j4V0e0gh+h4oK+REYVR3rm8i906G0jqG55eGdJFVic9VI1p1rCllea/yR/+zZxMuQ09mE+uEcZEuiIgdVqEhhyvhd7/OOBG4eJSFZrwUZXCZKAxfeF0/RLU8huvxeEuLdqlkiFuGY86kYYPeVOGhNlzAaCivZg4gVhoLGLQbZn0/RhJ0di7lSIRJN2SDSLppaCAwiAZdV6OySNjCNU3HcxMFF++YE6qgg6rAiLzWV4QreGjSGOFihg55VoF4hrogiG8IFNgaaH+oZJ+1dC44JZ76dBhshbH3SJ75RpVSJ1fLZA/kWQYsdwSYiGG0hgK3g9LkeAJzZ3Q3gkcfhZ7VM9I3ZJgriIbAdw60c6kUdTqVRV/aiOorhcF6GMVpKJy+JmDwlUL+mRe//XiAdiYbLIikn4T+kYjHXoGzwZlMmGXfUjhUKZbDvUhuGnLLs4eF1jeiupknn2lDYUlZB3ka41LmhWW714OFDpZGg3injXK9MHlsjIUllJlgQIg13pMaBGh7NVGnHIeBCpkXMZieGEX5WmflV5htpnhkkpc7a3lIE5j9PYlVMkiC2ZmLDnhwtpkAITiCoohDLZj1ulY6iChw3nafsEYpB5meiSamildwYHkqOJhUq2aoc3es8njCJ5kEn0MFIZbU7IkoEJi7a5laY1ZUS2mrlJgr/5M9jImsIZnEEBcv94leiYnBqhc5pWi88JndGJYNN5Vu84lNapbZ7ZnaRYhZoQBp7YQ1ynSJ7cYZ6viRUBAQAh+QQFCgABACwiACQAuAC+AAAI/wADCBxIsKDBgwgNClgoIKHDhxAjSpxIsaLFixgVMszIsaPHjyBDOlyoUaTJkyhTeiRZkKXKlzBjpmTYsCAAADJz6txpkabBmzyDCh1acuDNo0eJKl06s6ZApEiZSp160efBqAGAUt3K9aDVn0mz4uxKdqvLsmjTIjyrtq1bgWwHno37ti5MugHmOrXLtylBvHAZIgXct7BEvSMFHyVsuLHXvQu1QoQ69iZjx4X1Sn5I+SmAy5gxR14Mea/nvzVBh84sYHBpsKgDr0arF3He1Kbl5j79UPXsnLVf35b9GOHmtbt/G2ZJ03LNzjY/J1fumLliltAJOqeOdvPX4Re1Nv8fy5uib+7hyd+2bVG8Yu3qD09HjzGubbyjt0dUrb8ofY72CYdfa6TJJ1F/Lc33X3EJJuZeXNmBd15sugWGXVgLIuffYw/mFqF19Qm4kVjHZUghiNERBx2EYaE4WYt7lXhWiSaiyKKKUBEHn3s6cgYjfBvSmKF17FVoVI66fWfVgJ65BltCWJlInJK5zYikhSNi2SOFlN0IJYZSOsTjeslFeaSY8fm4JE0eQjUhemN+t2OaQpYXkXNEZnmkk0POJyeDdlIIpFgHqufimWE2mNCfQaa5JaGQvnhim4maZOZlXmq46HNj2ahgpXeCiSmlmybGm6cmylglm1xSlqaVhzL/mSKigpL5ZluqakRlk1ca6VmsyWUaqa+2fmqXsBxBp1WdxOpaJpibCXkrV8hmpGxljiqKHF5mRpvttF2NFyCVtmEV4YqfjsYmpxAdOpu4q5IrnLm9otsugesGyiC4ZI06ZbC4tYongcxqhOC2I+YK3nLpBrywouWSll+2yB38mFUK8zuVmYF5x+5HExccUoDccXybx/qGGOFLJK82MWrB8aolg6raC+hEYxr8I18vJ1nahR1qWjOSslKUc4JYaUzUpc/2LPN+ABOmcNC9Efj0zLiK2jTB6pmsqbNoFkW1g9h6rDRwXDOtM69JG0tmod6y/apwzu5KW9par00i0W4z/3oVtGWD2eOA+TbrlqsU7yk4zdLZiSDQ0rE4NKh7ex2d5a1eCF/EA4M1OXUBdtspbt7qZ+WgIN2n59XDCm2o234hDfi/pTf+cNwjiyh514njWOtOE1uHuZGj/Roj7+7OSjjd4C27+KPFa/twTMGT/jzEVot1+pHJD7p8rZrv/bVuCj8aE9NjOj+4n8fz1/vJvA+K+KQzFy0U+qPzdjRhsLotcvSOC5zaJDQi+wUFgB2Bl7oABr6PNdB8X/JdgrpnOLSJTD4LXOD4IrYhChonf6172/Sk9xbNLA5ycZpXr6T2PvqVaoQDuiBRTDg1vq1Pbr+blYFG6MIcdqyFIHPYDf85tEJOqa9qrHsgDAvIxPVZzHMwOhsSH1Yk1HzIiNi6VxKJlbw1oYp8tkNT26S4QevZbU5CEl17bLemUwnxhfJBGRFZJqLOGW5likMdztjYREh5sIKbkqPezgfEHdJLhnocnh7BZjhugRBm7+GhpQoJtacp8m9zKlRiqijJo2EpemTcVPg+uD8stu1eCHQe4o52yZRVpEihZCSzTmmk+UkSkrhb5c62+MGVMC+WE9kdIv2IL1btbXeZvFkDIQeg7I1SKMKkpHsGBjlk5lGZXEzY9eIIwmGm7mcOlCQsV/W06HWIk1sU3ugWKEgwUg2YZXym/TjJTPi58YyXm9sPseT/nHb+8J2wy4gGEeVJESJsi2P8mLTA6RprmqdNJfJmVYopv0f6bJNYhOLMjthBxdgxmQ/VqA5VYro+mgqOKGXlOld3xzDWEojwDElJ/wjBmhJLpZ9kYHRaJsOYflOdReEfSyvaS4MaVTXRZFbLcOTTi1kvqOxjoSvHdtS+QbRXGxriE3Wi1OM9CaT7yh5YH8q5LE50qfdL3PYWKb4XIpCXUCurK1FJTp6M04eKsxJHR1g7PA6SoPpM6bdIRUcl2pRPlnzdVyuH1TnOqnw3W+hiCfmdAYLFkZCtbPyIR9iwakqvNlzKR9sKwa2aLGa0GlbyugrBQ9myqXDj3Wl1SkpK/1a0oNAzKeNyCNmdiG624xPpGstJ24vesnmKHalNXyLHVhp1nz6SZWPdSC+8ohF5YqVKc7c5wVWJTFUozNY0w+LPv4nurf3y6jUR+EWb2g2xPrJlbEdr3Rmql7hyBBZGBeZSMbrKaG4a6nHRdlmHSfRFBw7m8SRLROf5LbgoYRGKEuzfwl4zq+7E1oOxSUcvetSitRrvXBtZmq3S9aSrLdBSCrcuWjYKuv+r6w+nteH25jWgsXtUl2QMqXbar7w9QlCMu7jg/kKTeXJD617RebvkNmqtonxjkFW8Fdyt0a9LFC4mBRrVLhuWJ1auiHxJyFfuUvi4NdYTk2P32uxeBv+4XzriM7XYZBN313ImJDBjRQzIsR63usgNaZ2NjDA8l9i2E72u2TJKwPCx+KrEba2Arxs68Ro5oU0FLdPqmad76jaxKTxofKkMxg9as3A53jJ6S1nbsO2UfbhVXIxxZDHnikSq9lQeki+85c3BGsT5nDVya81d4ElZhG/asSZD1Vsy1xa+XzZ2bmlqXlK7GsGBhfCzrZ1NpqD32o0uro5XimGxFTvDza4Yon05zPwKGK2eLreinBuybFftzPfq6XxiPWXpJlhY7pN0DjfcTH27Wqhsxdi5IQxkVRd3XDgWM6nBe1WLEdnGBOcydc1qajVnl7kTn1s0Wwbxf0GSzaP/22uB8ywTUDKarTZjIb0n3e2RzhlRBuRsU9K3uIiGVuYLf+7NAB5O74lb5yqRlZcQ3lIsA9jODb1v1eCtE6WTiunjdvoeoS4xqe/X2WmNLQ1lO7u2WpbDZB5Pbh/3ce1FXCQyhK/TGHvbwNXXX3cG9kCh62ul0PKQXa8nHvv6Ogb7md8ozfe6P/J38gZY4arsOdk9Znheu7EnAf12y7N7rhMyuvP15dMzLSf3hpH17QnkfL08D+qyH1bFo79e6emMQdSz2/FpBLbcMmvgxmJawKR3/BDBbWzAFxWzjVUdDvOZU+S3mpj1HTH1sgdt0kYX7PKWc7xYqktvKVzeQzEn/7edm260a79uFf8v97QJftGa9U2Cp+SfbOnu2A6/11w5/ys/L3/uq7/+zGZRuFYWlddDgFV+22Zu8kZ154FvMjVYn0UqcDZfgVV+DBhQDvhTx8ZWeOVIl+dwA1d0QudKWLdin6ZcYOeB0AeCJKYvflOA2KddK2U3VEd8xcJ3VIRFjqZe8+dSGccU5+RxuQVg6IeDZbWDRidh4HQsx8ZeDsNkFsdSFFQ7+pNydJI3A0YVRAaAUGhkfzKFZFeFOMg61DYVQjVb9SRwKAhugMZNfJKBdvVrFEeGR9duYRhCZPOGi7cxuheAWONUfwh3fXhFqHY4fYhtgdhdiQgSsUaIxv9UMqtUONeihiFYiD43ULO0h3WhS5KIJLF2gZZ4hZiYOHAYfhtYbUkVdP6FfPr3T2p1imVRhseUfrYWZ4RGdyvoiihme0cWhCbndhK0g/Jigzt0fLwYLs5kTBPGRx/oi8ZVVJh3cMdIFm1oXCMHiy9Fa90EI58zHnYEWzJRjfWTftSGhG3FaW3nctUji1lDXJpXb8u0a1DGK6Pic3ZmGJHHT4N1RSfXgqlFjw1jj7cYGmr0gMnCbSe1XP9RkIyoidWXkFlIHxyEh4JFef1HT+xzf++iQtInPfhzeiG4i9EHJ9PVUi74hF5HkUYnKZSDiwzHcUg3jyqJc59SinURXn7/k4bipHol5ULk13U1YkqRo1NnZ0Vkp1/DBkRRF5STFWWXVIPz9ooaOZOhUS2Fdm5Q2SoiaZJSEnNyCJOGxHrWx4FrSJK0dIbCt3/p9HJlSZapAkIy2ZRZSSb9FEXsN0WVEmr/iH9D6JTS8XsdCY5d4XNz4ny5Nj6ZyFMD2ZKEeWPPp3n99iWKKZh80X0a9m48pmVQhFo2qRyWaTw5B3SruIRU2ZKKJnKZiU0uloOuQ5l2MWaJiHfJdFeM45qYoZcLCDCIR3ummR6/mJvqppAQ2ZsKBkmVlpOp+Y5c85vEiZc3KDvIiWHKeZbTWCnfx1mhVILNmXryhBvZmZHbaRJzIpdq4Vl1y3kX1VmeiSY9tKme6dVR0eaeNwme8skawykUAQEAIfkEBQoAAQAsIgAiALoAwAAACP8AAwgcSLCgwYMIDQoQkLChw4cQI0qcSLGixYsNF2LcyLGjx48gJwIYCSCkyZMoU6YkWVKly5cwYxJkyVKgRpk4c+qUSJOkTYY7gwrNubDnz4VFAdwcyrTpx6Q1AyBFOnKp06tYJ0IlaZVg0qxgwyLcWhWoQgEjxapdGyBqxK5s4wp1CxGu3Ls40x60i7fv3JZn/Qpuqpev0cGIXRY2W/Bw4scxrd7UOxOwVMaQM1OUDJTyQM98NYtua9krY743J5ceLdqz6dd7gapmLZhzZYGLfz6ES5c2W9ufW+a+vBszade+m6am6jOh48YtgR89bTy5zuVbGz6/TXwgZ+nWh3r/7ql3+HbvsquTDh92PHnc0TvTHJseIXL2TO8fF968eNKppgG4mXr4caRfVL0lNFVZ3yFVUWgFSrScfqolCN+C8Z0FXmDoHVZWhA5NuJpu+x2oFHMkBkhdRtR5eCKI9LFU4YjrKVgfevBZ6ByNlcmIIoym+ZgjjfqRCNx52vEYnI9fAdnhfPsZpGOPREJZEV0CFukkWfwhN+WSVX6ZJGgO1uhkbOQ1595wsEU1I2wpFpSdjWfGmCZ/VMZJopvykQmnnGj1F1udg+JYI4JclYkagRKWSSWff2rp25FdVirgoh0J+Ghz4Ek6GoS8WWbVhw4tthyHF5ZZXoaGngmqcX4G/wchfNPp2V2qs9W4IX6hiqSkhukNB6GXeAZnH6vW9crTr4CKaCSjxNJq7EFs0gbXsFa2Cih9s1KbLX2bIgnZtdB+e+u2sXUrpbmolvhecpAaeqeayDaap7eIVvuQuI/Fu+e8xaqL7pDH5lvvvuxqthixdM2r1YqkYXvvT1+u6tvCqz3nsL3yvrjjxJdVXCyIbzYL62oCazowelNlaW7JJPeJsqPT/skipia3LDNyMH+qqqDS7jpnmx7bbJKntiLmcrTnkpugauQqxmzSeJlo3tQrtxsnztMxWC6FEPdlNatIZ232rlszp/K6YBsd19oc16pt1GbWbLaK0g4Za7hYO/8F91vUgUc301qbnLe7RqcpGM80w5byjXJHbvd0p577tHobC/wXsOCey2LaDa4LbOWjAu05mIdpPtSrOmOYJOCLkh7o3nSeTjmjVDPFeutNHgu7epcGK2i3lY+Ou+04/Qd57aZCrDrXaN6Z67N0u63r8Skpn3vHkhdfF/CMcilk3dgZVz1020sNPcWVOp4e7+6v2+3lTYYqYtmM50Rq4U1ieSPvwLHf8egXKFuRamilmhlRGnc39IWIgSp6FdH01cCC3Ylt7UseBLXluwfuToIdo6D1LKg46KyqbCHxGuhoNr+RgWkjJUThZbCVpvvRaycqbFrLRjgthvUNX1CS4d//UEcTG1rsOs5LotzgpqU1FRFznGpd53pXNwzuLywBVOIM33ey1xHxiveCX6Go2MQn3oVJMovg8tjnny4mEIzaMhjBtti5yujscDJB4xxvZysqcsuNYyrayuQYJToWyo47rOJLjnivti1LcnWM2OyU5MQjiilkgsRjBUHCyBcqMn0OHGKkTiSyTUnrktpzYCRP4sd0AXJAfYRi4UDpIhkGMn8oaSXnVAnL0xlGgYfcESE7ch7VPSh82OPl5643RzjucpelIxbObHhK04UEhL4CXNDSKMk2/jFOCXJmd6h5KGvm0o3kWhownRjLZXYQjs/R5ZMSd8PIoNN8ibzc4fzF/8FNripU/tMSFQHqQphEE5hBEpUsofM4Ox3xoJ6Spzg1KZOD8q+A/dTkRBs4p2rxa57ekhhhTAe3rRBUj8I8mKHEp1A+nU+bK03mSkjKQJOerCeiLOQ0JxnQKL70e/EbqQEz5tOfFcc9EzQn3j72vZ7JzikU9CEfPwkopIZQqSwr1+/2OM415oVZ+lSmt7ZZMgylTqbIoyhTxeKpsHLHi82bo1mh9DytPlItwqJZRDF6FidWDpcwFeEWf5nUh6L1I3kt3VFpRMZE/WuWzFPpVEV3VcNCdXjyeVgkKYhNZnI0s+ganwXB4j+1rjKOKu0sZ8GnyRnR8IesvFFeh9RZDv+hdHsIbJDLivPWQgnWJX9llWuRuczbphWTtBPjXntrW8nG5LflJJNoa6dGgV3Re3rLZFcfl1OYQPeELXXsA41nXUFi1110625WjWkSlV03kRg8bUR0pN6kdlax6GLvU/RqXviakLGH9eQzgbqf+zIGl/r1SPnUKNiGKbRz88LvRX5KvP+x9iULXi9Gf2lVqs0IpweG7dnwyduuylclY+ughGsXvGoG9ZiPZbHMnipUIKo4xCVucTlf3MvpjXHGFsZKLavkTQ0jLJI/veJZfcyl8yUYhkE05151O0AAG02ApjSkdM24sidjRFznpZ3kpmtTZQ2YiZYBWJoRusmZ0tf/q2I2JG1blCgzGy6rlM2uxtjMQ6mlrZ0G8lh6A7xUqoH3ox8WMWLrdV4vpwrQXlYZYd31pUTr7sJ5BlPoCglZ0/bQuRUmq38zvcAT+3DTb/YiXEF9vFyJsYMGnaQ7TWYwDvPZxnLmdK6naOHzJjXWlQZfR8Ub3zbrlL9kCrWJDQnCSy46VrvbJ01/qWOvla6sXOTxinf6T0IvC9rI9DEBj1XtE7nXY/GS9PK2feH+afearc4nWDNI4xyT+Lj182qnx9odW1qkwrtNoFyDTOBBs2i2472rj4GL434ScJiT8+RBd9pavia8Xb62Z28JCiyIq5Wf0w0q48oGvYznEd2M/8YouMuIS5DTFNa7ZigL771Y76I8bZ10Vkqb69GX8xuSMhdaMuUJ78FlkLmSbGwgf31xu00c06F918LbW1PQhpOoros4yHp2WtqFPKP9ljpo9RcfV//onVhd4aYoDFo7J/S1caWqn7VcdotTFpWBC/HXjT5UO8G97p7eb5KgFu6GD9TbgB1xGIXN0yj+qb4YwRbhb2Z4iyc48VfWO6tZ+mc82zPrCa4tgQ/uQnVzldSa9jbDQe9t0ZeY9Iczva5RP+fMqLuEMH38zDMfS3lOGpR3uf27cj+33fez0WdvYJzX0qmZgfj1YH8WZA1+XCop229hU2ST471v5J+23m98t/+xY+1hqAMu2XYffSFLS126g3vfDC//iWGfVX9bVNcGdqpXHc2R66t/1sNWaMWXXd1TZf52adCXgO0XgJ6newSYay10gFcxaRgCebz3X1MHdKnGVPwUfAtVgRs0a0NFKmDDccF0d443GnjnaaqDfhcYeIrkNS6lb3KxgnJXfbwke6N0ZEEna8ymehoHEYhiafgWYk52U4IUd6dnOeYGZ4qmEuXVbQ+oWtq1K9OlhLPHhDqGdFjhPSV0blPIRRn3hUC2hFn3gtOCQF24PGSIX2c1VbYWL+PzcLemLGr4Gz64fAJ2Og2WMGS2bjR3fMj2hAuEKDzEftwRh2HSX52HhmP/lnZZ0Vixw01Zd3WIKFbUM3aDhHUN54HuMYkD524+pIeOFHDtIk2diBcgZHbTp3mfmH1ZtlSyk06a1xer2HaBOEoOhjaIc2eziE/31y8AVlfNlVAC1XhyaGXRA3OIUYJoxXdPcoyZo4nWI1GEuDqpyGsnkXiCk22+mEwSiIBal19AyIw65IAxt4UCp4JRFmyZ+IDj9lk3Bk5cZoFsMWTH+I69GI/V+IFsWI8h6Be2ho4Ig3uYtEzn02FExB4DOYBCeEEgpY2biHQfxRor1nXtuGZPZ2j9hWaUxX9vk40nuI+ComTiRW1553aeNSnE9ZCiVlJ0Vmw5pU6E4nr81jww/5lQMhmQNLkl+yeSAjhhEONsBVaOmuF94wh0MHZV80VshNJ+Z5Z3HMJ1XaaJd9RUsJgc0VZ81OeO3GNkWNlnPlNGwdh+f2hrAJeLMEJ03bSHm+WUQ/R1AwZ84aEjV5iCkvePN4ZqPwSS9yhlTplu5eKFRAaBRhU34bEoUnhcOXRM6xNKWRkzdvJojNmEQvmYiRiZPilV53hnjelB1AhEmDd+R5l+/ESLuDJ0h3lLtyaWLFldG+aDQclUSrds2WWPQEJl+caP61ibhGlcT7lWweRgMIiRK7RkRnkxSlKWnaRZkKkiyBmcxPQudrlmgxeQtCedUDZkMEeW2ImJ2tlL4HVlRYWpkplXQ8m5llZnOuISVcuJT+gZngmnZhaUYTsYfV9Jl8GZaO15klW3cdxHPukJJHsGMnMZdvnYgPJpEQXqlnfGdEj2nQvqkkwYe2rpmvg5oVdSLzl3oRlKmhqqfj1ZbCHKfFKZhUtYomrhlypqoqIREAAAIfkEBQoAAQAsIgAiALoAwAAACP8AAwgcSLCgwYMIDQIAkLChw4cQI0qcSLGixYsNF2LcyLGjx48gNwoQELKkyZMoUwYYqbKly5cwCWpcSTKmzZs4Kc5kmbOnz5Q8DfJcOPOn0aMegxYcShSp06ciawpcOLJqVahYszpUStXqVa1gwSolaJWs1LBoj44dWJbt2bRwc3Zd+5Bu3Lsm576FaBev36R7zRal+bcw0MBuB/c1zPjiyMFEAbQV+Jhh48tRIROdTHMw5s8S9c6MzFQo4sWg/4q2TLqmZ8IHUaf26bXqzpq1zU5tmrByZMpfZc9+WbsycOCcmb4WHNlyW+HDX/6Gbfo4xOm7X0OPHnO6XZ7QsQf/EG+du9q9a8GfPjuaNe+Gsrebn5gePe71Mt1ntwwfse75ICklH0LGDdRecwhK5h9sAwJY11kNmqbZfglutqB6DnZUoHXt9Schfw5VuBx1GX60IWwd9mbfiAqJSOCCJdJ3H4aA/dcfU+GB+GKMbiF3n4kQwkgTjkLu9iCP1kFXX35d+ehhYjqqaOSQXiHZI4lP2jiehU5KCWVEpVHJGY8nXqTYj1gyuGBrWqaoJZkCsBgaiDQumSaTCrap31JFmjedXrJ5t5ec+dF4W39sbhkhZn8qOOZBgrYYUZMoOndhnFwq2udlbZ1pJ5jF/UfelbldKSmJi97VKZ1fvblVqFeO/5pklaYWdGitJcpZG6XV2crbbQhOqWVxmK4FKKY86uoVr3y2mKJvv0YpYHHM7rZrlNyJRyiqQTqbIKin9upqsu9teWStxrrI16DYppmqYas++iCN5Rno3m2fulXftfKaC1q8rUr0XLe+7telq48SqxdC26oa8LSmJWzfk43+t5ib7gb5rlPJEWyWxOLG5lq0Fq+5Z7319luYdn0C6yiaokaZ6I5bHmhpfuAyKm3Lli6csbD2VttszffebG/OjEGbJaSs6smy0usi3dmeEMOLqbIZNV3rqFbJKrLUBd6KclzfwcytwXOKHXSeUzOHMXBnhgw0XGWnTLDXDPOWLqUnQv/NctxD4wwavl+1Bu2jjb7GdeEginjyqwcHrpqlq67mM55oY85nmBQ2N7eX/W4ck3oV4gm44EA73rC/ggOuXLtjf7zpTaR/u/bpR+feebDXyfy4oeXKvfnsMNFbqeMRm2y60RWLzHmaCCqJmNA9Gf966cNnvTyHJDs/sqvR92kX9T7NfHzRlnvOuq9/szpwzNxrDvfLn8+/Okzmv95517aPuLinwbkb8xpXrsqs6kV4K1/wSMWeaKkOfZnSnHwSmDfRQcVrxkuc6nbHNgnOjoJMs6BcfNe5SfnOa+H70Nt0JyaN0SpnoSOeRxQHQRN6y3/NqU/zwtVC2ansa1SiWfH/RmazB2rGdR4Dot1eZDwffk+JQ2tiTvRHNCMSEInjQlcSZRe7Hq4vi3WSoUt26C8rlmppwqNZArvCMqBV7X2+EuFEyFhEEZ3RS0KEHNGyVqZKDWtGZrOWGDlCxXohLyHtS+AEqTbISOFxj5JTSSFJdMi8qXCBWbSkvxblyDwuDiXq4QrlhNTGjIlHig9RpPgIZiehtUeODBRl5DRZskvWUieYxNUjpUikU5EPlFvsHRq/ODXrsUtqyKzUHTPZkqrNEXbQ2xnfgrm6BrXyZXVrJhGhOav98JJx3CNcH2uHw/vdKVY7GyaQMge6bX4zTFS8Vq+g5i0ZUSydj1QJAJ1W/0BA/hFtWBzaND1oz96ZU5/uSyLvZuXM87kxkMo0WyejZlBu3kRtU1rol875OWNez6LWvFq7xmc05uCvpLnT6Py62FGzVS6XzERgLkk6tj7aRJSOXEzVcBc/XcoUjBD1EWfICEvHNDCnl4KfLp8nPZ4ykIkvhKRThxgfiPKOfz+sJxB7ub6GylRtYcvhIDUUMJrtTW+2oV/aRoomSuGuqhMNq/nG2EEorg6jiIzg2gqKOm5dDJrpwskvKWnRKeXIlTCF4kO5mNdhHrRG0WRpENt51mPta2IhQunTomq3ogrMqihN3pMQJ9ZlTjamm2xg8kCmr7ES0j7Qemz+RobTx/8hbJs205PslJXNm8JWpLLVK1cBytZe8e6Uqm0tb/FjFLwasl1znZrLsDevJ1JXRZP8Kj4FG9qtQVev9uuZuqqbUdvdaJsP+uTokjvPqN5KirfCHg4FWUKi5au+4BsvcdgbRfcaDb4DPO536VvFot23wMKr5H7JqEmdlrVgEPaq5Po2O3pOWKRo86wtiXkqB/+1w8H841RVhMEgaVCyIbnufDW1yDry9bVhpOFzHflYM5mXw2VUqwld/FkgxZiEhKVxYSErVMy+84m+TKz8tJhIrfULdym0r2vPVeT21hScTGNn1kq5Uj4hd5YsrK1bwUs7Wk2LpFZcrHe3NSqkrvb/g5karEtKdebpWfF3ClUyJAmasayyj21yPsxzjcrBhn40lepTKZUud+Ela5giGRyycRNkaNxaVMCLM+CDl7hXn643lMAdcseYueIGKRq1eXPzFAMYW1E/LMQsFJyp1ZfHZ6r6J2fl429nK+sAKnXLaH2eJ23X2zJrtYK7Fm5y4dhTYBOufpLDXrFRctcTdhd4Y15aYDMbZSqeGpIHVCxIqq1VO71O2I2GsLMz5W1a/7lLI3p0oNytZS99WbrBRvKcDGtp/okTw4319Dq5vUAQhtPJoYa3pFMaYAtB7VpyGjEwb9jPe9OSmLLMJ46BrT0vE/DKj07wjS384VgT1rEL/693X7vMb9EKWqCJ/WhVSZ3Q6S5w211EqsXPdpJrYq3AMxd4V9MaXi6H2c7vBTinUfzaSzIVWXrsYqS3VelDFxPLDxUUgCfu8WxvVNvMrS2V/Wrp+YU76/keW41xWd5ae8+ka1ZrdNOIzqQ/S+lty+uzU5KieAupY1B2uDv/nlRw3+fuyI142vk+YI+7HKqPV3ck351aBme25dE0+AwbD3fGQj57WRa35mwObU0mneI2uaq+Q9YorK4yw6xGOpBbjE+v0/0jqi99kN3j+pxp3Z9MkzFHg197QBe3JTtXc681nXFEI0qzGww4qAIdcsqrXWvLL1bAyE1i6CuYh+mtq//bqQp1Qn+2zgL293d5XNDeOx4p/IuKjNCf6Jeh0IF6bq+mP4RrvN/24iKnLfWXW/sWcCXnfKtWYnT3c9tzO0WjctIXegd4eQpkOGgiYWCWamg1aSvXX/d2JoniYLfHeBbYTZ7mZ/V1TR1YMh/IKiFYeKhWEhb2eagkMiVWVer3fJqXc7ZlFDP4dmoyfTO1acPzg26Tf562Qlmhgn40fH0VVt90bEMHgdBmhGHBhPDEM3A3UJMngDGjeNrlF06VPoQzTSCobFmIbh0nT064Z5P3E2Nof+rjfhQ2W2m4ehTIhvPmd1lxbzuFUvvHYgDHhErILUjVfJQ3LWtHbf3EaWD/pX2C9HCY1XfHF14MxV98xnJhMVhxdUxuyIdaZIIv1VdHdHzVl2Lil4jU9IAmt3RBqCaTNCGdZmV/4XMgFWrx5WrxN3x+mHBP9S+TqGetlougsot/hUQaVYN+oYhA9nnqJXUXyFxL1mVv9USnGCAm1oxA+IznFEZu9z94plTXGBKHhX2S12xvGHXn6FAYh161yDMjVkqg+GId2G6TtohakWunNYttmEXVFni550XjqE3l9mDJp44rSHz8dIi+1hj4uFxGdX/o9lIvGINo8ZCARYThh0MTyTjdBmsOQ4u69Yn0llfqd3ad9krWlYrTdoVGhlnlVYrVdpJYl5K8t5IH/8Z0YgGTulSCoqdcjORNyXWQ5hZUeHFgZxVD53V3Qtk6jTh53tgYpuWMLAmDraWMw3NdkjWQc8ZZ2EVbPCk8dLZKw7hdP7mM/teKRQgrqmRMIIZ6r2iRZJOWuldkpdKWLuWJlfVfYTkbWpmOsLdttVOPYLmG2neQn/GXNLd3vaaJ8piKvcZGTzkcKFk2YVKRJmdhSTeKQNhqcokWlbkel8lumIhvjelFN3h47saVxvYzGld0fNmAiCaLI9mU0RGFr4lvp+eAO/Zx0XZFkAmMo+VCDaUZOMdweJKDMIePhSGCZFecBHScbbc2yvmFKXebPAmRqRV5KZhWQoOVCckd+e6inXhFWr8XXeCplvMBYMxyl9rIcXnHmBKokTHCnnXlnuCnd+LFbyWHggBSIGIHc+zEfYOmnm44gpQJdQGqVF4oTN4VngcKmEgyaq8inUJHXIrHnBlCoeeVn0x3YvppJX1YlbNpjpoookjxnaQ0mV+HohRFYGDXgbcmdKz5GaIUdAXKZzl5oS5Kj2yHYPxoQ1KGoD0qoQioUTvIcCpapC/qPUt6PsWGZjc3ZfV5KYF4S3PHc3D5mUy6nN3ldDwpHzX6n+4IV2SGgbnZpRghbUTXjVappj3BpgAqjWcJp9WzLFUZaHa6hHiqQ8FpEwEBACH5BAUKAAEALCAAJgC+AL4AAAj/AAMIHEiwoMGDCAUISLgwgEKCDxFKnEixosWLGDNq3MixYESDET86bNixpMmTKFOqPAgAgEiBLVfKnEmzps0ALV/iBHCzp8+fQAfGZNmS586hQZMqXToRacGiRqEynUq1qkipQo0K1Fm1q1eUV4sSdMr1q9mzFaGGNYgVrdu3TYuufSoWrl24c7cKGKpQZNm7gJfmHcm3L0SSgRN/7Yu47cCQiA8rnuyT8di6kkcypMxZImOdnxsWhjzRr+i6fzsDDg3yM0yjljV7RhwRa2rVb8PmbAwVdWTZZH/X7o2bsm6XvHvDFn46c2blxSfrtL1XOWaP1W/TVa49OtXpvq1f/z+8O6P47t7dlpf9ej3o3xu1o0//031y5Hpbg4WPnf5Spxe9xxZ+GAFIkYH+1acVRgLSNd9O5i2YIFBqNTScfuxBSJRCwR1WlmMVPThhXPa9huFgl3G4oGkfjkeRiAmqiFWF+R0UW40zSviYYTua2B92rB2l44gvVpdjiTbyiGNdCI5kmo/O7RgkiEQWCZ2T/JX221COyWchba5lKF6VDBrpG4zgtbdilj1mGORxVJIZIJgN6nWjRHEKWedsA+YpZ5EeMheodnnS+KOWfbr456BgqtlkoFC2GWlcl3Gp46M7wRhdkEv6KWVzh2qY1oI5DhiXpqrJOGRWV96ZaIei7v/olHjnfQnZmIvq5Smurm533YXYzUord7Z+iWuuamJYqaJYlpphlAg5duyPxCIrpLKsMsuYs2URet20z/WGameYRjolcdmutxmezF7m6KrjqlZurOdKKy6bqXnq45XY5kplnvX69tqe+a4a7pUAsxndv9qG2eppBLM573AIN0ykqpZq2eVpwkIKaLoGS0pUk+p6h3FUIat6MKlrernsxBIzW/KmMTNMMpMCF7jmwyqu2yvFBNJMoouF4lxYhOShuy28xWJoqNBugtqxbLFZOq+Bd4bFIsc63pkxfaS1+bWPkAGrb6x2NprV1skCydukqSoM8pL9horos2t/OeCTeL//mx56D8OdGnph7623g2q3eDZlu5XNdbTLwe2u3WKfebjHWYPadpTxBtV409cSRTe7dXe6XOGfph3usth2XpnmSXarJJ9YXjR11SGHCPrAxiotN1PAMiS7y7VbdDuP897tNYEn1+gW0DUSLijVfcHsPNqhmxpqyWePbRb01M95YrHWi3mpzF3zdtyokn/PX/JuMzQz5e8ejT3WdG55fvSzP/9+7rHjj4oG97/A3S99Hpvc5By3MABCK4AP7FXa+KY9zPGIU3mbEPyuJzy1JdBtFKRLaxiIJfC4TiYkJGBsGkRATC0Ngxw0n9XQ9cB9ySVxv1tJCvEVJhby0IXVQ87P/6bXNnD1TUNPC5+cKjQ/GGpoaR0B2pEAeLIkxlCDN2ximBYYxChybYq6G9aegvIgGFkRcR6Dn/2uJ722VRFdG6xJGXO4rIKxDXuQY6MHP0adYXkPeLDTHdKSxL8rfgx1KqmYIKPWk+BZ5EFNChsiH3m4E/rqj4RkpE8MuDk0kq6EMWOdyOTHsvlFSI0OvAkns+fJPIKSUtmqYbBKGTSOLA6PSbkaDVOHNxThDZNuDKWe5FatrLwsZGeUiS6ptEIiYi9NuKQOLJN5yVoKa1c37Iq9MiM7v+lsNIEU4S9rGSUDJRF+luzINtvUTSHFkTqO1J4JBfg2X/lyXY0EE79GWf85PyJQic4iZeloVzDVvZKXPzHNPg0pRVqNz3Tt09U/xXdEsl1wi8UDZEQ1wrP8rc6dkdMImi7HSvZZJZzq9N0dR7dKimYEdbfc6F3iWTz7mZOc7PKhTa3JNNx5ammmtAtNcTe6FOVQixJd0j0PulC3UVNBw9IeONdnzEw6jXn03CkQC7ZGTaaTo36U6ulmt86BDmeSSQVOuzI6spDq0ZD5VGBVW4NNIOqOhNIUZycfeDxRShAovoykmYZ2Ny3hNWdyTVgFn3gfgyqFqtxkTl6PydDHqdVZ+OtZSRnbyX02lYyN/dF7Jju3I4KvoTYcYXX2yllWenaXTLHXTYdHzyL/4rSwIH0rPxNlO9i2VimyPR9t15WjOVJWk3CNpfF821XghvRrpDUrSZOLrZjyk5n15BwdVflclAUTt5EdKD43u0hRlnOiFQXsdLd3L8gFp5lxlCV45/rNsXbwses9LzU3Bt9Uipd2i+0tOO87FQJGasDVjO8z1/tCHmq2slxE53b3c7fjgeezB/rnewbo4NXu1nxpLe/rBtki6qZ3vD5DKRKt80HwtS6/M4GkW8VJvJfKLWw3q1/L1KZYdk44Jail7xSbK1KP8vOsZBXifcBY02yu5ossE2VLi9zi6X3OqHAymn2HOdMCMneXCo4h4JwsV7HqeGMmRascvWyzb/mX/3Jjnh+moBvWD3PRxD3hFfK8K04thjm9IXwVyhDs2KhhOLYsbjLcLDXaN8sXuW2dYaEzlzTr0uSNJWsQhtXMRaAiR1gPFt2CGSXjoOZTjHs0nWBNPFUzhXo3c+azdp04tK9uJLrFm+ShEUre34K1Qre67Ynt/B/E8lLXvlWteWn843f1t50iPguqLmzsN8EOf3EMtST1F+sQ4xK/XhS0Hpt54PRl28OFHGe3CRNlwfQvk1vj23svelXs4pamGmuvPZNs6hi/+6GfkveOJxnkRwvcxsWsI7+FrUw3t0jNfINmQXEJRQBbvMLt9iZUWfZwGEdcf8kFZrNSduMcOvKaa/9tuKRLEq/yEfq6Loq3M6+nyG/PhMnhLonLt8zXmOdvjDLEmUx1iO5PEpfhUTMupAWdY0pWN9nq1SXGDczrRQY6wauS8NMt7W/dkpteS/7Vv7NF8B/jz7C1DeDVbYK6HZor7POuNYPNjl5lWxWEqX6dHd+Nb70qd9m8hTTVgx3BwbI1wGveu6YBeNPGI7PaeQ8vuwsPT2EqqLcru3KfmZbuYwb07l9dtd/znEpYEQuaokc2ruxK7FtzfvRVQbCLYW9vnZV52I8WMfdm/BXZWxbxtcc8ffHc+o/x7s5eAdZfz373oxMYwhcvPoqlr16Llph+w+47pZuP/WmnXZv7q+r/7Fm9prQSr8bKHb8SId7slNwU+cE3OvWIDPD55rX2254+aFEPZmPLmff0RUJJM1Q/RHLj9Vf4xX/BRXM4RX9gV2gSRYD5Nl/j1n40AUSvtTJH51PLgXIO2HmCt0cYtHa5RHIZ2E+vp3l9REsfqES69YIHBYP+ozg35Et/RYOOFDH802MkSHxdsXz3YoNjh4Owo4PzZzFLh32LAWPLpjLRR207lUi+g3ZmJlRM+Hfsxno9d3+Oxi649kGpBRgqiF5zAW3phWbxM0zaVnQAN4ZGBRduGCpl+H1nKHZ2B2xFF2ptqGTlZmtEt3sR8nHJFWcdCEd2mIbH54VklhvZkV3L/yWIgHZU4WGIsPJB/ZZwnPFUVDZLxPcwOEd91HZ7jLOIJtFoneg7n0h8oTh8mbhWB9drEthW9WaArPiGNkcurshjg5aCdYeFEGVxsdZ3uOGErqRqABh/b0dt3vJOxtYZxChqxhhDyAh2ykhMKecrPvhkKfaLi3aNmiVzBqdiTNeLitFOOOZmgTeBSTc7VIdKTeWHoKU89QSIHDFm07dpZoJyuceI8jg59BgfkniPUNc8WAiPxSZXTtiD1MeANiaMKMhaDYSQhqeQ2bhUBLZzKwc1UxRsaKhgOcg1Q2SEu8d1XWZb9rFPDul8KBiSzoRkxzUhBaduGVeLIJZbodNve/+4MgapUTYpjegIewxpk8W1Xeeokxb4ZNdXaENWiA31Wl9XiZ+kfEcZGEBoiVpWGOvhT1h2OFDpSlJ5MT+mkAYETVuIMlcnWCSZGCP1aGMJcpQzlD1HSn9WjkYWHNMCU4z3ejoWWRkJZ1OJFndkl4kGglJ3d3fZOxDZS3+JF3vmXnxGWsynJmRJbFkGOTvpPn2HWf6HXmcUmYYJdTg5InoIlCB1mETFfQa1Upu1fWQymqJYmoPJVHqZhqqJXRQJNiAZRJpnkg1zWmy4ia8Jgq2Zm6qyPDMkWL45l+PUj9ZCdoY3NGjIUuVHml11jsqJRbB2jYf5UV0ZTTNmnV04nGnTg4mdxncmpz48tFjWlo1/Qz76Jk8YpYroaX8DV0mLmSDVOXZsV3L72JxgVYHgZny4558nEVS0ZiVCV3U5dZ8E2kp4B5Cfh4AO2qApJZy292Gi522TxqCLYj+o0p3to1Dpc5sUOktEpjXFMkQ+aR83KI4lOhu4hqITZJ4rilUtOnQvippOF30mZTj8c5niWY/p+Z8bYp9A2pyL55he93swilU5emlWlnWQx41NymlPahOQOZtX2kBdlaFbSpdZ6Y0c+qX4FablQ6Yxop9oKicSehcBAQAh+QQFCgABACwgACQAvgDCAAAI/wADCBxIsKDBgwgTDhQggCBDhRAjSpxIsaLFixgzWny4sKHGjyBDihw5kiNHgSY9AlgJgKTLlzBjgkzp0CNHli1l6tzJsydEhic7+hxKtGhIoB5rGl3KtGhQhStrPm1KterRpBCjdpxqtavXilpRYhX7taxZjWEDTOV6tq3brWPVxiU7cCXbt3iJIjXINqjduXkDO42bFmdahHcFKy5JOKdAw44TJl5MWW5foAZx0vXL8nHOvUIrixZ7eapmuXQ9a9UKOvVoyqdpFkQKmS/mupA/I7UJ+PXZ2LxtM6w9+7Zqw6RvT/ZNdThyuYdRdzztWWkA6tcjb+7NvKlz4NGDfv+PnPZmZ9y2XXf/Cly9ZO7CsS5XOH+9y/bSI9ZPbj3jfvs60aZdftkdJ9Na8AE4lIDpoZdddIw1qOBQfyEmX1ygsaZcgq7tJkCFxUk44UcgioigefwRSN+FAiIo4ohgAQAaZ1A95+FfLRoXmokqDQijSDgG5yBCxN0o425BvrijdBD+uBGGFxKEU0q5ncejecRtd1qVDf7XnYtLTslblU2KdxuXoY13HHbbOfkkdmpC91x/0+lGpJWWfUimmwfqWZ6fumW5pFga3vnneILy+aR1DIaYZ6IS/TkRio566aSZyYXHG6I+ZhVZfZQyyiGfWB7pmWzuFaljkyteKaR71Sn/yiRL5qGq4oPntVbgoo6miOlBrE5Y4qOdSnneasXiup2Z/wXL7Ki+DdtojcjGaqideUoF7a4WaqvoZa0O2et7tW4YbLcFaXrueuC+Zyy6K5ZLZbLwiksoveuV+Wq6hi1n672ahgtrQsP+qO/AkPm7L8ADJvbrRAXDiGCSwM7Ja6YWTxrluDMuzNzER7IFqcbajvzTxnR2PHBltg5bmKncHiRyxrdGpK+uy0LpW8swW5tdqDIDBqmlN+uYs5KLjfdw0JnhaTOe7aaqW2JsDvoxoEsrWTW1nwKW9a4483uwsLlu6xpwzzoMVKFwxQo0XYKCORp+FXGmYdrcNfqs2z02/xi3zq81ua7UFgre6da4gUiphogLrJjhJPNb+OGUBysm3Dkx7rREllb1sslh62e0dCnJC6ikkisrZ7XuWt3W5zSnWPfosmUY8uldN23g6pkn+7VZzulOEafXzt4m77LX/POqUHs9+lfBp66xyY0zTfqYZf++vN25B925T0rn/byDVZt878DRA60rfqgb71X48XKHbHTmy4m+nph7mzi27Q9vtlHO0V7TEDe23dWub9fj27v2t663BSaAKPMUATvFveNRSjZs81n98leWxeGrXg4UHpi2xL+yKRA3piFT/6xzOb0gcHDW42CN3FOqE7IPW6dqjArpxEJa/S8kaEJX/f9aSKPQvGxNPYvZ7kQXqwxar4JGCaL1hujDs3XviLhy2YCq18MToguKRbnb+LQVNl3NTIpw2lgDR8U2td1pKWJUmIfiw0MGWiyNXTwZxLDlxooNxolI81Qgd1c1ue0vkH+BYWkaszKRpE98FwkYwY61OUMu0XXLU6TzUtjIq9REixdM0AEvWUj8WQ2Lg4whuUx5rxoG6EKgRKDCjoedUq4wZgXknCjX1jUQcZEktvreHulWp+R1aGOWVKXagokVGH6EmTtRlW3EyCNRpfKY8cOmvV4ysxlm0YTF4SS/QpenWVYKkso7YAqF6b83ThKJgMyW9FA4vjnq8ZzhalfpGsP/zmd6TJwk/Nes6qhNn9VrRUSU3+0OqjyYCBSglHwoAu9HpzVOr4oN3Z7zrqmRfRa0bQ5aZo/o90GLONFMf5smRlto0Jh4lEAnaiYOvTfSLZY0Rh8lntXgh6si/rFhESRnN+2INsA5Do8Emt/mjMW9ablQkseM2jx3KE+CjgupRaRiU3lpFooNk3IyBFsECZkszZ0xN5Fcqle8Gim1sg2LXyOhNyF4rQ1WzJk8oRoFz6TWT/bOcjOFnC4HeFNcwoyYC1KohVyJ0L+WNbBgHazYCvsyV/aTKT7VZbvsGsK2UrOdh7zaAjW22dg5Cq/G+mzkLukdmYIJgzPN5hRttFHV/9FwrDAdVfSqwpnXCimei62tNGd7y68JsDioBeYYl2RcWepokb5U63EZqj8lXdaf5vwoB824ST0xlmP/EylDr9tR2gXVu+clbFj32KUfPvGfrJzsUsp4Xmnh9oZpbW+EEojcyhX2PlOr57Zgi7g+2nCvjqsRSjGa2v8CKcBSZeKsCozOA1MXk01bcMR+CROWpo5n1U0qH8WnOaWyzn2fxavtItZhBn94X4eKYBtJHChKypVXKS7sipOYWLric1x+BRUsV0oefHE3clAlroOv4mNrArlOQvZrdEe7Sqv6Dajh4vBMAGVl0N4WhDXNLHAxsr7mtbezLolTJyX7ZWWGWf+mCyRvmYu7qYnmFbcp26X7NOjiHjY3yttMckv71OXpZlREsCvtn3UL53kSDoB67mmdnQUlNV8MLsmtI1U52hNzJnS3qsRYpm/l1IukUIpdni+UoptLWhZZiLT1FXrdGSM06dO9+w1yTcf721crecbzGmqt0ZpOjyVWpfMiKU7tyDXfSpiwsDvOr5BFXlOvGmaWHvQ7mT3JiAkUkXe0cRI9WG3lSrnGpVTvN/sHW/cJO6O9tfPxWntuhgladVL8FZrfS2t4u1be/JXJlJXoR26TsaaoxgjqBBSkZI9bSHo1NBAP27unNVhTO054ftPEy4Zjz77zrpjEzQ3at2ZPaDb/jePoTHw7kzuZ3VgLL64vLWGTq9bRqvMQRMX0SJ+1m7kxt/Zgvl3wDMPYzAo37Rd1iNE4eVh/oO70htgr8qPf8qsq9ljCPu7YRZ4PsxBnEW6BptRlq5ujsHP5/iA48p2MEqRtxqKWtU1hi3Ob7D5ka7lFt3W99ntpfUd5+Jrs5rPfNcA833VV7xx4bwrvo42veuJZDHTDq5vhC835ch0adOWVUrxuful/bNfvPDrZgPvae50Uh3KMi0+qHSN6cOmOYILzbMapdmSFQ5tH0b/QyLW1ahENqT2kajvNu2ftQK/3c4uGuthxNmpuixemJW+5h9RW7GypLHydZ2TMQg8n/57vjP3e+X3727yfPTcu50qPvykan6w6ZYofgQqW6N8l6YkDR+xmh517uHcr92dsE+ZrDXZ8HaRzhtZZhOcqpecpsedcZfZ45GN9jKGAuceAs9Y6xpR+kxSBfDOBOLd/7JF5VvUnV/dk0cd9h/du0OZYKvR0VMFWCNNL3ZNgL8aChOWCk8VyMchjLvRsBFc9j6Q+gsd13BV5k0McaJJuYCeE+uc7pkR6mMR6iXduNNhfTEhsTshbCGd+40Nh5VM2lGd0S9h0deZBysdpQfhNOXRWZ3h5G/g0l7F1OaOGtsWBbjF3Ksh7efhoqyV+y1FLEBZfqjcSfNhlhHhvWRdcg/+IJyqXgl1BiA4YWj/oSQTXfU30WKM2iZCIZXCHbzGIiZQGawiYiA+kdRRHgTD0WXrTebe1iDZ1YYfoUqroQKgkSPL0ih4GMtGGcxSVihfGgjwFUcT3fqsHijoYM7XIecO4TcXISMtTTRiWjFoTWWs2Nyn3cAvHPChogifzjSEWiAazjQsmKmAkJ+SkUn41jmzGf2HjRK1mREW2jm7IcVRnhqdlgTMIjl6UidBnWPaYUofmgd4GcEmDctTHhrmHRPp1T+6oIDy4hgXJhkNDgHVkj/YRJ6dWSclXefT4kOD2jMv4FhzJdPemiSApSRHmgfXRic3BZfSUTBp5T64UgPH/tDfA+HwmKZNvKH0d6G6Kh5OxlVviJISCEXV9GJH2M42LV5OymCKgc23N+EqleDJ1CIbJA5WfmGN1119V2RO5pJPJsTRFCJQjiIasozZlCBu1F1ViZ5ZTaF6Ot3bY84/INnNdoZRKKTp8SX86ti2sd2XRFZbgE19fNzt/eYBe1lYSJW09YpgU4pEvRVraB1jxo1Rk6YEK8nl1ppiX+ViZ2XViR4E/wikn5TyNCJBIKU9fCYjsgjupOTkoZn0xRZFxxY95sYWgt2bZxnEqc1VFeY3lGFCvh4wMs3TBWVHD+WQwKRizWUxkhjvoiJh+aGvC5VhuEp2J+SYWs0+Gk3bg/3RlFLmR/9OWKsVZagSOf9Moxnma5wmEjaWefuaNzeOeEaWXqUiFV9YsJzdCtYdYEqSbimFPY4Oe8lVOgHOg4+lZBBotyqhKY1iDetdormd3slJ01ZiOeGmXgFdx4oehGQoXQ1U9xqeh0eOK1ulxm5mh65c6Jop0f2dKKkpSGBiKI5p06SmjAQmANpiNOUoS6vKd43d7zQN+QRp+yel5vuZ14/SFFLOFSaqkyMOkK0hT+lglGQeiU1pePveZyTh5M7Wc37SlDdml+1idWOhDPQdSPmqm1YimILmDpWmXfPaTIQdPzSmn1EinIdZCcpd59kdskgkgfbRITtdn9PRVQEvKp0sZcIIokzKYQ4xakY4ajhGqaxeHbbw0ept3qbOTkuoImKzXgFipn6B6ej/Wkql6FvgXdiTZqob6qbI6ITVZq0mJqriakKMREAAAIfkEBQoAAQAsHgAiAMIAxAAACP8AAwgcSLCgwYMIExYUIEChw4cQI0qcSLGixYsYDTLMyLGjx48gQw5kuHFhwwAAAAgsWVKky5cwY0IkeZJgyZQrT7aUybOnT5A4A+xMSRTATaM1fypdyjRh0KFFkQpMubOp1as+g9oUEFUqSqJVsYod61HrSK5Rj1JNSratW5EsdaJd+7au3YxxcxYNe7evXZp75ebUC5at38NkARceLFRuYMSQsTJ8/FXhU8ORMyudvLiyU5WNNYsGyfcs58tbUxdcS3O0a4mlc54GvbO2YdYkX+vmWHQqaNW+zVru+nu3cYS9PQP/Kvxz1+PHUTMnXpq4163WKUPPLD379dXUDc//th57O9bmvgmiP5v+YHKFaomat7ve7HrG9eU7jH9/vmTBJmkE4EPlIXQUgZj5B1NeATZYIHsUHbhfggq6BFVyszH2UHNhtQYeXR9+V+FLF+qXYWgQcShebiGGpd2IcLFokFkdnvTedJc9qNiN6hXH2IMwJuThjMXVGFxxzzWmI0lJEimghkEKmRRnPYL4I4XTVanfZSBSxuNBcb0YZYOEaWkblETaF1V7nMUXH4KEWTlmivq112NFO4LWZIP9Cdhcn3OmiaSPysHG5JZrgmkjofCh5WSgn+FH24CKPgmhi0WuuOdW5Q0J6Z0oStfpiqphulycdZo0KpBRJvelnRBq/wmqbIsih5R1p37F6qdH9uoeoZiqyWmtv46XKqa7zinsQDTKSKeoNCWlJoijCnomr7AuS+tEGMrl6bReVdvilFh+emNcDOIWbbS0upqomIpKCGuyY57rLYDqrstinkcGBa+A8hZKr3ly+loqueJK6i+ieJaLbbG3pXrlsI2q5u7CDT8coaaJWgrrct1+zCyjsXq0bpA1blryeiVKamvFpLEbZXWdbWsalkZ6xuCDC4d888Ukz0eznJ566jGE0KL5a7+TDgu0gm6umDKhzUJpG5fhUqo0091lJ/JrUQPM8aMTl0xlY9RqjaKgPnv3NcHAkjrhyWjXLGW2k3ZJtcRrT/8X8HwqHm2gvqguiTdhf2dJpt/EHmdqyS8717TOh/oqYbdv6rrotb7lDHbEuZL9a9ft6mkisZgvuvBRnGsuuGjN6ptgz5PzN+nQt5O7YdCuj2z03dxlKnvkPttus6DH9x25rVD9PrhmUEVk7Nah8o33n5keyfrsvFOMo/V/Sdv9WUmWlrnoX1bNeOfcS88irod5rmTjlUJu6PKLewn+28MxTf1V8vNQf1o3EZo9b2R66w+gHlU+hy3lWt9Ki9z6Z79ZfY+CYepY/XY3Ggg6qyvyw195wKXA2s1lf8qLVGbOZjXQzS90E0reCLOnONwMznkqfNTALOQos7mwaA50kLP/ZmgxROGQbhHJz/98wiBaGU4ky5oatKTzOpglcXILjFELcQjDjESRY1OcXBWBd0WX/WeJFmRfj7gopR0u7om2kV+SstiTJjoEe81zlvvcuBw4ImyCFywUAPXow4SNLlF+LNMdkRLCvgXrOydyyxH/aMVD+gxmGdzd7wIYMaKdUJIu9JMYX5i/07ExVwIcJfKW5kjH5K5wauPjTEJpEiqSEmSmJOQBvWfLVepQd3Wz2WzsiMayMGyRdZQaMBHEL8oNLjDXuhG8ZMmtY1JQJjUiYBsPhbEUwjKaqZpmED+iRCFKykMtkwhuSDi+IhYMgaYTpXc2qUsokixwKNqeHV/1/xnFaImO1Xunr1TkHRuqapwmi5j5hgjMPXlQmqZrYPT6xs+z/cszlFnoT5CVICC681jAjCRGiZM8W1a0hxelHTEraM9uFpNnp1Oj/UqET1lRlIZQAhQI1QZQL1rTm4uzVde0SdO4rXKiLUyjJbMmup7Mk5tey6fcEuc9ugFKjnbTpqUuikSePNVYDVRauniHTpldFZAv0iqf7DYsat5PYKq7JwoNKVSc+hBUSBXkQcW2yzPC1WAhquQYbSrWZTpzZEr1nmKDOpaF9nKkqETo9ID6RMJOCHvUUys2O9rDx6mvi4oK6wbJCE/3YZayhq3LDLOoIsXEkZBtouTNFLnERv+yUDSrbade1+VJevZWtrelawpvWxeWEa5ureWs5eJqQKkO0GEZ/OxuYYtQlxiXbiJN3kcVJiLEOpes0HWldJM7WK+OD37LZdNxd8q0nD0ulWXr5hzjVtZiOvW8JC1t9Zz4Pgm2d6o/7G984xnI5O6sui8RLaggqq1FNstdfEWuUfX6OvIAaJ+6hYmCvcvgQV3xwT8V5ifXCqcQZfTC4hsk0NaZYf3ycsLaNGiOZCa639nraG7Fy4h3Stxn0Zd+ZVOajHOHw9h10q5JfYvb9PvagfLOpaO9YT1LaN/R5ril+U3vbGv4ZAL3VcrNjZwbNcsU3uKXn4CdccBaZ9xGoVn/ciJuYfparGN/OhiFEOXvvAzbZim9ua5xbuWcN3pkBkrQs+EkMnXNCMPogtd2AUubygjtSw4f2oV5nh89Gc1SRzcK0vSTtAbFciI2//i/Y/xSHkUoPnGeFHd/ZuKITR1h9jIWsDnt7p7/2d3sbpltKNxsAXt4sE/Llpwe9jNbkdbdtCm1xwuSLLEvhTOGXvlwyhZo9Tiaa1EmBoyMTPFwZ00/+DIWXCU+4FmttS8E81Ce4cYruDlt7lyhO4bAW/e4VrqUmlJYccPR6fiKyr/L6pq0kaZzgif8tlg7fOCtDrGhtN3XhLvFoOmWKn9POUtgU3ymarMUEM19bYpgHN9l/5OdWx950ci+9F5tJVbJG9Zk0v5Sx+15bkkRVc7HZTaupLZ2tTHobmYXHF0Rx7V3fY5apf8Eyi6/c8uZnTTv5rrD/saeJwm6bJlAHeS7szXMiifuqyda1WWH59XiNvWQ+BrHqf1enz3O1PrRLoE0PF+UrX5rEo24kjHOct8t/POc+xfgGkd8qkk2c4N/vcoFN3a9Uf7Gcos7XymHKmijDeG9X3NjVtWtRo2+MtNhF8UibXzFT3hjvrNbXM+laj8p1bqa55XXkMfI2h2a9tcP/d82A6iz71pISuXnklbZ08k/LzLZvxctLEcytWN+vdyhF6he1+Dyc+j6/e4da9FvNP/tzTqoGV9f9dRO55cRr3ebrjjY8FTT1ORdaeIpHOe3VPy5Qep0Lt8d/v7jO2OzdIWGTMDHE7GlfuZEOcaTfnHVYHo3Y9jhFZlWRNoVWNgXIyd3UmaUSq3ngYm2XQS4dhE4YRIIZxn4dF7GSvYWUapUepcjeMVWeoWVWGs1acm3gk2VQrRTeAJoeDhoRxOFVSV2fWLRepuHggcDP0b4VpbVRyi2g7mnYfzXd2EHY6zHc6PmhC5WeUHWfVMYMwVleuPXV8uyFu8nZfjDa6I2XpniSWH4EWD1LnXng9iGhlp4Xe2zVG1oVyDmQUcYU4rDRgNDOuDRgb1XS8k2hEV3F23/k0uCRSecpl6UCIbks4jihn5NQWZCyFAt+Fjl5WuOBoGNmH+aSHniUnNJZlOVFVp8M4rJFoe/loKydkAztGlSxXESUl+HKDn/dxGMCEq2iCXbd2C6KHPtJoXx54I9RYO0+EDGlzevRIDDlzHPaIkBSH+XWGN/9xYYpkgRhDgh13HXWHAqY0s9BmLNCI0cZGLhxm9ciG3gtINmFlvKuI6b4TBaVxi8CIy0hI5ANl2uBX20ZIPFRYEvqEnJmHhblR12hnTDJmKZ5IqRoTdhaFAHpm4OWTm5KG0S6UrPdH9+NYHgGESPtFjVJF1jJTLaBo+IMX/BdI0nOYspaVcrqVct/zmOnyNT8DhyWaiN9Qd2Hbk97lNekUGUDLlXP6N9Cal/NTiUm2OSgNRB3bh+JHmJ0pVmowSCrGJIsXaUVel524iV0pdpNdd2LGV2gCOIkQcxashlBomBpXOPDGeFh4F8zZiTmdNgASc809ZwdZmEdxFc+BKYh3WLmtc7E8hPqSOCgFeK0Kg+ifN8S8RiqwNuxzeN3JVxp/huGfhYc6iRhvZO0HZTKSV6f7lCOnlYi7mFkzhSpJmaZqdtWVSaYPlhZMiGBJZbaHclCRhx+NiZ+YibMsU1u0mMMph4A0lwFiGc0JhNQDc/86U++3iCgWaDJtWUghk/1JU5edKDpId7pv+4kNg5SqBol5pxnn35hBIWYaA1mQWokqs5GuqphPoniouWb4bZeUnmnLIGTkuGP3LycTbYTBkZSMOTf47jiXLnmnw3oAenjAYahQh6XBxHn12WjQJ4ez+4TUCIRa8YYCGpIFQWSGv0QXK1KqgjiL3Zi44lkmNSapDZng1qiEXJd/75Ocjnj+/3iBGJozNKlVBIj8p1Uw24RVEZWR71MLVXkE1npA9ok/1FVDRWjhWyo1YqfqzWkPgkWkwXJFg6ZkXKjVxqgojEUzDqGry3ihRpP+e4lXH3oXBnLhrUiW5WllsIkDAEnkP6MG8GYuLom1Haba30lB+KjyPyp28ojcbtOKg31Z9oxYxpCjXkRqhI11yjR3a4BILQFKczU6mPCpViVqSaCoP9xWOeGigJWla4uINfWUpAaXNMaqHt1qq9yJ4Z90UZpzE3CneZ6oIXgaXbyauyiqSi6ZQ+VltBqizAioItem/sFq0sSKzq1KyAdp+hBj7wcprUahFeCpyC55IY2GNk1q1XWHXG+YFB1C3+lqOz2n9vFjXCZa7Diazxylz1JIv0al3hNl9sCn7hta85+J3HiUuBSnkC63Z7WIIAO6ximbDNubDRuVxwqHvLCrHUx4CEhJYY643kp2fj0rEL+nIiCx3iqq8vERAAACH5BAUKAAEALCAAIgDAAMYAAAj/AAMIHEiwoMGDBgUIQIhQoUKGECNKnEixosWLGDNafFjR4UKNIEOKHEmyZMKPJwkqBMASgEqUJmPKnElzI8yXL1u6HMixps+fQH+yTDlwaMGeQZMqXVrRKM6iO58ynUp1qUeBTo/eDMARadWvYEteDZBVKs+PXsOqXTtyLMGsY9OynUtXoluoL7turcuX7sqWd3US7UuY8F+WgVsOLsy4r1Gkf82WbUz562OYkc++jVq5s0a9dmFOFiiX68fLoz2rflpaMmezT1G/Xk27oUfMuA2mhoh4b+3feR2aTbubYW/gyLW21krat+7ZzXlDT873LkTQE1MvL06dLfboZw9z/46Ldqve4x2dd0/63XRwweHLg2ctAD3F5etlluY4OSv69tvt1N5i+OUn0n6nzeYfANhBpt5l8x3koIFAwRebgPUpFlFp/2VYnH3uSSgchSRZqBlZGJpoG0IdqlgQiAgWSCJD/GkYIVacuXjji9NtBuJiO8o444kmEpejjcwZ1yNUPyYJW4hDJlnjSRNCpRd5QZqn3mdbRnnilMrlZmV5WEJ54pNtdemliAjuqJ1oSBKV1nmz3TWgmWsGtyKeKO6JY3F30kmlmHOqud5t8m04ootGcXcmnxTpaKaQ3SG646B/KriToxFSyuObaJKY2aV9KtlklZnGqF6N8DVoaH6jQv9aKouAaelak80tx6qGruZJo5Ye6dRql2D6yOCrpvJq66O+FhqssBAqiuNzuF4EbZahRhkrrcNmCu23ygoJoId1+sapqBlKdG2I4LYbrqHjusjhkhReOeJ7woIH7mbe0juRkZORBxeyq9nrLLnR7osXipLaRG25gjJ76LLq1grkwsWG6GmuuFknMam1FRqpxU7yqO94idrkoMekbmzYoscOKlu14vHLZMwmZ7cpzjbLe6+sno11qkMz86yViQs2eW6jRk/LMMRiVmruuxitW3WcJbPMrr/PSs0thi5bbS3Ww/18YWjb0tbhrrQGCB96l/2Vsb02pw1elXfWtnaCqVX/2y+OYD47N5lwNgfqpIm6XFhiOrWJIlJxJ5ipdNE+2/DjI2p9HcHe/Qyt4yBG7vTl3Zom3ofH0n2R4mABnO+XUYOE+rktpyuiniLS3vpWCt8du0az+xuq3YgjqPtcWpcptIaOQt50iUZbyia5tVeWfOaETz7rr5uxLt3KZsdX+sVf1awkx6Hdt6zy8PoW68BfF0z9+aYT276c2INcck5Hhnp5X2ByV+iMFrCUmWZg7KOV+jjmvAUekIDCA0oABei8BkoJNwjMn6zOZbDC/as8A3SMACPUOL5FUHsF9J3hSPYw16Uwd0cy31wEiCFjsa0pzCuXCh9YrRI+7IUnWZAM/6viw6dF62QlBN/mnqM932WsbeGT1II41iH9CYVk66rS536mOT4xDX71c9r3oki27UWuikCrENaOdzsY0keMpUJUrDw2LESV7o44855PGHVC7rkRdnCMXNfi8zAGEk1Z2qtR3tSCNKqZ8XUew47PMta8RF1uXmesYRqzZZJGiu6RdVyfCTH1yPRtDVBTy+QOTckUJd7MWEskUhlvyDQFyop4tvxiHwfZyo7BKWlL0uIsR1mqvmkyiH2s5dNUZrufyPGQdwqlBXvTmyfeTHdiw18sj5jGLf7vQM/MUDTfNc1jVVNyB8lmRNT5Rj9y0221+maa9iQwSM7vnZ5DWRP5NP/BF6rKNos83ZH8Bk56Yi+L9zxmGBeGRH0mSZfanB5ADcg/Tz6vJIcLzhD/1kYmPqqL++zZdK7XTtcUkiYZjc9GjTjSqZWtQFLc2UT9pDGKbS+kJokkOp2WGZLekpg0PRnlFGpN9PEIVcss5kXBKbJSPtCoESXKJZcVvE7tNEzPQerbdqZHVubspe0rYkWR9EnpjNWsZhJrUnNpT2e6NGvhs41aV9hIqNKPrkviplpJt7Px6YdwTY1lC69KU5AmlY+rXCeSzCfJMtakg+Tb382KCleY5rA/mhRSkebXWDaKBVjNlKVGEzQvo7Zns3AMJCIRZ8snBaiXMtPh9qTXQ7D/Je6XDsUsLGvqP9ly0rMFVSwpeUpRhq51oew87GVzmBmCVtB+c/WJZYcbx+KqNoMcPelWt9rcpZLQu2eJ7mNt5yDUslaiN33aP1+JQ7vyD3edfV1i3YpP8yIVd5ilWT6xaVu5oqxXLAVjV3EoOPdpsLfqdFz8vOjYX+mUiq+T5x5TJ04DByqV8v1YN1e7W2Y21XLLDUuh0EjKpiK0bGUzL0fh6VrcQnR3yAzogWXpV6SWd7EuVuhJsXXNvvZxvIVFlgVxKtL5stRY4v1UDpH5YuDGRMGbLBkw0Vo53mUYXJbdKpN9nFoiBtPASH4eLr+6NTdlWJFktKEB+/ljNQpW/8rCGnEEwcjN7G6NjgPNo5hevJaVGrnIOJQUiFfYYd5KNnBWbmhkg+JnQ7PVIskd9FPZa2QT67i6OB1wSPzKSTsvxl0/vPQUV3dIIP70u0zhtIbD/GZQK7nOTmWmz4ZnQCfL7r++1F/pbvwmIzlMvcgytaclGxTsEnLDVT4rem3mwCS3VmLJteKE/flWOXe5rvwkb64/StoZAy6uxnVgsbG2SFh3d8eYPhpRubhnCpu5i2zU9AeZmSp2Z0nCyvZoaIZWREz6tiqeWt45SxreBvvXmOrjN8n8veipvPbYFxpyR6Ns66gmlcXpbPNMHu7eO3swyBV7cq05nHGEs0WXyv98dn5JfjEoi1u4mPvaukIpbYz6OOUZZ3aP9RdYYktLZ9+WeYQdKW+0mbB3GJPjmyNr2C7LDdyIdiJuhQpICcLM1XVTuh+DCnGY88+nyV5oIq+6yM8SCKjp7TSpjeTrrcMZ1jUfk1J6fsMuq53eR02022916bgH/eQo225uv5xYR8GIs78ruIDRKR6f3h2lgQ+xaP14Wn8dvsYGti/jyeX4VQeX54RtoysJvfNTK16mSm6o9Ow86mcD2fOUJbidQnviiZtv5aq/DauNi7q6tB3SqCd97MUuscSg1XkItWODK55TvQMfjj0NPe5aLHGPIt+eyu+9m8c2a0VFzO8+dw3/rzUV7XDnfMJX6/7mvh9lrn86evMLs+Etr3Hux9mmw8apMnW1KnC/27qn1Hcq9SDgtWnf0nP5d1yjI4Cgx39ZBYA3xH/wVoCdxELcRkqCxnmco3NWhXVwxYHsxUtVN25DQ31oN1Z6ZGoClYEmVXK2RW2+t20G5Xpe93OABjyOhHOzB36MJoOi91Yj83ILaICfpIP21n7s0X+RpTsBF2z/9nC/l0ZF93kTRypMKGROeHbH53xSuIG3lnAZ9ne0dl9YxUMxpITehzDgFX31lmoRJFAPyHRHOFNm2D1ouH5qyH8JY4E9+FthCGxieEGLR0mr1XTTo0fG53CJt3tqFoj0/zGIV7Vr/peGiJhPMzR42ocvxgRcdBZ88xZ+F1RoYdGJmSg+ZYRvZDZBv/Z4lcd8I7FF6HY9cLh3F0dMguRLBVJ2nlcXsJh6XaeJDeY6ilZds2dYusiDu5NgVjZAKKdnGIcRo4den1R9u6iIyjhYu9WLEwhc0YiB/ZVWLRU0YJZus1hApfWD+nZc/saCx2aIfTaOVTZzUEODRjZlGoZ0YNVxABSJ4WhoSCcbu0WGoYZivmh3XeeKNEGIMxiA2PY+JJdlOPYk2EaHBok82uZ03eZRWpYsIJceyWVyIoWQ9KVJL6Q0XJZ2lPaBHvmHBqlbCkgZq5csLuRjDph3exI8qP9YW/JjWNElj85lZaCTV98CfOeoN+72KOr3iR2nKqpGh2SoOka5gykJft34U4zVPuOCP1PYS3SyeBPlSiqWdPRYi9P3QGBXf+VzUBFplexWdwxmhdOBeTd2lskRgVB3hLsCd7QoVQJoiBEjklZBTLJIKEfHgFXYRnrplyDkiY1xlcoXi/hHjACoj+e3TRToctWBeI9ZkNlmfd5WhiH3cwRVPTAZf2PjVXpVLk3WVjG3bKbXcDGIiiD4fqimbijEmvolkK/ZGcQTU0FIlvUzkxsJYOxnl/vnhWm5iXE5ZycJWa82dDvkKqSYIqi3lUk4kOg4aUa1N+nHknXoeYIHmFT/MZMLOUcwA5WB5p1DhHHlFzKRaYcZ5JWO5nN8lWQK42y0gYB5F58OBWBLuHz3J3S6ZJ3jqSWVJHCyVUnPV3UlOXTiqRbWRoknWGY2CHQMmqAOipb52ZYAiHkYqXabJXG9yYdDUowd+pChp5uFloikh41e0liq5VUr1YT7ZI956Z0zAqOx5nYzioU1mmcN1Z4luownWWmb13IYhkYjinO+YmZ8Np9Up5/rqGct6osPChxROCjC+IXmx3XL447oko5aSqQGOJuH+aWT2Cy094375JZZ2mNMmh5D2KTIlHXXdyFgZKb3WX+qSKetKXjXJzaY2Yn9kqf3iKNDAjfLFahn6DaOOsdmYQmXsjkxHGVRopheqGSopGlIBKoaN/qj9giCmepQtDZaneqeMTqVLzl8sdSEp0odCqmq3ceNk+mafkpqY0pcS4l4HHSi6PmqWApaUUd8eFWlrTo1v4qceXJ4ZloxV6ibFgSs1MGsXaozz7qI4IiMtyp8athwhHp6o5WO0pqj2naNd0WhxTqA4qqs2/orpjY04ydpWcKq7QpO7ypm7JZEpnkwFVmvMaFOiKWd1biK/ioTALtG1AmbuFqwNSE2QqqtDMtIV4aojxexmYmgcDmuFpuQugeccbixsJKmIDukGhsTAQEAIfkEBQoAAQAsHgAgAMIAygAACP8AAwgcSLCgwYMIEyYUIEChw4cQI0qcSLGixYsYDTLMyLGjx48gQwbYOJCkyYYBAAAQybKly5cWSQo8OROlSpg4c+pkeXMkQ5srS/5USRSAzJ1Ikyot2PMnUIJOi6o8urSq1ZdNBfTsqbAo1atgw2LMujVoV6Jfxapd69AryockpRp9y7au3YFuI8aVmvauX7FcUxIVOJUuYblm/yoGnLjo4a+IEy+erPQkQ7k1Dx8O3Jey55aWtUrNLHhz4s6fUyt0OvGo44KsS/uMrbq2Q9oQXQ+G/VPz7N62g5/NajAw6YuohQt/DVmyz4zJlau+HHluc4Q0D8YuLF049ci4fWv/RNl3+9zu3atbp8ucbvS96NGrx90eqmHtT+NPJy9avFCCnA21m34E8lZTWeMBeJqAxhXoIGlyHYUbdd+pF5SEwDVoH2YGPijSXnkJhWFhFu6GIXwLifaafR5y5FR2/mEHnIIadphdjab5t2KLFL3In4JwzYjXgCmShiJCrwW2I4/4lcdeY+fd9uRq9x0YJZKjMYUYkzI6CeSQ701ZJH7cJcQhjVlyeVB9Wi7533OCKelcczhKBCKRdbbIJpo13ojnnPe5WdGdcqpZHGK6IShRnm8qGiN+DyVJpJrgPekoRIxCGFShUka6m6AeEjppm2hV+SaVfP4ZZl+VqilqnRGa/3rcmKbtWCaVrCIqa3y5ZoVhjmD+yFFkCWL6qXNM9nqhkHcqCONYW3bo6aWGGsvorT5hO6uRpl76LJ2bIlvtmqMeOuKVp76Zq3/fBnrsuEM2WOFZIUX3JYtCgQovmuPpK9tH9g5ZrJWZjntmvuL6FjCqcA78r7RxlrvvwVbS2zBGz+L76KwUG/wncTbuutdXCxurcH7D6aqfrSbel3GH2l7ckaJHmlldyXdVeO2y2+Ym2olAFYZzsLNGFaWkBf+lc8ICwzk0he5lWOrQjwlbE9TA+quapP2O6iWkguVKdcSoAY3m2HVxzZubXxcbc9UXhSijfYmiaxuKfQrpKd0Cnv8EMrg7jtxtuG62h/ZVeIsbXlsLGu03zzJHHDhQ60runOG7Kh20xEKj7PSLLpWVNJzq+dag3JOJiqV5+PoYOuFMu12d6ZeX+tl1jPsLtY8kZx75oO4eGuu9nuGecp278+7w3C4GTyrqo9dlNJbEWn6153UzX1GZoQFr3tsha04d9dFyyHq6oI7NPX/N/mZamD0v9fLxCwLLsPCz25nfhKA/PF5sh8vJ/Gw2OfvR6nnR0sv+mNU/5PUvgDgZH0V8JSwAeo5+tWqc8n4XL0D1rDnJg2BHJDgRCnLLTxHh0MF4BxzUsM1q6apa50TYPI2lSF5R4xv/KpY7Iv0KfccqGYr/FkdD5ORQSji0IQtb158eBkiJlgqXEBfYO7B0Ln6yARXLRuc691kOZLBKYAzJ9Ke0rQeLohPXFmPHGwu+CnJh7FiYWHY3vd0wXBnEYpDyiED6gaxnZMFjG30HlsXJSFHmIyTYOtaxVP0xcoF8lCF14qSlXa9G1XMWDN+nyPb9TUVs7Br+8mZBmFQSlBTEpBjhBknb+SxrkJtXj5qYqi61UJEZSSPBJGbDadlNS0A75dh0UywiUu6COtFlttJ0QF+6EF1d/J8dFUi8E7rsmBt7ydLUpjX/XUyZJyvak8p2TQPyEF8FhBgTXbLNd0VsbxADp2zapcn7NcprtLznE9Wp/y5cxgSUtJtP1BjVPm6pUo9gw1/dvrfKz/GtmiCRZRpbhbA9vrOfB+Wg9ki1UKllsp8PbVpSCseXTY6pkU2rGTx1uEEDSrSkuzxUSHdC0hAFTHU201QJAcXC7CFsolGSJfEm+ZEA7ZN8JjTZonx4RCz+UKZa6mUHiwitDdWPgC0L2OjSKc6NVm6ogwPfSFu2UU0l8aJD/JmwgHoyOZFwbZBbXpOQac+Q7ImfBdUnHJe1voC6860kUlwT25YilXYKKxZCJ7rUBlapem9zZ4Un6lojJqkSFSQlUqxPT3dVNJLVevzEEieNCNHeURWD85Ta9XxqLrUiNa4J9eZKx1hK0v9lFYanxSrNVPsb1gLTteS6q8Oi503TVnBz1+sqUnD4zJjlLYVZ8hEpK1tYbJIKoY5VCnN3NVnZarSPvc3nTL0bUud+1qI5i1o7H9nN1TrPYY/LLhiZ+lHSIk69qIxuFBW4uOditLNRta1RGwo8sVSuPS+s4klha1WL0c6sruTjM6MZlgO3LMHlXLBTxRvgBws4wqCdcP8EiF/RetEtbJqjB1O7YQcr1aoFyy01RTS45JINoA5F4oo/WdYOv/inofxuIfP7yEsylWGhYag9zxWgt75MrMvUXPWMy1WwJdmjTHvqMpuczyf/ssH3nWRZFMwtiNryh+1d5HlzbLzYDln/zFLMcJlFKqUdXrTAaD2il+t6lchazmz681Raz3lAznJqzvKEsBVXnEFAz/gsg47yYR9FR5BmEZ/mVMt8i+zdr6oZu8209PD0ms3RsmXTDO50jTUs5FAjGqakJu+N71IiHnPQsLKz9QepKztbVk3Bk5TxUjPLZlPhGmaf1TLHskzXE58xZITdyfn4Fbb90hm+771Ym99q4256e8e81CZvqY2tSns128p+GLedvbOd5TrIABMZlt1iyeLe0sXn1rKnJSjUSdtM2Nnttq7qvV2EErTE6dr3YHGM3n/7c4QZvmJqj21ivjkw3bkE1FbXQ8xWx1t255v2j42Mq6Z6BIcb/6cwp01pciqViVpA7m/tKMtlTlZo2yZ9FkVZHnC4Ju6QU8t2qclY3qB3d5/AjmJ3pe3PN748zuSrJeOaG1TufoyNXUQpiSmbwRCNOaxQ+jbVB2jAbmadmTAJIzn5XPPPEVywzPOznzgrzuSZuSVqlzfbNWhNFcL90xCb+8y13TchETdu8Paxze/tzcMPspgMtPNZpwjVnDje0Bxf6+ChY8fu0RjNK6a84j/Ea3JJ82wPl3VpBWTZEbcSyrtFuuvrVfrK0xj12wvydo/6+ZbPOqeplf1l2blqyp7S9hCuae2I++3Jkbkqnuavse141vreuYO5bzdTn89zn3E63dy/dv9KlQ5uVsq15A1nZW5vunBsyzX645e6Ys0f2uqmv9qgRvzX1h3fyPW09jmGP0A3Z+F0fYB0NGjncSf3ZZ8zee03SCr3d8oygAHIYgbYSjjVcyyxbhVHZ5izbMg3S5HWYz9nf9cFV0vnERxoej72gd+0ef80gm5mW0MncygHa/LDHwj2WTC3TjNYcmZndcO1Zo/VaKn3cVvGVzwoSMwTbXXGcK4mfj4FLsnHgFYxYPfXgbpjUtP1JfShRlkCPp2Tgle4IAcHXdTWhEJ3e+PXcaMEdeRiNFC2dTTGexn1hl44e7EFWEyoWwAmX1cFcK9UhwB2h+B1MsNHeJyifbwHiD7/mIO+Vl1t5i3uonUemHhdl3i+lX/iFolnlm2U+IbuJn6+lGbL5mdMx1L7Z3IrdE1uOGxsJIawM4cnOD2VgV/Bhlvk13qvCF07Y2FkGFzLsoJJ0YtedHdHR4TfJXhIk4CVA2exZ4VIYYwyRz5U6H9692HN+EImBo2ChDVhwWW5yC5cCDvZVTJrJHfz5kqJ43hpp0HjqG7l6FLTt1Nywo1sSFHtiIls4SRVljJSdSmHhlVQBFXQAzuCSHxA14gEOUYCCSW+VJABdpCmJmWYJow9qD/RYYo0+ILnB2TBaGBQ6FmMFYO+w5EyiIooiIOKMYVYBnE9l1cfyWdWVVs2thgu/ymT/xSTyBWFNIkwNnmMxQNZEFl/hHWNmqSTmaZTlhYk7niLfCRJ9biHlVg7SiaMcReIncRhW4NPtSV68pePLGmPt5VpwpUaGJYdYNlBBfdnRxhiL1mLb8kY6teTr7VbPMRFkQdDT6dKY6grtGhGdbmUbPlXOtiHQQJouqGUN9ZO4PgZ1adfm0VglyZOKWZS9DdlDJSHGqhp4OaCsIRSeAlkcyY25JdUIEh4+yGAv5VWd1I32sd1fmhRdFcbSBksrrk5sBmL4TaToMUwtUkZnneOCGdDgRRj05SEG9WMhHaP/GgVwzlGdSdnwdebbNg1/hWaSkg8HCmSd1eDUwk4Jf9FdqMXnJIGRYJzOwAInmooikHHieZJjuqYnqnBfo4YaszZlFEoh3/4hHX0aBzkQKyZTvAzV//on8HRb99JZxOIffpJjBUVPkKJb7Y5kqToYw1Kj5aJdRymlskZgv8ZeOxzmOLYkz/UUQq0hftCW3p2S84XlycaReynoitqLby5oV2onCxqkCC2oD5KIN+Go4L1OAyJOylYME/ZlRfXovTWoQwCYs8XlD+6olsYo026eywZpYwHojUaU27HQANJjrvGlDQHTcU5oQ4iS1cGZpSmlZA3dECnb3tZLVqGeWX3dx14kwk3lZy5L3W6fOZ4oc90eiLaYyvXpdJ5ffFYT0L/uSqHGZBuiqgZiqYHGJ2OSmg4x4n6sX4RZ5WbiY2Khmz9R6dzGWqGJXEEKGoXuT5JqhzgQ3FGSZ0kB21VmUiB6SGv2mwfGX62yETiuYMJOZT81qKaOkse5osJiKiD9EgeqpCVCYvdOS7DSpjK1awTlKVVCaeS+oA0WpqY6URmOqDPqaxTNaIU1p4OmT8HSK6YxY49ZVHpVjrpyq6cR04DdK42qpmeSK+JKW/3qoelGC3Hx6+kh4yfCYah6psEW0MXGpkZxZjB6irZ2Jl6+YkLi4QkeJKaOH2JeLEYM7HA17GB5rERBbLd+KE7SbKQqLLSWqos248o+7KbGrMy2yIRCVuzFeayVREQAAAh+QQFCgABACwcACAAxgDKAAAI/wADCBxIsKDBgwgFChCQMMDChQ0jSpxIsaLFixgzarwIMeFDhhtDihxJsqTJiB0BADCYUqXLjidjypxJM2RLliBdvgRZs6fPnz1VCtSJUKdKmAORAl3KtGnRlQGIHjQKQKlDnk6zatUqtGBXgkg7Wt1KtmzMrwPRKsQqFqvZt3BPHnWblC3duHjzZpyLMOxdvYABf2w41uPfwIjJDjZssXDixyQd1x3qci1Yu5av6pQMuTPHw5OjVr56uTRpzTs9q97IOTTlvqBbbga9unbB1plfH5QsO7Xt34T/8t0odTHV4cCTu/ZalXbE4g8pU8WtXLXV3q3R+pVavftuutida/+3y927+cVP1TKHjXM2evO13xssPx8qzvY75cNPfF240bXhfTTXXDd9RxFy+/3UX3qjGZffQwM2V+B9EyGY4E/H2ZeQVOrxlhNUGep22XhoqXchSSE+N1qHsX0o3X+i4TeihiaeONF2MLL3HX2G9cYhVO9ZeJqNIuHIo2n41YiTjysCGV1azVFIpEb9TQfSQkJ2VWBhWI6W24YavtdlQ0pOWaVRbWXppG5cClBedmE+uVaZZU5Z0YJTxUlQhHt6yRpmy9kpE571ISnamFDWeSOgXwr6mWn6UfjRpG462RZlbVL3o6M2ARrpbVdSCqGloWL616f1daUopxn59WWN1In/iFKo+lF1oIasBgcpVrA61ydFbdWao4q5xjhknvothlR5NaqKK6gC+hZrsesdW1+yTy7rZ7MgPntZtMNNS+2xvX6pLZlrGvtio+Q2Z+ux2I57roHw8uotlJmV2CB49nYJ3bf8jmsuv8JeSq+h/95ZqaLjCVzvknJCabCUyyUM7ML3/hporuohaDClGBXWcGiEisbimax2HCXJtEZ88VOGTlyxnwDyu+p+rtY14cy7bhnxkcx12ZusmmZ8HqNX7fyqnkm72HSfDLu78qYbw4wzXXzq/OHNVjmbMNAUywr1ysGJyx/WUgO87qKFmrzv2hJ1fe9scbt8obJI0/0dqvgy/9Z3m5kFWCm7juKNsG8Qw6nr36eWepp7g1t7NbczqlxzsBg7+7Lki2Mupr1tm/0Wom3PSbOxIDf9LteOb+55xPNqLLpZ/ho9Y82pbjusX6ljvuvAipZcXe0Xa2n3uy+OfHm2Lf9eb/AB7we234fri/xp/c2ubbkPgxq43XlNr2P1NB7nvNqt2st9zs7zvZWD+jbmn/Eao2u2sBmmmS7pxOoFf/nyY9DSJCKkusktf6GiH2pulRefsU9dTzOM8tymEa91S2+rexvq1Oen7ZFNMU77XP0iCJsJig9Ma7NS8i6YLgWukHyzOwmiWJc7zSVqbrbj3A0zGL+6KPCHx9nZCf+XMsMcsiuDY7Pa4hjEQwD6sIVQVCEEh8iUH0lmZDwamg5F9kHT2RBiFPNdtUynsQI6xYqgweLptAg4ZNmsSbApmRhHyD9nxdAktXuTXXxmqIEl8YYvQlnTHji+CnXxiVTsSR47uMcQIs2PgIyk3m43yEcezJBtut7oHBmzxi1xjNWq3bRkRkBGhgxjy3sfJ5fTxkKOUHYYG2XrDDnB4u3LfXhMI6mUpjAzkhKUmYLdLF+pw0Iy6WYjueIunXZKXw4TmI0ToQ5ZFMDQpEhBz+wjCbvXp5zJcVSWYw4yFwhBLp4MbWKbyS+1Kc0jfvCXvEMlKOG2qC9Oc43H61Zy5qX/veilE31UNBwFJedC7w10n6Ar5qwoVqb/XcxgFmOcjhIZGV8t6oG8PF8ls2fRd8WzdLPK6KHAF5M7og+SDZ2lqAjWURh9dJ49YmbQSDqoJ3ksm+1K3T+xx7yyCRNdGeIe4XgaRovK0KbvxKm2dArBnuE0lVXbofku2cZvbqVXdlQp2iiqzZCoyYLGK9lNiQlSmmC1WzI74Ok2V5KvsjCs/hzp4UqJTTwRz1h0WusGu7pN+dUSpqFLqC3HSSW76c+GeaUcN6FlVFD9layhFGw99SqTmzHrXgIFKTXTB72hfg9zevyjF42IItJeNo447SFf69ZZhYoRXEyj51036VGZ/8pqs4G1modOubO0Zi5dL0SNGZuyyHw9S7VRLSgsP/lQmfq2tmMz3iTNEtq+XlKjQ40oZEspVJ6hRos7vaoprRs2lpV3bVysoF7F6qThnBYuP1Ku38JjXOg4dGYIItHU8Jld0w6rLPEF7kIfJ62t3RKpJkRcOSsFXvPm6VZcrWgKKUtVDprxvWRsqkF1C86kepZtB2WKFin6QCnmjo6RSym6ajbddSqMnk0BK9NEKdkGQ/Z6vZVn3SArt5M6VkI09YmMdzVdNSq2hkzTLw37Vt7xZBLIJiWOBvtrPVKtVqqa3CY/eyrc/fVrUuGNalYias7ywfXKK8xyOzf4MXnKjP9ASN0xXk7owSVL6rcwNmRZmSzOfZ2ZlY3FEIWXFlBPdtmCGAnnnoOLqDVH+ajn/fFY7wlUFpqKu5h1nFrzOrBH5zLSlfMwpcGEaLmqaH3PzPJytYYY/RWVXYSUHP/Y1EjTIFbA5EtcAv18yLK4esNEBbbwyLlq3FlTn3u9ZBbB3GXTeTqZhr6yoq+rYQxf1LazivBTXKzIaIu52kbrcZ+3uzdsB0fbbvxwTVWt0E4qc8vRtTRMj7lfub1O12Bsdy7ZTZ2XbjuhdZY3MendEnu3jKMcVfdMVPZn0UrsZy51buQEyOZAE3jFKmowtxd+3AOfeKYBNy4lKd7wF2uY3Jf/DvHGzdqkgsL2phNkkrE/vmzUJty1JIVusJcS4E7/FkedZHTOW/6sYN7cQ2VW4MpLOnENR+ta0fNZRFmkr5vzSLvUpjjwSAtt5LK443Z15NSL3nQh3fePrSlazJs+5kEjkusm96lFpmdPkPbOwOgOittHW1MDNpbuyFZiJev7X64AmZ1v1Dqw5Sx4kVc83uFqEcmnXMXDb0yQHwd11vns+JIj8MNlRq/FO9Vvb2f+iTb3j8xVF9TW05qtFacaEYPMV2VSPdOfcm/EF9l6qpUelnclbGkzy9jcRnKnvp3o7sreezg7FdaNS9GzwUR8H7/++Cff+RbxHqcqt16a1d++//RHfxH5fu97Vy98lpf8uer6HfoDdNv01TvUNvO9zww/HfuF6f6QPvPNLDR/RXJwtMdnQOR6j8c4WTNXrJZsWXVkjIVb2UcTr1M0q9Z8tLZlC+hdxgZEpgKBACOBwjd7Mzdg3ycqHJZoOKR7Ekg03gZRcEeC5EUvJ8hUxVYR3MKCZGd3L+g4I/gngeVNzKNWn6VVNvhgkRU7nMdT4oYtS0eB6KRlzWNdCUN8K0VXSShZ6TRHjHN05IdNCqdNw9WAKphSQpRk4RY50RIv2qdKYbgxY1iCc0dhDoJiYdZoo8KGT+gTbIhm9LKGK8VlDmc2Nad9XCRSAshbcfWGTgVnV/9IUOM1h5uVfOmWfYmYPjR2fheHetRzeeYWVUv1U8VHargWSZeoiHpjfwumYou3ia40M2smh+N2T+ZXEyGHfbZWeE1WinzTZnDmcgWIeWcTbw6Xi3QWhTenI/rzdPWSdom3Ggh4WVXmVfhkdhYlNKNyZVH2gyyXItJoZjE4izMybCUEZI/1bQyEF4rjNn/1a+50TozHWWnYPosIF+uIY1HXdEQ4isz1GayoieQYGPTmdX0ThwTGjUh4bkGVb7DXatxnbWXUawaVdwkpQQvJjyD2GOkFWK24ONP1amR4amSHS5rXQP6xaB3pNx8pbLVGSyNZgCU5jAc5jzi4grE1YAD/iWClGIKkdYrq5IN0+Hc26YeQJEZYx5MNKZDisV5ahXGBJJQK54iW1HgE5pMlASeoJm3gOC212E3M9oabZZAIlTvMaCQC14qF1n44tFMI+RtqVZbkQXSvmJb8t5bZ15b+U4CF+IAdN078JnH1h2foOJgmiZU7iFdpI44uyT0j82T914+qwTqtRIM3CVX5BY4jp2+OdyKSaXoTWZmDZ2q3xUjnSCF46ZBBkml59in95HAntGRREx9faYkGxpApGY/fiIVyFpurcYu2l4bMqIxTqHxy548zJogyKXSV5lOzZlBcaJrAaXH881pfeEZThXKmaFifmJQKF0za+FSBcU1L/0hxbIiQk/mKJbhbmqmOOtaG1dJi+jibTLSTM7iSABN6E6iU1aVMT5mZR4hkgVlmSDd0decZd7WRn8RGDNZS9olCA6WEYkifGulmJ4mTM+lsDKpgWDh2cymhkIGH+IaRylluv5mg8tlnv6ccIMpYyShVARpk0xNPv5miw9OSGdZ/4hl/bCmRIOlBVpmXPlZECaZmksUtNKp9DVo4SONBplJHK5OapQmK11idCYJRHNSkzMeFj7l5R+ow6JkntdhG7KZ4gtec8McpakefYqqLpKibxNaKPzqhCDid0bdfgAd1EelMAkqlwMF7vFZ7CxpcVHmZ/VluDBKn9qiG7dk5iv9KlVR2SOvndiZmJopaaBmGoCm5kpEaNUnqpfYjUxBJi0YDNJAjbp6qXmdIkPhJpjd0hKeJppLXLp/Uc/gVcZSEqFUaqxAKbLRKaLbKibhqoM5hpjPYh1g2XuMnlqfqjL3inWh5kYQHHcp6qm8ni4QHS/ZlSWG6nSK6rBS6pj10oKJ4g7nYXNQaaa56kan6pFo4U3eYjeeKric6p6BaYOSmez71qkqqdBbGpmgHk5+pRozorfwKeZLqcY+icqsUrxBGdidojLrzpXs2qQwrkkkSRIByPd3llFIVrPAhUjrnqKFZrhw5sBULsr8qskfIS/9YsRK2YEUZZ29qmJ3qskBLCLPdU4czu5QUa7Ppc6aFClAaqjCx5rMJy17WSF+YOJVGK2XLllf/2bThU3jEiqUeK7XGWaBXi7U/KXuEybW9qWl8CrZKqYm1ERAAACH5BAUKAAEALBoAHgDIAM4AAAj/AAMIHEiwoMGDCBMeFCBAocOHECNKnEixosWLGB8yzMixo8ePIENa3FiQJEmRKFOqXCny5ECTDVnKnEmTpsuKN2vq3MnTYc6JP3sKHTozqECXMBkCWArAKNGnUDE6RRqToVKmTqNq3TrSKkGSSwkyZcq1rNmLVmMejRl24Ni2Z+PKDZB27cOxa/HO3Vu2Ll21CfVehcu3cNmlLvUKJEzVsGOoiAErDsAYcNbHmDUC/ipA8Oa/kxcDEG33b+bTFIMOHm26ZGeyBdu2hYm69sLXhA2uRph28lvWnEvbtr07YXHdVn2/RS58uO3QrXl/Zu52ufPrCKFPne5arHXs4GPD/5ZO26dltsDFh38+/nZ5hY0pp/e+HnPv9sFfVk3eFL3s+YHhV59c9+WmX373gQWbgdkJOGBhDEZnnmgRjvVeVw8SFeFlpUFHYX/N4cRdhipd2JyJEpamYGQZcUgiSijGl9OM+33oonQvsuQXdRdexaNX3ckXYpA5CrVjkD2+9iONpKVIZJE6zTYiRH5JmZ93ObF44JbHPQmlRFZKBWSYQ2qJ5XkI4gbgkF/Cp6R68mm5IoC/nVije+hR92GbHvkIp4V3QlenhCiupaCeca7Jp0iDpnWkd42qmZ+ZoFlXmYpA3rhog545yt1vUk6mIFWDXtqaX5oWeehB/3n4V2KwZf+pqEKgsuYpopviKCSrrA2KHKxkVldRrYYCeWWuuDrUqoNO2pmkm5FGOGSq2Gm67IbcUfWscWqGOquT1ILX6We+6pfUZ49u6WZzBhZX4bcvjmtQucXW65pqU2JKn2t6vYtseZHNKe2E6iqb3mrlxcdmopsC3J/A8HJ7LK0Hq5kwmgVDGnGGqJL7XaKu4ntZlRtzS2+uHc/7MbG3kZfvq3mKebKqHt/3oZSrDdzkse2el7JFOmfsnKw2g2wrf67uyzOA2mb6coMRhZtZUCwrLd5/+lY6sMIwT3z10f9+CqrKnPYK9qmSSlzwkU55xudly0Y0s5cBykqYcmFujfF1cJv/HfTNEbtI6Z7V3R1rzLouXFihaOdN5+N/Fz72rmQb3a91cyareFyMw+R45RpPVCvWvAJ+udsM0735Xi7arWi6d41u+sNiawa61o8zflbrHmNL7eh+vwU75Wpb3aVoums1vO0EZ63yyaV+Ozd1gB5PvNdRLd988WiXLail0n+8bqIFPp74XNq7zNl2aaYrqqO341s29RVrzlX6eK4/pYzwf62/rNhrVuomVT/V8URqiGqagUi3M+5Rq22HaxLX7IXAljyNSnuD2QLNZrXzPXBKqAsWjZLHOsmcLWomtJedpnXBCfovdYKrWAV7AqvVPQlnGYxRCzP4vODZsIH4K4qx/4S1PfvN6SpEQ5cSF6Ydj4VOgBJMIVTcF7j9Zcs//RmcfJiEJLH17Haog5qEIjcTLXJRTjmsXfe41L+LaWx6QHud0/53QZSYcYlbvNMKS7dGTP3sQsALie/0CLMZdiVB+2HZ+3DYwy/mMS8nZGPlgnU+5rmRezpyFBoV2R4/UbGJyEtkJJ1HREq2TCKXZJ9MECbK2f3HYaLjIBG5FrlAdnGS3wKgAUtksVZabkEgag0Zd2W4PTaQYlWT5J9y6cRdriRkMRvhm9TXNeKtKowBMuXSfpjNyf2qjhiBZhS/qbdzATFm2JwfFMc4SorY8ps1CVoMcVi9IbquXDWUnAJpB/8xUlItPcMsYxXldjhWsq133mSnxvZ5K6P5U43HhAxWrPhPV3kLOZwsVzJvt6+TzVOOHH3mRN1UUWZdlF+TS+ZG4YRLUEJEnCxd5TRPubR6UrORKZ1ozmRpP4KeiTO1Oig3P+KnSrLTpvnjlS3rGT2jxvKn+gmqPQlZE0AyU2UXQ6LPEEfMCL4QjU79GgO39Eor9rRPhNQbVu+ESP01MG5OulznXtbUIJV1fAGMJ0/vxda+ujVAPYRgWHUF16ZFNFkBZdRe/5rKrVIssCAEKSrR6VV7ybOZQvymNDen1b+y62iefNl2SFfUri4LWFm86jpDIs3NrrOz5sogPdt5Vj//nbRJpwumjWb6o+zxloi9JRRXO8Q0QspPbfJK3UqjeNzEwui3h11jfBzpSBdyFouWBebcGHlK5yr2nyTtX8DSZkou7utniNLiE1HoyKGKFLzcauh4L8dCxIKWqgVTr+SA8lvryvSySEXtNq931JINa7FK7aSnhug177YIuigd72dNhdvirlex0X2jDBdsVAdjaLXi6dswzYvJajbXfLijVGnp9xQShpiuzDLqyJQ414h6C1BAVa2HWQtO4jZ0tyRWqwO3Kt/7kozC1aFljHXywVAeCakDHqxw6UiyYh25gFCdsIFT8mTdKhOSPRQRxVyb3Yhaq7J21SmDmTzEO9pp/4OJhSCZqzlW96aTrGo2ZEfmfKwu3za/W06XC8N0UF0qGcf3o/EVPQvD/koRhSQ29H4MC6dDj1R5mOWjCivV5yvOOK8ozTCB6Ri7HVswpMabKpJFJloemgzBHeSriLdcVXDC1Hrp9XKpaedH8RbU1ZAUIWV/fEBbM8tzS/7smSWMtiJzd2HFma7ZiL2T0gq6WxELGhp1SNyBIZp/YI6wmp8IMT1PtjI0gqOoQ0lBPGaum9tCNkaF12av/sbcaHFacne91gpnObY+JZ+nZ9pWgXdbllIdSsf2bbANXhOguq5m7HbrMnS/5oiBAubs8F1Ea2J701qWDqF7WSxsaRjURv/coZb1y+P4fVzigMbWyL/Nn/PhE5zHtaQJEV1raE2OxPm+M6vP+e4LI9PLVARcta3IMqB3RegDJzp2X7hrSndUfDRhtjrNmWawgljeoZYckj8LcrFjecg70XqCe00/r3+a02FXutDyObybM8+9grxvmkiJV1mbVZjtNDncqRzZpMU2iCLddGNR6DJVrkqXP+oZtcVaxckLcVXz7rsHC4/1JBke5bsi9s1VWWvMx52maO+mS0mVbKFVTvQf0x7HNc/XC5/x7MSd3d4FaPihKxfin5+y60GyHQHPnau3170yS0r77I5V3cLHO0c8ikX0wlzKRhd4Ei+SW/oCevYgoT7/kI275rNmH8pJ7vF+f3nOf/tW+a4M5vYna0yFPsm/BJT8cJs96f5Ln7/w90te534EwzX51GmgV3QAR2Bc1zEu1hGk804ed3fxhXz9s3tmljaxlkB4VHEVY2oTZ1oJNXaoR00Wx0UHGFUCclleU3wEB2EqAWfBs1wvJnKyw0dOF2bEV2+mdG8XKBMyGH/aFnHBllDn1YHdxGPGd0/8pH4tt35CaIRwt1RY128LGHw1tWQ8x37OlEkXBjwrZVs3CH0qNiatl4XedmkB+H8fhlPFtEzz9nABuC0NdjjaBHj8ZnZvdYZo5T3tsUEZqCURmFB0KDSecYemp05yZzgg6BE+/+guAjJr15JTWWN6kaI/QdiFyKWGGkJvkNheqjeDlChdXHWJsZWJoEdYnJhZCcZ8XxZOYNh2K/iBwAc5sfeDiEQy4Nd8Brd2r8h9sdh1s5hj50eIuMgfRbaLH3ZiyuZuczRA0LhpeBN4qziB6VdoyFh+RFFjoWdCKPiM0whPUNhokOVyZ4KNWqWMPvdY9NdHL4Q/3pdV2ohsWoSFmkhDMDhqasM4DKdOI2dli4Y7riNmnCNKlnd/zvhQBweI+rh5DQIxb2h8W4FsB4mAt+SODvM964aQD4lFyhFyhnGHqYhBdgZx5seRCVZnNcgXIjl8BHlmsaYp/lVXHQkhCgYr1v+GhGMmRTkHeNvGYcpkj6gWF++Dky94kuw2SwF5cOdCbBlJa8AVkiVzUI0ojbT1Sw9XGTJIggq4F5FDlVAZXkfoh4LoQyqIUy04dY7Rj0GJeyV2Y5JVVqUVjsPHO2v5a7pienZZaRqYZk42U3QJbSpnGBgXgtlXcOKYPEI1jhYnjgNSmAajg5hIhCaGX4wmkR7HZw+yYu4UiRc3j+Q3kgc3lmw0iKTHF5wZSz2jdhgYfSQJjcIWbndVYvYBmoQTaY51G9gEW2KUiDGFftiHPrZJjihZdkX4ZpQ5Tg1JPMBZgqjZl9Y3SBbFayrIiE2omMD2jr8FigQCnc8YXeXTkaz/Z50LZplrA2N/loGY0ZKM5oZueYTBd5BbGG4mKIU2yU3ak0yChTuaUXfVmJpXaJ/CyXiahmfi53dlU2RHN54CyjeDGVIQaWEI2oq+tqDnIYEcc6FLpkpweYf1WFzvE1YSaH21mWNCpopF6KERt5oKJqI32G6ncTFF+aAFpln4hS8zukcGmJ2OIaM3SaOYCZD1pZs/qqNpJJoD+lVVSJzMA1dieUMjWI1fMpAO5Yt76aQVmGsaJaVtEqGmeJzm0ZVh+pmuaI/qaBZeijkaelliGl6suX5m6oQP4i++eHSguJeJqY1sOCB0KpmhyIEEmqeniSyEE0D2yKYQxX8OyT0s/1cfLuWn7Pik5nh959l3jboeAJqXSKN37fh8kiVGGlZdctqj+bgkaYN4ucecn1qga+iOGZqWvKieUWk4yaeJVTk0rjaoMUV2sxpxvtk3hPqap2mJwTRe/SRA8kmd1nNJb2Oee0Sr6OFsaEZqvLJwnsl3UJKpIMadVLetA7V+vhk2JwpYzhSikbk9IRSWOSKX0ZRxQtpoj1qnzqmIwVpK1PmP3XhlYApqvXdBQlmvNIiifFlbzppUl1qvrTo+DJmDvzimSYmwTHSDwFopn2RkSiR4pAmxw2dLE5uOCPWuxOic7FmvSdeLN8V7arqn1amuzapL81l7G5uyIKYZ/4qwDZTYahBInX33dho7PiQ6r52JP/jnkj27e3OllVepkWBCi2f6qqRogyHrihtIrpDUtDniQpJ2rLj2SNtjtVOaq810ZXBZk107qkVLtCd5oAG0o2fLETKJntdqQGzbtju4jjE7sjtrtnQLtPSJsnibenubd9z2WnoauIchfwmZpYZLmJ+5kYuLq2X5uA1TuJJbH6jKFQEBACH5BAUKAAEALBoAHgDKANAAAAj/AAMIHEiwoMGDCBMWFCCAIEOGCiNKnEixosWLGDNq3GgQ4sCHDTmKHEmypMmTCD16FAigJQCWL1HKnEmz5kmVIWG2hGmzp8+fQHkG8OjSpcGdQwW0XBm0qdOnB5ESLRqToFSlAJhC3crVJtOpHUMWFQgSadezaEl+FVv1I9urDM2mnUt341S5Dh+SzVm3r1+Ld9vmxfm3sOG8YxNqPUj4sGO0cY0q5psy5OLHmNVSjog36eK1Vl1ezkwa8GaFnUGGzRt66enSsDmODl1ZYeSis2Prpphb6OrJVLO+3h376t69nzcnPp60cnDi0Acab+558+Ll1Efflhy9O+eYSLF3/5Y93Hv38OC5Bxhvt7z5wrm3B2ever3g9/hZA5+PfTDb/AC6xd5RbaH3W2/VMYegfgH+FBlFchm4kGXuJZhdhQw2+FNiDxbU2XP2ZWgbXwguqCFNHGJFIIGJyWUiaBGZeCJ59Wn3EIjXUcWcbxcqiKGA983YXo2vlaUjda1JxpSLFPpo2oBCVhQYQuJJNp1QuFGYpY209YikW1FmNGVU6rUY05LpubbXlkXyNV1jIoYZo5tUjcYedoFBaZGETMopEppZUhmkfX0Sqh5HfLYlo58TEZlhijyuWBF6riWHE1ghMoqRo2BKp+R/CenpYZrCWUohpqJqKmmk1EE66X39Mf9mnV6GJpmqql2yOuaiHx4qa1hj6uQrrhItql+sSRII50Ug5kosbz/+hqynvS6755HOPgvttqO6aiaTy8bX5na1aRtnubae+Rap/u345W/AYkVftO/BeOV3lFrJH6lceupffSOeG6W96kKo77fzCdsvjyABPJnAfvZ6a8C1ZlpojtIq+iNc9OIn8aCmCYulxu7qCmrJoaprrHfkNtrkhPB2+ymL2JJ54Mv1TVyvvCDD/O7Pdh6ZY7M2+9xYzj2bd/S6KyN3o3A0M3kvf11yHGelJL7c3dIKd+yWkUOr1yGgNUvocI5na+1doKNCW2LDq3oZrMzclrtd03+xne1kbzv/zDDO6wp6q7hriua1X5gWrjNMubmGtd6edujupRVKvt/ihiWe1LSoQZ1yZEaqOarlMPotq6gtmxdrv8ntXbfL1k64FuQNv3ZvZqu3iTKaGi3KaWWzG/6v7QXDBnnM13K+uechZ2p5aKDTa6Tqwj+cEdFhid78VXcKpz3sKhKX+s+dMxdcnp637vLIk+s+Ufdkfw8ZzxAXjf79aqNcrtlZo/udoPFj3lnGpDzBHSx9JxMT8SJUKq8VSn/UYldaCDgsfB2wMZgTWJVMJ5EHki+CIqPLx1iluH3FSn5fo1X7hFK78lkvaNOjW8XmMsJMZc+ENWPcuFT4JUy1MGUUg+HT/2gWQhreh1PBu50Ne1g5+qUQc64CHp0yRKTnnSU1tAqXEzHWKQgiRmxDZNbM+DbFLloohnVB4fB4B6R8QQlHTmTbCY+otjeFr3m7OxxK1JhCh0ntgG8UWhyrN8ebdQknmINR/Z6yND7yCHsfZF8Ez8ezKMquf9aLmQnJNpdGCjBukGxcetKVJap9MG0U0+S+OOmUucWOco/8FAf9RUsi0lJnBIuZ6fL1xQKixJX5u5DmUjTLWBqwaknzmfno2K62zXB5vjyJ6OblP+St71cmEaKkFHnJNdYxmSWZ5qAWhk08KlMzAFRO8SCYth+ycSta1KHryGRKEj5RX6m8JDFnZf8a9fUSnDOJp33eaUGiQSl0o8ykPmXJTynxMI/R/OVDy3lOFq4rg22kIwNR+UyUwXGeb2tKMc14teJB8km+shzWjpVSdVqSmnMSaYUKWbQSWrNYTZTi8DoIUJ5i9CYz9VX3/nnTmBo1Xjv9H0ki+hQGEg2DCavYD19HuI3gMphVyt1WnFozqIJon77DZDXF2LywpauoJSHnMk9qMUDWKZi9e9nFGuq/u7lvnl65a6fq6UyEUdKLF4GqfvxJUbuO9ad/4tnKDJrDSVZQm6M71R2XV7iR+ih3QRMd3lDqyJRltYJ81eAnByrZP1Z2ojfD7AIRCBRPYlGSZ6WnBAnKNrT/wTWSuAWsT73X08RetqWwdewxpVrGrnmUtRRFK0nF6Lje0sSKnTPTyF6qstVGd5yTLWJuzai5ZG3XJ9D1LD7bSl2nDfe8E6qhbrmbQO9uVqL+82tUadde8X4MploMr7Miqt9W6lW+X63eMg02x2lx7Z489S5OETuSqtrUmeQkGMeQtl/sctO8p9tXPueXz/FZtK6YBCutGAhSHprKORpWaFeYik36DhidMoPjhasT3hiiTo8yYXHGvidYGJOSoXGq3bw6dGMj8ri4pA0MZAn7qAIdCcBl66pYyXgYF9cyyUwj3iv/62SECYuvT52yTg0zLZqO1Z7c61kAcdgzrtpz/3xrUWtQyixUNRNPUIXLJ5vZGksJ3dCDs3zvSCDHJu0yeIlVtaSCzfjZzGL3zE4htOHmdmgP7nidMmwyVx0NaUEvtYL7iyqezznjF2OYpU7qaIa7N2TUzhnULRZ1TdkrMM2ZzodyhfWDbRkvTw8aVskk6KjHPC9wBS7G1f0yrKejPCa/Om7xTeZBR4xdY2tX2RgOLYSPPVZfBzbXvnR2UXdFp9py25kvfi1lkZ1Od+L422vVNdByGuupvTXew25VQgebXUPBr3a3lYkV/fzdeeeRneUerWjj/T1mj9Zqpwx4NvtN8Bc1VH3kPF5FaYm/Q7KFi78z2rsxolnA8Tpy5f+xbF/HuGvZGjPTZMT1hjeE3NjNUVy8mm3WlCfdK19bVhTGrbfjWmpodlmAuVwutklLs7Ap8eR+VJfGxd0Tjv756Ny09WrREzanYxq9US+hs4fuUKTa961ZP3e2e0tYK8sH2Nc16wBnJUr+WF3fWOzuURkt4AtBMpAo1HFAXdpAA7Zah+jjX5U+bL9+G/7rGf4tn6tO+FmyFWlIC3DL+Tfq/sb2bXbUNlC81fe1iyrN+UoOiUU+IsH/fLjoa+oYp07t00v9grNaPb9bL2/0Xpfhzv30H+9FQVZLcJF4J9k1dSlmo+IJyT55viWLPygvb/zSyEc4FaV3bmH35MbG56X/l/DaTZ/tE9LrpViaGf/6mYC/+k8eIxdxqr7zJ/f6ZXde+Ox9aHNytvcUpW5cB24WNmWApk4ENl8ACFRxNXl6xkxt5VUF2GTbB21nZ334QXVxtn+yRn43tEJXpneSwlhPBxsamDVE1oE+NyfEh2QiuHKflX4T12BYATZBFWg/4mEW0k8hJmXOkkSlVxOeFj3Rw1M4CC2qtSkmdlHK9zf/1FmtNXIv5DUn2H67N4XoZz3952PwVXBB5j7hJnGxI4OoFhQHloXKtTJjmELs5yVXZTfBZINk2B6phob4N4d1CHSgUjr1NXOpZiolJ1PMl33+pjGIxUpOE17it4a6R0b2/yeIpNZ8j/dF5LFoQgZ/IcSITkZ/W+RqeZVHGKcl8raGJNdYlhd8echmymZpQhiHE+VawSZxydNSQRNX7qKKhciKz9VvZyhMnVg/DgiDQQh7slhQR8d5ZsiLJtcpCAWCk/gqymYirvJeJDheZMeA0Lhtx4VFeZdA5KZdRQdBSqSLdJFz24RVLdWNTkhc4CiJSqd/cXON+cdSnbVnguR7XrhcWmRupMh0elgX9TeMjoWLnHaHKjZ+RgdLuMVHKgdPE6VoHFceJZd5mEZ10AOGkMeJpyiPNEJ44piRKJeIxzZjCMKQe0iFAJdOxXFv6wZYeMNRRQZztmSRLUkcf1WTDv/2bUk3czzHcu+YZ+/RaGGEKAoXiSXVjRvITdPniaQhlJ73PkVZgculWklpgD7ZkH2BSNVjWEByYthkIyT5NOPYQHdXYKhYjqJYcvSFQkcYcWHZMrY1VV9ilruxLIEHgbc4ik5kUdJoZwG0NxwJFXb5cHg5l3q5eDuoVGO2dCYDIEXIhvN4ZaQnR07maCWITNo3lQIJkDWIgtwHSrPHkhu1dSCJmRF3lFH5Fz+UKHakfmWCdqVlUvsWawf3jnzkelyxmgk1jSl3bpREOQ5nTy9GWJB1cqWBUD0HglolMxaHi/kGUXBHYwhogmIZf1K5nEnSnDjkQl/YKyJpgcd5Z8v/B0SsF5Hb2FhzlYedp1eZUYvj+ZwI2ZrI5p3MuIwuJGfh6X97F2p/RJGXGZLjCVPQEVb6iX1dWXs+qZIB+mjGM2m9aTAiqZal6YtBZ2pGR5TkWGUO6oeNJ4frVlUA540iipvtuJLmtn0SRkdkF4jv+R0piodpcZNp96LlF07IhVPXQqOBmVeCp5TKhyZYCUxBhJGDGB06iKN8d4WIl4Pd96CnuUTOaKThgzfkODZ0JV6ZCDd9hJFb+BhWqhFVOqVXOlwillQG6idotJ/3V2tM2DVvt1vFdpYDOpRqmoZcintvaowoZi4JRmV7pTF1B1AmBJ74t6MNOiI7mZjGeYF1/4akyhUmT+lxIaRuXwqVSiiDXUqdOuNwBPdbmBp8/eiBO/NPfMiDpgKIR7decrmBwjmqGVWqDnVrWuofbrZdq+qZreqYSJZIatOM43mkGZWr6DYwuwqqvVqdVLWXqzabfcqn9VZ4svU4y8aggMWbzQSjkJplltlAPQliv4eQd4emzTdSiReLXGl2UdepP6kqb+mkordQJqmQk0qtztqiuFah0lmKLimmH2moStNQEyaiWCmp+6GeAFqv7Oii4sktb8eieXlqBvksEKksC3tNDXujhgmxhIgrMpZFt9VqNseSQFmbGouwwpWvCFliIReNO9eE7OWv+TGoRqlAT8igOZZpslCpbeG4d3lqSAeJs7yXnO84TEjHpM0UdDDbIHmqbhlzkYTIqhbyn0DLqOuIb27JlMC4mVNLtYjWgyUolxxqXFv7f8Iqc2tan493k2OLhOPlmpkJh2krsmvLg9fqcnOrG+0kkQt4t6VhfEnLt88mW38LuIH7nXVKuGQGqFibj4iblVLYuO35uJB7GIM7ubkpuU8REAAAIfkEBQoAAQAsGAAcAMwA0gAACP8AAwgcSLCgwYMIEx4UIIAgQ4UQI0qcSLGixYsYM2pU+HBgx40gQ4ocSbJkwo8BGKI0uNKky5cwY25EqbLhSZsyc+rcqbMjAAAsa+L0OJSn0aNIK/oEWlBo0ZRPk0qdihTlz58CawalyrVrUqtXs6rc6rWs2aNYC6YNepVpy7Nw405cO5CuQwFtxcrdy7fp2AB21TI1mPZt38NetQIefDCwwMJREUvmChZhXqiPrzL8aXiy552VG4fFvJgzXgCdP6ue2LFla5stL0ek+3q1bYq1/eolTVA2RNqwI98eTrRt6N13724ejTA38ecLT5vuzdj10Jq+yaaGDj2wcZvAxWL/Z647OvfzdRlnnr44OdTxjnmXR89dsfv78psLp89f+VPr+OnX34CkpWbgUG1l55dTzhHIV4NkCZheguotyCByDu4VnkbspQWZZRRWt99u22U40oYZdcjUh6JRGKB5+ZkokmIN2mfhXJqdRliICpKoUnwygkRjcP7pV+J6qOkoGI/xvbZckF+NuGSSCvm21GUeuvXXckBC2ZOU1LEH4oYutmfmkD16mROD10WWpnVXapkZfnGqaRSbLyIpYZGlyWkmhnXaKVKXPopFqESKxZdlk39lmaegIEaU25NCNlrhnH0aCd6KIkIqaWS5fbdblweyt1SYjF12aoF/eXqThHGG/3opURydJiuquJLGoo2u1lqqlqtSyhqRrBrGZacJHdrre/tRmqiWytLKqnigSodspMtadOCOQZUoZnruGWYqsbVm++q51HUr5beYFirapFIeSaC4fg4bUpyiCrYji5DRpCSk9GL46b2bUhhbhapuSu1d0boKobRO8YmjnuAmG2K6Fjcs6MM+2sjrb5zS1SWPGI85q53++tpmhBaR2irIIou46rIp31Tzo7OdzCyOMfOpcX1Csczun1Ni7C2Vi8mL36L12gzmahHPl/RTipLHYpVIDz1wxQl/qvR58LJF3rG5AmqtoeS5R+Zox4JlGoAyhu2XlWdPeC1UCb+psLR55/+I6sdfH/axuvr1u3eg42LJqdxmt1vxvjoHvtfgN0ZnOKaII022meM2zjfCs6YpMNRPd/xyubg1Sy7nfhMlbIyZa2rb106eji6iqmPItL+vw6247MQx/jjRo9sLY86OSkvdeGbzuC3p7pZMfIzGs4x18qO/raS/zucOHe8FV/h68bcbH7O8uxKr4Ko/xwU+xQyLXzr1EM089cTT6pq2/o7LNX7+LBuPsVbGv/TcTD5R2xP9cFa+6VHmXxCrln+0hkD1pQppnqPW88jHQAX2jyoHjB5JtEctpi3sTHsTm94CQ6+rTSaEABxhkmpnwp2h8INoW6H8TMbByQytZpKrXeH/EqQ7tkmwYkCk2gwRtL/OIeaHBAxicAZYJrc1bWlNexgJ7bYjjpWFTTVb33+etjnyWVGKHrNguNw0GshQ8ChgJKAYrXcTuikwX0oJWgQd58Xf4Q2DXQHOwUimLWL9j46HrF8KHSi1HhptkVMRpBIJmUcfHco67bPfJceIP/tF6Vnw61OWgsVGlwywVl3j0P62NpWo1RBJozxcKU1yyjoacSOia6BZuoex71CRiMr7I9z45MUcZq1pZSKkK3XWPpjwkms5+qUdiwPI0Q2ph22TJaqYljBQWgyObToYtqIFpyP6sSKG+1i+zsm6MoXSkS95n75Eg8Pjuc6cbdQZtvA0/6XYQdOdmWqkVKq2xWbak3x6k1g7W/dORqrtln2SZ1IIusR6XmSYRbOnjbgJSAVtkmKxCuf8RpLN7C3xmp/LGe04WUFYApMscwwmmlonuZKUNEbaQ+mo9Hm/1GlHjkySUEzN9pp81ZQkN+0gs46aS27JdD+5PKBUlZgagxIMj8HUFFNX+c2nXi9yBMwgTqs5T3BKT4RdHGlGecZVkIpUqfISoiItilQm/hRrR23oV0cG0RPCM65TjBckY9LU4eF1frWEoQrHZqk3zq2tWaXfUvIqkcLSdXmIPaJiH0u3kA6rsBh9KGU/5bI0os6D5WFhFKHK2L+Fr3nAlJVj6WhTCP+qa7PY9J5q1/hVLKrIhcdKH5JW+iX80VaXkcVeDCspGHWSdbQCLW5lZ0XcBiq3mHNtru2gWNsH1kiJl8UdTPcXxizajq5RneUHoUuw7zrVqpENFJ20eU9s8RC5PYsuCFd3Wp/mzzucwtz8gGOwSYLVmraq1mzXxF/kou5W80ze1wicoEEeGHYJHiJ7MVJL6RVVRKW1bWpf+kfzWQ10WLsIVlt5RA8Hh8Iqc5lL42fi/J61rBRZ8UA1p1ZYnVd/klSugFN0xYB+GLh61OuOsctcysmXWUK+IUZc6FZjEvVllt2xJS+YK+HB86EE02CSp+vGCwJUqTxJn42NbEiWmjj/zEsdM/KgZWYSoxk0L6McasWq4iLjiHvye56FYwZfU+b5x3tuqSq//K42qVbQBiY0T1m8UYZSc4gTpK56uypUrlLZhimWT6FjksCIjpFRQda0fTkNozR9Ws9ItGtfevfWyGbGm9vUNL8qrMcWqnqPlfP1qGFCa4XSC9d2Q7WfCqzTtUrtYc3OdWJ63eA0Hoh9F4tzp9epazsDO9o4dmmWDY3SciqUcAvt5o/xdcwhJrRYDb4xkyZNyxZLWd47DKi0tTvOuwGaUQ+Od4uYtOH+YtGkTn0ogD1KVkyhqILv9jGj571g6YI5Yw1nXcJLDCO4dbjROz3u1s4sFd8x09K9/0TxpTvO0o+nNeT6Hbm3ia1bYFWbtSTfbSEvemjguVDSaoZsd891OQzvtYn5Zm4eN+vN44jST2W8k7Uk7fT71lCc4tX2QW29wOxufMgln3qdqz5wh/fVsOcq9aNc7t+v35sqAE3f0ZIpdJDBMLRZR7fegS1ywpJY7uvK9rhBHl83t71ye0cr16OkZNT5Rsdy/fCzyNnz5eYYkBv84mt3rm9T/xReBa27X/O3Vdx2XboUfiXuvGx0G2Jbxl5PKcfnm/j98rFugy+34U0H8/SyUvb/uzuidwL7TFcP3ufO+x81dmSZMVGe7Rv2dA0OZXonUaKHj/rWol5p6NP7xjT3cf/FY49dwEKOyOkEI6PNOHySajbDleKtgwU6+C7HcUuZBZ5njibxcN8zlkeXS6AlYsfXd3DBfyzndiW0ODiXbfeFSt8Xc6dXVxumSVzFbuwHdlV1N4/kWRPYX0w2I+3nX5K2bWd3cdj1cB0YPiEIggJnaHyWdoNVdJvzPGUGFpO1aY6TSiElQCJWcJxnevIHYCdUgzWHNji4KQGDYzzIgkJhGjoXJb5EgP7layEYcSgUfJu3OYWFZCoDTlMIX31EU4EHcLGmhW6lOIfihU4TSa0zanLVeJaTbZRCchvnTSrIhM4HF9wGZ5XGfGJXZjMGMj4TYItHNJIkF58mbn4WHcz/w2Fb+GIk5kWAdW3VMnkReCKNqExk9ISZ+DlBN01sp3+OeImN9YkzUTe5xlGAeGxUmHyrxnPok3GAM1gyoX1Px4oRSDlQyFOwBn6pM4sDZHLTtm/s5kSYVWWHaGyqs4S3dmooh3gSyHjJtmwhokXHxIZeE1aluGpQpGOw+IE5kYdmiGCrViJMVzdnpEZsJn9iNlw9No4cyEjCd46CtXbqyEROdHWr5R8eqIje1oKKNG+LNXqFeHAjNohzBnN8QXICCYGURE1Fh24Pp3McxVYM2RepFD+VqEcXSWZ192Ei5EkOVY3oBoQhsZHU1JF4OHMD91Ec517Ts4YBiX/+04m9/6iA5RFHkKN6iAR/Aih63YgYgJWT/vd5FzIlPilQy/Fk5weJKCl18FJqMDmLCxcy82gyahiSrBWVt2iTcUZ2dwWSTzlNc7aVMAkiXhlPqhhBZZZK5Rh7jwdMOjdokGWDqLhfMeUsYpeRd2ZF+1aXkXaXR3gbZhlBOXh7L6dfQZk4ofNryTiTeblLrbWTlmI/B4N3cmhUVBiXz/hB0keZ17U9pKmSioc2bqd20uiOcwiPsehD+URjMZmPYyk2qSlnq8l3rel59PQZwXWCEVaZp7l8nmZ9u7eMopZ04jhtnBhqh0mJfdmbv5eBcqmca0lzdohxj5RWzTaRJUl7GUWSmP8omJLxm+h0YiYVNaFRacdnYX5pQw75ghqSb9+CiwFnMlG5TGs2Z2L5RPSJeW25fWw0fkt3isCIn7I2O5d5nAE0gsCIlgDqR87IlAY2HM+imc/moGhHMQUWPxKmg4X3lNwBjvPET9l5Y1x4jfgXYiVBoqrhomfokS6JorinoiLZhjJEoJPTlsfogEqJdOGVM+/4dK8ZShcaj2bBfeFDkC8JpN85fVqXnRRViNfJYD+pZN0JUVmGSbyWciWofL9IlMfplPWVnLtGeYv1Laq3pbWmoAcqndm1ngYKahnKbAHKRZz3HP1ZpAkYo271cb8JH4+ZSUi6o5/JakoXa6i5daj/dZioVaUPdKh8Op1Slkjm52zoyKD9kanfNZcnVHzzh5cZAam2p0idip7weWHUx0AkWYAZYokLSITJxZXrR39dmpBPCjRfWH2yalJVGY92SYy5Sh+meXlaaYhiBKNstUWDGKboUazG9aNmp1rKCpLMSqR0ijIDVmfHCk+gukZD8jqhCTbbWjbSOoHfipj4J66TOS/41Kuzyoy651RH06N5GCS1xHB0lIj3xHqLyG+5KJzmAmSbeIGHxpfY+Ey1F4UDu1P/qjfgQ4ODSaLOZYBQErECq5CclU/RQncfmivClS0YS44uaZ6dd3QcikyxaXnm8l0V23o15KgL5W5/14gt4rs6qvlqe7OVL7KUxuSpyzmwGzguj8iIUziMSkJRPtuwsQc5tcOu86aaC1hPHtuuDeueOIaA4PmzhuilGce0TXuyRKO1XiWRK+u1pMofoJpf3IWnibaVggq2fdZfbPtc+qiqGRWGQim3eYqIAjue0fR8Ttgg48q3RWSu3menkTmFh2u4RMZPXot+HQV19larjvuMOYuVkiun1Hlnl8uYeLuBu2qbG/q5ffumpseiuxmkpjssozh7cNq6N/m6icS6shsXvwWcw3m7DZmNusuyvCs4kRi8DhIoaUu8LIa82vocAQEAIfkEBQoAAQAsGAAcAM4A1AAACP8AAwgcSLCgwYMIEw4UIIAgQ4YKI0qcSLGixYsYM2rcqBDiwoccQ4ocSbKkyYwMAahcqVIgS5UeT8qcSbPmyZQvWwbIGdOmz59AgwbwmDOny5U9hSpdytQi0aIsj8Js2LSqVas6DUa9mPSq168ksxbc6pQq2LNoNZLdCeCh2YFi3a5NS7duwrVTu8Z9ONeu37o4xRrUi/St4L+IzwYG0PGt1LaGGSee/NNt461TKWv+aznh4qNdN4u22jU02749n8qFTLDv6NcRSzuG+3LwW9V8WdM+DLs3V6qmHwv/SLj1St/IfwsMflry2s7GjfNOjpx5apC0Hx8mDJ269+WzHd7/xn5Uu2TxWiEz/665c3G2hKeDxyifPWL3s3VmHnvcc/iI9dmHGEsedSebbRJ1h9B+ja0n4E8EAkfeULMdGNuEC+rW4H8PynTdcB9+hKB/CbqV23YTBtghSSFuFeJ8BVnHIXEmopbieSvO9Bl/5r1IoW0OUoQTejyKmKNJO0bXHIM/GilekBMN6WR2Ux4ZVm1L9hchQlISaRqUw+kEppUcGZWlfoVxKQCKMI5IEWaSjUlmWRJBtZeaCh22JZXpQTUik3NW5KCdOH45o55p8smfnzFSBWigF+LJlnm2qUika1FKOFybzUEq6H9PUdqopUZiWiKMz0VGqqdKppchaBga/xkfjuVRaOB/NsLKakXT9eqceqBquiitk9o6oWm5wjfjrqj2B95qol4Hpa8gjtfsdHJC+tRe0GbJqYJ3EVuri9Y2iWm2ZCKbKJG1Povdo67S2CqAv7op67I5qvtoT9y+q2G4T0b2Zr2Njogue76qiCaTph50sL3S6baqlQmLW+Sem2bKIq6JTrxilwfZuC2Wj8nYGJDl2kuuu7uC3CexnTFa8owmN+oju502Ce6RMRPc7M45lwnsfmPyW6ijHR/Ns7/tmgtshh6HPLRuRQtcatI427cYXv0VGOu3ElYt3p0F03Zz0E1m/N3WzubstaFefk3iR2TjzOSsdre99ppYiv+1ssMV4huwvbeimKqYKe9W1MNosd303xCnnamFLNMNM997IZ71mesm19d+f3vd47HC1lcz1DiyeVHDon0ucdfCjpxXuaHOLSnq83I6cNR+Uet06Faj7LeW/55srHmzvyp53qwn5rvscQrbdMDDownl20jzJLfmgEfMO1ggV2/x4CjlpzeNopdNX9shGv39VeGnfj7KGuENOH6R7670vRFXl738iKtdnv5lIsGNpIBAQ5RsGAeY//XveMUaoLTk5iEEqis9CzTgfcy3pxaNj0rQc5eDkoQ2Q/kOYxD038uIVi6FRS9aJioR1+o2KostjIAUpAy2MDc/ncltVmZaYfT/SNg0oxmtTj6LlPMs5rjupVB9igvisALIw3hximEfHFcWq2QX8eXOaWfDHa/O57rKuUxxWoRcDRkIFC8q6meJG+DEXIcoM/JNjDfkXqWK9xdC1Qo/UYPTF+OVPspNsShILFECt6gUPxYLkIwc1uO2yL30bQ55JAPYhRbZu0wKSUKqU5MHRZg4E/ZQbVID21R2WBcpfhI8obxfC4dIuktSqGHN0+MtIcNK0lQRirpTDgRvZUtYJoqIu0ykLIM5QTR9BZmGxAj2Kge2yxzzl2OjJBOxY8huva8kyMxfDcXpvg+aso7Gws0FlxfBcLFQMdi0nX9iyTxzBquM6UQaJ9np/8J30mV4kmIOqULYTnHecHOpKoslJXnIqwDUiQKNJEFNx7GM2S+YG8Io2kQFv9z80V+ksh4340k+hBKPXAUsKb2seLV6wssn3qQlKpWXvF3uMJo5M5MFVTpAljbLpXy0idg4p0aNrgZo9PPWp3qKPh7iMqhvBMpQCaVLo+YGqTb738QiGjC21eel01vKBMPasw569Ca1LKh/RlZNZU3yip1rq1LGqtayXvOMIiGmWkXpQMnh5q2SQ6FchYI9Ac7zJUMtpg9hhFPuVdWmfJzhr2rGxlfmM6x7FKwSFVtI6XHRsS+s4aMkq6u5VVaeTD1t+wwIN2BGkY84gaRJlfTVSP9ubGAalSbtWBssgyI2cDUF2Xu0yNSqAHF/p7Lc7cqGqErGTqvEUiP+AhtaGV4uKMdVLM7wys6fMrSz1yIj7Mi30MeqiZ5oFZULl4tBDV7toFMqZ2p/eEcQRiaDH60MdDFbJHGWlk45ZV/inkrNcdrXOPh9pHuvBF/CLZi6A63vJylrPtyutaJggVMvcyvP5hlToTTzLH99mlXlPRNpo/swF9nrNt5a6MUidu18ESxhyC4UuyjOktdoaLwHXi9WN15sd1esSSPWeDFBbuT5ZONhNJbQahG2bnL9O2S9nlYkycrmHE+K3GJF+UIqai2LC5xksQbOwf1ypJKGm8rykXb/l0y25x61S9gzQ1G4J0JkkdhM4k++ObbAlbOBOWxcDgJroavR8K+kG8M75xB12jNezwZ7ZR0ZOqV+zTN8dToecNHVIoSicO18VGmb5HGycVTrQ5mZakK7M5L45EiZq3Lq//IzuvLbXBiHjMSQijevMS60zDa7usuN0LOzw7Ruw5TJ5pUanE49pYwngqJjw9WCB2OrUmc67Y5quztSrC16R2w2fH0vu14WMJ0L/e0bcU2O122zBM1tW9eaqcGZ7iSjQKtm0R6Nq7cGdb2N6UZXjsaR/LbTeQUMcD6v9DdvNnjr+nY5TPVrZjQurpAjR8MzCjLAfF2fkj+uZRv++39G/9Z4mdl8neYSjOQlLraSX1Zyllq5lKl2OLdxGi83xnnXQXF5zfv7RETjnOMm3zCRaQvA6loO6EJxZouTBd7fcJelH19kTdcXSzEvRerkovpzdXt1omd9e4U5WJar/OAKxk1KK390ViPcbzh6b9HbzK8TQ97tmqwW7sF+oiJrbM1h2/21O8+x15O67vQSG8BCc+7dhSfTdN+w5Z0zrEVJWucpCzPyoS1ntes76QDfjYejZCjBB+733i71wgvHJM33/jtPKlWvJl37iceM2pjPmXOzd7DsG1p0O0++7zieN/XsaVgU7mnfH6ytwIHH9bg2JaLNZH6OMa446EndxPKmNv+WZv1qsF6/r3xnMXybCNdI77XvNTV87S3ceJpoO/20T2P0pCh6rD2eP3aVLE02bljhdFCnf+EWfW1jVtk0L+dEVQ9URJxna7RmgK12MQoXVRHYHEa3amxHVQsYgkPXXvqFQljVVXyzU8SXPuJjZCnXe5fCZYMEOM5nfUiCep3mYleFQELEWNvHgfd1I6fjRIo2g5n1L5pVQU32JyH4gpsnKaBDPKS0XSlIeO0UP8T1eku4EeGkMWiDRfJFZH8FcpcVX1WITiqWhVuFfm2kbrymer5HdMLXUjS4f1RzdAF3hRNoOcPzbGLkg/qDf0aYb3T4e4BGaTH2fZBVePLjh+L/FzXgQlGD6INlt2Zjl0xg5obQBFK2N3KsF4mCRm6UaIXKU3WVuIj3IjLQ9U3LxodOJ4qQJXFjtE5YFVObuIGl5XIwl3yuGExhFm1bSIJtVotntUpLpiq4pnnA9376dUTMKIe3FozKtWdW2HHI6IDx5IyYpD0nCG3O6GtIJ41paF9oSIgZkzluOEkgqGx1Bng8F4cwlE3TEnpyN31IuEV25V2nWEHuaHywt4LjYX6WWGBY1jm/2G4fxYrCVDvfpIzoaEdtFSFQZyHnFnhh6IgBlWMN+YMSSEWA+F5Ps3TspIyW5XVFJVX0pVGnB3hUyGp6d2+htV6mBWTIqDoY+Smt/6Uu2YeILqlg6hWT2iRpNHl8cXMWD+k0VhV3vMdt1WJYYchi7DgzeGaURwNaSWmRrveHUuOReoiLrhWVQDiVnBF4Kol3jDZvhZNE9Dd39RZR4mhmHLZOjAJ1yRaQail+fLWG8KaQpnZyVeN9PSSLPeZkICaQHZaO/+SX7hWAnbhtr+eVg2eYy5VQlKGNjilwYcVjMhdzkjklj8WXXmGZgvlw5cg4o0eBxPaZrLdBPYiXEIZrGieUlaOXXDhSr4FuyvSUGribBhM2HPl/IOZq8BSR+HhWq6d3anGHvGd0eNaPkrcZRgeL3XKcPrkR/kROnjWdxkJFz3mb2ck0mbZO6v9ogTzVYqtHmRuoneN4k/b3naOWg+DnczhnPzumZ77IcFYolt7Zk1QGmKPDXZJoYKO5Qyboj5MRZIvHXHrGjaT4jHHGUeFXcmfDnpaWkeqXa6+Jb02ZQzsidRlUny9lmawJUVmpKLoEk0JXhgsHdq9YhkhWoqA5Vyk5aIKnogEWd8aocaPpcfszhBuUoM0ZOOBGPDjKSwpIlHVoc2T5hgMSb75yf5qUUZ8nZKMnnvwjkpOhOk/KhuAniF74kVWKYUWJpWOpTFDYmLR4ibF5mMa0Wp63nw93pueCYVW3ppNph24KnNA5UjpXiDX6kVKqYrNjcBnUh+6GmO3BpxU2Nxf/R6KD14DKwn5cpJ1b55gUeoNURH49J22rd1HLRKNe+nvxOBr9qKkY+Iua1TCe1qDlKaq313ZoYV5uRnHtF1njB5/UpaTBiXw61KL1E23ICYStSVci2pU4aaDacoGZCZS25kFHOVuRamcHOCd0CZtI6VZmuHnoJVIwVn++wY7QMyaM5iNRaEjoFFNcGaOJAa7QJa7jJS+e+Trmaq3oWnnq2htSUoSYyHLBA4eDSUiLSmOXuq71pa8sSXTFypTw16IKVI8Cgnksyq2synYQsk3oyaQPa5cRi2pll6AyQaCIObANpIgZF3M/xl8EyIK3epIkayX5anIJdrLvl7Kls7Lv/8p0zIKKX0Rq3+ljfeWB2IhpAXqvexpr2XqltRpegKWkQitoRCsaHWp7qmpo52gnYDmO/0qYzBK1dBSKTiZZDGpKlhV8OZuh+3OW4YdVa0h+iON+Odt/MahLVqq2bWmbRRZtIkuwKHurVDhVx8gdsPq0yUGSr9q3i8mlNdqZfVa2vgVzGlpsmjmtjMe4MKhUD/WWT+hoZAerlEtsP6Z1dji2Qya4nSu5NuqzX1aWnYup5PmIFtt0UlqOqwttcmtAc+pGfCe7sxsSpZej9DKgtseOKOWwuzs5GmmkvdaYEDqFTna1xQtx9gmvcEVKL5W6GPu80EuoafVRRyWmnsu52Fj7u5xqskKan+DrreFbfnWLoMZJpqKbvqAXg60Yl+cLvwx2tp+orNdrvyiJPb5jp/zrF/gBoEEZwJ5jg5tUvwZcgIorvQtMqhP7wPkSwRLssgpcwXDaGwEBACH5BAUKAAEALBYAGgDQANYAAAj/AAMIHEiwoMGDCBMmFMCwocKHECNKnEixosWLGDNSbOhQo8ePIEOKHImRIQAADEmqXMmypcuIJlEKeEmzps2bFU+mHMhxJ0GfOIMKHZpT5s+eBoESXcr05s6TApVO5Ni0qlWVTwFEnXmR6tWvYDHqRMqT69GxAqGGXct24livW5MKQBtAbdu7eAtKRZjVq1q4eQNf3Xuwb8e/HQUrbkk4rlujDxsvnvxRsmSDdBVepszZ4km7erla5koXKMexmTurlvhZa2HRZl+nhWy6IWrIq3M/bN0asNTaR2dvRTzcte7jBXl/9h3bsfMAWYs7jom8+kDQrWeDFl5WIWjCgK2v/8b+Wbvx6+clf29edrP4tqfL7+YNEWh29Ai3v1ccXz9m+pHFdh93/+03mVTKsYYbegi6Npp70LFnoFPsJRhRarM1+JxcEEI4IVax2adcegKeNx1pI6ZInlzPefhhZSGWaOFz+u2UlYojElQjbMG9uBJ1EbYo4UIymohfkMmNSNiADA7pY0ZA2hjjRkXm52CFSg7JZIZOPnkRhkiy2F1d8v23Xo8cdmmef16OBCZ4U5LJJpPAvbbZjG2SJCWa8wG2431wapbYmILmCSWPhPY56J/yBUrkb2qGaahH8dU3V5mJFihph4jyxR6Qkx4KKpFbSqppnZZuGJpcbIZqZaEJqf/VqpwLeprmWa69+SlZrs4H66tkerdcpJDWJmutpkYYXq8HpUZnl4CSdeaqynYZ06w6Gokts85iql6j0pIo5rK4bkvgkczKpm60S+ZI7UcrIolqaD1F+qSj7GrpLp8axbtnpu3x6qqIlt7p7rY3ikttbfVmS6ORhhIcoMEWIozitD0yLDBx6A5sb6KjZTwovwD/OvGlfkHspYvzinmioy7D9HF8Kae7lYvm2SqpuWNemyuAtwZMss3VeoapyA5PBdt9eB6l8dCT1glmthZK7W2kcwLYtLyDQsizalZ/W3Wcz0KUNdNA99z1x19TJuXTSabIp4g7+nk0krNC+t+yOHf/9naMDcoNcpX0Lnp3dETGzKXeeYacZNIcJ63puT5zh3jNidP6t6rnHue45MGGrmGz562HtmOIIa5zb7D9O7lu83qdNtUAtlxWvIKrWi/MXE8YO9uzozc21KMei2exAs/dqXWuq2vlsSeaqbKgFcu39YNYX1ld84rH/XP03lvks/E/l4q92dqvfKmCeHI8OuPj/4y5ptMynqLE269/4b6iL2/5rsVB2/weFzrw9eh+JToQWeCWMNQZyXbkuxkACcgdHDHpLSgD3KXG1jemNGxTHWkg3h4YJ8iBi3GgIx+OskUzDQqOXGypU4OAtDWkOY9W0EsW+8qnrdKlz1h341xY/2SIJRoGz4Yxq54Q0RdBCvZPSKVa4lemVkAdVrFtOoPh/5IIrnFlcFQnKhUVr0JFjDkRi+rS4hPfRSvdLU0mYOSaGJEFFhjazXwomhcaJQLD092ORJtTG+1ydhc7Gg6PXOLTHmXWrhxKR2hFE6TweBiYWdElin8UlFc2qb/A+ZBKCuKkFK/3MZxYEjKYfKSnOCmlyE0SdKnanyituCYSwmdkgzMZ3VTGujjWsnNs3BsuX3cuP3YwKIaEmpAGSToMns1606MlmdQITPLk8JguGQ1i8lZC77VvWMBMGu9Kor9wZjJCrpRiNq3VyXLesJH8Y505t3hDcsbLU9tMnzKHEv9IQqKvmJ+U5j2T1bytIRKSElSezurYOsL984oB/Rbo4Fck/Rw0oQgF4UKX0ryYYK5uw5xkKiepuqIoJ2Vsclw/JenB5Xn0MN8rnNiO6L2SUgSBIuyeDfnmP44OaZfdeik+D/fGkyZQmg6co8XgZkCNluwlvDMqCzM41B0FkDcS20zCLBrEwjktTr/bJ022Jc9ISo+bB9SnSLtqMjSm85x8LGVLyApOs3ozmlZTVe6UBsv9CdGXmWMK2qJlslPJdZTuqpRAwXVBaBYWYKMzJTQJG1jSqbOed01dO4WVT2vGdKMkiyxUL8ZD97lQZYYsmxVVaMuOVc6J9BzJLmkiwuH/gRCwqb2aEFnLxXL10LAgYiZeqFnFpjY2aw6knU13tiA/CteKHTXccEPa14JiCpMc8+xyRTTb4rbxqdHF30scidSnWqyv1cXSLyHb0K3G87OQjGo03QRfTgGrrdG0KgGPN8EPWjCgIP3rUXGi1QH3DrPEm2BaebuwEJJWk+y04VsJTCwDc++pAu5ebYMXyJzaKcKSnHBNiItRw8QStK/RL2spW1aNGOzCLeXUv8aI4fLGEXErHCGN44o+GH+lb7Z7KDPt99tgklS6mL2N6ebbMaIAuZsKkp4bq9la6dkNxUomEc8WSd+VAlOiAWtXIpNc1xNblnR5jeSSzSiU0uBS/7/3rZaYp/lTLO24xllL8wBfe9mxovbBoRlpX89LrRZ7ZFq9fLOKcNXnmqQU0L6NMmwxmzBsOrHSycNh2qJ0WKtgl60ZHWxiK0rHGjd1uVJusHks3eauCtquorZtLT+XuTRztrWY5g+0dBurHjp3TKT8oF5x3VNVAmyggZnpPrn666QSVdjJ0q+Pb6zeJv+YnUDc7ZWWFWwD086V2mQyj48E7cFgO0Yi1qwnA2zt9QYZrpQ6armtAk8IozB0qpWgi2ooMxGLr9MtfR5eMy2xfMtZrvy2lL8rwmoK9Th7FQQkiqxkX+j2pG2AhVXDKfzwh5J3gFMdN5wUG1c0+hgsPP87eTMHrnFIs5TOLzX4y7LnYZ0GJeXF7jVaa+1y48IxgzLn2ot7bmShkPjlV8WkJ7XNSTcLic+Fu82VV87lEVM3jbvaK8koK8xW0saltulqCzGIXk1X8udiQq6OsSqw7t5739teoIIJCuU1GvPqKiF7oXmZPpyubchzh7u+HRyzt1d7wxjl+Jk/PWNQf/uHiFL5egtW50ePO+FWBxbjEfVqd0f+80x0fEYZjeB10ZTCdCVfvWWqwVHFXPTVcysqZ9+fgMa50SHJ+Cs1py+Qasz1QIe91kQvzDE787r5rfLN/wzQh4J8hMksr1jRiSzEwxuxuF+J5SHqfJimHe1YB2X/gHRFyCXbPLZL4frKlX3bnt7ZxX8PkHJzvtGNH7qLOi81IRlYRIAr7d2KVFcsU3cMVUuGBnhZBGKPtUPidWv/MktBY3+yRVpStXIZJk0FJhZl5l0C94CE92HZB39Bs0PDJnJ4R2l1Z2KTRiUFNk56sitw91Y4l3h8xUZEJlr/1oJ11mpT9keqpX69JTPOFnLhE37yN2lERIOS1YNJpzBAyEYzuHZE+FxIVFlfBlYNZRMUZWaDRzkV9mo0ZlsV2IDcV3QHtkr+N25ViGL+pTDUI3wzlV1s9zCvA2eq9ihpyHAlgmo2mIVliGIGyGtlR14YtR6/x3lueIYc+CN7OHFH/zhzzWeFaxV0asduhth6iKhQzKWF7eVtpSeBI7Rqjqh3OOZq4FdSluaCLPE3ZGhzoFiKlyQ/H9hEXZeJpvaIZsgSvzaA2XdMzDFPZmeEX8WLigiI2udYt7iGuMiCZJN8StdT89ZylwWKb/hWx7RwR4d98/EsWeWJVUdMo/WE16hWIyiEvRZ6lyhO3ihuj0EUFZiAtzZm4IiGUERJyVhjR4dHXOWOc8hz8Uhnt4eH9ehP0oePJ0iQxgaMLsFBoJc53QaL/GNs7kVo8MKOaUKNJnVCDbk6HBYugcgoC3Z69yhkepiNjNh5RqZ1ruVy+WJou0SMTZhjTXWFGKlwxJeSEf+5kgTZkhv4knIFRP9VP9X2VQFngY9xiajoiP8mcNPoh1Ana6b3jS/IlEcpcUmpkJK4fxVWYhvkQ08YktOFkOSmgCBYlhH4gTc1e6YlLPSYJDUJEjU3lgs4enTJlZKHZoCmco82Q3koWYRWce+2O930Ut2lWShZilNYjHfxand5anUGbUB0RzFVe5cHX6nRmE0RP8rDbl2Ik2GkfNwGapYmlWuhmYPDmQfXPaZlh6G5cxq4H0bEhU6VZxszmWQZiEzFXJ/mbKRJIYSIgmlFcbWJfqqZJUSZKPwmhyi5FiMlmeqng815gmPIknznL0NJGdEJVPjXlFBXjgLndN9lTo3/VYLjETyfFnSSdpxG84+uBJXadZBTZJ6miJ5+5VVf4oy2+Xh0eGRvuYpdyWxxR5xZaZ/nd4dsCZA6uXd2eEsGpZECaozqmYsGeo4I6oXft6CF1JWkB56yyYQ3xG9PFpfLZI4MejXHgpkuSGsg2mkoxXz32J/H6Fkfd3gUSI7UV1KMiYVcZIeeNY95cVzISJ7u5UaxSIXvBI0OhZxeWWQKpFTgF5Bi6XMoSVdWU1bwtHDJpqE1dXXPBI9rlZ69VqUC2HvbqRtqp23c1DekNH2DxmS+p5SdcaarJZrwqZ99mJY+ml7Pp2v/tTj9hW5j2pZ2GoTFsW42inm9aXT/eTBP//pyPjNtivaME0VVdzVsI5Wo6bdo1WJy7fSLihl7dEqVxAijrfZCYfdv6qaj0TZ80SmqP0l/i7F0dLd1FtlgRGanHzRnzOFhpJp5RWh4eXqEPAVQ+eJjmnWc9Ak2o8hkSXinawQrmOo4tFiQuhZxZnZheraVi0hO0GqPIRinbGc7QlWVAPp07sSHr+N1/PUkRiWulLpD5dp+iMaOQrlXvVoVIrqM8fWYIAZuXSleWBqe6hOl+sqVgmp69dgt6hh66cJmkhh9I6qCBluh1Pqs3JKIjwWxTiWxkcSxglexbQJBfYd84klCJumv80d535o/tDqERyKnnSlperSBbXmvQ/+EpDvqa+woO170MAuHbAM7q1B4N4cJPD2rmzaaQrUqHqPaiOlVkVKEgyQaNa/6MGTYcNh4nWroMSqLtFclmF56kfEXrAGYLjros1eSaNE3cm2nL1uLqUw7M8sDtCsrsCYUSn0ZtLEEsC5qNJVIr/pHNFM7sdvVthx5nkkruBN4lsnFegk2eb+at4r7hmxYtSN5YBgnucyCW3N3rZaLrqU3uYPrrAdLtgr6cwEruuJXf+d2oJV5fHWrukcaXfs5k4uVY/kqu0u5r1UolAXap1Kou4vbJP9DbXi7eg6oubLLXY5Icveod6mWvMLLraH7pUqqYqEqSTYbsju4jYJot8FPy7q2O72HopXAIrVzSb6Kar5nhr4Dqr6Zmo4YeK7KC7+OdjUqB3z2Kxi5qmi8s737KyoOxpfiG8Cc4bAdasCCgcAFq8DVCrIODDuwihcBAQAh+QQFCgABACwWABgA0gDaAAAI/wADCBxIsKDBgwgTJhTAUIDChxAjSpxIsaLFixgzYmzoUKPHjyBDihxJMgCAkygZllzJsqXLlwdRpuwIs6bNmzgVypRJUGXOn0CDgtyJsidNoUiT5uSI0CdRnwJPKp1KtSXTg053QjUJoKrXryGlcjXatCPDp0fBql0bs+vYgVvJBjirNS3bu2t5XryqF69ftX0r8i36t7BXjnHfDhYbdabhx0kR2xW72G3jk4kha87IuCDdzgYTXzVI2e7m0xVBwxUQOLTd0QVLo54tMmvgrZ1VN6bNm6RtwgJxW35Lenjv4w91J1RO9LJx4sijI1Q+/blzsa2hS98+t2FZ1yUzc/+fDVuu+dqmx6NmDmCreLl0g782m/69erDs3aeHz9qtaPrf3cfWZ8BN5BNd+mW3m4Dk9afgQwf2l2CBBFHH4F8EShTfQt7FZl139unUXkd6hXihRhlGtGFZiSlX3kSYkUiYiSda9FuMAULUmXBXrdidfBruV+NIN46YY3LD8dihjxEGOeRPMplYIoA/tlWhf0K6eJRwT7YUpZDOAVmleLlhKeKRXHa511GyQUhlm2leeaWWzjVZpZroyXknh2LCyeZzZdLJFY5jgomnYDLelmWSiLFIH1HYmbnalNXN+eGhWCVaoH07NppphJC61aZ8lFo50IOYFueSfv+p6mGMrFL/GeapFKbqKkuxgudhcbBuueSfgV5qq4f/obpcrTruNCt/jcWp3Z7D0losskhaWJ1e2dlJ6ILcrhato2JeZyStENnJ6XNZhTvocKqFqm60PQLrGLluinmurqOuq6elpXaZYrctUgubZDRCu5p+vELap6jCnvgvdAFrGeuLRxqF8KsKVxlptMa+65mhHl/bMFewEdqcvrR2imfHBp+nUMEs93plkcuiHLKAv5VrqLMXu5ypRJEGXau1F+Zc79EA+6rryyC/ha2yu6bq7lAjEiieZERqKjRFBR839Ue9fulo1ypqzTDRPt93crofJyv0ufl6bB+ZQ0Mt9oVry7j0sW8v/xq3wXOnl93JdzP4YGDbtm1zRIqqe7Xee/4mXKho93Z4gYnLxbKlzHr7s2JKrzs55Sfm+zCpI6e95t4UfR31rGQ/ZrqD6PbHddM6sw5jxreiHLthX254esuK36y76jePLm7eBEuI+1/B295dtjuHnjuf2O/9NOVYNp85bZEOHPr3+NYu8+uet85oyQyLW9b5p4XfoeMymsi2UfDTi/yxFs/v9NkCc97vqMI94ykuYJyDmKyO1qsBpq8ts6vT85RSQOLpCoEpa5/nCpYVrGUEbpJaGPnYcjJ7+SpwiUPLf5oXMHM1zU4GVBnGRogfqJmwf0xLYV1WyMLiuNBJkVuUz//QUphOtbB67PsbBycTQuJ9L3D7+tQEp2JEJtrPU7CbDxD11DNiaTF7z8LhZq44xCZy0XqrWxy4CrUwCRKIaDAcUPXKeLMIflBTOvuhxgDIkRJiz4Fe+VvvzsS/1KSOeCAMVrfKZ8C7CBJ9hKyUIbdYPAhijjAWYhsgfcNE3cnQj2Sz2gsXeDwvfmRaFVtKJyuZNPc9UGeFOxoUkbRJuUmvlEghoilNJUmmzaw+9MGgGF0jw9udB3GHhFJdfCg4YcHxT4+TjzAPBsxiGgiNyCRgE/uFJGmiMZXT6uIzA/TGuinSkpWDSb64SUjxXc9nCMLmyKI5Pd5lMIEJS+dLkLn/sbIRrmpCotgGv0lNX4bRkPyUVD/3x5KELpJD/xSoNw3axWF+Tp8iOyfbVFPLNRGNUBFiny0pGceHUvKkGdzejGjHzpv4qDouFCngRtm5KBoTURnFJNTK+UibhNR/bvsQGddVmngGCYPCC11S8wg5b7ardjj5KdkeNFTmOe+oq1zqQHtaUAW+9Fkdvd0s++fHd4IIix4p6gnnWM/zRGxcZ2wpTCQ603Le1Jt0Vd9Eu0rRWwYxYUilXSOFQrMMVvRjcdQkMG101c8xtkzl62PdqFJYCe4vXpoz4yv9CVdWXhOyigvbZF9SUsSa7XrKmyQY4fkohSaTM+Zc3xRvGrjK//5RXhbJ5GIPKL37eSm2FsUVlS6W2mNiqW95Bcm9iDpPgnKvU4N77UaGq1TcVrI0yAXqSpZbVsca7LmMii5OOOorjO7pac7CqnmLdLmE7XVBT8OnBVdCXvxJ97w6TW/Zvnq9Cg7Sd/7bGnQaV5Ph5XO0qNyqa2N4yFYtzsFtJJmhoocUA88QwfORoVa5WjkHE9itkKOhYbVL2WA2NaXzImatZunbCzZWjFPS8G5dM5jkBuWnDw3V46jXV5MqmIdZlHEq8Vo/EhOWibrkWTVH27mhSgmgMTWyjxc21J+89W5Kfh+TBzrY0jITs2ddboBEPFiXPNWgZG1wM294W1vqNv+zTrXnXumpzf+ylr/ePaMB9WhfNO8xzt0FMy6PPOTPhbVamu1fjYV4z7May8tyLLSL1blSpnlQxBptyKNJCbzOonSkmxURV095WtWOer7K/B2dHzjVSlul1HoFnVkpSK24ApDSp/btmz2rusudery1pteGNpdWVxsUtOAMaDPZ8+ubxDJxFyvVqYNFVedC9dXU82AgUyxhEGdxQU/mVwDpyGv0ZButShnrfo2sWBqz9EPxtST9jMtYd/tF3UylpxI1bUOM+Zib4rwvkCO9u2bD+X/0PqurYqxTb/PyjpOOzPPkykANWlOtC19pvOf98OlG/N54rOS0svmx7tYM3CH/ppaALdXRic22wCF3uH1JPnOVYxi+Nj+56F4OYhv/doTa3uMIKT4r9ti7q75eaYreyuYqWjYnsVT0+LidQBD+u3a5UiOKAa3ZUvm2ModW36499syga4tdlzRzzvFLbLqRmSSbJrel0Xp2+ZpX7PDeZr/9zHKep3Fvh62y1lE+a2mt9auJ9avJVpzhvFt5xn8tt3GNjmondlYy9Q1imYzGWsrfGMnd8+uLntrPakNay4H/4i8FHWrTtliV7nW0bP8bb9NzOoeXV/1mG8jpKw6G1gIFurITimV2+0/w2N3UkkX27ajdHe4AhSnkVUzteQnUnUgD3YdLnncBY/D5pOb7/0wHC9JS/x6ioe/1uM58EdcdGPwQX+34K19+V55fy++1/Ouf7/4Lw78kKsVmaOJXNZcfa8VjXBZ5oWRi4lVPpXdfAKhTfuJneGZXbRErCMhmxPU8P9WAKbJQNfFJjOd2a0d9idZNbOR61eVAkKZSQvN/u5NZ5EWCnsd9BidsvUd3JuZxlveCAASD6rNR6dd6VkV42edjE8JQjSZzKUh2t4YyQLg7Qph/NDiEubZKgCd6TZOBCmhtRddwUAcox+VMErh3ZeMqAydpoSVnmeJfDviE+WcT7IdnX2hyRyhrpiV+Y8aGJghKgvVgUrZPQnV7b+h9f4KE1EVkvIcRIIhsQv+XX4fIXBsIbOS0ZAGIX4iogYixiO2nQd0igugVibokgKS1g/MXay9Ch22odDkIM1SndbPUYX84V6YIYTGocNx3O1NSWj4XdbCobFNmgxAIW2t0dB9neXs2i38nb9/FKBHGcaPnjCE4iI9DT4dlhFoGf1bXjJ1jTTiGPmFHjDhYbU7XevF0TkpojJCESEXmblF2jUABWhbGJMe3ZD7ChVjVS+bYjipoQtinTaSnfAxWM+HmWXRDe9Loc7llhrQWkEJWSNunj6CGkL3zjRFIbA3laQdVeDrHiMYmeRfIbzdoU1KkY37nkdN0V/5GNY/UapI1kvrDITylkT7VW1o4d6L/VoIDlSYAF4nuNnby13wWCRRJZU3qeGASWSg8+ZH6FWd6WG5eZ4ogJyLfiHHMBV1lCF4oJUpfOGhZFI6PR5WmaJWu84HgFWydNy8b13pVF4hr0ZQ750rvt0PyQnxo90wExmdhxoCaBZbb5ZMYY1vipkJ1eUkO5SZ5mYjU1IF9eZKlqF5op3PS1nX3ZYf5WE+BNYBTuW6gFV1t8jfmZZnrhjqZ6V1+WWGAyXxg9W43aGHPyFesZpMkeZpTAZcJRF5Ts4Bxt5q2qFUPRZurMn2NdpAbyVyRtDhRqJIcSXClRHEgiJSFVDPJeU3KaRi+F3P72HOeopWj2YQJGIw1FZOb/4mTv6iZi9kh3MlUpEiKsuiEp5GGw/krk4hojvhLByeWr/d6OakZ8PmVUumdOUWSzTJ1yXJ/nqNPGFmbbFVveJhs11lzQymX9GKAOTaMUbWgONWgeYaL5Ik65XdlYnh1+2ehVbFqT9VubcWWsvdfG2aF1HhiTVaP7wl5Jwo5oCKNjsJ+ffZnuCgxMJqA/wg9s8eMc1eaE3iHn0iZLvYl6wSJmlGOsVekWWWjhKh+eraONxojTSo//BlgZDiD1SWdw1iVgxgkR2pUgNiltvmL80lzGWqg6ZiiLrR4RokhNBWXnVihollKdJWEIkeI01mTQOSLQOOJKKZP1QiMk3Jt6/8pnnYKlNrZphkTURhKnCDGfx9ZGKq4amb3JpNqNzT5p0nppwsJk9t2mQwqmXyIiQdKOrFZbdDJG7LIgtY1mGUak+wlkIsqKOI2HjyUqw9ZjDjoRlW6oR66qq7ZG79qNonZocO6c6dnrIXIkG/oq78yl1H0PbwKOvpZKGrlYPi2S9HBessTmYZnZ6wKpwpGZMc4aG/XIO5ZV8q4p1qHoIx6nke3attRWvv2MPTagIWqO0E3Z8JpraJVp/5KrS95l+bqh1fXqLEHnCUqQMo4cgzro4eJcwRGedHafA6Tmt22ju6oqLsIsuV6pCMLnuqhX9raXH0acjI1lyjbj8XJIBb/iHi0E23NJW62yH7t5SYKiRw3S4BvqLNmNYoP5LM6OTaOOaP4aJxRY7SmQlcNOLOeRKIN8rTdZUccG4hVKynhGqiQ8TBZukynKImRqG86qaWhGqc2W7GtlWS6h7QtiZ3ZOiJvJ7EzeqUWknl8G6Ki2lVZ55Wpkibd+ptTWqFZKEaDC5Lf4l3MJixJ5Gp5+58Qe66PC0aR66x5M6CopV3R+q6Zizrq4oLdt1O7VXdJ25hlNrpyal12mJup66kJB65NKzUWB6p9C4b7A22JW3muyzi5e4mq6bchSW4dG7yIaU/1mYIXF32Oq0Ctq7zC6KaZ93XQBLoTlpC3Cy9Eu598iJN2UTtKFEa9d2Svu+um2Li8+WO+HoF5jteMYIquwkq47su0XRulsKmywRW998tb5VOnldi/gxa0/9uonAe83plctdW95stNsBq+T3nAzvaREayaakjBtOiZ3CuDr6jBCsrB4VkkegvC73utg2fCxwFmCarCXvPBLjwehBrD3GHANNwgJewSAQEAIfkEBQoAAQAsFAAWANQA3gAACP8AAwgcSLCgwYMIEyoMIEDAwocQI0qcSLGixYsYMz5sqLGjx48gQ4ocKZAjyZMoU6pcidAky5cwY8pc2LAhAAAzc+rcebKmgJs8gwod6nOiT5dDkypFWVTiUYdLo0rtiLQk1Js3kVZlCHWq168Kt5rECkBr14FbwapdexBogKxnkbolOJetXbBu4RKUi7Ng3buAo4o9SxeryaaBExMlzBUh2cM1FUsOinggWb0H007e/LKywMtlGVvlTBqkzb5WzRoEbdWt59KwK57eGxktY9ZcXdeOzdtpXNEFfcLVPLu38YiqadYcDrz48ePEf2JN/btlddvPszfOLF13coPft2v/Hx9c+kXhqBOStU6etHOK6B+u596eLWTH6WlvvL56en3F97WVH3bK6SfgX/95NdhECH7m32gEGhiddae9luBHC0rU4FsPiuchhBNyV+FuF2JYW4AMDujgY1ChmJBm+EFYYkhNuRjRhqAFCGOEEOk2I1P8FehXXxluVdeOEnYXmoE/UhVkWLcRyZiNHDIp5GmYydgkci0+6eF8fLF4ZHPAsVijkoU5qOWW+2mZ4YpSFiZmeiH2xxxk86lZ5YdsWrehlTf6xxygEL1nZIe0/dmnbYqu2aOgoYXH5Zh2qpibpYsKSGVFoDXKJ3WYMZcnV1QimSmHm1LUKaY80jaig+iN/1kqcKfa9hR4tKqXHm4sxnhgX7gNxpepWz71poa7XganZjhCCuaUJGZZ63ZYDkjsi2flZViQLs7nqZ6EZoonop/6liaH0iYXJrCsnhvutGMp62Gdv+Jq75cDjgrlYN/OGO+z7+6oL5/d5ksuhdD2qx2CAXobaa6idorre5Wu6mOhCbc7HsNdwgkrif3FKq+r5ulqsX/X8quxduqeiOalfiaLm5XXDuxpqsVed+azG7636r2O4ofgzR1Pq7Bllgp7VYfe5apny0EvNOieJR4NbnkTL11X0/LFSSDOujZl9aL00qz1yvCVLNtyS7Y6bcBkGjiwk2OD2nbUxhHNHtb0uf8NIcBIX30oiNDueC1sevcN9+Loeq0npUMSnjWUOR9ukeFRzoy0tCGDjHTKnrMcumm5Hqr5shA/jB/olm9W7buUE8i5qtveeyvV5VJs69J4l/a630L+fbdFvfJ9O+S49lzbxbxtTa5Zqf5MbbZ0Rlu78XHvftGoFgbmPMckRy19weFvPrzkipPqtMnVt26fkshHLrWUugeb+fmNx5512bmvb1e18XOXruxWMceZz3Ssik73jgU7zvDqeqjbm0K0dbrGiWx2hIoX0D5HojM1T17Fi2D6fCU9OT0sR6WD1tUcNTXq9G4pAfwVZv5lrSBR8GQHM9/RRtWs1qDMf2qJYQH/G/Y8G7ILhzmE0w6ZZindAA42fHFh32g4w6INLn/b4Z710rW8Iybxa1YE4lqiqL69UbFtOoqSx7LYocqEsIx7qqDtwsib7jGueC0s137AJjwTnsuNSVMh7gBjR+DRMF6VcZ8UTaVB8/3RehKUHdrGmELI6a5+EPRNIZV4QvqNzmxuUtsg74I5S4rSh5Vy3+0meJn4qI+ROvuN85ZCxA2msWuRBB+2ODUy5aAnkZ5bJb6EUku+oc9UyhNg79wnRxGxDZhKC0/dVEI+VPGOR/wz4SaHZD8TFg+WzEJbkcRIzaI9rm3xy+YBPynDH3rzeuAskzgFqUiRWA5zrITSG/vz/06iNTKPSQKlgP5HTnwOEFv7lB8n/XlNgIJRoPycTDyhptDyPEtsreygORHqTmPyaGg1PFo9RzLRWEY0eT/EqJlMqpwnuo2MyoSZuYKiRbklK3ZCDNylEkoyaDb0YeNKJhwbKDwMwqSmkoypTRvoxIzu6yjl09btfjdHBvaNpyo52d6adiiYYtGPadvgCuHIPIx4lYWTFIlWr+rJrlIPrHCdKaE41siRfrSGJ4XJ747HLtCB9HtNNGCgeNhG6kl1o08j58eI+TK+LhZjf5VZYF/Yzriu67FXZCb+ZkJVixYxryXk5k0xlsvRXtRLWlKUT4Vq10nlsLNo7WdgZ0na9P/R9rSMG2v5CDhFxWIEhevq12sOW9ffSLOjfdTkKT2a2tAkToovAa5hv7hbnU6trMAEa3JEyjb93VV3tmQnSZfLSd3yjWvzetlTe7LRbYaSsrQkb+O01aY9eZBR1B2qPdsrXmwiVqKCTJGsUre96p0nhTFrbh0DjKwB55N4Br4cgrlT1mnGFzLGyhggI8lLRTl4p5AyyoSr21xdxuRMGUbphkdIOw+3r0sPFLF3oXtXE8ukuJE0iy6h1yWVsms/gLthkL02t/Kc8WIOa61Zr0kvHeM1vRjuIn1b2lEhV5nI+fXxkA8rlQzf8LLMBV5549hXtmE1rlZ+7lcPChYvexH/zLmtLJk/BsDNivZcoS2tpywMpMIozWFFPrD9ittNj9JwjYiWH2zPK9icDKtwL2umoOWFUR+69L1YJGwPQYzTRhM0ro5SJVQrGtwsyzfRNK6zLo1KSVATzLfCFNx0A41fVtJVlhJjtJJp9MxRR63ScqWdrXvp3V2zMaK05myvs+tM83IYWcNOtn9NNNYbKshztH0wsjXWLIeqmFslk9T0cPkrY/P6is7W6bbJncr+vsq/2KXn+rpt5xMXLafiC+mTSSzhe5V1rKArMbGVUsxlyhOlYtXvgf3daBvHrtR8Tsk9ww1r1Mq0vuY+tsI5WtRAJmXi/67tr0+NPV4n1q9Y/xYqT8TtpEShkb/f/OmxlLZGHk+zOGeEL0lYrhEn3xK/VTznzCFdc+OSXJ8pR+5UMlTBiWfkl/fL97MNrmAdUtq3K2H6wJ2+5Hdr9+AspvowrX5pvf53jQ4b+VIfmr6f71GNA72zHh8FuIxjXJ7Wtm/2kou+8Pbdl3DPa9EzUmi7Y+zngKWopQceUP26iMc5Nvrfye1Twx8Y8ZJVPIhpnUbNQ77tkh83tB3v66XDuIg4J7CYNa7U3o65vjrHNI+tquzFZy3kAjQoSLnUceFaPPKhfI3lg+1qVJd87u98Z80YL1pANsutwO4y3mebQDrSnYlnFu2etwXnIUG/i9dOt//Q6i36KxbapfdluOBZ3z+EEfXG1xQw+d1u3asPXnvtH+WqI5zwVGOddFWHZ54kQlHFf3LHR2tGee4GdlwSTsM3RzE1ZT5Gc7gTTheDTPn1SLDkKw0oTw9YW1E2ZswmbgUTctWiZblGa7hXL/0DXrXmaGGUc6SHaY13fy53XThkfI80WJ6mPqp1dAAIRxbIfJPHdqCFP0hGfWWHVOM3Xh9IONGTa2aUPeHkZ3DXSAUUckzIguf2f7zkdRWlg4xGg2PHbka2RfiTYvjnXmnjSisBF0YVWfUVb1bSL8rjfGloLOXDhiLmhiyRYcCmeQg3bXJ3cmcjhmq2VQa4doq4gk7/CIiJVYMUZoAIpIGHmIDqtktCklNYyFaOuF9otoijNH4Fxz5gpTmShi3vFnD41zliyF6hOFdoE3Pit2aAhn0ZeIZBJ3Ib91jS9oY/Nl8vlnuXaIULdB1rVXyrN1yzWH2wJxNTpjkr1nGdc4w2lWeY2EDMGCgzFnZ/KGX7hnzCGGWINGFulXCFNDVnpX0G84k64WN+Nz8xh1EGdY5hlo6qU4Zy9nVtljoC0476hjo/KIKps4W8tSp+OGah9YRhFTaq52rFMSedVnbJ91LdJYwRU0ALJYpCMZD6NTDCRI++lXhGZHALaXG3lVY64ZF4uD+hx2psZkElOXeqRokMOGeC/xF6wCeTnRYe1ihJuxeTykh4vcSQz1hI25VJDOeTo5OUQcmBhQgS0uiFO0cmKthW8sVz6Ah2+Oht/caF3mhvMeNi1OGCWnmPXMlOK0VtYNl/O/F5CxeWmahkGLiB80NjaNeDK6eTX+mWxNhy82OXD8aMEkiVEjdirciLKOWOxweFiElvaZZ0v0gZiImXwTOJjCmJIaiJ5vVA5yeFbMFFYviPrphewpNZDEaGebmDjhSVgCGa2Th3IPV494aEjTZ0lXI1FUYukykVHFOYqwOELphgkJVW0kOHDUZ+vhmQehecRMNdvrdEMWaayWmUamWbplSE9Dd1j1KArDll6qeKQP/oFbODVNtZfutTTx9GW//kcaO4OxFneqMJjtVIca/Ii5x3k4C5YPN5aN53kf4Zl/dZhUG4GfTWiDnYmtFHiHaTdxmUmmEGcL1mFwfqiQladJ1IhiJjfFZlUOsHda+JndyGZbkJn9wXf26TkTSpnw2pTjAkogpYbYV1guAXZirqoWHYonv3FUP4oAlnM8FYkQ8XeMI4R7SoceWpkm85fT5qo7wZpFZ3d0cIkqe3i+2JboExLn4pjwZIlpwpetfoSU1FpZEojp92cas3bHXIKh6pnZfoSnUWnghISQ63opqmMZvZNYU2lMADpKVpnSZSp6WEi3e3fHvamt1ofLN5djz/qiRct3jZll6slTEVVKlKFyoGZKWGCYPZF16oaJOTupgDZ6m7iWMcVIR5U5RmlklF9pPvV6dl6oAa9SNTWWfdx2+hNm/hyJqyepaJQY64ZoO7E4i/540TOKuIWi74Zqby+UrBikXRVKO+GqFkdaJrmlPLCqh9tmZxeplFl3eomWgZepfv2aTGEaCbh6dRJ1NLmHSM2J3lapGig5D9FXsHNabDg42vR3bBiJzz2ilsqGSF+Ub6WqTsGI0GpK1JgULNZY9seIEkp3mQSagpqqSJwbD44rD12pxoGo/ruJGWRaQJwlBQmYXzVJbg9mixiIm9GRskG3fjN5nAajYqm6wO/5qs5EGjcLOZRJSIFXiRvIezBmuF9aGzhuQymOezA8ZdrmapCkuZvqebNTSzo3eMUSuX9uoe48l+t4ayKWKZqKSYacqs/Emdb3dMSMuoBDs8OFpspZcgtNmBaMuz01ezYneUb3shecpiS/ta1IOuwkqBj2V7p7K3P/pirfq3xaigXgJIThafz4FJbUpmNlaP9umaQrt+fSK5zlh/lWuOl6uM0ga57VFcI8JsmutZasqvkYWlbyOny4asqetyq7uRrSuyr1tafKiPJato6qV3gKtTTysZj/ao8Zpu+GqJiKiXuZuY22SqSRK3mUi76Wq4zet+iamIubpIMzmIttpjm8SaM6zkh4TGka8WvXmbitfLnXQmSuUbZ7Knh+y4vvvFc7HmrU6ahLVIv31ocfebqBWrv8fLv6Lqp5oCbgTYYrhIurVSk6kLmx2nnr2kvgRsWydKb+Mka633eYtWwZe5Uhgsbxo8vf4VVBbrwfCWSRF5wRHGlAKKwmtzg2xbMiDcwgjclzAMYayYUB+bwx2pnECZh63nw4y1Nn92wkRsdkYMaQycxOUUSk3sxAQHc0gsxaRUrFbsO1icxbExvFz8juG7EwEBACH5BAUKAAEALBQAFgDWANwAAAj/AAMIHEiwoMGDCBMmFCBAocOHECNKnEixosWLGDMSZKixo8ePIEOKHCkQgEkAJFOqXMmyZcKTKF3KnEmzJkeHDGEKZHizps+fQCf2XChAZwCeDYMqXco0gNGcAG4OhQlzaNOrWEc+LRo16VSqJq1mHUv2ItidSQ1CNVkyZtm3cCeePZq24NqYbOPq3au27kavde/2Rcu38FixhOn+Nfo3seHHZRnb9TvwK+TLYyU3PmgZs2egYOcmRjywKuXPqEmGprqZdNuwp1PLviiVa97XMV0rLn1ytm+PtSVvVfj19u/jD3UjxW0cofGbzZFLH0wUOmuHz5NGn5669ubEpglu/8fulih3z94rB9Z+srPc8gh1n4d7Vz5v2I6d9qY7/rv++ZfVF5tB4e2GG1r9qScefAC+VRyD6cUXm1GaTUYgg/7Z12BID1Kn3IT7VehfW8Stt+FMBeYlFlJIZbdYiPv1ldeMGBp4X1cnrpRibpSxyJOL6lEY42Q0ksgZZQXmCNJdxoloIV32FfkfRSsiSZWGSkLEZHlOtsbTQ1ImKCF1CyaZZUZbIjgkeO1xNSZvzA0pVoFQRXjjmR2lyd+au5k2XmerjagffnvaeSCeFc2JF5c8omVdldGpOKCCffLpKGBDYYlofkY22SiU7EHKoKTJAXZoX7VlOummFG31lXVg8v9o5oL5wfqkc5+y2pGrdREq5pQC4lore2QeRKqupdI66KItdUlpssbuV+equgIKY7OW3ooTiJISimysgS4rlInaHjtabKRll6CmeK5G468Z9thrrruRlm55UJX4bbk8ttgmp9FmBJu9k9pp56zVzntpsDYKi9HA6BZsKqUPsqskWKpe6CG1vsp6LajQKkRovlPuG2fGBUVnaLS2Cgbsl9vGGhyzJtsKcJn4RgwujiU/ax5EdJKLrM0NpyynzuR1XOybOxtM7XyRXgekshYb7SnTky0HdL8Kbxq1kIKaa5FwNRKsdayXKrtvhyDbSPaverIL75EOm+wzr/m9XeOLw0n/NPfScNqNkaLKOumyjwuuLKGoCf4tOOGBG24b169OXCrje/eM6Nl3/2u0tWZBCOJmTvbNJquc5+154l07rrbPr1s3numVbv7051aSzjXW1Hl7J6gYW1n1iVX7buTpbQOuu6KSbqno8Bv6HvTxRHWc+uDELiu22AC7zPtv0ntOtITWw5xn9nN1VqWM2d482/V6r7uemen1vTLe4ua/s+7Oomf+73HSV5BWVy/2HOt+0oKZkOYmGdm1LzUqc1PgZMaitkBPUOfClbsS2L0fwah/kIng1baGOP1cEHYU49YGP1Ull4nmfRKLiPF+hiXIaexIx3IWyhb4wMd8SIY8g1YN/3MXMBx+Sofk4qHrMIMy6l3IU1MjYfZURUWJmU2FFzphXJqoOasxKooUNFIV//KhK2pwVEHUiwOhmLlTuW1RZLvXGSOourQVEW2/0+JP1vjFNurvjQHkjRyjVaGD7e6O5MGZ+wrzwsINSXKBxJWPmPdAddHriV3RTQ6PmMa4NDJyj8wWH0WWyQp6sXE5454Xr0e1KYbqdjSZ5CSpBzajifF/qIJl2z4pQDY1kIiR7KIFdbkSWZaQjU6cUvOsqEut8fJnvjzaDYM5u04uBWE4+5rotOY0Nb2Oeie811x42Cl3hSwo2LyRNnOZHpSRLJlgpJIKyZm/d4XmnD7RUxgHqP80YT7JhTQTlBkFmb1sXkd3ilSPM/3YEn2SR1U7SubGaklHbZFxXuPT3kEphUyFKpChLmGbQP83wmJpUnzUGiImHSlRebITlzMRKQo5V1JtnXRkKb0dJVnqz3G9VI9ogmkJV7qsge6smi8KJuv2F7ih2oiLF8UgS67n1ISmk5WEzJYllUpQpt6Sc1w0atGw9Z6OQgw3jxIe0jYWp6jZkWzIm6YtewZWYorEcXobpgPTmsW1/tOAG/0qYFvZUqTS9X9AxZ7yJphHy8WsgLvqYaWe+c0buWesf42lvEhJVMXRDbIaASEff1XN8EnVSzKJkugEe9l3YjaDPoMoCzmWM0P/RvGy8VrsSFTbO8p1zZsoRG1s5zdbPNpRplz8k9CCO1W7Aq6qA9Rt1tbzw6cCVkp8u2R0a/cSaYbUuRYFFcEqejnqxtC6gRQhB40Y16yedkkwa5ldSVZFou2UscN67rzSJy/luu9DlBUJN12ZKAnWt6BFg6tNN8sv/rLvTQQrUYC1UsrK+ouUHaOdasfJswie9IyDhKSWALPEyNJ0mxIE8XXptWGpdRjFnM1qiEWpUxKDFFtuxayzJIdV42Z2lyyeXFS9SNiZAhOdfFKlG4n60tBBGFME5mdtrTRCqCb4xqr5YGjE6UcFJ3R9L7OjSYXK4Bt2NL+ANCF4Babl4J3R/6tdpB3yUuVXqpZ5rmdGb5pnKBMlrpd8NXKzRgXd12nxD6RVhBiYHSwRK/e5zX9mb1Yz7K57+WuHkh3WtOwcSHY5+rva9HCNd7TMHncXp8tEc0TCieC+AsW1XDV1dh24MJg2zcbHXS4+XdpTNSsl0QH16BAXamlbp1m4CH3tdC86yCX7OijATiZ0F/fRYkcYv6BN9rDN2+w/DpMpDKsQjbBqQ8wm9r3u7K/HkG1uXe9xcrTGc4U/Gzu/fqS6sE3qnth97UXaRMgarazAmVveEk27aDNb6l8LmeLwyjqmAH8hKnspzzKaUr/A/fbC+QRrI59bIx8/V7T9aR++SrrQRP9EWKmNfVZsv3rNNESsB1ta8lcCWpIwtSfkZIlz3L4bf2A2uIGbmdOE3hJgpqnfleQl0zFf5XDxvTO1lQzNqisYgS3nYwv3m7lPg2bpBVYfi1Y4b3DO/EgA1ion+XxqLIf8YWCveNd8RPYTX1S5aTfsXnUJwvfS5LZ3tvbons3uXZ8Lf2z0rLTd/XYnD9fpLGP5osDsaaRBnWjT6y7k/Q5qycqtTfQ9so+9rOx4+VzMjH249yAuWr6DfuhyHX0oOa/p3y57rqgHdImBI8EdhRV9fdw0goFEUTi+nuw+Vn0Spzyz3QdV5zZ/vDKDz5WF1vtQYVr6liZ82Jonu9Zqcr7/R8K1xF+K/KPOjp81nW36iAc6jZTc4OldQn4su7GdprQnkzXKZYr7C7u4EzZkl0biF1lG9ySbtDFWJmdA1ltLZCtJJzGlZXxs5xN5pm2tVkALGGlvtVreNmLl1HI35178B3MURl63J1VV5m6Gl3rctlzcxzbbZ3y0pxIMR22LtYI1+F6AV1cGdU5bUX/x1FDo127gF15683l1k0j0ljyf5X3q5F0vJ19PxmlEZlmut4QxNmbVBYVtlTNM4V8/E1HAk2SZhoVCd365hD8Ul3uDZk2NtzXfc2jytXrs13YWp4bTxYZV54arEXQ1QU80B3Cj9IF954J2ODZSyISlcogW/6hlAwd16WWGeDVljth2NTg3iUgWf2hsQARCGjYx8KNdvNUz/DVgA+dvGfVowXNC3BeKelhknAeApxh1qahsq0h/wVZC6aZiX+g+B2RshVg5XCWEweZvq2aCrbKLptSLMrZiVBeM18ZoGvdJxrh455NakxMuCgc3E1NLHTR/yThxCLhRwThkMRaHErZCrtZrsAWOCEdS9kckmVNREldcHoVH6pg085hvKYiLY8czxHZe2xZ+aGR2qiiKyvgRl1h4+Uhw4lV9UKZxT5aMzXeQh5WQ/vhr5/WOBPR7C5Vqb+SNGolCn6R8XOhB+ziH0rd3uSVsg9U2TfeEHXllDOeFw/91aQsJchloaAHXaFxnfhwFhnLYOTjVaUfmgxo4keFFhItHaY7zIELZXlgSRZlHjYhILnTmhisJlEc3fRWhf3KHRCz5ZjoWZOiYQi3FkV8JgEB0h0JHlk3IVIMEkgyWi5qFjNPnlpNGgz+mbyPnkG3Yhx4lP2sJcXoplqTlYhUlKrXXmESXjFPXdRn4dd8jlv81fNfxf1N2hwPWb6AFiMU2mGFYNim3iN/3k5w5ZDzGlJC3Mp9WgaX3bzWVgHsYd7L4kDEokfF2VGhZlCcliT/HKEUmaoTWVEy3Yo04b4eIlVWpXazDgPnkQdzoN2o3Q4Ykmafkl3bnhJXzcNLFkTP/WH7XCYeOpYlUBolOKJKqc3CkeRi9x0khuJk1iWbkCZUciDtDCIL02JW0EZ/IY0/SaWSp+YkvhpV9tZ+75pMOEjHsOZvveX+0BZqD6XXMpXhYMV6HpJcR+keqRaGEaaGZyaFNwXMPdXaweXFq2UWU90ruCZFmVko4uUWzdKKhF45k1l4dxCYm2qEx+qIkehWQiTO92ZQw2XFh54mRl0sZh4kwGhkeWDExKV2yVIAR+R5b16RmGaTwiXEjuX6411glaUkfFo+qliOA6I/pVFn2c15kOimq1E14IqJS5oootWj3dJZreIY+FWaGQacGaac4hacIim2rKWBRNh9XpGhk/1Y60OmVcyVWW0qCSApDk9mjUuYwrHZDkkqCZlmpZLGV/Fh7VEpE+CeAfaqlXYWcX8aCGeqaTjpGRop0+LiBqbpvS8qqYvqkTyeP7NOD88V1BmidVJl/RHkc3Zld7VdgB+h4b8ldR6ign3FtxJhtRYlhx0qgGelxhAgigGil01mRq4qhseepZlqOL3l3+UmRnSMbXWh7VeOMDIeeWJOIF1ks4LoU73p9vOaR6qWdY3aDe4KC+WqZMYdJVqpcchmckieUDsWZ/pllAhR//Rimynqw3YVVL3SR2cEwnsF9cqV1GDV3MEiJ1oSCgWp7g8ilnBhY1zpZBGRaepZ+BISN9P8os5HoWB+rdvWqnNraovOKjyQqmomKHI7as8HUohPFcbA3s4/1klTnrjqbP6WIg/GolGn6l3AXoBVLo7QatS73kFvnjOg2tWEpn+5oMobZhFkKoX66W0oqOGE7otxKomAbVBG7Fzf1MfjnWUr5g1dot6aZt3yxt1LSt2brnem5TrxKcnG7IaIao5DHK90mlWjrmNbltzvpQ7DKU1CbQBqbrYwWp02ba2UJIN9KM6gIswKap4ZLlGU6i/RJPHd2uLbIuhTounC6URiKsn3Jst2xjV0rb8jHtublO6O4mIB7Jg7FZl/4THaJvDknWWxUsEwkvIeJrak5oHAWTaQqfbb/w2GhQ3x9BLzOFm+yeqZyq66T6psbiW1Hea6r64brW5jvV4ltqoXPlqKm+5D1+70GlbU52JnWyoPMl7hrY14Ia54t2LEKeboOTK7/O1pROnQS3C1+ZH1Pm7b/i7uQKZKlCKq6mcEq28FGtILdNoJcFa2q23DZa8K/SpxOeItNCr3Geks5BsNlJZAka1Umu3+0OLsAqcP8mJ1fSrOMW06Ai6GECzUv1qxfirNh2omRS8Qg0U/nG5QE+H4GlXWPa8W8x1ZG+cTtSpN0+8JgXKGOJaUIGban2oTWm8Be4sD4Wr6aZ6TPs7nrm250zC9QbGH2RnhpnKT9hG8fGJ4Lpm+DQzwuPgm2M4nI6Yqri6wS/LurLTjJ4Da1MlhjmHxNHyNE8KbHnawjn/xYHjvKjzGVRojKmKHKIMrKhYu9sIy6sowaAQEAIfkEBQoAAQAsEgAUANgA4AAACP8AAwgcSLCgwYMIEyoMIEDAwocQI0qcSLGixYsYM05sqLGjx48gQ4ocaZAjyZMoU6pc+dAky5cwY8qEaLIhAAANXc7cybMnyJoCbuZ06LOo0aMBbiLUSVAnU6RQo45UevCpQKdEpWrdGvLpTaols3IdS/ai169LxZZdy/YqUZ1fARAE27au3aZvxcadK/eu379V1SbtSzetW8CIi54VWDjw4cSQU1odCDdu38dCcz6OzPmnYLx891Immhlo59MYTUsUzfjyYNCoY1dUHZH164F0J8vePTojVt0Fh/Ie3ju1WOE0NROHjNytZdetN+MmDD259OV3mzMMatkg1cW3N+b/xe73qUnbbm26Bgo89+fi5MuaJ402eE736d9Hh+84PufGlbXEHXD7+bcbgHpVF1ZmDzVmIFml6Tfdc+fVR+BC82kXVmsXPqhRhA0+hxN930koYFga2sehiR7uJKJrcaUYonQObofedte1yNOLoY3YYUEl8pXWjbTpaNGPKJKo4HRD/egeg4GJhpWRGiFpX4U1rijjQU+OOKSFx7FIZVqTTfacdFuqBxtstpXJXZthjilRmu+dieNobuKn4mB6Ltgdf1bq+GN79a15pXJYZUbVouvVWV+Qcs4p5p0IEflek+ONpih1BVIK5KN9BTqmmvxFRGqKRZ44Iac2stopZktG/6ppo7Nxl9+GnqraGqPOuRpecVnK2p9CdKYKrJeAKlliicBhGqywwyZUbKa4QommsqHaul2zTT4LLYbK1QqbalPeyetgyAVY6p45fnuoWXHeWaRq54LoaZ/RiiropQNSuy2i2o4b8KeMegsnrvqOyi+UvwGMYK+VgmpwobnKOymVDA+cJF43mhpvjzWqB2m7736bcbDaiRwruIbuSjHHYLYcWMLufnkuydwKuVCM/Fa4H6k1V/mmr24Sm2CI1pZ8LtDCJo2py4m+XLHHlSFIIb+wjmwysvlhyXWrDx8ZLp/VqZy0wC6TDK2ZltG8rspsSm12tggr5+3ajvLc0XwHk//tp5SCsUdf0Gpz+ZWo5UYMOK4eM/4rxApPpDdFiRu+OLvWYW71yvHZxmyCFTIts+MpO9qr1hduiTHFn/MVusbrkj4226fTHXvJ0F6Os782r+wkrQQja+y1qvun+9QWC9jx7d4B3yO5WOM5to41hjz9r3S9WK+PR/8addiGTRc35MRVv2SK2cOo/X72su882GVLqC6s5C8HvaHmu65krXbe/7jYxTOQ/2i0pPR5jX9/8t/dwBVA+5lOeqODn9YQRKplUQwoEWqg5KRGHNpB8HZzI2CSljY0gWXwehlZHm8SJjrp3chORusawB7jJqadRTQqjFZ5LmYf68EteN4SXLr/MlXDgd1QYpzDnF/AdywrEUo8KBsachaouAsGDoV/YSKsnCghKrbKaDzzGUZgWDENSsVYw2NSF5N4q3+ZsVpSuxoNH9gr8LyxJ2jk3aeemBwhYlFVL2wbEenYKjv+8SgHRF5HJtc8GaZNkR8qoPrwVb9OnQ2R+4NkCg/3wKf5TZNjlGSPZNZCA/JwJVWzYgNtmMnm4RBZZIQU2zAoInFRLkxuG0kq3bNKI7YSiNTxWvrmGDFakrFxt8RLLkWSuvvEz2n+OuYn89M+8QlNi9LSI9LUZ5RmtlA95dpldeAEzut58UuOiyEoXcnNsbCyjTpTZ/6yKSAxstNQXERnD2tp/02tvPNfjWTZ/16lxJkNznLvy2eUnslPgs7kh8Sc5m0qB6VAbumSFzle5RSiNWWW0FwNlQlEkydR1IHul1py1DIfWbnf7e6HwuQgTGCKrQXSlKX02SjyZDkpC8KzYtJUVUzP6ZnL8Sg5Ro0Zuj52O57WJlutW1dQBTpUNqIEU1OUKdsYeayOesqeBd2q7cJ3lqK50ZlHJepHsGo3reaNk3D0armsl85VFc5YGLWYs9Y30J1wi60sXCMBBafOTdbNoYWE3StdplZmyg+wgeXoWJf607pWJGxghVkpQcVYq4YkiHrMIare2pgcStarvjnoxnYmSpmANkeivZ5YSyvTbf8WzpY+ZNE8YxLGQ7bRfNXU5zaPakm3JsmTqXyq0WjJW072MrOr6uUCtce6SZ7vimwl4HR95zDPgoSEaDtUBZVKxpEOcFXp89z7yMrUe0JST2mcCqvCiV1n4rSzMINvaP+E336Ccl5rRK1/z7sSOfLnkhnDX3UJmqGe8vWujw3W5LSzvJVSxMCDFUyCD7zg/zX4qcSFJLckDFeA2lWHMJnnSJUXv5jmqIWVvU3BruvH+0bLelyNYEpU/FGPURBbL4ZdjLeXW0d+0qyIVRmSRcqib56yOBfa8E9jWVuQVpF4Gkai/vzZZNhFFpRSNnF/Hxk+4E4WfVpWI5c3SFCb+sv/k5ck1OfkOjT1Yph5Am2ehcXD5v+5Gcuvs+yJh0LnEL9oPvAq5pN1ycOpbtnDj8UnVk8rSJ2VDmpdJtMM1ayYRvM3IRWNX2G/OmlQi0hdlyZbMzVdpLyicmATczRCS5dV2tYxL8k9Mi6xGFVpIlrM6yQJ02L96W3Suq22TuyU09wwD9Zablf86Z7F5lQ8x9Z9K6rijzGdtfmqdk8wDl5GS8yTU705wNzFNmURum1VZ2qxVu5PuEdpkRxjksXQLa6Au03RSgd7u9AMaAQDfcYuhzpi9M6ZuxU8YQeD+GvgGXhOF+3YgN7R4t/WcbARDpHyZhnNptX1tFOLcbdBiq70/wzlwym51CMSO8Y74h6Z+zrzkM9IaZMV+Lrpjdn9why9X/OJvdRLaXobFueFM6V7ew7bbMmZ3J3GOGKledTZtlaskuX4o/86yDk+e+Rik3pfqc5Pq3Mc66bWOqe5HtEaLxyPj1V4VMf8Xkmy3ObiDvsHV7zPxq417pGe6Ng8nnWEygzvRk/m3nu8UL+rBM6cXajOl7tpGXYpkYdPNzBdLdHfejcmkL/ZPiefzSF6lJWhxmYU2WnvxHu+m2tcdbKK/kVw79qj8cwmUdMrc6DH91Ogj32mZ29qn9oe9x9ELMwua10K+9ulfh2+oLP9yf6Zs8StDrqp5wr1fAM/rE0KX//wdVXQR78ScEc8L+cfze94Tayunpy+SlCO10Yxl2zWJxkJTZ+vt95cdhr3ey9Bfz63eDOWfzvlbfwHgIbHWuJHauoEdomGVNRhUrcleLcmaeE1WtTVWNhENdrEEoOiLRoVgpaWFwFHfITVdw92YaIGQCYobEyFL9bXbGGyb3mWdv7VWbyXND3YewEYLxKYciLEYei3a1FzgQ+odrRFZVz1g6M1agLoIitzbYr3WR2mdnPzYSz4VPG3FSS2elf4XVloOPkFdTHGd4p2cY71ZfODZ3rmfrZzhMj3c2rndddXGUP4d27YPRoXh+MDUnMHbHfUc2imhxTXXL1jUjrVdBr/uHlgIkbrF0mVlCwoJ39YuIhnNjvRk3s6RV2vt3MkYXyyc4nlJ4N58mlvyIBxNVkzJolOl3FjuFrdhkyOl1qp2DfKB4H9cTyveFC99nmnKG0olXK3SInGQXC1I2kztozfN4Hs9YdmiH/XRX47JozIB026WHuAE0gkl3KN6IDUuIQodhIKxShPRz8u9Cc1GGH+1jvQw0tt1V9kF1wzxUOwmI7xRk3smECHtIXuuGGslFX0WGzutofG4TgsR3eXE0K6tjt35kGjVmbt1IFxpH3jpznrBXQJh4L9WG1/032ERI5wpDMWSVsISYs7uJLw54fFh5Ebx4IWiGKlY2dIRGUP/3V9d0iTLllFSwZF/ihxKjlSdgKKLHmPucdo0PdSWRaSlGdkq9WM0ZUgR5iSREhzHmFGCwlsDMZ4q/WF2ViBzUeVkehbV3Vu34iJ8PMzBzVsZbk8W6mP6lZ4VilU7TWLcLiWGCh4vMePu4U8ciljSYSDL6FwyGRLtWNmysWRuucrAjNv4PKBIhh4hzmGDule/zeOjZlkuCZkFKiWOUlKsGZFPzde20hodgeT7EVdEnmKdekZotmXUIZFpkma6+iT+OiRhzaSIJSIk0l9ChaFJBVq4oSYwzhouimWR3SCLfma8qR9iPhr9AJLXyNrJAlmSvVD9kZ0ZVRfbUFfRgZgDP/nmOCnhHr5nMmGmc8Yk7C3geFHUtfCc5oXXiz2Wp03djK1lbCHeDp4gec3h9SpUxd1dbw5nePpnNRWZYvpn8w2ccDZna3JnNMYXjSIhlsxN6K3VyeXmtx5ep7ZZi1IejOnXbH4PL5ZmHUWeZZHXhxahitaeCBjkEl5YuO5bJPIFVIZiIDImCFGn6zVo32Va+ZXlrKRo8eiaDHKg9X4byEapGS5o3QYG7yncASWg60nVdeVnsFTiERjlloxpYFXpaN2pY4oeetpolaSoV4KFW5Jjne0gkJ6phDalA85YLxZkuwZfcPEkwq1gPfZlSrpPhO0kbuojgi6SOS5QQfoViv/+EhM5EVJFZ+zeVjec6IsIXrMt6hFBmzwpmCKCqCSGlEUSqhg+I6YU1UhVkRlukzOplhQV23HGHNXyn0nSap+ypZ700mu6oO2431tcWee+G3bKJp1OKHHiZtnqCd/VhfAaqf6ZqvRlnzGKo3s9D22uay/qqJYuZMl50sZCJ/E94TWpZ6wOJdZpK27N5ixqF8CGa3tl3uBpKysgqnZ0TNPeihElYrEKKrcWJ2beIYU2VuHmpX26nr/kq8LU6KTSmro2D0t5ZVd5VxrymWNSqMmFjV5pGnmSawrKZzDhY0XCjDLuXiapUeqmqe/1pUp+6MKehfJJnu4Cq6A9IIZRqvj/8Q9wTiFA/sRLyt9ezmFOkp8KRU3KGlfJhZm1/mdpRaNsxKw6Jpmdoif9lZOdFmwzLG08naDS1qU4ypRxWNmcdYvVaux/mFWK8u1P2ikfdZYI7uzBce042mkadWyHMe2WUaYnOGxojhP9QhVN+ltEymKfPanw6G3vFq3BtmNfxuz5HijvUi3DmSwUZaoe4m2lNs7j1lfieS27WmxDDp1APqfhdqFs9lgm2upicGasqikfSOPIpo5buaQSZiXnaG6oGuU6jhkIOur+BqUTUu7eQuxbZRI9AqVb4O1V+aC2Fq2wnuxmVS8Z9Wc70l7n1qZAuRlRiuFFIdN/XY88jm48f/hZJAZqi7YknGbcyfmRZwLd35inCsCcBKrX88mrkrqqCDbGXwjjGX1ocCEmplbVeoyt9C7OiNrvco2K0w0hR0qmGrbNNrHn/lrrQw4uXsqqGJJOOwmo5wGwdFKZ4badUDHn6sDpEOqvh2MvgZKUuIkwkYScZHUrGbli+i7k+urtK+bqaa6OzbGuOJIrd+SsXwqh2yXd/uqgzWMGEAsvXEzxImXameHupFyf3B7nGmKvvZ5xPjrkRHYieVoxHS6xRg8uMJpwkOJbskbxrDJlfuYOcUamAaLxtB4pIJIne36iANqhXCsd4HoNXwMwpJ6x1WGxeTBnb/YxIL1kqi5m3lwjIV7WsgWy0e4iaEWusgv/IIyvLGIHILhSMkP14pFuEwN94CCHL5XBF7VZ8XCE62jTDj5G7Pwtr9Bhsmc/JvSWpCbPMvycXvA9KCrjMsUCLP71Mu+/Ms+W7LDjMSeKczHzGimuMzGo5rOvByOyxUBAQAh+QQFCgABACwQABQA3ADeAAAI/wADCBxIsKDBgwgTKgwgQMDChxAjSpxIsaLFixgzXmyosaPHjyBDihxpsCGAkwAENuRIsqXLlzBjlhSAMiXDlTJz6tzJEyJLgzV7Ch1KtOXPgkGLKl3KNCHLoypxBkgKtanVqzGfOiy4civVrVjDis3YFaHWqGPTqgVZ9uDZm2vjyr14kqDWtgLrcgV7s+rcv1b1ou0rNa9Nu3zxAl7ctKZfn1JrOubLuDLPyRsjSz752LJnkiYPL6z6eLPgz6iN0hStkDTlgaZZp55Nlm/Sj21v096dmaDujrlR8h7u9nVolqcHR0yeEDPx4a45e5Xd+SBzhM6f7/4qffB1i0f1hv/+rR01dwBvv1cMb3O88PK0NytH+h657NZbS9tUD/+vfLjW1TfdRG8Btd99/QF2WnfNUbcafoNV5xuC8yV41YLovTbhTPy9JSFsFAJoIVYMGjiTQuQt996E/CE24lIl0ndigy3SKFuKxb0ok36uVQgge9k5pVlU9ikWGosh6lgbdhnO2KOIU0n2YXBETmfkgyDWqKRFzB2J0VeG1fjhQwVmmeSWFHWJJV0ChnnmmKPl9xqOaKYpmYFqongnfeJp+KOfZCa2mpZ1SvQfkjMySR6YOUJJoKB0FhqRfd956aRtK/KJEqUOJiqkoqLBKSmnZq2513w4bkbqqaxCGOBpokr/GuB87vWp16GaGhZVn7p+GmWgGw4Uq6wyQllre1jiiuivN/HKbKm9uhqto8T6OtNR7mE73WRAIugstGY+pGph1FYrrJ9XBsmpdN0y6aOL4S40rrbmTqoZg/Se62awbmIIq3GD7pnee7buWW+cnJaZr27+ZqpbdKZFuO2Buxp8sJDr3ijgqtcm2+SzEimM6a2ikXwxxhMz9xXHe3nJIKHw5rsvyCafrO/N4lqsH4cOn6lnzCtFGumogqr4sJ9qMuxzg0C7pyfMaPbpNGEy/8lvq9RCDTSeyFYc48FSB1xl1WVWWnSx68nJtcRBHqzt1GxKa3WUbeMMmbIgDvvi22J//xlivhk/FuuxTOo9YsKaeag2tdqavSy8OXN9tM2scmvl4op7ainW5MGpcsR2U86fcyJPNHnlS0ueIdxo2zz6ppifbXSoAE9rupRBZ3o15VWNW+q35TJrOaiaY+rmXQPS3Wa9veP+e9ehg3g8uY/bzd70Vfb6n+HDmb0569lH766xgtqHWNkWz9zvxoCW572p4BMGubzQ0zrkuegv2vP21CtZdYzsklMAFXO+swHPRHPTSpDqZjtZ/e9jhmnLcbrSv/B5p36zSqAAYYeknRWqOu0K3pX0VKTcAY9wypsfCO9VstW1jzcrXJbgyFWdl7mQUV4jWKaq1jH1RYmA5fGSfv/OI7cGIuZfwQpOUmLzLvLhZ0ov/IsQkSYwU3nKiOdCovTkpzyS8Q9cTbSgtbaDLArOCYNJPFsMNdUwLO5OhFF0DffiEjYgHnCLgGtf85RWs59hbX5gxF8U1QLE9eUMih0yYwVbljxn3TGHV3Ri1lJnlUJ28UxfK04iFRnH+zkSjVnUHePUeEbAPAmBgJykJZGEt1QiMDgzDNQqmRa8q5yydT5q3izXF6kPhS2C6OrkLjM4R6FYkoEYqSHoCic7yASygB0r3RjHckwOsqV9TGwQD+P0TEFGc3FhrKUx+9Yt3zXqlmts4Da7CawAmS+ZyStmSKZWTueds3bis1ue8hn/yXYa6J29YZY8RcKorvQSS3uEIBwD9blEqhCffnSlNzVJyZcU1IR/Q+gZYxTLODU0ow/tJy7FacnNwehjyIPXPt04xl9CZGi0XKJCj9jCzGhNJ/iS08I6tcVHpdFzolTRzDJZsTfa66YnBWY4c2nFUHZwkOCBqg/X+K+VSVUsJCtTN03qVDMNlJ02kugFaepSQm7Umv68WbYANsN32pF2ZAOY5Sy3zanBlKUvSShRGwW0upX0fm+FpvXkCru1jnAvMiUUUgl6oM6xEFxP+pzq9jq8aWINhRfcJg7T4kVRKhFBWgWQZNmIVk3NMp3N0tnlUrnZsCQUVK2E0mg5itEZ/9kQiOwxY846q1KePrKSZ4Vt+vSpMaUK0rHGDaCnBhjFxNJOnfG8ak+Yi8XYFpB/Vh3fpUQa0mLpb7egxK10GatbkLHyTRgtWFlHKjHuDhaB36XfHcVbFMUo7YJmayNFrsfFtD6NdrG5q2xDxFu+wsS+PcMvaE0l4Pmtt4hhDWWAl8bf8eHoq4bSWIHtpcCgStKoP9SjiH24thRGr3mQ7VuDQfJREiNsg46L3nf2Gk6Wlfh0rF0wJE28FKB2V5ar0WsZA8Y3e0F3qsn7JxV/C1Cl+Pi9kJmg6qqkrkXa1rc7TDJ9hgjKsTp5xJYVqbM82OQVT9lMABRljFNcvZ6g1v+9TRwzFb3s4tvxsbTxdW/+KjrO4lWktVvEkCE98snn7ZhnwwSxLSEqTuIFr4/CG27cRLtg9VbahberL/yCKeWoYu+S4K1ZhfN21cM+9ZuDVrROvsfpII9XwRkLNcUGrORHaba0Y0tZcdeC4kY7k7T5bSGufqvF+7KXfPV0MYbnWUpf+/eSwT6voB/9XB6b99r2S7a1l/plbkP4v791sXVbx7/XhhnNPVs2aMDp6QwDus2gfqmw2VdisPKyhepOm3aPLVZnLzS1R4M0zxRcMDoTs28zK6Gm963qGkO1o5hNLUunOGiKYxuPCDexwrvNzXtOK64Nl7jIub1Y2h40tCz/y3e7vz03Ldov5FN0OS3/rND4CTayWb7QkPF62WAqV94OPpDe0Lm42KJcKmsNi0uhts7UJhpk/KWxZfOYalbJEcYzZQqOO87sj9/PVQGU+aVYV+6MX2qxMdk6y5cE9a/7KuzVTjHZq2hztTa1KVC0N/2KfGKzZzDXK6wqvePtw4tSs5N6J2H5mnnomVPNyiMH+M4Jb23Dk0ihseHqjxFrzaZf+eVAp2VuGezZ2solzeNyaD6T/uGOnxCqr0NVhvR7XQ8rHcCgm6XYR1n4mv7RwFsjbns5F/dA214pgi97RHmPumkfmetWb6acl1t87R3/pE0Xsk8pneOnNtnr2aZg/7+rF9pxF4W23TR/9MFP7sJqmf18M7V8q639yrh1ZFi2M3rFvTyerZl8Pxc5wNZlWHF/8PZ989dO+sNkfgd6FfN0H/VuRIFzqvcfUDMvOoV/zlUq8cdonRZnjYVl2bRwzQdS8XaBuJNS6LZhjFRARId+GYRc0HZ9B0ZKb9RrMjV8JRZa9wZf0MM95WVuxgVuNKgawfd8wZKDc7OD7CZtuzZ9USVBwUVqsoZ2hIY7NjQ7EzZMfyVSecclGXVh2LQnUmdRWPgxijVh7gdkWxVMzyZUQiKGRDiEl0F/NJSBVIJucHJ1mdRRBveAd0dpGAiFz5N5r3aFTUNK5dUwZdh3H/+4egbkINIRY4ZocYEXYCqnb3Y3QTbWdxDGN6inZvM2dGcFhTz4a0ORR5w4MW34iYsXiqP1adt3XsN3im9Yg94WYUcYYu7ViJtlhZkTL9wGMXjXhHayT6PXi1nHhCHnKns2fqNkhTtRfjqEH50VV54XYuWFhOunPDv1evqHSkxBjQLHebKIbIy3ZYp0g24oiDXHiq0HXuKYE1SFeZJGan7YcXzXQ6joXUU4UbfYjCJRj9rGTPnojIvHgQ83Z9v2YkZGP4vWa5/lZ8fVfzbyf9tFbcGmdnsnfteWifvVP0tXeg9FT811j2t0imKIK7FCXR95iDZVjZxncnYYPqMGh4v/9Yiyx2VbJ40TqGKSWFqsJjHoQ3M89zy3RFnLRGuecSzM1TjVB4kk53vmdIrkuDx3ZobQyGyV6JFFJZUeB5HGRzrGqIPopmDwFhK7txNadEsIWWfQR3uEAYNEOILxMkw1IoE50ZaM9pYNmVZyaVDvWIVLmXCQx3N6WYN5FpKyt1dvho/41IhJWHqMAnctyWeqsZjb1y0H+XvAhHOXqWzkdDk6KZaNsT9LSXUTJXO2qI2BSFNixj7Iw5LvZ2DlOBR3Rpu7mIegp0yCyVA8xYRSGHEISH1HuSNN5XxgmF0CVWoMCYI7BY0DM4+Sd2o/GYsXp4WTF27A11PUFp38ZHcN/5Q0qAmSs0h8jDhrVVdrvyaEv+dBYtRrgNh9l2SeIdOOvaeE66mOD+meqQSf/TVJNHVr62Ofmsg2olh1i/mFZ5dgAMhnqpljKmhmq0ZK8TVsCRqeTdRh0waVB7qEMoZSj9U9qvUk2/hrjhWYrkZf5ug3k0iA8VGi+HSiCkiZ8zagXtl3VjgZ3OlaC1mgObqVv3c6bUVFJgp7xcecuUiCNUpX+Hmf9QaigsWeu7h8ISR/2tGjnjmkOVccK7SP+cSdMmigWgej3RlJHClG/Kim1BZOYwqTP4mQxkahrhh+bDo+mieM0EcbKZlxLAgcM5qQAepHeQqXcIYaxTlJeKNMBf9mRi86m7MmhhyadePmn/ZXmz5il26qQ3XkajnlMiGokDlUf+n3j2bVEUyngbmHh+SSKnDFbn3Yl7lybT45jXB6nI0ZYESZo656c5jiluKkn945F/8HlYSCg6F6bmy3k2WJOr0imJJZpoFkrBTWbH+6pcs6YK3pZWGDTHOhggy3nDeqp1MJXTTKfXv6nrfKcbqHmbOan8EZUw5yronab8AaF6RYp68yrtWTm7jmdDY4qADZghqaFvk6dUvGr3rqr7EKg+BKsGvqb2OhosJFh1KIoenZexNSpNSZkSAYrROrsDwpdIIacf6qsVTopc3mlx+7jHKxOTLYeP/VsTMojsL/an2ClXzuiqtiAbMkKWFLo5kruGtD9YSv6nV0OqzQgaS7p6S0Onms52jlOpcOOmOmeqmzk2PrNVoX+6/kd5JUVrXecrXEWnoAmms8t4pKVlnTInMo+JlaVnef4Vhn+3hpu6JnZFjG4503KZY/p7MwFDBKmZM/Cn2Dk44CKE1L+rKC67JJu4eIV7CbB4eKK7FSRGTOeXStCKXwBHhg60CYa2vG2JmHy3acJIDmArn1em4W95C3qHwYt3a7obqYmq5fWbr9SIsByp1k6qNsJqXimmIrlpR0F13hmiAQFzuo6mGTep65OpIgSDS4sY77KkadJYGd2Z8s1LsFuK6e62gI/9aD/3aocjcx3FuMy5e1KvuFBaap/BmehSq5szuGNPc+7Jus7ruxiNtVsqsdUFRM8SuP/jhfnrqz1fK/cBrACTjA4VXAlPOhRPeYwdiyN1Z8EfrAFFmSYBZ8TbeA6tl624rBZ8pvkAlhyomhQXdT54uon6t4j3nCFuO2ZGu5xCIyV+e86Bq2D0ZamWrAqctu4oW7vVV7O6y78inCOHynsYs6uoR1gHjETGWoSAxHyhTFvPi+JhmASkuBPsw8uia10UeeacZyQAWyDxxr1XtPYmyPZMy0LjvF+6qEhWYjVxq6rCtiKzwi2SRqtXuO5yF12TuwcIy6zXmvIYZdMfyPT3k3yGD4U7IKTIiclVHmvYzcjYn4kN76vjxbq1OsuQILLpmsvwLJs5U8yXC4vORbysj5ZKiMrarMliLbuNgIZkeawa/sN19rTnbqK7Xcc7eMi0tMoCR1mL/cZ8GcjrxLzMUMzDO7zEF0kpzszLxmjEUszSzcw0qsFgEBACH5BAUKAAEALBAAEgDeAOIAAAj/AAMIHEiwoMGDCBMqDCBAwMKHECNKnEixosWLGDNmbKixo8ePIEOKHGmQ48CGKB2SXMmypcuXCE0KTCkTps2bOHM+bAgAgM6fQIMC5elTqNGjSEX27CmQ6cGaSaNKNbq0qNOSKqdq3fqxZs2qTasWTcm1rFmMXrMGALtW7EyUZ+PKVZiWqNilWL+OVTu379S6Au6yJUh2oFOofhPPvYuY4NWCjRVLlsqYb8HHhC1P3gzTJGKnmC/jhYwyNOfTJD1bBl0U4eCTpVujnt01dsTQJu/S3u0ypemDuFXq5k08JNG3kWOqjPy7uHOJxxnChb5cc9vn2BM+1tszt+zkHptn/5e8XW1V75lbih+/mfl34Xtvj44Inr1i9+mvS5e/nrT9zaGdV518D7EVnEH9/adVgEupRuBCBsr2FoISKhhXYVjlRRNRGAI3moAbTpiQg/tZGFSH+WW2IYfTufZhgyuKqJyI9Zmo3nspjmidjNJ1mCBsqh2mVo02hlRejjPqqGKL+tE3XXRpFckSYCKKR2SJBY7mnZBhHdhjYBVK2RGVJVq5o38QsbVlfG156VuYYl70GZwU0jXkmZmpuRqcESp3ZZx21pkmnVgWaqeeglLImp94ApohaarhZxih4LH25mv8AVBYZH8CitimTDomm5kKWRobpoN296R1nTr6aJSiqf+604CxarqnrNKhKiqsov7o6lO08tilrbMK2yaxtQY5n4e8Tuqrq0LaZSuJnFoGaqAU4Vptlr8+eOm0tG4LabDAVqQtq40+++twXML2qJMUzumlsaIit+e73Sr6Io+fNopkW/JW2KygKDbpbr5oDmvvvJO6WOxC4joMIY4I46tndP/+1l+NEXvI7cEV5ycYxTTCJ2CpbILX71uq4qqroSEnOXKOJFaGcsnY5seiy8v+G3OWJ+fac5nLrhhqoSy2SvTL+P5c67morrlkiAkLXfDDwz3stL0Kw5a1fkwb7OJvHfdKMsT+ilnYa9I+xpp4/b1ctrNn5xxywJWOyqaGeTf/DZGkGuKMMN5nur33uH1XDa/HwFKbdpzoaSeWtLNqrOWdoGL8N+bobk00ygKGzTKfl09dneZaf5lkxQMXOpy0NVMKZruRB43rrG8afXu3rXN3edCRK4fo58d6d+WGqiKPbMzD+x38sfi2LXC6Rd/JKMNKZ9e84sR3TfPsQ9fItvWNgxn94wqGvbbeMysJPd2rvx+0vSuXWzz62g+9ZFhmf/3oa3Izz4t2RzWfLW159rma2Ay2prdN7lbIAiChqqS3sOTOfDAD3QSJo0AGicwtx5of3aTWMLTxr4TJAxOU0Ce63fiuXiY8oNmEN0A49Y4mLiJR1y44rOwl5oUlxBYJ/71HmgiRjXymyyG5LqZCkyHQQkfME6FAhEF+nSl2u/tI+1J4wvM9J4pemyKMNNc6nTnRhxqM0Prih0ajNKuBpINb6RBnrVWNLosl4ljhxLg7//0QiQe0nBzblcRxlUyEgrNbojzURxBOJmoQPKHx7gWyDMLPfYOMIOl4tL0eOhE1kNSXJOEzp+9pEFuZfB4MgUg4IvoFjhQ0oN9GGTjVva8iQwSYAAlJty3u5Uh9gWX3LDlL/fQrUp+0SC4bycth+XJ0spSL+uqYui5yT2K1vFnVXmbEkdUtWfj7yTSLmTEbpu2I4pveDBlpFW8Cc2xPpMovq5c6Jn4wOLw8HvhguP9KSmKlmUCKZK0oM893um+HTMolNJGWNsoFsYSlBBZAuTbQipplZMis3/j+OUdnmlOHMKOizGD0qqP1a3wgXZBgMkrNW8LMob5DJ7kIJy5E5tGkdUQpuZISHT+2MEkqw6FLo4lNSyqwqNnpqSMvicud0tGVlXwQvWwpVexUC3Ci4WdAo0nGZBqLQXo8pCaNVTC9mOWq1rGcVik61YVS0KDWtGCjHMczsuJ0rWdxT4e66tB8wgeegH0ou/R3UFtS0YMuTCu4pLikPjE0rky1qMEG+ywyHbZC6tqKWZ+qo822K1qKtaKZuglZbsYTsVDdVThtstlCMgqGn92LpNIy2hr/lpaweETtUEXTRpv4NSN+pCFeRRlQn2J2jOHqnEQQW8ag/BYjwZVoBSdWHukt0pOOi9/H+knUnKCKYR/0JFDBd61KSjC1k0XuRlpqzY0erLfQHRp4D+ZAccHOjuZdlgOLKlK0sDe9Bk3piU6X3O2+NLQHhmwr3Ve/oka0qeT8CTITKbl/zbal87WpGSMM1wUurrstAQyLDuXNxh6OlhMDWjxRZ8jOAjI4Sh0d1QQcYs6NWEfuNPFXT8w4DZ5UdkFtFowxKKQUZnfA++OeA92rT33t9a9o0+2PTeliVeaVc35bMj2JqWT10neDLO5wV7kq1MwOBZAOJZhQo/ksNzm1/5hpvmmTs7XBM3/PtPT773VTjCYaX1NowDzqn7WpFRZLMbaksp97QZzfC1MYjBMWGkKbe+baIlp2IxUz+vTi6JsO19O2VCpoGX3mTnX4fGH90pz93LpTRzWEhB0zl1l7NELPmqGpLmAMWQ1IawZVXwEM9GpZEspB26+7rjYOmq9I4BO2z0k/vUmxSZ1gPrcVJG9kNkW1XNl9Dlit1R4vd6sGK4AC9Nc4/maSxy1cXVZ6k+G232Yb/FhjUpLeEZb1a7PKZaXCF7iEtZOugd3RSfFVzwZvtrGdjF8IV3jhLom26fL2uj0dvJjnwjd1F3tr7fKb2iOJsYcfvj7DxfK9yv9lq7yXKFvy0Y7ZeO73sGuzqJFLrOTTfR6v171yTrY8vKCmIbjRLRQs1vmhWmWQsOMHTJ49OIyDteJbWx7nf6eGVhIfucklu/OHTlKue5ZezWFFQuUlOypPh+eTcefVHrt46p9We62/rPI4X7vo/pQcF19dy7BtDL/nXa6XR1p3b4O8N1juuL3B3mcCd7LFJYUjpKdTHjBuGNBHt/NWFR/b+iHz8Tw3o+TNue33WB7ld8y8OI+utGI/r9sK3uW+pAv0tXtE0Dr5UevDh/XpLo5hUac93amqeLZLZeB6VzfS5Xc5u4cU00+j2PBOf2jlcwX5gb220tsJ2mkvv5zunT7/6aV7dq5Ut4oylFy1tm5Ayx6uvO0VTP+gX3PGMmvmSnmPrP0eT7cusGNrhGssN3+GM05gMz2WY3W1YWuQlWcpFGB3JVkqp33sY1u7hWLZFGW2YmbYtkd75oDgAoEaB0kal3QgRFqMg1bQtoGqhxPOB3rlUzCVV2K3Vm5LdVk7BlVvwoDBZHiXpE/IN4Ptk2pTV4AhyGP7NS5ydFZ7dC4ZqGJMJ3+Ld2wotFJrtnmjNyb4V2M+5lS4J4H5FXxzw23gcky9F10ToYBTcjQTFV8adnsClCVKo1HSV3BEN2ARpYY2c3Vxl3AOB3RwV28e54JNKF8BJ4iWJH4ceHrKcnNz/7d1fxdhL0FxhphoUsdOgWgu4ydWjohV9VdYd4d4CPU1FSdyHmdosFZSdqWKGuhqOeaHleRvW0gRZQc+Rth97aRIksZObraKjVc5W0ZwEpRtpiIUjYRU+fUwfaVfYJZMk1RWHvh9gnWESsSBN9JaH7dNzZh6RBSJ7/OMEchfYqRaqNgyLRhxh2NPNRiOgXSCdsgkpQhloQh/yfdcFHaPMMFL6qhH9DZ6SUgmHlV63UWP8GSPQYd6U1Fk30SJDdhi2AOPlThP7CaABDcR2+NnQKGQFlaIDZlkDwlE66Q5BimDSwWF9aaGHaGOfuUeQ6htCJl2uzVND6hONkd+hmh+zf8HZQAZfTB4iQK2fcRFQzuIJt1mXIVGZMzofyTkWBRldUvIfFO1QtlHHcpjZe/WjRL5ZUl4fqFYVYLiWOvHY+glcDRRVzkRlqSILJ9Hgy9hjqPGfBDIUf9zjuOVdVoodDeolo7HlugIU5RngZdof4CoEcpijYSpWIGHSmczN6NkUN81eNL4hBA1dwbGeIRYkL6HSYuZcvymbzEJmR0JeZ1JmdYGi7kHfb8HQpy2Km9oklU3d2bolQhJZihJZ7qomNuzd/d1EXqiU6dImp8mYEE2i+uFkYX1iuL4IxcZh8UHddwXjLqkQHNWam8WQx7Ff+vkmi8mlq34nI5Zhpx5m0j/8YXtx4buqJwl6XaFyUd16GsN5xzkyXfEF5AXyIsbJGz813S5iIXEOZ7JdG6kiUd4JaDPN1WGM2+xIUyRE58UdIc6sZQ8JmgEeltjyJ0Hypw8lIrEw6BE46BRwWTVSZYhGY1RuZ1WxJDNmU6PtGXGuW8IZWsAiKGJF1idoqLkQTGomHqxlZ0bB5OgYlq3iKMk2mUTmpBCamlzZISZ4qOsiVvMCKI8uGNFeh+FKEFFGWs+CKMI9okDiX5dY5dXlkZPqnrOx42DYkA1R33Ct05gincSGkfpuJ8khp8ReURvOX9zYzSi1k61uRLYJ425KafpRqfbZ6c/F315qqdb2X/S/8So5QdOcil4BMh7jJdqhomMfkGgj2o2UyapvZSeX7eOocmbdOmfAbRePpdOjvWP75mJVIimL+Kh15el8rk4q6liafqcTYlhh8iYzCerZSGccxVOU4p51/mOe3eslUkdXtScmleCEBcvw9pNFSdFPiKFUbo5zdqnN1Gm/sV+dBZ80lo73hSABkqpU4ga3ion6LeIUpiAf3mse+eK6NqGnPFsMheUD8eKPIdHMZWkyqdGsieJjfo1HtpCk5eB/ip74gerxRhZXYl2JvpqN8aJaAOTBBSeUJleuJoy3tam/pkjmpax/ueiy0eyr7qx4IqZYpWEVGp/q8liR/ZyqkWqH//2qXMJRG7Wopp1J/pIjb+4oSznQ7oHQV7CTIJaMjwbFyjbk9l4ctaKcDumPB6Zk+7Jr4h4rwhUi7JpZRUrn3NCtZunkgs5U73WHvj1mgEDpDQ5j+RVHbo1cfJIRwRZk6+Utj5IktHlfXoEPF46ckbTkHrqVJcqsXPKp030r3l2rbFHWw+0q635fy5XqpwRVAKbrBo6uLA1PY7rt+uZOFRWuM8hYgI1lm6XZdYHuFc4kUMmun/kWpGVdZbodUMKu6zLuX+rrgpnsuK2axh0JWg4jQEkrKHHQbtbPso4rAsFvOm5SNFVtzuZVE10uLabfCV6omfLoxgIsXbrrH9UpGr/C5w/qFw7iaITCVXeKCWKm7Lmar1FhJojBLdO2pvYepAWsr7OE68bF6ke57dsq5AGG6LYAXyZ6XPH6JyXJ3p/6bgK3EEFZyMEjFe+g42v6YtUk7HC9qdOyx7eh6rDNIHaqkytepC6xq04OV/sCrWbl4bDBr1ma3v/UcE4C4tJc7ZP9qf8iFN/Wk0JlLcMqzfKAsMrrGqwOazQuMPW6SnMiYNneklbN5SCiZAvZ5Weo43Ylbtux5T2JrN/GztKO7dVLHi9+GeJyUAjnGmsR779ycHoCq1lzJWKp1CgOJtbI3b7iXPIqKS76L83ua9hTB3PZFhO6ry/85zr+YGR+cdY9lO/9Km3hxiKeoy0vavIRVinhzp/PEzID4teS0vJfCNUq/ZffsZ/xEi5Vay5ceyF5MOSYlTKnsy7AYXDx2uviWy6VPbKoim39gWRkHyfjxyLa6zEaPzENpy9Y3tav3x4TlNTeRmYwCyi7gaG4onLn1Zf4rtIsTmfzErNmigx/WWRZRtpf8jNVKm/2yqjNvu0tUzObEfFZIfOFhG368zODlde2YyvmTTGdUvP22zPdZSFiexHjtPJ/DyIGiFT+lrQ3RrMgmuerqvQ6QxGixadygvRGZm0Wnk2mGvQFo0TEk1SHU0bH12sIT0XJInEJf1HYbu6fREQAAAh+QQFCgABACwSABIA3ADkAAAI/wADCBxIsKDBgwgTKhwooKGAhRAjSpxIsaLFixgzarTo8OHGjyBDihxJEmRDgQBSqlx5sqTLlzBjykTYcqVNAC1n6tzJsydHjyt9Ch1KVGhNlUWTKl1KMWdGp0yjSt0J9WLVqVizDm14M6XAq1rDinXJtetXj2PTqi3YFYDCske9rp1Ld2DbtwJSxnVbt69auXLPGtSLNkBHuHmR+l2cFDBfwWxxFj6cuGxgxphndoTotHNhg5YlZx5N1iHnyajxsvxMujXGo5A9Ez5bViJY17gnwjbsUbZo3rUj3s5NHLRDx5chE6walLfy4tBtH+fbfDlr5opbDo/OfaFngrOFs//uTr7id7u/T5dfb54y6+QJtzMsDJ+9a/fvH3sff9BpfftjyadQdeINaBNt/CEIYFQCJkSgeg4eCFyCEy6o1WYBhIeSWc6hB55iBt5kHGQPWqgUhhpmyKF/+pU4GIfWkQiiiTENR+B/IhZ0VEcudtgUfTDSKJKNM+IoYYwq8jgjkj9+mKOQJiUWon4fvrjhcwRql5pVQG74H5Q/fqmikVaqiOWMWjLZXpVjUgkmRj1SdhmGCD7ZYYMj+qgnm06m9+ZEcR42p2nzhTboc03qCRZ8q/0ZX29AXpZimryRmSR/O27JZ3+Ruimmo5R62aKflAZXZopITpofXn2W6ah0oiL/J5mWDd4kX4rh0cnpi5ni+edesmKo65SoHoTrb8PqmF+vFIIKKUJ3tdfWeXmqCZGsuRKK6KuhRmandNNqqmy1EWGLrLZ7cnsdpM216+a2jlFbKKEsrhYciipl6tir4/YbmqhX7hrZhvIi2K2t0ynYpr7UvfurlAtJ2rBclFk731liMtowr6hVRWmxUJoaIZvNVXyxwCK76qGZkXnm8bOX8guwwPAuGbHDjaJnacDb4mWyzG3SJO7MEhl57M4s9/zoz0AnPfDJCmMXbcDu7pZnt0Jj7GayjiLtMsx92ikrwUA5XGqzd0Jsna/shVbw01mvbODaXaIM5NtUT+xnyImp/zr3o5tCq5+u/x1MKn/7Low2gCW+DGG9NrMadIVOn6Zljt+C2fi6j3f6ab8lE/o53Vq72yOUObKd7pnGYdeqznzhbaxi7gKd+uL9kgtfshL3HvvQEY5dedN5Ukzh5Q6fdjvHZPsWrdh7E9+h8ZKnrFvf2S1btq6GSgi96tHJFxz1w1tXONje/k7ueaZLKCft0beN9vjqlz/f+UqHvv6W7YeuZLy4uw/n/IW90eXOJQYEVvKUZTzrhW+ASOreT2KSwLKdjoG/cyB0yBcbxNmkVlvDnckqiC+ecQprlOsOB9MmuJxdK4TSKaF4ZCgmYa0LfH1x4cnYt8DnDId7ovtdj/+yhK4IFvGA+GuNDjuYqh4q6njokuG/ZjcosNAKioGD2mgaiDvCyK6JWZyZxn54QwhqcXd3C+BauFi0WQGveKNq4cZahkVlOQ6JMEQPDqOisR8RqY3La1PV3ohBNSWOXLBanVj6eL0/lmtFFvTe4ZQ3uLolMVF75EmDmPaTO/avkviqIqS4dsCAYUdk1sukUUR4GI0kay+xAmUQRWmw+a0qXYQZFBqLY0U1bupoelOd+Mz4OjjVj5eY8qXcYgY7UQnTlohsZkZWWJdiWRNnTrzjFJkmtchp0ZnJPNtrKGTAnlzTdbODkBH9F8X8XLCbvRQnl/6WlWGakImCzB7dfJP/v1Gx8ZsrU90/SbcfpSXFnsP7GCT3iRpqLpOdFjOlMgc6r85NJZP6S1/eTnW4thwKUEX64BEhV8xS2o9BynxdNzf6NFV5tJIUuZFI70i0yUWznFIhpTrT58VZivSFRNyW1TRaoHSysKJIDdARE/kie/l0iVREE/pkJEemPq1bQFQlSWpYtrhJLnSMDIlDDynNz03xnorU6ku4ilaDngysnnJiTI+5Mo2RVWgyjaZbG2OzUC4wozIS3tVghlDJkUxvdjrrAV+ZUplsDpbBoytkA4XPwgKupYg9UqW8+TW95rSd0SKpImU6RnptCaP1g6xEfbjUzW5KraVxnvs61U/f/3EMq1OtCPlUyzLc9lJiES2K7O6K2da1kmbThKkeIbYbxQZXp5dalFw1SUjiHta4pNTqR8lGPuNR9oTkdKPgwqKkF8rrbamcznZ3CLzOIhWidkPr+7qZ2MaOU4MfOm971TavoBLQYu5VGHwHK19BRe+lwa0R9qbUwZfZVbk1zZsNo+ng37wzkoP1DYvCli/7cumCGWXsgw1pMwCikKb3s7A3A5tHIB6LwyAjiUJrt8y9Kq7ANb2iV01qse/G8p/bPCLmVixjmA05i7fqMI5tmrZe7vimnPVc9pBH0VhGWCcKRFgMjdzhvO4Hcpnb33iHFEkgR1LH1P3xT2fI5VyG1P9yUr4ga8ccEgVG7cyj9PAE7SdK9OIZvzduspCJzFrGqtS0e4EtUYb62uMK9c/8beq5ainpnXJST/D1q6LFsknmok+KI62bW9f7twE/1J8N42GgNl1nVu62Y11N4RkhbFQb563KTrMtM1l8PlYX1YQTRq5qPDrqIBmnu3EVI13DQ2PA2rGdtobJhpHqZPEgWJFqHjZVMZs4Fk1Wb0rjZm5XiVcVswm6yib19GZbbpWZb6FJ5SmtE5wuXxsWg0PFdaWZ7El2cyqsGAykwiStbreieCc97enrnD3Mx0KsRMW64uYkTFjaunZ23vYguh3rRoWXVZ8APXZfE8ZksmV4waD/S3XFD22kjAtu4wrWcHghnkEPAlKSZi5pVQk4NfayTtYstvfSGho/2DGSlAZ83pTRJ+eSp63nla2boQO9aGISdWa/FeIcTdg+Yr153d6tJMLuFenJVRuqPTn41c2ezLBzHdVXhnEcwa71dzvV7UQ9u5J90lxRF9RpmRLaSul+Juvi2+r5tXjp1txWbMuk72EU2EdjzDuQO5vGw1Z74kvavRcLuygFf2QbwTnwWlMO6oe3yBD3PvGLRxvh8wbp6AMNXVrmk6sxZnBUedvB0AsF9XONurmyBdQ5dv16nI917+vXdLQPBfiyPyr9tOx4Zad7uoVX7kfJHvf0Cd2YJgfv/2o/r24QChh+W6az0WMv2N3reasqF3ysq91oz5bJr403rvqtDND2S/r7F2F4+NRgn0ZIBMVSP5cz+qUy0sVsk7Zr8wKAqrd18cVeuEVvpUdW06aA4oJOtaViCvUyMOcTTbd5/Td3GHgz94dn9zVALvd0hHZUS1GCy9VjKBhy0XduLMgl2pRGy2dW4/Z8NXeA7xVlkSd/z9R0KCZzDkhPOQh6Qxhv53dJJwVeSRiDS0h0iJF/Vbh/TKFBVKZZU7h3U/dyuaWEwINTLHVpfgGG7GJsp7dmZYhxZ4iFaYh9dVVzEohAFDhXQPhkMhhwRWdEIsdFu+F8cSNP9EeCfQhSf//4eSi0eAhVYYYYa4hYgfJkfxz3Xb73d/TmSCvYU/ihicBWGa1VfPwkhJwYe1ZlcOE1ZoiBH5oHN5s1gv9HdKsEcHNGi0RIiFrkSK23bxfGW+nli4rFaI9Xdrt0gvKXiB34ik7XgOA2dDlWducRhmDEiA5lgnY3iNJUM+A3awQHcv1UEjJHFM7GPIKYZOqmhss0bXK3i+4WJe+2h4DoirDlX3DmhePnZdMmdL7ldwp2j1KYXJ3YizUWUBimkDr4EgF5hKXhWcuYRSuUjrJGX960jZIXJO5IgOUIgQ6JeAl1Sw0pTSJ4h2HWW6yUbQmZSMHGUfbIY653Mx35bHD0Uo//OIsUKV6XRWA0iYet1m6PVJMImWVw6JMpWFpk5IzFd1AiOWIgmXIWCWZ1Z5M1+IskKW3zB21b8ZRxBUBf5W8kBlf6d5Xy2JJFJlFfRGZEeWqX6FePWHprCUflZXofIVqvFyVt+XZv+VTZBGtq4ivMgjR3qXjVBxPENzK4JIYF6Yv12HZfOUnvWEafeIri93kzkZiw6E5RtpT1ZopC2SfyUn5c2YyNlEwo5TMrh3w85yc1OZpStXGvxmKlF3xdmIyqOYC/xl6et2fZx1AvFHVYZ5mlBpQboV/A5XOj9YDcuFjhNB0zZoe+eXsLRIneaI7PmJzCSYc1s4jxBJ1tJp1r/7J+bLWO7+dKIvl2O0VhqImDyxd5gSeT40hiUxKTgAiKt+mZz2WAMAif25Oe8kafkWWfVzVR1ck/f8mUQxd260WacZM4+oiDe7kRGumEYpaf7UlGZBehDrqRtxZ70oVSsilVmkGZ1BaEt/iRMqQyunghjhZZKViYZXln0caBm4mM6smLWFGX+9Z9urmfpjl7xQaENBeYluSNBGpcRgN3l7WI++krnYiGRYqVh6WfXzho6siFrViB71aN85h7LBOMaZWV9YSldASRW4qUKealOgqm/vdEgDihsFdLc+l4Vnqf57mbzmWSL4qQWVGJdXqn8glQMSlbO8eGQLejKOekY/96b7b4RD3Il+QYiF6XdMaZdovankDak4nqqKG2bfx3jV10lHaZFgIYgDwpl+C5Y+fTc8uYaNB0mVuYQ42oER6nqrOqO2ZTQF/ni5cYbqYFpnPxTAQJlpyaSIb3Njo0VCaDZj7KacrEqBR3b8haq3DqfQgKnIKmcy5aPTb3Ze5RbElZdNQXJtaqKtKoVN7Kj8/WrNBoYzFWrtdjeOjqQXKKZcQZIeZHj6c5nMOmS3tXaNB4rzHXWMKKltO5j2z3r2IXsJA6sJcqXLFKip2KmWuKaawXsY3nNylnoWlhWSk4gmRUkRlrq9jkZ1xIsMn4qmbKa7uaXR4mO4KpfJ+pg0D/pBbFmKiTx5iUZrFWJa2X1aFqWZqmKp4F1n44OqgEyYU8BKyhCD8qC3txOZJIS7NLe6w6aqTjB2WL96zk1Z5LejbvM7QuSUh9l7T1lW9rFrVd+aDYlJj40W35qpt6d35yZHu+04TEQVod1WGRuG6sqnVUeLXxOGuuep206juy9ZIdi1wMuqvrGVkcSmxmqUR+y18KhabfWLMTUl/XhYlqtKenyhh3p1xqe3MAlmeem4cKOrNTyrZ8RFfjKLcou5v8x1G+am4WqF6RCbtMUaHUSbaEupIBalTb95+lWEs0R4Oky5GUu4bP2ILhF7nd+KiHVhyHe7hbe62dhLy2a544/2SR5WGpRDRfUjexh1ltJ2a2O8ge5BubBvaP6AuyypmFbnuwpMGoeKmQ0IV/Q0mizlm7TcS8mKG/hjm0GrqQxSe0F2l1dmYf67uIF6Y1Hii5IGdDD/ysmLceEaypTrdOB+ZEoZVnY6hrO+e7OHukdQmPk4N3uteNPVszmXN5pFoeG9hxy8akLgyjghjDiznDkwp90UGyHBuWzdmPPAuBDzx8qRVqSSoVRCyZRly5SLx6qoZ+wbutVkk8IYq1rni7Put0Sved0iOhB3q1GRzGyytJZCwzdYpWQIg8kIVQvWawGssdbzw8cfyGcxyrdRyOZTy9UimZAEtQSfujeiouv/+qOUUHq9moNYZstf81nme5yG8CaP66uYjMroT7KCjMwWW3b/u7yaVKrfN6x1xccdcGYkTGspErMhscyE36hkqXMa3cYugLyR8ny5S0s9cmqSMkWfmak7zKy/vhXzh5g04FeY2Zta1JwGUcoaD6bxnrNvbaxIlizBPYobhXzdiTrpTqidpsrqZMXIr4zXGWR+MckuX5ucZIy64Jh09cxmn8pQCMU8BbeZ/sLGBszztrmwnco+ssvUSVUbfDwkxbgB860Og5eAY9WwhdhRcYpjHI0KfMVUCrZp3GUNZr0dSM0R48u4grsIjq0ZQciKiEoirJySaNr445k3+7vZrb0i4l/ZO6/Gg0PaxoQ5bDm9N0gZyT6tP5m51BLdQClJtGDR0BvRgBAQAh+QQFCgABACwQABAA4ADoAAAI/wADCBxIsKDBgwgTKiwoQMDChxAjSpxIsaLFixgzagzQcKPHjyBDihzpsWFDAAA6DlRJsqXLlzBjHjQpACVLjg5l6tzJs+dFlTd9Ch1KlCfQnEWTKl36E2kAlAiPMp1KdelNqDNzBq3KtatIqRhtOvVKtixFsBfFml3L1uBJABXR4kSptq3dsm/janX6tu7dv1X94hS41SBWuYUBK/YpWC7Cw3sJJl5MGSZYmgIFR7zpuLLnkZdNZk45FiLnyJ9TD6VL+iHmwbBVyxbKevJK0bBtz9698LVCyIbpuuVLs2Zr3shd4/4NN/ZA1sMlF9ecvDph49elRy1OELJu6+C3A/+/vd330+bmw6uHCP25cPJZH7bXvl79/PNYs8dfeF9//fqsBYgeaonVthxOp3333X9eCdheaI/RZd6EB27HYFWdBTeef85FxxBxC17YVYYFPUgcfRZ+KF2IIpqlUn63fbdhbqXZJtZV73V3XItDvdjciqUFx2FnNpKGI4yjscjjRCQOGaREW712FGTUOfjjh0guqVGTzinpIZD65TXXju4JKN6VWmqUZXkHeokgcWvid6V5MMaZ5kh2fkihXqfFeR+dV+Z5J0bp7Qejj4c+aZuMzY2XKIr7Daqcgjk9KiekmKrIX6MDjgbpok9KepCBEW6F1alkglqofJ2epyGavYX/KqqcBZLpqavnnaZQcbJGqF+W/cU6a0JmCiunlZsRKOuROW5Kn5uiFrtrpVY2O22YyzolrbPwQXunmCZOVGeqJ755n4m6QomajtgOex2qM7KqY7rY9hXoe3uqy+GtXC4pZmKUIptQn/gat+2XJcIK1ozeWvevor2OebCm7xYscIpCauqjk+6exWuNBlub8K3PQlzoa3GizKmgHQ/88XATs4tryWxGiVvKN68Ma8sSBfsxyJni2C98Hh6FqIM8V+TzyxR36FxdIQKs7NExJ+1hsMqVuq7TGM+sMXZOF9uwlkfrpTXHpmm7M43xHtvqsFmu2iXTeU5pq9dJHkgqsQUn/zjd2kvGXSHRb6p87Zimwnqj2tTp6B2If1vNLMlZlc11rHk6qvhx9oppddZlcjqt5W56PmqrwHIesumfG4s1e2vXCvXgPtqcN82t63upRThHOLvtuQIdPO6574cjv20+KfjVCkecrokspxh9fXKheh29Izf9a/Ogb08l4K6DHziZ1hNespSDU15k11VLL2H6dwpW/r7dcvemr+Znj3D7hr4/dniLm17Fuua4t8UoYu0K3f/0Fz8jgS1ZvTtd2+RWNMbdLSMC3I29RjM/pykJe42xIMJuZSW/kVBkadrg7iyVqcNxKIQFHCGuSgi5E2YQgPcqYLAaVz8S7Q1/oLsYbP/ghTSvUUo149KhyHhYr60VcH1p42CA6EPEYrHQZapR2eyQpz5ZdbCFB0ygC0OXxPvFqkhMtIsWVcdFI3pRdJGqnLK6R8YcmnF0b0zjXeryw+xBiG9BNOALm/U6KT4OeDKMoWz4+D78/RGIWMQVIncnReagi3YQs6T4MORECRYsY4GcntR8p7MvUpJGBDzdxvLHlaGJrTSipFYsU1lJt1GulmLUniqpBcYG3a2QknReueomvAEmjIhoIyafcgbMslQJhe6hH8JWmUqCvaqWzwNf6ezHP6+MEkvki51Jrmgp0tUQkO6h0PJ0p8lEcrKaxjmeHMk5J9SEK4zozJs1dTn/RlK6kyrYO5wpZWivdTIsjwO6ZBN51cWHGbKegAloJAeqy4JyL5i93J0K0Xc9utXTobZkpYsyecwB0UShxgKTxyA5L2pl05FqqxX9BLTAkHxTkbxCaT/vyE4GtvR28PGTAXnYNpoicCeh6WZJQ5TBIz5NZAvbJP3SNblT9lEpSZ1izxoJOyYJc5DrpGZKCVe995yLq0xZnBKj5tJxXlSlL53bIR9YP2neRo/BU6HA2qYUtdaRrfqk61RxE9d95vSiXHoLo05q1iLyNSkMNRda5YhTwZoRhFr1a9BgeUHeSbWkFcOrTyLL2DQC6nvDQYwFUXWyYqbzqPKiCPQmyxRm/zGWjrl8HM4sSsS44pFSka3ln+BnzFZa8LZjza1JLdvRvU5WrDUTZnBX2CwKjmktHVRtau2nRCAN11JFbV4IoRs6sGoVpplaJ2PgmEubTfeh3q0uXVeZOJiRi7zYXC002zjTtyJVlpusHYCviD+jyuyWp0zmeU+pQkjtsIjN/axdQQPgQFINotwycDQ3rMhPDfheiVpah+uYKNYl1yUW/eCHk3XNy6WuauNCZv7YemFg1vQrIRNtUBe803uCksRri7HONpusGu/3cmmlLSrZ1revIvmASpVO6qQIWIzuOHNarbJOrrpkuz0OdMDNsYSvmz0uu0/BWPbxiWOSwUtaLv912Mtm+Zwq3OVWsMeflJh8fyrSl7S5yW/eXJyH2dgJE649X/4ansdjUQeTa70B/OiH12jUBvNUzgEycTnF/LoSq43P7BOnobfsv/kys9QPNZCl8+W9TFt209UKsqQPPLxIIjiXRTHljMr4Yy6/bo1Soy/THG3mOPpNp0NUMqkRvGs79lrJvz51sHlZOEyu9aiD3mjyqAxbkTy4mRo955kIrKejIrp5NputSv8Z7lcV289L5LEnnQSq4eIxIufern1Ri092qznVnX0JFNetwE5+M9HAk6hdGdXbtqLXp5K9IUkG3u+CD/bMlxWewi/HcJ0J+OG0jrDEWyJWcIcc4i//zjOrKK1N5s7QQQSTp6OZM2rLUBuXXc0nh+tY88DC12VCBXjMP900LPdcJkJldLmY9TvXpqWxyqy1XadH7ofajStJbxVV9Ws0p3tWxu7bONUx7G7VjRwmggMVvv27v89q+6aKjqOhf9bi0jrw6HhCd7bWzm6ZY67JtFwyQbP13nB3jrDdNoqT991ygCttzFhWFbbdat+MsTbxPaEzOKMuRL5vlTmSL7JlNQ1HHZN88mAm+jTB9u95r9QiCUf8tAwUadOjGPXG8ruHZdxxs8Fe47IH+vtqH/CeqLfMdvbkxkcssxu3OsIqpvkBhYb5lhxfZol+1fLLezq8R9Hw8ew2/8Wna/uYJI7pUF/w8eVX6KIre6v3VFlZB695rHIW/VUkpH/Zb0rbVp/nNPJxT0V/i0cWMgVaCSZ46PRg29NRdKRhzMNRFUdkCehNyrM5YFdXGRZvDchToVZsAqZacPd8IzJHFrdh9YdyQ1Ztt7ZkISZIOzdGKYhztWWC3NZ8BfhjNrRc+OWC9fRYs9RnImVyxudAs/WCMtRHR4N/x1FGI5gwYTYpnDV3/8dmRmgx8nV9tEJo/OdqlPNYRRKFZzSFT+Z8OAYubEQoYlZW33NQk0QipjMx2UZ5bpN2VSgTyLVFaqhhVaVtBIc2UiNkx+c3aCiHxLUU5FZfX9eE+ndyc/8ofcImRENjOO3WNENjfWSXP2e3N2fliOXigOgUiRCmgGyygxengaNlbo14V3rHPGf1bkxGSvnmR/Cjdq+VX4GXimvHa2T2h8n2iu+HLVk3izj4hI5mTrlYhB52dIXCP822W4fYXR7IN5uWIjTmVpq1E1d0idPojEMFTYUni8nHKtVoPJNnd9Z1er5Hb52kdIeHOybGYkJoWnSIQexFi2fXFOs4N53hjquzdHtxdttHj/EoW/eIg/lYEgAmOzAoj6ElanomN10HUiLHg6bmJjKWfz4nFEt4gY9FR5ZWMqpGUofFjm52kZiXkaXEKemIY0L2Rzb2f5qjOUqSgf40N8v/qHOxJlBjlhFxyFVRFXWPR4IC6HngpmaDJn0Ax3k9uSV36FUEh0ZQJZNHJmI7dnIJdGEdiGu3pxMmNI/y5i3AZJVbiTcaqJXJRjyZZ23z1Hgu1pTwJGVAaU92FGmK6FWXx3xE0VpsEnUHuBFv+I8JVEZ2SYZ4yZIiZBWqN30/c4GYpofME5cxGDYryG4Z1Wp9+JRq6ImNCT8w5DZweHMVtZj9RYNCeJm/GE4fOXEgc5R7RlacFmCLqV1P1kWmuTQFmVH8lpA+2ZpHhnOD1nlxVI5c+WOWo5fItVMIeZCQRW0MKXHEGEnUF3hjl43aV2FrJkctaX7O6ZG/6XosU1bG/2iWpGRdnPid17id2viazEhoeglUeimcY6eD5daCfAZFZrgR9naasPmF0PRMKceAOYeV+MQykNl9tWlz78lPEzWXkalzppg246mWnkeglsmaC4qaVOSgmmJ0yBdLE4qKnwdxyShw+uWXCMVDrrSKOLeN4bdTojhJXpWfr+d40pminbWivNiJsEmPD6pYXid6ScY/+eJ3dIeglpdZ8hadDIk74JacLMgWwhmVW+NpchN0ITUxTOqdToqe9RileBEyOZmbSEqiZtloVjWO5PmWMlqgWZY8EUSjh+mixTWgZio4VrSKgEKddzNtP6dOECmnv9em9mic4gaAC7eQ9xekDP+aZgYkqB/BlyAxZbCZOPvpir/Upzk4mZWloVNBfOeGV1pYlsY0kuoWTD85WPwmj0SIXVeYp6LKdlcJTtymbXP2pRMENmSKqbMhT5SYlaOHnT/XX23YWTTJTagzZnfJj5qpeMUomlnFq4hKmcV6gCGYM6R6Yi4KqTanngf1kHWmZuMSnLLWjIAnopq0Ldxqot76qAGZfn+6mJ9Zpy1lqWrKjTvJn8ZVobZWUlg6phGjhIv6jlCoivnHm83Jr3zaaf6lo49WsAQLaptysHDZFZXWncoZUheqZX93Z8wqlYZooYHhasKWsVUzg3InfB5LiDhKlmvqS3G6d/U5s+LyXB//03oE+a6DRILB0XVtEW1UqG80C3/39TfhFXpk5qvCWrCguBbZ5He3uquX9kYPN1dFWW4HeoMoeIERRWhQC0dQWopgWbUWebXx1Y+TBYQV21ebI41EaZgnqLVoU6IVF1WgGJ6kqa+I2LbTiowq2IVJ2a/3poGJhrcEuq4g4bOuB4nYqnzHdagY6aUnF0HpVXz7Oo2mmTG/ulSPS6WPZ7iTSbmaaLlsEXtTp6TjdoVgtLmY5rEbKpBuhbheCXynG51yGWmr27hohljC06pYS7phSoGAGrXB14P5VYik8a9Dy3hB24upIVGKC66oWryiWXd0SHuyJrap27xSi0QJxaHb/yRsaxR29oOGLbp/4GOH61GtNqgu4ntq5Is+5cOjMwehmKtBs2ky0Thj7jmagRVoDylPJ0tSyWGk+suxCjZ4/4ud7It98paoybE4R6qUniRkpam35Tk4gth+3NusI9uZjJKuIAaDVUe05qpE2SWzssuRLxp3uWujBvqNwImsPJuAvIhgK9wjLUyhHPdhFIWDDmylGJumlMpssuow1duhvIvC6XuucIVQ59uBAsiNvGG8aenCddjE2YdPUhnFVzzFnTQ+WXcmYDS/4lTCS/mmTJWG0fKf4GhqBcacdQqy1dK0m0LFDEJPjNRRFHJ4upd7SyuZSkvGPKLHjMjHyePHef97OMcpuAoIhi63vkrmVLqFmMsqg0tLka/3PTlssZPsZJW8kSKbk9/VkN/HyR68GASbtRgsWUC8vAOYsh5mt7OyymzMoH1pR+7lWqK7erQ8LNFrbJ/YQ3SFxv1zihG4qf6yF7Y4t8TMi9FnZS8sdY5cPKcrkVw4a6M7iCCzdeFozddci9nsuQiYk+Q8wdYcuPQ6olpzybJMq6wIzuYsVxUbeRosm8qBhPKswAk6WKzLWS7riXasnjxjut8HJGJlr6N6psx8qPvcdpGayfoltKipzw89nGurxIasvri8c937OcPrbK2cUZjWcdN50XUrppPpLc2cmiYdU6lcy5Ecy6+le48ci2zbh9JZIZQMXWeempnqrNOOfML8eVBhxXojvGmd3CK7bKixtU8ieY/q2tBCrZBOsjRESH2rNKVVnbhbE5J65pB5RW1c3dWDyqji+p0E2E4jLdSSar0ZOtSHeKlm3VN0m7nJNjboXNd2/c4tlsy9+c18XbMpfHXmONhSysEZF7OI7bRi1rNJ3NiKgaZ8hrCSfRdLfdk1qNnLzNkMktkhERAAACH5BAUKAAEALBAAEADeAOgAAAj/AAMIHEiwoMGDCBMeFCBAocOHECNKnEixosWLGDM+ZKixo8ePIEOKHGmQIQAABk+eFMiRpMuXMGPKZClgZUGVKAO0nMmzp8+fC2uqVHhyJ9CjSJN6NDk0YdGGSqNKnRqUYcunJaFmpcq1a0+rVgViLWiUYFmvaNOCtAk2K9izNNXKnWuRbViyb+Hq1Eq3r9+9BHEivJqz7U0Aev8qnmpUcFCxhe8GRsx3sWWuhM1WhmjT8eXPjKHajEuxc1PQqGfq9Tww8UCcjlmnni1y9enWm1PCNj2atu+MhndPJppTN++mY38rlxgc9nCnxQ8fN+16uXXAAWTjntzbMOTewrdf/x+/NfttzdyjezcP3rl48vDNf48M2bj79JodV4+v/Djp3vNpxxpTdvFnoHi2xZaTfnwVKB9eB8LXUoLILdhUY/Q9iF6EqK23YVYKatfcf7vBpteEuXGIlIfv4RXieXtlhl2JJqaIoopdMThYivW9BmOPzwV4IY845jjkjsThdxCAGrLn3n5F8rQegfdpxJpp+UUGJYQtRlmbZHvR+NGVFmZJ05YfYuelS0zat+N+ZIbnGpNoqrnmmNEhpN2ZRM6Xno7QlRdRnXem6dZm4Wl2YoO3tTdnhSy6RuiakoIp5KFI+tjeZI9SZ6mdghaqkFGTDohonj4K6eCoQq2KUXKicv9J2kSm6qanhXL2GeaRVlIWK0RM7cjgWTciKFqJQJon43NTbsZim78GBS2VfJZHKlSEhefosbbGyBexn0IbLajegpjhm99i2+qP4nWn7kNPZYuquNGCC66rmBqb6GNNFktcc0zSKyqK/iYEFqycOrsuTiwq2SOd4d4mL8KUqlswuhRDdm+JDWsaHZZ4nVWrkxmPa+ew6c66pK+pNglvmTNCyi3JLLtpcqgob/gohsm+3KO8Gs+8G4XjEpziizxLq56NQv3MKMNPL60qqjrrGqHRtx6XtLmG4gYyhlA7HPO+1lpdb8pOXkouTe3Fq+uyK0NLNr83Z0ridOe6+LFKHW//SO+eNG9k9p19j12lou8eJrjNtmWNKtx141bp1Oiq3DPdHlvess1+U20ytYrrPfTgmPtM0Xp/8026iqAH6TXHq8vKmeesbh13zXUDGqqfwM486XwiS83cW5EruSjnDsn4u5PBd137p7+OGKjoGcp7vMcXuyw52s53eTbkoWfpoPVMp5f9tGCCy2rx2jseMO2Zk0t+RIDay/TyKgrs8fsv42v4lvVT2KLwd6DrqUxMt0NgpvQntt1hDm7BipIBT4asBFZwgfBDngNDBcGmcehazWJgi4Amu2o9CE7C4yDxigfC9HlwUGgTkQB9pyt32c1bBGTdzFSmvhGuUIQHpMy1/5hVvuQp7CI5TEsHuzbE7YFvfT5qFhFvSMW19e43zVqe3PZmF/TlijSF2+AVwye7JColi7G7XLIY5MUnJS6MJRxet1SIxaPhjjg2NJi6AAe4CHYLgLzqnIDu6BvbADKPmWqddDznx9AdMm93g1HJ1ALH8xHyjysMmrnoRSUzLtJdg5ykYiqZuISZLi+mpB6rwiaSfSkSeGlMi/96OBEZAZGMI/Pkc0y1RbZlkC6zPOLphPbLW4ktex3xz+uMuavUQIxPyLxdkuIYRNdpTnww41ra9NjAlfXlmTgspUMAd7kJboqarwOZNslJQf3dEigR7GXvkvZE6LhtavyTnYJMOP+3NO2HlpjxoDwFR88dzu6eNBskzirEz8OV8W3C7AqVgjlFb5Zrm8wE1IvEGMk/VfBgjQqkFasmlYlCkoLXPOFd2KlMEsoQinGikZbWZTzucXOkX6EpGVGJ0UU2UTckzNcrD1M4lz7OoGo0IiV16jqe8lF13RtLH+8y1IRNbpvgzGctY8mT0Y1FeUi9aUpTapfm9RR1R0WcmbAHPczlUZevqtFXaZhUOorVkRHjnQnLma5rtU2IZrNdNIGSS3Eek5hK0haMrjrVbpJUeyjSHb8Ge5TCklViiI2fYsGJQfQ51lh89aX/HgtXJC4Mdl3LFUDXKNNO8Wp8iZMsnrZKWSn/nXZ0qXXjapsk00vuL0Ow7ShOL3JLw5Q2rg6ybE9517jt6VWPc8Oa4Z6CSJo90oS7RYpGMSvcmjKzofozadmK5dUUWtdsOZMfV0kiSgeCzbx1NeI7L/owh2pOtt4rKpGO+7I6AXRk1hzefNGqNgfiV3P6haJteShOV0XzrYZ1olAw9NO7tnBxemSKa28534oUrGAOjnCyijVAq8AKVv+0KSmfJ8p+Tg+eNYzMVBtJ4/vt91PLq5TbKtxhdAZYJigULSNNvLTqqjXDER3mKgHL42IqdZxOBk4Rm1vWJLvunEOda3ylXM/PfnhdPWRnR65H5ZmK8ZxOGyR5ozzMLsev/2zYDDO7YDLByLrxUME7p5jHKDhWatCiGD6s+dbr4SKC8bQIzuSbH7TnQMsXqtKEMgyR917+9spxCpYwK/HWxB5O8LkgbXSLXCnQOctli5ycYSeJ6WfseNrQiw61qRfKS1yx2SchHNKF9UaiVPIu1f5c6azVW1wiD1rITuNoTHJd5SOvFW4nZqiF+3qs8Cqs2I1kJegomtO1CvdZwD3pNAe6TC45FdIjjrD/3JXnYeM6XXlMb0VHOz1y+3K8wo72Yyva1IiJGsb0gzS9r/peiG330MJCt5J9mPDO2fXdAZequHEKYoeCDqwpXbVpg93wdqXVey6J4JcJGjsSR+2GW//y68QdDVRGZVzdt9aIyMWZ4kmZ3Ms2zfTMNw6dgibyVADPL5ha3exRr9wieYEjxFTO04jXSIwUJrQchV5pl9MXpcNtc9JN5+xdNf2gT0dn1CHezrxtF4XALk3MWStoZVk9kq3G5Gfp3GCRnj3GaafV2nnLReHp2+O4nd57g96t1P1Y0iBPPIOV/nFU702T28xep6Uu5YzCD80SMbKP7fT173oc0y2TeHAfOtapPLW+6gS8jAn56jm2cvUU26jMRRyV0zNa2oJc/W4tySbYE1L2lc863fE4ZGX3e6uJ9i9VT6VMsQU+iJK19KTtWfzNH3/q9qMtzJu/6OeXPcRosbn/jT1qu2Bzls9W5P7hy0amKpa05OP/bfl9eH5Hl9neN1WkZ2sPv1w/PHDOpXiAFmuk00jPpUAAiGzop13950LnV3BLU2FcR4Bb9T5/FVOg5G7CV1mXVz3oZXbhNm5+NyQzZjGkAzKkxld50WMyYXiu9oHVFDMimHsKKFRtZXkFJoMh8xYsyF5OFjwp1mt4pX371DJGs2YAI0kXlHVSxBUiBIQQJYT8Nk86hWUmiIT5poQpaEQS6BXxBFgwdHOXtkjPVVMa9oGmIl5WlISVE1CeknLLV3oBZzNPVWXt9VuI80VVUW1DJn1ciGNo04WXlWiLx2q2poI5h3gjc2C/5So9/8hlgLhva2hHhMh5wvZruBeAchg6iyhS9iFZjxhXz4NdUahKT5ZmfVdo+eJ0dCg80OY5oVgRqSZdQWiKmdZFqbhwXdc/85KJa3Z4saiLd0V89HZsRhiHnwRfU4dQe9U+F4V/ufJvS1GKvFiMbEVElgRgC8eMV4c+9WSBJKiBI5FECBiDcaeDuTd4zONCSVdqbiNvO1hhrxaMqtgr0WV15wg+86NZqtNCK2hrstaMiCOPwmSAM2FtgjiAWgNrmNRqZkUYIAV6E+NbzxZ/rteCv9SEE7iQ7neMDgl0MRORkTaRKTZwbUWPGNFckgg+54hwZFRorqWOtsRdiVeSMOOHmf8WYCOnPS35ghepdcQnk4bIcaWjNMm2bCAphS9pUd5HlJ8mgDHITBiXeR+HSW4WEmallOsXemFnV0+5ifM3b0f3k80lPQuWgNO1hJskUtIFeatoiZbniEwWVl33dVqkcOPIh/HWWw2oh4c2dntIlIVnd3MZX2iUkLzoh4LFfDIli1UZmJbYfuvoktOHLjs3ibdyVSH3duTClzFXfzvIYJKpbbTXkdDkQdFkSDdGWBlJbekmkFS5Y3h3iM00e+3mbZgJmVJhbUcGYXcpm7zIXC+Ukv5WZMr4cjj5ZKSZk3yHfJEWbHBYKh7IhrPzl1t3jarBh5SVlc7YkS+liX/omNb/GVSId4SK1pObuW7mVZbI2JZQWZQdx5zB+RL7CGSomZRwaVHG9UaRKIxLxnJgN3yT2RN7Zmd555NcEkC5FXDUOYdY5Ynv+SisyZu7cqCSx4eU2ZlOhlDSqEyMWIueZ1sHmlhd+YLsBmsGCaDkZ2NbKIkhaos5NaL8+JH3Bp7mF3Mb5luypnm11Z0Vunf2mYf9yFQXpYa0yJ8wkYH7mXq7xpJsSaQSRW1Qo0hLemdFiqQvoaTLx6SuiY7xo3IoCYmmhVZfCJoZClPDBn4waoze5aNbllM5dp6UoX65CYdlqJ+JWFUD2qbuBKQgwZ2VGY+ByJniSUEPaWz5iW/WCEXu/0l4mzN1eDaoW3lKjHKol/lyfLKo+WeCVKGOlchTRwqgD9aLYMoyi2maNkp/4vgTnqpep2mdYFmQlEhU8AZppwqfoflAUOoXJolzmol1WiZ0+wdqu1p6nadS6ClLE9equ0h6XLmTuJkmtTase3ioyYoWaThhjElcHTiL2nqGTXaU0pgR1+oV2Rp7q7qV7ARS7OpCuxRuYUp9yRkS3niJZPiep6mSdcqpFEeXtyefA/gX9eqkmmeZJ3mcCLqfaIqDw/hifiGGWuVTXepRTudaZLmltuaZWFmaUQGxveg4u0axYGexS1ml+KSWs7eJ7weJVdZkagqrqveOi0VziMZ3mv96ZPM6jSw7Uy6bN5PXRKMzVF+mWG0ahhyLrbgzeZVYdELYMSZXpvBaJY73LzQ7lWFprkkrqa6qUkBrZpNlgi2llyEFeplZtXSFdXMhPXEqQ7uXpwYFjsklcA6Vj/iJin2htrEktP0pmJ/3qGqzj3NDtz+Ji5dxj234cyhXqRjqt6eInQU6nERzdYthuLr5tYmbSpIZqLB0p9p0WUz7sFWYpmBom0k2kS27uMSHuBtohXfYqaHbp3BEcnaFQOfWp/vXo2zndZTXbd4Ct/aVoBXEoTNLrIc6mDcbm2NJF0bju49LOW5Hnt0luSplvMmrd8dbuCcVU29JIxPZcqkbRSj/ep2VGJS7i7T3FVJLFzWbNrcU2VMl44/uan17qhx6WjUICLUSp5NWhoe5OorVSiTluhj1qy9LiL8sg3njm4xvebiCSr7LYVKqNahTCZu267XRO4Wxi7zxeka3pVsSfLYU/EvwCL3H2Kzk+ru/AXzbg66aa3QInFAI+6bdk6l42R8Vkr4svIAu/HjJWLCMC7A03LqfkaKMO3NPOLH3KoSfC8Rbq7/xQcR8Rbjo1zGd6DR22rCAuoG00a41GIDRt5r4elaBVaz6lE0SRGQGelQkhJiJCmU+vJaOlnrsc2ZLmIFveGNFiKYISWQnqrIV4z5jm04Wol95fFOPG5ABmLPO/wQzm/VaNLm0ACmrbsmPUzjHnJixmBy9XTiTFIOFrVjJJmN7nGuzgQx522ZxMQSLmTy/NyPKy/Wo+7ItCki5WsmVSFO+hXRyOzzJ77pnF5iuPyqy+bTBQ6zL0DfIs+piV4ayfYa+mVhfN9OO0sq+4vrI/BtaS/nL2lyihCO+3/ex0yvGn8jDC4pLdcyXipzLuQtIt+h7iYm6ARrGRfO21eujBeXLcsth1mzJSeiXGrzPzoh5UMwvxGwg/Wyl1lslWZy7NTp9BY0j9ZpM7LKuZ5vOkRPR9qjKaTd6lpykIaWwVAnS0IxXbNS+TNzR3Te6dYJQSZNPF6etPIfSE/ifDLr3tRQNkYl4yzKtdjBUXWRGxg3VhTq902r3wiYHTj+7v+zMykQ9n9hsZ3BmLG3roAHc1KqXVNnXsLV8uQFr1RhWyEx0g7l5xFHlp02thndKYHFkqbNKtl49TLE8s/O3W0v8w4v21shl1uaGqM5Ja3qN1+P6ZCLZ12X80Ci9kzOJqW63sRmM1ximtP861iatdRY9xxnoeg+Iy459kMaJ2Y9Z2ZtNr751vaENGiVD2qX9xJqd2qAB2hoREAAAIfkEBQoAAQAsDgAQAOIA6gAACP8AAwgcSLCgwYMIEx4UIEAgQ4cCAABg+FChxYsYM2rcyLGjx48gQwaoSDLiRIoiU6pcybKly5UVN8Z8SbOmzZs4Dc7MuDOnz59Agy5sGEAiRJ4ohSpdypRlRaMjiV6kKLWp1atYhwqUyBXA1pNPu3rNSrZs1rBdv1L9mtas27c5e7Idu3ag2LEI5cLdyzeh3rZ150LNW7Wv4cMFJc7sGVYw3cKII0suepIgY6JQ7x6dzHnvzMEDw+qVCbmzaaCf8YbGXFnk6NOwWwaOapn13M0EFZfWGru37KS4aVO+LTx366m7fSt3mjwq1NSvl0tH3Zzh86q6p2unXhs54e68g2//H29xcXPxq8HrrBqdvPSSwalaV62wfXv37uEXj0oVdP3z++FHXnv+BYhRgV8plJ1fwAnYF4H0GXgRgsMltCBh9znY1GXEcahRW8Yhd2FiEWpYloeAQZYhcSGWZ9JfJZq4lHkfzYZeR/KpyB5R8y24ooww7VhjgzdylON64PXY2o9AhkRjegX11NWPTFYIHojCQQdgkyA9iZ6UXFG5JYlIUgaafmqNyWVKFGY0pZAGtlmhaKw1xtt8Ra7JkpwThgknmAo+luagVkbJo0l56ukaaykGeleV6mFU0pveQamoSmhxlehdI+KoZpYmdRqehJdahOWVgg7V1pl1VqdjpC1S/zrnp6Waqilv1xG2qmp0/ldmkZn5mSCptXZUYIbHhnorlq8BaqhBmkl6KJrFIpSsmxEqGSyrvpL5LImnMggRtdVCm6qsqeW6GpbcWiouqJGCJmu5IqmLLna3mscur3B2S21qxolKr7FisQhluH1i2+56JaXLr7mBDmxXwWZmy2iMER94a5F1zcYsZHLyqei2FMPq7a9dEvmtrsK6qBu5xZIc7msUQmpos67Oy+DLh0rs2LhJ6QtWjvIRbCO8o7ZI2rA+V3xdxzvyTLTKfR4NM7AYvyvypVPPZnPAWSsJsYF48ueq0bRq2HWDX08sp9jeXvb02RwJPDCYHqIc7UesZv9YV7DfEdt0nMe5G2/JHvU95t9j1dzz4Na2di/g39Ic4dv4Bh7cm/2phjDklGU6aeMWb3p52JmP6nCO8m4MOtBJ7na0yWWDHbh+/14sMtxtO+j14wzTXVuBn+P++JN775xv2iZ66WKiKEcuqp3Ic+qYyFsr6ry/n0I4vW37Zbpr8pFDXnvlAF5tq9I3yw4y6a1TGG3v450fe6VVto6h+2PvKz/F9JtO5yhnt+jVy3XqWw/mjuQ019FrgKQjVKVW8jHorQt1DORU1molMwC6z3L20d3p9Aeq/w3PeoKzIHk62KihgDB9IjQXCUdXvgvOD4Z6yh71xqSz7RUKbh0CkP//xOIwkwFJh+BDVsvi874Txi9VjvIcp4poOLUp60tBcxUNZzW7iUWRZJpzjgPDlzoDGiw2vNNRAs0GEcoxsIbSW9YYmTizfhXKiBXrjOUW1LouRtGPpHLe3DyVMOGoK4wFdMseJSdFQMYRkHoR5GOqBKHNHHJUiSSLEnXDOapNTD86MyCdbBYsGGVMfXlDzCZP0skXWnKJSTPk0PhGOlNaKFWRfBVsBplHL1aRialUYufAFsIJ3gl4GuLlvvBonmDycGhPLObz3rXG5cBMg2es0CXnZryxEXI1uZMaolzkvFxmT5PIvB78TjcsgJmtmycz0o7COTT7udCO5tzgiXTJ/zRyXtGGjzmnGAXqyFimUqCwO8glsXJQfQLtYyki6D+RQkl+uguhbFQoFM+SzlvyMp+hTKHbHEoqJIJ0livLqMHId5VqjjShJ/2ewkhqS+Sc1GrzxNcTMfqTJ4kPgWqkiONCcp0+IvNjvVKpLL2JNCBelKRB8akIFwZOocaobUVt5FGBmtTf9bOfxqsj+/ZCPHair1u3a9XPqtpM8GVVgr0MXAs3Y7xMHaasTKWr8I5JqOS9MaNuHOeIPvfKS8KTcTydkU4ftr6U/rVMYEzcOvG41sf+EpOIe9BiKevLSFkWVdnElsEWyU3+SQtsia0J5mynVBVqtIsjuua5KJbajP/mbn9t1GDhrLLal7ZWpJGDbeFkW1g5OimLTMTtQKfIPJ/Mh1qUq83UvjorlLlSY0jM7bXINq0Y+jKkAVyUj1KXrOnesbqObU4mfYu/iULJQ4h1HclSGVU7RnFst/3WQt8rxHWmqKCEDR0Oe2mz8CKFs6xtUX5BG8iO9g+FnwVX1tZrV+DGMicSpS4FC8dSuRo3rp2t2DA9itIyQc2C7vxJhs+7YYdlt5eRZV8nQ+anXMLUwSmtLcFeqWC2FU3CCU2uLEMKVhw3lKl+HTAqLRoUe0kxyO98Hy+F/NOaIk2UZQxxktvLMSZfxcnBi6NNH7de7UJVIw1Tli1/pC5pYgX/zO0Tsz9f6Tf3BumhsOzxRto8YKXY2GWoQ23pLMxgOVeKk2P8M4J/O1YW00TRykNrA02cNjsZepqI3i6Wx5yxRvdUzUF1pplJiOLdBHhX0vWxksLb1kJGOC6gDp6ol0tqkcKIxtGNcqqJ7JFWN/bVzrUziWMVQV+a98AjjW/y3rTiOEZ0uItrbk2cet/vFrudRFtaspOiWykiWtvOXl5so83Q9x32n5aGMVA5C0/05DrAZrylAXkGzAbpuNfmPt6hWvjE0dr3rGR8cIJP+6FBG+fEbM3yp7H5WmSmu6yj4/VQHR1ESv+nwhrWaOzSXG6Gmyu/tSaUtnYb4kJrdL9r/4yvpzXOX47D5b+xrmo/ZfU/Xpssyfb0rCcxHucoV1DeV14KzHvIbW8zMtxuHqniegtlVDkuzU61nF7rW2tqW5uYpq1txJlb7xiffHk4DW4THW1gNI+zyJ97d54PdmZKdzt3ZTu1B8PecIFfGCheH/nF8amyiVPUu0xNt7NyG/erqneyMif0nhA/agzyffAp5fSkWc7jKrLq22Q/vL9d+hJ4m73yJzRmGB/5QU92mYFS/+HYqdrkOeIb9BcU/d2xvj+c1R65QGe9Nhnr57NfNlFSHT3hogXeZ2JbaAf3Pd2x/WCb48Setn/X1A0qZdquXYnHj5pWFae3jQ7rUdLGlP++p19DSHuq1m+tW2Yp/tvzuRyuMiR5fae/xv26lmUyDmjbJ7/ypotx4/iySGVnFlTkQ4i0UaumS85igP8XN2OHRcU1gPvEWgzYfXR0fR1lWO6DV4RDO2S2dkphfyKmVmRkdQMnaS6XSHAzce4kNzEicYb3Zt63bSKXU3L3YnqVVCyTa/djbDpSc/KXeehEYyDnel3kVbZCX7mnW432XJ/ybIJ2by+Rc5/kcBejXGH2e1UYb82HQtTlhHsmbkbneQRoejnmep4HaUiIRSy0PBmHbDonaP5XhnV2guwlfelVTj/oXx70hgQXh0o3SeEXJGIViG6HOGR4XinGXeNFfK7/J1pklCyahodUl2iLtV16d4ed9lQe2IjWV1saKIkGR4lC92HdFlj45WPTFy4imH88B39ayEz2FoR9gWoN5IjuJog9+IrotYl8NEZ2U4f3lHyTcTSOyIOG0kIMqHtiN1MVtyjCuIlWYYyfeG2q4oYBR3kWVmbq1opmF41AN43dFX/jgzowt3ehNWfTtFY7+IKPqIjdM4gp438MF2BphDO8KHmS1mEAdWl5pXgSqGK8F4vrCGLsI1WsI19e+HWrs1W5FpBloXttQ0WB9ydEM0Q3yGEtQ0XMqEipk4/U92egxFhryF1yqG7VBoh0Bj7x12WfpmcGSYpHOH6qB2U+5GKI/4dro1g96UaBpgVrklZIF8iFDQQ1pWRRYiKUkcdyCSiL5GcT0QeJQ7mUgmaUtYSU8aiUi5ZV45ZW93dApcV8JRhqXtZtjZaI0Sdc7VJ4/0h0TYhjLQFzO1RvslaWTFhyMSl8AHhpW8SBtMeJAIdhE/aO2JJLhVdWOzVCuGSFN0dEnuRkc8OK/AKRUvl1bBKEIyaZidmSTcV35FhiDhhEVsd9TeF8+PgizbWC+rdshgdd0FZIGFVHPxdGlEmDpLhrtAhogeVxmeeaFXh16ieKHSlkN2GCSvU9YOhbVuZECkmUfHZoC/mVi1iP+5cSxukxJNc5BWhqhseazrmY0MlSSf+pZSgkhfjmd4BliVgzkhMHhIQnWIRZVSTEj+32dW+He7CGnioXmCTCnjHoaM92mDRlVcRWPDQZbhqEcC/ZctwpULx5Q0r5m344hSpza9j4lRS6l5ZZcKw5V+GYjdL4fBXaoBeqeNOmivGERWCidp2UjtpWkgOHnjB5XEpYnCj6llnIWom5n8dlkyS6cmsmj8uHd6CZW5u2HxnZb4vylTv6b+qEFMNZijg1iU+ZpEZnnXCpjeCHR7z5H1FablvnoRG6WSjJf+oYlBuKNVGoi8phlRBacIcTWR30d7LHmWoaiFOmHGk3mNs0mNm0pSz3Udonlg/5gZW3ZBKaFXtabYv/2IWfaUuCGnroVaiHmkRGdqMeKZowJJvr1ydUiqSBNmSKOZ992JupKY89SmBmaGYK1Km28qmNCnCa2ZyT15OJ902HIXjK8mzHOINHWmAEelmQyaeuyj3FyJK0Joa9WmoWh2/ux53F9UXx2axvEVNPhln8qHMRFnIlNK23mqK3mJsFhU7tyK2bE52qk21aOmjGiYXgmqBahKqKJWcSqXDD2Iv2ea3LdIb/WJngpko/WpP8qo7e6J0gNol+qX5DEhmQ6kEyhZfhliY843lmOWx4SIULC7A1dEMPO6GGKGATG58V64/pZZ4YqqgzGKUrqn8VmYIWs4A/tisVpZdpaqKl/5iL7FZ9RhpPUGOr1Ag0FcaNToldA+kbm5msXQquOIk978hvZ1Zh5nWK1WkYRztySYujeKpPGQl74SmIyoaumrWx7min4Ypn8Pp9YAuxf6i0ZOq0aFqt0AqgirmmZst1u5et7Pe28Kij2Mh0iOGNPyuswChHv9ivNnukXFqq9Di1TAG4fVe0mtiNRweuJ4u4guuhgRsZ3LiycBSTtgiTSZdqPSid/0RVzvcWm6uz64qY1iiWofutCyYtnwuqQuuREMKjbPtTJPuZzbi2CZtqDFibNnq7RWdCPcePFOuqqXuWrYmpi1aGKIiVzOmpjPuxWnKIvytgnSu83HGx0tuPr/9avZUVgAoobBAXt5VrGAjna5I0F6lnuIwjqc8brqzLNbjHvnY0X5qnjaKrep+KoINrsr1hmH1Wd7CbU2Mafe2StJmot75BwHW6hQfcv5sIScj6U8IZn9yruRq8qiDKX9FqdggLueyoVOPqHmnowTdJk4m4s4eTuEiFwNrhUgz8vecDhVqohqq2w/3HRb5nTVn6pEspVUr6rHrra0Arw34YmeKrvsr3mKHalZI7vzACM7/JsRZTu3r0xMupX685xQS5nh11xQ6bxbkpQPn7xZyKVShlWRhrWwFbXvcrr7maxtUjimzcsyO6QDg2u0n8lM2jSws8oNiJnRroleDLWVb/qicowlgmNYuGjICmJTT/G7knSS/0xhznKpJjLMgt47c4Ob8Oksl3BqqcDIFeXLjee8mH26b/hozxdhl6qIIZCHZ0XCw+BMtUyV2zLK61nKevE4bGGyhRmYSV9r1aF8RNsqjG7MD9eczWhazftMGcMavFvF7ArDUvu1fyG8x2aJrk62oezLWMdllv/DpTA6itimdI7C4FdcoMGkJaLCPp7Jj4Zzbj5kyv+5RQt6lnfDfCxpzjScFhvLZjNs+10q7LNdDfmr5EGTwIXS7YyarqZ14uVUmf583f+JEBbcyop8wYDYcaPSQY/MVayVdqO3OTqcwjjY7hmqge65q+uNIO093SsKgzw7y3Ftu/iUXNOURyOD22eLlIWdjTt/xA+5abYprIQGbJupbDR+0zo0PUDbanSlqXOWvTL/qECrl0NcbRrByiPq09LH2HMdyiPhjWH1rTNg19P0a3gPk7+8nMsarVIrzNKzubPgy8V5iX+CrAdn2uxBGpZct2H401gB3YFlimCMebozTHu6vYi5fV7ryr3kowiS3ZAkub2oe3RHXZmv1oPGzOUX3Coe0Scu2krezSp22jYtva9By3mQ3bpqGDtM0ltn3bjBzVul3bvO0TAQEAIfkEBQoAAQAsDAAOAOYA7AAACP8AAwgcSLCgwYMIEyYUwFAAQoYKI0qcSLGixYsYM2rcyPFhQ48dQ4ocSbKkyZMGAQAwCDGASpQwY8qcSbPiy4Itb9bcybOnz4ktCeosqLLoyp9IkypFGXTgUKFGjy6dSrWqxYYfnR5VmTNqU6tgwyrF2vQmV4cuvaIVy7YtzbMIjSqUG+Cr27t4NcI9SDduUYF28woeDBhtYKJ/FwoY+pSwY7wtD0NtTJAhY6mPMz9uilUgXc5r66KlrLk0W9Bdb4KuPBqz6dc8JUe0vLV24cKrYeveKVshbc+2ReMO3Xu3cY60oyb2HVo12dsHfx+fHjK5ctfRmx8lazg0a9LUw9v/XK6V9VzM0g93Fc/+Yt/yA2UPTe89fuv2+BUDB242KkvtnxFXH1T5FYjTfWn19x50/CWWm18GRhjRdeT9lxIAxYGXnYTtUaihXXudd9WAHELWHWvc7SfchBieuGJk3cFooX0lCiajfSmmxWBCe93oY1Z2PVijVdbtmONk2DHXWVqokTijeUNWVeSKw4FY4WzPMSlgcTt2GWVSUxbm3IVGLSmkdNAFSOCBEnH5pUlhijYmYmUCKeB36LU2p4pQMvdmTe81ph6CYhbl5o7z6dnijQvS+CdKgWI3KJ9yGurkhvClaSmjV3r5aEdoZpTboZi2SSibOtKZ5KcbhYrRqJea/0rRepg21iirFdF2o5chYglhq/WRiqJ2nuKaXY93IubmYRrKiuqrWako7KO9LgkdfdcGG+uxnWo157S09mosXy0OCyW2L2oL7a3ebufiiCqKO65+WlmbLoy7olpntu/l+O22azbY7Lx9agkrvu/qaym/5PnrbrG/CrwqwX4eyG7BRi628LMJPtwxhUEm69G044Z8saMFWxcykpp6WC7HstlLcaa+pooxzNGiam+iyjWY8bkkkhzlwJo+WapokyJNrH09d/yzo0nPbC6mWAXo6orOfZiz1Vk1XfXEiF0o9YFJf+3c1bRePbXPSqfmYENE20zz2P+5rWCeEjddLKd5Y//X34zLnko3joreDaXLiYKEdW16wydowhXH/WlZiPcbY+FgAy1ft41DjPPglFeeuNISz3r5eaR1TmXNnhNsN2Zxhwpr3duOjuS+HCs+eMvkxa5xypCTzuLNIKvL+u6tu+ff6jLPTfXWsG8cMNQ5Iy+0X2oSHjG9O0cv7+PDIc/y6sMVXyilYpNPrkTZs+/3qtdz2D7h5leKftjqp4+6x+7rn7uxr4sZgF5GJrCR5nXTkxzKuAewKAXwUqEjoKpEVKvlUUqBycuX+C4SJ/DRq0oaa9S/TKXBD24wVyGMntGMxh3VjRBLJdQdq4SUPg9qTS8SrKHHrDS+iq2wRjTEnw3/wSY0ea3phQns1s2SV6JBWY5ticqX22g3rF7ZSlIN1NXvaBa/4zixYYqilJmS1Sh7fY1y/mNipUJlOwcmK4IFjFQSm3YWLSbPg4BrIKKuZEf8zK5dceydCttFlzpqLIb4W2K64AVIi+VwOmh01N9SZTiDYa6MQctk8w63KAHJC5FSDB5sIlk0SgankJ3sGx7/B8LIpZJpjwRlwhBpI5FlJ4IHfGN9UKlIKiqmKzAyJJ6SqEgM3iWIa/sY/HRZQDFmsXpka00wX3k+mrVxeqY5W5aKpbpfFQeYJJpkkzQiQGzKz11Hyp8yKbInehnRlBkTWjmdJ6ErWuSJyqSjIIHW/0t1cidkLcxcPldVLT22xZ7jGV3l2ObMp8lwWM375xb3x66CUuea/+Oh+iL1r1UiyWxvw94yC3W3JbUzfK/B6M00aqXLdBSLIgXpSRuZR1QKM1UANSiYUljN5l3RootcHEklSCqVLQ1ZPVwgKeHpNEf+cClToo9GP8rMoGZNeur0CO7i9TI4fs6ap+TjRBdolcZdRqR1WtlG+Xe0vfE0mlPzWndmOlQKoTRbbjHrIAN5U37ib56KjNNdhSfXnmZyocLDa1uM+lByXdVyZ20XaHLpsFyKMDiGJV5Y9+hLIqUwajx6W+PY6D2ijhWiXeuWYJmaWbIytZ2P62JMzgTBS/9pCJ/aBGrawtjWjUDWQ/tbalho68P1hVah6DxkVefELtkytFJ2Pa4EjUkVhKZOoAhsG9zYirD5OeuewIXuXhPZW8FYl6DYxRwI0ZWtqBp0Wi4bqjnv18+8inWr6yxvUzk5PXmG85G8Q+539Wve+2K1m+rE5AXxJqr/Jm20giNwVsHCLO6ebqAsHGBftWdVAMPynaTN7u3eZkZo0hIpFX6aSa+T4RFH1E6aEiB+h1kv9aqKa+PUmU6ZsrQ0/o+XcJWbtHaJ3sBhcowjM14lS2mqk8lEuPR0LZDj+j5eFfmZR4bxLZXMOAb7zskH9RiYF3xD9YVyk8wzcW1/eqVJ0nf/rdSdCnOVSN6TlfDM0Iyn8bT6vssuuLFjnu2Obbq83OjzuYr9kelK2M5Q8m5GLt2ncXeKEULPL7tLpl6in8loC6uYt/wl5HjnOxYi65CyeRb1dcErUahsjtT+s2ybLZiuQNNkqo5T7TYdS2tYk6vVNabgm2O9zMvic7U9QdiacNnVHXP1qUEFrDs3FsVU4w7KDdIoXWeibPgw+8QU9KimJ/xNRdGqlbzO13W/FxznwonICN7er8C8YRDGTa9+dd+5b+zhpHqWrwL1NVcHVm/t3pvWo3PTXtaNVZFSJadq+/Uz++a+Nm4bOaft7eYwydF+c1tbX2OnxzkZb5qu7uLA/xqYWtGKxY67m5F73DcniwrqCSO6qfNcMUXZCmn06jV7L0dhwRY+Ui0xEp/7aya5L3zbQtf2zdEtXVCHO+jx4jrfoR0ymitOZzun9uaqZDErS11pq5v6ef3D6a7BezKvh4tzohN3sv9bzDzhedg2xzndFXZErHZ6xM3NuLzJPukE232WXzehww3f877r9uxh57PIw8IzMELbp0TcM7CgjadqL37ZntyhLcHuk8pjdFBXz6izVd9kMFYYoZMVvWbjfBJkJla8196uIbuntUjmeKXwbvdbc1lctZZ87oHNmXVyb9R0un1pv3dtS4U/5bE7VJK9lnOzi/vs2yPVuGfclv8WI862tzPcx/YWftLB8n1AC59yiMztyNe43fWb3+dV3rJ0UG7r2JxK5ic3a6vWMUjGYd0GYluCIA+Wf0qie7VRYUFXHf8XYV7lb7l2Uzl2gB6WY9sGgCpHFqgEgas3ErsVeHOEf6ZzeaP3S7UFWqBVPMQ1dSimgG9lNJH2ecfjVvXFYUkmQy94HSXmVxHYEVflg2fnaEKndgO3gRN3e8VHg0rXYq61FEV4NCyFeEcnZl0GWhWzdV81UyaoVCP4cSTUY0o4dnLHazZIZ3u0SvC3ZkUXhIslftADetCWhlG4QGBWgWLoanCoOHJYVo+0bYWFfU9zGRmSGGmVSQPGWVP/yIM6Jm3VNYg8J2qH6Gly807js4iN9UNLJUBlk2pqxBv/pU0xtYIQl2roAoMJCHP2w4LA11BwFnD+t3hohl8rRzhotopAqHyiaIWCB4nGx2DTdxoJU2bd92nM54udNTxCBhRadh7+hW79d2vHmHl9BzxDhTBB5IXZyEHRGFrTqF2klxRE542LU3DZM2PWB41eiESst18T5E90OIngVG7ZBk3r2HDtWIavJoOxKI/jw4USthNINxGex29MZnSPiI9plnay6HgCOGo5qBQHCZFOmF/7BlScN253ZHanNpEC1488EV00R2MuNlfZN4B5eFWJ6EvDSIi0yBYm+V6hF0jT/+RnhZdULlk7WHRnvJVipTFJbkZ/X4RqKzZEikOUTkd+0NiMDZg+oWiOmyU343dYulZZMPWMpXQ38odxUAmLf8WIeVd7wWiKzriE/0Foayl2xFaIXoKO/xiKgUg//AgTEYeWwmZKj8OWjoRgkXZpIFePWUeP6BaXDjiEZeddzxiYLWd5f/mAg1mMLHhwOleQj8hyiplQIUVeZGZgpzd8sbR2AhlNlpl4HbmDKTl3IiaWbXhgbChhC4hSfulKKFdN17eJ2fdkqbWHzChqfJiCimeIhKWIsTlFeSc7KwhFu1kTd2dmwQMrx5dmCGWLwSdHaiiMR+gizseAPvGcapWLOf95nDfpmfM4fdiZh3U5ZO1Vh+bZEx/YltXWJF7YjcupKq/TH+A2llh3IVq0e2b4E/EZmaiFWtImnj5JdPq0n3bokRJ3FgA6knhpWySmXFKndVU1YN2FWdFGloPVWCGnkK+xccmloJImh4GjOVuUcKKUZg5ZRX0Wm25BonDpjEW0lSTqlK8ne1vWeaWFdxhJijvHmN60eh6Uo8HITZ2JeqF3g1w5HjvVcdWHeQoUewNYgO2HmYXyn8VWoV/WZRL6blJqnMlUjsBYUckVYy2qRlwace7llDSWnt8pmglpaLQWnntnZUaIb8+DLNgGS7hZY33Ejj8xJZaDhBCWR9uTehn/w6c11Wx/alhXFH75SJMVupdqSZKtRyqFOKlkiZzo6Ibmdp/weamFKZGpCY2ayGtz5p+fGpS/eD92ypHax39+hyC0Z5ic6YqnyJ7Q+Vy7BaS1WolUFWq5SpDrJ5zBBYW/Ko/B+qQPt0WX+YYvmpnvaa0UJ1TgCI/nxZy+E61oCVvUNJwKh40s0qkzCagy2K1NFWibiXHZ5W4Q+j4/sm9v+Jbb5zwntkq12a4yOoPxOoZ+6KntGZEMeYLqhqMUuoaZ1q+e9Y/XB4BSyHKEFlDouUx2aoQTG2Uz+ottlLHHQ6PLs4h9NGI9SJwbm5vQmhc5FbFjKJSRR5wFOHTRs3+Q/6ms0pWryBdkMUhOeTpQAiY8uYiIK3qzT3mu/1pL0NKgzLGP6GeUTxdkjeeOTViNc7i03kaHTnutV8l9GbmQUXm0ViuIo8gxRQmICVp0k3etKuo5KYqtYnGbJnS2aIe0nXiqHEs9J/a2ZQtVhNmgz/q088aPjCVdioW1rapdaCOwc9qIZxi4bGtc7Fi41tm3MkuDAZWq2YSJ8fNiF6ksLUiaHDGARPqKx9Foa0q18slgfgGKoutb6FV+WLkbfcmhuYipFelWgWN7wVmcqGu5ltqWBqtGVeqhUgtD99m7Scm5jFuoVRdZqYqAYRuQ/lO4O+q4IRirYgFfkha9TDi90v/3s9ZbiumldAWntGhIpi6qXMgyoHiaQaM6kDXIIsAmrJuhebqpZ/M6Tc7yvskZv42EbBLXndQRQd1TSiU2TRJ7sA4KHP+Ih+S1nh+mtoNhwO65WxlooU/6ScGzqnRbrsl0lBT8GNEFZAvsTN2mjfqnvX/kifr4kwOkuXdRwup7wlZpJwiaZHKZoaqXery3lbBhbGJXfYhZoA+ZnT5rw2GKu6c7kfr0wZqXI7Y3thx2cCGhs4OBX4C5KVp7otLkno/Wjl5nTilMgM0bZlbUnJyIJdh5j2aInP00xvp6YZWKH0iJv/nlmCeYh76mx8B4owZyxz90aJYIVmw2eCdIfJD/CF71BMOcirFjZTJgxJLYF3V53JzdScWaEVvaS2ohipi/NXj5KUiWBsnM9ifTWT5Fl7jX55Wsi5DGicX2WyCprDSKzMpHvIQqZbiliUNfMspbOoFKCnQXNsru25uDlE5hfLfiAcz0J4s7+kJYGl5diMyg92Jm+q6O8cmRS7HMu5EbEycxCE4o9Y7pmh/cvMSq9s2nknsH+Ud+Ssc76UYMSrWgmrY310H0Gp38rM2jFI7was1557DiZU5ZeriLLDUlW5ame63iyshZK4EaC0AazKZnGbsBCNG+CpbAODncuXrj+847BlIX2sBie84RomgN5s5GCy4OWNIILZyyfE6K/7yDB+2sDWRIqhN9ruTPxhGGNp2vSVWuMgXEX1tBPk27aoG9MDymEHa7erd8Yle/cPspylGtsvrS63yoeMw1iEXVwAtEv/lpIJyzzTlY1yuPO33GBlKXB5PTBkTNPfqI/brWJ/RVM9usqkzIRrxothRZM40rb62yTULDtENzQgLYKG09USvDz/dmn6hlNBzYFO21xEtnl7mGU+PMmrw7u8i4+1md+XWy8HjX4KuaNfOSdXbWxRnTpr26vFrFsKmXRyOnKPnaKNR/TFrHsitttq2uuJ0R7Dig8nWeWr2UmBjcIzHc5TvBSkfS06ayyi0SVkqRjuijgGfUVDbdJVHdnm8coAW9ziqoxNy93MnFjZgTkz860K9c3iehTegtMeotvxiZ1O49tXBMv62Y0Pf9b2cYaAXF0/1NaWqHO2ts2dTN1gN+uQbOxY5Lggq+4PZMgXgM4RLuvJkdvhN64WTI4TMU4R7e1iAe4pph3ycREAAAIfkEBQoAAQAsDAAMAOYA8AAACP8AAwgcSLCgwYMIEyYUIEChw4cQI0qcSLGixYsYM15kqLGjx48gQ4ocGZHjQJMmSapcybKlS4kpA6Bs+LKmzZs4N9IsuTOnz59AV8Z8ODSo0aNIITIEwLSpQIZFiyadShXp0qZMn0I1KLWq1682r2LNmpCsQaZdwapdS1HsWIVmC6LtybauXa5Q02KMqfeu36l5+1rkS/evYa9xK848zJhx4rY0BTeebLVn3LEACGsViBkv5c8+Y14eq1kmzc4FJYNerVjAXLJRTzctzRkzgM0nC7PePdh1Zt+4CZrESjuA7dumhevmzTziXIRknw+UTvD449rYm2t3/hs6curGu8v/te49+/bzB/MSLXwVLnLzuWFvRU9fq+DY16e/D49Xvur6rN23XH5Y1RYXYfkBqJ2A5R1UYHgH9tSegrsV9Vhs6+EWnVPJLbQchYZZuF9wuWXY4YbyKfQfiGw9dpyKH5qGmncoIjfTcSuyiJOLtsEI44wOcvjgjbblqCNJCFoHJEIYQjibbNVx+NCDxM13JE5JKvmgj6nJViV8WzpE5ZNGXqlThBruF2aDJAI5oVZfjodamWZ29GaHw6kpZVn7ifZWfH36Bp6Bf9JZp072RQZlh9lFmCeTEhYWplsiEnooloouxh+jmzq6qGclyhlonFFaemlYkeKmnmmPhpogp6Bu/5imdIF9KqONtcZ4qkOlzeSrra1CyqWsJz6ZaLC3HmvlrhjhuGyiKd6an6H6mTrRml0ya5GzsU1I5LS6QlRjRdgqpy2XhI4rarriuZUoicVFGyWp4op3LkyW/YntmHG6y6qi5oaanYj0TmnvvfiGWa5+Sgb8aqlBPrxpSNSC6K+1EZPn6oh80sjxWR9rVDGLdxK6KsgYg0zwnyAPOp6fKW88ssXAiXryeDFHufLCBb+cb87Fzkxft1Bh29XOpCn6YrYTpyeonkt2KfGuRF8sMNPzFql0j0y/avXSkE597s3EtozrawdLvHDWBqMM69sI87ps2eveehXMYu7pcds4v/8t9JViZ8lhV2pzrdfhc4fsdtxsyq3cnAMqznChMSKON9+M8yn24le3yTHYfgdG4uOU9yd55mvnDWrA8LGLZperHv20vIBmjrlSqXo4K8tOgou3y62H6lbUcW/OKeK7K8y7cr8fDDGowy/PuKaj50a0yl4GWr17VSLf9N7h/b0gwJ1bz96z4Wcf8IqY3Rzr6U7WJj5vhEOtd5Ar4vfdb95PRH3GxqNZ44jnM/+db0Puwxq+tje5AB4qf+TTWeUytbULRep/ELyd7eCmu7cBT3jzsRq8Qpg7nmjwVMiyIPPCha560co3evmgkdqHPh2lkGOEoRb7jGW3GMmQhaKay/z/JhO1DHJQhUzLExLNhigFOrA+RQSiqiK3OhDGrH5PDN3zUFizLKpmX84LkqlKlqwjSk5TQwTNhLwIRDAKRl1k9BYVO/g/qoWrZyY0Xx5r9DrWJXFRL1zhGrVHoTfysDUr3OP+JnU+YRVLfhH81yD9SL9I0c5ZkJJd8Foon9cBqUarIqB7HDmaxiTJczTM5HKQZaKB1Sx5ejLZfETZMaeBCX5euaEQ8+W1ouGQl7hK5OT8qCX+Pa2KQ5Li1RJISbXo0phs81AcgTlCP/Wxd1oTIaeSiUg9drAufExaFddTR6d9MHijgaMyW0g6DK5TLeHsGQTLaboYfs5+Y3ynI+sZ/8k0hkZ0fWumamLXSDF60z/K/OSe6JSrC+bLnyOpFeeqN1ASjrNaB8XVDpV3TQNK1JuQ/Isn7zdCV36UndI65B85p8T97fObuGscA5MyUnA5TKMARWn0NOlBQo7ppUB1nEGbeZTX5QWPtXwmRQGp0qCS0qWhaylCpyg4vJCxqIQ8alNV98hharFTW73oU11p1exNFU/L0qZWc5nWnHJwZdHk5kr1405Wbiya5JIedyyYupzc7KRvldSe+BXMuYb0eLMMmVK3pVcX/rKvPtklj1qJUQbezaECnZ3GRonR4hiQO++qXVUke0/Kwkd24PnrAYsJv1Iitol8U20WXXJZEf99MVAMip9uTWcqRnbUZ4H8F1G56k6w1FawtxXmsIRE0jISlnTDhWRwVZvXKUb3K7/KyJ2QurT/pRKjLuufLaUWVq7O1JkU1O4rnYTF0m1TnOANo3gvSql3/ta4JawXJ3nYpMN+1LfNPW5/KeKycN4Oor257kSdyN+C+hegAAbXLgd8rTAa2LwcvAkz0RpaWrq2ODttqyxNpD96gTiSZkunMW36T55mF5ucJesyNUtd9oarnCH2Y698yLvurVfBRqnxZ70aL+ldkpDQLWP0gnrZc3Z2UQ1NMls9G1Mi5zdqR85sJ8/WWP1dNrZQzpWUd9RaJL+2ssKdsXTURVhMFsv/tVmTGBphSD4jUqVwOr4ybvP7ZbCyWUuaUl6K4Tfn6SoTwR/x1Gl5vMXQvg+vMG7gPWnX0psCec5h2x+iNaLoptmz0Wl+tFfZFedJF3Z3li4f9FAsWif/RKFUvinoNhlQK27Kmo0dbqChCmRdr5amPT6Y9xpWa5ly+NbAhKyLmSpWmGoZlzahpXvg+tUFE3Ohq8x2FWvVXToPMrirzu1NpM0nalMYzcjEtlOrLUnNbnmtNrZseoWq4Z+he7w8XbW+8xYtyHLp281doVzlTWJ97sXetF6ftvFdUEP2O+BVBricfUnphf/b4Cr5LlVFzO8znq+4k5MdlTe830XfztVG/9E4WoWsOY+XtaQhz/bIa0hvsAJ5NJveK05lfPFtZ7tnDkT5Etn9clvD9nvRHlxiz2tdBaJ2q0EP44JnDqMdqxfUtP1xBz8sZiXnikcoTxPEKqVAVTa0VQkUmr9BctXxcv2jcuS2qSt6y+oN3exnN6mDOQ1xlvQSbQQSj7oUjupy23vDYPROpTHczhtbUtgYb5bHAR+yNS/yl01PHXjOysRi01V9jAeUuHvYa6HInOLQJC8BNa9YPgsW66ItPLJ+Nc2sadWCOXe2+epb4say/qVUhrM5fap0k7d76D42Gs3HLXio8p7VkIsegD2W9jDXmHbKarqj36xpYGk94Ulv1f+Wd2l3ykkf24Enf9dwWhrst1v7oeb+YSMUeMSwH/Q/gjjrVew52M9f6TskYBVUfE63d8CWfbvlIfsnORx1ak3zKpbHefUigHDiXnnWbFkHLfeHPaAFU2QTbPFEaE9zQxVYgmlmdZLGdBmGKhqIgBLUgcCXOA3oOiIYJ1y3ZaGFgqS2giroV7JBdvCXWTMEbezyYvUFMTzDO0OYfvaTe8sFhMdGX8tXSzr3Qt+SNpfnMffVceAzYkABcpC2VL0Eg0jnXVIXb5LmfnSjXNJkVvpSXjUBhqNWPm3Xgw+Iee/VXrg2cPGlSuTkhoTlhEKFQIklV7hmbT1lhxV4d6qXVYL/9ULRkicE1WbwdRTil3qQg0qlNV5jd2jHVHaNSHg2szWZl3r+oiSCqFMDyHMZA2k/xYkSQW5dqID3s3jcI4JJ0SSn6ICdhzGviIEtl0XK9omyVmYTZ4kJVYsf94lghIrow10BNkGzVjeh5Htcs271VmGMeHtZGETZ9IhnuDCIM43RVI1JSEupGHobx4151ksSt2KDxWWIKF6MxDdbSINGFXmJ1nrKYjWn1IbhxI5PNlmwmG732IeqlobqxoOYAn7w1y/gWHiLGEuOdZBMiGmguFQ7uIaV4ZBRiIbmhn8p5X/eeF0XWWcGSIdu2ChEiCnGY47GiIfGlmk7mFkG85Ks/7Z96Wgn39eGQBOGKxg4XSQ959aLEXd6pfdqLVl0YgeKY6iSyqJ+ighSKUhHe0dQCTRbIKGV1yeT93aBf6RVLMcTSNNzBUh7rxdkE9SV+/Y+iRc6P3SLQ7Y7AuknAnlL/Jc+2diG7YeHPIVlvEh6BVk3eUSXqOc5d3mHeRl2SKJ1S0aLGnlvuqhn1YVYkvhzhQV2+BRp6LRzDEkxjqlZ+ReZwTOZ11aZOfSDmNmUrshcgtY3BJV1fAiUMSZUdlVWEZhrGbmbF1FxvdV3CRlRn9heFZZHtwk7dEaDhal7GeGburV2gugvn1aSXwVY4QVEo5dMJCc3dLcxgxecqDKbnv+XiWGZOEU5mAa5gb3RnYWnfGuRmz5WmhHpNE0ydIClhWdYcLBkYrZSk1SJVVJFJv3ZU75TUPbpVvjJUCiJj5DXmcq3k1RJbSYIS8oJU0jVTAR5PVXWeYyEkcZWh40ZfOhHfJT4lF6IUhm6jMsZV9jmoUMVey3RdgUGcUjjJjxGWir3j2NSlojVgFS3of9peoEnoYNZTCYpoG42Qn/Go1UVczYJpNvnEvxJk/SZnE82deB4ifDXUPUof2rGQyinQz2ZcSr1dKq0eYHJiDbofP30dQtpiz0KpvkJnuuhla1BkBdFnhPqnXjIkT8peinZTd05ZyBHT42Jp05pgWVUjKL/xoR1Kl/6+JFmaYS5Y6gqMXqD1pwNhoBW6Fax+ZmOxZSCaYLw5kgQiqnU2Zub+n562W6pGYSSh3uP94+lynD4FX2eij5kt2w8GW5TWIxE2pbP2XqW6pLml6vn5n6w2k0Kt53AOp+mSk1Il4OR+hE5NnydRjpOlm/6tXUtiTdwalpBQ0HOaqxI5Y+6OoIThI0vKmrL+XA4+T5oCaFy6ZPIZmdVel2vapWdWK8wB6snxphK6Y7W54lVl18+5z3geqNmpoMz1nhUcX7ACG4PS3T5CosvxoGJum/FWn5RRqcx6m5eqbEDhmOOx60ZW0AbO1cd21MfO5WXKppBmk/d9Jqa/wpp+yqq5TqL6dZnyGijxAmqjPqVBLaZ1YSUMxuqFvobAktmIXheBcqsfNelwzVhvrRFZyWBMIsUJRqYsLezvFm0VJuQVrtdFFmNUSq0VaGHdwSABmckQQu3acmSPMtw9JpgGeNwnim1K2plfHuHtDaMaVsXUKi3LiqFcleZfuhpC0ds5dh1BIdeLNW2hqaKiVu0B2t8bnmNVgZY3HoX4giOysqckkoSF4qcaNdGUAecYBG6maq2vNoSpytIYaZzwcoW7NmKpQuWohiXx3aIfsuXmNVyu7a1Pti3j3teP3qZ0fqQ8Ti6Lhh/ZlO8ahsUk1SxG6agPUs+NaWeQJmylv+LsNOKXnSzY5+7QAxGvbKHoAm4cX07luP7nqyLPzIYmPeZqpLGjQ/6qyJzePN2hHaxdtgDvFXDsJqJo0TJvqDZryeoriLFa+0qve1bpfVTjOOnJ+cbmZPZbaV4GH4qmc8InPdrfJCjPBlcnQ0nsk13nPJLsZG7dqkDpzFscVAJVh+In+Bnp5G1qr72p7TJpz8cuU9KiJdDnRC4lB15ZqZJtIk5ulmGbOzqupZJc6d7t1enxCn8tYd5pQbVPEKsu8I6wmjIrmqEtLT7K81IgHYolquITZ9aerFWSGa8eySkTXoKqmw8kUVoUWHLuyRDwxRYpHNKfa6Xp/xorwkqvs3/gbLeRnO2ZV9lKr5QqK9TmKPVaheTCF+PvKdbqsi2yq9UyFjgZ8Uhe4Uu3Kq1d2ZrnJNGF8HFGb/V6xdHzGKyGrjtAn1ldp5mOUXkGMsP7K/rV3RDuqCep7FJ2cqmHI31wcjChERj6zbi6a7oCRnuubsVAsjD68wL2SDRHMyka0DV3LJlXLUNCpuOF4IC/HmdN2BydU1NO85kW84MPJrYJIsqm7wM9nDXRso/sZ1exr6GujQzrIKOyn1G2sfn4c+rdb8BzTUDzZAFHaCOC7LLTIxd7Hg5vIkXp6EGk8yBeMkBYtFuk1tHjIjNqqITOICoMbtmgo7rysXk3HjXycAw/7m4rNnAdeLSJWexi4Y27FxYNX2xN/3GLX0/qfVrDNl2csRbGItwEjyL/DwVbiTJNSMgEma/PVlkbAjMUZ2LkJvU6qq9MBquS5tpH6vD6PGyYB2feLunZP1SV33WSKwt6juSXOjLnAnLtFZOUbRBHQwohQO9HSd8M1m6fY0wTbqmvXzMW8SNFWzYqefXTf3RDCquZOjYc8TXkS3ZVinQnAuM9Oi2bO2fTdvVmKzSrqmb85XPODXaeV3aIH0uv+h1dKvK+It3izfDpr0ds73UNmfbpfaHQa3bsW1HYJbRqqqTBmtYnD2XSTWgJMlZ8KuKxtvcCG3LoZvMMgpt9SPG1rv9zcWc18IUYvUHpZ8Hts1dV/ybu7bXttp6yLs9PkeLquvG0vSnzHj93f/K0yCZWGCbuqTKv/oNGX7MQBB5md0ZiVUt4APe1semUPK0NRt1yIzd4C20aw0406OqtFJo4RnoZ6k9yU9NvG0b38YN4qA0t0lLyB1d3B4OjLCXhPtth2j94jVXmz/snKVX4zYOpDCZsuLs4D3+4R3WYA67wEO+l7eb5BVdfjzO5Gnt4lAOz1PORVVO11L+EgEBACH5BAUKAAEALAwADgDmAO4AAAj/AAMIHEiwoMGDCBMWFCBAIICHABQyVEixosWLGDNq3Mixo8ePAicGgBgxoUiQKFOqXMmyJUqGDw3GHEkSosubOHPq3GkRZkmCM2va5Em0qNGjGEWeHEgS4VKkUKNKdam0YcGmB59O3cq1q0mGVi9qdRrWq9mzRsGWrTg261q0cOOqFCnU4c8AWpe2nSm3r9+MdGvaJZi37N67fxMrXiiAL2ODVbFWdLy4sl+fZCFb9Uk5YWfLoOFKTtp4qFqFD9uGXh11tNjSM097BqCatW2dscsGvVtV79uQuhHfHs4zN9CSjnsb/o03OPHnN31rzjxQOsWq0LOvtE6YOffmbDcz/9dOvids4Qg7q61Nvbx7jpzRH1S/fiP79/hRQ6yd/O19mUN1l9+AV+03Hk0CPqaRa+ARmF1h1i1FknW7SeTdcgA6CBqEGDZoV2odVvhVex4yJZ+GZ2HX4GclAjdhh8B1159aIMaHGYqLqRgYiS4amGCM1ZXWHY20gfUiizjKheR1/lnVH5A8BjmYlG59WGSSWy1p4XQIUllbWztSyeWLWE412npNAkdkmFNymSCYYF3EYJlFnVmfgmiC2GaXbnp54X80aUnnR/EJxSJ9FrIZZI1xMqnmgfoJOihg5xkqH6JfKdojmuE92tGck3YUX4Z8BnppgCW++J2KQEpomng+Bf9WV6gejVrgnqDaeRyjPzYYYXDGNRerk4bSqhGgst71pIkJitjrbvcBCmWBkhrb4oimHvcsb8TuOS20kF675XyoWksRmdjmJtu03xq6bonSiotteieaa6Ke6ZbEqZj8Wvrud52Spp+9TApqa7VyIlekb/fN+Ba+ZNlKsGYGn+ctSOAyHK7DAH5pZLkT9zqZvndSFy+JcGrLEaYhi3wuye9yeXKV/G77qXAzo8gfzo2yGySrUeVcqqct76wZwD+Lt5XQ9Amd5Kyy/TpuYT7LDOuFLu95WMvkYhV1hx77DLTJV6PM3LKkct1uwD6zTFO8EN9LcrP1/oowra6yfa3bcY//rJXXIdYNtpBqpy1vosSyWNiSqiaOasqOMnb3oGiTlmyUN9LLq6mVZ62gjPUSjKbHUHdL7ZWfY1R6nzF3GW3PE49+YKFzD20q1QsKdq3GpL7uNIGA4gt4YK37FqxdYR4vd0bK08t18KgPT2zxyykvvMJtgzzw4czGDiPNvLvVeo9uW+l89573XXjqYcML+5DvLwry39qXWr6Jv4c68+XiN6qp3JDbDVYco75kHYpn5tqf4yLmP9MBSH1AEuBQCIg6uuUKgXgrG7k0hz2aVe1WsyHU2ZQluI6FCz/KOd8DO8i6jdVrcqlT2cVcBkENjS1T4VKU7P4HOZflT1iOcxUM/x+kNPO8Tms7vFgPa8a91yRLiKHLD9Ja9TCYiadaNxzXkiBHpBXOqoAnhM4UfVVFomUucvH6n+eU0xlLgatPA4LT3RhXuw8yEI4gPODIJIip3HTuNnKMogw36D5K4e58enwZHzHoR25lR4J23Fsd0UdG+B0yVRV0n2xmxTxuQbF5TUwMJLlHv+y9aTnU29aq7sRJ1XkSWK/Co2IOAyqK1W9K/1ogEwepn+Tpjm6dHOUPzULLW0rOmOoK3B95ORtfMkiNsxFmGGfpwmDRz40d3JmIsmgRfB3RPCqzlHsaFktJYhOXBxpg7ZiGum/qbZFDFOMIIyicWpaKjSATZ3M2F/83RvGPbsYrFueMSZ6traieyHQkEBmkz2ERLzj7eub0qidQfT7HnvQEnJWE8lAr/S+ZU/qj4gL3qOsR7YvzG5xiMHpQjQ4UXdczKQg3yUJJmg2dw8Kp40bZK25K5ZoGMhoQyfdCH90OdlJ7GRK1qDugUnBzBu2LUxeWTisSNVLRC+r3fNq9ZVJpdad7KlU/GM8s/ZJfZ5xaGZeXtCWmEmPZXKs3Z0c46f2lldNKK7ZKydZHuTV+P9ymXNtJV2kOsyVtFGS2BNZVEsYTWfE7mumctbtpDtRwZklswu6WN/sRdF5M8t1ka3rJPeZTsWadYyZ3VT84vausTIwnRyP7MqD/roalxynmSBnYWRFi1pWN24j6cOsVmroUc4RDHDntCUZEoqqPqAUnIBsFVuRWbHxhLWppG0vBMUVXbxsiKftyeMXvyguvhYzhZQ8amc9GUpZJI6Z4e0reHtlnhBL1YRVdOlfippGuhxWhPtUJVteW7KVjPaZFKYlO8zE2v9ux2Ol+WqkJWrjAfzqwvwBbYYYiNKPR/ecuayVh1nblgOdUL+IInGD66hd+42phd3GYS++iN8C54+CC38uYg2m1hS+OL2jpO2PeIjVNCIavTtrLVLvSTKxvVbIHpUs2FUZTYSCdcCh5wuR8Odm7rI2yioccuSoTEqsObt1xudIfCXKV/1LI22pyK8lYogXTqusFHYtP2VGvtBnLhJ3LRIms0P/COHdZvnGFHUzFPncll0Sq2Bax1j/IUqqGHIzS9mbYJXviODwak9hXJq1pIFqaNJjumnzgRkLnkjpoEOWwLZtWREPvM6E34x9xGd2v06KXqJ8u89tkrWCe6ciy7aVjrnW568VuK7G/vnWqWXJsJVZ1t2dWteGMq9Dt+dLF2lbQG6VdQmfvpNq20+aq53nlbVP3cS6k51JHDOFxi9rG5vVtuosI4j2TGZiIXq37Lrhh01oyiEiGb7CpgykKVdSY7YMhugiNYndV85VPTPiYFw6+d4M4nG6koVEPvUrJ5natDf/W8kafK1AbWfbkUEmh63QZ0pDHduRCLnmPY204UI5mwQ09Dzs5/ho7gzB7sxXrxMccMApqrGJePCtYrytnou+VtiK1uNJx7rmmk/DpUZzqz5vqQBzS1+p3xCTMz8t1uY1b4UjGttWAPPN92XLu3cspg4nytUHOlYO6VdgSgyx3PGk8TLIjS8Odc+veIoVjp4MiHvV69jnXvMi2s9Bwa1fDBZPuVSqaNmJfuULJq5fyaP0YqcbOTM0LPFidF2gkbdX3YS/te7Mup7eRrPdTsv6rpxUbfosUU4sHGbxTGSNRQdk73pcGd6JeloeFD/jn77QmSDs1hdUse0w6Pq8N9Cv/ym9t9MSnfpDY1bHgX17Z23O/la76viZrfWAkZln8Okciq9WpQCnXSeotF0Yc8n7lVnRTZm29FD+jBFv+RxStFHQGeHC29W8UyFddN2x8pU7Uxn4bOGBxZYH05l5+4k+oNHyHplYkooGZ10yURmEeqFO/VUxw1ngHhl128k1LpIKqNXiw1nq2B3xrZnrIZ0iwBH4j43WsFXsziHZTdkAOF4RFSGXwATtQeISRs3VRJV1MaHAq14Vks13ydoBkBoJXRYM+aIWiwoGjB22nAnVDtXFld4HHt3e0Z31nqFQkdmL1o2xHBxKvFWIuJDRdxmM0xWNrl1qnsml7l4byF2Ms/5iG9jVih8Z8j8hm+TZqusd04YZ388ZrF1hjageHisiAK0GKejZJcuiFfoJ+UShloCh/POh3l7iBN+NVtrR/pAdXpQZ+f9WIrnR7tdhtBSNwaCZkH1F4LdSLjHcz8pVyMpdm/MZEl3RGyjEzS3cjjBI3iDd+3yaFW5gvVGR0LrVd0zhn1ch+11hXVKWNpgOC3ag333hfm7Vu6bdlb2hy0khzfVh55teJeVYga6KGRQE9I1WPkGVghLeH6yaBGiaM0ZaNxMgV98Z2WYY0tthulDQsb5ddqXh5CrljPxgXEymDb2iRwjiPrAgiG5mEJxlC/8iSHhaPHZd7a0NJbLiLi/9FkmuUYR4VfuQWaWGHe/Iik+FYbDWJKwiFjFqmkyOGkEd1bI3DUtnXgmnBc/Ijj6tIgdBoZMLlWF9HUTpEXvWIj54YHVYZiTNYlDi5ZgfXlSaGP2BZdqL1X0KYfNGYgHbnkib5luDWLp+EQTYjiSvoiCfVdgN5lyyYl+ezl311fr32l5O3jNwDQxzSk0tGUeK3mNF4Q8HlFrCHZ9azbgU3lLB0f2wFW8oXYaCTmYQENJz5Y57JeaA5SSM1mjlIdhOImkJ5mUM4mPKjmOwlmRwSbQbVjxipWmx5c6Y4hb0paVSFO/3UkkCplDo1louFnJkocsuJlaIXHsm5mrbDWYv/dixR6FDv5lUG1Fp2mF3f6Ggk9p1XGZ6AGG2OCDgkyGsB1H2gM1XfSFmpCXBOxG6neHc2iYqq+FCoN3tyqXF36BL+uZtPBohZWIbgiZSRVG/rWIAROocN2hLAyY6bwkpRhG2odyMZeGEp5Y+WKWyKZ1TAuZXnVn8hSUb36ZucNojHZErXeVZhiHQRmYoux5orZIgeSl6VY6K09XkVeW0dpIIT6pJlmZ58aW7YOIsp8TpHSjjYpaR4pm4emXK/ZWUYOnZiBZ7bWWeYKKWGh5b9U3wE14a6g1JYyW198nsMZ3NcZqRZBWE4Kllu+pFwymKUZYB0mjp2GqEgmad4p6ad/xU+JgmfoJh7/mV5M/pWM/Y1f3mmEZiVjMp4jiqU1bVzO5mosWlCJwh8KoOppSmCR+GLEFk6+NSiN4mmYVlzfTploUcy8LlymnqlknlytLOkJVpijQmPC2qr5WWsYViHWNVsVKGGHuZpQjd8XXRPgQNUvQeXwjd9obQ5DkaffAetvgZx01p9VQpum6eSrxdoRjlTgUiFKNqrLPGnf8ZpQ2qjCOZ4S3cxv0eQPDqCDhmnVloce3pW59pNFmZaSwdl48drlBh1JGqOq2qvVYmTkxiU0ARqyKZBW/etbmSdxfifdmmxQkZ1FIs4S+hxbgdovAqbwWiEoZGgnZZJEYV9V/+TrtFVo/c6qNl1PdVqWkBpGzK7kTWLLgF5rwnzojtKsaMJkfMYtNBRrwG3r/HJUzPpmB/nriBrjxbkogLZGtwiccZXqjP7avnXUh9magLIfun5ZhJJrKZqj9WCTbPVgLK6rps6j7NKlFPIXOyKhopEt83Vt22HRej4r7sKF0Hah3P7r2E6UPviTuQ3mT8auFn7eX+xuLKotyMaqM+JmDJmoIcYcJdbWAMbrjw7pX+Hry0LtWbWk+pqtLT1bEn5WRcpkupYjHHWo4EbleTaLupKO88IWtFquy1JTTC7uWgKcm7oN/v1u54Frtw6mpXhmuMnnq4WlEn7vK+2dXSkWfn/+rVCi3DlV17ESVfAdnEX5LF1GrZ4KpgFRb73SKP6KZjJVrktm70ImJEdlqJRq1iK1qz+20kXiqKPe6OWBX/i62cA/K/qBmEETLlWy7QLCVzwFl6naCfU24eSG7cf9Dv8lbAYuLYgh8Hyo8AbzIq9ubtN+bUhLCLeKmypaxnVyoZexa0sXJM/O3Mrh3eClWIy1z5EKlWqJ5+6sokF+h3JdKnX58NxBcQaJMRcmyIKWLjjik0eU5zfw62vqcGAaY8iS8TY+rwQO7Zp13y0i8bmBG9uo31TXBle7LEeKFjt+0fB+rfjpZ2G2a34extxvKNzHFd1LJ39y01nu3KxCJAL/0zEVDuB7ualM8eOdYuq5OmRbiyvVNzIZJxt9eik67l8NBuH0uVmJLyI7wFVW5yL4yjKJyuqazzE2fZOpwvHCabEqlxO0CSeXSy6v4immBwXyvOEtAl68EqW8IuH3SmGy8WqfjxJwgy8VgSLxMaMM5qWxwyuz3HHZAWAUTq7UihyfqqrAhd/YTTJ49S/2/x7EvU7PEhrjXRJyWzOBCLPo6hQt9s/kpqd8+e6lUwr9Ayl1qqiRtQkEDheecLMHYklWdg4ZNh+k2u9WOzNkUjOIku1OiOgT1nFkTnRm9m/MdyifnlkQLvIrOGvJGvIxZwS4Bqpxeas5WHSYsiJrtzKnP+Lsi1MqoMSPjJN01PYZ9B5wTlJlcxqLTq9pvsYYT4dd0ANqRT1sDYES9UKffrIpgy0ukXdZX84q1amP1BdxFLdzVRn1SXoe3hWln4bMooiPbV3GIV4zB/c0ckbbg1tLGlNzGs9Qm1NpFykUoKZnL+sHaGaw66cq4JtzBO501k5bk5tLIFdzTlXRCs50+QWMHuNrGC6Pi8B2XB6Srq7siBKhw3ktpidspx2xJAMk6HMTKoKy2itQXfGwh+tXn92vrUXZiRN165twbDdYmI4246rtj7Kt1yNoFezXaAisweXSGo62r5K3EKqnKKpWAetmT3M3L08wxzdaBOblVZzbIvQi4W3bS0wLDjWlNsK/NZmdLNGBd7WrdtJFtM7l7hgCNDVGd4EI6jqqbHyzaB4mKoy2t4Ka8Du6nqfSdnlbNf2vT6BrMZ3y7uva7nADeDPWpYqvFDDDLg4KdxFM9UcrN5HSd/wzdoS7hGa/IWjc8Q8bbcjPq9tt9eyg+KsG+Irbpb7vdoH9eA1NN8z7qs1HtqajeMRqeM7vob1S8epF2waLuEpVsLpZXSCNuRVGao8BKGZDeWtOp4OR3cTbuUxJ9ExzuXxS05gvuFj/jwJfhQBAQAh+QQFCgABACwKAAwA6gDyAAAI/wADCBxIsKDBgwgTHhTAUAAAAAwRRlRIsaLFixgzatzIsaPHjwsbPpxokCTIkyhTqlzJkqVJgQxHOoQooKXNmzhz6vT4MkBMmjJ3Ch1KtOjQhjV9Ju1ptKnTp1CVTpyaNKrVq1grIhX4sOTSqhaZZh1LdufWAF0LUs0otqzbt0XXJpQLEyzcu3ht0g1Zl2DbvIAB9zzrd2ZftAAODzYcuHHjxYvTTpT81Wtax5gd/1T48LLUpJ0Tz7WbubTbzQlDF57cWeFf07CNLi5MMC1lrp2Ren4du7dZ0iZN2hbNWibqw76T4+S9t3bo1mrBqo6uvLpK5pUPPodOe+D07tbDc/88TpEwYtzDkWsXLb49SPKuGzpHL/p2avbu858Uu3f7btIb8aaffvxlR993Su0H4IDK9WQcWAXOdx5GwYFWH00MiucgTRVKJN2FbEFoIW4CZhjYT0FRh5hnFSEY33asOVeiiXehiKGKLlKUo4cwjujdjTRiRlWOG6ZY14YeHuYffiGyGORVQ3I3UJFAfmaQk4pZuF1H8D05lm74/WXfavJNWJhnWE6pZZVipemlbCKFuSBu6h1ZppPkuZngimwuqOebN6VZHHFfLSlhl8Ll9qGE9P01I6AtCbpmlob+WBeeHxpp5qahOTonpC4Bt6Cn05WqqHNoPofQcJU+Cqpeoib/OZqprFaJ4JbrHajqnq82ZZ6MZdL5GZirPodkQbfuSh94lvb6W5scLjpsnMV2SpqTyWYr55VMOgvVozbKJelGY/74YKrC1rmptyiBO1OKMfKlUbmNUtvsf9yye5Fc0B5LLK8Y4ToddtYyi+Cv+mqVXb/XEoqaq3zWqq5lp6qJqpwQJ0zmSmfhe1+qlOn5sIEUBquxwhmPFu/E5uI3MGM8EspyfCm/6Sm3YBZsJZ8KMxvupxuPlu+Ef+p7M7LR9mjnsuWJeGbFKH96bHonN43woLqCrCzSPTfboswqFZ0wUrPxHLGUlQ4dH6M6gp2S2N5qytmFO54N77tuW1T0wVLj/131vFXOrWu1xhYK3aN7S0mqlH/vu3CZeR5u8spc8wR5w8B+zWzj8lIV5cVLW7yu1+NdrjZivHnMuYeUy8q0415dJCmReIupaOQ1m9hxt7G3HGLvmodEu86E/0si0L3aSLzoUcIt97SbA0xwxbvDzbnyUDNvuPOBQy+6z8j/HHrdq6+HK8XYor2rtdiBjzPZlzJe+dqrpx1djtrWijDw0jdM9va8I53rNGaj4AUtf/KLHr3uc7XJwax8YfFb27yCtZaRD2DCKtGDKCgi60FQV/sTINKWVLc0wY1fMykRxJrTqx7Zbm4kTODo0tU0SnVvgLDDIKCw9zzQqYhbtaLd0f/4R7/3/Q+HMwwSD2/oux+OkG5bCx0SZ+ZEYB1RXmyzGd7G1cREvSxr/hFcriYotAm1T01nyR1ssDfAL1oQbDG8oAkDmEUc5W2AV1SjaQqYRKb9pIIs05q67la3IW7Kc8jjYvSSw0c9vSxFfCuWDzfUvAAa0mMhrKO69IgXdN1niubble0iicUx/g+FXeNgD93jSUmWEoai/NT5dEhFyuSRZKAEEyff0qFXVvGXEkqfwECkImg16UKo7CMtlfkYp/lykd8bozDXR8zuGLNkw0mmyPxEx8BckEyntFfMBqW0MdIwlYcclckCJMturbKTMuRgOLv0NHIWzpXnrCHpCpT/uxcibZdNmeMV5Rm+TFkSfiLk30BFaJ5M/gigphEoQgmKzkJOlJn9QximKpQ6Jr4JU6zzkcIwiTw/ltSMJMPVPDFnOYpGtFv8FGnTSCo7ydU0Sxez5SlPx06XrvGiX0tcGtUJSw7SD1rP26hMwSlOc+4RqG0Tqume2cSgyQqp3VNqPu1kPKeSRVzb4hMLr4rLPVWSbVTLZy97tzw+Hs1dmrQKWLujMxU+rndnJV1aR7dWO2rKrX2jIv88+BSHpg+v3CwbEMNoN/9QCZq/W+Yf5/nXk2bFsO6EaVmPR8Q30iqOj40mlzarlAf9r7I/hWzJvHijhQrLop2dJDcXmChQ/+K0jIJx5kfMU1eoSsyXo7xjF2OV0GXe1rYMUuwTCdfT++VtZM395if1qcXYmm2xzX2aeqCrEUACDp1woR0NG0rUUC7vuJJtp2q5qtv5oa5vC7TuVcSbzr5Cc0lls69o3Ysd8uLzvS8SrnydgpoTLtW50lVSWNtYzcoRFphenRXYartfXzHGwFtV0yzpp7pS7jWY3QTvdEc6YWkJVq4FNRX6YgnLMx7rYq7dmRtfHB3/ppOKEE3J9D5cWsYG18UshTFUq1dinqLRgeMl7Yl/k7mARfFe8iOyAj16XbE2bJpW/ViUJ4XRHL/nQ4h78mu37F1KtlNrofWhFLUMUrMVzf/LJzEtY/Ziz+CF8Lwo3aQEPQZbfV5To2I2q5KNImf79HLDplxny/xV1kaGtc9H5eaaB9e5QTN5Z9CcbE7Kycf1NraVxeQyItFb1FBf9ivKradlOcJpCXo6hnEFq6GnqsEtL5nQ0apX6wQ9R0W+sYEU8zTFyLPQrg6YvQpN4apXskEr7/pzoUSiC4mr3QrPFCgYcyA9rc3UZL9TJ+zzUZnv2mM3cnHW4+teX4ld0CIykNoRrHZRwp1BLt+2kvY5d5FlrO72slvEr+53ZOMXUJvWWNxT5WyVx2xNbd8pnhBuMmJr7V1V29nSLHHjAR2W0hvhr8GjPnLFcftuslLc3s7/7SiphfLgYxvXeyPzZ8PXrc78ighRKEehI0NMlJZHnNswn7Oi6xjy7dacuBx9oIJp2mMxzpeEuh56vK1tT5JSTuOYLh3LgttZQGcF1s6WOjoj1NiZyxTrDu0a2Zn7S69jxdHbtO5YtTdmD6r0wrk+csNzGMjW7lSHrL21jvcM8VTTvYzxSvAbCf7epO996n1H5FAHa/C4bFGGU+tm0e042no3+9vqUXE08TxpjL4O6C1ZorQbPPHy+jxek2XNGZnWYdJnPcPY/XlO6lwyd6N3iVyMKSj57DIq04zL/6mgz1O/Jg8a8veX77PwqUp8iXf34XuVsumJMm5yHdTIPG4y/2YPW9Vo94/ZeYMkz4+S82UnkcYML/ntl+teOVb+5d4PvcfXr5PnAx7eQzNL+OVMc+VZPLdzy0ddC2d+hRVYbQeADrY1A/h4V8dYTseAoaJmWhYV+rVi1dZAYPdfHQh0FhV45mdXIcJ7DehpndZ08wd83dRh/qeBWVZC9+d7VtN8/MeBHeRYhnN6wraAcaQ+KwZpUcV/wHZ+EQhn7dKDrfZbLgeEnyaBmmU/Qah4Sahf2eR+g9eFovNZpfdfPhREN0g0SHhRBXI3wYZ/i0dgXFhKyic5tcZ2ZLhA4RcSNjZsjSZ0NaV4u4d0b+iBgBMy39csgBZfB7dNuNODH2F77P+HWIPnh8PlazqVe/2ldIlYfBWSgI74Le7HQitlVOW2YJUmhgpIg6g3XAp3gUy4W5+4h+Ekii34VpLWexh4hQYHejfmiSu3iUwEGT+YgyAWV0a2hmyXe3QlP7oYi7woaN72i6ICbcc3jMVVjM5Vasj4hcpofNPSit8FMGA4fwpWb6dXa/rjgGlIPXECdggoYKfIhjtRLuEYQokHR4pzUp9FizFzNzB4hyaVXakYFcnCeGJkey8TezqIdZ31YGRoUlSDKXa3g1AxkC5YkNkjWwgJRog4SBJZd9DxSMQEkRKZgDcBZLVkgU5Ue092QSgEitLSj5pFjgpIkv3Xbs7IZpj/Z2LguJKF9zgueSjR92SwZ5O454aXGGkgJoMkA3/7hXZNZXT1kk/Ps2si5o1Rc5WIJy2kBH3WGFpJ12ZLt3/vw1Yd+X8NOGNl5WsymUvORF98t1+ydo8VGICEIhMRaZUaZnAspJZ5RnLus4Bw9YBhmXxnl1meh20ZoYvot5Heo3Cil3QVBDHDVHoUlpgH+Fw6SHYxNHngVobd9lDIh5naJ5nURJk6eVNkdGj3JC+bmXCdmXtz9DR3F1QSSWGgtnWzlX4xuI3xo4tkiJemKHqno3psKIm2WXxyl5v6h42GWDuJBEWKiRPT5JZPpC1hWSxDCULtlEymGJWhtHkjqG/A/ylCVrhM9mNuMqR+g0llavhyvcZEvUVz3bkn0Yl+hEN+dNmQ7sVeFbiVEURkbfZtI6hnayeOr2lehilNH8mTBNWf95iC2GdrAEZy/kePNxeIB5qcLhVTdhmTcIiJb5lTPLd5tDmGpOgWfEmgrkkmHaqhedl5CKp2YoeBwgmPQsFbHMdaTOdKlbha8OWhseYjjOlJ2pSggsd9JqNTOhpW/tSjjrM4C1mIVCNzfVmAbDOeJap7BkiVX4aDMiqKoVOgUnhb/rh98SihtKkzNDlgKwSLF4qb2fh4ZbqmKLGFTOWkelWGPfp6MyorhDhwKYmZ94VM5TUUdipyQkdjColSXP+KlZH1p7ZIeVBpbYcahRl3kfSXZdZIaeyUnTbKnfpEfE75Y0dXcN8mROqFk6PlqSh4k10jqvc3ftCIpb7kn9NogFM6ZP5jIZw5gnOnWh+3lwuaODyYjXa1pI+pq2PZeOQGp2zIdf+UlsN6mTxYSXOohK25nP8JgZwJiX65n4s2VeUJF0PViUCZjBO4k0/KrSt6eMj1npw5rplxTatHQ6A2oJcanCd6ePTFRjZ6GrVYr5yCnNE0nrHJX+U1cvjmjihaiCc2e3r3cr/qVxCnqZGqQ5B6paJCp3HmsM9KlBGrj1OHaCEFoxxJkPu0sWVpeRVVMaQ0a7Yjn/RnrnwVsED/F2MiqWk1ArJq+qBVOqOo1ZTTqnIQBpZ4qGg5q2xfRYDkdmeBxmBiupPBKnW9ZKEBZ2TMuLQU6JO56XxgVqijx5NWqz0FSrRE93d4MbH61a0Ht3J9WHwpqoTeGmNR2nUYemmGBIy4CaqWKUhU5atcC7FqBYGlcUsGpKWPmlmt6nhUR1qCu4A/xbbzCVG7Fp10hmSlSFVTxrE1OY6guWZr26cf2prcFaYqy2AdFqLvqLX0qYmo5m/R+Iqy6YOluzOR4bG2Cnm6S66AKKea116NOK3nenispbcB+aHVYXO+6267FI5reZPFG7tBmGzhYbY9dq0AmWHBt4dRSqvEWBbW/6uzhwuo2luIP/lL9Zmv84q5dst48lpTY/u4qku97nqEQsK+gumC76s3eeetXrq7yFu/zBm5bwqXSWqk/Bu8k6rAn3s2DKO8sUFeoVuZ1RhhlrnAHpEq9vTAvasZBmVmGGagh9lb9HuQyha1cefASxm73tuEQvY+IYxZvamOJSyHJwy2RbnBK+xTmSGv8kuhZOOfRth33GN4tmeCsOHDIDt2QeyzY2qWtyh/mwuNqHi/i2q5zwlLGoxyq+R2LemAM4yyLfwbV8yNJ9aOW3x6XYy0++ZQvpix//pU/9tPoVkulQukeYpuAiw8iovDEQzGiFtG89iWCHyyqqiE07Oslv+axHWppx76xjm5rsiGsIoIvAVrUI+XH4Roh4/shJG8rZOssZWcae1FSmOMpFVHsMdogKbrv0Ibt8ZowNh5t0+Vyt/7cXd3vkb8ySTWvutxysUatue4WFRCmBi8ivzWd6DLUo16vNVbykN7ZVm1NWxrZhunzFnHaEV5pO1Br34GzTVKxFXYv+YXzqwmXJybtjaLlMK8oNY1POQMm+4MEpzsLFgIiAqrTqasslBYdt1oyfIWx5pcsbLMb0Y7u5mcl/3cKmgrsQ8EzGOxc5OLd+fiobk7uwfNmhJ6uewi0Rasv7eDid0nYdTppxu9w8nz0EtsNkTGpXzj0TZXNsMkoBj/lx//9o4m7J3vGdBDE9PENdNUNrE08h+zObDkN6SE6q/eZX8iSLjOrB9EzWJGnaBIfTxKzcUQd7B69r8fFdIIpJ1pF6NSa4/yOksUDKZVE25frcJhvVjymItQJ9baWrIfFGpDyD2QasftV6P7m9DbVj4L29eTSEyqGdV7JdjQl84EorSX3FEPmaOkBZLo9dg+V9JGw9hG59ghCdnizHj9sdmVjaaNM1nGfISMCa2zfDQmfLuL+jeknW1pyrDumdXxTLGhrNCeWdc6PMlKucqS3D+GfYbTO9qZ+bqUE54ELYuMiNtvCdHPPLzWWX7S9dZ1RLI+Wte6m2/q47dPPLz295pZkojW2H2r2KvCiwrJbj2teAqMiu0skjti5l2G6F2d6s1x0WNs432B+Rd2lo3f5Tvc3FzXnAhFOYPHdqLVCJu9+d1SmevbVpa6kMu/pb3gLtzgUWwtEB7e5dfWFC7FbRuxIsqpThS6G9feC77GjBviZ4NHlsy4Gt7h15coc/dZZg2iH8uUMM4xBzzj9f3SHkvX35vjYSMnp3rX11nB12TiQi7K7GnkrXubRct6S35q6zmEJHptSj7lXfrkd82Pq9aCWs5ytV21ortLzp3jzfaXYW3mtBzmJktGWe7m4IuPUi7nGdKqdq5EJ3XmeQ6wfV41fO4RAQEAIfkEBQoAAQAsCgAKAOoA9AAACP8AAwgcSLCgwYMIEx4UIEChw4cQI0qcSLGixYsYM2oMwHCjx48gQ4ocSfIhAAAGOy5sWLKly5cwYxo8mZJlTZk4c+rcqVDlSZoOfwJQybOo0aMhff40+ZMo0qdQo65k6BShUIFApWrdGpUqVaZAs3IdS1Ymw6sJwzb9GkBs2bdwN55dmhZl27VK4+rdS1GpWJVzhZ4EzFIsWr6I9fq1K5Cw4LWNCzO+6zaxZbKH7zKNnHdg5cugt2b+XBCoV6yTSYdejZS0aZsDF0dG6LQq69swXdu1LZsjbIK1f+MeLle4wr/GPeOF7TXw0OTEo0u0fXwydeWD2XKmKvS69O8Jr/f/rqxa893TB8uDX19QvGS1MyfHR41+Pvv7tFl2jv/Yu2/gyfmH34D/Fahbf9AVONtKBDYo0Wv80VVcRAI6OByEpQn2UYULWgjaXISh1p1+JKJmYoYPgShZh7El6GFZKi6I4IKdkSffStmdyJuLL0oVHIAiLkfjigy211yO4QmgXo9c/dhikNmFaOCNLG4XY5JLMslVZj0xJ9xjQ160I4daRsVlkkBmiJaUFY3JY5lPOfeakzelJ6GCeKYZGXKbwXmUnLtpl+eTdvJJaJ17Wsdjln565F9n+6Hpm3NVQpQdkhQqSReZjfaVIKREdrndmm9meGWmpHY6ko3oXWcoU5wO/1pfXWyqWhKrbLmqaESYQuQmrCXaKhKgVkGmpmCxzhppr49qOqemdAo7EbGFPhfhiNMKuqy1h+K4KXfcViptis7a1WuQtaZq5EQYBlcrQWc6yei4vqF1LmXcOqWunpYGymKrycXr5Yn0VgQmRoZpWGC0idp3r4zmfnutvwVXdya7qSlc64420hcgkftiJ3HFQd0JL5XdBgmglLPyq+Oij6EM8askn6ybqMeuHGzLKZtXYcwyT0mztPrSRZp/S7Yb8HNz2efwt+8uXKqtRcNXZLF9Ru1x0yjaqfKkwaYZq7RAW83woDXJG26RFUZKbqJcj91j2RH/K1zb2krWrLjrmv+XKdya8t2p2/i6nKRtSO6ItXnPItpz1HKXSXhmZPKc+N1Ln9h434ZDPrWwNh69NOGOX1QZ3qX7XbPXOV9taqiSZnQ6j4p3vTrrPEPspLsfv5w25r5P9WXQl9++eZ3Mhg12fsHrjDzFvzttp9a3Sw1xwz1HuTSCXAcfuqJV35j7eZ/7yTKR3Q+qfbHcB67c9a1vZ7P4gp4cefUsMnrwaCZPObPRgWqOAN1Xp/vhr2i8Uhj/Zuc9BQZwgF4RneC0NLQHBa1YCMRTpDK4LYHZ71PK81MFE2iwtWEIfvmjWMI8qJy9oU1VlOqbAD3Wpo9pzz0d65oBl6c6opWrgM2hoaf/8nNDG94ohztEz7zYcz8GditZ78nY4lhIKikBzTFSfOGAmkg/fkHxawTrGhWhFqwrkihhE7wP9ZgXu3pBzyG94ZkSmTYwOIILaNJb4nfW6DrHxa1UcawfD9fXs9/RLY8XFFa66laXMMpubWHq15nUkrwZ4ktpaWSi8qw2xUQmsHZkOtjJ0OUlSx7sfLdBpep4B7ATgg11YHNinyolysJxzkjhs88O47Qz2LEyV+775dti2cV+Ga6WLIyeyHRZPh8Bz0jqGuPlGIW3XqGRfL/LIAp99bld6qR2AIpm/xaDxb/Z0ZpZvJclw0i6Ng5zL4RkI90utkxuZquSsAlZJE/Z/8yzOZIv8SzSPPs3P3Oiam2z0qf1LvlGg75Qj4kB1EAhusgZ2XOQd1LlIXGJOW9GR6ITrWEKLTrMORrKimVTpvPgZMo7JXOI1YrVJGMmtnJttFJuGp9C99LSFRZTpDH93ExricWBdq6jQaxWJncCwaKizJU4BSaUgrZO15VHLQAb5fvqmcCQcXIsTT0jQX32zJUupjxVddxVI5bVrYaRnuwbmeY82ZqxvrQ6OJsq9Zb0xzTB9ZbaxOj8vJrRZubGruMsFVrziawQuhVLb+zNO/GEnA5qjLEjNApIOejYkVIVs5B050UjFEkcFragDKUcuN6yWcZGUq1j9Wzl+rk9iv9RL4aenapq0wfP2MK0ln41Vkmhxdi2xkdZeUMt4ow1x5p+8C1/zdZU5SlcOwLug3ul40pzqz7msuWkxTVsTGgmumhJkLIZaytvHyvdkulMltaVJF2LQl6UIVerQMQv+c53M4v8DHwELGQf6wLRooxvllsl5IG1+Do2EmZ84aPkrkASUMQsGK9i1C4P2QgsB5MIwqCVsOEeeWGouFB+tjRufE8VVOmNiq7L/Z7dAgriuebwTyBcaRU7yzbiWiy0s1svh7laz+DQWJDwmylreXzMhsoQyeitSXQFOjJsZbg6Jv2pLTGsFT7S0sk1dY9+E0XRKP5vuf/ErplvOeUCi+T/eBzd7hOhjFp+IYekrBtuK2kqKWrZ7ct4zgmc5SzHUsIMvnduLJdXnFSQ4szPGnSsGZk6PENlNs3VCnQbbxxp57o3w07caaSJKt6MxHjCl+4hgWM22zGvso6vbSSoiylqIytsqeOVq6qbN2BXHzV9531eiRfIyI+8pn0e9QhhF3fiPA84gllMne7oTGR7zdeYbhxRiUsS4YzVF6oYObWI2etGP2IOnT4NMqxbRM47Xtsl3a4zesEtpkoD8Jrh1DLHTOjSW7N73SjW9g/LQuwDAXDE/27y/qrb7SNjGre2s+oRE9lcqRT8qQ5EOIoB7cDkDVZIhBIdPRfrar5+9925/0aSaic9pWjtGZms/nBSv7pPjBu110od7a55YuWVx3zaXgQmHkVmZQjONb87n6h9FetbO6Oc2+u29pR1lssWb9mN4j54pvNlU61zEb68xvVIzHvvpnO06hGSLNbtbe24TpPP9JZv6sCd7A2FGOX8VDt1nVjxoZ+676EdMmmFhlBflpok8aZI3teMMxYCnp9pP7kQJzv4dgdX4y1B2sRLSHOR/WrD8Z0YGHeO+UzC/K9KqbvOXUz6VWPaymalNsIXjm/RSvtY6f7s5F9y227WlpT/W1xw18r6ayK34v/9a+cHD5Pet3fwRWd8xIMv65Jn8fiSZ/B0ZZ00s4+dydi8aP/PExtVzQ//gf/kLGw9TWYyZnnRqh8ulgEZRb0vVM7SCyTh1M/mCdt6x+9XfdrXEv1VYwNGM82mW0uHcGj2afcEZq0jZHXFbFAmZhHnT9nDZ+YmeK2HaV0Sd8oVYDgGeT3mHNAGdt6CdB/HgUe2QTmmeBqWNYeXFF3HNw9WLieoZURUTFnHgjEoWAImdi0ke1sVfxqhWp7mVPrHYyBoRxsTTHlTdQn4QhD3PFOnE0hIKPxlLDvGN03YJU8IZwmla6ljWiTHUJgRWeCXfkeie852P21VXkTIfpBVPPgCKpwmaGpoevQDbXl1geIVh0u3bVpIOzhYRlwYKHmIhfQjcGD/+DFoZ3vCs4NFVHpoyEO2xjWkonJcRy5GSELQBHL54R6RyIGjaESVGIREh36j9hzjdiV2+Ii8hD2e6FoZKGOMBkR46H8JQk+g0lLsNIMmJlaZElinxnx99kzIF2B85IvoM0BHp4qWAXFyk4PAdXUfGHhx9kp6U0c3GHS8pmJABXtIQY20BVK4SC4Ps40ttTsyB45kFXumVn/C+EghmG/bd3HhmFQThIJlqIxGlFbSKGCONoFF5iUSNm75qIb3JYCZBE6FuIMCiWtm6G+UFnl/ho0pdnLPso4l5jlA5YGSaIqup5FmYW9POHpfE4DQRoqGGFUh2YE4R5JxpZI8ASqA/4OT07FuAdheulJf4fNFqmiBlPdNz5iTR7mTQWd/8pdzKRSUvod5RBl6RgmTAtiQ5uZK1paJecOJY2R5AyiEqwGSV5lcrtNX9ZQ8R+aV5Bd+0edQ61E7PlWT09ciGJJ7lihnUseKnPiIxiiCjwOYbkaDzyNvhrlzaImXA6mXZRdw3LJYY4iPzyaYT/dmj9lv8rZ/UHaFDzk8VghA7dZmOniWAYZJRsGW+pWF6kaXcHmAtOZAoWl2/ghYpWlb9QgSaHmPMJiQrJiRz2WXl5loDAg7TflJh8eZuAmFlddMeymGABd+13V16WOBS+RlDYYw3od4vZNwO/mFQ6hjn2WAzv84j8Y5hR2GE1NJiNgTSoXXTlayneMZbky3YHKzjiExm8f1nEKoNkBXl3v3QKsZkd+pQ6v1ZBtHlbcymhikn2E5Zw3UgMO0YwEaa/fSkTz4jquXeWZZlBM0RzVSNliJO1Hnb4t0exgZcioEgcAXEyH6h1J5ch9qRhi4jysooGzYVYXXQP1YXTshhx8pfbxjkztqNw25iaGFgcT2nsGYTRypjTLho0SodkFqkgzmSlUVSOrEoEnKjUt6dk36iYcTRXd5WWABgbzpcmJaeImWaqYZXDplkRn4R4Mpn2eVoqKmm09Djmqjp8w4cEN6fyj6pvH5QcdWmfZYktvHocD5aL3/SIYl033KB4E9CKj4B50vsVaKqai02GM/JoSiGak2yHa2eYr5eZIVSX0u2nIV6JlOCXp0qWRl+Xp0hHoIqSjIOY+nSnhFmXqrynqjN2yN6Z+P1U7aQ6uS2X56iIFGp5HeeaJa9VV+Z2iI1KncOX9COj2jc5vnGao9tXkNOj8NCK18NqWpSTyF9V9Mia0LmhM6OZHltoqdea3/lHu0x3V7SZeg1KjU9ILsmpTuCmxkGl+gGnE3F333mnP5Sq2a+q3D4qfACawQFWyP6q0KuKZ0FXcVSY55qVkOi5RlWkI0GT+PdVPZdrGSioqKNpPOZKEYI5LYd6A6KauT9Y0UhnHR/3isYAWFEthJssidRfpG/fWHNGtsNss4jWio6NlLrbmObWdL/AOK//h8t1Su2EOrb8mwUBdrqcq0WnewIulrshKVOGd87mO13iWWSeu1VMqfuAenLGl4rfl/oymaGHar5ThwW7qBqkayjjmmGwuRVdhd3Ve32WlgMneNieqljEmCcHhocxsxWqmBUzuEDYe03/diIwenSlqtqTWq/uW4cwe5QCu5s/eDQwddKStvblavHWpoOwuvrXNzHzebeyq6qKuxV7e6HaeikeaHE4uLsruKtFtHapuGXphSigucE5qMqSZ8udtvc9l6sTi5c/qkZoq8VFery+thzetsefu8y/83oFP5tVARnySLfciZkgIbUq92eShqk1OKu9WLE+aLvaCXgz7JoOe3UQgIt0YLX1kGoXARuOHqZN/Dns5JXQqoVZYTsOopidZpuHdltF/mrBMLs/Apuk/rqpc4tPLpYUvGcjkUvr6ZjLt3oDWKsR1rqZVaqsTRWvPKSGcYr6qqUm0bdso7cS65reAhcM15mSH7uoXpkCg6vUKcgmvnajsMUMvxw+3ULNVJnMIKlrZWQ4UaWNyqrSy6SYroqOvlgu1FfLf4g7+ZfJ1YhxpmtziWQsgatqE2YeYkxhz3ptZ5tZSYxoXLGlzLXSVcuhSYuFXbh40atZcor9Kxx/MGx1T/mDkiCsjvur11KZf+psZ3q4Iw+J4LpjTgBX2MxKsMTH/qErgzrBgAaToP5K7BM52S1rUpyn/qODKi7IaIkaUh+6LOx6mvZn+JF6mZhb+T21sQ+bcgdMtIV1nS51kK2aouOcEWBphW2brKup1bA7rcVLD2KssUfIdaTGkS28fbGKpDVmGtmo38e81/aDW4OxzqJcUxiYzH2LmXA2J1So4S261gyksaZblVelqxC6Iyt8R0g8VzFsDbPIzzi2IIDHe+hbi02cCvuoeTCB5HXIxrKLzB6nYU57qsysnejMKHLJsnG8z93D7Ribs3uEN8R48WQreLLNKoJaNiBZZhNodE/4xS9inROotUqsSa7Mivzua+k5WFiHTPOTtoXEqpIiuPI4mY7CxxmZUwRL1kMQlxDI3BvptvRg3ORczP5xfVMEJbWO1tvoV9XzxwBqi3pPaZXs1TL/nT/kPEhEt3xCidoIVrPpzHH9XWrOeeMvmsXjzXQr2ROOrLkgPYAObHobivUkZHRfN4KQqyN6wl5ZTLWnq0ih2KVUVIr9jUi+bIFlKKHAXAG02bmZstKDW+nidWN61GdR2mou2rrRi03HTa0nwsSljQswzESI1gQwLFqUtuzpu9nka2G3sffbnbDliIvi2/JnuK7vhWEG0+jKy1OYzYqCygEQxTWj04043c5v9IgT9aWgUdzT7Usu86nPPMi8wEtiWczENc3ha0qVm8wDZahLY4ZBlkrH3NUvdNoNfNs2HbeG3JcSZ3QP39yf/NOnIt4K8d2amKP/ADS5+s1IvdwBYqQAFlcBAuKd7ZgFNqWhYOoIxNXAJtyBtugu5WywRZ0ZjsY788rEm54WFN2C9+e9kNQbQcq/Eo44tNpH3KqNS9kno9zkTO45LJO6mmSj/JuzsKqfpcMeaJ3Ca636Hr0VVt5C8KwhnK3ghKVpOK5RNSsp48lODyshy83t1CyWD+ZOM3o8Rk5sDa3ni95rbd3xs81bVN3w9O54Nt55j5ucM5MQXO59hZph78ypB2/au4TehOfujnhHdiXdyE3s5vyOLhh9p+6cyT/sHJnd3TK+kY/uSbzqh4s8RlPeUsNuqXe+bf3NMo6NtrTegobsXp5eL7qb+qbnfp/OiEmqNKuZi5rmz8TK5JG+z0O+zSWpXGruzBvexbNMjO3iixHu2kfBsBAQAh+QQFCgABACwIAAoA7AD2AAAI/wADCBxIsKDBgwgTKgwgQIDAhgghLpxIsaLFixgzatzIsSNHiRINhvRIsqTJkyhTpgTp8CBLgiNVypxJs6bNhS9dthwZ86bPn0CD4mwJAADMliIFFO0ptKnTpzUlFj0aUSkAplCzat1qUWrRrwSXImU4NifXs2jPev1qdKBYqgPNpp1L92fDtwGmxm049iHRtjytYq1LuPDFu1f/Hu3p1e9RvIYjSx7qmOLgvG39Qp7MufPeyhMv69Wc2LPp02RJXwaNWa9Yxn1Ry97KcnPVsGAx8429erbvm7sF6h05WmfjgmyT/l4ONDhm1sWTHscdPTXz6ypz1s78XCdCtuC/9v/GTl6j9p1Wcd8+GD78+PLwFSYn27v+br7Cc+dXHr//xPnOKWTffX8VV917/pUHYFn4JSQadxUFluCEyOUW2GUPZiQhhRxWt591CFrH2nTsiRcbh9h52J1coTEIl4r52YaiaVgdaNV8rEVI4IkVUgfhjJ7V+CNiOIrY1Y7/cVckkJKx2JqJlYWnY1JLGqmeW6Ux2SR6BrnH5ZMwFgRblULiFqKWT533YZdZVglXjEqCV1lP89kYJppCqdkdm2v9+OaTPg73pY9r7nUnnlwR6SeIN7a1WXuLfhggWW4yOimiaCm6nqa6jQWpfIA1SJqKLF2KqU0bRmkhb+hJeaRcGPL/eOap2bn4GaBWMuqqjrDymOOttDY1a1VkIilmg++xNSuJwa7kK0acLnafdIMupOyz6x3a7JTe3bphYDZ+t+qv4qpYXZHabtvienPaCu6QPC5Ibonm/ohupOqeZCC8f/InqHPF7SYjnNSWu+iw+YJ65Z+xSjrtnvQJFq9+ewlJKrYJd7usqIYmtp2X0a6IbIPpiutcqhlvinHBx77WansCU/wvesxi5PKIK+eLsMpYKVonlLm2i/PQlOYmKJsp82dSqbI2+jNePX/5rbuNOox00uxWSGChfplq8K49elttv7e6RjHA+CYs5NYQd80xqJ+WCJeT8x5XJNpYm/lszWUm/7Rvkvlt3FuleZfYcNtBI76w4mEPPNTgFBeu4cRH03uw05erTGjHPn4cecVjS25xqAYTK2e3/BF3dnpYQo15VXRvm1PJjF65o6fjGnlhbCDzbiKJsEleO+OaY+n2pPLqziCd4Jl6LfCsCg9d7oU+CjScf2v9cJjQx+36r8FnrHrl1WcJ5/gy2+sxyfh2317gUkd/LNY343r+8rZu7vZGlb4LttJGoh2m6nevzUyKeQF7m0X6x6C4ZU110ovYvARonGpFTVx8ahr23ges1n1ObSPDoEdOlr/5yU172YLU6thEONmVUIQ765S/fsc6KqUtgNSzFndimCCUwTBnJpPf8/9q2LIbom9eV0PijOwDtw8eKXmqMp2AiPgh7tkqXIhiot9OtxFObehiVjyXo9p3RX6hSVEomxoDM4JFhlWrjWByIvweCETsoLGEanTirOBINAiacINhcpwPZ9TCUZkRgIehYrfMlkSRla6CyVqftOBTyKLxsYOJPJTd1Gc7yl3Oa4bjGCiXQz7QEWx4iEycqlznR66FbYLmq+AGhWY5Hs6llPvDVezCl0JW4m5xjVzb3tiXvNHZMi3F+hrpUGg/HbpyelOsWS4HVKDPjY48ybQcLmXYTIUxrpWy/GYIH1fNS57SN0+TZMQQc0BR8oWRDqom+CbmxgIus5He1KRiZpP/ThLGrJ27g2cv74lJ43UwZFB8pTOJV7YbEuaOxwsdt5TYTjc2EWf7MlvfntnMC6JyMhBdp0Qt88JjpbGkm3vX5hyXPRbuUIMf3VLWJjdFb5KkT/qEVCQzuqrD5VKmqDPPMG06wnIaEXOOc2mgQuVTCRamT7lc4x9NiJhHWpSZyHMoxLQoxia2FKTydKpUydauesGReUwD5hbJasKubvFenEGfRpu2u4Aa7YZWTORFejdI/cXznMqjIHBw97Oo1RV/PwPcX4+01+Y9TImVhOpBFUkb/M3zlHiLmNn+19CIgrKdlcQsHsvoVquCdZK5kmxmYwbIzInsdrBroBwrVMqT/wKWo7ftDPNmGMhDehCAHk1l5xRYxTGyNWTSumZn67Lbts72ktmsG0wNBkp4JtB0F6vuChn60L8ctqZiy227SJjQq8FRhXr8Ur2iFl0aeRd/TZ1deiNqSMgad6rovVgUQ4ld327pujoJrSU5mNyw8tKU3WmhfiljM4KmjriZIiJ7Z/sYFVJLtfJD7WbxtWDwNpaiNKvjYJUatiO+1nfiTVzlqlpio5oztUM1qWxbBODKkriTK2UqirtZUKsV7Wo4teZ0e1xQ0B61xoUZYkLz2lC4GhRn57nWT4lcYb3ymMSw5W9dlJxDJq8yfYvbXVmBZir70E6yFxWpMLPyxdO1mf+WHHWV/7LEtgdP1JFTle4sLefZ0SpxJm1O6HHkYtYchrTOVM2ZHw+s5zg+Mst9FDFQFixlLPWpVwWeq0BVudYTnrLDiJNRpXFrGkpfj5uVPilrO7XpPS6KpxwF5xxpG0vBRninDu7YJZsra41UqdKjFic+ExeiYLMZwlhuWnt/VUpb+/V+0H5ynhEXXIoYe9L3le6CDgeb9yAMZTwVo5hP2LvYZvbGTmm1snsa424rWtJEK9+vY6ndDX7WWIVWy5DhTGxkh5rOli0yxtIpXGnPrWqLteGU01Jtfhv2WeK2oDsLnuMXx/plXi7iwhMFb6ceHIAbJg1NfwtjVw2xytb/fimpURtVrdql42UOnR8XREETj+l0J+dcyl+kVYDu0zCjNLilYZq9Y8ZRkDuO7Z1JPbUudnxp/o5zLHmO45LodN8MDTrZMh67dTlFvn+OJwK52O/GclZYGH+1yofOVgHXar/fVqADy75AAkPFcyKcXl+vjKqcZTfGS2VZfanM92jKFsmXJTwt2RnwlcskkkpPuAdtNGe2ptjwFUY8jC0f3qKN2/EoCWmBU9lcNqodvIv2N7iBtmRDKzJERu+I6EHH6FzZul6o/6XHg4o+DKd0xtP2MFfcDi1/Y7HpQkc032TeqJjNu1CYFnqLui4T4icyQ4n+ePIfa53js4rLz9+q/8TVOv2R1mTZjKvtO6cOsd7qKfLb3mfpBzw92s2d81lBP+6Vx/hGuj9+mKdL7MNsL9V69md3+Hd3tyN3ZDdFSdVQY+ckTZV3WoZ9J5VYu7dLT/cRCzh26dJ/DCZqZJZhQUWBGWRf8UZ/J6Z9FEcTCVQpcXNoupeAfoV9AJZfteZE9+JuNbh+kvGCOshBMqhWxbZdInSD+WVi6CYjWZVALBYkCFdcxSJGcraB+zI69eNSwZZv0qc83BJ7NIFQYzSF6lOFHXGFnpSFtLaFavdVV+V1YAhongR96hUn+5eAFsd38rVNBJRtdJdC+9WCL/dIAEYiMOhfnkZ4UuV72rNJx/8VY5UDak0BT2OnTD9EdUPBhf63OuU1PPe3WKl3GpToO4W2f2+WiW14eiQ3eOETZB/4RrkWV3Q1TAp2amGnhI42eWO4TPEXcyG3ho7Vck7nbCXxcA74XLbIafVnh+lDcN3Hbr64i1oYjGLlchqnFbWnI27YYCbYOGRXbnwmflLIjNEWRFKkeD6RjSS1jR+WiOb1jY6lXEgIWP0EcewncugYFbjjgbmmdZ3mM9LIaaM4jpiIgV7VjOpkenFYVHozjfOEMIJicjn0jvt1N/tkkG8Fj2rYWAtpEis2g9ykGsOENr94afYoYKtXP4ezg4Q1kdPWkdz4UWhYYbFCkgFpkgf/eWe9N04D1ZC6CGKC2Hf384QKRU2VyGOzN41pFXwkFSvXNmxRlpAKOJSUJY7kdJRk+IBesnFx55TJCJXxs5HDx3o6NjN7RoCLI4meGJD2lYf01Xln9noTN5Z4MTNmmYtoKW1qCXYddZKIeGFUA3o6x3LKaBNqmXh0qFh7B0s9mGYS2JLjRYLtSBeHuXnSBjkpWHCwpoi5c2DFpEAQaY2DiGAVAYSg4jzzhWfFtXEoWJg5RkI9KWNkA4IjRpo7N5ihdJQzBE0rWIItZnZjBJuLJGSDRJvNUUdeNGSQs2FoVnzcBmFmZiLox4JeiGAwGZSZF4vVmWbARmFi127QiTF3/zSdnZeCwjmawCV/7yV8/5R0Akg082ZFbYZWDEiDuqad10lSdORjD2hX8/eZPEeFZDSfvoOa9smKWBcUODlZQIZSvmlDL6aJAkd+falY3ThWISmUT2Jbv5mPhYlcKpaKpAeSjblQF5qas/YTAymbVhmbgqcrd/WArYVRRzVcV0WUDkly67WBpudjGrZ2LsqiY8acAyeEwCd8wZZHOamjapefLkUgLBWEy/iLqXR2egmPpQkvLFZRHUR51RRkiOkTQ2Scz2ZQcsWW02al8gZmtyktd5mCXhptZsiU5+dahPmc5lakh6KG9xaAVIpngiZEqrilUVd9dmqbeApJeopXUv/Zp99JkGZqYCUlTSLzpnlifuEUgAdmiDVqm2EnfKZFEhbphD93qZ/qqeG0qaWqT4R5qjMVjh7JiS9FqbU5V4Pmg3X3iIQ6ZXEXlO4mhqEnntw3mraqnjhqov22qxkIc5Lpm1DKplBXfk6aiKW4dowHPW+oMaW6el5XPm3nZrpnQM0KcqJpdXFiiWLTh9maqEjWa+QaZmlIUHM1m8JKoXValzgYKmIhgjLKmcZJjDe6qIBVe1pEnSpKljgokvx6jw86dNYTreWZkQPbrAUbsS9XWh4EewDonA/DgxybrWMWqgV1Vjz6eIokoBrLb7zSsawiOH6WaBK6db41rU6XbAf/2rAjZ56FKrP5NFuQpp+TRbMM9ns3i51Aq7Mpq1DvKJ/DOrT8V7IQm5i46TKF+LJvSZFCimdEyTbWpU4ke1OrWq5yCK8oBz9bO35BC2GbNmUfSaqO2CnLV7TDaa9QYZF9VrbNtE3gpabVuGBRqZlii5tcOa7ptl0/S5ROlrR8a5PFsx2AK3tySbBQqy+ut6/wsmFgk1PgGmhAmn2Piqzkqn4p2hmBarkKd3TQGk9VyLmPCGKYKXmBOrqyyKVLGbqdmyS99WUWqqgA22lsS0OzO5e1i19GmHK5+4x7OqC4qhKkOlxCq48qG1R8e33rZ6luky6sWnzDhpHL8X6w24Ac/+h8OkYt2NupVqZW3GtHJJqR9QiqGcm6H8oxlTQzq4aur/q8xbi+ykSk7ktdpKWdhDm/Ola/2kRGRnts3cg/1gp4HYpuuWdvsMh1YTWZkbFRHlG1/auatPaFRkVoPvu/PVrB9giWjPmMIxduf7lQ7IhglUl9QHWidnZCtLpYKHzABrXCwtiwLjwbMjhhAairLWlzEhPDZgtfdSTB/Tm5Ctp8IXaOkQfENkpyZCqTjdq0RJWeSXwdBEyoFWufH8mtAZaaSUm8zea1gRu8prl7r3qqX1xCYCTGTIykXWbG12G92vqj8dmP1XvGIaq5WZyxVitSoji+DDZunNWJ4gu5Iv8LoQy7jBx6taiBi986oy12h1fKngUayNurisPWvZDZsJj7ORHJyZcsefQJskqbfqQMH8kZbacYoG1SlggpmI3WrdYZhYzFXe6VPKlWRrwVy9c7y7rcukd7y9Znwswhj965oItYlYEKxl4RdO4KyIPUry+8wYXXZLHst87setD8Xk3VW3yayaw8wdT2ffEol08cxj17yNYITrxsRvhLrKk7T73zYtJcleMYfne2mXHrmqXmWp+nglDstKxZja3VQsu5yh46yMXDq7gsXV2sxiy8i5+Ih1KKs7/Bta4FftTYu6KVvKFst0N3rQPIlPN8qefmXFQLM6V6hqsi0hZNdqr/054rXcv+wVP8aLk1V7KoWawQXY44dLcxNSE6TYqOdcy29NPBOTKc+81ss8PlTGO7eJ5dmool6Z6fBsDuiEMfiY+0vNHCSqSPSaESyYdleF9FaLuLR0Qg/Rt/TK7K55frXHQOmnspjU2N/IdwO5eLvHt2LbfDG0HjyX4ASa+Rlnumu4ow5pUaaLBnxMRM+DoTWp3PudgT+6I29NgWm0Uve9gAvZhOtZTFacXk1Mt6t7xMwqGg7W13PdpNvJ20J2ni670trS7qGM5sOn+lLa3EhKUsOpMuVHC6HdhFOanCytGZq6Vhm9dbBrwNTE6CCY59I9W6nLyu2iHQXXXlN93p/1zC1o3dC+Xc3VWLcgzLVyxOOWfLkutK5M1cEZ3Kf4KEx0uhd+TaiO1cNowptReDvjzbW/09PyY2zQnTeps0/W2kmPiW7QujB1fgHNGJKfO6S4WvpuVW0cyANRypFCw8FK6LFg6r/6YqTB14HJ6rEcTOBN1+I/iw2Oym292X1LR0KU6oTubKQyx0xXLfn3zQrSp5KX7Vkbg+FrmT9Ni5TOOolDrQQT7fudPSzQvIRx6wiKZ9oOaPQV7NUvnLg+ejkUpeesy3bw1CMpvPIb3bOxbVrHNz5t3kYOvdHqWsIw3cOevmJzHDPvlgQ57Q9ZzLdk65Dze8iQqpGDpr0/znHJc5i4IOnlfijFUKcHSL6NprmeNoSysKS9Ys6RwYpvx7wWrtoE+p6W/X2EaV3X8Ny5ku6jVL6ntm6cvcwUqs6nLsVmJ+udT4t8Ms63fe4zcMvkSIOXrCYmOu63WOkUrdcRJO7GH4yZt5vg124Mq+65GZZtHeH+fxIMNe7U9VpNquJR/e7atdr+C+ROI+7sHy3uZOF+juEQEBACH5BAUKAAEALAYACADwAPgAAAj/AAMIHEiwoMGDCBMqDCBAwMKHECNKnEixosWLGDNqpNhwo8ePIEOKHElyYkMAAEqqXMmypUuRJ1O+nEmzpk2XKFEKzJmTIM+bQIMKtfkzAE+dA4sOXcq06cWOC4siReq0qtWrAqEqlCqTKtavYFlCRQlVa8GxMnf2ZOgwrNu3G9GWbWsQrc+1ZuHq3Vsxr9G1d8m29VqXLt/DiLMaVkv4r2C1Cv0mnmy1aEO/SpOmZSt5YGfKoINavmwwM2TPpBN+Ds2aJtfCc80+Rt26NtbXZ1NfNjxbse3fQeeOLg1gd2C8i9kSbwy8OUbhyIkb1zw89/LNzrNjnHo05vTTiplT/xSvvXzUrt0FCJa9OeZG8ubjE4x5FPBB+PV7Q9Qvvz/b/PYRt1V+q0mXnH/OeUUfeo25d5CDPMV24IMTIlibguqtZdp/2KHG3WzfLVSghXqN6JuH6c1X4V/gcXQZfCS+ZaJyKEZo2GrcPfVihzG6hVaOFJ54XGTJASjeejem1qOMg2nII42YBWhdQUY+iaSKMy4ZXIYAmgXdkcUl6aWS90nZGYxaDrVgfWOGJ6VaY8a54oZnPpmmU/W1KKRmOoYYJWNWhhninncClSeLU97VJ5l/Ohbobn5lWehHjVaEYUSNQsrlURNVKemkOgpo0aUQZQopgJ0a+SmoJmXYqqgITf9H6nFgNuhqmV6hyWpGDmJapJ2cNanidbV22CuV9um666vIXqenanM6CWhmx84VF5nLhtosskA+hKO0jlJ764mrwrZitiwBeWWw3554KKFB0hbvsPKi+5K6gral6YDuclovtPQWJvC/9kqkLLH+/pgidWH2OySiinLo68PwFgzreEb2yyZvOVkLsaPPInUskRTTaDGFG0Z0aGbdbjvwtAnrtulF4pW75II0+8syegjVzDGqwbp5sMuJnizxX51pGuW7BBfN37Ypg2yyvLJu1nLBEDZM4b7c+hvwvEhHC2jP0U1ZdcRDT2pjYVHvBjSW50Kp79yezn2awg9tPKjFa+f/1vaOTCs2osdfEmg3onifZ+Pe6LaZkMjCNv0y2BIK3V6SY08NL3uTN4754zLZJXnRk1fO4aw0Vvf1nrae7PjmHAuO7b91qg61seOO/nq4b2a7e6Sxszvh7rSGPuHVR69O+89eGz2ax3A2iWbU/PLJMOQq2q4wdM4anfl07CU+YNof5xpz9mVrrPXIUnsf/uG7I29urHTnR3LQ1lvqJPW+c0z456dBE+Pk9rZ4hYh8mQuc9xjmp+M1D3aZIxuGJAQ86IGNaf/z3uIA2LXWTYl/4qJgcsC3IvaIi1xxuxPOAAY6C1avc/Fa154Gl0LS2WuF9BuQC0GXQxE1qYHKg6G3/2qoNvuViWwfOZTo6DWj1bDva3IhYowKGLGLZUSJkWNiDZ2Yu9L9UIrZ8c6vImhDuE0MV8a7X9LE9KsMKk5rPRKjqP5GpCY6EHssXKMZkeXG8cFxin98oQ+fxSy3dQg+XCObHckoqr3ZTC9PQ2KpsmgRCTUGkZDS4RalByzIAY9V+AmUBwe2tPOx0HJuSpXtrgPENIVSgrjrYSlXWbQVPhF0tDxOK3tEp+A5THMGPBwjhXexBZGQSFT02wOTZ6FeVjF1aRyk3Eomu0qdLl8Vq9Ey0ddLBGLllsWTXTgl8slpTm00+sHg56ozGwVK8n6gAef1jGfC3vVQiyh8mBznCf9FTvZLYcoSIBitYrriaY+TuIFn0+oZPVS2sH62Yt8o84c4DpZobrM0pfoSesqFMq+h19SkQ+F2yVgSDY/ZDIvHzIdFfAKTkB2MZjpNepcKOvB9KcXlIa3WsYEKZaU8bSnVhEk0WOJxpjB82gBnusO8SYmlgTxMnXJKylM9aYBLBGbfXHrGIPrweZHbnk+ZMtWX5tGq9NPjx0pZTkmVs1VgvRsnH1kTC/aynFjUDxdhqbwQbpJ/a7QVYH0JF7uaaXYANZ5eS3jHy3VPnJMcLP0Ea89zAmspa3IstBILMy+izqA9tWJFBdnZSiKWqF11Sma9CtmVLXNMn53nVikqV9L/8m5RVe3LWFvSzZ1yM1mHHWJJkzlM0U62SprlHGoG2NfLiuawJf0tVIWoTIRFjX8wZRtyubrWTErzmVVxEAkL10D2EQ+NTm1tNOE1NOVCbqKAmlFsMXur8UIUm8vt4tRGhN2Kiu687Q3ee2nKwBrOV7UjxCglyYe86X6stlI776qyqsvhzWy/hzvhNxOsXvDuh2cnBVfEEifhgVK4wMdFqTk1/JZIHvE8Okpmf7N7TRXzlWFp9e6IyfShqF7FxcYtKjk3taEZP1iZuewaNfO7N08KOLQIzmZZJ7fBnIrPshP8KEiaui2xRq+efbPxlqTswHs66pgsZHH78Ffc56D2/8VeDhuYoSxmoBhTbDge3YFT22PcHhmy+ovuh91J0E21K8/Z3PMk0VbZOlJyj4H27aC3CRZvKtpcOwwzgxbGFTk989BBpq517aPcpVhas75Cc4UDaLgE/vGAqH5xqMuIRnV62CalNOrlDgxkRJ+1pps8I3NpjUfR+eydN8l1rXcda2A7VaCs8zHY1Dg7M+/4l8eWNVkR+qj7lvi//sSfk2NbYmp7cZ99lNfOFErf0hrIct8Oa7jPFixyW9Ss+azljtyIV+CyO9nROuiV9TlvRnHbyZ6OsIllNsREWq9qCjRkQesa8PSJu3fsRI7jgOZwiK93yFyGW5PpeXDcobvaNf+BdkihOW6NW5i/PRXvGPGNZOfWybC6fixth6JyWxbc52uEOZLEXGeUNdqsICLsOJfszZHIyeHwJmqPuSNza/+rb8NWmXMdHXLrFfnodNVWNXWsTZzfNmxFV2t8FfyerW+W4TBec5tZO5PVsll34e4vHY1u9VRubebMYpYzC0tkklM3cXrvXWCvamGfWTO1Zxw8k9y96GWrcn0cPO8QZcnhGAb3q4d1L37tzO3Ax/TyFvzdwjl/+HDTfaT5ZXTWVVKt1BS9v3bEJLJt6sdiEzVrkNdmojUK8CxDWOd953tHP53gb1Un9bdS1uJvT/yf6nfwEUe5FncodMP/eeWkunP/yfaqZJ32eXQtkejns09DyL5Vpx02esvIq2Ur/yqUXLk0TDrvYfkefSVMg3WP1l239mvfp1uwRxPv9yz+13QeEYBQdmKoE2C/dC0JCHBTRmtLh37LJ2T5531/o3kYxl4f5zilhkZhZ1oZ+Hpnx4KidmQfqF6Od28z9GYqZoJK1zUp2HYtA19e53YCBWtaF2Ar6FHqozw4JHdDZWoidmRlFVA2R3ZQSIRlNm0rRmoJtjPZtoNuBlNqZ4SxV12W1UinFW1URXNBJ3UYt2mstFtiMYBkBkMJhz5m2GVlOIY0Z385Fm1gMkyzdRW1t3lvd25v5oJC9j14toCaUTvOZWRf/xGI3/V3hKiHGHNjh6aIIIV86GUbdMU9kdh/wdaByISFt9RKKyRoa8d6hcYr9SOIorVIoggtfjWDWsRRLfKHS1hpHzdRRPdHFKiBplWA4ueBisWG0NR6Dngvu0hgvXiCrsiBCLhzUSdaA4aIDNh4bucaQeVyVYVm/3OD/GdONIaErqdtueU0FjdhbhgSUOVk3Qh331iC4Wh2z3iEPGSAX3NQ0ciETJcvUaJqlJOIq2eFOWZeY+WIwfRj22ggIweQXlQ96ph8mKZfNoOQ51gVMrQ8+RiBbKQ0O+JSXfdvS1aDhpReK8c1vWaIyuhImcc80OeRJZmLIRmLbfZ0+kWGYP8VRcEnFL2memZWJfWoEeAmSYwoUrlIdwApgtpIfjX4kxnziUIpb0TZWEaZb0gJd01ZaJJVYHNGaMD2kmTHaEhlVh6HcNqnkWHzTFP3fxS3lWvXlZT2lb+nNJI0W2lnezEDdQGZieWzaRb5hqu2ZhvzW1mZb/RIgDV3jj2mbDmnbw2IhU1RT1c2mMI3gjKphsynXR5kbFA2kvzkmAbWPFy4j/e4VOsXVfK0kdkGS+Rna6O1iYKWdKSpgHHjjptIL0p1kxekeBXXmqIplbApabLpIvyohBP5bDIlbR73T3h5YqkYhqy2h+pmShOVWOfXFNf5dt3HnNKZcVXjnGfGRoz/Jp0blZwPyTvZiZ1rSGXMyFPDd4Zdl3gx2DQ9p5vKVix/mUTriY7seW1wFjfxeXSuFVv1uZp5hp9sWRK9qDcU+WSgiEKglhvklzVGRm9n+G+ms243saDpYZDjuXP/E6GQFkxrmWqU1Imdt5zSCJjA2FwzdVSSholpiT9cZkh7559kJIK+l2+2WHfh+G92WTaCJqNJl24kRWmmMn40+Jpu1KO45pJ4KX0/ioJwGFmjp2+CuKPlZ3wEaYVKSXtQOnAd2H3gKVxX2k9ZGk33eTlfiKFLWhKwNlwxd2+2eYs75WJA9Y4mKZbMZj73s5hTqpnSBqc89lQdSqfeZ6dtqIqb/3mWIWOMsKd7iIKLNISLvIWaC7aQ0xlRWtZ+kxZnlzeiQ+lDSWia3JlymKqoviamcfpxEqmDczVQfoWbrvp3s/qffBmZiOpiXjmpFieS4dmPPSSps4mYcwSZq0ifnXl695hk1BWkqPhBwGIz1vSEyPoVfahVhgpaGUdogEqHKDKirIaQpnh9jZigPBcoJBityJWc3rppsMVs4uqr5GpwfleAnkmbbRqu56FcRZikEvpmbGVhXihFRdml+bl/+3qvD4WjQgawe6SIlnqMXZp8N1p+gCieLqKXG7essHhFcyqIXIQhAjh8SZewKzGHIBeWljlbH7sdIStNI9unmGeymP+HsiSBVfAjq81GUUDZXXH1RsWiXXKplssqqAKol6SnVjNZTFUIMxwFdLVJab1VtD57tDWXtCxLmz3qg93HqzrzlJbDfve3MOQIO8QFf9CZhy5xipJ2tkIrbQNqRGP7WrPTJVPKfYU3NLd6oW1bX/eVfWn6ZQrGcadVopaJMJm5spQJc4C2iOvoEVVXY3Y7uHJWuEbEkoiro82jf0dasnHXkJHrdPdFeecpO1UmrapnuFyTWRVKl+L4cIF6gITnUL2qenfWb6ububDrumzpkVYpu8+ajXChoZQ1e/JDbO5JnCjWgg9VkcRbmLrop06YIcgLYsBKvaanaYk3e8iWWqP/uWUVl7w6CZUvuKhs66LRG7r1V3Phm7Lji72qC6D0i3qF2IE4S4aeOYx80armAzyY1LSVma/Q2FF6+7hy2FhfSl9z5mxiKJ1udWEE7Lfn2VZnSaQeO7o+ao1sO6HeFY/iQotWOn+GloV0W7GDKFUFB5+MNXaGWXjgOj8jLL/8q01uubL9C7gSp5uwM7n5ezTea3mmlUyp2Zct8r77Z5aCQaz5BaPJCMSOan7rW7eUtae+qpLpioPQ13DlCMDEl5sKlWUd95HGeYi0e7548mpsl7gprGZ1G20yWodjV17RJ6DqOmQXtX0tvKITPMDaucdRx4jhR8aqecezlrF6HMbn/yqluLe1y5O6ijtUHuprBfjEPAlivRq1ZJyGu8vEhPvCdnfAM1rJa4jElzqulaXJk3ucj1xZ/wiPmPt8nfc0Q1smpsyirrmB/aSyfeyUi9WfY9qgR9xYKblhlJdRZkbHN0aaLhuOnsxMFYh0ZnsYJAyuRWeUMvd173NzmxzFO7mi8YO1kETDSQIkq3KyxVhS23xT3cyFIoqWzwkaE1izNvTKw8qRvAerSTix+ot3r/ob8yzKzaVWWivDFbbP4oyr/ozCYUR2HQvGpFqOr1rDEI3FMbxy89ocY0yrFd3GYMdYQaqI1Jo7SYjAwPGFreq4V0sqHuSDIVGmpRk5zqrCyf9cqMWsvWt2YjqtwfesP9j2q/4BsWhYzqFXqAVriA7pX45sm73aH0LNlBjNZA66l5OUaSRnqhf3w3whpd9JsPeYveu7wCy3vJFs0v3B1c3p1d+LsGH9pptK1sxq1jGCg2RYxDu2xPIIrNcoctZbpUCj1Sf9OaZi17KL19L7gtVpVeD51+gaHyLkR1zMtCjXpJ2ErI1qO02dJo+ttlzn1TrLo5XN0iblc7oMKkY6nS78mt4JyybNZX9po52LHqMaRzvb08Sk2kKKXyGaolS5sXu7vO1Uq64ztaM2d8y6Lii5XR/2qJZs2sQdU+kpxZ982+2qdcw9xXMNeGY8PeYJ3WH/izxwSbbdCq/2ejPaTcomKYHK3aPhbbekLTWQnL7yQW9YVL7jFMEMVcYPnZeENWe3XBv0zd+5enb4rWUXa52Jaqy889+B7bAPmmciFJP22HvYDUHOu8rO7eAg2qkKpimizd04228hLNyulJwwfXJOldQQasI5ycOxO4SDuiQweuJ9fYbI7dmHy9/yJMCBeTJ3aX8Ahs/3S31yncALtNxkeb+PO7DuV4VlFcRxfOTyLYxrPDDqDDj7UzaT3M8F6c0ZXonBRNA7Bdub24rKC+SOLOVmDJI4XoPZabjj+Jkk29hSXp9xGLsUuo0ZB+MkDNiTks+02qpxXuT0esK9jIdq9m51LDndrmai1fOzmuiUiR6MnE00HjzMKqpQM8ngrOJ8hjzU0ZzcKhe8/zzpLfpGnhVVtOSNX7Tig27qQRmq+kbLQM3qIJWhFQ7rVtqYEevMsg3I4MzTum6mvB6G70d1wH7Uw+6jECipUG3Rd8fpy/7GlGw2yV7ABj3l0x6V85nAzW2P0r7tspjliu7i0TjT4v4SsD0SfKs114zt6b4ofs7Htgyceh3vIuHs5kq0vu3q8I7vGqHv0cqwji43Yg3w+tnnZ0rpcLXwCK8SmpyRYjdkEv/w6WJK4W7xYSFUGa/xeazQHm8hTy7sIR9PJF/yAH7yQBEQAAAh+QQFCgABACwGAAgA8gD6AAAI/wADCBxIsKDBgwgTJhQgQCBDhRAjSpxIsaLFixgzatzIseDDAB87ihxJsqTJkygjMgQAgODKlh4FsAyZsqbNmzhzInzpUibMnjMb6hxKtKhRijQZKlVqMCjPo1CjSr2ZdCnTgk59Tt3KtevEpQRZBmXZUyFNr2jTbgU7UCyApw6F7pSrtq5dnWex/gRJ12DeuIDvCh6s8W/bvYYD+xWamLDjx2UPk4XYOGJQyJgz03Srsq/Fy5lDEwb90u1kq1cVB+CsF7To12lJ+zQNE3XVsGKbiq0MuzfRvB8n056rm/Vi38ijAhcq3DTx1rkP8k5OneNHuHxxxzWe0PXA61YnV/8fTxK8+OyHt0dX6D0w6vPk4xdm7BmhbO0L6x9GLb8/RvAT3Zdefuy9ZZV/CA61XGP8HXTedAlGeNGC+sXFlm6RSajhd/R19lWFq63XnYgbSgggZSBm6CCJK8JXom8u2lebVnqxdRuBIUZGW4wvvsYjhny5mJVqDDKHmJHD9SgadmYhOeNiJ460FHdKLkmjhyGe5pmNKVo0JYtVYtbegKUdOZeWOzqHnotM4hjmXWMKhKaIhj1VZpqBsXklim/2Zh6Y6Mn5pGQ7Cqric/i9pGiXfU71J4+bDSoonjlyiGWiPi3a6G8dSndVnQdW+mWeM7JFZUwFbupVlDGx2pOppdL/GFyss/4Y6IqqjmYgohDRVmSB3kF4XJB75VpUnLcCuxuIjbl144T02WostBbSBR6X+AE563Og6migs6lRdOq0/9F3Y4ORykgqt/rdONaywhJKrk3Yvfscpc/eytuQ+nY67LjzllTvt8VamqWa+eYrI7YGd3twwFKG+iG16Nm5pVKQZioxn/m5CnGTF0oUr3vRSsphm+o1eKmnHn887MutMsrhg+GSzCvMvxoMsKEuw3zoyTKr9+rFqv2sYs6k2iptzyI7qSWokTpcptHENqllcQUzXZ7Tsc4Vdbsl03xm1jObPCnZWq/crIhK73WqygcvDaR6WYnd67Jp96tstrjK/xtzpDuPCBS8e+6Lt8sD29zvU3p+qWfRDxuM27ZlC7lr1SPK3WfiFfvLF+MFv8eix9zlBRrNp8rWtubkNicgyb4amW7TlEPOaq1k1w1oyy67fvm5sx3uneaw/ny7kwtjvLvnAZteaNmLgVvt2ZDbXvPdTVbU5shhOp+k0DFJ/znyyUoOdEW2xrt90NNSHjvK4wNZumesx/380ddXVZX4Pbtv2qgsox9M5jc3iaTpbdbKXwL3d7j+hW2AhMueqOiSPgVSj1C+O9tyEPiuqaXtURDk171MVsHlXPBsGTzYBkensXfVr1Gocxva9BKg3ynPebg5D2u4EzjLwe1qvTuSDv9nyLcCXUtjBeRhdJTYNt380Gx5cxOqzKeuEIWMZ1g7oacCh6kjApF7zQMb1fAjwgFlMXJj09zTzCUr5m1KYZW6mQrZZ5ncLXF5ZQIea2rXN2PBsYJYA6PgWhRCsjnucrCLDh8LWCVBSjBpUMRa466Hwjsmz2pEPN8EHWmlk7hLkV36HtAMQykeIQt8naHcFTfkMJDRyG4Au5OZMlewwMFPe12CFRer08qOvXKWsQye3WRkuQq+0FOp5FoUzbdKPSWJfwMSJSrHt8NZ8m52Y4yi/gQYPTVBk2fSxFy1qhmZa1IwdHT0z9qGuSK4gdB3GcshIscHuAgyM5cJlKOG1jn/y+SF7J2FjCehtlnPMsIRZ2LkpTDROcIkMbCX2EQjUvJZvnKGak4AZCQVp/gYWfpMZ897aEJVM8RjAk+CDcKo8qr40WzaRZScBKTe4kgsmY4JhxPMJjultkCKVg9OavppDVFK0RjadJ6Qaw6RQLTThG4Tfx01kqDgiC43hrOSlusmvxhY0gYiE4NI/cygTjkY/1E1VKQLKnRSh05wHY+JXoVZ7DYCRLKKCZS6XJYaC+ktdnVzqkU93BONFzyqEfSiNuzNHhELrr1qcZENu1hzPimbkLGTbv3kKD0Ryzu0NJFYuBMQZefpMcMpbnoSdaU/L8bPVJkRqK7VlP1ONNqT/2q2isfD3YdIaSAK7W2QWLyLZdXaTBuaVlyZXJmKloYszi1Vi8lc5VrCBdPrVTaUyX1tRnrJ3LBOs6nQRRHcPCvDFJI0kuUzqU9peDeBPvKrUFovYBPJN06mpKuPPedPcYpLqnXXvVJsafw2Kto9XXZVgXWoABMm34lalK2T81wH9fO4ivaNj0qdol2PMtrFOnG9B23ag1k0RFZNmKWRHeqaZBhcUtkXJWnl2aIYVi31ufG9ft3oH7v2VfyuOLyXRHBSIZgytPbUxkKFL47O+rM1jlCe60rtiF4cMQHX0YQrNiZDsRc5d4Yrr0Vsp8zI6jxYUdk6RMPITTtlyz0lGf+ceP2ynHWrXTHXEGn7ucqGpcLgf9GJuizEsZKHJk8PE7LCzx2l5zJ620Z3pc8a/nM9rWxhwwJawcQM9D2Hlls3b9SldWmTeafoUTJ16oj4+6fy5to3IPY3z+M1IAmz+2hPj3rESlQcqu+palkiK8Pc+1qs63heu+AZyy32W7JdS+wB75Z8k1z2Zj3I2/3e2FHManBEoVxnZnNZur68YLRpyulVo9fVpE7nSQ7MqxKDDcK3ciagRtjZaIJynHf8ZuTGjeU914TdSnZ3Gms5a63SesX1hvMXzV1J7xE5Ztabr5C5XElCH7q8bGNhOA0NTX7OyZQIEyCA/yplPmO30Ef/4i1cfTw4ttbVqx6fEcAwDR19Qq/kx0JntWvK44FL8uG/xZe64z2o4zVcz97lWLGnMm5tFdbZWySxNzNZTZpTTManTrA9/Q3VbjMd46iF0JlRK/Hhig9Ca0bfjmRrbcA+1dE55zaNlS6S4e766G/OM6V/fuJPI3zOaTaKKrn2p2F7KesR79zSLWpwLzf04bzZtp1xjpPB4x20G9su4stHWwlveYVZCTGd0d1uql9ul/Q6spN2br1bKj7LhFua482XQrcOvSOGxuzYD19uDVI4s/gmKiR1F10Q63ff9jRK7nm++4nB3ebK9Tv4yBnuRncY6AHM8C6bXxRki7hc0Mcc//W9FvhN20/awa/U9m/PFdAZPswvvirlrYjYYbk+2aU19xB5xSU8c2qymddH0odcMzdv9Fc86dZd9sdaCxVmS3V3g3YUiEZLlgZpwcVor1ZAhjc/+SdtsgdoixJDUDGBmVaBxldfKwV+AriBkuZGkIV+mgRY9nJzI/hnEUZnGhV9Z5Rh71VqoEMpPldzrxdfybR3OUFAsEY+OUh3Jah+mcRVoARPamVwZ2ROkWdB2GZ7G4Z67MVTPihnC0hUbdZVUkhyvURp3NcZWph03KZ2bUdNIcdkldY5Y4hxZRg+6OV/z0cVnuaGDoZ8oJZSy4NuxPN7J5ImvBVsYJOGE3VMDv+II+M3hzWmhHi4eEyod7CnbxKXgRCHbRb3U5EIckCYbi5GeNnme0TYib+VM6xXfdP1iRYWinY0ioz3d5f3eL6lihQ4h7zzgYyoeYI2fSaDUzKVR9rGPrBEcCTYhdfWg4GFFnoojIlGRjMEQnKoYlHWhgO4cFc3U47Ih6k4ZCV0irKWVX/IOSrXWyc3gBYTft+YErkojtVISQOojTC4gPsXi8kHXLzYRu54cDjRd4+4chkXW1LVXk8ociw2YFwIf+sIi5K3FQLpdQSZj7h1kL8laLnGkAaIYnnXdESnFuDmcIR4Pxd3VACHjxoXUDKHR+Vnj02zfFAxkgpZkvKHVfP/mF/O50GDU3E8R34C1pCVg15EkY8Ytnb1l1NrJVhPR21jlpBypYxsSIpghY1KKRVGiZH2E3oHSXpbaUOLJZP8KEeSp4lfVVDZlZWvyF6o6ITnZVBYCJM0c4U8uVlDw4G20WTCA0WfBY3cNFBdOWtw6X3hNZf4VJdehpi2sWOnw5cz9I4cllCi2JG8dk4uN4WatHNQOHBISI1euZPsl3pPdnHOR3bnt5QZ04vD+HQG15n29pnf94vfd2Cw+SFkNZny8z/HZ5rBVEdt5kHw5pC1doF/yUlsJ4ByyZIRZXaGhF2/+XTBWWeyORLDA3ZUuTZ/co89VnRxGYEf2Zx5h3XL/4V95BVRCHRakwc6FLNwhAl3xxWGsjaNbqkci9Zg8idqCwlqfWVhrmdj7dlpGSlmdheavDdT8pgx5oh/7GN5UReMrqhj9dlaU7YxXBeZGviXQNk5OMWc1Gia+umde5hs9ykz90efF7qEYcdGTjdp9uah9RhgIBpmI2qbALk1R+lwqIVugiSUB7RlMPiCfgOZcqdMD4oXSBdhVXikBipW9dOjUSlBq0OeGsFxmAmLRVmjF4SAZWQ9G1mW+SaYmoYp2dho1aWNtJhicadmcQZnqwR6C+mlKYSWH8WN5EZgxGWZdrg84WkStmdmyHhvV4mmH7afLCqIGzE77XmeIDWmIP+kfITjp2r3comXiM9IdGsEpKUZqPKIUOJJU40qgVK6jA5paL22eRqFg0vWjMhJgCmXQK4ZXBVKnaHqo6vqlKbJMK0ISViScGzJpK3acsBHU7FaE3xEIUUiSoXIqOFxekLUnGiHmc+KSak5Up7oqQx4rGqVrD+maI3ZkwFUQ4rabEEYjiEKY1opbXN3hhCqnTpan+SHqo/4JYb6Wp/0odO5nUuYrtRKWOy6mvLZezg3rVwJq5lVrCRKoBlRgBDJgODDPT2kjl13l1KZodrpa3p1cFdYgyC3sKnYjr5qRGAIofg5rY8IrLFTPxnbfawJew6aoXsFgCTDiumkaum3gP7/g56Cdq/SCkwG6J/nuosFJrPQAjzws2vApqr8Wq1ZGjzxUkqQt6A3pKLmZ2m7NI5IuqTIUahM+6fP9LS4JFs0u65Rp4AP+jqSqBlsBpZjxZTz6qdGJ16f4lRGRlioeohEGVkY+JqAKnhpm52wd0QI6LbuCrfmNIn/ypF2w6BElbcKt7fVimXGaIRNuDIpCVbFuJuaxWrk6psHJJIu+EDtCa7ZtZzOWaWCWqdvGVcxWI6d235IK0XQhKAh9ZJYi5qUeX35GK5qyoMTJ0j1FJE8J5beF3Pr5y3IylflGnRYCqo61ZKat1jHCVkx96OFwzUsN2D8FUCoOqwBGayY8o1O/xm9Pzu9qEuDmZhxhjlkrrS9U8m3lYuelZszZptkr3pzUGMbCmut4KZaZ/t/3kuVxNmytsh5TGWDDcqfi7myHapoQ/u6Gju6WVe1/7uJq5tk+UJ8lXmiBEyoqqqzU0qZuqbAK1jA8ciO64XBD4ihQ2h+dBp+XdFmAoxZpNqUKlxFYgmKUCR5M4ZPvEmragHDMNqagGqrvWrDjutfOYy5RZaywyW5oRaAw5uXp+l0GZpXXCikuvipK6SlqksYsRbFgpi/95ujJultHRG2RDw4XMy9UQHEwCqmmmrCfobFhlunc4ez/WKRLAsZbjyUcAybegiv84GAFge55edceywYa/+joHVJsJw6UZi6hxbrZACcH14ZLOfkwcA4SJMUnRPos9ppwQsFvWl2hZdMWpmMsOCIuNC6teqbXoBqtmgpixW5khp5tyCLGUZbxsxnVY75cm+Lk7x7vGfan8U5dGzslwlcypgLVyinu2ZqwE7br5RcxcysyTmxzIbMN85suWEqhDr5lXDGuS5ayNesyi8MwfxLpdxWvxbXtd9lnbHWx8ZLcLV4V5maiuwcpAbsslMXz0NaXDI1x/Z8un5CwzHbYGZcpHS4pr3syMQqte3qxF6M0Bqq0GPJ0Foct+Kjx54k0f6avGVFiR96dlqHx8W0mjc8tUCbkxJVm7AhyHtq0vX/jNITm8dHrFmGw7sEDcfxIXQoqmyB2qQFfVZb6nUOCoEDnRxAXcSE5NPl65GBusX0qF7sArx7WtFnhJODaq3x1W8Pd6nLSpY1rGS8utLUgaPe3NUH9sWBiXWLOXKwrDavi9asRKSjBygJSkvyVtOsqoZIGYShq054DW16XdDK0tcgRdQfiIjvltPYPF0jm60TbH6/+5Qcy15IqJ4oIpQIkrej+L4zddlWGbaeaU2/BNh0TB5V59ABvLrNlYK6y13oa8AhFrF90trV7NWwnXQANNvUSpD3fLa3LSG63c8/eb7j2ZYbp45RDIMCBSrzqyTH3VRU6pq+E1oE59b7KdV4/1xkWS0fs1zUSJfSorvX4YWdAai521qy3YOn8AZm4IyQ6C1l6i3QMPezqx0hEwiAIpVowGvaX4mygBZ9iIrOMEKr/u2qiXW6JEt7rfts7p14naoqM5yiO+zebSq1/myWj0dyiQ3CG3Lh2Bu1WA11Cb3OuvlqHGR6Nxkmyyff65NEheS7C5aCARrUQQZDjivjnpa92T10ZYbju+jddxPZMZ228smiPRq49DhioBbfzEzBH2O3S46nwgyxm8TD4nS2Ug6fyZwgDKSXVqmNkNWblvqYX/q1DqwkY26nZS7UZ66naa68BM6rPA7Vc8rLFHyzlZxpEixQ+/0iagmjZ9rnb//95yfp4uAZ1R90kO8XvLUNmwROrvXNuWH+JoO3v5JOhueGsQxbZ8fE3lrjt4C73iHHKXuK5Kpi6mw0z6muIG3O6hDj6eKqaIektWT9hquO4MZi6xSH6+am6xFYuC8a3nmj3Uu9hB/3ZzPKugqK7NpkvS5t5M1uVHROznbc5sv0yG+XaGVavh6r42vd7QJDUd/ujXeKrv64qoAu4ub+0S/L54qOb+AlUbSe7H246B9obYrp19Ie7wWasj9HroprakHeyAIf0XmXjiB58FiX8CK88AyP4u5+7PMBZPRH8aJp8UEtmzK98RxfeX96qE/ud0jo2SOvgnHO5jqI7yS98qlY5zDfWJKR2qPtK/N1R4+RbJATbrukrvM2kb72LeTXJqFCf6Xv/M2vpq4wmfQWeuS+XqBQb3JXNvWcWPVK6+har+lK3PWNUiT5Dvauy79k3z5Yf/YKRR0BAQAh+QQFCgABACwGAAYA9AD8AAAI/wADCBxIsKDBgwgTJhTAUIDChxAjSpxIsaLFixgzaty4sCHHjyBDihxJsqRFhgIBqASA0qTLlzBjygTZciVLhzNz6tzJM6fNlj2DCh1K9OFPnEWTKl3KsaHHgzZVAg1QEwDTq1ivOp1KMOpNglWzih0b1CbYp11XGuRKFSnZt3BBmh3o1ODcs2vdxt3LFyJDrwjrBjgqsKVglXn7Klb8N2rgp4TbFoZstSDbxZjHzmUr1S1iugIip6ycOLNprJv1Dv468PNk0asfn579lm3Vo41lgx59mbbvobZxenXq2rLbqr1/Kw+5NfTN5FDVtk0N8e7y6yKbd4ZuV3rjz9xXF//HTj7j98qcSUteP9mwaujWy8uveH5yd7zs27ovjTD+/P8SDXecZ5V9Vlxw/nU3HoAM9hfVVFMZWKB6CEqnUIINZpiWfR2NtiBvqlnnnmAallgQeKrhh2FnClKIU3MmxngieinOCGJaH5pXo4zloVjdhBFa+FF4PPoG427RpYbcgCoKyV+R5B3JYYsoLokfhxhOCeVe4TXm3oLpvfbcVnkFyWKHW9a2I2hn5mbcfdONSSJoZrKmW5pZdfliQ2dqadJ+q0EonJ14LqVne84JGhOgfa7XaKE9zfmkXOqV+V6NYc0oaJtrQkoTWgcRWVGOiE6K5IKNermnpy5l6iBgSXr/d6mgol5YqX57Sslqq4PaCiuVNFp6Vq0JgflUc8TuOtFhEwI7mq/BtkaokqDeKW2QgN6o7JCUPTvjXKSKF622HtIoaaghTssatp1uS5FXBw6aI7vB5SWhX0x+eyucirqbEbwulmvtdpfa2+xD/eK4r435JeuvwqYOu+aXjhkHcGmuxiYtqkIGWerDEfkH3bn4nWfsxW86ql5x/olI4McgG1WxqMFlu7G5zknoo8wYwseayO26CyvNs66qL6Lgyvpjz2ueCXTMDm5IX7UNy3vrr8vmDK/EGHkMtdTeUnRuvy1XLLbWWJMckddfuwl2fvheCXesJefrJ7oKn3yr2u66/y2t3HEjeXeLdct96M16C/t1yGPu3FvCc4uJdXd6CkacrJCHrfHimvIZ7eN2Rx7n5J3ja7nnVYauebgPp2edy1qyLi7p9aV8N6BjO6e4w3i6LiTs+ckOsN7GAr7eiJcaa7PQAQsurub1ituv32VzKlFvOuMcNdTxyp208bcRSjHE+i6PJpzUbs/5uy6af323uCoUvfvPnx/d4OvD+THv8WvM99y4q1GWROct/mkofEtbWMbwRz7Iqep9r1Jgr/r3v95ZLYG6KR7PxlW1R9mPfKVJHczyJzqmDfBj2Xuf8Dj4pDA5j4QldBKbZKi4FK5NdzJjYNX0R0CoUWxOmaMTgf9UlbR5BQ1vLwzeymb2ssX9EFRBHGFnpigdpnVNdUrMGwdlVySiKc54urkcwThEv7QAMV/TQ5sMT8gjLxoneoET45jIaDRbnbFwSDLZGmkYo5HVkXFhPKLD/AjCHCqRi7gyoGkI2UMe4jFwZ5MfgRC5M4HdsIL/kRACbbe5TmIMi3TcJLkY1sLQIStdr5OVB3sEpAtykmULoyMYj0cZWGJPgoYbkK7KBUsUrTKTzfPZSQqGJuRtSnxUiyMWB0idGHWvh4gE38SMpqsHCnGYWvIdtHQIoF/urJL6MiL+GGktS5Ltd3wMUCxL5M1ogVOLgSwnJ03VTCyhM5r3y1CqcPj/xdIVa3hv00j0UOa7IjZPh2ybJ2b2acRb+gxlmhMoMQmKyooBD6FNjFhc4vVLi4wRkDc7XDYnKMpTTaiZttxT6sLXy5UokiccJZRGPvojhYl0h/5zZZN46c4lji+RVmtpR/NEzIiqTJYKlST+hpqxe10zUJ4rIKi+l09t1o+NTIGjJ49KS43GMzqMhCX0KHM5qdbJqFIl3FXTqZU/nvVoNzSVVk+HwafmUnLrTKiY7GnJ1cmUqCMtZF8RVtQk0uqPEeQaJykWLr3Gia/18+tLkwJRUm5Vh0+LK0gDKkTzBXCwIdza3PBJlsq+TZz/1CAkDclZRHmWmjpFIkUdCVjD/+JQtZGNoQsfk7sIwkaxcsUhs+rpvMOySyxBdBNuL+rP1na2sFr8pdoqhEImllJix1WTJInbQCi6FbZefaoVR/VXW/m1n1YK6RGD4kfu3myENvtsUt8Y21nacb0aEyt9m1Snyc4EdC7To/r+hcvHduRcQzXeMwVkVn4a2Hf+hQmAO4Y6PpI2n59sLJmaS1gesvRnOIvp3X6blEx5sHb65SlugQvXw6J1hu9MmTWppTySHgt+SjXUBE+stfMiToaguyU4mbVdpRUzUa4s635zirwX21coTrWmeX8Mqxgv8MAq7WmOUmmw4WLuiOnrahK5uZMoI7mmVLYoC7lquizbc//L6OxyLb+sThGKeZz4jQnAIuwt3Dj4dhXmLbJMG07tzbB2gE5rJ/e502vl2SV7fvSU/bxiXDHtlISGZ//EhGgA2liyppzgKNnr4LLdF1galtomrRerZr5Vkv/jWGXxmWKiUG+Ppy50qv+mMk0iNs1IBS26Yn01gPJanc5liuxc7DyqzrKkSKuimlEr7CfB2bfrHLCiUZPtqkHO2WPu9d4CPbuTFrjar1wYnLFq2W1fJbMjpaKgs8vi3Q67x3fOLx8ZRWddd1tifh6rsoEcannfm952HW1eyW0zG37SnFTLNJYD3kk+X6S/+L2lwSJp4BwnVuEE81vsHvTr8Z5Fv5j/5AnGOU5bkXe44x9scUW1M24tms/kM1R1MikLYjzPEmg33Z8A/0rcNN7xstB06c5tGluLc8Rpaw4s3Zbs8ac6tKJSD6V3X/zQOW6wpE7fSMOjLmM1cux9RyfzXpH4owinZoVydHfYIZjFRtKS0IisJijRRW2ZuV2V3SYYVaMYqQrXqXo1r2rTSD7yGAt2vg0mmq+T68qhSZpX5zn8HivtbmCN3fHvjbnOU25gmnrakpYvipuu7HIfE558Tm38vkttNqpnjeVs3uxW507Yb4772rx+fehjf8jZC1WCg8x4vmi9xPDq2dwaPiVSMz9R6Csds1q+Z+2bXD6rIXzKahfz/4VFkr3oI2v6Whuo9Vm9vQ9HN5gRv770hgjmg778yosaemTiq0uss92y3wZiVVZ7ihUelMZWUqZewkZ5OiFk8sd/LIZuGldc9Kdi1idoZHaAGuZBkQFvp8dzJJZLwHdGI4hFmkdb2PVnhQZZluJyUJdSBjN+kMZ49tN6TDYgJShNmpZsQBUuqYd0NEc5scVj7EYSFQJ8Mbgu6Xdj5cJYxXYk/BZyG1aE5SZVIZhvLeVRZPcnyWNhErR/SxiFSlg2UGg0fnYkVDiAeAU6I/d4aMZ7q9WE6UJOmnV2FHhGXiNfz4RmDxduH5Y2+LZ24ZcdMzeH08RxdjhSeNhEemh/4P9Xds8WVKKFVyfniDvhWMPkQsQGND9YSL5WifV2ecF2bP83WKSjchmlI5q4dFVoMdYFV32GTPEifMqEgkmUSlRohMvEVuwTSIM3Z8zUU9ZSO+11bimDT+mFbv+1izJoi07YYBY4ZfjXQUb2GH3XaHTXKLlYEiimZkEHeQxjaqS4O4GoexnDfWv3jYqYisCBbwOojuGGPrg2jkvWaXyYe+j4YO3ChgnXjNxoduambf80iPR4Xbfoha51Y8r1b6HXaLoijlkFkOhGSVs4kC+XdQ3JMNJnaQdTZ4m3UpNUbMhFex5YN9Cme7lEiwV5b03CY2/GkM6SRxumeiRJcIF0kvf/mJJ7Z4vo5X3EhJOMAzy7pGNciE0TYXqlRFejs3AjVGTMN15lJBS8l3zs8z/GBVsDlI9OCZOt2IdweBGO039JaJR9KHDkxYO4B4HBhynQtVXb+BJhGYFLSZaQSIoOU2sS9Uh1x48KVmz+SIjSNGFsVHRIRpE+R1/TKE/PxG9vo1V9+ZV0B2iCyYv1c0w2yC9s2YKiplmNCV6LZol86Wh9wY9XWEjCF5WVSFzDM3s8RZARlphjQZryt00UmGOS94oWOF6dyJlit5lkgYY08lFXmWg55SB+Y4ABOXVUeHOziWEV511/eYlTGJxeN5wfCHoGl4HJqVbLWXLNyUOziINc//kSwkSP8yOWosNIvSWTyANuTxZcahWZSUeQgGmRRnWeBZiZRzZXudKf7hmPpQhyXCl8oJd/aVheCkdmybeeRhRg+nlpf2RmmLQkkDk1BxqanRegbaZ+1khhstlQEXowQxlapAdThgZxihRWHlqOkJWHTeSB9mif5XaN3uabdgeXJ1qZrBiHx7iimQVOQLqdFMhux0ejzMZ5OUF4tUaMTBiOS4RyaiRRtwZrPtmXHraT/1eh8jmBYxVmLpSFa3mKWTOlWCaHVgqAWGqQSuFH8mWaZhhnazWK/SSQpJcpU1lYolKa/0ilcppbYig1v4hRyDmnaFKgvammXyeKI/Gjfv9JdNKGl/QIZ2rDXPZ2jt/FXJx1mvVFFIzaIlbFZc75YkiZkUG0YPCXmpZ4n1gKlPl3gkjkWNR3azZEZLTEn4CIjSblkjC3bmwlhXTYqiGJWrAahjWJop+2aUO6fcv3kd95d83Xauvkq4dYZnKin+4nRMSXHnEXeoRnVduza0Fmoy3ZbSeppf80ouKnrAv5mOQGcZEYn/kErmwJm6yaq4lHaqNmSGKKmu22e8B4r6lFgDEHpm9oo17mqYpqlAnmpFCJX4koXgKLnGJKT0/KkL5XQ5uHoEWJrN/6qOY2qITFfZrncM/FU2x6Zp8ZZoBmZ5yycknan2hmUGbKWmVKQcH/6rGaabLTNGMVa2cra2gtG5Lmin5LNW0VS6dtmYKmmJwS6rD9NnZot3iMNn8N6JkOSLIrArCCOmeAKm3QeJRPG6JRCy3ntLCo+HOUqXOrVVCrWXu3aq+tGamiZW8JhKFEGW4HqqDM2LZY87YvGbdGNVv9Srb6WRY5Cl87F5f05V5XK7CKtofNxpCvFrC72YaiCWWHi6yT+jlFw7j6N4kauZlalXchmUCVW3f5qhMTm5Ex6ZFe6Z/D42XTyLbyqEyrlrZvsbrK2JVBmXgBpEcU14HGCLi8tmwwu1bRqRTE15Qcq6MYmbM1O7OfpJQ7KFsDanjHm4kJ+xHL27wIZmSa/2qVU9WsWsecWSmuE/eAOxq9nBqxyvdkE0ZHWaurlPJVoLirTOmHv2a4JXmRPRS/zsqrjrkRwtqFgoh0zyuTa9p/5+t8A9uoEUS3CZeOPpl2UIWrfYmkCwxwCJi0vBm4XsiByGfA4qZ3ZrSsimmTfPF9kXu/GMiSlpU9v4vCNHt8L7y5+uWzzttWJzwwLmJ+L3xaHwtb53SPNgzDOPysOuxe7ShP1St1DtR/KunC9mOolPq58CogH5W8e6qhP2aQUay0ALpx/mvFFIa2stazN7HF41liy2pmOYakmAix1HWjPfp2Ani0g+unbzq0hwq3xVmoWtvCNUuEFZlBTPSCev/sXEI5KH4sUYpMstjGUCH8w8aWa2MbqrxrZnrqxGoSyUI6ybJYyaiquxc8pkPXuvq2ho/2yH/8t6HrPUNMn3DVwFODsdEoboZKP1rJw4CstoQMhjOFs6Lnv9WVy9eqnta6vkXBRpqnlgmMxo67kiA8lCgjg1cGolyMo8Zrc991V8UscU7mltWKah15y+QsaNvMK6vJvOcrXf2pKgm4uxiMyqarbvKnQYY6ku3cvO+MoMaEZPOcW3Hcxsyrykynqhk6mlx7cVtnzDQrl1WHe5wipoH6cmbrxvXKp2Nsx1zHzB3tw07Iqwvdo65MiA6YkzVKkWlMnJ6MV5AbOHhnf2//qWMpHdErbbEZ69JeDNOpKsikA7k1jRUuaLTdW4xIFbxfOMiILKlRpVDsJkcnPRJFbVBHPU2Kq9Qd6sCwLIQu560hu4Sn8Vq5HIs9HHOdRj//2b0v/YFlnaDNuxhkPaNK7FPTiqp6CXsiicDgOLqgu4pTTYhGyoo1Y7Djy1//GlrVq9Zr5qqIvBw2WNgT3T811pkgcq24+rYT6Ne2vM5wcZl8x5VRHTq0UzTvqckmuXjhE9gvi4wqSJtre7PBNcV7rHW51smMwcDk+5xcans3pcMUrJ0SPEyLub0RycHtJNFA+NBVB9z6KNzp0hQOxq/LwcUxetYiLcVvjLtrV8Cl/zTUymHdLMph1oZMR2fK9+vdizXefbN4cnfYtW1ItKotX+2OZyyjtCwj5Tlk8I2WFjnfp1zfMgugGiwfVPl/u8bVMQS5yedL1Xi5p10eB17ekx1+Nx3NvUedMUa/29J1/CnEEe7PSjiuMCpcHhwzHo6nqRjT7Evf213iVmbcBt4u89tzUJWDxSecJjivm1qiiLm/DCKx+Ax1IILjz9ykPK1YQHd5ZYgnD6uGayl0ENfSWSqemPSwGpVGW/LkagbMSonH8ArOnLa+WD5fWu4pncZgMIyRAZiQPs6j5Vu4Ht1G5ajmPSnme3lKMn6Y6ErbyvKDvofbeC1uB6yqoC2EU/+72HsOTCiVfRlNiYQOc4b+2ueKsiOmrKzyq6hdzO5qexKoqAN8ului6TzZ0zsslzhHl5fOxCADvOP25rCoMr09zuQJ0sri6tCLEcCT3PFd66y9GLjovm7UXZejpKHc0RO66CYS7Esun8aagBOY6mvO6f7CoXTN0uTqyOeH4F6reMTi2SVi7f1cVwW9keXN1jfYizCkUGJYY39oaJs93ewI0ah3yE70k5IIvRTF2Ac8x5580esOjkXb1tide53uXMxmnMqeJvBIowpfz+7Vd8T26/9hmZJ4xdK44931KSEOQxafm/ZXngzIrTLu5wEfQwo9NQAuqgZN7yfv7MXL1GG1nc34rIsvTxKr263iKXFNTsgdf/NaaMuH6dMQCs3+CvRcGGlFdjY0z8tyDu5A7+pIbc/k7PQ+jPQwYed9XX8rhC/hifUmofXwy/WBl+1fD/Y4GsFyrtJJvduljvZPN+QA7bRfJeh8DffcUsoaa8crr8DUjPcStvNuz/c4Vpe0DvgmWomvaeubjvgzEVOLr0hQ7/iui6x2T/nV3W/Si/kN0nWPzvlGIrWDD/oZYvKkPx+mnxUBAQAh+QQFCgABACwEAAQA9gAAAQAI/wADCBxIsKDBgwgTKgwgQMDChxAjSpxIsaLFixgzatTYcKPHjyBDihxJMmTHkihTqlzJcuXJljBjypyZ8uXAkzZp6tzJs+dNhwVxAvVJtKjRjw2TDv0pUGjTpQAAHJ1KtarSnAyBOs1KMGrVr2B9Rh07FiFWsk/Dql3Lkizag2fLcmVLt65IrwHcSg2atOteg1vtCh6cEK9ewH0H4kWclrBjuovhAn3r1y/lx5gHR2acV25lxW4ziyYc+ODmuQbxYuU8ujXN0qn/MjW9dzVf17hVKm0s8LLChmRtm12auzjJ3ag7nx4enPhC4cajXzx5OTLsgr47I5fO/fhkz50JXv+3LLs3gO3d03+MSn1s+4rLb6ufv5H9d/vm4ZeXTL//3fPO2YRefsldtRRyA/qnYGxYCZjYZw6ih+CDC1b41GkTRmSdc5FVt5+F6gG3X4YQbRgbeZ+BmJ5N2fE2m3hXuajQhvGp6BqL4MHI2k8kPkTjhzaqBR2Mh4UnH45FupikfCkGudaQPxWJoVZQ6SUbkjm+CJqTTwpQY2F7GbafalSS15yZQAr1FpRcyiSifgSeRqaSVmIZn5pysdmmbhwCyFmL/M3mIIQxKgfkjH5mpeeeHsXV4H2HMjnXoFsqmhigiAq1KKMglWafmDrOdeeBl4IH3ZRodhgpp97R+aaRjb3/F+hT7ZkI5o5WyvYlq9NRWFFcseFnKEK5EnllgBSK6eGmvCaU4ETAYucepMRaaWyoMOJo3rLONQstqVvZlqCBTf7mpbVablvbd4ju6u2v4JaZXLbIoufuhejKOKyokWL6Lkx4Dsess4UuuSap2FYqYbf/IkXlqAMLXKqHc2oZ7cINZ/Toq82JCOpCtiJWa5rnhivvx435mzHBIp+rrlJvuRsyXyMzl6jJcR6r7srwamjquUtWq+/GvvL1aZ4uW9ruqjwnvLSxQdM2dL1FG+vxumSemuXKUI5naMUxj1ioj+vqS+/OShfYp9nedi1vsEijPeWzUk/KMK3Upk0poU3v/5hg1pDad/XB99aNd6hYxspwxBlHuHbaesGM7qtw8ohwcgezzXizm0vqoV/R7nhRrhWrW3jTnSf8OWihSzo66XSq3HeT2VFqb2jp2q0n4CfuC+jqswsNGqqCJov71IeXuG60YccHfPB/hgkgdIkPv/zJJI+bmKxhE3g25GLPzv30d2MO3sFbQVw0icpK773lyROP+uV7g5ld6dYL+/6XlEsbdv1F+luiWGW7yy1NTmXz37RoF6n+ock8AMSdAFPnHwO5DW50wxfiDAiRR5VrXvuCW9Q4Z8GHxEVw5etfaTblwUo5LYQKHCGnJPcyKq2Qg2fKir+u4zXVDdBQjpqYzv/alpT2aeptaiMPnviHRMWZsEpYCmLNcvcuWaHtfd/LIY4cF78fmmt3x6Ib/rjGLut9sIvC2mK8uqinDEqLXrYZI5dwprbxNU9XTEMblHI4nN4R6Gp9vNWsFkRHLhpJSufL4772uECWvVFhQCMZogJpIys60mcoMhzIxpRAPz7yj0nr3iV5ZUlKKi+TnpzkI+MIJFVp0HcNLB+I6ic67ZSqhZdxYP6ON8rWMTJqDiocBcNCS9fZsj24/JnzYPccDr7vl7x0kS5NyZ1XgXEiZOpYJIMZTVhRpJQgzCQrz0jIpF1TItmc1tW4eT9FRq+W4mSYK+dYKDemMnfk8ibUblb/xurFrpNHopA9LTXMx+RzoOQkGjjxlcZ+VmlmmQvUwtyG0BvZEFmvhGMKZVk8ie0TbADlWziTyK95bhCCJeNol5K3wblVjYoSXZxAIwlStlVMXPTLGxbthlL9SYdSgONYljAGv5jirX1TM1BERyJDn07ToqEKaiiHOtPvceaISAWhBSPJtvp0E6XXIk2VEnYdBMouIsiZJ++KykD5sVV3QhyVRwWjLYs1UZ9fc2czLfmxiT7uivisKkEDJ0nJFLQlgKJeGas1s0CaFIY7NWVWw/pCTI5UlZDZ2mX59TSYRhWPqHRhMz9Tu6RV9pSbFV6XtMhRnN4Opz7MleSEKa/B/6ELf6KsJR8VCMrDomSdd4XnYEEn09jWqYiaverDSNfXh7pvkDVk7HMrOhPYGnNTS5KV49rX0ABiVG0US25e9YOy8ZL0KNZ9IXZ5qd14cZef3lXuPh9oP/FKd38SdOZUZkZH4n60sL2r61b1iMTdurGhKQOwLSPL245Whb+17RM7NTtO8+EtrXEzn1NfClae4tVVi63vSaeSXg+3kKxjHaQupyg8YN51ZI8ysEPxe7oFG6XE/Q2sD025Yp3WzcXIAyKyZAxKGuvVp1Qhao5ZyNXR6jBRiJRmikvcO7Mirby2jS94G5lkwS5ZpVGyr92EFeXzGonKj7RyOp9J08khEf+46BVsFgGE4A7mNLdFLVajhBhaEcYSboC1JqR8qzE555nO/ETrneXiUtOJWdEshmwM/9zgXJpz0GCuSWv1azNFA1rSas5wRpb6YUkfVZHaTCehObLp0yKGtp9up5/lSF6ALlN9hUs11rw4Gte2OswI1O2jnfxELd/zixEO5Kp94usnzveTuTsrsZtpbGg/Mccjxg0KSW3I0EYOexvqEXQ12Wc7e9qwy3W1YLYt6jr2SVWsDXQ9N0q2+34TzM1+srqrm+lKM/qHkXbiLjvMUnSCNqB+PqFen8rKmvaEcXckeEnDp+F/d9vgHyyrWxT+LbnSxuEr5WxerUvqV1MV22n/o+8/VWs06VlX3Fhus3CLkj7p7faztAa22FAuQEuXm8FCffn2Uvyj0vIEx+VzF8QTqaoCqvJ3SANk8W7e4AMnWrTLlgjSMTtKbDIdj04XJNQB5/MnI7nqHLZxXbtKE12Hu1Q7RfnKzcg6/aKQQeAOKd0zSjC3klNz/S6J28MId7zKveLeBriEi1bnku9d39Sm+LFhmnWfVVvKwma7eomuSGTqV6gH1Dtx/TnSElMdsW7223dF6mzPPbf1GzY5gx3N9rs/Hs3/rDxFGup5T0b67BI3ueOtxtGjMbdnOi41VslnF95/x5c+Br6NbTb8MDMyy1+ddjKVjVzqPvzFceUl/yJxWmN5n7qNzo3uZp+Kv/oxPMTeHwkPwx9eMZFfr+a3lPRx9e86d7pu7kcqHvd2OpFzCTZZizR0P8J3/nVmaXduspV2YTd5KFYts8V8O2GAEwdY6JNuYcaAdddbgRcoEahY2WZtKiZP5KNNPEFbFcZ6ZgdQ+dSAZYZ5TvZtFDh9Y5Z9haZ5bdF5LxVsW9Z+YxOC5gVhsLdxf0UbBSRDPZhaMEFmhJdUxaV/+UJuH3eFs6aEf5dyszEqUVN+kKRGMyGF30M03Id9XCddTphXOChaLfNOkhGG+DeGUDSC8rc+IbZjIyVDioVIpVVmJuhIJNd/YnZioiVtmrZ9g5Rzfv+4UYBIVYJIb4RYhXekdKuXiMMmeAo2UG+IYUbXS8tFdRB1PReEbp70JWeHfj7IiTz2gCN3UbRnTBUYg2dXihf2a3EIbarIa6wIhZzYWLSIhVZ1XU1mLmv4hbyWf2sVZBt0cTOXgT+DjKg1V7UkddTIcp/VcEPUjFr1XX6VjTdmWtNGTRZhdVKWT4ooH/C2a/jVQjQkcjOYZsv4GuQojuYIL1qTjgWzieyIR2vmTat4UQ43j6RVjzrRQ5ajNR3YisM4RUDWiMwVdQLIZXa1hQUXd3goEgqZi6GXPANTiO8lXHbCTAtDdcWkZwIUjTFxRMyDau32LQWEjQQzgVkIg8j/hy8B13IRyGwX9ZKWJ3p2NpPHWJM51VlFhhHctJP/dXr2SChRBI6GZi6hGJWW5YPddXCvVF7O+I0HKYaaBpXOBY9T2XdUlXtgJox4x3cLeEiSd5GuB1g+mYrH5ZCe0kpTCEJOKYYyI4laGHnI15Es0To9CYwexmAEqJcW2YXaeJM8yYNzWIeH15LvZoiypxFMlI+VODJEeIs/Mz4kWZSYyJiDWZkICIKVo5lMhkbtJiIcd2gaSX1aOUpg2XY2Rz7ANWH68jxet16Y2JY1F4rnhpNeGBZGdBUsqHO7mUiv45tMo0KXdoBnqXWPg4bfRzY1CEsM9ZmiqU5V2GHh+Fbm/2iQt/d8ZYkmg5iQxXdbADldMmc54UU3ZOiF4YmPw+WYCUZUbIiQhpmHteiRQkZfE8lJXpdg2xmbqGhX/oeCGqWfCVhM/Paf97lbkahnpClS6cSVpWdorhlcpZaLDtqQnrUT7aWWyjlp+2l1FgpqMEk4Q5QqQjmL/5VxG1kSJfqikRlqKZp2x/d4s4eikLeclwekMwqH/flblXlaXiOEIKeJflZlB4eIIFVXMWdTddmH06menwZ4VgqlBsqLnCRrAql3AmaeB8lmVvqJKuh3T8mg41aSb7egtTh/OKdg0llj+ydIfNhoR+owObh5MEovcgqXdKqMHleneMqfjUmlO//noS7xnq9poo7niXmZg7cjR5FGkwoli0aKfQ7qkCYBqUnqTdxIhfUmnkZajJPqY5pKNUdEoyX4eTXqEZKaYYLGpUYqjBGUqDazdjGYedpXlABKFbV6U9G5oR+kqzjkj2D4Q0X3lj8qZaUVfzKBi3glfU+Vkci6S++1UGgHignUjruopEn3daCKEtaKQPeHbKEZqLEYrQ/KZyInl8W5rfZGYEc3liUEScJDng1ogR4YUcl5gr4KriXpeemZo0Kpe+KoTbfTpfcJsJkSsBk2sA5GJ3PmU29oe5p5oPbqJku4bzdIaeoYrn8ZjYUqhzf0pePqYTs0qxvROiJLjZk5oSb/24Zsl7L/KHACpz4j9rL5OqAsGZmLaprtWZsJd4dXaUxOaWSqNJkc2WYR2XF4KWz1V4c7+q+bZI5NO6a9KHAMC6T256jlWK+X+ZpMVpLPSI47STx3+TwXM3QxUWaDOpyoerajmrbOZSvxKJ33lGMGg6MieK4xezmBC3jSZ4ZxWbatx4cIKjEDJaWNeo0we46GK34Lm1ISa3gpZp+NqyWPlbP7ap++qq2IKBZH255ae6o9x0yeG6SKqX5oun7y+oo2eLtE0Y7iaoSW1borqpps+zgUOkSKxZSEykEQ2qb3xKZQaqwjqUAxVrFZEroPOWP4ybjf2LWU2ZjMS4/Oe5tW/xa9ICWEP1qIaQqE47lNlbsSAptfk9eLHWhbAfiRgyWzmJlICStdYetV4xuTpQa/FCm/yFuu8ct4WCtivDtuGLS+e8aWFAfA9+qYGiiYKBsvlkTBxZO80rm/5ga7xAPB1xtrMXqY1CmOJXuCrfep/5inLVFzPPuBDfZ0gsu5KDyML7yP1rNEx5Vvfaun1ymP4GdlpyqMbqWQg6jBXgtfpCOfQ5etqZq7/suu/wiuuMVelRtELTs1zyq7C6m5k8axDxbFRhk9VGxrVly4a0kzmch3UoeSyMlrsboWGluP9jt20wuZQjrDJlrB3mq3W9qn1eqsdByypmZeKtd1MAR9fv+sxvD6uvn3FfYblJBbeB6rOCs7oupqwLWHm2+WbCPayEQRycqjPhj2bJbcyeqWyXE7seL2ZaeKGwlrou0lxUhojJKsg/mboF6noYMRyzP8pcULf7I6tHKjeI58t5vEy8ZhfExzmrSKvqN8pccMyvaGtOuGaH1Jr161yPupvVBozXhGTJxmhw4ZiRz4y94RuL8Ixkk5j84MyeM8uIZpzjC0x1GrzvhmnqscsW5pzWXIyab8v6+XzJiLu+TKx6PongVnk12Js/sF0CeKmAMdevOUvGgWzB5rrPPrla63jjRHwGLmYrpEhIKKaKcYkjJVsEq7tYLkxHFGvzANnwRqZpL/06EpPIL5NrvBR4yQ5M/Ky69GGXZ3lNNw6bbWS5amWl8JC07Umq8BtlFKljdOqT2fJV8OGGTzx5D8CVSTa1Bm+sn1ar8GW52XK6GCdmucBK7la7SoWRe9B9ZUjYJj/dRVDZevxH53rNYfqpguihlM/Z06WNdIGcOU56qaXJ706o2Vw8E2uocfi62O/cfldtGjq4m2IqZNDdTRIXWmdyxlR2AXCGPfxW0gnUzvTIKLGSJN1tkBXT1K1UhujK+YnNoQOWyivdn3WImq50OlHG1QlqW5enJFCEawZsNeXdyIGEG9vZw7WcfCrcIRTLoM3GWnxs5myX0SF7ky5dDtmqAX/2y9gNprBOmdiuZxb62tocnd1TtX352U4c0dxkqzguyffP11OitZYbpwa6Qe8e1Ic0zfCteO9y2Rkh2sjE2iKy2bM2vI99tOGojdXkhkezKfCg7WMtrgd/zgRhXhFnngmgGEiYXKiSy3/t2oxvveLtvhhFwhtBXiNmhpRuzYJTuakhKcxuym/UGTNbycxSiWoJeFpQjZFc6yCDxLwnqxTFupq/TGEv3ZAarAv6qM2HnAxRHj4tbjqCrWhDW2Ysm6x9qAnCnN9GHlJJ7FWU7IYc7l5MzStyotNl6YjFK6RX2bo6e+O72FE+ShRKOhfIXHFiLnL07ndQdngQ3k5O3mev9ONXweYupdIRicVaEohUJcyH5rEc/bYr9NQuUs6JH+25MOtJTO0m2o5j4N3+i8TKJr1TQp4QusbnCKgbrJKbXar5Q4Yquu4vobzxWXnLHOKjXm0iQFjdfKrFRe3xrHwhby67m92+62vMT+hEp0V97s6Jwa3nCO6E2C1/9T5mbmWJQ2P6Y72mKutW35pMck4j7Yx4DcJq86z1xY49XO4N0NnhZcu8bo4V4Nkmn57nNqPKDOfzc043Zqthmj2C39UiOd4cQ7VYIdwjBMzP9i8LS+roSdfz9O5AXe1vgOy8g1Jcg+tW443/cG7N7lr9Aj0x6vqPK+6xYphj28nyA63aT/dORIHIgYWOcava/ku8LQuu4zL5ybZfN53uZbBU4DCNyE2zfVx3IauDo1+y25jsEnn4AFqtnXq8xJz41XPvWW+zoUrXin66Qljuxcf29eX18yFvb4Jd9kX/ad0o9UmT3LerjnjuJuX5rLTbS6zPJqdfMcffchUbMC/McRFMFdu/FKT7Jt9pq4i9bRPs2Av717PZBtzqQDLfWRDzCRncCnhvFuObuIn/lwVcPK/qiib/r0Ke36jfqnX5q8TVipqXZr3Po/DGIXvrSDGvq0T7WoXsL3LvO7r2lQB/W/H/xCYu9+avxefeJKCfzKr55vjfnPz/HRT7bTbxx/qPLXX+WQDaj92z8fuv/94owbAQEAIfkEBQoAAQAsBAAEAPYAAAEACP8AAwgcSLCgwYMIEyYUIEChw4cQI0qcSLGixYsYM2qEyHCjx48gQ4ocSTJjxwAAUqosybKly5cwRZ5UuTKmzZs4c8pkyFMgTZ80AZw8qbOo0aM3efZEWTOo0IYBiCKdSrUqRqkPnWK1yrWr14JbFWqF+rWs2bJSh/L8OVCtQKVn48p1mRaqUrZv7eoNO7ev36tk2+pNmbci37+IEws2qJZw1MARDyuefBZuQseS+bKVTLkzVcsIMUMGOxqoaM+ojbo9CPrxar6S8aaeHXM146V5X5d+LLYm7d82GdKEvTv34KdACTomyBm4c5MChu/OvFQ4cqbKAdx+zt3j8oEpm2//Jz3Td/fzJb8DFU/6dnn16ONv1M08sHX4pws6ha+UvXz09C0mmGzJ8abffu7h9t+CCsVmnnTGGbSfduBRmF1hDGZYX2/fQejaaBNeeCCGGjJ4l4UDBkWiQ+U91FqBJcp34m1OrdggVPAlKCGKMXJXV1bmjceWbFKF15+RPQJoX3EV5ijgkOYV+dSJ/iVplW2sMVmglJZtRaSWgrVWpZU6YTlebysaaSZT37HX35Jk/rXViwK+6RiBBu44kYdz6hXnV30SZ5x1pvGY54gS8Tnamn++VGVdxCF5oGz4qXhQhxQ+CmajHmlaX6TXZUepoTVeimJ+kW3KqUWW4Snlhodi//hjk5nuNtana6lE542r7vSeoa/WuaifAhZqI62SDhqdrgq6qGqvEYWIXazUIkRdaKFWuCWOhhaYLLQ3SYtqsSwyqVm23tYKI6LfghuTtM4ay2ZQs64LKZwLLStpn7D26+5F8JYr74T1TruimObqex2/5B77b6r+FiranaQiyFTBq7nK5Lj3dTsvxQ9LVLDEtYI8qaXfzvrrmaYerDC2UIYM3agpc4ursx3D+mV2hJ7MM7EijilzfTRn22KYYJ7YJrdL/1wppmuOO7S1tta0a74sp8nsjhSXGvGTpwb5YdYynyuap+2lXaiXTVn8NYaY8tdstVOz7SSv5bbqcdA2z/+r9bcTQs2t0ODavTfWeS91t7YGdq0urVIGLGm7U4toXMw+q81Rf2hezLSlO7K9dmD74lv50jkbTCvZN16d7q94rgcihR7K7nLleMsbucf35i4stsdeHTvduItMutXHO9k74rCeG/zc8rJefJYByk0wmBpTDeTE6GbZNHlLLl54dcRav19z2We5fcnd04hioOEfPr6syW/9mPimftnzyod6TXz+YisP/4YWIJI1Rn4ARN2y4IY8UUXpWR8D1uA+Vzwopc9ymktdtGhXsXURbUqqGl70UvQvCwZwdtpLEf5EVCkPpsh1mYOZBFfYo46V6k0H5FDYHNYyv/WwgIe6Wl3/aqc5TtnQUjg8jg75tsERMtFAGINeEBUmKHdpUH091JNDvsfAEYqQXbyTogBN97ArSs9J+ONi4zgYNwSmi2pVrBkBsfe4CAFwiRWCHRLJyLXDma2BAoMW+uo4tjte5kHXCRwhHbS4P0oNi2TaHQa31Ro1qYphTjQVI9mHMOAFMoUmqt8kp/Wmn7lpWA4E0ibzYsm3qQ6UkFzQEVuIqBTCEFeUi6ILbwdFVFIPhb3MJOH8MssO1hKLt0RaLsl4NJYBkYd0ys8AG9YdGn6tkRDs5BYTScj5QJCV7/vmc6xJTWxORJu9OdowYZkqNXLKcfTjZYImB0hn4muTcpPeATnG/8c8ihM18AzmFOG4LP5VkZf4lKA+j8NPV1JuNnpT5LHSqNAI2hKYvnPWznw4TXDq0ZWoiWjgJorAfFoUmRhl3uY2uhkKkoaeG+WOuNpmOx+SVEgchCUN86NGM66RgWcrKENPSM6+zNRkMA2nFnWW01ju9HE9fVnaeIo86+yTqG6MC5ZM5kBJ9o+NzNpdS/uYoGZGEI21ChY4d5m2jIGwM1ttaldF+VUDKkhahitr30iGVjvaa4GvRCkDk4kWX/51dEs95MDEpkU6rRJxavmjSC/4O2rKBZOq+5XotrlYivrVsquD7F6q1sqzVrR5/awMsQg7r2BRFFMaXaRQS4msbv8eE6csMylm42kW3bCHiFw9JGzLxU9LVnKPnUuhSV24Joatky5iTFjBhke54QJJni9tKg2bg6VTunKMXhGidMlI3e5Zl7MD9Z52s8pdoP3PX3Fsn1mSOiOnhnFdJlycZws5VuON8q/SHC006/fccHHTkso7nnLD5jj9ljStLkUbW5cWYDsetLX/dAktSZZJw+zVkIADHWi1meDORVaJlV2ucOVblA2f9IsQC2wqPedAFd8MbOxE1InXmuLTrrjAGhZxqUzY3Q+PjJTTWdKR8Yg34b1VmYxta9Iy/BL/DbltpWMqfIF5YXRCBMa9PBfCfDqe9nJlpjPG731/ecamYhb/frgUcU0vci2VYpBROkFzaNWc48/y0GRvHta9/DdnViUso4zj7VSKxmFqEdF9kEYabZ+K56vmBMhFxQmjT2o46pgPV5POapZRCuaRYDqrLZ4hg+sJuY098LrplR6iI63X3MqWbOcFqU0+XVuSPnTP70Xyd8XZ3gQ7VsGxLucOY3npKQutv40FbOvuymLQHla08SJXn24o7dvKGCftfTar+YY/2ha6z4n+H563/LUj8jixbG02nel4q3SfuFId+6OuPxLXZKp1jQ7mYW0yPMh6X7u+TrMfWa0Nkn5L0V/f++IjU31RG391mb7TW43XW2LwvTuWO85g39BqXPfuO8gV//fx37pXZzu2EalRhvP9/HjPuc0quHPtUpKPwmtKphSc5T5SxT7qQ4MzW1gwbHkCT2huYZWaJT1H8mY/GHSE+7PR+a12FZsu6/8FTFnOlWpVlOaxp2/r3J/8spwLydTq3lrkZXYpuu+NapiQXYZ7gmq1u95HuTHs0cKm5pHdak6U9qwoUasYt9fH7sqessKBf2N2gyvzJosdaTr6NpDPafLA4pXeStX2ai8JWLdqjblSdSfbRasxmXc8KQqa5nBVr3rdpVa9OOv8RqKK+nhjfuYTD07s5a46yqdU38m+UdV1rxHeB9asBAW6bXNS2jRX1vf2nPaAoU9jbB9dy9uUzv+/XWjsbhs4mic8vX8ZrvPoe17rzK/za8OK7FGWP9P8jnCuzM5mwQbbkSpXRL+kQJbXRVMFVkDFavyXf7bnboCxdcznUGundARFgN7HfUfTX4sHbO/CTTL0awijW93WV1i0UeJFWQ7CVu23YuI3Oy+3dyJBTx8oXyFYUYf3bR1ngtGFgq6mguSjQy24cHYFeyd4Pg8XQ16XfoLHOYnyFPxXJUGXfYhDaODGhO4zFr/1aismhaAGQUbyhF6IQIGGN1RIfeHkVUxWWx23PzsXSOs2c4WWhZ50UxZBYfZzg1V2hnSVhny1ZmyIbqglcHDYfYL4X5n1c01IdQtjfnbXhsP/w31qNkgx5juvtzk3aGXjJoAVuGaK1ogLloNlFzaSuDnZ5oOcd4lClokndzmcKFDylm659nt454oYNmBfuIg3JoSm1XZio4MWJmA2dX1d8W+x6GeZE1ej5j5W5V5O9oIRt3a+WEghlz6bB125GIyBqFjkAngrSB1vOEo3p3cu5mILV4ms1RLL02G0mFi7I3NvuIKw1nhUNY7GNIvmeIQD14x1p35XaIOgR4F29kOKY0xHFXoBw3VXYoVIOImad3mdKEMACYiMo3FgdGXP6D8IeRQOuG2q6GjIdUzcV4YlaDSMuEEWZ320Ry8KuWSNuIGKOGB9Z1vPGJMxVjP4h41J/3hehlNyjYd4ChNTyTZoNEURWTdqdkhyouiIerhb3/ch54gUxdSTQbl/ctWEDXaHRuaQwAaCWXlspQg+T1kVJDhtIbl2qNUzn5d3NAlly/hruvaH6UaHLElxWZQvFLlxloeWFgOFivdAbemEMOhphGRxDfUZUsWUBKVzCpSOLxZ686ZZoyV/Cudx3Tdd0xeXqnGYhpU4irmUSlY/xgcdkKksZDiZN5aMdZWEZxZlHuaVxRd6j2WMLCSGH1aaoLiA63iIi8aaFIGQZvU9sbl6WhSF34ZTt8mbF8WOVBaDAdhHQIaY3maB27WZ9ohV8IZes2l0dHlygOdhfPd+p8le1P8JYtbpbcnFONdzWQqJevBILSEHXiAJegjFZZ8DlMa5bBI4i6qFfrWWfGFWPublmFuYXpulR7UHNrHoPIaUaqNigM/EcBUBJWZmSO3ZUdPySE1nkVU5hxFUjRGaig46ehL5oRQzoQtXocQnefAjVghYnLCoknRZfn9lmfP2ldH2QRjYbZBIlD7Gn015kyGBc79ngfzYm1NmYvGTozPZfD06N5VoiAY2nUN4obQ5hobWbnQkj9lSfRy4hPY3mEYYpeI5pUKaeVLJeVgaj+kVYuj3pKn5RH3ooStlmhw1fPmGjwuqdtdpo5iZpqtXoEfIJf0kUcIHeC0llFxqknVHjqT/WJdkE3JyGajHc2SECnt0SIlPVpM0R3aUxXnA1YqfiGVmSYu/qXeW6pFfmaiBhE2cqoQe9qkjCnCi+ojM+GFU5ZPKGXeeVGTfeDIlSnrZyKGmaJ6WyIhXGZ6veGe+pKC8GoFLh3aw9IaMeqlGiodUqj+16Yn8BWHeNZEDaaYISptoyoKZ+KA5JlKQimE76ijAGFTd6nPs6UtgJmFLh6Ei2qjhWTrt+K1lAlhJJZKuNapPE4rYl6doqHYYZzyoqEDOJ5IloZcGGnPIJpID60mZBpT8x43ZlCvWZ3XhiJszI1smJJsXJ6DpMpb9p4vQcW3CeoBUWJheBIPeVFyiSrIH/7tZ5aV9ebqyuqmNoYonMBuMbpmZBbuKsgqfz8mvDwlsN+iNnbeGHHsgGTiqGpmtszaS9NSruXdwpBVOB/qLe/qf+DZyVLsTG8SYJLpevAWct6eIx6aXS6tO5CWeeSWr2kkSWYi2PApzawubbatCmQplZ+eefUOjxXqi9QmjVViITYl605pdy4hodypmw+dgnSppn6mLUwukneKsEhl1BfuXADm5VVODQNicTpm5SLi5+9hwk+pqGUk3SdRo7vdZ98KR7lqrO+lmmimHvfZTtbi4V3dIsUscofZFY8ZM6wl83Kq7LjiUqcNaL2iA3UlMzpatmRZ2hfeu9ma1zKup1/+4YHKarHaJva2rvTTHuNS6o2Q2kuE7kuNbrcQ2O5W2rK6GTUDLSQBKhenKgDj5POYqfELDNvWrqwNKNfnrUfs7gcAYEhYKwPfabJjThajFPRkXwTjmrYeaZKOonD5ldStHu+y3nCErpE2XQ4MYrRhsgNuywbXrs/H5wVELcbOKuuqLctuaY0H1cRZLp+ComeA6YZPJtnnnjG6DnhAmlknckNGGwp1TvY5brk4aiiEWrAi7apWKxCT7iuM3eR/pcqCaL09Xtz1cOi1YxXsLvTaXolDpXvi7l6rrpgiMnMoWcMFLumhcxGr8d3S8myp8lvLqqqrZpf0oiB4SmgsZbF//Go5ycY+AfJ9cWJfzCsQ/RrbXJMhqGofeOxW+NXzn+ryK8kiYCGYqBp+DVX+7SJ53G7ZjN3pe5qcbZ8YymYqk3KSaXGhGXJ2rTKyJcZN8HGkVm3bnGcT9p6C8OMaCRsJG4cuBDMx9yact+76ZZ8zhiszEzBWAakqHRrhxd2HjCqXq5rkuCmsHyrnseqP+VGdM2b8QGpCFl5zYWYdVSc1GJbHQrMgZHKQme3TGW7hK20NX9hu0es9oY851aaIjxq93CdAo07plUW9ELFBFCM8z5s0n9TyJuYcHHK62B1CKG9GdPMcUHVoWjZHjSZqEnMj8A22eoShW7HsuLGX6Cbw4/1tVnvy/OK2xH3Sd8duBqJl4eOSayBeiw2nTH0vFSB1ojNrTVTh4QxXLXoufwHvJtjawsmy5YPqOIbSh1uvU0gfVO929vedtBzul7dvRwxuRDA1XpQeg8WWMyJi+wJu/Rmylv6yJgJvJiAGXpnyAcO3GvGl6OFk0Oi2MLDzCtezR+trWljl1YKSzjv1E18PO0PmhvMXUZrjYO7yNAdrDkI2IgzvZDeyl3vE4WusXwUd0iEVCAETGuRm2gEZXqEg/Q3Q4UIzPZ5HaiTtXYe2cz/vSjqrFJftxAVbbOqTWEHV8T51dYAzGLK1zYbc+OatSbCiDYITZhpmr38vcObytz/9NPtEdfgIr1zwWueBJiJRhUFS5X9+Jl0aKLdbaxP/cZT3oqw4NKPrngMPczu79zVJbkjrGhAc6l+8Hslq1xsjbhlu20NEsu0KnZjbJu1sMw9aX3LhL3gJ4u5vcpw5eX21k3IEXljjYx8ChzlFrUk8VOuOpMht+VY4TRSh7w79h4nDr13r6349ac77n4mAF4wSL1zGyoyxNfli8z6cb2cF4RRobvXj6J0KeifRon+Ltdpp7eUveu8o84/eLSIZIWQ7rohN8TBGegCcGl72SUBiElFXNm1gtxD8T1qOZusEX5Fs90BctkOo4EkS2zSKY2LJU5/Z85+hs4Gm72gsWd37/riHHRpzgrLI0HYaTnHIQbNDnsejiyss7++h6zOhSZq/xPT1veXvoWnNI/m/Lo0vBJsdltM3b9zksXuqofOrKy7iq7uQENuuRx9nNLdHUxrUyLs9f2yj7qqUY7a1yS9sT67e/Xuj87S7E6dob3IIFPKTVtl/HNdaULh/P/tskTZW0Rd99zcrGnuy4tSosOriDFLArSE7nLrYSxJQBle2VDpoSnupbykHrXnftTnfEXNNlKkg/qcbtXbITyqUWnToNenTpaUUBH9sDP+yrGrgHn3pcrvBhuuoaSOJPZHXLxKUiSMM6TH+2m+UyQsm4WdwjyHKzhcqd2MW+9mSvjPFD/0zHXNngNNxGp8ynkiOzDP+pFGXRoavRGY/QffjmoH64VOqpXI3qUF2MmI519105FMnu/mrLdXzE7E2uRXv0sqNH/WzwD+7OFa/NvL16X871Ku71HLzyXfjOWzl01LbY/Y327STxw9JfEz/TiznDIGenJB8yy+jUeK/goJXwYAfgLqO3dO/AAa9Tth1lovzjRY3di+/FldjmeE6sJDi0la/nQ3nDRNeZlv18f9/5isqyER/Tn/7ENmz6UPfuzDew3Uh6crv6rt8Sfhf7fTn7qVL7iH/7r//lRMrZqtp42kT5wF/0MOyao6N06XrayT9vYe74saWo8h79M/v5KhV0T4NF6NjPEiY+/I4/Lt7//Xi7zU2Lp15V1uY/jAFP2Rt7z+1vmPXG/PgakPO/mkPO4fmPHgABQODAAAEECCiYMKFAhQ0dPoQYUeJEihUtXsSYUeNGjh0NIkx48GBBhh5NnkSZUuVKlipHhhRJEkBLmjVt3sSZc+JLnT19/gQatCFPoTUDAgAh+QQFCgABACz9AAcBAQABAAAIBAADBAQAIfkEBQoAAQAs/QAHAQEAAQAACAQAAwQEACH5BAUKAAEALP0ABwEBAAEAAAgEAAMEBAAh+QQFCgABACz9AAcBAQABAAAIBAADBAQAIfkEBQoAAQAs/QAHAQEAAQAACAQAAwQEACH5BAUKAAEALP0ABwEBAAEAAAgEAAMEBAAh+QQFCgABACz9AAcBAQABAAAIBAADBAQAIfkEBQoAAQAs/QAHAQEAAQAACAQAAwQEACH5BAUKAAEALP0ABwEBAAEAAAgEAAMEBAAh+QQFCgABACz9AAcBAQABAAAIBAADBAQAOw==\"/></td></tr></table>"
      ],
      "text/plain": [
       "<IPython.core.display.HTML object>"
      ]
     },
     "metadata": {},
     "output_type": "display_data"
    },
    {
     "data": {
      "text/html": [
       "<table class=\"show_images\" style=\"border-spacing:0px;\"><tr><td style=\"padding:1px;\"><div style=\"display:flex; align-items:left;\">\n",
       "      <div style=\"display:flex; flex-direction:column; align-items:center;\">\n",
       "      <div>day24</div><div><img width=\"531\" height=\"545\" style=\"image-rendering:auto; object-fit:cover;\" src=\"data:image/png;base64,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\"/></div></div></div></td></tr></table>"
      ],
      "text/plain": [
       "<IPython.core.display.HTML object>"
      ]
     },
     "metadata": {},
     "output_type": "display_data"
    }
   ],
   "source": [
    "_ = day24_part2(puzzle.input, visualize=True)  # ~1700 ms."
   ]
  },
  {
   "cell_type": "markdown",
   "id": "4e3659da",
   "metadata": {},
   "source": [
    "<a name=\"day25\"></a>\n",
    "## Day 25: Public-key encryption"
   ]
  },
  {
   "cell_type": "markdown",
   "id": "f3bb00ca",
   "metadata": {},
   "source": [
    "Given a card public key and a door public key, find the (private) card loop size and door loop size that were used to generate these public keys.  Then, find the common encryption key that the card and door use to communicate.\n",
    "\n",
    "- Part 1: Report the encryption key.\n",
    "\n",
    "- Part 2: There is no part 2 for this last day of the Advent."
   ]
  },
  {
   "cell_type": "code",
   "execution_count": 128,
   "id": "b28f177c",
   "metadata": {
    "execution": {
     "iopub.execute_input": "2022-12-19T00:40:47.482073Z",
     "iopub.status.busy": "2022-12-19T00:40:47.481860Z",
     "iopub.status.idle": "2022-12-19T00:40:47.491820Z",
     "shell.execute_reply": "2022-12-19T00:40:47.491222Z",
     "shell.execute_reply.started": "2022-12-19T00:40:47.482060Z"
    }
   },
   "outputs": [
    {
     "data": {
      "text/markdown": [
       "For [day 25](https://adventofcode.com/2020/day/25), `puzzle.input` has 2 lines:"
      ],
      "text/plain": [
       "<IPython.core.display.Markdown object>"
      ]
     },
     "metadata": {},
     "output_type": "display_data"
    },
    {
     "name": "stdout",
     "output_type": "stream",
     "text": [
      "10212254\n",
      "12577395\n"
     ]
    },
    {
     "data": {
      "text/markdown": [
       "The stored answers are: `{1: '290487', 2: ''}`"
      ],
      "text/plain": [
       "<IPython.core.display.Markdown object>"
      ]
     },
     "metadata": {},
     "output_type": "display_data"
    }
   ],
   "source": [
    "puzzle = advent.puzzle(day=25)"
   ]
  },
  {
   "cell_type": "code",
   "execution_count": 129,
   "id": "b1f84c4e",
   "metadata": {
    "execution": {
     "iopub.execute_input": "2022-12-19T00:40:47.492802Z",
     "iopub.status.busy": "2022-12-19T00:40:47.492527Z",
     "iopub.status.idle": "2022-12-19T00:40:47.495454Z",
     "shell.execute_reply": "2022-12-19T00:40:47.494976Z",
     "shell.execute_reply.started": "2022-12-19T00:40:47.492788Z"
    }
   },
   "outputs": [],
   "source": [
    "s1 = \"\"\"\\\n",
    "5764801\n",
    "17807724\n",
    "\"\"\""
   ]
  },
  {
   "cell_type": "code",
   "execution_count": 130,
   "id": "44cbc960",
   "metadata": {
    "execution": {
     "iopub.execute_input": "2022-12-19T00:40:47.496315Z",
     "iopub.status.busy": "2022-12-19T00:40:47.496070Z",
     "iopub.status.idle": "2022-12-19T00:40:47.821706Z",
     "shell.execute_reply": "2022-12-19T00:40:47.821128Z",
     "shell.execute_reply.started": "2022-12-19T00:40:47.496302Z"
    }
   },
   "outputs": [
    {
     "name": "stdout",
     "output_type": "stream",
     "text": [
      "(Part 1: 0.316 s)\n"
     ]
    }
   ],
   "source": [
    "def day25a(s, *, base=7, mod=20201227):  # Slow.\n",
    "  card_public_key, door_public_key = map(int, s.splitlines())\n",
    "\n",
    "  # Slow trial-multiplication; https://en.wikipedia.org/wiki/Discrete_logarithm\n",
    "  def untransform(base, value):\n",
    "    x = 1\n",
    "    loop_size = 0\n",
    "    while x != value:\n",
    "      loop_size += 1\n",
    "      x = (x * base) % mod\n",
    "    return loop_size\n",
    "\n",
    "  # Slow O(n) version.\n",
    "  def transform(value, loop_size):\n",
    "    x = 1\n",
    "    for _ in range(loop_size):\n",
    "      x = (x * value) % mod\n",
    "    return x\n",
    "\n",
    "  card_loop_size = untransform(base, card_public_key)\n",
    "  door_loop_size = untransform(base, door_public_key)\n",
    "  assert transform(base, card_loop_size) == card_public_key\n",
    "  assert transform(base, door_loop_size) == door_public_key\n",
    "\n",
    "  encryption_key1 = transform(door_public_key, card_loop_size)\n",
    "  encryption_key2 = transform(card_public_key, door_loop_size)\n",
    "  assert encryption_key1 == encryption_key2\n",
    "  return encryption_key1\n",
    "\n",
    "\n",
    "check_eq(day25a(s1), 14897079)\n",
    "puzzle.verify(1, day25a)  # ~1000 ms."
   ]
  },
  {
   "cell_type": "code",
   "execution_count": 131,
   "id": "a1155049",
   "metadata": {
    "execution": {
     "iopub.execute_input": "2022-12-19T00:40:47.822788Z",
     "iopub.status.busy": "2022-12-19T00:40:47.822334Z",
     "iopub.status.idle": "2022-12-19T00:40:47.828950Z",
     "shell.execute_reply": "2022-12-19T00:40:47.828423Z",
     "shell.execute_reply.started": "2022-12-19T00:40:47.822773Z"
    }
   },
   "outputs": [
    {
     "name": "stdout",
     "output_type": "stream",
     "text": [
      "(Part 1: 0.000 s)\n"
     ]
    }
   ],
   "source": [
    "def day25(s, *, base=7, mod=20201227):  # Fast.\n",
    "  def pow_mod(base: int, exponent: int, mod: int) -> int:\n",
    "    \"\"\"Returns 'base**exponent % mod' using square-multiply algorithm.\"\"\"\n",
    "    x = 1\n",
    "    while exponent > 0:\n",
    "      if exponent % 2 == 1:\n",
    "        x = (x * base) % mod\n",
    "      base = (base * base) % mod\n",
    "      exponent //= 2\n",
    "    return x\n",
    "\n",
    "  def log_mod(base: int, value: int, mod: int) -> int | None:\n",
    "    \"\"\"Returns exponent for 'base**exponent % mod == value'.\"\"\"\n",
    "    # Using https://en.wikipedia.org/wiki/Baby-step_giant-step\n",
    "    # m = int(math.ceil(mod**0.5))\n",
    "    m = math.isqrt(mod - 1) + 1\n",
    "    table = {}\n",
    "    e = 1\n",
    "    for i in range(m):\n",
    "      table[e] = i\n",
    "      e = (e * base) % mod\n",
    "    factor = pow_mod(base, mod - m - 1, mod)\n",
    "    e = value\n",
    "    for i in range(m):\n",
    "      if e in table:\n",
    "        return i * m + table[e]\n",
    "      e = (e * factor) % mod\n",
    "    return None\n",
    "\n",
    "  card_public_key, door_public_key = map(int, s.splitlines())\n",
    "  card_loop_size = log_mod(base, card_public_key, mod)\n",
    "  assert card_loop_size is not None\n",
    "  return pow_mod(door_public_key, card_loop_size, mod)\n",
    "\n",
    "\n",
    "check_eq(day25(s1), 14897079)\n",
    "puzzle.verify(1, day25)  # ~1 ms."
   ]
  },
  {
   "cell_type": "markdown",
   "id": "6d600fa2",
   "metadata": {},
   "source": [
    "Part 2"
   ]
  },
  {
   "cell_type": "code",
   "execution_count": 132,
   "id": "a85ae975",
   "metadata": {
    "execution": {
     "iopub.execute_input": "2022-12-19T00:40:47.830079Z",
     "iopub.status.busy": "2022-12-19T00:40:47.829929Z",
     "iopub.status.idle": "2022-12-19T00:40:47.842986Z",
     "shell.execute_reply": "2022-12-19T00:40:47.842376Z",
     "shell.execute_reply.started": "2022-12-19T00:40:47.830067Z"
    }
   },
   "outputs": [
    {
     "name": "stdout",
     "output_type": "stream",
     "text": [
      "(Part 2: 0.000 s)\n"
     ]
    }
   ],
   "source": [
    "puzzle.verify(2, lambda s: '')  # (No \"Part 2\" on last day.)\n",
    "# (aocd does not allow a blank answer; the answer is not submitted)"
   ]
  },
  {
   "cell_type": "markdown",
   "id": "ffc0d796",
   "metadata": {},
   "source": [
    "<a name=\"timings\"></a>\n",
    "## Timings"
   ]
  },
  {
   "cell_type": "code",
   "execution_count": 133,
   "id": "703b930b",
   "metadata": {
    "execution": {
     "iopub.execute_input": "2022-12-19T00:40:47.843945Z",
     "iopub.status.busy": "2022-12-19T00:40:47.843647Z",
     "iopub.status.idle": "2022-12-19T00:40:47.852882Z",
     "shell.execute_reply": "2022-12-19T00:40:47.852265Z",
     "shell.execute_reply.started": "2022-12-19T00:40:47.843933Z"
    }
   },
   "outputs": [
    {
     "name": "stdout",
     "output_type": "stream",
     "text": [
      "day_1    part_1: 0.000   part_2: 0.001\n",
      "day_2    part_1: 0.002   part_2: 0.001\n",
      "day_3    part_1: 0.001   part_2: 0.001\n",
      "day_4    part_1: 0.002   part_2: 0.002\n",
      "day_5    part_1: 0.000   part_2: 0.001\n",
      "day_6    part_1: 0.000   part_2: 0.001\n",
      "day_7    part_1: 0.002   part_2: 0.002\n",
      "day_8    part_1: 0.000   part_2: 0.004\n",
      "day_9    part_1: 0.001   part_2: 0.001\n",
      "day_10   part_1: 0.000   part_2: 0.000\n",
      "day_11   part_1: 0.016   part_2: 0.039\n",
      "day_12   part_1: 0.000   part_2: 0.000\n",
      "day_13   part_1: 0.000   part_2: 0.000\n",
      "day_14   part_1: 0.001   part_2: 0.010\n",
      "day_15   part_1: 0.000   part_2: 0.375\n",
      "day_16   part_1: 0.002   part_2: 0.021\n",
      "day_17   part_1: 0.003   part_2: 0.057\n",
      "day_18   part_1: 0.002   part_2: 0.002\n",
      "day_19   part_1: 0.026   part_2: 0.118\n",
      "day_20   part_1: 0.005   part_2: 0.013\n",
      "day_21   part_1: 0.001   part_2: 0.000\n",
      "day_22   part_1: 0.000   part_2: 0.407\n",
      "day_23   part_1: 0.000   part_2: 0.177\n",
      "day_24   part_1: 0.001   part_2: 0.149\n",
      "day_25   part_1: 0.000   part_2: 0.000\n",
      "Total time:  1.446 s\n"
     ]
    }
   ],
   "source": [
    "advent.show_times()"
   ]
  },
  {
   "cell_type": "code",
   "execution_count": 134,
   "id": "be7b0632",
   "metadata": {
    "execution": {
     "iopub.execute_input": "2022-12-19T00:40:47.854127Z",
     "iopub.status.busy": "2022-12-19T00:40:47.853677Z",
     "iopub.status.idle": "2022-12-19T00:40:47.862515Z",
     "shell.execute_reply": "2022-12-19T00:40:47.861680Z",
     "shell.execute_reply.started": "2022-12-19T00:40:47.854113Z"
    }
   },
   "outputs": [],
   "source": [
    "if 0:  # Compute min execution times over several calls.\n",
    "  advent.show_times(recompute=True, repeat=3)"
   ]
  },
  {
   "cell_type": "code",
   "execution_count": 135,
   "id": "f1395dd8",
   "metadata": {
    "execution": {
     "iopub.execute_input": "2022-12-19T00:40:47.863957Z",
     "iopub.status.busy": "2022-12-19T00:40:47.863507Z",
     "iopub.status.idle": "2022-12-19T00:40:47.872798Z",
     "shell.execute_reply": "2022-12-19T00:40:47.872157Z",
     "shell.execute_reply.started": "2022-12-19T00:40:47.863934Z"
    }
   },
   "outputs": [
    {
     "name": "stdout",
     "output_type": "stream",
     "text": [
      "grid_from_string grid_from_indices puzzle s1 s2 s3 extended_gcd\n"
     ]
    }
   ],
   "source": [
    "if 1:  # Look for unwanted pollution of namespace.\n",
    "  print(\n",
    "      textwrap.fill(\n",
    "          ' '.join(\n",
    "              name\n",
    "              for name, value in globals().items()\n",
    "              if not (name.startswith(('_', 'day')) or name in _ORIGINAL_GLOBALS)\n",
    "          )\n",
    "      )\n",
    "  )"
   ]
  },
  {
   "cell_type": "code",
   "execution_count": 136,
   "id": "cfc6af62",
   "metadata": {
    "execution": {
     "iopub.execute_input": "2022-12-19T00:40:47.874035Z",
     "iopub.status.busy": "2022-12-19T00:40:47.873537Z",
     "iopub.status.idle": "2022-12-19T00:40:47.882647Z",
     "shell.execute_reply": "2022-12-19T00:40:47.881855Z",
     "shell.execute_reply.started": "2022-12-19T00:40:47.874018Z"
    }
   },
   "outputs": [],
   "source": [
    "if 0:  # Save puzzle inputs and answers to a compressed archive for downloading.\n",
    "  # Create a new tar.gz file.\n",
    "  hh.run(\n",
    "      f\"\"\"cd /mnt/c/hh/tmp && cp -rp ~/.config/aocd/'{PROFILE.replace(\"_\", \" \")}' '{PROFILE}' && tar -czf '{PROFILE}.tar.gz' '{PROFILE}'\"\"\"\n",
    "  )"
   ]
  },
  {
   "cell_type": "code",
   "execution_count": 138,
   "id": "553b629e",
   "metadata": {
    "execution": {
     "iopub.execute_input": "2022-12-19T00:40:47.893450Z",
     "iopub.status.busy": "2022-12-19T00:40:47.893104Z",
     "iopub.status.idle": "2022-12-19T00:40:47.904650Z",
     "shell.execute_reply": "2022-12-19T00:40:47.903815Z",
     "shell.execute_reply.started": "2022-12-19T00:40:47.893434Z"
    }
   },
   "outputs": [],
   "source": [
    "if 0:  # Lint.\n",
    "  hh.run('echo flake8; flake8')\n",
    "  hh.run('echo mypy; mypy . || true')\n",
    "  hh.run('echo autopep8; autopep8 -j8 -d .')\n",
    "  hh.run('echo pylint; pylint -j8 . || true')\n",
    "  print('All ran.')"
   ]
  },
  {
   "cell_type": "code",
   "execution_count": 139,
   "id": "dd0a566e",
   "metadata": {
    "execution": {
     "iopub.execute_input": "2022-12-19T00:40:47.905783Z",
     "iopub.status.busy": "2022-12-19T00:40:47.905354Z",
     "iopub.status.idle": "2022-12-19T00:40:47.914696Z",
     "shell.execute_reply": "2022-12-19T00:40:47.914136Z",
     "shell.execute_reply.started": "2022-12-19T00:40:47.905766Z"
    }
   },
   "outputs": [
    {
     "name": "stdout",
     "output_type": "stream",
     "text": [
      "# Total time: 5.86 s\n",
      "# In[ 87] # Faster, using np.array and numba.\\n\\n@numba.njit\\ndef      1.037 s\n",
      "# In[ 66] # More naive solution, but faster when using numba.\\n\\n@     0.788 s\n",
      "# In[122] # Code keeping track of next cup label for each cup label:   0.566 s\n",
      "# In[127] _ = day24_part2(puzzle.input, visualize=True)  # ~1700 ms.   0.452 s\n",
      "# In[115] def day22_part2(s):  # Faster code using tuples.\\n\\n  # @    0.414 s\n",
      "# In[130] def day25a(s, *, base=7, mod=20201227):  # Slow.\\n  card_    0.322 s\n",
      "# In[ 67] if hasattr(numba, 'jit'):\\n  videos = {\\n      'Part 1':     0.258 s\n",
      "# In[126] def day24(s, *, part2=False, num_days=100, visualize=False)  0.233 s\n",
      "# In[106] def day20(s, *, part2=False, visualize=False):\\n  tiles = {  0.233 s\n",
      "# In[102] def day19a(s, *, part2=False):  # Compact.\\n  section1,      0.224 s\n",
      "# In[103] def day19(s, *, part2=False):  # Faster.\\n  section1,        0.148 s\n",
      "# In[  9] try:\\n  import numba\\nexcept ModuleNotFoundError:\\n  print(  0.115 s\n",
      "# In[ 95] def day17(s, *, num_cycles=6, dim=3):  # Faster.\\n  lines =  0.096 s\n",
      "# In[ 94] def day17a(s, *, num_cycles=6, dim=3):  # Slower.\\n  lines   0.088 s\n",
      "# In[ 90] def day16(s, *, part2=False):\\n\\n  def read_rules_and_       0.029 s\n",
      "# In[ 53] puzzle = advent.puzzle(day=9)                                0.022 s\n",
      "# In[ 91] puzzle = advent.puzzle(day=17)                               0.019 s\n",
      "# In[124] puzzle = advent.puzzle(day=24)                               0.017 s\n",
      "# In[ 82] def day14(s, *, part2=False):\\n  mem = {}\\n  extract_0 =     0.017 s\n",
      "# In[108] puzzle = advent.puzzle(day=21)                               0.016 s\n"
     ]
    }
   ],
   "source": [
    "hh.show_notebook_cell_top_times()"
   ]
  },
  {
   "cell_type": "markdown",
   "id": "071be244",
   "metadata": {},
   "source": [
    "# End"
   ]
  },
  {
   "cell_type": "code",
   "execution_count": 140,
   "id": "fa30d668",
   "metadata": {
    "execution": {
     "iopub.execute_input": "2022-12-19T00:40:47.915724Z",
     "iopub.status.busy": "2022-12-19T00:40:47.915377Z",
     "iopub.status.idle": "2022-12-19T00:40:47.924391Z",
     "shell.execute_reply": "2022-12-19T00:40:47.923769Z",
     "shell.execute_reply.started": "2022-12-19T00:40:47.915710Z"
    }
   },
   "outputs": [],
   "source": [
    "# Goals:\n",
    "# (1) Find puzzle answers.\n",
    "# (2) Clean up code.\n",
    "# (3) Speed up computation.\n",
    "# (4) Visualize intermediate results.\n",
    "# (5) Generalize to all puzzle inputs."
   ]
  },
  {
   "cell_type": "markdown",
   "id": "dc226ae0",
   "metadata": {},
   "source": [
    "<!-- For Emacs:\n",
    "Local Variables:\n",
    "fill-column: 100\n",
    "End:\n",
    "-->"
   ]
  }
 ],
 "metadata": {
  "colab": {
   "collapsed_sections": [],
   "provenance": [],
   "toc_visible": true
  },
  "jupytext": {
   "cell_metadata_filter": "-all",
   "formats": "py:percent,ipynb",
   "main_language": "python",
   "notebook_metadata_filter": "-all"
  },
  "kernelspec": {
   "display_name": "Python 3 (ipykernel)",
   "language": "python",
   "name": "python3"
  },
  "language_info": {
   "codemirror_mode": {
    "name": "ipython",
    "version": 3
   },
   "file_extension": ".py",
   "mimetype": "text/x-python",
   "name": "python",
   "nbconvert_exporter": "python",
   "pygments_lexer": "ipython3",
   "version": "3.10.6"
  }
 },
 "nbformat": 4,
 "nbformat_minor": 5
}
