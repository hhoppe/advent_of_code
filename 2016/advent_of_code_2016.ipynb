{
 "cells": [
  {
   "cell_type": "markdown",
   "id": "c239566e",
   "metadata": {},
   "source": [
    "# Advent of code 2016"
   ]
  },
  {
   "cell_type": "markdown",
   "id": "f819c4f7",
   "metadata": {},
   "source": [
    "[[**Open the notebook in Colab**]](https://colab.research.google.com/github/hhoppe/advent_of_code/blob/main/2016/advent_of_code_2016.ipynb)\n",
    "\n",
    "Jupyter [notebook](https://github.com/hhoppe/advent_of_code/blob/main/2016/advent_of_code_2016.ipynb)\n",
    "by [Hugues Hoppe](http://hhoppe.com/) with Python solutions to the\n",
    "[2016 Advent of Code puzzles](https://adventofcode.com/2016),\n",
    "completed in December 2022.\n",
    "\n",
    "We explore both \"compact\" and \"fast\" code versions, along with data visualizations.\n",
    "\n",
    "For the fast solutions, the [cumulative time](#timings) across all 25 puzzles is less than 1 s on my PC.<br/>\n",
    "(Some solutions use the `numba` package to jit-compile functions, which can take a few seconds.)\n",
    "\n",
    "Here are some visualization results (obtained by setting `SHOW_BIG_MEDIA = True`):"
   ]
  },
  {
   "cell_type": "markdown",
   "id": "3d759f1d",
   "metadata": {},
   "source": [
    "<a name=\"preamble\"></a>\n",
    "## Preamble"
   ]
  },
  {
   "cell_type": "code",
   "execution_count": 1,
   "id": "e8e1f153",
   "metadata": {
    "execution": {
     "iopub.execute_input": "2023-04-07T04:34:57.404063Z",
     "iopub.status.busy": "2023-04-07T04:34:57.403923Z",
     "iopub.status.idle": "2023-04-07T04:34:57.529148Z",
     "shell.execute_reply": "2023-04-07T04:34:57.528436Z",
     "shell.execute_reply.started": "2023-04-07T04:34:57.404049Z"
    },
    "tags": []
   },
   "outputs": [],
   "source": [
    "!command -v ffmpeg >/dev/null || (apt-get -qq update && apt-get -qq -y install ffmpeg) >/dev/null"
   ]
  },
  {
   "cell_type": "code",
   "execution_count": 2,
   "id": "aeee3349",
   "metadata": {
    "execution": {
     "iopub.execute_input": "2023-04-07T04:34:57.530887Z",
     "iopub.status.busy": "2023-04-07T04:34:57.530557Z",
     "iopub.status.idle": "2023-04-07T04:34:58.827415Z",
     "shell.execute_reply": "2023-04-07T04:34:58.826872Z",
     "shell.execute_reply.started": "2023-04-07T04:34:57.530868Z"
    },
    "tags": []
   },
   "outputs": [],
   "source": [
    "!pip install -q advent-of-code-ocr advent-of-code-hhoppe hhoppe-tools mediapy more-itertools numba"
   ]
  },
  {
   "cell_type": "code",
   "execution_count": 3,
   "id": "b7672379",
   "metadata": {
    "execution": {
     "iopub.execute_input": "2023-04-07T04:34:58.828199Z",
     "iopub.status.busy": "2023-04-07T04:34:58.828067Z",
     "iopub.status.idle": "2023-04-07T04:34:59.089460Z",
     "shell.execute_reply": "2023-04-07T04:34:59.088819Z",
     "shell.execute_reply.started": "2023-04-07T04:34:58.828185Z"
    },
    "tags": []
   },
   "outputs": [],
   "source": [
    "from __future__ import annotations\n",
    "\n",
    "# pylint: disable=unused-import\n",
    "import collections\n",
    "from collections.abc import Callable, Iterable, Iterator\n",
    "import dataclasses\n",
    "import functools\n",
    "import hashlib\n",
    "import heapq\n",
    "import itertools\n",
    "import math\n",
    "import multiprocessing\n",
    "import os\n",
    "import re\n",
    "import sys\n",
    "import textwrap\n",
    "import types\n",
    "from typing import Any\n",
    "\n",
    "import advent_of_code_hhoppe  # https://github.com/hhoppe/advent-of-code-hhoppe/blob/main/advent_of_code_hhoppe/__init__.py\n",
    "import advent_of_code_ocr  # https://github.com/bsoyka/advent-of-code-ocr/blob/main/advent_of_code_ocr/__init__.py\n",
    "import hhoppe_tools as hh  # https://github.com/hhoppe/hhoppe-tools/blob/main/hhoppe_tools/__init__.py\n",
    "import mediapy as media\n",
    "import more_itertools\n",
    "import numpy as np"
   ]
  },
  {
   "cell_type": "code",
   "execution_count": 4,
   "id": "00c48f0e",
   "metadata": {
    "execution": {
     "iopub.execute_input": "2023-04-07T04:34:59.090562Z",
     "iopub.status.busy": "2023-04-07T04:34:59.090239Z",
     "iopub.status.idle": "2023-04-07T04:34:59.106959Z",
     "shell.execute_reply": "2023-04-07T04:34:59.106140Z",
     "shell.execute_reply.started": "2023-04-07T04:34:59.090546Z"
    },
    "tags": []
   },
   "outputs": [],
   "source": [
    "if not media.video_is_available():\n",
    "  media.show_videos = lambda *a, **kw: print('Creating video is unavailable.')"
   ]
  },
  {
   "cell_type": "code",
   "execution_count": 5,
   "id": "2c688fa5",
   "metadata": {
    "execution": {
     "iopub.execute_input": "2023-04-07T04:34:59.108537Z",
     "iopub.status.busy": "2023-04-07T04:34:59.108102Z",
     "iopub.status.idle": "2023-04-07T04:34:59.112052Z",
     "shell.execute_reply": "2023-04-07T04:34:59.111226Z",
     "shell.execute_reply.started": "2023-04-07T04:34:59.108520Z"
    },
    "tags": []
   },
   "outputs": [],
   "source": [
    "hh.start_timing_notebook_cells()"
   ]
  },
  {
   "cell_type": "code",
   "execution_count": 6,
   "id": "be91ac9d",
   "metadata": {
    "execution": {
     "iopub.execute_input": "2023-04-07T04:34:59.113234Z",
     "iopub.status.busy": "2023-04-07T04:34:59.113068Z",
     "iopub.status.idle": "2023-04-07T04:34:59.127529Z",
     "shell.execute_reply": "2023-04-07T04:34:59.126803Z",
     "shell.execute_reply.started": "2023-04-07T04:34:59.113219Z"
    },
    "tags": []
   },
   "outputs": [],
   "source": [
    "YEAR = 2016\n",
    "SHOW_BIG_MEDIA = False"
   ]
  },
  {
   "cell_type": "code",
   "execution_count": 7,
   "id": "ae4c212f",
   "metadata": {
    "execution": {
     "iopub.execute_input": "2023-04-07T04:34:59.129504Z",
     "iopub.status.busy": "2023-04-07T04:34:59.129122Z",
     "iopub.status.idle": "2023-04-07T04:34:59.138158Z",
     "shell.execute_reply": "2023-04-07T04:34:59.136991Z",
     "shell.execute_reply.started": "2023-04-07T04:34:59.129488Z"
    },
    "tags": []
   },
   "outputs": [],
   "source": [
    "# (1) To obtain puzzle inputs and answers, we first try these paths/URLs:\n",
    "# PROFILE = 'google.Hugues_Hoppe.965276'\n",
    "PROFILE = 'github.hhoppe.1452460'\n",
    "TAR_URL = f'https://github.com/hhoppe/advent_of_code/raw/main/{YEAR}/data/{PROFILE}.tar.gz'\n",
    "if 0:\n",
    "  hh.run(\n",
    "      '{ [ -d data ] || mkdir data; } && cd data &&'\n",
    "      f' {{ [ -f {PROFILE}.tar.gz ] || wget -q {TAR_URL}; }} &&'\n",
    "      f' tar xzf {PROFILE}.tar.gz'\n",
    "  )\n",
    "INPUT_URL = f'data/{PROFILE}/{{year}}_{{day:02d}}_input.txt'\n",
    "ANSWER_URL = f'data/{PROFILE}/{{year}}_{{day:02d}}{{part_letter}}_answer.txt'"
   ]
  },
  {
   "cell_type": "code",
   "execution_count": 8,
   "id": "25548a6e",
   "metadata": {
    "execution": {
     "iopub.execute_input": "2023-04-07T04:34:59.139500Z",
     "iopub.status.busy": "2023-04-07T04:34:59.139137Z",
     "iopub.status.idle": "2023-04-07T04:35:00.455318Z",
     "shell.execute_reply": "2023-04-07T04:35:00.454774Z",
     "shell.execute_reply.started": "2023-04-07T04:34:59.139478Z"
    },
    "tags": []
   },
   "outputs": [],
   "source": [
    "# (2) If URL is not found, we may try adventofcode.com using a session cookie:\n",
    "if 1:\n",
    "  # !rm -f ~/.config/aocd/token*; mkdir -p ~/.config/aocd; echo 53616... >~/.config/aocd/token\n",
    "  # where \"53616...\" is the session cookie from \"adventofcode.com\" (valid 1 month).\n",
    "  hh.run('pip install -q advent-of-code-data')  # https://github.com/wimglenn/advent-of-code-data\n",
    "  import aocd  # pylint: disable=unused-import # noqa"
   ]
  },
  {
   "cell_type": "code",
   "execution_count": 9,
   "id": "996f23d3",
   "metadata": {
    "execution": {
     "iopub.execute_input": "2023-04-07T04:35:00.456221Z",
     "iopub.status.busy": "2023-04-07T04:35:00.455964Z",
     "iopub.status.idle": "2023-04-07T04:35:00.459376Z",
     "shell.execute_reply": "2023-04-07T04:35:00.458908Z",
     "shell.execute_reply.started": "2023-04-07T04:35:00.456208Z"
    },
    "tags": []
   },
   "outputs": [],
   "source": [
    "try:\n",
    "  import numba\n",
    "except ModuleNotFoundError:\n",
    "  print('Package numba is unavailable.')\n",
    "  numba = sys.modules['numba'] = types.ModuleType('numba')\n",
    "  numba.njit = hh.noop_decorator\n",
    "using_numba = hasattr(numba, 'jit')"
   ]
  },
  {
   "cell_type": "code",
   "execution_count": 10,
   "id": "122f5cf4",
   "metadata": {
    "execution": {
     "iopub.execute_input": "2023-04-07T04:35:00.460517Z",
     "iopub.status.busy": "2023-04-07T04:35:00.460241Z",
     "iopub.status.idle": "2023-04-07T04:35:00.469699Z",
     "shell.execute_reply": "2023-04-07T04:35:00.468943Z",
     "shell.execute_reply.started": "2023-04-07T04:35:00.460497Z"
    },
    "tags": []
   },
   "outputs": [],
   "source": [
    "SHOW_BIG_MEDIA = os.environ.get('SHOW_BIG_MEDIA', str(SHOW_BIG_MEDIA)).lower() in ['true', '1']\n",
    "advent = advent_of_code_hhoppe.Advent(year=YEAR, input_url=INPUT_URL, answer_url=ANSWER_URL)"
   ]
  },
  {
   "cell_type": "code",
   "execution_count": 11,
   "id": "9e0deecd-8bc8-4f56-8760-0e271af6bb02",
   "metadata": {
    "execution": {
     "iopub.execute_input": "2023-04-07T04:35:00.470872Z",
     "iopub.status.busy": "2023-04-07T04:35:00.470621Z",
     "iopub.status.idle": "2023-04-07T04:35:00.482376Z",
     "shell.execute_reply": "2023-04-07T04:35:00.481740Z",
     "shell.execute_reply.started": "2023-04-07T04:35:00.470858Z"
    },
    "tags": []
   },
   "outputs": [
    {
     "data": {
      "text/html": [
       "<style>.jp-Cell.jp-MarkdownCell {max-width: 1016px!important;}</style>"
      ],
      "text/plain": [
       "<IPython.core.display.HTML object>"
      ]
     },
     "metadata": {},
     "output_type": "display_data"
    }
   ],
   "source": [
    "hh.adjust_jupyterlab_markdown_width()"
   ]
  },
  {
   "cell_type": "markdown",
   "id": "c6feaf6f",
   "metadata": {},
   "source": [
    "### Helper functions"
   ]
  },
  {
   "cell_type": "code",
   "execution_count": 12,
   "id": "df9e9548",
   "metadata": {
    "execution": {
     "iopub.execute_input": "2023-04-07T04:35:00.483483Z",
     "iopub.status.busy": "2023-04-07T04:35:00.483195Z",
     "iopub.status.idle": "2023-04-07T04:35:00.488889Z",
     "shell.execute_reply": "2023-04-07T04:35:00.488206Z",
     "shell.execute_reply.started": "2023-04-07T04:35:00.483469Z"
    },
    "tags": []
   },
   "outputs": [],
   "source": [
    "check_eq = hh.check_eq\n",
    "_ORIGINAL_GLOBALS = list(globals())"
   ]
  },
  {
   "cell_type": "markdown",
   "id": "6b28c473",
   "metadata": {},
   "source": [
    "<a name=\"day1\"></a>\n",
    "## Day 1: Turtle walk"
   ]
  },
  {
   "cell_type": "markdown",
   "id": "1fa2c196",
   "metadata": {},
   "source": [
    "- Part 1: How many blocks away is Easter Bunny HQ?\n",
    "\n",
    "- Part 2: How many blocks away is the first location you visit twice?"
   ]
  },
  {
   "cell_type": "code",
   "execution_count": 13,
   "id": "4874099e",
   "metadata": {
    "execution": {
     "iopub.execute_input": "2023-04-07T04:35:00.489947Z",
     "iopub.status.busy": "2023-04-07T04:35:00.489733Z",
     "iopub.status.idle": "2023-04-07T04:35:00.505963Z",
     "shell.execute_reply": "2023-04-07T04:35:00.505415Z",
     "shell.execute_reply.started": "2023-04-07T04:35:00.489930Z"
    },
    "tags": []
   },
   "outputs": [
    {
     "data": {
      "text/markdown": [
       "For [day 1](https://adventofcode.com/2016/day/1), `puzzle.input` has a single line of 632 characters:"
      ],
      "text/plain": [
       "<IPython.core.display.Markdown object>"
      ]
     },
     "metadata": {},
     "output_type": "display_data"
    },
    {
     "name": "stdout",
     "output_type": "stream",
     "text": [
      "R1, L4, L5, L5, R2, R2, L1, L1, R2, L3, R4, R3, R2, L4, L2, R5, L1, R5, L5, L2,  ...  L1, R1, R2, L4, L2, R1, L5, L4, L5\n"
     ]
    },
    {
     "data": {
      "text/markdown": [
       "The stored answers are: `{1: '230', 2: '154'}`"
      ],
      "text/plain": [
       "<IPython.core.display.Markdown object>"
      ]
     },
     "metadata": {},
     "output_type": "display_data"
    }
   ],
   "source": [
    "puzzle = advent.puzzle(day=1)"
   ]
  },
  {
   "cell_type": "code",
   "execution_count": 14,
   "id": "2b9bc590",
   "metadata": {
    "execution": {
     "iopub.execute_input": "2023-04-07T04:35:00.507183Z",
     "iopub.status.busy": "2023-04-07T04:35:00.506620Z",
     "iopub.status.idle": "2023-04-07T04:35:00.513609Z",
     "shell.execute_reply": "2023-04-07T04:35:00.513073Z",
     "shell.execute_reply.started": "2023-04-07T04:35:00.507148Z"
    },
    "tags": []
   },
   "outputs": [
    {
     "name": "stdout",
     "output_type": "stream",
     "text": [
      "(Part 1: 0.000 s)\n",
      "(Part 2: 0.000 s)\n"
     ]
    }
   ],
   "source": [
    "def day1(s, *, part2=False):\n",
    "  y, x = 0, 0  # Origin.\n",
    "  dy, dx = -1, 0  # Up.\n",
    "  visited = set()\n",
    "  for op in s.split(', '):\n",
    "    if op[0] == 'L':\n",
    "      dy, dx = -dx, dy\n",
    "    elif op[0] == 'R':\n",
    "      dy, dx = dx, -dy\n",
    "    else:\n",
    "      raise ValueError(op)\n",
    "    distance = int(op[1:])\n",
    "    if not part2:\n",
    "      y, x = y + dy * distance, x + dx * distance\n",
    "    else:\n",
    "      for _ in range(distance):\n",
    "        y, x = y + dy, x + dx\n",
    "        if (y, x) in visited:\n",
    "          return abs(y) + abs(x)\n",
    "        visited.add((y, x))\n",
    "  assert not part2\n",
    "  return abs(y) + abs(x)\n",
    "\n",
    "\n",
    "check_eq(day1('R2, L3'), 5)\n",
    "check_eq(day1('R2, R2, R2'), 2)\n",
    "check_eq(day1('R5, L5, R5, R3'), 12)\n",
    "puzzle.verify(1, day1)\n",
    "\n",
    "day1_part2 = functools.partial(day1, part2=True)\n",
    "check_eq(day1_part2('R8, R4, R4, R8'), 4)\n",
    "puzzle.verify(2, day1_part2)"
   ]
  },
  {
   "cell_type": "markdown",
   "id": "09f9a54b",
   "metadata": {},
   "source": [
    "<a name=\"day2\"></a>\n",
    "## Day 2: Turtle diamond keypad"
   ]
  },
  {
   "cell_type": "markdown",
   "id": "95a06f3f",
   "metadata": {},
   "source": [
    "- Part 1: Your puzzle input is the instructions from the document you found at the front desk. What is the bathroom code?\n",
    "\n",
    "- Part 2: Given diamond-shaped keypad, what is the correct bathroom code?"
   ]
  },
  {
   "cell_type": "code",
   "execution_count": 15,
   "id": "da56805a",
   "metadata": {
    "execution": {
     "iopub.execute_input": "2023-04-07T04:35:00.514418Z",
     "iopub.status.busy": "2023-04-07T04:35:00.514250Z",
     "iopub.status.idle": "2023-04-07T04:35:00.528943Z",
     "shell.execute_reply": "2023-04-07T04:35:00.528300Z",
     "shell.execute_reply.started": "2023-04-07T04:35:00.514405Z"
    },
    "tags": []
   },
   "outputs": [
    {
     "data": {
      "text/markdown": [
       "For [day 2](https://adventofcode.com/2016/day/2), `puzzle.input` has 5 lines:"
      ],
      "text/plain": [
       "<IPython.core.display.Markdown object>"
      ]
     },
     "metadata": {},
     "output_type": "display_data"
    },
    {
     "name": "stdout",
     "output_type": "stream",
     "text": [
      "UDRLRRRUULUUDULRULUDRDRURLLDUUDURLUUUDRRRLUUDRUUDDDRRRLRURLLLDDDRDDRUDDULUULDDUD ... URDLRURLLRDUDUUDLLLUULLRULRLDLRDDDU\n",
      "DRRRDRUDRLDUUDLLLRLULLLUURLLRLDRLURDRDRDRLDUUULDRDDLDDDURURUDRUUURDRDURLRLUDRRRD ... LDUDUDULDURLRDLDRUUURLLDLLUUDURURUD\n",
      "UDUUUUURUDLLLRRRDRDRUDDRLLDRRLDRLLUURRULUULULRLLRUDDRLDRLUURDUDLURUULLLULLRRRULR ... ULURRULDRRDDDUUURLLDRDURUDRUDLLDRUD\n",
      "ULRDULURRDDLULLDDLDDDRLDUURDLLDRRRDLLURDRUDDLDURUDRULRULRULULUULLLLDRLRLDRLLLLLR ... RRDLDDRUURULLULUUUDDLRDULDDLULDUDRU\n",
      "LRLRLRLLLRRLUULDDUUUURDULLLRURLDLDRURRRUUDDDULURDRRDURLRLUDLLULDRULLRRRDUUDDRDRU ... UDLDDLLLRLLDRRULULRLRDURRRLDDRDDRLU\n"
     ]
    },
    {
     "data": {
      "text/markdown": [
       "The stored answers are: `{1: '56855', 2: 'B3C27'}`"
      ],
      "text/plain": [
       "<IPython.core.display.Markdown object>"
      ]
     },
     "metadata": {},
     "output_type": "display_data"
    }
   ],
   "source": [
    "puzzle = advent.puzzle(day=2)"
   ]
  },
  {
   "cell_type": "code",
   "execution_count": 16,
   "id": "885749d5",
   "metadata": {
    "execution": {
     "iopub.execute_input": "2023-04-07T04:35:00.530112Z",
     "iopub.status.busy": "2023-04-07T04:35:00.529778Z",
     "iopub.status.idle": "2023-04-07T04:35:00.533067Z",
     "shell.execute_reply": "2023-04-07T04:35:00.532510Z",
     "shell.execute_reply.started": "2023-04-07T04:35:00.530095Z"
    },
    "tags": []
   },
   "outputs": [],
   "source": [
    "s1 = \"\"\"\\\n",
    "ULL\n",
    "RRDDD\n",
    "LURDL\n",
    "UUUUD\n",
    "\"\"\""
   ]
  },
  {
   "cell_type": "code",
   "execution_count": 17,
   "id": "8dd39103-2690-4990-b9e2-87a53e3b32ab",
   "metadata": {
    "execution": {
     "iopub.execute_input": "2023-04-07T04:35:00.533958Z",
     "iopub.status.busy": "2023-04-07T04:35:00.533694Z",
     "iopub.status.idle": "2023-04-07T04:35:00.542856Z",
     "shell.execute_reply": "2023-04-07T04:35:00.542107Z",
     "shell.execute_reply.started": "2023-04-07T04:35:00.533945Z"
    },
    "lines_to_next_cell": 2,
    "tags": []
   },
   "outputs": [],
   "source": [
    "# Part 1 keypad:\n",
    "# 1 2 3\n",
    "# 4 5 6\n",
    "# 7 8 9\n",
    "# Part 2 keypad:\n",
    "#     1\n",
    "#   2 3 4\n",
    "# 5 6 7 8 9\n",
    "#   A B C\n",
    "#     D"
   ]
  },
  {
   "cell_type": "code",
   "execution_count": 18,
   "id": "c174f777",
   "metadata": {
    "execution": {
     "iopub.execute_input": "2023-04-07T04:35:00.543949Z",
     "iopub.status.busy": "2023-04-07T04:35:00.543764Z",
     "iopub.status.idle": "2023-04-07T04:35:00.553399Z",
     "shell.execute_reply": "2023-04-07T04:35:00.552796Z",
     "shell.execute_reply.started": "2023-04-07T04:35:00.543936Z"
    },
    "tags": []
   },
   "outputs": [
    {
     "name": "stdout",
     "output_type": "stream",
     "text": [
      "(Part 1: 0.000 s)\n"
     ]
    }
   ],
   "source": [
    "def day2a_part1(s):\n",
    "  y, x = 1, 1\n",
    "  code = ''\n",
    "  for line in s.splitlines():\n",
    "    for ch in line:\n",
    "      if ch == 'L':\n",
    "        x = max(x - 1, 0)\n",
    "      elif ch == 'R':\n",
    "        x = min(x + 1, 2)\n",
    "      elif ch == 'U':\n",
    "        y = max(y - 1, 0)\n",
    "      elif ch == 'D':\n",
    "        y = min(y + 1, 2)\n",
    "      else:\n",
    "        raise AssertionError(ch)\n",
    "    code += str(1 + y * 3 + x)\n",
    "  return code\n",
    "\n",
    "\n",
    "check_eq(day2a_part1(s1), '1985')\n",
    "puzzle.verify(1, day2a_part1)"
   ]
  },
  {
   "cell_type": "code",
   "execution_count": 19,
   "id": "58452c82-fb14-495b-8728-63d3d36cf63e",
   "metadata": {
    "execution": {
     "iopub.execute_input": "2023-04-07T04:35:00.554742Z",
     "iopub.status.busy": "2023-04-07T04:35:00.554527Z",
     "iopub.status.idle": "2023-04-07T04:35:00.569337Z",
     "shell.execute_reply": "2023-04-07T04:35:00.568733Z",
     "shell.execute_reply.started": "2023-04-07T04:35:00.554724Z"
    },
    "tags": []
   },
   "outputs": [
    {
     "name": "stdout",
     "output_type": "stream",
     "text": [
      "(Part 1: 0.000 s)\n",
      "(Part 2: 0.001 s)\n"
     ]
    }
   ],
   "source": [
    "def day2(s, *, part2=False):\n",
    "  y, x = (2, 0) if part2 else (1, 1)\n",
    "  code = ''\n",
    "  center_y, center_x = (2, 2) if part2 else (1, 1)\n",
    "  for line in s.splitlines():\n",
    "    for ch in line:\n",
    "      radius_y = 2 - abs(x - 2) if part2 else 1\n",
    "      radius_x = 2 - abs(y - 2) if part2 else 1\n",
    "      if ch == 'L':\n",
    "        x = max(x - 1, center_x - radius_x)\n",
    "      elif ch == 'R':\n",
    "        x = min(x + 1, center_x + radius_x)\n",
    "      elif ch == 'U':\n",
    "        y = max(y - 1, center_y - radius_y)\n",
    "      elif ch == 'D':\n",
    "        y = min(y + 1, center_y + radius_y)\n",
    "      else:\n",
    "        raise AssertionError(ch)\n",
    "    code += '  1   234 56789 ABC   D  '[y * 5 + x] if part2 else str(1 + y * 3 + x)\n",
    "  return code\n",
    "\n",
    "\n",
    "check_eq(day2(s1), '1985')\n",
    "puzzle.verify(1, day2)\n",
    "\n",
    "day2_part2 = functools.partial(day2, part2=True)\n",
    "check_eq(day2_part2(s1), '5DB3')\n",
    "puzzle.verify(2, day2_part2)"
   ]
  },
  {
   "cell_type": "markdown",
   "id": "5c8d18ca",
   "metadata": {},
   "source": [
    "<a name=\"day3\"></a>\n",
    "## Day 3: Count valid triangles"
   ]
  },
  {
   "cell_type": "markdown",
   "id": "65bd0ebe",
   "metadata": {},
   "source": [
    "- Part 1: In your puzzle input, how many of the listed triangles are possible?\n",
    "\n",
    "- Part 2: In your puzzle input, and instead reading by columns, how many of the listed triangles are possible?"
   ]
  },
  {
   "cell_type": "code",
   "execution_count": 20,
   "id": "1a4176e3",
   "metadata": {
    "execution": {
     "iopub.execute_input": "2023-04-07T04:35:00.570296Z",
     "iopub.status.busy": "2023-04-07T04:35:00.570080Z",
     "iopub.status.idle": "2023-04-07T04:35:00.586329Z",
     "shell.execute_reply": "2023-04-07T04:35:00.585801Z",
     "shell.execute_reply.started": "2023-04-07T04:35:00.570284Z"
    },
    "lines_to_next_cell": 2,
    "tags": []
   },
   "outputs": [
    {
     "data": {
      "text/markdown": [
       "For [day 3](https://adventofcode.com/2016/day/3), `puzzle.input` has 1_992 lines:"
      ],
      "text/plain": [
       "<IPython.core.display.Markdown object>"
      ]
     },
     "metadata": {},
     "output_type": "display_data"
    },
    {
     "name": "stdout",
     "output_type": "stream",
     "text": [
      "  566  477  376\n",
      "  575  488  365\n",
      "   50   18  156\n",
      "  558  673  498\n",
      "  133  112  510\n",
      "  670  613   25\n",
      "   84  197  643\n",
      "  910  265  611\n",
      " ...\n",
      "  381  366  568\n",
      "  883  323  560\n",
      "  942  136  297\n",
      "  103  324  576\n"
     ]
    },
    {
     "data": {
      "text/markdown": [
       "The stored answers are: `{1: '1050', 2: '1921'}`"
      ],
      "text/plain": [
       "<IPython.core.display.Markdown object>"
      ]
     },
     "metadata": {},
     "output_type": "display_data"
    }
   ],
   "source": [
    "puzzle = advent.puzzle(day=3)"
   ]
  },
  {
   "cell_type": "code",
   "execution_count": 21,
   "id": "143f02c9-b679-47d6-95c4-fa63ec5373a7",
   "metadata": {
    "execution": {
     "iopub.execute_input": "2023-04-07T04:35:00.587661Z",
     "iopub.status.busy": "2023-04-07T04:35:00.587157Z",
     "iopub.status.idle": "2023-04-07T04:35:00.590153Z",
     "shell.execute_reply": "2023-04-07T04:35:00.589631Z",
     "shell.execute_reply.started": "2023-04-07T04:35:00.587642Z"
    },
    "lines_to_next_cell": 2,
    "tags": []
   },
   "outputs": [],
   "source": [
    "# \"In a valid triangle, the sum of any two sides must be larger than the remaining side.\""
   ]
  },
  {
   "cell_type": "code",
   "execution_count": 22,
   "id": "187fe515",
   "metadata": {
    "execution": {
     "iopub.execute_input": "2023-04-07T04:35:00.593505Z",
     "iopub.status.busy": "2023-04-07T04:35:00.593226Z",
     "iopub.status.idle": "2023-04-07T04:35:00.603553Z",
     "shell.execute_reply": "2023-04-07T04:35:00.602691Z",
     "shell.execute_reply.started": "2023-04-07T04:35:00.593490Z"
    },
    "tags": []
   },
   "outputs": [
    {
     "name": "stdout",
     "output_type": "stream",
     "text": [
      "(Part 1: 0.003 s)\n"
     ]
    }
   ],
   "source": [
    "def day3a_part1(s):\n",
    "  count = 0\n",
    "  for line in s.splitlines():\n",
    "    values = map(int, line.split())\n",
    "    count += all(a + b > c for a, b, c in itertools.permutations(values))\n",
    "  return count\n",
    "\n",
    "\n",
    "puzzle.verify(1, day3a_part1)"
   ]
  },
  {
   "cell_type": "code",
   "execution_count": 23,
   "id": "8de2d1e1-ae69-492d-9474-8d25fb624e65",
   "metadata": {
    "execution": {
     "iopub.execute_input": "2023-04-07T04:35:00.604496Z",
     "iopub.status.busy": "2023-04-07T04:35:00.604294Z",
     "iopub.status.idle": "2023-04-07T04:35:00.620595Z",
     "shell.execute_reply": "2023-04-07T04:35:00.619939Z",
     "shell.execute_reply.started": "2023-04-07T04:35:00.604480Z"
    },
    "tags": []
   },
   "outputs": [
    {
     "name": "stdout",
     "output_type": "stream",
     "text": [
      "(Part 1: 0.002 s)\n",
      "(Part 2: 0.004 s)\n"
     ]
    }
   ],
   "source": [
    "def day3(s, *, part2=False):\n",
    "  grid = np.array([line.split() for line in s.splitlines()], int)\n",
    "  if part2:\n",
    "    grid = grid.reshape((-1, 3, 3)).transpose(0, 2, 1).reshape((-1, 3))\n",
    "  return sum(all(a + b > c for a, b, c in itertools.permutations(values)) for values in grid)\n",
    "\n",
    "\n",
    "puzzle.verify(1, day3a_part1)\n",
    "day3_part2 = functools.partial(day3, part2=True)\n",
    "puzzle.verify(2, day3_part2)"
   ]
  },
  {
   "cell_type": "markdown",
   "id": "4cb81469",
   "metadata": {},
   "source": [
    "<a name=\"day4\"></a>\n",
    "## Day 4: Decrypt names"
   ]
  },
  {
   "cell_type": "markdown",
   "id": "d126f12b",
   "metadata": {},
   "source": [
    "- Part 1: What is the sum of the sector IDs of the real rooms?\n",
    "\n",
    "- Part 2: What is the sector ID of the room where North Pole objects are stored?"
   ]
  },
  {
   "cell_type": "code",
   "execution_count": 24,
   "id": "75983c88",
   "metadata": {
    "execution": {
     "iopub.execute_input": "2023-04-07T04:35:00.621667Z",
     "iopub.status.busy": "2023-04-07T04:35:00.621374Z",
     "iopub.status.idle": "2023-04-07T04:35:00.639194Z",
     "shell.execute_reply": "2023-04-07T04:35:00.638656Z",
     "shell.execute_reply.started": "2023-04-07T04:35:00.621652Z"
    },
    "tags": []
   },
   "outputs": [
    {
     "data": {
      "text/markdown": [
       "For [day 4](https://adventofcode.com/2016/day/4), `puzzle.input` has 974 lines:"
      ],
      "text/plain": [
       "<IPython.core.display.Markdown object>"
      ]
     },
     "metadata": {},
     "output_type": "display_data"
    },
    {
     "name": "stdout",
     "output_type": "stream",
     "text": [
      "aczupnetwp-mfyyj-opalcexpye-977[peyac]\n",
      "qzchnzbshud-cxd-trdq-sdrshmf-105[jqexn]\n",
      "molgbzqfib-bdd-mrozexpfkd-289[bdfmo]\n",
      "enzcntvat-pnaql-qrfvta-351[antqv]\n",
      "otzkxtgzoutgr-jek-vaxingyotm-670[tgokx]\n",
      "fmsledevhsyw-gerhc-gsexmrk-qerekiqirx-126[ersgh]\n",
      "yknnkoera-zua-ykjpwejiajp-212[rfzym]\n",
      "dfcxsqhwzs-qobrm-gvwddwbu-532[dwbqs]\n",
      " ...\n",
      "udglrdfwlyh-gbh-ghyhorsphqw-465[hgdlr]\n",
      "krxqjijamxdb-kdwwh-vjatncrwp-823[kvmoi]\n",
      "tpspahyf-nyhkl-kfl-aljouvsvnf-981[flahk]\n",
      "bxaxipgn-vgpst-qphzti-rdcipxcbtci-635[ipctx]\n"
     ]
    },
    {
     "data": {
      "text/markdown": [
       "The stored answers are: `{1: '361724', 2: '482'}`"
      ],
      "text/plain": [
       "<IPython.core.display.Markdown object>"
      ]
     },
     "metadata": {},
     "output_type": "display_data"
    }
   ],
   "source": [
    "puzzle = advent.puzzle(day=4)"
   ]
  },
  {
   "cell_type": "code",
   "execution_count": 25,
   "id": "866753a7",
   "metadata": {
    "execution": {
     "iopub.execute_input": "2023-04-07T04:35:00.640246Z",
     "iopub.status.busy": "2023-04-07T04:35:00.639911Z",
     "iopub.status.idle": "2023-04-07T04:35:00.642715Z",
     "shell.execute_reply": "2023-04-07T04:35:00.642216Z",
     "shell.execute_reply.started": "2023-04-07T04:35:00.640233Z"
    },
    "lines_to_next_cell": 2
   },
   "outputs": [],
   "source": [
    "# spellcheck=off\n",
    "s1 = \"\"\"\\\n",
    "aaaaa-bbb-z-y-x-123[abxyz]\n",
    "a-b-c-d-e-f-g-h-987[abcde]\n",
    "not-a-real-room-404[oarel]\n",
    "totally-real-room-200[decoy]\n",
    "\"\"\"\n",
    "\n",
    "s2 = 'qzmt-zixmtkozy-ivhz'\n",
    "# spellcheck=on"
   ]
  },
  {
   "cell_type": "code",
   "execution_count": 26,
   "id": "94f5678e",
   "metadata": {
    "execution": {
     "iopub.execute_input": "2023-04-07T04:35:00.643515Z",
     "iopub.status.busy": "2023-04-07T04:35:00.643290Z",
     "iopub.status.idle": "2023-04-07T04:35:00.670606Z",
     "shell.execute_reply": "2023-04-07T04:35:00.669657Z",
     "shell.execute_reply.started": "2023-04-07T04:35:00.643504Z"
    },
    "tags": []
   },
   "outputs": [
    {
     "name": "stdout",
     "output_type": "stream",
     "text": [
      "(Part 1: 0.011 s)\n",
      "(Part 2: 0.005 s)\n"
     ]
    }
   ],
   "source": [
    "def day4(s, *, part2=False):\n",
    "  def decrypt_name(name: str, n: int) -> str:\n",
    "    return ''.join(\n",
    "        ' ' if ch == '-' else chr(ord('a') + (ord(ch) - ord('a') + n) % 26) for ch in name\n",
    "    )\n",
    "\n",
    "  check_eq(decrypt_name(s2, 343), 'very encrypted name')\n",
    "\n",
    "  sum_sectors = 0\n",
    "  for line in s.splitlines():\n",
    "    pattern = r'^([a-z-]+)-([0-9]+)\\[([a-z]+)\\]$'\n",
    "    name, sector, checksum = hh.re_groups(pattern, line)\n",
    "    counter = collections.Counter(sorted(ch for ch in name if ch.islower()))\n",
    "    expected = ''.join(dict(counter.most_common(len(checksum))).keys())\n",
    "    if expected == checksum:\n",
    "      sum_sectors += int(sector)\n",
    "      if part2 and decrypt_name(name, int(sector)) == 'northpole object storage':\n",
    "        return sector\n",
    "\n",
    "  assert not part2\n",
    "  return sum_sectors\n",
    "\n",
    "\n",
    "check_eq(day4(s1), 1514)\n",
    "puzzle.verify(1, day4)\n",
    "\n",
    "day4_part2 = functools.partial(day4, part2=True)\n",
    "puzzle.verify(2, day4_part2)"
   ]
  },
  {
   "cell_type": "markdown",
   "id": "8db81132",
   "metadata": {},
   "source": [
    "<a name=\"day5\"></a>\n",
    "## Day 5: MD5 hash search"
   ]
  },
  {
   "cell_type": "markdown",
   "id": "0bcf978a",
   "metadata": {},
   "source": [
    "- Part 1: Given the actual Door ID, what is the password?\n",
    "\n",
    "- Part 2: Given the actual Door ID and this new method, what is the password?"
   ]
  },
  {
   "cell_type": "code",
   "execution_count": 27,
   "id": "ed2a6882",
   "metadata": {
    "execution": {
     "iopub.execute_input": "2023-04-07T04:35:00.671877Z",
     "iopub.status.busy": "2023-04-07T04:35:00.671566Z",
     "iopub.status.idle": "2023-04-07T04:35:00.689182Z",
     "shell.execute_reply": "2023-04-07T04:35:00.688668Z",
     "shell.execute_reply.started": "2023-04-07T04:35:00.671846Z"
    },
    "tags": []
   },
   "outputs": [
    {
     "data": {
      "text/markdown": [
       "For [day 5](https://adventofcode.com/2016/day/5), `puzzle.input` has a single line of 8 characters:"
      ],
      "text/plain": [
       "<IPython.core.display.Markdown object>"
      ]
     },
     "metadata": {},
     "output_type": "display_data"
    },
    {
     "name": "stdout",
     "output_type": "stream",
     "text": [
      "uqwqemis\n"
     ]
    },
    {
     "data": {
      "text/markdown": [
       "The stored answers are: `{1: '1a3099aa', 2: '694190cd'}`"
      ],
      "text/plain": [
       "<IPython.core.display.Markdown object>"
      ]
     },
     "metadata": {},
     "output_type": "display_data"
    }
   ],
   "source": [
    "puzzle = advent.puzzle(day=5)"
   ]
  },
  {
   "cell_type": "code",
   "execution_count": 28,
   "id": "a8cc9516",
   "metadata": {
    "execution": {
     "iopub.execute_input": "2023-04-07T04:35:00.690198Z",
     "iopub.status.busy": "2023-04-07T04:35:00.689884Z",
     "iopub.status.idle": "2023-04-07T04:35:00.693911Z",
     "shell.execute_reply": "2023-04-07T04:35:00.693430Z",
     "shell.execute_reply.started": "2023-04-07T04:35:00.690185Z"
    },
    "tags": []
   },
   "outputs": [],
   "source": [
    "def day5a(s, *, part2=False):  # Compact but slow serial solution.\n",
    "  password = ['_'] * 8 if part2 else []\n",
    "  for index in itertools.count():\n",
    "    hashed = hashlib.md5((s + str(index)).encode()).hexdigest()\n",
    "    if hashed[:5] == '00000':\n",
    "      if part2:\n",
    "        position = int(hashed[5], 16)\n",
    "        if position < 8 and password[position] == '_':\n",
    "          password[position] = hashed[6]\n",
    "          if '_' not in password:\n",
    "            return ''.join(password)\n",
    "      else:\n",
    "        password.append(hashed[5])\n",
    "        if len(password) == 8:\n",
    "          return ''.join(password)\n",
    "\n",
    "\n",
    "# check_eq(day5a('abc'), '18f47a30')\n",
    "# puzzle.verify(1, day5a)  # ~5.3 s.\n",
    "\n",
    "day5a_part2 = functools.partial(day5a, part2=True)\n",
    "# check_eq(day5a_part2('abc'), '05ace8e3')\n",
    "# puzzle.verify(2, day5a_part2)  # ~16.5 s."
   ]
  },
  {
   "cell_type": "code",
   "execution_count": 29,
   "id": "4ebeb278-525d-4110-945a-ca26fde32b6c",
   "metadata": {
    "execution": {
     "iopub.execute_input": "2023-04-07T04:35:00.694797Z",
     "iopub.status.busy": "2023-04-07T04:35:00.694512Z",
     "iopub.status.idle": "2023-04-07T04:35:02.927082Z",
     "shell.execute_reply": "2023-04-07T04:35:02.926405Z",
     "shell.execute_reply.started": "2023-04-07T04:35:00.694784Z"
    },
    "tags": []
   },
   "outputs": [
    {
     "name": "stdout",
     "output_type": "stream",
     "text": [
      "(Part 1: 0.898 s)\n",
      "(Part 2: 1.321 s)\n"
     ]
    }
   ],
   "source": [
    "# Faster multiprocessing solution; also, small speedups using hasher.copy() and digest().\n",
    "\n",
    "\n",
    "# Multiprocessing requires that this function be pickled, so it must be in top module scope.\n",
    "def day5_find_zero_hashes(s, start, stop):\n",
    "  results = []\n",
    "  hasher = hashlib.md5(s.encode())\n",
    "  for index in range(start, stop):\n",
    "    hasher2 = hasher.copy()\n",
    "    hasher2.update(str(index).encode())\n",
    "    digest = hasher2.digest()\n",
    "    if digest[:2] == b'\\0\\0' and digest.hex()[4] == '0':\n",
    "      results.append(index)\n",
    "  return results\n",
    "\n",
    "\n",
    "def day5(s, *, part2=False):\n",
    "  password = ['_'] * 8 if part2 else []\n",
    "  group_size = 2_000_000 if part2 else 500_000\n",
    "\n",
    "  with multiprocessing.Pool() as pool:\n",
    "    for base in itertools.count(0, group_size):\n",
    "      chunk_size = group_size // multiprocessing.cpu_count() + 1\n",
    "      args = []\n",
    "      start, group_stop = base, base + group_size\n",
    "      while start < group_stop:\n",
    "        stop = min(start + chunk_size, group_stop)\n",
    "        args.append((s, start, stop))\n",
    "        start = stop\n",
    "      results = pool.starmap(day5_find_zero_hashes, args)\n",
    "      for index in more_itertools.flatten(results):\n",
    "        hashed = hashlib.md5((s + str(index)).encode()).hexdigest()\n",
    "        check_eq(hashed[:5], '00000')\n",
    "        if part2:\n",
    "          position = int(hashed[5], 16)\n",
    "          if position < 8 and password[position] == '_':\n",
    "            password[position] = hashed[6]\n",
    "            if '_' not in password:\n",
    "              return ''.join(password)\n",
    "        else:\n",
    "          password.append(hashed[5])\n",
    "          if len(password) == 8:\n",
    "            return ''.join(password)\n",
    "\n",
    "\n",
    "# check_eq(day5('abc'), '18f47a30')\n",
    "puzzle.verify(1, day5)  # ~0.5 s.\n",
    "\n",
    "day5_part2 = functools.partial(day5, part2=True)\n",
    "# check_eq(day5_part2('abc'), '05ace8e3')\n",
    "puzzle.verify(2, day5_part2)  # ~1.25 s."
   ]
  },
  {
   "cell_type": "markdown",
   "id": "16fff652",
   "metadata": {},
   "source": [
    "<a name=\"day6\"></a>\n",
    "## Day 6: Most/least common letters"
   ]
  },
  {
   "cell_type": "markdown",
   "id": "d358d7eb",
   "metadata": {},
   "source": [
    "- Part 1: Given the recording in your puzzle input, what is the error-corrected version of the message being sent?\n",
    "\n",
    "- Part 2: Given the recording in your puzzle input and this new decoding methodology, what is the original message that Santa is trying to send?"
   ]
  },
  {
   "cell_type": "code",
   "execution_count": 30,
   "id": "4b024189",
   "metadata": {
    "execution": {
     "iopub.execute_input": "2023-04-07T04:35:02.928189Z",
     "iopub.status.busy": "2023-04-07T04:35:02.927921Z",
     "iopub.status.idle": "2023-04-07T04:35:02.938368Z",
     "shell.execute_reply": "2023-04-07T04:35:02.937866Z",
     "shell.execute_reply.started": "2023-04-07T04:35:02.928173Z"
    },
    "tags": []
   },
   "outputs": [
    {
     "data": {
      "text/markdown": [
       "For [day 6](https://adventofcode.com/2016/day/6), `puzzle.input` has 546 lines:"
      ],
      "text/plain": [
       "<IPython.core.display.Markdown object>"
      ]
     },
     "metadata": {},
     "output_type": "display_data"
    },
    {
     "name": "stdout",
     "output_type": "stream",
     "text": [
      "nokeeods\n",
      "zpmwxpca\n",
      "jwyhcgzu\n",
      "stsjmxlq\n",
      "tehbxqaz\n",
      "aibnhjna\n",
      "hglamqmh\n",
      "rdtbnzgs\n",
      " ...\n",
      "otyjtnxx\n",
      "nqdosdmm\n",
      "wungcwuz\n",
      "wiklkshf\n"
     ]
    },
    {
     "data": {
      "text/markdown": [
       "The stored answers are: `{1: 'liwvqppc', 2: 'caqfbzlh'}`"
      ],
      "text/plain": [
       "<IPython.core.display.Markdown object>"
      ]
     },
     "metadata": {},
     "output_type": "display_data"
    }
   ],
   "source": [
    "puzzle = advent.puzzle(day=6)"
   ]
  },
  {
   "cell_type": "code",
   "execution_count": 31,
   "id": "9c1c85c0",
   "metadata": {
    "execution": {
     "iopub.execute_input": "2023-04-07T04:35:02.939627Z",
     "iopub.status.busy": "2023-04-07T04:35:02.939179Z",
     "iopub.status.idle": "2023-04-07T04:35:02.941994Z",
     "shell.execute_reply": "2023-04-07T04:35:02.941479Z",
     "shell.execute_reply.started": "2023-04-07T04:35:02.939612Z"
    },
    "lines_to_next_cell": 2,
    "tags": []
   },
   "outputs": [],
   "source": [
    "# spellcheck=off\n",
    "s1 = \"\"\"\\\n",
    "eedadn\n",
    "drvtee\n",
    "eandsr\n",
    "raavrd\n",
    "atevrs\n",
    "tsrnev\n",
    "sdttsa\n",
    "rasrtv\n",
    "nssdts\n",
    "ntnada\n",
    "svetve\n",
    "tesnvt\n",
    "vntsnd\n",
    "vrdear\n",
    "dvrsen\n",
    "enarar\n",
    "\"\"\"\n",
    "# spellcheck=on"
   ]
  },
  {
   "cell_type": "code",
   "execution_count": 32,
   "id": "310501d2-572c-4323-9a6a-e64dc869d0a1",
   "metadata": {
    "execution": {
     "iopub.execute_input": "2023-04-07T04:35:02.942924Z",
     "iopub.status.busy": "2023-04-07T04:35:02.942643Z",
     "iopub.status.idle": "2023-04-07T04:35:02.954071Z",
     "shell.execute_reply": "2023-04-07T04:35:02.953177Z",
     "shell.execute_reply.started": "2023-04-07T04:35:02.942912Z"
    },
    "tags": []
   },
   "outputs": [
    {
     "name": "stdout",
     "output_type": "stream",
     "text": [
      "(Part 1: 0.000 s)\n",
      "(Part 2: 0.000 s)\n"
     ]
    }
   ],
   "source": [
    "def day6(s, *, part2=False):\n",
    "  lines = s.splitlines()\n",
    "  counters = [collections.Counter(line[i] for line in lines) for i in range(len(lines[0]))]\n",
    "  return ''.join(counter.most_common()[-1 if part2 else 0][0] for counter in counters)\n",
    "\n",
    "\n",
    "check_eq(day6(s1), 'easter')\n",
    "puzzle.verify(1, day6)\n",
    "\n",
    "day6_part2 = functools.partial(day6, part2=True)\n",
    "check_eq(day6_part2(s1), 'advent')\n",
    "puzzle.verify(2, day6_part2)"
   ]
  },
  {
   "cell_type": "markdown",
   "id": "d4ff5a2f",
   "metadata": {},
   "source": [
    "<a name=\"day7\"></a>\n",
    "## Day 7: Finding substrings"
   ]
  },
  {
   "cell_type": "markdown",
   "id": "51ecfa1d",
   "metadata": {},
   "source": [
    "- Part 1: How many IPs in your puzzle input support TLS?\n",
    "\n",
    "- Part 2: How many IPs in your puzzle input support SSL?"
   ]
  },
  {
   "cell_type": "code",
   "execution_count": 33,
   "id": "b00ab10e",
   "metadata": {
    "execution": {
     "iopub.execute_input": "2023-04-07T04:35:02.955415Z",
     "iopub.status.busy": "2023-04-07T04:35:02.955199Z",
     "iopub.status.idle": "2023-04-07T04:35:02.977500Z",
     "shell.execute_reply": "2023-04-07T04:35:02.976764Z",
     "shell.execute_reply.started": "2023-04-07T04:35:02.955402Z"
    },
    "tags": []
   },
   "outputs": [
    {
     "data": {
      "text/markdown": [
       "For [day 7](https://adventofcode.com/2016/day/7), `puzzle.input` has 2_000 lines:"
      ],
      "text/plain": [
       "<IPython.core.display.Markdown object>"
      ]
     },
     "metadata": {},
     "output_type": "display_data"
    },
    {
     "name": "stdout",
     "output_type": "stream",
     "text": [
      "rhamaeovmbheijj[hkwbkqzlcscwjkyjulk]ajsxfuemamuqcjccbc\n",
      "gdlrknrmexvaypu[crqappbbcaplkkzb]vhvkjyadjsryysvj[nbvypeadikilcwg]jwxlimrgakadpxu[dgoanojvdvwfabtt]yqsalmulblolkgsheo\n",
      "dqpthtgufgzjojuvzvm[eejdhpcqyiydwod]iingwezvcbtowwzc[uzlxaqenhgsebqskn]wcucfmnla ... wcsxeitcobaylhbvc]klxammurpqgmpsxsr\n",
      "gmmfbtpprishiujnpdi[wedykxqyntvrkfdzom]uidgvubnregvorgnhm\n",
      "txxplravpgztjqcw[txgmmtlhmqpmmwp]bmhfgpmafxqwtrpr[inntmjmgqothdzfqgxq]cvtwvembpvdmcvk\n",
      "gkxjhpayoyrrpcr[mwyoahlkqyhtznyzrm]mvmurvsrgjunjjepn[mkoumuohilpcfgbmsmh]hpwggyv ... uzbewpjzlyqmkhw]nniczueulxtdsmkniex\n",
      "vuzyoofrvaanszwndyt[mzcbhmabgnetrpje]tqnygwhmwrbyosbke[gehqzyhlnyufknqmueo]ngendggbjcvazwol\n",
      "vdnploylmxnipfudw[pbkxlaozhqhlbzz]kpxnzwjhybgcenyw[fpukiqrjraomftt]rosyxtsdltbsm ... wrucjfwuyypmiic]ydnbgvicfnmwzuatudd\n",
      " ...\n",
      "sgjjqocmmcccpem[odeofpebaahroicm]pluzqzwkdzcovxic[zmyulzpuuiabvykn]ylxzlyooxnlibiy\n",
      "btrucplpxrokmcts[gytdxlzkfakenliallw]qhxznozsjsvhvnzhf\n",
      "nefefqadkmytguyp[ucqagcoyxinbrvbw]neksoxgtnnfojobtx[bxhdwvwfhybtbzkijj]poayieifs ... tnggfefcucifowqp]olmjwaqlaiwkkbtruw\n",
      "tivudfusgnewzshs[mausfjbgxmyibin]yponuityptavbhekrlg[qeyafuevtlqemtfa]owtdxadrww ... obfcyxbifipwhduubu]mjocivgvrcbrllso\n"
     ]
    },
    {
     "data": {
      "text/markdown": [
       "The stored answers are: `{1: '110', 2: '242'}`"
      ],
      "text/plain": [
       "<IPython.core.display.Markdown object>"
      ]
     },
     "metadata": {},
     "output_type": "display_data"
    }
   ],
   "source": [
    "puzzle = advent.puzzle(day=7)"
   ]
  },
  {
   "cell_type": "code",
   "execution_count": 34,
   "id": "ecbfdd05-3e1e-496e-93f2-e862f0bc7828",
   "metadata": {
    "execution": {
     "iopub.execute_input": "2023-04-07T04:35:02.979034Z",
     "iopub.status.busy": "2023-04-07T04:35:02.978444Z",
     "iopub.status.idle": "2023-04-07T04:35:03.000376Z",
     "shell.execute_reply": "2023-04-07T04:35:02.999771Z",
     "shell.execute_reply.started": "2023-04-07T04:35:02.979014Z"
    },
    "tags": []
   },
   "outputs": [
    {
     "name": "stdout",
     "output_type": "stream",
     "text": [
      "(Part 1: 0.016 s)\n"
     ]
    }
   ],
   "source": [
    "def day7_part1(s):\n",
    "  def is_valid(s2: str) -> bool:\n",
    "    found_valid = False\n",
    "    in_bracket = False\n",
    "    for i, ch in enumerate(s2[:-3]):\n",
    "      if ch == '[':\n",
    "        assert not in_bracket\n",
    "        in_bracket = True\n",
    "      elif ch == ']':\n",
    "        assert in_bracket\n",
    "        in_bracket = False\n",
    "      else:\n",
    "        s4 = s2[i : i + 4]\n",
    "        if ch == s4[3] and s4[1] == s4[2] and ch != s4[1] and s4[1] not in '[]':\n",
    "          if in_bracket:\n",
    "            return False\n",
    "          found_valid = True\n",
    "    return found_valid\n",
    "\n",
    "  check_eq(is_valid('abba[mnop]qrst'), True)\n",
    "  check_eq(is_valid('abcd[bddb]xyyx'), False)\n",
    "  check_eq(is_valid('aaaa[qwer]tyui'), False)\n",
    "  check_eq(is_valid('ioxxoj[asdfgh]zxcvbn'), True)\n",
    "\n",
    "  return sum(is_valid(line) for line in s.splitlines())\n",
    "\n",
    "\n",
    "puzzle.verify(1, day7_part1)"
   ]
  },
  {
   "cell_type": "code",
   "execution_count": 35,
   "id": "d7eaff8e-0e74-4565-a3d4-643fdf60b527",
   "metadata": {
    "execution": {
     "iopub.execute_input": "2023-04-07T04:35:03.001483Z",
     "iopub.status.busy": "2023-04-07T04:35:03.001147Z",
     "iopub.status.idle": "2023-04-07T04:35:03.038147Z",
     "shell.execute_reply": "2023-04-07T04:35:03.037508Z",
     "shell.execute_reply.started": "2023-04-07T04:35:03.001468Z"
    },
    "tags": []
   },
   "outputs": [
    {
     "name": "stdout",
     "output_type": "stream",
     "text": [
      "(Part 2: 0.027 s)\n"
     ]
    }
   ],
   "source": [
    "def day7_part2(s):\n",
    "  def is_valid(s2: str) -> bool:\n",
    "    found_inside = set()  # Contains 'aba' iff 'bab' is inside any brackets.\n",
    "    in_bracket = False\n",
    "    for i, ch in enumerate(s2[:-2]):\n",
    "      if ch == '[':\n",
    "        in_bracket = True\n",
    "      elif ch == ']':\n",
    "        in_bracket = False\n",
    "      elif in_bracket:\n",
    "        s3 = s2[i : i + 3]\n",
    "        if ch == s3[2] and ch != s3[1] and s3[1] not in '[]':\n",
    "          found_inside.add(s3[1] + s3[0] + s3[1])\n",
    "\n",
    "    in_bracket = False\n",
    "    for i, ch in enumerate(s2[:-2]):\n",
    "      if ch == '[':\n",
    "        in_bracket = True\n",
    "      elif ch == ']':\n",
    "        in_bracket = False\n",
    "      else:\n",
    "        s3 = s2[i : i + 3]\n",
    "        if not in_bracket and s3[0] == s3[2] and s3 in found_inside:\n",
    "          return True\n",
    "\n",
    "    return False\n",
    "\n",
    "  check_eq(is_valid('aba[bab]xyz'), True)\n",
    "  check_eq(is_valid('xyx[xyx]xyx'), False)\n",
    "  check_eq(is_valid('aaa[kek]eke'), True)\n",
    "  check_eq(is_valid('zazbz[bzb]cdb'), True)\n",
    "\n",
    "  return sum(is_valid(line) for line in s.splitlines())\n",
    "\n",
    "\n",
    "puzzle.verify(2, day7_part2)"
   ]
  },
  {
   "cell_type": "markdown",
   "id": "3c346d9b",
   "metadata": {},
   "source": [
    "<a name=\"day8\"></a>\n",
    "## Day 8: Row and column rolls"
   ]
  },
  {
   "cell_type": "markdown",
   "id": "a79e9e35",
   "metadata": {},
   "source": [
    "- Part 1: How many pixels should be lit?\n",
    "\n",
    "- Part 2: What code is the screen trying to display?"
   ]
  },
  {
   "cell_type": "code",
   "execution_count": 36,
   "id": "598974f5",
   "metadata": {
    "execution": {
     "iopub.execute_input": "2023-04-07T04:35:03.039267Z",
     "iopub.status.busy": "2023-04-07T04:35:03.038943Z",
     "iopub.status.idle": "2023-04-07T04:35:03.056550Z",
     "shell.execute_reply": "2023-04-07T04:35:03.055406Z",
     "shell.execute_reply.started": "2023-04-07T04:35:03.039253Z"
    },
    "tags": []
   },
   "outputs": [
    {
     "data": {
      "text/markdown": [
       "For [day 8](https://adventofcode.com/2016/day/8), `puzzle.input` has 174 lines:"
      ],
      "text/plain": [
       "<IPython.core.display.Markdown object>"
      ]
     },
     "metadata": {},
     "output_type": "display_data"
    },
    {
     "name": "stdout",
     "output_type": "stream",
     "text": [
      "rect 1x1\n",
      "rotate row y=0 by 10\n",
      "rect 1x1\n",
      "rotate row y=0 by 10\n",
      "rect 1x1\n",
      "rotate row y=0 by 5\n",
      "rect 1x1\n",
      "rotate row y=0 by 3\n",
      " ...\n",
      "rotate column x=7 by 5\n",
      "rotate column x=6 by 5\n",
      "rotate column x=3 by 1\n",
      "rotate column x=2 by 3\n"
     ]
    },
    {
     "data": {
      "text/markdown": [
       "The stored answers are: `{1: '121', 2: 'RURUCEOEIL'}`"
      ],
      "text/plain": [
       "<IPython.core.display.Markdown object>"
      ]
     },
     "metadata": {},
     "output_type": "display_data"
    }
   ],
   "source": [
    "puzzle = advent.puzzle(day=8)"
   ]
  },
  {
   "cell_type": "code",
   "execution_count": 37,
   "id": "d0df249c",
   "metadata": {
    "execution": {
     "iopub.execute_input": "2023-04-07T04:35:03.058218Z",
     "iopub.status.busy": "2023-04-07T04:35:03.057860Z",
     "iopub.status.idle": "2023-04-07T04:35:03.062023Z",
     "shell.execute_reply": "2023-04-07T04:35:03.061298Z",
     "shell.execute_reply.started": "2023-04-07T04:35:03.058197Z"
    },
    "tags": []
   },
   "outputs": [],
   "source": [
    "s1 = \"\"\"\\\n",
    "rect 3x2\n",
    "rotate column x=1 by 1\n",
    "rotate row y=0 by 4\n",
    "rotate column x=1 by 1\n",
    "\"\"\""
   ]
  },
  {
   "cell_type": "code",
   "execution_count": 38,
   "id": "5b5a6739",
   "metadata": {
    "execution": {
     "iopub.execute_input": "2023-04-07T04:35:03.063118Z",
     "iopub.status.busy": "2023-04-07T04:35:03.062908Z",
     "iopub.status.idle": "2023-04-07T04:35:03.077930Z",
     "shell.execute_reply": "2023-04-07T04:35:03.077332Z",
     "shell.execute_reply.started": "2023-04-07T04:35:03.063102Z"
    },
    "tags": []
   },
   "outputs": [
    {
     "name": "stdout",
     "output_type": "stream",
     "text": [
      "(Part 1: 0.001 s)\n"
     ]
    },
    {
     "data": {
      "text/html": [
       "⬛⬛⬛⬜⬜⬛⬜⬜⬛⬜⬛⬛⬛⬜⬜⬛⬜⬜⬛⬜⬜⬛⬛⬜⬜⬛⬛⬛⬛⬜⬜⬛⬛⬜⬜⬛⬛⬛⬛⬜⬜⬛⬛⬛⬜⬛⬜⬜⬜⬜<br/>⬛⬜⬜⬛⬜⬛⬜⬜⬛⬜⬛⬜⬜⬛⬜⬛⬜⬜⬛⬜⬛⬜⬜⬛⬜⬛⬜⬜⬜⬜⬛⬜⬜⬛⬜⬛⬜⬜⬜⬜⬜⬜⬛⬜⬜⬛⬜⬜⬜⬜<br/>⬛⬜⬜⬛⬜⬛⬜⬜⬛⬜⬛⬜⬜⬛⬜⬛⬜⬜⬛⬜⬛⬜⬜⬜⬜⬛⬛⬛⬜⬜⬛⬜⬜⬛⬜⬛⬛⬛⬜⬜⬜⬜⬛⬜⬜⬛⬜⬜⬜⬜<br/>⬛⬛⬛⬜⬜⬛⬜⬜⬛⬜⬛⬛⬛⬜⬜⬛⬜⬜⬛⬜⬛⬜⬜⬜⬜⬛⬜⬜⬜⬜⬛⬜⬜⬛⬜⬛⬜⬜⬜⬜⬜⬜⬛⬜⬜⬛⬜⬜⬜⬜<br/>⬛⬜⬛⬜⬜⬛⬜⬜⬛⬜⬛⬜⬛⬜⬜⬛⬜⬜⬛⬜⬛⬜⬜⬛⬜⬛⬜⬜⬜⬜⬛⬜⬜⬛⬜⬛⬜⬜⬜⬜⬜⬜⬛⬜⬜⬛⬜⬜⬜⬜<br/>⬛⬜⬜⬛⬜⬜⬛⬛⬜⬜⬛⬜⬜⬛⬜⬜⬛⬛⬜⬜⬜⬛⬛⬜⬜⬛⬛⬛⬛⬜⬜⬛⬛⬜⬜⬛⬛⬛⬛⬜⬜⬛⬛⬛⬜⬛⬛⬛⬛⬜"
      ],
      "text/plain": [
       "<IPython.core.display.HTML object>"
      ]
     },
     "metadata": {},
     "output_type": "display_data"
    },
    {
     "name": "stdout",
     "output_type": "stream",
     "text": [
      "(Part 2: 0.003 s)\n"
     ]
    }
   ],
   "source": [
    "def day8(s, *, part2=False, shape=(6, 50)):\n",
    "  grid = np.full(shape, '.')\n",
    "  for line in s.splitlines():\n",
    "    if 'rect' in line:\n",
    "      width, height = map(int, line.split()[1].split('x'))\n",
    "      grid[:height, :width] = '#'\n",
    "    else:\n",
    "      s1, s2 = line.split('=')\n",
    "      index, rotation = map(int, s2.split(' by '))\n",
    "      if 'row' in s1:\n",
    "        grid[index] = np.roll(grid[index], rotation)\n",
    "      else:  # 'column' in s1.\n",
    "        grid[:, index] = np.roll(grid[:, index], rotation)\n",
    "\n",
    "  if part2:\n",
    "    s3 = '\\n'.join(''.join(ch for ch in line) for line in grid)\n",
    "    hh.display_html(s3.replace('.', '⬜').replace('#', '⬛').replace('\\n', '<br/>'))\n",
    "    return advent_of_code_ocr.convert_6(s3)\n",
    "  return np.count_nonzero(grid == '#')\n",
    "\n",
    "\n",
    "check_eq(day8(s1, shape=(3, 7)), 6)\n",
    "puzzle.verify(1, day8)\n",
    "\n",
    "day8_part2 = functools.partial(day8, part2=True)\n",
    "puzzle.verify(2, day8_part2)"
   ]
  },
  {
   "cell_type": "markdown",
   "id": "6f7b2a1f",
   "metadata": {},
   "source": [
    "<a name=\"day9\"></a>\n",
    "## Day 9: Recursive string expansion"
   ]
  },
  {
   "cell_type": "markdown",
   "id": "40857fea",
   "metadata": {},
   "source": [
    "- Part 1: What is the decompressed length of the file (your puzzle input)? Don't count whitespace.\n",
    "\n",
    "- Part 2: What is the decompressed length of the file using this improved format?"
   ]
  },
  {
   "cell_type": "code",
   "execution_count": 39,
   "id": "a4436272",
   "metadata": {
    "execution": {
     "iopub.execute_input": "2023-04-07T04:35:03.079059Z",
     "iopub.status.busy": "2023-04-07T04:35:03.078641Z",
     "iopub.status.idle": "2023-04-07T04:35:03.092579Z",
     "shell.execute_reply": "2023-04-07T04:35:03.092047Z",
     "shell.execute_reply.started": "2023-04-07T04:35:03.079044Z"
    },
    "tags": []
   },
   "outputs": [
    {
     "data": {
      "text/markdown": [
       "For [day 9](https://adventofcode.com/2016/day/9), `puzzle.input` has a single line of 12_156 characters:"
      ],
      "text/plain": [
       "<IPython.core.display.Markdown object>"
      ]
     },
     "metadata": {},
     "output_type": "display_data"
    },
    {
     "name": "stdout",
     "output_type": "stream",
     "text": [
      "(22x11)(3x5)ICQ(9x5)IYUPTHPKX(127x2)(41x6)(16x9)SIUZCKMFZFXKUYTQ(13x3)YBCVHJPPFA ... )BRUWUPCJY(12x5)XTXXAJCPTWYL(1x14)I\n"
     ]
    },
    {
     "data": {
      "text/markdown": [
       "The stored answers are: `{1: '115118', 2: '11107527530'}`"
      ],
      "text/plain": [
       "<IPython.core.display.Markdown object>"
      ]
     },
     "metadata": {},
     "output_type": "display_data"
    }
   ],
   "source": [
    "puzzle = advent.puzzle(day=9)"
   ]
  },
  {
   "cell_type": "code",
   "execution_count": 40,
   "id": "db362dc9-7770-40e8-af46-11d8e5cd4408",
   "metadata": {
    "execution": {
     "iopub.execute_input": "2023-04-07T04:35:03.093751Z",
     "iopub.status.busy": "2023-04-07T04:35:03.093465Z",
     "iopub.status.idle": "2023-04-07T04:35:03.102077Z",
     "shell.execute_reply": "2023-04-07T04:35:03.101479Z",
     "shell.execute_reply.started": "2023-04-07T04:35:03.093737Z"
    },
    "tags": []
   },
   "outputs": [
    {
     "name": "stdout",
     "output_type": "stream",
     "text": [
      "(Part 1: 0.000 s)\n",
      "(Part 2: 0.001 s)\n"
     ]
    }
   ],
   "source": [
    "def day9(s, *, part2=False):\n",
    "  size = 0\n",
    "  index = 0\n",
    "  while index < len(s):\n",
    "    if s[index].isupper():\n",
    "      size += 1\n",
    "      index += 1\n",
    "    else:\n",
    "      check_eq(s[index], '(')\n",
    "      index2 = s.index(')', index)\n",
    "      nchar, ntimes = map(int, s[index + 1 : index2].split('x'))\n",
    "      size += (day9(s[index2 + 1 : index2 + 1 + nchar], part2=part2) if part2 else nchar) * ntimes\n",
    "      index = index2 + 1 + nchar\n",
    "\n",
    "  check_eq(index, len(s))\n",
    "  return size\n",
    "\n",
    "\n",
    "check_eq(day9('ADVENT'), 6)\n",
    "check_eq(day9('A(1x5)BC'), 7)\n",
    "check_eq(day9('(3x3)XYZ'), 9)\n",
    "check_eq(day9('A(2x2)BCD(2x2)EFG'), 11)\n",
    "check_eq(day9('(6x1)(1x3)A'), 6)\n",
    "check_eq(day9('X(8x2)(3x3)ABCY'), 18)\n",
    "puzzle.verify(1, day9)\n",
    "\n",
    "day9_part2 = functools.partial(day9, part2=True)\n",
    "check_eq(day9_part2('ADVENT'), 6)\n",
    "check_eq(day9_part2('A(1x5)BC'), 7)\n",
    "check_eq(day9_part2('(3x3)XYZ'), 9)\n",
    "check_eq(day9_part2('A(2x2)BCD(2x2)EFG'), 11)\n",
    "check_eq(day9_part2('X(8x2)(3x3)ABCY'), 20)\n",
    "check_eq(day9_part2('(27x12)(20x12)(13x14)(7x10)(1x12)A'), 241_920)\n",
    "check_eq(day9_part2('(25x3)(3x3)ABC(2x3)XY(5x2)PQRSTX(18x9)(3x2)TWO(5x7)SEVEN'), 445)\n",
    "puzzle.verify(2, day9_part2)  # E.g., 10_780_403_063"
   ]
  },
  {
   "cell_type": "markdown",
   "id": "2d7121ca",
   "metadata": {},
   "source": [
    "<a name=\"day10\"></a>\n",
    "## Day 10: Bots distributing numbers"
   ]
  },
  {
   "cell_type": "markdown",
   "id": "2f50488d",
   "metadata": {},
   "source": [
    "- Part 1: What is the number of the bot that is responsible for comparing value-61 microchips with value-17 microchips?\n",
    "\n",
    "- Part 2: What do you get if you multiply together the values of one chip in each of outputs 0, 1, and 2?"
   ]
  },
  {
   "cell_type": "code",
   "execution_count": 41,
   "id": "a1c0cf14",
   "metadata": {
    "execution": {
     "iopub.execute_input": "2023-04-07T04:35:03.103120Z",
     "iopub.status.busy": "2023-04-07T04:35:03.102887Z",
     "iopub.status.idle": "2023-04-07T04:35:03.119323Z",
     "shell.execute_reply": "2023-04-07T04:35:03.118727Z",
     "shell.execute_reply.started": "2023-04-07T04:35:03.103104Z"
    }
   },
   "outputs": [
    {
     "data": {
      "text/markdown": [
       "For [day 10](https://adventofcode.com/2016/day/10), `puzzle.input` has 231 lines:"
      ],
      "text/plain": [
       "<IPython.core.display.Markdown object>"
      ]
     },
     "metadata": {},
     "output_type": "display_data"
    },
    {
     "name": "stdout",
     "output_type": "stream",
     "text": [
      "bot 76 gives low to bot 191 and high to bot 21\n",
      "bot 193 gives low to bot 118 and high to bot 145\n",
      "bot 173 gives low to bot 91 and high to bot 36\n",
      "value 23 goes to bot 68\n",
      "bot 129 gives low to bot 124 and high to bot 155\n",
      "bot 58 gives low to output 2 and high to bot 51\n",
      "bot 97 gives low to bot 205 and high to bot 156\n",
      "bot 95 gives low to bot 21 and high to bot 204\n",
      " ...\n",
      "bot 83 gives low to bot 155 and high to bot 44\n",
      "bot 123 gives low to bot 33 and high to bot 195\n",
      "bot 183 gives low to bot 83 and high to bot 90\n",
      "bot 71 gives low to bot 152 and high to bot 121\n"
     ]
    },
    {
     "data": {
      "text/markdown": [
       "The stored answers are: `{1: '118', 2: '143153'}`"
      ],
      "text/plain": [
       "<IPython.core.display.Markdown object>"
      ]
     },
     "metadata": {},
     "output_type": "display_data"
    }
   ],
   "source": [
    "puzzle = advent.puzzle(day=10)"
   ]
  },
  {
   "cell_type": "code",
   "execution_count": 42,
   "id": "98ac2be3-88db-4218-91b1-11c577b0b1e7",
   "metadata": {
    "execution": {
     "iopub.execute_input": "2023-04-07T04:35:03.120427Z",
     "iopub.status.busy": "2023-04-07T04:35:03.120096Z",
     "iopub.status.idle": "2023-04-07T04:35:03.123496Z",
     "shell.execute_reply": "2023-04-07T04:35:03.122870Z",
     "shell.execute_reply.started": "2023-04-07T04:35:03.120410Z"
    },
    "tags": []
   },
   "outputs": [],
   "source": [
    "if 0:\n",
    "  print(re.findall(r'(?m)^value 17.*$', puzzle.input))\n",
    "  print(re.findall(r'(?m)^value 61.*$', puzzle.input))"
   ]
  },
  {
   "cell_type": "code",
   "execution_count": 43,
   "id": "5865e543",
   "metadata": {
    "execution": {
     "iopub.execute_input": "2023-04-07T04:35:03.124714Z",
     "iopub.status.busy": "2023-04-07T04:35:03.124201Z",
     "iopub.status.idle": "2023-04-07T04:35:03.132712Z",
     "shell.execute_reply": "2023-04-07T04:35:03.132146Z",
     "shell.execute_reply.started": "2023-04-07T04:35:03.124698Z"
    },
    "tags": []
   },
   "outputs": [],
   "source": [
    "s1 = \"\"\"\\\n",
    "value 5 goes to bot 2\n",
    "bot 2 gives low to bot 1 and high to bot 0\n",
    "value 3 goes to bot 1\n",
    "bot 1 gives low to output 1 and high to bot 0\n",
    "bot 0 gives low to output 2 and high to output 0\n",
    "value 2 goes to bot 2\n",
    "\"\"\""
   ]
  },
  {
   "cell_type": "code",
   "execution_count": 44,
   "id": "d11a0cd3",
   "metadata": {
    "execution": {
     "iopub.execute_input": "2023-04-07T04:35:03.133721Z",
     "iopub.status.busy": "2023-04-07T04:35:03.133436Z",
     "iopub.status.idle": "2023-04-07T04:35:03.144889Z",
     "shell.execute_reply": "2023-04-07T04:35:03.144226Z",
     "shell.execute_reply.started": "2023-04-07T04:35:03.133705Z"
    },
    "tags": []
   },
   "outputs": [
    {
     "name": "stdout",
     "output_type": "stream",
     "text": [
      "(Part 1: 0.001 s)\n",
      "(Part 2: 0.000 s)\n"
     ]
    }
   ],
   "source": [
    "def day10(s, *, part2=False, values=(17, 61)):\n",
    "  low_high_for_bot: dict[str, tuple[str, str]] = {}\n",
    "  values_for_node: collections.defaultdict[str, set[int]] = collections.defaultdict(set)\n",
    "  queue: collections.deque[tuple[str, int]] = collections.deque()\n",
    "  for line in s.splitlines():\n",
    "    if 'goes' in line:\n",
    "      s_value, bot = line[6:].split(' goes to ')\n",
    "      value = int(s_value)\n",
    "      queue.append((bot, value))\n",
    "    else:\n",
    "      pattern = r'^(bot \\d+) gives low to (.+) and high to (.+)$'\n",
    "      src, dst_low, dst_high = hh.re_groups(pattern, line)\n",
    "      low_high_for_bot[src] = dst_low, dst_high\n",
    "\n",
    "  while queue:\n",
    "    bot, value = queue.popleft()\n",
    "    set_ = values_for_node[bot]\n",
    "    assert value not in set_ and len(set_) <= 1\n",
    "    set_.add(value)\n",
    "    if len(set_) == 2:\n",
    "      dst_low, dst_high = low_high_for_bot[bot]\n",
    "      queue.append((dst_low, min(set_)))\n",
    "      queue.append((dst_high, max(set_)))\n",
    "\n",
    "  if not part2:\n",
    "    (bot,) = (bot for bot, value in values_for_node.items() if value == set(values))\n",
    "    return bot[4:]\n",
    "\n",
    "  return math.prod(values_for_node[f'output {i}'].pop() for i in range(3))\n",
    "\n",
    "\n",
    "check_eq(day10(s1, values=(2, 5)), '2')\n",
    "puzzle.verify(1, day10)\n",
    "\n",
    "day10_part2 = functools.partial(day10, part2=True)\n",
    "puzzle.verify(2, day10_part2)"
   ]
  },
  {
   "cell_type": "markdown",
   "id": "e15eb12c",
   "metadata": {},
   "source": [
    "<a name=\"day11\"></a>\n",
    "## Day 11: Elevator to move parts"
   ]
  },
  {
   "cell_type": "markdown",
   "id": "2faaf736",
   "metadata": {},
   "source": [
    "- Part 1: \"if a chip is ever left in the same area as another RTG, and it's not connected to its own RTG, the chip will be fried\"; \"the elevator will only function if it contains at least one RTG or microchip\"; what is the minimum number of steps required to bring all of the objects to the fourth floor?\n",
    "\n",
    "- Part 2: What is the minimum number of steps required to bring all of the objects, including these four new ones, to the fourth floor?"
   ]
  },
  {
   "cell_type": "code",
   "execution_count": 45,
   "id": "683563c8",
   "metadata": {
    "execution": {
     "iopub.execute_input": "2023-04-07T04:35:03.146072Z",
     "iopub.status.busy": "2023-04-07T04:35:03.145596Z",
     "iopub.status.idle": "2023-04-07T04:35:03.165072Z",
     "shell.execute_reply": "2023-04-07T04:35:03.164527Z",
     "shell.execute_reply.started": "2023-04-07T04:35:03.146048Z"
    },
    "tags": []
   },
   "outputs": [
    {
     "data": {
      "text/markdown": [
       "For [day 11](https://adventofcode.com/2016/day/11), `puzzle.input` has 4 lines:"
      ],
      "text/plain": [
       "<IPython.core.display.Markdown object>"
      ]
     },
     "metadata": {},
     "output_type": "display_data"
    },
    {
     "name": "stdout",
     "output_type": "stream",
     "text": [
      "The first floor contains a polonium generator, a thulium generator, a thulium-co ...  and a cobalt-compatible microchip.\n",
      "The second floor contains a polonium-compatible microchip and a promethium-compatible microchip.\n",
      "The third floor contains nothing relevant.\n",
      "The fourth floor contains nothing relevant.\n"
     ]
    },
    {
     "data": {
      "text/markdown": [
       "The stored answers are: `{1: '47', 2: '71'}`"
      ],
      "text/plain": [
       "<IPython.core.display.Markdown object>"
      ]
     },
     "metadata": {},
     "output_type": "display_data"
    }
   ],
   "source": [
    "puzzle = advent.puzzle(day=11)"
   ]
  },
  {
   "cell_type": "code",
   "execution_count": 46,
   "id": "d8f42071",
   "metadata": {
    "execution": {
     "iopub.execute_input": "2023-04-07T04:35:03.166333Z",
     "iopub.status.busy": "2023-04-07T04:35:03.165907Z",
     "iopub.status.idle": "2023-04-07T04:35:03.169260Z",
     "shell.execute_reply": "2023-04-07T04:35:03.168744Z",
     "shell.execute_reply.started": "2023-04-07T04:35:03.166315Z"
    },
    "tags": []
   },
   "outputs": [],
   "source": [
    "s1 = \"\"\"\\\n",
    "The first floor contains a hydrogen-compatible microchip and a lithium-compatible microchip.\n",
    "The second floor contains a hydrogen generator.\n",
    "The third floor contains a lithium generator.\n",
    "The fourth floor contains nothing relevant.\n",
    "\"\"\""
   ]
  },
  {
   "cell_type": "code",
   "execution_count": 47,
   "id": "b239a1b8-22be-4cb6-ae68-6965fae8fead",
   "metadata": {
    "execution": {
     "iopub.execute_input": "2023-04-07T04:35:03.170113Z",
     "iopub.status.busy": "2023-04-07T04:35:03.169868Z",
     "iopub.status.idle": "2023-04-07T04:35:08.765330Z",
     "shell.execute_reply": "2023-04-07T04:35:08.764666Z",
     "shell.execute_reply.started": "2023-04-07T04:35:03.170100Z"
    },
    "lines_to_next_cell": 2,
    "tags": []
   },
   "outputs": [
    {
     "name": "stdout",
     "output_type": "stream",
     "text": [
      "(Part 1: 5.582 s)\n"
     ]
    }
   ],
   "source": [
    "def day11a(s, *, part2=False):\n",
    "  initial_contents: list[set[str]] = [set() for _ in range(4)]\n",
    "  for floor, line in enumerate(s.splitlines()):\n",
    "    if 'nothing relevant' not in line:\n",
    "      for name in re.split(r',? and |, ', line[:-1].split(' contains ')[1]):\n",
    "        name2 = re.split(r' |-', name)[1]\n",
    "        initial_contents[floor].add(name2.upper() if 'generator' in name else name2)\n",
    "  initial_contents[0] |= set('elerium ELERIUM dilithium DILITHIUM'.split() if part2 else [])\n",
    "  start_state = 0, initial_contents\n",
    "  end_state = 3, [set(), set(), set(), set.union(*initial_contents)]\n",
    "\n",
    "  def encode(floor: int, contents: list[set[str]]) -> Any:\n",
    "    return floor, *(frozenset(set_) for set_ in contents)\n",
    "\n",
    "  def disallowed(items: set[str]) -> bool:\n",
    "    return any(item.isupper() for item in items) and any(\n",
    "        item.islower() and item.upper() not in items for item in items\n",
    "    )\n",
    "\n",
    "  seen = set([encode(*start_state)])\n",
    "  queue = collections.deque([(*start_state, 0)])\n",
    "\n",
    "  while queue:\n",
    "    floor, contents, distance = queue.popleft()\n",
    "    for floor2 in (floor + offset for offset in [-1, 1] if 0 <= floor + offset < 4):\n",
    "      for items in more_itertools.flatten(\n",
    "          itertools.combinations(contents[floor], n) for n in [1, 2]\n",
    "      ):\n",
    "        leftover = contents[floor] - set(items)\n",
    "        newgroup = contents[floor2] | set(items)\n",
    "        if disallowed(set(items)) or disallowed(leftover) or disallowed(newgroup):\n",
    "          continue\n",
    "        contents2 = contents.copy()\n",
    "        contents2[floor] = leftover\n",
    "        contents2[floor2] = newgroup\n",
    "        state2 = floor2, contents2\n",
    "        encoded2 = encode(*state2)\n",
    "        if encoded2 not in seen:\n",
    "          if state2 == end_state:\n",
    "            return distance + 1\n",
    "          seen.add(encoded2)\n",
    "          queue.append((*state2, distance + 1))\n",
    "\n",
    "\n",
    "check_eq(day11a(s1), 11)\n",
    "puzzle.verify(1, day11a)  # ~5.6 s.\n",
    "\n",
    "day11a_part2 = functools.partial(day11a, part2=True)\n",
    "# (Note that Part 2 applied to sample `s1` has no solution.)\n",
    "# puzzle.verify(2, day11a_part2)  # ~315 s.!"
   ]
  },
  {
   "cell_type": "code",
   "execution_count": 48,
   "id": "7816c4d0-276a-49b8-99d6-0b32387a2db6",
   "metadata": {
    "execution": {
     "iopub.execute_input": "2023-04-07T04:35:08.766524Z",
     "iopub.status.busy": "2023-04-07T04:35:08.766074Z",
     "iopub.status.idle": "2023-04-07T04:35:08.769464Z",
     "shell.execute_reply": "2023-04-07T04:35:08.769012Z",
     "shell.execute_reply.started": "2023-04-07T04:35:08.766507Z"
    },
    "tags": []
   },
   "outputs": [],
   "source": [
    "@functools.lru_cache(maxsize=None)  # 1_126 entries for part1; 14_612 for part2.\n",
    "def day11_disallowed(items: frozenset[str]) -> bool:\n",
    "  found_upper, lone_lower = False, False\n",
    "  for item in items:\n",
    "    if item.isupper():\n",
    "      found_upper = True\n",
    "    elif item.upper() not in items:\n",
    "      lone_lower = True\n",
    "  return found_upper and lone_lower"
   ]
  },
  {
   "cell_type": "code",
   "execution_count": 49,
   "id": "6b654029-5e60-4654-980c-9933c009f8e8",
   "metadata": {
    "execution": {
     "iopub.execute_input": "2023-04-07T04:35:08.770270Z",
     "iopub.status.busy": "2023-04-07T04:35:08.770038Z",
     "iopub.status.idle": "2023-04-07T04:35:10.799094Z",
     "shell.execute_reply": "2023-04-07T04:35:10.798410Z",
     "shell.execute_reply.started": "2023-04-07T04:35:08.770259Z"
    },
    "tags": []
   },
   "outputs": [
    {
     "name": "stdout",
     "output_type": "stream",
     "text": [
      "(Part 1: 2.011 s)\n"
     ]
    }
   ],
   "source": [
    "def day11(s, *, part2=False):  # Slightly faster.\n",
    "  initial_contents: list[set[str]] = [set() for _ in range(4)]\n",
    "  for floor, line in enumerate(s.splitlines()):\n",
    "    if 'nothing relevant' not in line:\n",
    "      for name in re.split(r',? and |, ', line[:-1].split(' contains ')[1]):\n",
    "        name2 = re.split(r' |-', name)[1]\n",
    "        initial_contents[floor].add(name2.upper() if 'generator' in name else name2)\n",
    "  initial_contents[0] |= set('elerium ELERIUM dilithium DILITHIUM'.split() if part2 else [])\n",
    "  start_state = 0, tuple(frozenset(set_) for set_ in initial_contents)\n",
    "  all_contents = frozenset(set.union(*initial_contents))\n",
    "  end_state: Any = 3, (frozenset(), frozenset(), frozenset(), all_contents)\n",
    "\n",
    "  seen = {start_state}\n",
    "  queue = collections.deque([(start_state, 0)])\n",
    "\n",
    "  while queue:\n",
    "    (floor, contents), distance = queue.popleft()\n",
    "    for floor2 in (floor + offset for offset in [-1, 1] if 0 <= floor + offset < 4):\n",
    "      for items in more_itertools.flatten(\n",
    "          itertools.combinations(contents[floor], n) for n in [1, 2]\n",
    "      ):\n",
    "        set_items = frozenset(items)\n",
    "        if day11_disallowed(set_items):\n",
    "          continue\n",
    "        leftover = contents[floor] - set_items\n",
    "        if day11_disallowed(leftover):\n",
    "          continue\n",
    "        newgroup = contents[floor2] | set_items\n",
    "        if day11_disallowed(newgroup):\n",
    "          continue\n",
    "        contents2 = list(contents)\n",
    "        contents2[floor] = leftover\n",
    "        contents2[floor2] = newgroup\n",
    "        state2 = floor2, tuple(contents2)\n",
    "        if state2 not in seen:\n",
    "          seen.add(state2)\n",
    "          if state2 == end_state:\n",
    "            return distance + 1\n",
    "          queue.append((state2, distance + 1))\n",
    "\n",
    "\n",
    "check_eq(day11(s1), 11)\n",
    "puzzle.verify(1, day11)  # ~1.5 s.\n",
    "\n",
    "day11_part2 = functools.partial(day11, part2=True)\n",
    "# (Note that Part 2 applied to sample `s1` has no solution.)\n",
    "if 0:\n",
    "  puzzle.verify(2, day11_part2)  # ~134 s."
   ]
  },
  {
   "cell_type": "code",
   "execution_count": 50,
   "id": "d59edbb1-8ee8-4a9d-aa99-92dae57f3f97",
   "metadata": {
    "execution": {
     "iopub.execute_input": "2023-04-07T04:35:10.800265Z",
     "iopub.status.busy": "2023-04-07T04:35:10.799904Z",
     "iopub.status.idle": "2023-04-07T04:35:10.802936Z",
     "shell.execute_reply": "2023-04-07T04:35:10.802330Z",
     "shell.execute_reply.started": "2023-04-07T04:35:10.800250Z"
    },
    "tags": []
   },
   "outputs": [],
   "source": [
    "# hh.analyze_lru_caches(globals())"
   ]
  },
  {
   "cell_type": "code",
   "execution_count": 51,
   "id": "34f86e38-984b-40a5-89a0-238956a8ccc2",
   "metadata": {
    "execution": {
     "iopub.execute_input": "2023-04-07T04:35:10.803649Z",
     "iopub.status.busy": "2023-04-07T04:35:10.803508Z",
     "iopub.status.idle": "2023-04-07T04:35:10.812516Z",
     "shell.execute_reply": "2023-04-07T04:35:10.811994Z",
     "shell.execute_reply.started": "2023-04-07T04:35:10.803637Z"
    },
    "tags": []
   },
   "outputs": [],
   "source": [
    "# hh.prun(lambda: day11(puzzle.input), top=10)"
   ]
  },
  {
   "cell_type": "markdown",
   "id": "15e068ef",
   "metadata": {},
   "source": [
    "<a name=\"day12\"></a>\n",
    "## Day 12: Interpret program"
   ]
  },
  {
   "cell_type": "markdown",
   "id": "f69438cc",
   "metadata": {},
   "source": [
    "- Part 1: After executing the assembunny code in your puzzle input, what value is left in register a?\n",
    "\n",
    "- Part 2: If you instead initialize register c to be 1, what value is now left in register a?"
   ]
  },
  {
   "cell_type": "code",
   "execution_count": 52,
   "id": "8501a617",
   "metadata": {
    "execution": {
     "iopub.execute_input": "2023-04-07T04:35:10.813390Z",
     "iopub.status.busy": "2023-04-07T04:35:10.813096Z",
     "iopub.status.idle": "2023-04-07T04:35:10.831745Z",
     "shell.execute_reply": "2023-04-07T04:35:10.830878Z",
     "shell.execute_reply.started": "2023-04-07T04:35:10.813376Z"
    },
    "tags": []
   },
   "outputs": [
    {
     "data": {
      "text/markdown": [
       "For [day 12](https://adventofcode.com/2016/day/12), `puzzle.input` has 23 lines:"
      ],
      "text/plain": [
       "<IPython.core.display.Markdown object>"
      ]
     },
     "metadata": {},
     "output_type": "display_data"
    },
    {
     "name": "stdout",
     "output_type": "stream",
     "text": [
      "cpy 1 a\n",
      "cpy 1 b\n",
      "cpy 26 d\n",
      "jnz c 2\n",
      "jnz 1 5\n",
      "cpy 7 c\n",
      "inc d\n",
      "dec c\n",
      " ...\n",
      "dec d\n",
      "jnz d -2\n",
      "dec c\n",
      "jnz c -5\n"
     ]
    },
    {
     "data": {
      "text/markdown": [
       "The stored answers are: `{1: '318020', 2: '9227674'}`"
      ],
      "text/plain": [
       "<IPython.core.display.Markdown object>"
      ]
     },
     "metadata": {},
     "output_type": "display_data"
    }
   ],
   "source": [
    "puzzle = advent.puzzle(day=12)"
   ]
  },
  {
   "cell_type": "code",
   "execution_count": 53,
   "id": "369ec970",
   "metadata": {
    "execution": {
     "iopub.execute_input": "2023-04-07T04:35:10.833330Z",
     "iopub.status.busy": "2023-04-07T04:35:10.832718Z",
     "iopub.status.idle": "2023-04-07T04:35:10.836550Z",
     "shell.execute_reply": "2023-04-07T04:35:10.835813Z",
     "shell.execute_reply.started": "2023-04-07T04:35:10.833313Z"
    },
    "tags": []
   },
   "outputs": [],
   "source": [
    "s1 = \"\"\"\\\n",
    "cpy 41 a\n",
    "inc a\n",
    "inc a\n",
    "dec a\n",
    "jnz a 2\n",
    "dec a\n",
    "\"\"\""
   ]
  },
  {
   "cell_type": "code",
   "execution_count": 54,
   "id": "0d40d607-363b-4db0-b534-bc24a0f4136c",
   "metadata": {
    "execution": {
     "iopub.execute_input": "2023-04-07T04:35:10.838273Z",
     "iopub.status.busy": "2023-04-07T04:35:10.837497Z",
     "iopub.status.idle": "2023-04-07T04:35:11.035469Z",
     "shell.execute_reply": "2023-04-07T04:35:11.034785Z",
     "shell.execute_reply.started": "2023-04-07T04:35:10.838248Z"
    },
    "tags": []
   },
   "outputs": [
    {
     "name": "stdout",
     "output_type": "stream",
     "text": [
      "(Part 1: 0.183 s)\n"
     ]
    }
   ],
   "source": [
    "if sys.version_info >= (3, 10):  # Using match/case.\n",
    "  # pylint: disable-next=exec-used\n",
    "  exec(\n",
    "      \"\"\"\n",
    "def day12a(s, *, part2=False):\n",
    "  instructions = [line.split() for line in s.splitlines()]\n",
    "  registers = collections.defaultdict(int)\n",
    "  if part2:\n",
    "    registers['c'] = 1\n",
    "  pc = 0\n",
    "\n",
    "  def get_value(src: str) -> int:\n",
    "    return registers[src] if src.isalpha() else int(src)\n",
    "\n",
    "  while 0 <= pc < len(instructions):\n",
    "    match instructions[pc]:\n",
    "      case 'cpy', src, dst:\n",
    "        registers[dst] = get_value(src)\n",
    "      case 'inc', register:\n",
    "        registers[register] += 1\n",
    "      case 'dec', register:\n",
    "        registers[register] -= 1\n",
    "      case 'jnz', predicate, offset:\n",
    "        if get_value(predicate) != 0:\n",
    "          pc += int(offset) - 1\n",
    "      case x:\n",
    "        raise AssertionError(x)\n",
    "    pc += 1\n",
    "\n",
    "  assert set(registers) <= set('abcd')\n",
    "  return registers['a']\n",
    "\n",
    "check_eq(day12a(s1), 42)\n",
    "puzzle.verify(1, day12a)  # ~0.2 s.\n",
    "\n",
    "day12a_part2 = functools.partial(day12a, part2=True)\n",
    "# puzzle.verify(2, day12a_part2)  # ~5.5 s.\n",
    "  \"\"\"\n",
    "  )"
   ]
  },
  {
   "cell_type": "code",
   "execution_count": 55,
   "id": "01c44415-f252-4f22-87f9-ceb377eed3b1",
   "metadata": {
    "execution": {
     "iopub.execute_input": "2023-04-07T04:35:11.036742Z",
     "iopub.status.busy": "2023-04-07T04:35:11.036218Z",
     "iopub.status.idle": "2023-04-07T04:35:16.258008Z",
     "shell.execute_reply": "2023-04-07T04:35:16.257370Z",
     "shell.execute_reply.started": "2023-04-07T04:35:11.036726Z"
    },
    "tags": []
   },
   "outputs": [
    {
     "name": "stdout",
     "output_type": "stream",
     "text": [
      "(Part 1: 0.174 s)\n",
      "(Part 2: 5.039 s)\n"
     ]
    }
   ],
   "source": [
    "def day12(s, *, part2=False):  # Disappointingly not much faster.\n",
    "  registers = [0] * 4\n",
    "  if part2:\n",
    "    registers[2] = 1\n",
    "  pc = 0\n",
    "\n",
    "  def get_register(operand):\n",
    "    return 'abcd'.index(operand)\n",
    "\n",
    "  def cpy_reg(src, dst):\n",
    "    nonlocal registers\n",
    "    registers[dst] = registers[src]\n",
    "\n",
    "  def cpy_val(value, dst):\n",
    "    nonlocal registers\n",
    "    registers[dst] = value\n",
    "\n",
    "  def increment(register):\n",
    "    nonlocal registers\n",
    "    registers[register] += 1\n",
    "\n",
    "  def decrement(register):\n",
    "    nonlocal registers\n",
    "    registers[register] -= 1\n",
    "\n",
    "  def jnz_reg(register, offset):\n",
    "    nonlocal registers, pc\n",
    "    if registers[register] != 0:\n",
    "      pc += offset - 1\n",
    "\n",
    "  def jump(offset):\n",
    "    nonlocal pc\n",
    "    pc += offset - 1\n",
    "\n",
    "  instructions: list[Callable[[], None]] = []\n",
    "  for line in s.splitlines():\n",
    "    operation, *args = line.split()\n",
    "    if operation == 'cpy':\n",
    "      if args[0].isalpha():\n",
    "        instructions.append(\n",
    "            functools.partial(cpy_reg, src=get_register(args[0]), dst=get_register(args[1]))\n",
    "        )\n",
    "      else:\n",
    "        instructions.append(\n",
    "            functools.partial(cpy_val, value=int(args[0]), dst=get_register(args[1]))\n",
    "        )\n",
    "    elif operation == 'inc':\n",
    "      instructions.append(functools.partial(increment, register=get_register(args[0])))\n",
    "    elif operation == 'dec':\n",
    "      instructions.append(functools.partial(decrement, register=get_register(args[0])))\n",
    "    elif operation == 'jnz':\n",
    "      if args[0].isalpha():\n",
    "        instructions.append(\n",
    "            functools.partial(jnz_reg, register=get_register(args[0]), offset=int(args[1]))\n",
    "        )\n",
    "      elif int(args[0]) != 0:\n",
    "        instructions.append(functools.partial(jump, offset=int(args[1])))\n",
    "      else:\n",
    "        instructions.append(lambda: None)\n",
    "    else:\n",
    "      raise AssertionError(line)\n",
    "\n",
    "  while 0 <= pc < len(instructions):\n",
    "    instructions[pc]()\n",
    "    pc += 1\n",
    "\n",
    "  return registers[0]\n",
    "\n",
    "\n",
    "check_eq(day12(s1), 42)\n",
    "puzzle.verify(1, day12)  # ~0.16 s.\n",
    "\n",
    "day12_part2 = functools.partial(day12, part2=True)\n",
    "puzzle.verify(2, day12_part2)  # ~4.6 s."
   ]
  },
  {
   "cell_type": "markdown",
   "id": "db17ae62",
   "metadata": {},
   "source": [
    "<a name=\"day13\"></a>\n",
    "## Day 13: Path in procedural maze"
   ]
  },
  {
   "cell_type": "markdown",
   "id": "9f4bbbbe",
   "metadata": {},
   "source": [
    "- Part 1: What is the fewest number of steps required for you to reach 31,39 (from 1,1) ?\n",
    "\n",
    "- Part 2: How many locations (distinct x,y coordinates, including your starting location) can you reach in at most 50 steps?"
   ]
  },
  {
   "cell_type": "code",
   "execution_count": 56,
   "id": "48a9f3d1",
   "metadata": {
    "execution": {
     "iopub.execute_input": "2023-04-07T04:35:16.259634Z",
     "iopub.status.busy": "2023-04-07T04:35:16.259011Z",
     "iopub.status.idle": "2023-04-07T04:35:16.269699Z",
     "shell.execute_reply": "2023-04-07T04:35:16.269129Z",
     "shell.execute_reply.started": "2023-04-07T04:35:16.259612Z"
    },
    "tags": []
   },
   "outputs": [
    {
     "data": {
      "text/markdown": [
       "For [day 13](https://adventofcode.com/2016/day/13), `puzzle.input` has a single line of 4 characters:"
      ],
      "text/plain": [
       "<IPython.core.display.Markdown object>"
      ]
     },
     "metadata": {},
     "output_type": "display_data"
    },
    {
     "name": "stdout",
     "output_type": "stream",
     "text": [
      "1364\n"
     ]
    },
    {
     "data": {
      "text/markdown": [
       "The stored answers are: `{1: '86', 2: '127'}`"
      ],
      "text/plain": [
       "<IPython.core.display.Markdown object>"
      ]
     },
     "metadata": {},
     "output_type": "display_data"
    }
   ],
   "source": [
    "puzzle = advent.puzzle(day=13)"
   ]
  },
  {
   "cell_type": "code",
   "execution_count": 57,
   "id": "99abf000-9ede-4291-b061-1f89adceb8fb",
   "metadata": {
    "execution": {
     "iopub.execute_input": "2023-04-07T04:35:16.270621Z",
     "iopub.status.busy": "2023-04-07T04:35:16.270371Z",
     "iopub.status.idle": "2023-04-07T04:35:16.280379Z",
     "shell.execute_reply": "2023-04-07T04:35:16.279883Z",
     "shell.execute_reply.started": "2023-04-07T04:35:16.270608Z"
    },
    "tags": []
   },
   "outputs": [
    {
     "name": "stdout",
     "output_type": "stream",
     "text": [
      "(Part 1: 0.000 s)\n",
      "(Part 2: 0.000 s)\n"
     ]
    }
   ],
   "source": [
    "def day13(s, *, part2=False, src_yx=(1, 1), dst_yx=(39, 31), visualize=False):\n",
    "  seed = int(s)\n",
    "  sentinel = -1, -1\n",
    "\n",
    "  def is_wall(y: int, x: int) -> bool:\n",
    "    value = x * x + 3 * x + 2 * x * y + y + y * y + seed\n",
    "    return bin(value).count('1') % 2 != 0\n",
    "\n",
    "  previous = {src_yx: sentinel}\n",
    "  queue = collections.deque([(src_yx, 0)])\n",
    "\n",
    "  while queue:\n",
    "    (y, x), distance = queue.popleft()\n",
    "    if (not part2 and (y, x) == dst_yx) or (part2 and distance == 50):\n",
    "      break\n",
    "    for dy, dx in [(1, 0), (-1, 0), (0, 1), (0, -1)]:\n",
    "      yx2 = y2, x2 = y + dy, x + dx\n",
    "      if y2 >= 0 and x2 >= 0 and yx2 not in previous and not is_wall(y2, x2):\n",
    "        previous[yx2] = (y, x)\n",
    "        queue.append((yx2, distance + 1))\n",
    "\n",
    "  if visualize:\n",
    "    shape = 50, 60\n",
    "    grid = np.array([not is_wall(y, x) for y, x in np.ndindex(shape)]).reshape(shape)\n",
    "    image = media.to_rgb(grid * 0.6, vmin=0, vmax=1)\n",
    "    if part2:\n",
    "      image[tuple(zip(*previous))] = 1.0, 1.0, 1.0\n",
    "    else:\n",
    "      image[dst_yx] = 1.0, 0.0, 0.0\n",
    "      yx = previous[dst_yx]\n",
    "      while yx != sentinel:\n",
    "        image[yx] = 1.0, 1.0, 1.0\n",
    "        yx = previous[yx]\n",
    "    image[src_yx] = 0.0, 1.0, 0.0\n",
    "    image = np.pad(image, ((1, 0), (1, 0), (0, 0))).repeat(5, axis=0).repeat(5, axis=1)\n",
    "    media.show_image(image)\n",
    "\n",
    "  return len(previous) if part2 else distance\n",
    "\n",
    "\n",
    "check_eq(day13('10', dst_yx=(4, 7)), 11)\n",
    "puzzle.verify(1, day13)\n",
    "\n",
    "day13_part2 = functools.partial(day13, part2=True)\n",
    "puzzle.verify(2, day13_part2)"
   ]
  },
  {
   "cell_type": "code",
   "execution_count": 58,
   "id": "87c04ddd-ce8d-482d-bb19-ce8e9a69b7c8",
   "metadata": {
    "execution": {
     "iopub.execute_input": "2023-04-07T04:35:16.281192Z",
     "iopub.status.busy": "2023-04-07T04:35:16.281050Z",
     "iopub.status.idle": "2023-04-07T04:35:16.307507Z",
     "shell.execute_reply": "2023-04-07T04:35:16.306886Z",
     "shell.execute_reply.started": "2023-04-07T04:35:16.281180Z"
    },
    "tags": []
   },
   "outputs": [
    {
     "data": {
      "text/html": [
       "<table class=\"show_images\" style=\"border-spacing:0px;\"><tr><td style=\"padding:1px;\"><img width=\"305\" height=\"255\" style=\"image-rendering:auto; object-fit:cover;\" src=\"data:image/png;base64,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\"/></td></tr></table>"
      ],
      "text/plain": [
       "<IPython.core.display.HTML object>"
      ]
     },
     "metadata": {},
     "output_type": "display_data"
    },
    {
     "data": {
      "text/html": [
       "<table class=\"show_images\" style=\"border-spacing:0px;\"><tr><td style=\"padding:1px;\"><img width=\"305\" height=\"255\" style=\"image-rendering:auto; object-fit:cover;\" src=\"data:image/png;base64,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\"/></td></tr></table>"
      ],
      "text/plain": [
       "<IPython.core.display.HTML object>"
      ]
     },
     "metadata": {},
     "output_type": "display_data"
    }
   ],
   "source": [
    "_ = day13(puzzle.input, visualize=True)\n",
    "_ = day13_part2(puzzle.input, visualize=True)"
   ]
  },
  {
   "cell_type": "markdown",
   "id": "9e904970",
   "metadata": {},
   "source": [
    "<a name=\"day14\"></a>\n",
    "## Day 14: MD5 with repeated chars"
   ]
  },
  {
   "cell_type": "markdown",
   "id": "c519f8b2",
   "metadata": {},
   "source": [
    "- Part 1: Given the actual salt in your puzzle input, what index produces your 64th one-time pad key?\n",
    "\n",
    "- Part 2: Given the actual salt in your puzzle input and using 2016 extra MD5 calls of key stretching, what index now produces your 64th one-time pad key?"
   ]
  },
  {
   "cell_type": "code",
   "execution_count": 59,
   "id": "d0ad6c7d",
   "metadata": {
    "execution": {
     "iopub.execute_input": "2023-04-07T04:35:16.308650Z",
     "iopub.status.busy": "2023-04-07T04:35:16.308284Z",
     "iopub.status.idle": "2023-04-07T04:35:16.318043Z",
     "shell.execute_reply": "2023-04-07T04:35:16.317586Z",
     "shell.execute_reply.started": "2023-04-07T04:35:16.308634Z"
    },
    "tags": []
   },
   "outputs": [
    {
     "data": {
      "text/markdown": [
       "For [day 14](https://adventofcode.com/2016/day/14), `puzzle.input` has a single line of 8 characters:"
      ],
      "text/plain": [
       "<IPython.core.display.Markdown object>"
      ]
     },
     "metadata": {},
     "output_type": "display_data"
    },
    {
     "name": "stdout",
     "output_type": "stream",
     "text": [
      "zpqevtbw\n"
     ]
    },
    {
     "data": {
      "text/markdown": [
       "The stored answers are: `{1: '16106', 2: '22423'}`"
      ],
      "text/plain": [
       "<IPython.core.display.Markdown object>"
      ]
     },
     "metadata": {},
     "output_type": "display_data"
    }
   ],
   "source": [
    "puzzle = advent.puzzle(day=14)"
   ]
  },
  {
   "cell_type": "code",
   "execution_count": 60,
   "id": "79d22265-5bfe-436a-9d2a-3c60e511ab7a",
   "metadata": {
    "execution": {
     "iopub.execute_input": "2023-04-07T04:35:16.319028Z",
     "iopub.status.busy": "2023-04-07T04:35:16.318755Z",
     "iopub.status.idle": "2023-04-07T04:35:16.321920Z",
     "shell.execute_reply": "2023-04-07T04:35:16.321443Z",
     "shell.execute_reply.started": "2023-04-07T04:35:16.319013Z"
    },
    "tags": []
   },
   "outputs": [],
   "source": [
    "def day14_find_triplet(hash: str) -> str:\n",
    "  for index, ch in enumerate(hash[:-2]):\n",
    "    if ch == hash[index + 1] == hash[index + 2]:\n",
    "      return ch\n",
    "  return ''"
   ]
  },
  {
   "cell_type": "code",
   "execution_count": 61,
   "id": "ee07c53c-0fad-45fb-9374-c071e96228fd",
   "metadata": {
    "execution": {
     "iopub.execute_input": "2023-04-07T04:35:16.322765Z",
     "iopub.status.busy": "2023-04-07T04:35:16.322531Z",
     "iopub.status.idle": "2023-04-07T04:35:16.625931Z",
     "shell.execute_reply": "2023-04-07T04:35:16.625410Z",
     "shell.execute_reply.started": "2023-04-07T04:35:16.322753Z"
    },
    "lines_to_next_cell": 2,
    "tags": []
   },
   "outputs": [
    {
     "name": "stdout",
     "output_type": "stream",
     "text": [
      "(Part 1: 0.120 s)\n"
     ]
    }
   ],
   "source": [
    "def day14a(s, *, part2=False):\n",
    "  def get_hash(index: int) -> str:\n",
    "    hash = hashlib.md5((s + str(index)).encode()).hexdigest()\n",
    "    if part2:\n",
    "      for _ in range(2016):\n",
    "        hash = hashlib.md5(hash.encode()).hexdigest()\n",
    "    return hash\n",
    "\n",
    "  hashes = [get_hash(index) for index in range(1000)]\n",
    "\n",
    "  num_found = 0\n",
    "  for index in itertools.count():\n",
    "    hashes.append(get_hash(len(hashes)))\n",
    "    ch = day14_find_triplet(hashes[index])\n",
    "    if ch and any(ch * 5 in hash for hash in hashes[index + 1 : index + 1001]):\n",
    "      num_found += 1\n",
    "      if num_found == 64:\n",
    "        return index\n",
    "\n",
    "\n",
    "check_eq(day14a('abc'), 22728)\n",
    "puzzle.verify(1, day14a)\n",
    "\n",
    "day14_part2a = functools.partial(day14a, part2=True)\n",
    "# check_eq(day14a_part2('abc'), 22551)  # ~18 s.\n",
    "# puzzle.verify(2, day14a_part2)  # ~17.4 s"
   ]
  },
  {
   "cell_type": "code",
   "execution_count": 62,
   "id": "716e9d85-0bcb-495f-bcb2-3974ca68c1f8",
   "metadata": {
    "execution": {
     "iopub.execute_input": "2023-04-07T04:35:16.626921Z",
     "iopub.status.busy": "2023-04-07T04:35:16.626769Z",
     "iopub.status.idle": "2023-04-07T04:35:18.595181Z",
     "shell.execute_reply": "2023-04-07T04:35:18.594478Z",
     "shell.execute_reply.started": "2023-04-07T04:35:16.626903Z"
    },
    "tags": []
   },
   "outputs": [
    {
     "name": "stdout",
     "output_type": "stream",
     "text": [
      "(Part 2: 1.963 s)\n"
     ]
    }
   ],
   "source": [
    "# Faster multiprocessing solution.\n",
    "def day14_get_part2_hash(s: str) -> str:\n",
    "  hash = hashlib.md5(s.encode()).hexdigest()\n",
    "  for _ in range(2016):\n",
    "    hash = hashlib.md5(hash.encode()).hexdigest()\n",
    "  return hash\n",
    "\n",
    "\n",
    "def day14_part2(s):\n",
    "  with multiprocessing.Pool() as pool:\n",
    "    hashes: list[str] = []\n",
    "\n",
    "    def replenish_hashes(group_size=2400, chunksize=100):\n",
    "      strings = [s + str(index) for index in range(len(hashes), len(hashes) + group_size)]\n",
    "      new_hashes = pool.map(day14_get_part2_hash, strings, chunksize)\n",
    "      hashes.extend(new_hashes)\n",
    "\n",
    "    num_found = 0\n",
    "    for index in itertools.count():\n",
    "      if len(hashes) < index + 1001:\n",
    "        replenish_hashes()\n",
    "      ch = day14_find_triplet(hashes[index])\n",
    "      if ch and any(ch * 5 in hash for hash in hashes[index + 1 : index + 1001]):\n",
    "        num_found += 1\n",
    "        if num_found == 64:\n",
    "          return index\n",
    "\n",
    "\n",
    "# check_eq(day14_part2('abc'), 22551)  # ~2 s.\n",
    "puzzle.verify(2, day14_part2)  # ~1.9 s"
   ]
  },
  {
   "cell_type": "markdown",
   "id": "db28da1b",
   "metadata": {},
   "source": [
    "<a name=\"day15\"></a>\n",
    "## Day 15: Spinning disks"
   ]
  },
  {
   "cell_type": "markdown",
   "id": "388e2e00",
   "metadata": {},
   "source": [
    "- Part 1: What is the first time you can press the button to get a capsule?\n",
    "\n",
    "- Part 2: A new disc with 11 positions and starting at position 0 has appeared exactly one second below the previously-bottom disc."
   ]
  },
  {
   "cell_type": "code",
   "execution_count": 63,
   "id": "fa2b20fb",
   "metadata": {
    "execution": {
     "iopub.execute_input": "2023-04-07T04:35:18.596344Z",
     "iopub.status.busy": "2023-04-07T04:35:18.596074Z",
     "iopub.status.idle": "2023-04-07T04:35:18.606453Z",
     "shell.execute_reply": "2023-04-07T04:35:18.605905Z",
     "shell.execute_reply.started": "2023-04-07T04:35:18.596328Z"
    },
    "tags": []
   },
   "outputs": [
    {
     "data": {
      "text/markdown": [
       "For [day 15](https://adventofcode.com/2016/day/15), `puzzle.input` has 6 lines:"
      ],
      "text/plain": [
       "<IPython.core.display.Markdown object>"
      ]
     },
     "metadata": {},
     "output_type": "display_data"
    },
    {
     "name": "stdout",
     "output_type": "stream",
     "text": [
      "Disc #1 has 13 positions; at time=0, it is at position 11.\n",
      "Disc #2 has 5 positions; at time=0, it is at position 0.\n",
      "Disc #3 has 17 positions; at time=0, it is at position 11.\n",
      "Disc #4 has 3 positions; at time=0, it is at position 0.\n",
      "Disc #5 has 7 positions; at time=0, it is at position 2.\n",
      "Disc #6 has 19 positions; at time=0, it is at position 17.\n"
     ]
    },
    {
     "data": {
      "text/markdown": [
       "The stored answers are: `{1: '122318', 2: '3208583'}`"
      ],
      "text/plain": [
       "<IPython.core.display.Markdown object>"
      ]
     },
     "metadata": {},
     "output_type": "display_data"
    }
   ],
   "source": [
    "puzzle = advent.puzzle(day=15)"
   ]
  },
  {
   "cell_type": "code",
   "execution_count": 64,
   "id": "3ef09304",
   "metadata": {
    "execution": {
     "iopub.execute_input": "2023-04-07T04:35:18.607614Z",
     "iopub.status.busy": "2023-04-07T04:35:18.607149Z",
     "iopub.status.idle": "2023-04-07T04:35:18.610067Z",
     "shell.execute_reply": "2023-04-07T04:35:18.609597Z",
     "shell.execute_reply.started": "2023-04-07T04:35:18.607596Z"
    },
    "tags": []
   },
   "outputs": [],
   "source": [
    "s1 = \"\"\"\\\n",
    "Disc #1 has 5 positions; at time=0, it is at position 4.\n",
    "Disc #2 has 2 positions; at time=0, it is at position 1.\n",
    "\"\"\""
   ]
  },
  {
   "cell_type": "code",
   "execution_count": 65,
   "id": "c5a95525",
   "metadata": {
    "execution": {
     "iopub.execute_input": "2023-04-07T04:35:18.610965Z",
     "iopub.status.busy": "2023-04-07T04:35:18.610725Z",
     "iopub.status.idle": "2023-04-07T04:35:19.520138Z",
     "shell.execute_reply": "2023-04-07T04:35:19.519444Z",
     "shell.execute_reply.started": "2023-04-07T04:35:18.610953Z"
    },
    "tags": []
   },
   "outputs": [
    {
     "name": "stdout",
     "output_type": "stream",
     "text": [
      "(Part 1: 0.035 s)\n",
      "(Part 2: 0.862 s)\n"
     ]
    }
   ],
   "source": [
    "def day15(s, *, part2=False):\n",
    "  @dataclasses.dataclass\n",
    "  class Wheel:\n",
    "    period: int\n",
    "    phase: int  # Phase of wheel if ball released at time 0.\n",
    "\n",
    "  wheels = []\n",
    "  for line in s.splitlines():\n",
    "    pattern = r'Disc #(\\d+) has (\\d+) positions; at time=0, it is at position (\\d+)\\.'\n",
    "    disc, period, phase = map(int, hh.re_groups(pattern, line))\n",
    "    wheels.append(Wheel(period, (phase + disc) % period))\n",
    "\n",
    "  if part2:\n",
    "    disc, period, phase = disc + 1, 11, 0\n",
    "    wheels.append(Wheel(period, (phase + disc) % period))\n",
    "\n",
    "  for time in itertools.count():\n",
    "    if all((time + wheel.phase) % wheel.period == 0 for wheel in wheels):\n",
    "      return time\n",
    "\n",
    "  return None\n",
    "\n",
    "\n",
    "check_eq(day15(s1), 5)\n",
    "puzzle.verify(1, day15)\n",
    "\n",
    "day15_part2 = functools.partial(day15, part2=True)\n",
    "puzzle.verify(2, day15_part2)"
   ]
  },
  {
   "cell_type": "markdown",
   "id": "8c07e2e8",
   "metadata": {},
   "source": [
    "<a name=\"day16\"></a>\n",
    "## Day 16: Dragon grammar checksum"
   ]
  },
  {
   "cell_type": "markdown",
   "id": "c356a11d",
   "metadata": {},
   "source": [
    "- Part 1: The first disk you have to fill has length 272. Using the initial state in your puzzle input, what is the correct checksum?\n",
    "\n",
    "- Part 2: The second disk you have to fill has length 35651584. Again using the initial state in your puzzle input, what is the correct checksum for this disk?"
   ]
  },
  {
   "cell_type": "code",
   "execution_count": 66,
   "id": "d11e8a77",
   "metadata": {
    "execution": {
     "iopub.execute_input": "2023-04-07T04:35:19.521263Z",
     "iopub.status.busy": "2023-04-07T04:35:19.520934Z",
     "iopub.status.idle": "2023-04-07T04:35:19.530856Z",
     "shell.execute_reply": "2023-04-07T04:35:19.530324Z",
     "shell.execute_reply.started": "2023-04-07T04:35:19.521251Z"
    },
    "tags": []
   },
   "outputs": [
    {
     "data": {
      "text/markdown": [
       "For [day 16](https://adventofcode.com/2016/day/16), `puzzle.input` has a single line of 17 characters:"
      ],
      "text/plain": [
       "<IPython.core.display.Markdown object>"
      ]
     },
     "metadata": {},
     "output_type": "display_data"
    },
    {
     "name": "stdout",
     "output_type": "stream",
     "text": [
      "10010000000110000\n"
     ]
    },
    {
     "data": {
      "text/markdown": [
       "The stored answers are: `{1: '10010110010011110', 2: '01101011101100011'}`"
      ],
      "text/plain": [
       "<IPython.core.display.Markdown object>"
      ]
     },
     "metadata": {},
     "output_type": "display_data"
    }
   ],
   "source": [
    "puzzle = advent.puzzle(day=16)"
   ]
  },
  {
   "cell_type": "code",
   "execution_count": 67,
   "id": "5df5b5a9",
   "metadata": {
    "execution": {
     "iopub.execute_input": "2023-04-07T04:35:19.535453Z",
     "iopub.status.busy": "2023-04-07T04:35:19.535196Z",
     "iopub.status.idle": "2023-04-07T04:35:21.354885Z",
     "shell.execute_reply": "2023-04-07T04:35:21.354267Z",
     "shell.execute_reply.started": "2023-04-07T04:35:19.535440Z"
    },
    "tags": []
   },
   "outputs": [
    {
     "name": "stdout",
     "output_type": "stream",
     "text": [
      "(Part 1: 0.000 s)\n",
      "(Part 2: 1.814 s)\n"
     ]
    }
   ],
   "source": [
    "def day16(s, *, length=272):\n",
    "  complement_digits = str.maketrans('01', '10')\n",
    "\n",
    "  while len(s) < length:\n",
    "    s = s + '0' + s.translate(complement_digits)[::-1]\n",
    "  s = s[:length]\n",
    "\n",
    "  while len(s) % 2 == 0:\n",
    "    s = ''.join('1' if a == b else '0' for a, b in zip(s[::2], s[1::2]))\n",
    "\n",
    "  return s\n",
    "\n",
    "\n",
    "check_eq(day16('10000', length=20), '01100')\n",
    "puzzle.verify(1, day16)\n",
    "\n",
    "day16_part2 = functools.partial(day16, length=35_651_584)\n",
    "puzzle.verify(2, day16_part2)"
   ]
  },
  {
   "cell_type": "markdown",
   "id": "1cdc5782",
   "metadata": {},
   "source": [
    "<a name=\"day17\"></a>\n",
    "## Day 17: MD5 2D grid of doors"
   ]
  },
  {
   "cell_type": "markdown",
   "id": "923d7ae1",
   "metadata": {},
   "source": [
    "- Part 1: Given your vault's passcode, what is the shortest path (the actual path, not just the length) to reach the vault?\n",
    "\n",
    "- Part 2: What is the length of the longest path that reaches the vault?  (A path cannot pass through the bottom-right room.)"
   ]
  },
  {
   "cell_type": "code",
   "execution_count": 68,
   "id": "179db64f",
   "metadata": {
    "execution": {
     "iopub.execute_input": "2023-04-07T04:35:21.355894Z",
     "iopub.status.busy": "2023-04-07T04:35:21.355588Z",
     "iopub.status.idle": "2023-04-07T04:35:21.365251Z",
     "shell.execute_reply": "2023-04-07T04:35:21.364763Z",
     "shell.execute_reply.started": "2023-04-07T04:35:21.355880Z"
    },
    "tags": []
   },
   "outputs": [
    {
     "data": {
      "text/markdown": [
       "For [day 17](https://adventofcode.com/2016/day/17), `puzzle.input` has a single line of 8 characters:"
      ],
      "text/plain": [
       "<IPython.core.display.Markdown object>"
      ]
     },
     "metadata": {},
     "output_type": "display_data"
    },
    {
     "name": "stdout",
     "output_type": "stream",
     "text": [
      "vkjiggvb\n"
     ]
    },
    {
     "data": {
      "text/markdown": [
       "The stored answers are: `{1: 'RDRRULDDDR', 2: '392'}`"
      ],
      "text/plain": [
       "<IPython.core.display.Markdown object>"
      ]
     },
     "metadata": {},
     "output_type": "display_data"
    }
   ],
   "source": [
    "puzzle = advent.puzzle(day=17)"
   ]
  },
  {
   "cell_type": "code",
   "execution_count": 69,
   "id": "963161f9",
   "metadata": {
    "execution": {
     "iopub.execute_input": "2023-04-07T04:35:21.366165Z",
     "iopub.status.busy": "2023-04-07T04:35:21.365881Z",
     "iopub.status.idle": "2023-04-07T04:35:21.643044Z",
     "shell.execute_reply": "2023-04-07T04:35:21.642419Z",
     "shell.execute_reply.started": "2023-04-07T04:35:21.366151Z"
    },
    "tags": []
   },
   "outputs": [
    {
     "name": "stdout",
     "output_type": "stream",
     "text": [
      "(Part 1: 0.000 s)\n",
      "(Part 2: 0.054 s)\n"
     ]
    }
   ],
   "source": [
    "def day17(s, *, part2=False):\n",
    "  door_map = [(-1, 0, 'U'), (1, 0, 'D'), (0, -1, 'L'), (0, 1, 'R')]\n",
    "\n",
    "  if not part2:\n",
    "    queue = collections.deque([(0, 0, '')])\n",
    "    while True:\n",
    "      y, x, path = queue.popleft()\n",
    "      if (y, x) == (3, 3):\n",
    "        return path\n",
    "      hashed = hashlib.md5((s + path).encode()).hexdigest()[:4]\n",
    "      is_open_udlr = ['b' <= ch <= 'f' for ch in hashed]\n",
    "      for is_open, (dy, dx, step) in zip(is_open_udlr, door_map):\n",
    "        y2, x2 = y + dy, x + dx\n",
    "        if is_open and 0 <= y2 <= 3 and 0 <= x2 <= 3:\n",
    "          queue.append((y2, x2, path + step))\n",
    "\n",
    "  max_length = 0\n",
    "  stack = [(0, 0, '')]\n",
    "  while stack:\n",
    "    y, x, path = stack.pop()\n",
    "    if (y, x) == (3, 3):\n",
    "      max_length = max(max_length, len(path))\n",
    "      continue\n",
    "    hashed = hashlib.md5((s + path).encode()).hexdigest()[:4]\n",
    "    is_open_udlr = ['b' <= ch <= 'f' for ch in hashed]\n",
    "    for is_open, (dy, dx, step) in zip(is_open_udlr, door_map):\n",
    "      y2, x2 = y + dy, x + dx\n",
    "      if is_open and 0 <= y2 <= 3 and 0 <= x2 <= 3:\n",
    "        stack.append((y2, x2, path + step))\n",
    "\n",
    "  return max_length\n",
    "\n",
    "\n",
    "check_eq(day17('ihgpwlah'), 'DDRRRD')\n",
    "check_eq(day17('kglvqrro'), 'DDUDRLRRUDRD')\n",
    "check_eq(day17('ulqzkmiv'), 'DRURDRUDDLLDLUURRDULRLDUUDDDRR')\n",
    "puzzle.verify(1, day17)\n",
    "\n",
    "day17_part2 = functools.partial(day17, part2=True)\n",
    "check_eq(day17_part2('ihgpwlah'), 370)\n",
    "check_eq(day17_part2('kglvqrro'), 492)\n",
    "check_eq(day17_part2('ulqzkmiv'), 830)\n",
    "puzzle.verify(2, day17_part2)"
   ]
  },
  {
   "cell_type": "markdown",
   "id": "c0bb8993",
   "metadata": {},
   "source": [
    "<a name=\"day18\"></a>\n",
    "## Day 18: Substring manipulation"
   ]
  },
  {
   "cell_type": "markdown",
   "id": "a0d9cc0a",
   "metadata": {},
   "source": [
    "- Part 1: Starting with the map in your puzzle input, in a total of 40 rows (including the starting row), how many safe tiles are there?\n",
    "\n",
    "- Part 2: How many safe tiles are there in a total of 400000 rows?"
   ]
  },
  {
   "cell_type": "code",
   "execution_count": 70,
   "id": "507bd6ce",
   "metadata": {
    "execution": {
     "iopub.execute_input": "2023-04-07T04:35:21.643853Z",
     "iopub.status.busy": "2023-04-07T04:35:21.643714Z",
     "iopub.status.idle": "2023-04-07T04:35:21.653866Z",
     "shell.execute_reply": "2023-04-07T04:35:21.653345Z",
     "shell.execute_reply.started": "2023-04-07T04:35:21.643841Z"
    },
    "tags": []
   },
   "outputs": [
    {
     "data": {
      "text/markdown": [
       "For [day 18](https://adventofcode.com/2016/day/18), `puzzle.input` has a single line of 100 characters:"
      ],
      "text/plain": [
       "<IPython.core.display.Markdown object>"
      ]
     },
     "metadata": {},
     "output_type": "display_data"
    },
    {
     "name": "stdout",
     "output_type": "stream",
     "text": [
      "^^.^..^.....^..^..^^...^^.^....^^^.^.^^....^.^^^...^^^^.^^^^.^..^^^^.^^.^.^.^.^.^^...^^..^^^..^.^^^^\n"
     ]
    },
    {
     "data": {
      "text/markdown": [
       "The stored answers are: `{1: '1961', 2: '20000795'}`"
      ],
      "text/plain": [
       "<IPython.core.display.Markdown object>"
      ]
     },
     "metadata": {},
     "output_type": "display_data"
    }
   ],
   "source": [
    "puzzle = advent.puzzle(day=18)"
   ]
  },
  {
   "cell_type": "code",
   "execution_count": 71,
   "id": "08dbdbfb",
   "metadata": {
    "execution": {
     "iopub.execute_input": "2023-04-07T04:35:21.656273Z",
     "iopub.status.busy": "2023-04-07T04:35:21.654595Z",
     "iopub.status.idle": "2023-04-07T04:35:21.663485Z",
     "shell.execute_reply": "2023-04-07T04:35:21.662737Z",
     "shell.execute_reply.started": "2023-04-07T04:35:21.656226Z"
    },
    "tags": []
   },
   "outputs": [
    {
     "name": "stdout",
     "output_type": "stream",
     "text": [
      "(Part 1: 0.001 s)\n"
     ]
    }
   ],
   "source": [
    "def day18a(s, *, num_rows=40):  # Using string manipulation.\n",
    "  assert all(ch in '.^' for ch in s), s\n",
    "  num_safe = 0\n",
    "  for _ in range(num_rows):\n",
    "    num_safe += s.count('.')\n",
    "    s = ''.join(\n",
    "        '.^'[''.join(lcr) in ('^^.', '.^^', '^..', '..^')]\n",
    "        for lcr in more_itertools.sliding_window('.' + s + '.', 3)\n",
    "    )\n",
    "  return num_safe\n",
    "\n",
    "\n",
    "check_eq(day18a('..^^.', num_rows=3), 6)\n",
    "check_eq(day18a('.^^.^.^^^^', num_rows=10), 38)\n",
    "puzzle.verify(1, day18a)\n",
    "\n",
    "day18a_part2 = functools.partial(day18a, num_rows=400_000)\n",
    "if 0:\n",
    "  puzzle.verify(2, day18a_part2)"
   ]
  },
  {
   "cell_type": "code",
   "execution_count": 72,
   "id": "6361851e-2b3d-4b20-9fe6-1593ac90e884",
   "metadata": {
    "execution": {
     "iopub.execute_input": "2023-04-07T04:35:21.664679Z",
     "iopub.status.busy": "2023-04-07T04:35:21.664291Z",
     "iopub.status.idle": "2023-04-07T04:35:23.060972Z",
     "shell.execute_reply": "2023-04-07T04:35:23.060329Z",
     "shell.execute_reply.started": "2023-04-07T04:35:21.664659Z"
    },
    "tags": []
   },
   "outputs": [
    {
     "name": "stdout",
     "output_type": "stream",
     "text": [
      "(Part 1: 0.001 s)\n",
      "(Part 2: 1.383 s)\n"
     ]
    }
   ],
   "source": [
    "def day18b(s, *, num_rows=40):  # Using numpy.\n",
    "  state = np.array([False] + [ch == '^' for ch in s] + [False])\n",
    "  num_safe = 0\n",
    "  for _ in range(num_rows):\n",
    "    num_safe += np.sum(~state[1:-1])\n",
    "    state[1:-1] = state[2:] ^ state[:-2]\n",
    "  return num_safe\n",
    "\n",
    "\n",
    "check_eq(day18b('..^^.', num_rows=3), 6)\n",
    "check_eq(day18b('.^^.^.^^^^', num_rows=10), 38)\n",
    "puzzle.verify(1, day18b)\n",
    "\n",
    "day18b_part2 = functools.partial(day18b, num_rows=400_000)\n",
    "puzzle.verify(2, day18b_part2)"
   ]
  },
  {
   "cell_type": "code",
   "execution_count": 73,
   "id": "00bc3e17-e8cb-4c4f-b3cf-c536b579f5d9",
   "metadata": {
    "execution": {
     "iopub.execute_input": "2023-04-07T04:35:23.062200Z",
     "iopub.status.busy": "2023-04-07T04:35:23.061696Z",
     "iopub.status.idle": "2023-04-07T04:35:23.474140Z",
     "shell.execute_reply": "2023-04-07T04:35:23.473579Z",
     "shell.execute_reply.started": "2023-04-07T04:35:23.062179Z"
    },
    "tags": []
   },
   "outputs": [
    {
     "name": "stdout",
     "output_type": "stream",
     "text": [
      "(Part 1: 0.000 s)\n",
      "(Part 2: 0.058 s)\n"
     ]
    }
   ],
   "source": [
    "@numba.njit  # Using numba; 1000x speedup.\n",
    "def day18_process(state, num_rows):\n",
    "  num_safe = 0\n",
    "  state2 = state.copy()\n",
    "\n",
    "  for _ in range(num_rows):\n",
    "    for i in range(1, len(state) - 1):\n",
    "      num_safe += not state[i]\n",
    "      state2[i] = state[i - 1] ^ state[i + 1]\n",
    "    state, state2 = state2, state\n",
    "\n",
    "  return num_safe\n",
    "\n",
    "\n",
    "def day18(s, *, num_rows=40):\n",
    "  state = np.array([False] + [ch == '^' for ch in s] + [False])\n",
    "  return day18_process(state, num_rows)\n",
    "\n",
    "\n",
    "check_eq(day18('..^^.', num_rows=3), 6)\n",
    "check_eq(day18('.^^.^.^^^^', num_rows=10), 38)\n",
    "puzzle.verify(1, day18)\n",
    "\n",
    "day18_part2 = functools.partial(day18, num_rows=400_000)\n",
    "if using_numba:\n",
    "  puzzle.verify(2, day18_part2)"
   ]
  },
  {
   "cell_type": "markdown",
   "id": "0224f320",
   "metadata": {},
   "source": [
    "<a name=\"day19\"></a>\n",
    "## Day 19: Gift stealing across circle"
   ]
  },
  {
   "cell_type": "markdown",
   "id": "39f1c1ec",
   "metadata": {},
   "source": [
    "- Part 1: Elves take turns stealing all the presents from the Elf to their left.  With the number of Elves given in your puzzle input, which Elf gets all the presents?\n",
    "\n",
    "- Part 2: Elves steal presents from the Elf directly across the circle.  With the number of Elves given in your puzzle input, which Elf now gets all the presents?"
   ]
  },
  {
   "cell_type": "code",
   "execution_count": 74,
   "id": "098b7734",
   "metadata": {
    "execution": {
     "iopub.execute_input": "2023-04-07T04:35:23.475168Z",
     "iopub.status.busy": "2023-04-07T04:35:23.474875Z",
     "iopub.status.idle": "2023-04-07T04:35:23.485594Z",
     "shell.execute_reply": "2023-04-07T04:35:23.484997Z",
     "shell.execute_reply.started": "2023-04-07T04:35:23.475153Z"
    },
    "tags": []
   },
   "outputs": [
    {
     "data": {
      "text/markdown": [
       "For [day 19](https://adventofcode.com/2016/day/19), `puzzle.input` has a single line of 7 characters:"
      ],
      "text/plain": [
       "<IPython.core.display.Markdown object>"
      ]
     },
     "metadata": {},
     "output_type": "display_data"
    },
    {
     "name": "stdout",
     "output_type": "stream",
     "text": [
      "3012210\n"
     ]
    },
    {
     "data": {
      "text/markdown": [
       "The stored answers are: `{1: '1830117', 2: '1417887'}`"
      ],
      "text/plain": [
       "<IPython.core.display.Markdown object>"
      ]
     },
     "metadata": {},
     "output_type": "display_data"
    }
   ],
   "source": [
    "puzzle = advent.puzzle(day=19)"
   ]
  },
  {
   "cell_type": "code",
   "execution_count": 75,
   "id": "16cde7da-5fb7-43f8-a296-5cb27955e8d6",
   "metadata": {
    "execution": {
     "iopub.execute_input": "2023-04-07T04:35:23.486624Z",
     "iopub.status.busy": "2023-04-07T04:35:23.486315Z",
     "iopub.status.idle": "2023-04-07T04:35:23.774904Z",
     "shell.execute_reply": "2023-04-07T04:35:23.774228Z",
     "shell.execute_reply.started": "2023-04-07T04:35:23.486609Z"
    },
    "tags": []
   },
   "outputs": [
    {
     "name": "stdout",
     "output_type": "stream",
     "text": [
      "(Part 1: 0.282 s)\n"
     ]
    }
   ],
   "source": [
    "def day19a_part1(s):\n",
    "  n = int(s)\n",
    "  queue = collections.deque(range(1, n + 1))\n",
    "  while len(queue) > 1:\n",
    "    queue.rotate(-1)\n",
    "    queue.popleft()\n",
    "  return queue.pop()\n",
    "\n",
    "\n",
    "check_eq(day19a_part1('5'), 3)\n",
    "puzzle.verify(1, day19a_part1)"
   ]
  },
  {
   "cell_type": "code",
   "execution_count": 76,
   "id": "70b2be3b-2eb6-4396-bf99-9ad0f0817c02",
   "metadata": {
    "execution": {
     "iopub.execute_input": "2023-04-07T04:35:23.776007Z",
     "iopub.status.busy": "2023-04-07T04:35:23.775833Z",
     "iopub.status.idle": "2023-04-07T04:35:23.779196Z",
     "shell.execute_reply": "2023-04-07T04:35:23.778584Z",
     "shell.execute_reply.started": "2023-04-07T04:35:23.775993Z"
    },
    "tags": []
   },
   "outputs": [],
   "source": [
    "def day19a_part1_find_pattern():\n",
    "  for i in range(2, 33):\n",
    "    hh.show(i, day19a_part1(str(i)))\n",
    "\n",
    "\n",
    "if 0:\n",
    "  day19a_part1_find_pattern()"
   ]
  },
  {
   "cell_type": "code",
   "execution_count": 77,
   "id": "00aa2c82-fa15-4474-9290-3696ca05fc01",
   "metadata": {
    "execution": {
     "iopub.execute_input": "2023-04-07T04:35:23.780212Z",
     "iopub.status.busy": "2023-04-07T04:35:23.779886Z",
     "iopub.status.idle": "2023-04-07T04:35:23.793766Z",
     "shell.execute_reply": "2023-04-07T04:35:23.793252Z",
     "shell.execute_reply.started": "2023-04-07T04:35:23.780196Z"
    },
    "tags": []
   },
   "outputs": [
    {
     "name": "stdout",
     "output_type": "stream",
     "text": [
      "(Part 1: 0.000 s)\n"
     ]
    }
   ],
   "source": [
    "def day19_part1(s):  # Analytic solution derived from pattern detected above.\n",
    "  n = int(s)\n",
    "  # Pattern for function f(n):\n",
    "  # If 2**(k-1) < n <= 2**k, then f(n) = (n - 2**(k-1)) * 2 + 1\n",
    "  k = math.ceil(math.log(n) / math.log(2))\n",
    "  return (n - 2 ** (k - 1)) * 2 + 1\n",
    "\n",
    "\n",
    "check_eq(day19_part1('5'), 3)\n",
    "puzzle.verify(1, day19_part1)"
   ]
  },
  {
   "cell_type": "code",
   "execution_count": 78,
   "id": "6e65e082",
   "metadata": {
    "execution": {
     "iopub.execute_input": "2023-04-07T04:35:23.794674Z",
     "iopub.status.busy": "2023-04-07T04:35:23.794395Z",
     "iopub.status.idle": "2023-04-07T04:35:23.803147Z",
     "shell.execute_reply": "2023-04-07T04:35:23.802428Z",
     "shell.execute_reply.started": "2023-04-07T04:35:23.794661Z"
    },
    "tags": []
   },
   "outputs": [],
   "source": [
    "def day19a_part2(s):  # Impractical quadratic complexity.\n",
    "  num = int(s)\n",
    "  queue = collections.deque(range(1, num + 1))\n",
    "  while len(queue) > 1:\n",
    "    across = len(queue) // 2\n",
    "    queue.rotate(-across)\n",
    "    queue.popleft()\n",
    "    queue.rotate(across - 1)  # -1 to advance to left\n",
    "  return queue.pop()\n",
    "\n",
    "\n",
    "check_eq(day19a_part2('5'), 2)\n",
    "# puzzle.verify(2, day19_part2)  # Impossibly slow.\n",
    "\n",
    "\n",
    "def day19a_part2_find_pattern():\n",
    "  for i in range(2, 30):\n",
    "    hh.show(i, day19_part2(str(i)))\n",
    "\n",
    "\n",
    "if 0:\n",
    "  day19a_part2_find_pattern()"
   ]
  },
  {
   "cell_type": "code",
   "execution_count": 79,
   "id": "d31e63c8-6423-41cb-a276-9f576a5ab28b",
   "metadata": {
    "execution": {
     "iopub.execute_input": "2023-04-07T04:35:23.804512Z",
     "iopub.status.busy": "2023-04-07T04:35:23.804038Z",
     "iopub.status.idle": "2023-04-07T04:35:23.813614Z",
     "shell.execute_reply": "2023-04-07T04:35:23.813026Z",
     "shell.execute_reply.started": "2023-04-07T04:35:23.804476Z"
    },
    "tags": []
   },
   "outputs": [
    {
     "name": "stdout",
     "output_type": "stream",
     "text": [
      "(Part 2: 0.000 s)\n"
     ]
    }
   ],
   "source": [
    "def day19_part2(s):  # Analytic solution derived from pattern detected above.\n",
    "  n = int(s)\n",
    "  # Pattern for function f(n):\n",
    "  # We can always find k such that 3**(k-1) < n <= 3**k.\n",
    "  # If 3**(k-1) < n <= 2 * 3**(k-1), then f(n) = n - 3**(k-1).\n",
    "  # If 2 * 3**(k-1) < n <= 3**k,     then f(n) = n * 2 - 3**k.\n",
    "  k = math.ceil(math.log(n) / math.log(3))\n",
    "  return n - 3 ** (k - 1) if n <= 2 * 3 ** (k - 1) else n * 2 - 3**k\n",
    "\n",
    "\n",
    "check_eq(day19_part2('5'), 2)\n",
    "puzzle.verify(2, day19_part2)"
   ]
  },
  {
   "cell_type": "markdown",
   "id": "2eb1a387",
   "metadata": {},
   "source": [
    "<a name=\"day20\"></a>\n",
    "## Day 20: Disallowed integer ranges"
   ]
  },
  {
   "cell_type": "markdown",
   "id": "f4ca76dc",
   "metadata": {},
   "source": [
    "- Part 1: Given the list of blocked IPs you retrieved from the firewall (your puzzle input), what is the lowest-valued IP that is not blocked?\n",
    "\n",
    "- Part 2: How many IPs are allowed by the blacklist?"
   ]
  },
  {
   "cell_type": "code",
   "execution_count": 80,
   "id": "ed950de4",
   "metadata": {
    "execution": {
     "iopub.execute_input": "2023-04-07T04:35:23.814685Z",
     "iopub.status.busy": "2023-04-07T04:35:23.814342Z",
     "iopub.status.idle": "2023-04-07T04:35:23.831465Z",
     "shell.execute_reply": "2023-04-07T04:35:23.830918Z",
     "shell.execute_reply.started": "2023-04-07T04:35:23.814668Z"
    },
    "tags": []
   },
   "outputs": [
    {
     "data": {
      "text/markdown": [
       "For [day 20](https://adventofcode.com/2016/day/20), `puzzle.input` has 958 lines:"
      ],
      "text/plain": [
       "<IPython.core.display.Markdown object>"
      ]
     },
     "metadata": {},
     "output_type": "display_data"
    },
    {
     "name": "stdout",
     "output_type": "stream",
     "text": [
      "420604416-480421096\n",
      "172102328-195230700\n",
      "613677102-639635955\n",
      "1689844284-1724152701\n",
      "3358865073-3365629764\n",
      "1333423844-1344930397\n",
      "2519115700-2535290065\n",
      "698684483-723211151\n",
      " ...\n",
      "1803265906-1803834597\n",
      "2497969870-2535505355\n",
      "1671431570-1689108789\n",
      "151189360-154214893\n"
     ]
    },
    {
     "data": {
      "text/markdown": [
       "The stored answers are: `{1: '17348574', 2: '104'}`"
      ],
      "text/plain": [
       "<IPython.core.display.Markdown object>"
      ]
     },
     "metadata": {},
     "output_type": "display_data"
    }
   ],
   "source": [
    "puzzle = advent.puzzle(day=20)"
   ]
  },
  {
   "cell_type": "code",
   "execution_count": 81,
   "id": "1ba7e074",
   "metadata": {
    "execution": {
     "iopub.execute_input": "2023-04-07T04:35:23.832728Z",
     "iopub.status.busy": "2023-04-07T04:35:23.832313Z",
     "iopub.status.idle": "2023-04-07T04:35:23.835241Z",
     "shell.execute_reply": "2023-04-07T04:35:23.834772Z",
     "shell.execute_reply.started": "2023-04-07T04:35:23.832710Z"
    },
    "tags": []
   },
   "outputs": [],
   "source": [
    "s1 = \"\"\"\\\n",
    "5-8\n",
    "0-2\n",
    "4-7\n",
    "\"\"\""
   ]
  },
  {
   "cell_type": "code",
   "execution_count": 82,
   "id": "6505fd38",
   "metadata": {
    "execution": {
     "iopub.execute_input": "2023-04-07T04:35:23.836130Z",
     "iopub.status.busy": "2023-04-07T04:35:23.835857Z",
     "iopub.status.idle": "2023-04-07T04:35:23.847316Z",
     "shell.execute_reply": "2023-04-07T04:35:23.846561Z",
     "shell.execute_reply.started": "2023-04-07T04:35:23.836115Z"
    },
    "tags": []
   },
   "outputs": [
    {
     "name": "stdout",
     "output_type": "stream",
     "text": [
      "(Part 1: 0.001 s)\n"
     ]
    }
   ],
   "source": [
    "def day20_part1(s):  # Fast search over sorted candidates just below disallowed ranges; O(k^2).\n",
    "  disallowed = [(l, h + 1) for line in s.splitlines() for l, h in [map(int, line.split('-'))]]\n",
    "  candidates = sorted(start - 1 for start, _ in disallowed if start > 0)\n",
    "  for x in candidates:\n",
    "    if not any(start <= x < stop for start, stop in disallowed):\n",
    "      return x\n",
    "  raise AssertionError\n",
    "\n",
    "\n",
    "check_eq(day20_part1(s1), 3)\n",
    "puzzle.verify(1, day20_part1)"
   ]
  },
  {
   "cell_type": "code",
   "execution_count": 83,
   "id": "47ad5f61-c161-47bc-b9ba-ee147a9ef0b5",
   "metadata": {
    "execution": {
     "iopub.execute_input": "2023-04-07T04:35:23.848628Z",
     "iopub.status.busy": "2023-04-07T04:35:23.848138Z",
     "iopub.status.idle": "2023-04-07T04:35:23.857381Z",
     "shell.execute_reply": "2023-04-07T04:35:23.856641Z",
     "shell.execute_reply.started": "2023-04-07T04:35:23.848606Z"
    },
    "tags": []
   },
   "outputs": [],
   "source": [
    "def day20a_part2(s, *, stop=2**32):  # Brute-force numpy array; O(stop * k).\n",
    "  disallowed = [(l, h + 1) for line in s.splitlines() for l, h in [map(int, line.split('-'))]]\n",
    "  array = np.full(stop, True)\n",
    "  for start0, stop0 in disallowed:\n",
    "    array[start0:stop0] = False\n",
    "  return np.sum(array)\n",
    "\n",
    "\n",
    "check_eq(day20a_part2(s1, stop=10), 2)\n",
    "if 0:\n",
    "  puzzle.verify(2, day20a_part2)  # Slow; ~3.3 s."
   ]
  },
  {
   "cell_type": "code",
   "execution_count": 84,
   "id": "95a8ddca-6952-48bb-8fd0-52be3c26e425",
   "metadata": {
    "execution": {
     "iopub.execute_input": "2023-04-07T04:35:23.858800Z",
     "iopub.status.busy": "2023-04-07T04:35:23.858386Z",
     "iopub.status.idle": "2023-04-07T04:35:24.101132Z",
     "shell.execute_reply": "2023-04-07T04:35:24.100500Z",
     "shell.execute_reply.started": "2023-04-07T04:35:23.858780Z"
    },
    "tags": []
   },
   "outputs": [
    {
     "name": "stdout",
     "output_type": "stream",
     "text": [
      "(Part 2: 0.231 s)\n"
     ]
    }
   ],
   "source": [
    "def day20b_part2(s, *, stop=2**32):  # Binary subdivision; O(max(k, log(stop)) * k).\n",
    "  disallowed = [(l, h + 1) for line in s.splitlines() for l, h in [map(int, line.split('-'))]]\n",
    "\n",
    "  def count_allowed(start: int, stop: int) -> int:\n",
    "    if any(start >= start0 and stop <= stop0 for start0, stop0 in disallowed):\n",
    "      return 0\n",
    "    if all(start >= stop0 or stop <= start0 for start0, stop0 in disallowed):\n",
    "      return stop - start\n",
    "    mid = (start + stop) // 2\n",
    "    assert start < mid < stop\n",
    "    return count_allowed(start, mid) + count_allowed(mid, stop)\n",
    "\n",
    "  return count_allowed(0, stop)\n",
    "\n",
    "\n",
    "check_eq(day20b_part2(s1, stop=10), 2)\n",
    "puzzle.verify(2, day20b_part2)"
   ]
  },
  {
   "cell_type": "code",
   "execution_count": 85,
   "id": "34bbd37d-4781-4f35-a2ac-6c28be847b3f",
   "metadata": {
    "execution": {
     "iopub.execute_input": "2023-04-07T04:35:24.101997Z",
     "iopub.status.busy": "2023-04-07T04:35:24.101802Z",
     "iopub.status.idle": "2023-04-07T04:35:24.113805Z",
     "shell.execute_reply": "2023-04-07T04:35:24.113203Z",
     "shell.execute_reply.started": "2023-04-07T04:35:24.101983Z"
    },
    "tags": []
   },
   "outputs": [
    {
     "name": "stdout",
     "output_type": "stream",
     "text": [
      "(Part 2: 0.007 s)\n"
     ]
    }
   ],
   "source": [
    "def day20_part2(s, *, size=2**32):  # Iteratively update list of allowed regions.\n",
    "  allowed = [(0, size)]\n",
    "  disallowed = [(l, h + 1) for line in s.splitlines() for l, h in [map(int, line.split('-'))]]\n",
    "\n",
    "  for start0, stop0 in disallowed:\n",
    "    allowed2 = []\n",
    "    for start, stop in allowed:\n",
    "      if stop0 <= start or start0 >= stop:\n",
    "        allowed2.append((start, stop))\n",
    "      elif start0 <= start and stop0 >= stop:\n",
    "        pass\n",
    "      elif start0 > start and stop0 < stop:\n",
    "        allowed2.append((start, start0))\n",
    "        allowed2.append((stop0, stop))\n",
    "      elif start0 <= start:\n",
    "        allowed2.append((max(start, stop0), stop))\n",
    "      else:\n",
    "        allowed2.append((start, min(stop, start0)))\n",
    "    allowed = allowed2\n",
    "\n",
    "  return sum(stop - start for start, stop in allowed)\n",
    "\n",
    "\n",
    "check_eq(day20_part2(s1, size=10), 2)\n",
    "puzzle.verify(2, day20_part2)"
   ]
  },
  {
   "cell_type": "markdown",
   "id": "8b05ba85",
   "metadata": {},
   "source": [
    "<a name=\"day21\"></a>\n",
    "## Day 21: Successive scrambling of string"
   ]
  },
  {
   "cell_type": "markdown",
   "id": "596d9a9b",
   "metadata": {},
   "source": [
    "- Part 1: Given the list of scrambling operations in your puzzle input, what is the result of scrambling abcdefgh?\n",
    "\n",
    "- Part 2: What is the un-scrambled version of the scrambled password fbgdceah?"
   ]
  },
  {
   "cell_type": "code",
   "execution_count": 86,
   "id": "6edd11ff",
   "metadata": {
    "execution": {
     "iopub.execute_input": "2023-04-07T04:35:24.114702Z",
     "iopub.status.busy": "2023-04-07T04:35:24.114477Z",
     "iopub.status.idle": "2023-04-07T04:35:24.134764Z",
     "shell.execute_reply": "2023-04-07T04:35:24.134022Z",
     "shell.execute_reply.started": "2023-04-07T04:35:24.114688Z"
    },
    "tags": []
   },
   "outputs": [
    {
     "data": {
      "text/markdown": [
       "For [day 21](https://adventofcode.com/2016/day/21), `puzzle.input` has 100 lines:"
      ],
      "text/plain": [
       "<IPython.core.display.Markdown object>"
      ]
     },
     "metadata": {},
     "output_type": "display_data"
    },
    {
     "name": "stdout",
     "output_type": "stream",
     "text": [
      "reverse positions 1 through 6\n",
      "rotate based on position of letter a\n",
      "swap position 4 with position 1\n",
      "reverse positions 1 through 5\n",
      "move position 5 to position 7\n",
      "swap position 4 with position 0\n",
      "swap position 4 with position 6\n",
      "rotate based on position of letter a\n",
      " ...\n",
      "rotate based on position of letter d\n",
      "rotate based on position of letter c\n",
      "rotate based on position of letter h\n",
      "move position 4 to position 7\n"
     ]
    },
    {
     "data": {
      "text/markdown": [
       "The stored answers are: `{1: 'gfdhebac', 2: 'dhaegfbc'}`"
      ],
      "text/plain": [
       "<IPython.core.display.Markdown object>"
      ]
     },
     "metadata": {},
     "output_type": "display_data"
    }
   ],
   "source": [
    "puzzle = advent.puzzle(day=21)"
   ]
  },
  {
   "cell_type": "code",
   "execution_count": 87,
   "id": "3234cf4a",
   "metadata": {
    "execution": {
     "iopub.execute_input": "2023-04-07T04:35:24.136052Z",
     "iopub.status.busy": "2023-04-07T04:35:24.135778Z",
     "iopub.status.idle": "2023-04-07T04:35:24.139162Z",
     "shell.execute_reply": "2023-04-07T04:35:24.138608Z",
     "shell.execute_reply.started": "2023-04-07T04:35:24.136027Z"
    },
    "tags": []
   },
   "outputs": [],
   "source": [
    "s1 = \"\"\"\\\n",
    "swap position 4 with position 0\n",
    "swap letter d with letter b\n",
    "reverse positions 0 through 4\n",
    "rotate left 1 step\n",
    "move position 1 to position 4\n",
    "move position 3 to position 0\n",
    "rotate based on position of letter b\n",
    "rotate based on position of letter d\n",
    "\"\"\""
   ]
  },
  {
   "cell_type": "code",
   "execution_count": 88,
   "id": "c362bbdc",
   "metadata": {
    "execution": {
     "iopub.execute_input": "2023-04-07T04:35:24.140494Z",
     "iopub.status.busy": "2023-04-07T04:35:24.139932Z",
     "iopub.status.idle": "2023-04-07T04:35:24.155252Z",
     "shell.execute_reply": "2023-04-07T04:35:24.154657Z",
     "shell.execute_reply.started": "2023-04-07T04:35:24.140477Z"
    },
    "tags": []
   },
   "outputs": [
    {
     "name": "stdout",
     "output_type": "stream",
     "text": [
      "(Part 1: 0.000 s)\n",
      "(Part 2: 0.000 s)\n"
     ]
    }
   ],
   "source": [
    "def day21(s, *, initial=None, part2=False, debug=False):\n",
    "  lines = s.splitlines()\n",
    "  initial = initial or ('fbgdceah' if part2 else 'abcdefgh')\n",
    "  state = list(initial)\n",
    "  num = len(state)\n",
    "  # Index of letter at index after \"rotate based on position of letter\"; used for inversion.\n",
    "  rotate_on_letter = [(index + (1 + index + (index >= 4))) % num for index in range(num)]\n",
    "\n",
    "  def scramble1(state: list[str], line: str, invert: bool) -> list[str]:\n",
    "    if match := re.fullmatch(r'swap position (\\d+) with position (\\d+)', line):\n",
    "      i0, i1 = map(int, match.groups())\n",
    "      assert 0 <= i0 < num and 0 <= i1 < num and i0 != i1\n",
    "      state[i0], state[i1] = state[i1], state[i0]\n",
    "    elif match := re.fullmatch(r'swap letter (\\w) with letter (\\w)', line):\n",
    "      ch0, ch1 = match.groups()\n",
    "      assert ch0 != ch1\n",
    "      i0, i1 = state.index(ch0), state.index(ch1)\n",
    "      state[i0], state[i1] = ch1, ch0\n",
    "    elif match := re.fullmatch(r'rotate (left|right) (\\d+) steps?', line):\n",
    "      direction, delta = match.group(1), int(match.group(2))\n",
    "      if invert:\n",
    "        direction = 'left' if direction == 'right' else 'right'\n",
    "      assert 0 <= delta < num\n",
    "      delta = -delta % num if direction == 'right' else delta\n",
    "      state = state[delta:] + state[:delta]  # Rotate left by delta (which can be 0).\n",
    "    elif match := re.fullmatch(r'rotate based on position of letter (\\w)', line):\n",
    "      (ch,) = match.groups()\n",
    "      index = state.index(ch)\n",
    "      if invert:\n",
    "        (index2,) = [i0 for i0, i1 in enumerate(rotate_on_letter) if i1 == index]\n",
    "        delta = (1 + index2 + (index2 >= 4)) % num\n",
    "        check_eq((index2 + delta) % num, index)\n",
    "      else:\n",
    "        delta = -(1 + index + (index >= 4)) % num  # Rotate right is negative delta.\n",
    "      state = state[delta:] + state[:delta]  # Rotate left by delta (which can be 0).\n",
    "      # index -> (index - delta) % num.\n",
    "    elif match := re.fullmatch(r'reverse positions (\\d+) through (\\d+)', line):\n",
    "      i0, i1 = map(int, match.groups())\n",
    "      assert i0 <= i1\n",
    "      state[i0 : i1 + 1] = reversed(state[i0 : i1 + 1])\n",
    "    elif match := re.fullmatch(r'move position (\\d+) to position (\\d+)', line):\n",
    "      i0, i1 = map(int, match.groups())\n",
    "      assert 0 <= i0 < num and 0 <= i1 < num and i0 != i1\n",
    "      if invert:\n",
    "        i0, i1 = i1, i0\n",
    "      ch = state[i0]\n",
    "      state = state[:i0] + state[i0 + 1 :]\n",
    "      state = state[:i1] + [ch] + state[i1:]\n",
    "    else:\n",
    "      raise AssertionError(line)\n",
    "    return state\n",
    "\n",
    "  def scramble(state: list[str], lines: list[str], invert: bool) -> list[str]:\n",
    "    lines2 = lines[::-1] if invert else lines\n",
    "    for line in lines2:\n",
    "      if invert and debug:\n",
    "        assert scramble1(scramble1(state.copy(), line, True), line, False) == state, line\n",
    "      state = scramble1(state, line, invert)\n",
    "    return state\n",
    "\n",
    "  state = scramble(state, lines, part2)\n",
    "  return ''.join(state)\n",
    "\n",
    "\n",
    "check_eq(day21(s1, initial='abcde'), 'decab')\n",
    "puzzle.verify(1, day21)\n",
    "\n",
    "day21_part2 = functools.partial(day21, part2=True)\n",
    "_ = day21_part2(puzzle.input, debug=True)\n",
    "puzzle.verify(2, day21_part2)"
   ]
  },
  {
   "cell_type": "markdown",
   "id": "1a07403d",
   "metadata": {},
   "source": [
    "<a name=\"day22\"></a>\n",
    "## Day 22: Grid of storage disks"
   ]
  },
  {
   "cell_type": "markdown",
   "id": "8d68bb4f",
   "metadata": {},
   "source": [
    "- Part 1: How many viable pairs (A is not empty; A != B; data of A would fit on B) of nodes are there?\n",
    "\n",
    "- Part 2: What is the fewest number of steps required to move your goal data to node-x0-y0?\n",
    "\n",
    "(Note: the puzzle description has bugs; it refers to `node-y0-x1` rather than `node-x1-y0`.)"
   ]
  },
  {
   "cell_type": "code",
   "execution_count": 89,
   "id": "b9954d80",
   "metadata": {
    "execution": {
     "iopub.execute_input": "2023-04-07T04:35:24.156440Z",
     "iopub.status.busy": "2023-04-07T04:35:24.156049Z",
     "iopub.status.idle": "2023-04-07T04:35:24.176022Z",
     "shell.execute_reply": "2023-04-07T04:35:24.175344Z",
     "shell.execute_reply.started": "2023-04-07T04:35:24.156426Z"
    },
    "tags": []
   },
   "outputs": [
    {
     "data": {
      "text/markdown": [
       "For [day 22](https://adventofcode.com/2016/day/22), `puzzle.input` has 1_082 lines:"
      ],
      "text/plain": [
       "<IPython.core.display.Markdown object>"
      ]
     },
     "metadata": {},
     "output_type": "display_data"
    },
    {
     "name": "stdout",
     "output_type": "stream",
     "text": [
      "root@ebhq-gridcenter# df -h\n",
      "Filesystem              Size  Used  Avail  Use%\n",
      "/dev/grid/node-x0-y0     91T   66T    25T   72%\n",
      "/dev/grid/node-x0-y1     87T   68T    19T   78%\n",
      "/dev/grid/node-x0-y2     93T   73T    20T   78%\n",
      "/dev/grid/node-x0-y3     89T   69T    20T   77%\n",
      "/dev/grid/node-x0-y4     88T   67T    21T   76%\n",
      "/dev/grid/node-x0-y5     87T   72T    15T   82%\n",
      " ...\n",
      "/dev/grid/node-x35-y26   89T   72T    17T   80%\n",
      "/dev/grid/node-x35-y27   89T    0T    89T    0%\n",
      "/dev/grid/node-x35-y28   93T   66T    27T   70%\n",
      "/dev/grid/node-x35-y29   85T   65T    20T   76%\n"
     ]
    },
    {
     "data": {
      "text/markdown": [
       "The stored answers are: `{1: '1045', 2: '265'}`"
      ],
      "text/plain": [
       "<IPython.core.display.Markdown object>"
      ]
     },
     "metadata": {},
     "output_type": "display_data"
    }
   ],
   "source": [
    "puzzle = advent.puzzle(day=22)"
   ]
  },
  {
   "cell_type": "code",
   "execution_count": 90,
   "id": "0e45d812",
   "metadata": {
    "execution": {
     "iopub.execute_input": "2023-04-07T04:35:24.177748Z",
     "iopub.status.busy": "2023-04-07T04:35:24.177181Z",
     "iopub.status.idle": "2023-04-07T04:35:24.196228Z",
     "shell.execute_reply": "2023-04-07T04:35:24.195566Z",
     "shell.execute_reply.started": "2023-04-07T04:35:24.177717Z"
    },
    "tags": []
   },
   "outputs": [
    {
     "name": "stdout",
     "output_type": "stream",
     "text": [
      "(Part 1: 0.003 s)\n",
      "(Part 2: 0.005 s)\n"
     ]
    }
   ],
   "source": [
    "def day22(s, *, part2=False, debug=False):\n",
    "  lines = s.splitlines()[2:]\n",
    "  shape = tuple(int(e) + 1 for e in hh.re_groups(r'node-x(\\d+)-y(\\d+)\\s', lines[-1]))[::-1]  # y, x\n",
    "  check_eq(len(lines), math.prod(shape))\n",
    "  size, used, avail = np.full(shape, -1), np.full(shape, -1), np.full(shape, -1)\n",
    "  for line in lines:\n",
    "    pattern = r'^/dev/grid/node-x(\\d+)-y(\\d+)\\s+(\\d+)T\\s+(\\d+)T\\s+(\\d+)T\\s+\\d+%$'\n",
    "    x, y, size1, used1, avail1 = map(int, hh.re_groups(pattern, line))\n",
    "    size[y, x], used[y, x], avail[y, x] = size1, used1, avail1\n",
    "\n",
    "  # Assumptions:\n",
    "  assert size.min() >= 0 and used.min() >= 0 and avail.min() >= 0  # Loaded data is complete.\n",
    "  assert (used == 0).sum() == 1  # There is only one free node.\n",
    "  assert used[0, -1] < size.min()  # All nodes can hold the (upper-right) data.\n",
    "  assert used[used > 0].min() > avail[used > 0].max()  # Data can only transfer to the free node.\n",
    "  large_value = used[used > size.min()].min()\n",
    "  large = used >= large_value\n",
    "  assert size[~large].max() < large_value  # Data from large nodes can never move.\n",
    "  assert np.all(~large[0])  # There are no large nodes on the topmost grid row.\n",
    "\n",
    "  if debug:\n",
    "    hh.show(used[0, -1], size.min(), large_value, used[used > 0].min(), avail[used > 0].max())\n",
    "    with np.printoptions(linewidth=1000):\n",
    "      print(f'size:\\n{size}\\nused:\\n{used}\\navail:\\n{avail}')\n",
    "\n",
    "  if not part2:\n",
    "    if 0:  # Slow.\n",
    "      return sum(\n",
    "          1\n",
    "          for x0, y0 in np.ndindex(shape)\n",
    "          for x1, y1 in np.ndindex(shape)\n",
    "          if (x0 != x1 or y0 != y1) and used[x0, y0] > 0 and used[x0, y0] <= avail[x1, y1]\n",
    "      )\n",
    "    return used.size - 1 - large.sum()\n",
    "\n",
    "  # I initially solved Part 2 using paper and pencil!\n",
    "\n",
    "  # Compute the length of the shortest path from the free node to the node left of the upper-right.\n",
    "  ((y0, x0),) = np.argwhere(used == 0)\n",
    "  queue = collections.deque([(y0, x0, 0)])\n",
    "  seen = set()\n",
    "  while True:\n",
    "    y, x, length = queue.popleft()\n",
    "    if (y, x) == (0, shape[1] - 2):  # Node to the left of the upper-right node.\n",
    "      break\n",
    "    for dy, dx in [(-1, 0), (1, 0), (0, -1), (0, 1)]:\n",
    "      y2, x2 = y + dy, x + dx\n",
    "      if 0 <= y2 < shape[0] and 0 <= x2 < shape[1] and not large[y2, x2] and (y2, x2) not in seen:\n",
    "        seen.add((y2, x2))\n",
    "        queue.append((y2, x2, length + 1))\n",
    "\n",
    "  # Add the motions to move the data on the upper row.\n",
    "  length += 1 + (4 + 1) * (shape[1] - 2)\n",
    "\n",
    "  return length\n",
    "\n",
    "\n",
    "puzzle.verify(1, day22)\n",
    "\n",
    "day22_part2 = functools.partial(day22, part2=True)\n",
    "puzzle.verify(2, day22_part2)"
   ]
  },
  {
   "cell_type": "markdown",
   "id": "113779cf",
   "metadata": {},
   "source": [
    "<a name=\"day23\"></a>\n",
    "## Day 23: Program with toggle instruction"
   ]
  },
  {
   "cell_type": "markdown",
   "id": "28cd89f0",
   "metadata": {},
   "source": [
    "- Part 1: Place 7 in register a, run the code.  What is the value left in register a?\n",
    "\n",
    "- Part 2: Place 12 in register a, run the code.  What is the value left in register a?"
   ]
  },
  {
   "cell_type": "code",
   "execution_count": 91,
   "id": "db555a5b",
   "metadata": {
    "execution": {
     "iopub.execute_input": "2023-04-07T04:35:24.197607Z",
     "iopub.status.busy": "2023-04-07T04:35:24.197168Z",
     "iopub.status.idle": "2023-04-07T04:35:24.211161Z",
     "shell.execute_reply": "2023-04-07T04:35:24.210605Z",
     "shell.execute_reply.started": "2023-04-07T04:35:24.197582Z"
    },
    "tags": []
   },
   "outputs": [
    {
     "data": {
      "text/markdown": [
       "For [day 23](https://adventofcode.com/2016/day/23), `puzzle.input` has 26 lines:"
      ],
      "text/plain": [
       "<IPython.core.display.Markdown object>"
      ]
     },
     "metadata": {},
     "output_type": "display_data"
    },
    {
     "name": "stdout",
     "output_type": "stream",
     "text": [
      "cpy a b\n",
      "dec b\n",
      "cpy a d\n",
      "cpy 0 a\n",
      "cpy b c\n",
      "inc a\n",
      "dec c\n",
      "jnz c -2\n",
      " ...\n",
      "inc d\n",
      "jnz d -2\n",
      "inc c\n",
      "jnz c -5\n"
     ]
    },
    {
     "data": {
      "text/markdown": [
       "The stored answers are: `{1: '11610', 2: '479008170'}`"
      ],
      "text/plain": [
       "<IPython.core.display.Markdown object>"
      ]
     },
     "metadata": {},
     "output_type": "display_data"
    }
   ],
   "source": [
    "puzzle = advent.puzzle(day=23)"
   ]
  },
  {
   "cell_type": "code",
   "execution_count": 92,
   "id": "e5e584d7",
   "metadata": {
    "execution": {
     "iopub.execute_input": "2023-04-07T04:35:24.212289Z",
     "iopub.status.busy": "2023-04-07T04:35:24.211889Z",
     "iopub.status.idle": "2023-04-07T04:35:24.214737Z",
     "shell.execute_reply": "2023-04-07T04:35:24.214260Z",
     "shell.execute_reply.started": "2023-04-07T04:35:24.212270Z"
    },
    "tags": []
   },
   "outputs": [],
   "source": [
    "s1 = \"\"\"\\\n",
    "cpy 2 a\n",
    "tgl a\n",
    "tgl a\n",
    "tgl a\n",
    "cpy 1 a\n",
    "dec a\n",
    "dec a\n",
    "\"\"\""
   ]
  },
  {
   "cell_type": "code",
   "execution_count": 93,
   "id": "2c5f31f8-d84c-44c3-9392-54cc1c6b7fbd",
   "metadata": {
    "execution": {
     "iopub.execute_input": "2023-04-07T04:35:24.215823Z",
     "iopub.status.busy": "2023-04-07T04:35:24.215421Z",
     "iopub.status.idle": "2023-04-07T04:35:24.236785Z",
     "shell.execute_reply": "2023-04-07T04:35:24.235897Z",
     "shell.execute_reply.started": "2023-04-07T04:35:24.215809Z"
    },
    "tags": []
   },
   "outputs": [
    {
     "name": "stdout",
     "output_type": "stream",
     "text": [
      "(Part 1: 0.005 s)\n",
      "(Part 2: 0.005 s)\n"
     ]
    }
   ],
   "source": [
    "def day23(s, *, part2=False, debug=False):\n",
    "  def compute(initial_a: int) -> int:\n",
    "    instructions = [line.split() for line in s.splitlines()]\n",
    "    registers = collections.defaultdict(int)\n",
    "    registers['a'] = initial_a\n",
    "    pc = 0\n",
    "\n",
    "    def get_value(src: str) -> int:\n",
    "      return registers[src] if src.isalpha() else int(src)\n",
    "\n",
    "    while 0 <= pc < len(instructions):\n",
    "      match instructions[pc]:\n",
    "        case 'cpy', src, dst:\n",
    "          if dst.isalpha():\n",
    "            registers[dst] = get_value(src)\n",
    "        case 'inc', register:\n",
    "          if register.isalpha():\n",
    "            registers[register] += 1\n",
    "        case 'dec', register:\n",
    "          if register.isalpha():\n",
    "            registers[register] -= 1\n",
    "        case 'jnz', predicate, offset:\n",
    "          if get_value(predicate) != 0:\n",
    "            pc += get_value(offset) - 1\n",
    "        case 'tgl', register:\n",
    "          assert register.isalpha()\n",
    "          pc2 = pc + registers[register]\n",
    "          if debug:\n",
    "            hh.show('tgl', pc, registers, pc2)\n",
    "          if 0 <= pc2 < len(instructions):\n",
    "            instruction = instructions[pc2]\n",
    "            old_instruction = instruction.copy()\n",
    "            match instruction:\n",
    "              case 'inc', _:\n",
    "                instruction[0] = 'dec'\n",
    "              case _, _:\n",
    "                instruction[0] = 'inc'\n",
    "              case 'jnz', _, _:\n",
    "                instruction[0] = 'cpy'\n",
    "              case _, _, _:\n",
    "                instruction[0] = 'jnz'\n",
    "            if debug:\n",
    "              hh.show(pc2, old_instruction, instruction)\n",
    "          if registers['b'] > 1 and not debug:  # Multiplication optimization.\n",
    "            check_eq(pc, 16)\n",
    "            registers['a'] *= registers['b']\n",
    "            registers['b'] -= 1\n",
    "            registers['c'] -= 2\n",
    "            pc -= 1\n",
    "        case x:\n",
    "          raise AssertionError(x)\n",
    "      pc += 1\n",
    "\n",
    "    assert set(registers) <= set('abcd')\n",
    "    return registers['a']\n",
    "\n",
    "  if debug:\n",
    "    for initial_a in range(6, 10):\n",
    "      hh.show(initial_a, compute(initial_a))\n",
    "    raise hh.StopExecution\n",
    "\n",
    "  return compute(12 if part2 else 7)\n",
    "\n",
    "\n",
    "check_eq(day23(s1), 3)\n",
    "puzzle.verify(1, day23)\n",
    "\n",
    "day23_part2 = functools.partial(day23, part2=True)\n",
    "puzzle.verify(2, day23_part2)"
   ]
  },
  {
   "cell_type": "code",
   "execution_count": 94,
   "id": "1c67a752-b35d-4d28-aa59-33aa69787dfe",
   "metadata": {
    "execution": {
     "iopub.execute_input": "2023-04-07T04:35:24.238069Z",
     "iopub.status.busy": "2023-04-07T04:35:24.237800Z",
     "iopub.status.idle": "2023-04-07T04:35:24.242322Z",
     "shell.execute_reply": "2023-04-07T04:35:24.241599Z",
     "shell.execute_reply.started": "2023-04-07T04:35:24.238050Z"
    },
    "tags": []
   },
   "outputs": [],
   "source": [
    "if 0:\n",
    "  _ = day23(puzzle.input, debug=True)"
   ]
  },
  {
   "cell_type": "code",
   "execution_count": 95,
   "id": "efca973f-0902-47ce-b83a-56f3fbf81e41",
   "metadata": {
    "execution": {
     "iopub.execute_input": "2023-04-07T04:35:24.243803Z",
     "iopub.status.busy": "2023-04-07T04:35:24.243310Z",
     "iopub.status.idle": "2023-04-07T04:35:24.252246Z",
     "shell.execute_reply": "2023-04-07T04:35:24.251608Z",
     "shell.execute_reply.started": "2023-04-07T04:35:24.243775Z"
    },
    "tags": []
   },
   "outputs": [],
   "source": [
    "# tgl, pc = 16, registers = defaultdict(<class 'int'>, {'a': 30, 'b': 4, 'd': 0, 'c': 8}), pc2 = 24\n",
    "# pc2 = 24, old_instruction = ['inc', 'c'], instruction = ['dec', 'c']\n",
    "# tgl, pc = 16, registers = defaultdict(<class 'int'>, {'a': 120, 'b': 3, 'd': 0, 'c': 6}), pc2 = 22\n",
    "# pc2 = 22, old_instruction = ['inc', 'd'], instruction = ['dec', 'd']\n",
    "# tgl, pc = 16, registers = defaultdict(<class 'int'>, {'a': 360, 'b': 2, 'd': 0, 'c': 4}), pc2 = 20\n",
    "# pc2 = 20, old_instruction = ['jnz', '79', 'd'], instruction = ['cpy', '79', 'd']\n",
    "# tgl, pc = 16, registers = defaultdict(<class 'int'>, {'a': 720, 'b': 1, 'd': 0, 'c': 2}), pc2 = 18\n",
    "# pc2 = 18, old_instruction = ['jnz', '1', 'c'], instruction = ['cpy', '1', 'c']\n",
    "# initial_a = 6, compute(initial_a) = 7751\n",
    "# tgl, pc = 16, registers = defaultdict(<class 'int'>, {'a': 42, 'b': 5, 'd': 0, 'c': 10}), pc2 = 26\n",
    "# tgl, pc = 16, registers = defaultdict(<class 'int'>, {'a': 210, 'b': 4, 'd': 0, 'c': 8}), pc2 = 24\n",
    "# pc2 = 24, old_instruction = ['inc', 'c'], instruction = ['dec', 'c']\n",
    "# tgl, pc = 16, registers = defaultdict(<class 'int'>, {'a': 840, 'b': 3, 'd': 0, 'c': 6}), pc2 = 22\n",
    "# pc2 = 22, old_instruction = ['inc', 'd'], instruction = ['dec', 'd']\n",
    "# tgl, pc = 16, registers = defaultdict(<class 'int'>, {'a': 2520, 'b': 2, 'd': 0, 'c': 4}), pc2 = 20\n",
    "# pc2 = 20, old_instruction = ['jnz', '79', 'd'], instruction = ['cpy', '79', 'd']\n",
    "# tgl, pc = 16, registers = defaultdict(<class 'int'>, {'a': 5040, 'b': 1, 'd': 0, 'c': 2}), pc2 = 18\n",
    "# pc2 = 18, old_instruction = ['jnz', '1', 'c'], instruction = ['cpy', '1', 'c']\n",
    "# initial_a = 7, compute(initial_a) = 12071\n",
    "# tgl, pc = 16, registers = defaultdict(<class 'int'>, {'a': 56, 'b': 6, 'd': 0, 'c': 12}), pc2 = 28\n",
    "# tgl, pc = 16, registers = defaultdict(<class 'int'>, {'a': 336, 'b': 5, 'd': 0, 'c': 10}), pc2 = 26\n",
    "# tgl, pc = 16, registers = defaultdict(<class 'int'>, {'a': 1680, 'b': 4, 'd': 0, 'c': 8}), pc2 = 24\n",
    "# pc2 = 24, old_instruction = ['inc', 'c'], instruction = ['dec', 'c']\n",
    "# tgl, pc = 16, registers = defaultdict(<class 'int'>, {'a': 6720, 'b': 3, 'd': 0, 'c': 6}), pc2 = 22\n",
    "# pc2 = 22, old_instruction = ['inc', 'd'], instruction = ['dec', 'd']\n",
    "# tgl, pc = 16, registers = defaultdict(<class 'int'>, {'a': 20160, 'b': 2, 'd': 0, 'c': 4}), pc2 = 20\n",
    "# pc2 = 20, old_instruction = ['jnz', '79', 'd'], instruction = ['cpy', '79', 'd']\n",
    "# tgl, pc = 16, registers = defaultdict(<class 'int'>, {'a': 40320, 'b': 1, 'd': 0, 'c': 2}), pc2 = 18\n",
    "# pc2 = 18, old_instruction = ['jnz', '1', 'c'], instruction = ['cpy', '1', 'c']\n",
    "# initial_a = 8, compute(initial_a) = 47351\n",
    "# tgl, pc = 16, registers = defaultdict(<class 'int'>, {'a': 72, 'b': 7, 'd': 0, 'c': 14}), pc2 = 30\n",
    "# tgl, pc = 16, registers = defaultdict(<class 'int'>, {'a': 504, 'b': 6, 'd': 0, 'c': 12}), pc2 = 28\n",
    "# tgl, pc = 16, registers = defaultdict(<class 'int'>, {'a': 3024, 'b': 5, 'd': 0, 'c': 10}), pc2 = 26\n",
    "# tgl, pc = 16, registers = defaultdict(<class 'int'>, {'a': 15120, 'b': 4, 'd': 0, 'c': 8}), pc2 = 24\n",
    "# pc2 = 24, old_instruction = ['inc', 'c'], instruction = ['dec', 'c']\n",
    "# tgl, pc = 16, registers = defaultdict(<class 'int'>, {'a': 60480, 'b': 3, 'd': 0, 'c': 6}), pc2 = 22\n",
    "# pc2 = 22, old_instruction = ['inc', 'd'], instruction = ['dec', 'd']\n",
    "# tgl, pc = 16, registers = defaultdict(<class 'int'>, {'a': 181440, 'b': 2, 'd': 0, 'c': 4}), pc2 = 20\n",
    "# pc2 = 20, old_instruction = ['jnz', '79', 'd'], instruction = ['cpy', '79', 'd']\n",
    "# tgl, pc = 16, registers = defaultdict(<class 'int'>, {'a': 362880, 'b': 1, 'd': 0, 'c': 2}), pc2 = 18\n",
    "# pc2 = 18, old_instruction = ['jnz', '1', 'c'], instruction = ['cpy', '1', 'c']\n",
    "# initial_a = 9, compute(initial_a) = 369911\n",
    "# <StopExecution>"
   ]
  },
  {
   "cell_type": "markdown",
   "id": "f4ae153d",
   "metadata": {},
   "source": [
    "<a name=\"day24\"></a>\n",
    "## Day 24: Path visiting all maze nodes"
   ]
  },
  {
   "cell_type": "markdown",
   "id": "045f63a8",
   "metadata": {},
   "source": [
    "- Part 1: Given your actual map, and starting from location 0, what is the fewest number of steps required to visit every non-0 number marked on the map at least once?\n",
    "\n",
    "- Part 2: What is the fewest number of steps required to start at 0, visit every non-0 number marked on the map at least once, and then return to 0?"
   ]
  },
  {
   "cell_type": "code",
   "execution_count": 96,
   "id": "d8a0adc7",
   "metadata": {
    "execution": {
     "iopub.execute_input": "2023-04-07T04:35:24.253386Z",
     "iopub.status.busy": "2023-04-07T04:35:24.253041Z",
     "iopub.status.idle": "2023-04-07T04:35:24.271681Z",
     "shell.execute_reply": "2023-04-07T04:35:24.271122Z",
     "shell.execute_reply.started": "2023-04-07T04:35:24.253369Z"
    },
    "tags": []
   },
   "outputs": [
    {
     "data": {
      "text/markdown": [
       "For [day 24](https://adventofcode.com/2016/day/24), `puzzle.input` has 39 lines:"
      ],
      "text/plain": [
       "<IPython.core.display.Markdown object>"
      ]
     },
     "metadata": {},
     "output_type": "display_data"
    },
    {
     "name": "stdout",
     "output_type": "stream",
     "text": [
      "################################################################################ ... ###################################\n",
      "#...#...............#.#...#.#.......#.....#.....#.....#...............#.....#.#. ... ..........#.#...#.....#.....#...#.#\n",
      "#.###.#.###.###.###.#.###.#.###.#####.###.#.#.#.#.#.#.#.#.###.#.#####.#.#.#.#.#. ... #######.###.#.#.#.###.#.###.#.#.#.#\n",
      "#.#...#.....#.....#.#.#...#.#.....#.#.#...#.....#.#.#.....#.............#...#... ... #...#...#...#...#.....#.....#...#.#\n",
      "#.#.###.#.#.#.#.###.#.#.###.#.#####.#.#.#.#.#####.#.#.#.###.#.#.#.#.###.#.#.###. ... #.#.#.#.#.#.#.#.###.#.#.#.###.#.#.#\n",
      "#...........#.#.#...#.#.....#.....#...........#...........#.....#.............#. ... ....#.#.....#.......#...#.....#...#\n",
      "#.###.#.#.#.#.#.#.#.#########.#.#.#.#.#.###.#.#.#####.#.#.#.###.#.###.#########. ... #.#.#.#.#.#.#####.#.#.#.#.###.#.###\n",
      "#...#.....#.....#.#.#.#.................#.#.#...#.......#...#...#.#...........#. ... #...#...#...#.......#...#.....#...#\n",
      " ...\n",
      "#...........#.#...#.........#...#.#.#.#.......#.#.....#...#...#.#.....#...#...#. ... #.#...#...#.#.......#.........#.#.#\n",
      "###.###.#.###.#.###.#.#.#.#.#.#.#.#.#.#.###.#.#.#.#.#.#.###.###.###.###.#.###.#. ... #.#######.#.#.#.#.###.###.#.#.#.#.#\n",
      "#.......#.#.........#...#.#.#.................#.......#...#.....#............... ... ....#...#...#.#...#.......#.....#.#\n",
      "################################################################################ ... ###################################\n"
     ]
    },
    {
     "data": {
      "text/markdown": [
       "The stored answers are: `{1: '448', 2: '672'}`"
      ],
      "text/plain": [
       "<IPython.core.display.Markdown object>"
      ]
     },
     "metadata": {},
     "output_type": "display_data"
    }
   ],
   "source": [
    "puzzle = advent.puzzle(day=24)"
   ]
  },
  {
   "cell_type": "code",
   "execution_count": 97,
   "id": "233fe179",
   "metadata": {
    "execution": {
     "iopub.execute_input": "2023-04-07T04:35:24.272787Z",
     "iopub.status.busy": "2023-04-07T04:35:24.272441Z",
     "iopub.status.idle": "2023-04-07T04:35:24.275478Z",
     "shell.execute_reply": "2023-04-07T04:35:24.274901Z",
     "shell.execute_reply.started": "2023-04-07T04:35:24.272772Z"
    },
    "tags": []
   },
   "outputs": [],
   "source": [
    "s1 = \"\"\"\\\n",
    "###########\n",
    "#0.1.....2#\n",
    "#.#######.#\n",
    "#4.......3#\n",
    "###########\n",
    "\"\"\""
   ]
  },
  {
   "cell_type": "code",
   "execution_count": 98,
   "id": "d6109a8a-f8cd-44fc-99ad-372f18f52011",
   "metadata": {
    "execution": {
     "iopub.execute_input": "2023-04-07T04:35:24.276463Z",
     "iopub.status.busy": "2023-04-07T04:35:24.276190Z",
     "iopub.status.idle": "2023-04-07T04:35:24.468378Z",
     "shell.execute_reply": "2023-04-07T04:35:24.467790Z",
     "shell.execute_reply.started": "2023-04-07T04:35:24.276449Z"
    },
    "tags": []
   },
   "outputs": [
    {
     "name": "stdout",
     "output_type": "stream",
     "text": [
      "(Part 1: 0.103 s)\n",
      "(Part 2: 0.077 s)\n"
     ]
    }
   ],
   "source": [
    "def day24a(s, *, part2=False):  # Find shortest path over all permutations of nodes.\n",
    "  grid = np.array([list(line) for line in s.splitlines()])\n",
    "  num_nodes = np.max(grid[np.char.isdigit(grid)].astype(int)) + 1\n",
    "  node_yx = [tuple(a[0]) for node in range(num_nodes) for a in [np.argwhere(grid == str(node))]]\n",
    "\n",
    "  @functools.cache\n",
    "  def get_distances(node0: int) -> dict[int, int]:\n",
    "    yx = node_yx[node0]\n",
    "    queue = collections.deque([(yx, 0)])\n",
    "    seen = {yx}\n",
    "    distances = {}\n",
    "    while queue:\n",
    "      yx, distance = queue.popleft()\n",
    "      if grid[yx].isdigit():\n",
    "        distances[int(grid[yx])] = distance\n",
    "      for dy, dx in [(1, 0), (-1, 0), (0, 1), (0, -1)]:\n",
    "        yx2 = yx[0] + dy, yx[1] + dx\n",
    "        if grid[yx2] != '#' and yx2 not in seen:\n",
    "          seen.add(yx2)\n",
    "          queue.append((yx2, distance + 1))\n",
    "    return distances\n",
    "\n",
    "  def get_distance(node0: int, node1: int) -> int:\n",
    "    return get_distances(node0)[node1]\n",
    "\n",
    "  def path_distance(path: Iterable[int]) -> int:\n",
    "    return sum(get_distance(node0, node1) for node0, node1 in more_itertools.pairwise(path))\n",
    "\n",
    "  permutations = itertools.permutations(range(1, num_nodes))\n",
    "\n",
    "  if not part2:\n",
    "    return min(path_distance((0,) + path1) for path1 in permutations)\n",
    "\n",
    "  return min(path_distance((0,) + path1 + (0,)) for path1 in permutations)\n",
    "\n",
    "\n",
    "check_eq(day24a(s1), 14)\n",
    "puzzle.verify(1, day24a)\n",
    "\n",
    "day24a_part2 = functools.partial(day24a, part2=True)\n",
    "puzzle.verify(2, day24a_part2)"
   ]
  },
  {
   "cell_type": "code",
   "execution_count": 99,
   "id": "e0b6527d-5877-4919-988b-cd45168ffa79",
   "metadata": {
    "execution": {
     "iopub.execute_input": "2023-04-07T04:35:24.469389Z",
     "iopub.status.busy": "2023-04-07T04:35:24.469105Z",
     "iopub.status.idle": "2023-04-07T04:35:24.620126Z",
     "shell.execute_reply": "2023-04-07T04:35:24.619444Z",
     "shell.execute_reply.started": "2023-04-07T04:35:24.469375Z"
    },
    "tags": []
   },
   "outputs": [
    {
     "name": "stdout",
     "output_type": "stream",
     "text": [
      "(Part 1: 0.071 s)\n",
      "(Part 2: 0.071 s)\n"
     ]
    }
   ],
   "source": [
    "def day24(s, *, part2=False):  # Use Dijkstra where the state includes the set of visited nodes.\n",
    "  grid = np.array([list(line) for line in s.splitlines()])\n",
    "  num_nodes = np.max(grid[np.char.isdigit(grid)].astype(int)) + 1\n",
    "  node_yx = [tuple(a[0]) for node in range(num_nodes) for a in [np.argwhere(grid == str(node))]]\n",
    "\n",
    "  @functools.cache\n",
    "  def get_distances(node0: int) -> dict[int, int]:\n",
    "    yx = node_yx[node0]\n",
    "    queue = collections.deque([(yx, 0)])\n",
    "    seen = {yx}\n",
    "    distances = {}\n",
    "    while queue:\n",
    "      yx, distance = queue.popleft()\n",
    "      if grid[yx].isdigit():\n",
    "        distances[int(grid[yx])] = distance\n",
    "      for dy, dx in [(1, 0), (-1, 0), (0, 1), (0, -1)]:\n",
    "        yx2 = yx[0] + dy, yx[1] + dx\n",
    "        if grid[yx2] != '#' and yx2 not in seen:\n",
    "          seen.add(yx2)\n",
    "          queue.append((yx2, distance + 1))\n",
    "    return distances\n",
    "\n",
    "  def get_distance(node0: int, node1: int) -> int:\n",
    "    return get_distances(node0)[node1]\n",
    "\n",
    "  all_nodes = frozenset(range(1, num_nodes))\n",
    "  state: tuple[int, frozenset[int]] = 0, frozenset()  # node, visited\n",
    "  distances = collections.defaultdict(lambda: sys.maxsize)  # for Dijkstra\n",
    "  distances[state] = 0\n",
    "  priority_queue = [(0, state)]\n",
    "  while priority_queue:\n",
    "    _, state = heapq.heappop(priority_queue)\n",
    "    node, visited = state\n",
    "    distance = distances[state]\n",
    "    if len(visited) == (num_nodes - (0 if part2 else 1)):\n",
    "      return distance\n",
    "    candidates = all_nodes - visited\n",
    "    if part2 and not candidates:\n",
    "      candidates = frozenset({0})  # For Part 2, complete the cycle back to the start node.\n",
    "    for node2 in candidates:\n",
    "      visited2 = visited | {node2}\n",
    "      state2 = node2, visited2\n",
    "      distance2 = distance + get_distance(node, node2)\n",
    "      if distance2 < distances[state2]:\n",
    "        distances[state2] = distance2\n",
    "        heapq.heappush(priority_queue, (distance2, state2))\n",
    "\n",
    "  raise AssertionError\n",
    "\n",
    "\n",
    "check_eq(day24(s1), 14)\n",
    "puzzle.verify(1, day24)\n",
    "\n",
    "day24_part2 = functools.partial(day24, part2=True)\n",
    "puzzle.verify(2, day24_part2)"
   ]
  },
  {
   "cell_type": "markdown",
   "id": "58f8ca79",
   "metadata": {},
   "source": [
    "<a name=\"day25\"></a>\n",
    "## Day 25: Program to generate clock"
   ]
  },
  {
   "cell_type": "markdown",
   "id": "e6b92619",
   "metadata": {},
   "source": [
    "- Part 1: What is the lowest positive integer that can be used to initialize register a and cause the code to output a clock signal of 0, 1, 0, 1... repeating forever?\n",
    "\n",
    "- Part 2: No Part 2 on day 25."
   ]
  },
  {
   "cell_type": "code",
   "execution_count": 100,
   "id": "c1b8caee",
   "metadata": {
    "execution": {
     "iopub.execute_input": "2023-04-07T04:35:24.621305Z",
     "iopub.status.busy": "2023-04-07T04:35:24.620894Z",
     "iopub.status.idle": "2023-04-07T04:35:24.631748Z",
     "shell.execute_reply": "2023-04-07T04:35:24.631081Z",
     "shell.execute_reply.started": "2023-04-07T04:35:24.621287Z"
    },
    "tags": []
   },
   "outputs": [
    {
     "data": {
      "text/markdown": [
       "For [day 25](https://adventofcode.com/2016/day/25), `puzzle.input` has 30 lines:"
      ],
      "text/plain": [
       "<IPython.core.display.Markdown object>"
      ]
     },
     "metadata": {},
     "output_type": "display_data"
    },
    {
     "name": "stdout",
     "output_type": "stream",
     "text": [
      "cpy a d\n",
      "cpy 9 c\n",
      "cpy 282 b\n",
      "inc d\n",
      "dec b\n",
      "jnz b -2\n",
      "dec c\n",
      "jnz c -5\n",
      " ...\n",
      "jnz 0 0\n",
      "out b\n",
      "jnz a -19\n",
      "jnz 1 -21\n"
     ]
    },
    {
     "data": {
      "text/markdown": [
       "The stored answers are: `{1: '192', 2: None}`"
      ],
      "text/plain": [
       "<IPython.core.display.Markdown object>"
      ]
     },
     "metadata": {},
     "output_type": "display_data"
    }
   ],
   "source": [
    "puzzle = advent.puzzle(day=25)"
   ]
  },
  {
   "cell_type": "code",
   "execution_count": 101,
   "id": "daaa614e",
   "metadata": {
    "execution": {
     "iopub.execute_input": "2023-04-07T04:35:24.632742Z",
     "iopub.status.busy": "2023-04-07T04:35:24.632463Z",
     "iopub.status.idle": "2023-04-07T04:35:25.762193Z",
     "shell.execute_reply": "2023-04-07T04:35:25.761638Z",
     "shell.execute_reply.started": "2023-04-07T04:35:24.632729Z"
    },
    "tags": []
   },
   "outputs": [
    {
     "name": "stdout",
     "output_type": "stream",
     "text": [
      "(Part 1: 0.964 s)\n",
      "Obtained result '0'.\n",
      "aocd will not submit that answer again. You've previously guessed 0 and the server responded:\n",
      "\u001b[31mThat's not the right answer.  If you're stuck, make sure you're using the full input data; there are also some general tips on the about page, or you can ask for hints on the subreddit.  Please wait one minute before trying again. (You guessed 47.) [Return to Day 25]\u001b[0m\n",
      "(Part 2: 0.000 s)\n"
     ]
    }
   ],
   "source": [
    "def day25(s):\n",
    "  instructions = [line.split() for line in s.splitlines()]\n",
    "\n",
    "  def desired_output() -> Iterator[int]:\n",
    "    return itertools.cycle([0, 1])\n",
    "\n",
    "  def compute_output(initial_a: int) -> Iterator[int]:\n",
    "    assert initial_a > 0\n",
    "    registers = dict(a=initial_a, b=0, c=0, d=0)\n",
    "    pc = 0\n",
    "\n",
    "    def get_value(src: str) -> int:\n",
    "      return registers[src] if src.isalpha() else int(src)\n",
    "\n",
    "    while True:\n",
    "      match instructions[pc]:\n",
    "        case 'cpy', src, dst:\n",
    "          registers[dst] = get_value(src)\n",
    "        case 'inc', register:\n",
    "          registers[register] += 1\n",
    "        case 'dec', register:\n",
    "          registers[register] -= 1\n",
    "        case 'jnz', predicate, offset:\n",
    "          if get_value(predicate) != 0:\n",
    "            pc += get_value(offset) - 1\n",
    "        case 'out', src:\n",
    "          yield get_value(src)\n",
    "        case x:\n",
    "          raise AssertionError(x)\n",
    "      pc += 1\n",
    "\n",
    "  def equal_prefix(values1: Iterable[int], values2: Iterable[int], length: int) -> bool:\n",
    "    prefix1, prefix2 = itertools.islice(values1, length), itertools.islice(values2, length)\n",
    "    return all(e1 == e2 for e1, e2 in zip(prefix1, prefix2))\n",
    "\n",
    "  if 0:\n",
    "    for initial_a in range(180, 200):\n",
    "      output = itertools.islice(compute_output(initial_a), 30)\n",
    "      s_output = ''.join(str(value) for value in output)\n",
    "      print(f'{initial_a:3} {s_output}')\n",
    "    raise hh.StopExecution\n",
    "\n",
    "  for initial_a in range(1, 2000):\n",
    "    if equal_prefix(compute_output(initial_a), desired_output(), 30):\n",
    "      return initial_a\n",
    "\n",
    "\n",
    "puzzle.verify(1, day25)\n",
    "\n",
    "puzzle.verify(2, lambda s: '')"
   ]
  },
  {
   "cell_type": "code",
   "execution_count": 102,
   "id": "fc2a9f48-cea8-48a3-aafd-b48b505b9cfd",
   "metadata": {
    "execution": {
     "iopub.execute_input": "2023-04-07T04:35:25.763337Z",
     "iopub.status.busy": "2023-04-07T04:35:25.762989Z",
     "iopub.status.idle": "2023-04-07T04:35:25.766047Z",
     "shell.execute_reply": "2023-04-07T04:35:25.765487Z",
     "shell.execute_reply.started": "2023-04-07T04:35:25.763322Z"
    }
   },
   "outputs": [],
   "source": [
    "# You activate all fifty stars and transmit the signal. The star atop the antenna begins to glow.\n",
    "# Suddenly, you see the sleigh fly past you!Looks like Santa was already waiting for your signal.\n",
    "# Congratulations!  You've finished every puzzle in Advent of Code 2016!\n",
    "# I hope you had as much fun solving them as I had making them for you.\n",
    "# I'd love to hear about your adventure; you can get in touch with me via contact info on my website or through Twitter.\n",
    "# If you'd like to see more things like this in the future, please consider supporting Advent of Code and sharing it with others.\n",
    "# To hear about future projects, you can follow me on Twitter.\n",
    "# I've highlighted the easter eggs in each puzzle, just in case you missed any.  Hover your mouse over them, and the easter egg will appear."
   ]
  },
  {
   "cell_type": "markdown",
   "id": "1f72dc26",
   "metadata": {},
   "source": [
    "<a name=\"timings\"></a>\n",
    "## Timings"
   ]
  },
  {
   "cell_type": "code",
   "execution_count": 103,
   "id": "6ba60491",
   "metadata": {
    "execution": {
     "iopub.execute_input": "2023-04-07T04:35:25.766835Z",
     "iopub.status.busy": "2023-04-07T04:35:25.766664Z",
     "iopub.status.idle": "2023-04-07T04:35:25.779614Z",
     "shell.execute_reply": "2023-04-07T04:35:25.778864Z",
     "shell.execute_reply.started": "2023-04-07T04:35:25.766821Z"
    },
    "tags": []
   },
   "outputs": [
    {
     "name": "stdout",
     "output_type": "stream",
     "text": [
      "day_1    part_1: 0.000   part_2: 0.000\n",
      "day_2    part_1: 0.000   part_2: 0.001\n",
      "day_3    part_1: 0.002   part_2: 0.004\n",
      "day_4    part_1: 0.011   part_2: 0.005\n",
      "day_5    part_1: 0.898   part_2: 1.321\n",
      "day_6    part_1: 0.000   part_2: 0.000\n",
      "day_7    part_1: 0.016   part_2: 0.027\n",
      "day_8    part_1: 0.001   part_2: 0.003\n",
      "day_9    part_1: 0.000   part_2: 0.001\n",
      "day_10   part_1: 0.001   part_2: 0.000\n",
      "day_11   part_1: 2.011   part_2:-0.000\n",
      "day_12   part_1: 0.174   part_2: 5.039\n",
      "day_13   part_1: 0.000   part_2: 0.000\n",
      "day_14   part_1: 0.120   part_2: 1.963\n",
      "day_15   part_1: 0.035   part_2: 0.862\n",
      "day_16   part_1: 0.000   part_2: 1.814\n",
      "day_17   part_1: 0.000   part_2: 0.054\n",
      "day_18   part_1: 0.000   part_2: 0.058\n",
      "day_19   part_1: 0.000   part_2: 0.000\n",
      "day_20   part_1: 0.001   part_2: 0.007\n",
      "day_21   part_1: 0.000   part_2: 0.000\n",
      "day_22   part_1: 0.003   part_2: 0.005\n",
      "day_23   part_1: 0.005   part_2: 0.005\n",
      "day_24   part_1: 0.071   part_2: 0.071\n",
      "day_25   part_1: 0.964   part_2: 0.000\n",
      "Total time: 15.553 s\n"
     ]
    }
   ],
   "source": [
    "advent.show_times()"
   ]
  },
  {
   "cell_type": "code",
   "execution_count": 104,
   "id": "10984b69",
   "metadata": {
    "execution": {
     "iopub.execute_input": "2023-04-07T04:35:25.780747Z",
     "iopub.status.busy": "2023-04-07T04:35:25.780536Z",
     "iopub.status.idle": "2023-04-07T04:35:25.789894Z",
     "shell.execute_reply": "2023-04-07T04:35:25.789196Z",
     "shell.execute_reply.started": "2023-04-07T04:35:25.780733Z"
    },
    "tags": []
   },
   "outputs": [],
   "source": [
    "if 0:  # Compute min execution times over several calls.\n",
    "  advent.show_times(recompute=True, repeat=3)"
   ]
  },
  {
   "cell_type": "code",
   "execution_count": 105,
   "id": "2703a2e8",
   "metadata": {
    "execution": {
     "iopub.execute_input": "2023-04-07T04:35:25.791124Z",
     "iopub.status.busy": "2023-04-07T04:35:25.790878Z",
     "iopub.status.idle": "2023-04-07T04:35:25.800588Z",
     "shell.execute_reply": "2023-04-07T04:35:25.799934Z",
     "shell.execute_reply.started": "2023-04-07T04:35:25.791109Z"
    },
    "tags": []
   },
   "outputs": [
    {
     "name": "stdout",
     "output_type": "stream",
     "text": [
      "puzzle s1 s2\n"
     ]
    }
   ],
   "source": [
    "if 1:  # Look for unwanted pollution of namespace.\n",
    "  print(\n",
    "      textwrap.fill(\n",
    "          ' '.join(\n",
    "              name\n",
    "              for name, value in globals().items()\n",
    "              if not (name.startswith(('_', 'day')) or name in _ORIGINAL_GLOBALS)\n",
    "          )\n",
    "      )\n",
    "  )"
   ]
  },
  {
   "cell_type": "code",
   "execution_count": 111,
   "id": "32f6a43c-6d49-440a-9a60-6dfb82a98743",
   "metadata": {
    "execution": {
     "iopub.execute_input": "2023-04-07T04:54:20.291052Z",
     "iopub.status.busy": "2023-04-07T04:54:20.290638Z",
     "iopub.status.idle": "2023-04-07T04:55:24.573751Z",
     "shell.execute_reply": "2023-04-07T04:55:24.573159Z",
     "shell.execute_reply.started": "2023-04-07T04:54:20.291037Z"
    },
    "tags": []
   },
   "outputs": [
    {
     "name": "stdout",
     "output_type": "stream",
     "text": [
      "pyink\n",
      "--- /mnt/c/hh/git/advent_of_code/2016/advent_of_code_2016.py\t2023-04-07 04:53:12.545724 +0000\n",
      "+++ /mnt/c/hh/git/advent_of_code/2016/advent_of_code_2016.py\t2023-04-07 04:54:27.047267 +0000\n",
      "@@ -187,10 +187,11 @@\n",
      " #   2 3 4\n",
      " # 5 6 7 8 9\n",
      " #   A B C\n",
      " #     D\n",
      " \n",
      "+\n",
      " # %%\n",
      " def day2a_part1(s):\n",
      "   y, x = 1, 1\n",
      "   code = ''\n",
      "   for line in s.splitlines():\n",
      "@@ -209,10 +210,11 @@\n",
      "   return code\n",
      " \n",
      " \n",
      " check_eq(day2a_part1(s1), '1985')\n",
      " puzzle.verify(1, day2a_part1)\n",
      "+\n",
      " \n",
      " # %%\n",
      " def day2(s, *, part2=False):\n",
      "   y, x = (2, 0) if part2 else (1, 1)\n",
      "   code = ''\n",
      "@@ -256,20 +258,22 @@\n",
      " \n",
      " \n",
      " # %%\n",
      " # \"In a valid triangle, the sum of any two sides must be larger than the remaining side.\"\n",
      " \n",
      "+\n",
      " # %%\n",
      " def day3a_part1(s):\n",
      "   count = 0\n",
      "   for line in s.splitlines():\n",
      "     values = map(int, line.split())\n",
      "     count += all(a + b > c for a, b, c in itertools.permutations(values))\n",
      "   return count\n",
      " \n",
      " \n",
      " puzzle.verify(1, day3a_part1)\n",
      "+\n",
      " \n",
      " # %%\n",
      " def day3(s, *, part2=False):\n",
      "   grid = np.array([line.split() for line in s.splitlines()], int)\n",
      "   if part2:\n",
      "@@ -302,10 +306,11 @@\n",
      " totally-real-room-200[decoy]\n",
      " \"\"\"\n",
      " \n",
      " s2 = 'qzmt-zixmtkozy-ivhz'\n",
      " # spellcheck=on\n",
      "+\n",
      " \n",
      " # %%\n",
      " def day4(s, *, part2=False):\n",
      "   def decrypt_name(name, n):\n",
      "     return ''.join(\n",
      "@@ -373,10 +378,11 @@\n",
      " # check_eq(day5a_part2('abc'), '05ace8e3')\n",
      " # puzzle.verify(2, day5a_part2)  # ~16.5 s.\n",
      " \n",
      " # %%\n",
      " # Faster multiprocessing solution; also, small speedups using hasher.copy() and digest().\n",
      "+\n",
      " \n",
      " # Multiprocessing requires that this function be pickled, so it must be in top module scope.\n",
      " def day5_find_zero_hashes(s, start, stop):\n",
      "   results = []\n",
      "   hasher = hashlib.md5(s.encode())\n",
      "@@ -457,10 +463,11 @@\n",
      " dvrsen\n",
      " enarar\n",
      " \"\"\"\n",
      " # spellcheck=on\n",
      " \n",
      "+\n",
      " # %%\n",
      " def day6(s, *, part2=False):\n",
      "   lines = s.splitlines()\n",
      "   counters = [collections.Counter(line[i] for line in lines) for i in range(len(lines[0]))]\n",
      "   return ''.join(counter.most_common()[-1 if part2 else 0][0] for counter in counters)\n",
      "@@ -573,10 +580,11 @@\n",
      " rotate column x=1 by 1\n",
      " rotate row y=0 by 4\n",
      " rotate column x=1 by 1\n",
      " \"\"\"\n",
      " \n",
      "+\n",
      " # %%\n",
      " def day8(s, *, part2=False, shape=(6, 50)):\n",
      "   grid = np.full(shape, '.')\n",
      "   for line in s.splitlines():\n",
      "     if 'rect' in line:\n",
      "@@ -678,10 +686,11 @@\n",
      " bot 1 gives low to output 1 and high to bot 0\n",
      " bot 0 gives low to output 2 and high to output 0\n",
      " value 2 goes to bot 2\n",
      " \"\"\"\n",
      " \n",
      "+\n",
      " # %%\n",
      " def day10(s, *, part2=False, values=(17, 61)):\n",
      "   low_high_for_bot: dict[str, tuple[str, str]] = {}\n",
      "   values_for_node: collections.defaultdict[str, set[int]] = collections.defaultdict(set)\n",
      "   queue: collections.deque[tuple[str, int]] = collections.deque()\n",
      "@@ -735,10 +744,11 @@\n",
      " The first floor contains a hydrogen-compatible microchip and a lithium-compatible microchip.\n",
      " The second floor contains a hydrogen generator.\n",
      " The third floor contains a lithium generator.\n",
      " The fourth floor contains nothing relevant.\n",
      " \"\"\"\n",
      "+\n",
      " \n",
      " # %%\n",
      " def day11a(s, *, part2=False):\n",
      "   initial_contents: list[set[str]] = [set() for _ in range(4)]\n",
      "   for floor, line in enumerate(s.splitlines()):\n",
      "@@ -787,10 +797,11 @@\n",
      " puzzle.verify(1, day11a)  # ~5.6 s.\n",
      " \n",
      " day11a_part2 = functools.partial(day11a, part2=True)\n",
      " # (Note that Part 2 applied to sample `s1` has no solution.)\n",
      " # puzzle.verify(2, day11a_part2)  # ~315 s.!\n",
      "+\n",
      " \n",
      " # %%\n",
      " @functools.lru_cache(maxsize=None)  # 1_126 entries for part1; 14_612 for part2.\n",
      " def day11_disallowed(items: frozenset[str]) -> bool:\n",
      "   found_upper, lone_lower = False, False\n",
      "@@ -914,10 +925,11 @@\n",
      " \n",
      " day12a_part2 = functools.partial(day12a, part2=True)\n",
      " # puzzle.verify(2, day12a_part2)  # ~5.5 s.\n",
      "   \"\"\"\n",
      "   )\n",
      "+\n",
      " \n",
      " # %%\n",
      " def day12(s, *, part2=False):  # Disappointingly not much faster.\n",
      "   registers = [0] * 4\n",
      "   if part2:\n",
      "@@ -1104,10 +1116,11 @@\n",
      " \n",
      " day14_part2a = functools.partial(day14a, part2=True)\n",
      " # check_eq(day14a_part2('abc'), 22551)  # ~18 s.\n",
      " # puzzle.verify(2, day14a_part2)  # ~17.4 s\n",
      " \n",
      "+\n",
      " # %%\n",
      " # Faster multiprocessing solution.\n",
      " def day14_get_part2_hash(s: str) -> str:\n",
      "   hash = hashlib.md5(s.encode()).hexdigest()\n",
      "   for _ in range(2016):\n",
      "@@ -1153,10 +1166,11 @@\n",
      " # %%\n",
      " s1 = \"\"\"\\\n",
      " Disc #1 has 5 positions; at time=0, it is at position 4.\n",
      " Disc #2 has 2 positions; at time=0, it is at position 1.\n",
      " \"\"\"\n",
      "+\n",
      " \n",
      " # %%\n",
      " def day15(s, *, part2=False):\n",
      "   @dataclasses.dataclass\n",
      "   class Wheel:\n",
      "@@ -1439,11 +1453,11 @@\n",
      "   # Pattern for function f(n):\n",
      "   # We can always find k such that 3**(k-1) < n <= 3**k.\n",
      "   # If 3**(k-1) < n <= 2 * 3**(k-1), then f(n) = n - 3**(k-1).\n",
      "   # If 2 * 3**(k-1) < n <= 3**k,     then f(n) = n * 2 - 3**k.\n",
      "   k = math.ceil(math.log(n) / math.log(3))\n",
      "-  return n - 3 ** (k - 1) if n <= 2 * 3 ** (k - 1) else n * 2 - 3 ** k\n",
      "+  return n - 3 ** (k - 1) if n <= 2 * 3 ** (k - 1) else n * 2 - 3**k\n",
      " \n",
      " \n",
      " check_eq(day19_part2('5'), 2)\n",
      " puzzle.verify(2, day19_part2)\n",
      " \n",
      "@@ -1463,10 +1477,11 @@\n",
      " s1 = \"\"\"\\\n",
      " 5-8\n",
      " 0-2\n",
      " 4-7\n",
      " \"\"\"\n",
      "+\n",
      " \n",
      " # %%\n",
      " def day20_part1(s):  # Fast search over sorted candidates just below disallowed ranges; O(k^2).\n",
      "   disallowed = [(l, h + 1) for line in s.splitlines() for l, h in [map(int, line.split('-'))]]\n",
      "   candidates = sorted(start - 1 for start, _ in disallowed if start > 0)\n",
      "@@ -1562,10 +1577,11 @@\n",
      " move position 1 to position 4\n",
      " move position 3 to position 0\n",
      " rotate based on position of letter b\n",
      " rotate based on position of letter d\n",
      " \"\"\"\n",
      "+\n",
      " \n",
      " # %%\n",
      " def day21(s, *, initial=None, part2=False, debug=False):\n",
      "   lines = s.splitlines()\n",
      "   initial = initial or ('fbgdceah' if part2 else 'abcdefgh')\n",
      "@@ -1617,11 +1633,11 @@\n",
      "     else:\n",
      "       raise AssertionError(line)\n",
      "     return state\n",
      " \n",
      "   def scramble(state: list[str], lines: list[str], invert: bool) -> list[str]:\n",
      "-    for line in (lines[::-1] if invert else lines):\n",
      "+    for line in lines[::-1] if invert else lines:\n",
      "       if invert and debug:\n",
      "         assert scramble1(scramble1(state.copy(), line, True), line, False) == state, line\n",
      "       state = scramble1(state, line, invert)\n",
      "     return state\n",
      " \n",
      "@@ -1678,11 +1694,13 @@\n",
      "       print(f'size:\\n{size}\\nused:\\n{used}\\navail:\\n{avail}')\n",
      " \n",
      "   if not part2:\n",
      "     if 0:  # Slow.\n",
      "       return sum(\n",
      "-          1 for x0, y0 in np.ndindex(shape) for x1, y1 in np.ndindex(shape)\n",
      "+          1\n",
      "+          for x0, y0 in np.ndindex(shape)\n",
      "+          for x1, y1 in np.ndindex(shape)\n",
      "           if (x0 != x1 or y0 != y1) and used[x0, y0] > 0 and used[x0, y0] <= avail[x1, y1]\n",
      "       )\n",
      "     return used.size - 1 - large.sum()\n",
      " \n",
      "   # I initially solved Part 2 using paper and pencil!\n",
      "@@ -1733,13 +1751,13 @@\n",
      " cpy 1 a\n",
      " dec a\n",
      " dec a\n",
      " \"\"\"\n",
      " \n",
      "+\n",
      " # %%\n",
      " def day23(s, *, part2=False, debug=False):\n",
      "-\n",
      "   def compute(initial_a: int) -> int:\n",
      "     instructions = [line.split() for line in s.splitlines()]\n",
      "     registers = collections.defaultdict(int)\n",
      "     registers['a'] = initial_a\n",
      "     pc = 0\n",
      "@@ -1768,23 +1786,28 @@\n",
      "             hh.show('tgl', pc, registers, pc2)\n",
      "           if 0 <= pc2 < len(instructions):\n",
      "             instruction = instructions[pc2]\n",
      "             old_instruction = instruction.copy()\n",
      "             match instruction:\n",
      "-              case 'inc', _: instruction[0] = 'dec'\n",
      "-              case _, _: instruction[0] = 'inc'\n",
      "-              case 'jnz', _, _: instruction[0] = 'cpy'\n",
      "-              case _, _, _: instruction[0] = 'jnz'\n",
      "+              case 'inc', _:\n",
      "+                instruction[0] = 'dec'\n",
      "+              case _, _:\n",
      "+                instruction[0] = 'inc'\n",
      "+              case 'jnz', _, _:\n",
      "+                instruction[0] = 'cpy'\n",
      "+              case _, _, _:\n",
      "+                instruction[0] = 'jnz'\n",
      "             if debug:\n",
      "               hh.show(pc2, old_instruction, instruction)\n",
      "           if registers['b'] > 1 and not debug:  # Multiplication optimization.\n",
      "             check_eq(pc, 16)\n",
      "             registers['a'] *= registers['b']\n",
      "             registers['b'] -= 1\n",
      "             registers['c'] -= 2\n",
      "             pc -= 1\n",
      "-        case x: raise AssertionError(x)\n",
      "+        case x:\n",
      "+          raise AssertionError(x)\n",
      "       pc += 1\n",
      " \n",
      "     assert set(registers) <= set('abcd')\n",
      "     return registers['a']\n",
      " \n",
      "@@ -1870,10 +1893,11 @@\n",
      " #.#######.#\n",
      " #4.......3#\n",
      " ###########\n",
      " \"\"\"\n",
      " \n",
      "+\n",
      " # %%\n",
      " def day24a(s, *, part2=False):  # Find shortest path over all permutations of nodes.\n",
      "   grid = np.array([list(line) for line in s.splitlines()])\n",
      "   num_nodes = np.max(grid[np.char.isdigit(grid)].astype(int)) + 1\n",
      "   node_yx = [tuple(a[0]) for node in range(num_nodes) for a in [np.argwhere(grid == str(node))]]\n",
      "@@ -2001,18 +2025,23 @@\n",
      "     def get_value(src):\n",
      "       return registers[src] if src.isalpha() else int(src)\n",
      " \n",
      "     while True:\n",
      "       match instructions[pc]:\n",
      "-        case 'cpy', src, dst: registers[dst] = get_value(src)\n",
      "-        case 'inc', register: registers[register] += 1\n",
      "-        case 'dec', register: registers[register] -= 1\n",
      "+        case 'cpy', src, dst:\n",
      "+          registers[dst] = get_value(src)\n",
      "+        case 'inc', register:\n",
      "+          registers[register] += 1\n",
      "+        case 'dec', register:\n",
      "+          registers[register] -= 1\n",
      "         case 'jnz', predicate, offset:\n",
      "           if get_value(predicate) != 0:\n",
      "             pc += get_value(offset) - 1\n",
      "-        case 'out', src: yield get_value(src)\n",
      "-        case x: raise AssertionError(x)\n",
      "+        case 'out', src:\n",
      "+          yield get_value(src)\n",
      "+        case x:\n",
      "+          raise AssertionError(x)\n",
      "       pc += 1\n",
      " \n",
      "   def equal_prefix(values1: Iterable[int], values2: Iterable[int], length: int) -> bool:\n",
      "     prefix1, prefix2 = itertools.islice(values1, length), itertools.islice(values2, length)\n",
      "     return all(e1 == e2 for e1, e2 in zip(prefix1, prefix2))\n",
      "would reformat /mnt/c/hh/git/advent_of_code/2016/advent_of_code_2016.py\n",
      "\n",
      "All done! ✨ 🍰 ✨\n",
      "1 file would be reformatted.\n",
      "autopep8\n",
      "mypy\n",
      "advent_of_code_2016.py:1907: \u001b[1m\u001b[31merror:\u001b[m Argument 1 to \u001b[m\u001b[1m\"path_distance\"\u001b[m has incompatible type \u001b[m\u001b[1m\"Tuple[int, ...]\"\u001b[m; expected \u001b[m\u001b[1m\"List[int]\"\u001b[m  \u001b[m\u001b[33m[arg-type]\u001b[m\n",
      "advent_of_code_2016.py:1909: \u001b[1m\u001b[31merror:\u001b[m Argument 1 to \u001b[m\u001b[1m\"path_distance\"\u001b[m has incompatible type \u001b[m\u001b[1m\"Tuple[int, ...]\"\u001b[m; expected \u001b[m\u001b[1m\"List[int]\"\u001b[m  \u001b[m\u001b[33m[arg-type]\u001b[m\n",
      "advent_of_code_2016.py:1946: \u001b[1m\u001b[31merror:\u001b[m Need type annotation for \u001b[m\u001b[1m\"state\"\u001b[m  \u001b[m\u001b[33m[var-annotated]\u001b[m\n",
      "advent_of_code_2016.py:1958: \u001b[1m\u001b[31merror:\u001b[m Incompatible types in assignment (expression has type \u001b[m\u001b[1m\"Set[int]\"\u001b[m, variable has type \u001b[m\u001b[1m\"FrozenSet[int]\"\u001b[m)  \u001b[m\u001b[33m[assignment]\u001b[m\n",
      "advent_of_code_2016.py:2016: \u001b[1m\u001b[31merror:\u001b[m Name \u001b[m\u001b[1m\"Iterable\"\u001b[m is not defined  \u001b[m\u001b[33m[name-defined]\u001b[m\n",
      "advent_of_code_2016.py:2016: \u001b[34mnote:\u001b[m Did you forget to import it from \u001b[m\u001b[1m\"typing\"\u001b[m? (Suggestion: \u001b[m\u001b[1m\"from typing import Iterable\"\u001b[m)\u001b[m\n",
      "\u001b[1m\u001b[31mFound 5 errors in 1 file (checked 1 source file)\u001b[m\n",
      "pylint\n",
      "************* Module advent_of_code_2016\n",
      "advent_of_code_2016.py:1203:28: W0613: Unused argument 'part2' (unused-argument)\n",
      "advent_of_code_2016.py:1375:23: W0613: Unused argument 'part2' (unused-argument)\n",
      "advent_of_code_2016.py:1412:23: W0613: Unused argument 'part2' (unused-argument)\n",
      "advent_of_code_2016.py:1524:15: R1704: Redefining argument with the local name 'stop' (redefined-argument-from-local)\n",
      "advent_of_code_2016.py:1998:16: R1735: Consider using '{\"a\": initial_a, \"b\": 0, \"c\": 0, \"d\": 0}' instead of a call to 'dict'. (use-dict-literal)\n",
      "advent_of_code_2016.py:2016:28: E0602: Undefined variable 'Iterable' (undefined-variable)\n",
      "advent_of_code_2016.py:2016:52: E0602: Undefined variable 'Iterable' (undefined-variable)\n",
      "All ran.\n"
     ]
    }
   ],
   "source": [
    "if 1:  # Lint.\n",
    "  hh.run('echo pyink; pyink --diff .')\n",
    "  hh.run('echo autopep8; autopep8 -j8 -d .')\n",
    "  hh.run('echo mypy; mypy . || true')\n",
    "  hh.run('echo pylint; pylint -j8 . || true')\n",
    "  print('All ran.')"
   ]
  },
  {
   "cell_type": "code",
   "execution_count": 108,
   "id": "c9c34d45",
   "metadata": {
    "execution": {
     "iopub.execute_input": "2023-04-07T04:35:25.821821Z",
     "iopub.status.busy": "2023-04-07T04:35:25.821299Z",
     "iopub.status.idle": "2023-04-07T04:35:25.830525Z",
     "shell.execute_reply": "2023-04-07T04:35:25.829925Z",
     "shell.execute_reply.started": "2023-04-07T04:35:25.821798Z"
    }
   },
   "outputs": [
    {
     "name": "stdout",
     "output_type": "stream",
     "text": [
      "# Total time: 26.28 s\n",
      "# In[ 47] def day11a(s, *, part2=False):\\n  initial_contents: list[    5.590 s\n",
      "# In[ 55] def day12(s, *, part2=False):  # Disappointingly not much    5.216 s\n",
      "# In[ 29] # Faster multiprocessing solution; also, small speedups      2.228 s\n",
      "# In[ 49] def day11(s, *, part2=False):  # Slightly faster.\\n          2.025 s\n",
      "# In[ 62] # Faster multiprocessing solution.\\ndef day14_get_part2_     1.965 s\n",
      "# In[ 67] def day16(s, *, length=272, part2=False):\\n  complement_     1.817 s\n",
      "# In[ 72] def day18b(s, *, num_rows=40):  # Using numpy.\\n  state =    1.393 s\n",
      "# In[  8] # (2) If URL is not found, we may try adventofcode.com       1.314 s\n",
      "# In[101] def day25(s):\\n  instructions = [line.split() for line in    1.125 s\n",
      "# In[ 65] def day15(s, *, part2=False):\\n  @dataclasses.dataclass\\n    0.905 s\n",
      "# In[ 73] @numba.njit  # Using numba; 1000x speedup.\\ndef day18_       0.409 s\n",
      "# In[ 61] def day14a(s, *, part2=False):\\n  def get_hash(index: int)   0.300 s\n",
      "# In[ 75] def day19a_part1(s, *, part2=False):\\n  n = int(s)\\n         0.286 s\n",
      "# In[ 69] def day17(s, *, part2=False):\\n  door_map = [(-1, 0, 'U'),   0.272 s\n",
      "# In[ 84] def day20b_part2(s, *, stop=2**32):  # Binary subdivision;   0.239 s\n",
      "# In[ 54] if sys.version_info >= (3, 10):  # Using match/case.\\n  #    0.194 s\n",
      "# In[ 98] def day24a(s, *, part2=False):  # Find shortest path over    0.187 s\n",
      "# In[ 99] def day24(s, *, part2=False):  # Use Dijkstra where the      0.146 s\n",
      "# In[ 35] def day7_part2(s):\\n  def is_valid(s2):\\n    found_inside =  0.033 s\n",
      "# In[ 58] _ = day13(puzzle.input, visualize=True)\\n_ = day13_part2(    0.024 s\n"
     ]
    }
   ],
   "source": [
    "hh.show_notebook_cell_top_times()"
   ]
  },
  {
   "cell_type": "markdown",
   "id": "28fe83d2",
   "metadata": {},
   "source": [
    "# End"
   ]
  },
  {
   "cell_type": "code",
   "execution_count": 109,
   "id": "204052de-1240-4068-8278-fb580d174e8d",
   "metadata": {
    "execution": {
     "iopub.execute_input": "2023-04-07T04:35:25.831623Z",
     "iopub.status.busy": "2023-04-07T04:35:25.831269Z",
     "iopub.status.idle": "2023-04-07T04:35:25.840674Z",
     "shell.execute_reply": "2023-04-07T04:35:25.840017Z",
     "shell.execute_reply.started": "2023-04-07T04:35:25.831604Z"
    },
    "tags": []
   },
   "outputs": [],
   "source": [
    "# # Multiprocessing; hasher.copy(); digest().\n",
    "\n",
    "# def day5_find_zero_hashes(s: str, start: int, stop: int) -> list[int]:\n",
    "#   # Pool requires that this function be pickled, so it must be in global module scope.\n",
    "#   if 0:  # ~15% slower.\n",
    "#     return [index for index in range(start, stop)\n",
    "#             if hashlib.md5((s + str(index)).encode()).hexdigest()[:5] == '00000']\n",
    "#   results = []\n",
    "#   hasher = hashlib.md5(s.encode())\n",
    "#   for index in range(start, stop):\n",
    "#     hasher2 = hasher.copy()\n",
    "#     hasher2.update(str(index).encode())\n",
    "#     digest = hasher2.digest()\n",
    "#     if digest[:2] == b'\\0\\0' and digest.hex()[4] == '0':\n",
    "#       results.append(index)\n",
    "#   return results\n",
    "\n",
    "\n",
    "# def day5_multiprocessing_generator(s: str, part2: bool) -> Iterator[int]:\n",
    "#   group_size = 2_000_000 if part2 else 500_000\n",
    "#   with multiprocessing.Pool() as pool:\n",
    "#     for base in itertools.count(0, group_size):\n",
    "#       chunk_size = group_size // multiprocessing.cpu_count() + 1\n",
    "#       args = []\n",
    "#       start, group_stop = base, base + group_size\n",
    "#       while start < group_stop:\n",
    "#         stop = min(start + chunk_size, group_stop)\n",
    "#         args.append((s, start, stop))\n",
    "#         start = stop\n",
    "#       results = pool.starmap(day5_find_zero_hashes, args)\n",
    "#       yield from more_itertools.flatten(results)\n",
    "\n",
    "\n",
    "# def day5_evaluator(s: str, part2: bool, generator: Callable[[int, bool], Iterator[int]]) -> str:\n",
    "#   password = ['_'] * 8 if part2 else []\n",
    "#   for index in generator(s, part2):\n",
    "#     hashed = hashlib.md5((s + str(index)).encode()).hexdigest()\n",
    "#     check_eq(hashed[:5], '00000')\n",
    "#     if part2:\n",
    "#       position = int(hashed[5], 16)\n",
    "#       if position < 8 and password[position] == '_':\n",
    "#         password[position] = hashed[6]\n",
    "#         if '_' not in password:\n",
    "#           return ''.join(password)\n",
    "#     else:\n",
    "#       password.append(hashed[5])\n",
    "#       if len(password) == 8:\n",
    "#         return ''.join(password)\n",
    "\n",
    "# def day5(s, part2=False):\n",
    "#   return day5_evaluator(s, part2, day5_multiprocessing_generator)\n",
    "\n",
    "\n",
    "# # check_eq(day5('abc'), '18f47a30')\n",
    "# puzzle.verify(1, day5)  # ~0.5 s.\n",
    "\n",
    "# day5_part2 = functools.partial(day5, part2=True)\n",
    "# # check_eq(day5_part2('abc'), '05ace8e3')\n",
    "# puzzle.verify(2, day5_part2)  # ~1.25 s."
   ]
  },
  {
   "cell_type": "markdown",
   "id": "cbdb45a1",
   "metadata": {},
   "source": [
    "<!-- For Emacs:\n",
    "Local Variables:\n",
    "fill-column: 100\n",
    "End:\n",
    "-->"
   ]
  }
 ],
 "metadata": {
  "colab": {
   "collapsed_sections": [],
   "provenance": [],
   "toc_visible": true
  },
  "jupytext": {
   "cell_metadata_filter": "-all",
   "formats": "ipynb,py:percent",
   "main_language": "python",
   "notebook_metadata_filter": "-all"
  },
  "kernelspec": {
   "display_name": "Python 3 (ipykernel)",
   "language": "python",
   "name": "python3"
  },
  "language_info": {
   "codemirror_mode": {
    "name": "ipython",
    "version": 3
   },
   "file_extension": ".py",
   "mimetype": "text/x-python",
   "name": "python",
   "nbconvert_exporter": "python",
   "pygments_lexer": "ipython3",
   "version": "3.10.6"
  }
 },
 "nbformat": 4,
 "nbformat_minor": 5
}
